{
 "cells": [
  {
   "cell_type": "code",
   "execution_count": null,
   "metadata": {},
   "outputs": [],
   "source": [
    "import tensorflow as tf # Default graph is initialized when the library is imported\n",
    "import os\n",
    "from tensorflow.python.platform import gfile\n",
    "from PIL import Image\n",
    "import numpy as np\n",
    "import scipy\n",
    "from scipy import misc\n",
    "import matplotlib.pyplot as plt\n",
    "import cv2\n",
    "from time import time"
   ]
  },
  {
   "cell_type": "code",
   "execution_count": null,
   "metadata": {},
   "outputs": [],
   "source": [
    "proto_path = '/root/data/models/keypoints_detection/2019_05_02_17_19_32/weights/test.pb'"
   ]
  },
  {
   "cell_type": "markdown",
   "metadata": {},
   "source": [
    "looks at this too \n",
    "* https://github.com/MarvinTeichmann/KittiSeg/blob/master/demo.py"
   ]
  },
  {
   "cell_type": "code",
   "execution_count": null,
   "metadata": {},
   "outputs": [],
   "source": [
    "os.environ[\"CUDA_VISIBLE_DEVICES\"] = \"\""
   ]
  },
  {
   "cell_type": "markdown",
   "metadata": {},
   "source": [
    "## Solution 0"
   ]
  },
  {
   "cell_type": "code",
   "execution_count": null,
   "metadata": {},
   "outputs": [],
   "source": [
    "with tf.Graph().as_default() as graph: # Set default graph as graph\n",
    "\n",
    "    with tf.Session() as sess:\n",
    "        # Load the graph in graph_def\n",
    "        print(\"load graph\")\n",
    "\n",
    "        # We load the protobuf file from the disk and parse it to retrive the unserialized graph_drf\n",
    "        with gfile.FastGFile(proto_path,'rb') as f:\n",
    "\n",
    "            print(\"Load Image...\")\n",
    "            # Read the image & get statstics\n",
    "            image = cv2.imread('/root/data/bati/images/23/4/2019-04-16/left_frame_crop_1006_793_2674_13851555410095.jpg')\n",
    "            image = cv2.resize(image, (512, 512))\n",
    "            image = np.expand_dims(image, axis=0)\n",
    "            # image = image.astype(float)\n",
    "            Input_image_shape=image.shape\n",
    "            # height,width,channels = Input_image_shape\n",
    "\n",
    "            print(\"Plot image...\")\n",
    "            #scipy.misc.imshow(image)\n",
    "\n",
    "            # Set FCN graph to the default graph\n",
    "            graph_def = tf.GraphDef()\n",
    "            graph_def.ParseFromString(f.read())\n",
    "            sess.graph.as_default()\n",
    "\n",
    "            # Import a graph_def into the current default Graph (In this case, the weights are (typically) embedded in the graph)\n",
    "\n",
    "            tf.import_graph_def(\n",
    "            graph_def,\n",
    "            input_map=None,\n",
    "            return_elements=None,\n",
    "            name=\"\",\n",
    "            op_dict=None,\n",
    "            producer_op_list=None\n",
    "            )\n",
    "\n",
    "            # Print the name of operations in the session\n",
    "#             for op in graph.get_operations():\n",
    "#                     print(\"Operation Name :\",op.name)         # Operation name\n",
    "#                     print(\"Tensor Stats :\",str(op.values()))     # Tensor name\n",
    "\n",
    "            # INFERENCE Here\n",
    "            l_input = graph.get_tensor_by_name('input_placeholder:0') # Input Tensor\n",
    "            l_output = graph.get_tensor_by_name('stage_3/mid_conv7/BiasAdd:0') # Output Tensor\n",
    "\n",
    "            print(\"Shape of input : \", tf.shape(l_input))\n",
    "            #initialize_all_variables\n",
    "            tf.global_variables_initializer()\n",
    "\n",
    "            # Run Kitty model on single image\n",
    "            start = time()\n",
    "            Session_out = sess.run( l_output, feed_dict = {l_input : image} )\n",
    "            end = time()\n",
    "            print('Inference speed: {}'.format(end-start))"
   ]
  },
  {
   "cell_type": "code",
   "execution_count": null,
   "metadata": {},
   "outputs": [],
   "source": [
    "image.shape"
   ]
  },
  {
   "cell_type": "markdown",
   "metadata": {},
   "source": [
    "## Solution 1"
   ]
  },
  {
   "cell_type": "code",
   "execution_count": null,
   "metadata": {},
   "outputs": [],
   "source": [
    "def load_graph(frozen_graph_filename):\n",
    "    # We load the protobuf file from the disk and parse it to retrieve the \n",
    "    # unserialized graph_def\n",
    "    with tf.gfile.GFile(frozen_graph_filename, \"rb\") as f:\n",
    "        graph_def = tf.GraphDef()\n",
    "        graph_def.ParseFromString(f.read())\n",
    "\n",
    "    # Then, we import the graph_def into a new Graph and returns it \n",
    "    with tf.Graph().as_default() as graph:\n",
    "        # The name var will prefix every op/nodes in your graph\n",
    "        # Since we load everything in a new graph, this is not needed\n",
    "        tf.import_graph_def(\n",
    "            graph_def,\n",
    "            input_map=None,\n",
    "            return_elements=None,\n",
    "            name=\"\",\n",
    "            op_dict=None,\n",
    "            producer_op_list=None\n",
    "            )\n",
    "    return graph"
   ]
  },
  {
   "cell_type": "code",
   "execution_count": null,
   "metadata": {},
   "outputs": [],
   "source": [
    "graph = load_graph(proto_path)\n",
    "l_input = graph.get_tensor_by_name('input_placeholder:0') # Input Tensor\n",
    "l_output = graph.get_tensor_by_name('stage_3/mid_conv7/BiasAdd:0') # Output Tensor"
   ]
  },
  {
   "cell_type": "code",
   "execution_count": null,
   "metadata": {},
   "outputs": [],
   "source": [
    "for op in graph.get_operations():\n",
    "    print(\"Tensor Stats :\",str(op.values()))\n",
    "    break# Tensor name"
   ]
  },
  {
   "cell_type": "code",
   "execution_count": null,
   "metadata": {},
   "outputs": [],
   "source": [
    "with tf.Session(graph=graph) as sess:\n",
    "    tf.global_variables_initializer()\n",
    "    Session_out = sess.run( l_output, feed_dict = {l_input : image} )\n",
    "    print(Session_out.shape)"
   ]
  },
  {
   "cell_type": "code",
   "execution_count": null,
   "metadata": {},
   "outputs": [],
   "source": []
  }
 ],
 "metadata": {
  "kernelspec": {
   "display_name": "Python 3",
   "language": "python",
   "name": "python3"
  },
  "language_info": {
   "codemirror_mode": {
    "name": "ipython",
    "version": 3
   },
   "file_extension": ".py",
   "mimetype": "text/x-python",
   "name": "python",
   "nbconvert_exporter": "python",
   "pygments_lexer": "ipython3",
   "version": "3.5.2"
  }
 },
 "nbformat": 4,
 "nbformat_minor": 2
}
