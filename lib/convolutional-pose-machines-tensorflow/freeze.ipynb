{
 "cells": [
  {
   "cell_type": "code",
   "execution_count": null,
   "metadata": {},
   "outputs": [],
   "source": [
    "import tensorflow as tf\n",
    "import os\n",
    "from tensorflow.python.tools.freeze_graph import freeze_graph\n",
    "\n",
    "from config import FLAGS\n"
   ]
  },
  {
   "cell_type": "code",
   "execution_count": null,
   "metadata": {},
   "outputs": [],
   "source": [
    "os.environ[\"CUDA_VISIBLE_DEVICES\"] = \"3\""
   ]
  },
  {
   "cell_type": "code",
   "execution_count": null,
   "metadata": {},
   "outputs": [],
   "source": [
    "class FLAGS(object):\n",
    "    network_def = 'fish_test'\n",
    "    input_size = (512, 512)\n",
    "    heatmap_size = 64    \n",
    "    num_of_joints = 8\n",
    "    init_lr = 0.001\n",
    "    lr_decay_rate = 0.5\n",
    "    lr_decay_step = 10000\n",
    "    \n",
    "    output_node_names = 'stage_3/mid_conv7/BiasAdd'\n",
    "    \n",
    "    gradient_clipping = True # gradient clipping\n",
    "\n",
    "    "
   ]
  },
  {
   "cell_type": "code",
   "execution_count": null,
   "metadata": {},
   "outputs": [],
   "source": [
    "model_path = '/root/data/models/keypoints_detection/2019_05_02_17_19_32/weights/fish_test-0'\n",
    "\n",
    "# Load graph and dump to protobuf\n",
    "meta_graph = tf.train.import_meta_graph(model_path + '.meta')\n",
    "tf.train.write_graph(tf.get_default_graph(), 'frozen_models/', 'graph_proto.pb')\n",
    "\n",
    "output_graph_path = os.path.join(os.path.dirname(model_path), 'test.pb')\n",
    "freeze_graph(input_graph='frozen_models/graph_proto.pb',\n",
    "             input_saver='',\n",
    "             input_checkpoint=model_path,\n",
    "             output_graph=output_graph_path,\n",
    "             output_node_names=FLAGS.output_node_names,\n",
    "             restore_op_name='save/restore_all',\n",
    "             clear_devices=True,\n",
    "             initializer_nodes='',\n",
    "             variable_names_blacklist='',\n",
    "             input_binary=False,\n",
    "             filename_tensor_name='save/Const:0')"
   ]
  },
  {
   "cell_type": "code",
   "execution_count": null,
   "metadata": {},
   "outputs": [],
   "source": []
  },
  {
   "cell_type": "code",
   "execution_count": null,
   "metadata": {},
   "outputs": [],
   "source": []
  },
  {
   "cell_type": "code",
   "execution_count": null,
   "metadata": {},
   "outputs": [],
   "source": []
  }
 ],
 "metadata": {
  "kernelspec": {
   "display_name": "Python 3",
   "language": "python",
   "name": "python3"
  },
  "language_info": {
   "codemirror_mode": {
    "name": "ipython",
    "version": 3
   },
   "file_extension": ".py",
   "mimetype": "text/x-python",
   "name": "python",
   "nbconvert_exporter": "python",
   "pygments_lexer": "ipython3",
   "version": "3.5.2"
  }
 },
 "nbformat": 4,
 "nbformat_minor": 2
}
