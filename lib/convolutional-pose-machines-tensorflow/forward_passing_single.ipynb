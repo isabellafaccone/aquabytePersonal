{
 "cells": [
  {
   "cell_type": "code",
   "execution_count": null,
   "metadata": {},
   "outputs": [],
   "source": [
    "!nvidia-smi"
   ]
  },
  {
   "cell_type": "code",
   "execution_count": null,
   "metadata": {},
   "outputs": [],
   "source": [
    "%load_ext autoreload\n",
    "%autoreload 2"
   ]
  },
  {
   "cell_type": "code",
   "execution_count": null,
   "metadata": {},
   "outputs": [],
   "source": [
    "import json"
   ]
  },
  {
   "cell_type": "code",
   "execution_count": null,
   "metadata": {},
   "outputs": [],
   "source": [
    "config_path = '/root/data/models/keypoints_detection/2019_03_27_22_28_27/config.json' \n",
    "checkpoint_path = '/root/data/models/keypoints_detection/2019_03_27_22_28_27/weights/fish_test-49'"
   ]
  },
  {
   "cell_type": "code",
   "execution_count": null,
   "metadata": {
    "scrolled": true
   },
   "outputs": [],
   "source": [
    "config = json.load(open(config_path))\n",
    "config"
   ]
  },
  {
   "cell_type": "code",
   "execution_count": null,
   "metadata": {},
   "outputs": [],
   "source": [
    "class FLAGS(object):\n",
    "    \"\"\" \"\"\"\n",
    "    \"\"\"\n",
    "    General settings\n",
    "    \"\"\"\n",
    "    input_size = tuple(config[\"input_size\"])\n",
    "    stages = 3\n",
    "    joints = 8\n",
    "    model_path = checkpoint_path\n",
    "    cmap_radius = 21\n",
    "    batch_size = 1\n",
    "    keypoints_order = [\"TAIL_NOTCH\",\n",
    "                    \"ADIPOSE_FIN\",\n",
    "                    \"UPPER_LIP\",\n",
    "                    \"ANAL_FIN\",\n",
    "                    \"PELVIC_FIN\",\n",
    "                    \"EYE\",\n",
    "                    \"PECTORAL_FIN\",\n",
    "                    \"DORSAL_FIN\"]\n",
    "    normalize = True\n",
    "    heatmap_size = config[\"heatmap_size\"]\n",
    "    joint_gaussian_variance = 1.0\n",
    "    augmentation = None"
   ]
  },
  {
   "cell_type": "markdown",
   "metadata": {},
   "source": [
    "## LOAD MODEL"
   ]
  },
  {
   "cell_type": "code",
   "execution_count": null,
   "metadata": {},
   "outputs": [],
   "source": [
    "import tensorflow as tf\n",
    "import importlib\n",
    "from models.nets import fish_test\n",
    "from utils import cpm_utils\n",
    "import numpy as np"
   ]
  },
  {
   "cell_type": "code",
   "execution_count": null,
   "metadata": {},
   "outputs": [],
   "source": [
    "from tensorflow.python import pywrap_tensorflow\n",
    "from tensorflow.python.tools.inspect_checkpoint import print_tensors_in_checkpoint_file"
   ]
  },
  {
   "cell_type": "code",
   "execution_count": null,
   "metadata": {},
   "outputs": [],
   "source": [
    "# print_tensors_in_checkpoint_file(checkpoint_path, \"\", False,\n",
    "#                                      all_tensor_names=True)"
   ]
  },
  {
   "cell_type": "code",
   "execution_count": null,
   "metadata": {},
   "outputs": [],
   "source": [
    "# reader = pywrap_tensorflow.NewCheckpointReader(checkpoint_path)\n",
    "# var_to_shape_map = reader.get_variable_to_shape_map()\n",
    "# for key in sorted(var_to_shape_map):\n",
    "#     print(\"tensor_name: \", key, reader.get_tensor(key).shape)"
   ]
  },
  {
   "cell_type": "code",
   "execution_count": null,
   "metadata": {},
   "outputs": [],
   "source": [
    "import os\n",
    "os.environ[\"CUDA_VISIBLE_DEVICES\"]=\"2\"\n",
    "tf_device = '/gpu:0'\n",
    "with tf.device(tf_device):\n",
    "    model = fish_test.CPM_Model(FLAGS.input_size, 2, FLAGS.stages, FLAGS.joints)"
   ]
  },
  {
   "cell_type": "markdown",
   "metadata": {},
   "source": [
    "Restore weights"
   ]
  },
  {
   "cell_type": "code",
   "execution_count": null,
   "metadata": {},
   "outputs": [],
   "source": [
    "saver = tf.train.Saver()\n",
    "sess = tf.Session()\n",
    "\n",
    "sess.run(tf.global_variables_initializer())\n",
    "saver.restore(sess, FLAGS.model_path)"
   ]
  },
  {
   "cell_type": "code",
   "execution_count": null,
   "metadata": {},
   "outputs": [],
   "source": [
    "test_center_map = cpm_utils.gaussian_img(FLAGS.input_size[0],\n",
    "                                         FLAGS.input_size[0], \n",
    "                                         FLAGS.input_size[0] / 2,\n",
    "                                         FLAGS.input_size[0] / 2,\n",
    "                                         FLAGS.cmap_radius)\n",
    "test_center_map = np.reshape(test_center_map, [1, FLAGS.input_size[0], FLAGS.input_size[0], 1])"
   ]
  },
  {
   "cell_type": "markdown",
   "metadata": {},
   "source": [
    "Data generator"
   ]
  },
  {
   "cell_type": "code",
   "execution_count": null,
   "metadata": {},
   "outputs": [],
   "source": [
    "import glob\n",
    "import json\n",
    "import random\n",
    "import matplotlib.pyplot as plt\n",
    "import cv2\n",
    "from utils.utils import DataGenerator, load_image_keypoints"
   ]
  },
  {
   "cell_type": "code",
   "execution_count": null,
   "metadata": {},
   "outputs": [],
   "source": [
    "random.seed(258)"
   ]
  },
  {
   "cell_type": "code",
   "execution_count": null,
   "metadata": {},
   "outputs": [],
   "source": [
    "annotations = glob.glob(\"/root/data/gtsf_phase_I/*/*_cogito_annotations.json\")\n",
    "print(\"Total number of gtsf sessions: {}\".format(len(annotations)))"
   ]
  },
  {
   "cell_type": "code",
   "execution_count": null,
   "metadata": {},
   "outputs": [],
   "source": [
    "cutoff = int(len(annotations)*0.8)\n",
    "random.shuffle(annotations)\n",
    "train_files = annotations[:cutoff]\n",
    "val_files = annotations[cutoff:]\n",
    "print(\"Number of train files: {}\".format(len(train_files)))\n",
    "print(\"Number of validation files: {}\".format(len(val_files)))"
   ]
  },
  {
   "cell_type": "code",
   "execution_count": null,
   "metadata": {},
   "outputs": [],
   "source": [
    "val_annotations = []\n",
    "for jpath in val_files:\n",
    "    val_annotations += json.load(open(jpath))\n",
    "print(\"Number of validation data: {}\".format(len(val_annotations)))\n",
    "val_annotations = [ann for ann in val_annotations if ann[\"species\"] == \"salmon\"]\n",
    "print(\"Number of validation data: {}\".format(len(val_annotations)))"
   ]
  },
  {
   "cell_type": "code",
   "execution_count": null,
   "metadata": {},
   "outputs": [],
   "source": [
    "random_ann = np.random.choice(val_annotations)\n",
    "img_input, kp_resized = load_image_keypoints(random_ann, FLAGS)\n",
    "img_input  = img_input / 255.0 - 0.5\n",
    "img_input = img_input[np.newaxis, ...]\n",
    "image, keypoints = load_image_keypoints(random_ann, FLAGS, reshape=False)\n",
    "height, width, _ = image.shape"
   ]
  },
  {
   "cell_type": "code",
   "execution_count": null,
   "metadata": {},
   "outputs": [],
   "source": [
    "plt.figure(figsize=(20, 10))\n",
    "plt.imshow(image)\n",
    "plt.scatter(keypoints[:, 0], keypoints[:, 1], c=\"r\")\n",
    "plt.show()"
   ]
  },
  {
   "cell_type": "markdown",
   "metadata": {},
   "source": [
    "Froward pass"
   ]
  },
  {
   "cell_type": "code",
   "execution_count": null,
   "metadata": {},
   "outputs": [],
   "source": [
    "with tf.device(tf_device):   \n",
    "    predict_heatmap, stage_heatmap_np = sess.run([model.current_heatmap,\n",
    "                                              model.stage_heatmap,\n",
    "                                              ],\n",
    "                                             feed_dict={'input_placeholder:0': img_input,\n",
    "                                                        'cmap_placeholder:0': test_center_map})"
   ]
  },
  {
   "cell_type": "code",
   "execution_count": null,
   "metadata": {},
   "outputs": [],
   "source": [
    "final_stage_heatmap = predict_heatmap.squeeze()"
   ]
  },
  {
   "cell_type": "markdown",
   "metadata": {},
   "source": [
    "Display"
   ]
  },
  {
   "cell_type": "code",
   "execution_count": null,
   "metadata": {
    "scrolled": true
   },
   "outputs": [],
   "source": [
    "for i in range(8):\n",
    "    plt.imshow(final_stage_heatmap[..., i])\n",
    "    plt.show()"
   ]
  },
  {
   "cell_type": "code",
   "execution_count": null,
   "metadata": {
    "scrolled": true
   },
   "outputs": [],
   "source": [
    "\n",
    "print(final_stage_heatmap.shape)\n",
    "f, ax = plt.subplots(5, 2, figsize=(20, 30))\n",
    "c = 0\n",
    "for i in range(5):\n",
    "    for j in range(2):\n",
    "        if c == 9:\n",
    "            continue\n",
    "        hm = cv2.resize(final_stage_heatmap[..., c], FLAGS.input_size)\n",
    "        hm_max = np.where(hm == hm.max())\n",
    "        ax[i,j].imshow(img_input.squeeze())\n",
    "        ax[i,j].imshow(hm, alpha=0.5)\n",
    "        if i < 4:\n",
    "            ax[i,j].scatter(hm_max[1], hm_max[0], c=\"r\")\n",
    "        ax[i,j].axis(\"off\")\n",
    "        c+=1\n",
    "plt.show()"
   ]
  },
  {
   "cell_type": "code",
   "execution_count": null,
   "metadata": {},
   "outputs": [],
   "source": [
    "# final_stage_heatmap = predict_heatmap.squeeze()\n",
    "# print(final_stage_heatmap.shape)\n",
    "# f, ax = plt.subplots(5, 2, figsize=(20, 30))\n",
    "# c = 0\n",
    "# for i in range(5):\n",
    "#     for j in range(2):\n",
    "#         if c == 9:\n",
    "#             continue\n",
    "#         hm = cv2.resize(final_stage_heatmap[..., c], (4096, 3000))\n",
    "#         hm_max = np.where(hm == hm.max())\n",
    "#         ax[i,j].imshow(image)\n",
    "#         ax[i,j].imshow(hm, alpha=0.5)\n",
    "#         if i < 4:\n",
    "#             ax[i,j].scatter(hm_max[1], hm_max[0], c=\"r\")\n",
    "#         ax[i,j].axis(\"off\")\n",
    "#         c+=1\n",
    "# plt.show()"
   ]
  },
  {
   "cell_type": "markdown",
   "metadata": {},
   "source": [
    "Calculate accuracy on full size image"
   ]
  },
  {
   "cell_type": "code",
   "execution_count": null,
   "metadata": {},
   "outputs": [],
   "source": [
    "# manhattan distance\n",
    "for c in range(8):\n",
    "    hm = cv2.resize(final_stage_heatmap[..., c], FLAGS.input_size)\n",
    "    hm_max = np.where(hm == hm.max())\n",
    "    pred_kp = np.array([hm_max[1][0], hm_max[0][0]])\n",
    "    gt_kp = np.array(kp_resized[c, :], dtype=np.uint32)\n",
    "    man_dist = np.sum(np.abs(pred_kp - gt_kp))\n",
    "    print(\"Manhattan distance between pred and gt {} for {}\".format(man_dist, FLAGS.keypoints_order[c]))"
   ]
  },
  {
   "cell_type": "code",
   "execution_count": null,
   "metadata": {},
   "outputs": [],
   "source": [
    "# manhattan distance\n",
    "for c in range(8):\n",
    "    hm = cv2.resize(final_stage_heatmap[..., c], (width, height))\n",
    "    hm_max = np.where(hm == hm.max())\n",
    "    pred_kp = np.array([hm_max[1][0], hm_max[0][0]])\n",
    "    gt_kp = np.array(keypoints[c, :], dtype=np.uint32)\n",
    "    man_dist = np.sum(np.abs(pred_kp - gt_kp))\n",
    "    print(\"Manhattan distance between pred and gt {} for {}\".format(man_dist, FLAGS.keypoints_order[c]))"
   ]
  },
  {
   "cell_type": "code",
   "execution_count": null,
   "metadata": {},
   "outputs": [],
   "source": [
    "# final_stage_heatmap = predict_heatmap.squeeze()\n",
    "# print(final_stage_heatmap.shape)\n",
    "# f, ax = plt.subplots(1, figsize=(20, 10))\n",
    "# ax.imshow(image)\n",
    "# for c in range(8):\n",
    "#     hm = cv2.resize(final_stage_heatmap[..., c], (width, height))\n",
    "#     hm_max = np.where(hm == hm.max())\n",
    "#     ax.scatter(hm_max[1], hm_max[0], c=\"r\")\n",
    "# ax.axis(\"off\")\n",
    "# plt.show()"
   ]
  },
  {
   "cell_type": "code",
   "execution_count": null,
   "metadata": {},
   "outputs": [],
   "source": []
  },
  {
   "cell_type": "code",
   "execution_count": null,
   "metadata": {},
   "outputs": [],
   "source": []
  }
 ],
 "metadata": {
  "kernelspec": {
   "display_name": "Python 3",
   "language": "python",
   "name": "python3"
  },
  "language_info": {
   "codemirror_mode": {
    "name": "ipython",
    "version": 3
   },
   "file_extension": ".py",
   "mimetype": "text/x-python",
   "name": "python",
   "nbconvert_exporter": "python",
   "pygments_lexer": "ipython3",
   "version": "3.5.2"
  }
 },
 "nbformat": 4,
 "nbformat_minor": 2
}
