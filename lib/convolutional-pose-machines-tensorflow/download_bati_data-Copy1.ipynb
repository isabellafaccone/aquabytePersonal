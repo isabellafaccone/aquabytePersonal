{
 "cells": [
  {
   "cell_type": "markdown",
   "metadata": {},
   "source": [
    "Sql credentials stuff"
   ]
  },
  {
   "cell_type": "code",
   "execution_count": null,
   "metadata": {},
   "outputs": [],
   "source": [
    "import json\n",
    "\n",
    "sql_credentials = json.load(open('/root/thomas/sqlcredentials.json'))"
   ]
  },
  {
   "cell_type": "markdown",
   "metadata": {},
   "source": [
    "Download data to use for conv pose machine training"
   ]
  },
  {
   "cell_type": "code",
   "execution_count": null,
   "metadata": {},
   "outputs": [],
   "source": [
    "import os\n",
    "import sys\n",
    "from sqlalchemy import Column, ForeignKey, Integer, String\n",
    "from sqlalchemy.ext.declarative import declarative_base\n",
    "from sqlalchemy.orm import relationship\n",
    "from sqlalchemy import MetaData\n",
    "from sqlalchemy import Table, select, func, and_, insert, delete, update, or_\n",
    "from sqlalchemy import create_engine\n",
    "from sqlalchemy.orm import sessionmaker\n",
    "from sqlalchemy.ext.automap import automap_base"
   ]
  },
  {
   "cell_type": "code",
   "execution_count": null,
   "metadata": {},
   "outputs": [],
   "source": [
    "# from datetime import datetime\n",
    "import datetime"
   ]
  },
  {
   "cell_type": "code",
   "execution_count": null,
   "metadata": {},
   "outputs": [],
   "source": [
    "today = datetime.date.today()\n",
    "yesterday = today - datetime.timedelta(days = 1)"
   ]
  },
  {
   "cell_type": "code",
   "execution_count": null,
   "metadata": {},
   "outputs": [],
   "source": [
    "yesterday"
   ]
  },
  {
   "cell_type": "code",
   "execution_count": null,
   "metadata": {},
   "outputs": [],
   "source": [
    "yesterday = str(yesterday)"
   ]
  },
  {
   "cell_type": "markdown",
   "metadata": {},
   "source": [
    "login"
   ]
  },
  {
   "cell_type": "code",
   "execution_count": null,
   "metadata": {},
   "outputs": [],
   "source": [
    "base_folder = '/root/data/bati/'"
   ]
  },
  {
   "cell_type": "code",
   "execution_count": null,
   "metadata": {},
   "outputs": [],
   "source": [
    "from sqlalchemy import create_engine\n",
    "\n",
    "engine = create_engine(\n",
    "    \"postgresql://{}:{}@{}:{}/{}\".format(sql_credentials[\"user\"], sql_credentials[\"password\"],\n",
    "                                         sql_credentials[\"host\"], sql_credentials[\"port\"],\n",
    "                                         sql_credentials[\"database\"]))\n"
   ]
  },
  {
   "cell_type": "code",
   "execution_count": null,
   "metadata": {},
   "outputs": [],
   "source": [
    "session_class = sessionmaker(bind=engine)\n",
    "session = session_class()\n",
    "\n",
    "Base = automap_base()\n",
    "Base.prepare(engine, reflect=True)\n",
    "\n",
    "# tables\n",
    "keypoints = Base.classes.keypoint_annotations\n",
    "detections = Base.classes.fish_detections\n",
    "\n",
    "# query\n",
    "# TODO (@Thomas) need to rethink this.\n",
    "today = datetime.date.today()\n",
    "yesterday = today - datetime.timedelta(days = 1)\n",
    "\n",
    "results = session.query(keypoints, detections) \\\n",
    "                 .filter(keypoints.fish_detection_id == detections.id) \\\n",
    "                 .filter(keypoints.keypoints != None) \\\n",
    "                 .filter(keypoints.created_at >= yesterday) \\\n",
    "                 .all()\n",
    "\n",
    "print('Keypoints annoted since {}: {}'.format(yesterday, len(results)))"
   ]
  },
  {
   "cell_type": "code",
   "execution_count": null,
   "metadata": {},
   "outputs": [],
   "source": [
    "import time\n",
    "import requests"
   ]
  },
  {
   "cell_type": "code",
   "execution_count": null,
   "metadata": {},
   "outputs": [],
   "source": [
    "# create data\n",
    "data = []\n",
    "for r in results:\n",
    "    k = r[0]\n",
    "    d = r[1]\n",
    "    kps = k.keypoints\n",
    "    tmp = {'left_image_url': d.left_image_url,\n",
    "           'right_image_url': d.right_image_url,\n",
    "           'left_keypoints': kps.get('leftCrop', None),\n",
    "           'right_keypoints': kps.get('rightCrop', None),\n",
    "           'site_id': d.site_id,\n",
    "           'pen_id': d.pen_id,\n",
    "           'fish_detection_id': k.fish_detection_id,\n",
    "           'annotator': k.annotated_by_email\n",
    "            }\n",
    "    data.append(tmp)\n",
    "\n",
    "# post process\n",
    "download = []\n",
    "for d in data:\n",
    "    if d['left_keypoints']:\n",
    "        # download left image\n",
    "        url = d['left_image_url']\n",
    "    elif d['right_keypoints']:\n",
    "        # download right image\n",
    "        url = d['right_image_url']\n",
    "\n",
    "    s = url.split('at=')[1].split('/')[0]\n",
    "    ts = time.mktime(datetime.datetime.strptime(s, \"%Y-%m-%dT%H:%M:%S.%f000Z\").timetuple())\n",
    "    date = str(datetime.datetime.utcfromtimestamp(ts).date())\n",
    "    folder = '{}/images/{}/{}/{}/'.format(base_folder, d['site_id'], d['pen_id'], date)\n",
    "    if not os.path.isdir(folder):\n",
    "        os.makedirs(folder)\n",
    "    image_name = os.path.basename(url).replace('.jpg', str(int(ts)) + '.jpg')\n",
    "    destination = os.path.join(folder, image_name)\n",
    "    d['local_path'] = destination\n",
    "    d['date'] = date\n",
    "\n",
    "    # download image\n",
    "    if os.path.isfile(destination):\n",
    "        continue\n",
    "    print(destination)\n",
    "    f = open(destination,'wb')\n",
    "    f.write(requests.get(url).content)\n",
    "    f.close()\n",
    "    download.append(d)\n",
    "print('{} images downloaded. Saving labels now'.format(len(download)))"
   ]
  },
  {
   "cell_type": "code",
   "execution_count": null,
   "metadata": {},
   "outputs": [],
   "source": [
    "# download = data"
   ]
  },
  {
   "cell_type": "code",
   "execution_count": null,
   "metadata": {},
   "outputs": [],
   "source": [
    "# format to be similar than labelbox\n",
    "for d in download:\n",
    "    path = d['local_path']\n",
    "    side = os.path.basename(path).split('_')[0]\n",
    "    if side == 'left':\n",
    "        lab_kp = d['left_keypoints']\n",
    "    else:\n",
    "        lab_kp = d['right_keypoints']\n",
    "\n",
    "    labels = {}\n",
    "    for kpp in lab_kp:\n",
    "        name = kpp['keypointType']\n",
    "        labels[name] = [{'geometry': {'x': kpp['xCrop'], 'y': kpp['yCrop']}}]\n",
    "    d['Label'] = labels"
   ]
  },
  {
   "cell_type": "code",
   "execution_count": null,
   "metadata": {},
   "outputs": [],
   "source": [
    "# create label files\n",
    "dates = list(set([d['date'] for d in download]))\n",
    "dates"
   ]
  },
  {
   "cell_type": "code",
   "execution_count": null,
   "metadata": {},
   "outputs": [],
   "source": [
    "for dat in ['2019-05-08']:\n",
    "    data_points = [d for d in download if d['date'] == dat]\n",
    "    left_urls = [d['left_image_url'] for d in data_points]\n",
    "    print('{}: {}'.format(dat, len(data_points)))\n",
    "    json_destination = os.path.join(base_folder, 'labels/labels_{}.json'.format(dat))\n",
    "    \n",
    "    if os.path.isfile(json_destination):\n",
    "        # file already exists, open it and append\n",
    "        labels = json.load(open(json_destination))\n",
    "        print('Labels {}: {}'.format(dat, len(labels)))\n",
    "        ct = 0\n",
    "        for lab in labels:\n",
    "            if lab['left_image_url'] not in left_urls:\n",
    "                ct += 1\n",
    "                data_points.append(lab)\n",
    "        print(ct)\n",
    "    print('{}: {}'.format(dat, len(data_points)))\n",
    "    # save the json\n",
    "    with open(json_destination, 'w') as f:\n",
    "        json.dump(data_points, f)"
   ]
  },
  {
   "cell_type": "code",
   "execution_count": null,
   "metadata": {},
   "outputs": [],
   "source": [
    "import numpy as np"
   ]
  },
  {
   "cell_type": "code",
   "execution_count": null,
   "metadata": {},
   "outputs": [],
   "source": [
    "np.setdiff1d([d['fish_detection_id'] for d in data_points],\n",
    "             [l['fish_detection_id'] for l in labels],\n",
    "             )\n"
   ]
  },
  {
   "cell_type": "code",
   "execution_count": null,
   "metadata": {},
   "outputs": [],
   "source": [
    "len(list(set([l['fish_detection_id'] for l in labels])))"
   ]
  },
  {
   "cell_type": "code",
   "execution_count": null,
   "metadata": {},
   "outputs": [],
   "source": [
    "len(list(set()))"
   ]
  },
  {
   "cell_type": "code",
   "execution_count": null,
   "metadata": {},
   "outputs": [],
   "source": []
  }
 ],
 "metadata": {
  "kernelspec": {
   "display_name": "Python 3",
   "language": "python",
   "name": "python3"
  },
  "language_info": {
   "codemirror_mode": {
    "name": "ipython",
    "version": 3
   },
   "file_extension": ".py",
   "mimetype": "text/x-python",
   "name": "python",
   "nbconvert_exporter": "python",
   "pygments_lexer": "ipython3",
   "version": "3.5.2"
  }
 },
 "nbformat": 4,
 "nbformat_minor": 2
}
