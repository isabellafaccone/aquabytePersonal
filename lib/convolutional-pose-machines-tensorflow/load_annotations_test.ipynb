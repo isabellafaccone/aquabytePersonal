{
 "cells": [
  {
   "cell_type": "code",
   "execution_count": null,
   "metadata": {},
   "outputs": [],
   "source": [
    "class FLAGS(object):\n",
    "    \"\"\" \"\"\"\n",
    "    \"\"\"\n",
    "    General settings\n",
    "    \"\"\"\n",
    "    input_size = (1024, 1024)\n",
    "    heatmap_size = 128\n",
    "    cpm_stages = 4\n",
    "    joint_gaussian_variance = 1.0\n",
    "    center_radius = 21\n",
    "    num_of_joints = 8\n",
    "    color_channel = 'RGB'\n",
    "    normalize = True\n",
    "    use_gpu = True\n",
    "    gpu_id = 0\n",
    "    \n",
    "    crop = True\n",
    "    gradient_clipping = True # gradient clipping\n",
    "\n",
    "    \"\"\"\n",
    "    Demo settings\n",
    "    \"\"\"\n",
    "    # 'MULTI': show multiple stage heatmaps\n",
    "    # 'SINGLE': show last stage heatmap\n",
    "    # 'Joint_HM': show last stage heatmap for each joint\n",
    "    # 'image or video path': show detection on single image or video\n",
    "    DEMO_TYPE = 'SINGLE'\n",
    "\n",
    "    model_path = 'cpm_hand'\n",
    "    cam_id = 0\n",
    "\n",
    "    use_kalman = True\n",
    "    kalman_noise = 0.03\n",
    "    keypoints_order = [\"TAIL_NOTCH\",\n",
    "                        \"ADIPOSE_FIN\",\n",
    "                        \"UPPER_LIP\",\n",
    "                        \"ANAL_FIN\",\n",
    "                        \"PELVIC_FIN\",\n",
    "                        \"EYE\",\n",
    "                        \"PECTORAL_FIN\",\n",
    "                        \"DORSAL_FIN\"]\n",
    "\n",
    "    \"\"\"\n",
    "    Training settings\n",
    "    \"\"\"\n",
    "    network_def = 'fish_test'\n",
    "    train_img_dir = ''\n",
    "    val_img_dir = ''\n",
    "    bg_img_dir = ''\n",
    "    pretrained_model = 'fish_test'\n",
    "    batch_size = 8\n",
    "#     init_lr = 0.001\n",
    "    init_lr = 0.0006896805\n",
    "    lr_decay_rate = 0.5\n",
    "    lr_decay_step = 10000\n",
    "    augmentation = None\n",
    "    crop = False # crop input image based on keypoints - for GTSF only\n",
    "#     augmentation = albu.Compose([albu.RandomContrast(limit=0.3, p=0.3),\n",
    "#                                  albu.RandomBrightness(limit=0.4, p=0.3),\n",
    "#                                  albu.Rotate(limit=10, p=1.0)], \n",
    "#                                  p=1.0,\n",
    "#                                  keypoint_params={'format': 'xy'})\n",
    "    \n",
    "    epochs=200\n",
    "\n",
    "    hnm = True  # Make sure generate hnm files first\n",
    "    do_cropping = True\n",
    "\n",
    "    \"\"\"\n",
    "    For Freeze graphs\n",
    "    \"\"\"\n",
    "    output_node_names = 'stage_3/mid_conv7/BiasAdd:0'"
   ]
  },
  {
   "cell_type": "markdown",
   "metadata": {},
   "source": [
    "# load images"
   ]
  },
  {
   "cell_type": "code",
   "execution_count": null,
   "metadata": {},
   "outputs": [],
   "source": [
    "try:\n",
    "    print('toto')\n",
    "    todo\n",
    "except:\n",
    "    print('error')"
   ]
  },
  {
   "cell_type": "code",
   "execution_count": null,
   "metadata": {},
   "outputs": [],
   "source": [
    "import glob\n",
    "import json\n",
    "import random\n",
    "\n",
    "import matplotlib.pyplot as plt\n",
    "from PIL import Image, ImageDraw\n",
    "\n",
    "from utils.utils import DataGenerator"
   ]
  },
  {
   "cell_type": "code",
   "execution_count": null,
   "metadata": {},
   "outputs": [],
   "source": [
    "random.seed(193)"
   ]
  },
  {
   "cell_type": "code",
   "execution_count": null,
   "metadata": {},
   "outputs": [],
   "source": [
    "# annotations = glob.glob(\"/root/data/gtsf_phase_I/*/*_cogito_annotations.json\")\n",
    "annotations = glob.glob('/root/data/bati/labels/labels_*')\n",
    "print(\"Total number of days: {}\".format(len(annotations)))"
   ]
  },
  {
   "cell_type": "code",
   "execution_count": null,
   "metadata": {},
   "outputs": [],
   "source": [
    "cutoff = int(len(annotations)*0.8)\n",
    "random.shuffle(annotations)\n",
    "train_files = annotations[:cutoff]\n",
    "val_files = annotations[cutoff:]\n",
    "print(\"Number of training files: {}\".format(len(train_files)))\n",
    "print(\"Number of validation files: {}\".format(len(val_files)))"
   ]
  },
  {
   "cell_type": "code",
   "execution_count": null,
   "metadata": {},
   "outputs": [],
   "source": [
    "train_annotations = []\n",
    "for jpath in train_files:\n",
    "    train_annotations += json.load(open(jpath))\n",
    "print(\"Number of training data: {}\".format(len(train_annotations)))\n",
    "# train_annotations= [ann for ann in train_annotations if ann[\"species\"] == \"salmon\"]\n",
    "print(\"Number of training data: {}\".format(len(train_annotations)))"
   ]
  },
  {
   "cell_type": "code",
   "execution_count": null,
   "metadata": {},
   "outputs": [],
   "source": [
    "val_annotations = []\n",
    "for jpath in val_files:\n",
    "    val_annotations += json.load(open(jpath))\n",
    "print(\"Number of validation data: {}\".format(len(val_annotations)))\n",
    "# val_annotations = [ann for ann in val_annotations if ann[\"species\"] == \"salmon\"]\n",
    "print(\"Number of validation data: {}\".format(len(val_annotations)))"
   ]
  },
  {
   "cell_type": "markdown",
   "metadata": {},
   "source": [
    "# fun1"
   ]
  },
  {
   "cell_type": "code",
   "execution_count": null,
   "metadata": {},
   "outputs": [],
   "source": [
    "import os\n",
    "import cv2\n",
    "import numpy as np\n",
    "from utils.utils import load_image_keypoints, DataGenerator\n",
    "from tqdm import tqdm"
   ]
  },
  {
   "cell_type": "code",
   "execution_count": null,
   "metadata": {},
   "outputs": [],
   "source": []
  },
  {
   "cell_type": "code",
   "execution_count": null,
   "metadata": {},
   "outputs": [],
   "source": [
    "counter = 0\n",
    "urls = []\n",
    "for ann in tqdm(train_annotations):\n",
    "    try:\n",
    "        ann['local_path'] = ann['local_path'].replace('/app', '/root')\n",
    "        im, kps = load_image_keypoints(ann, FLAGS)\n",
    "    except Exception as e:\n",
    "        print(e)\n",
    "        print(ann['local_path'])\n",
    "        print(ann['left_image_url'])\n",
    "        urls.append(ann['left_image_url'])\n",
    "        counter += 1\n",
    "    plt.figure(figsize=(10, 10))\n",
    "    plt.imshow(im)\n",
    "    plt.scatter(kps[:, 0], kps[:, 1])\n",
    "    for i in range(8):\n",
    "        plt.text(kps[i, 0], kps[i,1], FLAGS.keypoints_order[i])\n",
    "    plt.show()"
   ]
  },
  {
   "cell_type": "code",
   "execution_count": null,
   "metadata": {},
   "outputs": [],
   "source": [
    "counter = 0\n",
    "for ann in tqdm(val_annotations):\n",
    "    try:\n",
    "        ann['local_path'] = ann['local_path'].replace('/app', '/root')\n",
    "        im, kps = load_image_keypoints(ann, FLAGS)\n",
    "    except Exception as e:\n",
    "        print(e)\n",
    "        print(ann['local_path'])\n",
    "        print(ann['left_image_url'])\n",
    "        urls.append(ann['left_image_url'])\n",
    "        counter += 1\n",
    "#     plt.figure(figsize=(10, 10))\n",
    "#     plt.imshow(im)\n",
    "#     plt.scatter(kps[:, 0], kps[:, 1])\n",
    "#     for i in range(8):\n",
    "#         plt.text(kps[i, 0], kps[i,1], FLAGS.keypoints_order[i])\n",
    "#     plt.show()"
   ]
  },
  {
   "cell_type": "code",
   "execution_count": null,
   "metadata": {},
   "outputs": [],
   "source": []
  }
 ],
 "metadata": {
  "kernelspec": {
   "display_name": "Python 3",
   "language": "python",
   "name": "python3"
  },
  "language_info": {
   "codemirror_mode": {
    "name": "ipython",
    "version": 3
   },
   "file_extension": ".py",
   "mimetype": "text/x-python",
   "name": "python",
   "nbconvert_exporter": "python",
   "pygments_lexer": "ipython3",
   "version": "3.5.2"
  }
 },
 "nbformat": 4,
 "nbformat_minor": 2
}
