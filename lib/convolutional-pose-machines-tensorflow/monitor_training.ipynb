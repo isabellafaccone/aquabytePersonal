{
 "cells": [
  {
   "cell_type": "code",
   "execution_count": null,
   "metadata": {},
   "outputs": [],
   "source": [
    "import os\n",
    "import glob\n",
    "import shutil\n",
    "from datetime import datetime, timedelta"
   ]
  },
  {
   "cell_type": "code",
   "execution_count": null,
   "metadata": {},
   "outputs": [],
   "source": [
    "today = str((datetime.now() - timedelta(days=0)).date()).replace('-', '_')\n",
    "# today = str((datetime.now() - timedelta(days=7)).date()).replace('-', '_')\n",
    "today"
   ]
  },
  {
   "cell_type": "code",
   "execution_count": null,
   "metadata": {},
   "outputs": [],
   "source": [
    "# # remove weights execept last one\n",
    "# model_dirs = glob.glob(\"/root/data/models/keypoints_detection/*\")\n",
    "# for md in model_dirs:\n",
    "#     full_date = '_'.join(os.path.basename(md).split('_')[:3])\n",
    "#     year, month, day = full_date.split('_') \n",
    "#     if int(month) == datetime.now().date().month:\n",
    "#         if int(day) > (datetime.now().date().day - 4):\n",
    "#             print(md, 'training')\n",
    "#             continue\n",
    "            \n",
    "#     if not os.path.isdir(md):\n",
    "#         continue\n",
    "        \n",
    "#     weight_path = os.path.join(md, \"weights\")\n",
    "#     all_meta = glob.glob(weight_path + '/*.meta')\n",
    "#     all_weights = glob.glob(weight_path + '/*')\n",
    "#     max_epoch = len(all_weights) - 2\n",
    "#     for i in range(max_epoch):\n",
    "#         all_files = glob.glob(weight_path + '/fish_test-{}.*'.format(i))\n",
    "#         for f in all_files:\n",
    "#             os.remove(f)\n",
    "        \n",
    "# #     if len(os.listdir(weight_path)) < 1:\n",
    "# #         shutil.rmtree(md)\n",
    "# #         print(\"delete {}\".format(md))"
   ]
  },
  {
   "cell_type": "markdown",
   "metadata": {},
   "source": [
    "Clean empty dirs"
   ]
  },
  {
   "cell_type": "code",
   "execution_count": null,
   "metadata": {},
   "outputs": [],
   "source": [
    "import os\n",
    "import glob\n",
    "import shutil"
   ]
  },
  {
   "cell_type": "code",
   "execution_count": null,
   "metadata": {},
   "outputs": [],
   "source": [
    "# len(glob.glob('/root//data/fish_detections/tmp/environment=production/site-id=23/pen-id=1/*/*/*/*'))"
   ]
  },
  {
   "cell_type": "code",
   "execution_count": null,
   "metadata": {},
   "outputs": [],
   "source": [
    "# model_dirs = glob.glob(\"/root/data/models/keypoints_detection/*\")\n",
    "# for md in model_dirs:\n",
    "#     if not os.path.isdir(md):\n",
    "#         continue\n",
    "#     weight_path = os.path.join(md, \"weights\")\n",
    "#     if len(os.listdir(weight_path)) < 1:\n",
    "#         shutil.rmtree(md)\n",
    "#         print(\"delete {}\".format(md))"
   ]
  },
  {
   "cell_type": "markdown",
   "metadata": {},
   "source": [
    "Plot"
   ]
  },
  {
   "cell_type": "code",
   "execution_count": null,
   "metadata": {},
   "outputs": [],
   "source": [
    "import json\n",
    "\n",
    "import matplotlib.pyplot as plt\n",
    "import numpy as np"
   ]
  },
  {
   "cell_type": "markdown",
   "metadata": {},
   "source": [
    "- 2019_05_22_20_05_37: GTSF best\n",
    "- 2019_05_13_22_13_59: BATI, no augmentation\n",
    "- 2019_05_09_20_46_29: GTSF + BATI, no augmentation\n",
    "- 2019_05_10_00_36_40: GTSF, augmentation, 512x512, buffer range -> best GTSF model\n",
    "- 2019_05_09_18_01_03: GTSF, no augmentation, 1024x1024, 150 epochs, 4 stages, faster decay \n",
    "- 2019_05_09_15_27_07: GTSF, no augmentation, 512x512, 150 epochs, 3 stages\n",
    "- 2019_05_08_16_24_20: GTSF, no augmentation, 1024x1024, 150 epochs, 4 stages\n",
    "- 2019_05_07_17_04_36: GTSF, no augmentation, 1024x1024, 150 epochs\n",
    "- 2019_05_03_16_59_35: BATI, no augmentation 1024x1024, 150 epochs\n",
    "- 2019_05_02_21_25_53: BATI, 512x512, 150 epochs\n",
    "- 2019_05_01_23_03_06: BATI, 256x256, 300 epochs\n",
    "- 2019_04_05_18_32_22: rotation, 512x512, 3 stages, 300 epochs, gaussian var=4.0\n",
    "- 2019_04_05_18_28_50: all augmentation, 512x512, 3 stages, 300 epochs\n",
    "- 2019_04_04_18_26_16: rotation, 512x512, 150 epochs, 3 stages\n",
    "- 2019_04_04_17_30_18: no augmentation, 512x512, 150 epochs, 4 stages\n",
    "- 2019_04_03_18_45_50: no augmentation, 512x512, 150 epochs -> best model so far\n",
    "- 2019_04_03_20_20_11: no augmentation, 256x256, 150 epochs\n",
    "- 2019_04_02_22_17_08: rotation + image augmentation (contrast brightness)\n",
    "- 2019_04_03_00_24_44: rotation only\n",
    "- 2019_03_27_22_42_47: no augmentation, 50 epochs\n",
    "- 2019_03_27_22_28_27: no augmentation, 50 epochs, low rez"
   ]
  },
  {
   "cell_type": "code",
   "execution_count": null,
   "metadata": {},
   "outputs": [],
   "source": [
    "with open(\"/root/data/models/keypoints_detection/2019_05_27_06_19_12//config.json\", \"r\") as f:\n",
    "    config = json.load(f)"
   ]
  },
  {
   "cell_type": "code",
   "execution_count": null,
   "metadata": {},
   "outputs": [],
   "source": [
    "print(config)"
   ]
  },
  {
   "cell_type": "code",
   "execution_count": null,
   "metadata": {},
   "outputs": [],
   "source": [
    "with open(\"/root/data/models/keypoints_detection/2019_05_27_06_19_12/history.json\", \"r\") as f:\n",
    "    history = json.load(f)"
   ]
  },
  {
   "cell_type": "code",
   "execution_count": null,
   "metadata": {},
   "outputs": [],
   "source": [
    "train_total_loss = history[\"train_total_loss\"]\n",
    "train_stages_loss = np.array(history[\"train_stages_loss\"])\n",
    "learning_rate = history.get('learning_rate', None)\n",
    "val_total_loss = history[\"val_total_loss\"]\n",
    "epochs = len(val_total_loss)"
   ]
  },
  {
   "cell_type": "code",
   "execution_count": null,
   "metadata": {},
   "outputs": [],
   "source": [
    "steps_per_epoch = int(len(train_total_loss) / len(val_total_loss))"
   ]
  },
  {
   "cell_type": "code",
   "execution_count": null,
   "metadata": {},
   "outputs": [],
   "source": [
    "import matplotlib.pyplot as plt\n",
    "plt.rcParams.update({'font.size': 22})"
   ]
  },
  {
   "cell_type": "code",
   "execution_count": null,
   "metadata": {},
   "outputs": [],
   "source": [
    "plt.figure(figsize=(15, 10))\n",
    "plt.plot(train_total_loss)\n",
    "plt.plot(range(steps_per_epoch, (epochs+1)*steps_per_epoch, steps_per_epoch), val_total_loss, linewidth=4)\n",
    "plt.ylim([0, 500])\n",
    "plt.xlim([0, epochs*steps_per_epoch])\n",
    "plt.xticks(ticks=range(0, epochs*steps_per_epoch, steps_per_epoch*10),\n",
    "           labels=range(0, epochs, 10))\n",
    "min_val = np.min(val_total_loss)\n",
    "plt.plot([0, epochs*steps_per_epoch], [min_val, min_val], \"g\")\n",
    "plt.text(20, min_val+1, \"Min validation loss: {:.2f}. Epoch: {}\".format(min_val, np.argmin(val_total_loss)),\n",
    "         {\"color\": \"k\", \"fontsize\": 14})\n",
    "plt.legend([\"train\", \"val\"])\n",
    "# plt.yscale('log')\n",
    "plt.show()"
   ]
  },
  {
   "cell_type": "code",
   "execution_count": null,
   "metadata": {},
   "outputs": [],
   "source": [
    "plt.figure(figsize=(10, 5))\n",
    "plt.plot(learning_rate)\n",
    "plt.xlim([0, epochs*steps_per_epoch])\n",
    "plt.xticks(ticks=range(0, epochs*steps_per_epoch, steps_per_epoch*5),\n",
    "           labels=range(0, epochs, 5))\n",
    "plt.ylabel('Learning rate')\n",
    "plt.xlabel('Epochs')\n",
    "plt.show()"
   ]
  },
  {
   "cell_type": "code",
   "execution_count": null,
   "metadata": {},
   "outputs": [],
   "source": [
    "plt.figure(figsize=(15, 10))\n",
    "plt.plot(train_total_loss)\n",
    "plt.plot(range(steps_per_epoch, (epochs+1)*steps_per_epoch, steps_per_epoch), val_total_loss, linewidth=4)\n",
    "plt.ylim([0, 150])\n",
    "plt.xlim([0, 30*steps_per_epoch])\n",
    "plt.xticks(ticks=range(0, 30*steps_per_epoch, steps_per_epoch*5),\n",
    "           labels=range(0, epochs, 5))\n",
    "plt.show()"
   ]
  },
  {
   "cell_type": "code",
   "execution_count": null,
   "metadata": {},
   "outputs": [],
   "source": []
  },
  {
   "cell_type": "code",
   "execution_count": null,
   "metadata": {},
   "outputs": [],
   "source": []
  },
  {
   "cell_type": "code",
   "execution_count": null,
   "metadata": {},
   "outputs": [],
   "source": []
  },
  {
   "cell_type": "code",
   "execution_count": null,
   "metadata": {},
   "outputs": [],
   "source": []
  },
  {
   "cell_type": "code",
   "execution_count": null,
   "metadata": {},
   "outputs": [],
   "source": []
  },
  {
   "cell_type": "code",
   "execution_count": null,
   "metadata": {},
   "outputs": [],
   "source": []
  },
  {
   "cell_type": "code",
   "execution_count": null,
   "metadata": {},
   "outputs": [],
   "source": []
  },
  {
   "cell_type": "code",
   "execution_count": null,
   "metadata": {},
   "outputs": [],
   "source": []
  },
  {
   "cell_type": "code",
   "execution_count": null,
   "metadata": {},
   "outputs": [],
   "source": []
  },
  {
   "cell_type": "code",
   "execution_count": null,
   "metadata": {},
   "outputs": [],
   "source": []
  },
  {
   "cell_type": "code",
   "execution_count": null,
   "metadata": {},
   "outputs": [],
   "source": []
  },
  {
   "cell_type": "code",
   "execution_count": null,
   "metadata": {},
   "outputs": [],
   "source": []
  },
  {
   "cell_type": "code",
   "execution_count": null,
   "metadata": {},
   "outputs": [],
   "source": []
  },
  {
   "cell_type": "code",
   "execution_count": null,
   "metadata": {},
   "outputs": [],
   "source": []
  }
 ],
 "metadata": {
  "kernelspec": {
   "display_name": "Python 3",
   "language": "python",
   "name": "python3"
  },
  "language_info": {
   "codemirror_mode": {
    "name": "ipython",
    "version": 3
   },
   "file_extension": ".py",
   "mimetype": "text/x-python",
   "name": "python",
   "nbconvert_exporter": "python",
   "pygments_lexer": "ipython3",
   "version": "3.5.2"
  }
 },
 "nbformat": 4,
 "nbformat_minor": 2
}
