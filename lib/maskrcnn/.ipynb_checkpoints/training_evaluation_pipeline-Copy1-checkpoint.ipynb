{
 "cells": [
  {
   "cell_type": "code",
   "execution_count": null,
   "metadata": {},
   "outputs": [],
   "source": [
    "import os\n",
    "os.environ['CUDA_VISIBLE_DEVICES'] = \"1\""
   ]
  },
  {
   "cell_type": "code",
   "execution_count": null,
   "metadata": {},
   "outputs": [],
   "source": [
    "%load_ext autoreload\n",
    "%autoreload 2"
   ]
  },
  {
   "cell_type": "markdown",
   "metadata": {},
   "source": [
    "## Create DATASET"
   ]
  },
  {
   "cell_type": "markdown",
   "metadata": {},
   "source": [
    "### 1 - Generate mask instances"
   ]
  },
  {
   "cell_type": "code",
   "execution_count": null,
   "metadata": {},
   "outputs": [],
   "source": [
    "from data_utils import generate_annotations_json"
   ]
  },
  {
   "cell_type": "code",
   "execution_count": null,
   "metadata": {},
   "outputs": [],
   "source": [
    "dataset_path = '/root/data/erko/'\n",
    "mask_dir = 'instance_labels'\n",
    "frame_dir = 'labeled_frames'\n",
    "dataset_name = 'fish_only'\n",
    "class_ID_path = '/root/data/erko/class_ID.csv'"
   ]
  },
  {
   "cell_type": "code",
   "execution_count": null,
   "metadata": {},
   "outputs": [],
   "source": [
    "#d_train, d_test = generate_annotations_json(dataset_path=dataset_path,\n",
    "#                          mask_dir=mask_dir,\n",
    "#                          frame_dir=frame_dir,\n",
    "#                          dataset_name=dataset_name,\n",
    "#                          class_ID_path=class_ID_path,\n",
    "#                        )"
   ]
  },
  {
   "cell_type": "markdown",
   "metadata": {},
   "source": [
    "### 2 - Create folder structure"
   ]
  },
  {
   "cell_type": "code",
   "execution_count": null,
   "metadata": {},
   "outputs": [],
   "source": [
    "from data_utils import create_training_folder_structure"
   ]
  },
  {
   "cell_type": "code",
   "execution_count": null,
   "metadata": {},
   "outputs": [],
   "source": [
    "train_json = 'instance_fish_only_train.json'\n",
    "test_json = 'instance_fish_only_test.json'\n",
    "train_target_dir = 'instance_train_images'\n",
    "test_target_dir = 'instance_test_images'\n"
   ]
  },
  {
   "cell_type": "code",
   "execution_count": null,
   "metadata": {},
   "outputs": [],
   "source": [
    "#create_training_folder_structure(dataset_path=dataset_path,\n",
    "#                                 train_json=train_json,\n",
    "#                                 test_json=test_json,\n",
    "#                                 train_target_dir=train_target_dir,\n",
    "#                                 test_target_dir=test_target_dir, \n",
    "#                                 frame_dir=frame_dir)"
   ]
  },
  {
   "cell_type": "markdown",
   "metadata": {},
   "source": [
    "### 3 - Datasets"
   ]
  },
  {
   "cell_type": "code",
   "execution_count": 1,
   "metadata": {},
   "outputs": [
    {
     "name": "stderr",
     "output_type": "stream",
     "text": [
      "/usr/lib/python3.5/importlib/_bootstrap.py:222: RuntimeWarning: numpy.dtype size changed, may indicate binary incompatibility. Expected 96, got 88\n",
      "  return f(*args, **kwds)\n",
      "Using TensorFlow backend.\n",
      "/usr/lib/python3.5/importlib/_bootstrap.py:222: RuntimeWarning: numpy.dtype size changed, may indicate binary incompatibility. Expected 96, got 88\n",
      "  return f(*args, **kwds)\n",
      "/usr/lib/python3.5/importlib/_bootstrap.py:222: RuntimeWarning: numpy.dtype size changed, may indicate binary incompatibility. Expected 96, got 88\n",
      "  return f(*args, **kwds)\n",
      "/usr/lib/python3.5/importlib/_bootstrap.py:222: RuntimeWarning: numpy.dtype size changed, may indicate binary incompatibility. Expected 96, got 88\n",
      "  return f(*args, **kwds)\n"
     ]
    }
   ],
   "source": [
    "import os\n",
    "import sys\n",
    "import random\n",
    "import math\n",
    "import re\n",
    "import time\n",
    "import numpy as np\n",
    "import cv2\n",
    "import matplotlib\n",
    "import matplotlib.pyplot as plt\n",
    "import keras\n",
    "\n",
    "sys.path.insert(0, '../libraries')\n",
    "from mrcnn.config import Config\n",
    "import mrcnn.utils as utils\n",
    "import mrcnn.model as modellib\n",
    "import mrcnn.visualize as visualize\n",
    "from mrcnn.model import log\n",
    "import mcoco.coco as coco\n",
    "# import mextra.utils as extra_utils\n",
    "from PIL import ImageFile\n",
    "ImageFile.LOAD_TRUNCATED_IMAGES = True\n",
    "\n",
    "%matplotlib inline\n",
    "%config IPCompleter.greedy=True\n",
    "BASE_DIR = '/root/data/models/erko/mask_rcnn_instance_segmentation'\n",
    "DATA_DIR = '/root/data/erko/'\n",
    "WEIGHTS_DIR = os.path.join(BASE_DIR, \"weights\")\n",
    "MODEL_DIR = os.path.join(BASE_DIR, \"logs\")\n",
    "\n",
    "# Local path to trained weights file\n",
    "COCO_MODEL_PATH = os.path.join(WEIGHTS_DIR, \"mask_rcnn_coco.h5\")\n",
    "# Download COCO trained weights from Releases if needed\n",
    "if not os.path.exists(COCO_MODEL_PATH):\n",
    "    utils.download_trained_weights(COCO_MODEL_PATH)"
   ]
  },
  {
   "cell_type": "code",
   "execution_count": 2,
   "metadata": {},
   "outputs": [],
   "source": [
    "os.environ[\"CUDA_VISIBLE_DEVICES\"] = \"1\""
   ]
  },
  {
   "cell_type": "code",
   "execution_count": 3,
   "metadata": {},
   "outputs": [],
   "source": [
    "def get_ax(rows=1, cols=1, size=8):\n",
    "    \"\"\"Return a Matplotlib Axes array to be used in\n",
    "    all visualizations in the notebook. Provide a\n",
    "    central point to control graph sizes.\n",
    "    \n",
    "    Change the default size attribute to control the size\n",
    "    of rendered images\n",
    "    \"\"\"\n",
    "    _, ax = plt.subplots(rows, cols, figsize=(size*cols, size*rows))\n",
    "    return ax"
   ]
  },
  {
   "cell_type": "code",
   "execution_count": 4,
   "metadata": {},
   "outputs": [
    {
     "name": "stdout",
     "output_type": "stream",
     "text": [
      "loading annotations into memory...\n",
      "Done (t=0.15s)\n",
      "creating index...\n",
      "index created!\n",
      "loading annotations into memory...\n",
      "Done (t=0.14s)\n",
      "creating index...\n",
      "index created!\n",
      "loading annotations into memory...\n",
      "Done (t=0.13s)\n",
      "creating index...\n",
      "index created!\n",
      "loading annotations into memory...\n",
      "Done (t=0.06s)\n",
      "creating index...\n",
      "index created!\n",
      "loading annotations into memory...\n",
      "Done (t=0.09s)\n",
      "creating index...\n",
      "index created!\n",
      "loading annotations into memory...\n",
      "Done (t=0.09s)\n",
      "creating index...\n",
      "index created!\n",
      "loading annotations into memory...\n",
      "Done (t=0.00s)\n",
      "creating index...\n",
      "index created!\n",
      "Number of train images: 4200\n"
     ]
    }
   ],
   "source": [
    "# train dataset\n",
    "dataset_train  = coco.CocoDataset()\n",
    "dataset_train.load_coco('/root/data/aquabyte-images/cocofiles/coco_occlusion_2018-09-07.json' , class_ids=[2])\n",
    "dataset_train.load_coco('/root/data/aquabyte-images/cocofiles/coco_occlusion_2018-09-08.json' , class_ids=[2])\n",
    "dataset_train.load_coco('/root/data/aquabyte-images/cocofiles/coco_occlusion_2018-09-10.json' , class_ids=[2])\n",
    "dataset_train.load_coco('/root/data/aquabyte-images/cocofiles/coco_occlusion_2018-09-11.json' , class_ids=[2])\n",
    "dataset_train.load_coco('/root/data/aquabyte-images/cocofiles/coco_occlusion_2018-09-19.json' , class_ids=[2])\n",
    "dataset_train.load_coco('/root/data/aquabyte-images/cocofiles/coco_occlusion_2018-09-24.json' , class_ids=[2])\n",
    "dataset_train.load_coco('/root/data/aquabyte-images/cocofiles/coco_occlusion_2018-09-27.json' , class_ids=[2])\n",
    "dataset_train.prepare()\n",
    "print(\"Number of train images: {}\".format(dataset_train.num_images))"
   ]
  },
  {
   "cell_type": "code",
   "execution_count": 5,
   "metadata": {},
   "outputs": [
    {
     "name": "stdout",
     "output_type": "stream",
     "text": [
      "loading annotations into memory...\n",
      "Done (t=0.03s)\n",
      "creating index...\n",
      "index created!\n",
      "Number of test images: 378\n"
     ]
    }
   ],
   "source": [
    "# val dataset\n",
    "dataset_validate  = coco.CocoDataset()\n",
    "dataset_validate.load_coco('/root/data/aquabyte-images/cocofiles/coco_occlusion_2018-09-26.json' , class_ids=[2])\n",
    "dataset_validate.prepare()\n",
    "print(\"Number of test images: {}\".format(dataset_validate.num_images))"
   ]
  },
  {
   "cell_type": "code",
   "execution_count": 6,
   "metadata": {},
   "outputs": [
    {
     "data": {
      "image/png": "[encoded data removed]",
      "text/plain": [
       "<Figure size 1008x360 with 5 Axes>"
      ]
     },
     "metadata": {},
     "output_type": "display_data"
    },
    {
     "data": {
      "image/png": "[encoded data removed]",
      "text/plain": [
       "<Figure size 1008x360 with 5 Axes>"
      ]
     },
     "metadata": {},
     "output_type": "display_data"
    },
    {
     "data": {
      "image/png": "[encoded data removed]",
      "text/plain": [
       "<Figure size 1008x360 with 5 Axes>"
      ]
     },
     "metadata": {},
     "output_type": "display_data"
    },
    {
     "data": {
      "image/png": "[encoded data removed]",
      "text/plain": [
       "<Figure size 1008x360 with 5 Axes>"
      ]
     },
     "metadata": {},
     "output_type": "display_data"
    }
   ],
   "source": [
    "# Load and display random samples# Load  \n",
    "image_ids = np.random.choice(dataset_train.image_ids, 4)\n",
    "for image_id in image_ids:\n",
    "    image = dataset_train.load_image(image_id)\n",
    "    mask, class_ids = dataset_train.load_mask(image_id)\n",
    "    visualize.display_top_masks(image, mask, class_ids, dataset_train.class_names)"
   ]
  },
  {
   "cell_type": "markdown",
   "metadata": {},
   "source": [
    "## Configuration"
   ]
  },
  {
   "cell_type": "code",
   "execution_count": 7,
   "metadata": {
    "scrolled": true
   },
   "outputs": [
    {
     "name": "stdout",
     "output_type": "stream",
     "text": [
      "\n",
      "Configurations:\n",
      "BACKBONE                       resnet101\n",
      "BACKBONE_STRIDES               [4, 8, 16, 32, 64]\n",
      "BATCH_SIZE                     1\n",
      "BBOX_STD_DEV                   [0.1 0.1 0.2 0.2]\n",
      "DETECTION_MAX_INSTANCES        100\n",
      "DETECTION_MIN_CONFIDENCE       0.7\n",
      "DETECTION_NMS_THRESHOLD        0.3\n",
      "GPU_COUNT                      1\n",
      "GRADIENT_CLIP_NORM             5.0\n",
      "IMAGES_PER_GPU                 1\n",
      "IMAGE_MAX_DIM                  512\n",
      "IMAGE_META_SIZE                14\n",
      "IMAGE_MIN_DIM                  512\n",
      "IMAGE_MIN_SCALE                0\n",
      "IMAGE_RESIZE_MODE              square\n",
      "IMAGE_SHAPE                    [512 512   3]\n",
      "LEARNING_MOMENTUM              0.9\n",
      "LEARNING_RATE                  0.001\n",
      "LOSS_WEIGHTS                   {'mrcnn_class_loss': 1.0, 'rpn_class_loss': 1.0, 'mrcnn_bbox_loss': 1.0, 'rpn_bbox_loss': 1.0, 'mrcnn_mask_loss': 1.0}\n",
      "MASK_POOL_SIZE                 14\n",
      "MASK_SHAPE                     [28, 28]\n",
      "MAX_GT_INSTANCES               100\n",
      "MEAN_PIXEL                     [123.7 116.8 103.9]\n",
      "MINI_MASK_SHAPE                (56, 56)\n",
      "NAME                           full\n",
      "NUM_CLASSES                    2\n",
      "POOL_SIZE                      7\n",
      "POST_NMS_ROIS_INFERENCE        1000\n",
      "POST_NMS_ROIS_TRAINING         2000\n",
      "ROI_POSITIVE_RATIO             0.33\n",
      "RPN_ANCHOR_RATIOS              [0.5, 1, 2]\n",
      "RPN_ANCHOR_SCALES              (32, 64, 128, 256, 512)\n",
      "RPN_ANCHOR_STRIDE              1\n",
      "RPN_BBOX_STD_DEV               [0.1 0.1 0.2 0.2]\n",
      "RPN_NMS_THRESHOLD              0.7\n",
      "RPN_TRAIN_ANCHORS_PER_IMAGE    256\n",
      "STEPS_PER_EPOCH                1000\n",
      "TRAIN_BN                       False\n",
      "TRAIN_ROIS_PER_IMAGE           32\n",
      "USE_MINI_MASK                  True\n",
      "USE_RPN_ROIS                   True\n",
      "VALIDATION_STEPS               300\n",
      "WEIGHT_DECAY                   0.0001\n",
      "\n",
      "\n"
     ]
    }
   ],
   "source": [
    "image_size = 512\n",
    "rpn_anchor_template = (1, 2, 4, 8, 16) # anchor sizes in pixels\n",
    "rpn_anchor_scales = tuple(i * (image_size // 16) for i in rpn_anchor_template)\n",
    "\n",
    "class FishConfig(Config):\n",
    "    \"\"\"Configuration for training on the shapes dataset.\n",
    "    \"\"\"\n",
    "    # name your experiments here\n",
    "    NAME = \"full\"\n",
    "\n",
    "    # Train on 1 GPU and 2 images per GPU. Put multiple images on each\n",
    "    # GPU if the images are small. Batch size is 2 (GPUs * images/GPU).\n",
    "    GPU_COUNT = 1\n",
    "    IMAGES_PER_GPU = 1\n",
    "\n",
    "    # Number of classes (including background)\n",
    "    NUM_CLASSES = 1 + 1  # background + 3 shapes (triangles, circles, and squares)\n",
    "\n",
    "    # Use smaller images for faster training. \n",
    "    IMAGE_MAX_DIM = image_size\n",
    "    IMAGE_MIN_DIM = image_size\n",
    "    \n",
    "    # Use smaller anchors because our image and objects are small\n",
    "    RPN_ANCHOR_SCALES = rpn_anchor_scales\n",
    "\n",
    "    # Aim to allow ROI sampling to pick 33% positive ROIs.\n",
    "    TRAIN_ROIS_PER_IMAGE = 32\n",
    "\n",
    "    STEPS_PER_EPOCH = 1000\n",
    "\n",
    "    VALIDATION_STEPS = 300\n",
    "    \n",
    "config = FishConfig()\n",
    "config.display()"
   ]
  },
  {
   "cell_type": "markdown",
   "metadata": {},
   "source": [
    "## Model"
   ]
  },
  {
   "cell_type": "code",
   "execution_count": 8,
   "metadata": {},
   "outputs": [],
   "source": [
    "model = modellib.MaskRCNN(mode=\"training\", config=config, model_dir=MODEL_DIR)"
   ]
  },
  {
   "cell_type": "code",
   "execution_count": 9,
   "metadata": {},
   "outputs": [],
   "source": [
    "inititalize_weights_with = \"coco\"  # imagenet, coco, or last\n",
    "\n",
    "if inititalize_weights_with == \"imagenet\":\n",
    "    model.load_weights(model.get_imagenet_weights(), by_name=True)\n",
    "    \n",
    "elif inititalize_weights_with == \"coco\":\n",
    "    model.load_weights(COCO_MODEL_PATH, by_name=True,\n",
    "                       exclude=[\"mrcnn_class_logits\", \"mrcnn_bbox_fc\", \n",
    "                                \"mrcnn_bbox\", \"mrcnn_mask\"])\n",
    "    \n",
    "elif inititalize_weights_with == \"last\":\n",
    "    # Load the last model you trained and continue training\n",
    "    model.load_weights(model.find_last()[1], by_name=True)"
   ]
  },
  {
   "cell_type": "markdown",
   "metadata": {},
   "source": [
    "## Training"
   ]
  },
  {
   "cell_type": "code",
   "execution_count": 10,
   "metadata": {},
   "outputs": [
    {
     "name": "stderr",
     "output_type": "stream",
     "text": [
      "/usr/lib/python3.5/importlib/_bootstrap.py:222: RuntimeWarning: numpy.dtype size changed, may indicate binary incompatibility. Expected 96, got 88\n",
      "  return f(*args, **kwds)\n",
      "/usr/lib/python3.5/importlib/_bootstrap.py:222: RuntimeWarning: numpy.dtype size changed, may indicate binary incompatibility. Expected 96, got 88\n",
      "  return f(*args, **kwds)\n"
     ]
    }
   ],
   "source": [
    "# add more callbacks here if necessary\n",
    "callbacks = [\n",
    "    keras.callbacks.TensorBoard(log_dir=model.log_dir,\n",
    "                                histogram_freq=0, write_graph=True, write_images=False),\n",
    "    keras.callbacks.ModelCheckpoint(model.checkpoint_path,\n",
    "                                    verbose=0, save_weights_only=True),\n",
    "]"
   ]
  },
  {
   "cell_type": "code",
   "execution_count": null,
   "metadata": {},
   "outputs": [
    {
     "name": "stdout",
     "output_type": "stream",
     "text": [
      "\n",
      "Starting at epoch 0. LR=0.0001\n",
      "\n",
      "Checkpoint Path: /root/data/models/erko/mask_rcnn_instance_segmentation/logs/full_20181002_19H09/mask_rcnn_full_{epoch:04d}.h5\n",
      "Selecting layers to train\n",
      "conv1                  (Conv2D)\n",
      "bn_conv1               (BatchNorm)\n",
      "res2a_branch2a         (Conv2D)\n",
      "bn2a_branch2a          (BatchNorm)\n",
      "res2a_branch2b         (Conv2D)\n",
      "bn2a_branch2b          (BatchNorm)\n",
      "res2a_branch2c         (Conv2D)\n",
      "res2a_branch1          (Conv2D)\n",
      "bn2a_branch2c          (BatchNorm)\n",
      "bn2a_branch1           (BatchNorm)\n",
      "res2b_branch2a         (Conv2D)\n",
      "bn2b_branch2a          (BatchNorm)\n",
      "res2b_branch2b         (Conv2D)\n",
      "bn2b_branch2b          (BatchNorm)\n",
      "res2b_branch2c         (Conv2D)\n",
      "bn2b_branch2c          (BatchNorm)\n",
      "res2c_branch2a         (Conv2D)\n",
      "bn2c_branch2a          (BatchNorm)\n",
      "res2c_branch2b         (Conv2D)\n",
      "bn2c_branch2b          (BatchNorm)\n",
      "res2c_branch2c         (Conv2D)\n",
      "bn2c_branch2c          (BatchNorm)\n",
      "res3a_branch2a         (Conv2D)\n",
      "bn3a_branch2a          (BatchNorm)\n",
      "res3a_branch2b         (Conv2D)\n",
      "bn3a_branch2b          (BatchNorm)\n",
      "res3a_branch2c         (Conv2D)\n",
      "res3a_branch1          (Conv2D)\n",
      "bn3a_branch2c          (BatchNorm)\n",
      "bn3a_branch1           (BatchNorm)\n",
      "res3b_branch2a         (Conv2D)\n",
      "bn3b_branch2a          (BatchNorm)\n",
      "res3b_branch2b         (Conv2D)\n",
      "bn3b_branch2b          (BatchNorm)\n",
      "res3b_branch2c         (Conv2D)\n",
      "bn3b_branch2c          (BatchNorm)\n",
      "res3c_branch2a         (Conv2D)\n",
      "bn3c_branch2a          (BatchNorm)\n",
      "res3c_branch2b         (Conv2D)\n",
      "bn3c_branch2b          (BatchNorm)\n",
      "res3c_branch2c         (Conv2D)\n",
      "bn3c_branch2c          (BatchNorm)\n",
      "res3d_branch2a         (Conv2D)\n",
      "bn3d_branch2a          (BatchNorm)\n",
      "res3d_branch2b         (Conv2D)\n",
      "bn3d_branch2b          (BatchNorm)\n",
      "res3d_branch2c         (Conv2D)\n",
      "bn3d_branch2c          (BatchNorm)\n",
      "res4a_branch2a         (Conv2D)\n",
      "bn4a_branch2a          (BatchNorm)\n",
      "res4a_branch2b         (Conv2D)\n",
      "bn4a_branch2b          (BatchNorm)\n",
      "res4a_branch2c         (Conv2D)\n",
      "res4a_branch1          (Conv2D)\n",
      "bn4a_branch2c          (BatchNorm)\n",
      "bn4a_branch1           (BatchNorm)\n",
      "res4b_branch2a         (Conv2D)\n",
      "bn4b_branch2a          (BatchNorm)\n",
      "res4b_branch2b         (Conv2D)\n",
      "bn4b_branch2b          (BatchNorm)\n",
      "res4b_branch2c         (Conv2D)\n",
      "bn4b_branch2c          (BatchNorm)\n",
      "res4c_branch2a         (Conv2D)\n",
      "bn4c_branch2a          (BatchNorm)\n",
      "res4c_branch2b         (Conv2D)\n",
      "bn4c_branch2b          (BatchNorm)\n",
      "res4c_branch2c         (Conv2D)\n",
      "bn4c_branch2c          (BatchNorm)\n",
      "res4d_branch2a         (Conv2D)\n",
      "bn4d_branch2a          (BatchNorm)\n",
      "res4d_branch2b         (Conv2D)\n",
      "bn4d_branch2b          (BatchNorm)\n",
      "res4d_branch2c         (Conv2D)\n",
      "bn4d_branch2c          (BatchNorm)\n",
      "res4e_branch2a         (Conv2D)\n",
      "bn4e_branch2a          (BatchNorm)\n",
      "res4e_branch2b         (Conv2D)\n",
      "bn4e_branch2b          (BatchNorm)\n",
      "res4e_branch2c         (Conv2D)\n",
      "bn4e_branch2c          (BatchNorm)\n",
      "res4f_branch2a         (Conv2D)\n",
      "bn4f_branch2a          (BatchNorm)\n",
      "res4f_branch2b         (Conv2D)\n",
      "bn4f_branch2b          (BatchNorm)\n",
      "res4f_branch2c         (Conv2D)\n",
      "bn4f_branch2c          (BatchNorm)\n",
      "res4g_branch2a         (Conv2D)\n",
      "bn4g_branch2a          (BatchNorm)\n",
      "res4g_branch2b         (Conv2D)\n",
      "bn4g_branch2b          (BatchNorm)\n",
      "res4g_branch2c         (Conv2D)\n",
      "bn4g_branch2c          (BatchNorm)\n",
      "res4h_branch2a         (Conv2D)\n",
      "bn4h_branch2a          (BatchNorm)\n",
      "res4h_branch2b         (Conv2D)\n",
      "bn4h_branch2b          (BatchNorm)\n",
      "res4h_branch2c         (Conv2D)\n",
      "bn4h_branch2c          (BatchNorm)\n",
      "res4i_branch2a         (Conv2D)\n",
      "bn4i_branch2a          (BatchNorm)\n",
      "res4i_branch2b         (Conv2D)\n",
      "bn4i_branch2b          (BatchNorm)\n",
      "res4i_branch2c         (Conv2D)\n",
      "bn4i_branch2c          (BatchNorm)\n",
      "res4j_branch2a         (Conv2D)\n",
      "bn4j_branch2a          (BatchNorm)\n",
      "res4j_branch2b         (Conv2D)\n",
      "bn4j_branch2b          (BatchNorm)\n",
      "res4j_branch2c         (Conv2D)\n",
      "bn4j_branch2c          (BatchNorm)\n",
      "res4k_branch2a         (Conv2D)\n",
      "bn4k_branch2a          (BatchNorm)\n",
      "res4k_branch2b         (Conv2D)\n",
      "bn4k_branch2b          (BatchNorm)\n",
      "res4k_branch2c         (Conv2D)\n",
      "bn4k_branch2c          (BatchNorm)\n",
      "res4l_branch2a         (Conv2D)\n",
      "bn4l_branch2a          (BatchNorm)\n",
      "res4l_branch2b         (Conv2D)\n",
      "bn4l_branch2b          (BatchNorm)\n",
      "res4l_branch2c         (Conv2D)\n",
      "bn4l_branch2c          (BatchNorm)\n",
      "res4m_branch2a         (Conv2D)\n",
      "bn4m_branch2a          (BatchNorm)\n",
      "res4m_branch2b         (Conv2D)\n",
      "bn4m_branch2b          (BatchNorm)\n",
      "res4m_branch2c         (Conv2D)\n",
      "bn4m_branch2c          (BatchNorm)\n",
      "res4n_branch2a         (Conv2D)\n",
      "bn4n_branch2a          (BatchNorm)\n",
      "res4n_branch2b         (Conv2D)\n",
      "bn4n_branch2b          (BatchNorm)\n",
      "res4n_branch2c         (Conv2D)\n",
      "bn4n_branch2c          (BatchNorm)\n",
      "res4o_branch2a         (Conv2D)\n",
      "bn4o_branch2a          (BatchNorm)\n",
      "res4o_branch2b         (Conv2D)\n",
      "bn4o_branch2b          (BatchNorm)\n",
      "res4o_branch2c         (Conv2D)\n",
      "bn4o_branch2c          (BatchNorm)\n",
      "res4p_branch2a         (Conv2D)\n",
      "bn4p_branch2a          (BatchNorm)\n",
      "res4p_branch2b         (Conv2D)\n",
      "bn4p_branch2b          (BatchNorm)\n",
      "res4p_branch2c         (Conv2D)\n",
      "bn4p_branch2c          (BatchNorm)\n",
      "res4q_branch2a         (Conv2D)\n",
      "bn4q_branch2a          (BatchNorm)\n",
      "res4q_branch2b         (Conv2D)\n",
      "bn4q_branch2b          (BatchNorm)\n",
      "res4q_branch2c         (Conv2D)\n",
      "bn4q_branch2c          (BatchNorm)\n",
      "res4r_branch2a         (Conv2D)\n",
      "bn4r_branch2a          (BatchNorm)\n",
      "res4r_branch2b         (Conv2D)\n",
      "bn4r_branch2b          (BatchNorm)\n",
      "res4r_branch2c         (Conv2D)\n",
      "bn4r_branch2c          (BatchNorm)\n",
      "res4s_branch2a         (Conv2D)\n",
      "bn4s_branch2a          (BatchNorm)\n",
      "res4s_branch2b         (Conv2D)\n",
      "bn4s_branch2b          (BatchNorm)\n",
      "res4s_branch2c         (Conv2D)\n",
      "bn4s_branch2c          (BatchNorm)\n",
      "res4t_branch2a         (Conv2D)\n",
      "bn4t_branch2a          (BatchNorm)\n",
      "res4t_branch2b         (Conv2D)\n",
      "bn4t_branch2b          (BatchNorm)\n",
      "res4t_branch2c         (Conv2D)\n",
      "bn4t_branch2c          (BatchNorm)\n",
      "res4u_branch2a         (Conv2D)\n",
      "bn4u_branch2a          (BatchNorm)\n",
      "res4u_branch2b         (Conv2D)\n",
      "bn4u_branch2b          (BatchNorm)\n",
      "res4u_branch2c         (Conv2D)\n",
      "bn4u_branch2c          (BatchNorm)\n",
      "res4v_branch2a         (Conv2D)\n",
      "bn4v_branch2a          (BatchNorm)\n",
      "res4v_branch2b         (Conv2D)\n",
      "bn4v_branch2b          (BatchNorm)\n",
      "res4v_branch2c         (Conv2D)\n",
      "bn4v_branch2c          (BatchNorm)\n",
      "res4w_branch2a         (Conv2D)\n",
      "bn4w_branch2a          (BatchNorm)\n",
      "res4w_branch2b         (Conv2D)\n",
      "bn4w_branch2b          (BatchNorm)\n",
      "res4w_branch2c         (Conv2D)\n",
      "bn4w_branch2c          (BatchNorm)\n",
      "res5a_branch2a         (Conv2D)\n",
      "bn5a_branch2a          (BatchNorm)\n",
      "res5a_branch2b         (Conv2D)\n",
      "bn5a_branch2b          (BatchNorm)\n",
      "res5a_branch2c         (Conv2D)\n",
      "res5a_branch1          (Conv2D)\n",
      "bn5a_branch2c          (BatchNorm)\n",
      "bn5a_branch1           (BatchNorm)\n",
      "res5b_branch2a         (Conv2D)\n",
      "bn5b_branch2a          (BatchNorm)\n",
      "res5b_branch2b         (Conv2D)\n",
      "bn5b_branch2b          (BatchNorm)\n",
      "res5b_branch2c         (Conv2D)\n",
      "bn5b_branch2c          (BatchNorm)\n",
      "res5c_branch2a         (Conv2D)\n",
      "bn5c_branch2a          (BatchNorm)\n",
      "res5c_branch2b         (Conv2D)\n",
      "bn5c_branch2b          (BatchNorm)\n",
      "res5c_branch2c         (Conv2D)\n",
      "bn5c_branch2c          (BatchNorm)\n",
      "fpn_c5p5               (Conv2D)\n",
      "fpn_c4p4               (Conv2D)\n",
      "fpn_c3p3               (Conv2D)\n",
      "fpn_c2p2               (Conv2D)\n",
      "fpn_p5                 (Conv2D)\n",
      "fpn_p2                 (Conv2D)\n",
      "fpn_p3                 (Conv2D)\n",
      "fpn_p4                 (Conv2D)\n",
      "In model:  rpn_model\n",
      "    rpn_conv_shared        (Conv2D)\n",
      "    rpn_class_raw          (Conv2D)\n",
      "    rpn_bbox_pred          (Conv2D)\n",
      "mrcnn_mask_conv1       (TimeDistributed)\n",
      "mrcnn_mask_bn1         (TimeDistributed)\n",
      "mrcnn_mask_conv2       (TimeDistributed)\n",
      "mrcnn_mask_bn2         (TimeDistributed)\n",
      "mrcnn_class_conv1      (TimeDistributed)\n",
      "mrcnn_class_bn1        (TimeDistributed)\n",
      "mrcnn_mask_conv3       (TimeDistributed)\n",
      "mrcnn_mask_bn3         (TimeDistributed)\n",
      "mrcnn_class_conv2      (TimeDistributed)\n",
      "mrcnn_class_bn2        (TimeDistributed)\n",
      "mrcnn_mask_conv4       (TimeDistributed)\n",
      "mrcnn_mask_bn4         (TimeDistributed)\n",
      "mrcnn_bbox_fc          (TimeDistributed)\n",
      "mrcnn_mask_deconv      (TimeDistributed)\n",
      "mrcnn_class_logits     (TimeDistributed)\n",
      "mrcnn_mask             (TimeDistributed)\n"
     ]
    },
    {
     "name": "stderr",
     "output_type": "stream",
     "text": [
      "/usr/local/lib/python3.5/dist-packages/tensorflow/python/ops/gradients_impl.py:100: UserWarning: Converting sparse IndexedSlices to a dense Tensor of unknown shape. This may consume a large amount of memory.\n",
      "  \"Converting sparse IndexedSlices to a dense Tensor of unknown shape. \"\n",
      "/usr/local/lib/python3.5/dist-packages/keras/engine/training_generator.py:46: UserWarning: Using a generator with `use_multiprocessing=True` and multiple workers may duplicate your data. Please consider using the`keras.utils.Sequence class.\n",
      "  UserWarning('Using a generator with `use_multiprocessing=True`'\n"
     ]
    },
    {
     "name": "stdout",
     "output_type": "stream",
     "text": [
      "Epoch 1/100\n",
      "1000/1000 [==============================] - 569s 569ms/step - loss: 0.9618 - rpn_class_loss: 0.0201 - rpn_bbox_loss: 0.1577 - mrcnn_class_loss: 0.2636 - mrcnn_bbox_loss: 0.2879 - mrcnn_mask_loss: 0.2324 - val_loss: 0.5667 - val_rpn_class_loss: 0.0102 - val_rpn_bbox_loss: 0.0929 - val_mrcnn_class_loss: 0.1333 - val_mrcnn_bbox_loss: 0.1611 - val_mrcnn_mask_loss: 0.1692\n",
      "Epoch 2/100\n",
      "1000/1000 [==============================] - 495s 495ms/step - loss: 0.6293 - rpn_class_loss: 0.0127 - rpn_bbox_loss: 0.1073 - mrcnn_class_loss: 0.1745 - mrcnn_bbox_loss: 0.1444 - mrcnn_mask_loss: 0.1905 - val_loss: 0.4724 - val_rpn_class_loss: 0.0074 - val_rpn_bbox_loss: 0.0812 - val_mrcnn_class_loss: 0.1152 - val_mrcnn_bbox_loss: 0.1117 - val_mrcnn_mask_loss: 0.1570\n",
      "Epoch 3/100\n",
      "1000/1000 [==============================] - 490s 490ms/step - loss: 0.5777 - rpn_class_loss: 0.0116 - rpn_bbox_loss: 0.0900 - mrcnn_class_loss: 0.1689 - mrcnn_bbox_loss: 0.1233 - mrcnn_mask_loss: 0.1839 - val_loss: 0.4206 - val_rpn_class_loss: 0.0067 - val_rpn_bbox_loss: 0.0670 - val_mrcnn_class_loss: 0.1065 - val_mrcnn_bbox_loss: 0.0925 - val_mrcnn_mask_loss: 0.1479\n",
      "Epoch 4/100\n",
      "1000/1000 [==============================] - 487s 487ms/step - loss: 0.5246 - rpn_class_loss: 0.0104 - rpn_bbox_loss: 0.0831 - mrcnn_class_loss: 0.1529 - mrcnn_bbox_loss: 0.1039 - mrcnn_mask_loss: 0.1743 - val_loss: 0.4124 - val_rpn_class_loss: 0.0062 - val_rpn_bbox_loss: 0.0656 - val_mrcnn_class_loss: 0.1050 - val_mrcnn_bbox_loss: 0.0918 - val_mrcnn_mask_loss: 0.1438\n",
      "Epoch 5/100\n",
      "1000/1000 [==============================] - 481s 481ms/step - loss: 0.4852 - rpn_class_loss: 0.0100 - rpn_bbox_loss: 0.0742 - mrcnn_class_loss: 0.1408 - mrcnn_bbox_loss: 0.0920 - mrcnn_mask_loss: 0.1682 - val_loss: 0.3661 - val_rpn_class_loss: 0.0061 - val_rpn_bbox_loss: 0.0551 - val_mrcnn_class_loss: 0.0900 - val_mrcnn_bbox_loss: 0.0705 - val_mrcnn_mask_loss: 0.1445\n",
      "Epoch 6/100\n",
      "1000/1000 [==============================] - 485s 485ms/step - loss: 0.4778 - rpn_class_loss: 0.0094 - rpn_bbox_loss: 0.0705 - mrcnn_class_loss: 0.1381 - mrcnn_bbox_loss: 0.0908 - mrcnn_mask_loss: 0.1691 - val_loss: 0.3733 - val_rpn_class_loss: 0.0059 - val_rpn_bbox_loss: 0.0677 - val_mrcnn_class_loss: 0.0865 - val_mrcnn_bbox_loss: 0.0733 - val_mrcnn_mask_loss: 0.1399\n",
      "Epoch 7/100\n",
      "1000/1000 [==============================] - 481s 481ms/step - loss: 0.4541 - rpn_class_loss: 0.0092 - rpn_bbox_loss: 0.0708 - mrcnn_class_loss: 0.1294 - mrcnn_bbox_loss: 0.0814 - mrcnn_mask_loss: 0.1634 - val_loss: 0.3570 - val_rpn_class_loss: 0.0053 - val_rpn_bbox_loss: 0.0575 - val_mrcnn_class_loss: 0.0824 - val_mrcnn_bbox_loss: 0.0745 - val_mrcnn_mask_loss: 0.1373\n",
      "Epoch 8/100\n",
      "1000/1000 [==============================] - 492s 492ms/step - loss: 0.4329 - rpn_class_loss: 0.0084 - rpn_bbox_loss: 0.0644 - mrcnn_class_loss: 0.1255 - mrcnn_bbox_loss: 0.0753 - mrcnn_mask_loss: 0.1594 - val_loss: 0.3658 - val_rpn_class_loss: 0.0059 - val_rpn_bbox_loss: 0.0535 - val_mrcnn_class_loss: 0.0920 - val_mrcnn_bbox_loss: 0.0746 - val_mrcnn_mask_loss: 0.1398\n",
      "Epoch 9/100\n",
      "1000/1000 [==============================] - 487s 487ms/step - loss: 0.4413 - rpn_class_loss: 0.0088 - rpn_bbox_loss: 0.0663 - mrcnn_class_loss: 0.1310 - mrcnn_bbox_loss: 0.0758 - mrcnn_mask_loss: 0.1595 - val_loss: 0.3222 - val_rpn_class_loss: 0.0050 - val_rpn_bbox_loss: 0.0544 - val_mrcnn_class_loss: 0.0730 - val_mrcnn_bbox_loss: 0.0557 - val_mrcnn_mask_loss: 0.1341\n",
      "Epoch 10/100\n",
      "1000/1000 [==============================] - 486s 486ms/step - loss: 0.4202 - rpn_class_loss: 0.0086 - rpn_bbox_loss: 0.0629 - mrcnn_class_loss: 0.1213 - mrcnn_bbox_loss: 0.0723 - mrcnn_mask_loss: 0.1551 - val_loss: 0.3391 - val_rpn_class_loss: 0.0044 - val_rpn_bbox_loss: 0.0516 - val_mrcnn_class_loss: 0.0867 - val_mrcnn_bbox_loss: 0.0600 - val_mrcnn_mask_loss: 0.1364\n",
      "Epoch 11/100\n",
      "1000/1000 [==============================] - 491s 491ms/step - loss: 0.4213 - rpn_class_loss: 0.0091 - rpn_bbox_loss: 0.0584 - mrcnn_class_loss: 0.1274 - mrcnn_bbox_loss: 0.0686 - mrcnn_mask_loss: 0.1578 - val_loss: 0.3137 - val_rpn_class_loss: 0.0047 - val_rpn_bbox_loss: 0.0549 - val_mrcnn_class_loss: 0.0638 - val_mrcnn_bbox_loss: 0.0595 - val_mrcnn_mask_loss: 0.1307\n",
      "Epoch 12/100\n",
      "1000/1000 [==============================] - 488s 488ms/step - loss: 0.3733 - rpn_class_loss: 0.0072 - rpn_bbox_loss: 0.0494 - mrcnn_class_loss: 0.1065 - mrcnn_bbox_loss: 0.0608 - mrcnn_mask_loss: 0.1494 - val_loss: 0.3173 - val_rpn_class_loss: 0.0043 - val_rpn_bbox_loss: 0.0537 - val_mrcnn_class_loss: 0.0728 - val_mrcnn_bbox_loss: 0.0608 - val_mrcnn_mask_loss: 0.1257\n",
      "Epoch 13/100\n",
      "1000/1000 [==============================] - 485s 485ms/step - loss: 0.3627 - rpn_class_loss: 0.0069 - rpn_bbox_loss: 0.0480 - mrcnn_class_loss: 0.1025 - mrcnn_bbox_loss: 0.0592 - mrcnn_mask_loss: 0.1461 - val_loss: 0.2971 - val_rpn_class_loss: 0.0046 - val_rpn_bbox_loss: 0.0477 - val_mrcnn_class_loss: 0.0675 - val_mrcnn_bbox_loss: 0.0512 - val_mrcnn_mask_loss: 0.1261\n",
      "Epoch 14/100\n",
      "1000/1000 [==============================] - 484s 484ms/step - loss: 0.3526 - rpn_class_loss: 0.0070 - rpn_bbox_loss: 0.0454 - mrcnn_class_loss: 0.1040 - mrcnn_bbox_loss: 0.0540 - mrcnn_mask_loss: 0.1422 - val_loss: 0.3346 - val_rpn_class_loss: 0.0040 - val_rpn_bbox_loss: 0.0527 - val_mrcnn_class_loss: 0.0870 - val_mrcnn_bbox_loss: 0.0599 - val_mrcnn_mask_loss: 0.1310\n",
      "Epoch 15/100\n",
      "1000/1000 [==============================] - 477s 477ms/step - loss: 0.3631 - rpn_class_loss: 0.0075 - rpn_bbox_loss: 0.0473 - mrcnn_class_loss: 0.1060 - mrcnn_bbox_loss: 0.0557 - mrcnn_mask_loss: 0.1465 - val_loss: 0.3094 - val_rpn_class_loss: 0.0040 - val_rpn_bbox_loss: 0.0525 - val_mrcnn_class_loss: 0.0734 - val_mrcnn_bbox_loss: 0.0533 - val_mrcnn_mask_loss: 0.1262\n",
      "Epoch 16/100\n",
      "1000/1000 [==============================] - 468s 468ms/step - loss: 0.3296 - rpn_class_loss: 0.0065 - rpn_bbox_loss: 0.0430 - mrcnn_class_loss: 0.0924 - mrcnn_bbox_loss: 0.0492 - mrcnn_mask_loss: 0.1385 - val_loss: 0.3145 - val_rpn_class_loss: 0.0044 - val_rpn_bbox_loss: 0.0583 - val_mrcnn_class_loss: 0.0644 - val_mrcnn_bbox_loss: 0.0580 - val_mrcnn_mask_loss: 0.1293\n",
      "Epoch 17/100\n",
      "1000/1000 [==============================] - 495s 495ms/step - loss: 0.3236 - rpn_class_loss: 0.0059 - rpn_bbox_loss: 0.0389 - mrcnn_class_loss: 0.0938 - mrcnn_bbox_loss: 0.0474 - mrcnn_mask_loss: 0.1376 - val_loss: 0.2895 - val_rpn_class_loss: 0.0039 - val_rpn_bbox_loss: 0.0508 - val_mrcnn_class_loss: 0.0604 - val_mrcnn_bbox_loss: 0.0499 - val_mrcnn_mask_loss: 0.1244\n",
      "Epoch 18/100\n",
      "1000/1000 [==============================] - 468s 468ms/step - loss: 0.3183 - rpn_class_loss: 0.0063 - rpn_bbox_loss: 0.0376 - mrcnn_class_loss: 0.0914 - mrcnn_bbox_loss: 0.0456 - mrcnn_mask_loss: 0.1374 - val_loss: 0.3170 - val_rpn_class_loss: 0.0045 - val_rpn_bbox_loss: 0.0551 - val_mrcnn_class_loss: 0.0693 - val_mrcnn_bbox_loss: 0.0575 - val_mrcnn_mask_loss: 0.1306\n",
      "Epoch 19/100\n",
      "1000/1000 [==============================] - 466s 466ms/step - loss: 0.3222 - rpn_class_loss: 0.0067 - rpn_bbox_loss: 0.0392 - mrcnn_class_loss: 0.0922 - mrcnn_bbox_loss: 0.0468 - mrcnn_mask_loss: 0.1373 - val_loss: 0.2974 - val_rpn_class_loss: 0.0044 - val_rpn_bbox_loss: 0.0498 - val_mrcnn_class_loss: 0.0675 - val_mrcnn_bbox_loss: 0.0510 - val_mrcnn_mask_loss: 0.1248\n",
      "Epoch 20/100\n",
      "1000/1000 [==============================] - 469s 469ms/step - loss: 0.3155 - rpn_class_loss: 0.0062 - rpn_bbox_loss: 0.0369 - mrcnn_class_loss: 0.0919 - mrcnn_bbox_loss: 0.0442 - mrcnn_mask_loss: 0.1363 - val_loss: 0.3111 - val_rpn_class_loss: 0.0037 - val_rpn_bbox_loss: 0.0505 - val_mrcnn_class_loss: 0.0771 - val_mrcnn_bbox_loss: 0.0505 - val_mrcnn_mask_loss: 0.1294\n",
      "Epoch 21/100\n",
      "1000/1000 [==============================] - 467s 467ms/step - loss: 0.3009 - rpn_class_loss: 0.0058 - rpn_bbox_loss: 0.0345 - mrcnn_class_loss: 0.0877 - mrcnn_bbox_loss: 0.0403 - mrcnn_mask_loss: 0.1325 - val_loss: 0.3242 - val_rpn_class_loss: 0.0047 - val_rpn_bbox_loss: 0.0464 - val_mrcnn_class_loss: 0.0813 - val_mrcnn_bbox_loss: 0.0593 - val_mrcnn_mask_loss: 0.1325\n",
      "Epoch 22/100\n",
      "1000/1000 [==============================] - 470s 470ms/step - loss: 0.3085 - rpn_class_loss: 0.0062 - rpn_bbox_loss: 0.0362 - mrcnn_class_loss: 0.0915 - mrcnn_bbox_loss: 0.0417 - mrcnn_mask_loss: 0.1329 - val_loss: 0.3004 - val_rpn_class_loss: 0.0036 - val_rpn_bbox_loss: 0.0454 - val_mrcnn_class_loss: 0.0681 - val_mrcnn_bbox_loss: 0.0614 - val_mrcnn_mask_loss: 0.1219\n",
      "Epoch 23/100\n",
      "1000/1000 [==============================] - 466s 466ms/step - loss: 0.3132 - rpn_class_loss: 0.0068 - rpn_bbox_loss: 0.0377 - mrcnn_class_loss: 0.0934 - mrcnn_bbox_loss: 0.0405 - mrcnn_mask_loss: 0.1348 - val_loss: 0.3217 - val_rpn_class_loss: 0.0040 - val_rpn_bbox_loss: 0.0496 - val_mrcnn_class_loss: 0.0878 - val_mrcnn_bbox_loss: 0.0528 - val_mrcnn_mask_loss: 0.1275\n",
      "Epoch 24/100\n",
      "1000/1000 [==============================] - 470s 470ms/step - loss: 0.3056 - rpn_class_loss: 0.0058 - rpn_bbox_loss: 0.0330 - mrcnn_class_loss: 0.0919 - mrcnn_bbox_loss: 0.0400 - mrcnn_mask_loss: 0.1348 - val_loss: 0.3169 - val_rpn_class_loss: 0.0039 - val_rpn_bbox_loss: 0.0493 - val_mrcnn_class_loss: 0.0820 - val_mrcnn_bbox_loss: 0.0546 - val_mrcnn_mask_loss: 0.1272\n",
      "Epoch 25/100\n",
      "1000/1000 [==============================] - 468s 468ms/step - loss: 0.2932 - rpn_class_loss: 0.0058 - rpn_bbox_loss: 0.0324 - mrcnn_class_loss: 0.0843 - mrcnn_bbox_loss: 0.0387 - mrcnn_mask_loss: 0.1320 - val_loss: 0.2824 - val_rpn_class_loss: 0.0036 - val_rpn_bbox_loss: 0.0446 - val_mrcnn_class_loss: 0.0698 - val_mrcnn_bbox_loss: 0.0470 - val_mrcnn_mask_loss: 0.1173\n",
      "Epoch 26/100\n",
      "1000/1000 [==============================] - 466s 466ms/step - loss: 0.2941 - rpn_class_loss: 0.0061 - rpn_bbox_loss: 0.0330 - mrcnn_class_loss: 0.0847 - mrcnn_bbox_loss: 0.0375 - mrcnn_mask_loss: 0.1328 - val_loss: 0.2942 - val_rpn_class_loss: 0.0040 - val_rpn_bbox_loss: 0.0500 - val_mrcnn_class_loss: 0.0687 - val_mrcnn_bbox_loss: 0.0464 - val_mrcnn_mask_loss: 0.1252\n",
      "Epoch 27/100\n",
      "1000/1000 [==============================] - 465s 465ms/step - loss: 0.2911 - rpn_class_loss: 0.0054 - rpn_bbox_loss: 0.0316 - mrcnn_class_loss: 0.0852 - mrcnn_bbox_loss: 0.0373 - mrcnn_mask_loss: 0.1316 - val_loss: 0.2859 - val_rpn_class_loss: 0.0038 - val_rpn_bbox_loss: 0.0470 - val_mrcnn_class_loss: 0.0649 - val_mrcnn_bbox_loss: 0.0479 - val_mrcnn_mask_loss: 0.1221\n",
      "Epoch 28/100\n",
      "1000/1000 [==============================] - 468s 468ms/step - loss: 0.2764 - rpn_class_loss: 0.0056 - rpn_bbox_loss: 0.0295 - mrcnn_class_loss: 0.0810 - mrcnn_bbox_loss: 0.0351 - mrcnn_mask_loss: 0.1252 - val_loss: 0.2975 - val_rpn_class_loss: 0.0039 - val_rpn_bbox_loss: 0.0490 - val_mrcnn_class_loss: 0.0755 - val_mrcnn_bbox_loss: 0.0450 - val_mrcnn_mask_loss: 0.1240\n",
      "Epoch 29/100\n",
      "1000/1000 [==============================] - 468s 468ms/step - loss: 0.2682 - rpn_class_loss: 0.0051 - rpn_bbox_loss: 0.0277 - mrcnn_class_loss: 0.0765 - mrcnn_bbox_loss: 0.0336 - mrcnn_mask_loss: 0.1252 - val_loss: 0.3237 - val_rpn_class_loss: 0.0045 - val_rpn_bbox_loss: 0.0528 - val_mrcnn_class_loss: 0.0793 - val_mrcnn_bbox_loss: 0.0590 - val_mrcnn_mask_loss: 0.1281\n",
      "Epoch 30/100\n",
      "1000/1000 [==============================] - 470s 470ms/step - loss: 0.2776 - rpn_class_loss: 0.0056 - rpn_bbox_loss: 0.0288 - mrcnn_class_loss: 0.0793 - mrcnn_bbox_loss: 0.0348 - mrcnn_mask_loss: 0.1291 - val_loss: 0.3024 - val_rpn_class_loss: 0.0040 - val_rpn_bbox_loss: 0.0463 - val_mrcnn_class_loss: 0.0822 - val_mrcnn_bbox_loss: 0.0472 - val_mrcnn_mask_loss: 0.1227\n",
      "Epoch 31/100\n",
      "1000/1000 [==============================] - 466s 466ms/step - loss: 0.2713 - rpn_class_loss: 0.0049 - rpn_bbox_loss: 0.0278 - mrcnn_class_loss: 0.0786 - mrcnn_bbox_loss: 0.0326 - mrcnn_mask_loss: 0.1274 - val_loss: 0.2787 - val_rpn_class_loss: 0.0039 - val_rpn_bbox_loss: 0.0463 - val_mrcnn_class_loss: 0.0637 - val_mrcnn_bbox_loss: 0.0464 - val_mrcnn_mask_loss: 0.1185\n",
      "Epoch 32/100\n",
      "1000/1000 [==============================] - 471s 471ms/step - loss: 0.2655 - rpn_class_loss: 0.0051 - rpn_bbox_loss: 0.0279 - mrcnn_class_loss: 0.0709 - mrcnn_bbox_loss: 0.0326 - mrcnn_mask_loss: 0.1291 - val_loss: 0.3014 - val_rpn_class_loss: 0.0038 - val_rpn_bbox_loss: 0.0470 - val_mrcnn_class_loss: 0.0736 - val_mrcnn_bbox_loss: 0.0523 - val_mrcnn_mask_loss: 0.1247\n",
      "Epoch 33/100\n",
      "1000/1000 [==============================] - 464s 464ms/step - loss: 0.2467 - rpn_class_loss: 0.0043 - rpn_bbox_loss: 0.0245 - mrcnn_class_loss: 0.0631 - mrcnn_bbox_loss: 0.0297 - mrcnn_mask_loss: 0.1253 - val_loss: 0.3399 - val_rpn_class_loss: 0.0048 - val_rpn_bbox_loss: 0.0485 - val_mrcnn_class_loss: 0.1008 - val_mrcnn_bbox_loss: 0.0567 - val_mrcnn_mask_loss: 0.1291\n",
      "Epoch 34/100\n",
      "1000/1000 [==============================] - 463s 463ms/step - loss: 0.2501 - rpn_class_loss: 0.0054 - rpn_bbox_loss: 0.0256 - mrcnn_class_loss: 0.0663 - mrcnn_bbox_loss: 0.0298 - mrcnn_mask_loss: 0.1231 - val_loss: 0.2834 - val_rpn_class_loss: 0.0039 - val_rpn_bbox_loss: 0.0509 - val_mrcnn_class_loss: 0.0536 - val_mrcnn_bbox_loss: 0.0522 - val_mrcnn_mask_loss: 0.1228\n",
      "Epoch 35/100\n",
      " 882/1000 [=========================>....] - ETA: 46s - loss: 0.2719 - rpn_class_loss: 0.0058 - rpn_bbox_loss: 0.0283 - mrcnn_class_loss: 0.0775 - mrcnn_bbox_loss: 0.0319 - mrcnn_mask_loss: 0.1283"
     ]
    }
   ],
   "source": [
    "model.train(dataset_train, dataset_validate, \n",
    "            learning_rate=config.LEARNING_RATE / 10,\n",
    "            epochs=100, # starts from the previous epoch, so only 1 additional is trained \n",
    "            layers=\"all\",\n",
    "            callback_list=callbacks)"
   ]
  },
  {
   "cell_type": "markdown",
   "metadata": {},
   "source": [
    "## Detection"
   ]
  },
  {
   "cell_type": "markdown",
   "metadata": {},
   "source": [
    "### 1 - Inference config"
   ]
  },
  {
   "cell_type": "code",
   "execution_count": null,
   "metadata": {},
   "outputs": [],
   "source": [
    "class InferenceConfig(FishConfig):\n",
    "    GPU_COUNT = 1\n",
    "    IMAGES_PER_GPU = 1\n",
    "\n",
    "inference_config = InferenceConfig()\n",
    "\n",
    "# Recreate the model in inference mode\n",
    "model = modellib.MaskRCNN(mode=\"inference\", \n",
    "                          config=inference_config,\n",
    "                          model_dir=MODEL_DIR)\n",
    "\n",
    "# Get path to saved weights\n",
    "# Either set a specific path or find last trained weights\n",
    "# model_path = os.path.join(ROOT_DIR, \".h5 file name here\")\n",
    "print(model.find_last()[1])\n",
    "model_path = model.find_last()[1]\n",
    "\n",
    "# Load trained weights (fill in path to trained weights here)\n",
    "assert model_path != \"\", \"Provide path to trained weights\"\n",
    "print(\"Loading weights from \", model_path)\n",
    "model.load_weights(model_path, by_name=True)"
   ]
  },
  {
   "cell_type": "markdown",
   "metadata": {},
   "source": [
    "### 2 - Visualisation of prediction on every image of test set"
   ]
  },
  {
   "cell_type": "markdown",
   "metadata": {},
   "source": [
    "**Instructions** : Press enter to continue to next image, and ctrl + c or pause the kernel to stop (then enter)"
   ]
  },
  {
   "cell_type": "code",
   "execution_count": null,
   "metadata": {},
   "outputs": [],
   "source": [
    "try:\n",
    "    while True:\n",
    "        for image_id in dataset_validate.image_ids:\n",
    "            original_image, image_meta, gt_class_id, gt_bbox, gt_mask =\\\n",
    "            modellib.load_image_gt(dataset_validate, inference_config, \n",
    "                           image_id, use_mini_mask=False)\n",
    "\n",
    "            log(\"original_image\", original_image)\n",
    "            log(\"image_meta\", image_meta)\n",
    "            log(\"gt_class_id\", gt_class_id)\n",
    "            log(\"gt_bbox\", gt_bbox)\n",
    "            log(\"gt_mask\", gt_mask)\n",
    "\n",
    "            visualize.display_instances(original_image, gt_bbox, gt_mask, gt_class_id, \n",
    "                            dataset_validate.class_names, figsize=(8, 8))\n",
    "\n",
    "            results = model.detect([original_image], verbose=1)\n",
    "            r = results[0]\n",
    "            visualize.display_instances(original_image, r['rois'], r['masks'], r['class_ids'], \n",
    "                            dataset_validate.class_names, r['scores'], ax=get_ax())\n",
    "\n",
    "            visualize.display_differences(original_image, gt_bbox, gt_class_id, gt_mask,\n",
    "                        r['rois'], r['class_ids'], r['scores'], r['masks'],\n",
    "                        dataset_validate.class_names)\n",
    "\n",
    "            input('Press enter to continue: ')\n",
    "except KeyboardInterrupt:\n",
    "    pass"
   ]
  },
  {
   "cell_type": "markdown",
   "metadata": {},
   "source": [
    "### 3 - Evaluation of prediction on every image of test set"
   ]
  },
  {
   "cell_type": "code",
   "execution_count": null,
   "metadata": {},
   "outputs": [],
   "source": [
    "        for class_name in class_precision_info:\n",
    "            if class_precisions.get(class_name):\n",
    "                class_precisions[class_name].append(class_precision_info[class_name]['average_precision'])\n",
    "            else:\n",
    "                class_precisions[class_name] = [class_precision_info[class_name]['average_precision']]"
   ]
  },
  {
   "cell_type": "markdown",
   "metadata": {},
   "source": [
    "#### 3.1 - mAP"
   ]
  },
  {
   "cell_type": "code",
   "execution_count": null,
   "metadata": {},
   "outputs": [],
   "source": [
    "predictions =\\\n",
    "extra_utils.compute_multiple_per_class_precision(model, inference_config, dataset_validate, iou_threshold=0.5)\n",
    "complete_predictions = []\n",
    "\n",
    "for shape in predictions:\n",
    "    complete_predictions += predictions[shape]\n",
    "    print(\"{} ({}): {}\".format(shape, len(predictions[shape]), np.mean(predictions[shape])))\n",
    "\n",
    "print(\"--------\")\n",
    "print(\"average: {}\".format(np.mean(complete_predictions)))"
   ]
  },
  {
   "cell_type": "markdown",
   "metadata": {},
   "source": [
    "#### 3.2 - Complementary metrics"
   ]
  },
  {
   "cell_type": "markdown",
   "metadata": {},
   "source": [
    "Histograms of detected fishes"
   ]
  },
  {
   "cell_type": "code",
   "execution_count": null,
   "metadata": {},
   "outputs": [],
   "source": [
    "from mextra.utils import compute_per_class_precision"
   ]
  },
  {
   "cell_type": "code",
   "execution_count": null,
   "metadata": {},
   "outputs": [],
   "source": [
    "d = {'nb_gt_fish':[], 'nb_pred_fish':[]}\n",
    "mean_overlaps = []\n",
    "for image_id in dataset_validate.image_ids:\n",
    "    image, _, gt_class_id, gt_bbox, gt_mask =\\\n",
    "            modellib.load_image_gt(dataset_validate, inference_config,\n",
    "                                image_id, use_mini_mask=False)\n",
    "    results = model.detect([image], verbose=0)\n",
    "    r = results[0]\n",
    "    d['nb_gt_fish'].append(float(gt_mask.shape[-1]))\n",
    "    d['nb_pred_fish'].append(float(r['masks'].shape[-1]))\n",
    "    print(r['class_ids'])\n",
    "    class_precision_info =\\\n",
    "    compute_per_class_precision(gt_bbox, gt_class_id, gt_mask,\n",
    "                r[\"rois\"], r[\"class_ids\"], r[\"scores\"], r[\"masks\"],\n",
    "                dataset_validate.class_info, 0.5)\n",
    "    for overlap in list(class_precision_info['full']['overlaps']):\n",
    "        temp = overlap[overlap!=0]\n",
    "        if len(temp) > 0:\n",
    "            mean_overlaps.append(float(temp.max()))\n",
    "print('Mean overlap: {}'.format(sum(mean_overlaps) / len(mean_overlaps)))"
   ]
  },
  {
   "cell_type": "markdown",
   "metadata": {},
   "source": [
    "Mean IOU on detected fishes"
   ]
  },
  {
   "cell_type": "code",
   "execution_count": null,
   "metadata": {},
   "outputs": [],
   "source": []
  }
 ],
 "metadata": {
  "kernelspec": {
   "display_name": "Python 3",
   "language": "python",
   "name": "python3"
  },
  "language_info": {
   "codemirror_mode": {
    "name": "ipython",
    "version": 3
   },
   "file_extension": ".py",
   "mimetype": "text/x-python",
   "name": "python",
   "nbconvert_exporter": "python",
   "pygments_lexer": "ipython3",
   "version": "3.5.2"
  }
 },
 "nbformat": 4,
 "nbformat_minor": 2
}
