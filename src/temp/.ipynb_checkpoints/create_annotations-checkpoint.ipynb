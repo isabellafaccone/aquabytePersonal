{
 "cells": [
  {
   "cell_type": "code",
   "execution_count": 1,
   "metadata": {},
   "outputs": [],
   "source": [
    "import json"
   ]
  },
  {
   "cell_type": "code",
   "execution_count": 2,
   "metadata": {},
   "outputs": [],
   "source": [
    "annotations = json.load(open('/root/thomas/mask/data/annotations.json'))\n",
    "download = False"
   ]
  },
  {
   "cell_type": "markdown",
   "metadata": {},
   "source": [
    "# create bounding boxes"
   ]
  },
  {
   "cell_type": "code",
   "execution_count": 3,
   "metadata": {},
   "outputs": [],
   "source": [
    "import csv\n",
    "import os"
   ]
  },
  {
   "cell_type": "code",
   "execution_count": 4,
   "metadata": {},
   "outputs": [],
   "source": [
    "bboxes = []\n",
    "for annot in annotations:\n",
    "    image_path = os.path.join('/root/thomas/mask/data', '/'.join(annot['content'].split('/')[-2:]))\n",
    "    masks = annot['results']\n",
    "    if masks is None:\n",
    "        continue\n",
    "    N = len(masks)\n",
    "    try:\n",
    "        for i in range(N):\n",
    "            mask = [(i1, 1080 - i2) for (i1, i2) in masks[i]]\n",
    "            xs, ys = zip(*mask)\n",
    "            width = max(xs) - min(xs)\n",
    "            height = max(ys) - min(ys)\n",
    "            if width >0 and height>0:\n",
    "                bboxes.append((image_path, min(xs), min(ys), min(xs)+width, min(ys)+height, 'fish'))\n",
    "    except Exception as e:\n",
    "        pass\n",
    "        "
   ]
  },
  {
   "cell_type": "code",
   "execution_count": 5,
   "metadata": {},
   "outputs": [],
   "source": [
    "with open('/root/thomas/mask/data/annotations.csv', 'w') as f:\n",
    "    writer = csv.writer(f, delimiter=',')\n",
    "    for b in bboxes:\n",
    "        writer.writerow(b)"
   ]
  },
  {
   "cell_type": "markdown",
   "metadata": {},
   "source": [
    "# create coco-style annotations"
   ]
  },
  {
   "cell_type": "code",
   "execution_count": 23,
   "metadata": {},
   "outputs": [],
   "source": [
    "import json\n",
    "from PIL import Image\n",
    "import numpy as np"
   ]
  },
  {
   "cell_type": "code",
   "execution_count": 24,
   "metadata": {},
   "outputs": [],
   "source": [
    "coco = json.load(open('/root/thomas/annotations/stuff_val2017.json'))"
   ]
  },
  {
   "cell_type": "code",
   "execution_count": 28,
   "metadata": {},
   "outputs": [
    {
     "name": "stdout",
     "output_type": "stream",
     "text": [
      "0\n",
      "0\n",
      "0\n",
      "0\n",
      "0\n"
     ]
    },
    {
     "name": "stderr",
     "output_type": "stream",
     "text": [
      "/usr/local/lib/python2.7/dist-packages/ipykernel_launcher.py:23: DeprecationWarning: BaseException.message has been deprecated as of Python 2.6\n"
     ]
    }
   ],
   "source": [
    "bboxes = []\n",
    "for annot in annotations:\n",
    "    tmp = {}\n",
    "    tmp['bbox'] = []\n",
    "    image_path = os.path.join('/root/thomas/mask/data', '/'.join(annot['content'].split('/')[-2:]))\n",
    "    masks = annot['results']\n",
    "    if masks is None:\n",
    "        continue\n",
    "    N = len(masks)\n",
    "    try:\n",
    "        for i in range(N):\n",
    "            mask = [(i1, 1080 - i2) for (i1, i2) in masks[i]]\n",
    "            xs, ys = zip(*mask)\n",
    "            width = max(xs) - min(xs)\n",
    "            height = max(ys) - min(ys)\n",
    "            if width >0 and height>0:\n",
    "                tmp['path'] = image_path\n",
    "                tmp['bbox'] = [min(xs), min(ys), min(xs)+width, min(ys)+height]\n",
    "                tmp['segmentation'] = annot['results']\n",
    "                tmp['category_id'] = 0\n",
    "                tmp['size'] = (1080, 1920, 3)\n",
    "                bboxes.append(tmp)\n",
    "    except Exception as e:\n",
    "        print e.message\n",
    "        "
   ]
  },
  {
   "cell_type": "code",
   "execution_count": 29,
   "metadata": {},
   "outputs": [
    {
     "data": {
      "text/plain": [
       "(1080, 1920, 3)"
      ]
     },
     "execution_count": 29,
     "metadata": {},
     "output_type": "execute_result"
    }
   ],
   "source": [
    "np.array(Image.open(image_path)).shape"
   ]
  },
  {
   "cell_type": "code",
   "execution_count": 30,
   "metadata": {},
   "outputs": [],
   "source": [
    "with open('/root/thomas/mask/data/mask_annotations.json', 'w') as f:\n",
    "    json.dump(bboxes, f)"
   ]
  },
  {
   "cell_type": "code",
   "execution_count": 31,
   "metadata": {
    "scrolled": false
   },
   "outputs": [
    {
     "data": {
      "text/plain": [
       "{'bbox': [1341, 610, 1548, 752],\n",
       " 'category_id': 0,\n",
       " 'path': u'/root/thomas/mask/data/testfile_piece_34.mp4/frame_21.png',\n",
       " 'segmentation': [[[954, 772],\n",
       "   [992, 781],\n",
       "   [1032, 790],\n",
       "   [1044, 788],\n",
       "   [1041, 769],\n",
       "   [1025, 739],\n",
       "   [1013, 722],\n",
       "   [1011, 710],\n",
       "   [985, 722],\n",
       "   [987, 715],\n",
       "   [1011, 705],\n",
       "   [1000, 680],\n",
       "   [997, 644],\n",
       "   [982, 650],\n",
       "   [990, 640],\n",
       "   [986, 608],\n",
       "   [971, 629],\n",
       "   [959, 654],\n",
       "   [928, 699],\n",
       "   [909, 716],\n",
       "   [851, 731],\n",
       "   [823, 733],\n",
       "   [846, 722],\n",
       "   [849, 701],\n",
       "   [848, 678],\n",
       "   [829, 684],\n",
       "   [778, 717],\n",
       "   [766, 729],\n",
       "   [742, 732],\n",
       "   [693, 738],\n",
       "   [651, 746],\n",
       "   [658, 726],\n",
       "   [656, 706],\n",
       "   [636, 713],\n",
       "   [640, 703],\n",
       "   [631, 697],\n",
       "   [619, 704],\n",
       "   [573, 758],\n",
       "   [534, 762],\n",
       "   [479, 778],\n",
       "   [423, 797],\n",
       "   [409, 798],\n",
       "   [405, 785],\n",
       "   [390, 785],\n",
       "   [360, 807],\n",
       "   [353, 823],\n",
       "   [306, 840],\n",
       "   [285, 850],\n",
       "   [267, 861],\n",
       "   [236, 883],\n",
       "   [217, 898],\n",
       "   [202, 916],\n",
       "   [210, 920],\n",
       "   [236, 912],\n",
       "   [209, 932],\n",
       "   [220, 941],\n",
       "   [243, 951],\n",
       "   [268, 957],\n",
       "   [312, 959],\n",
       "   [367, 963],\n",
       "   [436, 963],\n",
       "   [504, 954],\n",
       "   [564, 945],\n",
       "   [581, 947],\n",
       "   [618, 961],\n",
       "   [648, 967],\n",
       "   [684, 966],\n",
       "   [683, 950],\n",
       "   [680, 942],\n",
       "   [691, 922],\n",
       "   [687, 918],\n",
       "   [700, 904],\n",
       "   [709, 887],\n",
       "   [736, 873],\n",
       "   [786, 850],\n",
       "   [846, 819],\n",
       "   [871, 828],\n",
       "   [884, 829],\n",
       "   [890, 816],\n",
       "   [885, 798],\n",
       "   [925, 779],\n",
       "   [944, 771],\n",
       "   [954, 772]],\n",
       "  [[1649, 700],\n",
       "   [1639, 711],\n",
       "   [1624, 720],\n",
       "   [1603, 742],\n",
       "   [1564, 760],\n",
       "   [1546, 770],\n",
       "   [1501, 788],\n",
       "   [1468, 810],\n",
       "   [1447, 798],\n",
       "   [1448, 794],\n",
       "   [1399, 799],\n",
       "   [1359, 799],\n",
       "   [1353, 806],\n",
       "   [1340, 806],\n",
       "   [1335, 803],\n",
       "   [1335, 797],\n",
       "   [1307, 798],\n",
       "   [1301, 804],\n",
       "   [1282, 824],\n",
       "   [1267, 831],\n",
       "   [1264, 827],\n",
       "   [1264, 791],\n",
       "   [1243, 755],\n",
       "   [1244, 749],\n",
       "   [1252, 746],\n",
       "   [1258, 750],\n",
       "   [1268, 750],\n",
       "   [1285, 755],\n",
       "   [1299, 762],\n",
       "   [1310, 764],\n",
       "   [1324, 762],\n",
       "   [1346, 756],\n",
       "   [1336, 748],\n",
       "   [1334, 736],\n",
       "   [1349, 738],\n",
       "   [1360, 748],\n",
       "   [1369, 739],\n",
       "   [1391, 731],\n",
       "   [1420, 725],\n",
       "   [1409, 720],\n",
       "   [1428, 712],\n",
       "   [1437, 715],\n",
       "   [1497, 696],\n",
       "   [1547, 684],\n",
       "   [1573, 683],\n",
       "   [1611, 680],\n",
       "   [1634, 682],\n",
       "   [1647, 684],\n",
       "   [1644, 689],\n",
       "   [1645, 693],\n",
       "   [1650, 695],\n",
       "   [1649, 700]],\n",
       "  [[1209, 526],\n",
       "   [1183, 548],\n",
       "   [1152, 564],\n",
       "   [1119, 577],\n",
       "   [1107, 592],\n",
       "   [1093, 587],\n",
       "   [1084, 581],\n",
       "   [1049, 588],\n",
       "   [1038, 591],\n",
       "   [1032, 597],\n",
       "   [1022, 595],\n",
       "   [1001, 591],\n",
       "   [988, 602],\n",
       "   [977, 612],\n",
       "   [971, 607],\n",
       "   [975, 581],\n",
       "   [963, 559],\n",
       "   [967, 553],\n",
       "   [976, 553],\n",
       "   [1000, 565],\n",
       "   [1010, 563],\n",
       "   [1028, 557],\n",
       "   [1022, 552],\n",
       "   [1020, 546],\n",
       "   [1029, 541],\n",
       "   [1041, 549],\n",
       "   [1057, 540],\n",
       "   [1075, 534],\n",
       "   [1073, 526],\n",
       "   [1083, 525],\n",
       "   [1090, 528],\n",
       "   [1107, 522],\n",
       "   [1131, 514],\n",
       "   [1167, 508],\n",
       "   [1201, 509],\n",
       "   [1215, 512],\n",
       "   [1215, 519],\n",
       "   [1209, 526]],\n",
       "  [[1548, 408],\n",
       "   [1530, 377],\n",
       "   [1508, 382],\n",
       "   [1525, 374],\n",
       "   [1522, 331],\n",
       "   [1516, 328],\n",
       "   [1507, 332],\n",
       "   [1470, 377],\n",
       "   [1455, 380],\n",
       "   [1445, 379],\n",
       "   [1437, 364],\n",
       "   [1438, 352],\n",
       "   [1431, 348],\n",
       "   [1426, 359],\n",
       "   [1418, 368],\n",
       "   [1402, 369],\n",
       "   [1389, 373],\n",
       "   [1379, 382],\n",
       "   [1375, 387],\n",
       "   [1363, 384],\n",
       "   [1345, 374],\n",
       "   [1341, 378],\n",
       "   [1348, 388],\n",
       "   [1359, 393],\n",
       "   [1370, 396],\n",
       "   [1372, 395],\n",
       "   [1373, 409],\n",
       "   [1376, 429],\n",
       "   [1379, 438],\n",
       "   [1387, 447],\n",
       "   [1395, 455],\n",
       "   [1401, 458],\n",
       "   [1407, 458],\n",
       "   [1412, 457],\n",
       "   [1416, 466],\n",
       "   [1425, 470],\n",
       "   [1430, 465],\n",
       "   [1431, 458],\n",
       "   [1428, 451],\n",
       "   [1453, 425],\n",
       "   [1463, 427],\n",
       "   [1470, 420],\n",
       "   [1470, 413],\n",
       "   [1479, 407],\n",
       "   [1489, 403],\n",
       "   [1510, 410],\n",
       "   [1532, 415],\n",
       "   [1548, 415],\n",
       "   [1548, 408]]],\n",
       " 'size': (1080, 1920, 3)}"
      ]
     },
     "execution_count": 31,
     "metadata": {},
     "output_type": "execute_result"
    }
   ],
   "source": [
    "bboxes[0]"
   ]
  }
 ],
 "metadata": {
  "kernelspec": {
   "display_name": "Python 2",
   "language": "python",
   "name": "python2"
  },
  "language_info": {
   "codemirror_mode": {
    "name": "ipython",
    "version": 2
   },
   "file_extension": ".py",
   "mimetype": "text/x-python",
   "name": "python",
   "nbconvert_exporter": "python",
   "pygments_lexer": "ipython2",
   "version": "2.7.12"
  }
 },
 "nbformat": 4,
 "nbformat_minor": 2
}
