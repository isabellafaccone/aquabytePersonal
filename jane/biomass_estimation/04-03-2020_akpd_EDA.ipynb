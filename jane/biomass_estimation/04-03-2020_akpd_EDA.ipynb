{
 "cells": [
  {
   "cell_type": "code",
   "execution_count": null,
   "metadata": {},
   "outputs": [],
   "source": [
    "from collections import defaultdict\n",
    "import math\n",
    "import numpy as np\n",
    "import pandas as pd\n",
    "from research.weight_estimation.gtsf_data.gtsf_augmentation import GTSFAugmentation\n",
    "from research.weight_estimation.keypoint_utils.body_parts import BodyParts\n",
    "\n",
    "from research.weight_estimation.keypoint_utils.keypoint_transformations import get_raw_3d_coordinates, rot_matrix_to_euler_angles\n",
    "\n",
    "from research.weight_estimation.gtsf_data.gtsf_dataset import GTSFDataset"
   ]
  },
  {
   "cell_type": "code",
   "execution_count": null,
   "metadata": {},
   "outputs": [],
   "source": [
    "akpd_scorer_url = 'https://aquabyte-models.s3-us-west-1.amazonaws.com/keypoint-detection-scorer/akpd_scorer_model_TF.h5'\n",
    "gtsf_dataset = GTSFDataset('2019-06-01', '2019-06-10', akpd_scorer_url)\n",
    "df = gtsf_dataset.get_prepared_dataset()\n",
    "gtsf_augmentation = GTSFAugmentation(df)\n",
    "\n",
    "y_bounds, jitter, trials = (0.5, 2.0), 0, 10\n",
    "seed = 1\n",
    "augmented_df = gtsf_augmentation.generate_augmented_dataset(y_bounds, jitter, trials, seed)\n",
    "print(augmented_df.shape)"
   ]
  },
  {
   "cell_type": "code",
   "execution_count": null,
   "metadata": {},
   "outputs": [],
   "source": [
    "augmented_df.head(3)"
   ]
  },
  {
   "cell_type": "code",
   "execution_count": null,
   "metadata": {},
   "outputs": [],
   "source": []
  }
 ],
 "metadata": {
  "kernelspec": {
   "display_name": "Python 3",
   "language": "python",
   "name": "python3"
  },
  "language_info": {
   "codemirror_mode": {
    "name": "ipython",
    "version": 3
   },
   "file_extension": ".py",
   "mimetype": "text/x-python",
   "name": "python",
   "nbconvert_exporter": "python",
   "pygments_lexer": "ipython3"
  }
 },
 "nbformat": 4,
 "nbformat_minor": 4
}
