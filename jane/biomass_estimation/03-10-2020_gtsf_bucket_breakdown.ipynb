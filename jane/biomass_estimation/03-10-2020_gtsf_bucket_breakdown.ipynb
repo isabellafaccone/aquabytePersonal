{
 "cells": [
  {
   "cell_type": "code",
   "execution_count": 1,
   "metadata": {},
   "outputs": [],
   "source": [
    "import json, os\n",
    "import cv2\n",
    "import torch\n",
    "from aquabyte.data_access_utils import S3AccessUtils, RDSAccessUtils\n",
    "from aquabyte.akpd import AKPD\n",
    "from aquabyte.accuracy_metrics import AccuracyMetricsGenerator\n",
    "from aquabyte.template_matching import find_matches_and_homography\n",
    "from aquabyte.data_loader import KeypointsDataset, NormalizeCentered2D, ToTensor, BODY_PARTS\n",
    "from aquabyte.optics import euclidean_distance, pixel2world, depth_from_disp, convert_to_world_point\n",
    "import random\n",
    "\n",
    "import torch\n",
    "import pandas as pd\n",
    "\n",
    "from torch import nn\n",
    "from torch.utils.data import Dataset, DataLoader\n",
    "from torchvision import transforms, utils"
   ]
  },
  {
   "cell_type": "code",
   "execution_count": 67,
   "metadata": {},
   "outputs": [],
   "source": [
    "import matplotlib.pyplot as plt"
   ]
  },
  {
   "cell_type": "code",
   "execution_count": 82,
   "metadata": {},
   "outputs": [],
   "source": [
    "from sqlalchemy import create_engine\n",
    "from urllib.parse import urlparse\n",
    "\n",
    "\n",
    "# sql_engine = create_engine(..)\n",
    "\n",
    "db_connection = sql_engine.connect()"
   ]
  },
  {
   "cell_type": "code",
   "execution_count": 13,
   "metadata": {},
   "outputs": [],
   "source": [
    "query = \"\"\"\n",
    "    select * from research.fish_metadata a left join keypoint_annotations b\n",
    "    on a.left_url = b.left_image_url \n",
    "    where b.keypoints -> 'leftCrop' is not null\n",
    "    and b.keypoints -> 'rightCrop' is not null\n",
    "    and b.is_qa = false\n",
    "    order by b.captured_at\n",
    "\"\"\"\n",
    "results = db_connection.execute(query)\n",
    "df_gtsf = pd.DataFrame(results.fetchall())\n",
    "df_gtsf.columns = results.keys()"
   ]
  },
  {
   "cell_type": "code",
   "execution_count": 14,
   "metadata": {},
   "outputs": [
    {
     "data": {
      "text/html": [
       "<div>\n",
       "<style scoped>\n",
       "    .dataframe tbody tr th:only-of-type {\n",
       "        vertical-align: middle;\n",
       "    }\n",
       "\n",
       "    .dataframe tbody tr th {\n",
       "        vertical-align: top;\n",
       "    }\n",
       "\n",
       "    .dataframe thead th {\n",
       "        text-align: right;\n",
       "    }\n",
       "</style>\n",
       "<table border=\"1\" class=\"dataframe\">\n",
       "  <thead>\n",
       "    <tr style=\"text-align: right;\">\n",
       "      <th></th>\n",
       "      <th>left_url</th>\n",
       "      <th>fish_id</th>\n",
       "      <th>weight</th>\n",
       "      <th>data</th>\n",
       "      <th>stereo_parameters_url</th>\n",
       "      <th>ts_created</th>\n",
       "      <th>ts_updated</th>\n",
       "      <th>data_collection_type_id</th>\n",
       "      <th>id</th>\n",
       "      <th>fish_detection_id</th>\n",
       "      <th>...</th>\n",
       "      <th>site_id</th>\n",
       "      <th>pen_id</th>\n",
       "      <th>left_image_url</th>\n",
       "      <th>right_image_url</th>\n",
       "      <th>left_crop_metadata</th>\n",
       "      <th>right_crop_metadata</th>\n",
       "      <th>camera_metadata</th>\n",
       "      <th>captured_at</th>\n",
       "      <th>is_obscured_floy_tag</th>\n",
       "      <th>is_floy_tag_not_present</th>\n",
       "    </tr>\n",
       "  </thead>\n",
       "  <tbody>\n",
       "    <tr>\n",
       "      <th>0</th>\n",
       "      <td>https://s3-eu-west-1.amazonaws.com/aquabyte-cr...</td>\n",
       "      <td>190301010002</td>\n",
       "      <td>2427</td>\n",
       "      <td>{'species': 'salmon', 'location': 'Generic', '...</td>\n",
       "      <td>https://aquabyte-stereo-parameters.s3-eu-west-...</td>\n",
       "      <td>2019-08-09 05:30:21.884070+00:00</td>\n",
       "      <td>2019-08-09 05:30:21.884070+00:00</td>\n",
       "      <td>None</td>\n",
       "      <td>509178</td>\n",
       "      <td>None</td>\n",
       "      <td>...</td>\n",
       "      <td>35</td>\n",
       "      <td>48</td>\n",
       "      <td>https://s3-eu-west-1.amazonaws.com/aquabyte-cr...</td>\n",
       "      <td>https://s3-eu-west-1.amazonaws.com/aquabyte-cr...</td>\n",
       "      <td>{'width': 2339, 'height': 702, 'x_coord': 634,...</td>\n",
       "      <td>{'width': 2319, 'height': 709, 'x_coord': 172,...</td>\n",
       "      <td>{'baseline': 0.12693501988129197, 'focalLength...</td>\n",
       "      <td>2019-03-01 09:07:45.908000+00:00</td>\n",
       "      <td>None</td>\n",
       "      <td>None</td>\n",
       "    </tr>\n",
       "    <tr>\n",
       "      <th>1</th>\n",
       "      <td>https://s3-eu-west-1.amazonaws.com/aquabyte-cr...</td>\n",
       "      <td>190301010003</td>\n",
       "      <td>2300</td>\n",
       "      <td>{'species': 'salmon', 'location': 'Generic', '...</td>\n",
       "      <td>https://aquabyte-stereo-parameters.s3-eu-west-...</td>\n",
       "      <td>2019-08-09 05:30:19.685998+00:00</td>\n",
       "      <td>2019-08-09 05:30:19.685998+00:00</td>\n",
       "      <td>None</td>\n",
       "      <td>509176</td>\n",
       "      <td>None</td>\n",
       "      <td>...</td>\n",
       "      <td>35</td>\n",
       "      <td>48</td>\n",
       "      <td>https://s3-eu-west-1.amazonaws.com/aquabyte-cr...</td>\n",
       "      <td>https://s3-eu-west-1.amazonaws.com/aquabyte-cr...</td>\n",
       "      <td>{'width': 2340, 'height': 714, 'x_coord': 642,...</td>\n",
       "      <td>{'width': 2278, 'height': 684, 'x_coord': 213,...</td>\n",
       "      <td>{'baseline': 0.12693501988129197, 'focalLength...</td>\n",
       "      <td>2019-03-01 09:10:40.248000+00:00</td>\n",
       "      <td>None</td>\n",
       "      <td>None</td>\n",
       "    </tr>\n",
       "    <tr>\n",
       "      <th>2</th>\n",
       "      <td>https://s3-eu-west-1.amazonaws.com/aquabyte-cr...</td>\n",
       "      <td>190301010004</td>\n",
       "      <td>1903</td>\n",
       "      <td>{'species': 'salmon', 'location': 'Generic', '...</td>\n",
       "      <td>https://aquabyte-stereo-parameters.s3-eu-west-...</td>\n",
       "      <td>2019-08-09 05:30:22.664575+00:00</td>\n",
       "      <td>2019-08-09 05:30:22.664575+00:00</td>\n",
       "      <td>None</td>\n",
       "      <td>509179</td>\n",
       "      <td>None</td>\n",
       "      <td>...</td>\n",
       "      <td>35</td>\n",
       "      <td>48</td>\n",
       "      <td>https://s3-eu-west-1.amazonaws.com/aquabyte-cr...</td>\n",
       "      <td>https://s3-eu-west-1.amazonaws.com/aquabyte-cr...</td>\n",
       "      <td>{'width': 2216, 'height': 637, 'x_coord': 684,...</td>\n",
       "      <td>{'width': 2238, 'height': 654, 'x_coord': 205,...</td>\n",
       "      <td>{'baseline': 0.12693501988129197, 'focalLength...</td>\n",
       "      <td>2019-03-01 09:13:18.999000+00:00</td>\n",
       "      <td>None</td>\n",
       "      <td>None</td>\n",
       "    </tr>\n",
       "  </tbody>\n",
       "</table>\n",
       "<p>3 rows × 34 columns</p>\n",
       "</div>"
      ],
      "text/plain": [
       "                                            left_url       fish_id  weight  \\\n",
       "0  https://s3-eu-west-1.amazonaws.com/aquabyte-cr...  190301010002    2427   \n",
       "1  https://s3-eu-west-1.amazonaws.com/aquabyte-cr...  190301010003    2300   \n",
       "2  https://s3-eu-west-1.amazonaws.com/aquabyte-cr...  190301010004    1903   \n",
       "\n",
       "                                                data  \\\n",
       "0  {'species': 'salmon', 'location': 'Generic', '...   \n",
       "1  {'species': 'salmon', 'location': 'Generic', '...   \n",
       "2  {'species': 'salmon', 'location': 'Generic', '...   \n",
       "\n",
       "                               stereo_parameters_url  \\\n",
       "0  https://aquabyte-stereo-parameters.s3-eu-west-...   \n",
       "1  https://aquabyte-stereo-parameters.s3-eu-west-...   \n",
       "2  https://aquabyte-stereo-parameters.s3-eu-west-...   \n",
       "\n",
       "                        ts_created                       ts_updated  \\\n",
       "0 2019-08-09 05:30:21.884070+00:00 2019-08-09 05:30:21.884070+00:00   \n",
       "1 2019-08-09 05:30:19.685998+00:00 2019-08-09 05:30:19.685998+00:00   \n",
       "2 2019-08-09 05:30:22.664575+00:00 2019-08-09 05:30:22.664575+00:00   \n",
       "\n",
       "  data_collection_type_id      id fish_detection_id  ... site_id  pen_id  \\\n",
       "0                    None  509178              None  ...      35      48   \n",
       "1                    None  509176              None  ...      35      48   \n",
       "2                    None  509179              None  ...      35      48   \n",
       "\n",
       "                                      left_image_url  \\\n",
       "0  https://s3-eu-west-1.amazonaws.com/aquabyte-cr...   \n",
       "1  https://s3-eu-west-1.amazonaws.com/aquabyte-cr...   \n",
       "2  https://s3-eu-west-1.amazonaws.com/aquabyte-cr...   \n",
       "\n",
       "                                     right_image_url  \\\n",
       "0  https://s3-eu-west-1.amazonaws.com/aquabyte-cr...   \n",
       "1  https://s3-eu-west-1.amazonaws.com/aquabyte-cr...   \n",
       "2  https://s3-eu-west-1.amazonaws.com/aquabyte-cr...   \n",
       "\n",
       "                                  left_crop_metadata  \\\n",
       "0  {'width': 2339, 'height': 702, 'x_coord': 634,...   \n",
       "1  {'width': 2340, 'height': 714, 'x_coord': 642,...   \n",
       "2  {'width': 2216, 'height': 637, 'x_coord': 684,...   \n",
       "\n",
       "                                 right_crop_metadata  \\\n",
       "0  {'width': 2319, 'height': 709, 'x_coord': 172,...   \n",
       "1  {'width': 2278, 'height': 684, 'x_coord': 213,...   \n",
       "2  {'width': 2238, 'height': 654, 'x_coord': 205,...   \n",
       "\n",
       "                                     camera_metadata  \\\n",
       "0  {'baseline': 0.12693501988129197, 'focalLength...   \n",
       "1  {'baseline': 0.12693501988129197, 'focalLength...   \n",
       "2  {'baseline': 0.12693501988129197, 'focalLength...   \n",
       "\n",
       "                       captured_at is_obscured_floy_tag  \\\n",
       "0 2019-03-01 09:07:45.908000+00:00                 None   \n",
       "1 2019-03-01 09:10:40.248000+00:00                 None   \n",
       "2 2019-03-01 09:13:18.999000+00:00                 None   \n",
       "\n",
       "  is_floy_tag_not_present  \n",
       "0                    None  \n",
       "1                    None  \n",
       "2                    None  \n",
       "\n",
       "[3 rows x 34 columns]"
      ]
     },
     "execution_count": 14,
     "metadata": {},
     "output_type": "execute_result"
    }
   ],
   "source": [
    "df_gtsf.head(3)"
   ]
  },
  {
   "cell_type": "markdown",
   "metadata": {},
   "source": [
    "# weight bucket breakdown "
   ]
  },
  {
   "cell_type": "code",
   "execution_count": 17,
   "metadata": {},
   "outputs": [
    {
     "data": {
      "text/plain": [
       "count    16085.000000\n",
       "mean      5250.180665\n",
       "std       1725.619255\n",
       "min        169.000000\n",
       "25%       4298.000000\n",
       "50%       5234.000000\n",
       "75%       6340.000000\n",
       "max       9290.000000\n",
       "Name: weight, dtype: float64"
      ]
     },
     "execution_count": 17,
     "metadata": {},
     "output_type": "execute_result"
    }
   ],
   "source": [
    "df_gtsf[\"weight\"].describe()"
   ]
  },
  {
   "cell_type": "code",
   "execution_count": 19,
   "metadata": {},
   "outputs": [],
   "source": [
    "interval_range = pd.interval_range(start=0, freq=100, end=10000, closed='left')"
   ]
  },
  {
   "cell_type": "code",
   "execution_count": 30,
   "metadata": {},
   "outputs": [],
   "source": [
    "weight_bin = pd.cut(df_gtsf[\"weight\"], bins=interval_range)\n"
   ]
  },
  {
   "cell_type": "code",
   "execution_count": 31,
   "metadata": {},
   "outputs": [],
   "source": [
    "weight_bin_count = weight_bin.value_counts().sort_index()"
   ]
  },
  {
   "cell_type": "code",
   "execution_count": 64,
   "metadata": {},
   "outputs": [],
   "source": [
    "weight_bin_count.to_csv('output/weight_counts.csv', \n",
    "                        index=True, \n",
    "                        header = ['count'])"
   ]
  },
  {
   "cell_type": "code",
   "execution_count": 81,
   "metadata": {},
   "outputs": [
    {
     "data": {
      "image/png": "[encoded data removed]",
      "text/plain": [
       "<Figure size 432x288 with 1 Axes>"
      ]
     },
     "metadata": {
      "needs_background": "light"
     },
     "output_type": "display_data"
    }
   ],
   "source": [
    "_ = plt.hist(df_gtsf['weight'], bins=[a for a in range(0, 10000, 100)])  # arguments are passed to np.histogram\n",
    "#_ = plt.hist(orientation, bins=20)\n",
    "plt.title(\"Histogram of GTSF weight\")\n",
    "plt.xlabel('weight (g)')\n",
    "plt.show()"
   ]
  },
  {
   "cell_type": "markdown",
   "metadata": {},
   "source": [
    "# K factor breakdown \n",
    "## KF = (10^5) * (weight_in_grams) / (length_in_mm)^3"
   ]
  },
  {
   "cell_type": "code",
   "execution_count": 50,
   "metadata": {},
   "outputs": [],
   "source": [
    "def get_length(sf_data):\n",
    "    try:\n",
    "        return sf_data['lengthMms']\n",
    "    except IndexError:\n",
    "        return None\n",
    "    "
   ]
  },
  {
   "cell_type": "code",
   "execution_count": 51,
   "metadata": {},
   "outputs": [],
   "source": [
    "df_gtsf['k_factor'] = 10**5 * df_gtsf['weight'] / df_gtsf.data.apply(get_length) ** 3"
   ]
  },
  {
   "cell_type": "code",
   "execution_count": 56,
   "metadata": {},
   "outputs": [
    {
     "data": {
      "text/plain": [
       "count    16085.000000\n",
       "mean         1.234984\n",
       "std          0.154954\n",
       "min          0.003836\n",
       "25%          1.128905\n",
       "50%          1.229758\n",
       "75%          1.353973\n",
       "max          3.396764\n",
       "Name: k_factor, dtype: float64"
      ]
     },
     "execution_count": 56,
     "metadata": {},
     "output_type": "execute_result"
    }
   ],
   "source": [
    "df_gtsf['k_factor'].describe()"
   ]
  },
  {
   "cell_type": "code",
   "execution_count": 57,
   "metadata": {},
   "outputs": [],
   "source": [
    "k_interval_range = pd.interval_range(start=0, freq=0.1, end=3.5, closed='left')\n",
    "kf_bin = pd.cut(df_gtsf[\"k_factor\"], bins=k_interval_range)\n",
    "kf_bin_count = kf_bin.value_counts().sort_index()"
   ]
  },
  {
   "cell_type": "code",
   "execution_count": 65,
   "metadata": {},
   "outputs": [],
   "source": [
    "kf_bin_count.to_csv('output/kf_counts.csv', \n",
    "                    index=True,\n",
    "                    header = ['count'])"
   ]
  },
  {
   "cell_type": "code",
   "execution_count": 80,
   "metadata": {},
   "outputs": [
    {
     "data": {
      "image/png": "[encoded data removed]",
      "text/plain": [
       "<Figure size 432x288 with 1 Axes>"
      ]
     },
     "metadata": {
      "needs_background": "light"
     },
     "output_type": "display_data"
    }
   ],
   "source": [
    "_ = plt.hist(df_gtsf['k_factor'], bins=[a * 0.1 for a in range(0, 35)])  # arguments are passed to np.histogram\n",
    "\n",
    "plt.title(\"Histogram of GTSF k_factor\")\n",
    "plt.xlabel('k_factor')\n",
    "plt.show()"
   ]
  },
  {
   "cell_type": "code",
   "execution_count": null,
   "metadata": {},
   "outputs": [],
   "source": []
  }
 ],
 "metadata": {
  "kernelspec": {
   "display_name": "Python 3",
   "language": "python",
   "name": "python3"
  },
  "language_info": {
   "codemirror_mode": {
    "name": "ipython",
    "version": 3
   },
   "file_extension": ".py",
   "mimetype": "text/x-python",
   "name": "python",
   "nbconvert_exporter": "python",
   "pygments_lexer": "ipython3",
   "version": "3.6.5"
  }
 },
 "nbformat": 4,
 "nbformat_minor": 2
}
