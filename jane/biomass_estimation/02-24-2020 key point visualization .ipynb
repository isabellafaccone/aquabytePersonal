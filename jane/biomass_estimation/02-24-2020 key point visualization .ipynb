{
 "cells": [
  {
   "cell_type": "code",
   "execution_count": null,
   "metadata": {},
   "outputs": [],
   "source": [
    "from research.weight_estimation.visualize import Visualizer\n",
    "from research.utils.data_access_utils import S3AccessUtils, RDSAccessUtils\n",
    "import json, os\n",
    "\n"
   ]
  },
  {
   "cell_type": "code",
   "execution_count": null,
   "metadata": {},
   "outputs": [],
   "source": [
    "prod_research_sql_credentials = json.load(open(os.environ['PROD_SQL_CREDENTIALS']))\n",
    "rds_access_utils = RDSAccessUtils(prod_research_sql_credentials)\n",
    "s3_access_utils = S3AccessUtils('/root/data')\n",
    "visualizer = Visualizer(s3_access_utils, rds_access_utils)\n"
   ]
  },
  {
   "cell_type": "code",
   "execution_count": null,
   "metadata": {},
   "outputs": [],
   "source": [
    "keypoint_annotation_id = 606388\n",
    "#keypoint_annotation_id =606634\n",
    "visualizer.load_data(keypoint_annotation_id)\n",
    "# visualizer.dispaly_full_res_image(side='left')\n",
    "visualizer.display_3d_keypoints()"
   ]
  },
  {
   "cell_type": "code",
   "execution_count": null,
   "metadata": {},
   "outputs": [],
   "source": [
    "visualizer.display_crops()"
   ]
  },
  {
   "cell_type": "code",
   "execution_count": null,
   "metadata": {},
   "outputs": [],
   "source": []
  },
  {
   "cell_type": "code",
   "execution_count": null,
   "metadata": {},
   "outputs": [],
   "source": []
  }
 ],
 "metadata": {
  "kernelspec": {
   "display_name": "Python 3",
   "language": "python",
   "name": "python3"
  },
  "language_info": {
   "codemirror_mode": {
    "name": "ipython",
    "version": 3
   },
   "file_extension": ".py",
   "mimetype": "text/x-python",
   "name": "python",
   "nbconvert_exporter": "python",
   "pygments_lexer": "ipython3"
  }
 },
 "nbformat": 4,
 "nbformat_minor": 4
}
