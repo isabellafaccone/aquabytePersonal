{
 "cells": [
  {
   "cell_type": "code",
   "execution_count": 1,
   "metadata": {},
   "outputs": [],
   "source": [
    "import json, os\n",
    "import cv2\n",
    "import torch\n",
    "from aquabyte.data_access_utils import S3AccessUtils, RDSAccessUtils\n",
    "from aquabyte.akpd import AKPD\n",
    "from aquabyte.accuracy_metrics import AccuracyMetricsGenerator\n",
    "from aquabyte.template_matching import find_matches_and_homography\n",
    "from aquabyte.data_loader import KeypointsDataset, NormalizeCentered2D, ToTensor, BODY_PARTS\n",
    "from aquabyte.optics import euclidean_distance, pixel2world, depth_from_disp, convert_to_world_point\n",
    "import random\n",
    "import torch\n",
    "import pandas as pd\n",
    "from torch import nn\n",
    "from torch.utils.data import Dataset, DataLoader\n",
    "from torchvision import transforms, utils"
   ]
  },
  {
   "cell_type": "code",
   "execution_count": 2,
   "metadata": {},
   "outputs": [],
   "source": [
    "from mpl_toolkits import mplot3d\n",
    "%matplotlib inline\n",
    "import numpy as np\n",
    "from scipy import stats\n",
    "from sklearn.linear_model import LinearRegression\n",
    "from sklearn.model_selection import train_test_split \n",
    "\n",
    "import matplotlib.pyplot as plt"
   ]
  },
  {
   "cell_type": "code",
   "execution_count": 3,
   "metadata": {},
   "outputs": [],
   "source": [
    "ADIPOSE_FIN = 'ADIPOSE_FIN'\n",
    "ANAL_FIN = 'ANAL_FIN'\n",
    "DORSAL_FIN = 'DORSAL_FIN'\n",
    "EYE = 'EYE',\n",
    "PECTORAL_FIN = 'PECTORAL_FIN'\n",
    "PELVIC_FIN = 'PELVIC_FIN'\n",
    "TAIL_NOTCH = 'TAIL_NOTCH'\n",
    "UPPER_LIP ='UPPER_LIP'"
   ]
  },
  {
   "cell_type": "code",
   "execution_count": 4,
   "metadata": {},
   "outputs": [],
   "source": [
    "\n",
    "class NormalizedStabilityTransform(object):\n",
    "    \"\"\"\n",
    "        Transforms world keypoints into a more stable coordinate system - this will lead to better\n",
    "        training / convergene\n",
    "    \"\"\"\n",
    "    \n",
    "    def __call__(self, sample):\n",
    "        modified_kps, label, stereo_pair_id, cm = \\\n",
    "            sample['modified_kps'], sample['label'], sample['stereo_pair_id'], sample['cm']\n",
    "        modified_wkps = pixel2world(modified_kps['leftCrop'], modified_kps['rightCrop'], cm)\n",
    "        stabilized_coordinates = {}\n",
    "        for bp in BODY_PARTS:\n",
    "            wkp = modified_wkps[bp]\n",
    "            stabilized_kp_info = [0.5 * wkp[0]/wkp[1], 0.5 * wkp[2]/wkp[1], 0.5 * 0.1/wkp[1]]\n",
    "            stabilized_coordinates[bp] = stabilized_kp_info\n",
    "            \n",
    "        normalized_label = label * 1e-4 if label else None\n",
    "        \n",
    "        transformed_sample = {\n",
    "            'kp_input': stabilized_coordinates,\n",
    "            'label': normalized_label,\n",
    "            'stereo_pair_id': stereo_pair_id,\n",
    "            'single_point_inference': sample.get('single_point_inference')\n",
    "        }\n",
    "        \n",
    "        return transformed_sample"
   ]
  },
  {
   "cell_type": "code",
   "execution_count": 10,
   "metadata": {},
   "outputs": [],
   "source": [
    "from sqlalchemy import create_engine\n"
   ]
  },
  {
   "cell_type": "code",
   "execution_count": 11,
   "metadata": {},
   "outputs": [],
   "source": [
    "prod_sql_engine = create_engine(\"postgresql://{}:{}@{}:{}/{}\".format(\"aquabyte_ro\", \n",
    "            \"bJndX#uJ7VNVDJQW8g\",\n",
    "            \"aquabyte-research-db.cfwlu7jbdcqj.eu-west-1.rds.amazonaws.com\", \n",
    "            \"5432\",\n",
    "            \"aquabyte_prod\"))\n",
    "prod_db_connection = prod_sql_engine.connect()\n"
   ]
  },
  {
   "cell_type": "code",
   "execution_count": 14,
   "metadata": {},
   "outputs": [],
   "source": [
    "# load gtsf data\n",
    "\n",
    "#rds_access_utils = RDSAccessUtils(json.load(open(os.environ['PROD_RESEARCH_SQL_CREDENTIALS'])))\n",
    "query = \"\"\"\n",
    "    select * from research.fish_metadata a left join keypoint_annotations b\n",
    "    on a.left_url = b.left_image_url \n",
    "    where b.keypoints -> 'leftCrop' is not null\n",
    "    and b.keypoints -> 'rightCrop' is not null\n",
    "    and b.is_qa = false\n",
    "    order by b.captured_at\n",
    "\"\"\"\n",
    "\n",
    "results = prod_db_connection.execute(query)\n",
    "df_gtsf = pd.DataFrame(results.fetchall())\n",
    "df_gtsf.columns = results.keys()\n",
    "\n"
   ]
  },
  {
   "cell_type": "code",
   "execution_count": 15,
   "metadata": {
    "scrolled": true
   },
   "outputs": [
    {
     "data": {
      "text/html": [
       "<div>\n",
       "<style scoped>\n",
       "    .dataframe tbody tr th:only-of-type {\n",
       "        vertical-align: middle;\n",
       "    }\n",
       "\n",
       "    .dataframe tbody tr th {\n",
       "        vertical-align: top;\n",
       "    }\n",
       "\n",
       "    .dataframe thead th {\n",
       "        text-align: right;\n",
       "    }\n",
       "</style>\n",
       "<table border=\"1\" class=\"dataframe\">\n",
       "  <thead>\n",
       "    <tr style=\"text-align: right;\">\n",
       "      <th></th>\n",
       "      <th>left_url</th>\n",
       "      <th>fish_id</th>\n",
       "      <th>weight</th>\n",
       "      <th>data</th>\n",
       "      <th>stereo_parameters_url</th>\n",
       "      <th>ts_created</th>\n",
       "      <th>ts_updated</th>\n",
       "      <th>data_collection_type_id</th>\n",
       "      <th>id</th>\n",
       "      <th>fish_detection_id</th>\n",
       "      <th>...</th>\n",
       "      <th>site_id</th>\n",
       "      <th>pen_id</th>\n",
       "      <th>left_image_url</th>\n",
       "      <th>right_image_url</th>\n",
       "      <th>left_crop_metadata</th>\n",
       "      <th>right_crop_metadata</th>\n",
       "      <th>camera_metadata</th>\n",
       "      <th>captured_at</th>\n",
       "      <th>is_obscured_floy_tag</th>\n",
       "      <th>is_floy_tag_not_present</th>\n",
       "    </tr>\n",
       "  </thead>\n",
       "  <tbody>\n",
       "    <tr>\n",
       "      <th>0</th>\n",
       "      <td>https://s3-eu-west-1.amazonaws.com/aquabyte-cr...</td>\n",
       "      <td>190301010002</td>\n",
       "      <td>2427</td>\n",
       "      <td>{'species': 'salmon', 'location': 'Generic', '...</td>\n",
       "      <td>https://aquabyte-stereo-parameters.s3-eu-west-...</td>\n",
       "      <td>2019-08-09 05:30:21.884070+00:00</td>\n",
       "      <td>2019-08-09 05:30:21.884070+00:00</td>\n",
       "      <td>None</td>\n",
       "      <td>509178</td>\n",
       "      <td>None</td>\n",
       "      <td>...</td>\n",
       "      <td>35</td>\n",
       "      <td>48</td>\n",
       "      <td>https://s3-eu-west-1.amazonaws.com/aquabyte-cr...</td>\n",
       "      <td>https://s3-eu-west-1.amazonaws.com/aquabyte-cr...</td>\n",
       "      <td>{'width': 2339, 'height': 702, 'x_coord': 634,...</td>\n",
       "      <td>{'width': 2319, 'height': 709, 'x_coord': 172,...</td>\n",
       "      <td>{'baseline': 0.12693501988129197, 'focalLength...</td>\n",
       "      <td>2019-03-01 09:07:45.908000+00:00</td>\n",
       "      <td>None</td>\n",
       "      <td>None</td>\n",
       "    </tr>\n",
       "    <tr>\n",
       "      <th>1</th>\n",
       "      <td>https://s3-eu-west-1.amazonaws.com/aquabyte-cr...</td>\n",
       "      <td>190301010003</td>\n",
       "      <td>2300</td>\n",
       "      <td>{'species': 'salmon', 'location': 'Generic', '...</td>\n",
       "      <td>https://aquabyte-stereo-parameters.s3-eu-west-...</td>\n",
       "      <td>2019-08-09 05:30:19.685998+00:00</td>\n",
       "      <td>2019-08-09 05:30:19.685998+00:00</td>\n",
       "      <td>None</td>\n",
       "      <td>509176</td>\n",
       "      <td>None</td>\n",
       "      <td>...</td>\n",
       "      <td>35</td>\n",
       "      <td>48</td>\n",
       "      <td>https://s3-eu-west-1.amazonaws.com/aquabyte-cr...</td>\n",
       "      <td>https://s3-eu-west-1.amazonaws.com/aquabyte-cr...</td>\n",
       "      <td>{'width': 2340, 'height': 714, 'x_coord': 642,...</td>\n",
       "      <td>{'width': 2278, 'height': 684, 'x_coord': 213,...</td>\n",
       "      <td>{'baseline': 0.12693501988129197, 'focalLength...</td>\n",
       "      <td>2019-03-01 09:10:40.248000+00:00</td>\n",
       "      <td>None</td>\n",
       "      <td>None</td>\n",
       "    </tr>\n",
       "    <tr>\n",
       "      <th>2</th>\n",
       "      <td>https://s3-eu-west-1.amazonaws.com/aquabyte-cr...</td>\n",
       "      <td>190301010004</td>\n",
       "      <td>1903</td>\n",
       "      <td>{'species': 'salmon', 'location': 'Generic', '...</td>\n",
       "      <td>https://aquabyte-stereo-parameters.s3-eu-west-...</td>\n",
       "      <td>2019-08-09 05:30:22.664575+00:00</td>\n",
       "      <td>2019-08-09 05:30:22.664575+00:00</td>\n",
       "      <td>None</td>\n",
       "      <td>509179</td>\n",
       "      <td>None</td>\n",
       "      <td>...</td>\n",
       "      <td>35</td>\n",
       "      <td>48</td>\n",
       "      <td>https://s3-eu-west-1.amazonaws.com/aquabyte-cr...</td>\n",
       "      <td>https://s3-eu-west-1.amazonaws.com/aquabyte-cr...</td>\n",
       "      <td>{'width': 2216, 'height': 637, 'x_coord': 684,...</td>\n",
       "      <td>{'width': 2238, 'height': 654, 'x_coord': 205,...</td>\n",
       "      <td>{'baseline': 0.12693501988129197, 'focalLength...</td>\n",
       "      <td>2019-03-01 09:13:18.999000+00:00</td>\n",
       "      <td>None</td>\n",
       "      <td>None</td>\n",
       "    </tr>\n",
       "    <tr>\n",
       "      <th>3</th>\n",
       "      <td>https://s3-eu-west-1.amazonaws.com/aquabyte-cr...</td>\n",
       "      <td>190301010006</td>\n",
       "      <td>1835</td>\n",
       "      <td>{'species': 'salmon', 'location': 'Generic', '...</td>\n",
       "      <td>https://aquabyte-stereo-parameters.s3-eu-west-...</td>\n",
       "      <td>2019-08-09 05:30:12.022678+00:00</td>\n",
       "      <td>2019-08-09 05:30:12.022678+00:00</td>\n",
       "      <td>None</td>\n",
       "      <td>509159</td>\n",
       "      <td>None</td>\n",
       "      <td>...</td>\n",
       "      <td>35</td>\n",
       "      <td>48</td>\n",
       "      <td>https://s3-eu-west-1.amazonaws.com/aquabyte-cr...</td>\n",
       "      <td>https://s3-eu-west-1.amazonaws.com/aquabyte-cr...</td>\n",
       "      <td>{'width': 2255, 'height': 612, 'x_coord': 702,...</td>\n",
       "      <td>{'width': 2344, 'height': 637, 'x_coord': 115,...</td>\n",
       "      <td>{'baseline': 0.12693501988129197, 'focalLength...</td>\n",
       "      <td>2019-03-01 09:18:21.621000+00:00</td>\n",
       "      <td>None</td>\n",
       "      <td>None</td>\n",
       "    </tr>\n",
       "    <tr>\n",
       "      <th>4</th>\n",
       "      <td>https://s3-eu-west-1.amazonaws.com/aquabyte-cr...</td>\n",
       "      <td>190301010007</td>\n",
       "      <td>1924</td>\n",
       "      <td>{'species': 'salmon', 'location': 'Generic', '...</td>\n",
       "      <td>https://aquabyte-stereo-parameters.s3-eu-west-...</td>\n",
       "      <td>2019-08-09 05:30:06.538102+00:00</td>\n",
       "      <td>2019-08-09 05:30:06.538102+00:00</td>\n",
       "      <td>None</td>\n",
       "      <td>509151</td>\n",
       "      <td>None</td>\n",
       "      <td>...</td>\n",
       "      <td>35</td>\n",
       "      <td>48</td>\n",
       "      <td>https://s3-eu-west-1.amazonaws.com/aquabyte-cr...</td>\n",
       "      <td>https://s3-eu-west-1.amazonaws.com/aquabyte-cr...</td>\n",
       "      <td>{'width': 2215, 'height': 630, 'x_coord': 685,...</td>\n",
       "      <td>{'width': 2262, 'height': 654, 'x_coord': 205,...</td>\n",
       "      <td>{'baseline': 0.12693501988129197, 'focalLength...</td>\n",
       "      <td>2019-03-01 09:22:01.397000+00:00</td>\n",
       "      <td>None</td>\n",
       "      <td>None</td>\n",
       "    </tr>\n",
       "  </tbody>\n",
       "</table>\n",
       "<p>5 rows × 34 columns</p>\n",
       "</div>"
      ],
      "text/plain": [
       "                                            left_url       fish_id  weight  \\\n",
       "0  https://s3-eu-west-1.amazonaws.com/aquabyte-cr...  190301010002    2427   \n",
       "1  https://s3-eu-west-1.amazonaws.com/aquabyte-cr...  190301010003    2300   \n",
       "2  https://s3-eu-west-1.amazonaws.com/aquabyte-cr...  190301010004    1903   \n",
       "3  https://s3-eu-west-1.amazonaws.com/aquabyte-cr...  190301010006    1835   \n",
       "4  https://s3-eu-west-1.amazonaws.com/aquabyte-cr...  190301010007    1924   \n",
       "\n",
       "                                                data  \\\n",
       "0  {'species': 'salmon', 'location': 'Generic', '...   \n",
       "1  {'species': 'salmon', 'location': 'Generic', '...   \n",
       "2  {'species': 'salmon', 'location': 'Generic', '...   \n",
       "3  {'species': 'salmon', 'location': 'Generic', '...   \n",
       "4  {'species': 'salmon', 'location': 'Generic', '...   \n",
       "\n",
       "                               stereo_parameters_url  \\\n",
       "0  https://aquabyte-stereo-parameters.s3-eu-west-...   \n",
       "1  https://aquabyte-stereo-parameters.s3-eu-west-...   \n",
       "2  https://aquabyte-stereo-parameters.s3-eu-west-...   \n",
       "3  https://aquabyte-stereo-parameters.s3-eu-west-...   \n",
       "4  https://aquabyte-stereo-parameters.s3-eu-west-...   \n",
       "\n",
       "                        ts_created                       ts_updated  \\\n",
       "0 2019-08-09 05:30:21.884070+00:00 2019-08-09 05:30:21.884070+00:00   \n",
       "1 2019-08-09 05:30:19.685998+00:00 2019-08-09 05:30:19.685998+00:00   \n",
       "2 2019-08-09 05:30:22.664575+00:00 2019-08-09 05:30:22.664575+00:00   \n",
       "3 2019-08-09 05:30:12.022678+00:00 2019-08-09 05:30:12.022678+00:00   \n",
       "4 2019-08-09 05:30:06.538102+00:00 2019-08-09 05:30:06.538102+00:00   \n",
       "\n",
       "  data_collection_type_id      id fish_detection_id  ... site_id  pen_id  \\\n",
       "0                    None  509178              None  ...      35      48   \n",
       "1                    None  509176              None  ...      35      48   \n",
       "2                    None  509179              None  ...      35      48   \n",
       "3                    None  509159              None  ...      35      48   \n",
       "4                    None  509151              None  ...      35      48   \n",
       "\n",
       "                                      left_image_url  \\\n",
       "0  https://s3-eu-west-1.amazonaws.com/aquabyte-cr...   \n",
       "1  https://s3-eu-west-1.amazonaws.com/aquabyte-cr...   \n",
       "2  https://s3-eu-west-1.amazonaws.com/aquabyte-cr...   \n",
       "3  https://s3-eu-west-1.amazonaws.com/aquabyte-cr...   \n",
       "4  https://s3-eu-west-1.amazonaws.com/aquabyte-cr...   \n",
       "\n",
       "                                     right_image_url  \\\n",
       "0  https://s3-eu-west-1.amazonaws.com/aquabyte-cr...   \n",
       "1  https://s3-eu-west-1.amazonaws.com/aquabyte-cr...   \n",
       "2  https://s3-eu-west-1.amazonaws.com/aquabyte-cr...   \n",
       "3  https://s3-eu-west-1.amazonaws.com/aquabyte-cr...   \n",
       "4  https://s3-eu-west-1.amazonaws.com/aquabyte-cr...   \n",
       "\n",
       "                                  left_crop_metadata  \\\n",
       "0  {'width': 2339, 'height': 702, 'x_coord': 634,...   \n",
       "1  {'width': 2340, 'height': 714, 'x_coord': 642,...   \n",
       "2  {'width': 2216, 'height': 637, 'x_coord': 684,...   \n",
       "3  {'width': 2255, 'height': 612, 'x_coord': 702,...   \n",
       "4  {'width': 2215, 'height': 630, 'x_coord': 685,...   \n",
       "\n",
       "                                 right_crop_metadata  \\\n",
       "0  {'width': 2319, 'height': 709, 'x_coord': 172,...   \n",
       "1  {'width': 2278, 'height': 684, 'x_coord': 213,...   \n",
       "2  {'width': 2238, 'height': 654, 'x_coord': 205,...   \n",
       "3  {'width': 2344, 'height': 637, 'x_coord': 115,...   \n",
       "4  {'width': 2262, 'height': 654, 'x_coord': 205,...   \n",
       "\n",
       "                                     camera_metadata  \\\n",
       "0  {'baseline': 0.12693501988129197, 'focalLength...   \n",
       "1  {'baseline': 0.12693501988129197, 'focalLength...   \n",
       "2  {'baseline': 0.12693501988129197, 'focalLength...   \n",
       "3  {'baseline': 0.12693501988129197, 'focalLength...   \n",
       "4  {'baseline': 0.12693501988129197, 'focalLength...   \n",
       "\n",
       "                       captured_at is_obscured_floy_tag  \\\n",
       "0 2019-03-01 09:07:45.908000+00:00                 None   \n",
       "1 2019-03-01 09:10:40.248000+00:00                 None   \n",
       "2 2019-03-01 09:13:18.999000+00:00                 None   \n",
       "3 2019-03-01 09:18:21.621000+00:00                 None   \n",
       "4 2019-03-01 09:22:01.397000+00:00                 None   \n",
       "\n",
       "  is_floy_tag_not_present  \n",
       "0                    None  \n",
       "1                    None  \n",
       "2                    None  \n",
       "3                    None  \n",
       "4                    None  \n",
       "\n",
       "[5 rows x 34 columns]"
      ]
     },
     "execution_count": 15,
     "metadata": {},
     "output_type": "execute_result"
    }
   ],
   "source": [
    "df_gtsf.head()"
   ]
  },
  {
   "cell_type": "code",
   "execution_count": 16,
   "metadata": {},
   "outputs": [
    {
     "data": {
      "text/plain": [
       "array([None], dtype=object)"
      ]
     },
     "execution_count": 16,
     "metadata": {},
     "output_type": "execute_result"
    }
   ],
   "source": [
    "df_gtsf['data_collection_type_id'].unique()"
   ]
  },
  {
   "cell_type": "markdown",
   "metadata": {},
   "source": [
    "# load pre_trained model"
   ]
  },
  {
   "cell_type": "code",
   "execution_count": 17,
   "metadata": {},
   "outputs": [],
   "source": [
    "class Network(nn.Module):\n",
    "    def __init__(self):\n",
    "        super().__init__()\n",
    "        self.fc1 = nn.Linear(24, 256)\n",
    "        self.fc2 = nn.Linear(256, 128)\n",
    "        self.fc3 = nn.Linear(128, 64)\n",
    "        self.output = nn.Linear(64, 1)\n",
    "        self.relu = nn.ReLU()\n",
    "        \n",
    "    def forward(self, x):\n",
    "        x = x.view(x.shape[0], -1)\n",
    "        x = self.fc1(x)\n",
    "        x = self.relu(x)\n",
    "        x = self.fc2(x)\n",
    "        x = self.relu(x)\n",
    "        x = self.fc3(x)\n",
    "        x = self.relu(x)\n",
    "        x = self.output(x)\n",
    "        return x\n",
    "\n",
    "biomass_network = torch.load('/root/data/alok/biomass_estimation/results/neural_network/2019-11-08T00:13:09/nn_epoch_798.pb')"
   ]
  },
  {
   "cell_type": "code",
   "execution_count": 18,
   "metadata": {},
   "outputs": [],
   "source": [
    "# amg = AccuracyMetricsGenerator()\n",
    "# amg.generate_accuracy_metrics(y_pred, df_gtsf['weight'], None)"
   ]
  },
  {
   "cell_type": "code",
   "execution_count": 19,
   "metadata": {},
   "outputs": [
    {
     "ename": "NameError",
     "evalue": "name 'df' is not defined",
     "output_type": "error",
     "traceback": [
      "\u001b[0;31m---------------------------------------------------------------------------\u001b[0m",
      "\u001b[0;31mNameError\u001b[0m                                 Traceback (most recent call last)",
      "\u001b[0;32m<ipython-input-19-00cf07b74dcd>\u001b[0m in \u001b[0;36m<module>\u001b[0;34m\u001b[0m\n\u001b[0;32m----> 1\u001b[0;31m \u001b[0mdf\u001b[0m\u001b[0;34m\u001b[0m\u001b[0m\n\u001b[0m",
      "\u001b[0;31mNameError\u001b[0m: name 'df' is not defined"
     ]
    }
   ],
   "source": [
    "df"
   ]
  },
  {
   "cell_type": "code",
   "execution_count": 20,
   "metadata": {},
   "outputs": [
    {
     "ename": "NameError",
     "evalue": "name 'get_MPE' is not defined",
     "output_type": "error",
     "traceback": [
      "\u001b[0;31m---------------------------------------------------------------------------\u001b[0m",
      "\u001b[0;31mNameError\u001b[0m                                 Traceback (most recent call last)",
      "\u001b[0;32m<ipython-input-20-831c89c33822>\u001b[0m in \u001b[0;36m<module>\u001b[0;34m\u001b[0m\n\u001b[0;32m----> 1\u001b[0;31m \u001b[0mget_MPE\u001b[0m\u001b[0;34m(\u001b[0m\u001b[0my_pred\u001b[0m\u001b[0;34m,\u001b[0m \u001b[0mdf_gtsf\u001b[0m\u001b[0;34m[\u001b[0m\u001b[0;34m'weight'\u001b[0m\u001b[0;34m]\u001b[0m\u001b[0;34m)\u001b[0m\u001b[0;34m\u001b[0m\u001b[0m\n\u001b[0m",
      "\u001b[0;31mNameError\u001b[0m: name 'get_MPE' is not defined"
     ]
    }
   ],
   "source": [
    "get_MPE(y_pred, df_gtsf['weight'])"
   ]
  },
  {
   "cell_type": "code",
   "execution_count": 21,
   "metadata": {},
   "outputs": [
    {
     "ename": "NameError",
     "evalue": "name 'get_MAPE' is not defined",
     "output_type": "error",
     "traceback": [
      "\u001b[0;31m---------------------------------------------------------------------------\u001b[0m",
      "\u001b[0;31mNameError\u001b[0m                                 Traceback (most recent call last)",
      "\u001b[0;32m<ipython-input-21-18791b332c14>\u001b[0m in \u001b[0;36m<module>\u001b[0;34m\u001b[0m\n\u001b[0;32m----> 1\u001b[0;31m \u001b[0mget_MAPE\u001b[0m\u001b[0;34m(\u001b[0m\u001b[0my_pred\u001b[0m\u001b[0;34m,\u001b[0m \u001b[0mdf_gtsf\u001b[0m\u001b[0;34m[\u001b[0m\u001b[0;34m'weight'\u001b[0m\u001b[0;34m]\u001b[0m\u001b[0;34m)\u001b[0m\u001b[0;34m\u001b[0m\u001b[0m\n\u001b[0m",
      "\u001b[0;31mNameError\u001b[0m: name 'get_MAPE' is not defined"
     ]
    }
   ],
   "source": [
    "get_MAPE(y_pred, df_gtsf['weight'])\n"
   ]
  },
  {
   "cell_type": "code",
   "execution_count": null,
   "metadata": {},
   "outputs": [],
   "source": []
  },
  {
   "cell_type": "code",
   "execution_count": 22,
   "metadata": {},
   "outputs": [],
   "source": [
    "def get_MPE(y_predict, y_train):\n",
    "    # calculate mean percentage error\n",
    "    return np.mean((y_train - y_predict) / y_train)\n",
    "\n",
    "def get_MAPE(y_predict, y_train):\n",
    "    # calcuate mean absolute percentage error\n",
    "    return np.mean(np.absolute((y_train - y_predict) / y_train))"
   ]
  },
  {
   "cell_type": "code",
   "execution_count": null,
   "metadata": {},
   "outputs": [],
   "source": []
  },
  {
   "cell_type": "markdown",
   "metadata": {},
   "source": [
    "# Unit test"
   ]
  },
  {
   "cell_type": "code",
   "execution_count": 23,
   "metadata": {
    "scrolled": false
   },
   "outputs": [
    {
     "ename": "NameError",
     "evalue": "name 'normalize_centered_2D_transform' is not defined",
     "output_type": "error",
     "traceback": [
      "\u001b[0;31m---------------------------------------------------------------------------\u001b[0m",
      "\u001b[0;31mNameError\u001b[0m                                 Traceback (most recent call last)",
      "\u001b[0;32m<ipython-input-23-04edf5d9a2c3>\u001b[0m in \u001b[0;36m<module>\u001b[0;34m\u001b[0m\n\u001b[1;32m      7\u001b[0m }\n\u001b[1;32m      8\u001b[0m \u001b[0mnomralized_centered_2D_kps\u001b[0m \u001b[0;34m=\u001b[0m\u001b[0;31m \u001b[0m\u001b[0;31m\\\u001b[0m\u001b[0;34m\u001b[0m\u001b[0m\n\u001b[0;32m----> 9\u001b[0;31m         \u001b[0mnormalize_centered_2D_transform\u001b[0m\u001b[0;34m.\u001b[0m\u001b[0m__call__\u001b[0m\u001b[0;34m(\u001b[0m\u001b[0minput_sample\u001b[0m\u001b[0;34m)\u001b[0m\u001b[0;34m\u001b[0m\u001b[0m\n\u001b[0m\u001b[1;32m     10\u001b[0m \u001b[0;34m\u001b[0m\u001b[0m\n\u001b[1;32m     11\u001b[0m \u001b[0mnormalized_stability_kps\u001b[0m \u001b[0;34m=\u001b[0m \u001b[0mnormalized_stability_transform\u001b[0m\u001b[0;34m.\u001b[0m\u001b[0m__call__\u001b[0m\u001b[0;34m(\u001b[0m\u001b[0mnomralized_centered_2D_kps\u001b[0m\u001b[0;34m)\u001b[0m\u001b[0;34m\u001b[0m\u001b[0m\n",
      "\u001b[0;31mNameError\u001b[0m: name 'normalize_centered_2D_transform' is not defined"
     ]
    }
   ],
   "source": [
    "row = df_gtsf.iloc[13752]\n",
    "input_sample = {\n",
    "    'keypoints': row.keypoints,\n",
    "    'cm': row.camera_metadata,\n",
    "    'stereo_pair_id': row.id,\n",
    "    'single_point_inference': True\n",
    "}\n",
    "nomralized_centered_2D_kps = \\\n",
    "        normalize_centered_2D_transform.__call__(input_sample)\n",
    "\n",
    "normalized_stability_kps = normalized_stability_transform.__call__(nomralized_centered_2D_kps)\n",
    "normalized_3D_kps = normalized_stability_kps['kp_input']"
   ]
  },
  {
   "cell_type": "code",
   "execution_count": 24,
   "metadata": {},
   "outputs": [],
   "source": [
    "def get_cos(v1, v2):\n",
    "    return np.dot(v1, v2) / (np.linalg.norm(v1) * np.linalg.norm(v2))"
   ]
  },
  {
   "cell_type": "code",
   "execution_count": 25,
   "metadata": {},
   "outputs": [
    {
     "ename": "NameError",
     "evalue": "name 'normalized_3D_kps' is not defined",
     "output_type": "error",
     "traceback": [
      "\u001b[0;31m---------------------------------------------------------------------------\u001b[0m",
      "\u001b[0;31mNameError\u001b[0m                                 Traceback (most recent call last)",
      "\u001b[0;32m<ipython-input-25-40cc084291b8>\u001b[0m in \u001b[0;36m<module>\u001b[0;34m\u001b[0m\n\u001b[0;32m----> 1\u001b[0;31m \u001b[0mnormalized_3D_kps\u001b[0m\u001b[0;34m\u001b[0m\u001b[0m\n\u001b[0m",
      "\u001b[0;31mNameError\u001b[0m: name 'normalized_3D_kps' is not defined"
     ]
    }
   ],
   "source": [
    "normalized_3D_kps"
   ]
  },
  {
   "cell_type": "markdown",
   "metadata": {},
   "source": [
    "## Orientation"
   ]
  },
  {
   "cell_type": "code",
   "execution_count": 26,
   "metadata": {},
   "outputs": [],
   "source": [
    "\n",
    "def get_orientation(normalized_3D_kps):\n",
    "    # degree between tail to lip vector and \n",
    "    tail_lip = np.array(normalized_3D_kps[TAIL_NOTCH]) - np.array(normalized_3D_kps[UPPER_LIP])\n",
    "    x_hat = np.array([1, 0, 0])\n",
    "    tail_lip_xy_proj = tail_lip * np.array([1, 1, 0])\n",
    "    cos_phi = get_cos(x_hat, tail_lip_xy_proj)\n",
    "    return np.degrees(np.arccos(cos_phi))\n"
   ]
  },
  {
   "cell_type": "code",
   "execution_count": 27,
   "metadata": {},
   "outputs": [
    {
     "ename": "NameError",
     "evalue": "name 'normalized_3D_kps' is not defined",
     "output_type": "error",
     "traceback": [
      "\u001b[0;31m---------------------------------------------------------------------------\u001b[0m",
      "\u001b[0;31mNameError\u001b[0m                                 Traceback (most recent call last)",
      "\u001b[0;32m<ipython-input-27-8f7a11200571>\u001b[0m in \u001b[0;36m<module>\u001b[0;34m\u001b[0m\n\u001b[0;32m----> 1\u001b[0;31m \u001b[0mget_orientation\u001b[0m\u001b[0;34m(\u001b[0m\u001b[0mnormalized_3D_kps\u001b[0m\u001b[0;34m)\u001b[0m\u001b[0;34m\u001b[0m\u001b[0m\n\u001b[0m",
      "\u001b[0;31mNameError\u001b[0m: name 'normalized_3D_kps' is not defined"
     ]
    }
   ],
   "source": [
    "get_orientation(normalized_3D_kps)\n"
   ]
  },
  {
   "cell_type": "markdown",
   "metadata": {},
   "source": [
    "## Curvature"
   ]
  },
  {
   "cell_type": "code",
   "execution_count": 28,
   "metadata": {},
   "outputs": [],
   "source": [
    "def get_curvature(normalized_3D_kps):\n",
    "    dorsal_lip = np.array(normalized_3D_kps[DORSAL_FIN]) - np.array(normalized_3D_kps[UPPER_LIP])\n",
    "    dorsal_tail = np.array(normalized_3D_kps[DORSAL_FIN]) - np.array(normalized_3D_kps[TAIL_NOTCH])\n",
    "\n",
    "    dorsal_lip_xy_proj = dorsal_lip * np.array([1, 1, 0])\n",
    "    dorsal_tail_xy_proj = dorsal_tail * np.array([1, 1, 0])\n",
    "\n",
    "    cos_alpha = get_cos(dorsal_lip_xy_proj, dorsal_tail_xy_proj)\n",
    "    return np.degrees(np.arccos(cos_alpha))\n",
    "\n"
   ]
  },
  {
   "cell_type": "markdown",
   "metadata": {},
   "source": [
    "# lean"
   ]
  },
  {
   "cell_type": "code",
   "execution_count": 29,
   "metadata": {},
   "outputs": [],
   "source": [
    "def get_lean(normalized_3d_kps):\n",
    "    tail_lip = np.array(normalized_3D_kps[TAIL_NOTCH]) - np.array(normalized_3D_kps[UPPER_LIP])\n",
    "    tail_lip_xz_proj = tail_lip * np.array([1, 0, 1])\n",
    "    x_hat = np.array([1, 0, 0])\n",
    "    cos_beta = get_cos(tail_lip_xz_proj, x_hat )\n",
    "    return np.degrees(np.arccos(cos_beta))"
   ]
  },
  {
   "cell_type": "code",
   "execution_count": null,
   "metadata": {},
   "outputs": [],
   "source": []
  },
  {
   "cell_type": "code",
   "execution_count": 30,
   "metadata": {},
   "outputs": [],
   "source": [
    "def get_size(weight):\n",
    "    if weight < 2000:\n",
    "        return 'small'\n",
    "    if weight < 6000:\n",
    "        return 'medium'\n",
    "    else:\n",
    "        return 'large'"
   ]
  },
  {
   "cell_type": "code",
   "execution_count": null,
   "metadata": {},
   "outputs": [],
   "source": []
  },
  {
   "cell_type": "code",
   "execution_count": 31,
   "metadata": {},
   "outputs": [],
   "source": [
    "normalize_centered_2D_transform = NormalizeCentered2D()\n",
    "normalized_stability_transform = NormalizedStabilityTransform()\n",
    "to_tensor_transform = ToTensor()\n",
    "\n",
    "\n",
    "df = pd.DataFrame(columns=[\"fish_id\"\n",
    "                           ,\"weight\"\n",
    "                           ,\"input_sample\"\n",
    "                           ,\"orientation\"\n",
    "                           ,\"curvature\"\n",
    "                           ,\"lean\"\n",
    "                           ,\"predicted_weight\"\n",
    "                           ,\"size\"\n",
    "                          ])\n",
    "y_pred = []\n",
    "\n",
    "for idx, row in df_gtsf.iterrows():\n",
    "    input_sample = {\n",
    "        'keypoints': row.keypoints,\n",
    "        'cm': row.camera_metadata,\n",
    "        'stereo_pair_id': row.id,\n",
    "        'single_point_inference': True\n",
    "    }\n",
    "    nomralized_centered_2D_kps = \\\n",
    "        normalize_centered_2D_transform.__call__(input_sample)\n",
    "\n",
    "    normalized_stability_kps = normalized_stability_transform.__call__(nomralized_centered_2D_kps)\n",
    "    tensorized_kps = to_tensor_transform.__call__(normalized_stability_kps) \n",
    "    normalized_3D_kps = normalized_stability_kps['kp_input']\n",
    "    weight_prediction = biomass_network(tensorized_kps['kp_input']).item() * 1e4\n",
    "    ornt = get_orientation(normalized_3D_kps)\n",
    "    curv = get_curvature(normalized_3D_kps)\n",
    "    lean = get_lean(normalized_3D_kps)\n",
    "    df = df.append({'fish_id': row['fish_id']\n",
    "                  ,'input_sample':input_sample\n",
    "                  ,'weight': row['weight']\n",
    "                  ,\"orientation\":ornt\n",
    "                  ,\"curvature\":curv\n",
    "                  ,\"lean\":lean\n",
    "                  ,\"predicted_weight\":weight_prediction}, ignore_index=True)   \n",
    "\n",
    "    \n",
    "df['weight'] = df['weight'].astype(int)\n",
    "df['error'] = df['weight'] - df['predicted_weight']\n",
    "df['size'] = df['weight'].apply(get_size)       "
   ]
  },
  {
   "cell_type": "code",
   "execution_count": 32,
   "metadata": {},
   "outputs": [
    {
     "data": {
      "text/plain": [
       "(15965, 9)"
      ]
     },
     "execution_count": 32,
     "metadata": {},
     "output_type": "execute_result"
    }
   ],
   "source": [
    "df.shape"
   ]
  },
  {
   "cell_type": "code",
   "execution_count": 33,
   "metadata": {},
   "outputs": [
    {
     "data": {
      "text/html": [
       "<div>\n",
       "<style scoped>\n",
       "    .dataframe tbody tr th:only-of-type {\n",
       "        vertical-align: middle;\n",
       "    }\n",
       "\n",
       "    .dataframe tbody tr th {\n",
       "        vertical-align: top;\n",
       "    }\n",
       "\n",
       "    .dataframe thead th {\n",
       "        text-align: right;\n",
       "    }\n",
       "</style>\n",
       "<table border=\"1\" class=\"dataframe\">\n",
       "  <thead>\n",
       "    <tr style=\"text-align: right;\">\n",
       "      <th></th>\n",
       "      <th>fish_id</th>\n",
       "      <th>weight</th>\n",
       "      <th>input_sample</th>\n",
       "      <th>orientation</th>\n",
       "      <th>curvature</th>\n",
       "      <th>lean</th>\n",
       "      <th>predicted_weight</th>\n",
       "      <th>size</th>\n",
       "      <th>error</th>\n",
       "    </tr>\n",
       "  </thead>\n",
       "  <tbody>\n",
       "    <tr>\n",
       "      <th>0</th>\n",
       "      <td>190301010002</td>\n",
       "      <td>2427</td>\n",
       "      <td>{'keypoints': {'version': 2, 'leftCrop': [{'xC...</td>\n",
       "      <td>177.963460</td>\n",
       "      <td>154.705176</td>\n",
       "      <td>179.472124</td>\n",
       "      <td>2340.981066</td>\n",
       "      <td>medium</td>\n",
       "      <td>86.018934</td>\n",
       "    </tr>\n",
       "    <tr>\n",
       "      <th>1</th>\n",
       "      <td>190301010003</td>\n",
       "      <td>2300</td>\n",
       "      <td>{'keypoints': {'version': 2, 'leftCrop': [{'xC...</td>\n",
       "      <td>176.228311</td>\n",
       "      <td>159.448862</td>\n",
       "      <td>179.710985</td>\n",
       "      <td>2165.283114</td>\n",
       "      <td>medium</td>\n",
       "      <td>134.716886</td>\n",
       "    </tr>\n",
       "    <tr>\n",
       "      <th>2</th>\n",
       "      <td>190301010004</td>\n",
       "      <td>1903</td>\n",
       "      <td>{'keypoints': {'version': 2, 'leftCrop': [{'xC...</td>\n",
       "      <td>179.111454</td>\n",
       "      <td>156.619750</td>\n",
       "      <td>179.562471</td>\n",
       "      <td>1858.538687</td>\n",
       "      <td>small</td>\n",
       "      <td>44.461313</td>\n",
       "    </tr>\n",
       "    <tr>\n",
       "      <th>3</th>\n",
       "      <td>190301010006</td>\n",
       "      <td>1835</td>\n",
       "      <td>{'keypoints': {'version': 2, 'leftCrop': [{'xC...</td>\n",
       "      <td>179.010362</td>\n",
       "      <td>154.457552</td>\n",
       "      <td>179.588318</td>\n",
       "      <td>1927.961111</td>\n",
       "      <td>small</td>\n",
       "      <td>-92.961111</td>\n",
       "    </tr>\n",
       "    <tr>\n",
       "      <th>4</th>\n",
       "      <td>190301010007</td>\n",
       "      <td>1924</td>\n",
       "      <td>{'keypoints': {'version': 2, 'leftCrop': [{'xC...</td>\n",
       "      <td>178.818454</td>\n",
       "      <td>156.835940</td>\n",
       "      <td>179.667448</td>\n",
       "      <td>1893.900633</td>\n",
       "      <td>small</td>\n",
       "      <td>30.099367</td>\n",
       "    </tr>\n",
       "    <tr>\n",
       "      <th>5</th>\n",
       "      <td>190301010008</td>\n",
       "      <td>1854</td>\n",
       "      <td>{'keypoints': {'version': 2, 'leftCrop': [{'xC...</td>\n",
       "      <td>178.187207</td>\n",
       "      <td>159.819930</td>\n",
       "      <td>179.616095</td>\n",
       "      <td>1840.741336</td>\n",
       "      <td>small</td>\n",
       "      <td>13.258664</td>\n",
       "    </tr>\n",
       "    <tr>\n",
       "      <th>6</th>\n",
       "      <td>190301010009</td>\n",
       "      <td>2266</td>\n",
       "      <td>{'keypoints': {'version': 2, 'leftCrop': [{'xC...</td>\n",
       "      <td>178.912261</td>\n",
       "      <td>157.943223</td>\n",
       "      <td>179.653100</td>\n",
       "      <td>2157.281935</td>\n",
       "      <td>medium</td>\n",
       "      <td>108.718065</td>\n",
       "    </tr>\n",
       "    <tr>\n",
       "      <th>7</th>\n",
       "      <td>190301010010</td>\n",
       "      <td>1848</td>\n",
       "      <td>{'keypoints': {'version': 2, 'leftCrop': [{'xC...</td>\n",
       "      <td>179.913686</td>\n",
       "      <td>153.370700</td>\n",
       "      <td>179.501356</td>\n",
       "      <td>1777.640581</td>\n",
       "      <td>small</td>\n",
       "      <td>70.359419</td>\n",
       "    </tr>\n",
       "    <tr>\n",
       "      <th>8</th>\n",
       "      <td>190301010011</td>\n",
       "      <td>2007</td>\n",
       "      <td>{'keypoints': {'version': 2, 'leftCrop': [{'xC...</td>\n",
       "      <td>178.471055</td>\n",
       "      <td>156.366507</td>\n",
       "      <td>179.464446</td>\n",
       "      <td>1936.170757</td>\n",
       "      <td>medium</td>\n",
       "      <td>70.829243</td>\n",
       "    </tr>\n",
       "    <tr>\n",
       "      <th>9</th>\n",
       "      <td>190301010012</td>\n",
       "      <td>2138</td>\n",
       "      <td>{'keypoints': {'version': 2, 'leftCrop': [{'xC...</td>\n",
       "      <td>179.779352</td>\n",
       "      <td>152.589817</td>\n",
       "      <td>179.674073</td>\n",
       "      <td>2182.433754</td>\n",
       "      <td>medium</td>\n",
       "      <td>-44.433754</td>\n",
       "    </tr>\n",
       "  </tbody>\n",
       "</table>\n",
       "</div>"
      ],
      "text/plain": [
       "        fish_id  weight                                       input_sample  \\\n",
       "0  190301010002    2427  {'keypoints': {'version': 2, 'leftCrop': [{'xC...   \n",
       "1  190301010003    2300  {'keypoints': {'version': 2, 'leftCrop': [{'xC...   \n",
       "2  190301010004    1903  {'keypoints': {'version': 2, 'leftCrop': [{'xC...   \n",
       "3  190301010006    1835  {'keypoints': {'version': 2, 'leftCrop': [{'xC...   \n",
       "4  190301010007    1924  {'keypoints': {'version': 2, 'leftCrop': [{'xC...   \n",
       "5  190301010008    1854  {'keypoints': {'version': 2, 'leftCrop': [{'xC...   \n",
       "6  190301010009    2266  {'keypoints': {'version': 2, 'leftCrop': [{'xC...   \n",
       "7  190301010010    1848  {'keypoints': {'version': 2, 'leftCrop': [{'xC...   \n",
       "8  190301010011    2007  {'keypoints': {'version': 2, 'leftCrop': [{'xC...   \n",
       "9  190301010012    2138  {'keypoints': {'version': 2, 'leftCrop': [{'xC...   \n",
       "\n",
       "   orientation   curvature        lean  predicted_weight    size       error  \n",
       "0   177.963460  154.705176  179.472124       2340.981066  medium   86.018934  \n",
       "1   176.228311  159.448862  179.710985       2165.283114  medium  134.716886  \n",
       "2   179.111454  156.619750  179.562471       1858.538687   small   44.461313  \n",
       "3   179.010362  154.457552  179.588318       1927.961111   small  -92.961111  \n",
       "4   178.818454  156.835940  179.667448       1893.900633   small   30.099367  \n",
       "5   178.187207  159.819930  179.616095       1840.741336   small   13.258664  \n",
       "6   178.912261  157.943223  179.653100       2157.281935  medium  108.718065  \n",
       "7   179.913686  153.370700  179.501356       1777.640581   small   70.359419  \n",
       "8   178.471055  156.366507  179.464446       1936.170757  medium   70.829243  \n",
       "9   179.779352  152.589817  179.674073       2182.433754  medium  -44.433754  "
      ]
     },
     "execution_count": 33,
     "metadata": {},
     "output_type": "execute_result"
    }
   ],
   "source": [
    "df.head(10)"
   ]
  },
  {
   "cell_type": "code",
   "execution_count": 34,
   "metadata": {},
   "outputs": [
    {
     "data": {
      "text/plain": [
       "0.03877231443783276"
      ]
     },
     "execution_count": 34,
     "metadata": {},
     "output_type": "execute_result"
    }
   ],
   "source": [
    "sum(df['size'] == 'small') / df.shape[0]"
   ]
  },
  {
   "cell_type": "code",
   "execution_count": 35,
   "metadata": {},
   "outputs": [
    {
     "data": {
      "text/plain": [
       "0.6024428437206389"
      ]
     },
     "execution_count": 35,
     "metadata": {},
     "output_type": "execute_result"
    }
   ],
   "source": [
    "sum(df['size'] == 'medium') / df.shape[0]"
   ]
  },
  {
   "cell_type": "code",
   "execution_count": 36,
   "metadata": {},
   "outputs": [
    {
     "data": {
      "text/plain": [
       "0.35878484184152837"
      ]
     },
     "execution_count": 36,
     "metadata": {},
     "output_type": "execute_result"
    }
   ],
   "source": [
    "sum(df['size'] == 'large') / df.shape[0]"
   ]
  },
  {
   "cell_type": "code",
   "execution_count": 37,
   "metadata": {},
   "outputs": [
    {
     "data": {
      "image/png": "[encoded data removed]",
      "text/plain": [
       "<Figure size 432x288 with 1 Axes>"
      ]
     },
     "metadata": {
      "needs_background": "light"
     },
     "output_type": "display_data"
    }
   ],
   "source": [
    "_ = plt.hist(df['weight'], bins=10)  # arguments are passed to np.histogram\n",
    "#_ = plt.hist(orientation, bins=20)\n",
    "plt.title(\"Histogram of GTSF weight\")\n",
    "plt.xlabel('weight (g)')\n",
    "plt.show()"
   ]
  },
  {
   "cell_type": "code",
   "execution_count": 41,
   "metadata": {},
   "outputs": [
    {
     "data": {
      "image/png": "[encoded data removed]",
      "text/plain": [
       "<Figure size 432x288 with 1 Axes>"
      ]
     },
     "metadata": {
      "needs_background": "light"
     },
     "output_type": "display_data"
    }
   ],
   "source": [
    "plt.title('error plot')\n",
    "\n",
    "plt.axvline(x=2000, color='r', linestyle='--')\n",
    "plt.axvline(x=6000, color='r', linestyle='--')\n",
    "plt.scatter('weight', 'error', data = df, marker='.')\n",
    "plt.xlabel('ground truth weight (g)')\n",
    "plt.ylabel('error (g)')\n",
    "plt.show()"
   ]
  },
  {
   "cell_type": "code",
   "execution_count": 46,
   "metadata": {
    "scrolled": true
   },
   "outputs": [
    {
     "data": {
      "text/html": [
       "<div>\n",
       "<style scoped>\n",
       "    .dataframe tbody tr th:only-of-type {\n",
       "        vertical-align: middle;\n",
       "    }\n",
       "\n",
       "    .dataframe tbody tr th {\n",
       "        vertical-align: top;\n",
       "    }\n",
       "\n",
       "    .dataframe thead th {\n",
       "        text-align: right;\n",
       "    }\n",
       "</style>\n",
       "<table border=\"1\" class=\"dataframe\">\n",
       "  <thead>\n",
       "    <tr style=\"text-align: right;\">\n",
       "      <th></th>\n",
       "      <th>fish_id</th>\n",
       "      <th>weight</th>\n",
       "      <th>input_sample</th>\n",
       "      <th>orientation</th>\n",
       "      <th>curvature</th>\n",
       "      <th>lean</th>\n",
       "      <th>predicted_weight</th>\n",
       "      <th>size</th>\n",
       "      <th>error</th>\n",
       "    </tr>\n",
       "  </thead>\n",
       "  <tbody>\n",
       "    <tr>\n",
       "      <th>903</th>\n",
       "      <td>190513010075</td>\n",
       "      <td>5057</td>\n",
       "      <td>{'keypoints': {'version': 2, 'leftCrop': [{'xC...</td>\n",
       "      <td>174.699915</td>\n",
       "      <td>168.261551</td>\n",
       "      <td>179.631724</td>\n",
       "      <td>1956.571937</td>\n",
       "      <td>medium</td>\n",
       "      <td>3100.428063</td>\n",
       "    </tr>\n",
       "  </tbody>\n",
       "</table>\n",
       "</div>"
      ],
      "text/plain": [
       "          fish_id  weight                                       input_sample  \\\n",
       "903  190513010075    5057  {'keypoints': {'version': 2, 'leftCrop': [{'xC...   \n",
       "\n",
       "     orientation   curvature        lean  predicted_weight    size  \\\n",
       "903   174.699915  168.261551  179.631724       1956.571937  medium   \n",
       "\n",
       "           error  \n",
       "903  3100.428063  "
      ]
     },
     "execution_count": 46,
     "metadata": {},
     "output_type": "execute_result"
    }
   ],
   "source": [
    "df[df.error == df.error.max()]"
   ]
  },
  {
   "cell_type": "code",
   "execution_count": 47,
   "metadata": {},
   "outputs": [
    {
     "data": {
      "text/html": [
       "<div>\n",
       "<style scoped>\n",
       "    .dataframe tbody tr th:only-of-type {\n",
       "        vertical-align: middle;\n",
       "    }\n",
       "\n",
       "    .dataframe tbody tr th {\n",
       "        vertical-align: top;\n",
       "    }\n",
       "\n",
       "    .dataframe thead th {\n",
       "        text-align: right;\n",
       "    }\n",
       "</style>\n",
       "<table border=\"1\" class=\"dataframe\">\n",
       "  <thead>\n",
       "    <tr style=\"text-align: right;\">\n",
       "      <th></th>\n",
       "      <th>fish_id</th>\n",
       "      <th>weight</th>\n",
       "      <th>input_sample</th>\n",
       "      <th>orientation</th>\n",
       "      <th>curvature</th>\n",
       "      <th>lean</th>\n",
       "      <th>predicted_weight</th>\n",
       "      <th>size</th>\n",
       "      <th>error</th>\n",
       "    </tr>\n",
       "  </thead>\n",
       "  <tbody>\n",
       "    <tr>\n",
       "      <th>14904</th>\n",
       "      <td>190808-d20dc94e-fc76-4ffb-a4f5-f296d9ac368d</td>\n",
       "      <td>4525</td>\n",
       "      <td>{'keypoints': {'version': 2, 'leftCrop': [{'xC...</td>\n",
       "      <td>178.670985</td>\n",
       "      <td>149.417865</td>\n",
       "      <td>179.984124</td>\n",
       "      <td>6765.114069</td>\n",
       "      <td>medium</td>\n",
       "      <td>-2240.114069</td>\n",
       "    </tr>\n",
       "  </tbody>\n",
       "</table>\n",
       "</div>"
      ],
      "text/plain": [
       "                                           fish_id  weight  \\\n",
       "14904  190808-d20dc94e-fc76-4ffb-a4f5-f296d9ac368d    4525   \n",
       "\n",
       "                                            input_sample  orientation  \\\n",
       "14904  {'keypoints': {'version': 2, 'leftCrop': [{'xC...   178.670985   \n",
       "\n",
       "        curvature        lean  predicted_weight    size        error  \n",
       "14904  149.417865  179.984124       6765.114069  medium -2240.114069  "
      ]
     },
     "execution_count": 47,
     "metadata": {},
     "output_type": "execute_result"
    }
   ],
   "source": [
    "df[df.error == df.error.min()]"
   ]
  },
  {
   "cell_type": "code",
   "execution_count": 42,
   "metadata": {},
   "outputs": [
    {
     "data": {
      "image/png": "[encoded data removed]",
      "text/plain": [
       "<Figure size 720x360 with 2 Axes>"
      ]
     },
     "metadata": {
      "needs_background": "light"
     },
     "output_type": "display_data"
    }
   ],
   "source": [
    "fig, (ax1, ax2) = plt.subplots(1, 2,figsize=(10, 5))\n",
    "fig.suptitle('Error plots')\n",
    "ax1.plot('weight', 'error', \n",
    "         data=df, linestyle='none', marker='.')\n",
    "ax2.plot('predicted_weight', 'weight', \n",
    "         data=df, linestyle='none', marker='.')\n",
    "plt.show()"
   ]
  },
  {
   "cell_type": "code",
   "execution_count": 40,
   "metadata": {},
   "outputs": [
    {
     "data": {
      "image/png": "[encoded data removed]",
      "text/plain": [
       "<Figure size 1440x360 with 3 Axes>"
      ]
     },
     "metadata": {
      "needs_background": "light"
     },
     "output_type": "display_data"
    }
   ],
   "source": [
    "fig, axes = plt.subplots(1, 3,figsize=(20, 5), sharey=True)\n",
    "fig.suptitle('Error plots')\n",
    "\n",
    "axes[0].plot('orientation', 'error', \n",
    "         data=df, linestyle='none', marker='.')\n",
    "axes[0].set(xlabel='orientation', ylabel='error')\n",
    "\n",
    "axes[1].plot('curvature', 'error', \n",
    "         data=df, linestyle='none', marker='.')\n",
    "axes[1].set(xlabel='curvature')\n",
    "\n",
    "axes[2].plot('lean', 'error', \n",
    "         data=df, linestyle='none', marker='.')\n",
    "axes[2].set(xlabel='lean')\n",
    "\n",
    "plt.show()"
   ]
  },
  {
   "cell_type": "code",
   "execution_count": 683,
   "metadata": {
    "scrolled": true
   },
   "outputs": [
    {
     "data": {
      "image/png": "[encoded data removed]",
      "text/plain": [
       "<Figure size 432x288 with 1 Axes>"
      ]
     },
     "metadata": {
      "needs_background": "light"
     },
     "output_type": "display_data"
    }
   ],
   "source": [
    "plt.plot('orientation', 'error', \n",
    "         data=df.drop([np.argmin(df['orientation'])], axis = 0), linestyle='none', marker='.')\n",
    "plt.title('Orientation vs error')\n",
    "plt.xlabel('orientation (degree)')\n",
    "plt.ylabel('error')\n",
    "plt.show()"
   ]
  },
  {
   "cell_type": "code",
   "execution_count": 484,
   "metadata": {},
   "outputs": [
    {
     "data": {
      "image/png": "[encoded data removed]",
      "text/plain": [
       "<Figure size 432x288 with 1 Axes>"
      ]
     },
     "metadata": {
      "needs_background": "light"
     },
     "output_type": "display_data"
    }
   ],
   "source": [
    "plt.plot('curvature', 'error', \n",
    "         data=df, linestyle='none', marker='.')\n",
    "plt.show()"
   ]
  },
  {
   "cell_type": "code",
   "execution_count": 688,
   "metadata": {},
   "outputs": [
    {
     "data": {
      "image/png": "[encoded data removed]",
      "text/plain": [
       "<Figure size 432x288 with 1 Axes>"
      ]
     },
     "metadata": {
      "needs_background": "light"
     },
     "output_type": "display_data"
    }
   ],
   "source": [
    "plt.plot('lean', 'error', \n",
    "         data=df, linestyle='none', marker='.')\n",
    "plt.show()"
   ]
  },
  {
   "cell_type": "code",
   "execution_count": 319,
   "metadata": {},
   "outputs": [
    {
     "data": {
      "text/plain": [
       "count    16080.000000\n",
       "mean       179.083154\n",
       "std          1.920777\n",
       "min          1.722304\n",
       "25%        179.115195\n",
       "50%        179.536573\n",
       "75%        179.717663\n",
       "max        180.000000\n",
       "Name: lean, dtype: float64"
      ]
     },
     "execution_count": 319,
     "metadata": {},
     "output_type": "execute_result"
    }
   ],
   "source": [
    "df['lean'].describe()"
   ]
  },
  {
   "cell_type": "code",
   "execution_count": 321,
   "metadata": {},
   "outputs": [
    {
     "name": "stderr",
     "output_type": "stream",
     "text": [
      "/home/user/miniconda/envs/py36/lib/python3.6/site-packages/numpy/lib/histograms.py:829: RuntimeWarning: invalid value encountered in greater_equal\n",
      "  keep = (tmp_a >= first_edge)\n",
      "/home/user/miniconda/envs/py36/lib/python3.6/site-packages/numpy/lib/histograms.py:830: RuntimeWarning: invalid value encountered in less_equal\n",
      "  keep &= (tmp_a <= last_edge)\n"
     ]
    },
    {
     "data": {
      "image/png": "[encoded data removed]",
      "text/plain": [
       "<Figure size 432x288 with 1 Axes>"
      ]
     },
     "metadata": {
      "needs_background": "light"
     },
     "output_type": "display_data"
    }
   ],
   "source": [
    "_ = plt.hist(df['curvature'], bins=10, range = (100, 180))  # arguments are passed to np.histogram\n",
    "#_ = plt.hist(orientation, bins=20)\n",
    "plt.title(\"Histogram\")\n",
    "\n",
    "plt.show()"
   ]
  },
  {
   "cell_type": "markdown",
   "metadata": {},
   "source": [
    "# regression model"
   ]
  },
  {
   "cell_type": "code",
   "execution_count": 726,
   "metadata": {},
   "outputs": [
    {
     "name": "stderr",
     "output_type": "stream",
     "text": [
      "/home/user/miniconda/envs/py36/lib/python3.6/site-packages/ipykernel_launcher.py:4: SettingWithCopyWarning: \n",
      "A value is trying to be set on a copy of a slice from a DataFrame.\n",
      "Try using .loc[row_indexer,col_indexer] = value instead\n",
      "\n",
      "See the caveats in the documentation: https://pandas.pydata.org/pandas-docs/stable/user_guide/indexing.html#returning-a-view-versus-a-copy\n",
      "  after removing the cwd from sys.path.\n"
     ]
    }
   ],
   "source": [
    "df.dropna(inplace = True) # keypoints nan leads to orientation nan\n",
    "df = df.drop(df[df['orientation'] < 90].index)\n",
    "X = df[['size', 'orientation']]\n",
    "X['size'] = X['size'].astype('category')\n",
    "X = pd.get_dummies(X, columns=['size'], prefix = ['size'])\n"
   ]
  },
  {
   "cell_type": "code",
   "execution_count": 727,
   "metadata": {},
   "outputs": [
    {
     "data": {
      "text/html": [
       "<div>\n",
       "<style scoped>\n",
       "    .dataframe tbody tr th:only-of-type {\n",
       "        vertical-align: middle;\n",
       "    }\n",
       "\n",
       "    .dataframe tbody tr th {\n",
       "        vertical-align: top;\n",
       "    }\n",
       "\n",
       "    .dataframe thead th {\n",
       "        text-align: right;\n",
       "    }\n",
       "</style>\n",
       "<table border=\"1\" class=\"dataframe\">\n",
       "  <thead>\n",
       "    <tr style=\"text-align: right;\">\n",
       "      <th></th>\n",
       "      <th>orientation</th>\n",
       "      <th>size_large</th>\n",
       "      <th>size_medium</th>\n",
       "      <th>size_small</th>\n",
       "    </tr>\n",
       "  </thead>\n",
       "  <tbody>\n",
       "    <tr>\n",
       "      <th>0</th>\n",
       "      <td>177.963460</td>\n",
       "      <td>0</td>\n",
       "      <td>1</td>\n",
       "      <td>0</td>\n",
       "    </tr>\n",
       "    <tr>\n",
       "      <th>1</th>\n",
       "      <td>176.228311</td>\n",
       "      <td>0</td>\n",
       "      <td>1</td>\n",
       "      <td>0</td>\n",
       "    </tr>\n",
       "    <tr>\n",
       "      <th>2</th>\n",
       "      <td>179.111454</td>\n",
       "      <td>0</td>\n",
       "      <td>0</td>\n",
       "      <td>1</td>\n",
       "    </tr>\n",
       "    <tr>\n",
       "      <th>3</th>\n",
       "      <td>179.010362</td>\n",
       "      <td>0</td>\n",
       "      <td>0</td>\n",
       "      <td>1</td>\n",
       "    </tr>\n",
       "    <tr>\n",
       "      <th>4</th>\n",
       "      <td>178.818454</td>\n",
       "      <td>0</td>\n",
       "      <td>0</td>\n",
       "      <td>1</td>\n",
       "    </tr>\n",
       "  </tbody>\n",
       "</table>\n",
       "</div>"
      ],
      "text/plain": [
       "   orientation  size_large  size_medium  size_small\n",
       "0   177.963460           0            1           0\n",
       "1   176.228311           0            1           0\n",
       "2   179.111454           0            0           1\n",
       "3   179.010362           0            0           1\n",
       "4   178.818454           0            0           1"
      ]
     },
     "execution_count": 727,
     "metadata": {},
     "output_type": "execute_result"
    }
   ],
   "source": [
    "X.head(5)"
   ]
  },
  {
   "cell_type": "code",
   "execution_count": 493,
   "metadata": {},
   "outputs": [],
   "source": [
    "X_train, X_test, y_train, y_test = train_test_split(X, \n",
    "                                                    df.error,\n",
    "                                                    test_size=0.2, \n",
    "                                                    random_state=0)"
   ]
  },
  {
   "cell_type": "code",
   "execution_count": 495,
   "metadata": {},
   "outputs": [
    {
     "data": {
      "text/plain": [
       "LinearRegression(copy_X=True, fit_intercept=True, n_jobs=None,\n",
       "         normalize=False)"
      ]
     },
     "execution_count": 495,
     "metadata": {},
     "output_type": "execute_result"
    }
   ],
   "source": [
    "regressor = LinearRegression()  \n",
    "regressor.fit(X_train, y_train)\n"
   ]
  },
  {
   "cell_type": "code",
   "execution_count": 496,
   "metadata": {},
   "outputs": [
    {
     "name": "stdout",
     "output_type": "stream",
     "text": [
      "0.04321701963431146\n"
     ]
    }
   ],
   "source": [
    "print(regressor.score(X_test, y_test))"
   ]
  },
  {
   "cell_type": "code",
   "execution_count": 497,
   "metadata": {},
   "outputs": [
    {
     "data": {
      "text/plain": [
       "array([ -2.13094026,  78.63581789, -41.2679192 , -37.36789869])"
      ]
     },
     "execution_count": 497,
     "metadata": {},
     "output_type": "execute_result"
    }
   ],
   "source": [
    "regressor.coef_ "
   ]
  },
  {
   "cell_type": "markdown",
   "metadata": {},
   "source": [
    "overpredict when more alined with the frame\n",
    "\n",
    "underpredict for large fish"
   ]
  },
  {
   "cell_type": "code",
   "execution_count": null,
   "metadata": {},
   "outputs": [],
   "source": []
  },
  {
   "cell_type": "code",
   "execution_count": null,
   "metadata": {},
   "outputs": [],
   "source": []
  },
  {
   "cell_type": "code",
   "execution_count": null,
   "metadata": {},
   "outputs": [],
   "source": []
  },
  {
   "cell_type": "code",
   "execution_count": null,
   "metadata": {},
   "outputs": [],
   "source": []
  },
  {
   "cell_type": "code",
   "execution_count": null,
   "metadata": {},
   "outputs": [],
   "source": []
  },
  {
   "cell_type": "code",
   "execution_count": 509,
   "metadata": {},
   "outputs": [
    {
     "data": {
      "text/plain": [
       "-0.03220385360134271"
      ]
     },
     "execution_count": 509,
     "metadata": {},
     "output_type": "execute_result"
    }
   ],
   "source": [
    "get_MPE(df[df['size'] == 'small']['predicted_weight'],\n",
    "        df[df['size'] == 'small']['weight'])"
   ]
  },
  {
   "cell_type": "code",
   "execution_count": 681,
   "metadata": {},
   "outputs": [
    {
     "data": {
      "text/plain": [
       "-0.009160165813080257"
      ]
     },
     "execution_count": 681,
     "metadata": {},
     "output_type": "execute_result"
    }
   ],
   "source": [
    "get_MPE(df[df['size'] == 'medium']['predicted_weight'],\n",
    "        df[df['size'] == 'medium']['weight'])"
   ]
  },
  {
   "cell_type": "code",
   "execution_count": 510,
   "metadata": {},
   "outputs": [
    {
     "data": {
      "text/plain": [
       "0.012996370677223059"
      ]
     },
     "execution_count": 510,
     "metadata": {},
     "output_type": "execute_result"
    }
   ],
   "source": [
    "get_MPE(df[df['size'] == 'large']['predicted_weight'],\n",
    "        df[df['size'] == 'large']['weight'])"
   ]
  },
  {
   "cell_type": "code",
   "execution_count": 511,
   "metadata": {},
   "outputs": [
    {
     "data": {
      "text/plain": [
       "5763"
      ]
     },
     "execution_count": 511,
     "metadata": {},
     "output_type": "execute_result"
    }
   ],
   "source": [
    "df[df['size'] == 'large'].shape[0]"
   ]
  },
  {
   "cell_type": "code",
   "execution_count": 512,
   "metadata": {},
   "outputs": [
    {
     "data": {
      "text/plain": [
       "9678"
      ]
     },
     "execution_count": 512,
     "metadata": {},
     "output_type": "execute_result"
    }
   ],
   "source": [
    "df[df['size'] == 'medium'].shape[0]"
   ]
  },
  {
   "cell_type": "code",
   "execution_count": 569,
   "metadata": {},
   "outputs": [
    {
     "data": {
      "text/plain": [
       "622"
      ]
     },
     "execution_count": 569,
     "metadata": {},
     "output_type": "execute_result"
    }
   ],
   "source": [
    "df[df['size'] == 'small'].shape[0]"
   ]
  },
  {
   "cell_type": "code",
   "execution_count": null,
   "metadata": {},
   "outputs": [],
   "source": []
  },
  {
   "cell_type": "code",
   "execution_count": null,
   "metadata": {},
   "outputs": [],
   "source": []
  },
  {
   "cell_type": "code",
   "execution_count": null,
   "metadata": {},
   "outputs": [],
   "source": []
  },
  {
   "cell_type": "code",
   "execution_count": 571,
   "metadata": {},
   "outputs": [
    {
     "data": {
      "text/plain": [
       "(58, 9)"
      ]
     },
     "execution_count": 571,
     "metadata": {},
     "output_type": "execute_result"
    }
   ],
   "source": [
    "ind = np.argmin(df[df['size'] == 'small']['error'])\n",
    "f_id = df[df['size'] == 'small'].iloc[ind]['fish_id']\n",
    "\n",
    "df.loc[df['fish_id'] == f_id].shape"
   ]
  },
  {
   "cell_type": "code",
   "execution_count": 572,
   "metadata": {},
   "outputs": [],
   "source": [
    "# df_gtsf.loc[df_gtsf['fish_id'] == f_id]['id']"
   ]
  },
  {
   "cell_type": "code",
   "execution_count": 600,
   "metadata": {},
   "outputs": [],
   "source": [
    "# df_gtsf.loc[df_gtsf['id'] == 606388]['keypoints'].values"
   ]
  },
  {
   "cell_type": "code",
   "execution_count": 653,
   "metadata": {},
   "outputs": [],
   "source": [
    "val, cnt = np.unique(df['fish_id'], return_counts=True)\n"
   ]
  },
  {
   "cell_type": "code",
   "execution_count": 654,
   "metadata": {},
   "outputs": [],
   "source": [
    "f_ids = val[cnt > 20]"
   ]
  },
  {
   "cell_type": "code",
   "execution_count": 655,
   "metadata": {},
   "outputs": [
    {
     "data": {
      "image/png": "[encoded data removed]",
      "text/plain": [
       "<Figure size 432x288 with 1 Axes>"
      ]
     },
     "metadata": {
      "needs_background": "light"
     },
     "output_type": "display_data"
    }
   ],
   "source": [
    "_ = plt.hist(cnt, bins=10)  # arguments are passed to np.histogram\n",
    "#_ = plt.hist(orientation, bins=300)\n",
    "plt.title(\"Histogram\")\n",
    "\n",
    "plt.show()"
   ]
  },
  {
   "cell_type": "code",
   "execution_count": null,
   "metadata": {},
   "outputs": [],
   "source": []
  },
  {
   "cell_type": "code",
   "execution_count": 744,
   "metadata": {},
   "outputs": [
    {
     "data": {
      "image/png": "[encoded data removed]",
      "text/plain": [
       "<Figure size 1440x1440 with 9 Axes>"
      ]
     },
     "metadata": {
      "needs_background": "light"
     },
     "output_type": "display_data"
    }
   ],
   "source": [
    "figure, axes = plt.subplots(nrows=3, ncols=3, figsize=(20, 20), sharex=True)\n",
    "\n",
    "for i in range(3):\n",
    "    for j in range(3):\n",
    "        # axes.ylim(-500, 500)\n",
    "        f_id = f_ids[i * 3 + j]\n",
    "        temp = df.loc[df['fish_id'] == f_id]\n",
    "        axes[i, j].plot('orientation', 'error',\n",
    "                        data=temp, linestyle='none', marker='.')\n",
    "        axes[i, j].set_title('weight (g): {} '.format(temp['weight'].iloc[0]))\n",
    "\n",
    "        axes[i, j].set(ylabel='error')\n",
    "\n",
    "#plt.xlabel('orientation')        \n",
    "figure.tight_layout()\n"
   ]
  },
  {
   "cell_type": "code",
   "execution_count": 658,
   "metadata": {},
   "outputs": [
    {
     "data": {
      "text/plain": [
       "array(['190607010041_bolaks-mjanes',\n",
       "       '190620-4e4e0640-d4eb-405d-8fcf-57fda11d7660',\n",
       "       '190710-0d45381d-1ed5-474c-aaea-454aaacb3e98',\n",
       "       '190710-2c750417-6b12-4819-b93f-2790f4bdb7d4',\n",
       "       '190710-2dcdda0c-502d-4bfc-9ce4-6ebb343e3f52',\n",
       "       '190710-4b1d997a-3a6a-43c7-be18-f26ec00fc92d',\n",
       "       '190710-5ff011b3-fecc-4bb1-9c97-4f66b06426e1',\n",
       "       '190710-6ce48c82-6acc-4732-8622-7288c62a955f',\n",
       "       '190710-8bfd8c70-4398-474e-8873-ee91bbbe0f39',\n",
       "       '190710-b195a1ed-5117-4c90-ab8d-b411e3de5a57',\n",
       "       '190710-b63cbe32-afbf-47c7-b881-cc0945691569',\n",
       "       '190710-b8bd6e46-8eb3-4ba8-a47f-3f77184bc143',\n",
       "       '190710-c7371830-1799-49ee-81bb-76d9b882fcee',\n",
       "       '190710-ce6f49e0-eb12-4655-985b-0fdd82ab519a',\n",
       "       '190710-e41ce0c1-62c8-48c3-af33-de2c6ec5e439',\n",
       "       '190710-eadbdd6b-6076-49f5-bef4-ded2806de31d',\n",
       "       '190710-f00b28d9-6921-4ce7-9193-a567a483e4d0',\n",
       "       '190710-f1a56afc-326d-4c6c-8e2e-19e111d370f1',\n",
       "       '190710-f2035bc1-8ea7-480a-8f40-622afc83982b',\n",
       "       '190710-ff3b8838-03b5-42bf-9b81-445a158fcb9f',\n",
       "       '190711-03621895-ac29-4850-bd72-8a5912e15b9e',\n",
       "       '190711-0789ff8e-4f84-4fb3-9415-f5da77c63a13',\n",
       "       '190711-097842f8-bc7d-4e6a-bc7e-fa92a91da254',\n",
       "       '190711-1bf84c13-f260-4ae5-939b-31c6da79b3f5',\n",
       "       '190711-1f98c292-484e-496d-b5db-2cb90c01f803',\n",
       "       '190711-4329b56b-eacc-40e4-b1d9-504e15ce76e6',\n",
       "       '190711-5c1a2f78-4981-492c-a654-3a47791af979',\n",
       "       '190711-679d1495-bec6-4a24-b1c5-a90f89866c75',\n",
       "       '190711-682846ba-afa2-437e-9444-7b04b2de7dde',\n",
       "       '190711-721e3319-49b2-4b50-9e71-1a8a9a5ab3be',\n",
       "       '190711-72f9e419-8460-4b49-b9e2-5a54ecfbfa12',\n",
       "       '190711-81e12382-a43d-4cdf-9f29-1d7c594914d0',\n",
       "       '190711-86952420-fb6d-443a-8526-88a670cb1d2a',\n",
       "       '190711-bbca90a6-826e-4007-beb6-5d97e64aeaad',\n",
       "       '190711-c500494a-6c55-440e-8a90-cba094063c53',\n",
       "       '190711-ca4276c1-55b2-4cf1-a580-d827e85288e3',\n",
       "       '190711-e73e799c-fdec-400e-9a41-00f84d2a9910',\n",
       "       '190711-e8279ed3-88e2-43ab-93ec-8cbfab0d582c',\n",
       "       '190711-ff07c885-95b7-44e9-8e3f-61420e9bb71d',\n",
       "       '190716-0864619d-c25e-4d7a-9afa-1d8649f99bce',\n",
       "       '190716-0de69a9b-7e3b-4167-88a9-375566ec317d',\n",
       "       '190716-1ef9608f-d93d-4d21-9f45-df771f83e846',\n",
       "       '190716-36834e86-fc3c-4702-afb5-b6168e00930a',\n",
       "       '190716-69531d20-bd36-46a4-aada-180a3fe2da22',\n",
       "       '190716-7cb2b4c8-e205-46c9-8141-ea0dbfa77107',\n",
       "       '190716-82e78fb2-67c9-4466-9d66-f4e15ab1b5c5',\n",
       "       '190716-861a029a-f04d-48a5-b379-0b349e2a490e',\n",
       "       '190716-c0d83cab-c0ad-4093-9b19-9bdf8a78b5a1',\n",
       "       '190717-1a6366aa-2c37-4e5e-a49c-b7859c3eead0',\n",
       "       '190717-5426b178-78db-4142-a8c0-1df7836b1ff4',\n",
       "       '190717-5aba214e-5268-4f1e-9008-de3b7a8ee65e',\n",
       "       '190717-75206cf6-f82f-43a5-9ee8-ebe7929c8e3c',\n",
       "       '190717-7a8360b3-d967-4ad0-8974-aad07bd967f0',\n",
       "       '190717-7bb423a7-3537-49b4-a558-803a28dbcfc4',\n",
       "       '190717-cd1ee5ff-abdf-4aed-8fd7-16641e853a63',\n",
       "       '190717-d0b5515c-26a7-4ff7-b964-ef960631f50b',\n",
       "       '190717-d2573589-6b5b-4f19-a0b9-4714432b5209',\n",
       "       '190717-e92b6d3a-6b20-4f68-a170-827e48c3e14a',\n",
       "       '190717-ea178796-aa5c-4025-ae2d-825f20e335ca',\n",
       "       '190717-f055fe69-9004-473d-9678-c3b2730b74e2',\n",
       "       '190717-f0a44ef3-531e-4751-b850-9eb88bee987f',\n",
       "       '190717-f533d7d4-8c1d-403e-9226-20d2782afc20',\n",
       "       '190718-1c95a5b4-d5b7-460e-b409-48cf3b690a58',\n",
       "       '190718-2ab74147-6d37-47bb-b859-d615f3ff7e5c',\n",
       "       '190718-39ffa2d5-30f2-415f-b363-8253634254d9',\n",
       "       '190718-5d5b9a64-2b3d-49bf-b3ba-85e580df8513',\n",
       "       '190718-70d30c31-6da4-40fc-8911-3eaa4b55f6de',\n",
       "       '190718-7455f50e-9465-4361-af27-734bf5a81a67',\n",
       "       '190718-8f6bf799-88f5-4424-870d-cea78edaf8d5',\n",
       "       '190718-b7e51273-acde-4ec8-9271-6b6e8b043990',\n",
       "       '190718-e79f3461-b626-4b4d-b800-fd76e39addab',\n",
       "       '190723-27f1d2c2-241b-4bfe-a1cd-2cd1bf6b8059',\n",
       "       '190723-34294340-6ff1-4263-b029-20bd1a661524',\n",
       "       '190723-473e3d04-0c1d-4c58-8227-b63ad6a7f0ce',\n",
       "       '190723-64306668-12c8-4eb1-86bd-502decafbb79',\n",
       "       '190723-68738902-3d0c-4155-9e93-04389b653ed8',\n",
       "       '190723-a823b488-45d7-4a14-90e5-92ebc589ce9c',\n",
       "       '190723-ad8a0ccf-e50a-4bd7-8ca5-65c23e8a8da7',\n",
       "       '190723-b4ef353c-d076-4a08-ad03-9232cbd52acd',\n",
       "       '190723-c1b33e65-e054-45b2-8ad2-4f6e13f28f3b',\n",
       "       '190723-ff7e1281-afec-4690-8e39-3eb2e24c2650',\n",
       "       '190724-09ecb957-72ef-43dc-86d2-97e97d651960',\n",
       "       '190724-0c3376ce-fbd8-4178-a098-e296d6b6047f',\n",
       "       '190724-0e6811fe-9b01-4536-a24a-227036c09c9b',\n",
       "       '190724-1bd32580-006e-4fa5-81d2-afb5620b6b6d',\n",
       "       '190724-1f4ed44a-d285-4243-9f47-0c635c526fc1',\n",
       "       '190724-2752995b-ace0-4abf-ba9e-3f10d6e5108b',\n",
       "       '190724-325fe283-e21e-4fad-991a-ef2e0d1c38b7',\n",
       "       '190724-336fe89d-d4ff-4c98-bc32-d3264d918960',\n",
       "       '190724-41ba183f-cccf-4f80-b6a9-c3230e2a4b7a',\n",
       "       '190724-443f4b68-2fb6-4414-93c6-9e4b7d27f57e',\n",
       "       '190724-500a65e9-d689-4f5b-a81f-c35624abc2c4',\n",
       "       '190724-517afe07-b531-43a3-a17d-67c7b5e51089',\n",
       "       '190724-5527e6d9-e6d4-45da-bb01-5f8fce0fa4b2',\n",
       "       '190724-56b29fba-094b-4e7b-b242-0b98d3bb2c54',\n",
       "       '190724-583bb575-9c23-4014-a351-c67b13a3befd',\n",
       "       '190724-5eb8c958-4ec0-404e-a375-30da46e0baf2',\n",
       "       '190724-752e638c-b07a-4564-ada8-72a570030874',\n",
       "       '190724-848baebb-e87f-43e0-976c-e03e9d7ff5fc',\n",
       "       '190724-94eb4362-d137-4309-847a-059839586b4d',\n",
       "       '190724-9d05438b-5b8f-4af3-a631-441be5d20764',\n",
       "       '190724-9db83e70-d58e-4829-9d7d-b1db8972aa44',\n",
       "       '190724-a205a53c-9046-44d6-a297-832c85c19c5f',\n",
       "       '190724-a64c5acd-38e9-4725-81cb-fe0c2ccce514',\n",
       "       '190724-aa62007a-31ca-4d8c-bf42-f277b8e40f48',\n",
       "       '190724-ad139d65-9d2f-4337-9061-f6d7b4d8b027',\n",
       "       '190724-b15c8203-0e0b-46b7-962d-9c7791b30cc3',\n",
       "       '190724-b190b27d-96bc-450b-992a-ee62734e79c1',\n",
       "       '190724-b1e01807-d219-4eb3-8131-1b70074a7f59',\n",
       "       '190724-b391130d-d173-4944-bc53-80f27c741a8b',\n",
       "       '190724-b3eca27e-6428-4cea-a81f-4969bcce8201',\n",
       "       '190724-bb113b34-6c79-4b25-8c7f-4ba673eef8e8',\n",
       "       '190724-bf335aa2-6846-41f0-aeb3-139ef459e8e7',\n",
       "       '190724-c4340037-2b54-429b-b60f-12c7b902febd',\n",
       "       '190724-c8aecd8d-0361-4df7-a853-63af4ee26f0c',\n",
       "       '190724-cb26dd11-627c-4121-bb13-3b85dbaf1c08',\n",
       "       '190724-dbdcdfe4-f679-463e-8c25-2c60833d57dd',\n",
       "       '190724-e2cb5942-55c9-43a7-acdd-c59a6dd393af',\n",
       "       '190724-ee60228e-0c3c-4e1b-bd0a-68e00aab752b',\n",
       "       '190724-f519a66d-5fdd-4249-9fd0-5aff273dec49',\n",
       "       '190724-f796d039-ae37-480b-826f-6fc377a3b843',\n",
       "       '190724-f972731f-a3cb-4999-8e4a-118ac04d7ba8',\n",
       "       '190724-f9a1d5b4-4d24-410e-8d8f-2308a5131d48',\n",
       "       '190725-043a81ae-7a6f-4ce7-93a8-361a403fbbbc',\n",
       "       '190725-0a556340-b7c3-4489-af00-888830816439',\n",
       "       '190725-0f8a1764-5f74-41a8-b4fd-02c93115f49c',\n",
       "       '190725-1123951e-29a1-489a-a04f-6f67593c6ebc',\n",
       "       '190725-15c8f7a9-aec9-4083-8f32-900ec1bbfaf7',\n",
       "       '190725-168f5f87-1c08-4afd-a1b9-2cc0e4604e7d',\n",
       "       '190725-172f619a-2491-4393-86d1-1462680b58f0',\n",
       "       '190725-1c892552-d213-43b2-ad57-8599452c077b',\n",
       "       '190725-1efd7be1-b877-4851-bc88-eb3ec65554f3',\n",
       "       '190725-37ece7d9-f8c0-4bce-bc7a-ff0b968f7fac',\n",
       "       '190725-56a4b6d5-edfb-4fc2-9f81-cb152901da40',\n",
       "       '190725-5a523194-7045-4e5e-b82a-caea66428471',\n",
       "       '190725-5f0217a4-e98b-4604-a1b7-a098e2b6691b',\n",
       "       '190725-650c52f2-4270-42a6-83e0-30d9f35de258',\n",
       "       '190725-6adec8ee-9cca-478a-a36e-d28a8647f425',\n",
       "       '190725-6bdda349-40f6-4d9b-b6f8-6b1787496362',\n",
       "       '190725-6c89c730-a09e-4e71-b170-fca868dc4979',\n",
       "       '190725-7125c241-fae3-44e2-b165-0f8cf62318f0',\n",
       "       '190725-8abab21b-0cb2-4352-8cca-f4334105588c',\n",
       "       '190725-92ca5a8d-baa7-45f6-b1aa-7a733475d6c3',\n",
       "       '190725-94a8cc6b-93ff-43ae-b2b7-08082f86fedd',\n",
       "       '190725-98a5eea5-e8c5-4716-9107-649e45e38ac6',\n",
       "       '190725-99e703ab-8dcd-408d-8fa8-fe58924069b9',\n",
       "       '190725-9d76ffe3-0962-46e6-8832-a0190dfeb519',\n",
       "       '190730-04b26358-86c6-4b96-b839-f0fd7d60cca1',\n",
       "       '190730-1d896b06-f958-478f-8a6e-1060832335e0',\n",
       "       '190730-256bf020-737a-4243-9d09-38d278fb3f2e',\n",
       "       '190730-27f09e85-b608-401a-8bb1-f189642ac30c',\n",
       "       '190730-2e96506e-baf5-4561-bfee-ae47e20dd7d8',\n",
       "       '190730-43bb9967-298c-4ad4-8f1c-447e0911586c',\n",
       "       '190730-44fee59e-ac99-4542-919f-659e81b10f1b',\n",
       "       '190730-4796e2a9-1225-4d3a-be7a-f21bb19b378b',\n",
       "       '190730-566ac7f4-fe72-4f0f-bf2f-80a718aabbdf',\n",
       "       '190730-5953ea41-16aa-4ee5-be3a-b0e7e0e27d14',\n",
       "       '190730-5c511fb3-cc68-432a-ac12-c2950918fedc',\n",
       "       '190730-5dc41728-d80c-45ec-903e-bc423391185a',\n",
       "       '190730-62515b82-9f70-4cb5-b3cf-e80d608c193f',\n",
       "       '190730-6563e90d-0d97-4e93-ab6c-860f955cabf8',\n",
       "       '190730-6691f85d-f809-4bea-806a-3cd75c9b4b74',\n",
       "       '190730-6ec7cccc-6b3e-4cff-b6d9-f6fbb2351533',\n",
       "       '190730-701e45bf-555d-49a1-8f4b-9f1a1b873cf1',\n",
       "       '190730-71937c03-5287-48c4-a3b3-5f17b77b8838',\n",
       "       '190730-76f80170-1309-4ad1-8ea4-e0a470b7c8b5',\n",
       "       '190730-78f96262-024f-4000-9c67-e0e740ca879c',\n",
       "       '190730-7f548f17-52cd-4b42-a606-0fd5328ebd68',\n",
       "       '190730-82ce931e-ef07-4814-a652-5cd64e81a358',\n",
       "       '190730-85ab326c-f032-4632-9f3a-223ee7033629',\n",
       "       '190730-8d4936bb-2de9-4379-8e36-1a0c3a3c600e',\n",
       "       '190730-8ee95d41-bae0-43b7-943b-b841ca1450d1',\n",
       "       '190730-92723f6b-da59-4aab-86d9-fcd246901871',\n",
       "       '190730-928c8e4e-5d66-4c02-9e8c-cc5506abe264',\n",
       "       '190730-96551721-fbc1-412d-bc20-a2d39131e56b',\n",
       "       '190730-98f3999e-cd9a-4b5b-95e0-55184e4d54e4',\n",
       "       '190730-9a632a33-52fc-4a2a-9b19-a5ad84cd2a3b',\n",
       "       '190730-9cb56358-38c1-4748-bebb-9140f2114cac',\n",
       "       '190730-a99e6a2d-4cda-4aaf-8a05-0c5914e203ac',\n",
       "       '190731-08594a35-4bd0-4344-afc2-d3fdb4f9b671',\n",
       "       '190731-0bb55110-9137-4a8f-a454-652bc1b3f41b',\n",
       "       '190731-0bfcbbbb-bd82-4790-b488-0627975cc981',\n",
       "       '190731-0ca740bf-02eb-4307-825b-320303cf760a',\n",
       "       '190731-0f4806c6-71ef-4504-b82a-da94d5a2d6ae',\n",
       "       '190731-17d88b04-5283-4e1d-acb8-0de250b39bf9',\n",
       "       '190731-1f3aa6e2-982c-4f8d-9158-ef5c082864a5',\n",
       "       '190731-201a24ab-cfad-4d81-84cc-721eb7a94cbc',\n",
       "       '190731-21dc3887-1ac7-42ae-91de-ead0a15ec99c',\n",
       "       '190731-22126f5d-247e-4420-8db0-63c8106a95c7',\n",
       "       '190731-22c7a5d8-9619-438f-aa37-167b08f8b6dc',\n",
       "       '190731-24b73e2e-cff7-48d1-a6ed-c510110b02cb',\n",
       "       '190731-270c37c1-9d8b-4024-b73f-c1b97cad9136',\n",
       "       '190731-32d9c156-236d-4890-9cc5-a948fcb04db0',\n",
       "       '190731-3f1fb71a-2fdc-40b9-a6de-da83bdd0f60e',\n",
       "       '190731-3f59e662-4c78-4f2e-893e-4cf68477fe7b',\n",
       "       '190731-40fc3817-f459-4647-9164-3f9ddc2bd76c',\n",
       "       '190731-4124ba7a-f40d-4789-b8d7-73fa55b6c7af',\n",
       "       '190731-44e32f99-48db-4317-87b0-c274e1cb5cb6',\n",
       "       '190731-46699d4f-b626-434b-ab1b-0a6f4ad09239',\n",
       "       '190731-46c667b3-bb1a-4f50-a392-ff1bc39f1475',\n",
       "       '190731-4c84fabf-76e6-4e50-9abb-9a9158a357d5',\n",
       "       '190731-50aa9556-6c67-4e85-8c0a-0cc8f0e04748',\n",
       "       '190731-5378433a-5a25-4bc3-85d2-c9cff74e4eab',\n",
       "       '190731-55ce0fcc-53a4-4af6-96f1-657fcf371bc3',\n",
       "       '190731-5a1fec5b-ebf6-46fd-90cd-0c6fa9388820',\n",
       "       '190731-5ce7e33f-3ebe-4748-94c3-bc6a6b4f3863',\n",
       "       '190731-5f1f2326-962e-47b0-b2d2-4ba741a7e66d',\n",
       "       '190731-60cc0ff4-19b8-45e2-a14c-760b5a9cb75b',\n",
       "       '190731-6707d8c8-2c08-48b2-8d28-4653fadc63a5',\n",
       "       '190731-6bc7b8ed-141b-4ae1-9101-f1b5c2f2241e',\n",
       "       '190731-6e7b03ba-90cc-4ae6-aada-de0d078bb7ba',\n",
       "       '190731-6ea4720e-f443-4adc-abf2-04ab3552e487',\n",
       "       '190731-6ed42ca3-5d2b-4a14-b3da-2c7cb86764ab',\n",
       "       '190731-70a55643-e036-451e-8b6c-4ebb610e543c',\n",
       "       '190731-71dc0a4a-30b0-48ff-bd67-b93d2a5b06df',\n",
       "       '190731-7b580748-80af-4f47-8a0c-0fcbfcc6a00d',\n",
       "       '190731-7fae351d-027c-4c96-bd46-a248a9624d27',\n",
       "       '190731-87d321a7-5b22-49a2-b2d2-91e0baaa68cf',\n",
       "       '190731-8abc0757-7100-4c35-8a8e-db0af2405456',\n",
       "       '190731-8fbeb543-db9f-44d0-903b-e77572b50e27',\n",
       "       '190731-9092ebdf-8b94-48a8-9fc8-32c4233cff0f',\n",
       "       '190731-9904ab25-b27a-42a5-a97d-8b4dada93a02',\n",
       "       '190731-ab659829-c15c-4825-8afc-68259d4590b1',\n",
       "       '190731-acb39ec3-2a2c-479c-a48f-242136c21a65',\n",
       "       '190731-ad545e34-fe3c-4621-9df7-dc183fae2a2f',\n",
       "       '190731-b1ae70f1-42e3-4219-96d7-788b2b6208a5',\n",
       "       '190731-b2d5f0e4-d8ff-4013-bb84-dd445a92c874',\n",
       "       '190731-b333ed15-7008-4139-a9e0-aa980eb45934',\n",
       "       '190731-b40ca73d-25f0-4956-8a79-a051c19463ed',\n",
       "       '190731-b5a2d9e2-f6d6-4f56-b5f7-34fb26442c5c',\n",
       "       '190731-b6026702-fb4c-4de4-8d32-05070c6402bd',\n",
       "       '190731-b8aa137a-02c1-4e5d-a273-4400d78f6357',\n",
       "       '190731-d14d34f7-2893-43bf-9b56-013dc17cc285',\n",
       "       '190731-d198a860-4b4c-49aa-8065-bd6e70c47a8b',\n",
       "       '190906-12bb8c4c-f980-46e5-ae4f-8f5c45eacf53',\n",
       "       '190906-21ee347e-bea1-4fe2-8bdd-713e169f1d47',\n",
       "       '190906-30215256-d1f6-4133-9f7a-9d17d8e2f70b',\n",
       "       '190906-392e1f04-7eb4-4bb7-8a95-ae0a364c8fbb',\n",
       "       '190906-41a69c20-ca06-474f-83b8-f6271383aac8',\n",
       "       '190906-6161d935-ee16-4a79-92a6-d445c8a47c78',\n",
       "       '190906-6cf30445-c656-408b-b724-b14fd56b9209',\n",
       "       '190906-72e76143-a9a4-4c8a-acb1-7b16f51fab2f',\n",
       "       '190906-8da0aa1c-c074-481c-961e-1a6673d52501'], dtype=object)"
      ]
     },
     "execution_count": 658,
     "metadata": {},
     "output_type": "execute_result"
    }
   ],
   "source": [
    "f_ids"
   ]
  },
  {
   "cell_type": "code",
   "execution_count": 737,
   "metadata": {},
   "outputs": [
    {
     "name": "stdout",
     "output_type": "stream",
     "text": [
      "weight of the fish 9290\n"
     ]
    },
    {
     "data": {
      "image/png": "[encoded data removed]",
      "text/plain": [
       "<Figure size 432x288 with 1 Axes>"
      ]
     },
     "metadata": {
      "needs_background": "light"
     },
     "output_type": "display_data"
    }
   ],
   "source": [
    "# get rows for the fish that have most records\n",
    "f_id = val[np.argmax(cnt)]\n",
    "#f_id = '190710-ce6f49e0-eb12-4655-985b-0fdd82ab519a'\n",
    "#f_id = '190717-d2573589-6b5b-4f19-a0b9-4714432b5209'\n",
    "#f_id = '190725-56a4b6d5-edfb-4fc2-9f81-cb152901da40'\n",
    "\n",
    "temp = df.loc[df['fish_id'] == f_id]\n",
    "print('weight of the fish', temp['weight'].iloc[0])\n",
    "plt.ylim(-100, 600) \n",
    "plt.plot('orientation', 'error', \n",
    "         data=temp, linestyle='none', marker='.')\n",
    "plt.xlabel(\"orientation\")\n",
    "plt.ylabel(\"\")\n",
    "plt.show()\n"
   ]
  },
  {
   "cell_type": "code",
   "execution_count": 661,
   "metadata": {},
   "outputs": [
    {
     "data": {
      "text/plain": [
       "-2.355771952857224"
      ]
     },
     "execution_count": 661,
     "metadata": {},
     "output_type": "execute_result"
    }
   ],
   "source": [
    "coff = []\n",
    "for f_id in f_ids:\n",
    "    temp = df.loc[(df['fish_id'] == f_id) & (np.absolute(df['error']) < 800)]\n",
    "    X = temp[['orientation']] \n",
    "    X_train, X_test, y_train, y_test = train_test_split(X, temp.error, test_size=0.2, random_state=0)\n",
    "    regressor = LinearRegression()  \n",
    "    regressor.fit(X_train, y_train)\n",
    "    coff.append(regressor.coef_)\n",
    "np.mean(coff)"
   ]
  },
  {
   "cell_type": "code",
   "execution_count": null,
   "metadata": {},
   "outputs": [],
   "source": []
  }
 ],
 "metadata": {
  "kernelspec": {
   "display_name": "Python 3",
   "language": "python",
   "name": "python3"
  },
  "language_info": {
   "codemirror_mode": {
    "name": "ipython",
    "version": 3
   },
   "file_extension": ".py",
   "mimetype": "text/x-python",
   "name": "python",
   "nbconvert_exporter": "python",
   "pygments_lexer": "ipython3",
   "version": "3.6.5"
  }
 },
 "nbformat": 4,
 "nbformat_minor": 4
}
