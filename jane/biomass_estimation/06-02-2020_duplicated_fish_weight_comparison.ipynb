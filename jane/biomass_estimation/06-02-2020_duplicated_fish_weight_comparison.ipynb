{
 "cells": [
  {
   "cell_type": "code",
   "execution_count": null,
   "metadata": {},
   "outputs": [],
   "source": [
    "from research.utils.data_access_utils import S3AccessUtils, RDSAccessUtils\n",
    "import cv2\n",
    "\n",
    "import json\n",
    "import os\n",
    "import  pandas as pd\n",
    "import matplotlib.patches as patches\n",
    "from tqdm import tqdm\n",
    "import matplotlib.pyplot as plt\n",
    "import numpy as np\n",
    "from PIL import Image"
   ]
  },
  {
   "cell_type": "code",
   "execution_count": null,
   "metadata": {},
   "outputs": [],
   "source": [
    "s3_access_utils = S3AccessUtils('/root/data',\n",
    "                               json.load(open(os.environ['AWS_CREDENTIALS'])))"
   ]
  },
  {
   "cell_type": "code",
   "execution_count": null,
   "metadata": {},
   "outputs": [],
   "source": [
    "bolaks_data = pd.read_csv(open(\"/root/data/jane/bolaks_poc.csv\"))\n",
    "matches = pd.read_csv(open(\"/root/data/jane/Fish_ID_Annotation.csv\"))"
   ]
  },
  {
   "cell_type": "code",
   "execution_count": null,
   "metadata": {},
   "outputs": [],
   "source": [
    "bolaks_data.shape"
   ]
  },
  {
   "cell_type": "code",
   "execution_count": null,
   "metadata": {},
   "outputs": [],
   "source": [
    "bolaks_data.head(3)"
   ]
  },
  {
   "cell_type": "code",
   "execution_count": null,
   "metadata": {},
   "outputs": [],
   "source": [
    "matches.dtypes"
   ]
  },
  {
   "cell_type": "code",
   "execution_count": null,
   "metadata": {},
   "outputs": [],
   "source": [
    "matches.loc[~matches.iloc[:, 3].notnull()]"
   ]
  },
  {
   "cell_type": "code",
   "execution_count": null,
   "metadata": {},
   "outputs": [],
   "source": [
    "#pairs = matches.loc[(matches.iloc[:, 1] > 0) & (~matches.iloc[:, 3].notnull()) ].iloc[:, 0]\n",
    "pairs = matches.loc[(matches.iloc[:, 1] > 0) & (matches.iloc[:, 2] != \"0\")].iloc[:, 0]\n",
    "print(\"1-indexed pair\")\n",
    "pairs\n"
   ]
  },
  {
   "cell_type": "code",
   "execution_count": null,
   "metadata": {},
   "outputs": [],
   "source": [
    "print('get 0-indexed pair')\n",
    "p1 = pairs.apply(lambda x: int(x.split('_matches_')[0]) - 1)\n",
    "p2 = pairs.apply(lambda x: int(x.split('_matches_')[1].split('.jpg')[0]) - 1)\n",
    "pairs_data = pd.DataFrame({'p1': p1,'p2':p2}).reset_index().drop(columns=['index'])\n",
    "\n",
    "\n",
    "pairs_data[\"p1_w\"] = bolaks_data.iloc[pairs_data[\"p1\"]][\"estimated_weight_g\"].reset_index().drop(columns=['index'])\n",
    "\n",
    "pairs_data[\"p2_w\"] = bolaks_data.iloc[pairs_data[\"p2\"]][\"estimated_weight_g\"].reset_index().drop(columns=['index'])\n",
    "\n",
    "\n",
    "pairs_data[\"p1_left_crop_url\"] = bolaks_data.iloc[pairs_data[\"p1\"]][\"left_crop_url\"].reset_index().drop(columns=['index'])\n",
    "pairs_data[\"p1_right_crop_url\"] = bolaks_data.iloc[pairs_data[\"p1\"]][\"right_crop_url\"].reset_index().drop(columns=['index'])\n",
    "pairs_data[\"p2_left_crop_url\"] = bolaks_data.iloc[pairs_data[\"p2\"]][\"left_crop_url\"].reset_index().drop(columns=['index'])\n",
    "pairs_data[\"p2_right_crop_url\"] = bolaks_data.iloc[pairs_data[\"p2\"]][\"right_crop_url\"].reset_index().drop(columns=['index'])\n",
    "\n",
    "\n",
    "pairs_data[\"diff\"] = np.abs(pairs_data[\"p1_w\"] - pairs_data[\"p2_w\"])\n",
    "pairs_data['min_w'] = np.minimum(pairs_data[\"p1_w\"], pairs_data[\"p2_w\"])\n",
    "pairs_data['max_w'] = np.maximum(pairs_data[\"p1_w\"], pairs_data[\"p2_w\"])\n",
    "\n",
    "pairs_data[\"p1_captured_at\"] = bolaks_data.iloc[pairs_data[\"p1\"]][\"captured_at\"].reset_index().drop(columns=['index'])\n",
    "pairs_data[\"p2_captured_at\"] = bolaks_data.iloc[pairs_data[\"p1\"]][\"captured_at\"].reset_index().drop(columns=['index'])\n",
    "\n",
    "\n",
    "pairs_data[\"p1_group_id\"] = bolaks_data.iloc[pairs_data[\"p1\"]][\"group_id\"].reset_index().drop(columns=['index'])\n",
    "pairs_data[\"p2_group_id\"] = bolaks_data.iloc[pairs_data[\"p1\"]][\"group_id\"].reset_index().drop(columns=['index'])\n",
    "\n",
    "pairs_data\n",
    "\n"
   ]
  },
  {
   "cell_type": "code",
   "execution_count": null,
   "metadata": {},
   "outputs": [],
   "source": [
    "def plot_image(url):\n",
    "\n",
    "    image_f, bucket, image_key = s3_access_utils.download_from_url(url)\n",
    "\n",
    "    img = Image.open(image_f)\n",
    "\n",
    "    alpha = 2 # Contrast control (1.0-3.0)\n",
    "    beta = 20 # Brightness control (0-100)\n",
    "\n",
    "    img = np.asarray(img)\n",
    "    adjusted = cv2.convertScaleAbs(img, alpha=alpha, beta=beta)\n",
    "    return adjusted"
   ]
  },
  {
   "cell_type": "code",
   "execution_count": null,
   "metadata": {},
   "outputs": [],
   "source": [
    "bolaks_data.iloc[11818].left_crop_url"
   ]
  },
  {
   "cell_type": "code",
   "execution_count": null,
   "metadata": {},
   "outputs": [],
   "source": [
    "plt.imshow(plot_image(bolaks_data.iloc[11818].left_crop_url))"
   ]
  },
  {
   "cell_type": "code",
   "execution_count": null,
   "metadata": {},
   "outputs": [],
   "source": [
    "num_img = 0\n",
    "for idx, row in tqdm(pairs_data.loc[(pairs_data[\"diff\"] > 2000) & (pairs_data[\"diff\"] <= 8000)].iterrows()):\n",
    "    #if idx < 000: continue\n",
    "    num_img += 1\n",
    "    #if num_img > 20: break\n",
    "    figure, axes = plt.subplots(nrows=1, ncols=2,figsize=(15,15))\n",
    "    \n",
    "    axes[0].imshow(plot_image(row.p1_left_crop_url))\n",
    "    axes[0].set_title(\"predicted_weight {} idx{}\".format(row.p1_w, row.p1))\n",
    "    \n",
    "    axes[1].imshow(plot_image(row.p2_left_crop_url))\n",
    "    axes[1].set_title(\"predicted_weight {} idx{}\".format(row.p2_w, row.p2))\n",
    "print(num_img)"
   ]
  },
  {
   "cell_type": "code",
   "execution_count": null,
   "metadata": {},
   "outputs": [],
   "source": [
    "pairs_data['diff'].describe()"
   ]
  },
  {
   "cell_type": "code",
   "execution_count": null,
   "metadata": {},
   "outputs": [],
   "source": [
    "\n",
    "plt.plot(pairs_data['min_w'], pairs_data['diff'], '.')\n",
    "plt.title(\"abs errror distribution\")\n",
    "plt.xlabel(\"min weight of paired fish (g)\")\n",
    "plt.ylabel(\"abs error (g)\")"
   ]
  },
  {
   "cell_type": "code",
   "execution_count": null,
   "metadata": {},
   "outputs": [],
   "source": [
    "plt.hist(pairs_data['diff'], bins = 20)\n",
    "plt.title(\"histogram of abs errror\")\n",
    "plt.xlabel(\"count\")\n",
    "plt.ylabel(\"abs error (g)\")"
   ]
  },
  {
   "cell_type": "code",
   "execution_count": null,
   "metadata": {},
   "outputs": [],
   "source": [
    "def get_abs_error_pct(y_pred, y_gt):\n",
    "    return np.mean(np.abs((y_pred - y_gt) / y_gt))\n",
    "\n",
    "def get_pct_diff(y_pred, y_gt):\n",
    "    return (np.mean(y_pred) - np.mean(y_gt)) / np.mean(y_gt)\n"
   ]
  },
  {
   "cell_type": "code",
   "execution_count": null,
   "metadata": {},
   "outputs": [],
   "source": [
    "get_abs_error_pct(pairs_data['p1_w'], pairs_data['p2_w'])"
   ]
  },
  {
   "cell_type": "code",
   "execution_count": null,
   "metadata": {},
   "outputs": [],
   "source": [
    "get_pct_diff(pairs_data['max_w'], pairs_data['min_w'])"
   ]
  },
  {
   "cell_type": "code",
   "execution_count": null,
   "metadata": {},
   "outputs": [],
   "source": [
    "get_pct_diff(pairs_data['p1_w'], pairs_data['p2_w'])"
   ]
  },
  {
   "cell_type": "code",
   "execution_count": null,
   "metadata": {},
   "outputs": [],
   "source": [
    "(np.abs((pairs_data['p1_w'] - pairs_data['p2_w']) / pairs_data['p2_w'])).describe()"
   ]
  },
  {
   "cell_type": "code",
   "execution_count": null,
   "metadata": {},
   "outputs": [],
   "source": [
    "output_bucket='aquabyte-images-adhoc' \n",
    "output_path = \"bolaks_data_pairs.csv\"\n",
    "pairs_data.to_csv(output_path, index=False)\n",
    "output_key = os.path.join(\"jane/fish_id\", output_path)\n",
    "s3_access_utils.s3_client.upload_file(output_path, output_bucket, output_key)"
   ]
  },
  {
   "cell_type": "code",
   "execution_count": null,
   "metadata": {},
   "outputs": [],
   "source": []
  }
 ],
 "metadata": {
  "kernelspec": {
   "display_name": "Python 3",
   "language": "python",
   "name": "python3"
  },
  "language_info": {
   "codemirror_mode": {
    "name": "ipython",
    "version": 3
   },
   "file_extension": ".py",
   "mimetype": "text/x-python",
   "name": "python",
   "nbconvert_exporter": "python",
   "pygments_lexer": "ipython3"
  }
 },
 "nbformat": 4,
 "nbformat_minor": 4
}
