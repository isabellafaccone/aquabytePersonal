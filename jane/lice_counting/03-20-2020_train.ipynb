{
 "cells": [
  {
   "cell_type": "code",
   "execution_count": null,
   "metadata": {},
   "outputs": [],
   "source": [
    "from os import listdir\n",
    "from os.path import isfile, join\n",
    "import random \n",
    "\n"
   ]
  },
  {
   "cell_type": "code",
   "execution_count": null,
   "metadata": {},
   "outputs": [],
   "source": [
    "SEED = 33\n",
    "CROP_WIDTH = 512\n",
    "CROP_HEIGHT = 512\n",
    "\n",
    "\n",
    "LABEL_PATH = 'data/multi_lice_crop_labels'\n",
    "IMAGE_PATH = 'data/multi_lice_crop_images'"
   ]
  },
  {
   "cell_type": "markdown",
   "metadata": {},
   "source": [
    "# Moving lice"
   ]
  },
  {
   "cell_type": "code",
   "execution_count": null,
   "metadata": {},
   "outputs": [],
   "source": [
    "\n",
    "#!pip install -r requirements.txt\n",
    "!python3 train.py --epochs 101 \\\n",
    "                  --n_cpu 0 --img_size 512 \\\n",
    "                  --model_def config/yolov3-lice.cfg \\\n",
    "                  --data_config config/moving-lice.data \\\n",
    "                  --batch_size 2 \\\n",
    "                  --evaluation_interval 10 \\\n",
    "                  --multiscale_training False\n"
   ]
  },
  {
   "cell_type": "code",
   "execution_count": null,
   "metadata": {},
   "outputs": [],
   "source": [
    "!python3 test.py  --n_cpu 0 \\\n",
    "                  --img_size 512 \\\n",
    "                  --model_def config/yolov3-lice.cfg \\\n",
    "                  --data_config config/moving-lice.data \\\n",
    "                  --class_path data/moving_lice_classes.names \\\n",
    "                  --batch_size 2 \\\n",
    "                  --weights_path checkpoints/yolov3_ckpt_100.pth \\\n",
    "                  --conf_thres=0.03"
   ]
  },
  {
   "cell_type": "code",
   "execution_count": null,
   "metadata": {},
   "outputs": [],
   "source": [
    "# !python3 detect.py --image_folder data/test_image \\\n",
    "                   --model_def config/yolov3-lice.cfg \\\n",
    "                   --nms_thres 0.03 \\\n",
    "                   --class_path data/moving_lice_classes.names \\\n",
    "                   --weights_path checkpoints/yolov3_ckpt_100.pth\n",
    "        "
   ]
  },
  {
   "cell_type": "code",
   "execution_count": null,
   "metadata": {},
   "outputs": [],
   "source": []
  },
  {
   "cell_type": "code",
   "execution_count": null,
   "metadata": {},
   "outputs": [],
   "source": []
  },
  {
   "cell_type": "markdown",
   "metadata": {},
   "source": [
    "# Multiple"
   ]
  },
  {
   "cell_type": "code",
   "execution_count": null,
   "metadata": {},
   "outputs": [],
   "source": [
    "\n",
    "#!pip install -r requirements.txt\n",
    "!python3 train.py --epochs 101 \\\n",
    "                  --n_cpu 0 --img_size 512 \\\n",
    "                  --model_def config/yolov3-multi-lice.cfg \\\n",
    "                  --data_config config/multi-lice.data \\\n",
    "                  --batch_size 2 \\\n",
    "                  --evaluation_interval 10 \\\n",
    "                  --multiscale_training False"
   ]
  },
  {
   "cell_type": "code",
   "execution_count": null,
   "metadata": {},
   "outputs": [],
   "source": [
    "\n",
    "\n",
    "        "
   ]
  },
  {
   "cell_type": "code",
   "execution_count": null,
   "metadata": {},
   "outputs": [],
   "source": [
    "!python3 test.py  --n_cpu 0 \\\n",
    "                  --img_size 512 \\\n",
    "                  --model_def config/yolov3-multi-lice.cfg \\\n",
    "                  --data_config config/multi-lice.data \\\n",
    "                  --class_path data/multi_lice_classes.names \\\n",
    "                  --batch_size 2 \\\n",
    "                  --weights_path checkpoints/yolov3_ckpt_100.pth \\\n",
    "                  "
   ]
  },
  {
   "cell_type": "code",
   "execution_count": null,
   "metadata": {},
   "outputs": [],
   "source": [
    "!python3 detect.py --image_folder data/test_image \\\n",
    "                   --model_def config/yolov3-multi-lice.cfg \\\n",
    "                   --class_path data/multi_lice_classes.names \\\n",
    "                   --weights_path checkpoints/yolov3_ckpt_99.pth \\\n",
    "                   --nms_thres 0.5"
   ]
  },
  {
   "cell_type": "code",
   "execution_count": null,
   "metadata": {},
   "outputs": [],
   "source": [
    "!tensorboard --logdir='logs-pre' --port=6006"
   ]
  },
  {
   "cell_type": "code",
   "execution_count": null,
   "metadata": {},
   "outputs": [],
   "source": []
  },
  {
   "cell_type": "code",
   "execution_count": null,
   "metadata": {},
   "outputs": [],
   "source": []
  },
  {
   "cell_type": "code",
   "execution_count": null,
   "metadata": {},
   "outputs": [],
   "source": []
  }
 ],
 "metadata": {
  "kernelspec": {
   "display_name": "Python 3",
   "language": "python",
   "name": "python3"
  },
  "language_info": {
   "codemirror_mode": {
    "name": "ipython",
    "version": 3
   },
   "file_extension": ".py",
   "mimetype": "text/x-python",
   "name": "python",
   "nbconvert_exporter": "python",
   "pygments_lexer": "ipython3",
   "version": "3.6.5"
  }
 },
 "nbformat": 4,
 "nbformat_minor": 4
}
