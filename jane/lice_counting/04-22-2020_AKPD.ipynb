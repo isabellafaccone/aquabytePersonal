{
 "cells": [
  {
   "cell_type": "code",
   "execution_count": null,
   "metadata": {},
   "outputs": [],
   "source": [
    "from research.weight_estimation.akpd_utils.akpd import AKPD\n",
    "from research.utils.data_access_utils import S3AccessUtils, RDSAccessUtils\n",
    "import json\n",
    "import os\n",
    "import  pandas as pd\n",
    "import numpy as np\n",
    "import matplotlib.patches as patches\n",
    "from tqdm import tqdm\n",
    "from utils import utils, data_prep, sector\n",
    "import cv2\n",
    "from PIL import Image\n",
    "\n",
    "\n",
    "import matplotlib.pyplot as plt\n",
    "pd.set_option('display.max_rows', 500)\n",
    "pd.set_option('display.max_colwidth', 500)"
   ]
  },
  {
   "cell_type": "code",
   "execution_count": null,
   "metadata": {},
   "outputs": [],
   "source": [
    "s3_access_utils = S3AccessUtils('/root/data')"
   ]
  },
  {
   "cell_type": "code",
   "execution_count": null,
   "metadata": {},
   "outputs": [],
   "source": [
    "import importlib\n",
    "importlib.reload(utils)"
   ]
  },
  {
   "cell_type": "code",
   "execution_count": null,
   "metadata": {},
   "outputs": [],
   "source": [
    "\n",
    "LICE_BBOX_COLOR = ['b', 'r'] # bbox edge color\n",
    "LICE_CATEGORY = ['ADULT_FEMALE', 'MOVING']"
   ]
  },
  {
   "cell_type": "markdown",
   "metadata": {},
   "source": [
    "# load annotation data"
   ]
  },
  {
   "cell_type": "code",
   "execution_count": null,
   "metadata": {},
   "outputs": [],
   "source": [
    "annotation_data_akpd  = pd.read_pickle(\"annotation_data_akpd.pkl\")\n",
    "annotation_data_akpd['left_kps'] = annotation_data_akpd['left_kps'].apply(lambda x: x[0][\"leftCrop\"])\n"
   ]
  },
  {
   "cell_type": "code",
   "execution_count": null,
   "metadata": {},
   "outputs": [],
   "source": [
    "annotation_data_akpd.shape"
   ]
  },
  {
   "cell_type": "code",
   "execution_count": null,
   "metadata": {},
   "outputs": [],
   "source": [
    "annotation_data_akpd.head(1)"
   ]
  },
  {
   "cell_type": "markdown",
   "metadata": {},
   "source": [
    "# visualize key points"
   ]
  },
  {
   "cell_type": "code",
   "execution_count": null,
   "metadata": {},
   "outputs": [],
   "source": [
    "for idx, sf in tqdm(annotation_data_akpd.iterrows()):\n",
    "    if idx < 500:\n",
    "        continue\n",
    "    if idx > 504:\n",
    "        break\n",
    "    left_image_f, bucket, left_image_key = s3_access_utils.download_from_url(sf[\"left_crop_url\"])\n",
    "    image_f = left_image_f \n",
    "\n",
    "        \n",
    "    fig, ax = plt.subplots(figsize=(10, 10))\n",
    "    \n",
    "    \n",
    "    img = Image.open(image_f)\n",
    "\n",
    "    alpha = 3 # Contrast control (1.0-3.0)\n",
    "    beta = 20 # Brightness control (0-100)\n",
    "\n",
    "    img = np.asarray(img)\n",
    "    adjusted = cv2.convertScaleAbs(img, alpha=alpha, beta=beta)\n",
    "    ax.imshow(adjusted)\n",
    "\n",
    "        \n",
    "    for kp in sf.left_kps:\n",
    "        x, y = kp['xCrop'], kp['yCrop']\n",
    "        bp = kp['keypointType']\n",
    "        ax.scatter(x, y, c='red', marker='o')\n",
    "        ax.annotate(bp, (x, y), color='red')\n",
    "    plt.show()"
   ]
  },
  {
   "cell_type": "markdown",
   "metadata": {},
   "source": [
    "# summary stats of lice wrt AKPD"
   ]
  },
  {
   "cell_type": "code",
   "execution_count": null,
   "metadata": {},
   "outputs": [],
   "source": [
    "def distance(p1, p2, metrics = \"euclidean\"):\n",
    "    assert metrics in (\"euclidean\", \"x\", \"y\"), \"wrong metrics\"\n",
    "    dx, dy = abs(p1[0] - p2[0]), abs(p1[1] - p2[1])\n",
    "    if metrics == \"euclidean\": \n",
    "        return pow(pow(dx, 2) + pow(dy, 2), 0.5)\n",
    "    elif metrics == \"x\": \n",
    "        return dx\n",
    "    else:\n",
    "        return dy"
   ]
  },
  {
   "cell_type": "code",
   "execution_count": null,
   "metadata": {},
   "outputs": [],
   "source": [
    "def get_neighbor_keypoints(lice, left_kps, metrics = \"euclidean\"):\n",
    "    lice_xy = lice['position']['left'], lice['position']['top']\n",
    "    neighbors = {}\n",
    "    for kp in left_kps:\n",
    "        kp_xy = kp['xCrop'], kp['yCrop']\n",
    "        neighbors[kp['keypointType']] = distance(lice_xy, kp_xy, metrics)\n",
    "    return {k: v for k, v in sorted(neighbors.items(), key=lambda item: item[1])}\n",
    "\n",
    "\n"
   ]
  },
  {
   "cell_type": "code",
   "execution_count": null,
   "metadata": {},
   "outputs": [],
   "source": [
    "def get_crop(kps, keypointType1, keypointType2, k):\n",
    "    p1 = np.array(get_kp_location(kps, keypointType1))\n",
    "    p2 = np.array(get_kp_location(kps, keypointType2))\n",
    "    k = np.array(k)\n",
    "    return utils.xyxy2xywh(p1, p2, k)\n",
    "\n",
    "\n",
    "def add_get_crop(df):\n",
    "    df['adipose_tail_crop'] = df.apply(lambda fish: \n",
    "                                       get_crop(fish.left_kps, \n",
    "                                                \"ADIPOSE_FIN\", \"TAIL_NOTCH\", \n",
    "                                                np.array([[0, -0.2], [0.5, 1]])), \n",
    "                                       axis = 1)\n",
    "    df['adipose_dorsal_crop'] = df.apply(lambda fish: \n",
    "                                         get_crop(fish.left_kps, \n",
    "                                                  \"ADIPOSE_FIN\", \"DORSAL_FIN\", \n",
    "                                                  np.array([[0, -0.2], [0.7, 1]])), \n",
    "                                         axis = 1)\n",
    "    df['anal_tail_crop'] = df.apply(lambda fish: \n",
    "                                    get_crop(fish.left_kps, \n",
    "                                             \"ANAL_FIN\", \"TAIL_NOTCH\", \n",
    "                                             np.array([[0, -0.2], [0.8, 1]])), \n",
    "                                    axis = 1)\n",
    "    df['pectoral_eye_crop'] = df.apply(lambda fish: \n",
    "                                       get_crop(fish.left_kps, \n",
    "                                                \"PECTORAL_FIN\", \"EYE\", \n",
    "                                                np.array([[0, -0.3], [1, 2.3]])), \n",
    "                                       axis = 1)\n",
    "    return df\n",
    "    \n",
    "    "
   ]
  },
  {
   "cell_type": "code",
   "execution_count": null,
   "metadata": {},
   "outputs": [],
   "source": [
    "annotation_data_akpd = add_get_crop(annotation_data_akpd)\n",
    "\n",
    "\n",
    "\n",
    "annotation_data_akpd.head(1)"
   ]
  },
  {
   "cell_type": "code",
   "execution_count": null,
   "metadata": {},
   "outputs": [],
   "source": [
    "lice_data = pd.DataFrame()\n",
    "for idx, sf in tqdm(annotation_data_akpd.iterrows()):\n",
    "#     if idx > 10:\n",
    "#         break\n",
    "    if sf['annotation']:\n",
    "        adipose_tail_crop = sf.adipose_tail_crop\n",
    "        adipose_dorsal_crop = sf.adipose_dorsal_crop\n",
    "        pectoral_eye_crop = sf.pectoral_eye_crop\n",
    "        anal_tail_crop = sf.anal_tail_crop\n",
    "        for lice in sf['annotation']:\n",
    "            if lice['category'] not in ['ADULT_FEMALE', 'MOVING']:\n",
    "                continue            \n",
    "            lp = lice['position'] #lice position\n",
    "\n",
    "            x, y, w, h = lp[\"left\"], lp[\"top\"], lp[\"width\"], lp[\"height\"]\n",
    "            lice_xywh = x, y, w, h\n",
    "            \n",
    "            in_crop = None\n",
    "            if data_prep.is_in_crop(lice_xywh, adipose_tail_crop):\n",
    "                in_crop = \"adipose_tail_crop\"\n",
    "            elif data_prep.is_in_crop(lice_xywh, adipose_dorsal_crop):\n",
    "                in_crop = \"adipose_dorsal_crop\"\n",
    "            elif data_prep.is_in_crop(lice_xywh, pectoral_eye_crop):\n",
    "                in_crop = \"pectoral_eye_crop\"\n",
    "            elif data_prep.is_in_crop(lice_xywh, anal_tail_crop):\n",
    "                in_crop = \"anal_tail_crop\"\n",
    "                \n",
    "            lice_data = lice_data.append({\"category\": lice['category'],\n",
    "                            \"fish_image_url\": sf['left_crop_url'],\n",
    "                            \"location\": lice['location'],\n",
    "                            \"left\": x,\n",
    "                            \"top\": y,\n",
    "                            \"width\": w, \n",
    "                            \"height\": h,\n",
    "                            \"neighbors_euclidean\": list(get_neighbor_keypoints(lice, sf.left_kps, 'euclidean'))[0],\n",
    "                            \"neighbors_x\": list(get_neighbor_keypoints(lice, sf.left_kps, 'x'))[0],\n",
    "                            \"neighbors_y\": list(get_neighbor_keypoints(lice, sf.left_kps, 'y'))[0],\n",
    "                            \"fish_image_width\": sf['left_crop_metadata']['width'],\n",
    "                            \"fish_image_height\": sf['left_crop_metadata']['height'],\n",
    "                            \"left_kps\": sf[\"left_kps\"],\n",
    "                            \"adipose_tail_crop\": sf['adipose_tail_crop'],\n",
    "                            \"adipose_dorsal_crop\": sf['adipose_dorsal_crop'],\n",
    "                            \"anal_tail_crop\": sf['anal_tail_crop'],\n",
    "                            \"pectoral_eye_crop\": sf['pectoral_eye_crop'],\n",
    "                            \"in_crop\": in_crop\n",
    "                           }, ignore_index=True)"
   ]
  },
  {
   "cell_type": "code",
   "execution_count": null,
   "metadata": {},
   "outputs": [],
   "source": [
    "lice_data.shape"
   ]
  },
  {
   "cell_type": "code",
   "execution_count": null,
   "metadata": {},
   "outputs": [],
   "source": [
    "def get_kp_location(kps, keypointType):\n",
    "    \"return kps x, y from left_kps\"\n",
    "    for kp in kps:\n",
    "        if kp[\"keypointType\"] == keypointType:\n",
    "            return np.array((kp['xCrop'], kp['yCrop']))\n",
    "\n",
    "        "
   ]
  },
  {
   "cell_type": "code",
   "execution_count": null,
   "metadata": {},
   "outputs": [],
   "source": [
    "def get_proportion(lice_xy, kps, keypointType1, keypointType2):\n",
    "\n",
    "    p1 = np.array(get_kp_location(kps, keypointType1))\n",
    "    p2 = np.array(get_kp_location(kps, keypointType2))\n",
    "    lice_xy = np.array(lice_xy)\n",
    "    try:\n",
    "        return (p1 - lice_xy) / (p1 - p2) \n",
    "    except ZeroDivisionError:\n",
    "        return None"
   ]
  },
  {
   "cell_type": "code",
   "execution_count": null,
   "metadata": {},
   "outputs": [],
   "source": [
    "def add_proportion(df):\n",
    "    df['anal_tail_proportion'] = df.apply(lambda lice: get_proportion((lice.left, lice.top), lice.left_kps, \"ANAL_FIN\", \"TAIL_NOTCH\"), axis=1)\n",
    "    df['adipose_tail_proportion'] = df.apply(lambda lice: get_proportion((lice.left, lice.top), lice.left_kps, \"ADIPOSE_FIN\", \"TAIL_NOTCH\"), axis=1)\n",
    "    return df\n",
    "\n"
   ]
  },
  {
   "cell_type": "code",
   "execution_count": null,
   "metadata": {},
   "outputs": [],
   "source": []
  },
  {
   "cell_type": "code",
   "execution_count": null,
   "metadata": {},
   "outputs": [],
   "source": [
    "lice_data = add_proportion(lice_data)"
   ]
  },
  {
   "cell_type": "code",
   "execution_count": null,
   "metadata": {},
   "outputs": [],
   "source": []
  },
  {
   "cell_type": "code",
   "execution_count": null,
   "metadata": {},
   "outputs": [],
   "source": [
    "lice_data.head(1)"
   ]
  },
  {
   "cell_type": "code",
   "execution_count": null,
   "metadata": {},
   "outputs": [],
   "source": []
  },
  {
   "cell_type": "code",
   "execution_count": null,
   "metadata": {},
   "outputs": [],
   "source": [
    "subdata = lice_data[(lice_data[\"neighbors_euclidean\"] == \"ADIPOSE_FIN\") \n",
    "                    & (lice_data[\"location\"] == \"TOP\")\n",
    "                   ]"
   ]
  },
  {
   "cell_type": "code",
   "execution_count": null,
   "metadata": {},
   "outputs": [],
   "source": []
  },
  {
   "cell_type": "code",
   "execution_count": null,
   "metadata": {},
   "outputs": [],
   "source": [
    "subdata.head(1)"
   ]
  },
  {
   "cell_type": "code",
   "execution_count": null,
   "metadata": {},
   "outputs": [],
   "source": [
    "fig, ax = plt.subplots(1, 2, figsize = (12, 6))\n",
    "\n",
    "proportion_x = subdata[\"anal_tail_proportion\"].apply(lambda x: x[0])\n",
    "proportion_y = subdata[\"anal_tail_proportion\"].apply(lambda x: x[1])\n",
    "\n",
    "proportion_x = proportion_x[~np.isinf(proportion_x)]\n",
    "proportion_y = proportion_y[~np.isinf(proportion_y)]\n",
    "\n",
    "x_cutoff = np.percentile(proportion_x, (1, 99))\n",
    "y_cutoff = np.percentile(proportion_y, (1, 99))\n",
    "print(x_cutoff)\n",
    "print(y_cutoff)\n",
    "\n",
    "ax[0].hist(proportion_x, bins = 100, range = x_cutoff)\n",
    "ax[1].hist(proportion_y, bins = 100, range = y_cutoff)\n",
    "plt.show()"
   ]
  },
  {
   "cell_type": "code",
   "execution_count": null,
   "metadata": {},
   "outputs": [],
   "source": [
    "print(np.percentile(proportion_x, (1, 99)))\n",
    "print(np.percentile(proportion_y, (1, 99)))"
   ]
  },
  {
   "cell_type": "code",
   "execution_count": null,
   "metadata": {},
   "outputs": [],
   "source": [
    "k_between = np.array([0.5, 1.3])\n",
    "k_outside = np.array([-1.2, -2])"
   ]
  },
  {
   "cell_type": "code",
   "execution_count": null,
   "metadata": {},
   "outputs": [],
   "source": []
  },
  {
   "cell_type": "code",
   "execution_count": null,
   "metadata": {},
   "outputs": [],
   "source": [
    "np.average(np.array([k_between,k_outside]), axis = 0)"
   ]
  },
  {
   "cell_type": "markdown",
   "metadata": {},
   "source": [
    "# dev"
   ]
  },
  {
   "cell_type": "code",
   "execution_count": null,
   "metadata": {},
   "outputs": [],
   "source": [
    "def get_adipose_crop(kps, k):\n",
    "    AF = np.array(get_kp_location(kps, \"ADIPOSE_FIN\"))\n",
    "    TN = np.array(get_kp_location(kps, \"TAIL_NOTCH\"))\n",
    "    k = np.array(k)\n",
    "    return AF - k * (AF - TN)\n",
    "\n",
    "def add_adipose_crop(df):\n",
    "    df['adipose_crop_between'] = df.apply(lambda fish: get_adipose_crop(fish.left_kps, k_between), axis=1)\n",
    "    df['adipose_crop_outside'] = df.apply(lambda fish: get_adipose_crop(fish.left_kps, k_outside), axis=1)\n",
    "    return df\n"
   ]
  },
  {
   "cell_type": "code",
   "execution_count": null,
   "metadata": {},
   "outputs": [],
   "source": [
    "annotation_data_akpd = add_adipose_crop(annotation_data_akpd)"
   ]
  },
  {
   "cell_type": "code",
   "execution_count": null,
   "metadata": {},
   "outputs": [],
   "source": []
  },
  {
   "cell_type": "code",
   "execution_count": null,
   "metadata": {},
   "outputs": [],
   "source": [
    "sum(lice_data.in_crop.apply(lambda x: x is None))"
   ]
  },
  {
   "cell_type": "code",
   "execution_count": null,
   "metadata": {},
   "outputs": [],
   "source": []
  },
  {
   "cell_type": "markdown",
   "metadata": {},
   "source": [
    "# plot"
   ]
  },
  {
   "cell_type": "code",
   "execution_count": null,
   "metadata": {},
   "outputs": [],
   "source": [
    "lice_data.groupby(['category']).neighbors_euclidean.value_counts().unstack(0).plot(kind='barh', \n",
    "                                                               legend=True, \n",
    "                                                               color=LICE_BBOX_COLOR, \n",
    "                                                               title = \"Bar Chart of Lice category by closest key apoints\")\n",
    "\n",
    "lice_data.groupby(['neighbors_euclidean']).category.value_counts().unstack(0).plot(kind='barh', \n",
    "                                                               legend=True,  \n",
    "                                                               title = \"Bar Chart of Lice category by closest key apoints\")\n",
    "\n"
   ]
  },
  {
   "cell_type": "code",
   "execution_count": null,
   "metadata": {},
   "outputs": [],
   "source": [
    "lice_data.groupby('category').in_crop.value_counts().unstack(0).plot(kind='barh', \n",
    "                                                               legend=True, \n",
    "                                                               color=LICE_BBOX_COLOR, \n",
    "                                                               title = \"Bar Chart of Lice by closet key apoints\")\n",
    "\n"
   ]
  },
  {
   "cell_type": "code",
   "execution_count": null,
   "metadata": {},
   "outputs": [],
   "source": [
    "lice_data.groupby('location').in_crop.value_counts().unstack(0).plot(kind='barh', \n",
    "                                                               legend=True,  \n",
    "                                                               title = \"Bar Chart of Lice by closet key apoints\")\n"
   ]
  },
  {
   "cell_type": "code",
   "execution_count": null,
   "metadata": {},
   "outputs": [],
   "source": [
    "lice_data.groupby('location').neighbors_euclidean.value_counts().unstack(0).plot(kind='barh', \n",
    "                                                               legend=True,  \n",
    "                                                               title = \"Bar Chart of Lice location by closest key apoints\")\n"
   ]
  },
  {
   "cell_type": "code",
   "execution_count": null,
   "metadata": {},
   "outputs": [],
   "source": [
    "lice_data.groupby('location').neighbors_euclidean.value_counts().unstack(0).plot(kind='barh', \n",
    "                                                               legend=True,  \n",
    "                                                               title = \"Bar Chart of Lice by closet key apoints\")\n",
    "\n"
   ]
  },
  {
   "cell_type": "code",
   "execution_count": null,
   "metadata": {},
   "outputs": [],
   "source": [
    "lice_data.groupby('neighbors_euclidean').location.value_counts().unstack(0).plot(kind='barh', \n",
    "                                                               legend=True,\n",
    "                                                               title = \"Bar Chart of Closest Key Point by Location\")\n",
    "\n",
    "\n",
    "lice_data[lice_data.category == 'ADULT_FEMALE'].groupby('neighbors_euclidean').location.value_counts().unstack(0).plot(kind='barh', \n",
    "                                                               legend=True,\n",
    "                                                               title = \"Bar Chart of Lice by Location\")\n",
    "\n",
    "\n",
    "\n",
    "lice_data[lice_data.category == 'MOVING'].groupby('location').neighbors_euclidean.value_counts().unstack(0).plot(kind='barh', \n",
    "                                                               legend=True,\n",
    "                                                               title = \"Bar Chart of Lice by Location\")\n",
    "\n",
    "\n",
    "\n",
    "lice_data[lice_data.category == 'ADULT_FEMALE'].groupby('location').neighbors_euclidean.value_counts().unstack(0).plot(kind='barh', \n",
    "                                                               legend=True,\n",
    "                                                               title = \"Bar Chart of Lice by Location\")\n",
    "\n"
   ]
  },
  {
   "cell_type": "markdown",
   "metadata": {},
   "source": [
    "\n",
    "# calculate sector"
   ]
  },
  {
   "cell_type": "code",
   "execution_count": null,
   "metadata": {},
   "outputs": [],
   "source": [
    "def face_left(kps):\n",
    "    ul = get_kp_location(kps, \"UPPER_LIP\")\n",
    "    tn = get_kp_location(kps, \"TAIL_NOTCH\")\n",
    "    return ul[0] < tn[0]"
   ]
  },
  {
   "cell_type": "code",
   "execution_count": null,
   "metadata": {},
   "outputs": [],
   "source": []
  },
  {
   "cell_type": "code",
   "execution_count": null,
   "metadata": {},
   "outputs": [],
   "source": [
    "def is_between_v(p, a, b):\n",
    "    \"\"\"\n",
    "    Check whether vector p is between vector a and b\n",
    "    check if cross product/sin(theta) has the same singe:\n",
    "        a X b * a X p >= 0 and b X a * b X p >= 0\n",
    "    p, a, b: np.array with len 2\n",
    "    \n",
    "    \"\"\"\n",
    "\n",
    "    return (((a[1] * b[0] - a[0] * b[1]) * (a[1] * p[0] - a[0] * p[1]) >= 0) \n",
    "           and ((b[1] * a[0] - b[0] * a[1]) * (b[1] * p[0] - b[0] * p[1]) >= 0))\n",
    "\n",
    "\n",
    "def is_between_p(P, A, B, O):\n",
    "    \"\"\"\n",
    "    Check whether point P is between point A and B with O as origin\n",
    "    P, A, B, O: np array with len 2\n",
    "    \"\"\"\n",
    "    a = A - O\n",
    "    b = B - O\n",
    "    p = P - O\n",
    "\n",
    "    return is_between_v(p, a, b)"
   ]
  },
  {
   "cell_type": "code",
   "execution_count": null,
   "metadata": {},
   "outputs": [],
   "source": []
  },
  {
   "cell_type": "code",
   "execution_count": null,
   "metadata": {},
   "outputs": [],
   "source": [
    "def get_auxiliary_kps(kps):\n",
    "  \n",
    "    ad_fin = get_kp_location(kps, \"ADIPOSE_FIN\")\n",
    "    an_fin = get_kp_location(kps, \"ANAL_FIN\")\n",
    "    ad_an_mid = np.average(np.array([ad_fin, an_fin]), axis = 0)\n",
    "\n",
    "    ds_fin = get_kp_location(kps, \"DORSAL_FIN\")\n",
    "    pv_fin = get_kp_location(kps, \"PELVIC_FIN\")\n",
    "    ds_pv_mid = np.average(np.array([ds_fin, pv_fin]), axis = 0)\n",
    "\n",
    "    pt_fin = get_kp_location(kps, \"PECTORAL_FIN\")\n",
    "\n",
    "\n",
    "    h1 = 0.25 * (pv_fin - pt_fin) + pt_fin\n",
    "    h0 = h1 + 0.7 * (ds_fin - pv_fin)\n",
    "    \n",
    "    h_mid = np.average(np.array([h0, h1]), axis = 0)\n",
    "    \n",
    "    return {\"ad_an_mid\": ad_an_mid, \"ds_pv_mid\": ds_pv_mid, \"h0\": h0, \"h1\": h1, \"h_mid\": h_mid}"
   ]
  },
  {
   "cell_type": "code",
   "execution_count": null,
   "metadata": {},
   "outputs": [],
   "source": [
    "# in_dorsal_back = lambda p: is_between_p(p, ad_fin, tn, ad_an_mid)\n",
    "# in_ventral_back = lambda p: is_between_p(p, an_fin, tn, ad_an_mid)\n",
    "\n",
    "# in_dorsal_mid = lambda p: is_between_p(p, ds_fin, ad_an_mid, ds_pv_mid)\n",
    "# in_ventral_mid = lambda p: is_between_p(p, pv_fin, ad_an_mid, ds_pv_mid)\n",
    "\n",
    "# in_dorsal_front = lambda p: is_between_p(p, h0, ds_pv_mid, h_mid)\n",
    "# in_ventral_front = lambda p: is_between_p(p, h1, ds_pv_mid, h_mid)\n",
    "\n",
    "# in_head = lambda p: is_between_p(p, h0, eye, h_mid) and is_between_p(p, h1, eye, h_mid)\n"
   ]
  },
  {
   "cell_type": "code",
   "execution_count": null,
   "metadata": {},
   "outputs": [],
   "source": []
  },
  {
   "cell_type": "code",
   "execution_count": null,
   "metadata": {},
   "outputs": [],
   "source": [
    "def get_sector(p, kps):\n",
    "    eye = get_kp_location(kps, \"EYE\")\n",
    "    tn = get_kp_location(kps, \"TAIL_NOTCH\")\n",
    "    ad_fin = get_kp_location(kps, \"ADIPOSE_FIN\")\n",
    "    an_fin = get_kp_location(kps, \"ANAL_FIN\")\n",
    "    ds_fin = get_kp_location(kps, \"DORSAL_FIN\")\n",
    "    pv_fin = get_kp_location(kps, \"PELVIC_FIN\")\n",
    "    pt_fin = get_kp_location(kps, \"PECTORAL_FIN\")\n",
    "\n",
    "    aux_kps = get_auxiliary_kps(kps)\n",
    "    \n",
    "    ad_an_mid = aux_kps[\"ad_an_mid\"]\n",
    "    ds_pv_mid = aux_kps[\"ds_pv_mid\"]\n",
    "    h1 = aux_kps[\"h1\"]\n",
    "    h0 = aux_kps[\"h0\"]\n",
    "    h_mid = aux_kps[\"h_mid\"]\n",
    "\n",
    "    if is_between_p(p, ad_fin, tn, ad_an_mid): return \"dorsal_back\"\n",
    "    elif is_between_p(p, an_fin, tn, ad_an_mid): return \"ventral_back\"\n",
    "    elif is_between_p(p, ds_fin, ad_an_mid, ds_pv_mid): return \"dorsal_mid\"\n",
    "    elif is_between_p(p, pv_fin, ad_an_mid, ds_pv_mid): return \"ventral_mid\"\n",
    "    elif is_between_p(p, h0, ds_pv_mid, h_mid): return \"dorsal_front\"\n",
    "    elif is_between_p(p, h1, ds_pv_mid, h_mid): return \"ventral_front\"\n",
    "    else: return \"head\""
   ]
  },
  {
   "cell_type": "markdown",
   "metadata": {},
   "source": [
    "# Unit test"
   ]
  },
  {
   "cell_type": "code",
   "execution_count": null,
   "metadata": {},
   "outputs": [],
   "source": [
    "# True\n",
    "A = np.array([5, 1])\n",
    "B = np.array([1, 4])\n",
    "P = np.array([3, 2])\n",
    "O = np.array([0, 0])\n",
    "is_between_p(P, A, B, O)"
   ]
  },
  {
   "cell_type": "code",
   "execution_count": null,
   "metadata": {},
   "outputs": [],
   "source": [
    "# False\n",
    "A = np.array([5, 1])\n",
    "B = np.array([1, 4])\n",
    "P = np.array([3, -2])\n",
    "O = np.array([0, 0])\n",
    "is_between_p(P, A, B, O)"
   ]
  },
  {
   "cell_type": "code",
   "execution_count": null,
   "metadata": {},
   "outputs": [],
   "source": [
    "# True\n",
    "A = np.array([1, -4])\n",
    "B = np.array([1, 4])\n",
    "P = np.array([5, -2])\n",
    "O = np.array([0, 0])\n",
    "is_between_p(P, A, B, O)"
   ]
  },
  {
   "cell_type": "code",
   "execution_count": null,
   "metadata": {},
   "outputs": [],
   "source": []
  },
  {
   "cell_type": "code",
   "execution_count": null,
   "metadata": {},
   "outputs": [],
   "source": []
  },
  {
   "cell_type": "code",
   "execution_count": null,
   "metadata": {},
   "outputs": [],
   "source": []
  },
  {
   "cell_type": "markdown",
   "metadata": {},
   "source": [
    "# line segment"
   ]
  },
  {
   "cell_type": "code",
   "execution_count": null,
   "metadata": {},
   "outputs": [],
   "source": [
    "# \n",
    "num_image = 0\n",
    "for idx, sf in tqdm(annotation_data_akpd.iloc[:100].iterrows()):\n",
    "\n",
    "    if not sf.annotation or not face_left(sf.left_kps):\n",
    "        continue\n",
    "    num_image += 1\n",
    "    if num_image > 15: break\n",
    "    left_image_f, bucket, left_image_key = s3_access_utils.download_from_url(sf[\"left_crop_url\"])\n",
    "    image_f = left_image_f \n",
    "\n",
    "        \n",
    "    fig, ax = plt.subplots(figsize=(10, 10))\n",
    "    \n",
    "    \n",
    "    img = Image.open(image_f)\n",
    "\n",
    "    alpha = 3 # Contrast control (1.0-3.0)\n",
    "    beta = 20 # Brightness control (0-100)\n",
    "\n",
    "    img = np.asarray(img)\n",
    "    adjusted = cv2.convertScaleAbs(img, alpha=alpha, beta=beta)\n",
    "    ax.imshow(adjusted)\n",
    "\n",
    "\n",
    "    for kp in sf.left_kps:\n",
    "        k1, k2 = kp['xCrop'], kp['yCrop']\n",
    "        bp = kp['keypointType']\n",
    "        ax.scatter(k1, k2, c='orange', marker='o')\n",
    "        #ax.annotate(bp, (k1, k2), color='orange')\n",
    "    kps = sf.left_kps\n",
    "    eye = get_kp_location(kps, \"EYE\")\n",
    "    tn = get_kp_location(kps, \"TAIL_NOTCH\")\n",
    "    ad_fin = get_kp_location(kps, \"ADIPOSE_FIN\")\n",
    "    an_fin = get_kp_location(kps, \"ANAL_FIN\")\n",
    "    ds_fin = get_kp_location(kps, \"DORSAL_FIN\")\n",
    "    pv_fin = get_kp_location(kps, \"PELVIC_FIN\")\n",
    "    pt_fin = get_kp_location(kps, \"PECTORAL_FIN\")\n",
    "\n",
    "    aux_kps = get_auxiliary_kps(kps)\n",
    "    \n",
    "    ad_an_mid = aux_kps[\"ad_an_mid\"]\n",
    "    ds_pv_mid = aux_kps[\"ds_pv_mid\"]\n",
    "    h1 = aux_kps[\"h1\"]\n",
    "    h0 = aux_kps[\"h0\"]\n",
    "    h_mid = aux_kps[\"h_mid\"]\n",
    "    plt.plot([ad_an_mid[0], tn[0]],[ad_an_mid[1], tn[1]],'k-')\n",
    "    plt.plot([ad_an_mid[0], ds_pv_mid[0]],[ad_an_mid[1], ds_pv_mid[1]],'k-')\n",
    "    plt.plot([ds_pv_mid[0], h_mid[0]],[ds_pv_mid[1], h_mid[1]],'k-')\n",
    "    \n",
    "    plt.plot([ad_fin[0], an_fin[0]],[ad_fin[1], an_fin[1]],'k-')    \n",
    "    plt.plot([ds_fin[0], pv_fin[0]],[ds_fin[1], pv_fin[1]],'k-')\n",
    "    plt.plot([h0[0], h1[0]], [h0[1], h1[1]],'k-')\n",
    "\n",
    "    for lice in sf['annotation']:\n",
    "        lp = lice['position'] \n",
    "        x, y, w, h = lp[\"left\"], lp[\"top\"], lp[\"width\"], lp[\"height\"]\n",
    "        class_index = LICE_CATEGORY.index(lice['category'])\n",
    "        ec = LICE_BBOX_COLOR[class_index]\n",
    "        rect = patches.Rectangle((x, y), w, h,linewidth=1,edgecolor=ec,facecolor='none') \n",
    "        ax.add_patch(rect)\n",
    "        sector_label = get_sector(np.array([x, y]), sf.left_kps)\n",
    "        ax.annotate(sector_label, (x, y), color = ec)\n",
    "    plt.show()"
   ]
  },
  {
   "cell_type": "code",
   "execution_count": null,
   "metadata": {},
   "outputs": [],
   "source": []
  },
  {
   "cell_type": "code",
   "execution_count": null,
   "metadata": {},
   "outputs": [],
   "source": [
    "#fish \n",
    "\n",
    "\n",
    "\n",
    "nrows = 3\n",
    "figure, axes = plt.subplots(nrows=nrows, ncols=2, figsize=(20, nrows * 6))\n",
    "\n",
    "        \n",
    "        \n",
    "num_pic = -1\n",
    "for idx, row in tqdm(annotation_data_akpd.iterrows()):\n",
    "    if not row['annotation'] or idx < 22:\n",
    "        continue\n",
    "    \n",
    "    num_pic += 1\n",
    "    if num_pic >= nrows * 2:\n",
    "        break\n",
    "    \n",
    "    left_image_f, bucket, left_image_key = s3_access_utils.download_from_url(row.left_crop_url)\n",
    "    image_f = left_image_f         \n",
    "    img = Image.open(image_f)\n",
    "\n",
    "    alpha = 3 # Contrast control (1.0-3.0)\n",
    "    beta = 20 # Brightness control (0-100)\n",
    "\n",
    "    img = np.asarray(img)\n",
    "    adjusted = cv2.convertScaleAbs(img, alpha=alpha, beta=beta)\n",
    "    axes[num_pic // 2, num_pic % 2].imshow(adjusted)\n",
    "\n",
    "\n",
    "\n",
    "\n",
    "    x, y, w, h = row.adipose_tail_crop\n",
    "    rect = patches.Rectangle((x, y), w, h,linewidth=3,edgecolor='y',facecolor='none')    \n",
    "    axes[num_pic // 2, num_pic % 2].add_patch(rect)   \n",
    "\n",
    "    x, y, w, h = row.anal_tail_crop\n",
    "    rect = patches.Rectangle((x, y), w, h,linewidth=3,edgecolor='y',facecolor='none')    \n",
    "    axes[num_pic // 2, num_pic % 2].add_patch(rect)    \n",
    "\n",
    "    x, y, w, h = row.adipose_dorsal_crop\n",
    "    rect = patches.Rectangle((x, y), w, h,linewidth=3,edgecolor='y',facecolor='none')    \n",
    "    axes[num_pic // 2, num_pic % 2].add_patch(rect)  \n",
    "\n",
    "\n",
    "    x, y, w, h = row.pectoral_eye_crop\n",
    "    rect = patches.Rectangle((x, y), w, h,linewidth=3,edgecolor='y',facecolor='none')    \n",
    "    axes[num_pic // 2, num_pic % 2].add_patch(rect)     \n",
    "\n",
    "\n",
    "    for kp in row.left_kps:\n",
    "        x, y = kp['xCrop'], kp['yCrop']\n",
    "        bp = kp['keypointType']\n",
    "        axes[num_pic // 2, num_pic % 2].scatter(x, y, c='red', marker='o')\n",
    "        axes[num_pic // 2, num_pic % 2].annotate(bp, (x, y), color='red')\n",
    "\n",
    "figure.tight_layout()\n"
   ]
  },
  {
   "cell_type": "code",
   "execution_count": null,
   "metadata": {},
   "outputs": [],
   "source": [
    "#lice\n",
    "\n",
    "\n",
    "num_pic = 0\n",
    "for idx, lice in tqdm(lice_data.iterrows()):\n",
    "    if idx < 150:\n",
    "        continue\n",
    "    if not lice.in_crop:\n",
    "        num_pic += 1\n",
    "        if num_pic > 10:\n",
    "            break\n",
    "        left_image_f, bucket, left_image_key = s3_access_utils.download_from_url(lice.fish_image_url)\n",
    "        image_f = left_image_f         \n",
    "        fig, ax = plt.subplots(figsize=(10, 10))\n",
    "\n",
    "\n",
    "        img = Image.open(image_f)\n",
    "\n",
    "        alpha = 3 # Contrast control (1.0-3.0)\n",
    "        beta = 20 # Brightness control (0-100)\n",
    "\n",
    "        img = np.asarray(img)\n",
    "        adjusted = cv2.convertScaleAbs(img, alpha=alpha, beta=beta)\n",
    "        ax.imshow(adjusted)\n",
    "        \n",
    "        x, y, w, h = lice.adipose_tail_crop\n",
    "        rect = patches.Rectangle((x, y), w, h,linewidth=1,edgecolor='y',facecolor='none')    \n",
    "        ax.add_patch(rect)   \n",
    "        \n",
    "        x, y, w, h = lice.anal_tail_crop\n",
    "        rect = patches.Rectangle((x, y), w, h,linewidth=1,edgecolor='y',facecolor='none')    \n",
    "        ax.add_patch(rect)    \n",
    "\n",
    "        x, y, w, h = lice.adipose_dorsal_crop\n",
    "        rect = patches.Rectangle((x, y), w, h,linewidth=1,edgecolor='y',facecolor='none')    \n",
    "        ax.add_patch(rect)  \n",
    "        \n",
    "        \n",
    "        x, y, w, h = lice.pectoral_eye_crop\n",
    "        rect = patches.Rectangle((x, y), w, h,linewidth=1,edgecolor='y',facecolor='none')    \n",
    "        ax.add_patch(rect)          \n",
    "\n",
    "        class_index = LICE_CATEGORY.index(lice.category)\n",
    "        ec = LICE_BBOX_COLOR[class_index]\n",
    "\n",
    "        \n",
    "        rect = patches.Rectangle((lice.left, lice.top), lice.width, lice.height,linewidth=1,edgecolor=ec,facecolor='none')    \n",
    "        ax.add_patch(rect) \n",
    "\n",
    "        for kp in lice.left_kps:\n",
    "            x, y = kp['xCrop'], kp['yCrop']\n",
    "            bp = kp['keypointType']\n",
    "            ax.scatter(x, y, c='red', marker='o')\n",
    "            ax.annotate(bp, (x, y), color='red')\n",
    "        plt.show()\n"
   ]
  },
  {
   "cell_type": "code",
   "execution_count": null,
   "metadata": {},
   "outputs": [],
   "source": []
  }
 ],
 "metadata": {
  "kernelspec": {
   "display_name": "Python 3",
   "language": "python",
   "name": "python3"
  },
  "language_info": {
   "codemirror_mode": {
    "name": "ipython",
    "version": 3
   },
   "file_extension": ".py",
   "mimetype": "text/x-python",
   "name": "python",
   "nbconvert_exporter": "python",
   "pygments_lexer": "ipython3"
  }
 },
 "nbformat": 4,
 "nbformat_minor": 4
}
