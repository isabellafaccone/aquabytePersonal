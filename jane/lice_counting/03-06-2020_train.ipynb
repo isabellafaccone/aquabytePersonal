{
 "cells": [
  {
   "cell_type": "code",
   "execution_count": null,
   "metadata": {},
   "outputs": [],
   "source": [
    "from os import listdir\n",
    "from os.path import isfile, join\n",
    "import random \n",
    "\n"
   ]
  },
  {
   "cell_type": "code",
   "execution_count": null,
   "metadata": {},
   "outputs": [],
   "source": [
    "SEED = 33\n",
    "CROP_WIDTH = 512\n",
    "CROP_HEIGHT = 512\n",
    "\n",
    "\n",
    "LABEL_PATH = 'data/lice_crop_labels'\n",
    "IMAGE_PATH = 'data/lice_crop_images'"
   ]
  },
  {
   "cell_type": "code",
   "execution_count": null,
   "metadata": {},
   "outputs": [],
   "source": [
    "\n",
    "def train_test_split(train_size, valid_size, random_state = None, shuffle = True):\n",
    "    random.seed(random_state)\n",
    "    image_files = [join(IMAGE_PATH, f) for f in listdir(IMAGE_PATH) if isfile(join(IMAGE_PATH, f))]\n",
    "    if shuffle: random.shuffle(image_files)\n",
    "    \n",
    "    train_file = open(\"data/train.txt\", \"w+\")\n",
    "    valid_file = open(\"data/valid.txt\", \"w+\")\n",
    "    test_file = open(\"data/test.txt\", \"w+\")\n",
    "    train_number,valid_number,test_number = 0, 0, 0\n",
    "    \n",
    "    for f in image_files:\n",
    "        u = random.uniform(0, 1)\n",
    "        f += '\\n'\n",
    "        if u < train_size:\n",
    "            train_file.write(f)\n",
    "            train_number += 1\n",
    "            continue\n",
    "        elif u < train_size + valid_size:\n",
    "            valid_file.write(f)\n",
    "            valid_number += 1\n",
    "            continue\n",
    "        test_file.write(f)\n",
    "        test_number += 1\n",
    "    print(\"train {}, valid {}, test {}\".format(train_number, valid_number, test_number))\n",
    "    train_file.close()\n",
    "    valid_file.close()\n",
    "    test_file.close()"
   ]
  },
  {
   "cell_type": "code",
   "execution_count": null,
   "metadata": {},
   "outputs": [],
   "source": [
    "train_test_split(0.01, 0.01, random_state = SEED)"
   ]
  },
  {
   "cell_type": "code",
   "execution_count": null,
   "metadata": {},
   "outputs": [],
   "source": [
    "#!pip install -r requirements.txt"
   ]
  },
  {
   "cell_type": "code",
   "execution_count": null,
   "metadata": {
    "scrolled": true
   },
   "outputs": [],
   "source": [
    "\n",
    "#!pip install -r requirements.txt\n",
    "!python3 train.py --epochs 1 \\\n",
    "                  --n_cpu 0 --img_size  416 \\\n",
    "                  --pretrained_weights weights/yolov3.weights \\\n",
    "                  --model_def config/yolov3-lice.cfg \\\n",
    "                  --data_config config/lice.data \\\n",
    "                  --batch_size 2 \\\n",
    "                  --evaluation_interval 10 \\\n",
    "                  --multiscale_training False\n"
   ]
  },
  {
   "cell_type": "code",
   "execution_count": null,
   "metadata": {},
   "outputs": [],
   "source": [
    "!python3 test.py  --n_cpu 0 \\\n",
    "                  --img_size 512 \\\n",
    "                  --model_def config/yolov3-lice.cfg \\\n",
    "                  --data_config config/lice.data \\\n",
    "                  --class_path data/lice_classes.names \\\n",
    "                  --batch_size 2 \\\n",
    "                  --weights_path checkpoints/yolov3_ckpt_99.pth \\\n",
    "                  --conf_thres=0.95"
   ]
  },
  {
   "cell_type": "code",
   "execution_count": null,
   "metadata": {
    "scrolled": true
   },
   "outputs": [],
   "source": [
    "!python3 detect.py --image_folder data/test_image \\\n",
    "                   --model_def config/yolov3-lice.cfg \\\n",
    "                   --nms_thres 0.05 \\\n",
    "                   --conf_thres=0.7 \\\n",
    "                   --class_path data/lice_classes.names \\\n",
    "                   --weights_path checkpoints/yolov3_ckpt_99.pth\n",
    "        "
   ]
  },
  {
   "cell_type": "code",
   "execution_count": null,
   "metadata": {},
   "outputs": [],
   "source": []
  }
 ],
 "metadata": {
  "kernelspec": {
   "display_name": "Python 3",
   "language": "python",
   "name": "python3"
  },
  "language_info": {
   "codemirror_mode": {
    "name": "ipython",
    "version": 3
   },
   "file_extension": ".py",
   "mimetype": "text/x-python",
   "name": "python",
   "nbconvert_exporter": "python",
   "pygments_lexer": "ipython3",
   "version": "3.6.5"
  }
 },
 "nbformat": 4,
 "nbformat_minor": 4
}
