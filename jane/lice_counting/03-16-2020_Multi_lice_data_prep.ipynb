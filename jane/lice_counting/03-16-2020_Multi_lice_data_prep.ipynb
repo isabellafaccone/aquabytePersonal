{
 "cells": [
  {
   "cell_type": "markdown",
   "metadata": {},
   "source": [
    "# SUMMARY \n",
    "\n",
    "## approx 0 - 8 lice annotations per fish crop\n",
    "\n",
    "## sorted lice category are\n",
    "['ADULT_FEMALE', 'MOVING', 'SCOTTISH_ADULT_FEMALE', 'UNSURE']"
   ]
  },
  {
   "cell_type": "code",
   "execution_count": 3,
   "metadata": {},
   "outputs": [],
   "source": [
    "from aquabyte.data_access_utils import RDSAccessUtils, S3AccessUtils\n",
    "import json\n",
    "import os\n",
    "import  pandas as pd\n",
    "from aquabyte.visualize import Visualizer\n",
    "import matplotlib.patches as patches\n",
    "from tqdm import tqdm\n",
    "\n",
    "import matplotlib.pyplot as plt\n",
    "pd.set_option('display.max_rows', 500)\n",
    "pd.set_option('display.max_colwidth', 500)\n",
    "%matplotlib inline\n",
    "from utils import utils, data_prep\n"
   ]
  },
  {
   "cell_type": "code",
   "execution_count": 4,
   "metadata": {},
   "outputs": [],
   "source": [
    "import cv2\n",
    "from PIL import Image, ImageEnhance\n",
    "import numpy as np\n",
    "import matplotlib.pyplot as plt\n",
    "from random import randint, seed"
   ]
  },
  {
   "cell_type": "code",
   "execution_count": 5,
   "metadata": {},
   "outputs": [
    {
     "data": {
      "text/plain": [
       "<module 'utils.data_prep' from '/root/jane/cv_research/jane/lice_counting/utils/data_prep.py'>"
      ]
     },
     "execution_count": 5,
     "metadata": {},
     "output_type": "execute_result"
    }
   ],
   "source": [
    "import importlib\n",
    "importlib.reload(utils)\n",
    "importlib.reload(data_prep)"
   ]
  },
  {
   "cell_type": "code",
   "execution_count": 38,
   "metadata": {},
   "outputs": [],
   "source": [
    "SEED = 33\n",
    "CROP_WIDTH = 512\n",
    "CROP_HEIGHT = 512\n",
    "\n",
    "\n",
    "LABEL_PATH = 'data/multi_lice_crop_labels'\n",
    "IMAGE_PATH = 'data/multi_lice_crop_images'"
   ]
  },
  {
   "cell_type": "markdown",
   "metadata": {},
   "source": [
    "# load annotation data"
   ]
  },
  {
   "cell_type": "code",
   "execution_count": 7,
   "metadata": {},
   "outputs": [],
   "source": [
    "# docker-compose up \n",
    "# credentials = json.load(open(os.environ[\"DATA_WAREHOUSE_SQL_CREDENTIALS\"]))\n",
    "\n",
    "# docker run\n",
    "credentials = json.load(open(\"/root/jane/cv_research/jane/deploy/data_warehouse_sql_credentials.json\"))\n",
    "\n",
    "rds_access_utils = RDSAccessUtils(credentials)\n",
    "\n",
    "get_annotation_data = \"\"\"\n",
    "    SELECT \n",
    "        * \n",
    "    FROM \n",
    "        prod.crop_annotation \n",
    "    WHERE \n",
    "        (captured_at BETWEEN '2019-10-01' AND '2019-12-01') AND \n",
    "        (group_id = '56') AND\n",
    "        (annotation_state_id IN (7)) AND\n",
    "        (service_id = 1);\n",
    "\"\"\"\n",
    "annotation_data = rds_access_utils.extract_from_database(get_annotation_data)"
   ]
  },
  {
   "cell_type": "code",
   "execution_count": 14,
   "metadata": {},
   "outputs": [
    {
     "data": {
      "text/html": [
       "<div>\n",
       "<style scoped>\n",
       "    .dataframe tbody tr th:only-of-type {\n",
       "        vertical-align: middle;\n",
       "    }\n",
       "\n",
       "    .dataframe tbody tr th {\n",
       "        vertical-align: top;\n",
       "    }\n",
       "\n",
       "    .dataframe thead th {\n",
       "        text-align: right;\n",
       "    }\n",
       "</style>\n",
       "<table border=\"1\" class=\"dataframe\">\n",
       "  <thead>\n",
       "    <tr style=\"text-align: right;\">\n",
       "      <th></th>\n",
       "      <th>service_id</th>\n",
       "      <th>pen_id</th>\n",
       "      <th>annotation_state_id</th>\n",
       "      <th>base_key</th>\n",
       "      <th>url_key</th>\n",
       "      <th>right_crop_url</th>\n",
       "      <th>left_crop_metadata</th>\n",
       "      <th>right_crop_metadata</th>\n",
       "      <th>camera_metadata</th>\n",
       "      <th>annotation</th>\n",
       "      <th>captured_at</th>\n",
       "      <th>ts_source_start</th>\n",
       "      <th>ts_source_end</th>\n",
       "      <th>ts</th>\n",
       "      <th>annotator_email</th>\n",
       "      <th>skip_reasons</th>\n",
       "      <th>group_id</th>\n",
       "      <th>left_crop_url</th>\n",
       "      <th>filter_reasons</th>\n",
       "    </tr>\n",
       "  </thead>\n",
       "  <tbody>\n",
       "    <tr>\n",
       "      <th>0</th>\n",
       "      <td>1</td>\n",
       "      <td>56</td>\n",
       "      <td>7</td>\n",
       "      <td>https://aquabyte-crops.s3.eu-west-1.amazonaws.com/environment=production/site-id=39/pen-id=56/date=2019-10-01/hour=05/at=2019-10-01T05:13:42.783757000Z/</td>\n",
       "      <td>https://aquabyte-crops.s3.eu-west-1.amazonaws.com/environment=production/site-id=39/pen-id=56/date=2019-10-01/hour=05/at=2019-10-01T05:13:42.783757000Z/left_frame_crop_846_600_3122_1385.jpg</td>\n",
       "      <td>None</td>\n",
       "      <td>{'width': 2307, 'height': 800, 'x_coord': 828, 'y_coord': 576, 'depth_mm': 484.16502232176987, 'crop_area': 1786660, 'quality_score': 0.9870305694416996, 'mean_luminance': 13.418134396023866, 'edge_detection_score': 0.16698476486852562, 'mean_green_luminance': 29.66566446109884}</td>\n",
       "      <td>None</td>\n",
       "      <td>{'baseline': 0.10148368515391534, 'focalLength': 0.013854145853590238, 'pixelCountWidth': 4096, 'focalLengthPixel': 4015.694450316011, 'imageSensorWidth': 0.01412, 'pixelCountHeight': 3000, 'imageSensorHeight': 0.01035, 'stereoParametersUrl': 'http://aquabyte-stereo-parameters.s3.eu-west-1.amazonaws.com/L40029791_R40029780/2019-08-20T00:00:00Z_L40029791_R40029780_stereo-parameters.json'}</td>\n",
       "      <td>None</td>\n",
       "      <td>2019-10-01 05:13:42.783757+00:00</td>\n",
       "      <td>2019-10-01 07:23:57+00:00</td>\n",
       "      <td>None</td>\n",
       "      <td>2019-10-01 07:23:57.771000+00:00</td>\n",
       "      <td>gunnar@aquabyte.ai</td>\n",
       "      <td>None</td>\n",
       "      <td>56</td>\n",
       "      <td>https://aquabyte-crops.s3.eu-west-1.amazonaws.com/environment=production/site-id=39/pen-id=56/date=2019-10-01/hour=05/at=2019-10-01T05:13:42.783757000Z/left_frame_crop_846_600_3122_1385.jpg</td>\n",
       "      <td>None</td>\n",
       "    </tr>\n",
       "    <tr>\n",
       "      <th>1</th>\n",
       "      <td>1</td>\n",
       "      <td>56</td>\n",
       "      <td>7</td>\n",
       "      <td>https://aquabyte-crops.s3.eu-west-1.amazonaws.com/environment=production/site-id=39/pen-id=56/date=2019-10-01/hour=05/at=2019-10-01T05:14:53.250725000Z/</td>\n",
       "      <td>https://aquabyte-crops.s3.eu-west-1.amazonaws.com/environment=production/site-id=39/pen-id=56/date=2019-10-01/hour=05/at=2019-10-01T05:14:53.250725000Z/left_frame_crop_1286_524_3434_1555.jpg</td>\n",
       "      <td>None</td>\n",
       "      <td>{'width': 2178, 'height': 1050, 'x_coord': 1274, 'y_coord': 498, 'depth_mm': 488.9474956776813, 'crop_area': 2214588, 'quality_score': 0.9831454731159667, 'mean_luminance': 20.04596520887858, 'edge_detection_score': 0.18689209911730761, 'mean_green_luminance': 36.247277113011066}</td>\n",
       "      <td>None</td>\n",
       "      <td>{'baseline': 0.10148368515391534, 'focalLength': 0.013854145853590238, 'pixelCountWidth': 4096, 'focalLengthPixel': 4015.694450316011, 'imageSensorWidth': 0.01412, 'pixelCountHeight': 3000, 'imageSensorHeight': 0.01035, 'stereoParametersUrl': 'http://aquabyte-stereo-parameters.s3.eu-west-1.amazonaws.com/L40029791_R40029780/2019-08-20T00:00:00Z_L40029791_R40029780_stereo-parameters.json'}</td>\n",
       "      <td>[{'id': '37c09621-e422-11e9-a674-ad85428a0e40', 'category': 'MOVING', 'location': 'TOP', 'position': {'top': 177, 'left': 571, 'width': 23, 'height': 11}}, {'id': '37c09622-e422-11e9-a674-ad85428a0e40', 'category': 'MOVING', 'location': 'TOP', 'position': {'top': 178, 'left': 543, 'width': 26, 'height': 12}}]</td>\n",
       "      <td>2019-10-01 05:14:53.250725+00:00</td>\n",
       "      <td>2019-10-01 08:06:05+00:00</td>\n",
       "      <td>None</td>\n",
       "      <td>2019-10-01 08:06:06.372000+00:00</td>\n",
       "      <td>gunnar@aquabyte.ai</td>\n",
       "      <td>None</td>\n",
       "      <td>56</td>\n",
       "      <td>https://aquabyte-crops.s3.eu-west-1.amazonaws.com/environment=production/site-id=39/pen-id=56/date=2019-10-01/hour=05/at=2019-10-01T05:14:53.250725000Z/left_frame_crop_1286_524_3434_1555.jpg</td>\n",
       "      <td>None</td>\n",
       "    </tr>\n",
       "    <tr>\n",
       "      <th>2</th>\n",
       "      <td>1</td>\n",
       "      <td>56</td>\n",
       "      <td>7</td>\n",
       "      <td>https://aquabyte-crops.s3.eu-west-1.amazonaws.com/environment=production/site-id=39/pen-id=56/date=2019-10-01/hour=05/at=2019-10-01T05:15:12.635108000Z/</td>\n",
       "      <td>https://aquabyte-crops.s3.eu-west-1.amazonaws.com/environment=production/site-id=39/pen-id=56/date=2019-10-01/hour=05/at=2019-10-01T05:15:12.635108000Z/left_frame_crop_958_178_3274_1374.jpg</td>\n",
       "      <td>None</td>\n",
       "      <td>{'width': 2348, 'height': 1216, 'x_coord': 941, 'y_coord': 149, 'depth_mm': 447.1005560185746, 'crop_area': 2769936, 'quality_score': 0.9999065913844286, 'mean_luminance': 17.375244770998318, 'edge_detection_score': 0.12959180284309815, 'mean_green_luminance': 38.21422710233998}</td>\n",
       "      <td>None</td>\n",
       "      <td>{'baseline': 0.10148368515391534, 'focalLength': 0.013854145853590238, 'pixelCountWidth': 4096, 'focalLengthPixel': 4015.694450316011, 'imageSensorWidth': 0.01412, 'pixelCountHeight': 3000, 'imageSensorHeight': 0.01035, 'stereoParametersUrl': 'http://aquabyte-stereo-parameters.s3.eu-west-1.amazonaws.com/L40029791_R40029780/2019-08-20T00:00:00Z_L40029791_R40029780_stereo-parameters.json'}</td>\n",
       "      <td>None</td>\n",
       "      <td>2019-10-01 05:15:12.635108+00:00</td>\n",
       "      <td>2019-10-01 07:52:03+00:00</td>\n",
       "      <td>None</td>\n",
       "      <td>2019-10-01 07:52:03.514000+00:00</td>\n",
       "      <td>victoria@aquabyte.ai</td>\n",
       "      <td>None</td>\n",
       "      <td>56</td>\n",
       "      <td>https://aquabyte-crops.s3.eu-west-1.amazonaws.com/environment=production/site-id=39/pen-id=56/date=2019-10-01/hour=05/at=2019-10-01T05:15:12.635108000Z/left_frame_crop_958_178_3274_1374.jpg</td>\n",
       "      <td>None</td>\n",
       "    </tr>\n",
       "  </tbody>\n",
       "</table>\n",
       "</div>"
      ],
      "text/plain": [
       "   service_id  pen_id  annotation_state_id  \\\n",
       "0           1      56                    7   \n",
       "1           1      56                    7   \n",
       "2           1      56                    7   \n",
       "\n",
       "                                                                                                                                                   base_key  \\\n",
       "0  https://aquabyte-crops.s3.eu-west-1.amazonaws.com/environment=production/site-id=39/pen-id=56/date=2019-10-01/hour=05/at=2019-10-01T05:13:42.783757000Z/   \n",
       "1  https://aquabyte-crops.s3.eu-west-1.amazonaws.com/environment=production/site-id=39/pen-id=56/date=2019-10-01/hour=05/at=2019-10-01T05:14:53.250725000Z/   \n",
       "2  https://aquabyte-crops.s3.eu-west-1.amazonaws.com/environment=production/site-id=39/pen-id=56/date=2019-10-01/hour=05/at=2019-10-01T05:15:12.635108000Z/   \n",
       "\n",
       "                                                                                                                                                                                          url_key  \\\n",
       "0   https://aquabyte-crops.s3.eu-west-1.amazonaws.com/environment=production/site-id=39/pen-id=56/date=2019-10-01/hour=05/at=2019-10-01T05:13:42.783757000Z/left_frame_crop_846_600_3122_1385.jpg   \n",
       "1  https://aquabyte-crops.s3.eu-west-1.amazonaws.com/environment=production/site-id=39/pen-id=56/date=2019-10-01/hour=05/at=2019-10-01T05:14:53.250725000Z/left_frame_crop_1286_524_3434_1555.jpg   \n",
       "2   https://aquabyte-crops.s3.eu-west-1.amazonaws.com/environment=production/site-id=39/pen-id=56/date=2019-10-01/hour=05/at=2019-10-01T05:15:12.635108000Z/left_frame_crop_958_178_3274_1374.jpg   \n",
       "\n",
       "  right_crop_url  \\\n",
       "0           None   \n",
       "1           None   \n",
       "2           None   \n",
       "\n",
       "                                                                                                                                                                                                                                                                         left_crop_metadata  \\\n",
       "0   {'width': 2307, 'height': 800, 'x_coord': 828, 'y_coord': 576, 'depth_mm': 484.16502232176987, 'crop_area': 1786660, 'quality_score': 0.9870305694416996, 'mean_luminance': 13.418134396023866, 'edge_detection_score': 0.16698476486852562, 'mean_green_luminance': 29.66566446109884}   \n",
       "1  {'width': 2178, 'height': 1050, 'x_coord': 1274, 'y_coord': 498, 'depth_mm': 488.9474956776813, 'crop_area': 2214588, 'quality_score': 0.9831454731159667, 'mean_luminance': 20.04596520887858, 'edge_detection_score': 0.18689209911730761, 'mean_green_luminance': 36.247277113011066}   \n",
       "2   {'width': 2348, 'height': 1216, 'x_coord': 941, 'y_coord': 149, 'depth_mm': 447.1005560185746, 'crop_area': 2769936, 'quality_score': 0.9999065913844286, 'mean_luminance': 17.375244770998318, 'edge_detection_score': 0.12959180284309815, 'mean_green_luminance': 38.21422710233998}   \n",
       "\n",
       "  right_crop_metadata  \\\n",
       "0                None   \n",
       "1                None   \n",
       "2                None   \n",
       "\n",
       "                                                                                                                                                                                                                                                                                                                                                                                          camera_metadata  \\\n",
       "0  {'baseline': 0.10148368515391534, 'focalLength': 0.013854145853590238, 'pixelCountWidth': 4096, 'focalLengthPixel': 4015.694450316011, 'imageSensorWidth': 0.01412, 'pixelCountHeight': 3000, 'imageSensorHeight': 0.01035, 'stereoParametersUrl': 'http://aquabyte-stereo-parameters.s3.eu-west-1.amazonaws.com/L40029791_R40029780/2019-08-20T00:00:00Z_L40029791_R40029780_stereo-parameters.json'}   \n",
       "1  {'baseline': 0.10148368515391534, 'focalLength': 0.013854145853590238, 'pixelCountWidth': 4096, 'focalLengthPixel': 4015.694450316011, 'imageSensorWidth': 0.01412, 'pixelCountHeight': 3000, 'imageSensorHeight': 0.01035, 'stereoParametersUrl': 'http://aquabyte-stereo-parameters.s3.eu-west-1.amazonaws.com/L40029791_R40029780/2019-08-20T00:00:00Z_L40029791_R40029780_stereo-parameters.json'}   \n",
       "2  {'baseline': 0.10148368515391534, 'focalLength': 0.013854145853590238, 'pixelCountWidth': 4096, 'focalLengthPixel': 4015.694450316011, 'imageSensorWidth': 0.01412, 'pixelCountHeight': 3000, 'imageSensorHeight': 0.01035, 'stereoParametersUrl': 'http://aquabyte-stereo-parameters.s3.eu-west-1.amazonaws.com/L40029791_R40029780/2019-08-20T00:00:00Z_L40029791_R40029780_stereo-parameters.json'}   \n",
       "\n",
       "                                                                                                                                                                                                                                                                                                               annotation  \\\n",
       "0                                                                                                                                                                                                                                                                                                                    None   \n",
       "1  [{'id': '37c09621-e422-11e9-a674-ad85428a0e40', 'category': 'MOVING', 'location': 'TOP', 'position': {'top': 177, 'left': 571, 'width': 23, 'height': 11}}, {'id': '37c09622-e422-11e9-a674-ad85428a0e40', 'category': 'MOVING', 'location': 'TOP', 'position': {'top': 178, 'left': 543, 'width': 26, 'height': 12}}]   \n",
       "2                                                                                                                                                                                                                                                                                                                    None   \n",
       "\n",
       "                       captured_at           ts_source_start ts_source_end  \\\n",
       "0 2019-10-01 05:13:42.783757+00:00 2019-10-01 07:23:57+00:00          None   \n",
       "1 2019-10-01 05:14:53.250725+00:00 2019-10-01 08:06:05+00:00          None   \n",
       "2 2019-10-01 05:15:12.635108+00:00 2019-10-01 07:52:03+00:00          None   \n",
       "\n",
       "                                ts       annotator_email skip_reasons  \\\n",
       "0 2019-10-01 07:23:57.771000+00:00    gunnar@aquabyte.ai         None   \n",
       "1 2019-10-01 08:06:06.372000+00:00    gunnar@aquabyte.ai         None   \n",
       "2 2019-10-01 07:52:03.514000+00:00  victoria@aquabyte.ai         None   \n",
       "\n",
       "  group_id  \\\n",
       "0       56   \n",
       "1       56   \n",
       "2       56   \n",
       "\n",
       "                                                                                                                                                                                    left_crop_url  \\\n",
       "0   https://aquabyte-crops.s3.eu-west-1.amazonaws.com/environment=production/site-id=39/pen-id=56/date=2019-10-01/hour=05/at=2019-10-01T05:13:42.783757000Z/left_frame_crop_846_600_3122_1385.jpg   \n",
       "1  https://aquabyte-crops.s3.eu-west-1.amazonaws.com/environment=production/site-id=39/pen-id=56/date=2019-10-01/hour=05/at=2019-10-01T05:14:53.250725000Z/left_frame_crop_1286_524_3434_1555.jpg   \n",
       "2   https://aquabyte-crops.s3.eu-west-1.amazonaws.com/environment=production/site-id=39/pen-id=56/date=2019-10-01/hour=05/at=2019-10-01T05:15:12.635108000Z/left_frame_crop_958_178_3274_1374.jpg   \n",
       "\n",
       "  filter_reasons  \n",
       "0           None  \n",
       "1           None  \n",
       "2           None  "
      ]
     },
     "execution_count": 14,
     "metadata": {},
     "output_type": "execute_result"
    }
   ],
   "source": [
    "annotation_data.head(3)"
   ]
  },
  {
   "cell_type": "markdown",
   "metadata": {},
   "source": [
    "# Histogram of lice count in each fish crop"
   ]
  },
  {
   "cell_type": "code",
   "execution_count": null,
   "metadata": {
    "scrolled": true
   },
   "outputs": [],
   "source": [
    "\n",
    "\n",
    "lice_count = []\n",
    "for _, sf in annotation_data.iterrows():\n",
    "    if sf['annotation']:\n",
    "        lice_count.append(len(sf['annotation']))\n",
    "    else:\n",
    "        lice_count.append(0)\n",
    "        \n",
    "_ = plt.hist(lice_count)  # arguments are passed to np.histogram\n",
    "#_ = plt.hist(orientation, bins=20)\n",
    "plt.title(\"Histogram of lice count\")\n",
    "plt.xlabel('number of louse')\n",
    "plt.show()"
   ]
  },
  {
   "cell_type": "markdown",
   "metadata": {},
   "source": [
    "# Bar chart of each lice category count"
   ]
  },
  {
   "cell_type": "code",
   "execution_count": 18,
   "metadata": {},
   "outputs": [],
   "source": [
    "category_count = {}\n",
    "for _, sf in annotation_data.iterrows():\n",
    "    if sf['annotation']:\n",
    "        for louse in sf['annotation']:\n",
    "            sf_category = louse[\"category\"]\n",
    "            if category_count.get(sf_category):\n",
    "                category_count[sf_category] += 1\n",
    "            else:\n",
    "                category_count[sf_category] = 1\n",
    "\n"
   ]
  },
  {
   "cell_type": "code",
   "execution_count": 29,
   "metadata": {},
   "outputs": [],
   "source": [
    "lice_category = list(category_count.keys())\n",
    "lice_category.sort()\n",
    "counts = [category_count[name] for name in lice_category]"
   ]
  },
  {
   "cell_type": "code",
   "execution_count": 30,
   "metadata": {
    "scrolled": true
   },
   "outputs": [
    {
     "data": {
      "image/png": "[encoded data removed]",
      "text/plain": [
       "<Figure size 432x288 with 1 Axes>"
      ]
     },
     "metadata": {
      "needs_background": "light"
     },
     "output_type": "display_data"
    }
   ],
   "source": [
    "fig = plt.figure()\n",
    "ax = fig.add_axes([0,0,1,1])\n",
    "ax.bar(lice_category,counts)\n",
    "plt.show(\"count of lice by category\")"
   ]
  },
  {
   "cell_type": "markdown",
   "metadata": {},
   "source": [
    "## sorted lice category are\n",
    "\n",
    "['ADULT_FEMALE', 'MOVING', 'SCOTTISH_ADULT_FEMALE', 'UNSURE']\n"
   ]
  },
  {
   "cell_type": "code",
   "execution_count": null,
   "metadata": {},
   "outputs": [],
   "source": []
  },
  {
   "cell_type": "markdown",
   "metadata": {},
   "source": [
    "# fish crop with lice bbox"
   ]
  },
  {
   "cell_type": "code",
   "execution_count": 9,
   "metadata": {},
   "outputs": [],
   "source": [
    "# s3_access_utils = S3AccessUtils('/root/data')\n",
    "\n",
    "import boto3\n",
    "from urllib.parse import urlparse\n",
    "\n",
    "\n",
    "aws_credentials = json.load(open('/root/jane/cv_research/jane/deploy/aws_credentials.json'))\n",
    "s3_client = boto3.client('s3', aws_access_key_id=aws_credentials[\"aws_access_key_id\"],\n",
    "aws_secret_access_key=aws_credentials[\"aws_secret_access_key\"],\n",
    "            region_name=\"eu-west-1\")\n",
    "\n",
    "def recursive_mkdir(dirname):\n",
    "    if not os.path.exists(dirname):\n",
    "        os.makedirs(dirname)\n",
    "    return\n",
    "    \n",
    "def download_from_s3(bucket, key, custom_location=None):\n",
    "    if custom_location:\n",
    "        recursive_mkdir(os.path.dirname(custom_location))\n",
    "        s3_client.download_file(bucket, key, custom_location)\n",
    "    else:\n",
    "        s3_base_dir = os.path.join('/root/data', 's3')\n",
    "        f = os.path.join(s3_base_dir, bucket, key)\n",
    "        if not os.path.exists(f):\n",
    "            recursive_mkdir(os.path.dirname(f))\n",
    "            s3_client.download_file(bucket, key, f)\n",
    "        return f\n",
    "    \n",
    "def download_from_url(url):\n",
    "    parsed_url = urlparse(url, allow_fragments=False)\n",
    "    if parsed_url.netloc.startswith('s3'):\n",
    "        url_components = parsed_url.path.lstrip('/').split('/')\n",
    "        bucket, key = url_components[0], os.path.join(*url_components[1:])\n",
    "    else:\n",
    "        bucket = parsed_url.netloc.split('.')[0]\n",
    "        key = parsed_url.path.lstrip('/')\n",
    "    image_f = download_from_s3(bucket, key)\n",
    "    return image_f, bucket, key"
   ]
  },
  {
   "cell_type": "code",
   "execution_count": null,
   "metadata": {},
   "outputs": [],
   "source": [
    "\n",
    "for idx, sf in tqdm(annotation_data.iterrows()):\n",
    "    if not sf['annotation']:\n",
    "        continue\n",
    "    if idx > 10:\n",
    "        break\n",
    "    left_image_f, bucket, left_image_key = download_from_url(sf[\"left_crop_url\"])\n",
    "    image_f = left_image_f \n",
    "\n",
    "    fig, ax = plt.subplots(figsize=(12, 12)) \n",
    "    image = plt.imread(image_f)\n",
    "\n",
    "\n",
    "    alpha = 3 # Contrast control (1.0-3.0)\n",
    "    beta = 20 # Brightness control (0-100)\n",
    "\n",
    "    adjusted = cv2.convertScaleAbs(image, alpha=alpha, beta=beta)\n",
    "\n",
    "\n",
    "\n",
    "    ax.imshow(adjusted)\n",
    "    \n",
    "    for lice in sf['annotation']:\n",
    "        lp = lice['position'] # only take the first female adult\n",
    "        x, y, w, h = lp[\"left\"], lp[\"top\"], lp[\"width\"], lp[\"height\"]\n",
    "        if lice['category'] == 'ADULT_FEMALE':\n",
    "            ec = 'b'\n",
    "        else:\n",
    "            ec = 'r'\n",
    "        rect = patches.Rectangle((x, y), w, h,linewidth=1,edgecolor=ec,facecolor='none')    \n",
    "        ax.add_patch(rect)\n",
    "plt.show()"
   ]
  },
  {
   "cell_type": "markdown",
   "metadata": {},
   "source": [
    "# lice crop"
   ]
  },
  {
   "cell_type": "code",
   "execution_count": null,
   "metadata": {},
   "outputs": [],
   "source": [
    "seed(SEED)\n",
    "for idx, sf in tqdm(annotation_data.iterrows()):\n",
    "    if not sf['annotation'] or idx < 10:\n",
    "        continue\n",
    "    if idx > 20:\n",
    "        break\n",
    "    left_image_f, bucket, left_image_key = download_from_url(sf[\"left_crop_url\"])\n",
    "    image_f = left_image_f \n",
    "\n",
    "    iw = sf['left_crop_metadata']['width']\n",
    "    ih = sf['left_crop_metadata']['height']\n",
    "    print(sf['annotation'])\n",
    "    crops = data_prep.generate_crops(sf['annotation'], [iw, ih], [CROP_WIDTH, CROP_HEIGHT])\n",
    "\n",
    "    print(\"num of crops {}\".format(len(crops)))\n",
    "    for crop in crops:\n",
    "        \n",
    "        fig, ax = plt.subplots(figsize=(10, 10))\n",
    "        image = plt.imread(image_f)\n",
    "        \n",
    "        # crop lice image\n",
    "        crop_left, crop_top = crop\n",
    "        print(\"crop {} {}\".format(crop_left, crop_top))\n",
    "        cropped_image = image[crop_top:(crop_top + CROP_HEIGHT), crop_left:(crop_left + CROP_WIDTH)]\n",
    "        \n",
    "        # adjust image contrast and brightness\n",
    "        alpha = 3 # Contrast control (1.0-3.0)\n",
    "        beta = 20 # Brightness control (0-100)\n",
    "        adjusted = cv2.convertScaleAbs(cropped_image, alpha=alpha, beta=beta)\n",
    "        \n",
    "        ax.imshow(adjusted)\n",
    "\n",
    "    \n",
    "        for lice in crops[crop]:\n",
    "            lp = lice['position'] # only take the first female adult\n",
    "            x, y, w, h = lp[\"left\"], lp[\"top\"], lp[\"width\"], lp[\"height\"]\n",
    "            if lice['category'] == 'ADULT_FEMALE':\n",
    "                ec = 'b'\n",
    "            else:\n",
    "                ec = 'r'\n",
    "            crop_left_offset = x - crop_left\n",
    "            crop_top_offset = y - crop_top\n",
    "            rect = patches.Rectangle((crop_left_offset, crop_top_offset), w, h,linewidth=1,edgecolor=ec,facecolor='none')    \n",
    "            ax.add_patch(rect)    \n",
    "\n",
    "        plt.show()"
   ]
  },
  {
   "cell_type": "code",
   "execution_count": 39,
   "metadata": {},
   "outputs": [
    {
     "name": "stderr",
     "output_type": "stream",
     "text": [
      "7it [00:00,  9.46it/s]"
     ]
    },
    {
     "name": "stdout",
     "output_type": "stream",
     "text": [
      "num of crops 1, out of 2 lice\n",
      "num of crops 1, out of 1 lice\n",
      "num of crops 1, out of 1 lice\n",
      "num of crops 1, out of 1 lice\n",
      "num of crops 1, out of 1 lice\n"
     ]
    },
    {
     "name": "stderr",
     "output_type": "stream",
     "text": [
      "\r",
      "10it [00:00, 11.34it/s]"
     ]
    },
    {
     "name": "stdout",
     "output_type": "stream",
     "text": [
      "num of crops 1, out of 1 lice\n",
      "num of crops 1, out of 1 lice\n",
      "num of crops 2, out of 2 lice\n"
     ]
    },
    {
     "name": "stderr",
     "output_type": "stream",
     "text": [
      "16it [00:00, 13.81it/s]"
     ]
    },
    {
     "name": "stdout",
     "output_type": "stream",
     "text": [
      "num of crops 3, out of 3 lice\n",
      "num of crops 1, out of 3 lice\n",
      "num of crops 1, out of 2 lice\n"
     ]
    },
    {
     "name": "stderr",
     "output_type": "stream",
     "text": [
      "26it [00:00, 21.11it/s]"
     ]
    },
    {
     "name": "stdout",
     "output_type": "stream",
     "text": [
      "num of crops 1, out of 1 lice\n",
      "num of crops 1, out of 1 lice\n",
      "num of crops 1, out of 1 lice\n",
      "num of crops 1, out of 1 lice\n",
      "num of crops 1, out of 1 lice\n",
      "num of crops 1, out of 1 lice\n"
     ]
    },
    {
     "name": "stderr",
     "output_type": "stream",
     "text": [
      "35it [00:01, 26.09it/s]"
     ]
    },
    {
     "name": "stdout",
     "output_type": "stream",
     "text": [
      "num of crops 1, out of 1 lice\n",
      "num of crops 1, out of 1 lice\n",
      "num of crops 1, out of 1 lice\n",
      "num of crops 2, out of 2 lice\n"
     ]
    },
    {
     "name": "stderr",
     "output_type": "stream",
     "text": [
      "\r",
      "41it [00:01, 29.93it/s]"
     ]
    },
    {
     "name": "stdout",
     "output_type": "stream",
     "text": [
      "num of crops 1, out of 2 lice\n",
      "num of crops 2, out of 4 lice\n",
      "num of crops 2, out of 2 lice\n"
     ]
    },
    {
     "name": "stderr",
     "output_type": "stream",
     "text": [
      "49it [00:01, 23.78it/s]"
     ]
    },
    {
     "name": "stdout",
     "output_type": "stream",
     "text": [
      "num of crops 2, out of 2 lice\n",
      "num of crops 1, out of 1 lice\n",
      "num of crops 1, out of 2 lice\n",
      "num of crops 1, out of 2 lice\n"
     ]
    },
    {
     "name": "stderr",
     "output_type": "stream",
     "text": [
      "\r",
      "52it [00:01, 21.16it/s]"
     ]
    },
    {
     "name": "stdout",
     "output_type": "stream",
     "text": [
      "num of crops 4, out of 6 lice\n",
      "num of crops 2, out of 2 lice\n"
     ]
    },
    {
     "name": "stderr",
     "output_type": "stream",
     "text": [
      "61it [00:02, 24.61it/s]"
     ]
    },
    {
     "name": "stdout",
     "output_type": "stream",
     "text": [
      "num of crops 1, out of 1 lice\n",
      "num of crops 1, out of 1 lice\n",
      "num of crops 1, out of 1 lice\n",
      "num of crops 2, out of 2 lice\n",
      "num of crops 1, out of 1 lice\n"
     ]
    },
    {
     "name": "stderr",
     "output_type": "stream",
     "text": [
      "\r",
      "64it [00:02, 23.55it/s]"
     ]
    },
    {
     "name": "stdout",
     "output_type": "stream",
     "text": [
      "num of crops 1, out of 1 lice\n",
      "num of crops 1, out of 1 lice\n",
      "num of crops 1, out of 2 lice\n",
      "num of crops 1, out of 1 lice\n",
      "num of crops 1, out of 1 lice\n"
     ]
    },
    {
     "name": "stderr",
     "output_type": "stream",
     "text": [
      "85it [00:02, 32.99it/s]"
     ]
    },
    {
     "name": "stdout",
     "output_type": "stream",
     "text": [
      "num of crops 1, out of 1 lice\n",
      "num of crops 2, out of 2 lice\n",
      "num of crops 2, out of 3 lice\n"
     ]
    },
    {
     "name": "stderr",
     "output_type": "stream",
     "text": [
      "96it [00:02, 37.76it/s]"
     ]
    },
    {
     "name": "stdout",
     "output_type": "stream",
     "text": [
      "num of crops 1, out of 2 lice\n",
      "num of crops 1, out of 1 lice\n",
      "num of crops 2, out of 2 lice\n",
      "num of crops 2, out of 2 lice\n"
     ]
    },
    {
     "name": "stderr",
     "output_type": "stream",
     "text": [
      "\r",
      "102it [00:02, 42.00it/s]"
     ]
    },
    {
     "name": "stdout",
     "output_type": "stream",
     "text": [
      "num of crops 1, out of 1 lice\n"
     ]
    },
    {
     "name": "stderr",
     "output_type": "stream",
     "text": [
      "\r",
      "108it [00:05,  8.41it/s]"
     ]
    },
    {
     "name": "stdout",
     "output_type": "stream",
     "text": [
      "num of crops 1, out of 1 lice\n",
      "num of crops 1, out of 1 lice\n",
      "num of crops 1, out of 1 lice\n"
     ]
    },
    {
     "name": "stderr",
     "output_type": "stream",
     "text": [
      "\r",
      "112it [00:05,  8.37it/s]"
     ]
    },
    {
     "name": "stdout",
     "output_type": "stream",
     "text": [
      "num of crops 1, out of 1 lice\n",
      "num of crops 1, out of 1 lice\n"
     ]
    },
    {
     "name": "stderr",
     "output_type": "stream",
     "text": [
      "\r",
      "115it [00:05,  7.62it/s]"
     ]
    },
    {
     "name": "stdout",
     "output_type": "stream",
     "text": [
      "num of crops 1, out of 1 lice\n"
     ]
    },
    {
     "name": "stderr",
     "output_type": "stream",
     "text": [
      "\r",
      "118it [00:06,  7.25it/s]"
     ]
    },
    {
     "name": "stdout",
     "output_type": "stream",
     "text": [
      "num of crops 1, out of 1 lice\n"
     ]
    },
    {
     "name": "stderr",
     "output_type": "stream",
     "text": [
      "\r",
      "120it [00:06,  6.05it/s]"
     ]
    },
    {
     "name": "stdout",
     "output_type": "stream",
     "text": [
      "num of crops 1, out of 1 lice\n"
     ]
    },
    {
     "name": "stderr",
     "output_type": "stream",
     "text": [
      "\r",
      "122it [00:07,  4.87it/s]"
     ]
    },
    {
     "name": "stdout",
     "output_type": "stream",
     "text": [
      "num of crops 1, out of 1 lice\n"
     ]
    },
    {
     "name": "stderr",
     "output_type": "stream",
     "text": [
      "\r",
      "124it [00:08,  4.19it/s]"
     ]
    },
    {
     "name": "stdout",
     "output_type": "stream",
     "text": [
      "num of crops 1, out of 1 lice\n"
     ]
    },
    {
     "name": "stderr",
     "output_type": "stream",
     "text": [
      "\r",
      "125it [00:08,  3.02it/s]"
     ]
    },
    {
     "name": "stdout",
     "output_type": "stream",
     "text": [
      "num of crops 1, out of 1 lice\n"
     ]
    },
    {
     "name": "stderr",
     "output_type": "stream",
     "text": [
      "\r",
      "126it [00:09,  2.68it/s]"
     ]
    },
    {
     "name": "stdout",
     "output_type": "stream",
     "text": [
      "num of crops 1, out of 1 lice\n"
     ]
    },
    {
     "name": "stderr",
     "output_type": "stream",
     "text": [
      "131it [00:09,  3.47it/s]"
     ]
    },
    {
     "name": "stdout",
     "output_type": "stream",
     "text": [
      "num of crops 1, out of 2 lice\n",
      "num of crops 2, out of 2 lice\n",
      "num of crops 1, out of 1 lice\n"
     ]
    },
    {
     "name": "stderr",
     "output_type": "stream",
     "text": [
      "\r",
      "135it [00:10,  4.13it/s]"
     ]
    },
    {
     "name": "stdout",
     "output_type": "stream",
     "text": [
      "num of crops 1, out of 1 lice\n",
      "num of crops 3, out of 3 lice\n",
      "num of crops 1, out of 1 lice\n"
     ]
    },
    {
     "name": "stderr",
     "output_type": "stream",
     "text": [
      "139it [00:10,  4.90it/s]"
     ]
    },
    {
     "name": "stdout",
     "output_type": "stream",
     "text": [
      "num of crops 1, out of 2 lice\n",
      "num of crops 2, out of 2 lice\n"
     ]
    },
    {
     "name": "stderr",
     "output_type": "stream",
     "text": [
      "146it [00:11,  7.06it/s]"
     ]
    },
    {
     "name": "stdout",
     "output_type": "stream",
     "text": [
      "num of crops 1, out of 1 lice\n",
      "num of crops 1, out of 1 lice\n"
     ]
    },
    {
     "name": "stderr",
     "output_type": "stream",
     "text": [
      "\r",
      "148it [00:12,  4.37it/s]"
     ]
    },
    {
     "name": "stdout",
     "output_type": "stream",
     "text": [
      "num of crops 1, out of 1 lice\n"
     ]
    },
    {
     "name": "stderr",
     "output_type": "stream",
     "text": [
      "167it [00:12,  7.95it/s]"
     ]
    },
    {
     "name": "stdout",
     "output_type": "stream",
     "text": [
      "num of crops 1, out of 2 lice\n",
      "num of crops 1, out of 3 lice\n",
      "num of crops 1, out of 1 lice\n",
      "num of crops 2, out of 2 lice\n"
     ]
    },
    {
     "name": "stderr",
     "output_type": "stream",
     "text": [
      "\r",
      "173it [00:12, 10.62it/s]"
     ]
    },
    {
     "name": "stdout",
     "output_type": "stream",
     "text": [
      "num of crops 1, out of 3 lice\n",
      "num of crops 1, out of 2 lice\n"
     ]
    },
    {
     "name": "stderr",
     "output_type": "stream",
     "text": [
      "\r",
      "177it [00:14,  6.13it/s]"
     ]
    },
    {
     "name": "stdout",
     "output_type": "stream",
     "text": [
      "num of crops 1, out of 2 lice\n"
     ]
    },
    {
     "name": "stderr",
     "output_type": "stream",
     "text": [
      "\r",
      "180it [00:14,  6.34it/s]"
     ]
    },
    {
     "name": "stdout",
     "output_type": "stream",
     "text": [
      "num of crops 1, out of 1 lice\n"
     ]
    },
    {
     "name": "stderr",
     "output_type": "stream",
     "text": [
      "\r",
      "183it [00:15,  6.50it/s]"
     ]
    },
    {
     "name": "stdout",
     "output_type": "stream",
     "text": [
      "num of crops 1, out of 1 lice\n",
      "num of crops 1, out of 1 lice\n"
     ]
    },
    {
     "name": "stderr",
     "output_type": "stream",
     "text": [
      "\r",
      "186it [00:15,  6.44it/s]"
     ]
    },
    {
     "name": "stdout",
     "output_type": "stream",
     "text": [
      "num of crops 1, out of 1 lice\n",
      "num of crops 1, out of 1 lice\n"
     ]
    },
    {
     "name": "stderr",
     "output_type": "stream",
     "text": [
      "\r",
      "188it [00:16,  4.15it/s]"
     ]
    },
    {
     "name": "stdout",
     "output_type": "stream",
     "text": [
      "num of crops 1, out of 1 lice\n",
      "num of crops 1, out of 1 lice\n",
      "num of crops 1, out of 1 lice\n"
     ]
    },
    {
     "name": "stderr",
     "output_type": "stream",
     "text": [
      "\r",
      "201it [00:17,  5.38it/s]"
     ]
    },
    {
     "name": "stdout",
     "output_type": "stream",
     "text": [
      "num of crops 1, out of 1 lice\n"
     ]
    },
    {
     "name": "stderr",
     "output_type": "stream",
     "text": [
      "\r",
      "204it [00:17,  5.84it/s]"
     ]
    },
    {
     "name": "stdout",
     "output_type": "stream",
     "text": [
      "num of crops 1, out of 1 lice\n"
     ]
    },
    {
     "name": "stderr",
     "output_type": "stream",
     "text": [
      "\r",
      "206it [00:18,  4.80it/s]"
     ]
    },
    {
     "name": "stdout",
     "output_type": "stream",
     "text": [
      "num of crops 1, out of 1 lice\n"
     ]
    },
    {
     "name": "stderr",
     "output_type": "stream",
     "text": [
      "211it [00:18,  6.33it/s]"
     ]
    },
    {
     "name": "stdout",
     "output_type": "stream",
     "text": [
      "num of crops 1, out of 1 lice\n",
      "num of crops 2, out of 3 lice\n",
      "num of crops 1, out of 1 lice\n"
     ]
    },
    {
     "name": "stderr",
     "output_type": "stream",
     "text": [
      "\r",
      "213it [00:19,  5.10it/s]"
     ]
    },
    {
     "name": "stdout",
     "output_type": "stream",
     "text": [
      "num of crops 1, out of 1 lice\n"
     ]
    },
    {
     "name": "stderr",
     "output_type": "stream",
     "text": [
      "225it [00:20,  8.00it/s]"
     ]
    },
    {
     "name": "stdout",
     "output_type": "stream",
     "text": [
      "num of crops 1, out of 1 lice\n",
      "num of crops 1, out of 1 lice\n"
     ]
    },
    {
     "name": "stderr",
     "output_type": "stream",
     "text": [
      "\r",
      "230it [00:20,  8.15it/s]"
     ]
    },
    {
     "name": "stdout",
     "output_type": "stream",
     "text": [
      "num of crops 1, out of 1 lice\n",
      "num of crops 1, out of 1 lice\n"
     ]
    },
    {
     "name": "stderr",
     "output_type": "stream",
     "text": [
      "\r",
      "238it [00:21,  9.08it/s]"
     ]
    },
    {
     "name": "stdout",
     "output_type": "stream",
     "text": [
      "num of crops 1, out of 1 lice\n",
      "num of crops 1, out of 2 lice\n"
     ]
    },
    {
     "name": "stderr",
     "output_type": "stream",
     "text": [
      "246it [00:22, 10.29it/s]"
     ]
    },
    {
     "name": "stdout",
     "output_type": "stream",
     "text": [
      "num of crops 1, out of 2 lice\n",
      "num of crops 1, out of 1 lice\n",
      "num of crops 2, out of 2 lice\n",
      "num of crops 1, out of 1 lice\n"
     ]
    },
    {
     "name": "stderr",
     "output_type": "stream",
     "text": [
      "\r",
      "253it [00:22, 13.36it/s]"
     ]
    },
    {
     "name": "stdout",
     "output_type": "stream",
     "text": [
      "num of crops 2, out of 2 lice\n",
      "num of crops 1, out of 1 lice\n"
     ]
    },
    {
     "name": "stderr",
     "output_type": "stream",
     "text": [
      "\r",
      "256it [00:23,  5.80it/s]"
     ]
    },
    {
     "name": "stdout",
     "output_type": "stream",
     "text": [
      "num of crops 1, out of 2 lice\n",
      "num of crops 2, out of 3 lice\n"
     ]
    },
    {
     "name": "stderr",
     "output_type": "stream",
     "text": [
      "\r",
      "258it [00:24,  4.27it/s]"
     ]
    },
    {
     "name": "stdout",
     "output_type": "stream",
     "text": [
      "num of crops 1, out of 2 lice\n",
      "num of crops 1, out of 1 lice\n"
     ]
    },
    {
     "name": "stderr",
     "output_type": "stream",
     "text": [
      "\r",
      "261it [00:24,  4.34it/s]"
     ]
    },
    {
     "name": "stdout",
     "output_type": "stream",
     "text": [
      "num of crops 1, out of 1 lice\n"
     ]
    },
    {
     "name": "stderr",
     "output_type": "stream",
     "text": [
      "\r",
      "263it [00:25,  3.65it/s]"
     ]
    },
    {
     "name": "stdout",
     "output_type": "stream",
     "text": [
      "num of crops 1, out of 1 lice\n",
      "num of crops 1, out of 1 lice\n",
      "num of crops 1, out of 1 lice\n"
     ]
    },
    {
     "name": "stderr",
     "output_type": "stream",
     "text": [
      "\r",
      "273it [00:26,  4.75it/s]"
     ]
    },
    {
     "name": "stdout",
     "output_type": "stream",
     "text": [
      "num of crops 1, out of 1 lice\n",
      "num of crops 1, out of 1 lice\n",
      "num of crops 1, out of 1 lice\n",
      "num of crops 2, out of 2 lice\n"
     ]
    },
    {
     "name": "stderr",
     "output_type": "stream",
     "text": [
      "291it [00:26,  8.84it/s]"
     ]
    },
    {
     "name": "stdout",
     "output_type": "stream",
     "text": [
      "num of crops 2, out of 4 lice\n",
      "num of crops 2, out of 2 lice\n"
     ]
    },
    {
     "name": "stderr",
     "output_type": "stream",
     "text": [
      "\r",
      "297it [00:27,  8.23it/s]"
     ]
    },
    {
     "name": "stdout",
     "output_type": "stream",
     "text": [
      "num of crops 2, out of 2 lice\n"
     ]
    },
    {
     "name": "stderr",
     "output_type": "stream",
     "text": [
      "\r",
      "300it [00:28,  6.39it/s]"
     ]
    },
    {
     "name": "stdout",
     "output_type": "stream",
     "text": [
      "num of crops 1, out of 1 lice\n",
      "num of crops 1, out of 1 lice\n",
      "num of crops 1, out of 1 lice\n"
     ]
    },
    {
     "name": "stderr",
     "output_type": "stream",
     "text": [
      "306it [00:29,  3.63it/s]"
     ]
    },
    {
     "name": "stdout",
     "output_type": "stream",
     "text": [
      "num of crops 1, out of 1 lice\n"
     ]
    },
    {
     "name": "stderr",
     "output_type": "stream",
     "text": [
      "\r",
      "308it [00:30,  2.89it/s]"
     ]
    },
    {
     "name": "stdout",
     "output_type": "stream",
     "text": [
      "num of crops 1, out of 1 lice\n"
     ]
    },
    {
     "name": "stderr",
     "output_type": "stream",
     "text": [
      "316it [00:31,  2.78it/s]"
     ]
    },
    {
     "name": "stdout",
     "output_type": "stream",
     "text": [
      "num of crops 1, out of 1 lice\n",
      "num of crops 1, out of 1 lice\n",
      "num of crops 2, out of 2 lice\n"
     ]
    },
    {
     "name": "stderr",
     "output_type": "stream",
     "text": [
      "\r",
      "318it [00:32,  2.61it/s]"
     ]
    },
    {
     "name": "stdout",
     "output_type": "stream",
     "text": [
      "num of crops 1, out of 2 lice\n",
      "num of crops 2, out of 2 lice\n",
      "num of crops 2, out of 2 lice\n"
     ]
    },
    {
     "name": "stderr",
     "output_type": "stream",
     "text": [
      "324it [00:33,  3.96it/s]"
     ]
    },
    {
     "name": "stdout",
     "output_type": "stream",
     "text": [
      "num of crops 1, out of 1 lice\n",
      "num of crops 1, out of 1 lice\n",
      "num of crops 1, out of 1 lice\n"
     ]
    },
    {
     "name": "stderr",
     "output_type": "stream",
     "text": [
      "\r",
      "326it [00:35,  2.69it/s]"
     ]
    },
    {
     "name": "stdout",
     "output_type": "stream",
     "text": [
      "num of crops 1, out of 1 lice\n"
     ]
    },
    {
     "name": "stderr",
     "output_type": "stream",
     "text": [
      "\r",
      "327it [00:36,  1.63it/s]"
     ]
    },
    {
     "name": "stdout",
     "output_type": "stream",
     "text": [
      "num of crops 1, out of 1 lice\n",
      "num of crops 1, out of 3 lice\n"
     ]
    },
    {
     "name": "stderr",
     "output_type": "stream",
     "text": [
      "335it [00:38,  2.61it/s]"
     ]
    },
    {
     "name": "stdout",
     "output_type": "stream",
     "text": [
      "num of crops 1, out of 1 lice\n",
      "num of crops 2, out of 2 lice\n",
      "num of crops 1, out of 1 lice\n"
     ]
    },
    {
     "name": "stderr",
     "output_type": "stream",
     "text": [
      "\r",
      "338it [00:38,  3.60it/s]"
     ]
    },
    {
     "name": "stdout",
     "output_type": "stream",
     "text": [
      "num of crops 1, out of 1 lice\n"
     ]
    },
    {
     "name": "stderr",
     "output_type": "stream",
     "text": [
      "349it [00:40,  4.07it/s]"
     ]
    },
    {
     "name": "stdout",
     "output_type": "stream",
     "text": [
      "num of crops 1, out of 1 lice\n",
      "num of crops 2, out of 2 lice\n",
      "num of crops 1, out of 1 lice\n"
     ]
    },
    {
     "name": "stderr",
     "output_type": "stream",
     "text": [
      "\r",
      "352it [00:41,  3.06it/s]"
     ]
    },
    {
     "name": "stdout",
     "output_type": "stream",
     "text": [
      "num of crops 1, out of 1 lice\n",
      "num of crops 1, out of 1 lice\n",
      "num of crops 2, out of 4 lice\n"
     ]
    },
    {
     "name": "stderr",
     "output_type": "stream",
     "text": [
      "363it [00:41,  5.78it/s]"
     ]
    },
    {
     "name": "stdout",
     "output_type": "stream",
     "text": [
      "num of crops 1, out of 1 lice\n",
      "num of crops 1, out of 1 lice\n",
      "num of crops 1, out of 1 lice\n"
     ]
    },
    {
     "name": "stderr",
     "output_type": "stream",
     "text": [
      "\r",
      "368it [00:43,  5.24it/s]"
     ]
    },
    {
     "name": "stdout",
     "output_type": "stream",
     "text": [
      "num of crops 1, out of 2 lice\n",
      "num of crops 1, out of 1 lice\n"
     ]
    },
    {
     "name": "stderr",
     "output_type": "stream",
     "text": [
      "\r",
      "371it [00:44,  3.12it/s]"
     ]
    },
    {
     "name": "stdout",
     "output_type": "stream",
     "text": [
      "num of crops 1, out of 1 lice\n",
      "num of crops 1, out of 1 lice\n"
     ]
    },
    {
     "name": "stderr",
     "output_type": "stream",
     "text": [
      "\r",
      "373it [00:48,  1.40it/s]"
     ]
    },
    {
     "name": "stdout",
     "output_type": "stream",
     "text": [
      "num of crops 1, out of 1 lice\n",
      "num of crops 1, out of 1 lice\n",
      "num of crops 1, out of 1 lice\n",
      "num of crops 1, out of 1 lice\n"
     ]
    },
    {
     "name": "stderr",
     "output_type": "stream",
     "text": [
      "\r",
      "384it [00:48,  1.99it/s]"
     ]
    },
    {
     "name": "stdout",
     "output_type": "stream",
     "text": [
      "num of crops 1, out of 1 lice\n",
      "num of crops 1, out of 1 lice\n"
     ]
    },
    {
     "name": "stderr",
     "output_type": "stream",
     "text": [
      "\r",
      "389it [00:51,  1.87it/s]"
     ]
    },
    {
     "name": "stdout",
     "output_type": "stream",
     "text": [
      "num of crops 1, out of 1 lice\n"
     ]
    },
    {
     "name": "stderr",
     "output_type": "stream",
     "text": [
      "\r",
      "397it [00:53,  2.18it/s]"
     ]
    },
    {
     "name": "stdout",
     "output_type": "stream",
     "text": [
      "num of crops 1, out of 1 lice\n",
      "num of crops 1, out of 1 lice\n"
     ]
    },
    {
     "name": "stderr",
     "output_type": "stream",
     "text": [
      "\r",
      "403it [00:55,  2.53it/s]"
     ]
    },
    {
     "name": "stdout",
     "output_type": "stream",
     "text": [
      "num of crops 1, out of 1 lice\n"
     ]
    },
    {
     "name": "stderr",
     "output_type": "stream",
     "text": [
      "\r",
      "405it [00:58,  1.40it/s]"
     ]
    },
    {
     "name": "stdout",
     "output_type": "stream",
     "text": [
      "num of crops 1, out of 1 lice\n"
     ]
    },
    {
     "name": "stderr",
     "output_type": "stream",
     "text": [
      "\r",
      "407it [01:01,  1.00s/it]"
     ]
    },
    {
     "name": "stdout",
     "output_type": "stream",
     "text": [
      "num of crops 1, out of 1 lice\n",
      "num of crops 2, out of 2 lice\n",
      "num of crops 1, out of 1 lice\n"
     ]
    },
    {
     "name": "stderr",
     "output_type": "stream",
     "text": [
      "411it [01:01,  1.91it/s]"
     ]
    },
    {
     "name": "stdout",
     "output_type": "stream",
     "text": [
      "num of crops 2, out of 4 lice\n"
     ]
    },
    {
     "name": "stderr",
     "output_type": "stream",
     "text": [
      "417it [01:03,  2.13it/s]"
     ]
    },
    {
     "name": "stdout",
     "output_type": "stream",
     "text": [
      "num of crops 1, out of 1 lice\n",
      "num of crops 1, out of 1 lice\n",
      "num of crops 2, out of 2 lice\n"
     ]
    },
    {
     "name": "stderr",
     "output_type": "stream",
     "text": [
      "\r",
      "420it [01:05,  1.82it/s]"
     ]
    },
    {
     "name": "stdout",
     "output_type": "stream",
     "text": [
      "num of crops 1, out of 1 lice\n",
      "num of crops 1, out of 1 lice\n"
     ]
    },
    {
     "name": "stderr",
     "output_type": "stream",
     "text": [
      "\r",
      "427it [01:08,  1.94it/s]"
     ]
    },
    {
     "name": "stdout",
     "output_type": "stream",
     "text": [
      "num of crops 1, out of 1 lice\n",
      "num of crops 1, out of 1 lice\n",
      "num of crops 2, out of 2 lice\n",
      "num of crops 2, out of 2 lice\n"
     ]
    },
    {
     "name": "stderr",
     "output_type": "stream",
     "text": [
      "437it [01:11,  1.52it/s]"
     ]
    },
    {
     "name": "stdout",
     "output_type": "stream",
     "text": [
      "num of crops 1, out of 1 lice\n",
      "num of crops 1, out of 1 lice\n"
     ]
    },
    {
     "name": "stderr",
     "output_type": "stream",
     "text": [
      "\r",
      "439it [01:13,  1.49it/s]"
     ]
    },
    {
     "name": "stdout",
     "output_type": "stream",
     "text": [
      "num of crops 2, out of 2 lice\n"
     ]
    },
    {
     "name": "stderr",
     "output_type": "stream",
     "text": [
      "\r",
      "442it [01:17,  1.12it/s]"
     ]
    },
    {
     "name": "stdout",
     "output_type": "stream",
     "text": [
      "num of crops 1, out of 1 lice\n"
     ]
    },
    {
     "name": "stderr",
     "output_type": "stream",
     "text": [
      "450it [01:19,  1.28it/s]"
     ]
    },
    {
     "name": "stdout",
     "output_type": "stream",
     "text": [
      "num of crops 1, out of 1 lice\n",
      "num of crops 1, out of 2 lice\n",
      "num of crops 1, out of 1 lice\n",
      "num of crops 1, out of 1 lice\n"
     ]
    },
    {
     "name": "stderr",
     "output_type": "stream",
     "text": [
      "\r",
      "453it [01:20,  1.42it/s]"
     ]
    },
    {
     "name": "stdout",
     "output_type": "stream",
     "text": [
      "num of crops 2, out of 2 lice\n"
     ]
    },
    {
     "name": "stderr",
     "output_type": "stream",
     "text": [
      "\r",
      "455it [01:22,  1.43it/s]"
     ]
    },
    {
     "name": "stdout",
     "output_type": "stream",
     "text": [
      "num of crops 1, out of 1 lice\n"
     ]
    },
    {
     "name": "stderr",
     "output_type": "stream",
     "text": [
      "\r",
      "459it [01:24,  1.52it/s]"
     ]
    },
    {
     "name": "stdout",
     "output_type": "stream",
     "text": [
      "num of crops 1, out of 1 lice\n",
      "num of crops 2, out of 2 lice\n"
     ]
    },
    {
     "name": "stderr",
     "output_type": "stream",
     "text": [
      "462it [01:26,  1.83it/s]"
     ]
    },
    {
     "name": "stdout",
     "output_type": "stream",
     "text": [
      "num of crops 1, out of 2 lice\n",
      "num of crops 2, out of 2 lice\n",
      "num of crops 1, out of 1 lice\n"
     ]
    },
    {
     "name": "stderr",
     "output_type": "stream",
     "text": [
      "476it [01:27,  3.14it/s]"
     ]
    },
    {
     "name": "stdout",
     "output_type": "stream",
     "text": [
      "num of crops 1, out of 1 lice\n",
      "num of crops 1, out of 1 lice\n",
      "num of crops 1, out of 1 lice\n",
      "num of crops 1, out of 1 lice\n"
     ]
    },
    {
     "name": "stderr",
     "output_type": "stream",
     "text": [
      "\r",
      "480it [01:28,  4.32it/s]"
     ]
    },
    {
     "name": "stdout",
     "output_type": "stream",
     "text": [
      "num of crops 1, out of 1 lice\n"
     ]
    },
    {
     "name": "stderr",
     "output_type": "stream",
     "text": [
      "\r",
      "483it [01:30,  2.43it/s]"
     ]
    },
    {
     "name": "stdout",
     "output_type": "stream",
     "text": [
      "num of crops 1, out of 2 lice\n",
      "num of crops 1, out of 1 lice\n",
      "num of crops 1, out of 1 lice\n"
     ]
    },
    {
     "name": "stderr",
     "output_type": "stream",
     "text": [
      "491it [01:30,  4.51it/s]"
     ]
    },
    {
     "name": "stdout",
     "output_type": "stream",
     "text": [
      "num of crops 1, out of 1 lice\n",
      "num of crops 2, out of 2 lice\n"
     ]
    },
    {
     "name": "stderr",
     "output_type": "stream",
     "text": [
      "497it [01:31,  7.94it/s]"
     ]
    },
    {
     "name": "stdout",
     "output_type": "stream",
     "text": [
      "num of crops 1, out of 2 lice\n",
      "num of crops 1, out of 3 lice\n"
     ]
    },
    {
     "name": "stderr",
     "output_type": "stream",
     "text": [
      "\r",
      "500it [01:32,  4.88it/s]"
     ]
    },
    {
     "name": "stdout",
     "output_type": "stream",
     "text": [
      "num of crops 1, out of 1 lice\n"
     ]
    },
    {
     "name": "stderr",
     "output_type": "stream",
     "text": [
      "506it [01:33,  3.95it/s]"
     ]
    },
    {
     "name": "stdout",
     "output_type": "stream",
     "text": [
      "num of crops 1, out of 2 lice\n",
      "num of crops 1, out of 1 lice\n",
      "num of crops 1, out of 1 lice\n",
      "num of crops 1, out of 1 lice\n"
     ]
    },
    {
     "name": "stderr",
     "output_type": "stream",
     "text": [
      "\r",
      "509it [01:35,  3.16it/s]"
     ]
    },
    {
     "name": "stdout",
     "output_type": "stream",
     "text": [
      "num of crops 1, out of 1 lice\n",
      "num of crops 1, out of 1 lice\n"
     ]
    },
    {
     "name": "stderr",
     "output_type": "stream",
     "text": [
      "514it [01:36,  3.68it/s]"
     ]
    },
    {
     "name": "stdout",
     "output_type": "stream",
     "text": [
      "num of crops 1, out of 1 lice\n",
      "num of crops 3, out of 3 lice\n",
      "num of crops 1, out of 1 lice\n"
     ]
    },
    {
     "name": "stderr",
     "output_type": "stream",
     "text": [
      "\r",
      "516it [01:41,  1.05it/s]"
     ]
    },
    {
     "name": "stdout",
     "output_type": "stream",
     "text": [
      "num of crops 1, out of 1 lice\n"
     ]
    },
    {
     "name": "stderr",
     "output_type": "stream",
     "text": [
      "\r",
      "517it [01:43,  1.10s/it]"
     ]
    },
    {
     "name": "stdout",
     "output_type": "stream",
     "text": [
      "num of crops 1, out of 1 lice\n",
      "num of crops 2, out of 3 lice\n"
     ]
    },
    {
     "name": "stderr",
     "output_type": "stream",
     "text": [
      "\r",
      "527it [01:44,  1.22it/s]"
     ]
    },
    {
     "name": "stdout",
     "output_type": "stream",
     "text": [
      "num of crops 1, out of 1 lice\n",
      "num of crops 2, out of 2 lice\n"
     ]
    },
    {
     "name": "stderr",
     "output_type": "stream",
     "text": [
      "531it [01:45,  2.22it/s]"
     ]
    },
    {
     "name": "stdout",
     "output_type": "stream",
     "text": [
      "num of crops 2, out of 2 lice\n",
      "num of crops 1, out of 1 lice\n",
      "num of crops 2, out of 3 lice\n"
     ]
    },
    {
     "name": "stderr",
     "output_type": "stream",
     "text": [
      "541it [01:45,  4.22it/s]"
     ]
    },
    {
     "name": "stdout",
     "output_type": "stream",
     "text": [
      "num of crops 2, out of 4 lice\n",
      "num of crops 1, out of 1 lice\n"
     ]
    },
    {
     "name": "stderr",
     "output_type": "stream",
     "text": [
      "546it [01:47,  4.04it/s]"
     ]
    },
    {
     "name": "stdout",
     "output_type": "stream",
     "text": [
      "num of crops 1, out of 2 lice\n",
      "num of crops 2, out of 3 lice\n",
      "num of crops 1, out of 2 lice\n"
     ]
    },
    {
     "name": "stderr",
     "output_type": "stream",
     "text": [
      "\r",
      "552it [01:49,  3.68it/s]"
     ]
    },
    {
     "name": "stdout",
     "output_type": "stream",
     "text": [
      "num of crops 1, out of 1 lice\n"
     ]
    },
    {
     "name": "stderr",
     "output_type": "stream",
     "text": [
      "\r",
      "554it [01:51,  2.03it/s]"
     ]
    },
    {
     "name": "stdout",
     "output_type": "stream",
     "text": [
      "num of crops 1, out of 1 lice\n"
     ]
    },
    {
     "name": "stderr",
     "output_type": "stream",
     "text": [
      "\r",
      "555it [01:53,  1.02s/it]"
     ]
    },
    {
     "name": "stdout",
     "output_type": "stream",
     "text": [
      "num of crops 1, out of 1 lice\n"
     ]
    },
    {
     "name": "stderr",
     "output_type": "stream",
     "text": [
      "\r",
      "559it [01:55,  1.16it/s]"
     ]
    },
    {
     "name": "stdout",
     "output_type": "stream",
     "text": [
      "num of crops 1, out of 2 lice\n",
      "num of crops 1, out of 2 lice\n",
      "num of crops 1, out of 1 lice\n",
      "num of crops 2, out of 2 lice\n"
     ]
    },
    {
     "name": "stderr",
     "output_type": "stream",
     "text": [
      "568it [01:55,  2.26it/s]"
     ]
    },
    {
     "name": "stdout",
     "output_type": "stream",
     "text": [
      "num of crops 1, out of 1 lice\n",
      "num of crops 4, out of 6 lice\n",
      "num of crops 1, out of 1 lice\n"
     ]
    },
    {
     "name": "stderr",
     "output_type": "stream",
     "text": [
      "582it [01:57,  3.82it/s]"
     ]
    },
    {
     "name": "stdout",
     "output_type": "stream",
     "text": [
      "num of crops 1, out of 1 lice\n",
      "num of crops 1, out of 1 lice\n",
      "num of crops 2, out of 2 lice\n"
     ]
    },
    {
     "name": "stderr",
     "output_type": "stream",
     "text": [
      "\r",
      "586it [01:57,  5.19it/s]"
     ]
    },
    {
     "name": "stdout",
     "output_type": "stream",
     "text": [
      "num of crops 1, out of 1 lice\n",
      "num of crops 3, out of 3 lice\n"
     ]
    },
    {
     "name": "stderr",
     "output_type": "stream",
     "text": [
      "590it [01:59,  3.30it/s]"
     ]
    },
    {
     "name": "stdout",
     "output_type": "stream",
     "text": [
      "num of crops 1, out of 1 lice\n"
     ]
    },
    {
     "name": "stderr",
     "output_type": "stream",
     "text": [
      "\r",
      "592it [02:00,  2.10it/s]"
     ]
    },
    {
     "name": "stdout",
     "output_type": "stream",
     "text": [
      "num of crops 1, out of 1 lice\n"
     ]
    },
    {
     "name": "stderr",
     "output_type": "stream",
     "text": [
      "\r",
      "593it [02:02,  1.20it/s]"
     ]
    },
    {
     "name": "stdout",
     "output_type": "stream",
     "text": [
      "num of crops 1, out of 1 lice\n"
     ]
    },
    {
     "name": "stderr",
     "output_type": "stream",
     "text": [
      "\r",
      "594it [02:04,  1.18s/it]"
     ]
    },
    {
     "name": "stdout",
     "output_type": "stream",
     "text": [
      "num of crops 1, out of 2 lice\n",
      "num of crops 1, out of 3 lice\n",
      "num of crops 1, out of 2 lice\n"
     ]
    },
    {
     "name": "stderr",
     "output_type": "stream",
     "text": [
      "599it [02:04,  1.66it/s]"
     ]
    },
    {
     "name": "stdout",
     "output_type": "stream",
     "text": [
      "num of crops 1, out of 1 lice\n",
      "num of crops 1, out of 1 lice\n"
     ]
    },
    {
     "name": "stderr",
     "output_type": "stream",
     "text": [
      "\r",
      "601it [02:05,  1.68it/s]"
     ]
    },
    {
     "name": "stdout",
     "output_type": "stream",
     "text": [
      "num of crops 1, out of 1 lice\n",
      "num of crops 1, out of 1 lice\n",
      "num of crops 1, out of 1 lice\n"
     ]
    },
    {
     "name": "stderr",
     "output_type": "stream",
     "text": [
      "\r",
      "608it [02:06,  2.15it/s]"
     ]
    },
    {
     "name": "stdout",
     "output_type": "stream",
     "text": [
      "num of crops 1, out of 1 lice\n"
     ]
    },
    {
     "name": "stderr",
     "output_type": "stream",
     "text": [
      "611it [02:08,  2.18it/s]"
     ]
    },
    {
     "name": "stdout",
     "output_type": "stream",
     "text": [
      "num of crops 1, out of 1 lice\n",
      "num of crops 1, out of 1 lice\n"
     ]
    },
    {
     "name": "stderr",
     "output_type": "stream",
     "text": [
      "\r",
      "612it [02:09,  1.32it/s]"
     ]
    },
    {
     "name": "stdout",
     "output_type": "stream",
     "text": [
      "num of crops 1, out of 2 lice\n"
     ]
    },
    {
     "name": "stderr",
     "output_type": "stream",
     "text": [
      "\r",
      "615it [02:11,  1.38it/s]"
     ]
    },
    {
     "name": "stdout",
     "output_type": "stream",
     "text": [
      "num of crops 2, out of 2 lice\n",
      "num of crops 1, out of 1 lice\n",
      "num of crops 1, out of 1 lice\n"
     ]
    },
    {
     "name": "stderr",
     "output_type": "stream",
     "text": [
      "622it [02:13,  2.12it/s]"
     ]
    },
    {
     "name": "stdout",
     "output_type": "stream",
     "text": [
      "num of crops 1, out of 1 lice\n",
      "num of crops 1, out of 1 lice\n",
      "num of crops 2, out of 3 lice\n",
      "num of crops 1, out of 1 lice\n"
     ]
    },
    {
     "name": "stderr",
     "output_type": "stream",
     "text": [
      "\r",
      "627it [02:13,  2.92it/s]"
     ]
    },
    {
     "name": "stdout",
     "output_type": "stream",
     "text": [
      "num of crops 1, out of 1 lice\n",
      "num of crops 3, out of 3 lice\n",
      "num of crops 1, out of 1 lice\n"
     ]
    },
    {
     "name": "stderr",
     "output_type": "stream",
     "text": [
      "\r",
      "629it [02:15,  2.08it/s]"
     ]
    },
    {
     "name": "stdout",
     "output_type": "stream",
     "text": [
      "num of crops 1, out of 1 lice\n",
      "num of crops 1, out of 1 lice\n"
     ]
    },
    {
     "name": "stderr",
     "output_type": "stream",
     "text": [
      "\r",
      "634it [02:16,  2.37it/s]"
     ]
    },
    {
     "name": "stdout",
     "output_type": "stream",
     "text": [
      "num of crops 1, out of 1 lice\n"
     ]
    },
    {
     "name": "stderr",
     "output_type": "stream",
     "text": [
      "\r",
      "635it [02:19,  1.00it/s]"
     ]
    },
    {
     "name": "stdout",
     "output_type": "stream",
     "text": [
      "num of crops 2, out of 2 lice\n"
     ]
    },
    {
     "name": "stderr",
     "output_type": "stream",
     "text": [
      "\r",
      "637it [02:21,  1.07s/it]"
     ]
    },
    {
     "name": "stdout",
     "output_type": "stream",
     "text": [
      "num of crops 2, out of 2 lice\n",
      "num of crops 3, out of 4 lice\n"
     ]
    },
    {
     "name": "stderr",
     "output_type": "stream",
     "text": [
      "\r",
      "638it [02:21,  1.27it/s]"
     ]
    },
    {
     "name": "stdout",
     "output_type": "stream",
     "text": [
      "num of crops 1, out of 1 lice\n"
     ]
    },
    {
     "name": "stderr",
     "output_type": "stream",
     "text": [
      "\r",
      "642it [02:23,  1.50it/s]"
     ]
    },
    {
     "name": "stdout",
     "output_type": "stream",
     "text": [
      "num of crops 1, out of 2 lice\n"
     ]
    },
    {
     "name": "stderr",
     "output_type": "stream",
     "text": [
      "\r",
      "643it [02:24,  1.37it/s]"
     ]
    },
    {
     "name": "stdout",
     "output_type": "stream",
     "text": [
      "num of crops 1, out of 1 lice\n",
      "num of crops 2, out of 5 lice\n",
      "num of crops 1, out of 2 lice\n"
     ]
    },
    {
     "name": "stderr",
     "output_type": "stream",
     "text": [
      "650it [02:24,  2.59it/s]"
     ]
    },
    {
     "name": "stdout",
     "output_type": "stream",
     "text": [
      "num of crops 2, out of 3 lice\n",
      "num of crops 1, out of 1 lice\n",
      "num of crops 1, out of 1 lice\n"
     ]
    },
    {
     "name": "stderr",
     "output_type": "stream",
     "text": [
      "\r",
      "652it [02:26,  1.72it/s]"
     ]
    },
    {
     "name": "stdout",
     "output_type": "stream",
     "text": [
      "num of crops 1, out of 1 lice\n",
      "num of crops 1, out of 1 lice\n",
      "num of crops 1, out of 2 lice\n"
     ]
    },
    {
     "name": "stderr",
     "output_type": "stream",
     "text": [
      "\r",
      "655it [02:28,  1.83it/s]"
     ]
    },
    {
     "name": "stdout",
     "output_type": "stream",
     "text": [
      "num of crops 1, out of 2 lice\n"
     ]
    },
    {
     "name": "stderr",
     "output_type": "stream",
     "text": [
      "\r",
      "658it [02:29,  1.80it/s]"
     ]
    },
    {
     "name": "stdout",
     "output_type": "stream",
     "text": [
      "num of crops 1, out of 1 lice\n"
     ]
    },
    {
     "name": "stderr",
     "output_type": "stream",
     "text": [
      "\r",
      "660it [02:31,  1.70it/s]"
     ]
    },
    {
     "name": "stdout",
     "output_type": "stream",
     "text": [
      "num of crops 1, out of 1 lice\n"
     ]
    },
    {
     "name": "stderr",
     "output_type": "stream",
     "text": [
      "\r",
      "664it [02:32,  1.91it/s]"
     ]
    },
    {
     "name": "stdout",
     "output_type": "stream",
     "text": [
      "num of crops 1, out of 1 lice\n",
      "num of crops 1, out of 1 lice\n"
     ]
    },
    {
     "name": "stderr",
     "output_type": "stream",
     "text": [
      "\r",
      "668it [02:34,  2.02it/s]"
     ]
    },
    {
     "name": "stdout",
     "output_type": "stream",
     "text": [
      "num of crops 1, out of 1 lice\n",
      "num of crops 1, out of 1 lice\n"
     ]
    },
    {
     "name": "stderr",
     "output_type": "stream",
     "text": [
      "670it [02:36,  1.24it/s]"
     ]
    },
    {
     "name": "stdout",
     "output_type": "stream",
     "text": [
      "num of crops 1, out of 1 lice\n"
     ]
    },
    {
     "name": "stderr",
     "output_type": "stream",
     "text": [
      "\r",
      "671it [02:37,  1.01s/it]"
     ]
    },
    {
     "name": "stdout",
     "output_type": "stream",
     "text": [
      "num of crops 1, out of 1 lice\n"
     ]
    },
    {
     "name": "stderr",
     "output_type": "stream",
     "text": [
      "\r",
      "674it [02:38,  1.24it/s]"
     ]
    },
    {
     "name": "stdout",
     "output_type": "stream",
     "text": [
      "num of crops 1, out of 1 lice\n",
      "num of crops 1, out of 2 lice\n"
     ]
    },
    {
     "name": "stderr",
     "output_type": "stream",
     "text": [
      "\r",
      "676it [02:40,  1.21it/s]"
     ]
    },
    {
     "name": "stdout",
     "output_type": "stream",
     "text": [
      "num of crops 1, out of 2 lice\n",
      "num of crops 1, out of 1 lice\n"
     ]
    },
    {
     "name": "stderr",
     "output_type": "stream",
     "text": [
      "\r",
      "679it [02:41,  1.42it/s]"
     ]
    },
    {
     "name": "stdout",
     "output_type": "stream",
     "text": [
      "num of crops 1, out of 1 lice\n",
      "num of crops 1, out of 1 lice\n"
     ]
    },
    {
     "name": "stderr",
     "output_type": "stream",
     "text": [
      "\r",
      "681it [02:43,  1.43it/s]"
     ]
    },
    {
     "name": "stdout",
     "output_type": "stream",
     "text": [
      "num of crops 2, out of 2 lice\n",
      "num of crops 1, out of 1 lice\n"
     ]
    },
    {
     "name": "stderr",
     "output_type": "stream",
     "text": [
      "\r",
      "683it [02:44,  1.54it/s]"
     ]
    },
    {
     "name": "stdout",
     "output_type": "stream",
     "text": [
      "num of crops 1, out of 1 lice\n"
     ]
    },
    {
     "name": "stderr",
     "output_type": "stream",
     "text": [
      "\r",
      "684it [02:45,  1.26it/s]"
     ]
    },
    {
     "name": "stdout",
     "output_type": "stream",
     "text": [
      "num of crops 1, out of 1 lice\n",
      "num of crops 1, out of 2 lice\n",
      "num of crops 1, out of 1 lice\n",
      "num of crops 2, out of 2 lice\n"
     ]
    },
    {
     "name": "stderr",
     "output_type": "stream",
     "text": [
      "689it [02:47,  1.02it/s]"
     ]
    },
    {
     "name": "stdout",
     "output_type": "stream",
     "text": [
      "num of crops 1, out of 1 lice\n"
     ]
    },
    {
     "name": "stderr",
     "output_type": "stream",
     "text": [
      "\r",
      "690it [02:48,  1.01it/s]"
     ]
    },
    {
     "name": "stdout",
     "output_type": "stream",
     "text": [
      "num of crops 1, out of 1 lice\n",
      "num of crops 1, out of 1 lice\n"
     ]
    },
    {
     "name": "stderr",
     "output_type": "stream",
     "text": [
      "697it [02:54,  1.09s/it]"
     ]
    },
    {
     "name": "stdout",
     "output_type": "stream",
     "text": [
      "num of crops 1, out of 1 lice\n",
      "num of crops 1, out of 1 lice\n"
     ]
    },
    {
     "name": "stderr",
     "output_type": "stream",
     "text": [
      "\r",
      "704it [02:57,  1.17it/s]"
     ]
    },
    {
     "name": "stdout",
     "output_type": "stream",
     "text": [
      "num of crops 1, out of 2 lice\n",
      "num of crops 2, out of 3 lice\n"
     ]
    },
    {
     "name": "stderr",
     "output_type": "stream",
     "text": [
      "\r",
      "706it [02:58,  1.24it/s]"
     ]
    },
    {
     "name": "stdout",
     "output_type": "stream",
     "text": [
      "num of crops 1, out of 1 lice\n",
      "num of crops 1, out of 1 lice\n",
      "num of crops 3, out of 3 lice\n"
     ]
    },
    {
     "name": "stderr",
     "output_type": "stream",
     "text": [
      "712it [02:58,  2.36it/s]"
     ]
    },
    {
     "name": "stdout",
     "output_type": "stream",
     "text": [
      "num of crops 2, out of 2 lice\n"
     ]
    },
    {
     "name": "stderr",
     "output_type": "stream",
     "text": [
      "717it [03:00,  3.04it/s]"
     ]
    },
    {
     "name": "stdout",
     "output_type": "stream",
     "text": [
      "num of crops 1, out of 2 lice\n",
      "num of crops 2, out of 2 lice\n",
      "num of crops 1, out of 3 lice\n"
     ]
    },
    {
     "name": "stderr",
     "output_type": "stream",
     "text": [
      "\r",
      "722it [03:02,  2.96it/s]"
     ]
    },
    {
     "name": "stdout",
     "output_type": "stream",
     "text": [
      "num of crops 2, out of 2 lice\n"
     ]
    },
    {
     "name": "stderr",
     "output_type": "stream",
     "text": [
      "\r",
      "726it [03:03,  2.76it/s]"
     ]
    },
    {
     "name": "stdout",
     "output_type": "stream",
     "text": [
      "num of crops 1, out of 1 lice\n"
     ]
    },
    {
     "name": "stderr",
     "output_type": "stream",
     "text": [
      "732it [03:05,  3.63it/s]"
     ]
    },
    {
     "name": "stdout",
     "output_type": "stream",
     "text": [
      "num of crops 1, out of 1 lice\n",
      "num of crops 3, out of 6 lice\n",
      "num of crops 2, out of 3 lice\n"
     ]
    },
    {
     "name": "stderr",
     "output_type": "stream",
     "text": [
      "\r",
      "735it [03:06,  2.96it/s]"
     ]
    },
    {
     "name": "stdout",
     "output_type": "stream",
     "text": [
      "num of crops 1, out of 1 lice\n",
      "num of crops 1, out of 1 lice\n",
      "num of crops 2, out of 2 lice\n"
     ]
    },
    {
     "name": "stderr",
     "output_type": "stream",
     "text": [
      "749it [03:08,  3.38it/s]"
     ]
    },
    {
     "name": "stdout",
     "output_type": "stream",
     "text": [
      "num of crops 1, out of 1 lice\n",
      "num of crops 1, out of 1 lice\n",
      "num of crops 1, out of 1 lice\n"
     ]
    },
    {
     "name": "stderr",
     "output_type": "stream",
     "text": [
      "\r",
      "752it [03:10,  2.65it/s]"
     ]
    },
    {
     "name": "stdout",
     "output_type": "stream",
     "text": [
      "num of crops 2, out of 2 lice\n",
      "num of crops 1, out of 2 lice\n",
      "num of crops 1, out of 1 lice\n",
      "num of crops 1, out of 2 lice\n"
     ]
    },
    {
     "name": "stderr",
     "output_type": "stream",
     "text": [
      "\r",
      "759it [03:10,  3.71it/s]"
     ]
    },
    {
     "name": "stdout",
     "output_type": "stream",
     "text": [
      "num of crops 1, out of 2 lice\n"
     ]
    },
    {
     "name": "stderr",
     "output_type": "stream",
     "text": [
      "\r",
      "770it [03:12,  4.24it/s]"
     ]
    },
    {
     "name": "stdout",
     "output_type": "stream",
     "text": [
      "num of crops 1, out of 2 lice\n",
      "num of crops 1, out of 1 lice\n",
      "num of crops 2, out of 2 lice\n"
     ]
    },
    {
     "name": "stderr",
     "output_type": "stream",
     "text": [
      "\r",
      "773it [03:12,  5.46it/s]"
     ]
    },
    {
     "name": "stdout",
     "output_type": "stream",
     "text": [
      "num of crops 2, out of 3 lice\n",
      "num of crops 1, out of 1 lice\n"
     ]
    },
    {
     "name": "stderr",
     "output_type": "stream",
     "text": [
      "782it [03:14,  3.34it/s]"
     ]
    },
    {
     "name": "stdout",
     "output_type": "stream",
     "text": [
      "num of crops 1, out of 1 lice\n",
      "num of crops 1, out of 1 lice\n",
      "num of crops 3, out of 3 lice\n"
     ]
    },
    {
     "name": "stderr",
     "output_type": "stream",
     "text": [
      "790it [03:17,  2.45it/s]"
     ]
    },
    {
     "name": "stdout",
     "output_type": "stream",
     "text": [
      "num of crops 1, out of 1 lice\n",
      "num of crops 1, out of 1 lice\n"
     ]
    },
    {
     "name": "stderr",
     "output_type": "stream",
     "text": [
      "\r",
      "793it [03:18,  2.25it/s]"
     ]
    },
    {
     "name": "stdout",
     "output_type": "stream",
     "text": [
      "num of crops 1, out of 1 lice\n"
     ]
    },
    {
     "name": "stderr",
     "output_type": "stream",
     "text": [
      "\r",
      "795it [03:20,  1.92it/s]"
     ]
    },
    {
     "name": "stdout",
     "output_type": "stream",
     "text": [
      "num of crops 1, out of 1 lice\n",
      "num of crops 2, out of 2 lice\n"
     ]
    },
    {
     "name": "stderr",
     "output_type": "stream",
     "text": [
      "\r",
      "801it [03:22,  2.18it/s]"
     ]
    },
    {
     "name": "stdout",
     "output_type": "stream",
     "text": [
      "num of crops 1, out of 2 lice\n"
     ]
    },
    {
     "name": "stderr",
     "output_type": "stream",
     "text": [
      "\r",
      "804it [03:23,  2.06it/s]"
     ]
    },
    {
     "name": "stdout",
     "output_type": "stream",
     "text": [
      "num of crops 1, out of 1 lice\n",
      "num of crops 1, out of 1 lice\n",
      "num of crops 1, out of 1 lice\n"
     ]
    },
    {
     "name": "stderr",
     "output_type": "stream",
     "text": [
      "\r",
      "817it [03:24,  2.91it/s]"
     ]
    },
    {
     "name": "stdout",
     "output_type": "stream",
     "text": [
      "num of crops 1, out of 1 lice\n"
     ]
    },
    {
     "name": "stderr",
     "output_type": "stream",
     "text": [
      "\r",
      "821it [03:26,  2.48it/s]"
     ]
    },
    {
     "name": "stdout",
     "output_type": "stream",
     "text": [
      "num of crops 1, out of 1 lice\n"
     ]
    },
    {
     "name": "stderr",
     "output_type": "stream",
     "text": [
      "\r",
      "824it [03:27,  2.38it/s]"
     ]
    },
    {
     "name": "stdout",
     "output_type": "stream",
     "text": [
      "num of crops 1, out of 1 lice\n",
      "num of crops 1, out of 1 lice\n"
     ]
    },
    {
     "name": "stderr",
     "output_type": "stream",
     "text": [
      "\r",
      "826it [03:28,  2.20it/s]"
     ]
    },
    {
     "name": "stdout",
     "output_type": "stream",
     "text": [
      "num of crops 1, out of 1 lice\n",
      "num of crops 1, out of 1 lice\n"
     ]
    },
    {
     "name": "stderr",
     "output_type": "stream",
     "text": [
      "\r",
      "830it [03:29,  2.53it/s]"
     ]
    },
    {
     "name": "stdout",
     "output_type": "stream",
     "text": [
      "num of crops 1, out of 2 lice\n"
     ]
    },
    {
     "name": "stderr",
     "output_type": "stream",
     "text": [
      "834it [03:30,  2.36it/s]"
     ]
    },
    {
     "name": "stdout",
     "output_type": "stream",
     "text": [
      "num of crops 1, out of 1 lice\n",
      "num of crops 1, out of 1 lice\n",
      "num of crops 1, out of 1 lice\n",
      "num of crops 1, out of 1 lice\n",
      "num of crops 2, out of 3 lice\n"
     ]
    },
    {
     "name": "stderr",
     "output_type": "stream",
     "text": [
      "\r",
      "836it [03:31,  2.95it/s]"
     ]
    },
    {
     "name": "stdout",
     "output_type": "stream",
     "text": [
      "num of crops 1, out of 2 lice\n"
     ]
    },
    {
     "name": "stderr",
     "output_type": "stream",
     "text": [
      "\r",
      "839it [03:32,  2.73it/s]"
     ]
    },
    {
     "name": "stdout",
     "output_type": "stream",
     "text": [
      "num of crops 1, out of 2 lice\n"
     ]
    },
    {
     "name": "stderr",
     "output_type": "stream",
     "text": [
      "844it [03:33,  3.70it/s]"
     ]
    },
    {
     "name": "stdout",
     "output_type": "stream",
     "text": [
      "num of crops 1, out of 1 lice\n",
      "num of crops 1, out of 1 lice\n",
      "num of crops 2, out of 3 lice\n",
      "num of crops 1, out of 1 lice\n"
     ]
    },
    {
     "name": "stderr",
     "output_type": "stream",
     "text": [
      "\r",
      "848it [03:33,  5.00it/s]"
     ]
    },
    {
     "name": "stdout",
     "output_type": "stream",
     "text": [
      "num of crops 2, out of 2 lice\n",
      "num of crops 2, out of 2 lice\n"
     ]
    },
    {
     "name": "stderr",
     "output_type": "stream",
     "text": [
      "852it [03:33,  7.26it/s]"
     ]
    },
    {
     "name": "stdout",
     "output_type": "stream",
     "text": [
      "num of crops 2, out of 2 lice\n",
      "num of crops 1, out of 2 lice\n"
     ]
    },
    {
     "name": "stderr",
     "output_type": "stream",
     "text": [
      "860it [03:35,  4.70it/s]"
     ]
    },
    {
     "name": "stdout",
     "output_type": "stream",
     "text": [
      "num of crops 1, out of 1 lice\n",
      "num of crops 1, out of 1 lice\n",
      "num of crops 2, out of 2 lice\n",
      "num of crops 2, out of 2 lice\n"
     ]
    },
    {
     "name": "stderr",
     "output_type": "stream",
     "text": [
      "877it [03:35,  8.55it/s]"
     ]
    },
    {
     "name": "stdout",
     "output_type": "stream",
     "text": [
      "num of crops 1, out of 1 lice\n",
      "num of crops 1, out of 1 lice\n",
      "num of crops 2, out of 2 lice\n",
      "num of crops 1, out of 1 lice\n"
     ]
    },
    {
     "name": "stderr",
     "output_type": "stream",
     "text": [
      "\r",
      "886it [03:36,  8.28it/s]"
     ]
    },
    {
     "name": "stdout",
     "output_type": "stream",
     "text": [
      "num of crops 1, out of 1 lice\n",
      "num of crops 1, out of 1 lice\n"
     ]
    },
    {
     "name": "stderr",
     "output_type": "stream",
     "text": [
      "\r",
      "893it [03:37,  7.63it/s]"
     ]
    },
    {
     "name": "stdout",
     "output_type": "stream",
     "text": [
      "num of crops 1, out of 1 lice\n"
     ]
    },
    {
     "name": "stderr",
     "output_type": "stream",
     "text": [
      "\r",
      "896it [03:38,  5.06it/s]"
     ]
    },
    {
     "name": "stdout",
     "output_type": "stream",
     "text": [
      "num of crops 1, out of 1 lice\n"
     ]
    },
    {
     "name": "stderr",
     "output_type": "stream",
     "text": [
      "902it [03:40,  4.48it/s]"
     ]
    },
    {
     "name": "stdout",
     "output_type": "stream",
     "text": [
      "num of crops 1, out of 1 lice\n",
      "num of crops 2, out of 2 lice\n",
      "num of crops 1, out of 1 lice\n"
     ]
    },
    {
     "name": "stderr",
     "output_type": "stream",
     "text": [
      "\r",
      "905it [03:41,  3.90it/s]"
     ]
    },
    {
     "name": "stdout",
     "output_type": "stream",
     "text": [
      "num of crops 2, out of 2 lice\n",
      "num of crops 1, out of 2 lice\n",
      "num of crops 1, out of 1 lice\n"
     ]
    },
    {
     "name": "stderr",
     "output_type": "stream",
     "text": [
      "914it [03:41,  6.76it/s]"
     ]
    },
    {
     "name": "stdout",
     "output_type": "stream",
     "text": [
      "num of crops 2, out of 2 lice\n",
      "num of crops 1, out of 1 lice\n"
     ]
    },
    {
     "name": "stderr",
     "output_type": "stream",
     "text": [
      "923it [03:43,  7.97it/s]"
     ]
    },
    {
     "name": "stdout",
     "output_type": "stream",
     "text": [
      "num of crops 1, out of 1 lice\n",
      "num of crops 2, out of 2 lice\n",
      "num of crops 1, out of 1 lice\n"
     ]
    },
    {
     "name": "stderr",
     "output_type": "stream",
     "text": [
      "934it [03:44, 10.19it/s]"
     ]
    },
    {
     "name": "stdout",
     "output_type": "stream",
     "text": [
      "num of crops 1, out of 1 lice\n",
      "num of crops 1, out of 1 lice\n",
      "num of crops 1, out of 1 lice\n",
      "num of crops 1, out of 1 lice\n",
      "num of crops 1, out of 1 lice\n"
     ]
    },
    {
     "name": "stderr",
     "output_type": "stream",
     "text": [
      "939it [03:48,  1.68it/s]"
     ]
    },
    {
     "name": "stdout",
     "output_type": "stream",
     "text": [
      "num of crops 1, out of 1 lice\n",
      "num of crops 1, out of 1 lice\n",
      "num of crops 1, out of 1 lice\n",
      "num of crops 1, out of 1 lice\n"
     ]
    },
    {
     "name": "stderr",
     "output_type": "stream",
     "text": [
      "\r",
      "953it [03:49,  2.24it/s]"
     ]
    },
    {
     "name": "stdout",
     "output_type": "stream",
     "text": [
      "num of crops 1, out of 1 lice\n",
      "num of crops 1, out of 1 lice\n"
     ]
    },
    {
     "name": "stderr",
     "output_type": "stream",
     "text": [
      "\r",
      "959it [03:51,  2.57it/s]"
     ]
    },
    {
     "name": "stdout",
     "output_type": "stream",
     "text": [
      "num of crops 1, out of 1 lice\n"
     ]
    },
    {
     "name": "stderr",
     "output_type": "stream",
     "text": [
      "967it [03:53,  1.52it/s]"
     ]
    },
    {
     "name": "stdout",
     "output_type": "stream",
     "text": [
      "num of crops 1, out of 1 lice\n",
      "num of crops 2, out of 3 lice\n",
      "num of crops 1, out of 2 lice\n"
     ]
    },
    {
     "name": "stderr",
     "output_type": "stream",
     "text": [
      "\r",
      "970it [03:55,  1.62it/s]"
     ]
    },
    {
     "name": "stdout",
     "output_type": "stream",
     "text": [
      "num of crops 2, out of 2 lice\n",
      "num of crops 2, out of 3 lice\n",
      "num of crops 1, out of 2 lice\n",
      "num of crops 1, out of 1 lice\n"
     ]
    },
    {
     "name": "stderr",
     "output_type": "stream",
     "text": [
      "980it [03:55,  3.14it/s]"
     ]
    },
    {
     "name": "stdout",
     "output_type": "stream",
     "text": [
      "num of crops 1, out of 1 lice\n",
      "num of crops 2, out of 2 lice\n",
      "num of crops 1, out of 1 lice\n"
     ]
    },
    {
     "name": "stderr",
     "output_type": "stream",
     "text": [
      "\r",
      "983it [03:55,  4.11it/s]"
     ]
    },
    {
     "name": "stdout",
     "output_type": "stream",
     "text": [
      "num of crops 1, out of 1 lice\n",
      "num of crops 2, out of 3 lice\n",
      "num of crops 1, out of 1 lice\n"
     ]
    },
    {
     "name": "stderr",
     "output_type": "stream",
     "text": [
      "\r",
      "988it [03:56,  5.63it/s]"
     ]
    },
    {
     "name": "stdout",
     "output_type": "stream",
     "text": [
      "num of crops 1, out of 1 lice\n",
      "num of crops 1, out of 1 lice\n",
      "num of crops 1, out of 1 lice\n",
      "num of crops 1, out of 2 lice\n"
     ]
    },
    {
     "name": "stderr",
     "output_type": "stream",
     "text": [
      "1000it [03:56, 10.20it/s]"
     ]
    },
    {
     "name": "stdout",
     "output_type": "stream",
     "text": [
      "num of crops 2, out of 3 lice\n",
      "num of crops 1, out of 1 lice\n"
     ]
    },
    {
     "name": "stderr",
     "output_type": "stream",
     "text": [
      "\r",
      "1004it [03:58,  4.85it/s]"
     ]
    },
    {
     "name": "stdout",
     "output_type": "stream",
     "text": [
      "num of crops 2, out of 2 lice\n",
      "num of crops 1, out of 1 lice\n",
      "num of crops 1, out of 1 lice\n",
      "num of crops 2, out of 2 lice\n"
     ]
    },
    {
     "name": "stderr",
     "output_type": "stream",
     "text": [
      "1017it [03:58,  8.95it/s]"
     ]
    },
    {
     "name": "stdout",
     "output_type": "stream",
     "text": [
      "num of crops 2, out of 3 lice\n",
      "num of crops 1, out of 1 lice\n",
      "num of crops 1, out of 1 lice\n"
     ]
    },
    {
     "name": "stderr",
     "output_type": "stream",
     "text": [
      "\r",
      "1022it [03:58, 11.62it/s]"
     ]
    },
    {
     "name": "stdout",
     "output_type": "stream",
     "text": [
      "num of crops 1, out of 1 lice\n"
     ]
    },
    {
     "name": "stderr",
     "output_type": "stream",
     "text": [
      "\r",
      "1030it [03:59,  8.71it/s]"
     ]
    },
    {
     "name": "stdout",
     "output_type": "stream",
     "text": [
      "num of crops 1, out of 1 lice\n"
     ]
    },
    {
     "name": "stderr",
     "output_type": "stream",
     "text": [
      "\r",
      "1042it [04:03,  6.28it/s]"
     ]
    },
    {
     "name": "stdout",
     "output_type": "stream",
     "text": [
      "num of crops 1, out of 2 lice\n"
     ]
    },
    {
     "name": "stderr",
     "output_type": "stream",
     "text": [
      "\r",
      "1045it [04:04,  3.48it/s]"
     ]
    },
    {
     "name": "stdout",
     "output_type": "stream",
     "text": [
      "num of crops 1, out of 1 lice\n"
     ]
    },
    {
     "name": "stderr",
     "output_type": "stream",
     "text": [
      "\r",
      "1048it [04:06,  2.81it/s]"
     ]
    },
    {
     "name": "stdout",
     "output_type": "stream",
     "text": [
      "num of crops 1, out of 1 lice\n"
     ]
    },
    {
     "name": "stderr",
     "output_type": "stream",
     "text": [
      "\r",
      "1051it [04:08,  2.20it/s]"
     ]
    },
    {
     "name": "stdout",
     "output_type": "stream",
     "text": [
      "num of crops 1, out of 1 lice\n"
     ]
    },
    {
     "name": "stderr",
     "output_type": "stream",
     "text": [
      "\r",
      "1053it [04:10,  1.72it/s]"
     ]
    },
    {
     "name": "stdout",
     "output_type": "stream",
     "text": [
      "num of crops 1, out of 1 lice\n"
     ]
    },
    {
     "name": "stderr",
     "output_type": "stream",
     "text": [
      "1071it [04:11,  2.50it/s]"
     ]
    },
    {
     "name": "stdout",
     "output_type": "stream",
     "text": [
      "num of crops 1, out of 2 lice\n",
      "num of crops 1, out of 1 lice\n",
      "num of crops 1, out of 1 lice\n",
      "num of crops 1, out of 1 lice\n"
     ]
    },
    {
     "name": "stderr",
     "output_type": "stream",
     "text": [
      "\r",
      "1078it [04:12,  3.49it/s]"
     ]
    },
    {
     "name": "stdout",
     "output_type": "stream",
     "text": [
      "num of crops 1, out of 2 lice\n",
      "num of crops 1, out of 2 lice\n"
     ]
    },
    {
     "name": "stderr",
     "output_type": "stream",
     "text": [
      "1087it [04:13,  4.16it/s]"
     ]
    },
    {
     "name": "stdout",
     "output_type": "stream",
     "text": [
      "num of crops 1, out of 1 lice\n",
      "num of crops 2, out of 2 lice\n",
      "num of crops 1, out of 1 lice\n"
     ]
    },
    {
     "name": "stderr",
     "output_type": "stream",
     "text": [
      "1097it [04:16,  4.61it/s]"
     ]
    },
    {
     "name": "stdout",
     "output_type": "stream",
     "text": [
      "num of crops 1, out of 1 lice\n",
      "num of crops 1, out of 1 lice\n",
      "num of crops 1, out of 1 lice\n",
      "num of crops 2, out of 2 lice\n",
      "num of crops 1, out of 1 lice\n",
      "num of crops 2, out of 2 lice\n"
     ]
    },
    {
     "name": "stderr",
     "output_type": "stream",
     "text": [
      "1102it [04:20,  2.13it/s]"
     ]
    },
    {
     "name": "stdout",
     "output_type": "stream",
     "text": [
      "num of crops 1, out of 1 lice\n",
      "num of crops 2, out of 2 lice\n"
     ]
    },
    {
     "name": "stderr",
     "output_type": "stream",
     "text": [
      "\r",
      "1106it [04:23,  1.81it/s]"
     ]
    },
    {
     "name": "stdout",
     "output_type": "stream",
     "text": [
      "num of crops 1, out of 1 lice\n"
     ]
    },
    {
     "name": "stderr",
     "output_type": "stream",
     "text": [
      "\r",
      "1108it [04:25,  1.44it/s]"
     ]
    },
    {
     "name": "stdout",
     "output_type": "stream",
     "text": [
      "num of crops 2, out of 2 lice\n"
     ]
    },
    {
     "name": "stderr",
     "output_type": "stream",
     "text": [
      "\r",
      "1109it [04:28,  1.47s/it]"
     ]
    },
    {
     "name": "stdout",
     "output_type": "stream",
     "text": [
      "num of crops 1, out of 1 lice\n"
     ]
    },
    {
     "name": "stderr",
     "output_type": "stream",
     "text": [
      "\r",
      "1110it [04:31,  1.78s/it]"
     ]
    },
    {
     "name": "stdout",
     "output_type": "stream",
     "text": [
      "num of crops 1, out of 1 lice\n",
      "num of crops 1, out of 1 lice\n"
     ]
    },
    {
     "name": "stderr",
     "output_type": "stream",
     "text": [
      "\r",
      "1112it [04:33,  1.57s/it]"
     ]
    },
    {
     "name": "stdout",
     "output_type": "stream",
     "text": [
      "num of crops 1, out of 1 lice\n",
      "num of crops 1, out of 1 lice\n"
     ]
    },
    {
     "name": "stderr",
     "output_type": "stream",
     "text": [
      "\r",
      "1114it [04:35,  1.40s/it]"
     ]
    },
    {
     "name": "stdout",
     "output_type": "stream",
     "text": [
      "num of crops 1, out of 1 lice\n",
      "num of crops 1, out of 1 lice\n",
      "num of crops 2, out of 2 lice\n"
     ]
    },
    {
     "name": "stderr",
     "output_type": "stream",
     "text": [
      "1122it [04:35,  1.41it/s]"
     ]
    },
    {
     "name": "stdout",
     "output_type": "stream",
     "text": [
      "num of crops 1, out of 1 lice\n",
      "num of crops 1, out of 1 lice\n",
      "num of crops 3, out of 3 lice\n"
     ]
    },
    {
     "name": "stderr",
     "output_type": "stream",
     "text": [
      "1130it [04:35,  2.74it/s]"
     ]
    },
    {
     "name": "stdout",
     "output_type": "stream",
     "text": [
      "num of crops 1, out of 1 lice\n",
      "num of crops 1, out of 2 lice\n",
      "num of crops 1, out of 1 lice\n",
      "num of crops 1, out of 1 lice\n"
     ]
    },
    {
     "name": "stderr",
     "output_type": "stream",
     "text": [
      "\r",
      "1133it [04:35,  3.75it/s]"
     ]
    },
    {
     "name": "stdout",
     "output_type": "stream",
     "text": [
      "num of crops 1, out of 1 lice\n",
      "num of crops 1, out of 1 lice\n"
     ]
    },
    {
     "name": "stderr",
     "output_type": "stream",
     "text": [
      "\r",
      "1140it [04:38,  3.35it/s]"
     ]
    },
    {
     "name": "stdout",
     "output_type": "stream",
     "text": [
      "num of crops 1, out of 1 lice\n"
     ]
    },
    {
     "name": "stderr",
     "output_type": "stream",
     "text": [
      "\r",
      "1142it [04:40,  2.31it/s]"
     ]
    },
    {
     "name": "stdout",
     "output_type": "stream",
     "text": [
      "num of crops 1, out of 1 lice\n",
      "num of crops 2, out of 2 lice\n"
     ]
    },
    {
     "name": "stderr",
     "output_type": "stream",
     "text": [
      "\r",
      "1144it [04:42,  1.46it/s]"
     ]
    },
    {
     "name": "stdout",
     "output_type": "stream",
     "text": [
      "num of crops 1, out of 1 lice\n"
     ]
    },
    {
     "name": "stderr",
     "output_type": "stream",
     "text": [
      "\r",
      "1145it [04:44,  1.04s/it]"
     ]
    },
    {
     "name": "stdout",
     "output_type": "stream",
     "text": [
      "num of crops 1, out of 1 lice\n"
     ]
    },
    {
     "name": "stderr",
     "output_type": "stream",
     "text": [
      "\r",
      "1147it [04:50,  1.61s/it]"
     ]
    },
    {
     "name": "stdout",
     "output_type": "stream",
     "text": [
      "num of crops 1, out of 1 lice\n",
      "num of crops 1, out of 1 lice\n"
     ]
    },
    {
     "name": "stderr",
     "output_type": "stream",
     "text": [
      "\r",
      "1153it [04:51,  1.20s/it]"
     ]
    },
    {
     "name": "stdout",
     "output_type": "stream",
     "text": [
      "num of crops 1, out of 1 lice\n"
     ]
    },
    {
     "name": "stderr",
     "output_type": "stream",
     "text": [
      "\r",
      "1154it [04:53,  1.43s/it]"
     ]
    },
    {
     "name": "stdout",
     "output_type": "stream",
     "text": [
      "num of crops 1, out of 2 lice\n"
     ]
    },
    {
     "name": "stderr",
     "output_type": "stream",
     "text": [
      "\r",
      "1155it [04:56,  1.75s/it]"
     ]
    },
    {
     "name": "stdout",
     "output_type": "stream",
     "text": [
      "num of crops 1, out of 1 lice\n",
      "num of crops 3, out of 3 lice\n"
     ]
    },
    {
     "name": "stderr",
     "output_type": "stream",
     "text": [
      "1165it [04:57,  1.07it/s]"
     ]
    },
    {
     "name": "stdout",
     "output_type": "stream",
     "text": [
      "num of crops 1, out of 1 lice\n"
     ]
    },
    {
     "name": "stderr",
     "output_type": "stream",
     "text": [
      "\r",
      "1169it [04:58,  1.35it/s]"
     ]
    },
    {
     "name": "stdout",
     "output_type": "stream",
     "text": [
      "num of crops 1, out of 1 lice\n",
      "num of crops 1, out of 1 lice\n"
     ]
    },
    {
     "name": "stderr",
     "output_type": "stream",
     "text": [
      "1178it [05:00,  2.21it/s]"
     ]
    },
    {
     "name": "stdout",
     "output_type": "stream",
     "text": [
      "num of crops 1, out of 1 lice\n",
      "num of crops 1, out of 1 lice\n"
     ]
    },
    {
     "name": "stderr",
     "output_type": "stream",
     "text": [
      "\r",
      "1180it [05:01,  1.79it/s]"
     ]
    },
    {
     "name": "stdout",
     "output_type": "stream",
     "text": [
      "num of crops 1, out of 1 lice\n",
      "num of crops 1, out of 1 lice\n"
     ]
    },
    {
     "name": "stderr",
     "output_type": "stream",
     "text": [
      "\r",
      "1185it [05:03,  1.96it/s]"
     ]
    },
    {
     "name": "stdout",
     "output_type": "stream",
     "text": [
      "num of crops 1, out of 1 lice\n",
      "num of crops 1, out of 2 lice\n"
     ]
    },
    {
     "name": "stderr",
     "output_type": "stream",
     "text": [
      "\r",
      "1190it [05:05,  2.15it/s]"
     ]
    },
    {
     "name": "stdout",
     "output_type": "stream",
     "text": [
      "num of crops 1, out of 1 lice\n"
     ]
    },
    {
     "name": "stderr",
     "output_type": "stream",
     "text": [
      "1196it [05:07,  1.77it/s]"
     ]
    },
    {
     "name": "stdout",
     "output_type": "stream",
     "text": [
      "num of crops 1, out of 2 lice\n",
      "num of crops 1, out of 2 lice\n",
      "num of crops 1, out of 2 lice\n"
     ]
    },
    {
     "name": "stderr",
     "output_type": "stream",
     "text": [
      "\r",
      "1202it [05:09,  2.09it/s]"
     ]
    },
    {
     "name": "stdout",
     "output_type": "stream",
     "text": [
      "num of crops 1, out of 1 lice\n",
      "num of crops 1, out of 1 lice\n"
     ]
    },
    {
     "name": "stderr",
     "output_type": "stream",
     "text": [
      "1207it [05:10,  2.68it/s]"
     ]
    },
    {
     "name": "stdout",
     "output_type": "stream",
     "text": [
      "num of crops 1, out of 1 lice\n",
      "num of crops 2, out of 2 lice\n",
      "num of crops 1, out of 1 lice\n"
     ]
    },
    {
     "name": "stderr",
     "output_type": "stream",
     "text": [
      "\r",
      "1209it [05:13,  1.45it/s]"
     ]
    },
    {
     "name": "stdout",
     "output_type": "stream",
     "text": [
      "num of crops 1, out of 1 lice\n"
     ]
    },
    {
     "name": "stderr",
     "output_type": "stream",
     "text": [
      "\r",
      "1212it [05:14,  1.71it/s]"
     ]
    },
    {
     "name": "stdout",
     "output_type": "stream",
     "text": [
      "num of crops 1, out of 1 lice\n",
      "num of crops 1, out of 1 lice\n"
     ]
    },
    {
     "name": "stderr",
     "output_type": "stream",
     "text": [
      "\r",
      "1217it [05:16,  1.86it/s]"
     ]
    },
    {
     "name": "stdout",
     "output_type": "stream",
     "text": [
      "num of crops 1, out of 1 lice\n"
     ]
    },
    {
     "name": "stderr",
     "output_type": "stream",
     "text": [
      "\r",
      "1218it [05:18,  1.02it/s]"
     ]
    },
    {
     "name": "stdout",
     "output_type": "stream",
     "text": [
      "num of crops 1, out of 1 lice\n"
     ]
    },
    {
     "name": "stderr",
     "output_type": "stream",
     "text": [
      "1223it [05:20,  1.15it/s]"
     ]
    },
    {
     "name": "stdout",
     "output_type": "stream",
     "text": [
      "num of crops 1, out of 2 lice\n",
      "num of crops 2, out of 4 lice\n",
      "num of crops 1, out of 3 lice\n",
      "num of crops 2, out of 3 lice\n"
     ]
    },
    {
     "name": "stderr",
     "output_type": "stream",
     "text": [
      "\r",
      "1226it [05:21,  1.59it/s]"
     ]
    },
    {
     "name": "stdout",
     "output_type": "stream",
     "text": [
      "num of crops 3, out of 3 lice\n"
     ]
    },
    {
     "name": "stderr",
     "output_type": "stream",
     "text": [
      "\r",
      "1235it [05:23,  1.93it/s]"
     ]
    },
    {
     "name": "stdout",
     "output_type": "stream",
     "text": [
      "num of crops 1, out of 1 lice\n",
      "num of crops 1, out of 1 lice\n",
      "num of crops 2, out of 2 lice\n"
     ]
    },
    {
     "name": "stderr",
     "output_type": "stream",
     "text": [
      "1254it [05:23,  3.78it/s]"
     ]
    },
    {
     "name": "stdout",
     "output_type": "stream",
     "text": [
      "num of crops 1, out of 1 lice\n",
      "num of crops 1, out of 2 lice\n"
     ]
    },
    {
     "name": "stderr",
     "output_type": "stream",
     "text": [
      "\r",
      "1263it [05:25,  3.87it/s]"
     ]
    },
    {
     "name": "stdout",
     "output_type": "stream",
     "text": [
      "num of crops 1, out of 1 lice\n",
      "num of crops 1, out of 1 lice\n"
     ]
    },
    {
     "name": "stderr",
     "output_type": "stream",
     "text": [
      "\r",
      "1272it [05:28,  3.97it/s]"
     ]
    },
    {
     "name": "stdout",
     "output_type": "stream",
     "text": [
      "num of crops 1, out of 1 lice\n"
     ]
    },
    {
     "name": "stderr",
     "output_type": "stream",
     "text": [
      "\r",
      "1275it [05:30,  2.43it/s]"
     ]
    },
    {
     "name": "stdout",
     "output_type": "stream",
     "text": [
      "num of crops 1, out of 1 lice\n",
      "num of crops 1, out of 1 lice\n",
      "num of crops 2, out of 2 lice\n"
     ]
    },
    {
     "name": "stderr",
     "output_type": "stream",
     "text": [
      "1281it [05:33,  1.55it/s]"
     ]
    },
    {
     "name": "stdout",
     "output_type": "stream",
     "text": [
      "num of crops 1, out of 1 lice\n"
     ]
    },
    {
     "name": "stderr",
     "output_type": "stream",
     "text": [
      "1284it [05:35,  1.72it/s]"
     ]
    },
    {
     "name": "stdout",
     "output_type": "stream",
     "text": [
      "num of crops 1, out of 1 lice\n",
      "num of crops 1, out of 1 lice\n",
      "num of crops 1, out of 1 lice\n"
     ]
    },
    {
     "name": "stderr",
     "output_type": "stream",
     "text": [
      "\r",
      "1286it [05:35,  2.32it/s]"
     ]
    },
    {
     "name": "stdout",
     "output_type": "stream",
     "text": [
      "num of crops 2, out of 2 lice\n",
      "num of crops 2, out of 3 lice\n",
      "num of crops 2, out of 2 lice\n"
     ]
    },
    {
     "name": "stderr",
     "output_type": "stream",
     "text": [
      "1294it [05:36,  4.24it/s]"
     ]
    },
    {
     "name": "stdout",
     "output_type": "stream",
     "text": [
      "num of crops 1, out of 1 lice\n",
      "num of crops 2, out of 4 lice\n"
     ]
    },
    {
     "name": "stderr",
     "output_type": "stream",
     "text": [
      "1308it [05:38,  5.85it/s]"
     ]
    },
    {
     "name": "stdout",
     "output_type": "stream",
     "text": [
      "num of crops 1, out of 1 lice\n",
      "num of crops 1, out of 1 lice\n",
      "num of crops 1, out of 1 lice\n"
     ]
    },
    {
     "name": "stderr",
     "output_type": "stream",
     "text": [
      "1319it [05:38, 10.36it/s]"
     ]
    },
    {
     "name": "stdout",
     "output_type": "stream",
     "text": [
      "num of crops 1, out of 1 lice\n",
      "num of crops 1, out of 1 lice\n",
      "num of crops 1, out of 1 lice\n",
      "num of crops 1, out of 2 lice\n"
     ]
    },
    {
     "name": "stderr",
     "output_type": "stream",
     "text": [
      "\r",
      "1323it [05:38, 13.27it/s]"
     ]
    },
    {
     "name": "stdout",
     "output_type": "stream",
     "text": [
      "num of crops 1, out of 1 lice\n",
      "num of crops 2, out of 2 lice\n",
      "num of crops 2, out of 2 lice\n"
     ]
    },
    {
     "name": "stderr",
     "output_type": "stream",
     "text": [
      "1335it [05:38, 18.55it/s]"
     ]
    },
    {
     "name": "stdout",
     "output_type": "stream",
     "text": [
      "num of crops 1, out of 1 lice\n",
      "num of crops 1, out of 1 lice\n"
     ]
    },
    {
     "name": "stderr",
     "output_type": "stream",
     "text": [
      "\r",
      "1340it [05:42,  4.09it/s]"
     ]
    },
    {
     "name": "stdout",
     "output_type": "stream",
     "text": [
      "num of crops 1, out of 1 lice\n",
      "num of crops 1, out of 2 lice\n",
      "num of crops 2, out of 2 lice\n"
     ]
    },
    {
     "name": "stderr",
     "output_type": "stream",
     "text": [
      "\r",
      "1344it [05:46,  2.13it/s]"
     ]
    },
    {
     "name": "stdout",
     "output_type": "stream",
     "text": [
      "num of crops 1, out of 1 lice\n",
      "num of crops 1, out of 1 lice\n",
      "num of crops 1, out of 1 lice\n",
      "num of crops 1, out of 1 lice\n"
     ]
    },
    {
     "name": "stderr",
     "output_type": "stream",
     "text": [
      "\r",
      "1347it [05:46,  2.95it/s]"
     ]
    },
    {
     "name": "stdout",
     "output_type": "stream",
     "text": [
      "num of crops 1, out of 1 lice\n"
     ]
    },
    {
     "name": "stderr",
     "output_type": "stream",
     "text": [
      "1353it [05:49,  3.04it/s]"
     ]
    },
    {
     "name": "stdout",
     "output_type": "stream",
     "text": [
      "num of crops 1, out of 1 lice\n",
      "num of crops 2, out of 2 lice\n"
     ]
    },
    {
     "name": "stderr",
     "output_type": "stream",
     "text": [
      "\r",
      "1355it [05:51,  1.65it/s]"
     ]
    },
    {
     "name": "stdout",
     "output_type": "stream",
     "text": [
      "num of crops 1, out of 1 lice\n",
      "num of crops 2, out of 2 lice\n",
      "num of crops 2, out of 3 lice\n"
     ]
    },
    {
     "name": "stderr",
     "output_type": "stream",
     "text": [
      "1363it [05:52,  3.19it/s]"
     ]
    },
    {
     "name": "stdout",
     "output_type": "stream",
     "text": [
      "num of crops 1, out of 1 lice\n",
      "num of crops 1, out of 1 lice\n",
      "num of crops 1, out of 1 lice\n",
      "num of crops 1, out of 2 lice\n"
     ]
    },
    {
     "name": "stderr",
     "output_type": "stream",
     "text": [
      "\r",
      "1367it [05:52,  4.38it/s]"
     ]
    },
    {
     "name": "stdout",
     "output_type": "stream",
     "text": [
      "num of crops 1, out of 2 lice\n",
      "num of crops 4, out of 4 lice\n"
     ]
    },
    {
     "name": "stderr",
     "output_type": "stream",
     "text": [
      "1374it [05:52,  7.53it/s]"
     ]
    },
    {
     "name": "stdout",
     "output_type": "stream",
     "text": [
      "num of crops 1, out of 1 lice\n",
      "num of crops 1, out of 1 lice\n",
      "num of crops 2, out of 2 lice\n"
     ]
    },
    {
     "name": "stderr",
     "output_type": "stream",
     "text": [
      "\r",
      "1379it [05:57,  2.71it/s]"
     ]
    },
    {
     "name": "stdout",
     "output_type": "stream",
     "text": [
      "num of crops 2, out of 2 lice\n"
     ]
    },
    {
     "name": "stderr",
     "output_type": "stream",
     "text": [
      "\r",
      "1383it [05:59,  2.51it/s]"
     ]
    },
    {
     "name": "stdout",
     "output_type": "stream",
     "text": [
      "num of crops 1, out of 1 lice\n"
     ]
    },
    {
     "name": "stderr",
     "output_type": "stream",
     "text": [
      "\r",
      "1385it [06:01,  1.50it/s]"
     ]
    },
    {
     "name": "stdout",
     "output_type": "stream",
     "text": [
      "num of crops 1, out of 1 lice\n",
      "num of crops 1, out of 1 lice\n",
      "num of crops 1, out of 1 lice\n"
     ]
    },
    {
     "name": "stderr",
     "output_type": "stream",
     "text": [
      "\r",
      "1396it [06:06,  1.70it/s]"
     ]
    },
    {
     "name": "stdout",
     "output_type": "stream",
     "text": [
      "num of crops 1, out of 1 lice\n",
      "num of crops 1, out of 1 lice\n",
      "num of crops 3, out of 6 lice\n"
     ]
    },
    {
     "name": "stderr",
     "output_type": "stream",
     "text": [
      "1402it [06:09,  1.23it/s]"
     ]
    },
    {
     "name": "stdout",
     "output_type": "stream",
     "text": [
      "num of crops 1, out of 1 lice\n"
     ]
    },
    {
     "name": "stderr",
     "output_type": "stream",
     "text": [
      "\r",
      "1409it [06:11,  1.51it/s]"
     ]
    },
    {
     "name": "stdout",
     "output_type": "stream",
     "text": [
      "num of crops 1, out of 1 lice\n"
     ]
    },
    {
     "name": "stderr",
     "output_type": "stream",
     "text": [
      "1418it [06:14,  1.25it/s]"
     ]
    },
    {
     "name": "stdout",
     "output_type": "stream",
     "text": [
      "num of crops 1, out of 1 lice\n",
      "num of crops 1, out of 1 lice\n",
      "num of crops 1, out of 1 lice\n"
     ]
    },
    {
     "name": "stderr",
     "output_type": "stream",
     "text": [
      "1424it [06:14,  2.42it/s]"
     ]
    },
    {
     "name": "stdout",
     "output_type": "stream",
     "text": [
      "num of crops 1, out of 1 lice\n",
      "num of crops 1, out of 1 lice\n",
      "num of crops 1, out of 2 lice\n"
     ]
    },
    {
     "name": "stderr",
     "output_type": "stream",
     "text": [
      "\r",
      "1427it [06:14,  3.32it/s]"
     ]
    },
    {
     "name": "stdout",
     "output_type": "stream",
     "text": [
      "num of crops 1, out of 1 lice\n",
      "num of crops 2, out of 2 lice\n"
     ]
    },
    {
     "name": "stderr",
     "output_type": "stream",
     "text": [
      "1438it [06:14,  5.92it/s]"
     ]
    },
    {
     "name": "stdout",
     "output_type": "stream",
     "text": [
      "num of crops 1, out of 1 lice\n",
      "num of crops 1, out of 1 lice\n",
      "num of crops 1, out of 2 lice\n"
     ]
    },
    {
     "name": "stderr",
     "output_type": "stream",
     "text": [
      "\r",
      "1441it [06:15,  7.18it/s]"
     ]
    },
    {
     "name": "stdout",
     "output_type": "stream",
     "text": [
      "num of crops 1, out of 1 lice\n",
      "num of crops 1, out of 1 lice\n",
      "num of crops 1, out of 2 lice\n"
     ]
    },
    {
     "name": "stderr",
     "output_type": "stream",
     "text": [
      "1449it [06:17,  6.72it/s]"
     ]
    },
    {
     "name": "stdout",
     "output_type": "stream",
     "text": [
      "num of crops 1, out of 1 lice\n",
      "num of crops 1, out of 1 lice\n",
      "num of crops 1, out of 1 lice\n",
      "num of crops 2, out of 2 lice\n",
      "num of crops 1, out of 1 lice\n"
     ]
    },
    {
     "name": "stderr",
     "output_type": "stream",
     "text": [
      "1453it [06:22,  1.65it/s]"
     ]
    },
    {
     "name": "stdout",
     "output_type": "stream",
     "text": [
      "num of crops 2, out of 3 lice\n",
      "num of crops 1, out of 2 lice\n",
      "num of crops 3, out of 4 lice\n"
     ]
    },
    {
     "name": "stderr",
     "output_type": "stream",
     "text": [
      "\r",
      "1456it [06:22,  2.29it/s]"
     ]
    },
    {
     "name": "stdout",
     "output_type": "stream",
     "text": [
      "num of crops 1, out of 2 lice\n"
     ]
    },
    {
     "name": "stderr",
     "output_type": "stream",
     "text": [
      "\r",
      "1466it [06:25,  2.43it/s]"
     ]
    },
    {
     "name": "stdout",
     "output_type": "stream",
     "text": [
      "num of crops 1, out of 1 lice\n",
      "num of crops 1, out of 1 lice\n"
     ]
    },
    {
     "name": "stderr",
     "output_type": "stream",
     "text": [
      "\r",
      "1470it [06:27,  2.24it/s]"
     ]
    },
    {
     "name": "stdout",
     "output_type": "stream",
     "text": [
      "num of crops 1, out of 1 lice\n",
      "num of crops 1, out of 1 lice\n"
     ]
    },
    {
     "name": "stderr",
     "output_type": "stream",
     "text": [
      "\r",
      "1475it [06:30,  2.10it/s]"
     ]
    },
    {
     "name": "stdout",
     "output_type": "stream",
     "text": [
      "num of crops 2, out of 2 lice\n",
      "num of crops 1, out of 1 lice\n",
      "num of crops 1, out of 2 lice\n"
     ]
    },
    {
     "name": "stderr",
     "output_type": "stream",
     "text": [
      "\r",
      "1480it [06:30,  2.92it/s]"
     ]
    },
    {
     "name": "stdout",
     "output_type": "stream",
     "text": [
      "num of crops 2, out of 3 lice\n"
     ]
    },
    {
     "name": "stderr",
     "output_type": "stream",
     "text": [
      "\r",
      "1484it [06:34,  1.96it/s]"
     ]
    },
    {
     "name": "stdout",
     "output_type": "stream",
     "text": [
      "num of crops 1, out of 1 lice\n"
     ]
    },
    {
     "name": "stderr",
     "output_type": "stream",
     "text": [
      "\r",
      "1486it [06:36,  1.58it/s]"
     ]
    },
    {
     "name": "stdout",
     "output_type": "stream",
     "text": [
      "num of crops 1, out of 1 lice\n"
     ]
    },
    {
     "name": "stderr",
     "output_type": "stream",
     "text": [
      "\r",
      "1487it [06:40,  1.67s/it]"
     ]
    },
    {
     "name": "stdout",
     "output_type": "stream",
     "text": [
      "num of crops 1, out of 1 lice\n"
     ]
    },
    {
     "name": "stderr",
     "output_type": "stream",
     "text": [
      "\r",
      "1490it [06:42,  1.39s/it]"
     ]
    },
    {
     "name": "stdout",
     "output_type": "stream",
     "text": [
      "num of crops 1, out of 1 lice\n"
     ]
    },
    {
     "name": "stderr",
     "output_type": "stream",
     "text": [
      "\r",
      "1491it [06:44,  1.69s/it]"
     ]
    },
    {
     "name": "stdout",
     "output_type": "stream",
     "text": [
      "num of crops 1, out of 2 lice\n"
     ]
    },
    {
     "name": "stderr",
     "output_type": "stream",
     "text": [
      "\r",
      "1497it [06:46,  1.26s/it]"
     ]
    },
    {
     "name": "stdout",
     "output_type": "stream",
     "text": [
      "num of crops 1, out of 1 lice\n"
     ]
    },
    {
     "name": "stderr",
     "output_type": "stream",
     "text": [
      "\r",
      "1498it [06:48,  1.36s/it]"
     ]
    },
    {
     "name": "stdout",
     "output_type": "stream",
     "text": [
      "num of crops 1, out of 1 lice\n"
     ]
    },
    {
     "name": "stderr",
     "output_type": "stream",
     "text": [
      "\r",
      "1499it [06:49,  1.50s/it]"
     ]
    },
    {
     "name": "stdout",
     "output_type": "stream",
     "text": [
      "num of crops 1, out of 1 lice\n"
     ]
    },
    {
     "name": "stderr",
     "output_type": "stream",
     "text": [
      "\r",
      "1500it [06:52,  1.74s/it]"
     ]
    },
    {
     "name": "stdout",
     "output_type": "stream",
     "text": [
      "num of crops 1, out of 1 lice\n"
     ]
    },
    {
     "name": "stderr",
     "output_type": "stream",
     "text": [
      "\r",
      "1501it [06:54,  1.94s/it]"
     ]
    },
    {
     "name": "stdout",
     "output_type": "stream",
     "text": [
      "num of crops 1, out of 1 lice\n",
      "num of crops 1, out of 1 lice\n"
     ]
    },
    {
     "name": "stderr",
     "output_type": "stream",
     "text": [
      "\r",
      "1521it [06:58,  1.42s/it]"
     ]
    },
    {
     "name": "stdout",
     "output_type": "stream",
     "text": [
      "num of crops 1, out of 1 lice\n"
     ]
    },
    {
     "name": "stderr",
     "output_type": "stream",
     "text": [
      "\r",
      "1523it [07:00,  1.34s/it]"
     ]
    },
    {
     "name": "stdout",
     "output_type": "stream",
     "text": [
      "num of crops 1, out of 1 lice\n",
      "num of crops 1, out of 1 lice\n",
      "num of crops 2, out of 2 lice\n"
     ]
    },
    {
     "name": "stderr",
     "output_type": "stream",
     "text": [
      "1536it [07:00,  1.50it/s]"
     ]
    },
    {
     "name": "stdout",
     "output_type": "stream",
     "text": [
      "num of crops 1, out of 1 lice\n",
      "num of crops 1, out of 1 lice\n",
      "num of crops 3, out of 4 lice\n"
     ]
    },
    {
     "name": "stderr",
     "output_type": "stream",
     "text": [
      "\r",
      "1546it [07:00,  2.13it/s]"
     ]
    },
    {
     "name": "stdout",
     "output_type": "stream",
     "text": [
      "num of crops 2, out of 4 lice\n"
     ]
    },
    {
     "name": "stderr",
     "output_type": "stream",
     "text": [
      "\r",
      "1551it [07:02,  2.24it/s]"
     ]
    },
    {
     "name": "stdout",
     "output_type": "stream",
     "text": [
      "num of crops 1, out of 1 lice\n",
      "num of crops 2, out of 3 lice\n"
     ]
    },
    {
     "name": "stderr",
     "output_type": "stream",
     "text": [
      "1558it [07:04,  3.23it/s]"
     ]
    },
    {
     "name": "stdout",
     "output_type": "stream",
     "text": [
      "num of crops 1, out of 1 lice\n",
      "num of crops 1, out of 1 lice\n",
      "num of crops 1, out of 1 lice\n"
     ]
    },
    {
     "name": "stderr",
     "output_type": "stream",
     "text": [
      "\r",
      "1561it [07:06,  2.55it/s]"
     ]
    },
    {
     "name": "stdout",
     "output_type": "stream",
     "text": [
      "num of crops 2, out of 2 lice\n",
      "num of crops 1, out of 1 lice\n",
      "num of crops 2, out of 2 lice\n"
     ]
    },
    {
     "name": "stderr",
     "output_type": "stream",
     "text": [
      "\r",
      "1563it [07:06,  3.34it/s]"
     ]
    },
    {
     "name": "stdout",
     "output_type": "stream",
     "text": [
      "num of crops 1, out of 1 lice\n"
     ]
    },
    {
     "name": "stderr",
     "output_type": "stream",
     "text": [
      "\r",
      "1565it [07:08,  2.13it/s]"
     ]
    },
    {
     "name": "stdout",
     "output_type": "stream",
     "text": [
      "num of crops 1, out of 1 lice\n"
     ]
    },
    {
     "name": "stderr",
     "output_type": "stream",
     "text": [
      "\r",
      "1567it [07:10,  1.43it/s]"
     ]
    },
    {
     "name": "stdout",
     "output_type": "stream",
     "text": [
      "num of crops 1, out of 1 lice\n",
      "num of crops 1, out of 4 lice\n",
      "num of crops 2, out of 2 lice\n"
     ]
    },
    {
     "name": "stderr",
     "output_type": "stream",
     "text": [
      "1574it [07:10,  2.66it/s]"
     ]
    },
    {
     "name": "stdout",
     "output_type": "stream",
     "text": [
      "num of crops 1, out of 1 lice\n",
      "num of crops 2, out of 2 lice\n",
      "num of crops 1, out of 1 lice\n"
     ]
    },
    {
     "name": "stderr",
     "output_type": "stream",
     "text": [
      "\r",
      "1578it [07:13,  2.36it/s]"
     ]
    },
    {
     "name": "stdout",
     "output_type": "stream",
     "text": [
      "num of crops 1, out of 1 lice\n",
      "num of crops 1, out of 1 lice\n",
      "num of crops 1, out of 1 lice\n"
     ]
    },
    {
     "name": "stderr",
     "output_type": "stream",
     "text": [
      "1596it [07:14,  4.22it/s]"
     ]
    },
    {
     "name": "stdout",
     "output_type": "stream",
     "text": [
      "num of crops 1, out of 1 lice\n",
      "num of crops 3, out of 4 lice\n"
     ]
    },
    {
     "name": "stderr",
     "output_type": "stream",
     "text": [
      "\r",
      "1599it [07:16,  2.93it/s]"
     ]
    },
    {
     "name": "stdout",
     "output_type": "stream",
     "text": [
      "num of crops 1, out of 1 lice\n"
     ]
    },
    {
     "name": "stderr",
     "output_type": "stream",
     "text": [
      "\r",
      "1602it [07:17,  2.69it/s]"
     ]
    },
    {
     "name": "stdout",
     "output_type": "stream",
     "text": [
      "num of crops 1, out of 1 lice\n"
     ]
    },
    {
     "name": "stderr",
     "output_type": "stream",
     "text": [
      "\r",
      "1604it [07:18,  2.32it/s]"
     ]
    },
    {
     "name": "stdout",
     "output_type": "stream",
     "text": [
      "num of crops 1, out of 1 lice\n",
      "num of crops 1, out of 1 lice\n"
     ]
    },
    {
     "name": "stderr",
     "output_type": "stream",
     "text": [
      "\r",
      "1606it [07:21,  1.38it/s]"
     ]
    },
    {
     "name": "stdout",
     "output_type": "stream",
     "text": [
      "num of crops 1, out of 1 lice\n"
     ]
    },
    {
     "name": "stderr",
     "output_type": "stream",
     "text": [
      "1610it [07:23,  1.26it/s]"
     ]
    },
    {
     "name": "stdout",
     "output_type": "stream",
     "text": [
      "num of crops 2, out of 2 lice\n",
      "num of crops 1, out of 1 lice\n",
      "num of crops 1, out of 1 lice\n"
     ]
    },
    {
     "name": "stderr",
     "output_type": "stream",
     "text": [
      "1617it [07:24,  2.40it/s]"
     ]
    },
    {
     "name": "stdout",
     "output_type": "stream",
     "text": [
      "num of crops 2, out of 3 lice\n"
     ]
    },
    {
     "name": "stderr",
     "output_type": "stream",
     "text": [
      "\r",
      "1622it [07:26,  2.20it/s]"
     ]
    },
    {
     "name": "stdout",
     "output_type": "stream",
     "text": [
      "num of crops 1, out of 1 lice\n",
      "num of crops 1, out of 1 lice\n"
     ]
    },
    {
     "name": "stderr",
     "output_type": "stream",
     "text": [
      "\r",
      "1628it [07:28,  2.50it/s]"
     ]
    },
    {
     "name": "stdout",
     "output_type": "stream",
     "text": [
      "num of crops 1, out of 1 lice\n"
     ]
    },
    {
     "name": "stderr",
     "output_type": "stream",
     "text": [
      "\r",
      "1629it [07:28,  2.39it/s]"
     ]
    },
    {
     "name": "stdout",
     "output_type": "stream",
     "text": [
      "num of crops 1, out of 1 lice\n",
      "num of crops 2, out of 3 lice\n"
     ]
    },
    {
     "name": "stderr",
     "output_type": "stream",
     "text": [
      "\r",
      "1632it [07:29,  2.90it/s]"
     ]
    },
    {
     "name": "stdout",
     "output_type": "stream",
     "text": [
      "num of crops 1, out of 1 lice\n"
     ]
    },
    {
     "name": "stderr",
     "output_type": "stream",
     "text": [
      "\r",
      "1634it [07:29,  3.22it/s]"
     ]
    },
    {
     "name": "stdout",
     "output_type": "stream",
     "text": [
      "num of crops 1, out of 1 lice\n",
      "num of crops 1, out of 1 lice\n",
      "num of crops 1, out of 1 lice\n"
     ]
    },
    {
     "name": "stderr",
     "output_type": "stream",
     "text": [
      "\r",
      "1642it [07:30,  4.49it/s]"
     ]
    },
    {
     "name": "stdout",
     "output_type": "stream",
     "text": [
      "num of crops 1, out of 1 lice\n"
     ]
    },
    {
     "name": "stderr",
     "output_type": "stream",
     "text": [
      "\r",
      "1646it [07:30,  4.90it/s]"
     ]
    },
    {
     "name": "stdout",
     "output_type": "stream",
     "text": [
      "num of crops 1, out of 1 lice\n",
      "num of crops 1, out of 1 lice\n",
      "num of crops 2, out of 3 lice\n"
     ]
    },
    {
     "name": "stderr",
     "output_type": "stream",
     "text": [
      "1652it [07:31,  7.82it/s]"
     ]
    },
    {
     "name": "stdout",
     "output_type": "stream",
     "text": [
      "num of crops 2, out of 3 lice\n",
      "num of crops 1, out of 1 lice\n"
     ]
    },
    {
     "name": "stderr",
     "output_type": "stream",
     "text": [
      "\r",
      "1654it [07:31,  6.13it/s]"
     ]
    },
    {
     "name": "stdout",
     "output_type": "stream",
     "text": [
      "num of crops 1, out of 1 lice\n",
      "num of crops 1, out of 1 lice\n"
     ]
    },
    {
     "name": "stderr",
     "output_type": "stream",
     "text": [
      "\r",
      "1656it [07:31,  5.63it/s]"
     ]
    },
    {
     "name": "stdout",
     "output_type": "stream",
     "text": [
      "num of crops 1, out of 1 lice\n"
     ]
    },
    {
     "name": "stderr",
     "output_type": "stream",
     "text": [
      "1661it [07:32,  7.47it/s]"
     ]
    },
    {
     "name": "stdout",
     "output_type": "stream",
     "text": [
      "num of crops 1, out of 1 lice\n",
      "num of crops 2, out of 2 lice\n",
      "num of crops 1, out of 1 lice\n"
     ]
    },
    {
     "name": "stderr",
     "output_type": "stream",
     "text": [
      "\r",
      "1665it [07:32,  7.60it/s]"
     ]
    },
    {
     "name": "stdout",
     "output_type": "stream",
     "text": [
      "num of crops 1, out of 1 lice\n",
      "num of crops 1, out of 1 lice\n",
      "num of crops 2, out of 2 lice\n"
     ]
    },
    {
     "name": "stderr",
     "output_type": "stream",
     "text": [
      "1670it [07:33, 10.47it/s]"
     ]
    },
    {
     "name": "stdout",
     "output_type": "stream",
     "text": [
      "num of crops 2, out of 2 lice\n",
      "num of crops 1, out of 1 lice\n"
     ]
    },
    {
     "name": "stderr",
     "output_type": "stream",
     "text": [
      "\r",
      "1672it [07:33,  7.60it/s]"
     ]
    },
    {
     "name": "stdout",
     "output_type": "stream",
     "text": [
      "num of crops 1, out of 1 lice\n",
      "num of crops 1, out of 1 lice\n",
      "num of crops 3, out of 4 lice\n"
     ]
    },
    {
     "name": "stderr",
     "output_type": "stream",
     "text": [
      "1684it [07:34,  8.12it/s]"
     ]
    },
    {
     "name": "stdout",
     "output_type": "stream",
     "text": [
      "num of crops 1, out of 2 lice\n"
     ]
    },
    {
     "name": "stderr",
     "output_type": "stream",
     "text": [
      "1688it [07:34,  7.81it/s]"
     ]
    },
    {
     "name": "stdout",
     "output_type": "stream",
     "text": [
      "num of crops 1, out of 1 lice\n",
      "num of crops 1, out of 1 lice\n",
      "num of crops 2, out of 3 lice\n"
     ]
    },
    {
     "name": "stderr",
     "output_type": "stream",
     "text": [
      "\r",
      "1690it [07:35,  5.18it/s]"
     ]
    },
    {
     "name": "stdout",
     "output_type": "stream",
     "text": [
      "num of crops 1, out of 2 lice\n"
     ]
    },
    {
     "name": "stderr",
     "output_type": "stream",
     "text": [
      "\r",
      "1692it [07:36,  4.10it/s]"
     ]
    },
    {
     "name": "stdout",
     "output_type": "stream",
     "text": [
      "num of crops 1, out of 1 lice\n",
      "num of crops 2, out of 3 lice\n"
     ]
    },
    {
     "name": "stderr",
     "output_type": "stream",
     "text": [
      "\r",
      "1693it [07:36,  3.29it/s]"
     ]
    },
    {
     "name": "stdout",
     "output_type": "stream",
     "text": [
      "num of crops 1, out of 1 lice\n"
     ]
    },
    {
     "name": "stderr",
     "output_type": "stream",
     "text": [
      "\r",
      "1694it [07:37,  2.97it/s]"
     ]
    },
    {
     "name": "stdout",
     "output_type": "stream",
     "text": [
      "num of crops 1, out of 1 lice\n",
      "num of crops 1, out of 1 lice\n"
     ]
    },
    {
     "name": "stderr",
     "output_type": "stream",
     "text": [
      "\r",
      "1698it [07:37,  3.61it/s]"
     ]
    },
    {
     "name": "stdout",
     "output_type": "stream",
     "text": [
      "num of crops 1, out of 1 lice\n"
     ]
    },
    {
     "name": "stderr",
     "output_type": "stream",
     "text": [
      "\r",
      "1700it [07:38,  3.55it/s]"
     ]
    },
    {
     "name": "stdout",
     "output_type": "stream",
     "text": [
      "num of crops 1, out of 1 lice\n",
      "num of crops 1, out of 1 lice\n",
      "num of crops 1, out of 1 lice\n"
     ]
    },
    {
     "name": "stderr",
     "output_type": "stream",
     "text": [
      "1706it [07:39,  4.28it/s]"
     ]
    },
    {
     "name": "stdout",
     "output_type": "stream",
     "text": [
      "num of crops 1, out of 1 lice\n",
      "num of crops 3, out of 3 lice\n"
     ]
    },
    {
     "name": "stderr",
     "output_type": "stream",
     "text": [
      "1710it [07:39,  5.21it/s]"
     ]
    },
    {
     "name": "stdout",
     "output_type": "stream",
     "text": [
      "num of crops 1, out of 1 lice\n"
     ]
    },
    {
     "name": "stderr",
     "output_type": "stream",
     "text": [
      "\r",
      "1713it [07:40,  5.07it/s]"
     ]
    },
    {
     "name": "stdout",
     "output_type": "stream",
     "text": [
      "num of crops 1, out of 1 lice\n"
     ]
    },
    {
     "name": "stderr",
     "output_type": "stream",
     "text": [
      "\r",
      "1714it [07:40,  3.13it/s]"
     ]
    },
    {
     "name": "stdout",
     "output_type": "stream",
     "text": [
      "num of crops 1, out of 1 lice\n"
     ]
    },
    {
     "name": "stderr",
     "output_type": "stream",
     "text": [
      "1716it [07:41,  3.24it/s]"
     ]
    },
    {
     "name": "stdout",
     "output_type": "stream",
     "text": [
      "num of crops 1, out of 1 lice\n",
      "num of crops 2, out of 2 lice\n"
     ]
    },
    {
     "name": "stderr",
     "output_type": "stream",
     "text": [
      "1718it [07:42,  3.22it/s]"
     ]
    },
    {
     "name": "stdout",
     "output_type": "stream",
     "text": [
      "num of crops 1, out of 2 lice\n",
      "num of crops 2, out of 3 lice\n",
      "num of crops 2, out of 2 lice\n"
     ]
    },
    {
     "name": "stderr",
     "output_type": "stream",
     "text": [
      "1722it [07:42,  5.35it/s]"
     ]
    },
    {
     "name": "stdout",
     "output_type": "stream",
     "text": [
      "num of crops 1, out of 1 lice\n",
      "num of crops 1, out of 1 lice\n",
      "num of crops 2, out of 2 lice\n"
     ]
    },
    {
     "name": "stderr",
     "output_type": "stream",
     "text": [
      "\r",
      "1725it [07:43,  4.93it/s]"
     ]
    },
    {
     "name": "stdout",
     "output_type": "stream",
     "text": [
      "num of crops 2, out of 2 lice\n",
      "num of crops 1, out of 1 lice\n",
      "num of crops 2, out of 2 lice\n"
     ]
    },
    {
     "name": "stderr",
     "output_type": "stream",
     "text": [
      "\r",
      "1730it [07:43,  6.71it/s]"
     ]
    },
    {
     "name": "stdout",
     "output_type": "stream",
     "text": [
      "num of crops 2, out of 3 lice\n"
     ]
    },
    {
     "name": "stderr",
     "output_type": "stream",
     "text": [
      "\r",
      "1732it [07:44,  4.95it/s]"
     ]
    },
    {
     "name": "stdout",
     "output_type": "stream",
     "text": [
      "num of crops 1, out of 1 lice\n"
     ]
    },
    {
     "name": "stderr",
     "output_type": "stream",
     "text": [
      "\r",
      "1739it [07:44,  6.03it/s]"
     ]
    },
    {
     "name": "stdout",
     "output_type": "stream",
     "text": [
      "num of crops 1, out of 1 lice\n"
     ]
    },
    {
     "name": "stderr",
     "output_type": "stream",
     "text": [
      "\r",
      "1741it [07:45,  4.27it/s]"
     ]
    },
    {
     "name": "stdout",
     "output_type": "stream",
     "text": [
      "num of crops 1, out of 2 lice\n"
     ]
    },
    {
     "name": "stderr",
     "output_type": "stream",
     "text": [
      "\r",
      "1743it [07:46,  3.61it/s]"
     ]
    },
    {
     "name": "stdout",
     "output_type": "stream",
     "text": [
      "num of crops 1, out of 1 lice\n",
      "num of crops 1, out of 1 lice\n"
     ]
    },
    {
     "name": "stderr",
     "output_type": "stream",
     "text": [
      "1748it [07:46,  4.69it/s]"
     ]
    },
    {
     "name": "stdout",
     "output_type": "stream",
     "text": [
      "num of crops 1, out of 1 lice\n",
      "num of crops 1, out of 2 lice\n",
      "num of crops 1, out of 2 lice\n"
     ]
    },
    {
     "name": "stderr",
     "output_type": "stream",
     "text": [
      "\r",
      "1750it [07:47,  3.51it/s]"
     ]
    },
    {
     "name": "stdout",
     "output_type": "stream",
     "text": [
      "num of crops 1, out of 1 lice\n"
     ]
    },
    {
     "name": "stderr",
     "output_type": "stream",
     "text": [
      "1752it [07:48,  2.79it/s]"
     ]
    },
    {
     "name": "stdout",
     "output_type": "stream",
     "text": [
      "num of crops 1, out of 1 lice\n",
      "num of crops 2, out of 2 lice\n",
      "num of crops 1, out of 1 lice\n"
     ]
    },
    {
     "name": "stderr",
     "output_type": "stream",
     "text": [
      "1763it [07:49,  4.53it/s]"
     ]
    },
    {
     "name": "stdout",
     "output_type": "stream",
     "text": [
      "num of crops 1, out of 1 lice\n",
      "num of crops 1, out of 1 lice\n",
      "num of crops 2, out of 4 lice\n",
      "num of crops 2, out of 3 lice\n"
     ]
    },
    {
     "name": "stderr",
     "output_type": "stream",
     "text": [
      "\r",
      "1767it [07:49,  6.16it/s]"
     ]
    },
    {
     "name": "stdout",
     "output_type": "stream",
     "text": [
      "num of crops 1, out of 1 lice\n",
      "num of crops 2, out of 2 lice\n"
     ]
    },
    {
     "name": "stderr",
     "output_type": "stream",
     "text": [
      "1773it [07:52,  3.51it/s]"
     ]
    },
    {
     "name": "stdout",
     "output_type": "stream",
     "text": [
      "num of crops 1, out of 1 lice\n",
      "num of crops 1, out of 1 lice\n",
      "num of crops 1, out of 2 lice\n"
     ]
    },
    {
     "name": "stderr",
     "output_type": "stream",
     "text": [
      "1779it [07:52,  6.24it/s]"
     ]
    },
    {
     "name": "stdout",
     "output_type": "stream",
     "text": [
      "num of crops 1, out of 2 lice\n",
      "num of crops 1, out of 1 lice\n"
     ]
    },
    {
     "name": "stderr",
     "output_type": "stream",
     "text": [
      "\r",
      "1782it [07:58,  1.59it/s]"
     ]
    },
    {
     "name": "stdout",
     "output_type": "stream",
     "text": [
      "num of crops 2, out of 2 lice\n",
      "num of crops 1, out of 2 lice\n"
     ]
    },
    {
     "name": "stderr",
     "output_type": "stream",
     "text": [
      "\r",
      "1784it [08:03,  1.25s/it]"
     ]
    },
    {
     "name": "stdout",
     "output_type": "stream",
     "text": [
      "num of crops 1, out of 2 lice\n",
      "num of crops 1, out of 1 lice\n",
      "num of crops 1, out of 1 lice\n"
     ]
    },
    {
     "name": "stderr",
     "output_type": "stream",
     "text": [
      "1793it [08:06,  1.13it/s]"
     ]
    },
    {
     "name": "stdout",
     "output_type": "stream",
     "text": [
      "num of crops 1, out of 1 lice\n"
     ]
    },
    {
     "name": "stderr",
     "output_type": "stream",
     "text": [
      "\r",
      "1795it [08:08,  1.01s/it]"
     ]
    },
    {
     "name": "stdout",
     "output_type": "stream",
     "text": [
      "num of crops 1, out of 1 lice\n",
      "num of crops 2, out of 2 lice\n"
     ]
    },
    {
     "name": "stderr",
     "output_type": "stream",
     "text": [
      "\r",
      "1802it [08:09,  1.41it/s]"
     ]
    },
    {
     "name": "stdout",
     "output_type": "stream",
     "text": [
      "num of crops 1, out of 2 lice\n",
      "num of crops 3, out of 3 lice\n"
     ]
    },
    {
     "name": "stderr",
     "output_type": "stream",
     "text": [
      "1810it [08:11,  1.87it/s]"
     ]
    },
    {
     "name": "stdout",
     "output_type": "stream",
     "text": [
      "num of crops 3, out of 4 lice\n",
      "num of crops 3, out of 3 lice\n"
     ]
    },
    {
     "name": "stderr",
     "output_type": "stream",
     "text": [
      "\r",
      "1813it [08:11,  2.57it/s]"
     ]
    },
    {
     "name": "stdout",
     "output_type": "stream",
     "text": [
      "num of crops 2, out of 3 lice\n",
      "num of crops 1, out of 1 lice\n"
     ]
    },
    {
     "name": "stderr",
     "output_type": "stream",
     "text": [
      "\r",
      "1816it [08:19,  1.08s/it]"
     ]
    },
    {
     "name": "stdout",
     "output_type": "stream",
     "text": [
      "num of crops 1, out of 1 lice\n"
     ]
    },
    {
     "name": "stderr",
     "output_type": "stream",
     "text": [
      "\r",
      "1818it [08:22,  1.19s/it]"
     ]
    },
    {
     "name": "stdout",
     "output_type": "stream",
     "text": [
      "num of crops 1, out of 1 lice\n",
      "num of crops 1, out of 1 lice\n",
      "num of crops 1, out of 1 lice\n"
     ]
    },
    {
     "name": "stderr",
     "output_type": "stream",
     "text": [
      "\r",
      "1820it [08:23,  1.16it/s]"
     ]
    },
    {
     "name": "stdout",
     "output_type": "stream",
     "text": [
      "num of crops 2, out of 4 lice\n",
      "num of crops 2, out of 2 lice\n"
     ]
    },
    {
     "name": "stderr",
     "output_type": "stream",
     "text": [
      "\r",
      "1824it [08:24,  1.37it/s]"
     ]
    },
    {
     "name": "stdout",
     "output_type": "stream",
     "text": [
      "num of crops 1, out of 1 lice\n",
      "num of crops 1, out of 1 lice\n",
      "num of crops 2, out of 2 lice\n"
     ]
    },
    {
     "name": "stderr",
     "output_type": "stream",
     "text": [
      "\r",
      "1826it [08:24,  1.86it/s]"
     ]
    },
    {
     "name": "stdout",
     "output_type": "stream",
     "text": [
      "num of crops 1, out of 1 lice\n"
     ]
    },
    {
     "name": "stderr",
     "output_type": "stream",
     "text": [
      "1832it [08:27,  2.41it/s]"
     ]
    },
    {
     "name": "stdout",
     "output_type": "stream",
     "text": [
      "num of crops 1, out of 1 lice\n",
      "num of crops 1, out of 1 lice\n",
      "num of crops 1, out of 1 lice\n",
      "num of crops 2, out of 2 lice\n"
     ]
    },
    {
     "name": "stderr",
     "output_type": "stream",
     "text": [
      "1839it [08:27,  4.44it/s]"
     ]
    },
    {
     "name": "stdout",
     "output_type": "stream",
     "text": [
      "num of crops 2, out of 3 lice\n",
      "num of crops 1, out of 1 lice\n",
      "num of crops 1, out of 1 lice\n"
     ]
    },
    {
     "name": "stderr",
     "output_type": "stream",
     "text": [
      "\r",
      "1842it [08:27,  5.52it/s]"
     ]
    },
    {
     "name": "stdout",
     "output_type": "stream",
     "text": [
      "num of crops 4, out of 5 lice\n",
      "num of crops 2, out of 3 lice\n"
     ]
    },
    {
     "name": "stderr",
     "output_type": "stream",
     "text": [
      "\r",
      "1846it [08:27,  7.20it/s]"
     ]
    },
    {
     "name": "stdout",
     "output_type": "stream",
     "text": [
      "num of crops 2, out of 3 lice\n"
     ]
    },
    {
     "name": "stderr",
     "output_type": "stream",
     "text": [
      "1852it [08:30,  4.72it/s]"
     ]
    },
    {
     "name": "stdout",
     "output_type": "stream",
     "text": [
      "num of crops 1, out of 1 lice\n",
      "num of crops 2, out of 4 lice\n",
      "num of crops 2, out of 3 lice\n"
     ]
    },
    {
     "name": "stderr",
     "output_type": "stream",
     "text": [
      "\r",
      "1856it [08:30,  6.38it/s]"
     ]
    },
    {
     "name": "stdout",
     "output_type": "stream",
     "text": [
      "num of crops 3, out of 4 lice\n",
      "num of crops 1, out of 1 lice\n"
     ]
    },
    {
     "name": "stderr",
     "output_type": "stream",
     "text": [
      "1861it [08:30,  9.04it/s]"
     ]
    },
    {
     "name": "stdout",
     "output_type": "stream",
     "text": [
      "num of crops 1, out of 1 lice\n",
      "num of crops 3, out of 4 lice\n"
     ]
    },
    {
     "name": "stderr",
     "output_type": "stream",
     "text": [
      "1866it [08:30, 12.13it/s]"
     ]
    },
    {
     "name": "stdout",
     "output_type": "stream",
     "text": [
      "num of crops 3, out of 3 lice\n"
     ]
    },
    {
     "name": "stderr",
     "output_type": "stream",
     "text": [
      "\r",
      "1868it [08:33,  2.51it/s]"
     ]
    },
    {
     "name": "stdout",
     "output_type": "stream",
     "text": [
      "num of crops 1, out of 1 lice\n",
      "num of crops 1, out of 1 lice\n",
      "num of crops 2, out of 2 lice\n"
     ]
    },
    {
     "name": "stderr",
     "output_type": "stream",
     "text": [
      "1875it [08:33,  4.40it/s]"
     ]
    },
    {
     "name": "stdout",
     "output_type": "stream",
     "text": [
      "num of crops 3, out of 6 lice\n",
      "num of crops 1, out of 2 lice\n"
     ]
    },
    {
     "name": "stderr",
     "output_type": "stream",
     "text": [
      "\r",
      "1878it [08:37,  1.82it/s]"
     ]
    },
    {
     "name": "stdout",
     "output_type": "stream",
     "text": [
      "num of crops 1, out of 1 lice\n"
     ]
    },
    {
     "name": "stderr",
     "output_type": "stream",
     "text": [
      "\r",
      "1880it [08:39,  1.41it/s]"
     ]
    },
    {
     "name": "stdout",
     "output_type": "stream",
     "text": [
      "num of crops 2, out of 2 lice\n",
      "num of crops 1, out of 1 lice\n",
      "num of crops 1, out of 1 lice\n"
     ]
    },
    {
     "name": "stderr",
     "output_type": "stream",
     "text": [
      "\r",
      "1887it [08:41,  1.77it/s]"
     ]
    },
    {
     "name": "stdout",
     "output_type": "stream",
     "text": [
      "num of crops 1, out of 1 lice\n"
     ]
    },
    {
     "name": "stderr",
     "output_type": "stream",
     "text": [
      "\r",
      "1888it [08:41,  1.75it/s]"
     ]
    },
    {
     "name": "stdout",
     "output_type": "stream",
     "text": [
      "num of crops 1, out of 1 lice\n",
      "num of crops 2, out of 4 lice\n"
     ]
    },
    {
     "name": "stderr",
     "output_type": "stream",
     "text": [
      "1898it [08:42,  3.98it/s]"
     ]
    },
    {
     "name": "stdout",
     "output_type": "stream",
     "text": [
      "num of crops 1, out of 1 lice\n",
      "num of crops 2, out of 2 lice\n",
      "num of crops 3, out of 4 lice\n"
     ]
    },
    {
     "name": "stderr",
     "output_type": "stream",
     "text": [
      "\r",
      "1900it [08:43,  4.25it/s]"
     ]
    },
    {
     "name": "stdout",
     "output_type": "stream",
     "text": [
      "num of crops 3, out of 3 lice\n"
     ]
    },
    {
     "name": "stderr",
     "output_type": "stream",
     "text": [
      "\r",
      "1901it [08:44,  2.07it/s]"
     ]
    },
    {
     "name": "stdout",
     "output_type": "stream",
     "text": [
      "num of crops 1, out of 1 lice\n"
     ]
    },
    {
     "name": "stderr",
     "output_type": "stream",
     "text": [
      "\r",
      "1902it [08:44,  1.98it/s]"
     ]
    },
    {
     "name": "stdout",
     "output_type": "stream",
     "text": [
      "num of crops 1, out of 1 lice\n",
      "num of crops 2, out of 2 lice\n"
     ]
    },
    {
     "name": "stderr",
     "output_type": "stream",
     "text": [
      "\r",
      "1905it [08:45,  2.32it/s]"
     ]
    },
    {
     "name": "stdout",
     "output_type": "stream",
     "text": [
      "num of crops 1, out of 2 lice\n"
     ]
    },
    {
     "name": "stderr",
     "output_type": "stream",
     "text": [
      "\r",
      "1906it [08:46,  1.75it/s]"
     ]
    },
    {
     "name": "stdout",
     "output_type": "stream",
     "text": [
      "num of crops 1, out of 2 lice\n"
     ]
    },
    {
     "name": "stderr",
     "output_type": "stream",
     "text": [
      "1908it [08:47,  2.14it/s]"
     ]
    },
    {
     "name": "stdout",
     "output_type": "stream",
     "text": [
      "num of crops 1, out of 2 lice\n",
      "num of crops 2, out of 2 lice\n"
     ]
    },
    {
     "name": "stderr",
     "output_type": "stream",
     "text": [
      "\r",
      "1909it [08:47,  2.03it/s]"
     ]
    },
    {
     "name": "stdout",
     "output_type": "stream",
     "text": [
      "num of crops 1, out of 1 lice\n"
     ]
    },
    {
     "name": "stderr",
     "output_type": "stream",
     "text": [
      "\r",
      "1911it [08:48,  2.22it/s]"
     ]
    },
    {
     "name": "stdout",
     "output_type": "stream",
     "text": [
      "num of crops 1, out of 1 lice\n"
     ]
    },
    {
     "name": "stderr",
     "output_type": "stream",
     "text": [
      "\r",
      "1914it [08:49,  2.35it/s]"
     ]
    },
    {
     "name": "stdout",
     "output_type": "stream",
     "text": [
      "num of crops 2, out of 2 lice\n",
      "num of crops 1, out of 1 lice\n"
     ]
    },
    {
     "name": "stderr",
     "output_type": "stream",
     "text": [
      "\r",
      "1920it [08:49,  3.29it/s]"
     ]
    },
    {
     "name": "stdout",
     "output_type": "stream",
     "text": [
      "num of crops 1, out of 1 lice\n"
     ]
    },
    {
     "name": "stderr",
     "output_type": "stream",
     "text": [
      "\r",
      "1922it [08:50,  2.71it/s]"
     ]
    },
    {
     "name": "stdout",
     "output_type": "stream",
     "text": [
      "num of crops 1, out of 1 lice\n"
     ]
    },
    {
     "name": "stderr",
     "output_type": "stream",
     "text": [
      "\r",
      "1924it [08:52,  2.18it/s]"
     ]
    },
    {
     "name": "stdout",
     "output_type": "stream",
     "text": [
      "num of crops 2, out of 2 lice\n"
     ]
    },
    {
     "name": "stderr",
     "output_type": "stream",
     "text": [
      "\r",
      "1926it [08:53,  2.22it/s]"
     ]
    },
    {
     "name": "stdout",
     "output_type": "stream",
     "text": [
      "num of crops 1, out of 2 lice\n"
     ]
    },
    {
     "name": "stderr",
     "output_type": "stream",
     "text": [
      "\r",
      "1927it [08:54,  1.74it/s]"
     ]
    },
    {
     "name": "stdout",
     "output_type": "stream",
     "text": [
      "num of crops 1, out of 1 lice\n",
      "num of crops 3, out of 3 lice\n"
     ]
    },
    {
     "name": "stderr",
     "output_type": "stream",
     "text": [
      "1929it [08:55,  1.31it/s]"
     ]
    },
    {
     "name": "stdout",
     "output_type": "stream",
     "text": [
      "num of crops 1, out of 1 lice\n",
      "num of crops 2, out of 3 lice\n",
      "num of crops 3, out of 3 lice\n"
     ]
    },
    {
     "name": "stderr",
     "output_type": "stream",
     "text": [
      "1933it [08:56,  1.80it/s]"
     ]
    },
    {
     "name": "stdout",
     "output_type": "stream",
     "text": [
      "num of crops 1, out of 2 lice\n"
     ]
    },
    {
     "name": "stderr",
     "output_type": "stream",
     "text": [
      "\r",
      "1934it [08:58,  1.34it/s]"
     ]
    },
    {
     "name": "stdout",
     "output_type": "stream",
     "text": [
      "num of crops 1, out of 1 lice\n",
      "num of crops 1, out of 2 lice\n",
      "num of crops 2, out of 2 lice\n"
     ]
    },
    {
     "name": "stderr",
     "output_type": "stream",
     "text": [
      "1943it [08:58,  2.55it/s]"
     ]
    },
    {
     "name": "stdout",
     "output_type": "stream",
     "text": [
      "num of crops 2, out of 4 lice\n",
      "num of crops 2, out of 3 lice\n"
     ]
    },
    {
     "name": "stderr",
     "output_type": "stream",
     "text": [
      "\r",
      "1945it [08:59,  2.24it/s]"
     ]
    },
    {
     "name": "stdout",
     "output_type": "stream",
     "text": [
      "num of crops 1, out of 1 lice\n",
      "num of crops 2, out of 2 lice\n",
      "num of crops 1, out of 3 lice\n"
     ]
    },
    {
     "name": "stderr",
     "output_type": "stream",
     "text": [
      "\r",
      "1947it [08:59,  2.95it/s]"
     ]
    },
    {
     "name": "stdout",
     "output_type": "stream",
     "text": [
      "num of crops 2, out of 4 lice\n",
      "num of crops 3, out of 6 lice\n"
     ]
    },
    {
     "name": "stderr",
     "output_type": "stream",
     "text": [
      "\r",
      "1950it [09:00,  3.84it/s]"
     ]
    },
    {
     "name": "stdout",
     "output_type": "stream",
     "text": [
      "num of crops 2, out of 2 lice\n"
     ]
    },
    {
     "name": "stderr",
     "output_type": "stream",
     "text": [
      "1954it [09:04,  1.85it/s]"
     ]
    },
    {
     "name": "stdout",
     "output_type": "stream",
     "text": [
      "num of crops 1, out of 1 lice\n",
      "num of crops 1, out of 1 lice\n"
     ]
    },
    {
     "name": "stderr",
     "output_type": "stream",
     "text": [
      "\r",
      "1956it [09:06,  1.41it/s]"
     ]
    },
    {
     "name": "stdout",
     "output_type": "stream",
     "text": [
      "num of crops 1, out of 1 lice\n",
      "num of crops 2, out of 3 lice\n"
     ]
    },
    {
     "name": "stderr",
     "output_type": "stream",
     "text": [
      "1960it [09:08,  1.40it/s]"
     ]
    },
    {
     "name": "stdout",
     "output_type": "stream",
     "text": [
      "num of crops 2, out of 2 lice\n"
     ]
    },
    {
     "name": "stderr",
     "output_type": "stream",
     "text": [
      "\r",
      "1962it [09:09,  1.48it/s]"
     ]
    },
    {
     "name": "stdout",
     "output_type": "stream",
     "text": [
      "num of crops 1, out of 2 lice\n"
     ]
    },
    {
     "name": "stderr",
     "output_type": "stream",
     "text": [
      "1965it [09:11,  1.68it/s]"
     ]
    },
    {
     "name": "stdout",
     "output_type": "stream",
     "text": [
      "num of crops 1, out of 1 lice\n",
      "num of crops 2, out of 4 lice\n"
     ]
    },
    {
     "name": "stderr",
     "output_type": "stream",
     "text": [
      "\r",
      "1966it [09:12,  1.16it/s]"
     ]
    },
    {
     "name": "stdout",
     "output_type": "stream",
     "text": [
      "num of crops 1, out of 1 lice\n",
      "num of crops 3, out of 4 lice\n"
     ]
    },
    {
     "name": "stderr",
     "output_type": "stream",
     "text": [
      "1969it [09:13,  2.04it/s]"
     ]
    },
    {
     "name": "stdout",
     "output_type": "stream",
     "text": [
      "num of crops 2, out of 3 lice\n",
      "num of crops 1, out of 1 lice\n",
      "num of crops 2, out of 3 lice\n"
     ]
    },
    {
     "name": "stderr",
     "output_type": "stream",
     "text": [
      "1973it [09:13,  3.69it/s]"
     ]
    },
    {
     "name": "stdout",
     "output_type": "stream",
     "text": [
      "num of crops 2, out of 4 lice\n"
     ]
    },
    {
     "name": "stderr",
     "output_type": "stream",
     "text": [
      "\r",
      "1976it [09:16,  2.16it/s]"
     ]
    },
    {
     "name": "stdout",
     "output_type": "stream",
     "text": [
      "num of crops 1, out of 1 lice\n",
      "num of crops 2, out of 3 lice\n",
      "num of crops 3, out of 6 lice\n"
     ]
    },
    {
     "name": "stderr",
     "output_type": "stream",
     "text": [
      "1980it [09:18,  1.06it/s]"
     ]
    },
    {
     "name": "stdout",
     "output_type": "stream",
     "text": [
      "num of crops 1, out of 1 lice\n"
     ]
    },
    {
     "name": "stderr",
     "output_type": "stream",
     "text": [
      "\r",
      "1981it [09:20,  1.30s/it]"
     ]
    },
    {
     "name": "stdout",
     "output_type": "stream",
     "text": [
      "num of crops 1, out of 1 lice\n",
      "num of crops 2, out of 3 lice\n",
      "num of crops 2, out of 2 lice\n"
     ]
    },
    {
     "name": "stderr",
     "output_type": "stream",
     "text": [
      "\r",
      "1983it [09:20,  1.06it/s]"
     ]
    },
    {
     "name": "stdout",
     "output_type": "stream",
     "text": [
      "num of crops 1, out of 3 lice\n",
      "num of crops 3, out of 4 lice\n"
     ]
    },
    {
     "name": "stderr",
     "output_type": "stream",
     "text": [
      "1986it [09:21,  1.88it/s]"
     ]
    },
    {
     "name": "stdout",
     "output_type": "stream",
     "text": [
      "num of crops 3, out of 3 lice\n",
      "num of crops 4, out of 4 lice\n"
     ]
    },
    {
     "name": "stderr",
     "output_type": "stream",
     "text": [
      "1991it [09:21,  3.28it/s]"
     ]
    },
    {
     "name": "stdout",
     "output_type": "stream",
     "text": [
      "num of crops 1, out of 1 lice\n",
      "num of crops 1, out of 1 lice\n",
      "num of crops 1, out of 1 lice\n",
      "num of crops 3, out of 5 lice\n"
     ]
    },
    {
     "name": "stderr",
     "output_type": "stream",
     "text": [
      "1994it [09:25,  1.11s/it]"
     ]
    },
    {
     "name": "stdout",
     "output_type": "stream",
     "text": [
      "num of crops 2, out of 2 lice\n"
     ]
    },
    {
     "name": "stderr",
     "output_type": "stream",
     "text": [
      "1997it [09:26,  1.41it/s]"
     ]
    },
    {
     "name": "stdout",
     "output_type": "stream",
     "text": [
      "num of crops 1, out of 1 lice\n",
      "num of crops 2, out of 3 lice\n"
     ]
    },
    {
     "name": "stderr",
     "output_type": "stream",
     "text": [
      "\r",
      "1999it [09:28,  1.26it/s]"
     ]
    },
    {
     "name": "stdout",
     "output_type": "stream",
     "text": [
      "num of crops 2, out of 2 lice\n",
      "num of crops 3, out of 3 lice\n"
     ]
    },
    {
     "name": "stderr",
     "output_type": "stream",
     "text": [
      "\r",
      "2001it [09:28,  1.73it/s]"
     ]
    },
    {
     "name": "stdout",
     "output_type": "stream",
     "text": [
      "num of crops 1, out of 1 lice\n"
     ]
    },
    {
     "name": "stderr",
     "output_type": "stream",
     "text": [
      "\r",
      "2004it [09:30,  1.74it/s]"
     ]
    },
    {
     "name": "stdout",
     "output_type": "stream",
     "text": [
      "num of crops 1, out of 1 lice\n"
     ]
    },
    {
     "name": "stderr",
     "output_type": "stream",
     "text": [
      "\r",
      "2006it [09:31,  1.54it/s]"
     ]
    },
    {
     "name": "stdout",
     "output_type": "stream",
     "text": [
      "num of crops 1, out of 2 lice\n"
     ]
    },
    {
     "name": "stderr",
     "output_type": "stream",
     "text": [
      "\r",
      "2007it [09:33,  1.20it/s]"
     ]
    },
    {
     "name": "stdout",
     "output_type": "stream",
     "text": [
      "num of crops 2, out of 2 lice\n",
      "num of crops 2, out of 2 lice\n"
     ]
    },
    {
     "name": "stderr",
     "output_type": "stream",
     "text": [
      "2009it [09:34,  1.09it/s]"
     ]
    },
    {
     "name": "stdout",
     "output_type": "stream",
     "text": [
      "num of crops 1, out of 1 lice\n",
      "num of crops 4, out of 5 lice\n"
     ]
    },
    {
     "name": "stderr",
     "output_type": "stream",
     "text": [
      "2011it [09:36,  1.02s/it]"
     ]
    },
    {
     "name": "stdout",
     "output_type": "stream",
     "text": [
      "num of crops 1, out of 1 lice\n"
     ]
    },
    {
     "name": "stderr",
     "output_type": "stream",
     "text": [
      "\r",
      "2012it [09:38,  1.21s/it]"
     ]
    },
    {
     "name": "stdout",
     "output_type": "stream",
     "text": [
      "num of crops 2, out of 2 lice\n",
      "num of crops 5, out of 9 lice\n"
     ]
    },
    {
     "name": "stderr",
     "output_type": "stream",
     "text": [
      "2016it [09:42,  1.53s/it]"
     ]
    },
    {
     "name": "stdout",
     "output_type": "stream",
     "text": [
      "num of crops 2, out of 2 lice\n",
      "num of crops 2, out of 2 lice\n"
     ]
    },
    {
     "name": "stderr",
     "output_type": "stream",
     "text": [
      "\r",
      "2017it [09:42,  1.14s/it]"
     ]
    },
    {
     "name": "stdout",
     "output_type": "stream",
     "text": [
      "num of crops 2, out of 3 lice\n"
     ]
    },
    {
     "name": "stderr",
     "output_type": "stream",
     "text": [
      "\r",
      "2021it [09:47,  1.21s/it]"
     ]
    },
    {
     "name": "stdout",
     "output_type": "stream",
     "text": [
      "num of crops 2, out of 2 lice\n"
     ]
    },
    {
     "name": "stderr",
     "output_type": "stream",
     "text": [
      "\r",
      "2023it [09:50,  1.19s/it]"
     ]
    },
    {
     "name": "stdout",
     "output_type": "stream",
     "text": [
      "num of crops 1, out of 1 lice\n",
      "num of crops 1, out of 3 lice\n",
      "num of crops 2, out of 2 lice\n"
     ]
    },
    {
     "name": "stderr",
     "output_type": "stream",
     "text": [
      "2026it [09:52,  1.13s/it]"
     ]
    },
    {
     "name": "stdout",
     "output_type": "stream",
     "text": [
      "num of crops 1, out of 1 lice\n",
      "num of crops 1, out of 1 lice\n"
     ]
    },
    {
     "name": "stderr",
     "output_type": "stream",
     "text": [
      "\r",
      "2029it [09:54,  1.01s/it]"
     ]
    },
    {
     "name": "stdout",
     "output_type": "stream",
     "text": [
      "num of crops 1, out of 1 lice\n",
      "num of crops 3, out of 3 lice\n"
     ]
    },
    {
     "name": "stderr",
     "output_type": "stream",
     "text": [
      "2032it [09:54,  1.82it/s]"
     ]
    },
    {
     "name": "stdout",
     "output_type": "stream",
     "text": [
      "num of crops 1, out of 1 lice\n",
      "num of crops 2, out of 5 lice\n"
     ]
    },
    {
     "name": "stderr",
     "output_type": "stream",
     "text": [
      "2035it [09:58,  1.07s/it]"
     ]
    },
    {
     "name": "stdout",
     "output_type": "stream",
     "text": [
      "num of crops 1, out of 1 lice\n",
      "num of crops 2, out of 2 lice\n"
     ]
    },
    {
     "name": "stderr",
     "output_type": "stream",
     "text": [
      "\r",
      "2036it [10:00,  1.35s/it]"
     ]
    },
    {
     "name": "stdout",
     "output_type": "stream",
     "text": [
      "num of crops 1, out of 1 lice\n"
     ]
    },
    {
     "name": "stderr",
     "output_type": "stream",
     "text": [
      "\r",
      "2037it [10:02,  1.54s/it]"
     ]
    },
    {
     "name": "stdout",
     "output_type": "stream",
     "text": [
      "num of crops 2, out of 2 lice\n",
      "num of crops 2, out of 5 lice\n"
     ]
    },
    {
     "name": "stderr",
     "output_type": "stream",
     "text": [
      "2040it [10:04,  1.49s/it]"
     ]
    },
    {
     "name": "stdout",
     "output_type": "stream",
     "text": [
      "num of crops 2, out of 2 lice\n"
     ]
    },
    {
     "name": "stderr",
     "output_type": "stream",
     "text": [
      "\r",
      "2041it [10:07,  1.89s/it]"
     ]
    },
    {
     "name": "stdout",
     "output_type": "stream",
     "text": [
      "num of crops 2, out of 2 lice\n"
     ]
    },
    {
     "name": "stderr",
     "output_type": "stream",
     "text": [
      "\r",
      "2042it [10:09,  1.94s/it]"
     ]
    },
    {
     "name": "stdout",
     "output_type": "stream",
     "text": [
      "num of crops 1, out of 1 lice\n"
     ]
    },
    {
     "name": "stderr",
     "output_type": "stream",
     "text": [
      "\r",
      "2043it [10:12,  2.23s/it]"
     ]
    },
    {
     "name": "stdout",
     "output_type": "stream",
     "text": [
      "num of crops 1, out of 1 lice\n",
      "num of crops 1, out of 2 lice\n",
      "num of crops 2, out of 4 lice\n"
     ]
    },
    {
     "name": "stderr",
     "output_type": "stream",
     "text": [
      "2048it [10:14,  1.25s/it]"
     ]
    },
    {
     "name": "stdout",
     "output_type": "stream",
     "text": [
      "num of crops 1, out of 1 lice\n",
      "num of crops 1, out of 3 lice\n",
      "num of crops 2, out of 2 lice\n"
     ]
    },
    {
     "name": "stderr",
     "output_type": "stream",
     "text": [
      "2053it [10:14,  1.49it/s]"
     ]
    },
    {
     "name": "stdout",
     "output_type": "stream",
     "text": [
      "num of crops 3, out of 4 lice\n"
     ]
    },
    {
     "name": "stderr",
     "output_type": "stream",
     "text": [
      "2056it [10:15,  2.29it/s]"
     ]
    },
    {
     "name": "stdout",
     "output_type": "stream",
     "text": [
      "num of crops 1, out of 1 lice\n",
      "num of crops 2, out of 4 lice\n",
      "num of crops 1, out of 2 lice\n"
     ]
    },
    {
     "name": "stderr",
     "output_type": "stream",
     "text": [
      "\r",
      "2058it [10:15,  2.54it/s]"
     ]
    },
    {
     "name": "stdout",
     "output_type": "stream",
     "text": [
      "num of crops 1, out of 1 lice\n"
     ]
    },
    {
     "name": "stderr",
     "output_type": "stream",
     "text": [
      "2060it [10:16,  3.14it/s]"
     ]
    },
    {
     "name": "stdout",
     "output_type": "stream",
     "text": [
      "num of crops 1, out of 1 lice\n",
      "num of crops 2, out of 2 lice\n"
     ]
    },
    {
     "name": "stderr",
     "output_type": "stream",
     "text": [
      "\r",
      "2061it [10:16,  2.81it/s]"
     ]
    },
    {
     "name": "stdout",
     "output_type": "stream",
     "text": [
      "num of crops 1, out of 1 lice\n",
      "num of crops 1, out of 1 lice\n"
     ]
    },
    {
     "name": "stderr",
     "output_type": "stream",
     "text": [
      "\r",
      "2063it [10:17,  2.83it/s]"
     ]
    },
    {
     "name": "stdout",
     "output_type": "stream",
     "text": [
      "num of crops 1, out of 1 lice\n",
      "num of crops 2, out of 4 lice\n",
      "num of crops 2, out of 2 lice\n"
     ]
    },
    {
     "name": "stderr",
     "output_type": "stream",
     "text": [
      "2067it [10:17,  4.51it/s]"
     ]
    },
    {
     "name": "stdout",
     "output_type": "stream",
     "text": [
      "num of crops 1, out of 1 lice\n"
     ]
    },
    {
     "name": "stderr",
     "output_type": "stream",
     "text": [
      "\r",
      "2068it [10:18,  3.51it/s]"
     ]
    },
    {
     "name": "stdout",
     "output_type": "stream",
     "text": [
      "num of crops 1, out of 1 lice\n",
      "num of crops 2, out of 2 lice\n"
     ]
    },
    {
     "name": "stderr",
     "output_type": "stream",
     "text": [
      "\r",
      "2070it [10:18,  3.61it/s]"
     ]
    },
    {
     "name": "stdout",
     "output_type": "stream",
     "text": [
      "num of crops 1, out of 2 lice\n"
     ]
    },
    {
     "name": "stderr",
     "output_type": "stream",
     "text": [
      "\r",
      "2071it [10:19,  3.06it/s]"
     ]
    },
    {
     "name": "stdout",
     "output_type": "stream",
     "text": [
      "num of crops 1, out of 1 lice\n"
     ]
    },
    {
     "name": "stderr",
     "output_type": "stream",
     "text": [
      "2074it [10:19,  3.67it/s]"
     ]
    },
    {
     "name": "stdout",
     "output_type": "stream",
     "text": [
      "num of crops 1, out of 1 lice\n",
      "num of crops 3, out of 6 lice\n",
      "num of crops 2, out of 3 lice\n"
     ]
    },
    {
     "name": "stderr",
     "output_type": "stream",
     "text": [
      "2079it [10:20,  5.87it/s]"
     ]
    },
    {
     "name": "stdout",
     "output_type": "stream",
     "text": [
      "num of crops 2, out of 2 lice\n",
      "num of crops 4, out of 8 lice\n"
     ]
    },
    {
     "name": "stderr",
     "output_type": "stream",
     "text": [
      "\r",
      "2081it [10:20,  5.64it/s]"
     ]
    },
    {
     "name": "stdout",
     "output_type": "stream",
     "text": [
      "num of crops 3, out of 4 lice\n",
      "num of crops 1, out of 1 lice\n"
     ]
    },
    {
     "name": "stderr",
     "output_type": "stream",
     "text": [
      "\r",
      "2083it [10:20,  6.84it/s]"
     ]
    },
    {
     "name": "stdout",
     "output_type": "stream",
     "text": [
      "num of crops 1, out of 1 lice\n"
     ]
    },
    {
     "name": "stderr",
     "output_type": "stream",
     "text": [
      "\r",
      "2085it [10:21,  5.98it/s]"
     ]
    },
    {
     "name": "stdout",
     "output_type": "stream",
     "text": [
      "num of crops 1, out of 1 lice\n"
     ]
    },
    {
     "name": "stderr",
     "output_type": "stream",
     "text": [
      "\r",
      "2086it [10:21,  3.74it/s]"
     ]
    },
    {
     "name": "stdout",
     "output_type": "stream",
     "text": [
      "num of crops 2, out of 2 lice\n"
     ]
    },
    {
     "name": "stderr",
     "output_type": "stream",
     "text": [
      "\r",
      "2087it [10:22,  2.75it/s]"
     ]
    },
    {
     "name": "stdout",
     "output_type": "stream",
     "text": [
      "num of crops 1, out of 1 lice\n"
     ]
    },
    {
     "name": "stderr",
     "output_type": "stream",
     "text": [
      "\r",
      "2089it [10:22,  2.72it/s]"
     ]
    },
    {
     "name": "stdout",
     "output_type": "stream",
     "text": [
      "num of crops 1, out of 1 lice\n",
      "num of crops 3, out of 4 lice\n"
     ]
    },
    {
     "name": "stderr",
     "output_type": "stream",
     "text": [
      "\r",
      "2090it [10:23,  3.29it/s]"
     ]
    },
    {
     "name": "stdout",
     "output_type": "stream",
     "text": [
      "num of crops 5, out of 5 lice\n"
     ]
    },
    {
     "name": "stderr",
     "output_type": "stream",
     "text": [
      "2093it [10:24,  2.71it/s]"
     ]
    },
    {
     "name": "stdout",
     "output_type": "stream",
     "text": [
      "num of crops 1, out of 1 lice\n",
      "num of crops 3, out of 4 lice\n"
     ]
    },
    {
     "name": "stderr",
     "output_type": "stream",
     "text": [
      "\r",
      "2096it [10:24,  3.58it/s]"
     ]
    },
    {
     "name": "stdout",
     "output_type": "stream",
     "text": [
      "num of crops 2, out of 7 lice\n"
     ]
    },
    {
     "name": "stderr",
     "output_type": "stream",
     "text": [
      "\r",
      "2100it [10:25,  3.95it/s]"
     ]
    },
    {
     "name": "stdout",
     "output_type": "stream",
     "text": [
      "num of crops 2, out of 2 lice\n",
      "num of crops 2, out of 3 lice\n"
     ]
    },
    {
     "name": "stderr",
     "output_type": "stream",
     "text": [
      "2102it [10:25,  2.68it/s]"
     ]
    },
    {
     "name": "stdout",
     "output_type": "stream",
     "text": [
      "num of crops 1, out of 1 lice\n"
     ]
    },
    {
     "name": "stderr",
     "output_type": "stream",
     "text": [
      "\r",
      "2103it [10:26,  1.87it/s]"
     ]
    },
    {
     "name": "stdout",
     "output_type": "stream",
     "text": [
      "num of crops 1, out of 1 lice\n",
      "num of crops 2, out of 3 lice\n"
     ]
    },
    {
     "name": "stderr",
     "output_type": "stream",
     "text": [
      "\r",
      "2104it [10:26,  2.40it/s]"
     ]
    },
    {
     "name": "stdout",
     "output_type": "stream",
     "text": [
      "num of crops 1, out of 1 lice\n"
     ]
    },
    {
     "name": "stderr",
     "output_type": "stream",
     "text": [
      "\r",
      "2109it [10:27,  3.00it/s]"
     ]
    },
    {
     "name": "stdout",
     "output_type": "stream",
     "text": [
      "num of crops 2, out of 2 lice\n",
      "num of crops 3, out of 3 lice\n"
     ]
    },
    {
     "name": "stderr",
     "output_type": "stream",
     "text": [
      "2111it [10:27,  4.30it/s]"
     ]
    },
    {
     "name": "stdout",
     "output_type": "stream",
     "text": [
      "num of crops 2, out of 3 lice\n",
      "num of crops 2, out of 3 lice\n"
     ]
    },
    {
     "name": "stderr",
     "output_type": "stream",
     "text": [
      "2113it [10:28,  2.50it/s]"
     ]
    },
    {
     "name": "stdout",
     "output_type": "stream",
     "text": [
      "num of crops 1, out of 2 lice\n",
      "num of crops 1, out of 4 lice\n",
      "num of crops 2, out of 3 lice\n"
     ]
    },
    {
     "name": "stderr",
     "output_type": "stream",
     "text": [
      "2117it [10:30,  1.55it/s]"
     ]
    },
    {
     "name": "stdout",
     "output_type": "stream",
     "text": [
      "num of crops 2, out of 2 lice\n"
     ]
    },
    {
     "name": "stderr",
     "output_type": "stream",
     "text": [
      "\r",
      "2119it [10:32,  1.38it/s]"
     ]
    },
    {
     "name": "stdout",
     "output_type": "stream",
     "text": [
      "num of crops 1, out of 2 lice\n",
      "num of crops 3, out of 3 lice\n"
     ]
    },
    {
     "name": "stderr",
     "output_type": "stream",
     "text": [
      "2123it [10:32,  2.41it/s]"
     ]
    },
    {
     "name": "stdout",
     "output_type": "stream",
     "text": [
      "num of crops 3, out of 6 lice\n",
      "num of crops 1, out of 3 lice\n"
     ]
    },
    {
     "name": "stderr",
     "output_type": "stream",
     "text": [
      "\r",
      "2127it [10:33,  3.23it/s]"
     ]
    },
    {
     "name": "stdout",
     "output_type": "stream",
     "text": [
      "num of crops 3, out of 3 lice\n",
      "num of crops 2, out of 2 lice\n"
     ]
    },
    {
     "name": "stderr",
     "output_type": "stream",
     "text": [
      "\r",
      "2129it [10:33,  4.06it/s]"
     ]
    },
    {
     "name": "stdout",
     "output_type": "stream",
     "text": [
      "num of crops 2, out of 4 lice\n",
      "num of crops 2, out of 3 lice\n"
     ]
    },
    {
     "name": "stderr",
     "output_type": "stream",
     "text": [
      "2133it [10:34,  2.88it/s]"
     ]
    },
    {
     "name": "stdout",
     "output_type": "stream",
     "text": [
      "num of crops 1, out of 1 lice\n",
      "num of crops 2, out of 3 lice\n"
     ]
    },
    {
     "name": "stderr",
     "output_type": "stream",
     "text": [
      "\r",
      "2134it [10:35,  1.85it/s]"
     ]
    },
    {
     "name": "stdout",
     "output_type": "stream",
     "text": [
      "num of crops 1, out of 1 lice\n"
     ]
    },
    {
     "name": "stderr",
     "output_type": "stream",
     "text": [
      "\r",
      "2135it [10:36,  1.35it/s]"
     ]
    },
    {
     "name": "stdout",
     "output_type": "stream",
     "text": [
      "num of crops 1, out of 1 lice\n",
      "num of crops 3, out of 3 lice\n"
     ]
    },
    {
     "name": "stderr",
     "output_type": "stream",
     "text": [
      "2138it [10:37,  2.35it/s]"
     ]
    },
    {
     "name": "stdout",
     "output_type": "stream",
     "text": [
      "num of crops 2, out of 3 lice\n",
      "num of crops 4, out of 6 lice\n"
     ]
    },
    {
     "name": "stderr",
     "output_type": "stream",
     "text": [
      "2140it [10:37,  3.61it/s]"
     ]
    },
    {
     "name": "stdout",
     "output_type": "stream",
     "text": [
      "num of crops 2, out of 6 lice\n"
     ]
    },
    {
     "name": "stderr",
     "output_type": "stream",
     "text": [
      "\r",
      "2142it [10:41,  1.24it/s]"
     ]
    },
    {
     "name": "stdout",
     "output_type": "stream",
     "text": [
      "num of crops 1, out of 2 lice\n",
      "num of crops 2, out of 3 lice\n"
     ]
    },
    {
     "name": "stderr",
     "output_type": "stream",
     "text": [
      "2145it [10:44,  1.22it/s]"
     ]
    },
    {
     "name": "stdout",
     "output_type": "stream",
     "text": [
      "num of crops 2, out of 2 lice\n",
      "num of crops 3, out of 5 lice\n"
     ]
    },
    {
     "name": "stderr",
     "output_type": "stream",
     "text": [
      "\r",
      "2146it [10:44,  1.60it/s]"
     ]
    },
    {
     "name": "stdout",
     "output_type": "stream",
     "text": [
      "num of crops 1, out of 4 lice\n",
      "num of crops 2, out of 3 lice\n"
     ]
    },
    {
     "name": "stderr",
     "output_type": "stream",
     "text": [
      "2151it [10:44,  2.70it/s]"
     ]
    },
    {
     "name": "stdout",
     "output_type": "stream",
     "text": [
      "num of crops 3, out of 8 lice\n"
     ]
    },
    {
     "name": "stderr",
     "output_type": "stream",
     "text": [
      "\r",
      "2152it [10:46,  1.16it/s]"
     ]
    },
    {
     "name": "stdout",
     "output_type": "stream",
     "text": [
      "num of crops 1, out of 1 lice\n",
      "num of crops 1, out of 1 lice\n"
     ]
    },
    {
     "name": "stderr",
     "output_type": "stream",
     "text": [
      "\r",
      "2155it [10:50,  1.01it/s]"
     ]
    },
    {
     "name": "stdout",
     "output_type": "stream",
     "text": [
      "num of crops 1, out of 1 lice\n",
      "num of crops 4, out of 5 lice\n"
     ]
    },
    {
     "name": "stderr",
     "output_type": "stream",
     "text": [
      "2158it [10:51,  1.81it/s]"
     ]
    },
    {
     "name": "stdout",
     "output_type": "stream",
     "text": [
      "num of crops 2, out of 2 lice\n",
      "num of crops 1, out of 4 lice\n"
     ]
    },
    {
     "name": "stderr",
     "output_type": "stream",
     "text": [
      "2162it [10:53,  1.80it/s]"
     ]
    },
    {
     "name": "stdout",
     "output_type": "stream",
     "text": [
      "num of crops 1, out of 1 lice\n",
      "num of crops 3, out of 3 lice\n",
      "num of crops 2, out of 3 lice\n"
     ]
    },
    {
     "name": "stderr",
     "output_type": "stream",
     "text": [
      "\r",
      "2164it [10:55,  1.39it/s]"
     ]
    },
    {
     "name": "stdout",
     "output_type": "stream",
     "text": [
      "num of crops 1, out of 2 lice\n"
     ]
    },
    {
     "name": "stderr",
     "output_type": "stream",
     "text": [
      "2166it [10:58,  1.21it/s]"
     ]
    },
    {
     "name": "stdout",
     "output_type": "stream",
     "text": [
      "num of crops 1, out of 2 lice\n",
      "num of crops 2, out of 2 lice\n"
     ]
    },
    {
     "name": "stderr",
     "output_type": "stream",
     "text": [
      "\r",
      "2168it [11:00,  1.16it/s]"
     ]
    },
    {
     "name": "stdout",
     "output_type": "stream",
     "text": [
      "num of crops 1, out of 2 lice\n",
      "num of crops 2, out of 4 lice\n"
     ]
    },
    {
     "name": "stderr",
     "output_type": "stream",
     "text": [
      "\r",
      "2170it [11:02,  1.04it/s]"
     ]
    },
    {
     "name": "stdout",
     "output_type": "stream",
     "text": [
      "num of crops 2, out of 2 lice\n",
      "num of crops 1, out of 1 lice\n"
     ]
    },
    {
     "name": "stderr",
     "output_type": "stream",
     "text": [
      "\r",
      "2172it [11:04,  1.04s/it]"
     ]
    },
    {
     "name": "stdout",
     "output_type": "stream",
     "text": [
      "num of crops 1, out of 2 lice\n"
     ]
    },
    {
     "name": "stderr",
     "output_type": "stream",
     "text": [
      "\r",
      "2174it [11:06,  1.03s/it]"
     ]
    },
    {
     "name": "stdout",
     "output_type": "stream",
     "text": [
      "num of crops 1, out of 2 lice\n"
     ]
    },
    {
     "name": "stderr",
     "output_type": "stream",
     "text": [
      "2178it [11:08,  1.38it/s]"
     ]
    },
    {
     "name": "stdout",
     "output_type": "stream",
     "text": [
      "num of crops 1, out of 1 lice\n",
      "num of crops 1, out of 1 lice\n",
      "num of crops 2, out of 3 lice\n"
     ]
    },
    {
     "name": "stderr",
     "output_type": "stream",
     "text": [
      "\r",
      "2179it [11:10,  1.01s/it]"
     ]
    },
    {
     "name": "stdout",
     "output_type": "stream",
     "text": [
      "num of crops 2, out of 2 lice\n"
     ]
    },
    {
     "name": "stderr",
     "output_type": "stream",
     "text": [
      "\r",
      "2180it [11:12,  1.15s/it]"
     ]
    },
    {
     "name": "stdout",
     "output_type": "stream",
     "text": [
      "num of crops 1, out of 1 lice\n"
     ]
    },
    {
     "name": "stderr",
     "output_type": "stream",
     "text": [
      "\r",
      "2181it [11:14,  1.43s/it]"
     ]
    },
    {
     "name": "stdout",
     "output_type": "stream",
     "text": [
      "num of crops 1, out of 1 lice\n"
     ]
    },
    {
     "name": "stderr",
     "output_type": "stream",
     "text": [
      "\r",
      "2182it [11:15,  1.49s/it]"
     ]
    },
    {
     "name": "stdout",
     "output_type": "stream",
     "text": [
      "num of crops 1, out of 1 lice\n",
      "num of crops 1, out of 2 lice\n",
      "num of crops 1, out of 3 lice\n"
     ]
    },
    {
     "name": "stderr",
     "output_type": "stream",
     "text": [
      "2187it [11:16,  1.29it/s]"
     ]
    },
    {
     "name": "stdout",
     "output_type": "stream",
     "text": [
      "num of crops 3, out of 5 lice\n",
      "num of crops 1, out of 1 lice\n"
     ]
    },
    {
     "name": "stderr",
     "output_type": "stream",
     "text": [
      "2191it [11:18,  1.65it/s]"
     ]
    },
    {
     "name": "stdout",
     "output_type": "stream",
     "text": [
      "num of crops 1, out of 1 lice\n",
      "num of crops 3, out of 6 lice\n",
      "num of crops 3, out of 4 lice\n"
     ]
    },
    {
     "name": "stderr",
     "output_type": "stream",
     "text": [
      "2194it [11:20,  1.30it/s]"
     ]
    },
    {
     "name": "stdout",
     "output_type": "stream",
     "text": [
      "num of crops 1, out of 1 lice\n",
      "num of crops 2, out of 4 lice\n"
     ]
    },
    {
     "name": "stderr",
     "output_type": "stream",
     "text": [
      "\r",
      "2195it [11:22,  1.07s/it]"
     ]
    },
    {
     "name": "stdout",
     "output_type": "stream",
     "text": [
      "num of crops 1, out of 1 lice\n"
     ]
    },
    {
     "name": "stderr",
     "output_type": "stream",
     "text": [
      "\r",
      "2196it [11:25,  1.65s/it]"
     ]
    },
    {
     "name": "stdout",
     "output_type": "stream",
     "text": [
      "num of crops 1, out of 1 lice\n"
     ]
    },
    {
     "name": "stderr",
     "output_type": "stream",
     "text": [
      "\r",
      "2197it [11:28,  1.99s/it]"
     ]
    },
    {
     "name": "stdout",
     "output_type": "stream",
     "text": [
      "num of crops 1, out of 1 lice\n",
      "num of crops 2, out of 2 lice\n"
     ]
    },
    {
     "name": "stderr",
     "output_type": "stream",
     "text": [
      "\r",
      "2198it [11:28,  1.45s/it]"
     ]
    },
    {
     "name": "stdout",
     "output_type": "stream",
     "text": [
      "num of crops 1, out of 1 lice\n"
     ]
    },
    {
     "name": "stderr",
     "output_type": "stream",
     "text": [
      "\r",
      "2201it [11:32,  1.44s/it]"
     ]
    },
    {
     "name": "stdout",
     "output_type": "stream",
     "text": [
      "num of crops 1, out of 1 lice\n"
     ]
    },
    {
     "name": "stderr",
     "output_type": "stream",
     "text": [
      "\r",
      "2202it [11:34,  1.65s/it]"
     ]
    },
    {
     "name": "stdout",
     "output_type": "stream",
     "text": [
      "num of crops 2, out of 2 lice\n",
      "num of crops 1, out of 1 lice\n"
     ]
    },
    {
     "name": "stderr",
     "output_type": "stream",
     "text": [
      "\r",
      "2204it [11:35,  1.19s/it]"
     ]
    },
    {
     "name": "stdout",
     "output_type": "stream",
     "text": [
      "num of crops 2, out of 3 lice\n"
     ]
    },
    {
     "name": "stderr",
     "output_type": "stream",
     "text": [
      "\r",
      "2205it [11:37,  1.60s/it]"
     ]
    },
    {
     "name": "stdout",
     "output_type": "stream",
     "text": [
      "num of crops 2, out of 2 lice\n",
      "num of crops 2, out of 5 lice\n"
     ]
    },
    {
     "name": "stderr",
     "output_type": "stream",
     "text": [
      "2208it [11:41,  1.28s/it]"
     ]
    },
    {
     "name": "stdout",
     "output_type": "stream",
     "text": [
      "num of crops 1, out of 1 lice\n",
      "num of crops 1, out of 2 lice\n"
     ]
    },
    {
     "name": "stderr",
     "output_type": "stream",
     "text": [
      "2214it [11:44,  1.25s/it]"
     ]
    },
    {
     "name": "stdout",
     "output_type": "stream",
     "text": [
      "num of crops 1, out of 1 lice\n",
      "num of crops 1, out of 2 lice\n",
      "num of crops 1, out of 1 lice\n",
      "num of crops 1, out of 1 lice\n"
     ]
    },
    {
     "name": "stderr",
     "output_type": "stream",
     "text": [
      "\r",
      "2216it [11:46,  1.20s/it]"
     ]
    },
    {
     "name": "stdout",
     "output_type": "stream",
     "text": [
      "num of crops 2, out of 2 lice\n",
      "num of crops 2, out of 2 lice\n",
      "num of crops 4, out of 9 lice\n"
     ]
    },
    {
     "name": "stderr",
     "output_type": "stream",
     "text": [
      "2219it [11:49,  1.07it/s]"
     ]
    },
    {
     "name": "stdout",
     "output_type": "stream",
     "text": [
      "num of crops 4, out of 8 lice\n",
      "num of crops 3, out of 3 lice\n"
     ]
    },
    {
     "name": "stderr",
     "output_type": "stream",
     "text": [
      "2221it [11:49,  1.93it/s]"
     ]
    },
    {
     "name": "stdout",
     "output_type": "stream",
     "text": [
      "num of crops 1, out of 1 lice\n",
      "num of crops 1, out of 1 lice\n"
     ]
    },
    {
     "name": "stderr",
     "output_type": "stream",
     "text": [
      "\r",
      "2222it [11:49,  2.54it/s]"
     ]
    },
    {
     "name": "stdout",
     "output_type": "stream",
     "text": [
      "num of crops 1, out of 1 lice\n",
      "num of crops 3, out of 4 lice\n"
     ]
    },
    {
     "name": "stderr",
     "output_type": "stream",
     "text": [
      "2225it [11:52,  1.03it/s]"
     ]
    },
    {
     "name": "stdout",
     "output_type": "stream",
     "text": [
      "num of crops 1, out of 2 lice\n"
     ]
    },
    {
     "name": "stderr",
     "output_type": "stream",
     "text": [
      "\r",
      "2226it [11:54,  1.26s/it]"
     ]
    },
    {
     "name": "stdout",
     "output_type": "stream",
     "text": [
      "num of crops 1, out of 1 lice\n"
     ]
    },
    {
     "name": "stderr",
     "output_type": "stream",
     "text": [
      "\r",
      "2229it [11:57,  1.17s/it]"
     ]
    },
    {
     "name": "stdout",
     "output_type": "stream",
     "text": [
      "num of crops 1, out of 1 lice\n",
      "num of crops 1, out of 1 lice\n",
      "num of crops 4, out of 5 lice\n"
     ]
    },
    {
     "name": "stderr",
     "output_type": "stream",
     "text": [
      "\r",
      "2231it [11:57,  1.15it/s]"
     ]
    },
    {
     "name": "stdout",
     "output_type": "stream",
     "text": [
      "num of crops 1, out of 2 lice\n"
     ]
    },
    {
     "name": "stderr",
     "output_type": "stream",
     "text": [
      "\r",
      "2233it [12:00,  1.02s/it]"
     ]
    },
    {
     "name": "stdout",
     "output_type": "stream",
     "text": [
      "num of crops 1, out of 1 lice\n",
      "num of crops 2, out of 5 lice\n",
      "num of crops 3, out of 4 lice\n"
     ]
    },
    {
     "name": "stderr",
     "output_type": "stream",
     "text": [
      "\r",
      "2235it [12:00,  1.34it/s]"
     ]
    },
    {
     "name": "stdout",
     "output_type": "stream",
     "text": [
      "num of crops 1, out of 2 lice\n"
     ]
    },
    {
     "name": "stderr",
     "output_type": "stream",
     "text": [
      "\r",
      "2238it [12:04,  1.13it/s]"
     ]
    },
    {
     "name": "stdout",
     "output_type": "stream",
     "text": [
      "num of crops 2, out of 2 lice\n",
      "num of crops 4, out of 6 lice\n"
     ]
    },
    {
     "name": "stderr",
     "output_type": "stream",
     "text": [
      "2240it [12:06,  1.22s/it]"
     ]
    },
    {
     "name": "stdout",
     "output_type": "stream",
     "text": [
      "num of crops 2, out of 2 lice\n"
     ]
    },
    {
     "name": "stderr",
     "output_type": "stream",
     "text": [
      "2242it [12:09,  1.11s/it]"
     ]
    },
    {
     "name": "stdout",
     "output_type": "stream",
     "text": [
      "num of crops 1, out of 1 lice\n",
      "num of crops 1, out of 1 lice\n"
     ]
    },
    {
     "name": "stderr",
     "output_type": "stream",
     "text": [
      "\r",
      "2243it [12:11,  1.40s/it]"
     ]
    },
    {
     "name": "stdout",
     "output_type": "stream",
     "text": [
      "num of crops 1, out of 1 lice\n"
     ]
    },
    {
     "name": "stderr",
     "output_type": "stream",
     "text": [
      "2245it [12:14,  1.41s/it]"
     ]
    },
    {
     "name": "stdout",
     "output_type": "stream",
     "text": [
      "num of crops 1, out of 2 lice\n",
      "num of crops 1, out of 1 lice\n"
     ]
    },
    {
     "name": "stderr",
     "output_type": "stream",
     "text": [
      "\r",
      "2250it [12:16,  1.11s/it]"
     ]
    },
    {
     "name": "stdout",
     "output_type": "stream",
     "text": [
      "num of crops 1, out of 1 lice\n"
     ]
    },
    {
     "name": "stderr",
     "output_type": "stream",
     "text": [
      "\r",
      "2251it [12:19,  1.54s/it]"
     ]
    },
    {
     "name": "stdout",
     "output_type": "stream",
     "text": [
      "num of crops 1, out of 1 lice\n"
     ]
    },
    {
     "name": "stderr",
     "output_type": "stream",
     "text": [
      "\r",
      "2253it [12:23,  1.66s/it]"
     ]
    },
    {
     "name": "stdout",
     "output_type": "stream",
     "text": [
      "num of crops 1, out of 1 lice\n",
      "num of crops 2, out of 2 lice\n"
     ]
    },
    {
     "name": "stderr",
     "output_type": "stream",
     "text": [
      "2257it [12:29,  1.80s/it]"
     ]
    },
    {
     "name": "stdout",
     "output_type": "stream",
     "text": [
      "num of crops 2, out of 2 lice\n",
      "num of crops 2, out of 2 lice\n"
     ]
    },
    {
     "name": "stderr",
     "output_type": "stream",
     "text": [
      "\r",
      "2259it [12:29,  1.28s/it]"
     ]
    },
    {
     "name": "stdout",
     "output_type": "stream",
     "text": [
      "num of crops 4, out of 5 lice\n"
     ]
    },
    {
     "name": "stderr",
     "output_type": "stream",
     "text": [
      "2262it [12:34,  1.26s/it]"
     ]
    },
    {
     "name": "stdout",
     "output_type": "stream",
     "text": [
      "num of crops 1, out of 1 lice\n",
      "num of crops 2, out of 2 lice\n"
     ]
    },
    {
     "name": "stderr",
     "output_type": "stream",
     "text": [
      "\r",
      "2263it [12:34,  1.08it/s]"
     ]
    },
    {
     "name": "stdout",
     "output_type": "stream",
     "text": [
      "num of crops 2, out of 3 lice\n",
      "num of crops 3, out of 3 lice\n"
     ]
    },
    {
     "name": "stderr",
     "output_type": "stream",
     "text": [
      "2268it [12:38,  1.72s/it]"
     ]
    },
    {
     "name": "stdout",
     "output_type": "stream",
     "text": [
      "num of crops 1, out of 1 lice\n"
     ]
    },
    {
     "name": "stderr",
     "output_type": "stream",
     "text": [
      "\r",
      "2269it [12:43,  2.64s/it]"
     ]
    },
    {
     "name": "stdout",
     "output_type": "stream",
     "text": [
      "num of crops 1, out of 1 lice\n",
      "num of crops 3, out of 3 lice\n"
     ]
    },
    {
     "name": "stderr",
     "output_type": "stream",
     "text": [
      "2271it [12:43,  1.38s/it]"
     ]
    },
    {
     "name": "stdout",
     "output_type": "stream",
     "text": [
      "num of crops 1, out of 1 lice\n",
      "num of crops 3, out of 5 lice\n"
     ]
    },
    {
     "name": "stderr",
     "output_type": "stream",
     "text": [
      "2276it [12:44,  1.40it/s]"
     ]
    },
    {
     "name": "stdout",
     "output_type": "stream",
     "text": [
      "num of crops 1, out of 2 lice\n",
      "num of crops 2, out of 2 lice\n",
      "num of crops 3, out of 4 lice\n"
     ]
    },
    {
     "name": "stderr",
     "output_type": "stream",
     "text": [
      "\r",
      "2278it [12:49,  1.29s/it]"
     ]
    },
    {
     "name": "stdout",
     "output_type": "stream",
     "text": [
      "num of crops 1, out of 2 lice\n"
     ]
    },
    {
     "name": "stderr",
     "output_type": "stream",
     "text": [
      "\r",
      "2280it [12:56,  1.99s/it]"
     ]
    },
    {
     "name": "stdout",
     "output_type": "stream",
     "text": [
      "num of crops 2, out of 2 lice\n"
     ]
    },
    {
     "name": "stderr",
     "output_type": "stream",
     "text": [
      "\r",
      "2281it [13:01,  2.95s/it]"
     ]
    },
    {
     "name": "stdout",
     "output_type": "stream",
     "text": [
      "num of crops 1, out of 1 lice\n",
      "num of crops 4, out of 7 lice\n"
     ]
    },
    {
     "name": "stderr",
     "output_type": "stream",
     "text": [
      "\r",
      "2282it [13:01,  2.14s/it]"
     ]
    },
    {
     "name": "stdout",
     "output_type": "stream",
     "text": [
      "num of crops 1, out of 1 lice\n",
      "num of crops 3, out of 4 lice\n"
     ]
    },
    {
     "name": "stderr",
     "output_type": "stream",
     "text": [
      "2286it [13:02,  1.10s/it]"
     ]
    },
    {
     "name": "stdout",
     "output_type": "stream",
     "text": [
      "num of crops 2, out of 2 lice\n",
      "num of crops 2, out of 5 lice\n"
     ]
    },
    {
     "name": "stderr",
     "output_type": "stream",
     "text": [
      "\r",
      "2288it [13:06,  1.36s/it]"
     ]
    },
    {
     "name": "stdout",
     "output_type": "stream",
     "text": [
      "num of crops 1, out of 1 lice\n"
     ]
    },
    {
     "name": "stderr",
     "output_type": "stream",
     "text": [
      "\r",
      "2289it [13:10,  2.13s/it]"
     ]
    },
    {
     "name": "stdout",
     "output_type": "stream",
     "text": [
      "num of crops 1, out of 1 lice\n",
      "num of crops 2, out of 2 lice\n"
     ]
    },
    {
     "name": "stderr",
     "output_type": "stream",
     "text": [
      "2291it [13:13,  2.14s/it]"
     ]
    },
    {
     "name": "stdout",
     "output_type": "stream",
     "text": [
      "num of crops 1, out of 2 lice\n",
      "num of crops 3, out of 5 lice\n"
     ]
    },
    {
     "name": "stderr",
     "output_type": "stream",
     "text": [
      "2294it [13:14,  1.13s/it]"
     ]
    },
    {
     "name": "stdout",
     "output_type": "stream",
     "text": [
      "num of crops 3, out of 4 lice\n",
      "num of crops 3, out of 5 lice\n"
     ]
    },
    {
     "name": "stderr",
     "output_type": "stream",
     "text": [
      "\r",
      "2297it [13:14,  1.25it/s]"
     ]
    },
    {
     "name": "stdout",
     "output_type": "stream",
     "text": [
      "num of crops 2, out of 2 lice\n"
     ]
    },
    {
     "name": "stderr",
     "output_type": "stream",
     "text": [
      "\r",
      "2299it [13:17,  1.09s/it]"
     ]
    },
    {
     "name": "stdout",
     "output_type": "stream",
     "text": [
      "num of crops 2, out of 2 lice\n"
     ]
    },
    {
     "name": "stderr",
     "output_type": "stream",
     "text": [
      "2304it [13:20,  1.14s/it]"
     ]
    },
    {
     "name": "stdout",
     "output_type": "stream",
     "text": [
      "num of crops 1, out of 2 lice\n",
      "num of crops 1, out of 7 lice\n",
      "num of crops 1, out of 2 lice\n",
      "num of crops 2, out of 3 lice\n"
     ]
    },
    {
     "name": "stderr",
     "output_type": "stream",
     "text": [
      "\r",
      "2306it [13:21,  1.20it/s]"
     ]
    },
    {
     "name": "stdout",
     "output_type": "stream",
     "text": [
      "num of crops 3, out of 8 lice\n",
      "num of crops 4, out of 5 lice\n"
     ]
    },
    {
     "name": "stderr",
     "output_type": "stream",
     "text": [
      "\r",
      "2308it [13:24,  1.14s/it]"
     ]
    },
    {
     "name": "stdout",
     "output_type": "stream",
     "text": [
      "num of crops 2, out of 2 lice\n",
      "num of crops 3, out of 4 lice\n"
     ]
    },
    {
     "name": "stderr",
     "output_type": "stream",
     "text": [
      "2310it [13:25,  1.51it/s]"
     ]
    },
    {
     "name": "stdout",
     "output_type": "stream",
     "text": [
      "num of crops 2, out of 2 lice\n",
      "num of crops 1, out of 2 lice\n"
     ]
    },
    {
     "name": "stderr",
     "output_type": "stream",
     "text": [
      "\r",
      "2312it [13:27,  1.17it/s]"
     ]
    },
    {
     "name": "stdout",
     "output_type": "stream",
     "text": [
      "num of crops 2, out of 2 lice\n",
      "num of crops 3, out of 5 lice\n"
     ]
    },
    {
     "name": "stderr",
     "output_type": "stream",
     "text": [
      "2314it [13:28,  2.04it/s]"
     ]
    },
    {
     "name": "stdout",
     "output_type": "stream",
     "text": [
      "num of crops 2, out of 3 lice\n",
      "num of crops 1, out of 1 lice\n",
      "num of crops 2, out of 3 lice\n"
     ]
    },
    {
     "name": "stderr",
     "output_type": "stream",
     "text": [
      "2317it [13:30,  1.02s/it]"
     ]
    },
    {
     "name": "stdout",
     "output_type": "stream",
     "text": [
      "num of crops 1, out of 1 lice\n"
     ]
    },
    {
     "name": "stderr",
     "output_type": "stream",
     "text": [
      "\r",
      "2319it [13:32,  1.03it/s]"
     ]
    },
    {
     "name": "stdout",
     "output_type": "stream",
     "text": [
      "num of crops 2, out of 2 lice\n",
      "num of crops 3, out of 7 lice\n"
     ]
    },
    {
     "name": "stderr",
     "output_type": "stream",
     "text": [
      "\r",
      "2320it [13:32,  1.39it/s]"
     ]
    },
    {
     "name": "stdout",
     "output_type": "stream",
     "text": [
      "num of crops 1, out of 3 lice\n",
      "num of crops 2, out of 2 lice\n"
     ]
    },
    {
     "name": "stderr",
     "output_type": "stream",
     "text": [
      "2325it [13:33,  2.57it/s]"
     ]
    },
    {
     "name": "stdout",
     "output_type": "stream",
     "text": [
      "num of crops 3, out of 3 lice\n",
      "num of crops 2, out of 3 lice\n"
     ]
    },
    {
     "name": "stderr",
     "output_type": "stream",
     "text": [
      "\r",
      "2327it [13:37,  1.04it/s]"
     ]
    },
    {
     "name": "stdout",
     "output_type": "stream",
     "text": [
      "num of crops 1, out of 2 lice\n"
     ]
    },
    {
     "name": "stderr",
     "output_type": "stream",
     "text": [
      "\r",
      "2328it [13:42,  2.01s/it]"
     ]
    },
    {
     "name": "stdout",
     "output_type": "stream",
     "text": [
      "num of crops 2, out of 2 lice\n",
      "num of crops 3, out of 5 lice\n"
     ]
    },
    {
     "name": "stderr",
     "output_type": "stream",
     "text": [
      "2330it [13:42,  1.06s/it]"
     ]
    },
    {
     "name": "stdout",
     "output_type": "stream",
     "text": [
      "num of crops 2, out of 3 lice\n",
      "num of crops 2, out of 5 lice\n"
     ]
    },
    {
     "name": "stderr",
     "output_type": "stream",
     "text": [
      "2332it [13:42,  1.69it/s]"
     ]
    },
    {
     "name": "stdout",
     "output_type": "stream",
     "text": [
      "num of crops 2, out of 3 lice\n",
      "num of crops 3, out of 5 lice\n"
     ]
    },
    {
     "name": "stderr",
     "output_type": "stream",
     "text": [
      "2334it [13:45,  1.12s/it]"
     ]
    },
    {
     "name": "stdout",
     "output_type": "stream",
     "text": [
      "num of crops 1, out of 1 lice\n",
      "num of crops 2, out of 2 lice\n"
     ]
    },
    {
     "name": "stderr",
     "output_type": "stream",
     "text": [
      "\r",
      "2335it [13:45,  1.21it/s]"
     ]
    },
    {
     "name": "stdout",
     "output_type": "stream",
     "text": [
      "num of crops 2, out of 3 lice\n",
      "num of crops 2, out of 2 lice\n"
     ]
    },
    {
     "name": "stderr",
     "output_type": "stream",
     "text": [
      "2340it [13:56,  1.52s/it]"
     ]
    },
    {
     "name": "stdout",
     "output_type": "stream",
     "text": [
      "num of crops 1, out of 1 lice\n",
      "num of crops 2, out of 3 lice\n",
      "num of crops 2, out of 2 lice\n"
     ]
    },
    {
     "name": "stderr",
     "output_type": "stream",
     "text": [
      "2342it [14:00,  1.84s/it]"
     ]
    },
    {
     "name": "stdout",
     "output_type": "stream",
     "text": [
      "num of crops 1, out of 1 lice\n",
      "num of crops 3, out of 8 lice\n"
     ]
    },
    {
     "name": "stderr",
     "output_type": "stream",
     "text": [
      "2344it [14:00,  1.03it/s]"
     ]
    },
    {
     "name": "stdout",
     "output_type": "stream",
     "text": [
      "num of crops 3, out of 6 lice\n",
      "num of crops 1, out of 3 lice\n",
      "num of crops 2, out of 2 lice\n"
     ]
    },
    {
     "name": "stderr",
     "output_type": "stream",
     "text": [
      "\r",
      "2346it [14:00,  1.42it/s]"
     ]
    },
    {
     "name": "stdout",
     "output_type": "stream",
     "text": [
      "num of crops 2, out of 3 lice\n"
     ]
    },
    {
     "name": "stderr",
     "output_type": "stream",
     "text": [
      "\r",
      "2348it [14:03,  1.07it/s]"
     ]
    },
    {
     "name": "stdout",
     "output_type": "stream",
     "text": [
      "num of crops 1, out of 1 lice\n",
      "num of crops 3, out of 4 lice\n"
     ]
    },
    {
     "name": "stderr",
     "output_type": "stream",
     "text": [
      "\r",
      "2349it [14:03,  1.37it/s]"
     ]
    },
    {
     "name": "stdout",
     "output_type": "stream",
     "text": [
      "num of crops 4, out of 5 lice\n"
     ]
    },
    {
     "name": "stderr",
     "output_type": "stream",
     "text": [
      "2351it [14:06,  1.22s/it]"
     ]
    },
    {
     "name": "stdout",
     "output_type": "stream",
     "text": [
      "num of crops 1, out of 1 lice\n"
     ]
    },
    {
     "name": "stderr",
     "output_type": "stream",
     "text": [
      "\r",
      "2352it [14:09,  1.80s/it]"
     ]
    },
    {
     "name": "stdout",
     "output_type": "stream",
     "text": [
      "num of crops 1, out of 1 lice\n"
     ]
    },
    {
     "name": "stderr",
     "output_type": "stream",
     "text": [
      "\r",
      "2353it [14:15,  2.89s/it]"
     ]
    },
    {
     "name": "stdout",
     "output_type": "stream",
     "text": [
      "num of crops 1, out of 1 lice\n"
     ]
    },
    {
     "name": "stderr",
     "output_type": "stream",
     "text": [
      "\r",
      "2354it [14:21,  3.76s/it]"
     ]
    },
    {
     "name": "stdout",
     "output_type": "stream",
     "text": [
      "num of crops 1, out of 1 lice\n",
      "num of crops 1, out of 1 lice\n",
      "num of crops 1, out of 1 lice\n"
     ]
    },
    {
     "name": "stderr",
     "output_type": "stream",
     "text": [
      "2358it [14:27,  3.78s/it]"
     ]
    },
    {
     "name": "stdout",
     "output_type": "stream",
     "text": [
      "num of crops 1, out of 2 lice\n",
      "num of crops 3, out of 3 lice\n"
     ]
    },
    {
     "name": "stderr",
     "output_type": "stream",
     "text": [
      "\r",
      "2359it [14:27,  2.70s/it]"
     ]
    },
    {
     "name": "stdout",
     "output_type": "stream",
     "text": [
      "num of crops 1, out of 1 lice\n"
     ]
    },
    {
     "name": "stderr",
     "output_type": "stream",
     "text": [
      "2362it [14:32,  1.84s/it]"
     ]
    },
    {
     "name": "stdout",
     "output_type": "stream",
     "text": [
      "num of crops 1, out of 1 lice\n",
      "num of crops 2, out of 3 lice\n",
      "num of crops 2, out of 2 lice\n"
     ]
    },
    {
     "name": "stderr",
     "output_type": "stream",
     "text": [
      "2364it [14:36,  2.04s/it]"
     ]
    },
    {
     "name": "stdout",
     "output_type": "stream",
     "text": [
      "num of crops 1, out of 1 lice\n"
     ]
    },
    {
     "name": "stderr",
     "output_type": "stream",
     "text": [
      "\r",
      "2367it [14:39,  1.73s/it]"
     ]
    },
    {
     "name": "stdout",
     "output_type": "stream",
     "text": [
      "num of crops 1, out of 1 lice\n",
      "num of crops 3, out of 4 lice\n"
     ]
    },
    {
     "name": "stderr",
     "output_type": "stream",
     "text": [
      "\r",
      "2368it [14:39,  1.26s/it]"
     ]
    },
    {
     "name": "stdout",
     "output_type": "stream",
     "text": [
      "num of crops 4, out of 9 lice\n"
     ]
    },
    {
     "name": "stderr",
     "output_type": "stream",
     "text": [
      "2370it [14:44,  1.93s/it]"
     ]
    },
    {
     "name": "stdout",
     "output_type": "stream",
     "text": [
      "num of crops 1, out of 1 lice\n",
      "num of crops 3, out of 5 lice\n"
     ]
    },
    {
     "name": "stderr",
     "output_type": "stream",
     "text": [
      "\r",
      "2371it [14:44,  1.40s/it]"
     ]
    },
    {
     "name": "stdout",
     "output_type": "stream",
     "text": [
      "num of crops 2, out of 5 lice\n"
     ]
    },
    {
     "name": "stderr",
     "output_type": "stream",
     "text": [
      "\r",
      "2373it [14:48,  1.64s/it]"
     ]
    },
    {
     "name": "stdout",
     "output_type": "stream",
     "text": [
      "num of crops 1, out of 1 lice\n",
      "num of crops 3, out of 5 lice\n"
     ]
    },
    {
     "name": "stderr",
     "output_type": "stream",
     "text": [
      "2375it [14:52,  1.80s/it]"
     ]
    },
    {
     "name": "stdout",
     "output_type": "stream",
     "text": [
      "num of crops 1, out of 1 lice\n",
      "num of crops 2, out of 4 lice\n"
     ]
    },
    {
     "name": "stderr",
     "output_type": "stream",
     "text": [
      "2377it [14:55,  1.98s/it]"
     ]
    },
    {
     "name": "stdout",
     "output_type": "stream",
     "text": [
      "num of crops 1, out of 1 lice\n",
      "num of crops 2, out of 3 lice\n"
     ]
    },
    {
     "name": "stderr",
     "output_type": "stream",
     "text": [
      "\r",
      "2378it [14:55,  1.43s/it]"
     ]
    },
    {
     "name": "stdout",
     "output_type": "stream",
     "text": [
      "num of crops 4, out of 4 lice\n"
     ]
    },
    {
     "name": "stderr",
     "output_type": "stream",
     "text": [
      "2380it [14:56,  1.24it/s]"
     ]
    },
    {
     "name": "stdout",
     "output_type": "stream",
     "text": [
      "num of crops 3, out of 3 lice\n",
      "num of crops 3, out of 4 lice\n"
     ]
    },
    {
     "name": "stderr",
     "output_type": "stream",
     "text": [
      "2382it [14:56,  2.07it/s]"
     ]
    },
    {
     "name": "stdout",
     "output_type": "stream",
     "text": [
      "num of crops 2, out of 3 lice\n",
      "num of crops 2, out of 2 lice\n"
     ]
    },
    {
     "name": "stderr",
     "output_type": "stream",
     "text": [
      "\r",
      "2384it [14:56,  2.80it/s]"
     ]
    },
    {
     "name": "stdout",
     "output_type": "stream",
     "text": [
      "num of crops 3, out of 3 lice\n"
     ]
    },
    {
     "name": "stderr",
     "output_type": "stream",
     "text": [
      "2387it [14:57,  3.29it/s]"
     ]
    },
    {
     "name": "stdout",
     "output_type": "stream",
     "text": [
      "num of crops 2, out of 2 lice\n",
      "num of crops 3, out of 3 lice\n"
     ]
    },
    {
     "name": "stderr",
     "output_type": "stream",
     "text": [
      "2389it [14:58,  4.38it/s]"
     ]
    },
    {
     "name": "stdout",
     "output_type": "stream",
     "text": [
      "num of crops 2, out of 3 lice\n",
      "num of crops 3, out of 3 lice\n"
     ]
    },
    {
     "name": "stderr",
     "output_type": "stream",
     "text": [
      "2391it [14:58,  5.17it/s]"
     ]
    },
    {
     "name": "stdout",
     "output_type": "stream",
     "text": [
      "num of crops 3, out of 5 lice\n",
      "num of crops 2, out of 6 lice\n"
     ]
    },
    {
     "name": "stderr",
     "output_type": "stream",
     "text": [
      "2394it [15:03,  1.45s/it]"
     ]
    },
    {
     "name": "stdout",
     "output_type": "stream",
     "text": [
      "num of crops 1, out of 1 lice\n",
      "num of crops 4, out of 5 lice\n"
     ]
    },
    {
     "name": "stderr",
     "output_type": "stream",
     "text": [
      "2396it [15:03,  1.25it/s]"
     ]
    },
    {
     "name": "stdout",
     "output_type": "stream",
     "text": [
      "num of crops 1, out of 1 lice\n",
      "num of crops 4, out of 5 lice\n"
     ]
    },
    {
     "name": "stderr",
     "output_type": "stream",
     "text": [
      "2398it [15:03,  2.06it/s]"
     ]
    },
    {
     "name": "stdout",
     "output_type": "stream",
     "text": [
      "num of crops 2, out of 5 lice\n"
     ]
    },
    {
     "name": "stderr",
     "output_type": "stream",
     "text": [
      "\r",
      "2400it [15:05,  1.67it/s]"
     ]
    },
    {
     "name": "stdout",
     "output_type": "stream",
     "text": [
      "num of crops 1, out of 2 lice\n",
      "num of crops 4, out of 6 lice\n"
     ]
    },
    {
     "name": "stderr",
     "output_type": "stream",
     "text": [
      "2402it [15:06,  1.90it/s]"
     ]
    },
    {
     "name": "stdout",
     "output_type": "stream",
     "text": [
      "num of crops 1, out of 1 lice\n",
      "num of crops 1, out of 2 lice\n",
      "num of crops 3, out of 4 lice\n"
     ]
    },
    {
     "name": "stderr",
     "output_type": "stream",
     "text": [
      "2406it [15:06,  3.04it/s]"
     ]
    },
    {
     "name": "stdout",
     "output_type": "stream",
     "text": [
      "num of crops 2, out of 3 lice\n"
     ]
    },
    {
     "name": "stderr",
     "output_type": "stream",
     "text": [
      "\r",
      "2407it [15:07,  2.20it/s]"
     ]
    },
    {
     "name": "stdout",
     "output_type": "stream",
     "text": [
      "num of crops 1, out of 1 lice\n"
     ]
    },
    {
     "name": "stderr",
     "output_type": "stream",
     "text": [
      "\r",
      "2408it [15:08,  1.78it/s]"
     ]
    },
    {
     "name": "stdout",
     "output_type": "stream",
     "text": [
      "num of crops 1, out of 1 lice\n"
     ]
    },
    {
     "name": "stderr",
     "output_type": "stream",
     "text": [
      "2411it [15:09,  2.40it/s]"
     ]
    },
    {
     "name": "stdout",
     "output_type": "stream",
     "text": [
      "num of crops 1, out of 2 lice\n",
      "num of crops 1, out of 2 lice\n",
      "num of crops 1, out of 2 lice\n"
     ]
    },
    {
     "name": "stderr",
     "output_type": "stream",
     "text": [
      "2413it [15:09,  3.41it/s]"
     ]
    },
    {
     "name": "stdout",
     "output_type": "stream",
     "text": [
      "num of crops 3, out of 3 lice\n"
     ]
    },
    {
     "name": "stderr",
     "output_type": "stream",
     "text": [
      "\r",
      "2414it [15:10,  2.66it/s]"
     ]
    },
    {
     "name": "stdout",
     "output_type": "stream",
     "text": [
      "num of crops 1, out of 1 lice\n"
     ]
    },
    {
     "name": "stderr",
     "output_type": "stream",
     "text": [
      "\r",
      "2415it [15:11,  1.72it/s]"
     ]
    },
    {
     "name": "stdout",
     "output_type": "stream",
     "text": [
      "num of crops 1, out of 2 lice\n",
      "num of crops 1, out of 1 lice\n",
      "num of crops 2, out of 3 lice\n"
     ]
    },
    {
     "name": "stderr",
     "output_type": "stream",
     "text": [
      "2419it [15:11,  2.94it/s]"
     ]
    },
    {
     "name": "stdout",
     "output_type": "stream",
     "text": [
      "num of crops 1, out of 4 lice\n",
      "num of crops 2, out of 2 lice\n",
      "num of crops 1, out of 2 lice\n"
     ]
    },
    {
     "name": "stderr",
     "output_type": "stream",
     "text": [
      "\r",
      "2421it [15:11,  3.68it/s]"
     ]
    },
    {
     "name": "stdout",
     "output_type": "stream",
     "text": [
      "num of crops 2, out of 4 lice\n"
     ]
    },
    {
     "name": "stderr",
     "output_type": "stream",
     "text": [
      "\r",
      "2422it [15:12,  2.19it/s]"
     ]
    },
    {
     "name": "stdout",
     "output_type": "stream",
     "text": [
      "num of crops 1, out of 1 lice\n"
     ]
    },
    {
     "name": "stderr",
     "output_type": "stream",
     "text": [
      "\r",
      "2424it [15:14,  1.63it/s]"
     ]
    },
    {
     "name": "stdout",
     "output_type": "stream",
     "text": [
      "num of crops 1, out of 1 lice\n"
     ]
    },
    {
     "name": "stderr",
     "output_type": "stream",
     "text": [
      "\r",
      "2426it [15:16,  1.49it/s]"
     ]
    },
    {
     "name": "stdout",
     "output_type": "stream",
     "text": [
      "num of crops 1, out of 1 lice\n"
     ]
    },
    {
     "name": "stderr",
     "output_type": "stream",
     "text": [
      "\r",
      "2429it [15:17,  1.58it/s]"
     ]
    },
    {
     "name": "stdout",
     "output_type": "stream",
     "text": [
      "num of crops 1, out of 1 lice\n",
      "num of crops 3, out of 5 lice\n"
     ]
    },
    {
     "name": "stderr",
     "output_type": "stream",
     "text": [
      "2431it [15:18,  2.59it/s]"
     ]
    },
    {
     "name": "stdout",
     "output_type": "stream",
     "text": [
      "num of crops 3, out of 3 lice\n"
     ]
    },
    {
     "name": "stderr",
     "output_type": "stream",
     "text": [
      "\r",
      "2435it [15:19,  2.75it/s]"
     ]
    },
    {
     "name": "stdout",
     "output_type": "stream",
     "text": [
      "num of crops 1, out of 1 lice\n"
     ]
    },
    {
     "name": "stderr",
     "output_type": "stream",
     "text": [
      "2440it [15:21,  1.79it/s]"
     ]
    },
    {
     "name": "stdout",
     "output_type": "stream",
     "text": [
      "num of crops 1, out of 2 lice\n",
      "num of crops 1, out of 2 lice\n",
      "num of crops 2, out of 2 lice\n"
     ]
    },
    {
     "name": "stderr",
     "output_type": "stream",
     "text": [
      "\r",
      "2442it [15:21,  2.30it/s]"
     ]
    },
    {
     "name": "stdout",
     "output_type": "stream",
     "text": [
      "num of crops 2, out of 5 lice\n",
      "num of crops 2, out of 3 lice\n"
     ]
    },
    {
     "name": "stderr",
     "output_type": "stream",
     "text": [
      "\r",
      "2444it [15:23,  1.65it/s]"
     ]
    },
    {
     "name": "stdout",
     "output_type": "stream",
     "text": [
      "num of crops 1, out of 1 lice\n",
      "num of crops 1, out of 1 lice\n",
      "num of crops 1, out of 1 lice\n"
     ]
    },
    {
     "name": "stderr",
     "output_type": "stream",
     "text": [
      "2449it [15:23,  3.07it/s]"
     ]
    },
    {
     "name": "stdout",
     "output_type": "stream",
     "text": [
      "num of crops 2, out of 3 lice\n",
      "num of crops 2, out of 2 lice\n"
     ]
    },
    {
     "name": "stderr",
     "output_type": "stream",
     "text": [
      "\r",
      "2451it [15:27,  1.38it/s]"
     ]
    },
    {
     "name": "stdout",
     "output_type": "stream",
     "text": [
      "num of crops 1, out of 2 lice\n",
      "num of crops 1, out of 3 lice\n",
      "num of crops 2, out of 2 lice\n"
     ]
    },
    {
     "name": "stderr",
     "output_type": "stream",
     "text": [
      "\r",
      "2455it [15:27,  1.92it/s]"
     ]
    },
    {
     "name": "stdout",
     "output_type": "stream",
     "text": [
      "num of crops 1, out of 1 lice\n"
     ]
    },
    {
     "name": "stderr",
     "output_type": "stream",
     "text": [
      "\r",
      "2457it [15:29,  1.43it/s]"
     ]
    },
    {
     "name": "stdout",
     "output_type": "stream",
     "text": [
      "num of crops 1, out of 2 lice\n",
      "num of crops 1, out of 1 lice\n"
     ]
    },
    {
     "name": "stderr",
     "output_type": "stream",
     "text": [
      "2461it [15:31,  1.79it/s]"
     ]
    },
    {
     "name": "stdout",
     "output_type": "stream",
     "text": [
      "num of crops 1, out of 1 lice\n",
      "num of crops 2, out of 2 lice\n"
     ]
    },
    {
     "name": "stderr",
     "output_type": "stream",
     "text": [
      "\r",
      "2463it [15:33,  1.54it/s]"
     ]
    },
    {
     "name": "stdout",
     "output_type": "stream",
     "text": [
      "num of crops 1, out of 2 lice\n",
      "num of crops 1, out of 1 lice\n",
      "num of crops 3, out of 5 lice\n"
     ]
    },
    {
     "name": "stderr",
     "output_type": "stream",
     "text": [
      "2466it [15:34,  1.45it/s]"
     ]
    },
    {
     "name": "stdout",
     "output_type": "stream",
     "text": [
      "num of crops 1, out of 1 lice\n"
     ]
    },
    {
     "name": "stderr",
     "output_type": "stream",
     "text": [
      "2470it [15:36,  1.24it/s]"
     ]
    },
    {
     "name": "stdout",
     "output_type": "stream",
     "text": [
      "num of crops 1, out of 1 lice\n",
      "num of crops 2, out of 3 lice\n"
     ]
    },
    {
     "name": "stderr",
     "output_type": "stream",
     "text": [
      "\r",
      "2472it [15:38,  1.17it/s]"
     ]
    },
    {
     "name": "stdout",
     "output_type": "stream",
     "text": [
      "num of crops 1, out of 1 lice\n",
      "num of crops 1, out of 1 lice\n"
     ]
    },
    {
     "name": "stderr",
     "output_type": "stream",
     "text": [
      "\r",
      "2475it [15:43,  1.07s/it]"
     ]
    },
    {
     "name": "stdout",
     "output_type": "stream",
     "text": [
      "num of crops 1, out of 1 lice\n"
     ]
    },
    {
     "name": "stderr",
     "output_type": "stream",
     "text": [
      "\r",
      "2476it [15:46,  1.71s/it]"
     ]
    },
    {
     "name": "stdout",
     "output_type": "stream",
     "text": [
      "num of crops 1, out of 1 lice\n",
      "num of crops 3, out of 4 lice\n"
     ]
    },
    {
     "name": "stderr",
     "output_type": "stream",
     "text": [
      "2478it [15:47,  1.09it/s]"
     ]
    },
    {
     "name": "stdout",
     "output_type": "stream",
     "text": [
      "num of crops 3, out of 5 lice\n",
      "num of crops 3, out of 5 lice\n"
     ]
    },
    {
     "name": "stderr",
     "output_type": "stream",
     "text": [
      "2483it [15:50,  1.01s/it]"
     ]
    },
    {
     "name": "stdout",
     "output_type": "stream",
     "text": [
      "num of crops 1, out of 1 lice\n",
      "num of crops 2, out of 2 lice\n",
      "num of crops 2, out of 2 lice\n"
     ]
    },
    {
     "name": "stderr",
     "output_type": "stream",
     "text": [
      "2485it [15:50,  1.77it/s]"
     ]
    },
    {
     "name": "stdout",
     "output_type": "stream",
     "text": [
      "num of crops 2, out of 2 lice\n"
     ]
    },
    {
     "name": "stderr",
     "output_type": "stream",
     "text": [
      "2487it [15:52,  1.39it/s]"
     ]
    },
    {
     "name": "stdout",
     "output_type": "stream",
     "text": [
      "num of crops 1, out of 2 lice\n",
      "num of crops 2, out of 4 lice\n",
      "num of crops 1, out of 2 lice\n"
     ]
    },
    {
     "name": "stderr",
     "output_type": "stream",
     "text": [
      "\r",
      "2489it [15:56,  1.12s/it]"
     ]
    },
    {
     "name": "stdout",
     "output_type": "stream",
     "text": [
      "num of crops 2, out of 2 lice\n",
      "num of crops 4, out of 7 lice\n"
     ]
    },
    {
     "name": "stderr",
     "output_type": "stream",
     "text": [
      "2491it [15:59,  1.18s/it]"
     ]
    },
    {
     "name": "stdout",
     "output_type": "stream",
     "text": [
      "num of crops 1, out of 1 lice\n",
      "num of crops 2, out of 3 lice\n"
     ]
    },
    {
     "name": "stderr",
     "output_type": "stream",
     "text": [
      "2493it [15:59,  1.55it/s]"
     ]
    },
    {
     "name": "stdout",
     "output_type": "stream",
     "text": [
      "num of crops 1, out of 2 lice\n",
      "num of crops 2, out of 3 lice\n"
     ]
    },
    {
     "name": "stderr",
     "output_type": "stream",
     "text": [
      "2496it [15:59,  2.72it/s]"
     ]
    },
    {
     "name": "stdout",
     "output_type": "stream",
     "text": [
      "num of crops 1, out of 1 lice\n",
      "num of crops 2, out of 4 lice\n",
      "num of crops 2, out of 3 lice\n"
     ]
    },
    {
     "name": "stderr",
     "output_type": "stream",
     "text": [
      "2505it [16:01,  3.31it/s]"
     ]
    },
    {
     "name": "stdout",
     "output_type": "stream",
     "text": [
      "num of crops 1, out of 1 lice\n",
      "num of crops 2, out of 4 lice\n",
      "num of crops 3, out of 3 lice\n"
     ]
    },
    {
     "name": "stderr",
     "output_type": "stream",
     "text": [
      "\r",
      "2507it [16:01,  4.25it/s]"
     ]
    },
    {
     "name": "stdout",
     "output_type": "stream",
     "text": [
      "num of crops 4, out of 7 lice\n"
     ]
    },
    {
     "name": "stderr",
     "output_type": "stream",
     "text": [
      "\r",
      "2509it [16:02,  4.67it/s]"
     ]
    },
    {
     "name": "stdout",
     "output_type": "stream",
     "text": [
      "num of crops 2, out of 2 lice\n",
      "num of crops 3, out of 7 lice\n"
     ]
    },
    {
     "name": "stderr",
     "output_type": "stream",
     "text": [
      "\r",
      "2511it [16:02,  5.84it/s]"
     ]
    },
    {
     "name": "stdout",
     "output_type": "stream",
     "text": [
      "num of crops 1, out of 1 lice\n"
     ]
    },
    {
     "name": "stderr",
     "output_type": "stream",
     "text": [
      "\r",
      "2515it [16:03,  4.22it/s]"
     ]
    },
    {
     "name": "stdout",
     "output_type": "stream",
     "text": [
      "num of crops 1, out of 1 lice\n"
     ]
    },
    {
     "name": "stderr",
     "output_type": "stream",
     "text": [
      "\r",
      "2517it [16:04,  2.84it/s]"
     ]
    },
    {
     "name": "stdout",
     "output_type": "stream",
     "text": [
      "num of crops 2, out of 2 lice\n"
     ]
    },
    {
     "name": "stderr",
     "output_type": "stream",
     "text": [
      "\r",
      "2518it [16:06,  1.67it/s]"
     ]
    },
    {
     "name": "stdout",
     "output_type": "stream",
     "text": [
      "num of crops 1, out of 1 lice\n",
      "num of crops 1, out of 2 lice\n"
     ]
    },
    {
     "name": "stderr",
     "output_type": "stream",
     "text": [
      "\r",
      "2520it [16:07,  1.63it/s]"
     ]
    },
    {
     "name": "stdout",
     "output_type": "stream",
     "text": [
      "num of crops 2, out of 2 lice\n",
      "num of crops 3, out of 3 lice\n"
     ]
    },
    {
     "name": "stderr",
     "output_type": "stream",
     "text": [
      "2525it [16:09,  1.96it/s]"
     ]
    },
    {
     "name": "stdout",
     "output_type": "stream",
     "text": [
      "num of crops 2, out of 2 lice\n"
     ]
    },
    {
     "name": "stderr",
     "output_type": "stream",
     "text": [
      "2528it [16:11,  1.72it/s]"
     ]
    },
    {
     "name": "stdout",
     "output_type": "stream",
     "text": [
      "num of crops 1, out of 2 lice\n",
      "num of crops 1, out of 1 lice\n"
     ]
    },
    {
     "name": "stderr",
     "output_type": "stream",
     "text": [
      "\r",
      "2530it [16:12,  1.60it/s]"
     ]
    },
    {
     "name": "stdout",
     "output_type": "stream",
     "text": [
      "num of crops 1, out of 1 lice\n",
      "num of crops 4, out of 4 lice\n"
     ]
    },
    {
     "name": "stderr",
     "output_type": "stream",
     "text": [
      "\r",
      "2531it [16:12,  1.94it/s]"
     ]
    },
    {
     "name": "stdout",
     "output_type": "stream",
     "text": [
      "num of crops 1, out of 1 lice\n",
      "num of crops 2, out of 2 lice\n"
     ]
    },
    {
     "name": "stderr",
     "output_type": "stream",
     "text": [
      "2534it [16:13,  3.23it/s]"
     ]
    },
    {
     "name": "stdout",
     "output_type": "stream",
     "text": [
      "num of crops 2, out of 4 lice\n",
      "num of crops 1, out of 1 lice\n"
     ]
    },
    {
     "name": "stderr",
     "output_type": "stream",
     "text": [
      "2536it [16:13,  4.75it/s]"
     ]
    },
    {
     "name": "stdout",
     "output_type": "stream",
     "text": [
      "num of crops 3, out of 4 lice\n",
      "num of crops 1, out of 1 lice\n"
     ]
    },
    {
     "name": "stderr",
     "output_type": "stream",
     "text": [
      "\r",
      "2538it [16:15,  2.44it/s]"
     ]
    },
    {
     "name": "stdout",
     "output_type": "stream",
     "text": [
      "num of crops 1, out of 1 lice\n",
      "num of crops 1, out of 1 lice\n"
     ]
    },
    {
     "name": "stderr",
     "output_type": "stream",
     "text": [
      "\r",
      "2541it [16:16,  2.13it/s]"
     ]
    },
    {
     "name": "stdout",
     "output_type": "stream",
     "text": [
      "num of crops 1, out of 2 lice\n"
     ]
    },
    {
     "name": "stderr",
     "output_type": "stream",
     "text": [
      "\r",
      "2543it [16:19,  1.48it/s]"
     ]
    },
    {
     "name": "stdout",
     "output_type": "stream",
     "text": [
      "num of crops 1, out of 1 lice\n"
     ]
    },
    {
     "name": "stderr",
     "output_type": "stream",
     "text": [
      "2546it [16:22,  1.02s/it]"
     ]
    },
    {
     "name": "stdout",
     "output_type": "stream",
     "text": [
      "num of crops 1, out of 1 lice\n",
      "num of crops 1, out of 1 lice\n",
      "num of crops 1, out of 1 lice\n",
      "num of crops 2, out of 3 lice\n"
     ]
    },
    {
     "name": "stderr",
     "output_type": "stream",
     "text": [
      "\r",
      "2548it [16:22,  1.33it/s]"
     ]
    },
    {
     "name": "stdout",
     "output_type": "stream",
     "text": [
      "num of crops 3, out of 5 lice\n",
      "num of crops 1, out of 1 lice\n"
     ]
    },
    {
     "name": "stderr",
     "output_type": "stream",
     "text": [
      "2555it [16:23,  2.60it/s]"
     ]
    },
    {
     "name": "stdout",
     "output_type": "stream",
     "text": [
      "num of crops 1, out of 1 lice\n",
      "num of crops 2, out of 3 lice\n",
      "num of crops 1, out of 1 lice\n"
     ]
    },
    {
     "name": "stderr",
     "output_type": "stream",
     "text": [
      "\r",
      "2557it [16:28,  1.08s/it]"
     ]
    },
    {
     "name": "stdout",
     "output_type": "stream",
     "text": [
      "num of crops 1, out of 1 lice\n",
      "num of crops 3, out of 5 lice\n"
     ]
    },
    {
     "name": "stderr",
     "output_type": "stream",
     "text": [
      "\r",
      "2559it [16:31,  1.22s/it]"
     ]
    },
    {
     "name": "stdout",
     "output_type": "stream",
     "text": [
      "num of crops 1, out of 1 lice\n"
     ]
    },
    {
     "name": "stderr",
     "output_type": "stream",
     "text": [
      "\r",
      "2560it [16:34,  1.70s/it]"
     ]
    },
    {
     "name": "stdout",
     "output_type": "stream",
     "text": [
      "num of crops 1, out of 1 lice\n",
      "num of crops 3, out of 5 lice\n"
     ]
    },
    {
     "name": "stderr",
     "output_type": "stream",
     "text": [
      "2562it [16:34,  1.10it/s]"
     ]
    },
    {
     "name": "stdout",
     "output_type": "stream",
     "text": [
      "num of crops 1, out of 2 lice\n",
      "num of crops 3, out of 4 lice\n"
     ]
    },
    {
     "name": "stderr",
     "output_type": "stream",
     "text": [
      "2564it [16:36,  1.10s/it]"
     ]
    },
    {
     "name": "stdout",
     "output_type": "stream",
     "text": [
      "num of crops 2, out of 2 lice\n",
      "num of crops 1, out of 1 lice\n"
     ]
    },
    {
     "name": "stderr",
     "output_type": "stream",
     "text": [
      "2566it [16:37,  1.64it/s]"
     ]
    },
    {
     "name": "stdout",
     "output_type": "stream",
     "text": [
      "num of crops 2, out of 3 lice\n"
     ]
    },
    {
     "name": "stderr",
     "output_type": "stream",
     "text": [
      "\r",
      "2567it [16:38,  1.22it/s]"
     ]
    },
    {
     "name": "stdout",
     "output_type": "stream",
     "text": [
      "num of crops 1, out of 1 lice\n"
     ]
    },
    {
     "name": "stderr",
     "output_type": "stream",
     "text": [
      "\r",
      "2568it [16:40,  1.11s/it]"
     ]
    },
    {
     "name": "stdout",
     "output_type": "stream",
     "text": [
      "num of crops 1, out of 1 lice\n",
      "num of crops 1, out of 3 lice\n",
      "num of crops 1, out of 1 lice\n"
     ]
    },
    {
     "name": "stderr",
     "output_type": "stream",
     "text": [
      "\r",
      "2570it [16:40,  1.26it/s]"
     ]
    },
    {
     "name": "stdout",
     "output_type": "stream",
     "text": [
      "num of crops 1, out of 1 lice\n"
     ]
    },
    {
     "name": "stderr",
     "output_type": "stream",
     "text": [
      "\r",
      "2572it [16:44,  1.15s/it]"
     ]
    },
    {
     "name": "stdout",
     "output_type": "stream",
     "text": [
      "num of crops 1, out of 1 lice\n"
     ]
    },
    {
     "name": "stderr",
     "output_type": "stream",
     "text": [
      "\r",
      "2573it [16:46,  1.46s/it]"
     ]
    },
    {
     "name": "stdout",
     "output_type": "stream",
     "text": [
      "num of crops 2, out of 2 lice\n",
      "num of crops 3, out of 6 lice\n"
     ]
    },
    {
     "name": "stderr",
     "output_type": "stream",
     "text": [
      "2575it [16:48,  1.39s/it]"
     ]
    },
    {
     "name": "stdout",
     "output_type": "stream",
     "text": [
      "num of crops 1, out of 1 lice\n",
      "num of crops 2, out of 4 lice\n"
     ]
    },
    {
     "name": "stderr",
     "output_type": "stream",
     "text": [
      "2578it [16:49,  1.37it/s]"
     ]
    },
    {
     "name": "stdout",
     "output_type": "stream",
     "text": [
      "num of crops 2, out of 3 lice\n",
      "num of crops 2, out of 2 lice\n"
     ]
    },
    {
     "name": "stderr",
     "output_type": "stream",
     "text": [
      "2580it [16:49,  2.28it/s]"
     ]
    },
    {
     "name": "stdout",
     "output_type": "stream",
     "text": [
      "num of crops 3, out of 5 lice\n",
      "num of crops 1, out of 2 lice\n"
     ]
    },
    {
     "name": "stderr",
     "output_type": "stream",
     "text": [
      "\r",
      "2582it [16:49,  3.09it/s]"
     ]
    },
    {
     "name": "stdout",
     "output_type": "stream",
     "text": [
      "num of crops 1, out of 1 lice\n"
     ]
    },
    {
     "name": "stderr",
     "output_type": "stream",
     "text": [
      "\r",
      "2584it [16:51,  2.21it/s]"
     ]
    },
    {
     "name": "stdout",
     "output_type": "stream",
     "text": [
      "num of crops 1, out of 1 lice\n",
      "num of crops 1, out of 1 lice\n"
     ]
    },
    {
     "name": "stderr",
     "output_type": "stream",
     "text": [
      "\r",
      "2585it [16:54,  1.38s/it]"
     ]
    },
    {
     "name": "stdout",
     "output_type": "stream",
     "text": [
      "num of crops 1, out of 1 lice\n",
      "num of crops 3, out of 3 lice\n"
     ]
    },
    {
     "name": "stderr",
     "output_type": "stream",
     "text": [
      "\r",
      "2586it [16:54,  1.01s/it]"
     ]
    },
    {
     "name": "stdout",
     "output_type": "stream",
     "text": [
      "num of crops 2, out of 4 lice\n"
     ]
    },
    {
     "name": "stderr",
     "output_type": "stream",
     "text": [
      "\r",
      "2589it [16:57,  1.01s/it]"
     ]
    },
    {
     "name": "stdout",
     "output_type": "stream",
     "text": [
      "num of crops 2, out of 2 lice\n"
     ]
    },
    {
     "name": "stderr",
     "output_type": "stream",
     "text": [
      "\r",
      "2590it [16:59,  1.29s/it]"
     ]
    },
    {
     "name": "stdout",
     "output_type": "stream",
     "text": [
      "num of crops 1, out of 1 lice\n",
      "num of crops 3, out of 3 lice\n"
     ]
    },
    {
     "name": "stderr",
     "output_type": "stream",
     "text": [
      "2592it [17:00,  1.40it/s]"
     ]
    },
    {
     "name": "stdout",
     "output_type": "stream",
     "text": [
      "num of crops 1, out of 2 lice\n"
     ]
    },
    {
     "name": "stderr",
     "output_type": "stream",
     "text": [
      "\r",
      "2593it [17:02,  1.09s/it]"
     ]
    },
    {
     "name": "stdout",
     "output_type": "stream",
     "text": [
      "num of crops 2, out of 2 lice\n",
      "num of crops 2, out of 2 lice\n"
     ]
    },
    {
     "name": "stderr",
     "output_type": "stream",
     "text": [
      "2596it [17:02,  1.69it/s]"
     ]
    },
    {
     "name": "stdout",
     "output_type": "stream",
     "text": [
      "num of crops 3, out of 6 lice\n",
      "num of crops 3, out of 8 lice\n"
     ]
    },
    {
     "name": "stderr",
     "output_type": "stream",
     "text": [
      "2598it [17:03,  1.41it/s]"
     ]
    },
    {
     "name": "stdout",
     "output_type": "stream",
     "text": [
      "num of crops 1, out of 1 lice\n",
      "num of crops 1, out of 1 lice\n",
      "num of crops 3, out of 4 lice\n"
     ]
    },
    {
     "name": "stderr",
     "output_type": "stream",
     "text": [
      "2602it [17:04,  2.47it/s]"
     ]
    },
    {
     "name": "stdout",
     "output_type": "stream",
     "text": [
      "num of crops 2, out of 4 lice\n"
     ]
    },
    {
     "name": "stderr",
     "output_type": "stream",
     "text": [
      "\r",
      "2603it [17:06,  1.12it/s]"
     ]
    },
    {
     "name": "stdout",
     "output_type": "stream",
     "text": [
      "num of crops 2, out of 2 lice\n",
      "num of crops 3, out of 4 lice\n"
     ]
    },
    {
     "name": "stderr",
     "output_type": "stream",
     "text": [
      "2605it [17:08,  1.02s/it]"
     ]
    },
    {
     "name": "stdout",
     "output_type": "stream",
     "text": [
      "num of crops 1, out of 1 lice\n",
      "num of crops 1, out of 1 lice\n",
      "num of crops 3, out of 5 lice\n"
     ]
    },
    {
     "name": "stderr",
     "output_type": "stream",
     "text": [
      "2609it [17:10,  1.29it/s]"
     ]
    },
    {
     "name": "stdout",
     "output_type": "stream",
     "text": [
      "num of crops 2, out of 2 lice\n"
     ]
    },
    {
     "name": "stderr",
     "output_type": "stream",
     "text": [
      "\r",
      "2610it [17:11,  1.03s/it]"
     ]
    },
    {
     "name": "stdout",
     "output_type": "stream",
     "text": [
      "num of crops 1, out of 1 lice\n",
      "num of crops 2, out of 2 lice\n"
     ]
    },
    {
     "name": "stderr",
     "output_type": "stream",
     "text": [
      "2613it [17:11,  1.77it/s]"
     ]
    },
    {
     "name": "stdout",
     "output_type": "stream",
     "text": [
      "num of crops 2, out of 2 lice\n",
      "num of crops 2, out of 2 lice\n"
     ]
    },
    {
     "name": "stderr",
     "output_type": "stream",
     "text": [
      "2615it [17:12,  2.93it/s]"
     ]
    },
    {
     "name": "stdout",
     "output_type": "stream",
     "text": [
      "num of crops 2, out of 3 lice\n",
      "num of crops 3, out of 5 lice\n"
     ]
    },
    {
     "name": "stderr",
     "output_type": "stream",
     "text": [
      "2617it [17:13,  1.83it/s]"
     ]
    },
    {
     "name": "stdout",
     "output_type": "stream",
     "text": [
      "num of crops 2, out of 2 lice\n",
      "num of crops 5, out of 7 lice\n"
     ]
    },
    {
     "name": "stderr",
     "output_type": "stream",
     "text": [
      "2619it [17:15,  1.25it/s]"
     ]
    },
    {
     "name": "stdout",
     "output_type": "stream",
     "text": [
      "num of crops 1, out of 1 lice\n"
     ]
    },
    {
     "name": "stderr",
     "output_type": "stream",
     "text": [
      "\r",
      "2620it [17:17,  1.07s/it]"
     ]
    },
    {
     "name": "stdout",
     "output_type": "stream",
     "text": [
      "num of crops 1, out of 1 lice\n",
      "num of crops 2, out of 3 lice\n"
     ]
    },
    {
     "name": "stderr",
     "output_type": "stream",
     "text": [
      "2622it [17:18,  1.02it/s]"
     ]
    },
    {
     "name": "stdout",
     "output_type": "stream",
     "text": [
      "num of crops 1, out of 1 lice\n",
      "num of crops 6, out of 7 lice\n"
     ]
    },
    {
     "name": "stderr",
     "output_type": "stream",
     "text": [
      "2624it [17:21,  1.22s/it]"
     ]
    },
    {
     "name": "stdout",
     "output_type": "stream",
     "text": [
      "num of crops 1, out of 1 lice\n"
     ]
    },
    {
     "name": "stderr",
     "output_type": "stream",
     "text": [
      "\r",
      "2625it [17:24,  1.74s/it]"
     ]
    },
    {
     "name": "stdout",
     "output_type": "stream",
     "text": [
      "num of crops 1, out of 1 lice\n"
     ]
    },
    {
     "name": "stderr",
     "output_type": "stream",
     "text": [
      "\r",
      "2626it [17:27,  2.20s/it]"
     ]
    },
    {
     "name": "stdout",
     "output_type": "stream",
     "text": [
      "num of crops 2, out of 2 lice\n",
      "num of crops 1, out of 3 lice\n",
      "num of crops 3, out of 3 lice\n"
     ]
    },
    {
     "name": "stderr",
     "output_type": "stream",
     "text": [
      "\r",
      "2629it [17:27,  1.56s/it]"
     ]
    },
    {
     "name": "stdout",
     "output_type": "stream",
     "text": [
      "num of crops 3, out of 8 lice\n"
     ]
    },
    {
     "name": "stderr",
     "output_type": "stream",
     "text": [
      "2631it [17:28,  1.16it/s]"
     ]
    },
    {
     "name": "stdout",
     "output_type": "stream",
     "text": [
      "num of crops 3, out of 7 lice\n",
      "num of crops 2, out of 3 lice\n"
     ]
    },
    {
     "name": "stderr",
     "output_type": "stream",
     "text": [
      "2633it [17:33,  1.98s/it]"
     ]
    },
    {
     "name": "stdout",
     "output_type": "stream",
     "text": [
      "num of crops 1, out of 2 lice\n"
     ]
    },
    {
     "name": "stderr",
     "output_type": "stream",
     "text": [
      "\r",
      "2634it [17:36,  2.45s/it]"
     ]
    },
    {
     "name": "stdout",
     "output_type": "stream",
     "text": [
      "num of crops 2, out of 2 lice\n"
     ]
    },
    {
     "name": "stderr",
     "output_type": "stream",
     "text": [
      "\r",
      "2636it [17:38,  2.03s/it]"
     ]
    },
    {
     "name": "stdout",
     "output_type": "stream",
     "text": [
      "num of crops 1, out of 2 lice\n",
      "num of crops 2, out of 3 lice\n"
     ]
    },
    {
     "name": "stderr",
     "output_type": "stream",
     "text": [
      "2638it [17:40,  1.49s/it]"
     ]
    },
    {
     "name": "stdout",
     "output_type": "stream",
     "text": [
      "num of crops 2, out of 2 lice\n",
      "num of crops 2, out of 2 lice\n"
     ]
    },
    {
     "name": "stderr",
     "output_type": "stream",
     "text": [
      "\r",
      "2639it [17:40,  1.14s/it]"
     ]
    },
    {
     "name": "stdout",
     "output_type": "stream",
     "text": [
      "num of crops 1, out of 1 lice\n",
      "num of crops 3, out of 5 lice\n"
     ]
    },
    {
     "name": "stderr",
     "output_type": "stream",
     "text": [
      "2642it [17:41,  1.58it/s]"
     ]
    },
    {
     "name": "stdout",
     "output_type": "stream",
     "text": [
      "num of crops 3, out of 4 lice\n"
     ]
    },
    {
     "name": "stderr",
     "output_type": "stream",
     "text": [
      "\r",
      "2643it [17:42,  1.14it/s]"
     ]
    },
    {
     "name": "stdout",
     "output_type": "stream",
     "text": [
      "num of crops 2, out of 2 lice\n",
      "num of crops 1, out of 1 lice\n"
     ]
    },
    {
     "name": "stderr",
     "output_type": "stream",
     "text": [
      "\r",
      "2644it [17:42,  1.53it/s]"
     ]
    },
    {
     "name": "stdout",
     "output_type": "stream",
     "text": [
      "num of crops 4, out of 4 lice\n"
     ]
    },
    {
     "name": "stderr",
     "output_type": "stream",
     "text": [
      "2646it [17:43,  2.50it/s]"
     ]
    },
    {
     "name": "stdout",
     "output_type": "stream",
     "text": [
      "num of crops 2, out of 2 lice\n"
     ]
    },
    {
     "name": "stderr",
     "output_type": "stream",
     "text": [
      "\r",
      "2647it [17:44,  1.46it/s]"
     ]
    },
    {
     "name": "stdout",
     "output_type": "stream",
     "text": [
      "num of crops 1, out of 2 lice\n",
      "num of crops 1, out of 1 lice\n",
      "num of crops 1, out of 1 lice\n"
     ]
    },
    {
     "name": "stderr",
     "output_type": "stream",
     "text": [
      "2652it [17:44,  2.73it/s]"
     ]
    },
    {
     "name": "stdout",
     "output_type": "stream",
     "text": [
      "num of crops 1, out of 1 lice\n",
      "num of crops 2, out of 2 lice\n",
      "num of crops 4, out of 6 lice\n"
     ]
    },
    {
     "name": "stderr",
     "output_type": "stream",
     "text": [
      "2655it [17:46,  2.76it/s]"
     ]
    },
    {
     "name": "stdout",
     "output_type": "stream",
     "text": [
      "num of crops 1, out of 1 lice\n",
      "num of crops 2, out of 3 lice\n",
      "num of crops 1, out of 3 lice\n"
     ]
    },
    {
     "name": "stderr",
     "output_type": "stream",
     "text": [
      "\r",
      "2657it [17:46,  3.50it/s]"
     ]
    },
    {
     "name": "stdout",
     "output_type": "stream",
     "text": [
      "num of crops 3, out of 3 lice\n"
     ]
    },
    {
     "name": "stderr",
     "output_type": "stream",
     "text": [
      "\r",
      "2658it [17:48,  1.29it/s]"
     ]
    },
    {
     "name": "stdout",
     "output_type": "stream",
     "text": [
      "num of crops 1, out of 2 lice\n",
      "num of crops 2, out of 3 lice\n"
     ]
    },
    {
     "name": "stderr",
     "output_type": "stream",
     "text": [
      "\r",
      "2659it [17:48,  1.70it/s]"
     ]
    },
    {
     "name": "stdout",
     "output_type": "stream",
     "text": [
      "num of crops 1, out of 1 lice\n",
      "num of crops 3, out of 3 lice\n"
     ]
    },
    {
     "name": "stderr",
     "output_type": "stream",
     "text": [
      "2662it [17:50,  1.17it/s]"
     ]
    },
    {
     "name": "stdout",
     "output_type": "stream",
     "text": [
      "num of crops 1, out of 1 lice\n",
      "num of crops 3, out of 4 lice\n"
     ]
    },
    {
     "name": "stderr",
     "output_type": "stream",
     "text": [
      "2665it [17:51,  2.08it/s]"
     ]
    },
    {
     "name": "stdout",
     "output_type": "stream",
     "text": [
      "num of crops 1, out of 3 lice\n",
      "num of crops 2, out of 4 lice\n"
     ]
    },
    {
     "name": "stderr",
     "output_type": "stream",
     "text": [
      "\r",
      "2666it [17:51,  2.69it/s]"
     ]
    },
    {
     "name": "stdout",
     "output_type": "stream",
     "text": [
      "num of crops 2, out of 3 lice\n"
     ]
    },
    {
     "name": "stderr",
     "output_type": "stream",
     "text": [
      "\r",
      "2668it [17:53,  1.74it/s]"
     ]
    },
    {
     "name": "stdout",
     "output_type": "stream",
     "text": [
      "num of crops 1, out of 1 lice\n",
      "num of crops 5, out of 6 lice\n"
     ]
    },
    {
     "name": "stderr",
     "output_type": "stream",
     "text": [
      "\r",
      "2669it [17:53,  2.01it/s]"
     ]
    },
    {
     "name": "stdout",
     "output_type": "stream",
     "text": [
      "num of crops 1, out of 1 lice\n",
      "num of crops 2, out of 2 lice\n"
     ]
    },
    {
     "name": "stderr",
     "output_type": "stream",
     "text": [
      "2672it [17:54,  3.27it/s]"
     ]
    },
    {
     "name": "stdout",
     "output_type": "stream",
     "text": [
      "num of crops 2, out of 2 lice\n",
      "num of crops 1, out of 2 lice\n",
      "num of crops 3, out of 7 lice\n"
     ]
    },
    {
     "name": "stderr",
     "output_type": "stream",
     "text": [
      "2677it [17:54,  5.51it/s]"
     ]
    },
    {
     "name": "stdout",
     "output_type": "stream",
     "text": [
      "num of crops 2, out of 3 lice\n",
      "num of crops 2, out of 2 lice\n",
      "num of crops 3, out of 4 lice\n"
     ]
    },
    {
     "name": "stderr",
     "output_type": "stream",
     "text": [
      "2681it [17:54,  6.10it/s]"
     ]
    },
    {
     "name": "stdout",
     "output_type": "stream",
     "text": [
      "num of crops 1, out of 1 lice\n",
      "num of crops 2, out of 2 lice\n"
     ]
    },
    {
     "name": "stderr",
     "output_type": "stream",
     "text": [
      "\r",
      "2682it [17:55,  6.53it/s]"
     ]
    },
    {
     "name": "stdout",
     "output_type": "stream",
     "text": [
      "num of crops 2, out of 3 lice\n",
      "num of crops 3, out of 6 lice\n"
     ]
    },
    {
     "name": "stderr",
     "output_type": "stream",
     "text": [
      "2684it [17:55,  5.98it/s]"
     ]
    },
    {
     "name": "stdout",
     "output_type": "stream",
     "text": [
      "num of crops 3, out of 6 lice\n",
      "num of crops 1, out of 2 lice\n"
     ]
    },
    {
     "name": "stderr",
     "output_type": "stream",
     "text": [
      "\r",
      "2685it [17:55,  6.76it/s]"
     ]
    },
    {
     "name": "stdout",
     "output_type": "stream",
     "text": [
      "num of crops 4, out of 4 lice\n"
     ]
    },
    {
     "name": "stderr",
     "output_type": "stream",
     "text": [
      "2687it [17:55,  5.98it/s]"
     ]
    },
    {
     "name": "stdout",
     "output_type": "stream",
     "text": [
      "num of crops 3, out of 9 lice\n",
      "num of crops 2, out of 3 lice\n"
     ]
    },
    {
     "name": "stderr",
     "output_type": "stream",
     "text": [
      "2689it [17:56,  6.69it/s]"
     ]
    },
    {
     "name": "stdout",
     "output_type": "stream",
     "text": [
      "num of crops 2, out of 5 lice\n",
      "num of crops 1, out of 2 lice\n"
     ]
    },
    {
     "name": "stderr",
     "output_type": "stream",
     "text": [
      "\r",
      "2692it [17:59,  2.36it/s]"
     ]
    },
    {
     "name": "stdout",
     "output_type": "stream",
     "text": [
      "num of crops 1, out of 1 lice\n",
      "num of crops 2, out of 3 lice\n"
     ]
    },
    {
     "name": "stderr",
     "output_type": "stream",
     "text": [
      "\r",
      "2693it [17:59,  2.97it/s]"
     ]
    },
    {
     "name": "stdout",
     "output_type": "stream",
     "text": [
      "num of crops 3, out of 4 lice\n"
     ]
    },
    {
     "name": "stderr",
     "output_type": "stream",
     "text": [
      "\r",
      "2694it [17:59,  3.30it/s]"
     ]
    },
    {
     "name": "stdout",
     "output_type": "stream",
     "text": [
      "num of crops 4, out of 6 lice\n"
     ]
    },
    {
     "name": "stderr",
     "output_type": "stream",
     "text": [
      "\r",
      "2695it [18:00,  3.28it/s]"
     ]
    },
    {
     "name": "stdout",
     "output_type": "stream",
     "text": [
      "num of crops 4, out of 4 lice\n"
     ]
    },
    {
     "name": "stderr",
     "output_type": "stream",
     "text": [
      "2697it [18:03,  1.03s/it]"
     ]
    },
    {
     "name": "stdout",
     "output_type": "stream",
     "text": [
      "num of crops 2, out of 2 lice\n",
      "num of crops 1, out of 1 lice\n"
     ]
    },
    {
     "name": "stderr",
     "output_type": "stream",
     "text": [
      "\r",
      "2699it [18:05,  1.04s/it]"
     ]
    },
    {
     "name": "stdout",
     "output_type": "stream",
     "text": [
      "num of crops 1, out of 1 lice\n",
      "num of crops 2, out of 3 lice\n"
     ]
    },
    {
     "name": "stderr",
     "output_type": "stream",
     "text": [
      "2701it [18:05,  1.67it/s]"
     ]
    },
    {
     "name": "stdout",
     "output_type": "stream",
     "text": [
      "num of crops 3, out of 6 lice\n",
      "num of crops 1, out of 1 lice\n"
     ]
    },
    {
     "name": "stderr",
     "output_type": "stream",
     "text": [
      "2704it [18:08,  1.70it/s]"
     ]
    },
    {
     "name": "stdout",
     "output_type": "stream",
     "text": [
      "num of crops 1, out of 1 lice\n",
      "num of crops 1, out of 1 lice\n",
      "num of crops 1, out of 1 lice\n"
     ]
    },
    {
     "name": "stderr",
     "output_type": "stream",
     "text": [
      "2707it [18:08,  3.00it/s]"
     ]
    },
    {
     "name": "stdout",
     "output_type": "stream",
     "text": [
      "num of crops 1, out of 1 lice\n",
      "num of crops 1, out of 1 lice\n",
      "num of crops 1, out of 1 lice\n"
     ]
    },
    {
     "name": "stderr",
     "output_type": "stream",
     "text": [
      "2710it [18:08,  4.57it/s]"
     ]
    },
    {
     "name": "stdout",
     "output_type": "stream",
     "text": [
      "num of crops 2, out of 3 lice\n",
      "num of crops 2, out of 2 lice\n"
     ]
    },
    {
     "name": "stderr",
     "output_type": "stream",
     "text": [
      "2712it [18:10,  1.85it/s]"
     ]
    },
    {
     "name": "stdout",
     "output_type": "stream",
     "text": [
      "num of crops 1, out of 1 lice\n",
      "num of crops 2, out of 3 lice\n"
     ]
    },
    {
     "name": "stderr",
     "output_type": "stream",
     "text": [
      "2714it [18:12,  1.21it/s]"
     ]
    },
    {
     "name": "stdout",
     "output_type": "stream",
     "text": [
      "num of crops 1, out of 2 lice\n",
      "num of crops 2, out of 2 lice\n"
     ]
    },
    {
     "name": "stderr",
     "output_type": "stream",
     "text": [
      "2717it [18:12,  2.14it/s]"
     ]
    },
    {
     "name": "stdout",
     "output_type": "stream",
     "text": [
      "num of crops 1, out of 1 lice\n",
      "num of crops 2, out of 2 lice\n",
      "num of crops 2, out of 3 lice\n"
     ]
    },
    {
     "name": "stderr",
     "output_type": "stream",
     "text": [
      "2719it [18:13,  1.52it/s]"
     ]
    },
    {
     "name": "stdout",
     "output_type": "stream",
     "text": [
      "num of crops 1, out of 1 lice\n",
      "num of crops 3, out of 4 lice\n"
     ]
    },
    {
     "name": "stderr",
     "output_type": "stream",
     "text": [
      "2721it [18:14,  2.51it/s]"
     ]
    },
    {
     "name": "stdout",
     "output_type": "stream",
     "text": [
      "num of crops 2, out of 3 lice\n",
      "num of crops 1, out of 1 lice\n",
      "num of crops 2, out of 4 lice\n"
     ]
    },
    {
     "name": "stderr",
     "output_type": "stream",
     "text": [
      "2724it [18:14,  3.66it/s]"
     ]
    },
    {
     "name": "stdout",
     "output_type": "stream",
     "text": [
      "num of crops 3, out of 3 lice\n",
      "num of crops 3, out of 4 lice\n"
     ]
    },
    {
     "name": "stderr",
     "output_type": "stream",
     "text": [
      "\r",
      "2725it [18:14,  4.15it/s]"
     ]
    },
    {
     "name": "stdout",
     "output_type": "stream",
     "text": [
      "num of crops 3, out of 3 lice\n"
     ]
    },
    {
     "name": "stderr",
     "output_type": "stream",
     "text": [
      "2727it [18:15,  5.01it/s]"
     ]
    },
    {
     "name": "stdout",
     "output_type": "stream",
     "text": [
      "num of crops 1, out of 1 lice\n"
     ]
    },
    {
     "name": "stderr",
     "output_type": "stream",
     "text": [
      "\r",
      "2728it [18:16,  1.57it/s]"
     ]
    },
    {
     "name": "stdout",
     "output_type": "stream",
     "text": [
      "num of crops 1, out of 1 lice\n",
      "num of crops 3, out of 4 lice\n"
     ]
    },
    {
     "name": "stderr",
     "output_type": "stream",
     "text": [
      "2730it [18:17,  2.46it/s]"
     ]
    },
    {
     "name": "stdout",
     "output_type": "stream",
     "text": [
      "num of crops 3, out of 5 lice\n",
      "num of crops 4, out of 5 lice\n"
     ]
    },
    {
     "name": "stderr",
     "output_type": "stream",
     "text": [
      "\r",
      "2731it [18:17,  2.81it/s]"
     ]
    },
    {
     "name": "stdout",
     "output_type": "stream",
     "text": [
      "num of crops 4, out of 5 lice\n"
     ]
    },
    {
     "name": "stderr",
     "output_type": "stream",
     "text": [
      "2734it [18:17,  4.26it/s]"
     ]
    },
    {
     "name": "stdout",
     "output_type": "stream",
     "text": [
      "num of crops 2, out of 3 lice\n"
     ]
    },
    {
     "name": "stderr",
     "output_type": "stream",
     "text": [
      "\r",
      "2735it [18:19,  1.53it/s]"
     ]
    },
    {
     "name": "stdout",
     "output_type": "stream",
     "text": [
      "num of crops 1, out of 2 lice\n",
      "num of crops 2, out of 3 lice\n"
     ]
    },
    {
     "name": "stderr",
     "output_type": "stream",
     "text": [
      "2737it [18:19,  2.47it/s]"
     ]
    },
    {
     "name": "stdout",
     "output_type": "stream",
     "text": [
      "num of crops 3, out of 4 lice\n",
      "num of crops 2, out of 2 lice\n"
     ]
    },
    {
     "name": "stderr",
     "output_type": "stream",
     "text": [
      "2739it [18:20,  3.84it/s]"
     ]
    },
    {
     "name": "stdout",
     "output_type": "stream",
     "text": [
      "num of crops 2, out of 3 lice\n",
      "num of crops 4, out of 8 lice\n"
     ]
    },
    {
     "name": "stderr",
     "output_type": "stream",
     "text": [
      "2741it [18:23,  1.18s/it]"
     ]
    },
    {
     "name": "stdout",
     "output_type": "stream",
     "text": [
      "num of crops 1, out of 2 lice\n",
      "num of crops 2, out of 2 lice\n"
     ]
    },
    {
     "name": "stderr",
     "output_type": "stream",
     "text": [
      "2744it [18:23,  1.60it/s]"
     ]
    },
    {
     "name": "stdout",
     "output_type": "stream",
     "text": [
      "num of crops 1, out of 2 lice\n",
      "num of crops 2, out of 6 lice\n",
      "num of crops 2, out of 3 lice\n"
     ]
    },
    {
     "name": "stderr",
     "output_type": "stream",
     "text": [
      "2746it [18:26,  1.22s/it]"
     ]
    },
    {
     "name": "stdout",
     "output_type": "stream",
     "text": [
      "num of crops 1, out of 1 lice\n",
      "num of crops 2, out of 2 lice\n"
     ]
    },
    {
     "name": "stderr",
     "output_type": "stream",
     "text": [
      "\r",
      "2747it [18:27,  1.11it/s]"
     ]
    },
    {
     "name": "stdout",
     "output_type": "stream",
     "text": [
      "num of crops 4, out of 5 lice\n"
     ]
    },
    {
     "name": "stderr",
     "output_type": "stream",
     "text": [
      "2749it [18:27,  1.86it/s]"
     ]
    },
    {
     "name": "stdout",
     "output_type": "stream",
     "text": [
      "num of crops 2, out of 2 lice\n",
      "num of crops 3, out of 4 lice\n"
     ]
    },
    {
     "name": "stderr",
     "output_type": "stream",
     "text": [
      "\r",
      "2750it [18:27,  2.28it/s]"
     ]
    },
    {
     "name": "stdout",
     "output_type": "stream",
     "text": [
      "num of crops 3, out of 6 lice\n"
     ]
    },
    {
     "name": "stderr",
     "output_type": "stream",
     "text": [
      "2752it [18:30,  1.07s/it]"
     ]
    },
    {
     "name": "stdout",
     "output_type": "stream",
     "text": [
      "num of crops 1, out of 1 lice\n",
      "num of crops 4, out of 7 lice\n"
     ]
    },
    {
     "name": "stderr",
     "output_type": "stream",
     "text": [
      "2754it [18:31,  1.60it/s]"
     ]
    },
    {
     "name": "stdout",
     "output_type": "stream",
     "text": [
      "num of crops 2, out of 2 lice\n",
      "num of crops 1, out of 2 lice\n"
     ]
    },
    {
     "name": "stderr",
     "output_type": "stream",
     "text": [
      "\r",
      "2756it [18:31,  2.10it/s]"
     ]
    },
    {
     "name": "stdout",
     "output_type": "stream",
     "text": [
      "num of crops 3, out of 3 lice\n",
      "num of crops 2, out of 2 lice\n"
     ]
    },
    {
     "name": "stderr",
     "output_type": "stream",
     "text": [
      "\r",
      "2757it [18:31,  2.59it/s]"
     ]
    },
    {
     "name": "stdout",
     "output_type": "stream",
     "text": [
      "num of crops 1, out of 1 lice\n"
     ]
    },
    {
     "name": "stderr",
     "output_type": "stream",
     "text": [
      "\r",
      "2759it [18:36,  1.01it/s]"
     ]
    },
    {
     "name": "stdout",
     "output_type": "stream",
     "text": [
      "num of crops 1, out of 1 lice\n",
      "num of crops 1, out of 1 lice\n",
      "num of crops 3, out of 5 lice\n"
     ]
    },
    {
     "name": "stderr",
     "output_type": "stream",
     "text": [
      "2762it [18:38,  1.21s/it]"
     ]
    },
    {
     "name": "stdout",
     "output_type": "stream",
     "text": [
      "num of crops 1, out of 1 lice\n"
     ]
    },
    {
     "name": "stderr",
     "output_type": "stream",
     "text": [
      "\r",
      "2763it [18:41,  1.65s/it]"
     ]
    },
    {
     "name": "stdout",
     "output_type": "stream",
     "text": [
      "num of crops 1, out of 1 lice\n",
      "num of crops 4, out of 4 lice\n"
     ]
    },
    {
     "name": "stderr",
     "output_type": "stream",
     "text": [
      "2765it [18:41,  1.10it/s]"
     ]
    },
    {
     "name": "stdout",
     "output_type": "stream",
     "text": [
      "num of crops 3, out of 5 lice\n",
      "num of crops 2, out of 2 lice\n"
     ]
    },
    {
     "name": "stderr",
     "output_type": "stream",
     "text": [
      "2767it [18:42,  1.89it/s]"
     ]
    },
    {
     "name": "stdout",
     "output_type": "stream",
     "text": [
      "num of crops 2, out of 5 lice\n",
      "num of crops 3, out of 3 lice\n"
     ]
    },
    {
     "name": "stderr",
     "output_type": "stream",
     "text": [
      "2769it [18:42,  2.97it/s]"
     ]
    },
    {
     "name": "stdout",
     "output_type": "stream",
     "text": [
      "num of crops 2, out of 4 lice\n",
      "num of crops 1, out of 1 lice\n"
     ]
    },
    {
     "name": "stderr",
     "output_type": "stream",
     "text": [
      "2771it [18:42,  4.17it/s]"
     ]
    },
    {
     "name": "stdout",
     "output_type": "stream",
     "text": [
      "num of crops 3, out of 3 lice\n",
      "num of crops 3, out of 6 lice\n"
     ]
    },
    {
     "name": "stderr",
     "output_type": "stream",
     "text": [
      "2775it [18:45,  2.80it/s]"
     ]
    },
    {
     "name": "stdout",
     "output_type": "stream",
     "text": [
      "num of crops 2, out of 2 lice\n",
      "num of crops 2, out of 3 lice\n"
     ]
    },
    {
     "name": "stderr",
     "output_type": "stream",
     "text": [
      "2778it [18:48,  1.36it/s]"
     ]
    },
    {
     "name": "stdout",
     "output_type": "stream",
     "text": [
      "num of crops 1, out of 1 lice\n",
      "num of crops 2, out of 3 lice\n",
      "num of crops 4, out of 7 lice\n"
     ]
    },
    {
     "name": "stderr",
     "output_type": "stream",
     "text": [
      "2780it [18:48,  2.19it/s]"
     ]
    },
    {
     "name": "stdout",
     "output_type": "stream",
     "text": [
      "num of crops 2, out of 5 lice\n",
      "num of crops 3, out of 4 lice\n"
     ]
    },
    {
     "name": "stderr",
     "output_type": "stream",
     "text": [
      "2784it [18:48,  3.62it/s]"
     ]
    },
    {
     "name": "stdout",
     "output_type": "stream",
     "text": [
      "num of crops 2, out of 4 lice\n",
      "num of crops 1, out of 1 lice\n",
      "num of crops 2, out of 3 lice\n"
     ]
    },
    {
     "name": "stderr",
     "output_type": "stream",
     "text": [
      "\r",
      "2786it [18:50,  2.06it/s]"
     ]
    },
    {
     "name": "stdout",
     "output_type": "stream",
     "text": [
      "num of crops 5, out of 9 lice\n"
     ]
    },
    {
     "name": "stderr",
     "output_type": "stream",
     "text": [
      "2790it [18:52,  2.17it/s]"
     ]
    },
    {
     "name": "stdout",
     "output_type": "stream",
     "text": [
      "num of crops 1, out of 2 lice\n",
      "num of crops 2, out of 5 lice\n",
      "num of crops 2, out of 6 lice\n"
     ]
    },
    {
     "name": "stderr",
     "output_type": "stream",
     "text": [
      "2792it [18:52,  3.52it/s]"
     ]
    },
    {
     "name": "stdout",
     "output_type": "stream",
     "text": [
      "num of crops 2, out of 7 lice\n",
      "num of crops 1, out of 1 lice\n"
     ]
    },
    {
     "name": "stderr",
     "output_type": "stream",
     "text": [
      "2794it [18:54,  1.14it/s]"
     ]
    },
    {
     "name": "stdout",
     "output_type": "stream",
     "text": [
      "num of crops 1, out of 1 lice\n"
     ]
    },
    {
     "name": "stderr",
     "output_type": "stream",
     "text": [
      "\r",
      "2796it [18:56,  1.14it/s]"
     ]
    },
    {
     "name": "stdout",
     "output_type": "stream",
     "text": [
      "num of crops 1, out of 2 lice\n",
      "num of crops 3, out of 5 lice\n"
     ]
    },
    {
     "name": "stderr",
     "output_type": "stream",
     "text": [
      "\r",
      "2798it [18:56,  1.54it/s]"
     ]
    },
    {
     "name": "stdout",
     "output_type": "stream",
     "text": [
      "num of crops 1, out of 3 lice\n",
      "num of crops 4, out of 4 lice\n"
     ]
    },
    {
     "name": "stderr",
     "output_type": "stream",
     "text": [
      "\r",
      "2800it [18:57,  2.04it/s]"
     ]
    },
    {
     "name": "stdout",
     "output_type": "stream",
     "text": [
      "num of crops 5, out of 6 lice\n"
     ]
    },
    {
     "name": "stderr",
     "output_type": "stream",
     "text": [
      "\r",
      "2801it [18:57,  2.33it/s]"
     ]
    },
    {
     "name": "stdout",
     "output_type": "stream",
     "text": [
      "num of crops 4, out of 4 lice\n"
     ]
    },
    {
     "name": "stderr",
     "output_type": "stream",
     "text": [
      "2803it [18:57,  3.07it/s]"
     ]
    },
    {
     "name": "stdout",
     "output_type": "stream",
     "text": [
      "num of crops 3, out of 5 lice\n"
     ]
    },
    {
     "name": "stderr",
     "output_type": "stream",
     "text": [
      "\r",
      "2804it [18:58,  3.58it/s]"
     ]
    },
    {
     "name": "stdout",
     "output_type": "stream",
     "text": [
      "num of crops 3, out of 4 lice\n"
     ]
    },
    {
     "name": "stderr",
     "output_type": "stream",
     "text": [
      "\r",
      "2805it [19:01,  1.09s/it]"
     ]
    },
    {
     "name": "stdout",
     "output_type": "stream",
     "text": [
      "num of crops 1, out of 1 lice\n",
      "num of crops 3, out of 4 lice\n"
     ]
    },
    {
     "name": "stderr",
     "output_type": "stream",
     "text": [
      "\r",
      "2806it [19:01,  1.22it/s]"
     ]
    },
    {
     "name": "stdout",
     "output_type": "stream",
     "text": [
      "num of crops 6, out of 7 lice\n"
     ]
    },
    {
     "name": "stderr",
     "output_type": "stream",
     "text": [
      "2808it [19:01,  1.86it/s]"
     ]
    },
    {
     "name": "stdout",
     "output_type": "stream",
     "text": [
      "num of crops 3, out of 3 lice\n"
     ]
    },
    {
     "name": "stderr",
     "output_type": "stream",
     "text": [
      "\r",
      "2809it [19:04,  1.09s/it]"
     ]
    },
    {
     "name": "stdout",
     "output_type": "stream",
     "text": [
      "num of crops 2, out of 2 lice\n",
      "num of crops 2, out of 2 lice\n"
     ]
    },
    {
     "name": "stderr",
     "output_type": "stream",
     "text": [
      "2811it [19:04,  1.60it/s]"
     ]
    },
    {
     "name": "stdout",
     "output_type": "stream",
     "text": [
      "num of crops 3, out of 9 lice\n",
      "num of crops 2, out of 3 lice\n"
     ]
    },
    {
     "name": "stderr",
     "output_type": "stream",
     "text": [
      "2815it [19:07,  1.33it/s]"
     ]
    },
    {
     "name": "stdout",
     "output_type": "stream",
     "text": [
      "num of crops 1, out of 2 lice\n",
      "num of crops 2, out of 5 lice\n",
      "num of crops 2, out of 2 lice\n"
     ]
    },
    {
     "name": "stderr",
     "output_type": "stream",
     "text": [
      "2817it [19:07,  2.15it/s]"
     ]
    },
    {
     "name": "stdout",
     "output_type": "stream",
     "text": [
      "num of crops 3, out of 4 lice\n",
      "num of crops 4, out of 8 lice\n"
     ]
    },
    {
     "name": "stderr",
     "output_type": "stream",
     "text": [
      "2819it [19:07,  3.14it/s]"
     ]
    },
    {
     "name": "stdout",
     "output_type": "stream",
     "text": [
      "num of crops 2, out of 2 lice\n",
      "num of crops 1, out of 1 lice\n",
      "num of crops 1, out of 2 lice\n"
     ]
    },
    {
     "name": "stderr",
     "output_type": "stream",
     "text": [
      "2824it [19:12,  1.27it/s]"
     ]
    },
    {
     "name": "stdout",
     "output_type": "stream",
     "text": [
      "num of crops 1, out of 1 lice\n",
      "num of crops 1, out of 3 lice\n",
      "num of crops 1, out of 1 lice\n"
     ]
    },
    {
     "name": "stderr",
     "output_type": "stream",
     "text": [
      "\r",
      "2827it [19:12,  1.76it/s]"
     ]
    },
    {
     "name": "stdout",
     "output_type": "stream",
     "text": [
      "num of crops 1, out of 1 lice\n"
     ]
    },
    {
     "name": "stderr",
     "output_type": "stream",
     "text": [
      "\r",
      "2831it [19:16,  1.41it/s]"
     ]
    },
    {
     "name": "stdout",
     "output_type": "stream",
     "text": [
      "num of crops 2, out of 2 lice\n",
      "num of crops 3, out of 3 lice\n"
     ]
    },
    {
     "name": "stderr",
     "output_type": "stream",
     "text": [
      "2833it [19:16,  2.35it/s]"
     ]
    },
    {
     "name": "stdout",
     "output_type": "stream",
     "text": [
      "num of crops 2, out of 3 lice\n",
      "num of crops 1, out of 2 lice\n"
     ]
    },
    {
     "name": "stderr",
     "output_type": "stream",
     "text": [
      "\r",
      "2837it [19:23,  1.24it/s]"
     ]
    },
    {
     "name": "stdout",
     "output_type": "stream",
     "text": [
      "num of crops 1, out of 2 lice\n",
      "num of crops 1, out of 2 lice\n",
      "num of crops 1, out of 1 lice\n"
     ]
    },
    {
     "name": "stderr",
     "output_type": "stream",
     "text": [
      "2841it [19:23,  2.30it/s]"
     ]
    },
    {
     "name": "stdout",
     "output_type": "stream",
     "text": [
      "num of crops 3, out of 3 lice\n",
      "num of crops 3, out of 3 lice\n"
     ]
    },
    {
     "name": "stderr",
     "output_type": "stream",
     "text": [
      "2843it [19:24,  3.29it/s]"
     ]
    },
    {
     "name": "stdout",
     "output_type": "stream",
     "text": [
      "num of crops 3, out of 3 lice\n",
      "num of crops 1, out of 1 lice\n"
     ]
    },
    {
     "name": "stderr",
     "output_type": "stream",
     "text": [
      "\r",
      "2845it [19:28,  1.25it/s]"
     ]
    },
    {
     "name": "stdout",
     "output_type": "stream",
     "text": [
      "num of crops 1, out of 2 lice\n",
      "num of crops 2, out of 3 lice\n"
     ]
    },
    {
     "name": "stderr",
     "output_type": "stream",
     "text": [
      "2847it [19:32,  1.68s/it]"
     ]
    },
    {
     "name": "stdout",
     "output_type": "stream",
     "text": [
      "num of crops 1, out of 1 lice\n"
     ]
    },
    {
     "name": "stderr",
     "output_type": "stream",
     "text": [
      "\r",
      "2848it [19:35,  2.12s/it]"
     ]
    },
    {
     "name": "stdout",
     "output_type": "stream",
     "text": [
      "num of crops 1, out of 2 lice\n"
     ]
    },
    {
     "name": "stderr",
     "output_type": "stream",
     "text": [
      "\r",
      "2849it [19:38,  2.27s/it]"
     ]
    },
    {
     "name": "stdout",
     "output_type": "stream",
     "text": [
      "num of crops 1, out of 1 lice\n"
     ]
    },
    {
     "name": "stderr",
     "output_type": "stream",
     "text": [
      "\r",
      "2850it [19:42,  2.73s/it]"
     ]
    },
    {
     "name": "stdout",
     "output_type": "stream",
     "text": [
      "num of crops 1, out of 1 lice\n",
      "num of crops 2, out of 2 lice\n"
     ]
    },
    {
     "name": "stderr",
     "output_type": "stream",
     "text": [
      "2855it [19:42,  1.39s/it]"
     ]
    },
    {
     "name": "stdout",
     "output_type": "stream",
     "text": [
      "num of crops 2, out of 2 lice\n",
      "num of crops 2, out of 2 lice\n"
     ]
    },
    {
     "name": "stderr",
     "output_type": "stream",
     "text": [
      "\r",
      "2856it [19:42,  1.02s/it]"
     ]
    },
    {
     "name": "stdout",
     "output_type": "stream",
     "text": [
      "num of crops 1, out of 1 lice\n"
     ]
    },
    {
     "name": "stderr",
     "output_type": "stream",
     "text": [
      "\r",
      "2858it [19:44,  1.04s/it]"
     ]
    },
    {
     "name": "stdout",
     "output_type": "stream",
     "text": [
      "num of crops 1, out of 1 lice\n",
      "num of crops 1, out of 2 lice\n"
     ]
    },
    {
     "name": "stderr",
     "output_type": "stream",
     "text": [
      "\r",
      "2860it [19:48,  1.22s/it]"
     ]
    },
    {
     "name": "stdout",
     "output_type": "stream",
     "text": [
      "num of crops 1, out of 1 lice\n",
      "num of crops 1, out of 1 lice\n",
      "num of crops 1, out of 1 lice\n"
     ]
    },
    {
     "name": "stderr",
     "output_type": "stream",
     "text": [
      "\r",
      "2864it [19:48,  1.16it/s]"
     ]
    },
    {
     "name": "stdout",
     "output_type": "stream",
     "text": [
      "num of crops 1, out of 1 lice\n",
      "num of crops 1, out of 1 lice\n"
     ]
    },
    {
     "name": "stderr",
     "output_type": "stream",
     "text": [
      "2869it [19:52,  1.16it/s]"
     ]
    },
    {
     "name": "stdout",
     "output_type": "stream",
     "text": [
      "num of crops 3, out of 3 lice\n",
      "num of crops 1, out of 2 lice\n"
     ]
    },
    {
     "name": "stderr",
     "output_type": "stream",
     "text": [
      "\r",
      "2870it [19:52,  1.57it/s]"
     ]
    },
    {
     "name": "stdout",
     "output_type": "stream",
     "text": [
      "num of crops 1, out of 1 lice\n"
     ]
    },
    {
     "name": "stderr",
     "output_type": "stream",
     "text": [
      "\r",
      "2872it [19:55,  1.07it/s]"
     ]
    },
    {
     "name": "stdout",
     "output_type": "stream",
     "text": [
      "num of crops 1, out of 1 lice\n"
     ]
    },
    {
     "name": "stderr",
     "output_type": "stream",
     "text": [
      "2875it [19:59,  1.15it/s]"
     ]
    },
    {
     "name": "stdout",
     "output_type": "stream",
     "text": [
      "num of crops 1, out of 1 lice\n",
      "num of crops 2, out of 3 lice\n",
      "num of crops 1, out of 2 lice\n"
     ]
    },
    {
     "name": "stderr",
     "output_type": "stream",
     "text": [
      "\r",
      "2877it [19:59,  1.61it/s]"
     ]
    },
    {
     "name": "stdout",
     "output_type": "stream",
     "text": [
      "num of crops 1, out of 1 lice\n"
     ]
    },
    {
     "name": "stderr",
     "output_type": "stream",
     "text": [
      "\r",
      "2880it [20:02,  1.29it/s]"
     ]
    },
    {
     "name": "stdout",
     "output_type": "stream",
     "text": [
      "num of crops 2, out of 2 lice\n"
     ]
    },
    {
     "name": "stderr",
     "output_type": "stream",
     "text": [
      "\r",
      "2881it [20:08,  2.17s/it]"
     ]
    },
    {
     "name": "stdout",
     "output_type": "stream",
     "text": [
      "num of crops 1, out of 1 lice\n"
     ]
    },
    {
     "name": "stderr",
     "output_type": "stream",
     "text": [
      "2884it [20:12,  1.87s/it]"
     ]
    },
    {
     "name": "stdout",
     "output_type": "stream",
     "text": [
      "num of crops 1, out of 2 lice\n",
      "num of crops 2, out of 3 lice\n"
     ]
    },
    {
     "name": "stderr",
     "output_type": "stream",
     "text": [
      "2887it [20:15,  1.24s/it]"
     ]
    },
    {
     "name": "stdout",
     "output_type": "stream",
     "text": [
      "num of crops 1, out of 1 lice\n",
      "num of crops 1, out of 1 lice\n",
      "num of crops 1, out of 1 lice\n"
     ]
    },
    {
     "name": "stderr",
     "output_type": "stream",
     "text": [
      "\r",
      "2893it [20:17,  1.00it/s]"
     ]
    },
    {
     "name": "stdout",
     "output_type": "stream",
     "text": [
      "num of crops 1, out of 1 lice\n"
     ]
    },
    {
     "name": "stderr",
     "output_type": "stream",
     "text": [
      "\r",
      "2894it [20:24,  2.65s/it]"
     ]
    },
    {
     "name": "stdout",
     "output_type": "stream",
     "text": [
      "num of crops 1, out of 1 lice\n"
     ]
    },
    {
     "name": "stderr",
     "output_type": "stream",
     "text": [
      "\r",
      "2898it [20:27,  2.11s/it]"
     ]
    },
    {
     "name": "stdout",
     "output_type": "stream",
     "text": [
      "num of crops 1, out of 1 lice\n",
      "num of crops 3, out of 3 lice\n"
     ]
    },
    {
     "name": "stderr",
     "output_type": "stream",
     "text": [
      "\r",
      "2899it [20:27,  1.54s/it]"
     ]
    },
    {
     "name": "stdout",
     "output_type": "stream",
     "text": [
      "num of crops 1, out of 1 lice\n",
      "num of crops 3, out of 3 lice\n"
     ]
    },
    {
     "name": "stderr",
     "output_type": "stream",
     "text": [
      "2905it [20:31,  1.11s/it]"
     ]
    },
    {
     "name": "stdout",
     "output_type": "stream",
     "text": [
      "num of crops 1, out of 1 lice\n",
      "num of crops 2, out of 2 lice\n"
     ]
    },
    {
     "name": "stderr",
     "output_type": "stream",
     "text": [
      "\r",
      "2906it [20:31,  1.21it/s]"
     ]
    },
    {
     "name": "stdout",
     "output_type": "stream",
     "text": [
      "num of crops 1, out of 1 lice\n"
     ]
    },
    {
     "name": "stderr",
     "output_type": "stream",
     "text": [
      "\r",
      "2909it [20:34,  1.09it/s]"
     ]
    },
    {
     "name": "stdout",
     "output_type": "stream",
     "text": [
      "num of crops 1, out of 1 lice\n"
     ]
    },
    {
     "name": "stderr",
     "output_type": "stream",
     "text": [
      "\r",
      "2912it [20:39,  1.10s/it]"
     ]
    },
    {
     "name": "stdout",
     "output_type": "stream",
     "text": [
      "num of crops 1, out of 1 lice\n",
      "num of crops 2, out of 2 lice\n"
     ]
    },
    {
     "name": "stderr",
     "output_type": "stream",
     "text": [
      "2914it [20:44,  2.11s/it]"
     ]
    },
    {
     "name": "stdout",
     "output_type": "stream",
     "text": [
      "num of crops 1, out of 1 lice\n",
      "num of crops 2, out of 3 lice\n"
     ]
    },
    {
     "name": "stderr",
     "output_type": "stream",
     "text": [
      "2918it [20:50,  2.69s/it]"
     ]
    },
    {
     "name": "stdout",
     "output_type": "stream",
     "text": [
      "num of crops 1, out of 2 lice\n",
      "num of crops 1, out of 1 lice\n",
      "num of crops 1, out of 1 lice\n"
     ]
    },
    {
     "name": "stderr",
     "output_type": "stream",
     "text": [
      "\r",
      "2922it [20:50,  1.89s/it]"
     ]
    },
    {
     "name": "stdout",
     "output_type": "stream",
     "text": [
      "num of crops 1, out of 1 lice\n"
     ]
    },
    {
     "name": "stderr",
     "output_type": "stream",
     "text": [
      "\r",
      "2926it [20:58,  1.91s/it]"
     ]
    },
    {
     "name": "stdout",
     "output_type": "stream",
     "text": [
      "num of crops 1, out of 1 lice\n",
      "num of crops 2, out of 2 lice\n"
     ]
    },
    {
     "name": "stderr",
     "output_type": "stream",
     "text": [
      "2932it [21:01,  1.19s/it]"
     ]
    },
    {
     "name": "stdout",
     "output_type": "stream",
     "text": [
      "num of crops 2, out of 2 lice\n"
     ]
    },
    {
     "name": "stderr",
     "output_type": "stream",
     "text": [
      "\r",
      "2933it [21:05,  2.04s/it]"
     ]
    },
    {
     "name": "stdout",
     "output_type": "stream",
     "text": [
      "num of crops 1, out of 1 lice\n"
     ]
    },
    {
     "name": "stderr",
     "output_type": "stream",
     "text": [
      "\r",
      "2935it [21:10,  2.13s/it]"
     ]
    },
    {
     "name": "stdout",
     "output_type": "stream",
     "text": [
      "num of crops 1, out of 1 lice\n",
      "num of crops 2, out of 2 lice\n"
     ]
    },
    {
     "name": "stderr",
     "output_type": "stream",
     "text": [
      "2944it [21:10,  1.07s/it]"
     ]
    },
    {
     "name": "stdout",
     "output_type": "stream",
     "text": [
      "num of crops 1, out of 1 lice\n",
      "num of crops 1, out of 1 lice\n",
      "num of crops 2, out of 2 lice\n"
     ]
    },
    {
     "name": "stderr",
     "output_type": "stream",
     "text": [
      "\r",
      "2947it [21:15,  1.22s/it]"
     ]
    },
    {
     "name": "stdout",
     "output_type": "stream",
     "text": [
      "num of crops 1, out of 2 lice\n"
     ]
    },
    {
     "name": "stderr",
     "output_type": "stream",
     "text": [
      "\r",
      "2949it [21:19,  1.47s/it]"
     ]
    },
    {
     "name": "stdout",
     "output_type": "stream",
     "text": [
      "num of crops 1, out of 1 lice\n"
     ]
    },
    {
     "name": "stderr",
     "output_type": "stream",
     "text": [
      "\r",
      "2951it [21:24,  1.71s/it]"
     ]
    },
    {
     "name": "stdout",
     "output_type": "stream",
     "text": [
      "num of crops 1, out of 1 lice\n",
      "num of crops 1, out of 3 lice\n",
      "num of crops 2, out of 2 lice\n"
     ]
    },
    {
     "name": "stderr",
     "output_type": "stream",
     "text": [
      "2957it [21:24,  1.16it/s]"
     ]
    },
    {
     "name": "stdout",
     "output_type": "stream",
     "text": [
      "num of crops 3, out of 5 lice\n",
      "num of crops 1, out of 1 lice\n"
     ]
    },
    {
     "name": "stderr",
     "output_type": "stream",
     "text": [
      "\r",
      "2960it [21:27,  1.08it/s]"
     ]
    },
    {
     "name": "stdout",
     "output_type": "stream",
     "text": [
      "num of crops 1, out of 1 lice\n",
      "num of crops 1, out of 1 lice\n"
     ]
    },
    {
     "name": "stderr",
     "output_type": "stream",
     "text": [
      "\r",
      "2962it [21:29,  1.01it/s]"
     ]
    },
    {
     "name": "stdout",
     "output_type": "stream",
     "text": [
      "num of crops 1, out of 1 lice\n"
     ]
    },
    {
     "name": "stderr",
     "output_type": "stream",
     "text": [
      "\r",
      "2963it [21:32,  1.52s/it]"
     ]
    },
    {
     "name": "stdout",
     "output_type": "stream",
     "text": [
      "num of crops 1, out of 1 lice\n",
      "num of crops 1, out of 1 lice\n",
      "num of crops 3, out of 6 lice\n"
     ]
    },
    {
     "name": "stderr",
     "output_type": "stream",
     "text": [
      "\r",
      "2967it [21:32,  1.09s/it]"
     ]
    },
    {
     "name": "stdout",
     "output_type": "stream",
     "text": [
      "num of crops 3, out of 4 lice\n"
     ]
    },
    {
     "name": "stderr",
     "output_type": "stream",
     "text": [
      "\r",
      "2972it [21:33,  1.29it/s]"
     ]
    },
    {
     "name": "stdout",
     "output_type": "stream",
     "text": [
      "num of crops 1, out of 1 lice\n",
      "num of crops 3, out of 3 lice\n"
     ]
    },
    {
     "name": "stderr",
     "output_type": "stream",
     "text": [
      "2979it [21:39,  1.08s/it]"
     ]
    },
    {
     "name": "stdout",
     "output_type": "stream",
     "text": [
      "num of crops 2, out of 2 lice\n",
      "num of crops 1, out of 1 lice\n"
     ]
    },
    {
     "name": "stderr",
     "output_type": "stream",
     "text": [
      "\r",
      "2982it [21:43,  1.16s/it]"
     ]
    },
    {
     "name": "stdout",
     "output_type": "stream",
     "text": [
      "num of crops 1, out of 1 lice\n",
      "num of crops 1, out of 1 lice\n",
      "num of crops 2, out of 2 lice\n"
     ]
    },
    {
     "name": "stderr",
     "output_type": "stream",
     "text": [
      "2985it [21:46,  1.12it/s]"
     ]
    },
    {
     "name": "stdout",
     "output_type": "stream",
     "text": [
      "num of crops 2, out of 2 lice\n",
      "num of crops 1, out of 1 lice\n"
     ]
    },
    {
     "name": "stderr",
     "output_type": "stream",
     "text": [
      "\r",
      "2989it [21:46,  1.57it/s]"
     ]
    },
    {
     "name": "stdout",
     "output_type": "stream",
     "text": [
      "num of crops 1, out of 1 lice\n"
     ]
    },
    {
     "name": "stderr",
     "output_type": "stream",
     "text": [
      "\r",
      "2993it [21:52,  1.12it/s]"
     ]
    },
    {
     "name": "stdout",
     "output_type": "stream",
     "text": [
      "num of crops 1, out of 1 lice\n"
     ]
    },
    {
     "name": "stderr",
     "output_type": "stream",
     "text": [
      "\r",
      "2995it [21:55,  1.04s/it]"
     ]
    },
    {
     "name": "stdout",
     "output_type": "stream",
     "text": [
      "num of crops 1, out of 1 lice\n"
     ]
    },
    {
     "name": "stderr",
     "output_type": "stream",
     "text": [
      "\r",
      "2996it [21:59,  1.99s/it]"
     ]
    },
    {
     "name": "stdout",
     "output_type": "stream",
     "text": [
      "num of crops 1, out of 1 lice\n",
      "num of crops 1, out of 1 lice\n"
     ]
    },
    {
     "name": "stderr",
     "output_type": "stream",
     "text": [
      "\r",
      "3000it [22:04,  1.70s/it]"
     ]
    },
    {
     "name": "stdout",
     "output_type": "stream",
     "text": [
      "num of crops 2, out of 2 lice\n",
      "num of crops 4, out of 4 lice\n"
     ]
    },
    {
     "name": "stderr",
     "output_type": "stream",
     "text": [
      "\r",
      "3009it [22:04,  1.20s/it]"
     ]
    },
    {
     "name": "stdout",
     "output_type": "stream",
     "text": [
      "num of crops 1, out of 1 lice\n"
     ]
    },
    {
     "name": "stderr",
     "output_type": "stream",
     "text": [
      "\r",
      "3015it [22:11,  1.21s/it]"
     ]
    },
    {
     "name": "stdout",
     "output_type": "stream",
     "text": [
      "num of crops 2, out of 2 lice\n"
     ]
    },
    {
     "name": "stderr",
     "output_type": "stream",
     "text": [
      "\r",
      "3016it [22:16,  2.20s/it]"
     ]
    },
    {
     "name": "stdout",
     "output_type": "stream",
     "text": [
      "num of crops 1, out of 1 lice\n",
      "num of crops 1, out of 1 lice\n",
      "num of crops 2, out of 3 lice\n"
     ]
    },
    {
     "name": "stderr",
     "output_type": "stream",
     "text": [
      "\r",
      "3020it [22:16,  1.55s/it]"
     ]
    },
    {
     "name": "stdout",
     "output_type": "stream",
     "text": [
      "num of crops 1, out of 1 lice\n",
      "num of crops 1, out of 1 lice\n"
     ]
    },
    {
     "name": "stderr",
     "output_type": "stream",
     "text": [
      "\r",
      "3022it [22:16,  1.12s/it]"
     ]
    },
    {
     "name": "stdout",
     "output_type": "stream",
     "text": [
      "num of crops 1, out of 1 lice\n"
     ]
    },
    {
     "name": "stderr",
     "output_type": "stream",
     "text": [
      "\r",
      "3026it [22:18,  1.05it/s]"
     ]
    },
    {
     "name": "stdout",
     "output_type": "stream",
     "text": [
      "num of crops 1, out of 1 lice\n",
      "num of crops 2, out of 2 lice\n"
     ]
    },
    {
     "name": "stderr",
     "output_type": "stream",
     "text": [
      "3031it [22:21,  2.26it/s]"
     ]
    },
    {
     "name": "stdout",
     "output_type": "stream",
     "text": [
      "num of crops 1, out of 1 lice\n"
     ]
    },
    {
     "name": "stderr",
     "output_type": "stream",
     "text": [
      "\n"
     ]
    }
   ],
   "source": [
    "seed(SEED)\n",
    "for idx, sf in tqdm(annotation_data.iterrows()):\n",
    "    if not sf['annotation']:\n",
    "        continue\n",
    "\n",
    "    left_image_f, bucket, left_image_key = download_from_url(sf[\"left_crop_url\"])\n",
    "    image_f = left_image_f \n",
    "\n",
    "    iw = sf['left_crop_metadata']['width']\n",
    "    ih = sf['left_crop_metadata']['height']\n",
    "    \n",
    "    # randomly generate crops around lice\n",
    "    crops = data_prep.generate_crops(sf['annotation'], [iw, ih], [CROP_WIDTH, CROP_HEIGHT])\n",
    "\n",
    "    print(\"num of crops {}, out of {} lice\".format(len(crops), len(sf['annotation'])))\n",
    "    i = -1\n",
    "    for crop in crops:\n",
    "        i += 1\n",
    "        image = plt.imread(image_f)\n",
    "        \n",
    "        # crop lice image\n",
    "        crop_left, crop_top = crop\n",
    "        # print(\"crop {} {}\".format(crop_left, crop_top))\n",
    "        cropped_image = image[crop_top:(crop_top + CROP_HEIGHT), crop_left:(crop_left + CROP_WIDTH)]\n",
    "        \n",
    "        # get file name\n",
    "        start, end = \"left_frame_crop_\", \".jpg\"\n",
    "        s = sf[\"left_crop_url\"]\n",
    "        file_name = \"left_\" + s[s.find(start)+ len(start):s.find(end)]\n",
    "        file_name += \"_CROP_{}_{}\".format(i, len(crops))    \n",
    "        \n",
    "        # save image\n",
    "        data_prep.write_image(cropped_image, file_name, IMAGE_PATH)\n",
    "        \n",
    "        labels = []\n",
    "        \n",
    "        # save labels\n",
    "        for lice in crops[crop]:\n",
    "            lp = lice['position'] # only take the first female adult\n",
    "            x, y, w, h = lp[\"left\"], lp[\"top\"], lp[\"width\"], lp[\"height\"]\n",
    "            class_index = lice_category.index(lice['category'])\n",
    "            \n",
    "            crop_left_offset = x - crop_left\n",
    "            crop_top_offset = y - crop_top            \n",
    "            \n",
    "            xywh = [crop_left_offset, crop_top_offset, w, h]\n",
    "            bbox = utils.xywh2yolobbox(xywh, [CROP_WIDTH, CROP_HEIGHT])\n",
    "            \n",
    "            labels.append([class_index] + bbox)\n",
    "\n",
    "            \n",
    "        data_prep.write_labels(labels, file_name, LABEL_PATH)\n"
   ]
  },
  {
   "cell_type": "code",
   "execution_count": null,
   "metadata": {},
   "outputs": [],
   "source": []
  },
  {
   "cell_type": "code",
   "execution_count": null,
   "metadata": {},
   "outputs": [],
   "source": []
  }
 ],
 "metadata": {
  "kernelspec": {
   "display_name": "Python 3",
   "language": "python",
   "name": "python3"
  },
  "language_info": {
   "codemirror_mode": {
    "name": "ipython",
    "version": 3
   },
   "file_extension": ".py",
   "mimetype": "text/x-python",
   "name": "python",
   "nbconvert_exporter": "python",
   "pygments_lexer": "ipython3",
   "version": "3.6.5"
  }
 },
 "nbformat": 4,
 "nbformat_minor": 4
}
