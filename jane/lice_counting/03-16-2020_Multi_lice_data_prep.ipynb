{
 "cells": [
  {
   "cell_type": "markdown",
   "metadata": {},
   "source": [
    "# SUMMARY \n",
    "\n",
    "## approx 0 - 8 lice annotations per fish crop\n",
    "\n",
    "## sorted lice category are\n",
    "['ADULT_FEMALE', 'MOVING', 'SCOTTISH_ADULT_FEMALE', 'UNSURE']"
   ]
  },
  {
   "cell_type": "code",
   "execution_count": null,
   "metadata": {},
   "outputs": [],
   "source": [
    "#!pip install -r requirements.txt"
   ]
  },
  {
   "cell_type": "code",
   "execution_count": null,
   "metadata": {},
   "outputs": [],
   "source": [
    "from research.utils.data_access_utils import RDSAccessUtils, S3AccessUtils\n",
    "import json\n",
    "import os\n",
    "import  pandas as pd\n",
    "import matplotlib.patches as patches\n",
    "from tqdm import tqdm\n",
    "\n",
    "import matplotlib.pyplot as plt\n",
    "pd.set_option('display.max_rows', 500)\n",
    "pd.set_option('display.max_colwidth', 500)\n",
    "%matplotlib inline\n",
    "from utils import utils, data_prep\n"
   ]
  },
  {
   "cell_type": "code",
   "execution_count": null,
   "metadata": {},
   "outputs": [],
   "source": [
    "import cv2\n",
    "from PIL import Image\n",
    "import numpy as np\n",
    "import matplotlib.pyplot as plt\n",
    "from random import randint, seed"
   ]
  },
  {
   "cell_type": "code",
   "execution_count": null,
   "metadata": {},
   "outputs": [],
   "source": [
    "import importlib\n",
    "importlib.reload(utils)\n",
    "importlib.reload(data_prep)"
   ]
  },
  {
   "cell_type": "code",
   "execution_count": null,
   "metadata": {},
   "outputs": [],
   "source": [
    "SEED = 33\n",
    "CROP_WIDTH = 512\n",
    "CROP_HEIGHT = 512\n",
    "\n",
    "LICE_BBOX_COLOR = ['b', 'r'] # bbox edge color\n",
    "LICE_CATEGORY = ['ADULT_FEMALE', 'MOVING']\n",
    "#LABEL_PATH = 'data/moving_lice_crop_labels'\n",
    "#IMAGE_PATH = 'data/moving_lice_crop_images'"
   ]
  },
  {
   "cell_type": "markdown",
   "metadata": {},
   "source": [
    "# load annotation data"
   ]
  },
  {
   "cell_type": "code",
   "execution_count": null,
   "metadata": {},
   "outputs": [],
   "source": [
    "# docker-compose up \n",
    "#credentials = json.load(open(os.environ[\"DATA_WAREHOUSE_SQL_CREDENTIALS\"]))\n",
    "\n",
    "# docker run\n",
    "credentials = json.load(open(\"/root/jane/cv_research/jane/deploy/data_warehouse_sql_credentials.json\"))\n",
    "\n",
    "rds_access_utils = RDSAccessUtils(credentials)\n",
    "\n",
    "get_annotation_data = \"\"\"\n",
    "    SELECT \n",
    "        group_id,\n",
    "        left_crop_metadata,\n",
    "        left_crop_url,\n",
    "        annotation \n",
    "    FROM \n",
    "        prod.crop_annotation \n",
    "    WHERE \n",
    "        (captured_at BETWEEN '2020-01-01' AND '2020-02-01') AND \n",
    "        (group_id IN ('56', '65', '37')) AND\n",
    "        (annotation_state_id IN (7)) AND\n",
    "        (service_id = 1);\n",
    "\"\"\"\n",
    "annotation_data = rds_access_utils.extract_from_database(get_annotation_data)"
   ]
  },
  {
   "cell_type": "code",
   "execution_count": null,
   "metadata": {},
   "outputs": [],
   "source": [
    "annotation_data.shape"
   ]
  },
  {
   "cell_type": "code",
   "execution_count": null,
   "metadata": {},
   "outputs": [],
   "source": [
    "# num of fish that has lice\n",
    "annotation_data[annotation_data.annotation.notnull()].shape"
   ]
  },
  {
   "cell_type": "code",
   "execution_count": null,
   "metadata": {},
   "outputs": [],
   "source": [
    "annotation_data.head(3)"
   ]
  },
  {
   "cell_type": "code",
   "execution_count": null,
   "metadata": {},
   "outputs": [],
   "source": [
    "annotation_data.iloc[1]['annotation']"
   ]
  },
  {
   "cell_type": "markdown",
   "metadata": {},
   "source": [
    "# Histogram of lice count in each fish crop"
   ]
  },
  {
   "cell_type": "code",
   "execution_count": null,
   "metadata": {},
   "outputs": [],
   "source": [
    "lice_count = []\n",
    "for _, sf in tqdm(annotation_data.iterrows()):\n",
    "    if sf['annotation']:\n",
    "        lice_count.append(len(sf['annotation']))\n",
    "    else:\n",
    "        lice_count.append(0)\n",
    "lice_count = np.array(lice_count)\n",
    "_ = plt.hist(lice_count, bins = 25)  # arguments are passed to np.histogram\n",
    "plt.title(\"Histogram of lice count per fish image\")\n",
    "plt.xlabel('lice count')\n",
    "plt.show()\n",
    "print(\"avg of lice/fish for fish with lice: {}\".format(np.mean(lice_count[(lice_count > 0) ])))\n",
    "print(\"avg of lice/fish for all fish: {}\".format(np.mean(lice_count)))\n",
    "print(\"max lice count per image: {}\".format(np.max(lice_count)))"
   ]
  },
  {
   "cell_type": "code",
   "execution_count": null,
   "metadata": {},
   "outputs": [],
   "source": [
    "#np.mean(lice_count[(lice_count > 0) & (lice_count <= 10)])\n",
    "np.mean(lice_count[(lice_count > 0) ])"
   ]
  },
  {
   "cell_type": "code",
   "execution_count": null,
   "metadata": {},
   "outputs": [],
   "source": []
  },
  {
   "cell_type": "markdown",
   "metadata": {},
   "source": [
    "# get lice df"
   ]
  },
  {
   "cell_type": "code",
   "execution_count": null,
   "metadata": {},
   "outputs": [],
   "source": [
    "df = pd.DataFrame()\n",
    "for _, sf in tqdm(annotation_data.iterrows()):\n",
    "    if sf['annotation']:\n",
    "        for lice in sf['annotation']:\n",
    "            if lice['category'] not in ['ADULT_FEMALE', 'MOVING']:\n",
    "                continue\n",
    "            df = df.append({\"category\": lice['category'],\n",
    "                            \"fish_image_url\": sf['left_crop_url'],\n",
    "                            \"location\": lice['location'],\n",
    "                            \"left\": lice['position']['left'],\n",
    "                            \"top\": lice['position']['top'],\n",
    "                            \"width\": lice['position']['width'], \n",
    "                            \"height\": lice['position']['height'],\n",
    "                            \"fish_image_width\": sf['left_crop_metadata']['width'],\n",
    "                            \"fish_image_height\": sf['left_crop_metadata']['height'],\n",
    "                           }, ignore_index=True)   "
   ]
  },
  {
   "cell_type": "code",
   "execution_count": null,
   "metadata": {},
   "outputs": [],
   "source": [
    "df.shape"
   ]
  },
  {
   "cell_type": "code",
   "execution_count": null,
   "metadata": {},
   "outputs": [],
   "source": [
    "df.head(3)"
   ]
  },
  {
   "cell_type": "code",
   "execution_count": null,
   "metadata": {},
   "outputs": [],
   "source": [
    "categories = df.groupby(['category'])\n",
    "categories.describe()[{\"height\"}]"
   ]
  },
  {
   "cell_type": "markdown",
   "metadata": {},
   "source": [
    " # bar chart of lice by category, location or both"
   ]
  },
  {
   "cell_type": "code",
   "execution_count": null,
   "metadata": {},
   "outputs": [],
   "source": [
    "df.groupby('category').location.value_counts().unstack(0).plot(kind='barh', \n",
    "                                                               legend=True, \n",
    "                                                               color=LICE_BBOX_COLOR, \n",
    "                                                               title = \"Bar Chart of Lice by Location\")\n",
    "\n",
    "\n"
   ]
  },
  {
   "cell_type": "code",
   "execution_count": null,
   "metadata": {},
   "outputs": [],
   "source": [
    "# bbox dimension plot"
   ]
  },
  {
   "cell_type": "code",
   "execution_count": null,
   "metadata": {},
   "outputs": [],
   "source": [
    "# groups = df.groupby(['category', 'location'])\n",
    "\n",
    "# for name, group in groups:\n",
    "#     #class_index = LICE_CATEGORY.index(name[0])\n",
    "#     #ec = LICE_BBOX_COLOR[class_index] \n",
    "    \n",
    "#     plt.plot(group.left/group.fish_image_width,\n",
    "#              group.top/group.fish_image_height, \n",
    "#              marker=\".\", linestyle=\"\", label=name)\n",
    "    \n",
    "#     plt.legend()\n",
    "#     plt.axvline(x=0.5)\n",
    "\n",
    "#     plt.axis('square')\n",
    "#     plt.xlabel('width')\n",
    "#     plt.ylabel('height')\n",
    "#     plt.title(\"heat map of {}\".format(name))\n",
    "#     plt.show()"
   ]
  },
  {
   "cell_type": "code",
   "execution_count": null,
   "metadata": {},
   "outputs": [],
   "source": [
    "figure, axes = plt.subplots(nrows=1, ncols=3, figsize=(24, 10))\n",
    "figure.suptitle('Rescaled Location of Lice', fontsize=26)\n",
    "\n",
    "blue_patch = patches.Patch(facecolor='none', edgecolor='b', label='ADULT_FEMALE')\n",
    "red_patch = patches.Patch(facecolor='none', edgecolor='r', label='MOVING')\n",
    "\n",
    "figure.legend(loc='upper left', bbox_to_anchor=(0.34,0.73), handles=[blue_patch,red_patch], fontsize='16')\n",
    "\n",
    "for i, lice in tqdm( df.iterrows()):\n",
    "    #if i > 200: break\n",
    "    class_index = LICE_CATEGORY.index(lice.category)\n",
    "    ec = LICE_BBOX_COLOR[class_index]    \n",
    "\n",
    "    x, y = (lice.left/ lice.fish_image_width,\n",
    "            1 - lice.top/ lice.fish_image_height)\n",
    "    w, h = lice.width / lice.fish_image_width, lice.height/ lice.fish_image_height\n",
    "    rect = patches.Rectangle((x, y), w, h,linewidth=1,edgecolor=ec,facecolor='none', label = lice.category)\n",
    "\n",
    "    col_index = [\"TOP\", \"MIDDLE\", \"BOTTOM\"].index(lice['location'])\n",
    "\n",
    "    axes[col_index].add_patch(rect)  \n",
    "    \n",
    "    axes[col_index].set(aspect='equal')\n",
    "    \n",
    "axes[0].set(title = \"TOP\")\n",
    "axes[1].set(title = \"MIDDLE\")\n",
    "axes[2].set(title = \"BOTTOM\")\n",
    "\n",
    "\n",
    "\n",
    "\n",
    "fig.tight_layout()\n",
    "fig.subplots_adjust(top=1.5)\n",
    "\n",
    "plt.show()"
   ]
  },
  {
   "cell_type": "markdown",
   "metadata": {},
   "source": [
    "# Dimension of bbox"
   ]
  },
  {
   "cell_type": "code",
   "execution_count": null,
   "metadata": {},
   "outputs": [],
   "source": [
    "categories = df.groupby('category')\n",
    "import statistics\n",
    "\n",
    "\n",
    "for name, group in categories:\n",
    "    class_index = LICE_CATEGORY.index(name)\n",
    "    ec = LICE_BBOX_COLOR[class_index]\n",
    "    print(\"{}  median width: {} height{}\".format(name, statistics.median(group.width), statistics.median(group.height)))\n",
    "    plt.plot(group.width, group.height, color =ec, marker=\".\", linestyle=\"\", label=name)\n",
    "\n",
    "plt.legend()\n",
    "plt.axis('square')\n",
    "plt.xlabel('width (pixel)')\n",
    "plt.ylabel('height (pixel)')\n",
    "plt.title(\"Dimension of Lice Bbox\")\n",
    "plt.show()\n",
    "\n",
    "categories.describe(percentiles=[.5])[{'width','height'}]"
   ]
  },
  {
   "cell_type": "code",
   "execution_count": null,
   "metadata": {},
   "outputs": [],
   "source": [
    "\n",
    "categories.describe(percentiles=[.5])[{'width','height'}]"
   ]
  },
  {
   "cell_type": "code",
   "execution_count": null,
   "metadata": {},
   "outputs": [],
   "source": [
    "df[(df.category == \"MOVING\") & (df.height > 25) & (df.width > 70)]"
   ]
  },
  {
   "cell_type": "code",
   "execution_count": null,
   "metadata": {},
   "outputs": [],
   "source": [
    "#s3_access_utils = S3AccessUtils('/root/data')\n",
    "\n",
    "import boto3\n",
    "from urllib.parse import urlparse\n",
    "\n",
    "\n",
    "aws_credentials = json.load(open('/root/jane/cv_research/jane/deploy/aws_credentials.json'))\n",
    "s3_client = boto3.client('s3', aws_access_key_id=aws_credentials[\"aws_access_key_id\"],\n",
    "aws_secret_access_key=aws_credentials[\"aws_secret_access_key\"],\n",
    "            region_name=\"eu-west-1\")\n",
    "\n",
    "def recursive_mkdir(dirname):\n",
    "    if not os.path.exists(dirname):\n",
    "        os.makedirs(dirname)\n",
    "    return\n",
    "    \n",
    "def download_from_s3(bucket, key, custom_location=None):\n",
    "    if custom_location:\n",
    "        recursive_mkdir(os.path.dirname(custom_location))\n",
    "        s3_client.download_file(bucket, key, custom_location)\n",
    "    else:\n",
    "        s3_base_dir = os.path.join('/root/data', 's3')\n",
    "        f = os.path.join(s3_base_dir, bucket, key)\n",
    "        if not os.path.exists(f):\n",
    "            recursive_mkdir(os.path.dirname(f))\n",
    "            s3_client.download_file(bucket, key, f)\n",
    "        return f\n",
    "    \n",
    "def download_from_url(url):\n",
    "    parsed_url = urlparse(url, allow_fragments=False)\n",
    "    if parsed_url.netloc.startswith('s3'):\n",
    "        url_components = parsed_url.path.lstrip('/').split('/')\n",
    "        bucket, key = url_components[0], os.path.join(*url_components[1:])\n",
    "    else:\n",
    "        bucket = parsed_url.netloc.split('.')[0]\n",
    "        key = parsed_url.path.lstrip('/')\n",
    "    image_f = download_from_s3(bucket, key)\n",
    "    return image_f, bucket, key"
   ]
  },
  {
   "cell_type": "code",
   "execution_count": null,
   "metadata": {},
   "outputs": [],
   "source": [
    "# low-res\n",
    "#fig, ax = plt.subplots(figsize=(12, 12)) \n",
    "#image = plt.imread(image_f)\n",
    "#img = Image.open(image_f)\n",
    "#img = img.resize((200,200)).resize((image.shape[1], image.shape[0]))"
   ]
  },
  {
   "cell_type": "code",
   "execution_count": null,
   "metadata": {},
   "outputs": [],
   "source": [
    "# for confluence  documentation \n",
    "num_pic = -1\n",
    "nrows = 30\n",
    "figure, axes = plt.subplots(nrows=nrows, ncols=2, figsize=(20, nrows * 6))\n",
    "\n",
    "for idx, sf in tqdm(annotation_data.iterrows()):\n",
    "\n",
    "    if not sf['annotation']:\n",
    "        continue \n",
    "    has_large_lice = 0\n",
    "    for lice in sf['annotation']:\n",
    "        l_location = lice['location']\n",
    "        if l_location == \"BOTTOM\":\n",
    "            has_large_lice += 1\n",
    "#         x = lp['left']\n",
    "#         w, h = lp[\"width\"], lp[\"height\"]\n",
    "#         x_scaled = x / sf[\"left_crop_metadata\"][\"width\"]\n",
    "#         if x_scaled < 0.6 and x_scaled > 0.4: \n",
    "#             has_large_lice = x_scaled\n",
    "    if has_large_lice == 0:\n",
    "        continue\n",
    "    num_pic += 1\n",
    "    if num_pic >= nrows * 2:\n",
    "        break\n",
    "    left_image_f, bucket, left_image_key = download_from_url(sf[\"left_crop_url\"])\n",
    "    image_f = left_image_f \n",
    "\n",
    "    #image = plt.imread(image_f)\n",
    "\n",
    "    img = Image.open(image_f)\n",
    "\n",
    "    #img = img.resize((512,512)).resize((image.shape[1], image.shape[0]))\n",
    "\n",
    "\n",
    "    alpha = 3 # Contrast control (1.0-3.0)\n",
    "    beta = 20 # Brightness control (0-100)\n",
    "\n",
    "    img = np.asarray(img)\n",
    "    adjusted = cv2.convertScaleAbs(img, alpha=alpha, beta=beta)\n",
    "    axes[num_pic // 2, num_pic % 2].imshow(adjusted)\n",
    "\n",
    "    title = \"\"\n",
    "    for lice in sf['annotation']:\n",
    "        lp = lice['position'] \n",
    "        x, y, w, h = lp[\"left\"], lp[\"top\"], lp[\"width\"], lp[\"height\"]\n",
    "        class_index = LICE_CATEGORY.index(lice['category'])\n",
    "        ec = LICE_BBOX_COLOR[class_index]\n",
    "        rect = patches.Rectangle((x, y), w, h,linewidth=3,edgecolor=ec,facecolor='none')    \n",
    "        #axes[num_pic // 2, num_pic % 2].add_patch(rect)\n",
    "        if lice['location']==\"BOTTOM\": \n",
    "            axes[num_pic // 2, num_pic % 2].add_patch(rect)\n",
    "            title += \"{} {} {} {}\".format(lice['location'], lice['category'], str(x), str(y))\n",
    "#     axes[num_pic // 2, num_pic % 2].set_title(str(has_large_lice))\n",
    "\n",
    "figure.tight_layout()"
   ]
  },
  {
   "cell_type": "code",
   "execution_count": null,
   "metadata": {},
   "outputs": [],
   "source": []
  },
  {
   "cell_type": "markdown",
   "metadata": {},
   "source": [
    "# Pipeline"
   ]
  },
  {
   "cell_type": "code",
   "execution_count": null,
   "metadata": {},
   "outputs": [],
   "source": []
  },
  {
   "cell_type": "markdown",
   "metadata": {},
   "source": [
    "1. Crop region detector: Full fish image, low resolution\n",
    "\n",
    "   -> Bbox of Crop that covers the fish part\n",
    "\n",
    "    Network: Yolo\n",
    "\n",
    "2. Detector on crop, high resolution\n",
    "\n",
    "   -> Bbox of lice\n",
    "   \n",
    "   Network:SSD (mask rcnn too slow)\n",
    "   \n",
    "3. Map to fish image"
   ]
  },
  {
   "cell_type": "markdown",
   "metadata": {},
   "source": [
    "# prepare training output image of step1"
   ]
  },
  {
   "cell_type": "markdown",
   "metadata": {},
   "source": [
    "1. bbox/RoI/Receptive field\n",
    "\n",
    "2. fixed sized- 512 * 512 or different scale 128, 256, 300 etc\n",
    "\n",
    "3. force to cover the fish by lice location\n",
    "\n",
    "4. just 1 crop/ multiple\n",
    "\n",
    "5. new generation of camera"
   ]
  },
  {
   "cell_type": "markdown",
   "metadata": {},
   "source": [
    "# lice crop"
   ]
  },
  {
   "cell_type": "markdown",
   "metadata": {},
   "source": [
    "## visualize random lice crop"
   ]
  },
  {
   "cell_type": "code",
   "execution_count": null,
   "metadata": {},
   "outputs": [],
   "source": [
    "# for confluence documentation \n",
    "seed(SEED)\n",
    "num_pic = -1\n",
    "\n",
    "nrows = 2\n",
    "figure, axes = plt.subplots(nrows=nrows, ncols=2, figsize=(20, nrows * 6))\n",
    "\n",
    "for idx, sf in tqdm(annotation_data.iterrows()):\n",
    "    if not sf['annotation']:\n",
    "        continue\n",
    "    has_large_lice = False\n",
    "    for lice in sf['annotation']:\n",
    "        lp = lice['position'] \n",
    "        x, y, w, h = lp[\"left\"], lp[\"top\"], lp[\"width\"], lp[\"height\"]\n",
    "        if lice['category'] == 'MOVING' and h > 25 and w > 70:\n",
    "            has_large_lice = True\n",
    "    if not has_large_lice:\n",
    "        continue\n",
    "    print(sf['annotation'])\n",
    "\n",
    "    left_image_f, bucket, left_image_key = download_from_url(sf[\"left_crop_url\"])\n",
    "    image_f = left_image_f \n",
    "\n",
    "    iw = sf['left_crop_metadata']['width']\n",
    "    ih = sf['left_crop_metadata']['height']\n",
    "    crops = data_prep.generate_crops_smart(sf['annotation'], [iw, ih], [CROP_WIDTH, CROP_HEIGHT])\n",
    "\n",
    "    for crop in crops:\n",
    "        has_large_lice = False\n",
    "        for lice in crops[crop]:\n",
    "            lp = lice['position'] \n",
    "            x, y, w, h = lp[\"left\"], lp[\"top\"], lp[\"width\"], lp[\"height\"]\n",
    "            if lice['category'] == 'MOVING' and h > 25 and w > 70:\n",
    "                has_large_lice = True\n",
    "        if not has_large_lice:\n",
    "            continue\n",
    "        \n",
    "        num_pic += 1\n",
    "        image = plt.imread(image_f)\n",
    "        \n",
    "        # crop lice image\n",
    "        crop_left, crop_top = crop\n",
    "        print(\"crop {} {}\".format(crop_left, crop_top))\n",
    "        cropped_image = image[crop_top:(crop_top + CROP_HEIGHT), crop_left:(crop_left + CROP_WIDTH)]\n",
    "        \n",
    "        # adjust image contrast and brightness\n",
    "        alpha = 3 # Contrast control (1.0-3.0)\n",
    "        beta = 20 # Brightness control (0-100)\n",
    "        adjusted = cv2.convertScaleAbs(cropped_image, alpha=alpha, beta=beta)\n",
    "        \n",
    "        axes[num_pic // 2, num_pic % 2].imshow(adjusted)\n",
    "\n",
    "\n",
    "        title = \"large MOVING: \"\n",
    "        for lice in crops[crop]:\n",
    "            lp = lice['position'] # only take the first female adult\n",
    "            x, y, w, h = lp[\"left\"], lp[\"top\"], lp[\"width\"], lp[\"height\"]\n",
    "            \n",
    "            class_index = LICE_CATEGORY.index(lice['category'])\n",
    "            ec = LICE_BBOX_COLOR[class_index]\n",
    "            crop_left_offset = x - crop_left\n",
    "            crop_top_offset = y - crop_top\n",
    "            if w > 70:\n",
    "                rect = patches.Rectangle((crop_left_offset, crop_top_offset), w, h,linewidth=3,edgecolor=ec,facecolor='none')    \n",
    "                title += \"{}, {}\".format(w, h)\n",
    "            else:\n",
    "                rect = patches.Rectangle((crop_left_offset, crop_top_offset), w, h,linewidth=1,edgecolor=ec,facecolor='none')    \n",
    "            axes[num_pic // 2, num_pic % 2].add_patch(rect) \n",
    "    \n",
    "        axes[num_pic // 2, num_pic % 2].set_title(title)\n",
    "\n",
    "figure.tight_layout()\n"
   ]
  },
  {
   "cell_type": "code",
   "execution_count": null,
   "metadata": {},
   "outputs": [],
   "source": [
    "seed(SEED)\n",
    "CROP_WIDTH = 256\n",
    "CROP_HEIGHT = 256\n",
    "for idx, sf in tqdm(annotation_data.iterrows()):\n",
    "    if not sf['annotation'] or idx < 20:\n",
    "        continue\n",
    "    if idx > 50:\n",
    "        break\n",
    "    left_image_f, bucket, left_image_key = download_from_url(sf[\"left_crop_url\"])\n",
    "    image_f = left_image_f \n",
    "\n",
    "    iw = sf['left_crop_metadata']['width']\n",
    "    ih = sf['left_crop_metadata']['height']\n",
    "    print(sf['annotation'])\n",
    "    crops = data_prep.generate_crops(sf['annotation'], [iw, ih], [CROP_WIDTH, CROP_HEIGHT])\n",
    "\n",
    "    print(\"num of crops {}\".format(len(crops)))\n",
    "    for crop in crops:\n",
    "        \n",
    "        fig, ax = plt.subplots(figsize=(10, 10))\n",
    "        image = plt.imread(image_f)\n",
    "        \n",
    "        # crop lice image\n",
    "        crop_left, crop_top = crop\n",
    "        print(\"crop {} {}\".format(crop_left, crop_top))\n",
    "        cropped_image = image[crop_top:(crop_top + CROP_HEIGHT), crop_left:(crop_left + CROP_WIDTH)]\n",
    "        \n",
    "        # adjust image contrast and brightness\n",
    "        alpha = 3 # Contrast control (1.0-3.0)\n",
    "        beta = 20 # Brightness control (0-100)\n",
    "        adjusted = cv2.convertScaleAbs(cropped_image, alpha=alpha, beta=beta)\n",
    "        \n",
    "        ax.imshow(adjusted)\n",
    "\n",
    "    \n",
    "        for lice in crops[crop]:\n",
    "            lp = lice['position'] # only take the first female adult\n",
    "            x, y, w, h = lp[\"left\"], lp[\"top\"], lp[\"width\"], lp[\"height\"]\n",
    "            \n",
    "            class_index = LICE_CATEGORY.index(lice['category'])\n",
    "            ec = LICE_BBOX_COLOR[class_index]\n",
    "            crop_left_offset = x - crop_left\n",
    "            crop_top_offset = y - crop_top\n",
    "            rect = patches.Rectangle((crop_left_offset, crop_top_offset), w, h,linewidth=1,edgecolor=ec,facecolor='none')    \n",
    "            ax.add_patch(rect)    \n",
    "\n",
    "        plt.show()"
   ]
  },
  {
   "cell_type": "markdown",
   "metadata": {},
   "source": [
    "## generate and write data for model"
   ]
  },
  {
   "cell_type": "code",
   "execution_count": null,
   "metadata": {},
   "outputs": [],
   "source": [
    "seed(SEED)\n",
    "for idx, sf in tqdm(annotation_data.iterrows()):\n",
    "    if not sf['annotation']:\n",
    "        continue\n",
    "\n",
    "    left_image_f, bucket, left_image_key = download_from_url(sf[\"left_crop_url\"])\n",
    "    image_f = left_image_f \n",
    "\n",
    "    iw = sf['left_crop_metadata']['width']\n",
    "    ih = sf['left_crop_metadata']['height']\n",
    "    \n",
    "    # randomly generate crops around lice\n",
    "    crops = data_prep.generate_crops(sf['annotation'], [iw, ih], [CROP_WIDTH, CROP_HEIGHT ])\n",
    "\n",
    "    print(\"num of crops {}, out of {} lice\".format(len(crops), len(sf['annotation'])))\n",
    "    i = -1\n",
    "    for crop in crops:\n",
    "        i += 1\n",
    "        image = plt.imread(image_f)\n",
    "        \n",
    "        # crop lice image\n",
    "        crop_left, crop_top = crop\n",
    "        cropped_image = image[crop_top:(crop_top + CROP_HEIGHT), crop_left:(crop_left + CROP_WIDTH)]\n",
    "        \n",
    "        # get file name\n",
    "        start, end = \"left_frame_crop_\", \".jpg\"\n",
    "        s = sf[\"left_crop_url\"]\n",
    "        file_name = \"left_\" + s[s.find(start)+ len(start):s.find(end)]\n",
    "        file_name += \"_CROP_{}_{}\".format(i, len(crops))    \n",
    "        \n",
    "        # save image\n",
    "        data_prep.write_image(cropped_image, file_name, IMAGE_PATH)\n",
    "        \n",
    "        labels = []\n",
    "        \n",
    "        # save labels\n",
    "        for lice in crops[crop]:\n",
    "            lp = lice['position'] # only take the first female adult\n",
    "            x, y, w, h = lp[\"left\"], lp[\"top\"], lp[\"width\"], lp[\"height\"]\n",
    "            class_index = LICE_CATEGORY.index(lice['category'])\n",
    "            \n",
    "            crop_left_offset = x - crop_left\n",
    "            crop_top_offset = y - crop_top            \n",
    "            \n",
    "            xywh = [crop_left_offset, crop_top_offset, w, h]\n",
    "            bbox = utils.xywh2yolobbox(xywh, [CROP_WIDTH, CROP_HEIGHT])\n",
    "            \n",
    "            labels.append([class_index] + bbox)\n",
    "\n",
    "            \n",
    "        data_prep.write_labels(labels, file_name, LABEL_PATH)\n"
   ]
  },
  {
   "cell_type": "markdown",
   "metadata": {},
   "source": [
    "## ONLY MOVING LICE"
   ]
  },
  {
   "cell_type": "code",
   "execution_count": null,
   "metadata": {},
   "outputs": [],
   "source": [
    "seed(SEED)\n",
    "for idx, sf in tqdm(annotation_data.iterrows()):\n",
    "    if not sf['annotation']:\n",
    "        continue\n",
    "    if idx > 200:\n",
    "        break\n",
    "    left_image_f, bucket, left_image_key = download_from_url(sf[\"left_crop_url\"])\n",
    "    image_f = left_image_f \n",
    "\n",
    "    iw = sf['left_crop_metadata']['width']\n",
    "    ih = sf['left_crop_metadata']['height']\n",
    "    \n",
    "    # randomly generate crops around lice\n",
    "    crops = data_prep.generate_crops(sf['annotation'], [iw, ih], [CROP_WIDTH, CROP_HEIGHT], ['MOVING'])\n",
    "\n",
    "    print(\"num of crops {}, out of {} lice\".format(len(crops), len(sf['annotation'])))\n",
    "    i = -1\n",
    "    for crop in crops:\n",
    "        i += 1\n",
    "        image = plt.imread(image_f)\n",
    "        \n",
    "        # crop lice image\n",
    "        crop_left, crop_top = crop\n",
    "        # print(\"crop {} {}\".format(crop_left, crop_top))\n",
    "        cropped_image = image[crop_top:(crop_top + CROP_HEIGHT), crop_left:(crop_left + CROP_WIDTH)]\n",
    "        \n",
    "        # get file name\n",
    "        start, end = \"left_frame_crop_\", \".jpg\"\n",
    "        s = sf[\"left_crop_url\"]\n",
    "        file_name = \"left_\" + s[s.find(start)+ len(start):s.find(end)]\n",
    "        file_name += \"_CROP_{}_{}\".format(i, len(crops))    \n",
    "        \n",
    "        # save image\n",
    "        data_prep.write_image(cropped_image, file_name, IMAGE_PATH)\n",
    "        \n",
    "        labels = []\n",
    "        \n",
    "        # save labels\n",
    "        for lice in crops[crop]:\n",
    "            lp = lice['position'] # only take the first female adult\n",
    "            x, y, w, h = lp[\"left\"], lp[\"top\"], lp[\"width\"], lp[\"height\"]\n",
    "            print(lice['category'])\n",
    "            class_index = 0\n",
    "            \n",
    "            crop_left_offset = x - crop_left\n",
    "            crop_top_offset = y - crop_top            \n",
    "            \n",
    "            xywh = [crop_left_offset, crop_top_offset, w, h]\n",
    "            bbox = utils.xywh2yolobbox(xywh, [CROP_WIDTH, CROP_HEIGHT])\n",
    "            \n",
    "            labels.append([class_index] + bbox)\n",
    "\n",
    "            \n",
    "        data_prep.write_labels(labels, file_name, LABEL_PATH)\n"
   ]
  },
  {
   "cell_type": "code",
   "execution_count": null,
   "metadata": {},
   "outputs": [],
   "source": []
  }
 ],
 "metadata": {
  "kernelspec": {
   "display_name": "Python 3",
   "language": "python",
   "name": "python3"
  },
  "language_info": {
   "codemirror_mode": {
    "name": "ipython",
    "version": 3
   },
   "file_extension": ".py",
   "mimetype": "text/x-python",
   "name": "python",
   "nbconvert_exporter": "python",
   "pygments_lexer": "ipython3"
  }
 },
 "nbformat": 4,
 "nbformat_minor": 4
}
