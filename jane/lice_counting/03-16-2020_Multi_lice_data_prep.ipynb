{
 "cells": [
  {
   "cell_type": "markdown",
   "metadata": {},
   "source": [
    "# SUMMARY \n",
    "\n",
    "## approx 0 - 8 lice annotations per fish crop\n",
    "\n",
    "## sorted lice category are\n",
    "['ADULT_FEMALE', 'MOVING', 'SCOTTISH_ADULT_FEMALE', 'UNSURE']"
   ]
  },
  {
   "cell_type": "code",
   "execution_count": 10,
   "metadata": {},
   "outputs": [],
   "source": [
    "from research.utils.data_access_utils import RDSAccessUtils, S3AccessUtils\n",
    "import json\n",
    "import os\n",
    "import  pandas as pd\n",
    "import matplotlib.patches as patches\n",
    "from tqdm import tqdm\n",
    "\n",
    "import matplotlib.pyplot as plt\n",
    "pd.set_option('display.max_rows', 500)\n",
    "pd.set_option('display.max_colwidth', 500)\n",
    "%matplotlib inline\n",
    "from utils import utils, data_prep\n"
   ]
  },
  {
   "cell_type": "code",
   "execution_count": 63,
   "metadata": {},
   "outputs": [],
   "source": [
    "import cv2\n",
    "from PIL import Image, ImageEnhance\n",
    "import numpy as np\n",
    "import matplotlib.pyplot as plt\n",
    "from random import randint, seed"
   ]
  },
  {
   "cell_type": "code",
   "execution_count": 64,
   "metadata": {},
   "outputs": [
    {
     "data": {
      "text/plain": [
       "<module 'utils.data_prep' from '/root/jane/cv_research/jane/lice_counting/utils/data_prep.py'>"
      ]
     },
     "execution_count": 64,
     "metadata": {},
     "output_type": "execute_result"
    }
   ],
   "source": [
    "import importlib\n",
    "importlib.reload(utils)\n",
    "importlib.reload(data_prep)"
   ]
  },
  {
   "cell_type": "code",
   "execution_count": 23,
   "metadata": {},
   "outputs": [],
   "source": [
    "SEED = 33\n",
    "CROP_WIDTH = 512\n",
    "CROP_HEIGHT = 512\n",
    "\n",
    "LICE_BBOX_EC = ['b', 'r', 'grey', 'yellow'] # bbox edge color\n",
    "LICE_CATEGORY = ['ADULT_FEMALE', 'MOVING', 'SCOTTISH_ADULT_FEMALE', 'UNSURE']\n",
    "#LABEL_PATH = 'data/moving_lice_crop_labels'\n",
    "#IMAGE_PATH = 'data/moving_lice_crop_images'"
   ]
  },
  {
   "cell_type": "markdown",
   "metadata": {},
   "source": [
    "# load annotation data"
   ]
  },
  {
   "cell_type": "code",
   "execution_count": 211,
   "metadata": {},
   "outputs": [],
   "source": [
    "# docker-compose up \n",
    "#credentials = json.load(open(os.environ[\"DATA_WAREHOUSE_SQL_CREDENTIALS\"]))\n",
    "\n",
    "# docker run\n",
    "credentials = json.load(open(\"/root/jane/cv_research/jane/deploy/data_warehouse_sql_credentials.json\"))\n",
    "\n",
    "rds_access_utils = RDSAccessUtils(credentials)\n",
    "\n",
    "get_annotation_data = \"\"\"\n",
    "    SELECT \n",
    "        group_id,\n",
    "        left_crop_url,\n",
    "        annotation \n",
    "    FROM \n",
    "        prod.crop_annotation \n",
    "    WHERE \n",
    "        (captured_at BETWEEN '2019-10-01' AND '2019-12-01') AND \n",
    "        (group_id = '56') AND\n",
    "        (annotation_state_id IN (7)) AND\n",
    "        (service_id = 1);\n",
    "\"\"\"\n",
    "annotation_data = rds_access_utils.extract_from_database(get_annotation_data)"
   ]
  },
  {
   "cell_type": "code",
   "execution_count": 212,
   "metadata": {},
   "outputs": [
    {
     "data": {
      "text/html": [
       "<div>\n",
       "<style scoped>\n",
       "    .dataframe tbody tr th:only-of-type {\n",
       "        vertical-align: middle;\n",
       "    }\n",
       "\n",
       "    .dataframe tbody tr th {\n",
       "        vertical-align: top;\n",
       "    }\n",
       "\n",
       "    .dataframe thead th {\n",
       "        text-align: right;\n",
       "    }\n",
       "</style>\n",
       "<table border=\"1\" class=\"dataframe\">\n",
       "  <thead>\n",
       "    <tr style=\"text-align: right;\">\n",
       "      <th></th>\n",
       "      <th>group_id</th>\n",
       "      <th>left_crop_url</th>\n",
       "      <th>annotation</th>\n",
       "    </tr>\n",
       "  </thead>\n",
       "  <tbody>\n",
       "    <tr>\n",
       "      <th>0</th>\n",
       "      <td>56</td>\n",
       "      <td>https://aquabyte-crops.s3.eu-west-1.amazonaws.com/environment=production/site-id=39/pen-id=56/date=2019-10-01/hour=05/at=2019-10-01T05:13:42.783757000Z/left_frame_crop_846_600_3122_1385.jpg</td>\n",
       "      <td>None</td>\n",
       "    </tr>\n",
       "    <tr>\n",
       "      <th>1</th>\n",
       "      <td>56</td>\n",
       "      <td>https://aquabyte-crops.s3.eu-west-1.amazonaws.com/environment=production/site-id=39/pen-id=56/date=2019-10-01/hour=05/at=2019-10-01T05:14:53.250725000Z/left_frame_crop_1286_524_3434_1555.jpg</td>\n",
       "      <td>[{'id': '37c09621-e422-11e9-a674-ad85428a0e40', 'category': 'MOVING', 'location': 'TOP', 'position': {'top': 177, 'left': 571, 'width': 23, 'height': 11}}, {'id': '37c09622-e422-11e9-a674-ad85428a0e40', 'category': 'MOVING', 'location': 'TOP', 'position': {'top': 178, 'left': 543, 'width': 26, 'height': 12}}]</td>\n",
       "    </tr>\n",
       "    <tr>\n",
       "      <th>2</th>\n",
       "      <td>56</td>\n",
       "      <td>https://aquabyte-crops.s3.eu-west-1.amazonaws.com/environment=production/site-id=39/pen-id=56/date=2019-10-01/hour=05/at=2019-10-01T05:15:12.635108000Z/left_frame_crop_958_178_3274_1374.jpg</td>\n",
       "      <td>None</td>\n",
       "    </tr>\n",
       "  </tbody>\n",
       "</table>\n",
       "</div>"
      ],
      "text/plain": [
       "  group_id  \\\n",
       "0       56   \n",
       "1       56   \n",
       "2       56   \n",
       "\n",
       "                                                                                                                                                                                    left_crop_url  \\\n",
       "0   https://aquabyte-crops.s3.eu-west-1.amazonaws.com/environment=production/site-id=39/pen-id=56/date=2019-10-01/hour=05/at=2019-10-01T05:13:42.783757000Z/left_frame_crop_846_600_3122_1385.jpg   \n",
       "1  https://aquabyte-crops.s3.eu-west-1.amazonaws.com/environment=production/site-id=39/pen-id=56/date=2019-10-01/hour=05/at=2019-10-01T05:14:53.250725000Z/left_frame_crop_1286_524_3434_1555.jpg   \n",
       "2   https://aquabyte-crops.s3.eu-west-1.amazonaws.com/environment=production/site-id=39/pen-id=56/date=2019-10-01/hour=05/at=2019-10-01T05:15:12.635108000Z/left_frame_crop_958_178_3274_1374.jpg   \n",
       "\n",
       "                                                                                                                                                                                                                                                                                                               annotation  \n",
       "0                                                                                                                                                                                                                                                                                                                    None  \n",
       "1  [{'id': '37c09621-e422-11e9-a674-ad85428a0e40', 'category': 'MOVING', 'location': 'TOP', 'position': {'top': 177, 'left': 571, 'width': 23, 'height': 11}}, {'id': '37c09622-e422-11e9-a674-ad85428a0e40', 'category': 'MOVING', 'location': 'TOP', 'position': {'top': 178, 'left': 543, 'width': 26, 'height': 12}}]  \n",
       "2                                                                                                                                                                                                                                                                                                                    None  "
      ]
     },
     "execution_count": 212,
     "metadata": {},
     "output_type": "execute_result"
    }
   ],
   "source": [
    "annotation_data.head(3)"
   ]
  },
  {
   "cell_type": "code",
   "execution_count": 58,
   "metadata": {},
   "outputs": [
    {
     "data": {
      "text/plain": [
       "[{'id': '37c09621-e422-11e9-a674-ad85428a0e40',\n",
       "  'category': 'MOVING',\n",
       "  'location': 'TOP',\n",
       "  'position': {'top': 177, 'left': 571, 'width': 23, 'height': 11}},\n",
       " {'id': '37c09622-e422-11e9-a674-ad85428a0e40',\n",
       "  'category': 'MOVING',\n",
       "  'location': 'TOP',\n",
       "  'position': {'top': 178, 'left': 543, 'width': 26, 'height': 12}}]"
      ]
     },
     "execution_count": 58,
     "metadata": {},
     "output_type": "execute_result"
    }
   ],
   "source": [
    "annotation_data.iloc[1]['annotation']"
   ]
  },
  {
   "cell_type": "markdown",
   "metadata": {},
   "source": [
    "# Histogram of lice count in each fish crop"
   ]
  },
  {
   "cell_type": "code",
   "execution_count": 8,
   "metadata": {
    "scrolled": true
   },
   "outputs": [
    {
     "data": {
      "image/png": "[encoded data removed]",
      "text/plain": [
       "<Figure size 432x288 with 1 Axes>"
      ]
     },
     "metadata": {
      "needs_background": "light"
     },
     "output_type": "display_data"
    }
   ],
   "source": [
    "lice_count = []\n",
    "for _, sf in annotation_data.iterrows():\n",
    "    if sf['annotation']:\n",
    "        lice_count.append(len(sf['annotation']))\n",
    "    else:\n",
    "        lice_count.append(0)\n",
    "        \n",
    "_ = plt.hist(lice_count)  # arguments are passed to np.histogram\n",
    "#_ = plt.hist(orientation, bins=20)\n",
    "plt.title(\"Histogram of lice count\")\n",
    "plt.xlabel('number of louse')\n",
    "plt.show()"
   ]
  },
  {
   "cell_type": "markdown",
   "metadata": {},
   "source": [
    "# bar chart of lice by category, location or both"
   ]
  },
  {
   "cell_type": "code",
   "execution_count": 178,
   "metadata": {},
   "outputs": [],
   "source": [
    "count = {}\n",
    "for _, sf in annotation_data.iterrows():\n",
    "    if sf['annotation']:\n",
    "        for louse in sf['annotation']:\n",
    "            if louse[\"category\"] not in ('ADULT_FEMALE', 'MOVING') or not louse[\"location\"]:\n",
    "                continue\n",
    "            key = str((louse[\"category\"][0], louse[\"location\"][0]))\n",
    "            #key = louse[\"location\"]\n",
    "            if count.get(key):\n",
    "                count[key] += 1\n",
    "            else:\n",
    "                count[key] = 1"
   ]
  },
  {
   "cell_type": "code",
   "execution_count": 179,
   "metadata": {},
   "outputs": [],
   "source": [
    "keys = list(count.keys())\n",
    "keys.sort()\n",
    "counts = [count[key] for key in keys]"
   ]
  },
  {
   "cell_type": "code",
   "execution_count": 180,
   "metadata": {},
   "outputs": [
    {
     "data": {
      "image/png": "[encoded data removed]",
      "text/plain": [
       "<Figure size 432x288 with 1 Axes>"
      ]
     },
     "metadata": {
      "needs_background": "light"
     },
     "output_type": "display_data"
    }
   ],
   "source": [
    "fig = plt.figure()\n",
    "ax = fig.add_axes([0,0,1,1])\n",
    "ax.bar(keys, counts)\n",
    "plt.title(\"count of lice\")\n",
    "plt.show()"
   ]
  },
  {
   "cell_type": "markdown",
   "metadata": {},
   "source": [
    "# bbox dimension plot"
   ]
  },
  {
   "cell_type": "code",
   "execution_count": 206,
   "metadata": {},
   "outputs": [],
   "source": [
    "df = pd.DataFrame()\n",
    "for _, sf in annotation_data.iterrows():\n",
    "    if sf['annotation']:\n",
    "        for lice in sf['annotation']:\n",
    "            if lice['category'] not in ['ADULT_FEMALE', 'MOVING']:\n",
    "                continue\n",
    "            df = df.append({\"category\": lice['category'], \n",
    "                            'location': lice['location'],\n",
    "                            \"width\": lice['position']['width'], \n",
    "                            \"height\": lice['position']['height']}, ignore_index=True)   "
   ]
  },
  {
   "cell_type": "code",
   "execution_count": 203,
   "metadata": {},
   "outputs": [
    {
     "data": {
      "text/html": [
       "<div>\n",
       "<style scoped>\n",
       "    .dataframe tbody tr th:only-of-type {\n",
       "        vertical-align: middle;\n",
       "    }\n",
       "\n",
       "    .dataframe tbody tr th {\n",
       "        vertical-align: top;\n",
       "    }\n",
       "\n",
       "    .dataframe thead th {\n",
       "        text-align: right;\n",
       "    }\n",
       "</style>\n",
       "<table border=\"1\" class=\"dataframe\">\n",
       "  <thead>\n",
       "    <tr style=\"text-align: right;\">\n",
       "      <th></th>\n",
       "      <th>category</th>\n",
       "      <th>height</th>\n",
       "      <th>location</th>\n",
       "      <th>width</th>\n",
       "    </tr>\n",
       "  </thead>\n",
       "  <tbody>\n",
       "    <tr>\n",
       "      <th>0</th>\n",
       "      <td>MOVING</td>\n",
       "      <td>11.0</td>\n",
       "      <td>TOP</td>\n",
       "      <td>23.0</td>\n",
       "    </tr>\n",
       "    <tr>\n",
       "      <th>1</th>\n",
       "      <td>MOVING</td>\n",
       "      <td>12.0</td>\n",
       "      <td>TOP</td>\n",
       "      <td>26.0</td>\n",
       "    </tr>\n",
       "    <tr>\n",
       "      <th>2</th>\n",
       "      <td>MOVING</td>\n",
       "      <td>19.0</td>\n",
       "      <td>TOP</td>\n",
       "      <td>22.0</td>\n",
       "    </tr>\n",
       "  </tbody>\n",
       "</table>\n",
       "</div>"
      ],
      "text/plain": [
       "  category  height location  width\n",
       "0   MOVING    11.0      TOP   23.0\n",
       "1   MOVING    12.0      TOP   26.0\n",
       "2   MOVING    19.0      TOP   22.0"
      ]
     },
     "execution_count": 203,
     "metadata": {},
     "output_type": "execute_result"
    }
   ],
   "source": [
    "df.head(3)"
   ]
  },
  {
   "cell_type": "code",
   "execution_count": 220,
   "metadata": {},
   "outputs": [
    {
     "data": {
      "image/png": "[encoded data removed]",
      "text/plain": [
       "<Figure size 432x288 with 1 Axes>"
      ]
     },
     "metadata": {
      "needs_background": "light"
     },
     "output_type": "display_data"
    },
    {
     "data": {
      "image/png": "[encoded data removed]",
      "text/plain": [
       "<Figure size 432x288 with 1 Axes>"
      ]
     },
     "metadata": {
      "needs_background": "light"
     },
     "output_type": "display_data"
    }
   ],
   "source": [
    "categories = df.groupby('category')\n",
    "\n",
    "for name, group in categories:\n",
    "\n",
    "    plt.plot(group.width, group.height, marker=\".\", linestyle=\"\", label=name)\n",
    "\n",
    "    plt.legend()\n",
    "    plt.axis('square')\n",
    "    plt.xlabel('width')\n",
    "    plt.ylabel('height')\n",
    "    plt.title(\"dimension of lice bbox\")\n",
    "    plt.show()"
   ]
  },
  {
   "cell_type": "markdown",
   "metadata": {},
   "source": [
    "# fish crop with lice bbox"
   ]
  },
  {
   "cell_type": "code",
   "execution_count": 21,
   "metadata": {},
   "outputs": [],
   "source": [
    "# s3_access_utils = S3AccessUtils('/root/data')\n",
    "\n",
    "import boto3\n",
    "from urllib.parse import urlparse\n",
    "\n",
    "\n",
    "aws_credentials = json.load(open('/root/jane/cv_research/jane/deploy/aws_credentials.json'))\n",
    "s3_client = boto3.client('s3', aws_access_key_id=aws_credentials[\"aws_access_key_id\"],\n",
    "aws_secret_access_key=aws_credentials[\"aws_secret_access_key\"],\n",
    "            region_name=\"eu-west-1\")\n",
    "\n",
    "def recursive_mkdir(dirname):\n",
    "    if not os.path.exists(dirname):\n",
    "        os.makedirs(dirname)\n",
    "    return\n",
    "    \n",
    "def download_from_s3(bucket, key, custom_location=None):\n",
    "    if custom_location:\n",
    "        recursive_mkdir(os.path.dirname(custom_location))\n",
    "        s3_client.download_file(bucket, key, custom_location)\n",
    "    else:\n",
    "        s3_base_dir = os.path.join('/root/data', 's3')\n",
    "        f = os.path.join(s3_base_dir, bucket, key)\n",
    "        if not os.path.exists(f):\n",
    "            recursive_mkdir(os.path.dirname(f))\n",
    "            s3_client.download_file(bucket, key, f)\n",
    "        return f\n",
    "    \n",
    "def download_from_url(url):\n",
    "    parsed_url = urlparse(url, allow_fragments=False)\n",
    "    if parsed_url.netloc.startswith('s3'):\n",
    "        url_components = parsed_url.path.lstrip('/').split('/')\n",
    "        bucket, key = url_components[0], os.path.join(*url_components[1:])\n",
    "    else:\n",
    "        bucket = parsed_url.netloc.split('.')[0]\n",
    "        key = parsed_url.path.lstrip('/')\n",
    "    image_f = download_from_s3(bucket, key)\n",
    "    return image_f, bucket, key"
   ]
  },
  {
   "cell_type": "code",
   "execution_count": 20,
   "metadata": {},
   "outputs": [],
   "source": [
    "# low-res\n",
    "#fig, ax = plt.subplots(figsize=(12, 12)) \n",
    "#image = plt.imread(image_f)\n",
    "#img = Image.open(image_f)\n",
    "#img = img.resize((200,200)).resize((image.shape[1], image.shape[0]))"
   ]
  },
  {
   "cell_type": "code",
   "execution_count": null,
   "metadata": {
    "scrolled": true
   },
   "outputs": [],
   "source": [
    "# for confluence  documentation \n",
    "num_pic = -1\n",
    "nrows = 5\n",
    "figure, axes = plt.subplots(nrows=nrows, ncols=2, figsize=(20, nrows * 6))\n",
    "\n",
    "for idx, sf in tqdm(annotation_data.iterrows()):\n",
    "    if not sf['annotation']:\n",
    "        continue\n",
    "    num_pic += 1\n",
    "    if num_pic >= nrows * 2:\n",
    "        break\n",
    "    left_image_f, bucket, left_image_key = download_from_url(sf[\"left_crop_url\"])\n",
    "    image_f = left_image_f \n",
    "\n",
    "    image = plt.imread(image_f)\n",
    "    \n",
    "    img = Image.open(image_f)\n",
    "\n",
    "    #img = img.resize((512,512)).resize((image.shape[1], image.shape[0]))\n",
    "\n",
    "\n",
    "    alpha = 3 # Contrast control (1.0-3.0)\n",
    "    beta = 20 # Brightness control (0-100)\n",
    "\n",
    "    img = np.asarray(img)\n",
    "    adjusted = cv2.convertScaleAbs(img, alpha=alpha, beta=beta)\n",
    "    axes[num_pic // 2, num_pic % 2].imshow(adjusted)\n",
    "    axes[num_pic // 2, num_pic % 2].tick_params(\n",
    "        axis='x',          # changes apply to the x-axis\n",
    "        which='both',      # both major and minor ticks are affected\n",
    "        bottom=False,      # ticks along the bottom edge are off\n",
    "        top=False,         # ticks along the top edge are off\n",
    "        labelbottom=False)\n",
    "    axes[num_pic // 2, num_pic % 2].tick_params(\n",
    "        axis='y',          # changes apply to the x-axis\n",
    "        which='both',      # both major and minor ticks are affected\n",
    "        left=False,      # ticks along the bottom edge are off\n",
    "        right=False,         # ticks along the top edge are off\n",
    "        labelbottom=False)\n",
    "    plt.axis('off')\n",
    "    \n",
    "    axes[num_pic // 2, num_pic % 2].get_xaxis().set_visible(False)\n",
    "    axes[num_pic // 2, num_pic % 2].get_yaxis().set_visible(False)\n",
    "    \n",
    "    for lice in sf['annotation']:\n",
    "        lp = lice['position'] # only take the first female adult\n",
    "        x, y, w, h = lp[\"left\"], lp[\"top\"], lp[\"width\"], lp[\"height\"]\n",
    "        class_index = LICE_CATEGORY.index(lice['category'])\n",
    "        ec = LICE_BBOX_EC[class_index]\n",
    "        rect = patches.Rectangle((x, y), w, h,linewidth=1,edgecolor=ec,facecolor='none')    \n",
    "        axes[num_pic // 2, num_pic % 2].add_patch(rect)\n",
    "\n",
    "figure.tight_layout()"
   ]
  },
  {
   "cell_type": "markdown",
   "metadata": {},
   "source": [
    "# lice crop"
   ]
  },
  {
   "cell_type": "markdown",
   "metadata": {},
   "source": [
    "## visualize random lice crop"
   ]
  },
  {
   "cell_type": "code",
   "execution_count": null,
   "metadata": {},
   "outputs": [],
   "source": [
    "# # for confluence  documentation \n",
    "# seed(SEED)\n",
    "# num_pic = -1\n",
    "# figure, axes = plt.subplots(nrows=2, ncols=2, figsize=(10, 10))\n",
    "\n",
    "# for idx, sf in tqdm(annotation_data.iterrows()):\n",
    "#     if not sf['annotation']:\n",
    "#         continue\n",
    "#     num_pic += 1\n",
    "#     if num_pic > 3:\n",
    "#         break\n",
    "#     left_image_f, bucket, left_image_key = download_from_url(sf[\"left_crop_url\"])\n",
    "#     image_f = left_image_f \n",
    "\n",
    "#     iw = sf['left_crop_metadata']['width']\n",
    "#     ih = sf['left_crop_metadata']['height']\n",
    "#     print(sf['annotation'])\n",
    "#     crops = data_prep.generate_crops(sf['annotation'], [iw, ih], [CROP_WIDTH, CROP_HEIGHT])\n",
    "\n",
    "#     print(\"num of crops {}\".format(len(crops)))\n",
    "#     for crop in crops:\n",
    "        \n",
    "#         image = plt.imread(image_f)\n",
    "        \n",
    "#         # crop lice image\n",
    "#         crop_left, crop_top = crop\n",
    "#         print(\"crop {} {}\".format(crop_left, crop_top))\n",
    "#         cropped_image = image[crop_top:(crop_top + CROP_HEIGHT), crop_left:(crop_left + CROP_WIDTH)]\n",
    "        \n",
    "#         # adjust image contrast and brightness\n",
    "#         alpha = 3 # Contrast control (1.0-3.0)\n",
    "#         beta = 20 # Brightness control (0-100)\n",
    "#         adjusted = cv2.convertScaleAbs(cropped_image, alpha=alpha, beta=beta)\n",
    "        \n",
    "#         axes[num_pic // 2, num_pic % 2].imshow(adjusted)\n",
    "\n",
    "    \n",
    "#         for lice in crops[crop]:\n",
    "#             lp = lice['position'] # only take the first female adult\n",
    "#             x, y, w, h = lp[\"left\"], lp[\"top\"], lp[\"width\"], lp[\"height\"]\n",
    "            \n",
    "#             class_index = LICE_CATEGORY.index(lice['category'])\n",
    "#             ec = LICE_BBOX_EC[class_index]\n",
    "#             crop_left_offset = x - crop_left\n",
    "#             crop_top_offset = y - crop_top\n",
    "#             rect = patches.Rectangle((crop_left_offset, crop_top_offset), w, h,linewidth=1,edgecolor=ec,facecolor='none')    \n",
    "#             axes[num_pic // 2, num_pic % 2].add_patch(rect)    \n",
    "\n",
    "# figure.tight_layout()\n"
   ]
  },
  {
   "cell_type": "code",
   "execution_count": null,
   "metadata": {},
   "outputs": [],
   "source": [
    "seed(SEED)\n",
    "for idx, sf in tqdm(annotation_data.iterrows()):\n",
    "    if not sf['annotation'] or idx < 10:\n",
    "        continue\n",
    "    if idx > 20:\n",
    "        break\n",
    "    left_image_f, bucket, left_image_key = download_from_url(sf[\"left_crop_url\"])\n",
    "    image_f = left_image_f \n",
    "\n",
    "    iw = sf['left_crop_metadata']['width']\n",
    "    ih = sf['left_crop_metadata']['height']\n",
    "    print(sf['annotation'])\n",
    "    crops = data_prep.generate_crops(sf['annotation'], [iw, ih], [CROP_WIDTH, CROP_HEIGHT])\n",
    "\n",
    "    print(\"num of crops {}\".format(len(crops)))\n",
    "    for crop in crops:\n",
    "        \n",
    "        fig, ax = plt.subplots(figsize=(10, 10))\n",
    "        image = plt.imread(image_f)\n",
    "        \n",
    "        # crop lice image\n",
    "        crop_left, crop_top = crop\n",
    "        print(\"crop {} {}\".format(crop_left, crop_top))\n",
    "        cropped_image = image[crop_top:(crop_top + CROP_HEIGHT), crop_left:(crop_left + CROP_WIDTH)]\n",
    "        \n",
    "        # adjust image contrast and brightness\n",
    "        alpha = 3 # Contrast control (1.0-3.0)\n",
    "        beta = 20 # Brightness control (0-100)\n",
    "        adjusted = cv2.convertScaleAbs(cropped_image, alpha=alpha, beta=beta)\n",
    "        \n",
    "        ax.imshow(adjusted)\n",
    "\n",
    "    \n",
    "        for lice in crops[crop]:\n",
    "            lp = lice['position'] # only take the first female adult\n",
    "            x, y, w, h = lp[\"left\"], lp[\"top\"], lp[\"width\"], lp[\"height\"]\n",
    "            \n",
    "            class_index = LICE_CATEGORY.index(lice['category'])\n",
    "            ec = LICE_BBOX_EC[class_index]\n",
    "            crop_left_offset = x - crop_left\n",
    "            crop_top_offset = y - crop_top\n",
    "            rect = patches.Rectangle((crop_left_offset, crop_top_offset), w, h,linewidth=1,edgecolor=ec,facecolor='none')    \n",
    "            ax.add_patch(rect)    \n",
    "\n",
    "        plt.show()"
   ]
  },
  {
   "cell_type": "markdown",
   "metadata": {},
   "source": [
    "## generate and write data for model"
   ]
  },
  {
   "cell_type": "code",
   "execution_count": null,
   "metadata": {},
   "outputs": [],
   "source": [
    "seed(SEED)\n",
    "for idx, sf in tqdm(annotation_data.iterrows()):\n",
    "    if not sf['annotation']:\n",
    "        continue\n",
    "\n",
    "    left_image_f, bucket, left_image_key = download_from_url(sf[\"left_crop_url\"])\n",
    "    image_f = left_image_f \n",
    "\n",
    "    iw = sf['left_crop_metadata']['width']\n",
    "    ih = sf['left_crop_metadata']['height']\n",
    "    \n",
    "    # randomly generate crops around lice\n",
    "    crops = data_prep.generate_crops(sf['annotation'], [iw, ih], [CROP_WIDTH, CROP_HEIGHT ])\n",
    "\n",
    "    print(\"num of crops {}, out of {} lice\".format(len(crops), len(sf['annotation'])))\n",
    "    i = -1\n",
    "    for crop in crops:\n",
    "        i += 1\n",
    "        image = plt.imread(image_f)\n",
    "        \n",
    "        # crop lice image\n",
    "        crop_left, crop_top = crop\n",
    "        cropped_image = image[crop_top:(crop_top + CROP_HEIGHT), crop_left:(crop_left + CROP_WIDTH)]\n",
    "        \n",
    "        # get file name\n",
    "        start, end = \"left_frame_crop_\", \".jpg\"\n",
    "        s = sf[\"left_crop_url\"]\n",
    "        file_name = \"left_\" + s[s.find(start)+ len(start):s.find(end)]\n",
    "        file_name += \"_CROP_{}_{}\".format(i, len(crops))    \n",
    "        \n",
    "        # save image\n",
    "        data_prep.write_image(cropped_image, file_name, IMAGE_PATH)\n",
    "        \n",
    "        labels = []\n",
    "        \n",
    "        # save labels\n",
    "        for lice in crops[crop]:\n",
    "            lp = lice['position'] # only take the first female adult\n",
    "            x, y, w, h = lp[\"left\"], lp[\"top\"], lp[\"width\"], lp[\"height\"]\n",
    "            class_index = LICE_CATEGORY.index(lice['category'])\n",
    "            \n",
    "            crop_left_offset = x - crop_left\n",
    "            crop_top_offset = y - crop_top            \n",
    "            \n",
    "            xywh = [crop_left_offset, crop_top_offset, w, h]\n",
    "            bbox = utils.xywh2yolobbox(xywh, [CROP_WIDTH, CROP_HEIGHT])\n",
    "            \n",
    "            labels.append([class_index] + bbox)\n",
    "\n",
    "            \n",
    "        data_prep.write_labels(labels, file_name, LABEL_PATH)\n"
   ]
  },
  {
   "cell_type": "markdown",
   "metadata": {},
   "source": [
    "## ONLY MOVING LICE"
   ]
  },
  {
   "cell_type": "code",
   "execution_count": null,
   "metadata": {},
   "outputs": [],
   "source": [
    "seed(SEED)\n",
    "for idx, sf in tqdm(annotation_data.iterrows()):\n",
    "    if not sf['annotation']:\n",
    "        continue\n",
    "    if idx > 200:\n",
    "        break\n",
    "    left_image_f, bucket, left_image_key = download_from_url(sf[\"left_crop_url\"])\n",
    "    image_f = left_image_f \n",
    "\n",
    "    iw = sf['left_crop_metadata']['width']\n",
    "    ih = sf['left_crop_metadata']['height']\n",
    "    \n",
    "    # randomly generate crops around lice\n",
    "    crops = data_prep.generate_crops(sf['annotation'], [iw, ih], [CROP_WIDTH, CROP_HEIGHT], ['MOVING'])\n",
    "\n",
    "    print(\"num of crops {}, out of {} lice\".format(len(crops), len(sf['annotation'])))\n",
    "    i = -1\n",
    "    for crop in crops:\n",
    "        i += 1\n",
    "        image = plt.imread(image_f)\n",
    "        \n",
    "        # crop lice image\n",
    "        crop_left, crop_top = crop\n",
    "        # print(\"crop {} {}\".format(crop_left, crop_top))\n",
    "        cropped_image = image[crop_top:(crop_top + CROP_HEIGHT), crop_left:(crop_left + CROP_WIDTH)]\n",
    "        \n",
    "        # get file name\n",
    "        start, end = \"left_frame_crop_\", \".jpg\"\n",
    "        s = sf[\"left_crop_url\"]\n",
    "        file_name = \"left_\" + s[s.find(start)+ len(start):s.find(end)]\n",
    "        file_name += \"_CROP_{}_{}\".format(i, len(crops))    \n",
    "        \n",
    "        # save image\n",
    "        data_prep.write_image(cropped_image, file_name, IMAGE_PATH)\n",
    "        \n",
    "        labels = []\n",
    "        \n",
    "        # save labels\n",
    "        for lice in crops[crop]:\n",
    "            lp = lice['position'] # only take the first female adult\n",
    "            x, y, w, h = lp[\"left\"], lp[\"top\"], lp[\"width\"], lp[\"height\"]\n",
    "            print(lice['category'])\n",
    "            class_index = 0\n",
    "            \n",
    "            crop_left_offset = x - crop_left\n",
    "            crop_top_offset = y - crop_top            \n",
    "            \n",
    "            xywh = [crop_left_offset, crop_top_offset, w, h]\n",
    "            bbox = utils.xywh2yolobbox(xywh, [CROP_WIDTH, CROP_HEIGHT])\n",
    "            \n",
    "            labels.append([class_index] + bbox)\n",
    "\n",
    "            \n",
    "        data_prep.write_labels(labels, file_name, LABEL_PATH)\n"
   ]
  },
  {
   "cell_type": "code",
   "execution_count": null,
   "metadata": {},
   "outputs": [],
   "source": []
  }
 ],
 "metadata": {
  "kernelspec": {
   "display_name": "Python 3",
   "language": "python",
   "name": "python3"
  },
  "language_info": {
   "codemirror_mode": {
    "name": "ipython",
    "version": 3
   },
   "file_extension": ".py",
   "mimetype": "text/x-python",
   "name": "python",
   "nbconvert_exporter": "python",
   "pygments_lexer": "ipython3",
   "version": "3.6.5"
  }
 },
 "nbformat": 4,
 "nbformat_minor": 4
}
