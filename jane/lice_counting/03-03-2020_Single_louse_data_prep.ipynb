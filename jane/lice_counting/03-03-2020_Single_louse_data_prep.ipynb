{
 "cells": [
  {
   "cell_type": "code",
   "execution_count": null,
   "metadata": {},
   "outputs": [],
   "source": [
    "from research.utils.data_access_utils import S3AccessUtils, RDSAccessUtils\n",
    "import json\n",
    "import os\n",
    "import  pandas as pd\n",
    "import matplotlib.patches as patches\n",
    "from tqdm import tqdm\n",
    "from utils import utils, data_prep\n",
    "\n",
    "import matplotlib.pyplot as plt\n",
    "pd.set_option('display.max_rows', 500)\n",
    "pd.set_option('display.max_colwidth', 500)"
   ]
  },
  {
   "cell_type": "code",
   "execution_count": null,
   "metadata": {},
   "outputs": [],
   "source": [
    "%matplotlib inline\n",
    "\n",
    "from PIL import Image\n",
    "import numpy as np\n",
    "import matplotlib.pyplot as plt\n",
    "from random import randint, seed"
   ]
  },
  {
   "cell_type": "code",
   "execution_count": null,
   "metadata": {},
   "outputs": [],
   "source": [
    "SEED = 33\n",
    "CROP_WIDTH = 512\n",
    "CROP_HEIGHT = 512\n",
    "\n",
    "\n",
    "LABEL_PATH = 'data/lice_crop_labels'\n",
    "IMAGE_PATH = 'data/lice_crop_images'"
   ]
  },
  {
   "cell_type": "code",
   "execution_count": null,
   "metadata": {},
   "outputs": [],
   "source": [
    "credentials = json.load(open(\"/root/jane/cv_research/jane/deploy/data_warehouse_sql_credentials.json\"))\n",
    "rds_access_utils = RDSAccessUtils(credentials)\n",
    "\n",
    "get_annotation_data = \"\"\"\n",
    "    SELECT \n",
    "        * \n",
    "    FROM \n",
    "        prod.crop_annotation \n",
    "    WHERE \n",
    "        (captured_at BETWEEN '2019-10-01' AND '2019-12-01') AND \n",
    "        (group_id = '56') AND\n",
    "        (annotation_state_id IN (7)) AND\n",
    "        (service_id = 1);\n",
    "\"\"\"\n",
    "annotation_data = rds_access_utils.extract_from_database(get_annotation_data)"
   ]
  },
  {
   "cell_type": "code",
   "execution_count": null,
   "metadata": {},
   "outputs": [],
   "source": [
    "annotation_data.shape"
   ]
  },
  {
   "cell_type": "code",
   "execution_count": null,
   "metadata": {},
   "outputs": [],
   "source": [
    "annotation_data[annotation_data['annotation'].notnull()].shape # has lice"
   ]
  },
  {
   "cell_type": "code",
   "execution_count": null,
   "metadata": {
    "scrolled": false
   },
   "outputs": [],
   "source": [
    "annotation_data[annotation_data['annotation'].notnull()].head(2)"
   ]
  },
  {
   "cell_type": "code",
   "execution_count": null,
   "metadata": {},
   "outputs": [],
   "source": [
    "def add_box(sf, ax):\n",
    "    if sf['annotation'] is not None:\n",
    "        for lice in sf['annotation']:\n",
    "            lp = lice['position'] #lice position\n",
    "            if lice['category'] == 'ADULT_FEMALE':\n",
    "                ec = 'b'\n",
    "                x, y, w, h = lp[\"left\"], lp[\"top\"], lp[\"width\"], lp[\"height\"]\n",
    "                rect = patches.Rectangle((x, y), w, h,linewidth=1,edgecolor=ec,facecolor='none')\n",
    "                ax.add_patch(rect)"
   ]
  },
  {
   "cell_type": "code",
   "execution_count": null,
   "metadata": {},
   "outputs": [],
   "source": [
    "df_ad = data_prep.get_df_ad(annotation_data)"
   ]
  },
  {
   "cell_type": "code",
   "execution_count": null,
   "metadata": {},
   "outputs": [],
   "source": [
    "df_ad.shape"
   ]
  },
  {
   "cell_type": "code",
   "execution_count": null,
   "metadata": {},
   "outputs": [],
   "source": [
    "df_ad.head(10)"
   ]
  },
  {
   "cell_type": "code",
   "execution_count": null,
   "metadata": {},
   "outputs": [],
   "source": [
    "im_width_list = [lcm['width'] for lcm in df_ad['left_crop_metadata']]\n",
    "im_height_list = [lcm['height'] for lcm in df_ad['left_crop_metadata']]\n",
    "\n",
    "\n",
    "lice_width_list = [lice['position']['width'] for a in df_ad['annotation'] for lice in a]\n",
    "lice_height_list = [lice['position']['height'] for a in df_ad['annotation'] for lice in a]\n",
    "\n",
    "lice_top_list = [lice['position']['top'] for a in df_ad['annotation'] for lice in a]\n",
    "lice_left_list = [lice['position']['left'] for a in df_ad['annotation'] for lice in a]"
   ]
  },
  {
   "cell_type": "code",
   "execution_count": null,
   "metadata": {
    "scrolled": true
   },
   "outputs": [],
   "source": [
    "\n",
    "\n",
    "figure, axes = plt.subplots(nrows=2, ncols=2, figsize=(20, 20))\n",
    "\n",
    "\n",
    "\n",
    "axes[0, 0].hist(im_width_list, bins=10)\n",
    "axes[0, 1].hist(im_height_list, bins=10)\n",
    "axes[0, 0].set_title('image width')\n",
    "axes[0, 1].set_title('image height')\n",
    "\n",
    "\n",
    "axes[1, 0].hist(lice_width_list, bins=10)\n",
    "axes[1, 1].hist(lice_height_list, bins=10)\n",
    "axes[1, 0].set_title('lice width')\n",
    "axes[1, 1].set_title('lice height')\n",
    "\n",
    "axes[2, 1].hist(lice_left_list, bins=10)\n",
    "axes[2, 0].hist(lice_top_list, bins=10)\n",
    "axes[2, 0].set_title('lice left')\n",
    "axes[2, 1].set_title('lice top')\n",
    "\n",
    "       \n",
    "figure.tight_layout()"
   ]
  },
  {
   "cell_type": "code",
   "execution_count": null,
   "metadata": {},
   "outputs": [],
   "source": [
    "import statistics\n",
    "\n",
    "\n",
    "print(statistics.median(im_width_list))\n",
    "print(statistics.median(im_height_list))\n",
    "\n",
    "print(statistics.median(lice_width_list))\n",
    "print(statistics.median(lice_height_list))\n",
    "\n",
    "print(max(lice_width_list))"
   ]
  },
  {
   "cell_type": "code",
   "execution_count": null,
   "metadata": {},
   "outputs": [],
   "source": [
    "\n",
    "figure, axes = plt.subplots(nrows=3, ncols=2, figsize=(20, 20))\n",
    "for idx, sf_haslice in tqdm(df_ad.iterrows()):\n",
    "\n",
    "    left_image_f, bucket, left_image_key = s3_access_utils.download_from_url(sf_haslice[\"left_crop_url\"])\n",
    "    image_f = left_image_f \n",
    "\n",
    "    #fig, ax = plt.subplots(figsize=(10, 10)) \n",
    "    image = plt.imread(image_f)\n",
    "    \n",
    "    image_w = sf_haslice['left_crop_metadata']['width']\n",
    "    image_h = sf_haslice['left_crop_metadata']['height']\n",
    "    \n",
    "    lp = sf_haslice['annotation'][0]['position'] # only take the first female adult\n",
    "    x, y, w, h = lp[\"left\"], lp[\"top\"], lp[\"width\"], lp[\"height\"]\n",
    "    \n",
    "    crop_left_offset = randint(max(0, x + CROP_WIDTH - image_w), min(x, CROP_WIDTH - w))\n",
    "    crop_top_offset = randint(max(0, y + CROP_HEIGHT- image_h), min(y, CROP_HEIGHT - h))\n",
    "    \n",
    "    crop_left = x - crop_left_offset\n",
    "    crop_top = y - crop_top_offset\n",
    "    \n",
    "\n",
    "    \n",
    "    cropped_image = image[crop_top:(crop_top + CROP_HEIGHT), crop_left:(crop_left + CROP_WIDTH)]\n",
    "    #ax.imshow( cropped_image)\n",
    "    \n",
    "    start, end = \"left_frame_crop_\", \".jpg\"\n",
    "    s = sf_haslice[\"left_crop_url\"]\n",
    "    file_name = \"left_\" + s[s.find(start)+ len(start):s.find(end)]\n",
    "    \n",
    "    utils.write_image(cropped_image, file_name, IMAGE_PATH)\n",
    "    \n",
    "    #rect = patches.Rectangle((crop_left_offset, crop_top_offset), w, h,linewidth=1,edgecolor=\"b\",facecolor='none')\n",
    "    \n",
    "    \n",
    "    \n",
    "    xywh = [crop_left_offset, crop_top_offset, w, h]\n",
    "    bbox = utils.xywh2yolobbox(xywh, [CROP_WIDTH, CROP_HEIGHT])\n",
    "\n",
    "            \n",
    "    utils.write_label(0, bbox, file_name, LABEL_PATH)\n",
    "    \n",
    "    \n",
    "    #plt.scatter(bbox[0] * CROP_WIDTH, bbox[1] * CROP_HEIGHT, s=50)\n",
    "    #ax.add_patch(rect)\n",
    "plt.show()"
   ]
  },
  {
   "cell_type": "code",
   "execution_count": null,
   "metadata": {},
   "outputs": [],
   "source": [
    "seed(SEED)\n",
    "for idx, sf_haslice in tqdm(df_ad.iterrows()):\n",
    "\n",
    "    left_image_f, bucket, left_image_key = s3_access_utils.download_from_url(sf_haslice[\"left_crop_url\"])\n",
    "    image_f = left_image_f \n",
    "\n",
    "    #fig, ax = plt.subplots(figsize=(10, 10)) \n",
    "    image = plt.imread(image_f)\n",
    "    \n",
    "    image_w = sf_haslice['left_crop_metadata']['width']\n",
    "    image_h = sf_haslice['left_crop_metadata']['height']\n",
    "    \n",
    "    lp = sf_haslice['annotation'][0]['position'] # only take the first female adult\n",
    "    x, y, w, h = lp[\"left\"], lp[\"top\"], lp[\"width\"], lp[\"height\"]\n",
    "    \n",
    "    crop_left_offset = randint(max(0, x + CROP_WIDTH - image_w), min(x, CROP_WIDTH - w))\n",
    "    crop_top_offset = randint(max(0, y + CROP_HEIGHT- image_h), min(y, CROP_HEIGHT - h))\n",
    "    \n",
    "    crop_left = x - crop_left_offset\n",
    "    crop_top = y - crop_top_offset\n",
    "    \n",
    "\n",
    "    \n",
    "    cropped_image = image[crop_top:(crop_top + CROP_HEIGHT), crop_left:(crop_left + CROP_WIDTH)]\n",
    "    #ax.imshow( cropped_image)\n",
    "    \n",
    "    start, end = \"left_frame_crop_\", \".jpg\"\n",
    "    s = sf_haslice[\"left_crop_url\"]\n",
    "    file_name = \"left_\" + s[s.find(start)+ len(start):s.find(end)]\n",
    "    \n",
    "    utils.write_image(cropped_image, file_name, IMAGE_PATH)\n",
    "    \n",
    "    #rect = patches.Rectangle((crop_left_offset, crop_top_offset), w, h,linewidth=1,edgecolor=\"b\",facecolor='none')\n",
    "    \n",
    "    \n",
    "    \n",
    "    xywh = [crop_left_offset, crop_top_offset, w, h]\n",
    "    bbox = utils.xywh2yolobbox(xywh, [CROP_WIDTH, CROP_HEIGHT])\n",
    "\n",
    "            \n",
    "    utils.write_label(0, bbox, file_name, LABEL_PATH)\n",
    "    \n",
    "    \n",
    "    #plt.scatter(bbox[0] * CROP_WIDTH, bbox[1] * CROP_HEIGHT, s=50)\n",
    "    #ax.add_patch(rect)\n",
    "plt.show()"
   ]
  },
  {
   "cell_type": "code",
   "execution_count": null,
   "metadata": {},
   "outputs": [],
   "source": [
    "import importlib\n",
    "importlib.reload(data_prep)\n"
   ]
  },
  {
   "cell_type": "code",
   "execution_count": null,
   "metadata": {},
   "outputs": [],
   "source": []
  }
 ],
 "metadata": {
  "kernelspec": {
   "display_name": "Python 3",
   "language": "python",
   "name": "python3"
  },
  "language_info": {
   "codemirror_mode": {
    "name": "ipython",
    "version": 3
   },
   "file_extension": ".py",
   "mimetype": "text/x-python",
   "name": "python",
   "nbconvert_exporter": "python",
   "pygments_lexer": "ipython3",
   "version": "3.6.5"
  }
 },
 "nbformat": 4,
 "nbformat_minor": 4
}
