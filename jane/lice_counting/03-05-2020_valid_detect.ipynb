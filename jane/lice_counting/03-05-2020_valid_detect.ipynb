{
 "cells": [
  {
   "cell_type": "code",
   "execution_count": null,
   "metadata": {},
   "outputs": [],
   "source": [
    "from aquabyte.data_access_utils import RDSAccessUtils, S3AccessUtils\n",
    "import json\n",
    "import os\n",
    "import  pandas as pd\n",
    "from aquabyte.visualize import Visualizer\n",
    "import matplotlib.patches as patches\n",
    "from tqdm import tqdm\n",
    "\n",
    "import matplotlib.pyplot as plt\n",
    "pd.set_option('display.max_rows', 500)\n",
    "pd.set_option('display.max_colwidth', 500)\n",
    "\n",
    "%matplotlib inline\n",
    "\n",
    "from PIL import Image, ImageEnhance \n",
    "import numpy as np\n",
    "import matplotlib.pyplot as plt\n",
    "from random import randint, seed\n",
    "\n",
    "from os import listdir\n",
    "from os.path import isfile, join\n",
    "import random "
   ]
  },
  {
   "cell_type": "code",
   "execution_count": null,
   "metadata": {},
   "outputs": [],
   "source": [
    "from utils import utils\n",
    "import shutil\n",
    "import glob"
   ]
  },
  {
   "cell_type": "code",
   "execution_count": null,
   "metadata": {},
   "outputs": [],
   "source": [
    "SEED = 33\n",
    "CROP_WIDTH = 512\n",
    "CROP_HEIGHT = 512\n",
    "\n",
    "\n",
    "LABEL_PATH = 'data/lice_crop_labels'\n",
    "IMAGE_PATH = 'data/lice_crop_images'\n",
    "\n"
   ]
  },
  {
   "cell_type": "code",
   "execution_count": null,
   "metadata": {},
   "outputs": [],
   "source": [
    "import importlib\n",
    "importlib.reload(utils)"
   ]
  },
  {
   "cell_type": "code",
   "execution_count": null,
   "metadata": {
    "scrolled": true
   },
   "outputs": [],
   "source": [
    "# image_files = [join(IMAGE_PATH, f) for f in listdir(IMAGE_PATH) if isfile(join(IMAGE_PATH, f))]\n",
    "\n",
    "# for i, image_f in enumerate(image_files):\n",
    "#     if i < 100:\n",
    "#         continue\n",
    "#     if i > 150:\n",
    "#         break\n",
    "#     fig, ax = plt.subplots(figsize=(10, 10)) \n",
    "#     #image = plt.imread(image_f)\n",
    "#     image = Image.open(image_f)\n",
    "#     print('fig')\n",
    "#     print(fig.get_size_inches()*fig.dpi)\n",
    "\n",
    "#     enhancer = ImageEnhance.Contrast(image)\n",
    "#     enhanced_im = enhancer.enhance(4.0)\n",
    "\n",
    "#     ax.imshow(enhanced_im)\n",
    "#     plt.title(image_f)\n",
    "    \n",
    "#     label_path = image_f.replace(\"images\", \"labels\").replace(\".png\", \".txt\").replace(\".jpg\", \".txt\")\n",
    "#     yolobbox = np.loadtxt(label_path).reshape(-1, 5)[0][1:]\n",
    "#     x, y, w, h = utils.yolobbox2xywh(yolobbox, [CROP_WIDTH, CROP_HEIGHT])\n",
    "#     rect = patches.Rectangle((x, y), w, h,linewidth=1,edgecolor=\"b\",facecolor='none')\n",
    "    \n",
    "#     print(image_f)\n",
    "#     ax.add_patch(rect)\n",
    "#     plt.show()"
   ]
  },
  {
   "cell_type": "code",
   "execution_count": null,
   "metadata": {},
   "outputs": [],
   "source": [
    "# copy test image in data/test.txt to folder data/test_image\n",
    "\n",
    "\n",
    "for image_path in open('data/test.txt', \"r\").readlines():\n",
    "    shutil.copy(image_path.rstrip(), \"data/test_image\")"
   ]
  },
  {
   "cell_type": "markdown",
   "metadata": {},
   "source": [
    "# valid\n",
    "\n",
    "data/lice_crop_images/left_1148_573_3732_2572.jpg\n"
   ]
  },
  {
   "cell_type": "code",
   "execution_count": null,
   "metadata": {},
   "outputs": [],
   "source": [
    "TEST_OUTPUT_PATH = 'output'\n",
    "image_files = [join(TEST_OUTPUT_PATH, f) for f in listdir(TEST_OUTPUT_PATH) if isfile(join(TEST_OUTPUT_PATH, f))]\n",
    "ncols = 2\n",
    "figure, axes = plt.subplots(nrows=3, ncols=ncols, figsize=(14, 21))\n",
    "\n",
    "for i, image_f in enumerate(image_files):\n",
    "    rect = None\n",
    "\n",
    "    #image = plt.imread(image_f)\n",
    "    image = Image.open(image_f)\n",
    "\n",
    "    enhancer = ImageEnhance.Contrast(image)\n",
    "    enhanced_im = enhancer.enhance(1.5)\n",
    "\n",
    "    axes[i // ncols , i % ncols].imshow(enhanced_im)\n",
    "\n",
    "\n",
    "    label_path = image_f.replace(\"output\", \"data/lice_crop_labels\").replace(\".png\", \".txt\").replace(\".jpg\", \".txt\")\n",
    "\n",
    "    yolobbox = np.loadtxt(label_path).reshape(-1, 5)[0][1:]\n",
    "    x, y, w, h = utils.yolobbox2xywh(yolobbox, [CROP_WIDTH, CROP_HEIGHT])\n",
    "    rect = patches.Rectangle((x, y), w, h,linewidth=1,edgecolor=\"b\",facecolor='none')\n",
    "    axes[i // ncols , i % ncols].add_patch(rect)\n",
    "    #axes[i // ncols , i % ncols].set_title(image_f.replace(\"output/\", \"\"))\n",
    "    \n",
    "    \n",
    "figure.tight_layout()\n",
    "\n",
    "\n"
   ]
  },
  {
   "cell_type": "code",
   "execution_count": null,
   "metadata": {},
   "outputs": [],
   "source": [
    "1892/512"
   ]
  },
  {
   "cell_type": "code",
   "execution_count": null,
   "metadata": {},
   "outputs": [],
   "source": []
  }
 ],
 "metadata": {
  "kernelspec": {
   "display_name": "Python 3",
   "language": "python",
   "name": "python3"
  },
  "language_info": {
   "codemirror_mode": {
    "name": "ipython",
    "version": 3
   },
   "file_extension": ".py",
   "mimetype": "text/x-python",
   "name": "python",
   "nbconvert_exporter": "python",
   "pygments_lexer": "ipython3",
   "version": "3.6.5"
  }
 },
 "nbformat": 4,
 "nbformat_minor": 4
}
