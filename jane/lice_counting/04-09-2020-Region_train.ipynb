{
 "cells": [
  {
   "cell_type": "code",
   "execution_count": null,
   "metadata": {},
   "outputs": [],
   "source": [
    "from os import listdir\n",
    "from os.path import isfile, join\n",
    "import random \n",
    "import shutil"
   ]
  },
  {
   "cell_type": "code",
   "execution_count": null,
   "metadata": {},
   "outputs": [],
   "source": [
    "SEED = 33\n",
    "LABEL_PATH = 'region_data/region_labels'\n",
    "IMAGE_PATH = 'region_data/region_images'"
   ]
  },
  {
   "cell_type": "code",
   "execution_count": null,
   "metadata": {},
   "outputs": [],
   "source": [
    "\n",
    "def train_test_split(train_size, valid_size, random_state = None, shuffle = True):\n",
    "    random.seed(random_state)\n",
    "    image_files = [join(IMAGE_PATH, f) for f in listdir(IMAGE_PATH) if isfile(join(IMAGE_PATH, f))]\n",
    "    if shuffle: random.shuffle(image_files)\n",
    "    \n",
    "    train_file = open(\"region_data/train.txt\", \"w+\")\n",
    "    valid_file = open(\"region_data/valid.txt\", \"w+\")\n",
    "    test_file = open(\"region_data/test.txt\", \"w+\")\n",
    "    train_number,valid_number,test_number = 0, 0, 0\n",
    "    \n",
    "    for f in image_files:\n",
    "        u = random.uniform(0, 1)\n",
    "        f += '\\n'\n",
    "        if u < train_size:\n",
    "            train_file.write(f)\n",
    "            train_number += 1\n",
    "            continue\n",
    "        elif u < train_size + valid_size:\n",
    "            valid_file.write(f)\n",
    "            valid_number += 1\n",
    "            continue\n",
    "        test_file.write(f)\n",
    "        test_number += 1\n",
    "    print(\"train {}, valid {}, test {}\".format(train_number, valid_number, test_number))\n",
    "    train_file.close()\n",
    "    valid_file.close()\n",
    "    test_file.close()"
   ]
  },
  {
   "cell_type": "code",
   "execution_count": null,
   "metadata": {},
   "outputs": [],
   "source": [
    "train_test_split(0.7, 0.1, random_state = SEED)"
   ]
  },
  {
   "cell_type": "code",
   "execution_count": null,
   "metadata": {},
   "outputs": [],
   "source": [
    "#!pip install -r requirements.txt"
   ]
  },
  {
   "cell_type": "code",
   "execution_count": null,
   "metadata": {},
   "outputs": [],
   "source": [
    "!python3 train.py --epochs 1 \\\n",
    "                  --n_cpu 0 --img_size  416 \\\n",
    "                  --pretrained_weights checkpoints/yolov3_ckpt_0.pth \\\n",
    "                  --model_def config/yolov3-region.cfg \\\n",
    "                  --data_config config/region.data \\\n",
    "                  --batch_size 2 \\\n",
    "                  --evaluation_interval 10 \\\n",
    "                  --multiscale_training False"
   ]
  },
  {
   "cell_type": "code",
   "execution_count": null,
   "metadata": {},
   "outputs": [],
   "source": [
    "import torch\n",
    "torch.cuda.is_available() "
   ]
  },
  {
   "cell_type": "code",
   "execution_count": null,
   "metadata": {},
   "outputs": [],
   "source": [
    "print(torch.version.cuda)"
   ]
  },
  {
   "cell_type": "code",
   "execution_count": null,
   "metadata": {},
   "outputs": [],
   "source": [
    "!python3 test.py  --n_cpu 0 \\\n",
    "                  --model_def config/yolov3-region.cfg \\\n",
    "                  --data_config config/region.data \\\n",
    "                  --class_path data/region.names \\\n",
    "                  --batch_size 2 \\\n",
    "                  --weights_path checkpoints/yolov3_ckpt_0.pth "
   ]
  },
  {
   "cell_type": "code",
   "execution_count": null,
   "metadata": {},
   "outputs": [],
   "source": [
    "!python3 detect.py --image_folder region_data/region_test_image \\\n",
    "                   --model_def config/yolov3-region.cfg \\\n",
    "                   --class_path region_data/region.names \\\n",
    "                   --weights_path checkpoints/yolov3_ckpt_0.pth \\\n",
    "                   --nms_thres 0.01"
   ]
  },
  {
   "cell_type": "code",
   "execution_count": null,
   "metadata": {},
   "outputs": [],
   "source": [
    "# copy test image in data/test.txt to folder data/test_image\n",
    "\n",
    "\n",
    "for image_path in open('region_data/region_test.txt', \"r\").readlines():\n",
    "    shutil.copy(image_path.rstrip(), \"region_data/region_test_image\")"
   ]
  },
  {
   "cell_type": "code",
   "execution_count": null,
   "metadata": {},
   "outputs": [],
   "source": []
  }
 ],
 "metadata": {
  "kernelspec": {
   "display_name": "Python 3",
   "language": "python",
   "name": "python3"
  },
  "language_info": {
   "codemirror_mode": {
    "name": "ipython",
    "version": 3
   },
   "file_extension": ".py",
   "mimetype": "text/x-python",
   "name": "python",
   "nbconvert_exporter": "python",
   "pygments_lexer": "ipython3"
  }
 },
 "nbformat": 4,
 "nbformat_minor": 4
}
