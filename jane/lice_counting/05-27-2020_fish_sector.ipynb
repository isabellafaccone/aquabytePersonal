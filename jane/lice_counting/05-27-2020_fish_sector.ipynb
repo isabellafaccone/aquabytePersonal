{
 "cells": [
  {
   "cell_type": "code",
   "execution_count": null,
   "metadata": {},
   "outputs": [],
   "source": [
    "from research.weight_estimation.akpd_utils.akpd import AKPD\n",
    "from research.utils.data_access_utils import S3AccessUtils, RDSAccessUtils\n",
    "import json\n",
    "import os\n",
    "import  pandas as pd\n",
    "import numpy as np\n",
    "import matplotlib.patches as patches\n",
    "from tqdm import tqdm\n",
    "from utils import utils, data_prep, sector\n",
    "import cv2\n",
    "from PIL import Image\n",
    "import matplotlib.pyplot as plt\n",
    "pd.set_option('display.max_rows', 500)\n",
    "pd.set_option('display.max_colwidth', 500)"
   ]
  },
  {
   "cell_type": "code",
   "execution_count": null,
   "metadata": {},
   "outputs": [],
   "source": [
    "import importlib\n",
    "importlib.reload(sector)"
   ]
  },
  {
   "cell_type": "code",
   "execution_count": null,
   "metadata": {},
   "outputs": [],
   "source": [
    "s3_access_utils = S3AccessUtils('/root/data',\n",
    "                               json.load(open(os.environ['AWS_CREDENTIALS'])))"
   ]
  },
  {
   "cell_type": "code",
   "execution_count": null,
   "metadata": {},
   "outputs": [],
   "source": [
    "LICE_BBOX_COLOR = ['b', 'r'] # bbox edge color\n",
    "LICE_CATEGORY = ['ADULT_FEMALE', 'MOVING']\n",
    "\n",
    "# load annotation data\n",
    "\n",
    "annotation_data_akpd  = pd.read_pickle(\"annotation_data_akpd_2020_05_27.pkl\")\n"
   ]
  },
  {
   "cell_type": "code",
   "execution_count": null,
   "metadata": {},
   "outputs": [],
   "source": [
    "pen_ids = ('56', '60', '37', '66', '85', '86')"
   ]
  },
  {
   "cell_type": "code",
   "execution_count": null,
   "metadata": {},
   "outputs": [],
   "source": [
    "annotation_data_akpd.shape"
   ]
  },
  {
   "cell_type": "code",
   "execution_count": null,
   "metadata": {},
   "outputs": [],
   "source": [
    "annotation_data_akpd.head(1)"
   ]
  },
  {
   "cell_type": "markdown",
   "metadata": {},
   "source": [
    "# get augmented annotation_data_akpd and lice_data\n"
   ]
  },
  {
   "cell_type": "code",
   "execution_count": null,
   "metadata": {},
   "outputs": [],
   "source": [
    "aux_points =  [sector.DORSAL_BACK, \n",
    "              sector.VENTRAL_BACK, \n",
    "              sector.DORSAL_MID, \n",
    "              sector.VENTRAL_MID, \n",
    "              sector.DORSAL_FRONT, \n",
    "              sector.VENTRAL_FRONT,\n",
    "              sector.HEAD]"
   ]
  },
  {
   "cell_type": "code",
   "execution_count": null,
   "metadata": {},
   "outputs": [],
   "source": [
    "for ap in aux_points:\n",
    "    annotation_data_akpd[ap] = 0"
   ]
  },
  {
   "cell_type": "code",
   "execution_count": null,
   "metadata": {},
   "outputs": [],
   "source": []
  },
  {
   "cell_type": "code",
   "execution_count": null,
   "metadata": {},
   "outputs": [],
   "source": [
    " annotation_data_akpd[\"date\"] = annotation_data_akpd.captured_at.apply(lambda x: x.strftime(\"%m-%d-%Y\"))"
   ]
  },
  {
   "cell_type": "code",
   "execution_count": null,
   "metadata": {},
   "outputs": [],
   "source": [
    "annotation_data_akpd.head(5)"
   ]
  },
  {
   "cell_type": "code",
   "execution_count": null,
   "metadata": {},
   "outputs": [],
   "source": [
    "lice_data = pd.DataFrame()\n",
    "\n",
    "\n",
    "for idx, sf in tqdm(annotation_data_akpd.iterrows()):\n",
    "#     if idx > 10:\n",
    "#         break\n",
    "    \n",
    "    if sf['annotation']:\n",
    "        for lice in sf['annotation']:\n",
    "            if lice['category'] not in ['ADULT_FEMALE', 'MOVING']:\n",
    "                continue            \n",
    "            #lp = lice['position'] #lice position\n",
    "            #x, y, w, h = lp[\"left\"], lp[\"top\"], lp[\"width\"], lp[\"height\"]\n",
    "            \n",
    "            x, y, w, h = lice[\"xCrop\"], lice[\"yCrop\"], lice[\"width\"], lice[\"height\"]\n",
    "            fish_sector = sector.get_sector(np.array([x + w / 2, y + h /2]), sf[\"kps\"])\n",
    "   \n",
    "            annotation_data_akpd.at[idx, fish_sector] += 1\n",
    "\n",
    "            lice_data = lice_data.append({\n",
    "                            \"group_id\": sf.group_id,\n",
    "                            \"category\": lice['category'],\n",
    "                            \"fish_image_url\": sf['url_key'],\n",
    "                            \"location\": lice['liceLocation'],\n",
    "                            \"left\": x,\n",
    "                            \"top\": y,\n",
    "                            \"width\": w, \n",
    "                            \"height\": h,\n",
    "                            \"fish_sector\": fish_sector,\n",
    "                            \"fish_image_width\": sf['crop_metadata']['width'],\n",
    "                            \"fish_image_height\": sf['crop_metadata']['height'],\n",
    "                            \"left_kps\": sf[\"kps\"],\n",
    "                            \"captured_at\": sf.captured_at\n",
    "                           }, ignore_index=True)"
   ]
  },
  {
   "cell_type": "code",
   "execution_count": null,
   "metadata": {},
   "outputs": [],
   "source": [
    "lice_data.shape"
   ]
  },
  {
   "cell_type": "code",
   "execution_count": null,
   "metadata": {},
   "outputs": [],
   "source": [
    "num_pic = 0\n",
    "max_num_pic = 15\n",
    "for idx, lice in tqdm(lice_data.iloc[10:30].iterrows()):\n",
    "\n",
    "    num_pic += 1\n",
    "    if num_pic > max_num_pic:\n",
    "        break\n",
    "    image_f, bucket, image_key = s3_access_utils.download_from_url(lice.fish_image_url)\n",
    "       \n",
    "    fig, ax = plt.subplots(figsize=(10, 10))\n",
    "\n",
    "\n",
    "    img = Image.open(image_f)\n",
    "\n",
    "    alpha = 3 # Contrast control (1.0-3.0)\n",
    "    beta = 20 # Brightness control (0-100)\n",
    "\n",
    "    img = np.asarray(img)\n",
    "    adjusted = cv2.convertScaleAbs(img, alpha=alpha, beta=beta)\n",
    "    ax.imshow(adjusted)\n",
    "               \n",
    "\n",
    "    class_index = LICE_CATEGORY.index(lice.category)\n",
    "    ec = LICE_BBOX_COLOR[class_index]\n",
    "\n",
    "        \n",
    "    rect = patches.Rectangle((lice.left, lice.top), lice.width, lice.height,linewidth=1,edgecolor=ec,facecolor='none')    \n",
    "    ax.add_patch(rect) \n",
    "    ax.annotate(lice.fish_sector, (lice.left, lice.top), color = ec)\n",
    "\n",
    "    for kp in lice.left_kps:\n",
    "        x, y = kp['xCrop'], kp['yCrop']\n",
    "        bp = kp['keypointType']\n",
    "        ax.scatter(x, y, c='orange', marker='o')\n",
    "        ax.annotate(bp, (x, y), color='orange')\n",
    "    plt.show()\n"
   ]
  },
  {
   "cell_type": "code",
   "execution_count": null,
   "metadata": {},
   "outputs": [],
   "source": [
    "lice_data.groupby('fish_sector').location.value_counts().unstack(0).plot(kind='barh', \n",
    "                                                               legend=True,\n",
    "                                                               title = \"Bar Chart of Closest Key Point by Location\")\n"
   ]
  },
  {
   "cell_type": "code",
   "execution_count": null,
   "metadata": {},
   "outputs": [],
   "source": [
    "lice_data.groupby('fish_sector').location.value_counts().unstack(0).plot(kind='barh', \n",
    "                                                               legend=True,\n",
    "                                                               title = \"Bar Chart of Closest Key Point by Location\")\n"
   ]
  },
  {
   "cell_type": "code",
   "execution_count": null,
   "metadata": {},
   "outputs": [],
   "source": [
    "\n",
    "lice_data.groupby('fish_sector').category.value_counts().unstack(0).plot(kind='barh', \n",
    "                                                               legend=True,\n",
    "                                                               title = \"Bar Chart of Closest Key Point by category\")\n"
   ]
  },
  {
   "cell_type": "code",
   "execution_count": null,
   "metadata": {},
   "outputs": [],
   "source": [
    "lice_data.groupby(\"category\").fish_sector.value_counts().unstack(0).plot(kind='barh', \n",
    "                                                               legend=True,\n",
    "                                                               color=LICE_BBOX_COLOR,\n",
    "                                                               title = \"Bar Chart by sector\")\n"
   ]
  },
  {
   "cell_type": "code",
   "execution_count": null,
   "metadata": {},
   "outputs": [],
   "source": [
    "fig, axes = plt.subplots(3, 2, figsize = (12, 15))\n",
    "\n",
    "for idx in range(len(pen_ids)):\n",
    "\n",
    "    pen_id = pen_ids[idx]\n",
    "    dat = lice_data.loc[lice_data['group_id'] == pen_id]\n",
    "    \n",
    "    dat.groupby(\"category\").fish_sector.value_counts().unstack(0).plot(kind='barh', \n",
    "                                                                       legend=True, \n",
    "                                                                       ax = axes[idx//2, idx%2],\n",
    "                                                                       color=LICE_BBOX_COLOR,\n",
    "                                                                       title = \"Bar Chart of lice count by sector, pen_id {}\".format(pen_id))\n",
    "    \n",
    "    \n",
    "    \n",
    "    \n",
    "    \n",
    "plt.tight_layout()\n",
    "    \n",
    "    \n",
    "    \n",
    "    "
   ]
  },
  {
   "cell_type": "code",
   "execution_count": null,
   "metadata": {},
   "outputs": [],
   "source": [
    "plt.scatter(annotation_data_akpd, x=\"captured_at\", y=\"left\", color=\"r\")"
   ]
  },
  {
   "cell_type": "code",
   "execution_count": null,
   "metadata": {},
   "outputs": [],
   "source": [
    "\n",
    "from datetime import datetime\n",
    "\n"
   ]
  },
  {
   "cell_type": "code",
   "execution_count": null,
   "metadata": {},
   "outputs": [],
   "source": []
  },
  {
   "cell_type": "code",
   "execution_count": null,
   "metadata": {},
   "outputs": [],
   "source": [
    "\n",
    "annotation_data_akpd.apply(lambda row: len(row.annotation) == \n",
    "                           np.sum([annotation_data_akpd.DORSAL_BACK, annotation_data_akpd.VENTRAL_BACK], axis = 0)"
   ]
  },
  {
   "cell_type": "code",
   "execution_count": null,
   "metadata": {},
   "outputs": [],
   "source": [
    "# \n",
    "num_image = 0\n",
    "for idx, sf in tqdm(annotation_data_akpd.loc[annotation_data_akpd['group_id'] == \"56\"].iterrows()):\n",
    "#for idx, sf in tqdm(annotation_data_akpd.iterrows()):\n",
    "\n",
    "    if not sf.annotation or not sector.face_left(sf.kps):\n",
    "        continue\n",
    "    num_image += 1\n",
    "    if num_image > 15: break\n",
    "    left_image_f, bucket, left_image_key = s3_access_utils.download_from_url(sf[\"url_key\"])\n",
    "    image_f = left_image_f \n",
    "\n",
    "        \n",
    "    fig, ax = plt.subplots(figsize=(10, 10))\n",
    "    \n",
    "    \n",
    "    img = Image.open(image_f)\n",
    "\n",
    "    alpha = 3 # Contrast control (1.0-3.0)\n",
    "    beta = 20 # Brightness control (0-100)\n",
    "\n",
    "    img = np.asarray(img)\n",
    "    adjusted = cv2.convertScaleAbs(img, alpha=alpha, beta=beta)\n",
    "    ax.imshow(adjusted)\n",
    "\n",
    "\n",
    "    for kp in sf.kps:\n",
    "        k1, k2 = kp['xCrop'], kp['yCrop']\n",
    "        bp = kp['keypointType']\n",
    "        ax.scatter(k1, k2, c='orange', marker='o')\n",
    "        ax.annotate(bp, (k1, k2), color='orange')\n",
    "    kps = sf.kps\n",
    "    eye = sector.get_kp_location(kps, \"EYE\")\n",
    "    tn = sector.get_kp_location(kps, \"TAIL_NOTCH\")\n",
    "    ad_fin = sector.get_kp_location(kps, \"ADIPOSE_FIN\")\n",
    "    an_fin = sector.get_kp_location(kps, \"ANAL_FIN\")\n",
    "    ds_fin = sector.get_kp_location(kps, \"DORSAL_FIN\")\n",
    "    pv_fin = sector.get_kp_location(kps, \"PELVIC_FIN\")\n",
    "    pt_fin = sector.get_kp_location(kps, \"PECTORAL_FIN\")\n",
    "\n",
    "    aux_kps = sector.get_auxiliary_kps(kps)\n",
    "    \n",
    "    ad_an_mid = aux_kps[\"ad_an_mid\"]\n",
    "    ds_pv_mid = aux_kps[\"ds_pv_mid\"]\n",
    "    h1 = aux_kps[\"h1\"]\n",
    "    h0 = aux_kps[\"h0\"]\n",
    "    h_mid = aux_kps[\"h_mid\"]\n",
    "    \n",
    "    pv_back = aux_kps[\"pv_back\"]\n",
    "    ds_back = aux_kps[\"ds_back\"]\n",
    "    \n",
    "    plt.plot([ad_an_mid[0], tn[0]],[ad_an_mid[1], tn[1]],'k-')\n",
    "    plt.plot([ad_an_mid[0], ds_pv_mid[0]],[ad_an_mid[1], ds_pv_mid[1]],'k-')\n",
    "    plt.plot([ds_pv_mid[0], h_mid[0]],[ds_pv_mid[1], h_mid[1]],'k-')\n",
    "    \n",
    "    plt.plot([ad_fin[0], an_fin[0]],[ad_fin[1], an_fin[1]],'k-')    \n",
    "    #plt.plot([ds_fin[0], pv_fin[0]],[ds_fin[1], pv_fin[1]],'k-')\n",
    "    plt.plot([pv_back[0], ds_back[0]], [pv_back[1], ds_back[1]],'k-')\n",
    "    plt.plot([h0[0], h1[0]], [h0[1], h1[1]],'k-')\n",
    "\n",
    "#     for lice in sf['annotation']:\n",
    "        \n",
    "#         x, y, w, h = lice[\"xCrop\"], lice[\"yCrop\"], lice[\"width\"], lice[\"height\"]\n",
    "#         class_index = LICE_CATEGORY.index(lice['category'])\n",
    "#         ec = LICE_BBOX_COLOR[class_index]\n",
    "#         rect = patches.Rectangle((x, y), w, h,linewidth=1,edgecolor=ec,facecolor='none') \n",
    "#         ax.add_patch(rect)\n",
    "        \n",
    "#         sector_label = sector.get_sector(np.array([x, y]), sf.kps)\n",
    "#         ax.annotate(sector_label, (x, y), color = ec)\n",
    "    plt.show()"
   ]
  },
  {
   "cell_type": "code",
   "execution_count": null,
   "metadata": {},
   "outputs": [],
   "source": []
  },
  {
   "cell_type": "code",
   "execution_count": null,
   "metadata": {},
   "outputs": [],
   "source": []
  },
  {
   "cell_type": "code",
   "execution_count": null,
   "metadata": {},
   "outputs": [],
   "source": [
    "annotation_data_akpd.head(1)"
   ]
  },
  {
   "cell_type": "code",
   "execution_count": null,
   "metadata": {},
   "outputs": [],
   "source": [
    "annotation_data_akpd.groupby([\"group_id\",'date']).count().loc[:, ['url_key', 'annotation'] ].head(10)"
   ]
  },
  {
   "cell_type": "code",
   "execution_count": null,
   "metadata": {},
   "outputs": [],
   "source": [
    "for pen_id in pen_ids:\n",
    "    annotation_data_akpd[annotation_data_akpd.group_id == pen_id].groupby(['date']).count()[['url_key', 'annotation']] .plot(figsize = (8, 5),\n",
    "                                                                                                               legend = True,\n",
    "                                                                                                title = \"number of accepted images, pen_id = {}\".format(pen_id))"
   ]
  },
  {
   "cell_type": "code",
   "execution_count": null,
   "metadata": {},
   "outputs": [],
   "source": [
    "fig, axes = plt.subplots(6, 2, figsize = (12, 36))\n",
    "\n",
    "for idx in range(len(pen_ids)):\n",
    "\n",
    "    pen_id = pen_ids[idx]\n",
    "    dat = annotation_data_akpd[annotation_data_akpd.group_id == pen_id].groupby(['date'])\n",
    "    \n",
    "    \n",
    "    dat.mean().plot(ax = axes[idx, 0], \n",
    "                    title = \"trend of avg number lice by sector, pen_id = {}\".format(pen_id))\n",
    "    axes[idx, 0].set(ylabel='avg lice count')\n",
    "                                                                                                         \n",
    "                                                                                                             \n",
    "    dat.count()[['url_key', 'annotation']].plot(ax = axes[idx, 1],\n",
    "                                                legend = True,\n",
    "                                                color = ['black', 'gray'],\n",
    "                                                title = \"fish count, pen_id = {}\".format(pen_id))\n",
    "    axes[idx, 1].set(ylabel='fish count')\n",
    "    axes[idx, 1].legend(['fish (QA accept)', 'fish with lice'])\n",
    "plt.tight_layout()\n",
    "\n",
    "                                                                                                              \n",
    "                                                                                                              \n",
    "                                                                                                              "
   ]
  },
  {
   "cell_type": "code",
   "execution_count": null,
   "metadata": {},
   "outputs": [],
   "source": []
  },
  {
   "cell_type": "code",
   "execution_count": null,
   "metadata": {},
   "outputs": [],
   "source": []
  }
 ],
 "metadata": {
  "kernelspec": {
   "display_name": "Python 3",
   "language": "python",
   "name": "python3"
  },
  "language_info": {
   "codemirror_mode": {
    "name": "ipython",
    "version": 3
   },
   "file_extension": ".py",
   "mimetype": "text/x-python",
   "name": "python",
   "nbconvert_exporter": "python",
   "pygments_lexer": "ipython3"
  }
 },
 "nbformat": 4,
 "nbformat_minor": 4
}
