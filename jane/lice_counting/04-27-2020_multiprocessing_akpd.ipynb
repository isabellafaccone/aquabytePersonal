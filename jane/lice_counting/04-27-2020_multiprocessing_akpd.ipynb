{
 "cells": [
  {
   "cell_type": "code",
   "execution_count": null,
   "metadata": {},
   "outputs": [],
   "source": [
    "from research.weight_estimation.akpd_utils.akpd import AKPD\n",
    "from research.utils.data_access_utils import S3AccessUtils, RDSAccessUtils\n",
    "import json\n",
    "import os\n",
    "import  pandas as pd\n",
    "import numpy as np\n",
    "import matplotlib.patches as patches\n",
    "from tqdm import tqdm\n",
    "from utils import utils, data_prep\n",
    "import cv2\n",
    "from PIL import Image\n",
    "\n",
    "import matplotlib.pyplot as plt\n",
    "\n",
    "\n",
    "import matplotlib.pyplot as plt\n",
    "pd.set_option('display.max_rows', 500)\n",
    "pd.set_option('display.max_colwidth', 500)"
   ]
  },
  {
   "cell_type": "code",
   "execution_count": null,
   "metadata": {},
   "outputs": [],
   "source": [
    "import multiprocessing as mp\n",
    "\n"
   ]
  },
  {
   "cell_type": "code",
   "execution_count": null,
   "metadata": {},
   "outputs": [],
   "source": [
    "mp.cpu_count()"
   ]
  },
  {
   "cell_type": "code",
   "execution_count": null,
   "metadata": {},
   "outputs": [],
   "source": [
    "rds_access_utils = RDSAccessUtils(json.load(open(os.environ['DATA_WAREHOUSE_SQL_CREDENTIALS'])))\n",
    "#credentials = json.load(open(\"/root/jane/cv_research/jane/deploy/data_warehouse_sql_credentials.json\"))\n",
    "\n"
   ]
  },
  {
   "cell_type": "code",
   "execution_count": null,
   "metadata": {},
   "outputs": [],
   "source": [
    "def get_annotation_data(pen_id, start_date, end_date):\n",
    "    sql = \"\"\"\n",
    "            SELECT \n",
    "                group_id,\n",
    "                url_key,\n",
    "                camera_metadata,\n",
    "                CASE \n",
    "                    WHEN url_key like '%%left%%' THEN left_crop_metadata\n",
    "                    ELSE right_crop_metadata          \n",
    "                END AS crop_metadata,\n",
    "                annotation,\n",
    "                captured_at\n",
    "\n",
    "            FROM \n",
    "                prod.crop_annotation \n",
    "            WHERE \n",
    "                (captured_at BETWEEN '{}' AND '{}') AND \n",
    "                (group_id in {}) AND\n",
    "                (annotation_state_id IN (7)) AND\n",
    "                (service_id = 1);\n",
    "            \"\"\".format(start_date, end_date, pen_id)\n",
    "    return rds_access_utils.extract_from_database(sql)\n",
    "\n"
   ]
  },
  {
   "cell_type": "code",
   "execution_count": null,
   "metadata": {},
   "outputs": [],
   "source": [
    "\n",
    "annotation_data = get_annotation_data(\"('56', '60', '37', '66', '85', '86')\", \n",
    "                                      \"2020-04-01\", \n",
    "                                      \"2020-05-01\")"
   ]
  },
  {
   "cell_type": "code",
   "execution_count": null,
   "metadata": {},
   "outputs": [],
   "source": [
    "annotation_data.shape"
   ]
  },
  {
   "cell_type": "code",
   "execution_count": null,
   "metadata": {},
   "outputs": [],
   "source": [
    "aws_credentials = json.load(open(os.environ['AWS_CREDENTIALS']))\n",
    "\n",
    "akpd = AKPD(aws_credentials)"
   ]
  },
  {
   "cell_type": "code",
   "execution_count": null,
   "metadata": {},
   "outputs": [],
   "source": [
    "# annotation\n",
    "# create AKPD SageMaker client\n",
    "aws_credentials = json.load(open(os.environ['AWS_CREDENTIALS']))\n",
    "\n",
    "akpd = AKPD(aws_credentials)"
   ]
  },
  {
   "cell_type": "code",
   "execution_count": null,
   "metadata": {},
   "outputs": [],
   "source": [
    "def add_keypoints_feature(df): \n",
    "    df['kps'] = df.apply(lambda row: akpd.predict_keypoints(row.url_key, row.url_key,\n",
    "                                                            row.crop_metadata, row.crop_metadata, \n",
    "                                                            row.camera_metadata), axis=1)\n",
    "    return df"
   ]
  },
  {
   "cell_type": "code",
   "execution_count": null,
   "metadata": {},
   "outputs": [],
   "source": [
    "def parallelize_dataframe(df, func, n_cores=12):\n",
    "    df_split = np.array_split(df, n_cores)\n",
    "    pool = mp.Pool(n_cores)\n",
    "    df = pd.concat(pool.map(func, df_split))\n",
    "    pool.close()\n",
    "    pool.join()\n",
    "    return df\n",
    "\n"
   ]
  },
  {
   "cell_type": "code",
   "execution_count": null,
   "metadata": {},
   "outputs": [],
   "source": [
    "%%time\n",
    "annotation_data_akpd = parallelize_dataframe(annotation_data, add_keypoints_feature, n_cores=12)\n",
    "\n",
    "\n"
   ]
  },
  {
   "cell_type": "code",
   "execution_count": null,
   "metadata": {},
   "outputs": [],
   "source": [
    "annotation_data_akpd.shape"
   ]
  },
  {
   "cell_type": "code",
   "execution_count": null,
   "metadata": {},
   "outputs": [],
   "source": [
    "# only can run once. \n",
    "# clean kps column since left and right crop is duplicated\n",
    "# annotation_data_akpd['kps'] = annotation_data_akpd['kps'].apply(lambda x: x[0][\"leftCrop\"])"
   ]
  },
  {
   "cell_type": "code",
   "execution_count": null,
   "metadata": {},
   "outputs": [],
   "source": [
    "annotation_data_akpd.head(4)"
   ]
  },
  {
   "cell_type": "code",
   "execution_count": null,
   "metadata": {},
   "outputs": [],
   "source": [
    "annotation_data_akpd.to_pickle(\"annotation_data_akpd_2020_05_27.pkl\")"
   ]
  },
  {
   "cell_type": "code",
   "execution_count": null,
   "metadata": {},
   "outputs": [],
   "source": []
  }
 ],
 "metadata": {
  "kernelspec": {
   "display_name": "Python 3",
   "language": "python",
   "name": "python3"
  },
  "language_info": {
   "codemirror_mode": {
    "name": "ipython",
    "version": 3
   },
   "file_extension": ".py",
   "mimetype": "text/x-python",
   "name": "python",
   "nbconvert_exporter": "python",
   "pygments_lexer": "ipython3"
  }
 },
 "nbformat": 4,
 "nbformat_minor": 4
}
