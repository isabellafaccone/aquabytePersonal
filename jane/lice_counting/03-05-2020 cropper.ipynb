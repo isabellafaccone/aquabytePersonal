{
 "cells": [
  {
   "cell_type": "code",
   "execution_count": 1,
   "metadata": {},
   "outputs": [],
   "source": [
    "from aquabyte.data_access_utils import RDSAccessUtils, S3AccessUtils\n",
    "import json\n",
    "import os\n",
    "import  pandas as pd\n",
    "from aquabyte.visualize import Visualizer\n",
    "import matplotlib.patches as patches\n",
    "from tqdm import tqdm\n",
    "\n",
    "import matplotlib.pyplot as plt\n",
    "pd.set_option('display.max_rows', 500)\n",
    "pd.set_option('display.max_colwidth', 500)"
   ]
  },
  {
   "cell_type": "code",
   "execution_count": 6,
   "metadata": {},
   "outputs": [],
   "source": [
    "credentials = json.load(open(os.environ[\"DATA_WAREHOUSE_SQL_CREDENTIALS\"]))\n",
    "# s3 = RDSAccessUtils(credentials)\n",
    "rds_access_utils = RDSAccessUtils(credentials)\n",
    "\n"
   ]
  },
  {
   "cell_type": "code",
   "execution_count": 7,
   "metadata": {},
   "outputs": [],
   "source": [
    "get_sample_data = \"\"\"\n",
    "    SELECT \n",
    "        * \n",
    "    FROM \n",
    "        prod.crop_annotation \n",
    "    WHERE \n",
    "        group_id = '56' AND\n",
    "        (captured_at BETWEEN '2019-10-01' AND '2019-10-02') AND \n",
    "        (annotation_state_id IN (7)) AND\n",
    "        (service_id = 1);\n",
    "\"\"\"\n",
    "sample_data = rds_access_utils.extract_from_database(get_sample_data)"
   ]
  },
  {
   "cell_type": "code",
   "execution_count": null,
   "metadata": {},
   "outputs": [],
   "source": [
    "from utils.utils import xywh2yolobbox"
   ]
  },
  {
   "cell_type": "code",
   "execution_count": null,
   "metadata": {},
   "outputs": [],
   "source": []
  }
 ],
 "metadata": {
  "kernelspec": {
   "display_name": "Python 3",
   "language": "python",
   "name": "python3"
  },
  "language_info": {
   "codemirror_mode": {
    "name": "ipython",
    "version": 3
   },
   "file_extension": ".py",
   "mimetype": "text/x-python",
   "name": "python",
   "nbconvert_exporter": "python",
   "pygments_lexer": "ipython3",
   "version": "3.6.5"
  }
 },
 "nbformat": 4,
 "nbformat_minor": 4
}
