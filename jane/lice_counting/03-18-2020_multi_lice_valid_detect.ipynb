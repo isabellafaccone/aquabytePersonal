{
 "cells": [
  {
   "cell_type": "code",
   "execution_count": null,
   "metadata": {},
   "outputs": [],
   "source": [
    "from research.utils.data_access_utils import RDSAccessUtils, S3AccessUtils\n",
    "import json\n",
    "import os\n",
    "import  pandas as pd\n",
    "import matplotlib.patches as patches\n",
    "from tqdm import tqdm\n",
    "\n",
    "import matplotlib.pyplot as plt\n",
    "pd.set_option('display.max_rows', 500)\n",
    "pd.set_option('display.max_colwidth', 500)\n",
    "\n",
    "%matplotlib inline\n",
    "\n",
    "import cv2\n",
    "from PIL import Image, ImageEnhance \n",
    "import numpy as np\n",
    "import matplotlib.pyplot as plt\n",
    "from random import randint, seed\n",
    "\n",
    "from os import listdir\n",
    "from os.path import isfile, join\n",
    "import random "
   ]
  },
  {
   "cell_type": "code",
   "execution_count": null,
   "metadata": {},
   "outputs": [],
   "source": [
    "from utils import utils\n",
    "import shutil\n",
    "import glob"
   ]
  },
  {
   "cell_type": "code",
   "execution_count": null,
   "metadata": {},
   "outputs": [],
   "source": [
    "SEED = 33\n",
    "CROP_WIDTH = 512\n",
    "CROP_HEIGHT = 512\n",
    "\n",
    "#LICE_CATEGORY = ['ADULT_FEMALE', 'MOVING', 'SCOTTISH_ADULT_FEMALE', 'UNSURE']\n",
    "LABEL_PATH = 'data/moving_lice_crop_labels'\n",
    "IMAGE_PATH = 'data/moving_lice_crop_images'\n",
    "\n"
   ]
  },
  {
   "cell_type": "code",
   "execution_count": null,
   "metadata": {},
   "outputs": [],
   "source": [
    "import importlib\n",
    "importlib.reload(utils)"
   ]
  },
  {
   "cell_type": "code",
   "execution_count": null,
   "metadata": {
    "scrolled": true
   },
   "outputs": [],
   "source": [
    "image_files = [join(IMAGE_PATH, f) for f in listdir(IMAGE_PATH) if isfile(join(IMAGE_PATH, f))]\n",
    "\n",
    "for i, image_f in enumerate(image_files):\n",
    "    if i <= 100:\n",
    "        continue\n",
    "    if i > 200:\n",
    "        break\n",
    "    fig, ax = plt.subplots(figsize=(10, 10)) \n",
    "    image = plt.imread(image_f)\n",
    "    #image = Image.open(image_f)\n",
    "    \n",
    "    #print(fig.get_size_inches()*fig.dpi)\n",
    "\n",
    "    alpha = 3 # Contrast control (1.0-3.0)\n",
    "    beta = 20 # Brightness control (0-100)\n",
    "\n",
    "    adjusted = cv2.convertScaleAbs(image, alpha=alpha, beta=beta)\n",
    "\n",
    "    ax.imshow(adjusted)\n",
    "    plt.title(image_f)\n",
    "    \n",
    "    label_path = image_f.replace(\"images\", \"labels\").replace(\".png\", \".txt\").replace(\".jpg\", \".txt\")\n",
    "    labels = np.loadtxt(label_path).reshape(-1, 5)\n",
    "    print(labels)\n",
    "    for label in labels:\n",
    "        class_index, yolobbox = int(label[0]), label[1:]\n",
    "        x, y, w, h = utils.yolobbox2xywh(yolobbox, [CROP_WIDTH, CROP_HEIGHT])\n",
    "        #ec = ['b', 'r', 'grey', 'green'][class_index]\n",
    "        ec = 'r'\n",
    "        rect = patches.Rectangle((x, y), w, h,linewidth=1,edgecolor=ec,facecolor='none')\n",
    "        ax.add_patch(rect)\n",
    "    print(image_f)\n",
    "        \n",
    "    plt.show()"
   ]
  },
  {
   "cell_type": "code",
   "execution_count": null,
   "metadata": {},
   "outputs": [],
   "source": [
    "# copy test image in data/test.txt to folder data/test_image\n",
    "\n",
    "\n",
    "for image_path in open('data/test.txt', \"r\").readlines():\n",
    "    shutil.copy(image_path.rstrip(), \"data/test_image\")"
   ]
  },
  {
   "cell_type": "code",
   "execution_count": null,
   "metadata": {},
   "outputs": [],
   "source": [
    "TEST_OUTPUT_PATH = 'output'\n",
    "image_files = [join(TEST_OUTPUT_PATH, f) for f in listdir(TEST_OUTPUT_PATH) if isfile(join(TEST_OUTPUT_PATH, f))]\n",
    "\n",
    "ncols = 2\n",
    "figure, axes = plt.subplots(nrows=3, ncols=ncols, figsize=(14, 21))\n",
    "\n",
    "for i, image_f in enumerate(image_files):\n",
    "    rect = None \n",
    "\n",
    "    #image = plt.imread(image_f)\n",
    "    image = Image.open(image_f)\n",
    "\n",
    "    enhancer = ImageEnhance.Contrast(image)\n",
    "    enhanced_im = enhancer.enhance(1)\n",
    "\n",
    "    axes[i // ncols , i % ncols].imshow(enhanced_im)\n",
    "    #print(fig.get_dpi())\n",
    "\n",
    "\n",
    "    label_path = image_f.replace(\"output\", \"data/moving_lice_crop_labels\").replace(\".png\", \".txt\").replace(\".jpg\", \".txt\")\n",
    "\n",
    "    labels = np.loadtxt(label_path).reshape(-1, 5)\n",
    "\n",
    "    \n",
    "    for label in labels:\n",
    "        class_index, yolobbox = int(label[0]), label[1:]\n",
    "        x, y, w, h = utils.yolobbox2xywh(yolobbox, [CROP_WIDTH, CROP_HEIGHT])\n",
    "        #ec = ['b', 'r', 'grey', 'green'][class_index]\n",
    "        ec = \"r\"\n",
    "        rect = patches.Rectangle((x, y), w, h,linewidth=1,edgecolor=ec,facecolor='none')\n",
    "        axes[i // ncols , i % ncols ].add_patch(rect)\n",
    "\n",
    "    \n",
    "figure.tight_layout()\n",
    "\n"
   ]
  },
  {
   "cell_type": "code",
   "execution_count": null,
   "metadata": {},
   "outputs": [],
   "source": [
    "1892/512"
   ]
  },
  {
   "cell_type": "code",
   "execution_count": null,
   "metadata": {},
   "outputs": [],
   "source": [
    "\n",
    "\n",
    "file1 = open('data/train.txt', 'r') \n",
    "Lines = file1.readlines() \n",
    "  \n",
    "# Strips the newline character \n",
    "for line in Lines: \n",
    "    line = line.rstrip()\n",
    "    label_path = line.replace(\"images\", \"labels\").replace(\".png\", \".txt\").replace(\".jpg\", \".txt\")\n",
    "    labels = np.loadtxt(label_path).reshape(-1, 5)\n",
    "    for label in labels:\n",
    "        class_index = int(label[0])\n",
    "        if class_index > 1:\n",
    "            print(line)\n",
    "            print(labels)\n",
    "            break\n"
   ]
  },
  {
   "cell_type": "code",
   "execution_count": null,
   "metadata": {},
   "outputs": [],
   "source": [
    "file1 = open('data/train.txt', 'r') \n",
    "Lines = file1.readlines() \n",
    "\n",
    "count = [0, 0]\n",
    "# Strips the newline character \n",
    "for line in Lines: \n",
    "    line = line.rstrip()\n",
    "    label_path = line.replace(\"images\", \"labels\").replace(\".png\", \".txt\").replace(\".jpg\", \".txt\")\n",
    "    labels = np.loadtxt(label_path).reshape(-1, 5)\n",
    "    for label in labels:\n",
    "        class_index = int(label[0])\n",
    "        count[class_index] += 1"
   ]
  },
  {
   "cell_type": "code",
   "execution_count": null,
   "metadata": {},
   "outputs": [],
   "source": [
    "count"
   ]
  },
  {
   "cell_type": "code",
   "execution_count": null,
   "metadata": {},
   "outputs": [],
   "source": []
  }
 ],
 "metadata": {
  "kernelspec": {
   "display_name": "Python 3",
   "language": "python",
   "name": "python3"
  },
  "language_info": {
   "codemirror_mode": {
    "name": "ipython",
    "version": 3
   },
   "file_extension": ".py",
   "mimetype": "text/x-python",
   "name": "python",
   "nbconvert_exporter": "python",
   "pygments_lexer": "ipython3",
   "version": "3.6.5"
  }
 },
 "nbformat": 4,
 "nbformat_minor": 4
}
