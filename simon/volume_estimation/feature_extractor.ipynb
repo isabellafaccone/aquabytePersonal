{
 "cells": [
  {
   "cell_type": "code",
   "execution_count": null,
   "metadata": {},
   "outputs": [],
   "source": [
    "import numpy as np\n",
    "import matplotlib.pyplot as plt\n",
    "import cv2\n",
    "import random\n",
    "%matplotlib inline"
   ]
  },
  {
   "cell_type": "markdown",
   "metadata": {},
   "source": [
    "# Data visualisation"
   ]
  },
  {
   "cell_type": "code",
   "execution_count": null,
   "metadata": {},
   "outputs": [],
   "source": [
    "img_id = random.randint(0, 2000)\n",
    "img_id"
   ]
  },
  {
   "cell_type": "markdown",
   "metadata": {},
   "source": [
    "## Stereo images"
   ]
  },
  {
   "cell_type": "code",
   "execution_count": null,
   "metadata": {},
   "outputs": [],
   "source": [
    "r_img_path = '../data/blender_v3/crop/right_' + str(img_id) + '.png'\n",
    "l_img_path = '../data/blender_v3/crop/left_' + str(img_id) + '.png'\n",
    "r_img = cv2.imread(r_img_path)\n",
    "l_img = cv2.imread(l_img_path)"
   ]
  },
  {
   "cell_type": "code",
   "execution_count": null,
   "metadata": {},
   "outputs": [],
   "source": [
    "plt.imshow(r_img)"
   ]
  },
  {
   "cell_type": "code",
   "execution_count": null,
   "metadata": {},
   "outputs": [],
   "source": [
    "plt.imshow(l_img)"
   ]
  },
  {
   "cell_type": "markdown",
   "metadata": {},
   "source": [
    "## Depth map"
   ]
  },
  {
   "cell_type": "code",
   "execution_count": null,
   "metadata": {},
   "outputs": [],
   "source": [
    "dmap_path = '../data/blender_v3/depth_map/depth_map_' + str(img_id) + '.npy'\n",
    "dmap = np.load(dmap_path)"
   ]
  },
  {
   "cell_type": "code",
   "execution_count": null,
   "metadata": {},
   "outputs": [],
   "source": [
    "plt.imshow(dmap.T, cmap='hot')"
   ]
  },
  {
   "cell_type": "markdown",
   "metadata": {},
   "source": [
    "## Mask"
   ]
  },
  {
   "cell_type": "code",
   "execution_count": null,
   "metadata": {},
   "outputs": [],
   "source": [
    "mask_path = '../data/blender_v3/mask/left_' + str(img_id) + '.npy'\n",
    "mask = np.load(mask_path)"
   ]
  },
  {
   "cell_type": "code",
   "execution_count": null,
   "metadata": {},
   "outputs": [],
   "source": [
    "plt.imshow(mask)"
   ]
  },
  {
   "cell_type": "markdown",
   "metadata": {},
   "source": [
    "## 1 - Angle extractor"
   ]
  },
  {
   "cell_type": "code",
   "execution_count": null,
   "metadata": {},
   "outputs": [],
   "source": [
    "def get_bb_from_mask(mask):\n",
    "    \"\"\"\n",
    "    Computes the bounding box coordinates from the mask\n",
    "    \n",
    "    Input:\n",
    "        - mask : np.array of size (L, H)\n",
    "    \n",
    "    Output:\n",
    "        - (x1, x2, y1, y2) : coordinates of the corner of\n",
    "        the bounding box\n",
    "    \"\"\"\n",
    "    x_end, x_start = np.where(mask == 1)[0].max(), np.where(mask == 1)[0].min()\n",
    "    y_end, y_start = np.where(mask == 1)[1].max(), np.where(mask == 1)[1].min()\n",
    "    \n",
    "    return (x_start, x_end, y_start, y_end)    "
   ]
  },
  {
   "cell_type": "code",
   "execution_count": null,
   "metadata": {},
   "outputs": [],
   "source": [
    "x_start, x_end, y_start, y_end = get_bb_from_mask(mask)\n",
    "x_start, x_end, y_start, y_end"
   ]
  },
  {
   "cell_type": "code",
   "execution_count": null,
   "metadata": {},
   "outputs": [],
   "source": [
    "H = x_end - x_start\n",
    "L = y_end - y_start\n",
    "H, L"
   ]
  },
  {
   "cell_type": "code",
   "execution_count": null,
   "metadata": {},
   "outputs": [],
   "source": [
    "# Hyperparameter 1 \n",
    "width_ratio = 0.1\n",
    "width_bb = int(L * width_ratio)\n",
    "width_bb"
   ]
  },
  {
   "cell_type": "code",
   "execution_count": null,
   "metadata": {},
   "outputs": [],
   "source": [
    "# Bb from the mask\n",
    "plt.imshow(dmap.T[x_start:x_end, y_start:y_end])"
   ]
  },
  {
   "cell_type": "code",
   "execution_count": null,
   "metadata": {},
   "outputs": [],
   "source": [
    "plt.imshow(dmap.T[x_start:x_end, y_start:(y_start + width_bb)])"
   ]
  },
  {
   "cell_type": "code",
   "execution_count": null,
   "metadata": {},
   "outputs": [],
   "source": [
    "plt.imshow(dmap.T[x_start:x_end, (y_end - width_bb):y_end])"
   ]
  },
  {
   "cell_type": "code",
   "execution_count": null,
   "metadata": {},
   "outputs": [],
   "source": [
    "def get_extremities_depth_delta(dmap, mask, width_ratio=0.1):\n",
    "    \"\"\"\n",
    "    Computes the difference of depth between \n",
    "    \n",
    "    Input:\n",
    "        - dmap : np.array (H, L) depth map\n",
    "        - mask : np.array (L, H) mask\n",
    "        - width ratio: portion of the mask bounding box to \n",
    "        crop the tail & head\n",
    "    \n",
    "    Output:\n",
    "        - delta : float, difference of depth between the depth \n",
    "        map croppend on tail & head\n",
    "    \"\"\"\n",
    "    width_bb = int(L * width_ratio)\n",
    "    x_start, x_end, y_start, y_end = get_bb_from_mask(mask)\n",
    "    mean_ex1 = dmap.T[np.where(mask[x_start:x_end,\n",
    "               y_start:(y_start + width_bb)] == 1)].mean()\n",
    "    mean_ex2 = dmap.T[np.where(mask[x_start:x_end, \n",
    "             (y_end - width_bb):y_end])].mean()\n",
    "    \n",
    "    return abs(mean_ex1 - mean_ex2)"
   ]
  },
  {
   "cell_type": "code",
   "execution_count": null,
   "metadata": {},
   "outputs": [],
   "source": [
    "delta = get_extremities_depth_delta(dmap, mask, width_ratio=0.1)\n",
    "delta"
   ]
  }
 ],
 "metadata": {
  "kernelspec": {
   "display_name": "Python 2",
   "language": "python",
   "name": "python2"
  },
  "language_info": {
   "codemirror_mode": {
    "name": "ipython",
    "version": 2
   },
   "file_extension": ".py",
   "mimetype": "text/x-python",
   "name": "python",
   "nbconvert_exporter": "python",
   "pygments_lexer": "ipython2",
   "version": "2.7.12"
  }
 },
 "nbformat": 4,
 "nbformat_minor": 2
}
