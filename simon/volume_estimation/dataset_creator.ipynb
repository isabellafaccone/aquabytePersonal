{
 "cells": [
  {
   "cell_type": "code",
   "execution_count": 1,
   "metadata": {},
   "outputs": [],
   "source": [
    "import numpy as np\n",
    "import matplotlib.pyplot as plt\n",
    "import pandas as pd\n",
    "import cv2\n",
    "import random\n",
    "import os \n",
    "from os.path import dirname\n",
    "import re\n",
    "import json \n",
    "import time\n",
    "\n",
    "# Pytorch\n",
    "import torch\n",
    "import torch.nn as nn\n",
    "from torch.autograd import Variable\n",
    "from torch.nn import Parameter\n",
    "from torch.utils.data import Dataset\n",
    "from torch.utils.data import Dataset\n",
    "%matplotlib inline\n",
    "\n",
    "# Custom modules\n",
    "from data_utils import create_csv, split_train_test\n",
    "from data_loader import DataGenerator, CroperNormalizer"
   ]
  },
  {
   "cell_type": "markdown",
   "metadata": {},
   "source": [
    "# Dataset creator"
   ]
  },
  {
   "cell_type": "markdown",
   "metadata": {},
   "source": [
    "### 1 - Create csv containing files names"
   ]
  },
  {
   "cell_type": "code",
   "execution_count": 4,
   "metadata": {},
   "outputs": [
    {
     "data": {
      "text/html": [
       "<div>\n",
       "<style scoped>\n",
       "    .dataframe tbody tr th:only-of-type {\n",
       "        vertical-align: middle;\n",
       "    }\n",
       "\n",
       "    .dataframe tbody tr th {\n",
       "        vertical-align: top;\n",
       "    }\n",
       "\n",
       "    .dataframe thead th {\n",
       "        text-align: right;\n",
       "    }\n",
       "</style>\n",
       "<table border=\"1\" class=\"dataframe\">\n",
       "  <thead>\n",
       "    <tr style=\"text-align: right;\">\n",
       "      <th></th>\n",
       "      <th>depth_map</th>\n",
       "      <th>mask_right</th>\n",
       "      <th>annotations</th>\n",
       "      <th>mask_left</th>\n",
       "    </tr>\n",
       "  </thead>\n",
       "  <tbody>\n",
       "    <tr>\n",
       "      <th>0</th>\n",
       "      <td>depth_map_0.npy</td>\n",
       "      <td>right_0.npy</td>\n",
       "      <td>annot_0.json</td>\n",
       "      <td>left_0.npy</td>\n",
       "    </tr>\n",
       "    <tr>\n",
       "      <th>1</th>\n",
       "      <td>depth_map_1.npy</td>\n",
       "      <td>right_1.npy</td>\n",
       "      <td>annot_1.json</td>\n",
       "      <td>left_1.npy</td>\n",
       "    </tr>\n",
       "    <tr>\n",
       "      <th>2</th>\n",
       "      <td>depth_map_2.npy</td>\n",
       "      <td>right_2.npy</td>\n",
       "      <td>annot_2.json</td>\n",
       "      <td>left_2.npy</td>\n",
       "    </tr>\n",
       "    <tr>\n",
       "      <th>3</th>\n",
       "      <td>depth_map_3.npy</td>\n",
       "      <td>right_3.npy</td>\n",
       "      <td>annot_3.json</td>\n",
       "      <td>left_3.npy</td>\n",
       "    </tr>\n",
       "    <tr>\n",
       "      <th>4</th>\n",
       "      <td>depth_map_4.npy</td>\n",
       "      <td>right_4.npy</td>\n",
       "      <td>annot_4.json</td>\n",
       "      <td>left_4.npy</td>\n",
       "    </tr>\n",
       "  </tbody>\n",
       "</table>\n",
       "</div>"
      ],
      "text/plain": [
       "         depth_map   mask_right   annotations   mask_left\n",
       "0  depth_map_0.npy  right_0.npy  annot_0.json  left_0.npy\n",
       "1  depth_map_1.npy  right_1.npy  annot_1.json  left_1.npy\n",
       "2  depth_map_2.npy  right_2.npy  annot_2.json  left_2.npy\n",
       "3  depth_map_3.npy  right_3.npy  annot_3.json  left_3.npy\n",
       "4  depth_map_4.npy  right_4.npy  annot_4.json  left_4.npy"
      ]
     },
     "execution_count": 4,
     "metadata": {},
     "output_type": "execute_result"
    }
   ],
   "source": [
    "dataset_name = 'blender_v3'\n",
    "datas = create_csv(dataset_name=dataset_name,datas_list=['depth_map', 'annotations', 'mask'])\n",
    "datas.head()"
   ]
  },
  {
   "cell_type": "markdown",
   "metadata": {},
   "source": [
    "### 2 - Creating a DataGenerator"
   ]
  },
  {
   "cell_type": "markdown",
   "metadata": {},
   "source": [
    "Creating this class allows us to load data per data instead of the whole dataset in order to avoid to fill up RAM. These files should be saved in a python module instead of being defined in the notebook (same for all functions defined in these notebooks), since I am coding from my mac I cannot mount the root/ on my computer and develop in sublimetext"
   ]
  },
  {
   "cell_type": "code",
   "execution_count": 5,
   "metadata": {},
   "outputs": [],
   "source": [
    "whole_dataset = DataGenerator(dataframe=datas,\n",
    "                              dataset_name=dataset_name,\n",
    "                              datas_list=['depth_map', 'mask_left', 'annotations'],\n",
    "                              target_list=None)"
   ]
  },
  {
   "cell_type": "markdown",
   "metadata": {},
   "source": [
    "### 3 - Depth map masked & normalized dataset creator"
   ]
  },
  {
   "cell_type": "markdown",
   "metadata": {},
   "source": [
    "We could integrate this function to the DataLoader but this would take time during training and at inference, therefore we create a new dataset"
   ]
  },
  {
   "cell_type": "code",
   "execution_count": 6,
   "metadata": {},
   "outputs": [],
   "source": [
    "regenerate_dataset = False"
   ]
  },
  {
   "cell_type": "code",
   "execution_count": 7,
   "metadata": {},
   "outputs": [],
   "source": [
    "if regenerate_dataset:\n",
    "    processor = CroperNormalizer()\n",
    "    dataset_name = 'blender_v3'\n",
    "    datas = pd.read_csv(dataset_name + '.csv')\n",
    "    whole_dataset = DataGenerator(dataframe=datas,\n",
    "                                  dataset_name=dataset_name,\n",
    "                                  datas_list=['depth_map', 'mask_left', 'annotations'],\n",
    "                                  target_list=None)\n",
    "    for ix in range(len(whole_dataset)):\n",
    "        data = whole_dataset[ix]\n",
    "        input_data, label_data = processor.process_dmap(data)\n",
    "        np.save('../data/blender_v3_croped_normalized_dmap_300_100/depth_map/depth_map_' + str(ix) + '.npy',\n",
    "            input_data.T)\n",
    "        with open( '../data/blender_v3_croped_normalized_dmap_300_100/annotations/annot_' + str(ix) + '.json', 'w') as fp:\n",
    "            json.dump(label_data, fp)"
   ]
  },
  {
   "cell_type": "markdown",
   "metadata": {},
   "source": [
    "### 4- Loading the dataset & visualisation"
   ]
  },
  {
   "cell_type": "code",
   "execution_count": 8,
   "metadata": {},
   "outputs": [],
   "source": [
    "dataset_name = 'blender_v3_croped_normalized_dmap_300_100'\n",
    "datas_list = ['depth_map', 'annotations']\n",
    "datas = pd.read_csv(dataset_name + '.csv', index_col=0)\n",
    "dataset = DataGenerator(dataframe=datas,\n",
    "                        dataset_name=dataset_name,\n",
    "                        datas_list=datas_list,\n",
    "                        target_list=None)"
   ]
  },
  {
   "cell_type": "code",
   "execution_count": null,
   "metadata": {},
   "outputs": [],
   "source": [
    "for ix in range(len())"
   ]
  },
  {
   "cell_type": "code",
   "execution_count": 10,
   "metadata": {},
   "outputs": [
    {
     "data": {
      "text/plain": [
       "4814"
      ]
     },
     "execution_count": 10,
     "metadata": {},
     "output_type": "execute_result"
    }
   ],
   "source": [
    "img_id = random.randint(0, len(dataset))\n",
    "img_id"
   ]
  },
  {
   "cell_type": "code",
   "execution_count": 11,
   "metadata": {},
   "outputs": [
    {
     "data": {
      "text/plain": [
       "<matplotlib.colorbar.Colorbar at 0x7f85c8478350>"
      ]
     },
     "execution_count": 11,
     "metadata": {},
     "output_type": "execute_result"
    },
    {
     "data": {
      "image/png": "[encoded data removed]",
      "text/plain": [
       "<matplotlib.figure.Figure at 0x7f85e637a190>"
      ]
     },
     "metadata": {},
     "output_type": "display_data"
    }
   ],
   "source": [
    "plt.imshow(dataset[img_id][0]['depth_map'], cmap='hot')\n",
    "plt.colorbar()"
   ]
  },
  {
   "cell_type": "code",
   "execution_count": 43,
   "metadata": {},
   "outputs": [
    {
     "data": {
      "text/plain": [
       "{'height': 20.43436130546165,\n",
       " 'volume': 4205.6824656880935,\n",
       " 'width': 17.02863442121804}"
      ]
     },
     "execution_count": 43,
     "metadata": {},
     "output_type": "execute_result"
    }
   ],
   "source": [
    "test_dataset[img_id][1]"
   ]
  }
 ],
 "metadata": {
  "kernelspec": {
   "display_name": "Python 2",
   "language": "python",
   "name": "python2"
  },
  "language_info": {
   "codemirror_mode": {
    "name": "ipython",
    "version": 2
   },
   "file_extension": ".py",
   "mimetype": "text/x-python",
   "name": "python",
   "nbconvert_exporter": "python",
   "pygments_lexer": "ipython2",
   "version": "2.7.12"
  }
 },
 "nbformat": 4,
 "nbformat_minor": 2
}
