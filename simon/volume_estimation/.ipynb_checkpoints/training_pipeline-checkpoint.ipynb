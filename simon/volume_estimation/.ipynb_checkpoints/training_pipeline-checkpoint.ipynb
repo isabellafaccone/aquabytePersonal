{
 "cells": [
  {
   "cell_type": "code",
   "execution_count": null,
   "metadata": {},
   "outputs": [],
   "source": [
    "import numpy as np\n",
    "import matplotlib.pyplot as plt\n",
    "import pandas as pd\n",
    "import cv2\n",
    "import random\n",
    "import os \n",
    "from os.path import dirname\n",
    "import re\n",
    "import json \n",
    "import time\n",
    "\n",
    "# Pytorch\n",
    "import torch\n",
    "import torch.nn as nn\n",
    "from torch.autograd import Variable\n",
    "from torch.nn import Parameter\n",
    "from torch.utils.data import Dataset\n",
    "from torch.utils.data import DataLoader\n",
    "%matplotlib inline\n",
    "\n",
    "# Custom modules\n",
    "from data_utils import create_csv, split_train_test\n",
    "from data_loader import DataGenerator, CroperNormalizer\n",
    "from models import BasicConvnet\n",
    "from classifier import Classifier"
   ]
  },
  {
   "cell_type": "code",
   "execution_count": null,
   "metadata": {},
   "outputs": [],
   "source": [
    "import os\n",
    "os.environ[\"CUDA_DEVICE_ORDER\"]=\"PCI_BUS_ID\"   \n",
    "os.environ[\"CUDA_VISIBLE_DEVICES\"]=\"3\""
   ]
  },
  {
   "cell_type": "markdown",
   "metadata": {},
   "source": [
    "## 1 - Dataset "
   ]
  },
  {
   "cell_type": "code",
   "execution_count": null,
   "metadata": {},
   "outputs": [],
   "source": [
    "dataset_name = 'blender_v3_croped_normalized_dmap_300_100'\n",
    "datas_list = ['depth_map', 'annotations']\n",
    "datas = pd.read_csv(dataset_name + '.csv', index_col=0)"
   ]
  },
  {
   "cell_type": "code",
   "execution_count": null,
   "metadata": {},
   "outputs": [],
   "source": [
    "train_split = 0.8\n",
    "train, test = split_train_test(datas, train_split)\n",
    "train_dataset = DataGenerator(dataframe=train,\n",
    "                              dataset_name=dataset_name,\n",
    "                              datas_list=datas_list)\n",
    "test_dataset = DataGenerator(dataframe=test,\n",
    "                             dataset_name=dataset_name,\n",
    "                             datas_list=datas_list)"
   ]
  },
  {
   "cell_type": "code",
   "execution_count": null,
   "metadata": {},
   "outputs": [],
   "source": [
    "batch_size = 32\n",
    "shuffle = True"
   ]
  },
  {
   "cell_type": "code",
   "execution_count": null,
   "metadata": {},
   "outputs": [],
   "source": [
    "train_loader = DataLoader(train_dataset,\n",
    "                          batch_size=batch_size,\n",
    "                          shuffle=shuffle)\n",
    "test_loader = DataLoader(test_dataset,\n",
    "                         batch_size=batch_size, \n",
    "                         shuffle=shuffle)"
   ]
  },
  {
   "cell_type": "code",
   "execution_count": null,
   "metadata": {},
   "outputs": [],
   "source": [
    "for i, data in enumerate(train_loader):\n",
    "    j = data\n",
    "    break"
   ]
  },
  {
   "cell_type": "code",
   "execution_count": null,
   "metadata": {},
   "outputs": [],
   "source": [
    "volume_label = Variable(j[1]['volume'])"
   ]
  },
  {
   "cell_type": "code",
   "execution_count": null,
   "metadata": {},
   "outputs": [],
   "source": [
    "spatial_label = Variable(torch.transpose(torch.stack([j[1]['height'], j[1]['width'], j[1]['length']]), 0, 1))"
   ]
  },
  {
   "cell_type": "code",
   "execution_count": null,
   "metadata": {},
   "outputs": [],
   "source": []
  },
  {
   "cell_type": "code",
   "execution_count": null,
   "metadata": {},
   "outputs": [],
   "source": []
  },
  {
   "cell_type": "code",
   "execution_count": null,
   "metadata": {},
   "outputs": [],
   "source": []
  },
  {
   "cell_type": "markdown",
   "metadata": {},
   "source": [
    "## 2 - Model"
   ]
  },
  {
   "cell_type": "code",
   "execution_count": null,
   "metadata": {},
   "outputs": [],
   "source": [
    "simple_convnet = BasicConvnet()"
   ]
  },
  {
   "cell_type": "markdown",
   "metadata": {},
   "source": [
    "## 3 - Classifier"
   ]
  },
  {
   "cell_type": "code",
   "execution_count": null,
   "metadata": {},
   "outputs": [],
   "source": [
    "volume_estimator = Classifier(model=simple_convnet, train_loader=train_loader,\n",
    "                              test_loader=test_loader, \n",
    "                              cuda=True, target='volume')"
   ]
  },
  {
   "cell_type": "markdown",
   "metadata": {},
   "source": [
    "## 4 - Training & Evaluation"
   ]
  },
  {
   "cell_type": "code",
   "execution_count": null,
   "metadata": {},
   "outputs": [],
   "source": [
    "lr = 1e-2\n",
    "num_epoch = 50"
   ]
  },
  {
   "cell_type": "code",
   "execution_count": null,
   "metadata": {},
   "outputs": [],
   "source": [
    "volume_estimator.train(lr=lr, num_epoch=num_epoch)"
   ]
  },
  {
   "cell_type": "markdown",
   "metadata": {},
   "source": [
    "## 5 - Results"
   ]
  },
  {
   "cell_type": "markdown",
   "metadata": {},
   "source": [
    "## 5.1 - Simple convnet"
   ]
  },
  {
   "cell_type": "markdown",
   "metadata": {},
   "source": [
    "####  Volume estimation"
   ]
  },
  {
   "cell_type": "code",
   "execution_count": null,
   "metadata": {},
   "outputs": [],
   "source": [
    "train_loss = volume_estimator.agr_train_loss\n",
    "test_loss = volume_estimator.agr_test_loss\n",
    "train_average_error = volume_estimator.train_agr_normalized_error\n",
    "test_average_error = volume_estimator.test_agr_normalized_error"
   ]
  },
  {
   "cell_type": "code",
   "execution_count": null,
   "metadata": {},
   "outputs": [],
   "source": [
    "plt.plot(train_loss)\n",
    "plt.plot(test_loss)\n",
    "plt.legend(['avg train loss', 'avg test loss'])\n",
    "plt.xlabel('epoch')\n",
    "plt.ylabel('avg loss')\n",
    "plt.title('Avg loss for volume estimation with simple convnet')\n",
    "plt.show()"
   ]
  },
  {
   "cell_type": "code",
   "execution_count": null,
   "metadata": {},
   "outputs": [],
   "source": [
    "plt.plot(train_average_error)\n",
    "plt.plot(test_average_error)\n",
    "plt.legend(['avg train error', 'avg test error'])\n",
    "plt.xlabel('epoch')\n",
    "plt.ylabel('avg error')\n",
    "plt.title('Avg error for volume estimation with simple convnet')\n",
    "plt.show()"
   ]
  },
  {
   "cell_type": "code",
   "execution_count": null,
   "metadata": {},
   "outputs": [],
   "source": [
    "test_model = False"
   ]
  },
  {
   "cell_type": "code",
   "execution_count": null,
   "metadata": {},
   "outputs": [],
   "source": [
    "if test_model:\n",
    "    model_name = 'volume_estimator_50_epoch_lr_1e-2_simple_convnet_L1_loss'\n",
    "    volume_estimator.load_model(model_name)\n",
    "    volume_estimator.test(0)"
   ]
  },
  {
   "cell_type": "markdown",
   "metadata": {},
   "source": [
    "#### Width estimation"
   ]
  },
  {
   "cell_type": "code",
   "execution_count": null,
   "metadata": {},
   "outputs": [],
   "source": [
    "train_loss = volume_estimator.agr_train_loss\n",
    "test_loss = volume_estimator.agr_test_loss\n",
    "train_average_error = volume_estimator.train_agr_normalized_error\n",
    "test_average_error = volume_estimator.test_agr_normalized_error"
   ]
  },
  {
   "cell_type": "code",
   "execution_count": null,
   "metadata": {},
   "outputs": [],
   "source": [
    "plt.plot(train_loss)\n",
    "plt.plot(test_loss)\n",
    "plt.legend(['avg train loss', 'avg test loss'])\n",
    "plt.xlabel('epoch')\n",
    "plt.ylabel('avg loss')\n",
    "plt.title('Avg loss for length estimation with simple convnet')\n",
    "plt.show()"
   ]
  },
  {
   "cell_type": "code",
   "execution_count": null,
   "metadata": {},
   "outputs": [],
   "source": [
    "plt.plot(train_average_error)\n",
    "plt.plot(test_average_error)\n",
    "plt.legend(['avg train error', 'avg test error'])\n",
    "plt.xlabel('epoch')\n",
    "plt.ylabel('avg error')\n",
    "plt.title('Avg error for width estimation with simple convnet')\n",
    "plt.show()"
   ]
  },
  {
   "cell_type": "code",
   "execution_count": null,
   "metadata": {},
   "outputs": [],
   "source": [
    "test_model = True"
   ]
  },
  {
   "cell_type": "code",
   "execution_count": null,
   "metadata": {},
   "outputs": [],
   "source": [
    "if test_model:\n",
    "    model_name = 'width_estimator_50_epoch_lr_1e-2_simple_convnet_L1_loss'\n",
    "    volume_estimator.load_model(model_name)\n",
    "    volume_estimator.test(0)"
   ]
  },
  {
   "cell_type": "markdown",
   "metadata": {},
   "source": [
    "#### Height estimation"
   ]
  },
  {
   "cell_type": "code",
   "execution_count": null,
   "metadata": {},
   "outputs": [],
   "source": [
    "train_loss = volume_estimator.agr_train_loss\n",
    "test_loss = volume_estimator.agr_test_loss\n",
    "train_average_error = volume_estimator.train_agr_normalized_error\n",
    "test_average_error = volume_estimator.test_agr_normalized_error"
   ]
  },
  {
   "cell_type": "code",
   "execution_count": null,
   "metadata": {},
   "outputs": [],
   "source": [
    "plt.plot(train_loss)\n",
    "plt.plot(test_loss)\n",
    "plt.legend(['avg train loss', 'avg test loss'])\n",
    "plt.xlabel('epoch')\n",
    "plt.ylabel('avg loss')\n",
    "plt.title('Avg loss for height estimation with simple convnet')\n",
    "plt.show()"
   ]
  },
  {
   "cell_type": "code",
   "execution_count": null,
   "metadata": {},
   "outputs": [],
   "source": [
    "plt.plot(train_average_error)\n",
    "plt.plot(test_average_error)\n",
    "plt.legend(['avg train error', 'avg test error'])\n",
    "plt.xlabel('epoch')\n",
    "plt.ylabel('avg error')\n",
    "plt.title('Avg error for height estimation with simple convnet')\n",
    "plt.show()"
   ]
  },
  {
   "cell_type": "code",
   "execution_count": null,
   "metadata": {},
   "outputs": [],
   "source": [
    "test_model = False"
   ]
  },
  {
   "cell_type": "code",
   "execution_count": null,
   "metadata": {},
   "outputs": [],
   "source": [
    "if test_model:\n",
    "    model_name = 'height_estimator_50_epoch_lr_1e-2_simple_convnet_L1_loss'\n",
    "    volume_estimator.load_model(model_name)\n",
    "    volume_estimator.test(0)"
   ]
  },
  {
   "cell_type": "markdown",
   "metadata": {},
   "source": [
    "####  Length estimation"
   ]
  },
  {
   "cell_type": "code",
   "execution_count": null,
   "metadata": {},
   "outputs": [],
   "source": [
    "train_loss = volume_estimator.agr_train_loss\n",
    "test_loss = volume_estimator.agr_test_loss\n",
    "train_average_error = volume_estimator.train_agr_normalized_error\n",
    "test_average_error = volume_estimator.test_agr_normalized_error"
   ]
  },
  {
   "cell_type": "code",
   "execution_count": null,
   "metadata": {},
   "outputs": [],
   "source": [
    "plt.plot(train_loss)\n",
    "plt.plot(test_loss)\n",
    "plt.legend(['avg train loss', 'avg test loss'])\n",
    "plt.xlabel('epoch')\n",
    "plt.ylabel('avg loss')\n",
    "plt.title('Avg loss for length estimation with simple convnet')\n",
    "plt.show()"
   ]
  },
  {
   "cell_type": "code",
   "execution_count": null,
   "metadata": {},
   "outputs": [],
   "source": [
    "plt.plot(train_average_error)\n",
    "plt.plot(test_average_error)\n",
    "plt.legend(['avg train error', 'avg test error'])\n",
    "plt.xlabel('epoch')\n",
    "plt.ylabel('avg error')\n",
    "plt.title('Avg error for length estimation with simple convnet')\n",
    "plt.show()non_normalized_width_estimator_50_epoch_lr_1e-2_simple_convnet_L1_loss"
   ]
  },
  {
   "cell_type": "code",
   "execution_count": null,
   "metadata": {},
   "outputs": [],
   "source": [
    "test_model = False"
   ]
  },
  {
   "cell_type": "code",
   "execution_count": null,
   "metadata": {},
   "outputs": [],
   "source": [
    "if test_model:\n",
    "    model_name = 'length_estimator_50_epoch_lr_1e-2_simple_convnet_L1_loss'\n",
    "    volume_estimator.load_model(model_name)\n",
    "    volume_estimator.test(0)"
   ]
  },
  {
   "cell_type": "markdown",
   "metadata": {},
   "source": [
    "## 5.2 - Deeper convnet"
   ]
  },
  {
   "cell_type": "markdown",
   "metadata": {},
   "source": [
    "#### Volume estimation"
   ]
  },
  {
   "cell_type": "code",
   "execution_count": null,
   "metadata": {},
   "outputs": [],
   "source": []
  }
 ],
 "metadata": {
  "kernelspec": {
   "display_name": "Python 2",
   "language": "python",
   "name": "python2"
  },
  "language_info": {
   "codemirror_mode": {
    "name": "ipython",
    "version": 2
   },
   "file_extension": ".py",
   "mimetype": "text/x-python",
   "name": "python",
   "nbconvert_exporter": "python",
   "pygments_lexer": "ipython2",
   "version": "2.7.12"
  }
 },
 "nbformat": 4,
 "nbformat_minor": 2
}
