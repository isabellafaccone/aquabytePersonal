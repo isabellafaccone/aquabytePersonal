{
 "cells": [
  {
   "cell_type": "code",
   "execution_count": null,
   "metadata": {},
   "outputs": [],
   "source": [
    "# load a bunch of masks"
   ]
  },
  {
   "cell_type": "code",
   "execution_count": null,
   "metadata": {},
   "outputs": [],
   "source": [
    "import json\n",
    "\n",
    "import numpy as np\n",
    "import matplotlib.pyplot as plt\n",
    "from pycocotools.mask import decode\n"
   ]
  },
  {
   "cell_type": "code",
   "execution_count": null,
   "metadata": {},
   "outputs": [],
   "source": [
    "# load labels\n",
    "labels = json.load(open('/root/data/blender_v2/training/train_low_rez/labels.json'))"
   ]
  },
  {
   "cell_type": "code",
   "execution_count": null,
   "metadata": {},
   "outputs": [],
   "source": [
    "masks = decode(labels[0]['masks'])"
   ]
  },
  {
   "cell_type": "code",
   "execution_count": null,
   "metadata": {},
   "outputs": [],
   "source": [
    "plt.figure(figsize=(15, 15))\n",
    "plt.imshow(masks[...,0])"
   ]
  },
  {
   "cell_type": "code",
   "execution_count": null,
   "metadata": {},
   "outputs": [],
   "source": [
    "plt.figure(figsize=(15, 15))\n",
    "plt.imshow(np.sum(masks,axis=2))# [200:, :500])"
   ]
  },
  {
   "cell_type": "markdown",
   "metadata": {},
   "source": [
    "# Create a dataset of masks"
   ]
  },
  {
   "cell_type": "code",
   "execution_count": null,
   "metadata": {},
   "outputs": [],
   "source": [
    "import numpy as np\n",
    "import matplotlib.pyplot as plt\n",
    "from PIL import Image\n",
    "import matplotlib.cm as cm\n",
    "\n",
    "import glob\n",
    "import os"
   ]
  },
  {
   "cell_type": "code",
   "execution_count": null,
   "metadata": {},
   "outputs": [],
   "source": [
    "# load some crops \n",
    "crop_folder = '/root/data/blender_v3/crop/'"
   ]
  },
  {
   "cell_type": "code",
   "execution_count": null,
   "metadata": {},
   "outputs": [],
   "source": [
    "crops = [os.path.join(crop_folder, f) for f in os.listdir(crop_folder) if f.endswith('.png') and f[:4] == 'left']\n",
    "print(\"{} crops found\".format(len(crops)))"
   ]
  },
  {
   "cell_type": "code",
   "execution_count": null,
   "metadata": {},
   "outputs": [],
   "source": [
    "if not os.path.isdir('/root/data/mask_dataset'):\n",
    "    os.makedirs('/root/data/mask_dataset/train/occluded')\n",
    "    os.makedirs('/root/data/mask_dataset/train/full')"
   ]
  },
  {
   "cell_type": "code",
   "execution_count": null,
   "metadata": {},
   "outputs": [],
   "source": [
    "train_size = 5000"
   ]
  },
  {
   "cell_type": "code",
   "execution_count": null,
   "metadata": {},
   "outputs": [],
   "source": [
    "crops[0]"
   ]
  },
  {
   "cell_type": "code",
   "execution_count": null,
   "metadata": {
    "scrolled": true
   },
   "outputs": [],
   "source": [
    "# # create the full crops\n",
    "# x_full = np.zeros((train_size, 28, 28, 1))\n",
    "# for (i, crop) in enumerate(crops):\n",
    "#     if i % 100 ==0 : print('{}/{}'.format(i, train_size))\n",
    "#     mask = np.expand_dims(np.asarray(Image.open(crop).resize((28, 28)))[...,3], axis=2)\n",
    "#     x_full[i,...] = mask\n",
    "# plt.imshow(np.squeeze(x_full[np.random.randint(train_size),...]))"
   ]
  },
  {
   "cell_type": "code",
   "execution_count": null,
   "metadata": {},
   "outputs": [],
   "source": [
    "# np.save('/root/data/mask_dataset/train/full/train_full', x_full)"
   ]
  },
  {
   "cell_type": "code",
   "execution_count": null,
   "metadata": {},
   "outputs": [],
   "source": [
    "# create occluded dataset\n",
    "for i in range(train_size):\n",
    "    fish1 = np.asarray(Image.open(np.random.choice(crops)).resize((28, 28)))[...,3]\n",
    "    fish1.flags.writeable = True\n",
    "    fish1[fish1 > 0] = 1\n",
    "    fish2 = np.asarray(Image.open(np.random.choice(crops)).resize((28, 28)))[...,3]\n",
    "    fish2.flags.writeable = True\n",
    "    fish2[fish2 > 0] = 1\n",
    "    overlap = fish1 + fish2\n",
    "    break"
   ]
  },
  {
   "cell_type": "code",
   "execution_count": null,
   "metadata": {},
   "outputs": [],
   "source": [
    "plt.imshow(overlap)"
   ]
  },
  {
   "cell_type": "markdown",
   "metadata": {},
   "source": [
    "# Keras convnet"
   ]
  },
  {
   "cell_type": "code",
   "execution_count": null,
   "metadata": {},
   "outputs": [],
   "source": [
    "from __future__ import print_function\n",
    "import keras\n",
    "from keras.datasets import mnist\n",
    "from keras.models import Sequential\n",
    "from keras.layers import Dense, Dropout, Flatten\n",
    "from keras.layers import Conv2D, MaxPooling2D\n",
    "from keras import backend as K\n",
    "import os\n",
    "import imgaug as ia\n",
    "from imgaug import augmenters as iaa\n",
    "import numpy as np\n",
    "from PIL import Image\n",
    "import matplotlib.pyplot as plt"
   ]
  },
  {
   "cell_type": "code",
   "execution_count": null,
   "metadata": {},
   "outputs": [],
   "source": [
    "os.environ[\"CUDA_VISIBLE_DEVICES\"] = \"1\""
   ]
  },
  {
   "cell_type": "code",
   "execution_count": null,
   "metadata": {},
   "outputs": [],
   "source": [
    "crop_folder = '/root/data/blender_v3/crop/'\n",
    "crops = [os.path.join(crop_folder, f) for f in os.listdir(crop_folder) if f.endswith('.png') and f[:4] == 'left']"
   ]
  },
  {
   "cell_type": "code",
   "execution_count": null,
   "metadata": {},
   "outputs": [],
   "source": [
    "batch_size = 128\n",
    "num_classes = 2\n",
    "epochs = 20"
   ]
  },
  {
   "cell_type": "code",
   "execution_count": null,
   "metadata": {},
   "outputs": [],
   "source": [
    "classes = ['full', 'occluded']"
   ]
  },
  {
   "cell_type": "code",
   "execution_count": null,
   "metadata": {},
   "outputs": [],
   "source": [
    "# input image dimensions\n",
    "input_shape = (28, 28, 1)\n",
    "img_rows, img_cols = 28, 28"
   ]
  },
  {
   "cell_type": "code",
   "execution_count": null,
   "metadata": {},
   "outputs": [],
   "source": [
    "# # the data, split between train and test sets\n",
    "# (x_train, y_train), (x_test, y_test) = mnist.load_data()\n",
    "# print(x_train.shape)\n",
    "# plt.imshow(x_train[0])\n",
    "# plt.colorbar()\n",
    "# plt.show()\n",
    "# if K.image_data_format() == 'channels_first':\n",
    "#     x_train = x_train.reshape(x_train.shape[0], 1, img_rows, img_cols)\n",
    "#     x_test = x_test.reshape(x_test.shape[0], 1, img_rows, img_cols)\n",
    "#     input_shape = (1, img_rows, img_cols)\n",
    "# else:\n",
    "#     x_train = x_train.reshape(x_train.shape[0], img_rows, img_cols, 1)\n",
    "#     x_test = x_test.reshape(x_test.shape[0], img_rows, img_cols, 1)\n",
    "#     input_shape = (img_rows, img_cols, 1)\n",
    "\n",
    "# x_train = x_train.astype('float32')\n",
    "# plt.imshow(x_train[0,...,0])\n",
    "# plt.colorbar()\n",
    "# plt.show()\n",
    "# x_test = x_test.astype('float32')\n",
    "# x_train /= 255\n",
    "# x_test /= 255\n",
    "# plt.imshow(x_train[0,...,0])\n",
    "# plt.colorbar()\n",
    "# plt.show()\n",
    "# print('x_train shape:', x_train.shape)\n",
    "# print(x_train.shape[0], 'train samples')\n",
    "# print(x_test.shape[0], 'test samples')\n",
    "\n",
    "# # convert class vectors to binary class matrices\n",
    "# y_train = keras.utils.to_categorical(y_train, num_classes)\n",
    "# y_test = keras.utils.to_categorical(y_test, num_classes)"
   ]
  },
  {
   "cell_type": "code",
   "execution_count": null,
   "metadata": {},
   "outputs": [],
   "source": [
    "# fish occlusion function\n",
    "def occlude(path1, path2):\n",
    "    \"\"\"take one fish and occlude it with the other\"\"\"\n",
    "    # create the binary masks\n",
    "    fish1 = np.asarray(Image.open(path1).resize((28, 28)))[...,3]\n",
    "    fish1.flags.writeable = True\n",
    "    fish1[fish1 > 0] = 1\n",
    "    fish2 = np.asarray(Image.open(path2).resize((28, 28)))[...,3]\n",
    "    fish2.flags.writeable = True\n",
    "    fish2[fish2 > 0] = 1\n",
    "    \n",
    "    # randomly sample upper left\n",
    "#     upper_x = np.random.randint(14)\n",
    "#     upper_y = np.random.randint(14)\n",
    "    \n",
    "    coin = np.random.rand()\n",
    "    if coin < 0.25:\n",
    "        overlap = fish1[]\n",
    "    fish1[overlap==2] =0\n",
    "    return fish1"
   ]
  },
  {
   "cell_type": "code",
   "execution_count": null,
   "metadata": {},
   "outputs": [],
   "source": [
    "overlap = occlude(np.random.choice(crops), np.random.choice(crops))\n",
    "plt.imshow(overlap)\n",
    "plt.show()"
   ]
  },
  {
   "cell_type": "code",
   "execution_count": null,
   "metadata": {},
   "outputs": [],
   "source": [
    "plt.imshow(np.asarray(Image.open(np.random.choice(crops)).resize((28, 28)))[...,3])"
   ]
  },
  {
   "cell_type": "code",
   "execution_count": null,
   "metadata": {},
   "outputs": [],
   "source": []
  },
  {
   "cell_type": "code",
   "execution_count": null,
   "metadata": {},
   "outputs": [],
   "source": [
    "def get_1_hot(y, classes):\n",
    "    return np.squeeze(keras.utils.to_categorical(y, len(classes)))"
   ]
  },
  {
   "cell_type": "code",
   "execution_count": null,
   "metadata": {},
   "outputs": [],
   "source": [
    "# define augmentation\n",
    "seq = iaa.Sequential([\n",
    "    iaa.CoarseDropout(0.5, size_percent=0.001)\n",
    "], random_order=True)"
   ]
  },
  {
   "cell_type": "code",
   "execution_count": null,
   "metadata": {},
   "outputs": [],
   "source": [
    "def generator(crops, classes, batch_size):\n",
    "    i = 0\n",
    "    while True:\n",
    "        x_batch = np.empty((batch_size, 28, 28, 1))\n",
    "        y_batch = np.empty((batch_size, len(classes)))\n",
    "        for index in range(batch_size):\n",
    "            coin = np.random.rand()\n",
    "            if coin > 0.5:\n",
    "                # add a non occluded fish\n",
    "                fish = np.random.choice(crops)\n",
    "                x_batch[index, ...] = np.expand_dims(np.asarray(Image.open(fish).resize((28, 28)))[...,3], axis=2)\n",
    "                y_batch[index, ...] = get_1_hot(0, classes)\n",
    "            else:\n",
    "                # add an occluded fish\n",
    "                coin2 = np.random.rand()\n",
    "                if coin2 > 0.5:\n",
    "                    # either occlude with squares\n",
    "                    fish = np.random.choice(crops)\n",
    "                    x_batch[index, ...] = seq.augment_image(np.expand_dims(np.asarray(Image.open(fish).resize((28, 28)))[...,3], axis=2))\n",
    "                else:\n",
    "                    # or with other fish\n",
    "                    fish1 = np.random.choice(crops)\n",
    "                    fish2 = np.random.choice(crops)\n",
    "                    x_batch[index, ...] = np.expand_dims(occlude(fish1, fish2), axis=2)\n",
    "                y_batch[index, ...] = get_1_hot(1, classes)\n",
    "        yield x_batch, y_batch"
   ]
  },
  {
   "cell_type": "code",
   "execution_count": null,
   "metadata": {},
   "outputs": [],
   "source": [
    "# fish = np.random.choice(crops)\n",
    "# out = seq.augment_image(np.asarray(Image.open(fish).resize((28, 28)))[...,3])\n",
    "# plt.imshow(out)"
   ]
  },
  {
   "cell_type": "code",
   "execution_count": null,
   "metadata": {},
   "outputs": [],
   "source": [
    "# g = generator(crops, classes, 8)"
   ]
  },
  {
   "cell_type": "code",
   "execution_count": null,
   "metadata": {},
   "outputs": [],
   "source": [
    "# xb, yb = g.next()"
   ]
  },
  {
   "cell_type": "code",
   "execution_count": null,
   "metadata": {},
   "outputs": [],
   "source": [
    "# yb"
   ]
  },
  {
   "cell_type": "code",
   "execution_count": null,
   "metadata": {},
   "outputs": [],
   "source": [
    "# import matplotlib.pyplot as plt"
   ]
  },
  {
   "cell_type": "code",
   "execution_count": null,
   "metadata": {},
   "outputs": [],
   "source": [
    "# xb.shape"
   ]
  },
  {
   "cell_type": "code",
   "execution_count": null,
   "metadata": {},
   "outputs": [],
   "source": [
    "# plt.imshow(xb[0, ...,0])"
   ]
  },
  {
   "cell_type": "code",
   "execution_count": null,
   "metadata": {},
   "outputs": [],
   "source": [
    "model = Sequential()\n",
    "model.add(Conv2D(32, kernel_size=(3, 3),\n",
    "                 activation='relu',\n",
    "                 input_shape=input_shape))\n",
    "model.add(Conv2D(64, (3, 3), activation='relu'))\n",
    "model.add(MaxPooling2D(pool_size=(2, 2)))\n",
    "model.add(Dropout(0.25))\n",
    "model.add(Flatten())\n",
    "model.add(Dense(128, activation='relu'))\n",
    "model.add(Dropout(0.5))\n",
    "model.add(Dense(num_classes, activation='softmax'))"
   ]
  },
  {
   "cell_type": "code",
   "execution_count": null,
   "metadata": {},
   "outputs": [],
   "source": [
    "model.compile(loss=keras.losses.categorical_crossentropy,\n",
    "              optimizer=keras.optimizers.Adadelta(),\n",
    "              metrics=['accuracy'])"
   ]
  },
  {
   "cell_type": "code",
   "execution_count": null,
   "metadata": {},
   "outputs": [],
   "source": [
    "train_generator = generator(crops, classes, batch_size)\n",
    "val_generator = generator(crops, classes, batch_size)"
   ]
  },
  {
   "cell_type": "code",
   "execution_count": null,
   "metadata": {
    "scrolled": false
   },
   "outputs": [],
   "source": [
    "model.fit_generator(generator = train_generator, \n",
    "                    steps_per_epoch = len(crops)//batch_size,\n",
    "                    epochs = 20,\n",
    "                    verbose = 1,\n",
    "                    validation_data = val_generator,\n",
    "                    validation_steps = len(crops) // (10*batch_size)\n",
    "                   )"
   ]
  },
  {
   "cell_type": "markdown",
   "metadata": {},
   "source": [
    "# verify"
   ]
  },
  {
   "cell_type": "code",
   "execution_count": null,
   "metadata": {},
   "outputs": [],
   "source": [
    "import matplotlib.pyplot as plt"
   ]
  },
  {
   "cell_type": "code",
   "execution_count": null,
   "metadata": {},
   "outputs": [],
   "source": [
    "fish = np.random.choice(crops)\n",
    "x = np.expand_dims(np.asarray(Image.open(fish).resize((28, 28)))[...,3], axis=2)"
   ]
  },
  {
   "cell_type": "code",
   "execution_count": null,
   "metadata": {},
   "outputs": [],
   "source": [
    "model.predict(np.expand_dims(x, axis=0))"
   ]
  },
  {
   "cell_type": "code",
   "execution_count": null,
   "metadata": {},
   "outputs": [],
   "source": [
    "occ = seq.augment_image(np.expand_dims(np.asarray(Image.open(fish).resize((28, 28)))[...,3], axis=2))"
   ]
  },
  {
   "cell_type": "code",
   "execution_count": null,
   "metadata": {},
   "outputs": [],
   "source": [
    "plt.imshow(np.squeeze(occ))"
   ]
  },
  {
   "cell_type": "code",
   "execution_count": null,
   "metadata": {},
   "outputs": [],
   "source": [
    "model.predict(np.expand_dims(occ, axis=0))"
   ]
  },
  {
   "cell_type": "code",
   "execution_count": null,
   "metadata": {},
   "outputs": [],
   "source": [
    "# score = model.evaluate(x_test, y_test, verbose=0)\n",
    "# print('Test loss:', score[0])\n",
    "# print('Test accuracy:', score[1])"
   ]
  }
 ],
 "metadata": {
  "kernelspec": {
   "display_name": "Python 2",
   "language": "python",
   "name": "python2"
  },
  "language_info": {
   "codemirror_mode": {
    "name": "ipython",
    "version": 2
   },
   "file_extension": ".py",
   "mimetype": "text/x-python",
   "name": "python",
   "nbconvert_exporter": "python",
   "pygments_lexer": "ipython2",
   "version": "2.7.12"
  }
 },
 "nbformat": 4,
 "nbformat_minor": 2
}
