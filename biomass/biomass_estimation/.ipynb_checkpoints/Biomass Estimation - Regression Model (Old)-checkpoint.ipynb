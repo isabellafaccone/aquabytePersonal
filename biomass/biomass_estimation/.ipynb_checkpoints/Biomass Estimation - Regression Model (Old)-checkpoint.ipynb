{
 "cells": [
  {
   "cell_type": "code",
   "execution_count": 2,
   "metadata": {},
   "outputs": [],
   "source": [
    "import OpenEXR\n",
    "import Imath\n",
    "import array\n",
    "from PIL import Image, ImageDraw\n",
    "import numpy as np\n",
    "import json\n",
    "import math\n",
    "from matplotlib import pyplot as plt\n",
    "import pandas as pd\n",
    "FLOAT = Imath.PixelType(Imath.PixelType.FLOAT)\n",
    "%matplotlib inline"
   ]
  },
  {
   "cell_type": "code",
   "execution_count": 3,
   "metadata": {},
   "outputs": [
    {
     "name": "stdout",
     "output_type": "stream",
     "text": [
      "0\n",
      "10\n",
      "20\n",
      "30\n",
      "40\n",
      "50\n",
      "60\n",
      "70\n",
      "80\n",
      "90\n"
     ]
    }
   ],
   "source": [
    "data_dir_base = '/home/ubuntu/thomas/data'\n",
    "annotation_data_list, mask_list, depth_map_list = [], [], []\n",
    "complete_sample_size = 100\n",
    "\n",
    "for idx in range(complete_sample_size):\n",
    "    if idx % 10 == 0:\n",
    "        print idx\n",
    "    # get annotation data\n",
    "    annotation_file_name = 'annot_{}.json'.format(idx)\n",
    "    annotation_file_path = '{}/{}/{}'.format(data_dir_base, 'annotations', annotation_file_name)\n",
    "    annotation_data = json.load(open(annotation_file_path, 'rb'))\n",
    "\n",
    "    # get segmentation data\n",
    "    segmentation_file_name = 'mask_{}.png'.format(idx)\n",
    "    segmentation_file_path = '{}/{}/{}'.format(data_dir_base, 'mask', segmentation_file_name)\n",
    "    mask = np.array(Image.open(segmentation_file_path))\n",
    "\n",
    "    # get depth map data\n",
    "    depth_map_file_name = 'test_{}_28.exr'.format(idx)\n",
    "    depth_map_file_path = '{}/{}/{}'.format(data_dir_base, 'dm', depth_map_file_name)\n",
    "    pixel_data = OpenEXR.InputFile(depth_map_file_path)\n",
    "    (R,G,B) = [array.array('f', pixel_data.channel(chan, FLOAT)).tolist() for chan in (\"R\", \"G\", \"B\") ]\n",
    "    depth_map = np.reshape(np.array(R), mask.shape)\n",
    "    \n",
    "    annotation_data_list.append(annotation_data)\n",
    "    mask_list.append(mask)\n",
    "    depth_map_list.append(depth_map)"
   ]
  },
  {
   "cell_type": "code",
   "execution_count": 4,
   "metadata": {},
   "outputs": [],
   "source": [
    "def convert_to_world_point(x, y, depth_map, mask, annotation_data):\n",
    "    \n",
    "    focal_length = annotation_data['focal_length_mm'] / 10.0\n",
    "    image_sensor_width = annotation_data['sensor_width_mm'] / 10.0\n",
    "    image_sensor_height = annotation_data['sensor_height_mm'] / 10.0\n",
    "    px_count_width = annotation_data['resolution'][0]\n",
    "    px_count_height = annotation_data['resolution'][0]\n",
    "    \n",
    "    image_center_x = mask.shape[1] / 2.0\n",
    "    image_center_y = mask.shape[0] / 2.0\n",
    "    px_x = x - image_center_x\n",
    "    px_z = image_center_y - y\n",
    "    sensor_x = px_x * (image_sensor_width / px_count_width)\n",
    "    sensor_z = px_z * (image_sensor_height / px_count_height)\n",
    "\n",
    "    d = depth_map[y, x]\n",
    "    world_y = d / (math.sqrt(1 + ((sensor_x**2 + sensor_z**2)/(focal_length**2))))\n",
    "    world_x = (world_y * sensor_x) / focal_length\n",
    "    world_z = (world_y * sensor_z) / focal_length\n",
    "    \n",
    "    return (world_x, world_y, world_z)\n",
    "    "
   ]
  },
  {
   "cell_type": "code",
   "execution_count": 5,
   "metadata": {},
   "outputs": [],
   "source": [
    "def distance_between_points(p1, p2):\n",
    "    return math.sqrt((p1[0] - p2[0])**2 + (p1[1] - p2[1])**2 + (p1[2] - p2[2])**2)"
   ]
  },
  {
   "cell_type": "code",
   "execution_count": 6,
   "metadata": {},
   "outputs": [],
   "source": [
    "def get_points_of_interest(mask, depth_map, cutoff):\n",
    "    mask_values = np.where(mask > 0)\n",
    "    x_values = mask_values[1]\n",
    "    y_values = mask_values[0]\n",
    "    adj_y_values = mask.shape[0] - y_values\n",
    "    mask_points = zip(x_values, adj_y_values)\n",
    "\n",
    "    A = np.vstack([x_values, np.ones(len(x_values))]).T\n",
    "    res = np.linalg.lstsq(A,adj_y_values)\n",
    "    m, b = res[0]\n",
    "\n",
    "    # get length endpoints\n",
    "    x_lower = x_values.min()\n",
    "    while x_lower < mask.shape[1]:\n",
    "        adj_y_lower = int(round(m*x_lower + b))\n",
    "        y_lower = mask.shape[0] - 1 - adj_y_lower\n",
    "        if ((x_lower, adj_y_lower) in mask_points and (depth_map[y_lower, x_lower] < cutoff)): \n",
    "            break\n",
    "        x_lower += 1\n",
    "\n",
    "    x_upper = x_values.max()\n",
    "    while x_upper > 0:\n",
    "        adj_y_upper = int(round(m*x_upper + b))\n",
    "        y_upper = mask.shape[0] - 1 - adj_y_upper\n",
    "        if ((x_upper, adj_y_upper) in mask_points and (depth_map[y_upper, x_upper] < cutoff)):\n",
    "            break\n",
    "        x_upper -= 1\n",
    "\n",
    "    y_lower = mask.shape[0] - adj_y_lower\n",
    "    y_upper = mask.shape[0] - adj_y_upper\n",
    "    length_endpoint_1 = (x_lower, y_lower)\n",
    "    length_endpoint_2 = (x_upper, y_upper)\n",
    "\n",
    "    # get width endpoints\n",
    "    m = -1 / float(m)\n",
    "    b = adj_y_values.mean() - m*x_values.mean()\n",
    "\n",
    "    adj_y_lower = adj_y_values.min()\n",
    "    while adj_y_lower < mask.shape[0]:\n",
    "        x_lower = int(round((adj_y_lower - b)/float(m)))\n",
    "        y_lower = mask.shape[0] - 1 - adj_y_lower\n",
    "        if ((x_lower, adj_y_lower) in mask_points and (depth_map[y_lower, x_lower] < cutoff)):\n",
    "            break\n",
    "        adj_y_lower += 1\n",
    "\n",
    "\n",
    "    adj_y_upper = adj_y_values.max()\n",
    "    while adj_y_upper > 0:\n",
    "        x_upper = int(round((adj_y_upper - b)/float(m)))\n",
    "        y_upper = mask.shape[0] - 1 - adj_y_upper\n",
    "        if ((x_upper, adj_y_upper) in mask_points and (depth_map[y_upper, x_upper] < cutoff)):\n",
    "            break\n",
    "        adj_y_upper -= 1\n",
    "\n",
    "    # y_lower = mask.shape[0] - 1 - adj_y_lower\n",
    "    # y_upper = mask.shape[0] - 1 - adj_y_upper\n",
    "    width_endpoint_1 = (x_lower, y_lower)\n",
    "    width_endpoint_2 = (x_upper, y_upper)\n",
    "\n",
    "    # get centroid coordinates\n",
    "    x_centroid = mask_values[1].mean()\n",
    "    y_centroid = mask_values[0].mean()\n",
    "    centroid = (x_centroid, y_centroid)\n",
    "    \n",
    "    return length_endpoint_1, length_endpoint_2, width_endpoint_1, width_endpoint_2, centroid"
   ]
  },
  {
   "cell_type": "code",
   "execution_count": 7,
   "metadata": {},
   "outputs": [
    {
     "name": "stdout",
     "output_type": "stream",
     "text": [
      "0\n",
      "10\n",
      "20\n"
     ]
    },
    {
     "ename": "IndexError",
     "evalue": "index 0 is out of bounds for axis 0 with size 0",
     "output_type": "error",
     "traceback": [
      "\u001b[0;31m---------------------------------------------------------------------------\u001b[0m",
      "\u001b[0;31mIndexError\u001b[0m                                Traceback (most recent call last)",
      "\u001b[0;32m<ipython-input-7-22a086efd4e1>\u001b[0m in \u001b[0;36m<module>\u001b[0;34m()\u001b[0m\n\u001b[1;32m      8\u001b[0m \u001b[0;34m\u001b[0m\u001b[0m\n\u001b[1;32m      9\u001b[0m     \u001b[0mhist_counts\u001b[0m\u001b[0;34m,\u001b[0m \u001b[0mhist_bucket_endpoints\u001b[0m \u001b[0;34m=\u001b[0m \u001b[0mnp\u001b[0m\u001b[0;34m.\u001b[0m\u001b[0mhistogram\u001b[0m\u001b[0;34m(\u001b[0m\u001b[0mdepth_map\u001b[0m\u001b[0;34m[\u001b[0m\u001b[0mnp\u001b[0m\u001b[0;34m.\u001b[0m\u001b[0mwhere\u001b[0m\u001b[0;34m(\u001b[0m\u001b[0mmask\u001b[0m \u001b[0;34m>\u001b[0m \u001b[0;36m0\u001b[0m\u001b[0;34m)\u001b[0m\u001b[0;34m]\u001b[0m\u001b[0;34m)\u001b[0m\u001b[0;34m\u001b[0m\u001b[0m\n\u001b[0;32m---> 10\u001b[0;31m     \u001b[0mcutoff_idx\u001b[0m \u001b[0;34m=\u001b[0m \u001b[0mnp\u001b[0m\u001b[0;34m.\u001b[0m\u001b[0mwhere\u001b[0m\u001b[0;34m(\u001b[0m\u001b[0mhist_counts\u001b[0m \u001b[0;34m==\u001b[0m \u001b[0;36m0\u001b[0m\u001b[0;34m)\u001b[0m\u001b[0;34m[\u001b[0m\u001b[0;36m0\u001b[0m\u001b[0;34m]\u001b[0m\u001b[0;34m[\u001b[0m\u001b[0;36m0\u001b[0m\u001b[0;34m]\u001b[0m\u001b[0;34m\u001b[0m\u001b[0m\n\u001b[0m\u001b[1;32m     11\u001b[0m     \u001b[0mcutoff\u001b[0m \u001b[0;34m=\u001b[0m \u001b[0mhist_bucket_endpoints\u001b[0m\u001b[0;34m[\u001b[0m\u001b[0mcutoff_idx\u001b[0m\u001b[0;34m]\u001b[0m\u001b[0;34m\u001b[0m\u001b[0m\n\u001b[1;32m     12\u001b[0m \u001b[0;34m\u001b[0m\u001b[0m\n",
      "\u001b[0;31mIndexError\u001b[0m: index 0 is out of bounds for axis 0 with size 0"
     ]
    }
   ],
   "source": [
    "df = pd.DataFrame()\n",
    "for idx in range(100):\n",
    "    if idx % 10 == 0:\n",
    "        print idx\n",
    "    depth_map = depth_map_list[idx]\n",
    "    mask = mask_list[idx]\n",
    "    annotation_data = annotation_data_list[idx]\n",
    "    \n",
    "    hist_counts, hist_bucket_endpoints = np.histogram(depth_map[np.where(mask > 0)])\n",
    "    cutoff_idx = np.where(hist_counts == 0)[0][0]\n",
    "    cutoff = hist_bucket_endpoints[cutoff_idx]\n",
    "\n",
    "    length_endpoint_1, length_endpoint_2, width_endpoint_1, width_endpoint_2, centroid = get_points_of_interest(mask, depth_map, cutoff)\n",
    "    \n",
    "    \n",
    "    length_endpoint_1_world = convert_to_world_point(length_endpoint_1[0], length_endpoint_1[1], depth_map, mask, annotation_data)\n",
    "    length_endpoint_2_world = convert_to_world_point(length_endpoint_2[0], length_endpoint_2[1], depth_map, mask, annotation_data)\n",
    "    width_endpoint_1_world = convert_to_world_point(width_endpoint_1[0], width_endpoint_1[1], depth_map, mask, annotation_data)\n",
    "    width_endpoint_2_world = convert_to_world_point(width_endpoint_2[0], width_endpoint_2[1], depth_map, mask, annotation_data)\n",
    "    centroid_world = convert_to_world_point(int(round(centroid[0])), int(round(centroid[1])), depth_map, mask, annotation_data)\n",
    "\n",
    "    length = distance_between_points(length_endpoint_1_world, length_endpoint_2_world)\n",
    "    width = distance_between_points(width_endpoint_1_world, width_endpoint_2_world)\n",
    "    line_to_append = {\n",
    "        'length': length,\n",
    "        'width': width,\n",
    "        'ground_truth_length': annotation_data['length'],\n",
    "        'ground_truth_width': annotation_data['height'],\n",
    "        'ground_truth_volume': annotation_data['volume']\n",
    "    }\n",
    "    df = df.append(line_to_append, ignore_index=True)\n",
    "    "
   ]
  },
  {
   "cell_type": "code",
   "execution_count": null,
   "metadata": {},
   "outputs": [],
   "source": [
    "df['length_squared'] = df['length']**2\n",
    "df['width_squared'] = df['width']**2"
   ]
  },
  {
   "cell_type": "markdown",
   "metadata": {},
   "source": [
    "<h1> Train simple linear regression model </h1>"
   ]
  },
  {
   "cell_type": "code",
   "execution_count": null,
   "metadata": {},
   "outputs": [],
   "source": [
    "in_sample_boundary = 50\n",
    "in_sample_mask = df.idx <= in_sample_boundary\n",
    "features = ['length_squared', 'width']\n",
    "targets = ['ground_truth_volume']\n",
    "A = df[in_sample_mask, features].values\n",
    "b = df[~in_sample_mask, targets\n",
    "np.linalg.lstsq()\n"
   ]
  },
  {
   "cell_type": "code",
   "execution_count": 9,
   "metadata": {},
   "outputs": [
    {
     "data": {
      "text/plain": [
       "(array([11624,   313,    51,  1305,  1906,  2377,  2499, 17536, 12486,\n",
       "         6478]), array([ 88.6489563 , 115.76695557, 142.88495483, 170.0029541 ,\n",
       "        197.12095337, 224.23895264, 251.3569519 , 278.47495117,\n",
       "        305.59295044, 332.71094971, 359.82894897]))"
      ]
     },
     "execution_count": 9,
     "metadata": {},
     "output_type": "execute_result"
    }
   ],
   "source": [
    "hist_counts, hist_bucket_endpoints"
   ]
  },
  {
   "cell_type": "code",
   "execution_count": 10,
   "metadata": {},
   "outputs": [
    {
     "data": {
      "text/plain": [
       "24"
      ]
     },
     "execution_count": 10,
     "metadata": {},
     "output_type": "execute_result"
    }
   ],
   "source": []
  },
  {
   "cell_type": "code",
   "execution_count": null,
   "metadata": {},
   "outputs": [],
   "source": []
  },
  {
   "cell_type": "code",
   "execution_count": null,
   "metadata": {},
   "outputs": [],
   "source": []
  },
  {
   "cell_type": "code",
   "execution_count": null,
   "metadata": {},
   "outputs": [],
   "source": []
  },
  {
   "cell_type": "code",
   "execution_count": null,
   "metadata": {},
   "outputs": [],
   "source": []
  },
  {
   "cell_type": "code",
   "execution_count": null,
   "metadata": {},
   "outputs": [],
   "source": []
  },
  {
   "cell_type": "code",
   "execution_count": null,
   "metadata": {},
   "outputs": [],
   "source": []
  },
  {
   "cell_type": "code",
   "execution_count": null,
   "metadata": {},
   "outputs": [],
   "source": []
  },
  {
   "cell_type": "code",
   "execution_count": null,
   "metadata": {},
   "outputs": [],
   "source": []
  },
  {
   "cell_type": "code",
   "execution_count": null,
   "metadata": {},
   "outputs": [],
   "source": []
  },
  {
   "cell_type": "code",
   "execution_count": null,
   "metadata": {},
   "outputs": [],
   "source": []
  },
  {
   "cell_type": "code",
   "execution_count": null,
   "metadata": {},
   "outputs": [],
   "source": []
  },
  {
   "cell_type": "code",
   "execution_count": null,
   "metadata": {},
   "outputs": [],
   "source": []
  },
  {
   "cell_type": "code",
   "execution_count": null,
   "metadata": {},
   "outputs": [],
   "source": []
  },
  {
   "cell_type": "code",
   "execution_count": null,
   "metadata": {},
   "outputs": [],
   "source": []
  },
  {
   "cell_type": "code",
   "execution_count": null,
   "metadata": {},
   "outputs": [],
   "source": []
  },
  {
   "cell_type": "code",
   "execution_count": null,
   "metadata": {},
   "outputs": [],
   "source": []
  }
 ],
 "metadata": {
  "kernelspec": {
   "display_name": "Python 2",
   "language": "python",
   "name": "python2"
  },
  "language_info": {
   "codemirror_mode": {
    "name": "ipython",
    "version": 2
   },
   "file_extension": ".py",
   "mimetype": "text/x-python",
   "name": "python",
   "nbconvert_exporter": "python",
   "pygments_lexer": "ipython2",
   "version": "2.7.14"
  }
 },
 "nbformat": 4,
 "nbformat_minor": 2
}
