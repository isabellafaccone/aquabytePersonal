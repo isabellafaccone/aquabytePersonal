{
 "cells": [
  {
   "cell_type": "code",
   "execution_count": null,
   "metadata": {},
   "outputs": [],
   "source": [
    "%load_ext autoreload\n",
    "%autoreload 2\n",
    "\n",
    "from collections import defaultdict\n",
    "\n",
    "import json\n",
    "import os\n",
    "import cv2\n",
    "from matplotlib import pyplot as plt\n",
    "import numpy as np\n",
    "import pandas as pd\n",
    "from PIL import Image, ImageDraw\n",
    "from research.utils.data_access_utils import S3AccessUtils, RDSAccessUtils\n",
    "from research.weight_estimation.keypoint_utils.body_parts import BodyParts\n",
    "from research.utils.image_utils import Picture\n",
    "from research.weight_estimation.keypoint_utils.akpr import get_homography_and_matches, generate_sift_adjustment\n",
    "\n",
    "pd.set_option('display.max_rows', 500)"
   ]
  },
  {
   "cell_type": "code",
   "execution_count": null,
   "metadata": {},
   "outputs": [],
   "source": []
  },
  {
   "cell_type": "code",
   "execution_count": null,
   "metadata": {},
   "outputs": [],
   "source": [
    "body_parts = BodyParts().get_core_body_parts()\n",
    "s3_access_utils = S3AccessUtils('/root/data')\n",
    "modified_anns = []\n",
    "\n",
    "rds_access_utils = RDSAccessUtils(json.load(open(os.environ['PROD_SQL_CREDENTIALS'])))\n",
    "\n",
    "query = \"\"\"\n",
    "    SELECT * FROM keypoint_annotations\n",
    "    WHERE pen_id=5\n",
    "    AND captured_at BETWEEN '2019-06-05' AND '2019-07-02'\n",
    "    AND keypoints is not null\n",
    "    AND keypoints -> 'leftCrop' is not null\n",
    "    AND keypoints -> 'rightCrop' is not null\n",
    "    AND is_qa = FALSE;\n",
    "\"\"\"\n",
    "\n",
    "df = rds_access_utils.extract_from_database(query)"
   ]
  },
  {
   "cell_type": "code",
   "execution_count": null,
   "metadata": {},
   "outputs": [],
   "source": [
    "body_parts = BodyParts().get_core_body_parts()\n",
    "s3_access_utils = S3AccessUtils('/root/data')\n",
    "modified_anns = []\n",
    "\n",
    "rds_access_utils = RDSAccessUtils(json.load(open(os.environ['PROD_SQL_CREDENTIALS'])))\n",
    "\n",
    "query = \"\"\"\n",
    "    SELECT * FROM keypoint_annotations\n",
    "    WHERE pen_id=5\n",
    "    AND captured_at BETWEEN '2019-06-05' AND '2019-07-02'\n",
    "    AND keypoints is not null\n",
    "    AND keypoints -> 'leftCrop' is not null\n",
    "    AND keypoints -> 'rightCrop' is not null\n",
    "    AND is_qa = TRUE;\n",
    "\"\"\"\n",
    "\n",
    "df = rds_access_utils.extract_from_database(query)"
   ]
  },
  {
   "cell_type": "code",
   "execution_count": null,
   "metadata": {},
   "outputs": [],
   "source": []
  },
  {
   "cell_type": "code",
   "execution_count": null,
   "metadata": {},
   "outputs": [],
   "source": []
  },
  {
   "cell_type": "code",
   "execution_count": null,
   "metadata": {},
   "outputs": [],
   "source": []
  },
  {
   "cell_type": "code",
   "execution_count": null,
   "metadata": {},
   "outputs": [],
   "source": [
    "modified_anns = []\n",
    "count = 0\n",
    "analysis_data = defaultdict(list)\n",
    "for idx, row in df.iterrows():\n",
    "    print(count)\n",
    "    count += 1\n",
    "    # get annotation information\n",
    "    ann = row.keypoints\n",
    "    left_kps_frame = {item['keypointType']: [item['xFrame'], item['yFrame']] for item in ann['leftCrop']}\n",
    "    right_kps_frame = {item['keypointType']: [item['xFrame'], item['yFrame']] for item in ann['rightCrop']}\n",
    "    left_kps = {item['keypointType']: [item['xCrop'], item['yCrop']] for item in ann['leftCrop']}\n",
    "    right_kps = {item['keypointType']: [item['xCrop'], item['yCrop']] for item in ann['rightCrop']}\n",
    "\n",
    "    # get image information and metadata\n",
    "    left_crop_url, right_crop_url = row.left_image_url, row.right_image_url\n",
    "    left_crop_metadata, right_crop_metadata = row.left_crop_metadata, row.right_crop_metadata\n",
    "\n",
    "    modified_ann = generate_sift_adjusted_ann(body_parts, left_crop_metadata, left_crop_url, left_kps,\n",
    "                                              right_crop_metadata, right_crop_url, right_kps, s3_access_utils)\n",
    "    \n",
    "\n",
    "    \n",
    "        \n",
    "    \n"
   ]
  },
  {
   "cell_type": "code",
   "execution_count": null,
   "metadata": {},
   "outputs": [],
   "source": []
  },
  {
   "cell_type": "code",
   "execution_count": null,
   "metadata": {},
   "outputs": [],
   "source": [
    "count = 0\n",
    "keypoint_data, analysis_data = defaultdict(list), defaultdict(list)\n",
    "adj_anns = []\n",
    "for idx, row in df.head(1000).iterrows():\n",
    "    print(count)\n",
    "    count += 1\n",
    "    \n",
    "    # get image information and metadata\n",
    "    left_crop_url, right_crop_url = row.left_image_url, row.right_image_url\n",
    "    left_crop_metadata, right_crop_metadata = row.left_crop_metadata, row.right_crop_metadata\n",
    "    \n",
    "    # get keypoint coordinates\n",
    "    ann = row.keypoints\n",
    "    left_kps_frame = {item['keypointType']: np.array([item['xFrame'], item['yFrame']]) for item in ann['leftCrop']}\n",
    "    right_kps_frame = {item['keypointType']: np.array([item['xFrame'], item['yFrame']]) for item in ann['rightCrop']}\n",
    "    left_kps = {item['keypointType']: np.array([item['xCrop'], item['yCrop']]) for item in ann['leftCrop']}\n",
    "    right_kps = {item['keypointType']: np.array([item['xCrop'], item['yCrop']]) for item in ann['rightCrop']}\n",
    "    \n",
    "    # jitter keypoints\n",
    "    jitter_magnitude = 15\n",
    "    jittered_left_kps = {bp: left_kps[bp] + np.array([int(np.random.normal(0, jitter_magnitude)), 0]) for bp in left_kps.keys()}\n",
    "    jittered_right_kps = {bp: right_kps[bp] + np.array([int(np.random.normal(0, jitter_magnitude)), 0]) for bp in right_kps.keys()}\n",
    "    jittered_left_kps_frame = {bp: jittered_left_kps[bp] + np.array([left_crop_metadata['x_coord'], left_crop_metadata['y_coord']]) \n",
    "                               for bp in body_parts}\n",
    "    jittered_right_kps_frame = {bp: jittered_right_kps[bp] + np.array([right_crop_metadata['x_coord'], right_crop_metadata['y_coord']]) \n",
    "                               for bp in body_parts}\n",
    "    \n",
    "\n",
    "    left_fish_picture = Picture(s3_access_utils=s3_access_utils, image_url=left_crop_url)\n",
    "    right_fish_picture = Picture(s3_access_utils=s3_access_utils, image_url=right_crop_url)\n",
    "    left_fish_picture.enhance(in_place=True)\n",
    "    right_fish_picture.enhance(in_place=True)\n",
    "    sift = cv2.KAZE_create()\n",
    "    left_items, right_items = [], []\n",
    "    for bp in body_parts:\n",
    "        \n",
    "        try:\n",
    "            left_item, right_item, num_matches = generate_sift_adjustment(bp, left_crop_metadata, left_fish_picture,\n",
    "                                                                          jittered_left_kps, right_crop_metadata,\n",
    "                                                                          right_fish_picture, jittered_right_kps, sift)\n",
    "        except:\n",
    "            continue\n",
    "        left_items.append(left_item)\n",
    "        right_items.append(right_item)\n",
    "        \n",
    "        original_disp = abs(left_kps_frame[bp][0] - right_kps_frame[bp][0])\n",
    "        jittered_disp = abs(jittered_left_kps_frame[bp][0] - jittered_right_kps_frame[bp][0])\n",
    "        adj_disp = abs(left_item['xFrame'] - right_item['xFrame'])\n",
    "        \n",
    "        analysis_data['kpid'].append(row.id)\n",
    "        analysis_data['body_part'].append(bp)\n",
    "        analysis_data['original_disp'].append(original_disp)\n",
    "        analysis_data['jittered_disp'].append(jittered_disp)\n",
    "        analysis_data['adj_disp'].append(adj_disp)\n",
    "        analysis_data['num_matches'].append(num_matches)\n",
    "    \n",
    "    adj_ann = {\n",
    "        'leftCrop': left_items,\n",
    "        'rightCrop': right_items\n",
    "    }\n",
    "    keypoint_data['kpid'].append(row.id)\n",
    "    keypoint_data['left_crop_url'].append(left_crop_url)\n",
    "    keypoint_data['right_crop_url'].append(right_crop_url)\n",
    "    keypoint_data['ann'].append(ann)\n",
    "    keypoint_data['adj_ann'].append(adj_ann)\n",
    "    \n",
    "    \n",
    "analysis_df = pd.DataFrame(analysis_data)\n",
    "keypoint_df = pd.DataFrame(keypoint_data)\n",
    "\n",
    "    "
   ]
  },
  {
   "cell_type": "code",
   "execution_count": null,
   "metadata": {},
   "outputs": [],
   "source": []
  },
  {
   "cell_type": "code",
   "execution_count": null,
   "metadata": {},
   "outputs": [],
   "source": []
  },
  {
   "cell_type": "code",
   "execution_count": null,
   "metadata": {},
   "outputs": [],
   "source": []
  },
  {
   "cell_type": "code",
   "execution_count": null,
   "metadata": {},
   "outputs": [],
   "source": []
  },
  {
   "cell_type": "code",
   "execution_count": null,
   "metadata": {},
   "outputs": [],
   "source": [
    "kpid = 241971\n",
    "row = keypoint_df[keypoint_df.kpid == kpid].iloc[0]\n",
    "left_crop_url, right_crop_url, ann, adj_ann = row.left_crop_url, row.right_crop_url, row.ann, row.adj_ann\n",
    "left_picture, right_picture = Picture(s3_access_utils=s3_access_utils, image_url=left_crop_url), \\\n",
    "                              Picture(s3_access_utils=s3_access_utils, image_url=right_crop_url)\n",
    "left_crop_image, right_crop_image = left_picture.get_image(), right_picture.get_image()\n",
    "left_draw, right_draw = ImageDraw.Draw(left_crop_image), ImageDraw.Draw(right_crop_image)\n",
    "\n",
    "r = 5\n",
    "for item in ann['leftCrop']:\n",
    "    x, y = item['xCrop'], item['yCrop']\n",
    "    left_draw.ellipse((x - r, y - r, x + r, y + r), fill='red', outline='red')\n",
    "for item in ann['rightCrop']:\n",
    "    x, y = item['xCrop'], item['yCrop']\n",
    "    right_draw.ellipse((x - r, y - r, x + r, y + r), fill='red', outline='red')\n",
    "\n",
    "for item in adj_ann['leftCrop']:\n",
    "    x, y = item['xCrop'], item['yCrop']\n",
    "    left_draw.ellipse((x - r, y - r, x + r, y + r), fill='green', outline='green')\n",
    "for item in adj_ann['rightCrop']:\n",
    "    x, y = item['xCrop'], item['yCrop']\n",
    "    right_draw.ellipse((x - r, y - r, x + r, y + r), fill='green', outline='green')\n",
    "\n",
    "    \n",
    "left_crop_image\n"
   ]
  },
  {
   "cell_type": "code",
   "execution_count": null,
   "metadata": {},
   "outputs": [],
   "source": [
    "right_crop_image"
   ]
  },
  {
   "cell_type": "code",
   "execution_count": null,
   "metadata": {},
   "outputs": [],
   "source": []
  },
  {
   "cell_type": "code",
   "execution_count": null,
   "metadata": {},
   "outputs": [],
   "source": []
  },
  {
   "cell_type": "code",
   "execution_count": null,
   "metadata": {},
   "outputs": [],
   "source": []
  },
  {
   "cell_type": "code",
   "execution_count": null,
   "metadata": {},
   "outputs": [],
   "source": []
  },
  {
   "cell_type": "code",
   "execution_count": null,
   "metadata": {},
   "outputs": [],
   "source": []
  },
  {
   "cell_type": "code",
   "execution_count": null,
   "metadata": {},
   "outputs": [],
   "source": []
  },
  {
   "cell_type": "code",
   "execution_count": null,
   "metadata": {},
   "outputs": [],
   "source": []
  },
  {
   "cell_type": "code",
   "execution_count": null,
   "metadata": {},
   "outputs": [],
   "source": []
  },
  {
   "cell_type": "code",
   "execution_count": null,
   "metadata": {},
   "outputs": [],
   "source": []
  },
  {
   "cell_type": "code",
   "execution_count": null,
   "metadata": {},
   "outputs": [],
   "source": []
  },
  {
   "cell_type": "code",
   "execution_count": null,
   "metadata": {},
   "outputs": [],
   "source": []
  },
  {
   "cell_type": "code",
   "execution_count": null,
   "metadata": {},
   "outputs": [],
   "source": []
  },
  {
   "cell_type": "code",
   "execution_count": null,
   "metadata": {},
   "outputs": [],
   "source": []
  },
  {
   "cell_type": "code",
   "execution_count": null,
   "metadata": {},
   "outputs": [],
   "source": [
    "fig, axes = plt.subplots(3, 3, figsize=(20, 20))\n",
    "for idx, bp in enumerate(body_parts):\n",
    "    \n",
    "    row = idx // 3\n",
    "    col = idx % 3\n",
    "    \n",
    "    bp_mask = analysis_df.body_part == bp\n",
    "    behavior_mask = (analysis_df.num_matches > 20) & (abs(analysis_df.original_disp - analysis_df.adj_disp) < 100)\n",
    "    \n",
    "    ax = axes[row, col]\n",
    "    ax.hist(analysis_df[bp_mask].jittered_disp - analysis_df[bp_mask].original_disp, bins=50, color='red', alpha=0.6)\n",
    "    ax.hist(analysis_df[bp_mask & behavior_mask].adj_disp - analysis_df[bp_mask & behavior_mask].original_disp, bins=50, color='blue', alpha=0.6)\n",
    "    ax.grid()\n",
    "    ax.set_title('Body part: {}'.format(bp))\n",
    "plt.show()"
   ]
  },
  {
   "cell_type": "code",
   "execution_count": null,
   "metadata": {},
   "outputs": [],
   "source": []
  },
  {
   "cell_type": "code",
   "execution_count": null,
   "metadata": {},
   "outputs": [],
   "source": []
  },
  {
   "cell_type": "code",
   "execution_count": null,
   "metadata": {},
   "outputs": [],
   "source": []
  },
  {
   "cell_type": "code",
   "execution_count": null,
   "metadata": {},
   "outputs": [],
   "source": []
  },
  {
   "cell_type": "code",
   "execution_count": null,
   "metadata": {},
   "outputs": [],
   "source": []
  },
  {
   "cell_type": "code",
   "execution_count": null,
   "metadata": {},
   "outputs": [],
   "source": []
  },
  {
   "cell_type": "code",
   "execution_count": null,
   "metadata": {},
   "outputs": [],
   "source": []
  },
  {
   "cell_type": "code",
   "execution_count": null,
   "metadata": {},
   "outputs": [],
   "source": []
  },
  {
   "cell_type": "code",
   "execution_count": null,
   "metadata": {},
   "outputs": [],
   "source": []
  },
  {
   "cell_type": "code",
   "execution_count": null,
   "metadata": {},
   "outputs": [],
   "source": []
  },
  {
   "cell_type": "code",
   "execution_count": null,
   "metadata": {},
   "outputs": [],
   "source": []
  }
 ],
 "metadata": {
  "kernelspec": {
   "display_name": "Python 3",
   "language": "python",
   "name": "python3"
  },
  "language_info": {
   "codemirror_mode": {
    "name": "ipython",
    "version": 3
   },
   "file_extension": ".py",
   "mimetype": "text/x-python",
   "name": "python",
   "nbconvert_exporter": "python",
   "pygments_lexer": "ipython3"
  }
 },
 "nbformat": 4,
 "nbformat_minor": 4
}
