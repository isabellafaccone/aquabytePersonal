{
 "cells": [
  {
   "cell_type": "code",
   "execution_count": null,
   "metadata": {},
   "outputs": [],
   "source": [
    "%load_ext autoreload\n",
    "%autoreload 2\n",
    "\n",
    "from collections import defaultdict\n",
    "\n",
    "import json\n",
    "import os\n",
    "import cv2\n",
    "from matplotlib import pyplot as plt\n",
    "import numpy as np\n",
    "import pandas as pd\n",
    "from PIL import Image, ImageDraw\n",
    "from research.utils.data_access_utils import S3AccessUtils, RDSAccessUtils\n",
    "from research.weight_estimation.keypoint_utils.body_parts import BodyParts\n",
    "from research.utils.image_utils import Picture\n",
    "from research.weight_estimation.keypoint_utils.akpr import get_homography_and_matches, generate_sift_adjustment\n",
    "\n",
    "pd.set_option('display.max_rows', 500)\n",
    "pd.set_option('display.max_colwidth', 500)"
   ]
  },
  {
   "cell_type": "code",
   "execution_count": null,
   "metadata": {},
   "outputs": [],
   "source": []
  },
  {
   "cell_type": "code",
   "execution_count": null,
   "metadata": {},
   "outputs": [],
   "source": [
    "body_parts = BodyParts().get_core_body_parts()\n",
    "s3_access_utils = S3AccessUtils('/root/data')\n",
    "rds_access_utils = RDSAccessUtils(json.load(open(os.environ['PROD_SQL_CREDENTIALS'])))\n",
    "\n",
    "query = \"\"\"\n",
    "    SELECT * FROM keypoint_annotations\n",
    "    WHERE pen_id=5\n",
    "    AND captured_at BETWEEN '2019-06-05' AND '2019-07-02'\n",
    "    AND keypoints is not null\n",
    "    AND keypoints -> 'leftCrop' is not null\n",
    "    AND keypoints -> 'rightCrop' is not null\n",
    "    AND is_qa = TRUE;\n",
    "\"\"\"\n",
    "\n",
    "mdf = rds_access_utils.extract_from_database(query)\n",
    "print('Manual dataframe loaded!')\n",
    "\n",
    "adf = pd.concat([\n",
    "    pd.read_csv('/root/data/alok/biomass_estimation/playground/output-pen=5/biomass_output,pen=5,range=(2019-06-05,2019-06-12).csv'),\n",
    "    pd.read_csv('/root/data/alok/biomass_estimation/playground/output-pen=5/biomass_output,pen=5,range=(2019-06-12,2019-06-19).csv'),\n",
    "    pd.read_csv('/root/data/alok/biomass_estimation/playground/output-pen=5/biomass_output,pen=5,range=(2019-06-19,2019-06-26).csv'),\n",
    "    pd.read_csv('/root/data/alok/biomass_estimation/playground/output-pen=5/biomass_output,pen=5,range=(2019-06-26,2019-07-03).csv'),\n",
    "    pd.read_csv('/root/data/alok/biomass_estimation/playground/output-pen=5/biomass_output,pen=5,range=(2019-07-03,2019-07-04).csv')\n",
    "])\n",
    "\n",
    "adf = adf[adf.akpd_score > 0.9].copy(deep=True)\n",
    "print('AKPD dataframe loaded!')\n",
    "\n",
    "url_intersection = sorted(list(set(mdf.left_image_url).intersection(adf.left_crop_url)))\n",
    "df = adf[adf.left_crop_url.isin(url_intersection)].sort_values('left_crop_url')\n",
    "df['manual_keypoints'] = mdf[mdf.left_image_url.isin(url_intersection)].sort_values('left_image_url').keypoints.values\n",
    "df['camera_metadata'] = mdf[mdf.left_image_url.isin(url_intersection)].sort_values('left_image_url').camera_metadata.values\n",
    "df['left_crop_metadata'] = mdf[mdf.left_image_url.isin(url_intersection)].sort_values('left_image_url').left_crop_metadata.values\n",
    "df['right_crop_metadata'] = mdf[mdf.left_image_url.isin(url_intersection)].sort_values('left_image_url').right_crop_metadata.values\n",
    "\n",
    "\n",
    "\n",
    "df = df.sort_values('captured_at')\n",
    "df['estimated_weight_g'] = df.weight\n",
    "df.index = pd.to_datetime(df.captured_at)\n",
    "print('Manual and AKPD Dataframes Joined')"
   ]
  },
  {
   "cell_type": "code",
   "execution_count": null,
   "metadata": {},
   "outputs": [],
   "source": []
  },
  {
   "cell_type": "code",
   "execution_count": null,
   "metadata": {},
   "outputs": [],
   "source": [
    "idx = 0\n",
    "row = df.iloc[idx]\n",
    "left_picture = Picture(s3_access_utils=s3_access_utils, image_url=row.left_crop_url)\n",
    "left_picture.enhance()\n",
    "left_image = left_picture.get_image()"
   ]
  },
  {
   "cell_type": "code",
   "execution_count": null,
   "metadata": {},
   "outputs": [],
   "source": []
  },
  {
   "cell_type": "code",
   "execution_count": null,
   "metadata": {},
   "outputs": [],
   "source": [
    "left_image_arr = left_picture.get_image_arr()\n",
    "blurred = cv2.GaussianBlur(left_image_arr, (21, 21), 0)\n",
    "sharpened = cv2.addWeighted(left_image_arr, 2.0, blurred, -1.0, 0)\n",
    "\n"
   ]
  },
  {
   "cell_type": "code",
   "execution_count": null,
   "metadata": {},
   "outputs": [],
   "source": [
    "Image.fromarray(cv2.GaussianBlur(sharpened, (3, 3), 0))"
   ]
  },
  {
   "cell_type": "code",
   "execution_count": null,
   "metadata": {},
   "outputs": [],
   "source": [
    "left_image"
   ]
  },
  {
   "cell_type": "code",
   "execution_count": null,
   "metadata": {},
   "outputs": [],
   "source": []
  },
  {
   "cell_type": "code",
   "execution_count": null,
   "metadata": {},
   "outputs": [],
   "source": []
  },
  {
   "cell_type": "code",
   "execution_count": null,
   "metadata": {},
   "outputs": [],
   "source": []
  },
  {
   "cell_type": "code",
   "execution_count": null,
   "metadata": {},
   "outputs": [],
   "source": []
  }
 ],
 "metadata": {
  "kernelspec": {
   "display_name": "Python 3",
   "language": "python",
   "name": "python3"
  },
  "language_info": {
   "codemirror_mode": {
    "name": "ipython",
    "version": 3
   },
   "file_extension": ".py",
   "mimetype": "text/x-python",
   "name": "python",
   "nbconvert_exporter": "python",
   "pygments_lexer": "ipython3"
  }
 },
 "nbformat": 4,
 "nbformat_minor": 2
}
