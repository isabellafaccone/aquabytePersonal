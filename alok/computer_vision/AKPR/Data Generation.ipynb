{
 "cells": [
  {
   "cell_type": "code",
   "execution_count": null,
   "metadata": {},
   "outputs": [],
   "source": [
    "import json\n",
    "import glob\n",
    "import json\n",
    "import os\n",
    "import cv2\n",
    "import numpy as np\n",
    "from PIL import Image, ImageDraw\n",
    "from research.utils.data_access_utils import S3AccessUtils, RDSAccessUtils\n"
   ]
  },
  {
   "cell_type": "markdown",
   "metadata": {},
   "source": [
    "<h1> Get base dataset from production database </h1>"
   ]
  },
  {
   "cell_type": "code",
   "execution_count": null,
   "metadata": {},
   "outputs": [],
   "source": [
    "s3_access_utils = S3AccessUtils('/root/data')\n",
    "rds_access_utils = RDSAccessUtils(json.load(open(os.environ['PROD_SQL_CREDENTIALS'])))\n",
    "query = \"\"\"\n",
    "    SELECT * FROM keypoint_annotations\n",
    "    WHERE pen_id=5 \n",
    "    AND keypoints -> 'leftCrop' is not null\n",
    "    AND keypoints -> 'rightCrop' is not null\n",
    "    LIMIT 10;\n",
    "\"\"\"\n",
    "\n",
    "df = rds_access_utils.extract_from_database(query)\n",
    "df.head()"
   ]
  },
  {
   "cell_type": "code",
   "execution_count": null,
   "metadata": {},
   "outputs": [],
   "source": []
  },
  {
   "cell_type": "markdown",
   "metadata": {},
   "source": [
    "<h1> Generate full-res crops and labels around body part </h1>"
   ]
  },
  {
   "cell_type": "code",
   "execution_count": null,
   "metadata": {},
   "outputs": [],
   "source": [
    "def enhance(image, clip_limit=5):\n",
    "    # convert image to LAB color model\n",
    "    image_lab = cv2.cvtColor(image, cv2.COLOR_BGR2LAB)\n",
    "\n",
    "    # split the image into L, A, and B channels\n",
    "    l_channel, a_channel, b_channel = cv2.split(image_lab)\n",
    "\n",
    "    # apply CLAHE to lightness channel\n",
    "    clahe = cv2.createCLAHE(clipLimit=clip_limit, tileGridSize=(8, 8))\n",
    "    cl = clahe.apply(l_channel)\n",
    "\n",
    "    # merge the CLAHE enhanced L channel with the original A and B channel\n",
    "    merged_channels = cv2.merge((cl, a_channel, b_channel))\n",
    "\n",
    "    # convert image from LAB color model back to RGB color model\n",
    "    final_image = cv2.cvtColor(merged_channels, cv2.COLOR_LAB2BGR)\n",
    "    return final_image\n"
   ]
  },
  {
   "cell_type": "code",
   "execution_count": null,
   "metadata": {},
   "outputs": [],
   "source": [
    "body_part = 'UPPER_LIP'\n",
    "box_width = 224\n",
    "output_root = '/root/data/alok/biomass_estimation/playground/akpr'\n",
    "\n",
    "for idx, row in df.iterrows():\n",
    "    \n",
    "    # download left image\n",
    "    left_image_url = row.left_image_url\n",
    "    left_image_f, _, _ = s3_access_utils.download_from_url(left_image_url)\n",
    "    left_image = enhance(cv2.imread(left_image_f))\n",
    "    \n",
    "    \n",
    "    # select random crop containing body part in question\n",
    "    keypoints = {item['keypointType']: [item['xCrop'], item['yCrop']] for item in row.keypoints['leftCrop']}\n",
    "    body_part_coordinates = keypoints['UPPER_LIP']\n",
    "    \n",
    "    x0 = max(0, body_part_coordinates[0] - np.random.randint(box_width * 0.3, box_width * 0.7))\n",
    "    x1 = min(x0 + box_width, left_image.shape[1])\n",
    "    \n",
    "    y0 = max(0, body_part_coordinates[1] - np.random.randint(box_width * 0.3, box_width * 0.7))\n",
    "    y1 = min(y0 + box_width, left_image.shape[0])\n",
    "    \n",
    "    crop = left_image[y0:y1, x0:x1]\n",
    "    \n",
    "    # save crop to disk\n",
    "    left_crop_f_name = os.path.basename(left_image_url)\n",
    "    left_crop_f = os.path.join(output_root, 'images', left_crop_f_name)\n",
    "    cv2.imwrite(left_crop_f, crop)\n",
    "    \n",
    "    # save label to disk\n",
    "    label = [body_part_coordinates[0] - x0, body_part_coordinates[1] - y0]\n",
    "    print(label)\n",
    "    label_f_name = left_crop_f_name.replace('.jpg', '.json')\n",
    "    label_f = os.path.join(output_root, 'labels', label_f_name)\n",
    "    with open(label_f, 'w') as f:\n",
    "        json.dump(label, f)\n",
    "    \n",
    "    \n",
    "    \n",
    " "
   ]
  },
  {
   "cell_type": "code",
   "execution_count": null,
   "metadata": {},
   "outputs": [],
   "source": []
  },
  {
   "cell_type": "code",
   "execution_count": null,
   "metadata": {},
   "outputs": [],
   "source": [
    "image_fs = sorted(glob.glob(os.path.join(output_root, 'images', '*.jpg')))\n",
    "label_fs = sorted(glob.glob(os.path.join(output_root, 'labels', '*.json')))"
   ]
  },
  {
   "cell_type": "code",
   "execution_count": null,
   "metadata": {},
   "outputs": [],
   "source": []
  },
  {
   "cell_type": "code",
   "execution_count": null,
   "metadata": {},
   "outputs": [],
   "source": [
    "idx = 9\n",
    "im = Image.open(image_fs[idx])\n",
    "label = json.load(open(label_fs[idx]))\n",
    "draw = ImageDraw.Draw(im)\n",
    "draw.ellipse((label[0]-2, label[1]-2, label[0]+2, label[1]+2), fill='red')\n",
    "im"
   ]
  },
  {
   "cell_type": "code",
   "execution_count": null,
   "metadata": {},
   "outputs": [],
   "source": []
  },
  {
   "cell_type": "code",
   "execution_count": null,
   "metadata": {},
   "outputs": [],
   "source": []
  },
  {
   "cell_type": "code",
   "execution_count": null,
   "metadata": {},
   "outputs": [],
   "source": []
  }
 ],
 "metadata": {
  "kernelspec": {
   "display_name": "Python 3",
   "language": "python",
   "name": "python3"
  },
  "language_info": {
   "codemirror_mode": {
    "name": "ipython",
    "version": 3
   },
   "file_extension": ".py",
   "mimetype": "text/x-python",
   "name": "python",
   "nbconvert_exporter": "python",
   "pygments_lexer": "ipython3",
   "version": "3.6.5"
  }
 },
 "nbformat": 4,
 "nbformat_minor": 2
}
