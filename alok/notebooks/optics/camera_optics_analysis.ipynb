{
 "cells": [
  {
   "cell_type": "code",
   "execution_count": null,
   "metadata": {},
   "outputs": [],
   "source": [
    "import numpy as np\n",
    "import pandas as pd\n",
    "from collections import defaultdict\n",
    "from matplotlib import pyplot as plt\n",
    "from IPython.core.display import display, HTML\n",
    "display(HTML(\"<style>.container { width:100% !important; }</style>\"))\n",
    "pd.set_option('display.max_rows', 500)"
   ]
  },
  {
   "cell_type": "markdown",
   "metadata": {},
   "source": [
    "<h1> Known features and components </h1>"
   ]
  },
  {
   "cell_type": "markdown",
   "metadata": {},
   "source": [
    "<h3> IMX304 Sensor Data Sheet: https://en.ids-imaging.com/sony-imx304.html </h3>"
   ]
  },
  {
   "cell_type": "code",
   "execution_count": null,
   "metadata": {},
   "outputs": [],
   "source": [
    "px_count_width = 4104\n",
    "px_count_height = 3006\n",
    "camera_sensor_width = 1.412  \n",
    "camera_sensor_height = 1.034\n",
    "effective_pixel_width = camera_sensor_width / px_count_width\n",
    "effective_pixel_height = camera_sensor_height / px_count_height\n",
    "expected_horizontal_disparity_error = 0.25 * effective_pixel_width\n",
    "expected_vertical_disparity_error = 0.25 * effective_pixel_width\n",
    "px_max_disparity = 600\n",
    "max_disparity = px_max_disparity * effective_pixel_width # maximum allowable disparity"
   ]
  },
  {
   "cell_type": "markdown",
   "metadata": {},
   "source": [
    "<h1> Generate results table (note: depth error here is a function of resolution and stereo matching algorithm is assumed to be perfect) </h1>"
   ]
  },
  {
   "cell_type": "code",
   "execution_count": null,
   "metadata": {},
   "outputs": [],
   "source": [
    "def generate_case_results(focal_length, horizontal_field_of_view, vertical_field_of_view, true_fish_total_length, true_fish_width, true_depth, baseline, max_disparity):\n",
    "\n",
    "    # get estimated errors in estimated depth\n",
    "    true_disparity = (focal_length * baseline) / true_depth\n",
    "    estimated_disparity = true_disparity + expected_horizontal_disparity_error # one-sided error as of now\n",
    "    estimated_depth = (focal_length * baseline) / estimated_disparity\n",
    "    error_depth = abs(estimated_depth - true_depth)\n",
    "    error_depth_pct = (error_depth / true_depth) * 100\n",
    "\n",
    "    # get estimated errors in estimated fish total length\n",
    "    fish_pixel_length = true_fish_total_length * (focal_length / true_depth)\n",
    "    estimated_fish_total_length = fish_pixel_length * (estimated_depth / focal_length)\n",
    "    error_fish_total_length = abs(estimated_fish_total_length - true_fish_total_length)\n",
    "    error_fish_total_length_pct = (error_fish_total_length / true_fish_total_length) * 100\n",
    "\n",
    "    # get estimated errors in estimated fish width\n",
    "    fish_pixel_width = true_fish_width * (focal_length / true_depth)\n",
    "    estimated_fish_width = fish_pixel_width * (estimated_depth / focal_length)\n",
    "    error_fish_width = abs(estimated_fish_width - true_fish_width)\n",
    "    error_fish_width_pct = (error_fish_width / true_fish_width) * 100\n",
    "\n",
    "    # get horiontal metrics\n",
    "\n",
    "    field_of_view_total_width = 2*true_depth*np.tan(horizontal_field_of_view / 2)\n",
    "    overlapping_region_width = max(0, field_of_view_total_width - baseline)\n",
    "    overlapping_region_size_in_fish = overlapping_region_width / float(true_fish_total_length)\n",
    "    overlapping_region_fraction = overlapping_region_width / float(field_of_view_total_width)\n",
    "    fish_size_fraction = true_fish_total_length / float(field_of_view_total_width)\n",
    "    \n",
    "\n",
    "    # generate results hash\n",
    "    results = {\n",
    "        'focal_length': focal_length,\n",
    "        'true_fish_total_length': true_fish_total_length,\n",
    "        'true_fish_width': true_fish_width,\n",
    "        'true_depth': true_depth,\n",
    "        'baseline': baseline, \n",
    "        'max_disparity': max_disparity\n",
    "    }\n",
    "    if true_disparity < max_disparity:\n",
    "        results['error_depth'] = error_depth\n",
    "        results['error_depth_pct'] = error_depth_pct\n",
    "        results['depth_accuracy_pct'] = 100 - error_depth_pct\n",
    "        results['error_fish_total_length'] = error_fish_total_length\n",
    "        results['error_fish_total_length_pct'] = error_fish_total_length_pct\n",
    "        results['error_fish_width'] = error_fish_width\n",
    "        results['error_fish_width_pct'] = error_fish_width_pct\n",
    "        results['overlapping_region_size_in_fish'] = overlapping_region_size_in_fish\n",
    "        results['overlapping_region_fraction'] = overlapping_region_fraction\n",
    "        results['fish_size_fraction'] = fish_size_fraction\n",
    "    else:\n",
    "        results['error_depth'] = None\n",
    "        results['error_depth_pct'] = None\n",
    "        results['depth_accuracy_pct'] = None\n",
    "        results['error_fish_total_length'] = None\n",
    "        results['error_fish_total_length_pct'] = None\n",
    "        results['error_fish_width'] = None\n",
    "        results['error_fish_width_pct'] = None\n",
    "        results['overlapping_region_size_in_fish'] = None\n",
    "        results['overlapping_region_fraction'] = None\n",
    "        results['fish_size_fraction'] = None\n",
    "        \n",
    "    return results\n",
    "    "
   ]
  },
  {
   "cell_type": "code",
   "execution_count": null,
   "metadata": {},
   "outputs": [],
   "source": [
    "# note: all values are in centimeters unless specified otherwise\n",
    "\n",
    "focal_lengths = [0.8, 1.0, 1.2, 1.4, 1.6]\n",
    "true_fish_total_length_list = list(np.arange(10, 90, 10))\n",
    "true_fish_width_list = list(np.arange(5, 13, 1))\n",
    "true_depth_list = list(np.arange(50, 500, 50))\n",
    "baselines = [round(baseline, 1) for baseline in np.arange(1.0, 20.0, 0.1)]\n",
    "\n",
    "results_lists = defaultdict(list)\n",
    "\n",
    "for focal_length in focal_lengths:\n",
    "    horizontal_field_of_view = 2*np.arctan(camera_sensor_width / (2.0 * focal_length))\n",
    "    vertical_field_of_view = 2*np.arctan(camera_sensor_height / (2.0 * focal_length))\n",
    "\n",
    "    for true_fish_total_length in true_fish_total_length_list:\n",
    "        for true_fish_width in true_fish_width_list:\n",
    "            for true_depth in true_depth_list:\n",
    "                for baseline in baselines:\n",
    "                    results = generate_case_results(focal_length, horizontal_field_of_view, vertical_field_of_view, true_fish_total_length, true_fish_width, true_depth, baseline, max_disparity)\n",
    "                    for key, val in results.iteritems():\n",
    "                        results_lists[key].append(val)\n",
    "                \n",
    "\n",
    "results_df = pd.DataFrame(results_lists)"
   ]
  },
  {
   "cell_type": "markdown",
   "metadata": {},
   "source": [
    "<h1> The following is a plot of the error in estimated depth (cm) as a function of the distance from the camera assuming a baseline of 12 cm and a focal length of 16mm. This graph replicates the Nerian calculator results when both are fed the same inputs </h1>"
   ]
  },
  {
   "cell_type": "code",
   "execution_count": null,
   "metadata": {},
   "outputs": [],
   "source": [
    "mask = (results_df.focal_length == 1.6) & \\\n",
    "(results_df.true_fish_total_length == 60) & \\\n",
    "(results_df.true_fish_width == 10) & \\\n",
    "(results_df.baseline == 12)\n",
    "\n",
    "\n",
    "plt.figure(figsize=(20, 15))\n",
    "plt.grid()\n",
    "plt.plot(results_df[mask].true_depth, results_df[mask].error_depth)\n",
    "plt.xlabel('Depth (cm)')\n",
    "plt.ylabel('Error in estimated depth (cm)')\n",
    "plt.show()"
   ]
  },
  {
   "cell_type": "markdown",
   "metadata": {},
   "source": [
    "<h1> Graph #1: For a given fish length/width and focal length, the following graph shows the overlapping region size (expressed in fish lengths) vs. the percentage accuracy in the depth estimate </h1>\n",
    "\n",
    "<h3> The graph is presented for various baselines (marked along the curves) and various depths. We want the first number to be high since it is directly related to our sampling frequency (MUST be greater than 1 for all depths >= 100 cm). We want the second number to be high as well to produce accurate depth maps. </h3>"
   ]
  },
  {
   "cell_type": "code",
   "execution_count": null,
   "metadata": {},
   "outputs": [],
   "source": [
    "# note: you can configure the focal length and true fish total length in this analysis\n",
    "\n",
    "fig = plt.figure(figsize=(40, 60))\n",
    "ax = fig.add_subplot(111)\n",
    "ax.grid()\n",
    "for true_depth in true_depth_list[:5]:\n",
    "\n",
    "    mask = (results_df.focal_length == 1.6) & \\\n",
    "    (results_df.true_fish_total_length == 80) & \\\n",
    "    (results_df.true_fish_width == 5) & \\\n",
    "    (results_df.true_depth == true_depth) & \\\n",
    "    (~results_df.isnull().any(axis=1))\n",
    "\n",
    "    ax.plot(results_df[mask].depth_accuracy_pct, results_df[mask].overlapping_region_size_in_fish, label='Depth: {} cm'.format(true_depth))\n",
    "    \n",
    "    for depth_accuracy_pct, overlapping_region_size_in_fish, baseline in zip(results_df[mask].depth_accuracy_pct.values, results_df[mask].overlapping_region_size_in_fish.values, results_df[mask].baseline.values):\n",
    "        if baseline % 1 == 0:\n",
    "            ax.annotate(str(baseline), xy=(depth_accuracy_pct, overlapping_region_size_in_fish), textcoords='data')\n",
    "\n",
    "plt.xlabel('Depth accuracy pct')\n",
    "plt.ylabel('Overlapping region size in fish')\n",
    "plt.legend()\n",
    "plt.show()\n",
    "\n"
   ]
  },
  {
   "cell_type": "markdown",
   "metadata": {},
   "source": [
    "<h3> The graph above shows that decreasing the baseline does have a significant impact on the percentage accuracy of the depth estimate (while everything else is held constant). This is because the pixels in our sensor will be extremely small since we are using 12 MP cameras, so the error in the disparity estimate that comes from the pixel size does not have significant impact on the results. The disparity errors will largely come from errors in our stereo matching algorithm (i.e incorrect patch correspondences). The graph also shows that for baselines above 6 centimeters, we will not be able to produce a depth map for true depths within 50 cm assuming that the maximum allowed pixel disparity is 600 pixels (this can probably be increased). I think we can probably safely decrease the baseline to around 6 centimeters while barely impacting the accuracy of the depth map estimate -- this comes at the slight cost of less accurate diparity estimates due to the nonzero pixel width, but the cost is probably far outweighed by the benefit of being able to produce well-behaved depth maps for nearby distances (i.e. between 50 cm and 1 m). </h3>\n",
    "\n",
    "<h3> One can see that for all focal lengths greater than 1.6 cm, the overlapping region size in fish units is less than 1 for a depth of 50 cm and 100 cm. This is not good, because it means that we won't be able to sample any nearby fish since they won't be fully present in both the left and right frames. In fact, we probably want to narrow our focal length search space down to less than 1.4 cm to avoid this risk. We also don't want to make the focal length too small (as shown in the following analysis) </h3>"
   ]
  },
  {
   "cell_type": "code",
   "execution_count": null,
   "metadata": {},
   "outputs": [],
   "source": []
  },
  {
   "cell_type": "code",
   "execution_count": null,
   "metadata": {},
   "outputs": [],
   "source": []
  },
  {
   "cell_type": "markdown",
   "metadata": {},
   "source": [
    "<h1> Graph #2: For a given depth and fish size, the graph below shoes the ratio of fish size to total FOV vs. ratio of overlapping region size to total FOV (across different baselines and focal lengths). </h1> \n",
    "<h3> We want the first number to be high since having the fish take up a larger part of the FOV allows us to examine it more accurately (i.e. higher number creates a \"zoomed-in\" effect where we can see scale patterns and lice more clearly). We want the second number to be high as well since having a high overlapping region size will yield to better disparity maps (less likely that fish is in one frame and not in the other). </h3>"
   ]
  },
  {
   "cell_type": "code",
   "execution_count": null,
   "metadata": {},
   "outputs": [],
   "source": [
    "# note: you can configure the true depth and true fish total length in this analysis\n",
    "\n",
    "fig2 = plt.figure(figsize=(30, 30))\n",
    "ax2 = fig2.add_subplot(111)\n",
    "ax2.grid()\n",
    "for baseline in baselines:\n",
    "    if baseline % 2 != 0:\n",
    "        continue\n",
    "    mask = (results_df.true_depth == 100) & \\\n",
    "    (results_df.baseline == baseline) & \\\n",
    "    (results_df.true_fish_total_length == 60) & \\\n",
    "    (results_df.true_fish_width == 5.0) & \\\n",
    "    (~results_df.isnull().any(axis=1))\n",
    "\n",
    "    ax2.plot(results_df[mask].overlapping_region_fraction, results_df[mask].fish_size_fraction, label='Baseline: {} cm'.format(baseline))\n",
    "\n",
    "    for overlapping_region_fraction, fish_size_fraction, focal_length in zip(results_df[mask].overlapping_region_fraction.values, results_df[mask].fish_size_fraction.values, results_df[mask].focal_length.values):\n",
    "        ax2.annotate(str(focal_length), xy=(overlapping_region_fraction, fish_size_fraction), textcoords='data')\n",
    "\n",
    "plt.xlabel('Overlapping region fraction')\n",
    "plt.ylabel('Fish size fraction')\n",
    "plt.legend()\n",
    "plt.show()\n",
    "\n",
    "\n"
   ]
  },
  {
   "cell_type": "markdown",
   "metadata": {},
   "source": [
    "<h3> The graph above shows that small focal lengths (0.8 cm, 1.0 cm) have the downside that the field of view is large, which creates a \"zoomed-out\" effect in which the fish takes up less space in the frame. The upside is that it allows us to sample more fish, but I think we want to err on the side of sampling less if it means having more accurate readings on our fish (i.e. we should favor higher precision over higher recall). This graph also shows that having small baselines allows the overlapping region to take up almost the entire field of view, which means that it's very unlikely that a fish will be present in one frame but not the other. But as the previous graph demonstrated, lowering the baseline does come at the small cost of introducing more disparity error, so we should probably not decrease the baseline beyond 6 cm </h3>"
   ]
  },
  {
   "cell_type": "markdown",
   "metadata": {},
   "source": [
    "<h1> Conclusion </h3>"
   ]
  },
  {
   "cell_type": "markdown",
   "metadata": {},
   "source": [
    "<h3> My recommendation assuming a horizontally oriented stereo camera is to have a baseline of 6 cm and a focal length of 1.2 cm. A baseline of 6 cm is small enough such that the effective size of the overlapping region, along with its ratio to field of view, is large. This results in higher sampling frequency and lower likelihood of fish in one frame but not in the other. A relatively small baseline does come with the cost of slightly higher pixel disparity error, but due to the high resolution of our cameras, this is not a big deal as shown in Graph #1. I recommend a focal length of 1.2 cm (or 12 mm) based on the fact that it is a fair compromise between having too small of a FOV (which would result in an increased likelihood of fish being present in one frame but not in the other) and too large of a FOV (which would result in fish taking up a small part of the frame and creating a \"zoomed out\" effect that makes it harder to accurately analyze the fish image charac"
   ]
  },
  {
   "cell_type": "code",
   "execution_count": null,
   "metadata": {},
   "outputs": [],
   "source": []
  },
  {
   "cell_type": "code",
   "execution_count": null,
   "metadata": {},
   "outputs": [],
   "source": []
  },
  {
   "cell_type": "code",
   "execution_count": null,
   "metadata": {},
   "outputs": [],
   "source": []
  },
  {
   "cell_type": "code",
   "execution_count": null,
   "metadata": {},
   "outputs": [],
   "source": []
  },
  {
   "cell_type": "code",
   "execution_count": null,
   "metadata": {},
   "outputs": [],
   "source": []
  },
  {
   "cell_type": "code",
   "execution_count": null,
   "metadata": {},
   "outputs": [],
   "source": []
  },
  {
   "cell_type": "code",
   "execution_count": null,
   "metadata": {},
   "outputs": [],
   "source": []
  },
  {
   "cell_type": "code",
   "execution_count": null,
   "metadata": {},
   "outputs": [],
   "source": []
  },
  {
   "cell_type": "code",
   "execution_count": null,
   "metadata": {},
   "outputs": [],
   "source": []
  },
  {
   "cell_type": "code",
   "execution_count": null,
   "metadata": {},
   "outputs": [],
   "source": []
  },
  {
   "cell_type": "code",
   "execution_count": null,
   "metadata": {},
   "outputs": [],
   "source": []
  },
  {
   "cell_type": "code",
   "execution_count": null,
   "metadata": {},
   "outputs": [],
   "source": []
  },
  {
   "cell_type": "code",
   "execution_count": null,
   "metadata": {},
   "outputs": [],
   "source": []
  },
  {
   "cell_type": "code",
   "execution_count": null,
   "metadata": {},
   "outputs": [],
   "source": []
  },
  {
   "cell_type": "code",
   "execution_count": null,
   "metadata": {},
   "outputs": [],
   "source": []
  },
  {
   "cell_type": "code",
   "execution_count": null,
   "metadata": {},
   "outputs": [],
   "source": []
  },
  {
   "cell_type": "code",
   "execution_count": null,
   "metadata": {},
   "outputs": [],
   "source": []
  }
 ],
 "metadata": {
  "kernelspec": {
   "display_name": "Python 2",
   "language": "python",
   "name": "python2"
  },
  "language_info": {
   "codemirror_mode": {
    "name": "ipython",
    "version": 2
   },
   "file_extension": ".py",
   "mimetype": "text/x-python",
   "name": "python",
   "nbconvert_exporter": "python",
   "pygments_lexer": "ipython2",
   "version": "2.7.14"
  }
 },
 "nbformat": 4,
 "nbformat_minor": 2
}
