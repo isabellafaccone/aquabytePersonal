{
 "cells": [
  {
   "cell_type": "code",
   "execution_count": null,
   "metadata": {},
   "outputs": [],
   "source": [
    "import numpy as np\n",
    "import matplotlib.pyplot as plt"
   ]
  },
  {
   "cell_type": "code",
   "execution_count": null,
   "metadata": {},
   "outputs": [],
   "source": []
  },
  {
   "cell_type": "markdown",
   "metadata": {},
   "source": [
    "We want to increase our working distance (i.e. resolve lice at a further distance away). Normally, one increases resolution at further distances by increasing focal length and hence reducing FOV / creating a zoomed in effect, but this would decrease the frequency of full fish crops. So we want to be able to resolve lice down to 2mm over our working distance range (0.7 m to 1.3 m) while still being able to sample enough full fish. Question: what is the minimum FOV we are okay with?"
   ]
  },
  {
   "cell_type": "code",
   "execution_count": null,
   "metadata": {},
   "outputs": [],
   "source": []
  },
  {
   "cell_type": "code",
   "execution_count": null,
   "metadata": {},
   "outputs": [],
   "source": []
  },
  {
   "cell_type": "code",
   "execution_count": null,
   "metadata": {},
   "outputs": [],
   "source": [
    "def degrees_to_radians(theta):\n",
    "    return theta * np.pi / 180\n",
    "\n",
    "def probability_of_full_appearance(fish_length, fps, working_distance, effective_FOV_degrees):\n",
    "    field_size = 2 * working_distance * np.tan(degrees_to_radians(effective_FOV_degrees) / 2.0)\n",
    "    swimming_speed = fish_length\n",
    "    distance_traveled_between_consecutive_frames = swimming_speed / fps\n",
    "    probability_of_full_appearance = np.maximum(np.minimum((field_size - fish_length) / distance_traveled_between_consecutive_frames, 1.0), 0.0)\n",
    "    return probability_of_full_appearance\n",
    "    "
   ]
  },
  {
   "cell_type": "code",
   "execution_count": null,
   "metadata": {},
   "outputs": [],
   "source": [
    "# all distances in millimeters\n",
    "\n",
    "min_working_distance = 500\n",
    "max_working_distance = 1500\n",
    "effective_FOV_degrees = 55\n",
    "fish_length = 600\n",
    "fps = 0.75\n"
   ]
  },
  {
   "cell_type": "code",
   "execution_count": null,
   "metadata": {},
   "outputs": [],
   "source": [
    "working_distances = np.arange(min_working_distance, max_working_distance, 20)\n",
    "probabilities = []\n",
    "for working_distance in working_distances:\n",
    "    p = probability_of_full_appearance(fish_length, fps, working_distance, effective_FOV_degrees)\n",
    "    probabilities.append(p)"
   ]
  },
  {
   "cell_type": "code",
   "execution_count": null,
   "metadata": {},
   "outputs": [],
   "source": [
    "plt.plot(working_distances, probabilities)\n",
    "plt.grid()\n",
    "plt.show()"
   ]
  },
  {
   "cell_type": "code",
   "execution_count": null,
   "metadata": {},
   "outputs": [],
   "source": []
  },
  {
   "cell_type": "code",
   "execution_count": null,
   "metadata": {},
   "outputs": [],
   "source": []
  },
  {
   "cell_type": "code",
   "execution_count": null,
   "metadata": {},
   "outputs": [],
   "source": []
  }
 ],
 "metadata": {
  "kernelspec": {
   "display_name": "Python 3",
   "language": "python",
   "name": "python3"
  },
  "language_info": {
   "codemirror_mode": {
    "name": "ipython",
    "version": 3
   },
   "file_extension": ".py",
   "mimetype": "text/x-python",
   "name": "python",
   "nbconvert_exporter": "python",
   "pygments_lexer": "ipython3",
   "version": "3.7.0"
  }
 },
 "nbformat": 4,
 "nbformat_minor": 2
}
