{
 "cells": [
  {
   "cell_type": "code",
   "execution_count": null,
   "metadata": {},
   "outputs": [],
   "source": [
    "import numpy as np\n",
    "import pandas as pd\n",
    "from collections import defaultdict\n",
    "from matplotlib import pyplot as plt\n",
    "from IPython.core.display import display, HTML\n",
    "display(HTML(\"<style>.container { width:100% !important; }</style>\"))\n",
    "pd.set_option('display.max_rows', 500)"
   ]
  },
  {
   "cell_type": "markdown",
   "metadata": {},
   "source": [
    "<h1> Known features and components </h1>"
   ]
  },
  {
   "cell_type": "markdown",
   "metadata": {},
   "source": [
    "<h3> IMX304 Sensor Data Sheet: https://en.ids-imaging.com/sony-imx304.html </h3>"
   ]
  },
  {
   "cell_type": "code",
   "execution_count": null,
   "metadata": {},
   "outputs": [],
   "source": []
  },
  {
   "cell_type": "code",
   "execution_count": null,
   "metadata": {},
   "outputs": [],
   "source": []
  },
  {
   "cell_type": "markdown",
   "metadata": {},
   "source": [
    "<h1> Generate results table </h1>"
   ]
  },
  {
   "cell_type": "code",
   "execution_count": null,
   "metadata": {},
   "outputs": [],
   "source": [
    "def generate_case_results(focal_length, r_s, camera_sensor_size_horizontal, camera_sensor_size_vertical, working_distance, baseline, fish_length, fish_width):\n",
    "    horizontal_field_of_view = 2 * np.arctan(camera_sensor_size_horizontal / (2.0 * focal_length))\n",
    "    vertical_field_of_view = 2 * np.arctan(camera_sensor_size_vertical / (2.0 * focal_length))\n",
    "\n",
    "    # get estimated errors in estimated fish total length\n",
    "    fish_pixel_length = fish_length * (focal_length / working_distance)\n",
    "\n",
    "    # get estimated errors in estimated fish width\n",
    "    fish_pixel_width = fish_width * (focal_length / working_distance)\n",
    "\n",
    "    # get horiontal metrics\n",
    "    field_of_view_total_size_horizontal = 2 * working_distance * np.tan(horizontal_field_of_view / 2)\n",
    "    overlapping_region_size_horizontal = max(0, field_of_view_total_size_horizontal - baseline)\n",
    "    fish_fully_in_overlapping_region_proability_horizontal = (overlapping_region_size_horizontal - fish_length) / (field_of_view_total_size_horizontal - fish_length)\n",
    "    resolution = r_s * focal_length / working_distance\n",
    "    \n",
    "#     overlapping_region_size_in_fish_horizontal = overlapping_region_size_horizontal / float(fish_length)\n",
    "#     overlapping_region_fraction_horizontal = overlapping_region_size_horizontal / float(field_of_view_total_size_horizontal)\n",
    "#     fish_size_fraction_horizontal = fish_length / float(field_of_view_total_size_horizontal)\n",
    "    \n",
    "    # get vertical metrics\n",
    "    field_of_view_total_size_vertical = 2 * working_distance * np.tan(vertical_field_of_view / 2)\n",
    "    fish_size_fraction_vertical = fish_length / field_of_view_total_size_vertical\n",
    "    \n",
    "    \n",
    "    # generate results hash\n",
    "    results = {\n",
    "        'focal_length': focal_length,\n",
    "        'camera_sensor_size_horizontal': camera_sensor_size_horizontal,\n",
    "        'camera_sensor_size_vertical': camera_sensor_size_vertical,\n",
    "        'baseline': baseline, \n",
    "        'working_distance': working_distance,\n",
    "        'fish_length': fish_length,\n",
    "        'fish_width': fish_width,\n",
    "        'overlapping_region_size_horizontal': overlapping_region_size_horizontal,\n",
    "#         'overlapping_region_size_in_fish_horizontal': overlapping_region_size_in_fish_horizontal,\n",
    "#         'overlapping_region_fraction_horizontal': overlapping_region_fraction_horizontal,\n",
    "#         'fish_size_fraction_horizontal': fish_size_fraction_horizontal\n",
    "        'fish_fully_in_overlapping_region_proability_horizontal': fish_fully_in_overlapping_region_proability_horizontal if fish_fully_in_overlapping_region_proability_horizontal > 0 else np.nan,\n",
    "        'fish_size_fraction_vertical': fish_size_fraction_vertical,\n",
    "        'horizontal_field_of_view': horizontal_field_of_view * (180 / np.pi),\n",
    "        'vertical_field_of_view': vertical_field_of_view * (180 / np.pi),\n",
    "        'resolution': resolution\n",
    "    }\n",
    "\n",
    "    return results\n",
    "    "
   ]
  },
  {
   "cell_type": "code",
   "execution_count": null,
   "metadata": {},
   "outputs": [],
   "source": [
    "px_count_horizontal = 4096\n",
    "px_count_vertical = 3000\n",
    "camera_sensor_size_horizontal = 1.412  \n",
    "camera_sensor_size_vertical = 1.034\n",
    "r_s = 125\n",
    "effective_pixel_size_horizontal = camera_sensor_size_horizontal / px_count_horizontal\n",
    "effective_pixel_size_vertical = camera_sensor_size_horizontal / px_count_vertical\n"
   ]
  },
  {
   "cell_type": "code",
   "execution_count": null,
   "metadata": {},
   "outputs": [],
   "source": []
  },
  {
   "cell_type": "code",
   "execution_count": null,
   "metadata": {},
   "outputs": [],
   "source": [
    "# note: all values are in centimeters unless specified otherwise\n",
    "\n",
    "focal_lengths = np.arange(0.8, 2.0, 0.1)\n",
    "fish_length_list = list(np.arange(40, 90, 10))\n",
    "fish_width_list = list(np.arange(15, 30, 5))\n",
    "working_distance_list = list(np.arange(50, 500, 50))\n",
    "baselines = [round(baseline, 1) for baseline in np.arange(10.0, 25.0, 1.0)]\n",
    "\n",
    "results_lists = defaultdict(list)\n",
    "\n",
    "for focal_length in focal_lengths:\n",
    "    for fish_length in fish_length_list:\n",
    "        for fish_width in fish_width_list:\n",
    "            for working_distance in working_distance_list:\n",
    "                for baseline in baselines:\n",
    "                    results = generate_case_results(focal_length, r_s, camera_sensor_size_horizontal, camera_sensor_size_vertical, working_distance, baseline, fish_length, fish_width)\n",
    "                    for key, val in results.iteritems():\n",
    "                        results_lists[key].append(val)\n",
    "\n",
    "results_df = pd.DataFrame(results_lists)"
   ]
  },
  {
   "cell_type": "code",
   "execution_count": null,
   "metadata": {},
   "outputs": [],
   "source": []
  },
  {
   "cell_type": "code",
   "execution_count": null,
   "metadata": {},
   "outputs": [],
   "source": [
    "mask = (results_df.working_distance == 100) & (results_df.fish_length == 80) & (results_df.baseline == 13) & (~results_df.isnull().any(axis=1))\n",
    "results_df[mask].sort_values('overlapping_region_size_horizontal', ascending=False)"
   ]
  },
  {
   "cell_type": "code",
   "execution_count": null,
   "metadata": {},
   "outputs": [],
   "source": [
    "fish_length = 80\n",
    "baseline = 13\n",
    "plt.figure(figsize=(20, 10))\n",
    "for working_distance in [100, 200, 300, 400, 500]:\n",
    "    mask = (results_df.working_distance == working_distance) & (results_df.fish_length == fish_length) & (results_df.baseline == baseline) & (~results_df.isnull().any(axis=1))\n",
    "    tdf = results_df[mask].sort_values('overlapping_region_size_horizontal', ascending=False).copy(deep=True)\n",
    "    plt.plot(tdf.horizontal_field_of_view, tdf.overlapping_region_size_horizontal, label=working_distance)\n",
    "    \n",
    "plt.legend()\n",
    "plt.xlabel('Field of View (degrees)')\n",
    "plt.ylabel('Size of overlapping region (cm)')\n",
    "plt.title('Size of overlapping region vs. Field of View')\n",
    "plt.grid()\n",
    "plt.show()"
   ]
  },
  {
   "cell_type": "code",
   "execution_count": null,
   "metadata": {},
   "outputs": [],
   "source": []
  },
  {
   "cell_type": "code",
   "execution_count": null,
   "metadata": {},
   "outputs": [],
   "source": [
    "fish_length = 80\n",
    "baseline = 13\n",
    "working_distance = 100\n",
    "\n",
    "\n",
    "fig, ax1 = plt.subplots(figsize=(20, 10))\n",
    "mask = (results_df.working_distance == working_distance) & (results_df.fish_length == fish_length) & (results_df.baseline == baseline) & (~results_df.isnull().any(axis=1))\n",
    "tdf = results_df[mask].sort_values('overlapping_region_size_horizontal', ascending=False).copy(deep=True)\n",
    "ax1.plot(tdf.horizontal_field_of_view, tdf.overlapping_region_size_horizontal, 'b')\n",
    "ax1.set_xlabel('Field of View (degrees)')\n",
    "ax1.set_ylabel('Overlapping Region Size (cm)', color='b')\n",
    "ax1.tick_params('y', colors='b')\n",
    "ax2 = ax1.twinx()\n",
    "ax2.set_ylabel('Resolution (lpmm)', color='r')\n",
    "ax2.plot(tdf.horizontal_field_of_view, tdf.resolution, 'r')\n",
    "ax2.tick_params('y', colors='r')\n",
    "plt.grid()\n",
    "plt.title('Overlapping Region Size and Resolution vs. Field of View')\n",
    "plt.show()\n",
    "\n",
    "\n",
    "\n"
   ]
  },
  {
   "cell_type": "code",
   "execution_count": null,
   "metadata": {},
   "outputs": [],
   "source": []
  },
  {
   "cell_type": "code",
   "execution_count": null,
   "metadata": {},
   "outputs": [],
   "source": [
    "tdf[(tdf.overlapping_region_size_horizontal > 90) & (tdf.resolution > 1.5)]"
   ]
  },
  {
   "cell_type": "code",
   "execution_count": null,
   "metadata": {},
   "outputs": [],
   "source": [
    "px_count_horizontal / (2 * camera_sensor_size_vertical * 10)"
   ]
  },
  {
   "cell_type": "code",
   "execution_count": null,
   "metadata": {},
   "outputs": [],
   "source": []
  },
  {
   "cell_type": "code",
   "execution_count": null,
   "metadata": {},
   "outputs": [],
   "source": []
  },
  {
   "cell_type": "code",
   "execution_count": null,
   "metadata": {},
   "outputs": [],
   "source": []
  },
  {
   "cell_type": "code",
   "execution_count": null,
   "metadata": {},
   "outputs": [],
   "source": [
    "n_a = 1.0\n",
    "n_w = 1.33\n",
    "f = 19.42\n",
    "object_distances = np.arange(30, 500, 1)\n",
    "image_distances = [n_a / (n_w / f - n_w / s) for s in object_distances]\n",
    "\n",
    "plt.figure(figsize=(20, 10))\n",
    "plt.plot(object_distances, image_distances)\n",
    "plt.xlabel('Object Distance (cm)')\n",
    "plt.ylabel('Virtual Image Distance (cm)')\n",
    "plt.title('Object Distance vs. Virtual Image Distance')\n",
    "plt.grid()\n",
    "plt.show()"
   ]
  },
  {
   "cell_type": "code",
   "execution_count": null,
   "metadata": {},
   "outputs": [],
   "source": [
    "virtual_image_distance_hash = {object_distance: image_distance for object_distance, image_distance in zip(object_distances, image_distances)}"
   ]
  },
  {
   "cell_type": "code",
   "execution_count": null,
   "metadata": {},
   "outputs": [],
   "source": [
    "virtual_image_distance_hash[50]"
   ]
  },
  {
   "cell_type": "code",
   "execution_count": null,
   "metadata": {},
   "outputs": [],
   "source": []
  },
  {
   "cell_type": "code",
   "execution_count": null,
   "metadata": {},
   "outputs": [],
   "source": [
    "D = 75.0\n",
    "x_s = 1.412\n",
    "b = 12.7\n",
    "l = 60\n",
    "r_s = 120.0\n"
   ]
  },
  {
   "cell_type": "code",
   "execution_count": null,
   "metadata": {},
   "outputs": [],
   "source": [
    "(D*x_s)/b - (1.0/b)*((D**2*l*x_s**2)/(b + l))**0.5"
   ]
  },
  {
   "cell_type": "code",
   "execution_count": null,
   "metadata": {},
   "outputs": [],
   "source": []
  },
  {
   "cell_type": "code",
   "execution_count": null,
   "metadata": {},
   "outputs": [],
   "source": [
    "f_values = list(np.arange(0.1, 2.5, 0.1))\n",
    "field_of_view_values = [2 * np.arctan(x_s/2*f) for f in f_values]\n",
    "resolution_values = [D * (x_s/b)] \n",
    "\n",
    "Pr = [((x_s*D/f - b - l)/(x_s*D/f - b)) * ((r_s*f)/D) for f in f_values]\n"
   ]
  },
  {
   "cell_type": "code",
   "execution_count": null,
   "metadata": {},
   "outputs": [],
   "source": [
    "plt.figure(figsize=(20, 10))\n",
    "plt.plot(f_values, Pr)\n",
    "plt.grid()\n",
    "plt.show()"
   ]
  },
  {
   "cell_type": "code",
   "execution_count": null,
   "metadata": {},
   "outputs": [],
   "source": [
    "(2*np.arctan(x_s / 2 * 1.0)) * (180 / np.pi)"
   ]
  },
  {
   "cell_type": "code",
   "execution_count": null,
   "metadata": {},
   "outputs": [],
   "source": []
  },
  {
   "cell_type": "code",
   "execution_count": null,
   "metadata": {},
   "outputs": [],
   "source": [
    "f = 1.2"
   ]
  },
  {
   "cell_type": "code",
   "execution_count": null,
   "metadata": {},
   "outputs": [],
   "source": [
    "125 * (1.2 / (6.75 * 2.54))"
   ]
  },
  {
   "cell_type": "code",
   "execution_count": null,
   "metadata": {},
   "outputs": [],
   "source": [
    "125 * (1.2 / (6.75 * 2.54))"
   ]
  },
  {
   "cell_type": "code",
   "execution_count": null,
   "metadata": {},
   "outputs": [],
   "source": []
  },
  {
   "cell_type": "code",
   "execution_count": null,
   "metadata": {},
   "outputs": [],
   "source": [
    "np.tan((60 / 2) * (np.pi/180))"
   ]
  },
  {
   "cell_type": "code",
   "execution_count": null,
   "metadata": {},
   "outputs": [],
   "source": [
    "np.arctan(30 * (3.14159/180))"
   ]
  },
  {
   "cell_type": "code",
   "execution_count": null,
   "metadata": {},
   "outputs": [],
   "source": []
  },
  {
   "cell_type": "code",
   "execution_count": null,
   "metadata": {},
   "outputs": [],
   "source": []
  },
  {
   "cell_type": "code",
   "execution_count": null,
   "metadata": {},
   "outputs": [],
   "source": []
  }
 ],
 "metadata": {
  "kernelspec": {
   "display_name": "Python 2",
   "language": "python",
   "name": "python2"
  },
  "language_info": {
   "codemirror_mode": {
    "name": "ipython",
    "version": 2
   },
   "file_extension": ".py",
   "mimetype": "text/x-python",
   "name": "python",
   "nbconvert_exporter": "python",
   "pygments_lexer": "ipython2",
   "version": "2.7.14"
  }
 },
 "nbformat": 4,
 "nbformat_minor": 2
}
