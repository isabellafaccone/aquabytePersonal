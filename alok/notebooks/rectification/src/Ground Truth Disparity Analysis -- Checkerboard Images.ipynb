{
 "cells": [
  {
   "cell_type": "code",
   "execution_count": null,
   "metadata": {},
   "outputs": [],
   "source": [
    "import numpy as np\n",
    "import scipy.io\n",
    "import matplotlib.pyplot as plt\n",
    "import os\n",
    "import pandas as pd"
   ]
  },
  {
   "cell_type": "markdown",
   "metadata": {},
   "source": [
    "<h1> Load Checkerboard Data </h1>"
   ]
  },
  {
   "cell_type": "code",
   "execution_count": null,
   "metadata": {},
   "outputs": [],
   "source": [
    "image_points_path = './image_points.mat'\n",
    "pairs_used_path = './pairs_used.mat'\n",
    "image_points = scipy.io.loadmat(image_points_path)['imagePoints']\n",
    "pairs_used = np.squeeze(scipy.io.loadmat(pairs_used_path)['pairsUsed'])"
   ]
  },
  {
   "cell_type": "code",
   "execution_count": null,
   "metadata": {},
   "outputs": [],
   "source": [
    "left_images_folder = './rectified_filtered_left_calibration_images'\n",
    "right_images_folder = './rectified_filtered_right_calibration_images'\n",
    "\n",
    "left_image_paths = [os.path.join(left_images_folder, f) for f in sorted(os.listdir(left_images_folder))]\n",
    "right_image_paths = [os.path.join(right_images_folder, f) for f in sorted(os.listdir(right_images_folder))]\n",
    "left_image_paths = [f for i, f in enumerate(left_image_paths) if pairs_used[i] == 1]\n",
    "right_image_paths = [f for i, f in enumerate(right_image_paths) if pairs_used[i] == 1]\n"
   ]
  },
  {
   "cell_type": "markdown",
   "metadata": {},
   "source": [
    "<h1> Get predicted world points for all checkerboard points </h1>"
   ]
  },
  {
   "cell_type": "markdown",
   "metadata": {},
   "source": [
    "<h3> Define camera attributes and helper functions </h3>"
   ]
  },
  {
   "cell_type": "code",
   "execution_count": null,
   "metadata": {},
   "outputs": [],
   "source": [
    "# all distance are in meters\n",
    "FOCAL_LENGTH = 0.008406732\n",
    "BASELINE = 0.1266040474\n",
    "PIXEL_SIZE_M = 3.45 * 1e-6\n",
    "FOCAL_LENGTH_PIXEL = FOCAL_LENGTH / PIXEL_SIZE_M\n",
    "IMAGE_SENSOR_WIDTH = 0.01412\n",
    "IMAGE_SENSOR_HEIGHT = 0.01035\n",
    "PIXEL_COUNT_WIDTH = 4096\n",
    "PIXEL_COUNT_HEIGHT = 3000\n",
    "CHECKERBOARD_SIDE_LENGTH = 0.052441185\n",
    "\n"
   ]
  },
  {
   "cell_type": "code",
   "execution_count": null,
   "metadata": {},
   "outputs": [],
   "source": [
    "def convert_to_world_point(x, y, d):\n",
    "    \"\"\" from pixel coordinates to world coordinates \"\"\"\n",
    "    \n",
    "    image_center_x = PIXEL_COUNT_WIDTH / 2.0  \n",
    "    image_center_y = PIXEL_COUNT_HEIGHT / 2.0\n",
    "    px_x = x - image_center_x\n",
    "    px_z = image_center_y - y\n",
    "\n",
    "    sensor_x = px_x * (IMAGE_SENSOR_WIDTH / PIXEL_COUNT_WIDTH)\n",
    "    sensor_z = px_z * (IMAGE_SENSOR_HEIGHT / PIXEL_COUNT_HEIGHT)\n",
    "\n",
    "    # d = depth_map[y, x]\n",
    "    world_y = d\n",
    "    world_x = (world_y * sensor_x) / FOCAL_LENGTH\n",
    "    world_z = (world_y * sensor_z) / FOCAL_LENGTH\n",
    "    return np.array([world_x, world_y, world_z])\n",
    "\n",
    "def depth_from_disp(disp):\n",
    "    \"\"\" calculate the depth of the point based on the disparity value \"\"\"\n",
    "    depth = FOCAL_LENGTH_PIXEL*BASELINE / np.array(disp)\n",
    "    return depth"
   ]
  },
  {
   "cell_type": "markdown",
   "metadata": {},
   "source": [
    "<h3> Generate world point predictions </h3>"
   ]
  },
  {
   "cell_type": "code",
   "execution_count": null,
   "metadata": {},
   "outputs": [],
   "source": [
    "world_points = np.zeros([image_points.shape[0], 3, image_points.shape[2]])\n",
    "disparities = np.zeros([image_points.shape[0], image_points.shape[2]])\n",
    "\n",
    "num_stereo_image_pairs = image_points.shape[2]\n",
    "num_checkerboard_points = image_points.shape[0]\n",
    "\n",
    "for i in range(num_stereo_image_pairs):\n",
    "    left_image_checkerboard_points = image_points[:,:,i,0]\n",
    "    right_image_checkerboard_points = image_points[:,:,i,1]\n",
    "    disparity_values = left_image_checkerboard_points - right_image_checkerboard_points\n",
    "    horizontal_disparity_values = disparity_values[:, 0]\n",
    "    for j, point in enumerate(left_image_checkerboard_points):\n",
    "        depth = depth_from_disp(horizontal_disparity_values[j])\n",
    "        x, y, z = convert_to_world_point(point[0], point[1], depth)\n",
    "        world_points[j, :, i] = np.array([x, y, z])\n",
    "        disparities[j, i] = horizontal_disparity_values[j]\n",
    "    \n",
    "    \n"
   ]
  },
  {
   "cell_type": "markdown",
   "metadata": {},
   "source": [
    "<h3> Get predicted distances vs. ground truth distances </h3>"
   ]
  },
  {
   "cell_type": "code",
   "execution_count": null,
   "metadata": {},
   "outputs": [],
   "source": [
    "# all distances in meters\n",
    "\n",
    "CHECKERBOARD_WIDTH = 18\n",
    "CHECKERBOARD_HEIGHT = 11\n",
    "SQUARE_SIDE_LENGTH = 0.052441185\n",
    "def get_ground_truth_distance(m, n):\n",
    "    col1 = int(m / CHECKERBOARD_HEIGHT)\n",
    "    row1 = m % CHECKERBOARD_HEIGHT\n",
    "    \n",
    "    col2 = int(n / CHECKERBOARD_HEIGHT)\n",
    "    row2 = n % CHECKERBOARD_HEIGHT\n",
    "    \n",
    "    ground_truth_distance = SQUARE_SIDE_LENGTH * ((col2 - col1)**2 + (row2 - row1)**2)**0.5\n",
    "    return ground_truth_distance\n",
    "    \n",
    "    \n",
    "    "
   ]
  },
  {
   "cell_type": "code",
   "execution_count": null,
   "metadata": {},
   "outputs": [],
   "source": [
    "point_1_disparities = []\n",
    "point_2_disparities = []\n",
    "ground_truth_distances = []\n",
    "errors = []\n",
    "relative_errors = []\n",
    "\n",
    "point_1_left_x_coordinates = []\n",
    "point_1_left_y_coordinates = []\n",
    "point_2_left_x_coordinates = []\n",
    "point_2_left_y_coordinates = []\n",
    "\n",
    "point_1_right_x_coordinates = []\n",
    "point_1_right_y_coordinates = []\n",
    "point_2_right_x_coordinates = []\n",
    "point_2_right_y_coordinates = []\n",
    "\n",
    "stereo_image_pair_numbers = []\n",
    "point_1_numbers = []\n",
    "point_2_numbers = []\n",
    "\n",
    "for i in range(num_stereo_image_pairs):\n",
    "    for m in range(len(world_points[:, :, i])):\n",
    "        for n in range(m+1, len(world_points[:, :, i])):\n",
    "            world_point_1 = world_points[:, :, i][m]\n",
    "            world_point_2 = world_points[:, :, i][n]\n",
    "            predicted_distance = np.linalg.norm(world_point_1 - world_point_2)\n",
    "            \n",
    "            # get relative and ground truth differences\n",
    "            ground_truth_distance = get_ground_truth_distance(m, n)\n",
    "            error = predicted_distance - ground_truth_distance\n",
    "            relative_error = error / ground_truth_distance\n",
    "            errors.append(error)\n",
    "            relative_errors.append(relative_error)\n",
    "            ground_truth_distances.append(ground_truth_distance)\n",
    "            \n",
    "            # get horizontal disparity mean\n",
    "            point_1_disparity = disparities[:, i][m]\n",
    "            point_2_disparity = disparities[:, i][n]\n",
    "            point_1_disparities.append(point_1_disparity)\n",
    "            point_2_disparities.append(point_2_disparity)\n",
    "            \n",
    "            # get x and y image coordinate means for each point\n",
    "            point_1_left_image_coordinates = image_points[m, :, i, 0]\n",
    "            point_1_right_image_coordinates = image_points[m, :, i, 1]\n",
    "            point_2_left_image_coordinates = image_points[n, :, i, 0]\n",
    "            point_2_right_image_coordinates = image_points[n, :, i, 1]\n",
    "            \n",
    "            point_1_left_x_coordinate = point_1_left_image_coordinates[0]\n",
    "            point_1_left_y_coordinate = point_1_left_image_coordinates[1]\n",
    "            point_2_left_x_coordinate = point_2_left_image_coordinates[0]\n",
    "            point_2_left_y_coordinate = point_2_left_image_coordinates[1]\n",
    "            \n",
    "            point_1_right_x_coordinate = point_1_right_image_coordinates[0]\n",
    "            point_1_right_y_coordinate = point_1_right_image_coordinates[1]\n",
    "            point_2_right_x_coordinate = point_2_right_image_coordinates[0]\n",
    "            point_2_right_y_coordinate = point_2_right_image_coordinates[1]\n",
    "            \n",
    "            point_1_left_x_coordinates.append(point_1_left_x_coordinate)\n",
    "            point_1_left_y_coordinates.append(point_1_left_y_coordinate)\n",
    "            point_2_left_x_coordinates.append(point_2_left_x_coordinate)\n",
    "            point_2_left_y_coordinates.append(point_2_left_y_coordinate)\n",
    "\n",
    "            point_1_right_x_coordinates.append(point_1_right_x_coordinate)\n",
    "            point_1_right_y_coordinates.append(point_1_right_y_coordinate)\n",
    "            point_2_right_x_coordinates.append(point_2_right_x_coordinate)\n",
    "            point_2_right_y_coordinates.append(point_2_right_y_coordinate)\n",
    "            \n",
    "            # add stereo image pair number, point 1 number, and point 2 number\n",
    "            stereo_image_pair_numbers.append(i)\n",
    "            point_1_numbers.append(m)\n",
    "            point_2_numbers.append(n)\n",
    "\n",
    "\n",
    "df = pd.DataFrame({\n",
    "    'point_1_disparity': point_1_disparities,\n",
    "    'point_2_disparity': point_2_disparities,\n",
    "    'ground_truth_distance': ground_truth_distances,\n",
    "    'error': errors,\n",
    "    'relative_error': relative_errors,\n",
    "    \n",
    "    'point_1_left_x_coordinate': point_1_left_x_coordinates,\n",
    "    'point_1_left_y_coordinate': point_1_left_y_coordinates,\n",
    "    'point_2_left_x_coordinate': point_2_left_x_coordinates,\n",
    "    'point_2_left_y_coordinate': point_2_left_y_coordinates,\n",
    "    \n",
    "    'point_1_right_x_coordinate': point_1_right_x_coordinates,\n",
    "    'point_1_right_y_coordinate': point_1_right_y_coordinates,\n",
    "    'point_2_right_x_coordinate': point_2_right_x_coordinates,\n",
    "    'point_2_right_y_coordinate': point_2_right_y_coordinates,\n",
    "    \n",
    "    'stereo_image_pair_number': stereo_image_pair_numbers,\n",
    "    'point_1_number': point_1_numbers,\n",
    "    'point_2_number': point_2_numbers\n",
    "})\n",
    "            \n",
    "            "
   ]
  },
  {
   "cell_type": "code",
   "execution_count": null,
   "metadata": {},
   "outputs": [],
   "source": [
    "mask = (df.ground_truth_distance > 0.4) & (df.ground_truth_distance < 0.65)\n",
    "df[mask].sort_values('ground_truth_distance', ascending=False)"
   ]
  },
  {
   "cell_type": "code",
   "execution_count": null,
   "metadata": {},
   "outputs": [],
   "source": []
  },
  {
   "cell_type": "code",
   "execution_count": null,
   "metadata": {},
   "outputs": [],
   "source": [
    "plt.hist(df[mask].error)\n",
    "plt.show()"
   ]
  },
  {
   "cell_type": "code",
   "execution_count": null,
   "metadata": {},
   "outputs": [],
   "source": []
  },
  {
   "cell_type": "code",
   "execution_count": null,
   "metadata": {},
   "outputs": [],
   "source": []
  },
  {
   "cell_type": "code",
   "execution_count": null,
   "metadata": {},
   "outputs": [],
   "source": [
    "def display_stereo_frame_pair(stereo_image_pair_number):\n",
    "    left_image_points = image_points[:, :, stereo_image_pair_number, 0]\n",
    "    right_image_points = image_points[:, :, stereo_image_pair_number, 1]\n",
    "    \n",
    "    left_im = plt.imread(left_image_paths[stereo_image_pair_number])\n",
    "    right_im = plt.imread(right_image_paths[stereo_image_pair_number])\n",
    "    plt.figure(figsize=(50, 50))\n",
    "    plt.subplot(2, 1, 1)\n",
    "    plt.imshow(left_im)\n",
    "    plt.scatter(left_image_points[:, 0], left_image_points[:, 1], s=60, c='red', marker='o')\n",
    "    plt.subplot(2, 1, 2)\n",
    "    plt.imshow(right_im)\n",
    "    plt.scatter(right_image_points[:, 0], right_image_points[:, 1], s=60, c='red', marker='o')\n",
    "    plt.show()"
   ]
  },
  {
   "cell_type": "code",
   "execution_count": null,
   "metadata": {},
   "outputs": [],
   "source": [
    "display_stereo_frame_pair(18)"
   ]
  },
  {
   "cell_type": "code",
   "execution_count": null,
   "metadata": {},
   "outputs": [],
   "source": []
  },
  {
   "cell_type": "code",
   "execution_count": null,
   "metadata": {},
   "outputs": [],
   "source": [
    "plt.hist(errors, 20)"
   ]
  },
  {
   "cell_type": "code",
   "execution_count": null,
   "metadata": {},
   "outputs": [],
   "source": []
  },
  {
   "cell_type": "code",
   "execution_count": null,
   "metadata": {},
   "outputs": [],
   "source": []
  },
  {
   "cell_type": "code",
   "execution_count": null,
   "metadata": {},
   "outputs": [],
   "source": []
  },
  {
   "cell_type": "code",
   "execution_count": null,
   "metadata": {},
   "outputs": [],
   "source": [
    "plt.scatter(ground_truth_distances, relative_errors)"
   ]
  },
  {
   "cell_type": "code",
   "execution_count": null,
   "metadata": {},
   "outputs": [],
   "source": [
    "# plt.scatter(disparity_means, differences)\n",
    "buckets = [400, 500, 600, 700, 800, 900]\n",
    "bucket_size = 100\n",
    "rel_diffs_by_bucket = {}\n",
    "for bucket in buckets:\n",
    "    left_endpoint, right_endpoint = bucket - 0.5 * bucket_size, bucket + 0.5 * bucket_size\n",
    "    rel_diffs = relative_differences[np.logical_and(left_endpoint < disparity_means, disparity_means < right_endpoint)]\n",
    "    rel_diffs_by_bucket[bucket] = list(rel_diffs)\n",
    "    \n",
    "    \n",
    "    "
   ]
  },
  {
   "cell_type": "code",
   "execution_count": null,
   "metadata": {},
   "outputs": [],
   "source": [
    "for bucket in buckets:\n",
    "    print('Bucket: {}, Median rel diff: {}'.format(bucket, np.median(rel_diffs_by_bucket[bucket])))"
   ]
  },
  {
   "cell_type": "code",
   "execution_count": null,
   "metadata": {},
   "outputs": [],
   "source": [
    "len(disparity_means)"
   ]
  },
  {
   "cell_type": "code",
   "execution_count": null,
   "metadata": {},
   "outputs": [],
   "source": [
    "plt.scatter(disparity_means, relative_differences)\n",
    "plt.show()"
   ]
  },
  {
   "cell_type": "code",
   "execution_count": null,
   "metadata": {},
   "outputs": [],
   "source": []
  },
  {
   "cell_type": "code",
   "execution_count": null,
   "metadata": {},
   "outputs": [],
   "source": [
    "differences[left_endpoint < disparity_means]"
   ]
  },
  {
   "cell_type": "code",
   "execution_count": null,
   "metadata": {},
   "outputs": [],
   "source": [
    "len(differences)"
   ]
  },
  {
   "cell_type": "code",
   "execution_count": null,
   "metadata": {},
   "outputs": [],
   "source": []
  },
  {
   "cell_type": "code",
   "execution_count": null,
   "metadata": {},
   "outputs": [],
   "source": []
  }
 ],
 "metadata": {
  "kernelspec": {
   "display_name": "Python 3",
   "language": "python",
   "name": "python3"
  },
  "language_info": {
   "codemirror_mode": {
    "name": "ipython",
    "version": 3
   },
   "file_extension": ".py",
   "mimetype": "text/x-python",
   "name": "python",
   "nbconvert_exporter": "python",
   "pygments_lexer": "ipython3",
   "version": "3.7.0"
  }
 },
 "nbformat": 4,
 "nbformat_minor": 2
}
