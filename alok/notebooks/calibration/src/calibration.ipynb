{
 "cells": [
  {
   "cell_type": "code",
   "execution_count": null,
   "metadata": {},
   "outputs": [],
   "source": [
    "import glob\n",
    "import os\n",
    "import random"
   ]
  },
  {
   "cell_type": "markdown",
   "metadata": {},
   "source": [
    "<h1> Calibration Facilitator Notebook </h1>"
   ]
  },
  {
   "cell_type": "markdown",
   "metadata": {},
   "source": [
    "<h3> Define directory structure for calibration images </h3>"
   ]
  },
  {
   "cell_type": "code",
   "execution_count": null,
   "metadata": {},
   "outputs": [],
   "source": [
    "root_dir = '/Users/aloksaxena/Documents/aquabyteai/repos/cv_research/alok/notebooks/calibration/data/images_GTSF_A'\n",
    "left_calibration_images_dir = '{}/left_calibration_images'.format(root_dir)\n",
    "right_calibration_images_dir = '{}/right_calibration_images'.format(root_dir)\n",
    "left_calibration_image_fs = glob.glob(os.path.join(left_calibration_images_dir, '*.jpg'))\n",
    "right_calibration_image_fs = glob.glob(os.path.join(right_calibration_images_dir, '*.jpg'))\n",
    "\n",
    "# these directories will contain a random subset of all calibration images\n",
    "filtered_left_calibration_images_dir = '{}/filtered_left_calibration_images'.format(root_dir)\n",
    "filtered_right_calibration_images_dir = '{}/filtered_right_calibration_images'.format(root_dir)"
   ]
  },
  {
   "cell_type": "markdown",
   "metadata": {},
   "source": [
    "<h3> Clean the calibration images (i.e. remove lone images that do not belong to a pair) </h3>"
   ]
  },
  {
   "cell_type": "code",
   "execution_count": null,
   "metadata": {},
   "outputs": [],
   "source": [
    "for left_calibration_image_f in left_calibration_image_fs:\n",
    "    left_calibration_image_name = os.path.basename(left_calibration_image_f)\n",
    "    equivalent_right_calibration_image_name = left_calibration_image_name.replace('left', 'right')\n",
    "    equivalent_right_calibration_image_f = os.path.join(right_calibration_images_dir, equivalent_right_calibration_image_name)\n",
    "    if equivalent_right_calibration_image_f not in right_calibration_image_fs:\n",
    "        print('hi')\n",
    "        os.remove(os.path.join(left_calibration_images_path, left_calibration_image))\n",
    "\n",
    "\n",
    "for right_calibration_image_f in right_calibration_image_fs:\n",
    "    right_calibration_image_name = os.path.basename(right_calibration_image_f)\n",
    "    equivalent_left_calibration_image_name = right_calibration_image_name.replace('right', 'left')\n",
    "    equivalent_left_calibration_image_f = os.path.join(left_calibration_images_dir, equivalent_left_calibration_image_name)\n",
    "    if equivalent_left_calibration_image_f not in left_calibration_image_fs:\n",
    "        print('hi')\n",
    "        os.remove(os.path.join(right_calibration_images_path, right_calibration_image))\n"
   ]
  },
  {
   "cell_type": "markdown",
   "metadata": {},
   "source": [
    "<h3> Filter the calibration images </h3>"
   ]
  },
  {
   "cell_type": "code",
   "execution_count": null,
   "metadata": {},
   "outputs": [],
   "source": [
    "N = 40\n",
    "\n",
    "filtered_left_calibration_image_fs = [left_calibration_image_fs[i] for i in sorted(random.sample(range(len(left_calibration_image_fs)), N))]\n",
    "filtered_right_calibration_image_fs = []\n",
    "for left_calibration_image_f in filtered_left_calibration_image_fs:\n",
    "    left_calibration_image_name = os.path.basename(left_calibration_image_f)\n",
    "    equivalent_right_calibration_image_name = left_calibration_image_name.replace('left', 'right')\n",
    "    equivalent_right_calibration_image_f = os.path.join(right_calibration_images_dir, equivalent_right_calibration_image_name)\n",
    "    filtered_right_calibration_image_fs.append(equivalent_right_calibration_image_f)\n",
    "\n",
    "filtered_left_calibration_image_fs = filtered_left_calibration_image_fs + additional_left_image_fs\n",
    "filtered_right_calibration_image_fs = filtered_right_calibration_image_fs + additional_right_image_fs\n",
    "\n",
    "for l, r in zip(filtered_left_calibration_image_fs, filtered_right_calibration_image_fs):\n",
    "    \n",
    "    new_left_image_path = os.path.join(filtered_left_calibration_images_dir, os.path.basename(l))\n",
    "    new_right_image_path = os.path.join(filtered_right_calibration_images_dir, os.path.basename(r))\n",
    "    os.rename(l, new_left_image_path)\n",
    "    os.rename(r, new_right_image_path)\n",
    "    "
   ]
  },
  {
   "cell_type": "code",
   "execution_count": null,
   "metadata": {},
   "outputs": [],
   "source": [
    "start_epoch = 1548836911522\n",
    "end_epoch = 1548836933522\n",
    "\n",
    "additional_left_image_fs = []\n",
    "additional_right_image_fs = []\n",
    "for l, r in zip(left_calibration_image_fs, right_calibration_image_fs):\n",
    "    l_epoch = int(os.path.basename(l).replace('.jpg', '').split('_')[-1])\n",
    "    r_epoch = int(os.path.basename(r).replace('.jpg', '').split('_')[-1])\n",
    "    assert (l_epoch == r_epoch), 'Mismatch!'\n",
    "    \n",
    "    if start_epoch < l_epoch < end_epoch:\n",
    "        additional_left_image_fs.append(l)\n",
    "        additional_right_image_fs.append(r)\n",
    "    \n",
    "    \n"
   ]
  },
  {
   "cell_type": "code",
   "execution_count": null,
   "metadata": {},
   "outputs": [],
   "source": []
  },
  {
   "cell_type": "code",
   "execution_count": null,
   "metadata": {},
   "outputs": [],
   "source": []
  },
  {
   "cell_type": "code",
   "execution_count": null,
   "metadata": {},
   "outputs": [],
   "source": [
    "training_dir = '/Users/aloksaxena/Documents/aquabyteai/repos/cv_research/alok/notebooks/calibration/data/images_20190305/validation_images//'\n",
    "src_dir = '/Users/aloksaxena/Documents/aquabyteai/repos/cv_research/alok/notebooks/calibration/data/images_20190305/all_images'\n",
    "\n",
    "training_left_image_fs = glob.glob(os.path.join(training_dir, 'left*.jpg'))\n",
    "training_right_image_fs = glob.glob(os.path.join(training_dir, 'right*.jpg'))\n",
    "for image_f in training_left_image_fs + training_right_image_fs:\n",
    "    new_f = None\n",
    "    if 'left' in image_f:\n",
    "        new_f = image_f.replace('left', 'right')\n",
    "        if new_f in training_right_image_fs:\n",
    "            continue\n",
    "        else:\n",
    "            if not os.path.exists(os.path.join(src_dir, os.path.basename(new_f))):\n",
    "                print('File not found: {}'.format(os.path.join(src_dir, os.path.basename(new_f))))\n",
    "                continue\n",
    "            os.rename(os.path.join(src_dir, os.path.basename(new_f)), os.path.join(training_dir, os.path.basename(new_f)))\n",
    "    elif 'right' in image_f:\n",
    "        new_f = image_f.replace('right', 'left')\n",
    "        if new_f in training_left_image_fs:\n",
    "\n",
    "            continue\n",
    "        else:\n",
    "            if not os.path.exists(os.path.join(src_dir, os.path.basename(new_f))):\n",
    "                print('File not found: {}'.format(os.path.join(src_dir, os.path.basename(new_f))))\n",
    "                continue\n",
    "            os.rename(os.path.join(src_dir, os.path.basename(new_f)), os.path.join(training_dir, os.path.basename(new_f)))\n"
   ]
  },
  {
   "cell_type": "code",
   "execution_count": null,
   "metadata": {},
   "outputs": [],
   "source": []
  },
  {
   "cell_type": "code",
   "execution_count": null,
   "metadata": {},
   "outputs": [],
   "source": [
    "left_image_fs = glob.glob(os.path.join(src_dir, 'left*.jpg'))\n",
    "right_image_fs = glob.glob(os.path.join(src_dir, 'right*.jpg'))"
   ]
  },
  {
   "cell_type": "code",
   "execution_count": null,
   "metadata": {},
   "outputs": [],
   "source": [
    "for left_image_f in left_image_fs:\n",
    "    epoch = os.path.basename(left_image_f).replace('.jpg', '').split('_')[-1]\n",
    "    for right_image_f in right_image_fs:\n",
    "        r_epoch = os.path.basename(right_image_f).replace('.jpg', '').split('_')[-1]\n",
    "        if epoch == r_epoch:\n",
    "            print('here')"
   ]
  },
  {
   "cell_type": "code",
   "execution_count": null,
   "metadata": {},
   "outputs": [],
   "source": []
  },
  {
   "cell_type": "code",
   "execution_count": null,
   "metadata": {},
   "outputs": [],
   "source": []
  }
 ],
 "metadata": {
  "kernelspec": {
   "display_name": "Python 3",
   "language": "python",
   "name": "python3"
  },
  "language_info": {
   "codemirror_mode": {
    "name": "ipython",
    "version": 3
   },
   "file_extension": ".py",
   "mimetype": "text/x-python",
   "name": "python",
   "nbconvert_exporter": "python",
   "pygments_lexer": "ipython3",
   "version": "3.7.0"
  }
 },
 "nbformat": 4,
 "nbformat_minor": 2
}
