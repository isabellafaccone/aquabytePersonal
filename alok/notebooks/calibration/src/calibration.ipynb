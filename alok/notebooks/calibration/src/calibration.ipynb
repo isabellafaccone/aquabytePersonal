{
 "cells": [
  {
   "cell_type": "code",
   "execution_count": null,
   "metadata": {},
   "outputs": [],
   "source": [
    "import os\n",
    "import random"
   ]
  },
  {
   "cell_type": "markdown",
   "metadata": {},
   "source": [
    "<h1> Calibration Facilitator Notebook </h1>"
   ]
  },
  {
   "cell_type": "markdown",
   "metadata": {},
   "source": [
    "<h3> Define directory structure for calibration images </h3>"
   ]
  },
  {
   "cell_type": "code",
   "execution_count": null,
   "metadata": {},
   "outputs": [],
   "source": [
    "\n",
    "root_dir = '/Users/aloksaxena/Documents/aquabyteai/notebooks/calibration/images_02'\n",
    "left_calibration_images_path = '{}/left_calibration_images'.format(root_dir)\n",
    "right_calibration_images_path = '{}/right_calibration_images'.format(root_dir)\n",
    "left_calibration_images = os.listdir(left_calibration_images_path)\n",
    "right_calibration_images = os.listdir(right_calibration_images_path)\n",
    "\n",
    "# these directories will contain a random subset of all calibration images\n",
    "filtered_left_calibration_images_path = '{}/filtered_left_calibration_images'.format(root_dir)\n",
    "filtered_right_calibration_images_path = '{}/filtered_right_calibration_images'.format(root_dir)"
   ]
  },
  {
   "cell_type": "markdown",
   "metadata": {},
   "source": [
    "<h3> Clean the calibration images (i.e. remove lone images that do not belong to a pair) </h3>"
   ]
  },
  {
   "cell_type": "code",
   "execution_count": null,
   "metadata": {},
   "outputs": [],
   "source": [
    "for left_calibration_image in left_calibration_images:\n",
    "    equivalent_right_calibration_image_name = left_calibration_image.replace('left', 'right')\n",
    "    if equivalent_right_calibration_image_name not in right_calibration_images:\n",
    "        print('hi')\n",
    "        os.remove(os.path.join(left_calibration_images_path, left_calibration_image))\n",
    "\n",
    "for right_calibration_image in right_calibration_images:\n",
    "    equivalent_left_calibration_image_name = right_calibration_image.replace('right', 'left')\n",
    "    if equivalent_left_calibration_image_name not in left_calibration_images:\n",
    "        print('hey')\n",
    "        os.remove(os.path.join(right_calibration_images_path, right_calibration_image))\n",
    "        \n"
   ]
  },
  {
   "cell_type": "markdown",
   "metadata": {},
   "source": [
    "<h3> Filter the calibration images </h3>"
   ]
  },
  {
   "cell_type": "code",
   "execution_count": null,
   "metadata": {},
   "outputs": [],
   "source": [
    "\n",
    "filtered_left_calibration_images = [left_calibration_images[i] for i in sorted(random.sample(xrange(len(left_calibration_images)), 60)) ]\n",
    "filtered_right_calibration_images = []\n",
    "for left_calibration_image in filtered_left_calibration_images:\n",
    "    equivalent_right_calibration_image_name = left_calibration_image.replace('left', 'right')\n",
    "    filtered_right_calibration_images.append(equivalent_right_calibration_image_name)\n",
    "\n",
    "\n",
    "\n",
    "for l, r in zip(filtered_left_calibration_images, filtered_right_calibration_images):\n",
    "    original_left_image_path = os.path.join(left_calibration_images_path, l)\n",
    "    original_right_image_path = os.path.join(right_calibration_images_path, r)\n",
    "    new_left_image_path = os.path.join(filtered_left_calibration_images_path, l)\n",
    "    new_right_image_path = os.path.join(filtered_right_calibration_images_path, r)\n",
    "    os.rename(original_left_image_path, new_left_image_path)\n",
    "    os.rename(original_right_image_path, new_right_image_path)\n",
    "    "
   ]
  },
  {
   "cell_type": "code",
   "execution_count": null,
   "metadata": {},
   "outputs": [],
   "source": []
  },
  {
   "cell_type": "code",
   "execution_count": null,
   "metadata": {},
   "outputs": [],
   "source": []
  }
 ],
 "metadata": {
  "kernelspec": {
   "display_name": "Python 2",
   "language": "python",
   "name": "python2"
  },
  "language_info": {
   "codemirror_mode": {
    "name": "ipython",
    "version": 2
   },
   "file_extension": ".py",
   "mimetype": "text/x-python",
   "name": "python",
   "nbconvert_exporter": "python",
   "pygments_lexer": "ipython2",
   "version": "2.7.14"
  }
 },
 "nbformat": 4,
 "nbformat_minor": 2
}
