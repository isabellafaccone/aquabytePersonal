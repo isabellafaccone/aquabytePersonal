{
 "cells": [
  {
   "cell_type": "code",
   "execution_count": null,
   "metadata": {},
   "outputs": [],
   "source": [
    "import glob\n",
    "import json\n",
    "import os\n",
    "from multiprocessing import Pool, pool\n",
    "\n",
    "import cv2\n",
    "import numpy as np\n",
    "import csv\n",
    "\n",
    "import pandas as pd\n",
    "from scipy.io import loadmat\n",
    "import time\n",
    "from matplotlib import pyplot as plt\n",
    "\n",
    "from PIL import Image"
   ]
  },
  {
   "cell_type": "code",
   "execution_count": null,
   "metadata": {},
   "outputs": [],
   "source": []
  },
  {
   "cell_type": "markdown",
   "metadata": {},
   "source": [
    "<h1> Load sample image and stereo parameters </h1>"
   ]
  },
  {
   "cell_type": "code",
   "execution_count": null,
   "metadata": {},
   "outputs": [],
   "source": [
    "\n",
    "left_image_f = '/root/data/s3/aquabyte-frames-resized-inbound/environment=production/site-id=56/pen-id=88/date=2020-03-01/hour=00/at=2020-03-01T00:00:21.069179000Z/left_frame_crop_660_1878_4004_3000.jpg'\n",
    "right_image_f = '/root/data/s3/aquabyte-frames-resized-inbound/environment=production/site-id=56/pen-id=88/date=2020-03-01/hour=00/at=2020-03-01T00:00:21.069179000Z/right_frame_crop_276_1860_3652_3000.jpg'\n"
   ]
  },
  {
   "cell_type": "code",
   "execution_count": null,
   "metadata": {},
   "outputs": [],
   "source": []
  },
  {
   "cell_type": "code",
   "execution_count": null,
   "metadata": {},
   "outputs": [],
   "source": []
  },
  {
   "cell_type": "code",
   "execution_count": null,
   "metadata": {},
   "outputs": [],
   "source": []
  },
  {
   "cell_type": "code",
   "execution_count": null,
   "metadata": {},
   "outputs": [],
   "source": [
    "\n"
   ]
  },
  {
   "cell_type": "code",
   "execution_count": null,
   "metadata": {},
   "outputs": [],
   "source": []
  },
  {
   "cell_type": "code",
   "execution_count": null,
   "metadata": {},
   "outputs": [],
   "source": []
  },
  {
   "cell_type": "markdown",
   "metadata": {},
   "source": [
    "<h1> Rectify the padded image </h1>"
   ]
  },
  {
   "cell_type": "code",
   "execution_count": null,
   "metadata": {},
   "outputs": [],
   "source": []
  },
  {
   "cell_type": "code",
   "execution_count": null,
   "metadata": {},
   "outputs": [],
   "source": [
    "def load_params(params_file):\n",
    "    params = json.load(open(params_file))\n",
    "    cameraMatrix1 = np.array(params['CameraParameters1']['IntrinsicMatrix']).transpose()\n",
    "    cameraMatrix2 = np.array(params['CameraParameters2']['IntrinsicMatrix']).transpose()\n",
    "\n",
    "    distCoeffs1 = params['CameraParameters1']['RadialDistortion'][0:2] + \\\n",
    "                   params['CameraParameters1']['TangentialDistortion'] + \\\n",
    "                   [params['CameraParameters1']['RadialDistortion'][2]]\n",
    "    distCoeffs1 = np.array(distCoeffs1)\n",
    "\n",
    "    distCoeffs2 = params['CameraParameters2']['RadialDistortion'][0:2] + \\\n",
    "                   params['CameraParameters2']['TangentialDistortion'] + \\\n",
    "                   [params['CameraParameters2']['RadialDistortion'][2]]\n",
    "    distCoeffs2 = np.array(distCoeffs2)\n",
    "\n",
    "    R = np.array(params['RotationOfCamera2']).transpose()\n",
    "    T = np.array(params['TranslationOfCamera2']).transpose()\n",
    "\n",
    "    imageSize = (4096, 3000)\n",
    "    \n",
    "    # perform rectification\n",
    "    (R1, R2, P1, P2, Q, leftROI, rightROI) = cv2.stereoRectify(cameraMatrix1, distCoeffs1, cameraMatrix2, distCoeffs2, imageSize, R, T, None, None, None, None, None, cv2.CALIB_ZERO_DISPARITY, 0)\n",
    "\n",
    "    left_maps = cv2.initUndistortRectifyMap(cameraMatrix1, distCoeffs1, R1, P1, imageSize, cv2.CV_16SC2)\n",
    "    right_maps = cv2.initUndistortRectifyMap(cameraMatrix2, distCoeffs2, R2, P2, imageSize, cv2.CV_16SC2)\n",
    "    \n",
    "    return left_maps, right_maps\n",
    "\n",
    "def rectify_crop(crop_image_f, side, crop_metadata, stereo_params_f):\n",
    "    left_maps, right_maps = load_params(stereo_params_f)\n",
    "    maps = left_maps if side == 'left' else right_maps\n",
    "    crop = cv2.imread(crop_image_f)\n",
    "    new_image = np.zeros([3000, 4096, 3]).astype('uint8')\n",
    "    lower_left = (crop_metadata['y_coord'] + crop_metadata['height'], crop_metadata['x_coord'])\n",
    "    upper_right = (crop_metadata['y_coord'], crop_metadata['x_coord'] + crop_metadata['width'])\n",
    "    new_image[upper_right[0]:lower_left[0], lower_left[1]:upper_right[1], :] = np.array(crop)\n",
    "    remap = cv2.remap(new_image, maps[0], maps[1], cv2.INTER_LANCZOS4)\n",
    "    nonzero_indices = np.where(remap > 0)\n",
    "    y_min, y_max = nonzero_indices[0].min(), nonzero_indices[0].max() \n",
    "    x_min, x_max = nonzero_indices[1].min(), nonzero_indices[1].max()\n",
    "    lower_left = (y_max, x_min)\n",
    "    upper_right = (y_min, x_max)\n",
    "    print(x_max - x_min)\n",
    "    print(y_max - y_min)\n",
    "    print(x_min)\n",
    "    print(y_min)\n",
    "    rectified_crop = remap[upper_right[0]:lower_left[0], lower_left[1]:upper_right[1], :].copy()\n",
    "    cv2.imwrite('/Users/aloksaxena/Desktop/{}_full_res.jpg'.format(os.path.basename(crop_image_f).replace('.jpg', '')), new_image)\n",
    "    cv2.imwrite('/Users/aloksaxena/Desktop/{}_full_res_rectified.jpg'.format(os.path.basename(crop_image_f).replace('.jpg', '')), remap)\n",
    "    cv2.imwrite('/Users/aloksaxena/Desktop/{}_rectified.jpg'.format(os.path.basename(crop_image_f).replace('.jpg', '')), rectified_crop)\n",
    "\n"
   ]
  },
  {
   "cell_type": "code",
   "execution_count": null,
   "metadata": {},
   "outputs": [],
   "source": [
    "stereo_params_f = '/root/data/s3/aquabyte-stereo-parameters/L40039154_R40012648/2020-02-19T03:42:04.748042000Z_L40039154_R40012648_stereo-parameters.json'\n",
    "left_crop_image_f = '/root/data/s3/aquabyte-frames-resized-inbound/environment=production/site-id=56/pen-id=88/date=2020-03-01/hour=00/at=2020-03-01T00:00:21.069179000Z/left_frame_crop_660_1878_4004_3000.jpg'\n",
    "left_crop_metadata = {\"width\": 3344, \"height\": 1122, \"x_coord\": 1118, \"y_coord\": 752, \"crop_area\": 1100440, \"qualityScore\": {\"quality\": 0.003564488375559449, \"darkness\": 0.9802804589271545, \"modelInfo\": {\"model\": \"Mobilenet\", \"input_size\": [224, 224, 3], \"description\": \"binary classification good / bad for filtering\", \"output_size\": [3], \"probability\": {\"is_dark\": 2, \"is_good\": 0, \"is_blurry\": 1}}, \"blurriness\": 0.01695990562438965}, \"mean_luminance\": 33.91584729744466}\n",
    "rectify_crop(left_crop_image_f, 'left', left_crop_metadata, stereo_params_f)"
   ]
  },
  {
   "cell_type": "code",
   "execution_count": null,
   "metadata": {},
   "outputs": [],
   "source": [
    "right_crop_image_f = '/root/data/s3/aquabyte-frames-resized-inbound/environment=production/site-id=56/pen-id=88/date=2020-03-01/hour=00/at=2020-03-01T00:00:21.069179000Z/right_frame_crop_276_1860_3652_3000.jpg'\n",
    "right_crop_metadata = {\"width\": 3376, \"height\": 1140, \"x_coord\": 622, \"y_coord\": 752, \"crop_area\": 1041680, \"qualityScore\": {\"quality\": 0.003564488375559449, \"darkness\": 0.9802804589271545, \"modelInfo\": {\"model\": \"Mobilenet\", \"input_size\": [224, 224, 3], \"description\": \"binary classification good / bad for filtering\", \"output_size\": [3], \"probability\": {\"is_dark\": 2, \"is_good\": 0, \"is_blurry\": 1}}, \"blurriness\": 0.01695990562438965}, \"mean_luminance\": 32.96295983411412}\n",
    "rectify_crop(right_crop_image_f, 'right', right_crop_metadata, stereo_params_f)"
   ]
  },
  {
   "cell_type": "code",
   "execution_count": null,
   "metadata": {},
   "outputs": [],
   "source": []
  },
  {
   "cell_type": "code",
   "execution_count": null,
   "metadata": {},
   "outputs": [],
   "source": [
    "left_image = cv2.imread(left_image_f)\n",
    "right_image = cv2.imread(right_image_f)\n",
    "cv2.imwrite('/Users/aloksaxena/Desktop/left_crop.jpg', left_image[left_crop_metadata['y_coord']:left_crop_metadata['y_coord']+left_crop_metadata['height'], left_crop_metadata['x_coord']:left_crop_metadata['x_coord']+left_crop_metadata['width'], :])\n",
    "cv2.imwrite('/Users/aloksaxena/Desktop/right_crop.jpg', right_image[right_crop_metadata['y_coord']:right_crop_metadata['y_coord']+right_crop_metadata['height'], right_crop_metadata['x_coord']:right_crop_metadata['x_coord']+right_crop_metadata['width'], :])\n",
    "left_crop_image_f = '/Users/aloksaxena/Desktop/left_crop.jpg'\n",
    "right_crop_image_f = '/Users/aloksaxena/Desktop/right_crop.jpg'\n",
    "rectify_crop(left_crop_image_f, 'left', left_crop_metadata, stereo_params_f)\n",
    "rectify_crop(right_crop_image_f, 'right', right_crop_metadata, stereo_params_f)"
   ]
  },
  {
   "cell_type": "code",
   "execution_count": null,
   "metadata": {},
   "outputs": [],
   "source": [
    "\n"
   ]
  },
  {
   "cell_type": "code",
   "execution_count": null,
   "metadata": {},
   "outputs": [],
   "source": []
  },
  {
   "cell_type": "code",
   "execution_count": null,
   "metadata": {},
   "outputs": [],
   "source": [
    "im_raw = cv2.imread('/Users/aloksaxena/Downloads/left_frame_crop_734_1362_4096_2710_raw.jpg')\n",
    "im_rectified = cv2.imread('/Users/aloksaxena/Downloads/left_frame_crop_734_1362_4096_2710_rectified.jpg')"
   ]
  },
  {
   "cell_type": "code",
   "execution_count": null,
   "metadata": {},
   "outputs": [],
   "source": [
    "im_raw.shape\n"
   ]
  },
  {
   "cell_type": "code",
   "execution_count": null,
   "metadata": {},
   "outputs": [],
   "source": [
    "(im_raw != im_rectified ).sum()"
   ]
  },
  {
   "cell_type": "code",
   "execution_count": null,
   "metadata": {},
   "outputs": [],
   "source": []
  },
  {
   "cell_type": "code",
   "execution_count": null,
   "metadata": {},
   "outputs": [],
   "source": []
  },
  {
   "cell_type": "code",
   "execution_count": null,
   "metadata": {},
   "outputs": [],
   "source": []
  },
  {
   "cell_type": "code",
   "execution_count": null,
   "metadata": {},
   "outputs": [],
   "source": [
    "{\"width\": 1880, \"height\": 624, \"x_coord\": 123, \"y_coord\": 2177, \"crop_area\": 1041680, \"qualityScore\": {\"quality\": 0.003564488375559449, \"darkness\": 0.9802804589271545, \"modelInfo\": {\"model\": \"Mobilenet\", \"input_size\": [224, 224, 3], \"description\": \"binary classification good / bad for filtering\", \"output_size\": [3], \"probability\": {\"is_dark\": 2, \"is_good\": 0, \"is_blurry\": 1}}, \"blurriness\": 0.01695990562438965}, \"mean_luminance\": 32.96295983411412}"
   ]
  },
  {
   "cell_type": "code",
   "execution_count": null,
   "metadata": {},
   "outputs": [],
   "source": []
  },
  {
   "cell_type": "code",
   "execution_count": null,
   "metadata": {},
   "outputs": [],
   "source": []
  }
 ],
 "metadata": {
  "kernelspec": {
   "display_name": "Python 3",
   "language": "python",
   "name": "python3"
  },
  "language_info": {
   "codemirror_mode": {
    "name": "ipython",
    "version": 3
   },
   "file_extension": ".py",
   "mimetype": "text/x-python",
   "name": "python",
   "nbconvert_exporter": "python",
   "pygments_lexer": "ipython3",
   "version": "3.6.5"
  }
 },
 "nbformat": 4,
 "nbformat_minor": 2
}
