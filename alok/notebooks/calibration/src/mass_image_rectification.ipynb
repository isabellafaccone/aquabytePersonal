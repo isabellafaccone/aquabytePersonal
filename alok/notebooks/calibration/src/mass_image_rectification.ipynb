{
 "cells": [
  {
   "cell_type": "markdown",
   "metadata": {},
   "source": [
    "<h1> Mass Image Rectification </h1>"
   ]
  },
  {
   "cell_type": "code",
   "execution_count": null,
   "metadata": {},
   "outputs": [],
   "source": [
    "import glob\n",
    "import json\n",
    "import os\n",
    "from multiprocessing import Pool, pool\n",
    "\n",
    "import cv2\n",
    "import matplotlib.pyplot as plt\n",
    "import numpy as np\n",
    "import csv\n",
    "\n",
    "from scipy.io import loadmat\n",
    "import time"
   ]
  },
  {
   "cell_type": "code",
   "execution_count": null,
   "metadata": {},
   "outputs": [],
   "source": []
  },
  {
   "cell_type": "code",
   "execution_count": null,
   "metadata": {},
   "outputs": [],
   "source": []
  },
  {
   "cell_type": "markdown",
   "metadata": {},
   "source": [
    "<h1> Load parameters file </h1>"
   ]
  },
  {
   "cell_type": "code",
   "execution_count": null,
   "metadata": {},
   "outputs": [],
   "source": [
    "def load_params(params_file):\n",
    "    params = json.load(open(params_file))\n",
    "    cameraMatrix1 = np.array(params['CameraParameters1']['IntrinsicMatrix']).transpose()\n",
    "    cameraMatrix2 = np.array(params['CameraParameters2']['IntrinsicMatrix']).transpose()\n",
    "\n",
    "    distCoeffs1 = params['CameraParameters1']['RadialDistortion'][0:2] + \\\n",
    "                   params['CameraParameters1']['TangentialDistortion'] + \\\n",
    "                   [params['CameraParameters1']['RadialDistortion'][2]]\n",
    "    distCoeffs1 = np.array(distCoeffs1)\n",
    "\n",
    "    distCoeffs2 = params['CameraParameters2']['RadialDistortion'][0:2] + \\\n",
    "                   params['CameraParameters2']['TangentialDistortion'] + \\\n",
    "                   [params['CameraParameters2']['RadialDistortion'][2]]\n",
    "    distCoeffs2 = np.array(distCoeffs2)\n",
    "\n",
    "    R = np.array(params['RotationOfCamera2']).transpose()\n",
    "    T = np.array(params['TranslationOfCamera2']).transpose()\n",
    "\n",
    "    imageSize = (4096, 3000)\n",
    "    \n",
    "    # perform rectification\n",
    "    (R1, R2, P1, P2, Q, leftROI, rightROI) = cv2.stereoRectify(cameraMatrix1, distCoeffs1, cameraMatrix2, distCoeffs2, imageSize, R, T, None, None, None, None, None, cv2.CALIB_ZERO_DISPARITY, 0)\n",
    "\n",
    "    left_maps = cv2.initUndistortRectifyMap(cameraMatrix1, distCoeffs1, R1, P1, imageSize, cv2.CV_16SC2)\n",
    "    right_maps = cv2.initUndistortRectifyMap(cameraMatrix2, distCoeffs2, R2, P2, imageSize, cv2.CV_16SC2)\n",
    "    \n",
    "    return left_maps, right_maps"
   ]
  },
  {
   "cell_type": "code",
   "execution_count": null,
   "metadata": {},
   "outputs": [],
   "source": [
    "params_file = '/app/data/stereo_parameters.json'\n",
    "left_maps, right_maps = load_params(params_file)"
   ]
  },
  {
   "cell_type": "code",
   "execution_count": null,
   "metadata": {},
   "outputs": [],
   "source": []
  },
  {
   "cell_type": "code",
   "execution_count": null,
   "metadata": {},
   "outputs": [],
   "source": []
  },
  {
   "cell_type": "markdown",
   "metadata": {},
   "source": [
    "<h1> Load all raw stereo image pairs to be rectified </h1>"
   ]
  },
  {
   "cell_type": "code",
   "execution_count": null,
   "metadata": {},
   "outputs": [],
   "source": [
    "def remap_and_save(img_path, output_dir, left_maps, right_maps):\n",
    "    \n",
    "    new_path = os.path.join(output_dir, os.path.basename(img_path))    \n",
    "    img = cv2.imread(img_path)\n",
    "    if 'left' in img_path:\n",
    "        img_remap = cv2.remap(img, left_maps[0], left_maps[1], cv2.INTER_LANCZOS4)\n",
    "    elif 'right' in img_path:\n",
    "        img_remap = cv2.remap(img, right_maps[0], right_maps[1], cv2.INTER_LANCZOS4)\n",
    "    else:\n",
    "        raise Exception('Image path does not contain side')\n",
    "    if not os.path.isdir(os.path.dirname(new_path)):\n",
    "        os.makedirs(os.path.dirname(new_path))\n",
    "    if not os.path.isfile(new_path):\n",
    "        cv2.imwrite(new_path, img_remap)\n",
    "\n",
    "\n",
    "\n",
    "\n"
   ]
  },
  {
   "cell_type": "code",
   "execution_count": null,
   "metadata": {},
   "outputs": [],
   "source": [
    "# specify the directory from which raw stereo frame pairs will be ingested\n",
    "left_images_directory = '/app/data/images_02/filtered_left_calibration_images'\n",
    "right_images_directory = '/app/data/images_02/filtered_right_calibration_images'\n",
    "\n",
    "# define output directory to which all rectified images will be written\n",
    "rectified_left_images_directory = '/app/data/images_02/rectified_filtered_left_calibration_images'\n",
    "rectified_right_images_directory = '/app/data/images_02/rectified_filtered_right_calibration_images'\n",
    "\n",
    "# get list of all stereo frame pairs\n",
    "left_images = glob.glob('{}/*.jpg'.format(left_images_directory))\n",
    "right_images = glob.glob('{}/*.jpg'.format(right_images_directory))\n",
    "stereo_frame_pairs = list(zip(sorted(left_images), sorted(right_images)))\n",
    "\n",
    "# create list of arguments to be mapped to multiprocessor\n",
    "arguments_list = []\n",
    "for sfp in stereo_frame_pairs:\n",
    "    left_image_path = sfp[0]\n",
    "    \n",
    "    left_arguments = [left_image_path, rectified_left_images_directory, left_maps, right_maps]\n",
    "    arguments_list.append(left_arguments)\n",
    "    \n",
    "    right_image_path = sfp[1]\n",
    "    \n",
    "    right_arguments = [right_image_path, rectified_right_images_directory, left_maps, right_maps]\n",
    "    arguments_list.append(right_arguments)\n"
   ]
  },
  {
   "cell_type": "code",
   "execution_count": null,
   "metadata": {},
   "outputs": [],
   "source": []
  },
  {
   "cell_type": "markdown",
   "metadata": {},
   "source": [
    "<h1> Run rectification on a per-frame basis on a single process </h1>"
   ]
  },
  {
   "cell_type": "code",
   "execution_count": null,
   "metadata": {},
   "outputs": [],
   "source": []
  },
  {
   "cell_type": "code",
   "execution_count": null,
   "metadata": {},
   "outputs": [],
   "source": []
  },
  {
   "cell_type": "code",
   "execution_count": null,
   "metadata": {},
   "outputs": [],
   "source": []
  },
  {
   "cell_type": "markdown",
   "metadata": {},
   "source": [
    "<h1> Run rectification en masse </h1>"
   ]
  },
  {
   "cell_type": "code",
   "execution_count": null,
   "metadata": {},
   "outputs": [],
   "source": [
    "# run multiple processes to rectify the images en masse (this may take a while depending on the number of images)\n",
    "\n",
    "p = Pool(processes=20)\n",
    "results = p.starmap(remap_and_save, arguments_list[:10])"
   ]
  },
  {
   "cell_type": "code",
   "execution_count": null,
   "metadata": {},
   "outputs": [],
   "source": [
    "starting_time = time.time()\n",
    "image_counter = 0\n",
    "for arguments in arguments_list:\n",
    "    print('here')\n",
    "    remap_and_save(*arguments)\n",
    "    image_counter += 1\n",
    "    if image_counter % 10 == 0:\n",
    "        time_taken_s = time.time() - starting_time\n",
    "        fps = image_counter / time_taken_s\n",
    "        print('Average FPS over {0} images: {1}'.format(image_counter, fps))\n",
    "    "
   ]
  },
  {
   "cell_type": "code",
   "execution_count": null,
   "metadata": {},
   "outputs": [],
   "source": []
  },
  {
   "cell_type": "code",
   "execution_count": null,
   "metadata": {},
   "outputs": [],
   "source": []
  },
  {
   "cell_type": "code",
   "execution_count": null,
   "metadata": {},
   "outputs": [],
   "source": []
  }
 ],
 "metadata": {
  "kernelspec": {
   "display_name": "Python 3",
   "language": "python",
   "name": "python3"
  },
  "language_info": {
   "codemirror_mode": {
    "name": "ipython",
    "version": 3
   },
   "file_extension": ".py",
   "mimetype": "text/x-python",
   "name": "python",
   "nbconvert_exporter": "python",
   "pygments_lexer": "ipython3",
   "version": "3.7.1"
  }
 },
 "nbformat": 4,
 "nbformat_minor": 2
}
