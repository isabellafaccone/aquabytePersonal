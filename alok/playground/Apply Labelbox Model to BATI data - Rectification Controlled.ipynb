{
 "cells": [
  {
   "cell_type": "code",
   "execution_count": null,
   "metadata": {},
   "outputs": [],
   "source": [
    "%load_ext autoreload\n",
    "%autoreload 2\n",
    "\n",
    "import pandas as pd\n",
    "import matplotlib.pyplot as plt\n",
    "import numpy as np\n",
    "import json\n",
    "import cv2\n",
    "\n",
    "import glob\n",
    "import os\n",
    "import boto3\n",
    "import tempfile\n",
    "from sqlalchemy import create_engine, MetaData, Table, select, and_, func\n",
    "from sqlalchemy.orm import sessionmaker\n",
    "from sqlalchemy.ext.automap import automap_base\n",
    "from sklearn.linear_model import LinearRegression\n",
    "from sklearn.decomposition import PCA\n",
    "from scipy.stats import norm\n",
    "import tqdm\n",
    "import pickle\n",
    "from itertools import combinations\n",
    "from aquabyte.data_access_utils import S3AccessUtils, RDSAccessUtils\n",
    "from aquabyte.accuracy_metrics import AccuracyMetricsGenerator\n",
    "from aquabyte.optics import euclidean_distance\n",
    "\n",
    "from PIL import Image, ImageDraw\n",
    "from multiprocessing import Pool, Manager\n",
    "import copy\n",
    "import uuid\n",
    "from sklearn.preprocessing import StandardScaler\n",
    "\n",
    "pd.set_option('display.max_rows', 500)\n",
    "\n",
    "\n",
    "\n"
   ]
  },
  {
   "cell_type": "code",
   "execution_count": null,
   "metadata": {},
   "outputs": [],
   "source": [
    "research_sql_credentials = json.load(open(os.environ[\"SQL_CREDENTIALS\"]))\n",
    "research_rds_access_utils = RDSAccessUtils(research_sql_credentials)\n",
    "sql_engine = research_rds_access_utils.sql_engine\n",
    "Session = sessionmaker(bind=sql_engine)\n",
    "session = Session()\n",
    "\n",
    "Base = automap_base()\n",
    "Base.prepare(sql_engine, reflect=True)\n",
    "Enclosure = Base.classes.enclosures\n",
    "Calibration = Base.classes.calibrations\n",
    "GtsfDataCollection = Base.classes.gtsf_data_collections\n",
    "StereoFramePair = Base.classes.stereo_frame_pairs"
   ]
  },
  {
   "cell_type": "code",
   "execution_count": null,
   "metadata": {},
   "outputs": [],
   "source": [
    "s3_access_utils = S3AccessUtils('/root/data')\n"
   ]
  },
  {
   "cell_type": "code",
   "execution_count": null,
   "metadata": {},
   "outputs": [],
   "source": [
    "session.rollback()"
   ]
  },
  {
   "cell_type": "code",
   "execution_count": null,
   "metadata": {},
   "outputs": [],
   "source": [
    "df = pd.read_hdf('/root/data/temp/results_ae9e2ce03f6417710870aefeb04b543ffc513eb8_gtsf_data_bati_axiom_rectified.h5', 'table')\n",
    "\n",
    "\n",
    "\n"
   ]
  },
  {
   "cell_type": "code",
   "execution_count": null,
   "metadata": {},
   "outputs": [],
   "source": [
    "session.rollback()\n",
    "\n",
    "augmented_df = pd.DataFrame()\n",
    "prefix = 'https://s3-eu-west-1.amazonaws.com/'\n",
    "bucket = 'aquabyte-frames-resized-inbound'\n",
    "count = 0\n",
    "for idx, row in df.iterrows():\n",
    "#     if count % 100 == 0:\n",
    "#         print('hi') \n",
    "    print(count)\n",
    "    count += 1\n",
    "    left_image_url = row.left_image_url\n",
    "    key = os.path.join(os.path.dirname('/'.join(left_image_url.replace(prefix, '').split('/')[1:])), 'capture.json')\n",
    "    capture_f = s3_access_utils.download_from_s3(bucket, key)\n",
    "    capture_metadata = json.load(open(capture_f))\n",
    "    gtsf_fish_identifier = capture_metadata['gtsf_fish_identifier']\n",
    "    gtsf_data_collection = session.query(GtsfDataCollection).filter(GtsfDataCollection.gtsf_fish_identifier == gtsf_fish_identifier).all()[0]\n",
    "    ground_truth_metadata = json.loads(gtsf_data_collection.ground_truth_metadata)\n",
    "    weight = ground_truth_metadata['data']['weight']\n",
    "    df_row = dict(row)\n",
    "    df_row['gtsf_fish_identifier'] = gtsf_fish_identifier\n",
    "    df_row['weight'] = weight\n",
    "    augmented_df = augmented_df.append(df_row, ignore_index=True)\n",
    "#     except ValueError:\n",
    "#         print('Error with idx = {}'.format(idx))\n",
    "    \n",
    "        \n"
   ]
  },
  {
   "cell_type": "code",
   "execution_count": null,
   "metadata": {},
   "outputs": [],
   "source": []
  },
  {
   "cell_type": "code",
   "execution_count": null,
   "metadata": {},
   "outputs": [],
   "source": []
  },
  {
   "cell_type": "code",
   "execution_count": null,
   "metadata": {},
   "outputs": [],
   "source": []
  },
  {
   "cell_type": "code",
   "execution_count": null,
   "metadata": {},
   "outputs": [],
   "source": [
    "augmented_df[augmented_df.gtsf_fish_identifier=='190301010001']"
   ]
  },
  {
   "cell_type": "code",
   "execution_count": null,
   "metadata": {},
   "outputs": [],
   "source": []
  },
  {
   "cell_type": "code",
   "execution_count": null,
   "metadata": {},
   "outputs": [],
   "source": [
    "plt.figure(figsize=(20, 10))\n",
    "plt.scatter(augmented_df.weight, augmented_df.estimated_biomass_g)\n",
    "plt.plot([0, 10000], [0, 10000])\n",
    "plt.ylim([0, 10000])\n",
    "plt.grid()\n",
    "plt.show()"
   ]
  },
  {
   "cell_type": "code",
   "execution_count": null,
   "metadata": {},
   "outputs": [],
   "source": [
    "np.abs((augmented_df.estimated_biomass_g - augmented_df.weight)/augmented_df.weight).median()"
   ]
  },
  {
   "cell_type": "code",
   "execution_count": null,
   "metadata": {},
   "outputs": [],
   "source": [
    "import numpy as np\n",
    "import json\n",
    "import datetime\n",
    "from sqlalchemy import create_engine, MetaData, Table, exc, exists, select, literal\n",
    "import pickle\n",
    "\n",
    "def euclidean_distance(p1, p2):\n",
    "    return ((p1[0] - p2[0])**2 + (p1[1] - p2[1])**2 + (p1[2] - p2[2])**2)**0.5\n",
    "\n",
    "\n",
    "def convert_to_world_point(x, y, d, parameters):\n",
    "    \"\"\" from pixel coordinates to world coordinates \"\"\"\n",
    "    # get relevant parameters\n",
    "    pixel_count_height = parameters[\"pixelCountHeight\"]\n",
    "    pixel_count_width = parameters[\"pixelCountWidth\"]\n",
    "    sensor_width = parameters[\"imageSensorWidth\"]\n",
    "    sensor_height = parameters[\"imageSensorHeight\"]\n",
    "    focal_length = parameters[\"focalLength\"]\n",
    "\n",
    "    image_center_x = pixel_count_height / 2.0\n",
    "    image_center_y = pixel_count_width / 2.0\n",
    "    px_x = x - image_center_x\n",
    "    px_z = image_center_y - y\n",
    "\n",
    "    sensor_x = px_x * (sensor_height / pixel_count_height)\n",
    "    sensor_z = px_z * (sensor_width / pixel_count_width)\n",
    "\n",
    "    # now move to world coordinates\n",
    "    world_y = d\n",
    "    world_x = (world_y * sensor_x) / focal_length\n",
    "    world_z = (world_y * sensor_z) / focal_length\n",
    "    return np.array([world_x, world_y, world_z])\n",
    "\n",
    "\n",
    "def depth_from_disp(disp, parameters):\n",
    "    \"\"\" calculate the depth of the point based on the disparity value \"\"\"\n",
    "    focal_length_pixel = parameters[\"focalLengthPixel\"]\n",
    "\n",
    "    baseline = parameters[\"baseline\"]\n",
    "    depth = focal_length_pixel * baseline / np.array(disp)\n",
    "    return depth\n",
    "\n",
    "\n",
    "def pixel2world(left_crop, right_crop, parameters):\n",
    "    \"\"\"2D pixel coordinates to 3D world coordinates\"\"\"\n",
    "\n",
    "    # first create a dic with crop keypoints\n",
    "    image_coordinates = {\"leftCrop\": {},\n",
    "                         \"rightCrop\": {}}\n",
    "    for keypoint in left_crop:\n",
    "        name = keypoint[\"keypointType\"]\n",
    "        image_coordinates[\"leftCrop\"][name] = [keypoint[\"xFrame\"], keypoint[\"yFrame\"]]\n",
    "    for keypoint in right_crop:\n",
    "        name = keypoint[\"keypointType\"]\n",
    "        image_coordinates[\"rightCrop\"][name] = [keypoint[\"xFrame\"], keypoint[\"yFrame\"]]\n",
    "\n",
    "    # then loop through the right crop keypoints and calculate the world coordinates\n",
    "    world_coordinates = {}\n",
    "    for keypoint in left_crop:\n",
    "        name = keypoint[\"keypointType\"]\n",
    "        disparity = image_coordinates[\"leftCrop\"][name][0] - image_coordinates[\"rightCrop\"][name][0]\n",
    "        depth = depth_from_disp(disparity, parameters)\n",
    "        world_point = convert_to_world_point(image_coordinates[\"leftCrop\"][name][1],\n",
    "                                             image_coordinates[\"leftCrop\"][name][0],\n",
    "                                             depth,\n",
    "                                             parameters)\n",
    "        world_coordinates[name] = world_point\n",
    "    return world_coordinates\n",
    "\n",
    "\n",
    "def coord2biomass(world_keypoints, model):\n",
    "    \"\"\"from coordinates to biomass\"\"\"\n",
    "\n",
    "    mean = model['mean']\n",
    "    std= model['std']\n",
    "    PCA_components = model['PCA_components']\n",
    "    reg_coef = model['reg_coef']\n",
    "    reg_intercept = model['reg_intercept']\n",
    "    body_parts = model['body_parts']\n",
    "    print(body_parts)\n",
    "    # calculate pairwise distances for production coord\n",
    "    # based on the exact ordering reflected in the body_parts\n",
    "    # variable above\n",
    "\n",
    "    pairwise_distances = []\n",
    "    for i in range(len(body_parts)-1):\n",
    "        for j in range(i+1, len(body_parts)):\n",
    "            dist = euclidean_distance(world_keypoints[body_parts[i]], world_keypoints[body_parts[j]])\n",
    "            pairwise_distances.append(dist)\n",
    "\n",
    "    interaction_values_quadratic = []\n",
    "    for i in range(len(pairwise_distances)):\n",
    "        for j in range(i, len(pairwise_distances)):\n",
    "            dist1 = pairwise_distances[i]\n",
    "            dist2 = pairwise_distances[j]\n",
    "            interaction_values_quadratic.append(dist1 * dist2)\n",
    "\n",
    "    interaction_values_cubic = []\n",
    "    for i in range(len(pairwise_distances)):\n",
    "        for j in range(i, len(pairwise_distances)):\n",
    "            for k in range(j, len(pairwise_distances)):\n",
    "                dist1 = pairwise_distances[i]\n",
    "                dist2 = pairwise_distances[j]\n",
    "                dist3 = pairwise_distances[k]\n",
    "                interaction_values_cubic.append(dist1 * dist2 * dist3)\n",
    "\n",
    "\n",
    "    X = np.array(pairwise_distances + interaction_values_quadratic + interaction_values_cubic)\n",
    "\n",
    "    X_normalized = (X - model['mean']) / model['std']\n",
    "    X_transformed = np.dot(X_normalized, model['PCA_components'].T)\n",
    "    prediction = np.dot(X_transformed, reg_coef) + reg_intercept\n",
    "    return prediction\n"
   ]
  },
  {
   "cell_type": "code",
   "execution_count": null,
   "metadata": {},
   "outputs": [],
   "source": []
  },
  {
   "cell_type": "code",
   "execution_count": null,
   "metadata": {},
   "outputs": [],
   "source": [
    "model = pickle.load(open('/root/data/models/new_model.pkl', 'rb'))\n",
    "keypoints = df[df.id == 506696.0].keypoints.iloc[0]\n",
    "left_crop = keypoints['leftCrop']\n",
    "right_crop = keypoints['rightCrop']\n",
    "cm = keypoints['cameraParameters']\n",
    "coordinates = pixel2world(left_crop, right_crop, cm)\n",
    "coord2biomass(coordinates, model)"
   ]
  },
  {
   "cell_type": "code",
   "execution_count": null,
   "metadata": {},
   "outputs": [],
   "source": [
    "{\"version\": 2, \"leftCrop\": [{\"xCrop\": 46, \"yCrop\": 446, \"xFrame\": 879, \"yFrame\": 1441, \"keypointType\": \"UPPER_LIP\"}, {\"xCrop\": 179, \"yCrop\": 426, \"xFrame\": 1012, \"yFrame\": 1421, \"keypointType\": \"EYE\"}, {\"xCrop\": 1219, \"yCrop\": 73, \"xFrame\": 2052, \"yFrame\": 1068, \"keypointType\": \"DORSAL_FIN\"}, {\"xCrop\": 2280, \"yCrop\": 342, \"xFrame\": 3113, \"yFrame\": 1337, \"keypointType\": \"ADIPOSE_FIN\"}, {\"xCrop\": 2601, \"yCrop\": 482, \"xFrame\": 3434, \"yFrame\": 1477, \"keypointType\": \"UPPER_PRECAUDAL_PIT\"}, {\"xCrop\": 2795, \"yCrop\": 638, \"xFrame\": 3628, \"yFrame\": 1633, \"keypointType\": \"HYPURAL_PLATE\"}, {\"xCrop\": 2918, \"yCrop\": 677, \"xFrame\": 3751, \"yFrame\": 1672, \"keypointType\": \"TAIL_NOTCH\"}, {\"xCrop\": 2558, \"yCrop\": 718, \"xFrame\": 3391, \"yFrame\": 1713, \"keypointType\": \"LOWER_PRECAUDAL_PIT\"}, {\"xCrop\": 2064, \"yCrop\": 833, \"xFrame\": 2897, \"yFrame\": 1828, \"keypointType\": \"ANAL_FIN\"}, {\"xCrop\": 1490, \"yCrop\": 855, \"xFrame\": 2323, \"yFrame\": 1850, \"keypointType\": \"PELVIC_FIN\"}, {\"xCrop\": 469, \"yCrop\": 672, \"xFrame\": 1302, \"yFrame\": 1667, \"keypointType\": \"PECTORAL_FIN\"}], \"rightCrop\": [{\"xCrop\": 37, \"yCrop\": 468, \"xFrame\": 417, \"yFrame\": 1435, \"keypointType\": \"UPPER_LIP\"}, {\"xCrop\": 144, \"yCrop\": 454, \"xFrame\": 524, \"yFrame\": 1421, \"keypointType\": \"EYE\"}, {\"xCrop\": 1209, \"yCrop\": 101, \"xFrame\": 1589, \"yFrame\": 1068, \"keypointType\": \"DORSAL_FIN\"}, {\"xCrop\": 2291, \"yCrop\": 373, \"xFrame\": 2671, \"yFrame\": 1340, \"keypointType\": \"ADIPOSE_FIN\"}, {\"xCrop\": 2610, \"yCrop\": 514, \"xFrame\": 2990, \"yFrame\": 1481, \"keypointType\": \"UPPER_PRECAUDAL_PIT\"}, {\"xCrop\": 2810, \"yCrop\": 667, \"xFrame\": 3190, \"yFrame\": 1634, \"keypointType\": \"HYPURAL_PLATE\"}, {\"xCrop\": 2941, \"yCrop\": 700, \"xFrame\": 3321, \"yFrame\": 1667, \"keypointType\": \"TAIL_NOTCH\"}, {\"xCrop\": 2569, \"yCrop\": 742, \"xFrame\": 2949, \"yFrame\": 1709, \"keypointType\": \"LOWER_PRECAUDAL_PIT\"}, {\"xCrop\": 2061, \"yCrop\": 861, \"xFrame\": 2441, \"yFrame\": 1828, \"keypointType\": \"ANAL_FIN\"}, {\"xCrop\": 1463, \"yCrop\": 883, \"xFrame\": 1843, \"yFrame\": 1850, \"keypointType\": \"PELVIC_FIN\"}, {\"xCrop\": 417, \"yCrop\": 700, \"xFrame\": 797, \"yFrame\": 1667, \"keypointType\": \"PECTORAL_FIN\"}]}"
   ]
  },
  {
   "cell_type": "code",
   "execution_count": null,
   "metadata": {},
   "outputs": [],
   "source": [
    "right_crop"
   ]
  },
  {
   "cell_type": "code",
   "execution_count": null,
   "metadata": {},
   "outputs": [],
   "source": [
    "coordinates"
   ]
  },
  {
   "cell_type": "code",
   "execution_count": null,
   "metadata": {},
   "outputs": [],
   "source": [
    "wkps = df[df.id == 506696.0].keypoints.iloc[0]"
   ]
  },
  {
   "cell_type": "code",
   "execution_count": null,
   "metadata": {},
   "outputs": [],
   "source": [
    "df[df.id == 506696.0].keypoints.iloc[0]"
   ]
  },
  {
   "cell_type": "code",
   "execution_count": null,
   "metadata": {},
   "outputs": [],
   "source": [
    "model"
   ]
  },
  {
   "cell_type": "code",
   "execution_count": null,
   "metadata": {},
   "outputs": [],
   "source": []
  },
  {
   "cell_type": "code",
   "execution_count": null,
   "metadata": {},
   "outputs": [],
   "source": [
    "augmented_df.shape"
   ]
  },
  {
   "cell_type": "code",
   "execution_count": null,
   "metadata": {},
   "outputs": [],
   "source": [
    "augmented_df[augmented_df.weight < 500].gtsf_fish_identifier"
   ]
  },
  {
   "cell_type": "code",
   "execution_count": null,
   "metadata": {},
   "outputs": [],
   "source": []
  },
  {
   "cell_type": "code",
   "execution_count": null,
   "metadata": {},
   "outputs": [],
   "source": []
  }
 ],
 "metadata": {
  "kernelspec": {
   "display_name": "Python 3",
   "language": "python",
   "name": "python3"
  },
  "language_info": {
   "codemirror_mode": {
    "name": "ipython",
    "version": 3
   },
   "file_extension": ".py",
   "mimetype": "text/x-python",
   "name": "python",
   "nbconvert_exporter": "python",
   "pygments_lexer": "ipython3",
   "version": "3.5.2"
  }
 },
 "nbformat": 4,
 "nbformat_minor": 2
}
