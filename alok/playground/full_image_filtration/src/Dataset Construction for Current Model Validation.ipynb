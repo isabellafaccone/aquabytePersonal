{
 "cells": [
  {
   "cell_type": "markdown",
   "metadata": {},
   "source": [
    "<h1> Dataset Construction for Current Model Validation </h1>"
   ]
  },
  {
   "cell_type": "markdown",
   "metadata": {},
   "source": [
    "<h3> In this notebook, we will download a lot of images that have a crop and determine what the false positive rate for filtration is for this dataset. We want this false positive rate to be as close to zero as possible. </h3>"
   ]
  },
  {
   "cell_type": "code",
   "execution_count": null,
   "metadata": {},
   "outputs": [],
   "source": [
    "import boto3\n",
    "import glob\n",
    "import json\n",
    "import os\n",
    "import pandas as pd\n",
    "from skimage.transform import resize\n",
    "from skimage.io import imread, imsave\n",
    "import shutil\n",
    "import tqdm\n",
    "\n",
    "from multiprocessing import Pool"
   ]
  },
  {
   "cell_type": "markdown",
   "metadata": {},
   "source": [
    "<h1> Load database dump into PANDAS </h1>"
   ]
  },
  {
   "cell_type": "code",
   "execution_count": null,
   "metadata": {},
   "outputs": [],
   "source": [
    "analysis_df_path = '/root/data/alok/crop_data/data_dumps/historical_fish_detections.csv'\n",
    "analysis_df = pd.read_csv(analysis_df_path)"
   ]
  },
  {
   "cell_type": "markdown",
   "metadata": {},
   "source": [
    "<h1> Modify the dataframe as necessary </h1>"
   ]
  },
  {
   "cell_type": "code",
   "execution_count": null,
   "metadata": {},
   "outputs": [],
   "source": [
    "full_image_url_prefix = 'https://s3-eu-west-1.amazonaws.com/aquabyte-images-raw'\n",
    "def full_image_key_from_crop_key(crop_key):\n",
    "    key_components = crop_key.replace('.jpg', '').split('/')\n",
    "    full_image_f_name = '_'.join(key_components[-1].split('_')[:-4]) + '.jpg'\n",
    "    full_image_key = os.path.join('/'.join(key_components[:-1]), full_image_f_name)\n",
    "    return full_image_key\n",
    "    "
   ]
  },
  {
   "cell_type": "code",
   "execution_count": null,
   "metadata": {},
   "outputs": [],
   "source": [
    "analysis_df['full_image_key'] = analysis_df.image_key.apply(full_image_key_from_crop_key)\n",
    "mask = (analysis_df.detected_at >= '2018-12-02') & ~(analysis_df.is_bad_crop == True)"
   ]
  },
  {
   "cell_type": "code",
   "execution_count": null,
   "metadata": {},
   "outputs": [],
   "source": []
  },
  {
   "cell_type": "code",
   "execution_count": null,
   "metadata": {},
   "outputs": [],
   "source": []
  },
  {
   "cell_type": "markdown",
   "metadata": {},
   "source": [
    "<h1> Get unique full image paths that contain fish and download locally from S3 </h1>"
   ]
  },
  {
   "cell_type": "code",
   "execution_count": null,
   "metadata": {},
   "outputs": [],
   "source": [
    "aws_credentials = json.load(open(os.environ['AWS_CREDENTIALS']))\n",
    "s3_client = boto3.client(\n",
    "    's3',\n",
    "    aws_access_key_id=aws_credentials['aws_access_key_id'],\n",
    "    aws_secret_access_key=aws_credentials['aws_secret_access_key']\n",
    ")\n"
   ]
  },
  {
   "cell_type": "code",
   "execution_count": null,
   "metadata": {},
   "outputs": [],
   "source": []
  },
  {
   "cell_type": "code",
   "execution_count": null,
   "metadata": {},
   "outputs": [],
   "source": [
    "full_images_dir = '/root/data/alok/filtration_classifier_data/fish_present/images'\n",
    "full_image_bucket = 'aquabyte-images-raw'\n",
    "\n",
    "def download_locally(key):\n",
    "    full_image_f_name = os.path.basename(key)\n",
    "    full_image_f = os.path.join(full_images_dir, full_image_f_name)\n",
    "    if not os.path.exists(full_image_f):\n",
    "        print('Writing image to disk: {}'.format(full_image_f))\n",
    "        s3_client.download_file(full_image_bucket, key, full_image_f)"
   ]
  },
  {
   "cell_type": "code",
   "execution_count": null,
   "metadata": {},
   "outputs": [],
   "source": [
    "p = Pool(20)\n",
    "N = 10\n",
    "tdf = analysis_df[mask].sample(N)\n",
    "keys = list(set(tdf.full_image_key.tolist()))\n",
    "p.map(download_locally, keys)\n"
   ]
  },
  {
   "cell_type": "code",
   "execution_count": null,
   "metadata": {},
   "outputs": [],
   "source": []
  },
  {
   "cell_type": "code",
   "execution_count": null,
   "metadata": {},
   "outputs": [],
   "source": [
    "corrupt_files = []\n",
    "for f in os.listdir(full_images_dir):\n",
    "    if not f.endswith('.jpg'):\n",
    "        corrupt_files.append(f)\n",
    "        \n",
    "print('rm -rf {}'.format(' '.join(corrupt_files)))"
   ]
  },
  {
   "cell_type": "code",
   "execution_count": null,
   "metadata": {},
   "outputs": [],
   "source": []
  },
  {
   "cell_type": "code",
   "execution_count": null,
   "metadata": {},
   "outputs": [],
   "source": []
  },
  {
   "cell_type": "markdown",
   "metadata": {},
   "source": [
    "<h1> Get unique full image paths that contain fish and download locally from S3 </h1>"
   ]
  },
  {
   "cell_type": "code",
   "execution_count": null,
   "metadata": {},
   "outputs": [],
   "source": [
    "frames_df_path = '/root/data/alok/filtration_classifier_data/data_dumps/full_frames.csv'\n",
    "frames_df = pd.read_csv(frames_df_path)\n",
    "full_image_keys = frames_df.s3_key.tolist()\n",
    "zero_crop_image_keys = list(set(full_image_keys) - set(analysis_df.full_image_key.tolist()))\n",
    "\n"
   ]
  },
  {
   "cell_type": "code",
   "execution_count": null,
   "metadata": {},
   "outputs": [],
   "source": [
    "full_images_dir = '/root/data/alok/filtration_classifier_data/zero_crops/images'\n",
    "p = Pool(20)\n",
    "N = 5000\n",
    "p.map(download_locally, zero_crop_image_keys[:N])\n"
   ]
  },
  {
   "cell_type": "code",
   "execution_count": null,
   "metadata": {},
   "outputs": [],
   "source": []
  },
  {
   "cell_type": "code",
   "execution_count": null,
   "metadata": {},
   "outputs": [],
   "source": []
  },
  {
   "cell_type": "code",
   "execution_count": null,
   "metadata": {},
   "outputs": [],
   "source": []
  },
  {
   "cell_type": "code",
   "execution_count": null,
   "metadata": {},
   "outputs": [],
   "source": []
  },
  {
   "cell_type": "code",
   "execution_count": null,
   "metadata": {},
   "outputs": [],
   "source": []
  },
  {
   "cell_type": "code",
   "execution_count": null,
   "metadata": {},
   "outputs": [],
   "source": []
  },
  {
   "cell_type": "code",
   "execution_count": null,
   "metadata": {},
   "outputs": [],
   "source": []
  },
  {
   "cell_type": "code",
   "execution_count": null,
   "metadata": {},
   "outputs": [],
   "source": []
  }
 ],
 "metadata": {
  "kernelspec": {
   "display_name": "Python 3",
   "language": "python",
   "name": "python3"
  },
  "language_info": {
   "codemirror_mode": {
    "name": "ipython",
    "version": 3
   },
   "file_extension": ".py",
   "mimetype": "text/x-python",
   "name": "python",
   "nbconvert_exporter": "python",
   "pygments_lexer": "ipython3",
   "version": "3.5.2"
  }
 },
 "nbformat": 4,
 "nbformat_minor": 2
}
