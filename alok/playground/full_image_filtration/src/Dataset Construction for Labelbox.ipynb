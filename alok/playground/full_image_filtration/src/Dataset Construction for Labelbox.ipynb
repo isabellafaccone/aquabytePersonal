{
 "cells": [
  {
   "cell_type": "markdown",
   "metadata": {},
   "source": [
    "<h1> Dataset Construction for Labelbox </h1>"
   ]
  },
  {
   "cell_type": "markdown",
   "metadata": {},
   "source": [
    "<h3> In this notebook, we will construct the dataset required to train a Mobilenet CNN to distinguish between \"contains fish vs. does not contain fish\" images </h3>"
   ]
  },
  {
   "cell_type": "markdown",
   "metadata": {},
   "source": [
    "<h3> We first download images from 01/14/2019 (0700 - 1500 GMT) at 5% downsampling rate -- yeilds about 1000 images. We also want to download images from days known to have a lot of fish and from a different farm -- 10/28 is a good candidate because this was from previous Erko farm. </h3>\n",
    "\n",
    "<h3> Note: Do NOT rerun the cells below -- they are a one-time operations </h3>"
   ]
  },
  {
   "cell_type": "code",
   "execution_count": 5,
   "metadata": {},
   "outputs": [],
   "source": [
    "import glob\n",
    "import json\n",
    "import os\n",
    "from skimage.transform import resize\n",
    "from skimage.io import imread, imsave\n",
    "import shutil\n",
    "import tqdm"
   ]
  },
  {
   "cell_type": "code",
   "execution_count": null,
   "metadata": {},
   "outputs": [],
   "source": [
    "image_file_paths = glob.glob('/root/data/alok/filtration_classifier_data/2018-10-28/*/input/*.jpg')\n",
    "image_metadata_file_paths = glob.glob('/root/data/alok/filtration_classifier_data/2018-10-28/*/input/*.json')"
   ]
  },
  {
   "cell_type": "code",
   "execution_count": null,
   "metadata": {},
   "outputs": [],
   "source": [
    "image_dir = '/root/data/alok/filtration_classifier_data/images/'\n",
    "for image_f, metadata_f in zip(sorted(image_file_paths), sorted(image_metadata_file_paths)):\n",
    "    metadata = json.load(open(metadata_f))\n",
    "    t = metadata['captured_ms']\n",
    "    new_f_name = os.path.basename(metadata['url'])\n",
    "    new_f = os.path.join(image_dir, new_f_name)\n",
    "    shutil.move(image_f, new_f)\n",
    "    "
   ]
  },
  {
   "cell_type": "code",
   "execution_count": null,
   "metadata": {},
   "outputs": [],
   "source": [
    "new_dim = (512, 512)\n",
    "resized_dir = '/root/data/alok/filtration_classifier_data/images_resized/'\n",
    "for image_f in os.listdir(image_dir):\n",
    "    im = imread(os.path.join(image_dir, image_f))\n",
    "    im_resized = resize(im, new_dim)\n",
    "    new_f = os.path.join(resized_dir, image_f) \n",
    "    imsave(new_f, im_resized)\n",
    "    "
   ]
  },
  {
   "cell_type": "code",
   "execution_count": null,
   "metadata": {},
   "outputs": [],
   "source": []
  },
  {
   "cell_type": "code",
   "execution_count": 8,
   "metadata": {},
   "outputs": [
    {
     "name": "stderr",
     "output_type": "stream",
     "text": [
      "  0%|          | 0/464 [00:00<?, ?it/s]/usr/local/lib/python3.5/dist-packages/skimage/transform/_warps.py:84: UserWarning: The default mode, 'constant', will be changed to 'reflect' in skimage 0.15.\n",
      "  warn(\"The default mode, 'constant', will be changed to 'reflect' in \"\n",
      "/usr/local/lib/python3.5/dist-packages/skimage/util/dtype.py:122: UserWarning: Possible precision loss when converting from float64 to uint8\n",
      "  .format(dtypeobj_in, dtypeobj_out))\n",
      "  6%|▋         | 30/464 [00:26<06:23,  1.13it/s]/usr/local/lib/python3.5/dist-packages/skimage/io/_io.py:132: UserWarning: /root/data/alok/filtration_classifier_data/fish_present/images_resized/left_blom-kjeppevikholmen_2_1546428487360.jpg is a low contrast image\n",
      "  warn('%s is a low contrast image' % fname)\n",
      " 24%|██▍       | 112/464 [01:39<05:11,  1.13it/s]/usr/local/lib/python3.5/dist-packages/skimage/io/_io.py:132: UserWarning: /root/data/alok/filtration_classifier_data/fish_present/images_resized/left_blom-kjeppevikholmen_2_1546435382384.jpg is a low contrast image\n",
      "  warn('%s is a low contrast image' % fname)\n",
      " 24%|██▍       | 113/464 [01:39<05:10,  1.13it/s]/usr/local/lib/python3.5/dist-packages/skimage/io/_io.py:132: UserWarning: /root/data/alok/filtration_classifier_data/fish_present/images_resized/left_blom-kjeppevikholmen_2_1546346519950.jpg is a low contrast image\n",
      "  warn('%s is a low contrast image' % fname)\n",
      " 28%|██▊       | 129/464 [01:54<04:56,  1.13it/s]/usr/local/lib/python3.5/dist-packages/skimage/io/_io.py:132: UserWarning: /root/data/alok/filtration_classifier_data/fish_present/images_resized/left_blom-kjeppevikholmen_2_1547637901974.jpg is a low contrast image\n",
      "  warn('%s is a low contrast image' % fname)\n",
      " 94%|█████████▍| 437/464 [06:25<00:23,  1.13it/s]/usr/local/lib/python3.5/dist-packages/skimage/io/_io.py:132: UserWarning: /root/data/alok/filtration_classifier_data/fish_present/images_resized/left_blom-kjeppevikholmen_2_1547551763446.jpg is a low contrast image\n",
      "  warn('%s is a low contrast image' % fname)\n",
      " 97%|█████████▋| 448/464 [06:35<00:14,  1.13it/s]/usr/local/lib/python3.5/dist-packages/skimage/io/_io.py:132: UserWarning: /root/data/alok/filtration_classifier_data/fish_present/images_resized/left_blom-kjeppevikholmen_2_1546523194566.jpg is a low contrast image\n",
      "  warn('%s is a low contrast image' % fname)\n",
      "100%|██████████| 464/464 [06:49<00:00,  1.13it/s]\n"
     ]
    }
   ],
   "source": [
    "full_images_dir = '/root/data/alok/filtration_classifier_data/fish_present/images'\n",
    "full_image_fs = glob.glob(os.path.join(full_images_dir, '*.jpg'))\n",
    "\n",
    "resized_image_dir = '/root/data/alok/filtration_classifier_data/fish_present/images_resized'\n",
    "new_dim = (224, 224)\n",
    "for image_f in tqdm.tqdm(full_image_fs):\n",
    "    im = imread(image_f)\n",
    "    im_resized = resize(im, new_dim)\n",
    "    new_f = os.path.join(resized_image_dir, os.path.basename(image_f)) \n",
    "    imsave(new_f, im_resized)\n"
   ]
  },
  {
   "cell_type": "code",
   "execution_count": null,
   "metadata": {},
   "outputs": [],
   "source": []
  },
  {
   "cell_type": "code",
   "execution_count": null,
   "metadata": {},
   "outputs": [],
   "source": []
  },
  {
   "cell_type": "code",
   "execution_count": null,
   "metadata": {},
   "outputs": [],
   "source": []
  },
  {
   "cell_type": "code",
   "execution_count": null,
   "metadata": {},
   "outputs": [],
   "source": []
  },
  {
   "cell_type": "code",
   "execution_count": null,
   "metadata": {},
   "outputs": [],
   "source": []
  },
  {
   "cell_type": "code",
   "execution_count": null,
   "metadata": {},
   "outputs": [],
   "source": []
  }
 ],
 "metadata": {
  "kernelspec": {
   "display_name": "Python 3",
   "language": "python",
   "name": "python3"
  },
  "language_info": {
   "codemirror_mode": {
    "name": "ipython",
    "version": 3
   },
   "file_extension": ".py",
   "mimetype": "text/x-python",
   "name": "python",
   "nbconvert_exporter": "python",
   "pygments_lexer": "ipython3",
   "version": "3.5.2"
  }
 },
 "nbformat": 4,
 "nbformat_minor": 2
}
