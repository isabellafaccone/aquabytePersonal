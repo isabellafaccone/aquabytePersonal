{
 "cells": [
  {
   "cell_type": "markdown",
   "metadata": {},
   "source": [
    "<h1> Dataset Construction for Labelbox </h1>"
   ]
  },
  {
   "cell_type": "markdown",
   "metadata": {},
   "source": [
    "<h3> In this notebook, we will construct the dataset required to train a Mobilenet CNN to distinguish between \"contains fish vs. does not contain fish\" images </h3>"
   ]
  },
  {
   "cell_type": "markdown",
   "metadata": {},
   "source": [
    "<h3> We first download images from 01/14/2019 (0700 - 1500 GMT) at 5% downsampling rate -- yeilds about 1000 images. We also want to download images from days known to have a lot of fish and from a different farm -- 10/28 is a good candidate because this was from previous Erko farm. </h3>\n",
    "\n",
    "<h3> Note: Do NOT rerun the cells below -- they are a one-time operations </h3>"
   ]
  },
  {
   "cell_type": "code",
   "execution_count": null,
   "metadata": {},
   "outputs": [],
   "source": [
    "import glob\n",
    "import json\n",
    "import os\n",
    "from skimage.transform import resize\n",
    "from skimage.io import imread, imsave\n",
    "import shutil"
   ]
  },
  {
   "cell_type": "code",
   "execution_count": null,
   "metadata": {},
   "outputs": [],
   "source": [
    "image_file_paths = glob.glob('/root/data/alok/filtration_classifier_data/2018-10-28/*/input/*.jpg')\n",
    "image_metadata_file_paths = glob.glob('/root/data/alok/filtration_classifier_data/2018-10-28/*/input/*.json')"
   ]
  },
  {
   "cell_type": "code",
   "execution_count": null,
   "metadata": {},
   "outputs": [],
   "source": [
    "image_dir = '/root/data/alok/filtration_classifier_data/images/'\n",
    "for image_f, metadata_f in zip(sorted(image_file_paths), sorted(image_metadata_file_paths)):\n",
    "    metadata = json.load(open(metadata_f))\n",
    "    t = metadata['captured_ms']\n",
    "    new_f_name = os.path.basename(metadata['url'])\n",
    "    new_f = os.path.join(image_dir, new_f_name)\n",
    "    shutil.move(image_f, new_f)\n",
    "    "
   ]
  },
  {
   "cell_type": "code",
   "execution_count": null,
   "metadata": {},
   "outputs": [],
   "source": [
    "new_dim = (512, 512)\n",
    "resized_dir = '/root/data/alok/filtration_classifier_data/images_resized/'\n",
    "for image_f in os.listdir(image_dir):\n",
    "    im = imread(os.path.join(image_dir, image_f))\n",
    "    im_resized = resize(im, new_dim)\n",
    "    new_f = os.path.join(resized_dir, image_f) \n",
    "    imsave(new_f, im_resized)\n",
    "    "
   ]
  },
  {
   "cell_type": "code",
   "execution_count": null,
   "metadata": {},
   "outputs": [],
   "source": []
  },
  {
   "cell_type": "code",
   "execution_count": null,
   "metadata": {},
   "outputs": [],
   "source": []
  },
  {
   "cell_type": "code",
   "execution_count": null,
   "metadata": {},
   "outputs": [],
   "source": []
  },
  {
   "cell_type": "code",
   "execution_count": null,
   "metadata": {},
   "outputs": [],
   "source": []
  },
  {
   "cell_type": "code",
   "execution_count": null,
   "metadata": {},
   "outputs": [],
   "source": []
  },
  {
   "cell_type": "code",
   "execution_count": null,
   "metadata": {},
   "outputs": [],
   "source": []
  },
  {
   "cell_type": "code",
   "execution_count": null,
   "metadata": {},
   "outputs": [],
   "source": []
  },
  {
   "cell_type": "code",
   "execution_count": null,
   "metadata": {},
   "outputs": [],
   "source": []
  }
 ],
 "metadata": {
  "kernelspec": {
   "display_name": "Python 3",
   "language": "python",
   "name": "python3"
  },
  "language_info": {
   "codemirror_mode": {
    "name": "ipython",
    "version": 3
   },
   "file_extension": ".py",
   "mimetype": "text/x-python",
   "name": "python",
   "nbconvert_exporter": "python",
   "pygments_lexer": "ipython3",
   "version": "3.5.2"
  }
 },
 "nbformat": 4,
 "nbformat_minor": 2
}
