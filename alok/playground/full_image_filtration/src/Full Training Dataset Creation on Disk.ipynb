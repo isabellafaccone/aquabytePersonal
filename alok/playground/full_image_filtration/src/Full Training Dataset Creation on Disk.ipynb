{
 "cells": [
  {
   "cell_type": "markdown",
   "metadata": {},
   "source": [
    "<h1> Full Training Dataset Creation on Disk </h1>"
   ]
  },
  {
   "cell_type": "markdown",
   "metadata": {},
   "source": [
    "<h3> In this notebook, we will construct the dataset required to train a Mobilenet CNN to distinguish between \"contains fish vs. does not contain fish\" images. The images already exist locally; need to download the labels and store them under an identical structure </h3>"
   ]
  },
  {
   "cell_type": "code",
   "execution_count": null,
   "metadata": {},
   "outputs": [],
   "source": [
    "import glob\n",
    "import json\n",
    "import os\n",
    "from skimage.transform import resize\n",
    "from skimage.io import imread, imsave\n",
    "import shutil\n",
    "from multiprocessing import Pool\n"
   ]
  },
  {
   "cell_type": "code",
   "execution_count": null,
   "metadata": {},
   "outputs": [],
   "source": [
    "# open labels file\n",
    "labels_f = '/root/data/alok/filtration_classifier_data/labels.json'\n",
    "labels = json.load(open(labels_f))\n",
    "\n",
    "# define / create output directory\n",
    "labels_directory = '/root/data/alok/filtration_classifier_data/labels'\n",
    "if not os.path.exists(labels_directory):\n",
    "    os.makedirs(labels_directory)\n",
    "    \n",
    "# iterate over labels and write to disk\n",
    "for l in labels:\n",
    "    f_name = os.path.basename(l['Labeled Data']).replace('.jpg', '.json')\n",
    "    f_path = os.path.join(labels_directory, f_name)\n",
    "    if not os.path.exists(f_path):\n",
    "        with open(f_path, 'w') as f:\n",
    "            json.dump(l['Label'], f)\n"
   ]
  },
  {
   "cell_type": "code",
   "execution_count": null,
   "metadata": {},
   "outputs": [],
   "source": []
  },
  {
   "cell_type": "code",
   "execution_count": null,
   "metadata": {},
   "outputs": [],
   "source": [
    "# resize images\n",
    "\n",
    "image_fs = glob.glob('/root/data/alok/filtration_classifier_data/nonzero_crops/images/*.jpg')\n",
    "images_resized_dir = '/root/data/alok/filtration_classifier_data/nonzero_crops/images_resized'\n",
    "\n",
    "for i, image_f in enumerate(image_fs):\n",
    "    im = imread(image_f)\n",
    "    im_resized = resize(im, (224, 224))\n",
    "    image_resized_f = os.path.join(images_resized_dir, os.path.basename(image_f))\n",
    "    imsave(image_resized_f, im_resized)\n",
    "    "
   ]
  },
  {
   "cell_type": "code",
   "execution_count": null,
   "metadata": {},
   "outputs": [],
   "source": [
    "def resize_image(image_f):\n",
    "    im = imread(image_f)\n",
    "    im_resized = resize(im, (224, 224))\n",
    "    image_resized_f = os.path.join(images_resized_dir, os.path.basename(image_f))\n",
    "    imsave(image_resized_f, im_resized)\n",
    "\n"
   ]
  },
  {
   "cell_type": "code",
   "execution_count": null,
   "metadata": {},
   "outputs": [],
   "source": [
    "image_fs = glob.glob('/root/data/alok/filtration_classifier_data/nonzero_crops/images/*.jpg')\n",
    "images_resized_dir = '/root/data/alok/filtration_classifier_data/nonzero_crops/images_resized'\n",
    "pool = Pool(20)\n",
    "pool.map(resize_image, image_fs)\n"
   ]
  },
  {
   "cell_type": "code",
   "execution_count": null,
   "metadata": {},
   "outputs": [],
   "source": [
    "image_fs = glob.glob('/root/data/alok/filtration_classifier_data/zero_crops/images/*.jpg')\n",
    "images_resized_dir = '/root/data/alok/filtration_classifier_data/zero_crops/images_resized'\n",
    "pool = Pool(20)\n",
    "pool.map(resize_image, image_fs)\n"
   ]
  },
  {
   "cell_type": "code",
   "execution_count": null,
   "metadata": {},
   "outputs": [],
   "source": []
  },
  {
   "cell_type": "code",
   "execution_count": null,
   "metadata": {},
   "outputs": [],
   "source": []
  },
  {
   "cell_type": "code",
   "execution_count": null,
   "metadata": {},
   "outputs": [],
   "source": []
  },
  {
   "cell_type": "code",
   "execution_count": null,
   "metadata": {},
   "outputs": [],
   "source": []
  },
  {
   "cell_type": "code",
   "execution_count": null,
   "metadata": {},
   "outputs": [],
   "source": []
  }
 ],
 "metadata": {
  "kernelspec": {
   "display_name": "Python 3",
   "language": "python",
   "name": "python3"
  },
  "language_info": {
   "codemirror_mode": {
    "name": "ipython",
    "version": 3
   },
   "file_extension": ".py",
   "mimetype": "text/x-python",
   "name": "python",
   "nbconvert_exporter": "python",
   "pygments_lexer": "ipython3",
   "version": "3.5.2"
  }
 },
 "nbformat": 4,
 "nbformat_minor": 2
}
