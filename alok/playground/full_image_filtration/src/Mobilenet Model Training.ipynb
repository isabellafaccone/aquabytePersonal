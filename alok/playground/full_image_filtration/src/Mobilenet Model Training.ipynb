{
 "cells": [
  {
   "cell_type": "markdown",
   "metadata": {},
   "source": [
    "<h1> Mobilenet Model Training </h1>"
   ]
  },
  {
   "cell_type": "markdown",
   "metadata": {},
   "source": [
    "<h3> In this notebook, we will train a Mobilenet binary classifier that can classify images into \"contains fish\" and \"does not contain fish\". </h3>"
   ]
  },
  {
   "cell_type": "code",
   "execution_count": null,
   "metadata": {},
   "outputs": [],
   "source": [
    "%load_ext autoreload\n",
    "%autoreload 2\n",
    "\n",
    "import sys\n",
    "sys.path.append('/root/alok/repos/cv_research/alok')\n",
    "\n",
    "import glob\n",
    "import json\n",
    "import os\n",
    "import numpy as np\n",
    "from PIL import Image\n",
    "from random import shuffle\n",
    "\n",
    "import keras\n",
    "from keras.models import Model\n",
    "from keras.applications.mobilenet import MobileNet\n",
    "from keras.layers import Input, Dense, Dropout, Activation, Flatten\n",
    "from keras.layers import Conv2D, MaxPooling2D\n",
    "from keras.utils import np_utils\n",
    "from keras.datasets import mnist\n",
    "from keras import backend as K\n",
    "from keras.backend import tf as ktf\n",
    "\n",
    "from matplotlib import pyplot as plt\n",
    "from matplotlib import cm\n",
    "\n",
    "from skimage.io import imread\n",
    "from skimage.transform import resize\n",
    "import time\n",
    "\n",
    "%matplotlib inline\n",
    "\n",
    "os.environ[\"CUDA_VISIBLE_DEVICES\"]=\"1\"\n",
    "np.random.seed(0)"
   ]
  },
  {
   "cell_type": "markdown",
   "metadata": {},
   "source": [
    "<h1> First step: Prepare the data </h1>"
   ]
  },
  {
   "cell_type": "code",
   "execution_count": null,
   "metadata": {},
   "outputs": [],
   "source": [
    "# get data ready\n",
    "\n",
    "# define input locations\n",
    "image_dir = '/root/data/alok/filtration_classifier_data/images_resized'\n",
    "metadata_dir = '/root/data/alok/filtration_classifier_data/labels'\n",
    "image_fs = glob.glob(os.path.join(image_dir, '*.jpg'))\n",
    "metadata_fs = glob.glob(os.path.join(metadata_dir, '.json'))\n",
    "\n",
    "# create full dataset\n",
    "dataset = []\n",
    "for image_f in image_fs:\n",
    "    image_f_name = os.path.basename(image_f)\n",
    "    metadata_f_name = image_f_name.replace('.jpg', '.json')\n",
    "    metadata_f = os.path.join(metadata_dir, metadata_f_name)\n",
    "    if not os.path.exists(metadata_f):\n",
    "        print('This file path does not exist: {}'.format(metadata_f))\n",
    "    dataset.append((image_f, metadata_f))\n",
    "    \n",
    "# shuffle data\n",
    "shuffle(dataset)\n",
    "\n",
    "# define training, validation, and testing sets\n",
    "\n",
    "n = len(dataset)\n",
    "training_size = int(n / 2)\n",
    "# validation_size = int(n / 3)\n",
    "training_dataset = dataset[:training_size]\n",
    "# validation_dataset = dataset[training_size: training_size + validation_size]\n",
    "# testing_dataset = dataset[training_size + validation_size:]\n",
    "testing_dataset = dataset[training_size:]\n",
    "\n",
    "\n"
   ]
  },
  {
   "cell_type": "code",
   "execution_count": null,
   "metadata": {},
   "outputs": [],
   "source": [
    "# # create digits dataset\n",
    "# import shutil\n",
    "# for d in dataset:\n",
    "#     image_f, metadata_f = d\n",
    "#     metadata = json.load(open(metadata_f))\n",
    "#     if metadata['model'] == 'contains_fish':\n",
    "#         new_class = \"fish\"\n",
    "#     else:\n",
    "#         new_class = \"no_fish\"\n",
    "        \n",
    "#     new_path = \"/root/data/alok/filtration_classifier_data/digits/{}/{}\".format(new_class, os.path.basename(image_f))\n",
    "#     shutil.copy(image_f, new_path)"
   ]
  },
  {
   "cell_type": "markdown",
   "metadata": {},
   "source": [
    "<h1> Define The Model </h1>"
   ]
  },
  {
   "cell_type": "code",
   "execution_count": null,
   "metadata": {},
   "outputs": [],
   "source": [
    "# Generate a model with all layers (with top)\n",
    "mobilenet = MobileNet(input_shape=(224, 224, 3))\n",
    "x = Dense(1, activation='sigmoid')(mobilenet.layers[-1].output)\n",
    "model = Model(input=mobilenet.input, output=x)\n",
    "model.summary()"
   ]
  },
  {
   "cell_type": "code",
   "execution_count": null,
   "metadata": {},
   "outputs": [],
   "source": []
  },
  {
   "cell_type": "code",
   "execution_count": null,
   "metadata": {},
   "outputs": [],
   "source": []
  },
  {
   "cell_type": "code",
   "execution_count": null,
   "metadata": {},
   "outputs": [],
   "source": []
  },
  {
   "cell_type": "markdown",
   "metadata": {},
   "source": [
    "<h1> Define Generator </h1>"
   ]
  },
  {
   "cell_type": "code",
   "execution_count": null,
   "metadata": {},
   "outputs": [],
   "source": [
    "def data_generator(dset, steps_per_epoch, batch_size, input_shape):\n",
    "    N = len(dset)\n",
    "    i = 0\n",
    "    while True:\n",
    "        x_batch = np.empty((batch_size, *input_shape))\n",
    "        y_batch = np.empty(batch_size)\n",
    "        batch = dset[batch_size * i : min(batch_size * (i + 1), N)]\n",
    "        for idx, d in enumerate(batch):\n",
    "            image_f, metadata_f = d\n",
    "            im = Image.open(image_f)\n",
    "            metadata = json.load(open(metadata_f))\n",
    "            x_batch[idx, :] = im\n",
    "            y_batch[idx] = 1 if metadata['model'] == 'contains_fish' else 0\n",
    "        \n",
    "        i += 1\n",
    "        if i > steps_per_epoch:\n",
    "            i = 0\n",
    "        yield x_batch, y_batch\n"
   ]
  },
  {
   "cell_type": "code",
   "execution_count": null,
   "metadata": {},
   "outputs": [],
   "source": []
  },
  {
   "cell_type": "code",
   "execution_count": null,
   "metadata": {},
   "outputs": [],
   "source": []
  },
  {
   "cell_type": "markdown",
   "metadata": {},
   "source": [
    "<h1> Train Model </h1>"
   ]
  },
  {
   "cell_type": "code",
   "execution_count": null,
   "metadata": {},
   "outputs": [],
   "source": [
    "# optimizer = keras.optimizers.adam(lr=0.0001, decay=0.1)\n",
    "model.compile(loss='binary_crossentropy',\n",
    "              optimizer='adam',\n",
    "              metrics=['accuracy'])"
   ]
  },
  {
   "cell_type": "code",
   "execution_count": null,
   "metadata": {},
   "outputs": [],
   "source": [
    "BATCH_SIZE = 25\n",
    "steps_per_epoch = int(len(training_dataset)/BATCH_SIZE) + 1\n",
    "gen = data_generator(training_dataset, steps_per_epoch, BATCH_SIZE, (224, 224, 3))"
   ]
  },
  {
   "cell_type": "code",
   "execution_count": null,
   "metadata": {},
   "outputs": [],
   "source": [
    "model.fit_generator(gen, steps_per_epoch=steps_per_epoch, epochs=100, verbose=True)"
   ]
  },
  {
   "cell_type": "code",
   "execution_count": null,
   "metadata": {},
   "outputs": [],
   "source": [
    "t = time.time()\n",
    "eval_gen = data_generator(testing_dataset, np.inf, BATCH_SIZE, (224, 224, 3))\n",
    "scores = model.evaluate_generator(eval_gen, 41)\n",
    "print(scores)\n",
    "print(time.time() - t)"
   ]
  },
  {
   "cell_type": "code",
   "execution_count": null,
   "metadata": {},
   "outputs": [],
   "source": [
    "eval_gen = data_generator(testing_dataset, np.inf, BATCH_SIZE, (224, 224, 3))\n",
    "predictions = model.predict_generator(eval_gen, 41)"
   ]
  },
  {
   "cell_type": "code",
   "execution_count": null,
   "metadata": {},
   "outputs": [],
   "source": []
  },
  {
   "cell_type": "code",
   "execution_count": null,
   "metadata": {},
   "outputs": [],
   "source": [
    "false_positive_cnt = 0\n",
    "false_negative_cnt = 0\n",
    "true_positive_cnt = 0\n",
    "true_negative_cnt = 0\n",
    "for i, p in enumerate(predictions):\n",
    "    gt = ground_truth_classes[i]\n",
    "    if gt == 0:\n",
    "        true_positive_cnt += 1\n",
    "    elif gt == 1:\n",
    "        true_negative_cnt += 1\n",
    "    if (1 if p > 0.5 else 0) != gt:\n",
    "        if gt == 1:\n",
    "            false_positive_cnt += 1\n",
    "            print(p)\n",
    "        elif gt == 0:\n",
    "            false_negative_cnt += 1\n",
    "        "
   ]
  },
  {
   "cell_type": "code",
   "execution_count": null,
   "metadata": {},
   "outputs": [],
   "source": [
    "true_positive_cnt"
   ]
  },
  {
   "cell_type": "code",
   "execution_count": null,
   "metadata": {},
   "outputs": [],
   "source": [
    "false_negative_cnt"
   ]
  },
  {
   "cell_type": "code",
   "execution_count": null,
   "metadata": {},
   "outputs": [],
   "source": [
    "false_positive_cnt"
   ]
  },
  {
   "cell_type": "code",
   "execution_count": null,
   "metadata": {},
   "outputs": [],
   "source": [
    "true_negative_cnt"
   ]
  },
  {
   "cell_type": "code",
   "execution_count": null,
   "metadata": {},
   "outputs": [],
   "source": [
    "ground_truth_classes = []\n",
    "for i in range(1025):\n",
    "    c = json.load(open(testing_dataset[i][1]))['model']\n",
    "    ground_truth_classes.append(1 if c == 'contains_fish' else 0)"
   ]
  },
  {
   "cell_type": "code",
   "execution_count": null,
   "metadata": {},
   "outputs": [],
   "source": []
  },
  {
   "cell_type": "code",
   "execution_count": null,
   "metadata": {},
   "outputs": [],
   "source": []
  },
  {
   "cell_type": "markdown",
   "metadata": {},
   "source": [
    "<h1> Quick test </h1>"
   ]
  },
  {
   "cell_type": "code",
   "execution_count": null,
   "metadata": {},
   "outputs": [],
   "source": [
    "files = glob.glob('/root/data/alok/filtration_classifier_data/fish_present/images_resized/*.jpg')"
   ]
  },
  {
   "cell_type": "code",
   "execution_count": null,
   "metadata": {},
   "outputs": [],
   "source": [
    "adhoc_dataset = []\n",
    "for i, f in enumerate(files):\n",
    "    adhoc_dataset.append((f, dataset[i][1]))\n",
    "    "
   ]
  },
  {
   "cell_type": "code",
   "execution_count": null,
   "metadata": {},
   "outputs": [],
   "source": [
    "BATCH_SIZE = 1\n",
    "adhoc_gen = data_generator(adhoc_dataset, np.inf, BATCH_SIZE, (224, 224, 3))\n",
    "predictions = model.predict_generator(adhoc_gen, len(adhoc_dataset))"
   ]
  },
  {
   "cell_type": "code",
   "execution_count": null,
   "metadata": {},
   "outputs": [],
   "source": [
    "pass_cnt = 0\n",
    "for p in predictions:\n",
    "    if p > 0.5:\n",
    "        pass_cnt += 1\n",
    "\n",
    "        "
   ]
  },
  {
   "cell_type": "code",
   "execution_count": null,
   "metadata": {},
   "outputs": [],
   "source": [
    "pass_cnt"
   ]
  },
  {
   "cell_type": "code",
   "execution_count": null,
   "metadata": {},
   "outputs": [],
   "source": [
    "len(predictions)"
   ]
  },
  {
   "cell_type": "code",
   "execution_count": null,
   "metadata": {},
   "outputs": [],
   "source": [
    "762 / 25"
   ]
  },
  {
   "cell_type": "code",
   "execution_count": null,
   "metadata": {},
   "outputs": [],
   "source": [
    "(750 - 476) / 750."
   ]
  },
  {
   "cell_type": "code",
   "execution_count": null,
   "metadata": {},
   "outputs": [],
   "source": [
    "len(files) / 25"
   ]
  },
  {
   "cell_type": "code",
   "execution_count": null,
   "metadata": {},
   "outputs": [],
   "source": [
    "(1500 - 937) / 1500"
   ]
  },
  {
   "cell_type": "code",
   "execution_count": null,
   "metadata": {},
   "outputs": [],
   "source": []
  }
 ],
 "metadata": {
  "kernelspec": {
   "display_name": "Python 3",
   "language": "python",
   "name": "python3"
  },
  "language_info": {
   "codemirror_mode": {
    "name": "ipython",
    "version": 3
   },
   "file_extension": ".py",
   "mimetype": "text/x-python",
   "name": "python",
   "nbconvert_exporter": "python",
   "pygments_lexer": "ipython3",
   "version": "3.5.2"
  }
 },
 "nbformat": 4,
 "nbformat_minor": 2
}
