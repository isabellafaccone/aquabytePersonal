{
 "cells": [
  {
   "cell_type": "code",
   "execution_count": null,
   "metadata": {},
   "outputs": [],
   "source": [
    "from matplotlib import pyplot as plt\n",
    "import numpy as np\n",
    "import random\n",
    "import pandas as pd\n",
    "from scipy.stats import norm"
   ]
  },
  {
   "cell_type": "markdown",
   "metadata": {},
   "source": [
    "<h1> Study Overview </h1>"
   ]
  },
  {
   "cell_type": "markdown",
   "metadata": {},
   "source": [
    "\n",
    "\n",
    "Our study consists of two steps: (1) Get a good estimate of the extrapolation factor given our optics; (2) sample enough fish during the Mattilsynet study such that our extrapolated per-fish count is within some error margin $E$ of the true count. In this notebook, I use Monte Carlo simulations to show how often our predicted Chalimus II count is within $E$ of the true chalimus II count. \n",
    "\n",
    "Suppose that the true probability of our system detecting Chalimus II lice is $p$, and our estimated detection probability we get from step 1 is $\\hat{p}$. Our estimated extrapolation factor would then be $\\frac{1}{\\hat{p}}$. Obviously, our estimated extrapolation factor gets closer to the real factor as we increase our Chalimus II sample size $N_1$. \n",
    "\n",
    "Now given $\\frac{1}{\\hat{p}}$, during the Mattilsynet study (step 2) we want to make sure we have enough fish samples $N_2$ such that our estimated lice count $\\hat{L}$ is within some error margin $E$ of the true count $L$. Let $l_i$ be the number of Chalimus II lice on the $i$-th fish, and let $X_j^i$ be 1 if the $j$-th Chalimus II louse on the $i$-th fish is detected, and 0 otherwise. We then have the following:\n",
    "\n",
    "\\begin{align}\n",
    "\\hat{L} &= \\frac{1}{\\hat{p}} \\left(\\frac{1}{N_2} \\sum_{i=1}^{N_2} \\sum_{j=1}^{l_i} X_j^{i} \\right) \\\\\n",
    "L &= \\frac{1}{N_2} \\sum_{i=0}^{N_2} l_i \\\\\n",
    "\\hat{L} - L &= \\frac{1}{N_2} \\sum_{i=1}^{N_2} \\left( \\frac{1}{\\hat{p}} \\sum_{j=1}^{l_i} X_j^{i} - l_i \\right) \\\\\n",
    "\\end{align}\n",
    "\n",
    "\n",
    "We want $|\\hat{L} - L| < E$ in at least 90% of cases.\n",
    "\n",
    "\n",
    "Note that $l_i$ is a random variable with mean $l$ (this is our prior on the mean Chalimus II lice count). Here I assume that $l_i \\sim \\text{Poisson}\\left(l\\right)$. We will use Monte Carlo simulation to see how often our predicted Chalimus II lice count $\\hat{L}$ during Mattilsynet study is within $E$ of the true lice count $L$ for different values of $p$, $l$ and $E$.  \n",
    "\n",
    "\n",
    "\n",
    "\n"
   ]
  },
  {
   "cell_type": "code",
   "execution_count": null,
   "metadata": {},
   "outputs": [],
   "source": []
  },
  {
   "cell_type": "markdown",
   "metadata": {},
   "source": [
    "<h2> Helper function for generating $\\hat{p}$ </h2>"
   ]
  },
  {
   "cell_type": "code",
   "execution_count": null,
   "metadata": {},
   "outputs": [],
   "source": [
    "def generate_p_hat(p, N_1):\n",
    "    "
   ]
  },
  {
   "cell_type": "code",
   "execution_count": null,
   "metadata": {},
   "outputs": [],
   "source": []
  },
  {
   "cell_type": "code",
   "execution_count": null,
   "metadata": {},
   "outputs": [],
   "source": []
  },
  {
   "cell_type": "code",
   "execution_count": null,
   "metadata": {},
   "outputs": [],
   "source": []
  },
  {
   "cell_type": "code",
   "execution_count": null,
   "metadata": {},
   "outputs": [],
   "source": []
  },
  {
   "cell_type": "code",
   "execution_count": null,
   "metadata": {},
   "outputs": [],
   "source": []
  },
  {
   "cell_type": "code",
   "execution_count": null,
   "metadata": {},
   "outputs": [],
   "source": []
  },
  {
   "cell_type": "code",
   "execution_count": null,
   "metadata": {},
   "outputs": [],
   "source": []
  }
 ],
 "metadata": {
  "kernelspec": {
   "display_name": "Python 3",
   "language": "python",
   "name": "python3"
  },
  "language_info": {
   "codemirror_mode": {
    "name": "ipython",
    "version": 3
   },
   "file_extension": ".py",
   "mimetype": "text/x-python",
   "name": "python",
   "nbconvert_exporter": "python",
   "pygments_lexer": "ipython3",
   "version": "3.7.0"
  }
 },
 "nbformat": 4,
 "nbformat_minor": 2
}
