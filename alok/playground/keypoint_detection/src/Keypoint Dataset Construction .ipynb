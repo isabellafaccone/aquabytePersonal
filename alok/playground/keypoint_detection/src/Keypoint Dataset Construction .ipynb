{
 "cells": [
  {
   "cell_type": "markdown",
   "metadata": {},
   "source": [
    "<h1> Keypoint Dataset Construction </h1>\n",
    "\n",
    "<h3> In this notebook, we will construct the initial base dataset required for training a CNN to detect keypoints </h3>"
   ]
  },
  {
   "cell_type": "code",
   "execution_count": null,
   "metadata": {},
   "outputs": [],
   "source": [
    "import json\n",
    "import os\n",
    "\n",
    "import boto3"
   ]
  },
  {
   "cell_type": "markdown",
   "metadata": {},
   "source": [
    "<h1> Download all data (images and metadata) locally </h1>"
   ]
  },
  {
   "cell_type": "code",
   "execution_count": null,
   "metadata": {},
   "outputs": [],
   "source": [
    "# AWS setup\n",
    "\n",
    "aws_credentials = json.load(open(os.environ['AWS_CREDENTIALS']))\n",
    "s3_client = boto3.client(\n",
    "    's3',\n",
    "    aws_access_key_id=aws_credentials['aws_access_key_id'],\n",
    "    aws_secret_access_key=aws_credentials['aws_secret_access_key']\n",
    ")\n"
   ]
  },
  {
   "cell_type": "code",
   "execution_count": null,
   "metadata": {},
   "outputs": [],
   "source": [
    "## get all data (images & metadata)\n",
    "\n",
    "# define output locations\n",
    "images_dir = '/root/data/alok/keypoint_detection/images'\n",
    "metadata_dir = '/root/data/alok/keypoint_detection/metadata'\n",
    "\n",
    "# load annotations\n",
    "annotations = json.load(open('/root/data/alok/keypoint_detection/export-2019-01-24T01_43_31.409Z.json'))\n",
    "\n",
    "s3_bucket = 'aquabyte-groundtruths'\n",
    "s3_prefix = 'https://s3-eu-west-1.amazonaws.com/{}/'.format(s3_bucket)\n",
    "for ann in annotations:\n",
    "    \n",
    "    # download image to disk\n",
    "    s3_url = ann['Labeled Data']\n",
    "    s3_key = s3_url.replace(s3_prefix, '')\n",
    "    s3_client.download_file(s3_bucket, s3_key, '/root/data/hello.jpg')\n",
    "    break\n",
    "    \n",
    "    \n",
    "    # construct metadata object and write to disk\n",
    "    metadata = {key: ann['Label'][key] for key in ann['Label'].keys() if key != 'Salmon'}\n",
    "    metdata_f = os.path.join(metadata_dir)\n",
    "  "
   ]
  },
  {
   "cell_type": "code",
   "execution_count": null,
   "metadata": {},
   "outputs": [],
   "source": [
    "url"
   ]
  },
  {
   "cell_type": "code",
   "execution_count": null,
   "metadata": {},
   "outputs": [],
   "source": [
    "url = ann['Labeled Data']"
   ]
  },
  {
   "cell_type": "code",
   "execution_count": null,
   "metadata": {},
   "outputs": [],
   "source": [
    "url.replace(s3_prefix, '')"
   ]
  },
  {
   "cell_type": "code",
   "execution_count": null,
   "metadata": {},
   "outputs": [],
   "source": []
  },
  {
   "cell_type": "code",
   "execution_count": null,
   "metadata": {},
   "outputs": [],
   "source": []
  }
 ],
 "metadata": {
  "kernelspec": {
   "display_name": "Python 3",
   "language": "python",
   "name": "python3"
  },
  "language_info": {
   "codemirror_mode": {
    "name": "ipython",
    "version": 3
   },
   "file_extension": ".py",
   "mimetype": "text/x-python",
   "name": "python",
   "nbconvert_exporter": "python",
   "pygments_lexer": "ipython3",
   "version": "3.5.2"
  }
 },
 "nbformat": 4,
 "nbformat_minor": 2
}
