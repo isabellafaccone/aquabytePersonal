{
 "cells": [
  {
   "cell_type": "markdown",
   "metadata": {},
   "source": [
    "<h1> Keypoint Dataset Construction </h1>\n",
    "\n",
    "<h3> In this notebook, we will construct the initial base dataset required for training a CNN to detect keypoints </h3>"
   ]
  },
  {
   "cell_type": "code",
   "execution_count": 2,
   "metadata": {},
   "outputs": [],
   "source": [
    "import json\n",
    "import os\n",
    "import tqdm\n",
    "import glob\n",
    "import random\n",
    "import boto3\n",
    "import pandas as pd\n",
    "from skimage.io import imread, imsave\n",
    "from skimage.transform import resize\n",
    "from skimage.viewer import ImageViewer"
   ]
  },
  {
   "cell_type": "markdown",
   "metadata": {},
   "source": [
    "<h1> Create small dataset of resized crops to annotate in Labelbox </h1>"
   ]
  },
  {
   "cell_type": "code",
   "execution_count": 3,
   "metadata": {},
   "outputs": [],
   "source": [
    "# set random seed\n",
    "random.seed(0)"
   ]
  },
  {
   "cell_type": "code",
   "execution_count": 5,
   "metadata": {},
   "outputs": [
    {
     "name": "stdout",
     "output_type": "stream",
     "text": [
      "/root/data/alok/crop_data/crop_metadata/left_blom-kjeppevikholmen_2_1548248666107_1318_1432_3706_2341.json\n",
      "/root/data/alok/crop_data/crop_metadata/left_blom-kjeppevikholmen_2_1548248688324_133_1274_2683_2029.json\n",
      "/root/data/alok/crop_data/crop_metadata/left_blom-kjeppevikholmen_2_1548248116104_0_1014_2610_2006.json\n",
      "/root/data/alok/crop_data/crop_metadata/left_blom-kjeppevikholmen_2_1548247952766_1365_1784_4096_2631.json\n",
      "/root/data/alok/crop_data/crop_metadata/left_blom-kjeppevikholmen_2_1548244619498_961_1148_3486_1921.json\n",
      "/root/data/alok/crop_data/crop_metadata/left_blom-kjeppevikholmen_2_1548244042752_643_1238_3774_2186.json\n",
      "/root/data/alok/crop_data/crop_metadata/left_blom-kjeppevikholmen_2_1548244180535_997_815_3294_1807.json\n",
      "/root/data/alok/crop_data/crop_metadata/left_blom-kjeppevikholmen_2_1548244009420_0_620_2566_1341.json\n",
      "/root/data/alok/crop_data/crop_metadata/left_blom-kjeppevikholmen_2_1548244347204_767_921_3510_1817.json\n",
      "/root/data/alok/crop_data/crop_metadata/left_blom-kjeppevikholmen_2_1548243962757_681_1633_3178_2652.json\n"
     ]
    },
    {
     "name": "stderr",
     "output_type": "stream",
     "text": [
      "/usr/local/lib/python3.5/dist-packages/skimage/transform/_warps.py:84: UserWarning: The default mode, 'constant', will be changed to 'reflect' in skimage 0.15.\n",
      "  warn(\"The default mode, 'constant', will be changed to 'reflect' in \"\n",
      "/usr/local/lib/python3.5/dist-packages/skimage/util/dtype.py:122: UserWarning: Possible precision loss when converting from float64 to uint8\n",
      "  .format(dtypeobj_in, dtypeobj_out))\n"
     ]
    }
   ],
   "source": [
    "analysis_df = pd.read_hdf('/root/data/alok/crop_data/data_dumps/analysis_df.h5', 'df')\n",
    "accepted_mask = (analysis_df.created_by == 'gunnar@aquabyte.ai') & (analysis_df.adult_female_count_adjusted >= 0)\n",
    "crop_fs = list(analysis_df[accepted_mask].sort_values('created_at', ascending=False).head(10).crop_path.values)\n",
    "metadata_fs = []\n",
    "metadata_dir = '/root/data/alok/crop_data/crop_metadata'\n",
    "for crop_f in crop_fs:\n",
    "    crop_f_name = os.path.basename(crop_f)\n",
    "    metadata_f_name = crop_f_name.replace('.jpg', '.json')\n",
    "    metadata_f = os.path.join(metadata_dir, metadata_f_name)\n",
    "    print(metadata_f)\n",
    "    if not os.path.exists(metadata_f):\n",
    "        print('Error!')\n",
    "    metadata_fs.append(metadata_f)\n",
    "\n",
    "\n",
    "\n",
    "crops_for_keypoints_dir = '/root/data/alok/keypoint_detection/crops'\n",
    "crops_for_keypoints_resized_dir = '/root/data/alok/keypoint_detection/crops_resized'\n",
    "metadata_for_keypoints_dir = '/root/data/alok/keypoint_detection/crop_metadata'\n",
    "\n",
    "if not os.path.exists(crops_for_keypoints_dir):\n",
    "    os.makedirs(crops_for_keypoints_dir)\n",
    "\n",
    "if not os.path.exists(metadata_for_keypoints_dir):\n",
    "    os.makedirs(metadata_for_keypoints_dir)\n",
    "\n",
    "\n",
    "url_prefix = 'https://s3-eu-west-1.amazonaws.com/aquabyte-crops'\n",
    "urls = []\n",
    "for crop_f, metadata_f in zip(crop_fs, metadata_fs):\n",
    "    crop = imread(crop_f)\n",
    "    crop_resized = resize(crop, (224, 224))\n",
    "    \n",
    "    # define output location for crop (original)\n",
    "    crop_f_name = os.path.basename(crop_f)\n",
    "    crop_f = os.path.join(crops_for_keypoints_dir, crop_f_name)\n",
    "    imsave(crop_f, crop)\n",
    "    \n",
    "    # define output location for crop (resized)\n",
    "    crop_resized_f_name = os.path.basename(crop_f)\n",
    "    crop_resized_f = os.path.join(crops_for_keypoints_resized_dir, crop_resized_f_name)\n",
    "    imsave(crop_resized_f, crop_resized)\n",
    "\n",
    "#     metadata = json.load(open(metadata_f))\n",
    "#     s3_key = metadata['image_key']\n",
    "#     url = os.path.join(url_prefix, s3_key)\n",
    "#     urls.append(url)\n",
    "    \n",
    "#     # write metadata to disk\n",
    "#     metadata_f_name = os.path.basename(metadata_f)\n",
    "#     with open(os.path.join(metadata_for_keypoints_dir, metadata_f_name), 'w') as f:\n",
    "#         json.dump(metadata, f)\n",
    "    \n",
    "    \n",
    "    \n",
    "\n"
   ]
  },
  {
   "cell_type": "code",
   "execution_count": 12,
   "metadata": {},
   "outputs": [
    {
     "data": {
      "text/plain": [
       "['/root/data/alok/crop_data/crop_metadata/left_blom-kjeppevikholmen_2_1548248666107_1318_1432_3706_2341.json',\n",
       " '/root/data/alok/crop_data/crop_metadata/left_blom-kjeppevikholmen_2_1548248688324_133_1274_2683_2029.json',\n",
       " '/root/data/alok/crop_data/crop_metadata/left_blom-kjeppevikholmen_2_1548248116104_0_1014_2610_2006.json',\n",
       " '/root/data/alok/crop_data/crop_metadata/left_blom-kjeppevikholmen_2_1548247952766_1365_1784_4096_2631.json',\n",
       " '/root/data/alok/crop_data/crop_metadata/left_blom-kjeppevikholmen_2_1548244619498_961_1148_3486_1921.json',\n",
       " '/root/data/alok/crop_data/crop_metadata/left_blom-kjeppevikholmen_2_1548244042752_643_1238_3774_2186.json',\n",
       " '/root/data/alok/crop_data/crop_metadata/left_blom-kjeppevikholmen_2_1548244180535_997_815_3294_1807.json',\n",
       " '/root/data/alok/crop_data/crop_metadata/left_blom-kjeppevikholmen_2_1548244009420_0_620_2566_1341.json',\n",
       " '/root/data/alok/crop_data/crop_metadata/left_blom-kjeppevikholmen_2_1548244347204_767_921_3510_1817.json',\n",
       " '/root/data/alok/crop_data/crop_metadata/left_blom-kjeppevikholmen_2_1548243962757_681_1633_3178_2652.json']"
      ]
     },
     "execution_count": 12,
     "metadata": {},
     "output_type": "execute_result"
    }
   ],
   "source": [
    "metadata_fs"
   ]
  },
  {
   "cell_type": "code",
   "execution_count": 28,
   "metadata": {},
   "outputs": [
    {
     "name": "stdout",
     "output_type": "stream",
     "text": [
      "https://s3-eu-west-1.amazonaws.com/aquabyte-crops/dev/blom-kjeppevikholmen/2/2019-01-23/left_blom-kjeppevikholmen_2_1548248666107_1318_1432_3706_2341.jpg,\n",
      "https://s3-eu-west-1.amazonaws.com/aquabyte-crops/dev/blom-kjeppevikholmen/2/2019-01-23/left_blom-kjeppevikholmen_2_1548248688324_133_1274_2683_2029.jpg,\n",
      "https://s3-eu-west-1.amazonaws.com/aquabyte-crops/dev/blom-kjeppevikholmen/2/2019-01-23/left_blom-kjeppevikholmen_2_1548248116104_0_1014_2610_2006.jpg,\n",
      "https://s3-eu-west-1.amazonaws.com/aquabyte-crops/dev/blom-kjeppevikholmen/2/2019-01-23/left_blom-kjeppevikholmen_2_1548247952766_1365_1784_4096_2631.jpg,\n",
      "https://s3-eu-west-1.amazonaws.com/aquabyte-crops/dev/blom-kjeppevikholmen/2/2019-01-23/left_blom-kjeppevikholmen_2_1548244619498_961_1148_3486_1921.jpg,\n",
      "https://s3-eu-west-1.amazonaws.com/aquabyte-crops/dev/blom-kjeppevikholmen/2/2019-01-23/left_blom-kjeppevikholmen_2_1548244042752_643_1238_3774_2186.jpg,\n",
      "https://s3-eu-west-1.amazonaws.com/aquabyte-crops/dev/blom-kjeppevikholmen/2/2019-01-23/left_blom-kjeppevikholmen_2_1548244180535_997_815_3294_1807.jpg,\n",
      "https://s3-eu-west-1.amazonaws.com/aquabyte-crops/dev/blom-kjeppevikholmen/2/2019-01-23/left_blom-kjeppevikholmen_2_1548244009420_0_620_2566_1341.jpg,\n",
      "https://s3-eu-west-1.amazonaws.com/aquabyte-crops/dev/blom-kjeppevikholmen/2/2019-01-23/left_blom-kjeppevikholmen_2_1548244347204_767_921_3510_1817.jpg,\n",
      "https://s3-eu-west-1.amazonaws.com/aquabyte-crops/dev/blom-kjeppevikholmen/2/2019-01-23/left_blom-kjeppevikholmen_2_1548243962757_681_1633_3178_2652.jpg\n"
     ]
    }
   ],
   "source": [
    "for i, url in enumerate(urls):\n",
    "    if i < len(urls) - 1:\n",
    "        print('{},'.format(url))\n",
    "    else:\n",
    "        print(url)"
   ]
  },
  {
   "cell_type": "code",
   "execution_count": null,
   "metadata": {},
   "outputs": [],
   "source": []
  },
  {
   "cell_type": "markdown",
   "metadata": {},
   "source": [
    "<h1> Determine lone crop paths and lone metadata paths </h1>\n",
    "\n",
    "<h3> This is a check to ensure that all data on disk is consistent </h3>"
   ]
  },
  {
   "cell_type": "code",
   "execution_count": 35,
   "metadata": {},
   "outputs": [],
   "source": [
    "crop_fs = glob.glob(os.path.join(crops_for_keypoints_dir, '*.jpg'))\n",
    "metadata_fs = glob.glob(os.path.join(metadata_for_keypoints_dir, '*.json'))\n",
    "\n",
    "# determine lone image paths\n",
    "for crop_f in crop_fs:\n",
    "    crop_f_name = os.path.basename(crop_f)\n",
    "    metadata_f_name = crop_f_name.replace('.jpg', '.json')\n",
    "    metadata_f = os.path.join(metadata_for_keypoints_dir, metadata_f_name)\n",
    "    if not os.path.exists(metadata_f):\n",
    "        print('Lone crop path found: {}'.format(crop_f))\n",
    "\n",
    "# determine lone metadata paths\n",
    "for metadata_f in metadata_fs:\n",
    "    metadata_f_name = os.path.basename(metadata_f)\n",
    "    crop_f_name = metadata_f_name.replace('.json', '.jpg')\n",
    "    crop_f = os.path.join(crops_for_keypoints_dir, crop_f_name)\n",
    "    if not os.path.exists(crop_f):\n",
    "        print('Lone metadata path found: {}'.format(metadata_f))\n",
    "\n"
   ]
  },
  {
   "cell_type": "code",
   "execution_count": null,
   "metadata": {},
   "outputs": [],
   "source": []
  },
  {
   "cell_type": "markdown",
   "metadata": {},
   "source": [
    "<h1> Update the metadata with keypoint information (after Labelbox annotation is complete) </h1>"
   ]
  },
  {
   "cell_type": "code",
   "execution_count": 7,
   "metadata": {},
   "outputs": [],
   "source": [
    "crops_dir = '/root/data/alok/keypoint_detection/crops'\n",
    "metadata_dir = '/root/data/alok/keypoint_detection/crop_metadata'\n",
    "new_metadata_dir = '/root/data/alok/keypoint_detection/new_crop_metadata'\n",
    "keypoint_metadata_f = '/root/data/alok/keypoint_detection/data_dumps/crop_keypoint_metadata.json'\n",
    "annotated_fish_objs = json.load(open(keypoint_metadata_f))"
   ]
  },
  {
   "cell_type": "code",
   "execution_count": 8,
   "metadata": {},
   "outputs": [],
   "source": [
    "for obj in annotated_fish_objs:\n",
    "    annotation_obj = {}\n",
    "    for body_part, coords in obj['Label'].items():\n",
    "        coordinates = (coords[0]['geometry']['x'], coords[0]['geometry']['y'])\n",
    "        annotation_obj[body_part] = coordinates\n",
    "    \n",
    "    s3_url = obj['Labeled Data']\n",
    "    crop_f_name = os.path.basename(s3_url)\n",
    "    crop_f = os.path.join(crops_dir, crop_f_name)\n",
    "    \n",
    "    if not os.path.exists(crop_f):\n",
    "        raise 'This crop file path does not exist: {}'.format(crop_f)\n",
    "        \n",
    "    \n",
    "    metadata_f_name = crop_f_name.replace('.jpg', '.json')\n",
    "    metadata_f = os.path.join(metadata_dir, metadata_f_name)\n",
    "\n",
    "    metadata = json.load(open(metadata_f))\n",
    "    metadata['keypoints'] = annotation_obj\n",
    "    new_metadata_f = os.path.join(new_metadata_dir, metadata_f_name)\n",
    "    if not os.path.exists(new_metadata_f):\n",
    "        with open(new_metadata_f, 'w') as f:\n",
    "            json.dump(metadata, f)\n",
    "    \n",
    "        \n",
    "        "
   ]
  },
  {
   "cell_type": "code",
   "execution_count": null,
   "metadata": {},
   "outputs": [],
   "source": []
  },
  {
   "cell_type": "code",
   "execution_count": null,
   "metadata": {},
   "outputs": [],
   "source": []
  },
  {
   "cell_type": "code",
   "execution_count": null,
   "metadata": {},
   "outputs": [],
   "source": []
  },
  {
   "cell_type": "code",
   "execution_count": null,
   "metadata": {},
   "outputs": [],
   "source": []
  },
  {
   "cell_type": "code",
   "execution_count": null,
   "metadata": {},
   "outputs": [],
   "source": []
  },
  {
   "cell_type": "code",
   "execution_count": null,
   "metadata": {},
   "outputs": [],
   "source": []
  },
  {
   "cell_type": "code",
   "execution_count": null,
   "metadata": {},
   "outputs": [],
   "source": []
  },
  {
   "cell_type": "code",
   "execution_count": null,
   "metadata": {},
   "outputs": [],
   "source": []
  },
  {
   "cell_type": "code",
   "execution_count": null,
   "metadata": {},
   "outputs": [],
   "source": []
  },
  {
   "cell_type": "code",
   "execution_count": null,
   "metadata": {},
   "outputs": [],
   "source": []
  },
  {
   "cell_type": "code",
   "execution_count": null,
   "metadata": {},
   "outputs": [],
   "source": []
  },
  {
   "cell_type": "code",
   "execution_count": null,
   "metadata": {},
   "outputs": [],
   "source": []
  },
  {
   "cell_type": "code",
   "execution_count": null,
   "metadata": {},
   "outputs": [],
   "source": []
  },
  {
   "cell_type": "code",
   "execution_count": null,
   "metadata": {},
   "outputs": [],
   "source": []
  },
  {
   "cell_type": "code",
   "execution_count": null,
   "metadata": {},
   "outputs": [],
   "source": []
  },
  {
   "cell_type": "code",
   "execution_count": null,
   "metadata": {},
   "outputs": [],
   "source": []
  },
  {
   "cell_type": "code",
   "execution_count": null,
   "metadata": {},
   "outputs": [],
   "source": []
  }
 ],
 "metadata": {
  "kernelspec": {
   "display_name": "Python 3",
   "language": "python",
   "name": "python3"
  },
  "language_info": {
   "codemirror_mode": {
    "name": "ipython",
    "version": 3
   },
   "file_extension": ".py",
   "mimetype": "text/x-python",
   "name": "python",
   "nbconvert_exporter": "python",
   "pygments_lexer": "ipython3",
   "version": "3.5.2"
  }
 },
 "nbformat": 4,
 "nbformat_minor": 2
}
