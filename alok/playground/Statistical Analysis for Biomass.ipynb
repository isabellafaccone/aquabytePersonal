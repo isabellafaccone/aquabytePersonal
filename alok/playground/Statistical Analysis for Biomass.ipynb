{
 "cells": [
  {
   "cell_type": "code",
   "execution_count": null,
   "metadata": {},
   "outputs": [],
   "source": [
    "from matplotlib import pyplot as plt\n",
    "import numpy as np\n",
    "import random\n",
    "import tqdm"
   ]
  },
  {
   "cell_type": "code",
   "execution_count": null,
   "metadata": {},
   "outputs": [],
   "source": []
  },
  {
   "cell_type": "code",
   "execution_count": null,
   "metadata": {},
   "outputs": [],
   "source": [
    "N = 200000\n",
    "avg_biomass_gt = 3.0\n",
    "stdev_biomass_gt = 0.6\n",
    "single_fish_pred_stdev_pct = 0.15\n",
    "error_cutoff = 0.01\n"
   ]
  },
  {
   "cell_type": "code",
   "execution_count": null,
   "metadata": {},
   "outputs": [],
   "source": [
    "T = 100\n",
    "sample_sizes = np.arange(100, 10000, 100)\n",
    "\n",
    "avg_population_err_pcts = []\n",
    "within_1_pct_freqs = []\n",
    "for sample_size in tqdm.tqdm(sample_sizes):\n",
    "    population_err_pcts = []\n",
    "    within_1_pcts = []\n",
    "    for i in range(T):\n",
    "        biomass_vec_gt = np.random.normal(avg_biomass_gt, stdev_biomass_gt, N)\n",
    "        biomass_vec_sample_gt = biomass_vec_gt[:sample_size]\n",
    "        deviations = np.multiply(single_fish_pred_stdev_pct * np.random.normal(0.0, 1.0, sample_size), biomass_vec_sample_gt)\n",
    "        biomass_vec_sample_pred = biomass_vec_sample_gt + deviations\n",
    "        avg_biomass_pred = biomass_vec_sample_pred.mean()\n",
    "        avg_biomass_gt = biomass_vec_gt.mean()\n",
    "        population_err_pct = abs(avg_biomass_gt - avg_biomass_pred) / avg_biomass_pred\n",
    "        within_1_pct = 1 if population_err_pct < error_cutoff else 0\n",
    "        population_err_pcts.append(population_err_pct)\n",
    "        within_1_pcts.append(within_1_pct)\n",
    "        \n",
    "    population_err_pcts = np.array(population_err_pcts)\n",
    "    within_1_pcts = np.array(within_1_pcts)\n",
    "    avg_population_err_pct = population_err_pcts.mean()\n",
    "    within_1_pct_freq = within_1_pcts.mean()\n",
    "    avg_population_err_pcts.append(avg_population_err_pct)\n",
    "    within_1_pct_freqs.append(within_1_pct_freq)\n",
    "        \n",
    "        \n",
    "        \n",
    "        \n",
    "        \n"
   ]
  },
  {
   "cell_type": "code",
   "execution_count": null,
   "metadata": {},
   "outputs": [],
   "source": []
  },
  {
   "cell_type": "markdown",
   "metadata": {},
   "source": [
    "<h1> Results for 5% standard deviation in error </h1>"
   ]
  },
  {
   "cell_type": "code",
   "execution_count": null,
   "metadata": {},
   "outputs": [],
   "source": [
    "fig, ax1 = plt.subplots(figsize=(12, 8))\n",
    "ax2 = ax1.twinx()\n",
    "ax1.plot(sample_sizes, within_1_pct_freqs, 'g-')\n",
    "ax2.plot(sample_sizes, avg_population_err_pcts, 'b-')\n",
    "\n",
    "ax1.set_xlabel('Number of fish analyzed')\n",
    "ax1.set_ylabel('P(avg. predicted biomass within {}% of ground truth)'.format(int(100 * error_cutoff)), color='g')\n",
    "ax2.set_ylabel('Expected avg. biomass error', color='b')\n",
    "\n",
    "plt.title('Biomass Success Rate for single fish error standard dev = {}%'.format(int(100 * single_fish_pred_stdev_pct)))\n",
    "ax1.grid()\n",
    "plt.show()"
   ]
  },
  {
   "cell_type": "code",
   "execution_count": null,
   "metadata": {},
   "outputs": [],
   "source": []
  },
  {
   "cell_type": "markdown",
   "metadata": {},
   "source": [
    "<h1> Results for 15% standard deviation error </h1>"
   ]
  },
  {
   "cell_type": "code",
   "execution_count": null,
   "metadata": {},
   "outputs": [],
   "source": [
    "fig, ax1 = plt.subplots(figsize=(12, 8))\n",
    "ax2 = ax1.twinx()\n",
    "ax1.plot(sample_sizes, within_1_pct_freqs, 'g-')\n",
    "ax2.plot(sample_sizes, avg_population_err_pcts, 'b-')\n",
    "\n",
    "ax1.set_xlabel('Number of fish analyzed')\n",
    "ax1.set_ylabel('P(avg. predicted biomass within 1% of ground truth)', color='g')\n",
    "ax2.set_ylabel('Expected avg. biomass error', color='b')\n",
    "\n",
    "plt.title('Biomass Success Rate for single fish error standard dev = 15%')\n",
    "ax1.grid()\n",
    "plt.show()"
   ]
  },
  {
   "cell_type": "code",
   "execution_count": null,
   "metadata": {},
   "outputs": [],
   "source": []
  },
  {
   "cell_type": "markdown",
   "metadata": {},
   "source": [
    "<h1> Results for perfect biomass estimator </h1>"
   ]
  },
  {
   "cell_type": "code",
   "execution_count": null,
   "metadata": {},
   "outputs": [],
   "source": []
  },
  {
   "cell_type": "code",
   "execution_count": null,
   "metadata": {},
   "outputs": [],
   "source": [
    "fig, ax1 = plt.subplots(figsize=(12, 8))\n",
    "ax2 = ax1.twinx()\n",
    "ax1.plot(sample_sizes, within_1_pct_freqs, 'g-')\n",
    "ax2.plot(sample_sizes, avg_population_err_pcts, 'b-')\n",
    "\n",
    "ax1.set_xlabel('Number of fish analyzed')\n",
    "ax1.set_ylabel('P(avg. predicted biomass within 1% of ground truth)', color='g')\n",
    "ax2.set_ylabel('Expected avg. biomass error pct', color='b')\n",
    "\n",
    "plt.title('Biomass Success Rate for PERFECT biomass estimator')\n",
    "plt.grid()\n",
    "plt.show()"
   ]
  },
  {
   "cell_type": "code",
   "execution_count": null,
   "metadata": {},
   "outputs": [],
   "source": []
  },
  {
   "cell_type": "code",
   "execution_count": null,
   "metadata": {},
   "outputs": [],
   "source": []
  },
  {
   "cell_type": "code",
   "execution_count": null,
   "metadata": {},
   "outputs": [],
   "source": []
  },
  {
   "cell_type": "code",
   "execution_count": null,
   "metadata": {},
   "outputs": [],
   "source": []
  },
  {
   "cell_type": "code",
   "execution_count": null,
   "metadata": {},
   "outputs": [],
   "source": []
  }
 ],
 "metadata": {
  "kernelspec": {
   "display_name": "Python 3",
   "language": "python",
   "name": "python3"
  },
  "language_info": {
   "codemirror_mode": {
    "name": "ipython",
    "version": 3
   },
   "file_extension": ".py",
   "mimetype": "text/x-python",
   "name": "python",
   "nbconvert_exporter": "python",
   "pygments_lexer": "ipython3",
   "version": "3.7.0"
  }
 },
 "nbformat": 4,
 "nbformat_minor": 2
}
