{
 "cells": [
  {
   "cell_type": "code",
   "execution_count": null,
   "metadata": {},
   "outputs": [],
   "source": [
    "import pandas as pd\n",
    "import numpy as np\n",
    "import random\n",
    "from matplotlib import pyplot as plt\n",
    "from pandas.plotting import autocorrelation_plot\n",
    "\n",
    "from statsmodels.tsa.stattools import acf, pacf\n",
    "import json, os\n",
    "import matplotlib.dates as mdates\n",
    "\n",
    "from statsmodels.stats.stattools import durbin_watson\n",
    "from scipy.stats import ttest_ind, normaltest\n",
    "from decimal import Decimal\n",
    "from aquabyte.data_access_utils import S3AccessUtils, RDSAccessUtils\n",
    "pd.set_option('display.max_rows', 500)\n",
    "pd.set_option('display.max_colwidth', 500)"
   ]
  },
  {
   "cell_type": "code",
   "execution_count": null,
   "metadata": {},
   "outputs": [],
   "source": [
    "rds_access_utils = RDSAccessUtils(json.load(open(os.environ['PROD_SQL_CREDENTIALS'])))\n",
    "query = \"\"\"\n",
    "    select * from event_logs where started_at between '2019-04-01' and '2019-05-15';\n",
    "\"\"\"\n",
    "df_events = rds_access_utils.extract_from_database(query)"
   ]
  },
  {
   "cell_type": "code",
   "execution_count": null,
   "metadata": {},
   "outputs": [],
   "source": [
    "query = \"\"\"\n",
    "    select * from lati_fish_detections_lice_annotations_reconciled\n",
    "    where pen_id=1 and captured_at between '2019-04-01' and '2019-05-15';\n",
    "\"\"\"\n",
    "df = rds_access_utils.extract_from_database(query)\n"
   ]
  },
  {
   "cell_type": "code",
   "execution_count": null,
   "metadata": {},
   "outputs": [],
   "source": []
  },
  {
   "cell_type": "markdown",
   "metadata": {},
   "source": [
    "<h1> Prepare the dataset </h1>"
   ]
  },
  {
   "cell_type": "code",
   "execution_count": null,
   "metadata": {},
   "outputs": [],
   "source": [
    "df = df.sort_values('captured_at')\n",
    "df_events['occurred_on_date'] = pd.to_datetime(df_events.started_at, format='%Y-%m-%d').astype(str)\n",
    "df.index = pd.to_datetime(df.captured_at)\n",
    "columns = ['adult_female_count_adjusted', 'moving_count_adjusted']\n",
    "df_daily = df[columns].rolling('7D').mean().resample('D').apply(lambda x:x.tail(1) if x.shape[0] else np.nan).fillna(method='backfill')\n",
    "df_daily['date'] = pd.to_datetime(df_daily.index, format='%Y-%m-%d').astype(str)\n",
    "\n",
    "f_manual = 'manual_counts.csv'\n",
    "df_manual = pd.read_csv(f_manual)\n",
    "df_manual.index = pd.to_datetime(df_manual['Date'])\n",
    "\n"
   ]
  },
  {
   "cell_type": "code",
   "execution_count": null,
   "metadata": {},
   "outputs": [],
   "source": [
    "coefficients = {\n",
    "    'last_week_fixed': 0.62,\n",
    "    'this_week_moving': 0.08\n",
    "}\n",
    "\n",
    "def construct_fixed_df(df_daily, df_events, reset_count=0.05):\n",
    "    df_fixed = df_daily.copy(deep=True)\n",
    "    df_fixed['fixed_count'] = np.nan\n",
    "    df_fixed.fixed_count.iloc[0] = reset_count\n",
    "    \n",
    "    reset_idx = 0\n",
    "    \n",
    "    for i in range(1, df_daily.shape[0]):\n",
    "        date = df_daily.date.iloc[i]\n",
    "        if (date in df_events.occurred_on_date.values) and \\\n",
    "        (df_events[df_events.occurred_on_date == date].event_type.iloc[0] == 'DELOUSING'):\n",
    "            df_fixed.fixed_count.iloc[i] = random.gauss(reset_count, 0.02)\n",
    "            reset_idx = i\n",
    "        else:\n",
    "            if reset_idx > i-7:\n",
    "                df_fixed.fixed_count.iloc[i] = random.gauss(reset_count, 0.02)\n",
    "            else:\n",
    "                df_fixed.fixed_count.iloc[i] = max(coefficients['last_week_fixed']*df_fixed.fixed_count.iloc[i-7] + \\\n",
    "                                               coefficients['this_week_moving']*df_fixed.moving_count_adjusted.iloc[i] + random.gauss(0, 0.05), 0)\n",
    "        \n",
    "    return df_fixed\n",
    "        \n",
    "    "
   ]
  },
  {
   "cell_type": "code",
   "execution_count": null,
   "metadata": {},
   "outputs": [],
   "source": []
  },
  {
   "cell_type": "code",
   "execution_count": null,
   "metadata": {},
   "outputs": [],
   "source": [
    "df_fixed = construct_fixed_df(df_daily, df_events)"
   ]
  },
  {
   "cell_type": "code",
   "execution_count": null,
   "metadata": {},
   "outputs": [],
   "source": [
    "df_fixed['2019-05-14':'2019-06-03'].moving_count_adjusted = np.nan"
   ]
  },
  {
   "cell_type": "code",
   "execution_count": null,
   "metadata": {},
   "outputs": [],
   "source": []
  },
  {
   "cell_type": "code",
   "execution_count": null,
   "metadata": {},
   "outputs": [],
   "source": [
    "plt.plot(df.moving_count)\n",
    "plt.show()"
   ]
  },
  {
   "cell_type": "code",
   "execution_count": null,
   "metadata": {},
   "outputs": [],
   "source": []
  },
  {
   "cell_type": "code",
   "execution_count": null,
   "metadata": {},
   "outputs": [],
   "source": [
    "df_events"
   ]
  },
  {
   "cell_type": "code",
   "execution_count": null,
   "metadata": {},
   "outputs": [],
   "source": [
    "\n",
    "df_fixed.moving_count_adjusted"
   ]
  },
  {
   "cell_type": "code",
   "execution_count": null,
   "metadata": {},
   "outputs": [],
   "source": [
    "plt.figure(figsize=(20, 10))\n",
    "plt.plot(df_fixed.index, df_fixed.moving_count_adjusted, marker='o', label='ASLCS Mobile Count')\n",
    "# plt.plot(df_manual['Moving Count'].dropna(), marker='o', label='MM Mobile Count')\n",
    "for idx, date in enumerate(df_events[df_events.event_type == 'DELOUSING'].occurred_on_date.values):\n",
    "    if idx == 0:\n",
    "        plt.axvline(x=date, color='r', linestyle='--', label='Delicing Event')\n",
    "    else:\n",
    "        plt.axvline(x=date, color='r', linestyle='--')\n",
    "plt.title('ASLCS Mobile Counts vs. MM Mobile Counts')\n",
    "plt.xlabel('Date')\n",
    "\n",
    "plt.ylabel('Mobile Lice Count')\n",
    "# txt = '''Aquabyte moving counts versus manual moving counts for Blom Kjeppevikholmen, Merd 2, \n",
    "# from 2018-12-19 to 2019-03-29'''\n",
    "# plt.figtext(0.5, 0.01, txt, wrap=True, horizontalalignment='center', fontsize=12)\n",
    "plt.legend()\n",
    "# plt.legend()\n",
    "plt.grid()\n",
    "plt.show()"
   ]
  },
  {
   "cell_type": "code",
   "execution_count": null,
   "metadata": {},
   "outputs": [],
   "source": [
    "plt.figure(figsize=(20, 10))\n",
    "plt.plot(df_fixed.index, df_fixed.adult_female_count_adjusted / 4.0, marker='o', label='Adult Female Count')\n",
    "plt.plot(df_fixed.index, df_fixed.moving_count_adjusted / 4.0, marker='o', label='Mobile Count')\n",
    "plt.plot(df_fixed.index, df_fixed.fixed_count / 4.0, marker='o', label='Stationary Count')\n",
    "for idx, date in enumerate(df_events[df_events.description == 'delicing'].occurred_on_date.values[1:]):\n",
    "    if idx == 0:\n",
    "        plt.axvline(x=date, color='r', linestyle='--', label='Delicing Event')\n",
    "    else:\n",
    "        plt.axvline(x=date, color='r', linestyle='--')\n",
    "\n",
    "plt.title('Aquabyte Lice Counts')\n",
    "plt.xlabel('Date')\n",
    "plt.ylabel('Lice Count')\n",
    "plt.legend(loc='upper left')\n",
    "plt.grid()\n",
    "plt.show()"
   ]
  },
  {
   "cell_type": "code",
   "execution_count": null,
   "metadata": {},
   "outputs": [],
   "source": [
    "plt.figure(figsize=(20, 10))\n",
    "# plt.plot(df_fixed.index, df_fixed.adult_female_count_adjusted, marker='o', label='Adult Female Count')\n",
    "# plt.plot(df_fixed.index, df_fixed.moving_count_adjusted, marker='o', label='Moving Count')\n",
    "plt.plot(df_fixed.index, df_fixed.fixed_count / 4, marker='o', label='Stationary Count')\n",
    "for idx, date in enumerate(df_events[df_events.description == 'delicing'].occurred_on_date.values[1:]):\n",
    "    if idx == 0:\n",
    "        plt.axvline(x=date, color='r', linestyle='--', label='Delicing Event')\n",
    "    else:\n",
    "        plt.axvline(x=date, color='r', linestyle='--')\n",
    "\n",
    "plt.title('Aquabyte Stationary Count')\n",
    "plt.xlabel('Date')\n",
    "plt.ylabel('Stationary Lice Count')\n",
    "plt.legend(loc='upper left')\n",
    "plt.grid()\n",
    "plt.show()"
   ]
  },
  {
   "cell_type": "code",
   "execution_count": null,
   "metadata": {},
   "outputs": [],
   "source": [
    "df_fixed"
   ]
  },
  {
   "cell_type": "code",
   "execution_count": null,
   "metadata": {},
   "outputs": [],
   "source": [
    "df_events"
   ]
  },
  {
   "cell_type": "code",
   "execution_count": null,
   "metadata": {},
   "outputs": [],
   "source": []
  },
  {
   "cell_type": "code",
   "execution_count": null,
   "metadata": {},
   "outputs": [],
   "source": []
  },
  {
   "cell_type": "code",
   "execution_count": null,
   "metadata": {},
   "outputs": [],
   "source": [
    "plt.hist(df_fixed.adult_female_count_adjusted)\n",
    "plt.show()"
   ]
  },
  {
   "cell_type": "code",
   "execution_count": null,
   "metadata": {},
   "outputs": [],
   "source": []
  },
  {
   "cell_type": "code",
   "execution_count": null,
   "metadata": {},
   "outputs": [],
   "source": []
  },
  {
   "cell_type": "code",
   "execution_count": null,
   "metadata": {},
   "outputs": [],
   "source": []
  },
  {
   "cell_type": "code",
   "execution_count": null,
   "metadata": {},
   "outputs": [],
   "source": [
    "df_manual"
   ]
  },
  {
   "cell_type": "code",
   "execution_count": null,
   "metadata": {},
   "outputs": [],
   "source": [
    "df_daily = df[columns].rolling('7D').mean()"
   ]
  },
  {
   "cell_type": "code",
   "execution_count": null,
   "metadata": {},
   "outputs": [],
   "source": [
    "df_daily"
   ]
  },
  {
   "cell_type": "code",
   "execution_count": null,
   "metadata": {},
   "outputs": [],
   "source": []
  },
  {
   "cell_type": "code",
   "execution_count": null,
   "metadata": {},
   "outputs": [],
   "source": [
    "df.head()"
   ]
  },
  {
   "cell_type": "code",
   "execution_count": null,
   "metadata": {},
   "outputs": [],
   "source": []
  },
  {
   "cell_type": "code",
   "execution_count": null,
   "metadata": {},
   "outputs": [],
   "source": [
    "df_daily_count = df['adult_female_count_adjusted'].dropna().resample('D').apply(lambda x:x.shape[0] if x.shape[0] else np.nan).fillna(method='backfill')\n",
    "df_daily_count.columns = ['count']\n",
    "\n",
    "\n"
   ]
  },
  {
   "cell_type": "code",
   "execution_count": null,
   "metadata": {},
   "outputs": [],
   "source": [
    "df_daily_count"
   ]
  },
  {
   "cell_type": "code",
   "execution_count": null,
   "metadata": {},
   "outputs": [],
   "source": []
  },
  {
   "cell_type": "code",
   "execution_count": null,
   "metadata": {},
   "outputs": [],
   "source": []
  },
  {
   "cell_type": "code",
   "execution_count": null,
   "metadata": {},
   "outputs": [],
   "source": [
    "df_daily_count[mask].mean()"
   ]
  },
  {
   "cell_type": "code",
   "execution_count": null,
   "metadata": {},
   "outputs": [],
   "source": [
    "fig, ax = plt.subplots(figsize=(30, 10))\n",
    "mask = df_daily_count.index > '2019-01-01'\n",
    "ax.bar(df_daily_count.index, df_daily_count, width=0.8)\n",
    "ax.set_title('Aquabyte Daily Sample Size')\n",
    "# ax.axhline(y=df_daily_count.mean(), color='r', linestyle='--', label='Average daily sample size')\n",
    "ax.set_xlabel('Date')\n",
    "ax.set_ylabel('Daily Sample Size')\n",
    "plt.legend(loc='upper left')\n",
    "txt = '''Aquabyte daily sample sizes for Blom Kjeppevikholmen, Merd 2, from 2019-02-21 to 2019-03-29\n",
    "'''\n",
    "plt.figtext(0.5, 0.01, txt, wrap=True, horizontalalignment='center', fontsize=14)\n",
    "fig.autofmt_xdate()\n",
    "\n",
    "\n",
    "plt.grid()\n",
    "plt.show()"
   ]
  },
  {
   "cell_type": "code",
   "execution_count": null,
   "metadata": {},
   "outputs": [],
   "source": []
  },
  {
   "cell_type": "code",
   "execution_count": null,
   "metadata": {},
   "outputs": [],
   "source": [
    "df_daily_count[mask][df_daily_count[mask] > 100].shape[0]/df_daily_count[mask].shape[0]"
   ]
  },
  {
   "cell_type": "code",
   "execution_count": null,
   "metadata": {},
   "outputs": [],
   "source": []
  },
  {
   "cell_type": "code",
   "execution_count": null,
   "metadata": {},
   "outputs": [],
   "source": []
  },
  {
   "cell_type": "code",
   "execution_count": null,
   "metadata": {},
   "outputs": [],
   "source": []
  },
  {
   "cell_type": "code",
   "execution_count": null,
   "metadata": {},
   "outputs": [],
   "source": []
  },
  {
   "cell_type": "code",
   "execution_count": null,
   "metadata": {},
   "outputs": [],
   "source": [
    "mask = (df.index > '2019-02-21') & (df.adult_female_count_adjusted >= 0)\n",
    "tdf = df[mask].copy()\n",
    "tdf['hour'] = tdf.index.hour\n",
    "tdf['hour'] += 1\n",
    "tdf = tdf[['adult_female_count_adjusted', 'hour']].dropna()\n",
    "xdf = tdf.groupby(tdf.hour)['adult_female_count_adjusted'].count() / df_fixed[df_fixed.index > '2019-02-21'].shape[0]\n",
    "plt.figure(figsize=(10, 5))\n",
    "plt.bar(xdf.index, xdf)\n",
    "plt.title('Aquabyte Daily Sample Size by Hour of Day')\n",
    "plt.xlabel('Hour of day (CEST)')\n",
    "plt.ylabel('Average conditional daily sample size')\n",
    "plt.grid()\n",
    "plt.show()"
   ]
  },
  {
   "cell_type": "code",
   "execution_count": null,
   "metadata": {},
   "outputs": [],
   "source": []
  },
  {
   "cell_type": "code",
   "execution_count": null,
   "metadata": {},
   "outputs": [],
   "source": [
    "df['image_width_px_bucket'] = 250 * (df.image_width_px // 250) + 125"
   ]
  },
  {
   "cell_type": "code",
   "execution_count": null,
   "metadata": {},
   "outputs": [],
   "source": [
    "kdf"
   ]
  },
  {
   "cell_type": "code",
   "execution_count": null,
   "metadata": {},
   "outputs": [],
   "source": [
    "\n",
    "kdf = pd.DataFrame(df[mask].groupby('image_width_px_bucket')['id'].count() / df_fixed[df_fixed.index > '2019-02-21'].shape[0])"
   ]
  },
  {
   "cell_type": "code",
   "execution_count": null,
   "metadata": {},
   "outputs": [],
   "source": [
    "plt.figure(figsize=(10, 5))\n",
    "plt.bar(kdf.index, kdf.id, width=240)\n",
    "plt.title('Aquabyte Daily Sample Size by Fish Image Size')\n",
    "plt.xlabel('Image width (in pixels)')\n",
    "plt.ylabel('Average conditional daily sample size')\n",
    "plt.grid()"
   ]
  },
  {
   "cell_type": "code",
   "execution_count": null,
   "metadata": {},
   "outputs": [],
   "source": [
    "kdf['weight'] = (kdf.index) * (3.45e-6) * (0.9 / 0.0138)"
   ]
  },
  {
   "cell_type": "code",
   "execution_count": null,
   "metadata": {},
   "outputs": [],
   "source": [
    "kdf"
   ]
  },
  {
   "cell_type": "code",
   "execution_count": null,
   "metadata": {},
   "outputs": [],
   "source": []
  },
  {
   "cell_type": "code",
   "execution_count": null,
   "metadata": {},
   "outputs": [],
   "source": []
  },
  {
   "cell_type": "code",
   "execution_count": null,
   "metadata": {},
   "outputs": [],
   "source": [
    "normaltest(df['image_width_px_bucket'])"
   ]
  },
  {
   "cell_type": "code",
   "execution_count": null,
   "metadata": {},
   "outputs": [],
   "source": [
    "plt.hist(df['image_width_px_bucket'])"
   ]
  },
  {
   "cell_type": "code",
   "execution_count": null,
   "metadata": {},
   "outputs": [],
   "source": []
  },
  {
   "cell_type": "code",
   "execution_count": null,
   "metadata": {},
   "outputs": [],
   "source": [
    "kdf.id"
   ]
  },
  {
   "cell_type": "code",
   "execution_count": null,
   "metadata": {},
   "outputs": [],
   "source": [
    "plt.figure(figsize=(20, 10))\n",
    "plt.hist(df.image_width_px)\n",
    "plt.grid()\n",
    "plt.show()"
   ]
  },
  {
   "cell_type": "code",
   "execution_count": null,
   "metadata": {},
   "outputs": [],
   "source": []
  },
  {
   "cell_type": "code",
   "execution_count": null,
   "metadata": {},
   "outputs": [],
   "source": [
    "plt.figure(figsize=(10, 5))\n",
    "autocorrelation_plot(df_fixed.moving_count_adjusted)\n",
    "plt.title('ASLCS Mobile Count ACF')\n",
    "plt.xlabel('Temporal Lag (Days)')\n",
    "# txt = '''Aquabyte moving count autocorrelation values for different lags (each lag period corresponds to a single day).\n",
    "# The solid and dashed lines correspond to 95th and 99th percentile confidence bands, respectively.\n",
    "# '''\n",
    "# plt.figtext(0.5, 0.01, txt, wrap=True, horizontalalignment='center', fontsize=12)"
   ]
  },
  {
   "cell_type": "code",
   "execution_count": null,
   "metadata": {},
   "outputs": [],
   "source": [
    "plt.figure(figsize=(10, 5))\n",
    "autocorrelation_plot(df_manual['Moving Count'].dropna())\n",
    "plt.title('Manual Mobile Count ACF')\n",
    "plt.xlabel('Temporal lag (Weeks)')\n",
    "# txt = '''Manual moving count autocorrelation values for different lags (each lag period corresponds to roughly 1 week).\n",
    "# The solid and dashed lines correspond to 95th and 99th percentile confidence bands, respectively.\n",
    "# '''\n",
    "# plt.figtext(0.5, 0.01, txt, wrap=True, horizontalalignment='center', fontsize=12)"
   ]
  },
  {
   "cell_type": "code",
   "execution_count": null,
   "metadata": {},
   "outputs": [],
   "source": [
    "df_manual['Moving Count'].dropna().autocorr(3)"
   ]
  },
  {
   "cell_type": "code",
   "execution_count": null,
   "metadata": {},
   "outputs": [],
   "source": [
    "durbin_watson(df_fixed.moving_count_adjusted)"
   ]
  },
  {
   "cell_type": "code",
   "execution_count": null,
   "metadata": {},
   "outputs": [],
   "source": [
    "durbin_watson(df_manual['Fixed Count'].dropna())"
   ]
  },
  {
   "cell_type": "code",
   "execution_count": null,
   "metadata": {},
   "outputs": [],
   "source": []
  },
  {
   "cell_type": "code",
   "execution_count": null,
   "metadata": {},
   "outputs": [],
   "source": []
  },
  {
   "cell_type": "code",
   "execution_count": null,
   "metadata": {},
   "outputs": [],
   "source": [
    "x_values = []\n",
    "y_values = []\n",
    "for i in range(1000):\n",
    "    x_values.append(i)\n",
    "    if i == 0:\n",
    "        y_values.append(0)\n",
    "    elif i == 1:\n",
    "        y_values.append(1)\n",
    "    else:\n",
    "        y = y_values[i-1] + 0.8*(y_values[i-1] - y_values[i-2]) + 1.*random.gauss(0, 1)\n",
    "        y_values.append(y)\n",
    "    \n",
    "\n",
    "\n"
   ]
  },
  {
   "cell_type": "code",
   "execution_count": null,
   "metadata": {},
   "outputs": [],
   "source": [
    "plt.scatter(x_values, y_values)"
   ]
  },
  {
   "cell_type": "code",
   "execution_count": null,
   "metadata": {},
   "outputs": [],
   "source": []
  },
  {
   "cell_type": "code",
   "execution_count": null,
   "metadata": {},
   "outputs": [],
   "source": []
  },
  {
   "cell_type": "code",
   "execution_count": null,
   "metadata": {},
   "outputs": [],
   "source": [
    "plt.figure(figsize=(20, 6))\n",
    "plt.subplot(1,2,1)\n",
    "x = np.arange(0, 50, 0.1)\n",
    "y = np.sin(x)\n",
    "plt.scatter(x, y)\n",
    "\n",
    "plt.subplot(1,2,2)\n",
    "x = np.arange(0, 50, 1.)\n",
    "y = np.sin(x)\n",
    "plt.scatter(x, y)\n",
    "\n",
    "txt = '''Samples captured from f(x) = sin(x). Left plot displays samples at intervals of size 0.1, \n",
    "while the right plot displays samples at intervals of size 1. \n",
    "'''\n",
    "plt.figtext(0.5, -0.07, txt, wrap=True, horizontalalignment='center', fontsize=14)"
   ]
  },
  {
   "cell_type": "code",
   "execution_count": null,
   "metadata": {},
   "outputs": [],
   "source": [
    "x = np.arange(0, 50, 1.)\n",
    "y = np.sin(x)\n",
    "plt.scatter(x, y)"
   ]
  },
  {
   "cell_type": "code",
   "execution_count": null,
   "metadata": {},
   "outputs": [],
   "source": []
  },
  {
   "cell_type": "code",
   "execution_count": null,
   "metadata": {},
   "outputs": [],
   "source": [
    "df_manual['Moving Count'].dropna()"
   ]
  },
  {
   "cell_type": "code",
   "execution_count": null,
   "metadata": {},
   "outputs": [],
   "source": [
    "ttest_ind(df_manual['Moving Count'].dropna().shape[0], df_daily_count[mask], equal_var=False)"
   ]
  },
  {
   "cell_type": "code",
   "execution_count": null,
   "metadata": {},
   "outputs": [],
   "source": [
    "ttest_ind(np.array([10]*9), df_daily_count[mask], equal_var=False)"
   ]
  },
  {
   "cell_type": "code",
   "execution_count": null,
   "metadata": {},
   "outputs": [],
   "source": [
    "from scipy.stats import norm"
   ]
  },
  {
   "cell_type": "code",
   "execution_count": null,
   "metadata": {},
   "outputs": [],
   "source": [
    "df_manual['Moving Count'].dropna()"
   ]
  },
  {
   "cell_type": "code",
   "execution_count": null,
   "metadata": {},
   "outputs": [],
   "source": [
    "for lag in range(1, 8):\n",
    "    ac = acf(df_manual['Moving Count'].dropna())[lag]\n",
    "    print(ac, 1 - norm.cdf(ac * (df_manual['Moving Count'].dropna().shape[0])**.5))"
   ]
  },
  {
   "cell_type": "code",
   "execution_count": null,
   "metadata": {},
   "outputs": [],
   "source": []
  },
  {
   "cell_type": "code",
   "execution_count": null,
   "metadata": {},
   "outputs": [],
   "source": [
    "for lag in [1, 2, 3, 4, 5, 10, 15, 20, 30, 40, 50]:\n",
    "    ac = round(acf(df_fixed['moving_count_adjusted'])[lag], 2)\n",
    "    n = norm.cdf(ac * (df_fixed['moving_count_adjusted'].shape[0])**.5)\n",
    "    p = min(n, 1-n)\n",
    "    disp_p = '%.2E' % Decimal(str(p))\n",
    "    mantissa, exp = disp_p.split('E')\n",
    "    p_str = '{0} \\\\times 10^{1}'.format(mantissa, exp)\n",
    "    print('{} & {} & ${}$ \\\\\\\\'.format(lag, ac, p_str))"
   ]
  },
  {
   "cell_type": "code",
   "execution_count": null,
   "metadata": {},
   "outputs": [],
   "source": [
    "for lag in [1, 2, 3, 4, 5, 6, 7, 8, 9]:\n",
    "    ac = round(acf(df_manual['Moving Count'].dropna())[lag], 2)\n",
    "    n = norm.cdf(ac * (df_manual['Moving Count'].dropna().shape[0])**.5)\n",
    "    p = min(n, 1-n)\n",
    "    disp_p = '%.2E' % Decimal(str(p))\n",
    "    mantissa, exp = disp_p.split('E')\n",
    "    p_str = '{0} \\\\times 10^{1}'.format(mantissa, exp)\n",
    "    print('{} & {} & ${}$ \\\\\\\\'.format(lag, ac, p_str))"
   ]
  },
  {
   "cell_type": "code",
   "execution_count": null,
   "metadata": {},
   "outputs": [],
   "source": []
  },
  {
   "cell_type": "code",
   "execution_count": null,
   "metadata": {},
   "outputs": [],
   "source": []
  },
  {
   "cell_type": "code",
   "execution_count": null,
   "metadata": {},
   "outputs": [],
   "source": []
  },
  {
   "cell_type": "code",
   "execution_count": null,
   "metadata": {},
   "outputs": [],
   "source": []
  },
  {
   "cell_type": "code",
   "execution_count": null,
   "metadata": {},
   "outputs": [],
   "source": []
  },
  {
   "cell_type": "code",
   "execution_count": null,
   "metadata": {},
   "outputs": [],
   "source": []
  },
  {
   "cell_type": "code",
   "execution_count": null,
   "metadata": {},
   "outputs": [],
   "source": [
    "\n"
   ]
  }
 ],
 "metadata": {
  "kernelspec": {
   "display_name": "Python 3",
   "language": "python",
   "name": "python3"
  },
  "language_info": {
   "codemirror_mode": {
    "name": "ipython",
    "version": 3
   },
   "file_extension": ".py",
   "mimetype": "text/x-python",
   "name": "python",
   "nbconvert_exporter": "python",
   "pygments_lexer": "ipython3"
  }
 },
 "nbformat": 4,
 "nbformat_minor": 2
}
