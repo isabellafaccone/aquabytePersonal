{
 "cells": [
  {
   "cell_type": "code",
   "execution_count": null,
   "metadata": {},
   "outputs": [],
   "source": [
    "import json\n",
    "import os\n",
    "import dash\n",
    "import numpy as np\n",
    "import pandas as pd\n",
    "from datetime import datetime, timedelta\n",
    "from aquabyte.data_access_utils import RDSAccessUtils\n",
    "from plotly.subplots import make_subplots\n",
    "\n",
    "\n",
    "import plotly.graph_objects as go"
   ]
  },
  {
   "cell_type": "code",
   "execution_count": null,
   "metadata": {},
   "outputs": [],
   "source": [
    "rds_access_utils = RDSAccessUtils(json.load(open(os.environ['PROD_SQL_CREDENTIALS'])))\n",
    "query = \"\"\"\n",
    "    select * from keypoint_annotations where pen_id=61 and captured_at between '2019-11-27' and '2019-12-01';\n",
    "\"\"\"\n",
    "df = rds_access_utils.extract_from_database(query)\n"
   ]
  },
  {
   "cell_type": "code",
   "execution_count": null,
   "metadata": {},
   "outputs": [],
   "source": [
    "def create_graph(value):\n",
    "    \n",
    "    end_date = datetime.strftime(datetime.strptime(value, '%Y-%m-%d') + timedelta(days=1), '%Y-%m-%d')\n",
    "    filtered_df = df[(df.captured_at > value) & (df.captured_at < end_date)]\n",
    "    \n",
    "    fig = go.Figure({\n",
    "        'data': [{\n",
    "            'x': pd.to_datetime(filtered_df.captured_at),\n",
    "            'y': list(range(filtered_df.shape[0])),\n",
    "            'name': 'Total annotated'\n",
    "        }, {\n",
    "            'x': pd.to_datetime(filtered_df.captured_at),\n",
    "            'y': np.cumsum((filtered_df.is_skipped==False).astype(int)),\n",
    "            'name': 'Total accepted',\n",
    "            'marker': dict(color='rgb(28, 118, 255)')\n",
    "        }, {\n",
    "            'x': pd.to_datetime(filtered_df.captured_at),\n",
    "            'y': np.cumsum((filtered_df.is_skipped==True).astype(int)),\n",
    "            'name': 'Total skipped',\n",
    "            'marker': dict(color='red')\n",
    "        }],\n",
    "        'layout': {\n",
    "            'title': 'Data Progression over Time',\n",
    "            'showlegend': True,\n",
    "            'legend': {\n",
    "                'x': 0,\n",
    "                'y': 1.0\n",
    "            }, \n",
    "            'margin': dict(l=40, r=0, t=40, b=30)\n",
    "        }\n",
    "    })\n",
    "    \n",
    "    fig.show()\n",
    "    "
   ]
  },
  {
   "cell_type": "code",
   "execution_count": null,
   "metadata": {},
   "outputs": [],
   "source": [
    "create_graph('2019-11-27')"
   ]
  },
  {
   "cell_type": "code",
   "execution_count": null,
   "metadata": {},
   "outputs": [],
   "source": []
  },
  {
   "cell_type": "code",
   "execution_count": null,
   "metadata": {},
   "outputs": [],
   "source": [
    "def create_graph(value):\n",
    "    \n",
    "    fig = make_subplots(rows=2, cols=1, vertical_spacing=0.05)\n",
    "    end_date = datetime.strftime(datetime.strptime(value, '%Y-%m-%d') + timedelta(days=1), '%Y-%m-%d')\n",
    "    filtered_df = df[(df.captured_at > value) & (df.captured_at < end_date)]\n",
    "    \n",
    "    fig.add_trace(go.Scatter(\n",
    "        x=pd.to_datetime(filtered_df.captured_at),\n",
    "        y=list(range(filtered_df.shape[0])),\n",
    "        name='Total annotated'\n",
    "    ), row=1, col=1)\n",
    "    \n",
    "    fig.add_trace(go.Scatter(\n",
    "        x=pd.to_datetime(filtered_df.captured_at),\n",
    "        y=np.cumsum((filtered_df.is_skipped==False).astype(int)),\n",
    "        name='Total accepted'\n",
    "    ), row=1, col=1)\n",
    "    \n",
    "    fig.add_trace(go.Scatter(\n",
    "        x=pd.to_datetime(filtered_df.captured_at),\n",
    "        y=np.cumsum((filtered_df.is_skipped==True).astype(int)),\n",
    "        name='Total skipped'\n",
    "    ), row=1, col=1)\n",
    "    \n",
    "    fig.add_trace(go.Scatter(\n",
    "        x=pd.to_datetime(filtered_df.captured_at),\n",
    "        y=list(range(filtered_df.shape[0])),\n",
    "        name='Total annotated'\n",
    "    ), row=2, col=1)\n",
    "    \n",
    "    fig.add_trace(go.Scatter(\n",
    "        x=pd.to_datetime(filtered_df.captured_at),\n",
    "        y=np.cumsum((filtered_df.is_skipped==False).astype(int)),\n",
    "        name='Total accepted'\n",
    "    ), row=2, col=1)\n",
    "    \n",
    "    fig.add_trace(go.Scatter(\n",
    "        x=pd.to_datetime(filtered_df.captured_at),\n",
    "        y=np.cumsum((filtered_df.is_skipped==True).astype(int)),\n",
    "        name='Total skipped'\n",
    "    ), row=2, col=1)\n",
    "    \n",
    "    fig.update_layout(\n",
    "        autosize=False,\n",
    "        width=1000,\n",
    "        height=1000,\n",
    "        margin=go.layout.Margin(\n",
    "            l=50,\n",
    "            r=50,\n",
    "            b=20,\n",
    "            t=20,\n",
    "            pad=4\n",
    "        )\n",
    "    )\n",
    "    \n",
    "    fig.show()\n",
    "    "
   ]
  },
  {
   "cell_type": "code",
   "execution_count": null,
   "metadata": {},
   "outputs": [],
   "source": [
    "create_graph('2019-11-28')"
   ]
  },
  {
   "cell_type": "code",
   "execution_count": null,
   "metadata": {},
   "outputs": [],
   "source": []
  },
  {
   "cell_type": "code",
   "execution_count": null,
   "metadata": {},
   "outputs": [],
   "source": [
    "rds_access_utils = RDSAccessUtils(json.load(open(os.environ['DATA_WAREHOUSE_SQL_CREDENTIALS'])))\n",
    "query = \"\"\"\n",
    "    SELECT * FROM\n",
    "    prod.crop_annotation cas\n",
    "    INNER JOIN prod.annotation_state pas on pas.id=cas.annotation_state_id\n",
    "    WHERE cas.service_id = (SELECT ID FROM prod.service where name='BATI')\n",
    "    AND cas.pen_id=56\n",
    "    AND cas.captured_at between '2020-01-03' and '2020-01-04';\n",
    "\"\"\"\n",
    "df = rds_access_utils.extract_from_database(query)\n"
   ]
  },
  {
   "cell_type": "code",
   "execution_count": null,
   "metadata": {},
   "outputs": [],
   "source": [
    "df.head()"
   ]
  },
  {
   "cell_type": "code",
   "execution_count": null,
   "metadata": {},
   "outputs": [],
   "source": []
  },
  {
   "cell_type": "code",
   "execution_count": null,
   "metadata": {},
   "outputs": [],
   "source": []
  },
  {
   "cell_type": "code",
   "execution_count": null,
   "metadata": {},
   "outputs": [],
   "source": [
    "def create_graph(value):\n",
    "    \n",
    "    fig = make_subplots(rows=2, cols=1, vertical_spacing=0.05)\n",
    "    end_date = datetime.strftime(datetime.strptime(value, '%Y-%m-%d') + timedelta(days=1), '%Y-%m-%d')\n",
    "    filtered_df = df[(df.captured_at > value) & (df.captured_at < end_date)].sort_values('captured_at')\n",
    "    filtered_df.index = pd.to_datetime(filtered_df.captured_at)\n",
    "    \n",
    "    backlog_mask = filtered_df.annotation_state_id == 1\n",
    "    fig.add_trace(go.Scatter(\n",
    "        x=filtered_df[backlog_mask].index,\n",
    "        y=list(range(filtered_df[backlog_mask].shape[0])),\n",
    "        name='Total added to backlog'\n",
    "    ), row=1, col=1)\n",
    "    \n",
    "    annotated_mask = (filtered_df.annotation_state_id == 3) | (filtered_df.annotation_state_id == 4)\n",
    "    fig.add_trace(go.Scatter(\n",
    "        x=filtered_df[annotated_mask].index,\n",
    "        y=list(range(filtered_df[annotated_mask].shape[0])),\n",
    "        name='Total annotated'\n",
    "    ), row=1, col=1)\n",
    "    \n",
    "    accepted_mask = (filtered_df.annotation_state_id == 3)\n",
    "    fig.add_trace(go.Scatter(\n",
    "        x=filtered_df[accepted_mask].index,\n",
    "        y=list(range(filtered_df[accepted_mask].shape[0])),\n",
    "        name='Total accepted'\n",
    "    ), row=1, col=1)\n",
    "    \n",
    "    skipped_mask = (filtered_df.annotation_state_id == 4)\n",
    "    fig.add_trace(go.Scatter(\n",
    "        x=filtered_df[skipped_mask].index,\n",
    "        y=list(range(filtered_df[skipped_mask].shape[0])),\n",
    "        name='Total skipped'\n",
    "    ), row=1, col=1)\n",
    "    \n",
    "    \n",
    "    backlog_mask = filtered_df.annotation_state_id == 1\n",
    "    fig.add_trace(go.Scatter(\n",
    "        x=filtered_df[backlog_mask].index,\n",
    "        y=filtered_df[backlog_mask].annotation_state_id.rolling('0.5H').apply(lambda x: x.shape[0], raw=False),\n",
    "        name='Backlog rate'\n",
    "    ), row=2, col=1)\n",
    "    \n",
    "    annotated_mask = (filtered_df.annotation_state_id == 3) | (filtered_df.annotation_state_id == 4)\n",
    "    fig.add_trace(go.Scatter(\n",
    "        x=filtered_df[annotated_mask].index,\n",
    "        y=filtered_df[annotated_mask].annotation_state_id.rolling('0.5H').apply(lambda x: x.shape[0], raw=False),\n",
    "        name='Annotation rate'\n",
    "    ), row=2, col=1)\n",
    "    \n",
    "    accepted_mask = (filtered_df.annotation_state_id == 3)\n",
    "    fig.add_trace(go.Scatter(\n",
    "        x=filtered_df[accepted_mask].index,\n",
    "        y=filtered_df[accepted_mask].annotation_state_id.rolling('0.5H').apply(lambda x: x.shape[0], raw=False),\n",
    "        name='Accept rate'\n",
    "    ), row=2, col=1)\n",
    "    \n",
    "    skipped_mask = (filtered_df.annotation_state_id == 4)\n",
    "    fig.add_trace(go.Scatter(\n",
    "        x=filtered_df[skipped_mask].index,\n",
    "        y=filtered_df[skipped_mask].annotation_state_id.rolling('0.5H').apply(lambda x: x.shape[0], raw=False),\n",
    "        name='Skip rate'\n",
    "    ), row=2, col=1)\n",
    "    \n",
    "    fig.update_layout(\n",
    "        autosize=False,\n",
    "        width=1000,\n",
    "        height=1000,\n",
    "        margin=go.layout.Margin(\n",
    "            l=50,\n",
    "            r=50,\n",
    "            b=20,\n",
    "            t=20,\n",
    "            pad=4\n",
    "        )\n",
    "    )\n",
    "    \n",
    "    fig.show()\n",
    "    "
   ]
  },
  {
   "cell_type": "code",
   "execution_count": null,
   "metadata": {},
   "outputs": [],
   "source": [
    "df[df.annotation_state_id == 1].shape"
   ]
  },
  {
   "cell_type": "code",
   "execution_count": null,
   "metadata": {},
   "outputs": [],
   "source": [
    "df[df.annotation_state_id == 3].head()"
   ]
  },
  {
   "cell_type": "code",
   "execution_count": null,
   "metadata": {},
   "outputs": [],
   "source": []
  },
  {
   "cell_type": "code",
   "execution_count": null,
   "metadata": {},
   "outputs": [],
   "source": [
    "create_graph('2020-01-03')"
   ]
  },
  {
   "cell_type": "code",
   "execution_count": null,
   "metadata": {},
   "outputs": [],
   "source": [
    "filtered_df = df[(df.captured_at > '2019-11-27') & (df.captured_at < '2019-11-28')]\n",
    "backlog_mask = filtered_df.annotation_state_id == 1\n",
    "filtered_df[backlog_mask].captured_at"
   ]
  },
  {
   "cell_type": "code",
   "execution_count": null,
   "metadata": {},
   "outputs": [],
   "source": [
    "filtered_df.index = pd.to_datetime(filtered_df.captured_at)\n",
    "backlog_mask = filtered_df.annotation_state_id == 1"
   ]
  },
  {
   "cell_type": "code",
   "execution_count": null,
   "metadata": {},
   "outputs": [],
   "source": [
    "in_progress_mask = (filtered_df.annotation_state_id == 2)\n"
   ]
  },
  {
   "cell_type": "code",
   "execution_count": null,
   "metadata": {},
   "outputs": [],
   "source": [
    "plt.hist((filtered_df[in_progress_mask].ts_source_end - filtered_df[in_progress_mask].ts_source_start).dropna())"
   ]
  },
  {
   "cell_type": "code",
   "execution_count": null,
   "metadata": {},
   "outputs": [],
   "source": []
  },
  {
   "cell_type": "code",
   "execution_count": null,
   "metadata": {},
   "outputs": [],
   "source": [
    "plt.figure(figsize=(20, 10))\n",
    "plt.hist((filtered_df[in_progress_mask].ts_source_end - filtered_df[in_progress_mask].ts_source_start) / np.timedelta64(1, 's'), bins=200)\n",
    "plt.show()"
   ]
  },
  {
   "cell_type": "code",
   "execution_count": null,
   "metadata": {},
   "outputs": [],
   "source": [
    "seconds = (filtered_df[in_progress_mask].ts_source_end - filtered_df[in_progress_mask].ts_source_start) / np.timedelta64(1, 's')\n",
    "seconds[seconds < 600].median()"
   ]
  },
  {
   "cell_type": "code",
   "execution_count": null,
   "metadata": {},
   "outputs": [],
   "source": [
    "seconds[seconds < 600].shape, seconds.shape"
   ]
  },
  {
   "cell_type": "code",
   "execution_count": null,
   "metadata": {},
   "outputs": [],
   "source": [
    "accept_df = filtered_df[(filtered_df.annotation_state_id==2) & (filtered_df.left_crop_url.isin(filtered_df[filtered_df.annotation_state_id==4].left_crop_url))]\n",
    "\n",
    "\n"
   ]
  },
  {
   "cell_type": "code",
   "execution_count": null,
   "metadata": {},
   "outputs": [],
   "source": [
    "seconds = (accept_df.ts_source_end - accept_df.ts_source_start) / np.timedelta64(1, 's')\n",
    "seconds[seconds < 600].median()"
   ]
  },
  {
   "cell_type": "code",
   "execution_count": null,
   "metadata": {},
   "outputs": [],
   "source": [
    "df[(df.annotation_state_id==3) | (df.annotation_state_id==4)].annotator_email.unique()"
   ]
  },
  {
   "cell_type": "code",
   "execution_count": null,
   "metadata": {},
   "outputs": [],
   "source": [
    "import plotly"
   ]
  },
  {
   "cell_type": "code",
   "execution_count": null,
   "metadata": {},
   "outputs": [],
   "source": [
    "plotly.__version__"
   ]
  },
  {
   "cell_type": "code",
   "execution_count": null,
   "metadata": {},
   "outputs": [],
   "source": [
    "rds_access_utils = RDSAccessUtils(json.load(open(os.environ['DATA_WAREHOUSE_SQL_CREDENTIALS'])))\n",
    "query = \"\"\"\n",
    "    SELECT * FROM\n",
    "    prod.crop_annotation cas\n",
    "    INNER JOIN prod.annotation_state pas on pas.id=cas.annotation_state_id\n",
    "    WHERE cas.service_id = (SELECT ID FROM prod.service where name='BATI')\n",
    "    AND cas.pen_id=61\n",
    "    AND cas.captured_at between '2019-09-13' and '2019-09-15';\n",
    "\"\"\"\n",
    "df = rds_access_utils.extract_from_database(query)\n"
   ]
  },
  {
   "cell_type": "code",
   "execution_count": null,
   "metadata": {},
   "outputs": [],
   "source": [
    "df.group_id.unique()"
   ]
  },
  {
   "cell_type": "code",
   "execution_count": null,
   "metadata": {},
   "outputs": [],
   "source": []
  },
  {
   "cell_type": "code",
   "execution_count": null,
   "metadata": {},
   "outputs": [],
   "source": []
  },
  {
   "cell_type": "code",
   "execution_count": null,
   "metadata": {},
   "outputs": [],
   "source": []
  }
 ],
 "metadata": {
  "kernelspec": {
   "display_name": "Python 3",
   "language": "python",
   "name": "python3"
  },
  "language_info": {
   "codemirror_mode": {
    "name": "ipython",
    "version": 3
   },
   "file_extension": ".py",
   "mimetype": "text/x-python",
   "name": "python",
   "nbconvert_exporter": "python",
   "pygments_lexer": "ipython3",
   "version": "3.6.5"
  }
 },
 "nbformat": 4,
 "nbformat_minor": 2
}
