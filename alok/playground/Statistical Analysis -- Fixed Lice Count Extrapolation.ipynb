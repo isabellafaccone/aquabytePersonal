{
 "cells": [
  {
   "cell_type": "code",
   "execution_count": null,
   "metadata": {},
   "outputs": [],
   "source": [
    "from matplotlib import pyplot as plt\n",
    "import numpy as np\n",
    "import random\n",
    "import pandas as pd\n",
    "from scipy.stats import norm"
   ]
  },
  {
   "cell_type": "code",
   "execution_count": null,
   "metadata": {},
   "outputs": [],
   "source": []
  },
  {
   "cell_type": "code",
   "execution_count": null,
   "metadata": {},
   "outputs": [],
   "source": [
    "probabilities = np.arange(0.05, 1, 0.01)\n",
    "confidence_level = 0.5\n",
    "accuracy_requirement = 0.9\n",
    "z = norm.ppf((1+confidence_level)/2)"
   ]
  },
  {
   "cell_type": "code",
   "execution_count": null,
   "metadata": {},
   "outputs": [],
   "source": [
    "n_values = []\n",
    "for p in probabilities:\n",
    "    n = (1 - p) / (p * ((1 - accuracy_requirement) / (z))**2)\n",
    "    n_values.append(n)"
   ]
  },
  {
   "cell_type": "code",
   "execution_count": null,
   "metadata": {},
   "outputs": [],
   "source": [
    "plt.figure(figsize=(15, 10))\n",
    "plt.plot(probabilities, n_values)\n",
    "plt.grid()\n",
    "plt.xlabel('Probability of detecting fixed sea lice')\n",
    "plt.ylabel('Number of fish samples required')\n",
    "plt.title('Number of samples required vs. fixed sea lice detection probability')\n",
    "plt.show()"
   ]
  },
  {
   "cell_type": "code",
   "execution_count": null,
   "metadata": {},
   "outputs": [],
   "source": []
  },
  {
   "cell_type": "code",
   "execution_count": null,
   "metadata": {},
   "outputs": [],
   "source": [
    "df = pd.DataFrame()\n",
    "confidence_level = 0.9\n",
    "z = norm.ppf((1+confidence_level)/2)\n",
    "for error_margin in [0.05, 0.1]:\n",
    "    for p in np.arange(0.05, 1.05, 0.05):\n",
    "        for chalimus_II_count in np.arange(0.1, 1.1, 0.1):\n",
    "            accuracy_requirement = (chalimus_II_count - error_margin) / chalimus_II_count\n",
    "            n = int((1 - p) / (p * ((1 - accuracy_requirement) / (z))**2))\n",
    "            row = {\n",
    "                'error_margin': error_margin,\n",
    "                'accuracy_requirement': accuracy_requirement,\n",
    "                'p': p,\n",
    "                'chalimus_II_count': chalimus_II_count,\n",
    "                'minimum_sample_size': n\n",
    "            }\n",
    "            \n",
    "            df = df.append(row, ignore_index=True)\n",
    "        "
   ]
  },
  {
   "cell_type": "code",
   "execution_count": null,
   "metadata": {},
   "outputs": [],
   "source": [
    "mask = df.p == 0.2\n"
   ]
  },
  {
   "cell_type": "code",
   "execution_count": null,
   "metadata": {},
   "outputs": [],
   "source": [
    "df.to_csv('/Users/aloksaxena/Desktop/fixed_sea_lice_analysis.csv')"
   ]
  },
  {
   "cell_type": "code",
   "execution_count": null,
   "metadata": {},
   "outputs": [],
   "source": []
  },
  {
   "cell_type": "code",
   "execution_count": null,
   "metadata": {},
   "outputs": [],
   "source": []
  }
 ],
 "metadata": {
  "kernelspec": {
   "display_name": "Python 3",
   "language": "python",
   "name": "python3"
  },
  "language_info": {
   "codemirror_mode": {
    "name": "ipython",
    "version": 3
   },
   "file_extension": ".py",
   "mimetype": "text/x-python",
   "name": "python",
   "nbconvert_exporter": "python",
   "pygments_lexer": "ipython3",
   "version": "3.7.0"
  }
 },
 "nbformat": 4,
 "nbformat_minor": 2
}
