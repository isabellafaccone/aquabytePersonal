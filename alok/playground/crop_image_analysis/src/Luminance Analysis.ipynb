{
 "cells": [
  {
   "cell_type": "code",
   "execution_count": null,
   "metadata": {},
   "outputs": [],
   "source": [
    "import glob\n",
    "import json\n",
    "import numpy as np\n",
    "import os\n",
    "\n",
    "import boto3\n",
    "from matplotlib import pyplot as plt\n",
    "import pandas as pd\n",
    "from PIL import Image\n",
    "from pycocotools.coco import COCO\n",
    "from skimage.io import imread\n",
    "\n",
    "%matplotlib inline\n",
    "\n",
    "# set pandas options\n",
    "pd.set_option('display.width', 500)\n",
    "pd.set_option('display.max_columns', 500)\n",
    "pd.set_option('display.max_colwidth', 500)\n"
   ]
  },
  {
   "cell_type": "markdown",
   "metadata": {},
   "source": [
    "<h1> Load Crop Analysis Data </h1>"
   ]
  },
  {
   "cell_type": "code",
   "execution_count": null,
   "metadata": {},
   "outputs": [],
   "source": [
    "analysis_df = pd.read_csv('/root/data/alok/crop_data/jan_23_reconciled.csv')\n"
   ]
  },
  {
   "cell_type": "code",
   "execution_count": null,
   "metadata": {},
   "outputs": [],
   "source": [
    "accepted_mask = (analysis_df.created_by == 'gunnar@aquabyte.ai') & (analysis_df.adult_female_count_adjusted >= 0)\n",
    "analysis_df['mean_luminance'] = analysis_df['metadata'].apply(lambda x: json.loads(x)['mean_luminance'])"
   ]
  },
  {
   "cell_type": "code",
   "execution_count": null,
   "metadata": {},
   "outputs": [],
   "source": [
    "plt.hist(analysis_df.ix[accepted_mask, 'mean_luminance'])\n",
    "plt.show()"
   ]
  },
  {
   "cell_type": "code",
   "execution_count": null,
   "metadata": {},
   "outputs": [],
   "source": [
    "analysis_df.ix[accepted_mask, 'mean_luminance'].sort_values(ascending=True)"
   ]
  },
  {
   "cell_type": "code",
   "execution_count": null,
   "metadata": {},
   "outputs": [],
   "source": []
  },
  {
   "cell_type": "code",
   "execution_count": null,
   "metadata": {},
   "outputs": [],
   "source": [
    "analysis_df.shape"
   ]
  },
  {
   "cell_type": "code",
   "execution_count": null,
   "metadata": {},
   "outputs": [],
   "source": [
    "analysis_df[analysis_df.mean_luminance < luminance_threshold].shape"
   ]
  },
  {
   "cell_type": "code",
   "execution_count": null,
   "metadata": {},
   "outputs": [],
   "source": [
    "full_analysis_df = pd.read_csv('/root/data/alok/crop_data/jan_week_cogito_annotations.csv')\n",
    "date_mask = (full_analysis_df.detected_at >= '2019-01-23') & (full_analysis_df.detected_at < '2019-01-24')\n",
    "analysis_df = full_analysis_df[date_mask].copy(deep=True)\n",
    "analysis_df['mean_luminance'] = analysis_df['metadata'].apply(lambda x: json.loads(x)['mean_luminance'])"
   ]
  },
  {
   "cell_type": "code",
   "execution_count": null,
   "metadata": {},
   "outputs": [],
   "source": [
    "luminance_threshold = 20\n",
    "analysis_df[analysis_df.mean_luminance < luminance_threshold].shape[0] / analysis_df.shape[0]"
   ]
  },
  {
   "cell_type": "code",
   "execution_count": null,
   "metadata": {},
   "outputs": [],
   "source": [
    "data = analysis_df.mean_luminance.values\n",
    "plt.figure(figsize=(12, 8))\n",
    "plt.hist(data, weights=np.zeros_like(data) + 1. / data.size)\n",
    "plt.grid()\n",
    "plt.xlabel('Mean Luminance')\n",
    "plt.ylabel('Frequency')\n",
    "plt.title('Luminance Distribution after 2019-01-23 Optics Change')\n",
    "plt.show()"
   ]
  },
  {
   "cell_type": "code",
   "execution_count": null,
   "metadata": {},
   "outputs": [],
   "source": [
    "crop_analysis_df = pd.read_hdf('/root/data/alok/crop_data/analysis_df.h5', 'df')"
   ]
  },
  {
   "cell_type": "code",
   "execution_count": null,
   "metadata": {},
   "outputs": [],
   "source": [
    "data = crop_analysis_df.mean_luminance.values\n",
    "plt.figure(figsize=(12, 8))\n",
    "plt.hist(data, weights=np.zeros_like(data) + 1. / data.size)\n",
    "plt.grid()\n",
    "plt.xlabel('Mean Luminance')\n",
    "plt.ylabel('Frequency')\n",
    "plt.title('Luminance Distribution before 2019-01-23 Optics Change')\n",
    "plt.show()"
   ]
  },
  {
   "cell_type": "code",
   "execution_count": null,
   "metadata": {},
   "outputs": [],
   "source": []
  },
  {
   "cell_type": "code",
   "execution_count": null,
   "metadata": {},
   "outputs": [],
   "source": []
  },
  {
   "cell_type": "code",
   "execution_count": null,
   "metadata": {},
   "outputs": [],
   "source": []
  }
 ],
 "metadata": {
  "kernelspec": {
   "display_name": "Python 3",
   "language": "python",
   "name": "python3"
  },
  "language_info": {
   "codemirror_mode": {
    "name": "ipython",
    "version": 3
   },
   "file_extension": ".py",
   "mimetype": "text/x-python",
   "name": "python",
   "nbconvert_exporter": "python",
   "pygments_lexer": "ipython3",
   "version": "3.5.2"
  }
 },
 "nbformat": 4,
 "nbformat_minor": 2
}
