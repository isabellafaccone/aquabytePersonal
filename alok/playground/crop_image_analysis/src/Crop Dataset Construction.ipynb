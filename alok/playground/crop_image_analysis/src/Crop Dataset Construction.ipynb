{
 "cells": [
  {
   "cell_type": "code",
   "execution_count": null,
   "metadata": {},
   "outputs": [],
   "source": [
    "import glob\n",
    "import json\n",
    "import numpy as np\n",
    "import os\n",
    "\n",
    "import boto3\n",
    "from matplotlib import pyplot as plt\n",
    "import pandas as pd\n",
    "from PIL import Image\n",
    "from pycocotools.coco import COCO\n",
    "from skimage.io import imread\n",
    "\n",
    "%matplotlib inline\n",
    "\n",
    "# set pandas options\n",
    "pd.set_option('display.width', 500)\n",
    "pd.set_option('display.max_columns', 500)\n",
    "pd.set_option('display.max_colwidth', 500)\n"
   ]
  },
  {
   "cell_type": "markdown",
   "metadata": {},
   "source": [
    "<h1> Load raw database dump </h1>"
   ]
  },
  {
   "cell_type": "code",
   "execution_count": null,
   "metadata": {},
   "outputs": [],
   "source": [
    "# historical_annotations_df = pd.read_csv('/root/data/alok/crop_data/jan_week_cogito_annotations.csv')\n",
    "historical_reconciled_annotations_df = pd.read_csv('/root/data/alok/crop_data/jan_23_reconciled.csv')"
   ]
  },
  {
   "cell_type": "code",
   "execution_count": null,
   "metadata": {},
   "outputs": [],
   "source": [
    "aws_credentials = json.load(open(os.environ['AWS_CREDENTIALS']))\n",
    "s3_client = boto3.client(\n",
    "    's3',\n",
    "    aws_access_key_id=aws_credentials['aws_access_key_id'],\n",
    "    aws_secret_access_key=aws_credentials['aws_secret_access_key']\n",
    ")\n"
   ]
  },
  {
   "cell_type": "code",
   "execution_count": null,
   "metadata": {},
   "outputs": [],
   "source": [
    "historical_reconciled_annotations_df.shape"
   ]
  },
  {
   "cell_type": "code",
   "execution_count": null,
   "metadata": {},
   "outputs": [],
   "source": []
  },
  {
   "cell_type": "markdown",
   "metadata": {},
   "source": [
    "<h1> Dataset Construction - Write crops, images, and metadata to disk </h1>"
   ]
  },
  {
   "cell_type": "code",
   "execution_count": null,
   "metadata": {},
   "outputs": [],
   "source": [
    "def extract_sample_from_dataset(df, N, crop_bucket, crop_dir, image_bucket, image_dir, metadata_dir):\n",
    "    i = 0\n",
    "    for idx, row in df.sample(N).iterrows():\n",
    "        # write crop to disk\n",
    "        crop_key = row.image_key\n",
    "        crop_f_name = os.path.basename(crop_key)\n",
    "        crop_f = os.path.join(crop_dir, crop_f_name)\n",
    "        if not os.path.exists(crop_f):\n",
    "            s3_client.download_file(crop_bucket, crop_key, crop_f)\n",
    "\n",
    "        # write image to disk\n",
    "        image_f_name = '_'.join(os.path.basename(crop_key).split('_')[:-4]) + '.jpg'\n",
    "        image_key = os.path.join(os.path.dirname(crop_key), image_f_name)\n",
    "        image_f = os.path.join(image_dir, image_f_name)\n",
    "        if not os.path.exists(image_f):\n",
    "            s3_client.download_file(image_bucket, image_key, image_f)\n",
    "\n",
    "        # write metadata to disk\n",
    "        metadata = dict(row)\n",
    "        metadata_f_name = crop_f_name.replace('.jpg', '.json')\n",
    "        metadata_f = os.path.join(metadata_dir, metadata_f_name)\n",
    "        if not os.path.exists(metadata_f):\n",
    "            with open(metadata_f, 'w') as f:\n",
    "                json.dump(metadata, f)    \n",
    "        \n",
    "        if i % 10 == 0:\n",
    "            print(i)\n",
    "        i += 1\n"
   ]
  },
  {
   "cell_type": "code",
   "execution_count": null,
   "metadata": {},
   "outputs": [],
   "source": [
    "# define the number of images that we would like to randomly select from either dataset\n",
    "N = 146\n",
    "\n",
    "# begin with dataset construction corresponding to full, valid fish\n",
    "\n",
    "crop_bucket = 'aquabyte-crops'\n",
    "crop_dir = '/root/data/alok/crop_data/crops/'\n",
    "image_bucket = 'aquabyte-images-raw'\n",
    "image_dir = '/root/data/alok/crop_data/images/'\n",
    "metadata_dir = '/root/data/alok/crop_data/crop_metadata/'"
   ]
  },
  {
   "cell_type": "code",
   "execution_count": null,
   "metadata": {},
   "outputs": [],
   "source": [
    "\n",
    "\n",
    "# extract_sample_from_dataset(\n",
    "#     rdf, \n",
    "#     10, \n",
    "#     crop_bucket, \n",
    "#     crop_dir, \n",
    "#     image_bucket, \n",
    "#     image_dir, \n",
    "#     metadata_dir\n",
    "# )\n",
    "\n",
    "\n",
    "extract_sample_from_dataset(\n",
    "    historical_reconciled_annotations_df, \n",
    "    N, \n",
    "    crop_bucket, \n",
    "    crop_dir, \n",
    "    image_bucket, \n",
    "    image_dir, \n",
    "    metadata_dir\n",
    ")\n",
    "\n",
    "# extract_sample_from_dataset(\n",
    "#     historical_annotations_df, \n",
    "#     N, \n",
    "#     crop_bucket, \n",
    "#     crop_dir, \n",
    "#     image_bucket, \n",
    "#     image_dir, \n",
    "#     metadata_dir\n",
    "# )\n",
    "\n"
   ]
  },
  {
   "cell_type": "code",
   "execution_count": null,
   "metadata": {},
   "outputs": [],
   "source": []
  },
  {
   "cell_type": "markdown",
   "metadata": {},
   "source": [
    "<h1> Extract luminance information </h1>"
   ]
  },
  {
   "cell_type": "code",
   "execution_count": null,
   "metadata": {},
   "outputs": [],
   "source": []
  },
  {
   "cell_type": "code",
   "execution_count": null,
   "metadata": {},
   "outputs": [],
   "source": [
    "coco = COCO()\n",
    "coco.imgs = [\n",
    "    {\n",
    "        'height': 3000,\n",
    "        'width': 4096\n",
    "    }\n",
    "]"
   ]
  },
  {
   "cell_type": "code",
   "execution_count": null,
   "metadata": {},
   "outputs": [],
   "source": [
    "crop_fs = glob.glob(os.path.join(crop_dir, '*.jpg'))\n",
    "metadata_fs = glob.glob(os.path.join(metadata_dir, '*.json'))"
   ]
  },
  {
   "cell_type": "code",
   "execution_count": null,
   "metadata": {},
   "outputs": [],
   "source": [
    "# analysis_df = pd.DataFrame()\n",
    "analysis_df_path, key = '/root/data/alok/crop_data/analysis_df.h5', 'df'\n",
    "analysis_df = pd.read_hdf(analysis_df_path, key)\n",
    "\n",
    "i = 0\n",
    "for crop_f, metadata_f in zip(sorted(crop_fs), sorted(metadata_fs)):\n",
    "    if crop_f in analysis_df.crop_path.tolist():\n",
    "        continue\n",
    "    assert os.path.basename(crop_f).replace('.jpg', '') == os.path.basename(metadata_f).replace('.json', ''), 'Mismatch!'\n",
    "\n",
    "    metadata = json.load(open(metadata_f))\n",
    "    # get luminance value\n",
    "\n",
    "    image_f_name = '_'.join(os.path.basename(crop_f).split('_')[:-4]) + '.jpg'\n",
    "    image_f = os.path.join(image_dir, image_f_name)\n",
    "    im = Image.open(image_f).convert('L')\n",
    "    ann = {\n",
    "        'image_id': 0,\n",
    "        'segmentation': json.loads(metadata['segmentation'])['segmentation']\n",
    "    }\n",
    "    mask = coco.annToMask(ann)\n",
    "    mean_luminance = np.mean(np.array(im)[np.where(mask > 0)])\n",
    "\n",
    "    metadata['image_path'] = image_f\n",
    "    metadata['crop_path'] = crop_f\n",
    "    metadata['mean_luminance'] = mean_luminance\n",
    "    row = metadata\n",
    "    \n",
    "    analysis_df = analysis_df.append(row, ignore_index=True)\n",
    "    \n",
    "    if i % 10 == 0:\n",
    "        print(i)\n",
    "    i += 1\n",
    "    \n",
    "    \n",
    "    \n",
    "        "
   ]
  },
  {
   "cell_type": "code",
   "execution_count": null,
   "metadata": {},
   "outputs": [],
   "source": [
    "analysis_df['aspect_ratio'] = analysis_df.image_width_px / analysis_df.image_height_px"
   ]
  },
  {
   "cell_type": "code",
   "execution_count": null,
   "metadata": {},
   "outputs": [],
   "source": [
    "analysis_df.to_hdf('/root/data/alok/crop_data/analysis_df.h5', 'df')"
   ]
  },
  {
   "cell_type": "code",
   "execution_count": null,
   "metadata": {},
   "outputs": [],
   "source": []
  },
  {
   "cell_type": "code",
   "execution_count": null,
   "metadata": {},
   "outputs": [],
   "source": []
  },
  {
   "cell_type": "code",
   "execution_count": null,
   "metadata": {},
   "outputs": [],
   "source": [
    "mask = (analysis_df.is_skipped == False) & (analysis_df.created_by == 'gunnar@aquabyte.ai')\n",
    "analysis_df[mask].sort_values('mean_luminance', ascending=True)\n",
    "\n",
    "\n",
    "\n"
   ]
  },
  {
   "cell_type": "code",
   "execution_count": null,
   "metadata": {},
   "outputs": [],
   "source": [
    "analysis_df.to_hdf('/root/data/alok/crop_data/analysis_df.h5', 'df')"
   ]
  },
  {
   "cell_type": "code",
   "execution_count": null,
   "metadata": {},
   "outputs": [],
   "source": [
    "analysis_df.sort_values('aspect_ratio', ascending=True)"
   ]
  },
  {
   "cell_type": "code",
   "execution_count": null,
   "metadata": {},
   "outputs": [],
   "source": []
  },
  {
   "cell_type": "code",
   "execution_count": null,
   "metadata": {},
   "outputs": [],
   "source": []
  },
  {
   "cell_type": "code",
   "execution_count": null,
   "metadata": {},
   "outputs": [],
   "source": []
  },
  {
   "cell_type": "code",
   "execution_count": null,
   "metadata": {},
   "outputs": [],
   "source": [
    "i = 328\n",
    "image_f = analysis_df[mask].sort_values('mean_luminance', ascending=False).image_path.iloc[i]\n",
    "im = Image.open(image_f).convert('L')\n",
    "ann = {\n",
    "    'image_id': 0,\n",
    "    'segmentation': json.loads(analysis_df[mask].sort_values('mean_luminance', ascending=False).segmentation.iloc[i])['segmentation']\n",
    "}\n",
    "m = coco.annToMask(ann)\n",
    "\n"
   ]
  },
  {
   "cell_type": "code",
   "execution_count": null,
   "metadata": {},
   "outputs": [],
   "source": [
    "historical_reconciled_annotations_df"
   ]
  },
  {
   "cell_type": "code",
   "execution_count": null,
   "metadata": {},
   "outputs": [],
   "source": [
    "Image.fromarray(np.array(im) * m)"
   ]
  },
  {
   "cell_type": "code",
   "execution_count": null,
   "metadata": {},
   "outputs": [],
   "source": []
  },
  {
   "cell_type": "code",
   "execution_count": null,
   "metadata": {},
   "outputs": [],
   "source": []
  },
  {
   "cell_type": "code",
   "execution_count": null,
   "metadata": {},
   "outputs": [],
   "source": []
  },
  {
   "cell_type": "code",
   "execution_count": null,
   "metadata": {},
   "outputs": [],
   "source": []
  },
  {
   "cell_type": "code",
   "execution_count": null,
   "metadata": {},
   "outputs": [],
   "source": []
  }
 ],
 "metadata": {
  "kernelspec": {
   "display_name": "Python 3",
   "language": "python",
   "name": "python3"
  },
  "language_info": {
   "codemirror_mode": {
    "name": "ipython",
    "version": 3
   },
   "file_extension": ".py",
   "mimetype": "text/x-python",
   "name": "python",
   "nbconvert_exporter": "python",
   "pygments_lexer": "ipython3",
   "version": "3.5.2"
  }
 },
 "nbformat": 4,
 "nbformat_minor": 2
}
