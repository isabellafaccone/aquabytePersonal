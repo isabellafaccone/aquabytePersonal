{
 "cells": [
  {
   "cell_type": "code",
   "execution_count": null,
   "metadata": {},
   "outputs": [],
   "source": [
    "import json\n",
    "import os\n",
    "from research.utils.data_access_utils import RDSAccessUtils\n",
    "from research.weight_estimation.keypoint_utils.optics import pixel2world\n",
    "import numpy as np\n",
    "import pandas as pd\n",
    "from matplotlib import pyplot as plt\n",
    "\n",
    "pd.set_option('display.max_rows', 500)\n",
    "pd.set_option('display.max_colwidth', 500)"
   ]
  },
  {
   "cell_type": "code",
   "execution_count": null,
   "metadata": {},
   "outputs": [],
   "source": []
  },
  {
   "cell_type": "code",
   "execution_count": null,
   "metadata": {},
   "outputs": [],
   "source": [
    "rds = RDSAccessUtils(json.load(open(os.environ['DATA_WAREHOUSE_SQL_CREDENTIALS'])))"
   ]
  },
  {
   "cell_type": "code",
   "execution_count": null,
   "metadata": {},
   "outputs": [],
   "source": [
    "query = \"\"\"\n",
    "    select *\n",
    "    from prod.biomass_computations\n",
    "    where pen_id=88\n",
    "    and captured_at between '2020-02-20' and '2020-03-01'\n",
    "    and akpd_score > 0.99;\n",
    "\"\"\""
   ]
  },
  {
   "cell_type": "code",
   "execution_count": null,
   "metadata": {},
   "outputs": [],
   "source": [
    "df = rds.extract_from_database(query)"
   ]
  },
  {
   "cell_type": "code",
   "execution_count": null,
   "metadata": {},
   "outputs": [],
   "source": [
    "body_lengths = []\n",
    "head_lengths = []\n",
    "body_heights = []\n",
    "anal_heights = []\n",
    "\n",
    "count = 0\n",
    "for idx, row in df.iterrows():\n",
    "    if count % 1000 == 0:\n",
    "        print(count / df.shape[0])\n",
    "    count += 1\n",
    "    ann = row.annotation\n",
    "    cm = row.camera_metadata\n",
    "    if ann and ann.get('leftCrop') and ann.get('rightCrop'):\n",
    "        world_coordinates = pixel2world(ann['leftCrop'], ann['rightCrop'], cm)\n",
    "        body_length = np.linalg.norm(world_coordinates['UPPER_LIP'] - world_coordinates['TAIL_NOTCH'])\n",
    "        head_length = np.linalg.norm(world_coordinates['UPPER_LIP'] - world_coordinates['PECTORAL_FIN'])\n",
    "        anal_height = np.linalg.norm(world_coordinates['ADIPOSE_FIN'] - world_coordinates['ANAL_FIN'])\n",
    "        body_height = np.linalg.norm(world_coordinates['DORSAL_FIN'] - world_coordinates['PELVIC_FIN'])\n",
    "\n",
    "        body_lengths.append(body_length)\n",
    "        head_lengths.append(head_length)\n",
    "        anal_heights.append(anal_height)\n",
    "        body_heights.append(body_height)\n",
    "    else:\n",
    "        body_lengths.append(None)\n",
    "        head_lengths.append(None)\n",
    "        anal_heights.append(None)\n",
    "        body_heights.append(None)\n",
    "    \n",
    "df['body_length'] = body_lengths\n",
    "df['head_length'] = head_lengths\n",
    "df['anal_height'] = anal_heights\n",
    "df['body_height'] = body_heights\n",
    "    \n",
    "    \n"
   ]
  },
  {
   "cell_type": "code",
   "execution_count": null,
   "metadata": {},
   "outputs": [],
   "source": []
  },
  {
   "cell_type": "code",
   "execution_count": null,
   "metadata": {},
   "outputs": [],
   "source": [
    "df['body_ratio'] = df.head_length / df.body_length\n",
    "df['height_ratio'] = df.anal_height / df.body_height\n",
    "df['mean_ratio'] = 0.5 * (df.body_ratio + df.height_ratio)"
   ]
  },
  {
   "cell_type": "code",
   "execution_count": null,
   "metadata": {},
   "outputs": [],
   "source": [
    "mask = df.body_ratio < 0.3\n",
    "for idx, row in df.ix[mask, ['left_crop_url', 'mean_ratio']].sort_values('mean_ratio', ascending=False).head(100).iterrows():\n",
    "    print(row.left_crop_url)"
   ]
  },
  {
   "cell_type": "code",
   "execution_count": null,
   "metadata": {},
   "outputs": [],
   "source": []
  },
  {
   "cell_type": "code",
   "execution_count": null,
   "metadata": {},
   "outputs": [],
   "source": [
    "plt.figure(figsize=(20, 10))\n",
    "plt.hist(df.body_ratio, bins=100)\n",
    "plt.grid()\n",
    "plt.show()"
   ]
  },
  {
   "cell_type": "code",
   "execution_count": null,
   "metadata": {},
   "outputs": [],
   "source": []
  },
  {
   "cell_type": "code",
   "execution_count": null,
   "metadata": {},
   "outputs": [],
   "source": []
  },
  {
   "cell_type": "code",
   "execution_count": null,
   "metadata": {},
   "outputs": [],
   "source": []
  },
  {
   "cell_type": "code",
   "execution_count": null,
   "metadata": {},
   "outputs": [],
   "source": []
  }
 ],
 "metadata": {
  "kernelspec": {
   "display_name": "Python 3",
   "language": "python",
   "name": "python3"
  },
  "language_info": {
   "codemirror_mode": {
    "name": "ipython",
    "version": 3
   },
   "file_extension": ".py",
   "mimetype": "text/x-python",
   "name": "python",
   "nbconvert_exporter": "python",
   "pygments_lexer": "ipython3",
   "version": "3.6.5"
  }
 },
 "nbformat": 4,
 "nbformat_minor": 2
}
