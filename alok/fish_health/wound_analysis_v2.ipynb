{
 "cells": [
  {
   "cell_type": "code",
   "execution_count": null,
   "metadata": {},
   "outputs": [],
   "source": [
    "from collections import defaultdict\n",
    "import json\n",
    "import os\n",
    "from matplotlib import pyplot as plt\n",
    "import numpy as np\n",
    "import pandas as pd\n",
    "\n",
    "from research.utils.data_access_utils import RDSAccessUtils"
   ]
  },
  {
   "cell_type": "code",
   "execution_count": null,
   "metadata": {},
   "outputs": [],
   "source": [
    "rds = RDSAccessUtils(json.load(open(os.environ['PROD_RESEARCH_SQL_CREDENTIALS'])))"
   ]
  },
  {
   "cell_type": "code",
   "execution_count": null,
   "metadata": {},
   "outputs": [],
   "source": [
    "query = \"\"\"\n",
    "    select *\n",
    "    from annotations\n",
    "    where annotated_by_email not in ('jane@aquabyte.ai', 'alok@aquabyte.ai', 'reina@aquabyte.ai')\n",
    "    and group_id like 'plali-test'\n",
    "    and created_at > '2020-08-01 08:00:00'\n",
    "    and is_qa=TRUE;\n",
    "\"\"\"\n",
    "\n",
    "df = rds.extract_from_database(query)"
   ]
  },
  {
   "cell_type": "code",
   "execution_count": null,
   "metadata": {},
   "outputs": [],
   "source": [
    "df = df.drop(0)"
   ]
  },
  {
   "cell_type": "code",
   "execution_count": null,
   "metadata": {},
   "outputs": [],
   "source": [
    "url = df.left_image_url.iloc[0]\n",
    "df['date'] = df.left_image_url.apply(lambda x: x.split('/')[6][5:])\n"
   ]
  },
  {
   "cell_type": "markdown",
   "metadata": {},
   "source": [
    "<h1> Publish basic stats </h1>"
   ]
  },
  {
   "cell_type": "code",
   "execution_count": null,
   "metadata": {},
   "outputs": [],
   "source": [
    "# how many wounds per fish are there?\n"
   ]
  },
  {
   "cell_type": "code",
   "execution_count": null,
   "metadata": {},
   "outputs": [],
   "source": [
    "wound_data = defaultdict(list)\n",
    "for idx, row in df.iterrows():\n",
    "    ann = row.annotation\n",
    "    if ann.get('leftCrop'):\n",
    "        for item in ann['leftCrop']['lice']:\n",
    "            wound_data['fish_type'].append('full' if 'full' in item['label'] else 'partial')\n",
    "            wound_data['wound_type'].append('winter' if 'winter' in item['label'] else 'other')\n",
    "            wound_data['width'].append(item['width'])\n",
    "            wound_data['height'].append(item['height'])\n",
    "            wound_data['url'].append(row.left_image_url)\n",
    "            wound_data['date'].append(row.date)"
   ]
  },
  {
   "cell_type": "code",
   "execution_count": null,
   "metadata": {},
   "outputs": [],
   "source": []
  },
  {
   "cell_type": "code",
   "execution_count": null,
   "metadata": {},
   "outputs": [],
   "source": []
  },
  {
   "cell_type": "code",
   "execution_count": null,
   "metadata": {},
   "outputs": [],
   "source": [
    "wound_df = pd.DataFrame(wound_data)"
   ]
  },
  {
   "cell_type": "code",
   "execution_count": null,
   "metadata": {},
   "outputs": [],
   "source": [
    "dates = sorted(list(df.date.unique()))\n",
    "widths = np.arange(0, 100, 20)\n",
    "winter_mask = wound_df.wound_type == 'winter'\n",
    "mean_counts_by_width = defaultdict(list)\n",
    "pcts_by_width = defaultdict(list)\n",
    "sample_sizes = []\n",
    "for date in dates:\n",
    "    sample_sizes.append(df[df.date == date].shape[0])\n",
    "    for width in widths:\n",
    "        mean_count = wound_df[(wound_df.date == date) & (wound_df.width > width) & winter_mask].shape[0] / df[df.date == date].shape[0]\n",
    "        mean_counts_by_width[width].append(mean_count)\n",
    "        pct = len(wound_df[(wound_df.date == date) & (wound_df.width > width) & winter_mask].url.unique()) / df[df.date == date].shape[0]\n",
    "        pcts_by_width[width].append(pct)\n",
    "    "
   ]
  },
  {
   "cell_type": "code",
   "execution_count": null,
   "metadata": {},
   "outputs": [],
   "source": []
  },
  {
   "cell_type": "code",
   "execution_count": null,
   "metadata": {},
   "outputs": [],
   "source": [
    "fig, axes = plt.subplots(3, 1, figsize=(10, 13))\n",
    "\n",
    "for width in [0]:\n",
    "    axes[0].plot(dates, sample_sizes)\n",
    "    axes[1].plot(dates, mean_counts_by_width[width], label='width > {} pixels'.format(width))\n",
    "    axes[2].plot(dates, 100 * np.array(pcts_by_width[width]), label='width > {} pixels'.format(width))\n",
    "    \n",
    "\n",
    "axes[0].set_ylim([0, 120])\n",
    "axes[0].grid()\n",
    "axes[0].legend()\n",
    "axes[0].set_title('Daily Sample Size')\n",
    "\n",
    "axes[1].set_ylim([0, 0.5])\n",
    "axes[1].grid()\n",
    "axes[1].legend()\n",
    "axes[1].set_title('Daily Winter Wounds per fish')\n",
    "\n",
    "axes[2].set_ylim([0, 25])\n",
    "axes[2].grid()\n",
    "axes[2].legend()\n",
    "axes[2].set_xlabel('Date')\n",
    "axes[2].set_ylabel('% of fish with winter wounds')\n",
    "\n",
    "axes[2].set_title('Daily Percentage (%) of fish with winter wounds')\n",
    "    \n",
    "plt.show()"
   ]
  },
  {
   "cell_type": "code",
   "execution_count": null,
   "metadata": {},
   "outputs": [],
   "source": []
  },
  {
   "cell_type": "code",
   "execution_count": null,
   "metadata": {},
   "outputs": [],
   "source": []
  },
  {
   "cell_type": "code",
   "execution_count": null,
   "metadata": {},
   "outputs": [],
   "source": [
    "wound_df[wound_df.type == 'partial'].shape[0] / wound_df.shape[0]"
   ]
  },
  {
   "cell_type": "code",
   "execution_count": null,
   "metadata": {},
   "outputs": [],
   "source": []
  },
  {
   "cell_type": "code",
   "execution_count": null,
   "metadata": {},
   "outputs": [],
   "source": [
    "sample_sizes"
   ]
  },
  {
   "cell_type": "code",
   "execution_count": null,
   "metadata": {},
   "outputs": [],
   "source": [
    "mean_counts_by_width"
   ]
  },
  {
   "cell_type": "code",
   "execution_count": null,
   "metadata": {},
   "outputs": [],
   "source": []
  },
  {
   "cell_type": "code",
   "execution_count": null,
   "metadata": {},
   "outputs": [],
   "source": [
    "plt.figure(figsize=(20, 10))\n",
    "plt.hist(wound_df.width.values, bins=100)\n",
    "plt.grid()\n",
    "plt.show()"
   ]
  },
  {
   "cell_type": "code",
   "execution_count": null,
   "metadata": {},
   "outputs": [],
   "source": []
  },
  {
   "cell_type": "code",
   "execution_count": null,
   "metadata": {},
   "outputs": [],
   "source": []
  },
  {
   "cell_type": "code",
   "execution_count": null,
   "metadata": {},
   "outputs": [],
   "source": []
  },
  {
   "cell_type": "code",
   "execution_count": null,
   "metadata": {},
   "outputs": [],
   "source": []
  },
  {
   "cell_type": "code",
   "execution_count": null,
   "metadata": {},
   "outputs": [],
   "source": [
    "df.to_csv('/root/data/alok/biomass_estimation/playground/qa_wound_data.csv')"
   ]
  },
  {
   "cell_type": "code",
   "execution_count": null,
   "metadata": {},
   "outputs": [],
   "source": []
  },
  {
   "cell_type": "code",
   "execution_count": null,
   "metadata": {},
   "outputs": [],
   "source": []
  },
  {
   "cell_type": "code",
   "execution_count": null,
   "metadata": {},
   "outputs": [],
   "source": []
  }
 ],
 "metadata": {
  "kernelspec": {
   "display_name": "Python 3",
   "language": "python",
   "name": "python3"
  },
  "language_info": {
   "codemirror_mode": {
    "name": "ipython",
    "version": 3
   },
   "file_extension": ".py",
   "mimetype": "text/x-python",
   "name": "python",
   "nbconvert_exporter": "python",
   "pygments_lexer": "ipython3",
   "version": "3.6.5"
  }
 },
 "nbformat": 4,
 "nbformat_minor": 2
}
