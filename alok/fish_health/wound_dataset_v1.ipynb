{
 "cells": [
  {
   "cell_type": "code",
   "execution_count": null,
   "metadata": {},
   "outputs": [],
   "source": [
    "import json\n",
    "import random\n",
    "import os\n",
    "import pandas as pd\n",
    "from research.utils.data_access_utils import RDSAccessUtils\n",
    "\n",
    "rds = RDSAccessUtils(json.load(open(os.environ['DATA_WAREHOUSE_SQL_CREDENTIALS'])))"
   ]
  },
  {
   "cell_type": "code",
   "execution_count": null,
   "metadata": {},
   "outputs": [],
   "source": []
  },
  {
   "cell_type": "code",
   "execution_count": null,
   "metadata": {},
   "outputs": [],
   "source": [
    "def generate_df(pen_id, start_date, end_date):\n",
    "    query = \"\"\"\n",
    "        select cast(captured_at as date) as date, * from prod.crop_annotation\n",
    "        where pen_id={} and group_id='{}' and captured_at between '{}' and '{}'\n",
    "        and service_id=1\n",
    "        and annotation_state_id=1\n",
    "        and left_crop_url is not null;\n",
    "    \"\"\".format(pen_id, pen_id, start_date, end_date)\n",
    "    print(query)\n",
    "    df = rds.extract_from_database(query)\n",
    "    return df\n",
    "    "
   ]
  },
  {
   "cell_type": "code",
   "execution_count": null,
   "metadata": {},
   "outputs": [],
   "source": []
  },
  {
   "cell_type": "code",
   "execution_count": null,
   "metadata": {},
   "outputs": [],
   "source": []
  },
  {
   "cell_type": "code",
   "execution_count": null,
   "metadata": {},
   "outputs": [],
   "source": []
  },
  {
   "cell_type": "code",
   "execution_count": null,
   "metadata": {},
   "outputs": [],
   "source": [
    "pen_ids = [88]\n",
    "start_date = '2020-02-25'\n",
    "end_date = '2020-03-05'\n",
    "max_images_per_day = 5000"
   ]
  },
  {
   "cell_type": "code",
   "execution_count": null,
   "metadata": {},
   "outputs": [],
   "source": [
    "for pen_id in pen_ids:\n",
    "    df = generate_df(pen_id, start_date, end_date)\n",
    "    day_dfs = []\n",
    "    for date in df.date.unique():\n",
    "        mask = df.date == date\n",
    "        day_dfs.append(df[mask].sample(min(max_images_per_day, mask.sum())))\n",
    "    \n",
    "    \n",
    "    \n",
    "    \n",
    "    "
   ]
  },
  {
   "cell_type": "code",
   "execution_count": null,
   "metadata": {},
   "outputs": [],
   "source": [
    "aggregate_df = pd.concat(day_dfs)"
   ]
  },
  {
   "cell_type": "code",
   "execution_count": null,
   "metadata": {},
   "outputs": [],
   "source": []
  },
  {
   "cell_type": "code",
   "execution_count": null,
   "metadata": {},
   "outputs": [],
   "source": []
  },
  {
   "cell_type": "code",
   "execution_count": null,
   "metadata": {},
   "outputs": [],
   "source": []
  },
  {
   "cell_type": "code",
   "execution_count": null,
   "metadata": {},
   "outputs": [],
   "source": [
    "json_blobs = []\n",
    "for idx, row in aggregate_df.iterrows():\n",
    "    image_url = row.url_key\n",
    "    json_blob = dict(\n",
    "        penId=str(row.pen_id),\n",
    "        siteId='0',\n",
    "        groupId='zoom-experiment',\n",
    "        imageScore=0.5,\n",
    "        capturedAt=str(row.captured_at),\n",
    "        key=os.path.join(row.base_key, os.path.basename(row.url_key)),\n",
    "        leftCropUrl=row.left_crop_url,\n",
    "        rightCropUrl=None,\n",
    "        leftCropMetadata=row.left_crop_metadata,\n",
    "        rightCropMetadata=row.right_crop_metadata,\n",
    "        cameraMetadata=row.camera_metadata\n",
    "    )\n",
    "    json_blobs.append(json_blob)"
   ]
  },
  {
   "cell_type": "code",
   "execution_count": null,
   "metadata": {},
   "outputs": [],
   "source": [
    "random.shuffle(json_blobs)"
   ]
  },
  {
   "cell_type": "code",
   "execution_count": null,
   "metadata": {},
   "outputs": [],
   "source": [
    "len(json_blobs)"
   ]
  },
  {
   "cell_type": "code",
   "execution_count": null,
   "metadata": {},
   "outputs": [],
   "source": [
    "out_f = '/root/data/alok/biomass_estimation/playground/wound_ann_test.jsonl'\n",
    "with open(out_f, 'w') as outfile:\n",
    "    for entry in json_blobs[:5]:\n",
    "        json.dump(entry, outfile)\n",
    "        outfile.write('\\n')"
   ]
  },
  {
   "cell_type": "code",
   "execution_count": null,
   "metadata": {},
   "outputs": [],
   "source": []
  },
  {
   "cell_type": "code",
   "execution_count": null,
   "metadata": {},
   "outputs": [],
   "source": [
    "for i in range(10):\n",
    "    start_idx = 5000 * i\n",
    "    end_idx = 5000 * (i + 1)\n",
    "    \n",
    "    out_f = '/root/data/alok/biomass_estimation/playground/maturation_ann_{}.jsonl'.format(i)\n",
    "    with open(out_f, 'w') as outfile:\n",
    "        for entry in json_blobs[start_idx:end_idx]:\n",
    "            json.dump(entry, outfile)\n",
    "            outfile.write('\\n')"
   ]
  },
  {
   "cell_type": "code",
   "execution_count": null,
   "metadata": {},
   "outputs": [],
   "source": []
  },
  {
   "cell_type": "code",
   "execution_count": null,
   "metadata": {},
   "outputs": [],
   "source": []
  }
 ],
 "metadata": {
  "kernelspec": {
   "display_name": "Python 3",
   "language": "python",
   "name": "python3"
  },
  "language_info": {
   "codemirror_mode": {
    "name": "ipython",
    "version": 3
   },
   "file_extension": ".py",
   "mimetype": "text/x-python",
   "name": "python",
   "nbconvert_exporter": "python",
   "pygments_lexer": "ipython3",
   "version": "3.6.5"
  }
 },
 "nbformat": 4,
 "nbformat_minor": 2
}
