{
 "cells": [
  {
   "cell_type": "code",
   "execution_count": 1,
   "metadata": {},
   "outputs": [
    {
     "name": "stderr",
     "output_type": "stream",
     "text": [
      "Using TensorFlow backend.\n"
     ]
    }
   ],
   "source": [
    "import random\n",
    "from research.weight_estimation.gtsf_data.gtsf_dataset import GTSFDataset\n",
    "from research.weight_estimation.gtsf_data.gtsf_augmentation import GTSFAugmentation\n",
    "\n",
    "import os\n",
    "import math\n",
    "import numpy as np\n",
    "from keras.layers import Input, Dense, Flatten\n",
    "from keras.models import Model\n",
    "from keras.optimizers import RMSprop\n",
    "from keras.models import load_model\n",
    "import keras\n",
    "\n",
    "from matplotlib import pyplot as plt"
   ]
  },
  {
   "cell_type": "code",
   "execution_count": null,
   "metadata": {},
   "outputs": [],
   "source": []
  },
  {
   "cell_type": "markdown",
   "metadata": {},
   "source": [
    "<h1> Load GTSF Data </h1>"
   ]
  },
  {
   "cell_type": "code",
   "execution_count": 2,
   "metadata": {},
   "outputs": [
    {
     "name": "stdout",
     "output_type": "stream",
     "text": [
      "Raw dataframe loaded!\n",
      "Dataset preparation beginning...\n",
      "3D spatial information added!\n",
      "Adding AKPD scores...\n",
      "Converting world keypoints to matrix form...\n",
      "(19565, 14)\n"
     ]
    }
   ],
   "source": [
    "akpd_scorer_url = 'https://aquabyte-models.s3-us-west-1.amazonaws.com/keypoint-detection-scorer/akpd_scorer_model_TF.h5'\n",
    "gtsf_dataset = GTSFDataset('2019-03-01', '2020-02-10', akpd_scorer_url)\n",
    "df = gtsf_dataset.get_prepared_dataset()\n",
    "\n"
   ]
  },
  {
   "cell_type": "markdown",
   "metadata": {},
   "source": [
    "<h1> Perform Augmentation </h1>"
   ]
  },
  {
   "cell_type": "code",
   "execution_count": 8,
   "metadata": {},
   "outputs": [
    {
     "name": "stdout",
     "output_type": "stream",
     "text": [
      "(134260, 14)\n"
     ]
    }
   ],
   "source": [
    "df = df[(df.captured_at < '2019-09-20') & (df.median_depth < 1.0) & (df.akpd_score > 0.9)]\n",
    "gtsf_augmentation = GTSFAugmentation(df)\n",
    "y_bounds, jitter, trials = (0.5, 2.0), 10, 10\n",
    "augmented_df = gtsf_augmentation.generate_augmented_dataset(y_bounds, jitter, trials, random_seed=0)\n",
    "print(augmented_df.shape)"
   ]
  },
  {
   "cell_type": "code",
   "execution_count": null,
   "metadata": {},
   "outputs": [],
   "source": []
  },
  {
   "cell_type": "markdown",
   "metadata": {},
   "source": [
    "<h1> Create Train / Test Split </h1>"
   ]
  },
  {
   "cell_type": "code",
   "execution_count": 20,
   "metadata": {},
   "outputs": [],
   "source": [
    "# select train / test sets such that there are no overlapping fish IDs\n",
    "\n",
    "train_pct = 0.8\n",
    "fish_ids = augmented_df.fish_id.unique().tolist()\n",
    "train_fish_ids = random.choices(fish_ids, k=int(len(fish_ids) * train_pct))\n",
    "train_mask = augmented_df.fish_id.isin(train_fish_ids)\n",
    "test_mask = ~train_mask\n",
    "X_train = augmented_df[train_mask].wkps.values\n",
    "X_train = np.concatenate(X_train).reshape(X_train.shape[0], 24)\n",
    "y_train = augmented_df[train_mask].weight.values\n",
    "X_test = augmented_df[test_mask].wkps.values\n",
    "X_test = np.concatenate(X_test).reshape(X_test.shape[0], 24)\n",
    "y_test = augmented_df[test_mask].weight.values\n"
   ]
  },
  {
   "cell_type": "code",
   "execution_count": null,
   "metadata": {},
   "outputs": [],
   "source": []
  },
  {
   "cell_type": "markdown",
   "metadata": {},
   "source": [
    "<h1> Train Neural Network in Keras </h1>"
   ]
  },
  {
   "cell_type": "code",
   "execution_count": null,
   "metadata": {},
   "outputs": [],
   "source": []
  },
  {
   "cell_type": "code",
   "execution_count": 26,
   "metadata": {},
   "outputs": [
    {
     "name": "stderr",
     "output_type": "stream",
     "text": [
      "/home/user/miniconda/envs/py36/lib/python3.6/site-packages/ipykernel_launcher.py:8: UserWarning: Update your `Model` call to the Keras 2 API: `Model(inputs=Tensor(\"in..., outputs=Tensor(\"de...)`\n",
      "  \n"
     ]
    }
   ],
   "source": [
    "inputs = Input(shape=(24,))\n",
    "\n",
    "# a layer instance is callable on a tensor, and returns a tensor\n",
    "x = Dense(256, activation='relu')(inputs)\n",
    "x = Dense(128, activation='relu')(x)\n",
    "x = Dense(64, activation='relu')(x)\n",
    "pred = Dense(1)(x)\n",
    "model = Model(input=inputs, output=pred)\n"
   ]
  },
  {
   "cell_type": "code",
   "execution_count": 27,
   "metadata": {
    "scrolled": true
   },
   "outputs": [
    {
     "name": "stdout",
     "output_type": "stream",
     "text": [
      "Train on 77510 samples, validate on 56750 samples\n",
      "Epoch 1/100\n",
      "77510/77510 [==============================] - 9s 115us/step - loss: 0.0097 - accuracy: 0.0000e+00 - val_loss: 0.0034 - val_accuracy: 0.0000e+00\n",
      "Epoch 2/100\n",
      "77510/77510 [==============================] - 9s 114us/step - loss: 0.0031 - accuracy: 0.0000e+00 - val_loss: 0.0038 - val_accuracy: 0.0000e+00\n",
      "Epoch 3/100\n",
      "77510/77510 [==============================] - 9s 113us/step - loss: 0.0027 - accuracy: 0.0000e+00 - val_loss: 0.0024 - val_accuracy: 0.0000e+00\n",
      "Epoch 4/100\n",
      "77510/77510 [==============================] - 9s 113us/step - loss: 0.0024 - accuracy: 0.0000e+00 - val_loss: 0.0022 - val_accuracy: 0.0000e+00\n",
      "Epoch 5/100\n",
      "77510/77510 [==============================] - 9s 113us/step - loss: 0.0024 - accuracy: 0.0000e+00 - val_loss: 0.0019 - val_accuracy: 0.0000e+00\n",
      "Epoch 6/100\n",
      "77510/77510 [==============================] - 9s 114us/step - loss: 0.0023 - accuracy: 0.0000e+00 - val_loss: 0.0021 - val_accuracy: 0.0000e+00\n",
      "Epoch 7/100\n",
      "77510/77510 [==============================] - 9s 113us/step - loss: 0.0023 - accuracy: 0.0000e+00 - val_loss: 0.0035 - val_accuracy: 0.0000e+00\n",
      "Epoch 8/100\n",
      "77510/77510 [==============================] - 9s 114us/step - loss: 0.0022 - accuracy: 0.0000e+00 - val_loss: 0.0020 - val_accuracy: 0.0000e+00\n",
      "Epoch 9/100\n",
      "77510/77510 [==============================] - 9s 115us/step - loss: 0.0022 - accuracy: 0.0000e+00 - val_loss: 0.0026 - val_accuracy: 0.0000e+00\n",
      "Epoch 10/100\n",
      "77510/77510 [==============================] - 9s 114us/step - loss: 0.0021 - accuracy: 0.0000e+00 - val_loss: 0.0019 - val_accuracy: 0.0000e+00\n",
      "Epoch 11/100\n",
      "77510/77510 [==============================] - 9s 113us/step - loss: 0.0021 - accuracy: 0.0000e+00 - val_loss: 0.0017 - val_accuracy: 0.0000e+00\n",
      "Epoch 12/100\n",
      "77510/77510 [==============================] - 9s 112us/step - loss: 0.0021 - accuracy: 0.0000e+00 - val_loss: 0.0019 - val_accuracy: 0.0000e+00\n",
      "Epoch 13/100\n",
      "77510/77510 [==============================] - 9s 112us/step - loss: 0.0021 - accuracy: 0.0000e+00 - val_loss: 0.0022 - val_accuracy: 0.0000e+00\n",
      "Epoch 14/100\n",
      "77510/77510 [==============================] - 9s 112us/step - loss: 0.0020 - accuracy: 0.0000e+00 - val_loss: 0.0019 - val_accuracy: 0.0000e+00\n",
      "Epoch 15/100\n",
      "77510/77510 [==============================] - 9s 111us/step - loss: 0.0020 - accuracy: 0.0000e+00 - val_loss: 0.0019 - val_accuracy: 0.0000e+00\n",
      "Epoch 16/100\n",
      "77510/77510 [==============================] - 9s 113us/step - loss: 0.0020 - accuracy: 0.0000e+00 - val_loss: 0.0021 - val_accuracy: 0.0000e+00\n",
      "Epoch 17/100\n",
      "77510/77510 [==============================] - 9s 112us/step - loss: 0.0020 - accuracy: 0.0000e+00 - val_loss: 0.0017 - val_accuracy: 0.0000e+00\n",
      "Epoch 18/100\n",
      "77510/77510 [==============================] - 9s 113us/step - loss: 0.0020 - accuracy: 0.0000e+00 - val_loss: 0.0017 - val_accuracy: 0.0000e+00\n",
      "Epoch 19/100\n",
      "77510/77510 [==============================] - 9s 112us/step - loss: 0.0020 - accuracy: 0.0000e+00 - val_loss: 0.0020 - val_accuracy: 0.0000e+00\n",
      "Epoch 20/100\n",
      "77510/77510 [==============================] - 9s 112us/step - loss: 0.0019 - accuracy: 0.0000e+00 - val_loss: 0.0018 - val_accuracy: 0.0000e+00\n",
      "Epoch 21/100\n",
      "77510/77510 [==============================] - 9s 112us/step - loss: 0.0019 - accuracy: 0.0000e+00 - val_loss: 0.0017 - val_accuracy: 0.0000e+00\n",
      "Epoch 22/100\n",
      "77510/77510 [==============================] - 9s 110us/step - loss: 0.0019 - accuracy: 0.0000e+00 - val_loss: 0.0020 - val_accuracy: 0.0000e+00\n",
      "Epoch 23/100\n",
      "77510/77510 [==============================] - 9s 112us/step - loss: 0.0019 - accuracy: 0.0000e+00 - val_loss: 0.0021 - val_accuracy: 0.0000e+00\n",
      "Epoch 24/100\n",
      "77510/77510 [==============================] - 9s 112us/step - loss: 0.0019 - accuracy: 0.0000e+00 - val_loss: 0.0017 - val_accuracy: 0.0000e+00\n",
      "Epoch 25/100\n",
      "77510/77510 [==============================] - 9s 111us/step - loss: 0.0019 - accuracy: 0.0000e+00 - val_loss: 0.0017 - val_accuracy: 0.0000e+00\n",
      "Epoch 26/100\n",
      "77510/77510 [==============================] - 9s 112us/step - loss: 0.0019 - accuracy: 0.0000e+00 - val_loss: 0.0018 - val_accuracy: 0.0000e+00\n",
      "Epoch 27/100\n",
      "77510/77510 [==============================] - 9s 112us/step - loss: 0.0018 - accuracy: 0.0000e+00 - val_loss: 0.0018 - val_accuracy: 0.0000e+00\n",
      "Epoch 28/100\n",
      "77510/77510 [==============================] - 9s 113us/step - loss: 0.0018 - accuracy: 0.0000e+00 - val_loss: 0.0021 - val_accuracy: 0.0000e+00\n",
      "Epoch 29/100\n",
      "77510/77510 [==============================] - 9s 112us/step - loss: 0.0018 - accuracy: 0.0000e+00 - val_loss: 0.0018 - val_accuracy: 0.0000e+00\n",
      "Epoch 30/100\n",
      "77510/77510 [==============================] - 9s 113us/step - loss: 0.0018 - accuracy: 0.0000e+00 - val_loss: 0.0017 - val_accuracy: 0.0000e+00\n",
      "Epoch 31/100\n",
      "77510/77510 [==============================] - 9s 112us/step - loss: 0.0018 - accuracy: 0.0000e+00 - val_loss: 0.0018 - val_accuracy: 0.0000e+00\n",
      "Epoch 32/100\n",
      "77510/77510 [==============================] - 9s 111us/step - loss: 0.0018 - accuracy: 0.0000e+00 - val_loss: 0.0017 - val_accuracy: 0.0000e+00\n",
      "Epoch 33/100\n",
      "77510/77510 [==============================] - 9s 112us/step - loss: 0.0018 - accuracy: 0.0000e+00 - val_loss: 0.0024 - val_accuracy: 0.0000e+00\n",
      "Epoch 34/100\n",
      "77510/77510 [==============================] - 9s 111us/step - loss: 0.0017 - accuracy: 0.0000e+00 - val_loss: 0.0016 - val_accuracy: 0.0000e+00\n",
      "Epoch 35/100\n",
      "77510/77510 [==============================] - 9s 113us/step - loss: 0.0017 - accuracy: 0.0000e+00 - val_loss: 0.0019 - val_accuracy: 0.0000e+00\n",
      "Epoch 36/100\n",
      "77510/77510 [==============================] - 9s 113us/step - loss: 0.0017 - accuracy: 0.0000e+00 - val_loss: 0.0019 - val_accuracy: 0.0000e+00\n",
      "Epoch 37/100\n",
      "77510/77510 [==============================] - 9s 111us/step - loss: 0.0017 - accuracy: 0.0000e+00 - val_loss: 0.0016 - val_accuracy: 0.0000e+00\n",
      "Epoch 38/100\n",
      "77510/77510 [==============================] - 9s 113us/step - loss: 0.0017 - accuracy: 0.0000e+00 - val_loss: 0.0016 - val_accuracy: 0.0000e+00\n",
      "Epoch 39/100\n",
      "77510/77510 [==============================] - 9s 111us/step - loss: 0.0017 - accuracy: 0.0000e+00 - val_loss: 0.0016 - val_accuracy: 0.0000e+00\n",
      "Epoch 40/100\n",
      "77510/77510 [==============================] - 9s 111us/step - loss: 0.0017 - accuracy: 0.0000e+00 - val_loss: 0.0017 - val_accuracy: 0.0000e+00\n",
      "Epoch 41/100\n",
      "77510/77510 [==============================] - 9s 111us/step - loss: 0.0017 - accuracy: 0.0000e+00 - val_loss: 0.0018 - val_accuracy: 0.0000e+00\n",
      "Epoch 42/100\n",
      "77510/77510 [==============================] - 9s 112us/step - loss: 0.0016 - accuracy: 0.0000e+00 - val_loss: 0.0017 - val_accuracy: 0.0000e+00\n",
      "Epoch 43/100\n",
      "77510/77510 [==============================] - 9s 112us/step - loss: 0.0016 - accuracy: 0.0000e+00 - val_loss: 0.0016 - val_accuracy: 0.0000e+00\n",
      "Epoch 44/100\n",
      "77510/77510 [==============================] - 9s 113us/step - loss: 0.0016 - accuracy: 0.0000e+00 - val_loss: 0.0016 - val_accuracy: 0.0000e+00\n",
      "Epoch 45/100\n",
      "77510/77510 [==============================] - 9s 113us/step - loss: 0.0016 - accuracy: 0.0000e+00 - val_loss: 0.0023 - val_accuracy: 0.0000e+00\n",
      "Epoch 46/100\n",
      "77510/77510 [==============================] - 9s 114us/step - loss: 0.0016 - accuracy: 0.0000e+00 - val_loss: 0.0016 - val_accuracy: 0.0000e+00\n",
      "Epoch 47/100\n",
      "77510/77510 [==============================] - 9s 110us/step - loss: 0.0016 - accuracy: 0.0000e+00 - val_loss: 0.0016 - val_accuracy: 0.0000e+00\n",
      "Epoch 48/100\n",
      "77510/77510 [==============================] - 9s 111us/step - loss: 0.0016 - accuracy: 0.0000e+00 - val_loss: 0.0016 - val_accuracy: 0.0000e+00\n",
      "Epoch 49/100\n",
      "77510/77510 [==============================] - 9s 111us/step - loss: 0.0016 - accuracy: 0.0000e+00 - val_loss: 0.0018 - val_accuracy: 0.0000e+00\n",
      "Epoch 50/100\n",
      "77510/77510 [==============================] - 9s 113us/step - loss: 0.0016 - accuracy: 0.0000e+00 - val_loss: 0.0016 - val_accuracy: 0.0000e+00\n",
      "Epoch 51/100\n",
      "77510/77510 [==============================] - 9s 112us/step - loss: 0.0016 - accuracy: 0.0000e+00 - val_loss: 0.0017 - val_accuracy: 0.0000e+00\n",
      "Epoch 52/100\n"
     ]
    },
    {
     "name": "stdout",
     "output_type": "stream",
     "text": [
      "77510/77510 [==============================] - 9s 111us/step - loss: 0.0016 - accuracy: 0.0000e+00 - val_loss: 0.0016 - val_accuracy: 0.0000e+00\n",
      "Epoch 53/100\n",
      "77510/77510 [==============================] - 9s 111us/step - loss: 0.0016 - accuracy: 0.0000e+00 - val_loss: 0.0015 - val_accuracy: 0.0000e+00\n",
      "Epoch 54/100\n",
      "77510/77510 [==============================] - 9s 111us/step - loss: 0.0016 - accuracy: 0.0000e+00 - val_loss: 0.0016 - val_accuracy: 0.0000e+00\n",
      "Epoch 55/100\n",
      "77510/77510 [==============================] - 9s 112us/step - loss: 0.0015 - accuracy: 0.0000e+00 - val_loss: 0.0016 - val_accuracy: 0.0000e+00\n",
      "Epoch 56/100\n",
      "77510/77510 [==============================] - 9s 113us/step - loss: 0.0015 - accuracy: 0.0000e+00 - val_loss: 0.0015 - val_accuracy: 0.0000e+00\n",
      "Epoch 57/100\n",
      "77510/77510 [==============================] - 9s 112us/step - loss: 0.0015 - accuracy: 0.0000e+00 - val_loss: 0.0017 - val_accuracy: 0.0000e+00\n",
      "Epoch 58/100\n",
      "77510/77510 [==============================] - 9s 112us/step - loss: 0.0015 - accuracy: 0.0000e+00 - val_loss: 0.0017 - val_accuracy: 0.0000e+00\n",
      "Epoch 59/100\n",
      "77510/77510 [==============================] - 9s 111us/step - loss: 0.0015 - accuracy: 0.0000e+00 - val_loss: 0.0017 - val_accuracy: 0.0000e+00\n",
      "Epoch 60/100\n",
      "77510/77510 [==============================] - 9s 112us/step - loss: 0.0015 - accuracy: 0.0000e+00 - val_loss: 0.0017 - val_accuracy: 0.0000e+00\n",
      "Epoch 61/100\n",
      "77510/77510 [==============================] - 9s 110us/step - loss: 0.0015 - accuracy: 0.0000e+00 - val_loss: 0.0016 - val_accuracy: 0.0000e+00\n",
      "Epoch 62/100\n",
      "77510/77510 [==============================] - 9s 112us/step - loss: 0.0015 - accuracy: 0.0000e+00 - val_loss: 0.0018 - val_accuracy: 0.0000e+00\n",
      "Epoch 63/100\n",
      "77510/77510 [==============================] - 9s 112us/step - loss: 0.0015 - accuracy: 0.0000e+00 - val_loss: 0.0016 - val_accuracy: 0.0000e+00\n",
      "Epoch 64/100\n",
      "77510/77510 [==============================] - 9s 112us/step - loss: 0.0015 - accuracy: 0.0000e+00 - val_loss: 0.0017 - val_accuracy: 0.0000e+00\n",
      "Epoch 65/100\n",
      "77510/77510 [==============================] - 9s 111us/step - loss: 0.0015 - accuracy: 0.0000e+00 - val_loss: 0.0015 - val_accuracy: 0.0000e+00\n",
      "Epoch 66/100\n",
      "77510/77510 [==============================] - 9s 111us/step - loss: 0.0015 - accuracy: 0.0000e+00 - val_loss: 0.0015 - val_accuracy: 0.0000e+00\n",
      "Epoch 67/100\n",
      "77510/77510 [==============================] - 9s 111us/step - loss: 0.0014 - accuracy: 0.0000e+00 - val_loss: 0.0016 - val_accuracy: 0.0000e+00\n",
      "Epoch 68/100\n",
      "77510/77510 [==============================] - 9s 111us/step - loss: 0.0014 - accuracy: 0.0000e+00 - val_loss: 0.0020 - val_accuracy: 0.0000e+00\n",
      "Epoch 69/100\n",
      "77510/77510 [==============================] - 9s 112us/step - loss: 0.0014 - accuracy: 0.0000e+00 - val_loss: 0.0016 - val_accuracy: 0.0000e+00\n",
      "Epoch 70/100\n",
      "77510/77510 [==============================] - 9s 112us/step - loss: 0.0014 - accuracy: 0.0000e+00 - val_loss: 0.0019 - val_accuracy: 0.0000e+00\n",
      "Epoch 71/100\n",
      "77510/77510 [==============================] - 9s 112us/step - loss: 0.0014 - accuracy: 0.0000e+00 - val_loss: 0.0016 - val_accuracy: 0.0000e+00\n",
      "Epoch 72/100\n",
      "77510/77510 [==============================] - 9s 113us/step - loss: 0.0014 - accuracy: 0.0000e+00 - val_loss: 0.0021 - val_accuracy: 0.0000e+00\n",
      "Epoch 73/100\n",
      "77510/77510 [==============================] - 9s 112us/step - loss: 0.0014 - accuracy: 0.0000e+00 - val_loss: 0.0017 - val_accuracy: 0.0000e+00\n",
      "Epoch 74/100\n",
      "77510/77510 [==============================] - 9s 111us/step - loss: 0.0014 - accuracy: 0.0000e+00 - val_loss: 0.0020 - val_accuracy: 0.0000e+00\n",
      "Epoch 75/100\n",
      "77510/77510 [==============================] - 9s 113us/step - loss: 0.0014 - accuracy: 0.0000e+00 - val_loss: 0.0017 - val_accuracy: 0.0000e+00\n",
      "Epoch 76/100\n",
      "77510/77510 [==============================] - 9s 113us/step - loss: 0.0014 - accuracy: 0.0000e+00 - val_loss: 0.0017 - val_accuracy: 0.0000e+00\n",
      "Epoch 77/100\n",
      "77510/77510 [==============================] - 9s 112us/step - loss: 0.0014 - accuracy: 0.0000e+00 - val_loss: 0.0016 - val_accuracy: 0.0000e+00\n",
      "Epoch 78/100\n",
      "77510/77510 [==============================] - 9s 111us/step - loss: 0.0014 - accuracy: 0.0000e+00 - val_loss: 0.0015 - val_accuracy: 0.0000e+00\n",
      "Epoch 79/100\n",
      "77510/77510 [==============================] - 9s 113us/step - loss: 0.0014 - accuracy: 0.0000e+00 - val_loss: 0.0016 - val_accuracy: 0.0000e+00\n",
      "Epoch 80/100\n",
      "77510/77510 [==============================] - 9s 111us/step - loss: 0.0014 - accuracy: 0.0000e+00 - val_loss: 0.0015 - val_accuracy: 0.0000e+00\n",
      "Epoch 81/100\n",
      "77510/77510 [==============================] - 9s 112us/step - loss: 0.0014 - accuracy: 0.0000e+00 - val_loss: 0.0016 - val_accuracy: 0.0000e+00\n",
      "Epoch 82/100\n",
      "77510/77510 [==============================] - 9s 112us/step - loss: 0.0014 - accuracy: 0.0000e+00 - val_loss: 0.0017 - val_accuracy: 0.0000e+00\n",
      "Epoch 83/100\n",
      "77510/77510 [==============================] - 9s 112us/step - loss: 0.0014 - accuracy: 0.0000e+00 - val_loss: 0.0017 - val_accuracy: 0.0000e+00\n",
      "Epoch 84/100\n",
      "77510/77510 [==============================] - 9s 110us/step - loss: 0.0013 - accuracy: 0.0000e+00 - val_loss: 0.0015 - val_accuracy: 0.0000e+00\n",
      "Epoch 85/100\n",
      "77510/77510 [==============================] - 9s 111us/step - loss: 0.0013 - accuracy: 0.0000e+00 - val_loss: 0.0018 - val_accuracy: 0.0000e+00\n",
      "Epoch 86/100\n",
      "77510/77510 [==============================] - 9s 112us/step - loss: 0.0013 - accuracy: 0.0000e+00 - val_loss: 0.0020 - val_accuracy: 0.0000e+00\n",
      "Epoch 87/100\n",
      "77510/77510 [==============================] - 9s 112us/step - loss: 0.0013 - accuracy: 0.0000e+00 - val_loss: 0.0021 - val_accuracy: 0.0000e+00\n",
      "Epoch 88/100\n",
      "77510/77510 [==============================] - 9s 111us/step - loss: 0.0013 - accuracy: 0.0000e+00 - val_loss: 0.0016 - val_accuracy: 0.0000e+00\n",
      "Epoch 89/100\n",
      "77510/77510 [==============================] - 9s 112us/step - loss: 0.0013 - accuracy: 0.0000e+00 - val_loss: 0.0021 - val_accuracy: 0.0000e+00\n",
      "Epoch 90/100\n",
      "77510/77510 [==============================] - 9s 113us/step - loss: 0.0013 - accuracy: 0.0000e+00 - val_loss: 0.0017 - val_accuracy: 0.0000e+00\n",
      "Epoch 91/100\n",
      "77510/77510 [==============================] - 9s 111us/step - loss: 0.0013 - accuracy: 0.0000e+00 - val_loss: 0.0016 - val_accuracy: 0.0000e+00\n",
      "Epoch 92/100\n",
      "77510/77510 [==============================] - 9s 113us/step - loss: 0.0013 - accuracy: 0.0000e+00 - val_loss: 0.0016 - val_accuracy: 0.0000e+00\n",
      "Epoch 93/100\n",
      "77510/77510 [==============================] - 9s 112us/step - loss: 0.0013 - accuracy: 0.0000e+00 - val_loss: 0.0016 - val_accuracy: 0.0000e+00\n",
      "Epoch 94/100\n",
      "77510/77510 [==============================] - 9s 111us/step - loss: 0.0013 - accuracy: 0.0000e+00 - val_loss: 0.0016 - val_accuracy: 0.0000e+00\n",
      "Epoch 95/100\n",
      "77510/77510 [==============================] - 9s 113us/step - loss: 0.0013 - accuracy: 0.0000e+00 - val_loss: 0.0015 - val_accuracy: 0.0000e+00\n",
      "Epoch 96/100\n",
      "77510/77510 [==============================] - 9s 112us/step - loss: 0.0013 - accuracy: 0.0000e+00 - val_loss: 0.0015 - val_accuracy: 0.0000e+00\n",
      "Epoch 97/100\n",
      "77510/77510 [==============================] - 9s 114us/step - loss: 0.0013 - accuracy: 0.0000e+00 - val_loss: 0.0015 - val_accuracy: 0.0000e+00\n",
      "Epoch 98/100\n",
      "77510/77510 [==============================] - 9s 110us/step - loss: 0.0013 - accuracy: 0.0000e+00 - val_loss: 0.0018 - val_accuracy: 0.0000e+00\n",
      "Epoch 99/100\n",
      "77510/77510 [==============================] - 9s 113us/step - loss: 0.0013 - accuracy: 0.0000e+00 - val_loss: 0.0015 - val_accuracy: 0.0000e+00\n",
      "Epoch 100/100\n",
      "77510/77510 [==============================] - 9s 110us/step - loss: 0.0012 - accuracy: 0.0000e+00 - val_loss: 0.0015 - val_accuracy: 0.0000e+00\n"
     ]
    },
    {
     "data": {
      "text/plain": [
       "<keras.callbacks.callbacks.History at 0x7fa6e0063518>"
      ]
     },
     "execution_count": 27,
     "metadata": {},
     "output_type": "execute_result"
    }
   ],
   "source": [
    "optimizer = keras.optimizers.Adam(learning_rate=1e-4)\n",
    "model.compile(optimizer=optimizer,\n",
    "              loss='mean_squared_error',\n",
    "              metrics=['accuracy'])\n",
    "model.fit(X_train, 1e-4 * y_train, validation_data=(X_test, 1e-4 * y_test), batch_size=25, epochs=100)"
   ]
  },
  {
   "cell_type": "code",
   "execution_count": 31,
   "metadata": {},
   "outputs": [],
   "source": [
    "y_pred = model.predict(X_test).squeeze()"
   ]
  },
  {
   "cell_type": "code",
   "execution_count": null,
   "metadata": {},
   "outputs": [],
   "source": []
  },
  {
   "cell_type": "code",
   "execution_count": null,
   "metadata": {},
   "outputs": [],
   "source": []
  },
  {
   "cell_type": "code",
   "execution_count": null,
   "metadata": {},
   "outputs": [],
   "source": []
  },
  {
   "cell_type": "code",
   "execution_count": null,
   "metadata": {},
   "outputs": [],
   "source": []
  },
  {
   "cell_type": "code",
   "execution_count": null,
   "metadata": {},
   "outputs": [],
   "source": []
  },
  {
   "cell_type": "code",
   "execution_count": null,
   "metadata": {},
   "outputs": [],
   "source": []
  }
 ],
 "metadata": {
  "kernelspec": {
   "display_name": "Python 3",
   "language": "python",
   "name": "python3"
  }
 },
 "nbformat": 4,
 "nbformat_minor": 2
}
