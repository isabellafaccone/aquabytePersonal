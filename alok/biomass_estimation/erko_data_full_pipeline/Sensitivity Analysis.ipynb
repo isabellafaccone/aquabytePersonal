{
 "cells": [
  {
   "cell_type": "code",
   "execution_count": null,
   "metadata": {},
   "outputs": [],
   "source": [
    "import numpy as np\n",
    "import itertools\n",
    "import matplotlib.pyplot as plt\n",
    "%matplotlib inline"
   ]
  },
  {
   "cell_type": "code",
   "execution_count": null,
   "metadata": {},
   "outputs": [],
   "source": []
  },
  {
   "cell_type": "markdown",
   "metadata": {},
   "source": [
    "<h1> Define properties of optical system </h1>"
   ]
  },
  {
   "cell_type": "code",
   "execution_count": null,
   "metadata": {},
   "outputs": [],
   "source": [
    "# all measurements are in meters\n",
    "\n",
    "FOCAL_LENGTH = 0.0107\n",
    "BASELINE = 0.135\n",
    "PIXEL_SIZE_M = 3.45 * 1e-6\n",
    "FOCAL_LENGTH_PIXEL = FOCAL_LENGTH / PIXEL_SIZE_M\n",
    "IMAGE_SENSOR_WIDTH = 0.01412\n",
    "IMAGE_SENSOR_HEIGHT = 0.01035\n",
    "PIXEL_COUNT_WIDTH = 4096\n",
    "PIXEL_COUNT_HEIGHT = 3000\n",
    "\n",
    "\n"
   ]
  },
  {
   "cell_type": "code",
   "execution_count": null,
   "metadata": {},
   "outputs": [],
   "source": []
  },
  {
   "cell_type": "markdown",
   "metadata": {},
   "source": [
    "<h1> Perform Sensitivity Analysis </h1>"
   ]
  },
  {
   "cell_type": "markdown",
   "metadata": {},
   "source": [
    "<h2> Our goal here is to determine how sensitive our distance predictions are to pixel disparity errors. This will depend on how big the fish is, how far the fish is away from the camera, and possibly where the fish is located in the image (i.e. in the middle, near the edge, etc.) </h2>"
   ]
  },
  {
   "cell_type": "markdown",
   "metadata": {},
   "source": [
    "<h3> Simple case: Take a fish of known length (i.e head to tail distance) at a known distance away from camera, centered in the image. How sensitive is fish length as a function of disparity error? </h3>"
   ]
  },
  {
   "cell_type": "code",
   "execution_count": null,
   "metadata": {},
   "outputs": [],
   "source": [
    "def convert_to_world_point(x, y, d):\n",
    "    \"\"\" from pixel coordinates to world coordinates \"\"\"\n",
    "    # TODO (@Thomas) this is hard coded and this bad....\n",
    "    image_center_x = PIXEL_COUNT_WIDTH / 2.0  # depth_map.shape[1] / 2.0\n",
    "    image_center_y = PIXEL_COUNT_HEIGHT / 2.0  # depth_map.shape[0] / 2.0\n",
    "    px_x = x - image_center_x\n",
    "    px_z = image_center_y - y\n",
    "\n",
    "    sensor_x = px_x * (IMAGE_SENSOR_WIDTH / PIXEL_COUNT_WIDTH)\n",
    "    sensor_z = px_z * (IMAGE_SENSOR_HEIGHT / PIXEL_COUNT_HEIGHT)\n",
    "\n",
    "    # d = depth_map[y, x]\n",
    "    world_y = d\n",
    "    world_x = (world_y * sensor_x) / FOCAL_LENGTH\n",
    "    world_z = (world_y * sensor_z) / FOCAL_LENGTH\n",
    "    return np.array([world_x, world_y, world_z])\n",
    "    "
   ]
  },
  {
   "cell_type": "code",
   "execution_count": null,
   "metadata": {},
   "outputs": [],
   "source": [
    "def get_length_error(fish_length, distance_from_camera, head_disparity_error_px, tail_disparity_error_px):\n",
    "    '''\n",
    "    determine distance error as a function of disparity error (assume diaprity error impacts only the head)\n",
    "    '''\n",
    "    \n",
    "    fish_length_px = (fish_length * FOCAL_LENGTH / distance_from_camera) * (1.0 / PIXEL_SIZE_M)\n",
    "    ground_truth_disparity_px = (FOCAL_LENGTH * BASELINE / distance_from_camera) * (PIXEL_COUNT_WIDTH / IMAGE_SENSOR_WIDTH)\n",
    "    predicted_head_disparity_px = ground_truth_disparity_px + head_disparity_error_px\n",
    "    predicted_tail_disparity_px = ground_truth_disparity_px + tail_disparity_error_px\n",
    "\n",
    "    # get coordinates of head and tail in left image (attribute disparity errors evenly to left and right images)\n",
    "    left_head_coordinates_x_px = PIXEL_COUNT_WIDTH / 2.0 - predicted_head_disparity_px / 2.0 - fish_length_px / 2.0\n",
    "    right_head_coordinates_x_px = PIXEL_COUNT_WIDTH / 2.0 + predicted_head_disparity_px / 2.0 - fish_length_px / 2.0\n",
    "    left_tail_coordinates_x_px = PIXEL_COUNT_WIDTH / 2.0 - predicted_tail_disparity_px / 2.0 + fish_length_px / 2.0\n",
    "    right_tail_coordinates_x_px = PIXEL_COUNT_WIDTH / 2.0 + predicted_tail_disparity_px / 2.0 + fish_length_px / 2.0\n",
    "\n",
    "    y_px = PIXEL_COUNT_HEIGHT / 2.0\n",
    "    \n",
    "    predicted_head_distance_from_camera = (FOCAL_LENGTH * BASELINE / predicted_head_disparity_px) * (PIXEL_COUNT_WIDTH / IMAGE_SENSOR_WIDTH)\n",
    "    predicted_tail_distance_from_camera = (FOCAL_LENGTH * BASELINE / predicted_tail_disparity_px) * (PIXEL_COUNT_WIDTH / IMAGE_SENSOR_WIDTH)\n",
    "\n",
    "    head_coordinates_world = convert_to_world_point(left_head_coordinates_x_px, y_px, predicted_head_distance_from_camera)\n",
    "    tail_coordinates_world = convert_to_world_point(left_tail_coordinates_x_px, y_px, predicted_tail_distance_from_camera)\n",
    "    distance = np.linalg.norm(head_coordinates_world-tail_coordinates_world)\n",
    "    \n",
    "    absolute_error = distance - fish_length\n",
    "    relative_error = (absolute_error / fish_length) * 100\n",
    "    return absolute_error, relative_error\n"
   ]
  },
  {
   "cell_type": "code",
   "execution_count": null,
   "metadata": {},
   "outputs": [],
   "source": []
  },
  {
   "cell_type": "markdown",
   "metadata": {},
   "source": [
    "<h3> Distance from camera: 1 meter </h3>"
   ]
  },
  {
   "cell_type": "code",
   "execution_count": null,
   "metadata": {},
   "outputs": [],
   "source": [
    "def plot_relative_errors(fish_length, distance_from_camera, max_disparity_error, increment=5):\n",
    "    disparity_errors = np.arange(10, max_disparity_error, increment)\n",
    "    all_relative_errors = {}\n",
    "    for disparity_error in disparity_errors:\n",
    "        absolute_errors, relative_errors = [], []\n",
    "        for head_disparity_error_px in np.arange(-disparity_error, disparity_error, increment):\n",
    "            for tail_disparity_error_px in np.arange(-disparity_error, disparity_error, increment):\n",
    "                absolute_error, relative_error = get_length_error(fish_length, distance_from_camera, head_disparity_error_px, tail_disparity_error_px)\n",
    "                absolute_errors.append(absolute_error)\n",
    "                relative_errors.append(relative_error)\n",
    "        all_relative_errors[disparity_error] = relative_errors\n",
    "\n",
    "#     fig, ax = plt.subplots(figsize=(10, 5))\n",
    "#     b = generate_box_plots(ax, all_relative_errors)\n",
    "#     plt.xticks(range(1, len(disparity_errors)+1), list(disparity_errors))\n",
    "#     plt.show()\n",
    "\n",
    "    data = [all_relative_errors[disparity_error] for disparity_error in disparity_errors]\n",
    "    plt.figure(figsize=(15, 10))\n",
    "    plt.boxplot(data)\n",
    "    plt.xticks(range(1, len(disparity_errors)+1), list(disparity_errors))\n",
    "    plt.ylim(top=min(100, plt.ylim()[1]))\n",
    "    plt.xlabel('Maximum disparity error in pixels')\n",
    "    plt.ylabel('Relative Error Distribution for Head-Tail Distance (pct)')\n",
    "    plt.title('Fish Length: {}m, Distance from Camera: {}m'.format(fish_length, distance_from_camera))\n",
    "    plt.grid()\n",
    "    plt.show()\n"
   ]
  },
  {
   "cell_type": "code",
   "execution_count": null,
   "metadata": {},
   "outputs": [],
   "source": [
    "plot_relative_errors(0.5, 1.0, 100)"
   ]
  },
  {
   "cell_type": "code",
   "execution_count": null,
   "metadata": {},
   "outputs": [],
   "source": [
    "plot_relative_errors(0.5, 2.0, 60, increment=2)"
   ]
  },
  {
   "cell_type": "code",
   "execution_count": null,
   "metadata": {},
   "outputs": [],
   "source": [
    "plot_relative_errors(0.5, 3.0, 30, 2)"
   ]
  },
  {
   "cell_type": "code",
   "execution_count": null,
   "metadata": {},
   "outputs": [],
   "source": [
    "plot_relative_errors(0.5, 4.0, 30, 2)"
   ]
  },
  {
   "cell_type": "code",
   "execution_count": null,
   "metadata": {},
   "outputs": [],
   "source": []
  },
  {
   "cell_type": "code",
   "execution_count": null,
   "metadata": {},
   "outputs": [],
   "source": []
  },
  {
   "cell_type": "code",
   "execution_count": null,
   "metadata": {},
   "outputs": [],
   "source": []
  },
  {
   "cell_type": "code",
   "execution_count": null,
   "metadata": {},
   "outputs": [],
   "source": []
  },
  {
   "cell_type": "code",
   "execution_count": null,
   "metadata": {},
   "outputs": [],
   "source": []
  }
 ],
 "metadata": {
  "kernelspec": {
   "display_name": "Python 2",
   "language": "python",
   "name": "python2"
  },
  "language_info": {
   "codemirror_mode": {
    "name": "ipython",
    "version": 2
   },
   "file_extension": ".py",
   "mimetype": "text/x-python",
   "name": "python",
   "nbconvert_exporter": "python",
   "pygments_lexer": "ipython2",
   "version": "2.7.12"
  }
 },
 "nbformat": 4,
 "nbformat_minor": 2
}
