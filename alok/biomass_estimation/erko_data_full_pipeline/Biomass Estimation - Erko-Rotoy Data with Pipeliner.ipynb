{
 "cells": [
  {
   "cell_type": "code",
   "execution_count": null,
   "metadata": {},
   "outputs": [],
   "source": [
    "import json\n",
    "import os\n",
    "\n",
    "import numpy as np\n",
    "\n",
    "import matplotlib.pyplot as plt\n",
    "import matplotlib.patches as patches\n",
    "import pandas as pd\n",
    "from PIL import Image\n",
    "from pycocotools.coco import COCO\n",
    "import skimage.io\n",
    "\n",
    "%load_ext autoreload\n",
    "%autoreload 2\n",
    "!nvidia-smi\n",
    "\n",
    "import os\n",
    "os.environ['CUDA_VISIBLE_DEVICES'] = \"2\"\n",
    "pd.options.display.max_colwidth = 500"
   ]
  },
  {
   "cell_type": "code",
   "execution_count": null,
   "metadata": {},
   "outputs": [],
   "source": []
  },
  {
   "cell_type": "code",
   "execution_count": null,
   "metadata": {},
   "outputs": [],
   "source": [
    "# load relevant file paths for left & right frames and bbox predictions\n",
    "\n",
    "data_directory_base = '/root/alok/data/'\n",
    "stereo_frame_pairs_directory = os.path.join(data_directory_base, 'annotated_stereo_frame_pairs_2')\n",
    "\n",
    "left_image_file_paths, right_image_file_paths = [], []\n",
    "left_predictions_paths, right_predictions_paths = [], []\n",
    "for directory_name in os.listdir(stereo_frame_pairs_directory):\n",
    "    directory_path = os.path.join(stereo_frame_pairs_directory, directory_name)\n",
    "    left_image_file_path = os.path.join(directory_path, 'input', 'left_frame.jpg')\n",
    "    right_image_file_path = os.path.join(directory_path, 'input', 'right_frame.jpg')\n",
    "    left_predictions_path = os.path.join(directory_path, 'input', 'left_frame.jpg.segmentation.predictions.json')\n",
    "    right_predictions_path = os.path.join(directory_path, 'input', 'right_frame.jpg.segmentation.predictions.json')\n",
    "    \n",
    "    left_image_file_paths.append(left_image_file_path)\n",
    "    right_image_file_paths.append(right_image_file_path)\n",
    "    left_predictions_paths.append(left_predictions_path)\n",
    "    right_predictions_paths.append(right_predictions_path)\n",
    "    \n",
    "    \n",
    "    "
   ]
  },
  {
   "cell_type": "code",
   "execution_count": null,
   "metadata": {},
   "outputs": [],
   "source": []
  },
  {
   "cell_type": "markdown",
   "metadata": {},
   "source": [
    "<h1> Get statistics on body part annotations across fish </h1>"
   ]
  },
  {
   "cell_type": "code",
   "execution_count": null,
   "metadata": {},
   "outputs": [],
   "source": [
    "df = pd.DataFrame()\n",
    "for left_predictions_path, right_predictions_path, left_image_file_path, right_image_file_path in \\\n",
    "    zip(left_predictions_paths, right_predictions_paths, left_image_file_paths, right_image_file_paths):\n",
    "    for side, predictions_path, image_file_path in zip(['left', 'right'], \\\n",
    "                                                       [left_predictions_path, right_predictions_path], \\\n",
    "                                                       [left_image_file_path, right_image_file_path]):\n",
    "        coco = COCO(predictions_path)\n",
    "        categories = coco.cats\n",
    "        annotation_ids = coco.getAnnIds()\n",
    "        annotations = coco.loadAnns(annotation_ids)\n",
    "        row = {i: 0 for i in range(1, 10)}\n",
    "        for annotation in annotations:\n",
    "            row[annotation['category_id']] += 1\n",
    "        row['predictions_path'] = predictions_path\n",
    "        row['image_file_path'] = image_file_path\n",
    "        row['side'] = side\n",
    "        df = df.append(row, ignore_index=True)\n",
    "        "
   ]
  },
  {
   "cell_type": "code",
   "execution_count": null,
   "metadata": {},
   "outputs": [],
   "source": []
  },
  {
   "cell_type": "code",
   "execution_count": null,
   "metadata": {},
   "outputs": [],
   "source": []
  },
  {
   "cell_type": "code",
   "execution_count": null,
   "metadata": {},
   "outputs": [],
   "source": [
    "features = [1, 2, 3, 4, 5, 6, 7, 8, 9]\n",
    "df"
   ]
  },
  {
   "cell_type": "code",
   "execution_count": null,
   "metadata": {},
   "outputs": [],
   "source": []
  },
  {
   "cell_type": "code",
   "execution_count": null,
   "metadata": {},
   "outputs": [],
   "source": []
  },
  {
   "cell_type": "code",
   "execution_count": null,
   "metadata": {},
   "outputs": [],
   "source": []
  },
  {
   "cell_type": "code",
   "execution_count": null,
   "metadata": {},
   "outputs": [],
   "source": []
  },
  {
   "cell_type": "code",
   "execution_count": null,
   "metadata": {},
   "outputs": [],
   "source": [
    "def plot_annotations(image_file_path, predictions_path):\n",
    "    coco = COCO(predictions_path)\n",
    "    image_ids = coco.getImgIds()\n",
    "    image_data = coco.loadImgs(image_ids[0])[0]\n",
    "\n",
    "    # load and display instance annotations\n",
    "    image = skimage.io.imread(image_file_path)\n",
    "    f, ax = plt.subplots(1, figsize=(20, 20))\n",
    "    ax.imshow(image)\n",
    "    ax.axis('off')\n",
    "    annotation_ids = coco.getAnnIds(imgIds=image_data['id'], iscrowd=None)\n",
    "    annotations = coco.loadAnns(annotation_ids)\n",
    "    coco.showAnns(annotations, draw_bbox=True)\n",
    "    for ann in annotations:\n",
    "        bbox = ann['bbox']\n",
    "        rec = patches.Rectangle((bbox[1], bbox[0]), bbox[3]-bbox[1], bbox[2]-bbox[0],\n",
    "                                edgecolor='w', facecolor=None, fill=False, linestyle='--',\n",
    "                                linewidth=2)\n",
    "        ax.add_patch(rec)\n",
    "        category_id = ann['category_id']\n",
    "        ax.text(bbox[1], bbox[0] - 10, category_id, fontsize=16, color='w')"
   ]
  },
  {
   "cell_type": "code",
   "execution_count": null,
   "metadata": {},
   "outputs": [],
   "source": [
    "idx = 0\n",
    "mask = df[1] == 1\n",
    "plot_annotations(df[mask].image_file_path.iloc[idx], df[mask].predictions_path.iloc[idx])"
   ]
  },
  {
   "cell_type": "code",
   "execution_count": null,
   "metadata": {},
   "outputs": [],
   "source": []
  },
  {
   "cell_type": "code",
   "execution_count": null,
   "metadata": {},
   "outputs": [],
   "source": []
  },
  {
   "cell_type": "code",
   "execution_count": null,
   "metadata": {},
   "outputs": [],
   "source": []
  },
  {
   "cell_type": "code",
   "execution_count": null,
   "metadata": {},
   "outputs": [],
   "source": []
  },
  {
   "cell_type": "code",
   "execution_count": null,
   "metadata": {},
   "outputs": [],
   "source": []
  },
  {
   "cell_type": "code",
   "execution_count": null,
   "metadata": {},
   "outputs": [],
   "source": []
  },
  {
   "cell_type": "code",
   "execution_count": null,
   "metadata": {},
   "outputs": [],
   "source": []
  },
  {
   "cell_type": "code",
   "execution_count": null,
   "metadata": {},
   "outputs": [],
   "source": []
  },
  {
   "cell_type": "code",
   "execution_count": null,
   "metadata": {},
   "outputs": [],
   "source": []
  },
  {
   "cell_type": "code",
   "execution_count": null,
   "metadata": {},
   "outputs": [],
   "source": []
  },
  {
   "cell_type": "code",
   "execution_count": null,
   "metadata": {},
   "outputs": [],
   "source": []
  },
  {
   "cell_type": "code",
   "execution_count": null,
   "metadata": {},
   "outputs": [],
   "source": []
  },
  {
   "cell_type": "code",
   "execution_count": null,
   "metadata": {},
   "outputs": [],
   "source": []
  },
  {
   "cell_type": "code",
   "execution_count": null,
   "metadata": {},
   "outputs": [],
   "source": []
  },
  {
   "cell_type": "code",
   "execution_count": null,
   "metadata": {},
   "outputs": [],
   "source": []
  },
  {
   "cell_type": "code",
   "execution_count": null,
   "metadata": {},
   "outputs": [],
   "source": []
  }
 ],
 "metadata": {
  "kernelspec": {
   "display_name": "Python 2",
   "language": "python",
   "name": "python2"
  },
  "language_info": {
   "codemirror_mode": {
    "name": "ipython",
    "version": 2
   },
   "file_extension": ".py",
   "mimetype": "text/x-python",
   "name": "python",
   "nbconvert_exporter": "python",
   "pygments_lexer": "ipython2",
   "version": "2.7.12"
  }
 },
 "nbformat": 4,
 "nbformat_minor": 2
}
