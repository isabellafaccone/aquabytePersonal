{
 "cells": [
  {
   "cell_type": "code",
   "execution_count": null,
   "metadata": {},
   "outputs": [],
   "source": [
    "import pandas as pd\n",
    "import numpy as np\n",
    "from sklearn.decomposition import PCA\n",
    "from sklearn import cross_validation\n",
    "import matplotlib.pyplot as plt\n",
    "import statsmodels.api as sm\n",
    "import scipy.stats as stats"
   ]
  },
  {
   "cell_type": "code",
   "execution_count": null,
   "metadata": {},
   "outputs": [],
   "source": [
    "# df = pd.read_csv('/root/thomas/github/cv_research/thomas/full_pipeline/small_pen/dataset_predictions_complete.csv')\n",
    "df = pd.read_csv('/root/data/small_pen_data_collection/dataset_13k_pairs.csv')"
   ]
  },
  {
   "cell_type": "code",
   "execution_count": null,
   "metadata": {},
   "outputs": [],
   "source": [
    "features = ['Unnamed: 0', '23', '24', '26', '46', 'ground_truth', 'left_image_key']\n",
    "df = df[features].copy(deep=True)"
   ]
  },
  {
   "cell_type": "code",
   "execution_count": null,
   "metadata": {},
   "outputs": [],
   "source": [
    "df.columns"
   ]
  },
  {
   "cell_type": "code",
   "execution_count": null,
   "metadata": {},
   "outputs": [],
   "source": [
    "\n",
    "print(df.shape)\n",
    "#print(df.isna().sum())\n",
    "\n",
    "new_df = df.drop(columns=[])\n",
    "#new_df = df.drop(columns=['14', '24', '34', '45', '46', '47']) \n",
    "#new_df = new_df.drop(columns=['16', '26', '36', '56', '67']) # '46', \n",
    "\n",
    "print(new_df.isna().sum())\n",
    "\n",
    "new_df = new_df.dropna(subset=new_df.columns[1:-2])\n",
    "\n",
    "print(new_df.shape)\n",
    "\n",
    "\n",
    "my_mean = new_df.mean()\n",
    "#my_sd = np.std(new_df, axis=0)\n",
    "\n",
    "#print(my_mean)\n",
    "\n",
    "means = []\n",
    "stds = []\n",
    "\n",
    "my_columns = new_df.columns[1:-2]\n",
    "\n",
    "print(my_columns)\n",
    "\n",
    "norm_df = new_df.copy()\n",
    "\n",
    "iqrs = {}\n",
    "for x in my_columns:\n",
    "    my_mean = new_df[x].median()\n",
    "    my_std = new_df[x].std()\n",
    "    my_iqr = stats.iqr(new_df[x])\n",
    "    \n",
    "    means.append(my_mean)\n",
    "    stds.append(my_std)\n",
    "    \n",
    "    #print(my_mean)\n",
    "    #print(my_std)\n",
    "    #print((new_df[x] - my_mean) / my_std)\n",
    "    \n",
    "    my_row = new_df[x].copy()\n",
    "    new_df[x] = my_row / my_iqr\n",
    "    iqrs[x] = my_iqr\n",
    "    norm_df[x] = (my_row - my_mean) / my_std\n",
    "    \n",
    "#norm_df"
   ]
  },
  {
   "cell_type": "code",
   "execution_count": null,
   "metadata": {},
   "outputs": [],
   "source": [
    "pd.groupby(alok_new_df, 'ground_truth')['23'].mean()"
   ]
  },
  {
   "cell_type": "code",
   "execution_count": null,
   "metadata": {},
   "outputs": [],
   "source": []
  },
  {
   "cell_type": "code",
   "execution_count": null,
   "metadata": {},
   "outputs": [],
   "source": []
  },
  {
   "cell_type": "code",
   "execution_count": null,
   "metadata": {},
   "outputs": [],
   "source": [
    "df.iloc[:, 1:-2].shape"
   ]
  },
  {
   "cell_type": "code",
   "execution_count": null,
   "metadata": {},
   "outputs": [],
   "source": [
    "my_df = new_df.loc[:, new_df.columns[1]:new_df.columns[-3]]\n",
    "my_norm_df = norm_df.loc[:, new_df.columns[1]:new_df.columns[-3]]\n",
    "\n",
    "array_subset = (np.abs(my_norm_df) > 1.5).any(axis=1) == False\n",
    "\n",
    "print('Keeping %i of %i' % (np.sum(array_subset), my_norm_df.shape[0]))\n",
    "\n",
    "my_df = my_df.loc[array_subset, :]\n",
    "\n",
    "#Y = new_df['ground_truth']\n",
    "Y = new_df['ground_truth'][array_subset]\n",
    "print(my_df.shape)\n",
    "#my_df_X = np.hstack((my_df, my_df ** 2, my_df ** 3))\n",
    "pidx = np.indices((my_df.shape[1], my_df.shape[1])).reshape(2, -1)\n",
    "lcol = pd.MultiIndex.from_product([my_df.columns, my_df.columns],\n",
    "                                  names=[my_df.columns.name, my_df.columns.name])\n",
    "my_df_X = pd.DataFrame(my_df.values[:, pidx[0]] * my_df.values[:, pidx[1]],\n",
    "             columns=lcol)\n",
    "print(my_df_X.shape)\n",
    "#my_df_X = np.hstack(( my_df_X))\n",
    "\n",
    "# my_df_X = sm.add_constant(my_df_X)\n",
    "print(my_df_X.shape)              "
   ]
  },
  {
   "cell_type": "code",
   "execution_count": null,
   "metadata": {},
   "outputs": [],
   "source": [
    "alok_new_df = new_df.loc[array_subset, :]"
   ]
  },
  {
   "cell_type": "code",
   "execution_count": null,
   "metadata": {},
   "outputs": [],
   "source": [
    "pd.groupby(alok_new_df, 'ground_truth').count()"
   ]
  },
  {
   "cell_type": "code",
   "execution_count": null,
   "metadata": {},
   "outputs": [],
   "source": []
  },
  {
   "cell_type": "code",
   "execution_count": null,
   "metadata": {},
   "outputs": [],
   "source": [
    "pidx.shape"
   ]
  },
  {
   "cell_type": "code",
   "execution_count": null,
   "metadata": {},
   "outputs": [],
   "source": [
    "lcol.shape"
   ]
  },
  {
   "cell_type": "code",
   "execution_count": null,
   "metadata": {},
   "outputs": [],
   "source": []
  },
  {
   "cell_type": "code",
   "execution_count": null,
   "metadata": {},
   "outputs": [],
   "source": [
    "my_df_X.shape"
   ]
  },
  {
   "cell_type": "code",
   "execution_count": null,
   "metadata": {},
   "outputs": [],
   "source": [
    "pca = PCA(n_components=6)\n",
    "\n",
    "pca.fit(my_df_X)\n",
    "newX = pca.transform(my_df_X)\n",
    "# new_X_compare = pca.fit_transform(my_df_X)"
   ]
  },
  {
   "cell_type": "code",
   "execution_count": null,
   "metadata": {},
   "outputs": [],
   "source": [
    "newX"
   ]
  },
  {
   "cell_type": "code",
   "execution_count": null,
   "metadata": {},
   "outputs": [],
   "source": [
    "plt.scatter(newX[:, 0], newX[:, 1])\n",
    "plt.show()"
   ]
  },
  {
   "cell_type": "code",
   "execution_count": null,
   "metadata": {},
   "outputs": [],
   "source": [
    "eigenvalues = pca.explained_variance_ratio_\n",
    "print(np.sum(eigenvalues))"
   ]
  },
  {
   "cell_type": "code",
   "execution_count": null,
   "metadata": {},
   "outputs": [],
   "source": [
    "components = pca.components_\n",
    "\n",
    "newX = np.dot(my_df_X, components.T)\n",
    "\n",
    "print(components.shape)\n",
    "\n",
    "newX\n",
    "\n",
    "#outlierIndices = np.where(newX[:,0] > 10)\n",
    "#my_indices = my_df.index[outlierIndices[0]]\n",
    "\n",
    "\n",
    "#my_df.loc[my_indices,:]"
   ]
  },
  {
   "cell_type": "code",
   "execution_count": null,
   "metadata": {},
   "outputs": [],
   "source": [
    "newX.shape"
   ]
  },
  {
   "cell_type": "code",
   "execution_count": null,
   "metadata": {},
   "outputs": [],
   "source": [
    "plt.scatter(newX[:,0], Y)#plt.scatter(np.log(newX[:,0]),np.log(Y))\n",
    "plt.show()"
   ]
  },
  {
   "cell_type": "code",
   "execution_count": null,
   "metadata": {},
   "outputs": [],
   "source": [
    "#myX = newX[:, 0]\n",
    "myX = newX\n",
    "myY = Y\n",
    "\n",
    "plt.scatter(newX[:, 0], Y)\n",
    "plt.show()\n",
    "\n",
    "# myX = sm.add_constant(myX)\n",
    "\n",
    "print(myX.shape)\n",
    "print(myY.shape)\n",
    "\n",
    "model = sm.OLS(myY, myX).fit()\n",
    "predictions = model.predict(myX) # make the predictions by the model\n",
    "\n",
    "print(model.params.shape)\n",
    "#print(model.summary())\n",
    "\n",
    "predY = predictions\n",
    "#predY = np.exp(predictions)\n",
    "\n",
    "#model.summary()\n",
    "\n",
    "error = predY - myY\n",
    "\n",
    "plt.scatter(Y, predY)\n",
    "\n",
    "res = model.resid\n",
    "fig = sm.qqplot(res, fit=True, line='45')\n",
    "\n",
    "plt.show()\n",
    "\n",
    "print('Error: %0.2f' % (np.median(np.abs(error)), ))\n",
    "print('Pct Error: %0.2f' % (np.median(np.abs(error) / myY * 100), ))\n"
   ]
  },
  {
   "cell_type": "code",
   "execution_count": null,
   "metadata": {},
   "outputs": [],
   "source": [
    "model.save('/root/data/models/biomass/model.pickle')"
   ]
  },
  {
   "cell_type": "code",
   "execution_count": null,
   "metadata": {},
   "outputs": [],
   "source": [
    "np.save('/root/data/models/biomass/components.npy', components)"
   ]
  },
  {
   "cell_type": "code",
   "execution_count": null,
   "metadata": {},
   "outputs": [],
   "source": [
    "components.shape"
   ]
  },
  {
   "cell_type": "code",
   "execution_count": null,
   "metadata": {},
   "outputs": [],
   "source": []
  },
  {
   "cell_type": "code",
   "execution_count": null,
   "metadata": {},
   "outputs": [],
   "source": []
  },
  {
   "cell_type": "code",
   "execution_count": null,
   "metadata": {},
   "outputs": [],
   "source": [
    "from collections import Counter"
   ]
  },
  {
   "cell_type": "code",
   "execution_count": null,
   "metadata": {},
   "outputs": [],
   "source": [
    "Counter(list(Y)).most_common()"
   ]
  },
  {
   "cell_type": "code",
   "execution_count": null,
   "metadata": {},
   "outputs": [],
   "source": [
    "def cross_validation_per_fish(dataframe, Y, test_size = 0.2):\n",
    "    nsamples = len(list(Y))\n",
    "    most_common_list = Counter(list(Y)).most_common()\n",
    "    \n",
    "    np.random.shuffle(most_common_list)\n",
    "    \n",
    "    train_fish_ids = []\n",
    "    test_fish_ids = []\n",
    "    train_counter = 0\n",
    "    for mc in most_common_list:\n",
    "        train_counter += mc[1]\n",
    "        if train_counter < nsamples * (1 - test_size):\n",
    "            train_fish_ids.append(mc[0])\n",
    "        else:\n",
    "            test_fish_ids.append(mc[0])\n",
    "    # create the datasets\n",
    "    train_index = []\n",
    "    test_index = []\n",
    "    for (i, v) in enumerate(Y):\n",
    "        if v in train_fish_ids:\n",
    "            train_index.append(i)\n",
    "        else:\n",
    "            test_index.append(i)\n",
    "#     print(train_index)\n",
    "#     print(test_index)\n",
    "    X_train = dataframe.iloc[train_index, :]\n",
    "    Y_train = Y.iloc[train_index]\n",
    "    X_test = dataframe.iloc[test_index, :]\n",
    "    Y_test = Y.iloc[test_index]\n",
    "    return X_train, X_test, Y_train, Y_test"
   ]
  },
  {
   "cell_type": "code",
   "execution_count": null,
   "metadata": {},
   "outputs": [],
   "source": [
    "X_train, X_test, Y_train, Y_test = cross_validation_per_fish(my_df_X, Y)"
   ]
  },
  {
   "cell_type": "code",
   "execution_count": null,
   "metadata": {},
   "outputs": [],
   "source": []
  },
  {
   "cell_type": "code",
   "execution_count": null,
   "metadata": {},
   "outputs": [],
   "source": [
    "def getError(n_components, k):\n",
    "    errors = []\n",
    "    avg_errors = []\n",
    "    avg_errors_raw = []\n",
    "    error_pcts = []\n",
    "    \n",
    "    for i in range(k):\n",
    "        # X_train, X_test, y_train, y_test = cross_validation.train_test_split(my_df_X, Y, test_size=0.4)\n",
    "        X_train, X_test, y_train, y_test = cross_validation_per_fish(my_df_X, Y)\n",
    "        \n",
    "        pca = PCA(n_components=n_components)\n",
    "        \n",
    "        pca.fit(X_train)\n",
    "        \n",
    "        components = pca.components_\n",
    "\n",
    "        newX = np.dot(X_train, components.T)\n",
    "\n",
    "        #newX = pca.fit_transform(X_train)\n",
    "        model = sm.OLS(y_train, newX).fit()\n",
    "        \n",
    "        newX_test = np.dot(X_test, components.T)\n",
    "        #X_test = pca.transform(X_test)\n",
    "        \n",
    "        predY = model.predict(newX_test)\n",
    "        error = predY - y_test\n",
    "\n",
    "        errors.append(np.median(np.abs(error)))\n",
    "        avg_errors.append(np.abs(np.mean(error)) / np.mean(y_test) * 100)\n",
    "        avg_errors_raw.append(np.mean(error) / np.mean(y_test) * 100)\n",
    "        error_pcts.append(np.median(np.abs(error) / y_test * 100))\n",
    "    \n",
    "    return (np.mean(errors), np.mean(avg_errors), avg_errors_raw, np.mean(error_pcts))"
   ]
  },
  {
   "cell_type": "code",
   "execution_count": null,
   "metadata": {},
   "outputs": [],
   "source": [
    "#n_eigens = [5, 10, 15, 20, 25, 30, 35, 40, 50, 60, 70, 80, 90, 100]\n",
    "n_eigens = range(1, 10)\n",
    "\n",
    "errors = []\n",
    "avg_errors_raws = []\n",
    "\n",
    "for n_eigen in n_eigens:\n",
    "    myError = getError(n_eigen, 50)\n",
    "    errors.append(myError[3])\n",
    "    avg_errors_raws.append(myError[2])    \n",
    "    #print(myError)\n",
    "    print('Achieve %0.2f with %i eigenvectors' % (myError[1], n_eigen))\n",
    "    \n",
    "#print(avg_errors_raws[1])\n",
    "plt.plot(avg_errors_raws[1])\n",
    "plt.show()\n",
    "\n",
    "print(.4 * newX.shape[0])\n",
    "\n",
    "# plt.plot(n_eigens, errors)\n",
    "# plt.xlabel('Number of regressors')\n",
    "# plt.ylabel('Median error %')\n",
    "# plt.show()\n"
   ]
  },
  {
   "cell_type": "code",
   "execution_count": null,
   "metadata": {},
   "outputs": [],
   "source": [
    "'''\n",
    "Extensions to this\n",
    "- Try different filtering based off of total norm of covariance of eigenvectors\n",
    "- More data\n",
    "'''"
   ]
  },
  {
   "cell_type": "code",
   "execution_count": null,
   "metadata": {},
   "outputs": [],
   "source": []
  },
  {
   "cell_type": "code",
   "execution_count": null,
   "metadata": {},
   "outputs": [],
   "source": []
  },
  {
   "cell_type": "code",
   "execution_count": null,
   "metadata": {},
   "outputs": [],
   "source": []
  },
  {
   "cell_type": "code",
   "execution_count": null,
   "metadata": {},
   "outputs": [],
   "source": []
  },
  {
   "cell_type": "code",
   "execution_count": null,
   "metadata": {},
   "outputs": [],
   "source": []
  },
  {
   "cell_type": "code",
   "execution_count": null,
   "metadata": {},
   "outputs": [],
   "source": []
  }
 ],
 "metadata": {
  "kernelspec": {
   "display_name": "Python 3",
   "language": "python",
   "name": "python3"
  },
  "language_info": {
   "codemirror_mode": {
    "name": "ipython",
    "version": 3
   },
   "file_extension": ".py",
   "mimetype": "text/x-python",
   "name": "python",
   "nbconvert_exporter": "python",
   "pygments_lexer": "ipython3",
   "version": "3.5.2"
  }
 },
 "nbformat": 4,
 "nbformat_minor": 2
}
