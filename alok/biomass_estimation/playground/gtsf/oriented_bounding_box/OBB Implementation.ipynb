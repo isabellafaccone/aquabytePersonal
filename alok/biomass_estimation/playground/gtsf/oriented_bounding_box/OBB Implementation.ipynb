{
 "cells": [
  {
   "cell_type": "code",
   "execution_count": null,
   "metadata": {},
   "outputs": [],
   "source": [
    "from math import pi, cos, sin, sqrt\n",
    "import sys\n",
    "sys.path.append('/root/alok/repos/cv_research/alok')\n",
    "\n",
    "from matplotlib import pyplot as plt\n",
    "import numpy as np\n",
    "import pandas as pd\n",
    "from PIL import Image\n",
    "from mpl_toolkits.mplot3d import Axes3D\n",
    "import statsmodels.api as sm\n",
    "from obb import OBB\n",
    "from biomass_utils.points_of_interest import get_data, get_depth_cutoff, get_points_of_interest, distance_between_points"
   ]
  },
  {
   "cell_type": "code",
   "execution_count": null,
   "metadata": {},
   "outputs": [],
   "source": [
    "np.median(np.array([1, 2, 3]))"
   ]
  },
  {
   "cell_type": "code",
   "execution_count": null,
   "metadata": {},
   "outputs": [],
   "source": [
    "data_dir_base = '/root/data/blender_v3'\n",
    "idx = 8\n",
    "\n",
    "data = get_data(data_dir_base, idx)\n",
    "point_cloud, mask, annotation, image = data['point_cloud'], data['mask'], data['annotation_data'], data['image']\n",
    "\n",
    "# clean mask\n",
    "i_values, j_values = np.where(mask > 0)\n",
    "j_min, j_max = np.min(j_values), np.max(j_values)\n",
    "for j in xrange(j_min, j_max+1):\n",
    "    i_values = np.where(mask[:, j] > 0)[0]\n",
    "    i_min, i_max = np.min(i_values), np.max(i_values)\n",
    "    i_min_depth_value_mean = point_cloud[:,:,1][i_min-5:i_min+5, j].mean()\n",
    "    i_max_depth_value_mean = point_cloud[:,:,1][i_max-5:i_max+5, j].mean()\n",
    "    cutoff_depth_value = min(i_min_depth_value_mean, i_max_depth_value_mean)\n",
    "    mask[:, j] = mask[:, j] * (point_cloud[:,:,1][:, j] < cutoff_depth_value)\n",
    "\n",
    "fish_point_cloud = point_cloud[mask > 0]\n",
    "depth_histogram = np.histogram(fish_point_cloud[:,1])\n",
    "obb, eigen_vectors = OBB.build_from_points([(p[0], p[1], p[2]) for p in fish_point_cloud])\n",
    "obb_points = np.array(obb.points)"
   ]
  },
  {
   "cell_type": "code",
   "execution_count": null,
   "metadata": {},
   "outputs": [],
   "source": [
    "[(p[0], p[1], p[2]) for p in fish_point_cloud]"
   ]
  },
  {
   "cell_type": "code",
   "execution_count": null,
   "metadata": {},
   "outputs": [],
   "source": [
    "length = np.linalg.norm(obb_points[0] - obb_points[1])\n",
    "width = np.linalg.norm(obb_points[0] - obb_points[3])\n",
    "height = np.linalg.norm(obb_points[0] - obb_points[5])\n",
    "print(length, width, height)\n",
    "print(annotation['length'])\n",
    "print(annotation['width'])\n",
    "print(annotation['height'])"
   ]
  },
  {
   "cell_type": "code",
   "execution_count": null,
   "metadata": {},
   "outputs": [],
   "source": [
    "fig = plt.figure()\n",
    "ax = Axes3D(fig)\n",
    "\n",
    "# get x, y, and z lists\n",
    "x_values = list(fish_point_cloud[:,0]) + list(obb_points[:,0])\n",
    "y_values = list(fish_point_cloud[:,1]) + list(obb_points[:,1])\n",
    "z_values = list(fish_point_cloud[:,2]) + list(obb_points[:,2])\n",
    "\n",
    "ax.scatter(x_values, y_values, z_values)\n",
    "# ax.view_init(30, 40)\n",
    "for point_pair in [(0, 1), (1, 2), (2, 3), (3, 0), \\\n",
    "                   (4, 5), (5, 6), (6, 7), (7, 4), \\\n",
    "                   (0, 5), (1, 4), (2, 7), (3, 6)]:\n",
    "    i, j = point_pair\n",
    "    edge_x_values = [obb_points[i][0], obb_points[j][0]]\n",
    "    edge_y_values = [obb_points[i][1], obb_points[j][1]]\n",
    "    edge_z_values = [obb_points[i][2], obb_points[j][2]]\n",
    "    ax.plot(edge_x_values, edge_y_values, edge_z_values)\n",
    "# ax.plot([0, 30*eigen_vectors[0][0]], [0, 30*eigen_vectors[0][1]], [0, 30*eigen_vectors[0][2]])\n",
    "# ax.plot([0, 30*eigen_vectors[1][0]], [0, 30*eigen_vectors[1][1]], [0, 30*eigen_vectors[1][2]])\n",
    "# ax.plot([0, 30*eigen_vectors[2][0]], [0, 30*eigen_vectors[2][1]], [0, 30*eigen_vectors[2][2]])\n",
    "plt.show()"
   ]
  },
  {
   "cell_type": "code",
   "execution_count": null,
   "metadata": {},
   "outputs": [],
   "source": []
  },
  {
   "cell_type": "code",
   "execution_count": null,
   "metadata": {},
   "outputs": [],
   "source": []
  },
  {
   "cell_type": "code",
   "execution_count": null,
   "metadata": {},
   "outputs": [],
   "source": [
    "plt.figure(figsize=(20, 20))\n",
    "plt.imshow(data['mask'])"
   ]
  },
  {
   "cell_type": "code",
   "execution_count": null,
   "metadata": {},
   "outputs": [],
   "source": [
    "plt.figure(figsize=(20, 20))\n",
    "plt.imshow(point_cloud[:,:,1])"
   ]
  },
  {
   "cell_type": "code",
   "execution_count": null,
   "metadata": {},
   "outputs": [],
   "source": []
  },
  {
   "cell_type": "code",
   "execution_count": null,
   "metadata": {},
   "outputs": [],
   "source": [
    "Image.open('{}/stereo_images/left_0.png'.format(data_dir_base))"
   ]
  },
  {
   "cell_type": "code",
   "execution_count": null,
   "metadata": {},
   "outputs": [],
   "source": []
  },
  {
   "cell_type": "code",
   "execution_count": null,
   "metadata": {},
   "outputs": [],
   "source": []
  },
  {
   "cell_type": "code",
   "execution_count": null,
   "metadata": {},
   "outputs": [],
   "source": []
  },
  {
   "cell_type": "code",
   "execution_count": null,
   "metadata": {},
   "outputs": [],
   "source": []
  },
  {
   "cell_type": "code",
   "execution_count": null,
   "metadata": {},
   "outputs": [],
   "source": []
  },
  {
   "cell_type": "code",
   "execution_count": null,
   "metadata": {},
   "outputs": [],
   "source": [
    "data_dir_base = '/root/data/blender_v3'\n",
    "idx_max = 5000\n",
    "\n",
    "analysis_df = pd.DataFrame()\n",
    "for idx in range(idx_max):\n",
    "    if idx == 1454:\n",
    "        continue\n",
    "    \n",
    "    if idx % 100 == 0:\n",
    "        print(idx)\n",
    "    \n",
    "    data = get_data(data_dir_base, idx)\n",
    "    point_cloud, mask, annotation, image = data['point_cloud'], data['mask'], data['annotation_data'], data['image']\n",
    "\n",
    "    # clean mask\n",
    "    i_values, j_values = np.where(mask > 0)\n",
    "    j_min, j_max = np.min(j_values), np.max(j_values)\n",
    "    for j in xrange(j_min, j_max+1):\n",
    "        i_values = np.where(mask[:, j] > 0)[0]\n",
    "        i_min, i_max = np.min(i_values), np.max(i_values)\n",
    "        i_min_depth_value_mean = point_cloud[:,:,1][i_min-5:i_min+5, j].mean()\n",
    "        i_max_depth_value_mean = point_cloud[:,:,1][i_max-5:i_max+5, j].mean()\n",
    "        cutoff_depth_value = min(i_min_depth_value_mean, i_max_depth_value_mean)\n",
    "        mask[:, j] = mask[:, j] * (point_cloud[:,:,1][:, j] < cutoff_depth_value)\n",
    "\n",
    "    # get obb\n",
    "    fish_point_cloud = point_cloud[mask > 0]\n",
    "    depth_histogram = np.histogram(fish_point_cloud[:,1])\n",
    "    obb, eigen_vectors = OBB.build_from_points([(p[0], p[1], p[2]) for p in fish_point_cloud])\n",
    "    obb_points = np.array(obb.points)\n",
    "    \n",
    "    # get dimensions    \n",
    "    length = np.linalg.norm(obb_points[0] - obb_points[1])\n",
    "    width = np.linalg.norm(obb_points[0] - obb_points[3])\n",
    "    height = np.linalg.norm(obb_points[0] - obb_points[5])\n",
    "    obb_volume = length * width * height\n",
    "    \n",
    "    row_to_append = {\n",
    "        'ground_truth_length': annotation['length'],\n",
    "        'ground_truth_width': annotation['width'],\n",
    "        'ground_truth_height': annotation['height'],\n",
    "        'ground_truth_volume': annotation['volume'],\n",
    "        'predicted_length': max(length, width, height),\n",
    "        'obb_volume': length * width * height\n",
    "    }\n",
    "    analysis_df = analysis_df.append(row_to_append, ignore_index=True)\n",
    "    \n",
    "    \n",
    "    \n",
    "    "
   ]
  },
  {
   "cell_type": "code",
   "execution_count": null,
   "metadata": {},
   "outputs": [],
   "source": [
    "mask = analysis_df.obb_volume / analysis_df.ground_truth_volume < 6\n",
    "plt.scatter(analysis_df[mask].ground_truth_volume, analysis_df[mask].obb_volume)\n",
    "plt.show()"
   ]
  },
  {
   "cell_type": "code",
   "execution_count": null,
   "metadata": {},
   "outputs": [],
   "source": []
  },
  {
   "cell_type": "code",
   "execution_count": null,
   "metadata": {},
   "outputs": [],
   "source": [
    "features = ['obb_volume']\n",
    "target = 'ground_truth_volume'\n",
    "TRAIN_SIZE = 2500\n",
    "\n",
    "mask = (analysis_df.obb_volume / analysis_df.ground_truth_volume < 6) & (analysis_df.index < TRAIN_SIZE)\n",
    "y = analysis_df.ix[mask, target]\n",
    "X = analysis_df.ix[mask, features]\n",
    "X = sm.add_constant(X)\n",
    "model = sm.OLS(y, X).fit()\n",
    "print(model.summary())\n",
    "\n",
    "A = np.vstack([analysis_df.ix[mask, features].values.T, np.ones(analysis_df[mask].shape[0])]).T\n",
    "res = np.linalg.lstsq(A, analysis_df.ix[mask, target].values)\n",
    "b, a = res[0]"
   ]
  },
  {
   "cell_type": "code",
   "execution_count": null,
   "metadata": {},
   "outputs": [],
   "source": [
    "analysis_df['predicted_volume'] = model.params.const + model.params.obb_volume * analysis_df.obb_volume"
   ]
  },
  {
   "cell_type": "code",
   "execution_count": null,
   "metadata": {},
   "outputs": [],
   "source": [
    "test_mask = (analysis_df.obb_volume / analysis_df.ground_truth_volume < 6) & (analysis_df.index >= TRAIN_SIZE)\n",
    "(analysis_df.ix[test_mask, 'predicted_volume'].mean() - analysis_df.ix[test_mask, 'ground_truth_volume'].mean())/(analysis_df.ix[test_mask, 'ground_truth_volume'].mean())"
   ]
  },
  {
   "cell_type": "code",
   "execution_count": null,
   "metadata": {},
   "outputs": [],
   "source": []
  },
  {
   "cell_type": "code",
   "execution_count": null,
   "metadata": {},
   "outputs": [],
   "source": []
  },
  {
   "cell_type": "code",
   "execution_count": null,
   "metadata": {},
   "outputs": [],
   "source": []
  },
  {
   "cell_type": "code",
   "execution_count": null,
   "metadata": {},
   "outputs": [],
   "source": []
  },
  {
   "cell_type": "code",
   "execution_count": null,
   "metadata": {},
   "outputs": [],
   "source": []
  }
 ],
 "metadata": {
  "kernelspec": {
   "display_name": "Python 2",
   "language": "python",
   "name": "python2"
  },
  "language_info": {
   "codemirror_mode": {
    "name": "ipython",
    "version": 2
   },
   "file_extension": ".py",
   "mimetype": "text/x-python",
   "name": "python",
   "nbconvert_exporter": "python",
   "pygments_lexer": "ipython2",
   "version": "2.7.12"
  }
 },
 "nbformat": 4,
 "nbformat_minor": 2
}
