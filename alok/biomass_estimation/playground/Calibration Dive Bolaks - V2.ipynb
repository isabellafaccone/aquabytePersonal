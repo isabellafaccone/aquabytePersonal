{
 "cells": [
  {
   "cell_type": "code",
   "execution_count": null,
   "metadata": {},
   "outputs": [],
   "source": [
    "import pickle\n",
    "from matplotlib import pyplot as plt\n",
    "import numpy as np\n",
    "import json\n",
    "from sklearn.metrics.pairwise import euclidean_distances\n",
    "import cv2\n",
    "from PIL import Image"
   ]
  },
  {
   "cell_type": "code",
   "execution_count": null,
   "metadata": {},
   "outputs": [],
   "source": []
  },
  {
   "cell_type": "code",
   "execution_count": null,
   "metadata": {},
   "outputs": [],
   "source": [
    "matlab_points = pickle.load(open('/root/data/alok/biomass_estimation/playground/image_to_checkerboard_points_matlab_bolaks.pkl', 'rb'))\n"
   ]
  },
  {
   "cell_type": "code",
   "execution_count": null,
   "metadata": {},
   "outputs": [],
   "source": [
    "left_y_coordinates, right_y_coordinates = [], []\n",
    "for key in list(matlab_points.keys()):\n",
    "    left_y_coordinates.extend(list(matlab_points[key]['left_corners'][:, 1]))\n",
    "    right_y_coordinates.extend(list(matlab_points[key]['right_corners'][:, 1]))\n",
    "left_y_coordinates = np.array(left_y_coordinates)\n",
    "right_y_coordinates = np.array(right_y_coordinates)\n",
    "print('Mean y-coordinate deviation: {}'.format(np.mean(left_y_coordinates - right_y_coordinates)))"
   ]
  },
  {
   "cell_type": "code",
   "execution_count": null,
   "metadata": {},
   "outputs": [],
   "source": [
    "matlab_df = pickle.load(open('/root/data/alok/biomass_estimation/playground/analysis_df_bolaks.pkl', 'rb'))"
   ]
  },
  {
   "cell_type": "code",
   "execution_count": null,
   "metadata": {},
   "outputs": [],
   "source": [
    "plt.figure(figsize=(20, 10))\n",
    "plt.hist(matlab_df[matlab_df.deviation.abs() < 10].deviation)\n",
    "plt.xlabel('Deviation (mm)')\n",
    "plt.ylabel('Frequency')\n",
    "plt.grid()\n",
    "plt.show()"
   ]
  },
  {
   "cell_type": "code",
   "execution_count": null,
   "metadata": {},
   "outputs": [],
   "source": []
  },
  {
   "cell_type": "code",
   "execution_count": null,
   "metadata": {},
   "outputs": [],
   "source": []
  },
  {
   "cell_type": "code",
   "execution_count": null,
   "metadata": {},
   "outputs": [],
   "source": [
    "left_y_coordinates - right_y_coordinates"
   ]
  },
  {
   "cell_type": "code",
   "execution_count": null,
   "metadata": {},
   "outputs": [],
   "source": []
  },
  {
   "cell_type": "code",
   "execution_count": null,
   "metadata": {},
   "outputs": [],
   "source": []
  },
  {
   "cell_type": "code",
   "execution_count": null,
   "metadata": {},
   "outputs": [],
   "source": [
    "(matlab_left - matlab_right) - (circular_left - circular_right)"
   ]
  },
  {
   "cell_type": "code",
   "execution_count": null,
   "metadata": {},
   "outputs": [],
   "source": []
  },
  {
   "cell_type": "code",
   "execution_count": null,
   "metadata": {},
   "outputs": [],
   "source": [
    "matlab_wcm = pickle.load(open('/root/data/alok/biomass_estimation/playground/wcm_matlab.pkl', 'rb'))\n",
    "circular_wcm = pickle.load(open('/root/data/alok/biomass_estimation/playground/wcm_circular.pkl', 'rb'))"
   ]
  },
  {
   "cell_type": "code",
   "execution_count": null,
   "metadata": {},
   "outputs": [],
   "source": []
  },
  {
   "cell_type": "code",
   "execution_count": null,
   "metadata": {},
   "outputs": [],
   "source": []
  },
  {
   "cell_type": "code",
   "execution_count": null,
   "metadata": {},
   "outputs": [],
   "source": [
    "diffs = np.squeeze(1e3 * (euclidean_distances(world_coordinate_matrix_matlab) - euclidean_distances(world_coordinate_matrix_circular))).flatten()"
   ]
  },
  {
   "cell_type": "code",
   "execution_count": null,
   "metadata": {},
   "outputs": [],
   "source": [
    "ds = []\n",
    "for i in range(world_coordinate_matrix_matlab.shape[0]):\n",
    "    for j in range(i+1, world_coordinate_matrix_matlab.shape[0]):\n",
    "        d = np.linalg.norm(world_coordinate_matrix_matlab[i, :] - world_coordinate_matrix_matlab[j, :])\n",
    "        ds.append(d)\n",
    "        \n",
    "ds = np.array(ds)\n",
    "diffs = 1e3 * ds - matlab_df.ground_truth_distance_mms.values\n",
    "plt.hist(diffs)\n",
    "plt.show()"
   ]
  },
  {
   "cell_type": "code",
   "execution_count": null,
   "metadata": {},
   "outputs": [],
   "source": [
    "circular_params"
   ]
  },
  {
   "cell_type": "code",
   "execution_count": null,
   "metadata": {},
   "outputs": [],
   "source": []
  },
  {
   "cell_type": "code",
   "execution_count": null,
   "metadata": {},
   "outputs": [],
   "source": [
    "ds = []\n",
    "for i in range(world_coordinate_matrix_circular.shape[0]):\n",
    "    for j in range(i+1, world_coordinate_matrix_circular.shape[0]):\n",
    "        d = np.linalg.norm(world_coordinate_matrix_circular[i, :] - world_coordinate_matrix_circular[j, :])\n",
    "        ds.append(d)\n",
    "        \n",
    "ds = np.array(ds)\n",
    "diffs = 1e3 * ds - circular_df.ground_truth_distance_mms.values\n",
    "plt.hist(diffs)\n",
    "plt.show()"
   ]
  },
  {
   "cell_type": "code",
   "execution_count": null,
   "metadata": {},
   "outputs": [],
   "source": []
  },
  {
   "cell_type": "code",
   "execution_count": null,
   "metadata": {},
   "outputs": [],
   "source": [
    "diffs = np.squeeze(1e3 * (euclidean_distances(matlab_wcm[0]) - euclidean_distances(circular_wcm[0]))).flatten()"
   ]
  },
  {
   "cell_type": "code",
   "execution_count": null,
   "metadata": {},
   "outputs": [],
   "source": [
    "plt.hist(diffs)\n",
    "plt.show()"
   ]
  },
  {
   "cell_type": "code",
   "execution_count": null,
   "metadata": {},
   "outputs": [],
   "source": []
  },
  {
   "cell_type": "code",
   "execution_count": null,
   "metadata": {},
   "outputs": [],
   "source": []
  },
  {
   "cell_type": "code",
   "execution_count": null,
   "metadata": {},
   "outputs": [],
   "source": []
  },
  {
   "cell_type": "code",
   "execution_count": null,
   "metadata": {},
   "outputs": [],
   "source": [
    "matlab_params = json.load(open('/root/data/alok/biomass_estimation/playground/2020-01-14T00_00_00Z_L40013180_R40029775_stereo-parameters.json'))\n",
    "circular_params = json.load(open('/root/data/alok/biomass_estimation/playground/EstimatedStereoCamParams_L40013180_R40029775.json'))"
   ]
  },
  {
   "cell_type": "code",
   "execution_count": null,
   "metadata": {},
   "outputs": [],
   "source": [
    "matlab_params['TranslationOfCamera2']"
   ]
  },
  {
   "cell_type": "code",
   "execution_count": null,
   "metadata": {},
   "outputs": [],
   "source": [
    "circular_params['TranslationOfCamera2']"
   ]
  },
  {
   "cell_type": "code",
   "execution_count": null,
   "metadata": {},
   "outputs": [],
   "source": [
    "matlab_params['CameraParameters1']['FocalLength']"
   ]
  },
  {
   "cell_type": "code",
   "execution_count": null,
   "metadata": {},
   "outputs": [],
   "source": [
    "circular_params['CameraParameters1']['FocalLength']"
   ]
  },
  {
   "cell_type": "code",
   "execution_count": null,
   "metadata": {},
   "outputs": [],
   "source": []
  },
  {
   "cell_type": "code",
   "execution_count": null,
   "metadata": {},
   "outputs": [],
   "source": [
    "(matlab_params['CameraParameters1']['FocalLength'][0] * matlab_params['TranslationOfCamera2'][0]) / 608"
   ]
  },
  {
   "cell_type": "code",
   "execution_count": null,
   "metadata": {},
   "outputs": [],
   "source": [
    "circular_params['CameraParameters1']['FocalLength'][0] * circular_params['TranslationOfCamera2'][0] / 600"
   ]
  },
  {
   "cell_type": "code",
   "execution_count": null,
   "metadata": {},
   "outputs": [],
   "source": []
  },
  {
   "cell_type": "code",
   "execution_count": null,
   "metadata": {},
   "outputs": [],
   "source": [
    "plt.figure(figsize=(20, 10))\n",
    "plt.hist(matlab_df[matlab_df.deviation.abs() < 10].deviation)\n",
    "plt.xlabel('Deviation (mm)')\n",
    "plt.ylabel('Frequency')\n",
    "plt.grid()\n",
    "plt.show()"
   ]
  },
  {
   "cell_type": "code",
   "execution_count": null,
   "metadata": {},
   "outputs": [],
   "source": [
    "matlab_df = pickle.load(open('/root/data/alok/biomass_estimation/playground/analysis_df_bolaks.pkl', 'rb'))\n"
   ]
  },
  {
   "cell_type": "code",
   "execution_count": null,
   "metadata": {},
   "outputs": [],
   "source": [
    "plt.hist(matlab_df.predicted_distance_mms - matlab_df.ground_truth_distance_mms, bins=100)\n",
    "plt.show()"
   ]
  },
  {
   "cell_type": "code",
   "execution_count": null,
   "metadata": {},
   "outputs": [],
   "source": [
    "plt.hist(circular_df.predicted_distance_mms - circular_df.ground_truth_distance_mms)\n",
    "plt.show()"
   ]
  },
  {
   "cell_type": "code",
   "execution_count": null,
   "metadata": {},
   "outputs": [],
   "source": []
  },
  {
   "cell_type": "code",
   "execution_count": null,
   "metadata": {},
   "outputs": [],
   "source": [
    "((0.605)**3 - (0.60)**3) / (0.60)**3"
   ]
  },
  {
   "cell_type": "code",
   "execution_count": null,
   "metadata": {},
   "outputs": [],
   "source": []
  },
  {
   "cell_type": "code",
   "execution_count": null,
   "metadata": {},
   "outputs": [],
   "source": []
  },
  {
   "cell_type": "code",
   "execution_count": null,
   "metadata": {},
   "outputs": [],
   "source": [
    "circular_cameraMatrix1 = np.array(circular_params['CameraParameters1']['IntrinsicMatrix']).transpose() \n",
    "circular_cameraMatrix2 = np.array(circular_params['CameraParameters2']['IntrinsicMatrix']).transpose()"
   ]
  },
  {
   "cell_type": "code",
   "execution_count": null,
   "metadata": {},
   "outputs": [],
   "source": [
    "matlab_cameraMatrix1 = np.array(matlab_params['CameraParameters1']['IntrinsicMatrix']).transpose() \n",
    "matlab_cameraMatrix2 = np.array(matlab_params['CameraParameters2']['IntrinsicMatrix']).transpose()\n",
    "R = np.array(matlab_params['RotationOfCamera2']).transpose()\n",
    "T = np.array(matlab_params['TranslationOfCamera2']).transpose()\n",
    "world_checkerboard_points_list = []\n",
    "for left_corners, right_corners in zip(matlab_left, matlab_right):\n",
    "    P1 = np.dot(matlab_cameraMatrix1, np.hstack([np.eye(3), np.array([[0], [0], [0]])]))\n",
    "    P2 = np.dot(matlab_cameraMatrix2, np.hstack([R, T[:, np.newaxis]]))\n",
    "    wcp = cv2.triangulatePoints(P1, P2, left_corners, right_corners).T\n",
    "    world_checkerboard_points = wcp[:,:3] / wcp[:,3, None]\n",
    "    world_checkerboard_points_list.append(world_checkerboard_points)\n",
    "    \n",
    "world_coordinate_matrix_matlab = np.empty([len(world_checkerboard_points_list), 3])\n",
    "for i, world_checkerboard_points in enumerate(world_checkerboard_points_list):\n",
    "        world_coordinate_matrix_matlab[i, :] = world_checkerboard_points\n",
    "\n",
    "world_coordinate_matrix_matlab = np.array([world_coordinate_matrix_matlab[:, 0],\n",
    "                                           world_coordinate_matrix_matlab[:, 2],\n",
    "                                           -world_coordinate_matrix_matlab[:, 1]]).T * 1e-3"
   ]
  },
  {
   "cell_type": "code",
   "execution_count": null,
   "metadata": {},
   "outputs": [],
   "source": [
    "circular_cameraMatrix1 = np.array(circular_params['CameraParameters1']['IntrinsicMatrix']).transpose() \n",
    "circular_cameraMatrix2 = np.array(circular_params['CameraParameters2']['IntrinsicMatrix']).transpose()\n",
    "R = np.array(circular_params['RotationOfCamera2']).transpose()\n",
    "T = np.array(circular_params['TranslationOfCamera2']).transpose()\n",
    "world_checkerboard_points_list = []\n",
    "for left_corners, right_corners in zip(circular_left, circular_right):\n",
    "    P1 = np.dot(circular_cameraMatrix1, np.hstack([np.eye(3), np.array([[0], [0], [0]])]))\n",
    "    P2 = np.dot(circular_cameraMatrix2, np.hstack([R, T[:, np.newaxis]]))\n",
    "    wcp = cv2.triangulatePoints(P1, P2, left_corners, right_corners).T\n",
    "    world_checkerboard_points = wcp[:,:3] / wcp[:,3, None]\n",
    "    world_checkerboard_points_list.append(world_checkerboard_points)\n",
    "    \n",
    "world_coordinate_matrix_circular = np.empty([len(world_checkerboard_points_list), 3])\n",
    "for i, world_checkerboard_points in enumerate(world_checkerboard_points_list):\n",
    "        world_coordinate_matrix_circular[i, :] = world_checkerboard_points\n",
    "\n",
    "world_coordinate_matrix_circular = np.array([world_coordinate_matrix_circular[:, 0],\n",
    "                                             world_coordinate_matrix_circular[:, 2],\n",
    "                                             -world_coordinate_matrix_circular[:, 1]]).T * 1e-3"
   ]
  },
  {
   "cell_type": "code",
   "execution_count": null,
   "metadata": {},
   "outputs": [],
   "source": [
    "(world_coordinate_matrix_circular - circular_wcm) * 1e3"
   ]
  },
  {
   "cell_type": "code",
   "execution_count": null,
   "metadata": {},
   "outputs": [],
   "source": []
  },
  {
   "cell_type": "code",
   "execution_count": null,
   "metadata": {},
   "outputs": [],
   "source": []
  },
  {
   "cell_type": "code",
   "execution_count": null,
   "metadata": {},
   "outputs": [],
   "source": []
  },
  {
   "cell_type": "code",
   "execution_count": null,
   "metadata": {},
   "outputs": [],
   "source": []
  },
  {
   "cell_type": "code",
   "execution_count": null,
   "metadata": {},
   "outputs": [],
   "source": []
  },
  {
   "cell_type": "code",
   "execution_count": null,
   "metadata": {},
   "outputs": [],
   "source": []
  },
  {
   "cell_type": "code",
   "execution_count": null,
   "metadata": {},
   "outputs": [],
   "source": []
  },
  {
   "cell_type": "code",
   "execution_count": null,
   "metadata": {},
   "outputs": [],
   "source": []
  },
  {
   "cell_type": "code",
   "execution_count": null,
   "metadata": {},
   "outputs": [],
   "source": [
    "#!/usr/bin/env python\n",
    "\n",
    "'''\n",
    "Check whether calibration is valid\n",
    "'''\n",
    "import sys\n",
    "from glob import glob, iglob\n",
    "import os\n",
    "import os.path\n",
    "import re\n",
    "import math\n",
    "import random\n",
    "import shutil\n",
    "import json\n",
    "import signal\n",
    "import numpy as np\n",
    "import cv2\n",
    "import pandas as pd\n",
    "from matplotlib import pyplot as plt\n",
    "import click\n",
    "import logging\n",
    "import datetime\n",
    "import warnings\n",
    "import pickle\n",
    "\n",
    "log = logging.getLogger(\"calidate\")\n",
    "np.seterr(all = 'raise')\n",
    "\n",
    "def signal_handler(signal, frame):\n",
    "    print('Ctrl-C .... Exiting ...')\n",
    "    sys.exit(0)\n",
    "\n",
    "def create_output_dir(dir_to_create):\n",
    "    try:\n",
    "        os.makedirs(dir_to_create)\n",
    "    except FileExistsError:\n",
    "        print(f'Directory already exists {dir_to_create} skip creating it')\n",
    "    except Exception as e:\n",
    "        log.error(f\"Error creating {dir_to_create} Error: {e}\")\n",
    "        raise\n",
    "\n",
    "def rm_output_dir(dir_to_remove):\n",
    "    try:\n",
    "        shutil.rmtree(dir_to_remove)\n",
    "    except FileNotFoundError:\n",
    "        print(f'Directory already removed {dir_to_remove} skipping')\n",
    "    except Exception as e:\n",
    "        log.error(f\"Error removing {dir_to_remove} Error: {e}\")\n",
    "        raise\n",
    "\n",
    "def load_params(params_file):\n",
    "    try:\n",
    "        with open(params_file, 'r') as f:\n",
    "            params = json.load(f)\n",
    "            return params\n",
    "    except FileNotFoundError:\n",
    "        log.error(f\"File {params_file} not found. Exiting...\")\n",
    "        sys.exit(-1)\n",
    "\n",
    "def rectify(params):\n",
    "    print('Rectifying')\n",
    "    cameraMatrix1 = np.array(params['CameraParameters1']['IntrinsicMatrix']).transpose()\n",
    "    cameraMatrix2 = np.array(params['CameraParameters2']['IntrinsicMatrix']).transpose()\n",
    "    distCoeffs1 = params['CameraParameters1']['RadialDistortion'][0:2] + \\\n",
    "    params['CameraParameters1']['TangentialDistortion'] + \\\n",
    "        [params['CameraParameters1']['RadialDistortion'][2]]\n",
    "    distCoeffs1 = np.array(distCoeffs1)\n",
    "    distCoeffs2 = params['CameraParameters2']['RadialDistortion'][0:2] + \\\n",
    "    params['CameraParameters2']['TangentialDistortion'] + \\\n",
    "        [params['CameraParameters2']['RadialDistortion'][2]]\n",
    "    distCoeffs2 = np.array(distCoeffs2)\n",
    "    R = np.array(params['RotationOfCamera2']).transpose()\n",
    "    T = np.array(params['TranslationOfCamera2']).transpose()\n",
    "    imageSize = (4096, 3000)\n",
    "\n",
    "#    left_rectified = cv2.undistort(left_im, cameraMatrix1, distCoeffs1, None, newcameramtx1)\n",
    "#    right_rectified = cv2.undistort(right_im, cameraMatrix2, distCoeffs2, None, newcameramtx2)\n",
    "    # perform rectification\n",
    "    (R1, R2, P1, P2, Q, leftROI, rightROI) = cv2.stereoRectify(cameraMatrix1, distCoeffs1, cameraMatrix2, distCoeffs2, imageSize, R, T, None, None, None, None, None, cv2.CALIB_ZERO_DISPARITY, 0)\n",
    "    left_maps = cv2.initUndistortRectifyMap(cameraMatrix1, distCoeffs1, R1, P1, imageSize, cv2.CV_16SC2)\n",
    "    right_maps = cv2.initUndistortRectifyMap(cameraMatrix2, distCoeffs2, R2, P2, imageSize, cv2.CV_16SC2)\n",
    "    return left_maps, right_maps\n",
    "\n",
    "def remap_pair(left_img_path, right_img_path, left_maps, right_maps):\n",
    "    img_left = cv2.imread(left_img_path)\n",
    "    img_right = cv2.imread(right_img_path)\n",
    "    remap_left = cv2.remap(img_left, left_maps[0], left_maps[1], cv2.INTER_LANCZOS4)\n",
    "    remap_right = cv2.remap(img_right, right_maps[0], right_maps[1], cv2.INTER_LANCZOS4)\n",
    "    output_left_dir = os.path.dirname(left_img_path).replace('good_calibration_images', 'good_calibration_images_rectified')\n",
    "    output_right_dir = os.path.dirname(right_img_path).replace('good_calibration_images', 'good_calibration_images_rectified')\n",
    "    if not os.path.exists(output_left_dir):\n",
    "        os.makedirs(output_left_dir)\n",
    "    if not os.path.exists(output_right_dir):\n",
    "        os.makedirs(output_right_dir)\n",
    "    Image.fromarray(remap_left).save(left_img_path.replace('good_calibration_images', 'good_calibration_images_rectified'))\n",
    "    Image.fromarray(remap_right).save(right_img_path.replace('good_calibration_images', 'good_calibration_images_rectified'))\n",
    "    return remap_left, remap_right\n",
    "\n",
    "def find_corners(remap):\n",
    "    gray = cv2.cvtColor(remap,cv2.COLOR_BGR2GRAY)\n",
    "    resized = cv2.resize(gray, (1024, 750))\n",
    "    ret, resized_corners = cv2.findChessboardCorners(resized, (9,6), None)\n",
    "    if ret:\n",
    "        corners = resized_corners * 4\n",
    "        adj_corners = cv2.cornerSubPix(gray, corners, (5, 5), (-1, -1), (cv2.TERM_CRITERIA_EPS + cv2.TERM_CRITERIA_MAX_ITER, 30, 0.001))\n",
    "        return np.squeeze(adj_corners)\n",
    "    else:\n",
    "        return None\n",
    "\n",
    "def checkerboard_points(validation_dir, maps, img_format):\n",
    "    left_maps, right_maps = maps\n",
    "    image_to_checkerboard_points = {}\n",
    "    left_image_fs = glob(os.path.join(validation_dir, 'left', '*left_*.' + img_format))\n",
    "    for i, left_image_f in enumerate(left_image_fs):\n",
    "        right_image_f = left_image_f.replace('left', 'right')\n",
    "        if not os.path.exists(right_image_f):\n",
    "            log.error(f'Path does not exist: {right_image_f}')\n",
    "            continue\n",
    "\n",
    "        remap_left, remap_right = remap_pair(left_image_f, right_image_f, left_maps, right_maps)\n",
    "        print(f'{i} Finding corners for {left_image_f} pair')\n",
    "        left_corners = find_corners(remap_left)\n",
    "        right_corners = find_corners(remap_right)\n",
    "        if left_corners is None:\n",
    "            print(f'{i} Failed finding corners for {left_image_f}')\n",
    "            cv2.imwrite(validation_dir + 'left_' + str(i) + '.png', remap_left)\n",
    "        if right_corners is None:\n",
    "            print(f'{i} Failed finding corners for {right_image_f}')\n",
    "            cv2.imwrite(validation_dir + 'right_' + str(i) + '.png', remap_right)\n",
    "        if left_corners is not None and right_corners is not None:\n",
    "            print(f'{i} left corners {len(left_corners)} right corners {len(right_corners)}')\n",
    "            image_to_checkerboard_points[left_image_f] = {}\n",
    "            image_to_checkerboard_points[left_image_f]['left_corners'] = left_corners\n",
    "            image_to_checkerboard_points[left_image_f]['right_corners'] = right_corners\n",
    "            cwd = os.getcwd()\n",
    "            rectify_dir = os.path.join(cwd, 'rectify')\n",
    "            cv2.imwrite(rectify_dir + '/' + str(i) + '_left.png', remap_left)\n",
    "            cv2.imwrite(rectify_dir + '/' + str(i) + '_right.png', remap_right)\n",
    "\n",
    "\n",
    "    return image_to_checkerboard_points\n",
    "\n",
    "def convert_to_world_point(focal_len_pxl, x, y, d):\n",
    "    PIXEL_SIZE_M = 3.45 * 1e-6\n",
    "    FOCAL_LENGTH = focal_len_pxl * PIXEL_SIZE_M\n",
    "    IMAGE_SENSOR_WIDTH = 0.01412\n",
    "    IMAGE_SENSOR_HEIGHT = 0.01035\n",
    "    PIXEL_COUNT_WIDTH = 4096\n",
    "    PIXEL_COUNT_HEIGHT = 3000\n",
    "    image_center_x = PIXEL_COUNT_WIDTH / 2.0\n",
    "    image_center_y = PIXEL_COUNT_HEIGHT / 2.0\n",
    "    px_x = x - image_center_x\n",
    "    px_z = image_center_y - y\n",
    "\n",
    "    sensor_x = px_x * (IMAGE_SENSOR_WIDTH / 4096)\n",
    "    sensor_z = px_z * (IMAGE_SENSOR_HEIGHT / 3000)\n",
    "\n",
    "    world_y = d\n",
    "    world_x = (world_y * sensor_x) / FOCAL_LENGTH\n",
    "    world_z = (world_y * sensor_z) / FOCAL_LENGTH\n",
    "    return np.array([world_x, world_y, world_z])\n",
    "\n",
    "def depth_from_disp(stereo_params, disp):\n",
    "    FOCAL_LENGTH_PIXEL = stereo_params['CameraParameters1']['FocalLength'][0]\n",
    "    BASELINE = abs(stereo_params['TranslationOfCamera2'][0] / 1e3) # convert millimeters to meters and use absolute value\n",
    "    FOCAL_LENGTH_PIXEL = stereo_params['CameraParameters1']['FocalLength'][0]\n",
    "    depth = FOCAL_LENGTH_PIXEL*BASELINE / np.array(disp)\n",
    "    return depth\n",
    "\n",
    "def euclidean_distance(p1, p2):\n",
    "    try:\n",
    "        dist = ((p1[0] - p2[0])**2 + (p1[1] - p2[1])**2 + (p1[2] - p2[2])**2)**0.5\n",
    "    except FloatingPointError as e:\n",
    "        #print(f'Error calculating eucl distance between Pt1 {p1}  Pt2 {p2}')\n",
    "        dist = 0.0\n",
    "    return dist\n",
    "\n",
    "def distance_between_positions(i, j):\n",
    "    CHECKERBOARD_SIDE_LENGTH = 0.049294\n",
    "    p1_ax_0_pos = i // 9\n",
    "    p1_ax_1_pos = i % 9\n",
    "    p2_ax_0_pos = j // 9\n",
    "    p2_ax_1_pos = j % 9\n",
    "    return CHECKERBOARD_SIDE_LENGTH * ((p1_ax_0_pos - p2_ax_0_pos)**2 + (p1_ax_1_pos - p2_ax_1_pos)**2)**0.5\n",
    "\n",
    "def world_coordinate(stereo_params, image_to_checkerboard_points):\n",
    "    print(f'Converting to world coords')\n",
    "    focal_len_pxl = stereo_params['CameraParameters1']['FocalLength'][0]\n",
    "    world_coordinate_matrix = np.empty([len(list(image_to_checkerboard_points.keys())), 54, 3])#, dtype=np.longdouble)\n",
    "    for idx, left_image_f in enumerate(image_to_checkerboard_points.keys()):\n",
    "        print(idx)\n",
    "        left_corners = image_to_checkerboard_points[left_image_f]['left_corners']\n",
    "        right_corners = image_to_checkerboard_points[left_image_f]['right_corners']\n",
    "    for i in range(54):\n",
    "        disp = abs(left_corners[i][0] - right_corners[i][0])\n",
    "        depth = depth_from_disp(stereo_params, disp)\n",
    "        world_coordinate_matrix[idx, i, :] = convert_to_world_point(focal_len_pxl, left_corners[i][0], left_corners[i][1], depth)\n",
    "\n",
    "    return world_coordinate_matrix\n",
    "\n",
    "def analysis(world_coordinate_matrix):\n",
    "    analysis_df = pd.DataFrame()\n",
    "    print(f'Analysis... Shape: {world_coordinate_matrix.shape}')\n",
    "    for idx in range(world_coordinate_matrix.shape[0]):\n",
    "        for i in range(world_coordinate_matrix.shape[1]-1):\n",
    "            for j in range(i+1, world_coordinate_matrix.shape[1]):\n",
    "                p1 = world_coordinate_matrix[idx, i, :]\n",
    "                p2 = world_coordinate_matrix[idx, j, :]\n",
    "                predicted_distance = euclidean_distance(p1, p2)\n",
    "                ground_truth_distance = distance_between_positions(i, j)\n",
    "                row = {\n",
    "                    'checkerboard_idx': idx,\n",
    "                    'predicted_distance_mms': predicted_distance * 1000,\n",
    "                    'ground_truth_distance_mms': ground_truth_distance * 1000\n",
    "                }\n",
    "                analysis_df = analysis_df.append(row, ignore_index=True)\n",
    "                analysis_df['deviation'] = analysis_df['predicted_distance_mms'] - analysis_df['ground_truth_distance_mms']\n",
    "                analysis_df['pct_deviation'] = analysis_df['deviation'] / analysis_df['ground_truth_distance_mms']\n",
    "    pickle.dump(analysis_df, open('/root/data/alok/biomass_estimation/playground/analysis_df_bolaks.pkl', 'wb'))\n",
    "    return analysis_df, world_coordinate_matrix\n",
    "\n",
    "\n",
    "def calidate(folder, stereo_params, save_to, img_format):\n",
    "\n",
    "    print(f'Validating Calibration using Images in directory: {folder} Params: {stereo_params}')\n",
    "    # cleanup first\n",
    "    cwd = os.getcwd()\n",
    "    rm_output_dir(cwd + '/rectify')\n",
    "    create_output_dir(cwd + '/rectify')\n",
    "    params_json = load_params(stereo_params)\n",
    "    left_maps, right_maps = rectify(params_json)\n",
    "    image_check_pts = checkerboard_points(folder, (left_maps, right_maps), img_format)\n",
    "    if image_check_pts == {}:\n",
    "        log.error(f'Failed finding checkerboard points. Exiting...')\n",
    "        sys.exit(-1)\n",
    "    world_coords = world_coordinate(params_json, image_check_pts)\n",
    "    analysis_df, world_coordinate_matrix = analysis(world_coords)\n",
    "    print('Finished calibration validation')\n",
    "\n",
    "    return analysis_df, image_check_pts, world_coordinate_matrix\n"
   ]
  },
  {
   "cell_type": "code",
   "execution_count": null,
   "metadata": {},
   "outputs": [],
   "source": [
    "folder = '/root/data/alok/biomass_estimation/playground/bolaks/good_calibration_images/test'\n",
    "stereo_params = '/root/data/s3/aquabyte-stereo-parameters/L40039154_R40012648/2020-02-04T00:00:00Z_L40039154_R40012648_stereo-parameters.json'\n",
    "save_to = '/root/data/alok/biomass_estimation/playground/results_bolaks.png'\n",
    "img_format = 'png'\n",
    "analysis_df, image_check_pts, world_coordinate_matrix = calidate(folder, stereo_params, save_to, img_format)"
   ]
  },
  {
   "cell_type": "code",
   "execution_count": null,
   "metadata": {},
   "outputs": [],
   "source": [
    "plt.figure(figsize=(20, 10))\n",
    "plt.hist(analysis_df.deviation, bins=20)\n",
    "plt.grid()\n",
    "plt.show()\n"
   ]
  },
  {
   "cell_type": "code",
   "execution_count": null,
   "metadata": {},
   "outputs": [],
   "source": []
  },
  {
   "cell_type": "code",
   "execution_count": null,
   "metadata": {},
   "outputs": [],
   "source": [
    "folder = '/root/data/alok/biomass_estimation/playground/bolaks/good_calibration_images/test'\n",
    "stereo_params = '/root/data/s3/aquabyte-stereo-parameters/L40039154_R40012648/2020-02-04T00:00:00Z_L40039154_R40012648_stereo-parameters.json'\n",
    "save_to = '/root/data/alok/biomass_estimation/playground/results_bolaks.png'\n",
    "img_format = 'png'\n",
    "analysis_df, image_check_pts, world_coordinate_matrix = calidate(folder, stereo_params, save_to, img_format)"
   ]
  },
  {
   "cell_type": "code",
   "execution_count": null,
   "metadata": {},
   "outputs": [],
   "source": [
    "plt.figure(figsize=(20, 10))\n",
    "plt.hist(analysis_df.deviation, bins=20)\n",
    "plt.grid()\n",
    "plt.show()\n"
   ]
  },
  {
   "cell_type": "code",
   "execution_count": null,
   "metadata": {},
   "outputs": [],
   "source": [
    "analysis_df"
   ]
  },
  {
   "cell_type": "code",
   "execution_count": null,
   "metadata": {},
   "outputs": [],
   "source": []
  },
  {
   "cell_type": "code",
   "execution_count": null,
   "metadata": {},
   "outputs": [],
   "source": [
    "analysis_df_bassem = pickle.load(open('/root/data/alok/biomass_estimation/playground/analysis_df_bassem.pkl', 'rb'))"
   ]
  },
  {
   "cell_type": "code",
   "execution_count": null,
   "metadata": {},
   "outputs": [],
   "source": [
    "np.min(analysis_df_bassem[0][0][analysis_df_bassem[0][0].predicted_distance_mms > 0].deviation)"
   ]
  },
  {
   "cell_type": "code",
   "execution_count": null,
   "metadata": {},
   "outputs": [],
   "source": [
    "analysis_df.deviation.min()"
   ]
  },
  {
   "cell_type": "code",
   "execution_count": null,
   "metadata": {},
   "outputs": [],
   "source": []
  },
  {
   "cell_type": "code",
   "execution_count": null,
   "metadata": {},
   "outputs": [],
   "source": []
  },
  {
   "cell_type": "code",
   "execution_count": null,
   "metadata": {},
   "outputs": [],
   "source": []
  },
  {
   "cell_type": "code",
   "execution_count": null,
   "metadata": {},
   "outputs": [],
   "source": [
    "left_y_coordinates, right_y_coordinates = [], []\n",
    "for key in list(image_check_pts.keys()):\n",
    "    left_y_coordinates.extend(list(matlab_points[key]['left_corners'][:, 1]))\n",
    "    right_y_coordinates.extend(list(matlab_points[key]['right_corners'][:, 1]))\n",
    "left_y_coordinates = np.array(left_y_coordinates)\n",
    "right_y_coordinates = np.array(right_y_coordinates)\n",
    "print('Mean y-coordinate deviation: {}'.format(np.mean(left_y_coordinates - right_y_coordinates)))"
   ]
  },
  {
   "cell_type": "code",
   "execution_count": null,
   "metadata": {},
   "outputs": [],
   "source": [
    "plt.figure(figsize=(20, 10))\n",
    "plt.hist(left_y_coordinates - right_y_coordinates, bins=50)\n",
    "plt.show()"
   ]
  },
  {
   "cell_type": "code",
   "execution_count": null,
   "metadata": {},
   "outputs": [],
   "source": []
  },
  {
   "cell_type": "code",
   "execution_count": null,
   "metadata": {},
   "outputs": [],
   "source": []
  }
 ],
 "metadata": {
  "kernelspec": {
   "display_name": "Python 3",
   "language": "python",
   "name": "python3"
  },
  "language_info": {
   "codemirror_mode": {
    "name": "ipython",
    "version": 3
   },
   "file_extension": ".py",
   "mimetype": "text/x-python",
   "name": "python",
   "nbconvert_exporter": "python",
   "pygments_lexer": "ipython3"
  }
 },
 "nbformat": 4,
 "nbformat_minor": 2
}
