{
 "cells": [
  {
   "cell_type": "code",
   "execution_count": null,
   "metadata": {},
   "outputs": [],
   "source": [
    "from collections import defaultdict\n",
    "import numpy as np\n",
    "from filter_optimization.filter_optimization_task import generate_sampling_filters, extract_biomass_data, \\\n",
    "    NoDataException, SamplingFilter, generate_pme, generate_filter_mask, get_dates_in_range, \\\n",
    "    generate_metrics_for_pme, _not_none_mean\n",
    "from matplotlib import pyplot as plt\n",
    "import pandas as pd\n",
    "\n"
   ]
  },
  {
   "cell_type": "code",
   "execution_count": null,
   "metadata": {},
   "outputs": [],
   "source": []
  },
  {
   "cell_type": "code",
   "execution_count": null,
   "metadata": {},
   "outputs": [],
   "source": []
  },
  {
   "cell_type": "code",
   "execution_count": null,
   "metadata": {},
   "outputs": [],
   "source": []
  },
  {
   "cell_type": "code",
   "execution_count": null,
   "metadata": {},
   "outputs": [],
   "source": [
    "pen_id = 37\n",
    "start_date = '2020-06-08'\n",
    "end_date = '2020-06-22'\n",
    "akpd_score_cutoff = 0.99\n",
    "\n",
    "df = extract_biomass_data(pen_id, start_date, end_date, akpd_score_cutoff)\n",
    "start_hours = [0]\n",
    "end_hours = [24]\n",
    "kf_cutoffs = np.arange(0.9, 1.1, 0.005)\n",
    "sampling_filters = generate_sampling_filters(start_hours, end_hours, kf_cutoffs)"
   ]
  },
  {
   "cell_type": "code",
   "execution_count": null,
   "metadata": {},
   "outputs": [],
   "source": [
    "def generate_metrics_for_pme(pme, dates):\n",
    "    \"\"\"Generates mean biomass KPI given a PopulationMetricsEstimator instance and dates to consider.\"\"\"\n",
    "\n",
    "    kpis, weights, sample_sizes = [], [], []\n",
    "    for date in dates:\n",
    "        metrics = pme.generate_smart_metrics_on_date(date)\n",
    "        kpis.append(metrics.get('biomass_kpi'))\n",
    "        sample_sizes.append(metrics.get('raw_sample_size'))\n",
    "        weights.append(metrics.get('smart_average_weight'))\n",
    "\n",
    "    # compute mean kpi, mean distribution consistency, and final smart average\n",
    "    print((np.array([k if k else np.nan for k in kpis]) * np.array(sample_sizes)).sum())\n",
    "    mean_kpi = np.nansum(np.array([k if k else np.nan for k in kpis]) * np.array(sample_sizes)) / np.array(sample_sizes).sum()\n",
    "    weight = weights[-1]\n",
    "    return mean_kpi, weight"
   ]
  },
  {
   "cell_type": "code",
   "execution_count": null,
   "metadata": {},
   "outputs": [],
   "source": [
    "def find_optimal_filter(df, sampling_filters):\n",
    "    \"\"\"Finds optimal filter given data-frame of raw biomass computations and different sampling filters.\n",
    "    Args:\n",
    "        - df: DataFrame of raw biomass computations from data warehouse\n",
    "        - sampling_filters: list of SamplingFilter instances to iterate over\n",
    "    Returns:\n",
    "        - best_sampling_filter: SamplingFilter instance corresponding to the one that maximizes biomass KPI\n",
    "    \"\"\"\n",
    "    analysis_data = defaultdict(list)\n",
    "    for sampling_filter in sampling_filters:\n",
    "        print('Start hour: {}, End hour: {}, KF cutoff: {}'.format(\n",
    "            sampling_filter.start_hour, sampling_filter.end_hour, sampling_filter.kf_cutoff\n",
    "        ))\n",
    "        try:\n",
    "            pme = generate_pme(df, sampling_filter)\n",
    "        except NoDataException as err:\n",
    "            print(str(err))\n",
    "            pme = None\n",
    "        \n",
    "        if pme:\n",
    "            unique_dates = sorted(df.date.unique().tolist())\n",
    "            dates = get_dates_in_range(unique_dates[0], unique_dates[-1])\n",
    "            mean_kpi, weight = generate_metrics_for_pme(pme, dates)\n",
    "        else:\n",
    "            mean_kpi, weight = None, None\n",
    "        \n",
    "\n",
    "        # add to data\n",
    "        analysis_data['mean_kpi'].append(mean_kpi)\n",
    "        analysis_data['weight'].append(weight)\n",
    "        analysis_data['start_hour'].append(sampling_filter.start_hour)\n",
    "        analysis_data['end_hour'].append(sampling_filter.end_hour)\n",
    "        analysis_data['kf_cutoff'].append(sampling_filter.kf_cutoff)\n",
    "        analysis_data['akpd_score_cutoff'].append(sampling_filter.akpd_score_cutoff)\n",
    "\n",
    "    analysis_df = pd.DataFrame(analysis_data)\n",
    "    return analysis_df\n",
    "    best_sampling_filter_params = analysis_df.sort_values('mean_kpi', ascending=False).iloc[0]\n",
    "\n",
    "    best_sampling_filter = SamplingFilter(\n",
    "        start_hour=float(best_sampling_filter_params.start_hour),\n",
    "        end_hour=float(best_sampling_filter_params.end_hour),\n",
    "        kf_cutoff=float(best_sampling_filter_params.kf_cutoff),\n",
    "        akpd_score_cutoff=float(best_sampling_filter_params.akpd_score_cutoff)\n",
    "    )\n",
    "    return analysis_df, best_sampling_filter"
   ]
  },
  {
   "cell_type": "code",
   "execution_count": null,
   "metadata": {},
   "outputs": [],
   "source": [
    "# analysis_df, best_sampling_filter = find_optimal_filter(df, sampling_filters)\n",
    "analysis_df = find_optimal_filter(df, sampling_filters)"
   ]
  },
  {
   "cell_type": "code",
   "execution_count": null,
   "metadata": {},
   "outputs": [],
   "source": []
  },
  {
   "cell_type": "code",
   "execution_count": null,
   "metadata": {},
   "outputs": [],
   "source": [
    "plt.figure(figsize=(20, 10))\n",
    "plt.plot(analysis_df.kf_cutoff, analysis_df.mean_kpi)\n",
    "plt.grid()\n",
    "plt.show()"
   ]
  },
  {
   "cell_type": "code",
   "execution_count": null,
   "metadata": {},
   "outputs": [],
   "source": []
  },
  {
   "cell_type": "code",
   "execution_count": null,
   "metadata": {},
   "outputs": [],
   "source": [
    "analysis_df.sort_values('mean_kpi', ascending=False)"
   ]
  },
  {
   "cell_type": "code",
   "execution_count": null,
   "metadata": {},
   "outputs": [],
   "source": []
  },
  {
   "cell_type": "code",
   "execution_count": null,
   "metadata": {},
   "outputs": [],
   "source": []
  },
  {
   "cell_type": "code",
   "execution_count": null,
   "metadata": {},
   "outputs": [],
   "source": []
  },
  {
   "cell_type": "code",
   "execution_count": null,
   "metadata": {},
   "outputs": [],
   "source": []
  },
  {
   "cell_type": "code",
   "execution_count": null,
   "metadata": {},
   "outputs": [],
   "source": []
  },
  {
   "cell_type": "code",
   "execution_count": null,
   "metadata": {},
   "outputs": [],
   "source": []
  },
  {
   "cell_type": "code",
   "execution_count": null,
   "metadata": {},
   "outputs": [],
   "source": []
  }
 ],
 "metadata": {
  "kernelspec": {
   "display_name": "Python 3",
   "language": "python",
   "name": "python3"
  },
  "language_info": {
   "codemirror_mode": {
    "name": "ipython",
    "version": 3
   },
   "file_extension": ".py",
   "mimetype": "text/x-python",
   "name": "python",
   "nbconvert_exporter": "python",
   "pygments_lexer": "ipython3",
   "version": "3.6.5"
  }
 },
 "nbformat": 4,
 "nbformat_minor": 2
}
