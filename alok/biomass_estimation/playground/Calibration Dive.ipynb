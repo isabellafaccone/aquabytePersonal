{
 "cells": [
  {
   "cell_type": "code",
   "execution_count": null,
   "metadata": {},
   "outputs": [],
   "source": [
    "import pickle\n",
    "from matplotlib import pyplot as plt\n",
    "import numpy as np\n",
    "import json\n",
    "from sklearn.metrics.pairwise import euclidean_distances\n",
    "import cv2"
   ]
  },
  {
   "cell_type": "code",
   "execution_count": null,
   "metadata": {},
   "outputs": [],
   "source": []
  },
  {
   "cell_type": "code",
   "execution_count": null,
   "metadata": {},
   "outputs": [],
   "source": [
    "matlab_points = pickle.load(open('/root/data/alok/biomass_estimation/playground/image_to_checkerboard_points_matlab.pkl', 'rb'))\n",
    "circular_points = pickle.load(open('/root/data/alok/biomass_estimation/playground/image_to_checkerboard_points_circular.pkl', 'rb'))"
   ]
  },
  {
   "cell_type": "code",
   "execution_count": null,
   "metadata": {},
   "outputs": [],
   "source": [
    "matlab_left = matlab_points['/data/alok/biomass_estimation/playground/validation_images/left/left_frame.png']['left_corners']\n",
    "matlab_right = matlab_points['/data/alok/biomass_estimation/playground/validation_images/left/left_frame.png']['right_corners']\n",
    "circular_left = circular_points['/data/alok/biomass_estimation/playground/validation_images/left/left_frame.png']['left_corners']\n",
    "circular_right = circular_points['/data/alok/biomass_estimation/playground/validation_images/left/left_frame.png']['right_corners']"
   ]
  },
  {
   "cell_type": "code",
   "execution_count": null,
   "metadata": {},
   "outputs": [],
   "source": [
    "(matlab_left - matlab_right) - (circular_left - circular_right)"
   ]
  },
  {
   "cell_type": "code",
   "execution_count": null,
   "metadata": {},
   "outputs": [],
   "source": []
  },
  {
   "cell_type": "code",
   "execution_count": null,
   "metadata": {},
   "outputs": [],
   "source": [
    "matlab_wcm = pickle.load(open('/root/data/alok/biomass_estimation/playground/wcm_matlab.pkl', 'rb'))\n",
    "circular_wcm = pickle.load(open('/root/data/alok/biomass_estimation/playground/wcm_circular.pkl', 'rb'))"
   ]
  },
  {
   "cell_type": "code",
   "execution_count": null,
   "metadata": {},
   "outputs": [],
   "source": []
  },
  {
   "cell_type": "code",
   "execution_count": null,
   "metadata": {},
   "outputs": [],
   "source": []
  },
  {
   "cell_type": "code",
   "execution_count": null,
   "metadata": {},
   "outputs": [],
   "source": [
    "diffs = np.squeeze(1e3 * (euclidean_distances(world_coordinate_matrix_matlab) - euclidean_distances(world_coordinate_matrix_circular))).flatten()"
   ]
  },
  {
   "cell_type": "code",
   "execution_count": null,
   "metadata": {},
   "outputs": [],
   "source": [
    "ds = []\n",
    "for i in range(world_coordinate_matrix_matlab.shape[0]):\n",
    "    for j in range(i+1, world_coordinate_matrix_matlab.shape[0]):\n",
    "        d = np.linalg.norm(world_coordinate_matrix_matlab[i, :] - world_coordinate_matrix_matlab[j, :])\n",
    "        ds.append(d)\n",
    "        \n",
    "ds = np.array(ds)\n",
    "diffs = 1e3 * ds - matlab_df.ground_truth_distance_mms.values\n",
    "plt.hist(diffs)\n",
    "plt.show()"
   ]
  },
  {
   "cell_type": "code",
   "execution_count": null,
   "metadata": {},
   "outputs": [],
   "source": [
    "circular_params"
   ]
  },
  {
   "cell_type": "code",
   "execution_count": null,
   "metadata": {},
   "outputs": [],
   "source": []
  },
  {
   "cell_type": "code",
   "execution_count": null,
   "metadata": {},
   "outputs": [],
   "source": [
    "ds = []\n",
    "for i in range(world_coordinate_matrix_circular.shape[0]):\n",
    "    for j in range(i+1, world_coordinate_matrix_circular.shape[0]):\n",
    "        d = np.linalg.norm(world_coordinate_matrix_circular[i, :] - world_coordinate_matrix_circular[j, :])\n",
    "        ds.append(d)\n",
    "        \n",
    "ds = np.array(ds)\n",
    "diffs = 1e3 * ds - circular_df.ground_truth_distance_mms.values\n",
    "plt.hist(diffs)\n",
    "plt.show()"
   ]
  },
  {
   "cell_type": "code",
   "execution_count": null,
   "metadata": {},
   "outputs": [],
   "source": []
  },
  {
   "cell_type": "code",
   "execution_count": null,
   "metadata": {},
   "outputs": [],
   "source": [
    "diffs = np.squeeze(1e3 * (euclidean_distances(matlab_wcm[0]) - euclidean_distances(circular_wcm[0]))).flatten()"
   ]
  },
  {
   "cell_type": "code",
   "execution_count": null,
   "metadata": {},
   "outputs": [],
   "source": [
    "plt.hist(diffs)\n",
    "plt.show()"
   ]
  },
  {
   "cell_type": "code",
   "execution_count": null,
   "metadata": {},
   "outputs": [],
   "source": []
  },
  {
   "cell_type": "code",
   "execution_count": null,
   "metadata": {},
   "outputs": [],
   "source": []
  },
  {
   "cell_type": "code",
   "execution_count": null,
   "metadata": {},
   "outputs": [],
   "source": []
  },
  {
   "cell_type": "code",
   "execution_count": null,
   "metadata": {},
   "outputs": [],
   "source": [
    "matlab_params = json.load(open('/root/data/alok/biomass_estimation/playground/2020-01-14T00_00_00Z_L40013180_R40029775_stereo-parameters.json'))\n",
    "circular_params = json.load(open('/root/data/alok/biomass_estimation/playground/EstimatedStereoCamParams_L40013180_R40029775.json'))"
   ]
  },
  {
   "cell_type": "code",
   "execution_count": null,
   "metadata": {},
   "outputs": [],
   "source": [
    "matlab_params['TranslationOfCamera2']"
   ]
  },
  {
   "cell_type": "code",
   "execution_count": null,
   "metadata": {},
   "outputs": [],
   "source": [
    "circular_params['TranslationOfCamera2']"
   ]
  },
  {
   "cell_type": "code",
   "execution_count": null,
   "metadata": {},
   "outputs": [],
   "source": [
    "matlab_params['CameraParameters1']['FocalLength']"
   ]
  },
  {
   "cell_type": "code",
   "execution_count": null,
   "metadata": {},
   "outputs": [],
   "source": [
    "circular_params['CameraParameters1']['FocalLength']"
   ]
  },
  {
   "cell_type": "code",
   "execution_count": null,
   "metadata": {},
   "outputs": [],
   "source": []
  },
  {
   "cell_type": "code",
   "execution_count": null,
   "metadata": {},
   "outputs": [],
   "source": [
    "(matlab_params['CameraParameters1']['FocalLength'][0] * matlab_params['TranslationOfCamera2'][0]) / 608"
   ]
  },
  {
   "cell_type": "code",
   "execution_count": null,
   "metadata": {},
   "outputs": [],
   "source": [
    "circular_params['CameraParameters1']['FocalLength'][0] * circular_params['TranslationOfCamera2'][0] / 600"
   ]
  },
  {
   "cell_type": "code",
   "execution_count": null,
   "metadata": {},
   "outputs": [],
   "source": []
  },
  {
   "cell_type": "code",
   "execution_count": null,
   "metadata": {},
   "outputs": [],
   "source": []
  },
  {
   "cell_type": "code",
   "execution_count": null,
   "metadata": {},
   "outputs": [],
   "source": [
    "matlab_df = pickle.load(open('/root/data/alok/biomass_estimation/playground/analysis_df_matlab.pkl', 'rb'))\n",
    "circular_df = pickle.load(open('/root/data/alok/biomass_estimation/playground/analysis_df_circular.pkl', 'rb'))"
   ]
  },
  {
   "cell_type": "code",
   "execution_count": null,
   "metadata": {},
   "outputs": [],
   "source": [
    "plt.hist(matlab_df[matlab_df.ground_truth_distance_mms > 400].predicted_distance_mms - circular_df[matlab_df.ground_truth_distance_mms > 400].predicted_distance_mms)\n",
    "plt.show()"
   ]
  },
  {
   "cell_type": "code",
   "execution_count": null,
   "metadata": {},
   "outputs": [],
   "source": [
    "plt.hist(matlab_df.predicted_distance_mms - matlab_df.ground_truth_distance_mms)\n",
    "plt.show()"
   ]
  },
  {
   "cell_type": "code",
   "execution_count": null,
   "metadata": {},
   "outputs": [],
   "source": [
    "plt.hist(circular_df.predicted_distance_mms - circular_df.ground_truth_distance_mms)\n",
    "plt.show()"
   ]
  },
  {
   "cell_type": "code",
   "execution_count": null,
   "metadata": {},
   "outputs": [],
   "source": []
  },
  {
   "cell_type": "code",
   "execution_count": null,
   "metadata": {},
   "outputs": [],
   "source": [
    "((0.605)**3 - (0.60)**3) / (0.60)**3"
   ]
  },
  {
   "cell_type": "code",
   "execution_count": null,
   "metadata": {},
   "outputs": [],
   "source": []
  },
  {
   "cell_type": "code",
   "execution_count": null,
   "metadata": {},
   "outputs": [],
   "source": []
  },
  {
   "cell_type": "code",
   "execution_count": null,
   "metadata": {},
   "outputs": [],
   "source": [
    "circular_cameraMatrix1 = np.array(circular_params['CameraParameters1']['IntrinsicMatrix']).transpose() \n",
    "circular_cameraMatrix2 = np.array(circular_params['CameraParameters2']['IntrinsicMatrix']).transpose()"
   ]
  },
  {
   "cell_type": "code",
   "execution_count": null,
   "metadata": {},
   "outputs": [],
   "source": [
    "matlab_cameraMatrix1 = np.array(matlab_params['CameraParameters1']['IntrinsicMatrix']).transpose() \n",
    "matlab_cameraMatrix2 = np.array(matlab_params['CameraParameters2']['IntrinsicMatrix']).transpose()\n",
    "R = np.array(matlab_params['RotationOfCamera2']).transpose()\n",
    "T = np.array(matlab_params['TranslationOfCamera2']).transpose()\n",
    "world_checkerboard_points_list = []\n",
    "for left_corners, right_corners in zip(matlab_left, matlab_right):\n",
    "    P1 = np.dot(matlab_cameraMatrix1, np.hstack([np.eye(3), np.array([[0], [0], [0]])]))\n",
    "    P2 = np.dot(matlab_cameraMatrix2, np.hstack([R, T[:, np.newaxis]]))\n",
    "    wcp = cv2.triangulatePoints(P1, P2, left_corners, right_corners).T\n",
    "    world_checkerboard_points = wcp[:,:3] / wcp[:,3, None]\n",
    "    world_checkerboard_points_list.append(world_checkerboard_points)\n",
    "    \n",
    "world_coordinate_matrix_matlab = np.empty([len(world_checkerboard_points_list), 3])\n",
    "for i, world_checkerboard_points in enumerate(world_checkerboard_points_list):\n",
    "        world_coordinate_matrix_matlab[i, :] = world_checkerboard_points\n",
    "\n",
    "world_coordinate_matrix_matlab = np.array([world_coordinate_matrix_matlab[:, 0],\n",
    "                                           world_coordinate_matrix_matlab[:, 2],\n",
    "                                           -world_coordinate_matrix_matlab[:, 1]]).T * 1e-3"
   ]
  },
  {
   "cell_type": "code",
   "execution_count": null,
   "metadata": {},
   "outputs": [],
   "source": [
    "circular_cameraMatrix1 = np.array(circular_params['CameraParameters1']['IntrinsicMatrix']).transpose() \n",
    "circular_cameraMatrix2 = np.array(circular_params['CameraParameters2']['IntrinsicMatrix']).transpose()\n",
    "R = np.array(circular_params['RotationOfCamera2']).transpose()\n",
    "T = np.array(circular_params['TranslationOfCamera2']).transpose()\n",
    "world_checkerboard_points_list = []\n",
    "for left_corners, right_corners in zip(circular_left, circular_right):\n",
    "    P1 = np.dot(circular_cameraMatrix1, np.hstack([np.eye(3), np.array([[0], [0], [0]])]))\n",
    "    P2 = np.dot(circular_cameraMatrix2, np.hstack([R, T[:, np.newaxis]]))\n",
    "    wcp = cv2.triangulatePoints(P1, P2, left_corners, right_corners).T\n",
    "    world_checkerboard_points = wcp[:,:3] / wcp[:,3, None]\n",
    "    world_checkerboard_points_list.append(world_checkerboard_points)\n",
    "    \n",
    "world_coordinate_matrix_circular = np.empty([len(world_checkerboard_points_list), 3])\n",
    "for i, world_checkerboard_points in enumerate(world_checkerboard_points_list):\n",
    "        world_coordinate_matrix_circular[i, :] = world_checkerboard_points\n",
    "\n",
    "world_coordinate_matrix_circular = np.array([world_coordinate_matrix_circular[:, 0],\n",
    "                                             world_coordinate_matrix_circular[:, 2],\n",
    "                                             -world_coordinate_matrix_circular[:, 1]]).T * 1e-3"
   ]
  },
  {
   "cell_type": "code",
   "execution_count": null,
   "metadata": {},
   "outputs": [],
   "source": [
    "(world_coordinate_matrix_circular - circular_wcm) * 1e3"
   ]
  },
  {
   "cell_type": "code",
   "execution_count": null,
   "metadata": {},
   "outputs": [],
   "source": []
  },
  {
   "cell_type": "code",
   "execution_count": null,
   "metadata": {},
   "outputs": [],
   "source": []
  },
  {
   "cell_type": "code",
   "execution_count": null,
   "metadata": {},
   "outputs": [],
   "source": []
  },
  {
   "cell_type": "code",
   "execution_count": null,
   "metadata": {},
   "outputs": [],
   "source": []
  },
  {
   "cell_type": "code",
   "execution_count": null,
   "metadata": {},
   "outputs": [],
   "source": []
  },
  {
   "cell_type": "code",
   "execution_count": null,
   "metadata": {},
   "outputs": [],
   "source": []
  }
 ],
 "metadata": {
  "kernelspec": {
   "display_name": "Python 3",
   "language": "python",
   "name": "python3"
  },
  "language_info": {
   "codemirror_mode": {
    "name": "ipython",
    "version": 3
   },
   "file_extension": ".py",
   "mimetype": "text/x-python",
   "name": "python",
   "nbconvert_exporter": "python",
   "pygments_lexer": "ipython3",
   "version": "3.6.5"
  }
 },
 "nbformat": 4,
 "nbformat_minor": 2
}
