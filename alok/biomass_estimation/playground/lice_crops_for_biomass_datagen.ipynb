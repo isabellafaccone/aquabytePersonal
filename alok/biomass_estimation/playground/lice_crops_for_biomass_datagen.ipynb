{
 "cells": [
  {
   "cell_type": "code",
   "execution_count": null,
   "metadata": {},
   "outputs": [],
   "source": [
    "import json\n",
    "import os\n",
    "from matplotlib import pyplot as plt\n",
    "import numpy as np\n",
    "import pandas as pd\n",
    "from research.utils.data_access_utils import S3AccessUtils, RDSAccessUtils\n",
    "from research.utils.image_utils import Picture\n",
    "pd.set_option('display.max_colwidth', 500)"
   ]
  },
  {
   "cell_type": "code",
   "execution_count": null,
   "metadata": {},
   "outputs": [],
   "source": []
  },
  {
   "cell_type": "markdown",
   "metadata": {},
   "source": [
    "<h1> Define lice counting crop input </h1>"
   ]
  },
  {
   "cell_type": "code",
   "execution_count": null,
   "metadata": {},
   "outputs": [],
   "source": [
    "rds = RDSAccessUtils(json.load(open(os.environ['DATA_WAREHOUSE_SQL_CREDENTIALS'])))\n",
    "query = \"\"\"\n",
    "    SELECT\n",
    "        pen_id,captured_at,left_crop_url,right_crop_url,left_crop_metadata,right_crop_metadata,camera_metadata\n",
    "    FROM\n",
    "        prod.crop_annotation\n",
    "    WHERE \n",
    "        pen_id=95\n",
    "    AND captured_at BETWEEN '2020-06-20' AND '2020-06-30' AND service_id=1 \n",
    "    AND left_crop_url IS NOT NULL AND right_crop_url IS NOT NULL\n",
    "    AND (annotation_state_id=1 OR annotation_state_id=8);\n",
    "\"\"\"\n",
    "\n",
    "df = rds.extract_from_database(query)"
   ]
  },
  {
   "cell_type": "code",
   "execution_count": null,
   "metadata": {},
   "outputs": [],
   "source": [
    "df.index.name = 'index'\n",
    "f = '/root/data/alok/biomass_estimation/playground/pen_id_95_2020-06-20_2020-06-30_lice_crop_input.csv'\n",
    "df.to_csv(f, index=False)"
   ]
  },
  {
   "cell_type": "code",
   "execution_count": null,
   "metadata": {},
   "outputs": [],
   "source": []
  },
  {
   "cell_type": "markdown",
   "metadata": {},
   "source": [
    "<h1> Define biomass pipeline result </h1>"
   ]
  },
  {
   "cell_type": "code",
   "execution_count": null,
   "metadata": {},
   "outputs": [],
   "source": []
  },
  {
   "cell_type": "code",
   "execution_count": null,
   "metadata": {},
   "outputs": [],
   "source": [
    "f = '/root/data/alok/biomass_estimation/playground/pen_id_95_2020-06-20_2020-06-30_lice_crop_bm_output.csv'\n",
    "df = pd.read_csv(f)\n",
    "\n",
    "f = '/root/data/alok/biomass_estimation/playground/pen_id_95_2020-06-20_2020-06-30_lice_crop_input.csv'\n",
    "odf = pd.read_csv(f)"
   ]
  },
  {
   "cell_type": "code",
   "execution_count": null,
   "metadata": {},
   "outputs": [],
   "source": [
    "df[df.akpd_score > 0.9].shape"
   ]
  },
  {
   "cell_type": "code",
   "execution_count": null,
   "metadata": {},
   "outputs": [],
   "source": [
    "sample_sizes = []\n",
    "akpd_cutoffs = np.arange(0.9, 0.999, 0.01)\n",
    "for akpd_cutoff in akpd_cutoffs:\n",
    "    mask = df.akpd_score > akpd_cutoff\n",
    "    sample_sizes.append(df[mask].shape[0])\n",
    "\n",
    "plt.plot(akpd_cutoffs, sample_sizes)\n",
    "plt.show()\n",
    "    "
   ]
  },
  {
   "cell_type": "code",
   "execution_count": null,
   "metadata": {},
   "outputs": [],
   "source": [
    "df[df.akpd_score < 0.9].left_crop_url"
   ]
  },
  {
   "cell_type": "code",
   "execution_count": null,
   "metadata": {},
   "outputs": [],
   "source": []
  },
  {
   "cell_type": "code",
   "execution_count": null,
   "metadata": {},
   "outputs": [],
   "source": [
    "s3_access_utils = S3AccessUtils('/root/data', json.load(open(os.environ['AWS_CREDENTIALS'])))\n",
    "\n",
    "def display_crops(left_crop_url, right_crop_url, ann, overlay_keypoints=True, show_labels=False):\n",
    "    left_p = Picture(s3_access_utils=s3_access_utils, image_url=left_crop_url)\n",
    "    right_p = Picture(s3_access_utils=s3_access_utils, image_url=right_crop_url)\n",
    "    left_p.enhance()\n",
    "    right_p.enhance()\n",
    "    left_image = left_p.get_image()\n",
    "    right_image = right_p.get_image()\n",
    "    fig, axes = plt.subplots(2, 1, figsize=(20, 20))\n",
    "    axes[0].imshow(left_image)\n",
    "    axes[1].imshow(right_image)\n",
    "    left_keypoints = {item['keypointType']: [item['xCrop'], item['yCrop']] for item in ann['leftCrop']}\n",
    "    right_keypoints = {item['keypointType']: [item['xCrop'], item['yCrop']] for item in ann['rightCrop']}\n",
    "    if overlay_keypoints:\n",
    "        for bp, kp in left_keypoints.items():\n",
    "            axes[0].scatter([kp[0]], [kp[1]], color='red', s=1)\n",
    "            if show_labels:\n",
    "                axes[0].annotate(bp, (kp[0], kp[1]), color='red')\n",
    "        for bp, kp in right_keypoints.items():\n",
    "            axes[1].scatter([kp[0]], [kp[1]], color='red', s=1)\n",
    "            if show_labels:\n",
    "                axes[1].annotate(bp, (kp[0], kp[1]), color='red')\n",
    "    plt.show()"
   ]
  },
  {
   "cell_type": "code",
   "execution_count": null,
   "metadata": {},
   "outputs": [],
   "source": [
    "idx = 74\n",
    "row = df[(df.akpd_score < 0.9)].iloc[idx]\n",
    "display_crops(row.left_crop_url, row.right_crop_url, json.loads(row.annotation))"
   ]
  },
  {
   "cell_type": "code",
   "execution_count": null,
   "metadata": {},
   "outputs": [],
   "source": [
    "row"
   ]
  },
  {
   "cell_type": "code",
   "execution_count": null,
   "metadata": {},
   "outputs": [],
   "source": []
  },
  {
   "cell_type": "markdown",
   "metadata": {},
   "source": [
    "<h1> Show status quo result </h1>"
   ]
  },
  {
   "cell_type": "code",
   "execution_count": null,
   "metadata": {},
   "outputs": [],
   "source": [
    "query = \"\"\"\n",
    "    SELECT\n",
    "        *\n",
    "    FROM\n",
    "        prod.biomass_computations\n",
    "    WHERE \n",
    "        pen_id=95\n",
    "    AND captured_at BETWEEN '2020-06-20' AND '2020-06-30'\n",
    "\"\"\"\n",
    "\n",
    "odf = rds.extract_from_database(query)"
   ]
  },
  {
   "cell_type": "code",
   "execution_count": null,
   "metadata": {},
   "outputs": [],
   "source": [
    "sample_sizes, new_sample_sizes = [], []\n",
    "akpd_cutoffs = np.arange(0.9, 0.999, 0.01)\n",
    "for akpd_cutoff in akpd_cutoffs:\n",
    "    new_sample_sizes.append(df[df.akpd_score > akpd_cutoff].shape[0])\n",
    "    sample_sizes.append(odf[odf.akpd_score > akpd_cutoff].shape[0])\n",
    "\n",
    "\n",
    "plt.plot(akpd_cutoffs, sample_sizes, color='blue', label='with biomass cropper')\n",
    "plt.plot(akpd_cutoffs, new_sample_sizes, color='red', label='with lice cropper')\n",
    "plt.xlabel('AKPD score cutoff')\n",
    "plt.ylabel('Sample Size')\n",
    "plt.title('Aplavika (95), 2020-06-20 - 2020-06-30')\n",
    "plt.legend()\n",
    "plt.grid()\n",
    "plt.show()\n",
    "    "
   ]
  },
  {
   "cell_type": "code",
   "execution_count": null,
   "metadata": {},
   "outputs": [],
   "source": [
    "plt.figure(figsize=(20, 10))\n",
    "plt.hist(df.akpd_score, bins=20, color='red', label='with lice cropper')\n",
    "plt.hist(odf.akpd_score, bins=20, color='blue', label='with biomass cropper')\n",
    "plt.xlabel('AKPD score')\n",
    "plt.legend()\n",
    "plt.grid()\n",
    "plt.show()"
   ]
  },
  {
   "cell_type": "code",
   "execution_count": null,
   "metadata": {},
   "outputs": [],
   "source": []
  },
  {
   "cell_type": "code",
   "execution_count": null,
   "metadata": {},
   "outputs": [],
   "source": []
  },
  {
   "cell_type": "code",
   "execution_count": null,
   "metadata": {},
   "outputs": [],
   "source": []
  },
  {
   "cell_type": "code",
   "execution_count": null,
   "metadata": {},
   "outputs": [],
   "source": []
  },
  {
   "cell_type": "code",
   "execution_count": null,
   "metadata": {},
   "outputs": [],
   "source": []
  },
  {
   "cell_type": "code",
   "execution_count": null,
   "metadata": {},
   "outputs": [],
   "source": []
  },
  {
   "cell_type": "code",
   "execution_count": null,
   "metadata": {},
   "outputs": [],
   "source": []
  },
  {
   "cell_type": "code",
   "execution_count": null,
   "metadata": {},
   "outputs": [],
   "source": []
  },
  {
   "cell_type": "code",
   "execution_count": null,
   "metadata": {},
   "outputs": [],
   "source": []
  }
 ],
 "metadata": {
  "kernelspec": {
   "display_name": "Python 3",
   "language": "python",
   "name": "python3"
  },
  "language_info": {
   "codemirror_mode": {
    "name": "ipython",
    "version": 3
   },
   "file_extension": ".py",
   "mimetype": "text/x-python",
   "name": "python",
   "nbconvert_exporter": "python",
   "pygments_lexer": "ipython3",
   "version": "3.6.5"
  }
 },
 "nbformat": 4,
 "nbformat_minor": 2
}
