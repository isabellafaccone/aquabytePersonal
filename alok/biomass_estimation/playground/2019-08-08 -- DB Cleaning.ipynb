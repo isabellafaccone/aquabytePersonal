{
 "cells": [
  {
   "cell_type": "code",
   "execution_count": null,
   "metadata": {},
   "outputs": [],
   "source": [
    "import json\n",
    "import os\n",
    "import pandas as pd\n",
    "from aquabyte.data_access_utils import S3AccessUtils, RDSAccessUtils\n",
    "from sqlalchemy import create_engine, MetaData, Table, select, and_, func\n",
    "from sqlalchemy.orm import sessionmaker\n",
    "from sqlalchemy.ext.automap import automap_base"
   ]
  },
  {
   "cell_type": "code",
   "execution_count": null,
   "metadata": {},
   "outputs": [],
   "source": [
    "prod_research_sql_credentials = json.load(open(os.environ['PROD_RESEARCH_WRITE_SQL_CREDENTIALS']))\n",
    "rds_access_utils = RDSAccessUtils(prod_research_sql_credentials)\n",
    "s3_access_utils = S3AccessUtils('/root/data')"
   ]
  },
  {
   "cell_type": "code",
   "execution_count": null,
   "metadata": {},
   "outputs": [],
   "source": [
    "query = 'select * from keypoint_annotations where pen_id=48;'\n",
    "df = rds_access_utils.extract_from_database(query)"
   ]
  },
  {
   "cell_type": "code",
   "execution_count": null,
   "metadata": {},
   "outputs": [],
   "source": [
    "m = MetaData(schema='research')\n",
    "Base = automap_base(metadata=m)\n",
    "Base.prepare(rds_access_utils.sql_engine, reflect=True)\n",
    "FishMetadata = Base.classes.fish_metadata\n"
   ]
  },
  {
   "cell_type": "code",
   "execution_count": null,
   "metadata": {},
   "outputs": [],
   "source": [
    "Session = sessionmaker(bind=rds_access_utils.sql_engine)\n",
    "session = Session()"
   ]
  },
  {
   "cell_type": "code",
   "execution_count": null,
   "metadata": {},
   "outputs": [],
   "source": [
    "left_image_url"
   ]
  },
  {
   "cell_type": "code",
   "execution_count": null,
   "metadata": {},
   "outputs": [],
   "source": []
  },
  {
   "cell_type": "code",
   "execution_count": null,
   "metadata": {},
   "outputs": [],
   "source": [
    "research_sql_credentials = json.load(open(os.environ['SQL_CREDENTIALS']))\n",
    "research_rds_access_utils = RDSAccessUtils(research_sql_credentials)\n",
    "ResearchBase = automap_base()\n",
    "ResearchBase.prepare(research_rds_access_utils.sql_engine, reflect=True)\n",
    "GtsfDataCollection = ResearchBase.classes.gtsf_data_collections"
   ]
  },
  {
   "cell_type": "code",
   "execution_count": null,
   "metadata": {},
   "outputs": [],
   "source": [
    "ResearchSession = sessionmaker(bind=research_rds_access_utils.sql_engine)\n",
    "research_session = ResearchSession()"
   ]
  },
  {
   "cell_type": "code",
   "execution_count": null,
   "metadata": {},
   "outputs": [],
   "source": []
  },
  {
   "cell_type": "code",
   "execution_count": null,
   "metadata": {},
   "outputs": [],
   "source": [
    "count = 0\n",
    "for idx, row in df.iterrows():\n",
    "    if count % 100 == 0:\n",
    "        print(count)\n",
    "    count += 1\n",
    "    left_image_url = row.left_image_url\n",
    "    fish_metadatas = session.query(FishMetadata).filter(FishMetadata.left_url == left_image_url).all()\n",
    "    if len(fish_metadatas) > 0:\n",
    "        continue\n",
    "    image_key = left_image_url[left_image_url.index('aquabyte-crops'):].replace('aquabyte-crops/', '')\n",
    "    capture_bucket = 'aquabyte-frames-resized-inbound'\n",
    "    capture_dir = os.path.dirname(image_key)\n",
    "    capture_key = os.path.join(capture_dir, 'capture.json')\n",
    "    \n",
    "    capture_f = s3_access_utils.download_from_s3(capture_bucket, capture_key)\n",
    "    capture_metadata = json.load(open(capture_f))\n",
    "    gtsf_fish_identifier = capture_metadata['gtsf_fish_identifier']\n",
    "    \n",
    "    gtsf_data_collection = \\\n",
    "        research_session.query(GtsfDataCollection).filter(GtsfDataCollection.gtsf_fish_identifier == gtsf_fish_identifier).all()[0]\n",
    "    \n",
    "    ground_truth_metadata = json.loads(gtsf_data_collection.ground_truth_metadata)\n",
    "    metadata = None\n",
    "    try:\n",
    "        metadata = {\n",
    "            'breadthMms': ground_truth_metadata['data']['breath'],\n",
    "            'widdthMms': ground_truth_metadata['data']['width'],\n",
    "            'lengthMms': ground_truth_metadata['data']['length'],\n",
    "            'weightKgs': ground_truth_metadata['data']['weight'],\n",
    "            'location': 'Generic',\n",
    "            'penNumber': '0',\n",
    "            'species': ground_truth_metadata['data']['species']\n",
    "        }\n",
    "    except:\n",
    "        continue\n",
    "        \n",
    "    fish_metadata = FishMetadata(\n",
    "        left_url=left_image_url,\n",
    "        fish_id=gtsf_fish_identifier,\n",
    "        weight=metadata['weightKgs'],\n",
    "        data=metadata,\n",
    "        stereo_parameters_url='https://aquabyte-stereo-parameters.s3-eu-west-1.amazonaws.com/L40013178_R40014310/latest_L40013178_R40014310_stereo-parameters.json',\n",
    "    )\n",
    "    \n",
    "    session.add(fish_metadata)\n",
    "    session.commit()\n",
    "    \n",
    "    \n",
    "    \n",
    "    "
   ]
  },
  {
   "cell_type": "code",
   "execution_count": null,
   "metadata": {},
   "outputs": [],
   "source": [
    "research_session.rollback()"
   ]
  },
  {
   "cell_type": "code",
   "execution_count": null,
   "metadata": {},
   "outputs": [],
   "source": [
    "metadata = {\n",
    "    'breadthMms': ground_truth_metadata['data']['breath'],\n",
    "    'widdthMms': ground_truth_metadata['data']['width'],\n",
    "    'lengthMms': ground_truth_metadata['data']['length'],\n",
    "    'weightKgs': ground_truth_metadata['data']['weight'],\n",
    "    'location': 'Generic',\n",
    "    'penNumber': '0',\n",
    "    'species': ground_truth_metadata['data']['species']\n",
    "}"
   ]
  },
  {
   "cell_type": "code",
   "execution_count": null,
   "metadata": {},
   "outputs": [],
   "source": [
    "metadata"
   ]
  },
  {
   "cell_type": "code",
   "execution_count": null,
   "metadata": {},
   "outputs": [],
   "source": []
  },
  {
   "cell_type": "code",
   "execution_count": null,
   "metadata": {},
   "outputs": [],
   "source": [
    "(5.758-5.3)/5.3"
   ]
  },
  {
   "cell_type": "code",
   "execution_count": null,
   "metadata": {},
   "outputs": [],
   "source": [
    "(5.429-5.3)/5.3"
   ]
  },
  {
   "cell_type": "code",
   "execution_count": null,
   "metadata": {},
   "outputs": [],
   "source": []
  },
  {
   "cell_type": "code",
   "execution_count": null,
   "metadata": {},
   "outputs": [],
   "source": []
  }
 ],
 "metadata": {
  "kernelspec": {
   "display_name": "Python 3",
   "language": "python",
   "name": "python3"
  },
  "language_info": {
   "codemirror_mode": {
    "name": "ipython",
    "version": 3
   },
   "file_extension": ".py",
   "mimetype": "text/x-python",
   "name": "python",
   "nbconvert_exporter": "python",
   "pygments_lexer": "ipython3",
   "version": "3.5.2"
  }
 },
 "nbformat": 4,
 "nbformat_minor": 2
}
