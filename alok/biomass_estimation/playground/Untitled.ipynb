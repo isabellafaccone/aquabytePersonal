{
 "cells": [
  {
   "cell_type": "code",
   "execution_count": null,
   "metadata": {},
   "outputs": [],
   "source": [
    "import json\n",
    "import os\n",
    "import pandas as pd\n",
    "from matplotlib import pyplot as plt\n",
    "from filter_optimization.filter_optimization_task import extract_biomass_data\n",
    "\n",
    "plt.rcParams['font.size'] = 18"
   ]
  },
  {
   "cell_type": "code",
   "execution_count": null,
   "metadata": {},
   "outputs": [],
   "source": []
  },
  {
   "cell_type": "code",
   "execution_count": null,
   "metadata": {},
   "outputs": [],
   "source": [
    "df = extract_biomass_data(56, '2020-06-01', '2020-08-31', 0.99)\n",
    "df.hour = (df.hour + 2) % 24\n",
    "plt.figure(figsize=(10, 5))\n",
    "mask = df.estimated_k_factor > 0.0\n",
    "df[mask].groupby('hour')['estimated_weight_g'].agg(lambda x: x.mean()).plot()\n",
    "plt.ylabel('Average Weight (g)')\n",
    "plt.grid()"
   ]
  },
  {
   "cell_type": "code",
   "execution_count": null,
   "metadata": {},
   "outputs": [],
   "source": [
    "df = extract_biomass_data(60, '2020-06-01', '2020-08-31', 0.99)\n",
    "df.hour = (df.hour + 2) % 24\n",
    "plt.figure(figsize=(10, 5))\n",
    "mask = df.estimated_k_factor > 0.0\n",
    "df[mask].groupby('hour')['estimated_weight_g'].agg(lambda x: x.mean()).plot()\n",
    "plt.grid()"
   ]
  },
  {
   "cell_type": "code",
   "execution_count": null,
   "metadata": {},
   "outputs": [],
   "source": [
    "df = extract_biomass_data(100, '2020-06-01', '2020-08-31', 0.99)\n",
    "df.hour = (df.hour + 2) % 24\n",
    "plt.figure(figsize=(10, 5))\n",
    "mask = df.estimated_k_factor > 0.0\n",
    "df[mask].groupby('hour')['estimated_weight_g'].agg(lambda x: x.mean()).plot()\n",
    "plt.grid()"
   ]
  },
  {
   "cell_type": "code",
   "execution_count": null,
   "metadata": {},
   "outputs": [],
   "source": [
    "df = extract_biomass_data(88, '2020-02-01', '2020-03-06', 0.99)\n",
    "df.hour = (df.hour + 2) % 24\n",
    "plt.figure(figsize=(10, 5))\n",
    "mask = df.estimated_k_factor > 0.0\n",
    "df[mask].groupby('hour')['estimated_weight_g'].agg(lambda x: x.mean()).plot()\n",
    "plt.grid()"
   ]
  },
  {
   "cell_type": "code",
   "execution_count": null,
   "metadata": {},
   "outputs": [],
   "source": [
    "df = extract_biomass_data(95, '2020-04-01', '2020-07-30', 0.99)\n",
    "df.hour = (df.hour + 2) % 24\n",
    "plt.figure(figsize=(10, 5))\n",
    "mask = df.estimated_k_factor > 0.0\n",
    "df[mask].groupby('hour')['estimated_weight_g'].agg(lambda x: x.mean()).plot()\n",
    "plt.grid()"
   ]
  },
  {
   "cell_type": "code",
   "execution_count": null,
   "metadata": {},
   "outputs": [],
   "source": []
  },
  {
   "cell_type": "code",
   "execution_count": null,
   "metadata": {},
   "outputs": [],
   "source": [
    "df = extract_biomass_data(131, '2020-08-12', '2020-08-26', 0.99)\n",
    "df.hour = (df.hour + 2) % 24\n",
    "plt.figure(figsize=(10, 5))\n",
    "mask = df.estimated_k_factor > 0.0\n",
    "df[mask].groupby('hour')['estimated_weight_g'].agg(lambda x: x.mean()).plot()\n",
    "plt.grid()"
   ]
  },
  {
   "cell_type": "code",
   "execution_count": null,
   "metadata": {},
   "outputs": [],
   "source": [
    "df = extract_biomass_data(132, '2020-08-12', '2020-08-26', 0.99)\n",
    "df.hour = (df.hour + 2) % 24\n",
    "plt.figure(figsize=(10, 5))\n",
    "mask = df.estimated_k_factor > 0.0\n",
    "df[mask].groupby('hour')['estimated_weight_g'].agg(lambda x: x.mean()).plot()\n",
    "plt.grid()"
   ]
  },
  {
   "cell_type": "code",
   "execution_count": null,
   "metadata": {},
   "outputs": [],
   "source": []
  },
  {
   "cell_type": "code",
   "execution_count": null,
   "metadata": {},
   "outputs": [],
   "source": []
  },
  {
   "cell_type": "code",
   "execution_count": null,
   "metadata": {},
   "outputs": [],
   "source": []
  },
  {
   "cell_type": "code",
   "execution_count": null,
   "metadata": {},
   "outputs": [],
   "source": [
    "df = extract_biomass_data(131, '2020-06-01', '2020-08-31', 0.99)\n",
    "\n",
    "plt.figure(figsize=(20, 10))\n",
    "mask = df.estimated_k_factor > 1.08\n",
    "df[mask].groupby('hour')['estimated_weight_g'].agg(lambda x: x.mean()).plot()\n",
    "plt.grid()"
   ]
  },
  {
   "cell_type": "code",
   "execution_count": null,
   "metadata": {},
   "outputs": [],
   "source": [
    "df = extract_biomass_data(132, '2020-06-01', '2020-08-31', 0.99)\n",
    "\n",
    "plt.figure(figsize=(20, 10))\n",
    "mask = df.estimated_k_factor > 1.08\n",
    "df[mask].groupby('hour')['estimated_weight_g'].agg(lambda x: x.mean()).plot()\n",
    "plt.grid()"
   ]
  },
  {
   "cell_type": "code",
   "execution_count": null,
   "metadata": {},
   "outputs": [],
   "source": []
  },
  {
   "cell_type": "code",
   "execution_count": null,
   "metadata": {},
   "outputs": [],
   "source": []
  },
  {
   "cell_type": "code",
   "execution_count": null,
   "metadata": {},
   "outputs": [],
   "source": []
  },
  {
   "cell_type": "code",
   "execution_count": null,
   "metadata": {},
   "outputs": [],
   "source": []
  },
  {
   "cell_type": "code",
   "execution_count": null,
   "metadata": {},
   "outputs": [],
   "source": []
  },
  {
   "cell_type": "code",
   "execution_count": null,
   "metadata": {},
   "outputs": [],
   "source": [
    "df[mask].groupby('hour')['estimated_weight_g'].agg(lambda x: x.shape[0]).plot()"
   ]
  },
  {
   "cell_type": "code",
   "execution_count": null,
   "metadata": {},
   "outputs": [],
   "source": []
  },
  {
   "cell_type": "code",
   "execution_count": null,
   "metadata": {},
   "outputs": [],
   "source": [
    "from research.weight_estimation.keypoint_utils.optics import pixel2world\n",
    "import numpy as np\n",
    "from research.weight_estimation.keypoint_utils import body_parts\n",
    "\n",
    "def get_raw_3d_coordinates(keypoints, cm):\n",
    "    wkps = pixel2world([item for item in keypoints['leftCrop'] if item['keypointType'] != 'BODY'],\n",
    "                       [item for item in keypoints['rightCrop'] if item['keypointType'] != 'BODY'],\n",
    "                       cm)\n",
    "\n",
    "    all_wkps = np.array([list(wkps[bp]) for bp in body_parts.core_body_parts])\n",
    "    return all_wkps"
   ]
  },
  {
   "cell_type": "code",
   "execution_count": null,
   "metadata": {},
   "outputs": [],
   "source": [
    "depths = []\n",
    "for idx, row in df.iterrows():\n",
    "    try:\n",
    "        wkps = get_raw_3d_coordinates(row.annotation, row.camera_metadata)\n",
    "        depth = np.median(wkps[:, 1])\n",
    "    except:\n",
    "        depth = None\n",
    "    depths.append(depth)\n",
    "    "
   ]
  },
  {
   "cell_type": "code",
   "execution_count": null,
   "metadata": {},
   "outputs": [],
   "source": [
    "df['depth'] = depths"
   ]
  },
  {
   "cell_type": "code",
   "execution_count": null,
   "metadata": {},
   "outputs": [],
   "source": [
    "plt.hist(df.depth, bins=20)\n",
    "plt.show()"
   ]
  },
  {
   "cell_type": "code",
   "execution_count": null,
   "metadata": {},
   "outputs": [],
   "source": [
    "plt.hist(df.depth, bins=20)\n",
    "plt.show()"
   ]
  },
  {
   "cell_type": "code",
   "execution_count": null,
   "metadata": {},
   "outputs": [],
   "source": [
    "plt.hist(df.depth, bins=20)\n",
    "plt.show()"
   ]
  },
  {
   "cell_type": "code",
   "execution_count": null,
   "metadata": {},
   "outputs": [],
   "source": []
  },
  {
   "cell_type": "code",
   "execution_count": null,
   "metadata": {},
   "outputs": [],
   "source": []
  },
  {
   "cell_type": "code",
   "execution_count": null,
   "metadata": {},
   "outputs": [],
   "source": [
    "df = extract_biomass_data(124, '2020-08-10', '2020-08-29', 0.99)\n",
    "\n",
    "plt.figure(figsize=(20, 10))\n",
    "mask = df.estimated_k_factor > 1.25\n",
    "df[mask].groupby('hour')['estimated_weight_g'].agg(lambda x: x.mean()).plot()\n",
    "plt.grid()"
   ]
  },
  {
   "cell_type": "code",
   "execution_count": null,
   "metadata": {},
   "outputs": [],
   "source": []
  },
  {
   "cell_type": "code",
   "execution_count": null,
   "metadata": {},
   "outputs": [],
   "source": [
    "df = extract_biomass_data(124, '2020-08-10', '2020-08-29', 0.99)\n",
    "\n",
    "plt.figure(figsize=(15, 8))\n",
    "mask = df.estimated_k_factor > 1.3\n",
    "df[mask].groupby('hour')['estimated_weight_g'].agg(lambda x: x.mean()).plot()\n",
    "plt.grid()"
   ]
  },
  {
   "cell_type": "code",
   "execution_count": null,
   "metadata": {},
   "outputs": [],
   "source": [
    "plt.figure(figsize=(15, 8))\n",
    "df[mask].groupby('hour')['estimated_weight_g'].agg(lambda x: x.shape[0]).plot()\n",
    "plt.grid()"
   ]
  },
  {
   "cell_type": "code",
   "execution_count": null,
   "metadata": {},
   "outputs": [],
   "source": []
  },
  {
   "cell_type": "code",
   "execution_count": null,
   "metadata": {},
   "outputs": [],
   "source": []
  },
  {
   "cell_type": "code",
   "execution_count": null,
   "metadata": {},
   "outputs": [],
   "source": []
  },
  {
   "cell_type": "code",
   "execution_count": null,
   "metadata": {},
   "outputs": [],
   "source": []
  },
  {
   "cell_type": "code",
   "execution_count": null,
   "metadata": {},
   "outputs": [],
   "source": []
  },
  {
   "cell_type": "code",
   "execution_count": null,
   "metadata": {},
   "outputs": [],
   "source": []
  },
  {
   "cell_type": "code",
   "execution_count": null,
   "metadata": {},
   "outputs": [],
   "source": []
  },
  {
   "cell_type": "code",
   "execution_count": null,
   "metadata": {},
   "outputs": [],
   "source": []
  },
  {
   "cell_type": "code",
   "execution_count": null,
   "metadata": {},
   "outputs": [],
   "source": [
    "rds"
   ]
  },
  {
   "cell_type": "code",
   "execution_count": null,
   "metadata": {},
   "outputs": [],
   "source": []
  },
  {
   "cell_type": "code",
   "execution_count": null,
   "metadata": {},
   "outputs": [],
   "source": []
  },
  {
   "cell_type": "code",
   "execution_count": null,
   "metadata": {},
   "outputs": [],
   "source": []
  },
  {
   "cell_type": "code",
   "execution_count": null,
   "metadata": {},
   "outputs": [],
   "source": []
  },
  {
   "cell_type": "code",
   "execution_count": null,
   "metadata": {},
   "outputs": [],
   "source": []
  },
  {
   "cell_type": "code",
   "execution_count": null,
   "metadata": {},
   "outputs": [],
   "source": []
  },
  {
   "cell_type": "code",
   "execution_count": null,
   "metadata": {},
   "outputs": [],
   "source": []
  },
  {
   "cell_type": "code",
   "execution_count": null,
   "metadata": {},
   "outputs": [],
   "source": []
  }
 ],
 "metadata": {
  "kernelspec": {
   "display_name": "Python 3",
   "language": "python",
   "name": "python3"
  },
  "language_info": {
   "codemirror_mode": {
    "name": "ipython",
    "version": 3
   },
   "file_extension": ".py",
   "mimetype": "text/x-python",
   "name": "python",
   "nbconvert_exporter": "python",
   "pygments_lexer": "ipython3",
   "version": "3.6.5"
  }
 },
 "nbformat": 4,
 "nbformat_minor": 2
}
