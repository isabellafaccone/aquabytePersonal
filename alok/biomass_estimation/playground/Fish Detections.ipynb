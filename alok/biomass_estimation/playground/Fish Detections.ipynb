{
 "cells": [
  {
   "cell_type": "code",
   "execution_count": null,
   "metadata": {},
   "outputs": [],
   "source": [
    "import os\n",
    "import pandas as pd\n",
    "import json\n",
    "import numpy as np\n",
    "import boto3\n",
    "import cv2\n",
    "from collections import defaultdict\n",
    "pd.set_option('display.max_colwidth', 500)\n",
    "pd.set_option('display.max_columns', 500)"
   ]
  },
  {
   "cell_type": "markdown",
   "metadata": {},
   "source": [
    "<h1> Define s3 credentials </h1>"
   ]
  },
  {
   "cell_type": "code",
   "execution_count": null,
   "metadata": {},
   "outputs": [],
   "source": [
    "aws_credentials = json.load(open(os.environ[\"AWS_CREDENTIALS\"]))\n",
    "s3_client = boto3.client('s3', aws_access_key_id=aws_credentials[\"aws_access_key_id\"],\n",
    "                         aws_secret_access_key=aws_credentials[\"aws_secret_access_key\"],\n",
    "                         region_name=\"eu-west-1\")\n",
    "\n"
   ]
  },
  {
   "cell_type": "code",
   "execution_count": null,
   "metadata": {},
   "outputs": [],
   "source": []
  },
  {
   "cell_type": "markdown",
   "metadata": {},
   "source": [
    "<h1> Load and prepare fish detection dataset </h1>"
   ]
  },
  {
   "cell_type": "code",
   "execution_count": null,
   "metadata": {},
   "outputs": [],
   "source": [
    "df = pd.read_csv('fish_detections.csv')\n",
    "df.index = pd.to_datetime(df.created_at)\n"
   ]
  },
  {
   "cell_type": "code",
   "execution_count": null,
   "metadata": {},
   "outputs": [],
   "source": [
    "df['left_image_width'] = df.left_crop_metadata.apply(lambda x: json.loads(x)['width'])\n",
    "df['left_image_height'] = df.left_crop_metadata.apply(lambda x: json.loads(x)['height'])\n",
    "df['left_x_coord'] = df.left_crop_metadata.apply(lambda x: json.loads(x)['x_coord'])\n",
    "df['left_y_coord'] = df.left_crop_metadata.apply(lambda x: json.loads(x)['y_coord'])\n",
    "df['right_image_width'] = df.right_crop_metadata.apply(lambda x: json.loads(x)['width'])\n",
    "df['right_image_height'] = df.right_crop_metadata.apply(lambda x: json.loads(x)['height'])\n",
    "df['right_x_coord'] = df.right_crop_metadata.apply(lambda x: json.loads(x)['x_coord'])\n",
    "df['right_y_coord'] = df.right_crop_metadata.apply(lambda x: json.loads(x)['y_coord'])\n",
    "df['left_mean_luminance'] = df.left_crop_metadata.apply(lambda x: json.loads(x)['mean_luminance'])\n",
    "df['right_mean_luminance'] = df.right_crop_metadata.apply(lambda x: json.loads(x)['mean_luminance'])\n"
   ]
  },
  {
   "cell_type": "code",
   "execution_count": null,
   "metadata": {},
   "outputs": [],
   "source": [
    "mask_L = (df.left_image_width + df.left_x_coord < 3900) & (df.left_image_height + df.left_y_coord < 2900) & (df.left_x_coord > 100) & (df.left_y_coord > 100)\n",
    "mask_R = (df.right_image_width + df.right_x_coord < 3900) & (df.right_image_height + df.right_y_coord < 2900) & (df.right_x_coord > 100) & (df.right_y_coord > 100)\n",
    "mask_orientation = (df.left_image_width / df.left_image_height) > 1.5\n",
    "mask_luminance = df.left_mean_luminance > np.percentile(df.left_mean_luminance, 0)\n",
    "mask = mask_L & mask_R & mask_orientation & mask_luminance\n",
    "df[mask].sort_values('left_mean_luminance', ascending=False)\n",
    "\n"
   ]
  },
  {
   "cell_type": "code",
   "execution_count": null,
   "metadata": {},
   "outputs": [],
   "source": []
  },
  {
   "cell_type": "markdown",
   "metadata": {},
   "source": [
    "<h1> Iterate over fish detections selected from mask, rectify them, and upload them to s3 </h1>"
   ]
  },
  {
   "cell_type": "code",
   "execution_count": null,
   "metadata": {},
   "outputs": [],
   "source": [
    "df.resample('D', how=lambda x: len(x))"
   ]
  },
  {
   "cell_type": "code",
   "execution_count": null,
   "metadata": {},
   "outputs": [],
   "source": []
  },
  {
   "cell_type": "code",
   "execution_count": null,
   "metadata": {},
   "outputs": [],
   "source": []
  },
  {
   "cell_type": "code",
   "execution_count": null,
   "metadata": {},
   "outputs": [],
   "source": [
    "def load_params(params_file):\n",
    "    params = json.load(open(params_file))\n",
    "    cameraMatrix1 = np.array(params['CameraParameters1']['IntrinsicMatrix']).transpose()\n",
    "    cameraMatrix2 = np.array(params['CameraParameters2']['IntrinsicMatrix']).transpose()\n",
    "\n",
    "    distCoeffs1 = params['CameraParameters1']['RadialDistortion'][0:2] + \\\n",
    "                   params['CameraParameters1']['TangentialDistortion'] + \\\n",
    "                   [params['CameraParameters1']['RadialDistortion'][2]]\n",
    "    distCoeffs1 = np.array(distCoeffs1)\n",
    "\n",
    "    distCoeffs2 = params['CameraParameters2']['RadialDistortion'][0:2] + \\\n",
    "                   params['CameraParameters2']['TangentialDistortion'] + \\\n",
    "                   [params['CameraParameters2']['RadialDistortion'][2]]\n",
    "    distCoeffs2 = np.array(distCoeffs2)\n",
    "\n",
    "    R = np.array(params['RotationOfCamera2']).transpose()\n",
    "    T = np.array(params['TranslationOfCamera2']).transpose()\n",
    "\n",
    "    imageSize = (4096, 3000)\n",
    "    \n",
    "    # perform rectification\n",
    "    (R1, R2, P1, P2, Q, leftROI, rightROI) = cv2.stereoRectify(cameraMatrix1, distCoeffs1, cameraMatrix2, distCoeffs2, imageSize, R, T, None, None, None, None, None, cv2.CALIB_ZERO_DISPARITY, 0)\n",
    "\n",
    "    left_maps = cv2.initUndistortRectifyMap(cameraMatrix1, distCoeffs1, R1, P1, imageSize, cv2.CV_16SC2)\n",
    "    right_maps = cv2.initUndistortRectifyMap(cameraMatrix2, distCoeffs2, R2, P2, imageSize, cv2.CV_16SC2)\n",
    "    \n",
    "    return left_maps, right_maps\n",
    "\n",
    "def rectify_crop(crop_image_f, side, crop_metadata, left_maps, right_maps):\n",
    "    maps = left_maps if side == 'left' else right_maps\n",
    "    crop = cv2.imread(crop_image_f)\n",
    "    new_image = np.zeros([3000, 4096, 3]).astype('uint8')\n",
    "    lower_left = (crop_metadata['y_coord'] + crop_metadata['height'], crop_metadata['x_coord'])\n",
    "    upper_right = (crop_metadata['y_coord'], crop_metadata['x_coord'] + crop_metadata['width'])\n",
    "    new_image[upper_right[0]:lower_left[0], lower_left[1]:upper_right[1], :] = np.array(crop)\n",
    "    remap = cv2.remap(new_image, maps[0], maps[1], cv2.INTER_LANCZOS4)\n",
    "    cv2.imwrite('{}.jpg'.format(side), remap)\n",
    "    nonzero_indices = np.where(remap > 0)\n",
    "    y_min, y_max = nonzero_indices[0].min(), nonzero_indices[0].max() \n",
    "    x_min, x_max = nonzero_indices[1].min(), nonzero_indices[1].max()\n",
    "    lower_left = (y_max, x_min)\n",
    "    upper_right = (y_min, x_max)\n",
    "    rectified_crop = remap[upper_right[0]:lower_left[0], lower_left[1]:upper_right[1], :].copy()\n",
    "    \n",
    "    crop_image_fname = os.path.basename(crop_image_f)\n",
    "    outfile_fname = '{}_rectified.jpg'.format(crop_image_fname.replace('.jpg', ''))\n",
    "    outfile_f = os.path.join(os.path.dirname(crop_image_f), outfile_fname)\n",
    "    cv2.imwrite(outfile_f, rectified_crop)\n",
    "    return outfile_f"
   ]
  },
  {
   "cell_type": "code",
   "execution_count": null,
   "metadata": {},
   "outputs": [],
   "source": []
  },
  {
   "cell_type": "code",
   "execution_count": null,
   "metadata": {},
   "outputs": [],
   "source": [
    "stereo_parameters_f = './stereo_parameters_old_blom_pen_1_enclosure.json'\n",
    "left_maps, right_maps = load_params(stereo_parameters_f)"
   ]
  },
  {
   "cell_type": "code",
   "execution_count": null,
   "metadata": {},
   "outputs": [],
   "source": [
    "tdf = df[mask].sort_values('left_mean_luminance', ascending=False)\n",
    "\n",
    "s3_bucket = 'aquabyte-crops'\n",
    "s3_prefix = 'https://s3-eu-west-1.amazonaws.com'\n",
    "\n",
    "urls_by_date = defaultdict(list)\n",
    "\n",
    "i = 0\n",
    "for idx, row in tdf.iterrows():\n",
    "    \n",
    "    date = row.captured_at[:10]\n",
    "    \n",
    "    left_crop_url, right_crop_url = row.left_image_url, row.right_image_url\n",
    "    left_crop_key = left_crop_url[left_crop_url.index('environment'):]\n",
    "    right_crop_key = right_crop_url[right_crop_url.index('environment'):]\n",
    "    left_crop_f = os.path.basename(left_crop_url)\n",
    "    right_crop_f = os.path.basename(right_crop_url)\n",
    "    left_crop_metadata = json.loads(row.left_crop_metadata)\n",
    "    right_crop_metadata = json.loads(row.right_crop_metadata)\n",
    "    \n",
    "    s3_client.download_file(s3_bucket, left_crop_key, left_crop_f)\n",
    "    s3_client.download_file(s3_bucket, right_crop_key, right_crop_f)\n",
    "    rectified_left_crop_f = rectify_crop(left_crop_f, 'left', left_crop_metadata, left_maps, right_maps)\n",
    "    rectified_right_crop_f = rectify_crop(right_crop_f, 'right', right_crop_metadata, left_maps, right_maps)\n",
    "    left_key = os.path.join('rectified_crops', date, rectified_left_crop_f)\n",
    "    right_key = os.path.join('rectified_crops', date, rectified_right_crop_f)\n",
    "    s3_client.upload_file(rectified_left_crop_f, 'aquabyte-images-adhoc', left_key)\n",
    "    s3_client.upload_file(rectified_right_crop_f, 'aquabyte-images-adhoc', right_key)\n",
    "    left_url = os.path.join(s3_prefix, 'aquabyte-images-adhoc', left_key)\n",
    "    right_url = os.path.join(s3_prefix, 'aquabyte-images-adhoc', right_key)\n",
    "    urls_by_date[date].append(left_url)\n",
    "    urls_by_date[date].append(right_url)\n",
    "    os.remove(left_crop_f)\n",
    "    os.remove(rectified_left_crop_f)\n",
    "    os.remove(right_crop_f)\n",
    "    os.remove(rectified_right_crop_f)\n",
    "    if i % 10 == 0:\n",
    "        print(i)\n",
    "    i += 1\n",
    "    \n",
    "    \n",
    "    \n",
    "    \n",
    "    "
   ]
  },
  {
   "cell_type": "code",
   "execution_count": null,
   "metadata": {},
   "outputs": [],
   "source": [
    "urls_by_date['2019-04-23']"
   ]
  },
  {
   "cell_type": "code",
   "execution_count": null,
   "metadata": {},
   "outputs": [],
   "source": [
    "left_crop_f"
   ]
  },
  {
   "cell_type": "code",
   "execution_count": null,
   "metadata": {},
   "outputs": [],
   "source": [
    "left_crop_metadata"
   ]
  },
  {
   "cell_type": "code",
   "execution_count": null,
   "metadata": {},
   "outputs": [],
   "source": []
  },
  {
   "cell_type": "code",
   "execution_count": null,
   "metadata": {},
   "outputs": [],
   "source": []
  },
  {
   "cell_type": "code",
   "execution_count": null,
   "metadata": {},
   "outputs": [],
   "source": []
  },
  {
   "cell_type": "code",
   "execution_count": null,
   "metadata": {},
   "outputs": [],
   "source": []
  },
  {
   "cell_type": "code",
   "execution_count": null,
   "metadata": {},
   "outputs": [],
   "source": []
  },
  {
   "cell_type": "code",
   "execution_count": null,
   "metadata": {},
   "outputs": [],
   "source": []
  },
  {
   "cell_type": "code",
   "execution_count": null,
   "metadata": {},
   "outputs": [],
   "source": []
  },
  {
   "cell_type": "code",
   "execution_count": null,
   "metadata": {},
   "outputs": [],
   "source": []
  },
  {
   "cell_type": "code",
   "execution_count": null,
   "metadata": {},
   "outputs": [],
   "source": []
  },
  {
   "cell_type": "code",
   "execution_count": null,
   "metadata": {},
   "outputs": [],
   "source": []
  }
 ],
 "metadata": {
  "kernelspec": {
   "display_name": "Python 3",
   "language": "python",
   "name": "python3"
  },
  "language_info": {
   "codemirror_mode": {
    "name": "ipython",
    "version": 3
   },
   "file_extension": ".py",
   "mimetype": "text/x-python",
   "name": "python",
   "nbconvert_exporter": "python",
   "pygments_lexer": "ipython3",
   "version": "3.5.2"
  }
 },
 "nbformat": 4,
 "nbformat_minor": 2
}
