{
 "cells": [
  {
   "cell_type": "code",
   "execution_count": null,
   "metadata": {},
   "outputs": [],
   "source": [
    "import json\n",
    "import numpy as np\n",
    "import pandas as pd\n",
    "from matplotlib import pyplot as plt\n",
    "from research.weight_estimation.keypoint_utils.keypoint_transformations import get_keypoint_arr"
   ]
  },
  {
   "cell_type": "code",
   "execution_count": null,
   "metadata": {},
   "outputs": [],
   "source": []
  },
  {
   "cell_type": "code",
   "execution_count": null,
   "metadata": {},
   "outputs": [],
   "source": [
    "df = pd.read_csv('/root/data/s3/aquabyte-images-adhoc/alok/production_datasets/imr_data_one_month.csv')\n",
    "df1 = pd.read_csv('/root/data/temp/results_current_pytorch_imr.csv')\n",
    "df2 = pd.read_csv('/root/data/temp/results_new_biomass_keras_model_imr_v2.csv')\n"
   ]
  },
  {
   "cell_type": "code",
   "execution_count": null,
   "metadata": {},
   "outputs": [],
   "source": [
    "raw_keypoint_arrs, centered_keypoint_arrs = [], []\n",
    "for idx, row in df.iterrows():\n",
    "    raw_keypoint_arr, centered_keypoint_arr = get_keypoint_arr(json.loads(row.annotation), json.loads(row.camera_metadata))\n",
    "    raw_keypoint_arrs.append(raw_keypoint_arr)\n",
    "    centered_keypoint_arrs.append(centered_keypoint_arr)\n",
    "\n"
   ]
  },
  {
   "cell_type": "code",
   "execution_count": null,
   "metadata": {},
   "outputs": [],
   "source": [
    "df['raw_keypoint_arr'] = raw_keypoint_arrs\n",
    "df['centered_keypoint_arr'] = centered_keypoint_arrs"
   ]
  },
  {
   "cell_type": "code",
   "execution_count": null,
   "metadata": {},
   "outputs": [],
   "source": [
    "raw_depths = []\n",
    "centered_depths = []\n",
    "for idx, row in df.iterrows():\n",
    "    raw_keypoint_arr, centered_keypoint_arr = row.raw_keypoint_arr, row.centered_keypoint_arr\n",
    "    raw_median_depth = np.median(raw_keypoint_arr[:, 1])\n",
    "    centered_median_depth = np.median(centered_keypoint_arr[:, 1])\n",
    "    raw_depths.append(raw_median_depth)\n",
    "    centered_depths.append(centered_median_depth)\n",
    "    \n",
    "df['raw_depth'] = raw_depths\n",
    "df['centered_depth'] = centered_depths\n",
    "df['difference'] = df2.estimated_weight_g - df1.estimated_weight_g"
   ]
  },
  {
   "cell_type": "code",
   "execution_count": null,
   "metadata": {},
   "outputs": [],
   "source": []
  },
  {
   "cell_type": "code",
   "execution_count": null,
   "metadata": {},
   "outputs": [],
   "source": [
    "plt.figure(figsize=(20, 10))\n",
    "plt.hist(df.raw_depth)\n",
    "plt.grid()\n",
    "plt.show()"
   ]
  },
  {
   "cell_type": "code",
   "execution_count": null,
   "metadata": {},
   "outputs": [],
   "source": []
  },
  {
   "cell_type": "code",
   "execution_count": null,
   "metadata": {},
   "outputs": [],
   "source": []
  },
  {
   "cell_type": "code",
   "execution_count": null,
   "metadata": {},
   "outputs": [],
   "source": []
  },
  {
   "cell_type": "code",
   "execution_count": null,
   "metadata": {},
   "outputs": [],
   "source": [
    "vals = np.arange(0.5, 3.0, 0.1)\n",
    "for idx in range(len(vals) - 1):\n",
    "    low, high = vals[idx], vals[idx+1]\n",
    "    mean_diff = df[(df.centered_depth > low) & (df.centered_depth < high)].difference.mean()\n",
    "    print('Mean Difference for depth range {}<->{}: {}'.format(round(low, 1), round(high, 1), mean_diff))"
   ]
  },
  {
   "cell_type": "code",
   "execution_count": null,
   "metadata": {},
   "outputs": [],
   "source": [
    "json.loads(df[df.right_crop_url == 'https://aquabyte-crops.s3.eu-west-1.amazonaws.com/environment=production/site-id=40/pen-id=61/date=2019-11-23/hour=00/at=2019-11-23T00:31:20.795673000Z/right_frame_crop_1050_24_3358_837.jpg'].annotation.iloc[0])"
   ]
  },
  {
   "cell_type": "code",
   "execution_count": null,
   "metadata": {},
   "outputs": [],
   "source": []
  },
  {
   "cell_type": "code",
   "execution_count": null,
   "metadata": {},
   "outputs": [],
   "source": []
  },
  {
   "cell_type": "code",
   "execution_count": null,
   "metadata": {},
   "outputs": [],
   "source": []
  },
  {
   "cell_type": "code",
   "execution_count": null,
   "metadata": {},
   "outputs": [],
   "source": []
  },
  {
   "cell_type": "code",
   "execution_count": null,
   "metadata": {},
   "outputs": [],
   "source": []
  },
  {
   "cell_type": "code",
   "execution_count": null,
   "metadata": {},
   "outputs": [],
   "source": []
  },
  {
   "cell_type": "code",
   "execution_count": null,
   "metadata": {},
   "outputs": [],
   "source": []
  },
  {
   "cell_type": "code",
   "execution_count": null,
   "metadata": {},
   "outputs": [],
   "source": []
  },
  {
   "cell_type": "code",
   "execution_count": null,
   "metadata": {},
   "outputs": [],
   "source": []
  },
  {
   "cell_type": "code",
   "execution_count": null,
   "metadata": {},
   "outputs": [],
   "source": []
  }
 ],
 "metadata": {
  "kernelspec": {
   "display_name": "Python 3",
   "language": "python",
   "name": "python3"
  },
  "language_info": {
   "codemirror_mode": {
    "name": "ipython",
    "version": 3
   },
   "file_extension": ".py",
   "mimetype": "text/x-python",
   "name": "python",
   "nbconvert_exporter": "python",
   "pygments_lexer": "ipython3",
   "version": "3.8.2"
  }
 },
 "nbformat": 4,
 "nbformat_minor": 4
}
