{
 "cells": [
  {
   "cell_type": "code",
   "execution_count": 27,
   "metadata": {},
   "outputs": [],
   "source": [
    "import json\n",
    "import numpy as np\n",
    "import pandas as pd\n",
    "from matplotlib import pyplot as plt\n",
    "from research.weight_estimation.keypoint_utils.keypoint_transformations import get_keypoint_arr"
   ]
  },
  {
   "cell_type": "code",
   "execution_count": null,
   "metadata": {},
   "outputs": [],
   "source": []
  },
  {
   "cell_type": "code",
   "execution_count": 2,
   "metadata": {},
   "outputs": [],
   "source": [
    "df = pd.read_csv('/root/data/s3/aquabyte-images-adhoc/alok/production_datasets/imr_data_one_month.csv')\n",
    "df1 = pd.read_csv('/root/data/temp/results_current_pytorch_imr.csv')\n",
    "df2 = pd.read_csv('/root/data/temp/results_new_biomass_keras_model_imr_v2.csv')\n"
   ]
  },
  {
   "cell_type": "code",
   "execution_count": 3,
   "metadata": {},
   "outputs": [],
   "source": [
    "raw_keypoint_arrs, centered_keypoint_arrs = [], []\n",
    "for idx, row in df.iterrows():\n",
    "    raw_keypoint_arr, centered_keypoint_arr = get_keypoint_arr(json.loads(row.annotation), json.loads(row.camera_metadata))\n",
    "    raw_keypoint_arrs.append(raw_keypoint_arr)\n",
    "    centered_keypoint_arrs.append(centered_keypoint_arr)\n",
    "\n"
   ]
  },
  {
   "cell_type": "code",
   "execution_count": 4,
   "metadata": {},
   "outputs": [],
   "source": [
    "df['raw_keypoint_arr'] = raw_keypoint_arrs\n",
    "df['centered_keypoint_arr'] = centered_keypoint_arrs"
   ]
  },
  {
   "cell_type": "code",
   "execution_count": 5,
   "metadata": {},
   "outputs": [],
   "source": [
    "raw_depths = []\n",
    "centered_depths = []\n",
    "for idx, row in df.iterrows():\n",
    "    raw_keypoint_arr, centered_keypoint_arr = row.raw_keypoint_arr, row.centered_keypoint_arr\n",
    "    raw_median_depth = np.median(raw_keypoint_arr[:, 1])\n",
    "    centered_median_depth = np.median(centered_keypoint_arr[:, 1])\n",
    "    raw_depths.append(raw_median_depth)\n",
    "    centered_depths.append(centered_median_depth)\n",
    "    \n",
    "df['raw_depth'] = raw_depths\n",
    "df['centered_depth'] = centered_depths\n",
    "df['difference'] = df2.estimated_weight_g - df1.estimated_weight_g"
   ]
  },
  {
   "cell_type": "code",
   "execution_count": null,
   "metadata": {},
   "outputs": [],
   "source": []
  },
  {
   "cell_type": "code",
   "execution_count": 8,
   "metadata": {},
   "outputs": [
    {
     "data": {
      "image/png": "[encoded data removed]",
      "text/plain": [
       "<Figure size 1440x720 with 1 Axes>"
      ]
     },
     "metadata": {
      "needs_background": "light"
     },
     "output_type": "display_data"
    }
   ],
   "source": [
    "plt.figure(figsize=(20, 10))\n",
    "plt.hist(df.raw_depth)\n",
    "plt.grid()\n",
    "plt.show()"
   ]
  },
  {
   "cell_type": "code",
   "execution_count": null,
   "metadata": {},
   "outputs": [],
   "source": []
  },
  {
   "cell_type": "code",
   "execution_count": null,
   "metadata": {},
   "outputs": [],
   "source": []
  },
  {
   "cell_type": "code",
   "execution_count": null,
   "metadata": {},
   "outputs": [],
   "source": []
  },
  {
   "cell_type": "code",
   "execution_count": 26,
   "metadata": {},
   "outputs": [
    {
     "name": "stdout",
     "output_type": "stream",
     "text": [
      "Mean Difference for depth range 0.5<->0.6: -156.8863747848405\n",
      "Mean Difference for depth range 0.6<->0.7: -55.687194211142405\n",
      "Mean Difference for depth range 0.7<->0.8: 5.7035999225197775\n",
      "Mean Difference for depth range 0.8<->0.9: 100.9191073472373\n",
      "Mean Difference for depth range 0.9<->1.0: 126.1182270161762\n",
      "Mean Difference for depth range 1.0<->1.1: 145.07522375564352\n",
      "Mean Difference for depth range 1.1<->1.2: 146.87192062626178\n",
      "Mean Difference for depth range 1.2<->1.3: 153.14759443402377\n",
      "Mean Difference for depth range 1.3<->1.4: 168.67354928220368\n",
      "Mean Difference for depth range 1.4<->1.5: 176.61896303522568\n",
      "Mean Difference for depth range 1.5<->1.6: 199.06358010638942\n",
      "Mean Difference for depth range 1.6<->1.7: 231.35963202930265\n",
      "Mean Difference for depth range 1.7<->1.8: 280.59884597925014\n",
      "Mean Difference for depth range 1.8<->1.9: 341.2949479507764\n",
      "Mean Difference for depth range 1.9<->2.0: 424.35334129489894\n",
      "Mean Difference for depth range 2.0<->2.1: 500.11551019280375\n",
      "Mean Difference for depth range 2.1<->2.2: 631.4044723708195\n",
      "Mean Difference for depth range 2.2<->2.3: 727.593792631076\n",
      "Mean Difference for depth range 2.3<->2.4: 820.0588231941439\n",
      "Mean Difference for depth range 2.4<->2.5: 939.2342414404895\n",
      "Mean Difference for depth range 2.5<->2.6: 917.3173191291946\n",
      "Mean Difference for depth range 2.6<->2.7: 1179.221456959134\n",
      "Mean Difference for depth range 2.7<->2.8: 1579.2754789193475\n",
      "Mean Difference for depth range 2.8<->2.9: 972.6980328559875\n"
     ]
    }
   ],
   "source": [
    "vals = np.arange(0.5, 3.0, 0.1)\n",
    "for idx in range(len(vals) - 1):\n",
    "    low, high = vals[idx], vals[idx+1]\n",
    "    mean_diff = df[(df.centered_depth > low) & (df.centered_depth < high)].difference.mean()\n",
    "    print('Mean Difference for depth range {}<->{}: {}'.format(round(low, 1), round(high, 1), mean_diff))"
   ]
  },
  {
   "cell_type": "code",
   "execution_count": 17,
   "metadata": {},
   "outputs": [
    {
     "data": {
      "text/plain": [
       "{'id': 4205,\n",
       " 'leftCrop': [{'xCrop': 245,\n",
       "   'yCrop': 479,\n",
       "   'xFrame': 1647,\n",
       "   'yFrame': 479,\n",
       "   'keypointType': 'TAIL_NOTCH'},\n",
       "  {'xCrop': 510,\n",
       "   'yCrop': 334,\n",
       "   'xFrame': 1912,\n",
       "   'yFrame': 334,\n",
       "   'keypointType': 'ADIPOSE_FIN'},\n",
       "  {'xCrop': 2135,\n",
       "   'yCrop': 255,\n",
       "   'xFrame': 3537,\n",
       "   'yFrame': 255,\n",
       "   'keypointType': 'UPPER_LIP'},\n",
       "  {'xCrop': 699,\n",
       "   'yCrop': 610,\n",
       "   'xFrame': 2101,\n",
       "   'yFrame': 610,\n",
       "   'keypointType': 'ANAL_FIN'},\n",
       "  {'xCrop': 1077,\n",
       "   'yCrop': 623,\n",
       "   'xFrame': 2479,\n",
       "   'yFrame': 623,\n",
       "   'keypointType': 'PELVIC_FIN'},\n",
       "  {'xCrop': 1946,\n",
       "   'yCrop': 295,\n",
       "   'xFrame': 3348,\n",
       "   'yFrame': 295,\n",
       "   'keypointType': 'EYE'},\n",
       "  {'xCrop': 1682,\n",
       "   'yCrop': 479,\n",
       "   'xFrame': 3084,\n",
       "   'yFrame': 479,\n",
       "   'keypointType': 'PECTORAL_FIN'},\n",
       "  {'xCrop': 1190,\n",
       "   'yCrop': 137,\n",
       "   'xFrame': 2592,\n",
       "   'yFrame': 137,\n",
       "   'keypointType': 'DORSAL_FIN'}],\n",
       " 'rightCrop': [{'xCrop': 275,\n",
       "   'yCrop': 487,\n",
       "   'xFrame': 1298,\n",
       "   'yFrame': 487,\n",
       "   'keypointType': 'TAIL_NOTCH'},\n",
       "  {'xCrop': 532,\n",
       "   'yCrop': 344,\n",
       "   'xFrame': 1555,\n",
       "   'yFrame': 344,\n",
       "   'keypointType': 'ADIPOSE_FIN'},\n",
       "  {'xCrop': 2076,\n",
       "   'yCrop': 253,\n",
       "   'xFrame': 3099,\n",
       "   'yFrame': 253,\n",
       "   'keypointType': 'UPPER_LIP'},\n",
       "  {'xCrop': 679,\n",
       "   'yCrop': 605,\n",
       "   'xFrame': 1702,\n",
       "   'yFrame': 605,\n",
       "   'keypointType': 'ANAL_FIN'},\n",
       "  {'xCrop': 1047,\n",
       "   'yCrop': 631,\n",
       "   'xFrame': 2070,\n",
       "   'yFrame': 631,\n",
       "   'keypointType': 'PELVIC_FIN'},\n",
       "  {'xCrop': 1892,\n",
       "   'yCrop': 292,\n",
       "   'xFrame': 2915,\n",
       "   'yFrame': 292,\n",
       "   'keypointType': 'EYE'},\n",
       "  {'xCrop': 1635,\n",
       "   'yCrop': 475,\n",
       "   'xFrame': 2658,\n",
       "   'yFrame': 475,\n",
       "   'keypointType': 'PECTORAL_FIN'},\n",
       "  {'xCrop': 1120,\n",
       "   'yCrop': 136,\n",
       "   'xFrame': 2143,\n",
       "   'yFrame': 136,\n",
       "   'keypointType': 'DORSAL_FIN'}],\n",
       " 'probability': 0.9977753758,\n",
       " 'modelVerion': 'fcb8afa9f5917b4e8bfa643becc06c52',\n",
       " 'scorerVersion': 'dccdf0a45f86ef4e9ec5eee58b165f48'}"
      ]
     },
     "execution_count": 17,
     "metadata": {},
     "output_type": "execute_result"
    }
   ],
   "source": [
    "json.loads(df[df.right_crop_url == 'https://aquabyte-crops.s3.eu-west-1.amazonaws.com/environment=production/site-id=40/pen-id=61/date=2019-11-23/hour=00/at=2019-11-23T00:31:20.795673000Z/right_frame_crop_1050_24_3358_837.jpg'].annotation.iloc[0])"
   ]
  },
  {
   "cell_type": "code",
   "execution_count": null,
   "metadata": {},
   "outputs": [],
   "source": []
  },
  {
   "cell_type": "code",
   "execution_count": null,
   "metadata": {},
   "outputs": [],
   "source": []
  },
  {
   "cell_type": "code",
   "execution_count": null,
   "metadata": {},
   "outputs": [],
   "source": []
  },
  {
   "cell_type": "code",
   "execution_count": null,
   "metadata": {},
   "outputs": [],
   "source": []
  },
  {
   "cell_type": "code",
   "execution_count": null,
   "metadata": {},
   "outputs": [],
   "source": []
  },
  {
   "cell_type": "code",
   "execution_count": null,
   "metadata": {},
   "outputs": [],
   "source": []
  },
  {
   "cell_type": "code",
   "execution_count": null,
   "metadata": {},
   "outputs": [],
   "source": []
  },
  {
   "cell_type": "code",
   "execution_count": null,
   "metadata": {},
   "outputs": [],
   "source": []
  },
  {
   "cell_type": "code",
   "execution_count": null,
   "metadata": {},
   "outputs": [],
   "source": []
  },
  {
   "cell_type": "code",
   "execution_count": null,
   "metadata": {},
   "outputs": [],
   "source": []
  }
 ],
 "metadata": {
  "kernelspec": {
   "display_name": "Python 3",
   "language": "python",
   "name": "python3"
  },
  "language_info": {
   "codemirror_mode": {
    "name": "ipython",
    "version": 3
   },
   "file_extension": ".py",
   "mimetype": "text/x-python",
   "name": "python",
   "nbconvert_exporter": "python",
   "pygments_lexer": "ipython3",
   "version": "3.8.2"
  }
 },
 "nbformat": 4,
 "nbformat_minor": 4
}
