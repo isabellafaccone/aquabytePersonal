{
 "cells": [
  {
   "cell_type": "code",
   "execution_count": null,
   "metadata": {},
   "outputs": [],
   "source": [
    "from matplotlib import pyplot as plt\n",
    "import numpy as np\n",
    "import pandas as pd\n",
    "from research_lib.utils.data_access_utils import RDSAccessUtils"
   ]
  },
  {
   "cell_type": "code",
   "execution_count": null,
   "metadata": {},
   "outputs": [],
   "source": [
    "rds = RDSAccessUtils()\n",
    "query = \"\"\"\n",
    "    select * from prod.biomass_computations\n",
    "    where pen_id=159\n",
    "    and captured_at between '2021-04-14' and '2021-04-22'\n",
    "    and akpd_score > 0.9;\n",
    "\"\"\"\n",
    "\n",
    "df = rds.extract_from_database(query)\n",
    "df.index = pd.to_datetime(df.captured_at)\n",
    "df['date'] = df.index.date.astype(str)\n",
    "df['hour'] = df.index.hour\n"
   ]
  },
  {
   "cell_type": "code",
   "execution_count": null,
   "metadata": {},
   "outputs": [],
   "source": []
  },
  {
   "cell_type": "code",
   "execution_count": null,
   "metadata": {},
   "outputs": [],
   "source": []
  },
  {
   "cell_type": "code",
   "execution_count": null,
   "metadata": {},
   "outputs": [],
   "source": [
    "def generate_distribution(weights, min_weight=0, max_weight=12000, bin_width=1000):\n",
    "    bucket_edges = np.arange(min_weight, max_weight, bin_width)\n",
    "    buckets, bin_pcts = [], []\n",
    "    for low_weight, high_weight in zip(bucket_edges, bucket_edges[1:]):\n",
    "        bucket = '{}-{}'.format(low_weight, high_weight)\n",
    "        buckets.append(bucket)\n",
    "        \n",
    "        bin_sample_size = weights[(weights > low_weight) & (weights < high_weight)].shape[0]\n",
    "        bin_pct = round(100 * bin_sample_size / len(weights), 2)\n",
    "        bin_pcts.append(bin_pct)\n",
    "        \n",
    "    return buckets, bin_pcts\n",
    "        \n",
    "        "
   ]
  },
  {
   "cell_type": "code",
   "execution_count": null,
   "metadata": {},
   "outputs": [],
   "source": [
    "plt.figure(figsize=(15, 8))\n",
    "hour_mask = (df.hour > 7) & (df.hour < 15)\n",
    "date_mask_1 = (df.date >= '2021-04-14') & (df.date <= '2021-04-16')\n",
    "buckets, bin_pcts = generate_distribution(df[date_mask_1 & hour_mask].estimated_weight_g.values)\n",
    "plt.bar(buckets, bin_pcts, color='blue', label='Before partial harvest')\n",
    "tdf1 = pd.DataFrame({'bucket': buckets, 'percenatge': bin_pcts})\n",
    "\n",
    "date_mask_2 = (df.date >= '2021-04-19') & (df.date <= '2021-04-21')\n",
    "buckets, bin_pcts = generate_distribution(df[date_mask_2 & hour_mask].estimated_weight_g.values)\n",
    "plt.bar(buckets, bin_pcts, color='red', alpha=0.5, label='After partial harvest')\n",
    "tdf2 = pd.DataFrame({'bucket': buckets, 'percenatge': bin_pcts})\n",
    "\n",
    "plt.xlabel('Weight bucket (g)')\n",
    "plt.ylabel('Percentage (%)')\n",
    "\n",
    "plt.title('Storelva pen 3: Partial Harvest Weight Distribution Comparison')\n",
    "plt.legend()\n",
    "plt.grid()\n",
    "plt.show()\n",
    "\n"
   ]
  },
  {
   "cell_type": "code",
   "execution_count": null,
   "metadata": {},
   "outputs": [],
   "source": [
    "tdf2"
   ]
  },
  {
   "cell_type": "code",
   "execution_count": null,
   "metadata": {},
   "outputs": [],
   "source": []
  },
  {
   "cell_type": "code",
   "execution_count": null,
   "metadata": {},
   "outputs": [],
   "source": []
  },
  {
   "cell_type": "code",
   "execution_count": null,
   "metadata": {},
   "outputs": [],
   "source": []
  },
  {
   "cell_type": "code",
   "execution_count": null,
   "metadata": {},
   "outputs": [],
   "source": []
  },
  {
   "cell_type": "code",
   "execution_count": null,
   "metadata": {},
   "outputs": [],
   "source": []
  },
  {
   "cell_type": "code",
   "execution_count": null,
   "metadata": {},
   "outputs": [],
   "source": []
  },
  {
   "cell_type": "code",
   "execution_count": null,
   "metadata": {},
   "outputs": [],
   "source": []
  },
  {
   "cell_type": "code",
   "execution_count": null,
   "metadata": {},
   "outputs": [],
   "source": []
  },
  {
   "cell_type": "code",
   "execution_count": null,
   "metadata": {},
   "outputs": [],
   "source": []
  },
  {
   "cell_type": "code",
   "execution_count": null,
   "metadata": {},
   "outputs": [],
   "source": []
  },
  {
   "cell_type": "code",
   "execution_count": null,
   "metadata": {},
   "outputs": [],
   "source": []
  },
  {
   "cell_type": "code",
   "execution_count": null,
   "metadata": {},
   "outputs": [],
   "source": []
  },
  {
   "cell_type": "code",
   "execution_count": null,
   "metadata": {},
   "outputs": [],
   "source": []
  }
 ],
 "metadata": {
  "kernelspec": {
   "display_name": "Python 3",
   "language": "python",
   "name": "python3"
  },
  "language_info": {
   "codemirror_mode": {
    "name": "ipython",
    "version": 3
   },
   "file_extension": ".py",
   "mimetype": "text/x-python",
   "name": "python",
   "nbconvert_exporter": "python",
   "pygments_lexer": "ipython3",
   "version": "3.6.5"
  }
 },
 "nbformat": 4,
 "nbformat_minor": 2
}
