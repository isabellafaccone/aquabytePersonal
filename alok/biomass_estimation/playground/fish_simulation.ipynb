{
 "cells": [
  {
   "cell_type": "code",
   "execution_count": null,
   "metadata": {},
   "outputs": [],
   "source": [
    "import numpy as np\n",
    "import random\n",
    "from matplotlib import pyplot as plt\n",
    "import plotly.express as px"
   ]
  },
  {
   "cell_type": "code",
   "execution_count": null,
   "metadata": {},
   "outputs": [],
   "source": []
  },
  {
   "cell_type": "markdown",
   "metadata": {},
   "source": [
    "<h1> Fish Simulation </h1>"
   ]
  },
  {
   "cell_type": "code",
   "execution_count": null,
   "metadata": {},
   "outputs": [],
   "source": [
    "def length_from_weight(weight):\n",
    "    return (weight**(1/3.0)) / 2.36068 * random.gauss(1.0, 0.05)\n",
    "\n",
    "class Fish:\n",
    "    \n",
    "    def __init__(self, weight_mean, weight_std, speed_factor_mean, speed_factor_std, min_depth, max_depth):\n",
    "        self.weight = random.gauss(weight_mean, weight_std)\n",
    "        self.length = length_from_weight(self.weight)\n",
    "        self.depth = random.uniform(min_depth, max_depth)\n",
    "        self.speed = self.length * random.gauss(speed_factor_mean, speed_factor_std)\n",
    "        self.is_sampled = False\n",
    "        self.position = [-10, self.depth, 0]\n",
    "        \n",
    "    def update_position(self, delta_t):\n",
    "        delta_x = self.speed * delta_t\n",
    "        self.position[0] += delta_x\n",
    "        \n",
    "    def get_position(self):\n",
    "        return self.position\n",
    "        \n",
    "        \n",
    "class Camera:\n",
    "    \n",
    "    def __init__(self, position, fov_degrees, viewing_angle_degrees):\n",
    "        self.position = position\n",
    "        self.fov = fov_degrees * np.pi / 180.0\n",
    "        self.viewing_angle = viewing_angle_degrees * np.pi / 180.0\n",
    "        \n",
    "    @staticmethod\n",
    "    def gen_p_capture(depth, a=1.5, b=2.5, default_p=1.0):\n",
    "        if depth < a:\n",
    "            return default_p\n",
    "        else:\n",
    "            return max(default_p * (b - depth) / (b - a), 0)\n",
    "        \n",
    "    def contains(self, fish):\n",
    "        fish_position = fish.get_position()\n",
    "        fish_segment_at_depth = (fish_position[0] - fish.length / 2.0, fish_position[0] + fish.length / 2.0)\n",
    "        field_size = fish_position[1] * np.tan(self.fov / 2.0 - self.viewing_angle) + \\\n",
    "                     fish_position[1] * np.tan(self.fov / 2.0 + self.viewing_angle)\n",
    "#         print(field_size)\n",
    "        field_center = self.position[0] + fish_position[1] * np.tan(self.viewing_angle)\n",
    "        field_segment_at_depth = (field_center - field_size / 2.0, field_center + field_size / 2.0)\n",
    "#         print(field_segment_at_depth)\n",
    "#         print(fish_segment_at_depth)\n",
    "        if (fish_segment_at_depth[0] > field_segment_at_depth[0]) and \\\n",
    "            (fish_segment_at_depth[1] < field_segment_at_depth[1]):\n",
    "            return random.random() < self.gen_p_capture(fish_position[1])\n",
    "        return False\n",
    "        \n"
   ]
  },
  {
   "cell_type": "code",
   "execution_count": null,
   "metadata": {},
   "outputs": [],
   "source": [
    "left_camera = Camera((0, 0, 0), 54, 0)\n",
    "left_camera.contains(sampled_fishes_54_1_tilt[0])"
   ]
  },
  {
   "cell_type": "code",
   "execution_count": null,
   "metadata": {},
   "outputs": [],
   "source": [
    "left_camera.__dict__"
   ]
  },
  {
   "cell_type": "code",
   "execution_count": null,
   "metadata": {},
   "outputs": [],
   "source": [
    "sampled_fishes_54_1_tilt[0].__dict__"
   ]
  },
  {
   "cell_type": "code",
   "execution_count": null,
   "metadata": {},
   "outputs": [],
   "source": [
    "-.3 - .67/2"
   ]
  },
  {
   "cell_type": "code",
   "execution_count": null,
   "metadata": {},
   "outputs": [],
   "source": []
  },
  {
   "cell_type": "code",
   "execution_count": null,
   "metadata": {},
   "outputs": [],
   "source": []
  },
  {
   "cell_type": "code",
   "execution_count": null,
   "metadata": {},
   "outputs": [],
   "source": []
  },
  {
   "cell_type": "code",
   "execution_count": null,
   "metadata": {},
   "outputs": [],
   "source": []
  },
  {
   "cell_type": "code",
   "execution_count": null,
   "metadata": {},
   "outputs": [],
   "source": []
  },
  {
   "cell_type": "code",
   "execution_count": null,
   "metadata": {},
   "outputs": [],
   "source": [
    "# global fishes\n",
    "\n",
    "\n",
    "def spawn_fish(fishes):\n",
    "    fish = Fish(5.0, 1.0, 0.9, 0.05, 0.3, 3.0)\n",
    "    fishes.append(fish)\n",
    "    \n",
    "    \n",
    "def move_fish(t, t_new, fishes):\n",
    "    delta_t = t_new - t\n",
    "    for fish in fishes:\n",
    "        fish.update_position(delta_t)\n",
    "        \n",
    "    fishes = [fish for fish in fishes if fish.get_position()[0] < 10.0]\n",
    "    return fishes\n",
    "    \n",
    "    \n",
    "def check_if_fully_visible(fish, left_camera, right_camera):\n",
    "    return left_camera.contains(fish) and right_camera.contains(fish)\n",
    "    \n",
    "    \n",
    "def trigger_capture(fishes, sampled_fishes, left_camera, right_camera):\n",
    "    for fish in fishes:\n",
    "        is_visible = check_if_fully_visible(fish, left_camera, right_camera)\n",
    "        if is_visible:\n",
    "            fish.is_sampled = True\n",
    "            sampled_fishes.append(fish)\n",
    "            \n",
    "    fishes = [fish for fish in fishes if fish.is_sampled == False]\n",
    "    return fishes\n",
    "            \n",
    "\n"
   ]
  },
  {
   "cell_type": "code",
   "execution_count": null,
   "metadata": {},
   "outputs": [],
   "source": [
    "def generate_samples(FOV, FPS, viewing_angle=0.0):\n",
    "    fishes = []\n",
    "    sampled_fishes = []\n",
    "    left_camera = Camera((0, 0, 0), FOV, viewing_angle)\n",
    "    right_camera = Camera((0.105, 0, 0), FOV, -viewing_angle)\n",
    "\n",
    "    capture_times = list(np.arange(0, 100000, 1.0 / FPS))\n",
    "    fish_spawn_times = list(np.cumsum(np.random.exponential(2, 10000)))\n",
    "\n",
    "    t = 0\n",
    "    while len(capture_times) > 0 and len(fish_spawn_times) > 0:\n",
    "        event_type = np.argmin([capture_times[0], fish_spawn_times[0]])\n",
    "        if event_type == 0:\n",
    "            t_new = capture_times[0]\n",
    "            fishes = move_fish(t, t_new, fishes)\n",
    "            fishes = trigger_capture(fishes, sampled_fishes, left_camera, right_camera)\n",
    "            t = t_new\n",
    "            del capture_times[0]\n",
    "        elif event_type == 1:\n",
    "            t_new = fish_spawn_times[0]\n",
    "            fishes = move_fish(t, t_new, fishes)\n",
    "            spawn_fish(fishes)\n",
    "            t = t_new\n",
    "            del fish_spawn_times[0]\n",
    "\n",
    "        if len(capture_times) % 100000 == 0:\n",
    "            print(len(capture_times))\n",
    "    \n",
    "    return sampled_fishes\n"
   ]
  },
  {
   "cell_type": "code",
   "execution_count": null,
   "metadata": {},
   "outputs": [],
   "source": [
    "sampled_fishes[0].__dict__"
   ]
  },
  {
   "cell_type": "code",
   "execution_count": null,
   "metadata": {},
   "outputs": [],
   "source": []
  },
  {
   "cell_type": "code",
   "execution_count": null,
   "metadata": {},
   "outputs": [],
   "source": []
  },
  {
   "cell_type": "code",
   "execution_count": null,
   "metadata": {},
   "outputs": [],
   "source": [
    "def d_max(fov_degrees, tilt_degrees):\n",
    "    fov = fov_degrees * np.pi / 180.0\n",
    "    tilt = tilt_degrees * np.pi / 180.0\n",
    "    return 0.105 / (np.tan(fov/2 + tilt) - np.tan(fov/2 - tilt))"
   ]
  },
  {
   "cell_type": "code",
   "execution_count": null,
   "metadata": {},
   "outputs": [],
   "source": [
    "d_max(54, 5)"
   ]
  },
  {
   "cell_type": "code",
   "execution_count": null,
   "metadata": {},
   "outputs": [],
   "source": []
  },
  {
   "cell_type": "code",
   "execution_count": null,
   "metadata": {},
   "outputs": [],
   "source": [
    "sampled_fishes_54_1 = generate_samples(54, 1.0)"
   ]
  },
  {
   "cell_type": "code",
   "execution_count": null,
   "metadata": {},
   "outputs": [],
   "source": [
    "sampled_fishes_54_1_tilt = generate_samples(54, 1.0, 10.0)"
   ]
  },
  {
   "cell_type": "code",
   "execution_count": null,
   "metadata": {},
   "outputs": [],
   "source": [
    "len(sampled_fishes_54_1)"
   ]
  },
  {
   "cell_type": "code",
   "execution_count": null,
   "metadata": {},
   "outputs": [],
   "source": [
    "len(sampled_fishes_54_1_tilt)"
   ]
  },
  {
   "cell_type": "code",
   "execution_count": null,
   "metadata": {},
   "outputs": [],
   "source": [
    "2027/2894"
   ]
  },
  {
   "cell_type": "code",
   "execution_count": null,
   "metadata": {},
   "outputs": [],
   "source": []
  },
  {
   "cell_type": "code",
   "execution_count": null,
   "metadata": {},
   "outputs": [],
   "source": [
    "2*np.tan(54*np.pi / 180.0 / 2)"
   ]
  },
  {
   "cell_type": "code",
   "execution_count": null,
   "metadata": {},
   "outputs": [],
   "source": [
    "np.tan((44)*np.pi / 180.0 / 2) + np.tan((64)*np.pi / 180.0 / 2)"
   ]
  },
  {
   "cell_type": "code",
   "execution_count": null,
   "metadata": {},
   "outputs": [],
   "source": []
  },
  {
   "cell_type": "code",
   "execution_count": null,
   "metadata": {},
   "outputs": [],
   "source": []
  },
  {
   "cell_type": "code",
   "execution_count": null,
   "metadata": {},
   "outputs": [],
   "source": []
  },
  {
   "cell_type": "code",
   "execution_count": null,
   "metadata": {},
   "outputs": [],
   "source": [
    "fovs = np.arange(54, 70, 2.0)\n",
    "fps_vals = [0.25, 0.5] + list(np.arange(1.0, 6.0, 1.0))\n",
    "sampled_fishes_54_1 = generate_samples(54, 1.0)\n",
    "\n",
    "sample_size_pcts = np.zeros((len(fovs), len(fps_vals)))\n",
    "for i, fov in enumerate(fovs):\n",
    "    print(fov)\n",
    "    for j, fps in enumerate(fps_vals):\n",
    "        sampled_fishes_fps = generate_samples(fov, fps)\n",
    "        sample_pct = len(sampled_fishes_fps) / len(sampled_fishes_54_1)\n",
    "        sample_size_pcts[i, j] = sample_pct"
   ]
  },
  {
   "cell_type": "code",
   "execution_count": null,
   "metadata": {},
   "outputs": [],
   "source": [
    "import seaborn as sns\n",
    "\n",
    "plt.figure(figsize=(20, 10))\n",
    "sns.heatmap(sample_size_pcts, annot=True, xticklabels=fps_vals, yticklabels=fovs)\n",
    "plt.show()"
   ]
  },
  {
   "cell_type": "code",
   "execution_count": null,
   "metadata": {},
   "outputs": [],
   "source": []
  },
  {
   "cell_type": "code",
   "execution_count": null,
   "metadata": {},
   "outputs": [],
   "source": []
  },
  {
   "cell_type": "code",
   "execution_count": null,
   "metadata": {},
   "outputs": [],
   "source": []
  },
  {
   "cell_type": "code",
   "execution_count": null,
   "metadata": {},
   "outputs": [],
   "source": [
    "sampled_fishes_54_2 = generate_samples(54, 2.0)"
   ]
  },
  {
   "cell_type": "code",
   "execution_count": null,
   "metadata": {},
   "outputs": [],
   "source": [
    "sampled_fishes_54_4 = generate_samples(54, 4.0)"
   ]
  },
  {
   "cell_type": "code",
   "execution_count": null,
   "metadata": {},
   "outputs": [],
   "source": [
    "sampled_fishes_66_4 = generate_samples(66, 4.0)"
   ]
  },
  {
   "cell_type": "code",
   "execution_count": null,
   "metadata": {},
   "outputs": [],
   "source": [
    "plt.figure(figsize=(20, 10))\n",
    "plt.hist([fish.depth for fish in sampled_fishes_54_4], bins=20)\n",
    "plt.hist([fish.depth for fish in sampled_fishes_54_2], bins=20)\n",
    "plt.hist([fish.depth for fish in sampled_fishes_54_1], bins=20)\n",
    "\n",
    "plt.grid()\n",
    "plt.show()"
   ]
  },
  {
   "cell_type": "code",
   "execution_count": null,
   "metadata": {},
   "outputs": [],
   "source": []
  },
  {
   "cell_type": "code",
   "execution_count": null,
   "metadata": {},
   "outputs": [],
   "source": [
    "sampled_fishes_54_1 = generate_samples(54, 1.0)"
   ]
  },
  {
   "cell_type": "code",
   "execution_count": null,
   "metadata": {},
   "outputs": [],
   "source": [
    "sampled_fishes_58_1 = generate_samples(58, 1.0)"
   ]
  },
  {
   "cell_type": "code",
   "execution_count": null,
   "metadata": {},
   "outputs": [],
   "source": [
    "sampled_fishes_62_1 = generate_samples(62, 1.0)"
   ]
  },
  {
   "cell_type": "code",
   "execution_count": null,
   "metadata": {},
   "outputs": [],
   "source": [
    "sampled_fishes_60_5 = generate_samples(60, 5.0)"
   ]
  },
  {
   "cell_type": "code",
   "execution_count": null,
   "metadata": {},
   "outputs": [],
   "source": [
    "plt.figure(figsize=(20, 10))\n",
    "plt.hist([fish.depth for fish in sampled_fishes_66_1], bins=20)\n",
    "plt.hist([fish.depth for fish in sampled_fishes_62_1], bins=20)\n",
    "plt.hist([fish.depth for fish in sampled_fishes_58_1], bins=20)\n",
    "plt.hist([fish.depth for fish in sampled_fishes_54_1], bins=20)\n",
    "\n",
    "\n",
    "plt.grid()\n",
    "plt.show()"
   ]
  },
  {
   "cell_type": "code",
   "execution_count": null,
   "metadata": {},
   "outputs": [],
   "source": []
  },
  {
   "cell_type": "code",
   "execution_count": null,
   "metadata": {},
   "outputs": [],
   "source": [
    "def get_bar_chart_data(sampled_fishes):\n",
    "    depths = [fish.depth for fish in sampled_fishes]\n",
    "    weights = [fish.weight for fish in sampled_fishes]\n",
    "    depth_ticks = np.arange(0.5, 2.5, 0.1)\n",
    "    \n",
    "\n",
    "def plot_bar_chart(sampled_fishes):\n",
    "    pass\n",
    "    \n",
    "    "
   ]
  },
  {
   "cell_type": "code",
   "execution_count": null,
   "metadata": {},
   "outputs": [],
   "source": []
  },
  {
   "cell_type": "code",
   "execution_count": null,
   "metadata": {},
   "outputs": [],
   "source": []
  },
  {
   "cell_type": "code",
   "execution_count": null,
   "metadata": {},
   "outputs": [],
   "source": []
  },
  {
   "cell_type": "code",
   "execution_count": null,
   "metadata": {},
   "outputs": [],
   "source": []
  },
  {
   "cell_type": "code",
   "execution_count": null,
   "metadata": {},
   "outputs": [],
   "source": []
  },
  {
   "cell_type": "code",
   "execution_count": null,
   "metadata": {},
   "outputs": [],
   "source": []
  },
  {
   "cell_type": "code",
   "execution_count": null,
   "metadata": {},
   "outputs": [],
   "source": []
  },
  {
   "cell_type": "code",
   "execution_count": null,
   "metadata": {},
   "outputs": [],
   "source": []
  },
  {
   "cell_type": "code",
   "execution_count": null,
   "metadata": {},
   "outputs": [],
   "source": [
    "np.mean([fish.weight for fish in sampled_fishes_54_1 if 0.8 < fish.depth < 1.5])"
   ]
  },
  {
   "cell_type": "code",
   "execution_count": null,
   "metadata": {},
   "outputs": [],
   "source": [
    "np.mean([fish.weight for fish in sampled_fishes_66_4 if 0.8 < fish.depth < 1.5])"
   ]
  },
  {
   "cell_type": "code",
   "execution_count": null,
   "metadata": {},
   "outputs": [],
   "source": []
  },
  {
   "cell_type": "code",
   "execution_count": null,
   "metadata": {},
   "outputs": [],
   "source": []
  },
  {
   "cell_type": "code",
   "execution_count": null,
   "metadata": {},
   "outputs": [],
   "source": []
  },
  {
   "cell_type": "code",
   "execution_count": null,
   "metadata": {},
   "outputs": [],
   "source": [
    "sampled_fishes_60_5 = generate_samples(60, 5.0)"
   ]
  },
  {
   "cell_type": "code",
   "execution_count": null,
   "metadata": {},
   "outputs": [],
   "source": [
    "len([fish for fish in sampled_fishes_54_1])"
   ]
  },
  {
   "cell_type": "code",
   "execution_count": null,
   "metadata": {},
   "outputs": [],
   "source": [
    "len([fish for fish in sampled_fishes_54_5])"
   ]
  },
  {
   "cell_type": "code",
   "execution_count": null,
   "metadata": {},
   "outputs": [],
   "source": [
    "len([fish for fish in sampled_fishes_60_5])"
   ]
  },
  {
   "cell_type": "code",
   "execution_count": null,
   "metadata": {},
   "outputs": [],
   "source": [
    "5504"
   ]
  },
  {
   "cell_type": "code",
   "execution_count": null,
   "metadata": {},
   "outputs": [],
   "source": [
    "plt.figure(figsize=(20, 10))\n",
    "plt.hist([fish.depth for fish in sampled_fishes], bins=20)\n",
    "plt.grid()\n",
    "plt.show()"
   ]
  },
  {
   "cell_type": "code",
   "execution_count": null,
   "metadata": {},
   "outputs": [],
   "source": [
    "plt.figure(figsize=(20, 10))\n",
    "plt.hist([fish.depth for fish in sampled_fishes], bins=20)\n",
    "plt.grid()\n",
    "plt.show()"
   ]
  },
  {
   "cell_type": "code",
   "execution_count": null,
   "metadata": {},
   "outputs": [],
   "source": []
  },
  {
   "cell_type": "code",
   "execution_count": null,
   "metadata": {},
   "outputs": [],
   "source": []
  },
  {
   "cell_type": "code",
   "execution_count": null,
   "metadata": {},
   "outputs": [],
   "source": []
  },
  {
   "cell_type": "code",
   "execution_count": null,
   "metadata": {},
   "outputs": [],
   "source": []
  },
  {
   "cell_type": "code",
   "execution_count": null,
   "metadata": {},
   "outputs": [],
   "source": []
  },
  {
   "cell_type": "code",
   "execution_count": null,
   "metadata": {},
   "outputs": [],
   "source": []
  },
  {
   "cell_type": "code",
   "execution_count": null,
   "metadata": {},
   "outputs": [],
   "source": [
    "plt.figure(figsize=(20, 10))\n",
    "plt.hist([fish.depth for fish in sampled_fishes], bins=20)\n",
    "plt.grid()\n",
    "plt.show()"
   ]
  },
  {
   "cell_type": "code",
   "execution_count": null,
   "metadata": {},
   "outputs": [],
   "source": []
  },
  {
   "cell_type": "code",
   "execution_count": null,
   "metadata": {},
   "outputs": [],
   "source": []
  },
  {
   "cell_type": "code",
   "execution_count": null,
   "metadata": {},
   "outputs": [],
   "source": []
  },
  {
   "cell_type": "code",
   "execution_count": null,
   "metadata": {},
   "outputs": [],
   "source": []
  },
  {
   "cell_type": "code",
   "execution_count": null,
   "metadata": {},
   "outputs": [],
   "source": [
    "len([fish for fish in sampled_fishes if fish.depth < 1.5])"
   ]
  },
  {
   "cell_type": "code",
   "execution_count": null,
   "metadata": {},
   "outputs": [],
   "source": [
    "sampled_fishes[0].__dict__"
   ]
  },
  {
   "cell_type": "code",
   "execution_count": null,
   "metadata": {},
   "outputs": [],
   "source": [
    "left_camera.contains(sampled_fishes[0])"
   ]
  },
  {
   "cell_type": "code",
   "execution_count": null,
   "metadata": {},
   "outputs": [],
   "source": []
  },
  {
   "cell_type": "code",
   "execution_count": null,
   "metadata": {},
   "outputs": [],
   "source": []
  },
  {
   "cell_type": "code",
   "execution_count": null,
   "metadata": {},
   "outputs": [],
   "source": []
  }
 ],
 "metadata": {
  "kernelspec": {
   "display_name": "Python 3",
   "language": "python",
   "name": "python3"
  },
  "language_info": {
   "codemirror_mode": {
    "name": "ipython",
    "version": 3
   },
   "file_extension": ".py",
   "mimetype": "text/x-python",
   "name": "python",
   "nbconvert_exporter": "python",
   "pygments_lexer": "ipython3",
   "version": "3.6.5"
  }
 },
 "nbformat": 4,
 "nbformat_minor": 2
}
