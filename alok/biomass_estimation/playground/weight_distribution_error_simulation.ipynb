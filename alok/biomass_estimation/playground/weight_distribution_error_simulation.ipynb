{
 "cells": [
  {
   "cell_type": "code",
   "execution_count": null,
   "metadata": {},
   "outputs": [],
   "source": [
    "from matplotlib import pyplot as plt\n",
    "import numpy as np\n"
   ]
  },
  {
   "cell_type": "code",
   "execution_count": null,
   "metadata": {},
   "outputs": [],
   "source": []
  },
  {
   "cell_type": "markdown",
   "metadata": {},
   "source": [
    "<h1> Create hypothetical population of fish </h1>"
   ]
  },
  {
   "cell_type": "code",
   "execution_count": null,
   "metadata": {},
   "outputs": [],
   "source": [
    "mean = 2000\n",
    "stdev = 1000\n",
    "N = 80000\n",
    "\n",
    "gt_weights = np.random.normal(mean, stdev, N)\n"
   ]
  },
  {
   "cell_type": "code",
   "execution_count": null,
   "metadata": {},
   "outputs": [],
   "source": [
    "np.random.choice(range(len(gt_weights)), 100, replace=True)"
   ]
  },
  {
   "cell_type": "markdown",
   "metadata": {},
   "source": [
    "<h1> Simulate per-fish error </h1>"
   ]
  },
  {
   "cell_type": "code",
   "execution_count": null,
   "metadata": {},
   "outputs": [],
   "source": [
    "def gen_preds(gt_weights):\n",
    "    mean_pct_error = 0\n",
    "    mae_single_fish = 0.1\n",
    "    stdev_pct_error = mae_single_fish * 1.25\n",
    "    sample_size = 1000\n",
    "    impact_factors = []\n",
    "    for w in gt_weights:\n",
    "        if w < 1000:\n",
    "            impact_factors.append(float(np.random.normal(0.82, 0.25 * 1.25)))\n",
    "        elif 1000 < w < 5000:\n",
    "            impact_factors.append(float(np.random.normal(1.03, stdev_pct_error)))\n",
    "        else:\n",
    "            impact_factors.append(float(np.random.normal(0.97, stdev_pct_error)))\n",
    "    idx = np.random.choice(range(len(gt_weights)), sample_size, replace=True)\n",
    "    pred_weights = np.multiply(np.array(impact_factors), gt_weights)[idx]\n",
    "    single_fish_pct_errs = (pred_weights - gt_weights[idx]) / gt_weights[idx]\n",
    "\n",
    "    return pred_weights, single_fish_pct_errs\n"
   ]
  },
  {
   "cell_type": "code",
   "execution_count": null,
   "metadata": {},
   "outputs": [],
   "source": [
    "mean_errs = []\n",
    "avg_weight_deviations = []\n",
    "\n",
    "all_single_fish_pct_errs = []\n",
    "for i in range(100):\n",
    "    if i % 10 == 0:\n",
    "        print(i)\n",
    "    pred_weights, single_fish_pct_errs = gen_preds(gt_weights)\n",
    "    bins = np.arange(0, 10000, 1000)\n",
    "#     pred_counts, bin_edges = np.histogram(pred_weights, bins=bins, weights=np.ones(len(pred_weights)) / len(pred_weights))\n",
    "#     gt_counts, bin_edges = np.histogram(gt_weights, bins=bins, weights=np.ones(len(gt_weights)) / len(gt_weights))\n",
    "#     mean_err = np.mean(np.abs(pred_counts - gt_counts))\n",
    "#     mean_errs.append(mean_err)\n",
    "    awd = (np.mean(pred_weights) - np.mean(gt_weights)) / np.mean(gt_weights)\n",
    "    avg_weight_deviations.append(awd)\n",
    "    all_single_fish_pct_errs.extend(single_fish_pct_errs)\n",
    "\n"
   ]
  },
  {
   "cell_type": "code",
   "execution_count": null,
   "metadata": {},
   "outputs": [],
   "source": [
    "plt.hist(100 * np.array(avg_weight_deviations), bins=20)\n",
    "plt.title('Distribution of pct deviations in average weight')\n",
    "plt.grid()\n",
    "plt.show()"
   ]
  },
  {
   "cell_type": "code",
   "execution_count": null,
   "metadata": {},
   "outputs": [],
   "source": [
    "plt.hist(all_single_fish_pct_errs, bins=20)\n",
    "plt.title('Distribution of all single fish pct errors')\n",
    "plt.grid()\n",
    "plt.show()"
   ]
  },
  {
   "cell_type": "code",
   "execution_count": null,
   "metadata": {},
   "outputs": [],
   "source": []
  },
  {
   "cell_type": "code",
   "execution_count": null,
   "metadata": {},
   "outputs": [],
   "source": []
  },
  {
   "cell_type": "code",
   "execution_count": null,
   "metadata": {},
   "outputs": [],
   "source": []
  },
  {
   "cell_type": "code",
   "execution_count": null,
   "metadata": {},
   "outputs": [],
   "source": []
  },
  {
   "cell_type": "code",
   "execution_count": null,
   "metadata": {},
   "outputs": [],
   "source": []
  },
  {
   "cell_type": "markdown",
   "metadata": {},
   "source": [
    "<h1> Overlay Distribution </h1>"
   ]
  },
  {
   "cell_type": "code",
   "execution_count": null,
   "metadata": {},
   "outputs": [],
   "source": [
    "bins = np.arange(0, 10000, 1000)\n",
    "plt.figure(figsize=(10, 5))\n",
    "plt.hist(gt_weights, bins=bins, color='blue', weights=np.ones(N) / N, alpha=1.0, label='ground truth')\n",
    "plt.hist(pred_weights, bins=bins, color='red', weights=np.ones(len(pred_weights)) / len(pred_weights), alpha=0.5, label='prediction')\n",
    "plt.title('Mean absolute single fish error: {}%'.format(mae_single_fish))\n",
    "plt.xlabel('Weight')\n",
    "plt.ylabel('Frequency')\n",
    "plt.grid()\n",
    "plt.show()"
   ]
  },
  {
   "cell_type": "code",
   "execution_count": null,
   "metadata": {},
   "outputs": [],
   "source": [
    "(pred_weights.mean() - gt_weights.mean()) / gt_weights.mean()"
   ]
  },
  {
   "cell_type": "code",
   "execution_count": null,
   "metadata": {},
   "outputs": [],
   "source": []
  },
  {
   "cell_type": "code",
   "execution_count": null,
   "metadata": {},
   "outputs": [],
   "source": [
    "pred_weights.min()"
   ]
  },
  {
   "cell_type": "code",
   "execution_count": null,
   "metadata": {},
   "outputs": [],
   "source": [
    "gt_weights.min()"
   ]
  },
  {
   "cell_type": "code",
   "execution_count": null,
   "metadata": {},
   "outputs": [],
   "source": []
  },
  {
   "cell_type": "code",
   "execution_count": null,
   "metadata": {},
   "outputs": [],
   "source": [
    "np.mean(np.abs(gt_weights - mean))"
   ]
  },
  {
   "cell_type": "code",
   "execution_count": null,
   "metadata": {},
   "outputs": [],
   "source": [
    "np.mean(np.abs(np.random.normal(0, 1, 100000)))"
   ]
  },
  {
   "cell_type": "code",
   "execution_count": null,
   "metadata": {},
   "outputs": [],
   "source": [
    "(0.09 / .9) / (2**.5)"
   ]
  },
  {
   "cell_type": "code",
   "execution_count": null,
   "metadata": {},
   "outputs": [],
   "source": []
  },
  {
   "cell_type": "code",
   "execution_count": null,
   "metadata": {},
   "outputs": [],
   "source": []
  },
  {
   "cell_type": "code",
   "execution_count": null,
   "metadata": {},
   "outputs": [],
   "source": []
  },
  {
   "cell_type": "code",
   "execution_count": null,
   "metadata": {},
   "outputs": [],
   "source": []
  },
  {
   "cell_type": "code",
   "execution_count": null,
   "metadata": {},
   "outputs": [],
   "source": []
  },
  {
   "cell_type": "code",
   "execution_count": null,
   "metadata": {},
   "outputs": [],
   "source": []
  },
  {
   "cell_type": "code",
   "execution_count": null,
   "metadata": {},
   "outputs": [],
   "source": []
  },
  {
   "cell_type": "code",
   "execution_count": null,
   "metadata": {},
   "outputs": [],
   "source": []
  }
 ],
 "metadata": {
  "kernelspec": {
   "display_name": "Python 3",
   "language": "python",
   "name": "python3"
  },
  "language_info": {
   "codemirror_mode": {
    "name": "ipython",
    "version": 3
   },
   "file_extension": ".py",
   "mimetype": "text/x-python",
   "name": "python",
   "nbconvert_exporter": "python",
   "pygments_lexer": "ipython3",
   "version": "3.6.5"
  }
 },
 "nbformat": 4,
 "nbformat_minor": 2
}
