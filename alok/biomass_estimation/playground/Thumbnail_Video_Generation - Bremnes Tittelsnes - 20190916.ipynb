{
 "cells": [
  {
   "cell_type": "code",
   "execution_count": null,
   "metadata": {},
   "outputs": [],
   "source": [
    "import cv2\n",
    "import json, os\n",
    "import glob\n",
    "import pandas as pd\n",
    "from matplotlib import pyplot as plt\n",
    "from collections import defaultdict\n",
    "import numpy as np\n",
    "from itertools import combinations\n",
    "from sklearn.linear_model import LinearRegression, RANSACRegressor\n",
    "from sklearn.decomposition import PCA\n",
    "from wpca import WPCA\n",
    "from sklearn.preprocessing import StandardScaler\n",
    "from aquabyte.accuracy_metrics import AccuracyMetricsGenerator\n",
    "from aquabyte.data_access_utils import S3AccessUtils, RDSAccessUtils\n",
    "from aquabyte.optics import euclidean_distance, pixel2world\n",
    "from aquabyte.visualize import Visualizer\n",
    "import random\n",
    "from scipy.stats import norm\n",
    "from urllib.parse import urlparse\n",
    "from PIL import Image, ImageDraw, ImageFont\n",
    "from multiprocessing import Pool\n",
    "\n",
    "pd.set_option('display.max_rows', 500)"
   ]
  },
  {
   "cell_type": "code",
   "execution_count": null,
   "metadata": {},
   "outputs": [],
   "source": []
  },
  {
   "cell_type": "code",
   "execution_count": null,
   "metadata": {},
   "outputs": [],
   "source": []
  },
  {
   "cell_type": "markdown",
   "metadata": {},
   "source": [
    "<h1> Select the date, site_id, and pen_id for which we would like the stitched video </h1>"
   ]
  },
  {
   "cell_type": "code",
   "execution_count": null,
   "metadata": {},
   "outputs": [],
   "source": [
    "\n",
    "rds_access_utils = RDSAccessUtils(json.load(open(os.environ['PROD_SQL_CREDENTIALS'])))\n",
    "query = \"\"\"\n",
    "    select * from lati_fish_detections_lice_annotations\n",
    "    where pen_id=37 and captured_at >= '2019-09-19' and captured_at < '2019-09-20';\n",
    "\"\"\"\n",
    "df = rds_access_utils.extract_from_database(query)"
   ]
  },
  {
   "cell_type": "code",
   "execution_count": null,
   "metadata": {},
   "outputs": [],
   "source": [
    "s3_access_utils = S3AccessUtils('/root/data')"
   ]
  },
  {
   "cell_type": "code",
   "execution_count": null,
   "metadata": {},
   "outputs": [],
   "source": [
    "def get_bucket_key(url):\n",
    "    parsed_url = urlparse(url, allow_fragments=False)\n",
    "    if parsed_url.netloc.startswith('s3'):\n",
    "        url_components = parsed_url.path.lstrip('/').split('/')\n",
    "        bucket, key = url_components[0], os.path.join(*url_components[1:])\n",
    "    else:\n",
    "        bucket = parsed_url.netloc.split('.')[0]\n",
    "        key = parsed_url.path.lstrip('/')\n",
    "    return bucket, key\n",
    "\n",
    "start_date, end_date = '2019-09-19', '2019-09-20'\n",
    "image_url = df.image_url.iloc[0]\n",
    "bucket, key = get_bucket_key(image_url)\n",
    "inbound_bucket = 'aquabyte-frames-resized-inbound'\n",
    "s3_folder = key[:key.index(start_date) + len(start_date)]"
   ]
  },
  {
   "cell_type": "code",
   "execution_count": null,
   "metadata": {},
   "outputs": [],
   "source": [
    "generator = s3_access_utils.get_matching_s3_keys(inbound_bucket, s3_folder, suffixes=['capture.json'])"
   ]
  },
  {
   "cell_type": "code",
   "execution_count": null,
   "metadata": {},
   "outputs": [],
   "source": [
    "keys = []\n",
    "for key in generator:\n",
    "    keys.append(key)"
   ]
  },
  {
   "cell_type": "code",
   "execution_count": null,
   "metadata": {},
   "outputs": [],
   "source": []
  },
  {
   "cell_type": "code",
   "execution_count": null,
   "metadata": {},
   "outputs": [],
   "source": [
    "s3_key_dirs = sorted(list(set([os.path.dirname(f) for f in keys])))"
   ]
  },
  {
   "cell_type": "code",
   "execution_count": null,
   "metadata": {},
   "outputs": [],
   "source": [
    "x_padding = 50 * (512 / 4096.0)\n",
    "y_padding = 50 * (512 / 3000.0)\n",
    "def process_s3_key_dir(s3_key_dir):\n",
    "    try:\n",
    "        left_f = s3_access_utils.download_from_s3(inbound_bucket, os.path.join(s3_key_dir, 'left_frame.resize_512_512.jpg'))\n",
    "        right_f = s3_access_utils.download_from_s3(inbound_bucket, os.path.join(s3_key_dir, 'right_frame.resize_512_512.jpg'))\n",
    "        crop_metadata_f = s3_access_utils.download_from_s3(inbound_bucket, os.path.join(s3_key_dir, 'crops.json'))\n",
    "\n",
    "        # open images and metadata files\n",
    "        left_im = Image.open(left_f)\n",
    "        right_im = Image.open(right_f)\n",
    "        crop_metadata = json.load(open(crop_metadata_f))\n",
    "\n",
    "        # draw boxes on images\n",
    "        left_draw = ImageDraw.Draw(left_im)\n",
    "        right_draw = ImageDraw.Draw(right_im)\n",
    "        anns = crop_metadata['annotations']\n",
    "        for ann in anns:\n",
    "            if ann['image_id'] == 1:\n",
    "                left_draw.rectangle([(ann['bbox'][1] - x_padding, \n",
    "                                      ann['bbox'][0] - y_padding), \n",
    "                                     (ann['bbox'][3] + x_padding, \n",
    "                                      ann['bbox'][2] + y_padding)])\n",
    "            elif ann['image_id'] == 2:\n",
    "                right_draw.rectangle([(ann['bbox'][1], ann['bbox'][0]), (ann['bbox'][3], ann['bbox'][2])])\n",
    "\n",
    "        # stitch images\n",
    "        result = Image.new('RGB', (512*2, 512))\n",
    "        result.paste(im=left_im, box=(0, 0))\n",
    "        result.paste(im=right_im, box=(512, 0))\n",
    "\n",
    "        # write timestamp on stitched image\n",
    "        result_draw = ImageDraw.Draw(result)\n",
    "        ts = [c for c in left_f.split('/') if c.startswith('at=')][0]\n",
    "        result_draw.text((0, 0), ts, (255, 255, 255))\n",
    "\n",
    "        output_f = left_f.replace(root_dir, output_base_dir).replace('left_', 'stereo_')\n",
    "        if not os.path.exists(os.path.dirname(output_f)):\n",
    "            os.makedirs(os.path.dirname(output_f))\n",
    "        result.save(output_f)\n",
    "    except Exception as e:\n",
    "        print(e)\n",
    "\n"
   ]
  },
  {
   "cell_type": "code",
   "execution_count": null,
   "metadata": {},
   "outputs": [],
   "source": [
    "root_dir = '/root/data/s3'\n",
    "output_base_dir = '/root/data/alok/biomass_estimation/playground/bremnes_tittelsnes_stitched_results'\n",
    "pool = Pool(20)\n",
    "pool.map(process_s3_key_dir, s3_key_dirs)\n",
    "    "
   ]
  },
  {
   "cell_type": "code",
   "execution_count": null,
   "metadata": {},
   "outputs": [],
   "source": [
    "output_base_dir"
   ]
  },
  {
   "cell_type": "code",
   "execution_count": null,
   "metadata": {},
   "outputs": [],
   "source": [
    "image_fs = sorted(glob.glob(os.path.join(output_base_dir, '**', '*.jpg'), recursive=True))"
   ]
  },
  {
   "cell_type": "code",
   "execution_count": null,
   "metadata": {},
   "outputs": [],
   "source": [
    "import cv2\n",
    "import numpy as np\n",
    "\n",
    "im = cv2.imread(image_fs[0])\n",
    "height,width,layers = im.shape\n",
    "fourcc = cv2.VideoWriter_fourcc(*'XVID')\n",
    "video=cv2.VideoWriter('/root/data/alok/2019-09-19_bremnes_tittelsnes_video.avi', fourcc, 4, (width,height), True)\n",
    "for idx, image_f in enumerate(image_fs):\n",
    "    if idx % 1000 == 0:\n",
    "        print(idx)\n",
    "    im = cv2.imread(image_f, cv2.IMREAD_COLOR)\n",
    "    video.write(im)\n",
    "\n",
    "cv2.destroyAllWindows()\n",
    "video.release()"
   ]
  },
  {
   "cell_type": "code",
   "execution_count": null,
   "metadata": {},
   "outputs": [],
   "source": []
  },
  {
   "cell_type": "code",
   "execution_count": null,
   "metadata": {},
   "outputs": [],
   "source": []
  },
  {
   "cell_type": "code",
   "execution_count": null,
   "metadata": {},
   "outputs": [],
   "source": []
  },
  {
   "cell_type": "code",
   "execution_count": null,
   "metadata": {},
   "outputs": [],
   "source": []
  },
  {
   "cell_type": "code",
   "execution_count": null,
   "metadata": {},
   "outputs": [],
   "source": []
  },
  {
   "cell_type": "code",
   "execution_count": null,
   "metadata": {},
   "outputs": [],
   "source": []
  },
  {
   "cell_type": "code",
   "execution_count": null,
   "metadata": {},
   "outputs": [],
   "source": []
  },
  {
   "cell_type": "code",
   "execution_count": null,
   "metadata": {},
   "outputs": [],
   "source": []
  },
  {
   "cell_type": "code",
   "execution_count": null,
   "metadata": {},
   "outputs": [],
   "source": []
  },
  {
   "cell_type": "code",
   "execution_count": null,
   "metadata": {},
   "outputs": [],
   "source": []
  }
 ],
 "metadata": {
  "kernelspec": {
   "display_name": "Python 3",
   "language": "python",
   "name": "python3"
  },
  "language_info": {
   "codemirror_mode": {
    "name": "ipython",
    "version": 3
   },
   "file_extension": ".py",
   "mimetype": "text/x-python",
   "name": "python",
   "nbconvert_exporter": "python",
   "pygments_lexer": "ipython3",
   "version": "3.5.2"
  }
 },
 "nbformat": 4,
 "nbformat_minor": 2
}
