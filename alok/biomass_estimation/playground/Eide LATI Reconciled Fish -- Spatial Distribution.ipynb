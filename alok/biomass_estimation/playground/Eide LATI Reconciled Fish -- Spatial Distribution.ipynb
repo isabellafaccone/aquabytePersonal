{
 "cells": [
  {
   "cell_type": "code",
   "execution_count": null,
   "metadata": {},
   "outputs": [],
   "source": [
    "from matplotlib import pyplot as plt\n",
    "import numpy as np\n",
    "import pandas as pd"
   ]
  },
  {
   "cell_type": "code",
   "execution_count": null,
   "metadata": {},
   "outputs": [],
   "source": [
    "f = '/root/data/temp/results_c8cc936a26a7645895842f467fe9d88764cf5579_eide_data_lati_reconciled.h5'\n",
    "df = pd.read_hdf(f, 'table')"
   ]
  },
  {
   "cell_type": "code",
   "execution_count": null,
   "metadata": {},
   "outputs": [],
   "source": [
    "def get_centroid_depth(world_keypoints):\n",
    "    depths = []\n",
    "    for bp, wkp in world_keypoints.items():\n",
    "        depths.append(wkp[1])\n",
    "        \n",
    "    return np.median(np.array(depths))"
   ]
  },
  {
   "cell_type": "code",
   "execution_count": null,
   "metadata": {},
   "outputs": [],
   "source": [
    "plt.figure(figsize=(20, 10))\n",
    "plt.hist(df.world_keypoints.apply(lambda x: get_centroid_depth(x)), bins=20)\n",
    "plt.title('Spatial distribution of Eide lice valid fish')\n",
    "plt.xlabel('Distance from Camera (m)')\n",
    "plt.ylabel('Count')\n",
    "plt.grid()\n",
    "plt.show()"
   ]
  },
  {
   "cell_type": "code",
   "execution_count": null,
   "metadata": {},
   "outputs": [],
   "source": []
  },
  {
   "cell_type": "code",
   "execution_count": null,
   "metadata": {},
   "outputs": [],
   "source": [
    "f = '/root/data/temp/results_c8cc936a26a7645895842f467fe9d88764cf5579_kjeppevikholmen_data_lati_reconciled.h5'\n",
    "df = pd.read_hdf(f, 'table')\n",
    "\n",
    "plt.figure(figsize=(20, 10))\n",
    "plt.hist(df.world_keypoints.apply(lambda x: get_centroid_depth(x)), bins=20)\n",
    "plt.title('Spatial distribution of Kjeppevikholmen lice valid fish')\n",
    "plt.xlabel('Distance from Camera (m)')\n",
    "plt.ylabel('Count')\n",
    "plt.grid()\n",
    "plt.show()"
   ]
  },
  {
   "cell_type": "code",
   "execution_count": null,
   "metadata": {},
   "outputs": [],
   "source": [
    "df['centroid_depth'] = df.world_keypoints.apply(lambda x: get_centroid_depth(x))"
   ]
  },
  {
   "cell_type": "code",
   "execution_count": null,
   "metadata": {},
   "outputs": [],
   "source": [
    "plt.scatter(list(range(df.shape[0])), df.sort_values('captured_at').centroid_depth)\n",
    "plt.show()"
   ]
  },
  {
   "cell_type": "code",
   "execution_count": null,
   "metadata": {},
   "outputs": [],
   "source": [
    "df.index = df.captured_at\n",
    "df.id.resample('D', how=lambda x: x.shape[0])"
   ]
  },
  {
   "cell_type": "code",
   "execution_count": null,
   "metadata": {},
   "outputs": [],
   "source": []
  },
  {
   "cell_type": "code",
   "execution_count": null,
   "metadata": {},
   "outputs": [],
   "source": []
  },
  {
   "cell_type": "code",
   "execution_count": null,
   "metadata": {},
   "outputs": [],
   "source": []
  },
  {
   "cell_type": "code",
   "execution_count": null,
   "metadata": {},
   "outputs": [],
   "source": []
  }
 ],
 "metadata": {
  "kernelspec": {
   "display_name": "Python 3",
   "language": "python",
   "name": "python3"
  },
  "language_info": {
   "codemirror_mode": {
    "name": "ipython",
    "version": 3
   },
   "file_extension": ".py",
   "mimetype": "text/x-python",
   "name": "python",
   "nbconvert_exporter": "python",
   "pygments_lexer": "ipython3",
   "version": "3.5.2"
  }
 },
 "nbformat": 4,
 "nbformat_minor": 2
}
