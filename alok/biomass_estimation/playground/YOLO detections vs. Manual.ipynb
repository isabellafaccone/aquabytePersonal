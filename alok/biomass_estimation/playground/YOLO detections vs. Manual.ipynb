{
 "cells": [
  {
   "cell_type": "code",
   "execution_count": 1,
   "metadata": {},
   "outputs": [],
   "source": [
    "%load_ext autoreload\n",
    "%autoreload 2"
   ]
  },
  {
   "cell_type": "code",
   "execution_count": 25,
   "metadata": {},
   "outputs": [],
   "source": [
    "import pandas as pd\n",
    "import matplotlib.pyplot as plt\n",
    "import numpy as np\n",
    "import json\n",
    "import cv2\n",
    "\n",
    "import glob\n",
    "import os\n",
    "import boto3\n",
    "from sqlalchemy import create_engine, MetaData, Table, select, and_, func\n",
    "from sqlalchemy.orm import sessionmaker, relationship, join\n",
    "from sqlalchemy.ext.automap import automap_base\n",
    "from sqlalchemy import Table, Column, Integer, ForeignKey\n",
    "from sqlalchemy.orm import relationship\n",
    "from aquabyte.optics import convert_to_world_point, depth_from_disp, pixel2world, euclidean_distance\n",
    "from aquabyte.data_access_utils import S3AccessUtils, RDSAccessUtils\n",
    "from statsmodels.regression.quantile_regression import QuantReg\n",
    "\n",
    "from PIL import Image\n",
    "from copy import copy\n",
    "from aquabyte.visualize import _normalize_world_keypoints\n",
    "\n",
    "from scipy.stats import gaussian_kde\n",
    "# import mpld3\n",
    "# from mpl_toolkits.mplot3d import Axes3D\n",
    "import pickle\n",
    "from PIL import Image, ImageDraw\n",
    "from multiprocessing import Pool, Manager\n",
    "\n",
    "import sys\n",
    "sys.path.append('/root/alok/repos/cv_research/alok/biomass_estimation/production_data_analysis_v3')\n",
    "# from template_matching import enhance, find_matches_and_homography, adjust_keypoints\n",
    "\n",
    "\n",
    "pd.set_option('max_columns', 500)\n",
    "pd.set_option('max_colwidth', 200)"
   ]
  },
  {
   "cell_type": "code",
   "execution_count": null,
   "metadata": {},
   "outputs": [],
   "source": []
  },
  {
   "cell_type": "code",
   "execution_count": 6,
   "metadata": {},
   "outputs": [],
   "source": [
    "adf = pd.read_csv('/root/data/alok/biomass_estimation/playground/yolo_matches.csv')"
   ]
  },
  {
   "cell_type": "code",
   "execution_count": 7,
   "metadata": {},
   "outputs": [],
   "source": [
    "# AWS credentials\n",
    "aws_credentials = json.load(open(os.environ[\"AWS_CREDENTIALS\"]))\n",
    "s3_client = boto3.client('s3', aws_access_key_id=aws_credentials[\"aws_access_key_id\"],\n",
    "                         aws_secret_access_key=aws_credentials[\"aws_secret_access_key\"],\n",
    "                         region_name=\"eu-west-1\")\n",
    "s3_access_utils = S3AccessUtils('/root/data')\n",
    "\n",
    "\n",
    "rds_access_utils = RDSAccessUtils(json.load(open(os.environ['PROD_SQL_CREDENTIALS'])))\n",
    "query = \"\"\"\n",
    "    select * from keypoint_annotations where pen_id=61 and captured_at >= '2019-09-13' and captured_at <= '2019-09-20';\n",
    "\"\"\"\n",
    "mdf = rds_access_utils.extract_from_database(query)\n"
   ]
  },
  {
   "cell_type": "code",
   "execution_count": 11,
   "metadata": {},
   "outputs": [
    {
     "data": {
      "text/plain": [
       "0        https://s3-eu-west-1.amazonaws.com/aquabyte-cr...\n",
       "1        https://s3-eu-west-1.amazonaws.com/aquabyte-cr...\n",
       "2        https://s3-eu-west-1.amazonaws.com/aquabyte-cr...\n",
       "3        https://s3-eu-west-1.amazonaws.com/aquabyte-cr...\n",
       "4        https://s3-eu-west-1.amazonaws.com/aquabyte-cr...\n",
       "                               ...                        \n",
       "19797    http://aquabyte-crops.s3.eu-west-1.amazonaws.c...\n",
       "19798    http://aquabyte-crops.s3.eu-west-1.amazonaws.c...\n",
       "19799    http://aquabyte-crops.s3.eu-west-1.amazonaws.c...\n",
       "19800    http://aquabyte-crops.s3.eu-west-1.amazonaws.c...\n",
       "19801    http://aquabyte-crops.s3.eu-west-1.amazonaws.c...\n",
       "Name: left_crop_url, Length: 19802, dtype: object"
      ]
     },
     "execution_count": 11,
     "metadata": {},
     "output_type": "execute_result"
    }
   ],
   "source": [
    "adf.left_crop_url"
   ]
  },
  {
   "cell_type": "code",
   "execution_count": 17,
   "metadata": {},
   "outputs": [
    {
     "data": {
      "text/plain": [
       "2295"
      ]
     },
     "execution_count": 17,
     "metadata": {},
     "output_type": "execute_result"
    }
   ],
   "source": [
    "len(set(mdf.left_image_url.tolist()).intersection(set(adf.left_crop_url.tolist())))"
   ]
  },
  {
   "cell_type": "code",
   "execution_count": 27,
   "metadata": {},
   "outputs": [
    {
     "data": {
      "text/plain": [
       "(4590, 22)"
      ]
     },
     "execution_count": 27,
     "metadata": {},
     "output_type": "execute_result"
    }
   ],
   "source": [
    "adf['ground_truth_keypoints'] = ''\n",
    "for idx, row in adf.iterrows():\n",
    "    left_crop_url = row.left_crop_url\n",
    "    if left_crop_url in mdf.left_image_url:\n",
    "        mask = mdf.left_image_url == left_crop_url\n",
    "        keypoints = mdf[mask].keypoints.iloc[0]\n",
    "        \n",
    "        adf.loc[mask, 'ground_truth_keypoints'] = json.dumps(mdf[mask].keypoints)\n",
    "    \n",
    "adf.loc[adf.left_crop_url.isin(mdf.left_image_url), 'ground_truth_keypoints'] = json.dumps()"
   ]
  },
  {
   "cell_type": "code",
   "execution_count": 26,
   "metadata": {},
   "outputs": [
    {
     "data": {
      "text/plain": [
       "0    https://s3-eu-west-1.amazonaws.com/aquabyte-crops/environment=production/site-id=40/pen-id=61/date=2019-09-13/hour=00/at=2019-09-13T00:04:36.127087000Z/left_frame_crop_1622_1016_4074_1977.jpg\n",
       "1    https://s3-eu-west-1.amazonaws.com/aquabyte-crops/environment=production/site-id=40/pen-id=61/date=2019-09-13/hour=00/at=2019-09-13T00:04:36.127087000Z/left_frame_crop_1622_1016_4074_1977.jpg\n",
       "2       https://s3-eu-west-1.amazonaws.com/aquabyte-crops/environment=production/site-id=40/pen-id=61/date=2019-09-13/hour=00/at=2019-09-13T00:07:07.959382000Z/left_frame_crop_70_342_3114_1409.jpg\n",
       "3       https://s3-eu-west-1.amazonaws.com/aquabyte-crops/environment=production/site-id=40/pen-id=61/date=2019-09-13/hour=00/at=2019-09-13T00:07:07.959382000Z/left_frame_crop_70_342_3114_1409.jpg\n",
       "4      https://s3-eu-west-1.amazonaws.com/aquabyte-crops/environment=production/site-id=40/pen-id=61/date=2019-09-13/hour=00/at=2019-09-13T00:07:09.032117000Z/left_frame_crop_974_571_3762_1602.jpg\n",
       "5      https://s3-eu-west-1.amazonaws.com/aquabyte-crops/environment=production/site-id=40/pen-id=61/date=2019-09-13/hour=00/at=2019-09-13T00:07:09.032117000Z/left_frame_crop_974_571_3762_1602.jpg\n",
       "6    https://s3-eu-west-1.amazonaws.com/aquabyte-crops/environment=production/site-id=40/pen-id=61/date=2019-09-13/hour=00/at=2019-09-13T00:07:58.688714000Z/left_frame_crop_1710_1063_3194_1895.jpg\n",
       "7    https://s3-eu-west-1.amazonaws.com/aquabyte-crops/environment=production/site-id=40/pen-id=61/date=2019-09-13/hour=00/at=2019-09-13T00:07:58.688714000Z/left_frame_crop_1710_1063_3194_1895.jpg\n",
       "8       https://s3-eu-west-1.amazonaws.com/aquabyte-crops/environment=production/site-id=40/pen-id=61/date=2019-09-13/hour=00/at=2019-09-13T00:09:08.087071000Z/left_frame_crop_0_1145_2354_2135.jpg\n",
       "9       https://s3-eu-west-1.amazonaws.com/aquabyte-crops/environment=production/site-id=40/pen-id=61/date=2019-09-13/hour=00/at=2019-09-13T00:09:08.087071000Z/left_frame_crop_0_1145_2354_2135.jpg\n",
       "Name: left_crop_url, dtype: object"
      ]
     },
     "execution_count": 26,
     "metadata": {},
     "output_type": "execute_result"
    }
   ],
   "source": [
    "adf.head(10).left_crop_url"
   ]
  },
  {
   "cell_type": "code",
   "execution_count": null,
   "metadata": {},
   "outputs": [],
   "source": []
  },
  {
   "cell_type": "code",
   "execution_count": null,
   "metadata": {},
   "outputs": [],
   "source": []
  },
  {
   "cell_type": "code",
   "execution_count": null,
   "metadata": {},
   "outputs": [],
   "source": []
  },
  {
   "cell_type": "code",
   "execution_count": null,
   "metadata": {},
   "outputs": [],
   "source": []
  },
  {
   "cell_type": "code",
   "execution_count": null,
   "metadata": {},
   "outputs": [],
   "source": []
  },
  {
   "cell_type": "code",
   "execution_count": null,
   "metadata": {},
   "outputs": [],
   "source": []
  },
  {
   "cell_type": "code",
   "execution_count": null,
   "metadata": {},
   "outputs": [],
   "source": []
  },
  {
   "cell_type": "code",
   "execution_count": null,
   "metadata": {},
   "outputs": [],
   "source": []
  },
  {
   "cell_type": "code",
   "execution_count": null,
   "metadata": {},
   "outputs": [],
   "source": []
  },
  {
   "cell_type": "code",
   "execution_count": null,
   "metadata": {},
   "outputs": [],
   "source": []
  },
  {
   "cell_type": "code",
   "execution_count": null,
   "metadata": {},
   "outputs": [],
   "source": []
  },
  {
   "cell_type": "code",
   "execution_count": null,
   "metadata": {},
   "outputs": [],
   "source": []
  }
 ],
 "metadata": {
  "kernelspec": {
   "display_name": "Python 3",
   "language": "python",
   "name": "python3"
  },
  "language_info": {
   "codemirror_mode": {
    "name": "ipython",
    "version": 3
   },
   "file_extension": ".py",
   "mimetype": "text/x-python",
   "name": "python",
   "nbconvert_exporter": "python",
   "pygments_lexer": "ipython3",
   "version": "3.6.5"
  }
 },
 "nbformat": 4,
 "nbformat_minor": 2
}
