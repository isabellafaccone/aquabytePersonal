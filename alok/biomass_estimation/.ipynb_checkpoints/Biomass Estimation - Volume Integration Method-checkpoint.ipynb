{
 "cells": [
  {
   "cell_type": "code",
   "execution_count": null,
   "metadata": {},
   "outputs": [],
   "source": [
    "import sys\n",
    "sys.path.append('/root/alok/github/aquabyte_biomass')\n",
    "from matplotlib import pyplot as plt\n",
    "import numpy as np\n",
    "import pandas as pd\n",
    "from PIL import Image, ImageDraw\n",
    "from biomass_utils.points_of_interest import get_data, get_depth_cutoff, get_points_of_interest, distance_between_points"
   ]
  },
  {
   "cell_type": "code",
   "execution_count": null,
   "metadata": {},
   "outputs": [],
   "source": [
    "data_dir_base = '/root/data/blender_v3'\n",
    "idx = 0\n",
    "\n",
    "data = get_data(data_dir_base, idx)\n",
    "point_cloud, mask, annotation, image = data['point_cloud'], data['mask'], data['annotation_data'], data['image']\n",
    "\n",
    "#---------- THIS IS TEMPORARY -- CHANGE ONCE BLENDER DATA IS CORRECTED!!-------#\n",
    "x = annotation['sensor_height'] \n",
    "annotation['sensor_height'] = annotation['sensor_width']\n",
    "annotation['sensor_width'] = x\n",
    "#------------------------------------------------------------------------------#\n",
    "\n",
    "depth_map = point_cloud[:,:,1]\n",
    "cutoff = get_depth_cutoff(depth_map, mask)\n",
    "poi = get_points_of_interest(mask, depth_map, cutoff)"
   ]
  },
  {
   "cell_type": "code",
   "execution_count": null,
   "metadata": {},
   "outputs": [],
   "source": []
  },
  {
   "cell_type": "markdown",
   "metadata": {},
   "source": [
    "<h1> Perform Volume Integration Technique </h1>"
   ]
  },
  {
   "cell_type": "code",
   "execution_count": null,
   "metadata": {},
   "outputs": [],
   "source": [
    "length_endpoint_1_world = point_cloud[poi['length_endpoint_1']]\n",
    "length_endpoint_2_world = point_cloud[poi['length_endpoint_2']]\n",
    "width_endpoint_1_world = point_cloud[poi['width_endpoint_1']]\n",
    "width_endpoint_2_world = point_cloud[poi['width_endpoint_2']]\n",
    "visible_centroid_world = point_cloud[poi['visible_centroid']]\n",
    "a = np.vstack([np.take(length_endpoint_1_world, [0, 2]), \n",
    "               np.take(length_endpoint_2_world, [0, 2]), \n",
    "               np.take(width_endpoint_1_world, [0, 2]),\n",
    "               np.take(width_endpoint_2_world, [0, 2])])\n",
    "y = np.array([length_endpoint_1_world[1], length_endpoint_2_world[1], width_endpoint_1_world[1], width_endpoint_2_world[1]])\n",
    "A = np.c_[a, np.ones(a.shape[0])]\n",
    "res = np.linalg.lstsq(A, y)\n",
    "A, C, D = res[0]\n",
    "B = -1\n",
    "\n",
    "distance_to_plane_matrix = np.abs((np.dot(point_cloud, np.array([A, B, C])) + D))/(np.sqrt(A**2 + B**2 + C**2))\n",
    "surface_distances = distance_to_plane_matrix * (mask > 0) * (depth_map < cutoff)\n",
    "delta_x = (annotation['sensor_width'] * depth_map)/(mask.shape[1] * annotation['focal_length'])\n",
    "delta_z = (annotation['sensor_height'] * depth_map)/(mask.shape[0] * annotation['focal_length'])\n",
    "volume = (delta_x * delta_z * surface_distances).sum() * 2\n",
    "print(volume)\n",
    "\n",
    "\n",
    "\n"
   ]
  },
  {
   "cell_type": "code",
   "execution_count": null,
   "metadata": {},
   "outputs": [],
   "source": [
    "draw = ImageDraw.Draw(image)\n",
    "draw.line((poi['length_endpoint_1'][1], poi['length_endpoint_1'][0], poi['length_endpoint_2'][1], poi['length_endpoint_2'][0]), fill=255)\n",
    "draw.line((poi['width_endpoint_1'][1], poi['width_endpoint_1'][0], poi['width_endpoint_2'][1], poi['width_endpoint_2'][0]), fill=255)\n",
    "image"
   ]
  },
  {
   "cell_type": "code",
   "execution_count": null,
   "metadata": {},
   "outputs": [],
   "source": []
  },
  {
   "cell_type": "code",
   "execution_count": null,
   "metadata": {},
   "outputs": [],
   "source": []
  },
  {
   "cell_type": "code",
   "execution_count": null,
   "metadata": {},
   "outputs": [],
   "source": []
  },
  {
   "cell_type": "code",
   "execution_count": null,
   "metadata": {},
   "outputs": [],
   "source": [
    "COMPLETE_SAMPLE_SIZE = 4007\n",
    "df = pd.DataFrame()\n",
    "for idx in range(COMPLETE_SAMPLE_SIZE):\n",
    "    if idx % 10 == 0:\n",
    "        print(idx)\n",
    "        \n",
    "    data = get_data(data_dir_base, idx)\n",
    "    point_cloud, mask, annotation, image = data['point_cloud'], data['mask'], data['annotation_data'], data['image']\n",
    "\n",
    "    #---------- THIS IS TEMPORARY -- CHANGE ONCE BLENDER DATA IS CORRECTED!!-------#\n",
    "    x = annotation['sensor_height'] \n",
    "    annotation['sensor_height'] = annotation['sensor_width']\n",
    "    annotation['sensor_width'] = x\n",
    "    #------------------------------------------------------------------------------#\n",
    "\n",
    "    depth_map = point_cloud[:,:,1]\n",
    "    cutoff = get_depth_cutoff(depth_map, mask)\n",
    "    poi = get_points_of_interest(mask, depth_map, cutoff)    \n",
    "    \n",
    "    length_endpoint_1 = points_of_interest['length_endpoint_1']\n",
    "    length_endpoint_2 = points_of_interest['length_endpoint_2']\n",
    "    width_endpoint_1 = points_of_interest['width_endpoint_1']\n",
    "    width_endpoint_2 = points_of_interest['width_endpoint_2']\n",
    "    visible_centroid = points_of_interest['visible_centroid']\n",
    "    \n",
    "    # get length and width\n",
    "    length = distance_between_points(point_cloud[length_endpoint_1], point_cloud[length_endpoint_2])\n",
    "    width = distance_between_points(point_cloud[width_endpoint_1], point_cloud[width_endpoint_2])\n",
    "    \n",
    "    # get volume via integration method\n",
    "    \n",
    "    a = np.vstack([np.take(length_endpoint_1_world, [0, 2]), \n",
    "                   np.take(length_endpoint_2_world, [0, 2]), \n",
    "                   np.take(width_endpoint_1_world, [0, 2]),\n",
    "                   np.take(width_endpoint_2_world, [0, 2])])\n",
    "    y = np.array([length_endpoint_1_world[1], length_endpoint_2_world[1], width_endpoint_1_world[1], width_endpoint_2_world[1]])\n",
    "    A = np.c_[a, np.ones(a.shape[0])]\n",
    "    res = np.linalg.lstsq(A, y)\n",
    "    A, C, D = res[0]\n",
    "    B = -1\n",
    "\n",
    "    distance_to_plane_matrix = np.abs((np.dot(point_cloud, np.array([A, B, C])) + D))/(np.sqrt(A**2 + B**2 + C**2))\n",
    "    surface_distances = distance_to_plane_matrix * (mask > 0) * (depth_map < cutoff)\n",
    "    delta_x = (annotation['sensor_width'] * depth_map)/(mask.shape[1] * annotation['focal_length'])\n",
    "    delta_z = (annotation['sensor_height'] * depth_map)/(mask.shape[0] * annotation['focal_length'])\n",
    "    volume = (delta_x * delta_z * surface_distances).sum() * 2\n",
    "    \n",
    "    ground_truth_length = annotation['length']\n",
    "    ground_truth_width = annotation['height']\n",
    "    ground_truth_breadth = annotation['width']\n",
    "    ground_truth_volume = annotation['volume']\n",
    "\n",
    "    line_to_append = { \n",
    "        'predicted_length': length, \n",
    "        'predicted_width': width,\n",
    "        'predicted_volume': volume,\n",
    "        'ground_truth_length': ground_truth_length,\n",
    "        'ground_truth_width': ground_truth_width,\n",
    "        'ground_truth_breadth': ground_truth_breadth,\n",
    "        'ground_truth_volume': ground_truth_volume\n",
    "    }\n",
    "    df = df.append(line_to_append, ignore_index=True)\n",
    "    "
   ]
  },
  {
   "cell_type": "code",
   "execution_count": null,
   "metadata": {},
   "outputs": [],
   "source": []
  },
  {
   "cell_type": "code",
   "execution_count": null,
   "metadata": {},
   "outputs": [],
   "source": [
    "df"
   ]
  },
  {
   "cell_type": "code",
   "execution_count": null,
   "metadata": {},
   "outputs": [],
   "source": []
  },
  {
   "cell_type": "code",
   "execution_count": null,
   "metadata": {},
   "outputs": [],
   "source": []
  },
  {
   "cell_type": "code",
   "execution_count": null,
   "metadata": {},
   "outputs": [],
   "source": []
  },
  {
   "cell_type": "code",
   "execution_count": null,
   "metadata": {},
   "outputs": [],
   "source": []
  },
  {
   "cell_type": "code",
   "execution_count": null,
   "metadata": {},
   "outputs": [],
   "source": []
  },
  {
   "cell_type": "code",
   "execution_count": null,
   "metadata": {},
   "outputs": [],
   "source": []
  },
  {
   "cell_type": "code",
   "execution_count": null,
   "metadata": {},
   "outputs": [],
   "source": []
  },
  {
   "cell_type": "code",
   "execution_count": null,
   "metadata": {},
   "outputs": [],
   "source": []
  },
  {
   "cell_type": "code",
   "execution_count": null,
   "metadata": {},
   "outputs": [],
   "source": []
  },
  {
   "cell_type": "code",
   "execution_count": null,
   "metadata": {},
   "outputs": [],
   "source": []
  },
  {
   "cell_type": "code",
   "execution_count": null,
   "metadata": {},
   "outputs": [],
   "source": []
  },
  {
   "cell_type": "code",
   "execution_count": null,
   "metadata": {},
   "outputs": [],
   "source": []
  },
  {
   "cell_type": "code",
   "execution_count": null,
   "metadata": {},
   "outputs": [],
   "source": []
  },
  {
   "cell_type": "code",
   "execution_count": null,
   "metadata": {},
   "outputs": [],
   "source": []
  },
  {
   "cell_type": "code",
   "execution_count": null,
   "metadata": {},
   "outputs": [],
   "source": []
  },
  {
   "cell_type": "code",
   "execution_count": null,
   "metadata": {},
   "outputs": [],
   "source": []
  },
  {
   "cell_type": "code",
   "execution_count": null,
   "metadata": {},
   "outputs": [],
   "source": []
  },
  {
   "cell_type": "code",
   "execution_count": null,
   "metadata": {},
   "outputs": [],
   "source": []
  },
  {
   "cell_type": "code",
   "execution_count": null,
   "metadata": {},
   "outputs": [],
   "source": []
  },
  {
   "cell_type": "code",
   "execution_count": null,
   "metadata": {},
   "outputs": [],
   "source": []
  },
  {
   "cell_type": "code",
   "execution_count": null,
   "metadata": {},
   "outputs": [],
   "source": []
  }
 ],
 "metadata": {
  "kernelspec": {
   "display_name": "Python 3",
   "language": "python",
   "name": "python3"
  },
  "language_info": {
   "codemirror_mode": {
    "name": "ipython",
    "version": 3
   },
   "file_extension": ".py",
   "mimetype": "text/x-python",
   "name": "python",
   "nbconvert_exporter": "python",
   "pygments_lexer": "ipython3",
   "version": "3.6.3"
  }
 },
 "nbformat": 4,
 "nbformat_minor": 2
}
