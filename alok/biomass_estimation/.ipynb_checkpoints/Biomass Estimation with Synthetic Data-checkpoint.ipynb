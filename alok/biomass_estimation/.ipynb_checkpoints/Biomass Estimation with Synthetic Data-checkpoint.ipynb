{
 "cells": [
  {
   "cell_type": "code",
   "execution_count": null,
   "metadata": {},
   "outputs": [],
   "source": [
    "import OpenEXR\n",
    "import Imath\n",
    "import array\n",
    "from PIL import Image, ImageDraw\n",
    "import numpy as np\n",
    "import json\n",
    "import math\n",
    "from matplotlib import pyplot as plt\n",
    "FLOAT = Imath.PixelType(Imath.PixelType.FLOAT)\n",
    "%matplotlib inline"
   ]
  },
  {
   "cell_type": "markdown",
   "metadata": {},
   "source": [
    "<h1> Load Data </h1>"
   ]
  },
  {
   "cell_type": "code",
   "execution_count": null,
   "metadata": {},
   "outputs": [],
   "source": [
    "data_dir_base = '/home/ubuntu/thomas/data'\n",
    "idx = 10\n",
    "# get annotation data\n",
    "annotation_file_name = 'annot_{}.json'.format(number)\n",
    "annotation_file_path = '{}/{}/{}'.format(data_dir_base, 'annotations', annotation_file_name)\n",
    "annotation_data = json.load(open(annotation_file_path, 'rb'))\n",
    "\n",
    "# get segmentation data\n",
    "segmentation_file_name = 'mask_{}.png'.format(number)\n",
    "segmentation_file_path = '{}/{}/{}'.format(data_dir_base, 'mask', segmentation_file_name)\n",
    "mask = np.array(Image.open(segmentation_file_path))\n",
    "\n",
    "# get depth map data\n",
    "depth_map_file_name = 'test_{}_28.exr'.format(number)\n",
    "depth_map_file_path = '{}/{}/{}'.format(data_dir_base, 'dm', depth_map_file_name)\n",
    "pixel_data = OpenEXR.InputFile(depth_map_file_path)\n",
    "(R,G,B) = [array.array('f', pixel_data.channel(chan, FLOAT)).tolist() for chan in (\"R\", \"G\", \"B\") ]\n",
    "depth_map = np.reshape(np.array(R), mask.shape)"
   ]
  },
  {
   "cell_type": "markdown",
   "metadata": {},
   "source": [
    "<h1> Display segmentation mask </h1>"
   ]
  },
  {
   "cell_type": "code",
   "execution_count": null,
   "metadata": {},
   "outputs": [],
   "source": [
    "image = Image.fromarray(mask, 'L')\n",
    "draw = ImageDraw.Draw(image)\n",
    "image"
   ]
  },
  {
   "cell_type": "markdown",
   "metadata": {},
   "source": [
    "<h1> Display depth map </h1>"
   ]
  },
  {
   "cell_type": "code",
   "execution_count": null,
   "metadata": {},
   "outputs": [],
   "source": [
    "im = Image.fromarray((depth_map * (255 / depth_map.max())).astype('uint8'), 'L')\n",
    "im"
   ]
  },
  {
   "cell_type": "code",
   "execution_count": null,
   "metadata": {},
   "outputs": [],
   "source": []
  },
  {
   "cell_type": "code",
   "execution_count": null,
   "metadata": {},
   "outputs": [],
   "source": []
  },
  {
   "cell_type": "markdown",
   "metadata": {},
   "source": [
    "<h1> Get depth distribution across all points on the visible surface of the fish </h1>"
   ]
  },
  {
   "cell_type": "code",
   "execution_count": null,
   "metadata": {},
   "outputs": [],
   "source": [
    "hist_counts, hist_bucket_endpoints = np.histogram(depth_map[np.where(mask > 0)])\n",
    "print hist_counts, hist_bucket_endpoints\n",
    "cutoff_idx = np.where(hist_counts == 0)[0][0]\n",
    "cutoff = hist_bucket_endpoints[cutoff_idx]\n",
    "print 'Mean depth value: {}'.format(depth_map[np.where((depth_map < cutoff) & (mask > 0)) ].mean())\n",
    "print 'Maximum depth value: {}'.format(depth_map[np.where((depth_map < cutoff) & (mask > 0)) ].max())\n",
    "print 'Minimum depth value: {}'.format(depth_map[np.where((depth_map < cutoff) & (mask > 0)) ].min())"
   ]
  },
  {
   "cell_type": "markdown",
   "metadata": {},
   "source": [
    "<h1> Get pixel coordinates for determining length, width, and breadth </h1>"
   ]
  },
  {
   "cell_type": "code",
   "execution_count": null,
   "metadata": {},
   "outputs": [],
   "source": [
    "mask_values = np.where(mask > 0)\n",
    "x_values = mask_values[1]\n",
    "y_values = mask_values[0]\n",
    "adj_y_values = mask.shape[0] - y_values\n",
    "mask_points = zip(x_values, adj_y_values)\n",
    "\n",
    "A = np.vstack([x_values, np.ones(len(x_values))]).T\n",
    "res = np.linalg.lstsq(A,adj_y_values)\n",
    "m, b = res[0]\n",
    "\n",
    "# get length endpoints\n",
    "x_lower = x_values.min()\n",
    "while x_lower < mask.shape[1]:\n",
    "    adj_y_lower = int(round(m*x_lower + b))\n",
    "    y_lower = mask.shape[0] - 1 - adj_y_lower\n",
    "    if ((x_lower, adj_y_lower) in mask_points and (depth_map[y_lower, x_lower] < cutoff)): \n",
    "        break\n",
    "    x_lower += 1\n",
    "\n",
    "x_upper = x_values.max()\n",
    "while x_upper > 0:\n",
    "    adj_y_upper = int(round(m*x_upper + b))\n",
    "    y_upper = mask.shape[0] - 1 - adj_y_upper\n",
    "    if ((x_upper, adj_y_upper) in mask_points and (depth_map[y_upper, x_upper] < cutoff)):\n",
    "        break\n",
    "    x_upper -= 1\n",
    "\n",
    "y_lower = mask.shape[0] - adj_y_lower\n",
    "y_upper = mask.shape[0] - adj_y_upper\n",
    "length_endpoint_1 = (x_lower, y_lower)\n",
    "length_endpoint_2 = (x_upper, y_upper)\n",
    "\n",
    "# get width endpoints\n",
    "m = -1 / float(m)\n",
    "b = adj_y_values.mean() - m*x_values.mean()\n",
    "\n",
    "adj_y_lower = adj_y_values.min()\n",
    "while adj_y_lower < mask.shape[0]:\n",
    "    x_lower = int(round((adj_y_lower - b)/float(m)))\n",
    "    y_lower = mask.shape[0] - 1 - adj_y_lower\n",
    "    if ((x_lower, adj_y_lower) in mask_points and (depth_map[y_lower, x_lower] < cutoff)):\n",
    "        break\n",
    "    adj_y_lower += 1\n",
    "\n",
    "\n",
    "adj_y_upper = adj_y_values.max()\n",
    "while adj_y_upper > 0:\n",
    "    x_upper = int(round((adj_y_upper - b)/float(m)))\n",
    "    y_upper = mask.shape[0] - 1 - adj_y_upper\n",
    "    if ((x_upper, adj_y_upper) in mask_points and (depth_map[y_upper, x_upper] < cutoff)):\n",
    "        break\n",
    "    adj_y_upper -= 1\n",
    "\n",
    "y_lower = mask.shape[0] - adj_y_lower\n",
    "y_upper = mask.shape[0] - adj_y_upper\n",
    "width_endpoint_1 = (x_lower, y_lower)\n",
    "width_endpoint_2 = (x_upper, y_upper)\n",
    "\n",
    "# get centroid coordinates\n",
    "x_centroid = mask_values[1].mean()\n",
    "y_centroid = mask_values[0].mean()\n",
    "centroid = (x_centroid, y_centroid)"
   ]
  },
  {
   "cell_type": "code",
   "execution_count": null,
   "metadata": {},
   "outputs": [],
   "source": [
    "image = Image.fromarray(mask, 'L')\n",
    "draw = ImageDraw.Draw(image)\n",
    "draw.line((length_endpoint_1[0], length_endpoint_1[1], length_endpoint_2[0], length_endpoint_2[1]), fill=128)\n",
    "draw.line((width_endpoint_1[0], width_endpoint_1[1], width_endpoint_2[0], width_endpoint_2[1]), fill=128)\n",
    "image"
   ]
  },
  {
   "cell_type": "code",
   "execution_count": null,
   "metadata": {},
   "outputs": [],
   "source": []
  },
  {
   "cell_type": "code",
   "execution_count": null,
   "metadata": {},
   "outputs": [],
   "source": [
    "length_endpoint_1_world, length_endpoint_2_world"
   ]
  },
  {
   "cell_type": "markdown",
   "metadata": {},
   "source": [
    "<h1> Get world coordinates of head, tail and fish centroid on visible surface </h1>"
   ]
  },
  {
   "cell_type": "code",
   "execution_count": null,
   "metadata": {},
   "outputs": [],
   "source": [
    "focal_length = annotation_data['focal_length_mm'] / 10.0\n",
    "image_sensor_width = annotation_data['sensor_width_mm'] / 10.0\n",
    "image_sensor_height = annotation_data['sensor_height_mm'] / 10.0\n",
    "px_count_width = annotation_data['resolution'][0]\n",
    "px_count_height = annotation_data['resolution'][0]"
   ]
  },
  {
   "cell_type": "code",
   "execution_count": null,
   "metadata": {},
   "outputs": [],
   "source": [
    "def convert_to_world_point(x, y, depth_map, mask):\n",
    "    image_center_x = mask.shape[1] / 2.0\n",
    "    image_center_y = mask.shape[0] / 2.0\n",
    "    px_x = x - image_center_x\n",
    "    px_z = image_center_y - y\n",
    "    sensor_x = px_x * (image_sensor_width / px_count_width)\n",
    "    sensor_z = px_z * (image_sensor_height / px_count_height)\n",
    "\n",
    "    d = depth_map[y, x]\n",
    "    world_y = d / (math.sqrt(1 + ((sensor_x**2 + sensor_z**2)/(focal_length**2))))\n",
    "    world_x = (world_y * sensor_x) / focal_length\n",
    "    world_z = (world_y * sensor_z) / focal_length\n",
    "    print 'px_x: {}, px_z: {}, sensor_x: {}, world_x: {}'.format(px_x, px_z, sensor_x, world_x)\n",
    "    \n",
    "    return (world_x, world_y, world_z)\n",
    "    "
   ]
  },
  {
   "cell_type": "code",
   "execution_count": null,
   "metadata": {},
   "outputs": [],
   "source": [
    "length_endpoint_1_world = convert_to_world_point(length_endpoint_1[0], length_endpoint_1[1], depth_map, mask)\n",
    "length_endpoint_2_world = convert_to_world_point(length_endpoint_2[0], length_endpoint_2[1], depth_map, mask)\n",
    "width_endpoint_1_world = convert_to_world_point(width_endpoint_1[0], width_endpoint_1[1], depth_map, mask)\n",
    "width_endpoint_2_world = convert_to_world_point(width_endpoint_2[0], width_endpoint_2[1], depth_map, mask)\n",
    "centroid_world = convert_to_world_point(int(round(centroid[0])), int(round(centroid[1])), depth_map, mask)\n"
   ]
  },
  {
   "cell_type": "markdown",
   "metadata": {},
   "source": [
    "<h1> Get length and width </h1>"
   ]
  },
  {
   "cell_type": "code",
   "execution_count": null,
   "metadata": {},
   "outputs": [],
   "source": [
    "def distance_between_points(p1, p2):\n",
    "    return math.sqrt((p1[0] - p2[0])**2 + (p1[1] - p2[1])**2 + (p1[2] - p2[2])**2)"
   ]
  },
  {
   "cell_type": "code",
   "execution_count": null,
   "metadata": {},
   "outputs": [],
   "source": [
    "length = distance_between_points(length_endpoint_1_world, length_endpoint_2_world)\n",
    "width = distance_between_points(width_endpoint_1_world, width_endpoint_2_world)"
   ]
  },
  {
   "cell_type": "code",
   "execution_count": null,
   "metadata": {},
   "outputs": [],
   "source": [
    "length, width"
   ]
  },
  {
   "cell_type": "code",
   "execution_count": null,
   "metadata": {},
   "outputs": [],
   "source": [
    "w = distance_between_points((length_endpoint_1[1], length_endpoint_1[0], 0), (length_endpoint_2[1], length_endpoint_2[0], 0))\n",
    "l = distance_between_points((width_endpoint_1[1], width_endpoint_1[0], 0), (width_endpoint_2[1], width_endpoint_2[0], 0))\n",
    "print w, l"
   ]
  },
  {
   "cell_type": "code",
   "execution_count": null,
   "metadata": {},
   "outputs": [],
   "source": [
    "annotation_data"
   ]
  },
  {
   "cell_type": "code",
   "execution_count": null,
   "metadata": {},
   "outputs": [],
   "source": []
  },
  {
   "cell_type": "code",
   "execution_count": null,
   "metadata": {},
   "outputs": [],
   "source": []
  },
  {
   "cell_type": "code",
   "execution_count": null,
   "metadata": {},
   "outputs": [],
   "source": []
  }
 ],
 "metadata": {
  "kernelspec": {
   "display_name": "Python 2",
   "language": "python",
   "name": "python2"
  },
  "language_info": {
   "codemirror_mode": {
    "name": "ipython",
    "version": 2
   },
   "file_extension": ".py",
   "mimetype": "text/x-python",
   "name": "python",
   "nbconvert_exporter": "python",
   "pygments_lexer": "ipython2",
   "version": "2.7.14"
  }
 },
 "nbformat": 4,
 "nbformat_minor": 2
}
