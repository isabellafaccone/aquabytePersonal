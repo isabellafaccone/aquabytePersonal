{
 "cells": [
  {
   "cell_type": "code",
   "execution_count": null,
   "metadata": {},
   "outputs": [],
   "source": [
    "import json\n",
    "from matplotlib import pyplot as plt\n",
    "import numpy as np\n",
    "import pandas as pd\n",
    "\n",
    "from research_lib.utils.data_access_utils import RDSAccessUtils\n",
    "from research.weight_estimation.keypoint_utils.optics import pixel2world\n",
    "import plotly.express as px"
   ]
  },
  {
   "cell_type": "code",
   "execution_count": null,
   "metadata": {},
   "outputs": [],
   "source": []
  },
  {
   "cell_type": "code",
   "execution_count": null,
   "metadata": {},
   "outputs": [],
   "source": []
  },
  {
   "cell_type": "code",
   "execution_count": null,
   "metadata": {},
   "outputs": [],
   "source": [
    "def add_date_time(df):\n",
    "    df.index = pd.to_datetime(df.captured_at)\n",
    "    dates = df.index.date.astype(str)\n",
    "    df['date'] = dates\n",
    "    df['hour'] = df.index.hour\n",
    "\n",
    "def add_spatial_attributes(df):\n",
    "    yaws, pitches, rolls, depths = [], [], [], []\n",
    "    for idx, row in df.iterrows():\n",
    "        ann, cm = row.annotation, row.camera_metadata\n",
    "        try:\n",
    "            world_keypoints = pixel2world(ann['leftCrop'], ann['rightCrop'], cm)\n",
    "            depth = np.median([x[1] for x in world_keypoints.values()])\n",
    "            u = world_keypoints['ADIPOSE_FIN'] - world_keypoints['ANAL_FIN']\n",
    "            v = world_keypoints['UPPER_LIP'] - world_keypoints['TAIL_NOTCH']\n",
    "            yaw = np.arctan(v[1] / abs(v[0])) * (180.0 / np.pi)\n",
    "            pitch = np.arctan(v[2] / abs(v[0])) * (180.0 / np.pi)\n",
    "            roll = np.arctan(u[1] / u[2]) * (180.0 / np.pi)\n",
    "        except TypeError as err:\n",
    "            yaw, pitch, roll, depth = None, None, None, None\n",
    "        yaws.append(yaw)\n",
    "        pitches.append(pitch)\n",
    "        depths.append(depth)\n",
    "        rolls.append(roll)\n",
    "        \n",
    "    df['yaw'] = yaws\n",
    "    df['pitch'] = pitches\n",
    "    df['roll'] = rolls\n",
    "    df['depth'] = depths\n",
    "\n",
    "    "
   ]
  },
  {
   "cell_type": "code",
   "execution_count": null,
   "metadata": {},
   "outputs": [],
   "source": [
    "rds = RDSAccessUtils()"
   ]
  },
  {
   "cell_type": "code",
   "execution_count": null,
   "metadata": {},
   "outputs": [],
   "source": [
    "query = \"\"\"\n",
    "    select captured_at, annotation, camera_metadata from prod.biomass_computations\n",
    "    where pen_id=56\n",
    "    and captured_at between '2020-06-01' and '2020-08-25'\n",
    "    and akpd_score > 0.95\n",
    "\"\"\"\n",
    "\n",
    "df = rds.extract_from_database(query)"
   ]
  },
  {
   "cell_type": "code",
   "execution_count": null,
   "metadata": {},
   "outputs": [],
   "source": [
    "add_spatial_attributes(df)"
   ]
  },
  {
   "cell_type": "code",
   "execution_count": null,
   "metadata": {},
   "outputs": [],
   "source": [
    "add_date_time(df)"
   ]
  },
  {
   "cell_type": "code",
   "execution_count": null,
   "metadata": {},
   "outputs": [],
   "source": [
    "plt.plot(df.yaw.resample('D').agg(lambda x: x.mean()))\n",
    "plt.show()"
   ]
  },
  {
   "cell_type": "code",
   "execution_count": null,
   "metadata": {},
   "outputs": [],
   "source": [
    "plt.plot(df.pitch.resample('D').agg(lambda x: x.median()))\n",
    "plt.show()"
   ]
  },
  {
   "cell_type": "code",
   "execution_count": null,
   "metadata": {},
   "outputs": [],
   "source": [
    "plt.plot(df.roll.resample('D').agg(lambda x: x.median()))\n",
    "plt.show()"
   ]
  },
  {
   "cell_type": "code",
   "execution_count": null,
   "metadata": {},
   "outputs": [],
   "source": [
    "plt.plot(df.yaw.resample('D').agg(lambda x: x.std()))\n",
    "plt.show()"
   ]
  },
  {
   "cell_type": "code",
   "execution_count": null,
   "metadata": {},
   "outputs": [],
   "source": [
    "plt.plot(df.pitch.resample('D').agg(lambda x: x.std()))\n",
    "plt.show()"
   ]
  },
  {
   "cell_type": "code",
   "execution_count": null,
   "metadata": {},
   "outputs": [],
   "source": [
    "plt.plot(df.roll.resample('D').agg(lambda x: x.std()))\n",
    "plt.show()"
   ]
  },
  {
   "cell_type": "code",
   "execution_count": null,
   "metadata": {},
   "outputs": [],
   "source": [
    "plt.plot(df.roll.resample('D').agg(lambda x: x.shape[0]))\n",
    "plt.show()"
   ]
  },
  {
   "cell_type": "code",
   "execution_count": null,
   "metadata": {},
   "outputs": [],
   "source": []
  },
  {
   "cell_type": "code",
   "execution_count": null,
   "metadata": {},
   "outputs": [],
   "source": [
    "fig = px.violin(df, y='roll', x='date')\n",
    "fig.show()"
   ]
  },
  {
   "cell_type": "code",
   "execution_count": null,
   "metadata": {},
   "outputs": [],
   "source": [
    "fig = px.violin(df, y='yaw', x='date')\n",
    "fig.show()"
   ]
  },
  {
   "cell_type": "code",
   "execution_count": null,
   "metadata": {},
   "outputs": [],
   "source": [
    "theta_cutoffs = list(np.arange(5, 75, 5))\n",
    "low_sample_sizes = []\n",
    "for theta_cutoff in theta_cutoffs:\n",
    "    mask = (df.yaw.abs() < theta_cutoff) & (df.pitch.abs() < theta_cutoff) & (df.roll.abs() < theta_cutoff)\n",
    "    sample_sizes = df[mask].yaw.resample('D').agg(lambda x: x.shape[0]).values\n",
    "#     sample_sizes = sample_sizes[sample_sizes > 300]\n",
    "    if len(sample_sizes) == 0:\n",
    "        low_sample_sizes.append(0)\n",
    "        continue\n",
    "    low_sample_size = np.percentile(sample_sizes, 50)\n",
    "    low_sample_sizes.append(low_sample_size)\n",
    "    \n",
    "    "
   ]
  },
  {
   "cell_type": "code",
   "execution_count": null,
   "metadata": {},
   "outputs": [],
   "source": [
    "plt.plot(theta_cutoffs, low_sample_sizes)\n",
    "plt.grid()\n",
    "plt.show()"
   ]
  },
  {
   "cell_type": "code",
   "execution_count": null,
   "metadata": {},
   "outputs": [],
   "source": [
    "sample_sizes = sample_sizes[sample_sizes > 100]"
   ]
  },
  {
   "cell_type": "code",
   "execution_count": null,
   "metadata": {},
   "outputs": [],
   "source": []
  },
  {
   "cell_type": "markdown",
   "metadata": {},
   "source": [
    "<h1> Orientation threshold analysis across pens </h1>"
   ]
  },
  {
   "cell_type": "code",
   "execution_count": null,
   "metadata": {},
   "outputs": [],
   "source": [
    "from research.utils.datetime_utils import add_days"
   ]
  },
  {
   "cell_type": "code",
   "execution_count": null,
   "metadata": {},
   "outputs": [],
   "source": []
  },
  {
   "cell_type": "code",
   "execution_count": null,
   "metadata": {},
   "outputs": [],
   "source": [
    "query = 'select id from customer.pens;'\n",
    "pen_df = rds.extract_from_database(query)\n",
    "pen_ids = sorted(list(pen_df.id.values))"
   ]
  },
  {
   "cell_type": "code",
   "execution_count": null,
   "metadata": {},
   "outputs": [],
   "source": [
    "for pen_id in pen_ids:\n",
    "    print('Pen ID: {}'.format(pen_id))\n",
    "    query = \"\"\"\n",
    "        select distinct DATE(captured_at) from prod.biomass_computations\n",
    "        where pen_id = {};\n",
    "    \"\"\".format(pen_id)\n",
    "    date_df = rds.extract_from_database(query)\n",
    "    if date_df.shape[0] == 0:\n",
    "        continue\n",
    "    dates = sorted(list(date_df.date.astype(str).values))\n",
    "    end_date = dates[-1]\n",
    "    start_date = add_days(end_date, -120)\n",
    "    \n",
    "    query = \"\"\"\n",
    "        select captured_at, annotation, camera_metadata from prod.biomass_computations\n",
    "        where pen_id={}\n",
    "        and captured_at between '{}' and '{}'\n",
    "        and akpd_score > 0.95\n",
    "    \"\"\".format(pen_id, start_date, end_date)\n",
    "\n",
    "    df = rds.extract_from_database(query)\n",
    "    if df.shape[0] == 0 or df.camera_metadata.iloc[0] is None:\n",
    "        continue\n",
    "    add_spatial_attributes(df)\n",
    "    add_date_time(df)\n",
    "    \n",
    "    theta_cutoffs = list(np.arange(5, 75, 5))\n",
    "    low_sample_sizes = []\n",
    "    for theta_cutoff in theta_cutoffs:\n",
    "        mask = (df.yaw.abs() < theta_cutoff) & (df.pitch.abs() < theta_cutoff) & (df.roll.abs() < theta_cutoff)\n",
    "        sample_sizes = df[mask].yaw.resample('D').agg(lambda x: x.shape[0]).values\n",
    "        sample_sizes = sample_sizes[sample_sizes > 0]\n",
    "        if len(sample_sizes) == 0:\n",
    "            low_sample_sizes.append(0)\n",
    "            continue\n",
    "        low_sample_size = np.mean(sample_sizes)\n",
    "        low_sample_sizes.append(low_sample_size)\n",
    "    \n",
    "    plt.plot(theta_cutoffs, low_sample_sizes)\n",
    "    plt.grid()\n",
    "    plt.show()\n",
    "    \n",
    "    \n",
    "\n",
    "    \n",
    "    "
   ]
  },
  {
   "cell_type": "code",
   "execution_count": null,
   "metadata": {},
   "outputs": [],
   "source": [
    "start_date, end_date"
   ]
  },
  {
   "cell_type": "code",
   "execution_count": null,
   "metadata": {},
   "outputs": [],
   "source": [
    "df.captured_at.resample('D').agg(lambda x: x.shape[0])"
   ]
  },
  {
   "cell_type": "code",
   "execution_count": null,
   "metadata": {},
   "outputs": [],
   "source": [
    "sorted(list(df.date.unique()))"
   ]
  },
  {
   "cell_type": "code",
   "execution_count": null,
   "metadata": {},
   "outputs": [],
   "source": []
  },
  {
   "cell_type": "code",
   "execution_count": null,
   "metadata": {},
   "outputs": [],
   "source": []
  },
  {
   "cell_type": "code",
   "execution_count": null,
   "metadata": {},
   "outputs": [],
   "source": []
  },
  {
   "cell_type": "code",
   "execution_count": null,
   "metadata": {},
   "outputs": [],
   "source": []
  },
  {
   "cell_type": "code",
   "execution_count": null,
   "metadata": {},
   "outputs": [],
   "source": []
  },
  {
   "cell_type": "code",
   "execution_count": null,
   "metadata": {},
   "outputs": [],
   "source": []
  },
  {
   "cell_type": "code",
   "execution_count": null,
   "metadata": {},
   "outputs": [],
   "source": []
  },
  {
   "cell_type": "code",
   "execution_count": null,
   "metadata": {},
   "outputs": [],
   "source": []
  },
  {
   "cell_type": "code",
   "execution_count": null,
   "metadata": {},
   "outputs": [],
   "source": []
  },
  {
   "cell_type": "code",
   "execution_count": null,
   "metadata": {},
   "outputs": [],
   "source": []
  },
  {
   "cell_type": "code",
   "execution_count": null,
   "metadata": {},
   "outputs": [],
   "source": []
  },
  {
   "cell_type": "code",
   "execution_count": null,
   "metadata": {},
   "outputs": [],
   "source": []
  },
  {
   "cell_type": "code",
   "execution_count": null,
   "metadata": {},
   "outputs": [],
   "source": []
  },
  {
   "cell_type": "code",
   "execution_count": null,
   "metadata": {},
   "outputs": [],
   "source": []
  },
  {
   "cell_type": "code",
   "execution_count": null,
   "metadata": {},
   "outputs": [],
   "source": []
  },
  {
   "cell_type": "code",
   "execution_count": null,
   "metadata": {},
   "outputs": [],
   "source": []
  },
  {
   "cell_type": "code",
   "execution_count": null,
   "metadata": {},
   "outputs": [],
   "source": []
  },
  {
   "cell_type": "code",
   "execution_count": null,
   "metadata": {},
   "outputs": [],
   "source": []
  },
  {
   "cell_type": "code",
   "execution_count": null,
   "metadata": {},
   "outputs": [],
   "source": []
  },
  {
   "cell_type": "code",
   "execution_count": null,
   "metadata": {},
   "outputs": [],
   "source": []
  },
  {
   "cell_type": "code",
   "execution_count": null,
   "metadata": {},
   "outputs": [],
   "source": []
  },
  {
   "cell_type": "code",
   "execution_count": null,
   "metadata": {},
   "outputs": [],
   "source": []
  },
  {
   "cell_type": "code",
   "execution_count": null,
   "metadata": {},
   "outputs": [],
   "source": []
  },
  {
   "cell_type": "code",
   "execution_count": null,
   "metadata": {},
   "outputs": [],
   "source": []
  },
  {
   "cell_type": "code",
   "execution_count": null,
   "metadata": {},
   "outputs": [],
   "source": []
  }
 ],
 "metadata": {
  "kernelspec": {
   "display_name": "Python 3",
   "language": "python",
   "name": "python3"
  },
  "language_info": {
   "codemirror_mode": {
    "name": "ipython",
    "version": 3
   },
   "file_extension": ".py",
   "mimetype": "text/x-python",
   "name": "python",
   "nbconvert_exporter": "python",
   "pygments_lexer": "ipython3",
   "version": "3.6.5"
  }
 },
 "nbformat": 4,
 "nbformat_minor": 2
}
