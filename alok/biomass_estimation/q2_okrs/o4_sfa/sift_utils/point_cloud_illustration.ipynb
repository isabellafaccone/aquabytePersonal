{
 "cells": [
  {
   "cell_type": "code",
   "execution_count": null,
   "metadata": {},
   "outputs": [],
   "source": [
    "%load_ext autoreload\n",
    "%autoreload 2\n",
    "\n",
    "import json\n",
    "import os\n",
    "import pandas as pd\n",
    "from IPython.display import Image\n",
    "from matplotlib import pyplot as plt\n",
    "import cv2\n",
    "\n",
    "from research.utils.data_access_utils import S3AccessUtils\n",
    "\n",
    "import sys\n",
    "sys.path.append('..')\n",
    "from simple_object_orientation.utils import *\n",
    "from sift_utils.point_cloud import generate_point_cloud\n",
    "\n",
    "s3 = S3AccessUtils('/root/data', json.load(open(os.environ['AWS_CREDENTIALS'])))"
   ]
  },
  {
   "cell_type": "code",
   "execution_count": null,
   "metadata": {},
   "outputs": [],
   "source": [
    "f, _, _ = s3.download_from_url('https://aquabyte-crops.s3.eu-west-1.amazonaws.com/environment=production/site-id=96/pen-id=159/date=2021-04-16/hour=13/at=2021-04-16T13:50:24.060390000Z/left_frame_crop_0_1345_4096_3000.jpg')\n",
    "\n"
   ]
  },
  {
   "cell_type": "markdown",
   "metadata": {},
   "source": [
    "<h1> Utility Methods </h1>"
   ]
  },
  {
   "cell_type": "code",
   "execution_count": null,
   "metadata": {},
   "outputs": [],
   "source": [
    "def get_spatial_attributes(annotation: dict, camera_metadata: CameraMetadata) -> dict:\n",
    "    \"\"\"Generate location and orientation attributes of fish key-points.\"\"\"\n",
    "\n",
    "    X_left, X_right = get_2D_coords_from_ann(annotation)\n",
    "    X = get_3D_coords_from_2D(X_left, X_right, camera_metadata)\n",
    "\n",
    "    localized_X = center_3D_coordinates(X)\n",
    "    B = compute_orthonormal_basis(localized_X)\n",
    "    local_yaw, local_pitch, local_roll = rotation_matrix_to_euler_angles(B)\n",
    "\n",
    "    B = compute_orthonormal_basis(X)\n",
    "    global_yaw, global_pitch, global_roll = rotation_matrix_to_euler_angles(B)\n",
    "\n",
    "    spatial_attrs = dict(\n",
    "        centroid_x=np.mean(X[:, 0]),\n",
    "        centroid_y=np.mean(X[:, 1]),\n",
    "        centroid_z=np.mean(X[:, 2]),\n",
    "        local_yaw=local_yaw,\n",
    "        local_pitch=local_pitch,\n",
    "        local_roll=local_roll,\n",
    "        global_yaw=global_yaw,\n",
    "        global_pitch=global_pitch,\n",
    "        global_roll=global_roll\n",
    "    )\n",
    "\n",
    "    return spatial_attrs\n",
    "\n",
    "def compute_orthonormal_basis(coords):\n",
    "    \"\"\"Given a set of fish 3D key-point coordinates, approximate the orthonormal basis\n",
    "    corresponding to the new coordinate system that is axis-aligned with the coordinates.\"\"\"\n",
    "\n",
    "    tail_notch_idx = BODY_PARTS.index('TAIL_NOTCH')\n",
    "    upper_lip_idx = BODY_PARTS.index('UPPER_LIP')\n",
    "    dorsal_fin_idx = BODY_PARTS.index('DORSAL_FIN')\n",
    "    pelvic_fin_idx = BODY_PARTS.index('PELVIC_FIN')\n",
    "\n",
    "    u = coords[upper_lip_idx] - coords[tail_notch_idx]  # vector from TAIL_NOTCH to UPPER_LIP\n",
    "    w = coords[dorsal_fin_idx] - coords[pelvic_fin_idx]  # vector from PELVIC_FIN to DORSAL_FIN\n",
    "    u = u / np.linalg.norm(u)\n",
    "    w = w - (np.dot(u, w)) * u\n",
    "    w = w / np.linalg.norm(w)\n",
    "    v = np.cross(w, u)\n",
    "    v = v / np.linalg.norm(v)\n",
    "    return np.vstack((u, v, w)).T\n",
    "\n",
    "def reflect(coords, do_reflection):\n",
    "    if do_reflection:\n",
    "        return coords\n",
    "    else:\n",
    "        new_coords = coords[:]\n",
    "        new_coords[:, 0] = -new_coords[:, 0]\n",
    "        return new_coords\n"
   ]
  },
  {
   "cell_type": "code",
   "execution_count": null,
   "metadata": {},
   "outputs": [],
   "source": []
  },
  {
   "cell_type": "markdown",
   "metadata": {},
   "source": [
    "<h1> Load GTSF data and get lateral fish for each fish ID </h1>"
   ]
  },
  {
   "cell_type": "code",
   "execution_count": null,
   "metadata": {},
   "outputs": [],
   "source": [
    "s3 = S3AccessUtils('/root/data', json.load(open(os.environ['AWS_CREDENTIALS'])))\n",
    "trainig_dataset_url = 'https://aquabyte-images-adhoc.s3-eu-west-1.amazonaws.com/alok/training_datasets/2021-05-29_weight_estimation_training_dataset_15367.csv'\n",
    "training_dataset_f, _, _ = s3.download_from_url(trainig_dataset_url)\n",
    "df = pd.read_csv(training_dataset_f)"
   ]
  },
  {
   "cell_type": "code",
   "execution_count": null,
   "metadata": {},
   "outputs": [],
   "source": [
    "local_yaws, local_pitches, local_rolls, X_list = [], [], [], []\n",
    "count = 0\n",
    "for idx, row in df.iterrows():\n",
    "    ann = json.loads(row.keypoints.replace(\"'\", '\"'))\n",
    "    camera_metadata = json.loads(row.camera_metadata.replace(\"'\", '\"'))\n",
    "    cm = CameraMetadata(\n",
    "        focal_length=camera_metadata['focalLength'],\n",
    "        focal_length_pixel=camera_metadata['focalLengthPixel'],\n",
    "        baseline_m=camera_metadata['baseline'],\n",
    "        pixel_count_width=camera_metadata['pixelCountWidth'],\n",
    "        pixel_count_height=camera_metadata['pixelCountHeight'],\n",
    "        image_sensor_width=camera_metadata['imageSensorWidth'],\n",
    "        image_sensor_height=camera_metadata['imageSensorHeight']\n",
    "    )\n",
    "    \n",
    "    X_left, X_right = get_2D_coords_from_ann(ann)\n",
    "    X = get_3D_coords_from_2D(X_left, X_right, cm)\n",
    "    X_list.append(X)\n",
    "    \n",
    "    spatial_attrs = get_spatial_attributes(ann, cm)\n",
    "    local_yaws.append(spatial_attrs['local_yaw'])\n",
    "    local_pitches.append(spatial_attrs['local_pitch'])\n",
    "    local_rolls.append(spatial_attrs['local_roll'])\n",
    "    \n",
    "    if count % 1000 == 0:\n",
    "        print(count)\n",
    "    count += 1\n",
    "    \n",
    "df['X'] = X_list\n",
    "df['local_yaw'] = np.array(local_yaws) * 180 / np.pi\n",
    "df['local_pitch'] = np.array(local_pitches) * 180 / np.pi\n",
    "df['local_roll'] = np.array(local_rolls) * 180 / np.pi\n",
    "df['primary_key'] = range(df.shape[0])"
   ]
  },
  {
   "cell_type": "code",
   "execution_count": null,
   "metadata": {},
   "outputs": [],
   "source": [
    "primary_keys = []\n",
    "for fish_id in df.fish_id.unique():\n",
    "    mask = (df.fish_id == fish_id) & ((df.local_yaw % 180).abs() < 10) & (df.local_pitch.abs() < 5) & (df.local_roll.abs() < 5)\n",
    "    if mask.sum():\n",
    "        key = df[mask].sort_values('captured_at', ascending=True).primary_key.iloc[0]\n",
    "        primary_keys.append(key)\n",
    "        \n",
    "key_mask = df.primary_key.isin(primary_keys)"
   ]
  },
  {
   "cell_type": "code",
   "execution_count": null,
   "metadata": {},
   "outputs": [],
   "source": []
  },
  {
   "cell_type": "markdown",
   "metadata": {},
   "source": [
    "<h1> Generate Point Cloud </h1>"
   ]
  },
  {
   "cell_type": "code",
   "execution_count": null,
   "metadata": {},
   "outputs": [],
   "source": [
    "def get_bbox_coords(ann, left_image_arr, right_image_arr, buffer=50):\n",
    "    x_min = max(min([item['xCrop'] for item in ann['leftCrop']]) - buffer, 0)\n",
    "    y_min = max(min([item['yCrop'] for item in ann['leftCrop']]) - buffer, 0)\n",
    "    x_max = min(max([item['xCrop'] for item in ann['leftCrop']]) + buffer, left_image_arr.shape[1])\n",
    "    y_max = min(max([item['yCrop'] for item in ann['leftCrop']]) + buffer, right_image_arr.shape[0])\n",
    "\n",
    "    \n",
    "    left_bbox = [x_min, y_min, x_max, y_max]\n",
    "    \n",
    "    x_min = max(min([item['xCrop'] for item in ann['rightCrop']]) - buffer, 0)\n",
    "    y_min = max(min([item['yCrop'] for item in ann['rightCrop']]) - buffer, 0)\n",
    "    x_max = min(max([item['xCrop'] for item in ann['rightCrop']]) + buffer, right_image_arr.shape[1])\n",
    "    y_max = min(max([item['yCrop'] for item in ann['rightCrop']]) + buffer, right_image_arr.shape[0])\n",
    "    \n",
    "    right_bbox = [x_min, y_min, x_max, y_max]\n",
    "    \n",
    "    left_bbox_x_frame_min = max(min([item['xFrame'] for item in ann['leftCrop']]) - buffer, 0)\n",
    "    left_bbox_y_frame_min = max(min([item['yFrame'] for item in ann['leftCrop']]) - buffer, 0)\n",
    "    right_bbox_x_frame_min = max(min([item['xFrame'] for item in ann['rightCrop']]) - buffer, 0)\n",
    "    right_bbox_y_frame_min = max(min([item['yFrame'] for item in ann['rightCrop']]) - buffer, 0)\n",
    "    \n",
    "    new_ann = {'leftCrop': [], 'rightCrop': []}\n",
    "    for item in ann['leftCrop']:\n",
    "        new_item = {}\n",
    "        new_item['keypointType'] = item['keypointType']\n",
    "        new_item['xFrame'] = item['xFrame']\n",
    "        new_item['yFrame'] = item['yFrame']\n",
    "        new_item['xCrop'] = item['xFrame'] - left_bbox_x_frame_min\n",
    "        new_item['yCrop'] = item['yFrame'] - left_bbox_y_frame_min\n",
    "        new_ann['leftCrop'].append(new_item)\n",
    "        \n",
    "    for item in ann['rightCrop']:\n",
    "        new_item = {}\n",
    "        new_item['keypointType'] = item['keypointType']\n",
    "        new_item['xFrame'] = item['xFrame']\n",
    "        new_item['yFrame'] = item['yFrame']\n",
    "        new_item['xCrop'] = item['xFrame'] - right_bbox_x_frame_min\n",
    "        new_item['yCrop'] = item['yFrame'] - right_bbox_y_frame_min\n",
    "        new_ann['rightCrop'].append(new_item)\n",
    "    \n",
    "    return left_bbox, right_bbox, new_ann\n",
    "    \n",
    "    "
   ]
  },
  {
   "cell_type": "code",
   "execution_count": null,
   "metadata": {},
   "outputs": [],
   "source": [
    "idx = 66\n",
    "row = df[key_mask].iloc[idx]\n",
    "left_image_url = row.left_image_url\n",
    "right_image_url = row.right_image_url\n",
    "left_image_f, _, _ = s3.download_from_url(left_image_url)\n",
    "right_image_f, _, _ = s3.download_from_url(right_image_url)\n",
    "left_image_arr = cv2.cvtColor(cv2.imread(left_image_f), cv2.COLOR_BGR2RGB)\n",
    "right_image_arr = cv2.cvtColor(cv2.imread(right_image_f), cv2.COLOR_BGR2RGB)\n",
    "left_bbox, right_bbox, ann = \\\n",
    "    get_bbox_coords(json.loads(row.keypoints.replace(\"'\", '\"')), left_image_arr, right_image_arr)\n",
    "left_image_arr = left_image_arr[left_bbox[1]:left_bbox[3], left_bbox[0]:left_bbox[2]]\n",
    "right_image_arr = right_image_arr[right_bbox[1]:right_bbox[3], right_bbox[0]:right_bbox[2]]\n",
    "\n"
   ]
  },
  {
   "cell_type": "code",
   "execution_count": null,
   "metadata": {},
   "outputs": [],
   "source": []
  },
  {
   "cell_type": "code",
   "execution_count": null,
   "metadata": {},
   "outputs": [],
   "source": [
    "left_points, right_points, left_corner, right_corner = generate_point_cloud(ann, left_image_arr, right_image_arr)\n",
    "point_cloud = get_3D_coords_from_2D(left_points, right_points, cm)\n",
    "rgbd = np.array([left_points[:, 0] - left_corner[0], left_points[:, 1] - left_corner[1], point_cloud[:, 1]]).T\n"
   ]
  },
  {
   "cell_type": "code",
   "execution_count": null,
   "metadata": {},
   "outputs": [],
   "source": [
    "import matplotlib.pyplot as plt\n",
    "import matplotlib.tri as tri\n",
    "from scipy.spatial import Delaunay\n",
    "\n",
    "fig1, ax1 = plt.subplots(figsize=(20, 10))\n",
    "\n",
    "points = rgbd #[np.random.choice(rgbd.shape[0], 100)]\n",
    "triang = tri.Triangulation(points[:, 0], points[:, 1])\n",
    "ax1.set_aspect('equal')\n",
    "tpc = ax1.tripcolor(triang, points[:, 2], shading='flat')\n",
    "fig1.colorbar(tpc)\n",
    "plt.imshow(left_image_arr)\n",
    "plt.gca().set_aspect('equal', adjustable='box')\n",
    "ax1.set_title('tripcolor of Delaunay triangulation, flat shading')\n"
   ]
  },
  {
   "cell_type": "code",
   "execution_count": null,
   "metadata": {},
   "outputs": [],
   "source": []
  },
  {
   "cell_type": "code",
   "execution_count": null,
   "metadata": {},
   "outputs": [],
   "source": []
  },
  {
   "cell_type": "code",
   "execution_count": null,
   "metadata": {},
   "outputs": [],
   "source": []
  },
  {
   "cell_type": "code",
   "execution_count": null,
   "metadata": {},
   "outputs": [],
   "source": []
  },
  {
   "cell_type": "code",
   "execution_count": null,
   "metadata": {},
   "outputs": [],
   "source": []
  },
  {
   "cell_type": "code",
   "execution_count": null,
   "metadata": {},
   "outputs": [],
   "source": []
  }
 ],
 "metadata": {
  "kernelspec": {
   "display_name": "Python 3",
   "language": "python",
   "name": "python3"
  },
  "language_info": {
   "codemirror_mode": {
    "name": "ipython",
    "version": 3
   },
   "file_extension": ".py",
   "mimetype": "text/x-python",
   "name": "python",
   "nbconvert_exporter": "python",
   "pygments_lexer": "ipython3",
   "version": "3.6.5"
  }
 },
 "nbformat": 4,
 "nbformat_minor": 2
}
