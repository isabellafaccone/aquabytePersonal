{
 "cells": [
  {
   "cell_type": "code",
   "execution_count": null,
   "metadata": {},
   "outputs": [],
   "source": [
    "from collections import defaultdict\n",
    "import json\n",
    "import os\n",
    "import numpy as np\n",
    "import cv2\n",
    "from research.utils.data_access_utils import RDSAccessUtils\n",
    "from research_lib.utils.data_access_utils import S3AccessUtils\n",
    "from weight_estimation.body_parts import core_body_parts\n",
    "from weight_estimation.utils import convert_to_world_point_arr, get_left_right_keypoint_arrs, normalize_left_right_keypoint_arrs, CameraMetadata, \\\n",
    "    stabilize_keypoints, convert_to_nn_input\n",
    "from weight_estimation.weight_estimator import WeightEstimator, CameraMetadata\n",
    "import torch\n",
    "from research.weight_estimation.keypoint_utils.optics import pixel2world\n",
    "\n",
    "from matplotlib import pyplot as plt\n",
    "\n"
   ]
  },
  {
   "cell_type": "code",
   "execution_count": null,
   "metadata": {},
   "outputs": [],
   "source": []
  },
  {
   "cell_type": "code",
   "execution_count": null,
   "metadata": {},
   "outputs": [],
   "source": [
    "os.environ['PLALI_SQL_CREDENTIALS'] = '/run/secrets/plali_sql_credentials'\n",
    "s3 = S3AccessUtils('/root/data')\n",
    "rds = RDSAccessUtils(json.load(open(os.environ['PLALI_SQL_CREDENTIALS'])))\n",
    "\n",
    "def get_annotated_data(workflow_id):\n",
    "    query = \"\"\"\n",
    "        select * from plali.plali_annotations x\n",
    "        inner join \n",
    "        ( select a.id as plali_image_id, a.images, a.metadata, b.id as workflow_id, b.name from plali.plali_images a\n",
    "        inner join plali.plali_workflows b\n",
    "        on a.workflow_id = b.id ) y\n",
    "        on x.plali_image_id = y.plali_image_id\n",
    "        where workflow_id = '{}';\n",
    "    \"\"\".format(workflow_id)\n",
    "\n",
    "    annotated_df = rds.extract_from_database(query)\n",
    "    return annotated_df\n",
    "\n",
    "class AnnotationFormatError(Exception):\n",
    "    pass\n",
    "\n",
    "def add_anns(annotated_df):\n",
    "    anns = []\n",
    "    for idx, row in annotated_df.iterrows():\n",
    "        try:\n",
    "            raw_ann = row.annotation\n",
    "            if 'skipReasons' in raw_ann:\n",
    "                raise AnnotationFormatError\n",
    "\n",
    "            ann = {'leftCrop': [], 'rightCrop': []}\n",
    "\n",
    "            for side in ['leftCrop', 'rightCrop']:\n",
    "                for raw_item in row.annotation[side]['annotation']['annotations']:\n",
    "                    if 'xCrop' not in raw_item or 'yCrop' not in raw_item:\n",
    "                        raise AnnotationFormatError\n",
    "                    item = {\n",
    "                        'xCrop': raw_item['xCrop'],\n",
    "                        'yCrop': raw_item['yCrop'],\n",
    "                        'xFrame': raw_item['xCrop'],\n",
    "                        'yFrame': raw_item['yCrop'],\n",
    "                        'keypointType': raw_item['category']\n",
    "                    }\n",
    "\n",
    "                    ann[side].append(item)\n",
    "\n",
    "            if any([len(ann[side]) != 11 for side in ['leftCrop', 'rightCrop']]):\n",
    "                raise AnnotationFormatError\n",
    "\n",
    "            anns.append(ann)\n",
    "\n",
    "        except AnnotationFormatError as err:\n",
    "            anns.append(None)\n",
    "\n",
    "    annotated_df['ann'] = anns\n",
    "    \n",
    "\n",
    "def add_camera_metadata(df):\n",
    "    \n",
    "    cm_by_url = {}\n",
    "    cms = []\n",
    "    for idx, row in df.iterrows():\n",
    "        metadata = row.metadata\n",
    "        time = metadata['time']\n",
    "        date = time[:10]\n",
    "        if date < '2020-08-06':\n",
    "            stereo_parameters_url = 'https://aquabyte-stereo-parameters.s3-eu-west-1.amazonaws.com/L40029773_R40038903/2020-08-06T12%3A35%3A26.754586000Z_L40029773_R40038903_stereo-parameters.json'\n",
    "        else:\n",
    "            stereo_parameters_url = 'https://aquabyte-stereo-parameters.s3-eu-west-1.amazonaws.com/L40029773_R40038903/2020-08-06T12%3A35%3A26.754586000Z_L40029773_R40038903_stereo-parameters.json'\n",
    "            \n",
    "        stereo_parameters_url = stereo_parameters_url.replace('%3A', ':')\n",
    "        if stereo_parameters_url in cm_by_url.keys():\n",
    "            cm = cm_by_url[stereo_parameters_url]\n",
    "        else:\n",
    "            stereo_parameters_f, _, _ = s3.download_from_url(stereo_parameters_url)\n",
    "            stereo_parameters = json.load(open(stereo_parameters_f))\n",
    "\n",
    "            cm = {\n",
    "                'focalLengthPixel': stereo_parameters['CameraParameters1']['FocalLength'][0],\n",
    "                'baseline': abs(stereo_parameters['TranslationOfCamera2'][0] / 1e3),\n",
    "                'focalLength': stereo_parameters['CameraParameters1']['FocalLength'][0] * 3.45e-6,\n",
    "                'pixelCountWidth': 4096,\n",
    "                'pixelCountHeight': 3000,\n",
    "                'imageSensorWidth': 0.01412,\n",
    "                'imageSensorHeight': 0.01035\n",
    "            }\n",
    "            cm_by_url[stereo_parameters_url] = cm\n",
    "        cms.append(json.dumps(cm))\n",
    "\n",
    "    df['camera_metadata'] = cms\n",
    "    \n",
    "\n",
    "\n",
    "def add_weights(df):\n",
    "    \n",
    "    weight_model_f, _, _ = s3.download_from_url('https://aquabyte-models.s3-us-west-1.amazonaws.com/biomass/trained_models/2020-11-27T00-00-00/weight_model_synthetic_data.pb')\n",
    "    kf_model_f, _, _ = s3.download_from_url('https://aquabyte-models.s3-us-west-1.amazonaws.com/k-factor/trained_models/2020-08-08T000000/kf_predictor_v2.pb')\n",
    "    weight_estimator = WeightEstimator(weight_model_f, kf_model_f)\n",
    "\n",
    "    pred_weights = []\n",
    "    for idx, row in df.iterrows():\n",
    "        ann = row.ann\n",
    "        camera_metadata = json.loads(row.camera_metadata)\n",
    "        if ann is not None:\n",
    "            cm = CameraMetadata(\n",
    "                focal_length=camera_metadata['focalLength'],\n",
    "                focal_length_pixel=camera_metadata['focalLengthPixel'],\n",
    "                baseline_m=camera_metadata['baseline'],\n",
    "                pixel_count_width=camera_metadata['pixelCountWidth'],\n",
    "                pixel_count_height=camera_metadata['pixelCountHeight'],\n",
    "                image_sensor_width=camera_metadata['imageSensorWidth'],\n",
    "                image_sensor_height=camera_metadata['imageSensorHeight']\n",
    "            )\n",
    "\n",
    "            weight, _, _ = weight_estimator.predict(ann, cm)\n",
    "            pred_weights.append(weight)\n",
    "        else:\n",
    "            pred_weights.append(None)\n",
    "    \n",
    "    df['pred_weight'] = pred_weights    \n",
    "    \n",
    "    \n",
    "def add_spatial_attributes(df):\n",
    "    yaws, pitches, rolls, depths = [], [], [], []\n",
    "    for idx, row in df.iterrows():\n",
    "        ann, cm = row.ann, json.loads(row.camera_metadata)\n",
    "        try:\n",
    "            world_keypoints = pixel2world(ann['leftCrop'], ann['rightCrop'], cm)\n",
    "            depth = np.median([x[1] for x in world_keypoints.values()])\n",
    "            u = world_keypoints['ADIPOSE_FIN'] - world_keypoints['ANAL_FIN']\n",
    "            v = world_keypoints['UPPER_LIP'] - world_keypoints['TAIL_NOTCH']\n",
    "            yaw = np.arctan(v[1] / abs(v[0])) * (180.0 / np.pi)\n",
    "            pitch = np.arctan(v[2] / abs(v[0])) * (180.0 / np.pi)\n",
    "            roll = np.arctan(u[1] / u[2]) * (180.0 / np.pi)\n",
    "        except TypeError as err:\n",
    "            yaw, pitch, roll, depth = None, None, None, None\n",
    "        yaws.append(yaw)\n",
    "        pitches.append(pitch)\n",
    "        depths.append(depth)\n",
    "        rolls.append(roll)\n",
    "        \n",
    "    df['yaw'] = yaws\n",
    "    df['pitch'] = pitches\n",
    "    df['roll'] = rolls\n",
    "    df['depth'] = depths\n",
    "\n",
    "\n"
   ]
  },
  {
   "cell_type": "code",
   "execution_count": null,
   "metadata": {},
   "outputs": [],
   "source": [
    "workflow_id = 'cb587143-2354-477e-998b-f06df33ffb45'\n",
    "df = get_annotated_data(workflow_id)\n",
    "add_anns(df)\n",
    "add_camera_metadata(df)\n",
    "add_weights(df)\n",
    "add_spatial_attributes(df)"
   ]
  },
  {
   "cell_type": "code",
   "execution_count": null,
   "metadata": {},
   "outputs": [],
   "source": []
  },
  {
   "cell_type": "code",
   "execution_count": null,
   "metadata": {},
   "outputs": [],
   "source": []
  },
  {
   "cell_type": "code",
   "execution_count": null,
   "metadata": {},
   "outputs": [],
   "source": [
    "df['weight'] = df.metadata.apply(lambda x: x['data'].get('weightKgs'))\n",
    "df['date'] = df.metadata.apply(lambda x: x.get('time')[:10])\n"
   ]
  },
  {
   "cell_type": "code",
   "execution_count": null,
   "metadata": {},
   "outputs": [],
   "source": [
    "plt.scatter(df.weight.values, df.pred_weight.values)\n",
    "plt.plot([0, 2500], [0, 2500], color='red')\n",
    "plt.xlim([0, 2500])\n",
    "plt.ylim([0, 2500])\n",
    "plt.show()"
   ]
  },
  {
   "cell_type": "code",
   "execution_count": null,
   "metadata": {},
   "outputs": [],
   "source": [
    "df.weight.mean() "
   ]
  },
  {
   "cell_type": "code",
   "execution_count": null,
   "metadata": {},
   "outputs": [],
   "source": []
  },
  {
   "cell_type": "code",
   "execution_count": null,
   "metadata": {},
   "outputs": [],
   "source": []
  },
  {
   "cell_type": "code",
   "execution_count": null,
   "metadata": {},
   "outputs": [],
   "source": []
  },
  {
   "cell_type": "code",
   "execution_count": null,
   "metadata": {},
   "outputs": [],
   "source": []
  },
  {
   "cell_type": "code",
   "execution_count": null,
   "metadata": {},
   "outputs": [],
   "source": []
  },
  {
   "cell_type": "code",
   "execution_count": null,
   "metadata": {},
   "outputs": [],
   "source": []
  },
  {
   "cell_type": "code",
   "execution_count": null,
   "metadata": {},
   "outputs": [],
   "source": []
  },
  {
   "cell_type": "code",
   "execution_count": null,
   "metadata": {},
   "outputs": [],
   "source": []
  },
  {
   "cell_type": "code",
   "execution_count": null,
   "metadata": {},
   "outputs": [],
   "source": []
  },
  {
   "cell_type": "code",
   "execution_count": null,
   "metadata": {},
   "outputs": [],
   "source": []
  },
  {
   "cell_type": "code",
   "execution_count": null,
   "metadata": {},
   "outputs": [],
   "source": []
  },
  {
   "cell_type": "code",
   "execution_count": null,
   "metadata": {},
   "outputs": [],
   "source": []
  },
  {
   "cell_type": "code",
   "execution_count": null,
   "metadata": {},
   "outputs": [],
   "source": []
  },
  {
   "cell_type": "code",
   "execution_count": null,
   "metadata": {},
   "outputs": [],
   "source": []
  },
  {
   "cell_type": "code",
   "execution_count": null,
   "metadata": {},
   "outputs": [],
   "source": []
  },
  {
   "cell_type": "code",
   "execution_count": null,
   "metadata": {},
   "outputs": [],
   "source": []
  },
  {
   "cell_type": "code",
   "execution_count": null,
   "metadata": {},
   "outputs": [],
   "source": []
  },
  {
   "cell_type": "code",
   "execution_count": null,
   "metadata": {},
   "outputs": [],
   "source": []
  },
  {
   "cell_type": "code",
   "execution_count": null,
   "metadata": {},
   "outputs": [],
   "source": []
  },
  {
   "cell_type": "code",
   "execution_count": null,
   "metadata": {},
   "outputs": [],
   "source": []
  },
  {
   "cell_type": "code",
   "execution_count": null,
   "metadata": {},
   "outputs": [],
   "source": []
  },
  {
   "cell_type": "code",
   "execution_count": null,
   "metadata": {},
   "outputs": [],
   "source": []
  },
  {
   "cell_type": "code",
   "execution_count": null,
   "metadata": {},
   "outputs": [],
   "source": []
  },
  {
   "cell_type": "code",
   "execution_count": null,
   "metadata": {},
   "outputs": [],
   "source": []
  },
  {
   "cell_type": "code",
   "execution_count": null,
   "metadata": {},
   "outputs": [],
   "source": []
  },
  {
   "cell_type": "code",
   "execution_count": null,
   "metadata": {},
   "outputs": [],
   "source": []
  },
  {
   "cell_type": "code",
   "execution_count": null,
   "metadata": {},
   "outputs": [],
   "source": []
  }
 ],
 "metadata": {
  "kernelspec": {
   "display_name": "Python 3",
   "language": "python",
   "name": "python3"
  },
  "language_info": {
   "codemirror_mode": {
    "name": "ipython",
    "version": 3
   },
   "file_extension": ".py",
   "mimetype": "text/x-python",
   "name": "python",
   "nbconvert_exporter": "python",
   "pygments_lexer": "ipython3",
   "version": "3.6.5"
  }
 },
 "nbformat": 4,
 "nbformat_minor": 2
}
