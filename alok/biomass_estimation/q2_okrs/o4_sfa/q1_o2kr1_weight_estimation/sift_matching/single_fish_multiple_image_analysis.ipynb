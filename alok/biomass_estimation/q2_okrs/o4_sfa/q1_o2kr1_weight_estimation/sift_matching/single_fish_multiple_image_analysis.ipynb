{
 "cells": [
  {
   "cell_type": "code",
   "execution_count": null,
   "metadata": {},
   "outputs": [],
   "source": [
    "# %load_ext autoreload\n",
    "# %autoreload 2\n",
    "\n",
    "from collections import defaultdict\n",
    "import json\n",
    "import pandas as pd\n",
    "import numpy as np\n",
    "from keras.models import load_model\n",
    "from research_lib.utils.data_access_utils import S3AccessUtils, RDSAccessUtils\n",
    "from research.weight_estimation.keypoint_utils.optics import pixel2world\n",
    "from dataset import prepare_gtsf_data, compute_akpd_score\n",
    "from weight_estimation.weight_estimator import WeightEstimator\n",
    "from weight_estimation.utils import CameraMetadata\n",
    "\n",
    "from matplotlib import pyplot as plt\n",
    "pd.set_option('display.max_rows', 500)\n"
   ]
  },
  {
   "cell_type": "code",
   "execution_count": null,
   "metadata": {},
   "outputs": [],
   "source": []
  },
  {
   "cell_type": "markdown",
   "metadata": {},
   "source": [
    "<h1> Prepare Augmented GTSF Dataset </h1>"
   ]
  },
  {
   "cell_type": "markdown",
   "metadata": {},
   "source": [
    "<h2> Load raw data </h2>"
   ]
  },
  {
   "cell_type": "code",
   "execution_count": null,
   "metadata": {},
   "outputs": [],
   "source": [
    "s3 = S3AccessUtils('/root/data')\n",
    "akpd_scorer_url = 'https://aquabyte-models.s3-us-west-1.amazonaws.com/keypoint-detection-scorer/akpd_scorer_model_TF.h5'\n",
    "akpd_scorer_f, _, _ = s3.download_from_url(akpd_scorer_url)\n",
    "df1 = prepare_gtsf_data('2019-03-01', '2019-09-20', akpd_scorer_f, 0.5, 1.0)"
   ]
  },
  {
   "cell_type": "code",
   "execution_count": null,
   "metadata": {},
   "outputs": [],
   "source": [
    "df2 = prepare_gtsf_data('2020-06-01', '2020-08-20', akpd_scorer_f, 0.5, 1.0)"
   ]
  },
  {
   "cell_type": "code",
   "execution_count": null,
   "metadata": {},
   "outputs": [],
   "source": [
    "df = pd.concat([df1, df2])"
   ]
  },
  {
   "cell_type": "code",
   "execution_count": null,
   "metadata": {},
   "outputs": [],
   "source": []
  },
  {
   "cell_type": "code",
   "execution_count": null,
   "metadata": {},
   "outputs": [],
   "source": []
  },
  {
   "cell_type": "markdown",
   "metadata": {},
   "source": [
    "<h1> Generate weight estimates with production model </h1>"
   ]
  },
  {
   "cell_type": "code",
   "execution_count": null,
   "metadata": {},
   "outputs": [],
   "source": []
  },
  {
   "cell_type": "code",
   "execution_count": null,
   "metadata": {},
   "outputs": [],
   "source": [
    "weight_model_f, _, _ = s3.download_from_url('https://aquabyte-models.s3-us-west-1.amazonaws.com/biomass/trained_models/2020-11-27T00-00-00/weight_model_synthetic_data.pb')\n",
    "kf_model_f, _, _ = s3.download_from_url('https://aquabyte-models.s3-us-west-1.amazonaws.com/k-factor/trained_models/2020-08-08T000000/kf_predictor_v2.pb')\n",
    "weight_estimator = WeightEstimator(weight_model_f, kf_model_f)\n",
    "\n",
    "pred_weights = []\n",
    "count = 0\n",
    "\n",
    "for idx, row in df.iterrows():\n",
    "    ann = row.keypoints\n",
    "    camera_metadata = row.camera_metadata\n",
    "    cm = CameraMetadata(\n",
    "        focal_length=camera_metadata['focalLength'],\n",
    "        focal_length_pixel=camera_metadata['focalLengthPixel'],\n",
    "        baseline_m=camera_metadata['baseline'],\n",
    "        pixel_count_width=camera_metadata['pixelCountWidth'],\n",
    "        pixel_count_height=camera_metadata['pixelCountHeight'],\n",
    "        image_sensor_width=camera_metadata['imageSensorWidth'],\n",
    "        image_sensor_height=camera_metadata['imageSensorHeight']\n",
    "    )\n",
    "    \n",
    "    weight, _, _ = weight_estimator.predict(ann, cm)\n",
    "    pred_weights.append(weight)\n",
    "    \n",
    "    if count % 1000 == 0:\n",
    "        print(count)\n",
    "    count += 1\n",
    "    \n",
    "df['pred_weight'] = pred_weights"
   ]
  },
  {
   "cell_type": "code",
   "execution_count": null,
   "metadata": {},
   "outputs": [],
   "source": []
  },
  {
   "cell_type": "code",
   "execution_count": null,
   "metadata": {},
   "outputs": [],
   "source": [
    "def add_spatial_attributes(df):\n",
    "    yaws, pitches, rolls, depths = [], [], [], []\n",
    "    for idx, row in df.iterrows():\n",
    "        ann, cm = row.keypoints, camera_metadata\n",
    "        try:\n",
    "            world_keypoints = pixel2world(ann['leftCrop'], ann['rightCrop'], cm)\n",
    "            depth = np.median([x[1] for x in world_keypoints.values()])\n",
    "            u = world_keypoints['ADIPOSE_FIN'] - world_keypoints['ANAL_FIN']\n",
    "            v = world_keypoints['UPPER_LIP'] - world_keypoints['TAIL_NOTCH']\n",
    "            yaw = np.arctan(v[1] / abs(v[0])) * (180.0 / np.pi)\n",
    "            pitch = np.arctan(v[2] / abs(v[0])) * (180.0 / np.pi)\n",
    "            roll = np.arctan(u[1] / u[2]) * (180.0 / np.pi)\n",
    "        except TypeError as err:\n",
    "            yaw, pitch, roll, depth = None, None, None, None\n",
    "        yaws.append(yaw)\n",
    "        pitches.append(pitch)\n",
    "        depths.append(depth)\n",
    "        rolls.append(roll)\n",
    "        \n",
    "    df['yaw'] = yaws\n",
    "    df['pitch'] = pitches\n",
    "    df['roll'] = rolls\n",
    "    df['depth'] = depths\n"
   ]
  },
  {
   "cell_type": "code",
   "execution_count": null,
   "metadata": {},
   "outputs": [],
   "source": [
    "add_spatial_attributes(df)"
   ]
  },
  {
   "cell_type": "code",
   "execution_count": null,
   "metadata": {},
   "outputs": [],
   "source": [
    "df['error_pct'] = (df.pred_weight - df.weight) / df.weight"
   ]
  },
  {
   "cell_type": "code",
   "execution_count": null,
   "metadata": {},
   "outputs": [],
   "source": []
  },
  {
   "cell_type": "code",
   "execution_count": null,
   "metadata": {},
   "outputs": [],
   "source": []
  },
  {
   "cell_type": "code",
   "execution_count": null,
   "metadata": {},
   "outputs": [],
   "source": []
  },
  {
   "cell_type": "code",
   "execution_count": null,
   "metadata": {},
   "outputs": [],
   "source": [
    "plt.figure(figsize=(15, 8))\n",
    "plt.scatter(df.weight.values, df.pred_weight.values)\n",
    "plt.plot([0, 9000], [0, 9000], color='red')\n",
    "plt.grid()\n",
    "plt.show()"
   ]
  },
  {
   "cell_type": "code",
   "execution_count": null,
   "metadata": {},
   "outputs": [],
   "source": []
  },
  {
   "cell_type": "code",
   "execution_count": null,
   "metadata": {},
   "outputs": [],
   "source": []
  },
  {
   "cell_type": "markdown",
   "metadata": {},
   "source": [
    "<h1> Single Fish Multi-Image Analysis </h1>"
   ]
  },
  {
   "cell_type": "code",
   "execution_count": null,
   "metadata": {},
   "outputs": [],
   "source": [
    "analysis_data = defaultdict(list)\n",
    "fish_ids = list(df.fish_id.unique())\n",
    "for fish_id in fish_ids:\n",
    "    mask = df.fish_id == fish_id\n",
    "    count = df[mask].shape[0]\n",
    "    pred_weight = df[mask].pred_weight.mean()\n",
    "    gt_weight = df[mask].weight.mean()\n",
    "    pct_error = (pred_weight - gt_weight) / gt_weight\n",
    "    pct_variation = df[mask].pred_weight.std() / pred_weight\n",
    "    if count > 10:\n",
    "        analysis_data['fish_id'].append(fish_id)\n",
    "        analysis_data['count'].append(count)\n",
    "        analysis_data['pred_weight'].append(pred_weight)\n",
    "        analysis_data['gt_weight'].append(gt_weight)\n",
    "        analysis_data['pct_error'].append(pct_error)\n",
    "        analysis_data['pct_variation'].append(pct_variation)\n",
    "        \n",
    "analysis_df = pd.DataFrame(analysis_data)\n",
    "        "
   ]
  },
  {
   "cell_type": "code",
   "execution_count": null,
   "metadata": {},
   "outputs": [],
   "source": []
  },
  {
   "cell_type": "code",
   "execution_count": null,
   "metadata": {},
   "outputs": [],
   "source": [
    "mask = analysis_df.gt_weight > 5000\n",
    "analysis_df[mask].sort_values('count', ascending=False)"
   ]
  },
  {
   "cell_type": "code",
   "execution_count": null,
   "metadata": {},
   "outputs": [],
   "source": []
  },
  {
   "cell_type": "code",
   "execution_count": null,
   "metadata": {},
   "outputs": [],
   "source": [
    "mask = df.fish_id == '190711-c500494a-6c55-440e-8a90-cba094063c53'\n",
    "plt.scatter(df[mask].pitch, df[mask].error_pct)\n",
    "plt.grid()\n",
    "plt.show()"
   ]
  },
  {
   "cell_type": "code",
   "execution_count": null,
   "metadata": {},
   "outputs": [],
   "source": []
  },
  {
   "cell_type": "code",
   "execution_count": null,
   "metadata": {},
   "outputs": [],
   "source": []
  },
  {
   "cell_type": "code",
   "execution_count": null,
   "metadata": {},
   "outputs": [],
   "source": []
  },
  {
   "cell_type": "code",
   "execution_count": null,
   "metadata": {},
   "outputs": [],
   "source": []
  },
  {
   "cell_type": "code",
   "execution_count": null,
   "metadata": {},
   "outputs": [],
   "source": []
  },
  {
   "cell_type": "code",
   "execution_count": null,
   "metadata": {},
   "outputs": [],
   "source": [
    "def display_crops(left_image_f, right_image_f, ann, overlay_keypoints=True, show_labels=True, title=None):\n",
    "\n",
    "    fig, axes = plt.subplots(2, 1, figsize=(10, 10))\n",
    "    left_image = plt.imread(left_image_f)\n",
    "    right_image = plt.imread(right_image_f)\n",
    "    axes[0].imshow(left_image)\n",
    "    axes[1].imshow(right_image)\n",
    "    \n",
    "    left_keypoints = {item['keypointType']: [item['xFrame'], item['yFrame']] for item in ann['leftCrop']}\n",
    "    right_keypoints = {item['keypointType']: [item['xFrame'], item['yFrame']] for item in ann['rightCrop']}\n",
    "    \n",
    "    if overlay_keypoints:\n",
    "        for bp, kp in left_keypoints.items():\n",
    "            axes[0].scatter([kp[0]], [kp[1]], color='red', s=1)\n",
    "            if show_labels:\n",
    "                axes[0].annotate(bp, (kp[0], kp[1]), color='red')\n",
    "        for bp, kp in right_keypoints.items():\n",
    "            axes[1].scatter([kp[0]], [kp[1]], color='red', s=1)\n",
    "            if show_labels:\n",
    "                axes[1].annotate(bp, (kp[0], kp[1]), color='red')\n",
    "\n",
    "    if title:\n",
    "        axes[0].set_title(title)\n",
    "    plt.show()\n",
    "    \n",
    "\n",
    "\n",
    "for idx, row in df[df.fish_id == '190730-8d4936bb-2de9-4379-8e36-1a0c3a3c600e'].sort_values('captured_at').iterrows():\n",
    "    ann = row.keypoints\n",
    "    left_image_url = row.left_url\n",
    "    right_image_url = row.right_image_url\n",
    "    left_image_f, _, _ = s3.download_from_url(left_image_url)\n",
    "    right_image_f, _, _ = s3.download_from_url(right_image_url)\n",
    "    \n",
    "    pred_weight = round(row.pred_weight, 2)\n",
    "    gt_weight = round(row.weight, 2)\n",
    "    error_pct = round(100 * (pred_weight - gt_weight) / gt_weight, 2)\n",
    "    title = 'Predicted weight: {}; GT weight: {}; Error: {}'.format(pred_weight, gt_weight, error_pct) \n",
    "    \n",
    "    display_crops(left_image_f, right_image_f, ann, show_labels=False, title=title)\n",
    "    \n",
    "    \n"
   ]
  },
  {
   "cell_type": "code",
   "execution_count": null,
   "metadata": {},
   "outputs": [],
   "source": []
  },
  {
   "cell_type": "code",
   "execution_count": null,
   "metadata": {},
   "outputs": [],
   "source": []
  },
  {
   "cell_type": "code",
   "execution_count": null,
   "metadata": {},
   "outputs": [],
   "source": []
  },
  {
   "cell_type": "code",
   "execution_count": null,
   "metadata": {},
   "outputs": [],
   "source": []
  },
  {
   "cell_type": "code",
   "execution_count": null,
   "metadata": {},
   "outputs": [],
   "source": []
  }
 ],
 "metadata": {
  "kernelspec": {
   "display_name": "Python 3",
   "language": "python",
   "name": "python3"
  },
  "language_info": {
   "codemirror_mode": {
    "name": "ipython",
    "version": 3
   },
   "file_extension": ".py",
   "mimetype": "text/x-python",
   "name": "python",
   "nbconvert_exporter": "python",
   "pygments_lexer": "ipython3",
   "version": "3.6.5"
  }
 },
 "nbformat": 4,
 "nbformat_minor": 4
}
