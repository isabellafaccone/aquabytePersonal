{
 "cells": [
  {
   "cell_type": "code",
   "execution_count": null,
   "metadata": {},
   "outputs": [],
   "source": [
    "%load_ext autoreload\n",
    "%autoreload 2\n",
    "\n",
    "from research_lib.utils.data_access_utils import S3AccessUtils, RDSAccessUtils\n",
    "from weight_estimation.utils import get_left_right_keypoint_arrs, convert_to_world_point_arr, CameraMetadata\n",
    "from sift_matching import generate_point_correspondences\n",
    "from matplotlib import pyplot as plt\n",
    "import cv2\n",
    "import numpy as np\n"
   ]
  },
  {
   "cell_type": "code",
   "execution_count": null,
   "metadata": {},
   "outputs": [],
   "source": [
    "s3 = S3AccessUtils('/root/data')"
   ]
  },
  {
   "cell_type": "markdown",
   "metadata": {},
   "source": [
    "<h1> Load sample data </h1>"
   ]
  },
  {
   "cell_type": "code",
   "execution_count": null,
   "metadata": {},
   "outputs": [],
   "source": [
    "rds = RDSAccessUtils()\n",
    "query = \"\"\"\n",
    "    SELECT * \n",
    "    FROM \n",
    "        prod.biomass_computations\n",
    "    WHERE\n",
    "        pen_id = 88 AND\n",
    "        group_id = '88' AND\n",
    "        akpd_score = 0\n",
    "    LIMIT 20;\n",
    "\"\"\"\n",
    "\n",
    "df = rds.extract_from_database(query)"
   ]
  },
  {
   "cell_type": "code",
   "execution_count": null,
   "metadata": {},
   "outputs": [],
   "source": []
  },
  {
   "cell_type": "markdown",
   "metadata": {},
   "source": [
    "<h1> Generate sample 3D point cloud </h1>"
   ]
  },
  {
   "cell_type": "code",
   "execution_count": null,
   "metadata": {},
   "outputs": [],
   "source": []
  },
  {
   "cell_type": "code",
   "execution_count": null,
   "metadata": {},
   "outputs": [],
   "source": [
    "idx = 7\n",
    "row = df.iloc[idx]\n",
    "\n",
    "left_crop_url, right_crop_url, ann, camera_metadata = row.left_crop_url, row.right_crop_url, row.annotation, row.camera_metadata\n",
    "cm = CameraMetadata(\n",
    "    focal_length=camera_metadata['focalLength'],\n",
    "    focal_length_pixel=camera_metadata['focalLengthPixel'],\n",
    "    baseline_m=camera_metadata['baseline'],\n",
    "    pixel_count_width=camera_metadata['pixelCountWidth'],\n",
    "    pixel_count_height=camera_metadata['pixelCountHeight'],\n",
    "    image_sensor_width=camera_metadata['imageSensorWidth'],\n",
    "    image_sensor_height=camera_metadata['imageSensorHeight']\n",
    ")\n",
    "\n",
    "left_points_sift, right_points_sift, left_corner, right_corner = generate_point_correspondences(left_crop_url, right_crop_url, ann)\n",
    "X_left, X_right = get_left_right_keypoint_arrs(ann)\n",
    "# left_points = np.vstack([left_points_sift, X_left])\n",
    "# right_points = np.vstack([right_points_sift, X_right])\n",
    "left_points = left_points_sift\n",
    "right_points = right_points_sift\n",
    "\n",
    "point_cloud = convert_to_world_point_arr(left_points, right_points, cm)\n",
    "rgbd = np.array([left_points[:, 0] - left_corner[0], left_points[:, 1] - left_corner[1], point_cloud[:, 1]]).T\n"
   ]
  },
  {
   "cell_type": "code",
   "execution_count": null,
   "metadata": {},
   "outputs": [],
   "source": [
    "left_crop_f, _, _ = s3.download_from_url(left_crop_url)"
   ]
  },
  {
   "cell_type": "markdown",
   "metadata": {},
   "source": [
    "<h1> Scratch work </h1>"
   ]
  },
  {
   "cell_type": "code",
   "execution_count": null,
   "metadata": {},
   "outputs": [],
   "source": [
    "import matplotlib.pyplot as plt\n",
    "import matplotlib.tri as tri\n",
    "from scipy.spatial import Delaunay"
   ]
  },
  {
   "cell_type": "code",
   "execution_count": null,
   "metadata": {},
   "outputs": [],
   "source": [
    "fig1, ax1 = plt.subplots(figsize=(20, 10))\n",
    "\n",
    "points = rgbd #[np.random.choice(rgbd.shape[0], 100)]\n",
    "triang = tri.Triangulation(points[:, 0], points[:, 1])\n",
    "ax1.set_aspect('equal')\n",
    "tpc = ax1.tripcolor(triang, points[:, 2], shading='flat')\n",
    "fig1.colorbar(tpc)\n",
    "plt.imshow(cv2.imread(left_crop_f))\n",
    "plt.gca().set_aspect('equal', adjustable='box')\n",
    "ax1.set_title('tripcolor of Delaunay triangulation, flat shading')\n"
   ]
  },
  {
   "cell_type": "code",
   "execution_count": null,
   "metadata": {},
   "outputs": [],
   "source": []
  },
  {
   "cell_type": "code",
   "execution_count": null,
   "metadata": {},
   "outputs": [],
   "source": []
  },
  {
   "cell_type": "code",
   "execution_count": null,
   "metadata": {},
   "outputs": [],
   "source": [
    "s3 = S3AccessUtils('/root/data')\n",
    "left_crop_f, _, _ = s3.download_from_url(left_crop_url)"
   ]
  },
  {
   "cell_type": "code",
   "execution_count": null,
   "metadata": {},
   "outputs": [],
   "source": [
    "cv2.imread(left_crop_f).shape"
   ]
  },
  {
   "cell_type": "code",
   "execution_count": null,
   "metadata": {},
   "outputs": [],
   "source": [
    "plt.figure(figsize=(20, 10))\n",
    "plt.imshow(cv2.imread(left_crop_f))\n",
    "plt.show()"
   ]
  },
  {
   "cell_type": "code",
   "execution_count": null,
   "metadata": {},
   "outputs": [],
   "source": []
  },
  {
   "cell_type": "code",
   "execution_count": null,
   "metadata": {},
   "outputs": [],
   "source": []
  },
  {
   "cell_type": "code",
   "execution_count": null,
   "metadata": {},
   "outputs": [],
   "source": []
  },
  {
   "cell_type": "code",
   "execution_count": null,
   "metadata": {},
   "outputs": [],
   "source": []
  },
  {
   "cell_type": "code",
   "execution_count": null,
   "metadata": {},
   "outputs": [],
   "source": []
  },
  {
   "cell_type": "code",
   "execution_count": null,
   "metadata": {},
   "outputs": [],
   "source": []
  },
  {
   "cell_type": "code",
   "execution_count": null,
   "metadata": {},
   "outputs": [],
   "source": []
  },
  {
   "cell_type": "code",
   "execution_count": null,
   "metadata": {},
   "outputs": [],
   "source": []
  },
  {
   "cell_type": "code",
   "execution_count": null,
   "metadata": {},
   "outputs": [],
   "source": []
  },
  {
   "cell_type": "code",
   "execution_count": null,
   "metadata": {},
   "outputs": [],
   "source": []
  }
 ],
 "metadata": {
  "kernelspec": {
   "display_name": "Python 3",
   "language": "python",
   "name": "python3"
  },
  "language_info": {
   "codemirror_mode": {
    "name": "ipython",
    "version": 3
   },
   "file_extension": ".py",
   "mimetype": "text/x-python",
   "name": "python",
   "nbconvert_exporter": "python",
   "pygments_lexer": "ipython3",
   "version": "3.6.5"
  }
 },
 "nbformat": 4,
 "nbformat_minor": 4
}
