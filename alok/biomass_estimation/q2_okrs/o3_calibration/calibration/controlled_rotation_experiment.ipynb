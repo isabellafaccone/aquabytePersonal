{
 "cells": [
  {
   "cell_type": "code",
   "execution_count": null,
   "metadata": {},
   "outputs": [],
   "source": [
    "from collections import defaultdict\n",
    "import os\n",
    "from research_lib.utils.data_access_utils import S3AccessUtils, RDSAccessUtils\n",
    "from weight_estimation.weight_estimator import WeightEstimator, CameraMetadata\n",
    "from matplotlib import pyplot as plt\n",
    "import pandas as pd\n",
    "\n",
    "s3 = S3AccessUtils('/root/data')\n",
    "RDS = RDSAccessUtils()"
   ]
  },
  {
   "cell_type": "code",
   "execution_count": null,
   "metadata": {},
   "outputs": [],
   "source": []
  },
  {
   "cell_type": "markdown",
   "metadata": {},
   "source": [
    "<h1> Rectification Library </h1>"
   ]
  },
  {
   "cell_type": "code",
   "execution_count": null,
   "metadata": {},
   "outputs": [],
   "source": [
    "import json\n",
    "from typing import Dict\n",
    "import cv2\n",
    "import numpy as np\n",
    "\n",
    "\n",
    "IMAGE_WIDTH = 4096\n",
    "IMAGE_HEIGHT = 3000\n",
    "\n",
    "\n",
    "def get_camera_parameters(stereo_params: Dict, \n",
    "                          new_camera_parameters_1=None, \n",
    "                          new_camera_parameters_2=None, \n",
    "                          new_camera_intrinsics_1=None,\n",
    "                          new_camera_intrinsics_2=None,\n",
    "                          new_R=None, \n",
    "                          new_T=None,\n",
    "                          new_rd_1=None, \n",
    "                          new_rd_2=None,\n",
    "                          new_pp_1=None,\n",
    "                          new_pp_2=None) -> Dict:\n",
    "    \"\"\"Return individual camera parameters from JSON stereo parameters contents.\"\"\"\n",
    "\n",
    "    params = dict(stereo_params)\n",
    "    if new_camera_parameters_1:\n",
    "        params['CameraParameters1'] = new_camera_parameters_1\n",
    "    if new_camera_parameters_2:\n",
    "        params['CameraParameters2'] = new_camera_parameters_2\n",
    "    if new_camera_intrinsics_1:\n",
    "        params['CameraParameters1']['IntrinsicMatrix'] = new_camera_intrinsics_1\n",
    "    if new_camera_intrinsics_2:\n",
    "        params['CameraParameters2']['IntrinsicMatrix'] = new_camera_intrinsics_2\n",
    "    if new_R:\n",
    "        params['RotationOfCamera2'] = new_R\n",
    "    if new_T:\n",
    "        params['TranslationOfCamera2'] = new_T\n",
    "    if new_rd_1:\n",
    "        params['CameraParameters1']['RadialDistortion'] = new_rd_1\n",
    "    if new_rd_2:\n",
    "        params['CameraParameters2']['RadialDistortion'] = new_rd_2\n",
    "    if new_pp_1:\n",
    "        params['CameraParameters1']['PrincipalPoint'] = new_pp_1\n",
    "    if new_pp_2:\n",
    "        params['CameraParameters1']['PrincipalPoint'] = new_pp_2\n",
    "        \n",
    "    \n",
    "    camera_matrix_1 = np.array(params['CameraParameters1']['IntrinsicMatrix']).transpose()\n",
    "    camera_matrix_2 = np.array(params['CameraParameters2']['IntrinsicMatrix']).transpose()\n",
    "\n",
    "    dist_coeffs_1 = params['CameraParameters1']['RadialDistortion'][0:2] + \\\n",
    "                    params['CameraParameters1']['TangentialDistortion'] + \\\n",
    "                    [params['CameraParameters1']['RadialDistortion'][2]]\n",
    "    dist_coeffs_1 = np.array(dist_coeffs_1)\n",
    "\n",
    "    dist_coeffs_2 = params['CameraParameters2']['RadialDistortion'][0:2] + \\\n",
    "                    params['CameraParameters2']['TangentialDistortion'] + \\\n",
    "                    [params['CameraParameters2']['RadialDistortion'][2]]\n",
    "    dist_coeffs_2 = np.array(dist_coeffs_2)\n",
    "\n",
    "    R = np.array(params['RotationOfCamera2']).transpose()\n",
    "    T = np.array(params['TranslationOfCamera2']).transpose()\n",
    "\n",
    "    image_size = (IMAGE_WIDTH, IMAGE_HEIGHT)\n",
    "    (R1, R2, P1, P2, Q, leftROI, rightROI) = cv2.stereoRectify(camera_matrix_1, dist_coeffs_1,\n",
    "                                                               camera_matrix_2,\n",
    "                                                               dist_coeffs_2, image_size, R, T,\n",
    "                                                               None,\n",
    "                                                               None,\n",
    "                                                               None, None, None,\n",
    "                                                               cv2.CALIB_ZERO_DISPARITY, 0)\n",
    "    left_maps = cv2.initUndistortRectifyMap(camera_matrix_1, dist_coeffs_1, R1, P1, image_size,\n",
    "                                            cv2.CV_16SC2)\n",
    "    right_maps = cv2.initUndistortRectifyMap(camera_matrix_2, dist_coeffs_2, R2, P2, image_size,\n",
    "                                             cv2.CV_16SC2)\n",
    "\n",
    "    params = {\n",
    "        'left_maps': left_maps,\n",
    "        'right_maps': right_maps,\n",
    "        'camera_matrix_1': camera_matrix_1,\n",
    "        'dist_coeffs_1': dist_coeffs_1,\n",
    "        'R1': R1,\n",
    "        'P1': P1,\n",
    "        'camera_matrix_2': camera_matrix_2,\n",
    "        'dist_coeffs_2': dist_coeffs_2,\n",
    "        'R2': R2,\n",
    "        'P2': P2\n",
    "    }\n",
    "    return params\n",
    "\n",
    "\n",
    "def unrectify(ann: Dict, params: Dict):\n",
    "    \"\"\"Un-rectify ann with params.\"\"\"\n",
    "\n",
    "    left_maps = params['left_maps']\n",
    "    right_maps = params['right_maps']\n",
    "\n",
    "    ann_u = {'leftCrop': [], 'rightCrop': []}\n",
    "    for side in ['leftCrop', 'rightCrop']:\n",
    "        for item in ann[side]:\n",
    "            bp = item['keypointType']\n",
    "            x = item['xFrame']\n",
    "            y = item['yFrame']\n",
    "            if side == 'leftCrop':\n",
    "                y_new, x_new = left_maps[0][y, x]\n",
    "            elif side == 'rightCrop':\n",
    "                y_new, x_new = right_maps[0][y, x]\n",
    "            else:\n",
    "                raise Exception('Invalid side!')\n",
    "\n",
    "            ann_u[side].append({\n",
    "                'keypointType': bp,\n",
    "                'xFrame': x_new,\n",
    "                'yFrame': y_new,\n",
    "            })\n",
    "\n",
    "    return ann_u\n",
    "\n",
    "\n",
    "def rectify(ann: Dict, params: Dict) -> Dict:\n",
    "    \"\"\"Rectify ann with params.\"\"\"\n",
    "\n",
    "    camera_matrix_1 = params['camera_matrix_1']\n",
    "    dist_coeffs_1 = params['dist_coeffs_1']\n",
    "    R1 = params['R1']\n",
    "    P1 = params['P1']\n",
    "\n",
    "    camera_matrix_2 = params['camera_matrix_2']\n",
    "    dist_coeffs_2 = params['dist_coeffs_2']\n",
    "    R2 = params['R2']\n",
    "    P2 = params['P2']\n",
    "\n",
    "    ann_r = {'leftCrop': [], 'rightCrop': []}\n",
    "    for side in ['leftCrop', 'rightCrop']:\n",
    "        for item in ann[side]:\n",
    "            bp = item['keypointType']\n",
    "            x = item['xFrame']\n",
    "            y = item['yFrame']\n",
    "            if side == 'leftCrop':\n",
    "                x_new, y_new = \\\n",
    "                    cv2.undistortPoints(\n",
    "                        np.array([[y, x]]).astype(float),\n",
    "                        camera_matrix_1,\n",
    "                        dist_coeffs_1,\n",
    "                        R=R1,\n",
    "                        P=P1)[0][0]\n",
    "            elif side == 'rightCrop':\n",
    "                x_new, y_new = \\\n",
    "                    cv2.undistortPoints(\n",
    "                        np.array([[y, x]]).astype(float),\n",
    "                        camera_matrix_2,\n",
    "                        dist_coeffs_2,\n",
    "                        R=R2,\n",
    "                        P=P2)[0][0]\n",
    "            else:\n",
    "                raise Exception('Invalid side!')\n",
    "\n",
    "            ann_r[side].append({\n",
    "                'keypointType': bp,\n",
    "                'xFrame': x_new,\n",
    "                'yFrame': y_new,\n",
    "            })\n",
    "\n",
    "    return ann_r\n",
    "\n",
    "\n",
    "def un_re_rectify(df, params_o, params_n):\n",
    "\n",
    "    ann_u_rs = []\n",
    "    for idx, row in df.iterrows():\n",
    "        ann = row.annotation\n",
    "        if ann is None:\n",
    "            ann_u_rs.append(None)\n",
    "            continue\n",
    "\n",
    "        # un-rectify with original params\n",
    "        ann_u = unrectify(ann, params_o)\n",
    "        if ann_u:\n",
    "\n",
    "            # re-rectify with new params\n",
    "            ann_u_r = rectify(ann_u, params_n)\n",
    "            ann_u_rs.append(ann_u_r)\n",
    "        else:\n",
    "            ann_u_rs.append(None)\n",
    "\n",
    "    df['ann_u_r'] = ann_u_rs"
   ]
  },
  {
   "cell_type": "code",
   "execution_count": null,
   "metadata": {},
   "outputs": [],
   "source": []
  },
  {
   "cell_type": "code",
   "execution_count": null,
   "metadata": {},
   "outputs": [],
   "source": [
    "def get_camera_metadata(stereo_params, new_focal_length=None, new_translation_of_camera_2=None):\n",
    "    stereo_parameters = dict(stereo_params)\n",
    "    if new_focal_length:\n",
    "        stereo_parameters['CameraParameters1']['FocalLength'] = new_focal_length\n",
    "    if new_translation_of_camera_2:\n",
    "        stereo_parameters['TranslationOfCamera2'] = new_translation_of_camera_2\n",
    "    \n",
    "    camera_metadata = {\n",
    "        'focalLengthPixel': stereo_parameters['CameraParameters1']['FocalLength'][0],\n",
    "        'baseline': abs(stereo_parameters['TranslationOfCamera2'][0] / 1e3),\n",
    "        'focalLength': stereo_parameters['CameraParameters1']['FocalLength'][0] * 3.45e-6,\n",
    "        'pixelCountWidth': 4096,\n",
    "        'pixelCountHeight': 3000,\n",
    "        'imageSensorWidth': 0.01412,\n",
    "        'imageSensorHeight': 0.01035\n",
    "    }\n",
    "    \n",
    "    return camera_metadata\n",
    "\n",
    "\n",
    "def add_weights_u_r(df, camera_metadata):\n",
    "    \n",
    "    weight_model_f, _, _ = s3.download_from_url('https://aquabyte-models.s3-us-west-1.amazonaws.com/biomass/trained_models/2020-11-27T00-00-00/weight_model_synthetic_data.pb')\n",
    "    kf_model_f, _, _ = s3.download_from_url('https://aquabyte-models.s3-us-west-1.amazonaws.com/k-factor/trained_models/2020-08-08T000000/kf_predictor_v2.pb')\n",
    "    weight_estimator = WeightEstimator(weight_model_f, kf_model_f)\n",
    "\n",
    "    pred_weights = []\n",
    "    for idx, row in df.iterrows():\n",
    "        ann = row.ann_u_r\n",
    "        if ann is not None:\n",
    "            cm = CameraMetadata(\n",
    "                focal_length=camera_metadata['focalLength'],\n",
    "                focal_length_pixel=camera_metadata['focalLengthPixel'],\n",
    "                baseline_m=camera_metadata['baseline'],\n",
    "                pixel_count_width=camera_metadata['pixelCountWidth'],\n",
    "                pixel_count_height=camera_metadata['pixelCountHeight'],\n",
    "                image_sensor_width=camera_metadata['imageSensorWidth'],\n",
    "                image_sensor_height=camera_metadata['imageSensorHeight']\n",
    "            )\n",
    "\n",
    "            weight, _, _ = weight_estimator.predict(ann, cm)\n",
    "            pred_weights.append(weight)\n",
    "        else:\n",
    "            pred_weights.append(None)\n",
    "    \n",
    "    df['weight_u_r'] = pred_weights"
   ]
  },
  {
   "cell_type": "code",
   "execution_count": null,
   "metadata": {},
   "outputs": [],
   "source": []
  },
  {
   "cell_type": "code",
   "execution_count": null,
   "metadata": {},
   "outputs": [],
   "source": []
  },
  {
   "cell_type": "markdown",
   "metadata": {},
   "source": [
    "<h1> Load dataset </h1>"
   ]
  },
  {
   "cell_type": "code",
   "execution_count": null,
   "metadata": {},
   "outputs": [],
   "source": [
    "def extract_biomass_data(pen_id, start_date, end_date, akpd_score_cutoff):\n",
    "    \"\"\"Get raw biomass computations for given pen_id, date range, and AKPD score cutoff.\"\"\"\n",
    "\n",
    "    query = \"\"\"\n",
    "        SELECT * FROM\n",
    "        prod.biomass_computations bc\n",
    "        WHERE bc.pen_id={}\n",
    "        AND bc.akpd_score >= {}\n",
    "        AND bc.captured_at BETWEEN '{}' and '{}'\n",
    "        AND bc.estimated_weight_g > 0.0\n",
    "    \"\"\".format(pen_id, akpd_score_cutoff, start_date, end_date)\n",
    "\n",
    "    df = RDS.extract_from_database(query)\n",
    "    return df"
   ]
  },
  {
   "cell_type": "code",
   "execution_count": null,
   "metadata": {},
   "outputs": [],
   "source": [
    "pen_id = 145\n",
    "start_date = '2021-02-01'\n",
    "end_date = '2021-02-05'\n",
    "akpd_score_cutoff = 0.95\n",
    "df = extract_biomass_data(pen_id, start_date, end_date, akpd_score_cutoff)"
   ]
  },
  {
   "cell_type": "code",
   "execution_count": null,
   "metadata": {},
   "outputs": [],
   "source": []
  },
  {
   "cell_type": "markdown",
   "metadata": {},
   "source": [
    "<h1> Un- and Re-rectify key-points </h1>"
   ]
  },
  {
   "cell_type": "code",
   "execution_count": null,
   "metadata": {},
   "outputs": [],
   "source": [
    "stereo_params_o['CameraParameters2']"
   ]
  },
  {
   "cell_type": "code",
   "execution_count": null,
   "metadata": {},
   "outputs": [],
   "source": [
    "stereo_params_n['CameraParameters2']"
   ]
  },
  {
   "cell_type": "code",
   "execution_count": null,
   "metadata": {},
   "outputs": [],
   "source": []
  },
  {
   "cell_type": "code",
   "execution_count": null,
   "metadata": {},
   "outputs": [],
   "source": [
    "stereo_params_o['CameraParameters1']"
   ]
  },
  {
   "cell_type": "code",
   "execution_count": null,
   "metadata": {},
   "outputs": [],
   "source": [
    "stereo_params_n['CameraParameters1']"
   ]
  },
  {
   "cell_type": "code",
   "execution_count": null,
   "metadata": {},
   "outputs": [],
   "source": []
  },
  {
   "cell_type": "code",
   "execution_count": null,
   "metadata": {},
   "outputs": [],
   "source": []
  },
  {
   "cell_type": "code",
   "execution_count": null,
   "metadata": {},
   "outputs": [],
   "source": [
    "def construct_new_stereo_parameters(stereo_parameters_o, stereo_parameters_n, \n",
    "                                    change_PP_1=False, change_PP_2=False, \n",
    "                                    change_focal_length_1=False, change_focal_length_2=False,\n",
    "                                    change_rd_1=False, change_rd_2=False, \n",
    "                                    change_R=False, change_T=False):\n",
    "    \n",
    "    stereo_parameters_new = dict(stereo_parameters_o)\n",
    "    \n",
    "    if change_PP_1:\n",
    "        stereo_parameters_new['CameraParameters1']['PrincipalPoint'] = \\\n",
    "            stereo_parameters_n['CameraParameters1']['PrincipalPoint']\n",
    "        stereo_parameters_new['CameraParameters1']['IntrinsicMatrix'][2][:2] = \\\n",
    "            stereo_parameters_n['CameraParameters1']['PrincipalPoint']\n",
    "    if change_PP_2:\n",
    "        stereo_parameters_new['CameraParameters2']['PrincipalPoint'] = \\\n",
    "            stereo_parameters_n['CameraParameters2']['PrincipalPoint']\n",
    "        stereo_parameters_new['CameraParameters2']['IntrinsicMatrix'][2][:2] = \\\n",
    "            stereo_parameters_n['CameraParameters2']['PrincipalPoint']\n",
    "    if change_focal_length_1:\n",
    "        stereo_parameters_new['CameraParameters1']['FocalLength'] = \\\n",
    "            stereo_parameters_n['CameraParameters1']['FocalLength']\n",
    "        stereo_parameters_new['CameraParameters1']['IntrinsicMatrix'][0][0] = \\\n",
    "            stereo_parameters_n['CameraParameters1']['FocalLength'][0]\n",
    "        stereo_parameters_new['CameraParameters1']['IntrinsicMatrix'][1][1] = \\\n",
    "            stereo_parameters_n['CameraParameters1']['FocalLength'][1]\n",
    "    if change_focal_length_2:\n",
    "        stereo_parameters_new['CameraParameters2']['FocalLength'] = \\\n",
    "            stereo_parameters_n['CameraParameters2']['FocalLength']\n",
    "        stereo_parameters_new['CameraParameters2']['IntrinsicMatrix'][0][0] = \\\n",
    "            stereo_parameters_n['CameraParameters2']['FocalLength'][0]\n",
    "        stereo_parameters_new['CameraParameters2']['IntrinsicMatrix'][1][1] = \\\n",
    "            stereo_parameters_n['CameraParameters2']['FocalLength'][1]\n",
    "    if change_rd_1:\n",
    "        stereo_parameters_new['CameraParameters1']['RadialDistortion'] = \\\n",
    "            stereo_parameters_n['CameraParameters1']['RadialDistortion']\n",
    "    if change_rd_2:\n",
    "        stereo_parameters_new['CameraParameters2']['RadialDistortion'] = \\\n",
    "            stereo_parameters_n['CameraParameters2']['RadialDistortion']\n",
    "    if change_R:\n",
    "        stereo_parameters_new['RotationOfCamera2'] = stereo_parameters_n['RotationOfCamera2']\n",
    "    if change_T:\n",
    "        stereo_parameters_new['TranslationOfCamera2'] = stereo_parameters_n['TranslationOfCamera2']\n",
    "        \n",
    "    return stereo_parameters_new"
   ]
  },
  {
   "cell_type": "code",
   "execution_count": null,
   "metadata": {},
   "outputs": [],
   "source": [
    "# stereo_parameters_o_s3_url = 's3://aquabyte-stereo-parameters/L40076048_R40076044/2021-01-07T12:17:15.547471000Z_L40076048_R40076044_stereo-parameters.json'\n",
    "stereo_parameters_o_s3_url = 's3://aquabyte-stereo-parameters/L40029797_R40020184/2020-10-05T22:39:45.664664000Z_L40029797_R40020184_stereo-parameters.json'\n",
    "stereo_parameters_o_components = stereo_parameters_o_s3_url.replace('s3://', '').split('/')\n",
    "bucket = stereo_parameters_o_components[0]\n",
    "key = os.path.join(*stereo_parameters_o_components[1:])\n",
    "stereo_parameters_o_f = s3.download_from_s3(bucket, key)\n",
    "\n",
    "# stereo_parameters_n_s3_url = 's3://aquabyte-stereo-parameters/L40076048_R40076044/2021-03-10T14:15:41.082425000Z_L40076048_R40076044_stereo-parameters.json'\n",
    "stereo_parameters_n_s3_url = 's3://aquabyte-stereo-parameters/L40029797_R40020184/2021-02-25T11:30:42.149694000Z_L40029797_R40020184_stereo-parameters.json'\n",
    "stereo_parameters_n_components = stereo_parameters_n_s3_url.replace('s3://', '').split('/')\n",
    "bucket = stereo_parameters_n_components[0]\n",
    "key = os.path.join(*stereo_parameters_n_components[1:])\n",
    "stereo_parameters_n_f = s3.download_from_s3(bucket, key)\n",
    "stereo_params_o = json.load(open(stereo_parameters_o_f))\n",
    "stereo_params_new = json.load(open(stereo_parameters_n_f))"
   ]
  },
  {
   "cell_type": "code",
   "execution_count": null,
   "metadata": {},
   "outputs": [],
   "source": []
  },
  {
   "cell_type": "code",
   "execution_count": null,
   "metadata": {},
   "outputs": [],
   "source": [
    "params_o = get_camera_parameters(stereo_params_o)\n",
    "# params_n = get_camera_parameters(stereo_params_n)\n",
    "params_n = get_camera_parameters(stereo_params_o, \n",
    "                                 new_camera_parameters_1=stereo_params_n['CameraParameters1'],\n",
    "                                 new_camera_parameters_2=stereo_params_n['CameraParameters2'])\n",
    "\n",
    "un_re_rectify(df, params_o, params_n)\n",
    "cm = get_camera_metadata(stereo_params_o, new_focal_length=stereo_params_n['CameraParameters2']['FocalLength'])\n",
    "add_weights_u_r(df, cm)\n",
    "print(((df.weight_u_r - df.estimated_weight_g) / df.estimated_weight_g).mean())\n"
   ]
  },
  {
   "cell_type": "code",
   "execution_count": null,
   "metadata": {},
   "outputs": [],
   "source": [
    "[False]"
   ]
  },
  {
   "cell_type": "code",
   "execution_count": null,
   "metadata": {},
   "outputs": [],
   "source": [
    "analysis_data = defaultdict(list)\n",
    "parameter_names = ['PP_1', 'PP_2', 'F1', 'F2', 'RD1', 'RD2', 'R', 'T']\n",
    "\n",
    "for idx in range(8):\n",
    "    bool_array = [False] * 8\n",
    "    bool_array[idx] = True\n",
    "\n",
    "#     stereo_parameters_o_s3_url = 's3://aquabyte-stereo-parameters/L40076048_R40076044/2021-01-07T12:17:15.547471000Z_L40076048_R40076044_stereo-parameters.json'\n",
    "    stereo_parameters_o_s3_url = 's3://aquabyte-stereo-parameters/L40029797_R40020184/2020-10-05T22:39:45.664664000Z_L40029797_R40020184_stereo-parameters.json'\n",
    "    stereo_parameters_o_components = stereo_parameters_o_s3_url.replace('s3://', '').split('/')\n",
    "    bucket = stereo_parameters_o_components[0]\n",
    "    key = os.path.join(*stereo_parameters_o_components[1:])\n",
    "    stereo_parameters_o_f = s3.download_from_s3(bucket, key)\n",
    "\n",
    "#     stereo_parameters_n_s3_url = 's3://aquabyte-stereo-parameters/L40076048_R40076044/2021-03-10T14:15:41.082425000Z_L40076048_R40076044_stereo-parameters.json'\n",
    "    stereo_parameters_n_s3_url = 's3://aquabyte-stereo-parameters/L40029797_R40020184/2021-02-25T11:30:42.149694000Z_L40029797_R40020184_stereo-parameters.json'\n",
    "    stereo_parameters_n_components = stereo_parameters_n_s3_url.replace('s3://', '').split('/')\n",
    "    bucket = stereo_parameters_n_components[0]\n",
    "    key = os.path.join(*stereo_parameters_n_components[1:])\n",
    "    stereo_parameters_n_f = s3.download_from_s3(bucket, key)\n",
    "    stereo_params_o = json.load(open(stereo_parameters_o_f))\n",
    "    stereo_params_new = json.load(open(stereo_parameters_n_f))\n",
    "\n",
    "    params_o = get_camera_parameters(stereo_params_o)\n",
    "#     stereo_params_n = construct_new_stereo_parameters(stereo_params_o, \n",
    "#                                                       stereo_params_new, \n",
    "#                                                       change_PP_1=bool_array[0],\n",
    "#                                                       change_PP_2=bool_array[1],\n",
    "#                                                       change_focal_length_1=bool_array[2],\n",
    "#                                                       change_focal_length_2=bool_array[3],\n",
    "#                                                       change_rd_1=bool_array[4],\n",
    "#                                                       change_rd_2=bool_array[5],\n",
    "#                                                       change_R=bool_array[6],\n",
    "#                                                       change_T=bool_array[7]\n",
    "#                                                       )\n",
    "    stereo_params_n = construct_new_stereo_parameters(stereo_params_o, \n",
    "                                                      stereo_params_new, \n",
    "                                                      change_PP_1=True,\n",
    "                                                      change_PP_2=True,\n",
    "                                                      change_focal_length_1=True,\n",
    "                                                      change_focal_length_2=True,\n",
    "                                                      change_rd_1=True,\n",
    "                                                      change_rd_2=True,\n",
    "                                                      change_R=True,\n",
    "                                                      change_T=True\n",
    "                                                      )\n",
    "\n",
    "    params_n = get_camera_parameters(stereo_params_n)\n",
    "    un_re_rectify(df, params_o, params_n)\n",
    "    cm = get_camera_metadata(stereo_params_n)\n",
    "    add_weights_u_r(df, cm)\n",
    "    \n",
    "    analysis_data['name'].append(parameter_names[idx])\n",
    "    analysis_data['s1_value'].append(df.estimated_weight_g.mean())\n",
    "    analysis_data['s1_prime_value'].append(df.weight_u_r.mean())\n",
    "    analysis_data['pct_diff'].append(((df.weight_u_r - df.estimated_weight_g) / df.estimated_weight_g).mean())\n",
    "\n",
    "    break"
   ]
  },
  {
   "cell_type": "code",
   "execution_count": null,
   "metadata": {},
   "outputs": [],
   "source": [
    "analysis_df = pd.DataFrame(analysis_data)"
   ]
  },
  {
   "cell_type": "code",
   "execution_count": null,
   "metadata": {},
   "outputs": [],
   "source": [
    "analysis_df.pct_diff.sum()"
   ]
  },
  {
   "cell_type": "code",
   "execution_count": null,
   "metadata": {},
   "outputs": [],
   "source": [
    "analysis_df\n"
   ]
  },
  {
   "cell_type": "code",
   "execution_count": null,
   "metadata": {},
   "outputs": [],
   "source": [
    "analysis_df\n"
   ]
  },
  {
   "cell_type": "code",
   "execution_count": null,
   "metadata": {},
   "outputs": [],
   "source": [
    "stereo_params_o['CameraParameters1']['PrincipalPoint']"
   ]
  },
  {
   "cell_type": "code",
   "execution_count": null,
   "metadata": {},
   "outputs": [],
   "source": [
    "stereo_params_new['CameraParameters1']['PrincipalPoint']"
   ]
  },
  {
   "cell_type": "code",
   "execution_count": null,
   "metadata": {},
   "outputs": [],
   "source": [
    "stereo_params_o['CameraParameters2']['PrincipalPoint']"
   ]
  },
  {
   "cell_type": "code",
   "execution_count": null,
   "metadata": {},
   "outputs": [],
   "source": [
    "stereo_params_new['CameraParameters2']['PrincipalPoint']"
   ]
  },
  {
   "cell_type": "code",
   "execution_count": null,
   "metadata": {},
   "outputs": [],
   "source": [
    "stereo_params_o['CameraParameters1']['FocalLength']"
   ]
  },
  {
   "cell_type": "code",
   "execution_count": null,
   "metadata": {},
   "outputs": [],
   "source": [
    "stereo_params_new['CameraParameters1']['FocalLength']"
   ]
  },
  {
   "cell_type": "code",
   "execution_count": null,
   "metadata": {},
   "outputs": [],
   "source": [
    "stereo_params_o['CameraParameters2']['FocalLength']"
   ]
  },
  {
   "cell_type": "code",
   "execution_count": null,
   "metadata": {},
   "outputs": [],
   "source": [
    "stereo_params_new['CameraParameters2']['FocalLength']"
   ]
  },
  {
   "cell_type": "code",
   "execution_count": null,
   "metadata": {},
   "outputs": [],
   "source": [
    "stereo_params_o['CameraParameters1']['RadialDistortion']"
   ]
  },
  {
   "cell_type": "code",
   "execution_count": null,
   "metadata": {},
   "outputs": [],
   "source": [
    "stereo_params_new['CameraParameters1']['RadialDistortion']"
   ]
  },
  {
   "cell_type": "code",
   "execution_count": null,
   "metadata": {},
   "outputs": [],
   "source": [
    "stereo_params_o['CameraParameters2']['RadialDistortion']"
   ]
  },
  {
   "cell_type": "code",
   "execution_count": null,
   "metadata": {},
   "outputs": [],
   "source": [
    "stereo_params_new['CameraParameters2']['RadialDistortion']"
   ]
  },
  {
   "cell_type": "code",
   "execution_count": null,
   "metadata": {},
   "outputs": [],
   "source": [
    "stereo_params_o['RotationOfCamera2']"
   ]
  },
  {
   "cell_type": "code",
   "execution_count": null,
   "metadata": {},
   "outputs": [],
   "source": [
    "stereo_params_new['RotationOfCamera2']"
   ]
  },
  {
   "cell_type": "code",
   "execution_count": null,
   "metadata": {},
   "outputs": [],
   "source": [
    "stereo_params_o['TranslationOfCamera2']"
   ]
  },
  {
   "cell_type": "code",
   "execution_count": null,
   "metadata": {},
   "outputs": [],
   "source": [
    "stereo_params_new['TranslationOfCamera2']"
   ]
  },
  {
   "cell_type": "code",
   "execution_count": null,
   "metadata": {},
   "outputs": [],
   "source": []
  },
  {
   "cell_type": "code",
   "execution_count": null,
   "metadata": {},
   "outputs": [],
   "source": [
    "((df.weight_u_r - df.estimated_weight_g) / df.estimated_weight_g).mean()"
   ]
  },
  {
   "cell_type": "code",
   "execution_count": null,
   "metadata": {},
   "outputs": [],
   "source": []
  },
  {
   "cell_type": "code",
   "execution_count": null,
   "metadata": {},
   "outputs": [],
   "source": [
    "((df.weight_u_r - df.estimated_weight_g) / df.estimated_weight_g).mean()"
   ]
  },
  {
   "cell_type": "code",
   "execution_count": null,
   "metadata": {},
   "outputs": [],
   "source": []
  },
  {
   "cell_type": "code",
   "execution_count": null,
   "metadata": {},
   "outputs": [],
   "source": []
  },
  {
   "cell_type": "code",
   "execution_count": null,
   "metadata": {},
   "outputs": [],
   "source": []
  },
  {
   "cell_type": "code",
   "execution_count": null,
   "metadata": {},
   "outputs": [],
   "source": [
    "((df.weight_u_r - df.estimated_weight_g) / df.estimated_weight_g).mean()"
   ]
  },
  {
   "cell_type": "code",
   "execution_count": null,
   "metadata": {},
   "outputs": [],
   "source": [
    "((df.weight_u_r - df.estimated_weight_g) / df.estimated_weight_g).mean()"
   ]
  },
  {
   "cell_type": "code",
   "execution_count": null,
   "metadata": {},
   "outputs": [],
   "source": [
    "((df.weight_u_r - df.estimated_weight_g) / df.estimated_weight_g).mean()"
   ]
  },
  {
   "cell_type": "code",
   "execution_count": null,
   "metadata": {},
   "outputs": [],
   "source": []
  },
  {
   "cell_type": "code",
   "execution_count": null,
   "metadata": {},
   "outputs": [],
   "source": []
  },
  {
   "cell_type": "code",
   "execution_count": null,
   "metadata": {},
   "outputs": [],
   "source": [
    "((df.weight_u_r - df.estimated_weight_g) / df.estimated_weight_g).mean()"
   ]
  },
  {
   "cell_type": "code",
   "execution_count": null,
   "metadata": {},
   "outputs": [],
   "source": []
  },
  {
   "cell_type": "code",
   "execution_count": null,
   "metadata": {},
   "outputs": [],
   "source": [
    "((df.weight_u_r - df.estimated_weight_g) / df.estimated_weight_g).mean()"
   ]
  },
  {
   "cell_type": "code",
   "execution_count": null,
   "metadata": {},
   "outputs": [],
   "source": [
    "((df.weight_u_r - df.estimated_weight_g) / df.estimated_weight_g).mean()"
   ]
  },
  {
   "cell_type": "code",
   "execution_count": null,
   "metadata": {},
   "outputs": [],
   "source": [
    "((df.weight_u_r - df.estimated_weight_g) / df.estimated_weight_g).mean()"
   ]
  },
  {
   "cell_type": "code",
   "execution_count": null,
   "metadata": {},
   "outputs": [],
   "source": []
  },
  {
   "cell_type": "code",
   "execution_count": null,
   "metadata": {},
   "outputs": [],
   "source": []
  },
  {
   "cell_type": "code",
   "execution_count": null,
   "metadata": {},
   "outputs": [],
   "source": []
  },
  {
   "cell_type": "code",
   "execution_count": null,
   "metadata": {},
   "outputs": [],
   "source": []
  },
  {
   "cell_type": "code",
   "execution_count": null,
   "metadata": {},
   "outputs": [],
   "source": []
  },
  {
   "cell_type": "code",
   "execution_count": null,
   "metadata": {},
   "outputs": [],
   "source": []
  },
  {
   "cell_type": "code",
   "execution_count": null,
   "metadata": {},
   "outputs": [],
   "source": []
  },
  {
   "cell_type": "code",
   "execution_count": null,
   "metadata": {},
   "outputs": [],
   "source": []
  },
  {
   "cell_type": "code",
   "execution_count": null,
   "metadata": {},
   "outputs": [],
   "source": []
  },
  {
   "cell_type": "code",
   "execution_count": null,
   "metadata": {},
   "outputs": [],
   "source": []
  }
 ],
 "metadata": {
  "kernelspec": {
   "display_name": "Python 3",
   "language": "python",
   "name": "python3"
  },
  "language_info": {
   "codemirror_mode": {
    "name": "ipython",
    "version": 3
   },
   "file_extension": ".py",
   "mimetype": "text/x-python",
   "name": "python",
   "nbconvert_exporter": "python",
   "pygments_lexer": "ipython3",
   "version": "3.6.5"
  }
 },
 "nbformat": 4,
 "nbformat_minor": 2
}
