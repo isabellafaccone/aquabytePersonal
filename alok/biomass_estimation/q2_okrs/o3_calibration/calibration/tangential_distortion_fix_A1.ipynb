{
 "cells": [
  {
   "cell_type": "code",
   "execution_count": null,
   "metadata": {},
   "outputs": [],
   "source": [
    "import os\n",
    "from research_lib.utils.data_access_utils import S3AccessUtils, RDSAccessUtils\n",
    "from weight_estimation.weight_estimator import WeightEstimator, CameraMetadata\n",
    "from matplotlib import pyplot as plt\n",
    "\n",
    "s3 = S3AccessUtils('/root/data')\n",
    "RDS = RDSAccessUtils()"
   ]
  },
  {
   "cell_type": "code",
   "execution_count": null,
   "metadata": {},
   "outputs": [],
   "source": []
  },
  {
   "cell_type": "markdown",
   "metadata": {},
   "source": [
    "<h1> Rectification Library </h1>"
   ]
  },
  {
   "cell_type": "code",
   "execution_count": null,
   "metadata": {},
   "outputs": [],
   "source": [
    "import json\n",
    "from typing import Dict\n",
    "import cv2\n",
    "import numpy as np\n",
    "\n",
    "IMAGE_WIDTH = 4096\n",
    "IMAGE_HEIGHT = 3000\n",
    "\n",
    "\n",
    "def get_camera_parameters(params: Dict) -> Dict:\n",
    "    \"\"\"Return individual camera parameters from JSON stereo parameters contents.\"\"\"\n",
    "\n",
    "    camera_matrix_1 = np.array(params['CameraParameters1']['IntrinsicMatrix']).transpose()\n",
    "    camera_matrix_2 = np.array(params['CameraParameters2']['IntrinsicMatrix']).transpose()\n",
    "\n",
    "    dist_coeffs_1 = params['CameraParameters1']['RadialDistortion'][0:2] + \\\n",
    "                    params['CameraParameters1']['TangentialDistortion'] + \\\n",
    "                    [params['CameraParameters1']['RadialDistortion'][2]]\n",
    "    dist_coeffs_1 = np.array(dist_coeffs_1)\n",
    "\n",
    "    dist_coeffs_2 = params['CameraParameters2']['RadialDistortion'][0:2] + \\\n",
    "                    params['CameraParameters2']['TangentialDistortion'] + \\\n",
    "                    [params['CameraParameters2']['RadialDistortion'][2]]\n",
    "    dist_coeffs_2 = np.array(dist_coeffs_2)\n",
    "\n",
    "    R = np.array(params['RotationOfCamera2']).transpose()\n",
    "    T = np.array(params['TranslationOfCamera2']).transpose()\n",
    "\n",
    "    image_size = (IMAGE_WIDTH, IMAGE_HEIGHT)\n",
    "    (R1, R2, P1, P2, Q, leftROI, rightROI) = cv2.stereoRectify(camera_matrix_1, dist_coeffs_1,\n",
    "                                                               camera_matrix_2,\n",
    "                                                               dist_coeffs_2, image_size, R, T,\n",
    "                                                               None,\n",
    "                                                               None,\n",
    "                                                               None, None, None,\n",
    "                                                               cv2.CALIB_ZERO_DISPARITY, 0)\n",
    "    left_maps = cv2.initUndistortRectifyMap(camera_matrix_1, dist_coeffs_1, R1, P1, image_size,\n",
    "                                            cv2.CV_16SC2)\n",
    "    right_maps = cv2.initUndistortRectifyMap(camera_matrix_2, dist_coeffs_2, R2, P2, image_size,\n",
    "                                             cv2.CV_16SC2)\n",
    "\n",
    "    params = {\n",
    "        'left_maps': left_maps,\n",
    "        'right_maps': right_maps,\n",
    "        'camera_matrix_1': camera_matrix_1,\n",
    "        'dist_coeffs_1': dist_coeffs_1,\n",
    "        'R1': R1,\n",
    "        'P1': P1,\n",
    "        'camera_matrix_2': camera_matrix_2,\n",
    "        'dist_coeffs_2': dist_coeffs_2,\n",
    "        'R2': R2,\n",
    "        'P2': P2\n",
    "    }\n",
    "    return params\n",
    "\n",
    "\n",
    "def unrectify(ann: Dict, params: Dict):\n",
    "    \"\"\"Un-rectify ann with params.\"\"\"\n",
    "\n",
    "    left_maps = params['left_maps']\n",
    "    right_maps = params['right_maps']\n",
    "\n",
    "    ann_u = {'leftCrop': [], 'rightCrop': []}\n",
    "    for side in ['leftCrop', 'rightCrop']:\n",
    "        for item in ann[side]:\n",
    "            bp = item['keypointType']\n",
    "            x = item['xFrame']\n",
    "            y = item['yFrame']\n",
    "            if side == 'leftCrop':\n",
    "                x_new, y_new = left_maps[0][y, x]\n",
    "            elif side == 'rightCrop':\n",
    "                x_new, y_new = right_maps[0][y, x]\n",
    "            else:\n",
    "                raise Exception('Invalid side!')\n",
    "\n",
    "            ann_u[side].append({\n",
    "                'keypointType': bp,\n",
    "                'xFrame': x_new,\n",
    "                'yFrame': y_new,\n",
    "            })\n",
    "\n",
    "    return ann_u\n",
    "\n",
    "\n",
    "def rectify(ann: Dict, params: Dict) -> Dict:\n",
    "    \"\"\"Rectify ann with params.\"\"\"\n",
    "\n",
    "    camera_matrix_1 = params['camera_matrix_1']\n",
    "    dist_coeffs_1 = params['dist_coeffs_1']\n",
    "    R1 = params['R1']\n",
    "    P1 = params['P1']\n",
    "\n",
    "    camera_matrix_2 = params['camera_matrix_2']\n",
    "    dist_coeffs_2 = params['dist_coeffs_2']\n",
    "    R2 = params['R2']\n",
    "    P2 = params['P2']\n",
    "\n",
    "    ann_r = {'leftCrop': [], 'rightCrop': []}\n",
    "    for side in ['leftCrop', 'rightCrop']:\n",
    "        for item in ann[side]:\n",
    "            bp = item['keypointType']\n",
    "            x = item['xFrame']\n",
    "            y = item['yFrame']\n",
    "            if side == 'leftCrop':\n",
    "                x_new, y_new = \\\n",
    "                    cv2.undistortPoints(\n",
    "                        np.array([[x, y]]).astype(float),\n",
    "                        camera_matrix_1,\n",
    "                        dist_coeffs_1,\n",
    "                        R=R1,\n",
    "                        P=P1)[0][0]\n",
    "            elif side == 'rightCrop':\n",
    "                x_new, y_new = \\\n",
    "                    cv2.undistortPoints(\n",
    "                        np.array([[x, y]]).astype(float),\n",
    "                        camera_matrix_2,\n",
    "                        dist_coeffs_2,\n",
    "                        R=R2,\n",
    "                        P=P2)[0][0]\n",
    "            else:\n",
    "                raise Exception('Invalid side!')\n",
    "\n",
    "            ann_r[side].append({\n",
    "                'keypointType': bp,\n",
    "                'xFrame': x_new,\n",
    "                'yFrame': y_new,\n",
    "            })\n",
    "\n",
    "    return ann_r\n",
    "\n",
    "\n",
    "def un_re_rectify(df, stereo_params_o, stereo_params_n):\n",
    "    params_o = get_camera_parameters(stereo_params_o)\n",
    "    params_n = get_camera_parameters(stereo_params_n)\n",
    "\n",
    "    ann_us, ann_u_rs = [], []\n",
    "    for idx, row in df.iterrows():\n",
    "        ann = row.annotation\n",
    "        if ann is None:\n",
    "            ann_u_rs.append(None)\n",
    "            continue\n",
    "\n",
    "        # un-rectify with original params\n",
    "        ann_u = unrectify(ann, params_o)\n",
    "        if ann_u:\n",
    "\n",
    "            # re-rectify with new params\n",
    "            ann_u_r = rectify(ann_u, params_n)\n",
    "            ann_us.append(ann_u)\n",
    "            ann_u_rs.append(ann_u_r)\n",
    "        else:\n",
    "            ann_us.append(None)\n",
    "            ann_u_rs.append(None)\n",
    "\n",
    "    df['ann_u'] = ann_us\n",
    "    df['ann_u_r'] = ann_u_rs"
   ]
  },
  {
   "cell_type": "code",
   "execution_count": null,
   "metadata": {},
   "outputs": [],
   "source": []
  },
  {
   "cell_type": "code",
   "execution_count": null,
   "metadata": {},
   "outputs": [],
   "source": [
    "def get_camera_metadata(stereo_parameters):\n",
    "    camera_metadata = {\n",
    "        'focalLengthPixel': stereo_parameters['CameraParameters1']['FocalLength'][0],\n",
    "        'baseline': abs(stereo_parameters['TranslationOfCamera2'][0] / 1e3),\n",
    "        'focalLength': stereo_parameters['CameraParameters1']['FocalLength'][0] * 3.45e-6,\n",
    "        'pixelCountWidth': 4096,\n",
    "        'pixelCountHeight': 3000,\n",
    "        'imageSensorWidth': 0.01412,\n",
    "        'imageSensorHeight': 0.01035\n",
    "    }\n",
    "    \n",
    "    return camera_metadata\n",
    "\n",
    "\n",
    "def add_weights_u_r(df, camera_metadata):\n",
    "    \n",
    "    weight_model_f, _, _ = s3.download_from_url('https://aquabyte-models.s3-us-west-1.amazonaws.com/biomass/trained_models/2020-11-27T00-00-00/weight_model_synthetic_data.pb')\n",
    "    kf_model_f, _, _ = s3.download_from_url('https://aquabyte-models.s3-us-west-1.amazonaws.com/k-factor/trained_models/2020-08-08T000000/kf_predictor_v2.pb')\n",
    "    weight_estimator = WeightEstimator(weight_model_f, kf_model_f)\n",
    "\n",
    "    pred_weights = []\n",
    "    for idx, row in df.iterrows():\n",
    "        ann = row.ann_u_r\n",
    "        if ann is not None:\n",
    "            cm = CameraMetadata(\n",
    "                focal_length=camera_metadata['focalLength'],\n",
    "                focal_length_pixel=camera_metadata['focalLengthPixel'],\n",
    "                baseline_m=camera_metadata['baseline'],\n",
    "                pixel_count_width=camera_metadata['pixelCountWidth'],\n",
    "                pixel_count_height=camera_metadata['pixelCountHeight'],\n",
    "                image_sensor_width=camera_metadata['imageSensorWidth'],\n",
    "                image_sensor_height=camera_metadata['imageSensorHeight']\n",
    "            )\n",
    "\n",
    "            weight, _, _ = weight_estimator.predict(ann, cm)\n",
    "            pred_weights.append(weight)\n",
    "        else:\n",
    "            pred_weights.append(None)\n",
    "    \n",
    "    df['weight_u_r'] = pred_weights"
   ]
  },
  {
   "cell_type": "code",
   "execution_count": null,
   "metadata": {},
   "outputs": [],
   "source": []
  },
  {
   "cell_type": "code",
   "execution_count": null,
   "metadata": {},
   "outputs": [],
   "source": []
  },
  {
   "cell_type": "markdown",
   "metadata": {},
   "source": [
    "<h1> Load dataset </h1>"
   ]
  },
  {
   "cell_type": "code",
   "execution_count": null,
   "metadata": {},
   "outputs": [],
   "source": [
    "def extract_biomass_data(pen_id, start_date, end_date, akpd_score_cutoff):\n",
    "    \"\"\"Get raw biomass computations for given pen_id, date range, and AKPD score cutoff.\"\"\"\n",
    "\n",
    "    query = \"\"\"\n",
    "        SELECT * FROM\n",
    "        prod.biomass_computations bc\n",
    "        WHERE bc.pen_id={}\n",
    "        AND bc.akpd_score >= {}\n",
    "        AND bc.captured_at BETWEEN '{}' and '{}'\n",
    "        AND bc.estimated_weight_g > 0.0\n",
    "    \"\"\".format(pen_id, akpd_score_cutoff, start_date, end_date)\n",
    "\n",
    "    df = RDS.extract_from_database(query)\n",
    "    return df"
   ]
  },
  {
   "cell_type": "code",
   "execution_count": null,
   "metadata": {},
   "outputs": [],
   "source": [
    "pen_id = 145\n",
    "start_date = '2021-02-01'\n",
    "end_date = '2021-02-04'\n",
    "akpd_score_cutoff = 0.95\n",
    "df = extract_biomass_data(pen_id, start_date, end_date, akpd_score_cutoff)"
   ]
  },
  {
   "cell_type": "code",
   "execution_count": null,
   "metadata": {},
   "outputs": [],
   "source": []
  },
  {
   "cell_type": "markdown",
   "metadata": {},
   "source": [
    "<h1> Un- and Re-rectify key-points </h1>"
   ]
  },
  {
   "cell_type": "code",
   "execution_count": null,
   "metadata": {},
   "outputs": [],
   "source": [
    "stereo_parameters_o_s3_url = 's3://aquabyte-stereo-parameters/L40029797_R40020184/2020-10-05T22:39:45.664664000Z_L40029797_R40020184_stereo-parameters.json'\n",
    "stereo_parameters_o_components = stereo_parameters_o_s3_url.replace('s3://', '').split('/')\n",
    "bucket = stereo_parameters_o_components[0]\n",
    "key = os.path.join(*stereo_parameters_o_components[1:])\n",
    "stereo_parameters_o_f = s3.download_from_s3(bucket, key)\n",
    "\n",
    "stereo_parameters_n_f = '/root/data/alok/biomass_estimation/playground/stereo_params_dale_p3_before_assets_10_5_2020.json'\n",
    "stereo_params_o = json.load(open(stereo_parameters_o_f))\n",
    "stereo_params_n = json.load(open(stereo_parameters_n_f))\n",
    "un_re_rectify(df, stereo_params_o, stereo_params_n)\n",
    "cm_tangential_fix = get_camera_metadata(stereo_params_n)\n",
    "add_weights_u_r(df, cm_tangential_fix)\n",
    "\n"
   ]
  },
  {
   "cell_type": "code",
   "execution_count": null,
   "metadata": {},
   "outputs": [],
   "source": []
  },
  {
   "cell_type": "markdown",
   "metadata": {},
   "source": [
    "<h1> Verify that un-rectified annotations are correct </h1>"
   ]
  },
  {
   "cell_type": "code",
   "execution_count": null,
   "metadata": {},
   "outputs": [],
   "source": [
    "def display_crops(left_image_f, right_image_f, ann, overlay_keypoints=True, show_labels=True):\n",
    "\n",
    "    fig, axes = plt.subplots(2, 1, figsize=(20, 20))\n",
    "    left_image = plt.imread(left_image_f)\n",
    "    right_image = plt.imread(right_image_f)\n",
    "    axes[0].imshow(left_image)\n",
    "    axes[1].imshow(right_image)\n",
    "    \n",
    "    left_keypoints = {item['keypointType']: [item['xCrop'], item['yCrop']] for item in ann['leftCrop']}\n",
    "    right_keypoints = {item['keypointType']: [item['xCrop'], item['yCrop']] for item in ann['rightCrop']}\n",
    "    \n",
    "    if overlay_keypoints:\n",
    "        for bp, kp in left_keypoints.items():\n",
    "            axes[0].scatter([kp[0]], [kp[1]], color='red', s=1)\n",
    "            if show_labels:\n",
    "                axes[0].annotate(bp, (kp[0], kp[1]), color='red')\n",
    "        for bp, kp in right_keypoints.items():\n",
    "            axes[1].scatter([kp[0]], [kp[1]], color='red', s=1)\n",
    "            if show_labels:\n",
    "                axes[1].annotate(bp, (kp[0], kp[1]), color='red')\n",
    "    plt.show()"
   ]
  },
  {
   "cell_type": "code",
   "execution_count": null,
   "metadata": {},
   "outputs": [],
   "source": [
    "for idx, row in df.iterrows():\n",
    "    ann = row.annotation\n",
    "    left_crop_url = row.left_crop_url\n",
    "    right_crop_url = row.right_crop_url\n",
    "    left_crop_f, _, _ = s3.download_from_url(left_crop_url)\n",
    "    right_crop_f, _, _ = s3.download_from_url(right_crop_url)\n",
    "    display_crops(left_crop_f, right_crop_f, ann)\n",
    "    \n",
    "    \n",
    "    \n",
    "    "
   ]
  },
  {
   "cell_type": "code",
   "execution_count": null,
   "metadata": {},
   "outputs": [],
   "source": [
    "for idx, row in df.iterrows():\n",
    "    ann = row.ann_u\n",
    "    left_crop_url = row.left_crop_url.replace('aquabyte-crops', 'aquabyte-frames-resized-inbound')\n",
    "    right_crop_url = row.right_crop_url.replace('aquabyte-crops', 'aquabyte-frames-resized-inbound')\n",
    "    left_crop_f, _, _ = s3.download_from_url(left_crop_url)\n",
    "    right_crop_f, _, _ = s3.download_from_url(right_crop_url)\n",
    "    left_bbox = [int(x) for x in os.path.basename(left_crop_f).replace('.jpg', '').split('_')[-4:]]\n",
    "    right_bbox = [int(x) for x in os.path.basename(right_crop_f).replace('.jpg', '').split('_')[-4:]]\n",
    "    \n",
    "    new_ann = {'leftCrop': [], 'rightCrop': []}\n",
    "    for item in ann['leftCrop']:\n",
    "        new_item = dict(item)\n",
    "        new_item['xCrop'] = item['xFrame'] - left_bbox[0]\n",
    "        new_item['yCrop'] = item['yFrame'] - left_bbox[1]\n",
    "        new_ann['leftCrop'].append(new_item)\n",
    "    for item in ann['rightCrop']:\n",
    "        new_item = dict(item)\n",
    "        new_item['xCrop'] = item['xFrame'] - right_bbox[0]\n",
    "        new_item['yCrop'] = item['yFrame'] - right_bbox[1]\n",
    "        new_ann['rightCrop'].append(new_item)\n",
    "        \n",
    "    display_crops(left_crop_f, right_crop_f, new_ann)\n",
    "    \n",
    "    \n",
    "    \n",
    "    "
   ]
  },
  {
   "cell_type": "code",
   "execution_count": null,
   "metadata": {},
   "outputs": [],
   "source": [
    "left_bbox = [int(x) for x in os.path.basename(left_crop_f).replace('.jpg', '').split('_')[-4:]]"
   ]
  },
  {
   "cell_type": "code",
   "execution_count": null,
   "metadata": {},
   "outputs": [],
   "source": [
    "left_bbox"
   ]
  },
  {
   "cell_type": "code",
   "execution_count": null,
   "metadata": {},
   "outputs": [],
   "source": []
  },
  {
   "cell_type": "code",
   "execution_count": null,
   "metadata": {},
   "outputs": [],
   "source": [
    "row.left_crop_metadata"
   ]
  },
  {
   "cell_type": "code",
   "execution_count": null,
   "metadata": {},
   "outputs": [],
   "source": []
  },
  {
   "cell_type": "code",
   "execution_count": null,
   "metadata": {},
   "outputs": [],
   "source": []
  },
  {
   "cell_type": "code",
   "execution_count": null,
   "metadata": {},
   "outputs": [],
   "source": []
  },
  {
   "cell_type": "code",
   "execution_count": null,
   "metadata": {},
   "outputs": [],
   "source": []
  },
  {
   "cell_type": "code",
   "execution_count": null,
   "metadata": {},
   "outputs": [],
   "source": []
  },
  {
   "cell_type": "code",
   "execution_count": null,
   "metadata": {},
   "outputs": [],
   "source": []
  },
  {
   "cell_type": "code",
   "execution_count": null,
   "metadata": {},
   "outputs": [],
   "source": []
  },
  {
   "cell_type": "code",
   "execution_count": null,
   "metadata": {},
   "outputs": [],
   "source": []
  },
  {
   "cell_type": "code",
   "execution_count": null,
   "metadata": {},
   "outputs": [],
   "source": [
    "df.estimated_weight_g.mean()"
   ]
  },
  {
   "cell_type": "code",
   "execution_count": null,
   "metadata": {},
   "outputs": [],
   "source": [
    "df.weight_u_r.mean()"
   ]
  },
  {
   "cell_type": "code",
   "execution_count": null,
   "metadata": {},
   "outputs": [],
   "source": [
    "plt.figure(figsize=(10, 5))\n",
    "plt.scatter(df.estimated_weight_g, df.weight_u_r)\n",
    "plt.grid()\n",
    "plt.xlabel('Dale P3 predicted weight - tangential distortion unaccounted for')\n",
    "plt.ylabel('Dale P3 predicted weight - tangential distortion accounted for')\n",
    "plt.show()"
   ]
  },
  {
   "cell_type": "code",
   "execution_count": null,
   "metadata": {},
   "outputs": [],
   "source": [
    "plt.hist(((df.weight_u_r - df.estimated_weight_g)/df.estimated_weight_g).values)"
   ]
  },
  {
   "cell_type": "code",
   "execution_count": null,
   "metadata": {},
   "outputs": [],
   "source": []
  },
  {
   "cell_type": "code",
   "execution_count": null,
   "metadata": {},
   "outputs": [],
   "source": []
  },
  {
   "cell_type": "code",
   "execution_count": null,
   "metadata": {},
   "outputs": [],
   "source": []
  },
  {
   "cell_type": "code",
   "execution_count": null,
   "metadata": {},
   "outputs": [],
   "source": []
  }
 ],
 "metadata": {
  "kernelspec": {
   "display_name": "Python 3",
   "language": "python",
   "name": "python3"
  },
  "language_info": {
   "codemirror_mode": {
    "name": "ipython",
    "version": 3
   },
   "file_extension": ".py",
   "mimetype": "text/x-python",
   "name": "python",
   "nbconvert_exporter": "python",
   "pygments_lexer": "ipython3",
   "version": "3.6.5"
  }
 },
 "nbformat": 4,
 "nbformat_minor": 2
}
