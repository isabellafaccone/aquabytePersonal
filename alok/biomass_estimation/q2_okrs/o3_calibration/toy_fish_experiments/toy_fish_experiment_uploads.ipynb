{
 "cells": [
  {
   "cell_type": "code",
   "execution_count": null,
   "metadata": {},
   "outputs": [],
   "source": [
    "%load_ext autoreload\n",
    "%autoreload 2\n",
    "\n",
    "import os\n",
    "\n",
    "from toy_fish_data_uploader import rectify_and_upload_images, process_into_plali_records, \\\n",
    "    establish_plali_connection, insert_into_plali, get_capture_keys, get_image_pair_from_capture_key\n"
   ]
  },
  {
   "cell_type": "code",
   "execution_count": null,
   "metadata": {},
   "outputs": [],
   "source": [
    "os.environ['PLALI_SQL_CREDENTIALS'] = '/run/secrets/plali_sql_credentials'"
   ]
  },
  {
   "cell_type": "code",
   "execution_count": null,
   "metadata": {},
   "outputs": [],
   "source": [
    "def chunker(seq, size):\n",
    "    return (seq[pos:pos + size] for pos in range(0, len(seq), size))"
   ]
  },
  {
   "cell_type": "code",
   "execution_count": null,
   "metadata": {},
   "outputs": [],
   "source": [
    "def main(s3_bucket, s3_prefix, stereo_parameters_url, metadata, workflow_id):\n",
    "\n",
    "    capture_keys = get_capture_keys(s3_bucket, s3_prefix)\n",
    "    image_pairs = [get_image_pair_from_capture_key(capture_key) for capture_key in capture_keys]\n",
    "    image_url_pairs = rectify_and_upload_images(s3_bucket, s3_prefix, image_pairs, \n",
    "                                                stereo_parameters_url=stereo_parameters_url)\n",
    "    values_to_insert = process_into_plali_records(image_url_pairs, metadata, workflow_id)\n",
    "    engine, sql_metadata = establish_plali_connection()\n",
    "\n",
    "    n = 10\n",
    "    count = 0\n",
    "    for chunk in chunker(values_to_insert[:], n):\n",
    "        insert_into_plali(chunk, engine, sql_metadata)\n",
    "\n",
    "        count += 1\n",
    "        print(count)\n",
    "    "
   ]
  },
  {
   "cell_type": "markdown",
   "metadata": {},
   "source": [
    "<h1> Enclosure A (Dale P3 pre-swap enclosure) - toy fish moving around - round 2 </h1>"
   ]
  },
  {
   "cell_type": "code",
   "execution_count": null,
   "metadata": {},
   "outputs": [],
   "source": [
    "s3_bucket = 'aquabyte-images-raw'\n",
    "s3_prefix = 'environment=production/site-id=55/pen-id=97/date=2021-03-17/hour=10'\n",
    "stereo_parameters_url = 'https://aquabyte-stereo-parameters.s3-eu-west-1.amazonaws.com/L40029797_R40020184/2021-02-25T11:30:42.149694000Z_L40029797_R40020184_stereo-parameters.json'\n",
    "metadata = { 'type': 'Dale P3 pre-swap -- Round 2' }\n",
    "workflow_id = '00000000-0000-0000-0000-000000000055'\n",
    "main(s3_bucket, s3_prefix, stereo_parameters_url, metadata, workflow_id)"
   ]
  },
  {
   "cell_type": "code",
   "execution_count": null,
   "metadata": {},
   "outputs": [],
   "source": []
  },
  {
   "cell_type": "markdown",
   "metadata": {},
   "source": [
    "<h1> Enclosure B (Dale P3 post-swap enclosure) - toy fish moving around - round 2 </h1>"
   ]
  },
  {
   "cell_type": "code",
   "execution_count": null,
   "metadata": {},
   "outputs": [],
   "source": []
  },
  {
   "cell_type": "code",
   "execution_count": null,
   "metadata": {},
   "outputs": [],
   "source": [
    "s3_bucket = 'aquabyte-images-raw'\n",
    "s3_prefix = 'environment=production/site-id=55/pen-id=102/date=2021-03-17'\n",
    "stereo_parameters_url = 'https://aquabyte-abc.s3-eu-west-1.amazonaws.com/rook/2021-03-10T13:57:48Z-pfe-1421920048928-187-4bd8/cal_output/2021-03-10T14-07-03.821272000Z/stereo_params.json'\n",
    "metadata = { 'type': 'Dale P3 post-swap -- Round 2' }\n",
    "workflow_id = '00000000-0000-0000-0000-000000000055'\n",
    "\n",
    "main(s3_bucket, s3_prefix, stereo_parameters_url, metadata, workflow_id)"
   ]
  },
  {
   "cell_type": "code",
   "execution_count": null,
   "metadata": {},
   "outputs": [],
   "source": []
  },
  {
   "cell_type": "markdown",
   "metadata": {},
   "source": [
    "<h1> Enclosure C (third enclosure) - toy fish moving around - round 2 </h1>"
   ]
  },
  {
   "cell_type": "code",
   "execution_count": null,
   "metadata": {},
   "outputs": [],
   "source": [
    "s3_bucket = 'aquabyte-images-raw'\n",
    "s3_prefix = 'environment=production/site-id=55/pen-id=117/date=2021-03-17/hour=10'\n",
    "stereo_parameters_url = 'https://aquabyte-stereo-parameters.s3-eu-west-1.amazonaws.com/L40020313_R40013177/2021-02-25T12:11:24.770071000Z_L40020313_R40013177_stereo-parameters.json'\n",
    "metadata = { 'type': 'other enclosure -- Round 2' }\n",
    "workflow_id = '00000000-0000-0000-0000-000000000055'\n",
    "\n",
    "main(s3_bucket, s3_prefix, stereo_parameters_url, metadata, workflow_id)"
   ]
  },
  {
   "cell_type": "code",
   "execution_count": null,
   "metadata": {},
   "outputs": [],
   "source": []
  },
  {
   "cell_type": "markdown",
   "metadata": {},
   "source": [
    "<h1> Enclosure A (Dale P3 pre-swap enclosure) - toy fish static - round 1 </h1>"
   ]
  },
  {
   "cell_type": "code",
   "execution_count": null,
   "metadata": {},
   "outputs": [],
   "source": [
    "s3_bucket = 'aquabyte-images-raw'\n",
    "s3_prefix = 'environment=production/site-id=55/pen-id=97/date=2021-03-18/hour=06'\n",
    "stereo_parameters_url = 'https://aquabyte-stereo-parameters.s3-eu-west-1.amazonaws.com/L40029797_R40020184/2021-02-25T11:30:42.149694000Z_L40029797_R40020184_stereo-parameters.json'\n",
    "metadata = { 'type': 'Dale P3 pre-swap -- static - Round 1' }\n",
    "workflow_id = '00000000-0000-0000-0000-000000000055'\n",
    "\n",
    "main(s3_bucket, s3_prefix, stereo_parameters_url, metadata, workflow_id)"
   ]
  },
  {
   "cell_type": "code",
   "execution_count": null,
   "metadata": {},
   "outputs": [],
   "source": []
  },
  {
   "cell_type": "markdown",
   "metadata": {},
   "source": [
    "<h1> Enclosure B (Dale P3 post-swap enclosure) - toy fish static - round 1 </h1>"
   ]
  },
  {
   "cell_type": "code",
   "execution_count": null,
   "metadata": {},
   "outputs": [],
   "source": [
    "s3_bucket = 'aquabyte-images-raw'\n",
    "s3_prefix = 'environment=production/site-id=55/pen-id=102/date=2021-03-18/hour=07'\n",
    "stereo_parameters_url = 'https://aquabyte-abc.s3-eu-west-1.amazonaws.com/rook/2021-03-10T13:57:48Z-pfe-1421920048928-187-4bd8/cal_output/2021-03-10T14-07-03.821272000Z/stereo_params.json'\n",
    "metadata = { 'type': 'Dale P3 post-swap -- static - Round 1' }\n",
    "workflow_id = '00000000-0000-0000-0000-000000000055'\n",
    "\n",
    "main(s3_bucket, s3_prefix, stereo_parameters_url, metadata, workflow_id)"
   ]
  },
  {
   "cell_type": "code",
   "execution_count": null,
   "metadata": {},
   "outputs": [],
   "source": []
  },
  {
   "cell_type": "code",
   "execution_count": null,
   "metadata": {},
   "outputs": [],
   "source": []
  },
  {
   "cell_type": "markdown",
   "metadata": {},
   "source": [
    "<h1> Enclosure C (third enclosure) - toy fish static - round 1 </h1>"
   ]
  },
  {
   "cell_type": "code",
   "execution_count": null,
   "metadata": {},
   "outputs": [],
   "source": [
    "s3_bucket = 'aquabyte-images-raw'\n",
    "s3_prefix = 'environment=production/site-id=55/pen-id=101/date=2021-03-18/hour=08'\n",
    "stereo_parameters_url = 'https://aquabyte-stereo-parameters.s3-eu-west-1.amazonaws.com/L40020313_R40013177/2021-02-25T12:11:24.770071000Z_L40020313_R40013177_stereo-parameters.json'\n",
    "metadata = { 'type': 'other enclosure -- static - Round 1' }\n",
    "workflow_id = '00000000-0000-0000-0000-000000000055'\n",
    "\n",
    "main(s3_bucket, s3_prefix, stereo_parameters_url, metadata, workflow_id)"
   ]
  },
  {
   "cell_type": "code",
   "execution_count": null,
   "metadata": {},
   "outputs": [],
   "source": []
  },
  {
   "cell_type": "code",
   "execution_count": null,
   "metadata": {},
   "outputs": [],
   "source": []
  },
  {
   "cell_type": "markdown",
   "metadata": {},
   "source": [
    "<h1> Back-to-back calibration enclosure #2 </h1>"
   ]
  },
  {
   "cell_type": "code",
   "execution_count": null,
   "metadata": {},
   "outputs": [],
   "source": [
    "s3_bucket = 'aquabyte-images-raw'\n",
    "s3_prefix = 'environment=production/site-id=55/pen-id=101/date=2021-04-28'\n",
    "stereo_parameters_url = None\n",
    "metadata = { 'type': 'back_to_back_calibration_enclosure_610091' }\n",
    "workflow_id = '00000000-0000-0000-0000-000000000055'\n",
    "main(s3_bucket, s3_prefix, stereo_parameters_url, metadata, workflow_id)"
   ]
  },
  {
   "cell_type": "code",
   "execution_count": null,
   "metadata": {},
   "outputs": [],
   "source": []
  },
  {
   "cell_type": "code",
   "execution_count": null,
   "metadata": {},
   "outputs": [],
   "source": []
  },
  {
   "cell_type": "code",
   "execution_count": null,
   "metadata": {},
   "outputs": [],
   "source": []
  },
  {
   "cell_type": "code",
   "execution_count": null,
   "metadata": {},
   "outputs": [],
   "source": []
  },
  {
   "cell_type": "code",
   "execution_count": null,
   "metadata": {},
   "outputs": [],
   "source": []
  },
  {
   "cell_type": "code",
   "execution_count": null,
   "metadata": {},
   "outputs": [],
   "source": []
  }
 ],
 "metadata": {
  "kernelspec": {
   "display_name": "Python 3",
   "language": "python",
   "name": "python3"
  },
  "language_info": {
   "codemirror_mode": {
    "name": "ipython",
    "version": 3
   },
   "file_extension": ".py",
   "mimetype": "text/x-python",
   "name": "python",
   "nbconvert_exporter": "python",
   "pygments_lexer": "ipython3",
   "version": "3.6.5"
  }
 },
 "nbformat": 4,
 "nbformat_minor": 2
}
