{
 "cells": [
  {
   "cell_type": "code",
   "execution_count": null,
   "metadata": {},
   "outputs": [],
   "source": [
    "from collections import defaultdict\n",
    "import json\n",
    "import os\n",
    "import numpy as np\n",
    "import cv2\n",
    "from research.utils.data_access_utils import RDSAccessUtils\n",
    "from research_lib.utils.data_access_utils import S3AccessUtils\n",
    "from weight_estimation.body_parts import core_body_parts\n",
    "from weight_estimation.utils import convert_to_world_point_arr, get_left_right_keypoint_arrs, normalize_left_right_keypoint_arrs, CameraMetadata, \\\n",
    "    stabilize_keypoints, convert_to_nn_input\n",
    "from weight_estimation.weight_estimator import WeightEstimator, CameraMetadata\n",
    "import torch\n",
    "from research.weight_estimation.keypoint_utils.optics import pixel2world\n"
   ]
  },
  {
   "cell_type": "code",
   "execution_count": null,
   "metadata": {},
   "outputs": [],
   "source": [
    "os.environ['PLALI_SQL_CREDENTIALS'] = '/run/secrets/plali_sql_credentials'"
   ]
  },
  {
   "cell_type": "code",
   "execution_count": null,
   "metadata": {},
   "outputs": [],
   "source": []
  },
  {
   "cell_type": "code",
   "execution_count": null,
   "metadata": {},
   "outputs": [],
   "source": []
  },
  {
   "cell_type": "code",
   "execution_count": null,
   "metadata": {},
   "outputs": [],
   "source": [
    "toy_fish_experiments = [\n",
    "    {\n",
    "        'name': 'B2_fish_moving_around_v1',\n",
    "        'stereo_parameters_url': 'https://aquabyte-abc.s3-eu-west-1.amazonaws.com/rook/2021-03-10T13:57:48Z-pfe-1421920048928-187-4bd8/cal_output/2021-03-10T14-07-03.821272000Z/stereo_params.json',\n",
    "        'workflow_id': '00000000-0000-0000-0000-000000000055',\n",
    "        'metadata_type': 'Dale P3 post-swap enclosure'\n",
    "    },\n",
    "    {\n",
    "        'name': 'C_fish_moving_around_v1',\n",
    "        'stereo_parameters_url': 'https://aquabyte-stereo-parameters.s3-eu-west-1.amazonaws.com/L40020313_R40013177/2021-02-25T12:11:24.770071000Z_L40020313_R40013177_stereo-parameters.json',\n",
    "        'workflow_id': '00000000-0000-0000-0000-000000000056',\n",
    "        'metadata_type': 'None'\n",
    "    },\n",
    "    {\n",
    "        'name': 'A2_fish_moving_around_v2',\n",
    "        'stereo_parameters_url': 'https://aquabyte-stereo-parameters.s3-eu-west-1.amazonaws.com/L40029797_R40020184/2021-02-25T11:30:42.149694000Z_L40029797_R40020184_stereo-parameters.json',\n",
    "        'workflow_id': '00000000-0000-0000-0000-000000000055',\n",
    "        'metadata_type': 'Dale P3 pre-swap -- Round 2'\n",
    "    },\n",
    "    {\n",
    "        'name': 'B2_fish_moving_around_v2',\n",
    "        'stereo_parameters_url': 'https://aquabyte-abc.s3-eu-west-1.amazonaws.com/rook/2021-03-10T13:57:48Z-pfe-1421920048928-187-4bd8/cal_output/2021-03-10T14-07-03.821272000Z/stereo_params.json',\n",
    "        'workflow_id': '00000000-0000-0000-0000-000000000055',\n",
    "        'metadata_type': 'Dale P3 post-swap -- Round 2'\n",
    "    },\n",
    "    {\n",
    "        'name': 'C_fish_moving_around_v2',\n",
    "        'stereo_parameters_url': 'https://aquabyte-stereo-parameters.s3-eu-west-1.amazonaws.com/L40020313_R40013177/2021-02-25T12:11:24.770071000Z_L40020313_R40013177_stereo-parameters.json',\n",
    "        'workflow_id': '00000000-0000-0000-0000-000000000055',\n",
    "        'metadata_type': 'other enclosure -- Round 2'\n",
    "    },\n",
    "    {\n",
    "        'name': 'A2_fish_static_v1',\n",
    "        'stereo_parameters_url': 'https://aquabyte-stereo-parameters.s3-eu-west-1.amazonaws.com/L40020313_R40013177/2021-02-25T12:11:24.770071000Z_L40020313_R40013177_stereo-parameters.json',\n",
    "        'workflow_id': '00000000-0000-0000-0000-000000000055',\n",
    "        'metadata_type': 'Dale P3 pre-swap -- static - Round 1'\n",
    "    },\n",
    "    {\n",
    "        'name': 'B2_fish_static_v1',\n",
    "        'stereo_parameters_url': 'https://aquabyte-abc.s3-eu-west-1.amazonaws.com/rook/2021-03-10T13:57:48Z-pfe-1421920048928-187-4bd8/cal_output/2021-03-10T14-07-03.821272000Z/stereo_params.json',\n",
    "        'workflow_id': '00000000-0000-0000-0000-000000000055',\n",
    "        'metadata_type': 'Dale P3 post-swap -- static - Round 1'\n",
    "    },\n",
    "    {\n",
    "        'name': 'C_fish_static_v1',\n",
    "        'stereo_parameters_url': 'https://aquabyte-stereo-parameters.s3-eu-west-1.amazonaws.com/L40020313_R40013177/2021-02-25T12:11:24.770071000Z_L40020313_R40013177_stereo-parameters.json',\n",
    "        'workflow_id': '00000000-0000-0000-0000-000000000055',\n",
    "        'metadata_type': 'other enclosure -- static - Round 1'\n",
    "    }\n",
    "]"
   ]
  },
  {
   "cell_type": "code",
   "execution_count": null,
   "metadata": {},
   "outputs": [],
   "source": []
  },
  {
   "cell_type": "code",
   "execution_count": null,
   "metadata": {},
   "outputs": [],
   "source": []
  },
  {
   "cell_type": "code",
   "execution_count": null,
   "metadata": {},
   "outputs": [],
   "source": [
    "rds = RDSAccessUtils(json.load(open(os.environ['PLALI_SQL_CREDENTIALS'])))\n",
    "\n",
    "def get_annotated_data(workflow_id, metadata_type):\n",
    "    query = \"\"\"\n",
    "        select * from plali.plali_annotations x\n",
    "        inner join \n",
    "        ( select a.id as plali_image_id, a.images, a.metadata, b.id as workflow_id, b.name from plali.plali_images a\n",
    "        inner join plali.plali_workflows b\n",
    "        on a.workflow_id = b.id ) y\n",
    "        on x.plali_image_id = y.plali_image_id\n",
    "        where workflow_id = '{}';\n",
    "    \"\"\".format(workflow_id)\n",
    "\n",
    "    annotated_df = rds.extract_from_database(query)\n",
    "    annotated_df = annotated_df[annotated_df.metadata.apply(lambda x: str(x.get('type')) == metadata_type)]\n",
    "    return annotated_df\n",
    "\n",
    "\n",
    "\n",
    "class AnnotationFormatError(Exception):\n",
    "    pass\n",
    "\n",
    "\n",
    "def add_anns(annotated_df):\n",
    "    anns = []\n",
    "    for idx, row in annotated_df.iterrows():\n",
    "        try:\n",
    "            raw_ann = row.annotation\n",
    "            if 'skipReasons' in raw_ann:\n",
    "                raise AnnotationFormatError\n",
    "\n",
    "            ann = {'leftCrop': [], 'rightCrop': []}\n",
    "\n",
    "            for side in ['leftCrop', 'rightCrop']:\n",
    "                for raw_item in row.annotation[side]['annotation']['annotations']:\n",
    "                    if 'xCrop' not in raw_item or 'yCrop' not in raw_item:\n",
    "                        raise AnnotationFormatError\n",
    "                    item = {\n",
    "                        'xCrop': raw_item['xCrop'],\n",
    "                        'yCrop': raw_item['yCrop'],\n",
    "                        'xFrame': raw_item['xCrop'],\n",
    "                        'yFrame': raw_item['yCrop'],\n",
    "                        'keypointType': raw_item['category']\n",
    "                    }\n",
    "\n",
    "                    ann[side].append(item)\n",
    "\n",
    "            if any([len(ann[side]) != 11 for side in ['leftCrop', 'rightCrop']]):\n",
    "                raise AnnotationFormatError\n",
    "\n",
    "            anns.append(ann)\n",
    "\n",
    "        except AnnotationFormatError as err:\n",
    "            anns.append(None)\n",
    "\n",
    "    annotated_df['ann'] = anns\n",
    "\n",
    "\n",
    "def add_camera_metadata(df, stereo_parameters_url):\n",
    "    stereo_parameters_f, _, _ = s3.download_from_url(stereo_parameters_url)\n",
    "    stereo_parameters = json.load(open(stereo_parameters_f))\n",
    "    \n",
    "    camera_metadata = {\n",
    "        'focalLengthPixel': stereo_parameters['CameraParameters1']['FocalLength'][0],\n",
    "        'baseline': abs(stereo_parameters['TranslationOfCamera2'][0] / 1e3),\n",
    "        'focalLength': stereo_parameters['CameraParameters1']['FocalLength'][0] * 3.45e-6,\n",
    "        'pixelCountWidth': 4096,\n",
    "        'pixelCountHeight': 3000,\n",
    "        'imageSensorWidth': 0.01412,\n",
    "        'imageSensorHeight': 0.01035\n",
    "    }\n",
    "\n",
    "    df['camera_metadata'] = json.dumps(camera_metadata)\n",
    "    \n",
    "    \n",
    "def add_weights(df):\n",
    "    \n",
    "    weight_model_f, _, _ = s3.download_from_url('https://aquabyte-models.s3-us-west-1.amazonaws.com/biomass/trained_models/2020-11-27T00-00-00/weight_model_synthetic_data.pb')\n",
    "    kf_model_f, _, _ = s3.download_from_url('https://aquabyte-models.s3-us-west-1.amazonaws.com/k-factor/trained_models/2020-08-08T000000/kf_predictor_v2.pb')\n",
    "    weight_estimator = WeightEstimator(weight_model_f, kf_model_f)\n",
    "\n",
    "    pred_weights = []\n",
    "    for idx, row in df.iterrows():\n",
    "        ann = row.ann\n",
    "        camera_metadata = json.loads(row.camera_metadata)\n",
    "        if ann is not None:\n",
    "            cm = CameraMetadata(\n",
    "                focal_length=camera_metadata['focalLength'],\n",
    "                focal_length_pixel=camera_metadata['focalLengthPixel'],\n",
    "                baseline_m=camera_metadata['baseline'],\n",
    "                pixel_count_width=camera_metadata['pixelCountWidth'],\n",
    "                pixel_count_height=camera_metadata['pixelCountHeight'],\n",
    "                image_sensor_width=camera_metadata['imageSensorWidth'],\n",
    "                image_sensor_height=camera_metadata['imageSensorHeight']\n",
    "            )\n",
    "\n",
    "            weight, _, _ = weight_estimator.predict(ann, cm)\n",
    "            pred_weights.append(weight)\n",
    "        else:\n",
    "            pred_weights.append(None)\n",
    "    \n",
    "    df['weight'] = pred_weights\n",
    "    \n",
    "    \n",
    "\n",
    "def add_spatial_attributes(df):\n",
    "    yaws, pitches, rolls, depths = [], [], [], []\n",
    "    for idx, row in df.iterrows():\n",
    "        ann, cm = row.ann, json.loads(row.camera_metadata)\n",
    "        try:\n",
    "            world_keypoints = pixel2world(ann['leftCrop'], ann['rightCrop'], cm)\n",
    "            depth = np.median([x[1] for x in world_keypoints.values()])\n",
    "            u = world_keypoints['ADIPOSE_FIN'] - world_keypoints['ANAL_FIN']\n",
    "            v = world_keypoints['UPPER_LIP'] - world_keypoints['TAIL_NOTCH']\n",
    "            yaw = np.arctan(v[1] / abs(v[0])) * (180.0 / np.pi)\n",
    "            pitch = np.arctan(v[2] / abs(v[0])) * (180.0 / np.pi)\n",
    "            roll = np.arctan(u[1] / u[2]) * (180.0 / np.pi)\n",
    "        except TypeError as err:\n",
    "            yaw, pitch, roll, depth = None, None, None, None\n",
    "        yaws.append(yaw)\n",
    "        pitches.append(pitch)\n",
    "        depths.append(depth)\n",
    "        rolls.append(roll)\n",
    "        \n",
    "    df['yaw'] = yaws\n",
    "    df['pitch'] = pitches\n",
    "    df['roll'] = rolls\n",
    "    df['depth'] = depths\n",
    "\n",
    "\n",
    "    \n",
    "    \n"
   ]
  },
  {
   "cell_type": "code",
   "execution_count": null,
   "metadata": {},
   "outputs": [],
   "source": [
    "dfs = {}\n",
    "for experiment in toy_fish_experiments:\n",
    "    name = experiment['name']\n",
    "    stereo_parameters_url = experiment['stereo_parameters_url']\n",
    "    annotated_df = get_annotated_data(experiment['workflow_id'], experiment['metadata_type'])\n",
    "    add_anns(annotated_df)\n",
    "    add_camera_metadata(annotated_df, stereo_parameters_url)\n",
    "    add_weights(annotated_df)\n",
    "    add_spatial_attributes(annotated_df)\n",
    "    dfs[name] = annotated_df.copy(deep=True)\n",
    "    \n",
    "    "
   ]
  },
  {
   "cell_type": "code",
   "execution_count": null,
   "metadata": {},
   "outputs": [],
   "source": []
  },
  {
   "cell_type": "code",
   "execution_count": null,
   "metadata": {},
   "outputs": [],
   "source": [
    "result_data = defaultdict(list)\n",
    "for experiment_name, df in dfs.items():\n",
    "    result_data['experiment_name'].append(experiment_name)\n",
    "    result_data['average_weight'].append(df.weight.mean())\n",
    "    result_data['average_yaw'].append(df.yaw.mean())\n",
    "    result_data['average_pitch'].append(df.pitch.mean())\n",
    "    result_data['average_roll'].append(df.roll.mean())\n",
    "\n",
    "\n",
    "result_df = pd.DataFrame(result_data)"
   ]
  },
  {
   "cell_type": "code",
   "execution_count": null,
   "metadata": {},
   "outputs": [],
   "source": [
    "result_df"
   ]
  },
  {
   "cell_type": "code",
   "execution_count": null,
   "metadata": {},
   "outputs": [],
   "source": [
    "plt.figure(figsize=(15, 8))\n",
    "mask = dfs['C_fish_static_v1'].weight < 6000\n",
    "plt.hist(dfs['C_fish_static_v1'][mask].weight.values)\n",
    "plt.grid()\n",
    "plt.show()"
   ]
  },
  {
   "cell_type": "code",
   "execution_count": null,
   "metadata": {},
   "outputs": [],
   "source": [
    "plt.figure(figsize=(15, 8))\n",
    "plt.hist(dfs['A2_fish_moving_around_v2'].weight.values)\n",
    "plt.grid()\n",
    "plt.show()"
   ]
  },
  {
   "cell_type": "code",
   "execution_count": null,
   "metadata": {},
   "outputs": [],
   "source": []
  },
  {
   "cell_type": "code",
   "execution_count": null,
   "metadata": {},
   "outputs": [],
   "source": []
  },
  {
   "cell_type": "code",
   "execution_count": null,
   "metadata": {},
   "outputs": [],
   "source": []
  },
  {
   "cell_type": "code",
   "execution_count": null,
   "metadata": {},
   "outputs": [],
   "source": [
    "plt.figure(figsize=(15, 8))\n",
    "plt.hist(dfs['B2_fish_static_v1'].weight.values)\n",
    "plt.grid()\n",
    "plt.show()"
   ]
  },
  {
   "cell_type": "code",
   "execution_count": null,
   "metadata": {},
   "outputs": [],
   "source": []
  },
  {
   "cell_type": "code",
   "execution_count": null,
   "metadata": {},
   "outputs": [],
   "source": []
  },
  {
   "cell_type": "code",
   "execution_count": null,
   "metadata": {},
   "outputs": [],
   "source": []
  },
  {
   "cell_type": "code",
   "execution_count": null,
   "metadata": {},
   "outputs": [],
   "source": []
  },
  {
   "cell_type": "code",
   "execution_count": null,
   "metadata": {},
   "outputs": [],
   "source": []
  },
  {
   "cell_type": "code",
   "execution_count": null,
   "metadata": {},
   "outputs": [],
   "source": [
    "plt.figure(figsize=(10, 5))\n",
    "plt.scatter(dfs['B2_fish_moving_around_v1'].roll.values, dfs['B2_fish_moving_around_v1'].weight.values)\n",
    "plt.xlabel('Roll')\n",
    "plt.ylabel('Weight')\n",
    "plt.grid()\n",
    "plt.show()"
   ]
  },
  {
   "cell_type": "code",
   "execution_count": null,
   "metadata": {},
   "outputs": [],
   "source": [
    "plt.figure(figsize=(10, 5))\n",
    "plt.scatter(dfs['B2_fish_moving_around_v2'].roll.values, dfs['B2_fish_moving_around_v2'].weight.values)\n",
    "plt.xlabel('Roll')\n",
    "plt.ylabel('Weight')\n",
    "plt.grid()\n",
    "plt.show()"
   ]
  },
  {
   "cell_type": "code",
   "execution_count": null,
   "metadata": {},
   "outputs": [],
   "source": []
  },
  {
   "cell_type": "code",
   "execution_count": null,
   "metadata": {},
   "outputs": [],
   "source": [
    "plt.figure(figsize=(10, 5))\n",
    "plt.scatter(dfs['C_fish_moving_around_v1'].roll.values, dfs['C_fish_moving_around_v1'].weight.values)\n",
    "plt.xlabel('Roll')\n",
    "plt.ylabel('Weight')\n",
    "plt.grid()\n",
    "plt.show()"
   ]
  },
  {
   "cell_type": "code",
   "execution_count": null,
   "metadata": {},
   "outputs": [],
   "source": [
    "plt.figure(figsize=(10, 5))\n",
    "plt.scatter(dfs['C_fish_moving_around_v2'].roll.values, dfs['C_fish_moving_around_v2'].weight.values)\n",
    "plt.xlabel('Roll')\n",
    "plt.ylabel('Weight')\n",
    "plt.grid()\n",
    "plt.show()"
   ]
  },
  {
   "cell_type": "code",
   "execution_count": null,
   "metadata": {},
   "outputs": [],
   "source": []
  },
  {
   "cell_type": "code",
   "execution_count": null,
   "metadata": {},
   "outputs": [],
   "source": []
  },
  {
   "cell_type": "code",
   "execution_count": null,
   "metadata": {},
   "outputs": [],
   "source": []
  },
  {
   "cell_type": "code",
   "execution_count": null,
   "metadata": {},
   "outputs": [],
   "source": []
  },
  {
   "cell_type": "code",
   "execution_count": null,
   "metadata": {},
   "outputs": [],
   "source": []
  },
  {
   "cell_type": "code",
   "execution_count": null,
   "metadata": {},
   "outputs": [],
   "source": [
    "plt.figure(figsize=(10, 5))\n",
    "plt.scatter(dfs['A2_fish_moving_around_v2'].roll.values, dfs['A2_fish_moving_around_v2'].weight.values)\n",
    "plt.xlabel('Roll')\n",
    "plt.ylabel('Weight')\n",
    "plt.grid()\n",
    "plt.show()"
   ]
  },
  {
   "cell_type": "code",
   "execution_count": null,
   "metadata": {},
   "outputs": [],
   "source": [
    "plt.figure(figsize=(10, 5))\n",
    "plt.scatter(dfs['A2_fish_moving_around_v2'].yaw.values, dfs['A2_fish_moving_around_v2'].weight.values)\n",
    "plt.xlabel('Roll')\n",
    "plt.ylabel('Weight')\n",
    "plt.grid()\n",
    "plt.show()"
   ]
  },
  {
   "cell_type": "code",
   "execution_count": null,
   "metadata": {},
   "outputs": [],
   "source": [
    "plt.figure(figsize=(10, 5))\n",
    "plt.scatter(dfs['A2_fish_moving_around_v2'].pitch.values, dfs['A2_fish_moving_around_v2'].weight.values)\n",
    "plt.xlabel('Roll')\n",
    "plt.ylabel('Weight')\n",
    "plt.grid()\n",
    "plt.show()"
   ]
  },
  {
   "cell_type": "code",
   "execution_count": null,
   "metadata": {},
   "outputs": [],
   "source": []
  },
  {
   "cell_type": "code",
   "execution_count": null,
   "metadata": {},
   "outputs": [],
   "source": []
  },
  {
   "cell_type": "code",
   "execution_count": null,
   "metadata": {},
   "outputs": [],
   "source": []
  },
  {
   "cell_type": "code",
   "execution_count": null,
   "metadata": {},
   "outputs": [],
   "source": [
    "plt.figure(figsize=(10, 5))\n",
    "plt.scatter(dfs['B2_fish_moving_around_v2'].roll.values, dfs['B2_fish_moving_around_v2'].weight.values)\n",
    "plt.grid()\n",
    "plt.show()"
   ]
  },
  {
   "cell_type": "code",
   "execution_count": null,
   "metadata": {},
   "outputs": [],
   "source": [
    "plt.figure(figsize=(10, 5))\n",
    "plt.scatter(dfs['C_fish_moving_around_v2'].roll.values, dfs['C_fish_moving_around_v2'].weight.values)\n",
    "plt.grid()\n",
    "plt.show()"
   ]
  },
  {
   "cell_type": "code",
   "execution_count": null,
   "metadata": {},
   "outputs": [],
   "source": []
  },
  {
   "cell_type": "code",
   "execution_count": null,
   "metadata": {},
   "outputs": [],
   "source": []
  },
  {
   "cell_type": "code",
   "execution_count": null,
   "metadata": {},
   "outputs": [],
   "source": []
  },
  {
   "cell_type": "code",
   "execution_count": null,
   "metadata": {},
   "outputs": [],
   "source": [
    "plt.figure(figsize=(10, 5))\n",
    "plt.scatter(dfs['B2_fish_static_v1'].roll.values, dfs['B2_fish_static_v1'].weight.values)\n",
    "plt.grid()\n",
    "plt.show()"
   ]
  },
  {
   "cell_type": "code",
   "execution_count": null,
   "metadata": {},
   "outputs": [],
   "source": []
  },
  {
   "cell_type": "code",
   "execution_count": null,
   "metadata": {},
   "outputs": [],
   "source": [
    "plt.figure(figsize=(10, 5))\n",
    "plt.hist(dfs['B2_fish_static_v1'].roll.values)\n",
    "plt.grid()\n",
    "plt.show()"
   ]
  },
  {
   "cell_type": "code",
   "execution_count": null,
   "metadata": {},
   "outputs": [],
   "source": []
  },
  {
   "cell_type": "code",
   "execution_count": null,
   "metadata": {},
   "outputs": [],
   "source": []
  },
  {
   "cell_type": "code",
   "execution_count": null,
   "metadata": {},
   "outputs": [],
   "source": []
  },
  {
   "cell_type": "code",
   "execution_count": null,
   "metadata": {},
   "outputs": [],
   "source": []
  },
  {
   "cell_type": "code",
   "execution_count": null,
   "metadata": {},
   "outputs": [],
   "source": []
  },
  {
   "cell_type": "code",
   "execution_count": null,
   "metadata": {},
   "outputs": [],
   "source": []
  },
  {
   "cell_type": "code",
   "execution_count": null,
   "metadata": {},
   "outputs": [],
   "source": []
  },
  {
   "cell_type": "code",
   "execution_count": null,
   "metadata": {},
   "outputs": [],
   "source": []
  },
  {
   "cell_type": "code",
   "execution_count": null,
   "metadata": {},
   "outputs": [],
   "source": []
  },
  {
   "cell_type": "code",
   "execution_count": null,
   "metadata": {},
   "outputs": [],
   "source": []
  },
  {
   "cell_type": "code",
   "execution_count": null,
   "metadata": {},
   "outputs": [],
   "source": []
  },
  {
   "cell_type": "code",
   "execution_count": null,
   "metadata": {},
   "outputs": [],
   "source": []
  },
  {
   "cell_type": "code",
   "execution_count": null,
   "metadata": {},
   "outputs": [],
   "source": []
  },
  {
   "cell_type": "code",
   "execution_count": null,
   "metadata": {},
   "outputs": [],
   "source": []
  },
  {
   "cell_type": "code",
   "execution_count": null,
   "metadata": {},
   "outputs": [],
   "source": []
  },
  {
   "cell_type": "code",
   "execution_count": null,
   "metadata": {},
   "outputs": [],
   "source": []
  },
  {
   "cell_type": "code",
   "execution_count": null,
   "metadata": {},
   "outputs": [],
   "source": []
  },
  {
   "cell_type": "code",
   "execution_count": null,
   "metadata": {},
   "outputs": [],
   "source": []
  },
  {
   "cell_type": "code",
   "execution_count": null,
   "metadata": {},
   "outputs": [],
   "source": []
  },
  {
   "cell_type": "code",
   "execution_count": null,
   "metadata": {},
   "outputs": [],
   "source": []
  },
  {
   "cell_type": "code",
   "execution_count": null,
   "metadata": {},
   "outputs": [],
   "source": []
  },
  {
   "cell_type": "code",
   "execution_count": null,
   "metadata": {},
   "outputs": [],
   "source": [
    "from typing import Tuple\n",
    "s3 = S3AccessUtils('/root/data')\n",
    "\n",
    "def load_params(params):\n",
    "    print(\"Loading params...\")\n",
    "    cameraMatrix1 = np.array(params['CameraParameters1']['IntrinsicMatrix']).transpose()\n",
    "    cameraMatrix2 = np.array(params['CameraParameters2']['IntrinsicMatrix']).transpose()\n",
    "\n",
    "    distCoeffs1 = params['CameraParameters1']['RadialDistortion'][0:2] + \\\n",
    "                   params['CameraParameters1']['TangentialDistortion'] + \\\n",
    "                   [params['CameraParameters1']['RadialDistortion'][2]]\n",
    "    distCoeffs1 = np.array(distCoeffs1)\n",
    "\n",
    "    distCoeffs2 = params['CameraParameters2']['RadialDistortion'][0:2] + \\\n",
    "                   params['CameraParameters2']['TangentialDistortion'] + \\\n",
    "                   [params['CameraParameters2']['RadialDistortion'][2]]\n",
    "    distCoeffs2 = np.array(distCoeffs2)\n",
    "\n",
    "    R = np.array(params['RotationOfCamera2']).transpose()\n",
    "    T = np.array(params['TranslationOfCamera2']).transpose()\n",
    "\n",
    "    imageSize = (4096, 3000)\n",
    "\n",
    "    # perform rectification\n",
    "    (R1, R2, P1, P2, Q, leftROI, rightROI) = cv2.stereoRectify(cameraMatrix1, distCoeffs1, cameraMatrix2, distCoeffs2, imageSize, R, T, None, None, None, None, None, cv2.CALIB_ZERO_DISPARITY, 0)\n",
    "\n",
    "    left_maps = cv2.initUndistortRectifyMap(cameraMatrix1, distCoeffs1, R1, P1, imageSize, cv2.CV_16SC2)\n",
    "    right_maps = cv2.initUndistortRectifyMap(cameraMatrix2, distCoeffs2, R2, P2, imageSize, cv2.CV_16SC2)\n",
    "\n",
    "    print(\"Params loaded.\")\n",
    "    return left_maps, right_maps\n",
    "\n",
    "IMAGE_WIDTH = 4096\n",
    "IMAGE_HEIGHT = 3000\n",
    "\n",
    "def get_camera_parameters(params: dict) -> Tuple:\n",
    "    \"\"\"Return individual camera parameters from JSON stereo parameters contents.\"\"\"\n",
    "    \n",
    "    cameraMatrix1 = np.array(params['CameraParameters1']['IntrinsicMatrix']).transpose()\n",
    "    cameraMatrix2 = np.array(params['CameraParameters2']['IntrinsicMatrix']).transpose()\n",
    "\n",
    "    distCoeffs1 = params['CameraParameters1']['RadialDistortion'][0:2] + \\\n",
    "                   params['CameraParameters1']['TangentialDistortion'] + \\\n",
    "                   [params['CameraParameters1']['RadialDistortion'][2]]\n",
    "    distCoeffs1 = np.array(distCoeffs1)\n",
    "\n",
    "    distCoeffs2 = params['CameraParameters2']['RadialDistortion'][0:2] + \\\n",
    "                   params['CameraParameters2']['TangentialDistortion'] + \\\n",
    "                   [params['CameraParameters2']['RadialDistortion'][2]]\n",
    "    distCoeffs2 = np.array(distCoeffs2)\n",
    "\n",
    "    R = np.array(params['RotationOfCamera2']).transpose()\n",
    "    T = np.array(params['TranslationOfCamera2']).transpose()\n",
    "    \n",
    "    imageSize = (IMAGE_WIDTH, IMAGE_HEIGHT)\n",
    "    (R1, R2, P1, P2, Q, leftROI, rightROI) = cv2.stereoRectify(cameraMatrix1, distCoeffs1, cameraMatrix2, \n",
    "                                                               distCoeffs2, imageSize, R, T, None, None, \n",
    "                                                               None, None, None, cv2.CALIB_ZERO_DISPARITY, 0)\n",
    "    left_maps = cv2.initUndistortRectifyMap(cameraMatrix1, distCoeffs1, R1, P1, imageSize, cv2.CV_16SC2)\n",
    "    right_maps = cv2.initUndistortRectifyMap(cameraMatrix2, distCoeffs2, R2, P2, imageSize, cv2.CV_16SC2)\n",
    "    \n",
    "    return left_maps, right_maps, cameraMatrix1, distCoeffs1, R1, P1, cameraMatrix2, distCoeffs2, R2, P2\n",
    "\n",
    "\n",
    "\n",
    "def un_re_rectify(annotated_df, stereo_parameters_o_url, stereo_parameters_n_url):\n",
    "    stereo_parameters_o_f, _, _ = s3.download_from_url(stereo_parameters_o_url)\n",
    "    stereo_parameters_n_f, _, _ = s3.download_from_url(stereo_parameters_n_url)\n",
    "\n",
    "    stereo_params_o = json.load(open(stereo_parameters_o_f))\n",
    "    stereo_params_n = json.load(open(stereo_parameters_n_f))\n",
    "    left_maps_o, right_maps_o, cameraMatrix1_o, distCoeffs1_o, R1_o, P1_o, cameraMatrix2_o, distCoeffs2_o, R2_o, P2_o = get_camera_parameters(stereo_params_o)\n",
    "    left_maps_n, right_maps_n, cameraMatrix1_n, distCoeffs1_n, R1_n, P1_n, cameraMatrix2_n, distCoeffs2_n, R2_n, P2_n = get_camera_parameters(stereo_params_n)\n",
    "\n",
    "    ann_u_rs = []\n",
    "    for idx, row in annotated_df.iterrows():\n",
    "        ann = row.ann\n",
    "        if ann is None:\n",
    "            ann_u_rs.append(None)\n",
    "            continue\n",
    "\n",
    "        # un-rectify with matlab params, re-rectify with circular params\n",
    "        ann_u_r = {'leftCrop': [], 'rightCrop': []}\n",
    "        for side in ['leftCrop', 'rightCrop']:\n",
    "            for item in ann[side]:\n",
    "                bp = item['keypointType']\n",
    "                x = item['xFrame']\n",
    "                y = item['yFrame']\n",
    "                if side == 'leftCrop':\n",
    "                    x_new, y_new = cv2.undistortPoints(np.array([[left_maps_o[0][y, x]]]).astype(float), \n",
    "                                        cameraMatrix1_n, distCoeffs1_n, R=R1_n, P=P1_n)[0][0]\n",
    "                elif side == 'rightCrop':\n",
    "                    x_new, y_new = cv2.undistortPoints(np.array([[right_maps_o[0][y, x]]]).astype(float), \n",
    "                                        cameraMatrix2_n, distCoeffs2_n, R=R2_n, P=P2_n)[0][0]\n",
    "\n",
    "                x_new, y_new = int(round(x_new)), int(round(y_new))\n",
    "                ann_u_r[side].append({\n",
    "                    'keypointType': bp,\n",
    "                    'xFrame': x_new,\n",
    "                    'yFrame': y_new,\n",
    "                })\n",
    "\n",
    "        ann_u_rs.append(ann_u_r)\n",
    "        \n",
    "\n",
    "    camera_metadata = {\n",
    "        'focalLengthPixel': stereo_params_n['CameraParameters1']['FocalLength'][0],\n",
    "        'baseline': abs(stereo_params_n['TranslationOfCamera2'][0] / 1e3),\n",
    "        'focalLength': stereo_params_n['CameraParameters1']['FocalLength'][0] * 3.45e-6,\n",
    "        'pixelCountWidth': 4096,\n",
    "        'pixelCountHeight': 3000,\n",
    "        'imageSensorWidth': 0.01412,\n",
    "        'imageSensorHeight': 0.01035\n",
    "    }\n",
    "\n",
    "\n",
    "\n",
    "    annotated_df['ann_u_r'] = ann_u_rs\n",
    "    "
   ]
  },
  {
   "cell_type": "code",
   "execution_count": null,
   "metadata": {},
   "outputs": [],
   "source": []
  },
  {
   "cell_type": "code",
   "execution_count": null,
   "metadata": {},
   "outputs": [],
   "source": []
  },
  {
   "cell_type": "code",
   "execution_count": null,
   "metadata": {},
   "outputs": [],
   "source": [
    "stereo_param_dict"
   ]
  },
  {
   "cell_type": "code",
   "execution_count": null,
   "metadata": {},
   "outputs": [],
   "source": [
    "stereo_param_dict = {\n",
    "    'pre-swap': ('https://aquabyte-stereo-parameters.s3-eu-west-1.amazonaws.com/L40029797_R40020184/2021-02-25T11:30:42.149694000Z_L40029797_R40020184_stereo-parameters.json', \n",
    "                 'https://aquabyte-stereo-parameters.s3-eu-west-1.amazonaws.com/L40029797_R40020184/2021-02-25T11:30:42.149694000Z_L40029797_R40020184_stereo-parameters.json'),\n",
    "    'post-swap': ('https://aquabyte-abc.s3-eu-west-1.amazonaws.com/rook/2021-03-10T13%3A57%3A48Z-pfe-1421920048928-187-4bd8/cal_output/2021-03-10T14-07-03.821272000Z/stereo_params.json'.replace('%3A', ':'),\n",
    "                  'https://aquabyte-abc.s3-eu-west-1.amazonaws.com/rook/2021-03-10T13%3A57%3A48Z-pfe-1421920048928-187-4bd8/cal_output/2021-03-10T14-07-03.821272000Z/stereo_params.json'.replace('%3A', ':')),\n",
    "    'other': ('https://aquabyte-stereo-parameters.s3-eu-west-1.amazonaws.com/L40020313_R40013177/2021-02-25T12%3A11%3A24.770071000Z_L40020313_R40013177_stereo-parameters.json'.replace('%3A', ':'), \n",
    "              'https://aquabyte-stereo-parameters.s3-eu-west-1.amazonaws.com/L40020313_R40013177/2021-02-25T12%3A11%3A24.770071000Z_L40020313_R40013177_stereo-parameters.json'.replace('%3A', ':'))\n",
    "}\n",
    "\n",
    "\n",
    "for k, v in df_dict.items():\n",
    "    add_anns(v)\n",
    "    _add_depth(v)\n",
    "    stereo_parameters_o_url, stereo_parameters_n_url = stereo_param_dict[k]\n",
    "    un_re_rectify(v, stereo_parameters_o_url, stereo_parameters_n_url)\n"
   ]
  },
  {
   "cell_type": "code",
   "execution_count": null,
   "metadata": {},
   "outputs": [],
   "source": []
  },
  {
   "cell_type": "markdown",
   "metadata": {},
   "source": [
    "<h1> Conduct pairwise distance comparison </h1>"
   ]
  },
  {
   "cell_type": "code",
   "execution_count": null,
   "metadata": {},
   "outputs": [],
   "source": []
  },
  {
   "cell_type": "code",
   "execution_count": null,
   "metadata": {},
   "outputs": [],
   "source": [
    "def convert_to_world_point_arr(X_left: np.ndarray, X_right: np.ndarray,\n",
    "                               camera_metadata: CameraMetadata) -> np.ndarray:\n",
    "    \"\"\"Converts input left and right normalized keypoint arrays into world coordinate array.\"\"\"\n",
    "\n",
    "    y_world = camera_metadata.focal_length_pixel * camera_metadata.baseline_m / \\\n",
    "              (X_left[:, 0] - X_right[:, 0])\n",
    "    \n",
    "#     x_world = (((X_left[:, 0] - camera_metadata.pixel_count_width / 2.0) * camera_metadata.image_sensor_width / camera_metadata.pixel_count_width) * y_world) / (camera_metadata.focal_length)\n",
    "#     z_world = (-((X_left[:, 1] - camera_metadata.pixel_count_height / 2.0) * camera_metadata.image_sensor_height / camera_metadata.pixel_count_height) * y_world) / (camera_metadata.focal_length)\n",
    "    x_world = (((X_left[:, 0]) * camera_metadata.image_sensor_width / camera_metadata.pixel_count_width) * y_world) / (camera_metadata.focal_length)\n",
    "    z_world = (-((X_left[:, 1]) * camera_metadata.image_sensor_height / camera_metadata.pixel_count_height) * y_world) / (camera_metadata.focal_length)\n",
    "    X_world = np.vstack([x_world, y_world, z_world]).T\n",
    "    return X_world"
   ]
  },
  {
   "cell_type": "code",
   "execution_count": null,
   "metadata": {},
   "outputs": [],
   "source": [
    "def convert_to_world_point_arr_2(X_left: np.ndarray, X_right: np.ndarray,\n",
    "                               camera_metadata: CameraMetadata) -> np.ndarray:\n",
    "    \"\"\"Converts input left and right normalized keypoint arrays into world coordinate array.\"\"\"\n",
    "\n",
    "    y_world = camera_metadata.focal_length_pixel * camera_metadata.baseline_m / \\\n",
    "              (X_left[:, 0] - X_right[:, 0])\n",
    "    \n",
    "    x_world = (((X_left[:, 0] - camera_metadata.pixel_count_width / 2.0) * camera_metadata.image_sensor_width / camera_metadata.pixel_count_width) * y_world) / (camera_metadata.focal_length)\n",
    "    z_world = (-((X_left[:, 1] - camera_metadata.pixel_count_height / 2.0) * camera_metadata.image_sensor_height / camera_metadata.pixel_count_height) * y_world) / (camera_metadata.focal_length)\n",
    "#     x_world = (((X_left[:, 0]) * camera_metadata.image_sensor_width / camera_metadata.pixel_count_width) * y_world) / (camera_metadata.focal_length)\n",
    "#     z_world = (-((X_left[:, 1]) * camera_metadata.image_sensor_height / camera_metadata.pixel_count_height) * y_world) / (camera_metadata.focal_length)\n",
    "    X_world = np.vstack([x_world, y_world, z_world]).T\n",
    "    return X_world"
   ]
  },
  {
   "cell_type": "code",
   "execution_count": null,
   "metadata": {},
   "outputs": [],
   "source": []
  },
  {
   "cell_type": "code",
   "execution_count": null,
   "metadata": {},
   "outputs": [],
   "source": [
    "X_w_dict = {}\n",
    "for key, df in df_dict.items():\n",
    "    tdf = df[~df.ann.isnull()]\n",
    "    \n",
    "    X_w = []\n",
    "    for idx, row in tdf.iterrows():\n",
    "        cm = json.loads(row.camera_metadata)\n",
    "        camera_metadata = CameraMetadata(\n",
    "            focal_length=cm['focalLength'],\n",
    "            focal_length_pixel=cm['focalLengthPixel'],\n",
    "            baseline_m=cm['baseline'],\n",
    "            pixel_count_width=cm['pixelCountWidth'],\n",
    "            pixel_count_height=cm['pixelCountHeight'],\n",
    "            image_sensor_width=cm['imageSensorWidth'],\n",
    "            image_sensor_height=cm['imageSensorHeight']\n",
    "        )\n",
    "        \n",
    "        X_left, X_right = get_left_right_keypoint_arrs(row.ann)\n",
    "        X_left, X_right = normalize_left_right_keypoint_arrs(X_left, X_right)\n",
    "        X_world = convert_to_world_point_arr(X_left, X_right, camera_metadata)\n",
    "        X_w.append(X_world)\n",
    "        \n",
    "    X_w_dict[key] = np.array(X_w)\n",
    "        "
   ]
  },
  {
   "cell_type": "code",
   "execution_count": null,
   "metadata": {},
   "outputs": [],
   "source": [
    "from scipy.spatial.distance import pdist\n",
    "\n",
    "dist_arr_dict = {}\n",
    "for key, _ in df_dict.items():\n",
    "    dist_arr = []\n",
    "    for idx in range(X_w_dict[key].shape[0]):\n",
    "        dist_arr.append(pdist(X_w_dict[key][idx]))\n",
    "    \n",
    "    dist_arr = np.array(dist_arr)\n",
    "    dist_arr_dict[key] = dist_arr"
   ]
  },
  {
   "cell_type": "code",
   "execution_count": null,
   "metadata": {},
   "outputs": [],
   "source": [
    "np.median(dist_arr_dict['pre-swap'], axis=0)"
   ]
  },
  {
   "cell_type": "code",
   "execution_count": null,
   "metadata": {},
   "outputs": [],
   "source": [
    "np.median(dist_arr_dict['post-swap'], axis=0)"
   ]
  },
  {
   "cell_type": "code",
   "execution_count": null,
   "metadata": {},
   "outputs": [],
   "source": [
    "np.median(dist_arr_dict['other'], axis=0)"
   ]
  },
  {
   "cell_type": "code",
   "execution_count": null,
   "metadata": {},
   "outputs": [],
   "source": []
  },
  {
   "cell_type": "code",
   "execution_count": null,
   "metadata": {},
   "outputs": [],
   "source": [
    "lengths, angles = [], []\n",
    "for X_w in X_w_dict['pre-swap']:\n",
    "    v = X_w[0] - X_w[1]\n",
    "    length = np.linalg.norm(v)\n",
    "    angle = np.arctan(v[1] / v[2]) * 180.0 / np.pi\n",
    "    lengths.append(length)\n",
    "    angles.append(angle)\n",
    "    "
   ]
  },
  {
   "cell_type": "code",
   "execution_count": null,
   "metadata": {},
   "outputs": [],
   "source": [
    "plt.scatter(angles, lengths)"
   ]
  },
  {
   "cell_type": "code",
   "execution_count": null,
   "metadata": {},
   "outputs": [],
   "source": [
    "lengths, angles = [], []\n",
    "for X_w in X_w_dict['other']:\n",
    "    v = X_w[0] - X_w[1]\n",
    "    length = np.linalg.norm(v)\n",
    "    angle = np.arctan(v[1] / v[2]) * 180.0 / np.pi\n",
    "    lengths.append(length)\n",
    "    angles.append(angle)\n",
    "    "
   ]
  },
  {
   "cell_type": "code",
   "execution_count": null,
   "metadata": {},
   "outputs": [],
   "source": [
    "plt.scatter(angles, lengths)"
   ]
  },
  {
   "cell_type": "code",
   "execution_count": null,
   "metadata": {},
   "outputs": [],
   "source": [
    "import pandas as pd\n",
    "kdf = pd.DataFrame({'angle': angles, 'length': lengths})"
   ]
  },
  {
   "cell_type": "code",
   "execution_count": null,
   "metadata": {},
   "outputs": [],
   "source": [
    "kdf[kdf.angle < 20].length.median()"
   ]
  },
  {
   "cell_type": "code",
   "execution_count": null,
   "metadata": {},
   "outputs": [],
   "source": []
  },
  {
   "cell_type": "code",
   "execution_count": null,
   "metadata": {},
   "outputs": [],
   "source": []
  },
  {
   "cell_type": "code",
   "execution_count": null,
   "metadata": {},
   "outputs": [],
   "source": [
    "X_w_dict_2 = {}\n",
    "for key, df in df_dict.items():\n",
    "    tdf = df[~df.ann.isnull()]\n",
    "    \n",
    "    X_w = []\n",
    "    for idx, row in tdf.iterrows():\n",
    "        cm = json.loads(row.camera_metadata)\n",
    "        camera_metadata = CameraMetadata(\n",
    "            focal_length=cm['focalLength'],\n",
    "            focal_length_pixel=cm['focalLengthPixel'],\n",
    "            baseline_m=cm['baseline'],\n",
    "            pixel_count_width=cm['pixelCountWidth'],\n",
    "            pixel_count_height=cm['pixelCountHeight'],\n",
    "            image_sensor_width=cm['imageSensorWidth'],\n",
    "            image_sensor_height=cm['imageSensorHeight']\n",
    "        )\n",
    "        \n",
    "        X_left, X_right = get_left_right_keypoint_arrs(row.ann)\n",
    "        X_world = convert_to_world_point_arr_2(X_left, X_right, camera_metadata)\n",
    "        X_w.append(X_world)\n",
    "        \n",
    "    X_w_dict_2[key] = np.array(X_w)\n",
    "        "
   ]
  },
  {
   "cell_type": "code",
   "execution_count": null,
   "metadata": {},
   "outputs": [],
   "source": [
    "from scipy.spatial.distance import pdist\n",
    "\n",
    "dist_arr_dict_2 = {}\n",
    "for key, _ in df_dict.items():\n",
    "    dist_arr = []\n",
    "    for idx in range(X_w_dict_2[key].shape[0]):\n",
    "        dist_arr.append(pdist(X_w_dict_2[key][idx]))\n",
    "    \n",
    "    dist_arr = np.array(dist_arr)\n",
    "    dist_arr_dict_2[key] = dist_arr"
   ]
  },
  {
   "cell_type": "code",
   "execution_count": null,
   "metadata": {},
   "outputs": [],
   "source": [
    "np.mean(dist_arr_dict_2['pre-swap'], axis=0)"
   ]
  },
  {
   "cell_type": "code",
   "execution_count": null,
   "metadata": {},
   "outputs": [],
   "source": [
    "np.mean(dist_arr_dict_2['post-swap'], axis=0)"
   ]
  },
  {
   "cell_type": "code",
   "execution_count": null,
   "metadata": {},
   "outputs": [],
   "source": [
    "np.mean(dist_arr_dict_2['other'], axis=0)"
   ]
  },
  {
   "cell_type": "code",
   "execution_count": null,
   "metadata": {},
   "outputs": [],
   "source": []
  },
  {
   "cell_type": "code",
   "execution_count": null,
   "metadata": {},
   "outputs": [],
   "source": []
  },
  {
   "cell_type": "markdown",
   "metadata": {},
   "source": [
    "<h1> Hone in on single case </h1>"
   ]
  },
  {
   "cell_type": "code",
   "execution_count": null,
   "metadata": {},
   "outputs": [],
   "source": [
    "from typing import Dict, List, Tuple\n",
    "\n",
    "def get_camera_metadata_from_cm(cm):\n",
    "    camera_metadata = CameraMetadata(\n",
    "        focal_length=cm['focalLength'],\n",
    "        focal_length_pixel=cm['focalLengthPixel'],\n",
    "        baseline_m=cm['baseline'],\n",
    "        pixel_count_width=cm['pixelCountWidth'],\n",
    "        pixel_count_height=cm['pixelCountHeight'],\n",
    "        image_sensor_width=cm['imageSensorWidth'],\n",
    "        image_sensor_height=cm['imageSensorHeight']\n",
    "    )\n",
    "    \n",
    "    return camera_metadata\n",
    "    \n",
    "\n",
    "def normalize_left_right_keypoint_arrs(X_left: np.ndarray, X_right: np.ndarray) -> Tuple:\n",
    "    \"\"\"Normalizes input left and right key-point arrays. The normalization involves (1) 2D\n",
    "    translation of all keypoints such that they are centered, (2) rotation of the 2D coordiantes\n",
    "    about the center such that the line passing through UPPER_LIP and fish center is horizontal.\n",
    "    \"\"\"\n",
    "\n",
    "    # translate key-points, perform reflection if necessary\n",
    "    upper_lip_idx = body_parts.core_body_parts.index(body_parts.UPPER_LIP)\n",
    "    tail_notch_idx = body_parts.core_body_parts.index(body_parts.TAIL_NOTCH)\n",
    "    if X_left[upper_lip_idx, 0] > X_left[tail_notch_idx, 0]:\n",
    "        X_center = 0.5 * (np.max(X_left, axis=0) + np.min(X_left, axis=0))\n",
    "        X_left_centered = X_left - X_center\n",
    "        X_right_centered = X_right - X_center\n",
    "    else:\n",
    "        X_center = 0.5 * (np.max(X_right, axis=0) + np.min(X_right, axis=0))\n",
    "        X_left_centered = X_right - X_center\n",
    "        X_right_centered = X_left - X_center\n",
    "        X_left_centered[:, 0] = -X_left_centered[:, 0]\n",
    "        X_right_centered[:, 0] = -X_right_centered[:, 0]\n",
    "        \n",
    "    return X_left_centered, X_right_centered\n",
    "\n",
    "#     # rotate key-points\n",
    "#     upper_lip_x, upper_lip_y = tuple(X_left_centered[upper_lip_idx])\n",
    "#     theta = np.arctan(upper_lip_y / upper_lip_x)\n",
    "#     R = np.array([\n",
    "#         [np.cos(theta), -np.sin(theta)],\n",
    "#         [np.sin(theta), np.cos(theta)]\n",
    "#     ])\n",
    "\n",
    "#     D = X_left_centered - X_right_centered\n",
    "#     X_left_rot = np.dot(X_left_centered, R)\n",
    "#     X_right_rot = X_left_rot - D\n",
    "#     return X_left_rot, X_right_rot\n",
    "\n",
    "    \n",
    "    "
   ]
  },
  {
   "cell_type": "code",
   "execution_count": null,
   "metadata": {},
   "outputs": [],
   "source": [
    "idx = 0\n",
    "ann = df_dict['pre-swap'].ann.dropna().iloc[idx]\n",
    "cm = json.loads(df_dict['pre-swap'].camera_metadata.dropna().iloc[idx])\n",
    "camera_metadata = get_camera_metadata_from_cm(cm)\n",
    "X_left, X_right = get_left_right_keypoint_arrs(ann)\n",
    "X_w = convert_to_world_point_arr(X_left, X_right, camera_metadata)\n",
    "X_left_norm, X_right_norm = normalize_left_right_keypoint_arrs(X_left, X_right)\n",
    "X_w_norm = convert_to_world_point_arr(X_left_norm, X_right_norm, camera_metadata)\n",
    "\n",
    "print(pdist(X_w_norm) - pdist(X_w))\n"
   ]
  },
  {
   "cell_type": "code",
   "execution_count": null,
   "metadata": {},
   "outputs": [],
   "source": [
    "X_left, X_right"
   ]
  },
  {
   "cell_type": "code",
   "execution_count": null,
   "metadata": {},
   "outputs": [],
   "source": [
    "X_left_norm, X_right_norm"
   ]
  },
  {
   "cell_type": "code",
   "execution_count": null,
   "metadata": {},
   "outputs": [],
   "source": []
  },
  {
   "cell_type": "code",
   "execution_count": null,
   "metadata": {},
   "outputs": [],
   "source": []
  },
  {
   "cell_type": "code",
   "execution_count": null,
   "metadata": {},
   "outputs": [],
   "source": []
  },
  {
   "cell_type": "code",
   "execution_count": null,
   "metadata": {},
   "outputs": [],
   "source": [
    "X_w_dict['pre-swap'][0]"
   ]
  },
  {
   "cell_type": "code",
   "execution_count": null,
   "metadata": {},
   "outputs": [],
   "source": [
    "X_w_dict_2['pre-swap'][0]"
   ]
  },
  {
   "cell_type": "code",
   "execution_count": null,
   "metadata": {},
   "outputs": [],
   "source": [
    "np.linalg.norm(X_w_dict['pre-swap'][0] - X_w_dict['pre-swap'][4])"
   ]
  },
  {
   "cell_type": "code",
   "execution_count": null,
   "metadata": {},
   "outputs": [],
   "source": [
    "np.linalg.norm(X_w_dict_2['pre-swap'][0] - X_w_dict_2['pre-swap'][4])"
   ]
  },
  {
   "cell_type": "code",
   "execution_count": null,
   "metadata": {},
   "outputs": [],
   "source": []
  },
  {
   "cell_type": "code",
   "execution_count": null,
   "metadata": {},
   "outputs": [],
   "source": []
  },
  {
   "cell_type": "code",
   "execution_count": null,
   "metadata": {},
   "outputs": [],
   "source": []
  },
  {
   "cell_type": "code",
   "execution_count": null,
   "metadata": {},
   "outputs": [],
   "source": []
  },
  {
   "cell_type": "code",
   "execution_count": null,
   "metadata": {},
   "outputs": [],
   "source": []
  },
  {
   "cell_type": "code",
   "execution_count": null,
   "metadata": {},
   "outputs": [],
   "source": []
  },
  {
   "cell_type": "code",
   "execution_count": null,
   "metadata": {},
   "outputs": [],
   "source": []
  },
  {
   "cell_type": "code",
   "execution_count": null,
   "metadata": {},
   "outputs": [],
   "source": []
  },
  {
   "cell_type": "code",
   "execution_count": null,
   "metadata": {},
   "outputs": [],
   "source": []
  },
  {
   "cell_type": "code",
   "execution_count": null,
   "metadata": {},
   "outputs": [],
   "source": []
  },
  {
   "cell_type": "code",
   "execution_count": null,
   "metadata": {},
   "outputs": [],
   "source": []
  },
  {
   "cell_type": "code",
   "execution_count": null,
   "metadata": {},
   "outputs": [],
   "source": []
  },
  {
   "cell_type": "code",
   "execution_count": null,
   "metadata": {},
   "outputs": [],
   "source": []
  },
  {
   "cell_type": "code",
   "execution_count": null,
   "metadata": {},
   "outputs": [],
   "source": []
  },
  {
   "cell_type": "code",
   "execution_count": null,
   "metadata": {},
   "outputs": [],
   "source": []
  },
  {
   "cell_type": "code",
   "execution_count": null,
   "metadata": {},
   "outputs": [],
   "source": [
    "plt.figure(figsize=(10, 5))\n",
    "plt.hist(dist_arr_dict['other'][:, 0])\n",
    "plt.grid()\n",
    "plt.show()"
   ]
  },
  {
   "cell_type": "code",
   "execution_count": null,
   "metadata": {},
   "outputs": [],
   "source": [
    "plt.figure(figsize=(10, 5))\n",
    "plt.hist(dist_arr_dict['other'][:, -1])\n",
    "plt.grid()\n",
    "plt.show()"
   ]
  },
  {
   "cell_type": "code",
   "execution_count": null,
   "metadata": {},
   "outputs": [],
   "source": []
  },
  {
   "cell_type": "code",
   "execution_count": null,
   "metadata": {},
   "outputs": [],
   "source": [
    "core_body_parts"
   ]
  },
  {
   "cell_type": "code",
   "execution_count": null,
   "metadata": {},
   "outputs": [],
   "source": []
  },
  {
   "cell_type": "code",
   "execution_count": null,
   "metadata": {},
   "outputs": [],
   "source": []
  },
  {
   "cell_type": "code",
   "execution_count": null,
   "metadata": {},
   "outputs": [],
   "source": []
  },
  {
   "cell_type": "code",
   "execution_count": null,
   "metadata": {},
   "outputs": [],
   "source": []
  },
  {
   "cell_type": "code",
   "execution_count": null,
   "metadata": {},
   "outputs": [],
   "source": []
  },
  {
   "cell_type": "code",
   "execution_count": null,
   "metadata": {},
   "outputs": [],
   "source": []
  },
  {
   "cell_type": "code",
   "execution_count": null,
   "metadata": {},
   "outputs": [],
   "source": []
  },
  {
   "cell_type": "code",
   "execution_count": null,
   "metadata": {},
   "outputs": [],
   "source": [
    "np.mean(dist_arr_dict['post-swap'], axis=0) - np.mean(dist_arr_dict['pre-swap'], axis=0)"
   ]
  },
  {
   "cell_type": "code",
   "execution_count": null,
   "metadata": {},
   "outputs": [],
   "source": [
    "np.mean(dist_arr_dict['other'], axis=0) - np.mean(dist_arr_dict['pre-swap'], axis=0)"
   ]
  },
  {
   "cell_type": "code",
   "execution_count": null,
   "metadata": {},
   "outputs": [],
   "source": []
  },
  {
   "cell_type": "code",
   "execution_count": null,
   "metadata": {},
   "outputs": [],
   "source": []
  },
  {
   "cell_type": "code",
   "execution_count": null,
   "metadata": {},
   "outputs": [],
   "source": []
  },
  {
   "cell_type": "code",
   "execution_count": null,
   "metadata": {},
   "outputs": [],
   "source": []
  },
  {
   "cell_type": "code",
   "execution_count": null,
   "metadata": {},
   "outputs": [],
   "source": []
  },
  {
   "cell_type": "code",
   "execution_count": null,
   "metadata": {},
   "outputs": [],
   "source": []
  },
  {
   "cell_type": "code",
   "execution_count": null,
   "metadata": {},
   "outputs": [],
   "source": [
    "from weight_estimation.weight_estimator import WeightEstimator, CameraMetadata\n",
    "\n",
    "weight_model_f, _, _ = s3.download_from_url('https://aquabyte-models.s3-us-west-1.amazonaws.com/biomass/trained_models/2020-11-27T00-00-00/weight_model_synthetic_data.pb')\n",
    "kf_model_f, _, _ = s3.download_from_url('https://aquabyte-models.s3-us-west-1.amazonaws.com/k-factor/trained_models/2020-08-08T000000/kf_predictor_v2.pb')\n",
    "weight_estimator = WeightEstimator(weight_model_f, kf_model_f)\n",
    "\n",
    "pred_weights = []\n",
    "\n",
    "count = 0\n",
    "for idx, row in df_dict['pre-swap'].iterrows():\n",
    "    ann = row.ann\n",
    "    camera_metadata = json.loads(row.camera_metadata)\n",
    "    if ann is not None:\n",
    "        cm = CameraMetadata(\n",
    "            focal_length=camera_metadata['focalLength'],\n",
    "            focal_length_pixel=camera_metadata['focalLengthPixel'],\n",
    "            baseline_m=camera_metadata['baseline'],\n",
    "            pixel_count_width=camera_metadata['pixelCountWidth'],\n",
    "            pixel_count_height=camera_metadata['pixelCountHeight'],\n",
    "            image_sensor_width=camera_metadata['imageSensorWidth'],\n",
    "            image_sensor_height=camera_metadata['imageSensorHeight']\n",
    "        )\n",
    "\n",
    "        weight, _, _ = weight_estimator.predict(ann, cm)\n",
    "        pred_weights.append(weight)\n",
    "    else:\n",
    "        pred_weights.append(None)\n",
    "    \n",
    "    if count % 1000 == 0:\n",
    "        print(count)\n",
    "    count += 1\n",
    "    "
   ]
  },
  {
   "cell_type": "code",
   "execution_count": null,
   "metadata": {},
   "outputs": [],
   "source": [
    "df_dict['pre-swap']['weight'] = pred_weights"
   ]
  },
  {
   "cell_type": "code",
   "execution_count": null,
   "metadata": {},
   "outputs": [],
   "source": [
    "plt.scatter(df_dict['other'].roll, df_dict['other'].weight)"
   ]
  },
  {
   "cell_type": "code",
   "execution_count": null,
   "metadata": {},
   "outputs": [],
   "source": [
    "plt.scatter(df_dict['pre-swap'].roll, df_dict['pre-swap'].weight)"
   ]
  },
  {
   "cell_type": "code",
   "execution_count": null,
   "metadata": {},
   "outputs": [],
   "source": [
    "mask = df_dict['other'].roll > 20\n",
    "df_dict['other'][mask].weight.mean()"
   ]
  },
  {
   "cell_type": "code",
   "execution_count": null,
   "metadata": {},
   "outputs": [],
   "source": []
  },
  {
   "cell_type": "code",
   "execution_count": null,
   "metadata": {},
   "outputs": [],
   "source": [
    "plt.scatter(df_dict['other'].roll, df_dict['other'].weight)"
   ]
  },
  {
   "cell_type": "code",
   "execution_count": null,
   "metadata": {},
   "outputs": [],
   "source": []
  },
  {
   "cell_type": "code",
   "execution_count": null,
   "metadata": {},
   "outputs": [],
   "source": []
  },
  {
   "cell_type": "code",
   "execution_count": null,
   "metadata": {},
   "outputs": [],
   "source": []
  },
  {
   "cell_type": "code",
   "execution_count": null,
   "metadata": {},
   "outputs": [],
   "source": []
  },
  {
   "cell_type": "code",
   "execution_count": null,
   "metadata": {},
   "outputs": [],
   "source": []
  }
 ],
 "metadata": {
  "kernelspec": {
   "display_name": "Python 3",
   "language": "python",
   "name": "python3"
  },
  "language_info": {
   "codemirror_mode": {
    "name": "ipython",
    "version": 3
   },
   "file_extension": ".py",
   "mimetype": "text/x-python",
   "name": "python",
   "nbconvert_exporter": "python",
   "pygments_lexer": "ipython3",
   "version": "3.6.5"
  }
 },
 "nbformat": 4,
 "nbformat_minor": 2
}
