{
 "cells": [
  {
   "cell_type": "code",
   "execution_count": null,
   "metadata": {},
   "outputs": [],
   "source": [
    "from collections import defaultdict\n",
    "import numpy as np\n",
    "import random\n",
    "from matplotlib import pyplot as plt\n",
    "import pandas as pd\n",
    "import plotly.express as px"
   ]
  },
  {
   "cell_type": "code",
   "execution_count": null,
   "metadata": {},
   "outputs": [],
   "source": []
  },
  {
   "cell_type": "markdown",
   "metadata": {},
   "source": [
    "<h1> Fish Simulation </h1>"
   ]
  },
  {
   "cell_type": "code",
   "execution_count": null,
   "metadata": {},
   "outputs": [],
   "source": [
    "def length_from_weight(weight):\n",
    "    return (weight**(1/3.0)) / 2.36068 * random.gauss(1.0, 0.05)\n",
    "\n",
    "class Fish:\n",
    "    \n",
    "    def __init__(self, weight_mean, weight_std, speed_factor_mean, speed_factor_std, \n",
    "                 min_depth, max_depth, max_y_coordinate=3.0):\n",
    "        self.weight = max(random.gauss(weight_mean, weight_std), 0.1)\n",
    "        self.length = length_from_weight(self.weight)\n",
    "        self.height = 0.3 * self.length\n",
    "        self.depth = random.uniform(min_depth, max_depth)\n",
    "        self.speed = self.length * random.gauss(speed_factor_mean, speed_factor_std)\n",
    "        self.is_sampled = False\n",
    "        self.position = [-10, self.depth, random.uniform(-max_y_coordinate, max_y_coordinate)]\n",
    "        \n",
    "    def update_position(self, delta_t):\n",
    "        delta_x = self.speed * delta_t\n",
    "        self.position[0] += delta_x\n",
    "        \n",
    "    def get_position(self):\n",
    "        return self.position\n",
    "        \n",
    "        \n",
    "class Camera:\n",
    "    \n",
    "    def __init__(self, position, fov_degrees, aspect_ratio=0.75):\n",
    "        self.position = position\n",
    "        self.fov = fov_degrees * np.pi / 180.0\n",
    "        self.vfov = 2 * np.arctan(np.tan(self.fov / 2) * aspect_ratio)\n",
    "        self.pixel_width = 1000\n",
    "        self.pixel_height = int(self.pixel_width * aspect_ratio)\n",
    "        self.focal_length_pixel = (self.pixel_width / 2) / np.tan(self.fov / 2)\n",
    "        \n",
    "    @staticmethod\n",
    "    def gen_p_capture(depth, a=1.0, b=2.5, default_p=1.0):\n",
    "        if depth < a:\n",
    "            return default_p\n",
    "        else:\n",
    "            return max(default_p * (b - depth) / (b - a), 0)\n",
    "        \n",
    "    def contains(self, fish):\n",
    "        fish_position = fish.get_position()\n",
    "        fish_segment_at_depth = (fish_position[0] - fish.length / 2.0, fish_position[0] + fish.length / 2.0)\n",
    "        field_size = 2 * fish_position[1] * np.tan(self.fov / 2.0)\n",
    "        field_center = self.position[0]\n",
    "        field_segment_at_depth = (field_center - field_size / 2.0, field_center + field_size / 2.0)\n",
    "        inside_horizontal_field = (fish_segment_at_depth[0] > field_segment_at_depth[0]) and \\\n",
    "            (fish_segment_at_depth[1] < field_segment_at_depth[1])\n",
    "        \n",
    "        vertical_fish_segment_at_depth = (fish_position[2] - fish.height / 2.0, fish_position[2] + fish.height / 2.0)\n",
    "        vertical_field_segment_at_depth = (-fish_position[1] * np.tan(self.vfov / 2.0), fish_position[1] * np.tan(self.vfov / 2.0))\n",
    "        inside_vertical_field = (vertical_fish_segment_at_depth[0] > vertical_field_segment_at_depth[0]) and \\\n",
    "            (vertical_fish_segment_at_depth[1] < vertical_field_segment_at_depth[1])\n",
    "        \n",
    "        if inside_horizontal_field and inside_vertical_field:\n",
    "            return random.random() < self.gen_p_capture(fish_position[1])\n",
    "        return False\n",
    "        \n"
   ]
  },
  {
   "cell_type": "code",
   "execution_count": null,
   "metadata": {},
   "outputs": [],
   "source": []
  },
  {
   "cell_type": "code",
   "execution_count": null,
   "metadata": {},
   "outputs": [],
   "source": []
  },
  {
   "cell_type": "code",
   "execution_count": null,
   "metadata": {},
   "outputs": [],
   "source": [
    "from matplotlib.colors import Normalize\n",
    "from matplotlib import cm\n",
    "from PIL import Image, ImageDraw\n",
    "\n",
    "sm = cm.ScalarMappable(cmap=cm.get_cmap('Reds'), norm=Normalize(vmin=0.3, vmax=3.0))\n",
    "\n",
    "def spawn_fish(fishes):\n",
    "    fish = Fish(5.0, 0.8, 0.9, 0.05, 0.3, 3.0)\n",
    "    fishes.append(fish)\n",
    "    \n",
    "    \n",
    "def move_fish(t, t_new, fishes):\n",
    "    delta_t = t_new - t\n",
    "    for fish in fishes:\n",
    "        fish.update_position(delta_t)\n",
    "        \n",
    "    fishes = [fish for fish in fishes if fish.get_position()[0] < 10.0]\n",
    "    return fishes\n",
    "    \n",
    "\n",
    "def check_if_fully_visible(fish, left_camera, right_camera):\n",
    "    return left_camera.contains(fish) and right_camera.contains(fish)\n",
    "    \n",
    "    \n",
    "def trigger_capture(fishes, sampled_fishes, left_camera, right_camera, remove_dups=True):\n",
    "    for fish in fishes:\n",
    "        is_visible = check_if_fully_visible(fish, left_camera, right_camera)\n",
    "        if is_visible:\n",
    "            fish.is_sampled = True\n",
    "            sampled_fishes.append(fish)\n",
    "            \n",
    "    if remove_dups:\n",
    "        fishes = [fish for fish in fishes if fish.is_sampled == False]\n",
    "    return fishes\n",
    "            \n",
    "    \n",
    "\n",
    "def get_pixel_bbox(fish, camera):\n",
    "    x_pixel = fish.position[0] * camera.focal_length_pixel / fish.position[1] + camera.pixel_width / 2.0\n",
    "    y_pixel = -(fish.position[2] * camera.focal_length_pixel / fish.position[1]) + camera.pixel_height / 2.0\n",
    "    length_pixel = fish.length * camera.focal_length_pixel / fish.position[1]\n",
    "    height_pixel = fish.height * camera.focal_length_pixel / fish.position[1]\n",
    "    bbox = [x_pixel-length_pixel/2.0, y_pixel-height_pixel/2.0, x_pixel+length_pixel/2.0, y_pixel+height_pixel/2.0]\n",
    "    return [int(x) for x in bbox]\n",
    "    \n",
    "    \n",
    "def draw_frame(fishes, left_camera, right_camera):\n",
    "    im = Image.new('RGB', (left_camera.pixel_width, left_camera.pixel_height))\n",
    "    draw = ImageDraw.Draw(im)\n",
    "    for fish in reversed(sorted(fishes, key=lambda x: x.depth)):\n",
    "        bbox = get_pixel_bbox(fish, left_camera)\n",
    "        color = sm.to_rgba(fish.depth, bytes=True)\n",
    "        draw.ellipse(tuple(bbox), fill=color[:3])\n",
    "    return np.array(im)\n",
    "        \n",
    "    \n",
    "    \n"
   ]
  },
  {
   "cell_type": "code",
   "execution_count": null,
   "metadata": {},
   "outputs": [],
   "source": []
  },
  {
   "cell_type": "code",
   "execution_count": null,
   "metadata": {},
   "outputs": [],
   "source": []
  },
  {
   "cell_type": "code",
   "execution_count": null,
   "metadata": {},
   "outputs": [],
   "source": []
  },
  {
   "cell_type": "code",
   "execution_count": null,
   "metadata": {},
   "outputs": [],
   "source": [
    "def generate_samples(FOV, FPS, aspect_ratio=0.75):\n",
    "    fishes = []\n",
    "    sampled_fishes = []\n",
    "    left_camera = Camera((0, 0, 0), FOV, aspect_ratio=aspect_ratio)\n",
    "    right_camera = Camera((0.105, 0, 0), FOV, aspect_ratio=aspect_ratio)\n",
    "    print(left_camera.vfov)\n",
    "\n",
    "    capture_times = list(np.arange(0, 100000, 1.0 / FPS))\n",
    "    fish_spawn_times = list(np.cumsum(np.random.exponential(0.5, int(100000 * 0.18))))\n",
    "\n",
    "#     im_arrs = []\n",
    "    t = 0\n",
    "    while len(capture_times) > 0 and len(fish_spawn_times) > 0:\n",
    "        event_type = np.argmin([capture_times[0], fish_spawn_times[0]])\n",
    "        if event_type == 0:\n",
    "            t_new = capture_times[0]\n",
    "            fishes = move_fish(t, t_new, fishes)\n",
    "#             if 1000 < t_new < 1100:\n",
    "#                 im_arr = draw_frame(fishes, left_camera, right_camera)\n",
    "#                 im_arrs.append(im_arr)\n",
    "            fishes = trigger_capture(fishes, sampled_fishes, left_camera, right_camera, remove_dups=True)\n",
    "            t = t_new\n",
    "            del capture_times[0]\n",
    "        elif event_type == 1:\n",
    "            t_new = fish_spawn_times[0]\n",
    "            fishes = move_fish(t, t_new, fishes)\n",
    "            spawn_fish(fishes)\n",
    "            t = t_new\n",
    "            del fish_spawn_times[0]\n",
    "\n",
    "        if len(capture_times) % 100000 == 0:\n",
    "            print(len(capture_times))\n",
    "\n",
    "    return sampled_fishes\n"
   ]
  },
  {
   "cell_type": "code",
   "execution_count": null,
   "metadata": {},
   "outputs": [],
   "source": []
  },
  {
   "cell_type": "markdown",
   "metadata": {},
   "source": [
    "<h1> 4 kg </h1>"
   ]
  },
  {
   "cell_type": "code",
   "execution_count": null,
   "metadata": {},
   "outputs": [],
   "source": [
    "fishes = generate_samples(54, 0.6)"
   ]
  },
  {
   "cell_type": "code",
   "execution_count": null,
   "metadata": {},
   "outputs": [],
   "source": [
    "plt.hist([f.depth for f in fishes])"
   ]
  },
  {
   "cell_type": "code",
   "execution_count": null,
   "metadata": {},
   "outputs": [],
   "source": [
    "fishes_2 = generate_samples(80, 8.0)"
   ]
  },
  {
   "cell_type": "code",
   "execution_count": null,
   "metadata": {},
   "outputs": [],
   "source": [
    "plt.hist([f.depth for f in fishes_2])"
   ]
  },
  {
   "cell_type": "code",
   "execution_count": null,
   "metadata": {},
   "outputs": [],
   "source": []
  },
  {
   "cell_type": "code",
   "execution_count": null,
   "metadata": {},
   "outputs": [],
   "source": []
  },
  {
   "cell_type": "code",
   "execution_count": null,
   "metadata": {},
   "outputs": [],
   "source": [
    "working_distances = [0.6, 0.7, 0.8, 0.9, 1.0, 1.1, 1.2]\n",
    "depth_of_field = 0.4\n",
    "s1s, s2s = [], []\n",
    "\n",
    "for working_distance in working_distances:\n",
    "    lo, hi = working_distance - 0.5*depth_of_field, working_distance + 0.5*depth_of_field\n",
    "    s1 = len([f for f in fishes if f.depth > lo and f.depth < hi])\n",
    "    s2 = len([f for f in fishes_2 if f.depth > lo and f.depth < hi])\n",
    "    \n",
    "    s1s.append(s1)\n",
    "    s2s.append(s2)"
   ]
  },
  {
   "cell_type": "code",
   "execution_count": null,
   "metadata": {},
   "outputs": [],
   "source": [
    "[y / x if x > 0 else None for x, y in zip(s1s, s2s)]"
   ]
  },
  {
   "cell_type": "code",
   "execution_count": null,
   "metadata": {},
   "outputs": [],
   "source": []
  },
  {
   "cell_type": "code",
   "execution_count": null,
   "metadata": {},
   "outputs": [],
   "source": []
  },
  {
   "cell_type": "code",
   "execution_count": null,
   "metadata": {},
   "outputs": [],
   "source": []
  },
  {
   "cell_type": "code",
   "execution_count": null,
   "metadata": {},
   "outputs": [],
   "source": []
  },
  {
   "cell_type": "code",
   "execution_count": null,
   "metadata": {},
   "outputs": [],
   "source": []
  },
  {
   "cell_type": "code",
   "execution_count": null,
   "metadata": {},
   "outputs": [],
   "source": []
  },
  {
   "cell_type": "code",
   "execution_count": null,
   "metadata": {},
   "outputs": [],
   "source": []
  },
  {
   "cell_type": "code",
   "execution_count": null,
   "metadata": {},
   "outputs": [],
   "source": []
  },
  {
   "cell_type": "markdown",
   "metadata": {},
   "source": [
    "<h1> 5 kg </h1>"
   ]
  },
  {
   "cell_type": "code",
   "execution_count": null,
   "metadata": {},
   "outputs": [],
   "source": [
    "fishes = generate_samples(54, 0.6)"
   ]
  },
  {
   "cell_type": "code",
   "execution_count": null,
   "metadata": {},
   "outputs": [],
   "source": [
    "fishes_2 = generate_samples(80, 8.0)"
   ]
  },
  {
   "cell_type": "code",
   "execution_count": null,
   "metadata": {},
   "outputs": [],
   "source": [
    "working_distances = [0.6, 0.7, 0.8, 0.9, 1.0, 1.1, 1.2]\n",
    "depth_of_field = 0.4\n",
    "s1s, s2s = [], []\n",
    "\n",
    "for working_distance in working_distances:\n",
    "    lo, hi = working_distance - 0.5*depth_of_field, working_distance + 0.5*depth_of_field\n",
    "    s1 = len([f for f in fishes if f.depth > lo and f.depth < hi])\n",
    "    s2 = len([f for f in fishes_2 if f.depth > lo and f.depth < hi])\n",
    "    \n",
    "    s1s.append(s1)\n",
    "    s2s.append(s2)"
   ]
  },
  {
   "cell_type": "code",
   "execution_count": null,
   "metadata": {},
   "outputs": [],
   "source": [
    "[y / x for x, y in zip(s1s, s2s)]"
   ]
  },
  {
   "cell_type": "code",
   "execution_count": null,
   "metadata": {},
   "outputs": [],
   "source": [
    "plt.hist([f.depth for f in fishes])"
   ]
  },
  {
   "cell_type": "code",
   "execution_count": null,
   "metadata": {},
   "outputs": [],
   "source": []
  },
  {
   "cell_type": "code",
   "execution_count": null,
   "metadata": {},
   "outputs": [],
   "source": []
  },
  {
   "cell_type": "code",
   "execution_count": null,
   "metadata": {},
   "outputs": [],
   "source": []
  },
  {
   "cell_type": "code",
   "execution_count": null,
   "metadata": {},
   "outputs": [],
   "source": []
  },
  {
   "cell_type": "code",
   "execution_count": null,
   "metadata": {},
   "outputs": [],
   "source": []
  },
  {
   "cell_type": "code",
   "execution_count": null,
   "metadata": {},
   "outputs": [],
   "source": []
  },
  {
   "cell_type": "code",
   "execution_count": null,
   "metadata": {},
   "outputs": [],
   "source": []
  },
  {
   "cell_type": "code",
   "execution_count": null,
   "metadata": {},
   "outputs": [],
   "source": []
  },
  {
   "cell_type": "code",
   "execution_count": null,
   "metadata": {},
   "outputs": [],
   "source": []
  },
  {
   "cell_type": "code",
   "execution_count": null,
   "metadata": {},
   "outputs": [],
   "source": []
  },
  {
   "cell_type": "code",
   "execution_count": null,
   "metadata": {},
   "outputs": [],
   "source": []
  },
  {
   "cell_type": "code",
   "execution_count": null,
   "metadata": {},
   "outputs": [],
   "source": []
  },
  {
   "cell_type": "code",
   "execution_count": null,
   "metadata": {},
   "outputs": [],
   "source": []
  },
  {
   "cell_type": "code",
   "execution_count": null,
   "metadata": {},
   "outputs": [],
   "source": []
  },
  {
   "cell_type": "code",
   "execution_count": null,
   "metadata": {},
   "outputs": [],
   "source": []
  },
  {
   "cell_type": "code",
   "execution_count": null,
   "metadata": {},
   "outputs": [],
   "source": [
    "fs = []\n",
    "for idx, im_arr in enumerate(im_arrs):\n",
    "    im = Image.fromarray(im_arr)\n",
    "    f = '/root/data/alok/biomass_estimation/playground/fov_simulation_6/im_{}.jpg'.format(idx)\n",
    "    im.save(f)\n",
    "    fs.append(f)"
   ]
  },
  {
   "cell_type": "code",
   "execution_count": null,
   "metadata": {},
   "outputs": [],
   "source": [
    "import cv2\n",
    "\n",
    "def stitch_frames_into_video(image_fs, video_f):\n",
    "    im = cv2.imread(image_fs[0])\n",
    "    height, width, layers = im.shape\n",
    "    fourcc = cv2.VideoWriter_fourcc(*'XVID')\n",
    "    video = cv2.VideoWriter(video_f, fourcc, 4, (width, height), True)\n",
    "    for idx, image_f in enumerate(image_fs):\n",
    "        if idx % 1000 == 0:\n",
    "            print(idx)\n",
    "        im = cv2.imread(image_f, cv2.IMREAD_COLOR)\n",
    "        video.write(im)\n",
    "    cv2.destroyAllWindows()\n",
    "    video.release()"
   ]
  },
  {
   "cell_type": "code",
   "execution_count": null,
   "metadata": {},
   "outputs": [],
   "source": [
    "stitch_frames_into_video(image_fs, '/data/alok/biomass_estimation/playground/fov_simulation.avi')"
   ]
  },
  {
   "cell_type": "code",
   "execution_count": null,
   "metadata": {},
   "outputs": [],
   "source": [
    "[f.replace('/root', '') for f in fs]"
   ]
  },
  {
   "cell_type": "code",
   "execution_count": null,
   "metadata": {},
   "outputs": [],
   "source": []
  },
  {
   "cell_type": "code",
   "execution_count": null,
   "metadata": {},
   "outputs": [],
   "source": [
    "def generate_analysis_df(fov, fps, aspect_ratio=0.75):\n",
    "    sampled_fishes = generate_samples(fov, fps, aspect_ratio=aspect_ratio)\n",
    "    depth_cutoffs = list(np.arange(0.5, 2.5, 0.1))\n",
    "    depth_buckets, sample_sizes, pct_errors = [], [], []\n",
    "    for low_d, high_d in zip(depth_cutoffs, depth_cutoffs[1:]):\n",
    "        depth_bucket = '{}-{}'.format(round(low_d, 1), round(high_d, 1))\n",
    "        fish_subset = [fish for fish in sampled_fishes if low_d < fish.depth < high_d]\n",
    "        sample_size = len(fish_subset)\n",
    "        avg_weight = np.mean([fish.weight for fish in fish_subset])\n",
    "        pct_error = (avg_weight - 8) / 8\n",
    "\n",
    "        depth_buckets.append(depth_bucket)\n",
    "        sample_sizes.append(sample_size)\n",
    "        pct_errors.append(pct_error)\n",
    "\n",
    "    analysis_df = pd.DataFrame({\n",
    "        'depth_bucket': depth_buckets,\n",
    "        'sample_size': sample_sizes,\n",
    "        'pct_error': pct_errors\n",
    "    })\n",
    "    return analysis_df\n",
    "\n"
   ]
  },
  {
   "cell_type": "code",
   "execution_count": null,
   "metadata": {},
   "outputs": [],
   "source": []
  },
  {
   "cell_type": "code",
   "execution_count": null,
   "metadata": {},
   "outputs": [],
   "source": [
    "for fov in fov_list:\n",
    "    for fps in fps_list:\n",
    "        analysis_df = analysis_dfs[fov][fps]\n",
    "        analysis_df.pct_error = ((analysis_df.pct_error * 8 + 8) - 4) / 4"
   ]
  },
  {
   "cell_type": "code",
   "execution_count": null,
   "metadata": {},
   "outputs": [],
   "source": []
  },
  {
   "cell_type": "code",
   "execution_count": null,
   "metadata": {},
   "outputs": [],
   "source": [
    "analysis_dfs = defaultdict(dict)\n",
    "fov_list = [65, 70, 75, 80, 85, 90]\n",
    "fps_list = [1.0, 2.0, 4.0, 8.0]\n",
    "for fov in fov_list:\n",
    "    for fps in fps_list:\n",
    "        print('FOV: {}, FPS: {}'.format(fov, fps))\n",
    "        analysis_df = generate_analysis_df(fov, fps)\n",
    "        analysis_dfs[fov][fps] = analysis_df"
   ]
  },
  {
   "cell_type": "code",
   "execution_count": null,
   "metadata": {},
   "outputs": [],
   "source": []
  },
  {
   "cell_type": "code",
   "execution_count": null,
   "metadata": {},
   "outputs": [],
   "source": [
    "analysis_df = generate_analysis_df(54, 0.6)\n",
    "fig, ax = plt.subplots(figsize=(20, 10))\n",
    "ax.bar(analysis_df.depth_bucket, analysis_df.sample_size, label='sample size', color='red')\n",
    "for tick in ax.get_xticklabels():\n",
    "    tick.set_rotation(90)\n",
    "ax.set_xlabel('Distance-from-camera bucket (m)')\n",
    "\n",
    "ax2=ax.twinx()\n",
    "ax2.plot(analysis_df.depth_bucket, analysis_df.pct_error, label='pct error', color='blue')\n",
    "ax.grid()\n",
    "ax.legend(loc='lower right')\n",
    "ax2.legend(loc='upper right')\n",
    "ax2.axhspan(-0.02, 0.02, color='red', alpha=0.3)\n",
    "\n",
    "ax.set_ylabel('Sample Size')\n",
    "ax2.set_ylabel('Pct. error')\n",
    "plt.show()"
   ]
  },
  {
   "cell_type": "code",
   "execution_count": null,
   "metadata": {},
   "outputs": [],
   "source": [
    "analysis_df = generate_analysis_df(70, 8)\n",
    "fig, ax = plt.subplots(figsize=(20, 10))\n",
    "ax.bar(analysis_df.depth_bucket, analysis_df.sample_size, label='sample size', color='red')\n",
    "for tick in ax.get_xticklabels():\n",
    "    tick.set_rotation(90)\n",
    "ax.set_xlabel('Distance-from-camera bucket (m)')\n",
    "\n",
    "ax2=ax.twinx()\n",
    "ax2.plot(analysis_df.depth_bucket, analysis_df.pct_error, label='pct error', color='blue')\n",
    "ax.grid()\n",
    "ax.legend(loc='lower right')\n",
    "ax2.legend(loc='upper right')\n",
    "ax2.axhspan(-0.02, 0.02, color='red', alpha=0.3)\n",
    "\n",
    "ax.set_ylabel('Sample Size')\n",
    "ax2.set_ylabel('Pct. error')\n",
    "plt.show()"
   ]
  },
  {
   "cell_type": "code",
   "execution_count": null,
   "metadata": {},
   "outputs": [],
   "source": []
  },
  {
   "cell_type": "code",
   "execution_count": null,
   "metadata": {},
   "outputs": [],
   "source": []
  },
  {
   "cell_type": "code",
   "execution_count": null,
   "metadata": {},
   "outputs": [],
   "source": []
  },
  {
   "cell_type": "code",
   "execution_count": null,
   "metadata": {},
   "outputs": [],
   "source": []
  },
  {
   "cell_type": "code",
   "execution_count": null,
   "metadata": {},
   "outputs": [],
   "source": []
  },
  {
   "cell_type": "code",
   "execution_count": null,
   "metadata": {},
   "outputs": [],
   "source": []
  },
  {
   "cell_type": "code",
   "execution_count": null,
   "metadata": {},
   "outputs": [],
   "source": [
    "analysis_df = generate_analysis_df(90, 8, aspect_ratio=0.5)\n",
    "fig, ax = plt.subplots(figsize=(20, 10))\n",
    "ax.bar(analysis_df.depth_bucket, analysis_df.sample_size, label='sample size', color='red')\n",
    "for tick in ax.get_xticklabels():\n",
    "    tick.set_rotation(90)\n",
    "ax.set_xlabel('Distance-from-camera bucket (m)')\n",
    "\n",
    "ax2=ax.twinx()\n",
    "ax2.plot(analysis_df.depth_bucket, analysis_df.pct_error, label='pct error', color='blue')\n",
    "ax.grid()\n",
    "ax.legend(loc='lower right')\n",
    "ax2.legend(loc='upper right')\n",
    "ax2.axhspan(-0.02, 0.02, color='red', alpha=0.3)\n",
    "\n",
    "\n",
    "ax.set_ylabel('Sample Size')\n",
    "ax2.set_ylabel('Pct. error')\n",
    "plt.show()"
   ]
  },
  {
   "cell_type": "code",
   "execution_count": null,
   "metadata": {},
   "outputs": [],
   "source": [
    "analysis_df = generate_analysis_df(90, 8, aspect_ratio=0.75)\n",
    "fig, ax = plt.subplots(figsize=(20, 10))\n",
    "ax.bar(analysis_df.depth_bucket, analysis_df.sample_size, label='sample size', color='red')\n",
    "for tick in ax.get_xticklabels():\n",
    "    tick.set_rotation(90)\n",
    "ax.set_xlabel('Distance-from-camera bucket (m)')\n",
    "\n",
    "ax2=ax.twinx()\n",
    "ax2.plot(analysis_df.depth_bucket, analysis_df.pct_error, label='pct error', color='blue')\n",
    "ax.grid()\n",
    "ax.legend(loc='lower right')\n",
    "ax2.legend(loc='upper right')\n",
    "ax2.axhspan(-0.02, 0.02, color='red', alpha=0.3)\n",
    "\n",
    "\n",
    "ax.set_ylabel('Sample Size')\n",
    "ax2.set_ylabel('Pct. error')\n",
    "plt.show()"
   ]
  },
  {
   "cell_type": "code",
   "execution_count": null,
   "metadata": {},
   "outputs": [],
   "source": [
    "analysis_df = generate_analysis_df(90, 8, aspect_ratio=0.8)\n",
    "fig, ax = plt.subplots(figsize=(20, 10))\n",
    "ax.bar(analysis_df.depth_bucket, analysis_df.sample_size, label='sample size', color='red')\n",
    "for tick in ax.get_xticklabels():\n",
    "    tick.set_rotation(90)\n",
    "ax.set_xlabel('Distance-from-camera bucket (m)')\n",
    "\n",
    "ax2=ax.twinx()\n",
    "ax2.plot(analysis_df.depth_bucket, analysis_df.pct_error, label='pct error', color='blue')\n",
    "ax.grid()\n",
    "ax.legend(loc='lower right')\n",
    "ax2.legend(loc='upper right')\n",
    "ax2.axhspan(-0.02, 0.02, color='red', alpha=0.3)\n",
    "\n",
    "ax.set_ylabel('Sample Size')\n",
    "ax2.set_ylabel('Pct. error')\n",
    "\n",
    "plt.show()"
   ]
  },
  {
   "cell_type": "code",
   "execution_count": null,
   "metadata": {},
   "outputs": [],
   "source": [
    "analysis_df = generate_analysis_df(90, 8, aspect_ratio=0.9)\n",
    "fig, ax = plt.subplots(figsize=(20, 10))\n",
    "ax.bar(analysis_df.depth_bucket, analysis_df.sample_size, label='sample size', color='red')\n",
    "for tick in ax.get_xticklabels():\n",
    "    tick.set_rotation(90)\n",
    "ax.set_xlabel('Distance-from-camera bucket (m)')\n",
    "\n",
    "ax2=ax.twinx()\n",
    "ax2.plot(analysis_df.depth_bucket, analysis_df.pct_error, label='pct error', color='blue')\n",
    "ax.grid()\n",
    "ax.legend(loc='lower right')\n",
    "ax2.legend(loc='upper right')\n",
    "ax2.axhspan(-0.02, 0.02, color='red', alpha=0.3)\n",
    "\n",
    "ax.set_ylabel('Sample Size')\n",
    "ax2.set_ylabel('Pct. error')\n",
    "\n",
    "plt.show()"
   ]
  },
  {
   "cell_type": "code",
   "execution_count": null,
   "metadata": {},
   "outputs": [],
   "source": []
  },
  {
   "cell_type": "code",
   "execution_count": null,
   "metadata": {},
   "outputs": [],
   "source": []
  },
  {
   "cell_type": "code",
   "execution_count": null,
   "metadata": {},
   "outputs": [],
   "source": [
    "analysis_df = generate_analysis_df(90, 8, aspect_ratio=1.0)\n",
    "fig, ax = plt.subplots(figsize=(20, 10))\n",
    "ax.bar(analysis_df.depth_bucket, analysis_df.sample_size, label='sample size', color='red')\n",
    "for tick in ax.get_xticklabels():\n",
    "    tick.set_rotation(90)\n",
    "ax.set_xlabel('Distance-from-camera bucket (m)')\n",
    "\n",
    "ax2=ax.twinx()\n",
    "ax2.plot(analysis_df.depth_bucket, analysis_df.pct_error, label='pct error', color='blue')\n",
    "ax.grid()\n",
    "ax.legend(loc='lower right')\n",
    "ax2.legend(loc='upper right')\n",
    "ax2.axhspan(-0.02, 0.02, color='red', alpha=0.3)\n",
    "\n",
    "ax.set_ylabel('Sample Size')\n",
    "ax2.set_ylabel('Pct. error')\n",
    "\n",
    "plt.show()"
   ]
  },
  {
   "cell_type": "code",
   "execution_count": null,
   "metadata": {},
   "outputs": [],
   "source": []
  },
  {
   "cell_type": "code",
   "execution_count": null,
   "metadata": {},
   "outputs": [],
   "source": []
  },
  {
   "cell_type": "code",
   "execution_count": null,
   "metadata": {},
   "outputs": [],
   "source": []
  },
  {
   "cell_type": "code",
   "execution_count": null,
   "metadata": {},
   "outputs": [],
   "source": []
  },
  {
   "cell_type": "code",
   "execution_count": null,
   "metadata": {},
   "outputs": [],
   "source": []
  },
  {
   "cell_type": "code",
   "execution_count": null,
   "metadata": {},
   "outputs": [],
   "source": []
  },
  {
   "cell_type": "code",
   "execution_count": null,
   "metadata": {},
   "outputs": [],
   "source": [
    "fig, axes = plt.subplots(len(fov_list), len(fps_list), figsize=(30, 20))\n",
    "for i, fov in enumerate(fov_list):\n",
    "    for j, fps in enumerate(fps_list):\n",
    "        ax = axes[i, j]\n",
    "        \n",
    "        analysis_df = analysis_dfs[fov][fps]\n",
    "        ax.bar(analysis_df.depth_bucket, analysis_df.sample_size, label='sample size', color='red')\n",
    "        for tick in ax.get_xticklabels():\n",
    "            tick.set_rotation(90)\n",
    "\n",
    "        ax2 = ax.twinx()\n",
    "        ax2.plot(analysis_df.depth_bucket, analysis_df.pct_error, label='pct error', color='blue')\n",
    "        ax.grid()\n",
    "        ax.legend()\n",
    "        ax2.legend()\n",
    "#         ax2.axhline(-0.02, color='red', linestyle='--')\n",
    "        ax2.axhspan(-0.02, 0.02, color='red', alpha=0.3)\n",
    "        \n",
    "        ax.set_title('FOV: {}, FPS: {}'.format(fov, fps))\n",
    "\n",
    "fig.subplots_adjust(hspace=1.0)\n"
   ]
  },
  {
   "cell_type": "code",
   "execution_count": null,
   "metadata": {},
   "outputs": [],
   "source": [
    "fig, axes = plt.subplots(len(fov_list), len(fps_list), figsize=(30, 20))\n",
    "for i, fov in enumerate(fov_list):\n",
    "    for j, fps in enumerate(fps_list):\n",
    "        ax = axes[i, j]\n",
    "        \n",
    "        analysis_df = analysis_dfs[fov][fps]\n",
    "        ax.bar(analysis_df.depth_bucket, analysis_df.sample_size, label='sample size', color='red')\n",
    "        for tick in ax.get_xticklabels():\n",
    "            tick.set_rotation(90)\n",
    "\n",
    "        ax2 = ax.twinx()\n",
    "        ax2.plot(analysis_df.depth_bucket, analysis_df.pct_error, label='pct error', color='blue')\n",
    "        ax.grid()\n",
    "        ax.legend()\n",
    "        ax2.legend()\n",
    "#         ax2.axhline(-0.02, color='red', linestyle='--')\n",
    "        ax2.axhspan(-0.02, 0.02, color='red', alpha=0.3)\n",
    "        \n",
    "        ax.set_title('FOV: {}, FPS: {}'.format(fov, fps))\n",
    "\n",
    "fig.subplots_adjust(hspace=1.0)\n"
   ]
  },
  {
   "cell_type": "code",
   "execution_count": null,
   "metadata": {},
   "outputs": [],
   "source": []
  },
  {
   "cell_type": "code",
   "execution_count": null,
   "metadata": {},
   "outputs": [],
   "source": [
    "sampled_fishes = generate_samples(54, 0.6)"
   ]
  },
  {
   "cell_type": "code",
   "execution_count": null,
   "metadata": {},
   "outputs": [],
   "source": [
    "depths = [fish.depth for fish in sampled_fishes]\n",
    "weights = [fish.weight for fish in sampled_fishes]\n",
    "plt.scatter(depths, weights)\n",
    "plt.grid()\n",
    "plt.show()"
   ]
  },
  {
   "cell_type": "code",
   "execution_count": null,
   "metadata": {},
   "outputs": [],
   "source": []
  },
  {
   "cell_type": "code",
   "execution_count": null,
   "metadata": {},
   "outputs": [],
   "source": [
    "sampled_fishes = generate_samples(90, 8.0)"
   ]
  },
  {
   "cell_type": "code",
   "execution_count": null,
   "metadata": {},
   "outputs": [],
   "source": [
    "depths = [fish.depth for fish in sampled_fishes]\n",
    "weights = [fish.weight for fish in sampled_fishes]\n",
    "plt.scatter(depths, weights)\n",
    "plt.grid()\n",
    "plt.show()"
   ]
  },
  {
   "cell_type": "code",
   "execution_count": null,
   "metadata": {},
   "outputs": [],
   "source": []
  },
  {
   "cell_type": "code",
   "execution_count": null,
   "metadata": {},
   "outputs": [],
   "source": [
    "sampled_fishes = generate_samples(70, 8.0)"
   ]
  },
  {
   "cell_type": "code",
   "execution_count": null,
   "metadata": {},
   "outputs": [],
   "source": [
    "depths = [fish.depth for fish in sampled_fishes]\n",
    "weights = [fish.weight for fish in sampled_fishes]\n",
    "plt.scatter(depths, weights)\n",
    "plt.grid()\n",
    "plt.show()"
   ]
  },
  {
   "cell_type": "code",
   "execution_count": null,
   "metadata": {},
   "outputs": [],
   "source": []
  },
  {
   "cell_type": "code",
   "execution_count": null,
   "metadata": {},
   "outputs": [],
   "source": []
  },
  {
   "cell_type": "code",
   "execution_count": null,
   "metadata": {},
   "outputs": [],
   "source": [
    "!python3 -m pip install sympy"
   ]
  },
  {
   "cell_type": "code",
   "execution_count": null,
   "metadata": {},
   "outputs": [],
   "source": []
  },
  {
   "cell_type": "code",
   "execution_count": null,
   "metadata": {},
   "outputs": [],
   "source": [
    "from sympy.solvers import solve\n",
    "from sympy import Symbol"
   ]
  },
  {
   "cell_type": "code",
   "execution_count": null,
   "metadata": {},
   "outputs": [],
   "source": [
    "x = Symbol('x')\n",
    "y = Symbol('y')\n",
    "sols = solve([(x)**2 + (y)**2-1, (x-1.3)**2 + (y+1)**2-1], (x, y))"
   ]
  },
  {
   "cell_type": "code",
   "execution_count": null,
   "metadata": {},
   "outputs": [],
   "source": [
    "for sol in sols:\n",
    "    print(sol[0].is_real and sol[1].is_real)"
   ]
  },
  {
   "cell_type": "code",
   "execution_count": null,
   "metadata": {},
   "outputs": [],
   "source": []
  }
 ],
 "metadata": {
  "kernelspec": {
   "display_name": "Python 3",
   "language": "python",
   "name": "python3"
  },
  "language_info": {
   "codemirror_mode": {
    "name": "ipython",
    "version": 3
   },
   "file_extension": ".py",
   "mimetype": "text/x-python",
   "name": "python",
   "nbconvert_exporter": "python",
   "pygments_lexer": "ipython3",
   "version": "3.6.5"
  }
 },
 "nbformat": 4,
 "nbformat_minor": 2
}
