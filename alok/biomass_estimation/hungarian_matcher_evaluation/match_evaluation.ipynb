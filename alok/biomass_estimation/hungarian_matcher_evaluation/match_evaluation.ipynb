{
 "cells": [
  {
   "cell_type": "code",
   "execution_count": null,
   "metadata": {},
   "outputs": [],
   "source": [
    "%load_ext autoreload\n",
    "%autoreload 2\n",
    "\n",
    "import json\n",
    "from match_video_generation import get_capture_keys, get_left_right_pair, get_crops, generate_stitched_image, generate_match_video\n",
    "from crop_annotations import CropAnnotations\n",
    "from crops_processor import match_annotations\n",
    "from research_lib.utils.data_access_utils import S3AccessUtils\n",
    "from PIL import Image\n"
   ]
  },
  {
   "cell_type": "code",
   "execution_count": null,
   "metadata": {},
   "outputs": [],
   "source": [
    "s3 = S3AccessUtils('/root/data')"
   ]
  },
  {
   "cell_type": "code",
   "execution_count": null,
   "metadata": {},
   "outputs": [],
   "source": [
    "pen_id, date = 145, '2021-02-03'\n",
    "capture_keys = get_capture_keys(pen_id, date, date)"
   ]
  },
  {
   "cell_type": "code",
   "execution_count": null,
   "metadata": {},
   "outputs": [],
   "source": [
    "\n",
    "for capture_key in capture_keys:\n",
    "    if capture_key != 'environment=production/site-id=90/pen-id=145/date=2021-02-03/hour=10/at=2021-02-03T10:02:22.584608000Z/capture.json':\n",
    "        continue\n",
    "    left_key, right_key = get_left_right_pair(capture_key)\n",
    "    try:\n",
    "        crops_json = get_crops(left_key)\n",
    "    except:\n",
    "        continue\n",
    "    cas = CropAnnotations(crops_json=crops_json)\n",
    "    matches = match_annotations(cas, 'BATI')\n",
    "    left_image_f = s3.download_from_s3('aquabyte-frames-resized-inbound', left_key)\n",
    "    right_image_f = s3.download_from_s3('aquabyte-frames-resized-inbound', right_key)\n",
    "    stitched_image_f = generate_stitched_image(left_image_f, right_image_f, crops_json, matches)\n",
    "    \n",
    "   "
   ]
  },
  {
   "cell_type": "code",
   "execution_count": null,
   "metadata": {},
   "outputs": [],
   "source": [
    "crops_json"
   ]
  },
  {
   "cell_type": "code",
   "execution_count": null,
   "metadata": {},
   "outputs": [],
   "source": [
    "matches"
   ]
  },
  {
   "cell_type": "code",
   "execution_count": null,
   "metadata": {},
   "outputs": [],
   "source": []
  },
  {
   "cell_type": "code",
   "execution_count": null,
   "metadata": {},
   "outputs": [],
   "source": []
  },
  {
   "cell_type": "code",
   "execution_count": null,
   "metadata": {},
   "outputs": [],
   "source": [
    "generate_match_video(145, '2021-02-03')"
   ]
  },
  {
   "cell_type": "code",
   "execution_count": null,
   "metadata": {},
   "outputs": [],
   "source": []
  },
  {
   "cell_type": "code",
   "execution_count": null,
   "metadata": {},
   "outputs": [],
   "source": []
  },
  {
   "cell_type": "code",
   "execution_count": null,
   "metadata": {},
   "outputs": [],
   "source": []
  },
  {
   "cell_type": "code",
   "execution_count": null,
   "metadata": {},
   "outputs": [],
   "source": []
  },
  {
   "cell_type": "code",
   "execution_count": null,
   "metadata": {},
   "outputs": [],
   "source": []
  }
 ],
 "metadata": {
  "kernelspec": {
   "display_name": "Python 3",
   "language": "python",
   "name": "python3"
  },
  "language_info": {
   "codemirror_mode": {
    "name": "ipython",
    "version": 3
   },
   "file_extension": ".py",
   "mimetype": "text/x-python",
   "name": "python",
   "nbconvert_exporter": "python",
   "pygments_lexer": "ipython3",
   "version": "3.6.5"
  }
 },
 "nbformat": 4,
 "nbformat_minor": 2
}
