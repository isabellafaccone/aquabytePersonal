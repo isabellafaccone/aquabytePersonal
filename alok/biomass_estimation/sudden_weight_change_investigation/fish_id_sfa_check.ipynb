{
 "cells": [
  {
   "cell_type": "code",
   "execution_count": null,
   "metadata": {},
   "outputs": [],
   "source": [
    "import datetime as dt\n",
    "import json\n",
    "import os\n",
    "import numpy as np\n",
    "import pandas as pd\n",
    "from matplotlib import pyplot as plt\n",
    "from research.weight_estimation.keypoint_utils.optics import pixel2world\n",
    "from research.utils.data_access_utils import S3AccessUtils, RDSAccessUtils\n",
    "from PIL import Image\n",
    "\n",
    "pd.set_option('display.max_colwidth', 50)"
   ]
  },
  {
   "cell_type": "code",
   "execution_count": null,
   "metadata": {},
   "outputs": [],
   "source": [
    "s3 = S3AccessUtils('/root/data', json.load(open(os.environ['AWS_CREDENTIALS'])))"
   ]
  },
  {
   "cell_type": "code",
   "execution_count": null,
   "metadata": {},
   "outputs": [],
   "source": []
  },
  {
   "cell_type": "code",
   "execution_count": null,
   "metadata": {},
   "outputs": [],
   "source": []
  },
  {
   "cell_type": "code",
   "execution_count": null,
   "metadata": {},
   "outputs": [],
   "source": [
    "# load raw biomass computations\n",
    "fs = [\n",
    "#     '/root/data/alok/biomass_estimation/playground/bolaks_p88_duplicate.csv',\n",
    "#     '/root/data/alok/biomass_estimation/playground/aplavika_p95_duplicate.csv',\n",
    "#     '/root/data/alok/biomass_estimation/playground/cooke_p153_duplicate.csv',\n",
    "#     '/root/data/alok/biomass_estimation/playground/dale_p1_duplicate.csv'\n",
    "    '/root/data/alok/biomass_estimation/playground/dale_pen_3_data_14k_20thresh_duplicate.csv'\n",
    "]\n",
    "\n",
    "dfs = {}\n",
    "for f in fs:\n",
    "    print(f)\n",
    "    df = pd.read_csv(f)\n",
    "    # add date column\n",
    "    df.index = pd.to_datetime(df.captured_at)\n",
    "    dates = df.index.date.astype(str)\n",
    "    df['date'] = dates\n",
    "    df.index = range(df.shape[0])\n",
    "\n",
    "    # add depth column \n",
    "    yaws, pitches, depths = [], [], []\n",
    "    print(df.shape)\n",
    "    for idx, row in df.iterrows():\n",
    "        ann = json.loads(row.annotation.replace(\"'\", '\"'))\n",
    "        cm = json.loads(row.camera_metadata.replace(\"'\", '\"'))\n",
    "\n",
    "        try:\n",
    "            world_keypoints = pixel2world(ann['leftCrop'], ann['rightCrop'], cm)\n",
    "            depth = np.median([x[1] for x in world_keypoints.values()])\n",
    "            v = world_keypoints['UPPER_LIP'] - world_keypoints['TAIL_NOTCH']\n",
    "            yaw = np.arctan(v[1] / abs(v[0])) * (180.0 / np.pi)\n",
    "            pitch = np.arctan(v[2] / abs(v[0])) * (180.0 / np.pi)\n",
    "        except TypeError as err:\n",
    "            print('here')\n",
    "            yaw, pitch, depth = None, None, None\n",
    "            \n",
    "        depths.append(depth)\n",
    "        yaws.append(yaw)\n",
    "        pitches.append(pitch)\n",
    "\n",
    "    df['depth'] = depths\n",
    "    df['yaw'] = yaws\n",
    "    df['pitch'] = pitches\n",
    "    dfs[f] = df\n"
   ]
  },
  {
   "cell_type": "code",
   "execution_count": null,
   "metadata": {},
   "outputs": [],
   "source": []
  },
  {
   "cell_type": "code",
   "execution_count": null,
   "metadata": {},
   "outputs": [],
   "source": [
    "tdfs = []\n",
    "for f in fs:\n",
    "    df = dfs[f]\n",
    "    pairs = []\n",
    "    for idx, row in df.iterrows():\n",
    "        duplicate_ids_str = row.duplicated_with_IDs\n",
    "        if duplicate_ids_str == '[]' or type(duplicate_ids_str) == float:\n",
    "            continue\n",
    "        duplicate_ids = [int(x) for x in duplicate_ids_str.strip(';').split(';')]\n",
    "        for duplicate_id in duplicate_ids:\n",
    "            pairs.append((int(row.ID), duplicate_id))\n",
    "            \n",
    "    weights_1, weights_2, depths_1, depths_2, yaws_1, yaws_2, dates_1, dates_2, ts_1, ts_2, urls_1, urls_2, ids_1, ids_2 = \\\n",
    "        [], [], [], [], [], [], [], [], [], [], [], [], [], []\n",
    "    for pair in pairs:\n",
    "        idx_1, idx_2 = pair\n",
    "        row_1, row_2 = df[df.ID==idx_1].iloc[0], df[df.ID==idx_2].iloc[0]\n",
    "        weight_1 = row_1.estimated_weight_g\n",
    "        weight_2 = row_2.estimated_weight_g\n",
    "        depth_1 = row_1.depth\n",
    "        depth_2 = row_2.depth\n",
    "        yaw_1 = row_1.yaw\n",
    "        yaw_2 = row_2.yaw\n",
    "\n",
    "        weights_1.append(weight_1)\n",
    "        weights_2.append(weight_2)\n",
    "        depths_1.append(depth_1)\n",
    "        depths_2.append(depth_2)\n",
    "        yaws_1.append(yaw_1)\n",
    "        yaws_2.append(yaw_2)\n",
    "        dates_1.append(row_1.date)\n",
    "        dates_2.append(row_2.date)\n",
    "        ts_1.append(dt.datetime.strptime(row_1.captured_at.replace('+00:00', ''), '%Y-%m-%d %H:%M:%S.%f'))\n",
    "        ts_2.append(dt.datetime.strptime(row_2.captured_at.replace('+00:00', ''), '%Y-%m-%d %H:%M:%S.%f'))\n",
    "        urls_1.append(row_1.left_crop_url)\n",
    "        urls_2.append(row_2.left_crop_url)\n",
    "        ids_1.append(idx_1)\n",
    "        ids_2.append(idx_2)\n",
    "    \n",
    "    tdf = pd.DataFrame({'w1': weights_1, 'w2': weights_2, 'd1': depths_1, 'd2': depths_2, 'y1': yaws_1, 'y2': yaws_2,\n",
    "                        'date1': dates_1, 'date2': dates_2, 'ts1': ts_1, 'ts2': ts_2, 'u1': urls_1, 'u2': urls_2,\n",
    "                       'id1': ids_1, 'id2': ids_2})\n",
    "    tdfs.append(tdf)\n"
   ]
  },
  {
   "cell_type": "code",
   "execution_count": null,
   "metadata": {},
   "outputs": [],
   "source": [
    "tdf = pd.concat(tdfs)"
   ]
  },
  {
   "cell_type": "code",
   "execution_count": null,
   "metadata": {},
   "outputs": [],
   "source": [
    "# mask = (tdf.date1 == '2020-03-04') & (tdf.date2 == '2020-03-05')\n",
    "# ((tdf[mask].w1 - tdf[mask].w2) / tdf[mask].w1).median()"
   ]
  },
  {
   "cell_type": "code",
   "execution_count": null,
   "metadata": {},
   "outputs": [],
   "source": [
    "tdf.ts1.iloc[0].replace('+00:00', '')"
   ]
  },
  {
   "cell_type": "code",
   "execution_count": null,
   "metadata": {},
   "outputs": [],
   "source": [
    "dt.datetime.strptime(tdf.ts1.iloc[0].replace('+00:00', ''), '%Y-%m-%d %H:%M:%S.%f')"
   ]
  },
  {
   "cell_type": "code",
   "execution_count": null,
   "metadata": {},
   "outputs": [],
   "source": []
  },
  {
   "cell_type": "code",
   "execution_count": null,
   "metadata": {},
   "outputs": [],
   "source": [
    "(tdf.ts1 - tdf.ts2) > "
   ]
  },
  {
   "cell_type": "code",
   "execution_count": null,
   "metadata": {},
   "outputs": [],
   "source": [
    "df.iloc[48].left_crop_url"
   ]
  },
  {
   "cell_type": "code",
   "execution_count": null,
   "metadata": {},
   "outputs": [],
   "source": [
    "df.iloc[4398].left_crop_url"
   ]
  },
  {
   "cell_type": "code",
   "execution_count": null,
   "metadata": {},
   "outputs": [],
   "source": []
  },
  {
   "cell_type": "code",
   "execution_count": null,
   "metadata": {},
   "outputs": [],
   "source": [
    "df.captured_at < '2021-02-05'"
   ]
  },
  {
   "cell_type": "code",
   "execution_count": null,
   "metadata": {},
   "outputs": [],
   "source": []
  },
  {
   "cell_type": "code",
   "execution_count": null,
   "metadata": {},
   "outputs": [],
   "source": [
    "mask = (tdf.ts1 < '2021-02-05 10:00:00')# & (tdf.ts2 > '2021-02-05 14:00:00')"
   ]
  },
  {
   "cell_type": "code",
   "execution_count": null,
   "metadata": {},
   "outputs": [],
   "source": []
  },
  {
   "cell_type": "code",
   "execution_count": null,
   "metadata": {},
   "outputs": [],
   "source": []
  },
  {
   "cell_type": "code",
   "execution_count": null,
   "metadata": {},
   "outputs": [],
   "source": []
  },
  {
   "cell_type": "code",
   "execution_count": null,
   "metadata": {},
   "outputs": [],
   "source": [
    "for idx, row in tdf.loc[mask, ['u1', 'u2']].iterrows():\n",
    "    u1, u2 = row.u1, row.u2\n",
    "    f1, _, _ = s3.download_from_url(u1)\n",
    "    f2, _, _ = s3.download_from_url(u2)\n",
    "    im1 = Image.open(f1)\n",
    "    im2 = Image.open(f2)\n",
    "    plt.figure(figsize=(20, 10))\n",
    "    plt.imshow(im1)\n",
    "    plt.show()\n",
    "    plt.figure(figsize=(20, 10))\n",
    "    plt.imshow(im2)\n",
    "    plt.show()\n",
    "    print('-------')\n",
    "    \n",
    "\n"
   ]
  },
  {
   "cell_type": "code",
   "execution_count": null,
   "metadata": {},
   "outputs": [],
   "source": []
  },
  {
   "cell_type": "code",
   "execution_count": null,
   "metadata": {},
   "outputs": [],
   "source": []
  },
  {
   "cell_type": "code",
   "execution_count": null,
   "metadata": {},
   "outputs": [],
   "source": []
  },
  {
   "cell_type": "code",
   "execution_count": null,
   "metadata": {},
   "outputs": [],
   "source": []
  },
  {
   "cell_type": "code",
   "execution_count": null,
   "metadata": {},
   "outputs": [],
   "source": []
  },
  {
   "cell_type": "code",
   "execution_count": null,
   "metadata": {},
   "outputs": [],
   "source": [
    "(tdf[mask].w1 - tdf[mask].w2).shape"
   ]
  },
  {
   "cell_type": "code",
   "execution_count": null,
   "metadata": {},
   "outputs": [],
   "source": [
    "plt.hist((tdf.y1 - tdf.y2).values)\n",
    "plt.show()"
   ]
  },
  {
   "cell_type": "code",
   "execution_count": null,
   "metadata": {},
   "outputs": [],
   "source": [
    "plt.hist(df.yaw.values)\n",
    "plt.show()"
   ]
  },
  {
   "cell_type": "code",
   "execution_count": null,
   "metadata": {},
   "outputs": [],
   "source": []
  },
  {
   "cell_type": "code",
   "execution_count": null,
   "metadata": {},
   "outputs": [],
   "source": []
  },
  {
   "cell_type": "code",
   "execution_count": null,
   "metadata": {},
   "outputs": [],
   "source": []
  },
  {
   "cell_type": "code",
   "execution_count": null,
   "metadata": {},
   "outputs": [],
   "source": []
  }
 ],
 "metadata": {
  "kernelspec": {
   "display_name": "Python 3",
   "language": "python",
   "name": "python3"
  },
  "language_info": {
   "codemirror_mode": {
    "name": "ipython",
    "version": 3
   },
   "file_extension": ".py",
   "mimetype": "text/x-python",
   "name": "python",
   "nbconvert_exporter": "python",
   "pygments_lexer": "ipython3",
   "version": "3.6.5"
  }
 },
 "nbformat": 4,
 "nbformat_minor": 4
}
