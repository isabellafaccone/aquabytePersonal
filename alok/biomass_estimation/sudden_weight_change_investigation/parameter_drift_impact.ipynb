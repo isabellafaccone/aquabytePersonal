{
 "cells": [
  {
   "cell_type": "code",
   "execution_count": null,
   "metadata": {},
   "outputs": [],
   "source": [
    "from matplotlib import pyplot as plt\n",
    "import pandas as pd\n",
    "import numpy as np\n",
    "\n",
    "from weight_estimation.weight_estimator import WeightEstimator, CameraMetadata\n",
    "from research_lib.utils.data_access_utils import S3AccessUtils, RDSAccessUtils"
   ]
  },
  {
   "cell_type": "code",
   "execution_count": null,
   "metadata": {},
   "outputs": [],
   "source": [
    "s3 = S3AccessUtils('/root/data')\n",
    "rds = RDSAccessUtils()"
   ]
  },
  {
   "cell_type": "code",
   "execution_count": null,
   "metadata": {},
   "outputs": [],
   "source": []
  },
  {
   "cell_type": "code",
   "execution_count": null,
   "metadata": {},
   "outputs": [],
   "source": []
  },
  {
   "cell_type": "code",
   "execution_count": null,
   "metadata": {},
   "outputs": [],
   "source": [
    "query = \"\"\"\n",
    "    SELECT *\n",
    "    FROM \n",
    "        prod.biomass_computations\n",
    "    WHERE\n",
    "        pen_id = 145 AND\n",
    "        akpd_score > 0.95 AND\n",
    "        captured_at BETWEEN '2021-02-10' and '2021-02-15'\n",
    "\"\"\"\n",
    "\n",
    "df = rds.extract_from_database(query)"
   ]
  },
  {
   "cell_type": "code",
   "execution_count": null,
   "metadata": {},
   "outputs": [],
   "source": [
    "weight_model_url = 'https://aquabyte-models.s3-us-west-1.amazonaws.com/biomass/trained_models/2020-11-27T00-00-00/weight_model_synthetic_data.pb'\n",
    "small_weight_model_url = 'https://aquabyte-models.s3-us-west-1.amazonaws.com/biomass/playground/small_fish_weight_model.pb'\n",
    "kf_model_url = 'https://aquabyte-models.s3-us-west-1.amazonaws.com/k-factor/trained_models/2020-08-08T000000/kf_predictor_v2.pb'\n",
    "\n",
    "weight_model_f, _, _ = s3.download_from_url(weight_model_url)\n",
    "small_weight_model_f, _, _ = s3.download_from_url(small_weight_model_url)\n",
    "kf_model_f, _, _ = s3.download_from_url(kf_model_url)\n",
    "weight_estimator = WeightEstimator(weight_model_f, small_weight_model_f, kf_model_f)\n",
    "\n",
    "weights = []\n",
    "count = 0\n",
    "for idx, row in df.iterrows():\n",
    "    annotation = row.annotation\n",
    "    cm = row.camera_metadata\n",
    "    camera_metadata = CameraMetadata(\n",
    "        focal_length=cm['focalLength'],\n",
    "        focal_length_pixel=cm['focalLengthPixel'],\n",
    "        baseline_m=cm['baseline'],\n",
    "        pixel_count_width=cm['pixelCountWidth'],\n",
    "        pixel_count_height=cm['pixelCountHeight'],\n",
    "        image_sensor_width=cm['imageSensorWidth'],\n",
    "        image_sensor_height=cm['imageSensorHeight']\n",
    "    )\n",
    "    \n",
    "    weight, length, kf = weight_estimator.predict(annotation, camera_metadata)\n",
    "    weights.append(weight)\n",
    "    \n",
    "    if count % 100 == 0:\n",
    "        print(count)\n",
    "    count += 1\n",
    "    \n",
    "    \n"
   ]
  },
  {
   "cell_type": "code",
   "execution_count": null,
   "metadata": {},
   "outputs": [],
   "source": []
  },
  {
   "cell_type": "code",
   "execution_count": null,
   "metadata": {},
   "outputs": [],
   "source": []
  },
  {
   "cell_type": "code",
   "execution_count": null,
   "metadata": {},
   "outputs": [],
   "source": [
    "weight_model_url = 'https://aquabyte-models.s3-us-west-1.amazonaws.com/biomass/trained_models/2020-11-27T00-00-00/weight_model_synthetic_data.pb'\n",
    "small_weight_model_url = 'https://aquabyte-models.s3-us-west-1.amazonaws.com/biomass/playground/small_fish_weight_model.pb'\n",
    "kf_model_url = 'https://aquabyte-models.s3-us-west-1.amazonaws.com/k-factor/trained_models/2020-08-08T000000/kf_predictor_v2.pb'\n",
    "\n",
    "weight_model_f, _, _ = s3.download_from_url(weight_model_url)\n",
    "small_weight_model_f, _, _ = s3.download_from_url(small_weight_model_url)\n",
    "kf_model_f, _, _ = s3.download_from_url(kf_model_url)\n",
    "weight_estimator = WeightEstimator(weight_model_f, small_weight_model_f, kf_model_f)\n",
    "\n",
    "weights_2 = []\n",
    "count = 0\n",
    "for idx, row in df.iterrows():\n",
    "    annotation = row.annotation\n",
    "    cm = row.camera_metadata\n",
    "    camera_metadata = CameraMetadata(\n",
    "        focal_length=cm['focalLength'],\n",
    "        focal_length_pixel=cm['focalLengthPixel'],\n",
    "        baseline_m=cm['baseline'] * 1.007,\n",
    "        pixel_count_width=cm['pixelCountWidth'],\n",
    "        pixel_count_height=cm['pixelCountHeight'],\n",
    "        image_sensor_width=cm['imageSensorWidth'],\n",
    "        image_sensor_height=cm['imageSensorHeight']\n",
    "    )\n",
    "    \n",
    "    weight, length, kf = weight_estimator.predict(annotation, camera_metadata)\n",
    "    weights_2.append(weight)\n",
    "    \n",
    "    if count % 100 == 0:\n",
    "        print(count)\n",
    "    count += 1\n",
    "    \n",
    "    \n"
   ]
  },
  {
   "cell_type": "code",
   "execution_count": null,
   "metadata": {},
   "outputs": [],
   "source": []
  },
  {
   "cell_type": "code",
   "execution_count": null,
   "metadata": {},
   "outputs": [],
   "source": [
    "np.mean(weights)"
   ]
  },
  {
   "cell_type": "code",
   "execution_count": null,
   "metadata": {},
   "outputs": [],
   "source": [
    "np.mean(weights_2)"
   ]
  },
  {
   "cell_type": "code",
   "execution_count": null,
   "metadata": {},
   "outputs": [],
   "source": [
    "(7612.7259523413 - 7476.883013775673) / 7476.883013775673"
   ]
  },
  {
   "cell_type": "code",
   "execution_count": null,
   "metadata": {},
   "outputs": [],
   "source": []
  },
  {
   "cell_type": "code",
   "execution_count": null,
   "metadata": {},
   "outputs": [],
   "source": []
  },
  {
   "cell_type": "code",
   "execution_count": null,
   "metadata": {},
   "outputs": [],
   "source": []
  },
  {
   "cell_type": "code",
   "execution_count": null,
   "metadata": {},
   "outputs": [],
   "source": []
  }
 ],
 "metadata": {
  "kernelspec": {
   "display_name": "biomass_backtest_env",
   "language": "python",
   "name": "biomass_backtest_env"
  },
  "language_info": {
   "codemirror_mode": {
    "name": "ipython",
    "version": 3
   },
   "file_extension": ".py",
   "mimetype": "text/x-python",
   "name": "python",
   "nbconvert_exporter": "python",
   "pygments_lexer": "ipython3",
   "version": "3.6.5"
  }
 },
 "nbformat": 4,
 "nbformat_minor": 4
}
