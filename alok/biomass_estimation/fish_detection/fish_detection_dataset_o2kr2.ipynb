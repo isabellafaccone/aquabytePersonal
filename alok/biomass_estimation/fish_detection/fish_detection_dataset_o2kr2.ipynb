{
 "cells": [
  {
   "cell_type": "code",
   "execution_count": null,
   "metadata": {},
   "outputs": [],
   "source": [
    "%load_ext autoreload\n",
    "%autoreload 2\n",
    "\n",
    "import os\n",
    "import random\n",
    "from pen_id_time_ranges import pen_id_time_ranges\n",
    "from thumbnail_selector import PEN_SITE_MAPPING, get_capture_keys, get_image_urls_and_crop_metadatas, \\\n",
    "    get_random_image_urls_and_crop_metadatas\n",
    "from high_density_thumbnail_selector import get_dw_biomass_data, get_full_frame_resize_dataset, _get_bucket_key, \\\n",
    "    get_high_density_image_urls_and_crop_metadatas\n"
   ]
  },
  {
   "cell_type": "code",
   "execution_count": null,
   "metadata": {},
   "outputs": [],
   "source": []
  },
  {
   "cell_type": "code",
   "execution_count": null,
   "metadata": {},
   "outputs": [],
   "source": [
    "pen_id_time_ranges"
   ]
  },
  {
   "cell_type": "code",
   "execution_count": null,
   "metadata": {},
   "outputs": [],
   "source": [
    "keys = get_capture_keys(4, '2020-07-12', '2020-07-12')"
   ]
  },
  {
   "cell_type": "code",
   "execution_count": null,
   "metadata": {},
   "outputs": [],
   "source": [
    "capture_keys_subset = random.sample(keys, 250)"
   ]
  },
  {
   "cell_type": "code",
   "execution_count": null,
   "metadata": {},
   "outputs": [],
   "source": [
    "left_urls, crop_metadatas = get_image_urls_and_crop_metadatas(capture_keys_subset)"
   ]
  },
  {
   "cell_type": "code",
   "execution_count": null,
   "metadata": {},
   "outputs": [],
   "source": []
  },
  {
   "cell_type": "code",
   "execution_count": null,
   "metadata": {},
   "outputs": [],
   "source": [
    "df = get_dw_biomass_data(4, '2020-07-12', '2020-07-19')"
   ]
  },
  {
   "cell_type": "code",
   "execution_count": null,
   "metadata": {},
   "outputs": [],
   "source": [
    "df_resize = get_full_frame_resize_dataset(df)"
   ]
  },
  {
   "cell_type": "code",
   "execution_count": null,
   "metadata": {},
   "outputs": [],
   "source": [
    "df_resize.sort_values('fish_count', ascending=False).left_image_url.iloc[0]"
   ]
  },
  {
   "cell_type": "code",
   "execution_count": null,
   "metadata": {},
   "outputs": [],
   "source": [
    "left_urls, crop_metadatas = get_high_density_image_urls_and_crop_metadatas(4, '2020-07-12', '2020-07-19')"
   ]
  },
  {
   "cell_type": "code",
   "execution_count": null,
   "metadata": {},
   "outputs": [],
   "source": [
    "left_urls, crop_metadatas = get_random_image_urls_and_crop_metadatas(4, '2020-07-12', '2020-07-13')"
   ]
  },
  {
   "cell_type": "code",
   "execution_count": null,
   "metadata": {},
   "outputs": [],
   "source": []
  },
  {
   "cell_type": "code",
   "execution_count": null,
   "metadata": {},
   "outputs": [],
   "source": []
  },
  {
   "cell_type": "code",
   "execution_count": null,
   "metadata": {},
   "outputs": [],
   "source": []
  },
  {
   "cell_type": "code",
   "execution_count": null,
   "metadata": {},
   "outputs": [],
   "source": []
  },
  {
   "cell_type": "code",
   "execution_count": null,
   "metadata": {},
   "outputs": [],
   "source": []
  },
  {
   "cell_type": "code",
   "execution_count": null,
   "metadata": {},
   "outputs": [],
   "source": []
  },
  {
   "cell_type": "code",
   "execution_count": null,
   "metadata": {},
   "outputs": [],
   "source": []
  },
  {
   "cell_type": "code",
   "execution_count": null,
   "metadata": {},
   "outputs": [],
   "source": []
  },
  {
   "cell_type": "code",
   "execution_count": null,
   "metadata": {},
   "outputs": [],
   "source": []
  },
  {
   "cell_type": "markdown",
   "metadata": {},
   "source": [
    "<h1> For each dataset, construct stitched paired images and upload to s3. Prep for PLALI insertion </h1>"
   ]
  },
  {
   "cell_type": "code",
   "execution_count": null,
   "metadata": {},
   "outputs": [],
   "source": [
    "def get_dw_biomass_data(pen_id, start_date, end_date):\n",
    "    query = \"\"\"\n",
    "        SELECT * \n",
    "        FROM prod.biomass_computations\n",
    "        WHERE pen_id={0} \n",
    "        AND captured_at BETWEEN {1} and {2}\n",
    "        AND date_part('hour', captured_at) >= {3} \n",
    "        AND date_part('hour', captured_at) <= {4}\n",
    "    \"\"\".format(pen_id, start_date, end_date, 7, 15)\n",
    "    \n",
    "    df = rds.extract_from_database(query)\n",
    "    return df\n",
    "    \n",
    "\n",
    "    "
   ]
  },
  {
   "cell_type": "code",
   "execution_count": null,
   "metadata": {},
   "outputs": [],
   "source": [
    "def get_512_512_dataset(df):\n",
    "    \n",
    "    full_frame_to_crop_urls = defaultdict(list)\n",
    "    for idx, row in df.iterrows():\n",
    "        left_crop_url = row.left_crop_url\n",
    "        left_full_frame_512_url = get_full_frame_512_url(left_crop_url)\n",
    "        full_frame_to_crop_urls[left_full_frame_512_url].append(row.left_crop_url)\n",
    "        full_frame_to_crop_urls[left_full_frame_512_url].append(row.right_crop_url)\n",
    "        \n",
    "    left_image_urls, right_image_urls, counts = []\n",
    "    for k, v in full_frame_to_crop_urls.items():\n",
    "        left_image_urls.append(k)\n",
    "        right_image_urls.append(k.replace('left', 'right'))\n",
    "        counts.append(len(v))\n",
    "    \n",
    "    df_512 = pd.DataFrame({\n",
    "        'left_image_url': left_image_urls,\n",
    "        'right_image_url': right_imgae_urls,\n",
    "        'count': counts\n",
    "    })\n",
    "    \n",
    "    return df_512\n",
    "    \n",
    "        \n"
   ]
  },
  {
   "cell_type": "code",
   "execution_count": null,
   "metadata": {},
   "outputs": [],
   "source": [
    "def get_paired_urls(dataset, count):\n",
    "    \n",
    "    # get paired images that are guaranteed to have crops\n",
    "    pen_id, start_date, end_date = dataset['pen_id'], dataset['start_date'], dataset['end_date']\n",
    "    df_dw = get_dw_biomass_data(pen_id, start_date, end_date)\n",
    "    df_512 = get_512_512_dataset(df_dw)\n",
    "    df_512 = df_512.sort_values('count', ascending=False)\n",
    "    high_density_left_urls = df_512.left_image_url.head(500)\n",
    "    right_density_left_urls = df_512.right_image_url.head(500)\n",
    "    high_density_paired_urls = list(zip(high_density_left_urls, high_density_right_urls))\n",
    "    \n",
    "    # get paired images from different density classes\n",
    "    get_all_s3_keys(pen_id, start_date, end_date)\n",
    "    \n",
    "    \n",
    "    \n",
    "    \n",
    "    \n",
    "    \n"
   ]
  },
  {
   "cell_type": "code",
   "execution_count": null,
   "metadata": {},
   "outputs": [],
   "source": []
  },
  {
   "cell_type": "markdown",
   "metadata": {},
   "source": [
    "<h1> Construct dataset for Hungarian Matching evaluation </h1>"
   ]
  },
  {
   "cell_type": "code",
   "execution_count": null,
   "metadata": {},
   "outputs": [],
   "source": [
    "for dataset in pen_id_time_ranges:\n",
    "    \n",
    "    df = pd.DataFrame()\n",
    "    \n",
    "    paired_urls = get_paired_urls(dataset, 1000)\n",
    "    left_image_urls, right_image_urls, stiched_image_urls = [], [], []\n",
    "    metadatas = []\n",
    "    for paired_url in paired_urls:\n",
    "        left_image_url, right_image_url = paired_url\n",
    "        stitched_image_f = generate_stitched_image(left_image_url, right_image_url )\n",
    "        bucket, key = 'aquabyte-images-adhoc', 'alok/O2Kr2_dataset/{}'.format(os.path.basename(stitched_image_f))\n",
    "        s3.upload_file(stitched_image_f, bucket, key)\n",
    "        stitched_image_url = os.path.join(prefix, bucket, key)\n",
    "        \n",
    "        metadata = dict(dataset)\n",
    "        metadata['left_image_url'] = left_image_url\n",
    "        metadata['right_image_url'] = right_image_url\n",
    "        metadatas.append(metadata)\n",
    "        \n",
    "    \n",
    "    df['metadata'] = metadatas\n",
    "    df['url'] = stitched_image_urls\n",
    "    \n",
    "        \n"
   ]
  },
  {
   "cell_type": "code",
   "execution_count": null,
   "metadata": {},
   "outputs": [],
   "source": []
  },
  {
   "cell_type": "code",
   "execution_count": null,
   "metadata": {},
   "outputs": [],
   "source": []
  },
  {
   "cell_type": "code",
   "execution_count": null,
   "metadata": {},
   "outputs": [],
   "source": []
  },
  {
   "cell_type": "code",
   "execution_count": null,
   "metadata": {},
   "outputs": [],
   "source": []
  },
  {
   "cell_type": "code",
   "execution_count": null,
   "metadata": {},
   "outputs": [],
   "source": []
  },
  {
   "cell_type": "code",
   "execution_count": null,
   "metadata": {},
   "outputs": [],
   "source": []
  }
 ],
 "metadata": {
  "kernelspec": {
   "display_name": "Python 3",
   "language": "python",
   "name": "python3"
  }
 },
 "nbformat": 4,
 "nbformat_minor": 4
}
