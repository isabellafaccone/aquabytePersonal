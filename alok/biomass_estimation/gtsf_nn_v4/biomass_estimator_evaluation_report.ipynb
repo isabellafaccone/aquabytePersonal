{
 "cells": [
  {
   "cell_type": "markdown",
   "metadata": {},
   "source": [
    "## Evaluation Report\n",
    "\n",
    "Finished:\n",
    "* mean error by bucket\n",
    "* mean error by depth\n",
    "\n",
    "TODO: \n",
    "* plot weight vs. residuals\n",
    "* plot train dataset representativeness statistics\n",
    "* perform ground truth evaluations\n",
    "    - (brytons notebook:http://localhost:9999/notebooks/alok/repos/research-exploration/bryton/biomass/production_smart_average_heuristic_bryton.ipynb)\n",
    "    - avg weight\n",
    "    - bucket accuracy"
   ]
  }
 ],
 "metadata": {
  "kernelspec": {
   "display_name": "Python 3",
   "language": "python",
   "name": "python3"
  },
  "language_info": {
   "codemirror_mode": {
    "name": "ipython",
    "version": 3
   },
   "file_extension": ".py",
   "mimetype": "text/x-python",
   "name": "python",
   "nbconvert_exporter": "python",
   "pygments_lexer": "ipython3",
   "version": "3.6.5"
  }
 },
 "nbformat": 4,
 "nbformat_minor": 4
}
