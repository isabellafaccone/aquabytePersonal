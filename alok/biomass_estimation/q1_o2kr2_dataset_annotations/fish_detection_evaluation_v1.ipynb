{
 "cells": [
  {
   "cell_type": "code",
   "execution_count": null,
   "metadata": {},
   "outputs": [],
   "source": [
    "%load_ext autoreload\n",
    "%autoreload 2\n",
    "\n",
    "import json\n",
    "import os\n",
    "import cv2\n",
    "from matplotlib import pyplot as plt\n",
    "import pandas as pd\n",
    "from research.utils.data_access_utils import RDSAccessUtils\n"
   ]
  },
  {
   "cell_type": "code",
   "execution_count": null,
   "metadata": {},
   "outputs": [],
   "source": []
  },
  {
   "cell_type": "code",
   "execution_count": null,
   "metadata": {},
   "outputs": [],
   "source": [
    "os.environ['PLALI_SQL_CREDENTIALS'] = '/run/secrets/plali_sql_credentials.json'\n",
    "rds = RDSAccessUtils(json.load(open(os.environ['PLALI_SQL_CREDENTIALS'])))\n",
    "query = \"\"\"\n",
    "    select * from plali.plali_annotations x\n",
    "    inner join \n",
    "    ( select a.id as plali_image_id, a.images, a.metadata, b.id as workflow_id, b.name from plali.plali_images a\n",
    "    inner join plali.plali_workflows b\n",
    "    on a.workflow_id = b.id ) y\n",
    "    on x.plali_image_id = y.plali_image_id\n",
    "    where workflow_id = '00000000-0000-0000-0000-000000000048';\n",
    "\"\"\"\n",
    "\n",
    "df = rds.extract_from_database(query)"
   ]
  },
  {
   "cell_type": "code",
   "execution_count": null,
   "metadata": {},
   "outputs": [],
   "source": [
    "df['is_low_turbidity'] = df.metadata.apply(lambda x: 'low_turbidity' in x['tags'])\n",
    "df['is_medium_turbidity'] = df.metadata.apply(lambda x: 'medium_turbidity' in x['tags'])\n",
    "df['is_high_turbidity'] = df.metadata.apply(lambda x: 'high_turbidity' in x['tags'])"
   ]
  },
  {
   "cell_type": "markdown",
   "metadata": {},
   "source": [
    "<h1> Evaluation </h1>"
   ]
  },
  {
   "cell_type": "code",
   "execution_count": null,
   "metadata": {},
   "outputs": [],
   "source": [
    "num_annotated_crops_list = []\n",
    "num_detected_crops_list = []\n",
    "\n",
    "mask = df.is_low_turbidity == 1\n",
    "for idx, row in df[mask].iterrows():\n",
    "    annotated_crops = row.annotation.get('annotations')\n",
    "    num_annotated_crops = len([ann for ann in annotated_crops if ann['label'] == 'FULL']) if annotated_crops is not None else 0\n",
    "    num_detected_crops = len([crop for crop in row.metadata['crops'] if crop['category_id'] == 2])\n",
    "    num_annotated_crops_list.append(num_annotated_crops)\n",
    "    num_detected_crops_list.append(num_detected_crops)\n",
    "    \n",
    "tdf = pd.DataFrame({'num_annotated_crops': num_annotated_crops_list, \n",
    "                    'num_detected_crops': num_detected_crops_list})"
   ]
  },
  {
   "cell_type": "code",
   "execution_count": null,
   "metadata": {},
   "outputs": [],
   "source": []
  },
  {
   "cell_type": "code",
   "execution_count": null,
   "metadata": {},
   "outputs": [],
   "source": []
  },
  {
   "cell_type": "code",
   "execution_count": null,
   "metadata": {},
   "outputs": [],
   "source": []
  },
  {
   "cell_type": "code",
   "execution_count": null,
   "metadata": {},
   "outputs": [],
   "source": []
  },
  {
   "cell_type": "code",
   "execution_count": null,
   "metadata": {},
   "outputs": [],
   "source": []
  },
  {
   "cell_type": "markdown",
   "metadata": {},
   "source": [
    "<h1> Create video </h1>"
   ]
  },
  {
   "cell_type": "markdown",
   "metadata": {},
   "source": [
    "<h2> Test helper methods </h2>"
   ]
  },
  {
   "cell_type": "code",
   "execution_count": null,
   "metadata": {},
   "outputs": [],
   "source": [
    "from crop_video_generation import get_image_f, process_detected_crops, process_annotated_crops, overlay_crops_on_image, stitch_frames_into_video"
   ]
  },
  {
   "cell_type": "code",
   "execution_count": null,
   "metadata": {},
   "outputs": [],
   "source": []
  },
  {
   "cell_type": "code",
   "execution_count": null,
   "metadata": {},
   "outputs": [],
   "source": [
    "row = df[mask].iloc[428]\n",
    "image_s3_url = row.images[0]\n",
    "detected_crops_original = [crop for crop in row.metadata['crops'] if crop['category_id'] == 2]\n",
    "annotated_crops_original = [ann for ann in row.annotation['annotations'] if ann['label'] == 'FULL']\n",
    "detected_crops = process_detected_crops(detected_crops_original)\n",
    "annotated_crops = process_annotated_crops(annotated_crops_original)\n",
    "\n",
    "f = get_image_f(image_s3_url)\n",
    "output_f = overlay_crops_on_image(f, detected_crops, annotated_crops, 'hello')\n",
    "\n",
    "\n"
   ]
  },
  {
   "cell_type": "code",
   "execution_count": null,
   "metadata": {},
   "outputs": [],
   "source": []
  },
  {
   "cell_type": "code",
   "execution_count": null,
   "metadata": {},
   "outputs": [],
   "source": []
  },
  {
   "cell_type": "code",
   "execution_count": null,
   "metadata": {},
   "outputs": [],
   "source": [
    "output_fs = []\n",
    "mask = df.is_low_turbidity == 1\n",
    "\n",
    "count = 0\n",
    "for idx, row in df[mask].iterrows():\n",
    "    image_s3_url = row.images[0]\n",
    "#     detected_crops_original = [crop for crop in row.metadata['crops'] if crop['category_id'] == 2]\n",
    "#     detected_crops_original = [crop for crop in row.metadata['crops'] if crop['category_id'] == 2]\n",
    "    if 'annotations' in row.annotation:\n",
    "        full_crops_original = [ann for ann in row.annotation['annotations'] if ann['label'] == 'FULL']\n",
    "        partial_crops_original = [ann for ann in row.annotation['annotations'] if ann['label'] == 'PARTIAL']\n",
    "    else:\n",
    "        full_crops_original = []\n",
    "        partial_crops_original = []\n",
    "        \n",
    "#     detected_crops = process_detected_crops(detected_crops_original)\n",
    "#     annotated_crops = process_annotated_crops(annotated_crops_original)\n",
    "    full_crops = process_annotated_crops(full_crops_original)\n",
    "    partial_crops = process_annotated_crops(partial_crops_original)\n",
    "\n",
    "    f = get_image_f(image_s3_url)\n",
    "    output_f = overlay_crops_on_image(f, full_crops, partial_crops, '{} {}'.format(count, f))\n",
    "    output_fs.append(output_f)\n",
    "    \n",
    "    if count % 10 == 0:\n",
    "        print(count)\n",
    "\n",
    "    count += 1\n"
   ]
  },
  {
   "cell_type": "code",
   "execution_count": null,
   "metadata": {},
   "outputs": [],
   "source": []
  },
  {
   "cell_type": "code",
   "execution_count": null,
   "metadata": {},
   "outputs": [],
   "source": [
    "video_f = '/root/data/alok/biomass_estimation/playground/gopro/video.avi'\n",
    "stitch_frames_into_video(output_fs, video_f)"
   ]
  },
  {
   "cell_type": "code",
   "execution_count": null,
   "metadata": {},
   "outputs": [],
   "source": [
    "plt.figure(figsize=(20,20))\n",
    "plt.imshow(cv2.cvtColor(cv2.imread(output_fs[428]), cv2.COLOR_BGR2RGB))"
   ]
  },
  {
   "cell_type": "code",
   "execution_count": null,
   "metadata": {},
   "outputs": [],
   "source": [
    "df[mask].annotation.iloc[438]"
   ]
  },
  {
   "cell_type": "code",
   "execution_count": null,
   "metadata": {},
   "outputs": [],
   "source": []
  },
  {
   "cell_type": "code",
   "execution_count": null,
   "metadata": {},
   "outputs": [],
   "source": []
  },
  {
   "cell_type": "code",
   "execution_count": null,
   "metadata": {},
   "outputs": [],
   "source": []
  },
  {
   "cell_type": "code",
   "execution_count": null,
   "metadata": {},
   "outputs": [],
   "source": []
  },
  {
   "cell_type": "code",
   "execution_count": null,
   "metadata": {},
   "outputs": [],
   "source": []
  },
  {
   "cell_type": "code",
   "execution_count": null,
   "metadata": {},
   "outputs": [],
   "source": []
  }
 ],
 "metadata": {
  "kernelspec": {
   "display_name": "Python 3",
   "language": "python",
   "name": "python3"
  },
  "language_info": {
   "codemirror_mode": {
    "name": "ipython",
    "version": 3
   },
   "file_extension": ".py",
   "mimetype": "text/x-python",
   "name": "python",
   "nbconvert_exporter": "python",
   "pygments_lexer": "ipython3",
   "version": "3.6.5"
  }
 },
 "nbformat": 4,
 "nbformat_minor": 4
}
