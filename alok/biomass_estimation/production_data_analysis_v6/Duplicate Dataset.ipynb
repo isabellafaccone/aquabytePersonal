{
 "cells": [
  {
   "cell_type": "code",
   "execution_count": null,
   "metadata": {},
   "outputs": [],
   "source": [
    "import json\n",
    "import os\n",
    "from research.utils.data_access_utils import S3AccessUtils, RDSAccessUtils\n",
    "import pandas as pd\n",
    "from matplotlib import pyplot as plt\n",
    "import numpy as np"
   ]
  },
  {
   "cell_type": "code",
   "execution_count": null,
   "metadata": {},
   "outputs": [],
   "source": []
  },
  {
   "cell_type": "markdown",
   "metadata": {},
   "source": [
    "<h1> Load Duplicate Dataset </h1>"
   ]
  },
  {
   "cell_type": "code",
   "execution_count": null,
   "metadata": {},
   "outputs": [],
   "source": [
    "s3_access_utils = S3AccessUtils('/root/data', json.load(open(os.environ['AWS_CREDENTIALS'])))\n",
    "url = 'https://aquabyte-images-adhoc.s3-eu-west-1.amazonaws.com/jane/fish_id/bolaks_data_pairs.csv'\n",
    "f, _, _ = s3_access_utils.download_from_url(url)\n",
    "duplicate_df = pd.read_csv(f)\n",
    "duplicate_df = duplicate_df.head(1000)"
   ]
  },
  {
   "cell_type": "code",
   "execution_count": null,
   "metadata": {},
   "outputs": [],
   "source": []
  },
  {
   "cell_type": "markdown",
   "metadata": {},
   "source": [
    "<h1> Load Raw Bolaks dataset from production </h1>"
   ]
  },
  {
   "cell_type": "code",
   "execution_count": null,
   "metadata": {},
   "outputs": [],
   "source": [
    "bolaks_url = 'https://aquabyte-images-adhoc.s3-eu-west-1.amazonaws.com/alok/production_datasets/bolaks_pen_id_88_2020-02-10_2020-03-10.csv'\n",
    "f, _, _ = s3_access_utils.download_from_url(bolaks_url)\n",
    "df = pd.read_csv(f)\n"
   ]
  },
  {
   "cell_type": "code",
   "execution_count": null,
   "metadata": {},
   "outputs": [],
   "source": []
  },
  {
   "cell_type": "code",
   "execution_count": null,
   "metadata": {},
   "outputs": [],
   "source": []
  },
  {
   "cell_type": "code",
   "execution_count": null,
   "metadata": {},
   "outputs": [],
   "source": [
    "len(df.left_crop_url.unique().tolist())"
   ]
  },
  {
   "cell_type": "code",
   "execution_count": null,
   "metadata": {},
   "outputs": [],
   "source": [
    "p1_left_crop_urls = duplicate_df.p1_left_crop_url.tolist()\n",
    "p2_left_crop_urls = duplicate_df.p2_left_crop_url.tolist()\n",
    "unique_left_crop_urls = sorted(list(set(p1_left_crop_urls + p2_left_crop_urls)))\n"
   ]
  },
  {
   "cell_type": "code",
   "execution_count": null,
   "metadata": {},
   "outputs": [],
   "source": [
    "tdf = df[df.left_crop_url.isin(unique_left_crop_urls)]"
   ]
  },
  {
   "cell_type": "code",
   "execution_count": null,
   "metadata": {},
   "outputs": [],
   "source": []
  },
  {
   "cell_type": "code",
   "execution_count": null,
   "metadata": {},
   "outputs": [],
   "source": []
  },
  {
   "cell_type": "code",
   "execution_count": null,
   "metadata": {},
   "outputs": [],
   "source": [
    "f_name = 'bolaks_pen_id_88_2020-02-10_2020-03-10_filtered_1752.csv'\n",
    "f = os.path.join('/root/data/alok/biomass_estimation/playground', f_name)\n",
    "tdf.to_csv(f)\n",
    "bucket, key = 'aquabyte-images-adhoc', 'alok/playground/{}'.format(f_name)\n",
    "s3_access_utils.s3_client.upload_file(f, bucket, key)"
   ]
  },
  {
   "cell_type": "code",
   "execution_count": null,
   "metadata": {},
   "outputs": [],
   "source": []
  },
  {
   "cell_type": "code",
   "execution_count": null,
   "metadata": {},
   "outputs": [],
   "source": [
    "rdf = pd.read_csv('/root/data/alok/biomass_estimation/playground/bolaks_pen_id_88_2020-02-10_2020-03-10_filtered_1752_nn_epoch_798.csv')"
   ]
  },
  {
   "cell_type": "code",
   "execution_count": null,
   "metadata": {},
   "outputs": [],
   "source": [
    "def get_prediction(rdf, left_crop_url):\n",
    "    mask = rdf.left_crop_url == left_crop_url\n",
    "    pred = rdf[mask].nn_epoch_798_estimated_weight_g.iloc[0]\n",
    "    akpd_score = rdf[mask].post_refinement_akpd_score.iloc[0]\n",
    "    return pred, akpd_score"
   ]
  },
  {
   "cell_type": "code",
   "execution_count": null,
   "metadata": {},
   "outputs": [],
   "source": [
    "\n",
    "p1_preds, p2_preds = [], []\n",
    "p1_akpd_scores, p2_akpd_scores = [], []\n",
    "for idx, row in duplicate_df.iterrows():\n",
    "    try:\n",
    "        p1_pred, p1_akpd_score = get_prediction(rdf, row.p1_left_crop_url)\n",
    "        p2_pred, p2_akpd_score = get_prediction(rdf, row.p2_left_crop_url)\n",
    "        p1_preds.append(p1_pred)\n",
    "        p2_preds.append(p2_pred)\n",
    "        p1_akpd_scores.append(p1_akpd_score)\n",
    "        p2_akpd_scores.append(p2_akpd_score)\n",
    "    except:\n",
    "        p1_preds.append(None)\n",
    "        p2_preds.append(None)\n",
    "        p1_akpd_scores.append(None)\n",
    "        p2_akpd_scores.append(None)\n",
    "        \n",
    "\n",
    "    "
   ]
  },
  {
   "cell_type": "code",
   "execution_count": null,
   "metadata": {},
   "outputs": [],
   "source": []
  },
  {
   "cell_type": "code",
   "execution_count": null,
   "metadata": {},
   "outputs": [],
   "source": [
    "mask = rdf.akpd_score > 0.9\n",
    "(rdf[mask].estimated_weight_g.mean() - rdf[mask].nn_epoch_798_estimated_weight_g.mean()) / rdf[mask].estimated_weight_g.mean()"
   ]
  },
  {
   "cell_type": "code",
   "execution_count": null,
   "metadata": {},
   "outputs": [],
   "source": [
    "rdf[mask].estimated_weight_g.mean()"
   ]
  },
  {
   "cell_type": "code",
   "execution_count": null,
   "metadata": {},
   "outputs": [],
   "source": [
    "rdf[mask].nn_epoch_798_estimated_weight_g.mean()"
   ]
  },
  {
   "cell_type": "code",
   "execution_count": null,
   "metadata": {},
   "outputs": [],
   "source": []
  },
  {
   "cell_type": "code",
   "execution_count": null,
   "metadata": {},
   "outputs": [],
   "source": [
    "duplicate_df['p1_pred'] = p1_preds\n",
    "duplicate_df['p2_pred'] = p2_preds\n",
    "duplicate_df['pred_min'] = duplicate_df[['p1_pred', 'p2_pred']].min(axis=1)\n",
    "duplicate_df['pred_max'] = duplicate_df[['p1_pred', 'p2_pred']].max(axis=1)\n",
    "duplicate_df['p1_akpd_score'] = p1_akpd_scores\n",
    "duplicate_df['p2_akpd_score'] = p2_akpd_scores\n"
   ]
  },
  {
   "cell_type": "code",
   "execution_count": null,
   "metadata": {},
   "outputs": [],
   "source": [
    "(((duplicate_df.max_w - duplicate_df.min_w).abs() / duplicate_df.min_w)**2).mean() ** 0.5"
   ]
  },
  {
   "cell_type": "code",
   "execution_count": null,
   "metadata": {},
   "outputs": [],
   "source": [
    "(((duplicate_df[mask].pred_max - duplicate_df[mask].pred_min).abs() / duplicate_df[mask].pred_min)**2).mean() ** 0.5"
   ]
  },
  {
   "cell_type": "code",
   "execution_count": null,
   "metadata": {},
   "outputs": [],
   "source": []
  },
  {
   "cell_type": "code",
   "execution_count": null,
   "metadata": {},
   "outputs": [],
   "source": [
    "plt.figure(figsize=(20, 10))\n",
    "duplicate_df['original_pred_avg'] = 0.5*(duplicate_df.p1_w + duplicate_df.p2_w)\n",
    "duplicate_df['original_pct_diff'] = 100*(duplicate_df.p1_w - duplicate_df.p2_w) / duplicate_df.original_pred_avg\n",
    "duplicate_df['new_pred_avg'] = 0.5 * (duplicate_df.p1_pred + duplicate_df.p2_pred)\n",
    "duplicate_df['new_pct_diff'] = 100*(duplicate_df.p1_pred - duplicate_df.p2_pred) / duplicate_df.new_pred_avg\n",
    "\n",
    "# plot original deviations between duplicates\n",
    "plt.hist(duplicate_df.original_pct_diff, \n",
    "         weights=np.ones(duplicate_df.shape[0])/duplicate_df.shape[0],\n",
    "         bins=np.arange(-50, 50, 5),\n",
    "         color='blue',\n",
    "         label='Before AKPR (Automatic Key-point Refinement)',\n",
    "         \n",
    "         alpha=0.8)\n",
    "\n",
    "# plot deviations between duplicates after AKPR\n",
    "mask = (duplicate_df.p1_akpd_score > 0.99) & (duplicate_df.p2_akpd_score > 0.99)\n",
    "plt.hist(duplicate_df[mask].new_pct_diff, \n",
    "         weights=np.ones(duplicate_df[mask].shape[0])/duplicate_df[mask].shape[0],\n",
    "         bins=np.arange(-50, 50, 5),\n",
    "         color='red',\n",
    "         label='After AKPR',\n",
    "         alpha=0.8)\n",
    "\n",
    "plt.xlabel('Adjusted Percentage Difference Between Duplicates (%)')\n",
    "plt.ylabel('Frequency')\n",
    "plt.legend()\n",
    "plt.grid()\n",
    "plt.show()"
   ]
  },
  {
   "cell_type": "code",
   "execution_count": null,
   "metadata": {},
   "outputs": [],
   "source": []
  },
  {
   "cell_type": "code",
   "execution_count": null,
   "metadata": {},
   "outputs": [],
   "source": []
  },
  {
   "cell_type": "code",
   "execution_count": null,
   "metadata": {},
   "outputs": [],
   "source": []
  },
  {
   "cell_type": "code",
   "execution_count": null,
   "metadata": {},
   "outputs": [],
   "source": []
  },
  {
   "cell_type": "code",
   "execution_count": null,
   "metadata": {},
   "outputs": [],
   "source": [
    "duplicate_df.min_w.mean()"
   ]
  },
  {
   "cell_type": "code",
   "execution_count": null,
   "metadata": {},
   "outputs": [],
   "source": [
    "duplicate_df.max_w.mean()"
   ]
  },
  {
   "cell_type": "code",
   "execution_count": null,
   "metadata": {},
   "outputs": [],
   "source": [
    "duplicate_df.p1_pred.mean()"
   ]
  },
  {
   "cell_type": "code",
   "execution_count": null,
   "metadata": {},
   "outputs": [],
   "source": [
    "duplicate_df.p2_pred.mean()"
   ]
  },
  {
   "cell_type": "code",
   "execution_count": null,
   "metadata": {},
   "outputs": [],
   "source": [
    "duplicate_df.pred_min.mean()"
   ]
  },
  {
   "cell_type": "code",
   "execution_count": null,
   "metadata": {},
   "outputs": [],
   "source": [
    "duplicate_df.pred_max.mean()"
   ]
  },
  {
   "cell_type": "code",
   "execution_count": null,
   "metadata": {},
   "outputs": [],
   "source": [
    "mask = (rdf.post_refinement_akpd_score >= 0.99) & (rdf.akpd_score >= 0.99)\n",
    "\n",
    "(rdf[mask].estimated_weight_g - rdf[mask].nn_epoch_798_estimated_weight_g).mean()"
   ]
  },
  {
   "cell_type": "code",
   "execution_count": null,
   "metadata": {},
   "outputs": [],
   "source": []
  },
  {
   "cell_type": "code",
   "execution_count": null,
   "metadata": {},
   "outputs": [],
   "source": []
  },
  {
   "cell_type": "code",
   "execution_count": null,
   "metadata": {},
   "outputs": [],
   "source": []
  },
  {
   "cell_type": "code",
   "execution_count": null,
   "metadata": {},
   "outputs": [],
   "source": []
  },
  {
   "cell_type": "code",
   "execution_count": null,
   "metadata": {},
   "outputs": [],
   "source": [
    "duplicate_df"
   ]
  },
  {
   "cell_type": "code",
   "execution_count": null,
   "metadata": {},
   "outputs": [],
   "source": []
  },
  {
   "cell_type": "code",
   "execution_count": null,
   "metadata": {},
   "outputs": [],
   "source": []
  },
  {
   "cell_type": "code",
   "execution_count": null,
   "metadata": {},
   "outputs": [],
   "source": []
  },
  {
   "cell_type": "code",
   "execution_count": null,
   "metadata": {},
   "outputs": [],
   "source": []
  },
  {
   "cell_type": "code",
   "execution_count": null,
   "metadata": {},
   "outputs": [],
   "source": []
  },
  {
   "cell_type": "code",
   "execution_count": null,
   "metadata": {},
   "outputs": [],
   "source": []
  }
 ],
 "metadata": {
  "kernelspec": {
   "display_name": "Python 3",
   "language": "python",
   "name": "python3"
  },
  "language_info": {
   "codemirror_mode": {
    "name": "ipython",
    "version": 3
   },
   "file_extension": ".py",
   "mimetype": "text/x-python",
   "name": "python",
   "nbconvert_exporter": "python",
   "pygments_lexer": "ipython3",
   "version": "3.6.5"
  }
 },
 "nbformat": 4,
 "nbformat_minor": 2
}
