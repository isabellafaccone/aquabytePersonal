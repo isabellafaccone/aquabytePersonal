{
 "cells": [
  {
   "cell_type": "code",
   "execution_count": null,
   "metadata": {},
   "outputs": [],
   "source": [
    "import json\n",
    "import os\n",
    "from matplotlib import pyplot as plt\n",
    "import numpy as np\n",
    "import pandas as pd\n",
    "from research.utils.data_access_utils import S3AccessUtils, RDSAccessUtils\n",
    "from weight_estimation.body_parts import core_body_parts\n",
    "from weight_estimation.utils import convert_to_world_point_arr, get_left_right_keypoint_arrs, CameraMetadata"
   ]
  },
  {
   "cell_type": "code",
   "execution_count": null,
   "metadata": {},
   "outputs": [],
   "source": [
    "help(get_left_right_keypoint_arrs)"
   ]
  },
  {
   "cell_type": "markdown",
   "metadata": {},
   "source": [
    "<h1> Load Kjeppevikholmen AKPD annotations </h1>"
   ]
  },
  {
   "cell_type": "code",
   "execution_count": null,
   "metadata": {},
   "outputs": [],
   "source": [
    "df = pd.concat([\n",
    "    pd.read_csv('/root/data/alok/biomass_estimation/playground/output-pen=5/biomass_output,pen=5,range=(2019-06-05,2019-06-12).csv'),\n",
    "    pd.read_csv('/root/data/alok/biomass_estimation/playground/output-pen=5/biomass_output,pen=5,range=(2019-06-12,2019-06-19).csv'),\n",
    "    pd.read_csv('/root/data/alok/biomass_estimation/playground/output-pen=5/biomass_output,pen=5,range=(2019-06-19,2019-06-26).csv'),\n",
    "    pd.read_csv('/root/data/alok/biomass_estimation/playground/output-pen=5/biomass_output,pen=5,range=(2019-06-26,2019-07-03).csv'),\n",
    "    pd.read_csv('/root/data/alok/biomass_estimation/playground/output-pen=5/biomass_output,pen=5,range=(2019-07-03,2019-07-04).csv')\n",
    "])\n",
    "\n",
    "df = df.sort_values('captured_at')\n",
    "df['estimated_weight_g'] = df.weight\n",
    "df.index = pd.to_datetime(df.captured_at)\n",
    "df['hour'] = df.index.hour\n"
   ]
  },
  {
   "cell_type": "code",
   "execution_count": null,
   "metadata": {},
   "outputs": [],
   "source": []
  },
  {
   "cell_type": "markdown",
   "metadata": {},
   "source": [
    "<h1> Load Kjeppevikholmen Manual Annotations & Merge </h1>"
   ]
  },
  {
   "cell_type": "code",
   "execution_count": null,
   "metadata": {},
   "outputs": [],
   "source": [
    "s3 = S3AccessUtils('/root/data', json.load(open(os.environ['AWS_CREDENTIALS'])))\n",
    "rds = RDSAccessUtils(json.load(open(os.environ['PROD_SQL_CREDENTIALS'])))\n",
    "\n",
    "query = \"\"\"\n",
    "SELECT * FROM keypoint_annotations\n",
    "WHERE pen_id=5\n",
    "AND captured_at BETWEEN '2019-06-05' AND '2019-07-02'\n",
    "AND keypoints is not null\n",
    "AND keypoints -> 'leftCrop' is not null\n",
    "AND keypoints -> 'rightCrop' is not null\n",
    "AND is_qa = FALSE;\n",
    "\"\"\"\n",
    "\n",
    "mdf = rds.extract_from_database(query)"
   ]
  },
  {
   "cell_type": "code",
   "execution_count": null,
   "metadata": {},
   "outputs": [],
   "source": [
    "url_intersection = sorted(list(set(mdf.left_image_url).intersection(df.left_crop_url)))\n",
    "tdf = df[df.left_crop_url.isin(url_intersection)].sort_values('left_crop_url')\n",
    "tdf['manual_keypoints'] = mdf[mdf.left_image_url.isin(url_intersection)].sort_values('left_image_url').keypoints.values\n",
    "tdf['camera_metadata'] = mdf[mdf.left_image_url.isin(url_intersection)].sort_values('left_image_url').camera_metadata.values\n"
   ]
  },
  {
   "cell_type": "code",
   "execution_count": null,
   "metadata": {},
   "outputs": [],
   "source": [
    "tdf.camera_metadata.iloc[0]"
   ]
  },
  {
   "cell_type": "markdown",
   "metadata": {},
   "source": [
    "<h1> Compute Jitter Column </h1>"
   ]
  },
  {
   "cell_type": "code",
   "execution_count": null,
   "metadata": {},
   "outputs": [],
   "source": [
    "body_parts, depths, diffs_l_x, diffs_r_x, diffs_l_y, diffs_r_y = [], [], [], [], [], []\n",
    "for idx, row in tdf.iterrows():\n",
    "    \n",
    "    if row.akpd_score < 0.01:\n",
    "        continue\n",
    "    \n",
    "    manual_keypoints = row.manual_keypoints\n",
    "    akpd_keypoints = json.loads(row.annotation)\n",
    "    \n",
    "    # compute depth from manual keypoints\n",
    "    \n",
    "    cm = row.camera_metadata\n",
    "    camera_metadata = CameraMetadata(\n",
    "        baseline_m=cm['baseline'],\n",
    "        focal_length=cm['focalLength'],\n",
    "        focal_length_pixel=cm['focalLengthPixel'],\n",
    "        pixel_count_width=cm['pixelCountWidth'],\n",
    "        pixel_count_height=cm['pixelCountHeight'],\n",
    "        image_sensor_width=cm['imageSensorWidth'],\n",
    "        image_sensor_height=cm['imageSensorHeight'],\n",
    "    )\n",
    "    \n",
    "    \n",
    "    left_kps, right_kps = get_left_right_keypoint_arrs(manual_keypoints)\n",
    "    wkps = convert_to_world_point_arr(left_kps, right_kps, camera_metadata)\n",
    "    depth = np.median(wkps[:, 1])\n",
    "    \n",
    "    ann_dict_left_kps_m = {item['keypointType']: [item['xFrame'], item['yFrame']] for item in manual_keypoints['leftCrop']}\n",
    "    ann_dict_right_kps_m = {item['keypointType']: [item['xFrame'], item['yFrame']] for item in manual_keypoints['rightCrop']}\n",
    "    ann_dict_left_kps_a = {item['keypointType']: [item['xFrame'], item['yFrame']] for item in akpd_keypoints['leftCrop']}\n",
    "    ann_dict_right_kps_a = {item['keypointType']: [item['xFrame'], item['yFrame']] for item in akpd_keypoints['rightCrop']}\n",
    "    for body_part in core_body_parts:\n",
    "        depths.append(depth)\n",
    "        body_parts.append(body_part)\n",
    "        diff_l_x = ann_dict_left_kps_m[body_part][0] - ann_dict_left_kps_a[body_part][0]\n",
    "        diff_r_x = ann_dict_right_kps_m[body_part][0] - ann_dict_right_kps_a[body_part][0]\n",
    "        diff_l_y = ann_dict_left_kps_m[body_part][1] - ann_dict_left_kps_a[body_part][1]\n",
    "        diff_r_y = ann_dict_right_kps_m[body_part][1] - ann_dict_right_kps_a[body_part][1]\n",
    "        diffs_l_x.append(diff_l_x)\n",
    "        diffs_r_x.append(diff_r_x)\n",
    "        diffs_l_y.append(diff_l_y)\n",
    "        diffs_r_y.append(diff_r_y)\n",
    "        \n",
    "    \n",
    "        \n",
    "        \n",
    "        "
   ]
  },
  {
   "cell_type": "code",
   "execution_count": null,
   "metadata": {},
   "outputs": [],
   "source": []
  },
  {
   "cell_type": "code",
   "execution_count": null,
   "metadata": {},
   "outputs": [],
   "source": [
    "rdf = pd.DataFrame({\n",
    "    'body_part': body_parts,\n",
    "    'depth': depths,\n",
    "    'diff_l_x': diffs_l_x, \n",
    "    'diff_r_x': diffs_r_x,\n",
    "    'diff_l_y': diffs_l_y,\n",
    "    'diff_r_y': diffs_r_y\n",
    "})"
   ]
  },
  {
   "cell_type": "code",
   "execution_count": null,
   "metadata": {},
   "outputs": [],
   "source": []
  },
  {
   "cell_type": "markdown",
   "metadata": {},
   "source": [
    "<h1> Visualize x-axis diff standard deviation (i.e. jitter) broken down by depth bucket </h1>"
   ]
  },
  {
   "cell_type": "code",
   "execution_count": null,
   "metadata": {},
   "outputs": [],
   "source": []
  },
  {
   "cell_type": "code",
   "execution_count": null,
   "metadata": {},
   "outputs": [],
   "source": []
  },
  {
   "cell_type": "code",
   "execution_count": null,
   "metadata": {},
   "outputs": [],
   "source": []
  },
  {
   "cell_type": "code",
   "execution_count": null,
   "metadata": {},
   "outputs": [],
   "source": []
  },
  {
   "cell_type": "code",
   "execution_count": null,
   "metadata": {},
   "outputs": [],
   "source": [
    "from sklearn.linear_model import LinearRegression\n",
    "\n",
    "def compute_regression_line(buckets, stds):\n",
    "    lr = LinearRegression()\n",
    "    X = np.array(range(len(buckets))).reshape(-1, 1)\n",
    "    y = np.array(stds)\n",
    "    reg = lr.fit(X, y)\n",
    "    return float(reg.coef_), float(reg.intercept_)\n",
    "\n",
    "fig, axes = plt.subplots(2, 4, figsize=(20, 10))\n",
    "for idx, body_part in enumerate(core_body_parts):\n",
    "    depth_buckets = np.arange(0.5, 2.2, 0.1)\n",
    "    buckets, stds = [], []\n",
    "    for low_depth, high_depth in zip(depth_buckets, depth_buckets[1:]):\n",
    "        bucket = '{}-{}'.format(round(low_depth, 2), round(high_depth, 2))\n",
    "        mask = (rdf.depth >= low_depth) & (rdf.depth <= high_depth) & (rdf.body_part == body_part) & \\\n",
    "               (rdf.diff_l_x.abs() < 50)\n",
    "        std = rdf[mask].diff_l_x.std()\n",
    "\n",
    "        buckets.append(bucket)\n",
    "        stds.append(std)\n",
    "    \n",
    "    # plot empirical standard deviations broken down by depth bucket\n",
    "    row, col = idx // 4, idx % 4\n",
    "    ax = axes[row, col]\n",
    "    ax.plot(stds, label='empirical jitter std values')\n",
    "    ax.set_xticks(range(len(buckets)))\n",
    "    ax.set_xticklabels(buckets, rotation=90)\n",
    "    ax.grid()\n",
    "    ax.set_title(body_part)\n",
    "    ax.set_xlabel('Depth bucket (m)')\n",
    "    ax.set_ylabel('Jitter standard deviation')\n",
    "    \n",
    "    # compute & plot regression line\n",
    "    m, b = compute_regression_line(buckets, stds)\n",
    "    x_values = np.array(range(len(buckets)))\n",
    "    y_values = m * x_values + b\n",
    "    ax.plot(x_values, y_values, linestyle='dashed', color='red', \n",
    "            label='Regression line: std = {}x + {}'.format(round(m, 2), round(b, 2)))\n",
    "    ax.legend()\n",
    "    \n",
    "\n",
    "fig.subplots_adjust(hspace=0.5)\n",
    "\n",
    "plt.show()"
   ]
  },
  {
   "cell_type": "code",
   "execution_count": null,
   "metadata": {},
   "outputs": [],
   "source": []
  },
  {
   "cell_type": "code",
   "execution_count": null,
   "metadata": {},
   "outputs": [],
   "source": [
    "for body_part in core_body_parts:\n",
    "    depth_buckets = np.arange(0.5, 2.2, 0.1)\n",
    "    fig, axes = plt.subplots(4, 4, figsize=(20, 10))\n",
    "    \n",
    "    idx = 0\n",
    "    print('QQ plots by depth bucket for body part: {}'.format(body_part))\n",
    "    for low_depth, high_depth in zip(depth_buckets, depth_buckets[1:]):\n",
    "        mask = (rdf.depth >= low_depth) & (rdf.depth <= high_depth) & (rdf.body_part == body_part)\n",
    "        vals = rdf[mask].diff_l_x.values\n",
    "        \n",
    "        row, col = idx // 4, idx % 4\n",
    "        ax = axes[row, col]\n",
    "        stats.probplot(vals, dist='norm', plot=ax)\n",
    "        ax.set_title('Depth bucket (m): {}-{}'.format(round(low_depth, 2), round(high_depth, 2)))\n",
    "        \n",
    "        idx += 1\n",
    "        \n",
    "    fig.subplots_adjust(hspace=0.5)\n",
    "    plt.show()        \n",
    "        "
   ]
  },
  {
   "cell_type": "code",
   "execution_count": null,
   "metadata": {},
   "outputs": [],
   "source": []
  },
  {
   "cell_type": "code",
   "execution_count": null,
   "metadata": {},
   "outputs": [],
   "source": []
  },
  {
   "cell_type": "code",
   "execution_count": null,
   "metadata": {},
   "outputs": [],
   "source": []
  },
  {
   "cell_type": "code",
   "execution_count": null,
   "metadata": {},
   "outputs": [],
   "source": []
  },
  {
   "cell_type": "code",
   "execution_count": null,
   "metadata": {},
   "outputs": [],
   "source": []
  },
  {
   "cell_type": "code",
   "execution_count": null,
   "metadata": {},
   "outputs": [],
   "source": []
  },
  {
   "cell_type": "code",
   "execution_count": null,
   "metadata": {},
   "outputs": [],
   "source": []
  },
  {
   "cell_type": "code",
   "execution_count": null,
   "metadata": {},
   "outputs": [],
   "source": []
  },
  {
   "cell_type": "code",
   "execution_count": null,
   "metadata": {},
   "outputs": [],
   "source": []
  },
  {
   "cell_type": "code",
   "execution_count": null,
   "metadata": {},
   "outputs": [],
   "source": []
  }
 ],
 "metadata": {
  "kernelspec": {
   "display_name": "Python 3",
   "language": "python",
   "name": "python3"
  },
  "language_info": {
   "codemirror_mode": {
    "name": "ipython",
    "version": 3
   },
   "file_extension": ".py",
   "mimetype": "text/x-python",
   "name": "python",
   "nbconvert_exporter": "python",
   "pygments_lexer": "ipython3",
   "version": "3.6.5"
  }
 },
 "nbformat": 4,
 "nbformat_minor": 4
}
