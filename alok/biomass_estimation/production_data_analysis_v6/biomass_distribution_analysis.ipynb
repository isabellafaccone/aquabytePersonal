{
 "cells": [
  {
   "cell_type": "code",
   "execution_count": 24,
   "metadata": {},
   "outputs": [],
   "source": [
    "import json\n",
    "import datetime as dt\n",
    "import os\n",
    "import numpy as np\n",
    "import pandas as pd\n",
    "from research.utils.data_access_utils import RDSAccessUtils\n",
    "from research.utils.datetime_utils import add_days\n",
    "from research.weight_estimation.population_metrics import PopulationMetricsEstimator"
   ]
  },
  {
   "cell_type": "code",
   "execution_count": null,
   "metadata": {},
   "outputs": [],
   "source": []
  },
  {
   "cell_type": "code",
   "execution_count": 31,
   "metadata": {},
   "outputs": [],
   "source": [
    "class DataGenerator(object):\n",
    "\n",
    "    def __init__(self):\n",
    "        credentials = json.load(open(os.environ['DATA_WAREHOUSE_SQL_CREDENTIALS']))\n",
    "        self.rds_access_utils = RDSAccessUtils(credentials)\n",
    "        self.df = None\n",
    "\n",
    "    def query_from_db(self, pen_id, start_date=None, end_date=None, min_akpd_score=0.99):\n",
    "        if not end_date:\n",
    "            end_date = dt.datetime.strftime(dt.datetime.now(), '%Y-%m-%d')\n",
    "        if not start_date:\n",
    "            start_date = add_days(end_date, -30 * 6)\n",
    "        query = \"\"\"\n",
    "            SELECT * FROM\n",
    "            prod.biomass_computations bc\n",
    "            WHERE bc.pen_id={}\n",
    "            AND bc.akpd_score >= {}\n",
    "            AND bc.captured_at between '{}' and '{}'\n",
    "            AND bc.estimated_weight_g > 0.0\n",
    "        \"\"\".format(pen_id, min_akpd_score, start_date, end_date)\n",
    "\n",
    "        print('Executing query...')\n",
    "        print(query)\n",
    "        self.df = self.rds_access_utils.extract_from_database(query)\n",
    "        print('Query complete!')\n",
    "        self.df = self.df.loc[:, ~self.df.columns.duplicated()]\n",
    "        self.df.rename(columns={'estimated_weight_g': 'estimated_weight_g_0'}, inplace=True)\n",
    "\n",
    "\n",
    "    def preprocess_df(self):\n",
    "        self.df.index = list(range(self.df.shape[0]))\n",
    "        self.df = self.df.sort_values('captured_at').copy(deep=True)\n",
    "        self.df.index = pd.to_datetime(self.df.captured_at)\n",
    "        dates = self.df.index.date.astype(str)\n",
    "        self.df['date'] = dates\n",
    "        self.df['estimated_k_factor'] = 0.0\n",
    "        self.df['hour'] = self.df.index.hour\n",
    "\n",
    "\n",
    "    # generate default data-frame to use on start-up\n",
    "    def get_df(self):\n",
    "        return self.df\n",
    "\n",
    "    \n",
    "def generate_pme(df, start_date, end_date, start_hour, end_hour):\n",
    "    date_mask = (df.date >= start_date) & (df.date <= end_date)\n",
    "    if start_hour < end_hour:\n",
    "        hour_mask = (df.hour >= start_hour) & (df.hour <= end_hour)\n",
    "    else:\n",
    "        hour_mask = (df.hour >= start_hour) | (df.hour <= end_hour)\n",
    "    mask = date_mask & hour_mask\n",
    "    biomass_computations = list(zip(df[mask].date.values,\n",
    "                                    df.loc[mask, 'estimated_weight_g_0'].values,\n",
    "                                    df[mask].estimated_k_factor.values))\n",
    "    if biomass_computations:\n",
    "        return PopulationMetricsEstimator(biomass_computations)\n",
    "    return None\n"
   ]
  },
  {
   "cell_type": "code",
   "execution_count": 32,
   "metadata": {},
   "outputs": [],
   "source": [
    "pen_id = 56\n",
    "start_date = '2020-04-20'\n",
    "end_date = '2020-05-10'\n",
    "start_hour = 0\n",
    "end_hour = 24"
   ]
  },
  {
   "cell_type": "code",
   "execution_count": 33,
   "metadata": {},
   "outputs": [
    {
     "name": "stdout",
     "output_type": "stream",
     "text": [
      "Executing query...\n",
      "\n",
      "            SELECT * FROM\n",
      "            prod.biomass_computations bc\n",
      "            WHERE bc.pen_id=56\n",
      "            AND bc.akpd_score >= 0.99\n",
      "            AND bc.captured_at between '2020-04-20' and '2020-05-10'\n",
      "            AND bc.estimated_weight_g > 0.0\n",
      "        \n",
      "Query complete!\n"
     ]
    }
   ],
   "source": [
    "dg = DataGenerator()\n",
    "dg.query_from_db(pen_id, start_date=start_date, end_date=end_date)\n",
    "dg.preprocess_df()\n",
    "df = dg.get_df()"
   ]
  },
  {
   "cell_type": "code",
   "execution_count": null,
   "metadata": {},
   "outputs": [],
   "source": []
  },
  {
   "cell_type": "code",
   "execution_count": null,
   "metadata": {},
   "outputs": [],
   "source": []
  },
  {
   "cell_type": "code",
   "execution_count": 34,
   "metadata": {},
   "outputs": [],
   "source": [
    "pme = generate_pme(df, start_date, end_date, start_hour, end_hour)\n"
   ]
  },
  {
   "cell_type": "code",
   "execution_count": 35,
   "metadata": {},
   "outputs": [
    {
     "name": "stderr",
     "output_type": "stream",
     "text": [
      "/usr/local/lib/python3.8/site-packages/numpy/core/fromnumeric.py:3256: RuntimeWarning: Mean of empty slice.\n",
      "  return _methods._mean(a, axis=axis, dtype=dtype,\n",
      "/usr/local/lib/python3.8/site-packages/numpy/core/_methods.py:161: RuntimeWarning: invalid value encountered in double_scalars\n",
      "  ret = ret.dtype.type(ret / rcount)\n"
     ]
    }
   ],
   "source": [
    "metrics = pme.generate_smart_metrics_on_date('2020-04-22')"
   ]
  },
  {
   "cell_type": "code",
   "execution_count": 36,
   "metadata": {},
   "outputs": [
    {
     "data": {
      "text/plain": [
       "{'raw_average_weight': 2290.5669089855064,\n",
       " 'raw_average_kf': 0.0,\n",
       " 'raw_sample_size': 2983,\n",
       " 'smart_average_weight': 2275.9499052756346,\n",
       " 'smart_average_kf': 0.0,\n",
       " 'smart_distribution': {'0.0': {'count': 0, 'avgKFactor': None},\n",
       "  '0.1': {'count': 0, 'avgKFactor': None},\n",
       "  '0.2': {'count': 0, 'avgKFactor': None},\n",
       "  '0.3': {'count': 0, 'avgKFactor': None},\n",
       "  '0.4': {'count': 0, 'avgKFactor': None},\n",
       "  '0.5': {'count': 0, 'avgKFactor': None},\n",
       "  '0.6': {'count': 0, 'avgKFactor': None},\n",
       "  '0.7': {'count': 1, 'avgKFactor': 0.0},\n",
       "  '0.8': {'count': 0, 'avgKFactor': None},\n",
       "  '0.9': {'count': 5, 'avgKFactor': 0.0},\n",
       "  '1.0': {'count': 5, 'avgKFactor': 0.0},\n",
       "  '1.1': {'count': 18, 'avgKFactor': 0.0},\n",
       "  '1.2': {'count': 45, 'avgKFactor': 0.0},\n",
       "  '1.3': {'count': 88, 'avgKFactor': 0.0},\n",
       "  '1.4': {'count': 166, 'avgKFactor': 0.0},\n",
       "  '1.5': {'count': 248, 'avgKFactor': 0.0},\n",
       "  '1.6': {'count': 315, 'avgKFactor': 0.0},\n",
       "  '1.7': {'count': 410, 'avgKFactor': 0.0},\n",
       "  '1.8': {'count': 499, 'avgKFactor': 0.0},\n",
       "  '1.9': {'count': 532, 'avgKFactor': 0.0},\n",
       "  '2.0': {'count': 589, 'avgKFactor': 0.0},\n",
       "  '2.1': {'count': 580, 'avgKFactor': 0.0},\n",
       "  '2.2': {'count': 612, 'avgKFactor': 0.0},\n",
       "  '2.3': {'count': 606, 'avgKFactor': 0.0},\n",
       "  '2.4': {'count': 551, 'avgKFactor': 0.0},\n",
       "  '2.5': {'count': 464, 'avgKFactor': 0.0},\n",
       "  '2.6': {'count': 427, 'avgKFactor': 0.0},\n",
       "  '2.7': {'count': 361, 'avgKFactor': 0.0},\n",
       "  '2.8': {'count': 268, 'avgKFactor': 0.0},\n",
       "  '2.9': {'count': 236, 'avgKFactor': 0.0},\n",
       "  '3.0': {'count': 183, 'avgKFactor': 0.0},\n",
       "  '3.1': {'count': 116, 'avgKFactor': 0.0},\n",
       "  '3.2': {'count': 87, 'avgKFactor': 0.0},\n",
       "  '3.3': {'count': 75, 'avgKFactor': 0.0},\n",
       "  '3.4': {'count': 43, 'avgKFactor': 0.0},\n",
       "  '3.5': {'count': 45, 'avgKFactor': 0.0},\n",
       "  '3.6': {'count': 32, 'avgKFactor': 0.0},\n",
       "  '3.7': {'count': 16, 'avgKFactor': 0.0},\n",
       "  '3.8': {'count': 11, 'avgKFactor': 0.0},\n",
       "  '3.9': {'count': 7, 'avgKFactor': 0.0},\n",
       "  '4.0': {'count': 12, 'avgKFactor': 0.0},\n",
       "  '4.1': {'count': 6, 'avgKFactor': 0.0},\n",
       "  '4.2': {'count': 4, 'avgKFactor': 0.0},\n",
       "  '4.3': {'count': 1, 'avgKFactor': 0.0},\n",
       "  '4.4': {'count': 1, 'avgKFactor': 0.0},\n",
       "  '4.5': {'count': 1, 'avgKFactor': 0.0}},\n",
       " 'smart_sample_size': 7666,\n",
       " 'adj_weights': array([2153.92919624, 2382.80948019, 2025.44287078, ..., 2035.12564224,\n",
       "        1892.47221448, 1506.78775558]),\n",
       " 'kfs': array([0., 0., 0., ..., 0., 0., 0.]),\n",
       " 'growth_rate': -0.002509096536391944,\n",
       " 'error_magnitude_pct': 0.008248550557940795,\n",
       " 'distribution_consistency': 0.9852191710619872}"
      ]
     },
     "execution_count": 36,
     "metadata": {},
     "output_type": "execute_result"
    }
   ],
   "source": [
    "metrics"
   ]
  },
  {
   "cell_type": "code",
   "execution_count": null,
   "metadata": {},
   "outputs": [],
   "source": []
  },
  {
   "cell_type": "code",
   "execution_count": null,
   "metadata": {},
   "outputs": [],
   "source": []
  },
  {
   "cell_type": "code",
   "execution_count": null,
   "metadata": {},
   "outputs": [],
   "source": []
  },
  {
   "cell_type": "code",
   "execution_count": null,
   "metadata": {},
   "outputs": [],
   "source": []
  },
  {
   "cell_type": "code",
   "execution_count": null,
   "metadata": {},
   "outputs": [],
   "source": []
  },
  {
   "cell_type": "code",
   "execution_count": null,
   "metadata": {},
   "outputs": [],
   "source": []
  },
  {
   "cell_type": "code",
   "execution_count": null,
   "metadata": {},
   "outputs": [],
   "source": []
  }
 ],
 "metadata": {
  "kernelspec": {
   "display_name": "Python 3",
   "language": "python",
   "name": "python3"
  },
  "language_info": {
   "codemirror_mode": {
    "name": "ipython",
    "version": 3
   },
   "file_extension": ".py",
   "mimetype": "text/x-python",
   "name": "python",
   "nbconvert_exporter": "python",
   "pygments_lexer": "ipython3",
   "version": "3.8.2"
  }
 },
 "nbformat": 4,
 "nbformat_minor": 4
}
