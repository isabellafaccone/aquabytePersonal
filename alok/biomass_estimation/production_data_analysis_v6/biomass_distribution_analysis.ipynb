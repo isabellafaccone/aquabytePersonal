{
 "cells": [
  {
   "cell_type": "code",
   "execution_count": null,
   "metadata": {},
   "outputs": [],
   "source": [
    "import json\n",
    "import datetime as dt\n",
    "import os\n",
    "import numpy as np\n",
    "import pandas as pd\n",
    "from research.utils.data_access_utils import RDSAccessUtils\n",
    "from research.utils.datetime_utils import add_days\n",
    "from research.weight_estimation.population_metrics import PopulationMetricsEstimator"
   ]
  },
  {
   "cell_type": "code",
   "execution_count": null,
   "metadata": {},
   "outputs": [],
   "source": []
  },
  {
   "cell_type": "code",
   "execution_count": null,
   "metadata": {},
   "outputs": [],
   "source": [
    "class DataGenerator(object):\n",
    "\n",
    "    def __init__(self):\n",
    "        credentials = json.load(open(os.environ['DATA_WAREHOUSE_SQL_CREDENTIALS']))\n",
    "        self.rds_access_utils = RDSAccessUtils(credentials)\n",
    "        self.df = None\n",
    "\n",
    "    def query_from_db(self, pen_id, start_date=None, end_date=None, min_akpd_score=0.99):\n",
    "        if not end_date:\n",
    "            end_date = dt.datetime.strftime(dt.datetime.now(), '%Y-%m-%d')\n",
    "        if not start_date:\n",
    "            start_date = add_days(end_date, -30 * 6)\n",
    "        query = \"\"\"\n",
    "            SELECT * FROM\n",
    "            prod.biomass_computations bc\n",
    "            WHERE bc.pen_id={}\n",
    "            AND bc.akpd_score >= {}\n",
    "            AND bc.captured_at between '{}' and '{}'\n",
    "            AND bc.estimated_weight_g > 0.0\n",
    "        \"\"\".format(pen_id, min_akpd_score, start_date, end_date)\n",
    "\n",
    "        print('Executing query...')\n",
    "        print(query)\n",
    "        self.df = self.rds_access_utils.extract_from_database(query)\n",
    "        print('Query complete!')\n",
    "        self.df = self.df.loc[:, ~self.df.columns.duplicated()]\n",
    "        self.df.rename(columns={'estimated_weight_g': 'estimated_weight_g_0'}, inplace=True)\n",
    "\n",
    "\n",
    "    def preprocess_df(self):\n",
    "        self.df.index = list(range(self.df.shape[0]))\n",
    "        self.df = self.df.sort_values('captured_at').copy(deep=True)\n",
    "        self.df.index = pd.to_datetime(self.df.captured_at)\n",
    "        dates = self.df.index.date.astype(str)\n",
    "        self.df['date'] = dates\n",
    "        self.df['estimated_k_factor'] = 0.0\n",
    "        self.df['hour'] = self.df.index.hour\n",
    "\n",
    "\n",
    "    # generate default data-frame to use on start-up\n",
    "    def get_df(self):\n",
    "        return self.df\n",
    "\n",
    "    \n",
    "def generate_pme(df, start_date, end_date, start_hour, end_hour):\n",
    "    date_mask = (df.date >= start_date) & (df.date <= end_date)\n",
    "    if start_hour < end_hour:\n",
    "        hour_mask = (df.hour >= start_hour) & (df.hour <= end_hour)\n",
    "    else:\n",
    "        hour_mask = (df.hour >= start_hour) | (df.hour <= end_hour)\n",
    "    mask = date_mask & hour_mask\n",
    "    biomass_computations = list(zip(df[mask].date.values,\n",
    "                                    df.loc[mask, 'estimated_weight_g_0'].values,\n",
    "                                    df[mask].estimated_k_factor.values))\n",
    "    if biomass_computations:\n",
    "        return PopulationMetricsEstimator(biomass_computations)\n",
    "    return None\n"
   ]
  },
  {
   "cell_type": "code",
   "execution_count": null,
   "metadata": {},
   "outputs": [],
   "source": [
    "pen_id = 56\n",
    "start_date = '2020-04-20'\n",
    "end_date = '2020-05-10'\n",
    "start_hour = 0\n",
    "end_hour = 24"
   ]
  },
  {
   "cell_type": "code",
   "execution_count": null,
   "metadata": {},
   "outputs": [],
   "source": [
    "dg = DataGenerator()\n",
    "dg.query_from_db(pen_id, start_date=start_date, end_date=end_date)\n",
    "dg.preprocess_df()\n",
    "df = dg.get_df()"
   ]
  },
  {
   "cell_type": "code",
   "execution_count": null,
   "metadata": {},
   "outputs": [],
   "source": []
  },
  {
   "cell_type": "code",
   "execution_count": null,
   "metadata": {},
   "outputs": [],
   "source": []
  },
  {
   "cell_type": "code",
   "execution_count": null,
   "metadata": {},
   "outputs": [],
   "source": [
    "pme = generate_pme(df, start_date, end_date, start_hour, end_hour)\n"
   ]
  },
  {
   "cell_type": "code",
   "execution_count": null,
   "metadata": {},
   "outputs": [],
   "source": [
    "metrics = pme.generate_smart_metrics_on_date('2020-04-22')"
   ]
  },
  {
   "cell_type": "code",
   "execution_count": null,
   "metadata": {},
   "outputs": [],
   "source": [
    "metrics"
   ]
  },
  {
   "cell_type": "code",
   "execution_count": null,
   "metadata": {},
   "outputs": [],
   "source": []
  },
  {
   "cell_type": "code",
   "execution_count": null,
   "metadata": {},
   "outputs": [],
   "source": []
  },
  {
   "cell_type": "code",
   "execution_count": null,
   "metadata": {},
   "outputs": [],
   "source": []
  },
  {
   "cell_type": "code",
   "execution_count": null,
   "metadata": {},
   "outputs": [],
   "source": []
  },
  {
   "cell_type": "code",
   "execution_count": null,
   "metadata": {},
   "outputs": [],
   "source": []
  },
  {
   "cell_type": "code",
   "execution_count": null,
   "metadata": {},
   "outputs": [],
   "source": []
  },
  {
   "cell_type": "code",
   "execution_count": null,
   "metadata": {},
   "outputs": [],
   "source": []
  }
 ],
 "metadata": {
  "kernelspec": {
   "display_name": "Python 3",
   "language": "python",
   "name": "python3"
  },
  "language_info": {
   "codemirror_mode": {
    "name": "ipython",
    "version": 3
   },
   "file_extension": ".py",
   "mimetype": "text/x-python",
   "name": "python",
   "nbconvert_exporter": "python",
   "pygments_lexer": "ipython3",
   "version": "3.6.5"
  }
 },
 "nbformat": 4,
 "nbformat_minor": 4
}
