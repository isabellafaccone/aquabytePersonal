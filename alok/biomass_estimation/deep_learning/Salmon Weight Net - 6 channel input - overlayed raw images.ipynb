{
 "cells": [
  {
   "cell_type": "markdown",
   "metadata": {},
   "source": [
    "<h1> In this notebook, we will implement a neural network that regresses volume against segmentation + depth map </h1>"
   ]
  },
  {
   "cell_type": "code",
   "execution_count": 2,
   "metadata": {},
   "outputs": [
    {
     "name": "stdout",
     "output_type": "stream",
     "text": [
      "The autoreload extension is already loaded. To reload it, use:\n",
      "  %reload_ext autoreload\n"
     ]
    }
   ],
   "source": [
    "%load_ext autoreload\n",
    "%autoreload 2\n",
    "\n",
    "import sys\n",
    "sys.path.append('/root/alok/github/cv_research/alok')\n",
    "\n",
    "import glob\n",
    "import json\n",
    "import os\n",
    "import numpy as np\n",
    "from PIL import Image\n",
    "\n",
    "import keras\n",
    "from keras.models import Model\n",
    "from keras.applications.vgg16 import VGG16\n",
    "from keras.layers import Input, Dense, Dropout, Activation, Flatten\n",
    "from keras.layers import Conv2D, MaxPooling2D\n",
    "from keras.utils import np_utils\n",
    "from keras.datasets import mnist\n",
    "from keras import backend as K\n",
    "from keras.backend import tf as ktf\n",
    "\n",
    "from matplotlib import pyplot as plt\n",
    "from matplotlib import cm\n",
    "from biomass_utils.points_of_interest import get_point_cloud\n",
    "\n",
    "%matplotlib inline\n",
    "\n",
    "os.environ[\"CUDA_VISIBLE_DEVICES\"]=\"1\"\n",
    "np.random.seed(1)"
   ]
  },
  {
   "cell_type": "code",
   "execution_count": 6,
   "metadata": {},
   "outputs": [],
   "source": [
    "# Get data ready\n",
    "\n",
    "data_path_base = '/root/data/blender_v3'\n",
    "image_dir = '{}/{}'.format(data_path_base, 'stereo_images')\n",
    "annotation_dir = '{}/{}'.format(data_path_base, 'annotations')\n",
    "\n",
    "number_key = lambda x: int(os.path.splitext(os.path.basename(x))[0].split('_')[-1])\n",
    "side_key = lambda x: os.path.splitext(os.path.basename(x))[0].split('_')[0]\n",
    "all_image_paths = sorted(glob.glob('{}/*.png'.format(image_dir)), key=number_key)\n",
    "left_image_paths = [p for p in all_image_paths if side_key(p) == 'left'] \n",
    "right_image_paths = [p for p in all_image_paths if side_key(p) == 'right']\n",
    "annotation_paths = sorted(glob.glob('{}/*.json'.format(annotation_dir)), key=number_key) \n",
    "complete_data_list = zip(left_image_paths, right_image_paths, annotation_paths)\n",
    "\n",
    "\n",
    "TRAINING_SIZE = 500\n",
    "train_data_list = [v for i, v in enumerate(complete_data_list) if i < TRAINING_SIZE]\n",
    "test_data_list = [v for i, v in enumerate(complete_data_list) if i > TRAINING_SIZE]\n"
   ]
  },
  {
   "cell_type": "code",
   "execution_count": 5,
   "metadata": {},
   "outputs": [],
   "source": [
    "def convert_to_six_channel_input(left_image_array, right_image_array, annotation):    \n",
    "    \n",
    "    left_image = Image.fromarray(left_image_array)\n",
    "    resized_left_image = left_image.resize((224, 224))\n",
    "    normalized_left_image_array = np.array(resized_left_image) / 255.0\n",
    "    \n",
    "    right_image = Image.fromarray(right_image_array)\n",
    "    resized_right_image = right_image.resize((224, 224))\n",
    "    normalized_right_image_array = np.array(resized_right_image) / 255.0\n",
    "    \n",
    "    six_channel_input = np.dstack([normalized_left_image_array, normalized_right_image_array])\n",
    "    \n",
    "    return six_channel_input\n",
    "        \n"
   ]
  },
  {
   "cell_type": "code",
   "execution_count": 6,
   "metadata": {
    "scrolled": true
   },
   "outputs": [],
   "source": [
    "idx = 0\n",
    "a = convert_to_four_channel_input(np.array(Image.open(image_paths[idx]))[:,:,:3],\n",
    "                                 np.load(segmentation_paths[idx]),\n",
    "                                 np.load(depth_map_paths[idx]).T, \n",
    "                                 json.load(open(annotation_paths[idx], 'rb')))\n"
   ]
  },
  {
   "cell_type": "code",
   "execution_count": null,
   "metadata": {
    "scrolled": true
   },
   "outputs": [],
   "source": []
  },
  {
   "cell_type": "code",
   "execution_count": null,
   "metadata": {},
   "outputs": [],
   "source": []
  },
  {
   "cell_type": "code",
   "execution_count": 7,
   "metadata": {},
   "outputs": [],
   "source": [
    "def generator(data_list, steps_per_epoch, BATCH_SIZE, INPUT_SHAPE):\n",
    "    i = 0\n",
    "    while True:\n",
    "        x_batch = np.empty((BATCH_SIZE, INPUT_SHAPE[0], INPUT_SHAPE[1], INPUT_SHAPE[2]))\n",
    "        y_batch = np.empty((BATCH_SIZE, 1))\n",
    "        for (ind, j) in enumerate(range(i*BATCH_SIZE, min((i+1)*BATCH_SIZE, len(data_list)))):\n",
    "            left_image_array = np.array(Image.open(data_list[j][0]))[:,:,:3]\n",
    "            right_image_array = np.array(Image.open(data_list[j][1]))[:,:,:3]\n",
    "            annotation = json.load(open(data_list[j][2], 'rb'))\n",
    "            six_channel_input = convert_to_six_channel_input(left_image_array, right_image_array, annotation)\n",
    "            x_batch[ind, ...] = six_channel_input\n",
    "            y_batch[ind] = annotation['volume']\n",
    "            \n",
    "        i += 1\n",
    "        if i >= steps_per_epoch:\n",
    "            i = 0\n",
    "        yield x_batch, y_batch"
   ]
  },
  {
   "cell_type": "code",
   "execution_count": null,
   "metadata": {},
   "outputs": [],
   "source": []
  },
  {
   "cell_type": "code",
   "execution_count": null,
   "metadata": {},
   "outputs": [],
   "source": []
  },
  {
   "cell_type": "code",
   "execution_count": 8,
   "metadata": {
    "scrolled": true
   },
   "outputs": [
    {
     "name": "stderr",
     "output_type": "stream",
     "text": [
      "/usr/local/lib/python2.7/dist-packages/keras/applications/imagenet_utils.py:258: UserWarning: This model usually expects 1 or 3 input channels. However, it was passed an input_shape with 6 input channels.\n",
      "  str(input_shape[-1]) + ' input channels.')\n"
     ]
    },
    {
     "name": "stdout",
     "output_type": "stream",
     "text": [
      "_________________________________________________________________\n",
      "Layer (type)                 Output Shape              Param #   \n",
      "=================================================================\n",
      "input_1 (InputLayer)         (None, 224, 224, 6)       0         \n",
      "_________________________________________________________________\n",
      "block1_conv1 (Conv2D)        (None, 224, 224, 64)      3520      \n",
      "_________________________________________________________________\n",
      "block1_conv2 (Conv2D)        (None, 224, 224, 64)      36928     \n",
      "_________________________________________________________________\n",
      "block1_pool (MaxPooling2D)   (None, 112, 112, 64)      0         \n",
      "_________________________________________________________________\n",
      "block2_conv1 (Conv2D)        (None, 112, 112, 128)     73856     \n",
      "_________________________________________________________________\n",
      "block2_conv2 (Conv2D)        (None, 112, 112, 128)     147584    \n",
      "_________________________________________________________________\n",
      "block2_pool (MaxPooling2D)   (None, 56, 56, 128)       0         \n",
      "_________________________________________________________________\n",
      "block3_conv1 (Conv2D)        (None, 56, 56, 256)       295168    \n",
      "_________________________________________________________________\n",
      "block3_conv2 (Conv2D)        (None, 56, 56, 256)       590080    \n",
      "_________________________________________________________________\n",
      "block3_conv3 (Conv2D)        (None, 56, 56, 256)       590080    \n",
      "_________________________________________________________________\n",
      "block3_pool (MaxPooling2D)   (None, 28, 28, 256)       0         \n",
      "_________________________________________________________________\n",
      "block4_conv1 (Conv2D)        (None, 28, 28, 512)       1180160   \n",
      "_________________________________________________________________\n",
      "block4_conv2 (Conv2D)        (None, 28, 28, 512)       2359808   \n",
      "_________________________________________________________________\n",
      "block4_conv3 (Conv2D)        (None, 28, 28, 512)       2359808   \n",
      "_________________________________________________________________\n",
      "block4_pool (MaxPooling2D)   (None, 14, 14, 512)       0         \n",
      "_________________________________________________________________\n",
      "block5_conv1 (Conv2D)        (None, 14, 14, 512)       2359808   \n",
      "_________________________________________________________________\n",
      "block5_conv2 (Conv2D)        (None, 14, 14, 512)       2359808   \n",
      "_________________________________________________________________\n",
      "block5_conv3 (Conv2D)        (None, 14, 14, 512)       2359808   \n",
      "_________________________________________________________________\n",
      "block5_pool (MaxPooling2D)   (None, 7, 7, 512)         0         \n",
      "_________________________________________________________________\n",
      "flatten (Flatten)            (None, 25088)             0         \n",
      "_________________________________________________________________\n",
      "fc1 (Dense)                  (None, 4096)              102764544 \n",
      "_________________________________________________________________\n",
      "fc2 (Dense)                  (None, 4096)              16781312  \n",
      "_________________________________________________________________\n",
      "predictions (Dense)          (None, 1)                 4097      \n",
      "=================================================================\n",
      "Total params: 134,266,369\n",
      "Trainable params: 134,266,369\n",
      "Non-trainable params: 0\n",
      "_________________________________________________________________\n"
     ]
    },
    {
     "name": "stderr",
     "output_type": "stream",
     "text": [
      "/usr/local/lib/python2.7/dist-packages/ipykernel_launcher.py:8: UserWarning: Update your `Model` call to the Keras 2 API: `Model(outputs=Tensor(\"pr..., inputs=Tensor(\"in...)`\n",
      "  \n"
     ]
    }
   ],
   "source": [
    "# Generate a model with all layers (with top)\n",
    "vgg16 = VGG16(weights=None, include_top=True, input_shape=(224, 224, 6))\n",
    "\n",
    "#Add a layer where input is the output of the  second last layer \n",
    "x = Dense(1, name='predictions')(vgg16.layers[-2].output)\n",
    "\n",
    "#Then create the corresponding model \n",
    "model = Model(input=vgg16.input, output=x)\n",
    "model.summary()"
   ]
  },
  {
   "cell_type": "code",
   "execution_count": 14,
   "metadata": {},
   "outputs": [],
   "source": [
    "optimizer = keras.optimizers.adam(lr=0.0005, decay=0.1)\n",
    "model.compile(loss='mean_absolute_error',\n",
    "              optimizer=optimizer,\n",
    "              metrics=['accuracy'])"
   ]
  },
  {
   "cell_type": "code",
   "execution_count": null,
   "metadata": {},
   "outputs": [],
   "source": []
  },
  {
   "cell_type": "code",
   "execution_count": 15,
   "metadata": {
    "scrolled": true
   },
   "outputs": [],
   "source": [
    "BATCH_SIZE = 25\n",
    "steps_per_epoch = int(len(train_data_list)/BATCH_SIZE)\n",
    "gen = generator(train_data_list, steps_per_epoch, BATCH_SIZE, (224, 224, 6))"
   ]
  },
  {
   "cell_type": "code",
   "execution_count": 16,
   "metadata": {
    "scrolled": false
   },
   "outputs": [
    {
     "name": "stdout",
     "output_type": "stream",
     "text": [
      "Epoch 1/100\n",
      "20/20 [==============================] - 30s 1s/step - loss: 2330.6336 - acc: 0.0000e+00\n",
      "Epoch 2/100\n",
      "20/20 [==============================] - 29s 1s/step - loss: 808.7325 - acc: 0.0000e+00\n",
      "Epoch 3/100\n",
      "20/20 [==============================] - 29s 1s/step - loss: 652.9951 - acc: 0.0000e+00\n",
      "Epoch 4/100\n",
      "20/20 [==============================] - 29s 1s/step - loss: 445.6148 - acc: 0.0000e+00\n",
      "Epoch 5/100\n",
      "20/20 [==============================] - 29s 1s/step - loss: 382.2845 - acc: 0.0000e+00\n",
      "Epoch 6/100\n",
      "20/20 [==============================] - 29s 1s/step - loss: 373.5695 - acc: 0.0000e+00\n",
      "Epoch 7/100\n",
      "20/20 [==============================] - 29s 1s/step - loss: 372.5784 - acc: 0.0000e+00\n",
      "Epoch 8/100\n",
      "20/20 [==============================] - 29s 1s/step - loss: 339.4949 - acc: 0.0000e+00\n",
      "Epoch 9/100\n",
      "20/20 [==============================] - 29s 1s/step - loss: 347.1679 - acc: 0.0000e+00\n",
      "Epoch 10/100\n",
      "20/20 [==============================] - 29s 1s/step - loss: 343.7024 - acc: 0.0000e+00\n",
      "Epoch 11/100\n",
      "20/20 [==============================] - 29s 1s/step - loss: 333.9871 - acc: 0.0000e+00\n",
      "Epoch 12/100\n",
      "20/20 [==============================] - 29s 1s/step - loss: 350.4247 - acc: 0.0000e+00\n",
      "Epoch 13/100\n",
      "20/20 [==============================] - 29s 1s/step - loss: 354.3153 - acc: 0.0000e+00\n",
      "Epoch 14/100\n",
      "20/20 [==============================] - 29s 1s/step - loss: 361.3516 - acc: 0.0000e+00\n",
      "Epoch 15/100\n",
      "20/20 [==============================] - 29s 1s/step - loss: 356.0569 - acc: 0.0000e+00\n",
      "Epoch 16/100\n",
      "20/20 [==============================] - 29s 1s/step - loss: 339.2919 - acc: 0.0000e+00\n",
      "Epoch 17/100\n",
      "20/20 [==============================] - 29s 1s/step - loss: 328.6813 - acc: 0.0000e+00\n",
      "Epoch 18/100\n",
      "20/20 [==============================] - 29s 1s/step - loss: 330.0547 - acc: 0.0000e+00\n",
      "Epoch 19/100\n",
      "20/20 [==============================] - 29s 1s/step - loss: 322.2723 - acc: 0.0000e+00\n",
      "Epoch 20/100\n",
      "20/20 [==============================] - 29s 1s/step - loss: 320.7979 - acc: 0.0000e+00\n",
      "Epoch 21/100\n",
      "20/20 [==============================] - 29s 1s/step - loss: 318.1019 - acc: 0.0000e+00\n",
      "Epoch 22/100\n",
      "20/20 [==============================] - 29s 1s/step - loss: 316.0392 - acc: 0.0000e+00\n",
      "Epoch 23/100\n",
      "20/20 [==============================] - 29s 1s/step - loss: 311.9627 - acc: 0.0000e+00\n",
      "Epoch 24/100\n",
      "20/20 [==============================] - 29s 1s/step - loss: 313.2912 - acc: 0.0000e+00\n",
      "Epoch 25/100\n",
      "20/20 [==============================] - 29s 1s/step - loss: 308.7277 - acc: 0.0000e+00\n",
      "Epoch 26/100\n",
      "20/20 [==============================] - 29s 1s/step - loss: 307.9750 - acc: 0.0000e+00\n",
      "Epoch 27/100\n",
      "20/20 [==============================] - 29s 1s/step - loss: 305.5470 - acc: 0.0000e+00\n",
      "Epoch 28/100\n",
      "20/20 [==============================] - 29s 1s/step - loss: 304.5098 - acc: 0.0000e+00\n",
      "Epoch 29/100\n",
      "20/20 [==============================] - 29s 1s/step - loss: 303.6332 - acc: 0.0000e+00\n",
      "Epoch 30/100\n",
      "20/20 [==============================] - 29s 1s/step - loss: 301.8561 - acc: 0.0000e+00\n",
      "Epoch 31/100\n",
      "20/20 [==============================] - 29s 1s/step - loss: 301.2763 - acc: 0.0000e+00\n",
      "Epoch 32/100\n",
      "20/20 [==============================] - 29s 1s/step - loss: 300.3512 - acc: 0.0000e+00\n",
      "Epoch 33/100\n",
      "20/20 [==============================] - 29s 1s/step - loss: 297.8971 - acc: 0.0000e+00\n",
      "Epoch 34/100\n",
      "20/20 [==============================] - 29s 1s/step - loss: 299.4747 - acc: 0.0000e+00\n",
      "Epoch 35/100\n",
      "20/20 [==============================] - 29s 1s/step - loss: 294.9750 - acc: 0.0000e+00\n",
      "Epoch 36/100\n",
      "20/20 [==============================] - 29s 1s/step - loss: 293.3573 - acc: 0.0000e+00\n",
      "Epoch 37/100\n",
      "20/20 [==============================] - 29s 1s/step - loss: 294.1351 - acc: 0.0000e+00\n",
      "Epoch 38/100\n",
      "20/20 [==============================] - 29s 1s/step - loss: 292.7015 - acc: 0.0000e+00\n",
      "Epoch 39/100\n",
      "20/20 [==============================] - 29s 1s/step - loss: 292.6565 - acc: 0.0000e+00\n",
      "Epoch 40/100\n",
      "20/20 [==============================] - 29s 1s/step - loss: 292.5302 - acc: 0.0000e+00\n",
      "Epoch 41/100\n",
      "20/20 [==============================] - 29s 1s/step - loss: 289.3871 - acc: 0.0000e+00\n",
      "Epoch 42/100\n",
      "20/20 [==============================] - 29s 1s/step - loss: 288.0689 - acc: 0.0000e+00\n",
      "Epoch 43/100\n",
      "20/20 [==============================] - 29s 1s/step - loss: 292.8241 - acc: 0.0000e+00\n",
      "Epoch 44/100\n",
      "20/20 [==============================] - 29s 1s/step - loss: 287.4280 - acc: 0.0000e+00\n",
      "Epoch 45/100\n",
      "20/20 [==============================] - 29s 1s/step - loss: 287.3217 - acc: 0.0000e+00\n",
      "Epoch 46/100\n",
      "20/20 [==============================] - 29s 1s/step - loss: 288.2365 - acc: 0.0000e+00\n",
      "Epoch 47/100\n",
      "20/20 [==============================] - 29s 1s/step - loss: 286.0862 - acc: 0.0000e+00\n",
      "Epoch 48/100\n",
      "20/20 [==============================] - 29s 1s/step - loss: 285.1521 - acc: 0.0000e+00\n",
      "Epoch 49/100\n",
      "20/20 [==============================] - 29s 1s/step - loss: 286.5511 - acc: 0.0000e+00\n",
      "Epoch 50/100\n",
      "20/20 [==============================] - 29s 1s/step - loss: 283.1134 - acc: 0.0000e+00\n",
      "Epoch 51/100\n",
      "20/20 [==============================] - 29s 1s/step - loss: 283.1206 - acc: 0.0000e+00\n",
      "Epoch 52/100\n",
      "20/20 [==============================] - 29s 1s/step - loss: 282.4194 - acc: 0.0000e+00\n",
      "Epoch 53/100\n",
      "20/20 [==============================] - 29s 1s/step - loss: 281.1361 - acc: 0.0000e+00\n",
      "Epoch 54/100\n",
      "20/20 [==============================] - 29s 1s/step - loss: 283.5268 - acc: 0.0000e+00\n",
      "Epoch 55/100\n",
      "20/20 [==============================] - 29s 1s/step - loss: 280.6636 - acc: 0.0000e+00\n",
      "Epoch 56/100\n",
      "20/20 [==============================] - 29s 1s/step - loss: 279.7728 - acc: 0.0000e+00\n",
      "Epoch 57/100\n",
      "20/20 [==============================] - 29s 1s/step - loss: 280.0001 - acc: 0.0000e+00\n",
      "Epoch 58/100\n",
      "20/20 [==============================] - 29s 1s/step - loss: 278.4875 - acc: 0.0000e+00\n",
      "Epoch 59/100\n",
      "20/20 [==============================] - 29s 1s/step - loss: 278.0637 - acc: 0.0000e+00\n",
      "Epoch 60/100\n",
      "20/20 [==============================] - 29s 1s/step - loss: 277.6372 - acc: 0.0000e+00\n",
      "Epoch 61/100\n",
      "20/20 [==============================] - 29s 1s/step - loss: 278.0490 - acc: 0.0000e+00\n",
      "Epoch 62/100\n",
      "20/20 [==============================] - 29s 1s/step - loss: 276.8033 - acc: 0.0000e+00\n",
      "Epoch 63/100\n",
      "20/20 [==============================] - 29s 1s/step - loss: 276.2097 - acc: 0.0000e+00\n",
      "Epoch 64/100\n",
      "20/20 [==============================] - 29s 1s/step - loss: 276.8225 - acc: 0.0000e+00\n",
      "Epoch 65/100\n",
      "20/20 [==============================] - 29s 1s/step - loss: 276.2154 - acc: 0.0000e+00\n",
      "Epoch 66/100\n",
      "20/20 [==============================] - 29s 1s/step - loss: 277.5864 - acc: 0.0000e+00\n",
      "Epoch 67/100\n",
      "20/20 [==============================] - 29s 1s/step - loss: 275.6777 - acc: 0.0000e+00\n",
      "Epoch 68/100\n",
      "20/20 [==============================] - 29s 1s/step - loss: 273.5219 - acc: 0.0000e+00\n",
      "Epoch 69/100\n",
      "20/20 [==============================] - 29s 1s/step - loss: 274.0963 - acc: 0.0000e+00\n",
      "Epoch 70/100\n",
      "20/20 [==============================] - 29s 1s/step - loss: 273.3684 - acc: 0.0000e+00\n",
      "Epoch 71/100\n",
      "20/20 [==============================] - 29s 1s/step - loss: 272.7705 - acc: 0.0000e+00\n",
      "Epoch 72/100\n",
      "20/20 [==============================] - 29s 1s/step - loss: 273.1111 - acc: 0.0000e+00\n",
      "Epoch 73/100\n",
      "20/20 [==============================] - 29s 1s/step - loss: 271.4305 - acc: 0.0000e+00\n",
      "Epoch 74/100\n",
      "20/20 [==============================] - 29s 1s/step - loss: 270.9368 - acc: 0.0000e+00\n",
      "Epoch 75/100\n",
      "20/20 [==============================] - 29s 1s/step - loss: 271.6891 - acc: 0.0000e+00\n",
      "Epoch 76/100\n",
      "20/20 [==============================] - 29s 1s/step - loss: 271.4471 - acc: 0.0000e+00\n",
      "Epoch 77/100\n",
      "20/20 [==============================] - 29s 1s/step - loss: 270.3600 - acc: 0.0000e+00\n",
      "Epoch 78/100\n",
      "20/20 [==============================] - 29s 1s/step - loss: 271.2776 - acc: 0.0000e+00\n",
      "Epoch 79/100\n",
      "20/20 [==============================] - 29s 1s/step - loss: 270.7406 - acc: 0.0000e+00\n",
      "Epoch 80/100\n",
      "20/20 [==============================] - 28s 1s/step - loss: 270.5452 - acc: 0.0000e+00\n",
      "Epoch 81/100\n",
      "20/20 [==============================] - 29s 1s/step - loss: 269.7678 - acc: 0.0000e+00\n",
      "Epoch 82/100\n"
     ]
    },
    {
     "name": "stdout",
     "output_type": "stream",
     "text": [
      "20/20 [==============================] - 29s 1s/step - loss: 269.6727 - acc: 0.0000e+00\n",
      "Epoch 83/100\n",
      "20/20 [==============================] - 29s 1s/step - loss: 268.9385 - acc: 0.0000e+00\n",
      "Epoch 84/100\n",
      "20/20 [==============================] - 29s 1s/step - loss: 268.5504 - acc: 0.0000e+00\n",
      "Epoch 85/100\n",
      "20/20 [==============================] - 29s 1s/step - loss: 268.5950 - acc: 0.0000e+00\n",
      "Epoch 86/100\n",
      "20/20 [==============================] - 29s 1s/step - loss: 269.9643 - acc: 0.0000e+00\n",
      "Epoch 87/100\n",
      "20/20 [==============================] - 29s 1s/step - loss: 268.8967 - acc: 0.0000e+00\n",
      "Epoch 88/100\n",
      "20/20 [==============================] - 29s 1s/step - loss: 268.0073 - acc: 0.0000e+00\n",
      "Epoch 89/100\n",
      "20/20 [==============================] - 29s 1s/step - loss: 266.8847 - acc: 0.0000e+00\n",
      "Epoch 90/100\n",
      "20/20 [==============================] - 29s 1s/step - loss: 267.5113 - acc: 0.0000e+00\n",
      "Epoch 91/100\n",
      "20/20 [==============================] - 29s 1s/step - loss: 268.3122 - acc: 0.0000e+00\n",
      "Epoch 92/100\n",
      "20/20 [==============================] - 29s 1s/step - loss: 267.2664 - acc: 0.0000e+00\n",
      "Epoch 93/100\n",
      "20/20 [==============================] - 29s 1s/step - loss: 267.1381 - acc: 0.0000e+00\n",
      "Epoch 94/100\n",
      "20/20 [==============================] - 29s 1s/step - loss: 267.1873 - acc: 0.0000e+00\n",
      "Epoch 95/100\n",
      "20/20 [==============================] - 29s 1s/step - loss: 267.3773 - acc: 0.0000e+00\n",
      "Epoch 96/100\n",
      "20/20 [==============================] - 29s 1s/step - loss: 267.1365 - acc: 0.0000e+00\n",
      "Epoch 97/100\n",
      "20/20 [==============================] - 28s 1s/step - loss: 267.1146 - acc: 0.0000e+00\n",
      "Epoch 98/100\n",
      "20/20 [==============================] - 29s 1s/step - loss: 271.6670 - acc: 0.0000e+00\n",
      "Epoch 99/100\n",
      "20/20 [==============================] - 29s 1s/step - loss: 274.5954 - acc: 0.0000e+00\n",
      "Epoch 100/100\n",
      "20/20 [==============================] - 29s 1s/step - loss: 271.0911 - acc: 0.0000e+00\n"
     ]
    },
    {
     "data": {
      "text/plain": [
       "<keras.callbacks.History at 0x7f7755c75490>"
      ]
     },
     "execution_count": 16,
     "metadata": {},
     "output_type": "execute_result"
    }
   ],
   "source": [
    "model.fit_generator(gen, steps_per_epoch=steps_per_epoch, epochs=100, verbose=True)"
   ]
  },
  {
   "cell_type": "code",
   "execution_count": null,
   "metadata": {
    "scrolled": true
   },
   "outputs": [],
   "source": []
  },
  {
   "cell_type": "code",
   "execution_count": null,
   "metadata": {},
   "outputs": [],
   "source": []
  },
  {
   "cell_type": "code",
   "execution_count": 18,
   "metadata": {
    "scrolled": true
   },
   "outputs": [],
   "source": [
    "eval_gen = generator(test_data_list, np.inf, BATCH_SIZE, (224, 224, 6))\n",
    "predictions = model.predict_generator(eval_gen, 50)"
   ]
  },
  {
   "cell_type": "code",
   "execution_count": 19,
   "metadata": {},
   "outputs": [],
   "source": [
    "ground_truth_values = np.array([])\n",
    "for i in range(50*25):\n",
    "    annotation = json.load(open(test_data_list[i][2], 'rb'))\n",
    "    ground_truth_values = np.append(ground_truth_values, annotation['volume'])"
   ]
  },
  {
   "cell_type": "code",
   "execution_count": null,
   "metadata": {
    "scrolled": true
   },
   "outputs": [],
   "source": []
  },
  {
   "cell_type": "code",
   "execution_count": null,
   "metadata": {
    "scrolled": true
   },
   "outputs": [],
   "source": []
  },
  {
   "cell_type": "code",
   "execution_count": null,
   "metadata": {
    "scrolled": true
   },
   "outputs": [],
   "source": []
  },
  {
   "cell_type": "code",
   "execution_count": null,
   "metadata": {
    "scrolled": false
   },
   "outputs": [],
   "source": []
  },
  {
   "cell_type": "code",
   "execution_count": 20,
   "metadata": {},
   "outputs": [
    {
     "data": {
      "text/plain": [
       "-0.0037173030292643908"
      ]
     },
     "execution_count": 20,
     "metadata": {},
     "output_type": "execute_result"
    }
   ],
   "source": [
    "(ground_truth_values.mean() - predictions[:,0].mean())/(ground_truth_values.mean())"
   ]
  },
  {
   "cell_type": "code",
   "execution_count": null,
   "metadata": {},
   "outputs": [],
   "source": []
  },
  {
   "cell_type": "code",
   "execution_count": 27,
   "metadata": {},
   "outputs": [
    {
     "data": {
      "text/plain": [
       "array([2068.00994581, 1983.57114122, 5667.58181159, ...,  637.07885014,\n",
       "       6112.66020444, 3667.47610275])"
      ]
     },
     "execution_count": 27,
     "metadata": {},
     "output_type": "execute_result"
    }
   ],
   "source": [
    "ground_truth_values"
   ]
  },
  {
   "cell_type": "code",
   "execution_count": 30,
   "metadata": {},
   "outputs": [
    {
     "data": {
      "text/plain": [
       "array([2120.8235, 1951.4219, 5557.0576, ..., 1175.9847, 7262.849 ,\n",
       "       6323.004 ], dtype=float32)"
      ]
     },
     "execution_count": 30,
     "metadata": {},
     "output_type": "execute_result"
    }
   ],
   "source": [
    "predictions[:,0]"
   ]
  },
  {
   "cell_type": "code",
   "execution_count": 32,
   "metadata": {},
   "outputs": [
    {
     "data": {
      "text/plain": [
       "3339.447252546868"
      ]
     },
     "execution_count": 32,
     "metadata": {},
     "output_type": "execute_result"
    }
   ],
   "source": [
    "ground_truth_values.mean()"
   ]
  },
  {
   "cell_type": "code",
   "execution_count": 34,
   "metadata": {},
   "outputs": [
    {
     "data": {
      "text/plain": [
       "array([2068.00994581, 1983.57114122, 5667.58181159, ...,  637.07885014,\n",
       "       6112.66020444, 3667.47610275])"
      ]
     },
     "execution_count": 34,
     "metadata": {},
     "output_type": "execute_result"
    }
   ],
   "source": [
    "ground_truth_values"
   ]
  },
  {
   "cell_type": "code",
   "execution_count": 21,
   "metadata": {
    "scrolled": true
   },
   "outputs": [
    {
     "data": {
      "text/plain": [
       "<matplotlib.collections.PathCollection at 0x7f774dddea50>"
      ]
     },
     "execution_count": 21,
     "metadata": {},
     "output_type": "execute_result"
    },
    {
     "data": {
      "image/png": "[encoded data removed]",
      "text/plain": [
       "<matplotlib.figure.Figure at 0x7f7754e1b1d0>"
      ]
     },
     "metadata": {},
     "output_type": "display_data"
    }
   ],
   "source": [
    "plt.scatter(ground_truth_values, predictions[:,0])"
   ]
  },
  {
   "cell_type": "code",
   "execution_count": 25,
   "metadata": {
    "scrolled": true
   },
   "outputs": [
    {
     "data": {
      "text/plain": [
       "0.10073453523432208"
      ]
     },
     "execution_count": 25,
     "metadata": {},
     "output_type": "execute_result"
    }
   ],
   "source": [
    "(abs(ground_truth_values - predictions[:,0])/ground_truth_values).mean()"
   ]
  },
  {
   "cell_type": "code",
   "execution_count": null,
   "metadata": {},
   "outputs": [],
   "source": []
  },
  {
   "cell_type": "code",
   "execution_count": null,
   "metadata": {},
   "outputs": [],
   "source": []
  },
  {
   "cell_type": "code",
   "execution_count": null,
   "metadata": {},
   "outputs": [],
   "source": []
  },
  {
   "cell_type": "code",
   "execution_count": null,
   "metadata": {},
   "outputs": [],
   "source": []
  },
  {
   "cell_type": "code",
   "execution_count": null,
   "metadata": {},
   "outputs": [],
   "source": []
  },
  {
   "cell_type": "code",
   "execution_count": null,
   "metadata": {},
   "outputs": [],
   "source": []
  },
  {
   "cell_type": "code",
   "execution_count": null,
   "metadata": {},
   "outputs": [],
   "source": []
  },
  {
   "cell_type": "code",
   "execution_count": null,
   "metadata": {},
   "outputs": [],
   "source": []
  }
 ],
 "metadata": {
  "kernelspec": {
   "display_name": "Python 2",
   "language": "python",
   "name": "python2"
  },
  "language_info": {
   "codemirror_mode": {
    "name": "ipython",
    "version": 2
   },
   "file_extension": ".py",
   "mimetype": "text/x-python",
   "name": "python",
   "nbconvert_exporter": "python",
   "pygments_lexer": "ipython2",
   "version": "2.7.12"
  }
 },
 "nbformat": 4,
 "nbformat_minor": 2
}
