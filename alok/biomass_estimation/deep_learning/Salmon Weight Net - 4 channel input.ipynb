{
 "cells": [
  {
   "cell_type": "markdown",
   "metadata": {},
   "source": [
    "<h1> In this notebook, we will implement a neural network that regresses volume against segmentation + depth map </h1>"
   ]
  },
  {
   "cell_type": "code",
   "execution_count": 3,
   "metadata": {},
   "outputs": [
    {
     "name": "stderr",
     "output_type": "stream",
     "text": [
      "/usr/local/lib/python2.7/dist-packages/h5py/__init__.py:36: FutureWarning: Conversion of the second argument of issubdtype from `float` to `np.floating` is deprecated. In future, it will be treated as `np.float64 == np.dtype(float).type`.\n",
      "  from ._conv import register_converters as _register_converters\n",
      "Using TensorFlow backend.\n"
     ]
    }
   ],
   "source": [
    "%load_ext autoreload\n",
    "%autoreload 2\n",
    "\n",
    "import sys\n",
    "sys.path.append('/root/alok/github/cv_research/alok')\n",
    "\n",
    "import glob\n",
    "import json\n",
    "import os\n",
    "import numpy as np\n",
    "from PIL import Image\n",
    "\n",
    "import keras\n",
    "from keras.models import Model\n",
    "from keras.applications.vgg16 import VGG16\n",
    "from keras.layers import Input, Dense, Dropout, Activation, Flatten\n",
    "from keras.layers import Conv2D, MaxPooling2D\n",
    "from keras.utils import np_utils\n",
    "from keras.datasets import mnist\n",
    "from keras import backend as K\n",
    "from keras.backend import tf as ktf\n",
    "\n",
    "from matplotlib import pyplot as plt\n",
    "from matplotlib import cm\n",
    "from biomass_utils.points_of_interest import get_point_cloud\n",
    "\n",
    "%matplotlib inline\n",
    "\n",
    "os.environ[\"CUDA_VISIBLE_DEVICES\"]=\"0\"\n",
    "np.random.seed(1)"
   ]
  },
  {
   "cell_type": "code",
   "execution_count": 4,
   "metadata": {},
   "outputs": [],
   "source": [
    "# Get data ready\n",
    "\n",
    "data_path_base = '/root/data/blender_v3'\n",
    "image_dir = '{}/{}'.format(data_path_base, 'stereo_images')\n",
    "depth_map_dir = '{}/{}'.format(data_path_base, 'depth_map')\n",
    "segmentation_dir = '{}/{}'.format(data_path_base, 'mask')\n",
    "annotation_dir = '{}/{}'.format(data_path_base, 'annotations')\n",
    "\n",
    "number_key = lambda x: int(os.path.splitext(os.path.basename(x))[0].split('_')[-1])\n",
    "side_key = lambda x: os.path.splitext(os.path.basename(x))[0].split('_')[0]\n",
    "all_image_paths = sorted(glob.glob('{}/*.png'.format(image_dir)), key=number_key)\n",
    "image_paths = [p for p in all_image_paths if side_key(p) == 'left'] # we are working with left frame only\n",
    "all_segmentation_paths = sorted(glob.glob('{}/*.npy'.format(segmentation_dir)), key=number_key)\n",
    "segmentation_paths = [p for p in all_segmentation_paths if side_key(p) == 'left'] # we are working with left frame only\n",
    "depth_map_paths = sorted(glob.glob('{}/*.npy'.format(depth_map_dir)), key=number_key)\n",
    "annotation_paths = sorted(glob.glob('{}/*.json'.format(annotation_dir)), key=number_key) \n",
    "complete_data_list = zip(image_paths, segmentation_paths, depth_map_paths, annotation_paths)\n",
    "\n",
    "\n",
    "TRAINING_SIZE = 500\n",
    "train_data_list = [v for i, v in enumerate(complete_data_list) if i < TRAINING_SIZE]\n",
    "test_data_list = [v for i, v in enumerate(complete_data_list) if i > TRAINING_SIZE]\n"
   ]
  },
  {
   "cell_type": "code",
   "execution_count": 5,
   "metadata": {},
   "outputs": [],
   "source": [
    "def convert_to_four_channel_input(image_array, segmentation_mask, depth_map, annotation):    \n",
    "    projected_depth_map = get_point_cloud(depth_map, annotation['focal_length'], \n",
    "                                          annotation['sensor_height'], \n",
    "                                          annotation['sensor_width'])[:,:,1]\n",
    "    cleaned_depth_map = segmentation_mask * projected_depth_map\n",
    "    cleaned_depth_map = (cleaned_depth_map * (255.0 / 20)).astype('uint8')\n",
    "    cleaned_depth_map_image = Image.fromarray(cleaned_depth_map)\n",
    "    resized_depth_map_image = cleaned_depth_map_image.resize((224, 224))\n",
    "    normalized_depth_map = np.array(resized_depth_map_image) / 255.0\n",
    "    \n",
    "    image = Image.fromarray(image_array)\n",
    "    resized_image = image.resize((224, 224))\n",
    "    normalized_image_array = np.array(resized_image) / 255.0\n",
    "    \n",
    "    four_channel_input = np.dstack([normalized_image_array, normalized_depth_map])\n",
    "    \n",
    "    return four_channel_input\n",
    "        \n"
   ]
  },
  {
   "cell_type": "code",
   "execution_count": 6,
   "metadata": {
    "scrolled": true
   },
   "outputs": [],
   "source": [
    "idx = 0\n",
    "a = convert_to_four_channel_input(np.array(Image.open(image_paths[idx]))[:,:,:3],\n",
    "                                 np.load(segmentation_paths[idx]),\n",
    "                                 np.load(depth_map_paths[idx]).T, \n",
    "                                 json.load(open(annotation_paths[idx], 'rb')))\n"
   ]
  },
  {
   "cell_type": "code",
   "execution_count": null,
   "metadata": {
    "scrolled": true
   },
   "outputs": [],
   "source": []
  },
  {
   "cell_type": "code",
   "execution_count": null,
   "metadata": {},
   "outputs": [],
   "source": []
  },
  {
   "cell_type": "code",
   "execution_count": 7,
   "metadata": {},
   "outputs": [],
   "source": [
    "def generator(data_list, steps_per_epoch, BATCH_SIZE, INPUT_SHAPE):\n",
    "    i = 0\n",
    "    while True:\n",
    "        x_batch = np.empty((BATCH_SIZE, INPUT_SHAPE[0], INPUT_SHAPE[1], INPUT_SHAPE[2]))\n",
    "        y_batch = np.empty((BATCH_SIZE, 1))\n",
    "        for (ind, j) in enumerate(range(i*BATCH_SIZE, min((i+1)*BATCH_SIZE, len(data_list)))):\n",
    "            image_array = np.array(Image.open(data_list[j][0]))[:,:,:3]\n",
    "            segmentation_mask = np.load(data_list[j][1])\n",
    "            depth_map = np.load(data_list[j][2]).T\n",
    "            annotation = json.load(open(data_list[j][3], 'rb'))\n",
    "            four_channel_input = convert_to_four_channel_input(image_array, segmentation_mask, depth_map, annotation)\n",
    "            x_batch[ind, ...] = four_channel_input\n",
    "            y_batch[ind] = annotation['volume']\n",
    "            \n",
    "        i += 1\n",
    "        if i >= steps_per_epoch:\n",
    "            i = 0\n",
    "        yield x_batch, y_batch"
   ]
  },
  {
   "cell_type": "code",
   "execution_count": null,
   "metadata": {},
   "outputs": [],
   "source": []
  },
  {
   "cell_type": "code",
   "execution_count": null,
   "metadata": {},
   "outputs": [],
   "source": []
  },
  {
   "cell_type": "code",
   "execution_count": 8,
   "metadata": {
    "scrolled": true
   },
   "outputs": [
    {
     "name": "stderr",
     "output_type": "stream",
     "text": [
      "/usr/local/lib/python2.7/dist-packages/keras/applications/imagenet_utils.py:258: UserWarning: This model usually expects 1 or 3 input channels. However, it was passed an input_shape with 4 input channels.\n",
      "  str(input_shape[-1]) + ' input channels.')\n"
     ]
    },
    {
     "name": "stdout",
     "output_type": "stream",
     "text": [
      "_________________________________________________________________\n",
      "Layer (type)                 Output Shape              Param #   \n",
      "=================================================================\n",
      "input_1 (InputLayer)         (None, 224, 224, 4)       0         \n",
      "_________________________________________________________________\n",
      "block1_conv1 (Conv2D)        (None, 224, 224, 64)      2368      \n",
      "_________________________________________________________________\n",
      "block1_conv2 (Conv2D)        (None, 224, 224, 64)      36928     \n",
      "_________________________________________________________________\n",
      "block1_pool (MaxPooling2D)   (None, 112, 112, 64)      0         \n",
      "_________________________________________________________________\n",
      "block2_conv1 (Conv2D)        (None, 112, 112, 128)     73856     \n",
      "_________________________________________________________________\n",
      "block2_conv2 (Conv2D)        (None, 112, 112, 128)     147584    \n",
      "_________________________________________________________________\n",
      "block2_pool (MaxPooling2D)   (None, 56, 56, 128)       0         \n",
      "_________________________________________________________________\n",
      "block3_conv1 (Conv2D)        (None, 56, 56, 256)       295168    \n",
      "_________________________________________________________________\n",
      "block3_conv2 (Conv2D)        (None, 56, 56, 256)       590080    \n",
      "_________________________________________________________________\n",
      "block3_conv3 (Conv2D)        (None, 56, 56, 256)       590080    \n",
      "_________________________________________________________________\n",
      "block3_pool (MaxPooling2D)   (None, 28, 28, 256)       0         \n",
      "_________________________________________________________________\n",
      "block4_conv1 (Conv2D)        (None, 28, 28, 512)       1180160   \n",
      "_________________________________________________________________\n",
      "block4_conv2 (Conv2D)        (None, 28, 28, 512)       2359808   \n",
      "_________________________________________________________________\n",
      "block4_conv3 (Conv2D)        (None, 28, 28, 512)       2359808   \n",
      "_________________________________________________________________\n",
      "block4_pool (MaxPooling2D)   (None, 14, 14, 512)       0         \n",
      "_________________________________________________________________\n",
      "block5_conv1 (Conv2D)        (None, 14, 14, 512)       2359808   \n",
      "_________________________________________________________________\n",
      "block5_conv2 (Conv2D)        (None, 14, 14, 512)       2359808   \n",
      "_________________________________________________________________\n",
      "block5_conv3 (Conv2D)        (None, 14, 14, 512)       2359808   \n",
      "_________________________________________________________________\n",
      "block5_pool (MaxPooling2D)   (None, 7, 7, 512)         0         \n",
      "_________________________________________________________________\n",
      "flatten (Flatten)            (None, 25088)             0         \n",
      "_________________________________________________________________\n",
      "fc1 (Dense)                  (None, 4096)              102764544 \n",
      "_________________________________________________________________\n",
      "fc2 (Dense)                  (None, 4096)              16781312  \n",
      "_________________________________________________________________\n",
      "predictions (Dense)          (None, 1)                 4097      \n",
      "=================================================================\n",
      "Total params: 134,265,217\n",
      "Trainable params: 134,265,217\n",
      "Non-trainable params: 0\n",
      "_________________________________________________________________\n"
     ]
    },
    {
     "name": "stderr",
     "output_type": "stream",
     "text": [
      "/usr/local/lib/python2.7/dist-packages/ipykernel_launcher.py:8: UserWarning: Update your `Model` call to the Keras 2 API: `Model(outputs=Tensor(\"pr..., inputs=Tensor(\"in...)`\n",
      "  \n"
     ]
    }
   ],
   "source": [
    "# Generate a model with all layers (with top)\n",
    "vgg16 = VGG16(weights=None, include_top=True, input_shape=(224, 224, 4))\n",
    "\n",
    "#Add a layer where input is the output of the  second last layer \n",
    "x = Dense(1, name='predictions')(vgg16.layers[-2].output)\n",
    "\n",
    "#Then create the corresponding model \n",
    "model = Model(input=vgg16.input, output=x)\n",
    "model.summary()"
   ]
  },
  {
   "cell_type": "code",
   "execution_count": 15,
   "metadata": {},
   "outputs": [],
   "source": [
    "optimizer = keras.optimizers.adam(lr=0.0001, decay=0.1)\n",
    "model.compile(loss='mean_absolute_error',\n",
    "              optimizer=optimizer,\n",
    "              metrics=['accuracy'])"
   ]
  },
  {
   "cell_type": "code",
   "execution_count": null,
   "metadata": {},
   "outputs": [],
   "source": []
  },
  {
   "cell_type": "code",
   "execution_count": 16,
   "metadata": {
    "scrolled": true
   },
   "outputs": [],
   "source": [
    "BATCH_SIZE = 25\n",
    "steps_per_epoch = int(len(train_data_list)/BATCH_SIZE)\n",
    "gen = generator(train_data_list, steps_per_epoch, BATCH_SIZE, (224, 224, 4))"
   ]
  },
  {
   "cell_type": "code",
   "execution_count": 17,
   "metadata": {
    "scrolled": false
   },
   "outputs": [
    {
     "name": "stdout",
     "output_type": "stream",
     "text": [
      "Epoch 1/100\n",
      "20/20 [==============================] - 42s 2s/step - loss: 1644.2930 - acc: 0.0000e+00\n",
      "Epoch 2/100\n",
      "20/20 [==============================] - 42s 2s/step - loss: 1375.3233 - acc: 0.0000e+00\n",
      "Epoch 3/100\n",
      "20/20 [==============================] - 42s 2s/step - loss: 1217.5719 - acc: 0.0000e+00\n",
      "Epoch 4/100\n",
      "20/20 [==============================] - 42s 2s/step - loss: 1108.7210 - acc: 0.0000e+00\n",
      "Epoch 5/100\n",
      "20/20 [==============================] - 42s 2s/step - loss: 1046.8420 - acc: 0.0000e+00\n",
      "Epoch 6/100\n",
      "20/20 [==============================] - 42s 2s/step - loss: 1001.2404 - acc: 0.0000e+00\n",
      "Epoch 7/100\n",
      "20/20 [==============================] - 42s 2s/step - loss: 963.6614 - acc: 0.0000e+00\n",
      "Epoch 8/100\n",
      "20/20 [==============================] - 42s 2s/step - loss: 933.5586 - acc: 0.0000e+00\n",
      "Epoch 9/100\n",
      "20/20 [==============================] - 42s 2s/step - loss: 906.9013 - acc: 0.0000e+00\n",
      "Epoch 10/100\n",
      "20/20 [==============================] - 42s 2s/step - loss: 882.6851 - acc: 0.0000e+00\n",
      "Epoch 11/100\n",
      "20/20 [==============================] - 42s 2s/step - loss: 860.3298 - acc: 0.0000e+00\n",
      "Epoch 12/100\n",
      "20/20 [==============================] - 42s 2s/step - loss: 840.4290 - acc: 0.0000e+00\n",
      "Epoch 13/100\n",
      "20/20 [==============================] - 42s 2s/step - loss: 822.3655 - acc: 0.0000e+00\n",
      "Epoch 14/100\n",
      "20/20 [==============================] - 42s 2s/step - loss: 805.3500 - acc: 0.0000e+00\n",
      "Epoch 15/100\n",
      "20/20 [==============================] - 42s 2s/step - loss: 789.5167 - acc: 0.0000e+00\n",
      "Epoch 16/100\n",
      "20/20 [==============================] - 42s 2s/step - loss: 774.2690 - acc: 0.0000e+00\n",
      "Epoch 17/100\n",
      "20/20 [==============================] - 42s 2s/step - loss: 758.9755 - acc: 0.0000e+00\n",
      "Epoch 18/100\n",
      "20/20 [==============================] - 42s 2s/step - loss: 744.8346 - acc: 0.0000e+00\n",
      "Epoch 19/100\n",
      "20/20 [==============================] - 42s 2s/step - loss: 730.7726 - acc: 0.0000e+00\n",
      "Epoch 20/100\n",
      "20/20 [==============================] - 42s 2s/step - loss: 717.0917 - acc: 0.0000e+00\n",
      "Epoch 21/100\n",
      "20/20 [==============================] - 42s 2s/step - loss: 703.9930 - acc: 0.0000e+00\n",
      "Epoch 22/100\n",
      "20/20 [==============================] - 42s 2s/step - loss: 691.0667 - acc: 0.0000e+00\n",
      "Epoch 23/100\n",
      "20/20 [==============================] - 42s 2s/step - loss: 678.3977 - acc: 0.0000e+00\n",
      "Epoch 24/100\n",
      "20/20 [==============================] - 42s 2s/step - loss: 666.2341 - acc: 0.0000e+00\n",
      "Epoch 25/100\n",
      "20/20 [==============================] - 42s 2s/step - loss: 654.5652 - acc: 0.0000e+00\n",
      "Epoch 26/100\n",
      "20/20 [==============================] - 42s 2s/step - loss: 642.9168 - acc: 0.0000e+00\n",
      "Epoch 27/100\n",
      "20/20 [==============================] - 42s 2s/step - loss: 631.6049 - acc: 0.0000e+00\n",
      "Epoch 28/100\n",
      "20/20 [==============================] - 42s 2s/step - loss: 620.7573 - acc: 0.0000e+00\n",
      "Epoch 29/100\n",
      "20/20 [==============================] - 42s 2s/step - loss: 610.5369 - acc: 0.0000e+00\n",
      "Epoch 30/100\n",
      "20/20 [==============================] - 42s 2s/step - loss: 599.8585 - acc: 0.0000e+00\n",
      "Epoch 31/100\n",
      "20/20 [==============================] - 42s 2s/step - loss: 589.4667 - acc: 0.0000e+00\n",
      "Epoch 32/100\n",
      "20/20 [==============================] - 42s 2s/step - loss: 579.5872 - acc: 0.0000e+00\n",
      "Epoch 33/100\n",
      "20/20 [==============================] - 42s 2s/step - loss: 570.1371 - acc: 0.0000e+00\n",
      "Epoch 34/100\n",
      "20/20 [==============================] - 42s 2s/step - loss: 559.6855 - acc: 0.0000e+00\n",
      "Epoch 35/100\n",
      "20/20 [==============================] - 42s 2s/step - loss: 550.8691 - acc: 0.0000e+00\n",
      "Epoch 36/100\n",
      "20/20 [==============================] - 42s 2s/step - loss: 541.8202 - acc: 0.0000e+00\n",
      "Epoch 37/100\n",
      "20/20 [==============================] - 42s 2s/step - loss: 533.2656 - acc: 0.0000e+00\n",
      "Epoch 38/100\n",
      "20/20 [==============================] - 42s 2s/step - loss: 525.5520 - acc: 0.0000e+00\n",
      "Epoch 39/100\n",
      "20/20 [==============================] - 42s 2s/step - loss: 517.6849 - acc: 0.0000e+00\n",
      "Epoch 40/100\n",
      "20/20 [==============================] - 42s 2s/step - loss: 510.4718 - acc: 0.0000e+00\n",
      "Epoch 41/100\n",
      "20/20 [==============================] - 42s 2s/step - loss: 503.0617 - acc: 0.0000e+00\n",
      "Epoch 42/100\n",
      "20/20 [==============================] - 42s 2s/step - loss: 496.0177 - acc: 0.0000e+00\n",
      "Epoch 43/100\n",
      "20/20 [==============================] - 42s 2s/step - loss: 489.3552 - acc: 0.0000e+00\n",
      "Epoch 44/100\n",
      "20/20 [==============================] - 42s 2s/step - loss: 482.8991 - acc: 0.0000e+00\n",
      "Epoch 45/100\n",
      "20/20 [==============================] - 42s 2s/step - loss: 477.0495 - acc: 0.0000e+00\n",
      "Epoch 46/100\n",
      "20/20 [==============================] - 42s 2s/step - loss: 471.0943 - acc: 0.0000e+00\n",
      "Epoch 47/100\n",
      "20/20 [==============================] - 42s 2s/step - loss: 465.5586 - acc: 0.0000e+00\n",
      "Epoch 48/100\n",
      "20/20 [==============================] - 42s 2s/step - loss: 460.1844 - acc: 0.0000e+00\n",
      "Epoch 49/100\n",
      "20/20 [==============================] - 42s 2s/step - loss: 454.5821 - acc: 0.0000e+00\n",
      "Epoch 50/100\n",
      "20/20 [==============================] - 43s 2s/step - loss: 449.2788 - acc: 0.0000e+00\n",
      "Epoch 51/100\n",
      "20/20 [==============================] - 44s 2s/step - loss: 443.8729 - acc: 0.0000e+00\n",
      "Epoch 52/100\n",
      "20/20 [==============================] - 44s 2s/step - loss: 438.6655 - acc: 0.0000e+00\n",
      "Epoch 53/100\n",
      "20/20 [==============================] - 44s 2s/step - loss: 433.4014 - acc: 0.0000e+00\n",
      "Epoch 54/100\n",
      "20/20 [==============================] - 44s 2s/step - loss: 428.5039 - acc: 0.0000e+00\n",
      "Epoch 55/100\n",
      "20/20 [==============================] - 43s 2s/step - loss: 423.8591 - acc: 0.0000e+00\n",
      "Epoch 56/100\n",
      "20/20 [==============================] - 44s 2s/step - loss: 419.3411 - acc: 0.0000e+00\n",
      "Epoch 57/100\n",
      "20/20 [==============================] - 44s 2s/step - loss: 415.5865 - acc: 0.0000e+00\n",
      "Epoch 58/100\n",
      "20/20 [==============================] - 44s 2s/step - loss: 411.5360 - acc: 0.0000e+00\n",
      "Epoch 59/100\n",
      "20/20 [==============================] - 44s 2s/step - loss: 407.8801 - acc: 0.0000e+00\n",
      "Epoch 60/100\n",
      "20/20 [==============================] - 44s 2s/step - loss: 404.9558 - acc: 0.0000e+00\n",
      "Epoch 61/100\n",
      "20/20 [==============================] - 44s 2s/step - loss: 402.2216 - acc: 0.0000e+00\n",
      "Epoch 62/100\n",
      "20/20 [==============================] - 43s 2s/step - loss: 399.3906 - acc: 0.0000e+00\n",
      "Epoch 63/100\n",
      "20/20 [==============================] - 44s 2s/step - loss: 396.7487 - acc: 0.0000e+00\n",
      "Epoch 64/100\n",
      "20/20 [==============================] - 44s 2s/step - loss: 394.1695 - acc: 0.0000e+00\n",
      "Epoch 65/100\n",
      "20/20 [==============================] - 44s 2s/step - loss: 391.7443 - acc: 0.0000e+00\n",
      "Epoch 66/100\n",
      "20/20 [==============================] - 44s 2s/step - loss: 389.2619 - acc: 0.0000e+00\n",
      "Epoch 67/100\n",
      "20/20 [==============================] - 44s 2s/step - loss: 386.8626 - acc: 0.0000e+00\n",
      "Epoch 68/100\n",
      "20/20 [==============================] - 43s 2s/step - loss: 384.5524 - acc: 0.0000e+00\n",
      "Epoch 69/100\n",
      "20/20 [==============================] - 43s 2s/step - loss: 382.2925 - acc: 0.0000e+00\n",
      "Epoch 70/100\n",
      "20/20 [==============================] - 44s 2s/step - loss: 380.0368 - acc: 0.0000e+00\n",
      "Epoch 71/100\n",
      "20/20 [==============================] - 44s 2s/step - loss: 378.0415 - acc: 0.0000e+00\n",
      "Epoch 72/100\n",
      "20/20 [==============================] - 44s 2s/step - loss: 376.1143 - acc: 0.0000e+00\n",
      "Epoch 73/100\n",
      "20/20 [==============================] - 43s 2s/step - loss: 374.0098 - acc: 0.0000e+00\n",
      "Epoch 74/100\n",
      "20/20 [==============================] - 44s 2s/step - loss: 372.2312 - acc: 0.0000e+00\n",
      "Epoch 75/100\n",
      "20/20 [==============================] - 44s 2s/step - loss: 370.3341 - acc: 0.0000e+00\n",
      "Epoch 76/100\n",
      "20/20 [==============================] - 44s 2s/step - loss: 368.9993 - acc: 0.0000e+00\n",
      "Epoch 77/100\n",
      "20/20 [==============================] - 44s 2s/step - loss: 367.5976 - acc: 0.0000e+00\n",
      "Epoch 78/100\n",
      "20/20 [==============================] - 44s 2s/step - loss: 366.1745 - acc: 0.0000e+00\n",
      "Epoch 79/100\n",
      "20/20 [==============================] - 44s 2s/step - loss: 364.7507 - acc: 0.0000e+00\n",
      "Epoch 80/100\n",
      "20/20 [==============================] - 44s 2s/step - loss: 363.4296 - acc: 0.0000e+00\n",
      "Epoch 81/100\n",
      "20/20 [==============================] - 43s 2s/step - loss: 361.9845 - acc: 0.0000e+00\n",
      "Epoch 82/100\n"
     ]
    },
    {
     "name": "stdout",
     "output_type": "stream",
     "text": [
      "20/20 [==============================] - 44s 2s/step - loss: 360.7724 - acc: 0.0000e+00\n",
      "Epoch 83/100\n",
      "20/20 [==============================] - 43s 2s/step - loss: 359.3113 - acc: 0.0000e+00\n",
      "Epoch 84/100\n",
      "20/20 [==============================] - 43s 2s/step - loss: 358.2132 - acc: 0.0000e+00\n",
      "Epoch 85/100\n",
      "20/20 [==============================] - 43s 2s/step - loss: 356.8689 - acc: 0.0000e+00\n",
      "Epoch 86/100\n",
      "20/20 [==============================] - 44s 2s/step - loss: 355.7309 - acc: 0.0000e+00\n",
      "Epoch 87/100\n",
      "20/20 [==============================] - 44s 2s/step - loss: 354.6149 - acc: 0.0000e+00\n",
      "Epoch 88/100\n",
      "20/20 [==============================] - 44s 2s/step - loss: 353.5052 - acc: 0.0000e+00\n",
      "Epoch 89/100\n",
      "20/20 [==============================] - 44s 2s/step - loss: 352.4655 - acc: 0.0000e+00\n",
      "Epoch 90/100\n",
      "20/20 [==============================] - 44s 2s/step - loss: 351.7993 - acc: 0.0000e+00\n",
      "Epoch 91/100\n",
      "20/20 [==============================] - 44s 2s/step - loss: 350.4800 - acc: 0.0000e+00\n",
      "Epoch 92/100\n",
      "20/20 [==============================] - 44s 2s/step - loss: 349.9907 - acc: 0.0000e+00\n",
      "Epoch 93/100\n",
      "20/20 [==============================] - 44s 2s/step - loss: 348.8877 - acc: 0.0000e+00\n",
      "Epoch 94/100\n",
      "20/20 [==============================] - 44s 2s/step - loss: 348.0858 - acc: 0.0000e+00\n",
      "Epoch 95/100\n",
      "20/20 [==============================] - 44s 2s/step - loss: 347.2171 - acc: 0.0000e+00\n",
      "Epoch 96/100\n",
      "20/20 [==============================] - 44s 2s/step - loss: 346.3593 - acc: 0.0000e+00\n",
      "Epoch 97/100\n",
      "20/20 [==============================] - 44s 2s/step - loss: 345.5035 - acc: 0.0000e+00\n",
      "Epoch 98/100\n",
      "20/20 [==============================] - 44s 2s/step - loss: 344.6611 - acc: 0.0000e+00\n",
      "Epoch 99/100\n",
      "20/20 [==============================] - 44s 2s/step - loss: 343.7227 - acc: 0.0000e+00\n",
      "Epoch 100/100\n",
      "20/20 [==============================] - 44s 2s/step - loss: 343.0290 - acc: 0.0000e+00\n"
     ]
    },
    {
     "data": {
      "text/plain": [
       "<keras.callbacks.History at 0x7fa3e4ff6310>"
      ]
     },
     "execution_count": 17,
     "metadata": {},
     "output_type": "execute_result"
    }
   ],
   "source": [
    "model.fit_generator(gen, steps_per_epoch=steps_per_epoch, epochs=100, verbose=True)"
   ]
  },
  {
   "cell_type": "code",
   "execution_count": null,
   "metadata": {
    "scrolled": true
   },
   "outputs": [],
   "source": []
  },
  {
   "cell_type": "code",
   "execution_count": null,
   "metadata": {},
   "outputs": [],
   "source": []
  },
  {
   "cell_type": "code",
   "execution_count": 20,
   "metadata": {
    "scrolled": true
   },
   "outputs": [],
   "source": [
    "eval_gen = generator(test_data_list, np.inf, BATCH_SIZE, (224, 224, 4))\n",
    "predictions = model.predict_generator(eval_gen, 50)"
   ]
  },
  {
   "cell_type": "code",
   "execution_count": 22,
   "metadata": {},
   "outputs": [],
   "source": [
    "ground_truth_values = np.array([])\n",
    "for i in range(50*25):\n",
    "    annotation = json.load(open(test_data_list[i][3], 'rb'))\n",
    "    ground_truth_values = np.append(ground_truth_values, annotation['volume'])"
   ]
  },
  {
   "cell_type": "code",
   "execution_count": null,
   "metadata": {
    "scrolled": true
   },
   "outputs": [],
   "source": []
  },
  {
   "cell_type": "code",
   "execution_count": null,
   "metadata": {
    "scrolled": true
   },
   "outputs": [],
   "source": []
  },
  {
   "cell_type": "code",
   "execution_count": null,
   "metadata": {
    "scrolled": true
   },
   "outputs": [],
   "source": []
  },
  {
   "cell_type": "code",
   "execution_count": null,
   "metadata": {
    "scrolled": false
   },
   "outputs": [],
   "source": []
  },
  {
   "cell_type": "code",
   "execution_count": 23,
   "metadata": {},
   "outputs": [
    {
     "data": {
      "text/plain": [
       "0.02831509463193507"
      ]
     },
     "execution_count": 23,
     "metadata": {},
     "output_type": "execute_result"
    }
   ],
   "source": [
    "(ground_truth_values.mean() - predictions[:,0].mean())/(ground_truth_values.mean())"
   ]
  },
  {
   "cell_type": "code",
   "execution_count": null,
   "metadata": {},
   "outputs": [],
   "source": []
  },
  {
   "cell_type": "code",
   "execution_count": 27,
   "metadata": {},
   "outputs": [
    {
     "data": {
      "text/plain": [
       "array([2068.00994581, 1983.57114122, 5667.58181159, ...,  637.07885014,\n",
       "       6112.66020444, 3667.47610275])"
      ]
     },
     "execution_count": 27,
     "metadata": {},
     "output_type": "execute_result"
    }
   ],
   "source": [
    "ground_truth_values"
   ]
  },
  {
   "cell_type": "code",
   "execution_count": 30,
   "metadata": {},
   "outputs": [
    {
     "data": {
      "text/plain": [
       "array([2120.8235, 1951.4219, 5557.0576, ..., 1175.9847, 7262.849 ,\n",
       "       6323.004 ], dtype=float32)"
      ]
     },
     "execution_count": 30,
     "metadata": {},
     "output_type": "execute_result"
    }
   ],
   "source": [
    "predictions[:,0]"
   ]
  },
  {
   "cell_type": "code",
   "execution_count": 32,
   "metadata": {},
   "outputs": [
    {
     "data": {
      "text/plain": [
       "3339.447252546868"
      ]
     },
     "execution_count": 32,
     "metadata": {},
     "output_type": "execute_result"
    }
   ],
   "source": [
    "ground_truth_values.mean()"
   ]
  },
  {
   "cell_type": "code",
   "execution_count": 34,
   "metadata": {},
   "outputs": [
    {
     "data": {
      "text/plain": [
       "array([2068.00994581, 1983.57114122, 5667.58181159, ...,  637.07885014,\n",
       "       6112.66020444, 3667.47610275])"
      ]
     },
     "execution_count": 34,
     "metadata": {},
     "output_type": "execute_result"
    }
   ],
   "source": [
    "ground_truth_values"
   ]
  },
  {
   "cell_type": "code",
   "execution_count": 24,
   "metadata": {
    "scrolled": true
   },
   "outputs": [
    {
     "data": {
      "text/plain": [
       "<matplotlib.collections.PathCollection at 0x7fa3d9ca00d0>"
      ]
     },
     "execution_count": 24,
     "metadata": {},
     "output_type": "execute_result"
    },
    {
     "data": {
      "image/png": "[encoded data removed]",
      "text/plain": [
       "<matplotlib.figure.Figure at 0x7fa3e3f281d0>"
      ]
     },
     "metadata": {},
     "output_type": "display_data"
    }
   ],
   "source": [
    "plt.scatter(ground_truth_values, predictions[:,0])"
   ]
  },
  {
   "cell_type": "code",
   "execution_count": null,
   "metadata": {
    "scrolled": true
   },
   "outputs": [],
   "source": []
  },
  {
   "cell_type": "code",
   "execution_count": 26,
   "metadata": {},
   "outputs": [
    {
     "data": {
      "text/plain": [
       "0.12847042024702982"
      ]
     },
     "execution_count": 26,
     "metadata": {},
     "output_type": "execute_result"
    }
   ],
   "source": [
    "(abs(ground_truth_values - predictions[:,0])/(ground_truth_values)).mean()"
   ]
  },
  {
   "cell_type": "code",
   "execution_count": 30,
   "metadata": {},
   "outputs": [
    {
     "data": {
      "text/plain": [
       "(array([494., 270., 193., 156., 137.]),\n",
       " array([ 411.3280957 , 2058.60891008, 3705.88972446, 5353.17053884,\n",
       "        7000.45135321, 8647.73216759]),\n",
       " <a list of 5 Patch objects>)"
      ]
     },
     "execution_count": 30,
     "metadata": {},
     "output_type": "execute_result"
    },
    {
     "data": {
      "image/png": "[encoded data removed]",
      "text/plain": [
       "<matplotlib.figure.Figure at 0x7fa3e4ff6890>"
      ]
     },
     "metadata": {},
     "output_type": "display_data"
    }
   ],
   "source": [
    "plt.hist(ground_truth_values, 5)"
   ]
  },
  {
   "cell_type": "code",
   "execution_count": 31,
   "metadata": {},
   "outputs": [
    {
     "data": {
      "text/plain": [
       "(array([517., 292., 232., 165.,  44.]),\n",
       " array([ 305.78674316, 2151.77080078, 3997.7548584 , 5843.73891602,\n",
       "        7689.72297363, 9535.70703125]),\n",
       " <a list of 5 Patch objects>)"
      ]
     },
     "execution_count": 31,
     "metadata": {},
     "output_type": "execute_result"
    },
    {
     "data": {
      "image/png": "[encoded data removed]",
      "text/plain": [
       "<matplotlib.figure.Figure at 0x7fa3e4ff6c90>"
      ]
     },
     "metadata": {},
     "output_type": "display_data"
    }
   ],
   "source": [
    "plt.hist(predictions[:,0], 5)"
   ]
  },
  {
   "cell_type": "code",
   "execution_count": null,
   "metadata": {},
   "outputs": [],
   "source": []
  },
  {
   "cell_type": "code",
   "execution_count": null,
   "metadata": {},
   "outputs": [],
   "source": []
  },
  {
   "cell_type": "code",
   "execution_count": null,
   "metadata": {},
   "outputs": [],
   "source": []
  },
  {
   "cell_type": "code",
   "execution_count": null,
   "metadata": {},
   "outputs": [],
   "source": []
  },
  {
   "cell_type": "code",
   "execution_count": null,
   "metadata": {},
   "outputs": [],
   "source": []
  }
 ],
 "metadata": {
  "kernelspec": {
   "display_name": "Python 2",
   "language": "python",
   "name": "python2"
  },
  "language_info": {
   "codemirror_mode": {
    "name": "ipython",
    "version": 2
   },
   "file_extension": ".py",
   "mimetype": "text/x-python",
   "name": "python",
   "nbconvert_exporter": "python",
   "pygments_lexer": "ipython2",
   "version": "2.7.12"
  }
 },
 "nbformat": 4,
 "nbformat_minor": 2
}
