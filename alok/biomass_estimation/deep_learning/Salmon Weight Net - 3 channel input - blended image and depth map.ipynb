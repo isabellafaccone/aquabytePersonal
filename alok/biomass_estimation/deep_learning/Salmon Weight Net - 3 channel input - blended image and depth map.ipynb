{
 "cells": [
  {
   "cell_type": "markdown",
   "metadata": {},
   "source": [
    "<h1> In this notebook, we will implement a neural network that regresses volume against segmentation + depth map </h1>"
   ]
  },
  {
   "cell_type": "code",
   "execution_count": 2,
   "metadata": {},
   "outputs": [
    {
     "name": "stdout",
     "output_type": "stream",
     "text": [
      "The autoreload extension is already loaded. To reload it, use:\n",
      "  %reload_ext autoreload\n"
     ]
    },
    {
     "ename": "ImportError",
     "evalue": "No module named biomass_utils.points_of_interest",
     "output_type": "error",
     "traceback": [
      "\u001b[0;31m---------------------------------------------------------------------------\u001b[0m",
      "\u001b[0;31mImportError\u001b[0m                               Traceback (most recent call last)",
      "\u001b[0;32m<ipython-input-2-b4ffeeac0174>\u001b[0m in \u001b[0;36m<module>\u001b[0;34m()\u001b[0m\n\u001b[1;32m     23\u001b[0m \u001b[0;32mfrom\u001b[0m \u001b[0mmatplotlib\u001b[0m \u001b[0;32mimport\u001b[0m \u001b[0mpyplot\u001b[0m \u001b[0;32mas\u001b[0m \u001b[0mplt\u001b[0m\u001b[0;34m\u001b[0m\u001b[0m\n\u001b[1;32m     24\u001b[0m \u001b[0;32mfrom\u001b[0m \u001b[0mmatplotlib\u001b[0m \u001b[0;32mimport\u001b[0m \u001b[0mcm\u001b[0m\u001b[0;34m\u001b[0m\u001b[0m\n\u001b[0;32m---> 25\u001b[0;31m \u001b[0;32mfrom\u001b[0m \u001b[0mbiomass_utils\u001b[0m\u001b[0;34m.\u001b[0m\u001b[0mpoints_of_interest\u001b[0m \u001b[0;32mimport\u001b[0m \u001b[0mget_point_cloud\u001b[0m\u001b[0;34m\u001b[0m\u001b[0m\n\u001b[0m\u001b[1;32m     26\u001b[0m \u001b[0;34m\u001b[0m\u001b[0m\n\u001b[1;32m     27\u001b[0m \u001b[0mget_ipython\u001b[0m\u001b[0;34m(\u001b[0m\u001b[0;34m)\u001b[0m\u001b[0;34m.\u001b[0m\u001b[0mmagic\u001b[0m\u001b[0;34m(\u001b[0m\u001b[0;34mu'matplotlib inline'\u001b[0m\u001b[0;34m)\u001b[0m\u001b[0;34m\u001b[0m\u001b[0m\n",
      "\u001b[0;31mImportError\u001b[0m: No module named biomass_utils.points_of_interest"
     ]
    }
   ],
   "source": [
    "%load_ext autoreload\n",
    "%autoreload 2\n",
    "\n",
    "import sys\n",
    "sys.path.append('/root/alok/github/cv_research/alok')\n",
    "\n",
    "import glob\n",
    "import json\n",
    "import os\n",
    "import numpy as np\n",
    "from PIL import Image\n",
    "\n",
    "import keras\n",
    "from keras.models import Model\n",
    "from keras.applications.vgg16 import VGG16\n",
    "from keras.layers import Input, Dense, Dropout, Activation, Flatten\n",
    "from keras.layers import Conv2D, MaxPooling2D\n",
    "from keras.utils import np_utils\n",
    "from keras.datasets import mnist\n",
    "from keras import backend as K\n",
    "from keras.backend import tf as ktf\n",
    "\n",
    "from matplotlib import pyplot as plt\n",
    "from matplotlib import cm\n",
    "from biomass_utils.points_of_interest import get_point_cloud\n",
    "\n",
    "%matplotlib inline\n",
    "\n",
    "os.environ[\"CUDA_VISIBLE_DEVICES\"]=\"0\"\n",
    "np.random.seed(1)"
   ]
  },
  {
   "cell_type": "code",
   "execution_count": 3,
   "metadata": {},
   "outputs": [],
   "source": [
    "# Get data ready\n",
    "\n",
    "data_path_base = '/root/data/blender_v3'\n",
    "image_dir = '{}/{}'.format(data_path_base, 'stereo_images')\n",
    "depth_map_dir = '{}/{}'.format(data_path_base, 'depth_map')\n",
    "segmentation_dir = '{}/{}'.format(data_path_base, 'mask')\n",
    "annotation_dir = '{}/{}'.format(data_path_base, 'annotations')\n",
    "\n",
    "number_key = lambda x: int(os.path.splitext(os.path.basename(x))[0].split('_')[-1])\n",
    "side_key = lambda x: os.path.splitext(os.path.basename(x))[0].split('_')[0]\n",
    "all_image_paths = sorted(glob.glob('{}/*.png'.format(image_dir)), key=number_key)\n",
    "image_paths = [p for p in all_image_paths if side_key(p) == 'left'] # we are working with left frame only\n",
    "all_segmentation_paths = sorted(glob.glob('{}/*.npy'.format(segmentation_dir)), key=number_key)\n",
    "segmentation_paths = [p for p in all_segmentation_paths if side_key(p) == 'left'] # we are working with left frame only\n",
    "depth_map_paths = sorted(glob.glob('{}/*.npy'.format(depth_map_dir)), key=number_key)\n",
    "annotation_paths = sorted(glob.glob('{}/*.json'.format(annotation_dir)), key=number_key) \n",
    "complete_data_list = zip(image_paths, segmentation_paths, depth_map_paths, annotation_paths)\n",
    "\n",
    "\n",
    "TRAINING_SIZE = 500\n",
    "train_data_list = [v for i, v in enumerate(complete_data_list) if i < TRAINING_SIZE]\n",
    "test_data_list = [v for i, v in enumerate(complete_data_list) if i > TRAINING_SIZE]\n"
   ]
  },
  {
   "cell_type": "code",
   "execution_count": 2,
   "metadata": {},
   "outputs": [],
   "source": [
    "sm = cm.ScalarMappable(cmap='hot')\n",
    "sm.set_clim(vmin=0, vmax=20)\n",
    "\n",
    "def convert_to_gradient_image(image_array, segmentation_mask, depth_map, annotation):    \n",
    "    projected_depth_map = get_point_cloud(depth_map, annotation['focal_length'], \n",
    "                                          annotation['sensor_height'], \n",
    "                                          annotation['sensor_width'])[:,:,1]\n",
    "    cleaned_depth_map = segmentation_mask * projected_depth_map\n",
    "    rgb_depth_map = sm.to_rgba(cleaned_depth_map, bytes=True)[:,:,:3]\n",
    "    image_array = image_array\n",
    "    image_array = np.dstack([image_array, np.ones((image_array.shape[0], image_array.shape[1], 1))*255]).astype('uint8')\n",
    "    rgb_depth_map = np.dstack([rgb_depth_map, np.ones((rgb_depth_map.shape[0], rgb_depth_map.shape[1], 1))*170]).astype('uint8')\n",
    "    composite_image = Image.alpha_composite(Image.fromarray(image_array), Image.fromarray(rgb_depth_map))\n",
    "    composite_image = composite_image * np.dstack([segmentation_mask, segmentation_mask, segmentation_mask, segmentation_mask])\n",
    "    composite_image = composite_image[:,:,:3]\n",
    "    return Image.fromarray(composite_image).resize((224, 224))\n",
    "    \n",
    "        \n"
   ]
  },
  {
   "cell_type": "code",
   "execution_count": 3,
   "metadata": {
    "scrolled": true
   },
   "outputs": [
    {
     "ename": "NameError",
     "evalue": "name 'image_paths' is not defined",
     "output_type": "error",
     "traceback": [
      "\u001b[0;31m---------------------------------------------------------------------------\u001b[0m",
      "\u001b[0;31mNameError\u001b[0m                                 Traceback (most recent call last)",
      "\u001b[0;32m<ipython-input-3-91e8d84078d5>\u001b[0m in \u001b[0;36m<module>\u001b[0;34m()\u001b[0m\n\u001b[1;32m      1\u001b[0m \u001b[0midx\u001b[0m \u001b[0;34m=\u001b[0m \u001b[0;36m29\u001b[0m\u001b[0;34m\u001b[0m\u001b[0m\n\u001b[0;32m----> 2\u001b[0;31m a = convert_to_gradient_image(np.array(Image.open(image_paths[idx]))[:,:,:3],\n\u001b[0m\u001b[1;32m      3\u001b[0m                                  \u001b[0mnp\u001b[0m\u001b[0;34m.\u001b[0m\u001b[0mload\u001b[0m\u001b[0;34m(\u001b[0m\u001b[0msegmentation_paths\u001b[0m\u001b[0;34m[\u001b[0m\u001b[0midx\u001b[0m\u001b[0;34m]\u001b[0m\u001b[0;34m)\u001b[0m\u001b[0;34m,\u001b[0m\u001b[0;34m\u001b[0m\u001b[0m\n\u001b[1;32m      4\u001b[0m                                  \u001b[0mnp\u001b[0m\u001b[0;34m.\u001b[0m\u001b[0mload\u001b[0m\u001b[0;34m(\u001b[0m\u001b[0mdepth_map_paths\u001b[0m\u001b[0;34m[\u001b[0m\u001b[0midx\u001b[0m\u001b[0;34m]\u001b[0m\u001b[0;34m)\u001b[0m\u001b[0;34m.\u001b[0m\u001b[0mT\u001b[0m\u001b[0;34m,\u001b[0m\u001b[0;34m\u001b[0m\u001b[0m\n\u001b[1;32m      5\u001b[0m                                  json.load(open(annotation_paths[idx], 'rb')))\n",
      "\u001b[0;31mNameError\u001b[0m: name 'image_paths' is not defined"
     ]
    }
   ],
   "source": [
    "idx = 29\n",
    "a = convert_to_gradient_image(np.array(Image.open(image_paths[idx]))[:,:,:3],\n",
    "                                 np.load(segmentation_paths[idx]),\n",
    "                                 np.load(depth_map_paths[idx]).T, \n",
    "                                 json.load(open(annotation_paths[idx], 'rb')))\n"
   ]
  },
  {
   "cell_type": "code",
   "execution_count": null,
   "metadata": {
    "scrolled": false
   },
   "outputs": [],
   "source": []
  },
  {
   "cell_type": "code",
   "execution_count": null,
   "metadata": {},
   "outputs": [],
   "source": []
  },
  {
   "cell_type": "code",
   "execution_count": null,
   "metadata": {},
   "outputs": [],
   "source": []
  },
  {
   "cell_type": "code",
   "execution_count": null,
   "metadata": {},
   "outputs": [],
   "source": []
  },
  {
   "cell_type": "code",
   "execution_count": null,
   "metadata": {},
   "outputs": [],
   "source": []
  },
  {
   "cell_type": "code",
   "execution_count": null,
   "metadata": {},
   "outputs": [],
   "source": []
  },
  {
   "cell_type": "code",
   "execution_count": 5,
   "metadata": {},
   "outputs": [],
   "source": [
    "def generator(data_list, steps_per_epoch, BATCH_SIZE, INPUT_SHAPE):\n",
    "    i = 0\n",
    "    while True:\n",
    "        x_batch = np.empty((BATCH_SIZE, INPUT_SHAPE[0], INPUT_SHAPE[1], INPUT_SHAPE[2]))\n",
    "        y_batch = np.empty((BATCH_SIZE, 1))\n",
    "        for (ind, j) in enumerate(range(i*BATCH_SIZE, min((i+1)*BATCH_SIZE, len(data_list)))):\n",
    "            image_array = np.array(Image.open(data_list[j][0]))[:,:,:3]\n",
    "            segmentation_mask = np.load(data_list[j][1])\n",
    "            depth_map = np.load(data_list[j][2]).T\n",
    "            annotation = json.load(open(data_list[j][3], 'rb'))\n",
    "            four_channel_input = convert_to_gradient_image(image_array, segmentation_mask, depth_map, annotation)\n",
    "            x_batch[ind, ...] = four_channel_input\n",
    "            y_batch[ind] = annotation['volume']\n",
    "            print(data_list[j])\n",
    "            \n",
    "        i += 1\n",
    "        if i >= steps_per_epoch:\n",
    "            i = 0\n",
    "        yield x_batch, y_batch"
   ]
  },
  {
   "cell_type": "code",
   "execution_count": null,
   "metadata": {},
   "outputs": [],
   "source": []
  },
  {
   "cell_type": "code",
   "execution_count": null,
   "metadata": {},
   "outputs": [],
   "source": []
  },
  {
   "cell_type": "code",
   "execution_count": 6,
   "metadata": {
    "scrolled": false
   },
   "outputs": [
    {
     "name": "stdout",
     "output_type": "stream",
     "text": [
      "_________________________________________________________________\n",
      "Layer (type)                 Output Shape              Param #   \n",
      "=================================================================\n",
      "input_1 (InputLayer)         (None, 224, 224, 3)       0         \n",
      "_________________________________________________________________\n",
      "block1_conv1 (Conv2D)        (None, 224, 224, 64)      1792      \n",
      "_________________________________________________________________\n",
      "block1_conv2 (Conv2D)        (None, 224, 224, 64)      36928     \n",
      "_________________________________________________________________\n",
      "block1_pool (MaxPooling2D)   (None, 112, 112, 64)      0         \n",
      "_________________________________________________________________\n",
      "block2_conv1 (Conv2D)        (None, 112, 112, 128)     73856     \n",
      "_________________________________________________________________\n",
      "block2_conv2 (Conv2D)        (None, 112, 112, 128)     147584    \n",
      "_________________________________________________________________\n",
      "block2_pool (MaxPooling2D)   (None, 56, 56, 128)       0         \n",
      "_________________________________________________________________\n",
      "block3_conv1 (Conv2D)        (None, 56, 56, 256)       295168    \n",
      "_________________________________________________________________\n",
      "block3_conv2 (Conv2D)        (None, 56, 56, 256)       590080    \n",
      "_________________________________________________________________\n",
      "block3_conv3 (Conv2D)        (None, 56, 56, 256)       590080    \n",
      "_________________________________________________________________\n",
      "block3_pool (MaxPooling2D)   (None, 28, 28, 256)       0         \n",
      "_________________________________________________________________\n",
      "block4_conv1 (Conv2D)        (None, 28, 28, 512)       1180160   \n",
      "_________________________________________________________________\n",
      "block4_conv2 (Conv2D)        (None, 28, 28, 512)       2359808   \n",
      "_________________________________________________________________\n",
      "block4_conv3 (Conv2D)        (None, 28, 28, 512)       2359808   \n",
      "_________________________________________________________________\n",
      "block4_pool (MaxPooling2D)   (None, 14, 14, 512)       0         \n",
      "_________________________________________________________________\n",
      "block5_conv1 (Conv2D)        (None, 14, 14, 512)       2359808   \n",
      "_________________________________________________________________\n",
      "block5_conv2 (Conv2D)        (None, 14, 14, 512)       2359808   \n",
      "_________________________________________________________________\n",
      "block5_conv3 (Conv2D)        (None, 14, 14, 512)       2359808   \n",
      "_________________________________________________________________\n",
      "block5_pool (MaxPooling2D)   (None, 7, 7, 512)         0         \n",
      "_________________________________________________________________\n",
      "flatten (Flatten)            (None, 25088)             0         \n",
      "_________________________________________________________________\n",
      "fc1 (Dense)                  (None, 4096)              102764544 \n",
      "_________________________________________________________________\n",
      "fc2 (Dense)                  (None, 4096)              16781312  \n",
      "_________________________________________________________________\n",
      "predictions (Dense)          (None, 1)                 4097      \n",
      "=================================================================\n",
      "Total params: 134,264,641\n",
      "Trainable params: 134,264,641\n",
      "Non-trainable params: 0\n",
      "_________________________________________________________________\n"
     ]
    },
    {
     "name": "stderr",
     "output_type": "stream",
     "text": [
      "/usr/local/lib/python2.7/dist-packages/ipykernel_launcher.py:8: UserWarning: Update your `Model` call to the Keras 2 API: `Model(outputs=Tensor(\"pr..., inputs=Tensor(\"in...)`\n",
      "  \n"
     ]
    }
   ],
   "source": [
    "# Generate a model with all layers (with top)\n",
    "vgg16 = VGG16(weights=None, include_top=True)\n",
    "\n",
    "#Add a layer where input is the output of the  second last layer \n",
    "x = Dense(1, name='predictions')(vgg16.layers[-2].output)\n",
    "\n",
    "#Then create the corresponding model \n",
    "model = Model(input=vgg16.input, output=x)\n",
    "model.summary()"
   ]
  },
  {
   "cell_type": "code",
   "execution_count": 7,
   "metadata": {},
   "outputs": [],
   "source": [
    "optimizer = keras.optimizers.adam(lr=0.0001, decay=0.1)\n",
    "model.compile(loss='mean_absolute_error',\n",
    "              optimizer=optimizer,\n",
    "              metrics=['accuracy'])"
   ]
  },
  {
   "cell_type": "code",
   "execution_count": null,
   "metadata": {},
   "outputs": [],
   "source": []
  },
  {
   "cell_type": "code",
   "execution_count": 8,
   "metadata": {
    "scrolled": true
   },
   "outputs": [],
   "source": [
    "BATCH_SIZE = 25\n",
    "steps_per_epoch = int(len(train_data_list)/BATCH_SIZE)\n",
    "gen = generator(train_data_list, steps_per_epoch, BATCH_SIZE, (224, 224, 3))"
   ]
  },
  {
   "cell_type": "code",
   "execution_count": 9,
   "metadata": {
    "scrolled": true
   },
   "outputs": [
    {
     "name": "stdout",
     "output_type": "stream",
     "text": [
      "WARNING:tensorflow:Variable *= will be deprecated. Use variable.assign_mul if you want assignment to the variable value or 'x = x * y' if you want a new python Tensor object.\n",
      "Epoch 1/100\n",
      "('/root/data/blender_v3/stereo_images/left_0.png', '/root/data/blender_v3/mask/left_0.npy', '/root/data/blender_v3/depth_map/depth_map_0.npy', '/root/data/blender_v3/annotations/annot_0.json')\n",
      "('/root/data/blender_v3/stereo_images/left_1.png', '/root/data/blender_v3/mask/left_1.npy', '/root/data/blender_v3/depth_map/depth_map_1.npy', '/root/data/blender_v3/annotations/annot_1.json')\n",
      "('/root/data/blender_v3/stereo_images/left_2.png', '/root/data/blender_v3/mask/left_2.npy', '/root/data/blender_v3/depth_map/depth_map_2.npy', '/root/data/blender_v3/annotations/annot_2.json')\n",
      "('/root/data/blender_v3/stereo_images/left_3.png', '/root/data/blender_v3/mask/left_3.npy', '/root/data/blender_v3/depth_map/depth_map_3.npy', '/root/data/blender_v3/annotations/annot_3.json')\n",
      "('/root/data/blender_v3/stereo_images/left_4.png', '/root/data/blender_v3/mask/left_4.npy', '/root/data/blender_v3/depth_map/depth_map_4.npy', '/root/data/blender_v3/annotations/annot_4.json')\n",
      "('/root/data/blender_v3/stereo_images/left_5.png', '/root/data/blender_v3/mask/left_5.npy', '/root/data/blender_v3/depth_map/depth_map_5.npy', '/root/data/blender_v3/annotations/annot_5.json')\n",
      "('/root/data/blender_v3/stereo_images/left_6.png', '/root/data/blender_v3/mask/left_6.npy', '/root/data/blender_v3/depth_map/depth_map_6.npy', '/root/data/blender_v3/annotations/annot_6.json')\n",
      "('/root/data/blender_v3/stereo_images/left_7.png', '/root/data/blender_v3/mask/left_7.npy', '/root/data/blender_v3/depth_map/depth_map_7.npy', '/root/data/blender_v3/annotations/annot_7.json')\n",
      "('/root/data/blender_v3/stereo_images/left_8.png', '/root/data/blender_v3/mask/left_8.npy', '/root/data/blender_v3/depth_map/depth_map_8.npy', '/root/data/blender_v3/annotations/annot_8.json')\n",
      "('/root/data/blender_v3/stereo_images/left_9.png', '/root/data/blender_v3/mask/left_9.npy', '/root/data/blender_v3/depth_map/depth_map_9.npy', '/root/data/blender_v3/annotations/annot_9.json')\n",
      "('/root/data/blender_v3/stereo_images/left_10.png', '/root/data/blender_v3/mask/left_10.npy', '/root/data/blender_v3/depth_map/depth_map_10.npy', '/root/data/blender_v3/annotations/annot_10.json')\n",
      "('/root/data/blender_v3/stereo_images/left_11.png', '/root/data/blender_v3/mask/left_11.npy', '/root/data/blender_v3/depth_map/depth_map_11.npy', '/root/data/blender_v3/annotations/annot_11.json')\n",
      "('/root/data/blender_v3/stereo_images/left_12.png', '/root/data/blender_v3/mask/left_12.npy', '/root/data/blender_v3/depth_map/depth_map_12.npy', '/root/data/blender_v3/annotations/annot_12.json')\n",
      "('/root/data/blender_v3/stereo_images/left_13.png', '/root/data/blender_v3/mask/left_13.npy', '/root/data/blender_v3/depth_map/depth_map_13.npy', '/root/data/blender_v3/annotations/annot_13.json')\n",
      "('/root/data/blender_v3/stereo_images/left_14.png', '/root/data/blender_v3/mask/left_14.npy', '/root/data/blender_v3/depth_map/depth_map_14.npy', '/root/data/blender_v3/annotations/annot_14.json')\n",
      "('/root/data/blender_v3/stereo_images/left_15.png', '/root/data/blender_v3/mask/left_15.npy', '/root/data/blender_v3/depth_map/depth_map_15.npy', '/root/data/blender_v3/annotations/annot_15.json')\n",
      "('/root/data/blender_v3/stereo_images/left_16.png', '/root/data/blender_v3/mask/left_16.npy', '/root/data/blender_v3/depth_map/depth_map_16.npy', '/root/data/blender_v3/annotations/annot_16.json')\n",
      "('/root/data/blender_v3/stereo_images/left_17.png', '/root/data/blender_v3/mask/left_17.npy', '/root/data/blender_v3/depth_map/depth_map_17.npy', '/root/data/blender_v3/annotations/annot_17.json')\n",
      "('/root/data/blender_v3/stereo_images/left_18.png', '/root/data/blender_v3/mask/left_18.npy', '/root/data/blender_v3/depth_map/depth_map_18.npy', '/root/data/blender_v3/annotations/annot_18.json')\n",
      "('/root/data/blender_v3/stereo_images/left_19.png', '/root/data/blender_v3/mask/left_19.npy', '/root/data/blender_v3/depth_map/depth_map_19.npy', '/root/data/blender_v3/annotations/annot_19.json')\n",
      "('/root/data/blender_v3/stereo_images/left_20.png', '/root/data/blender_v3/mask/left_20.npy', '/root/data/blender_v3/depth_map/depth_map_20.npy', '/root/data/blender_v3/annotations/annot_20.json')\n",
      "('/root/data/blender_v3/stereo_images/left_21.png', '/root/data/blender_v3/mask/left_21.npy', '/root/data/blender_v3/depth_map/depth_map_21.npy', '/root/data/blender_v3/annotations/annot_21.json')\n",
      "('/root/data/blender_v3/stereo_images/left_22.png', '/root/data/blender_v3/mask/left_22.npy', '/root/data/blender_v3/depth_map/depth_map_22.npy', '/root/data/blender_v3/annotations/annot_22.json')\n",
      "('/root/data/blender_v3/stereo_images/left_23.png', '/root/data/blender_v3/mask/left_23.npy', '/root/data/blender_v3/depth_map/depth_map_23.npy', '/root/data/blender_v3/annotations/annot_23.json')\n",
      "('/root/data/blender_v3/stereo_images/left_24.png', '/root/data/blender_v3/mask/left_24.npy', '/root/data/blender_v3/depth_map/depth_map_24.npy', '/root/data/blender_v3/annotations/annot_24.json')\n",
      "('/root/data/blender_v3/stereo_images/left_25.png', '/root/data/blender_v3/mask/left_25.npy', '/root/data/blender_v3/depth_map/depth_map_25.npy', '/root/data/blender_v3/annotations/annot_25.json')\n",
      "('/root/data/blender_v3/stereo_images/left_26.png', '/root/data/blender_v3/mask/left_26.npy', '/root/data/blender_v3/depth_map/depth_map_26.npy', '/root/data/blender_v3/annotations/annot_26.json')\n",
      "('/root/data/blender_v3/stereo_images/left_27.png', '/root/data/blender_v3/mask/left_27.npy', '/root/data/blender_v3/depth_map/depth_map_27.npy', '/root/data/blender_v3/annotations/annot_27.json')\n",
      "('/root/data/blender_v3/stereo_images/left_28.png', '/root/data/blender_v3/mask/left_28.npy', '/root/data/blender_v3/depth_map/depth_map_28.npy', '/root/data/blender_v3/annotations/annot_28.json')\n",
      "('/root/data/blender_v3/stereo_images/left_29.png', '/root/data/blender_v3/mask/left_29.npy', '/root/data/blender_v3/depth_map/depth_map_29.npy', '/root/data/blender_v3/annotations/annot_29.json')\n",
      "('/root/data/blender_v3/stereo_images/left_30.png', '/root/data/blender_v3/mask/left_30.npy', '/root/data/blender_v3/depth_map/depth_map_30.npy', '/root/data/blender_v3/annotations/annot_30.json')\n",
      "('/root/data/blender_v3/stereo_images/left_31.png', '/root/data/blender_v3/mask/left_31.npy', '/root/data/blender_v3/depth_map/depth_map_31.npy', '/root/data/blender_v3/annotations/annot_31.json')\n",
      "('/root/data/blender_v3/stereo_images/left_32.png', '/root/data/blender_v3/mask/left_32.npy', '/root/data/blender_v3/depth_map/depth_map_32.npy', '/root/data/blender_v3/annotations/annot_32.json')\n",
      "('/root/data/blender_v3/stereo_images/left_33.png', '/root/data/blender_v3/mask/left_33.npy', '/root/data/blender_v3/depth_map/depth_map_33.npy', '/root/data/blender_v3/annotations/annot_33.json')\n",
      "('/root/data/blender_v3/stereo_images/left_34.png', '/root/data/blender_v3/mask/left_34.npy', '/root/data/blender_v3/depth_map/depth_map_34.npy', '/root/data/blender_v3/annotations/annot_34.json')\n",
      "('/root/data/blender_v3/stereo_images/left_35.png', '/root/data/blender_v3/mask/left_35.npy', '/root/data/blender_v3/depth_map/depth_map_35.npy', '/root/data/blender_v3/annotations/annot_35.json')\n",
      "('/root/data/blender_v3/stereo_images/left_36.png', '/root/data/blender_v3/mask/left_36.npy', '/root/data/blender_v3/depth_map/depth_map_36.npy', '/root/data/blender_v3/annotations/annot_36.json')\n",
      "('/root/data/blender_v3/stereo_images/left_37.png', '/root/data/blender_v3/mask/left_37.npy', '/root/data/blender_v3/depth_map/depth_map_37.npy', '/root/data/blender_v3/annotations/annot_37.json')\n",
      "('/root/data/blender_v3/stereo_images/left_38.png', '/root/data/blender_v3/mask/left_38.npy', '/root/data/blender_v3/depth_map/depth_map_38.npy', '/root/data/blender_v3/annotations/annot_38.json')\n",
      "('/root/data/blender_v3/stereo_images/left_39.png', '/root/data/blender_v3/mask/left_39.npy', '/root/data/blender_v3/depth_map/depth_map_39.npy', '/root/data/blender_v3/annotations/annot_39.json')\n",
      "('/root/data/blender_v3/stereo_images/left_40.png', '/root/data/blender_v3/mask/left_40.npy', '/root/data/blender_v3/depth_map/depth_map_40.npy', '/root/data/blender_v3/annotations/annot_40.json')\n"
     ]
    },
    {
     "name": "stdout",
     "output_type": "stream",
     "text": [
      "('/root/data/blender_v3/stereo_images/left_41.png', '/root/data/blender_v3/mask/left_41.npy', '/root/data/blender_v3/depth_map/depth_map_41.npy', '/root/data/blender_v3/annotations/annot_41.json')\n",
      "('/root/data/blender_v3/stereo_images/left_42.png', '/root/data/blender_v3/mask/left_42.npy', '/root/data/blender_v3/depth_map/depth_map_42.npy', '/root/data/blender_v3/annotations/annot_42.json')\n",
      "('/root/data/blender_v3/stereo_images/left_43.png', '/root/data/blender_v3/mask/left_43.npy', '/root/data/blender_v3/depth_map/depth_map_43.npy', '/root/data/blender_v3/annotations/annot_43.json')\n",
      "('/root/data/blender_v3/stereo_images/left_44.png', '/root/data/blender_v3/mask/left_44.npy', '/root/data/blender_v3/depth_map/depth_map_44.npy', '/root/data/blender_v3/annotations/annot_44.json')\n",
      "('/root/data/blender_v3/stereo_images/left_45.png', '/root/data/blender_v3/mask/left_45.npy', '/root/data/blender_v3/depth_map/depth_map_45.npy', '/root/data/blender_v3/annotations/annot_45.json')\n",
      "('/root/data/blender_v3/stereo_images/left_46.png', '/root/data/blender_v3/mask/left_46.npy', '/root/data/blender_v3/depth_map/depth_map_46.npy', '/root/data/blender_v3/annotations/annot_46.json')\n",
      "('/root/data/blender_v3/stereo_images/left_47.png', '/root/data/blender_v3/mask/left_47.npy', '/root/data/blender_v3/depth_map/depth_map_47.npy', '/root/data/blender_v3/annotations/annot_47.json')\n",
      "('/root/data/blender_v3/stereo_images/left_48.png', '/root/data/blender_v3/mask/left_48.npy', '/root/data/blender_v3/depth_map/depth_map_48.npy', '/root/data/blender_v3/annotations/annot_48.json')\n",
      "('/root/data/blender_v3/stereo_images/left_49.png', '/root/data/blender_v3/mask/left_49.npy', '/root/data/blender_v3/depth_map/depth_map_49.npy', '/root/data/blender_v3/annotations/annot_49.json')\n",
      "('/root/data/blender_v3/stereo_images/left_50.png', '/root/data/blender_v3/mask/left_50.npy', '/root/data/blender_v3/depth_map/depth_map_50.npy', '/root/data/blender_v3/annotations/annot_50.json')\n",
      "('/root/data/blender_v3/stereo_images/left_51.png', '/root/data/blender_v3/mask/left_51.npy', '/root/data/blender_v3/depth_map/depth_map_51.npy', '/root/data/blender_v3/annotations/annot_51.json')\n",
      "('/root/data/blender_v3/stereo_images/left_52.png', '/root/data/blender_v3/mask/left_52.npy', '/root/data/blender_v3/depth_map/depth_map_52.npy', '/root/data/blender_v3/annotations/annot_52.json')\n",
      "('/root/data/blender_v3/stereo_images/left_53.png', '/root/data/blender_v3/mask/left_53.npy', '/root/data/blender_v3/depth_map/depth_map_53.npy', '/root/data/blender_v3/annotations/annot_53.json')\n",
      "('/root/data/blender_v3/stereo_images/left_54.png', '/root/data/blender_v3/mask/left_54.npy', '/root/data/blender_v3/depth_map/depth_map_54.npy', '/root/data/blender_v3/annotations/annot_54.json')\n",
      "('/root/data/blender_v3/stereo_images/left_55.png', '/root/data/blender_v3/mask/left_55.npy', '/root/data/blender_v3/depth_map/depth_map_55.npy', '/root/data/blender_v3/annotations/annot_55.json')\n",
      "('/root/data/blender_v3/stereo_images/left_56.png', '/root/data/blender_v3/mask/left_56.npy', '/root/data/blender_v3/depth_map/depth_map_56.npy', '/root/data/blender_v3/annotations/annot_56.json')\n",
      "('/root/data/blender_v3/stereo_images/left_57.png', '/root/data/blender_v3/mask/left_57.npy', '/root/data/blender_v3/depth_map/depth_map_57.npy', '/root/data/blender_v3/annotations/annot_57.json')\n",
      "('/root/data/blender_v3/stereo_images/left_58.png', '/root/data/blender_v3/mask/left_58.npy', '/root/data/blender_v3/depth_map/depth_map_58.npy', '/root/data/blender_v3/annotations/annot_58.json')\n",
      "('/root/data/blender_v3/stereo_images/left_59.png', '/root/data/blender_v3/mask/left_59.npy', '/root/data/blender_v3/depth_map/depth_map_59.npy', '/root/data/blender_v3/annotations/annot_59.json')\n",
      "('/root/data/blender_v3/stereo_images/left_60.png', '/root/data/blender_v3/mask/left_60.npy', '/root/data/blender_v3/depth_map/depth_map_60.npy', '/root/data/blender_v3/annotations/annot_60.json')\n",
      "('/root/data/blender_v3/stereo_images/left_61.png', '/root/data/blender_v3/mask/left_61.npy', '/root/data/blender_v3/depth_map/depth_map_61.npy', '/root/data/blender_v3/annotations/annot_61.json')\n",
      "('/root/data/blender_v3/stereo_images/left_62.png', '/root/data/blender_v3/mask/left_62.npy', '/root/data/blender_v3/depth_map/depth_map_62.npy', '/root/data/blender_v3/annotations/annot_62.json')\n",
      "('/root/data/blender_v3/stereo_images/left_63.png', '/root/data/blender_v3/mask/left_63.npy', '/root/data/blender_v3/depth_map/depth_map_63.npy', '/root/data/blender_v3/annotations/annot_63.json')\n",
      "('/root/data/blender_v3/stereo_images/left_64.png', '/root/data/blender_v3/mask/left_64.npy', '/root/data/blender_v3/depth_map/depth_map_64.npy', '/root/data/blender_v3/annotations/annot_64.json')\n",
      " 1/20 [>.............................] - ETA: 3:08 - loss: 3227.9377 - acc: 0.0000e+00('/root/data/blender_v3/stereo_images/left_65.png', '/root/data/blender_v3/mask/left_65.npy', '/root/data/blender_v3/depth_map/depth_map_65.npy', '/root/data/blender_v3/annotations/annot_65.json')\n",
      "('/root/data/blender_v3/stereo_images/left_66.png', '/root/data/blender_v3/mask/left_66.npy', '/root/data/blender_v3/depth_map/depth_map_66.npy', '/root/data/blender_v3/annotations/annot_66.json')\n",
      "('/root/data/blender_v3/stereo_images/left_67.png', '/root/data/blender_v3/mask/left_67.npy', '/root/data/blender_v3/depth_map/depth_map_67.npy', '/root/data/blender_v3/annotations/annot_67.json')\n",
      " 2/20 [==>...........................] - ETA: 1:31 - loss: 3238.2841 - acc: 0.0000e+00('/root/data/blender_v3/stereo_images/left_68.png', '/root/data/blender_v3/mask/left_68.npy', '/root/data/blender_v3/depth_map/depth_map_68.npy', '/root/data/blender_v3/annotations/annot_68.json')\n",
      "('/root/data/blender_v3/stereo_images/left_69.png', '/root/data/blender_v3/mask/left_69.npy', '/root/data/blender_v3/depth_map/depth_map_69.npy', '/root/data/blender_v3/annotations/annot_69.json')\n",
      "('/root/data/blender_v3/stereo_images/left_70.png', '/root/data/blender_v3/mask/left_70.npy', '/root/data/blender_v3/depth_map/depth_map_70.npy', '/root/data/blender_v3/annotations/annot_70.json')\n",
      "('/root/data/blender_v3/stereo_images/left_71.png', '/root/data/blender_v3/mask/left_71.npy', '/root/data/blender_v3/depth_map/depth_map_71.npy', '/root/data/blender_v3/annotations/annot_71.json')\n",
      "('/root/data/blender_v3/stereo_images/left_72.png', '/root/data/blender_v3/mask/left_72.npy', '/root/data/blender_v3/depth_map/depth_map_72.npy', '/root/data/blender_v3/annotations/annot_72.json')\n",
      "('/root/data/blender_v3/stereo_images/left_73.png', '/root/data/blender_v3/mask/left_73.npy', '/root/data/blender_v3/depth_map/depth_map_73.npy', '/root/data/blender_v3/annotations/annot_73.json')\n",
      "('/root/data/blender_v3/stereo_images/left_74.png', '/root/data/blender_v3/mask/left_74.npy', '/root/data/blender_v3/depth_map/depth_map_74.npy', '/root/data/blender_v3/annotations/annot_74.json')\n",
      "('/root/data/blender_v3/stereo_images/left_75.png', '/root/data/blender_v3/mask/left_75.npy', '/root/data/blender_v3/depth_map/depth_map_75.npy', '/root/data/blender_v3/annotations/annot_75.json')\n",
      "('/root/data/blender_v3/stereo_images/left_76.png', '/root/data/blender_v3/mask/left_76.npy', '/root/data/blender_v3/depth_map/depth_map_76.npy', '/root/data/blender_v3/annotations/annot_76.json')\n",
      " 3/20 [===>..........................] - ETA: 1:04 - loss: 3611.5653 - acc: 0.0000e+00('/root/data/blender_v3/stereo_images/left_77.png', '/root/data/blender_v3/mask/left_77.npy', '/root/data/blender_v3/depth_map/depth_map_77.npy', '/root/data/blender_v3/annotations/annot_77.json')\n",
      "('/root/data/blender_v3/stereo_images/left_78.png', '/root/data/blender_v3/mask/left_78.npy', '/root/data/blender_v3/depth_map/depth_map_78.npy', '/root/data/blender_v3/annotations/annot_78.json')\n",
      "('/root/data/blender_v3/stereo_images/left_79.png', '/root/data/blender_v3/mask/left_79.npy', '/root/data/blender_v3/depth_map/depth_map_79.npy', '/root/data/blender_v3/annotations/annot_79.json')\n",
      "('/root/data/blender_v3/stereo_images/left_80.png', '/root/data/blender_v3/mask/left_80.npy', '/root/data/blender_v3/depth_map/depth_map_80.npy', '/root/data/blender_v3/annotations/annot_80.json')\n",
      "('/root/data/blender_v3/stereo_images/left_81.png', '/root/data/blender_v3/mask/left_81.npy', '/root/data/blender_v3/depth_map/depth_map_81.npy', '/root/data/blender_v3/annotations/annot_81.json')\n"
     ]
    },
    {
     "name": "stdout",
     "output_type": "stream",
     "text": [
      "('/root/data/blender_v3/stereo_images/left_82.png', '/root/data/blender_v3/mask/left_82.npy', '/root/data/blender_v3/depth_map/depth_map_82.npy', '/root/data/blender_v3/annotations/annot_82.json')\n",
      "('/root/data/blender_v3/stereo_images/left_83.png', '/root/data/blender_v3/mask/left_83.npy', '/root/data/blender_v3/depth_map/depth_map_83.npy', '/root/data/blender_v3/annotations/annot_83.json')\n",
      "('/root/data/blender_v3/stereo_images/left_84.png', '/root/data/blender_v3/mask/left_84.npy', '/root/data/blender_v3/depth_map/depth_map_84.npy', '/root/data/blender_v3/annotations/annot_84.json')\n",
      "('/root/data/blender_v3/stereo_images/left_85.png', '/root/data/blender_v3/mask/left_85.npy', '/root/data/blender_v3/depth_map/depth_map_85.npy', '/root/data/blender_v3/annotations/annot_85.json')\n",
      "('/root/data/blender_v3/stereo_images/left_86.png', '/root/data/blender_v3/mask/left_86.npy', '/root/data/blender_v3/depth_map/depth_map_86.npy', '/root/data/blender_v3/annotations/annot_86.json')\n",
      "('/root/data/blender_v3/stereo_images/left_87.png', '/root/data/blender_v3/mask/left_87.npy', '/root/data/blender_v3/depth_map/depth_map_87.npy', '/root/data/blender_v3/annotations/annot_87.json')\n",
      "('/root/data/blender_v3/stereo_images/left_88.png', '/root/data/blender_v3/mask/left_88.npy', '/root/data/blender_v3/depth_map/depth_map_88.npy', '/root/data/blender_v3/annotations/annot_88.json')\n",
      "('/root/data/blender_v3/stereo_images/left_89.png', '/root/data/blender_v3/mask/left_89.npy', '/root/data/blender_v3/depth_map/depth_map_89.npy', '/root/data/blender_v3/annotations/annot_89.json')\n",
      "('/root/data/blender_v3/stereo_images/left_90.png', '/root/data/blender_v3/mask/left_90.npy', '/root/data/blender_v3/depth_map/depth_map_90.npy', '/root/data/blender_v3/annotations/annot_90.json')\n",
      "('/root/data/blender_v3/stereo_images/left_91.png', '/root/data/blender_v3/mask/left_91.npy', '/root/data/blender_v3/depth_map/depth_map_91.npy', '/root/data/blender_v3/annotations/annot_91.json')\n",
      "('/root/data/blender_v3/stereo_images/left_92.png', '/root/data/blender_v3/mask/left_92.npy', '/root/data/blender_v3/depth_map/depth_map_92.npy', '/root/data/blender_v3/annotations/annot_92.json')\n",
      "('/root/data/blender_v3/stereo_images/left_93.png', '/root/data/blender_v3/mask/left_93.npy', '/root/data/blender_v3/depth_map/depth_map_93.npy', '/root/data/blender_v3/annotations/annot_93.json')\n",
      "('/root/data/blender_v3/stereo_images/left_94.png', '/root/data/blender_v3/mask/left_94.npy', '/root/data/blender_v3/depth_map/depth_map_94.npy', '/root/data/blender_v3/annotations/annot_94.json')\n",
      "('/root/data/blender_v3/stereo_images/left_95.png', '/root/data/blender_v3/mask/left_95.npy', '/root/data/blender_v3/depth_map/depth_map_95.npy', '/root/data/blender_v3/annotations/annot_95.json')\n",
      "('/root/data/blender_v3/stereo_images/left_96.png', '/root/data/blender_v3/mask/left_96.npy', '/root/data/blender_v3/depth_map/depth_map_96.npy', '/root/data/blender_v3/annotations/annot_96.json')\n",
      "('/root/data/blender_v3/stereo_images/left_97.png', '/root/data/blender_v3/mask/left_97.npy', '/root/data/blender_v3/depth_map/depth_map_97.npy', '/root/data/blender_v3/annotations/annot_97.json')\n",
      "('/root/data/blender_v3/stereo_images/left_98.png', '/root/data/blender_v3/mask/left_98.npy', '/root/data/blender_v3/depth_map/depth_map_98.npy', '/root/data/blender_v3/annotations/annot_98.json')\n",
      "('/root/data/blender_v3/stereo_images/left_99.png', '/root/data/blender_v3/mask/left_99.npy', '/root/data/blender_v3/depth_map/depth_map_99.npy', '/root/data/blender_v3/annotations/annot_99.json')\n",
      "('/root/data/blender_v3/stereo_images/left_100.png', '/root/data/blender_v3/mask/left_100.npy', '/root/data/blender_v3/depth_map/depth_map_100.npy', '/root/data/blender_v3/annotations/annot_100.json')\n",
      "('/root/data/blender_v3/stereo_images/left_101.png', '/root/data/blender_v3/mask/left_101.npy', '/root/data/blender_v3/depth_map/depth_map_101.npy', '/root/data/blender_v3/annotations/annot_101.json')\n",
      " 4/20 [=====>........................] - ETA: 59s - loss: 3346.3049 - acc: 0.0000e+00 ('/root/data/blender_v3/stereo_images/left_102.png', '/root/data/blender_v3/mask/left_102.npy', '/root/data/blender_v3/depth_map/depth_map_102.npy', '/root/data/blender_v3/annotations/annot_102.json')\n",
      "('/root/data/blender_v3/stereo_images/left_103.png', '/root/data/blender_v3/mask/left_103.npy', '/root/data/blender_v3/depth_map/depth_map_103.npy', '/root/data/blender_v3/annotations/annot_103.json')\n",
      "('/root/data/blender_v3/stereo_images/left_104.png', '/root/data/blender_v3/mask/left_104.npy', '/root/data/blender_v3/depth_map/depth_map_104.npy', '/root/data/blender_v3/annotations/annot_104.json')\n",
      "('/root/data/blender_v3/stereo_images/left_105.png', '/root/data/blender_v3/mask/left_105.npy', '/root/data/blender_v3/depth_map/depth_map_105.npy', '/root/data/blender_v3/annotations/annot_105.json')\n",
      "('/root/data/blender_v3/stereo_images/left_106.png', '/root/data/blender_v3/mask/left_106.npy', '/root/data/blender_v3/depth_map/depth_map_106.npy', '/root/data/blender_v3/annotations/annot_106.json')\n",
      "('/root/data/blender_v3/stereo_images/left_107.png', '/root/data/blender_v3/mask/left_107.npy', '/root/data/blender_v3/depth_map/depth_map_107.npy', '/root/data/blender_v3/annotations/annot_107.json')\n",
      "('/root/data/blender_v3/stereo_images/left_108.png', '/root/data/blender_v3/mask/left_108.npy', '/root/data/blender_v3/depth_map/depth_map_108.npy', '/root/data/blender_v3/annotations/annot_108.json')\n",
      "('/root/data/blender_v3/stereo_images/left_109.png', '/root/data/blender_v3/mask/left_109.npy', '/root/data/blender_v3/depth_map/depth_map_109.npy', '/root/data/blender_v3/annotations/annot_109.json')\n",
      "('/root/data/blender_v3/stereo_images/left_110.png', '/root/data/blender_v3/mask/left_110.npy', '/root/data/blender_v3/depth_map/depth_map_110.npy', '/root/data/blender_v3/annotations/annot_110.json')\n",
      "('/root/data/blender_v3/stereo_images/left_111.png', '/root/data/blender_v3/mask/left_111.npy', '/root/data/blender_v3/depth_map/depth_map_111.npy', '/root/data/blender_v3/annotations/annot_111.json')\n",
      "('/root/data/blender_v3/stereo_images/left_112.png', '/root/data/blender_v3/mask/left_112.npy', '/root/data/blender_v3/depth_map/depth_map_112.npy', '/root/data/blender_v3/annotations/annot_112.json')\n",
      "('/root/data/blender_v3/stereo_images/left_113.png', '/root/data/blender_v3/mask/left_113.npy', '/root/data/blender_v3/depth_map/depth_map_113.npy', '/root/data/blender_v3/annotations/annot_113.json')\n",
      "('/root/data/blender_v3/stereo_images/left_114.png', '/root/data/blender_v3/mask/left_114.npy', '/root/data/blender_v3/depth_map/depth_map_114.npy', '/root/data/blender_v3/annotations/annot_114.json')\n",
      "('/root/data/blender_v3/stereo_images/left_115.png', '/root/data/blender_v3/mask/left_115.npy', '/root/data/blender_v3/depth_map/depth_map_115.npy', '/root/data/blender_v3/annotations/annot_115.json')\n",
      "('/root/data/blender_v3/stereo_images/left_116.png', '/root/data/blender_v3/mask/left_116.npy', '/root/data/blender_v3/depth_map/depth_map_116.npy', '/root/data/blender_v3/annotations/annot_116.json')\n",
      "('/root/data/blender_v3/stereo_images/left_117.png', '/root/data/blender_v3/mask/left_117.npy', '/root/data/blender_v3/depth_map/depth_map_117.npy', '/root/data/blender_v3/annotations/annot_117.json')\n",
      "('/root/data/blender_v3/stereo_images/left_118.png', '/root/data/blender_v3/mask/left_118.npy', '/root/data/blender_v3/depth_map/depth_map_118.npy', '/root/data/blender_v3/annotations/annot_118.json')\n",
      "('/root/data/blender_v3/stereo_images/left_119.png', '/root/data/blender_v3/mask/left_119.npy', '/root/data/blender_v3/depth_map/depth_map_119.npy', '/root/data/blender_v3/annotations/annot_119.json')\n",
      "('/root/data/blender_v3/stereo_images/left_120.png', '/root/data/blender_v3/mask/left_120.npy', '/root/data/blender_v3/depth_map/depth_map_120.npy', '/root/data/blender_v3/annotations/annot_120.json')\n",
      "('/root/data/blender_v3/stereo_images/left_121.png', '/root/data/blender_v3/mask/left_121.npy', '/root/data/blender_v3/depth_map/depth_map_121.npy', '/root/data/blender_v3/annotations/annot_121.json')\n",
      "('/root/data/blender_v3/stereo_images/left_122.png', '/root/data/blender_v3/mask/left_122.npy', '/root/data/blender_v3/depth_map/depth_map_122.npy', '/root/data/blender_v3/annotations/annot_122.json')\n"
     ]
    },
    {
     "name": "stdout",
     "output_type": "stream",
     "text": [
      "('/root/data/blender_v3/stereo_images/left_123.png', '/root/data/blender_v3/mask/left_123.npy', '/root/data/blender_v3/depth_map/depth_map_123.npy', '/root/data/blender_v3/annotations/annot_123.json')\n",
      "('/root/data/blender_v3/stereo_images/left_124.png', '/root/data/blender_v3/mask/left_124.npy', '/root/data/blender_v3/depth_map/depth_map_124.npy', '/root/data/blender_v3/annotations/annot_124.json')\n",
      "('/root/data/blender_v3/stereo_images/left_125.png', '/root/data/blender_v3/mask/left_125.npy', '/root/data/blender_v3/depth_map/depth_map_125.npy', '/root/data/blender_v3/annotations/annot_125.json')\n",
      "('/root/data/blender_v3/stereo_images/left_126.png', '/root/data/blender_v3/mask/left_126.npy', '/root/data/blender_v3/depth_map/depth_map_126.npy', '/root/data/blender_v3/annotations/annot_126.json')\n",
      " 5/20 [======>.......................] - ETA: 54s - loss: 3245.3815 - acc: 0.0000e+00('/root/data/blender_v3/stereo_images/left_127.png', '/root/data/blender_v3/mask/left_127.npy', '/root/data/blender_v3/depth_map/depth_map_127.npy', '/root/data/blender_v3/annotations/annot_127.json')\n",
      "('/root/data/blender_v3/stereo_images/left_128.png', '/root/data/blender_v3/mask/left_128.npy', '/root/data/blender_v3/depth_map/depth_map_128.npy', '/root/data/blender_v3/annotations/annot_128.json')\n",
      "('/root/data/blender_v3/stereo_images/left_129.png', '/root/data/blender_v3/mask/left_129.npy', '/root/data/blender_v3/depth_map/depth_map_129.npy', '/root/data/blender_v3/annotations/annot_129.json')\n",
      "('/root/data/blender_v3/stereo_images/left_130.png', '/root/data/blender_v3/mask/left_130.npy', '/root/data/blender_v3/depth_map/depth_map_130.npy', '/root/data/blender_v3/annotations/annot_130.json')\n",
      "('/root/data/blender_v3/stereo_images/left_131.png', '/root/data/blender_v3/mask/left_131.npy', '/root/data/blender_v3/depth_map/depth_map_131.npy', '/root/data/blender_v3/annotations/annot_131.json')\n",
      "('/root/data/blender_v3/stereo_images/left_132.png', '/root/data/blender_v3/mask/left_132.npy', '/root/data/blender_v3/depth_map/depth_map_132.npy', '/root/data/blender_v3/annotations/annot_132.json')\n",
      "('/root/data/blender_v3/stereo_images/left_133.png', '/root/data/blender_v3/mask/left_133.npy', '/root/data/blender_v3/depth_map/depth_map_133.npy', '/root/data/blender_v3/annotations/annot_133.json')\n",
      "('/root/data/blender_v3/stereo_images/left_134.png', '/root/data/blender_v3/mask/left_134.npy', '/root/data/blender_v3/depth_map/depth_map_134.npy', '/root/data/blender_v3/annotations/annot_134.json')\n",
      "('/root/data/blender_v3/stereo_images/left_135.png', '/root/data/blender_v3/mask/left_135.npy', '/root/data/blender_v3/depth_map/depth_map_135.npy', '/root/data/blender_v3/annotations/annot_135.json')\n",
      "('/root/data/blender_v3/stereo_images/left_136.png', '/root/data/blender_v3/mask/left_136.npy', '/root/data/blender_v3/depth_map/depth_map_136.npy', '/root/data/blender_v3/annotations/annot_136.json')\n",
      "('/root/data/blender_v3/stereo_images/left_137.png', '/root/data/blender_v3/mask/left_137.npy', '/root/data/blender_v3/depth_map/depth_map_137.npy', '/root/data/blender_v3/annotations/annot_137.json')\n",
      "('/root/data/blender_v3/stereo_images/left_138.png', '/root/data/blender_v3/mask/left_138.npy', '/root/data/blender_v3/depth_map/depth_map_138.npy', '/root/data/blender_v3/annotations/annot_138.json')\n",
      "('/root/data/blender_v3/stereo_images/left_139.png', '/root/data/blender_v3/mask/left_139.npy', '/root/data/blender_v3/depth_map/depth_map_139.npy', '/root/data/blender_v3/annotations/annot_139.json')\n",
      "('/root/data/blender_v3/stereo_images/left_140.png', '/root/data/blender_v3/mask/left_140.npy', '/root/data/blender_v3/depth_map/depth_map_140.npy', '/root/data/blender_v3/annotations/annot_140.json')\n",
      "('/root/data/blender_v3/stereo_images/left_141.png', '/root/data/blender_v3/mask/left_141.npy', '/root/data/blender_v3/depth_map/depth_map_141.npy', '/root/data/blender_v3/annotations/annot_141.json')\n",
      "('/root/data/blender_v3/stereo_images/left_142.png', '/root/data/blender_v3/mask/left_142.npy', '/root/data/blender_v3/depth_map/depth_map_142.npy', '/root/data/blender_v3/annotations/annot_142.json')\n",
      "('/root/data/blender_v3/stereo_images/left_143.png', '/root/data/blender_v3/mask/left_143.npy', '/root/data/blender_v3/depth_map/depth_map_143.npy', '/root/data/blender_v3/annotations/annot_143.json')\n",
      "('/root/data/blender_v3/stereo_images/left_144.png', '/root/data/blender_v3/mask/left_144.npy', '/root/data/blender_v3/depth_map/depth_map_144.npy', '/root/data/blender_v3/annotations/annot_144.json')\n",
      "('/root/data/blender_v3/stereo_images/left_145.png', '/root/data/blender_v3/mask/left_145.npy', '/root/data/blender_v3/depth_map/depth_map_145.npy', '/root/data/blender_v3/annotations/annot_145.json')\n",
      "('/root/data/blender_v3/stereo_images/left_146.png', '/root/data/blender_v3/mask/left_146.npy', '/root/data/blender_v3/depth_map/depth_map_146.npy', '/root/data/blender_v3/annotations/annot_146.json')\n",
      "('/root/data/blender_v3/stereo_images/left_147.png', '/root/data/blender_v3/mask/left_147.npy', '/root/data/blender_v3/depth_map/depth_map_147.npy', '/root/data/blender_v3/annotations/annot_147.json')\n",
      "('/root/data/blender_v3/stereo_images/left_148.png', '/root/data/blender_v3/mask/left_148.npy', '/root/data/blender_v3/depth_map/depth_map_148.npy', '/root/data/blender_v3/annotations/annot_148.json')\n",
      "('/root/data/blender_v3/stereo_images/left_149.png', '/root/data/blender_v3/mask/left_149.npy', '/root/data/blender_v3/depth_map/depth_map_149.npy', '/root/data/blender_v3/annotations/annot_149.json')\n",
      "('/root/data/blender_v3/stereo_images/left_150.png', '/root/data/blender_v3/mask/left_150.npy', '/root/data/blender_v3/depth_map/depth_map_150.npy', '/root/data/blender_v3/annotations/annot_150.json')\n",
      "('/root/data/blender_v3/stereo_images/left_151.png', '/root/data/blender_v3/mask/left_151.npy', '/root/data/blender_v3/depth_map/depth_map_151.npy', '/root/data/blender_v3/annotations/annot_151.json')\n",
      " 6/20 [========>.....................] - ETA: 49s - loss: 3273.9873 - acc: 0.0000e+00('/root/data/blender_v3/stereo_images/left_152.png', '/root/data/blender_v3/mask/left_152.npy', '/root/data/blender_v3/depth_map/depth_map_152.npy', '/root/data/blender_v3/annotations/annot_152.json')\n",
      "('/root/data/blender_v3/stereo_images/left_153.png', '/root/data/blender_v3/mask/left_153.npy', '/root/data/blender_v3/depth_map/depth_map_153.npy', '/root/data/blender_v3/annotations/annot_153.json')\n",
      "('/root/data/blender_v3/stereo_images/left_154.png', '/root/data/blender_v3/mask/left_154.npy', '/root/data/blender_v3/depth_map/depth_map_154.npy', '/root/data/blender_v3/annotations/annot_154.json')\n",
      "('/root/data/blender_v3/stereo_images/left_155.png', '/root/data/blender_v3/mask/left_155.npy', '/root/data/blender_v3/depth_map/depth_map_155.npy', '/root/data/blender_v3/annotations/annot_155.json')\n",
      "('/root/data/blender_v3/stereo_images/left_156.png', '/root/data/blender_v3/mask/left_156.npy', '/root/data/blender_v3/depth_map/depth_map_156.npy', '/root/data/blender_v3/annotations/annot_156.json')\n",
      "('/root/data/blender_v3/stereo_images/left_157.png', '/root/data/blender_v3/mask/left_157.npy', '/root/data/blender_v3/depth_map/depth_map_157.npy', '/root/data/blender_v3/annotations/annot_157.json')\n",
      "('/root/data/blender_v3/stereo_images/left_158.png', '/root/data/blender_v3/mask/left_158.npy', '/root/data/blender_v3/depth_map/depth_map_158.npy', '/root/data/blender_v3/annotations/annot_158.json')\n",
      "('/root/data/blender_v3/stereo_images/left_159.png', '/root/data/blender_v3/mask/left_159.npy', '/root/data/blender_v3/depth_map/depth_map_159.npy', '/root/data/blender_v3/annotations/annot_159.json')\n",
      "('/root/data/blender_v3/stereo_images/left_160.png', '/root/data/blender_v3/mask/left_160.npy', '/root/data/blender_v3/depth_map/depth_map_160.npy', '/root/data/blender_v3/annotations/annot_160.json')\n",
      "('/root/data/blender_v3/stereo_images/left_161.png', '/root/data/blender_v3/mask/left_161.npy', '/root/data/blender_v3/depth_map/depth_map_161.npy', '/root/data/blender_v3/annotations/annot_161.json')\n",
      "('/root/data/blender_v3/stereo_images/left_162.png', '/root/data/blender_v3/mask/left_162.npy', '/root/data/blender_v3/depth_map/depth_map_162.npy', '/root/data/blender_v3/annotations/annot_162.json')\n"
     ]
    },
    {
     "name": "stdout",
     "output_type": "stream",
     "text": [
      "('/root/data/blender_v3/stereo_images/left_163.png', '/root/data/blender_v3/mask/left_163.npy', '/root/data/blender_v3/depth_map/depth_map_163.npy', '/root/data/blender_v3/annotations/annot_163.json')\n",
      "('/root/data/blender_v3/stereo_images/left_164.png', '/root/data/blender_v3/mask/left_164.npy', '/root/data/blender_v3/depth_map/depth_map_164.npy', '/root/data/blender_v3/annotations/annot_164.json')\n",
      "('/root/data/blender_v3/stereo_images/left_165.png', '/root/data/blender_v3/mask/left_165.npy', '/root/data/blender_v3/depth_map/depth_map_165.npy', '/root/data/blender_v3/annotations/annot_165.json')\n",
      "('/root/data/blender_v3/stereo_images/left_166.png', '/root/data/blender_v3/mask/left_166.npy', '/root/data/blender_v3/depth_map/depth_map_166.npy', '/root/data/blender_v3/annotations/annot_166.json')\n",
      "('/root/data/blender_v3/stereo_images/left_167.png', '/root/data/blender_v3/mask/left_167.npy', '/root/data/blender_v3/depth_map/depth_map_167.npy', '/root/data/blender_v3/annotations/annot_167.json')\n",
      "('/root/data/blender_v3/stereo_images/left_168.png', '/root/data/blender_v3/mask/left_168.npy', '/root/data/blender_v3/depth_map/depth_map_168.npy', '/root/data/blender_v3/annotations/annot_168.json')\n",
      "('/root/data/blender_v3/stereo_images/left_169.png', '/root/data/blender_v3/mask/left_169.npy', '/root/data/blender_v3/depth_map/depth_map_169.npy', '/root/data/blender_v3/annotations/annot_169.json')\n",
      "('/root/data/blender_v3/stereo_images/left_170.png', '/root/data/blender_v3/mask/left_170.npy', '/root/data/blender_v3/depth_map/depth_map_170.npy', '/root/data/blender_v3/annotations/annot_170.json')\n",
      "('/root/data/blender_v3/stereo_images/left_171.png', '/root/data/blender_v3/mask/left_171.npy', '/root/data/blender_v3/depth_map/depth_map_171.npy', '/root/data/blender_v3/annotations/annot_171.json')\n",
      "('/root/data/blender_v3/stereo_images/left_172.png', '/root/data/blender_v3/mask/left_172.npy', '/root/data/blender_v3/depth_map/depth_map_172.npy', '/root/data/blender_v3/annotations/annot_172.json')\n",
      "('/root/data/blender_v3/stereo_images/left_173.png', '/root/data/blender_v3/mask/left_173.npy', '/root/data/blender_v3/depth_map/depth_map_173.npy', '/root/data/blender_v3/annotations/annot_173.json')\n",
      "('/root/data/blender_v3/stereo_images/left_174.png', '/root/data/blender_v3/mask/left_174.npy', '/root/data/blender_v3/depth_map/depth_map_174.npy', '/root/data/blender_v3/annotations/annot_174.json')\n",
      "('/root/data/blender_v3/stereo_images/left_175.png', '/root/data/blender_v3/mask/left_175.npy', '/root/data/blender_v3/depth_map/depth_map_175.npy', '/root/data/blender_v3/annotations/annot_175.json')\n",
      "('/root/data/blender_v3/stereo_images/left_176.png', '/root/data/blender_v3/mask/left_176.npy', '/root/data/blender_v3/depth_map/depth_map_176.npy', '/root/data/blender_v3/annotations/annot_176.json')\n",
      " 7/20 [=========>....................] - ETA: 45s - loss: 3005.6658 - acc: 0.0000e+00('/root/data/blender_v3/stereo_images/left_177.png', '/root/data/blender_v3/mask/left_177.npy', '/root/data/blender_v3/depth_map/depth_map_177.npy', '/root/data/blender_v3/annotations/annot_177.json')\n",
      "('/root/data/blender_v3/stereo_images/left_178.png', '/root/data/blender_v3/mask/left_178.npy', '/root/data/blender_v3/depth_map/depth_map_178.npy', '/root/data/blender_v3/annotations/annot_178.json')\n",
      "('/root/data/blender_v3/stereo_images/left_179.png', '/root/data/blender_v3/mask/left_179.npy', '/root/data/blender_v3/depth_map/depth_map_179.npy', '/root/data/blender_v3/annotations/annot_179.json')\n",
      "('/root/data/blender_v3/stereo_images/left_180.png', '/root/data/blender_v3/mask/left_180.npy', '/root/data/blender_v3/depth_map/depth_map_180.npy', '/root/data/blender_v3/annotations/annot_180.json')\n",
      "('/root/data/blender_v3/stereo_images/left_181.png', '/root/data/blender_v3/mask/left_181.npy', '/root/data/blender_v3/depth_map/depth_map_181.npy', '/root/data/blender_v3/annotations/annot_181.json')\n",
      "('/root/data/blender_v3/stereo_images/left_182.png', '/root/data/blender_v3/mask/left_182.npy', '/root/data/blender_v3/depth_map/depth_map_182.npy', '/root/data/blender_v3/annotations/annot_182.json')\n",
      "('/root/data/blender_v3/stereo_images/left_183.png', '/root/data/blender_v3/mask/left_183.npy', '/root/data/blender_v3/depth_map/depth_map_183.npy', '/root/data/blender_v3/annotations/annot_183.json')\n",
      "('/root/data/blender_v3/stereo_images/left_184.png', '/root/data/blender_v3/mask/left_184.npy', '/root/data/blender_v3/depth_map/depth_map_184.npy', '/root/data/blender_v3/annotations/annot_184.json')\n",
      "('/root/data/blender_v3/stereo_images/left_185.png', '/root/data/blender_v3/mask/left_185.npy', '/root/data/blender_v3/depth_map/depth_map_185.npy', '/root/data/blender_v3/annotations/annot_185.json')\n",
      "('/root/data/blender_v3/stereo_images/left_186.png', '/root/data/blender_v3/mask/left_186.npy', '/root/data/blender_v3/depth_map/depth_map_186.npy', '/root/data/blender_v3/annotations/annot_186.json')\n",
      "('/root/data/blender_v3/stereo_images/left_187.png', '/root/data/blender_v3/mask/left_187.npy', '/root/data/blender_v3/depth_map/depth_map_187.npy', '/root/data/blender_v3/annotations/annot_187.json')\n",
      "('/root/data/blender_v3/stereo_images/left_188.png', '/root/data/blender_v3/mask/left_188.npy', '/root/data/blender_v3/depth_map/depth_map_188.npy', '/root/data/blender_v3/annotations/annot_188.json')\n",
      "('/root/data/blender_v3/stereo_images/left_189.png', '/root/data/blender_v3/mask/left_189.npy', '/root/data/blender_v3/depth_map/depth_map_189.npy', '/root/data/blender_v3/annotations/annot_189.json')\n",
      "('/root/data/blender_v3/stereo_images/left_190.png', '/root/data/blender_v3/mask/left_190.npy', '/root/data/blender_v3/depth_map/depth_map_190.npy', '/root/data/blender_v3/annotations/annot_190.json')\n",
      "('/root/data/blender_v3/stereo_images/left_191.png', '/root/data/blender_v3/mask/left_191.npy', '/root/data/blender_v3/depth_map/depth_map_191.npy', '/root/data/blender_v3/annotations/annot_191.json')\n",
      "('/root/data/blender_v3/stereo_images/left_192.png', '/root/data/blender_v3/mask/left_192.npy', '/root/data/blender_v3/depth_map/depth_map_192.npy', '/root/data/blender_v3/annotations/annot_192.json')\n",
      "('/root/data/blender_v3/stereo_images/left_193.png', '/root/data/blender_v3/mask/left_193.npy', '/root/data/blender_v3/depth_map/depth_map_193.npy', '/root/data/blender_v3/annotations/annot_193.json')\n",
      "('/root/data/blender_v3/stereo_images/left_194.png', '/root/data/blender_v3/mask/left_194.npy', '/root/data/blender_v3/depth_map/depth_map_194.npy', '/root/data/blender_v3/annotations/annot_194.json')\n",
      "('/root/data/blender_v3/stereo_images/left_195.png', '/root/data/blender_v3/mask/left_195.npy', '/root/data/blender_v3/depth_map/depth_map_195.npy', '/root/data/blender_v3/annotations/annot_195.json')\n",
      "('/root/data/blender_v3/stereo_images/left_196.png', '/root/data/blender_v3/mask/left_196.npy', '/root/data/blender_v3/depth_map/depth_map_196.npy', '/root/data/blender_v3/annotations/annot_196.json')\n",
      "('/root/data/blender_v3/stereo_images/left_197.png', '/root/data/blender_v3/mask/left_197.npy', '/root/data/blender_v3/depth_map/depth_map_197.npy', '/root/data/blender_v3/annotations/annot_197.json')\n",
      "('/root/data/blender_v3/stereo_images/left_198.png', '/root/data/blender_v3/mask/left_198.npy', '/root/data/blender_v3/depth_map/depth_map_198.npy', '/root/data/blender_v3/annotations/annot_198.json')\n",
      "('/root/data/blender_v3/stereo_images/left_199.png', '/root/data/blender_v3/mask/left_199.npy', '/root/data/blender_v3/depth_map/depth_map_199.npy', '/root/data/blender_v3/annotations/annot_199.json')\n",
      "('/root/data/blender_v3/stereo_images/left_200.png', '/root/data/blender_v3/mask/left_200.npy', '/root/data/blender_v3/depth_map/depth_map_200.npy', '/root/data/blender_v3/annotations/annot_200.json')\n",
      "('/root/data/blender_v3/stereo_images/left_201.png', '/root/data/blender_v3/mask/left_201.npy', '/root/data/blender_v3/depth_map/depth_map_201.npy', '/root/data/blender_v3/annotations/annot_201.json')\n",
      " 8/20 [===========>..................] - ETA: 42s - loss: 2736.5093 - acc: 0.0000e+00('/root/data/blender_v3/stereo_images/left_202.png', '/root/data/blender_v3/mask/left_202.npy', '/root/data/blender_v3/depth_map/depth_map_202.npy', '/root/data/blender_v3/annotations/annot_202.json')\n"
     ]
    },
    {
     "name": "stdout",
     "output_type": "stream",
     "text": [
      "('/root/data/blender_v3/stereo_images/left_203.png', '/root/data/blender_v3/mask/left_203.npy', '/root/data/blender_v3/depth_map/depth_map_203.npy', '/root/data/blender_v3/annotations/annot_203.json')\n",
      "('/root/data/blender_v3/stereo_images/left_204.png', '/root/data/blender_v3/mask/left_204.npy', '/root/data/blender_v3/depth_map/depth_map_204.npy', '/root/data/blender_v3/annotations/annot_204.json')\n",
      "('/root/data/blender_v3/stereo_images/left_205.png', '/root/data/blender_v3/mask/left_205.npy', '/root/data/blender_v3/depth_map/depth_map_205.npy', '/root/data/blender_v3/annotations/annot_205.json')\n",
      "('/root/data/blender_v3/stereo_images/left_206.png', '/root/data/blender_v3/mask/left_206.npy', '/root/data/blender_v3/depth_map/depth_map_206.npy', '/root/data/blender_v3/annotations/annot_206.json')\n",
      "('/root/data/blender_v3/stereo_images/left_207.png', '/root/data/blender_v3/mask/left_207.npy', '/root/data/blender_v3/depth_map/depth_map_207.npy', '/root/data/blender_v3/annotations/annot_207.json')\n",
      "('/root/data/blender_v3/stereo_images/left_208.png', '/root/data/blender_v3/mask/left_208.npy', '/root/data/blender_v3/depth_map/depth_map_208.npy', '/root/data/blender_v3/annotations/annot_208.json')\n",
      "('/root/data/blender_v3/stereo_images/left_209.png', '/root/data/blender_v3/mask/left_209.npy', '/root/data/blender_v3/depth_map/depth_map_209.npy', '/root/data/blender_v3/annotations/annot_209.json')\n",
      "('/root/data/blender_v3/stereo_images/left_210.png', '/root/data/blender_v3/mask/left_210.npy', '/root/data/blender_v3/depth_map/depth_map_210.npy', '/root/data/blender_v3/annotations/annot_210.json')\n",
      "('/root/data/blender_v3/stereo_images/left_211.png', '/root/data/blender_v3/mask/left_211.npy', '/root/data/blender_v3/depth_map/depth_map_211.npy', '/root/data/blender_v3/annotations/annot_211.json')\n",
      "('/root/data/blender_v3/stereo_images/left_212.png', '/root/data/blender_v3/mask/left_212.npy', '/root/data/blender_v3/depth_map/depth_map_212.npy', '/root/data/blender_v3/annotations/annot_212.json')\n",
      "('/root/data/blender_v3/stereo_images/left_213.png', '/root/data/blender_v3/mask/left_213.npy', '/root/data/blender_v3/depth_map/depth_map_213.npy', '/root/data/blender_v3/annotations/annot_213.json')\n",
      "('/root/data/blender_v3/stereo_images/left_214.png', '/root/data/blender_v3/mask/left_214.npy', '/root/data/blender_v3/depth_map/depth_map_214.npy', '/root/data/blender_v3/annotations/annot_214.json')\n",
      "('/root/data/blender_v3/stereo_images/left_215.png', '/root/data/blender_v3/mask/left_215.npy', '/root/data/blender_v3/depth_map/depth_map_215.npy', '/root/data/blender_v3/annotations/annot_215.json')\n",
      "('/root/data/blender_v3/stereo_images/left_216.png', '/root/data/blender_v3/mask/left_216.npy', '/root/data/blender_v3/depth_map/depth_map_216.npy', '/root/data/blender_v3/annotations/annot_216.json')\n",
      "('/root/data/blender_v3/stereo_images/left_217.png', '/root/data/blender_v3/mask/left_217.npy', '/root/data/blender_v3/depth_map/depth_map_217.npy', '/root/data/blender_v3/annotations/annot_217.json')\n",
      "('/root/data/blender_v3/stereo_images/left_218.png', '/root/data/blender_v3/mask/left_218.npy', '/root/data/blender_v3/depth_map/depth_map_218.npy', '/root/data/blender_v3/annotations/annot_218.json')\n",
      "('/root/data/blender_v3/stereo_images/left_219.png', '/root/data/blender_v3/mask/left_219.npy', '/root/data/blender_v3/depth_map/depth_map_219.npy', '/root/data/blender_v3/annotations/annot_219.json')\n",
      "('/root/data/blender_v3/stereo_images/left_220.png', '/root/data/blender_v3/mask/left_220.npy', '/root/data/blender_v3/depth_map/depth_map_220.npy', '/root/data/blender_v3/annotations/annot_220.json')\n",
      "('/root/data/blender_v3/stereo_images/left_221.png', '/root/data/blender_v3/mask/left_221.npy', '/root/data/blender_v3/depth_map/depth_map_221.npy', '/root/data/blender_v3/annotations/annot_221.json')\n",
      "('/root/data/blender_v3/stereo_images/left_222.png', '/root/data/blender_v3/mask/left_222.npy', '/root/data/blender_v3/depth_map/depth_map_222.npy', '/root/data/blender_v3/annotations/annot_222.json')\n",
      "('/root/data/blender_v3/stereo_images/left_223.png', '/root/data/blender_v3/mask/left_223.npy', '/root/data/blender_v3/depth_map/depth_map_223.npy', '/root/data/blender_v3/annotations/annot_223.json')\n",
      "('/root/data/blender_v3/stereo_images/left_224.png', '/root/data/blender_v3/mask/left_224.npy', '/root/data/blender_v3/depth_map/depth_map_224.npy', '/root/data/blender_v3/annotations/annot_224.json')\n",
      "('/root/data/blender_v3/stereo_images/left_225.png', '/root/data/blender_v3/mask/left_225.npy', '/root/data/blender_v3/depth_map/depth_map_225.npy', '/root/data/blender_v3/annotations/annot_225.json')\n",
      "('/root/data/blender_v3/stereo_images/left_226.png', '/root/data/blender_v3/mask/left_226.npy', '/root/data/blender_v3/depth_map/depth_map_226.npy', '/root/data/blender_v3/annotations/annot_226.json')\n",
      " 9/20 [============>.................] - ETA: 38s - loss: 2592.3706 - acc: 0.0000e+00('/root/data/blender_v3/stereo_images/left_227.png', '/root/data/blender_v3/mask/left_227.npy', '/root/data/blender_v3/depth_map/depth_map_227.npy', '/root/data/blender_v3/annotations/annot_227.json')\n",
      "('/root/data/blender_v3/stereo_images/left_228.png', '/root/data/blender_v3/mask/left_228.npy', '/root/data/blender_v3/depth_map/depth_map_228.npy', '/root/data/blender_v3/annotations/annot_228.json')\n",
      "('/root/data/blender_v3/stereo_images/left_229.png', '/root/data/blender_v3/mask/left_229.npy', '/root/data/blender_v3/depth_map/depth_map_229.npy', '/root/data/blender_v3/annotations/annot_229.json')\n",
      "('/root/data/blender_v3/stereo_images/left_230.png', '/root/data/blender_v3/mask/left_230.npy', '/root/data/blender_v3/depth_map/depth_map_230.npy', '/root/data/blender_v3/annotations/annot_230.json')\n",
      "('/root/data/blender_v3/stereo_images/left_231.png', '/root/data/blender_v3/mask/left_231.npy', '/root/data/blender_v3/depth_map/depth_map_231.npy', '/root/data/blender_v3/annotations/annot_231.json')\n",
      "('/root/data/blender_v3/stereo_images/left_232.png', '/root/data/blender_v3/mask/left_232.npy', '/root/data/blender_v3/depth_map/depth_map_232.npy', '/root/data/blender_v3/annotations/annot_232.json')\n",
      "('/root/data/blender_v3/stereo_images/left_233.png', '/root/data/blender_v3/mask/left_233.npy', '/root/data/blender_v3/depth_map/depth_map_233.npy', '/root/data/blender_v3/annotations/annot_233.json')\n",
      "('/root/data/blender_v3/stereo_images/left_234.png', '/root/data/blender_v3/mask/left_234.npy', '/root/data/blender_v3/depth_map/depth_map_234.npy', '/root/data/blender_v3/annotations/annot_234.json')\n",
      "('/root/data/blender_v3/stereo_images/left_235.png', '/root/data/blender_v3/mask/left_235.npy', '/root/data/blender_v3/depth_map/depth_map_235.npy', '/root/data/blender_v3/annotations/annot_235.json')\n",
      "('/root/data/blender_v3/stereo_images/left_236.png', '/root/data/blender_v3/mask/left_236.npy', '/root/data/blender_v3/depth_map/depth_map_236.npy', '/root/data/blender_v3/annotations/annot_236.json')\n",
      "('/root/data/blender_v3/stereo_images/left_237.png', '/root/data/blender_v3/mask/left_237.npy', '/root/data/blender_v3/depth_map/depth_map_237.npy', '/root/data/blender_v3/annotations/annot_237.json')\n",
      "('/root/data/blender_v3/stereo_images/left_238.png', '/root/data/blender_v3/mask/left_238.npy', '/root/data/blender_v3/depth_map/depth_map_238.npy', '/root/data/blender_v3/annotations/annot_238.json')\n",
      "('/root/data/blender_v3/stereo_images/left_239.png', '/root/data/blender_v3/mask/left_239.npy', '/root/data/blender_v3/depth_map/depth_map_239.npy', '/root/data/blender_v3/annotations/annot_239.json')\n",
      "('/root/data/blender_v3/stereo_images/left_240.png', '/root/data/blender_v3/mask/left_240.npy', '/root/data/blender_v3/depth_map/depth_map_240.npy', '/root/data/blender_v3/annotations/annot_240.json')\n",
      "('/root/data/blender_v3/stereo_images/left_241.png', '/root/data/blender_v3/mask/left_241.npy', '/root/data/blender_v3/depth_map/depth_map_241.npy', '/root/data/blender_v3/annotations/annot_241.json')\n",
      "('/root/data/blender_v3/stereo_images/left_242.png', '/root/data/blender_v3/mask/left_242.npy', '/root/data/blender_v3/depth_map/depth_map_242.npy', '/root/data/blender_v3/annotations/annot_242.json')\n",
      "('/root/data/blender_v3/stereo_images/left_243.png', '/root/data/blender_v3/mask/left_243.npy', '/root/data/blender_v3/depth_map/depth_map_243.npy', '/root/data/blender_v3/annotations/annot_243.json')\n"
     ]
    },
    {
     "name": "stdout",
     "output_type": "stream",
     "text": [
      "('/root/data/blender_v3/stereo_images/left_244.png', '/root/data/blender_v3/mask/left_244.npy', '/root/data/blender_v3/depth_map/depth_map_244.npy', '/root/data/blender_v3/annotations/annot_244.json')\n",
      "('/root/data/blender_v3/stereo_images/left_245.png', '/root/data/blender_v3/mask/left_245.npy', '/root/data/blender_v3/depth_map/depth_map_245.npy', '/root/data/blender_v3/annotations/annot_245.json')\n",
      "('/root/data/blender_v3/stereo_images/left_246.png', '/root/data/blender_v3/mask/left_246.npy', '/root/data/blender_v3/depth_map/depth_map_246.npy', '/root/data/blender_v3/annotations/annot_246.json')\n",
      "('/root/data/blender_v3/stereo_images/left_247.png', '/root/data/blender_v3/mask/left_247.npy', '/root/data/blender_v3/depth_map/depth_map_247.npy', '/root/data/blender_v3/annotations/annot_247.json')\n",
      "('/root/data/blender_v3/stereo_images/left_248.png', '/root/data/blender_v3/mask/left_248.npy', '/root/data/blender_v3/depth_map/depth_map_248.npy', '/root/data/blender_v3/annotations/annot_248.json')\n",
      "('/root/data/blender_v3/stereo_images/left_249.png', '/root/data/blender_v3/mask/left_249.npy', '/root/data/blender_v3/depth_map/depth_map_249.npy', '/root/data/blender_v3/annotations/annot_249.json')\n",
      "('/root/data/blender_v3/stereo_images/left_250.png', '/root/data/blender_v3/mask/left_250.npy', '/root/data/blender_v3/depth_map/depth_map_250.npy', '/root/data/blender_v3/annotations/annot_250.json')\n",
      "('/root/data/blender_v3/stereo_images/left_251.png', '/root/data/blender_v3/mask/left_251.npy', '/root/data/blender_v3/depth_map/depth_map_251.npy', '/root/data/blender_v3/annotations/annot_251.json')\n",
      "10/20 [==============>...............] - ETA: 34s - loss: 2491.9474 - acc: 0.0000e+00('/root/data/blender_v3/stereo_images/left_252.png', '/root/data/blender_v3/mask/left_252.npy', '/root/data/blender_v3/depth_map/depth_map_252.npy', '/root/data/blender_v3/annotations/annot_252.json')\n",
      "('/root/data/blender_v3/stereo_images/left_253.png', '/root/data/blender_v3/mask/left_253.npy', '/root/data/blender_v3/depth_map/depth_map_253.npy', '/root/data/blender_v3/annotations/annot_253.json')\n",
      "('/root/data/blender_v3/stereo_images/left_254.png', '/root/data/blender_v3/mask/left_254.npy', '/root/data/blender_v3/depth_map/depth_map_254.npy', '/root/data/blender_v3/annotations/annot_254.json')\n",
      "('/root/data/blender_v3/stereo_images/left_255.png', '/root/data/blender_v3/mask/left_255.npy', '/root/data/blender_v3/depth_map/depth_map_255.npy', '/root/data/blender_v3/annotations/annot_255.json')\n",
      "('/root/data/blender_v3/stereo_images/left_256.png', '/root/data/blender_v3/mask/left_256.npy', '/root/data/blender_v3/depth_map/depth_map_256.npy', '/root/data/blender_v3/annotations/annot_256.json')\n",
      "('/root/data/blender_v3/stereo_images/left_257.png', '/root/data/blender_v3/mask/left_257.npy', '/root/data/blender_v3/depth_map/depth_map_257.npy', '/root/data/blender_v3/annotations/annot_257.json')\n",
      "('/root/data/blender_v3/stereo_images/left_258.png', '/root/data/blender_v3/mask/left_258.npy', '/root/data/blender_v3/depth_map/depth_map_258.npy', '/root/data/blender_v3/annotations/annot_258.json')\n",
      "('/root/data/blender_v3/stereo_images/left_259.png', '/root/data/blender_v3/mask/left_259.npy', '/root/data/blender_v3/depth_map/depth_map_259.npy', '/root/data/blender_v3/annotations/annot_259.json')\n",
      "('/root/data/blender_v3/stereo_images/left_260.png', '/root/data/blender_v3/mask/left_260.npy', '/root/data/blender_v3/depth_map/depth_map_260.npy', '/root/data/blender_v3/annotations/annot_260.json')\n",
      "('/root/data/blender_v3/stereo_images/left_261.png', '/root/data/blender_v3/mask/left_261.npy', '/root/data/blender_v3/depth_map/depth_map_261.npy', '/root/data/blender_v3/annotations/annot_261.json')\n",
      "('/root/data/blender_v3/stereo_images/left_262.png', '/root/data/blender_v3/mask/left_262.npy', '/root/data/blender_v3/depth_map/depth_map_262.npy', '/root/data/blender_v3/annotations/annot_262.json')\n",
      "('/root/data/blender_v3/stereo_images/left_263.png', '/root/data/blender_v3/mask/left_263.npy', '/root/data/blender_v3/depth_map/depth_map_263.npy', '/root/data/blender_v3/annotations/annot_263.json')\n",
      "('/root/data/blender_v3/stereo_images/left_264.png', '/root/data/blender_v3/mask/left_264.npy', '/root/data/blender_v3/depth_map/depth_map_264.npy', '/root/data/blender_v3/annotations/annot_264.json')\n",
      "('/root/data/blender_v3/stereo_images/left_265.png', '/root/data/blender_v3/mask/left_265.npy', '/root/data/blender_v3/depth_map/depth_map_265.npy', '/root/data/blender_v3/annotations/annot_265.json')\n",
      "('/root/data/blender_v3/stereo_images/left_266.png', '/root/data/blender_v3/mask/left_266.npy', '/root/data/blender_v3/depth_map/depth_map_266.npy', '/root/data/blender_v3/annotations/annot_266.json')\n",
      "('/root/data/blender_v3/stereo_images/left_267.png', '/root/data/blender_v3/mask/left_267.npy', '/root/data/blender_v3/depth_map/depth_map_267.npy', '/root/data/blender_v3/annotations/annot_267.json')\n",
      "('/root/data/blender_v3/stereo_images/left_268.png', '/root/data/blender_v3/mask/left_268.npy', '/root/data/blender_v3/depth_map/depth_map_268.npy', '/root/data/blender_v3/annotations/annot_268.json')\n",
      "('/root/data/blender_v3/stereo_images/left_269.png', '/root/data/blender_v3/mask/left_269.npy', '/root/data/blender_v3/depth_map/depth_map_269.npy', '/root/data/blender_v3/annotations/annot_269.json')\n",
      "('/root/data/blender_v3/stereo_images/left_270.png', '/root/data/blender_v3/mask/left_270.npy', '/root/data/blender_v3/depth_map/depth_map_270.npy', '/root/data/blender_v3/annotations/annot_270.json')\n",
      "('/root/data/blender_v3/stereo_images/left_271.png', '/root/data/blender_v3/mask/left_271.npy', '/root/data/blender_v3/depth_map/depth_map_271.npy', '/root/data/blender_v3/annotations/annot_271.json')\n",
      "('/root/data/blender_v3/stereo_images/left_272.png', '/root/data/blender_v3/mask/left_272.npy', '/root/data/blender_v3/depth_map/depth_map_272.npy', '/root/data/blender_v3/annotations/annot_272.json')\n",
      "('/root/data/blender_v3/stereo_images/left_273.png', '/root/data/blender_v3/mask/left_273.npy', '/root/data/blender_v3/depth_map/depth_map_273.npy', '/root/data/blender_v3/annotations/annot_273.json')\n",
      "('/root/data/blender_v3/stereo_images/left_274.png', '/root/data/blender_v3/mask/left_274.npy', '/root/data/blender_v3/depth_map/depth_map_274.npy', '/root/data/blender_v3/annotations/annot_274.json')\n",
      "('/root/data/blender_v3/stereo_images/left_275.png', '/root/data/blender_v3/mask/left_275.npy', '/root/data/blender_v3/depth_map/depth_map_275.npy', '/root/data/blender_v3/annotations/annot_275.json')\n",
      "('/root/data/blender_v3/stereo_images/left_276.png', '/root/data/blender_v3/mask/left_276.npy', '/root/data/blender_v3/depth_map/depth_map_276.npy', '/root/data/blender_v3/annotations/annot_276.json')\n",
      "11/20 [===============>..............] - ETA: 31s - loss: 2358.6017 - acc: 0.0000e+00('/root/data/blender_v3/stereo_images/left_277.png', '/root/data/blender_v3/mask/left_277.npy', '/root/data/blender_v3/depth_map/depth_map_277.npy', '/root/data/blender_v3/annotations/annot_277.json')\n",
      "('/root/data/blender_v3/stereo_images/left_278.png', '/root/data/blender_v3/mask/left_278.npy', '/root/data/blender_v3/depth_map/depth_map_278.npy', '/root/data/blender_v3/annotations/annot_278.json')\n",
      "('/root/data/blender_v3/stereo_images/left_279.png', '/root/data/blender_v3/mask/left_279.npy', '/root/data/blender_v3/depth_map/depth_map_279.npy', '/root/data/blender_v3/annotations/annot_279.json')\n",
      "('/root/data/blender_v3/stereo_images/left_280.png', '/root/data/blender_v3/mask/left_280.npy', '/root/data/blender_v3/depth_map/depth_map_280.npy', '/root/data/blender_v3/annotations/annot_280.json')\n",
      "('/root/data/blender_v3/stereo_images/left_281.png', '/root/data/blender_v3/mask/left_281.npy', '/root/data/blender_v3/depth_map/depth_map_281.npy', '/root/data/blender_v3/annotations/annot_281.json')\n",
      "('/root/data/blender_v3/stereo_images/left_282.png', '/root/data/blender_v3/mask/left_282.npy', '/root/data/blender_v3/depth_map/depth_map_282.npy', '/root/data/blender_v3/annotations/annot_282.json')\n",
      "('/root/data/blender_v3/stereo_images/left_283.png', '/root/data/blender_v3/mask/left_283.npy', '/root/data/blender_v3/depth_map/depth_map_283.npy', '/root/data/blender_v3/annotations/annot_283.json')\n"
     ]
    },
    {
     "name": "stdout",
     "output_type": "stream",
     "text": [
      "('/root/data/blender_v3/stereo_images/left_284.png', '/root/data/blender_v3/mask/left_284.npy', '/root/data/blender_v3/depth_map/depth_map_284.npy', '/root/data/blender_v3/annotations/annot_284.json')\n",
      "('/root/data/blender_v3/stereo_images/left_285.png', '/root/data/blender_v3/mask/left_285.npy', '/root/data/blender_v3/depth_map/depth_map_285.npy', '/root/data/blender_v3/annotations/annot_285.json')\n",
      "('/root/data/blender_v3/stereo_images/left_286.png', '/root/data/blender_v3/mask/left_286.npy', '/root/data/blender_v3/depth_map/depth_map_286.npy', '/root/data/blender_v3/annotations/annot_286.json')\n",
      "('/root/data/blender_v3/stereo_images/left_287.png', '/root/data/blender_v3/mask/left_287.npy', '/root/data/blender_v3/depth_map/depth_map_287.npy', '/root/data/blender_v3/annotations/annot_287.json')\n",
      "('/root/data/blender_v3/stereo_images/left_288.png', '/root/data/blender_v3/mask/left_288.npy', '/root/data/blender_v3/depth_map/depth_map_288.npy', '/root/data/blender_v3/annotations/annot_288.json')\n",
      "('/root/data/blender_v3/stereo_images/left_289.png', '/root/data/blender_v3/mask/left_289.npy', '/root/data/blender_v3/depth_map/depth_map_289.npy', '/root/data/blender_v3/annotations/annot_289.json')\n",
      "('/root/data/blender_v3/stereo_images/left_290.png', '/root/data/blender_v3/mask/left_290.npy', '/root/data/blender_v3/depth_map/depth_map_290.npy', '/root/data/blender_v3/annotations/annot_290.json')\n",
      "('/root/data/blender_v3/stereo_images/left_291.png', '/root/data/blender_v3/mask/left_291.npy', '/root/data/blender_v3/depth_map/depth_map_291.npy', '/root/data/blender_v3/annotations/annot_291.json')\n",
      "('/root/data/blender_v3/stereo_images/left_292.png', '/root/data/blender_v3/mask/left_292.npy', '/root/data/blender_v3/depth_map/depth_map_292.npy', '/root/data/blender_v3/annotations/annot_292.json')\n",
      "('/root/data/blender_v3/stereo_images/left_293.png', '/root/data/blender_v3/mask/left_293.npy', '/root/data/blender_v3/depth_map/depth_map_293.npy', '/root/data/blender_v3/annotations/annot_293.json')\n",
      "('/root/data/blender_v3/stereo_images/left_294.png', '/root/data/blender_v3/mask/left_294.npy', '/root/data/blender_v3/depth_map/depth_map_294.npy', '/root/data/blender_v3/annotations/annot_294.json')\n",
      "('/root/data/blender_v3/stereo_images/left_295.png', '/root/data/blender_v3/mask/left_295.npy', '/root/data/blender_v3/depth_map/depth_map_295.npy', '/root/data/blender_v3/annotations/annot_295.json')\n",
      "('/root/data/blender_v3/stereo_images/left_296.png', '/root/data/blender_v3/mask/left_296.npy', '/root/data/blender_v3/depth_map/depth_map_296.npy', '/root/data/blender_v3/annotations/annot_296.json')\n",
      "('/root/data/blender_v3/stereo_images/left_297.png', '/root/data/blender_v3/mask/left_297.npy', '/root/data/blender_v3/depth_map/depth_map_297.npy', '/root/data/blender_v3/annotations/annot_297.json')\n",
      "('/root/data/blender_v3/stereo_images/left_298.png', '/root/data/blender_v3/mask/left_298.npy', '/root/data/blender_v3/depth_map/depth_map_298.npy', '/root/data/blender_v3/annotations/annot_298.json')\n",
      "('/root/data/blender_v3/stereo_images/left_299.png', '/root/data/blender_v3/mask/left_299.npy', '/root/data/blender_v3/depth_map/depth_map_299.npy', '/root/data/blender_v3/annotations/annot_299.json')\n",
      "('/root/data/blender_v3/stereo_images/left_300.png', '/root/data/blender_v3/mask/left_300.npy', '/root/data/blender_v3/depth_map/depth_map_300.npy', '/root/data/blender_v3/annotations/annot_300.json')\n",
      "('/root/data/blender_v3/stereo_images/left_301.png', '/root/data/blender_v3/mask/left_301.npy', '/root/data/blender_v3/depth_map/depth_map_301.npy', '/root/data/blender_v3/annotations/annot_301.json')\n",
      "12/20 [=================>............] - ETA: 27s - loss: 2289.2707 - acc: 0.0000e+00('/root/data/blender_v3/stereo_images/left_302.png', '/root/data/blender_v3/mask/left_302.npy', '/root/data/blender_v3/depth_map/depth_map_302.npy', '/root/data/blender_v3/annotations/annot_302.json')\n",
      "('/root/data/blender_v3/stereo_images/left_303.png', '/root/data/blender_v3/mask/left_303.npy', '/root/data/blender_v3/depth_map/depth_map_303.npy', '/root/data/blender_v3/annotations/annot_303.json')\n",
      "('/root/data/blender_v3/stereo_images/left_304.png', '/root/data/blender_v3/mask/left_304.npy', '/root/data/blender_v3/depth_map/depth_map_304.npy', '/root/data/blender_v3/annotations/annot_304.json')\n",
      "('/root/data/blender_v3/stereo_images/left_305.png', '/root/data/blender_v3/mask/left_305.npy', '/root/data/blender_v3/depth_map/depth_map_305.npy', '/root/data/blender_v3/annotations/annot_305.json')\n",
      "('/root/data/blender_v3/stereo_images/left_306.png', '/root/data/blender_v3/mask/left_306.npy', '/root/data/blender_v3/depth_map/depth_map_306.npy', '/root/data/blender_v3/annotations/annot_306.json')\n",
      "('/root/data/blender_v3/stereo_images/left_307.png', '/root/data/blender_v3/mask/left_307.npy', '/root/data/blender_v3/depth_map/depth_map_307.npy', '/root/data/blender_v3/annotations/annot_307.json')\n",
      "('/root/data/blender_v3/stereo_images/left_308.png', '/root/data/blender_v3/mask/left_308.npy', '/root/data/blender_v3/depth_map/depth_map_308.npy', '/root/data/blender_v3/annotations/annot_308.json')\n",
      "('/root/data/blender_v3/stereo_images/left_309.png', '/root/data/blender_v3/mask/left_309.npy', '/root/data/blender_v3/depth_map/depth_map_309.npy', '/root/data/blender_v3/annotations/annot_309.json')\n",
      "('/root/data/blender_v3/stereo_images/left_310.png', '/root/data/blender_v3/mask/left_310.npy', '/root/data/blender_v3/depth_map/depth_map_310.npy', '/root/data/blender_v3/annotations/annot_310.json')\n",
      "('/root/data/blender_v3/stereo_images/left_311.png', '/root/data/blender_v3/mask/left_311.npy', '/root/data/blender_v3/depth_map/depth_map_311.npy', '/root/data/blender_v3/annotations/annot_311.json')\n",
      "('/root/data/blender_v3/stereo_images/left_312.png', '/root/data/blender_v3/mask/left_312.npy', '/root/data/blender_v3/depth_map/depth_map_312.npy', '/root/data/blender_v3/annotations/annot_312.json')\n",
      "('/root/data/blender_v3/stereo_images/left_313.png', '/root/data/blender_v3/mask/left_313.npy', '/root/data/blender_v3/depth_map/depth_map_313.npy', '/root/data/blender_v3/annotations/annot_313.json')\n",
      "('/root/data/blender_v3/stereo_images/left_314.png', '/root/data/blender_v3/mask/left_314.npy', '/root/data/blender_v3/depth_map/depth_map_314.npy', '/root/data/blender_v3/annotations/annot_314.json')\n",
      "('/root/data/blender_v3/stereo_images/left_315.png', '/root/data/blender_v3/mask/left_315.npy', '/root/data/blender_v3/depth_map/depth_map_315.npy', '/root/data/blender_v3/annotations/annot_315.json')\n",
      "('/root/data/blender_v3/stereo_images/left_316.png', '/root/data/blender_v3/mask/left_316.npy', '/root/data/blender_v3/depth_map/depth_map_316.npy', '/root/data/blender_v3/annotations/annot_316.json')\n",
      "('/root/data/blender_v3/stereo_images/left_317.png', '/root/data/blender_v3/mask/left_317.npy', '/root/data/blender_v3/depth_map/depth_map_317.npy', '/root/data/blender_v3/annotations/annot_317.json')\n",
      "('/root/data/blender_v3/stereo_images/left_318.png', '/root/data/blender_v3/mask/left_318.npy', '/root/data/blender_v3/depth_map/depth_map_318.npy', '/root/data/blender_v3/annotations/annot_318.json')\n",
      "('/root/data/blender_v3/stereo_images/left_319.png', '/root/data/blender_v3/mask/left_319.npy', '/root/data/blender_v3/depth_map/depth_map_319.npy', '/root/data/blender_v3/annotations/annot_319.json')\n",
      "('/root/data/blender_v3/stereo_images/left_320.png', '/root/data/blender_v3/mask/left_320.npy', '/root/data/blender_v3/depth_map/depth_map_320.npy', '/root/data/blender_v3/annotations/annot_320.json')\n",
      "('/root/data/blender_v3/stereo_images/left_321.png', '/root/data/blender_v3/mask/left_321.npy', '/root/data/blender_v3/depth_map/depth_map_321.npy', '/root/data/blender_v3/annotations/annot_321.json')\n",
      "('/root/data/blender_v3/stereo_images/left_322.png', '/root/data/blender_v3/mask/left_322.npy', '/root/data/blender_v3/depth_map/depth_map_322.npy', '/root/data/blender_v3/annotations/annot_322.json')\n",
      "('/root/data/blender_v3/stereo_images/left_323.png', '/root/data/blender_v3/mask/left_323.npy', '/root/data/blender_v3/depth_map/depth_map_323.npy', '/root/data/blender_v3/annotations/annot_323.json')\n",
      "('/root/data/blender_v3/stereo_images/left_324.png', '/root/data/blender_v3/mask/left_324.npy', '/root/data/blender_v3/depth_map/depth_map_324.npy', '/root/data/blender_v3/annotations/annot_324.json')\n"
     ]
    },
    {
     "name": "stdout",
     "output_type": "stream",
     "text": [
      "('/root/data/blender_v3/stereo_images/left_325.png', '/root/data/blender_v3/mask/left_325.npy', '/root/data/blender_v3/depth_map/depth_map_325.npy', '/root/data/blender_v3/annotations/annot_325.json')\n",
      "('/root/data/blender_v3/stereo_images/left_326.png', '/root/data/blender_v3/mask/left_326.npy', '/root/data/blender_v3/depth_map/depth_map_326.npy', '/root/data/blender_v3/annotations/annot_326.json')\n",
      "13/20 [==================>...........] - ETA: 24s - loss: 2210.8061 - acc: 0.0000e+00('/root/data/blender_v3/stereo_images/left_327.png', '/root/data/blender_v3/mask/left_327.npy', '/root/data/blender_v3/depth_map/depth_map_327.npy', '/root/data/blender_v3/annotations/annot_327.json')\n",
      "('/root/data/blender_v3/stereo_images/left_328.png', '/root/data/blender_v3/mask/left_328.npy', '/root/data/blender_v3/depth_map/depth_map_328.npy', '/root/data/blender_v3/annotations/annot_328.json')\n",
      "('/root/data/blender_v3/stereo_images/left_329.png', '/root/data/blender_v3/mask/left_329.npy', '/root/data/blender_v3/depth_map/depth_map_329.npy', '/root/data/blender_v3/annotations/annot_329.json')\n",
      "('/root/data/blender_v3/stereo_images/left_330.png', '/root/data/blender_v3/mask/left_330.npy', '/root/data/blender_v3/depth_map/depth_map_330.npy', '/root/data/blender_v3/annotations/annot_330.json')\n",
      "('/root/data/blender_v3/stereo_images/left_331.png', '/root/data/blender_v3/mask/left_331.npy', '/root/data/blender_v3/depth_map/depth_map_331.npy', '/root/data/blender_v3/annotations/annot_331.json')\n",
      "('/root/data/blender_v3/stereo_images/left_332.png', '/root/data/blender_v3/mask/left_332.npy', '/root/data/blender_v3/depth_map/depth_map_332.npy', '/root/data/blender_v3/annotations/annot_332.json')\n",
      "('/root/data/blender_v3/stereo_images/left_333.png', '/root/data/blender_v3/mask/left_333.npy', '/root/data/blender_v3/depth_map/depth_map_333.npy', '/root/data/blender_v3/annotations/annot_333.json')\n",
      "('/root/data/blender_v3/stereo_images/left_334.png', '/root/data/blender_v3/mask/left_334.npy', '/root/data/blender_v3/depth_map/depth_map_334.npy', '/root/data/blender_v3/annotations/annot_334.json')\n",
      "('/root/data/blender_v3/stereo_images/left_335.png', '/root/data/blender_v3/mask/left_335.npy', '/root/data/blender_v3/depth_map/depth_map_335.npy', '/root/data/blender_v3/annotations/annot_335.json')\n",
      "('/root/data/blender_v3/stereo_images/left_336.png', '/root/data/blender_v3/mask/left_336.npy', '/root/data/blender_v3/depth_map/depth_map_336.npy', '/root/data/blender_v3/annotations/annot_336.json')\n",
      "('/root/data/blender_v3/stereo_images/left_337.png', '/root/data/blender_v3/mask/left_337.npy', '/root/data/blender_v3/depth_map/depth_map_337.npy', '/root/data/blender_v3/annotations/annot_337.json')\n",
      "('/root/data/blender_v3/stereo_images/left_338.png', '/root/data/blender_v3/mask/left_338.npy', '/root/data/blender_v3/depth_map/depth_map_338.npy', '/root/data/blender_v3/annotations/annot_338.json')\n",
      "('/root/data/blender_v3/stereo_images/left_339.png', '/root/data/blender_v3/mask/left_339.npy', '/root/data/blender_v3/depth_map/depth_map_339.npy', '/root/data/blender_v3/annotations/annot_339.json')\n",
      "('/root/data/blender_v3/stereo_images/left_340.png', '/root/data/blender_v3/mask/left_340.npy', '/root/data/blender_v3/depth_map/depth_map_340.npy', '/root/data/blender_v3/annotations/annot_340.json')\n",
      "('/root/data/blender_v3/stereo_images/left_341.png', '/root/data/blender_v3/mask/left_341.npy', '/root/data/blender_v3/depth_map/depth_map_341.npy', '/root/data/blender_v3/annotations/annot_341.json')\n",
      "('/root/data/blender_v3/stereo_images/left_342.png', '/root/data/blender_v3/mask/left_342.npy', '/root/data/blender_v3/depth_map/depth_map_342.npy', '/root/data/blender_v3/annotations/annot_342.json')\n",
      "('/root/data/blender_v3/stereo_images/left_343.png', '/root/data/blender_v3/mask/left_343.npy', '/root/data/blender_v3/depth_map/depth_map_343.npy', '/root/data/blender_v3/annotations/annot_343.json')\n",
      "('/root/data/blender_v3/stereo_images/left_344.png', '/root/data/blender_v3/mask/left_344.npy', '/root/data/blender_v3/depth_map/depth_map_344.npy', '/root/data/blender_v3/annotations/annot_344.json')\n",
      "('/root/data/blender_v3/stereo_images/left_345.png', '/root/data/blender_v3/mask/left_345.npy', '/root/data/blender_v3/depth_map/depth_map_345.npy', '/root/data/blender_v3/annotations/annot_345.json')\n",
      "('/root/data/blender_v3/stereo_images/left_346.png', '/root/data/blender_v3/mask/left_346.npy', '/root/data/blender_v3/depth_map/depth_map_346.npy', '/root/data/blender_v3/annotations/annot_346.json')\n",
      "('/root/data/blender_v3/stereo_images/left_347.png', '/root/data/blender_v3/mask/left_347.npy', '/root/data/blender_v3/depth_map/depth_map_347.npy', '/root/data/blender_v3/annotations/annot_347.json')\n",
      "('/root/data/blender_v3/stereo_images/left_348.png', '/root/data/blender_v3/mask/left_348.npy', '/root/data/blender_v3/depth_map/depth_map_348.npy', '/root/data/blender_v3/annotations/annot_348.json')\n",
      "('/root/data/blender_v3/stereo_images/left_349.png', '/root/data/blender_v3/mask/left_349.npy', '/root/data/blender_v3/depth_map/depth_map_349.npy', '/root/data/blender_v3/annotations/annot_349.json')\n",
      "('/root/data/blender_v3/stereo_images/left_350.png', '/root/data/blender_v3/mask/left_350.npy', '/root/data/blender_v3/depth_map/depth_map_350.npy', '/root/data/blender_v3/annotations/annot_350.json')\n",
      "('/root/data/blender_v3/stereo_images/left_351.png', '/root/data/blender_v3/mask/left_351.npy', '/root/data/blender_v3/depth_map/depth_map_351.npy', '/root/data/blender_v3/annotations/annot_351.json')\n",
      "14/20 [====================>.........] - ETA: 20s - loss: 2169.5181 - acc: 0.0000e+00('/root/data/blender_v3/stereo_images/left_352.png', '/root/data/blender_v3/mask/left_352.npy', '/root/data/blender_v3/depth_map/depth_map_352.npy', '/root/data/blender_v3/annotations/annot_352.json')\n",
      "('/root/data/blender_v3/stereo_images/left_353.png', '/root/data/blender_v3/mask/left_353.npy', '/root/data/blender_v3/depth_map/depth_map_353.npy', '/root/data/blender_v3/annotations/annot_353.json')\n",
      "('/root/data/blender_v3/stereo_images/left_354.png', '/root/data/blender_v3/mask/left_354.npy', '/root/data/blender_v3/depth_map/depth_map_354.npy', '/root/data/blender_v3/annotations/annot_354.json')\n",
      "('/root/data/blender_v3/stereo_images/left_355.png', '/root/data/blender_v3/mask/left_355.npy', '/root/data/blender_v3/depth_map/depth_map_355.npy', '/root/data/blender_v3/annotations/annot_355.json')\n",
      "('/root/data/blender_v3/stereo_images/left_356.png', '/root/data/blender_v3/mask/left_356.npy', '/root/data/blender_v3/depth_map/depth_map_356.npy', '/root/data/blender_v3/annotations/annot_356.json')\n",
      "('/root/data/blender_v3/stereo_images/left_357.png', '/root/data/blender_v3/mask/left_357.npy', '/root/data/blender_v3/depth_map/depth_map_357.npy', '/root/data/blender_v3/annotations/annot_357.json')\n",
      "('/root/data/blender_v3/stereo_images/left_358.png', '/root/data/blender_v3/mask/left_358.npy', '/root/data/blender_v3/depth_map/depth_map_358.npy', '/root/data/blender_v3/annotations/annot_358.json')\n",
      "('/root/data/blender_v3/stereo_images/left_359.png', '/root/data/blender_v3/mask/left_359.npy', '/root/data/blender_v3/depth_map/depth_map_359.npy', '/root/data/blender_v3/annotations/annot_359.json')\n",
      "('/root/data/blender_v3/stereo_images/left_360.png', '/root/data/blender_v3/mask/left_360.npy', '/root/data/blender_v3/depth_map/depth_map_360.npy', '/root/data/blender_v3/annotations/annot_360.json')\n",
      "('/root/data/blender_v3/stereo_images/left_361.png', '/root/data/blender_v3/mask/left_361.npy', '/root/data/blender_v3/depth_map/depth_map_361.npy', '/root/data/blender_v3/annotations/annot_361.json')\n",
      "('/root/data/blender_v3/stereo_images/left_362.png', '/root/data/blender_v3/mask/left_362.npy', '/root/data/blender_v3/depth_map/depth_map_362.npy', '/root/data/blender_v3/annotations/annot_362.json')\n",
      "('/root/data/blender_v3/stereo_images/left_363.png', '/root/data/blender_v3/mask/left_363.npy', '/root/data/blender_v3/depth_map/depth_map_363.npy', '/root/data/blender_v3/annotations/annot_363.json')\n",
      "('/root/data/blender_v3/stereo_images/left_364.png', '/root/data/blender_v3/mask/left_364.npy', '/root/data/blender_v3/depth_map/depth_map_364.npy', '/root/data/blender_v3/annotations/annot_364.json')\n"
     ]
    },
    {
     "name": "stdout",
     "output_type": "stream",
     "text": [
      "('/root/data/blender_v3/stereo_images/left_365.png', '/root/data/blender_v3/mask/left_365.npy', '/root/data/blender_v3/depth_map/depth_map_365.npy', '/root/data/blender_v3/annotations/annot_365.json')\n",
      "('/root/data/blender_v3/stereo_images/left_366.png', '/root/data/blender_v3/mask/left_366.npy', '/root/data/blender_v3/depth_map/depth_map_366.npy', '/root/data/blender_v3/annotations/annot_366.json')\n",
      "('/root/data/blender_v3/stereo_images/left_367.png', '/root/data/blender_v3/mask/left_367.npy', '/root/data/blender_v3/depth_map/depth_map_367.npy', '/root/data/blender_v3/annotations/annot_367.json')\n",
      "('/root/data/blender_v3/stereo_images/left_368.png', '/root/data/blender_v3/mask/left_368.npy', '/root/data/blender_v3/depth_map/depth_map_368.npy', '/root/data/blender_v3/annotations/annot_368.json')\n",
      "('/root/data/blender_v3/stereo_images/left_369.png', '/root/data/blender_v3/mask/left_369.npy', '/root/data/blender_v3/depth_map/depth_map_369.npy', '/root/data/blender_v3/annotations/annot_369.json')\n",
      "('/root/data/blender_v3/stereo_images/left_370.png', '/root/data/blender_v3/mask/left_370.npy', '/root/data/blender_v3/depth_map/depth_map_370.npy', '/root/data/blender_v3/annotations/annot_370.json')\n",
      "('/root/data/blender_v3/stereo_images/left_371.png', '/root/data/blender_v3/mask/left_371.npy', '/root/data/blender_v3/depth_map/depth_map_371.npy', '/root/data/blender_v3/annotations/annot_371.json')\n",
      "('/root/data/blender_v3/stereo_images/left_372.png', '/root/data/blender_v3/mask/left_372.npy', '/root/data/blender_v3/depth_map/depth_map_372.npy', '/root/data/blender_v3/annotations/annot_372.json')\n",
      "('/root/data/blender_v3/stereo_images/left_373.png', '/root/data/blender_v3/mask/left_373.npy', '/root/data/blender_v3/depth_map/depth_map_373.npy', '/root/data/blender_v3/annotations/annot_373.json')\n",
      "('/root/data/blender_v3/stereo_images/left_374.png', '/root/data/blender_v3/mask/left_374.npy', '/root/data/blender_v3/depth_map/depth_map_374.npy', '/root/data/blender_v3/annotations/annot_374.json')\n",
      "('/root/data/blender_v3/stereo_images/left_375.png', '/root/data/blender_v3/mask/left_375.npy', '/root/data/blender_v3/depth_map/depth_map_375.npy', '/root/data/blender_v3/annotations/annot_375.json')\n",
      "('/root/data/blender_v3/stereo_images/left_376.png', '/root/data/blender_v3/mask/left_376.npy', '/root/data/blender_v3/depth_map/depth_map_376.npy', '/root/data/blender_v3/annotations/annot_376.json')\n",
      "15/20 [=====================>........] - ETA: 17s - loss: 2103.6102 - acc: 0.0000e+00('/root/data/blender_v3/stereo_images/left_377.png', '/root/data/blender_v3/mask/left_377.npy', '/root/data/blender_v3/depth_map/depth_map_377.npy', '/root/data/blender_v3/annotations/annot_377.json')\n",
      "('/root/data/blender_v3/stereo_images/left_378.png', '/root/data/blender_v3/mask/left_378.npy', '/root/data/blender_v3/depth_map/depth_map_378.npy', '/root/data/blender_v3/annotations/annot_378.json')\n",
      "('/root/data/blender_v3/stereo_images/left_379.png', '/root/data/blender_v3/mask/left_379.npy', '/root/data/blender_v3/depth_map/depth_map_379.npy', '/root/data/blender_v3/annotations/annot_379.json')\n",
      "('/root/data/blender_v3/stereo_images/left_380.png', '/root/data/blender_v3/mask/left_380.npy', '/root/data/blender_v3/depth_map/depth_map_380.npy', '/root/data/blender_v3/annotations/annot_380.json')\n",
      "('/root/data/blender_v3/stereo_images/left_381.png', '/root/data/blender_v3/mask/left_381.npy', '/root/data/blender_v3/depth_map/depth_map_381.npy', '/root/data/blender_v3/annotations/annot_381.json')\n",
      "('/root/data/blender_v3/stereo_images/left_382.png', '/root/data/blender_v3/mask/left_382.npy', '/root/data/blender_v3/depth_map/depth_map_382.npy', '/root/data/blender_v3/annotations/annot_382.json')\n",
      "('/root/data/blender_v3/stereo_images/left_383.png', '/root/data/blender_v3/mask/left_383.npy', '/root/data/blender_v3/depth_map/depth_map_383.npy', '/root/data/blender_v3/annotations/annot_383.json')\n",
      "('/root/data/blender_v3/stereo_images/left_384.png', '/root/data/blender_v3/mask/left_384.npy', '/root/data/blender_v3/depth_map/depth_map_384.npy', '/root/data/blender_v3/annotations/annot_384.json')\n",
      "('/root/data/blender_v3/stereo_images/left_385.png', '/root/data/blender_v3/mask/left_385.npy', '/root/data/blender_v3/depth_map/depth_map_385.npy', '/root/data/blender_v3/annotations/annot_385.json')\n",
      "('/root/data/blender_v3/stereo_images/left_386.png', '/root/data/blender_v3/mask/left_386.npy', '/root/data/blender_v3/depth_map/depth_map_386.npy', '/root/data/blender_v3/annotations/annot_386.json')\n",
      "('/root/data/blender_v3/stereo_images/left_387.png', '/root/data/blender_v3/mask/left_387.npy', '/root/data/blender_v3/depth_map/depth_map_387.npy', '/root/data/blender_v3/annotations/annot_387.json')\n",
      "('/root/data/blender_v3/stereo_images/left_388.png', '/root/data/blender_v3/mask/left_388.npy', '/root/data/blender_v3/depth_map/depth_map_388.npy', '/root/data/blender_v3/annotations/annot_388.json')\n",
      "('/root/data/blender_v3/stereo_images/left_389.png', '/root/data/blender_v3/mask/left_389.npy', '/root/data/blender_v3/depth_map/depth_map_389.npy', '/root/data/blender_v3/annotations/annot_389.json')\n",
      "('/root/data/blender_v3/stereo_images/left_390.png', '/root/data/blender_v3/mask/left_390.npy', '/root/data/blender_v3/depth_map/depth_map_390.npy', '/root/data/blender_v3/annotations/annot_390.json')\n",
      "('/root/data/blender_v3/stereo_images/left_391.png', '/root/data/blender_v3/mask/left_391.npy', '/root/data/blender_v3/depth_map/depth_map_391.npy', '/root/data/blender_v3/annotations/annot_391.json')\n",
      "('/root/data/blender_v3/stereo_images/left_392.png', '/root/data/blender_v3/mask/left_392.npy', '/root/data/blender_v3/depth_map/depth_map_392.npy', '/root/data/blender_v3/annotations/annot_392.json')\n",
      "('/root/data/blender_v3/stereo_images/left_393.png', '/root/data/blender_v3/mask/left_393.npy', '/root/data/blender_v3/depth_map/depth_map_393.npy', '/root/data/blender_v3/annotations/annot_393.json')\n",
      "('/root/data/blender_v3/stereo_images/left_394.png', '/root/data/blender_v3/mask/left_394.npy', '/root/data/blender_v3/depth_map/depth_map_394.npy', '/root/data/blender_v3/annotations/annot_394.json')\n",
      "('/root/data/blender_v3/stereo_images/left_395.png', '/root/data/blender_v3/mask/left_395.npy', '/root/data/blender_v3/depth_map/depth_map_395.npy', '/root/data/blender_v3/annotations/annot_395.json')\n",
      "('/root/data/blender_v3/stereo_images/left_396.png', '/root/data/blender_v3/mask/left_396.npy', '/root/data/blender_v3/depth_map/depth_map_396.npy', '/root/data/blender_v3/annotations/annot_396.json')\n",
      "('/root/data/blender_v3/stereo_images/left_397.png', '/root/data/blender_v3/mask/left_397.npy', '/root/data/blender_v3/depth_map/depth_map_397.npy', '/root/data/blender_v3/annotations/annot_397.json')\n",
      "('/root/data/blender_v3/stereo_images/left_398.png', '/root/data/blender_v3/mask/left_398.npy', '/root/data/blender_v3/depth_map/depth_map_398.npy', '/root/data/blender_v3/annotations/annot_398.json')\n",
      "('/root/data/blender_v3/stereo_images/left_399.png', '/root/data/blender_v3/mask/left_399.npy', '/root/data/blender_v3/depth_map/depth_map_399.npy', '/root/data/blender_v3/annotations/annot_399.json')\n",
      "('/root/data/blender_v3/stereo_images/left_400.png', '/root/data/blender_v3/mask/left_400.npy', '/root/data/blender_v3/depth_map/depth_map_400.npy', '/root/data/blender_v3/annotations/annot_400.json')\n",
      "('/root/data/blender_v3/stereo_images/left_401.png', '/root/data/blender_v3/mask/left_401.npy', '/root/data/blender_v3/depth_map/depth_map_401.npy', '/root/data/blender_v3/annotations/annot_401.json')\n",
      "16/20 [=======================>......] - ETA: 13s - loss: 2039.1302 - acc: 0.0000e+00('/root/data/blender_v3/stereo_images/left_402.png', '/root/data/blender_v3/mask/left_402.npy', '/root/data/blender_v3/depth_map/depth_map_402.npy', '/root/data/blender_v3/annotations/annot_402.json')\n",
      "('/root/data/blender_v3/stereo_images/left_403.png', '/root/data/blender_v3/mask/left_403.npy', '/root/data/blender_v3/depth_map/depth_map_403.npy', '/root/data/blender_v3/annotations/annot_403.json')\n",
      "('/root/data/blender_v3/stereo_images/left_404.png', '/root/data/blender_v3/mask/left_404.npy', '/root/data/blender_v3/depth_map/depth_map_404.npy', '/root/data/blender_v3/annotations/annot_404.json')\n"
     ]
    },
    {
     "name": "stdout",
     "output_type": "stream",
     "text": [
      "('/root/data/blender_v3/stereo_images/left_405.png', '/root/data/blender_v3/mask/left_405.npy', '/root/data/blender_v3/depth_map/depth_map_405.npy', '/root/data/blender_v3/annotations/annot_405.json')\n",
      "('/root/data/blender_v3/stereo_images/left_406.png', '/root/data/blender_v3/mask/left_406.npy', '/root/data/blender_v3/depth_map/depth_map_406.npy', '/root/data/blender_v3/annotations/annot_406.json')\n",
      "('/root/data/blender_v3/stereo_images/left_407.png', '/root/data/blender_v3/mask/left_407.npy', '/root/data/blender_v3/depth_map/depth_map_407.npy', '/root/data/blender_v3/annotations/annot_407.json')\n",
      "('/root/data/blender_v3/stereo_images/left_408.png', '/root/data/blender_v3/mask/left_408.npy', '/root/data/blender_v3/depth_map/depth_map_408.npy', '/root/data/blender_v3/annotations/annot_408.json')\n",
      "('/root/data/blender_v3/stereo_images/left_409.png', '/root/data/blender_v3/mask/left_409.npy', '/root/data/blender_v3/depth_map/depth_map_409.npy', '/root/data/blender_v3/annotations/annot_409.json')\n",
      "('/root/data/blender_v3/stereo_images/left_410.png', '/root/data/blender_v3/mask/left_410.npy', '/root/data/blender_v3/depth_map/depth_map_410.npy', '/root/data/blender_v3/annotations/annot_410.json')\n",
      "('/root/data/blender_v3/stereo_images/left_411.png', '/root/data/blender_v3/mask/left_411.npy', '/root/data/blender_v3/depth_map/depth_map_411.npy', '/root/data/blender_v3/annotations/annot_411.json')\n",
      "('/root/data/blender_v3/stereo_images/left_412.png', '/root/data/blender_v3/mask/left_412.npy', '/root/data/blender_v3/depth_map/depth_map_412.npy', '/root/data/blender_v3/annotations/annot_412.json')\n",
      "('/root/data/blender_v3/stereo_images/left_413.png', '/root/data/blender_v3/mask/left_413.npy', '/root/data/blender_v3/depth_map/depth_map_413.npy', '/root/data/blender_v3/annotations/annot_413.json')\n",
      "('/root/data/blender_v3/stereo_images/left_414.png', '/root/data/blender_v3/mask/left_414.npy', '/root/data/blender_v3/depth_map/depth_map_414.npy', '/root/data/blender_v3/annotations/annot_414.json')\n",
      "('/root/data/blender_v3/stereo_images/left_415.png', '/root/data/blender_v3/mask/left_415.npy', '/root/data/blender_v3/depth_map/depth_map_415.npy', '/root/data/blender_v3/annotations/annot_415.json')\n",
      "('/root/data/blender_v3/stereo_images/left_416.png', '/root/data/blender_v3/mask/left_416.npy', '/root/data/blender_v3/depth_map/depth_map_416.npy', '/root/data/blender_v3/annotations/annot_416.json')\n",
      "('/root/data/blender_v3/stereo_images/left_417.png', '/root/data/blender_v3/mask/left_417.npy', '/root/data/blender_v3/depth_map/depth_map_417.npy', '/root/data/blender_v3/annotations/annot_417.json')\n",
      "('/root/data/blender_v3/stereo_images/left_418.png', '/root/data/blender_v3/mask/left_418.npy', '/root/data/blender_v3/depth_map/depth_map_418.npy', '/root/data/blender_v3/annotations/annot_418.json')\n",
      "('/root/data/blender_v3/stereo_images/left_419.png', '/root/data/blender_v3/mask/left_419.npy', '/root/data/blender_v3/depth_map/depth_map_419.npy', '/root/data/blender_v3/annotations/annot_419.json')\n",
      "('/root/data/blender_v3/stereo_images/left_420.png', '/root/data/blender_v3/mask/left_420.npy', '/root/data/blender_v3/depth_map/depth_map_420.npy', '/root/data/blender_v3/annotations/annot_420.json')\n",
      "('/root/data/blender_v3/stereo_images/left_421.png', '/root/data/blender_v3/mask/left_421.npy', '/root/data/blender_v3/depth_map/depth_map_421.npy', '/root/data/blender_v3/annotations/annot_421.json')\n",
      "('/root/data/blender_v3/stereo_images/left_422.png', '/root/data/blender_v3/mask/left_422.npy', '/root/data/blender_v3/depth_map/depth_map_422.npy', '/root/data/blender_v3/annotations/annot_422.json')\n",
      "('/root/data/blender_v3/stereo_images/left_423.png', '/root/data/blender_v3/mask/left_423.npy', '/root/data/blender_v3/depth_map/depth_map_423.npy', '/root/data/blender_v3/annotations/annot_423.json')\n",
      "('/root/data/blender_v3/stereo_images/left_424.png', '/root/data/blender_v3/mask/left_424.npy', '/root/data/blender_v3/depth_map/depth_map_424.npy', '/root/data/blender_v3/annotations/annot_424.json')\n",
      "('/root/data/blender_v3/stereo_images/left_425.png', '/root/data/blender_v3/mask/left_425.npy', '/root/data/blender_v3/depth_map/depth_map_425.npy', '/root/data/blender_v3/annotations/annot_425.json')\n",
      "('/root/data/blender_v3/stereo_images/left_426.png', '/root/data/blender_v3/mask/left_426.npy', '/root/data/blender_v3/depth_map/depth_map_426.npy', '/root/data/blender_v3/annotations/annot_426.json')\n",
      "17/20 [========================>.....] - ETA: 10s - loss: 1980.1880 - acc: 0.0000e+00('/root/data/blender_v3/stereo_images/left_427.png', '/root/data/blender_v3/mask/left_427.npy', '/root/data/blender_v3/depth_map/depth_map_427.npy', '/root/data/blender_v3/annotations/annot_427.json')\n",
      "('/root/data/blender_v3/stereo_images/left_428.png', '/root/data/blender_v3/mask/left_428.npy', '/root/data/blender_v3/depth_map/depth_map_428.npy', '/root/data/blender_v3/annotations/annot_428.json')\n",
      "('/root/data/blender_v3/stereo_images/left_429.png', '/root/data/blender_v3/mask/left_429.npy', '/root/data/blender_v3/depth_map/depth_map_429.npy', '/root/data/blender_v3/annotations/annot_429.json')\n",
      "('/root/data/blender_v3/stereo_images/left_430.png', '/root/data/blender_v3/mask/left_430.npy', '/root/data/blender_v3/depth_map/depth_map_430.npy', '/root/data/blender_v3/annotations/annot_430.json')\n",
      "('/root/data/blender_v3/stereo_images/left_431.png', '/root/data/blender_v3/mask/left_431.npy', '/root/data/blender_v3/depth_map/depth_map_431.npy', '/root/data/blender_v3/annotations/annot_431.json')\n",
      "('/root/data/blender_v3/stereo_images/left_432.png', '/root/data/blender_v3/mask/left_432.npy', '/root/data/blender_v3/depth_map/depth_map_432.npy', '/root/data/blender_v3/annotations/annot_432.json')\n",
      "('/root/data/blender_v3/stereo_images/left_433.png', '/root/data/blender_v3/mask/left_433.npy', '/root/data/blender_v3/depth_map/depth_map_433.npy', '/root/data/blender_v3/annotations/annot_433.json')\n",
      "('/root/data/blender_v3/stereo_images/left_434.png', '/root/data/blender_v3/mask/left_434.npy', '/root/data/blender_v3/depth_map/depth_map_434.npy', '/root/data/blender_v3/annotations/annot_434.json')\n",
      "('/root/data/blender_v3/stereo_images/left_435.png', '/root/data/blender_v3/mask/left_435.npy', '/root/data/blender_v3/depth_map/depth_map_435.npy', '/root/data/blender_v3/annotations/annot_435.json')\n",
      "('/root/data/blender_v3/stereo_images/left_436.png', '/root/data/blender_v3/mask/left_436.npy', '/root/data/blender_v3/depth_map/depth_map_436.npy', '/root/data/blender_v3/annotations/annot_436.json')\n",
      "('/root/data/blender_v3/stereo_images/left_437.png', '/root/data/blender_v3/mask/left_437.npy', '/root/data/blender_v3/depth_map/depth_map_437.npy', '/root/data/blender_v3/annotations/annot_437.json')\n",
      "('/root/data/blender_v3/stereo_images/left_438.png', '/root/data/blender_v3/mask/left_438.npy', '/root/data/blender_v3/depth_map/depth_map_438.npy', '/root/data/blender_v3/annotations/annot_438.json')\n",
      "('/root/data/blender_v3/stereo_images/left_439.png', '/root/data/blender_v3/mask/left_439.npy', '/root/data/blender_v3/depth_map/depth_map_439.npy', '/root/data/blender_v3/annotations/annot_439.json')\n",
      "('/root/data/blender_v3/stereo_images/left_440.png', '/root/data/blender_v3/mask/left_440.npy', '/root/data/blender_v3/depth_map/depth_map_440.npy', '/root/data/blender_v3/annotations/annot_440.json')\n",
      "('/root/data/blender_v3/stereo_images/left_441.png', '/root/data/blender_v3/mask/left_441.npy', '/root/data/blender_v3/depth_map/depth_map_441.npy', '/root/data/blender_v3/annotations/annot_441.json')\n",
      "('/root/data/blender_v3/stereo_images/left_442.png', '/root/data/blender_v3/mask/left_442.npy', '/root/data/blender_v3/depth_map/depth_map_442.npy', '/root/data/blender_v3/annotations/annot_442.json')\n",
      "('/root/data/blender_v3/stereo_images/left_443.png', '/root/data/blender_v3/mask/left_443.npy', '/root/data/blender_v3/depth_map/depth_map_443.npy', '/root/data/blender_v3/annotations/annot_443.json')\n",
      "('/root/data/blender_v3/stereo_images/left_444.png', '/root/data/blender_v3/mask/left_444.npy', '/root/data/blender_v3/depth_map/depth_map_444.npy', '/root/data/blender_v3/annotations/annot_444.json')\n",
      "('/root/data/blender_v3/stereo_images/left_445.png', '/root/data/blender_v3/mask/left_445.npy', '/root/data/blender_v3/depth_map/depth_map_445.npy', '/root/data/blender_v3/annotations/annot_445.json')\n"
     ]
    },
    {
     "name": "stdout",
     "output_type": "stream",
     "text": [
      "('/root/data/blender_v3/stereo_images/left_446.png', '/root/data/blender_v3/mask/left_446.npy', '/root/data/blender_v3/depth_map/depth_map_446.npy', '/root/data/blender_v3/annotations/annot_446.json')\n",
      "('/root/data/blender_v3/stereo_images/left_447.png', '/root/data/blender_v3/mask/left_447.npy', '/root/data/blender_v3/depth_map/depth_map_447.npy', '/root/data/blender_v3/annotations/annot_447.json')\n",
      "('/root/data/blender_v3/stereo_images/left_448.png', '/root/data/blender_v3/mask/left_448.npy', '/root/data/blender_v3/depth_map/depth_map_448.npy', '/root/data/blender_v3/annotations/annot_448.json')\n",
      "('/root/data/blender_v3/stereo_images/left_449.png', '/root/data/blender_v3/mask/left_449.npy', '/root/data/blender_v3/depth_map/depth_map_449.npy', '/root/data/blender_v3/annotations/annot_449.json')\n",
      "('/root/data/blender_v3/stereo_images/left_450.png', '/root/data/blender_v3/mask/left_450.npy', '/root/data/blender_v3/depth_map/depth_map_450.npy', '/root/data/blender_v3/annotations/annot_450.json')\n",
      "('/root/data/blender_v3/stereo_images/left_451.png', '/root/data/blender_v3/mask/left_451.npy', '/root/data/blender_v3/depth_map/depth_map_451.npy', '/root/data/blender_v3/annotations/annot_451.json')\n",
      "18/20 [==========================>...] - ETA: 6s - loss: 1935.0686 - acc: 0.0000e+00 ('/root/data/blender_v3/stereo_images/left_452.png', '/root/data/blender_v3/mask/left_452.npy', '/root/data/blender_v3/depth_map/depth_map_452.npy', '/root/data/blender_v3/annotations/annot_452.json')\n",
      "('/root/data/blender_v3/stereo_images/left_453.png', '/root/data/blender_v3/mask/left_453.npy', '/root/data/blender_v3/depth_map/depth_map_453.npy', '/root/data/blender_v3/annotations/annot_453.json')\n",
      "('/root/data/blender_v3/stereo_images/left_454.png', '/root/data/blender_v3/mask/left_454.npy', '/root/data/blender_v3/depth_map/depth_map_454.npy', '/root/data/blender_v3/annotations/annot_454.json')\n",
      "('/root/data/blender_v3/stereo_images/left_455.png', '/root/data/blender_v3/mask/left_455.npy', '/root/data/blender_v3/depth_map/depth_map_455.npy', '/root/data/blender_v3/annotations/annot_455.json')\n",
      "('/root/data/blender_v3/stereo_images/left_456.png', '/root/data/blender_v3/mask/left_456.npy', '/root/data/blender_v3/depth_map/depth_map_456.npy', '/root/data/blender_v3/annotations/annot_456.json')\n",
      "('/root/data/blender_v3/stereo_images/left_457.png', '/root/data/blender_v3/mask/left_457.npy', '/root/data/blender_v3/depth_map/depth_map_457.npy', '/root/data/blender_v3/annotations/annot_457.json')\n",
      "('/root/data/blender_v3/stereo_images/left_458.png', '/root/data/blender_v3/mask/left_458.npy', '/root/data/blender_v3/depth_map/depth_map_458.npy', '/root/data/blender_v3/annotations/annot_458.json')\n",
      "('/root/data/blender_v3/stereo_images/left_459.png', '/root/data/blender_v3/mask/left_459.npy', '/root/data/blender_v3/depth_map/depth_map_459.npy', '/root/data/blender_v3/annotations/annot_459.json')\n",
      "('/root/data/blender_v3/stereo_images/left_460.png', '/root/data/blender_v3/mask/left_460.npy', '/root/data/blender_v3/depth_map/depth_map_460.npy', '/root/data/blender_v3/annotations/annot_460.json')\n",
      "('/root/data/blender_v3/stereo_images/left_461.png', '/root/data/blender_v3/mask/left_461.npy', '/root/data/blender_v3/depth_map/depth_map_461.npy', '/root/data/blender_v3/annotations/annot_461.json')\n",
      "('/root/data/blender_v3/stereo_images/left_462.png', '/root/data/blender_v3/mask/left_462.npy', '/root/data/blender_v3/depth_map/depth_map_462.npy', '/root/data/blender_v3/annotations/annot_462.json')\n",
      "('/root/data/blender_v3/stereo_images/left_463.png', '/root/data/blender_v3/mask/left_463.npy', '/root/data/blender_v3/depth_map/depth_map_463.npy', '/root/data/blender_v3/annotations/annot_463.json')\n",
      "('/root/data/blender_v3/stereo_images/left_464.png', '/root/data/blender_v3/mask/left_464.npy', '/root/data/blender_v3/depth_map/depth_map_464.npy', '/root/data/blender_v3/annotations/annot_464.json')\n",
      "('/root/data/blender_v3/stereo_images/left_465.png', '/root/data/blender_v3/mask/left_465.npy', '/root/data/blender_v3/depth_map/depth_map_465.npy', '/root/data/blender_v3/annotations/annot_465.json')\n",
      "('/root/data/blender_v3/stereo_images/left_466.png', '/root/data/blender_v3/mask/left_466.npy', '/root/data/blender_v3/depth_map/depth_map_466.npy', '/root/data/blender_v3/annotations/annot_466.json')\n",
      "('/root/data/blender_v3/stereo_images/left_467.png', '/root/data/blender_v3/mask/left_467.npy', '/root/data/blender_v3/depth_map/depth_map_467.npy', '/root/data/blender_v3/annotations/annot_467.json')\n",
      "('/root/data/blender_v3/stereo_images/left_468.png', '/root/data/blender_v3/mask/left_468.npy', '/root/data/blender_v3/depth_map/depth_map_468.npy', '/root/data/blender_v3/annotations/annot_468.json')\n",
      "('/root/data/blender_v3/stereo_images/left_469.png', '/root/data/blender_v3/mask/left_469.npy', '/root/data/blender_v3/depth_map/depth_map_469.npy', '/root/data/blender_v3/annotations/annot_469.json')\n",
      "('/root/data/blender_v3/stereo_images/left_470.png', '/root/data/blender_v3/mask/left_470.npy', '/root/data/blender_v3/depth_map/depth_map_470.npy', '/root/data/blender_v3/annotations/annot_470.json')\n",
      "('/root/data/blender_v3/stereo_images/left_471.png', '/root/data/blender_v3/mask/left_471.npy', '/root/data/blender_v3/depth_map/depth_map_471.npy', '/root/data/blender_v3/annotations/annot_471.json')\n",
      "('/root/data/blender_v3/stereo_images/left_472.png', '/root/data/blender_v3/mask/left_472.npy', '/root/data/blender_v3/depth_map/depth_map_472.npy', '/root/data/blender_v3/annotations/annot_472.json')\n",
      "('/root/data/blender_v3/stereo_images/left_473.png', '/root/data/blender_v3/mask/left_473.npy', '/root/data/blender_v3/depth_map/depth_map_473.npy', '/root/data/blender_v3/annotations/annot_473.json')\n",
      "('/root/data/blender_v3/stereo_images/left_474.png', '/root/data/blender_v3/mask/left_474.npy', '/root/data/blender_v3/depth_map/depth_map_474.npy', '/root/data/blender_v3/annotations/annot_474.json')\n",
      "('/root/data/blender_v3/stereo_images/left_475.png', '/root/data/blender_v3/mask/left_475.npy', '/root/data/blender_v3/depth_map/depth_map_475.npy', '/root/data/blender_v3/annotations/annot_475.json')\n",
      "('/root/data/blender_v3/stereo_images/left_476.png', '/root/data/blender_v3/mask/left_476.npy', '/root/data/blender_v3/depth_map/depth_map_476.npy', '/root/data/blender_v3/annotations/annot_476.json')\n",
      "19/20 [===========================>..] - ETA: 3s - loss: 1895.9915 - acc: 0.0000e+00('/root/data/blender_v3/stereo_images/left_477.png', '/root/data/blender_v3/mask/left_477.npy', '/root/data/blender_v3/depth_map/depth_map_477.npy', '/root/data/blender_v3/annotations/annot_477.json')\n",
      "('/root/data/blender_v3/stereo_images/left_478.png', '/root/data/blender_v3/mask/left_478.npy', '/root/data/blender_v3/depth_map/depth_map_478.npy', '/root/data/blender_v3/annotations/annot_478.json')\n",
      "('/root/data/blender_v3/stereo_images/left_479.png', '/root/data/blender_v3/mask/left_479.npy', '/root/data/blender_v3/depth_map/depth_map_479.npy', '/root/data/blender_v3/annotations/annot_479.json')\n",
      "('/root/data/blender_v3/stereo_images/left_480.png', '/root/data/blender_v3/mask/left_480.npy', '/root/data/blender_v3/depth_map/depth_map_480.npy', '/root/data/blender_v3/annotations/annot_480.json')\n",
      "('/root/data/blender_v3/stereo_images/left_481.png', '/root/data/blender_v3/mask/left_481.npy', '/root/data/blender_v3/depth_map/depth_map_481.npy', '/root/data/blender_v3/annotations/annot_481.json')\n",
      "('/root/data/blender_v3/stereo_images/left_482.png', '/root/data/blender_v3/mask/left_482.npy', '/root/data/blender_v3/depth_map/depth_map_482.npy', '/root/data/blender_v3/annotations/annot_482.json')\n",
      "('/root/data/blender_v3/stereo_images/left_483.png', '/root/data/blender_v3/mask/left_483.npy', '/root/data/blender_v3/depth_map/depth_map_483.npy', '/root/data/blender_v3/annotations/annot_483.json')\n",
      "('/root/data/blender_v3/stereo_images/left_484.png', '/root/data/blender_v3/mask/left_484.npy', '/root/data/blender_v3/depth_map/depth_map_484.npy', '/root/data/blender_v3/annotations/annot_484.json')\n",
      "('/root/data/blender_v3/stereo_images/left_485.png', '/root/data/blender_v3/mask/left_485.npy', '/root/data/blender_v3/depth_map/depth_map_485.npy', '/root/data/blender_v3/annotations/annot_485.json')\n"
     ]
    },
    {
     "name": "stdout",
     "output_type": "stream",
     "text": [
      "('/root/data/blender_v3/stereo_images/left_486.png', '/root/data/blender_v3/mask/left_486.npy', '/root/data/blender_v3/depth_map/depth_map_486.npy', '/root/data/blender_v3/annotations/annot_486.json')\n",
      "('/root/data/blender_v3/stereo_images/left_487.png', '/root/data/blender_v3/mask/left_487.npy', '/root/data/blender_v3/depth_map/depth_map_487.npy', '/root/data/blender_v3/annotations/annot_487.json')\n",
      "('/root/data/blender_v3/stereo_images/left_488.png', '/root/data/blender_v3/mask/left_488.npy', '/root/data/blender_v3/depth_map/depth_map_488.npy', '/root/data/blender_v3/annotations/annot_488.json')\n",
      "('/root/data/blender_v3/stereo_images/left_489.png', '/root/data/blender_v3/mask/left_489.npy', '/root/data/blender_v3/depth_map/depth_map_489.npy', '/root/data/blender_v3/annotations/annot_489.json')\n",
      "('/root/data/blender_v3/stereo_images/left_490.png', '/root/data/blender_v3/mask/left_490.npy', '/root/data/blender_v3/depth_map/depth_map_490.npy', '/root/data/blender_v3/annotations/annot_490.json')\n",
      "('/root/data/blender_v3/stereo_images/left_491.png', '/root/data/blender_v3/mask/left_491.npy', '/root/data/blender_v3/depth_map/depth_map_491.npy', '/root/data/blender_v3/annotations/annot_491.json')\n",
      "('/root/data/blender_v3/stereo_images/left_492.png', '/root/data/blender_v3/mask/left_492.npy', '/root/data/blender_v3/depth_map/depth_map_492.npy', '/root/data/blender_v3/annotations/annot_492.json')\n",
      "('/root/data/blender_v3/stereo_images/left_493.png', '/root/data/blender_v3/mask/left_493.npy', '/root/data/blender_v3/depth_map/depth_map_493.npy', '/root/data/blender_v3/annotations/annot_493.json')\n",
      "('/root/data/blender_v3/stereo_images/left_494.png', '/root/data/blender_v3/mask/left_494.npy', '/root/data/blender_v3/depth_map/depth_map_494.npy', '/root/data/blender_v3/annotations/annot_494.json')\n",
      "('/root/data/blender_v3/stereo_images/left_495.png', '/root/data/blender_v3/mask/left_495.npy', '/root/data/blender_v3/depth_map/depth_map_495.npy', '/root/data/blender_v3/annotations/annot_495.json')\n",
      "('/root/data/blender_v3/stereo_images/left_496.png', '/root/data/blender_v3/mask/left_496.npy', '/root/data/blender_v3/depth_map/depth_map_496.npy', '/root/data/blender_v3/annotations/annot_496.json')\n",
      "('/root/data/blender_v3/stereo_images/left_497.png', '/root/data/blender_v3/mask/left_497.npy', '/root/data/blender_v3/depth_map/depth_map_497.npy', '/root/data/blender_v3/annotations/annot_497.json')\n",
      "('/root/data/blender_v3/stereo_images/left_498.png', '/root/data/blender_v3/mask/left_498.npy', '/root/data/blender_v3/depth_map/depth_map_498.npy', '/root/data/blender_v3/annotations/annot_498.json')\n",
      "('/root/data/blender_v3/stereo_images/left_499.png', '/root/data/blender_v3/mask/left_499.npy', '/root/data/blender_v3/depth_map/depth_map_499.npy', '/root/data/blender_v3/annotations/annot_499.json')\n",
      "('/root/data/blender_v3/stereo_images/left_0.png', '/root/data/blender_v3/mask/left_0.npy', '/root/data/blender_v3/depth_map/depth_map_0.npy', '/root/data/blender_v3/annotations/annot_0.json')\n",
      "('/root/data/blender_v3/stereo_images/left_1.png', '/root/data/blender_v3/mask/left_1.npy', '/root/data/blender_v3/depth_map/depth_map_1.npy', '/root/data/blender_v3/annotations/annot_1.json')\n",
      "20/20 [==============================] - 68s 3s/step - loss: 1852.4866 - acc: 0.0000e+00\n",
      "Epoch 2/100\n",
      "('/root/data/blender_v3/stereo_images/left_2.png', '/root/data/blender_v3/mask/left_2.npy', '/root/data/blender_v3/depth_map/depth_map_2.npy', '/root/data/blender_v3/annotations/annot_2.json')\n",
      "('/root/data/blender_v3/stereo_images/left_3.png', '/root/data/blender_v3/mask/left_3.npy', '/root/data/blender_v3/depth_map/depth_map_3.npy', '/root/data/blender_v3/annotations/annot_3.json')\n",
      "('/root/data/blender_v3/stereo_images/left_4.png', '/root/data/blender_v3/mask/left_4.npy', '/root/data/blender_v3/depth_map/depth_map_4.npy', '/root/data/blender_v3/annotations/annot_4.json')\n",
      "('/root/data/blender_v3/stereo_images/left_5.png', '/root/data/blender_v3/mask/left_5.npy', '/root/data/blender_v3/depth_map/depth_map_5.npy', '/root/data/blender_v3/annotations/annot_5.json')\n",
      "('/root/data/blender_v3/stereo_images/left_6.png', '/root/data/blender_v3/mask/left_6.npy', '/root/data/blender_v3/depth_map/depth_map_6.npy', '/root/data/blender_v3/annotations/annot_6.json')\n",
      "('/root/data/blender_v3/stereo_images/left_7.png', '/root/data/blender_v3/mask/left_7.npy', '/root/data/blender_v3/depth_map/depth_map_7.npy', '/root/data/blender_v3/annotations/annot_7.json')\n",
      "('/root/data/blender_v3/stereo_images/left_8.png', '/root/data/blender_v3/mask/left_8.npy', '/root/data/blender_v3/depth_map/depth_map_8.npy', '/root/data/blender_v3/annotations/annot_8.json')\n",
      "('/root/data/blender_v3/stereo_images/left_9.png', '/root/data/blender_v3/mask/left_9.npy', '/root/data/blender_v3/depth_map/depth_map_9.npy', '/root/data/blender_v3/annotations/annot_9.json')\n",
      "('/root/data/blender_v3/stereo_images/left_10.png', '/root/data/blender_v3/mask/left_10.npy', '/root/data/blender_v3/depth_map/depth_map_10.npy', '/root/data/blender_v3/annotations/annot_10.json')\n",
      "('/root/data/blender_v3/stereo_images/left_11.png', '/root/data/blender_v3/mask/left_11.npy', '/root/data/blender_v3/depth_map/depth_map_11.npy', '/root/data/blender_v3/annotations/annot_11.json')\n",
      "('/root/data/blender_v3/stereo_images/left_12.png', '/root/data/blender_v3/mask/left_12.npy', '/root/data/blender_v3/depth_map/depth_map_12.npy', '/root/data/blender_v3/annotations/annot_12.json')\n",
      "('/root/data/blender_v3/stereo_images/left_13.png', '/root/data/blender_v3/mask/left_13.npy', '/root/data/blender_v3/depth_map/depth_map_13.npy', '/root/data/blender_v3/annotations/annot_13.json')\n",
      "('/root/data/blender_v3/stereo_images/left_14.png', '/root/data/blender_v3/mask/left_14.npy', '/root/data/blender_v3/depth_map/depth_map_14.npy', '/root/data/blender_v3/annotations/annot_14.json')\n",
      "('/root/data/blender_v3/stereo_images/left_15.png', '/root/data/blender_v3/mask/left_15.npy', '/root/data/blender_v3/depth_map/depth_map_15.npy', '/root/data/blender_v3/annotations/annot_15.json')\n",
      "('/root/data/blender_v3/stereo_images/left_16.png', '/root/data/blender_v3/mask/left_16.npy', '/root/data/blender_v3/depth_map/depth_map_16.npy', '/root/data/blender_v3/annotations/annot_16.json')\n",
      "('/root/data/blender_v3/stereo_images/left_17.png', '/root/data/blender_v3/mask/left_17.npy', '/root/data/blender_v3/depth_map/depth_map_17.npy', '/root/data/blender_v3/annotations/annot_17.json')\n",
      "('/root/data/blender_v3/stereo_images/left_18.png', '/root/data/blender_v3/mask/left_18.npy', '/root/data/blender_v3/depth_map/depth_map_18.npy', '/root/data/blender_v3/annotations/annot_18.json')\n",
      "('/root/data/blender_v3/stereo_images/left_19.png', '/root/data/blender_v3/mask/left_19.npy', '/root/data/blender_v3/depth_map/depth_map_19.npy', '/root/data/blender_v3/annotations/annot_19.json')\n",
      "('/root/data/blender_v3/stereo_images/left_20.png', '/root/data/blender_v3/mask/left_20.npy', '/root/data/blender_v3/depth_map/depth_map_20.npy', '/root/data/blender_v3/annotations/annot_20.json')\n",
      "('/root/data/blender_v3/stereo_images/left_21.png', '/root/data/blender_v3/mask/left_21.npy', '/root/data/blender_v3/depth_map/depth_map_21.npy', '/root/data/blender_v3/annotations/annot_21.json')\n",
      "('/root/data/blender_v3/stereo_images/left_22.png', '/root/data/blender_v3/mask/left_22.npy', '/root/data/blender_v3/depth_map/depth_map_22.npy', '/root/data/blender_v3/annotations/annot_22.json')\n",
      "('/root/data/blender_v3/stereo_images/left_23.png', '/root/data/blender_v3/mask/left_23.npy', '/root/data/blender_v3/depth_map/depth_map_23.npy', '/root/data/blender_v3/annotations/annot_23.json')\n",
      "('/root/data/blender_v3/stereo_images/left_24.png', '/root/data/blender_v3/mask/left_24.npy', '/root/data/blender_v3/depth_map/depth_map_24.npy', '/root/data/blender_v3/annotations/annot_24.json')\n"
     ]
    },
    {
     "ename": "KeyboardInterrupt",
     "evalue": "",
     "output_type": "error",
     "traceback": [
      "\u001b[0;31m\u001b[0m",
      "\u001b[0;31mKeyboardInterrupt\u001b[0mTraceback (most recent call last)",
      "\u001b[0;32m<ipython-input-9-8b851bae3f1e>\u001b[0m in \u001b[0;36m<module>\u001b[0;34m()\u001b[0m\n\u001b[0;32m----> 1\u001b[0;31m \u001b[0mmodel\u001b[0m\u001b[0;34m.\u001b[0m\u001b[0mfit_generator\u001b[0m\u001b[0;34m(\u001b[0m\u001b[0mgen\u001b[0m\u001b[0;34m,\u001b[0m \u001b[0msteps_per_epoch\u001b[0m\u001b[0;34m=\u001b[0m\u001b[0msteps_per_epoch\u001b[0m\u001b[0;34m,\u001b[0m \u001b[0mepochs\u001b[0m\u001b[0;34m=\u001b[0m\u001b[0;36m100\u001b[0m\u001b[0;34m,\u001b[0m \u001b[0mverbose\u001b[0m\u001b[0;34m=\u001b[0m\u001b[0mTrue\u001b[0m\u001b[0;34m)\u001b[0m\u001b[0;34m\u001b[0m\u001b[0m\n\u001b[0m",
      "\u001b[0;32m/usr/local/lib/python2.7/dist-packages/keras/legacy/interfaces.pyc\u001b[0m in \u001b[0;36mwrapper\u001b[0;34m(*args, **kwargs)\u001b[0m\n\u001b[1;32m     89\u001b[0m                 warnings.warn('Update your `' + object_name +\n\u001b[1;32m     90\u001b[0m                               '` call to the Keras 2 API: ' + signature, stacklevel=2)\n\u001b[0;32m---> 91\u001b[0;31m             \u001b[0;32mreturn\u001b[0m \u001b[0mfunc\u001b[0m\u001b[0;34m(\u001b[0m\u001b[0;34m*\u001b[0m\u001b[0margs\u001b[0m\u001b[0;34m,\u001b[0m \u001b[0;34m**\u001b[0m\u001b[0mkwargs\u001b[0m\u001b[0;34m)\u001b[0m\u001b[0;34m\u001b[0m\u001b[0m\n\u001b[0m\u001b[1;32m     92\u001b[0m         \u001b[0mwrapper\u001b[0m\u001b[0;34m.\u001b[0m\u001b[0m_original_function\u001b[0m \u001b[0;34m=\u001b[0m \u001b[0mfunc\u001b[0m\u001b[0;34m\u001b[0m\u001b[0m\n\u001b[1;32m     93\u001b[0m         \u001b[0;32mreturn\u001b[0m \u001b[0mwrapper\u001b[0m\u001b[0;34m\u001b[0m\u001b[0m\n",
      "\u001b[0;32m/usr/local/lib/python2.7/dist-packages/keras/engine/training.pyc\u001b[0m in \u001b[0;36mfit_generator\u001b[0;34m(self, generator, steps_per_epoch, epochs, verbose, callbacks, validation_data, validation_steps, class_weight, max_queue_size, workers, use_multiprocessing, shuffle, initial_epoch)\u001b[0m\n\u001b[1;32m   2190\u001b[0m                 \u001b[0mbatch_index\u001b[0m \u001b[0;34m=\u001b[0m \u001b[0;36m0\u001b[0m\u001b[0;34m\u001b[0m\u001b[0m\n\u001b[1;32m   2191\u001b[0m                 \u001b[0;32mwhile\u001b[0m \u001b[0msteps_done\u001b[0m \u001b[0;34m<\u001b[0m \u001b[0msteps_per_epoch\u001b[0m\u001b[0;34m:\u001b[0m\u001b[0;34m\u001b[0m\u001b[0m\n\u001b[0;32m-> 2192\u001b[0;31m                     \u001b[0mgenerator_output\u001b[0m \u001b[0;34m=\u001b[0m \u001b[0mnext\u001b[0m\u001b[0;34m(\u001b[0m\u001b[0moutput_generator\u001b[0m\u001b[0;34m)\u001b[0m\u001b[0;34m\u001b[0m\u001b[0m\n\u001b[0m\u001b[1;32m   2193\u001b[0m \u001b[0;34m\u001b[0m\u001b[0m\n\u001b[1;32m   2194\u001b[0m                     \u001b[0;32mif\u001b[0m \u001b[0;32mnot\u001b[0m \u001b[0mhasattr\u001b[0m\u001b[0;34m(\u001b[0m\u001b[0mgenerator_output\u001b[0m\u001b[0;34m,\u001b[0m \u001b[0;34m'__len__'\u001b[0m\u001b[0;34m)\u001b[0m\u001b[0;34m:\u001b[0m\u001b[0;34m\u001b[0m\u001b[0m\n",
      "\u001b[0;32m/usr/local/lib/python2.7/dist-packages/keras/utils/data_utils.pyc\u001b[0m in \u001b[0;36mget\u001b[0;34m(self)\u001b[0m\n\u001b[1;32m    785\u001b[0m                     \u001b[0;32mraise\u001b[0m \u001b[0mStopIteration\u001b[0m\u001b[0;34m(\u001b[0m\u001b[0;34m)\u001b[0m\u001b[0;34m\u001b[0m\u001b[0m\n\u001b[1;32m    786\u001b[0m                 \u001b[0;32melse\u001b[0m\u001b[0;34m:\u001b[0m\u001b[0;34m\u001b[0m\u001b[0m\n\u001b[0;32m--> 787\u001b[0;31m                     \u001b[0mtime\u001b[0m\u001b[0;34m.\u001b[0m\u001b[0msleep\u001b[0m\u001b[0;34m(\u001b[0m\u001b[0mself\u001b[0m\u001b[0;34m.\u001b[0m\u001b[0mwait_time\u001b[0m\u001b[0;34m)\u001b[0m\u001b[0;34m\u001b[0m\u001b[0m\n\u001b[0m\u001b[1;32m    788\u001b[0m \u001b[0;34m\u001b[0m\u001b[0m\n\u001b[1;32m    789\u001b[0m         \u001b[0;31m# Make sure to rethrow the first exception in the queue, if any\u001b[0m\u001b[0;34m\u001b[0m\u001b[0;34m\u001b[0m\u001b[0m\n",
      "\u001b[0;31mKeyboardInterrupt\u001b[0m: "
     ]
    }
   ],
   "source": [
    "model.fit_generator(gen, steps_per_epoch=steps_per_epoch, epochs=100, verbose=True)"
   ]
  },
  {
   "cell_type": "code",
   "execution_count": 1,
   "metadata": {
    "scrolled": true
   },
   "outputs": [
    {
     "ename": "NameError",
     "evalue": "name 'generator' is not defined",
     "output_type": "error",
     "traceback": [
      "\u001b[0;31m\u001b[0m",
      "\u001b[0;31mNameError\u001b[0mTraceback (most recent call last)",
      "\u001b[0;32m<ipython-input-1-7180dd85e7e5>\u001b[0m in \u001b[0;36m<module>\u001b[0;34m()\u001b[0m\n\u001b[0;32m----> 1\u001b[0;31m \u001b[0meval_gen\u001b[0m \u001b[0;34m=\u001b[0m \u001b[0mgenerator\u001b[0m\u001b[0;34m(\u001b[0m\u001b[0mtest_data_list\u001b[0m\u001b[0;34m,\u001b[0m \u001b[0mnp\u001b[0m\u001b[0;34m.\u001b[0m\u001b[0minf\u001b[0m\u001b[0;34m,\u001b[0m \u001b[0mBATCH_SIZE\u001b[0m\u001b[0;34m,\u001b[0m \u001b[0;34m(\u001b[0m\u001b[0;36m224\u001b[0m\u001b[0;34m,\u001b[0m \u001b[0;36m224\u001b[0m\u001b[0;34m,\u001b[0m \u001b[0;36m3\u001b[0m\u001b[0;34m)\u001b[0m\u001b[0;34m)\u001b[0m\u001b[0;34m\u001b[0m\u001b[0m\n\u001b[0m\u001b[1;32m      2\u001b[0m \u001b[0mscores\u001b[0m \u001b[0;34m=\u001b[0m \u001b[0mmodel\u001b[0m\u001b[0;34m.\u001b[0m\u001b[0mevaluate_generator\u001b[0m\u001b[0;34m(\u001b[0m\u001b[0meval_gen\u001b[0m\u001b[0;34m,\u001b[0m \u001b[0;36m50\u001b[0m\u001b[0;34m)\u001b[0m\u001b[0;34m\u001b[0m\u001b[0m\n",
      "\u001b[0;31mNameError\u001b[0m: name 'generator' is not defined"
     ]
    }
   ],
   "source": [
    "eval_gen = generator(test_data_list, np.inf, BATCH_SIZE, (224, 224, 3))\n",
    "scores = model.evaluate_generator(eval_gen, 50)"
   ]
  },
  {
   "cell_type": "code",
   "execution_count": null,
   "metadata": {},
   "outputs": [],
   "source": []
  },
  {
   "cell_type": "code",
   "execution_count": 28,
   "metadata": {
    "scrolled": true
   },
   "outputs": [],
   "source": [
    "eval_gen = generator(test_data_list, np.inf, BATCH_SIZE, (224, 224, 3))\n",
    "predictions = model.predict_generator(eval_gen, 120)"
   ]
  },
  {
   "cell_type": "code",
   "execution_count": 29,
   "metadata": {},
   "outputs": [],
   "source": [
    "ground_truth_values = np.array([])\n",
    "for i in range(120*25):\n",
    "    annotation = json.load(open(test_data_list[i][3], 'rb'))\n",
    "    ground_truth_values = np.append(ground_truth_values, annotation['volume'])"
   ]
  },
  {
   "cell_type": "code",
   "execution_count": null,
   "metadata": {
    "scrolled": true
   },
   "outputs": [],
   "source": []
  },
  {
   "cell_type": "code",
   "execution_count": null,
   "metadata": {
    "scrolled": true
   },
   "outputs": [],
   "source": []
  },
  {
   "cell_type": "code",
   "execution_count": null,
   "metadata": {
    "scrolled": true
   },
   "outputs": [],
   "source": []
  },
  {
   "cell_type": "code",
   "execution_count": null,
   "metadata": {
    "scrolled": false
   },
   "outputs": [],
   "source": []
  },
  {
   "cell_type": "code",
   "execution_count": 30,
   "metadata": {},
   "outputs": [
    {
     "data": {
      "text/plain": [
       "0.015226438229773941"
      ]
     },
     "execution_count": 30,
     "metadata": {},
     "output_type": "execute_result"
    }
   ],
   "source": [
    "(ground_truth_values.mean() - predictions[:,0].mean())/(ground_truth_values.mean())"
   ]
  },
  {
   "cell_type": "code",
   "execution_count": null,
   "metadata": {},
   "outputs": [],
   "source": []
  },
  {
   "cell_type": "code",
   "execution_count": 16,
   "metadata": {},
   "outputs": [
    {
     "data": {
      "text/plain": [
       "array([2068.00994581, 1983.57114122, 5667.58181159, ...,  543.67955969,\n",
       "       7200.4383445 ,  786.05285821])"
      ]
     },
     "execution_count": 16,
     "metadata": {},
     "output_type": "execute_result"
    }
   ],
   "source": [
    "ground_truth_values"
   ]
  },
  {
   "cell_type": "code",
   "execution_count": 17,
   "metadata": {},
   "outputs": [
    {
     "data": {
      "text/plain": [
       "array([2074.5874, 1821.5377, 5909.4644, ...,  659.0779, 6892.836 ,\n",
       "        745.3722], dtype=float32)"
      ]
     },
     "execution_count": 17,
     "metadata": {},
     "output_type": "execute_result"
    }
   ],
   "source": [
    "predictions[:,0]"
   ]
  },
  {
   "cell_type": "code",
   "execution_count": 18,
   "metadata": {},
   "outputs": [
    {
     "data": {
      "text/plain": [
       "3348.287045002889"
      ]
     },
     "execution_count": 18,
     "metadata": {},
     "output_type": "execute_result"
    }
   ],
   "source": [
    "ground_truth_values.mean()"
   ]
  },
  {
   "cell_type": "code",
   "execution_count": 19,
   "metadata": {},
   "outputs": [
    {
     "data": {
      "text/plain": [
       "array([2068.00994581, 1983.57114122, 5667.58181159, ...,  543.67955969,\n",
       "       7200.4383445 ,  786.05285821])"
      ]
     },
     "execution_count": 19,
     "metadata": {},
     "output_type": "execute_result"
    }
   ],
   "source": [
    "ground_truth_values"
   ]
  },
  {
   "cell_type": "code",
   "execution_count": 32,
   "metadata": {
    "scrolled": true
   },
   "outputs": [
    {
     "data": {
      "text/plain": [
       "<matplotlib.collections.PathCollection at 0x7ff55ba0f650>"
      ]
     },
     "execution_count": 32,
     "metadata": {},
     "output_type": "execute_result"
    },
    {
     "data": {
      "image/png": "[encoded data removed]",
      "text/plain": [
       "<matplotlib.figure.Figure at 0x7ff5db73f350>"
      ]
     },
     "metadata": {},
     "output_type": "display_data"
    }
   ],
   "source": [
    "plt.scatter(ground_truth_values, predictions[:,0])"
   ]
  },
  {
   "cell_type": "code",
   "execution_count": null,
   "metadata": {
    "scrolled": true
   },
   "outputs": [],
   "source": []
  },
  {
   "cell_type": "code",
   "execution_count": 31,
   "metadata": {},
   "outputs": [
    {
     "data": {
      "text/plain": [
       "0.292572184149916"
      ]
     },
     "execution_count": 31,
     "metadata": {},
     "output_type": "execute_result"
    }
   ],
   "source": [
    "np.percentile((abs(ground_truth_values - predictions[:,0])/ground_truth_values), 95)"
   ]
  },
  {
   "cell_type": "code",
   "execution_count": null,
   "metadata": {},
   "outputs": [],
   "source": []
  },
  {
   "cell_type": "code",
   "execution_count": null,
   "metadata": {},
   "outputs": [],
   "source": []
  },
  {
   "cell_type": "code",
   "execution_count": 5,
   "metadata": {},
   "outputs": [
    {
     "data": {
      "text/plain": [
       "{u'focal_length': 1.0,\n",
       " u'height': 20.76045918246681,\n",
       " u'interocular_distance': 0.6499999761581421,\n",
       " u'length': 103.80229591233405,\n",
       " u'sensor_height': 3.2,\n",
       " u'sensor_width': 1.8,\n",
       " u'unit': u'centimeter',\n",
       " u'unit_system': u'METRIC',\n",
       " u'volume': 4410.102564548064,\n",
       " u'width': 17.300382652055674}"
      ]
     },
     "execution_count": 5,
     "metadata": {},
     "output_type": "execute_result"
    }
   ],
   "source": [
    "json.load(open(annotation_paths[0]))"
   ]
  },
  {
   "cell_type": "code",
   "execution_count": null,
   "metadata": {},
   "outputs": [],
   "source": []
  },
  {
   "cell_type": "code",
   "execution_count": null,
   "metadata": {},
   "outputs": [],
   "source": []
  },
  {
   "cell_type": "code",
   "execution_count": null,
   "metadata": {},
   "outputs": [],
   "source": []
  },
  {
   "cell_type": "code",
   "execution_count": null,
   "metadata": {},
   "outputs": [],
   "source": []
  }
 ],
 "metadata": {
  "kernelspec": {
   "display_name": "Python 2",
   "language": "python",
   "name": "python2"
  }
 },
 "nbformat": 4,
 "nbformat_minor": 2
}
