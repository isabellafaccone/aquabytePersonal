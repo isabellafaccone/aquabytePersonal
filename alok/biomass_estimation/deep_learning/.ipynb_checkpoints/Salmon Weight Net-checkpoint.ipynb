{
 "cells": [
  {
   "cell_type": "markdown",
   "metadata": {},
   "source": [
    "<h1> In this notebook, we will implement a neural network that regresses volume against segmentation + depth map </h1>"
   ]
  },
  {
   "cell_type": "code",
   "execution_count": 3,
   "metadata": {},
   "outputs": [
    {
     "name": "stderr",
     "output_type": "stream",
     "text": [
      "/usr/local/lib/python2.7/dist-packages/h5py/__init__.py:36: FutureWarning: Conversion of the second argument of issubdtype from `float` to `np.floating` is deprecated. In future, it will be treated as `np.float64 == np.dtype(float).type`.\n",
      "  from ._conv import register_converters as _register_converters\n",
      "Using TensorFlow backend.\n"
     ]
    }
   ],
   "source": [
    "%load_ext autoreload\n",
    "%autoreload 2\n",
    "\n",
    "import glob\n",
    "import os\n",
    "import numpy as np\n",
    "from keras.models import Model\n",
    "from keras.layers import Input, Dense, Dropout, Activation, Flatten\n",
    "from keras.layers import Conv2D, MaxPooling2D\n",
    "from keras.utils import np_utils\n",
    "from keras.datasets import mnist\n",
    "from keras import backend as K\n",
    "from matplotlib import pyplot as plt\n",
    "\n",
    "%matplotlib inline\n",
    "\n",
    "os.environ[\"CUDA_VISIBLE_DEVICES\"]=\"3\"\n",
    "np.random.seed(0)"
   ]
  },
  {
   "cell_type": "code",
   "execution_count": 46,
   "metadata": {},
   "outputs": [],
   "source": [
    "data_path_base = '/root/data/blender_v3'\n",
    "depth_map_dir = '{}/{}'.format(data_path_base, 'depth_map')\n",
    "segmentation_dir = '{}/{}'.format(data_path_base, 'mask')\n"
   ]
  },
  {
   "cell_type": "code",
   "execution_count": 63,
   "metadata": {},
   "outputs": [],
   "source": [
    "sort_key = lambda x: int(os.path.splitext(os.path.basename(x))[0].split('_')[-1])\n",
    "filter_key = lambda x: os.path.splitext(os.path.basename(x))[0].split('_')[0]\n",
    "all_segmentation_paths = sorted(glob.glob('{}/*.npy'.format(segmentation_dir)), key=sort_key)\n",
    "segmentation_paths = [p for p in all_segmentation_paths if filter_key(p) == 'left'] # we are working with left frame only\n",
    "depth_map_paths = sorted(glob.glob('{}/*.npy'.format(depth_map_dir)), key=sort_key)\n",
    "seg_dm_pairs = zip(segmentation_paths, depth_map_paths)\n",
    "\n",
    "\n"
   ]
  },
  {
   "cell_type": "code",
   "execution_count": 65,
   "metadata": {},
   "outputs": [],
   "source": [
    "def __init__(self, list_IDs, labels, batch_size=32, dim=(32,32,32), n_channels=1,\n",
    "             n_classes=10, shuffle=True):\n",
    "    # Initialization\n",
    "    self.dim = dim\n",
    "    self.batch_size = batch_size\n",
    "    self.labels = labels\n",
    "    self.list_IDs = list_IDs\n",
    "    self.n_channels = n_channels\n",
    "    self.n_classes = n_classes\n",
    "    self.shuffle = shuffle\n",
    "    self.on_epoch_end()\n",
    "    \n",
    "    \n",
    "\n",
    "def __data_generation(self, list_IDs_temp):\n",
    "    # Initialization\n",
    "    X = np.empty((self.batch_size, *self.dim, self.n_channels))\n",
    "    y = np.empty((self.batch_size), dtype=int)\n",
    "\n",
    "    # Generate data\n",
    "    for i, ID in enumerate(list_IDs_temp):\n",
    "      # Store sample\n",
    "      X[i,] = np.load('data/' + ID + '.npy')\n",
    "\n",
    "      # Store class\n",
    "      y[i] = self.labels[ID]\n",
    "\n",
    "    return X, keras.utils.to_categorical(y, num_classes=self.n_classes)\n",
    "\n",
    "\n",
    "def on_epoch_end(self):\n",
    "    self.indexes = np.arange(len(self.list_IDs))\n",
    "    if self.shuffle == True:\n",
    "        np.random.shuffle(self.indexes)\n",
    "    \n",
    "def __len__(self):\n",
    "    'Denotes the number of batches per epoch'\n",
    "    return int(np.floor(len(self.list_IDs) / self.batch_size))"
   ]
  },
  {
   "cell_type": "code",
   "execution_count": null,
   "metadata": {},
   "outputs": [],
   "source": []
  },
  {
   "cell_type": "code",
   "execution_count": null,
   "metadata": {},
   "outputs": [],
   "source": []
  },
  {
   "cell_type": "code",
   "execution_count": null,
   "metadata": {},
   "outputs": [],
   "source": []
  },
  {
   "cell_type": "code",
   "execution_count": null,
   "metadata": {},
   "outputs": [],
   "source": []
  },
  {
   "cell_type": "code",
   "execution_count": null,
   "metadata": {},
   "outputs": [],
   "source": []
  },
  {
   "cell_type": "code",
   "execution_count": null,
   "metadata": {},
   "outputs": [],
   "source": []
  },
  {
   "cell_type": "code",
   "execution_count": null,
   "metadata": {},
   "outputs": [],
   "source": []
  },
  {
   "cell_type": "code",
   "execution_count": null,
   "metadata": {},
   "outputs": [],
   "source": []
  }
 ],
 "metadata": {
  "kernelspec": {
   "display_name": "Python 2",
   "language": "python",
   "name": "python2"
  },
  "language_info": {
   "codemirror_mode": {
    "name": "ipython",
    "version": 2
   },
   "file_extension": ".py",
   "mimetype": "text/x-python",
   "name": "python",
   "nbconvert_exporter": "python",
   "pygments_lexer": "ipython2",
   "version": "2.7.12"
  }
 },
 "nbformat": 4,
 "nbformat_minor": 2
}
