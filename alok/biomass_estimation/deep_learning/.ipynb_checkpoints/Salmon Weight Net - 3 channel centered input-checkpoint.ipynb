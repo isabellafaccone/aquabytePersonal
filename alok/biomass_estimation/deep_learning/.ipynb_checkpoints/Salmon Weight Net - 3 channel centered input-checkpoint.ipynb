{
 "cells": [
  {
   "cell_type": "markdown",
   "metadata": {},
   "source": [
    "<h1> In this notebook, we will implement a neural network that regresses volume against segmentation + depth map </h1>"
   ]
  },
  {
   "cell_type": "code",
   "execution_count": 1,
   "metadata": {},
   "outputs": [
    {
     "name": "stderr",
     "output_type": "stream",
     "text": [
      "/usr/local/lib/python2.7/dist-packages/h5py/__init__.py:36: FutureWarning: Conversion of the second argument of issubdtype from `float` to `np.floating` is deprecated. In future, it will be treated as `np.float64 == np.dtype(float).type`.\n",
      "  from ._conv import register_converters as _register_converters\n",
      "Using TensorFlow backend.\n"
     ]
    }
   ],
   "source": [
    "%load_ext autoreload\n",
    "%autoreload 2\n",
    "\n",
    "import sys\n",
    "sys.path.append('/root/alok/github/cv_research/alok')\n",
    "\n",
    "import glob\n",
    "import json\n",
    "import os\n",
    "import numpy as np\n",
    "from PIL import Image\n",
    "\n",
    "import keras\n",
    "from keras.models import Model\n",
    "from keras.applications.vgg16 import VGG16\n",
    "from keras.layers import Input, Dense, Dropout, Activation, Flatten\n",
    "from keras.layers import Conv2D, MaxPooling2D\n",
    "from keras.utils import np_utils\n",
    "from keras.datasets import mnist\n",
    "from keras import backend as K\n",
    "from keras.backend import tf as ktf\n",
    "\n",
    "from matplotlib import pyplot as plt\n",
    "from matplotlib import cm\n",
    "from biomass_utils.points_of_interest import get_point_cloud\n",
    "\n",
    "%matplotlib inline\n",
    "\n",
    "os.environ[\"CUDA_VISIBLE_DEVICES\"]=\"0\"\n",
    "np.random.seed(1)"
   ]
  },
  {
   "cell_type": "code",
   "execution_count": 3,
   "metadata": {},
   "outputs": [],
   "source": [
    "# Get data ready\n",
    "\n",
    "data_path_base = '/root/data/blender_v3'\n",
    "depth_map_dir = '{}/{}'.format(data_path_base, 'depth_map')\n",
    "segmentation_dir = '{}/{}'.format(data_path_base, 'mask')\n",
    "annotation_dir = '{}/{}'.format(data_path_base, 'annotations')\n",
    "\n",
    "number_key = lambda x: int(os.path.splitext(os.path.basename(x))[0].split('_')[-1])\n",
    "side_key = lambda x: os.path.splitext(os.path.basename(x))[0].split('_')[0]\n",
    "all_segmentation_paths = sorted(glob.glob('{}/*.npy'.format(segmentation_dir)), key=number_key)\n",
    "segmentation_paths = [p for p in all_segmentation_paths if side_key(p) == 'left'] # we are working with left frame only\n",
    "depth_map_paths = sorted(glob.glob('{}/*.npy'.format(depth_map_dir)), key=number_key)\n",
    "annotation_paths = sorted(glob.glob('{}/*.json'.format(annotation_dir)), key=number_key) \n",
    "complete_data_list = zip(segmentation_paths, depth_map_paths, annotation_paths)\n",
    "\n",
    "\n",
    "TRAINING_SIZE = 2000\n",
    "train_data_list = [v for i, v in enumerate(complete_data_list) if i < TRAINING_SIZE]\n",
    "test_data_list = [v for i, v in enumerate(complete_data_list) if i > TRAINING_SIZE]\n",
    "\n",
    "\n"
   ]
  },
  {
   "cell_type": "code",
   "execution_count": null,
   "metadata": {},
   "outputs": [],
   "source": []
  },
  {
   "cell_type": "code",
   "execution_count": null,
   "metadata": {},
   "outputs": [],
   "source": []
  },
  {
   "cell_type": "code",
   "execution_count": 80,
   "metadata": {},
   "outputs": [],
   "source": [
    "sm = cm.ScalarMappable(cmap='hot')\n",
    "sm.set_clim(vmin=0, vmax=20)\n",
    "\n",
    "WIDTH = 2*300\n",
    "def convert_to_scaled_rgb_image(segmentation_mask, depth_map, annotation):    \n",
    "    projected_depth_map = get_point_cloud(depth_map, annotation['focal_length'], \n",
    "                                          annotation['sensor_height'], \n",
    "                                          annotation['sensor_width'])[:,:,1]\n",
    "    segmentation_i_values, segmentation_j_values = np.where(segmentation_mask > 0)\n",
    "    centroid = (int(round(segmentation_i_values.mean())), int(round(segmentation_j_values.mean())))\n",
    "    \n",
    "    \n",
    "    lower_i_value = max(centroid[0]-WIDTH/2, 0)\n",
    "    upper_i_value = min(centroid[0]+WIDTH/2, segmentation_mask.shape[0])\n",
    "    lower_j_value = max(centroid[1]-WIDTH/2, 0)\n",
    "    upper_j_value = min(centroid[1]+WIDTH/2, segmentation_mask.shape[1])\n",
    "    \n",
    "    segmentation_crop = segmentation_mask[lower_i_value:upper_i_value, lower_j_value:upper_j_value]\n",
    "    depth_map_crop = depth_map[lower_i_value:upper_i_value, lower_j_value:upper_j_value]\n",
    "    segmentation_crop_i_values, segmentation_crop_j_values = np.where(segmentation_crop > 0)\n",
    "    crop_centroid = (int(round(segmentation_crop_i_values.mean())), int(round(segmentation_crop_j_values.mean())))\n",
    "    \n",
    "    cleaned_depth_map_crop = segmentation_crop * depth_map_crop\n",
    "    plt.imshow(cleaned_depth_map_crop)\n",
    "    \n",
    "    centered_depth_map_crop = np.zeros([WIDTH, WIDTH])\n",
    "    \n",
    "    crop_lower_i_value = max((WIDTH)/2-crop_centroid[0], 0)\n",
    "    crop_upper_i_value = crop_lower_i_value + cleaned_depth_map_crop.shape[0]\n",
    "    crop_lower_j_value = max((WIDTH)/2-crop_centroid[1], 0)\n",
    "    crop_upper_j_value = crop_lower_i_value + cleaned_depth_map_crop.shape[1]\n",
    "    \n",
    "    \n",
    "    centered_depth_map_crop[crop_lower_i_value:crop_upper_i_value, crop_lower_j_value:crop_upper_j_value] = cleaned_depth_map_crop\n",
    "    \n",
    "    rgb_image = sm.to_rgba(centered_depth_map_crop, bytes=True)[:,:,:3]\n",
    "    \n",
    "    scaled_rgb_image = np.array(Image.fromarray(rgb_image).resize((224, 224)))\n",
    "    return scaled_rgb_image\n",
    "        \n"
   ]
  },
  {
   "cell_type": "code",
   "execution_count": 82,
   "metadata": {
    "scrolled": true
   },
   "outputs": [
    {
     "name": "stdout",
     "output_type": "stream",
     "text": [
      "0\n"
     ]
    },
    {
     "data": {
      "text/plain": [
       "<matplotlib.image.AxesImage at 0x7f635edaadd0>"
      ]
     },
     "execution_count": 82,
     "metadata": {},
     "output_type": "execute_result"
    },
    {
     "data": {
      "image/png": "[encoded data removed]",
      "text/plain": [
       "<matplotlib.figure.Figure at 0x7f635ec4a250>"
      ]
     },
     "metadata": {},
     "output_type": "display_data"
    }
   ],
   "source": [
    "idx = 6\n",
    "a= convert_to_scaled_rgb_image(np.load(segmentation_paths[idx]), \n",
    "                               np.load(depth_map_paths[idx]).T, \n",
    "                               json.load(open(annotation_paths[idx], 'rb')))\n",
    "plt.imshow(a)"
   ]
  },
  {
   "cell_type": "code",
   "execution_count": null,
   "metadata": {},
   "outputs": [],
   "source": []
  },
  {
   "cell_type": "code",
   "execution_count": null,
   "metadata": {},
   "outputs": [],
   "source": []
  },
  {
   "cell_type": "code",
   "execution_count": null,
   "metadata": {},
   "outputs": [],
   "source": []
  },
  {
   "cell_type": "code",
   "execution_count": null,
   "metadata": {},
   "outputs": [],
   "source": []
  },
  {
   "cell_type": "code",
   "execution_count": null,
   "metadata": {},
   "outputs": [],
   "source": []
  },
  {
   "cell_type": "code",
   "execution_count": 16,
   "metadata": {},
   "outputs": [],
   "source": [
    "def generator(data_list, steps_per_epoch, BATCH_SIZE, INPUT_SHAPE):\n",
    "    i = 0\n",
    "    while True:\n",
    "        x_batch = np.empty((BATCH_SIZE, INPUT_SHAPE[0], INPUT_SHAPE[1], INPUT_SHAPE[2]))\n",
    "        y_batch = np.empty((BATCH_SIZE, 1))\n",
    "        for (ind, j) in enumerate(range(i*BATCH_SIZE, min((i+1)*BATCH_SIZE, len(data_list)))):\n",
    "            image = Image.load(data[j][0])\n",
    "            segmentation_mask = np.load(data_list[j][1])\n",
    "            depth_map = np.load(data_list[j][2]).T\n",
    "            annotation = json.load(open(data_list[j][3], 'rb'))\n",
    "            scaled_depth_map = convert_to_scaled_rgb_image(segmentation_mask, depth_map, annotation)\n",
    "            \n",
    "#             volume_class = get_volume_class_from_numeric_value(annotation['volume'])\n",
    "            x_batch[ind, ...] = scaled_depth_map / 255.0\n",
    "            y_batch[ind] = annotation['volume']\n",
    "            \n",
    "        i += 1\n",
    "        if i >= steps_per_epoch:\n",
    "            i = 0\n",
    "        yield x_batch, y_batch"
   ]
  },
  {
   "cell_type": "code",
   "execution_count": null,
   "metadata": {},
   "outputs": [],
   "source": []
  },
  {
   "cell_type": "code",
   "execution_count": null,
   "metadata": {},
   "outputs": [],
   "source": []
  },
  {
   "cell_type": "code",
   "execution_count": 17,
   "metadata": {},
   "outputs": [
    {
     "name": "stdout",
     "output_type": "stream",
     "text": [
      "_________________________________________________________________\n",
      "Layer (type)                 Output Shape              Param #   \n",
      "=================================================================\n",
      "input_2 (InputLayer)         (None, 224, 224, 3)       0         \n",
      "_________________________________________________________________\n",
      "block1_conv1 (Conv2D)        (None, 224, 224, 64)      1792      \n",
      "_________________________________________________________________\n",
      "block1_conv2 (Conv2D)        (None, 224, 224, 64)      36928     \n",
      "_________________________________________________________________\n",
      "block1_pool (MaxPooling2D)   (None, 112, 112, 64)      0         \n",
      "_________________________________________________________________\n",
      "block2_conv1 (Conv2D)        (None, 112, 112, 128)     73856     \n",
      "_________________________________________________________________\n",
      "block2_conv2 (Conv2D)        (None, 112, 112, 128)     147584    \n",
      "_________________________________________________________________\n",
      "block2_pool (MaxPooling2D)   (None, 56, 56, 128)       0         \n",
      "_________________________________________________________________\n",
      "block3_conv1 (Conv2D)        (None, 56, 56, 256)       295168    \n",
      "_________________________________________________________________\n",
      "block3_conv2 (Conv2D)        (None, 56, 56, 256)       590080    \n",
      "_________________________________________________________________\n",
      "block3_conv3 (Conv2D)        (None, 56, 56, 256)       590080    \n",
      "_________________________________________________________________\n",
      "block3_pool (MaxPooling2D)   (None, 28, 28, 256)       0         \n",
      "_________________________________________________________________\n",
      "block4_conv1 (Conv2D)        (None, 28, 28, 512)       1180160   \n",
      "_________________________________________________________________\n",
      "block4_conv2 (Conv2D)        (None, 28, 28, 512)       2359808   \n",
      "_________________________________________________________________\n",
      "block4_conv3 (Conv2D)        (None, 28, 28, 512)       2359808   \n",
      "_________________________________________________________________\n",
      "block4_pool (MaxPooling2D)   (None, 14, 14, 512)       0         \n",
      "_________________________________________________________________\n",
      "block5_conv1 (Conv2D)        (None, 14, 14, 512)       2359808   \n",
      "_________________________________________________________________\n",
      "block5_conv2 (Conv2D)        (None, 14, 14, 512)       2359808   \n",
      "_________________________________________________________________\n",
      "block5_conv3 (Conv2D)        (None, 14, 14, 512)       2359808   \n",
      "_________________________________________________________________\n",
      "block5_pool (MaxPooling2D)   (None, 7, 7, 512)         0         \n",
      "_________________________________________________________________\n",
      "flatten (Flatten)            (None, 25088)             0         \n",
      "_________________________________________________________________\n",
      "fc1 (Dense)                  (None, 4096)              102764544 \n",
      "_________________________________________________________________\n",
      "fc2 (Dense)                  (None, 4096)              16781312  \n",
      "_________________________________________________________________\n",
      "predictions (Dense)          (None, 1)                 4097      \n",
      "=================================================================\n",
      "Total params: 134,264,641\n",
      "Trainable params: 134,264,641\n",
      "Non-trainable params: 0\n",
      "_________________________________________________________________\n"
     ]
    },
    {
     "name": "stderr",
     "output_type": "stream",
     "text": [
      "/usr/local/lib/python2.7/dist-packages/ipykernel_launcher.py:8: UserWarning: Update your `Model` call to the Keras 2 API: `Model(outputs=Tensor(\"pr..., inputs=Tensor(\"in...)`\n",
      "  \n"
     ]
    }
   ],
   "source": [
    "# Generate a model with all layers (with top)\n",
    "vgg16 = VGG16(weights=None, include_top=True)\n",
    "\n",
    "#Add a layer where input is the output of the  second last layer \n",
    "x = Dense(1, name='predictions')(vgg16.layers[-2].output)\n",
    "\n",
    "#Then create the corresponding model \n",
    "model = Model(input=vgg16.input, output=x)\n",
    "model.summary()"
   ]
  },
  {
   "cell_type": "code",
   "execution_count": 18,
   "metadata": {},
   "outputs": [],
   "source": [
    "optimizer = keras.optimizers.adam(lr=0.0001, decay=0.1)\n",
    "model.compile(loss='mean_absolute_error',\n",
    "              optimizer=optimizer,\n",
    "              metrics=['accuracy'])"
   ]
  },
  {
   "cell_type": "code",
   "execution_count": null,
   "metadata": {},
   "outputs": [],
   "source": []
  },
  {
   "cell_type": "code",
   "execution_count": 19,
   "metadata": {
    "scrolled": true
   },
   "outputs": [],
   "source": [
    "BATCH_SIZE = 25\n",
    "steps_per_epoch = int(len(train_data_list)/BATCH_SIZE)\n",
    "gen = generator(train_data_list, steps_per_epoch, BATCH_SIZE, (224, 224, 3))"
   ]
  },
  {
   "cell_type": "code",
   "execution_count": null,
   "metadata": {
    "scrolled": false
   },
   "outputs": [
    {
     "name": "stdout",
     "output_type": "stream",
     "text": [
      "Epoch 1/100\n",
      "80/80 [==============================] - 226s 3s/step - loss: 1817.9600 - acc: 0.0000e+00\n",
      "Epoch 2/100\n",
      "80/80 [==============================] - 167s 2s/step - loss: 1227.8991 - acc: 0.0000e+00\n",
      "Epoch 3/100\n",
      "80/80 [==============================] - 167s 2s/step - loss: 965.5394 - acc: 0.0000e+00\n",
      "Epoch 4/100\n",
      "51/80 [==================>...........] - ETA: 1:00 - loss: 719.4871 - acc: 0.0000e+00"
     ]
    }
   ],
   "source": [
    "model.fit_generator(gen, steps_per_epoch=steps_per_epoch, epochs=100, verbose=True)"
   ]
  },
  {
   "cell_type": "code",
   "execution_count": null,
   "metadata": {
    "scrolled": true
   },
   "outputs": [],
   "source": [
    "eval_gen = generator(test_data_list, steps_per_epoch, BATCH_SIZE, (224, 224, 3))\n",
    "scores = model.evaluate_generator(eval_gen, 1)"
   ]
  },
  {
   "cell_type": "code",
   "execution_count": null,
   "metadata": {},
   "outputs": [],
   "source": []
  },
  {
   "cell_type": "code",
   "execution_count": 68,
   "metadata": {
    "scrolled": false
   },
   "outputs": [],
   "source": [
    "eval_gen = generator(test_data_list, steps_per_epoch, BATCH_SIZE, (224, 224, 3))\n",
    "predictions = model.predict_generator(eval_gen, 120)"
   ]
  },
  {
   "cell_type": "code",
   "execution_count": 69,
   "metadata": {},
   "outputs": [],
   "source": [
    "ground_truth_values = np.array([])\n",
    "for i in range(120*25):\n",
    "    annotation = json.load(open(test_data_list[i][2], 'rb'))\n",
    "    ground_truth_values = np.append(ground_truth_values, annotation['volume'])"
   ]
  },
  {
   "cell_type": "code",
   "execution_count": 28,
   "metadata": {
    "scrolled": true
   },
   "outputs": [
    {
     "data": {
      "text/plain": [
       "array([2068.00994581, 1983.57114122, 5667.58181159, 2049.77426155,\n",
       "       1528.27865757, 1679.62820886, 1947.34439018,  684.62315282,\n",
       "       2434.38040172, 5113.82745715, 8486.68708593, 7273.50315184,\n",
       "       3423.50665138, 6234.69380593, 3862.53731828, 6785.19899183,\n",
       "       3708.29718001, 7386.69905305, 5573.30013394, 5137.94349751,\n",
       "       2104.43053116, 7616.8387957 , 4965.50153042, 1031.97936857,\n",
       "        653.68714871,  795.52886466, 4588.47304829, 1055.92267465,\n",
       "       2831.32756492, 2327.26298245, 3519.36642167, 8371.00638618,\n",
       "       3409.9339579 , 2145.05276732,  641.34302622, 2712.55266872,\n",
       "       7792.95574693, 2475.12041666,  411.3280957 , 2891.24525597,\n",
       "        414.19034068, 1166.19174925,  415.51776598, 3304.26350106,\n",
       "        764.68483052, 5550.34090059,  706.34773551, 2391.911852  ,\n",
       "       1171.72532551,  862.73221058, 1208.00440943, 2103.96966803,\n",
       "       3018.69930411, 1784.1289841 , 5950.56608098, 3310.11119381,\n",
       "       5423.55895446, 4088.90170256, 8093.99164143, 2328.52493205,\n",
       "        625.89236912, 7395.85289639,  740.82330201,  412.64455375,\n",
       "       3639.46883259, 4942.21327941, 1244.12649471, 5409.60336072,\n",
       "        906.01412532,  761.74357958, 7037.24368083, 5995.10171988,\n",
       "       4048.26230026, 4939.36656144, 2577.69977649, 7194.46500515,\n",
       "       1093.74444606, 1260.13081939, 6078.36225979, 4277.64530231,\n",
       "       1970.32043205, 3071.12707516,  781.93119684, 2551.58674203,\n",
       "       8311.67353593, 1083.72037487, 1169.28654176, 2963.83370297,\n",
       "       5667.56750647, 1415.86202752, 1290.95750858, 1303.13724144,\n",
       "       8445.82118597, 4799.03337951, 6240.54030659,  791.53463803,\n",
       "       5820.74477467, 5505.62501724, 1764.43513175,  542.10581819,\n",
       "       3285.51521684, 3178.40876483, 7098.41616892, 1540.60442182,\n",
       "       1603.15508857, 4731.69681721, 4550.8014806 ,  653.04043828,\n",
       "       3068.75767121,  515.22966542, 2088.30675878, 3086.22064082,\n",
       "       1942.31995682, 2341.89473131, 6989.14177667, 8584.87072221,\n",
       "       1509.0720136 , 3609.52488823, 1606.15081815,  450.88150133,\n",
       "       6030.57077664, 4480.43747904, 2151.24235233,  670.71059364,\n",
       "       4051.82379716])"
      ]
     },
     "execution_count": 28,
     "metadata": {},
     "output_type": "execute_result"
    }
   ],
   "source": [
    "ground_truth_values"
   ]
  },
  {
   "cell_type": "code",
   "execution_count": null,
   "metadata": {
    "scrolled": false
   },
   "outputs": [],
   "source": []
  },
  {
   "cell_type": "code",
   "execution_count": 50,
   "metadata": {
    "scrolled": true
   },
   "outputs": [
    {
     "data": {
      "text/plain": [
       "array([2068.00994581, 1983.57114122, 5667.58181159, 2049.77426155,\n",
       "       1528.27865757, 1679.62820886, 1947.34439018,  684.62315282,\n",
       "       2434.38040172, 5113.82745715, 8486.68708593, 7273.50315184,\n",
       "       3423.50665138, 6234.69380593, 3862.53731828, 6785.19899183,\n",
       "       3708.29718001, 7386.69905305, 5573.30013394, 5137.94349751,\n",
       "       2104.43053116, 7616.8387957 , 4965.50153042, 1031.97936857,\n",
       "        653.68714871,  795.52886466, 4588.47304829, 1055.92267465,\n",
       "       2831.32756492, 2327.26298245, 3519.36642167, 8371.00638618,\n",
       "       3409.9339579 , 2145.05276732,  641.34302622, 2712.55266872,\n",
       "       7792.95574693, 2475.12041666,  411.3280957 , 2891.24525597,\n",
       "        414.19034068, 1166.19174925,  415.51776598, 3304.26350106,\n",
       "        764.68483052, 5550.34090059,  706.34773551, 2391.911852  ,\n",
       "       1171.72532551,  862.73221058, 1208.00440943, 2103.96966803,\n",
       "       3018.69930411, 1784.1289841 , 5950.56608098, 3310.11119381,\n",
       "       5423.55895446, 4088.90170256, 8093.99164143, 2328.52493205,\n",
       "        625.89236912, 7395.85289639,  740.82330201,  412.64455375,\n",
       "       3639.46883259, 4942.21327941, 1244.12649471, 5409.60336072,\n",
       "        906.01412532,  761.74357958, 7037.24368083, 5995.10171988,\n",
       "       4048.26230026, 4939.36656144, 2577.69977649, 7194.46500515,\n",
       "       1093.74444606, 1260.13081939, 6078.36225979, 4277.64530231,\n",
       "       1970.32043205, 3071.12707516,  781.93119684, 2551.58674203,\n",
       "       8311.67353593, 1083.72037487, 1169.28654176, 2963.83370297,\n",
       "       5667.56750647, 1415.86202752, 1290.95750858, 1303.13724144,\n",
       "       8445.82118597, 4799.03337951, 6240.54030659,  791.53463803,\n",
       "       5820.74477467, 5505.62501724, 1764.43513175,  542.10581819,\n",
       "       3285.51521684, 3178.40876483, 7098.41616892, 1540.60442182,\n",
       "       1603.15508857, 4731.69681721, 4550.8014806 ,  653.04043828,\n",
       "       3068.75767121,  515.22966542, 2088.30675878, 3086.22064082,\n",
       "       1942.31995682, 2341.89473131, 6989.14177667, 8584.87072221,\n",
       "       1509.0720136 , 3609.52488823, 1606.15081815,  450.88150133,\n",
       "       6030.57077664, 4480.43747904, 2151.24235233,  670.71059364,\n",
       "       4051.82379716])"
      ]
     },
     "execution_count": 50,
     "metadata": {},
     "output_type": "execute_result"
    }
   ],
   "source": [
    "ground_truth_values"
   ]
  },
  {
   "cell_type": "code",
   "execution_count": 56,
   "metadata": {
    "scrolled": false
   },
   "outputs": [
    {
     "data": {
      "text/plain": [
       "3089.0618"
      ]
     },
     "execution_count": 56,
     "metadata": {},
     "output_type": "execute_result"
    }
   ],
   "source": [
    "predictions[:,0].mean()"
   ]
  },
  {
   "cell_type": "code",
   "execution_count": 70,
   "metadata": {},
   "outputs": [
    {
     "data": {
      "text/plain": [
       "0.023336538466413297"
      ]
     },
     "execution_count": 70,
     "metadata": {},
     "output_type": "execute_result"
    }
   ],
   "source": [
    "(ground_truth_values.mean() - predictions[:,0].mean())/(ground_truth_values.mean())"
   ]
  },
  {
   "cell_type": "code",
   "execution_count": null,
   "metadata": {},
   "outputs": [],
   "source": []
  },
  {
   "cell_type": "code",
   "execution_count": null,
   "metadata": {},
   "outputs": [],
   "source": []
  },
  {
   "cell_type": "code",
   "execution_count": null,
   "metadata": {},
   "outputs": [],
   "source": []
  },
  {
   "cell_type": "code",
   "execution_count": null,
   "metadata": {},
   "outputs": [],
   "source": []
  },
  {
   "cell_type": "code",
   "execution_count": null,
   "metadata": {},
   "outputs": [],
   "source": []
  },
  {
   "cell_type": "code",
   "execution_count": null,
   "metadata": {},
   "outputs": [],
   "source": []
  },
  {
   "cell_type": "code",
   "execution_count": null,
   "metadata": {
    "scrolled": true
   },
   "outputs": [],
   "source": []
  },
  {
   "cell_type": "code",
   "execution_count": null,
   "metadata": {},
   "outputs": [],
   "source": []
  },
  {
   "cell_type": "code",
   "execution_count": null,
   "metadata": {},
   "outputs": [],
   "source": []
  },
  {
   "cell_type": "code",
   "execution_count": null,
   "metadata": {},
   "outputs": [],
   "source": []
  },
  {
   "cell_type": "code",
   "execution_count": null,
   "metadata": {},
   "outputs": [],
   "source": []
  },
  {
   "cell_type": "code",
   "execution_count": null,
   "metadata": {},
   "outputs": [],
   "source": []
  },
  {
   "cell_type": "code",
   "execution_count": null,
   "metadata": {},
   "outputs": [],
   "source": []
  },
  {
   "cell_type": "code",
   "execution_count": null,
   "metadata": {},
   "outputs": [],
   "source": []
  },
  {
   "cell_type": "code",
   "execution_count": null,
   "metadata": {},
   "outputs": [],
   "source": []
  },
  {
   "cell_type": "code",
   "execution_count": null,
   "metadata": {},
   "outputs": [],
   "source": []
  }
 ],
 "metadata": {
  "kernelspec": {
   "display_name": "Python 2",
   "language": "python",
   "name": "python2"
  },
  "language_info": {
   "codemirror_mode": {
    "name": "ipython",
    "version": 2
   },
   "file_extension": ".py",
   "mimetype": "text/x-python",
   "name": "python",
   "nbconvert_exporter": "python",
   "pygments_lexer": "ipython2",
   "version": "2.7.12"
  }
 },
 "nbformat": 4,
 "nbformat_minor": 2
}
