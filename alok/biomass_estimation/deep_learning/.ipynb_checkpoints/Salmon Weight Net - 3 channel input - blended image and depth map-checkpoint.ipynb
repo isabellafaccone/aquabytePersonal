{
 "cells": [
  {
   "cell_type": "markdown",
   "metadata": {},
   "source": [
    "<h1> In this notebook, we will implement a neural network that regresses volume against segmentation + depth map </h1>"
   ]
  },
  {
   "cell_type": "code",
   "execution_count": 1,
   "metadata": {},
   "outputs": [
    {
     "name": "stderr",
     "output_type": "stream",
     "text": [
      "/usr/local/lib/python2.7/dist-packages/h5py/__init__.py:36: FutureWarning: Conversion of the second argument of issubdtype from `float` to `np.floating` is deprecated. In future, it will be treated as `np.float64 == np.dtype(float).type`.\n",
      "  from ._conv import register_converters as _register_converters\n",
      "Using TensorFlow backend.\n"
     ]
    }
   ],
   "source": [
    "%load_ext autoreload\n",
    "%autoreload 2\n",
    "\n",
    "import sys\n",
    "sys.path.append('/root/alok/github/cv_research/alok')\n",
    "\n",
    "import glob\n",
    "import json\n",
    "import os\n",
    "import numpy as np\n",
    "from PIL import Image\n",
    "\n",
    "import keras\n",
    "from keras.models import Model\n",
    "from keras.applications.vgg16 import VGG16\n",
    "from keras.layers import Input, Dense, Dropout, Activation, Flatten\n",
    "from keras.layers import Conv2D, MaxPooling2D\n",
    "from keras.utils import np_utils\n",
    "from keras.datasets import mnist\n",
    "from keras import backend as K\n",
    "from keras.backend import tf as ktf\n",
    "\n",
    "from matplotlib import pyplot as plt\n",
    "from matplotlib import cm\n",
    "from biomass_utils.points_of_interest import get_point_cloud\n",
    "\n",
    "%matplotlib inline\n",
    "\n",
    "os.environ[\"CUDA_VISIBLE_DEVICES\"]=\"0\"\n",
    "np.random.seed(1)"
   ]
  },
  {
   "cell_type": "code",
   "execution_count": 2,
   "metadata": {},
   "outputs": [],
   "source": [
    "# Get data ready\n",
    "\n",
    "data_path_base = '/root/data/blender_v3'\n",
    "image_dir = '{}/{}'.format(data_path_base, 'stereo_images')\n",
    "depth_map_dir = '{}/{}'.format(data_path_base, 'depth_map')\n",
    "segmentation_dir = '{}/{}'.format(data_path_base, 'mask')\n",
    "annotation_dir = '{}/{}'.format(data_path_base, 'annotations')\n",
    "\n",
    "number_key = lambda x: int(os.path.splitext(os.path.basename(x))[0].split('_')[-1])\n",
    "side_key = lambda x: os.path.splitext(os.path.basename(x))[0].split('_')[0]\n",
    "all_image_paths = sorted(glob.glob('{}/*.png'.format(image_dir)), key=number_key)\n",
    "image_paths = [p for p in all_image_paths if side_key(p) == 'left'] # we are working with left frame only\n",
    "all_segmentation_paths = sorted(glob.glob('{}/*.npy'.format(segmentation_dir)), key=number_key)\n",
    "segmentation_paths = [p for p in all_segmentation_paths if side_key(p) == 'left'] # we are working with left frame only\n",
    "depth_map_paths = sorted(glob.glob('{}/*.npy'.format(depth_map_dir)), key=number_key)\n",
    "annotation_paths = sorted(glob.glob('{}/*.json'.format(annotation_dir)), key=number_key) \n",
    "complete_data_list = zip(image_paths, segmentation_paths, depth_map_paths, annotation_paths)\n",
    "\n",
    "\n",
    "TRAINING_SIZE = 500\n",
    "train_data_list = [v for i, v in enumerate(complete_data_list) if i < TRAINING_SIZE]\n",
    "test_data_list = [v for i, v in enumerate(complete_data_list) if i > TRAINING_SIZE]\n"
   ]
  },
  {
   "cell_type": "code",
   "execution_count": 3,
   "metadata": {},
   "outputs": [],
   "source": [
    "sm = cm.ScalarMappable(cmap='hot')\n",
    "sm.set_clim(vmin=0, vmax=20)\n",
    "\n",
    "def convert_to_gradient_image(image_array, segmentation_mask, depth_map, annotation):    \n",
    "    projected_depth_map = get_point_cloud(depth_map, annotation['focal_length'], \n",
    "                                          annotation['sensor_height'], \n",
    "                                          annotation['sensor_width'])[:,:,1]\n",
    "    cleaned_depth_map = segmentation_mask * projected_depth_map\n",
    "    rgb_depth_map = sm.to_rgba(cleaned_depth_map, bytes=True)[:,:,:3]\n",
    "    image_array = image_array\n",
    "    image_array = np.dstack([image_array, np.ones((image_array.shape[0], image_array.shape[1], 1))*255]).astype('uint8')\n",
    "    rgb_depth_map = np.dstack([rgb_depth_map, np.ones((rgb_depth_map.shape[0], rgb_depth_map.shape[1], 1))*170]).astype('uint8')\n",
    "    composite_image = Image.alpha_composite(Image.fromarray(image_array), Image.fromarray(rgb_depth_map))\n",
    "    composite_image = composite_image * np.dstack([segmentation_mask, segmentation_mask, segmentation_mask, segmentation_mask])\n",
    "    composite_image = composite_image[:,:,:3]\n",
    "    return Image.fromarray(composite_image).resize((224, 224))\n",
    "    \n",
    "        \n"
   ]
  },
  {
   "cell_type": "code",
   "execution_count": 4,
   "metadata": {
    "scrolled": true
   },
   "outputs": [],
   "source": [
    "idx = 29\n",
    "a = convert_to_gradient_image(np.array(Image.open(image_paths[idx]))[:,:,:3],\n",
    "                                 np.load(segmentation_paths[idx]),\n",
    "                                 np.load(depth_map_paths[idx]).T, \n",
    "                                 json.load(open(annotation_paths[idx], 'rb')))\n"
   ]
  },
  {
   "cell_type": "code",
   "execution_count": null,
   "metadata": {
    "scrolled": false
   },
   "outputs": [],
   "source": []
  },
  {
   "cell_type": "code",
   "execution_count": null,
   "metadata": {},
   "outputs": [],
   "source": []
  },
  {
   "cell_type": "code",
   "execution_count": null,
   "metadata": {},
   "outputs": [],
   "source": []
  },
  {
   "cell_type": "code",
   "execution_count": null,
   "metadata": {},
   "outputs": [],
   "source": []
  },
  {
   "cell_type": "code",
   "execution_count": null,
   "metadata": {},
   "outputs": [],
   "source": []
  },
  {
   "cell_type": "code",
   "execution_count": null,
   "metadata": {},
   "outputs": [],
   "source": []
  },
  {
   "cell_type": "code",
   "execution_count": 5,
   "metadata": {},
   "outputs": [],
   "source": [
    "def generator(data_list, steps_per_epoch, BATCH_SIZE, INPUT_SHAPE):\n",
    "    i = 0\n",
    "    while True:\n",
    "        x_batch = np.empty((BATCH_SIZE, INPUT_SHAPE[0], INPUT_SHAPE[1], INPUT_SHAPE[2]))\n",
    "        y_batch = np.empty((BATCH_SIZE, 1))\n",
    "        for (ind, j) in enumerate(range(i*BATCH_SIZE, min((i+1)*BATCH_SIZE, len(data_list)))):\n",
    "            image_array = np.array(Image.open(data_list[j][0]))[:,:,:3]\n",
    "            segmentation_mask = np.load(data_list[j][1])\n",
    "            depth_map = np.load(data_list[j][2]).T\n",
    "            annotation = json.load(open(data_list[j][3], 'rb'))\n",
    "            four_channel_input = convert_to_gradient_image(image_array, segmentation_mask, depth_map, annotation)\n",
    "            x_batch[ind, ...] = four_channel_input\n",
    "            y_batch[ind] = annotation['volume']\n",
    "            print(data_list[j])\n",
    "            \n",
    "        i += 1\n",
    "        if i >= steps_per_epoch:\n",
    "            i = 0\n",
    "        yield x_batch, y_batch"
   ]
  },
  {
   "cell_type": "code",
   "execution_count": null,
   "metadata": {},
   "outputs": [],
   "source": []
  },
  {
   "cell_type": "code",
   "execution_count": null,
   "metadata": {},
   "outputs": [],
   "source": []
  },
  {
   "cell_type": "code",
   "execution_count": 6,
   "metadata": {
    "scrolled": true
   },
   "outputs": [
    {
     "name": "stdout",
     "output_type": "stream",
     "text": [
      "_________________________________________________________________\n",
      "Layer (type)                 Output Shape              Param #   \n",
      "=================================================================\n",
      "input_1 (InputLayer)         (None, 224, 224, 3)       0         \n",
      "_________________________________________________________________\n",
      "block1_conv1 (Conv2D)        (None, 224, 224, 64)      1792      \n",
      "_________________________________________________________________\n",
      "block1_conv2 (Conv2D)        (None, 224, 224, 64)      36928     \n",
      "_________________________________________________________________\n",
      "block1_pool (MaxPooling2D)   (None, 112, 112, 64)      0         \n",
      "_________________________________________________________________\n",
      "block2_conv1 (Conv2D)        (None, 112, 112, 128)     73856     \n",
      "_________________________________________________________________\n",
      "block2_conv2 (Conv2D)        (None, 112, 112, 128)     147584    \n",
      "_________________________________________________________________\n",
      "block2_pool (MaxPooling2D)   (None, 56, 56, 128)       0         \n",
      "_________________________________________________________________\n",
      "block3_conv1 (Conv2D)        (None, 56, 56, 256)       295168    \n",
      "_________________________________________________________________\n",
      "block3_conv2 (Conv2D)        (None, 56, 56, 256)       590080    \n",
      "_________________________________________________________________\n",
      "block3_conv3 (Conv2D)        (None, 56, 56, 256)       590080    \n",
      "_________________________________________________________________\n",
      "block3_pool (MaxPooling2D)   (None, 28, 28, 256)       0         \n",
      "_________________________________________________________________\n",
      "block4_conv1 (Conv2D)        (None, 28, 28, 512)       1180160   \n",
      "_________________________________________________________________\n",
      "block4_conv2 (Conv2D)        (None, 28, 28, 512)       2359808   \n",
      "_________________________________________________________________\n",
      "block4_conv3 (Conv2D)        (None, 28, 28, 512)       2359808   \n",
      "_________________________________________________________________\n",
      "block4_pool (MaxPooling2D)   (None, 14, 14, 512)       0         \n",
      "_________________________________________________________________\n",
      "block5_conv1 (Conv2D)        (None, 14, 14, 512)       2359808   \n",
      "_________________________________________________________________\n",
      "block5_conv2 (Conv2D)        (None, 14, 14, 512)       2359808   \n",
      "_________________________________________________________________\n",
      "block5_conv3 (Conv2D)        (None, 14, 14, 512)       2359808   \n",
      "_________________________________________________________________\n",
      "block5_pool (MaxPooling2D)   (None, 7, 7, 512)         0         \n",
      "_________________________________________________________________\n",
      "flatten (Flatten)            (None, 25088)             0         \n",
      "_________________________________________________________________\n",
      "fc1 (Dense)                  (None, 4096)              102764544 \n",
      "_________________________________________________________________\n",
      "fc2 (Dense)                  (None, 4096)              16781312  \n",
      "_________________________________________________________________\n",
      "predictions (Dense)          (None, 1)                 4097      \n",
      "=================================================================\n",
      "Total params: 134,264,641\n",
      "Trainable params: 134,264,641\n",
      "Non-trainable params: 0\n",
      "_________________________________________________________________\n"
     ]
    },
    {
     "name": "stderr",
     "output_type": "stream",
     "text": [
      "/usr/local/lib/python2.7/dist-packages/ipykernel_launcher.py:8: UserWarning: Update your `Model` call to the Keras 2 API: `Model(outputs=Tensor(\"pr..., inputs=Tensor(\"in...)`\n",
      "  \n"
     ]
    }
   ],
   "source": [
    "# Generate a model with all layers (with top)\n",
    "vgg16 = VGG16(weights=None, include_top=True)\n",
    "\n",
    "#Add a layer where input is the output of the  second last layer \n",
    "x = Dense(1, name='predictions')(vgg16.layers[-2].output)\n",
    "\n",
    "#Then create the corresponding model \n",
    "model = Model(input=vgg16.input, output=x)\n",
    "model.summary()"
   ]
  },
  {
   "cell_type": "code",
   "execution_count": 7,
   "metadata": {},
   "outputs": [],
   "source": [
    "optimizer = keras.optimizers.adam(lr=0.0001, decay=0.1)\n",
    "model.compile(loss='mean_absolute_error',\n",
    "              optimizer=optimizer,\n",
    "              metrics=['accuracy'])"
   ]
  },
  {
   "cell_type": "code",
   "execution_count": null,
   "metadata": {},
   "outputs": [],
   "source": []
  },
  {
   "cell_type": "code",
   "execution_count": 8,
   "metadata": {
    "scrolled": true
   },
   "outputs": [],
   "source": [
    "BATCH_SIZE = 25\n",
    "steps_per_epoch = int(len(train_data_list)/BATCH_SIZE)\n",
    "gen = generator(train_data_list, steps_per_epoch, BATCH_SIZE, (224, 224, 3))"
   ]
  },
  {
   "cell_type": "code",
   "execution_count": 9,
   "metadata": {
    "scrolled": false
   },
   "outputs": [
    {
     "name": "stdout",
     "output_type": "stream",
     "text": [
      "WARNING:tensorflow:Variable *= will be deprecated. Use variable.assign_mul if you want assignment to the variable value or 'x = x * y' if you want a new python Tensor object.\n",
      "Epoch 1/100\n",
      "20/20 [==============================] - 66s 3s/step - loss: 1852.4971 - acc: 0.0000e+00\n",
      "Epoch 2/100\n",
      "20/20 [==============================] - 64s 3s/step - loss: 903.1596 - acc: 0.0000e+00\n",
      "Epoch 3/100\n",
      "20/20 [==============================] - 64s 3s/step - loss: 603.1695 - acc: 0.0000e+00\n",
      "Epoch 4/100\n",
      "20/20 [==============================] - 64s 3s/step - loss: 414.4614 - acc: 0.0000e+00\n",
      "Epoch 5/100\n",
      "20/20 [==============================] - 64s 3s/step - loss: 334.3517 - acc: 0.0000e+00\n",
      "Epoch 6/100\n",
      "20/20 [==============================] - 64s 3s/step - loss: 306.7143 - acc: 0.0000e+00\n",
      "Epoch 7/100\n",
      "20/20 [==============================] - 64s 3s/step - loss: 287.0347 - acc: 0.0000e+00\n",
      "Epoch 8/100\n",
      "20/20 [==============================] - 64s 3s/step - loss: 289.5715 - acc: 0.0000e+00\n",
      "Epoch 9/100\n",
      "20/20 [==============================] - 64s 3s/step - loss: 288.8558 - acc: 0.0000e+00\n",
      "Epoch 10/100\n",
      "20/20 [==============================] - 64s 3s/step - loss: 282.7770 - acc: 0.0000e+00\n",
      "Epoch 11/100\n",
      "20/20 [==============================] - 64s 3s/step - loss: 277.2692 - acc: 0.0000e+00\n",
      "Epoch 12/100\n",
      "20/20 [==============================] - 64s 3s/step - loss: 272.8120 - acc: 0.0000e+00\n",
      "Epoch 13/100\n",
      "20/20 [==============================] - 64s 3s/step - loss: 271.1888 - acc: 0.0000e+00\n",
      "Epoch 14/100\n",
      "20/20 [==============================] - 64s 3s/step - loss: 270.1283 - acc: 0.0000e+00\n",
      "Epoch 15/100\n",
      "20/20 [==============================] - 64s 3s/step - loss: 268.1099 - acc: 0.0000e+00\n",
      "Epoch 16/100\n",
      "20/20 [==============================] - 64s 3s/step - loss: 267.2176 - acc: 0.0000e+00\n",
      "Epoch 17/100\n",
      "20/20 [==============================] - 64s 3s/step - loss: 266.0198 - acc: 0.0000e+00\n",
      "Epoch 18/100\n",
      "20/20 [==============================] - 64s 3s/step - loss: 265.1414 - acc: 0.0000e+00\n",
      "Epoch 19/100\n",
      "20/20 [==============================] - 64s 3s/step - loss: 266.8159 - acc: 0.0000e+00\n",
      "Epoch 20/100\n",
      "20/20 [==============================] - 64s 3s/step - loss: 264.6027 - acc: 0.0000e+00\n",
      "Epoch 21/100\n",
      "20/20 [==============================] - 64s 3s/step - loss: 264.4566 - acc: 0.0000e+00\n",
      "Epoch 22/100\n",
      "20/20 [==============================] - 64s 3s/step - loss: 265.5477 - acc: 0.0000e+00\n",
      "Epoch 23/100\n",
      "20/20 [==============================] - 64s 3s/step - loss: 266.6952 - acc: 0.0000e+00\n",
      "Epoch 24/100\n",
      "20/20 [==============================] - 64s 3s/step - loss: 271.2839 - acc: 0.0000e+00\n",
      "Epoch 25/100\n",
      "20/20 [==============================] - 64s 3s/step - loss: 284.4118 - acc: 0.0000e+00\n",
      "Epoch 26/100\n",
      "20/20 [==============================] - 64s 3s/step - loss: 285.6231 - acc: 0.0000e+00\n",
      "Epoch 27/100\n",
      "20/20 [==============================] - 64s 3s/step - loss: 289.8180 - acc: 0.0000e+00\n",
      "Epoch 28/100\n",
      "20/20 [==============================] - 64s 3s/step - loss: 279.4582 - acc: 0.0000e+00\n",
      "Epoch 29/100\n",
      "20/20 [==============================] - 64s 3s/step - loss: 270.4677 - acc: 0.0000e+00\n",
      "Epoch 30/100\n",
      "20/20 [==============================] - 64s 3s/step - loss: 264.3774 - acc: 0.0000e+00\n",
      "Epoch 31/100\n",
      "20/20 [==============================] - 64s 3s/step - loss: 266.5532 - acc: 0.0000e+00\n",
      "Epoch 32/100\n",
      "20/20 [==============================] - 64s 3s/step - loss: 263.4456 - acc: 0.0000e+00\n",
      "Epoch 33/100\n",
      "20/20 [==============================] - 64s 3s/step - loss: 262.0857 - acc: 0.0000e+00\n",
      "Epoch 34/100\n",
      "20/20 [==============================] - 64s 3s/step - loss: 261.3726 - acc: 0.0000e+00\n",
      "Epoch 35/100\n",
      "20/20 [==============================] - 64s 3s/step - loss: 261.3056 - acc: 0.0000e+00\n",
      "Epoch 36/100\n",
      "20/20 [==============================] - 64s 3s/step - loss: 263.4688 - acc: 0.0000e+00\n",
      "Epoch 37/100\n",
      "20/20 [==============================] - 64s 3s/step - loss: 259.1973 - acc: 0.0000e+00\n",
      "Epoch 38/100\n",
      "20/20 [==============================] - 64s 3s/step - loss: 258.7494 - acc: 0.0000e+00\n",
      "Epoch 39/100\n",
      "20/20 [==============================] - 64s 3s/step - loss: 257.6411 - acc: 0.0000e+00\n",
      "Epoch 40/100\n",
      "20/20 [==============================] - 64s 3s/step - loss: 258.3788 - acc: 0.0000e+00\n",
      "Epoch 41/100\n",
      "20/20 [==============================] - 64s 3s/step - loss: 257.7310 - acc: 0.0000e+00\n",
      "Epoch 42/100\n",
      "20/20 [==============================] - 64s 3s/step - loss: 256.7312 - acc: 0.0000e+00\n",
      "Epoch 43/100\n",
      "20/20 [==============================] - 64s 3s/step - loss: 254.9192 - acc: 0.0000e+00\n",
      "Epoch 46/100\n",
      "20/20 [==============================] - 64s 3s/step - loss: 257.2304 - acc: 0.0000e+00\n",
      "Epoch 47/100\n",
      "20/20 [==============================] - 64s 3s/step - loss: 257.7601 - acc: 0.0000e+00\n",
      "Epoch 48/100\n",
      "20/20 [==============================] - 64s 3s/step - loss: 255.7402 - acc: 0.0000e+00\n",
      "Epoch 49/100\n",
      "20/20 [==============================] - 64s 3s/step - loss: 254.1326 - acc: 0.0000e+00\n",
      "Epoch 50/100\n",
      "20/20 [==============================] - 64s 3s/step - loss: 253.8356 - acc: 0.0000e+00\n",
      "Epoch 51/100\n",
      "20/20 [==============================] - 64s 3s/step - loss: 252.9833 - acc: 0.0000e+00\n",
      "Epoch 52/100\n",
      "20/20 [==============================] - 64s 3s/step - loss: 253.1216 - acc: 0.0000e+00\n",
      "Epoch 53/100\n",
      "20/20 [==============================] - 64s 3s/step - loss: 253.3710 - acc: 0.0000e+00\n",
      "Epoch 54/100\n",
      "20/20 [==============================] - 64s 3s/step - loss: 252.5933 - acc: 0.0000e+00\n",
      "Epoch 55/100\n",
      "20/20 [==============================] - 64s 3s/step - loss: 251.9172 - acc: 0.0000e+00\n",
      "Epoch 56/100\n",
      "20/20 [==============================] - 64s 3s/step - loss: 252.0428 - acc: 0.0000e+00\n",
      "Epoch 57/100\n",
      "20/20 [==============================] - 64s 3s/step - loss: 252.2899 - acc: 0.0000e+00\n",
      "Epoch 58/100\n",
      "20/20 [==============================] - 64s 3s/step - loss: 251.6035 - acc: 0.0000e+00\n",
      "Epoch 59/100\n",
      "20/20 [==============================] - 64s 3s/step - loss: 250.9077 - acc: 0.0000e+00\n",
      "Epoch 60/100\n",
      "20/20 [==============================] - 64s 3s/step - loss: 251.0435 - acc: 0.0000e+00\n",
      "Epoch 61/100\n",
      "20/20 [==============================] - 64s 3s/step - loss: 250.1949 - acc: 0.0000e+00\n",
      "Epoch 62/100\n",
      "20/20 [==============================] - 64s 3s/step - loss: 249.6110 - acc: 0.0000e+00\n",
      "Epoch 63/100\n",
      "20/20 [==============================] - 64s 3s/step - loss: 249.6166 - acc: 0.0000e+00\n",
      "Epoch 64/100\n",
      "20/20 [==============================] - 64s 3s/step - loss: 248.9326 - acc: 0.0000e+00\n",
      "Epoch 65/100\n",
      "20/20 [==============================] - 64s 3s/step - loss: 249.5321 - acc: 0.0000e+00\n",
      "Epoch 66/100\n",
      "20/20 [==============================] - 64s 3s/step - loss: 249.5003 - acc: 0.0000e+00\n",
      "Epoch 67/100\n",
      "20/20 [==============================] - 64s 3s/step - loss: 248.6225 - acc: 0.0000e+00\n",
      "Epoch 68/100\n",
      "20/20 [==============================] - 64s 3s/step - loss: 248.3345 - acc: 0.0000e+00\n",
      "Epoch 69/100\n",
      "20/20 [==============================] - 64s 3s/step - loss: 248.1963 - acc: 0.0000e+00\n",
      "Epoch 70/100\n",
      "20/20 [==============================] - 64s 3s/step - loss: 247.9011 - acc: 0.0000e+00\n",
      "Epoch 71/100\n",
      "20/20 [==============================] - 64s 3s/step - loss: 247.7017 - acc: 0.0000e+00\n",
      "Epoch 72/100\n",
      "20/20 [==============================] - 64s 3s/step - loss: 247.3906 - acc: 0.0000e+00\n",
      "Epoch 73/100\n",
      "20/20 [==============================] - 64s 3s/step - loss: 247.0899 - acc: 0.0000e+00\n",
      "Epoch 74/100\n",
      "20/20 [==============================] - 64s 3s/step - loss: 246.9461 - acc: 0.0000e+00\n",
      "Epoch 75/100\n",
      "20/20 [==============================] - 64s 3s/step - loss: 247.1210 - acc: 0.0000e+00\n",
      "Epoch 76/100\n",
      "20/20 [==============================] - 64s 3s/step - loss: 246.4884 - acc: 0.0000e+00\n",
      "Epoch 77/100\n",
      "20/20 [==============================] - 64s 3s/step - loss: 246.3336 - acc: 0.0000e+00\n",
      "Epoch 78/100\n",
      "20/20 [==============================] - 64s 3s/step - loss: 246.1452 - acc: 0.0000e+00\n",
      "Epoch 79/100\n",
      "20/20 [==============================] - 64s 3s/step - loss: 245.9033 - acc: 0.0000e+00\n",
      "Epoch 80/100\n",
      "20/20 [==============================] - 64s 3s/step - loss: 245.4857 - acc: 0.0000e+00\n",
      "Epoch 81/100\n",
      "20/20 [==============================] - 64s 3s/step - loss: 245.4900 - acc: 0.0000e+00\n",
      "Epoch 82/100\n",
      "20/20 [==============================] - 64s 3s/step - loss: 245.4056 - acc: 0.0000e+00\n",
      "Epoch 83/100\n",
      "20/20 [==============================] - 64s 3s/step - loss: 245.1801 - acc: 0.0000e+00\n",
      "Epoch 84/100\n",
      "20/20 [==============================] - 64s 3s/step - loss: 244.8300 - acc: 0.0000e+00\n",
      "Epoch 85/100\n",
      "20/20 [==============================] - 64s 3s/step - loss: 245.0586 - acc: 0.0000e+00\n",
      "Epoch 86/100\n",
      "20/20 [==============================] - 64s 3s/step - loss: 244.5891 - acc: 0.0000e+00\n",
      "Epoch 87/100\n",
      "20/20 [==============================] - 64s 3s/step - loss: 244.5578 - acc: 0.0000e+00\n",
      "Epoch 88/100\n",
      "20/20 [==============================] - 64s 3s/step - loss: 244.5504 - acc: 0.0000e+00\n",
      "Epoch 89/100\n",
      "20/20 [==============================] - 64s 3s/step - loss: 243.8655 - acc: 0.0000e+00\n",
      "Epoch 90/100\n",
      "20/20 [==============================] - 64s 3s/step - loss: 243.8056 - acc: 0.0000e+00\n",
      "Epoch 91/100\n",
      "20/20 [==============================] - 64s 3s/step - loss: 243.9896 - acc: 0.0000e+00\n",
      "Epoch 92/100\n",
      "20/20 [==============================] - 64s 3s/step - loss: 243.4745 - acc: 0.0000e+00\n",
      "Epoch 93/100\n",
      "20/20 [==============================] - 64s 3s/step - loss: 243.3085 - acc: 0.0000e+00\n",
      "Epoch 94/100\n",
      "20/20 [==============================] - 64s 3s/step - loss: 243.2497 - acc: 0.0000e+00\n",
      "Epoch 95/100\n",
      "20/20 [==============================] - 64s 3s/step - loss: 243.2909 - acc: 0.0000e+00\n",
      "Epoch 96/100\n",
      "20/20 [==============================] - 64s 3s/step - loss: 242.8165 - acc: 0.0000e+00\n",
      "Epoch 97/100\n",
      "20/20 [==============================] - 64s 3s/step - loss: 243.0349 - acc: 0.0000e+00\n",
      "Epoch 98/100\n",
      "20/20 [==============================] - 64s 3s/step - loss: 242.6039 - acc: 0.0000e+00\n",
      "Epoch 99/100\n",
      "20/20 [==============================] - 64s 3s/step - loss: 242.5013 - acc: 0.0000e+00\n",
      "Epoch 100/100\n",
      "20/20 [==============================] - 64s 3s/step - loss: 242.4467 - acc: 0.0000e+00\n"
     ]
    },
    {
     "data": {
      "text/plain": [
       "<keras.callbacks.History at 0x7ff5dbb88fd0>"
      ]
     },
     "execution_count": 9,
     "metadata": {},
     "output_type": "execute_result"
    }
   ],
   "source": [
    "model.fit_generator(gen, steps_per_epoch=steps_per_epoch, epochs=100, verbose=True)"
   ]
  },
  {
   "cell_type": "code",
   "execution_count": 1,
   "metadata": {
    "scrolled": true
   },
   "outputs": [
    {
     "ename": "NameError",
     "evalue": "name 'generator' is not defined",
     "output_type": "error",
     "traceback": [
      "\u001b[0;31m\u001b[0m",
      "\u001b[0;31mNameError\u001b[0mTraceback (most recent call last)",
      "\u001b[0;32m<ipython-input-1-7180dd85e7e5>\u001b[0m in \u001b[0;36m<module>\u001b[0;34m()\u001b[0m\n\u001b[0;32m----> 1\u001b[0;31m \u001b[0meval_gen\u001b[0m \u001b[0;34m=\u001b[0m \u001b[0mgenerator\u001b[0m\u001b[0;34m(\u001b[0m\u001b[0mtest_data_list\u001b[0m\u001b[0;34m,\u001b[0m \u001b[0mnp\u001b[0m\u001b[0;34m.\u001b[0m\u001b[0minf\u001b[0m\u001b[0;34m,\u001b[0m \u001b[0mBATCH_SIZE\u001b[0m\u001b[0;34m,\u001b[0m \u001b[0;34m(\u001b[0m\u001b[0;36m224\u001b[0m\u001b[0;34m,\u001b[0m \u001b[0;36m224\u001b[0m\u001b[0;34m,\u001b[0m \u001b[0;36m3\u001b[0m\u001b[0;34m)\u001b[0m\u001b[0;34m)\u001b[0m\u001b[0;34m\u001b[0m\u001b[0m\n\u001b[0m\u001b[1;32m      2\u001b[0m \u001b[0mscores\u001b[0m \u001b[0;34m=\u001b[0m \u001b[0mmodel\u001b[0m\u001b[0;34m.\u001b[0m\u001b[0mevaluate_generator\u001b[0m\u001b[0;34m(\u001b[0m\u001b[0meval_gen\u001b[0m\u001b[0;34m,\u001b[0m \u001b[0;36m50\u001b[0m\u001b[0;34m)\u001b[0m\u001b[0;34m\u001b[0m\u001b[0m\n",
      "\u001b[0;31mNameError\u001b[0m: name 'generator' is not defined"
     ]
    }
   ],
   "source": [
    "eval_gen = generator(test_data_list, np.inf, BATCH_SIZE, (224, 224, 3))\n",
    "scores = model.evaluate_generator(eval_gen, 50)"
   ]
  },
  {
   "cell_type": "code",
   "execution_count": null,
   "metadata": {},
   "outputs": [],
   "source": []
  },
  {
   "cell_type": "code",
   "execution_count": 28,
   "metadata": {
    "scrolled": true
   },
   "outputs": [],
   "source": [
    "eval_gen = generator(test_data_list, np.inf, BATCH_SIZE, (224, 224, 3))\n",
    "predictions = model.predict_generator(eval_gen, 120)"
   ]
  },
  {
   "cell_type": "code",
   "execution_count": 29,
   "metadata": {},
   "outputs": [],
   "source": [
    "ground_truth_values = np.array([])\n",
    "for i in range(120*25):\n",
    "    annotation = json.load(open(test_data_list[i][3], 'rb'))\n",
    "    ground_truth_values = np.append(ground_truth_values, annotation['volume'])"
   ]
  },
  {
   "cell_type": "code",
   "execution_count": null,
   "metadata": {
    "scrolled": true
   },
   "outputs": [],
   "source": []
  },
  {
   "cell_type": "code",
   "execution_count": null,
   "metadata": {
    "scrolled": true
   },
   "outputs": [],
   "source": []
  },
  {
   "cell_type": "code",
   "execution_count": null,
   "metadata": {
    "scrolled": true
   },
   "outputs": [],
   "source": []
  },
  {
   "cell_type": "code",
   "execution_count": null,
   "metadata": {
    "scrolled": false
   },
   "outputs": [],
   "source": []
  },
  {
   "cell_type": "code",
   "execution_count": 30,
   "metadata": {},
   "outputs": [
    {
     "data": {
      "text/plain": [
       "0.015226438229773941"
      ]
     },
     "execution_count": 30,
     "metadata": {},
     "output_type": "execute_result"
    }
   ],
   "source": [
    "(ground_truth_values.mean() - predictions[:,0].mean())/(ground_truth_values.mean())"
   ]
  },
  {
   "cell_type": "code",
   "execution_count": null,
   "metadata": {},
   "outputs": [],
   "source": []
  },
  {
   "cell_type": "code",
   "execution_count": 16,
   "metadata": {},
   "outputs": [
    {
     "data": {
      "text/plain": [
       "array([2068.00994581, 1983.57114122, 5667.58181159, ...,  543.67955969,\n",
       "       7200.4383445 ,  786.05285821])"
      ]
     },
     "execution_count": 16,
     "metadata": {},
     "output_type": "execute_result"
    }
   ],
   "source": [
    "ground_truth_values"
   ]
  },
  {
   "cell_type": "code",
   "execution_count": 17,
   "metadata": {},
   "outputs": [
    {
     "data": {
      "text/plain": [
       "array([2074.5874, 1821.5377, 5909.4644, ...,  659.0779, 6892.836 ,\n",
       "        745.3722], dtype=float32)"
      ]
     },
     "execution_count": 17,
     "metadata": {},
     "output_type": "execute_result"
    }
   ],
   "source": [
    "predictions[:,0]"
   ]
  },
  {
   "cell_type": "code",
   "execution_count": 18,
   "metadata": {},
   "outputs": [
    {
     "data": {
      "text/plain": [
       "3348.287045002889"
      ]
     },
     "execution_count": 18,
     "metadata": {},
     "output_type": "execute_result"
    }
   ],
   "source": [
    "ground_truth_values.mean()"
   ]
  },
  {
   "cell_type": "code",
   "execution_count": 19,
   "metadata": {},
   "outputs": [
    {
     "data": {
      "text/plain": [
       "array([2068.00994581, 1983.57114122, 5667.58181159, ...,  543.67955969,\n",
       "       7200.4383445 ,  786.05285821])"
      ]
     },
     "execution_count": 19,
     "metadata": {},
     "output_type": "execute_result"
    }
   ],
   "source": [
    "ground_truth_values"
   ]
  },
  {
   "cell_type": "code",
   "execution_count": 32,
   "metadata": {
    "scrolled": true
   },
   "outputs": [
    {
     "data": {
      "text/plain": [
       "<matplotlib.collections.PathCollection at 0x7ff55ba0f650>"
      ]
     },
     "execution_count": 32,
     "metadata": {},
     "output_type": "execute_result"
    },
    {
     "data": {
      "image/png": "[encoded data removed]",
      "text/plain": [
       "<matplotlib.figure.Figure at 0x7ff5db73f350>"
      ]
     },
     "metadata": {},
     "output_type": "display_data"
    }
   ],
   "source": [
    "plt.scatter(ground_truth_values, predictions[:,0])"
   ]
  },
  {
   "cell_type": "code",
   "execution_count": null,
   "metadata": {
    "scrolled": true
   },
   "outputs": [],
   "source": []
  },
  {
   "cell_type": "code",
   "execution_count": 31,
   "metadata": {},
   "outputs": [
    {
     "data": {
      "text/plain": [
       "0.292572184149916"
      ]
     },
     "execution_count": 31,
     "metadata": {},
     "output_type": "execute_result"
    }
   ],
   "source": [
    "np.percentile((abs(ground_truth_values - predictions[:,0])/ground_truth_values), 95)"
   ]
  },
  {
   "cell_type": "code",
   "execution_count": null,
   "metadata": {},
   "outputs": [],
   "source": []
  },
  {
   "cell_type": "code",
   "execution_count": null,
   "metadata": {},
   "outputs": [],
   "source": []
  },
  {
   "cell_type": "code",
   "execution_count": null,
   "metadata": {},
   "outputs": [],
   "source": []
  },
  {
   "cell_type": "code",
   "execution_count": null,
   "metadata": {},
   "outputs": [],
   "source": []
  },
  {
   "cell_type": "code",
   "execution_count": null,
   "metadata": {},
   "outputs": [],
   "source": []
  },
  {
   "cell_type": "code",
   "execution_count": null,
   "metadata": {},
   "outputs": [],
   "source": []
  },
  {
   "cell_type": "code",
   "execution_count": null,
   "metadata": {},
   "outputs": [],
   "source": []
  }
 ],
 "metadata": {
  "kernelspec": {
   "display_name": "Python 2",
   "language": "python",
   "name": "python2"
  },
  "language_info": {
   "codemirror_mode": {
    "name": "ipython",
    "version": 2
   },
   "file_extension": ".py",
   "mimetype": "text/x-python",
   "name": "python",
   "nbconvert_exporter": "python",
   "pygments_lexer": "ipython2",
   "version": "2.7.12"
  }
 },
 "nbformat": 4,
 "nbformat_minor": 2
}
