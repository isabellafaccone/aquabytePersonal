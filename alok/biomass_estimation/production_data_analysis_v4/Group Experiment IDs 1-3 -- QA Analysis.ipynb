{
 "cells": [
  {
   "cell_type": "code",
   "execution_count": null,
   "metadata": {},
   "outputs": [],
   "source": [
    "import pandas as pd\n",
    "from matplotlib import pyplot as plt\n",
    "import numpy as np\n",
    "from aquabyte.visualize import Visualizer\n",
    "from aquabyte.data_access_utils import S3AccessUtils, RDSAccessUtils\n",
    "import json, os\n",
    "import cv2\n",
    "from PIL import Image\n"
   ]
  },
  {
   "cell_type": "code",
   "execution_count": null,
   "metadata": {},
   "outputs": [],
   "source": []
  },
  {
   "cell_type": "code",
   "execution_count": null,
   "metadata": {},
   "outputs": [],
   "source": [
    "def plot_weight_distribution(weight, mask):\n",
    "    plt.figure(figsize=(10, 5))\n",
    "    plt.hist(weight[mask], bins=20)\n",
    "    plt.grid()\n",
    "    plt.show()\n",
    "    \n",
    "def generate_prediction_stats(weight, mask):\n",
    "    print('Mean weight estimate: {}'.format(np.mean(weight[mask])))\n",
    "    print('Median weight estimate: {}'.format(np.median(weight[mask])))\n",
    "    "
   ]
  },
  {
   "cell_type": "code",
   "execution_count": null,
   "metadata": {},
   "outputs": [],
   "source": []
  },
  {
   "cell_type": "code",
   "execution_count": null,
   "metadata": {},
   "outputs": [],
   "source": [
    "f = '/root/data/alok/biomass_estimation/results/model_lateral_only/results_557ec1732d8bc8bc66951d2ea4e69b935d69b111_model_lateral_only_research-exp-id-02-vikingfjord-20190702-20190708.h5'\n",
    "df = pd.read_hdf(f, 'table')\n",
    "df['depth'] = df.world_keypoints.apply(lambda x: x['EYE'][1] if x else None) \n",
    "df['difference'] = df.estimated_biomass_g - df.estimated_biomass_g\n",
    "df1 = df.copy()\n",
    "\n"
   ]
  },
  {
   "cell_type": "code",
   "execution_count": null,
   "metadata": {},
   "outputs": [],
   "source": [
    "qa_mask = df.is_qa == True\n",
    "hard_outlier_mask = (df.estimated_biomass_g > 0) & (df.estimated_biomass_g < 20000)\n",
    "weights = df.estimated_biomass_g.values\n",
    "plot_weight_distribution(weights, hard_outlier_mask)\n",
    "generate_prediction_stats(weights, hard_outlier_mask)"
   ]
  },
  {
   "cell_type": "code",
   "execution_count": null,
   "metadata": {},
   "outputs": [],
   "source": [
    "qa_mask = df.is_qa == True\n",
    "hard_outlier_mask = (df.estimated_biomass_g > 0) & (df.estimated_biomass_g < 20000)\n",
    "weights = df.estimated_biomass_g.values\n",
    "plot_weight_distribution(weights, hard_outlier_mask & qa_mask)\n",
    "generate_prediction_stats(weights, hard_outlier_mask & qa_mask)"
   ]
  },
  {
   "cell_type": "code",
   "execution_count": null,
   "metadata": {},
   "outputs": [],
   "source": [
    "qa_mask = df.is_qa == True\n",
    "depth_mask = df.depth < 0.75\n",
    "hard_outlier_mask = (df.estimated_biomass_g > 0) & (df.estimated_biomass_g < 20000)\n",
    "weights = df.estimated_biomass_g.values\n",
    "plot_weight_distribution(weights, hard_outlier_mask & depth_mask)\n",
    "generate_prediction_stats(weights, hard_outlier_mask & depth_mask)"
   ]
  },
  {
   "cell_type": "code",
   "execution_count": null,
   "metadata": {},
   "outputs": [],
   "source": []
  },
  {
   "cell_type": "code",
   "execution_count": null,
   "metadata": {},
   "outputs": [],
   "source": []
  },
  {
   "cell_type": "code",
   "execution_count": null,
   "metadata": {},
   "outputs": [],
   "source": []
  },
  {
   "cell_type": "code",
   "execution_count": null,
   "metadata": {},
   "outputs": [],
   "source": [
    "f = '/root/data/alok/biomass_estimation/results/model_3800_roughly_recovered/results_75ad5ee4527ba2f056de2b8550b9896d372f1805_model_3800_roughly_recovered_research-exp-id-03-vikingfjord-20190709-20190710.h5'\n",
    "df = pd.read_hdf(f, 'table')\n",
    "df['depth'] = df.world_keypoints.apply(lambda x: x['EYE'][1] if x else None) \n",
    "df['difference'] = df.estimated_biomass_g - df.estimated_biomass_g\n",
    "df2 = df.copy()"
   ]
  },
  {
   "cell_type": "code",
   "execution_count": null,
   "metadata": {},
   "outputs": [],
   "source": [
    "qa_mask = df.is_qa == True\n",
    "hard_outlier_mask = (df.estimated_biomass_g > 0) & (df.estimated_biomass_g < 20000)\n",
    "weights = df.estimated_biomass_g.values\n",
    "plot_weight_distribution(weights, hard_outlier_mask)\n",
    "generate_prediction_stats(weights, hard_outlier_mask)"
   ]
  },
  {
   "cell_type": "code",
   "execution_count": null,
   "metadata": {},
   "outputs": [],
   "source": [
    "qa_mask = df.is_qa == True\n",
    "hard_outlier_mask = (df.estimated_biomass_g > 0) & (df.estimated_biomass_g < 20000)\n",
    "weights = df.estimated_biomass_g.values\n",
    "plot_weight_distribution(weights, hard_outlier_mask & qa_mask)\n",
    "generate_prediction_stats(weights, hard_outlier_mask & qa_mask)"
   ]
  },
  {
   "cell_type": "code",
   "execution_count": null,
   "metadata": {},
   "outputs": [],
   "source": [
    "qa_mask = df.is_qa == True\n",
    "depth_mask = df.depth < 0.75\n",
    "hard_outlier_mask = (df.estimated_biomass_g > 0) & (df.estimated_biomass_g < 20000)\n",
    "weights = df.estimated_biomass_g.values\n",
    "plot_weight_distribution(weights, hard_outlier_mask & depth_mask)\n",
    "generate_prediction_stats(weights, hard_outlier_mask & depth_mask)"
   ]
  },
  {
   "cell_type": "code",
   "execution_count": null,
   "metadata": {},
   "outputs": [],
   "source": []
  },
  {
   "cell_type": "code",
   "execution_count": null,
   "metadata": {},
   "outputs": [],
   "source": []
  },
  {
   "cell_type": "code",
   "execution_count": null,
   "metadata": {},
   "outputs": [],
   "source": []
  },
  {
   "cell_type": "code",
   "execution_count": null,
   "metadata": {},
   "outputs": [],
   "source": []
  },
  {
   "cell_type": "code",
   "execution_count": null,
   "metadata": {},
   "outputs": [],
   "source": []
  },
  {
   "cell_type": "code",
   "execution_count": null,
   "metadata": {},
   "outputs": [],
   "source": []
  },
  {
   "cell_type": "code",
   "execution_count": null,
   "metadata": {},
   "outputs": [],
   "source": [
    "s3_access_utils = S3AccessUtils('/root/data')\n",
    "sql_credentials = json.load(open(os.environ[\"PROD_SQL_CREDENTIALS\"]))\n",
    "rds_access_utils = RDSAccessUtils(sql_credentials)\n"
   ]
  },
  {
   "cell_type": "code",
   "execution_count": null,
   "metadata": {},
   "outputs": [],
   "source": [
    "v = Visualizer(rds_access_utils=rds_access_utils, s3_access_utils=s3_access_utils)"
   ]
  },
  {
   "cell_type": "code",
   "execution_count": null,
   "metadata": {},
   "outputs": [],
   "source": []
  },
  {
   "cell_type": "code",
   "execution_count": null,
   "metadata": {},
   "outputs": [],
   "source": []
  },
  {
   "cell_type": "code",
   "execution_count": null,
   "metadata": {},
   "outputs": [],
   "source": []
  },
  {
   "cell_type": "code",
   "execution_count": null,
   "metadata": {},
   "outputs": [],
   "source": []
  },
  {
   "cell_type": "code",
   "execution_count": null,
   "metadata": {},
   "outputs": [],
   "source": [
    "%matplotlib notebook\n",
    "v.display_3d_keypoints()"
   ]
  },
  {
   "cell_type": "code",
   "execution_count": null,
   "metadata": {},
   "outputs": [],
   "source": [
    "df1['difference'] = df1.estimated_biomass_g - df2.estimated_biomass_g"
   ]
  },
  {
   "cell_type": "code",
   "execution_count": null,
   "metadata": {},
   "outputs": [],
   "source": [
    "%matplotlib inline\n",
    "mask = df1.difference.abs() < 10000\n",
    "plt.scatter(df1[mask].depth, df1[mask].difference)\n",
    "plt.show()"
   ]
  },
  {
   "cell_type": "code",
   "execution_count": null,
   "metadata": {},
   "outputs": [],
   "source": [
    "(df1[mask & (df1.depth < 0.9)].difference / df1[mask & (df1.depth < 0.9)].estimated_biomass_g).mean()"
   ]
  },
  {
   "cell_type": "code",
   "execution_count": null,
   "metadata": {},
   "outputs": [],
   "source": [
    "def enhance(image, clip_limit=5):\n",
    "    # convert image to LAB color model\n",
    "    image_lab = cv2.cvtColor(image, cv2.COLOR_BGR2LAB)\n",
    "\n",
    "    # split the image into L, A, and B channels\n",
    "    l_channel, a_channel, b_channel = cv2.split(image_lab)\n",
    "\n",
    "    # apply CLAHE to lightness channel\n",
    "    clahe = cv2.createCLAHE(clipLimit=clip_limit, tileGridSize=(8, 8))\n",
    "    cl = clahe.apply(l_channel)\n",
    "\n",
    "    # merge the CLAHE enhanced L channel with the original A and B channel\n",
    "    merged_channels = cv2.merge((cl, a_channel, b_channel))\n",
    "\n",
    "    # convert image from LAB color model back to RGB color model\n",
    "    final_image = cv2.cvtColor(merged_channels, cv2.COLOR_LAB2BGR)\n",
    "    return final_image "
   ]
  },
  {
   "cell_type": "code",
   "execution_count": null,
   "metadata": {},
   "outputs": [],
   "source": [
    "idx = 60\n",
    "left_image_url = df1.left_image_url.iloc[idx]\n",
    "right_image_url = df1.right_image_url.iloc[idx]\n",
    "left_image_f, _, _ = s3_access_utils.download_from_url(left_image_url)\n",
    "right_image_f, _, _ = s3_access_utils.download_from_url(right_image_url)\n",
    "imageL = cv2.imread(left_image_f)\n",
    "imageR = cv2.imread(right_image_f)"
   ]
  },
  {
   "cell_type": "code",
   "execution_count": null,
   "metadata": {},
   "outputs": [],
   "source": [
    "Image.fromarray(enhance(imageL))"
   ]
  },
  {
   "cell_type": "code",
   "execution_count": null,
   "metadata": {},
   "outputs": [],
   "source": [
    "Image.fromarray(enhance(imageR))"
   ]
  },
  {
   "cell_type": "code",
   "execution_count": null,
   "metadata": {},
   "outputs": [],
   "source": [
    "int(df1.id.iloc[idx])"
   ]
  },
  {
   "cell_type": "code",
   "execution_count": null,
   "metadata": {},
   "outputs": [],
   "source": [
    "%matplotlib inline\n",
    "v.load_data(int(df1.id.iloc[idx]))\n",
    "v.display_crops(overlay_keypoints=True, show_labels=False)"
   ]
  },
  {
   "cell_type": "code",
   "execution_count": null,
   "metadata": {},
   "outputs": [],
   "source": [
    "%matplotlib notebook\n",
    "v.display_3d_keypoints()"
   ]
  },
  {
   "cell_type": "code",
   "execution_count": null,
   "metadata": {},
   "outputs": [],
   "source": [
    "imgL = enhance(imageL)\n",
    "imgR = enhance(imageR)\n",
    "good, matchesMask, H = find_matches_and_homography(imgL, imgR)\n",
    "adjusted_keypoints = adjust_keypoints(keypoints, H)\n",
    "\n"
   ]
  },
  {
   "cell_type": "code",
   "execution_count": null,
   "metadata": {},
   "outputs": [],
   "source": [
    "df1.difference.iloc[idx]"
   ]
  },
  {
   "cell_type": "code",
   "execution_count": null,
   "metadata": {},
   "outputs": [],
   "source": []
  },
  {
   "cell_type": "code",
   "execution_count": null,
   "metadata": {},
   "outputs": [],
   "source": []
  },
  {
   "cell_type": "code",
   "execution_count": null,
   "metadata": {},
   "outputs": [],
   "source": []
  },
  {
   "cell_type": "code",
   "execution_count": null,
   "metadata": {},
   "outputs": [],
   "source": [
    "import pandas as pd"
   ]
  },
  {
   "cell_type": "code",
   "execution_count": null,
   "metadata": {},
   "outputs": [],
   "source": []
  },
  {
   "cell_type": "code",
   "execution_count": null,
   "metadata": {},
   "outputs": [],
   "source": []
  },
  {
   "cell_type": "code",
   "execution_count": null,
   "metadata": {},
   "outputs": [],
   "source": []
  },
  {
   "cell_type": "code",
   "execution_count": null,
   "metadata": {},
   "outputs": [],
   "source": []
  },
  {
   "cell_type": "code",
   "execution_count": null,
   "metadata": {},
   "outputs": [],
   "source": []
  },
  {
   "cell_type": "code",
   "execution_count": null,
   "metadata": {},
   "outputs": [],
   "source": []
  },
  {
   "cell_type": "code",
   "execution_count": null,
   "metadata": {},
   "outputs": [],
   "source": []
  },
  {
   "cell_type": "code",
   "execution_count": null,
   "metadata": {},
   "outputs": [],
   "source": []
  },
  {
   "cell_type": "code",
   "execution_count": null,
   "metadata": {},
   "outputs": [],
   "source": []
  },
  {
   "cell_type": "code",
   "execution_count": null,
   "metadata": {},
   "outputs": [],
   "source": []
  },
  {
   "cell_type": "code",
   "execution_count": null,
   "metadata": {},
   "outputs": [],
   "source": []
  },
  {
   "cell_type": "code",
   "execution_count": null,
   "metadata": {},
   "outputs": [],
   "source": []
  }
 ],
 "metadata": {
  "kernelspec": {
   "display_name": "Python 3",
   "language": "python",
   "name": "python3"
  },
  "language_info": {
   "codemirror_mode": {
    "name": "ipython",
    "version": 3
   },
   "file_extension": ".py",
   "mimetype": "text/x-python",
   "name": "python",
   "nbconvert_exporter": "python",
   "pygments_lexer": "ipython3",
   "version": "3.6.5"
  }
 },
 "nbformat": 4,
 "nbformat_minor": 2
}
