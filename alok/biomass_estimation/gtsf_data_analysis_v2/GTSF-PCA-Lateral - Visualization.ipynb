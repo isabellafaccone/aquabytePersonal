{
 "cells": [
  {
   "cell_type": "markdown",
   "metadata": {},
   "source": [
    "# GTSF phase I: biomass prediction"
   ]
  },
  {
   "cell_type": "markdown",
   "metadata": {},
   "source": [
    "In this notebook, we are forecasting the weights by finding the closest blender model"
   ]
  },
  {
   "cell_type": "markdown",
   "metadata": {},
   "source": [
    "### Look at the volumes created with blender"
   ]
  },
  {
   "cell_type": "markdown",
   "metadata": {},
   "source": [
    "Load blender data"
   ]
  },
  {
   "cell_type": "code",
   "execution_count": null,
   "metadata": {},
   "outputs": [],
   "source": [
    "import pandas as pd\n",
    "import matplotlib.pyplot as plt\n",
    "import numpy as np\n",
    "import json\n",
    "import cv2\n",
    "\n",
    "import glob\n",
    "import os\n",
    "import boto3\n",
    "import tempfile\n",
    "from sqlalchemy import create_engine, MetaData, Table, select, and_, func\n",
    "from sqlalchemy.orm import sessionmaker\n",
    "from sqlalchemy.ext.automap import automap_base\n",
    "from sklearn.linear_model import LinearRegression\n",
    "from sklearn.decomposition import PCA\n",
    "from scipy.stats import norm\n",
    "import tqdm\n",
    "import pickle\n",
    "from itertools import combinations\n",
    "from aquabyte.data_access_utils import DataAccessUtils\n",
    "\n",
    "from PIL import Image, ImageDraw\n",
    "from multiprocessing import Pool, Manager\n",
    "import copy\n",
    "import uuid\n",
    "from sklearn.preprocessing import StandardScaler\n",
    "\n",
    "pd.set_option('display.max_rows', 500)\n",
    "\n",
    "data_access_utils = DataAccessUtils()\n",
    "\n"
   ]
  },
  {
   "cell_type": "code",
   "execution_count": null,
   "metadata": {},
   "outputs": [],
   "source": []
  },
  {
   "cell_type": "markdown",
   "metadata": {},
   "source": [
    "<h1> Get world keypoint coordinates from GTSF data </h1>"
   ]
  },
  {
   "cell_type": "code",
   "execution_count": null,
   "metadata": {},
   "outputs": [],
   "source": [
    "aws_credentials = json.load(open(os.environ[\"AWS_CREDENTIALS\"]))\n",
    "s3_client = boto3.client('s3', aws_access_key_id=aws_credentials[\"aws_access_key_id\"],\n",
    "                         aws_secret_access_key=aws_credentials[\"aws_secret_access_key\"],\n",
    "                         region_name=\"eu-west-1\")\n",
    "\n",
    "\n",
    "sql_credentials = json.load(open(os.environ[\"SQL_CREDENTIALS\"]))\n",
    "sql_engine = create_engine(\"postgresql://{}:{}@{}:{}/{}\".format(sql_credentials[\"user\"], sql_credentials[\"password\"],\n",
    "                           sql_credentials[\"host\"], sql_credentials[\"port\"],\n",
    "                           sql_credentials[\"database\"]))\n",
    "\n",
    "Session = sessionmaker(bind=sql_engine)\n",
    "session = Session()\n",
    "\n",
    "Base = automap_base()\n",
    "Base.prepare(sql_engine, reflect=True)\n",
    "Enclosure = Base.classes.enclosures\n",
    "Calibration = Base.classes.calibrations\n",
    "GtsfDataCollection = Base.classes.gtsf_data_collections\n",
    "StereoFramePair = Base.classes.stereo_frame_pairs\n"
   ]
  },
  {
   "cell_type": "code",
   "execution_count": null,
   "metadata": {},
   "outputs": [],
   "source": [
    "df = data_access_utils.extract_from_database()"
   ]
  },
  {
   "cell_type": "code",
   "execution_count": null,
   "metadata": {},
   "outputs": [],
   "source": []
  },
  {
   "cell_type": "code",
   "execution_count": null,
   "metadata": {},
   "outputs": [],
   "source": []
  },
  {
   "cell_type": "markdown",
   "metadata": {},
   "source": [
    "<h1> Utility functions for world keypoint normalization </h1>"
   ]
  },
  {
   "cell_type": "code",
   "execution_count": null,
   "metadata": {},
   "outputs": [],
   "source": [
    "def generate_rotation_matrix(u_base, v):\n",
    "    u = v / np.linalg.norm(v)\n",
    "    n = np.cross(u_base, u)\n",
    "    n = n / np.linalg.norm(n)\n",
    "    theta = -np.arccos(np.dot(u, u_base))\n",
    "\n",
    "    R = np.array([[\n",
    "        np.cos(theta) + n[0]**2*(1-np.cos(theta)), \n",
    "        n[0]*n[1]*(1-np.cos(theta)) - n[2]*np.sin(theta),\n",
    "        n[0]*n[2]*(1-np.cos(theta)) + n[1]*np.sin(theta)\n",
    "    ], [\n",
    "        n[1]*n[0]*(1-np.cos(theta)) + n[2]*np.sin(theta),\n",
    "        np.cos(theta) + n[1]**2*(1-np.cos(theta)),\n",
    "        n[1]*n[2]*(1-np.cos(theta)) - n[0]*np.sin(theta),\n",
    "    ], [\n",
    "        n[2]*n[0]*(1-np.cos(theta)) - n[1]*np.sin(theta),\n",
    "        n[2]*n[1]*(1-np.cos(theta)) + n[0]*np.sin(theta),\n",
    "        np.cos(theta) + n[2]**2*(1-np.cos(theta))\n",
    "    ]])\n",
    "    \n",
    "    return R"
   ]
  },
  {
   "cell_type": "code",
   "execution_count": null,
   "metadata": {},
   "outputs": [],
   "source": [
    "def euclidean_distance(p1, p2):\n",
    "    if type(p1) == list:\n",
    "        p1 = np.array(p1)\n",
    "    if type(p2) == list:\n",
    "        p2 = np.array(p2)\n",
    "    return np.linalg.norm(p1 - p2)\n",
    "\n",
    "\n",
    "def normalize_world_keypoints(wkps):\n",
    "    body_parts = wkps.keys()\n",
    "    wkps = {bp: np.array(wkps[bp]) for bp in body_parts}\n",
    "    \n",
    "    # translate keypoints such that tail notch is at origin\n",
    "    translated_wkps = {bp: wkps[bp] - wkps['TAIL_NOTCH'] for bp in body_parts}\n",
    "    \n",
    "    # perform first rotation\n",
    "    u_base=np.array([1, 0, 0])\n",
    "    v = translated_wkps['UPPER_LIP']\n",
    "    R = generate_rotation_matrix(u_base, v)\n",
    "    norm_wkps_intermediate = {bp: np.dot(R, translated_wkps[bp]) for bp in body_parts}\n",
    "    \n",
    "    # perform second rotation\n",
    "    u_base = np.array([0, 0, 1])\n",
    "    v = norm_wkps_intermediate['DORSAL_FIN'] - np.array([norm_wkps_intermediate['DORSAL_FIN'][0], 0, 0])\n",
    "    R = generate_rotation_matrix(u_base, v)\n",
    "    norm_wkps = {bp: np.dot(R, norm_wkps_intermediate[bp]) for bp in body_parts}\n",
    "    \n",
    "    # perform reflecton if necessary\n",
    "    if norm_wkps['PECTORAL_FIN'][1] > 0:\n",
    "        norm_wkps = {bp: np.array([\n",
    "            norm_wkps[bp][0],\n",
    "            -norm_wkps[bp][1],\n",
    "            norm_wkps[bp][2]\n",
    "        ]) for bp in body_parts}\n",
    "    \n",
    "    return norm_wkps\n",
    "    \n",
    "\n"
   ]
  },
  {
   "cell_type": "code",
   "execution_count": null,
   "metadata": {},
   "outputs": [],
   "source": []
  },
  {
   "cell_type": "code",
   "execution_count": null,
   "metadata": {},
   "outputs": [],
   "source": []
  },
  {
   "cell_type": "markdown",
   "metadata": {},
   "source": [
    "<h1> Utility Method: World Keypoint Calculation </h1>"
   ]
  },
  {
   "cell_type": "code",
   "execution_count": null,
   "metadata": {},
   "outputs": [],
   "source": [
    "# DEFINE OPTICAL PROPERTIES\n",
    "\n",
    "# all distance are in meters\n",
    "FOCAL_LENGTH = 0.00843663\n",
    "BASELINE = 0.128096\n",
    "PIXEL_SIZE_M = 3.45 * 1e-6\n",
    "FOCAL_LENGTH_PIXEL = FOCAL_LENGTH / PIXEL_SIZE_M\n",
    "IMAGE_SENSOR_WIDTH = 0.01412\n",
    "IMAGE_SENSOR_HEIGHT = 0.01035\n",
    "PIXEL_COUNT_WIDTH = 4096\n",
    "PIXEL_COUNT_HEIGHT = 3000\n",
    "\n",
    "def convert_to_world_point(x, y, d):\n",
    "    \"\"\" from pixel coordinates to world coordinates \"\"\"\n",
    "    \n",
    "    image_center_x = PIXEL_COUNT_WIDTH / 2.0  \n",
    "    image_center_y = PIXEL_COUNT_HEIGHT / 2.0\n",
    "    px_x = x - image_center_x\n",
    "    px_z = image_center_y - y\n",
    "\n",
    "    sensor_x = px_x * (IMAGE_SENSOR_WIDTH / PIXEL_COUNT_WIDTH)\n",
    "    sensor_z = px_z * (IMAGE_SENSOR_HEIGHT / PIXEL_COUNT_HEIGHT)\n",
    "\n",
    "    # d = depth_map[y, x]\n",
    "    world_y = d\n",
    "    world_x = (world_y * sensor_x) / FOCAL_LENGTH\n",
    "    world_z = (world_y * sensor_z) / FOCAL_LENGTH\n",
    "    return np.array([world_x, world_y, world_z])\n",
    "\n",
    "def depth_from_disp(disp):\n",
    "    \"\"\" calculate the depth of the point based on the disparity value \"\"\"\n",
    "    depth = FOCAL_LENGTH_PIXEL*BASELINE / np.array(disp)\n",
    "    return depth\n",
    "\n",
    "def disp_from_depth(depth):\n",
    "    disp = FOCAL_LENGTH_PIXEL * BASELINE / depth\n",
    "    return disp\n"
   ]
  },
  {
   "cell_type": "code",
   "execution_count": null,
   "metadata": {},
   "outputs": [],
   "source": []
  },
  {
   "cell_type": "code",
   "execution_count": null,
   "metadata": {},
   "outputs": [],
   "source": []
  },
  {
   "cell_type": "markdown",
   "metadata": {},
   "source": [
    "<h1> Generate accuracy metrics on GTSF data </h1>"
   ]
  },
  {
   "cell_type": "code",
   "execution_count": null,
   "metadata": {},
   "outputs": [],
   "source": []
  },
  {
   "cell_type": "code",
   "execution_count": null,
   "metadata": {},
   "outputs": [],
   "source": [
    "def generate_lateral_keypoints(left_image, right_image, left_keypoints, right_keypoints, world_keypoints, \n",
    "                               bp_1='UPPER_LIP', bp_2='TAIL_NOTCH', left_window_size=100, \n",
    "                               min_breadth=0.04, max_breadth=0.2):\n",
    "    left_extrap_kp = (0.5 * left_keypoints[bp_1] + 0.5 * left_keypoints[bp_2]).astype('int64')\n",
    "    bp_1_depth = world_keypoints[bp_1][1]\n",
    "    bp_2_depth = world_keypoints[bp_2][1]\n",
    "\n",
    "    # need to determine lower and upper bounds here in a data driven fashion from GTSF data\n",
    "    # hardcoded values used here\n",
    "    extrap_kp_max_depth = (bp_1_depth + bp_2_depth) / 2.0 - min_breadth / 2.0\n",
    "    extrap_kp_min_depth = (bp_1_depth + bp_2_depth) / 2.0 - max_breadth / 2.0\n",
    "\n",
    "    # Compute the feature descriptor for the extrapolated keypoint in the left image\n",
    "    extrap_kp_min_disp = disp_from_depth(extrap_kp_max_depth)\n",
    "    extrap_kp_max_disp = disp_from_depth(extrap_kp_min_depth)\n",
    "    \n",
    "    left_box = left_image[left_extrap_kp[1]-left_window_size//2:left_extrap_kp[1]+left_window_size//2, \n",
    "                          left_extrap_kp[0]-left_window_size//2:left_extrap_kp[0]+left_window_size//2]\n",
    "    right_box = right_image[left_extrap_kp[1]-left_window_size//2:left_extrap_kp[1]+left_window_size//2,\n",
    "                            left_extrap_kp[0]-int(extrap_kp_max_disp)-left_window_size//2:left_extrap_kp[0]-int(extrap_kp_min_disp)+left_window_size//2]\n",
    "\n",
    "    \n",
    "    orb = cv2.ORB_create()\n",
    "    kp1, des1 = orb.detectAndCompute(left_box,None)\n",
    "    kp2, des2 = orb.detectAndCompute(right_box,None)\n",
    "    \n",
    "    # get top five matches\n",
    "    bf = cv2.BFMatcher(cv2.NORM_HAMMING, crossCheck=True)\n",
    "    matches = bf.match(des1,des2)\n",
    "    matches = sorted(matches, key = lambda x:x.distance)[:5]\n",
    "    \n",
    "    # get world coordinates of lateral keypoints\n",
    "    lateral_wkps = []\n",
    "    for match in matches[:5]:\n",
    "        \n",
    "        lateral_left_coordinates = np.array(kp1[match.queryIdx].pt).astype(int)\n",
    "        lateral_left_coordinates[0] += left_extrap_kp[0]-left_window_size//2\n",
    "        lateral_left_coordinates[1] += left_extrap_kp[1]-left_window_size//2\n",
    "        \n",
    "        lateral_right_coordinates = np.array(kp2[match.trainIdx].pt).astype(int)\n",
    "        lateral_right_coordinates[0] += left_extrap_kp[0]-int(extrap_kp_max_disp)-left_window_size//2\n",
    "        lateral_right_coordinates[1] += left_extrap_kp[1]-left_window_size//2\n",
    "        \n",
    "        disp = abs(lateral_left_coordinates[0] - lateral_right_coordinates[0])\n",
    "        depth = depth_from_disp(disp)\n",
    "        lateral_wkp = convert_to_world_point(lateral_left_coordinates[0], lateral_left_coordinates[1], depth)\n",
    "        lateral_wkps.append(lateral_wkp)\n",
    "        \n",
    "    return np.array(lateral_wkps)\n",
    "\n",
    "\n",
    "def process_stereo_frame_pair(sfp, world_keypoints_dict):\n",
    "    if sfp['gtsf_fish_identifier'] == '190321010002':\n",
    "        return\n",
    "    ground_truth_metadata = json.loads(sfp['ground_truth_metadata'])\n",
    "    if ground_truth_metadata['data'].get('species') != 'salmon':\n",
    "        return\n",
    "        \n",
    "    # download left and right images\n",
    "    random_hash = uuid.uuid4().hex\n",
    "    left_image_f = 'left_image_{}.jpg'.format(random_hash)\n",
    "    right_image_f = 'right_image_{}.jpg'.format(random_hash)\n",
    "\n",
    "    left_image_s3_key, right_image_s3_key, s3_bucket = sfp['left_image_s3_key'], sfp['right_image_s3_key'], sfp['image_s3_bucket']\n",
    "    s3_client.download_file(s3_bucket, left_image_s3_key, left_image_f)\n",
    "    s3_client.download_file(s3_bucket, right_image_s3_key, right_image_f)\n",
    "    \n",
    "    left_image = cv2.imread(left_image_f)\n",
    "    right_image = cv2.imread(right_image_f)\n",
    "    \n",
    "    # get left, right, and world keypoints\n",
    "    left_keypoints = json.loads(sfp['left_image_keypoint_coordinates'])\n",
    "    right_keypoints = json.loads(sfp['right_image_keypoint_coordinates'])\n",
    "    world_keypoints = json.loads(sfp['world_keypoint_coordinates'])\n",
    "    \n",
    "    # convert coordinates from lists to numpy arrays\n",
    "    left_keypoints = {k: np.array(v) for k, v in left_keypoints.items()}\n",
    "    right_keypoints = {k: np.array(v) for k, v in right_keypoints.items()}\n",
    "    world_keypoints = {k: np.array(v) for k, v in world_keypoints.items()}\n",
    "     \n",
    "    lateral_wkps = generate_lateral_keypoints(left_image, right_image, left_keypoints, right_keypoints, world_keypoints)\n",
    "    world_keypoints['BODY'] = lateral_wkps\n",
    "    world_keypoints_dict[sfp['id']] = world_keypoints\n",
    "    if len(world_keypoints_dict) % 10 == 0:\n",
    "        print(len(world_keypoints_dict))\n",
    "    \n",
    "    os.remove(left_image_f)\n",
    "    os.remove(right_image_f)\n",
    "    \n",
    "\n"
   ]
  },
  {
   "cell_type": "code",
   "execution_count": null,
   "metadata": {},
   "outputs": [],
   "source": [
    "manager = Manager()\n",
    "world_keypoints_dict = manager.dict()\n",
    "\n",
    "session.rollback()\n",
    "sfps_all = session.query(StereoFramePair).all()\n",
    "args = []\n",
    "for row in sfps_all:\n",
    "    row_copy = copy.copy(row)\n",
    "    sfp = row_copy.__dict__\n",
    "    del sfp['_sa_instance_state']\n",
    "    args.append((sfp, world_keypoints_dict))\n",
    "\n",
    "pool = Pool(processes=20)\n",
    "pool.starmap(process_stereo_frame_pair, args)"
   ]
  },
  {
   "cell_type": "code",
   "execution_count": null,
   "metadata": {},
   "outputs": [],
   "source": []
  },
  {
   "cell_type": "code",
   "execution_count": null,
   "metadata": {},
   "outputs": [],
   "source": [
    "session.rollback()"
   ]
  },
  {
   "cell_type": "markdown",
   "metadata": {},
   "source": [
    "<h1> Train linear model with PCA + interaction features </h1>"
   ]
  },
  {
   "cell_type": "code",
   "execution_count": null,
   "metadata": {},
   "outputs": [],
   "source": [
    "sfps_all = session.query(StereoFramePair).all()\n",
    "df = pd.DataFrame()\n",
    "\n",
    "body_parts = sorted([\n",
    "    'TAIL_NOTCH',\n",
    "    'ADIPOSE_FIN',\n",
    "    'ANAL_FIN',\n",
    "    'PECTORAL_FIN',\n",
    "    'PELVIC_FIN',\n",
    "    'DORSAL_FIN',\n",
    "    'UPPER_LIP',\n",
    "    'EYE'\n",
    "#     'BODY'\n",
    "])\n",
    "\n",
    "session.rollback()\n",
    "for idx, row in enumerate(sfps_all):\n",
    "    if idx % 10 == 0:\n",
    "        print(idx)\n",
    "        \n",
    "    # get fish_id and ground truth metadata\n",
    "    if row.gtsf_fish_identifier == '190321010002':\n",
    "        continue\n",
    "    gtsf_data_collection_id = row.gtsf_data_collection_id\n",
    "    gtsf_data_collection = session.query(GtsfDataCollection).get(gtsf_data_collection_id)\n",
    "    ground_truth_metadata = json.loads(gtsf_data_collection.ground_truth_metadata)\n",
    "    if ground_truth_metadata['data'].get('species') != 'salmon':\n",
    "        continue\n",
    "    \n",
    "#     world_keypoints = world_keypoints_dict[row.id]\n",
    "    left_keypoints = json.loads(row.left_image_keypoint_coordinates)\n",
    "    right_keypoints = json.loads(row.right_image_keypoint_coordinates)\n",
    "    wkps = json.loads(row.world_keypoint_coordinates)\n",
    "#     body_wkp = world_keypoints['BODY'].mean(axis=0)\n",
    "#     wkps = copy.copy(world_keypoints)\n",
    "#     wkps['BODY'] = body_wkp\n",
    "\n",
    "    df_row = {'0': idx}\n",
    "    for i in range(len(body_parts)-1):\n",
    "        for j in range(i+1, len(body_parts)):\n",
    "            d = euclidean_distance(wkps[body_parts[i]], wkps[body_parts[j]])\n",
    "            df_row['{0}-{1}'.format(i, j)] = d\n",
    "    \n",
    "    \n",
    "    weight = ground_truth_metadata['data']['weight']\n",
    "    length = ground_truth_metadata['data']['length']\n",
    "    width = ground_truth_metadata['data']['width']\n",
    "    breadth = ground_truth_metadata['data']['breath']\n",
    "    df_row['weight'] = weight\n",
    "    df_row['length'] = length\n",
    "    df_row['width'] = width\n",
    "    df_row['breadth'] = breadth\n",
    "    df_row['kfactor'] = 1e5 * weight / length**3\n",
    "    df_row['date'] = row.date\n",
    "    df_row['project_name'] = row.annotations_project_name\n",
    "    df_row['left_keypoints'] = json.loads(row.left_image_keypoint_coordinates)\n",
    "    df_row['right_keypoints'] = json.loads(row.right_image_keypoint_coordinates)\n",
    "    df_row['world_keypoints'] = wkps\n",
    "    df_row['gtsf_fish_identifier'] = row.gtsf_fish_identifier\n",
    "\n",
    "        \n",
    "    \n",
    "    \n",
    "    df = df.append(df_row, ignore_index=True)\n",
    "            \n",
    "    \n",
    "\n"
   ]
  },
  {
   "cell_type": "markdown",
   "metadata": {},
   "source": [
    "<h1> Apply filters </h1>"
   ]
  },
  {
   "cell_type": "code",
   "execution_count": null,
   "metadata": {},
   "outputs": [],
   "source": [
    "df_cache = df.copy()\n",
    "df = df.dropna()"
   ]
  },
  {
   "cell_type": "code",
   "execution_count": null,
   "metadata": {},
   "outputs": [],
   "source": []
  },
  {
   "cell_type": "code",
   "execution_count": null,
   "metadata": {},
   "outputs": [],
   "source": []
  },
  {
   "cell_type": "code",
   "execution_count": null,
   "metadata": {},
   "outputs": [],
   "source": [
    "df = df_cache.copy()"
   ]
  },
  {
   "cell_type": "code",
   "execution_count": null,
   "metadata": {},
   "outputs": [],
   "source": [
    "def coord2biomass_linear(world_keypoints, model):\n",
    "    \"\"\"from coordinates to biomass\"\"\"\n",
    "\n",
    "    mean = model['mean']\n",
    "    std= model['std']\n",
    "    PCA_components = model['PCA_components']\n",
    "    reg_coef = model['reg_coef']\n",
    "    reg_intercept = model['reg_intercept']\n",
    "    body_parts = model['body_parts']\n",
    "    # calculate pairwise distances for production coord\n",
    "    # based on the exact ordering reflected in the body_parts\n",
    "    # variable above\n",
    "\n",
    "    pairwise_distances = []\n",
    "    for i in range(len(body_parts)-1):\n",
    "        for j in range(i+1, len(body_parts)):\n",
    "            dist = euclidean_distance(world_keypoints[body_parts[i]], world_keypoints[body_parts[j]])\n",
    "            pairwise_distances.append(dist)\n",
    "\n",
    "    interaction_values_quadratic = []\n",
    "    for i in range(len(pairwise_distances)):\n",
    "        for j in range(i, len(pairwise_distances)):\n",
    "            dist1 = pairwise_distances[i]\n",
    "            dist2 = pairwise_distances[j]\n",
    "            interaction_values_quadratic.append(dist1 * dist2)\n",
    "\n",
    "    interaction_values_cubic = []\n",
    "    for i in range(len(pairwise_distances)):\n",
    "        for j in range(i, len(pairwise_distances)):\n",
    "            for k in range(j, len(pairwise_distances)):\n",
    "                dist1 = pairwise_distances[i]\n",
    "                dist2 = pairwise_distances[j]\n",
    "                dist3 = pairwise_distances[k]\n",
    "                interaction_values_cubic.append(dist1 * dist2 * dist3)\n",
    "\n",
    "\n",
    "    X = np.array(pairwise_distances + interaction_values_quadratic + interaction_values_cubic)\n",
    "\n",
    "    X_normalized = (X - model['mean']) / model['std']\n",
    "    X_transformed = np.dot(X_normalized, model['PCA_components'].T)\n",
    "    prediction = np.dot(X_transformed, reg_coef) + reg_intercept\n",
    "    return prediction"
   ]
  },
  {
   "cell_type": "code",
   "execution_count": null,
   "metadata": {},
   "outputs": [],
   "source": [
    "def apply_filters(left_keypoints, right_keypoints, world_keypoints, baseline_biomass_model):\n",
    "    filter_out, reason = False, None\n",
    "    \n",
    "    # apply y-coordinate deviation filter\n",
    "    body_parts = sorted(list(left_keypoints.keys()))\n",
    "    max_y_coordinate_deviation = max([abs(left_keypoints[bp][1] - right_keypoints[bp][1]) for bp in body_parts])\n",
    "#     print(max_y_coordinate_deviation, max_x_coordinate_deviation)\n",
    "    if max_y_coordinate_deviation == 2297:\n",
    "        print(left_keypoints, right_keypoints)\n",
    "    if (max_y_coordinate_deviation > 25):\n",
    "        filter_out = True\n",
    "        reason = 'Y-coordinate deviation too high'\n",
    "        \n",
    "    # apply world y-coordinate deviation filter\n",
    "    norm_wkps = normalize_world_keypoints(world_keypoints)\n",
    "    y_world_coordinates = [norm_wkps[bp][1] for bp in body_parts]\n",
    "    max_y_world_coordinate_deviation = max(y_world_coordinates) - min(y_world_coordinates)\n",
    "    if max_y_world_coordinate_deviation > 0.25:\n",
    "        filter_out = True\n",
    "        reason = 'World y-coordinate deviation too high'\n",
    "        \n",
    "    # apply baseline biomass model\n",
    "    baseline_weight_prediction = coord2biomass_linear(world_keypoints, baseline_biomass_model)\n",
    "    if (baseline_weight_prediction < 0) or (baseline_weight_prediction > 15000):\n",
    "        filter_out = True\n",
    "        reason = 'Baseline prediction way too off'\n",
    "        \n",
    "    \n",
    "    return max_y_coordinate_deviation, filter_out, reason\n"
   ]
  },
  {
   "cell_type": "code",
   "execution_count": null,
   "metadata": {},
   "outputs": [],
   "source": [
    "baseline_biomass_model = pickle.load(open('/root/data/alok/biomass_estimation/models/model_v2.pkl', 'rb'))\n",
    "df['filter_out'] = False\n",
    "df['reason'] = None\n",
    "for idx, row in df.iterrows():\n",
    "    max_y_coordinate_deviation, filter_out, reason = \\\n",
    "        apply_filters(row.left_keypoints, row.right_keypoints, row.world_keypoints, baseline_biomass_model)\n",
    "    if filter_out:\n",
    "        df.at[idx, 'max_y_coordinate_deviation'] = max_y_coordinate_deviation\n",
    "        df.at[idx, 'filter_out'] = True\n",
    "        df.at[idx, 'reason'] = reason\n",
    "\n",
    "    "
   ]
  },
  {
   "cell_type": "code",
   "execution_count": null,
   "metadata": {},
   "outputs": [],
   "source": []
  },
  {
   "cell_type": "markdown",
   "metadata": {},
   "source": [
    "<h1> Visualize Individual Cases </h1>"
   ]
  },
  {
   "cell_type": "code",
   "execution_count": null,
   "metadata": {},
   "outputs": [],
   "source": [
    "df[df.gtsf_fish_identifier != '190607010041_bolaks-mjanes'].sort_values('max_y_coordinate_deviation', ascending=False)[['gtsf_fish_identifier', 'max_y_coordinate_deviation']]\n",
    "\n"
   ]
  },
  {
   "cell_type": "code",
   "execution_count": null,
   "metadata": {},
   "outputs": [],
   "source": []
  },
  {
   "cell_type": "code",
   "execution_count": null,
   "metadata": {},
   "outputs": [],
   "source": []
  },
  {
   "cell_type": "code",
   "execution_count": null,
   "metadata": {},
   "outputs": [],
   "source": []
  },
  {
   "cell_type": "code",
   "execution_count": null,
   "metadata": {},
   "outputs": [],
   "source": []
  },
  {
   "cell_type": "code",
   "execution_count": null,
   "metadata": {},
   "outputs": [],
   "source": []
  },
  {
   "cell_type": "code",
   "execution_count": null,
   "metadata": {},
   "outputs": [],
   "source": [
    "def convert_to_grayscale(image, gamma=2.2):\n",
    "    image = image / 255.0\n",
    "    Y = 0.2126*image[:, :, 0]**gamma + 0.7152*image[:, :, 1]**gamma + 0.0722*image[:, :, 2]**gamma\n",
    "    L = 116 * Y**(1.0/3) - 16\n",
    "    return L"
   ]
  },
  {
   "cell_type": "code",
   "execution_count": null,
   "metadata": {},
   "outputs": [],
   "source": [
    "def generate_lateral_keypoints(left_image, right_image, left_keypoints, right_keypoints, world_keypoints, \n",
    "                               bp_1='UPPER_LIP', bp_2='TAIL_NOTCH', vertical_search_size=3, window_size=100,\n",
    "                               min_breadth=0.04, max_breadth=0.2):\n",
    "    \n",
    "    for i in [0.1, 0.2, 0.3, 0.4, 0.5, 0.6, 0.7, 0.8, 0.9]:\n",
    "#         left_extrap_kp = (0.5 * left_keypoints[bp_1] + 0.5 * left_keypoints[bp_2]).astype('int64')\n",
    "#         right_extrap_kp = (0.5 * right_keypoints[bp_1] + 0.5 * right_keypoints[bp_2]).astype('int64')\n",
    "        left_extrap_kp = (i * left_keypoints[bp_1] + (1-i) * left_keypoints[bp_2]).astype('int64')\n",
    "        right_extrap_kp = (i * right_keypoints[bp_1] + (1-i) * right_keypoints[bp_2]).astype('int64')\n",
    "        bp_1_depth = world_keypoints[bp_1][1]\n",
    "        bp_2_depth = world_keypoints[bp_2][1]\n",
    "\n",
    "        # need to determine lower and upper bounds here in a data driven fashion from GTSF data\n",
    "        # hardcoded values used here\n",
    "        extrap_kp_max_depth = (bp_1_depth + bp_2_depth) / 2.0 - min_breadth / 2.0\n",
    "        extrap_kp_min_depth = (bp_1_depth + bp_2_depth) / 2.0 - max_breadth / 2.0\n",
    "\n",
    "        # Compute the feature descriptor for the extrapolated keypoint in the left image\n",
    "        extrap_kp_min_disp = disp_from_depth(extrap_kp_max_depth)\n",
    "        extrap_kp_max_disp = disp_from_depth(extrap_kp_min_depth)\n",
    "\n",
    "        left_image_grayscale = convert_to_grayscale(left_image)\n",
    "        right_image_grayscale = convert_to_grayscale(right_image)\n",
    "\n",
    "        left_box = left_image_grayscale[left_extrap_kp[1]-window_size//2:left_extrap_kp[1]+window_size//2, \n",
    "                                        left_extrap_kp[0]-window_size//2:left_extrap_kp[0]+window_size//2]\n",
    "\n",
    "        min_sad = np.inf\n",
    "        i_match, j_match = None, None\n",
    "        for i in range(left_extrap_kp[1]-vertical_search_size//2, left_extrap_kp[1]+vertical_search_size//2):\n",
    "            for j in range(left_extrap_kp[0]-int(extrap_kp_max_disp), left_extrap_kp[0]-int(extrap_kp_min_disp)):\n",
    "#             for j in range(right_extrap_kp[0]-100, right_extrap_kp[0]+100):\n",
    "                right_box = right_image_grayscale[i-window_size//2:i+window_size//2, j-window_size//2:j+window_size//2]\n",
    "                sad = np.abs(left_box - right_box).sum()\n",
    "                if sad < min_sad:\n",
    "                    i_match, j_match = i, j\n",
    "                    min_sad = sad\n",
    "\n",
    "        left_keypoints['BODY_{}'.format(i)] = left_extrap_kp\n",
    "        right_keypoints['BODY_{}'.format(i)] = np.array([j_match, i_match])\n",
    "    return left_keypoints, right_keypoints\n",
    "\n",
    "            \n",
    "            \n",
    "    \n",
    "\n"
   ]
  },
  {
   "cell_type": "code",
   "execution_count": null,
   "metadata": {},
   "outputs": [],
   "source": [
    "def generate_lateral_keypoints(left_image, right_image, left_keypoints, right_keypoints, world_keypoints, \n",
    "                               bp='EYE', horizontal_search_space = 20, vertical_search_size=20, window_size=100,\n",
    "                               min_breadth=0.04, max_breadth=0.2):\n",
    "    left_kp = left_keypoints[bp]\n",
    "    right_kp = right_keypoints[bp]\n",
    "\n",
    "    left_image_grayscale = convert_to_grayscale(left_image)\n",
    "    right_image_grayscale = convert_to_grayscale(right_image)\n",
    "    \n",
    "    left_box = left_image_grayscale[left_kp[1]-window_size//2:left_kp[1]+window_size//2, \n",
    "                                    left_kp[0]-window_size//2:left_kp[0]+window_size//2]\n",
    "    \n",
    "    min_sad = np.inf\n",
    "    i_match, j_match = None, None\n",
    "    for i in range(right_kp[1]-vertical_search_size//2, right_kp[1]+vertical_search_size//2):\n",
    "        for j in range(right_kp[0]-horizontal_search_space, right_kp[0]+horizontal_search_space):\n",
    "            right_box = right_image_grayscale[i-window_size//2:i+window_size//2, j-window_size//2:j+window_size//2]\n",
    "            sad = np.abs(left_box - right_box).sum()\n",
    "            if sad < min_sad:\n",
    "                i_match, j_match = i, j\n",
    "                min_sad = sad\n",
    "    \n",
    "    left_keypoints['BODY'] = left_kp\n",
    "    right_keypoints['BODY'] = np.array([j_match, i_match])\n",
    "    return left_keypoints, right_keypoints\n",
    "\n",
    "            \n",
    "            \n",
    "    \n",
    "\n"
   ]
  },
  {
   "cell_type": "code",
   "execution_count": null,
   "metadata": {},
   "outputs": [],
   "source": []
  },
  {
   "cell_type": "code",
   "execution_count": null,
   "metadata": {},
   "outputs": [],
   "source": []
  },
  {
   "cell_type": "code",
   "execution_count": null,
   "metadata": {},
   "outputs": [],
   "source": []
  },
  {
   "cell_type": "code",
   "execution_count": null,
   "metadata": {},
   "outputs": [],
   "source": [
    "def visualize_lateral_keypoint(gtsf_fish_identifier):\n",
    "    sfp = session.query(StereoFramePair).filter(StereoFramePair.gtsf_fish_identifier == gtsf_fish_identifier).all()[0]\n",
    "    \n",
    "    # download left and right images\n",
    "    left_image_s3_key, right_image_s3_key, s3_bucket = sfp.left_image_s3_key, sfp.right_image_s3_key, sfp.image_s3_bucket\n",
    "    \n",
    "    left_image_f = data_access_utils.download_from_s3(s3_bucket, left_image_s3_key)\n",
    "    right_image_f = data_access_utils.download_from_s3(s3_bucket, right_image_s3_key)\n",
    "    left_image = plt.imread(left_image_f)\n",
    "    right_image = plt.imread(right_image_f)\n",
    "\n",
    "    left_keypoints = json.loads(sfp.left_image_keypoint_coordinates)\n",
    "    right_keypoints = json.loads(sfp.right_image_keypoint_coordinates)\n",
    "    world_keypoints = json.loads(sfp.world_keypoint_coordinates)\n",
    "    \n",
    "    # convert coordinates from lists to numpy arrays\n",
    "    left_keypoints = {k: np.array(v) for k, v in left_keypoints.items()}\n",
    "    right_keypoints = {k: np.array(v) for k, v in right_keypoints.items()}\n",
    "    world_keypoints = {k: np.array(v) for k, v in world_keypoints.items()}\n",
    "    \n",
    "    left_keypoints, right_keypoints = generate_lateral_keypoints(left_image, right_image, left_keypoints, right_keypoints, world_keypoints)\n",
    "    \n",
    "    fig, axes = plt.subplots(2, 1, figsize=(20, 20))\n",
    "    axes[0].imshow(left_image)\n",
    "    axes[1].imshow(right_image)\n",
    "    \n",
    "    \n",
    "    for bp, kp in left_keypoints.items():\n",
    "        axes[0].scatter([kp[0]], [kp[1]], color='red', s=1)\n",
    "#         axes[0].annotate(bp, (kp[0], kp[1]), color='red')\n",
    "        \n",
    "    for bp, kp in right_keypoints.items():\n",
    "        axes[1].scatter([kp[0]], [kp[1]], color='red', s=1)\n",
    "#         axes[1].annotate(bp, (kp[0], kp[1]), color='red')\n",
    "    \n",
    "\n",
    "    plt.show()\n",
    "\n",
    "    \n",
    "    \n",
    "    "
   ]
  },
  {
   "cell_type": "code",
   "execution_count": null,
   "metadata": {},
   "outputs": [],
   "source": [
    "visualize_lateral_keypoint('190509010029')"
   ]
  },
  {
   "cell_type": "code",
   "execution_count": null,
   "metadata": {},
   "outputs": [],
   "source": []
  },
  {
   "cell_type": "code",
   "execution_count": null,
   "metadata": {},
   "outputs": [],
   "source": []
  },
  {
   "cell_type": "code",
   "execution_count": null,
   "metadata": {},
   "outputs": [],
   "source": []
  },
  {
   "cell_type": "code",
   "execution_count": null,
   "metadata": {},
   "outputs": [],
   "source": []
  },
  {
   "cell_type": "code",
   "execution_count": null,
   "metadata": {},
   "outputs": [],
   "source": []
  },
  {
   "cell_type": "code",
   "execution_count": null,
   "metadata": {},
   "outputs": [],
   "source": []
  },
  {
   "cell_type": "code",
   "execution_count": null,
   "metadata": {},
   "outputs": [],
   "source": [
    "def plot_gtsf_fish_id(gtsf_fish_identifier, left_keypoints, right_keypoints):\n",
    "\n",
    "    sfp = session.query(StereoFramePair).filter(StereoFramePair.gtsf_fish_identifier == gtsf_fish_identifier).all()[0]\n",
    "    \n",
    "    # download left and right images\n",
    "    left_image_s3_key, right_image_s3_key, s3_bucket = sfp.left_image_s3_key, sfp.right_image_s3_key, sfp.image_s3_bucket\n",
    "    \n",
    "    left_image_f = data_access_utils.download_from_s3(s3_bucket, left_image_s3_key)\n",
    "    right_image_f = data_access_utils.download_from_s3(s3_bucket, right_image_s3_key)\n",
    "    left_image = plt.imread(left_image_f)\n",
    "    right_image = plt.imread(right_image_f)\n",
    "\n",
    "    left_keypoints = json.loads(sfp.left_image_keypoint_coordinates)\n",
    "    right_keypoints = json.loads(sfp.right_image_keypoint_coordinates)\n",
    "    \n",
    "    fig, axes = plt.subplots(2, 1, figsize=(20, 20))\n",
    "    axes[0].imshow(left_image)\n",
    "    axes[1].imshow(right_image)\n",
    "    \n",
    "    \n",
    "    for bp, kp in left_keypoints.items():\n",
    "        print(bp, kp)\n",
    "        axes[0].scatter([kp[0]], [kp[1]], color='red', s=5)\n",
    "        axes[0].annotate(bp, (kp[0], kp[1]), color='red')\n",
    "        \n",
    "    for bp, kp in right_keypoints.items():\n",
    "        print(bp, kp)\n",
    "        axes[1].scatter([kp[0]], [kp[1]], color='red', s=5)\n",
    "        axes[1].annotate(bp, (kp[0], kp[1]), color='red')\n",
    "    \n",
    "\n",
    "    plt.show()\n"
   ]
  },
  {
   "cell_type": "code",
   "execution_count": null,
   "metadata": {},
   "outputs": [],
   "source": [
    "plot_gtsf_fish_id('190509010025')\n"
   ]
  },
  {
   "cell_type": "code",
   "execution_count": null,
   "metadata": {},
   "outputs": [],
   "source": []
  },
  {
   "cell_type": "code",
   "execution_count": null,
   "metadata": {},
   "outputs": [],
   "source": []
  },
  {
   "cell_type": "code",
   "execution_count": null,
   "metadata": {},
   "outputs": [],
   "source": [
    "for date in sorted(df.date.unique()):\n",
    "    print(date)\n",
    "    plt.hist(df[df.date == date].weight, bins=20)\n",
    "    plt.xlabel('weight (grams)')\n",
    "    plt.show()"
   ]
  },
  {
   "cell_type": "code",
   "execution_count": null,
   "metadata": {},
   "outputs": [],
   "source": [
    "plt.figure(figsize=(20, 10))\n",
    "plt.hist(df_cache.weight, bins=20)\n",
    "plt.show()"
   ]
  },
  {
   "cell_type": "code",
   "execution_count": null,
   "metadata": {},
   "outputs": [],
   "source": []
  },
  {
   "cell_type": "code",
   "execution_count": null,
   "metadata": {},
   "outputs": [],
   "source": [
    "df[df.weight > 5000].shape"
   ]
  },
  {
   "cell_type": "code",
   "execution_count": null,
   "metadata": {},
   "outputs": [],
   "source": []
  },
  {
   "cell_type": "code",
   "execution_count": null,
   "metadata": {},
   "outputs": [],
   "source": []
  },
  {
   "cell_type": "code",
   "execution_count": null,
   "metadata": {},
   "outputs": [],
   "source": []
  },
  {
   "cell_type": "code",
   "execution_count": null,
   "metadata": {},
   "outputs": [],
   "source": []
  },
  {
   "cell_type": "code",
   "execution_count": null,
   "metadata": {},
   "outputs": [],
   "source": []
  },
  {
   "cell_type": "code",
   "execution_count": null,
   "metadata": {},
   "outputs": [],
   "source": []
  },
  {
   "cell_type": "code",
   "execution_count": null,
   "metadata": {},
   "outputs": [],
   "source": []
  }
 ],
 "metadata": {
  "kernelspec": {
   "display_name": "Python 3",
   "language": "python",
   "name": "python3"
  },
  "language_info": {
   "codemirror_mode": {
    "name": "ipython",
    "version": 3
   },
   "file_extension": ".py",
   "mimetype": "text/x-python",
   "name": "python",
   "nbconvert_exporter": "python",
   "pygments_lexer": "ipython3",
   "version": "3.5.2"
  }
 },
 "nbformat": 4,
 "nbformat_minor": 2
}
