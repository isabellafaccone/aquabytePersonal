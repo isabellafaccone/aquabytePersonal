{
 "cells": [
  {
   "cell_type": "markdown",
   "metadata": {},
   "source": [
    "# GTSF phase I: biomass prediction"
   ]
  },
  {
   "cell_type": "markdown",
   "metadata": {},
   "source": [
    "In this notebook, we are forecasting the weights by finding the closest blender model"
   ]
  },
  {
   "cell_type": "markdown",
   "metadata": {},
   "source": [
    "### Look at the volumes created with blender"
   ]
  },
  {
   "cell_type": "markdown",
   "metadata": {},
   "source": [
    "Load blender data"
   ]
  },
  {
   "cell_type": "code",
   "execution_count": null,
   "metadata": {},
   "outputs": [],
   "source": [
    "%load_ext autoreload\n",
    "%autoreload 2\n",
    "\n",
    "import pandas as pd\n",
    "import matplotlib.pyplot as plt\n",
    "import numpy as np\n",
    "import json\n",
    "import cv2\n",
    "\n",
    "import glob\n",
    "import os\n",
    "import boto3\n",
    "import tempfile\n",
    "from sqlalchemy import create_engine, MetaData, Table, select, and_, func\n",
    "from sqlalchemy.orm import sessionmaker\n",
    "from sqlalchemy.ext.automap import automap_base\n",
    "from sklearn.linear_model import LinearRegression\n",
    "from sklearn.decomposition import PCA\n",
    "from scipy.stats import norm\n",
    "import tqdm\n",
    "import pickle\n",
    "from itertools import combinations\n",
    "from aquabyte.data_access_utils import S3AccessUtils, RDSAccessUtils\n",
    "from aquabyte.accuracy_metrics import AccuracyMetricsGenerator\n",
    "from aquabyte.optics import euclidean_distance\n",
    "\n",
    "from PIL import Image, ImageDraw\n",
    "from multiprocessing import Pool, Manager\n",
    "import copy\n",
    "import uuid\n",
    "from sklearn.preprocessing import StandardScaler\n",
    "\n",
    "pd.set_option('display.max_rows', 500)\n",
    "\n",
    "\n",
    "\n"
   ]
  },
  {
   "cell_type": "code",
   "execution_count": null,
   "metadata": {},
   "outputs": [],
   "source": []
  },
  {
   "cell_type": "markdown",
   "metadata": {},
   "source": [
    "<h1> Get world keypoint coordinates from GTSF data </h1>"
   ]
  },
  {
   "cell_type": "code",
   "execution_count": null,
   "metadata": {},
   "outputs": [],
   "source": [
    "research_sql_credentials = json.load(open(os.environ[\"SQL_CREDENTIALS\"]))\n",
    "research_rds_access_utils = RDSAccessUtils(research_sql_credentials)\n",
    "sql_engine = research_rds_access_utils.sql_engine\n",
    "Session = sessionmaker(bind=sql_engine)\n",
    "session = Session()\n",
    "\n",
    "Base = automap_base()\n",
    "Base.prepare(sql_engine, reflect=True)\n",
    "Enclosure = Base.classes.enclosures\n",
    "Calibration = Base.classes.calibrations\n",
    "GtsfDataCollection = Base.classes.gtsf_data_collections\n",
    "StereoFramePair = Base.classes.stereo_frame_pairs"
   ]
  },
  {
   "cell_type": "code",
   "execution_count": null,
   "metadata": {},
   "outputs": [],
   "source": [
    "s3_access_utils = S3AccessUtils('/root/data')"
   ]
  },
  {
   "cell_type": "code",
   "execution_count": null,
   "metadata": {},
   "outputs": [],
   "source": []
  },
  {
   "cell_type": "code",
   "execution_count": null,
   "metadata": {},
   "outputs": [],
   "source": []
  },
  {
   "cell_type": "code",
   "execution_count": null,
   "metadata": {},
   "outputs": [],
   "source": []
  },
  {
   "cell_type": "markdown",
   "metadata": {},
   "source": [
    "<h1> Create training dataset </h1>"
   ]
  },
  {
   "cell_type": "code",
   "execution_count": null,
   "metadata": {},
   "outputs": [],
   "source": [
    "session.rollback()\n",
    "sfps_all = session.query(StereoFramePair).all()\n",
    "df = pd.DataFrame()\n",
    "\n",
    "body_parts = sorted([\n",
    "    'TAIL_NOTCH',\n",
    "    'ADIPOSE_FIN',\n",
    "    'ANAL_FIN',\n",
    "    'PECTORAL_FIN',\n",
    "    'PELVIC_FIN',\n",
    "    'DORSAL_FIN',\n",
    "    'UPPER_LIP',\n",
    "    'EYE',\n",
    "    'UPPER_PRECAUDAL_PIT', \n",
    "    'LOWER_PRECAUDAL_PIT',\n",
    "    'HYPURAL_PLATE'\n",
    "])\n",
    "\n",
    "session.rollback()\n",
    "for idx, row in enumerate(sfps_all):\n",
    "    if idx % 100 == 0:\n",
    "        print(idx)\n",
    "        \n",
    "    # get fish_id and ground truth metadata\n",
    "    if row.gtsf_fish_identifier == '190321010002':\n",
    "        continue\n",
    "    ground_truth_metadata = json.loads(row.ground_truth_metadata)\n",
    "    if ground_truth_metadata['data'].get('species') != 'salmon':\n",
    "        continue\n",
    "    \n",
    "    left_keypoints = json.loads(row.left_image_keypoint_coordinates)\n",
    "    right_keypoints = json.loads(row.right_image_keypoint_coordinates)\n",
    "    wkps = json.loads(row.world_keypoint_coordinates)\n",
    "\n",
    "    df_row = {'0': idx}\n",
    "    for i in range(len(body_parts)-1):\n",
    "        for j in range(i+1, len(body_parts)):\n",
    "            d = euclidean_distance(wkps[body_parts[i]], wkps[body_parts[j]])\n",
    "            df_row['{0}-{1}'.format(i, j)] = d\n",
    "    \n",
    "    weight, length, kfactor = None, None, None\n",
    "    if 'data' in ground_truth_metadata.keys():\n",
    "        keys = ground_truth_metadata['data'].keys()\n",
    "        if 'weight' in keys or 'weightKgs' in keys:\n",
    "            weightKey = 'weight' if 'weight' in keys else 'weightKgs'\n",
    "            lengthKey = 'length' if 'length' in keys else 'lengthMms'\n",
    "            weight = ground_truth_metadata['data'][weightKey]\n",
    "            length = ground_truth_metadata['data'][lengthKey]\n",
    "            kfactor = (weight / length**3) * 1e5\n",
    "    if not weight:\n",
    "        print('No weight recorded for GTSF fish identifier: {}'.format(row.gtsf_fish_identifier))\n",
    "        continue\n",
    "        \n",
    "        \n",
    "    # calculate curvature\n",
    "    wkp = {bp: [wkps[bp][2], wkps[bp][1], wkps[bp][0]] for bp in body_parts}\n",
    "    fv1 = np.array(wkp['UPPER_LIP']) - np.array(wkp['DORSAL_FIN'])\n",
    "    fv2 = np.array(wkp['UPPER_LIP']) - np.array(wkp['PELVIC_FIN'])\n",
    "    n1 = np.cross(fv1, fv2)\n",
    "    \n",
    "    bv1 = np.array(wkp['PELVIC_FIN']) -  np.array(wkp['TAIL_NOTCH'])\n",
    "    bv2 = np.array(wkp['DORSAL_FIN']) -  np.array(wkp['TAIL_NOTCH'])\n",
    "    n2 = np.cross(bv1, bv2)\n",
    "    curvature_theta = (180 / np.pi) * np.arccos(np.dot(n1, n2) / (np.linalg.norm(n1) * np.linalg.norm(n2)))\n",
    "    \n",
    "    df_row['weight'] = weight\n",
    "    df_row['length'] = length\n",
    "    df_row['kfactor'] = kfactor\n",
    "    df_row['date'] = row.date\n",
    "    df_row['project_name'] = row.annotations_project_name\n",
    "    df_row['left_keypoints'] = json.loads(row.left_image_keypoint_coordinates)\n",
    "    df_row['right_keypoints'] = json.loads(row.right_image_keypoint_coordinates)\n",
    "    df_row['world_keypoints'] = wkps\n",
    "    df_row['gtsf_fish_identifier'] = row.gtsf_fish_identifier\n",
    "    df_row['epoch'] = row.epoch\n",
    "    df_row['stereo_frame_pair_id'] = row.id\n",
    "    df_row['curvature_theta'] = curvature_theta\n",
    "        \n",
    "    df = df.append(df_row, ignore_index=True)\n",
    "            \n",
    "    \n",
    "\n"
   ]
  },
  {
   "cell_type": "code",
   "execution_count": null,
   "metadata": {},
   "outputs": [],
   "source": []
  },
  {
   "cell_type": "code",
   "execution_count": null,
   "metadata": {},
   "outputs": [],
   "source": []
  },
  {
   "cell_type": "markdown",
   "metadata": {},
   "source": [
    "<h1> Train Model with Old Calibration </h1>"
   ]
  },
  {
   "cell_type": "code",
   "execution_count": null,
   "metadata": {},
   "outputs": [],
   "source": [
    "def generate_train_mask(df, train_frac, randomize=True):\n",
    "    x = np.zeros((df.shape[0]), dtype=bool)\n",
    "    x[:int(train_frac * df.shape[0])] = True\n",
    "    np.random.shuffle(x)\n",
    "    mask = pd.Series(x)\n",
    "    return x\n",
    "    \n"
   ]
  },
  {
   "cell_type": "code",
   "execution_count": null,
   "metadata": {},
   "outputs": [],
   "source": [
    "# define all features\n",
    "\n",
    "body_parts_subset = sorted([\n",
    "    'TAIL_NOTCH',\n",
    "    'ADIPOSE_FIN',\n",
    "    'ANAL_FIN',\n",
    "    'PECTORAL_FIN',\n",
    "    'PELVIC_FIN',\n",
    "    'DORSAL_FIN',\n",
    "    'UPPER_LIP',\n",
    "    'EYE',\n",
    "])\n",
    "\n",
    "body_part_indices = [body_parts.index(bp) for bp in body_parts_subset]\n",
    "\n",
    "pairwise_distance_columns = ['{0}-{1}'.format(x, y) for x, y in list(combinations(body_part_indices, 2))]\n",
    "interaction_columns_quadratic = []\n",
    "interaction_columns_cubic = []\n",
    "for i in range(len(pairwise_distance_columns)):\n",
    "    for j in range(i, len(pairwise_distance_columns)):\n",
    "        col1 = pairwise_distance_columns[i]\n",
    "        col2 = pairwise_distance_columns[j]\n",
    "        interaction_column = '{},{}'.format(col1, col2)\n",
    "        df[interaction_column] = df[col1] * df[col2]\n",
    "        interaction_columns_quadratic.append(interaction_column)\n",
    "        \n",
    "for i in range(len(pairwise_distance_columns)):\n",
    "    for j in range(i, len(pairwise_distance_columns)):\n",
    "        for k in range(j, len(pairwise_distance_columns)):\n",
    "            col1 = pairwise_distance_columns[i]\n",
    "            col2 = pairwise_distance_columns[j]\n",
    "            col3 = pairwise_distance_columns[k]\n",
    "            interaction_column = '{},{},{}'.format(col1, col2, col3)\n",
    "            df[interaction_column] = df[col1] * df[col2] * df[col3]\n",
    "            interaction_columns_cubic.append(interaction_column)\n",
    "            "
   ]
  },
  {
   "cell_type": "code",
   "execution_count": null,
   "metadata": {},
   "outputs": [],
   "source": [
    "np.random.seed(1)\n",
    "\n",
    "mask = generate_train_mask(df, train_frac=0.8)\n",
    "mask = mask & (~df.gtsf_fish_identifier.str.contains('190620'))\n",
    "columns = pairwise_distance_columns + interaction_columns_quadratic + interaction_columns_cubic\n",
    "\n",
    "X_train = df.loc[mask, columns].values\n",
    "y_train = df.loc[mask, 'weight'].values\n",
    "X_test = df.loc[~mask, columns].values\n",
    "y_test = df.loc[~mask, 'weight'].values\n",
    "\n",
    "scaler = StandardScaler()\n",
    "scaler.fit(X_train)\n",
    "X_train_normalized = scaler.transform(X_train)\n",
    "\n",
    "pca = PCA(n_components=min(X_train_normalized.shape[0], X_train_normalized.shape[1]))\n",
    "pca.fit(X_train_normalized)\n",
    "explained_variance_ratio = pca.explained_variance_ratio_.cumsum()\n",
    "idx = np.where(explained_variance_ratio > 0.999)[0][0]\n",
    "# idx = np.where(explained_variance_ratio > 0.999)[0][0]\n",
    "print(idx)\n",
    "\n",
    "pca = PCA(n_components=idx+1)\n",
    "pca.fit(X_train_normalized)\n",
    "X_train_transformed = pca.transform(X_train_normalized)\n",
    "X_test_normalized = scaler.transform(X_test)\n",
    "X_test_transformed = pca.transform(X_test_normalized)\n",
    "\n",
    "reg = LinearRegression().fit(X_train_transformed, y_train)\n",
    "\n",
    "y_pred = reg.predict(pca.transform(scaler.transform(df[columns].values)))\n",
    "df['prediction'] = y_pred\n",
    "df['error'] = df.prediction - df.weight\n",
    "df['error_pct'] = df.error / df.weight\n",
    "df['abs_error_pct'] = df.error_pct.abs()\n",
    "\n",
    "model = {\n",
    "    'mean': scaler.mean_,\n",
    "    'std': scaler.scale_,\n",
    "    'PCA_components': pca.components_,\n",
    "    'reg_coef': reg.coef_,\n",
    "    'reg_intercept': reg.intercept_,\n",
    "    'body_parts': body_parts_subset\n",
    "}\n",
    "\n"
   ]
  },
  {
   "cell_type": "code",
   "execution_count": null,
   "metadata": {},
   "outputs": [],
   "source": [
    "print('Done')"
   ]
  },
  {
   "cell_type": "markdown",
   "metadata": {},
   "source": [
    "<h1> Perturb pairwise distances - biased perturbation </h1>"
   ]
  },
  {
   "cell_type": "code",
   "execution_count": null,
   "metadata": {},
   "outputs": [],
   "source": []
  },
  {
   "cell_type": "code",
   "execution_count": null,
   "metadata": {},
   "outputs": [],
   "source": [
    "def get_biomass_error(mean_pct_err, std_pct_err):\n",
    "    body_parts = sorted([\n",
    "        'TAIL_NOTCH',\n",
    "        'ADIPOSE_FIN',\n",
    "        'ANAL_FIN',\n",
    "        'PECTORAL_FIN',\n",
    "        'PELVIC_FIN',\n",
    "        'DORSAL_FIN',\n",
    "        'UPPER_LIP',\n",
    "        'EYE',\n",
    "        'UPPER_PRECAUDAL_PIT', \n",
    "        'LOWER_PRECAUDAL_PIT',\n",
    "        'HYPURAL_PLATE'\n",
    "    ])\n",
    "\n",
    "    perturbed_df = pd.DataFrame()\n",
    "    for idx, row in df.iterrows():\n",
    "        df_row = {}\n",
    "        wkps = row.world_keypoints\n",
    "        for i in range(len(body_parts)-1):\n",
    "            for j in range(i+1, len(body_parts)):\n",
    "                d = euclidean_distance(wkps[body_parts[i]], wkps[body_parts[j]])\n",
    "                df_row['{0}-{1}'.format(i, j)] = d*(1+np.random.normal(mean_pct_err, std_pct_err))\n",
    "        df_row['weight'] = row.weight\n",
    "        perturbed_df = perturbed_df.append(df_row, ignore_index=True)\n",
    "    \n",
    "    # define all features\n",
    "\n",
    "    body_parts_subset = sorted([\n",
    "        'TAIL_NOTCH',\n",
    "        'ADIPOSE_FIN',\n",
    "        'ANAL_FIN',\n",
    "        'PECTORAL_FIN',\n",
    "        'PELVIC_FIN',\n",
    "        'DORSAL_FIN',\n",
    "        'UPPER_LIP',\n",
    "        'EYE',\n",
    "    ])\n",
    "\n",
    "    body_part_indices = [body_parts.index(bp) for bp in body_parts_subset]\n",
    "\n",
    "    pairwise_distance_columns = ['{0}-{1}'.format(x, y) for x, y in list(combinations(body_part_indices, 2))]\n",
    "    interaction_columns_quadratic = []\n",
    "    interaction_columns_cubic = []\n",
    "    for i in range(len(pairwise_distance_columns)):\n",
    "        for j in range(i, len(pairwise_distance_columns)):\n",
    "            col1 = pairwise_distance_columns[i]\n",
    "            col2 = pairwise_distance_columns[j]\n",
    "            interaction_column = '{},{}'.format(col1, col2)\n",
    "            perturbed_df[interaction_column] = perturbed_df[col1] * perturbed_df[col2]\n",
    "            interaction_columns_quadratic.append(interaction_column)\n",
    "\n",
    "    for i in range(len(pairwise_distance_columns)):\n",
    "        for j in range(i, len(pairwise_distance_columns)):\n",
    "            for k in range(j, len(pairwise_distance_columns)):\n",
    "                col1 = pairwise_distance_columns[i]\n",
    "                col2 = pairwise_distance_columns[j]\n",
    "                col3 = pairwise_distance_columns[k]\n",
    "                interaction_column = '{},{},{}'.format(col1, col2, col3)\n",
    "                perturbed_df[interaction_column] = perturbed_df[col1] * perturbed_df[col2] * perturbed_df[col3]\n",
    "                interaction_columns_cubic.append(interaction_column)\n",
    "\n",
    "    y_pred_perturbed = reg.predict(pca.transform(scaler.transform(perturbed_df[columns].values)))\n",
    "    errs = y_pred_perturbed - perturbed_df.weight.values\n",
    "    perturbed_df['prediction'] = y_pred_perturbed\n",
    "    perturbed_df['error'] = errs\n",
    "#     return np.median(errs) / perturbed_df.weight.values.mean()\n",
    "    \n",
    "    return perturbed_df\n",
    "    \n",
    "    \n",
    "    \n",
    "    "
   ]
  },
  {
   "cell_type": "code",
   "execution_count": null,
   "metadata": {},
   "outputs": [],
   "source": [
    "errors = list(np.arange(0, 0.2, 0.05))\n",
    "biomass_errors = []\n",
    "for e in errors:\n",
    "    biomass_error = get_biomass_error(e, 0)\n",
    "    biomass_errors.append(biomass_error)\n",
    "    \n",
    "plt.figure(figsize=(20, 10))\n",
    "plt.plot([100 * x for x in errors], [100 * x for x in biomass_errors])\n",
    "plt.xlabel('Length error percentage (%)')\n",
    "plt.ylabel('Biomass error percentage (%)')\n",
    "plt.grid()\n",
    "plt.show()"
   ]
  },
  {
   "cell_type": "code",
   "execution_count": null,
   "metadata": {},
   "outputs": [],
   "source": [
    "std_pct_errors = list(np.arange(0, 0.2, 0.05))\n",
    "biomass_errors = []\n",
    "for s in std_pct_errors:\n",
    "    biomass_error = get_biomass_error(0, s)\n",
    "    biomass_errors.append(biomass_error)\n",
    "\n",
    "plt.figure(figsize=(20, 10))\n",
    "plt.plot([100 * x for x in std_pct_errors], [100 * x for x in biomass_errors])\n",
    "plt.xlabel('Length error percentage (%)')\n",
    "plt.ylabel('Biomass error percentage (%)')\n",
    "plt.grid()\n",
    "plt.show()"
   ]
  },
  {
   "cell_type": "code",
   "execution_count": null,
   "metadata": {},
   "outputs": [],
   "source": [
    "perturbed_df = get_biomass_error(0.0, 0.05)"
   ]
  },
  {
   "cell_type": "code",
   "execution_count": null,
   "metadata": {},
   "outputs": [],
   "source": [
    "plt.scatter(perturbed_df.weight, perturbed_df.prediction)\n",
    "plt.xlim([0, 10000])\n",
    "plt.ylim([0, 10000])\n",
    "plt.show()"
   ]
  },
  {
   "cell_type": "code",
   "execution_count": null,
   "metadata": {},
   "outputs": [],
   "source": [
    "((perturbed_df.weight - perturbed_df.prediction)/perturbed_df.prediction).mean()"
   ]
  },
  {
   "cell_type": "code",
   "execution_count": null,
   "metadata": {},
   "outputs": [],
   "source": []
  },
  {
   "cell_type": "code",
   "execution_count": null,
   "metadata": {},
   "outputs": [],
   "source": []
  },
  {
   "cell_type": "code",
   "execution_count": null,
   "metadata": {},
   "outputs": [],
   "source": [
    "get_biomass_error(0, s)"
   ]
  },
  {
   "cell_type": "code",
   "execution_count": null,
   "metadata": {},
   "outputs": [],
   "source": [
    "total = 0\n",
    "N = 100000\n",
    "errs = []\n",
    "for i in range(N):\n",
    "    errs.append((1 + np.random.normal(0.0, .05))**3 - 1)\n",
    "    \n",
    "errs = np.array(errs)\n",
    "print(np.mean(errs))\n",
    "print(np.std(errs))"
   ]
  },
  {
   "cell_type": "code",
   "execution_count": null,
   "metadata": {},
   "outputs": [],
   "source": []
  },
  {
   "cell_type": "code",
   "execution_count": null,
   "metadata": {},
   "outputs": [],
   "source": [
    "mean_pct_err, std_pct_err = 0, 0.01\n",
    "\n",
    "body_parts = sorted([\n",
    "        'TAIL_NOTCH',\n",
    "        'ADIPOSE_FIN',\n",
    "        'ANAL_FIN',\n",
    "        'PECTORAL_FIN',\n",
    "        'PELVIC_FIN',\n",
    "        'DORSAL_FIN',\n",
    "        'UPPER_LIP',\n",
    "        'EYE',\n",
    "        'UPPER_PRECAUDAL_PIT', \n",
    "        'LOWER_PRECAUDAL_PIT',\n",
    "        'HYPURAL_PLATE'\n",
    "    ])\n",
    "\n",
    "perturbed_df = pd.DataFrame()\n",
    "for idx, row in df.head(1).iterrows():\n",
    "    df_row = {}\n",
    "    wkps = row.world_keypoints\n",
    "    for i in range(len(body_parts)-1):\n",
    "        for j in range(i+1, len(body_parts)):\n",
    "            d = euclidean_distance(wkps[body_parts[i]], wkps[body_parts[j]])\n",
    "            df_row['{0}-{1}'.format(i, j)] = d*(1+np.random.normal(mean_pct_err, std_pct_err))\n",
    "    df_row['weight'] = row.weight\n",
    "    perturbed_df = perturbed_df.append(df_row, ignore_index=True)\n",
    "\n",
    "\n",
    "# define all features\n",
    "\n",
    "body_parts_subset = sorted([\n",
    "    'TAIL_NOTCH',\n",
    "    'ADIPOSE_FIN',\n",
    "    'ANAL_FIN',\n",
    "    'PECTORAL_FIN',\n",
    "    'PELVIC_FIN',\n",
    "    'DORSAL_FIN',\n",
    "    'UPPER_LIP',\n",
    "    'EYE',\n",
    "])\n",
    "\n",
    "body_part_indices = [body_parts.index(bp) for bp in body_parts_subset]\n",
    "\n",
    "pairwise_distance_columns = ['{0}-{1}'.format(x, y) for x, y in list(combinations(body_part_indices, 2))]\n",
    "interaction_columns_quadratic = []\n",
    "interaction_columns_cubic = []\n",
    "for i in range(len(pairwise_distance_columns)):\n",
    "    for j in range(i, len(pairwise_distance_columns)):\n",
    "        col1 = pairwise_distance_columns[i]\n",
    "        col2 = pairwise_distance_columns[j]\n",
    "        interaction_column = '{},{}'.format(col1, col2)\n",
    "        perturbed_df[interaction_column] = perturbed_df[col1] * perturbed_df[col2]\n",
    "        interaction_columns_quadratic.append(interaction_column)\n",
    "\n",
    "for i in range(len(pairwise_distance_columns)):\n",
    "    for j in range(i, len(pairwise_distance_columns)):\n",
    "        for k in range(j, len(pairwise_distance_columns)):\n",
    "            col1 = pairwise_distance_columns[i]\n",
    "            col2 = pairwise_distance_columns[j]\n",
    "            col3 = pairwise_distance_columns[k]\n",
    "            interaction_column = '{},{},{}'.format(col1, col2, col3)\n",
    "            perturbed_df[interaction_column] = perturbed_df[col1] * perturbed_df[col2] * perturbed_df[col3]\n",
    "            interaction_columns_cubic.append(interaction_column)\n",
    "\n",
    "dev = reg.predict(pca.transform(scaler.transform(perturbed_df[columns].values))) - reg.predict(pca.transform(scaler.transform(df.head(1)[columns].values)))\n",
    "print(dev/reg.predict(pca.transform(scaler.transform(df.head(1)[columns].values))))\n",
    "\n",
    "\n"
   ]
  },
  {
   "cell_type": "code",
   "execution_count": null,
   "metadata": {},
   "outputs": [],
   "source": [
    "a = pca.transform(scaler.transform(perturbed_df[columns].values))\n",
    "b = pca.transform(scaler.transform(df.head(1)[columns].values))\n",
    "\n",
    "\n",
    "\n",
    "\n"
   ]
  },
  {
   "cell_type": "code",
   "execution_count": null,
   "metadata": {},
   "outputs": [],
   "source": [
    "pca.components_.shape"
   ]
  },
  {
   "cell_type": "code",
   "execution_count": null,
   "metadata": {},
   "outputs": [],
   "source": [
    "scaler.transform(perturbed_df[columns].values).shape"
   ]
  },
  {
   "cell_type": "code",
   "execution_count": null,
   "metadata": {},
   "outputs": [],
   "source": []
  },
  {
   "cell_type": "code",
   "execution_count": null,
   "metadata": {},
   "outputs": [],
   "source": [
    "reg.predict(a)"
   ]
  },
  {
   "cell_type": "code",
   "execution_count": null,
   "metadata": {},
   "outputs": [],
   "source": [
    "np.dot(pca.components_, scaler.transform(perturbed_df[columns].values).T)"
   ]
  },
  {
   "cell_type": "code",
   "execution_count": null,
   "metadata": {},
   "outputs": [],
   "source": []
  },
  {
   "cell_type": "code",
   "execution_count": null,
   "metadata": {},
   "outputs": [],
   "source": [
    "np.dot(pca.components_, scaler.transform(df.head(1)[columns].values).T)"
   ]
  },
  {
   "cell_type": "code",
   "execution_count": null,
   "metadata": {},
   "outputs": [],
   "source": []
  },
  {
   "cell_type": "code",
   "execution_count": null,
   "metadata": {},
   "outputs": [],
   "source": [
    "np.dot(pca.components_[6, :], scaler.transform(perturbed_df[columns].values).T)"
   ]
  },
  {
   "cell_type": "code",
   "execution_count": null,
   "metadata": {},
   "outputs": [],
   "source": [
    "np.dot(pca.components_[6, :], scaler.transform(df.head(1)[columns].values).T)"
   ]
  },
  {
   "cell_type": "code",
   "execution_count": null,
   "metadata": {},
   "outputs": [],
   "source": []
  },
  {
   "cell_type": "code",
   "execution_count": null,
   "metadata": {},
   "outputs": [],
   "source": []
  },
  {
   "cell_type": "code",
   "execution_count": null,
   "metadata": {},
   "outputs": [],
   "source": []
  },
  {
   "cell_type": "code",
   "execution_count": null,
   "metadata": {},
   "outputs": [],
   "source": []
  },
  {
   "cell_type": "code",
   "execution_count": null,
   "metadata": {},
   "outputs": [],
   "source": [
    "scaler.transform(perturbed_df[columns].values)[0][7]"
   ]
  },
  {
   "cell_type": "code",
   "execution_count": null,
   "metadata": {},
   "outputs": [],
   "source": [
    "scaler.transform(df[columns].values)[0][7]"
   ]
  },
  {
   "cell_type": "code",
   "execution_count": null,
   "metadata": {},
   "outputs": [],
   "source": []
  },
  {
   "cell_type": "code",
   "execution_count": null,
   "metadata": {},
   "outputs": [],
   "source": []
  },
  {
   "cell_type": "code",
   "execution_count": null,
   "metadata": {},
   "outputs": [],
   "source": [
    "scaler.scale_"
   ]
  },
  {
   "cell_type": "code",
   "execution_count": null,
   "metadata": {},
   "outputs": [],
   "source": [
    "a"
   ]
  },
  {
   "cell_type": "code",
   "execution_count": null,
   "metadata": {},
   "outputs": [],
   "source": [
    "perturbed_df[columns].values"
   ]
  },
  {
   "cell_type": "code",
   "execution_count": null,
   "metadata": {},
   "outputs": [],
   "source": [
    "(perturbed_df[columns].values - scaler.mean_)/scaler.scale_"
   ]
  },
  {
   "cell_type": "code",
   "execution_count": null,
   "metadata": {},
   "outputs": [],
   "source": []
  },
  {
   "cell_type": "code",
   "execution_count": null,
   "metadata": {},
   "outputs": [],
   "source": []
  },
  {
   "cell_type": "code",
   "execution_count": null,
   "metadata": {},
   "outputs": [],
   "source": []
  },
  {
   "cell_type": "code",
   "execution_count": null,
   "metadata": {},
   "outputs": [],
   "source": [
    "x = (scaler.transform(perturbed_df[columns]) - scaler.transform(df.head(1)[columns]))/scaler.transform(df.head(1)[columns])\n",
    "\n",
    "\n"
   ]
  },
  {
   "cell_type": "code",
   "execution_count": null,
   "metadata": {},
   "outputs": [],
   "source": [
    "(perturbed_df[columns].values - df.head(1)[columns].values)"
   ]
  },
  {
   "cell_type": "code",
   "execution_count": null,
   "metadata": {},
   "outputs": [],
   "source": []
  },
  {
   "cell_type": "code",
   "execution_count": null,
   "metadata": {},
   "outputs": [],
   "source": []
  },
  {
   "cell_type": "code",
   "execution_count": null,
   "metadata": {},
   "outputs": [],
   "source": []
  },
  {
   "cell_type": "code",
   "execution_count": null,
   "metadata": {},
   "outputs": [],
   "source": []
  },
  {
   "cell_type": "code",
   "execution_count": null,
   "metadata": {},
   "outputs": [],
   "source": [
    "lr = LinearRegression().fit(np.array(errors)[:, np.newaxis], np.array(biomass_errors))"
   ]
  },
  {
   "cell_type": "code",
   "execution_count": null,
   "metadata": {},
   "outputs": [],
   "source": [
    "lr.coef_"
   ]
  },
  {
   "cell_type": "code",
   "execution_count": null,
   "metadata": {},
   "outputs": [],
   "source": []
  },
  {
   "cell_type": "code",
   "execution_count": null,
   "metadata": {},
   "outputs": [],
   "source": [
    "plt.figure(figsize=(20, 10))\n",
    "plt.scatter(perturbed_df.weight.values, reg.predict(pca.transform(scaler.transform(perturbed_df[columns].values))))\n",
    "plt.plot([0, 10000], [0, 10000])\n",
    "plt.xlim([0, 10000])\n",
    "plt.ylim([0, 10000])\n",
    "\n",
    "plt.show()"
   ]
  },
  {
   "cell_type": "code",
   "execution_count": null,
   "metadata": {},
   "outputs": [],
   "source": []
  },
  {
   "cell_type": "code",
   "execution_count": null,
   "metadata": {},
   "outputs": [],
   "source": []
  },
  {
   "cell_type": "code",
   "execution_count": null,
   "metadata": {},
   "outputs": [],
   "source": []
  },
  {
   "cell_type": "code",
   "execution_count": null,
   "metadata": {},
   "outputs": [],
   "source": []
  },
  {
   "cell_type": "code",
   "execution_count": null,
   "metadata": {},
   "outputs": [],
   "source": []
  },
  {
   "cell_type": "code",
   "execution_count": null,
   "metadata": {},
   "outputs": [],
   "source": []
  },
  {
   "cell_type": "code",
   "execution_count": null,
   "metadata": {},
   "outputs": [],
   "source": []
  },
  {
   "cell_type": "code",
   "execution_count": null,
   "metadata": {},
   "outputs": [],
   "source": []
  }
 ],
 "metadata": {
  "kernelspec": {
   "display_name": "Python 3",
   "language": "python",
   "name": "python3"
  },
  "language_info": {
   "codemirror_mode": {
    "name": "ipython",
    "version": 3
   },
   "file_extension": ".py",
   "mimetype": "text/x-python",
   "name": "python",
   "nbconvert_exporter": "python",
   "pygments_lexer": "ipython3",
   "version": "3.5.2"
  }
 },
 "nbformat": 4,
 "nbformat_minor": 2
}
