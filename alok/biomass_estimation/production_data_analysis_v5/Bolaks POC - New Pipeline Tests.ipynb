{
 "cells": [
  {
   "cell_type": "code",
   "execution_count": null,
   "metadata": {},
   "outputs": [],
   "source": [
    "import json\n",
    "import os\n",
    "from matplotlib import pyplot as plt\n",
    "import numpy as np\n",
    "import pandas as pd\n",
    "import torch\n",
    "\n",
    "from research.utils.data_access_utils import S3AccessUtils, RDSAccessUtils\n",
    "from research.weight_estimation.weight_estimator import WeightEstimator\n",
    "from research.weight_estimation.population_metrics import PopulationMetricsEstimator\n",
    "from research.weight_estimation.keypoint_utils.optics import pixel2world"
   ]
  },
  {
   "cell_type": "code",
   "execution_count": null,
   "metadata": {},
   "outputs": [],
   "source": []
  },
  {
   "cell_type": "code",
   "execution_count": null,
   "metadata": {},
   "outputs": [],
   "source": [
    "# extract dataframe\n",
    "s3_access_utils = S3AccessUtils('/root/data')\n",
    "rds_access_utils = RDSAccessUtils(json.load(open(os.environ['DATA_WAREHOUSE_SQL_CREDENTIALS'])))\n",
    "\n",
    "\n",
    "# query = \"\"\"\n",
    "#     SELECT * FROM (\n",
    "#       (SELECT * FROM prod.crop_annotation cas\n",
    "#       INNER JOIN prod.annotation_state pas on pas.id=cas.annotation_state_id\n",
    "#       WHERE cas.service_id = (SELECT ID FROM prod.service where name='BATI')\n",
    "#       AND cas.annotation_state_id = 3\n",
    "#       AND cas.pen_id=88) a\n",
    "#     RIGHT JOIN \n",
    "#       (SELECT left_crop_url, estimated_weight_g, akpd_score FROM prod.biomass_computations\n",
    "#       WHERE prod.biomass_computations.captured_at between '2020-02-10' and '2020-03-10'\n",
    "#       AND prod.biomass_computations.akpd_score > 0.9) bc \n",
    "#     ON \n",
    "#       (a.left_crop_url=bc.left_crop_url)\n",
    "#     ) x\n",
    "#     WHERE x.captured_at between '2020-02-10' and '2020-03-10'\n",
    "#     AND x.pen_id = 88\n",
    "#     AND x.group_id = '88';\n",
    "# \"\"\"\n",
    "\n",
    "query = \"\"\"\n",
    "    select * from prod.biomass_computations\n",
    "    where pen_id = 88\n",
    "    and captured_at between '2020-02-10' and '2020-03-10';\n",
    "\"\"\"\n",
    "\n",
    "df = rds_access_utils.extract_from_database(query)\n",
    "df = df.sort_values('captured_at')\n",
    "df.index = pd.to_datetime(df.captured_at)\n",
    "df['hour'] = df.index.hour\n"
   ]
  },
  {
   "cell_type": "code",
   "execution_count": null,
   "metadata": {},
   "outputs": [],
   "source": [
    "df['estimated_k_factor'] = 1e5 * (df.estimated_weight_g / (df.estimated_length_mm ** 3))"
   ]
  },
  {
   "cell_type": "code",
   "execution_count": null,
   "metadata": {},
   "outputs": [],
   "source": [
    "df[columns].to_csv('/root/data/alok/biomass_estimation/playground/bolaks_data_2.csv')"
   ]
  },
  {
   "cell_type": "code",
   "execution_count": null,
   "metadata": {},
   "outputs": [],
   "source": [
    "columns = ['akpd_score', 'estimated_k_factor', 'estimated_weight_g', 'captured_at']"
   ]
  },
  {
   "cell_type": "code",
   "execution_count": null,
   "metadata": {},
   "outputs": [],
   "source": [
    "kdf = pd.read_csv('/root/data/alok/biomass_estimation/playground/bolaks_data_2.csv')"
   ]
  },
  {
   "cell_type": "code",
   "execution_count": null,
   "metadata": {},
   "outputs": [],
   "source": [
    "df.estimated_k_factor\n"
   ]
  },
  {
   "cell_type": "code",
   "execution_count": null,
   "metadata": {},
   "outputs": [],
   "source": [
    "np.nanpercentile(kdf.estimated_k_factor.values, 70)"
   ]
  },
  {
   "cell_type": "code",
   "execution_count": null,
   "metadata": {},
   "outputs": [],
   "source": [
    "df.estimated_k_factor = np.maximum(np.minimum(df.estimated_k_factor.values, 3), 0)"
   ]
  },
  {
   "cell_type": "code",
   "execution_count": null,
   "metadata": {},
   "outputs": [],
   "source": []
  },
  {
   "cell_type": "code",
   "execution_count": null,
   "metadata": {},
   "outputs": [],
   "source": []
  },
  {
   "cell_type": "code",
   "execution_count": null,
   "metadata": {},
   "outputs": [],
   "source": [
    "model_url = 'https://aquabyte-models.s3-us-west-1.amazonaws.com/biomass/trained_models/2020-04-01T00-00-00/nn_epoch_253.pb'\n",
    "s3_access_utils = S3AccessUtils('/root/data')\n",
    "model_f, _, _ = s3_access_utils.download_from_url(model_url)\n",
    "weight_estimator = WeightEstimator(model_f)\n",
    "\n",
    "df['keypoints'] = df.annotation\n",
    "preds = weight_estimator.generate_predictions(df)\n",
    "df['pred'] = preds"
   ]
  },
  {
   "cell_type": "code",
   "execution_count": null,
   "metadata": {},
   "outputs": [],
   "source": [
    "mask = (df.hour > 7) & (df.hour < 15) & (df.akpd_score > 0.9) & (df.pred > 0)\n",
    "tdf = df[mask].copy(deep=True)"
   ]
  },
  {
   "cell_type": "code",
   "execution_count": null,
   "metadata": {},
   "outputs": [],
   "source": [
    "biomass_computations = []\n",
    "for idx, row in tdf.iterrows():\n",
    "    date = str(row.captured_at)[:10]\n",
    "    biomass_computations.append((date, row.pred))\n",
    "\n"
   ]
  },
  {
   "cell_type": "code",
   "execution_count": null,
   "metadata": {},
   "outputs": [],
   "source": [
    "pme = PopulationMetricsEstimator(biomass_computations)\n",
    "dates = sorted(list(set([item[0] for item in biomass_computations])))\n",
    "smart_average_weights = []\n",
    "for date in dates:\n",
    "    w = pme.generate_smart_metrics_on_date(date)\n",
    "    smart_average_weights.append(w)"
   ]
  },
  {
   "cell_type": "code",
   "execution_count": null,
   "metadata": {},
   "outputs": [],
   "source": [
    "biomass_computations = []\n",
    "for idx, row in tdf.iterrows():\n",
    "    date = str(row.captured_at)[:10]\n",
    "    biomass_computations.append((date, row.estimated_weight_g))\n"
   ]
  },
  {
   "cell_type": "code",
   "execution_count": null,
   "metadata": {},
   "outputs": [],
   "source": [
    "pme = PopulationMetricsEstimator(biomass_computations)\n",
    "dates = sorted(list(set([item[0] for item in biomass_computations])))\n",
    "smart_average_weights_2 = []\n",
    "for date in dates:\n",
    "    w = pme.generate_smart_metrics_on_date(date)\n",
    "    smart_average_weights_2.append(w)"
   ]
  },
  {
   "cell_type": "code",
   "execution_count": null,
   "metadata": {},
   "outputs": [],
   "source": []
  },
  {
   "cell_type": "code",
   "execution_count": null,
   "metadata": {},
   "outputs": [],
   "source": [
    "plt.figure(figsize=(20, 10))\n",
    "plt.plot(pd.to_datetime(dates), smart_average_weights_2, color='blue')\n",
    "plt.plot(pd.to_datetime(dates), smart_average_weights, color='red')\n",
    "plt.grid()\n",
    "plt.show()"
   ]
  },
  {
   "cell_type": "code",
   "execution_count": null,
   "metadata": {},
   "outputs": [],
   "source": []
  },
  {
   "cell_type": "code",
   "execution_count": null,
   "metadata": {},
   "outputs": [],
   "source": [
    "tdf['world_keypoints'] = \\\n",
    "    tdf.apply(lambda row: pixel2world(row.keypoints['leftCrop'], row.keypoints['rightCrop'], row.camera_metadata), axis=1)\n",
    "\n",
    "tdf['depth'] = tdf.world_keypoints.apply(lambda x: np.mean([item[1] for item in x.values()]))"
   ]
  },
  {
   "cell_type": "code",
   "execution_count": null,
   "metadata": {},
   "outputs": [],
   "source": []
  },
  {
   "cell_type": "code",
   "execution_count": null,
   "metadata": {},
   "outputs": [],
   "source": [
    "def generate_error_breakdown(df, vals, field, pred_field, gt_field):\n",
    "    for idx in range(len(vals) - 1):\n",
    "        mask = (df[field] > vals[idx]) & (df[field] < vals[idx + 1])\n",
    "        error_pct = (df.loc[mask, pred_field].mean() - df.loc[mask, gt_field].mean()) / (df.loc[mask, gt_field].mean())\n",
    "        print('Error percentage for {} in range {} <-> {}%: {}'.format(\n",
    "            field,\n",
    "            round(vals[idx], 2), \n",
    "            round(vals[idx + 1], 2),\n",
    "            round(100*error_pct, 2))\n",
    "        )\n",
    "\n",
    "\n",
    "\n"
   ]
  },
  {
   "cell_type": "code",
   "execution_count": null,
   "metadata": {},
   "outputs": [],
   "source": [
    "generate_error_breakdown(tdf, np.arange(0.5, 2.5, 0.1), 'depth', 'pred', 'estimated_weight_g')"
   ]
  },
  {
   "cell_type": "code",
   "execution_count": null,
   "metadata": {},
   "outputs": [],
   "source": [
    "tdf.captured_at.astype(str).apply(lambda x: x[:10]).values"
   ]
  },
  {
   "cell_type": "code",
   "execution_count": null,
   "metadata": {},
   "outputs": [],
   "source": [
    "tdf[tdf.depth > 1.9].estimated_weight_g.mean()"
   ]
  },
  {
   "cell_type": "code",
   "execution_count": null,
   "metadata": {},
   "outputs": [],
   "source": [
    "tdf.estimated_weight_g.mean()"
   ]
  },
  {
   "cell_type": "code",
   "execution_count": null,
   "metadata": {},
   "outputs": [],
   "source": [
    "tdf[tdf.depth > 1.9].pred.mean()"
   ]
  },
  {
   "cell_type": "code",
   "execution_count": null,
   "metadata": {},
   "outputs": [],
   "source": [
    "mask = (tdf.depth > 1.0) & (tdf.depth < 1.5)\n",
    "(tdf[mask].pred.mean() - tdf[mask].estimated_weight_g.mean()) / tdf[mask].estimated_weight_g.mean()"
   ]
  },
  {
   "cell_type": "code",
   "execution_count": null,
   "metadata": {},
   "outputs": [],
   "source": []
  },
  {
   "cell_type": "code",
   "execution_count": null,
   "metadata": {},
   "outputs": [],
   "source": []
  },
  {
   "cell_type": "code",
   "execution_count": null,
   "metadata": {},
   "outputs": [],
   "source": []
  },
  {
   "cell_type": "code",
   "execution_count": null,
   "metadata": {},
   "outputs": [],
   "source": []
  },
  {
   "cell_type": "code",
   "execution_count": null,
   "metadata": {},
   "outputs": [],
   "source": [
    "df.to_csv('/root/data/alok/biomass_estimation/playground/bolaks_data.csv')"
   ]
  },
  {
   "cell_type": "code",
   "execution_count": null,
   "metadata": {},
   "outputs": [],
   "source": []
  },
  {
   "cell_type": "code",
   "execution_count": null,
   "metadata": {},
   "outputs": [],
   "source": []
  }
 ],
 "metadata": {
  "kernelspec": {
   "display_name": "Python 3",
   "language": "python",
   "name": "python3"
  },
  "language_info": {
   "codemirror_mode": {
    "name": "ipython",
    "version": 3
   },
   "file_extension": ".py",
   "mimetype": "text/x-python",
   "name": "python",
   "nbconvert_exporter": "python",
   "pygments_lexer": "ipython3"
  }
 },
 "nbformat": 4,
 "nbformat_minor": 2
}
