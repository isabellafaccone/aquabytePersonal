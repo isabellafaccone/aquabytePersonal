{
 "cells": [
  {
   "cell_type": "markdown",
   "metadata": {},
   "source": [
    "<h1> Calibration Comparison V1 </h1>"
   ]
  },
  {
   "cell_type": "code",
   "execution_count": 72,
   "metadata": {},
   "outputs": [],
   "source": [
    "import json, os\n",
    "import cv2\n",
    "import torch\n",
    "from multiprocessing import Pool, Manager\n",
    "from aquabyte.data_access_utils import S3AccessUtils, RDSAccessUtils\n",
    "from aquabyte.akpd import AKPD\n",
    "from aquabyte.template_matching import find_matches_and_homography\n",
    "from aquabyte.biomass_estimator import NormalizeCentered2D, NormalizedStabilityTransform, ToTensor, Network\n",
    "from aquabyte.optics import euclidean_distance, pixel2world, depth_from_disp, convert_to_world_point\n",
    "from aquabyte.data_loader import BODY_PARTS\n",
    "from aquabyte.akpd_scorer import generate_confidence_score\n",
    "from keras.models import load_model\n",
    "import boto3\n",
    "import pandas as pd\n",
    "from PIL import Image\n",
    "from collections import defaultdict\n",
    "\n",
    "import numpy as np\n",
    "from matplotlib import pyplot as plt\n",
    "import time\n",
    "\n",
    "pd.set_option('display.max_colwidth', 500)"
   ]
  },
  {
   "cell_type": "code",
   "execution_count": null,
   "metadata": {},
   "outputs": [],
   "source": []
  },
  {
   "cell_type": "markdown",
   "metadata": {},
   "source": [
    "<h1> Load and Clean Data </h1>"
   ]
  },
  {
   "cell_type": "code",
   "execution_count": 2,
   "metadata": {},
   "outputs": [],
   "source": [
    "matlab_csv_s3_url = 'https://aquabyte-calibrations.s3-eu-west-1.amazonaws.com/biomass_experiments/biomass.matlab.imr.pen-61-from-2019-09-13-to-2019-09-23.results.csv'\n",
    "s3_access_utils = S3AccessUtils('/root/data')\n",
    "matlab_csv_f, bucket, key = s3_access_utils.download_from_url(matlab_csv_s3_url)\n",
    "matlab_df = pd.read_csv(matlab_csv_f)\n"
   ]
  },
  {
   "cell_type": "code",
   "execution_count": 4,
   "metadata": {},
   "outputs": [
    {
     "name": "stdout",
     "output_type": "stream",
     "text": [
      "/root/data/s3/aquabyte-calibrations/biomass_experiments/biomass.circular.imr.pen-61-from-2019-09-13-to-2019-09-23.results.csv\n"
     ]
    }
   ],
   "source": [
    "circular_csv_s3_url = 'https://aquabyte-calibrations.s3-eu-west-1.amazonaws.com/biomass_experiments/biomass.circular.imr.pen-61-from-2019-09-13-to-2019-09-23.results.csv'\n",
    "s3_access_utils = S3AccessUtils('/root/data')\n",
    "circular_csv_f, bucket, key = s3_access_utils.download_from_url(circular_csv_s3_url)\n",
    "circular_df = pd.read_csv(circular_csv_f)\n"
   ]
  },
  {
   "cell_type": "code",
   "execution_count": 50,
   "metadata": {},
   "outputs": [],
   "source": [
    "mdf = matlab_df.copy(deep=True)\n",
    "cdf = circular_df.copy(deep=True)\n",
    "common_urls = list(set(mdf.left_crop_url).intersection(set(cdf.left_crop_url)))\n",
    "mdf = mdf[mdf.left_crop_url.isin(common_urls)].sort_values(['captured_at', 'left_crop_url']).copy(deep=True)\n",
    "cdf = cdf[cdf.left_crop_url.isin(common_urls)].sort_values(['captured_at', 'left_crop_url']).copy(deep=True)\n",
    "df = pd.DataFrame({\n",
    "    'captured_at': mdf.captured_at,\n",
    "    'weight_m': mdf.estimated_weight_g.values,\n",
    "    'weight_c': cdf.estimated_weight_g.values,\n",
    "    'akpd_score_m': mdf.akpd_score.values,\n",
    "    'akpd_score_c': cdf.akpd_score.values,\n",
    "    'left_crop_url_m': mdf.left_crop_url.values,\n",
    "    'right_crop_url_m': mdf.right_crop_url.values,\n",
    "    'left_crop_url_c': cdf.left_crop_url.values,\n",
    "    'right_crop_url_c': cdf.right_crop_url.values,\n",
    "    'ann_m': mdf.annotation.values,\n",
    "    'ann_c': cdf.annotation.values\n",
    "})\n",
    "\n",
    "df = df[(df.akpd_score_m > 0.9) & (df.akpd_score_c > 0.9)].copy(deep=True)"
   ]
  },
  {
   "cell_type": "code",
   "execution_count": null,
   "metadata": {},
   "outputs": [],
   "source": []
  },
  {
   "cell_type": "code",
   "execution_count": null,
   "metadata": {},
   "outputs": [],
   "source": []
  },
  {
   "cell_type": "markdown",
   "metadata": {},
   "source": [
    "<h1> Perform Un- and Re-Rectification </h1>"
   ]
  },
  {
   "cell_type": "code",
   "execution_count": 58,
   "metadata": {},
   "outputs": [],
   "source": [
    "def load_params(params_file):\n",
    "    params = json.load(open(params_file))\n",
    "    cameraMatrix1 = np.array(params['CameraParameters1']['IntrinsicMatrix']).transpose()\n",
    "    cameraMatrix2 = np.array(params['CameraParameters2']['IntrinsicMatrix']).transpose()\n",
    "\n",
    "    distCoeffs1 = params['CameraParameters1']['RadialDistortion'][0:2] + \\\n",
    "                   params['CameraParameters1']['TangentialDistortion'] + \\\n",
    "                   [params['CameraParameters1']['RadialDistortion'][2]]\n",
    "    distCoeffs1 = np.array(distCoeffs1)\n",
    "\n",
    "    distCoeffs2 = params['CameraParameters2']['RadialDistortion'][0:2] + \\\n",
    "                   params['CameraParameters2']['TangentialDistortion'] + \\\n",
    "                   [params['CameraParameters2']['RadialDistortion'][2]]\n",
    "    distCoeffs2 = np.array(distCoeffs2)\n",
    "\n",
    "    R = np.array(params['RotationOfCamera2']).transpose()\n",
    "    T = np.array(params['TranslationOfCamera2']).transpose()\n",
    "\n",
    "    imageSize = (4096, 3000)\n",
    "    \n",
    "    # perform rectification\n",
    "    (R1, R2, P1, P2, Q, leftROI, rightROI) = cv2.stereoRectify(cameraMatrix1, distCoeffs1, cameraMatrix2, distCoeffs2, imageSize, R, T, None, None, None, None, None, cv2.CALIB_ZERO_DISPARITY, 0)\n",
    "    \n",
    "\n",
    "    left_maps = cv2.initUndistortRectifyMap(cameraMatrix1, distCoeffs1, R1, P1, imageSize, cv2.CV_16SC2)\n",
    "    right_maps = cv2.initUndistortRectifyMap(cameraMatrix2, distCoeffs2, R2, P2, imageSize, cv2.CV_16SC2)\n",
    "    \n",
    "    return left_maps, right_maps, cameraMatrix1, distCoeffs1, R1, P1"
   ]
  },
  {
   "cell_type": "code",
   "execution_count": 60,
   "metadata": {},
   "outputs": [],
   "source": [
    "matlab_params_url = 'https://aquabyte-stereo-parameters.s3-eu-west-1.amazonaws.com/L40013180_R40029775/2020-01-14T00:00:00Z_L40013180_R40029775_stereo-parameters.json'\n",
    "circular_params_url = 'https://aquabyte-stereo-parameters.s3-eu-west-1.amazonaws.com/L40013180_R40029775/2020-02-16T17:30:33.458096000Z_L40013180_R40029775_stereo-parameters.json'\n",
    "matlab_params_f, _, _ = s3_access_utils.download_from_url(matlab_params_url)\n",
    "circular_params_f, _, _ = s3_access_utils.download_from_url(circular_params_url)\n",
    "left_maps_m, right_maps_m, cameraMatrix1_m, distCoeffs1_m, R1_m, P1_m = load_params(matlab_params_f)\n",
    "left_maps_c, right_maps_c, cameraMatrix1_c, distCoeffs1_c, R1_c, P1_c = load_params(circular_params_f)"
   ]
  },
  {
   "cell_type": "code",
   "execution_count": 91,
   "metadata": {},
   "outputs": [
    {
     "name": "stdout",
     "output_type": "stream",
     "text": [
      "leftCrop\n",
      "leftCrop\n",
      "leftCrop\n",
      "leftCrop\n",
      "leftCrop\n",
      "leftCrop\n",
      "leftCrop\n",
      "leftCrop\n",
      "rightCrop\n",
      "rightCrop\n",
      "rightCrop\n",
      "rightCrop\n",
      "rightCrop\n",
      "rightCrop\n",
      "rightCrop\n",
      "rightCrop\n"
     ]
    }
   ],
   "source": [
    "ann_m_mp_c_cp_m_list = []\n",
    "for idx, row in df.iterrows():\n",
    "    ann_m = json.loads(row.ann_m)\n",
    "    \n",
    "    # un-rectify with matlab params, re-rectify with circular params\n",
    "    ann_m_mp_c = {'leftCrop': [], 'rightCrop': []}\n",
    "    for side in ['leftCrop', 'rightCrop']:\n",
    "        for item in ann_m[side]:\n",
    "            bp = item['keypointType']\n",
    "            x, y = item['xFrame'], item['yFrame']\n",
    "            maps = left_maps_m if side == 'leftCrop' else right_maps_m\n",
    "            x_new, y_new = cv2.undistortPoints(np.array([[maps[0][y, x]]]).astype(float), \n",
    "                                cameraMatrix1_c, distCoeffs1_c, R=R1_c, P=P1_c)[0][0]\n",
    "            x_new, y_new = int(round(x_new)), int(round(y_new))\n",
    "            ann_m_mp_c[side].append({\n",
    "                'keypointType': bp,\n",
    "                'xFrame': x_new,\n",
    "                'yFrame': y_new\n",
    "            })\n",
    "            \n",
    "    \n",
    "    # now take above result, un-rectify with circular params, re-rectify with matlab params\n",
    "    ann_m_mp_c_cp_m = {'leftCrop': [], 'rightCrop': []}\n",
    "    for side in ['leftCrop', 'rightCrop']:\n",
    "        for item in ann_m_mp_c[side]:\n",
    "            bp = item['keypointType']\n",
    "            x, y = item['xFrame'], item['yFrame']\n",
    "            maps = left_maps_c if side == 'leftCrop' else right_maps_c\n",
    "            x_new, y_new = cv2.undistortPoints(np.array([[maps[0][y, x]]]).astype(float), \n",
    "                                cameraMatrix1_m, distCoeffs1_m, R=R1_m, P=P1_m)[0][0]\n",
    "            x_new, y_new = int(round(x_new)), int(round(y_new))\n",
    "            ann_m_mp_c_cp_m[side].append({\n",
    "                'keypointType': bp,\n",
    "                'xFrame': x_new,\n",
    "                'yFrame': y_new\n",
    "            })\n",
    "\n",
    "    ann_m_mp_c_cp_m_list.append(ann_m_mp_c_cp_m)\n",
    "    break"
   ]
  },
  {
   "cell_type": "code",
   "execution_count": 76,
   "metadata": {
    "scrolled": true
   },
   "outputs": [],
   "source": [
    "analysis_data = defaultdict(list)\n",
    "for ann_m, ann_m_mp_c_cp_m in zip([json.loads(x) for x in list(df.ann_m.values)], ann_m_mp_c_cp_m_list):\n",
    "    ann_m_left_kps = {item['keypointType']: [item['xFrame'], item['yFrame']] for item in ann_m['leftCrop']}\n",
    "    ann_m_right_kps = {item['keypointType']: [item['xFrame'], item['yFrame']] for item in ann_m['rightCrop']}\n",
    "    ann_m_mp_c_cp_m_left_kps = \\\n",
    "        {item['keypointType']: [item['xFrame'], item['yFrame']] for item in ann_m_mp_c_cp_m['leftCrop']}\n",
    "    ann_m_mp_c_cp_m_right_kps = \\\n",
    "        {item['keypointType']: [item['xFrame'], item['yFrame']] for item in ann_m_mp_c_cp_m['rightCrop']}\n",
    "    for bp in BODY_PARTS:\n",
    "        analysis_data['body_part'].append(bp)\n",
    "        analysis_data['x_1_l'].append(ann_m_left_kps[bp][0])\n",
    "        analysis_data['y_1_l'].append(ann_m_left_kps[bp][1])\n",
    "        analysis_data['x_1_r'].append(ann_m_right_kps[bp][0])\n",
    "        analysis_data['y_1_r'].append(ann_m_right_kps[bp][1])\n",
    "        analysis_data['x_2_l'].append(ann_m_mp_c_cp_m_left_kps[bp][0])\n",
    "        analysis_data['y_2_l'].append(ann_m_mp_c_cp_m_left_kps[bp][1])\n",
    "        analysis_data['x_2_r'].append(ann_m_mp_c_cp_m_right_kps[bp][0])\n",
    "        analysis_data['y_2_r'].append(ann_m_mp_c_cp_m_right_kps[bp][1])\n",
    "        \n",
    "    "
   ]
  },
  {
   "cell_type": "code",
   "execution_count": 77,
   "metadata": {},
   "outputs": [],
   "source": [
    "analysis_df = pd.DataFrame(analysis_data)"
   ]
  },
  {
   "cell_type": "code",
   "execution_count": 87,
   "metadata": {},
   "outputs": [
    {
     "name": "stdout",
     "output_type": "stream",
     "text": [
      "Diffs in left crop x coordinate for ADIPOSE_FIN: 0.9798468359532446\n",
      "Diffs in left crop y coordinate for ADIPOSE_FIN: 0.9985892785167271\n",
      "Diffs in right crop x coordinate for ADIPOSE_FIN: 11.296251511487304\n",
      "Diffs in right crop y coordinate for ADIPOSE_FIN: 29.073559048770658\n",
      "Diffs in left crop x coordinate for ANAL_FIN: 0.9806529625151149\n",
      "Diffs in left crop y coordinate for ANAL_FIN: 0.9840790004030633\n",
      "Diffs in right crop x coordinate for ANAL_FIN: 10.930471584038694\n",
      "Diffs in right crop y coordinate for ANAL_FIN: 30.806731156791617\n",
      "Diffs in left crop x coordinate for DORSAL_FIN: 0.9937525191455059\n",
      "Diffs in left crop y coordinate for DORSAL_FIN: 0.9925433293027005\n",
      "Diffs in right crop x coordinate for DORSAL_FIN: 9.36074163643692\n",
      "Diffs in right crop y coordinate for DORSAL_FIN: 28.87968561064087\n",
      "Diffs in left crop x coordinate for EYE: 0.9907295445384925\n",
      "Diffs in left crop y coordinate for EYE: 0.9806529625151149\n",
      "Diffs in right crop x coordinate for EYE: 8.945183393792826\n",
      "Diffs in right crop y coordinate for EYE: 30.68278919790407\n",
      "Diffs in left crop x coordinate for PECTORAL_FIN: 0.9961708988311165\n",
      "Diffs in left crop y coordinate for PECTORAL_FIN: 0.9818621523579202\n",
      "Diffs in right crop x coordinate for PECTORAL_FIN: 9.1062071745264\n",
      "Diffs in right crop y coordinate for PECTORAL_FIN: 31.20032245062475\n",
      "Diffs in left crop x coordinate for PELVIC_FIN: 0.9695687222893994\n",
      "Diffs in left crop y coordinate for PELVIC_FIN: 0.9683595324465941\n",
      "Diffs in right crop x coordinate for PELVIC_FIN: 9.92019347037485\n",
      "Diffs in right crop y coordinate for PELVIC_FIN: 31.247682386134624\n",
      "Diffs in left crop x coordinate for TAIL_NOTCH: 0.9949617089883112\n",
      "Diffs in left crop y coordinate for TAIL_NOTCH: 0.9897218863361548\n",
      "Diffs in right crop x coordinate for TAIL_NOTCH: 13.42019347037485\n",
      "Diffs in right crop y coordinate for TAIL_NOTCH: 29.812575574365177\n",
      "Diffs in left crop x coordinate for UPPER_LIP: 0.9742039500201531\n",
      "Diffs in left crop y coordinate for UPPER_LIP: 0.9945586457073761\n",
      "Diffs in right crop x coordinate for UPPER_LIP: 8.884925433293027\n",
      "Diffs in right crop y coordinate for UPPER_LIP: 30.797259169689642\n"
     ]
    }
   ],
   "source": [
    "for bp in BODY_PARTS:\n",
    "    body_part_mask = analysis_df.body_part == bp\n",
    "    diffs = analysis_df[body_part_mask].x_1_l - analysis_df[body_part_mask].x_2_l\n",
    "    print('Diffs in left crop x coordinate for {}: {}'.format(bp, diffs.abs().mean()))\n",
    "    \n",
    "    diffs = analysis_df[body_part_mask].y_1_l - analysis_df[body_part_mask].y_2_l\n",
    "    print('Diffs in left crop y coordinate for {}: {}'.format(bp, diffs.abs().mean()))\n",
    "    \n",
    "    diffs = analysis_df[body_part_mask].x_1_r - analysis_df[body_part_mask].x_2_r\n",
    "    print('Diffs in right crop x coordinate for {}: {}'.format(bp, diffs.abs().mean()))\n",
    "    \n",
    "    diffs = analysis_df[body_part_mask].y_1_r - analysis_df[body_part_mask].y_2_r\n",
    "    print('Diffs in right crop y coordinate for {}: {}'.format(bp, diffs.abs().mean()))"
   ]
  },
  {
   "cell_type": "code",
   "execution_count": null,
   "metadata": {},
   "outputs": [],
   "source": []
  },
  {
   "cell_type": "code",
   "execution_count": null,
   "metadata": {},
   "outputs": [],
   "source": []
  },
  {
   "cell_type": "code",
   "execution_count": 116,
   "metadata": {},
   "outputs": [
    {
     "name": "stdout",
     "output_type": "stream",
     "text": [
      "16.0\n"
     ]
    }
   ],
   "source": [
    "diffs = []\n",
    "for idx, row in df.iterrows():\n",
    "    ann_m = json.loads(row.ann_m)\n",
    "    ann_dict_left_kps_m = {item['keypointType']: [item['xFrame'], item['yFrame']] for item in ann_m['leftCrop']}\n",
    "    ann_dict_right_kps_m = {item['keypointType']: [item['xFrame'], item['yFrame']] for item in ann_m['rightCrop']}\n",
    "    for bp in BODY_PARTS:\n",
    "        diff = ann_dict_left_kps_m[bp][1] - ann_dict_right_kps_m[bp][1]\n",
    "        diffs.append(diff)\n",
    "\n",
    "print(np.median(diffs))"
   ]
  },
  {
   "cell_type": "code",
   "execution_count": 117,
   "metadata": {},
   "outputs": [
    {
     "name": "stdout",
     "output_type": "stream",
     "text": [
      "14.0\n"
     ]
    }
   ],
   "source": [
    "diffs = []\n",
    "for idx, row in df.iterrows():\n",
    "    ann_c = json.loads(row.ann_c)\n",
    "    ann_dict_left_kps_c = {item['keypointType']: [item['xFrame'], item['yFrame']] for item in ann_c['leftCrop']}\n",
    "    ann_dict_right_kps_c = {item['keypointType']: [item['xFrame'], item['yFrame']] for item in ann_c['rightCrop']}\n",
    "    for bp in BODY_PARTS:\n",
    "        diff = ann_dict_left_kps_c[bp][1] - ann_dict_right_kps_c[bp][1]\n",
    "        diffs.append(diff)\n",
    "print(np.median(diffs))"
   ]
  },
  {
   "cell_type": "code",
   "execution_count": 120,
   "metadata": {},
   "outputs": [
    {
     "name": "stdout",
     "output_type": "stream",
     "text": [
      "14.0\n"
     ]
    }
   ],
   "source": [
    "diffs = []\n",
    "for idx, row in cdf[cdf.akpd_score > 0.9].iterrows():\n",
    "    ann_c = json.loads(row.annotation)\n",
    "    ann_dict_left_kps_c = {item['keypointType']: [item['xFrame'], item['yFrame']] for item in ann_c['leftCrop']}\n",
    "    ann_dict_right_kps_c = {item['keypointType']: [item['xFrame'], item['yFrame']] for item in ann_c['rightCrop']}\n",
    "    for bp in BODY_PARTS:\n",
    "        diff = ann_dict_left_kps_c[bp][1] - ann_dict_right_kps_c[bp][1]\n",
    "        diffs.append(diff)\n",
    "print(np.median(diffs))"
   ]
  },
  {
   "cell_type": "code",
   "execution_count": 121,
   "metadata": {},
   "outputs": [
    {
     "data": {
      "image/png": "[encoded data removed]",
      "text/plain": [
       "<Figure size 1440x720 with 1 Axes>"
      ]
     },
     "metadata": {
      "needs_background": "light"
     },
     "output_type": "display_data"
    }
   ],
   "source": [
    "plt.figure(figsize=(20, 10))\n",
    "plt.hist(diffs, bins=100)\n",
    "plt.grid()\n",
    "plt.show()"
   ]
  },
  {
   "cell_type": "code",
   "execution_count": null,
   "metadata": {},
   "outputs": [],
   "source": []
  },
  {
   "cell_type": "code",
   "execution_count": null,
   "metadata": {},
   "outputs": [],
   "source": []
  },
  {
   "cell_type": "code",
   "execution_count": null,
   "metadata": {},
   "outputs": [],
   "source": []
  },
  {
   "cell_type": "code",
   "execution_count": null,
   "metadata": {},
   "outputs": [],
   "source": []
  }
 ],
 "metadata": {
  "kernelspec": {
   "display_name": "Python 3",
   "language": "python",
   "name": "python3"
  },
  "language_info": {
   "codemirror_mode": {
    "name": "ipython",
    "version": 3
   },
   "file_extension": ".py",
   "mimetype": "text/x-python",
   "name": "python",
   "nbconvert_exporter": "python",
   "pygments_lexer": "ipython3",
   "version": "3.6.5"
  }
 },
 "nbformat": 4,
 "nbformat_minor": 2
}
