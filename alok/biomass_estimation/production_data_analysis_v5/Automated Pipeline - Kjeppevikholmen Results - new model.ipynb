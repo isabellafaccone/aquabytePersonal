{
 "cells": [
  {
   "cell_type": "code",
   "execution_count": null,
   "metadata": {},
   "outputs": [],
   "source": [
    "import json, os\n",
    "import cv2\n",
    "import torch\n",
    "from multiprocessing import Pool, Manager\n",
    "from research.utils.data_access_utils import S3AccessUtils, RDSAccessUtils\n",
    "from research.weight_estimation.akpd import AKPD\n",
    "from research.weight_estimation.biomass_estimator import NormalizeCentered2D, NormalizedStabilityTransform, ToTensor, Network\n",
    "from research.weight_estimation.weight_estimator import WeightEstimator\n",
    "from research.weight_estimation.akpd_scorer import generate_confidence_score\n",
    "from keras.models import load_model\n",
    "from research.weight_estimation.optics import pixel2world\n",
    "import boto3\n",
    "import pandas as pd\n",
    "import numpy as np\n",
    "import plotly.express as px\n",
    "import time\n",
    "\n",
    "from matplotlib import pyplot as plt\n",
    "from PIL import Image\n",
    "from copy import copy\n",
    "\n",
    "from collections import defaultdict\n",
    "import datetime as dt\n",
    "import json\n",
    "import numpy as np\n",
    "from sklearn.linear_model import LinearRegression\n",
    "from collections import defaultdict\n",
    "\n"
   ]
  },
  {
   "cell_type": "code",
   "execution_count": null,
   "metadata": {},
   "outputs": [],
   "source": []
  },
  {
   "cell_type": "code",
   "execution_count": null,
   "metadata": {},
   "outputs": [],
   "source": [
    "df = pd.concat([\n",
    "    pd.read_csv('/root/data/alok/biomass_estimation/playground/output-pen=5/biomass_output,pen=5,range=(2019-06-05,2019-06-12).csv'),\n",
    "    pd.read_csv('/root/data/alok/biomass_estimation/playground/output-pen=5/biomass_output,pen=5,range=(2019-06-12,2019-06-19).csv'),\n",
    "    pd.read_csv('/root/data/alok/biomass_estimation/playground/output-pen=5/biomass_output,pen=5,range=(2019-06-19,2019-06-26).csv'),\n",
    "    pd.read_csv('/root/data/alok/biomass_estimation/playground/output-pen=5/biomass_output,pen=5,range=(2019-06-26,2019-07-03).csv'),\n",
    "    pd.read_csv('/root/data/alok/biomass_estimation/playground/output-pen=5/biomass_output,pen=5,range=(2019-07-03,2019-07-04).csv')\n",
    "])\n",
    "\n",
    "df = df.sort_values('captured_at')\n",
    "df['estimated_weight_g'] = df.weight\n",
    "df = df[df.akpd_score > 0.9].copy(deep=True)\n",
    "df.index = pd.to_datetime(df.captured_at)\n",
    "df['hour'] = df.index.hour\n"
   ]
  },
  {
   "cell_type": "code",
   "execution_count": null,
   "metadata": {},
   "outputs": [],
   "source": []
  },
  {
   "cell_type": "code",
   "execution_count": null,
   "metadata": {},
   "outputs": [],
   "source": [
    "camera_metadata = {\"baseline\": 0.10079791852561114, \"focalLength\": 0.013842509663066934, \"pixelCountWidth\": 4096, \"focalLengthPixel\": 4012.3216414686767, \"imageSensorWidth\": 0.01412, \"pixelCountHeight\": 3000, \"imageSensorHeight\": 0.01035}"
   ]
  },
  {
   "cell_type": "code",
   "execution_count": null,
   "metadata": {},
   "outputs": [],
   "source": []
  },
  {
   "cell_type": "code",
   "execution_count": null,
   "metadata": {},
   "outputs": [],
   "source": [
    "# instantiate weight estimator class\n",
    "\n",
    "model_f = '/root/data/alok/biomass_estimation/playground/nn_epoch_253.pb'\n",
    "weight_estimator = WeightEstimator(model_f)\n",
    "\n",
    "# generate sample predictions\n",
    "weights = []\n",
    "for idx, row in df.iterrows():\n",
    "    keypoints = json.loads(row.annotation)\n",
    "    weight_prediction = weight_estimator.predict(keypoints, camera_metadata)\n",
    "    weights.append(weight_prediction)\n",
    "    if len(weights) % 1000 == 0:\n",
    "        print(len(weights))\n"
   ]
  },
  {
   "cell_type": "code",
   "execution_count": null,
   "metadata": {},
   "outputs": [],
   "source": []
  },
  {
   "cell_type": "code",
   "execution_count": null,
   "metadata": {},
   "outputs": [],
   "source": [
    "np.mean(weights)"
   ]
  },
  {
   "cell_type": "code",
   "execution_count": null,
   "metadata": {},
   "outputs": [],
   "source": [
    "df.weight.mean()"
   ]
  },
  {
   "cell_type": "code",
   "execution_count": null,
   "metadata": {},
   "outputs": [],
   "source": [
    "def get_world_keypoints(x):\n",
    "    return pixel2world(x['leftCrop'], \n",
    "                       x['rightCrop'], \n",
    "                       camera_metadata)\n",
    "\n",
    "def compute_yaw_angle(wkp):\n",
    "    v = wkp['UPPER_LIP'] - wkp['TAIL_NOTCH']\n",
    "    yaw_angle = np.arctan(v[1] / v[0]) * 180.0 / np.pi\n",
    "    return yaw_angle\n",
    "\n",
    "df['world_keypoints'] = df.annotation.apply(lambda x: get_world_keypoints(json.loads(x)))\n",
    "df['median_depth'] = df.world_keypoints.apply(lambda x: np.median([wkp[1] for wkp in x.values()]))\n",
    "df['yaw_angle'] = df.world_keypoints.apply(lambda x: compute_yaw_angle(x))"
   ]
  },
  {
   "cell_type": "code",
   "execution_count": null,
   "metadata": {},
   "outputs": [],
   "source": [
    "plt.figure(figsize=(20, 10))\n",
    "plt.hist(df.yaw_angle, bins=100)\n",
    "plt.grid()\n",
    "plt.show()"
   ]
  },
  {
   "cell_type": "code",
   "execution_count": null,
   "metadata": {},
   "outputs": [],
   "source": [
    "plt.figure(figsize=(20, 10))\n",
    "plt.hist(df.median_depth, bins=100)\n",
    "plt.grid()\n",
    "plt.show()"
   ]
  },
  {
   "cell_type": "code",
   "execution_count": null,
   "metadata": {},
   "outputs": [],
   "source": [
    "df['difference'] = np.array(weights) - df.weight"
   ]
  },
  {
   "cell_type": "code",
   "execution_count": null,
   "metadata": {},
   "outputs": [],
   "source": [
    "depth_values = np.arange(0.5, 2.0, 0.1)\n",
    "for idx in range(len(depth_values) - 1):\n",
    "    low, high = depth_values[idx], depth_values[idx + 1]\n",
    "    mean_difference = df[(df.median_depth > low) & (df.median_depth < high)].difference.median()\n",
    "    print('Mean difference at depth range {}-{}: {}'.format(round(low, 1), round(high, 1), \n",
    "                                                            round(mean_difference, 2)))"
   ]
  },
  {
   "cell_type": "code",
   "execution_count": null,
   "metadata": {},
   "outputs": [],
   "source": [
    "depth_values = np.arange(0.5, 2.0, 0.1)\n",
    "for idx in range(len(depth_values) - 1):\n",
    "    low, high = depth_values[idx], depth_values[idx + 1]\n",
    "    std_difference = df[(df.median_depth > low) & (df.median_depth < high)].difference.std()\n",
    "    print('Std difference at depth range {}-{}: {}'.format(round(low, 1), round(high, 1), \n",
    "                                                            round(std_difference, 2)))"
   ]
  },
  {
   "cell_type": "code",
   "execution_count": null,
   "metadata": {},
   "outputs": [],
   "source": []
  },
  {
   "cell_type": "code",
   "execution_count": null,
   "metadata": {},
   "outputs": [],
   "source": []
  },
  {
   "cell_type": "code",
   "execution_count": null,
   "metadata": {},
   "outputs": [],
   "source": [
    "yaw_values = np.arange(-60, 60, 10)\n",
    "low_depth = 1.6\n",
    "for idx in range(len(yaw_values) - 1):\n",
    "    low, high = yaw_values[idx], yaw_values[idx + 1]\n",
    "    mean_difference = df[(df.median_depth > low_depth) & (df.median_depth < low_depth + 0.1) & \\\n",
    "                         (df.yaw_angle > low) & (df.yaw_angle < high)].difference.mean()\n",
    "    print('Mean difference at yaw range {}-{}: {}'.format(round(low, 1), round(high, 1), \n",
    "                                                            round(mean_difference, 2)))\n"
   ]
  },
  {
   "cell_type": "code",
   "execution_count": null,
   "metadata": {},
   "outputs": [],
   "source": [
    "plt.figure(figsize=(20, 10))\n",
    "plt.hist(df.difference, bins=100)\n",
    "plt.grid()\n",
    "plt.show()"
   ]
  },
  {
   "cell_type": "code",
   "execution_count": null,
   "metadata": {},
   "outputs": [],
   "source": []
  },
  {
   "cell_type": "code",
   "execution_count": null,
   "metadata": {},
   "outputs": [],
   "source": [
    "def display_crops(left_image, right_image, ann, overlay_keypoints=True, show_labels=False):\n",
    "    fig, axes = plt.subplots(2, 1, figsize=(20, 20))\n",
    "    axes[0].imshow(left_image)\n",
    "    axes[1].imshow(right_image)\n",
    "    \n",
    "    left_keypoints = {item['keypointType']: [item['xCrop'], item['yCrop']] for item in ann['leftCrop']}\n",
    "    right_keypoints = {item['keypointType']: [item['xCrop'], item['yCrop']] for item in ann['rightCrop']}\n",
    "    if overlay_keypoints:\n",
    "        for bp, kp in left_keypoints.items():\n",
    "            axes[0].scatter([kp[0]], [kp[1]], color='red', s=1)\n",
    "            if show_labels:\n",
    "                axes[0].annotate(bp, (kp[0], kp[1]), color='red')\n",
    "        for bp, kp in right_keypoints.items():\n",
    "            axes[1].scatter([kp[0]], [kp[1]], color='red', s=1)\n",
    "            if show_labels:\n",
    "                axes[1].annotate(bp, (kp[0], kp[1]), color='red')\n",
    "    plt.show()"
   ]
  },
  {
   "cell_type": "code",
   "execution_count": null,
   "metadata": {},
   "outputs": [],
   "source": [
    "s3_access_utils = S3AccessUtils('/root/data')"
   ]
  },
  {
   "cell_type": "code",
   "execution_count": null,
   "metadata": {},
   "outputs": [],
   "source": [
    "idx = 6\n",
    "mask = (df.median_depth > 1.8) & (df.median_depth < 1.9)\n",
    "tdf = df[mask].copy(deep=True)\n",
    "left_crop_url = tdf.left_crop_url.iloc[idx]\n",
    "right_crop_url = tdf.right_crop_url.iloc[idx]\n",
    "print(tdf.difference.iloc[idx])\n",
    "left_crop_f, _, left_crop_key = s3_access_utils.download_from_url(left_crop_url)\n",
    "right_crop_f, _, right_crop_key = s3_access_utils.download_from_url(right_crop_url)\n",
    "left_crop = Image.open(left_crop_f)\n",
    "right_crop = Image.open(right_crop_f)\n",
    "\n",
    "left_raw_image_key = os.path.join(os.path.dirname(left_crop_key), 'left_frame.resize_512_512.jpg')\n",
    "right_raw_image_key = os.path.join(os.path.dirname(right_crop_key), 'right_frame.resize_512_512.jpg')\n",
    "left_raw_image_f = s3_access_utils.download_from_s3('aquabyte-frames-resized-inbound', left_raw_image_key)\n",
    "right_raw_image_f = s3_access_utils.download_from_s3('aquabyte-frames-resized-inbound', right_raw_image_key)\n",
    "\n",
    "left_image = Image.open(left_crop_f)\n",
    "right_image = Image.open(right_crop_f)\n",
    "ann = json.loads(tdf.annotation.iloc[idx])\n",
    "display_crops(left_crop, right_crop, ann)"
   ]
  },
  {
   "cell_type": "code",
   "execution_count": null,
   "metadata": {},
   "outputs": [],
   "source": [
    "Image.open(left_raw_image_f)"
   ]
  },
  {
   "cell_type": "code",
   "execution_count": null,
   "metadata": {},
   "outputs": [],
   "source": [
    "Image.open(right_raw_image_f)"
   ]
  },
  {
   "cell_type": "code",
   "execution_count": null,
   "metadata": {},
   "outputs": [],
   "source": []
  },
  {
   "cell_type": "code",
   "execution_count": null,
   "metadata": {},
   "outputs": [],
   "source": []
  },
  {
   "cell_type": "code",
   "execution_count": null,
   "metadata": {},
   "outputs": [],
   "source": []
  },
  {
   "cell_type": "code",
   "execution_count": null,
   "metadata": {},
   "outputs": [],
   "source": []
  },
  {
   "cell_type": "code",
   "execution_count": null,
   "metadata": {},
   "outputs": [],
   "source": []
  }
 ],
 "metadata": {
  "kernelspec": {
   "display_name": "Python 3",
   "language": "python",
   "name": "python3"
  },
  "language_info": {
   "codemirror_mode": {
    "name": "ipython",
    "version": 3
   },
   "file_extension": ".py",
   "mimetype": "text/x-python",
   "name": "python",
   "nbconvert_exporter": "python",
   "pygments_lexer": "ipython3"
  }
 },
 "nbformat": 4,
 "nbformat_minor": 2
}
