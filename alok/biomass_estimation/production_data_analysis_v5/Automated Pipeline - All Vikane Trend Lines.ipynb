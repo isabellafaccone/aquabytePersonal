{
 "cells": [
  {
   "cell_type": "code",
   "execution_count": 1,
   "metadata": {},
   "outputs": [
    {
     "name": "stderr",
     "output_type": "stream",
     "text": [
      "Using TensorFlow backend.\n"
     ]
    }
   ],
   "source": [
    "import json, os\n",
    "import cv2\n",
    "import torch\n",
    "from multiprocessing import Pool, Manager\n",
    "from aquabyte.data_access_utils import S3AccessUtils, RDSAccessUtils\n",
    "from aquabyte.akpd import AKPD\n",
    "from aquabyte.template_matching import find_matches_and_homography\n",
    "from aquabyte.biomass_estimator import NormalizeCentered2D, NormalizedStabilityTransform, ToTensor, Network\n",
    "from aquabyte.akpd_scorer import generate_confidence_score\n",
    "from keras.models import load_model\n",
    "import boto3\n",
    "import pandas as pd\n",
    "import numpy as np\n",
    "import plotly.express as px\n",
    "import time\n",
    "from matplotlib import pyplot as plt\n",
    "\n",
    "from collections import defaultdict\n",
    "import datetime as dt\n",
    "import json\n",
    "import numpy as np\n",
    "from sklearn.linear_model import LinearRegression\n",
    "from collections import defaultdict\n",
    "\n"
   ]
  },
  {
   "cell_type": "code",
   "execution_count": 2,
   "metadata": {},
   "outputs": [],
   "source": [
    "s3_access_utils = S3AccessUtils('/root/data')\n",
    "rds_access_utils = RDSAccessUtils(json.load(open(os.environ['DATA_WAREHOUSE_SQL_CREDENTIALS'])))\n",
    "\n"
   ]
  },
  {
   "cell_type": "code",
   "execution_count": null,
   "metadata": {},
   "outputs": [],
   "source": []
  },
  {
   "cell_type": "code",
   "execution_count": null,
   "metadata": {},
   "outputs": [],
   "source": [
    "events = [\n",
    "    {\n",
    "        'start_date': '2019-10-31',\n",
    "        'end_date': '2019-10-31',\n",
    "        'pens': [56, 57, 58, 59, 60],\n",
    "        'message': 'YOLOv3 version 1 released'\n",
    "    },\n",
    "    {\n",
    "        'start_date': '2019-11-20',\n",
    "        'end_date': '2019-11-26',\n",
    "        'pens': [56, 57, 58, 59, 60],\n",
    "        'message': 'Delousing Event'\n",
    "    },\n",
    "    {\n",
    "        'start_date': '2019-12-17',\n",
    "        'end_date': '2019-12-17',\n",
    "        'pens': [56],\n",
    "        'message': 'New enclosure with circular calibration'\n",
    "    },\n",
    "    {\n",
    "        'start_date': '2019-12-17',\n",
    "        'end_date': '2019-12-17',\n",
    "        'pens': [57],\n",
    "        'message': 'New enclosure with circular calibration'\n",
    "    },\n",
    "    {\n",
    "        'start_date': '2019-12-20',\n",
    "        'end_date': '2019-12-20',\n",
    "        'pens': [57],\n",
    "        'message': 'New enclosure with circular calibration'\n",
    "    },\n",
    "    {\n",
    "        'start_date': '2020-01-24',\n",
    "        'end_date': '2020-01-24',\n",
    "        'pens': [58],\n",
    "        'message': 'New enclosure with circular calibration'\n",
    "    },\n",
    "    {\n",
    "        'start_date': '2019-10-08',\n",
    "        'end_date': '2019-10-08',\n",
    "        'pens': [59],\n",
    "        'message': 'New enclosure with circular calibration'\n",
    "    },\n",
    "    {\n",
    "        'start_date': '2020-01-24',\n",
    "        'end_date': '2020-01-24',\n",
    "        'pens': [59],\n",
    "        'message': 'New enclosure with circular calibration'\n",
    "    },\n",
    "    {\n",
    "        'start_date': '2020-01-17',\n",
    "        'end_date': '2020-01-17',\n",
    "        'pens': [56, 57, 58, 59, 60],\n",
    "        'message': 'YOLOv3 version 2 released'\n",
    "    }\n",
    "]\n",
    "    "
   ]
  },
  {
   "cell_type": "code",
   "execution_count": null,
   "metadata": {},
   "outputs": [],
   "source": []
  },
  {
   "cell_type": "code",
   "execution_count": null,
   "metadata": {},
   "outputs": [],
   "source": []
  },
  {
   "cell_type": "code",
   "execution_count": null,
   "metadata": {},
   "outputs": [],
   "source": []
  },
  {
   "cell_type": "code",
   "execution_count": null,
   "metadata": {},
   "outputs": [],
   "source": [
    "def generate_trend(pen_id, group_id, events):\n",
    "    \n",
    "    # extract dataframe\n",
    "    query = \"\"\"\n",
    "        SELECT * FROM\n",
    "        prod.biomass_computations bc\n",
    "        WHERE bc.pen_id={0}\n",
    "        AND (bc.group_id='{1}' OR bc.group_id='{0}')\n",
    "        AND bc.captured_at between '2019-10-01' and '2020-01-31'\n",
    "        AND bc.akpd_score > 0.9;\n",
    "    \"\"\".format(pen_id, group_id)\n",
    "\n",
    "    df = rds_access_utils.extract_from_database(query)\n",
    "\n",
    "\n",
    "    # get daily averages and sample sizes\n",
    "    df.index = pd.to_datetime(df.captured_at)\n",
    "    tdf = df.estimated_weight_g.resample('D').agg(lambda x: x.mean())\n",
    "    rdf = df.estimated_weight_g.resample('D').agg(lambda x: x.shape[0])\n",
    "\n",
    "    # generate plots\n",
    "    fig, axes = plt.subplots(2, 1, figsize=(10, 10))\n",
    "    axes[0].plot(tdf.index, tdf.values, color='blue')\n",
    "    axes[0].grid()\n",
    "    axes[0].set_title('Pen ID: {}, Raw Daily Weight Averages'.format(pen_id))\n",
    "\n",
    "    axes[1].plot(rdf.index, rdf.values, color='blue')\n",
    "    axes[1].set_title('Pen ID: {}, Daily Sample Size'.format(pen_id))\n",
    "    axes[1].grid()\n",
    "\n",
    "    # mark events\n",
    "    idx = 0\n",
    "    for e in events:\n",
    "        if pen_id in e['pens']:\n",
    "            start_date, end_date = e['start_date'], e['end_date']\n",
    "            for i in [0, 1]:\n",
    "                if start_date == end_date:\n",
    "                    axes[i].axvline(start_date, linestyle='--', color='C{}'.format(idx), label=e['message'])\n",
    "                    idx += 1\n",
    "                else:\n",
    "                    axes[i].axvline(start_date, linestyle='--', color='C{}'.format(idx), label='{}: START'.format(e['message']))\n",
    "                    idx += 1\n",
    "                    axes[i].axvline(end_date, linestyle='--', color='C{}'.format(idx), label='{}: END'.format(e['message']))\n",
    "                    idx += 1\n",
    "\n",
    "    for i in [0, 1]:\n",
    "        axes[i].legend()\n",
    "    plt.show()"
   ]
  },
  {
   "cell_type": "code",
   "execution_count": 6,
   "metadata": {},
   "outputs": [
    {
     "ename": "NameError",
     "evalue": "name 'events' is not defined",
     "output_type": "error",
     "traceback": [
      "\u001b[0;31m\u001b[0m",
      "\u001b[0;31mNameError\u001b[0mTraceback (most recent call last)",
      "\u001b[0;32m<ipython-input-6-3f76140cf7e2>\u001b[0m in \u001b[0;36m<module>\u001b[0;34m\u001b[0m\n\u001b[1;32m     32\u001b[0m \u001b[0;31m# mark events\u001b[0m\u001b[0;34m\u001b[0m\u001b[0;34m\u001b[0m\u001b[0m\n\u001b[1;32m     33\u001b[0m \u001b[0midx\u001b[0m \u001b[0;34m=\u001b[0m \u001b[0;36m0\u001b[0m\u001b[0;34m\u001b[0m\u001b[0m\n\u001b[0;32m---> 34\u001b[0;31m \u001b[0;32mfor\u001b[0m \u001b[0me\u001b[0m \u001b[0;32min\u001b[0m \u001b[0mevents\u001b[0m\u001b[0;34m:\u001b[0m\u001b[0;34m\u001b[0m\u001b[0m\n\u001b[0m\u001b[1;32m     35\u001b[0m     \u001b[0;32mif\u001b[0m \u001b[0mpen_id\u001b[0m \u001b[0;32min\u001b[0m \u001b[0me\u001b[0m\u001b[0;34m[\u001b[0m\u001b[0;34m'pens'\u001b[0m\u001b[0;34m]\u001b[0m\u001b[0;34m:\u001b[0m\u001b[0;34m\u001b[0m\u001b[0m\n\u001b[1;32m     36\u001b[0m         \u001b[0mstart_date\u001b[0m\u001b[0;34m,\u001b[0m \u001b[0mend_date\u001b[0m \u001b[0;34m=\u001b[0m \u001b[0me\u001b[0m\u001b[0;34m[\u001b[0m\u001b[0;34m'start_date'\u001b[0m\u001b[0;34m]\u001b[0m\u001b[0;34m,\u001b[0m \u001b[0me\u001b[0m\u001b[0;34m[\u001b[0m\u001b[0;34m'end_date'\u001b[0m\u001b[0;34m]\u001b[0m\u001b[0;34m\u001b[0m\u001b[0m\n",
      "\u001b[0;31mNameError\u001b[0m: name 'events' is not defined"
     ]
    },
    {
     "data": {
      "image/png": "[encoded data removed]",
      "text/plain": [
       "<Figure size 720x720 with 2 Axes>"
      ]
     },
     "metadata": {
      "needs_background": "light"
     },
     "output_type": "display_data"
    }
   ],
   "source": [
    "# extract dataframe\n",
    "# pen_id, group_id = 57, '57_t3_akpd'\n",
    "pen_id, group_id = 57, '57'\n",
    "query = \"\"\"\n",
    "    SELECT * FROM\n",
    "    prod.biomass_computations bc\n",
    "    WHERE bc.pen_id={0}\n",
    "    AND (bc.group_id='{1}' OR bc.group_id='{0}')\n",
    "    AND bc.captured_at between '2020-02-01' and '2020-02-29'\n",
    "    AND bc.akpd_score > 0.9;\n",
    "\"\"\".format(pen_id, group_id)\n",
    "\n",
    "df = rds_access_utils.extract_from_database(query)\n",
    "df = df.sort_values('captured_at')\n",
    "\n",
    "\n",
    "# get daily averages and sample sizes\n",
    "df.index = pd.to_datetime(df.captured_at)\n",
    "tdf = df.estimated_weight_g.resample('D').agg(lambda x: x.mean())\n",
    "rdf = df.estimated_weight_g.resample('D').agg(lambda x: x.shape[0])\n",
    "\n",
    "# generate plots\n",
    "fig, axes = plt.subplots(2, 1, figsize=(10, 10))\n",
    "axes[0].plot(tdf.index, tdf.values, color='blue')\n",
    "axes[0].grid()\n",
    "axes[0].set_title('Pen ID: {}, Raw Daily Weight Averages'.format(pen_id))\n",
    "\n",
    "axes[1].plot(rdf.index, rdf.values, color='blue')\n",
    "axes[1].set_title('Pen ID: {}, Daily Sample Size'.format(pen_id))\n",
    "axes[1].grid()\n",
    "\n",
    "# mark events\n",
    "idx = 0\n",
    "for e in events:\n",
    "    if pen_id in e['pens']:\n",
    "        start_date, end_date = e['start_date'], e['end_date']\n",
    "        for i in [0, 1]:\n",
    "            if start_date == end_date:\n",
    "                axes[i].axvline(start_date, linestyle='--', color='C{}'.format(idx), label=e['message'])\n",
    "                idx += 1\n",
    "            else:\n",
    "                axes[i].axvline(start_date, linestyle='--', color='C{}'.format(idx), label='{}: START'.format(e['message']))\n",
    "                idx += 1\n",
    "                axes[i].axvline(end_date, linestyle='--', color='C{}'.format(idx), label='{}: END'.format(e['message']))\n",
    "                idx += 1\n",
    "\n",
    "for i in [0, 1]:\n",
    "    axes[i].legend()\n",
    "plt.show()"
   ]
  },
  {
   "cell_type": "code",
   "execution_count": 7,
   "metadata": {},
   "outputs": [],
   "source": [
    "tdf = pd.DataFrame()\n",
    "tdf['base_key'] = sorted(df.left_crop_url.apply(lambda x: '/'.join(x.split('/')[3:-1])).unique().tolist())"
   ]
  },
  {
   "cell_type": "code",
   "execution_count": 9,
   "metadata": {},
   "outputs": [],
   "source": [
    "tdf.to_csv('/root/data/alok/biomass_estimation/playground/vikane_data_base_keys_feb.csv')"
   ]
  },
  {
   "cell_type": "code",
   "execution_count": null,
   "metadata": {},
   "outputs": [],
   "source": [
    "plt.figure(figsize=(20, 10))\n",
    "plt.plot(df.estimated_weight_g.resample('D').apply(lambda x: x.mean()))\n",
    "plt.plot(df.estimated_weight_g.rolling('3D').mean().resample('D').apply(lambda x: x[-1] if x.shape[0] else None))\n",
    "plt.grid()\n",
    "plt.show()"
   ]
  },
  {
   "cell_type": "code",
   "execution_count": null,
   "metadata": {},
   "outputs": [],
   "source": [
    "plt.figure(figsize=(20, 10))\n",
    "kdf = df.estimated_weight_g.rolling('5D').mean().resample('D').apply(lambda x: x[-1] if x.shape[0] else None)\n",
    "plt.hist(kdf[:'2019-12-15'].diff(1) / kdf[:'2019-12-15'])\n",
    "plt.show()"
   ]
  },
  {
   "cell_type": "code",
   "execution_count": null,
   "metadata": {},
   "outputs": [],
   "source": []
  },
  {
   "cell_type": "code",
   "execution_count": null,
   "metadata": {},
   "outputs": [],
   "source": []
  },
  {
   "cell_type": "code",
   "execution_count": null,
   "metadata": {},
   "outputs": [],
   "source": []
  },
  {
   "cell_type": "code",
   "execution_count": null,
   "metadata": {},
   "outputs": [],
   "source": [
    "generate_trend(56, '56_t3_akpd', events)"
   ]
  },
  {
   "cell_type": "code",
   "execution_count": null,
   "metadata": {},
   "outputs": [],
   "source": [
    "generate_trend(57, '57_t3_akpd', events)"
   ]
  },
  {
   "cell_type": "code",
   "execution_count": null,
   "metadata": {},
   "outputs": [],
   "source": [
    "generate_trend(58, '58_t3_akpd', events)"
   ]
  },
  {
   "cell_type": "code",
   "execution_count": null,
   "metadata": {},
   "outputs": [],
   "source": [
    "generate_trend(59, '59_t3_akpd', events)"
   ]
  },
  {
   "cell_type": "code",
   "execution_count": null,
   "metadata": {},
   "outputs": [],
   "source": [
    "generate_trend(60, '60_t3_akpd', events)"
   ]
  },
  {
   "cell_type": "code",
   "execution_count": null,
   "metadata": {},
   "outputs": [],
   "source": [
    "generate_trend(73, '73_t3_akpd', events)"
   ]
  },
  {
   "cell_type": "code",
   "execution_count": null,
   "metadata": {},
   "outputs": [],
   "source": []
  },
  {
   "cell_type": "code",
   "execution_count": null,
   "metadata": {},
   "outputs": [],
   "source": []
  },
  {
   "cell_type": "code",
   "execution_count": null,
   "metadata": {},
   "outputs": [],
   "source": []
  },
  {
   "cell_type": "code",
   "execution_count": null,
   "metadata": {},
   "outputs": [],
   "source": []
  },
  {
   "cell_type": "code",
   "execution_count": null,
   "metadata": {},
   "outputs": [],
   "source": [
    "\n"
   ]
  },
  {
   "cell_type": "code",
   "execution_count": null,
   "metadata": {},
   "outputs": [],
   "source": [
    "dates = sorted(list(set(df.index.date.astype(str))))\n",
    "N = 4\n",
    "for idx in range(len(dates)-N-1):\n",
    "    start_date, end_date, date = dates[idx], dates[idx+N], dates[idx+N+1]\n",
    "    mean_adjustment = df[date].estimated_weight_g.mean() - df[start_date:end_date].estimated_weight_g.mean()\n",
    "    x = np.percentile(df[start_date:end_date].estimated_weight_g + mean_adjustment, list(range(100)))\n",
    "    y = np.percentile(df[date].estimated_weight_g, list(range(100)))\n",
    "    fig, axes = plt.subplots(1, 2, figsize=(15, 5))\n",
    "    axes[0].scatter(x[1:99], y[1:99])\n",
    "    axes[0].plot([x[1], x[99]], [x[1], x[99]], color='red')\n",
    "    axes[0].set_title(date)\n",
    "    axes[0].grid()\n",
    "    \n",
    "    lower_bound = int(df[start_date:date].estimated_weight_g.min() * 0.8)\n",
    "    upper_bound = int(df[start_date:date].estimated_weight_g.max() * 1.2)\n",
    "    \n",
    "    axes[1].hist(df[start_date:end_date].estimated_weight_g, bins=list(np.arange(lower_bound, upper_bound, 100)), color='blue', alpha=0.5, density=True)\n",
    "    axes[1].hist(df[date].estimated_weight_g, bins=list(np.arange(lower_bound, upper_bound, 100)), color='red', alpha=0.5, density=True)\n",
    "    axes[1].set_title(date)\n",
    "    axes[1].grid()\n",
    "    \n",
    "    print(np.mean(np.square((x[1:99] - y[1:99]) / y[1:99])) ** 0.5)\n",
    "    print(mean_adjustment / df[start_date:end_date].estimated_weight_g.mean())\n",
    "    \n",
    "    plt.show()"
   ]
  },
  {
   "cell_type": "code",
   "execution_count": null,
   "metadata": {},
   "outputs": [],
   "source": []
  },
  {
   "cell_type": "code",
   "execution_count": null,
   "metadata": {},
   "outputs": [],
   "source": []
  },
  {
   "cell_type": "code",
   "execution_count": null,
   "metadata": {},
   "outputs": [],
   "source": []
  },
  {
   "cell_type": "code",
   "execution_count": null,
   "metadata": {},
   "outputs": [],
   "source": []
  },
  {
   "cell_type": "code",
   "execution_count": null,
   "metadata": {},
   "outputs": [],
   "source": []
  },
  {
   "cell_type": "code",
   "execution_count": null,
   "metadata": {},
   "outputs": [],
   "source": [
    "def compute_growth_rate(tdf, rdf, start_date, end_date):\n",
    "    x_values = [(dt.datetime.strptime(k, '%Y-%m-%d') - \\\n",
    "                 dt.datetime.strptime(start_date, '%Y-%m-%d')).days \\\n",
    "                 for k in tdf.index.date.astype(str)]\n",
    "    X = np.array(x_values).reshape(-1, 1)\n",
    "    y = np.log(tdf.values)\n",
    "    reg = LinearRegression().fit(X, y, sample_weight=rdf.values)\n",
    "    growth_rate = reg.coef_[0]\n",
    "    trend_score = reg.score(X, y, sample_weight=rdf.values)\n",
    "    return growth_rate, trend_score\n",
    "\n",
    "\n",
    "def compute_distribution_confidence(df, start_date, end_date, date):\n",
    "    mean_adjustment = df[date:date].estimated_weight_g.mean() - df[start_date:end_date].estimated_weight_g.mean()\n",
    "    x = np.percentile(df[start_date:end_date].estimated_weight_g + mean_adjustment, list(range(100)))\n",
    "    y = np.percentile(df[date:date].estimated_weight_g, list(range(100)))\n",
    "    distribution_confidence = np.mean(np.square((x[1:99] - y[1:99]) / y[1:99])) ** 0.5\n",
    "    return distribution_confidence\n",
    "\n",
    "\n",
    "# NOTE: we need to think more carefully about this to understand how distribution \n",
    "# confidence and trend score affect the minimum sample size we want...\n",
    "def compute_minimum_sample_size(distribution_confidence, trend_score):\n",
    "    return 5000\n",
    "    \n",
    "\n",
    "def compute_smart_average(df, tdf, rdf, date, distribution_confidence, growth_rate, \n",
    "                          trend_score, window_size_d, bucket_size=0.1):\n",
    "    \n",
    "    dates = sorted(list(tdf.index.date.astype(str)))\n",
    "    if len(dates) == 1:\n",
    "        growth_rate = 0.0\n",
    "    minimum_sample_size = compute_minimum_sample_size(distribution_confidence, trend_score)\n",
    "    x_values = [(dt.datetime.strptime(date, '%Y-%m-%d') - \\\n",
    "                 dt.datetime.strptime(k, '%Y-%m-%d')).days \\\n",
    "                 for k in tdf.index.date.astype(str)]\n",
    "    X = np.array(x_values).reshape(-1, 1)\n",
    "    Y = tdf.values\n",
    "    N = rdf.values\n",
    "    \n",
    "    for i in range(3, window_size_d):\n",
    "        if N[np.abs(np.squeeze(X)) <= i].sum() >= minimum_sample_size:\n",
    "            break\n",
    "    N[np.abs(np.squeeze(X)) > i] = 0\n",
    "    \n",
    "    smart_average = 0.0\n",
    "    sample_size = 0.0\n",
    "    adj_weights = []\n",
    "    total_days = 0\n",
    "    for x, y, n, this_date in zip(X, Y, N, dates):\n",
    "        smart_average += np.exp(x * growth_rate) * y * n\n",
    "        sample_size += n\n",
    "        if n > 0:\n",
    "            adj_weights_for_date = \\\n",
    "                list(np.exp(x * growth_rate) * df[this_date:this_date].estimated_weight_g.values)\n",
    "            adj_weights.extend(adj_weights_for_date)\n",
    "            total_days += 1\n",
    "        \n",
    "    smart_average /= sample_size\n",
    "    \n",
    "    adj_weights = np.array(adj_weights)\n",
    "    distribution = {}\n",
    "    buckets = [round(x, 1) for x in np.arange(0.0, 1e-3 * adj_weights.max(), bucket_size)]\n",
    "    for b in buckets:\n",
    "        low, high = 1e3 * b, 1e3 * (b + bucket_size)\n",
    "        count = adj_weights[(adj_weights >= low) & (adj_weights < high)].shape[0]\n",
    "        distribution[b] = count / sample_size\n",
    "    \n",
    "    output = {\n",
    "        'weightMovingAvg': smart_average,\n",
    "        'weightMovingDist': distribution,\n",
    "        'numMovingAvgBatiFish': sample_size,\n",
    "        'numMovingAvgLookbackDays': total_days,\n",
    "        'dailyGrowthRate': growth_rate\n",
    "    }\n",
    "    \n",
    "    return output\n",
    "\n",
    "\n",
    "def compute_date_range(historical_dates, date, window_size_d):\n",
    "    FMT = '%Y-%m-%d'\n",
    "    max_num_days = 0\n",
    "    start_date, end_date = None, None\n",
    "    for i in range(window_size_d // 2 + 1):\n",
    "        lower_bound_date = (dt.datetime.strptime(date, FMT) - dt.timedelta(days=window_size_d-1) + \\\n",
    "                            dt.timedelta(days=i)).strftime(FMT)\n",
    "        upper_bound_date = (dt.datetime.strptime(date, FMT) + dt.timedelta(days=i)).strftime(FMT)\n",
    "        num_days = ((np.array(historical_dates)  >= lower_bound_date) & \\\n",
    "                    (np.array(historical_dates) <= upper_bound_date)).sum()\n",
    "        if num_days >= max_num_days:\n",
    "            start_date, end_date = lower_bound_date, upper_bound_date\n",
    "            max_num_days = num_days\n",
    "    \n",
    "    return start_date, end_date\n",
    "\n",
    "\n",
    "def compute_metrics(date, records_json, window_size_d=7):\n",
    "    \n",
    "    records = json.loads(records_json)\n",
    "    \n",
    "    dts, vals = [], []\n",
    "    for iter_date in records:\n",
    "        for val in records[iter_date]:\n",
    "            dts.append(iter_date)\n",
    "            vals.append(val)\n",
    "\n",
    "    df = pd.DataFrame(vals, index=pd.to_datetime(dts), columns=['estimated_weight_g'])\n",
    "    \n",
    "    # get raw statistics\n",
    "    raw_avg_weight = df[date:date].estimated_weight_g.mean()\n",
    "    raw_sample_size = df[date:date].shape[0]\n",
    "    \n",
    "    # compute relevant date range\n",
    "    historical_dates = sorted(list(set(df.index.date.astype(str))))\n",
    "    start_date, end_date = compute_date_range(historical_dates, date, window_size_d)\n",
    "    \n",
    "    rdf = df[start_date:end_date].estimated_weight_g.resample('D').agg(lambda x: x.shape[0])\n",
    "    tdf = df[start_date:end_date].estimated_weight_g.resample('D').agg(lambda x: x.mean())\n",
    "    tdf = tdf[rdf > 0].copy(deep=True)\n",
    "    rdf = rdf[rdf > 0].copy(deep=True)\n",
    "    \n",
    "    growth_rate, trend_score, distribution_confidence = None, None, None\n",
    "    if start_date < end_date:\n",
    "        growth_rate, trend_score = compute_growth_rate(tdf, rdf, start_date, end_date)\n",
    "        distribution_confidence = compute_distribution_confidence(df, start_date, end_date, date)\n",
    "    smart_average = compute_smart_average(df, tdf, rdf, date, \n",
    "                                          distribution_confidence, growth_rate, \n",
    "                                          trend_score, window_size_d)\n",
    "    metadata = {\n",
    "        'growth_rate': growth_rate,\n",
    "        'trend_score': trend_score,\n",
    "        'distribution_confidence': distribution_confidence\n",
    "    }\n",
    "\n",
    "    return smart_average, metadata\n"
   ]
  },
  {
   "cell_type": "code",
   "execution_count": null,
   "metadata": {},
   "outputs": [],
   "source": []
  },
  {
   "cell_type": "code",
   "execution_count": null,
   "metadata": {},
   "outputs": [],
   "source": []
  },
  {
   "cell_type": "code",
   "execution_count": null,
   "metadata": {},
   "outputs": [],
   "source": []
  },
  {
   "cell_type": "code",
   "execution_count": null,
   "metadata": {},
   "outputs": [],
   "source": [
    "# extract dataframe\n",
    "pen_id, group_id = 60, '60_t3_akpd'\n",
    "query = \"\"\"\n",
    "    SELECT * FROM\n",
    "    prod.biomass_computations bc\n",
    "    WHERE bc.pen_id={0}\n",
    "    AND (bc.group_id='{1}' OR bc.group_id='{0}')\n",
    "    AND bc.captured_at between '2019-10-01' and '2019-11-15'\n",
    "    AND bc.akpd_score > 0.9;\n",
    "\"\"\".format(pen_id, group_id)\n",
    "\n",
    "df = rds_access_utils.extract_from_database(query)\n",
    "df = df.sort_values('captured_at')\n",
    "\n",
    "\n",
    "# get daily averages and sample sizes\n",
    "df.index = pd.to_datetime(df.captured_at)\n",
    "records = defaultdict(list)\n",
    "for date in sorted(list(set(df.index.date.astype(str)))):\n",
    "    records[date].extend(df[date].estimated_weight_g.values.tolist())\n",
    "    \n",
    "records_json = json.dumps(records)\n",
    "\n",
    "\n"
   ]
  },
  {
   "cell_type": "code",
   "execution_count": null,
   "metadata": {},
   "outputs": [],
   "source": [
    "dates = sorted(list(set(df.index.date.astype(str))))\n",
    "raw_avg_weights, raw_sample_sizes, growth_rates, trend_scores, smart_averages, distribution_confidences = [], [], [], [], [], []\n",
    "for date in dates:\n",
    "    print(date)\n",
    "    smart_average, metadata \\\n",
    "        = compute_metrics(date, records_json)\n",
    "    smart_averages.append(smart_average['weightMovingAvg'])\n",
    "    raw_avg_weights.append(df[date].estimated_weight_g.mean())\n"
   ]
  },
  {
   "cell_type": "code",
   "execution_count": null,
   "metadata": {},
   "outputs": [],
   "source": []
  },
  {
   "cell_type": "code",
   "execution_count": null,
   "metadata": {},
   "outputs": [],
   "source": []
  },
  {
   "cell_type": "code",
   "execution_count": null,
   "metadata": {},
   "outputs": [],
   "source": [
    "import plotly.graph_objects as go\n"
   ]
  },
  {
   "cell_type": "code",
   "execution_count": null,
   "metadata": {},
   "outputs": [],
   "source": [
    "fig = go.Figure()\n",
    "fig.add_trace(go.Scatter(x=x_values, y=raw_avg_weights,\n",
    "                    mode='lines+markers',\n",
    "                    name='Raw Average Weight'))\n",
    "fig.add_trace(go.Scatter(x=x_values, y=[x[0] for x in smart_averages],\n",
    "                    mode='lines',\n",
    "                    name='Smart Average Weight'))\n",
    "\n",
    "fig.update_layout(title='Average Weight vs. Time',\n",
    "                   xaxis_title='Date',\n",
    "                   yaxis_title='Average Weight (g)')\n",
    "fig.show()"
   ]
  },
  {
   "cell_type": "code",
   "execution_count": null,
   "metadata": {},
   "outputs": [],
   "source": [
    "dates = list(x_values.date.astype(str))\n",
    "kdf = pd.DataFrame({\n",
    "    'date': dates,\n",
    "    'raw_avg_weight': raw_avg_weights,\n",
    "    'smart_avg_weight': [x[0] for x in smart_averages]\n",
    "})"
   ]
  },
  {
   "cell_type": "code",
   "execution_count": null,
   "metadata": {},
   "outputs": [],
   "source": [
    "kdf.to_csv('/root/data/alok/biomass_estimation/playground/vikane_data.csv')"
   ]
  },
  {
   "cell_type": "code",
   "execution_count": null,
   "metadata": {},
   "outputs": [],
   "source": []
  },
  {
   "cell_type": "code",
   "execution_count": null,
   "metadata": {},
   "outputs": [],
   "source": [
    "plt.figure(figsize=(20, 10))\n",
    "x_values = df.estimated_weight_g.resample('D').agg(lambda x: x.shape[0]).dropna().index\n",
    "y = df.estimated_weight_g.resample('D').agg(lambda x: x.shape[0]).dropna().values\n",
    "plt.plot(x_values, y)\n",
    "plt.grid()\n",
    "plt.show()"
   ]
  },
  {
   "cell_type": "code",
   "execution_count": null,
   "metadata": {},
   "outputs": [],
   "source": [
    "plt.figure(figsize=(20, 10))\n",
    "x_values = df.estimated_weight_g.resample('D').agg(lambda x: x.mean()).dropna().index\n",
    "plt.plot(x_values, raw_avg_weights)\n",
    "plt.plot(x_values, smart_averages)\n",
    "plt.grid()\n",
    "plt.show()"
   ]
  },
  {
   "cell_type": "code",
   "execution_count": null,
   "metadata": {},
   "outputs": [],
   "source": []
  },
  {
   "cell_type": "code",
   "execution_count": null,
   "metadata": {},
   "outputs": [],
   "source": []
  },
  {
   "cell_type": "code",
   "execution_count": null,
   "metadata": {},
   "outputs": [],
   "source": [
    "fig, axes = plt.subplots(4, 1, figsize=(10, 27))\n",
    "x_values = df.estimated_weight_g.resample('D').agg(lambda x: x.mean()).dropna().index\n",
    "axes[0].plot(x_values, raw_avg_weights)\n",
    "axes[0].plot(x_values, smart_averages)\n",
    "axes[1].plot(x_values, growth_rates)\n",
    "axes[2].plot(x_values, trend_scores)\n",
    "axes[3].plot(x_values, distribution_confidences)\n",
    "for i, title in zip([0, 1, 2, 3], ['Raw avg. weight', 'Growth rate', 'Local trend score', 'Distribution Confidence']):\n",
    "    axes[i].grid()\n",
    "    axes[i].set_title(title)\n",
    "plt.grid()\n",
    "plt.show()\n"
   ]
  },
  {
   "cell_type": "code",
   "execution_count": null,
   "metadata": {},
   "outputs": [],
   "source": []
  },
  {
   "cell_type": "code",
   "execution_count": null,
   "metadata": {},
   "outputs": [],
   "source": []
  },
  {
   "cell_type": "code",
   "execution_count": null,
   "metadata": {},
   "outputs": [],
   "source": []
  },
  {
   "cell_type": "code",
   "execution_count": null,
   "metadata": {},
   "outputs": [],
   "source": []
  },
  {
   "cell_type": "code",
   "execution_count": null,
   "metadata": {},
   "outputs": [],
   "source": []
  },
  {
   "cell_type": "code",
   "execution_count": null,
   "metadata": {},
   "outputs": [],
   "source": []
  },
  {
   "cell_type": "code",
   "execution_count": null,
   "metadata": {},
   "outputs": [],
   "source": []
  },
  {
   "cell_type": "code",
   "execution_count": null,
   "metadata": {},
   "outputs": [],
   "source": []
  },
  {
   "cell_type": "code",
   "execution_count": null,
   "metadata": {},
   "outputs": [],
   "source": []
  },
  {
   "cell_type": "code",
   "execution_count": null,
   "metadata": {},
   "outputs": [],
   "source": []
  },
  {
   "cell_type": "code",
   "execution_count": null,
   "metadata": {},
   "outputs": [],
   "source": []
  },
  {
   "cell_type": "code",
   "execution_count": null,
   "metadata": {},
   "outputs": [],
   "source": []
  }
 ],
 "metadata": {
  "kernelspec": {
   "display_name": "Python 3",
   "language": "python",
   "name": "python3"
  },
  "language_info": {
   "codemirror_mode": {
    "name": "ipython",
    "version": 3
   },
   "file_extension": ".py",
   "mimetype": "text/x-python",
   "name": "python",
   "nbconvert_exporter": "python",
   "pygments_lexer": "ipython3",
   "version": "3.6.5"
  }
 },
 "nbformat": 4,
 "nbformat_minor": 2
}
