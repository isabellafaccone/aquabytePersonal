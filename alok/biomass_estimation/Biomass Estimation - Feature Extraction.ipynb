{
 "cells": [
  {
   "cell_type": "code",
   "execution_count": 20,
   "metadata": {},
   "outputs": [],
   "source": [
    "from PIL import Image, ImageDraw\n",
    "import numpy as np\n",
    "import pandas as pd\n",
    "import json\n",
    "import math\n",
    "from matplotlib import pyplot as plt\n",
    "%matplotlib inline"
   ]
  },
  {
   "cell_type": "code",
   "execution_count": 45,
   "metadata": {},
   "outputs": [],
   "source": [
    "data_dir_base = '/root/blender'\n",
    "idx = 3\n",
    "\n",
    "def get_data(data_dir_base, idx):\n",
    "    # get annotation data\n",
    "    annotation_file_name = 'annot_{}.json'.format(idx)\n",
    "    annotation_file_path = '{}/{}/{}'.format(data_dir_base, 'annotations', annotation_file_name)\n",
    "    annotation_data = json.load(open(annotation_file_path, 'rb'))\n",
    "\n",
    "    # get segmentation data\n",
    "    segmentation_file_name = 'left_{}.png'.format(idx)\n",
    "    segmentation_file_path = '{}/{}/{}'.format(data_dir_base, 'mask', segmentation_file_name)\n",
    "    image = Image.open(segmentation_file_path)\n",
    "    mask = np.array(image)\n",
    "\n",
    "    # get depth map data\n",
    "    depth_map_file_name = 'depth_map_{}.npy'.format(idx)\n",
    "    depth_map_file_path = '{}/{}/{}'.format(data_dir_base, 'depth_map', depth_map_file_name)\n",
    "    depth_map = np.load(depth_map_file_path).T\n",
    "    \n",
    "    return { 'image': image, 'annotation_data': annotation_data, 'mask': mask, 'depth_map': depth_map }\n"
   ]
  },
  {
   "cell_type": "code",
   "execution_count": 46,
   "metadata": {},
   "outputs": [],
   "source": [
    "data = get_data(data_dir_base, idx)\n",
    "image = data['image']\n",
    "annotation_data = data['annotation_data']\n",
    "mask = data['mask']\n",
    "depth_map = data['depth_map']"
   ]
  },
  {
   "cell_type": "code",
   "execution_count": null,
   "metadata": {},
   "outputs": [],
   "source": []
  },
  {
   "cell_type": "markdown",
   "metadata": {},
   "source": [
    "<h1> Get depth distribution across all points on the visible surface of the fish </h1>"
   ]
  },
  {
   "cell_type": "code",
   "execution_count": 47,
   "metadata": {},
   "outputs": [
    {
     "name": "stdout",
     "output_type": "stream",
     "text": [
      "[62570 13930  3981  1536  1275   852   714     0     0    22] [  5.16873646   6.18765059   7.20656471   8.22547884   9.24439297\n",
      "  10.26330709  11.28222122  12.30113535  13.32004948  14.3389636\n",
      "  15.35787773]\n",
      "7 12.3011353493\n",
      "Mean depth value: 6.239781204806595\n",
      "Maximum depth value: 12.140323638916016\n",
      "Minimum depth value: 5.168736457824707\n"
     ]
    }
   ],
   "source": [
    "hist_counts, hist_bucket_endpoints = np.histogram(depth_map[np.where(mask[:,:,0] == 253)])\n",
    "print(hist_counts, hist_bucket_endpoints)\n",
    "cutoff_idx = np.where(hist_counts == 0)[0][0]\n",
    "cutoff = hist_bucket_endpoints[cutoff_idx]\n",
    "print(cutoff_idx, cutoff)\n",
    "print('Mean depth value: {}'.format(depth_map[np.where((depth_map < cutoff) & (mask[:,:,0] == 253)) ].mean()))\n",
    "print('Maximum depth value: {}'.format(depth_map[np.where((depth_map < cutoff) & (mask[:,:,0] == 253)) ].max()))\n",
    "print('Minimum depth value: {}'.format(depth_map[np.where((depth_map < cutoff) & (mask[:,:,0] == 253)) ].min()))"
   ]
  },
  {
   "cell_type": "markdown",
   "metadata": {},
   "source": [
    "<h1> Get pixel coordinates for determining length, width, and breadth </h1>"
   ]
  },
  {
   "cell_type": "markdown",
   "metadata": {},
   "source": [
    "Consider the line $l$ (in pixel space) that best fits the pixels corresponding to the fish mask $M$ according to a least-squares regression. Let $p_1 \\in M$ be the point on line $l$ with the smallest $x$-coordinate, and let $p_2 \\in M$ be the point on $l$ with the largest $x$-coordinate. The line segment defined by these two points corresponds to the length of the fish in pixel space. \n",
    "\n",
    "Now consider centroid $c = (\\bar{x}, \\bar{y})$ of the fish mask and the line $k$ that passes through $c$ and is perpendicular to $l$. "
   ]
  },
  {
   "cell_type": "code",
   "execution_count": 48,
   "metadata": {},
   "outputs": [],
   "source": [
    "def get_points_of_interest(mask):\n",
    "    mask_values = np.where(mask[:,:,0] == 253)\n",
    "    x_values = mask_values[1]\n",
    "    y_values = mask_values[0]\n",
    "    adj_y_values = mask.shape[0] - y_values\n",
    "    mask_points = list(zip(x_values, adj_y_values))\n",
    "\n",
    "    A = np.vstack([x_values, np.ones(len(x_values))]).T\n",
    "    res = np.linalg.lstsq(A,adj_y_values)\n",
    "    m, b = res[0]\n",
    "\n",
    "    # get length endpoints\n",
    "    x_lower = x_values.min()\n",
    "    while x_lower < mask.shape[1]:\n",
    "        adj_y_lower = int(round(m*x_lower + b))\n",
    "        y_lower = mask.shape[0] - 1 - adj_y_lower\n",
    "        if ((x_lower, adj_y_lower) in mask_points and (depth_map[y_lower, x_lower] < cutoff)): \n",
    "            break\n",
    "        x_lower += 1\n",
    "\n",
    "    x_upper = x_values.max()\n",
    "    while x_upper > 0:\n",
    "        adj_y_upper = int(round(m*x_upper + b))\n",
    "        y_upper = mask.shape[0] - 1 - adj_y_upper\n",
    "        if ((x_upper, adj_y_upper) in mask_points and (depth_map[y_upper, x_upper] < cutoff)):\n",
    "            break\n",
    "        x_upper -= 1\n",
    "\n",
    "    y_lower = mask.shape[0] - adj_y_lower\n",
    "    y_upper = mask.shape[0] - adj_y_upper\n",
    "    length_endpoint_1 = (x_lower, y_lower)\n",
    "    length_endpoint_2 = (x_upper, y_upper)\n",
    "\n",
    "    # get width endpoints\n",
    "    m = -1 / float(m)\n",
    "    b = adj_y_values.mean() - m*x_values.mean()\n",
    "\n",
    "    adj_y_lower = adj_y_values.min()\n",
    "    while adj_y_lower < mask.shape[0]:\n",
    "        x_lower = int(round((adj_y_lower - b)/float(m)))\n",
    "        y_lower = mask.shape[0] - 1 - adj_y_lower\n",
    "        if ((x_lower, adj_y_lower) in mask_points and (depth_map[y_lower, x_lower] < cutoff)):\n",
    "            break\n",
    "        adj_y_lower += 1\n",
    "\n",
    "\n",
    "    adj_y_upper = adj_y_values.max()\n",
    "    while adj_y_upper > 0:\n",
    "        x_upper = int(round((adj_y_upper - b)/float(m)))\n",
    "        y_upper = mask.shape[0] - 1 - adj_y_upper\n",
    "        if ((x_upper, adj_y_upper) in mask_points and (depth_map[y_upper, x_upper] < cutoff)):\n",
    "            break\n",
    "        adj_y_upper -= 1\n",
    "\n",
    "    # y_lower = mask.shape[0] - 1 - adj_y_lower\n",
    "    # y_upper = mask.shape[0] - 1 - adj_y_upper\n",
    "    width_endpoint_1 = (x_lower, y_lower)\n",
    "    width_endpoint_2 = (x_upper, y_upper)\n",
    "\n",
    "    # get centroid coordinates\n",
    "    x_centroid = mask_values[1].mean()\n",
    "    y_centroid = mask_values[0].mean()\n",
    "    centroid = (x_centroid, y_centroid)\n",
    "    return {\n",
    "        'length_endpoint_1': length_endpoint_1,\n",
    "        'length_endpoint_2': length_endpoint_2,\n",
    "        'width_endpoint_1': width_endpoint_1,\n",
    "        'width_endpoint_2': width_endpoint_2,\n",
    "        'centroid': centroid\n",
    "    }"
   ]
  },
  {
   "cell_type": "code",
   "execution_count": 49,
   "metadata": {
    "scrolled": false
   },
   "outputs": [
    {
     "data": {
      "image/png": "[encoded data removed]",
      "text/plain": [
       "<PIL.PngImagePlugin.PngImageFile image mode=RGBA size=1280x768 at 0x7F435A4675C0>"
      ]
     },
     "execution_count": 49,
     "metadata": {},
     "output_type": "execute_result"
    }
   ],
   "source": [
    "results = get_points_of_interest(mask)\n",
    "length_endpoint_1 = results['length_endpoint_1']\n",
    "length_endpoint_2 = results['length_endpoint_2']\n",
    "width_endpoint_1 = results['width_endpoint_1']\n",
    "width_endpoint_2 = results['width_endpoint_2']\n",
    "centroid = results['centroid']\n",
    "draw = ImageDraw.Draw(image)\n",
    "draw.line((length_endpoint_1[0], length_endpoint_1[1], length_endpoint_2[0], length_endpoint_2[1]), fill=255)\n",
    "draw.line((width_endpoint_1[0], width_endpoint_1[1], width_endpoint_2[0], width_endpoint_2[1]), fill=255)\n",
    "image"
   ]
  },
  {
   "cell_type": "code",
   "execution_count": null,
   "metadata": {},
   "outputs": [],
   "source": []
  },
  {
   "cell_type": "markdown",
   "metadata": {},
   "source": [
    "<h1> Get world coordinates of head, tail and fish centroid on visible surface </h1>"
   ]
  },
  {
   "cell_type": "code",
   "execution_count": 37,
   "metadata": {
    "scrolled": true
   },
   "outputs": [],
   "source": [
    "focal_length = 0.1\n",
    "baseline = 6.5\n",
    "image_sensor_width = 3.2\n",
    "image_sensor_height = 1.8\n",
    "px_count_width = mask.shape[0]\n",
    "px_count_height = mask.shape[1]\n"
   ]
  },
  {
   "cell_type": "markdown",
   "metadata": {},
   "source": [
    "<h1> Get length and width in world space </h1>"
   ]
  },
  {
   "cell_type": "code",
   "execution_count": 38,
   "metadata": {},
   "outputs": [],
   "source": [
    "def convert_to_world_point(x, y, depth_map, mask):\n",
    "    image_center_x = mask.shape[1] / 2.0\n",
    "    image_center_y = mask.shape[0] / 2.0\n",
    "    px_x = x - image_center_x\n",
    "    px_z = image_center_y - y\n",
    "    sensor_x = px_x * (image_sensor_width / px_count_width)\n",
    "    sensor_z = px_z * (image_sensor_height / px_count_height)\n",
    "\n",
    "    d = depth_map[y, x]\n",
    "    world_y = d / (math.sqrt(1 + ((sensor_x**2 + sensor_z**2)/(focal_length**2))))\n",
    "    world_x = (world_y * sensor_x) / focal_length\n",
    "    world_z = (world_y * sensor_z) / focal_length\n",
    "    \n",
    "    return (world_x, world_y, world_z)\n",
    "\n",
    "def distance_between_points(p1, p2):\n",
    "    return math.sqrt((p1[0] - p2[0])**2 + (p1[1] - p2[1])**2 + (p1[2] - p2[2])**2)"
   ]
  },
  {
   "cell_type": "code",
   "execution_count": 39,
   "metadata": {},
   "outputs": [],
   "source": [
    "length_endpoint_1_world = convert_to_world_point(length_endpoint_1[0], length_endpoint_1[1], depth_map, mask)\n",
    "length_endpoint_2_world = convert_to_world_point(length_endpoint_2[0], length_endpoint_2[1], depth_map, mask)\n",
    "width_endpoint_1_world = convert_to_world_point(width_endpoint_1[0], width_endpoint_1[1], depth_map, mask)\n",
    "width_endpoint_2_world = convert_to_world_point(width_endpoint_2[0], width_endpoint_2[1], depth_map, mask)\n",
    "centroid_world = convert_to_world_point(int(round(centroid[0])), int(round(centroid[1])), depth_map, mask)\n",
    "length = distance_between_points(length_endpoint_1_world, length_endpoint_2_world)\n",
    "width = distance_between_points(width_endpoint_1_world, width_endpoint_2_world)\n"
   ]
  },
  {
   "cell_type": "code",
   "execution_count": null,
   "metadata": {},
   "outputs": [],
   "source": []
  },
  {
   "cell_type": "markdown",
   "metadata": {},
   "source": [
    "<h1> Extract features for all fish in the Blender dataset </h1>"
   ]
  },
  {
   "cell_type": "code",
   "execution_count": 51,
   "metadata": {},
   "outputs": [
    {
     "name": "stdout",
     "output_type": "stream",
     "text": [
      "0\n",
      "100\n",
      "200\n",
      "300\n",
      "400\n",
      "500\n",
      "600\n",
      "700\n",
      "800\n",
      "900\n",
      "1000\n",
      "1100\n",
      "1200\n",
      "1300\n",
      "1400\n",
      "1500\n",
      "1600\n",
      "1700\n",
      "1800\n",
      "1900\n",
      "2000\n",
      "2100\n",
      "2200\n",
      "2300\n",
      "2400\n",
      "2500\n",
      "2600\n",
      "2700\n",
      "2800\n",
      "2900\n",
      "3000\n",
      "3100\n",
      "3200\n",
      "3300\n",
      "3400\n",
      "3500\n",
      "3600\n",
      "3700\n",
      "3800\n",
      "3900\n",
      "4000\n"
     ]
    }
   ],
   "source": [
    "data_dir_base = '/root/blender'\n",
    "COMPLETE_SAMPLE_SIZE = 4007\n",
    "df = pd.DataFrame()\n",
    "for idx in range(COMPLETE_SAMPLE_SIZE):\n",
    "    if idx % 100 == 0:\n",
    "        print(idx)\n",
    "    data = get_data(data_dir_base, idx)\n",
    "    annotation_data = data['annotation_data']\n",
    "    mask = data['mask']\n",
    "    depth_map = data['depth_map']\n",
    "    \n",
    "    results = get_points_of_interest(mask)\n",
    "    length_endpoint_1 = results['length_endpoint_1']\n",
    "    length_endpoint_2 = results['length_endpoint_2']\n",
    "    width_endpoint_1 = results['width_endpoint_1']\n",
    "    width_endpoint_2 = results['width_endpoint_2']\n",
    "    centroid = results['centroid']\n",
    "    \n",
    "    length_endpoint_1_world = convert_to_world_point(length_endpoint_1[0], length_endpoint_1[1], depth_map, mask)\n",
    "    length_endpoint_2_world = convert_to_world_point(length_endpoint_2[0], length_endpoint_2[1], depth_map, mask)\n",
    "    width_endpoint_1_world = convert_to_world_point(width_endpoint_1[0], width_endpoint_1[1], depth_map, mask)\n",
    "    width_endpoint_2_world = convert_to_world_point(width_endpoint_2[0], width_endpoint_2[1], depth_map, mask)\n",
    "    centroid_world = convert_to_world_point(int(round(centroid[0])), int(round(centroid[1])), depth_map, mask)\n",
    "    length = distance_between_points(length_endpoint_1_world, length_endpoint_2_world)\n",
    "    width = distance_between_points(width_endpoint_1_world, width_endpoint_2_world)\n",
    "    \n",
    "    ground_truth_length = annotation_data['length']\n",
    "    ground_truth_width = annotation_data['height']\n",
    "    ground_truth_breadth = annotation_data['width']\n",
    "\n",
    "    line_to_append = { \n",
    "        'predicted_length': length, \n",
    "        'predicted_width': width,\n",
    "        'ground_truth_length': ground_truth_length,\n",
    "        'ground_truth_width': ground_truth_width,\n",
    "        'ground_truth_breadth': ground_truth_breadth\n",
    "    }\n",
    "    df = df.append(line_to_append, ignore_index=True)\n",
    "    \n"
   ]
  },
  {
   "cell_type": "code",
   "execution_count": null,
   "metadata": {},
   "outputs": [],
   "source": []
  },
  {
   "cell_type": "code",
   "execution_count": 58,
   "metadata": {},
   "outputs": [
    {
     "name": "stdout",
     "output_type": "stream",
     "text": [
      "0.328528465888\n",
      "-0.0811438991024\n"
     ]
    }
   ],
   "source": [
    "print(df.predicted_length.corr(df.ground_truth_length))\n",
    "print(df.predicted_width.corr(df.ground_truth_width))\n"
   ]
  },
  {
   "cell_type": "code",
   "execution_count": null,
   "metadata": {},
   "outputs": [],
   "source": []
  },
  {
   "cell_type": "code",
   "execution_count": null,
   "metadata": {},
   "outputs": [],
   "source": []
  },
  {
   "cell_type": "code",
   "execution_count": null,
   "metadata": {},
   "outputs": [],
   "source": []
  },
  {
   "cell_type": "code",
   "execution_count": null,
   "metadata": {},
   "outputs": [],
   "source": []
  },
  {
   "cell_type": "code",
   "execution_count": null,
   "metadata": {},
   "outputs": [],
   "source": []
  },
  {
   "cell_type": "code",
   "execution_count": null,
   "metadata": {},
   "outputs": [],
   "source": []
  },
  {
   "cell_type": "code",
   "execution_count": null,
   "metadata": {},
   "outputs": [],
   "source": []
  },
  {
   "cell_type": "code",
   "execution_count": null,
   "metadata": {},
   "outputs": [],
   "source": []
  },
  {
   "cell_type": "code",
   "execution_count": null,
   "metadata": {},
   "outputs": [],
   "source": []
  },
  {
   "cell_type": "code",
   "execution_count": null,
   "metadata": {},
   "outputs": [],
   "source": []
  },
  {
   "cell_type": "code",
   "execution_count": null,
   "metadata": {},
   "outputs": [],
   "source": []
  },
  {
   "cell_type": "code",
   "execution_count": null,
   "metadata": {},
   "outputs": [],
   "source": []
  },
  {
   "cell_type": "code",
   "execution_count": null,
   "metadata": {},
   "outputs": [],
   "source": []
  },
  {
   "cell_type": "code",
   "execution_count": null,
   "metadata": {},
   "outputs": [],
   "source": []
  },
  {
   "cell_type": "code",
   "execution_count": null,
   "metadata": {},
   "outputs": [],
   "source": []
  }
 ],
 "metadata": {
  "kernelspec": {
   "display_name": "Python 3",
   "language": "python",
   "name": "python3"
  },
  "language_info": {
   "codemirror_mode": {
    "name": "ipython",
    "version": 3
   },
   "file_extension": ".py",
   "mimetype": "text/x-python",
   "name": "python",
   "nbconvert_exporter": "python",
   "pygments_lexer": "ipython3",
   "version": "3.6.3"
  }
 },
 "nbformat": 4,
 "nbformat_minor": 2
}
