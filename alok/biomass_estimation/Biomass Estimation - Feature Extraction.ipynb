{
 "cells": [
  {
   "cell_type": "code",
   "execution_count": null,
   "metadata": {},
   "outputs": [],
   "source": [
    "from PIL import Image, ImageDraw\n",
    "import numpy as np\n",
    "import statsmodels.api as sm\n",
    "import pandas as pd\n",
    "import json\n",
    "import math\n",
    "pd.set_option('display.height', 500)\n",
    "pd.set_option('display.max_rows', 500)\n",
    "from matplotlib import pyplot as plt\n",
    "%matplotlib inline"
   ]
  },
  {
   "cell_type": "code",
   "execution_count": null,
   "metadata": {},
   "outputs": [],
   "source": [
    "data_dir_base = '/root/data/blender_v3'\n",
    "idx = 0\n",
    "\n",
    "def get_data(data_dir_base, idx, include_image=True):\n",
    "    # get annotation data\n",
    "    annotation_file_name = 'annot_{}.json'.format(idx)\n",
    "    annotation_file_path = '{}/{}/{}'.format(data_dir_base, 'annotations', annotation_file_name)\n",
    "    annotation_data = json.load(open(annotation_file_path, 'rb'))\n",
    "\n",
    "    # get segmentation data\n",
    "    segmentation_file_name = 'left_{}.npy'.format(idx)\n",
    "    segmentation_file_path = '{}/{}/{}'.format(data_dir_base, 'mask', segmentation_file_name)\n",
    "    mask = np.load(segmentation_file_path)\n",
    "\n",
    "    # get depth map data\n",
    "    depth_map_file_name = 'depth_map_{}.npy'.format(idx)\n",
    "    depth_map_file_path = '{}/{}/{}'.format(data_dir_base, 'depth_map', depth_map_file_name)\n",
    "    depth_map = np.load(depth_map_file_path).T\n",
    "    \n",
    "    # get image\n",
    "    data = { 'annotation_data': annotation_data, 'mask': mask, 'depth_map': depth_map }\n",
    "    if include_image:\n",
    "        image_file_name = 'left_{}.png'.format(idx)\n",
    "        image_file_path = '{}/{}/{}'.format(data_dir_base, 'stereo_images', image_file_name)\n",
    "        image = Image.open(image_file_path)\n",
    "        data['image'] = image\n",
    "        \n",
    "    return data\n",
    "    \n",
    "    \n",
    "\n"
   ]
  },
  {
   "cell_type": "code",
   "execution_count": null,
   "metadata": {},
   "outputs": [],
   "source": [
    "data = get_data(data_dir_base, idx)\n",
    "annotation_data = data['annotation_data']\n",
    "image = data['image']\n",
    "mask = data['mask']\n",
    "blender_depth_map = data['depth_map']*10 # the multiplication by 10 is to convert from dm to cm"
   ]
  },
  {
   "cell_type": "markdown",
   "metadata": {},
   "source": [
    "<h1> Apply projection to get orthogonal depth map from Blender depth map </h1>"
   ]
  },
  {
   "cell_type": "code",
   "execution_count": null,
   "metadata": {},
   "outputs": [],
   "source": [
    "focal_length = 1.0\n",
    "baseline = 6.5\n",
    "image_sensor_width = 3.2\n",
    "image_sensor_height = 1.8\n",
    "px_count_width = mask.shape[1]\n",
    "px_count_height = mask.shape[0]\n"
   ]
  },
  {
   "cell_type": "code",
   "execution_count": null,
   "metadata": {},
   "outputs": [],
   "source": [
    "def get_world_point_cloud(blender_depth_map, focal_length):\n",
    "    \n",
    "    px_count_width = blender_depth_map.shape[1]\n",
    "    px_count_height = blender_depth_map.shape[0]\n",
    "    \n",
    "    image_center_x = int(px_count_width / 2)\n",
    "    image_center_y = int(px_count_height / 2)\n",
    "\n",
    "    a = np.tile(np.array(range(blender_depth_map.shape[1])), [blender_depth_map.shape[0], 1])\n",
    "    b = px_count_height - 1 - np.tile(np.array(range(blender_depth_map.shape[0])), [blender_depth_map.shape[1], 1]).T\n",
    "    pixel_array = np.dstack([b, a]) - np.array([image_center_y, image_center_x])\n",
    "    sensor_array = pixel_array * np.array([(image_sensor_height / px_count_height), (image_sensor_width / px_count_width)])\n",
    "\n",
    "    world_y = blender_depth_map / np.sqrt(1 + (sensor_array[:,:,0]**2 + sensor_array[:,:,1]**2) / (focal_length**2))\n",
    "    world_x = (sensor_array[:,:,1] * world_y) / focal_length\n",
    "    world_z = (sensor_array[:,:,0] * world_y) / focal_length\n",
    "    world_point_cloud = np.dstack([world_x, world_y, world_z])\n",
    "    \n",
    "    return world_point_cloud\n"
   ]
  },
  {
   "cell_type": "code",
   "execution_count": null,
   "metadata": {},
   "outputs": [],
   "source": [
    "get_world_point_cloud(blender_depth_map, focal_length)"
   ]
  },
  {
   "cell_type": "code",
   "execution_count": null,
   "metadata": {},
   "outputs": [],
   "source": []
  },
  {
   "cell_type": "code",
   "execution_count": null,
   "metadata": {},
   "outputs": [],
   "source": [
    "wpc"
   ]
  },
  {
   "cell_type": "code",
   "execution_count": null,
   "metadata": {},
   "outputs": [],
   "source": [
    "wpc"
   ]
  },
  {
   "cell_type": "code",
   "execution_count": null,
   "metadata": {},
   "outputs": [],
   "source": []
  },
  {
   "cell_type": "code",
   "execution_count": null,
   "metadata": {},
   "outputs": [],
   "source": []
  },
  {
   "cell_type": "code",
   "execution_count": null,
   "metadata": {},
   "outputs": [],
   "source": [
    "annotation_data"
   ]
  },
  {
   "cell_type": "markdown",
   "metadata": {},
   "source": [
    "<h1> Get depth distribution across all points on the visible surface of the fish </h1>"
   ]
  },
  {
   "cell_type": "code",
   "execution_count": null,
   "metadata": {},
   "outputs": [],
   "source": [
    "hist_counts, hist_bucket_endpoints = np.histogram(depth_map[np.where(mask > 0)], 20)\n",
    "print(hist_bucket_endpoints)\n",
    "print(hist_counts)\n",
    "cutoff_idx = np.argmin(hist_counts)\n",
    "cutoff = hist_bucket_endpoints[cutoff_idx]\n",
    "print(cutoff_idx, cutoff)\n",
    "print('Mean depth value: {}'.format(depth_map[np.where((depth_map < cutoff) & (mask > 0)) ].mean()))\n",
    "print('Maximum depth value: {}'.format(depth_map[np.where((depth_map < cutoff) & (mask > 0)) ].max()))\n",
    "print('Minimum depth value: {}'.format(depth_map[np.where((depth_map < cutoff) & (mask > 0)) ].min()))"
   ]
  },
  {
   "cell_type": "markdown",
   "metadata": {},
   "source": [
    "<h1> Get pixel coordinates for determining length, width, and breadth </h1>"
   ]
  },
  {
   "cell_type": "markdown",
   "metadata": {},
   "source": [
    "Consider the line $l$ (in pixel space) that best fits the pixels corresponding to the fish mask $M$ according to a least-squares regression. Let $p_1 \\in M$ be the point on line $l$ with the smallest $x$-coordinate, and let $p_2 \\in M$ be the point on $l$ with the largest $x$-coordinate. The line segment defined by these two points corresponds to the length of the fish in pixel space. \n",
    "\n",
    "Now consider centroid $c = (\\bar{x}, \\bar{y})$ of the fish mask and the line $k$ that passes through $c$ and is perpendicular to $l$. "
   ]
  },
  {
   "cell_type": "code",
   "execution_count": null,
   "metadata": {},
   "outputs": [],
   "source": [
    "def get_points_of_interest(mask, cutoff):\n",
    "    mask_values = np.where(mask > 0)\n",
    "    x_values = mask_values[1]\n",
    "    y_values = mask_values[0]\n",
    "    adj_y_values = mask.shape[0] - y_values\n",
    "    mask_points = list(zip(x_values, adj_y_values))\n",
    "\n",
    "    A = np.vstack([x_values, np.ones(len(x_values))]).T\n",
    "    res = np.linalg.lstsq(A,adj_y_values)\n",
    "    m, b = res[0]\n",
    "\n",
    "    # get length endpoints\n",
    "    x_lower = x_values.min()\n",
    "    while x_lower < mask.shape[1]:\n",
    "        adj_y_lower = int(round(m*x_lower + b))\n",
    "        y_lower = mask.shape[0] - 1 - adj_y_lower\n",
    "        if ((x_lower, adj_y_lower) in mask_points and (depth_map[y_lower, x_lower] < cutoff)): \n",
    "            break\n",
    "        x_lower += 1\n",
    "\n",
    "    x_upper = x_values.max()\n",
    "    while x_upper > 0:\n",
    "        adj_y_upper = int(round(m*x_upper + b))\n",
    "        y_upper = mask.shape[0] - 1 - adj_y_upper\n",
    "        if ((x_upper, adj_y_upper) in mask_points and (depth_map[y_upper, x_upper] < cutoff)):\n",
    "            break\n",
    "        x_upper -= 1\n",
    "\n",
    "    y_lower = mask.shape[0] - 1 - adj_y_lower\n",
    "    y_upper = mask.shape[0] - 1 - adj_y_upper\n",
    "    length_endpoint_1 = (x_lower, y_lower)\n",
    "    length_endpoint_2 = (x_upper, y_upper)\n",
    "\n",
    "    # get width endpoints\n",
    "    m = -1 / float(m)\n",
    "    b = adj_y_values.mean() - m*x_values.mean()\n",
    "\n",
    "    adj_y_lower = adj_y_values.min()\n",
    "    while adj_y_lower < mask.shape[0]:\n",
    "        x_lower = int(round((adj_y_lower - b)/float(m)))\n",
    "        y_lower = mask.shape[0] - 1 - adj_y_lower\n",
    "        if ((x_lower, adj_y_lower) in mask_points and (depth_map[y_lower, x_lower] < cutoff)):\n",
    "            break\n",
    "        adj_y_lower += 1\n",
    "\n",
    "\n",
    "    adj_y_upper = adj_y_values.max()\n",
    "    while adj_y_upper > 0:\n",
    "        x_upper = int(round((adj_y_upper - b)/float(m)))\n",
    "        y_upper = mask.shape[0] - 1 - adj_y_upper\n",
    "        if ((x_upper, adj_y_upper) in mask_points and (depth_map[y_upper, x_upper] < cutoff)):\n",
    "            break\n",
    "        adj_y_upper -= 1\n",
    "\n",
    "    # y_lower = mask.shape[0] - 1 - adj_y_lower\n",
    "    # y_upper = mask.shape[0] - 1 - adj_y_upper\n",
    "    width_endpoint_1 = (x_lower, y_lower)\n",
    "    width_endpoint_2 = (x_upper, y_upper)\n",
    "\n",
    "    # get centroid coordinates\n",
    "    x_visible_centroid = mask_values[1].mean()\n",
    "    y_visible_centroid = mask_values[0].mean()\n",
    "    visible_centroid = (x_visible_centroid, y_visible_centroid)\n",
    "    return {\n",
    "        'length_endpoint_1': length_endpoint_1,\n",
    "        'length_endpoint_2': length_endpoint_2,\n",
    "        'width_endpoint_1': width_endpoint_1,\n",
    "        'width_endpoint_2': width_endpoint_2,\n",
    "        'visible_centroid': visible_centroid\n",
    "    }"
   ]
  },
  {
   "cell_type": "code",
   "execution_count": null,
   "metadata": {},
   "outputs": [],
   "source": [
    "results = get_points_of_interest(mask, cutoff)\n",
    "length_endpoint_1 = results['length_endpoint_1']\n",
    "length_endpoint_2 = results['length_endpoint_2']\n",
    "width_endpoint_1 = results['width_endpoint_1']\n",
    "width_endpoint_2 = results['width_endpoint_2']\n",
    "visible_centroid = results['visible_centroid']\n",
    "draw = ImageDraw.Draw(image)\n",
    "draw.line((length_endpoint_1[0], length_endpoint_1[1], length_endpoint_2[0], length_endpoint_2[1]), fill=255)\n",
    "draw.line((width_endpoint_1[0], width_endpoint_1[1], width_endpoint_2[0], width_endpoint_2[1]), fill=255)\n",
    "image"
   ]
  },
  {
   "cell_type": "code",
   "execution_count": null,
   "metadata": {},
   "outputs": [],
   "source": []
  },
  {
   "cell_type": "code",
   "execution_count": null,
   "metadata": {},
   "outputs": [],
   "source": []
  },
  {
   "cell_type": "code",
   "execution_count": null,
   "metadata": {},
   "outputs": [],
   "source": []
  },
  {
   "cell_type": "code",
   "execution_count": null,
   "metadata": {},
   "outputs": [],
   "source": []
  },
  {
   "cell_type": "code",
   "execution_count": null,
   "metadata": {},
   "outputs": [],
   "source": []
  },
  {
   "cell_type": "code",
   "execution_count": null,
   "metadata": {},
   "outputs": [],
   "source": []
  },
  {
   "cell_type": "code",
   "execution_count": null,
   "metadata": {},
   "outputs": [],
   "source": []
  },
  {
   "cell_type": "code",
   "execution_count": null,
   "metadata": {},
   "outputs": [],
   "source": []
  },
  {
   "cell_type": "code",
   "execution_count": null,
   "metadata": {},
   "outputs": [],
   "source": []
  },
  {
   "cell_type": "code",
   "execution_count": null,
   "metadata": {},
   "outputs": [],
   "source": []
  },
  {
   "cell_type": "markdown",
   "metadata": {},
   "source": [
    "<h1> Get length and width in world space </h1>"
   ]
  },
  {
   "cell_type": "code",
   "execution_count": null,
   "metadata": {},
   "outputs": [],
   "source": [
    "def convert_to_world_point(x, y, depth_map):\n",
    "    image_center_x = depth_map.shape[1] / 2.0\n",
    "    image_center_y = depth_map.shape[0] / 2.0\n",
    "    px_x = x - image_center_x\n",
    "    px_z = image_center_y - y\n",
    "    sensor_x = px_x * (image_sensor_width / px_count_width)\n",
    "    sensor_z = px_z * (image_sensor_height / px_count_height)\n",
    "\n",
    "    d = depth_map[y, x]\n",
    "    world_y = d\n",
    "    world_x = (world_y * sensor_x) / focal_length\n",
    "    world_z = (world_y * sensor_z) / focal_length\n",
    "    \n",
    "    return (world_x, world_y, world_z)\n",
    "\n",
    "def distance_between_points(p1, p2):\n",
    "    return math.sqrt((p1[0] - p2[0])**2 + (p1[1] - p2[1])**2 + (p1[2] - p2[2])**2)\n",
    "\n",
    "def distance_between_points_2d(p1, p2):\n",
    "    return math.sqrt((p1[0] - p2[0])**2 + (p1[1] - p2[1])**2)"
   ]
  },
  {
   "cell_type": "code",
   "execution_count": null,
   "metadata": {},
   "outputs": [],
   "source": [
    "length_endpoint_1_world = convert_to_world_point(length_endpoint_1[0], length_endpoint_1[1], depth_map)\n",
    "length_endpoint_2_world = convert_to_world_point(length_endpoint_2[0], length_endpoint_2[1], depth_map)\n",
    "width_endpoint_1_world = convert_to_world_point(width_endpoint_1[0], width_endpoint_1[1], depth_map)\n",
    "width_endpoint_2_world = convert_to_world_point(width_endpoint_2[0], width_endpoint_2[1], depth_map)\n",
    "visible_centroid_world = convert_to_world_point(int(round(visible_centroid[0])), int(round(visible_centroid[1])), depth_map)\n",
    "length = distance_between_points(length_endpoint_1_world, length_endpoint_2_world)\n",
    "width = distance_between_points(width_endpoint_1_world, width_endpoint_2_world)"
   ]
  },
  {
   "cell_type": "code",
   "execution_count": null,
   "metadata": {},
   "outputs": [],
   "source": [
    "length_endpoint_1"
   ]
  },
  {
   "cell_type": "code",
   "execution_count": null,
   "metadata": {},
   "outputs": [],
   "source": [
    "\n",
    "depth_map[length_endpoint_1[1], length_endpoint_1[0]]"
   ]
  },
  {
   "cell_type": "code",
   "execution_count": null,
   "metadata": {},
   "outputs": [],
   "source": [
    "length_endpoint_1_world"
   ]
  },
  {
   "cell_type": "code",
   "execution_count": null,
   "metadata": {},
   "outputs": [],
   "source": [
    "wpc[length_endpoint_1[1], length_endpoint_1[0]]"
   ]
  },
  {
   "cell_type": "code",
   "execution_count": null,
   "metadata": {},
   "outputs": [],
   "source": []
  },
  {
   "cell_type": "code",
   "execution_count": null,
   "metadata": {},
   "outputs": [],
   "source": [
    "plt.figure(figsize=(25, 15))\n",
    "plt.imshow(wpc[:,:,1])\n",
    "plt.colorbar()"
   ]
  },
  {
   "cell_type": "code",
   "execution_count": null,
   "metadata": {},
   "outputs": [],
   "source": []
  },
  {
   "cell_type": "markdown",
   "metadata": {},
   "source": [
    "<h1> Extract features for all fish in the Blender dataset </h1>"
   ]
  },
  {
   "cell_type": "code",
   "execution_count": null,
   "metadata": {},
   "outputs": [],
   "source": [
    "data_dir_base = '/root/data/blender_v3'\n",
    "COMPLETE_SAMPLE_SIZE = 4007\n",
    "df = pd.DataFrame()\n",
    "for idx in range(COMPLETE_SAMPLE_SIZE):\n",
    "    \n",
    "    print(idx)\n",
    "    data = get_data(data_dir_base, idx, include_image=False)\n",
    "    annotation_data = data['annotation_data']\n",
    "    mask = data['mask']\n",
    "    blender_depth_map = data['depth_map']*10\n",
    "    depth_map = get_orthogonal_depth_map(blender_depth_map, focal_length)\n",
    "    \n",
    "\n",
    "    hist_counts, hist_bucket_endpoints = np.histogram(depth_map[np.where(mask > 0)], 20)\n",
    "    cutoff_idx = np.argmin(hist_counts)\n",
    "    cutoff = hist_bucket_endpoints[cutoff_idx]\n",
    "    \n",
    "    \n",
    "    results = get_points_of_interest(mask, cutoff)\n",
    "    length_endpoint_1 = results['length_endpoint_1']\n",
    "    length_endpoint_2 = results['length_endpoint_2']\n",
    "    width_endpoint_1 = results['width_endpoint_1']\n",
    "    width_endpoint_2 = results['width_endpoint_2']\n",
    "    visible_centroid = results['visible_centroid']\n",
    "    \n",
    "    # get length and width\n",
    "    length_endpoint_1_world = convert_to_world_point(length_endpoint_1[0], length_endpoint_1[1], depth_map)\n",
    "    length_endpoint_2_world = convert_to_world_point(length_endpoint_2[0], length_endpoint_2[1], depth_map)\n",
    "    width_endpoint_1_world = convert_to_world_point(width_endpoint_1[0], width_endpoint_1[1], depth_map)\n",
    "    width_endpoint_2_world = convert_to_world_point(width_endpoint_2[0], width_endpoint_2[1], depth_map)\n",
    "    visible_centroid_world = convert_to_world_point(int(round(visible_centroid[0])), int(round(visible_centroid[1])), depth_map)\n",
    "    length = distance_between_points(length_endpoint_1_world, length_endpoint_2_world)\n",
    "    width = distance_between_points(width_endpoint_1_world, width_endpoint_2_world)\n",
    "    \n",
    "    # get breadth\n",
    "    alpha = distance_between_points_2d(visible_centroid, width_endpoint_1) / distance_between_points_2d(width_endpoint_2, width_endpoint_1)\n",
    "    centroid = tuple(np.array(width_endpoint_1_world) + alpha * (np.array(width_endpoint_2_world) - np.array(width_endpoint_1_world)))\n",
    "    breadth = 2 * distance_between_points(centroid, visible_centroid_world)\n",
    "    \n",
    "    ground_truth_length = annotation_data['length']\n",
    "    ground_truth_width = annotation_data['height']\n",
    "    ground_truth_breadth = annotation_data['width']\n",
    "\n",
    "    line_to_append = { \n",
    "        'predicted_length': length, \n",
    "        'predicted_width': width,\n",
    "        'predicted_breadth': breadth,\n",
    "        'ground_truth_length': ground_truth_length,\n",
    "        'ground_truth_width': ground_truth_width,\n",
    "        'ground_truth_breadth': ground_truth_breadth\n",
    "    }\n",
    "    df = df.append(line_to_append, ignore_index=True)\n",
    "    "
   ]
  },
  {
   "cell_type": "code",
   "execution_count": null,
   "metadata": {},
   "outputs": [],
   "source": []
  },
  {
   "cell_type": "code",
   "execution_count": null,
   "metadata": {},
   "outputs": [],
   "source": []
  },
  {
   "cell_type": "code",
   "execution_count": null,
   "metadata": {},
   "outputs": [],
   "source": [
    "df"
   ]
  },
  {
   "cell_type": "code",
   "execution_count": null,
   "metadata": {},
   "outputs": [],
   "source": []
  },
  {
   "cell_type": "code",
   "execution_count": null,
   "metadata": {},
   "outputs": [],
   "source": [
    "plt.figure(figsize=(10, 10))\n",
    "plt.scatter(df.predicted_length, df.ground_truth_length)\n",
    "plt.plot([40, 140], [40, 140])\n",
    "plt.xlabel('Predicted Length (cm)')\n",
    "plt.ylabel('Ground Truth Length (cm)')\n",
    "plt.show()"
   ]
  },
  {
   "cell_type": "code",
   "execution_count": null,
   "metadata": {},
   "outputs": [],
   "source": [
    "plt.figure(figsize=(10, 10))\n",
    "plt.scatter(df.predicted_width, df.ground_truth_width)\n",
    "# plt.plot([40, 140], [40, 140])\n",
    "plt.xlabel('Predicted Width (cm)')\n",
    "plt.ylabel('Ground Truth Width (cm)')\n",
    "plt.show()"
   ]
  },
  {
   "cell_type": "code",
   "execution_count": null,
   "metadata": {},
   "outputs": [],
   "source": []
  },
  {
   "cell_type": "code",
   "execution_count": null,
   "metadata": {},
   "outputs": [],
   "source": []
  },
  {
   "cell_type": "code",
   "execution_count": null,
   "metadata": {},
   "outputs": [],
   "source": []
  },
  {
   "cell_type": "code",
   "execution_count": null,
   "metadata": {},
   "outputs": [],
   "source": [
    "get_orthogonal_depth_map(depth_map, focal_length)"
   ]
  },
  {
   "cell_type": "code",
   "execution_count": null,
   "metadata": {},
   "outputs": [],
   "source": []
  },
  {
   "cell_type": "code",
   "execution_count": null,
   "metadata": {},
   "outputs": [],
   "source": []
  },
  {
   "cell_type": "code",
   "execution_count": null,
   "metadata": {},
   "outputs": [],
   "source": []
  },
  {
   "cell_type": "code",
   "execution_count": null,
   "metadata": {},
   "outputs": [],
   "source": []
  }
 ],
 "metadata": {
  "kernelspec": {
   "display_name": "Python 2",
   "language": "python",
   "name": "python2"
  },
  "language_info": {
   "codemirror_mode": {
    "name": "ipython",
    "version": 2
   },
   "file_extension": ".py",
   "mimetype": "text/x-python",
   "name": "python",
   "nbconvert_exporter": "python",
   "pygments_lexer": "ipython2",
   "version": "2.7.12"
  }
 },
 "nbformat": 4,
 "nbformat_minor": 2
}
