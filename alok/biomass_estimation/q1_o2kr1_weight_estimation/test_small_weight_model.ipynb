{
 "cells": [
  {
   "cell_type": "code",
   "execution_count": null,
   "metadata": {},
   "outputs": [],
   "source": [
    "from matplotlib import pyplot as plt\n",
    "import pandas as pd\n",
    "\n",
    "\n",
    "from weight_estimation.weight_estimator import WeightEstimator, CameraMetadata\n",
    "from research_lib.utils.data_access_utils import S3AccessUtils, RDSAccessUtils"
   ]
  },
  {
   "cell_type": "code",
   "execution_count": null,
   "metadata": {},
   "outputs": [],
   "source": [
    "s3 = S3AccessUtils('/root/data')\n",
    "rds = RDSAccessUtils()"
   ]
  },
  {
   "cell_type": "code",
   "execution_count": null,
   "metadata": {},
   "outputs": [],
   "source": []
  },
  {
   "cell_type": "markdown",
   "metadata": {},
   "source": [
    "<h1> Load sample data </h1>"
   ]
  },
  {
   "cell_type": "code",
   "execution_count": null,
   "metadata": {},
   "outputs": [],
   "source": [
    "query = \"\"\"\n",
    "    SELECT *\n",
    "    FROM \n",
    "        prod.biomass_computations\n",
    "    WHERE\n",
    "        pen_id = 173 AND\n",
    "        akpd_score > 0.95 AND\n",
    "        captured_at BETWEEN '2021-02-10' and '2021-02-15'\n",
    "\"\"\"\n",
    "\n",
    "df = rds.extract_from_database(query)"
   ]
  },
  {
   "cell_type": "code",
   "execution_count": null,
   "metadata": {},
   "outputs": [],
   "source": []
  },
  {
   "cell_type": "code",
   "execution_count": null,
   "metadata": {},
   "outputs": [],
   "source": [
    "weight_model_url = 'https://aquabyte-models.s3-us-west-1.amazonaws.com/biomass/trained_models/2020-11-27T00-00-00/weight_model_synthetic_data.pb'\n",
    "small_weight_model_url = 'https://aquabyte-models.s3-us-west-1.amazonaws.com/biomass/playground/small_fish_weight_model.pb'\n",
    "kf_model_url = 'https://aquabyte-models.s3-us-west-1.amazonaws.com/k-factor/trained_models/2020-08-08T000000/kf_predictor_v2.pb'\n",
    "\n",
    "weight_model_f, _, _ = s3.download_from_url(weight_model_url)\n",
    "small_weight_model_f, _, _ = s3.download_from_url(small_weight_model_url)\n",
    "kf_model_f, _, _ = s3.download_from_url(kf_model_url)\n",
    "weight_estimator = WeightEstimator(weight_model_f, small_weight_model_f, kf_model_f)\n",
    "\n",
    "weights = []\n",
    "count = 0\n",
    "for idx, row in df.iterrows():\n",
    "    annotation = row.annotation\n",
    "    cm = row.camera_metadata\n",
    "    camera_metadata = CameraMetadata(\n",
    "        focal_length=cm['focalLength'],\n",
    "        focal_length_pixel=cm['focalLengthPixel'],\n",
    "        baseline_m=cm['baseline'],\n",
    "        pixel_count_width=cm['pixelCountWidth'],\n",
    "        pixel_count_height=cm['pixelCountHeight'],\n",
    "        image_sensor_width=cm['imageSensorWidth'],\n",
    "        image_sensor_height=cm['imageSensorHeight']\n",
    "    )\n",
    "    \n",
    "    weight, length, kf = weight_estimator.predict(annotation, camera_metadata)\n",
    "    weights.append(weight)\n",
    "    \n",
    "    if count % 100 == 0:\n",
    "        print(count)\n",
    "    count += 1\n",
    "    \n",
    "    \n"
   ]
  },
  {
   "cell_type": "code",
   "execution_count": null,
   "metadata": {},
   "outputs": [],
   "source": []
  },
  {
   "cell_type": "code",
   "execution_count": null,
   "metadata": {},
   "outputs": [],
   "source": []
  },
  {
   "cell_type": "code",
   "execution_count": null,
   "metadata": {},
   "outputs": [],
   "source": [
    "def display_crops(left_image_f, right_image_f, ann, show_labels=False):\n",
    "    \n",
    "    fig, axes = plt.subplots(2, 1, figsize=(20, 20))\n",
    "    left_image = plt.imread(left_image_f)\n",
    "    right_image = plt.imread(right_image_f)\n",
    "    \n",
    "    left_keypoints = {item['keypointType']: [item['xCrop'], item['yCrop']] for item in ann['leftCrop']}\n",
    "    right_keypoints = {item['keypointType']: [item['xCrop'], item['yCrop']] for item in ann['rightCrop']}\n",
    "    \n",
    "    axes[0].imshow(left_image)\n",
    "    axes[1].imshow(right_image)\n",
    "    \n",
    "    for bp, kp in left_keypoints.items():\n",
    "        axes[0].scatter([kp[0]], [kp[1]], color='red', s=1)\n",
    "        if show_labels:\n",
    "            axes[0].annotate(bp, (kp[0], kp[1]), color='red')\n",
    "    for bp, kp in right_keypoints.items():\n",
    "        axes[1].scatter([kp[0]], [kp[1]], color='red', s=1)\n",
    "        if show_labels:\n",
    "            axes[1].annotate(bp, (kp[0], kp[1]), color='red')\n",
    "    plt.show()\n"
   ]
  },
  {
   "cell_type": "code",
   "execution_count": null,
   "metadata": {},
   "outputs": [],
   "source": [
    "mask = df.estimated_weight_g > 2000\n",
    "for idx, row in df[mask].iterrows():\n",
    "    ann = row.annotation\n",
    "    left_crop_url = row.left_crop_url\n",
    "    right_crop_url = row.right_crop_url\n",
    "    \n",
    "    left_crop_f, _, _ = s3.download_from_url(left_crop_url)\n",
    "    right_crop_f, _, _ = s3.download_from_url(right_crop_url)\n",
    "    \n",
    "    display_crops(left_crop_f, right_crop_f, ann, show_labels=True)\n",
    "    "
   ]
  },
  {
   "cell_type": "code",
   "execution_count": null,
   "metadata": {},
   "outputs": [],
   "source": []
  },
  {
   "cell_type": "code",
   "execution_count": null,
   "metadata": {},
   "outputs": [],
   "source": [
    "df.shape"
   ]
  },
  {
   "cell_type": "code",
   "execution_count": null,
   "metadata": {},
   "outputs": [],
   "source": [
    "df[df.estimated_weight_g > 2000].estimated_weight_g"
   ]
  },
  {
   "cell_type": "code",
   "execution_count": null,
   "metadata": {},
   "outputs": [],
   "source": [
    "df[df.estimated_weight_g > 2000].estimated_length_mm"
   ]
  },
  {
   "cell_type": "code",
   "execution_count": null,
   "metadata": {},
   "outputs": [],
   "source": []
  },
  {
   "cell_type": "code",
   "execution_count": null,
   "metadata": {},
   "outputs": [],
   "source": []
  },
  {
   "cell_type": "code",
   "execution_count": null,
   "metadata": {},
   "outputs": [],
   "source": []
  }
 ],
 "metadata": {
  "kernelspec": {
   "display_name": "Python 3",
   "language": "python",
   "name": "python3"
  },
  "language_info": {
   "codemirror_mode": {
    "name": "ipython",
    "version": 3
   },
   "file_extension": ".py",
   "mimetype": "text/x-python",
   "name": "python",
   "nbconvert_exporter": "python",
   "pygments_lexer": "ipython3",
   "version": "3.6.5"
  }
 },
 "nbformat": 4,
 "nbformat_minor": 4
}
