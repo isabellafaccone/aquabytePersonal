{
 "cells": [
  {
   "cell_type": "code",
   "execution_count": null,
   "metadata": {},
   "outputs": [],
   "source": [
    "from pycocotools.coco import COCO\n",
    "import json\n"
   ]
  },
  {
   "cell_type": "code",
   "execution_count": null,
   "metadata": {},
   "outputs": [],
   "source": []
  },
  {
   "cell_type": "markdown",
   "metadata": {},
   "source": [
    "<h1> Load Data </h1>"
   ]
  },
  {
   "cell_type": "code",
   "execution_count": null,
   "metadata": {},
   "outputs": [],
   "source": [
    "annotation_file = './keypoints.json'\n",
    "annotations = json.load(open(annotation_file))"
   ]
  },
  {
   "cell_type": "code",
   "execution_count": null,
   "metadata": {},
   "outputs": [],
   "source": [
    "annotations_by_epoch = {}\n",
    "for annotation in annotations:\n",
    "    epoch = int(annotation['Labeled Data'].split('/')[-1].split('.')[0].split('_')[-1])\n",
    "    side = annotation['Labeled Data'].split('/')[-1].split('.')[0].split('_')[0]\n",
    "    if epoch not in annotations_by_epoch:\n",
    "        annotations_by_epoch[epoch] = {}\n",
    "    annotations_by_epoch[epoch][side] = annotation\n",
    "    \n"
   ]
  },
  {
   "cell_type": "code",
   "execution_count": null,
   "metadata": {},
   "outputs": [],
   "source": []
  },
  {
   "cell_type": "markdown",
   "metadata": {},
   "source": [
    "<h1> Get pairwise distances across all left-right keypoint annotation pairs </h1>"
   ]
  },
  {
   "cell_type": "code",
   "execution_count": null,
   "metadata": {},
   "outputs": [],
   "source": [
    "CATEGORIES = [\n",
    "    'Upper Lip',\n",
    "    'Eye',\n",
    "    'Body / Dorsal Fin',\n",
    "    'Body / Adipose Fin',\n",
    "    'Body / Pectoral Fin',\n",
    "    'Body / Pelvic Fin',\n",
    "    'Body / Anal Fin',\n",
    "    'Top Corner of Tail',\n",
    "    'Bottom Corner of Tail',\n",
    "]"
   ]
  },
  {
   "cell_type": "markdown",
   "metadata": {},
   "source": [
    "<h3> Define optical properties of system </h3>"
   ]
  },
  {
   "cell_type": "code",
   "execution_count": null,
   "metadata": {},
   "outputs": [],
   "source": [
    "cnt = 0\n",
    "for epoch, annotation_pair in annotations_by_epoch.items():\n",
    "    if len(list(annotation_pair.keys())) != 2:\n",
    "        continue\n",
    "    left_ann, right_ann = annotation_pair['left'], annotation_pair['right']\n",
    "    \n",
    "    \n",
    "    "
   ]
  },
  {
   "cell_type": "code",
   "execution_count": null,
   "metadata": {},
   "outputs": [],
   "source": []
  },
  {
   "cell_type": "code",
   "execution_count": null,
   "metadata": {},
   "outputs": [],
   "source": []
  },
  {
   "cell_type": "code",
   "execution_count": null,
   "metadata": {},
   "outputs": [],
   "source": []
  },
  {
   "cell_type": "code",
   "execution_count": null,
   "metadata": {},
   "outputs": [],
   "source": []
  },
  {
   "cell_type": "code",
   "execution_count": null,
   "metadata": {},
   "outputs": [],
   "source": []
  },
  {
   "cell_type": "code",
   "execution_count": null,
   "metadata": {},
   "outputs": [],
   "source": []
  }
 ],
 "metadata": {
  "kernelspec": {
   "display_name": "Python 3",
   "language": "python",
   "name": "python3"
  },
  "language_info": {
   "codemirror_mode": {
    "name": "ipython",
    "version": 3
   },
   "file_extension": ".py",
   "mimetype": "text/x-python",
   "name": "python",
   "nbconvert_exporter": "python",
   "pygments_lexer": "ipython3",
   "version": "3.5.2"
  }
 },
 "nbformat": 4,
 "nbformat_minor": 2
}
