{
 "cells": [
  {
   "cell_type": "code",
   "execution_count": null,
   "metadata": {},
   "outputs": [],
   "source": [
    "import json, os\n",
    "import pandas as pd\n",
    "from matplotlib import pyplot as plt\n",
    "from collections import defaultdict\n",
    "import numpy as np\n",
    "from itertools import combinations\n",
    "from sklearn.linear_model import LinearRegression, RANSACRegressor\n",
    "from sklearn.decomposition import PCA\n",
    "from wpca import WPCA\n",
    "from sklearn.preprocessing import StandardScaler\n",
    "from aquabyte.accuracy_metrics import AccuracyMetricsGenerator\n",
    "from aquabyte.data_access_utils import S3AccessUtils, RDSAccessUtils\n",
    "from aquabyte.optics import euclidean_distance, pixel2world\n",
    "from aquabyte.visualize import Visualizer, _normalize_world_keypoints\n",
    "import random\n",
    "from scipy.stats import norm\n",
    "from PIL import Image, ImageDraw\n",
    "from urllib.parse import urlparse\n",
    "from multiprocessing import Pool\n",
    "import datetime as dt\n",
    "import pytz\n",
    "import matplotlib.dates as mdates\n",
    "myFmt = mdates.DateFormatter('%d')\n",
    "\n",
    "import matplotlib\n",
    "font = {'family' : 'normal',\n",
    "        'weight' : 'bold',\n",
    "        'size'   : 22}\n",
    "\n",
    "matplotlib.rc('font', **font)\n",
    "\n",
    "import matplotlib.cm as cm\n",
    "pd.set_option('display.max_rows', 500)\n",
    "pd.set_option('display.max_colwidth', 500)"
   ]
  },
  {
   "cell_type": "code",
   "execution_count": null,
   "metadata": {},
   "outputs": [],
   "source": []
  },
  {
   "cell_type": "markdown",
   "metadata": {},
   "source": [
    "<h1> Predicted Weight Histogram for experiment ID #1</h1>"
   ]
  },
  {
   "cell_type": "code",
   "execution_count": null,
   "metadata": {},
   "outputs": [],
   "source": [
    "# load data\n",
    "f_4eig = '/root/data/temp/results_452623dd3e5172ef6717c3f8e302a52c19e156b5_model_15K_4eig_hypural_plate_research-exp-id-01-vikingfjord-20190628-20190630.h5'\n",
    "f_20eig = '/root/data/temp/results_cec5035f3af08e7af0fe96cfc3d8b72fa0e2651e_model_15K_20eig_hypural_plate_research-exp-id-01-vikingfjord-20190628-20190630.h5'\n",
    "df_4eig = pd.read_hdf(f_4eig, 'table')\n",
    "df_20eig = pd.read_hdf(f_20eig, 'table')\n",
    "\n",
    "# plot results\n",
    "plt.figure(figsize=(20, 10))\n",
    "mask_4eig = (df_4eig.estimated_biomass_g > -2000) & (df_4eig.estimated_biomass_g < 20000)\n",
    "mask_20eig = (df_20eig.estimated_biomass_g > -2000) & (df_20eig.estimated_biomass_g < 20000)\n",
    "plt.hist(df_4eig[mask_4eig].estimated_biomass_g, bins=20, color='blue', label='4 eigenvectors', alpha=0.5)\n",
    "plt.hist(df_20eig[mask_20eig].estimated_biomass_g, bins=20, color='red', label='20 eigenvectors', alpha=0.5)\n",
    "plt.axvline(6440, color='red')\n",
    "plt.title('Predicted biomass distribution for Waiting Pen Experiment ID #1')\n",
    "plt.xlabel('Predicted weight (g)')\n",
    "plt.ylabel('Frequency')\n",
    "plt.legend()\n",
    "plt.grid()\n",
    "plt.show()"
   ]
  },
  {
   "cell_type": "code",
   "execution_count": null,
   "metadata": {},
   "outputs": [],
   "source": [
    "median_biomass_prediciton_4eig = df_4eig[mask_4eig].estimated_biomass_g.mean()\n",
    "median_biomass_prediciton_20eig = df_20eig[mask_20eig].estimated_biomass_g.mean()\n",
    "\n",
    "print('Median biomass prediction with 4 eigenvectors: {}'.format(median_biomass_prediciton_4eig))\n",
    "print('Percentage deviation from ground truth with 4 eigenvectors: {}'.format((median_biomass_prediciton_4eig - 6440.0) / 6440.0))\n",
    "\n",
    "print('Median biomass prediction with 20 eigenvectors: {}'.format(median_biomass_prediciton_20eig))\n",
    "print('Percentage deviation from ground truth with 20 eigenvectors: {}'.format((median_biomass_prediciton_20eig - 6440.0) / 6440.0))"
   ]
  },
  {
   "cell_type": "code",
   "execution_count": null,
   "metadata": {},
   "outputs": [],
   "source": []
  },
  {
   "cell_type": "code",
   "execution_count": null,
   "metadata": {},
   "outputs": [],
   "source": [
    "import torch\n",
    "from torch import nn\n",
    "from torch.utils.data import Dataset, DataLoader\n",
    "from torch.autograd import Variable"
   ]
  },
  {
   "cell_type": "code",
   "execution_count": null,
   "metadata": {},
   "outputs": [],
   "source": [
    "# TODO: Define your network architecture here\n",
    "import torch\n",
    "from torch import nn\n",
    "\n",
    "class Network(nn.Module):\n",
    "    def __init__(self):\n",
    "        super().__init__()\n",
    "        self.fc1 = nn.Linear(33, 16)\n",
    "        self.fc2 = nn.Linear(16, 1)\n",
    "        self.relu = nn.ReLU()\n",
    "        self.sigmoid = nn.Sigmoid()\n",
    "        \n",
    "    def forward(self, x):\n",
    "        x = x.view(x.shape[0], -1)\n",
    "        x = self.fc1(x)\n",
    "        x = self.relu(x)\n",
    "        x = self.fc2(x)\n",
    "        x = self.sigmoid(x)\n",
    "        return x\n",
    "        \n",
    "\n"
   ]
  },
  {
   "cell_type": "code",
   "execution_count": null,
   "metadata": {},
   "outputs": [],
   "source": [
    "model = Network()\n",
    "model.load_state_dict(torch.load('/root/data/alok/biomass_estimation/playground/filter_nn_model.pth'))\n",
    "model.eval()"
   ]
  },
  {
   "cell_type": "code",
   "execution_count": null,
   "metadata": {},
   "outputs": [],
   "source": [
    "body_parts = sorted(list(df_4eig.world_keypoints.iloc[0].keys()))\n",
    "is_goods = []\n",
    "for idx, row in df_4eig.iterrows():\n",
    "    wkps = row.world_keypoints\n",
    "    if wkps:\n",
    "        norm_wkps = _normalize_world_keypoints(wkps)\n",
    "        keypoints_list = []\n",
    "        for bp in body_parts:\n",
    "            keypoints_list.append(norm_wkps[bp])\n",
    "        X = np.array(keypoints_list)\n",
    "        is_good = model(torch.from_numpy(X).float().view(1, -1)).round().item()\n",
    "        is_goods.append(is_good)\n",
    "    else:\n",
    "        is_goods.append(None)\n",
    "\n"
   ]
  },
  {
   "cell_type": "code",
   "execution_count": null,
   "metadata": {},
   "outputs": [],
   "source": [
    "df_4eig['is_good'] = is_goods"
   ]
  },
  {
   "cell_type": "code",
   "execution_count": null,
   "metadata": {},
   "outputs": [],
   "source": []
  },
  {
   "cell_type": "code",
   "execution_count": null,
   "metadata": {},
   "outputs": [],
   "source": [
    "\n",
    "# plot results\n",
    "plt.figure(figsize=(20, 10))\n",
    "is_good_mask = df_4eig.is_good == 1\n",
    "hard_outlier_mask = (df_4eig.estimated_biomass_g < 0) | (df_4eig.estimated_biomass_g > 15000)\n",
    "plt.hist(df_4eig[~hard_outlier_mask].estimated_biomass_g, bins=10, color='blue', label='4 eigenvectors', alpha=0.5)\n",
    "plt.hist(df_4eig[~hard_outlier_mask & is_good_mask].estimated_biomass_g, bins=10, color='red', label='with filter', alpha=0.5)\n",
    "plt.axvline(6440, color='red')\n",
    "plt.title('Predicted biomass distribution for Waiting Pen Experiment ID #1')\n",
    "plt.xlabel('Predicted weight (g)')\n",
    "plt.ylabel('Frequency')\n",
    "plt.legend()\n",
    "plt.grid()\n",
    "plt.show()"
   ]
  },
  {
   "cell_type": "code",
   "execution_count": null,
   "metadata": {},
   "outputs": [],
   "source": [
    "df_4eig[~hard_outlier_mask].estimated_biomass_g.median()"
   ]
  },
  {
   "cell_type": "code",
   "execution_count": null,
   "metadata": {},
   "outputs": [],
   "source": [
    "df_4eig[~hard_outlier_mask & is_good_mask].estimated_biomass_g.median()"
   ]
  },
  {
   "cell_type": "code",
   "execution_count": null,
   "metadata": {},
   "outputs": [],
   "source": []
  },
  {
   "cell_type": "code",
   "execution_count": null,
   "metadata": {},
   "outputs": [],
   "source": []
  },
  {
   "cell_type": "markdown",
   "metadata": {},
   "source": [
    "<h1> Predicted Weight Histogram for Experiment ID #3 </h1>"
   ]
  },
  {
   "cell_type": "code",
   "execution_count": null,
   "metadata": {},
   "outputs": [],
   "source": []
  },
  {
   "cell_type": "code",
   "execution_count": null,
   "metadata": {},
   "outputs": [],
   "source": []
  },
  {
   "cell_type": "code",
   "execution_count": null,
   "metadata": {},
   "outputs": [],
   "source": []
  },
  {
   "cell_type": "code",
   "execution_count": null,
   "metadata": {},
   "outputs": [],
   "source": []
  },
  {
   "cell_type": "code",
   "execution_count": null,
   "metadata": {},
   "outputs": [],
   "source": [
    "# load data\n",
    "f_4eig = '/root/data/temp/results_452623dd3e5172ef6717c3f8e302a52c19e156b5_model_15K_4eig_hypural_plate_research-exp-id-03-vikingfjord-20190709-20190710.h5'\n",
    "f_20eig = '/root/data/temp/results_cec5035f3af08e7af0fe96cfc3d8b72fa0e2651e_model_15K_20eig_hypural_plate_research-exp-id-03-vikingfjord-20190709-20190710.h5'\n",
    "df_4eig = pd.read_hdf(f_4eig, 'table')\n",
    "df_20eig = pd.read_hdf(f_20eig, 'table')\n",
    "\n",
    "# plot results\n",
    "plt.figure(figsize=(20, 10))\n",
    "mask_4eig = (df_4eig.estimated_biomass_g > -2000) & (df_4eig.estimated_biomass_g < 20000)\n",
    "mask_20eig = (df_20eig.estimated_biomass_g > -2000) & (df_20eig.estimated_biomass_g < 20000)\n",
    "plt.hist(df_4eig[mask_4eig].estimated_biomass_g, bins=20, color='blue', label='4 eigenvectors', alpha=0.5)\n",
    "plt.hist(df_20eig[mask_20eig].estimated_biomass_g, bins=20, color='red', label='20 eigenvectors', alpha=0.5)\n",
    "plt.axvline(5710, color='red')\n",
    "plt.title('Predicted biomass distribution for Waiting Pen Experiment ID #3')\n",
    "plt.xlabel('Predicted weight (g)')\n",
    "plt.ylabel('Frequency')\n",
    "plt.legend()\n",
    "plt.grid()\n",
    "plt.show()"
   ]
  },
  {
   "cell_type": "code",
   "execution_count": null,
   "metadata": {},
   "outputs": [],
   "source": [
    "median_biomass_prediciton_4eig = df_4eig[mask_4eig].estimated_biomass_g.median()\n",
    "median_biomass_prediciton_20eig = df_20eig[mask_20eig].estimated_biomass_g.median()\n",
    "\n",
    "print('Median biomass prediction with 4 eigenvectors: {}'.format(median_biomass_prediciton_4eig))\n",
    "print('Percentage deviation from ground truth with 4 eigenvectors: {}'.format((median_biomass_prediciton_4eig - 5710.0) / 5710.0))\n",
    "\n",
    "print('Median biomass prediction with 20 eigenvectors: {}'.format(median_biomass_prediciton_20eig))\n",
    "print('Percentage deviation from ground truth with 20 eigenvectors: {}'.format((median_biomass_prediciton_20eig - 5710.0) / 5710.0))"
   ]
  },
  {
   "cell_type": "code",
   "execution_count": null,
   "metadata": {},
   "outputs": [],
   "source": []
  },
  {
   "cell_type": "code",
   "execution_count": null,
   "metadata": {},
   "outputs": [],
   "source": [
    "body_parts = sorted(list(df_4eig.world_keypoints.iloc[0].keys()))\n",
    "is_goods = []\n",
    "for idx, row in df_4eig.iterrows():\n",
    "    wkps = row.world_keypoints\n",
    "    if wkps:\n",
    "        norm_wkps = _normalize_world_keypoints(wkps)\n",
    "        keypoints_list = []\n",
    "        for bp in body_parts:\n",
    "            keypoints_list.append(norm_wkps[bp])\n",
    "        X = np.array(keypoints_list)\n",
    "        is_good = model(torch.from_numpy(X).float().view(1, -1)).round().item()\n",
    "        is_goods.append(is_good)\n",
    "    else:\n",
    "        is_goods.append(None)\n",
    "\n",
    "df_4eig['is_good'] = is_goods\n"
   ]
  },
  {
   "cell_type": "code",
   "execution_count": null,
   "metadata": {},
   "outputs": [],
   "source": [
    "\n",
    "# plot results\n",
    "plt.figure(figsize=(20, 10))\n",
    "is_good_mask = df_4eig.is_good == 1\n",
    "hard_outlier_mask = (df_4eig.estimated_biomass_g < 0) | (df_4eig.estimated_biomass_g > 15000)\n",
    "plt.hist(df_4eig[~hard_outlier_mask].estimated_biomass_g, bins=10, color='blue', label='4 eigenvectors', alpha=0.5)\n",
    "plt.hist(df_4eig[~hard_outlier_mask & is_good_mask].estimated_biomass_g, bins=10, color='red', label='with filter', alpha=0.5)\n",
    "plt.axvline(5710, color='red')\n",
    "plt.title('Predicted biomass distribution for Waiting Pen Experiment ID #1')\n",
    "plt.xlabel('Predicted weight (g)')\n",
    "plt.ylabel('Frequency')\n",
    "plt.legend()\n",
    "plt.grid()\n",
    "plt.show()"
   ]
  },
  {
   "cell_type": "code",
   "execution_count": null,
   "metadata": {},
   "outputs": [],
   "source": [
    "print(df_4eig[~hard_outlier_mask].estimated_biomass_g.mean())\n",
    "print(df_4eig[~hard_outlier_mask & is_good_mask].estimated_biomass_g.mean())"
   ]
  },
  {
   "cell_type": "code",
   "execution_count": null,
   "metadata": {},
   "outputs": [],
   "source": []
  },
  {
   "cell_type": "code",
   "execution_count": null,
   "metadata": {},
   "outputs": [],
   "source": []
  },
  {
   "cell_type": "code",
   "execution_count": null,
   "metadata": {},
   "outputs": [],
   "source": []
  },
  {
   "cell_type": "code",
   "execution_count": null,
   "metadata": {},
   "outputs": [],
   "source": []
  },
  {
   "cell_type": "code",
   "execution_count": null,
   "metadata": {},
   "outputs": [],
   "source": []
  },
  {
   "cell_type": "code",
   "execution_count": null,
   "metadata": {},
   "outputs": [],
   "source": []
  },
  {
   "cell_type": "code",
   "execution_count": null,
   "metadata": {},
   "outputs": [],
   "source": []
  },
  {
   "cell_type": "code",
   "execution_count": null,
   "metadata": {},
   "outputs": [],
   "source": [
    "plt.figure(figsize=(20, 10))\n",
    "mask = (df.estimated_biomass_g > 0) & (df.estimated_biomass_g < 12000)\n",
    "plt.scatter(df[mask].ground_truth_eye_depth, df[mask].length)\n",
    "plt.xlabel('Working Distance (m)')\n",
    "plt.ylabel('Predicted length (m)')\n",
    "plt.title('Est. Fish Length vs. Working Distance')\n",
    "plt.grid()\n",
    "plt.show()"
   ]
  },
  {
   "cell_type": "code",
   "execution_count": null,
   "metadata": {},
   "outputs": [],
   "source": [
    "plt.figure(figsize=(20, 10))\n",
    "mask = (df.estimated_biomass_g > 0) & (df.estimated_biomass_g < 12000)\n",
    "plt.scatter(df[mask].ground_truth_eye_depth, df[mask].estimated_biomass_g)\n",
    "plt.xlabel('Working Distance (m)')\n",
    "plt.ylabel('Predicted weight (m)')\n",
    "plt.title('Est. Fish Weight vs. Working Distance')\n",
    "plt.grid()\n",
    "plt.show()"
   ]
  },
  {
   "cell_type": "code",
   "execution_count": null,
   "metadata": {},
   "outputs": [],
   "source": []
  },
  {
   "cell_type": "code",
   "execution_count": null,
   "metadata": {},
   "outputs": [],
   "source": []
  },
  {
   "cell_type": "code",
   "execution_count": null,
   "metadata": {},
   "outputs": [],
   "source": []
  },
  {
   "cell_type": "code",
   "execution_count": null,
   "metadata": {},
   "outputs": [],
   "source": []
  },
  {
   "cell_type": "code",
   "execution_count": null,
   "metadata": {},
   "outputs": [],
   "source": []
  },
  {
   "cell_type": "code",
   "execution_count": null,
   "metadata": {},
   "outputs": [],
   "source": []
  }
 ],
 "metadata": {
  "kernelspec": {
   "display_name": "Python 3",
   "language": "python",
   "name": "python3"
  },
  "language_info": {
   "codemirror_mode": {
    "name": "ipython",
    "version": 3
   },
   "file_extension": ".py",
   "mimetype": "text/x-python",
   "name": "python",
   "nbconvert_exporter": "python",
   "pygments_lexer": "ipython3",
   "version": "3.5.2"
  }
 },
 "nbformat": 4,
 "nbformat_minor": 2
}
