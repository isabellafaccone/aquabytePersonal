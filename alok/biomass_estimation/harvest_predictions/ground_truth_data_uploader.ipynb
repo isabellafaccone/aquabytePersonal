{
 "cells": [
  {
   "cell_type": "code",
   "execution_count": null,
   "metadata": {},
   "outputs": [],
   "source": [
    "import json\n",
    "import os\n",
    "from research.utils.data_access_utils import S3AccessUtils\n",
    "from matplotlib import pyplot as plt"
   ]
  },
  {
   "cell_type": "code",
   "execution_count": null,
   "metadata": {},
   "outputs": [],
   "source": []
  },
  {
   "cell_type": "code",
   "execution_count": null,
   "metadata": {},
   "outputs": [],
   "source": [
    "pen_id = 164\n",
    "\n",
    "weight_distribution = {\n",
    "    '0.0-1.0': 0.0,\n",
    "    '1.0-2.0': 1.05,\n",
    "    '2.0-3.0': 19.52,\n",
    "    '3.0-4.0': 64.46,\n",
    "    '4.0-5.0': 14.6,\n",
    "    '5.0-6.0': 0.35,\n",
    "    '6.0-7.0': 0.024,\n",
    "    '7.0-8.0': 0.0,\n",
    "    '8.0-9.0': 0.0\n",
    "}\n",
    "\n",
    "gutted_average_weight = 3440\n",
    "expected_loss_factor = 16.0\n",
    "\n",
    "\n",
    "ground_truth_metadata = {\n",
    "    'pen_id': pen_id,\n",
    "    'gutted_weight_distribution': weight_distribution,\n",
    "    'gutted_average_weight': gutted_average_weight,\n",
    "    'expected_loss_factor': expected_loss_factor,\n",
    "    'last_feeding_date': '2020-10-01',\n",
    "    'undeployment_date': '2020-10-06',\n",
    "    'harvest_date': None,\n",
    "    'slaughter_date': None\n",
    "}"
   ]
  },
  {
   "cell_type": "code",
   "execution_count": null,
   "metadata": {},
   "outputs": [],
   "source": [
    "pen_id = 100\n",
    "weight_distribution = None\n",
    "gutted_average_weight = 4508\n",
    "expected_loss_factor = 17.5\n",
    "\n",
    "\n",
    "ground_truth_metadata = {\n",
    "    'pen_id': pen_id,\n",
    "    'gutted_weight_distribution': weight_distribution,\n",
    "    'gutted_average_weight': gutted_average_weight,\n",
    "    'expected_loss_factor': expected_loss_factor,\n",
    "    'last_feeding_date': '2020-08-24',\n",
    "    'undeployment_date': '2020-08-28',\n",
    "    'harvest_date': '2020-08-29',\n",
    "    'slaughter_date': '2020-08-29'\n",
    "}"
   ]
  },
  {
   "cell_type": "code",
   "execution_count": null,
   "metadata": {},
   "outputs": [],
   "source": []
  },
  {
   "cell_type": "code",
   "execution_count": null,
   "metadata": {},
   "outputs": [],
   "source": []
  },
  {
   "cell_type": "code",
   "execution_count": null,
   "metadata": {},
   "outputs": [],
   "source": []
  },
  {
   "cell_type": "code",
   "execution_count": null,
   "metadata": {},
   "outputs": [],
   "source": []
  },
  {
   "cell_type": "code",
   "execution_count": null,
   "metadata": {},
   "outputs": [],
   "source": []
  },
  {
   "cell_type": "code",
   "execution_count": null,
   "metadata": {},
   "outputs": [],
   "source": []
  },
  {
   "cell_type": "code",
   "execution_count": null,
   "metadata": {},
   "outputs": [],
   "source": [
    "ground_truth_metadata\n",
    "\n"
   ]
  },
  {
   "cell_type": "code",
   "execution_count": null,
   "metadata": {},
   "outputs": [],
   "source": [
    "json.dump(ground_truth_metadata, open('/root/data/alok/biomass_estimation/playground/ground_truth_metadata.json', 'w'))\n",
    "\n"
   ]
  },
  {
   "cell_type": "code",
   "execution_count": null,
   "metadata": {},
   "outputs": [],
   "source": [
    "f = '/root/data/alok/biomass_estimation/playground/ground_truth_metadata.json'\n",
    "\n"
   ]
  },
  {
   "cell_type": "code",
   "execution_count": null,
   "metadata": {},
   "outputs": [],
   "source": [
    "s3 = S3AccessUtils('/root/data', json.load(open(os.environ['AWS_CREDENTIALS'])))\n",
    "\n"
   ]
  },
  {
   "cell_type": "code",
   "execution_count": null,
   "metadata": {},
   "outputs": [],
   "source": [
    "s3.s3_client.upload_file(f, 'aquabyte-images-adhoc', 'alok/production_datasets/eldviktaren_pen_id_164_2020-09-06_2020-10-06/ground_truth_metadata.json')\n",
    "\n"
   ]
  },
  {
   "cell_type": "code",
   "execution_count": null,
   "metadata": {},
   "outputs": [],
   "source": []
  },
  {
   "cell_type": "code",
   "execution_count": null,
   "metadata": {},
   "outputs": [],
   "source": [
    "df[(df.weight >= 3) & (df.weight <= 4)].shape[0] / df.shape[0]"
   ]
  },
  {
   "cell_type": "code",
   "execution_count": null,
   "metadata": {},
   "outputs": [],
   "source": [
    "import pandas as pd\n",
    "\n",
    "df = pd.read_csv('/root/data/alok/biomass_estimation/playground/blom_ground_truth_data.csv', header=None)"
   ]
  },
  {
   "cell_type": "code",
   "execution_count": null,
   "metadata": {},
   "outputs": [],
   "source": [
    "df.columns = ['a', 'site', 'b', 'c', 'grade', 'weight', 'measured_at']"
   ]
  },
  {
   "cell_type": "code",
   "execution_count": null,
   "metadata": {},
   "outputs": [],
   "source": [
    "weights = 1000 * df.weight.values / .83"
   ]
  },
  {
   "cell_type": "code",
   "execution_count": null,
   "metadata": {},
   "outputs": [],
   "source": [
    "import numpy as np\n",
    "bucket_cutoffs = np.arange(0, 10000, 1000)"
   ]
  },
  {
   "cell_type": "code",
   "execution_count": null,
   "metadata": {},
   "outputs": [],
   "source": [
    "def get_distribution(weights, bucket_cutoffs):\n",
    "    dist = {}\n",
    "    count = 0\n",
    "    for low, high in zip(bucket_cutoffs, bucket_cutoffs[1:]):\n",
    "        bucket = f'{1e-3 * low}-{1e-3 * high}'\n",
    "        bucket_count = weights[(weights >= low) & (weights < high)].shape[0]\n",
    "        dist[bucket] = bucket_count\n",
    "        count += bucket_count\n",
    "    \n",
    "    dist = {k: round(100 * v / count, 1) for k, v in dist.items()}\n",
    "    return dist"
   ]
  },
  {
   "cell_type": "code",
   "execution_count": null,
   "metadata": {},
   "outputs": [],
   "source": [
    "get_distribution(weights, bucket_cutoffs)"
   ]
  },
  {
   "cell_type": "code",
   "execution_count": null,
   "metadata": {},
   "outputs": [],
   "source": [
    "plt.figure(figsize=(20, 10))\n",
    "plt.hist(weights)\n",
    "plt.grid()\n",
    "plt.show()"
   ]
  },
  {
   "cell_type": "code",
   "execution_count": null,
   "metadata": {},
   "outputs": [],
   "source": []
  },
  {
   "cell_type": "code",
   "execution_count": null,
   "metadata": {},
   "outputs": [],
   "source": []
  },
  {
   "cell_type": "code",
   "execution_count": null,
   "metadata": {},
   "outputs": [],
   "source": []
  },
  {
   "cell_type": "code",
   "execution_count": null,
   "metadata": {},
   "outputs": [],
   "source": []
  }
 ],
 "metadata": {
  "kernelspec": {
   "display_name": "Python 3",
   "language": "python",
   "name": "python3"
  },
  "language_info": {
   "codemirror_mode": {
    "name": "ipython",
    "version": 3
   },
   "file_extension": ".py",
   "mimetype": "text/x-python",
   "name": "python",
   "nbconvert_exporter": "python",
   "pygments_lexer": "ipython3",
   "version": "3.6.5"
  }
 },
 "nbformat": 4,
 "nbformat_minor": 2
}
