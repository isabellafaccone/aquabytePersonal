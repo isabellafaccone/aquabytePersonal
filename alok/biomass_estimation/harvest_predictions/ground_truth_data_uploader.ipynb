{
 "cells": [
  {
   "cell_type": "code",
   "execution_count": null,
   "metadata": {},
   "outputs": [],
   "source": [
    "import json\n",
    "import os\n",
    "from research.utils.data_access_utils import S3AccessUtils"
   ]
  },
  {
   "cell_type": "code",
   "execution_count": null,
   "metadata": {},
   "outputs": [],
   "source": []
  },
  {
   "cell_type": "code",
   "execution_count": null,
   "metadata": {},
   "outputs": [],
   "source": [
    "pen_id = 88\n",
    "weight_distribution = {\n",
    "    '0.0-1.0': 0.0,\n",
    "    '1.0-2.0': 1.65,\n",
    "    '2.0-3.0': 6.48,\n",
    "    '3.0-4.0': 17.57,\n",
    "    '4.0-5.0': 36.54,\n",
    "    '5.0-6.0': 26.58,\n",
    "    '6.0-7.0': 9.16,\n",
    "    '7.0-8.0': 1.84,\n",
    "    '8.0-9.0': 0.17,\n",
    "    '9.0-10.0': 0.01,\n",
    "}\n",
    "gutted_average_weight = 4580\n",
    "expected_loss_factor = 16.5\n",
    "\n",
    "\n",
    "ground_truth_metadata = {\n",
    "    'pen_id': pen_id,\n",
    "    'gutted_weight_distribution': weight_distribution,\n",
    "    'gutted_average_weight': gutted_average_weight,\n",
    "    'expected_loss_factor': expected_loss_factor,\n",
    "    'last_feeding_date': '2020-03-05',\n",
    "    'undeployment_date': '2020-03-06',\n",
    "    'harvest_date': '2020-03-06',\n",
    "    'slaughter_date': '2020-03-13'\n",
    "}"
   ]
  },
  {
   "cell_type": "code",
   "execution_count": null,
   "metadata": {},
   "outputs": [],
   "source": [
    "pen_id = 66\n",
    "weight_distribution = None\n",
    "gutted_average_weight = 3950\n",
    "expected_loss_factor = 16.5\n",
    "\n",
    "\n",
    "ground_truth_metadata = {\n",
    "    'pen_id': pen_id,\n",
    "    'gutted_weight_distribution': weight_distribution,\n",
    "    'gutted_average_weight': gutted_average_weight,\n",
    "    'expected_loss_factor': expected_loss_factor,\n",
    "    'last_feeding_date': '2020-06-09',\n",
    "    'undeployment_date': '2020-06-12',\n",
    "    'harvest_date': '2020-06-14',\n",
    "    'slaughter_date': '2020-06-16'\n",
    "}"
   ]
  },
  {
   "cell_type": "code",
   "execution_count": null,
   "metadata": {},
   "outputs": [],
   "source": []
  },
  {
   "cell_type": "code",
   "execution_count": null,
   "metadata": {},
   "outputs": [],
   "source": []
  },
  {
   "cell_type": "code",
   "execution_count": null,
   "metadata": {},
   "outputs": [],
   "source": [
    "ground_truth_metadata"
   ]
  },
  {
   "cell_type": "code",
   "execution_count": null,
   "metadata": {},
   "outputs": [],
   "source": [
    "json.dump(ground_truth_metadata, open('/root/data/alok/biomass_estimation/playground/ground_truth_metadata.json', 'w'))\n",
    "\n"
   ]
  },
  {
   "cell_type": "code",
   "execution_count": null,
   "metadata": {},
   "outputs": [],
   "source": [
    "f = '/root/data/alok/biomass_estimation/playground/ground_truth_metadata.json'\n",
    "\n"
   ]
  },
  {
   "cell_type": "code",
   "execution_count": null,
   "metadata": {},
   "outputs": [],
   "source": [
    "s3 = S3AccessUtils('/root/data', json.load(open(os.environ['AWS_CREDENTIALS'])))\n",
    "\n"
   ]
  },
  {
   "cell_type": "code",
   "execution_count": null,
   "metadata": {},
   "outputs": [],
   "source": [
    "s3.s3_client.upload_file(f, 'aquabyte-images-adhoc', 'alok/production_datasets/seglberget_pen_id_66_2020-05-13_2020-06-13/ground_truth_metadata.json')\n",
    "\n"
   ]
  },
  {
   "cell_type": "code",
   "execution_count": null,
   "metadata": {},
   "outputs": [],
   "source": []
  },
  {
   "cell_type": "code",
   "execution_count": null,
   "metadata": {},
   "outputs": [],
   "source": []
  },
  {
   "cell_type": "code",
   "execution_count": null,
   "metadata": {},
   "outputs": [],
   "source": []
  },
  {
   "cell_type": "code",
   "execution_count": null,
   "metadata": {},
   "outputs": [],
   "source": []
  }
 ],
 "metadata": {
  "kernelspec": {
   "display_name": "Python 3",
   "language": "python",
   "name": "python3"
  },
  "language_info": {
   "codemirror_mode": {
    "name": "ipython",
    "version": 3
   },
   "file_extension": ".py",
   "mimetype": "text/x-python",
   "name": "python",
   "nbconvert_exporter": "python",
   "pygments_lexer": "ipython3",
   "version": "3.6.5"
  }
 },
 "nbformat": 4,
 "nbformat_minor": 2
}
