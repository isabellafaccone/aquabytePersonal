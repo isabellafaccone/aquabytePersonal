{
 "cells": [
  {
   "cell_type": "code",
   "execution_count": null,
   "metadata": {},
   "outputs": [],
   "source": [
    "import json\n",
    "import os\n",
    "import numpy as np\n",
    "import pandas as pd\n",
    "from research.utils.data_access_utils import S3AccessUtils, RDSAccessUtils\n",
    "from research.weight_estimation.keypoint_utils.body_parts import BodyParts\n",
    "from matplotlib import pyplot as plt"
   ]
  },
  {
   "cell_type": "code",
   "execution_count": null,
   "metadata": {},
   "outputs": [],
   "source": []
  },
  {
   "cell_type": "markdown",
   "metadata": {},
   "source": [
    "<h1> Load Kjeppevikholmen 2019 AKPD Data </h1>"
   ]
  },
  {
   "cell_type": "code",
   "execution_count": null,
   "metadata": {},
   "outputs": [],
   "source": [
    "adf = pd.concat([\n",
    "    pd.read_csv('/root/data/alok/biomass_estimation/playground/output-pen=5/biomass_output,pen=5,range=(2019-06-05,2019-06-12).csv'),\n",
    "    pd.read_csv('/root/data/alok/biomass_estimation/playground/output-pen=5/biomass_output,pen=5,range=(2019-06-12,2019-06-19).csv'),\n",
    "    pd.read_csv('/root/data/alok/biomass_estimation/playground/output-pen=5/biomass_output,pen=5,range=(2019-06-19,2019-06-26).csv'),\n",
    "    pd.read_csv('/root/data/alok/biomass_estimation/playground/output-pen=5/biomass_output,pen=5,range=(2019-06-26,2019-07-03).csv'),\n",
    "    pd.read_csv('/root/data/alok/biomass_estimation/playground/output-pen=5/biomass_output,pen=5,range=(2019-07-03,2019-07-04).csv')\n",
    "])"
   ]
  },
  {
   "cell_type": "code",
   "execution_count": null,
   "metadata": {},
   "outputs": [],
   "source": []
  },
  {
   "cell_type": "markdown",
   "metadata": {},
   "source": [
    "<h1> Load Corresponding Manual Data </h1>"
   ]
  },
  {
   "cell_type": "code",
   "execution_count": null,
   "metadata": {},
   "outputs": [],
   "source": [
    "s3_access_utils = S3AccessUtils('/root/data', json.load(open(os.environ['AWS_CREDENTIALS'])))\n",
    "rds_access_utils = RDSAccessUtils(json.load(open(os.environ['PROD_SQL_CREDENTIALS'])))\n",
    "\n",
    "query = \"\"\"\n",
    "    SELECT * FROM keypoint_annotations\n",
    "    WHERE pen_id=5\n",
    "    AND captured_at BETWEEN '2019-06-05' AND '2019-07-02'\n",
    "    AND keypoints is not null\n",
    "    AND keypoints -> 'leftCrop' is not null\n",
    "    AND keypoints -> 'rightCrop' is not null\n",
    "    AND is_qa = FALSE;\n",
    "\"\"\"\n",
    "\n",
    "mdf = rds_access_utils.extract_from_database(query)"
   ]
  },
  {
   "cell_type": "code",
   "execution_count": null,
   "metadata": {},
   "outputs": [],
   "source": []
  },
  {
   "cell_type": "markdown",
   "metadata": {},
   "source": [
    "<h1> Join two datasets together </h1>"
   ]
  },
  {
   "cell_type": "code",
   "execution_count": null,
   "metadata": {},
   "outputs": [],
   "source": [
    "url_intersection = sorted(list(set(mdf.left_image_url).intersection(adf.left_crop_url)))\n",
    "df = adf[adf.left_crop_url.isin(url_intersection)].sort_values('left_crop_url')\n",
    "df['manual_keypoints'] = mdf[mdf.left_image_url.isin(url_intersection)].sort_values('left_image_url').keypoints.values\n",
    "df['camera_metadata'] = mdf[mdf.left_image_url.isin(url_intersection)].sort_values('left_image_url').camera_metadata.values\n"
   ]
  },
  {
   "cell_type": "code",
   "execution_count": null,
   "metadata": {},
   "outputs": [],
   "source": []
  },
  {
   "cell_type": "markdown",
   "metadata": {},
   "source": [
    "<h1> Compute Precision of AKPD Scorer </h1>"
   ]
  },
  {
   "cell_type": "code",
   "execution_count": null,
   "metadata": {},
   "outputs": [],
   "source": [
    "BODY_PARTS = BodyParts().get_core_body_parts()\n",
    "\n",
    "\n",
    "# # generate ground-truth score label given manual annotations for a fish and the corresponding\n",
    "# # AKPD annotations\n",
    "# def generate_ann_score(akpd_ann, manual_ann, threshold=20):\n",
    "#     m_dists = []\n",
    "#     for side in ['leftCrop', 'rightCrop']:\n",
    "#         m_coords = {item['keypointType']: np.array([item['xFrame'], item['yFrame']]) for item in manual_ann[side]}\n",
    "#         a_coords = {item['keypointType']: np.array([item['xFrame'], item['yFrame']]) for item in akpd_ann[side]}\n",
    "\n",
    "#         # if any of the individual keypoint manhattan distances exceeds threshold,\n",
    "#         # give score of 0. Else, give score of 1.0\n",
    "#         for bp in BODY_PARTS:\n",
    "#             manhattan_dist = np.sum(np.abs(m_coords[bp] - a_coords[bp]))\n",
    "#             m_dists.append(manhattan_dist)\n",
    "        \n",
    "#     return np.max(m_dists)\n",
    "\n",
    "def generate_ann_score(akpd_ann, manual_ann, threshold=20):\n",
    "    disp_diffs = []\n",
    "    m_l_coords = {item['keypointType']: np.array([item['xFrame'], item['yFrame']]) for item in manual_ann['leftCrop']}\n",
    "    a_l_coords = {item['keypointType']: np.array([item['xFrame'], item['yFrame']]) for item in akpd_ann['leftCrop']}\n",
    "    m_r_coords = {item['keypointType']: np.array([item['xFrame'], item['yFrame']]) for item in manual_ann['rightCrop']}\n",
    "    a_r_coords = {item['keypointType']: np.array([item['xFrame'], item['yFrame']]) for item in akpd_ann['rightCrop']}\n",
    "\n",
    "    for bp in BODY_PARTS:\n",
    "        gt_disp = np.abs(m_l_coords[bp] - m_r_coords[bp])\n",
    "        p_disp = np.abs(a_l_coords[bp] - a_r_coords[bp])\n",
    "        disp_diffs.append(np.abs(gt_disp - p_disp))\n",
    "        \n",
    "    return np.max(disp_diffs)\n",
    "        \n",
    "\n",
    "\n",
    "# get vector of AKPD scores as predictions\n",
    "preds = df.akpd_score.values\n",
    "\n",
    "# get vector of ground-truth labels\n",
    "labels = []\n",
    "count = 0\n",
    "for idx, row in df.iterrows():\n",
    "    manual_ann = row.manual_keypoints\n",
    "    akpd_ann = json.loads(row.annotation.replace(\"'\", '\"'))\n",
    "    label = generate_ann_score(akpd_ann, manual_ann)\n",
    "    labels.append(label)\n",
    "    \n",
    "    if count % 1000 == 0:\n",
    "        print('Percentage Complete: {}%'.format(round(100 * count / df.shape[0], 2)))\n",
    "    count += 1\n",
    "\n",
    "    \n",
    "\n"
   ]
  },
  {
   "cell_type": "code",
   "execution_count": null,
   "metadata": {},
   "outputs": [],
   "source": []
  },
  {
   "cell_type": "code",
   "execution_count": null,
   "metadata": {},
   "outputs": [],
   "source": [
    "df['label'] = labels"
   ]
  },
  {
   "cell_type": "code",
   "execution_count": null,
   "metadata": {},
   "outputs": [],
   "source": [
    "plt.figure(figsize=(20, 10))\n",
    "plt.hist(df[df.akpd_score > 0.99].label, bins=100)\n",
    "plt.grid()\n",
    "plt.show()"
   ]
  },
  {
   "cell_type": "code",
   "execution_count": null,
   "metadata": {},
   "outputs": [],
   "source": []
  },
  {
   "cell_type": "code",
   "execution_count": null,
   "metadata": {},
   "outputs": [],
   "source": [
    "df[(df.akpd_score > 0.99) & (df.label < 60)].shape[0] / df[df.akpd_score > 0.99].shape[0]"
   ]
  },
  {
   "cell_type": "code",
   "execution_count": null,
   "metadata": {},
   "outputs": [],
   "source": [
    "plt.figure(figsize=(20, 10))\n",
    "plt.hist(np.log(1 - df.akpd_score))\n",
    "plt.grid()\n",
    "plt.show()"
   ]
  },
  {
   "cell_type": "code",
   "execution_count": null,
   "metadata": {},
   "outputs": [],
   "source": []
  },
  {
   "cell_type": "code",
   "execution_count": null,
   "metadata": {},
   "outputs": [],
   "source": []
  },
  {
   "cell_type": "code",
   "execution_count": null,
   "metadata": {},
   "outputs": [],
   "source": []
  }
 ],
 "metadata": {
  "kernelspec": {
   "display_name": "Python 3",
   "language": "python",
   "name": "python3"
  },
  "language_info": {
   "codemirror_mode": {
    "name": "ipython",
    "version": 3
   },
   "file_extension": ".py",
   "mimetype": "text/x-python",
   "name": "python",
   "nbconvert_exporter": "python",
   "pygments_lexer": "ipython3",
   "version": "3.6.5"
  }
 },
 "nbformat": 4,
 "nbformat_minor": 2
}
