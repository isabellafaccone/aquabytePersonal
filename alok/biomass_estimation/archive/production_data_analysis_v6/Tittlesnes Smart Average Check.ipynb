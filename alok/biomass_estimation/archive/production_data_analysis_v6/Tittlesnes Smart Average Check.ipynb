{
 "cells": [
  {
   "cell_type": "code",
   "execution_count": null,
   "metadata": {},
   "outputs": [],
   "source": [
    "import json\n",
    "import os\n",
    "import numpy as np\n",
    "import pandas as pd\n",
    "from research.utils.data_access_utils import RDSAccessUtils\n",
    "import plotly.express as px\n",
    "from matplotlib import pyplot as plt"
   ]
  },
  {
   "cell_type": "code",
   "execution_count": null,
   "metadata": {},
   "outputs": [],
   "source": []
  },
  {
   "cell_type": "markdown",
   "metadata": {},
   "source": [
    "<h1> Get raw biomass computations </h1>"
   ]
  },
  {
   "cell_type": "code",
   "execution_count": null,
   "metadata": {},
   "outputs": [],
   "source": [
    "query = \"\"\"\n",
    "    select * from prod.biomass_computations\n",
    "    where pen_id=37\n",
    "    and captured_at > '2020-06-15';\n",
    "\"\"\"\n",
    "\n",
    "rds_access_utils = RDSAccessUtils(json.load(open(os.environ['DATA_WAREHOUSE_SQL_CREDENTIALS'])))\n",
    "df = rds_access_utils.extract_from_database(query)"
   ]
  },
  {
   "cell_type": "code",
   "execution_count": null,
   "metadata": {},
   "outputs": [],
   "source": [
    "df.index = list(range(df.shape[0]))\n",
    "df = df.sort_values('captured_at').copy(deep=True)\n",
    "df.index = pd.to_datetime(df.captured_at)\n",
    "dates = df.index.date.astype(str)\n",
    "df['date'] = dates\n",
    "df['hour'] = df.index.hour"
   ]
  },
  {
   "cell_type": "code",
   "execution_count": null,
   "metadata": {},
   "outputs": [],
   "source": []
  },
  {
   "cell_type": "code",
   "execution_count": null,
   "metadata": {},
   "outputs": [],
   "source": [
    "mask = (df.captured_at >= '2020-06-13') & (df.captured_at < '2020-06-19') & (df.akpd_score > 0.99)"
   ]
  },
  {
   "cell_type": "code",
   "execution_count": null,
   "metadata": {},
   "outputs": [],
   "source": []
  },
  {
   "cell_type": "code",
   "execution_count": null,
   "metadata": {},
   "outputs": [],
   "source": [
    "mask = (df.captured_at >= '2020-06-10') & (df.captured_at < '2020-06-18') & (df.akpd_score > 0.99)\n",
    "means = []\n",
    "hours = np.arange(0, 24, 1)\n",
    "for hour in hours:\n",
    "    hour_mask = mask & (df.hour == hour)\n",
    "    if df[hour_mask].shape[0]:\n",
    "        means.append(df[hour_mask].estimated_weight_g.mean())\n",
    "    else:\n",
    "        means.append(None)\n",
    "        "
   ]
  },
  {
   "cell_type": "code",
   "execution_count": null,
   "metadata": {},
   "outputs": [],
   "source": [
    "plt.figure(figsize=(15, 10))\n",
    "plt.plot(hours, means)\n",
    "plt.grid()\n",
    "plt.show()"
   ]
  },
  {
   "cell_type": "code",
   "execution_count": null,
   "metadata": {},
   "outputs": [],
   "source": [
    "mask = (df.captured_at >= '2020-06-18') & (df.captured_at < '2020-06-19') & (df.akpd_score > 0.99)\n",
    "means = []\n",
    "sample_sizes = []\n",
    "hours = np.arange(0, 24, 1)\n",
    "for hour in hours:\n",
    "    hour_mask = mask & (df.hour == hour)\n",
    "    if df[hour_mask].shape[0]:\n",
    "        means.append(df[hour_mask].estimated_weight_g.mean())\n",
    "        sample_sizes.append(df[hour_mask].shape[0])\n",
    "    else:\n",
    "        means.append(None)\n",
    "        sample_sizes.append(None)\n",
    "        "
   ]
  },
  {
   "cell_type": "code",
   "execution_count": null,
   "metadata": {},
   "outputs": [],
   "source": [
    "plt.figure(figsize=(20, 10))\n",
    "plt.plot(hours, means)\n",
    "plt.grid()\n",
    "plt.show()"
   ]
  },
  {
   "cell_type": "code",
   "execution_count": null,
   "metadata": {},
   "outputs": [],
   "source": [
    "plt.figure(figsize=(20, 10))\n",
    "plt.plot(hours, sample_sizes)\n",
    "plt.grid()\n",
    "plt.show()"
   ]
  },
  {
   "cell_type": "code",
   "execution_count": null,
   "metadata": {},
   "outputs": [],
   "source": []
  },
  {
   "cell_type": "code",
   "execution_count": null,
   "metadata": {},
   "outputs": [],
   "source": []
  },
  {
   "cell_type": "code",
   "execution_count": null,
   "metadata": {},
   "outputs": [],
   "source": []
  },
  {
   "cell_type": "code",
   "execution_count": null,
   "metadata": {},
   "outputs": [],
   "source": []
  }
 ],
 "metadata": {
  "kernelspec": {
   "display_name": "Python 3",
   "language": "python",
   "name": "python3"
  },
  "language_info": {
   "codemirror_mode": {
    "name": "ipython",
    "version": 3
   },
   "file_extension": ".py",
   "mimetype": "text/x-python",
   "name": "python",
   "nbconvert_exporter": "python",
   "pygments_lexer": "ipython3",
   "version": "3.6.5"
  }
 },
 "nbformat": 4,
 "nbformat_minor": 2
}
