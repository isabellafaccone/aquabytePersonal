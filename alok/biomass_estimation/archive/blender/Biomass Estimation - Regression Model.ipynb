{
 "cells": [
  {
   "cell_type": "markdown",
   "metadata": {},
   "source": [
    "<h1> Biomass Regression Model </h1>"
   ]
  },
  {
   "cell_type": "code",
   "execution_count": null,
   "metadata": {},
   "outputs": [],
   "source": [
    "import array\n",
    "from PIL import Image, ImageDraw\n",
    "import numpy as np\n",
    "import pandas as pd\n",
    "import json\n",
    "import math\n",
    "import statsmodels.api as sm\n",
    "from matplotlib import pyplot as plt\n",
    "pd.set_option('display.height', 500)\n",
    "pd.set_option('display.max_rows', 500)\n",
    "\n",
    "%matplotlib inline"
   ]
  },
  {
   "cell_type": "markdown",
   "metadata": {},
   "source": [
    "<h1> Create dataframe with relevant features </h1>"
   ]
  },
  {
   "cell_type": "code",
   "execution_count": null,
   "metadata": {},
   "outputs": [],
   "source": [
    "data_dir_base = '/root/data/blender_v3/'\n",
    "COMPLETE_SAMPLE_SIZE = 4007\n",
    "df = pd.DataFrame()\n",
    "for idx in range(COMPLETE_SAMPLE_SIZE):\n",
    "    # get annotation data\n",
    "    annotation_file_name = 'annot_{}.json'.format(idx)\n",
    "    annotation_file_path = '{}/{}/{}'.format(data_dir_base, 'annotations', annotation_file_name)\n",
    "    annotation_data = json.load(open(annotation_file_path, 'rb'))\n",
    "    df = df.append(annotation_data, ignore_index=True)\n",
    "\n",
    "# add columns to DataFrame\n",
    "df['log_volume'] = np.log(df.volume)\n",
    "df['log_length'] = np.log(df.length)\n",
    "df['log_width'] = np.log(df.height)\n",
    "df['log_breadth'] = np.log(df.width)"
   ]
  },
  {
   "cell_type": "markdown",
   "metadata": {},
   "source": [
    "<h1> Simple Allometric Models </h1>"
   ]
  },
  {
   "cell_type": "code",
   "execution_count": null,
   "metadata": {},
   "outputs": [],
   "source": []
  },
  {
   "cell_type": "markdown",
   "metadata": {},
   "source": [
    "We first consider the model $ W = al^b $, where $W$ and $l$ represent biomass and weight, respectively. First, rewrite the model as $\\log{W} = a + b\\log{l}$. We will fit the points to this model."
   ]
  },
  {
   "cell_type": "code",
   "execution_count": null,
   "metadata": {},
   "outputs": [],
   "source": [
    "features = ['log_length']\n",
    "target = 'log_volume'\n",
    "\n",
    "model = sm.OLS(df[target], df.filter(features)).fit()\n",
    "print(model.summary())\n",
    "\n",
    "A = np.vstack([df.filter(features).values.T, np.ones(df.shape[0])]).T\n",
    "res = np.linalg.lstsq(A, df[target].values)\n",
    "b, a = res[0]"
   ]
  },
  {
   "cell_type": "code",
   "execution_count": null,
   "metadata": {},
   "outputs": [],
   "source": [
    "df"
   ]
  },
  {
   "cell_type": "code",
   "execution_count": null,
   "metadata": {},
   "outputs": [],
   "source": []
  },
  {
   "cell_type": "code",
   "execution_count": null,
   "metadata": {},
   "outputs": [],
   "source": []
  },
  {
   "cell_type": "code",
   "execution_count": null,
   "metadata": {},
   "outputs": [],
   "source": []
  },
  {
   "cell_type": "code",
   "execution_count": null,
   "metadata": {},
   "outputs": [],
   "source": []
  },
  {
   "cell_type": "code",
   "execution_count": null,
   "metadata": {},
   "outputs": [],
   "source": []
  },
  {
   "cell_type": "markdown",
   "metadata": {},
   "source": [
    "Now consider the following model, which is the first model but generalized to incorporate other dimensions as well (width and breadth):\n",
    "\n",
    "$$W=al^b w^c b^d$$\n",
    "\n",
    "Here, $W$, $l$, $w$ and $b$ represent biomass, length, width, and breadth, respectively. Taking logarithms, this gives \n",
    "\n",
    "$$ \\log{W} = a + b\\log{l} + c\\log{w} + d\\log{b} $$"
   ]
  },
  {
   "cell_type": "code",
   "execution_count": null,
   "metadata": {},
   "outputs": [],
   "source": []
  },
  {
   "cell_type": "code",
   "execution_count": null,
   "metadata": {},
   "outputs": [],
   "source": [
    "features = ['log_length', 'log_width', 'log_breadth']\n",
    "target = 'log_volume'\n",
    "\n",
    "model = sm.OLS(df[target], df.filter(features)).fit()\n",
    "print(model.summary())\n"
   ]
  },
  {
   "cell_type": "code",
   "execution_count": null,
   "metadata": {},
   "outputs": [],
   "source": [
    "model.params"
   ]
  },
  {
   "cell_type": "code",
   "execution_count": null,
   "metadata": {},
   "outputs": [],
   "source": []
  },
  {
   "cell_type": "code",
   "execution_count": null,
   "metadata": {},
   "outputs": [],
   "source": []
  },
  {
   "cell_type": "code",
   "execution_count": null,
   "metadata": {},
   "outputs": [],
   "source": [
    "features = ['log_length', 'log_width', 'log_breadth']\n",
    "A = np.vstack([df[features].values.T, np.ones(df.shape[0])]).T\n",
    "res = np.linalg.lstsq(A, df[target].values)\n"
   ]
  },
  {
   "cell_type": "code",
   "execution_count": null,
   "metadata": {},
   "outputs": [],
   "source": [
    "np.dot(res[0].T, A.T)"
   ]
  },
  {
   "cell_type": "code",
   "execution_count": null,
   "metadata": {},
   "outputs": [],
   "source": [
    "np.dot(res[0].T, A.T)"
   ]
  },
  {
   "cell_type": "code",
   "execution_count": null,
   "metadata": {},
   "outputs": [],
   "source": [
    "res[0].T.shape, A.T.shape"
   ]
  },
  {
   "cell_type": "code",
   "execution_count": null,
   "metadata": {},
   "outputs": [],
   "source": []
  },
  {
   "cell_type": "code",
   "execution_count": null,
   "metadata": {},
   "outputs": [],
   "source": [
    "res"
   ]
  },
  {
   "cell_type": "code",
   "execution_count": null,
   "metadata": {},
   "outputs": [],
   "source": []
  },
  {
   "cell_type": "markdown",
   "metadata": {},
   "source": []
  },
  {
   "cell_type": "code",
   "execution_count": null,
   "metadata": {},
   "outputs": [],
   "source": []
  },
  {
   "cell_type": "code",
   "execution_count": null,
   "metadata": {},
   "outputs": [],
   "source": []
  },
  {
   "cell_type": "code",
   "execution_count": null,
   "metadata": {},
   "outputs": [],
   "source": []
  },
  {
   "cell_type": "code",
   "execution_count": null,
   "metadata": {},
   "outputs": [],
   "source": []
  },
  {
   "cell_type": "code",
   "execution_count": null,
   "metadata": {},
   "outputs": [],
   "source": []
  },
  {
   "cell_type": "code",
   "execution_count": null,
   "metadata": {},
   "outputs": [],
   "source": []
  },
  {
   "cell_type": "markdown",
   "metadata": {},
   "source": [
    "<h1> k-fold Cross Validation </h1>"
   ]
  },
  {
   "cell_type": "code",
   "execution_count": null,
   "metadata": {},
   "outputs": [],
   "source": []
  },
  {
   "cell_type": "code",
   "execution_count": null,
   "metadata": {},
   "outputs": [],
   "source": [
    "results_df = pd.DataFrame()\n",
    "\n",
    "# specify the allometric models that we want to compare\n",
    "\n",
    "models = {}\n",
    "models['model_1'] = {\n",
    "    'features': ['log_length'],\n",
    "    'target': 'log_volume'\n",
    "}\n",
    "models['model_2'] = {\n",
    "    'features': ['log_length', 'log_width', 'log_breadth'],\n",
    "    'target': 'log_volume'\n",
    "}\n",
    "\n",
    "# specify the cross validation size\n",
    "k = 10\n",
    "\n",
    "# perform k-fold cross validation for all of the models\n",
    "bucket_endpoints = np.linspace(0, df.shape[0], k + 1).round()\n",
    "for model_name, model in models.items():\n",
    "    features = model['features']\n",
    "    target = model['target']\n",
    "    for idx in range(len(bucket_endpoints)-1):\n",
    "        # specify in-sample and out-of-sample subsets\n",
    "        out_of_sample_mask = (df.index >= bucket_endpoints[idx]) & (df.index < bucket_endpoints[idx+1])\n",
    "        in_sample_data = df.loc[~out_of_sample_mask].copy(deep=True)\n",
    "        \n",
    "        # train the model\n",
    "        A_in_sample = np.vstack([in_sample_data[features].values.T, np.ones(in_sample_data.shape[0])]).T\n",
    "        res = np.linalg.lstsq(A_in_sample, in_sample_data[target])\n",
    "        \n",
    "        # test the model on out of sample data (the performance metric we will use here is mean squared error)\n",
    "        out_of_sample_data = df.loc[out_of_sample_mask].copy(deep=True)\n",
    "        A_out_of_sample = np.vstack([out_of_sample_data[features].values.T, np.ones(out_of_sample_data.shape[0])]).T\n",
    "        out_of_sample_data['prediction'] = np.dot(res[0].T, A_out_of_sample.T)[0]\n",
    "        print \n",
    "        \n",
    "        # compute mean squared eror\n",
    "        mse = ((out_of_sample_data['prediction'] - out_of_sample_data[target])**2).mean()\n",
    "        line_to_append = {\n",
    "            'model_name': model_name,\n",
    "            'features': features,\n",
    "            'target': target,\n",
    "            'mse': mse\n",
    "        }\n",
    "        results_df = results_df.append(line_to_append, ignore_index=True)\n",
    "        \n",
    "        \n",
    "        \n",
    "\n",
    "    \n",
    "    \n"
   ]
  },
  {
   "cell_type": "code",
   "execution_count": null,
   "metadata": {},
   "outputs": [],
   "source": [
    "results_df"
   ]
  },
  {
   "cell_type": "code",
   "execution_count": null,
   "metadata": {},
   "outputs": [],
   "source": []
  },
  {
   "cell_type": "code",
   "execution_count": null,
   "metadata": {},
   "outputs": [],
   "source": []
  },
  {
   "cell_type": "code",
   "execution_count": null,
   "metadata": {},
   "outputs": [],
   "source": []
  },
  {
   "cell_type": "code",
   "execution_count": null,
   "metadata": {},
   "outputs": [],
   "source": []
  },
  {
   "cell_type": "code",
   "execution_count": null,
   "metadata": {},
   "outputs": [],
   "source": []
  },
  {
   "cell_type": "code",
   "execution_count": null,
   "metadata": {},
   "outputs": [],
   "source": []
  },
  {
   "cell_type": "code",
   "execution_count": null,
   "metadata": {},
   "outputs": [],
   "source": []
  },
  {
   "cell_type": "code",
   "execution_count": null,
   "metadata": {},
   "outputs": [],
   "source": []
  },
  {
   "cell_type": "code",
   "execution_count": null,
   "metadata": {},
   "outputs": [],
   "source": []
  }
 ],
 "metadata": {
  "kernelspec": {
   "display_name": "Python 2",
   "language": "python",
   "name": "python2"
  },
  "language_info": {
   "codemirror_mode": {
    "name": "ipython",
    "version": 2
   },
   "file_extension": ".py",
   "mimetype": "text/x-python",
   "name": "python",
   "nbconvert_exporter": "python",
   "pygments_lexer": "ipython2",
   "version": "2.7.12"
  }
 },
 "nbformat": 4,
 "nbformat_minor": 2
}
