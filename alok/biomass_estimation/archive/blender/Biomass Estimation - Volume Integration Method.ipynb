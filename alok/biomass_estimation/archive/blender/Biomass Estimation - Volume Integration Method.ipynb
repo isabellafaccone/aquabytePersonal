{
 "cells": [
  {
   "cell_type": "code",
   "execution_count": null,
   "metadata": {},
   "outputs": [],
   "source": [
    "import sys\n",
    "sys.path.append('/root/alok/github/aquabyte_biomass')\n",
    "from matplotlib import pyplot as plt\n",
    "import numpy as np\n",
    "import pandas as pd\n",
    "from PIL import Image, ImageDraw\n",
    "import statsmodels.api as sm\n",
    "from biomass_utils.points_of_interest import get_data, get_depth_cutoff, get_points_of_interest, distance_between_points"
   ]
  },
  {
   "cell_type": "code",
   "execution_count": null,
   "metadata": {},
   "outputs": [],
   "source": [
    "data_dir_base = '/root/data/blender_v3'\n",
    "idx = 0\n",
    "\n",
    "data = get_data(data_dir_base, idx)\n",
    "point_cloud, mask, annotation, image = data['point_cloud'], data['mask'], data['annotation_data'], data['image']\n",
    "\n",
    "#---------- THIS IS TEMPORARY -- CHANGE ONCE BLENDER DATA IS CORRECTED!!-------#\n",
    "x = annotation['sensor_height'] \n",
    "annotation['sensor_height'] = annotation['sensor_width']\n",
    "annotation['sensor_width'] = x\n",
    "#------------------------------------------------------------------------------#\n",
    "\n",
    "depth_map = point_cloud[:,:,1]\n",
    "cutoff = get_depth_cutoff(depth_map, mask)\n",
    "poi = get_points_of_interest(mask, depth_map, cutoff)"
   ]
  },
  {
   "cell_type": "code",
   "execution_count": null,
   "metadata": {},
   "outputs": [],
   "source": []
  },
  {
   "cell_type": "markdown",
   "metadata": {},
   "source": [
    "<h1> Perform Volume Integration Technique </h1>"
   ]
  },
  {
   "cell_type": "code",
   "execution_count": null,
   "metadata": {},
   "outputs": [],
   "source": [
    "length_endpoint_1_world = point_cloud[poi['length_endpoint_1']]\n",
    "length_endpoint_2_world = point_cloud[poi['length_endpoint_2']]\n",
    "width_endpoint_1_world = point_cloud[poi['width_endpoint_1']]\n",
    "width_endpoint_2_world = point_cloud[poi['width_endpoint_2']]\n",
    "visible_centroid_world = point_cloud[poi['visible_centroid']]\n",
    "a = np.vstack([np.take(length_endpoint_1_world, [0, 2]), \n",
    "               np.take(length_endpoint_2_world, [0, 2]), \n",
    "               np.take(width_endpoint_1_world, [0, 2]),\n",
    "               np.take(width_endpoint_2_world, [0, 2])])\n",
    "y = np.array([length_endpoint_1_world[1], length_endpoint_2_world[1], width_endpoint_1_world[1], width_endpoint_2_world[1]])\n",
    "A = np.c_[a, np.ones(a.shape[0])]\n",
    "res = np.linalg.lstsq(A, y)\n",
    "A, C, D = res[0]\n",
    "B = -1\n",
    "\n",
    "distance_to_plane_matrix = np.abs((np.dot(point_cloud, np.array([A, B, C])) + D))/(np.sqrt(A**2 + B**2 + C**2))\n",
    "surface_distances = distance_to_plane_matrix * (mask > 0) * (depth_map < cutoff)\n",
    "delta_x = (annotation['sensor_width'] * depth_map)/(mask.shape[1] * annotation['focal_length'])\n",
    "delta_z = (annotation['sensor_height'] * depth_map)/(mask.shape[0] * annotation['focal_length'])\n",
    "volume = (delta_x * delta_z * surface_distances).sum() * 2\n",
    "print(volume)\n",
    "\n",
    "\n",
    "\n"
   ]
  },
  {
   "cell_type": "code",
   "execution_count": null,
   "metadata": {},
   "outputs": [],
   "source": [
    "draw = ImageDraw.Draw(image)\n",
    "draw.line((poi['length_endpoint_1'][1], poi['length_endpoint_1'][0], poi['length_endpoint_2'][1], poi['length_endpoint_2'][0]), fill=255)\n",
    "draw.line((poi['width_endpoint_1'][1], poi['width_endpoint_1'][0], poi['width_endpoint_2'][1], poi['width_endpoint_2'][0]), fill=255)\n",
    "image"
   ]
  },
  {
   "cell_type": "code",
   "execution_count": null,
   "metadata": {},
   "outputs": [],
   "source": []
  },
  {
   "cell_type": "code",
   "execution_count": null,
   "metadata": {},
   "outputs": [],
   "source": []
  },
  {
   "cell_type": "code",
   "execution_count": null,
   "metadata": {},
   "outputs": [],
   "source": []
  },
  {
   "cell_type": "code",
   "execution_count": null,
   "metadata": {},
   "outputs": [],
   "source": [
    "COMPLETE_SAMPLE_SIZE = 4007\n",
    "df = pd.DataFrame()\n",
    "for idx in range(COMPLETE_SAMPLE_SIZE):\n",
    "    if idx % 10 == 0:\n",
    "        print(idx)\n",
    "        \n",
    "    data = get_data(data_dir_base, idx)\n",
    "    point_cloud, mask, annotation, image = data['point_cloud'], data['mask'], data['annotation_data'], data['image']\n",
    "\n",
    "    #---------- THIS IS TEMPORARY -- CHANGE ONCE BLENDER DATA IS CORRECTED!!-------#\n",
    "    x = annotation['sensor_height'] \n",
    "    annotation['sensor_height'] = annotation['sensor_width']\n",
    "    annotation['sensor_width'] = x\n",
    "    #------------------------------------------------------------------------------#\n",
    "\n",
    "    depth_map = point_cloud[:,:,1]\n",
    "    cutoff = get_depth_cutoff(depth_map, mask)\n",
    "    poi = get_points_of_interest(mask, depth_map, cutoff)    \n",
    "    \n",
    "    length_endpoint_1_world = point_cloud[poi['length_endpoint_1']]\n",
    "    length_endpoint_2_world = point_cloud[poi['length_endpoint_2']]\n",
    "    width_endpoint_1_world = point_cloud[poi['width_endpoint_1']]\n",
    "    width_endpoint_2_world = point_cloud[poi['width_endpoint_2']]\n",
    "    visible_centroid_world = point_cloud[poi['visible_centroid']]\n",
    "    \n",
    "    # get length and width\n",
    "    length = distance_between_points(length_endpoint_1_world, length_endpoint_2_world)\n",
    "    width = distance_between_points(width_endpoint_1_world, width_endpoint_2_world)\n",
    "    \n",
    "    # get volume via integration method\n",
    "    a = np.vstack([np.take(length_endpoint_1_world, [0, 2]), \n",
    "                   np.take(length_endpoint_2_world, [0, 2]), \n",
    "                   np.take(width_endpoint_1_world, [0, 2]),\n",
    "                   np.take(width_endpoint_2_world, [0, 2])])\n",
    "    y = np.array([length_endpoint_1_world[1], length_endpoint_2_world[1], width_endpoint_1_world[1], width_endpoint_2_world[1]])\n",
    "    A = np.c_[a, np.ones(a.shape[0])]\n",
    "    res = np.linalg.lstsq(A, y)\n",
    "    A, C, D = res[0]\n",
    "    B = -1\n",
    "\n",
    "    distance_to_plane_matrix = np.abs((np.dot(point_cloud, np.array([A, B, C])) + D))/(np.sqrt(A**2 + B**2 + C**2))\n",
    "    surface_distances = distance_to_plane_matrix * (mask > 0) * (depth_map < cutoff)\n",
    "    delta_x = (annotation['sensor_width'] * depth_map)/(mask.shape[1] * annotation['focal_length'])\n",
    "    delta_z = (annotation['sensor_height'] * depth_map)/(mask.shape[0] * annotation['focal_length'])\n",
    "    volume = (delta_x * delta_z * surface_distances).sum() * 2\n",
    "\n",
    "    ground_truth_length = annotation['length']\n",
    "    ground_truth_width = annotation['height']\n",
    "    ground_truth_breadth = annotation['width']\n",
    "    ground_truth_volume = annotation['volume']\n",
    "\n",
    "    line_to_append = { \n",
    "        'predicted_length': length, \n",
    "        'predicted_width': width,\n",
    "        'predicted_volume': volume,\n",
    "        'ground_truth_length': ground_truth_length,\n",
    "        'ground_truth_width': ground_truth_width,\n",
    "        'ground_truth_breadth': ground_truth_breadth,\n",
    "        'ground_truth_volume': ground_truth_volume\n",
    "    }\n",
    "    df = df.append(line_to_append, ignore_index=True)\n",
    "    "
   ]
  },
  {
   "cell_type": "code",
   "execution_count": null,
   "metadata": {},
   "outputs": [],
   "source": [
    "df"
   ]
  },
  {
   "cell_type": "code",
   "execution_count": null,
   "metadata": {},
   "outputs": [],
   "source": [
    "features = ['predicted_volume']\n",
    "target = 'ground_truth_volume'\n",
    "\n",
    "errors = []\n",
    "for i in range(100):\n",
    "    in_sample_mask = df.index.isin(df.sample(2000).index)\n",
    "    model = sm.QuantReg(df.ix[in_sample_mask, target], df.ix[in_sample_mask, features]).fit(q=0.5)\n",
    "\n",
    "    coefficient = model.params.predicted_volume\n",
    "    df['prediction'] = 1.3119 * df.predicted_volume\n",
    "    outlier_removal_mask = ((df.prediction / df.ground_truth_volume) > 0.5) & ((df.prediction / df.ground_truth_volume) < 2)\n",
    "    avg_prediction = df.ix[~in_sample_mask & outlier_removal_mask, 'prediction'].mean()\n",
    "    avg_ground_truth = df.ix[~in_sample_mask & outlier_removal_mask, 'ground_truth_volume'].mean()\n",
    "    error = abs(avg_prediction - avg_ground_truth) / avg_ground_truth\n",
    "    errors.append(100*error)\n",
    "    "
   ]
  },
  {
   "cell_type": "code",
   "execution_count": null,
   "metadata": {},
   "outputs": [],
   "source": [
    "plt.figure(figsize=(10, 5))\n",
    "plt.hist(errors)\n",
    "plt.xlabel('Percentage error of predicted average biomass vs. ground truth average biomass')\n",
    "plt.ylabel('Count')"
   ]
  },
  {
   "cell_type": "code",
   "execution_count": null,
   "metadata": {},
   "outputs": [],
   "source": []
  },
  {
   "cell_type": "code",
   "execution_count": null,
   "metadata": {},
   "outputs": [],
   "source": []
  },
  {
   "cell_type": "code",
   "execution_count": null,
   "metadata": {},
   "outputs": [],
   "source": []
  },
  {
   "cell_type": "code",
   "execution_count": null,
   "metadata": {},
   "outputs": [],
   "source": []
  },
  {
   "cell_type": "code",
   "execution_count": null,
   "metadata": {},
   "outputs": [],
   "source": []
  },
  {
   "cell_type": "code",
   "execution_count": null,
   "metadata": {},
   "outputs": [],
   "source": [
    "((df.ix[~in_sample_mask, 'ground_truth_volume'] - 1.2914*(df.ix[~in_sample_mask, 'predicted_volume']))/(1.2914*(df.ix[~in_sample_mask, 'predicted_volume']))).mean()"
   ]
  },
  {
   "cell_type": "code",
   "execution_count": null,
   "metadata": {},
   "outputs": [],
   "source": []
  },
  {
   "cell_type": "code",
   "execution_count": null,
   "metadata": {},
   "outputs": [],
   "source": []
  },
  {
   "cell_type": "code",
   "execution_count": null,
   "metadata": {},
   "outputs": [],
   "source": []
  },
  {
   "cell_type": "code",
   "execution_count": null,
   "metadata": {},
   "outputs": [],
   "source": []
  },
  {
   "cell_type": "code",
   "execution_count": null,
   "metadata": {},
   "outputs": [],
   "source": []
  },
  {
   "cell_type": "code",
   "execution_count": null,
   "metadata": {},
   "outputs": [],
   "source": []
  },
  {
   "cell_type": "code",
   "execution_count": null,
   "metadata": {},
   "outputs": [],
   "source": [
    "plt.figure(figsize=(15, 10))\n",
    "\n",
    "plt.scatter(df.predicted_volume, df.ground_truth_volume)\n",
    "plt.plot([range_min, range_max], [1.3029*range_min, 1.3029*range_max])\n",
    "plt.show()"
   ]
  },
  {
   "cell_type": "code",
   "execution_count": null,
   "metadata": {},
   "outputs": [],
   "source": []
  },
  {
   "cell_type": "code",
   "execution_count": null,
   "metadata": {},
   "outputs": [],
   "source": []
  },
  {
   "cell_type": "code",
   "execution_count": null,
   "metadata": {},
   "outputs": [],
   "source": []
  },
  {
   "cell_type": "code",
   "execution_count": null,
   "metadata": {},
   "outputs": [],
   "source": []
  },
  {
   "cell_type": "code",
   "execution_count": null,
   "metadata": {},
   "outputs": [],
   "source": []
  },
  {
   "cell_type": "code",
   "execution_count": null,
   "metadata": {},
   "outputs": [],
   "source": []
  },
  {
   "cell_type": "code",
   "execution_count": null,
   "metadata": {},
   "outputs": [],
   "source": []
  },
  {
   "cell_type": "code",
   "execution_count": null,
   "metadata": {},
   "outputs": [],
   "source": []
  },
  {
   "cell_type": "code",
   "execution_count": null,
   "metadata": {},
   "outputs": [],
   "source": []
  },
  {
   "cell_type": "code",
   "execution_count": null,
   "metadata": {},
   "outputs": [],
   "source": []
  },
  {
   "cell_type": "code",
   "execution_count": null,
   "metadata": {},
   "outputs": [],
   "source": []
  },
  {
   "cell_type": "code",
   "execution_count": null,
   "metadata": {},
   "outputs": [],
   "source": []
  },
  {
   "cell_type": "code",
   "execution_count": null,
   "metadata": {},
   "outputs": [],
   "source": []
  },
  {
   "cell_type": "code",
   "execution_count": null,
   "metadata": {},
   "outputs": [],
   "source": []
  },
  {
   "cell_type": "code",
   "execution_count": null,
   "metadata": {},
   "outputs": [],
   "source": []
  },
  {
   "cell_type": "code",
   "execution_count": null,
   "metadata": {},
   "outputs": [],
   "source": []
  },
  {
   "cell_type": "code",
   "execution_count": null,
   "metadata": {},
   "outputs": [],
   "source": []
  },
  {
   "cell_type": "code",
   "execution_count": null,
   "metadata": {},
   "outputs": [],
   "source": []
  },
  {
   "cell_type": "code",
   "execution_count": null,
   "metadata": {},
   "outputs": [],
   "source": []
  },
  {
   "cell_type": "code",
   "execution_count": null,
   "metadata": {},
   "outputs": [],
   "source": []
  },
  {
   "cell_type": "code",
   "execution_count": null,
   "metadata": {},
   "outputs": [],
   "source": []
  }
 ],
 "metadata": {
  "kernelspec": {
   "display_name": "Python 2",
   "language": "python",
   "name": "python2"
  },
  "language_info": {
   "codemirror_mode": {
    "name": "ipython",
    "version": 2
   },
   "file_extension": ".py",
   "mimetype": "text/x-python",
   "name": "python",
   "nbconvert_exporter": "python",
   "pygments_lexer": "ipython2",
   "version": "2.7.12"
  }
 },
 "nbformat": 4,
 "nbformat_minor": 2
}
