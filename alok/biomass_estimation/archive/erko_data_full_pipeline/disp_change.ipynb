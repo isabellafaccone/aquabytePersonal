{
 "cells": [
  {
   "cell_type": "code",
   "execution_count": null,
   "metadata": {},
   "outputs": [],
   "source": [
    "import numpy as np\n",
    "from utils import depth_from_disp, convert_to_world_point\n",
    "import matplotlib.pyplot as plt"
   ]
  },
  {
   "cell_type": "code",
   "execution_count": null,
   "metadata": {},
   "outputs": [],
   "source": [
    "# experiment"
   ]
  },
  {
   "cell_type": "code",
   "execution_count": null,
   "metadata": {},
   "outputs": [],
   "source": [
    "head_centroid_left = [0, 0]\n",
    "head_centroid_right = [200, 0]"
   ]
  },
  {
   "cell_type": "code",
   "execution_count": null,
   "metadata": {},
   "outputs": [],
   "source": [
    "# let's assume the fish is horizontal"
   ]
  },
  {
   "cell_type": "code",
   "execution_count": null,
   "metadata": {},
   "outputs": [],
   "source": [
    "caudal_centroid_left = [3000, 0]"
   ]
  },
  {
   "cell_type": "code",
   "execution_count": null,
   "metadata": {},
   "outputs": [],
   "source": [
    "distances = []\n",
    "shifts = []\n",
    "for shift in range(-100, 0, 10):\n",
    "\n",
    "    caudal_centroid_right = [3200+shift, 0]\n",
    "    \n",
    "    plt.scatter(head_centroid_left[0], head_centroid_left[1], marker=\"o\", c=\"b\")\n",
    "    plt.scatter(caudal_centroid_left[0], caudal_centroid_left[1], marker=\"x\", c=\"b\")\n",
    "    \n",
    "    plt.scatter(head_centroid_right[0], head_centroid_right[1], marker=\"o\", c=\"r\")\n",
    "    plt.scatter(caudal_centroid_right[0], caudal_centroid_right[1], marker=\"x\", c=\"r\")\n",
    "    plt.scatter(3200, 0, marker=\"x\", c=\"k\")\n",
    "    plt.show()\n",
    "    \n",
    "    head_disp = np.abs(head_centroid_left[0] - head_centroid_right[0])\n",
    "    caudal_disp = np.abs(caudal_centroid_left[0] - caudal_centroid_right[0])\n",
    "    \n",
    "    # disparities\n",
    "    hd = depth_from_disp(head_disp)\n",
    "    cd = depth_from_disp(caudal_disp)\n",
    "    \n",
    "    # world\n",
    "    head_world = convert_to_world_point(head_centroid_left[1], head_centroid_left[0], hd)\n",
    "    caudal_world = convert_to_world_point(caudal_centroid_left[1], caudal_centroid_left[0], cd)\n",
    "    \n",
    "    dist = np.linalg.norm(head_world - caudal_world)\n",
    "    print(head_world, caudal_world)\n",
    "    distances.append(dist)\n",
    "    shifts.append(shift)\n",
    "    if shift == 0:\n",
    "        true_distance = dist\n",
    "    print(shift, dist)"
   ]
  },
  {
   "cell_type": "code",
   "execution_count": null,
   "metadata": {},
   "outputs": [],
   "source": [
    "plt.plot(shifts, distances)\n",
    "plt.xlabel(\"caudal centroid y shift\")\n",
    "plt.ylabel(\"length\")\n",
    "plt.show()"
   ]
  },
  {
   "cell_type": "code",
   "execution_count": null,
   "metadata": {},
   "outputs": [],
   "source": [
    "rel_error = []\n",
    "for d in distances:\n",
    "    re = (d - true_distance) / true_distance  * 100\n",
    "    rel_error.append(re)"
   ]
  },
  {
   "cell_type": "code",
   "execution_count": null,
   "metadata": {},
   "outputs": [],
   "source": [
    "plt.plot(shifts, rel_error)\n",
    "plt.xlabel(\"shift\")\n",
    "plt.ylabel(\"relative error\")\n",
    "plt.show()"
   ]
  },
  {
   "cell_type": "code",
   "execution_count": null,
   "metadata": {},
   "outputs": [],
   "source": [
    "np.linalg.norm"
   ]
  },
  {
   "cell_type": "code",
   "execution_count": null,
   "metadata": {},
   "outputs": [],
   "source": []
  }
 ],
 "metadata": {
  "kernelspec": {
   "display_name": "Python 3",
   "language": "python",
   "name": "python3"
  },
  "language_info": {
   "codemirror_mode": {
    "name": "ipython",
    "version": 3
   },
   "file_extension": ".py",
   "mimetype": "text/x-python",
   "name": "python",
   "nbconvert_exporter": "python",
   "pygments_lexer": "ipython3",
   "version": "3.5.2"
  }
 },
 "nbformat": 4,
 "nbformat_minor": 2
}
