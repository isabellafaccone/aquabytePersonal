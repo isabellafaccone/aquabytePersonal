{
 "cells": [
  {
   "cell_type": "code",
   "execution_count": null,
   "metadata": {},
   "outputs": [],
   "source": [
    "import json\n",
    "import os\n",
    "\n",
    "import numpy as np\n",
    "\n",
    "import matplotlib.pyplot as plt\n",
    "import matplotlib.patches as patches\n",
    "from PIL import Image\n",
    "from pycocotools.coco import COCO"
   ]
  },
  {
   "cell_type": "code",
   "execution_count": null,
   "metadata": {},
   "outputs": [],
   "source": [
    "# load relevant file paths for left & right frames and bbox predictions\n",
    "\n",
    "data_directory_base = '/root/alok/data/'\n",
    "left_crops_directory = os.path.join(data_directory_base, 'left_crops')\n",
    "stereo_frame_pairs_directory = os.path.join(data_directory_base, 'stereo_frame_pairs')\n",
    "\n",
    "left_image_file_paths = []\n",
    "right_image_file_paths = []\n",
    "crop_file_paths = []\n",
    "for directory_name in os.listdir(left_crops_directory):\n",
    "    directory_path = os.path.join(left_crops_directory, directory_name)\n",
    "    left_image_file_path = os.path.join(directory_path, 'input', 'left_frame.jpg')\n",
    "    crop_file_path = os.path.join(directory_path, 'input', 'left_frame.jpg.segmentation.predictions.json')\n",
    "    right_image_file_path\n",
    "    left_image_file_paths.append(left_image_file_path)\n",
    "    crop_file_paths.append(crop_file_path)\n",
    "    "
   ]
  },
  {
   "cell_type": "code",
   "execution_count": null,
   "metadata": {},
   "outputs": [],
   "source": [
    "for left_image_file_path, crop_file_path in zip(left_image_file_paths, crop_file_paths)[1:2]:\n",
    "    \n",
    "    image = Image.open(left_image_file_path)\n",
    "    f, ax = plt.subplots(1, figsize=(20, 20))\n",
    "    ax.imshow(image)\n",
    "    im = Image.open(left_image_file_paths[0])\n",
    "    coco = COCO(crop_file_path)\n",
    "    annotation_ids = coco.getAnnIds(imgIds=image_data['id'], catIds=category_ids, iscrowd=None)\n",
    "#     category_ids = coco.getCatIds(catNms=['square'])\n",
    "#     image_ids = coco.getImgIds(catIds=category_ids)\n",
    "#     image_data = coco.loadImgs(image_ids[np.random.randint(0, len(image_ids))])[0]\n",
    "    annotations = coco.loadAnns(annotation_ids)\n",
    "    for ann in annotations:\n",
    "        bbox = ann['bbox']\n",
    "        rec = patches.Rectangle((bbox[1], bbox[0]), bbox[3]-bbox[1], bbox[2]-bbox[0], \n",
    "                                edgecolor='r', facecolor=None, fill=False, linestyle='--', linewidth=2)\n",
    "        ax.add_patch(rec)\n",
    "        # ax.text(bbox[0], bbox[1]-10, id2class[str(ann['category_id'])], fontsize=16)\n",
    "    plt.show()\n",
    "\n",
    "    \n",
    "    "
   ]
  },
  {
   "cell_type": "code",
   "execution_count": null,
   "metadata": {},
   "outputs": [],
   "source": []
  },
  {
   "cell_type": "code",
   "execution_count": null,
   "metadata": {},
   "outputs": [],
   "source": []
  },
  {
   "cell_type": "code",
   "execution_count": null,
   "metadata": {},
   "outputs": [],
   "source": []
  },
  {
   "cell_type": "code",
   "execution_count": null,
   "metadata": {},
   "outputs": [],
   "source": []
  },
  {
   "cell_type": "code",
   "execution_count": null,
   "metadata": {},
   "outputs": [],
   "source": []
  },
  {
   "cell_type": "code",
   "execution_count": null,
   "metadata": {},
   "outputs": [],
   "source": []
  },
  {
   "cell_type": "code",
   "execution_count": null,
   "metadata": {},
   "outputs": [],
   "source": []
  },
  {
   "cell_type": "code",
   "execution_count": null,
   "metadata": {},
   "outputs": [],
   "source": []
  },
  {
   "cell_type": "code",
   "execution_count": null,
   "metadata": {},
   "outputs": [],
   "source": []
  },
  {
   "cell_type": "code",
   "execution_count": null,
   "metadata": {},
   "outputs": [],
   "source": []
  },
  {
   "cell_type": "code",
   "execution_count": null,
   "metadata": {},
   "outputs": [],
   "source": []
  },
  {
   "cell_type": "code",
   "execution_count": null,
   "metadata": {},
   "outputs": [],
   "source": []
  },
  {
   "cell_type": "code",
   "execution_count": null,
   "metadata": {},
   "outputs": [],
   "source": []
  },
  {
   "cell_type": "code",
   "execution_count": null,
   "metadata": {},
   "outputs": [],
   "source": []
  },
  {
   "cell_type": "code",
   "execution_count": null,
   "metadata": {},
   "outputs": [],
   "source": []
  },
  {
   "cell_type": "code",
   "execution_count": null,
   "metadata": {},
   "outputs": [],
   "source": []
  },
  {
   "cell_type": "code",
   "execution_count": null,
   "metadata": {},
   "outputs": [],
   "source": []
  },
  {
   "cell_type": "code",
   "execution_count": null,
   "metadata": {},
   "outputs": [],
   "source": []
  },
  {
   "cell_type": "code",
   "execution_count": null,
   "metadata": {},
   "outputs": [],
   "source": []
  },
  {
   "cell_type": "code",
   "execution_count": null,
   "metadata": {},
   "outputs": [],
   "source": []
  },
  {
   "cell_type": "code",
   "execution_count": null,
   "metadata": {},
   "outputs": [],
   "source": []
  },
  {
   "cell_type": "markdown",
   "metadata": {},
   "source": []
  }
 ],
 "metadata": {
  "kernelspec": {
   "display_name": "Python 2",
   "language": "python",
   "name": "python2"
  },
  "language_info": {
   "codemirror_mode": {
    "name": "ipython",
    "version": 2
   },
   "file_extension": ".py",
   "mimetype": "text/x-python",
   "name": "python",
   "nbconvert_exporter": "python",
   "pygments_lexer": "ipython2",
   "version": "2.7.12"
  }
 },
 "nbformat": 4,
 "nbformat_minor": 2
}
