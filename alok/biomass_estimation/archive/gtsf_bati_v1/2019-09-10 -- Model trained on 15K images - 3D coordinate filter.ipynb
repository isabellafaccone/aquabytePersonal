{
 "cells": [
  {
   "cell_type": "code",
   "execution_count": null,
   "metadata": {},
   "outputs": [],
   "source": [
    "import json, os\n",
    "import pandas as pd\n",
    "from matplotlib import pyplot as plt\n",
    "from collections import defaultdict\n",
    "import numpy as np\n",
    "from itertools import combinations\n",
    "from sklearn.linear_model import LinearRegression, RANSACRegressor\n",
    "from sklearn.decomposition import PCA\n",
    "from wpca import WPCA\n",
    "from sklearn.preprocessing import StandardScaler\n",
    "from aquabyte.accuracy_metrics import AccuracyMetricsGenerator\n",
    "from aquabyte.data_access_utils import S3AccessUtils, RDSAccessUtils\n",
    "from aquabyte.optics import euclidean_distance, pixel2world\n",
    "from aquabyte.visualize import Visualizer, _normalize_world_keypoints\n",
    "import random\n",
    "import pickle\n",
    "from scipy.stats import norm\n",
    "\n",
    "pd.set_option('display.max_rows', 500)"
   ]
  },
  {
   "cell_type": "code",
   "execution_count": null,
   "metadata": {},
   "outputs": [],
   "source": []
  },
  {
   "cell_type": "markdown",
   "metadata": {},
   "source": [
    "<h1> Extract base data from database </h1>"
   ]
  },
  {
   "cell_type": "code",
   "execution_count": null,
   "metadata": {},
   "outputs": [],
   "source": [
    "rds_access_utils = RDSAccessUtils(json.load(open(os.environ['PROD_RESEARCH_SQL_CREDENTIALS'])))\n",
    "query = \"\"\"\n",
    "    select * from research.fish_metadata a left join keypoint_annotations b\n",
    "    on a.left_url = b.left_image_url \n",
    "    where b.keypoints is not null and b.is_qa = false;\n",
    "\"\"\"\n",
    "df = rds_access_utils.extract_from_database(query)"
   ]
  },
  {
   "cell_type": "markdown",
   "metadata": {},
   "source": [
    "<h1> Append world kepyoints to the data </h1>\n",
    "<h3> Ideally, this data should already live directly in the database </h3>"
   ]
  },
  {
   "cell_type": "code",
   "execution_count": null,
   "metadata": {},
   "outputs": [],
   "source": [
    "def get_world_keypoints(row):\n",
    "    if 'leftCrop' in row.keypoints and 'rightCrop' in row.keypoints:\n",
    "        return pixel2world(row.keypoints['leftCrop'], row.keypoints['rightCrop'], row.camera_metadata)\n",
    "    else:\n",
    "        return None\n",
    "    \n",
    "df['world_keypoints'] = df.apply(\n",
    "    lambda x: get_world_keypoints(x), axis=1\n",
    ")"
   ]
  },
  {
   "cell_type": "markdown",
   "metadata": {},
   "source": [
    "<h1> Get the features dataframe from the base data with all pairwise distances </h1>"
   ]
  },
  {
   "cell_type": "code",
   "execution_count": null,
   "metadata": {},
   "outputs": [],
   "source": [
    "features_data = defaultdict(list)\n",
    "\n",
    "body_parts = sorted([\n",
    "    'TAIL_NOTCH',\n",
    "    'ADIPOSE_FIN',\n",
    "    'ANAL_FIN',\n",
    "    'PECTORAL_FIN',\n",
    "    'PELVIC_FIN',\n",
    "    'DORSAL_FIN',\n",
    "    'UPPER_LIP',\n",
    "    'EYE',\n",
    "    'UPPER_PRECAUDAL_PIT', \n",
    "    'LOWER_PRECAUDAL_PIT',\n",
    "    'HYPURAL_PLATE'\n",
    "])\n",
    "\n",
    "for idx, row in df.iterrows():\n",
    "    world_keypoints = row.world_keypoints\n",
    "    if world_keypoints:\n",
    "        for i in range(len(body_parts)-1):\n",
    "            for j in range(i+1, len(body_parts)):\n",
    "                d = euclidean_distance(world_keypoints[body_parts[i]], \n",
    "                                       world_keypoints[body_parts[j]])\n",
    "                features_data['{0}-{1}'.format(i, j)].append(d)\n",
    "\n",
    "        features_data['world_keypoints'].append(row.world_keypoints)\n",
    "        features_data['weight'].append(row.weight)\n",
    "        features_data['captured_at'].append(row.captured_at)\n",
    "        features_data['gtsf_fish_identifier'].append(row.fish_id)\n",
    "        features_data['pen_id'].append(row.pen_id)\n",
    "        features_data['keypoint_annotation_id'].append(row.id)\n",
    "        features_data['kf'].append(1e5 * row.weight / row['data']['lengthMms']**3) \n",
    "        features_data['length'].append(row['data']['lengthMms'] * 1e-3)\n",
    "        features_data['width'].append(row['data']['widthMms'] * 1e-3 if 'widthMms' in row['data'] else None)\n",
    "        features_data['breadth'].append(row['data']['breadthMms'] * 1e-3 if 'breadhMms' in row['data'] else None)\n",
    "\n",
    "features_df = pd.DataFrame(features_data)\n",
    "\n",
    "# get rid of bad keypoint annotation ids\n",
    "\n",
    "blacklisted_keypoint_annotation_ids = [\n",
    "    606484, \n",
    "    635806, \n",
    "    637801, \n",
    "    508773, \n",
    "    640493, \n",
    "    639409, \n",
    "    648536, \n",
    "    507003,\n",
    "    706002,\n",
    "    507000,\n",
    "    709298,\n",
    "    714073,\n",
    "    719239\n",
    "]\n",
    "\n",
    "blacklist_mask = features_df['8-9'] > 1.0\n",
    "for kp_id in blacklisted_keypoint_annotation_ids:\n",
    "    if blacklist_mask is None:\n",
    "        blacklist_mask = features_df.keypoint_annotation_id == kp_id\n",
    "    else:\n",
    "        blacklist_mask = blacklist_mask | (features_df.keypoint_annotation_id == kp_id)\n",
    "features_df = features_df[~blacklist_mask]\n",
    "\n"
   ]
  },
  {
   "cell_type": "code",
   "execution_count": null,
   "metadata": {},
   "outputs": [],
   "source": [
    "# define all features\n",
    "\n",
    "body_parts_subset = sorted([\n",
    "    'HYPURAL_PLATE',\n",
    "    'ADIPOSE_FIN',\n",
    "    'ANAL_FIN',\n",
    "    'PECTORAL_FIN',\n",
    "    'PELVIC_FIN',\n",
    "    'DORSAL_FIN',\n",
    "    'UPPER_LIP',\n",
    "    'EYE'\n",
    "])\n",
    "\n",
    "body_part_indices = [body_parts.index(bp) for bp in body_parts_subset]\n",
    "\n",
    "pairwise_distance_columns = ['{0}-{1}'.format(x, y) for x, y in list(combinations(body_part_indices, 2))]\n",
    "interaction_columns_quadratic = []\n",
    "interaction_columns_cubic = []\n",
    "for i in range(len(pairwise_distance_columns)):\n",
    "    for j in range(i, len(pairwise_distance_columns)):\n",
    "        col1 = pairwise_distance_columns[i]\n",
    "        col2 = pairwise_distance_columns[j]\n",
    "        interaction_column = '{},{}'.format(col1, col2)\n",
    "        features_df[interaction_column] = features_df[col1] * features_df[col2]\n",
    "        interaction_columns_quadratic.append(interaction_column)\n",
    "        \n",
    "for i in range(len(pairwise_distance_columns)):\n",
    "    for j in range(i, len(pairwise_distance_columns)):\n",
    "        for k in range(j, len(pairwise_distance_columns)):\n",
    "            col1 = pairwise_distance_columns[i]\n",
    "            col2 = pairwise_distance_columns[j]\n",
    "            col3 = pairwise_distance_columns[k]\n",
    "            interaction_column = '{},{},{}'.format(col1, col2, col3)\n",
    "            features_df[interaction_column] = features_df[col1] * features_df[col2] * features_df[col3]\n",
    "            interaction_columns_cubic.append(interaction_column)\n",
    "            "
   ]
  },
  {
   "cell_type": "code",
   "execution_count": null,
   "metadata": {},
   "outputs": [],
   "source": []
  },
  {
   "cell_type": "code",
   "execution_count": null,
   "metadata": {},
   "outputs": [],
   "source": []
  },
  {
   "cell_type": "code",
   "execution_count": null,
   "metadata": {},
   "outputs": [],
   "source": []
  },
  {
   "cell_type": "code",
   "execution_count": null,
   "metadata": {},
   "outputs": [],
   "source": []
  },
  {
   "cell_type": "markdown",
   "metadata": {},
   "source": [
    "<h1> Weight each datapoint based on the number of stereo images captured for that fish </h1>"
   ]
  },
  {
   "cell_type": "code",
   "execution_count": null,
   "metadata": {},
   "outputs": [],
   "source": [
    "weights = []\n",
    "i = 0\n",
    "for idx, row in features_df.iterrows():\n",
    "    if i % 100 == 0:\n",
    "        print(i)\n",
    "    i += 1\n",
    "    count = features_df[features_df.gtsf_fish_identifier == row.gtsf_fish_identifier].shape[0]\n",
    "    if count > 1:\n",
    "        weights.append(1.0 / count ** 0.5)\n",
    "#         weights.append(1.0 / count)\n",
    "    else:\n",
    "        weights.append(1)\n",
    "        \n",
    "features_df['w'] = weights"
   ]
  },
  {
   "cell_type": "code",
   "execution_count": null,
   "metadata": {},
   "outputs": [],
   "source": []
  },
  {
   "cell_type": "markdown",
   "metadata": {},
   "source": [
    "<h1> Compute best fit plane </h1>"
   ]
  },
  {
   "cell_type": "code",
   "execution_count": null,
   "metadata": {},
   "outputs": [],
   "source": [
    "i = 0\n",
    "features_df['score'] = np.nan\n",
    "features_df['rms_error_m'] = np.nan\n",
    "\n",
    "scores, rms_error_ms = [], []\n",
    "for idx, row in features_df.iterrows():\n",
    "    try:\n",
    "        X, y = [], []\n",
    "        norm_wkps = _normalize_world_keypoints(row.world_keypoints)\n",
    "        for norm_wkp in norm_wkps.values():\n",
    "#             X.append([\n",
    "#                 norm_wkp[0]**2,\n",
    "#                 norm_wkp[2]**2,\n",
    "#                 norm_wkp[0]*norm_wkp[2],\n",
    "#                 norm_wkp[0],\n",
    "#                 norm_wkp[2]\n",
    "#             ])\n",
    "            X.append([\n",
    "                norm_wkp[0],\n",
    "                norm_wkp[2]\n",
    "            ])\n",
    "            y.append(norm_wkp[1])\n",
    "\n",
    "        X, y = np.array(X), np.array(y)\n",
    "        reg = LinearRegression().fit(X, y)\n",
    "        score = reg.score(X, y)\n",
    "        rms_error_m = np.linalg.norm(reg.predict(X) - y)\n",
    "        scores.append(score)\n",
    "        rms_error_ms.append(rms_error_m)\n",
    "    except Exception as e:\n",
    "        print(e)\n",
    "        scores.append(None)\n",
    "        rms_error_ms.append(None)\n",
    "\n",
    "features_df['score'] = scores\n",
    "features_df['rms_error_m'] = rms_error_ms\n",
    "        "
   ]
  },
  {
   "cell_type": "code",
   "execution_count": null,
   "metadata": {},
   "outputs": [],
   "source": []
  },
  {
   "cell_type": "code",
   "execution_count": null,
   "metadata": {},
   "outputs": [],
   "source": []
  },
  {
   "cell_type": "code",
   "execution_count": null,
   "metadata": {},
   "outputs": [],
   "source": []
  },
  {
   "cell_type": "markdown",
   "metadata": {},
   "source": [
    "<h1> Model Training </h1>"
   ]
  },
  {
   "cell_type": "code",
   "execution_count": null,
   "metadata": {},
   "outputs": [],
   "source": []
  },
  {
   "cell_type": "code",
   "execution_count": null,
   "metadata": {},
   "outputs": [],
   "source": [
    "def generate_train_mask(df, train_frac, randomize=True):\n",
    "    x = np.zeros((df.shape[0]), dtype=bool)\n",
    "    x[:int(train_frac * df.shape[0])] = True\n",
    "    np.random.shuffle(x)\n",
    "    mask = pd.Series(x)\n",
    "    return x\n",
    "    \n",
    "\n",
    "def generate_oos_score(features_df, mask, train_size, num_eigenvectors):\n",
    "    np.random.seed(0)\n",
    "    columns = pairwise_distance_columns + interaction_columns_quadratic + interaction_columns_cubic\n",
    "\n",
    "    X_train = features_df.loc[mask, columns].values\n",
    "    y_train = features_df.loc[mask, 'weight'].values\n",
    "    w_train = features_df.loc[mask, 'w'].values\n",
    "    X_test = features_df.loc[~mask, columns].values\n",
    "    y_test = features_df.loc[~mask, 'weight'].values\n",
    "\n",
    "    scaler = StandardScaler()\n",
    "    scaler.fit(X_train)\n",
    "    X_train_normalized = scaler.transform(X_train)\n",
    "\n",
    "    pca = PCA(n_components=min(X_train_normalized.shape[0], X_train_normalized.shape[1]))\n",
    "    pca.fit(X_train_normalized)\n",
    "    explained_variance_ratio = pca.explained_variance_ratio_.cumsum()\n",
    "    idx = num_eigenvectors\n",
    "\n",
    "    pca = PCA(n_components=idx+1)\n",
    "    pca.fit(X_train_normalized)\n",
    "    X_train_transformed = pca.transform(X_train_normalized)\n",
    "    X_test_normalized = scaler.transform(X_test)\n",
    "    X_test_transformed = pca.transform(X_test_normalized)\n",
    "\n",
    "    reg = LinearRegression().fit(X_train_transformed, y_train, sample_weight=w_train)\n",
    "    score = reg.score(X_test_transformed, y_test)\n",
    "\n",
    "    y_pred = reg.predict(pca.transform(scaler.transform(features_df[columns].values)))\n",
    "    features_df['prediction'] = y_pred\n",
    "    features_df['error'] = features_df.prediction - features_df.weight\n",
    "    features_df['error_pct'] = features_df.error / features_df.weight\n",
    "    features_df['abs_error_pct'] = features_df.error_pct.abs()\n",
    "\n",
    "    model = {\n",
    "    'mean': scaler.mean_,\n",
    "    'std': scaler.scale_,\n",
    "    'PCA_components': pca.components_,\n",
    "    'reg_coef': reg.coef_,\n",
    "    'reg_intercept': reg.intercept_,\n",
    "    'body_parts': body_parts_subset   \n",
    "    }\n",
    "    \n",
    "\n",
    "    return mask, model, score\n",
    "\n"
   ]
  },
  {
   "cell_type": "code",
   "execution_count": null,
   "metadata": {},
   "outputs": [],
   "source": []
  },
  {
   "cell_type": "markdown",
   "metadata": {},
   "source": [
    "<h1> Plot one instance of train / test where the training set consists of 2000 fish </h1>"
   ]
  },
  {
   "cell_type": "code",
   "execution_count": null,
   "metadata": {},
   "outputs": [],
   "source": []
  },
  {
   "cell_type": "code",
   "execution_count": null,
   "metadata": {},
   "outputs": [],
   "source": [
    "# num eigenvectors = 20\n",
    "\n",
    "train_size = 2000\n",
    "gtsf_fish_identifiers = list(features_df.gtsf_fish_identifier.unique())\n",
    "fish_ids = random.sample(gtsf_fish_identifiers, train_size)\n",
    "mask = features_df.gtsf_fish_identifier.isin(fish_ids)\n",
    "mask, model, score = generate_oos_score(features_df, mask, 2000, 20)"
   ]
  },
  {
   "cell_type": "code",
   "execution_count": null,
   "metadata": {},
   "outputs": [],
   "source": [
    "amg = AccuracyMetricsGenerator()\n",
    "amg.set_data(mask, features_df.prediction.values, features_df.weight.values)\n",
    "amg.plot_predictions_vs_ground_truth(impose_bounds=True)"
   ]
  },
  {
   "cell_type": "code",
   "execution_count": null,
   "metadata": {},
   "outputs": [],
   "source": [
    "amg.display_train_test_accuracy_metrics()"
   ]
  },
  {
   "cell_type": "code",
   "execution_count": null,
   "metadata": {},
   "outputs": [],
   "source": [
    "# num eigenvectors = 20\n",
    "\n",
    "train_size = 2000\n",
    "gtsf_fish_identifiers = list(features_df.gtsf_fish_identifier.unique())\n",
    "fish_ids = random.sample(gtsf_fish_identifiers, train_size)\n",
    "mask = features_df.gtsf_fish_identifier.isin(fish_ids) & (features_df.rms_error_m < 0.05)\n",
    "mask, model, score = generate_oos_score(features_df, mask, 2000, 20)"
   ]
  },
  {
   "cell_type": "code",
   "execution_count": null,
   "metadata": {},
   "outputs": [],
   "source": [
    "amg = AccuracyMetricsGenerator()\n",
    "amg.set_data(mask, features_df.prediction.values, features_df.weight.values)\n",
    "amg.plot_predictions_vs_ground_truth(impose_bounds=True)"
   ]
  },
  {
   "cell_type": "code",
   "execution_count": null,
   "metadata": {},
   "outputs": [],
   "source": [
    "amg.display_train_test_accuracy_metrics()"
   ]
  },
  {
   "cell_type": "code",
   "execution_count": null,
   "metadata": {},
   "outputs": [],
   "source": []
  },
  {
   "cell_type": "code",
   "execution_count": null,
   "metadata": {},
   "outputs": [],
   "source": [
    "%matplotlib inline\n",
    "plt.figure(figsize=(20, 10))\n",
    "m = features_df.rms_error_m < 0.05\n",
    "plt.scatter(features_df[~m].weight, features_df[~m].prediction, color='red', alpha=0.5)\n",
    "plt.scatter(features_df[m].weight, features_df[m].prediction, color='blue', alpha=0.5)\n",
    "\n",
    "plt.xlim([0, 10000])\n",
    "plt.ylim([0, 10000])\n",
    "plt.grid()\n",
    "plt.show()"
   ]
  },
  {
   "cell_type": "code",
   "execution_count": null,
   "metadata": {},
   "outputs": [],
   "source": []
  },
  {
   "cell_type": "code",
   "execution_count": null,
   "metadata": {},
   "outputs": [],
   "source": [
    "print(((features_df[m].weight - features_df[m].prediction)).abs().quantile(0.9))\n",
    "print(((features_df[~m].weight - features_df[~m].prediction)).abs().quantile(0.9))\n",
    "\n",
    "\n",
    "\n"
   ]
  },
  {
   "cell_type": "code",
   "execution_count": null,
   "metadata": {},
   "outputs": [],
   "source": [
    "print(((features_df[m].weight - features_df[m].prediction)).abs().mean())\n",
    "print(((features_df[~m].weight - features_df[~m].prediction)).abs().mean())\n",
    "\n",
    "\n",
    "\n"
   ]
  },
  {
   "cell_type": "code",
   "execution_count": null,
   "metadata": {},
   "outputs": [],
   "source": []
  },
  {
   "cell_type": "markdown",
   "metadata": {},
   "source": [
    "<h1> Determine MSE in meters for keypoint -> best fit quadratic surface </h1>"
   ]
  },
  {
   "cell_type": "code",
   "execution_count": null,
   "metadata": {},
   "outputs": [],
   "source": []
  },
  {
   "cell_type": "code",
   "execution_count": null,
   "metadata": {},
   "outputs": [],
   "source": [
    "i = 0\n",
    "features_df['score'] = np.nan\n",
    "features_df['rms_error_m'] = np.nan\n",
    "\n",
    "scores, rms_error_ms = [], []\n",
    "for idx, row in features_df.iterrows():\n",
    "    try:\n",
    "        X, y = [], []\n",
    "        norm_wkps = _normalize_world_keypoints(row.world_keypoints)\n",
    "        for norm_wkp in norm_wkps.values():\n",
    "#             X.append([\n",
    "#                 norm_wkp[0]**2,\n",
    "#                 norm_wkp[2]**2,\n",
    "#                 norm_wkp[0]*norm_wkp[2],\n",
    "#                 norm_wkp[0],\n",
    "#                 norm_wkp[2]\n",
    "#             ])\n",
    "            X.append([\n",
    "                norm_wkp[0],\n",
    "                norm_wkp[2]\n",
    "            ])\n",
    "            y.append(norm_wkp[1])\n",
    "\n",
    "        X, y = np.array(X), np.array(y)\n",
    "        reg = LinearRegression().fit(X, y)\n",
    "        score = reg.score(X, y)\n",
    "        rms_error_m = np.linalg.norm(reg.predict(X) - y)\n",
    "        scores.append(score)\n",
    "        rms_error_ms.append(rms_error_m)\n",
    "    except Exception as e:\n",
    "        print(e)\n",
    "        scores.append(None)\n",
    "        rms_error_ms.append(None)\n",
    "\n",
    "features_df['score'] = scores\n",
    "features_df['rms_error_m'] = rms_error_ms\n",
    "        "
   ]
  },
  {
   "cell_type": "code",
   "execution_count": null,
   "metadata": {},
   "outputs": [],
   "source": []
  },
  {
   "cell_type": "code",
   "execution_count": null,
   "metadata": {},
   "outputs": [],
   "source": [
    "plt.figure(figsize=(20, 10))\n",
    "plt.hist(analysis_df.rms_error_m, bins=20)\n",
    "plt.grid()\n",
    "plt.show()"
   ]
  },
  {
   "cell_type": "code",
   "execution_count": null,
   "metadata": {},
   "outputs": [],
   "source": [
    "plt.figure(figsize=(20, 10))\n",
    "plt.scatter(analysis_df[analysis_df.weight > 1000].rms_error_m, analysis_df[analysis_df.weight > 1000].abs_error_pct)\n",
    "plt.grid()\n",
    "plt.show()"
   ]
  },
  {
   "cell_type": "code",
   "execution_count": null,
   "metadata": {},
   "outputs": [],
   "source": [
    "analysis_df[(analysis_df.score > 0.) & (analysis_df.score < 0.2)].abs_error_pct.median()"
   ]
  },
  {
   "cell_type": "code",
   "execution_count": null,
   "metadata": {},
   "outputs": [],
   "source": []
  },
  {
   "cell_type": "code",
   "execution_count": null,
   "metadata": {},
   "outputs": [],
   "source": [
    "analysis_df[analysis_df.rms_error_m > 0.4]"
   ]
  },
  {
   "cell_type": "code",
   "execution_count": null,
   "metadata": {},
   "outputs": [],
   "source": []
  },
  {
   "cell_type": "code",
   "execution_count": null,
   "metadata": {},
   "outputs": [],
   "source": []
  },
  {
   "cell_type": "code",
   "execution_count": null,
   "metadata": {},
   "outputs": [],
   "source": []
  },
  {
   "cell_type": "code",
   "execution_count": null,
   "metadata": {},
   "outputs": [],
   "source": []
  },
  {
   "cell_type": "code",
   "execution_count": null,
   "metadata": {},
   "outputs": [],
   "source": []
  },
  {
   "cell_type": "code",
   "execution_count": null,
   "metadata": {},
   "outputs": [],
   "source": []
  },
  {
   "cell_type": "markdown",
   "metadata": {},
   "source": [
    "<h1> Visualize Bad Cases </h1>"
   ]
  },
  {
   "cell_type": "code",
   "execution_count": null,
   "metadata": {},
   "outputs": [],
   "source": [
    "s3_access_utils = S3AccessUtils('/root/data')\n",
    "credentials = json.load(open(os.environ['PROD_RESEARCH_SQL_CREDENTIALS']))\n",
    "rds_access_utils = RDSAccessUtils(credentials)\n",
    "v = Visualizer(s3_access_utils, rds_access_utils)\n"
   ]
  },
  {
   "cell_type": "code",
   "execution_count": null,
   "metadata": {},
   "outputs": [],
   "source": [
    "%matplotlib inline\n",
    "v.load_data(715147)\n",
    "v.display_crops()"
   ]
  },
  {
   "cell_type": "code",
   "execution_count": null,
   "metadata": {},
   "outputs": [],
   "source": [
    "%matplotlib notebook\n",
    "v.display_3d_keypoints()"
   ]
  },
  {
   "cell_type": "code",
   "execution_count": null,
   "metadata": {},
   "outputs": [],
   "source": []
  },
  {
   "cell_type": "code",
   "execution_count": null,
   "metadata": {},
   "outputs": [],
   "source": []
  },
  {
   "cell_type": "code",
   "execution_count": null,
   "metadata": {},
   "outputs": [],
   "source": []
  },
  {
   "cell_type": "code",
   "execution_count": null,
   "metadata": {},
   "outputs": [],
   "source": []
  }
 ],
 "metadata": {
  "kernelspec": {
   "display_name": "Python 3",
   "language": "python",
   "name": "python3"
  },
  "language_info": {
   "codemirror_mode": {
    "name": "ipython",
    "version": 3
   },
   "file_extension": ".py",
   "mimetype": "text/x-python",
   "name": "python",
   "nbconvert_exporter": "python",
   "pygments_lexer": "ipython3",
   "version": "3.5.2"
  }
 },
 "nbformat": 4,
 "nbformat_minor": 2
}
