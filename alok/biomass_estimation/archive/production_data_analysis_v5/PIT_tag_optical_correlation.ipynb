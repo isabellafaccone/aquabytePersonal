{
 "cells": [
  {
   "cell_type": "code",
   "execution_count": null,
   "metadata": {},
   "outputs": [],
   "source": [
    "import json, os\n",
    "import cv2\n",
    "import torch\n",
    "from multiprocessing import Pool, Manager\n",
    "from aquabyte.data_access_utils import S3AccessUtils, RDSAccessUtils\n",
    "from aquabyte.akpd import AKPD\n",
    "from aquabyte.template_matching import find_matches_and_homography\n",
    "from aquabyte.biomass_estimator import NormalizeCentered2D, NormalizedStabilityTransform, ToTensor, Network\n",
    "from aquabyte.data_loader import KeypointsDataset, NormalizeCentered2D, ToTensor, BODY_PARTS\n",
    "from torch.utils.data import Dataset, DataLoader\n",
    "from aquabyte.optics import euclidean_distance, pixel2world, depth_from_disp, convert_to_world_point\n",
    "\n",
    "from aquabyte.akpd_scorer import generate_confidence_score\n",
    "from keras.models import load_model\n",
    "import boto3\n",
    "import pandas as pd\n",
    "import numpy as np\n",
    "import plotly.express as px\n",
    "import time\n",
    "from matplotlib import pyplot as plt\n",
    "from PIL import Image\n",
    "\n",
    "from collections import defaultdict\n",
    "import datetime as dt\n",
    "import json\n",
    "import numpy as np\n",
    "from sklearn.linear_model import LinearRegression\n",
    "from collections import defaultdict\n",
    "from matplotlib.ticker import PercentFormatter\n",
    "\n",
    "\n"
   ]
  },
  {
   "cell_type": "code",
   "execution_count": null,
   "metadata": {},
   "outputs": [],
   "source": []
  },
  {
   "cell_type": "markdown",
   "metadata": {},
   "source": [
    "<h1> Load Optical Data </h1>"
   ]
  },
  {
   "cell_type": "code",
   "execution_count": null,
   "metadata": {},
   "outputs": [],
   "source": [
    "s3_access_utils = S3AccessUtils('/root/data')\n",
    "rds_access_utils = RDSAccessUtils(json.load(open(os.environ['DATA_WAREHOUSE_SQL_CREDENTIALS'])))\n",
    "\n",
    "df = pd.concat([\n",
    "    pd.read_csv('/root/data/alok/biomass_estimation/playground/pen=61/data_dump_1.csv'),\n",
    "    pd.read_csv('/root/data/alok/biomass_estimation/playground/pen=61/biomass.csv-61-06-from-2019-10-25-to-2019-11-01.csv'),\n",
    "    pd.read_csv('/root/data/alok/biomass_estimation/playground/pen=61/biomass.csv-61-07-from-2019-11-01-to-2019-11-08.csv'),\n",
    "    pd.read_csv('/root/data/alok/biomass_estimation/playground/pen=61/biomass.csv-61-08-from-2019-11-08-to-2019-11-15.csv'),\n",
    "    pd.read_csv('/root/data/alok/biomass_estimation/playground/pen=61/biomass.csv-61-09-from-2019-11-15-to-2019-11-22.csv'),\n",
    "    pd.read_csv('/root/data/alok/biomass_estimation/playground/pen=61/biomass.csv-61-10-from-2019-11-22-to-2019-11-29.csv'),\n",
    "    pd.read_csv('/root/data/alok/biomass_estimation/playground/pen=61/biomass.csv-61-11-from-2019-11-29-to-2019-12-06.csv'),\n",
    "    pd.read_csv('/root/data/alok/biomass_estimation/playground/pen=61/biomass.csv-61-12-from-2019-12-06-to-2019-12-13.csv'),\n",
    "    pd.read_csv('/root/data/alok/biomass_estimation/playground/pen=61/biomass.csv-61-13-from-2019-12-13-to-2019-12-20.csv'),\n",
    "    pd.read_csv('/root/data/alok/biomass_estimation/playground/pen=61/biomass.csv-61-14-from-2019-12-20-to-2019-12-27.csv')\n",
    "])    \n",
    "\n"
   ]
  },
  {
   "cell_type": "code",
   "execution_count": null,
   "metadata": {},
   "outputs": [],
   "source": []
  },
  {
   "cell_type": "code",
   "execution_count": null,
   "metadata": {},
   "outputs": [],
   "source": [
    "df = pd.read_csv('/root/data/alok/biomass_estimation/playground/imr_data_kf.csv')"
   ]
  },
  {
   "cell_type": "code",
   "execution_count": null,
   "metadata": {},
   "outputs": [],
   "source": [
    "cols = ['captured_at', 'captured_at_bergen_tz', 'left_crop_url', 'right_crop_url', 'estimated_weight_g', 'estimated_k_factor']\n",
    "df[cols].to_csv('/root/data/alok/biomass_estimation/playground/imr_modified_data.csv')"
   ]
  },
  {
   "cell_type": "code",
   "execution_count": null,
   "metadata": {},
   "outputs": [],
   "source": [
    "# df.index = pd.to_datetime(df.captured_at)\n",
    "df.index.tz_convert('Europe/Oslo')"
   ]
  },
  {
   "cell_type": "code",
   "execution_count": null,
   "metadata": {},
   "outputs": [],
   "source": [
    "df['captured_at_bergen_tz'] = df.index.tz_convert('Europe/Oslo')"
   ]
  },
  {
   "cell_type": "code",
   "execution_count": null,
   "metadata": {},
   "outputs": [],
   "source": [
    "df.index = pd.to_datetime(df.captured_at)"
   ]
  },
  {
   "cell_type": "code",
   "execution_count": null,
   "metadata": {},
   "outputs": [],
   "source": [
    "f = '/root/data/alok/biomass_estimation/playground/imr_modified_data.csv'\n",
    "s3_access_utils.s3_client.upload_file(f, 'aquabyte-images-adhoc-public', 'imr_modified_data.csv')"
   ]
  },
  {
   "cell_type": "code",
   "execution_count": null,
   "metadata": {},
   "outputs": [],
   "source": []
  },
  {
   "cell_type": "code",
   "execution_count": null,
   "metadata": {},
   "outputs": [],
   "source": []
  },
  {
   "cell_type": "code",
   "execution_count": null,
   "metadata": {},
   "outputs": [],
   "source": [
    "df.index = pd.to_datetime(df.captured_at)\n",
    "df['epoch_ms'] = (df.index.astype(int) / (10**6)).values.astype(int)\n",
    "df = df.sort_values('epoch_ms', ascending=True).copy(deep=True)"
   ]
  },
  {
   "cell_type": "markdown",
   "metadata": {},
   "source": [
    "<h1> Load Antenna Registration Data </h1>"
   ]
  },
  {
   "cell_type": "code",
   "execution_count": null,
   "metadata": {},
   "outputs": [],
   "source": [
    "rdf = pd.read_csv('/root/data/alok/biomass_estimation/playground/measure_station_oct_10_2019.csv')\n",
    "rdf.index = pd.to_datetime(rdf.Read)\n",
    "rdf.index = rdf.index.tz_localize('Europe/Oslo').tz_convert('UTC')\n",
    "rdf['epoch_ms'] = (rdf.index.astype(int) / (10**6)).values.astype(int)\n",
    "rdf = rdf.sort_values('epoch_ms', ascending=True).copy(deep=True)\n",
    "rdf = rdf[rdf.Ant == '1 a4'].copy(deep=True)"
   ]
  },
  {
   "cell_type": "code",
   "execution_count": null,
   "metadata": {},
   "outputs": [],
   "source": []
  },
  {
   "cell_type": "code",
   "execution_count": null,
   "metadata": {},
   "outputs": [],
   "source": [
    "# get optical lone_epochs\n",
    "date = '2019-10-04'\n",
    "epochs = df[date].epoch_ms.values\n",
    "buffer = 3e3\n",
    "optical_lone_epochs = []\n",
    "for idx in range(1, len(epochs)-1):\n",
    "    if (epochs[idx] - epochs[idx-1] > buffer) and(epochs[idx+1] - epochs[idx] > buffer):\n",
    "        optical_lone_epochs.append(epochs[idx])\n",
    "        \n",
    "optical_lone_epochs = np.array(optical_lone_epochs)\n",
    "        \n",
    "# get antenna registration lone epochs\n",
    "epochs = rdf[date].epoch_ms.values\n",
    "buffer = 3e3\n",
    "antenna_lone_epochs = []\n",
    "for idx in range(1, len(epochs)-1):\n",
    "    if (epochs[idx] - epochs[idx-1] > buffer) and(epochs[idx+1] - epochs[idx] > buffer):\n",
    "        antenna_lone_epochs.append(epochs[idx])\n",
    "\n",
    "antenna_lone_epochs = np.array(antenna_lone_epochs)\n",
    "\n",
    "\n",
    "        "
   ]
  },
  {
   "cell_type": "code",
   "execution_count": null,
   "metadata": {},
   "outputs": [],
   "source": [
    "matched_epochs = []\n",
    "for a_epoch in antenna_lone_epochs:\n",
    "    mask = (optical_lone_epochs > a_epoch - 2e3) & ((optical_lone_epochs < a_epoch + 2e3))\n",
    "    if optical_lone_epochs[mask].shape[0] == 1:\n",
    "        o_epoch = optical_lone_epochs[mask][0]\n",
    "        matched_epochs.append((a_epoch, o_epoch))\n",
    "print(len(matched_epochs))"
   ]
  },
  {
   "cell_type": "code",
   "execution_count": null,
   "metadata": {},
   "outputs": [],
   "source": []
  },
  {
   "cell_type": "code",
   "execution_count": null,
   "metadata": {},
   "outputs": [],
   "source": [
    "s3_access_utils = S3AccessUtils('/root/data')"
   ]
  },
  {
   "cell_type": "code",
   "execution_count": null,
   "metadata": {},
   "outputs": [],
   "source": [
    "idx = 1\n",
    "a_epoch, o_epoch = matched_epochs[idx]\n",
    "print('Registration timestamp occurred {}s {} image timestamp'.format(1e-3 * abs(a_epoch - o_epoch), 'before' if a_epoch < o_epoch else 'after'))\n",
    "left_crop_url = df[df.epoch_ms == o_epoch].left_crop_url.iloc[0]\n",
    "left_crop_f, _, key = s3_access_utils.download_from_url(left_crop_url)\n",
    "left_crop = Image.open(left_crop_f)\n",
    "left_raw_im_key = os.path.join(os.path.dirname(key), 'left_frame.resize_512_512.jpg')\n",
    "left_raw_im_f = s3_access_utils.download_from_s3('aquabyte-frames-resized-inbound', left_raw_im_key)\n",
    "left_raw_im = Image.open(left_raw_im_f)\n",
    "left_raw_im"
   ]
  },
  {
   "cell_type": "code",
   "execution_count": null,
   "metadata": {},
   "outputs": [],
   "source": [
    "left_crop"
   ]
  },
  {
   "cell_type": "code",
   "execution_count": null,
   "metadata": {},
   "outputs": [],
   "source": []
  },
  {
   "cell_type": "code",
   "execution_count": null,
   "metadata": {},
   "outputs": [],
   "source": []
  },
  {
   "cell_type": "code",
   "execution_count": null,
   "metadata": {},
   "outputs": [],
   "source": [
    "date = '2019-10-09'\n",
    "fig, axes = plt.subplots(2, 1, figsize=(10, 10))\n",
    "axes[0].plot(df[date].epoch_ms.resample('H').agg(lambda x: x.shape[0]), color='blue')\n",
    "axes[1].plot(rdf[date].epoch_ms.resample('H').agg(lambda x: x.shape[0]), color='red')\n",
    "axes[0].grid()\n",
    "axes[1].grid()\n",
    "plt.show()"
   ]
  },
  {
   "cell_type": "code",
   "execution_count": null,
   "metadata": {},
   "outputs": [],
   "source": []
  },
  {
   "cell_type": "code",
   "execution_count": null,
   "metadata": {},
   "outputs": [],
   "source": []
  }
 ],
 "metadata": {
  "kernelspec": {
   "display_name": "Python 3",
   "language": "python",
   "name": "python3"
  },
  "language_info": {
   "codemirror_mode": {
    "name": "ipython",
    "version": 3
   },
   "file_extension": ".py",
   "mimetype": "text/x-python",
   "name": "python",
   "nbconvert_exporter": "python",
   "pygments_lexer": "ipython3"
  }
 },
 "nbformat": 4,
 "nbformat_minor": 2
}
