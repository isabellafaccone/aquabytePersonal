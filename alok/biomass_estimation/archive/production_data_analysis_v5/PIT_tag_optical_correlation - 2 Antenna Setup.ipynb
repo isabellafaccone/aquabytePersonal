{
 "cells": [
  {
   "cell_type": "code",
   "execution_count": null,
   "metadata": {},
   "outputs": [],
   "source": [
    "from collections import defaultdict\n",
    "import datetime as dt\n",
    "import json\n",
    "import os\n",
    "import numpy as np\n",
    "\n",
    "import pandas as pd\n",
    "\n",
    "from research.utils.data_access_utils import S3AccessUtils, RDSAccessUtils\n",
    "pd.set_option('display.max_rows', 500)\n",
    "pd.set_option('display.max_colwidth', 500)\n",
    "\n",
    "\n"
   ]
  },
  {
   "cell_type": "code",
   "execution_count": null,
   "metadata": {},
   "outputs": [],
   "source": []
  },
  {
   "cell_type": "markdown",
   "metadata": {},
   "source": [
    "<h1> Load Optical Data </h1>"
   ]
  },
  {
   "cell_type": "code",
   "execution_count": null,
   "metadata": {},
   "outputs": [],
   "source": [
    "s3_access_utils = S3AccessUtils('/root/data', json.load(open(os.environ['AWS_CREDENTIALS'])))\n",
    "rds_access_utils = RDSAccessUtils(json.load(open(os.environ['DATA_WAREHOUSE_SQL_CREDENTIALS'])))\n",
    "\n",
    "query = \"\"\"\n",
    "    SELECT captured_at, left_crop_url, right_crop_url, annotation, camera_metadata, group_id\n",
    "    FROM prod.crop_annotation ca\n",
    "    WHERE ca.pen_id=61 AND ca.annotation_state_id=3 AND ca.service_id=2 AND ca.captured_at > '2020-01-01';\n",
    "\"\"\"\n",
    "\n",
    "df = rds_access_utils.extract_from_database(query)"
   ]
  },
  {
   "cell_type": "code",
   "execution_count": null,
   "metadata": {},
   "outputs": [],
   "source": [
    "df.index = pd.to_datetime(df.captured_at)\n",
    "df['epoch_ms'] = (df.index.astype(int) / (10**6)).values.astype(int)\n",
    "df = df.sort_values('epoch_ms', ascending=True).copy(deep=True)"
   ]
  },
  {
   "cell_type": "markdown",
   "metadata": {},
   "source": [
    "<h1> Load Antenna Registration Data </h1>"
   ]
  },
  {
   "cell_type": "code",
   "execution_count": null,
   "metadata": {},
   "outputs": [],
   "source": [
    "rdf = pd.read_csv('/root/data/alok/biomass_estimation/playground/measure_station_data.csv')\n",
    "\n",
    "# convert start time to UTC\n",
    "rdf.index = pd.to_datetime(rdf.ts_start)\n",
    "rdf.index = rdf.index.tz_localize('Europe/Oslo').tz_convert('UTC')\n",
    "rdf['epoch_start_ms'] = (rdf.index.astype(int) / (10**6)).values.astype(int)\n",
    "\n",
    "# convert end time to UTC\n",
    "rdf.index = pd.to_datetime(rdf.ts_end)\n",
    "rdf.index = rdf.index.tz_localize('Europe/Oslo').tz_convert('UTC')\n",
    "rdf['epoch_end_ms'] = (rdf.index.astype(int) / (10**6)).values.astype(int)\n",
    "\n",
    "# convert index back to start_time\n",
    "rdf.index = pd.to_datetime(rdf.ts_start)\n",
    "rdf = rdf.sort_values('epoch_start_ms', ascending=True).copy(deep=True)"
   ]
  },
  {
   "cell_type": "code",
   "execution_count": null,
   "metadata": {},
   "outputs": [],
   "source": [
    "rdf.head()"
   ]
  },
  {
   "cell_type": "code",
   "execution_count": null,
   "metadata": {},
   "outputs": [],
   "source": [
    "threshold = 60*1e3\n",
    "live_registrations = dict()\n",
    "successful_passages = defaultdict(list)\n",
    "count = 0\n",
    "for idx, row in rdf['2020-01-27':'2020-01-31'].iterrows():\n",
    "    \n",
    "    if count % 1000 == 0:\n",
    "        print(count)\n",
    "    count += 1\n",
    "    \n",
    "    tag = row.tag\n",
    "    antenna = row.antenna\n",
    "    epoch_start_ms, epoch_end_ms = row.epoch_start_ms, row.epoch_end_ms\n",
    "    ts_start, ts_end = row.ts_start, row.ts_end\n",
    "    \n",
    "    if (antenna == '3 a4'):\n",
    "        live_registrations[tag] = (epoch_start_ms, row.ts_start)\n",
    "    \n",
    "    if (antenna == '1 a4') & (tag in live_registrations.keys()):\n",
    "        if epoch_end_ms - live_registrations[tag][0] < threshold:\n",
    "            successful_passage = {\n",
    "                'tag': tag,\n",
    "                'epoch_start_ms_3a4': live_registrations[tag][0],\n",
    "                'epoch_end_ms_1a4': epoch_end_ms,\n",
    "                'ts_start_3a4': live_registrations[tag][1],\n",
    "                'ts_end_1a4': ts_end\n",
    "                \n",
    "            }\n",
    "            for k, v in successful_passage.items():\n",
    "                successful_passages[k].append(v)\n",
    "            del live_registrations[tag]\n",
    "            \n",
    "            \n",
    "    "
   ]
  },
  {
   "cell_type": "code",
   "execution_count": null,
   "metadata": {},
   "outputs": [],
   "source": [
    "analysis_df = pd.DataFrame(successful_passages)"
   ]
  },
  {
   "cell_type": "code",
   "execution_count": null,
   "metadata": {},
   "outputs": [],
   "source": [
    "analysis_df"
   ]
  },
  {
   "cell_type": "code",
   "execution_count": null,
   "metadata": {},
   "outputs": [],
   "source": []
  },
  {
   "cell_type": "code",
   "execution_count": null,
   "metadata": {},
   "outputs": [],
   "source": [
    "results_data = defaultdict(list)\n",
    "for idx, row in analysis_df.iterrows():\n",
    "    mask = (df.epoch_ms >= row.epoch_start_ms_3a4) & (df.epoch_ms <= row.epoch_end_ms_1a4)\n",
    "    if (df[mask].shape[0]):\n",
    "        results_data['ts_start_3a4'].append(row.ts_start_3a4)\n",
    "        results_data['ts_end_1a4'].append(row.ts_end_1a4)\n",
    "        results_data['left_urls'].append(df[mask].left_crop_url.tolist())\n"
   ]
  },
  {
   "cell_type": "code",
   "execution_count": null,
   "metadata": {},
   "outputs": [],
   "source": [
    "pd.DataFrame(results_data).to_csv('/root/data/alok/biomass_estimation/playground/matches.csv')"
   ]
  },
  {
   "cell_type": "code",
   "execution_count": null,
   "metadata": {},
   "outputs": [],
   "source": [
    "df['2020-01-27'].shape"
   ]
  },
  {
   "cell_type": "code",
   "execution_count": null,
   "metadata": {},
   "outputs": [],
   "source": [
    "rdf['2020-01-27'].shape"
   ]
  },
  {
   "cell_type": "code",
   "execution_count": null,
   "metadata": {},
   "outputs": [],
   "source": [
    "pd.DataFrame(results_data).shape"
   ]
  },
  {
   "cell_type": "code",
   "execution_count": null,
   "metadata": {},
   "outputs": [],
   "source": [
    "x = [1, None, 3]\n",
    "x = [i if i else np.nan for i in x]\n",
    "np.array(x)\n"
   ]
  },
  {
   "cell_type": "code",
   "execution_count": null,
   "metadata": {},
   "outputs": [],
   "source": [
    "rdf[(rdf.antenna == '1 a4') | (rdf.antenna == '3 a4')]['2020-01-27'].shape"
   ]
  },
  {
   "cell_type": "code",
   "execution_count": null,
   "metadata": {},
   "outputs": [],
   "source": [
    "x = [1, None, 3]"
   ]
  },
  {
   "cell_type": "code",
   "execution_count": null,
   "metadata": {},
   "outputs": [],
   "source": [
    "np.where(x)"
   ]
  },
  {
   "cell_type": "code",
   "execution_count": null,
   "metadata": {},
   "outputs": [],
   "source": [
    "y = [1, 2, 3]\n",
    "np.array(y)[x[0]]\n"
   ]
  },
  {
   "cell_type": "code",
   "execution_count": null,
   "metadata": {},
   "outputs": [],
   "source": [
    "np.array(y)[np.where(x)[0]]"
   ]
  },
  {
   "cell_type": "code",
   "execution_count": null,
   "metadata": {},
   "outputs": [],
   "source": []
  }
 ],
 "metadata": {
  "kernelspec": {
   "display_name": "Python 3",
   "language": "python",
   "name": "python3"
  },
  "language_info": {
   "codemirror_mode": {
    "name": "ipython",
    "version": 3
   },
   "file_extension": ".py",
   "mimetype": "text/x-python",
   "name": "python",
   "nbconvert_exporter": "python",
   "pygments_lexer": "ipython3",
   "version": "3.6.5"
  }
 },
 "nbformat": 4,
 "nbformat_minor": 2
}
