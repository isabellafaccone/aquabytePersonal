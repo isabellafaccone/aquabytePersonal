{
 "cells": [
  {
   "cell_type": "markdown",
   "metadata": {},
   "source": [
    "<h1> Calibration Comparison V1 </h1>"
   ]
  },
  {
   "cell_type": "code",
   "execution_count": null,
   "metadata": {},
   "outputs": [],
   "source": [
    "import json, os\n",
    "import cv2\n",
    "import torch\n",
    "from multiprocessing import Pool, Manager\n",
    "from aquabyte.data_access_utils import S3AccessUtils, RDSAccessUtils\n",
    "from aquabyte.akpd import AKPD\n",
    "from aquabyte.template_matching import find_matches_and_homography\n",
    "from aquabyte.biomass_estimator import NormalizeCentered2D, NormalizedStabilityTransform, ToTensor, Network\n",
    "from aquabyte.optics import euclidean_distance, pixel2world, depth_from_disp, convert_to_world_point\n",
    "from aquabyte.data_loader import BODY_PARTS\n",
    "from aquabyte.akpd_scorer import generate_confidence_score\n",
    "from keras.models import load_model\n",
    "import boto3\n",
    "import pandas as pd\n",
    "from PIL import Image\n",
    "from collections import defaultdict\n",
    "\n",
    "\n",
    "import numpy as np\n",
    "from matplotlib import pyplot as plt\n",
    "import time\n",
    "\n",
    "pd.set_option('display.max_colwidth', 50)"
   ]
  },
  {
   "cell_type": "code",
   "execution_count": null,
   "metadata": {},
   "outputs": [],
   "source": []
  },
  {
   "cell_type": "markdown",
   "metadata": {},
   "source": [
    "<h1> Load and Clean Data </h1>"
   ]
  },
  {
   "cell_type": "code",
   "execution_count": null,
   "metadata": {},
   "outputs": [],
   "source": [
    "matlab_csv_s3_url = 'https://aquabyte-calibrations.s3-eu-west-1.amazonaws.com/biomass_experiments/biomass.matlab.imr.pen-61-from-2019-09-13-to-2019-09-23.results.csv'\n",
    "s3_access_utils = S3AccessUtils('/root/data')\n",
    "matlab_csv_f, bucket, key = s3_access_utils.download_from_url(matlab_csv_s3_url)\n",
    "matlab_df = pd.read_csv(matlab_csv_f)\n"
   ]
  },
  {
   "cell_type": "code",
   "execution_count": null,
   "metadata": {},
   "outputs": [],
   "source": [
    "circular_csv_s3_url = 'https://aquabyte-calibrations.s3-eu-west-1.amazonaws.com/biomass_experiments/biomass.circular.imr.pen-61-from-2019-09-13-to-2019-09-23.results.csv'\n",
    "s3_access_utils = S3AccessUtils('/root/data')\n",
    "circular_csv_f, bucket, key = s3_access_utils.download_from_url(circular_csv_s3_url)\n",
    "circular_df = pd.read_csv(circular_csv_f)\n"
   ]
  },
  {
   "cell_type": "code",
   "execution_count": null,
   "metadata": {},
   "outputs": [],
   "source": [
    "mdf = matlab_df.copy(deep=True)\n",
    "cdf = circular_df.copy(deep=True)\n",
    "common_urls = list(set(mdf.left_crop_url).intersection(set(cdf.left_crop_url)))\n",
    "mdf = mdf[mdf.left_crop_url.isin(common_urls)].sort_values(['captured_at', 'left_crop_url']).copy(deep=True)\n",
    "cdf = cdf[cdf.left_crop_url.isin(common_urls)].sort_values(['captured_at', 'left_crop_url']).copy(deep=True)\n",
    "df = pd.DataFrame({\n",
    "    'captured_at': mdf.captured_at,\n",
    "    'weight_m': mdf.estimated_weight_g.values,\n",
    "    'weight_c': cdf.estimated_weight_g.values,\n",
    "    'akpd_score_m': mdf.akpd_score.values,\n",
    "    'akpd_score_c': cdf.akpd_score.values,\n",
    "    'left_crop_url_m': mdf.left_crop_url.values,\n",
    "    'right_crop_url_m': mdf.right_crop_url.values,\n",
    "    'left_crop_url_c': cdf.left_crop_url.values,\n",
    "    'right_crop_url_c': cdf.right_crop_url.values,\n",
    "    'ann_m': mdf.annotation.values,\n",
    "    'ann_c': cdf.annotation.values\n",
    "})\n",
    "\n",
    "df = df[(df.akpd_score_m > 0.9) & (df.akpd_score_c > 0.9)].copy(deep=True)"
   ]
  },
  {
   "cell_type": "code",
   "execution_count": null,
   "metadata": {},
   "outputs": [],
   "source": []
  },
  {
   "cell_type": "code",
   "execution_count": null,
   "metadata": {},
   "outputs": [],
   "source": []
  },
  {
   "cell_type": "markdown",
   "metadata": {},
   "source": [
    "<h1> Perform Un- and Re-Rectification </h1>"
   ]
  },
  {
   "cell_type": "code",
   "execution_count": null,
   "metadata": {},
   "outputs": [],
   "source": [
    "def load_params(params_file):\n",
    "    params = json.load(open(params_file))\n",
    "    cameraMatrix1 = np.array(params['CameraParameters1']['IntrinsicMatrix']).transpose()\n",
    "    cameraMatrix2 = np.array(params['CameraParameters2']['IntrinsicMatrix']).transpose()\n",
    "\n",
    "    distCoeffs1 = params['CameraParameters1']['RadialDistortion'][0:2] + \\\n",
    "                   params['CameraParameters1']['TangentialDistortion'] + \\\n",
    "                   [params['CameraParameters1']['RadialDistortion'][2]]\n",
    "    distCoeffs1 = np.array(distCoeffs1)\n",
    "\n",
    "    distCoeffs2 = params['CameraParameters2']['RadialDistortion'][0:2] + \\\n",
    "                   params['CameraParameters2']['TangentialDistortion'] + \\\n",
    "                   [params['CameraParameters2']['RadialDistortion'][2]]\n",
    "    distCoeffs2 = np.array(distCoeffs2)\n",
    "\n",
    "    R = np.array(params['RotationOfCamera2']).transpose()\n",
    "    T = np.array(params['TranslationOfCamera2']).transpose()\n",
    "\n",
    "    imageSize = (4096, 3000)\n",
    "    \n",
    "    # perform rectification\n",
    "    (R1, R2, P1, P2, Q, leftROI, rightROI) = cv2.stereoRectify(cameraMatrix1, distCoeffs1, cameraMatrix2, distCoeffs2, imageSize, R, T, None, None, None, None, None, cv2.CALIB_ZERO_DISPARITY, 0)\n",
    "    \n",
    "\n",
    "    left_maps = cv2.initUndistortRectifyMap(cameraMatrix1, distCoeffs1, R1, P1, imageSize, cv2.CV_16SC2)\n",
    "    right_maps = cv2.initUndistortRectifyMap(cameraMatrix2, distCoeffs2, R2, P2, imageSize, cv2.CV_16SC2)\n",
    "    \n",
    "    return left_maps, right_maps, cameraMatrix1, distCoeffs1, R1, P1"
   ]
  },
  {
   "cell_type": "code",
   "execution_count": null,
   "metadata": {},
   "outputs": [],
   "source": [
    "matlab_params_url = 'https://aquabyte-stereo-parameters.s3-eu-west-1.amazonaws.com/L40013180_R40029775/2020-01-14T00:00:00Z_L40013180_R40029775_stereo-parameters.json'\n",
    "circular_params_url = 'https://aquabyte-stereo-parameters.s3-eu-west-1.amazonaws.com/L40013180_R40029775/2020-02-16T17:30:33.458096000Z_L40013180_R40029775_stereo-parameters.json'\n",
    "matlab_params_f, _, _ = s3_access_utils.download_from_url(matlab_params_url)\n",
    "circular_params_f, _, _ = s3_access_utils.download_from_url(circular_params_url)\n",
    "left_maps_m, right_maps_m, cameraMatrix1_m, distCoeffs1_m, R1_m, P1_m = load_params(matlab_params_f)\n",
    "left_maps_c, right_maps_c, cameraMatrix1_c, distCoeffs1_c, R1_c, P1_c = load_params(circular_params_f)"
   ]
  },
  {
   "cell_type": "code",
   "execution_count": null,
   "metadata": {},
   "outputs": [],
   "source": [
    "ann_m_mp_c_cp_m_list = []\n",
    "for idx, row in df.iterrows():\n",
    "    ann_m = json.loads(row.ann_m)\n",
    "    \n",
    "    # un-rectify with matlab params, re-rectify with circular params\n",
    "    ann_m_mp_c = {'leftCrop': [], 'rightCrop': []}\n",
    "    for side in ['leftCrop', 'rightCrop']:\n",
    "        for item in ann_m[side]:\n",
    "            bp = item['keypointType']\n",
    "            x, y = item['xFrame'], item['yFrame']\n",
    "            maps = left_maps_m if side == 'leftCrop' else right_maps_m\n",
    "            x_new, y_new = cv2.undistortPoints(np.array([[maps[0][y, x]]]).astype(float), \n",
    "                                cameraMatrix1_c, distCoeffs1_c, R=R1_c, P=P1_c)[0][0]\n",
    "            x_new, y_new = int(round(x_new)), int(round(y_new))\n",
    "            ann_m_mp_c[side].append({\n",
    "                'keypointType': bp,\n",
    "                'xFrame': x_new,\n",
    "                'yFrame': y_new\n",
    "            })\n",
    "            \n",
    "    \n",
    "    # now take above result, un-rectify with circular params, re-rectify with matlab params\n",
    "    ann_m_mp_c_cp_m = {'leftCrop': [], 'rightCrop': []}\n",
    "    for side in ['leftCrop', 'rightCrop']:\n",
    "        for item in ann_m_mp_c[side]:\n",
    "            bp = item['keypointType']\n",
    "            x, y = item['xFrame'], item['yFrame']\n",
    "            maps = left_maps_c if side == 'leftCrop' else right_maps_c\n",
    "            x_new, y_new = cv2.undistortPoints(np.array([[maps[0][y, x]]]).astype(float), \n",
    "                                cameraMatrix1_m, distCoeffs1_m, R=R1_m, P=P1_m)[0][0]\n",
    "            x_new, y_new = int(round(x_new)), int(round(y_new))\n",
    "            ann_m_mp_c_cp_m[side].append({\n",
    "                'keypointType': bp,\n",
    "                'xFrame': x_new,\n",
    "                'yFrame': y_new\n",
    "            })\n",
    "\n",
    "    ann_m_mp_c_cp_m_list.append(ann_m_mp_c_cp_m)\n"
   ]
  },
  {
   "cell_type": "code",
   "execution_count": null,
   "metadata": {},
   "outputs": [],
   "source": [
    "analysis_data = defaultdict(list)\n",
    "for ann_m, ann_m_mp_c_cp_m in zip([json.loads(x) for x in list(df.ann_m.values)], ann_m_mp_c_cp_m_list):\n",
    "    ann_m_left_kps = {item['keypointType']: [item['xFrame'], item['yFrame']] for item in ann_m['leftCrop']}\n",
    "    ann_m_right_kps = {item['keypointType']: [item['xFrame'], item['yFrame']] for item in ann_m['rightCrop']}\n",
    "    ann_m_mp_c_cp_m_left_kps = \\\n",
    "        {item['keypointType']: [item['xFrame'], item['yFrame']] for item in ann_m_mp_c_cp_m['leftCrop']}\n",
    "    ann_m_mp_c_cp_m_right_kps = \\\n",
    "        {item['keypointType']: [item['xFrame'], item['yFrame']] for item in ann_m_mp_c_cp_m['rightCrop']}\n",
    "    for bp in BODY_PARTS:\n",
    "        analysis_data['body_part'].append(bp)\n",
    "        analysis_data['x_1_l'].append(ann_m_left_kps[bp][0])\n",
    "        analysis_data['y_1_l'].append(ann_m_left_kps[bp][1])\n",
    "        analysis_data['x_1_r'].append(ann_m_right_kps[bp][0])\n",
    "        analysis_data['y_1_r'].append(ann_m_right_kps[bp][1])\n",
    "        analysis_data['x_2_l'].append(ann_m_mp_c_cp_m_left_kps[bp][0])\n",
    "        analysis_data['y_2_l'].append(ann_m_mp_c_cp_m_left_kps[bp][1])\n",
    "        analysis_data['x_2_r'].append(ann_m_mp_c_cp_m_right_kps[bp][0])\n",
    "        analysis_data['y_2_r'].append(ann_m_mp_c_cp_m_right_kps[bp][1])\n",
    "        \n",
    "    "
   ]
  },
  {
   "cell_type": "code",
   "execution_count": null,
   "metadata": {},
   "outputs": [],
   "source": [
    "analysis_df = pd.DataFrame(analysis_data)"
   ]
  },
  {
   "cell_type": "code",
   "execution_count": null,
   "metadata": {},
   "outputs": [],
   "source": [
    "for bp in BODY_PARTS:\n",
    "    body_part_mask = analysis_df.body_part == bp\n",
    "    diffs = analysis_df[body_part_mask].x_1_l - analysis_df[body_part_mask].x_2_l\n",
    "    print('Diffs in left crop x coordinate for {}: {}'.format(bp, diffs.abs().mean()))\n",
    "    \n",
    "    diffs = analysis_df[body_part_mask].y_1_l - analysis_df[body_part_mask].y_2_l\n",
    "    print('Diffs in left crop y coordinate for {}: {}'.format(bp, diffs.abs().mean()))\n",
    "    \n",
    "    diffs = analysis_df[body_part_mask].x_1_r - analysis_df[body_part_mask].x_2_r\n",
    "    print('Diffs in right crop x coordinate for {}: {}'.format(bp, diffs.abs().mean()))\n",
    "    \n",
    "    diffs = analysis_df[body_part_mask].y_1_r - analysis_df[body_part_mask].y_2_r\n",
    "    print('Diffs in right crop y coordinate for {}: {}'.format(bp, diffs.abs().mean()))"
   ]
  },
  {
   "cell_type": "code",
   "execution_count": null,
   "metadata": {},
   "outputs": [],
   "source": []
  },
  {
   "cell_type": "code",
   "execution_count": null,
   "metadata": {},
   "outputs": [],
   "source": []
  },
  {
   "cell_type": "code",
   "execution_count": null,
   "metadata": {},
   "outputs": [],
   "source": [
    "diffs = []\n",
    "for idx, row in df.iterrows():\n",
    "    ann_m = json.loads(row.ann_m)\n",
    "    ann_dict_left_kps_m = {item['keypointType']: [item['xFrame'], item['yFrame']] for item in ann_m['leftCrop']}\n",
    "    ann_dict_right_kps_m = {item['keypointType']: [item['xFrame'], item['yFrame']] for item in ann_m['rightCrop']}\n",
    "    for bp in BODY_PARTS:\n",
    "        diff = ann_dict_left_kps_m[bp][1] - ann_dict_right_kps_m[bp][1]\n",
    "        diffs.append(diff)\n",
    "\n",
    "print(np.median(diffs))"
   ]
  },
  {
   "cell_type": "code",
   "execution_count": null,
   "metadata": {},
   "outputs": [],
   "source": [
    "diffs = []\n",
    "for idx, row in df.iterrows():\n",
    "    ann_c = json.loads(row.ann_c)\n",
    "    ann_dict_left_kps_c = {item['keypointType']: [item['xFrame'], item['yFrame']] for item in ann_c['leftCrop']}\n",
    "    ann_dict_right_kps_c = {item['keypointType']: [item['xFrame'], item['yFrame']] for item in ann_c['rightCrop']}\n",
    "    for bp in BODY_PARTS:\n",
    "        diff = ann_dict_left_kps_c[bp][1] - ann_dict_right_kps_c[bp][1]\n",
    "        diffs.append(diff)\n",
    "print(np.median(diffs))"
   ]
  },
  {
   "cell_type": "code",
   "execution_count": null,
   "metadata": {},
   "outputs": [],
   "source": [
    "median_diffs = []\n",
    "for idx, row in mdf.iterrows():\n",
    "    ann_c = json.loads(row.annotation)\n",
    "    ann_dict_left_kps_c = {item['keypointType']: [item['xFrame'], item['yFrame']] for item in ann_c['leftCrop']}\n",
    "    ann_dict_right_kps_c = {item['keypointType']: [item['xFrame'], item['yFrame']] for item in ann_c['rightCrop']}\n",
    "    diffs = []\n",
    "    for bp in BODY_PARTS:\n",
    "        diff = ann_dict_left_kps_c[bp][1] - ann_dict_right_kps_c[bp][1]\n",
    "        diffs.append(diff)\n",
    "    median_diffs.append(np.median(diffs))\n",
    "median_diffs = np.array(median_diffs)"
   ]
  },
  {
   "cell_type": "code",
   "execution_count": null,
   "metadata": {},
   "outputs": [],
   "source": [
    "np.where(median_diffs > 15)"
   ]
  },
  {
   "cell_type": "code",
   "execution_count": null,
   "metadata": {},
   "outputs": [],
   "source": [
    "mdf['median_diff'] = median_diffs"
   ]
  },
  {
   "cell_type": "code",
   "execution_count": null,
   "metadata": {},
   "outputs": [],
   "source": [
    "kdf = mdf[(mdf.akpd_score > 0.95) & (mdf.median_diff > 15)].head(10)"
   ]
  },
  {
   "cell_type": "code",
   "execution_count": null,
   "metadata": {},
   "outputs": [],
   "source": []
  },
  {
   "cell_type": "markdown",
   "metadata": {},
   "source": [
    "<h1> Y-Coordinate Deviation Diagnosis </h1>"
   ]
  },
  {
   "cell_type": "code",
   "execution_count": null,
   "metadata": {},
   "outputs": [],
   "source": [
    "tdf = pd.read_csv('/root/data/alok/biomass_estimation/playground/rectification.20200311.184020.MDSB.output.csv')\n",
    "tdf = tdf.sort_values('captured_at').copy(deep=True)\n",
    "tdf2 = pd.read_csv('/root/data/alok/biomass_estimation/playground/rectification_2.csv')\n",
    "tdf2 = tdf2.sort_values('captured_at').copy(deep=True)\n",
    "tdf['annotation'] = tdf2.annotation.values\n"
   ]
  },
  {
   "cell_type": "code",
   "execution_count": null,
   "metadata": {},
   "outputs": [],
   "source": []
  },
  {
   "cell_type": "code",
   "execution_count": null,
   "metadata": {},
   "outputs": [],
   "source": []
  },
  {
   "cell_type": "code",
   "execution_count": null,
   "metadata": {},
   "outputs": [],
   "source": []
  },
  {
   "cell_type": "code",
   "execution_count": null,
   "metadata": {},
   "outputs": [],
   "source": [
    "json.loads(tdf2[tdf2.captured_at == '2019-09-13T01:15:56.350510000Z'].annotation.iloc[0])"
   ]
  },
  {
   "cell_type": "code",
   "execution_count": null,
   "metadata": {},
   "outputs": [],
   "source": [
    "json.loads(tdf[tdf.captured_at == '2019-09-13T01:15:56.350510000Z'].left_crop_metadata.iloc[0])"
   ]
  },
  {
   "cell_type": "code",
   "execution_count": null,
   "metadata": {},
   "outputs": [],
   "source": [
    "tdf2.annotation.iloc[1]"
   ]
  },
  {
   "cell_type": "code",
   "execution_count": null,
   "metadata": {},
   "outputs": [],
   "source": [
    "tdf.annotation.iloc[1]"
   ]
  },
  {
   "cell_type": "code",
   "execution_count": null,
   "metadata": {},
   "outputs": [],
   "source": []
  },
  {
   "cell_type": "code",
   "execution_count": null,
   "metadata": {},
   "outputs": [],
   "source": []
  },
  {
   "cell_type": "code",
   "execution_count": null,
   "metadata": {},
   "outputs": [],
   "source": [
    "def load_params(params):\n",
    "    print(\"Loading params...\")\n",
    "    cameraMatrix1 = np.array(params['CameraParameters1']['IntrinsicMatrix']).transpose()\n",
    "    cameraMatrix2 = np.array(params['CameraParameters2']['IntrinsicMatrix']).transpose()\n",
    "\n",
    "    distCoeffs1 = params['CameraParameters1']['RadialDistortion'][0:2] + \\\n",
    "                   params['CameraParameters1']['TangentialDistortion'] + \\\n",
    "                   [params['CameraParameters1']['RadialDistortion'][2]]\n",
    "    distCoeffs1 = np.array(distCoeffs1)\n",
    "\n",
    "    distCoeffs2 = params['CameraParameters2']['RadialDistortion'][0:2] + \\\n",
    "                   params['CameraParameters2']['TangentialDistortion'] + \\\n",
    "                   [params['CameraParameters2']['RadialDistortion'][2]]\n",
    "    distCoeffs2 = np.array(distCoeffs2)\n",
    "\n",
    "    R = np.array(params['RotationOfCamera2']).transpose()\n",
    "    T = np.array(params['TranslationOfCamera2']).transpose()\n",
    "\n",
    "    imageSize = (4096, 3000)\n",
    "\n",
    "    # perform rectification\n",
    "    (R1, R2, P1, P2, Q, leftROI, rightROI) = cv2.stereoRectify(cameraMatrix1, distCoeffs1, cameraMatrix2, distCoeffs2, imageSize, R, T, None, None, None, None, None, cv2.CALIB_ZERO_DISPARITY, 0)\n",
    "\n",
    "    left_maps = cv2.initUndistortRectifyMap(cameraMatrix1, distCoeffs1, R1, P1, imageSize, cv2.CV_16SC2)\n",
    "    right_maps = cv2.initUndistortRectifyMap(cameraMatrix2, distCoeffs2, R2, P2, imageSize, cv2.CV_16SC2)\n",
    "\n",
    "    print(\"Params loaded.\")\n",
    "    return left_maps, right_maps\n",
    "\n",
    "def rectify_crop(crop, maps, crop_metadata):\n",
    "    print(\"Rectifying...\")\n",
    "    new_image = np.zeros([3000, 4096, 3]).astype('uint8')\n",
    "    lower_left = (crop_metadata['y_coord'] + crop_metadata['height'], crop_metadata['x_coord'])\n",
    "    upper_right = (crop_metadata['y_coord'], crop_metadata['x_coord'] + crop_metadata['width'])\n",
    "    new_image[upper_right[0]:lower_left[0], lower_left[1]:upper_right[1], :] = np.array(crop)\n",
    "    remap = cv2.remap(new_image, maps[0], maps[1], cv2.INTER_LANCZOS4)\n",
    "    nonzero_indices = np.where(remap > 0)\n",
    "    y_min, y_max = nonzero_indices[0].min(), nonzero_indices[0].max()\n",
    "    x_min, x_max = nonzero_indices[1].min(), nonzero_indices[1].max()\n",
    "    lower_left = (y_max, x_min)\n",
    "    upper_right = (y_min, x_max)\n",
    "    rectified_crop = remap[upper_right[0]:lower_left[0], lower_left[1]:upper_right[1], :].copy()\n",
    "\n",
    "    # construct rectified crop metadata\n",
    "    rectified_crop_metadata = crop_metadata.copy()\n",
    "    rectified_crop_metadata['x_coord'] = int(x_min)\n",
    "    rectified_crop_metadata['y_coord'] = int(y_min)\n",
    "    rectified_crop_metadata['width'] = int(x_max - x_min)\n",
    "    rectified_crop_metadata['height'] = int(y_max - y_min)\n",
    "\n",
    "    print(\"Rectification done\")\n",
    "    return rectified_crop, rectified_crop_metadata\n",
    "\n",
    "\n",
    "def create_crop_metadata(raw_crop_f):\n",
    "    coords = [int(x) for x in os.path.basename(raw_crop_f).replace('.jpg', '').split('_')[-4:]]\n",
    "    \n",
    "    crop_metadata = {}\n",
    "    crop_metadata['x_coord'] = coords[0]\n",
    "    crop_metadata['y_coord'] = coords[1]\n",
    "    crop_metadata['width'] = coords[2] - coords[0]\n",
    "    crop_metadata['height'] = coords[3] - coords[1]\n",
    "    print(coords[0])\n",
    "    \n",
    "    return crop_metadata\n",
    "\n",
    "def display_crops(left_image, right_image, ann, overlay_keypoints=True, show_labels=False):\n",
    "    fig, axes = plt.subplots(2, 1, figsize=(20, 20))\n",
    "    axes[0].imshow(left_image)\n",
    "    axes[1].imshow(right_image)\n",
    "    \n",
    "    left_keypoints = {item['keypointType']: [item['xCrop'], item['yCrop']] for item in ann['leftCrop']}\n",
    "    right_keypoints = {item['keypointType']: [item['xCrop'], item['yCrop']] for item in ann['rightCrop']}\n",
    "    if overlay_keypoints:\n",
    "        for bp, kp in left_keypoints.items():\n",
    "            axes[0].scatter([kp[0]], [kp[1]], color='red', s=1)\n",
    "            if show_labels:\n",
    "                axes[0].annotate(bp, (kp[0], kp[1]), color='red')\n",
    "        for bp, kp in right_keypoints.items():\n",
    "            axes[1].scatter([kp[0]], [kp[1]], color='red', s=1)\n",
    "            if show_labels:\n",
    "                axes[1].annotate(bp, (kp[0], kp[1]), color='red')\n",
    "    plt.show()"
   ]
  },
  {
   "cell_type": "code",
   "execution_count": null,
   "metadata": {},
   "outputs": [],
   "source": [
    "# load maps\n",
    "matlab_stereo_parameters_url = 'https://aquabyte-stereo-parameters.s3-eu-west-1.amazonaws.com/L40013180_R40029775/2020-01-14T00:00:00Z_L40013180_R40029775_stereo-parameters.json'\n",
    "matlab_stereo_params_f, _, _ = s3_access_utils.download_from_url(matlab_stereo_parameters_url)\n",
    "matlab_stereo_params = json.load(open(matlab_stereo_params_f))\n",
    "left_maps, right_maps = load_params(matlab_stereo_params)\n",
    "\n",
    "# load crops and metadata\n",
    "i = 2\n",
    "left_crop_url = tdf.left_crop_url.iloc[i]\n",
    "right_crop_url = tdf.right_crop_url.iloc[i]\n",
    "ann = json.loads(tdf.annotation.iloc[i])\n",
    "crops_json_url_base = os.path.dirname(left_crop_url.replace('aquabyte-crops-test', 'aquabyte-frames-resized-inbound'))\n",
    "crops_json_url = os.path.join(crops_json_url_base, 'crops.json')\n",
    "crops_json_f, _, _ = s3_access_utils.download_from_url(crops_json_url)\n",
    "left_raw_crop_url = left_crop_url.replace('aquabyte-crops-test', 'aquabyte-frames-resized-inbound')\n",
    "left_raw_crop_f, _, _ = s3_access_utils.download_from_url(left_raw_crop_url)\n",
    "left_raw_crop = Image.open(left_raw_crop_f)\n",
    "right_raw_crop_url = right_crop_url.replace('aquabyte-crops-test', 'aquabyte-frames-resized-inbound')\n",
    "right_raw_crop_f, _, _ = s3_access_utils.download_from_url(right_raw_crop_url)\n",
    "right_raw_crop = Image.open(right_raw_crop_f)\n",
    "\n",
    "left_crop_metadata = create_crop_metadata(left_raw_crop_f)\n",
    "right_crop_metadata = create_crop_metadata(right_raw_crop_f)\n",
    "\n",
    "rectified_left_crop, rectified_left_crop_metadata = rectify_crop(left_raw_crop, left_maps, left_crop_metadata)\n",
    "rectified_right_crop, rectified_right_crop_metadata = rectify_crop(right_raw_crop, right_maps, right_crop_metadata)"
   ]
  },
  {
   "cell_type": "code",
   "execution_count": null,
   "metadata": {},
   "outputs": [],
   "source": []
  },
  {
   "cell_type": "code",
   "execution_count": null,
   "metadata": {},
   "outputs": [],
   "source": [
    "display_crops(rectified_left_crop, rectified_right_crop, ann)"
   ]
  },
  {
   "cell_type": "code",
   "execution_count": null,
   "metadata": {},
   "outputs": [],
   "source": []
  },
  {
   "cell_type": "code",
   "execution_count": null,
   "metadata": {},
   "outputs": [],
   "source": [
    "left_crop_url"
   ]
  },
  {
   "cell_type": "code",
   "execution_count": null,
   "metadata": {},
   "outputs": [],
   "source": [
    "left_raw_crop_url"
   ]
  },
  {
   "cell_type": "code",
   "execution_count": null,
   "metadata": {},
   "outputs": [],
   "source": []
  },
  {
   "cell_type": "code",
   "execution_count": null,
   "metadata": {},
   "outputs": [],
   "source": []
  },
  {
   "cell_type": "code",
   "execution_count": null,
   "metadata": {},
   "outputs": [],
   "source": [
    "odf = pd.read_csv('/root/data/alok/biomass_estimation/playground/pen=61/data_dump_1.csv')"
   ]
  },
  {
   "cell_type": "code",
   "execution_count": null,
   "metadata": {},
   "outputs": [],
   "source": [
    "odf.captured_at"
   ]
  },
  {
   "cell_type": "code",
   "execution_count": null,
   "metadata": {},
   "outputs": [],
   "source": [
    "df.index = pd.to_datetime(df.captured_at)\n",
    "odf.index = pd.to_datetime(odf.captured_at)"
   ]
  },
  {
   "cell_type": "code",
   "execution_count": null,
   "metadata": {},
   "outputs": [],
   "source": [
    "odf['left_crop_fname'] = odf.left_crop_url.apply(lambda x: os.path.basename(x))\n",
    "df['left_crop_fname'] = df.left_crop_url_m.apply(lambda x: os.path.basename(x))\n"
   ]
  },
  {
   "cell_type": "code",
   "execution_count": null,
   "metadata": {},
   "outputs": [],
   "source": [
    "df.index = df.left_crop_fname\n",
    "odf.index = odf.left_crop_fname"
   ]
  },
  {
   "cell_type": "code",
   "execution_count": null,
   "metadata": {},
   "outputs": [],
   "source": [
    "left_diffs, right_diffs = [], []\n",
    "count = 0\n",
    "for idx, row in df.iterrows():\n",
    "    if count % 100 == 0:\n",
    "        print(count)\n",
    "    count += 1\n",
    "    ann_1 = json.loads(row.ann_m)\n",
    "    if (odf.left_crop_fname == row.left_crop_fname).sum() > 0:\n",
    "        ann_2 = json.loads(odf[odf.left_crop_fname == row.left_crop_fname].annotation.iloc[0])\n",
    "        ann_1_left_dict = {item['keypointType']: [item['xFrame'], item['yFrame']] for item in ann_1['leftCrop']}\n",
    "        ann_1_right_dict = {item['keypointType']: [item['xFrame'], item['yFrame']] for item in ann_1['rightCrop']}\n",
    "        ann_2_left_dict = {item['keypointType']: [item['xFrame'], item['yFrame']] for item in ann_2['leftCrop']}\n",
    "        ann_2_right_dict = {item['keypointType']: [item['xFrame'], item['yFrame']] for item in ann_2['rightCrop']}\n",
    "        for bp in BODY_PARTS:\n",
    "            left_diffs.append(ann_1_left_dict[bp][1] - ann_2_left_dict[bp][1])\n",
    "            right_diffs.append(ann_1_right_dict[bp][1] - ann_2_right_dict[bp][1])\n"
   ]
  },
  {
   "cell_type": "code",
   "execution_count": null,
   "metadata": {},
   "outputs": [],
   "source": [
    "np.mean(right_diffs)"
   ]
  },
  {
   "cell_type": "code",
   "execution_count": null,
   "metadata": {},
   "outputs": [],
   "source": []
  },
  {
   "cell_type": "code",
   "execution_count": null,
   "metadata": {},
   "outputs": [],
   "source": []
  },
  {
   "cell_type": "code",
   "execution_count": null,
   "metadata": {},
   "outputs": [],
   "source": []
  },
  {
   "cell_type": "code",
   "execution_count": null,
   "metadata": {},
   "outputs": [],
   "source": []
  }
 ],
 "metadata": {
  "kernelspec": {
   "display_name": "Python 3",
   "language": "python",
   "name": "python3"
  },
  "language_info": {
   "codemirror_mode": {
    "name": "ipython",
    "version": 3
   },
   "file_extension": ".py",
   "mimetype": "text/x-python",
   "name": "python",
   "nbconvert_exporter": "python",
   "pygments_lexer": "ipython3",
   "version": "3.6.5"
  }
 },
 "nbformat": 4,
 "nbformat_minor": 2
}
