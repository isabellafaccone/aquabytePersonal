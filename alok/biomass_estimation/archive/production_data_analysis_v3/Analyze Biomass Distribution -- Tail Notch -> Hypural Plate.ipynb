{
 "cells": [
  {
   "cell_type": "code",
   "execution_count": null,
   "metadata": {},
   "outputs": [],
   "source": [
    "import json, os\n",
    "import pandas as pd\n",
    "from matplotlib import pyplot as plt\n",
    "from collections import defaultdict\n",
    "import numpy as np\n",
    "from itertools import combinations\n",
    "from sklearn.linear_model import LinearRegression, RANSACRegressor\n",
    "from sklearn.decomposition import PCA\n",
    "from wpca import WPCA\n",
    "from sklearn.preprocessing import StandardScaler\n",
    "from aquabyte.accuracy_metrics import AccuracyMetricsGenerator\n",
    "from aquabyte.data_access_utils import S3AccessUtils, RDSAccessUtils\n",
    "from aquabyte.optics import euclidean_distance, pixel2world\n",
    "from aquabyte.visualize import Visualizer\n",
    "import random\n",
    "from scipy.stats import norm\n",
    "from PIL import Image, ImageDraw\n",
    "from urllib.parse import urlparse\n",
    "from multiprocessing import Pool\n",
    "import datetime as dt\n",
    "import pytz\n",
    "import matplotlib.dates as mdates\n",
    "myFmt = mdates.DateFormatter('%d')\n",
    "\n",
    "import matplotlib.cm as cm\n",
    "pd.set_option('display.max_rows', 500)\n",
    "pd.set_option('display.max_colwidth', 500)"
   ]
  },
  {
   "cell_type": "markdown",
   "metadata": {},
   "source": [
    "<h1> Load Data </h1>"
   ]
  },
  {
   "cell_type": "code",
   "execution_count": null,
   "metadata": {},
   "outputs": [],
   "source": [
    "f_150_eig = '/root/data/temp/results_34ff311a393b0e1ee0c885bb542e5424e51b67de_20190926_waiting_pen_depth_experiments_exp_id_10_bremnes_20190806_20190806.h5'\n",
    "f_tail_notch = '/root/data/temp/results_e4ae5e0547d81f83c8d01ea4a7086fd433a8f3f2_model_15K_20eig_tail_notch_exp_id_10_bremnes_20190806_20190806.h5'\n",
    "f_hypural_plate = '/root/data/temp/results_cec5035f3af08e7af0fe96cfc3d8b72fa0e2651e_model_15K_20eig_hypural_plate_exp_id_10_bremnes_20190806_20190806.h5'\n",
    "\n",
    "key = 'table'\n",
    "df_150_eig = pd.read_hdf(f_150_eig, key)\n",
    "df_tail_notch = pd.read_hdf(f_tail_notch, key)\n",
    "df_hypural_plate = pd.read_hdf(f_hypural_plate, key)"
   ]
  },
  {
   "cell_type": "code",
   "execution_count": null,
   "metadata": {},
   "outputs": [],
   "source": []
  },
  {
   "cell_type": "markdown",
   "metadata": {},
   "source": [
    "<h1> Predicted Weight Histogram </h1>"
   ]
  },
  {
   "cell_type": "code",
   "execution_count": null,
   "metadata": {},
   "outputs": [],
   "source": [
    "plt.figure(figsize=(20, 10))\n",
    "\n",
    "mask_150_eig = (df_150_eig.estimated_biomass_g > -2000) & (df_150_eig.estimated_biomass_g < 20000)\n",
    "mask_tail_notch = (df_tail_notch.estimated_biomass_g > -2000) & (df_tail_notch.estimated_biomass_g < 20000)\n",
    "mask_hypural_plate = (df_hypural_plate.estimated_biomass_g > -2000) & (df_hypural_plate.estimated_biomass_g < 20000)\n",
    "\n",
    "plt.hist(df_150_eig[mask_150_eig].estimated_biomass_g, bins=20, color='blue', label='150 eigenvectors', alpha=0.5)\n",
    "plt.hist(df_tail_notch[mask_tail_notch].estimated_biomass_g, bins=20, color='red', label='20 eigenvectors', alpha=0.5)\n",
    "# plt.hist(df_hypural_plate[mask_hypural_plate].estimated_biomass_g, bins=20, color='red', alpha=0.5)\n",
    "\n",
    "plt.title('Predicted biomass distribution for 8/6 Waiting Pen Deployment')\n",
    "plt.xlabel('Predicted weight (g)')\n",
    "plt.ylabel('Frequency')\n",
    "plt.legend()\n",
    "plt.grid()\n",
    "plt.show()"
   ]
  },
  {
   "cell_type": "code",
   "execution_count": null,
   "metadata": {},
   "outputs": [],
   "source": [
    "df_hypural_plate[mask_hypural_plate].estimated_biomass_g.median()"
   ]
  },
  {
   "cell_type": "code",
   "execution_count": null,
   "metadata": {},
   "outputs": [],
   "source": [
    "df_tail_notch[mask_tail_notch].estimated_biomass_g.median()"
   ]
  },
  {
   "cell_type": "code",
   "execution_count": null,
   "metadata": {},
   "outputs": [],
   "source": [
    "diffs = df_150_eig.estimated_biomass_g - df_hypural_plate.estimated_biomass_g\n"
   ]
  },
  {
   "cell_type": "code",
   "execution_count": null,
   "metadata": {},
   "outputs": [],
   "source": []
  },
  {
   "cell_type": "code",
   "execution_count": null,
   "metadata": {},
   "outputs": [],
   "source": []
  }
 ],
 "metadata": {
  "kernelspec": {
   "display_name": "Python 3",
   "language": "python",
   "name": "python3"
  },
  "language_info": {
   "codemirror_mode": {
    "name": "ipython",
    "version": 3
   },
   "file_extension": ".py",
   "mimetype": "text/x-python",
   "name": "python",
   "nbconvert_exporter": "python",
   "pygments_lexer": "ipython3",
   "version": "3.5.2"
  }
 },
 "nbformat": 4,
 "nbformat_minor": 2
}
