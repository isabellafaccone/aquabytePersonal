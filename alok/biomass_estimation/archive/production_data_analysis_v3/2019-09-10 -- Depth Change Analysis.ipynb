{
 "cells": [
  {
   "cell_type": "code",
   "execution_count": null,
   "metadata": {},
   "outputs": [],
   "source": [
    "import json, os\n",
    "import pandas as pd\n",
    "from matplotlib import pyplot as plt\n",
    "from collections import defaultdict\n",
    "import numpy as np\n",
    "from itertools import combinations\n",
    "from sklearn.linear_model import LinearRegression, RANSACRegressor\n",
    "from sklearn.decomposition import PCA\n",
    "from wpca import WPCA\n",
    "from sklearn.preprocessing import StandardScaler\n",
    "from aquabyte.accuracy_metrics import AccuracyMetricsGenerator\n",
    "from aquabyte.data_access_utils import S3AccessUtils, RDSAccessUtils\n",
    "from aquabyte.optics import euclidean_distance, pixel2world\n",
    "from aquabyte.visualize import Visualizer\n",
    "import random\n",
    "from scipy.stats import norm\n",
    "from PIL import Image, ImageDraw\n",
    "from urllib.parse import urlparse\n",
    "from multiprocessing import Pool\n",
    "import datetime as dt\n",
    "import pytz\n",
    "import matplotlib.dates as mdates\n",
    "myFmt = mdates.DateFormatter('%d')\n",
    "\n",
    "import matplotlib.cm as cm\n",
    "pd.set_option('display.max_rows', 500)\n",
    "pd.set_option('display.max_colwidth', 500)"
   ]
  },
  {
   "cell_type": "code",
   "execution_count": null,
   "metadata": {},
   "outputs": [],
   "source": []
  },
  {
   "cell_type": "markdown",
   "metadata": {},
   "source": [
    "<h1> Download all data for Waiting Pen Experiments (ID = 10, 11) </h1>"
   ]
  },
  {
   "cell_type": "code",
   "execution_count": null,
   "metadata": {},
   "outputs": [],
   "source": []
  },
  {
   "cell_type": "code",
   "execution_count": null,
   "metadata": {},
   "outputs": [],
   "source": [
    "rds_access_utils = RDSAccessUtils(json.load(open(os.environ['PROD_SQL_CREDENTIALS'])))\n",
    "query = \"\"\"\n",
    "    select * from keypoint_annotations where pen_id=46\n",
    "    and captured_at >= '2019-08-06'\n",
    "    and captured_at < '2019-08-07'\n",
    "    and keypoints is not null;\n",
    "\"\"\"\n",
    "df = rds_access_utils.extract_from_database(query)"
   ]
  },
  {
   "cell_type": "markdown",
   "metadata": {},
   "source": [
    "<h1> Load and preprocess depth data and join with existing df </h1>"
   ]
  },
  {
   "cell_type": "code",
   "execution_count": null,
   "metadata": {},
   "outputs": [],
   "source": [
    "df.captured_at = pd.to_datetime(df.captured_at)\n"
   ]
  },
  {
   "cell_type": "code",
   "execution_count": null,
   "metadata": {},
   "outputs": [],
   "source": []
  },
  {
   "cell_type": "code",
   "execution_count": null,
   "metadata": {},
   "outputs": [],
   "source": [
    "def get_timestamp(x):\n",
    "    date = x['Date']\n",
    "    day, month, year = [int(k) for k in date.split('.')]\n",
    "    time = x['time']\n",
    "    hour, minute, second = [int(k) for k in time.split(':')]\n",
    "    local_ts = dt.datetime(year, month, day, hour, minute, second)\n",
    "    local = pytz.timezone('Europe/Oslo')\n",
    "    local_dt = local.localize(local_ts, is_dst=None)\n",
    "    utc_dt = local_dt.astimezone(pytz.utc).strftime('%Y-%m-%d %H:%M:%S')\n",
    "    return utc_dt\n",
    "    "
   ]
  },
  {
   "cell_type": "code",
   "execution_count": null,
   "metadata": {},
   "outputs": [],
   "source": [
    "depth_df = pd.read_csv('/root/data/alok/biomass_estimation/playground/waiting_pen_depth_experiments.csv')\n",
    "depth_df = depth_df[depth_df.Pen == 6.0]\n",
    "depth_df = depth_df.drop(columns=['Down.1', 'Up.1'])\n",
    "times = depth_df.Down.tolist() + depth_df.Up.tolist()\n",
    "cols = depth_df.columns.tolist()\n",
    "cols.remove('Up')\n",
    "cols.remove('Down')\n",
    "depth_df = pd.concat([depth_df[cols], depth_df[cols]], axis=0)\n",
    "depth_df['time'] = times\n",
    "depth_df['ts'] = pd.DatetimeIndex(pd.to_datetime(depth_df.apply(lambda x: get_timestamp(x), axis=1))).tz_localize(tz='UTC')\n",
    "depth_df = depth_df.sort_values('ts', ascending=True)"
   ]
  },
  {
   "cell_type": "code",
   "execution_count": null,
   "metadata": {},
   "outputs": [],
   "source": [
    "df['depth'] = np.nan\n",
    "for i in range(depth_df.shape[0]-1):\n",
    "    ts = depth_df.ts.iloc[i]\n",
    "    next_ts = depth_df.ts.iloc[i+1]\n",
    "    depth = depth_df['Depth (m)'].iloc[i]\n",
    "    mask = (df.captured_at >= ts) & (df.captured_at < next_ts)\n",
    "    df.loc[mask, 'depth'] = depth\n",
    "    "
   ]
  },
  {
   "cell_type": "code",
   "execution_count": null,
   "metadata": {},
   "outputs": [],
   "source": []
  },
  {
   "cell_type": "code",
   "execution_count": null,
   "metadata": {},
   "outputs": [],
   "source": [
    "times, depths, counts = [], [], []\n",
    "for i in range(depth_df.shape[0]-1):\n",
    "    time = depth_df.time.iloc[i]\n",
    "    depth = depth_df['Depth (m)'].iloc[i]\n",
    "    ts = depth_df.ts.iloc[i]\n",
    "    next_ts = depth_df.ts.iloc[i+1]\n",
    "    mask = (df.captured_at >= ts) & (df.captured_at < next_ts)\n",
    "    count = df[mask].shape[0]\n",
    "    \n",
    "    times.append(ts)\n",
    "    depths.append(depth)\n",
    "    counts.append(count)\n",
    "    "
   ]
  },
  {
   "cell_type": "code",
   "execution_count": null,
   "metadata": {},
   "outputs": [],
   "source": []
  },
  {
   "cell_type": "code",
   "execution_count": null,
   "metadata": {},
   "outputs": [],
   "source": [
    "cm = plt.cm.get_cmap('Reds')\n",
    "\n",
    "fig, ax = plt.subplots(figsize=(15, 10))\n",
    "sc = ax.scatter(times, [-k for k in depths], c=counts, marker='s', s=600, cmap=cm)\n",
    "plt.colorbar(sc)\n",
    "plt.xlabel('Time (MM-DD HH)')\n",
    "plt.ylabel('Depth (m)')\n",
    "plt.title('Fish Density Spatiotemporal Profile (15 minute dwell time)')\n",
    "plt.grid()\n",
    "plt.show()"
   ]
  },
  {
   "cell_type": "code",
   "execution_count": null,
   "metadata": {},
   "outputs": [],
   "source": []
  },
  {
   "cell_type": "markdown",
   "metadata": {},
   "source": [
    "<h1> Same analysis as above on a different waiting pen experiment </h1>"
   ]
  },
  {
   "cell_type": "code",
   "execution_count": null,
   "metadata": {},
   "outputs": [],
   "source": [
    "rds_access_utils = RDSAccessUtils(json.load(open(os.environ['PROD_SQL_CREDENTIALS'])))\n",
    "query = \"\"\"\n",
    "    select * from keypoint_annotations where pen_id=46\n",
    "    and captured_at >= '2019-08-07'\n",
    "    and captured_at < '2019-08-08'\n",
    "    and keypoints is not null;\n",
    "\"\"\"\n",
    "df = rds_access_utils.extract_from_database(query)\n",
    "df.captured_at = pd.to_datetime(df.captured_at)\n"
   ]
  },
  {
   "cell_type": "code",
   "execution_count": null,
   "metadata": {},
   "outputs": [],
   "source": [
    "depth_df = pd.read_csv('/root/data/alok/biomass_estimation/playground/waiting_pen_depth_experiments.csv')\n",
    "depth_df = depth_df[(depth_df.Experiment == 'Bremnes_2') & (depth_df['Depth (m)'] <= 9.5)]\n",
    "\n",
    "times = depth_df.Down.tolist() + depth_df.Up.tolist() + depth_df['Down.1'].tolist() + depth_df['Up.1'].tolist()\n",
    "cols = depth_df.columns.tolist()\n",
    "cols.remove('Up')\n",
    "cols.remove('Down')\n",
    "cols.remove('Up.1')\n",
    "cols.remove('Down.1')\n",
    "depth_df = pd.concat([depth_df[cols], depth_df[cols], depth_df[cols], depth_df[cols]], axis=0)\n",
    "depth_df['time'] = times\n",
    "depth_df['ts'] = pd.DatetimeIndex(pd.to_datetime(depth_df.apply(lambda x: get_timestamp(x), axis=1))).tz_localize(tz='UTC')\n",
    "depth_df = depth_df.sort_values('ts', ascending=True)"
   ]
  },
  {
   "cell_type": "code",
   "execution_count": null,
   "metadata": {},
   "outputs": [],
   "source": [
    "df['depth'] = np.nan\n",
    "for i in range(depth_df.shape[0]-1):\n",
    "    ts = depth_df.ts.iloc[i]\n",
    "    next_ts = depth_df.ts.iloc[i+1]\n",
    "    depth = depth_df['Depth (m)'].iloc[i]\n",
    "    mask = (df.captured_at >= ts) & (df.captured_at < next_ts)\n",
    "    df.loc[mask, 'depth'] = depth\n",
    "    "
   ]
  },
  {
   "cell_type": "code",
   "execution_count": null,
   "metadata": {},
   "outputs": [],
   "source": [
    "times, depths, counts = [], [], []\n",
    "for i in range(depth_df.shape[0]-1):\n",
    "    time = depth_df.time.iloc[i]\n",
    "    depth = depth_df['Depth (m)'].iloc[i]\n",
    "    ts = depth_df.ts.iloc[i]\n",
    "    next_ts = depth_df.ts.iloc[i+1]\n",
    "    mask = (df.captured_at >= ts) & (df.captured_at < next_ts)\n",
    "    count = df[mask].shape[0]\n",
    "    \n",
    "    times.append(ts)\n",
    "    depths.append(depth)\n",
    "    counts.append(count)\n",
    "    "
   ]
  },
  {
   "cell_type": "code",
   "execution_count": null,
   "metadata": {},
   "outputs": [],
   "source": [
    "cm = plt.cm.get_cmap('Reds')\n",
    "\n",
    "fig, ax = plt.subplots(figsize=(15, 10))\n",
    "sc = ax.scatter(times, [-k for k in depths], c=counts, marker='s', s=600, cmap=cm)\n",
    "plt.colorbar(sc)\n",
    "plt.xlabel('Time (MM-DD HH)')\n",
    "plt.ylabel('Depth (m)')\n",
    "plt.title('Fish Density Spatiotemporal Profile (5 minute dwell time)')\n",
    "plt.grid()\n",
    "plt.show()"
   ]
  },
  {
   "cell_type": "code",
   "execution_count": null,
   "metadata": {},
   "outputs": [],
   "source": []
  },
  {
   "cell_type": "code",
   "execution_count": null,
   "metadata": {},
   "outputs": [],
   "source": []
  },
  {
   "cell_type": "code",
   "execution_count": null,
   "metadata": {},
   "outputs": [],
   "source": []
  },
  {
   "cell_type": "code",
   "execution_count": null,
   "metadata": {},
   "outputs": [],
   "source": []
  }
 ],
 "metadata": {
  "kernelspec": {
   "display_name": "Python 3",
   "language": "python",
   "name": "python3"
  },
  "language_info": {
   "codemirror_mode": {
    "name": "ipython",
    "version": 3
   },
   "file_extension": ".py",
   "mimetype": "text/x-python",
   "name": "python",
   "nbconvert_exporter": "python",
   "pygments_lexer": "ipython3",
   "version": "3.6.5"
  }
 },
 "nbformat": 4,
 "nbformat_minor": 2
}
