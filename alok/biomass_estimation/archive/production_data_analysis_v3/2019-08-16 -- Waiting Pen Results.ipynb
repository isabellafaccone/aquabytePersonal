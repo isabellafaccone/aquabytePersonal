{
 "cells": [
  {
   "cell_type": "code",
   "execution_count": null,
   "metadata": {},
   "outputs": [],
   "source": [
    "import glob\n",
    "import os\n",
    "from matplotlib import pyplot as plt\n",
    "import numpy as np\n",
    "import pandas as pd\n",
    "import matplotlib\n",
    "from aquabyte.visualize import Visualizer\n",
    "from aquabyte.data_access_utils import S3AccessUtils, RDSAccessUtils\n",
    "import json\n"
   ]
  },
  {
   "cell_type": "code",
   "execution_count": null,
   "metadata": {},
   "outputs": [],
   "source": []
  },
  {
   "cell_type": "code",
   "execution_count": null,
   "metadata": {},
   "outputs": [],
   "source": [
    "datasets = [\n",
    "    {\n",
    "        \"dataset\": \"vikingfjord_experiment_id_2\",\n",
    "        \"credentials\": \"PROD_SQL_CREDENTIALS\",\n",
    "        \"sql_query\": \"select * from keypoint_annotations where pen_id=17 and keypoints is not null and is_qa=true and captured_at > '2019-07-01' and captured_at < '2019-07-09';\",\n",
    "        \"weight\": 5.96\n",
    "    },\n",
    "    {\n",
    "        \"dataset\": \"vikingfjord_experiment_id_3\",\n",
    "        \"credentials\": \"PROD_SQL_CREDENTIALS\",\n",
    "        \"sql_query\": \"select * from keypoint_annotations where pen_id=17 and keypoints is not null and is_qa=true and captured_at > '2019-07-09';\",\n",
    "        \"weight\": 5.71 \n",
    "    },\n",
    "    {\n",
    "        \"dataset\": \"bremnes_experiment_id_4\",\n",
    "        \"credentials\": \"PROD_SQL_CREDENTIALS\",\n",
    "        \"sql_query\": \"select * from keypoint_annotations where pen_id=46 and keypoints is not null and is_qa=true and captured_at > '2019-07-19' and captured_at < '2019-07-22';\",\n",
    "        \"weight\": 5.46\n",
    "    },\n",
    "    {\n",
    "        \"dataset\": \"bremnes_experiment_id_5\",\n",
    "        \"credentials\": \"PROD_SQL_CREDENTIALS\",\n",
    "        \"sql_query\": \"select * from keypoint_annotations where pen_id=47 and keypoints is not null and is_qa=true and captured_at > '2019-07-19' and captured_at < '2019-07-22';\",\n",
    "        \"weight\": 5.46\n",
    "    },\n",
    "    {\n",
    "        \"dataset\": \"bremnes_experiment_id_6\",\n",
    "        \"credentials\": \"PROD_SQL_CREDENTIALS\",\n",
    "        \"sql_query\": \"select * from keypoint_annotations where pen_id=46 and keypoints is not null and is_qa=true and captured_at > '2019-07-22' and captured_at < '2019-08-01';\",\n",
    "        \"weight\": 4.7\n",
    "\n",
    "    },\n",
    "    {\n",
    "        \"dataset\": \"bremnes_experiment_id_7\",\n",
    "        \"credentials\": \"PROD_SQL_CREDENTIALS\",\n",
    "        \"sql_query\": \"select * from keypoint_annotations where pen_id=47 and keypoints is not null and is_qa=true and captured_at > '2019-07-22' and captured_at < '2019-08-01';\",\n",
    "        \"weight\": 4.7\n",
    "    }\n",
    "]"
   ]
  },
  {
   "cell_type": "code",
   "execution_count": null,
   "metadata": {},
   "outputs": [],
   "source": [
    "weight_by_dataset = {item['dataset']: item['weight'] for item in datasets}"
   ]
  },
  {
   "cell_type": "code",
   "execution_count": null,
   "metadata": {},
   "outputs": [],
   "source": []
  },
  {
   "cell_type": "code",
   "execution_count": null,
   "metadata": {},
   "outputs": [],
   "source": [
    "files = sorted(glob.glob('/root/data/temp/results_f5cfd03d4622c24879cfa9d5f6427bffc4668205_unweighted_model_3800_*.h5'))\n"
   ]
  },
  {
   "cell_type": "code",
   "execution_count": null,
   "metadata": {},
   "outputs": [],
   "source": [
    "files"
   ]
  },
  {
   "cell_type": "code",
   "execution_count": null,
   "metadata": {},
   "outputs": [],
   "source": []
  },
  {
   "cell_type": "code",
   "execution_count": null,
   "metadata": {},
   "outputs": [],
   "source": [
    "dataset_names = []\n",
    "weights = []\n",
    "preds = []\n",
    "pct_errors = []\n",
    "for f in files:\n",
    "    \n",
    "    dataset = f.split('/')[-1].split('_unweighted_model_3800_')[-1].replace('.h5', '')\n",
    "    dataset_names.append(dataset)\n",
    "    df = pd.read_hdf(f, 'table')\n",
    "    mask = (df.estimated_biomass_g > 0) & (df.estimated_biomass_g < 20000)\n",
    "    pred = df[mask].estimated_biomass_g.mean()\n",
    "    weight = weight_by_dataset[dataset] * 1e3\n",
    "    weights.append(weight)\n",
    "    preds.append(pred)\n",
    "    pct_error = 100.0 * ((pred - weight) / weight)\n",
    "    pct_errors.append(pct_error)\n",
    "    "
   ]
  },
  {
   "cell_type": "code",
   "execution_count": null,
   "metadata": {},
   "outputs": [],
   "source": [
    "font = {'family' : 'normal',\n",
    "        'weight' : 'bold',\n",
    "        'size'   : 22}\n",
    "\n",
    "matplotlib.rc('font', **font)\n",
    "matplotlib.rc('xtick', labelsize=10) \n",
    "matplotlib.rc('ytick', labelsize=20) \n",
    "\n"
   ]
  },
  {
   "cell_type": "code",
   "execution_count": null,
   "metadata": {},
   "outputs": [],
   "source": [
    "plt.figure(figsize=(20, 10))\n",
    "plt.bar(np.arange(len(pct_errors)), pct_errors)\n",
    "plt.xticks(np.arange(len(dataset_names)), dataset_names)\n",
    "plt.title('Waiting Pen Biomass Error')\n",
    "plt.xlabel('Deployment')\n",
    "plt.ylabel('% Error in Average Biomass')\n",
    "plt.grid()\n",
    "plt.show()"
   ]
  },
  {
   "cell_type": "code",
   "execution_count": null,
   "metadata": {},
   "outputs": [],
   "source": []
  },
  {
   "cell_type": "code",
   "execution_count": null,
   "metadata": {},
   "outputs": [],
   "source": []
  },
  {
   "cell_type": "code",
   "execution_count": null,
   "metadata": {},
   "outputs": [],
   "source": [
    "f = '/root/data/temp/results_f5cfd03d4622c24879cfa9d5f6427bffc4668205_unweighted_model_3800_vikingfjord_experiment_id_2.h5'\n",
    "df = pd.read_hdf(f, 'table')"
   ]
  },
  {
   "cell_type": "code",
   "execution_count": null,
   "metadata": {},
   "outputs": [],
   "source": [
    "s3_access_utils = S3AccessUtils('/root/data')\n",
    "sql_credentials = json.load(open(os.environ[\"PROD_SQL_CREDENTIALS\"]))\n",
    "rds_access_utils = RDSAccessUtils(sql_credentials)\n"
   ]
  },
  {
   "cell_type": "code",
   "execution_count": null,
   "metadata": {},
   "outputs": [],
   "source": [
    "df.id"
   ]
  },
  {
   "cell_type": "code",
   "execution_count": null,
   "metadata": {},
   "outputs": [],
   "source": []
  },
  {
   "cell_type": "code",
   "execution_count": null,
   "metadata": {},
   "outputs": [],
   "source": []
  },
  {
   "cell_type": "code",
   "execution_count": null,
   "metadata": {},
   "outputs": [],
   "source": [
    "v = Visualizer(rds_access_utils=rds_access_utils, s3_access_utils=s3_access_utils)"
   ]
  },
  {
   "cell_type": "code",
   "execution_count": null,
   "metadata": {},
   "outputs": [],
   "source": [
    "%matplotlib inline\n",
    "v.load_data(553461)\n",
    "v.display_crops(overlay_keypoints=True)"
   ]
  },
  {
   "cell_type": "code",
   "execution_count": null,
   "metadata": {},
   "outputs": [],
   "source": [
    "%matplotlib notebook\n",
    "v.display_3d_keypoints()"
   ]
  },
  {
   "cell_type": "code",
   "execution_count": null,
   "metadata": {},
   "outputs": [],
   "source": []
  },
  {
   "cell_type": "code",
   "execution_count": null,
   "metadata": {},
   "outputs": [],
   "source": [
    "df[df.id == 553668].world_keypoints.iloc[0]"
   ]
  },
  {
   "cell_type": "code",
   "execution_count": null,
   "metadata": {},
   "outputs": [],
   "source": []
  },
  {
   "cell_type": "code",
   "execution_count": null,
   "metadata": {},
   "outputs": [],
   "source": []
  },
  {
   "cell_type": "code",
   "execution_count": null,
   "metadata": {},
   "outputs": [],
   "source": []
  },
  {
   "cell_type": "code",
   "execution_count": null,
   "metadata": {},
   "outputs": [],
   "source": []
  },
  {
   "cell_type": "code",
   "execution_count": null,
   "metadata": {},
   "outputs": [],
   "source": []
  },
  {
   "cell_type": "code",
   "execution_count": null,
   "metadata": {},
   "outputs": [],
   "source": []
  },
  {
   "cell_type": "code",
   "execution_count": null,
   "metadata": {},
   "outputs": [],
   "source": []
  },
  {
   "cell_type": "code",
   "execution_count": null,
   "metadata": {},
   "outputs": [],
   "source": []
  }
 ],
 "metadata": {
  "kernelspec": {
   "display_name": "Python 3",
   "language": "python",
   "name": "python3"
  },
  "language_info": {
   "codemirror_mode": {
    "name": "ipython",
    "version": 3
   },
   "file_extension": ".py",
   "mimetype": "text/x-python",
   "name": "python",
   "nbconvert_exporter": "python",
   "pygments_lexer": "ipython3",
   "version": "3.5.2"
  }
 },
 "nbformat": 4,
 "nbformat_minor": 2
}
