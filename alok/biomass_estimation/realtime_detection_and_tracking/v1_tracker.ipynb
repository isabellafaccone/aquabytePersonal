{
 "cells": [
  {
   "cell_type": "code",
   "execution_count": null,
   "metadata": {},
   "outputs": [],
   "source": [
    "%load_ext autoreload\n",
    "%autoreload 2\n",
    "\n",
    "import os\n",
    "import cv2\n",
    "import numpy as np\n",
    "from tqdm.auto import tqdm\n",
    "tqdm.pandas()\n",
    "from research.utils.data_access_utils import RDSAccessUtils\n",
    "from research_lib.utils.data_access_utils import S3AccessUtils\n",
    "from tracker_utils import process_annotated_crops, overlay_crops_on_image, stitch_frames_into_video, OUTPUT_DIR\n",
    "from PIL import Image\n"
   ]
  },
  {
   "cell_type": "code",
   "execution_count": null,
   "metadata": {},
   "outputs": [],
   "source": []
  },
  {
   "cell_type": "markdown",
   "metadata": {},
   "source": [
    "<h1> Load annotated data </h1>"
   ]
  },
  {
   "cell_type": "code",
   "execution_count": null,
   "metadata": {},
   "outputs": [],
   "source": [
    "plali_sql_credentials = {\n",
    "    'host': 'aquabyte-research-db.cfwlu7jbdcqj.eu-west-1.rds.amazonaws.com',\n",
    "    'port': 5432,\n",
    "    'user': 'plali',\n",
    "    'password': 'amethyst that lift dune',\n",
    "    'database': 'aquabyte_prod'\n",
    "}\n",
    "\n",
    "rds = RDSAccessUtils(plali_sql_credentials)\n",
    "s3 = S3AccessUtils('/root/data')"
   ]
  },
  {
   "cell_type": "code",
   "execution_count": null,
   "metadata": {},
   "outputs": [],
   "source": []
  },
  {
   "cell_type": "code",
   "execution_count": null,
   "metadata": {},
   "outputs": [],
   "source": [
    "query = \"\"\"\n",
    "    select * from plali.plali_annotations x\n",
    "    inner join \n",
    "    ( select a.id as plali_image_id, a.images, a.priority, a.metadata, b.id as workflow_id, b.name from plali.plali_images a\n",
    "    inner join plali.plali_workflows b\n",
    "    on a.workflow_id = b.id ) y\n",
    "    on x.plali_image_id = y.plali_image_id\n",
    "    where workflow_id = '00000000-0000-0000-0000-000000000057';\n",
    "\"\"\"\n",
    "\n",
    "df = rds.extract_from_database(query).sort_values('priority', ascending=False)"
   ]
  },
  {
   "cell_type": "code",
   "execution_count": null,
   "metadata": {},
   "outputs": [],
   "source": []
  },
  {
   "cell_type": "markdown",
   "metadata": {},
   "source": [
    "<h1> Generate video with head annotations overlayed </h1>"
   ]
  },
  {
   "cell_type": "code",
   "execution_count": null,
   "metadata": {},
   "outputs": [],
   "source": [
    "output_fs = []\n",
    "\n",
    "count = 0\n",
    "for idx, row in tqdm(df.iterrows()):\n",
    "    anns = [ann for ann in row.annotation['annotations'] if ann['category'] == 'HEAD']\n",
    "    processed_anns = process_annotated_crops(anns)\n",
    "    image_s3_url = row.images[0]\n",
    "    image_s3_url_components = image_s3_url.replace('s3://', '').split('/')\n",
    "    bucket, key = image_s3_url_components[0], os.path.join(*image_s3_url_components[1:])\n",
    "    image_f = s3.download_from_s3(bucket, key)\n",
    "    output_f = overlay_crops_on_image(image_f, processed_anns)\n",
    "    output_fs.append(output_f)\n",
    "        \n"
   ]
  },
  {
   "cell_type": "code",
   "execution_count": null,
   "metadata": {},
   "outputs": [],
   "source": [
    "video_f = os.path.join(OUTPUT_DIR, 'gopro_ann_video.avi')\n",
    "stitch_frames_into_video(output_fs, video_f)"
   ]
  },
  {
   "cell_type": "code",
   "execution_count": null,
   "metadata": {},
   "outputs": [],
   "source": [
    "OUTPUT_DIR"
   ]
  },
  {
   "cell_type": "code",
   "execution_count": null,
   "metadata": {},
   "outputs": [],
   "source": []
  },
  {
   "cell_type": "code",
   "execution_count": null,
   "metadata": {},
   "outputs": [],
   "source": []
  },
  {
   "cell_type": "markdown",
   "metadata": {},
   "source": [
    "<h1> Run SORT </h1>"
   ]
  },
  {
   "cell_type": "code",
   "execution_count": null,
   "metadata": {},
   "outputs": [],
   "source": [
    "from sort import Sort"
   ]
  },
  {
   "cell_type": "code",
   "execution_count": null,
   "metadata": {},
   "outputs": [],
   "source": [
    "s = Sort(max_age=100, iou_threshold=0.15)\n",
    "output_fs = []\n",
    "count = 0\n",
    "for idx, row in df.iterrows():\n",
    "    if count % 10 == 0:\n",
    "        anns = [ann for ann in row.annotation['annotations'] if ann['category'] == 'HEAD']\n",
    "        try:\n",
    "            processed_anns = process_annotated_crops(anns)\n",
    "        except KeyError:\n",
    "            s.update()\n",
    "            trackers_list.append(trackers)\n",
    "            continue\n",
    "        X = np.array([list(p['bbox']) + [1.0] for p in processed_anns])\n",
    "        if len(X) > 0:\n",
    "            trackers = s.update(X)\n",
    "        else:\n",
    "            trackers = s.update()\n",
    "            \n",
    "        image_s3_url = row.images[0]\n",
    "        image_s3_url_components = image_s3_url.replace('s3://', '').split('/')\n",
    "        bucket, key = image_s3_url_components[0], os.path.join(*image_s3_url_components[1:])\n",
    "        image_f = s3.download_from_s3(bucket, key)\n",
    "        output_f = overlay_crops_on_image(image_f, trackers)\n",
    "        output_fs.append(output_f)\n",
    "        \n",
    "    \n",
    "    count += 1\n",
    "\n"
   ]
  },
  {
   "cell_type": "code",
   "execution_count": null,
   "metadata": {},
   "outputs": [],
   "source": []
  },
  {
   "cell_type": "code",
   "execution_count": null,
   "metadata": {},
   "outputs": [],
   "source": [
    "count = 0\n",
    "\n",
    "for idx, row in df.iterrows():\n",
    "    \n",
    "    if count % 10 == 0:\n",
    "        print(count)\n",
    "    \n",
    "    trackers = trackers_list[count]\n",
    "\n",
    "    image_s3_url = row.images[0]\n",
    "    image_s3_url_components = image_s3_url.replace('s3://', '').split('/')\n",
    "    bucket, key = image_s3_url_components[0], os.path.join(*image_s3_url_components[1:])\n",
    "    image_f = s3.download_from_s3(bucket, key)\n",
    "    output_f = overlay_crops_on_image(image_f, trackers)\n",
    "    output_fs.append(output_f)\n",
    "    count += 1\n",
    "    \n",
    "    \n",
    "    \n"
   ]
  },
  {
   "cell_type": "code",
   "execution_count": null,
   "metadata": {},
   "outputs": [],
   "source": []
  },
  {
   "cell_type": "code",
   "execution_count": null,
   "metadata": {},
   "outputs": [],
   "source": [
    "Image.open(output_f)"
   ]
  },
  {
   "cell_type": "code",
   "execution_count": null,
   "metadata": {},
   "outputs": [],
   "source": []
  },
  {
   "cell_type": "code",
   "execution_count": null,
   "metadata": {},
   "outputs": [],
   "source": []
  },
  {
   "cell_type": "code",
   "execution_count": null,
   "metadata": {},
   "outputs": [],
   "source": []
  },
  {
   "cell_type": "code",
   "execution_count": null,
   "metadata": {},
   "outputs": [],
   "source": []
  },
  {
   "cell_type": "code",
   "execution_count": null,
   "metadata": {},
   "outputs": [],
   "source": []
  },
  {
   "cell_type": "code",
   "execution_count": null,
   "metadata": {},
   "outputs": [],
   "source": []
  },
  {
   "cell_type": "code",
   "execution_count": null,
   "metadata": {},
   "outputs": [],
   "source": []
  },
  {
   "cell_type": "code",
   "execution_count": null,
   "metadata": {},
   "outputs": [],
   "source": []
  },
  {
   "cell_type": "code",
   "execution_count": null,
   "metadata": {},
   "outputs": [],
   "source": []
  },
  {
   "cell_type": "code",
   "execution_count": null,
   "metadata": {},
   "outputs": [],
   "source": []
  },
  {
   "cell_type": "code",
   "execution_count": null,
   "metadata": {},
   "outputs": [],
   "source": []
  },
  {
   "cell_type": "code",
   "execution_count": null,
   "metadata": {},
   "outputs": [],
   "source": []
  },
  {
   "cell_type": "code",
   "execution_count": null,
   "metadata": {},
   "outputs": [],
   "source": []
  },
  {
   "cell_type": "code",
   "execution_count": null,
   "metadata": {},
   "outputs": [],
   "source": []
  },
  {
   "cell_type": "code",
   "execution_count": null,
   "metadata": {},
   "outputs": [],
   "source": []
  },
  {
   "cell_type": "code",
   "execution_count": null,
   "metadata": {},
   "outputs": [],
   "source": []
  },
  {
   "cell_type": "code",
   "execution_count": null,
   "metadata": {},
   "outputs": [],
   "source": []
  },
  {
   "cell_type": "code",
   "execution_count": null,
   "metadata": {},
   "outputs": [],
   "source": []
  },
  {
   "cell_type": "code",
   "execution_count": null,
   "metadata": {},
   "outputs": [],
   "source": []
  },
  {
   "cell_type": "code",
   "execution_count": null,
   "metadata": {},
   "outputs": [],
   "source": []
  },
  {
   "cell_type": "code",
   "execution_count": null,
   "metadata": {},
   "outputs": [],
   "source": []
  }
 ],
 "metadata": {
  "kernelspec": {
   "display_name": "Python 3",
   "language": "python",
   "name": "python3"
  },
  "language_info": {
   "codemirror_mode": {
    "name": "ipython",
    "version": 3
   },
   "file_extension": ".py",
   "mimetype": "text/x-python",
   "name": "python",
   "nbconvert_exporter": "python",
   "pygments_lexer": "ipython3",
   "version": "3.6.5"
  }
 },
 "nbformat": 4,
 "nbformat_minor": 2
}
