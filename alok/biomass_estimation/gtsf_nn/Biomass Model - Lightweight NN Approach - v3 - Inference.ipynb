{
 "cells": [
  {
   "cell_type": "code",
   "execution_count": 1,
   "metadata": {},
   "outputs": [],
   "source": [
    "import datetime as dt\n",
    "import json, os\n",
    "import pandas as pd\n",
    "from matplotlib import pyplot as plt\n",
    "from collections import defaultdict\n",
    "import numpy as np\n",
    "from itertools import combinations\n",
    "from aquabyte.accuracy_metrics import AccuracyMetricsGenerator\n",
    "from aquabyte.data_access_utils import S3AccessUtils, RDSAccessUtils\n",
    "from aquabyte.visualize import Visualizer, _normalize_world_keypoints\n",
    "from aquabyte.optics import euclidean_distance, pixel2world, depth_from_disp, convert_to_world_point\n",
    "from aquabyte.data_loader import \n",
    "import random\n",
    "import torch\n",
    "from torch.utils.data import Dataset, DataLoader\n",
    "from torch.utils.data import Dataset, DataLoader\n",
    "from torchvision import transforms, utils\n",
    "from sklearn.model_selection import train_test_split\n",
    "from copy import copy\n",
    "\n",
    "pd.set_option('display.max_rows', 500)"
   ]
  },
  {
   "cell_type": "code",
   "execution_count": null,
   "metadata": {},
   "outputs": [],
   "source": []
  },
  {
   "cell_type": "markdown",
   "metadata": {},
   "source": [
    "<h1> Get all IMR data </h1>"
   ]
  },
  {
   "cell_type": "code",
   "execution_count": 8,
   "metadata": {},
   "outputs": [],
   "source": [
    "rds_access_utils = RDSAccessUtils(json.load(open(os.environ['PROD_SQL_CREDENTIALS'])))\n",
    "query = \"\"\"\n",
    "    select * from keypoint_annotations where pen_id=61 and captured_at >= '2019-09-13' and captured_at <= '2019-09-20';\n",
    "\"\"\"\n",
    "df = rds_access_utils.extract_from_database(query)"
   ]
  },
  {
   "cell_type": "code",
   "execution_count": null,
   "metadata": {},
   "outputs": [],
   "source": []
  },
  {
   "cell_type": "code",
   "execution_count": 11,
   "metadata": {},
   "outputs": [],
   "source": [
    "rds_access_utils = RDSAccessUtils(json.load(open(os.environ['PROD_SQL_CREDENTIALS'])))\n",
    "query = \"\"\"\n",
    "    select * from keypoint_annotations \n",
    "    where pen_id=61 and captured_at >= '2019-09-13' and captured_at <= '2019-09-20'\n",
    "    and keypoints is not null\n",
    "    order by captured_at\n",
    "    limit 10;\n",
    "\"\"\"\n",
    "df = rds_access_utils.extract_from_database(query)"
   ]
  },
  {
   "cell_type": "code",
   "execution_count": null,
   "metadata": {},
   "outputs": [],
   "source": []
  },
  {
   "cell_type": "code",
   "execution_count": 13,
   "metadata": {},
   "outputs": [
    {
     "name": "stdout",
     "output_type": "stream",
     "text": [
      "[{'xCrop': 3545, 'yCrop': 574, 'xFrame': 4056, 'yFrame': 1816, 'keypointType': 'UPPER_LIP'}, {'xCrop': 3507, 'yCrop': 593, 'xFrame': 4018, 'yFrame': 1835, 'keypointType': 'EYE'}, {'xCrop': 2726, 'yCrop': 198, 'xFrame': 3237, 'yFrame': 1440, 'keypointType': 'DORSAL_FIN'}, {'xCrop': 1416, 'yCrop': 289, 'xFrame': 1927, 'yFrame': 1531, 'keypointType': 'ADIPOSE_FIN'}, {'xCrop': 935, 'yCrop': 344, 'xFrame': 1446, 'yFrame': 1586, 'keypointType': 'UPPER_PRECAUDAL_PIT'}, {'xCrop': 585, 'yCrop': 483, 'xFrame': 1096, 'yFrame': 1725, 'keypointType': 'HYPURAL_PLATE'}, {'xCrop': 318, 'yCrop': 486, 'xFrame': 829, 'yFrame': 1728, 'keypointType': 'TAIL_NOTCH'}, {'xCrop': 937, 'yCrop': 643, 'xFrame': 1448, 'yFrame': 1885, 'keypointType': 'LOWER_PRECAUDAL_PIT'}, {'xCrop': 1627, 'yCrop': 841, 'xFrame': 2138, 'yFrame': 2083, 'keypointType': 'ANAL_FIN'}, {'xCrop': 2383, 'yCrop': 954, 'xFrame': 2894, 'yFrame': 2196, 'keypointType': 'PELVIC_FIN'}, {'xCrop': 3240, 'yCrop': 789, 'xFrame': 3751, 'yFrame': 2031, 'keypointType': 'PECTORAL_FIN'}]\n",
      "[{'xCrop': 3483, 'yCrop': 549, 'xFrame': 3483, 'yFrame': 1800, 'keypointType': 'UPPER_LIP'}, {'xCrop': 3424, 'yCrop': 588, 'xFrame': 3424, 'yFrame': 1839, 'keypointType': 'EYE'}, {'xCrop': 2569, 'yCrop': 191, 'xFrame': 2569, 'yFrame': 1442, 'keypointType': 'DORSAL_FIN'}, {'xCrop': 1192, 'yCrop': 278, 'xFrame': 1192, 'yFrame': 1529, 'keypointType': 'ADIPOSE_FIN'}, {'xCrop': 695, 'yCrop': 337, 'xFrame': 695, 'yFrame': 1588, 'keypointType': 'UPPER_PRECAUDAL_PIT'}, {'xCrop': 330, 'yCrop': 483, 'xFrame': 330, 'yFrame': 1734, 'keypointType': 'HYPURAL_PLATE'}, {'xCrop': 42, 'yCrop': 482, 'xFrame': 42, 'yFrame': 1733, 'keypointType': 'TAIL_NOTCH'}, {'xCrop': 702, 'yCrop': 634, 'xFrame': 702, 'yFrame': 1885, 'keypointType': 'LOWER_PRECAUDAL_PIT'}, {'xCrop': 1418, 'yCrop': 825, 'xFrame': 1418, 'yFrame': 2076, 'keypointType': 'ANAL_FIN'}, {'xCrop': 2229, 'yCrop': 944, 'xFrame': 2229, 'yFrame': 2195, 'keypointType': 'PELVIC_FIN'}, {'xCrop': 3134, 'yCrop': 790, 'xFrame': 3134, 'yFrame': 2041, 'keypointType': 'PECTORAL_FIN'}]\n",
      "[{'xCrop': 2037, 'yCrop': 209, 'xFrame': 2491, 'yFrame': 2281, 'keypointType': 'UPPER_LIP'}, {'xCrop': 1453, 'yCrop': 67, 'xFrame': 1907, 'yFrame': 2139, 'keypointType': 'DORSAL_FIN'}, {'xCrop': 712, 'yCrop': 275, 'xFrame': 1166, 'yFrame': 2347, 'keypointType': 'ADIPOSE_FIN'}, {'xCrop': 414, 'yCrop': 397, 'xFrame': 868, 'yFrame': 2469, 'keypointType': 'UPPER_PRECAUDAL_PIT'}, {'xCrop': 212, 'yCrop': 529, 'xFrame': 666, 'yFrame': 2601, 'keypointType': 'HYPURAL_PLATE'}, {'xCrop': 57, 'yCrop': 523, 'xFrame': 511, 'yFrame': 2595, 'keypointType': 'TAIL_NOTCH'}, {'xCrop': 450, 'yCrop': 562, 'xFrame': 904, 'yFrame': 2634, 'keypointType': 'LOWER_PRECAUDAL_PIT'}, {'xCrop': 835, 'yCrop': 590, 'xFrame': 1289, 'yFrame': 2662, 'keypointType': 'ANAL_FIN'}, {'xCrop': 1276, 'yCrop': 587, 'xFrame': 1730, 'yFrame': 2659, 'keypointType': 'PELVIC_FIN'}, {'xCrop': 1782, 'yCrop': 398, 'xFrame': 2236, 'yFrame': 2470, 'keypointType': 'PECTORAL_FIN'}, {'xCrop': 1972, 'yCrop': 245, 'xFrame': 2426, 'yFrame': 2317, 'keypointType': 'EYE'}]\n",
      "[{'xCrop': 2100, 'yCrop': 213, 'xFrame': 2177, 'yFrame': 2275, 'keypointType': 'UPPER_LIP'}, {'xCrop': 2018, 'yCrop': 251, 'xFrame': 2095, 'yFrame': 2313, 'keypointType': 'EYE'}, {'xCrop': 1533, 'yCrop': 76, 'xFrame': 1610, 'yFrame': 2138, 'keypointType': 'DORSAL_FIN'}, {'xCrop': 675, 'yCrop': 295, 'xFrame': 752, 'yFrame': 2357, 'keypointType': 'ADIPOSE_FIN'}, {'xCrop': 402, 'yCrop': 406, 'xFrame': 479, 'yFrame': 2468, 'keypointType': 'UPPER_PRECAUDAL_PIT'}, {'xCrop': 189, 'yCrop': 534, 'xFrame': 266, 'yFrame': 2596, 'keypointType': 'HYPURAL_PLATE'}, {'xCrop': 53, 'yCrop': 514, 'xFrame': 130, 'yFrame': 2576, 'keypointType': 'TAIL_NOTCH'}, {'xCrop': 439, 'yCrop': 572, 'xFrame': 516, 'yFrame': 2634, 'keypointType': 'LOWER_PRECAUDAL_PIT'}, {'xCrop': 834, 'yCrop': 601, 'xFrame': 911, 'yFrame': 2663, 'keypointType': 'ANAL_FIN'}, {'xCrop': 1294, 'yCrop': 600, 'xFrame': 1371, 'yFrame': 2662, 'keypointType': 'PELVIC_FIN'}, {'xCrop': 1821, 'yCrop': 412, 'xFrame': 1898, 'yFrame': 2474, 'keypointType': 'PECTORAL_FIN'}]\n",
      "[{'xCrop': 2720, 'yCrop': 503, 'xFrame': 3687, 'yFrame': 1054, 'keypointType': 'UPPER_LIP'}, {'xCrop': 2699, 'yCrop': 562, 'xFrame': 3666, 'yFrame': 1113, 'keypointType': 'EYE'}, {'xCrop': 2141, 'yCrop': 287, 'xFrame': 3108, 'yFrame': 838, 'keypointType': 'DORSAL_FIN'}, {'xCrop': 1068, 'yCrop': 331, 'xFrame': 2035, 'yFrame': 882, 'keypointType': 'ADIPOSE_FIN'}, {'xCrop': 720, 'yCrop': 365, 'xFrame': 1687, 'yFrame': 916, 'keypointType': 'UPPER_PRECAUDAL_PIT'}, {'xCrop': 459, 'yCrop': 465, 'xFrame': 1426, 'yFrame': 1016, 'keypointType': 'HYPURAL_PLATE'}, {'xCrop': 269, 'yCrop': 450, 'xFrame': 1236, 'yFrame': 1001, 'keypointType': 'TAIL_NOTCH'}, {'xCrop': 729, 'yCrop': 604, 'xFrame': 1696, 'yFrame': 1155, 'keypointType': 'LOWER_PRECAUDAL_PIT'}, {'xCrop': 1234, 'yCrop': 761, 'xFrame': 2201, 'yFrame': 1312, 'keypointType': 'ANAL_FIN'}, {'xCrop': 1839, 'yCrop': 871, 'xFrame': 2806, 'yFrame': 1422, 'keypointType': 'PELVIC_FIN'}, {'xCrop': 2486, 'yCrop': 730, 'xFrame': 3453, 'yFrame': 1281, 'keypointType': 'PECTORAL_FIN'}]\n",
      "[{'xCrop': 2821, 'yCrop': 476, 'xFrame': 3217, 'yFrame': 1038, 'keypointType': 'UPPER_LIP'}, {'xCrop': 2791, 'yCrop': 550, 'xFrame': 3187, 'yFrame': 1112, 'keypointType': 'EYE'}, {'xCrop': 2183, 'yCrop': 281, 'xFrame': 2579, 'yFrame': 843, 'keypointType': 'DORSAL_FIN'}, {'xCrop': 1062, 'yCrop': 321, 'xFrame': 1458, 'yFrame': 883, 'keypointType': 'ADIPOSE_FIN'}, {'xCrop': 722, 'yCrop': 356, 'xFrame': 1118, 'yFrame': 918, 'keypointType': 'UPPER_PRECAUDAL_PIT'}, {'xCrop': 436, 'yCrop': 476, 'xFrame': 832, 'yFrame': 1038, 'keypointType': 'HYPURAL_PLATE'}, {'xCrop': 236, 'yCrop': 450, 'xFrame': 632, 'yFrame': 1012, 'keypointType': 'TAIL_NOTCH'}, {'xCrop': 730, 'yCrop': 588, 'xFrame': 1126, 'yFrame': 1150, 'keypointType': 'LOWER_PRECAUDAL_PIT'}, {'xCrop': 1254, 'yCrop': 749, 'xFrame': 1650, 'yFrame': 1311, 'keypointType': 'ANAL_FIN'}, {'xCrop': 1883, 'yCrop': 856, 'xFrame': 2279, 'yFrame': 1418, 'keypointType': 'PELVIC_FIN'}, {'xCrop': 2587, 'yCrop': 728, 'xFrame': 2983, 'yFrame': 1290, 'keypointType': 'PECTORAL_FIN'}]\n",
      "[{'xCrop': 1550, 'yCrop': 104, 'xFrame': 2461, 'yFrame': 1955, 'keypointType': 'UPPER_LIP'}, {'xCrop': 1496, 'yCrop': 130, 'xFrame': 2407, 'yFrame': 1981, 'keypointType': 'EYE'}, {'xCrop': 1022, 'yCrop': 80, 'xFrame': 1933, 'yFrame': 1931, 'keypointType': 'DORSAL_FIN'}, {'xCrop': 505, 'yCrop': 265, 'xFrame': 1416, 'yFrame': 2116, 'keypointType': 'ADIPOSE_FIN'}, {'xCrop': 334, 'yCrop': 344, 'xFrame': 1245, 'yFrame': 2195, 'keypointType': 'UPPER_PRECAUDAL_PIT'}, {'xCrop': 192, 'yCrop': 455, 'xFrame': 1103, 'yFrame': 2306, 'keypointType': 'HYPURAL_PLATE'}, {'xCrop': 79, 'yCrop': 475, 'xFrame': 990, 'yFrame': 2326, 'keypointType': 'TAIL_NOTCH'}, {'xCrop': 352, 'yCrop': 473, 'xFrame': 1263, 'yFrame': 2324, 'keypointType': 'LOWER_PRECAUDAL_PIT'}, {'xCrop': 627, 'yCrop': 466, 'xFrame': 1538, 'yFrame': 2317, 'keypointType': 'ANAL_FIN'}, {'xCrop': 986, 'yCrop': 405, 'xFrame': 1897, 'yFrame': 2256, 'keypointType': 'PELVIC_FIN'}, {'xCrop': 1387, 'yCrop': 267, 'xFrame': 2298, 'yFrame': 2118, 'keypointType': 'PECTORAL_FIN'}]\n",
      "[{'xCrop': 1698, 'yCrop': 80, 'xFrame': 2131, 'yFrame': 1953, 'keypointType': 'UPPER_LIP'}, {'xCrop': 1603, 'yCrop': 127, 'xFrame': 2036, 'yFrame': 2000, 'keypointType': 'EYE'}, {'xCrop': 1153, 'yCrop': 59, 'xFrame': 1586, 'yFrame': 1932, 'keypointType': 'DORSAL_FIN'}, {'xCrop': 574, 'yCrop': 233, 'xFrame': 1007, 'yFrame': 2106, 'keypointType': 'ADIPOSE_FIN'}, {'xCrop': 392, 'yCrop': 313, 'xFrame': 825, 'yFrame': 2186, 'keypointType': 'UPPER_PRECAUDAL_PIT'}, {'xCrop': 239, 'yCrop': 425, 'xFrame': 672, 'yFrame': 2298, 'keypointType': 'HYPURAL_PLATE'}, {'xCrop': 117, 'yCrop': 438, 'xFrame': 550, 'yFrame': 2311, 'keypointType': 'TAIL_NOTCH'}, {'xCrop': 409, 'yCrop': 449, 'xFrame': 842, 'yFrame': 2322, 'keypointType': 'LOWER_PRECAUDAL_PIT'}, {'xCrop': 712, 'yCrop': 442, 'xFrame': 1145, 'yFrame': 2315, 'keypointType': 'ANAL_FIN'}, {'xCrop': 1091, 'yCrop': 380, 'xFrame': 1524, 'yFrame': 2253, 'keypointType': 'PELVIC_FIN'}, {'xCrop': 1510, 'yCrop': 239, 'xFrame': 1943, 'yFrame': 2112, 'keypointType': 'PECTORAL_FIN'}]\n",
      "[{'xCrop': 1641, 'yCrop': 76, 'xFrame': 3067, 'yFrame': 1713, 'keypointType': 'UPPER_LIP'}, {'xCrop': 1589, 'yCrop': 103, 'xFrame': 3015, 'yFrame': 1740, 'keypointType': 'EYE'}, {'xCrop': 1092, 'yCrop': 55, 'xFrame': 2518, 'yFrame': 1692, 'keypointType': 'DORSAL_FIN'}, {'xCrop': 531, 'yCrop': 223, 'xFrame': 1957, 'yFrame': 1860, 'keypointType': 'ADIPOSE_FIN'}, {'xCrop': 334, 'yCrop': 301, 'xFrame': 1760, 'yFrame': 1938, 'keypointType': 'UPPER_PRECAUDAL_PIT'}, {'xCrop': 190, 'yCrop': 393, 'xFrame': 1616, 'yFrame': 2030, 'keypointType': 'HYPURAL_PLATE'}, {'xCrop': 90, 'yCrop': 400, 'xFrame': 1516, 'yFrame': 2037, 'keypointType': 'TAIL_NOTCH'}, {'xCrop': 356, 'yCrop': 417, 'xFrame': 1782, 'yFrame': 2054, 'keypointType': 'LOWER_PRECAUDAL_PIT'}, {'xCrop': 661, 'yCrop': 414, 'xFrame': 2087, 'yFrame': 2051, 'keypointType': 'ANAL_FIN'}, {'xCrop': 1029, 'yCrop': 354, 'xFrame': 2455, 'yFrame': 1991, 'keypointType': 'PELVIC_FIN'}, {'xCrop': 1446, 'yCrop': 215, 'xFrame': 2872, 'yFrame': 1852, 'keypointType': 'PECTORAL_FIN'}]\n",
      "[{'xCrop': 1733, 'yCrop': 85, 'xFrame': 2737, 'yFrame': 1716, 'keypointType': 'UPPER_LIP'}, {'xCrop': 1675, 'yCrop': 110, 'xFrame': 2679, 'yFrame': 1741, 'keypointType': 'EYE'}, {'xCrop': 1172, 'yCrop': 62, 'xFrame': 2176, 'yFrame': 1693, 'keypointType': 'DORSAL_FIN'}, {'xCrop': 584, 'yCrop': 239, 'xFrame': 1588, 'yFrame': 1870, 'keypointType': 'ADIPOSE_FIN'}, {'xCrop': 397, 'yCrop': 311, 'xFrame': 1401, 'yFrame': 1942, 'keypointType': 'UPPER_PRECAUDAL_PIT'}, {'xCrop': 263, 'yCrop': 404, 'xFrame': 1267, 'yFrame': 2035, 'keypointType': 'HYPURAL_PLATE'}, {'xCrop': 154, 'yCrop': 425, 'xFrame': 1158, 'yFrame': 2056, 'keypointType': 'TAIL_NOTCH'}, {'xCrop': 423, 'yCrop': 428, 'xFrame': 1427, 'yFrame': 2059, 'keypointType': 'LOWER_PRECAUDAL_PIT'}, {'xCrop': 736, 'yCrop': 420, 'xFrame': 1740, 'yFrame': 2051, 'keypointType': 'ANAL_FIN'}, {'xCrop': 1105, 'yCrop': 361, 'xFrame': 2109, 'yFrame': 1992, 'keypointType': 'PELVIC_FIN'}, {'xCrop': 1536, 'yCrop': 223, 'xFrame': 2540, 'yFrame': 1854, 'keypointType': 'PECTORAL_FIN'}]\n",
      "[{'xCrop': 1331, 'yCrop': 189, 'xFrame': 2952, 'yFrame': 1778, 'keypointType': 'UPPER_LIP'}, {'xCrop': 1283, 'yCrop': 196, 'xFrame': 2904, 'yFrame': 1785, 'keypointType': 'EYE'}, {'xCrop': 899, 'yCrop': 44, 'xFrame': 2520, 'yFrame': 1633, 'keypointType': 'DORSAL_FIN'}, {'xCrop': 418, 'yCrop': 176, 'xFrame': 2039, 'yFrame': 1765, 'keypointType': 'ADIPOSE_FIN'}, {'xCrop': 280, 'yCrop': 224, 'xFrame': 1901, 'yFrame': 1813, 'keypointType': 'UPPER_PRECAUDAL_PIT'}, {'xCrop': 177, 'yCrop': 304, 'xFrame': 1798, 'yFrame': 1893, 'keypointType': 'HYPURAL_PLATE'}, {'xCrop': 103, 'yCrop': 326, 'xFrame': 1724, 'yFrame': 1915, 'keypointType': 'TAIL_NOTCH'}, {'xCrop': 301, 'yCrop': 340, 'xFrame': 1922, 'yFrame': 1929, 'keypointType': 'LOWER_PRECAUDAL_PIT'}, {'xCrop': 537, 'yCrop': 354, 'xFrame': 2158, 'yFrame': 1943, 'keypointType': 'ANAL_FIN'}, {'xCrop': 814, 'yCrop': 375, 'xFrame': 2435, 'yFrame': 1964, 'keypointType': 'PELVIC_FIN'}, {'xCrop': 1188, 'yCrop': 293, 'xFrame': 2809, 'yFrame': 1882, 'keypointType': 'PECTORAL_FIN'}]\n",
      "[{'xCrop': 1395, 'yCrop': 228, 'xFrame': 2694, 'yFrame': 1795, 'keypointType': 'UPPER_LIP'}, {'xCrop': 1333, 'yCrop': 216, 'xFrame': 2632, 'yFrame': 1783, 'keypointType': 'EYE'}, {'xCrop': 957, 'yCrop': 61, 'xFrame': 2256, 'yFrame': 1628, 'keypointType': 'DORSAL_FIN'}, {'xCrop': 474, 'yCrop': 181, 'xFrame': 1773, 'yFrame': 1748, 'keypointType': 'ADIPOSE_FIN'}, {'xCrop': 281, 'yCrop': 246, 'xFrame': 1580, 'yFrame': 1813, 'keypointType': 'UPPER_PRECAUDAL_PIT'}, {'xCrop': 180, 'yCrop': 341, 'xFrame': 1479, 'yFrame': 1908, 'keypointType': 'HYPURAL_PLATE'}, {'xCrop': 109, 'yCrop': 356, 'xFrame': 1408, 'yFrame': 1923, 'keypointType': 'TAIL_NOTCH'}, {'xCrop': 320, 'yCrop': 362, 'xFrame': 1619, 'yFrame': 1929, 'keypointType': 'LOWER_PRECAUDAL_PIT'}, {'xCrop': 568, 'yCrop': 375, 'xFrame': 1867, 'yFrame': 1942, 'keypointType': 'ANAL_FIN'}, {'xCrop': 856, 'yCrop': 396, 'xFrame': 2155, 'yFrame': 1963, 'keypointType': 'PELVIC_FIN'}, {'xCrop': 1227, 'yCrop': 309, 'xFrame': 2526, 'yFrame': 1876, 'keypointType': 'PECTORAL_FIN'}]\n",
      "[{'xCrop': 1898, 'yCrop': 244, 'xFrame': 2776, 'yFrame': 2244, 'keypointType': 'UPPER_LIP'}, {'xCrop': 1863, 'yCrop': 287, 'xFrame': 2741, 'yFrame': 2287, 'keypointType': 'EYE'}, {'xCrop': 1334, 'yCrop': 146, 'xFrame': 2212, 'yFrame': 2146, 'keypointType': 'DORSAL_FIN'}, {'xCrop': 600, 'yCrop': 235, 'xFrame': 1478, 'yFrame': 2235, 'keypointType': 'ADIPOSE_FIN'}, {'xCrop': 403, 'yCrop': 259, 'xFrame': 1281, 'yFrame': 2259, 'keypointType': 'UPPER_PRECAUDAL_PIT'}, {'xCrop': 259, 'yCrop': 298, 'xFrame': 1137, 'yFrame': 2298, 'keypointType': 'HYPURAL_PLATE'}, {'xCrop': 124, 'yCrop': 281, 'xFrame': 1002, 'yFrame': 2281, 'keypointType': 'TAIL_NOTCH'}, {'xCrop': 395, 'yCrop': 404, 'xFrame': 1273, 'yFrame': 2404, 'keypointType': 'LOWER_PRECAUDAL_PIT'}, {'xCrop': 705, 'yCrop': 550, 'xFrame': 1583, 'yFrame': 2550, 'keypointType': 'ANAL_FIN'}, {'xCrop': 1128, 'yCrop': 619, 'xFrame': 2006, 'yFrame': 2619, 'keypointType': 'PELVIC_FIN'}, {'xCrop': 1682, 'yCrop': 428, 'xFrame': 2560, 'yFrame': 2428, 'keypointType': 'PECTORAL_FIN'}]\n",
      "[{'xCrop': 1941, 'yCrop': 262, 'xFrame': 2471, 'yFrame': 2249, 'keypointType': 'UPPER_LIP'}, {'xCrop': 1870, 'yCrop': 307, 'xFrame': 2400, 'yFrame': 2294, 'keypointType': 'EYE'}, {'xCrop': 1326, 'yCrop': 160, 'xFrame': 1856, 'yFrame': 2147, 'keypointType': 'DORSAL_FIN'}, {'xCrop': 610, 'yCrop': 240, 'xFrame': 1140, 'yFrame': 2227, 'keypointType': 'ADIPOSE_FIN'}, {'xCrop': 420, 'yCrop': 275, 'xFrame': 950, 'yFrame': 2262, 'keypointType': 'UPPER_PRECAUDAL_PIT'}, {'xCrop': 312, 'yCrop': 322, 'xFrame': 842, 'yFrame': 2309, 'keypointType': 'HYPURAL_PLATE'}, {'xCrop': 158, 'yCrop': 312, 'xFrame': 688, 'yFrame': 2299, 'keypointType': 'TAIL_NOTCH'}, {'xCrop': 413, 'yCrop': 416, 'xFrame': 943, 'yFrame': 2403, 'keypointType': 'LOWER_PRECAUDAL_PIT'}, {'xCrop': 711, 'yCrop': 562, 'xFrame': 1241, 'yFrame': 2549, 'keypointType': 'ANAL_FIN'}, {'xCrop': 1142, 'yCrop': 630, 'xFrame': 1672, 'yFrame': 2617, 'keypointType': 'PELVIC_FIN'}, {'xCrop': 1709, 'yCrop': 464, 'xFrame': 2239, 'yFrame': 2451, 'keypointType': 'PECTORAL_FIN'}]\n",
      "[{'xCrop': 143, 'yCrop': 1237, 'xFrame': 2023, 'yFrame': 2569, 'keypointType': 'UPPER_LIP'}, {'xCrop': 325, 'yCrop': 1138, 'xFrame': 2205, 'yFrame': 2470, 'keypointType': 'EYE'}, {'xCrop': 599, 'yCrop': 622, 'xFrame': 2479, 'yFrame': 1954, 'keypointType': 'DORSAL_FIN'}, {'xCrop': 1062, 'yCrop': 391, 'xFrame': 2942, 'yFrame': 1723, 'keypointType': 'ADIPOSE_FIN'}, {'xCrop': 1197, 'yCrop': 343, 'xFrame': 3077, 'yFrame': 1675, 'keypointType': 'UPPER_PRECAUDAL_PIT'}, {'xCrop': 1323, 'yCrop': 359, 'xFrame': 3203, 'yFrame': 1691, 'keypointType': 'HYPURAL_PLATE'}, {'xCrop': 1407, 'yCrop': 316, 'xFrame': 3287, 'yFrame': 1648, 'keypointType': 'TAIL_NOTCH'}, {'xCrop': 1229, 'yCrop': 463, 'xFrame': 3109, 'yFrame': 1795, 'keypointType': 'LOWER_PRECAUDAL_PIT'}, {'xCrop': 1011, 'yCrop': 669, 'xFrame': 2891, 'yFrame': 2001, 'keypointType': 'ANAL_FIN'}, {'xCrop': 787, 'yCrop': 887, 'xFrame': 2667, 'yFrame': 2219, 'keypointType': 'PELVIC_FIN'}, {'xCrop': 479, 'yCrop': 1135, 'xFrame': 2359, 'yFrame': 2467, 'keypointType': 'PECTORAL_FIN'}]\n",
      "[{'xCrop': 121, 'yCrop': 1177, 'xFrame': 1399, 'yFrame': 2566, 'keypointType': 'UPPER_LIP'}, {'xCrop': 323, 'yCrop': 1081, 'xFrame': 1601, 'yFrame': 2470, 'keypointType': 'EYE'}, {'xCrop': 672, 'yCrop': 561, 'xFrame': 1950, 'yFrame': 1950, 'keypointType': 'DORSAL_FIN'}, {'xCrop': 1195, 'yCrop': 334, 'xFrame': 2473, 'yFrame': 1723, 'keypointType': 'ADIPOSE_FIN'}, {'xCrop': 1360, 'yCrop': 275, 'xFrame': 2638, 'yFrame': 1664, 'keypointType': 'UPPER_PRECAUDAL_PIT'}, {'xCrop': 1490, 'yCrop': 287, 'xFrame': 2768, 'yFrame': 1676, 'keypointType': 'HYPURAL_PLATE'}, {'xCrop': 1590, 'yCrop': 249, 'xFrame': 2868, 'yFrame': 1638, 'keypointType': 'TAIL_NOTCH'}, {'xCrop': 1386, 'yCrop': 405, 'xFrame': 2664, 'yFrame': 1794, 'keypointType': 'LOWER_PRECAUDAL_PIT'}, {'xCrop': 1143, 'yCrop': 613, 'xFrame': 2421, 'yFrame': 2002, 'keypointType': 'ANAL_FIN'}, {'xCrop': 883, 'yCrop': 829, 'xFrame': 2161, 'yFrame': 2218, 'keypointType': 'PELVIC_FIN'}, {'xCrop': 511, 'yCrop': 1081, 'xFrame': 1789, 'yFrame': 2470, 'keypointType': 'PECTORAL_FIN'}]\n",
      "[{'xCrop': 60, 'yCrop': 1144, 'xFrame': 1687, 'yFrame': 1397, 'keypointType': 'UPPER_LIP'}, {'xCrop': 243, 'yCrop': 1119, 'xFrame': 1870, 'yFrame': 1372, 'keypointType': 'EYE'}, {'xCrop': 921, 'yCrop': 563, 'xFrame': 2548, 'yFrame': 816, 'keypointType': 'DORSAL_FIN'}, {'xCrop': 1719, 'yCrop': 352, 'xFrame': 3346, 'yFrame': 605, 'keypointType': 'ADIPOSE_FIN'}, {'xCrop': 1977, 'yCrop': 317, 'xFrame': 3604, 'yFrame': 570, 'keypointType': 'UPPER_PRECAUDAL_PIT'}, {'xCrop': 2221, 'yCrop': 347, 'xFrame': 3848, 'yFrame': 600, 'keypointType': 'HYPURAL_PLATE'}, {'xCrop': 2367, 'yCrop': 292, 'xFrame': 3994, 'yFrame': 545, 'keypointType': 'TAIL_NOTCH'}, {'xCrop': 2010, 'yCrop': 497, 'xFrame': 3637, 'yFrame': 750, 'keypointType': 'LOWER_PRECAUDAL_PIT'}, {'xCrop': 1671, 'yCrop': 752, 'xFrame': 3298, 'yFrame': 1005, 'keypointType': 'ANAL_FIN'}, {'xCrop': 1248, 'yCrop': 1019, 'xFrame': 2875, 'yFrame': 1272, 'keypointType': 'PELVIC_FIN'}, {'xCrop': 549, 'yCrop': 1196, 'xFrame': 2176, 'yFrame': 1449, 'keypointType': 'PECTORAL_FIN'}]\n",
      "[{'xCrop': 57, 'yCrop': 1113, 'xFrame': 1163, 'yFrame': 1399, 'keypointType': 'UPPER_LIP'}, {'xCrop': 222, 'yCrop': 1085, 'xFrame': 1328, 'yFrame': 1371, 'keypointType': 'EYE'}, {'xCrop': 884, 'yCrop': 534, 'xFrame': 1990, 'yFrame': 820, 'keypointType': 'DORSAL_FIN'}, {'xCrop': 1742, 'yCrop': 319, 'xFrame': 2848, 'yFrame': 605, 'keypointType': 'ADIPOSE_FIN'}, {'xCrop': 2017, 'yCrop': 282, 'xFrame': 3123, 'yFrame': 568, 'keypointType': 'UPPER_PRECAUDAL_PIT'}, {'xCrop': 2273, 'yCrop': 305, 'xFrame': 3379, 'yFrame': 591, 'keypointType': 'HYPURAL_PLATE'}, {'xCrop': 2383, 'yCrop': 265, 'xFrame': 3489, 'yFrame': 551, 'keypointType': 'TAIL_NOTCH'}, {'xCrop': 2048, 'yCrop': 464, 'xFrame': 3154, 'yFrame': 750, 'keypointType': 'LOWER_PRECAUDAL_PIT'}, {'xCrop': 1711, 'yCrop': 718, 'xFrame': 2817, 'yFrame': 1004, 'keypointType': 'ANAL_FIN'}, {'xCrop': 1259, 'yCrop': 983, 'xFrame': 2365, 'yFrame': 1269, 'keypointType': 'PELVIC_FIN'}, {'xCrop': 538, 'yCrop': 1165, 'xFrame': 1644, 'yFrame': 1451, 'keypointType': 'PECTORAL_FIN'}]\n",
      "[{'xCrop': 1977, 'yCrop': 585, 'xFrame': 2619, 'yFrame': 2324, 'keypointType': 'UPPER_LIP'}, {'xCrop': 1842, 'yCrop': 601, 'xFrame': 2484, 'yFrame': 2340, 'keypointType': 'EYE'}, {'xCrop': 1331, 'yCrop': 228, 'xFrame': 1973, 'yFrame': 1967, 'keypointType': 'DORSAL_FIN'}, {'xCrop': 668, 'yCrop': 191, 'xFrame': 1310, 'yFrame': 1930, 'keypointType': 'ADIPOSE_FIN'}, {'xCrop': 439, 'yCrop': 206, 'xFrame': 1081, 'yFrame': 1945, 'keypointType': 'UPPER_PRECAUDAL_PIT'}, {'xCrop': 250, 'yCrop': 250, 'xFrame': 892, 'yFrame': 1989, 'keypointType': 'HYPURAL_PLATE'}, {'xCrop': 137, 'yCrop': 241, 'xFrame': 779, 'yFrame': 1980, 'keypointType': 'TAIL_NOTCH'}, {'xCrop': 413, 'yCrop': 342, 'xFrame': 1055, 'yFrame': 2081, 'keypointType': 'LOWER_PRECAUDAL_PIT'}, {'xCrop': 752, 'yCrop': 446, 'xFrame': 1394, 'yFrame': 2185, 'keypointType': 'ANAL_FIN'}, {'xCrop': 1100, 'yCrop': 592, 'xFrame': 1742, 'yFrame': 2331, 'keypointType': 'PELVIC_FIN'}, {'xCrop': 1612, 'yCrop': 655, 'xFrame': 2254, 'yFrame': 2394, 'keypointType': 'PECTORAL_FIN'}]\n",
      "[{'xCrop': 2050, 'yCrop': 543, 'xFrame': 2264, 'yFrame': 2325, 'keypointType': 'UPPER_LIP'}, {'xCrop': 1908, 'yCrop': 557, 'xFrame': 2122, 'yFrame': 2339, 'keypointType': 'EYE'}, {'xCrop': 1394, 'yCrop': 189, 'xFrame': 1608, 'yFrame': 1971, 'keypointType': 'DORSAL_FIN'}, {'xCrop': 724, 'yCrop': 141, 'xFrame': 938, 'yFrame': 1923, 'keypointType': 'ADIPOSE_FIN'}, {'xCrop': 503, 'yCrop': 164, 'xFrame': 717, 'yFrame': 1946, 'keypointType': 'UPPER_PRECAUDAL_PIT'}, {'xCrop': 321, 'yCrop': 213, 'xFrame': 535, 'yFrame': 1995, 'keypointType': 'HYPURAL_PLATE'}, {'xCrop': 209, 'yCrop': 200, 'xFrame': 423, 'yFrame': 1982, 'keypointType': 'TAIL_NOTCH'}, {'xCrop': 482, 'yCrop': 299, 'xFrame': 696, 'yFrame': 2081, 'keypointType': 'LOWER_PRECAUDAL_PIT'}, {'xCrop': 832, 'yCrop': 404, 'xFrame': 1046, 'yFrame': 2186, 'keypointType': 'ANAL_FIN'}, {'xCrop': 1177, 'yCrop': 551, 'xFrame': 1391, 'yFrame': 2333, 'keypointType': 'PELVIC_FIN'}, {'xCrop': 1675, 'yCrop': 613, 'xFrame': 1889, 'yFrame': 2395, 'keypointType': 'PECTORAL_FIN'}]\n"
     ]
    }
   ],
   "source": [
    "for idx, row in df.iterrows():\n",
    "    print(row.keypoints['leftCrop'])\n",
    "    print(row.keypoints['rightCrop'])"
   ]
  },
  {
   "cell_type": "code",
   "execution_count": null,
   "metadata": {},
   "outputs": [],
   "source": []
  },
  {
   "cell_type": "code",
   "execution_count": null,
   "metadata": {},
   "outputs": [],
   "source": []
  },
  {
   "cell_type": "code",
   "execution_count": null,
   "metadata": {},
   "outputs": [],
   "source": []
  },
  {
   "cell_type": "code",
   "execution_count": null,
   "metadata": {},
   "outputs": [],
   "source": []
  },
  {
   "cell_type": "code",
   "execution_count": null,
   "metadata": {},
   "outputs": [],
   "source": []
  },
  {
   "cell_type": "code",
   "execution_count": null,
   "metadata": {},
   "outputs": [],
   "source": []
  },
  {
   "cell_type": "code",
   "execution_count": null,
   "metadata": {},
   "outputs": [],
   "source": []
  },
  {
   "cell_type": "code",
   "execution_count": null,
   "metadata": {},
   "outputs": [],
   "source": []
  },
  {
   "cell_type": "code",
   "execution_count": null,
   "metadata": {},
   "outputs": [],
   "source": []
  },
  {
   "cell_type": "code",
   "execution_count": null,
   "metadata": {},
   "outputs": [],
   "source": []
  },
  {
   "cell_type": "code",
   "execution_count": null,
   "metadata": {},
   "outputs": [],
   "source": []
  }
 ],
 "metadata": {
  "kernelspec": {
   "display_name": "Python 3",
   "language": "python",
   "name": "python3"
  },
  "language_info": {
   "codemirror_mode": {
    "name": "ipython",
    "version": 3
   },
   "file_extension": ".py",
   "mimetype": "text/x-python",
   "name": "python",
   "nbconvert_exporter": "python",
   "pygments_lexer": "ipython3",
   "version": "3.6.5"
  }
 },
 "nbformat": 4,
 "nbformat_minor": 2
}
