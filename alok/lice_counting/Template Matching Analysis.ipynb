{
 "cells": [
  {
   "cell_type": "code",
   "execution_count": null,
   "metadata": {},
   "outputs": [],
   "source": [
    "import datetime as dt\n",
    "import json, os\n",
    "import pandas as pd\n",
    "from matplotlib import pyplot as plt\n",
    "from collections import defaultdict\n",
    "import numpy as np\n",
    "from itertools import combinations\n",
    "from aquabyte.accuracy_metrics import AccuracyMetricsGenerator\n",
    "from aquabyte.data_access_utils import S3AccessUtils, RDSAccessUtils\n",
    "from aquabyte.visualize import Visualizer, _normalize_world_keypoints\n",
    "from aquabyte.optics import euclidean_distance, pixel2world, depth_from_disp, convert_to_world_point\n",
    "import random\n",
    "import torch\n",
    "from aquabyte.data_loader import KeypointsDataset, NormalizeCentered2D, ToTensor, BODY_PARTS\n",
    "from torch.utils.data import Dataset, DataLoader\n",
    "from torchvision import transforms, utils\n",
    "from sklearn.model_selection import train_test_split\n",
    "from copy import copy, deepcopy\n",
    "import pyarrow.parquet as pq\n",
    "from scipy.spatial import Delaunay\n",
    "from pyobb.obb import OBB\n",
    "import seaborn as sns\n",
    "from mpl_toolkits.mplot3d import Axes3D\n",
    "\n",
    "pd.set_option('display.max_rows', 500)\n",
    "pd.set_option('display.max_colwidth', 500)"
   ]
  },
  {
   "cell_type": "code",
   "execution_count": null,
   "metadata": {},
   "outputs": [],
   "source": [
    "s3_access_utils = S3AccessUtils('/root/data')\n",
    "\n",
    "gen = s3_access_utils.get_matching_s3_keys('aquabyte-research', prefix='focus-distance/weekly/2019-12-23', suffixes=['.parquet'])\n",
    "keys = []\n",
    "for key in gen:\n",
    "    keys.append(key)\n",
    "\n",
    "f = s3_access_utils.download_from_s3('aquabyte-research', keys[0])\n",
    "df = pd.read_parquet(f)"
   ]
  },
  {
   "cell_type": "code",
   "execution_count": null,
   "metadata": {},
   "outputs": [],
   "source": [
    "def generate_center_coordinate(metadata, x_direction=True):\n",
    "    metadata = json.loads(metadata)\n",
    "    if x_direction:\n",
    "        x = metadata['x_coord'] + 0.5 * metadata['width']\n",
    "        return x\n",
    "    y = metadata['y_coord'] + 0.5 * metadata['height']\n",
    "    return y\n",
    "\n",
    "\n",
    "df['centroid_x'] = df.left_crop_metadata.apply(lambda x: generate_center_coordinate(x, x_direction=True))\n",
    "df['centroid_y'] = df.left_crop_metadata.apply(lambda x: generate_center_coordinate(x, x_direction=False))\n",
    "df['width'] = df.left_crop_metadata.apply(lambda x: json.loads(x)['width'])\n",
    "df['height'] = df.left_crop_metadata.apply(lambda x: json.loads(x)['height'])\n",
    "df['aspect_ratio'] = df.width / df.height\n"
   ]
  },
  {
   "cell_type": "code",
   "execution_count": null,
   "metadata": {},
   "outputs": [],
   "source": [
    "MAX_WIDTH, MAX_HEIGHT = 4096, 3000+1\n",
    "SQUARE_SIZE = 500\n",
    "x_values = list(np.arange(0, MAX_WIDTH, SQUARE_SIZE))\n",
    "y_values = list(np.arange(0, MAX_HEIGHT, SQUARE_SIZE))\n",
    "counts = np.zeros([len(x_values)-1, len(y_values)-1])\n",
    "for x_idx in range(len(x_values)-1):\n",
    "    for y_idx in range(len(y_values)-1):\n",
    "        x_low, x_high = x_values[x_idx], x_values[x_idx+1]\n",
    "        y_low, y_high = y_values[y_idx], y_values[y_idx+1]\n",
    "        mask_x = (df.centroid_x > x_low) & (df.centroid_x < x_high)\n",
    "        mask_y = (df.centroid_y > y_low) & (df.centroid_y < y_high)\n",
    "        tile_mask = mask_x & mask_y\n",
    "        if df[tile_mask].shape[0] > 0:\n",
    "            accept_rate = df[tile_mask].shape[0] / df[tile_mask].shape[0]\n",
    "        else:\n",
    "            accept_rate = 0\n",
    "        if accept_rate > 0.49:\n",
    "            accept_rate = 0\n",
    "        counts[x_idx, y_idx] = df[tile_mask].shape[0]\n"
   ]
  },
  {
   "cell_type": "code",
   "execution_count": null,
   "metadata": {},
   "outputs": [],
   "source": [
    "plt.figure(figsize=(20, 10))\n",
    "sns.heatmap(counts.T, annot=True)\n",
    "plt.title('Accept rate by Field Position')\n",
    "plt.show()"
   ]
  },
  {
   "cell_type": "code",
   "execution_count": null,
   "metadata": {},
   "outputs": [],
   "source": []
  },
  {
   "cell_type": "code",
   "execution_count": null,
   "metadata": {},
   "outputs": [],
   "source": []
  },
  {
   "cell_type": "code",
   "execution_count": null,
   "metadata": {},
   "outputs": [],
   "source": [
    "plt.figure(figsize=(20, 10))\n",
    "plt.hist(df.distance_from_camera, bins=20)\n",
    "plt.grid()\n",
    "plt.show()"
   ]
  },
  {
   "cell_type": "code",
   "execution_count": null,
   "metadata": {},
   "outputs": [],
   "source": [
    "x_idx, y_idx = 4, 4\n",
    "mask_x = (df.centroid_x > x_values[x_idx]) & (df.centroid_x < x_values[x_idx+1])\n",
    "mask_y = (df.centroid_y > y_values[y_idx]) & (df.centroid_y < y_values[y_idx+1])\n",
    "tile_mask = mask_x & mask_y\n",
    "depth_mask = (df.distance_from_camera > 0.65) & (df.distance_from_camera < 0.75)"
   ]
  },
  {
   "cell_type": "code",
   "execution_count": null,
   "metadata": {},
   "outputs": [],
   "source": []
  },
  {
   "cell_type": "code",
   "execution_count": null,
   "metadata": {},
   "outputs": [],
   "source": [
    "df[depth_mask & tile_mask & (df.aspect_ratio > 1.5) & (df.width < 2500)].left_crop_url"
   ]
  },
  {
   "cell_type": "code",
   "execution_count": null,
   "metadata": {},
   "outputs": [],
   "source": []
  },
  {
   "cell_type": "code",
   "execution_count": null,
   "metadata": {},
   "outputs": [],
   "source": [
    "plt.figure(figsize=(20, 10))\n",
    "plt.hist(df[depth_mask & (df.aspect_ratio > 2)].width)\n",
    "plt.grid()\n",
    "plt.show()"
   ]
  },
  {
   "cell_type": "code",
   "execution_count": null,
   "metadata": {},
   "outputs": [],
   "source": []
  },
  {
   "cell_type": "code",
   "execution_count": null,
   "metadata": {},
   "outputs": [],
   "source": []
  },
  {
   "cell_type": "code",
   "execution_count": null,
   "metadata": {},
   "outputs": [],
   "source": []
  },
  {
   "cell_type": "code",
   "execution_count": null,
   "metadata": {},
   "outputs": [],
   "source": []
  }
 ],
 "metadata": {
  "kernelspec": {
   "display_name": "Python 3",
   "language": "python",
   "name": "python3"
  },
  "language_info": {
   "codemirror_mode": {
    "name": "ipython",
    "version": 3
   },
   "file_extension": ".py",
   "mimetype": "text/x-python",
   "name": "python",
   "nbconvert_exporter": "python",
   "pygments_lexer": "ipython3",
   "version": "3.6.5"
  }
 },
 "nbformat": 4,
 "nbformat_minor": 2
}
