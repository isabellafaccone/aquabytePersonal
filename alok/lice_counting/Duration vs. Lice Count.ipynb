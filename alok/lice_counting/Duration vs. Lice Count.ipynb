{
 "cells": [
  {
   "cell_type": "code",
   "execution_count": null,
   "metadata": {},
   "outputs": [],
   "source": [
    "import json, os\n",
    "import pandas as pd\n",
    "from matplotlib import pyplot as plt\n",
    "from collections import defaultdict\n",
    "import numpy as np\n",
    "from itertools import combinations\n",
    "from sklearn.linear_model import LinearRegression, RANSACRegressor\n",
    "from sklearn.decomposition import PCA\n",
    "# from wpca import WPCA\n",
    "from sklearn.preprocessing import StandardScaler\n",
    "from aquabyte.accuracy_metrics import AccuracyMetricsGenerator\n",
    "from aquabyte.data_access_utils import S3AccessUtils, RDSAccessUtils\n",
    "from aquabyte.optics import euclidean_distance, pixel2world, depth_from_disp, convert_to_world_point\n",
    "from aquabyte.visualize import Visualizer, _normalize_world_keypoints\n",
    "# from template_matching import enhance, find_matches_and_homography, adjust_keypoints\n",
    "import random\n",
    "import pickle\n",
    "import cv2\n",
    "from copy import copy\n",
    "from scipy.stats import norm\n",
    "from mpl_toolkits.mplot3d import Axes3D\n",
    "from multiprocessing import Pool, Manager\n",
    "import pyarrow.parquet as pq\n",
    "import seaborn as sns\n",
    "\n",
    "import matplotlib.cm as cm\n",
    "pd.set_option('display.max_rows', 500)"
   ]
  },
  {
   "cell_type": "code",
   "execution_count": null,
   "metadata": {},
   "outputs": [],
   "source": []
  },
  {
   "cell_type": "code",
   "execution_count": null,
   "metadata": {},
   "outputs": [],
   "source": [
    "rds_access_utils = RDSAccessUtils(json.load(open(os.environ['PROD_SQL_CREDENTIALS'])))\n",
    "query = \"\"\"\n",
    "    select adult_female_count, moving_count, fixed_count, unsure_count, work_duration_ms from lati_fish_detections_lice_annotations where adult_female_count >= 0;\n",
    "\"\"\"\n",
    "ldf = rds_access_utils.extract_from_database(query)"
   ]
  },
  {
   "cell_type": "code",
   "execution_count": null,
   "metadata": {},
   "outputs": [],
   "source": [
    "ldf['total_count'] = ldf.adult_female_count + ldf.moving_count + ldf.fixed_count + ldf.unsure_count\n"
   ]
  },
  {
   "cell_type": "code",
   "execution_count": null,
   "metadata": {},
   "outputs": [],
   "source": [
    "plt.figure(figsize=(20, 10))\n",
    "mask = (ldf.work_duration_ms > 0) & (ldf.work_duration_ms < 10*60*1000)\n",
    "plt.scatter(ldf[mask].moving_count, ldf[mask].work_duration_ms)\n",
    "plt.show()"
   ]
  },
  {
   "cell_type": "code",
   "execution_count": null,
   "metadata": {},
   "outputs": [],
   "source": [
    "adult_female_counts = list(ldf[mask].groupby('adult_female_count')['work_duration_ms'].mean().index)\n",
    "durations_f = list(ldf[mask].groupby('adult_female_count')['work_duration_ms'].mean().values)\n",
    "moving_counts = list(ldf[mask].groupby('moving_count')['work_duration_ms'].mean().index)\n",
    "durations_m = list(ldf[mask].groupby('moving_count')['work_duration_ms'].mean().values)"
   ]
  },
  {
   "cell_type": "code",
   "execution_count": null,
   "metadata": {},
   "outputs": [],
   "source": [
    "plt.figure(figsize=(20, 10))\n",
    "plt.bar(adult_female_counts, np.array(durations_f) / 1e3)\n",
    "plt.title('Mean Annotation Duration by Num. Adult Female')\n",
    "plt.xlabel('Num. Adult Female')\n",
    "plt.ylabel('Mean Annotation Duration (seconds)')\n",
    "plt.grid()\n",
    "plt.show()\n"
   ]
  },
  {
   "cell_type": "code",
   "execution_count": null,
   "metadata": {},
   "outputs": [],
   "source": [
    "plt.figure(figsize=(20, 10))\n",
    "plt.bar(moving_counts, np.array(durations_m) / 1e3)\n",
    "plt.title('Mean Annotation Duration by Num. Moving')\n",
    "plt.xlabel('Num. Moving')\n",
    "plt.ylabel('Mean Annotation Duration (seconds)')\n",
    "plt.grid()\n",
    "plt.show()\n"
   ]
  },
  {
   "cell_type": "code",
   "execution_count": null,
   "metadata": {},
   "outputs": [],
   "source": [
    "ldf[mask].shape[0]"
   ]
  },
  {
   "cell_type": "code",
   "execution_count": null,
   "metadata": {},
   "outputs": [],
   "source": [
    "adult_female_counts = list(np.arange(0, 15, 1))\n",
    "moving_counts = list(np.arange(0, 55, 1))\n",
    "data = np.zeros([len(adult_female_counts), len(moving_counts)])\n",
    "sample_size_data = np.zeros([len(adult_female_counts), len(moving_counts)])\n",
    "for adult_female_count in adult_female_counts:\n",
    "    for moving_count in moving_counts:\n",
    "        mask = (ldf.work_duration_ms > 0) & (ldf.work_duration_ms < 10*60*1000) & \\\n",
    "            (ldf.adult_female_count == adult_female_count) & (ldf.moving_count == moving_count)\n",
    "        mean_duration = ldf[mask].work_duration_ms.mean() / 1e3\n",
    "        data[adult_female_count, moving_count] = mean_duration\n",
    "        sample_size_data[adult_female_count, moving_count] = ldf[mask].shape[0]\n",
    "#         print(mean_duration, ldf[mask].shape[0])\n",
    "        \n",
    "        "
   ]
  },
  {
   "cell_type": "code",
   "execution_count": null,
   "metadata": {},
   "outputs": [],
   "source": [
    "plt.figure(figsize=(20, 10))\n",
    "sns.heatmap(data[list(reversed(range(data.shape[0])))], yticklabels=list(reversed(range(data.shape[0]))))\n",
    "plt.xlabel('Moving Count')\n",
    "plt.ylabel('Adult Female Count')\n",
    "plt.title('Annotation Duration (seconds) by AF & Moving Counts')\n",
    "plt.grid()\n",
    "plt.show()"
   ]
  },
  {
   "cell_type": "code",
   "execution_count": null,
   "metadata": {},
   "outputs": [],
   "source": []
  },
  {
   "cell_type": "code",
   "execution_count": null,
   "metadata": {},
   "outputs": [],
   "source": [
    "base_mask = (ldf.work_duration_ms > 0) & (ldf.work_duration_ms < 10*60*1000)\n",
    "pcts = []\n",
    "for moving_count in moving_counts:\n",
    "    mask = base_mask & (ldf.moving_count <= moving_count)\n",
    "    pct = ldf[mask].shape[0] / ldf[base_mask].shape[0]\n",
    "    pcts.append(pct)\n",
    "\n",
    "plt.figure(figsize=(20, 10))\n",
    "plt.bar(moving_counts, np.array(pcts) * 1e2)\n",
    "plt.xlabel('Moving Count')\n",
    "plt.ylabel('Cumulative Distribution Function (%)')\n",
    "plt.title('CDF of Moving Count Distribution')\n",
    "plt.grid()\n",
    "plt.show()"
   ]
  },
  {
   "cell_type": "code",
   "execution_count": null,
   "metadata": {},
   "outputs": [],
   "source": [
    "base_mask = (ldf.work_duration_ms > 0) & (ldf.work_duration_ms < 10*60*1000)\n",
    "pcts = []\n",
    "for adult_female_count in adult_female_counts:\n",
    "    mask = base_mask & (ldf.adult_female_count <= adult_female_count)\n",
    "    pct = ldf[mask].shape[0] / ldf[base_mask].shape[0]\n",
    "    pcts.append(pct)\n",
    "\n",
    "plt.figure(figsize=(20, 10))\n",
    "plt.bar(adult_female_counts, np.array(pcts) * 1e2)\n",
    "plt.xlabel('Adult Female Count')\n",
    "plt.ylabel('Cumulative Distribution Function (%)')\n",
    "plt.title('CDF of Adult Female Count Distribution')\n",
    "plt.grid()\n",
    "plt.show()"
   ]
  },
  {
   "cell_type": "code",
   "execution_count": null,
   "metadata": {},
   "outputs": [],
   "source": []
  }
 ],
 "metadata": {
  "kernelspec": {
   "display_name": "Python 3",
   "language": "python",
   "name": "python3"
  }
 },
 "nbformat": 4,
 "nbformat_minor": 2
}
