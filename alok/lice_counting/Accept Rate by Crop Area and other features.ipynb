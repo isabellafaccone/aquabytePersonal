{
 "cells": [
  {
   "cell_type": "code",
   "execution_count": null,
   "metadata": {},
   "outputs": [],
   "source": [
    "import json, os\n",
    "import pandas as pd\n",
    "from matplotlib import pyplot as plt\n",
    "from collections import defaultdict\n",
    "import numpy as np\n",
    "from itertools import combinations\n",
    "from sklearn.linear_model import LinearRegression, RANSACRegressor\n",
    "from sklearn.decomposition import PCA\n",
    "from sklearn.preprocessing import StandardScaler\n",
    "from aquabyte.accuracy_metrics import AccuracyMetricsGenerator\n",
    "from aquabyte.data_access_utils import S3AccessUtils, RDSAccessUtils\n",
    "from aquabyte.optics import euclidean_distance, pixel2world\n",
    "from aquabyte.visualize import Visualizer\n",
    "import random\n",
    "from scipy.stats import norm\n",
    "from PIL import Image, ImageDraw\n",
    "from urllib.parse import urlparse\n",
    "import seaborn as sns\n",
    "from IPython.display import Image\n",
    "import seaborn as sns\n",
    "\n",
    "pd.set_option('display.max_rows', 500)\n",
    "pd.set_option('display.max_colwidth', 500)\n",
    "pd.set_option('display.max_columns', 500)"
   ]
  },
  {
   "cell_type": "markdown",
   "metadata": {},
   "source": [
    "<h1> Load Data </h1>"
   ]
  },
  {
   "cell_type": "code",
   "execution_count": null,
   "metadata": {},
   "outputs": [],
   "source": [
    "s3_access_utils = S3AccessUtils('/root/data')\n",
    "\n",
    "rds_access_utils = RDSAccessUtils(json.load(open(os.environ['PROD_SQL_CREDENTIALS'])))\n",
    "query = \"\"\"\n",
    "    select * from lati_fish_detections_lice_annotations where pen_id = 65 and captured_at between '2020-01-16' and '2020-01-21';\n",
    "\"\"\"\n",
    "df = rds_access_utils.extract_from_database(query)\n",
    "\n"
   ]
  },
  {
   "cell_type": "markdown",
   "metadata": {},
   "source": [
    "<h1> Compute features </h1>"
   ]
  },
  {
   "cell_type": "code",
   "execution_count": null,
   "metadata": {},
   "outputs": [],
   "source": [
    "def generate_center_coordinate(metadata, x_direction=True):\n",
    "    if x_direction:\n",
    "        x = metadata['x_coord'] + 0.5 * metadata['width']\n",
    "        return x\n",
    "    y = metadata['y_coord'] + 0.5 * metadata['height']\n",
    "    return y\n",
    "\n",
    "def retrieve_depth(metadata):\n",
    "    if 'depth_m_weekly_linear_model' in metadata.keys():\n",
    "        return metadata['depth_m_weekly_linear_model']['value']\n",
    "    return None\n",
    "\n",
    "\n",
    "df['centroid_x'] = df.metadata.apply(lambda x: generate_center_coordinate(x, x_direction=True))\n",
    "df['centroid_y'] = df.metadata.apply(lambda x: generate_center_coordinate(x, x_direction=False))\n",
    "df['depth'] = df.metadata.apply(lambda x: retrieve_depth(x))\n",
    "df['is_submitted'] = df.is_skipped == False\n",
    "df['crop_area'] = df.metadata.apply(lambda x: x['crop_area'])"
   ]
  },
  {
   "cell_type": "code",
   "execution_count": null,
   "metadata": {},
   "outputs": [],
   "source": [
    "\n",
    "\n"
   ]
  },
  {
   "cell_type": "code",
   "execution_count": null,
   "metadata": {},
   "outputs": [],
   "source": []
  },
  {
   "cell_type": "code",
   "execution_count": null,
   "metadata": {},
   "outputs": [],
   "source": [
    "accept_rates = []\n",
    "is_submitted_mask = df.is_submitted == True\n",
    "crop_area_list = list(np.percentile(df.crop_area, range(0, 110, 10)))\n",
    "for idx in range(len(crop_area_list) - 1):\n",
    "    low_ca, high_ca = crop_area_list[idx], crop_area_list[idx+1]\n",
    "    mask = (df.crop_area > low_ca) & (df.crop_area < high_ca)\n",
    "    if df[mask].shape[0] > 0:\n",
    "        accept_rate = df[mask & is_submitted_mask].shape[0] / df[mask].shape[0]\n",
    "    accept_rates.append(accept_rate)\n",
    "\n",
    "plt.bar(x=range(len(accept_rates)), height=accept_rates)\n"
   ]
  },
  {
   "cell_type": "code",
   "execution_count": null,
   "metadata": {},
   "outputs": [],
   "source": [
    "accept_rates = []\n",
    "centroid_x_list = list(np.percentile(df.centroid_x, range(0, 110, 10)))\n",
    "for idx in range(len(centroid_x_list) - 1):\n",
    "    low_cx, high_cx = centroid_x_list[idx], centroid_x_list[idx+1]\n",
    "    mask = (df.centroid_x > low_cx) & (df.centroid_x < high_cx)\n",
    "    if df[mask].shape[0] > 0:\n",
    "        accept_rate = df[mask & is_submitted_mask].shape[0] / df[mask].shape[0]\n",
    "    accept_rates.append(accept_rate)\n",
    "\n",
    "plt.bar(x=range(len(accept_rates)), height=accept_rates)\n",
    "\n"
   ]
  },
  {
   "cell_type": "code",
   "execution_count": null,
   "metadata": {},
   "outputs": [],
   "source": [
    "accept_rates = []\n",
    "centroid_y_list = list(np.percentile(df.centroid_y, range(0, 110, 10)))\n",
    "for idx in range(len(centroid_y_list) - 1):\n",
    "    low_cy, high_cy = centroid_y_list[idx], centroid_y_list[idx+1]\n",
    "    mask = (df.centroid_y > low_cy) & (df.centroid_y < high_cy)\n",
    "    if df[mask].shape[0] > 0:\n",
    "        accept_rate = df[mask & is_submitted_mask].shape[0] / df[mask].shape[0]\n",
    "    accept_rates.append(accept_rate)\n",
    "\n",
    "plt.bar(x=range(len(accept_rates)), height=accept_rates)\n",
    "\n"
   ]
  },
  {
   "cell_type": "code",
   "execution_count": null,
   "metadata": {},
   "outputs": [],
   "source": []
  },
  {
   "cell_type": "code",
   "execution_count": null,
   "metadata": {},
   "outputs": [],
   "source": [
    "percentile_size = 10\n",
    "is_submitted_mask = df.is_submitted == True\n",
    "crop_area_list = list(np.percentile(df.crop_area, range(0, 100+percentile_size, percentile_size)))\n",
    "accept_rates = np.zeros([len(crop_area_list)-1, len(crop_area_list)-1])\n",
    "for i in range(len(crop_area_list) - 1):\n",
    "    low_ca, high_ca = crop_area_list[i], crop_area_list[i+1]\n",
    "    ca_mask = (df.crop_area > low_ca) & (df.crop_area < high_ca)\n",
    "    centroid_y_list = list(np.percentile(df[ca_mask].centroid_y, range(0, 100+percentile_size, percentile_size)))\n",
    "    for j in range(len(centroid_y_list) - 1):\n",
    "        low_cy, high_cy = centroid_y_list[j], centroid_y_list[j+1]\n",
    "        cy_mask = (df.centroid_y > low_cy) & (df.centroid_y < high_cy)\n",
    "        mask = ca_mask & cy_mask\n",
    "        if df[mask].shape[0] > 0:\n",
    "            accept_rates[i, j] = df[mask & is_submitted_mask].shape[0] / df[mask].shape[0]\n",
    "\n",
    "plt.figure(figsize=(20, 10))\n",
    "sns.heatmap(accept_rates.T, annot=True)\n",
    "plt.xlabel('A')\n",
    "plt.show()\n"
   ]
  },
  {
   "cell_type": "code",
   "execution_count": null,
   "metadata": {},
   "outputs": [],
   "source": [
    "percentile_size = 10\n",
    "is_submitted_mask = df.is_submitted == True\n",
    "accept_rates = np.zeros([len(crop_area_list)-1, len(centroid_x_list)-1])\n",
    "crop_area_list = list(np.percentile(df.crop_area, range(0, 110, 10)))\n",
    "for i in range(len(crop_area_list) - 1):\n",
    "    low_ca, high_ca = crop_area_list[i], crop_area_list[i+1]\n",
    "    ca_mask = (df.crop_area > low_ca) & (df.crop_area < high_ca)\n",
    "    centroid_x_list = list(np.percentile(df[ca_mask].centroid_x, range(0, 110, 10)))\n",
    "    for j in range(len(centroid_x_list) - 1):\n",
    "        low_cx, high_cx = centroid_x_list[j], centroid_x_list[j+1]\n",
    "        cx_mask = (df.centroid_x > low_cx) & (df.centroid_x < high_cx)\n",
    "        mask = ca_mask & cx_mask\n",
    "        if df[mask].shape[0] > 0:\n",
    "            accept_rates[i, j] = df[mask & is_submitted_mask].shape[0] / df[mask].shape[0]\n",
    "\n",
    "plt.figure(figsize=(20, 10))\n",
    "sns.heatmap(accept_rates.T, annot=True)\n",
    "plt.xlabel('A')\n",
    "plt.show()\n"
   ]
  },
  {
   "cell_type": "code",
   "execution_count": null,
   "metadata": {},
   "outputs": [],
   "source": []
  },
  {
   "cell_type": "code",
   "execution_count": null,
   "metadata": {},
   "outputs": [],
   "source": []
  },
  {
   "cell_type": "code",
   "execution_count": null,
   "metadata": {},
   "outputs": [],
   "source": []
  },
  {
   "cell_type": "code",
   "execution_count": null,
   "metadata": {},
   "outputs": [],
   "source": []
  },
  {
   "cell_type": "code",
   "execution_count": null,
   "metadata": {},
   "outputs": [],
   "source": []
  },
  {
   "cell_type": "code",
   "execution_count": null,
   "metadata": {},
   "outputs": [],
   "source": []
  },
  {
   "cell_type": "code",
   "execution_count": null,
   "metadata": {},
   "outputs": [],
   "source": []
  },
  {
   "cell_type": "code",
   "execution_count": null,
   "metadata": {},
   "outputs": [],
   "source": []
  }
 ],
 "metadata": {
  "kernelspec": {
   "display_name": "Python 3",
   "language": "python",
   "name": "python3"
  },
  "language_info": {
   "codemirror_mode": {
    "name": "ipython",
    "version": 3
   },
   "file_extension": ".py",
   "mimetype": "text/x-python",
   "name": "python",
   "nbconvert_exporter": "python",
   "pygments_lexer": "ipython3",
   "version": "3.6.5"
  }
 },
 "nbformat": 4,
 "nbformat_minor": 2
}
