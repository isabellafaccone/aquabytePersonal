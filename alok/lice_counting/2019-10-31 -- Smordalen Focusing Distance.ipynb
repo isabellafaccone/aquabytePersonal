{
 "cells": [
  {
   "cell_type": "code",
   "execution_count": 1,
   "metadata": {},
   "outputs": [],
   "source": [
    "import json, os\n",
    "import pandas as pd\n",
    "from matplotlib import pyplot as plt\n",
    "from collections import defaultdict\n",
    "import numpy as np\n",
    "from itertools import combinations\n",
    "from sklearn.linear_model import LinearRegression, RANSACRegressor\n",
    "from sklearn.decomposition import PCA\n",
    "from wpca import WPCA\n",
    "from sklearn.preprocessing import StandardScaler\n",
    "from aquabyte.accuracy_metrics import AccuracyMetricsGenerator\n",
    "from aquabyte.data_access_utils import S3AccessUtils, RDSAccessUtils\n",
    "from aquabyte.optics import euclidean_distance, pixel2world\n",
    "from aquabyte.visualize import Visualizer\n",
    "import random\n",
    "from scipy.stats import norm\n",
    "from PIL import Image, ImageDraw\n",
    "from urllib.parse import urlparse\n",
    "from multiprocessing import Pool\n",
    "\n",
    "pd.set_option('display.max_rows', 500)\n",
    "pd.set_option('display.max_colwidth', 500)"
   ]
  },
  {
   "cell_type": "markdown",
   "metadata": {},
   "source": [
    "<h1> Download all available data for Vikane and Tittelsnes </h1>"
   ]
  },
  {
   "cell_type": "code",
   "execution_count": 7,
   "metadata": {},
   "outputs": [],
   "source": [
    "rds_access_utils = RDSAccessUtils(json.load(open(os.environ['PROD_SQL_CREDENTIALS'])))\n",
    "\n",
    "# get Cogito data\n",
    "\n",
    "query = \"\"\"\n",
    "    select * from lati_fish_detections_lice_annotations where pen_id=63;\n",
    "\"\"\"\n",
    "cogito_df = rds_access_utils.extract_from_database(query)\n",
    "\n",
    "# get rid of rows that would already appear in the reconciled table\n",
    "cogito_df = cogito_df[cogito_df.is_skipped == True]\n",
    "cogito_df['is_accepted_in_qa'] = False\n",
    "cogito_df['is_qa'] = False\n",
    "\n",
    "query = \"\"\"\n",
    "    select * from lati_fish_detections_lice_annotations_reconciled where pen_id=63\n",
    "\"\"\"\n",
    "reconciled_df = rds_access_utils.extract_from_database(query)\n",
    "reconciled_df['is_accepted_in_qa'] = False\n",
    "reconciled_df.loc[reconciled_df.adult_female_count >= 0, 'is_accepted_in_qa'] = True"
   ]
  },
  {
   "cell_type": "code",
   "execution_count": 8,
   "metadata": {},
   "outputs": [
    {
     "name": "stderr",
     "output_type": "stream",
     "text": [
      "/home/user/miniconda/envs/py36/lib/python3.6/site-packages/ipykernel_launcher.py:2: FutureWarning: Sorting because non-concatenation axis is not aligned. A future version\n",
      "of pandas will change to not sort by default.\n",
      "\n",
      "To accept the future behavior, pass 'sort=False'.\n",
      "\n",
      "To retain the current behavior and silence the warning, pass 'sort=True'.\n",
      "\n",
      "  \n"
     ]
    }
   ],
   "source": [
    "# combine into single dataframe\n",
    "df = pd.concat([cogito_df, reconciled_df], axis=0)"
   ]
  },
  {
   "cell_type": "code",
   "execution_count": 9,
   "metadata": {},
   "outputs": [],
   "source": [
    "s3_access_utils = S3AccessUtils('/root/data')"
   ]
  },
  {
   "cell_type": "markdown",
   "metadata": {},
   "source": [
    "<h1> Determine Focusing Distance </h1>"
   ]
  },
  {
   "cell_type": "code",
   "execution_count": 11,
   "metadata": {},
   "outputs": [
    {
     "name": "stderr",
     "output_type": "stream",
     "text": [
      "/home/user/miniconda/envs/py36/lib/python3.6/site-packages/ipykernel_launcher.py:18: SettingWithCopyWarning: \n",
      "A value is trying to be set on a copy of a slice from a DataFrame.\n",
      "Try using .loc[row_indexer,col_indexer] = value instead\n",
      "\n",
      "See the caveats in the documentation: http://pandas.pydata.org/pandas-docs/stable/user_guide/indexing.html#returning-a-view-versus-a-copy\n",
      "/home/user/miniconda/envs/py36/lib/python3.6/site-packages/ipykernel_launcher.py:19: SettingWithCopyWarning: \n",
      "A value is trying to be set on a copy of a slice from a DataFrame.\n",
      "Try using .loc[row_indexer,col_indexer] = value instead\n",
      "\n",
      "See the caveats in the documentation: http://pandas.pydata.org/pandas-docs/stable/user_guide/indexing.html#returning-a-view-versus-a-copy\n",
      "/home/user/miniconda/envs/py36/lib/python3.6/site-packages/ipykernel_launcher.py:20: SettingWithCopyWarning: \n",
      "A value is trying to be set on a copy of a slice from a DataFrame.\n",
      "Try using .loc[row_indexer,col_indexer] = value instead\n",
      "\n",
      "See the caveats in the documentation: http://pandas.pydata.org/pandas-docs/stable/user_guide/indexing.html#returning-a-view-versus-a-copy\n",
      "/home/user/miniconda/envs/py36/lib/python3.6/site-packages/ipykernel_launcher.py:21: SettingWithCopyWarning: \n",
      "A value is trying to be set on a copy of a slice from a DataFrame.\n",
      "Try using .loc[row_indexer,col_indexer] = value instead\n",
      "\n",
      "See the caveats in the documentation: http://pandas.pydata.org/pandas-docs/stable/user_guide/indexing.html#returning-a-view-versus-a-copy\n"
     ]
    }
   ],
   "source": [
    "FISH_WIDTH_M = 0.108\n",
    "FISH_LENGTH_M = 0.534\n",
    "FOCAL_LENGTH = 4015\n",
    "\n",
    "def depth_fn(x):\n",
    "    w, h = x['width'], x['height']\n",
    "    theta = np.arctan(h / w) * (180.0 / np.pi)\n",
    "    phi = np.arctan(FISH_WIDTH_M / FISH_LENGTH_M) * (180.0 / np.pi)\n",
    "    if theta < phi:\n",
    "        return w\n",
    "    elif theta > 90.0 - phi:\n",
    "        return h\n",
    "    else:\n",
    "        return (h**2 + w**2)**0.5\n",
    "\n",
    "def process_data_df(df):\n",
    "    df = df[df.is_cleaner_fish != True]\n",
    "    df['image_width'] = df.metadata.apply(lambda x: x['width'])\n",
    "    df['image_height'] = df.metadata.apply(lambda x: x['height'])\n",
    "    df['length_px'] = df.metadata.apply(lambda x: depth_fn(x))\n",
    "    df['single_image_depth_m'] = FOCAL_LENGTH * FISH_LENGTH_M / df.length_px\n",
    "    return df\n",
    "\n",
    "df = process_data_df(df)\n"
   ]
  },
  {
   "cell_type": "code",
   "execution_count": null,
   "metadata": {},
   "outputs": [],
   "source": []
  },
  {
   "cell_type": "code",
   "execution_count": null,
   "metadata": {},
   "outputs": [],
   "source": []
  },
  {
   "cell_type": "code",
   "execution_count": null,
   "metadata": {},
   "outputs": [],
   "source": []
  },
  {
   "cell_type": "code",
   "execution_count": null,
   "metadata": {},
   "outputs": [],
   "source": []
  },
  {
   "cell_type": "code",
   "execution_count": null,
   "metadata": {},
   "outputs": [],
   "source": []
  },
  {
   "cell_type": "code",
   "execution_count": null,
   "metadata": {},
   "outputs": [],
   "source": []
  },
  {
   "cell_type": "code",
   "execution_count": null,
   "metadata": {},
   "outputs": [],
   "source": []
  },
  {
   "cell_type": "code",
   "execution_count": null,
   "metadata": {},
   "outputs": [],
   "source": []
  },
  {
   "cell_type": "code",
   "execution_count": null,
   "metadata": {},
   "outputs": [],
   "source": []
  },
  {
   "cell_type": "markdown",
   "metadata": {},
   "source": [
    "<h1> Bremnes Tittelsnes Analysis </h1>"
   ]
  },
  {
   "cell_type": "code",
   "execution_count": null,
   "metadata": {},
   "outputs": [],
   "source": [
    "ts_mask = cogito_df.captured_at >= '2019-09-20'\n",
    "pen_id_mask = cogito_df.pen_id == 37\n",
    "\n",
    "df = cogito_df[ts_mask & pen_id_mask]"
   ]
  },
  {
   "cell_type": "code",
   "execution_count": null,
   "metadata": {},
   "outputs": [],
   "source": [
    "FISH_WIDTH_M = 0.108\n",
    "FISH_LENGTH_M = 0.534\n",
    "FOCAL_LENGTH = 4015\n",
    "\n",
    "def depth_fn(x):\n",
    "    w, h = x['width'], x['height']\n",
    "    theta = np.arctan(h / w) * (180.0 / np.pi)\n",
    "    phi = np.arctan(FISH_WIDTH_M / FISH_LENGTH_M) * (180.0 / np.pi)\n",
    "    if theta < phi:\n",
    "        return w\n",
    "    elif theta > 90.0 - phi:\n",
    "        return h\n",
    "    else:\n",
    "        return (h**2 + w**2)**0.5\n",
    "\n",
    "def process_data_df(df):\n",
    "    df = df[df.is_cleaner_fish != True]\n",
    "    df['image_width'] = df.metadata.apply(lambda x: x['width'])\n",
    "    df['image_height'] = df.metadata.apply(lambda x: x['height'])\n",
    "    df['length_px'] = df.metadata.apply(lambda x: depth_fn(x))\n",
    "    df['single_image_depth_m'] = FOCAL_LENGTH * FISH_LENGTH_M / df.length_px\n",
    "    return df\n",
    "\n",
    "df = process_data_df(df)\n"
   ]
  },
  {
   "cell_type": "code",
   "execution_count": null,
   "metadata": {},
   "outputs": [],
   "source": []
  },
  {
   "cell_type": "code",
   "execution_count": null,
   "metadata": {},
   "outputs": [],
   "source": [
    "plt.figure(figsize=(20, 10))\n",
    "plt.hist(df.single_image_depth_m, bins=100, color='blue', alpha=0.5)\n",
    "plt.hist(df[df.is_skipped != True].single_image_depth_m, bins=100, color='red', alpha=0.5)\n",
    "plt.grid()\n",
    "plt.show()"
   ]
  },
  {
   "cell_type": "code",
   "execution_count": null,
   "metadata": {},
   "outputs": [],
   "source": []
  },
  {
   "cell_type": "code",
   "execution_count": null,
   "metadata": {},
   "outputs": [],
   "source": []
  },
  {
   "cell_type": "code",
   "execution_count": null,
   "metadata": {},
   "outputs": [],
   "source": [
    "dof_mask = (df.single_image_depth_m > 0.5) & (df.single_image_depth_m < 1.1)\n",
    "bad_crop_mask = (df.is_bad_crop | df.is_bad_crop_cut_off | df.is_bad_crop_many_fish | df.is_bad_orientation | df.is_cleaner_fish | df.is_obstructed )\n",
    "reject_mask = df.is_skipped == True\n",
    "\n",
    "original_skip_rate = df[reject_mask].shape[0] / df.shape[0]\n",
    "print('Original skip rate: {}'.format(original_skip_rate))\n",
    "\n",
    "skip_rate_after_hard_depth_cutoff = df[dof_mask & reject_mask].shape[0] / df[dof_mask].shape[0]\n",
    "print('Skip rate after hard depth cutoff: {}'.format(skip_rate_after_hard_depth_cutoff))\n",
    "\n",
    "\n",
    "pct_rejects_in_dof_bad_crop = (df[dof_mask & bad_crop_mask].shape[0] / df[dof_mask & reject_mask].shape[0])\n",
    "print('Percentage of rejects within depth of field that are bad crops: {}'.format(pct_rejects_in_dof_bad_crop))\n",
    "\n",
    "skip_rate_assuming_perfect_cropper = (df[dof_mask & reject_mask & ~bad_crop_mask].shape[0] / df[dof_mask & ~bad_crop_mask].shape[0])\n",
    "print('Skip rate assuming hard depth cutoff & perfect cropper: {}'.format(skip_rate_assuming_perfect_cropper))\n"
   ]
  },
  {
   "cell_type": "code",
   "execution_count": null,
   "metadata": {},
   "outputs": [],
   "source": [
    "df[df.is_skipped == False].image_url"
   ]
  },
  {
   "cell_type": "code",
   "execution_count": null,
   "metadata": {},
   "outputs": [],
   "source": []
  },
  {
   "cell_type": "code",
   "execution_count": null,
   "metadata": {},
   "outputs": [],
   "source": []
  },
  {
   "cell_type": "code",
   "execution_count": null,
   "metadata": {},
   "outputs": [],
   "source": []
  },
  {
   "cell_type": "code",
   "execution_count": null,
   "metadata": {},
   "outputs": [],
   "source": []
  },
  {
   "cell_type": "code",
   "execution_count": null,
   "metadata": {},
   "outputs": [],
   "source": []
  },
  {
   "cell_type": "code",
   "execution_count": null,
   "metadata": {},
   "outputs": [],
   "source": []
  },
  {
   "cell_type": "code",
   "execution_count": null,
   "metadata": {},
   "outputs": [],
   "source": []
  },
  {
   "cell_type": "code",
   "execution_count": null,
   "metadata": {},
   "outputs": [],
   "source": []
  },
  {
   "cell_type": "code",
   "execution_count": null,
   "metadata": {},
   "outputs": [],
   "source": []
  },
  {
   "cell_type": "code",
   "execution_count": null,
   "metadata": {},
   "outputs": [],
   "source": []
  },
  {
   "cell_type": "code",
   "execution_count": null,
   "metadata": {},
   "outputs": [],
   "source": [
    "#!/usr/bin/env python\n",
    "# coding: utf-8\n",
    "\n",
    "# In[45]:\n",
    "\n",
    "\n",
    "import numpy as np\n",
    "from matplotlib import pyplot as plt\n",
    "import math\n",
    "import psycopg2\n",
    "import json\n",
    "\n",
    "# tittlesness\n",
    "# FISH_LENGTH = 534;\n",
    "# FISH_WIDTH = 108;\n",
    "\n",
    "# # vikane\n",
    "# FISH_LENGTH = 294;\n",
    "# FISH_WIDTH = 65;\n",
    "\n",
    "# hiskolmen\n",
    "FISH_LENGTH = 685;\n",
    "FISH_WIDTH = 133;\n",
    "\n",
    "FOCAL_LENGTH = 4015;\n",
    "THETA = math.atan(FISH_WIDTH / FISH_LENGTH) * (180 /  math.pi); \n",
    "\n",
    "\n",
    "def data_pull(annotation_state_id, pen_id):\n",
    "    res = []\n",
    "\n",
    "    print(\"Pulling...\")\n",
    "    #connect to DB\n",
    "#     host = 'aquabyte-prod.cfwlu7jbdcqj.eu-west-1.rds.amazonaws.com'\n",
    "#     user = 'aquabyte'\n",
    "#     password = 'B^}UNbLU9gcVxe9JMuBfzmm'\n",
    "#     dbname = 'aquabyte_prod'\n",
    "    host = 'aquabyte-service-metadata.cfwlu7jbdcqj.eu-west-1.rds.amazonaws.com'\n",
    "    user = 'aquabyte_ro'\n",
    "    password = 'kristian2019'\n",
    "    dbname = 'aquabyte_prod_dw'\n",
    "    \n",
    "    conn = None\n",
    "    try:\n",
    "        conn = psycopg2.connect(\"dbname=\"+dbname+\" user=\"+user+\" host=\"+host+\" password=\"+password)\n",
    "        cur = conn.cursor()\n",
    "        # execute statement\n",
    "        cur.execute(\"select                     captured_at,                     left_crop_metadata->>'width' as width,                     left_crop_metadata->>'height' as height,                     left_crop_metadata->>'crop_area' as crop_area,                     left_crop_metadata->>'mean_luminance' as mean_lum,                     left_crop_metadata->>'mean_green_luminance' as mean_green_lum,                     skip_reasons                     from prod.crop_annotation                     where pen_id = \"+pen_id+\" and captured_at > '2019-09-20' and annotation_state_id = \"+annotation_state_id)\n",
    "        \n",
    "        # fetch rows\n",
    "        rows = cur.fetchall()\n",
    "        for row in rows:\n",
    "            res.append(row)\n",
    "\n",
    "        cur.close()\n",
    "        print(\"SUCCESSFULLY SELECTED FROM DB.\")\n",
    "    except psycopg2.DatabaseError as error:\n",
    "        print(error)\n",
    "        print(\"COULD NOT CONNECT TO DB\")\n",
    "    finally:\n",
    "        if conn is not None:\n",
    "            conn.close()\n",
    "\n",
    "    print(\"Operation done successfully\")\n",
    "    return res\n",
    "\n",
    "def get_depth(width, height):\n",
    "    pixelLength = 0;\n",
    "    phi = math.atan(width/height) * (180 / math.pi);\n",
    "    if (phi < THETA):\n",
    "        pixelLength = width;\n",
    "    elif phi > (90 - THETA):\n",
    "        pixelLength = height\n",
    "    else:\n",
    "        pixelLength = math.sqrt(math.pow(height, 2) + math.pow(width, 2))\n",
    "    \n",
    "    depth = (FOCAL_LENGTH * FISH_LENGTH) / pixelLength;\n",
    "    return depth\n",
    "\n",
    "def calculate():\n",
    "   \n",
    "    #4 Annotator skips\n",
    "    #3 Annotator accepts\n",
    "    \n",
    "    #6 QA skips\n",
    "    #7 QA accepts\n",
    "    \n",
    "    pen_id = '40'\n",
    "    \n",
    "    res = data_pull('3', pen_id)\n",
    "    print(\"ROW COUNT:\", len(res))\n",
    "\n",
    "    \n",
    "    # do calculations\n",
    "    accepted_data = []\n",
    "    for row in res:\n",
    "        width = int(row[1])\n",
    "        height = int(row[2])    \n",
    "\n",
    "        depth = get_depth(width, height)\n",
    "        #mean_green_lum = float(row[5])\n",
    "        accepted_data.append(depth/10)\n",
    "        \n",
    "        \n",
    "    res2 = data_pull('4', pen_id)\n",
    "    total = len(res2)\n",
    "    print(\"ROW COUNT:\", len(res2))\n",
    "    \n",
    "    # do calculations\n",
    "    skipped_data = []\n",
    "\n",
    "    for row in res2:\n",
    "        width = int(row[1])\n",
    "        height = int(row[2])    \n",
    "        \n",
    "        depth = get_depth(width, height)\n",
    "        #mean_green_lum = float(row[5])\n",
    "        skipped_data.append(depth/10)\n",
    "        \n",
    "        \n",
    "\n",
    "    #mixed\n",
    "    plt.title(\"Hiskolmen depth accepts+skips > 9/15\")\n",
    "    _, bins, _ = plt.hist(accepted_data, bins=100, range=[0, 200], density=False)\n",
    "    _ = plt.hist(skipped_data, bins=bins, alpha=0.5, density=False)\n",
    "    return accepted_data, skipped_data\n",
    "    \n",
    "\n",
    "    \n",
    "    \n",
    "accepted_data, skipped_data = calculate()\n"
   ]
  },
  {
   "cell_type": "code",
   "execution_count": null,
   "metadata": {},
   "outputs": [],
   "source": []
  },
  {
   "cell_type": "code",
   "execution_count": null,
   "metadata": {},
   "outputs": [],
   "source": []
  },
  {
   "cell_type": "code",
   "execution_count": null,
   "metadata": {},
   "outputs": [],
   "source": [
    "rdf[(~rdf.is_accepted_in_qa) & (rdf.is_bad_crop_cut_off | rdf.is_bad_crop | rdf.is_bad_crop_many_fish | rdf.is_bad_orientation | rdf.is_obstructed) & (rdf.single_image_depth_m < 1.1)].shape[0] / rdf[(~rdf.is_accepted_in_qa) & (rdf.single_image_depth_m < 1.1)].shape[0]\n",
    "\n"
   ]
  },
  {
   "cell_type": "code",
   "execution_count": null,
   "metadata": {},
   "outputs": [],
   "source": [
    "25/(25+37.5)"
   ]
  },
  {
   "cell_type": "code",
   "execution_count": null,
   "metadata": {},
   "outputs": [],
   "source": []
  },
  {
   "cell_type": "code",
   "execution_count": null,
   "metadata": {},
   "outputs": [],
   "source": []
  },
  {
   "cell_type": "code",
   "execution_count": null,
   "metadata": {},
   "outputs": [],
   "source": []
  },
  {
   "cell_type": "code",
   "execution_count": null,
   "metadata": {},
   "outputs": [],
   "source": []
  }
 ],
 "metadata": {
  "kernelspec": {
   "display_name": "Python 3",
   "language": "python",
   "name": "python3"
  },
  "language_info": {
   "codemirror_mode": {
    "name": "ipython",
    "version": 3
   },
   "file_extension": ".py",
   "mimetype": "text/x-python",
   "name": "python",
   "nbconvert_exporter": "python",
   "pygments_lexer": "ipython3",
   "version": "3.6.5"
  }
 },
 "nbformat": 4,
 "nbformat_minor": 2
}
