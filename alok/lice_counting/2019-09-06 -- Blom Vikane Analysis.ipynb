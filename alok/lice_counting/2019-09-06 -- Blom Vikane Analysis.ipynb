{
 "cells": [
  {
   "cell_type": "code",
   "execution_count": null,
   "metadata": {},
   "outputs": [],
   "source": [
    "import json, os\n",
    "import pandas as pd\n",
    "from matplotlib import pyplot as plt\n",
    "from collections import defaultdict\n",
    "import numpy as np\n",
    "from itertools import combinations\n",
    "from sklearn.linear_model import LinearRegression, RANSACRegressor\n",
    "from sklearn.decomposition import PCA\n",
    "from wpca import WPCA\n",
    "from sklearn.preprocessing import StandardScaler\n",
    "from aquabyte.accuracy_metrics import AccuracyMetricsGenerator\n",
    "from aquabyte.data_access_utils import S3AccessUtils, RDSAccessUtils\n",
    "from aquabyte.optics import euclidean_distance, pixel2world\n",
    "from aquabyte.visualize import Visualizer\n",
    "import random\n",
    "from scipy.stats import norm\n",
    "from PIL import Image, ImageDraw\n",
    "from urllib.parse import urlparse\n",
    "\n",
    "pd.set_option('display.max_rows', 500)\n",
    "pd.set_option('display.max_colwidth', 500)"
   ]
  },
  {
   "cell_type": "markdown",
   "metadata": {},
   "source": [
    "<h1> Get lice annotation data </h1>"
   ]
  },
  {
   "cell_type": "code",
   "execution_count": null,
   "metadata": {},
   "outputs": [],
   "source": [
    "rds_access_utils = RDSAccessUtils(json.load(open(os.environ['PROD_SQL_CREDENTIALS'])))\n",
    "query = \"\"\"\n",
    "    select * from lati_fish_detections_lice_annotations where (pen_id = 57 or pen_id=58 or pen_id=59 or pen_id=60)\n",
    "    and captured_at >= '2019-09-07'\n",
    "\"\"\"\n",
    "df = rds_access_utils.extract_from_database(query)"
   ]
  },
  {
   "cell_type": "code",
   "execution_count": null,
   "metadata": {},
   "outputs": [],
   "source": [
    "query = \"\"\"\n",
    "    select * from lati_fish_detections_lice_annotations_reconciled where (pen_id = 57 or pen_id=58 or pen_id=59 or pen_id=60)\n",
    "    and captured_at >= '2019-09-07'\n",
    "\"\"\"\n",
    "reconciled_df = rds_access_utils.extract_from_database(query)"
   ]
  },
  {
   "cell_type": "code",
   "execution_count": null,
   "metadata": {},
   "outputs": [],
   "source": [
    "s3_access_utils = S3AccessUtils('/root/data')"
   ]
  },
  {
   "cell_type": "code",
   "execution_count": null,
   "metadata": {},
   "outputs": [],
   "source": [
    "df = df[df.is_cleaner_fish != True]"
   ]
  },
  {
   "cell_type": "code",
   "execution_count": null,
   "metadata": {},
   "outputs": [],
   "source": []
  },
  {
   "cell_type": "code",
   "execution_count": null,
   "metadata": {},
   "outputs": [],
   "source": []
  },
  {
   "cell_type": "code",
   "execution_count": null,
   "metadata": {},
   "outputs": [],
   "source": [
    "def depth_fn(x):\n",
    "    w, h = x['width'], x['height']\n",
    "    theta = np.arctan(h / w) * (180.0 / np.pi)\n",
    "    phi = np.arctan(0.25) * (180.0 / np.pi)\n",
    "    if theta < phi:\n",
    "        return w\n",
    "    elif theta > 90.0 - phi:\n",
    "        return h\n",
    "    else:\n",
    "        return (h**2 + w**2)**0.5"
   ]
  },
  {
   "cell_type": "code",
   "execution_count": null,
   "metadata": {},
   "outputs": [],
   "source": [
    "focal_length_px = 4015\n",
    "avg_fish_length_cm = 25.0\n",
    "\n",
    "df['image_width'] = df.metadata.apply(lambda x: x['width'])\n",
    "df['image_height'] = df.metadata.apply(lambda x: x['height'])\n",
    "df['length_px'] = df.metadata.apply(lambda x: depth_fn(x))\n",
    "df['depth'] = focal_length_px * avg_fish_length_cm / df.length_px"
   ]
  },
  {
   "cell_type": "code",
   "execution_count": null,
   "metadata": {},
   "outputs": [],
   "source": [
    "focal_length_px = 4015\n",
    "avg_fish_length_cm = 25.0\n",
    "\n",
    "reconciled_df['image_width'] = reconciled_df.metadata.apply(lambda x: x['width'])\n",
    "reconciled_df['image_height'] = reconciled_df.metadata.apply(lambda x: x['height'])\n",
    "reconciled_df['length_px'] = reconciled_df.metadata.apply(lambda x: depth_fn(x))\n",
    "reconciled_df['depth'] = focal_length_px * avg_fish_length_cm / reconciled_df.length_px"
   ]
  },
  {
   "cell_type": "code",
   "execution_count": null,
   "metadata": {},
   "outputs": [],
   "source": []
  },
  {
   "cell_type": "code",
   "execution_count": null,
   "metadata": {},
   "outputs": [],
   "source": [
    "in_focus_mask = (df.depth > 75) & (df.depth < 105)\n",
    "cogito_accept_mask = ~df.is_skipped\n",
    "\n",
    "\n",
    "n = df.shape[0]\n",
    "n_in_focus = df[in_focus_mask].shape[0]\n",
    "n_in_focus_accepted_cogito = df[in_focus_mask & (cogito_accept_mask)].shape[0]\n",
    "n_not_in_focus_accepted_cogito = df[~in_focus_mask & (cogito_accept_mask)].shape[0]\n",
    "\n",
    "\n",
    "print('Total number of images inspected by Cogito over the weekend: {}'.format(n))\n",
    "print('Total number of these images within in-focus range (75 cm - 105 cm): {}'.format(n_in_focus))\n",
    "print('Total number of in-focus images accepted by Cogito: {}'.format(n_in_focus_accepted_cogito))\n",
    "print('Total number of not-in-focus images accepted by Cogito: {}'.format(n_not_in_focus_accepted_cogito))"
   ]
  },
  {
   "cell_type": "code",
   "execution_count": null,
   "metadata": {},
   "outputs": [],
   "source": []
  },
  {
   "cell_type": "code",
   "execution_count": null,
   "metadata": {},
   "outputs": [],
   "source": []
  },
  {
   "cell_type": "markdown",
   "metadata": {},
   "source": [
    "<h1> What should Cogito have done? </h1>"
   ]
  },
  {
   "cell_type": "code",
   "execution_count": null,
   "metadata": {},
   "outputs": [],
   "source": [
    "df[in_focus_mask & cogito_accept_mask].depth"
   ]
  },
  {
   "cell_type": "code",
   "execution_count": null,
   "metadata": {},
   "outputs": [],
   "source": [
    "for idx, row in df[in_focus_mask].iterrows():\n",
    "    s3_access_utils.download_from_s3()"
   ]
  },
  {
   "cell_type": "code",
   "execution_count": null,
   "metadata": {},
   "outputs": [],
   "source": [
    "df[~in_focus_mask & cogito_accept_mask][['image_url', 'is_too_dark', 'is_blurry', 'is_bad_crop', 'is_cleaner_fish', 'depth']]"
   ]
  },
  {
   "cell_type": "code",
   "execution_count": null,
   "metadata": {},
   "outputs": [],
   "source": [
    "plt.hist(df[cogito_accept_mask].depth, bins=20)\n",
    "plt.show()"
   ]
  },
  {
   "cell_type": "code",
   "execution_count": null,
   "metadata": {},
   "outputs": [],
   "source": [
    "(1034**2+727**2)**.5"
   ]
  },
  {
   "cell_type": "code",
   "execution_count": null,
   "metadata": {},
   "outputs": [],
   "source": [
    "4015*250 / (1263)"
   ]
  },
  {
   "cell_type": "code",
   "execution_count": null,
   "metadata": {},
   "outputs": [],
   "source": []
  },
  {
   "cell_type": "code",
   "execution_count": null,
   "metadata": {},
   "outputs": [],
   "source": [
    "(4015 * 0.005) / 0.78"
   ]
  },
  {
   "cell_type": "code",
   "execution_count": null,
   "metadata": {},
   "outputs": [],
   "source": [
    "reconciled_df[reconciled_df.adult_female_count > 0].head()"
   ]
  },
  {
   "cell_type": "code",
   "execution_count": null,
   "metadata": {},
   "outputs": [],
   "source": [
    "reconciled_df[['adult_female_count_adjusted', 'moving_count_adjusted']].sum()"
   ]
  },
  {
   "cell_type": "code",
   "execution_count": null,
   "metadata": {},
   "outputs": [],
   "source": [
    "reconciled_df[reconciled_df.moving_count_adjusted == 1]"
   ]
  },
  {
   "cell_type": "code",
   "execution_count": null,
   "metadata": {},
   "outputs": [],
   "source": []
  },
  {
   "cell_type": "code",
   "execution_count": null,
   "metadata": {},
   "outputs": [],
   "source": [
    "focal_length = 0.0138 / 3.45e-6\n",
    "baseline = 0.101\n",
    "disparity = (248-200) * (4096/512.)\n",
    "depth = focal_length * baseline / disparity\n",
    "print(depth)"
   ]
  },
  {
   "cell_type": "code",
   "execution_count": null,
   "metadata": {},
   "outputs": [],
   "source": []
  },
  {
   "cell_type": "code",
   "execution_count": null,
   "metadata": {},
   "outputs": [],
   "source": []
  },
  {
   "cell_type": "code",
   "execution_count": null,
   "metadata": {},
   "outputs": [],
   "source": [
    "plt.hist(reconciled_df[~reconciled_df.is_skipped].depth, bins=20)\n",
    "plt.show()"
   ]
  },
  {
   "cell_type": "code",
   "execution_count": null,
   "metadata": {},
   "outputs": [],
   "source": [
    "reconciled_df.loc[~reconciled_df.is_skipped, ['image_url', 'depth']]"
   ]
  },
  {
   "cell_type": "code",
   "execution_count": null,
   "metadata": {},
   "outputs": [],
   "source": [
    "df[df.is_skipped == True].sample(2000)"
   ]
  },
  {
   "cell_type": "code",
   "execution_count": null,
   "metadata": {},
   "outputs": [],
   "source": [
    "modified_images_dir = '/root/data/alok/biomass_estimation/modified_images/'\n",
    "object_length_cm = 1.0\n",
    "\n",
    "cogito_accept_mask = ~df.is_skipped\n",
    "qa_accept_mask = ~reconciled_df.is_skipped\n",
    "depth_values = np.arange(25, 125, 10)\n",
    "for i in range(len(depth_values)-1):\n",
    "    lo, hi = int(depth_values[i]), int(depth_values[i+1])\n",
    "    depth_mask = (df.depth >= lo) & (df.depth <= hi)\n",
    "    reconciled_depth_mask = (reconciled_df.depth >= lo) & (reconciled_df.depth <= hi)\n",
    "    \n",
    "    # rejected images\n",
    "    for idx, row in df[depth_mask & ~cogito_accept_mask].head(20).iterrows():\n",
    "        depth = row.depth\n",
    "        line_segment_length_px = object_length_cm * 4015 / depth\n",
    "        image_url = row.image_url\n",
    "        s3_path_components = urlparse(image_url, allow_fragments=False).path.lstrip('/').split('/')\n",
    "        bucket, key = s3_path_components[0], os.path.join(*s3_path_components[1:])\n",
    "        image_f = s3_access_utils.download_from_s3(bucket, key)\n",
    "        \n",
    "        im = Image.open(image_f)\n",
    "        draw = ImageDraw.Draw(im)\n",
    "        draw.line((100, 100, 100+line_segment_length_px, 100))\n",
    "        \n",
    "        f_name = os.path.basename(key)\n",
    "        f = os.path.join(modified_images_dir, '{}_{}'.format(lo, hi), 'rejected', f_name)\n",
    "        if not os.path.exists(os.path.dirname(f)):\n",
    "            os.makedirs(os.path.dirname(f))\n",
    "        im.save(f)\n",
    "        break\n",
    "        \n",
    "    # accepted images\n",
    "    for idx, row in reconciled_df[reconciled_depth_mask & qa_accept_mask].iterrows():\n",
    "        depth = row.depth\n",
    "        line_segment_length_px = object_length_cm * 4015 / depth\n",
    "        image_url = row.image_url\n",
    "        s3_path_components = urlparse(image_url, allow_fragments=False).path.lstrip('/').split('/')\n",
    "        bucket, key = s3_path_components[0], os.path.join(*s3_path_components[1:])\n",
    "        image_f = s3_access_utils.download_from_s3(bucket, key)\n",
    "        \n",
    "        im = Image.open(image_f)\n",
    "        draw = ImageDraw.Draw(im)\n",
    "        draw.line((100, 100, 100+line_segment_length_px, 100))\n",
    "        \n",
    "        f_name = os.path.basename(key)\n",
    "        f = os.path.join(modified_images_dir, '{}_{}'.format(lo, hi), 'accepted', f_name)\n",
    "        if not os.path.exists(os.path.dirname(f)):\n",
    "            os.makedirs(os.path.dirname(f))\n",
    "        im.save(f)\n",
    "        break\n",
    "\n",
    "        "
   ]
  },
  {
   "cell_type": "code",
   "execution_count": null,
   "metadata": {},
   "outputs": [],
   "source": []
  },
  {
   "cell_type": "code",
   "execution_count": null,
   "metadata": {},
   "outputs": [],
   "source": []
  },
  {
   "cell_type": "markdown",
   "metadata": {},
   "source": [
    "<h1> Generate depth values </h1>"
   ]
  },
  {
   "cell_type": "code",
   "execution_count": null,
   "metadata": {},
   "outputs": [],
   "source": []
  },
  {
   "cell_type": "code",
   "execution_count": null,
   "metadata": {},
   "outputs": [],
   "source": []
  },
  {
   "cell_type": "code",
   "execution_count": null,
   "metadata": {},
   "outputs": [],
   "source": []
  },
  {
   "cell_type": "code",
   "execution_count": null,
   "metadata": {},
   "outputs": [],
   "source": []
  },
  {
   "cell_type": "code",
   "execution_count": null,
   "metadata": {},
   "outputs": [],
   "source": []
  },
  {
   "cell_type": "code",
   "execution_count": null,
   "metadata": {},
   "outputs": [],
   "source": []
  }
 ],
 "metadata": {
  "kernelspec": {
   "display_name": "Python 3",
   "language": "python",
   "name": "python3"
  },
  "language_info": {
   "codemirror_mode": {
    "name": "ipython",
    "version": 3
   },
   "file_extension": ".py",
   "mimetype": "text/x-python",
   "name": "python",
   "nbconvert_exporter": "python",
   "pygments_lexer": "ipython3",
   "version": "3.5.2"
  }
 },
 "nbformat": 4,
 "nbformat_minor": 2
}
