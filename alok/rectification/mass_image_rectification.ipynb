{
 "cells": [
  {
   "cell_type": "markdown",
   "metadata": {},
   "source": [
    "<h1> Mass Image Rectification </h1>"
   ]
  },
  {
   "cell_type": "code",
   "execution_count": 1,
   "metadata": {},
   "outputs": [
    {
     "name": "stderr",
     "output_type": "stream",
     "text": [
      "/usr/lib/python3.5/importlib/_bootstrap.py:222: RuntimeWarning: numpy.dtype size changed, may indicate binary incompatibility. Expected 96, got 88\n",
      "  return f(*args, **kwds)\n",
      "/usr/lib/python3.5/importlib/_bootstrap.py:222: RuntimeWarning: numpy.dtype size changed, may indicate binary incompatibility. Expected 96, got 88\n",
      "  return f(*args, **kwds)\n"
     ]
    }
   ],
   "source": [
    "import glob\n",
    "import json\n",
    "import os\n",
    "from multiprocessing import Pool, pool\n",
    "\n",
    "import cv2\n",
    "import matplotlib.pyplot as plt\n",
    "import numpy as np\n",
    "import csv\n",
    "\n",
    "from scipy.io import loadmat\n",
    "import tables"
   ]
  },
  {
   "cell_type": "code",
   "execution_count": null,
   "metadata": {},
   "outputs": [],
   "source": []
  },
  {
   "cell_type": "code",
   "execution_count": null,
   "metadata": {},
   "outputs": [],
   "source": []
  },
  {
   "cell_type": "markdown",
   "metadata": {},
   "source": [
    "<h1> Load parameters file </h1>"
   ]
  },
  {
   "cell_type": "code",
   "execution_count": 2,
   "metadata": {},
   "outputs": [],
   "source": [
    "def load_params(params_file):\n",
    "    params = json.load(open(params_file))\n",
    "    cameraMatrix1 = np.array(params['CameraParameters1']['IntrinsicMatrix']).transpose()\n",
    "    cameraMatrix2 = np.array(params['CameraParameters2']['IntrinsicMatrix']).transpose()\n",
    "\n",
    "    distCoeffs1 = params['CameraParameters1']['RadialDistortion'][0:2] + \\\n",
    "                   params['CameraParameters1']['TangentialDistortion'] + \\\n",
    "                   [params['CameraParameters1']['RadialDistortion'][2]]\n",
    "    distCoeffs1 = np.array(distCoeffs1)\n",
    "\n",
    "    distCoeffs2 = params['CameraParameters2']['RadialDistortion'][0:2] + \\\n",
    "                   params['CameraParameters2']['TangentialDistortion'] + \\\n",
    "                   [params['CameraParameters2']['RadialDistortion'][2]]\n",
    "    distCoeffs2 = np.array(distCoeffs2)\n",
    "\n",
    "    R = np.array(params['RotationOfCamera2']).transpose()\n",
    "    T = np.array(params['TranslationOfCamera2']).transpose()\n",
    "\n",
    "    imageSize = (4096, 3000)\n",
    "    \n",
    "    # perform rectification\n",
    "    (R1, R2, P1, P2, Q, leftROI, rightROI) = cv2.stereoRectify(cameraMatrix1, distCoeffs1, cameraMatrix2, distCoeffs2, imageSize, R, T, None, None, None, None, None, cv2.CALIB_ZERO_DISPARITY, 0)\n",
    "\n",
    "    left_maps = cv2.initUndistortRectifyMap(cameraMatrix1, distCoeffs1, R1, P1, imageSize, cv2.CV_16SC2)\n",
    "    right_maps = cv2.initUndistortRectifyMap(cameraMatrix2, distCoeffs2, R2, P2, imageSize, cv2.CV_16SC2)\n",
    "    \n",
    "    return left_maps, right_maps"
   ]
  },
  {
   "cell_type": "code",
   "execution_count": 3,
   "metadata": {},
   "outputs": [],
   "source": [
    "params_file = '/root/alok/data/rectifications/underwater_enclosure_02/stereo_parameters.json'\n",
    "left_maps, right_maps = load_params(params_file)"
   ]
  },
  {
   "cell_type": "code",
   "execution_count": null,
   "metadata": {},
   "outputs": [],
   "source": []
  },
  {
   "cell_type": "code",
   "execution_count": null,
   "metadata": {},
   "outputs": [],
   "source": []
  },
  {
   "cell_type": "markdown",
   "metadata": {},
   "source": [
    "<h1> Load all raw stereo image pairs to be rectified </h1>"
   ]
  },
  {
   "cell_type": "code",
   "execution_count": 4,
   "metadata": {},
   "outputs": [],
   "source": [
    "def remap_and_save(img_path, output_dir, left_maps, right_maps):\n",
    "    \n",
    "    new_path = os.path.join(output_dir, os.path.basename(img_path))\n",
    "    print('Old path: {}'.format(img_path))\n",
    "    print('New path: {}'.format(new_path))\n",
    "    \n",
    "    img = cv2.imread(img_path)\n",
    "    if 'left' in img_path:\n",
    "        img_remap = cv2.remap(img, left_maps[0], left_maps[1], cv2.INTER_LANCZOS4)\n",
    "    elif 'right' in img_path:\n",
    "        img_remap = cv2.remap(img, right_maps[0], right_maps[1], cv2.INTER_LANCZOS4)\n",
    "    else:\n",
    "        raise Exception('Image path does not contain side')\n",
    "    if not os.path.isdir(os.path.dirname(new_path)):\n",
    "        os.makedirs(os.path.dirname(new_path))\n",
    "    if not os.path.isfile(new_path):\n",
    "        cv2.imwrite(new_path, img_remap)\n",
    "\n",
    "\n",
    "\n",
    "\n"
   ]
  },
  {
   "cell_type": "code",
   "execution_count": 7,
   "metadata": {},
   "outputs": [],
   "source": [
    "# specify the directory from which raw stereo frame pairs will be ingested\n",
    "stereo_image_pairs_base_directory = '/root/alok/data/images/stereo_frame_pairs_test_set/'\n",
    "\n",
    "# define output directory to which all rectified images will be written\n",
    "rectified_stereo_image_pairs_base_directory = '/root/alok/data/images/rectified_stereo_frame_pairs_test_set/'\n",
    "\n",
    "# get list of all stereo frame pairs\n",
    "left_images = glob.glob('{}/*/input/left_frame.jpg'.format(stereo_image_pairs_base_directory))\n",
    "right_images = glob.glob('{}/*/input/right_frame.jpg'.format(stereo_image_pairs_base_directory))\n",
    "stereo_frame_pairs = list(zip(sorted(left_images), sorted(right_images)))\n",
    "\n",
    "# create list of arguments to be mapped to multiprocessor\n",
    "arguments_list = []\n",
    "for sfp in stereo_frame_pairs:\n",
    "    left_image_path = sfp[0]\n",
    "    left_output_dir = os.path.dirname(left_image_path).replace(stereo_image_pairs_base_directory, \n",
    "                                                               rectified_stereo_image_pairs_base_directory)\n",
    "    \n",
    "    left_arguments = [left_image_path, left_output_dir, left_maps, right_maps]\n",
    "    arguments_list.append(left_arguments)\n",
    "    \n",
    "    right_image_path = sfp[1]\n",
    "    right_output_dir = os.path.dirname(right_image_path).replace(stereo_image_pairs_base_directory, \n",
    "                                                                 rectified_stereo_image_pairs_base_directory)\n",
    "    \n",
    "    right_arguments = [right_image_path, right_output_dir, left_maps, right_maps]\n",
    "    arguments_list.append(right_arguments)\n"
   ]
  },
  {
   "cell_type": "code",
   "execution_count": null,
   "metadata": {},
   "outputs": [],
   "source": []
  },
  {
   "cell_type": "code",
   "execution_count": null,
   "metadata": {},
   "outputs": [],
   "source": []
  },
  {
   "cell_type": "markdown",
   "metadata": {},
   "source": [
    "<h1> Run rectification en masse </h1>"
   ]
  },
  {
   "cell_type": "code",
   "execution_count": 8,
   "metadata": {},
   "outputs": [
    {
     "name": "stdout",
     "output_type": "stream",
     "text": [
      "Old path: /root/alok/data/images/stereo_frame_pairs_test_set/0/input/left_frame.jpg\n",
      "New path: /root/alok/data/images/rectified_stereo_frame_pairs_test_set/0/input/left_frame.jpg\n",
      "Old path: /root/alok/data/images/stereo_frame_pairs_test_set/0/input/right_frame.jpg\n",
      "New path: /root/alok/data/images/rectified_stereo_frame_pairs_test_set/0/input/right_frame.jpg\n"
     ]
    }
   ],
   "source": [
    "# run multiple processes to rectify the images en masse (this may take a while depending on the number of images)\n",
    "\n",
    "p = Pool(processes=20)\n",
    "results = p.starmap(remap_and_save, arguments_list[:2])"
   ]
  },
  {
   "cell_type": "code",
   "execution_count": null,
   "metadata": {},
   "outputs": [],
   "source": []
  },
  {
   "cell_type": "code",
   "execution_count": null,
   "metadata": {},
   "outputs": [],
   "source": []
  },
  {
   "cell_type": "code",
   "execution_count": null,
   "metadata": {},
   "outputs": [],
   "source": []
  },
  {
   "cell_type": "code",
   "execution_count": null,
   "metadata": {},
   "outputs": [],
   "source": []
  }
 ],
 "metadata": {
  "kernelspec": {
   "display_name": "Python 3",
   "language": "python",
   "name": "python3"
  },
  "language_info": {
   "codemirror_mode": {
    "name": "ipython",
    "version": 3
   },
   "file_extension": ".py",
   "mimetype": "text/x-python",
   "name": "python",
   "nbconvert_exporter": "python",
   "pygments_lexer": "ipython3",
   "version": "3.5.2"
  }
 },
 "nbformat": 4,
 "nbformat_minor": 2
}
