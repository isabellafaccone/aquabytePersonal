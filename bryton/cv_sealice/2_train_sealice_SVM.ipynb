{
 "cells": [
  {
   "cell_type": "code",
   "execution_count": null,
   "metadata": {},
   "outputs": [],
   "source": [
    "'''\n",
    "Reads in the ORB descriptor data and trains a SVM classifier\n",
    "'''\n",
    "\n",
    "import os\n",
    "import lib.svm as svm\n",
    "import lib.utils as utils\n",
    "import matplotlib.pyplot as plt\n",
    "\n",
    "base_directory = '/root/bryton/aquabyte_sealice'\n",
    "\n",
    "annotations_file = '%s/annotations.csv' % (base_directory, )\n",
    "\n",
    "model_directory = '%s/models' % (base_directory, )\n",
    "orb_output_directory = '%s/orb_output' % (base_directory, )\n",
    "svm_output_directory = '%s/svm_output' % (base_directory, )\n",
    "descriptor_type = 'ORB'\n",
    "train_indices = [0, 1, 2, 3, 4, 5, 6, 7, 8, 9, 10]\n",
    "\n",
    "try: \n",
    "    os.makedirs(svm_output_directory)\n",
    "except OSError:\n",
    "    if not os.path.isdir(svm_output_directory):\n",
    "        raise"
   ]
  },
  {
   "cell_type": "code",
   "execution_count": null,
   "metadata": {},
   "outputs": [],
   "source": [
    "sealice_SVM_trainer = svm.SealiceSVMTrainer(model_directory, orb_output_directory, svm_output_directory, descriptor_type, train_indices)\n",
    "\n",
    "svm_model_filepath = sealice_SVM_trainer.prepare_data_and_train(True)\n",
    "\n",
    "print svm_model_filepath\n",
    "\n",
    "precision_list = []\n",
    "recall_list = []\n",
    "\n",
    "annotations = utils.get_lice_annotations_from_file(annotations_file)\n",
    "\n",
    "for i in xrange(10):\n",
    "    annotations_subset = annotations[20 * i: 20 * (i + 1)]\n",
    "    results = svm.predict_sealice(svm_model_filepath, annotations_subset, False)\n",
    "\n",
    "    precision_list.append(results['precision'])\n",
    "    recall_list.append(results['recall'])\n",
    "\n",
    "plt.plot(precision_list, recall_list, 'ro')\n",
    "plt.xlabel('Precision')\n",
    "plt.ylabel('Recall')\n",
    "\n",
    "plt.show()"
   ]
  },
  {
   "cell_type": "code",
   "execution_count": null,
   "metadata": {},
   "outputs": [],
   "source": []
  },
  {
   "cell_type": "code",
   "execution_count": null,
   "metadata": {},
   "outputs": [],
   "source": []
  }
 ],
 "metadata": {
  "kernelspec": {
   "display_name": "Python 2",
   "language": "python",
   "name": "python2"
  },
  "language_info": {
   "codemirror_mode": {
    "name": "ipython",
    "version": 2
   },
   "file_extension": ".py",
   "mimetype": "text/x-python",
   "name": "python",
   "nbconvert_exporter": "python",
   "pygments_lexer": "ipython2",
   "version": "2.7.12"
  }
 },
 "nbformat": 4,
 "nbformat_minor": 2
}
