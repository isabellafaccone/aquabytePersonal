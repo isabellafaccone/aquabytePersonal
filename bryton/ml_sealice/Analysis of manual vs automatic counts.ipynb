{
 "cells": [
  {
   "cell_type": "code",
   "execution_count": null,
   "metadata": {},
   "outputs": [],
   "source": [
    "import datetime\n",
    "import pandas as pd\n",
    "import numpy as np\n",
    "import random\n",
    "from matplotlib import pyplot as plt\n",
    "from pandas.plotting import autocorrelation_plot\n",
    "from sklearn.linear_model import LinearRegression\n",
    "\n",
    "from statsmodels.tsa.stattools import acf, pacf\n",
    "import json, os\n",
    "import matplotlib.dates as mdates\n",
    "\n",
    "from statsmodels.stats.stattools import durbin_watson\n",
    "from scipy.stats import ttest_ind, normaltest\n",
    "from decimal import Decimal\n",
    "from aquabyte.data_access_utils import S3AccessUtils, RDSAccessUtils\n",
    "pd.set_option('display.max_rows', 500)\n",
    "pd.set_option('display.max_colwidth', 500)"
   ]
  },
  {
   "cell_type": "code",
   "execution_count": null,
   "metadata": {},
   "outputs": [],
   "source": [
    "df_bw = pd.read_csv('2012_2020_18-fixed-3.csv', index_col=0).sort_index()"
   ]
  },
  {
   "cell_type": "code",
   "execution_count": null,
   "metadata": {},
   "outputs": [],
   "source": [
    "query = \"\"\"\n",
    "    select * from sites;\n",
    "\"\"\"\n",
    "\n",
    "df_sites = rds_access_utils.extract_from_database(query)\n",
    "\n",
    "df_sites"
   ]
  },
  {
   "cell_type": "code",
   "execution_count": null,
   "metadata": {},
   "outputs": [],
   "source": [
    "# query = \"\"\"\n",
    "#     select * from pens;\n",
    "# \"\"\"\n",
    "\n",
    "# df_pens = rds_access_utils.extract_from_database(query)\n",
    "\n",
    "# df_pens"
   ]
  },
  {
   "cell_type": "code",
   "execution_count": null,
   "metadata": {},
   "outputs": [],
   "source": [
    "site_name = 'Seglberget'\n",
    "#site_name = 'Tittelsnes'\n",
    "#site_name = 'Aplavika'\n",
    "\n",
    "site = df_sites[df_sites.name == site_name]\n",
    "\n",
    "siteId = site['id'].values[0]\n",
    "\n",
    "localityNo = site['government_site_number'].values[0]\n",
    "\n",
    "manualCountsForLocality = df_bw[df_bw.localityNo == localityNo]"
   ]
  },
  {
   "cell_type": "code",
   "execution_count": null,
   "metadata": {},
   "outputs": [],
   "source": [
    "query = \"\"\"\n",
    "    select * from pens where site_id=%i;\n",
    "\"\"\" % (siteId, )\n",
    "\n",
    "df_pens = rds_access_utils.extract_from_database(query)\n",
    "\n",
    "penIds = df_pens.id.values.tolist()"
   ]
  },
  {
   "cell_type": "code",
   "execution_count": null,
   "metadata": {},
   "outputs": [],
   "source": [
    "penDFs = []\n",
    "\n",
    "for penId in penIds:\n",
    "    query = \"\"\"\n",
    "        select * from day_summaries\n",
    "        where pen_id = %i;\n",
    "    \"\"\" % (penId, )\n",
    "    \n",
    "    print(query)\n",
    "    \n",
    "    try:\n",
    "        df_ab = rds_access_utils.extract_from_database(query)    \n",
    "        #df_ab.index = pd.to_datetime(df_ab.captured_at)\n",
    "        #df_ab = df_ab.sort_index()\n",
    "        #df_daily = df_ab[columns].rolling('1D').mean().resample('D').apply(lambda x:x.tail(1) if x.shape[0] else np.nan).fillna(method='backfill')\n",
    "        #df_daily['date'] = pd.to_datetime(df_daily.index, format='%Y-%m-%d').astype(str)\n",
    "        \n",
    "        \n",
    "        \n",
    "        penDFs.append(df_ab)\n",
    "    except Exception as e:\n",
    "        print('Not including pen id %i' % (penId, ))\n",
    "        print(e)\n",
    "        continue"
   ]
  },
  {
   "cell_type": "code",
   "execution_count": null,
   "metadata": {},
   "outputs": [],
   "source": [
    "columns = ['female_avg', 'moving_avg', 'female_moving_avg', 'moving_moving_avg']\n",
    "\n",
    "siteDF = pd.concat(tuple(penDFs))\n",
    "siteDF.index = pd.to_datetime(siteDF.date)\n",
    "siteDF = siteDF.sort_index()\n",
    "siteDF = siteDF.dropna(subset=['female_avg', 'moving_avg'])\n",
    "\n",
    "siteAvgDF = siteDF[columns].rolling('1D').mean()\n",
    "\n",
    "siteAvgDFStartDate = np.min(siteAvgDF.index).date()\n",
    "siteAvgDFEndDate = np.max(siteAvgDF.index).date()\n",
    "\n",
    "siteAvgDF['date'] = pd.to_datetime(siteAvgDF.index).tz_localize(None)"
   ]
  },
  {
   "cell_type": "code",
   "execution_count": null,
   "metadata": {},
   "outputs": [],
   "source": [
    "siteAvgDF"
   ]
  },
  {
   "cell_type": "code",
   "execution_count": null,
   "metadata": {},
   "outputs": [],
   "source": [
    "results = []\n",
    "\n",
    "for index, manualCount in manualCountsForLocality.iterrows():   \n",
    "    d = '%i-W%i' % (manualCount.year, manualCount.week)\n",
    "    endDate = datetime.datetime.strptime(d + '-1', \"%Y-W%W-%w\").date()\n",
    "    startDate = endDate - datetime.timedelta(days=6)\n",
    "\n",
    "    if startDate >= siteAvgDFStartDate and endDate <= siteAvgDFEndDate:\n",
    "        subset = (siteAvgDF.date > startDate) & (siteAvgDF.date <= endDate)\n",
    "        \n",
    "        aquabyteAFSubset = siteAvgDF.female_avg[subset]\n",
    "        aquabyteAFSubset2 = aquabyteAFSubset[aquabyteAFSubset > 0]\n",
    "        aquabyteAFSubset3 = siteAvgDF.female_moving_avg[subset]\n",
    "        \n",
    "        aquabyteMSubset = siteAvgDF.moving_avg[subset]\n",
    "        aquabyteMSubset2 = aquabyteMSubset[aquabyteMSubset > 0]\n",
    "        aquabyteMSubset3 = siteAvgDF.moving_moving_avg[subset]\n",
    "        \n",
    "        if len(aquabyteAFSubset2) < 2:\n",
    "            continue\n",
    "        \n",
    "        results.append((startDate, manualCount.avgAdultFemaleLice, manualCount.avgMobileLice, np.mean(aquabyteAFSubset), np.mean(aquabyteAFSubset2), np.mean(aquabyteAFSubset3), np.mean(aquabyteMSubset), np.mean(aquabyteMSubset2), np.mean(aquabyteMSubset3)))\n",
    "\n",
    "results = list(zip(*results))"
   ]
  },
  {
   "cell_type": "code",
   "execution_count": null,
   "metadata": {},
   "outputs": [],
   "source": []
  },
  {
   "cell_type": "code",
   "execution_count": null,
   "metadata": {},
   "outputs": [],
   "source": [
    "dates = np.array(results[0])\n",
    "manualCountsAF = np.array(results[1])\n",
    "manualCountsM = np.array(results[2])\n",
    "aquabyteCountsAF = np.array(results[3])\n",
    "aquabyteCountsNonZeroAF = np.array(results[4])\n",
    "aquabyteCountsMovingAF = np.array(results[5])\n",
    "aquabyteCountsM = np.array(results[6])\n",
    "aquabyteCountsNonZeroM = np.array(results[7])\n",
    "aquabyteCountsMovingM = np.array(results[8])\n",
    "\n",
    "analyzeAF = False\n",
    "\n",
    "if analyzeAF:\n",
    "    liceType = 'Adult Female'\n",
    "    manualCounts = manualCountsAF\n",
    "    aquabyteCounts = aquabyteCountsAF\n",
    "    aquabyteCountsNonZero = aquabyteCountsNonZeroAF\n",
    "    aquabyteCountsMoving = aquabyteCountsMovingAF\n",
    "else:\n",
    "    liceType = 'Mobile'\n",
    "    manualCounts = manualCountsM\n",
    "    aquabyteCounts = aquabyteCountsM\n",
    "    aquabyteCountsNonZero = aquabyteCountsNonZeroM\n",
    "    aquabyteCountsMoving = aquabyteCountsMovingM\n",
    "\n",
    "X = manualCounts.reshape(-1, 1)\n",
    "Y = aquabyteCountsMoving\n",
    "reg = LinearRegression(fit_intercept = False).fit(X, Y)\n",
    "\n",
    "print(reg.intercept_, reg.coef_)\n",
    "print(reg.score(X, Y))\n",
    "\n",
    "predY = reg.predict(X)\n",
    "\n",
    "fig, ax = plt.subplots(3)\n",
    "\n",
    "fig.set_size_inches(10, 30)\n",
    "\n",
    "\n",
    "ax[0].scatter(manualCounts, aquabyteCounts)\n",
    "ax[0].plot(manualCounts, predY, '-')\n",
    "ax[0].set_title('%s: Aquabyte vs Manual (%s)' % (site_name, liceType, ))\n",
    "ax[0].set_xlabel('Manual Count')\n",
    "ax[0].set_ylabel('Aquabyte Count')\n",
    "\n",
    "ax[1].scatter(dates, aquabyteCounts - manualCounts)\n",
    "ax[1].plot(dates, np.zeros(len(dates)), '--')\n",
    "ax[1].set_title('%s: Aquabyte - Manual Delta (%s)' % (site_name, liceType, ))\n",
    "ax[1].set_xlabel('Date')\n",
    "ax[1].set_ylabel('Count')\n",
    "\n",
    "ax[2].plot(dates, manualCounts, linestyle = '--', marker = 'o', color = 'red')\n",
    "ax[2].plot(dates, aquabyteCounts, linestyle = '-', marker = 'o', color = 'blue')\n",
    "#ax[2].plot(dates, aquabyteCountsNonZero, linestyle = '-', marker = 'o', color = 'green')\n",
    "ax[2].plot(dates, aquabyteCountsMoving, linestyle = '-', marker = 'o', color = 'purple')\n",
    "ax[2].set_title('%s: Counts over time (%s)' % (site_name, liceType, ))\n",
    "ax[2].set_xlabel('Date')\n",
    "ax[2].set_ylabel('Count')"
   ]
  },
  {
   "cell_type": "code",
   "execution_count": null,
   "metadata": {},
   "outputs": [],
   "source": []
  },
  {
   "cell_type": "code",
   "execution_count": null,
   "metadata": {},
   "outputs": [],
   "source": []
  },
  {
   "cell_type": "code",
   "execution_count": null,
   "metadata": {},
   "outputs": [],
   "source": []
  },
  {
   "cell_type": "code",
   "execution_count": null,
   "metadata": {},
   "outputs": [],
   "source": []
  }
 ],
 "metadata": {
  "kernelspec": {
   "display_name": "Python 3",
   "language": "python",
   "name": "python3"
  },
  "language_info": {
   "codemirror_mode": {
    "name": "ipython",
    "version": 3
   },
   "file_extension": ".py",
   "mimetype": "text/x-python",
   "name": "python",
   "nbconvert_exporter": "python",
   "pygments_lexer": "ipython3"
  }
 },
 "nbformat": 4,
 "nbformat_minor": 2
}
