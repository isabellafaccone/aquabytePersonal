{
 "cells": [
  {
   "cell_type": "code",
   "execution_count": null,
   "metadata": {},
   "outputs": [],
   "source": [
    "import copy\n",
    "import numpy as np\n",
    "import pandas as pd\n",
    "import matplotlib.pyplot as plt\n",
    "import scipy.stats as stats\n",
    "from sklearn.linear_model import LinearRegression"
   ]
  },
  {
   "cell_type": "code",
   "execution_count": null,
   "metadata": {},
   "outputs": [],
   "source": [
    "df = pd.read_csv('2012_2020_18-fixed-3.csv', index_col=0).sort_index()"
   ]
  },
  {
   "cell_type": "code",
   "execution_count": null,
   "metadata": {},
   "outputs": [],
   "source": [
    "df"
   ]
  },
  {
   "cell_type": "code",
   "execution_count": null,
   "metadata": {},
   "outputs": [],
   "source": []
  },
  {
   "cell_type": "code",
   "execution_count": null,
   "metadata": {},
   "outputs": [],
   "source": [
    "vikane = df.loc[df['localityNo'] == 13704]   "
   ]
  },
  {
   "cell_type": "code",
   "execution_count": null,
   "metadata": {},
   "outputs": [],
   "source": [
    "vikane"
   ]
  },
  {
   "cell_type": "code",
   "execution_count": null,
   "metadata": {},
   "outputs": [],
   "source": [
    "vikane.loc[vikane['year'] == 2018]"
   ]
  },
  {
   "cell_type": "code",
   "execution_count": null,
   "metadata": {},
   "outputs": [],
   "source": [
    "vikane = 13704\n",
    "\n",
    "localityNos = [ vikane ]\n",
    "#[ 13704, 11756, 12982 ]\n",
    "\n",
    "#localityNos = np.unique(df['localityNo'].to_numpy())[1:100]\n",
    "\n",
    "#localityNos = [11756, 11754, 11667, 11652, 10080, 14435, 13965, 11738, 10086, 39577, 10309, 13704]\n",
    "\n",
    "# Calculate growing periods\n",
    "\n",
    "periods = []\n",
    "\n",
    "for localityNo in localityNos:\n",
    "    vikane = df.loc[df['localityNo'] == localityNo]    \n",
    "\n",
    "    lastYearWeek = { 'year': None, 'week': None, 'yearweek': None }\n",
    "    currentPeriod = { 'localityNo': localityNo, 'startYear': None, 'startWeek': None, 'endYear': None, 'endWeek': None }\n",
    "\n",
    "    counter = 0\n",
    "\n",
    "    for index, row in vikane.iterrows():\n",
    "        counter = counter + 1\n",
    "        currentYearWeek = row['year'] * 52 + row['week']\n",
    "\n",
    "        if not lastYearWeek['yearweek']:\n",
    "            currentPeriod['startYear'] = row['year']\n",
    "            currentPeriod['startWeek'] = row['week']\n",
    "        elif lastYearWeek['yearweek'] and not (lastYearWeek['yearweek'] == currentYearWeek - 1 or lastYearWeek['yearweek'] == currentYearWeek - 2):\n",
    "            currentPeriod['endYear'] = lastYearWeek['year']\n",
    "            currentPeriod['endWeek'] = lastYearWeek['week']\n",
    "\n",
    "            periods.append(copy.copy(currentPeriod))\n",
    "\n",
    "            currentPeriod['startYear'] = row['year']\n",
    "            currentPeriod['startWeek'] = row['week']\n",
    "            currentPeriod['endYear'] = None\n",
    "            currentPeriod['endWeek'] = None\n",
    "        elif counter == len(vikane):\n",
    "            currentPeriod['endYear'] = row['year']\n",
    "            currentPeriod['endWeek'] = row['week']\n",
    "\n",
    "            periods.append(copy.copy(currentPeriod))\n",
    "\n",
    "        lastYearWeek['year'] = row['year']\n",
    "        lastYearWeek['week'] = row['week']\n",
    "        lastYearWeek['yearweek'] = currentYearWeek\n",
    "\n",
    "for period in periods:\n",
    "    print(period)"
   ]
  },
  {
   "cell_type": "code",
   "execution_count": null,
   "metadata": {},
   "outputs": [],
   "source": [
    "allTreatmentInfo = []\n",
    "\n",
    "#periods = [ {'localityNo': 10090, 'startYear': 2016, 'startWeek': 1, 'endYear': 2016, 'endWeek': 35} ]\n",
    "\n",
    "for period in periods:\n",
    "    localityNo = period['localityNo']\n",
    "    startYearWeek = period['startYear'] * 52 + period['startWeek']\n",
    "    endYearWeek = period['endYear'] * 52 + period['endWeek']\n",
    "\n",
    "    treatmentInfo = []\n",
    "    \n",
    "    lastTreatmentYearWeek = None\n",
    "    lastRow = None\n",
    "    row = None\n",
    "    lastLevelsBeforeTreatment = None\n",
    "    lastLevelsAfterTreatment = None\n",
    "    \n",
    "    vikane = df.loc[df['localityNo'] == localityNo]\n",
    "    \n",
    "    counter = 0\n",
    "\n",
    "    for index, nextRow in vikane.iterrows():\n",
    "        counter = counter + 1\n",
    "        \n",
    "        if lastRow is not None:\n",
    "            currentYearWeek = row['year'] * 52 + row['week']\n",
    "            \n",
    "            if currentYearWeek < startYearWeek or currentYearWeek > endYearWeek:\n",
    "                lastRow = row\n",
    "                row = nextRow\n",
    "            \n",
    "                continue\n",
    "                \n",
    "            if row['hasMechanicalRemoval'] or row['hasBathTreatment'] or (counter == len(vikane) and (nextRow['hasMechanicalRemoval'] or nextRow['hasBathTreatment'])):\n",
    "                beforeRow = lastRow if lastRow['avgAdultFemaleLice'] > row['avgAdultFemaleLice'] else row\n",
    "                afterRow = nextRow if lastRow['avgAdultFemaleLice'] < row['avgAdultFemaleLice'] else row\n",
    "\n",
    "                currentLevelsBeforeTreatment = { 'avgAdultFemaleLice': beforeRow['avgAdultFemaleLice'], 'avgMobileLice': beforeRow['avgMobileLice'], 'avgStationaryLice': beforeRow['avgStationaryLice'] }\n",
    "                currentLevelsAfterTreatment = { 'avgAdultFemaleLice': afterRow['avgAdultFemaleLice'], 'avgMobileLice': afterRow['avgMobileLice'], 'avgStationaryLice': afterRow['avgStationaryLice'] }\n",
    "\n",
    "                treatmentYearWeek = afterRow['year'] * 52 + afterRow['week']\n",
    "\n",
    "                if lastTreatmentYearWeek:    \n",
    "                    weeks = treatmentYearWeek - lastTreatmentYearWeek\n",
    "                    treatmentInfo.append(copy.copy({ 'hasMechanicalRemoval': row['hasMechanicalRemoval'] or nextRow['hasMechanicalRemoval'], 'hasBathTreatment': row['hasBathTreatment'] or nextRow['hasBathTreatment'], 'lastLevelsBeforeTreatment': lastLevelsBeforeTreatment, 'lastLevelsAfterTreatment': lastLevelsAfterTreatment, 'currentLevelsBeforeTreatment': currentLevelsBeforeTreatment, 'currentLevelsAfterTreatment': currentLevelsAfterTreatment, 'weeks': weeks }))\n",
    "\n",
    "                lastTreatmentYearWeek = treatmentYearWeek\n",
    "\n",
    "                lastLevelsBeforeTreatment = currentLevelsBeforeTreatment\n",
    "                lastLevelsAfterTreatment = currentLevelsAfterTreatment\n",
    "\n",
    "            \n",
    "            lastRow = row\n",
    "            row = nextRow\n",
    "        elif row is not None:\n",
    "            lastRow = row \n",
    "            row = nextRow\n",
    "        else:\n",
    "            row = nextRow\n",
    "                \n",
    "    allTreatmentInfo = allTreatmentInfo + treatmentInfo\n",
    "    \n",
    "print(len(allTreatmentInfo))"
   ]
  },
  {
   "cell_type": "code",
   "execution_count": null,
   "metadata": {},
   "outputs": [],
   "source": [
    "allTreatmentInfo[0]"
   ]
  },
  {
   "cell_type": "code",
   "execution_count": null,
   "metadata": {},
   "outputs": [],
   "source": [
    "mechanicalTreatmentInfos = [ info for info in allTreatmentInfo if info['hasMechanicalRemoval'] ]\n",
    "bathTreatmentInfos = [ info for info in allTreatmentInfo if info['hasBathTreatment'] ]"
   ]
  },
  {
   "cell_type": "code",
   "execution_count": null,
   "metadata": {},
   "outputs": [],
   "source": [
    "currentTreatmentInfo = mechanicalTreatmentInfos\n",
    "\n",
    "beforeTreatmentAdultFemale = np.array([ info['lastLevelsBeforeTreatment']['avgAdultFemaleLice'] for info in currentTreatmentInfo ])\n",
    "beforeTreatmentMobile = np.array([ info['lastLevelsBeforeTreatment']['avgMobileLice'] for info in currentTreatmentInfo ])\n",
    "beforeTreatmentStationary = np.array([ info['lastLevelsBeforeTreatment']['avgStationaryLice'] for info in currentTreatmentInfo ])\n",
    "\n",
    "afterTreatmentAdultFemale = np.array([ info['lastLevelsAfterTreatment']['avgAdultFemaleLice'] for info in currentTreatmentInfo ])\n",
    "afterTreatmentMobile = np.array([ info['lastLevelsAfterTreatment']['avgMobileLice'] for info in currentTreatmentInfo ])\n",
    "afterTreatmentStationary = np.array([ info['lastLevelsAfterTreatment']['avgStationaryLice'] for info in currentTreatmentInfo ])\n",
    "\n",
    "allTreatmentWeeks = np.array([ info['weeks'] for info in currentTreatmentInfo ])\n",
    "allMechanicalTreatments = np.array([ info['hasMechanicalRemoval'] for info in currentTreatmentInfo ])\n",
    "allBathTreatments = np.array([ info['hasBathTreatment'] for info in currentTreatmentInfo ])\n",
    "\n",
    "treatmentEffectAdultFemale = beforeTreatmentAdultFemale - afterTreatmentAdultFemale\n",
    "treatmentEffectMobile = beforeTreatmentMobile - afterTreatmentMobile\n",
    "treatmentEffectStationary = beforeTreatmentStationary - afterTreatmentStationary\n",
    "\n",
    "plt.plot(treatmentEffectAdultFemale, allTreatmentWeeks, 'p')"
   ]
  },
  {
   "cell_type": "code",
   "execution_count": null,
   "metadata": {},
   "outputs": [],
   "source": [
    "print(np.mean(beforeTreatmentAdultFemale), np.mean(afterTreatmentAdultFemale), 1 - (np.mean(afterTreatmentAdultFemale) / np.mean(beforeTreatmentAdultFemale)))\n",
    "print(np.mean(beforeTreatmentMobile), np.mean(afterTreatmentMobile), 1 - (np.mean(afterTreatmentMobile) / np.mean(beforeTreatmentMobile)))\n",
    "print(np.mean(beforeTreatmentStationary), np.mean(afterTreatmentStationary), 1 - (np.mean(afterTreatmentStationary) / np.mean(beforeTreatmentStationary)))\n",
    "\n"
   ]
  },
  {
   "cell_type": "code",
   "execution_count": null,
   "metadata": {},
   "outputs": [],
   "source": [
    "print(np.mean(beforeTreatmentAdultFemale), np.mean(afterTreatmentAdultFemale), 1 - (np.mean(afterTreatmentAdultFemale) / np.mean(beforeTreatmentAdultFemale)))\n",
    "print(np.mean(beforeTreatmentMobile), np.mean(afterTreatmentMobile), 1 - (np.mean(afterTreatmentMobile) / np.mean(beforeTreatmentMobile)))\n",
    "print(np.mean(beforeTreatmentStationary), np.mean(afterTreatmentStationary), 1 - (np.mean(afterTreatmentStationary) / np.mean(beforeTreatmentStationary)))\n",
    "\n"
   ]
  },
  {
   "cell_type": "code",
   "execution_count": null,
   "metadata": {},
   "outputs": [],
   "source": [
    "print(np.mean(allMechanicalTreatments), np.mean(allBathTreatments))"
   ]
  },
  {
   "cell_type": "code",
   "execution_count": null,
   "metadata": {},
   "outputs": [],
   "source": [
    "np.mean(allTreatmentWeeks)"
   ]
  },
  {
   "cell_type": "code",
   "execution_count": null,
   "metadata": {},
   "outputs": [],
   "source": [
    "np.mean(allTreatmentWeeks)"
   ]
  },
  {
   "cell_type": "code",
   "execution_count": null,
   "metadata": {},
   "outputs": [],
   "source": [
    "subset = np.where((treatmentEffectAdultFemale < 0.5) &  (treatmentEffectAdultFemale > -0.25))\n",
    "\n",
    "x = treatmentEffectAdultFemale[subset]\n",
    "Y = allTreatmentWeeks[subset]\n",
    "\n",
    "X = x.reshape(-1, 1)\n",
    "\n",
    "plt.plot(X, Y, 'p')\n",
    "\n",
    "reg = LinearRegression().fit(X, Y)\n",
    "\n",
    "print(reg.intercept_, reg.coef_)\n",
    "print(reg.score(X, Y))\n",
    "\n",
    "predTreatmentWeeks = reg.predict(X)\n",
    "\n",
    "plt.plot(X, predTreatmentWeeks, '-')"
   ]
  },
  {
   "cell_type": "code",
   "execution_count": null,
   "metadata": {},
   "outputs": [],
   "source": [
    "subset = np.where((afterTreatmentStationary < 0.5))\n",
    "\n",
    "x = afterTreatmentStationary[subset]\n",
    "Y = allTreatmentWeeks[subset]\n",
    "\n",
    "X = x.reshape(-1, 1)\n",
    "\n",
    "plt.plot(X, Y, 'p')\n",
    "\n",
    "reg = LinearRegression().fit(X, Y)\n",
    "\n",
    "print(reg.intercept_, reg.coef_)\n",
    "print(reg.score(X, Y))\n",
    "\n",
    "predTreatmentWeeks = reg.predict(X)\n",
    "\n",
    "plt.plot(X, predTreatmentWeeks, '-')"
   ]
  },
  {
   "cell_type": "code",
   "execution_count": null,
   "metadata": {},
   "outputs": [],
   "source": [
    "subset = np.where((afterTreatmentMobile < 0.5))\n",
    "\n",
    "x = afterTreatmentMobile[subset]\n",
    "Y = allTreatmentWeeks[subset]\n",
    "\n",
    "X = x.reshape(-1, 1)\n",
    "\n",
    "plt.plot(X, Y, 'p')\n",
    "\n",
    "reg = LinearRegression().fit(X, Y)\n",
    "\n",
    "print(reg.intercept_, reg.coef_)\n",
    "print(reg.score(X, Y))\n",
    "\n",
    "predTreatmentWeeks = reg.predict(X)\n",
    "\n",
    "plt.plot(X, predTreatmentWeeks, '-')"
   ]
  },
  {
   "cell_type": "code",
   "execution_count": null,
   "metadata": {},
   "outputs": [],
   "source": [
    "subset = np.where((afterTreatmentAdultFemale < 0.5))\n",
    "\n",
    "x = afterTreatmentAdultFemale[subset]\n",
    "Y = allTreatmentWeeks[subset]\n",
    "\n",
    "X = x.reshape(-1, 1)\n",
    "\n",
    "plt.plot(X, Y, 'p')\n",
    "\n",
    "reg = LinearRegression().fit(X, Y)\n",
    "\n",
    "print(reg.intercept_, reg.coef_)\n",
    "print(reg.score(X, Y))\n",
    "\n",
    "predTreatmentWeeks = reg.predict(X)\n",
    "\n",
    "plt.plot(X, predTreatmentWeeks, '-')"
   ]
  },
  {
   "cell_type": "code",
   "execution_count": null,
   "metadata": {},
   "outputs": [],
   "source": [
    "print(np.mean(beforeTreatmentAdultFemale), np.mean(afterTreatmentAdultFemale), 1 - (np.mean(afterTreatmentAdultFemale) / np.mean(beforeTreatmentAdultFemale)))\n",
    "print(np.mean(beforeTreatmentMobile), np.mean(afterTreatmentMobile), 1 - (np.mean(afterTreatmentMobile) / np.mean(beforeTreatmentMobile)))\n",
    "print(np.mean(beforeTreatmentStationary), np.mean(afterTreatmentStationary), 1 - (np.mean(afterTreatmentStationary) / np.mean(beforeTreatmentStationary)))\n",
    "\n"
   ]
  },
  {
   "cell_type": "code",
   "execution_count": null,
   "metadata": {},
   "outputs": [],
   "source": [
    "np.mean(allTreatmentWeeks) * 7"
   ]
  },
  {
   "cell_type": "code",
   "execution_count": null,
   "metadata": {},
   "outputs": [],
   "source": []
  },
  {
   "cell_type": "code",
   "execution_count": null,
   "metadata": {},
   "outputs": [],
   "source": []
  },
  {
   "cell_type": "code",
   "execution_count": null,
   "metadata": {},
   "outputs": [],
   "source": []
  }
 ],
 "metadata": {
  "kernelspec": {
   "display_name": "Python 3",
   "language": "python",
   "name": "python3"
  },
  "language_info": {
   "codemirror_mode": {
    "name": "ipython",
    "version": 3
   },
   "file_extension": ".py",
   "mimetype": "text/x-python",
   "name": "python",
   "nbconvert_exporter": "python",
   "pygments_lexer": "ipython3"
  }
 },
 "nbformat": 4,
 "nbformat_minor": 2
}
