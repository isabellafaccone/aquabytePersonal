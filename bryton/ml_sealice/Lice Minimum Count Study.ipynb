{
 "cells": [
  {
   "cell_type": "code",
   "execution_count": null,
   "metadata": {},
   "outputs": [],
   "source": [
    "import json, os\n",
    "import pandas as pd\n",
    "import numpy as np\n",
    "import matplotlib.pyplot as plt\n",
    "import matplotlib.colors\n",
    "\n",
    "from scipy import stats\n",
    "\n",
    "import pytz \n",
    "\n",
    "from datetime import timedelta, datetime\n",
    "\n",
    "from research.utils.data_access_utils import RDSAccessUtils"
   ]
  },
  {
   "cell_type": "code",
   "execution_count": null,
   "metadata": {},
   "outputs": [],
   "source": [
    "rds_access_utils = RDSAccessUtils(json.load(open(os.environ['PROD_SQL_CREDENTIALS'])))"
   ]
  },
  {
   "cell_type": "code",
   "execution_count": null,
   "metadata": {},
   "outputs": [],
   "source": [
    "queryCache = {}"
   ]
  },
  {
   "cell_type": "code",
   "execution_count": null,
   "metadata": {},
   "outputs": [],
   "source": [
    "df_start_date = '2020-11-01'\n",
    "df_end_date = '2020-11-30'\n",
    "\n",
    "query = \"\"\"\n",
    "    select *\n",
    "    from day_summaries ds\n",
    "    where ds.date >= '%s'\n",
    "    and ds.date <= '%s';\n",
    "\"\"\" % (df_start_date, df_end_date)\n",
    "\n",
    "if query in queryCache:\n",
    "    df = queryCache[query]\n",
    "else:\n",
    "    df = rds_access_utils.extract_from_database(query)\n",
    "\n",
    "    queryCache[query] = df\n",
    "    \n",
    "df.index = df['date']\n",
    "\n",
    "df = df.sort_index()"
   ]
  },
  {
   "cell_type": "code",
   "execution_count": null,
   "metadata": {},
   "outputs": [],
   "source": [
    "num_fish = []\n",
    "counts = []\n",
    "pen_ids = []\n",
    "\n",
    "for index, row in df.iterrows():\n",
    "#     numFish = row['lice_data']['rawData']['numFish']\n",
    "    count = row['lice_data']['rawData']['numPartialAndFullFish']\n",
    "    \n",
    "    if count > 0:\n",
    "        pen_ids.append(row['pen_id'])\n",
    "\n",
    "#     num_fish.append(numFish)\n",
    "    counts.append(count)\n",
    "    \n",
    "# df['numFish'] = num_fish    \n",
    "df['numPartialAndFullFish'] = counts"
   ]
  },
  {
   "cell_type": "code",
   "execution_count": null,
   "metadata": {},
   "outputs": [],
   "source": [
    "pen_ids = list(set(pen_ids))"
   ]
  },
  {
   "cell_type": "code",
   "execution_count": null,
   "metadata": {},
   "outputs": [],
   "source": [
    "pen_ids"
   ]
  },
  {
   "cell_type": "code",
   "execution_count": null,
   "metadata": {},
   "outputs": [],
   "source": [
    "# pcts = []\n",
    "\n",
    "total = []\n",
    "num = []\n",
    "\n",
    "for pen_id in pen_ids:\n",
    "    df2 = df[df.pen_id == pen_id]\n",
    "    rolling = df2[['numPartialAndFullFish']].rolling(5).sum()\n",
    "    \n",
    "    total.append(np.sum(rolling >= 100))\n",
    "    num.append(np.sum(rolling > 0))\n",
    "    \n",
    "#     if pct.values[0] < 0.01:\n",
    "#         print(pen_id)\n",
    "#     pcts.append(pct.values[0])\n",
    "    \n",
    "# pcts"
   ]
  },
  {
   "cell_type": "code",
   "execution_count": null,
   "metadata": {},
   "outputs": [],
   "source": [
    "# df2 = df[df.pen_id == 149]\n",
    "# df2.iloc[0]['lice_data']\n",
    "for i, total_ in enumerate(total):\n",
    "    print(pen_ids[i], total_.values[0], num[i].values[0])"
   ]
  },
  {
   "cell_type": "code",
   "execution_count": null,
   "metadata": {},
   "outputs": [],
   "source": [
    "np.sum(total) / np.sum(num)"
   ]
  },
  {
   "cell_type": "code",
   "execution_count": null,
   "metadata": {},
   "outputs": [],
   "source": [
    "pen_id = 201\n",
    "df_start_date = '2020-11-01'\n",
    "df_end_date = '2020-11-25'\n",
    "\n",
    "query = \"\"\"\n",
    "    select captured_at, annotation_metadata, annotated_by_email\n",
    "    from annotations a\n",
    "    where a.pen_id = %i\n",
    "    and a.is_qa = true\n",
    "    and a.is_skipped = false\n",
    "    and a.captured_at > '%s'\n",
    "    and a.captured_at < '%s';\n",
    "\"\"\" % (pen_id, df_start_date, df_end_date)\n",
    "\n",
    "if query in queryCache:\n",
    "    df = queryCache[query]\n",
    "else:\n",
    "    df = rds_access_utils.extract_from_database(query)\n",
    "\n",
    "    queryCache[query] = df\n",
    "    \n",
    "df.index = df['captured_at']\n",
    "\n",
    "df['date'] = df.captured_at.dt.date\n",
    "\n",
    "df = df.sort_index()\n",
    "\n",
    "for index, lice_count in df.iterrows():\n",
    "    liceCounts = lice_count['annotation_metadata']['liceCounts']\n",
    "\n",
    "    df.loc[index, 'movingCountAdjusted'] = liceCounts['movingCountAdjusted']\n",
    "    df.loc[index, 'adultFemaleCountAdjusted'] = liceCounts['adultFemaleCountAdjusted']\n",
    "    df.loc[index, 'count'] = 1\n"
   ]
  },
  {
   "cell_type": "code",
   "execution_count": null,
   "metadata": {},
   "outputs": [],
   "source": []
  },
  {
   "cell_type": "code",
   "execution_count": null,
   "metadata": {},
   "outputs": [],
   "source": [
    "list(set(df['date']))"
   ]
  },
  {
   "cell_type": "code",
   "execution_count": null,
   "metadata": {},
   "outputs": [],
   "source": [
    "min_counts = np.arange(0, 300, 10)\n",
    "dates = list(set(df['date']))\n",
    "date_results_a = []\n",
    "date_results_m = []\n",
    "\n",
    "max_a = 0\n",
    "max_m = 0\n",
    "\n",
    "for date in dates:\n",
    "    results_a = []\n",
    "    results_m = []\n",
    "    \n",
    "    for min_count in min_counts:\n",
    "        df2 = df[df.date == date].iloc[0:min_count]\n",
    "        results_a.append(np.mean(df2['adultFemaleCountAdjusted']))\n",
    "        results_m.append(np.mean(df2['movingCountAdjusted']))\n",
    "        \n",
    "        max_a = max(max_a, np.mean(df2['adultFemaleCountAdjusted']))\n",
    "        max_m = max(max_m, np.mean(df2['movingCountAdjusted']))\n",
    "    \n",
    "    date_results_a.append(results_a)\n",
    "    date_results_m.append(results_m)\n",
    "    \n",
    "plt.figure(figsize=(5, 2.5))\n",
    "\n",
    "for results_a in date_results_a:\n",
    "    plt.plot(min_counts, results_a)\n",
    "    \n",
    "plt.fill_between(min_counts, 0, max_a, where = (min_counts >= 100) & (min_counts <= 150), color = 'blue', alpha = 0.1)\n",
    "\n",
    "plt.xlabel('Number of Fish Counted')\n",
    "plt.ylabel('Adult Female Count')\n",
    "plt.title('Number of Fish Counted vs Adult Female Count')\n",
    "\n",
    "plt.figure(figsize=(5, 2.5))\n",
    "\n",
    "for results_m in date_results_m:\n",
    "    plt.plot(min_counts, results_m)\n",
    "    \n",
    "plt.fill_between(min_counts, 0, max_m, where = (min_counts >= 100) & (min_counts <= 150), color = 'blue', alpha = 0.1)\n",
    "\n",
    "plt.xlabel('Number of Fish Counted')\n",
    "plt.ylabel('Mobile Count')\n",
    "plt.title('Number of Fish Counted vs Mobile Count')"
   ]
  },
  {
   "cell_type": "code",
   "execution_count": null,
   "metadata": {},
   "outputs": [],
   "source": []
  },
  {
   "cell_type": "code",
   "execution_count": null,
   "metadata": {},
   "outputs": [],
   "source": []
  },
  {
   "cell_type": "code",
   "execution_count": null,
   "metadata": {},
   "outputs": [],
   "source": [
    "cogito_lice_counts.ix[0]['annotation_metadata']"
   ]
  },
  {
   "cell_type": "code",
   "execution_count": null,
   "metadata": {},
   "outputs": [],
   "source": [
    "masks = {\n",
    "    'eirik@aquabyte.ai': {},\n",
    "    'embla@aquabyte.ai': {},\n",
    "    'gunnar@aquabyte.ai': {},\n",
    "    'orjan@aquabyte.ai': {},\n",
    "    'labeler1@cogitotech.com': {},\n",
    "    'labeler2@cogitotech.com': {},\n",
    "    'labeler3@cogitotech.com': {},\n",
    "    'labeler4@cogitotech.com': {},\n",
    "    'labeler5@cogitotech.com': {}\n",
    "}\n",
    "\n",
    "columns = [ 'movingCountAdjusted', 'adultFemaleCountAdjusted' ]\n",
    "\n",
    "for key, value in masks.items():\n",
    "    masks[key]['cogito_daily'] = cogito_lice_counts[cogito_lice_counts['annotated_by_email'] == key][columns].rolling('%iD' % (1, )).mean().resample('D').apply(lambda x:x.tail(1) if x.shape[0] else np.nan)\n",
    "    masks[key]['qa_daily'] = qa_lice_counts[qa_lice_counts['annotated_by_email'] == key][columns].rolling('%iD' % (1, )).mean().resample('D').apply(lambda x:x.tail(1) if x.shape[0] else np.nan)\n",
    "    masks[key]['cogito_daily_count'] = cogito_lice_counts[cogito_lice_counts['annotated_by_email'] == key][columns].rolling('%iD' % (1, )).count().resample('D').apply(lambda x:x.tail(1) if x.shape[0] else np.nan)\n",
    "    masks[key]['qa_daily_count'] = qa_lice_counts[qa_lice_counts['annotated_by_email'] == key][columns].rolling('%iD' % (1, )).count().resample('D').apply(lambda x:x.tail(1) if x.shape[0] else np.nan)\n",
    "    masks[key]['cogito_daily_sd'] = cogito_lice_counts[cogito_lice_counts['annotated_by_email'] == key][columns].rolling('%iD' % (1, )).std().resample('D').apply(lambda x:x.tail(1) if x.shape[0] else np.nan)\n",
    "    \n",
    "cogito_daily = cogito_lice_counts[columns].rolling('%iD' % (1, )).mean().resample('D').apply(lambda x:x.tail(1) if x.shape[0] else np.nan)\n",
    "cogito_daily_sd = cogito_lice_counts[columns].rolling('%iD' % (1, )).std().resample('D').apply(lambda x:x.tail(1) if x.shape[0] else np.nan)\n",
    "cogito_daily_count = cogito_lice_counts[columns].rolling('%iD' % (1, )).count().resample('D').apply(lambda x:x.tail(1) if x.shape[0] else np.nan)\n",
    "\n",
    "qa_daily = qa_lice_counts[columns].rolling('%iD' % (1, )).mean().resample('D').apply(lambda x:x.tail(1) if x.shape[0] else np.nan)\n",
    "qa_daily_sd = qa_lice_counts[columns].rolling('%iD' % (1, )).std().resample('D').apply(lambda x:x.tail(1) if x.shape[0] else np.nan)\n",
    "qa_daily_count = qa_lice_counts[columns].rolling('%iD' % (1, )).count().resample('D').apply(lambda x:x.tail(1) if x.shape[0] else np.nan)\n"
   ]
  },
  {
   "cell_type": "code",
   "execution_count": null,
   "metadata": {},
   "outputs": [],
   "source": [
    "plt.plot(cogito_daily['adultFemaleCountAdjusted'], label = 'Cogito')\n",
    "plt.plot(qa_daily['adultFemaleCountAdjusted'], label = 'QA')\n",
    "# plt.plot(cogito_daily['movingCountAdjusted'], label = 'Cogito')\n",
    "# plt.plot(qa_daily['movingCountAdjusted'], label = 'QA')\n",
    "plt.legend()\n",
    "#plt.plot(masks[key]['cogito_daily']['movingCountAdjusted'])"
   ]
  },
  {
   "cell_type": "code",
   "execution_count": null,
   "metadata": {},
   "outputs": [],
   "source": [
    "fig, axes = plt.subplots(nrows = 2, ncols = 1, figsize = (15, 20))\n",
    "\n",
    "for key, value in masks.items():\n",
    "    difference_cogito = masks[key]['cogito_daily']['movingCountAdjusted'] - qa_daily['movingCountAdjusted']\n",
    "    difference_qa = (masks[key]['cogito_daily']['movingCountAdjusted'] - qa_daily['movingCountAdjusted']) / qa_daily['movingCountAdjusted']\n",
    "   \n",
    "    key_cogito = '%s: %0.2f' % (key, np.mean(difference_cogito[~np.isnan(difference_cogito)]))\n",
    "    key_qa = '%s: %0.0f%%' % (key, np.mean(np.abs(difference_qa[~np.isnan(difference_qa)]) * 100))\n",
    "    \n",
    "    c0 = masks[key]['cogito_daily_count']['movingCountAdjusted']\n",
    "    c1 = cogito_daily_count['movingCountAdjusted']\n",
    "    c2 = qa_daily_count['movingCountAdjusted']\n",
    "    \n",
    "    v0 = masks[key]['cogito_daily_sd']['movingCountAdjusted'] ** 2\n",
    "    v1 = cogito_daily_sd['movingCountAdjusted'] ** 2\n",
    "    v2 = qa_daily_sd['movingCountAdjusted'] ** 2\n",
    "    \n",
    "    t1 = np.abs(difference_cogito) / np.sqrt(v0 / c0 + v1 / c1)\n",
    "    t2 = np.abs(difference_cogito) / np.sqrt(v0 / c0 + v2 / c2)\n",
    "    \n",
    "    z1 = np.median(t1[~np.isnan(t1)])\n",
    "    z2 = np.median(t2[~np.isnan(t2)])\n",
    "    z3 = np.mean(t1[~np.isnan(t1)])\n",
    "    z4 = np.mean(t2[~np.isnan(t2)])\n",
    "    \n",
    "    p1 = 1 - stats.norm.cdf(z1)\n",
    "    p2 = 1 - stats.norm.cdf(z2)\n",
    "    p3 = 1 - stats.norm.cdf(z3)\n",
    "    p4 = 1 - stats.norm.cdf(z4)\n",
    "    \n",
    "    #print('%0.2f %0.2f %0.2f %0.2f %s' % (z1, z2, z3, z4, key))\n",
    "    print('%0.2f %0.2f %0.2f %0.2f %s' % (p1, p2, p3, p4, key))\n",
    "    \n",
    "    axes[0].bar(cogito_daily.index, difference_cogito, label = key_cogito)\n",
    "    axes[1].bar(cogito_daily.index, difference_qa, label = key_qa)\n",
    "\n",
    "for i in range(2):\n",
    "    axes[i].axhline(0)\n",
    "    axes[i].set_xlabel('Date')\n",
    "    axes[i].set_ylabel('Difference')\n",
    "    axes[i].legend()\n",
    "    \n",
    "axes[0].set_title('Pen %i: Absolute Difference between QA Mobile Average' % (pen_id, ))\n",
    "axes[1].set_title('Pen %i: Percent Difference between QA Mobile Average' % (pen_id, ))"
   ]
  },
  {
   "cell_type": "code",
   "execution_count": null,
   "metadata": {},
   "outputs": [],
   "source": [
    "fig, axes = plt.subplots(nrows = 2, ncols = 1, figsize = (15, 20))\n",
    "\n",
    "for key, value in masks.items():\n",
    "    difference_cogito = masks[key]['cogito_daily']['adultFemaleCountAdjusted'] - qa_daily['adultFemaleCountAdjusted']\n",
    "    difference_qa = (masks[key]['cogito_daily']['adultFemaleCountAdjusted'] - qa_daily['adultFemaleCountAdjusted']) / qa_daily['adultFemaleCountAdjusted']\n",
    "   \n",
    "    key_cogito = '%s: %0.2f' % (key, np.mean(difference_cogito[~np.isnan(difference_cogito)]))\n",
    "    key_qa = '%s: %0.0f%%' % (key, np.mean(np.abs(difference_qa[~np.isnan(difference_qa)]) * 100))\n",
    "    \n",
    "    c0 = masks[key]['cogito_daily_count']['adultFemaleCountAdjusted']\n",
    "    c1 = cogito_daily_count['adultFemaleCountAdjusted']\n",
    "    c2 = qa_daily_count['adultFemaleCountAdjusted']\n",
    "    \n",
    "    v0 = masks[key]['cogito_daily_sd']['adultFemaleCountAdjusted'] ** 2\n",
    "    v1 = cogito_daily_sd['adultFemaleCountAdjusted'] ** 2\n",
    "    v2 = qa_daily_sd['adultFemaleCountAdjusted'] ** 2\n",
    "    \n",
    "    t1 = np.abs(difference_cogito) / np.sqrt(v0 / c0 + v1 / c1)\n",
    "    t2 = np.abs(difference_cogito) / np.sqrt(v0 / c0 + v2 / c2)\n",
    "    \n",
    "    z1 = np.median(t1[~np.isnan(t1)])\n",
    "    z2 = np.median(t2[~np.isnan(t2)])\n",
    "    z3 = np.mean(t1[~np.isnan(t1)])\n",
    "    z4 = np.mean(t2[~np.isnan(t2)])\n",
    "    \n",
    "    p1 = 1 - stats.norm.cdf(z1)\n",
    "    p2 = 1 - stats.norm.cdf(z2)\n",
    "    p3 = 1 - stats.norm.cdf(z3)\n",
    "    p4 = 1 - stats.norm.cdf(z4)\n",
    "    \n",
    "    #print('%0.2f %0.2f %0.2f %0.2f %s' % (z1, z2, z3, z4, key))\n",
    "    print('%0.2f %0.2f %0.2f %0.2f %s' % (p1, p2, p3, p4, key))\n",
    "    \n",
    "    axes[0].bar(cogito_daily.index, difference_cogito, label = key_cogito)\n",
    "    axes[1].bar(cogito_daily.index, difference_qa, label = key_qa)\n",
    "\n",
    "for i in range(2):\n",
    "    axes[i].axhline(0)\n",
    "    axes[i].set_xlabel('Date')\n",
    "    axes[i].set_ylabel('Difference')\n",
    "    axes[i].legend()\n",
    "    \n",
    "axes[0].set_title('Pen %i: Absolute Difference between QA Adult Female Average Average' % (pen_id, ))\n",
    "axes[1].set_title('Pen %i: Percent Difference between QA Adult Female Average Average' % (pen_id, ))"
   ]
  },
  {
   "cell_type": "code",
   "execution_count": null,
   "metadata": {},
   "outputs": [],
   "source": [
    "# fig, axes = plt.subplots(nrows = 1, ncols = 1, figsize = (15, 10))\n",
    "\n",
    "# for key, value in masks.items():\n",
    "#     axes.bar(cogito_daily.index, masks[key]['cogito_daily']['adultFemaleCountAdjusted'] - cogito_daily['adultFemaleCountAdjusted'], label = key)\n",
    "#     print(key, np.mean(masks[key]['cogito_daily']['adultFemaleCountAdjusted'] - cogito_daily['adultFemaleCountAdjusted']))\n",
    "\n",
    "# axes.axhline(0)\n",
    "# axes.legend()"
   ]
  },
  {
   "cell_type": "code",
   "execution_count": null,
   "metadata": {},
   "outputs": [],
   "source": [
    "fig, axes = plt.subplots(nrows = 1, ncols = 1, figsize = (15, 10))\n",
    "\n",
    "for key, value in masks.items():\n",
    "    print(key)\n",
    "    axes.bar(masks[key]['cogito_daily_count'].index, masks[key]['cogito_daily_count']['movingCountAdjusted'], label = key)\n",
    "    \n",
    "axes.legend()"
   ]
  },
  {
   "cell_type": "code",
   "execution_count": null,
   "metadata": {},
   "outputs": [],
   "source": []
  },
  {
   "cell_type": "code",
   "execution_count": null,
   "metadata": {},
   "outputs": [],
   "source": [
    "for key, value in masks.items():\n",
    "    plt.plot(masks[key]['qa_daily'])"
   ]
  },
  {
   "cell_type": "code",
   "execution_count": null,
   "metadata": {},
   "outputs": [],
   "source": [
    "plt.plot(cogito_daily['adultFemaleCountAdjusted'])\n",
    "plt.plot(qa_daily['adultFemaleCountAdjusted'])"
   ]
  },
  {
   "cell_type": "code",
   "execution_count": null,
   "metadata": {},
   "outputs": [],
   "source": []
  }
 ],
 "metadata": {
  "kernelspec": {
   "display_name": "Python 3",
   "language": "python",
   "name": "python3"
  },
  "language_info": {
   "codemirror_mode": {
    "name": "ipython",
    "version": 3
   },
   "file_extension": ".py",
   "mimetype": "text/x-python",
   "name": "python",
   "nbconvert_exporter": "python",
   "pygments_lexer": "ipython3",
   "version": "3.6.5"
  }
 },
 "nbformat": 4,
 "nbformat_minor": 2
}
