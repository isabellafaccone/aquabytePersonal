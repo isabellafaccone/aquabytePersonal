{
 "cells": [
  {
   "cell_type": "code",
   "execution_count": null,
   "metadata": {},
   "outputs": [],
   "source": [
    "from scipy.optimize import fmin\n",
    "from scipy.stats import beta\n",
    "from scipy.special import gamma as gammaf\n",
    "import matplotlib.pyplot as plt\n",
    "import numpy as np\n",
    "import pandas as pd"
   ]
  },
  {
   "cell_type": "code",
   "execution_count": null,
   "metadata": {},
   "outputs": [],
   "source": [
    "df = pd.read_csv('/root/bryton/github/cv_research/bryton/ml_sealice/2016.csv')"
   ]
  },
  {
   "cell_type": "code",
   "execution_count": null,
   "metadata": {},
   "outputs": [],
   "source": [
    "num = df.loc[df['avgAdultFemaleLice'] < 0.5, 'avgAdultFemaleLice']\n",
    "\n",
    "def betaNLL(param,*args):\n",
    "    '''Negative log likelihood function for beta\n",
    "    <param>: list for parameters to be fitted.\n",
    "    <args>: 1-element array containing the sample data.\n",
    "\n",
    "    Return <nll>: negative log-likelihood to be minimized.\n",
    "    '''\n",
    "\n",
    "    a, b = param\n",
    "    data = args[0]\n",
    "    pdf = beta.pdf(data,a,b,loc=0,scale=1)\n",
    "    lg = np.log(pdf)\n",
    "    mask = np.isfinite(lg)\n",
    "    nll = -lg[mask].sum()\n",
    "    return nll\n",
    "\n",
    "#-------------------Sample data-------------------\n",
    "data=num\n",
    "#----------------Normalize to [0,1]----------------\n",
    "#data=(data-numpy.min(data))/(numpy.max(data)-numpy.min(data))\n",
    "\n",
    "#----------------Fit using moments----------------\n",
    "mean=numpy.mean(data)\n",
    "var=numpy.var(data,ddof=1)\n",
    "alpha1=mean**2*(1-mean)/var-mean\n",
    "beta1=alpha1*(1-mean)/mean\n",
    "\n",
    "#------------------Fit using mle------------------\n",
    "result=fmin(betaNLL,[1,1],args=(data,))\n",
    "alpha2,beta2=result\n",
    "\n",
    "#----------------Fit using beta.fit----------------\n",
    "alpha3,beta3,xx,yy=beta.fit(data)\n",
    "\n",
    "print('\\n# alpha,beta from moments:',alpha1,beta1)\n",
    "print('# alpha,beta from mle:',alpha2,beta2)\n",
    "print('# alpha,beta from beta.fit:',alpha3,beta3)\n",
    "\n",
    "#-----------------------Plot-----------------------\n",
    "plt.hist(data,bins=30,normed=True)\n",
    "\n",
    "def fitted (x,a,b):\n",
    "    array = gammaf(a+b)/gammaf(a)/gammaf(b)*x**(a-1)*(1-x)**(b-1) #pdf of beta\n",
    "    \n",
    "    array[array > 20] = 20\n",
    "    print(array)\n",
    "    return array\n",
    "\n",
    "xx=numpy.linspace(0,max(data),len(data))\n",
    "\n",
    "fit1 = fitted(xx,alpha1,beta1)\n",
    "print(xx.shape)\n",
    "print(fit1.shape)\n",
    "\n",
    "plt.plot(xx, fit1, 'g')\n",
    "#plt.plot(xx,fitted(xx,alpha2,beta2),'b')\n",
    "plt.plot(xx,fitted(xx,alpha3,beta3),'r')\n",
    "\n",
    "plt.xlabel('Sea lice count')\n",
    "plt.ylabel('Density')\n",
    "\n",
    "plt.show()"
   ]
  },
  {
   "cell_type": "code",
   "execution_count": null,
   "metadata": {},
   "outputs": [],
   "source": []
  },
  {
   "cell_type": "code",
   "execution_count": null,
   "metadata": {},
   "outputs": [],
   "source": []
  },
  {
   "cell_type": "code",
   "execution_count": null,
   "metadata": {},
   "outputs": [],
   "source": []
  }
 ],
 "metadata": {
  "kernelspec": {
   "display_name": "Python 3",
   "language": "python",
   "name": "python3"
  },
  "language_info": {
   "codemirror_mode": {
    "name": "ipython",
    "version": 3
   },
   "file_extension": ".py",
   "mimetype": "text/x-python",
   "name": "python",
   "nbconvert_exporter": "python",
   "pygments_lexer": "ipython3",
   "version": "3.7.0"
  }
 },
 "nbformat": 4,
 "nbformat_minor": 2
}
