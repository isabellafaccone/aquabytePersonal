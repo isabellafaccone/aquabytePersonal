{
 "cells": [
  {
   "cell_type": "code",
   "execution_count": null,
   "metadata": {},
   "outputs": [],
   "source": [
    "import json, os\n",
    "import pandas as pd\n",
    "import numpy as np\n",
    "import matplotlib.pyplot as plt\n",
    "\n",
    "from aquabyte.data_access_utils import S3AccessUtils, RDSAccessUtils"
   ]
  },
  {
   "cell_type": "code",
   "execution_count": null,
   "metadata": {},
   "outputs": [],
   "source": [
    "#rds_access_utils = RDSAccessUtils(json.load(open(os.environ['DATA_WAREHOUSE_SQL_CREDENTIALS'])))\n",
    "rds_access_utils = RDSAccessUtils(json.load(open(os.environ['PROD_SQL_CREDENTIALS'])))\n",
    "                                                    \n",
    "query = \"\"\"\n",
    "    select * from sites;\n",
    "\"\"\"\n",
    "\n",
    "df_sites = rds_access_utils.extract_from_database(query)\n",
    "\n",
    "df_sites"
   ]
  },
  {
   "cell_type": "code",
   "execution_count": null,
   "metadata": {},
   "outputs": [],
   "source": [
    "query = \"\"\"\n",
    "    select captured_at, annotation, annotation_metadata \n",
    "    from annotations a\n",
    "    where a.pen_id = 56\n",
    "    and a.is_qa = true\n",
    "    and a.is_skipped = false\n",
    "    and a.captured_at > '2020-03-01';\n",
    "\"\"\"\n",
    "\n",
    "lice_counts = rds_access_utils.extract_from_database(query)\n",
    "\n",
    "lice_counts"
   ]
  },
  {
   "cell_type": "code",
   "execution_count": null,
   "metadata": {},
   "outputs": [],
   "source": [
    "counts = {\n",
    "    'NUM_FISH': {\n",
    "        'LEFT': 0,\n",
    "        'RIGHT': 0 \n",
    "    },\n",
    "    'ADULT_FEMALE': {\n",
    "        'LEFT': 0,\n",
    "        'RIGHT': 0\n",
    "    },\n",
    "    'MOVING': {\n",
    "        'LEFT': 0,\n",
    "        'RIGHT': 0\n",
    "    }\n",
    "}\n",
    "\n",
    "categories = ['ADULT_FEMALE', 'MOVING']\n",
    "directions = ['LEFT', 'RIGHT', 'TOP', 'BOTTOM']\n",
    "\n",
    "for direction in directions:\n",
    "    lice_counts[direction] = 0 \n",
    "    \n",
    "    for category in categories:\n",
    "        categoryDirection = category + '_' + direction\n",
    "        \n",
    "        lice_counts[categoryDirection] = 0 \n",
    "\n",
    "\n",
    "for index, lice_count in lice_counts.iterrows():   \n",
    "    direction = lice_count['annotation_metadata']['direction']\n",
    "    \n",
    "    lice_counts.ix[index, 'movingCountAdjusted'] = lice_count['annotation_metadata']['liceCounts']['movingCountAdjusted']\n",
    "    lice_counts.ix[index, 'adultFemaleCountAdjusted'] = lice_count['annotation_metadata']['liceCounts']['adultFemaleCountAdjusted']\n",
    "        \n",
    "    leftAnnotations = lice_count['annotation']['leftCrop'] or []\n",
    "    rightAnnotations = lice_count['annotation']['rightCrop'] or []\n",
    "    annotations = leftAnnotations + rightAnnotations\n",
    "    \n",
    "    lice_counts.ix[index, direction] = lice_counts.ix[index, direction] + 1\n",
    "    counts['NUM_FISH'][direction] = counts['NUM_FISH'][direction] + 1\n",
    "    \n",
    "    for annotation in annotations:\n",
    "        category = annotation['category']\n",
    "        liceLocation = annotation['liceLocation']\n",
    "        \n",
    "        categoryDirection = category + '_' + direction\n",
    "        categoryDirectionLocation = category + '_' +  liceLocation\n",
    "        \n",
    "        if liceLocation == 'MIDDLE':\n",
    "            lice_counts.ix[index, categoryDirection] = lice_counts.ix[index, categoryDirection] + 1\n",
    "            counts[category][direction] = counts[category][direction] + 1\n",
    "        else:\n",
    "            lice_counts.ix[index, categoryDirectionLocation] = lice_counts.ix[index, categoryDirection] + 1"
   ]
  },
  {
   "cell_type": "code",
   "execution_count": null,
   "metadata": {},
   "outputs": [],
   "source": [
    "counts"
   ]
  },
  {
   "cell_type": "code",
   "execution_count": null,
   "metadata": {},
   "outputs": [],
   "source": [
    "directions = ['LEFT', 'RIGHT']\n",
    "\n",
    "for direction in directions:\n",
    "    af_ratio = counts['ADULT_FEMALE'][direction] / counts['NUM_FISH'][direction]\n",
    "    m_ratio = counts['MOVING'][direction] / counts['NUM_FISH'][direction]\n",
    "    print('%s: AF: %0.3f, M: %0.3f' % (direction, af_ratio, m_ratio))"
   ]
  },
  {
   "cell_type": "code",
   "execution_count": null,
   "metadata": {},
   "outputs": [],
   "source": [
    "lice_counts"
   ]
  },
  {
   "cell_type": "code",
   "execution_count": null,
   "metadata": {},
   "outputs": [],
   "source": [
    "columns = [ 'ADULT_FEMALE_LEFT', 'ADULT_FEMALE_RIGHT', 'MOVING_LEFT', 'MOVING_RIGHT', 'LEFT', 'RIGHT', 'ADULT_FEMALE_TOP', 'ADULT_FEMALE_BOTTOM', 'MOVING_TOP', 'MOVING_BOTTOM', 'adultFemaleCountAdjusted', 'movingCountAdjusted', ]\n",
    "left_columns = [ 'ADULT_FEMALE_LEFT', 'MOVING_LEFT' ]\n",
    "right_columns = [ 'ADULT_FEMALE_RIGHT', 'MOVING_RIGHT' ]\n",
    "\n",
    "lice_counts.index = pd.to_datetime(lice_counts.captured_at)\n",
    "\n",
    "df_daily = lice_counts[columns].rolling('D').mean().resample('D').apply(lambda x:x.tail(1) if x.shape[0] else np.nan)\n",
    "df_daily_left = lice_counts.loc[lice_counts['LEFT'] == 1, left_columns].rolling('D').mean().resample('D').apply(lambda x:x.tail(1) if x.shape[0] else np.nan)\n",
    "df_daily_right = lice_counts.loc[lice_counts['RIGHT'] == 1, right_columns].rolling('D').mean().resample('D').apply(lambda x:x.tail(1) if x.shape[0] else np.nan)"
   ]
  },
  {
   "cell_type": "code",
   "execution_count": null,
   "metadata": {},
   "outputs": [],
   "source": [
    "df_daily[left_columns] = df_daily_left[left_columns]\n",
    "df_daily[right_columns] = df_daily_right[right_columns]\n",
    "df_daily"
   ]
  },
  {
   "cell_type": "code",
   "execution_count": null,
   "metadata": {},
   "outputs": [],
   "source": [
    "#np.sum(df_daily['MOVING_LEFT']) / np.sum(df_daily['LEFT'])\n",
    "\n",
    "np.sum(df_daily['MOVING_RIGHT']) / np.sum(df_daily['RIGHT'])\n"
   ]
  },
  {
   "cell_type": "code",
   "execution_count": null,
   "metadata": {},
   "outputs": [],
   "source": [
    "df_daily = df_daily.dropna()"
   ]
  },
  {
   "cell_type": "code",
   "execution_count": null,
   "metadata": {},
   "outputs": [],
   "source": [
    "df_daily"
   ]
  },
  {
   "cell_type": "code",
   "execution_count": null,
   "metadata": {},
   "outputs": [],
   "source": [
    "df_num = lice_counts[['LEFT', 'RIGHT']].rolling('D').sum().resample('D').apply(lambda x:x.tail(1) if x.shape[0] else np.nan)"
   ]
  },
  {
   "cell_type": "code",
   "execution_count": null,
   "metadata": {},
   "outputs": [],
   "source": [
    "df_daily['NUM_FISH'] = df_num['LEFT'] + df_num['RIGHT']"
   ]
  },
  {
   "cell_type": "code",
   "execution_count": null,
   "metadata": {},
   "outputs": [],
   "source": [
    "df_daily"
   ]
  },
  {
   "cell_type": "code",
   "execution_count": null,
   "metadata": {},
   "outputs": [],
   "source": [
    "fig, ax = plt.subplots(2)\n",
    "\n",
    "fig.set_size_inches(10, 20)\n",
    "\n",
    "af_count = df_daily['ADULT_FEMALE_LEFT'] + df_daily['ADULT_FEMALE_RIGHT'] + df_daily['ADULT_FEMALE_TOP'] + df_daily['ADULT_FEMALE_BOTTOM']\n",
    "m_count = df_daily['MOVING_LEFT'] + df_daily['MOVING_RIGHT'] + df_daily['MOVING_TOP'] + df_daily['MOVING_BOTTOM']\n",
    "\n",
    "ax[0].plot(df_daily.index, df_daily['ADULT_FEMALE_LEFT'], linestyle = '-', marker = 'o', color = 'red', label = 'Left AF')\n",
    "ax[0].plot(df_daily.index, df_daily['ADULT_FEMALE_RIGHT'], linestyle = '-', marker = 'o', color = 'blue', label = 'Right AF')\n",
    "ax[0].plot(df_daily.index, df_daily['LEFT'], linestyle = '--', marker = 'o', color = 'green', label = 'Pct Left')\n",
    "ax[0].plot(df_daily.index, af_count, linestyle = '--', marker = 'o', color = 'black', label = 'Avg AF')\n",
    "ax[0].plot(df_daily.index, df_daily['adultFemaleCountAdjusted'], linestyle = '--', marker = '*', color = 'purple', label = 'Avg AF')\n",
    "ax[0].set_title('Vikane Pen 1 Adult Female Counts by Side')\n",
    "ax[0].set_xlabel('Date')\n",
    "ax[0].set_ylabel('Count')\n",
    "\n",
    "ax[1].plot(df_daily.index, df_daily['MOVING_LEFT'], linestyle = '-', marker = 'o', color = 'red', label = 'Left M')\n",
    "ax[1].plot(df_daily.index, df_daily['MOVING_RIGHT'], linestyle = '-', marker = 'o', color = 'blue', label = 'Right M')\n",
    "ax[1].plot(df_daily.index, df_daily['LEFT'], linestyle = '--', marker = 'o', color = 'green', label = 'Pct Left')\n",
    "ax[1].plot(df_daily.index, m_count, linestyle = '--', marker = 'o', color = 'black', label = 'Avg M')\n",
    "ax[1].plot(df_daily.index, df_daily['movingCountAdjusted'], linestyle = '--', marker = '*', color = 'purple', label = 'Avg AF')\n",
    "ax[1].set_title('Vikane Pen 1 Mobile Counts by Side')\n",
    "ax[1].set_xlabel('Date')\n",
    "ax[1].set_ylabel('Count')\n",
    "\n",
    "ax[0].legend(bbox_to_anchor=(1.05, 1), loc='upper left', borderaxespad=0.)\n",
    "ax[1].legend(bbox_to_anchor=(1.05, 1), loc='upper left', borderaxespad=0.)\n",
    "\n",
    "plt.show()"
   ]
  },
  {
   "cell_type": "code",
   "execution_count": null,
   "metadata": {},
   "outputs": [],
   "source": [
    "for index, lice_count in df_daily.iterrows():\n",
    "    df_daily.ix[index, 'leftAFCount'] = lice_count['ADULT_FEMALE_LEFT'] * lice_count['NUM_FISH']\n",
    "    df_daily.ix[index, 'rightAFCount'] = lice_count['ADULT_FEMALE_RIGHT'] * lice_count['NUM_FISH']\n",
    "    df_daily.ix[index, 'leftMCount'] = lice_count['MOVING_LEFT'] * lice_count['NUM_FISH']\n",
    "    df_daily.ix[index, 'rightMCount'] = lice_count['MOVING_RIGHT'] * lice_count['NUM_FISH']\n",
    "\n",
    "leftAFCount = []\n",
    "rightAFCount = []\n",
    "leftMCount = []\n",
    "rightMCount = []\n",
    "    \n",
    "for index, lice_count in df_daily.iterrows():\n",
    "    if len(leftCount) == 7:\n",
    "        \n",
    "        df_daily.ix[index, 'LRCoefficientAF'] = np.sum(leftAFCount) / np.sum(rightAFCount)\n",
    "        df_daily.ix[index, 'LRCoefficientM'] = np.sum(leftMCount) / np.sum(rightMCount)\n",
    "\n",
    "    leftAFCount.append(lice_count['leftAFCount'])\n",
    "    rightAFCount.append(lice_count['rightAFCount'])\n",
    "    leftMCount.append(lice_count['leftMCount'])\n",
    "    rightMCount.append(lice_count['rightMCount'])\n",
    "    \n",
    "    if len(leftAFCount) > 7:\n",
    "        leftAFCount.pop(0)\n",
    "        rightAFCount.pop(0)\n",
    "        leftMCount.pop(0)\n",
    "        rightMCount.pop(0)\n",
    "        \n",
    "df_daily"
   ]
  },
  {
   "cell_type": "code",
   "execution_count": null,
   "metadata": {},
   "outputs": [],
   "source": [
    "plt.plot(df_daily.index, df_daily['LRCoefficientAF'], linestyle = '--', marker = 'o', color = 'red')\n",
    "plt.plot(df_daily.index, df_daily['LRCoefficientM'], linestyle = '--', marker = 'o', color = 'blue')\n",
    "plt.show()"
   ]
  },
  {
   "cell_type": "code",
   "execution_count": null,
   "metadata": {},
   "outputs": [],
   "source": [
    "fig, ax = plt.subplots(2)\n",
    "\n",
    "fig.set_size_inches(10, 20)\n",
    "\n",
    "df_daily = df_daily.dropna()\n",
    "\n",
    "af_count = df_daily['ADULT_FEMALE_LEFT'] + df_daily['ADULT_FEMALE_RIGHT'] + df_daily['ADULT_FEMALE_TOP'] + df_daily['ADULT_FEMALE_BOTTOM']\n",
    "m_count = df_daily['MOVING_LEFT'] + df_daily['MOVING_RIGHT'] + df_daily['MOVING_TOP'] + df_daily['MOVING_BOTTOM']\n",
    "\n",
    "af_count_left = df_daily['ADULT_FEMALE_LEFT'] * df_daily['LEFT'] + (1 - df_daily['LEFT']) * df_daily['ADULT_FEMALE_RIGHT'] * df_daily['LRCoefficientAF']\n",
    "af_count_right = df_daily['ADULT_FEMALE_RIGHT'] * df_daily['RIGHT'] + (1 - df_daily['RIGHT']) * df_daily['ADULT_FEMALE_LEFT'] * (1 / df_daily['LRCoefficientAF'])\n",
    "af_count_lr = af_count_left + af_count_right + df_daily['ADULT_FEMALE_TOP'] + df_daily['ADULT_FEMALE_BOTTOM']\n",
    "\n",
    "m_count_left = df_daily['MOVING_LEFT'] * df_daily['LEFT'] + (1 - df_daily['LEFT']) * df_daily['MOVING_RIGHT'] * df_daily['LRCoefficientM']\n",
    "m_count_right = df_daily['MOVING_RIGHT'] * df_daily['RIGHT'] + (1 - df_daily['RIGHT']) * df_daily['MOVING_LEFT'] * (1 / df_daily['LRCoefficientM'])\n",
    "m_count_lr = m_count_left + m_count_right + df_daily['MOVING_TOP'] + df_daily['MOVING_BOTTOM']\n",
    "\n",
    "ax[0].plot(df_daily.index, af_count, linestyle = '-', marker = 'o', color = 'red', label = 'Original')\n",
    "ax[0].plot(df_daily.index, af_count_lr, linestyle = '--', marker = 'o', color = 'blue', label = 'With Sides')\n",
    "ax[0].plot(df_daily.index, df_daily['adultFemaleCountAdjusted'], linestyle = '--', marker = '*', color = 'purple', label = 'Avg AF')\n",
    "ax[0].set_title('Vikane Pen 1 Adult Female Counts by Side')\n",
    "ax[0].set_xlabel('Date')\n",
    "ax[0].set_ylabel('Count')\n",
    "\n",
    "ax[1].plot(df_daily.index, m_count, linestyle = '-', marker = 'o', color = 'red', label = 'Original')\n",
    "ax[1].plot(df_daily.index, m_count_lr, linestyle = '--', marker = 'o', color = 'blue', label = 'With Sides')\n",
    "ax[1].plot(df_daily.index, df_daily['movingCountAdjusted'], linestyle = '--', marker = '*', color = 'purple', label = 'Avg AF')\n",
    "ax[1].set_title('Vikane Pen 1 Mobile Counts by Side')\n",
    "ax[1].set_xlabel('Date')\n",
    "ax[1].set_ylabel('Count')\n",
    "\n",
    "ax[0].legend(bbox_to_anchor=(1.05, 1), loc='upper left', borderaxespad=0.)\n",
    "ax[1].legend(bbox_to_anchor=(1.05, 1), loc='upper left', borderaxespad=0.)\n",
    "\n",
    "plt.show()"
   ]
  },
  {
   "cell_type": "code",
   "execution_count": null,
   "metadata": {},
   "outputs": [],
   "source": []
  },
  {
   "cell_type": "code",
   "execution_count": null,
   "metadata": {},
   "outputs": [],
   "source": []
  },
  {
   "cell_type": "code",
   "execution_count": null,
   "metadata": {},
   "outputs": [],
   "source": []
  }
 ],
 "metadata": {
  "kernelspec": {
   "display_name": "Python 3",
   "language": "python",
   "name": "python3"
  },
  "language_info": {
   "codemirror_mode": {
    "name": "ipython",
    "version": 3
   },
   "file_extension": ".py",
   "mimetype": "text/x-python",
   "name": "python",
   "nbconvert_exporter": "python",
   "pygments_lexer": "ipython3"
  }
 },
 "nbformat": 4,
 "nbformat_minor": 2
}
