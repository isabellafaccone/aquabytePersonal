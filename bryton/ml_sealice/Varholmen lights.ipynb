{
 "cells": [
  {
   "cell_type": "code",
   "execution_count": null,
   "metadata": {},
   "outputs": [],
   "source": [
    "import json, os\n",
    "import pandas as pd\n",
    "import numpy as np\n",
    "import matplotlib.pyplot as plt\n",
    "plt.rcParams['axes.facecolor'] = 'white'\n",
    "import matplotlib.colors\n",
    "\n",
    "import pytz \n",
    "\n",
    "from datetime import timedelta, datetime\n",
    "\n",
    "from research.utils.data_access_utils import RDSAccessUtils"
   ]
  },
  {
   "cell_type": "code",
   "execution_count": null,
   "metadata": {},
   "outputs": [],
   "source": [
    "%%javascript\n",
    "IPython.OutputArea.prototype._should_scroll = function(lines) {\n",
    "    return false;\n",
    "}"
   ]
  },
  {
   "cell_type": "code",
   "execution_count": null,
   "metadata": {},
   "outputs": [],
   "source": [
    "rds_access_utils = RDSAccessUtils(json.load(open(os.environ['PROD_SQL_CREDENTIALS'])))\n",
    "\n",
    "query = \"\"\"\n",
    "    select p.id as id, s.name as site_name, p.name as pen_name from pens p\n",
    "    left join sites s\n",
    "    on p.site_id = s.id\n",
    "    order by p.id;\n",
    "\"\"\"\n",
    "\n",
    "df_pens = rds_access_utils.extract_from_database(query)\n",
    "\n",
    "pen_infos = {}\n",
    "\n",
    "for index, pen in df_pens.iterrows():\n",
    "    pen_infos[pen.id] = pen"
   ]
  },
  {
   "cell_type": "code",
   "execution_count": null,
   "metadata": {},
   "outputs": [],
   "source": [
    "rds_access_utils = RDSAccessUtils(json.load(open(os.environ['DATA_WAREHOUSE_SQL_CREDENTIALS'])))"
   ]
  },
  {
   "cell_type": "code",
   "execution_count": null,
   "metadata": {},
   "outputs": [],
   "source": [
    "queryCache = {}"
   ]
  },
  {
   "cell_type": "code",
   "execution_count": null,
   "metadata": {},
   "outputs": [],
   "source": [
    "pen_ids = [ 100, 131, 60, 56, 128, 122, 114, 1, 4 ]\n",
    "\n",
    "fig, axes = plt.subplots(len(pen_ids), 1, figsize=(10, len(pen_ids) * 3))\n",
    "fig.tight_layout(pad = 3)\n",
    "\n",
    "\n",
    "start_date = '2020-08-17'\n",
    "end_date = '2020-08-26'\n",
    "\n",
    "for index, pen_id in enumerate(pen_ids):\n",
    "    query = \"\"\"\n",
    "            select captured_at, left_crop_metadata \n",
    "            from prod.crop_annotation\n",
    "            where pen_id={0}\n",
    "            and group_id='{0}'\n",
    "            and captured_at between '{1}' and '{2}'\n",
    "            and annotation_state_id in (1, 8)\n",
    "            and service_id=1;\n",
    "        \"\"\".format(pen_id, start_date, end_date)\n",
    "    \n",
    "    if query in queryCache:\n",
    "        df = queryCache[query].copy()\n",
    "    else:\n",
    "        df = rds_access_utils.extract_from_database(query)\n",
    "        queryCache[query] = df.copy()\n",
    "        \n",
    "    df = df.sort_values('captured_at', ascending=True)\n",
    "    df.index = pd.to_datetime(df.captured_at)\n",
    "    df['hour'] = df.index.hour.values\n",
    "    df['date'] = df.index.date.astype(str)\n",
    "    vals = df.left_crop_metadata.apply(lambda x: x.get('mean_luminance') if x else None)\n",
    "    df['mean_luminance'] = vals\n",
    "\n",
    "    byHour = df.groupby(['hour']).mean()\n",
    "\n",
    "    axes[index].bar(byHour.index, byHour['mean_luminance'])\n",
    "    axes[index].set_xlabel('Hour')\n",
    "    axes[index].set_ylabel('Luminance')\n",
    "    axes[index].set_title('%i: %s %s (8/17/20 - 8/26/20)' % (pen_id, pen_infos[pen_id]['site_name'], pen_infos[pen_id]['pen_name']))\n"
   ]
  },
  {
   "cell_type": "code",
   "execution_count": null,
   "metadata": {},
   "outputs": [],
   "source": []
  },
  {
   "cell_type": "code",
   "execution_count": null,
   "metadata": {},
   "outputs": [],
   "source": []
  },
  {
   "cell_type": "code",
   "execution_count": null,
   "metadata": {},
   "outputs": [],
   "source": []
  }
 ],
 "metadata": {
  "kernelspec": {
   "display_name": "Python 3",
   "language": "python",
   "name": "python3"
  },
  "language_info": {
   "codemirror_mode": {
    "name": "ipython",
    "version": 3
   },
   "file_extension": ".py",
   "mimetype": "text/x-python",
   "name": "python",
   "nbconvert_exporter": "python",
   "pygments_lexer": "ipython3",
   "version": "3.6.5"
  }
 },
 "nbformat": 4,
 "nbformat_minor": 2
}
