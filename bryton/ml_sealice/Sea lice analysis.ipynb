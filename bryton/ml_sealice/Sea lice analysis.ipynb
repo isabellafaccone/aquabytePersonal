{
 "cells": [
  {
   "cell_type": "code",
   "execution_count": null,
   "metadata": {},
   "outputs": [],
   "source": [
    "import numpy as np\n",
    "import pandas as pd\n",
    "import statsmodels.api as sm\n",
    "import matplotlib.pyplot as plt\n",
    "import scipy.stats as stats"
   ]
  },
  {
   "cell_type": "code",
   "execution_count": null,
   "metadata": {},
   "outputs": [],
   "source": [
    "df = pd.read_csv('/root/bryton/github/cv_research/bryton/ml_sealice/2016.csv')"
   ]
  },
  {
   "cell_type": "code",
   "execution_count": null,
   "metadata": {},
   "outputs": [],
   "source": [
    "num = df.loc[df['avgAdultFemaleLice'] < 0.5, 'avgAdultFemaleLice']\n",
    "#num = df.loc[df['avgMobileLice'] < 1.5, 'avgMobileLice']\n",
    "#num = df.loc[df['avgStationaryLice'] < 0.5, 'avgStationaryLice']\n",
    "\n",
    "dist = dist=stats.distributions.beta\n",
    "res = num\n",
    "#res = np.log(1 + num)\n",
    "\n",
    "fig = sm.qqplot(res, dist=dist, fit=True, line='45')\n",
    "\n",
    "plt.show()"
   ]
  },
  {
   "cell_type": "code",
   "execution_count": null,
   "metadata": {},
   "outputs": [],
   "source": [
    "dist= dist=stats.distributions.expon"
   ]
  },
  {
   "cell_type": "code",
   "execution_count": null,
   "metadata": {},
   "outputs": [],
   "source": []
  },
  {
   "cell_type": "code",
   "execution_count": null,
   "metadata": {},
   "outputs": [],
   "source": [
    "print(df.iloc[0])\n",
    "\n",
    "plt.hist(df.loc[df['avgAdultFemaleLice'] < 1.5, 'avgAdultFemaleLice'], bins='auto', density=True)\n",
    "plt.show()\n",
    "\n",
    "plt.hist(df.loc[df['avgMobileLice'] < 5, 'avgMobileLice'], bins='auto', density=True)\n",
    "plt.show()\n",
    "\n",
    "plt.hist(df.loc[df['avgStationaryLice'] < 3, 'avgStationaryLice'], bins='auto', density=True)\n",
    "plt.show()\n",
    "\n",
    "print(np.mean(df['avgAdultFemaleLice']))\n",
    "print(np.median(df['avgAdultFemaleLice']))\n",
    "\n",
    "print(np.mean(df['avgMobileLice']))\n",
    "print(np.median(df['avgMobileLice']))\n",
    "\n",
    "print(np.mean(df['avgStationaryLice']))\n",
    "print(np.median(df['avgStationaryLice']))\n",
    "\n",
    "for i in range(0, 100, 1):\n",
    "    p1 = np.percentile(df['avgAdultFemaleLice'], i) # return 50th percentile, e.g median.\n",
    "    p2 = np.percentile(df['avgMobileLice'], i) # return 50th percentile, e.g median.\n",
    "    p3 = np.percentile(df['avgStationaryLice'], i) # return 50th percentile, e.g median.\n",
    "    print('%0.2f: %0.2f, %0.2f, %0.2f' % (i, p1, p2, p3))"
   ]
  },
  {
   "cell_type": "code",
   "execution_count": null,
   "metadata": {},
   "outputs": [],
   "source": [
    "my_df = df.loc[:,'avgAdultFemaleLice':'seaTemperature']\n",
    "\n",
    "new_df = my_df.copy()\n",
    "norm_df = my_df.copy()\n",
    "\n",
    "for x in my_df.columns:\n",
    "    my_mean = my_df[x].median()\n",
    "    my_std = my_df[x].std()\n",
    "    my_iqr = stats.iqr(my_df[x])\n",
    "    \n",
    "    my_row = my_df[x].copy()\n",
    "    new_df[x] = my_row / my_iqr\n",
    "    norm_df[x] = (my_row - my_mean) / my_std"
   ]
  },
  {
   "cell_type": "code",
   "execution_count": null,
   "metadata": {},
   "outputs": [],
   "source": []
  },
  {
   "cell_type": "code",
   "execution_count": null,
   "metadata": {},
   "outputs": [],
   "source": [
    "#good_indices_1 = (my_df == 0).any(axis=1) == False\n",
    "good_indices_2 = my_df['avgAdultFemaleLice'] < 1.5\n",
    "good_indices_3 = my_df['avgMobileLice'] < 5\n",
    "good_indices_4 = my_df['avgStationaryLice'] < 3\n",
    "\n",
    "good_indices = good_indices_2 & good_indices_3 & good_indices_4\n",
    "\n",
    "print(np.sum(good_indices) / len(good_indices))\n",
    "\n",
    "my_df_X = new_df.filter(['avgAdultFemaleLice', 'avgMobileLice', 'seaTemperature'], axis=1)\n",
    "my_df_Y = new_df['avgStationaryLice'][good_indices]\n",
    "\n",
    "my_df_X = my_df_X.loc[good_indices, :]\n",
    "\n",
    "my_df_X = np.log(1 + my_df_X)\n",
    "my_df_Y = my_df_Y\n",
    "#my_df_Y = np.log(1 + my_df_Y)\n",
    "\n",
    "my_df_X = np.hstack((my_df_X, my_df_X ** 2, np.log(1 + my_df_X)))\n",
    "\n",
    "myX = sm.add_constant(my_df_X)\n",
    "myY = np.log(1 + my_df_Y)\n",
    "\n",
    "model = sm.OLS(myY, myX).fit()\n",
    "\n",
    "res = model.resid\n",
    "fig = sm.qqplot(res, dist=stats.distributions.norm, fit=True, line='45')\n",
    "\n",
    "plt.show()\n",
    "\n",
    "print(model.summary())"
   ]
  },
  {
   "cell_type": "code",
   "execution_count": null,
   "metadata": {},
   "outputs": [],
   "source": [
    "plt.scatter(my_df_X[:,0], my_df_Y)\n",
    "plt.show()"
   ]
  },
  {
   "cell_type": "code",
   "execution_count": null,
   "metadata": {},
   "outputs": [],
   "source": [
    "predY = model.predict(myX)\n",
    "error = predY - myY\n",
    "\n",
    "avg_error = np.median(np.abs(error))\n",
    "\n",
    "print(avg_error)\n",
    "\n",
    "plt.scatter(myY, predY)\n",
    "plt.xlabel('Actual stationary')\n",
    "plt.ylabel('Predicted stationary')\n",
    "plt.show()"
   ]
  },
  {
   "cell_type": "code",
   "execution_count": null,
   "metadata": {},
   "outputs": [],
   "source": [
    "res_X = predY\n",
    "res_Y = predY - myY\n",
    "\n",
    "res_myX = sm.add_constant(res_X)\n",
    "res_myY = res_Y\n",
    "\n",
    "res_model = sm.OLS(res_myY, res_myX).fit_regularized(L1_wt=0)\n",
    "res_predY = res_model.predict(res_myX)\n",
    "\n",
    "print(res_model.summary())\n",
    "\n",
    "plt.scatter(res_X, res_Y)\n",
    "plt.plot(res_X, res_predY, color='red')\n",
    "plt.show()"
   ]
  },
  {
   "cell_type": "code",
   "execution_count": null,
   "metadata": {},
   "outputs": [],
   "source": [
    "plt.scatter(np.exp(myY), np.exp(predY))\n",
    "plt.xlabel('Actual stationary')\n",
    "plt.ylabel('Predicted stationary')\n",
    "plt.show()\n",
    "\n",
    "error = np.exp(predY) - np.exp(myY)\n",
    "\n",
    "avg_error = np.median(np.abs(error))\n",
    "\n",
    "print(avg_error)"
   ]
  },
  {
   "cell_type": "code",
   "execution_count": null,
   "metadata": {},
   "outputs": [],
   "source": [
    "# Trying a different model that is time-series based"
   ]
  },
  {
   "cell_type": "code",
   "execution_count": null,
   "metadata": {},
   "outputs": [],
   "source": [
    "subset = my_df.loc[df['localityNo'] == 11756]\n",
    "\n",
    "print(subset)\n",
    "\n",
    "plt.plot(subset['avgAdultFemaleLice'])\n",
    "plt.show()"
   ]
  },
  {
   "cell_type": "code",
   "execution_count": null,
   "metadata": {},
   "outputs": [],
   "source": [
    "print(subset.shape)\n",
    "\n",
    "subset_v = subset.values\n",
    "print(subset_v.shape)\n",
    "\n",
    "diff = subset_v[1:21] - subset_v[0:20]\n",
    "\n",
    "diff_myX = np.hstack((subset_v[1:21,0:1], subset_v[0:20,:]))\n",
    "diff_myY = subset_v[1:21, 2]\n",
    "\n",
    "diff_model = sm.OLS(diff_myY, diff_myX).fit()\n",
    "diff_predY = diff_model.predict(diff_myX)\n",
    "\n",
    "print(diff_model.summary())\n",
    "\n",
    "plt.scatter(diff_myY, diff_predY)\n",
    "plt.show()"
   ]
  },
  {
   "cell_type": "code",
   "execution_count": null,
   "metadata": {},
   "outputs": [],
   "source": [
    "localityNumbers = np.unique(df['localityNo'])\n",
    "\n",
    "all_diff_myX = None\n",
    "all_diff_myY = None\n",
    "\n",
    "for localityNo in localityNumbers:\n",
    "    subset = my_df.loc[df['localityNo'] == localityNo]\n",
    "    subset_v = subset.values\n",
    "    num_obs = subset_v.shape[0]\n",
    "\n",
    "    diff = subset_v[1:num_obs] - subset_v[0:(num_obs - 1)]\n",
    "    \n",
    "    diff_myX = np.hstack((subset_v[1:num_obs,0:2], subset_v[0:(num_obs - 1),0:3]))\n",
    "    diff_myY = subset_v[1:num_obs, 2]\n",
    "    \n",
    "    if all_diff_myX is None:\n",
    "        all_diff_myX = diff_myX\n",
    "        all_diff_myY = diff_myY\n",
    "    else:\n",
    "        all_diff_myX = np.vstack((all_diff_myX, diff_myX))\n",
    "        all_diff_myY = np.concatenate((all_diff_myY, diff_myY))\n",
    "        \n",
    "print('done')\n",
    "print(all_diff_myX.shape)\n",
    "print(all_diff_myY.shape)"
   ]
  },
  {
   "cell_type": "code",
   "execution_count": null,
   "metadata": {},
   "outputs": [],
   "source": [
    "all_diff_myX"
   ]
  },
  {
   "cell_type": "code",
   "execution_count": null,
   "metadata": {},
   "outputs": [],
   "source": [
    "good_indices_2 = all_diff_myX[:,0] < 1.5\n",
    "good_indices_3 = all_diff_myX[:,1] < 5\n",
    "good_indices_4 = all_diff_myX[:,2] < 1.5\n",
    "good_indices_5 = all_diff_myX[:,3] < 5\n",
    "good_indices_6 = all_diff_myX[:,4] < 3\n",
    "good_indices_7 = all_diff_myY < 3\n",
    "\n",
    "good_indices = good_indices_2 & good_indices_3 & good_indices_4 & good_indices_5 & good_indices_6 & good_indices_7\n",
    "\n",
    "print(np.sum(good_indices) / len(good_indices))\n",
    "\n",
    "all_filtered_myX = all_diff_myX[good_indices, :]\n",
    "all_filtered_myY = all_diff_myY[good_indices]\n",
    "\n",
    "all_myX = sm.add_constant(np.hstack((all_filtered_myX, np.log(1 + all_filtered_myX))))\n",
    "all_myY = np.log(1+all_filtered_myY)\n",
    "\n",
    "all_diff_model = sm.OLS(all_myY, all_myX).fit()\n",
    "all_predY = all_diff_model.predict(all_myX)\n",
    "\n",
    "print(all_diff_model.summary())\n",
    "\n",
    "plt.scatter(all_myY, all_predY)\n",
    "plt.show()"
   ]
  },
  {
   "cell_type": "code",
   "execution_count": null,
   "metadata": {},
   "outputs": [],
   "source": [
    "final_predY = np.exp(all_predY) - 1\n",
    "final_myY = np.exp(all_myY) - 1\n",
    "\n",
    "error = np.median(np.abs(final_predY - final_myY))\n",
    "\n",
    "print(np.median(final_myY))\n",
    "\n",
    "print(error)"
   ]
  },
  {
   "cell_type": "code",
   "execution_count": null,
   "metadata": {},
   "outputs": [],
   "source": []
  }
 ],
 "metadata": {
  "kernelspec": {
   "display_name": "Python 3",
   "language": "python",
   "name": "python3"
  },
  "language_info": {
   "codemirror_mode": {
    "name": "ipython",
    "version": 3
   },
   "file_extension": ".py",
   "mimetype": "text/x-python",
   "name": "python",
   "nbconvert_exporter": "python",
   "pygments_lexer": "ipython3",
   "version": "3.5.2"
  }
 },
 "nbformat": 4,
 "nbformat_minor": 2
}
