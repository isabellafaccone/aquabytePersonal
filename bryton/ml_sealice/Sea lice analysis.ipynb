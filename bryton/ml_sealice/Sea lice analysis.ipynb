{
 "cells": [
  {
   "cell_type": "code",
   "execution_count": 25,
   "metadata": {},
   "outputs": [],
   "source": [
    "import numpy as np\n",
    "import pandas as pd\n",
    "import statsmodels.api as sm\n",
    "import matplotlib.pyplot as plt\n",
    "import scipy.stats as stats"
   ]
  },
  {
   "cell_type": "code",
   "execution_count": 26,
   "metadata": {},
   "outputs": [],
   "source": [
    "#df = pd.read_csv('/root/bryton/github/cv_research/bryton/ml_sealice/2016.csv')\n",
    "df = pd.read_csv('/root/bryton/github/cv_research/bryton/ml_sealice/combined_2016_2018.csv')\n"
   ]
  },
  {
   "cell_type": "code",
   "execution_count": 27,
   "metadata": {},
   "outputs": [
    {
     "data": {
      "text/plain": [
       "0.05609444798978941"
      ]
     },
     "execution_count": 27,
     "metadata": {},
     "output_type": "execute_result"
    }
   ],
   "source": [
    "df\n",
    "delicings = np.where(df['mechanicalRemoval'].isnull() == False)[0]\n",
    "\n",
    "num_delicings = len(delicings)\n",
    "num_site_weeks = len(df)\n",
    "\n",
    "num_delicings / num_site_weeks\n",
    "\n",
    "# Average time between delicings\n",
    "# Number of delicings\n",
    "# Pull specifically for Erko"
   ]
  },
  {
   "cell_type": "code",
   "execution_count": null,
   "metadata": {},
   "outputs": [],
   "source": []
  },
  {
   "cell_type": "code",
   "execution_count": 28,
   "metadata": {},
   "outputs": [
    {
     "name": "stderr",
     "output_type": "stream",
     "text": [
      "/usr/local/lib/python3.5/dist-packages/scipy/stats/_continuous_distns.py:437: RuntimeWarning: invalid value encountered in sqrt\n",
      "  sk = 2*(b-a)*np.sqrt(a + b + 1) / (a + b + 2) / np.sqrt(a*b)\n"
     ]
    },
    {
     "data": {
      "image/png": "[encoded data removed]",
      "text/plain": [
       "<Figure size 432x288 with 1 Axes>"
      ]
     },
     "metadata": {},
     "output_type": "display_data"
    }
   ],
   "source": [
    "num = df.loc[df['avgAdultFemaleLice'] < 0.5, 'avgAdultFemaleLice']\n",
    "#num = df.loc[df['avgMobileLice'] < 1.5, 'avgMobileLice']\n",
    "#num = df.loc[df['avgStationaryLice'] < 0.5, 'avgStationaryLice']\n",
    "\n",
    "dist = dist=stats.distributions.beta\n",
    "res = num\n",
    "#res = np.log(1 + num)\n",
    "\n",
    "fig = sm.qqplot(res, dist=dist, fit=True, line='45')\n",
    "\n",
    "plt.show()"
   ]
  },
  {
   "cell_type": "code",
   "execution_count": 29,
   "metadata": {},
   "outputs": [],
   "source": [
    "dist= dist=stats.distributions.expon"
   ]
  },
  {
   "cell_type": "code",
   "execution_count": null,
   "metadata": {},
   "outputs": [],
   "source": []
  },
  {
   "cell_type": "code",
   "execution_count": 30,
   "metadata": {},
   "outputs": [
    {
     "name": "stdout",
     "output_type": "stream",
     "text": [
      "id                                                45024\n",
      "localityNo                                        11756\n",
      "year                                               2016\n",
      "week                                                  1\n",
      "hasReportedLice                                    True\n",
      "hasMechanicalRemoval                              False\n",
      "hasBathTreatment                                  False\n",
      "hasInFeedTreatment                                False\n",
      "hasCleanerFishDeployed                            False\n",
      "isFallow                                          False\n",
      "avgAdultFemaleLice                                 0.47\n",
      "avgMobileLice                                       1.2\n",
      "avgStationaryLice                                  0.77\n",
      "seaTemperature                                      7.4\n",
      "bathTreatments                                       []\n",
      "inFeedTreatments                                     []\n",
      "cleanerFish                                         NaN\n",
      "mechanicalRemoval                                   NaN\n",
      "timeSinceLastChitinSynthesisInhibitorTreatment      NaN\n",
      "Name: 0, dtype: object\n"
     ]
    },
    {
     "data": {
      "image/png": "[encoded data removed]",
      "text/plain": [
       "<Figure size 432x288 with 1 Axes>"
      ]
     },
     "metadata": {},
     "output_type": "display_data"
    },
    {
     "data": {
      "image/png": "[encoded data removed]",
      "text/plain": [
       "<Figure size 432x288 with 1 Axes>"
      ]
     },
     "metadata": {},
     "output_type": "display_data"
    },
    {
     "data": {
      "image/png": "[encoded data removed]",
      "text/plain": [
       "<Figure size 432x288 with 1 Axes>"
      ]
     },
     "metadata": {},
     "output_type": "display_data"
    },
    {
     "name": "stdout",
     "output_type": "stream",
     "text": [
      "0.15155009572431397\n",
      "0.07\n",
      "0.6692331844288449\n",
      "0.25\n",
      "0.22883969368219528\n",
      "0.04\n",
      "0.00: 0.00, 0.00, 0.00\n",
      "1.00: 0.00, 0.00, 0.00\n",
      "2.00: 0.00, 0.00, 0.00\n",
      "3.00: 0.00, 0.00, 0.00\n",
      "4.00: 0.00, 0.00, 0.00\n",
      "5.00: 0.00, 0.00, 0.00\n",
      "6.00: 0.00, 0.00, 0.00\n",
      "7.00: 0.00, 0.00, 0.00\n",
      "8.00: 0.00, 0.00, 0.00\n",
      "9.00: 0.00, 0.00, 0.00\n",
      "10.00: 0.00, 0.00, 0.00\n",
      "11.00: 0.00, 0.00, 0.00\n",
      "12.00: 0.00, 0.01, 0.00\n",
      "13.00: 0.00, 0.01, 0.00\n",
      "14.00: 0.00, 0.01, 0.00\n",
      "15.00: 0.00, 0.02, 0.00\n",
      "16.00: 0.00, 0.02, 0.00\n",
      "17.00: 0.00, 0.02, 0.00\n",
      "18.00: 0.00, 0.03, 0.00\n",
      "19.00: 0.00, 0.03, 0.00\n",
      "20.00: 0.00, 0.04, 0.00\n",
      "21.00: 0.00, 0.04, 0.00\n",
      "22.00: 0.00, 0.05, 0.00\n",
      "23.00: 0.00, 0.05, 0.00\n",
      "24.00: 0.00, 0.05, 0.00\n",
      "25.00: 0.00, 0.06, 0.00\n",
      "26.00: 0.01, 0.07, 0.00\n",
      "27.00: 0.01, 0.07, 0.00\n",
      "28.00: 0.01, 0.08, 0.00\n",
      "29.00: 0.01, 0.08, 0.00\n",
      "30.00: 0.01, 0.09, 0.01\n",
      "31.00: 0.01, 0.10, 0.01\n",
      "32.00: 0.02, 0.10, 0.01\n",
      "33.00: 0.02, 0.10, 0.01\n",
      "34.00: 0.02, 0.11, 0.01\n",
      "35.00: 0.02, 0.12, 0.01\n",
      "36.00: 0.03, 0.13, 0.01\n",
      "37.00: 0.03, 0.13, 0.02\n",
      "38.00: 0.03, 0.14, 0.02\n",
      "39.00: 0.03, 0.15, 0.02\n",
      "40.00: 0.03, 0.16, 0.02\n",
      "41.00: 0.04, 0.17, 0.02\n",
      "42.00: 0.04, 0.18, 0.02\n",
      "43.00: 0.04, 0.18, 0.03\n",
      "44.00: 0.05, 0.19, 0.03\n",
      "45.00: 0.05, 0.20, 0.03\n",
      "46.00: 0.05, 0.21, 0.03\n",
      "47.00: 0.06, 0.22, 0.03\n",
      "48.00: 0.06, 0.23, 0.04\n",
      "49.00: 0.06, 0.24, 0.04\n",
      "50.00: 0.07, 0.25, 0.04\n",
      "51.00: 0.07, 0.26, 0.05\n",
      "52.00: 0.08, 0.28, 0.05\n",
      "53.00: 0.08, 0.29, 0.05\n",
      "54.00: 0.08, 0.30, 0.05\n",
      "55.00: 0.09, 0.31, 0.06\n",
      "56.00: 0.09, 0.32, 0.06\n",
      "57.00: 0.10, 0.34, 0.06\n",
      "58.00: 0.10, 0.35, 0.07\n",
      "59.00: 0.10, 0.37, 0.07\n",
      "60.00: 0.11, 0.38, 0.08\n",
      "61.00: 0.11, 0.40, 0.08\n",
      "62.00: 0.12, 0.42, 0.09\n",
      "63.00: 0.12, 0.44, 0.09\n",
      "64.00: 0.13, 0.46, 0.10\n",
      "65.00: 0.13, 0.48, 0.10\n",
      "66.00: 0.14, 0.50, 0.11\n",
      "67.00: 0.15, 0.52, 0.11\n",
      "68.00: 0.15, 0.54, 0.12\n",
      "69.00: 0.16, 0.57, 0.13\n",
      "70.00: 0.16, 0.59, 0.14\n",
      "71.00: 0.17, 0.61, 0.15\n",
      "72.00: 0.18, 0.64, 0.15\n",
      "73.00: 0.19, 0.67, 0.16\n",
      "74.00: 0.19, 0.70, 0.18\n",
      "75.00: 0.20, 0.74, 0.19\n",
      "76.00: 0.21, 0.77, 0.20\n",
      "77.00: 0.22, 0.81, 0.21\n",
      "78.00: 0.23, 0.85, 0.22\n",
      "79.00: 0.24, 0.90, 0.24\n",
      "80.00: 0.25, 0.94, 0.25\n",
      "81.00: 0.26, 0.99, 0.27\n",
      "82.00: 0.27, 1.04, 0.30\n",
      "83.00: 0.28, 1.10, 0.31\n",
      "84.00: 0.30, 1.17, 0.34\n",
      "85.00: 0.30, 1.24, 0.37\n",
      "86.00: 0.32, 1.32, 0.40\n",
      "87.00: 0.33, 1.40, 0.43\n",
      "88.00: 0.35, 1.50, 0.47\n",
      "89.00: 0.36, 1.60, 0.51\n",
      "90.00: 0.38, 1.72, 0.56\n",
      "91.00: 0.40, 1.87, 0.62\n",
      "92.00: 0.41, 2.03, 0.70\n",
      "93.00: 0.43, 2.22, 0.78\n",
      "94.00: 0.45, 2.43, 0.89\n",
      "95.00: 0.47, 2.70, 1.02\n",
      "96.00: 0.49, 3.07, 1.20\n",
      "97.00: 0.60, 3.54, 1.48\n",
      "98.00: 0.80, 4.27, 1.92\n",
      "99.00: 1.27, 5.85, 2.80\n"
     ]
    }
   ],
   "source": [
    "print(df.iloc[0])\n",
    "\n",
    "plt.hist(df.loc[df['avgAdultFemaleLice'] < 1.5, 'avgAdultFemaleLice'], bins='auto', density=True)\n",
    "plt.show()\n",
    "\n",
    "plt.hist(df.loc[df['avgMobileLice'] < 5, 'avgMobileLice'], bins='auto', density=True)\n",
    "plt.show()\n",
    "\n",
    "plt.hist(df.loc[df['avgStationaryLice'] < 3, 'avgStationaryLice'], bins='auto', density=True)\n",
    "plt.show()\n",
    "\n",
    "print(np.mean(df['avgAdultFemaleLice']))\n",
    "print(np.median(df['avgAdultFemaleLice']))\n",
    "\n",
    "print(np.mean(df['avgMobileLice']))\n",
    "print(np.median(df['avgMobileLice']))\n",
    "\n",
    "print(np.mean(df['avgStationaryLice']))\n",
    "print(np.median(df['avgStationaryLice']))\n",
    "\n",
    "for i in range(0, 100, 1):\n",
    "    p1 = np.percentile(df['avgAdultFemaleLice'], i) # return 50th percentile, e.g median.\n",
    "    p2 = np.percentile(df['avgMobileLice'], i) # return 50th percentile, e.g median.\n",
    "    p3 = np.percentile(df['avgStationaryLice'], i) # return 50th percentile, e.g median.\n",
    "    print('%0.2f: %0.2f, %0.2f, %0.2f' % (i, p1, p2, p3))"
   ]
  },
  {
   "cell_type": "code",
   "execution_count": 32,
   "metadata": {},
   "outputs": [],
   "source": [
    "#my_df = df.loc[:,'avgAdultFemaleLice':'seaTemperature']\n",
    "my_df = df.loc[:,'hasReportedLice':'seaTemperature']\n",
    "\n",
    "new_df = my_df.copy()\n",
    "norm_df = my_df.copy()\n",
    "\n",
    "for x in my_df.columns:\n",
    "    my_mean = my_df[x].median()\n",
    "    my_std = my_df[x].std()\n",
    "    my_iqr = stats.iqr(my_df[x])\n",
    "    \n",
    "    my_row = my_df[x].copy()\n",
    "    new_df[x] = my_row / my_iqr\n",
    "    norm_df[x] = (my_row - my_mean) / my_std"
   ]
  },
  {
   "cell_type": "code",
   "execution_count": null,
   "metadata": {},
   "outputs": [],
   "source": []
  },
  {
   "cell_type": "code",
   "execution_count": 33,
   "metadata": {},
   "outputs": [
    {
     "name": "stdout",
     "output_type": "stream",
     "text": [
      "0.9757498404594767\n"
     ]
    },
    {
     "name": "stderr",
     "output_type": "stream",
     "text": [
      "/usr/local/lib/python3.5/dist-packages/numpy/core/_methods.py:153: RuntimeWarning: invalid value encountered in reduce\n",
      "  umr_maximum(a, axis, None, out, keepdims),\n",
      "/usr/local/lib/python3.5/dist-packages/numpy/core/_methods.py:154: RuntimeWarning: invalid value encountered in reduce\n",
      "  umr_minimum(a, axis, None, None, keepdims),\n"
     ]
    },
    {
     "ename": "MissingDataError",
     "evalue": "exog contains inf or nans",
     "output_type": "error",
     "traceback": [
      "\u001b[0;31m---------------------------------------------------------------------------\u001b[0m",
      "\u001b[0;31mMissingDataError\u001b[0m                          Traceback (most recent call last)",
      "\u001b[0;32m<ipython-input-33-270533f6c5c5>\u001b[0m in \u001b[0;36m<module>\u001b[0;34m()\u001b[0m\n\u001b[1;32m     22\u001b[0m \u001b[0mmyY\u001b[0m \u001b[0;34m=\u001b[0m \u001b[0mnp\u001b[0m\u001b[0;34m.\u001b[0m\u001b[0mlog\u001b[0m\u001b[0;34m(\u001b[0m\u001b[0;36m1\u001b[0m \u001b[0;34m+\u001b[0m \u001b[0mmy_df_Y\u001b[0m\u001b[0;34m)\u001b[0m\u001b[0;34m\u001b[0m\u001b[0m\n\u001b[1;32m     23\u001b[0m \u001b[0;34m\u001b[0m\u001b[0m\n\u001b[0;32m---> 24\u001b[0;31m \u001b[0mmodel\u001b[0m \u001b[0;34m=\u001b[0m \u001b[0msm\u001b[0m\u001b[0;34m.\u001b[0m\u001b[0mOLS\u001b[0m\u001b[0;34m(\u001b[0m\u001b[0mmyY\u001b[0m\u001b[0;34m,\u001b[0m \u001b[0mmyX\u001b[0m\u001b[0;34m)\u001b[0m\u001b[0;34m.\u001b[0m\u001b[0mfit\u001b[0m\u001b[0;34m(\u001b[0m\u001b[0;34m)\u001b[0m\u001b[0;34m\u001b[0m\u001b[0m\n\u001b[0m\u001b[1;32m     25\u001b[0m \u001b[0;34m\u001b[0m\u001b[0m\n\u001b[1;32m     26\u001b[0m \u001b[0mres\u001b[0m \u001b[0;34m=\u001b[0m \u001b[0mmodel\u001b[0m\u001b[0;34m.\u001b[0m\u001b[0mresid\u001b[0m\u001b[0;34m\u001b[0m\u001b[0m\n",
      "\u001b[0;32m/usr/local/lib/python3.5/dist-packages/statsmodels/regression/linear_model.py\u001b[0m in \u001b[0;36m__init__\u001b[0;34m(self, endog, exog, missing, hasconst, **kwargs)\u001b[0m\n\u001b[1;32m    815\u001b[0m                  **kwargs):\n\u001b[1;32m    816\u001b[0m         super(OLS, self).__init__(endog, exog, missing=missing,\n\u001b[0;32m--> 817\u001b[0;31m                                   hasconst=hasconst, **kwargs)\n\u001b[0m\u001b[1;32m    818\u001b[0m         \u001b[0;32mif\u001b[0m \u001b[0;34m\"weights\"\u001b[0m \u001b[0;32min\u001b[0m \u001b[0mself\u001b[0m\u001b[0;34m.\u001b[0m\u001b[0m_init_keys\u001b[0m\u001b[0;34m:\u001b[0m\u001b[0;34m\u001b[0m\u001b[0m\n\u001b[1;32m    819\u001b[0m             \u001b[0mself\u001b[0m\u001b[0;34m.\u001b[0m\u001b[0m_init_keys\u001b[0m\u001b[0;34m.\u001b[0m\u001b[0mremove\u001b[0m\u001b[0;34m(\u001b[0m\u001b[0;34m\"weights\"\u001b[0m\u001b[0;34m)\u001b[0m\u001b[0;34m\u001b[0m\u001b[0m\n",
      "\u001b[0;32m/usr/local/lib/python3.5/dist-packages/statsmodels/regression/linear_model.py\u001b[0m in \u001b[0;36m__init__\u001b[0;34m(self, endog, exog, weights, missing, hasconst, **kwargs)\u001b[0m\n\u001b[1;32m    661\u001b[0m             \u001b[0mweights\u001b[0m \u001b[0;34m=\u001b[0m \u001b[0mweights\u001b[0m\u001b[0;34m.\u001b[0m\u001b[0msqueeze\u001b[0m\u001b[0;34m(\u001b[0m\u001b[0;34m)\u001b[0m\u001b[0;34m\u001b[0m\u001b[0m\n\u001b[1;32m    662\u001b[0m         super(WLS, self).__init__(endog, exog, missing=missing,\n\u001b[0;32m--> 663\u001b[0;31m                                   weights=weights, hasconst=hasconst, **kwargs)\n\u001b[0m\u001b[1;32m    664\u001b[0m         \u001b[0mnobs\u001b[0m \u001b[0;34m=\u001b[0m \u001b[0mself\u001b[0m\u001b[0;34m.\u001b[0m\u001b[0mexog\u001b[0m\u001b[0;34m.\u001b[0m\u001b[0mshape\u001b[0m\u001b[0;34m[\u001b[0m\u001b[0;36m0\u001b[0m\u001b[0;34m]\u001b[0m\u001b[0;34m\u001b[0m\u001b[0m\n\u001b[1;32m    665\u001b[0m         \u001b[0mweights\u001b[0m \u001b[0;34m=\u001b[0m \u001b[0mself\u001b[0m\u001b[0;34m.\u001b[0m\u001b[0mweights\u001b[0m\u001b[0;34m\u001b[0m\u001b[0m\n",
      "\u001b[0;32m/usr/local/lib/python3.5/dist-packages/statsmodels/regression/linear_model.py\u001b[0m in \u001b[0;36m__init__\u001b[0;34m(self, endog, exog, **kwargs)\u001b[0m\n\u001b[1;32m    177\u001b[0m     \"\"\"\n\u001b[1;32m    178\u001b[0m     \u001b[0;32mdef\u001b[0m \u001b[0m__init__\u001b[0m\u001b[0;34m(\u001b[0m\u001b[0mself\u001b[0m\u001b[0;34m,\u001b[0m \u001b[0mendog\u001b[0m\u001b[0;34m,\u001b[0m \u001b[0mexog\u001b[0m\u001b[0;34m,\u001b[0m \u001b[0;34m**\u001b[0m\u001b[0mkwargs\u001b[0m\u001b[0;34m)\u001b[0m\u001b[0;34m:\u001b[0m\u001b[0;34m\u001b[0m\u001b[0m\n\u001b[0;32m--> 179\u001b[0;31m         \u001b[0msuper\u001b[0m\u001b[0;34m(\u001b[0m\u001b[0mRegressionModel\u001b[0m\u001b[0;34m,\u001b[0m \u001b[0mself\u001b[0m\u001b[0;34m)\u001b[0m\u001b[0;34m.\u001b[0m\u001b[0m__init__\u001b[0m\u001b[0;34m(\u001b[0m\u001b[0mendog\u001b[0m\u001b[0;34m,\u001b[0m \u001b[0mexog\u001b[0m\u001b[0;34m,\u001b[0m \u001b[0;34m**\u001b[0m\u001b[0mkwargs\u001b[0m\u001b[0;34m)\u001b[0m\u001b[0;34m\u001b[0m\u001b[0m\n\u001b[0m\u001b[1;32m    180\u001b[0m         \u001b[0mself\u001b[0m\u001b[0;34m.\u001b[0m\u001b[0m_data_attr\u001b[0m\u001b[0;34m.\u001b[0m\u001b[0mextend\u001b[0m\u001b[0;34m(\u001b[0m\u001b[0;34m[\u001b[0m\u001b[0;34m'pinv_wexog'\u001b[0m\u001b[0;34m,\u001b[0m \u001b[0;34m'wendog'\u001b[0m\u001b[0;34m,\u001b[0m \u001b[0;34m'wexog'\u001b[0m\u001b[0;34m,\u001b[0m \u001b[0;34m'weights'\u001b[0m\u001b[0;34m]\u001b[0m\u001b[0;34m)\u001b[0m\u001b[0;34m\u001b[0m\u001b[0m\n\u001b[1;32m    181\u001b[0m \u001b[0;34m\u001b[0m\u001b[0m\n",
      "\u001b[0;32m/usr/local/lib/python3.5/dist-packages/statsmodels/base/model.py\u001b[0m in \u001b[0;36m__init__\u001b[0;34m(self, endog, exog, **kwargs)\u001b[0m\n\u001b[1;32m    210\u001b[0m \u001b[0;34m\u001b[0m\u001b[0m\n\u001b[1;32m    211\u001b[0m     \u001b[0;32mdef\u001b[0m \u001b[0m__init__\u001b[0m\u001b[0;34m(\u001b[0m\u001b[0mself\u001b[0m\u001b[0;34m,\u001b[0m \u001b[0mendog\u001b[0m\u001b[0;34m,\u001b[0m \u001b[0mexog\u001b[0m\u001b[0;34m=\u001b[0m\u001b[0;32mNone\u001b[0m\u001b[0;34m,\u001b[0m \u001b[0;34m**\u001b[0m\u001b[0mkwargs\u001b[0m\u001b[0;34m)\u001b[0m\u001b[0;34m:\u001b[0m\u001b[0;34m\u001b[0m\u001b[0m\n\u001b[0;32m--> 212\u001b[0;31m         \u001b[0msuper\u001b[0m\u001b[0;34m(\u001b[0m\u001b[0mLikelihoodModel\u001b[0m\u001b[0;34m,\u001b[0m \u001b[0mself\u001b[0m\u001b[0;34m)\u001b[0m\u001b[0;34m.\u001b[0m\u001b[0m__init__\u001b[0m\u001b[0;34m(\u001b[0m\u001b[0mendog\u001b[0m\u001b[0;34m,\u001b[0m \u001b[0mexog\u001b[0m\u001b[0;34m,\u001b[0m \u001b[0;34m**\u001b[0m\u001b[0mkwargs\u001b[0m\u001b[0;34m)\u001b[0m\u001b[0;34m\u001b[0m\u001b[0m\n\u001b[0m\u001b[1;32m    213\u001b[0m         \u001b[0mself\u001b[0m\u001b[0;34m.\u001b[0m\u001b[0minitialize\u001b[0m\u001b[0;34m(\u001b[0m\u001b[0;34m)\u001b[0m\u001b[0;34m\u001b[0m\u001b[0m\n\u001b[1;32m    214\u001b[0m \u001b[0;34m\u001b[0m\u001b[0m\n",
      "\u001b[0;32m/usr/local/lib/python3.5/dist-packages/statsmodels/base/model.py\u001b[0m in \u001b[0;36m__init__\u001b[0;34m(self, endog, exog, **kwargs)\u001b[0m\n\u001b[1;32m     62\u001b[0m         \u001b[0mhasconst\u001b[0m \u001b[0;34m=\u001b[0m \u001b[0mkwargs\u001b[0m\u001b[0;34m.\u001b[0m\u001b[0mpop\u001b[0m\u001b[0;34m(\u001b[0m\u001b[0;34m'hasconst'\u001b[0m\u001b[0;34m,\u001b[0m \u001b[0;32mNone\u001b[0m\u001b[0;34m)\u001b[0m\u001b[0;34m\u001b[0m\u001b[0m\n\u001b[1;32m     63\u001b[0m         self.data = self._handle_data(endog, exog, missing, hasconst,\n\u001b[0;32m---> 64\u001b[0;31m                                       **kwargs)\n\u001b[0m\u001b[1;32m     65\u001b[0m         \u001b[0mself\u001b[0m\u001b[0;34m.\u001b[0m\u001b[0mk_constant\u001b[0m \u001b[0;34m=\u001b[0m \u001b[0mself\u001b[0m\u001b[0;34m.\u001b[0m\u001b[0mdata\u001b[0m\u001b[0;34m.\u001b[0m\u001b[0mk_constant\u001b[0m\u001b[0;34m\u001b[0m\u001b[0m\n\u001b[1;32m     66\u001b[0m         \u001b[0mself\u001b[0m\u001b[0;34m.\u001b[0m\u001b[0mexog\u001b[0m \u001b[0;34m=\u001b[0m \u001b[0mself\u001b[0m\u001b[0;34m.\u001b[0m\u001b[0mdata\u001b[0m\u001b[0;34m.\u001b[0m\u001b[0mexog\u001b[0m\u001b[0;34m\u001b[0m\u001b[0m\n",
      "\u001b[0;32m/usr/local/lib/python3.5/dist-packages/statsmodels/base/model.py\u001b[0m in \u001b[0;36m_handle_data\u001b[0;34m(self, endog, exog, missing, hasconst, **kwargs)\u001b[0m\n\u001b[1;32m     85\u001b[0m \u001b[0;34m\u001b[0m\u001b[0m\n\u001b[1;32m     86\u001b[0m     \u001b[0;32mdef\u001b[0m \u001b[0m_handle_data\u001b[0m\u001b[0;34m(\u001b[0m\u001b[0mself\u001b[0m\u001b[0;34m,\u001b[0m \u001b[0mendog\u001b[0m\u001b[0;34m,\u001b[0m \u001b[0mexog\u001b[0m\u001b[0;34m,\u001b[0m \u001b[0mmissing\u001b[0m\u001b[0;34m,\u001b[0m \u001b[0mhasconst\u001b[0m\u001b[0;34m,\u001b[0m \u001b[0;34m**\u001b[0m\u001b[0mkwargs\u001b[0m\u001b[0;34m)\u001b[0m\u001b[0;34m:\u001b[0m\u001b[0;34m\u001b[0m\u001b[0m\n\u001b[0;32m---> 87\u001b[0;31m         \u001b[0mdata\u001b[0m \u001b[0;34m=\u001b[0m \u001b[0mhandle_data\u001b[0m\u001b[0;34m(\u001b[0m\u001b[0mendog\u001b[0m\u001b[0;34m,\u001b[0m \u001b[0mexog\u001b[0m\u001b[0;34m,\u001b[0m \u001b[0mmissing\u001b[0m\u001b[0;34m,\u001b[0m \u001b[0mhasconst\u001b[0m\u001b[0;34m,\u001b[0m \u001b[0;34m**\u001b[0m\u001b[0mkwargs\u001b[0m\u001b[0;34m)\u001b[0m\u001b[0;34m\u001b[0m\u001b[0m\n\u001b[0m\u001b[1;32m     88\u001b[0m         \u001b[0;31m# kwargs arrays could have changed, easier to just attach here\u001b[0m\u001b[0;34m\u001b[0m\u001b[0;34m\u001b[0m\u001b[0m\n\u001b[1;32m     89\u001b[0m         \u001b[0;32mfor\u001b[0m \u001b[0mkey\u001b[0m \u001b[0;32min\u001b[0m \u001b[0mkwargs\u001b[0m\u001b[0;34m:\u001b[0m\u001b[0;34m\u001b[0m\u001b[0m\n",
      "\u001b[0;32m/usr/local/lib/python3.5/dist-packages/statsmodels/base/data.py\u001b[0m in \u001b[0;36mhandle_data\u001b[0;34m(endog, exog, missing, hasconst, **kwargs)\u001b[0m\n\u001b[1;32m    631\u001b[0m     \u001b[0mklass\u001b[0m \u001b[0;34m=\u001b[0m \u001b[0mhandle_data_class_factory\u001b[0m\u001b[0;34m(\u001b[0m\u001b[0mendog\u001b[0m\u001b[0;34m,\u001b[0m \u001b[0mexog\u001b[0m\u001b[0;34m)\u001b[0m\u001b[0;34m\u001b[0m\u001b[0m\n\u001b[1;32m    632\u001b[0m     return klass(endog, exog=exog, missing=missing, hasconst=hasconst,\n\u001b[0;32m--> 633\u001b[0;31m                  **kwargs)\n\u001b[0m",
      "\u001b[0;32m/usr/local/lib/python3.5/dist-packages/statsmodels/base/data.py\u001b[0m in \u001b[0;36m__init__\u001b[0;34m(self, endog, exog, missing, hasconst, **kwargs)\u001b[0m\n\u001b[1;32m     77\u001b[0m \u001b[0;34m\u001b[0m\u001b[0m\n\u001b[1;32m     78\u001b[0m         \u001b[0;31m# this has side-effects, attaches k_constant and const_idx\u001b[0m\u001b[0;34m\u001b[0m\u001b[0;34m\u001b[0m\u001b[0m\n\u001b[0;32m---> 79\u001b[0;31m         \u001b[0mself\u001b[0m\u001b[0;34m.\u001b[0m\u001b[0m_handle_constant\u001b[0m\u001b[0;34m(\u001b[0m\u001b[0mhasconst\u001b[0m\u001b[0;34m)\u001b[0m\u001b[0;34m\u001b[0m\u001b[0m\n\u001b[0m\u001b[1;32m     80\u001b[0m         \u001b[0mself\u001b[0m\u001b[0;34m.\u001b[0m\u001b[0m_check_integrity\u001b[0m\u001b[0;34m(\u001b[0m\u001b[0;34m)\u001b[0m\u001b[0;34m\u001b[0m\u001b[0m\n\u001b[1;32m     81\u001b[0m         \u001b[0mself\u001b[0m\u001b[0;34m.\u001b[0m\u001b[0m_cache\u001b[0m \u001b[0;34m=\u001b[0m \u001b[0mresettable_cache\u001b[0m\u001b[0;34m(\u001b[0m\u001b[0;34m)\u001b[0m\u001b[0;34m\u001b[0m\u001b[0m\n",
      "\u001b[0;32m/usr/local/lib/python3.5/dist-packages/statsmodels/base/data.py\u001b[0m in \u001b[0;36m_handle_constant\u001b[0;34m(self, hasconst)\u001b[0m\n\u001b[1;32m    131\u001b[0m             \u001b[0mptp_\u001b[0m \u001b[0;34m=\u001b[0m \u001b[0mself\u001b[0m\u001b[0;34m.\u001b[0m\u001b[0mexog\u001b[0m\u001b[0;34m.\u001b[0m\u001b[0mptp\u001b[0m\u001b[0;34m(\u001b[0m\u001b[0maxis\u001b[0m\u001b[0;34m=\u001b[0m\u001b[0;36m0\u001b[0m\u001b[0;34m)\u001b[0m\u001b[0;34m\u001b[0m\u001b[0m\n\u001b[1;32m    132\u001b[0m             \u001b[0;32mif\u001b[0m \u001b[0;32mnot\u001b[0m \u001b[0mnp\u001b[0m\u001b[0;34m.\u001b[0m\u001b[0misfinite\u001b[0m\u001b[0;34m(\u001b[0m\u001b[0mptp_\u001b[0m\u001b[0;34m)\u001b[0m\u001b[0;34m.\u001b[0m\u001b[0mall\u001b[0m\u001b[0;34m(\u001b[0m\u001b[0;34m)\u001b[0m\u001b[0;34m:\u001b[0m\u001b[0;34m\u001b[0m\u001b[0m\n\u001b[0;32m--> 133\u001b[0;31m                 \u001b[0;32mraise\u001b[0m \u001b[0mMissingDataError\u001b[0m\u001b[0;34m(\u001b[0m\u001b[0;34m'exog contains inf or nans'\u001b[0m\u001b[0;34m)\u001b[0m\u001b[0;34m\u001b[0m\u001b[0m\n\u001b[0m\u001b[1;32m    134\u001b[0m             \u001b[0mconst_idx\u001b[0m \u001b[0;34m=\u001b[0m \u001b[0mnp\u001b[0m\u001b[0;34m.\u001b[0m\u001b[0mwhere\u001b[0m\u001b[0;34m(\u001b[0m\u001b[0mptp_\u001b[0m \u001b[0;34m==\u001b[0m \u001b[0;36m0\u001b[0m\u001b[0;34m)\u001b[0m\u001b[0;34m[\u001b[0m\u001b[0;36m0\u001b[0m\u001b[0;34m]\u001b[0m\u001b[0;34m.\u001b[0m\u001b[0msqueeze\u001b[0m\u001b[0;34m(\u001b[0m\u001b[0;34m)\u001b[0m\u001b[0;34m\u001b[0m\u001b[0m\n\u001b[1;32m    135\u001b[0m             \u001b[0mself\u001b[0m\u001b[0;34m.\u001b[0m\u001b[0mk_constant\u001b[0m \u001b[0;34m=\u001b[0m \u001b[0mconst_idx\u001b[0m\u001b[0;34m.\u001b[0m\u001b[0msize\u001b[0m\u001b[0;34m\u001b[0m\u001b[0m\n",
      "\u001b[0;31mMissingDataError\u001b[0m: exog contains inf or nans"
     ]
    }
   ],
   "source": [
    "#good_indices_1 = (my_df == 0).any(axis=1) == False\n",
    "good_indices_2 = my_df['avgAdultFemaleLice'] < 1.5\n",
    "good_indices_3 = my_df['avgMobileLice'] < 5\n",
    "good_indices_4 = my_df['avgStationaryLice'] < 3\n",
    "\n",
    "good_indices = good_indices_2 & good_indices_3 & good_indices_4\n",
    "\n",
    "print(np.sum(good_indices) / len(good_indices))\n",
    "\n",
    "my_df_X = new_df.filter(['avgAdultFemaleLice', 'avgMobileLice', 'seaTemperature', 'hasMechanicalRemoval', 'hasBathTreatment', 'hasInFeedTreatment', 'hasCleanerFishDeployed'], axis=1)\n",
    "my_df_Y = new_df['avgStationaryLice'][good_indices]\n",
    "\n",
    "my_df_X = my_df_X.loc[good_indices, :]\n",
    "\n",
    "my_df_X = np.log(1 + my_df_X)\n",
    "my_df_Y = my_df_Y\n",
    "#my_df_Y = np.log(1 + my_df_Y)\n",
    "\n",
    "my_df_X = np.hstack((my_df_X, my_df_X ** 2, np.log(1 + my_df_X)))\n",
    "\n",
    "myX = sm.add_constant(my_df_X)\n",
    "myY = np.log(1 + my_df_Y)\n",
    "\n",
    "model = sm.OLS(myY, myX).fit()\n",
    "\n",
    "res = model.resid\n",
    "fig = sm.qqplot(res, dist=stats.distributions.norm, fit=True, line='45')\n",
    "\n",
    "plt.show()\n",
    "\n",
    "print(model.summary())"
   ]
  },
  {
   "cell_type": "code",
   "execution_count": 34,
   "metadata": {},
   "outputs": [
    {
     "data": {
      "image/png": "[encoded data removed]",
      "text/plain": [
       "<Figure size 432x288 with 1 Axes>"
      ]
     },
     "metadata": {},
     "output_type": "display_data"
    }
   ],
   "source": [
    "plt.scatter(my_df_X[:,0], my_df_Y)\n",
    "plt.show()"
   ]
  },
  {
   "cell_type": "code",
   "execution_count": 35,
   "metadata": {},
   "outputs": [
    {
     "ename": "ValueError",
     "evalue": "shapes (76450,22) and (10,) not aligned: 22 (dim 1) != 10 (dim 0)",
     "output_type": "error",
     "traceback": [
      "\u001b[0;31m---------------------------------------------------------------------------\u001b[0m",
      "\u001b[0;31mValueError\u001b[0m                                Traceback (most recent call last)",
      "\u001b[0;32m<ipython-input-35-c960a5868d15>\u001b[0m in \u001b[0;36m<module>\u001b[0;34m()\u001b[0m\n\u001b[0;32m----> 1\u001b[0;31m \u001b[0mpredY\u001b[0m \u001b[0;34m=\u001b[0m \u001b[0mmodel\u001b[0m\u001b[0;34m.\u001b[0m\u001b[0mpredict\u001b[0m\u001b[0;34m(\u001b[0m\u001b[0mmyX\u001b[0m\u001b[0;34m)\u001b[0m\u001b[0;34m\u001b[0m\u001b[0m\n\u001b[0m\u001b[1;32m      2\u001b[0m \u001b[0merror\u001b[0m \u001b[0;34m=\u001b[0m \u001b[0mpredY\u001b[0m \u001b[0;34m-\u001b[0m \u001b[0mmyY\u001b[0m\u001b[0;34m\u001b[0m\u001b[0m\n\u001b[1;32m      3\u001b[0m \u001b[0;34m\u001b[0m\u001b[0m\n\u001b[1;32m      4\u001b[0m \u001b[0mavg_error\u001b[0m \u001b[0;34m=\u001b[0m \u001b[0mnp\u001b[0m\u001b[0;34m.\u001b[0m\u001b[0mmedian\u001b[0m\u001b[0;34m(\u001b[0m\u001b[0mnp\u001b[0m\u001b[0;34m.\u001b[0m\u001b[0mabs\u001b[0m\u001b[0;34m(\u001b[0m\u001b[0merror\u001b[0m\u001b[0;34m)\u001b[0m\u001b[0;34m)\u001b[0m\u001b[0;34m\u001b[0m\u001b[0m\n\u001b[1;32m      5\u001b[0m \u001b[0;34m\u001b[0m\u001b[0m\n",
      "\u001b[0;32m/usr/local/lib/python3.5/dist-packages/statsmodels/base/model.py\u001b[0m in \u001b[0;36mpredict\u001b[0;34m(self, exog, transform, *args, **kwargs)\u001b[0m\n\u001b[1;32m    852\u001b[0m \u001b[0;34m\u001b[0m\u001b[0m\n\u001b[1;32m    853\u001b[0m         predict_results = self.model.predict(self.params, exog, *args,\n\u001b[0;32m--> 854\u001b[0;31m                                              **kwargs)\n\u001b[0m\u001b[1;32m    855\u001b[0m \u001b[0;34m\u001b[0m\u001b[0m\n\u001b[1;32m    856\u001b[0m         if exog_index is not None and not hasattr(predict_results,\n",
      "\u001b[0;32m/usr/local/lib/python3.5/dist-packages/statsmodels/regression/linear_model.py\u001b[0m in \u001b[0;36mpredict\u001b[0;34m(self, params, exog)\u001b[0m\n\u001b[1;32m    343\u001b[0m             \u001b[0mexog\u001b[0m \u001b[0;34m=\u001b[0m \u001b[0mself\u001b[0m\u001b[0;34m.\u001b[0m\u001b[0mexog\u001b[0m\u001b[0;34m\u001b[0m\u001b[0m\n\u001b[1;32m    344\u001b[0m \u001b[0;34m\u001b[0m\u001b[0m\n\u001b[0;32m--> 345\u001b[0;31m         \u001b[0;32mreturn\u001b[0m \u001b[0mnp\u001b[0m\u001b[0;34m.\u001b[0m\u001b[0mdot\u001b[0m\u001b[0;34m(\u001b[0m\u001b[0mexog\u001b[0m\u001b[0;34m,\u001b[0m \u001b[0mparams\u001b[0m\u001b[0;34m)\u001b[0m\u001b[0;34m\u001b[0m\u001b[0m\n\u001b[0m\u001b[1;32m    346\u001b[0m \u001b[0;34m\u001b[0m\u001b[0m\n\u001b[1;32m    347\u001b[0m     \u001b[0;32mdef\u001b[0m \u001b[0mget_distribution\u001b[0m\u001b[0;34m(\u001b[0m\u001b[0mself\u001b[0m\u001b[0;34m,\u001b[0m \u001b[0mparams\u001b[0m\u001b[0;34m,\u001b[0m \u001b[0mscale\u001b[0m\u001b[0;34m,\u001b[0m \u001b[0mexog\u001b[0m\u001b[0;34m=\u001b[0m\u001b[0;32mNone\u001b[0m\u001b[0;34m,\u001b[0m \u001b[0mdist_class\u001b[0m\u001b[0;34m=\u001b[0m\u001b[0;32mNone\u001b[0m\u001b[0;34m)\u001b[0m\u001b[0;34m:\u001b[0m\u001b[0;34m\u001b[0m\u001b[0m\n",
      "\u001b[0;31mValueError\u001b[0m: shapes (76450,22) and (10,) not aligned: 22 (dim 1) != 10 (dim 0)"
     ]
    }
   ],
   "source": [
    "predY = model.predict(myX)\n",
    "error = predY - myY\n",
    "\n",
    "avg_error = np.median(np.abs(error))\n",
    "\n",
    "print(avg_error)\n",
    "\n",
    "plt.scatter(myY, predY)\n",
    "plt.xlabel('Actual stationary')\n",
    "plt.ylabel('Predicted stationary')\n",
    "plt.show()"
   ]
  },
  {
   "cell_type": "code",
   "execution_count": 36,
   "metadata": {},
   "outputs": [
    {
     "name": "stdout",
     "output_type": "stream",
     "text": [
      "None\n"
     ]
    },
    {
     "data": {
      "image/png": "[encoded data removed]",
      "text/plain": [
       "<Figure size 432x288 with 1 Axes>"
      ]
     },
     "metadata": {},
     "output_type": "display_data"
    }
   ],
   "source": [
    "res_X = predY\n",
    "res_Y = predY - myY\n",
    "\n",
    "res_myX = sm.add_constant(res_X)\n",
    "res_myY = res_Y\n",
    "\n",
    "res_model = sm.OLS(res_myY, res_myX).fit_regularized(L1_wt=0)\n",
    "res_predY = res_model.predict(res_myX)\n",
    "\n",
    "print(res_model.summary())\n",
    "\n",
    "plt.scatter(res_X, res_Y)\n",
    "plt.plot(res_X, res_predY, color='red')\n",
    "plt.show()"
   ]
  },
  {
   "cell_type": "code",
   "execution_count": 37,
   "metadata": {},
   "outputs": [
    {
     "data": {
      "image/png": "[encoded data removed]",
      "text/plain": [
       "<Figure size 432x288 with 1 Axes>"
      ]
     },
     "metadata": {},
     "output_type": "display_data"
    },
    {
     "name": "stdout",
     "output_type": "stream",
     "text": [
      "0.2807552127259906\n"
     ]
    }
   ],
   "source": [
    "plt.scatter(np.exp(myY), np.exp(predY))\n",
    "plt.xlabel('Actual stationary')\n",
    "plt.ylabel('Predicted stationary')\n",
    "plt.show()\n",
    "\n",
    "error = np.exp(predY) - np.exp(myY)\n",
    "\n",
    "avg_error = np.median(np.abs(error))\n",
    "\n",
    "print(avg_error)"
   ]
  },
  {
   "cell_type": "code",
   "execution_count": 38,
   "metadata": {},
   "outputs": [],
   "source": [
    "# Trying a different model that is time-series based"
   ]
  },
  {
   "cell_type": "code",
   "execution_count": 39,
   "metadata": {},
   "outputs": [
    {
     "name": "stdout",
     "output_type": "stream",
     "text": [
      "       hasReportedLice  hasMechanicalRemoval  hasBathTreatment  \\\n",
      "0                 True                 False             False   \n",
      "489               True                 False             False   \n",
      "984               True                 False             False   \n",
      "1484              True                  True             False   \n",
      "1984              True                  True             False   \n",
      "2474              True                 False             False   \n",
      "2942              True                 False             False   \n",
      "3413              True                 False             False   \n",
      "3881              True                 False             False   \n",
      "4333              True                 False             False   \n",
      "4789              True                 False             False   \n",
      "5245              True                 False             False   \n",
      "5688              True                 False             False   \n",
      "6154              True                 False             False   \n",
      "6611              True                 False             False   \n",
      "7087              True                  True             False   \n",
      "7572              True                 False             False   \n",
      "8065              True                 False             False   \n",
      "8567              True                 False             False   \n",
      "9069              True                 False             False   \n",
      "9584              True                 False             False   \n",
      "70564             True                 False             False   \n",
      "71116             True                 False             False   \n",
      "71666             True                 False             False   \n",
      "72226             True                 False             False   \n",
      "72803             True                 False             False   \n",
      "73386             True                 False             False   \n",
      "73978             True                 False             False   \n",
      "74566             True                 False             False   \n",
      "75149             True                 False             False   \n",
      "75747             True                 False             False   \n",
      "76349             True                 False             False   \n",
      "76952             True                 False             False   \n",
      "77552             True                 False             False   \n",
      "78142             True                 False             False   \n",
      "\n",
      "       hasInFeedTreatment  hasCleanerFishDeployed  isFallow  \\\n",
      "0                   False                   False     False   \n",
      "489                 False                   False     False   \n",
      "984                 False                   False     False   \n",
      "1484                False                   False     False   \n",
      "1984                False                   False     False   \n",
      "2474                False                   False     False   \n",
      "2942                False                   False     False   \n",
      "3413                False                   False     False   \n",
      "3881                False                   False     False   \n",
      "4333                False                   False     False   \n",
      "4789                False                   False     False   \n",
      "5245                False                   False     False   \n",
      "5688                False                   False     False   \n",
      "6154                False                   False     False   \n",
      "6611                False                   False     False   \n",
      "7087                False                   False     False   \n",
      "7572                False                   False     False   \n",
      "8065                False                   False     False   \n",
      "8567                False                   False     False   \n",
      "9069                False                   False     False   \n",
      "9584                False                   False     False   \n",
      "70564               False                   False     False   \n",
      "71116               False                   False     False   \n",
      "71666               False                   False     False   \n",
      "72226               False                    True     False   \n",
      "72803               False                   False     False   \n",
      "73386               False                   False     False   \n",
      "73978               False                   False     False   \n",
      "74566               False                   False     False   \n",
      "75149               False                   False     False   \n",
      "75747               False                   False     False   \n",
      "76349               False                   False     False   \n",
      "76952               False                   False     False   \n",
      "77552               False                   False     False   \n",
      "78142               False                   False     False   \n",
      "\n",
      "       avgAdultFemaleLice  avgMobileLice  avgStationaryLice  seaTemperature  \n",
      "0                    0.47           1.20               0.77             7.4  \n",
      "489                  0.45           1.30               0.40             7.2  \n",
      "984                  0.48           2.15               0.23             6.4  \n",
      "1484                 0.10           0.18               0.15             6.1  \n",
      "1984                 0.17           0.13               0.13             6.0  \n",
      "2474                 0.10           0.20               0.25             6.2  \n",
      "2942                 0.13           0.27               0.23             6.3  \n",
      "3413                 0.17           0.33               0.50             5.8  \n",
      "3881                 0.20           0.55               0.45             5.8  \n",
      "4333                 0.25           0.60               0.20             5.7  \n",
      "4789                 0.27           0.73               0.37             6.0  \n",
      "5245                 0.25           1.05               0.05             6.0  \n",
      "5688                 0.30           1.25               0.60             5.8  \n",
      "6154                 0.37           1.55               1.10             5.8  \n",
      "6611                 0.47           2.23               0.97             6.0  \n",
      "7087                 0.10           0.13               0.10             6.7  \n",
      "7572                 0.20           0.25               0.15             7.0  \n",
      "8065                 0.10           0.35               0.90             7.0  \n",
      "8567                 0.15           0.40               0.70             8.1  \n",
      "9069                 0.15           0.40               0.70             8.1  \n",
      "9584                 0.30           0.60               0.40             9.0  \n",
      "70564                0.00           0.00               0.00            16.9  \n",
      "71116                0.00           0.05               0.00            15.0  \n",
      "71666                0.03           0.08               0.00            16.0  \n",
      "72226                0.00           0.18               0.03            16.0  \n",
      "72803                0.00           0.05               0.03            15.4  \n",
      "73386                0.02           0.22               0.03            15.0  \n",
      "73978                0.10           0.30               0.00            14.0  \n",
      "74566                0.20           0.50               0.03            14.0  \n",
      "75149                0.32           0.83               0.05            13.0  \n",
      "75747                0.27           0.62               0.08            11.8  \n",
      "76349                0.36           0.74               0.12            12.3  \n",
      "76952                0.38           1.32               0.03            11.1  \n",
      "77552                0.40           1.55               0.07             8.6  \n",
      "78142                0.42           2.22               0.20            10.6  \n"
     ]
    },
    {
     "data": {
      "image/png": "[encoded data removed]",
      "text/plain": [
       "<Figure size 432x288 with 1 Axes>"
      ]
     },
     "metadata": {},
     "output_type": "display_data"
    }
   ],
   "source": [
    "subset = my_df.loc[df['localityNo'] == 11756]\n",
    "\n",
    "print(subset)\n",
    "\n",
    "plt.plot(subset['avgAdultFemaleLice'])\n",
    "plt.show()"
   ]
  },
  {
   "cell_type": "code",
   "execution_count": 40,
   "metadata": {},
   "outputs": [
    {
     "name": "stdout",
     "output_type": "stream",
     "text": [
      "(35, 10)\n",
      "(35, 10)\n"
     ]
    },
    {
     "ename": "TypeError",
     "evalue": "ufunc 'isfinite' not supported for the input types, and the inputs could not be safely coerced to any supported types according to the casting rule ''safe''",
     "output_type": "error",
     "traceback": [
      "\u001b[0;31m---------------------------------------------------------------------------\u001b[0m",
      "\u001b[0;31mTypeError\u001b[0m                                 Traceback (most recent call last)",
      "\u001b[0;32m<ipython-input-40-021342af2799>\u001b[0m in \u001b[0;36m<module>\u001b[0;34m()\u001b[0m\n\u001b[1;32m      9\u001b[0m \u001b[0mdiff_myY\u001b[0m \u001b[0;34m=\u001b[0m \u001b[0msubset_v\u001b[0m\u001b[0;34m[\u001b[0m\u001b[0;36m1\u001b[0m\u001b[0;34m:\u001b[0m\u001b[0;36m21\u001b[0m\u001b[0;34m,\u001b[0m \u001b[0;36m2\u001b[0m\u001b[0;34m]\u001b[0m\u001b[0;34m\u001b[0m\u001b[0m\n\u001b[1;32m     10\u001b[0m \u001b[0;34m\u001b[0m\u001b[0m\n\u001b[0;32m---> 11\u001b[0;31m \u001b[0mdiff_model\u001b[0m \u001b[0;34m=\u001b[0m \u001b[0msm\u001b[0m\u001b[0;34m.\u001b[0m\u001b[0mOLS\u001b[0m\u001b[0;34m(\u001b[0m\u001b[0mdiff_myY\u001b[0m\u001b[0;34m,\u001b[0m \u001b[0mdiff_myX\u001b[0m\u001b[0;34m)\u001b[0m\u001b[0;34m.\u001b[0m\u001b[0mfit\u001b[0m\u001b[0;34m(\u001b[0m\u001b[0;34m)\u001b[0m\u001b[0;34m\u001b[0m\u001b[0m\n\u001b[0m\u001b[1;32m     12\u001b[0m \u001b[0mdiff_predY\u001b[0m \u001b[0;34m=\u001b[0m \u001b[0mdiff_model\u001b[0m\u001b[0;34m.\u001b[0m\u001b[0mpredict\u001b[0m\u001b[0;34m(\u001b[0m\u001b[0mdiff_myX\u001b[0m\u001b[0;34m)\u001b[0m\u001b[0;34m\u001b[0m\u001b[0m\n\u001b[1;32m     13\u001b[0m \u001b[0;34m\u001b[0m\u001b[0m\n",
      "\u001b[0;32m/usr/local/lib/python3.5/dist-packages/statsmodels/regression/linear_model.py\u001b[0m in \u001b[0;36m__init__\u001b[0;34m(self, endog, exog, missing, hasconst, **kwargs)\u001b[0m\n\u001b[1;32m    815\u001b[0m                  **kwargs):\n\u001b[1;32m    816\u001b[0m         super(OLS, self).__init__(endog, exog, missing=missing,\n\u001b[0;32m--> 817\u001b[0;31m                                   hasconst=hasconst, **kwargs)\n\u001b[0m\u001b[1;32m    818\u001b[0m         \u001b[0;32mif\u001b[0m \u001b[0;34m\"weights\"\u001b[0m \u001b[0;32min\u001b[0m \u001b[0mself\u001b[0m\u001b[0;34m.\u001b[0m\u001b[0m_init_keys\u001b[0m\u001b[0;34m:\u001b[0m\u001b[0;34m\u001b[0m\u001b[0m\n\u001b[1;32m    819\u001b[0m             \u001b[0mself\u001b[0m\u001b[0;34m.\u001b[0m\u001b[0m_init_keys\u001b[0m\u001b[0;34m.\u001b[0m\u001b[0mremove\u001b[0m\u001b[0;34m(\u001b[0m\u001b[0;34m\"weights\"\u001b[0m\u001b[0;34m)\u001b[0m\u001b[0;34m\u001b[0m\u001b[0m\n",
      "\u001b[0;32m/usr/local/lib/python3.5/dist-packages/statsmodels/regression/linear_model.py\u001b[0m in \u001b[0;36m__init__\u001b[0;34m(self, endog, exog, weights, missing, hasconst, **kwargs)\u001b[0m\n\u001b[1;32m    661\u001b[0m             \u001b[0mweights\u001b[0m \u001b[0;34m=\u001b[0m \u001b[0mweights\u001b[0m\u001b[0;34m.\u001b[0m\u001b[0msqueeze\u001b[0m\u001b[0;34m(\u001b[0m\u001b[0;34m)\u001b[0m\u001b[0;34m\u001b[0m\u001b[0m\n\u001b[1;32m    662\u001b[0m         super(WLS, self).__init__(endog, exog, missing=missing,\n\u001b[0;32m--> 663\u001b[0;31m                                   weights=weights, hasconst=hasconst, **kwargs)\n\u001b[0m\u001b[1;32m    664\u001b[0m         \u001b[0mnobs\u001b[0m \u001b[0;34m=\u001b[0m \u001b[0mself\u001b[0m\u001b[0;34m.\u001b[0m\u001b[0mexog\u001b[0m\u001b[0;34m.\u001b[0m\u001b[0mshape\u001b[0m\u001b[0;34m[\u001b[0m\u001b[0;36m0\u001b[0m\u001b[0;34m]\u001b[0m\u001b[0;34m\u001b[0m\u001b[0m\n\u001b[1;32m    665\u001b[0m         \u001b[0mweights\u001b[0m \u001b[0;34m=\u001b[0m \u001b[0mself\u001b[0m\u001b[0;34m.\u001b[0m\u001b[0mweights\u001b[0m\u001b[0;34m\u001b[0m\u001b[0m\n",
      "\u001b[0;32m/usr/local/lib/python3.5/dist-packages/statsmodels/regression/linear_model.py\u001b[0m in \u001b[0;36m__init__\u001b[0;34m(self, endog, exog, **kwargs)\u001b[0m\n\u001b[1;32m    177\u001b[0m     \"\"\"\n\u001b[1;32m    178\u001b[0m     \u001b[0;32mdef\u001b[0m \u001b[0m__init__\u001b[0m\u001b[0;34m(\u001b[0m\u001b[0mself\u001b[0m\u001b[0;34m,\u001b[0m \u001b[0mendog\u001b[0m\u001b[0;34m,\u001b[0m \u001b[0mexog\u001b[0m\u001b[0;34m,\u001b[0m \u001b[0;34m**\u001b[0m\u001b[0mkwargs\u001b[0m\u001b[0;34m)\u001b[0m\u001b[0;34m:\u001b[0m\u001b[0;34m\u001b[0m\u001b[0m\n\u001b[0;32m--> 179\u001b[0;31m         \u001b[0msuper\u001b[0m\u001b[0;34m(\u001b[0m\u001b[0mRegressionModel\u001b[0m\u001b[0;34m,\u001b[0m \u001b[0mself\u001b[0m\u001b[0;34m)\u001b[0m\u001b[0;34m.\u001b[0m\u001b[0m__init__\u001b[0m\u001b[0;34m(\u001b[0m\u001b[0mendog\u001b[0m\u001b[0;34m,\u001b[0m \u001b[0mexog\u001b[0m\u001b[0;34m,\u001b[0m \u001b[0;34m**\u001b[0m\u001b[0mkwargs\u001b[0m\u001b[0;34m)\u001b[0m\u001b[0;34m\u001b[0m\u001b[0m\n\u001b[0m\u001b[1;32m    180\u001b[0m         \u001b[0mself\u001b[0m\u001b[0;34m.\u001b[0m\u001b[0m_data_attr\u001b[0m\u001b[0;34m.\u001b[0m\u001b[0mextend\u001b[0m\u001b[0;34m(\u001b[0m\u001b[0;34m[\u001b[0m\u001b[0;34m'pinv_wexog'\u001b[0m\u001b[0;34m,\u001b[0m \u001b[0;34m'wendog'\u001b[0m\u001b[0;34m,\u001b[0m \u001b[0;34m'wexog'\u001b[0m\u001b[0;34m,\u001b[0m \u001b[0;34m'weights'\u001b[0m\u001b[0;34m]\u001b[0m\u001b[0;34m)\u001b[0m\u001b[0;34m\u001b[0m\u001b[0m\n\u001b[1;32m    181\u001b[0m \u001b[0;34m\u001b[0m\u001b[0m\n",
      "\u001b[0;32m/usr/local/lib/python3.5/dist-packages/statsmodels/base/model.py\u001b[0m in \u001b[0;36m__init__\u001b[0;34m(self, endog, exog, **kwargs)\u001b[0m\n\u001b[1;32m    210\u001b[0m \u001b[0;34m\u001b[0m\u001b[0m\n\u001b[1;32m    211\u001b[0m     \u001b[0;32mdef\u001b[0m \u001b[0m__init__\u001b[0m\u001b[0;34m(\u001b[0m\u001b[0mself\u001b[0m\u001b[0;34m,\u001b[0m \u001b[0mendog\u001b[0m\u001b[0;34m,\u001b[0m \u001b[0mexog\u001b[0m\u001b[0;34m=\u001b[0m\u001b[0;32mNone\u001b[0m\u001b[0;34m,\u001b[0m \u001b[0;34m**\u001b[0m\u001b[0mkwargs\u001b[0m\u001b[0;34m)\u001b[0m\u001b[0;34m:\u001b[0m\u001b[0;34m\u001b[0m\u001b[0m\n\u001b[0;32m--> 212\u001b[0;31m         \u001b[0msuper\u001b[0m\u001b[0;34m(\u001b[0m\u001b[0mLikelihoodModel\u001b[0m\u001b[0;34m,\u001b[0m \u001b[0mself\u001b[0m\u001b[0;34m)\u001b[0m\u001b[0;34m.\u001b[0m\u001b[0m__init__\u001b[0m\u001b[0;34m(\u001b[0m\u001b[0mendog\u001b[0m\u001b[0;34m,\u001b[0m \u001b[0mexog\u001b[0m\u001b[0;34m,\u001b[0m \u001b[0;34m**\u001b[0m\u001b[0mkwargs\u001b[0m\u001b[0;34m)\u001b[0m\u001b[0;34m\u001b[0m\u001b[0m\n\u001b[0m\u001b[1;32m    213\u001b[0m         \u001b[0mself\u001b[0m\u001b[0;34m.\u001b[0m\u001b[0minitialize\u001b[0m\u001b[0;34m(\u001b[0m\u001b[0;34m)\u001b[0m\u001b[0;34m\u001b[0m\u001b[0m\n\u001b[1;32m    214\u001b[0m \u001b[0;34m\u001b[0m\u001b[0m\n",
      "\u001b[0;32m/usr/local/lib/python3.5/dist-packages/statsmodels/base/model.py\u001b[0m in \u001b[0;36m__init__\u001b[0;34m(self, endog, exog, **kwargs)\u001b[0m\n\u001b[1;32m     62\u001b[0m         \u001b[0mhasconst\u001b[0m \u001b[0;34m=\u001b[0m \u001b[0mkwargs\u001b[0m\u001b[0;34m.\u001b[0m\u001b[0mpop\u001b[0m\u001b[0;34m(\u001b[0m\u001b[0;34m'hasconst'\u001b[0m\u001b[0;34m,\u001b[0m \u001b[0;32mNone\u001b[0m\u001b[0;34m)\u001b[0m\u001b[0;34m\u001b[0m\u001b[0m\n\u001b[1;32m     63\u001b[0m         self.data = self._handle_data(endog, exog, missing, hasconst,\n\u001b[0;32m---> 64\u001b[0;31m                                       **kwargs)\n\u001b[0m\u001b[1;32m     65\u001b[0m         \u001b[0mself\u001b[0m\u001b[0;34m.\u001b[0m\u001b[0mk_constant\u001b[0m \u001b[0;34m=\u001b[0m \u001b[0mself\u001b[0m\u001b[0;34m.\u001b[0m\u001b[0mdata\u001b[0m\u001b[0;34m.\u001b[0m\u001b[0mk_constant\u001b[0m\u001b[0;34m\u001b[0m\u001b[0m\n\u001b[1;32m     66\u001b[0m         \u001b[0mself\u001b[0m\u001b[0;34m.\u001b[0m\u001b[0mexog\u001b[0m \u001b[0;34m=\u001b[0m \u001b[0mself\u001b[0m\u001b[0;34m.\u001b[0m\u001b[0mdata\u001b[0m\u001b[0;34m.\u001b[0m\u001b[0mexog\u001b[0m\u001b[0;34m\u001b[0m\u001b[0m\n",
      "\u001b[0;32m/usr/local/lib/python3.5/dist-packages/statsmodels/base/model.py\u001b[0m in \u001b[0;36m_handle_data\u001b[0;34m(self, endog, exog, missing, hasconst, **kwargs)\u001b[0m\n\u001b[1;32m     85\u001b[0m \u001b[0;34m\u001b[0m\u001b[0m\n\u001b[1;32m     86\u001b[0m     \u001b[0;32mdef\u001b[0m \u001b[0m_handle_data\u001b[0m\u001b[0;34m(\u001b[0m\u001b[0mself\u001b[0m\u001b[0;34m,\u001b[0m \u001b[0mendog\u001b[0m\u001b[0;34m,\u001b[0m \u001b[0mexog\u001b[0m\u001b[0;34m,\u001b[0m \u001b[0mmissing\u001b[0m\u001b[0;34m,\u001b[0m \u001b[0mhasconst\u001b[0m\u001b[0;34m,\u001b[0m \u001b[0;34m**\u001b[0m\u001b[0mkwargs\u001b[0m\u001b[0;34m)\u001b[0m\u001b[0;34m:\u001b[0m\u001b[0;34m\u001b[0m\u001b[0m\n\u001b[0;32m---> 87\u001b[0;31m         \u001b[0mdata\u001b[0m \u001b[0;34m=\u001b[0m \u001b[0mhandle_data\u001b[0m\u001b[0;34m(\u001b[0m\u001b[0mendog\u001b[0m\u001b[0;34m,\u001b[0m \u001b[0mexog\u001b[0m\u001b[0;34m,\u001b[0m \u001b[0mmissing\u001b[0m\u001b[0;34m,\u001b[0m \u001b[0mhasconst\u001b[0m\u001b[0;34m,\u001b[0m \u001b[0;34m**\u001b[0m\u001b[0mkwargs\u001b[0m\u001b[0;34m)\u001b[0m\u001b[0;34m\u001b[0m\u001b[0m\n\u001b[0m\u001b[1;32m     88\u001b[0m         \u001b[0;31m# kwargs arrays could have changed, easier to just attach here\u001b[0m\u001b[0;34m\u001b[0m\u001b[0;34m\u001b[0m\u001b[0m\n\u001b[1;32m     89\u001b[0m         \u001b[0;32mfor\u001b[0m \u001b[0mkey\u001b[0m \u001b[0;32min\u001b[0m \u001b[0mkwargs\u001b[0m\u001b[0;34m:\u001b[0m\u001b[0;34m\u001b[0m\u001b[0m\n",
      "\u001b[0;32m/usr/local/lib/python3.5/dist-packages/statsmodels/base/data.py\u001b[0m in \u001b[0;36mhandle_data\u001b[0;34m(endog, exog, missing, hasconst, **kwargs)\u001b[0m\n\u001b[1;32m    631\u001b[0m     \u001b[0mklass\u001b[0m \u001b[0;34m=\u001b[0m \u001b[0mhandle_data_class_factory\u001b[0m\u001b[0;34m(\u001b[0m\u001b[0mendog\u001b[0m\u001b[0;34m,\u001b[0m \u001b[0mexog\u001b[0m\u001b[0;34m)\u001b[0m\u001b[0;34m\u001b[0m\u001b[0m\n\u001b[1;32m    632\u001b[0m     return klass(endog, exog=exog, missing=missing, hasconst=hasconst,\n\u001b[0;32m--> 633\u001b[0;31m                  **kwargs)\n\u001b[0m",
      "\u001b[0;32m/usr/local/lib/python3.5/dist-packages/statsmodels/base/data.py\u001b[0m in \u001b[0;36m__init__\u001b[0;34m(self, endog, exog, missing, hasconst, **kwargs)\u001b[0m\n\u001b[1;32m     77\u001b[0m \u001b[0;34m\u001b[0m\u001b[0m\n\u001b[1;32m     78\u001b[0m         \u001b[0;31m# this has side-effects, attaches k_constant and const_idx\u001b[0m\u001b[0;34m\u001b[0m\u001b[0;34m\u001b[0m\u001b[0m\n\u001b[0;32m---> 79\u001b[0;31m         \u001b[0mself\u001b[0m\u001b[0;34m.\u001b[0m\u001b[0m_handle_constant\u001b[0m\u001b[0;34m(\u001b[0m\u001b[0mhasconst\u001b[0m\u001b[0;34m)\u001b[0m\u001b[0;34m\u001b[0m\u001b[0m\n\u001b[0m\u001b[1;32m     80\u001b[0m         \u001b[0mself\u001b[0m\u001b[0;34m.\u001b[0m\u001b[0m_check_integrity\u001b[0m\u001b[0;34m(\u001b[0m\u001b[0;34m)\u001b[0m\u001b[0;34m\u001b[0m\u001b[0m\n\u001b[1;32m     81\u001b[0m         \u001b[0mself\u001b[0m\u001b[0;34m.\u001b[0m\u001b[0m_cache\u001b[0m \u001b[0;34m=\u001b[0m \u001b[0mresettable_cache\u001b[0m\u001b[0;34m(\u001b[0m\u001b[0;34m)\u001b[0m\u001b[0;34m\u001b[0m\u001b[0m\n",
      "\u001b[0;32m/usr/local/lib/python3.5/dist-packages/statsmodels/base/data.py\u001b[0m in \u001b[0;36m_handle_constant\u001b[0;34m(self, hasconst)\u001b[0m\n\u001b[1;32m    130\u001b[0m             \u001b[0mcheck_implicit\u001b[0m \u001b[0;34m=\u001b[0m \u001b[0;32mFalse\u001b[0m\u001b[0;34m\u001b[0m\u001b[0m\n\u001b[1;32m    131\u001b[0m             \u001b[0mptp_\u001b[0m \u001b[0;34m=\u001b[0m \u001b[0mself\u001b[0m\u001b[0;34m.\u001b[0m\u001b[0mexog\u001b[0m\u001b[0;34m.\u001b[0m\u001b[0mptp\u001b[0m\u001b[0;34m(\u001b[0m\u001b[0maxis\u001b[0m\u001b[0;34m=\u001b[0m\u001b[0;36m0\u001b[0m\u001b[0;34m)\u001b[0m\u001b[0;34m\u001b[0m\u001b[0m\n\u001b[0;32m--> 132\u001b[0;31m             \u001b[0;32mif\u001b[0m \u001b[0;32mnot\u001b[0m \u001b[0mnp\u001b[0m\u001b[0;34m.\u001b[0m\u001b[0misfinite\u001b[0m\u001b[0;34m(\u001b[0m\u001b[0mptp_\u001b[0m\u001b[0;34m)\u001b[0m\u001b[0;34m.\u001b[0m\u001b[0mall\u001b[0m\u001b[0;34m(\u001b[0m\u001b[0;34m)\u001b[0m\u001b[0;34m:\u001b[0m\u001b[0;34m\u001b[0m\u001b[0m\n\u001b[0m\u001b[1;32m    133\u001b[0m                 \u001b[0;32mraise\u001b[0m \u001b[0mMissingDataError\u001b[0m\u001b[0;34m(\u001b[0m\u001b[0;34m'exog contains inf or nans'\u001b[0m\u001b[0;34m)\u001b[0m\u001b[0;34m\u001b[0m\u001b[0m\n\u001b[1;32m    134\u001b[0m             \u001b[0mconst_idx\u001b[0m \u001b[0;34m=\u001b[0m \u001b[0mnp\u001b[0m\u001b[0;34m.\u001b[0m\u001b[0mwhere\u001b[0m\u001b[0;34m(\u001b[0m\u001b[0mptp_\u001b[0m \u001b[0;34m==\u001b[0m \u001b[0;36m0\u001b[0m\u001b[0;34m)\u001b[0m\u001b[0;34m[\u001b[0m\u001b[0;36m0\u001b[0m\u001b[0;34m]\u001b[0m\u001b[0;34m.\u001b[0m\u001b[0msqueeze\u001b[0m\u001b[0;34m(\u001b[0m\u001b[0;34m)\u001b[0m\u001b[0;34m\u001b[0m\u001b[0m\n",
      "\u001b[0;31mTypeError\u001b[0m: ufunc 'isfinite' not supported for the input types, and the inputs could not be safely coerced to any supported types according to the casting rule ''safe''"
     ]
    }
   ],
   "source": [
    "print(subset.shape)\n",
    "\n",
    "subset_v = subset.values\n",
    "print(subset_v.shape)\n",
    "\n",
    "diff = subset_v[1:21] - subset_v[0:20]\n",
    "\n",
    "diff_myX = np.hstack((subset_v[1:21,0:1], subset_v[0:20,:]))\n",
    "diff_myY = subset_v[1:21, 2]\n",
    "\n",
    "diff_model = sm.OLS(diff_myY, diff_myX).fit()\n",
    "diff_predY = diff_model.predict(diff_myX)\n",
    "\n",
    "print(diff_model.summary())\n",
    "\n",
    "plt.scatter(diff_myY, diff_predY)\n",
    "plt.show()"
   ]
  },
  {
   "cell_type": "code",
   "execution_count": 41,
   "metadata": {},
   "outputs": [],
   "source": [
    "localityNumbers = np.unique(df['localityNo'])"
   ]
  },
  {
   "cell_type": "code",
   "execution_count": 42,
   "metadata": {},
   "outputs": [
    {
     "data": {
      "text/plain": [
       "\"\\nall_diff_myX = None\\nall_diff_myY = None\\n\\nfor localityNo in localityNumbers:\\n    subset = my_df.loc[df['localityNo'] == localityNo]\\n    subset_v = subset.values\\n    num_obs = subset_v.shape[0]\\n\\n    diff = subset_v[1:num_obs] - subset_v[0:(num_obs - 1)]\\n    \\n    diff_myX = np.hstack((subset_v[1:num_obs,0:2], subset_v[0:(num_obs - 1),0:3], (subset_v[1:num_obs,0:2] - subset_v[0:(num_obs - 1),0:2]) / subset_v[0:(num_obs - 1),0:2]))\\n    #diff_myY = subset_v[1:num_obs, 2]\\n    diff_myY = (subset_v[1:num_obs, 2] - subset_v[0:(num_obs - 1),2]) #/ subset_v[0:(num_obs - 1),2]\\n    \\n    if all_diff_myX is None:\\n        all_diff_myX = diff_myX\\n        all_diff_myY = diff_myY\\n    else:\\n        all_diff_myX = np.vstack((all_diff_myX, diff_myX))\\n        all_diff_myY = np.concatenate((all_diff_myY, diff_myY))\\n\""
      ]
     },
     "execution_count": 42,
     "metadata": {},
     "output_type": "execute_result"
    }
   ],
   "source": [
    "# Original model\n",
    "\n",
    "'''\n",
    "all_diff_myX = None\n",
    "all_diff_myY = None\n",
    "\n",
    "for localityNo in localityNumbers:\n",
    "    subset = my_df.loc[df['localityNo'] == localityNo]\n",
    "    subset_v = subset.values\n",
    "    num_obs = subset_v.shape[0]\n",
    "\n",
    "    diff = subset_v[1:num_obs] - subset_v[0:(num_obs - 1)]\n",
    "    \n",
    "    diff_myX = np.hstack((subset_v[1:num_obs,0:2], subset_v[0:(num_obs - 1),0:3], (subset_v[1:num_obs,0:2] - subset_v[0:(num_obs - 1),0:2]) / subset_v[0:(num_obs - 1),0:2]))\n",
    "    #diff_myY = subset_v[1:num_obs, 2]\n",
    "    diff_myY = (subset_v[1:num_obs, 2] - subset_v[0:(num_obs - 1),2]) #/ subset_v[0:(num_obs - 1),2]\n",
    "    \n",
    "    if all_diff_myX is None:\n",
    "        all_diff_myX = diff_myX\n",
    "        all_diff_myY = diff_myY\n",
    "    else:\n",
    "        all_diff_myX = np.vstack((all_diff_myX, diff_myX))\n",
    "        all_diff_myY = np.concatenate((all_diff_myY, diff_myY))\n",
    "'''"
   ]
  },
  {
   "cell_type": "code",
   "execution_count": 100,
   "metadata": {},
   "outputs": [
    {
     "data": {
      "text/plain": [
       "hasReportedLice            True\n",
       "hasMechanicalRemoval      False\n",
       "hasBathTreatment          False\n",
       "hasInFeedTreatment        False\n",
       "hasCleanerFishDeployed     True\n",
       "isFallow                  False\n",
       "avgAdultFemaleLice          0.3\n",
       "avgMobileLice              1.35\n",
       "avgStationaryLice          0.05\n",
       "seaTemperature                7\n",
       "Name: 710, dtype: object"
      ]
     },
     "execution_count": 100,
     "metadata": {},
     "output_type": "execute_result"
    }
   ],
   "source": [
    "subset_v = my_df.loc[df['localityNo'] == localityNumbers[0]]\n",
    "subset_v.iloc[1]"
   ]
  },
  {
   "cell_type": "code",
   "execution_count": 101,
   "metadata": {},
   "outputs": [
    {
     "data": {
      "text/plain": [
       "array([[True, False, False, False, False, False],\n",
       "       [True, False, False, False, True, False],\n",
       "       [True, False, False, False, False, False],\n",
       "       [True, False, False, False, False, False],\n",
       "       [True, False, False, False, False, False],\n",
       "       [True, False, False, False, False, False],\n",
       "       [True, False, False, False, False, False],\n",
       "       [True, False, False, False, False, False],\n",
       "       [True, False, False, False, False, False],\n",
       "       [True, False, False, False, False, False],\n",
       "       [True, False, False, False, False, False],\n",
       "       [True, False, False, False, False, False],\n",
       "       [True, False, False, False, False, False],\n",
       "       [True, False, False, False, False, False],\n",
       "       [True, False, False, False, False, False],\n",
       "       [True, False, False, False, False, False],\n",
       "       [True, False, False, True, False, False],\n",
       "       [True, False, False, True, False, False],\n",
       "       [True, False, False, False, False, False],\n",
       "       [True, False, False, False, False, False],\n",
       "       [True, False, False, False, False, False],\n",
       "       [True, False, False, False, False, False],\n",
       "       [True, False, False, False, False, False],\n",
       "       [True, False, False, False, False, False],\n",
       "       [True, False, False, False, False, False],\n",
       "       [True, False, False, False, False, False],\n",
       "       [True, False, False, True, False, False],\n",
       "       [True, False, False, True, True, False],\n",
       "       [True, False, False, False, True, False],\n",
       "       [True, False, False, False, True, False],\n",
       "       [True, False, False, False, True, False],\n",
       "       [True, False, False, False, True, False],\n",
       "       [True, False, False, False, True, False],\n",
       "       [True, False, False, False, True, False],\n",
       "       [True, False, False, False, True, False],\n",
       "       [True, False, False, False, True, False],\n",
       "       [True, False, False, False, False, False],\n",
       "       [True, False, False, False, False, False],\n",
       "       [True, False, False, False, False, False],\n",
       "       [True, True, False, False, False, False],\n",
       "       [True, False, False, False, False, False],\n",
       "       [True, False, False, False, False, False],\n",
       "       [True, False, False, False, False, False],\n",
       "       [True, False, False, False, True, False],\n",
       "       [True, False, False, False, False, False],\n",
       "       [True, False, False, False, False, False],\n",
       "       [True, True, False, False, False, False],\n",
       "       [True, False, False, False, False, False],\n",
       "       [True, False, False, False, False, False],\n",
       "       [True, True, False, False, False, False],\n",
       "       [True, False, False, False, False, False],\n",
       "       [True, False, False, False, False, False],\n",
       "       [True, False, False, False, False, False],\n",
       "       [True, False, False, False, False, False],\n",
       "       [True, True, False, False, False, False],\n",
       "       [True, False, False, False, False, False],\n",
       "       [True, False, False, False, False, False],\n",
       "       [True, False, False, False, True, False],\n",
       "       [True, False, False, False, False, False],\n",
       "       [True, False, False, False, False, False],\n",
       "       [True, False, False, False, False, False],\n",
       "       [True, False, False, False, False, False],\n",
       "       [True, False, False, False, False, False],\n",
       "       [True, False, False, False, False, False],\n",
       "       [True, False, False, False, False, False],\n",
       "       [True, False, False, False, False, False],\n",
       "       [True, False, False, False, False, False],\n",
       "       [True, False, False, False, True, False],\n",
       "       [True, False, False, False, False, False],\n",
       "       [True, False, False, False, False, False],\n",
       "       [True, False, False, False, False, False],\n",
       "       [True, False, False, False, False, False],\n",
       "       [True, False, False, False, False, False],\n",
       "       [True, False, False, False, False, False],\n",
       "       [True, False, False, False, False, False],\n",
       "       [True, False, False, False, False, False],\n",
       "       [True, False, False, False, True, False],\n",
       "       [True, False, False, False, False, False],\n",
       "       [True, False, False, False, False, False],\n",
       "       [True, False, False, False, False, False],\n",
       "       [True, False, False, False, False, False],\n",
       "       [True, False, False, False, False, False],\n",
       "       [True, False, False, False, False, False],\n",
       "       [True, False, False, False, False, False],\n",
       "       [True, False, False, False, False, False],\n",
       "       [True, False, False, False, True, False],\n",
       "       [True, False, False, False, False, False],\n",
       "       [True, False, False, False, False, False],\n",
       "       [True, False, False, False, True, False],\n",
       "       [True, False, False, False, False, False],\n",
       "       [True, False, False, False, False, False],\n",
       "       [True, False, False, False, True, False],\n",
       "       [True, False, False, False, False, False],\n",
       "       [True, False, False, False, False, False],\n",
       "       [True, False, False, False, False, False],\n",
       "       [True, False, False, False, False, False],\n",
       "       [True, False, False, False, False, False],\n",
       "       [True, False, False, True, False, False],\n",
       "       [True, False, False, True, False, False],\n",
       "       [True, False, False, True, False, False],\n",
       "       [True, False, False, False, False, False],\n",
       "       [True, False, False, False, False, False],\n",
       "       [True, False, False, False, False, False],\n",
       "       [True, False, False, False, False, False],\n",
       "       [True, False, False, False, False, False],\n",
       "       [True, False, False, True, False, False],\n",
       "       [True, False, False, True, False, False],\n",
       "       [True, False, False, True, False, False],\n",
       "       [True, False, False, False, False, False],\n",
       "       [True, False, False, False, True, False],\n",
       "       [True, False, False, False, True, False],\n",
       "       [True, False, False, False, True, False],\n",
       "       [True, False, False, False, True, False],\n",
       "       [True, False, False, False, True, False],\n",
       "       [True, False, False, False, True, False],\n",
       "       [True, False, False, False, True, False],\n",
       "       [True, False, False, False, True, False],\n",
       "       [True, False, False, False, True, False],\n",
       "       [True, False, False, False, False, False],\n",
       "       [True, False, False, False, False, False],\n",
       "       [True, False, False, False, False, False],\n",
       "       [True, False, False, False, False, False],\n",
       "       [True, True, False, False, False, False],\n",
       "       [True, False, False, False, False, False]], dtype=object)"
      ]
     },
     "execution_count": 101,
     "metadata": {},
     "output_type": "execute_result"
    }
   ],
   "source": [
    "subset_v.iloc[0]\n",
    "subset_v.values[:,0:6]\n",
    "#subset_v.values[:,6:10]"
   ]
  },
  {
   "cell_type": "code",
   "execution_count": 137,
   "metadata": {},
   "outputs": [
    {
     "name": "stdout",
     "output_type": "stream",
     "text": [
      "Not enough samples\n",
      "Not enough samples\n",
      "Not enough samples\n",
      "Not enough samples\n",
      "Not enough samples\n",
      "Not enough samples\n",
      "Not enough samples\n",
      "Not enough samples\n",
      "done\n",
      "(50208, 17)\n",
      "(50208,)\n"
     ]
    }
   ],
   "source": [
    "# New model\n",
    "\n",
    "all_diff_myX = None\n",
    "all_diff_myY = None\n",
    "\n",
    "for localityNo in localityNumbers:\n",
    "    subset = my_df.loc[df['localityNo'] == localityNo]\n",
    "    subset_r = subset.values[:,0:6]\n",
    "    subset_v = subset.values[:,6:10]\n",
    "    num_obs = subset_v.shape[0]\n",
    "    \n",
    "    if num_obs < 3:\n",
    "        print('Not enough samples')\n",
    "        continue\n",
    "        \n",
    "    diff_myX = []\n",
    "    diff_myY = []\n",
    "    \n",
    "    for i in range(num_obs - 2):\n",
    "        X = np.concatenate((subset_v[i+1,0:2], subset_v[i+1,0:2] * subset_v[i+1,3:4], subset_v[i+2,0:3], subset_v[i+2,0:3] * subset_v[i+2,3:4], subset_v[i,0:3], subset_v[i,0:3] * subset_v[i,3:4], subset_v[i,3:4]))\n",
    "        Y = subset_v[i + 1, 2]\n",
    "        \n",
    "        if ( subset_r[i, 4] or  subset_r[i + 1, 4] or  subset_r[i + 2, 4]\n",
    "            or subset_r[i, 1] or subset_r[i + 1, 1] or subset_r[i + 2, 1]\n",
    "            or subset_r[i, 2] or subset_r[i + 1, 2] or subset_r[i + 2, 2]\n",
    "            or subset_r[i, 3] or subset_r[i + 1, 3] or subset_r[i + 2, 3]):\n",
    "            continue\n",
    "        \n",
    "        diff_myX.append(X)\n",
    "        diff_myY.append(Y)\n",
    "        \n",
    "    if len(diff_myX) == 0:\n",
    "        continue\n",
    "        \n",
    "    '''\n",
    "    #diff = subset_v[1:num_obs] - subset_v[0:(num_obs - 1)]\n",
    "    \n",
    "    #diff_myX = np.hstack((subset_v[1:num_obs,0:4], subset_v[0:(num_obs - 1),0:2], subset_v[0:(num_obs - 1),3:4]))\n",
    "    #diff_myX = np.hstack((subset_v[0:(num_obs - 1),0:4], subset_v[1:(num_obs),0:2], subset_v[1:(num_obs),3:4]))\n",
    "    #diff_myX = np.hstack((subset_v[2:(num_obs),0:2], subset_v[2:(num_obs),3:4], subset_v[1:(num_obs - 1),0:4], subset_v[0:(num_obs - 2),0:4]))\n",
    "    #diff_myX = np.hstack((subset_v[1:(num_obs - 1),0:2], subset_v[1:(num_obs - 1),3:4], subset_v[2:(num_obs - 0),0:4], subset_v[0:(num_obs - 2),0:4]))\n",
    "    diff_myX = np.hstack((subset_v[1:(num_obs - 1),0:2], subset_v[1:(num_obs - 1),0:2] * subset_v[1:(num_obs - 1),3:4], subset_v[2:(num_obs - 0),0:3], subset_v[2:(num_obs - 0),0:3] * subset_v[2:(num_obs - 0),3:4], subset_v[0:(num_obs - 2),0:3], subset_v[0:(num_obs - 2),0:3] * subset_v[0:(num_obs - 2),3:4]))\n",
    "    #diff_myX = np.hstack((subset_v[2:(num_obs - 1),0:2], subset_v[2:(num_obs - 1),3:4], subset_v[3:(num_obs - 0),0:4], subset_v[1:(num_obs - 2),0:4], subset_v[0:(num_obs - 3),0:4]))\n",
    "    #diff_myY = subset_v[0:(num_obs - 1), 2]\n",
    "    diff_myY = subset_v[1:(num_obs - 1), 2]\n",
    "    #diff_myY = subset_v[2:(num_obs - 1), 2]\n",
    "    #diff_myY = subset_v[2:(num_obs), 2]\n",
    "    #diff_myY = (subset_v[1:num_obs, 2] - subset_v[0:(num_obs - 1),2]) #/ subset_v[0:(num_obs - 1),2]\n",
    "    '''\n",
    "    \n",
    "    if all_diff_myX is None:\n",
    "        all_diff_myX = diff_myX\n",
    "        all_diff_myY = diff_myY\n",
    "    else:\n",
    "        all_diff_myX = np.vstack((all_diff_myX, diff_myX))\n",
    "        all_diff_myY = np.concatenate((all_diff_myY, diff_myY))\n",
    "        \n",
    "        \n",
    "print('done')\n",
    "\n",
    "print(all_diff_myX.shape)\n",
    "print(all_diff_myY.shape)\n",
    "\n",
    "all_diff_myX = np.array(all_diff_myX, dtype=np.float64)"
   ]
  },
  {
   "cell_type": "code",
   "execution_count": 138,
   "metadata": {},
   "outputs": [
    {
     "name": "stdout",
     "output_type": "stream",
     "text": [
      "done\n"
     ]
    }
   ],
   "source": [
    "print('done')\n",
    "\n",
    "#all_diff_myY[0]"
   ]
  },
  {
   "cell_type": "code",
   "execution_count": 186,
   "metadata": {},
   "outputs": [
    {
     "name": "stdout",
     "output_type": "stream",
     "text": [
      "0.31917224346717654\n",
      "0\n",
      "0\n",
      "                            OLS Regression Results                            \n",
      "==============================================================================\n",
      "Dep. Variable:                      y   R-squared:                       0.596\n",
      "Model:                            OLS   Adj. R-squared:                  0.596\n",
      "Method:                 Least Squares   F-statistic:                     1390.\n",
      "Date:                Sat, 16 Mar 2019   Prob (F-statistic):               0.00\n",
      "Time:                        19:25:49   Log-Likelihood:                 7082.4\n",
      "No. Observations:               16025   AIC:                        -1.413e+04\n",
      "Df Residuals:                   16007   BIC:                        -1.399e+04\n",
      "Df Model:                          17                                         \n",
      "Covariance Type:            nonrobust                                         \n",
      "==============================================================================\n",
      "                 coef    std err          t      P>|t|      [0.025      0.975]\n",
      "------------------------------------------------------------------------------\n",
      "const          0.0009      0.017      0.054      0.957      -0.032       0.034\n",
      "x1             0.2171      0.060      3.639      0.000       0.100       0.334\n",
      "x2             0.0928      0.030      3.105      0.002       0.034       0.151\n",
      "x3            -0.0455      0.020     -2.298      0.022      -0.084      -0.007\n",
      "x4             0.0119      0.010      1.219      0.223      -0.007       0.031\n",
      "x5            -0.1005      0.052     -1.938      0.053      -0.202       0.001\n",
      "x6            -0.0679      0.027     -2.534      0.011      -0.120      -0.015\n",
      "x7             0.5870      0.030     19.766      0.000       0.529       0.645\n",
      "x8             0.0029      0.017      0.171      0.864      -0.030       0.036\n",
      "x9             0.0367      0.009      4.209      0.000       0.020       0.054\n",
      "x10           -0.0709      0.010     -7.116      0.000      -0.090      -0.051\n",
      "x11           -0.0902      0.057     -1.585      0.113      -0.202       0.021\n",
      "x12           -0.0148      0.028     -0.525      0.600      -0.070       0.041\n",
      "x13            0.4085      0.032     12.708      0.000       0.345       0.471\n",
      "x14            0.0254      0.019      1.353      0.176      -0.011       0.062\n",
      "x15           -0.0248      0.009     -2.665      0.008      -0.043      -0.007\n",
      "x16           -0.0088      0.011     -0.799      0.424      -0.030       0.013\n",
      "x17            0.0132      0.006      2.287      0.022       0.002       0.024\n",
      "==============================================================================\n",
      "Omnibus:                     1244.567   Durbin-Watson:                   2.618\n",
      "Prob(Omnibus):                  0.000   Jarque-Bera (JB):             2851.662\n",
      "Skew:                           0.490   Prob(JB):                         0.00\n",
      "Kurtosis:                       4.820   Cond. No.                         398.\n",
      "==============================================================================\n",
      "\n",
      "Warnings:\n",
      "[1] Standard Errors assume that the covariance matrix of the errors is correctly specified.\n"
     ]
    },
    {
     "data": {
      "image/png": "[encoded data removed]",
      "text/plain": [
       "<Figure size 432x288 with 1 Axes>"
      ]
     },
     "metadata": {},
     "output_type": "display_data"
    }
   ],
   "source": [
    "# Old\n",
    "# AF: 0, 3, 7 < 1.5\n",
    "# M: 1, 3, 8 < 5\n",
    "# F: 5, 9 < 1.5\n",
    "\n",
    "# New\n",
    "# AF: 0, 2, 4, 7, 10, 13 < 1.5\n",
    "# M: 1, 3, 5, 8, 11, 14 < 5\n",
    "# F: 6, 9, 12, 15 < 1.5\n",
    "\n",
    "AF_thresh = 1.5\n",
    "M_thresh = 5\n",
    "F_thresh = 1.5\n",
    "\n",
    "# Adult female\n",
    "gi_AF1 = all_diff_myX[:,0] < AF_thresh\n",
    "#gi_AF2 = all_diff_myX[:,2] < AF_thresh\n",
    "gi_AF2 = all_diff_myX[:,4] < AF_thresh\n",
    "#gi_AF4 = all_diff_myX[:,7] < AF_thresh\n",
    "gi_AF3 = all_diff_myX[:,10] < AF_thresh\n",
    "#gi_AF6 = all_diff_myX[:,13] < AF_thresh\n",
    "gi_AF4 = all_diff_myX[:,0] > 0.00001\n",
    "#gi_AF8 = all_diff_myX[:,2] > 0.00001\n",
    "gi_AF5 = all_diff_myX[:,4] > 0.00001\n",
    "#gi_AF10 = all_diff_myX[:,7] > 0.00001\n",
    "gi_AF6 = all_diff_myX[:,10] > 0.00001\n",
    "#gi_AF12 = all_diff_myX[:,13] > 0.00001\n",
    "\n",
    "# Moving\n",
    "gi_M1 = all_diff_myX[:,1] < M_thresh\n",
    "#gi_M2 = all_diff_myX[:,3] < M_thresh\n",
    "gi_M2 = all_diff_myX[:,5] < M_thresh\n",
    "#gi_M4 = all_diff_myX[:,8] < M_thresh\n",
    "gi_M3 = all_diff_myX[:,11] < M_thresh\n",
    "#gi_M6 = all_diff_myX[:,14] < M_thresh\n",
    "gi_M4 = all_diff_myX[:,1] > 0.00001\n",
    "#gi_M8 = all_diff_myX[:,3] > 0.00001\n",
    "gi_M5 = all_diff_myX[:,5] > 0.00001\n",
    "#gi_M10 = all_diff_myX[:,8] > 0.00001\n",
    "gi_M6 = all_diff_myX[:,11] > 0.00001\n",
    "#gi_M12 = all_diff_myX[:,14] > 0.00001\n",
    "\n",
    "# Fixed\n",
    "gi_F1 = all_diff_myX[:,6] < F_thresh\n",
    "#gi_F2 = all_diff_myX[:,9] < F_thresh\n",
    "gi_F2 = all_diff_myX[:,12] < F_thresh\n",
    "#gi_F4 = all_diff_myX[:,15] < F_thresh\n",
    "gi_F3 = all_diff_myY < F_thresh\n",
    "gi_F4 = all_diff_myX[:,6] > 0.00001\n",
    "#gi_F7 = all_diff_myX[:,9] > 0.00001\n",
    "gi_F5 = all_diff_myX[:,12] > 0.00001\n",
    "#gi_F9 = all_diff_myX[:,15] > 0.00001\n",
    "gi_F6 = all_diff_myY > 0.00001\n",
    "\n",
    "\n",
    "good_indices = gi_AF1 & gi_AF2 & gi_AF3 & gi_AF4 & gi_AF5 & gi_AF6\n",
    "good_indices = good_indices & gi_M1 & gi_M2 & gi_M3 & gi_M4 & gi_M5 & gi_M6\n",
    "good_indices = good_indices & gi_F1 & gi_F2 & gi_F3 & gi_F4 & gi_F5 & gi_F6\n",
    "\n",
    "# Temperature\n",
    "#gt_temp = all_diff_myX[:,3] < 15\n",
    "#good_indices = good_indices & gt_temp\n",
    "'''\n",
    "# Adult female\n",
    "gi_AF1 = all_diff_myX[:,0] < AF_thresh\n",
    "gi_AF2 = all_diff_myX[:,3] < AF_thresh\n",
    "gi_AF3 = all_diff_myX[:,7] < AF_thresh\n",
    "gi_AF4 = all_diff_myX[:,0] > 0.00001\n",
    "gi_AF5 = all_diff_myX[:,3] > 0.00001\n",
    "gi_AF6 = all_diff_myX[:,7] > 0.00001\n",
    "\n",
    "# Moving\n",
    "gi_M1 = all_diff_myX[:,1] < M_thresh\n",
    "gi_M2 = all_diff_myX[:,3] < M_thresh\n",
    "gi_M3 = all_diff_myX[:,8] < M_thresh\n",
    "gi_M4 = all_diff_myX[:,1] > 0.00001\n",
    "gi_M5 = all_diff_myX[:,3] > 0.00001\n",
    "gi_M6 = all_diff_myX[:,8] > 0.00001\n",
    "\n",
    "# Fixed\n",
    "gi_F1 = all_diff_myX[:,5] < F_thresh\n",
    "gi_F2 = all_diff_myX[:,9] < F_thresh\n",
    "gi_F3 = all_diff_myY < F_thresh\n",
    "gi_F4 = all_diff_myX[:,5] > 0.00001\n",
    "gi_F5 = all_diff_myX[:,9] > 0.00001\n",
    "gi_F6 = all_diff_myY > 0.00001\n",
    "\n",
    "good_indices = gi_AF1 & gi_AF2 & gi_AF3 & gi_AF4 & gi_AF5 & gi_AF6\n",
    "good_indices = good_indices & gi_M1 & gi_M2 & gi_M3 & gi_M4 & gi_M5 & gi_M6\n",
    "good_indices = good_indices & gi_F1 & gi_F2 & gi_F3 & gi_F4 & gi_F5 & gi_F6\n",
    "'''\n",
    "\n",
    "print(np.sum(good_indices) / len(good_indices))\n",
    "\n",
    "all_filtered_myX = all_diff_myX[good_indices, :]\n",
    "all_filtered_myY = all_diff_myY[good_indices]\n",
    "\n",
    "print(np.sum(np.isinf(all_filtered_myX)))\n",
    "print(np.sum(np.isinf(all_filtered_myY)))\n",
    "\n",
    "all_myY = all_filtered_myY\n",
    "all_myX = all_filtered_myX\n",
    "\n",
    "#all_myX = np.log(1 + all_myX)\n",
    "#all_myY = np.log(1 + all_myY)\n",
    "all_myX = np.sqrt(all_myX)\n",
    "all_myY = np.sqrt(all_myY)\n",
    "\n",
    "all_myX = sm.add_constant(np.hstack((all_myX, ))) # \n",
    "\n",
    "all_diff_model = sm.OLS(all_myY, all_myX).fit()\n",
    "all_predY = all_diff_model.predict(all_myX)\n",
    "\n",
    "print(all_diff_model.summary())\n",
    "\n",
    "plt.scatter(all_myY, all_predY)\n",
    "#plt.scatter(all_myX, all_myY)\n",
    "#plt.plot(all_myX, all_predY, 'r--')\n",
    "plt.show()"
   ]
  },
  {
   "cell_type": "code",
   "execution_count": 184,
   "metadata": {},
   "outputs": [
    {
     "data": {
      "text/plain": [
       "\"\\nfinal_predY = all_predY#np.exp(all_predY) - 1\\nfinal_myY = all_myY#np.exp(all_myY) - 1\\n\\nerror = np.abs(final_predY - final_myY)\\n\\nfor i in range(0, 100, 5):\\n    p1 = np.percentile(error, i) # return 50th percentile, e.g median.\\n    p2 = np.percentile(final_predY, i) # return 50th percentile, e.g median.\\n    p3 = np.percentile(final_myY, i) # return 50th percentile, e.g median.\\n    print('%i: %0.3f, %0.2f, %0.2f' % (i, p1, p2, p3))\\n    \\nplt.scatter(all_myY, all_predY - all_myY)\\nplt.show()\\n\\n\""
      ]
     },
     "execution_count": 184,
     "metadata": {},
     "output_type": "execute_result"
    }
   ],
   "source": [
    "'''\n",
    "final_predY = all_predY#np.exp(all_predY) - 1\n",
    "final_myY = all_myY#np.exp(all_myY) - 1\n",
    "\n",
    "error = np.abs(final_predY - final_myY)\n",
    "\n",
    "for i in range(0, 100, 5):\n",
    "    p1 = np.percentile(error, i) # return 50th percentile, e.g median.\n",
    "    p2 = np.percentile(final_predY, i) # return 50th percentile, e.g median.\n",
    "    p3 = np.percentile(final_myY, i) # return 50th percentile, e.g median.\n",
    "    print('%i: %0.3f, %0.2f, %0.2f' % (i, p1, p2, p3))\n",
    "    \n",
    "plt.scatter(all_myY, all_predY - all_myY)\n",
    "plt.show()\n",
    "\n",
    "'''"
   ]
  },
  {
   "cell_type": "code",
   "execution_count": 185,
   "metadata": {},
   "outputs": [
    {
     "name": "stdout",
     "output_type": "stream",
     "text": [
      "0: 0.000, 0.000, 0.01, 0.02\n",
      "2: 0.001, 0.020, 0.01, 0.03\n",
      "4: 0.002, 0.037, 0.01, 0.03\n",
      "6: 0.004, 0.058, 0.01, 0.03\n",
      "8: 0.005, 0.076, 0.01, 0.03\n",
      "10: 0.006, 0.096, 0.01, 0.03\n",
      "12: 0.007, 0.117, 0.02, 0.04\n",
      "14: 0.008, 0.135, 0.02, 0.04\n",
      "16: 0.010, 0.154, 0.02, 0.04\n",
      "18: 0.011, 0.174, 0.02, 0.04\n",
      "20: 0.012, 0.194, 0.03, 0.04\n",
      "22: 0.013, 0.212, 0.03, 0.04\n",
      "24: 0.014, 0.232, 0.03, 0.05\n",
      "26: 0.015, 0.250, 0.03, 0.05\n",
      "28: 0.017, 0.270, 0.03, 0.05\n",
      "30: 0.018, 0.291, 0.04, 0.05\n",
      "32: 0.019, 0.309, 0.04, 0.05\n",
      "34: 0.020, 0.328, 0.04, 0.05\n",
      "36: 0.022, 0.347, 0.04, 0.06\n",
      "38: 0.023, 0.368, 0.05, 0.06\n",
      "40: 0.024, 0.389, 0.05, 0.06\n",
      "42: 0.025, 0.411, 0.05, 0.06\n",
      "44: 0.027, 0.431, 0.06, 0.06\n",
      "46: 0.028, 0.453, 0.06, 0.06\n",
      "48: 0.030, 0.474, 0.06, 0.07\n",
      "50: 0.031, 0.496, 0.06, 0.07\n",
      "52: 0.033, 0.521, 0.07, 0.07\n",
      "54: 0.034, 0.543, 0.07, 0.07\n",
      "56: 0.036, 0.566, 0.08, 0.08\n",
      "58: 0.038, 0.592, 0.08, 0.08\n",
      "60: 0.040, 0.618, 0.08, 0.08\n",
      "62: 0.042, 0.643, 0.09, 0.08\n",
      "64: 0.044, 0.669, 0.09, 0.08\n",
      "66: 0.046, 0.699, 0.10, 0.09\n",
      "68: 0.049, 0.728, 0.10, 0.09\n",
      "70: 0.052, 0.753, 0.11, 0.09\n",
      "72: 0.054, 0.785, 0.11, 0.09\n",
      "74: 0.057, 0.817, 0.12, 0.10\n",
      "76: 0.060, 0.850, 0.13, 0.10\n",
      "78: 0.064, 0.887, 0.13, 0.10\n",
      "80: 0.068, 0.924, 0.14, 0.11\n",
      "82: 0.072, 0.963, 0.15, 0.11\n",
      "84: 0.077, 1.006, 0.16, 0.11\n",
      "86: 0.082, 1.051, 0.17, 0.12\n",
      "88: 0.088, 1.102, 0.18, 0.12\n",
      "90: 0.095, 1.156, 0.19, 0.13\n",
      "92: 0.105, 1.221, 0.20, 0.14\n",
      "94: 0.116, 1.296, 0.22, 0.14\n",
      "96: 0.132, 1.380, 0.24, 0.15\n",
      "98: 0.156, 1.501, 0.27, 0.16\n"
     ]
    },
    {
     "data": {
      "image/png": "[encoded data removed]",
      "text/plain": [
       "<Figure size 432x288 with 1 Axes>"
      ]
     },
     "metadata": {},
     "output_type": "display_data"
    }
   ],
   "source": [
    "#final_predY = all_predY\n",
    "#final_myY = all_myY\n",
    "final_predY = all_predY ** 2\n",
    "final_myY = all_myY ** 2\n",
    "\n",
    "#final_predY = np.exp(all_predY) - 1\n",
    "#final_myY = np.exp(all_myY) - 1\n",
    "\n",
    "error = np.abs(final_predY - final_myY)\n",
    "\n",
    "for i in range(0, 100, 2):\n",
    "    p1 = np.percentile(error, i) # return 50th percentile, e.g median.\n",
    "    p2 = np.percentile(2 * error / (final_myY + final_predY), i) # return 50th percentile, e.g median.\n",
    "    p3 = np.percentile(final_myY, i) # return 50th percentile, e.g median.\n",
    "    p4 = np.percentile(final_predY, i) # return 50th percentile, e.g median.\n",
    "    print('%i: %0.3f, %0.3f, %0.2f, %0.2f' % (i, p1, p2, p3, p4))\n",
    "    \n",
    "plt.scatter(final_predY, final_myY)\n",
    "plt.show()"
   ]
  },
  {
   "cell_type": "code",
   "execution_count": null,
   "metadata": {},
   "outputs": [],
   "source": []
  },
  {
   "cell_type": "code",
   "execution_count": null,
   "metadata": {},
   "outputs": [],
   "source": []
  },
  {
   "cell_type": "code",
   "execution_count": null,
   "metadata": {},
   "outputs": [],
   "source": []
  },
  {
   "cell_type": "code",
   "execution_count": null,
   "metadata": {},
   "outputs": [],
   "source": []
  }
 ],
 "metadata": {
  "kernelspec": {
   "display_name": "Python 3",
   "language": "python",
   "name": "python3"
  },
  "language_info": {
   "codemirror_mode": {
    "name": "ipython",
    "version": 3
   },
   "file_extension": ".py",
   "mimetype": "text/x-python",
   "name": "python",
   "nbconvert_exporter": "python",
   "pygments_lexer": "ipython3",
   "version": "3.5.2"
  }
 },
 "nbformat": 4,
 "nbformat_minor": 2
}
