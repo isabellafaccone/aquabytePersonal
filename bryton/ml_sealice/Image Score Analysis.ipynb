{
 "cells": [
  {
   "cell_type": "code",
   "execution_count": null,
   "metadata": {},
   "outputs": [],
   "source": [
    "import json, os\n",
    "import pandas as pd\n",
    "import numpy as np\n",
    "import matplotlib.pyplot as plt\n",
    "plt.rcParams['axes.facecolor'] = 'white'\n",
    "import matplotlib.colors\n",
    "\n",
    "import pytz \n",
    "\n",
    "from datetime import timedelta, datetime\n",
    "\n",
    "from aquabyte.data_access_utils import RDSAccessUtils"
   ]
  },
  {
   "cell_type": "code",
   "execution_count": null,
   "metadata": {},
   "outputs": [],
   "source": [
    "%%javascript\n",
    "IPython.OutputArea.prototype._should_scroll = function(lines) {\n",
    "    return false;\n",
    "}"
   ]
  },
  {
   "cell_type": "code",
   "execution_count": null,
   "metadata": {},
   "outputs": [],
   "source": [
    "penIdData = {}"
   ]
  },
  {
   "cell_type": "code",
   "execution_count": null,
   "metadata": {},
   "outputs": [],
   "source": [
    "daySummariesData = {}"
   ]
  },
  {
   "cell_type": "code",
   "execution_count": null,
   "metadata": {},
   "outputs": [],
   "source": [
    "penIds = [95, 83, 84, 1, 5, 119, 66, 37, 56, 60, 61]"
   ]
  },
  {
   "cell_type": "code",
   "execution_count": null,
   "metadata": {},
   "outputs": [],
   "source": [
    "columns = ['quality_score']\n",
    "\n",
    "start_date = '2020-05-01'\n",
    "end_date = '2020-06-04'\n",
    "    \n",
    "for penId in penIds:\n",
    "    print(penId)\n",
    "    \n",
    "    if penId in penIdData:\n",
    "        continue\n",
    "    \n",
    "    pen_id = penId\n",
    "    \n",
    "\n",
    "    rds_access_utils = RDSAccessUtils(json.load(open(os.environ['DATA_WAREHOUSE_SQL_CREDENTIALS'])))\n",
    "    query = \"\"\"\n",
    "            select captured_at, left_crop_metadata \n",
    "            from prod.crop_annotation\n",
    "            where pen_id={0}\n",
    "            and group_id='{0}'\n",
    "            and captured_at between '{1}' and '{2}'\n",
    "            and annotation_state_id in (1, 8)\n",
    "            and service_id=1;\n",
    "        \"\"\".format(pen_id, start_date, end_date)\n",
    "    print(query)\n",
    "    df = rds_access_utils.extract_from_database(query)\n",
    "    df = df.sort_values('captured_at', ascending=True)\n",
    "    df.index = pd.to_datetime(df.captured_at)\n",
    "    df['hour'] = df.index.hour.values\n",
    "    df['date'] = df.index.date.astype(str)\n",
    "    vals = df.left_crop_metadata.apply(lambda x: x.get('quality_score') if x else None)\n",
    "    df['quality_score'] = vals\n",
    "    \n",
    "    myFilter = (df['hour'] >= 6) & (df['hour'] <= 17)\n",
    "    myFilter2 = (df['hour'] < 6) | (df['hour'] > 17)\n",
    "    \n",
    "    myData = {}\n",
    "    \n",
    "    myData['hourlyAvg'] = df[columns].rolling('1H').mean().resample('H').apply(lambda x:x.tail(1) if x.shape[0] else np.nan)\n",
    "    myData['dailyAvg'] = df[columns].rolling('1D').mean().resample('D').apply(lambda x:x.tail(1) if x.shape[0] else np.nan)\n",
    "    myData['hourlyAvg1'] = df[myFilter][columns].rolling('1H').mean().resample('H').apply(lambda x:x.tail(1) if x.shape[0] else np.nan)\n",
    "    myData['dailyAvg1'] = df[myFilter][columns].rolling('1D').mean().resample('D').apply(lambda x:x.tail(1) if x.shape[0] else np.nan)\n",
    "    myData['hourlyAvg2'] = df[myFilter2][columns].rolling('1H').mean().resample('H').apply(lambda x:x.tail(1) if x.shape[0] else np.nan)\n",
    "    myData['dailyAvg2'] = df[myFilter2][columns].rolling('1D').mean().resample('D').apply(lambda x:x.tail(1) if x.shape[0] else np.nan)\n",
    "\n",
    "    myData['byHour'] = df.groupby(['hour']).mean()\n",
    "    myData['byHour1'] = df[myFilter].groupby(['hour']).mean()\n",
    "    myData['byHour2'] = df[myFilter2].groupby(['hour']).mean()\n",
    "    \n",
    "    penIdData[penId] = myData\n"
   ]
  },
  {
   "cell_type": "code",
   "execution_count": null,
   "metadata": {},
   "outputs": [],
   "source": [
    "startDate = '2020-05-01'\n",
    "endDate = '2020-06-04'\n",
    "    \n",
    "for penId in penIds:\n",
    "    daySummariesQuery = \"\"\"\n",
    "        select date, num_lati_fish\n",
    "        from day_summaries a\n",
    "        where a.pen_id = %i\n",
    "        and a.date >= '%s'\n",
    "        and a.date < '%s';\n",
    "    \"\"\" % (penId, startDate, endDate)\n",
    "\n",
    "    if penId in daySummariesData:\n",
    "        continue\n",
    "        \n",
    "    print(daySummariesQuery)\n",
    "\n",
    "    rds_access_utils = RDSAccessUtils(json.load(open(os.environ['PROD_SQL_CREDENTIALS'])))\n",
    "    daySummaries = rds_access_utils.extract_from_database(daySummariesQuery)\n",
    "        \n",
    "    daySummaries.index = daySummaries['date']\n",
    "    daySummaries = daySummaries.sort_index()\n",
    "\n",
    "    daySummariesData[penId] = daySummaries.copy()\n",
    "        "
   ]
  },
  {
   "cell_type": "code",
   "execution_count": null,
   "metadata": {},
   "outputs": [],
   "source": [
    "query = \"\"\"\n",
    "    select p.id as id, s.name as site_name, p.name as pen_name from customer.pens p\n",
    "    left join customer.sites s\n",
    "    on p.site_id = s.id\n",
    "    order by p.id;\n",
    "\"\"\"\n",
    "\n",
    "df_pens = rds_access_utils.extract_from_database(query)"
   ]
  },
  {
   "cell_type": "code",
   "execution_count": null,
   "metadata": {},
   "outputs": [],
   "source": [
    "fig, axes = plt.subplots(nrows = len(penIds), ncols = 1, figsize = (10, 10))\n",
    "fig.set_size_inches(20, len(penIds) * 10)\n",
    "fig.patch.set_facecolor('#E0E0E0')\n",
    "\n",
    "for index, penId in enumerate(penIds):\n",
    "    print(penId)\n",
    "    foundPenData = df_pens[df_pens.id == penId].values\n",
    "    \n",
    "    if len(foundPenData) > 0:\n",
    "        foundPen = foundPenData[0]\n",
    "        siteName = foundPen[1]\n",
    "        penName = foundPen[2]\n",
    "    else:\n",
    "        siteName = 'N/A'\n",
    "        penName = 'N/A'\n",
    "    \n",
    "    myData = penIdData[penId]\n",
    "    daySummaries = daySummariesData[penId]\n",
    "    \n",
    "    axes[index].bar(myData['dailyAvg'].index, np.log(myData['dailyAvg']['quality_score']))\n",
    "    #axes[index].bar(myData['dailyAvg2'].index, np.log(myData['dailyAvg2']['quality_score']), alpha = 0.5)\n",
    "    axes[index].axhline(y = np.log(0.01), linestyle = '--')\n",
    "    axes[index].set_title('%s %s (%i) Image Score Analysis' % (siteName, penName, penId))\n",
    "    axes[index].set_xlabel('Date')\n",
    "    axes[index].set_ylabel('Logarithm of image score')\n",
    "    axes[index].set_ylim((-20, 0))\n",
    "    \n",
    "    twinAxis = axes[index].twinx()\n",
    "    twinAxis.set_ylim((0, 70))\n",
    "    \n",
    "    twinAxis.bar(daySummaries.index, daySummaries['num_lati_fish'], color = 'red', alpha = 0.25)\n",
    "    twinAxis.set_ylabel('QA-ed image KPI')"
   ]
  },
  {
   "cell_type": "code",
   "execution_count": null,
   "metadata": {},
   "outputs": [],
   "source": [
    "fig, axes = plt.subplots(nrows = 6, ncols = 1, figsize = (10, 10))\n",
    "fig.set_size_inches(20, 40)\n",
    "\n",
    "filter0 = (hourlyAvg1.index > '2020-05-16') & (hourlyAvg1.index < '2020-05-19')\n",
    "filter1 = (hourlyAvg1.index > '2020-05-11') & (hourlyAvg1.index < '2020-05-15')\n",
    "filter2 = (hourlyAvg1.index > '2020-05-21') & (hourlyAvg1.index < '2020-05-27')\n",
    "filter3 = (hourlyAvg1.index > '2020-06-01') & (hourlyAvg1.index < '2020-06-04')\n",
    "filter02 = (hourlyAvg2.index > '2020-05-16') & (hourlyAvg2.index < '2020-05-19')\n",
    "filter12 = (hourlyAvg2.index > '2020-05-11') & (hourlyAvg2.index < '2020-05-15')\n",
    "filter22 = (hourlyAvg2.index > '2020-05-21') & (hourlyAvg2.index < '2020-05-27')\n",
    "filter32 = (hourlyAvg2.index > '2020-06-01') & (hourlyAvg2.index < '2020-06-04')\n",
    "\n",
    "axes[0].bar(dailyAvg.index, np.log(dailyAvg['quality_score']))\n",
    "axes[0].bar(dailyAvg2.index, np.log(dailyAvg2['quality_score']), alpha = 0.5)\n",
    "axes[0].set_title('Vikane Pen 1 Image Score Analysis')\n",
    "axes[0].set_xlabel('Date')\n",
    "axes[0].set_ylabel('Logarithm of image score')\n",
    "axes[2].bar(hourlyAvg[filter0].index, np.log(hourlyAvg[filter0]['quality_score']), width = 0.02)\n",
    "axes[2].bar(hourlyAvg2[filter02].index, np.log(hourlyAvg2[filter02]['quality_score']), width = 0.02)\n",
    "axes[2].set_title('On 5/18 around 8:28, camera is repositioned, improves images')\n",
    "axes[2].set_xlabel('Date')\n",
    "axes[2].set_ylabel('Logarithm of image score')\n",
    "axes[1].bar(hourlyAvg[filter1].index, np.log(hourlyAvg[filter1]['quality_score']), width = 0.02)\n",
    "axes[1].bar(hourlyAvg2[filter12].index, np.log(hourlyAvg2[filter12]['quality_score']), width = 0.02)\n",
    "axes[1].set_title('On 5/12 around 9:50, camera is repositioned, worsens images')\n",
    "axes[1].set_xlabel('Date')\n",
    "axes[1].set_ylabel('Logarithm of image score')\n",
    "axes[3].bar(hourlyAvg[filter2].index, np.log(hourlyAvg[filter2]['quality_score']), width = 0.02)\n",
    "axes[3].bar(hourlyAvg2[filter22].index, np.log(hourlyAvg2[filter22]['quality_score']), width = 0.02)\n",
    "axes[3].set_title('On 5/22, lights go off, come back on 5/25')\n",
    "axes[3].set_xlabel('Date')\n",
    "axes[3].set_ylabel('Logarithm of image score')\n",
    "axes[4].bar(hourlyAvg[filter3].index, np.log(hourlyAvg[filter3]['quality_score']), width = 0.02)\n",
    "axes[4].bar(hourlyAvg2[filter32].index, np.log(hourlyAvg2[filter32]['quality_score']), width = 0.02)\n",
    "axes[4].set_title('On 6/2, new camera installed in new position')\n",
    "axes[4].set_xlabel('Date')\n",
    "axes[4].set_ylabel('Logarithm of image score')\n",
    "axes[5].bar(byHour.index, byHour['quality_score'])\n",
    "axes[5].bar(byHour2.index, byHour2['quality_score'])\n",
    "axes[5].set_title('Vikane Pen 1 Image Score by Hour of Day')\n",
    "axes[5].set_xlabel('Hour of Day')\n",
    "axes[5].set_ylabel('Image score')"
   ]
  },
  {
   "cell_type": "code",
   "execution_count": null,
   "metadata": {},
   "outputs": [],
   "source": []
  },
  {
   "cell_type": "code",
   "execution_count": null,
   "metadata": {},
   "outputs": [],
   "source": [
    "vikane = dailyAvg"
   ]
  },
  {
   "cell_type": "code",
   "execution_count": null,
   "metadata": {},
   "outputs": [],
   "source": []
  }
 ],
 "metadata": {
  "kernelspec": {
   "display_name": "Python 3",
   "language": "python",
   "name": "python3"
  },
  "language_info": {
   "codemirror_mode": {
    "name": "ipython",
    "version": 3
   },
   "file_extension": ".py",
   "mimetype": "text/x-python",
   "name": "python",
   "nbconvert_exporter": "python",
   "pygments_lexer": "ipython3",
   "version": "3.6.5"
  }
 },
 "nbformat": 4,
 "nbformat_minor": 2
}
