{
 "cells": [
  {
   "cell_type": "code",
   "execution_count": null,
   "metadata": {},
   "outputs": [],
   "source": [
    "import json, os\n",
    "import pandas as pd\n",
    "import numpy as np\n",
    "import scipy.stats as stats\n",
    "import matplotlib.pyplot as plt\n",
    "import seaborn as sns\n",
    "from sklearn.decomposition import PCA\n",
    "\n",
    "from aquabyte.data_access_utils import RDSAccessUtils"
   ]
  },
  {
   "cell_type": "code",
   "execution_count": null,
   "metadata": {},
   "outputs": [],
   "source": [
    "%%javascript\n",
    "IPython.OutputArea.prototype._should_scroll = function(lines) {\n",
    "    return false;\n",
    "}"
   ]
  },
  {
   "cell_type": "code",
   "execution_count": null,
   "metadata": {},
   "outputs": [],
   "source": [
    "rds_access_utils = RDSAccessUtils(json.load(open(os.environ['PROD_SQL_CREDENTIALS'])))"
   ]
  },
  {
   "cell_type": "code",
   "execution_count": null,
   "metadata": {},
   "outputs": [],
   "source": [
    "query = \"\"\"\n",
    "    select p.id as id, s.name as site_name, p.name as pen_name from pens p\n",
    "    left join sites s\n",
    "    on p.site_id = s.id\n",
    "    order by p.id;\n",
    "\"\"\"\n",
    "\n",
    "df_pens = rds_access_utils.extract_from_database(query)\n",
    "\n",
    "pen_ids = [ 56, 60, 85, 86 ] #56 # 37 # 56, 60,\n",
    "#pen_ids = [ 56, 57, 58, 59, 60 ] #56 # 37 # 56, 60,\n",
    "# pen_ids = [ 56, 57, 58, 59, 60, 66, 37, 38, 95 ]\n",
    "# pen_ids = [ 56, 57, 58, 59, 60, 66 ]\n",
    "# pen_ids = [ 56, 57, 58, 59, 60 ]\n",
    "# pen_ids = [ 56, 57, 58, 59, 60, 85, 86 ]\n",
    "date = '2020-01-01'\n",
    "\n",
    "pen_infos = []\n",
    "\n",
    "#print(df_pens)\n",
    "\n",
    "for index, pen in df_pens.iterrows():\n",
    "    #if pen.id in pen_ids:\n",
    "    pen_infos.append((pen.id, pen.site_name, pen.pen_name))\n",
    "        \n",
    "#pen_id, site_name, pen_name = pen_infos[0]\n",
    "\n",
    "new_df = pd.DataFrame()\n",
    "\n",
    "for pen_id in pen_ids:\n",
    "    query = \"\"\"\n",
    "        select date, female_avg, female_moving_avg, moving_avg, moving_moving_avg, num_lati_fish, num_moving_avg_lati_fish\n",
    "        from day_summaries a\n",
    "        where a.pen_id = %i\n",
    "        and a.date >= '%s';\n",
    "    \"\"\" % (pen_id, date)\n",
    "\n",
    "    day_summaries = rds_access_utils.extract_from_database(query)\n",
    "\n",
    "    day_summaries.index = pd.to_datetime(day_summaries['date'])\n",
    "    day_summaries = day_summaries.sort_index()\n",
    "    new_df[pen_id] = day_summaries['num_lati_fish']\n",
    "    \n",
    "for pen_info in pen_infos:\n",
    "    print(pen_info)"
   ]
  },
  {
   "cell_type": "code",
   "execution_count": null,
   "metadata": {},
   "outputs": [],
   "source": [
    "avg_df = new_df.rolling(window=20,center=True).median().dropna()\n",
    "pca = PCA(n_components=2)\n",
    "pca.fit(avg_df.values)\n",
    "print(pca.explained_variance_ratio_)\n",
    "print(pca.components_)\n",
    "\n",
    "components = np.matmul(avg_df.values, pca.components_.T)\n",
    "\n",
    "fig, ax = plt.subplots(figsize=(7,3))\n",
    "\n",
    "fig.set_size_inches(15, 10)\n",
    "\n",
    "ax.plot(components[:,0], label = '1')\n",
    "ax.plot(components[:,1], label = '2')\n",
    "ax.legend()"
   ]
  },
  {
   "cell_type": "code",
   "execution_count": null,
   "metadata": {},
   "outputs": [],
   "source": [
    "avg_df = new_df.rolling(window=20,center=True).mean().dropna()\n",
    "pca = PCA(n_components=2)\n",
    "pca.fit(avg_df.values)\n",
    "print(pca.explained_variance_ratio_)\n",
    "print(pca.components_)\n",
    "\n",
    "components = np.matmul(avg_df.values, pca.components_.T)\n",
    "\n",
    "fig, ax = plt.subplots(figsize=(7,3))\n",
    "\n",
    "fig.set_size_inches(15, 10)\n",
    "\n",
    "ax.plot(components[:,0], label = '1')\n",
    "ax.plot(components[:,1], label = '2')\n",
    "ax.legend()"
   ]
  },
  {
   "cell_type": "code",
   "execution_count": null,
   "metadata": {},
   "outputs": [],
   "source": []
  },
  {
   "cell_type": "code",
   "execution_count": null,
   "metadata": {},
   "outputs": [],
   "source": [
    "fig, ax = plt.subplots(figsize=(7,3))\n",
    "\n",
    "fig.set_size_inches(15, 10)\n",
    "\n",
    "new_df.rolling(window=20,center=True).median().plot(ax=ax)"
   ]
  },
  {
   "cell_type": "code",
   "execution_count": null,
   "metadata": {},
   "outputs": [],
   "source": [
    "fig, ax = plt.subplots(figsize=(7,3))\n",
    "\n",
    "fig.set_size_inches(15, 10)\n",
    "\n",
    "new_df.rolling(window=20,center=True).median().plot(ax=ax)"
   ]
  },
  {
   "cell_type": "code",
   "execution_count": null,
   "metadata": {},
   "outputs": [],
   "source": [
    "# fig, ax = plt.subplots(figsize=(7,3))\n",
    "\n",
    "# fig.set_size_inches(15, 10)\n",
    "\n",
    "# new_df[[66, 95]].rolling(window=20,center=True).median().plot(ax=ax)"
   ]
  },
  {
   "cell_type": "code",
   "execution_count": null,
   "metadata": {},
   "outputs": [],
   "source": [
    "fig, ax = plt.subplots(figsize=(7,3))\n",
    "\n",
    "fig.set_size_inches(15, 10)\n",
    "\n",
    "new_df.rolling(window=20,center=True).mean().plot(ax=ax)"
   ]
  },
  {
   "cell_type": "code",
   "execution_count": null,
   "metadata": {},
   "outputs": [],
   "source": [
    "fig, ax = plt.subplots(figsize=(7,3))\n",
    "\n",
    "fig.set_size_inches(15, 10)\n",
    "\n",
    "new_df.rolling(window=20,center=True).median().plot(ax=ax)"
   ]
  },
  {
   "cell_type": "code",
   "execution_count": null,
   "metadata": {},
   "outputs": [],
   "source": [
    "avgCorr = np.concatenate([[0], np.mean(avgCorrs, axis=1)])\n",
    "indices = [0]\n",
    "\n",
    "for i in range(int(bucket / 2), int(bucket / 2) + step * (len(avgCorr) - 1), step):\n",
    "    indices.append(i)\n",
    "\n",
    "fig, ax = plt.subplots(figsize=(7,3))\n",
    "\n",
    "fig.set_size_inches(15, 10)\n",
    "\n",
    "ax.plot(new_df.index[indices], avgCorr)"
   ]
  },
  {
   "cell_type": "code",
   "execution_count": null,
   "metadata": {},
   "outputs": [],
   "source": []
  },
  {
   "cell_type": "code",
   "execution_count": null,
   "metadata": {},
   "outputs": [],
   "source": [
    "total = len(new_df)\n",
    "bucket = 30\n",
    "step = 3\n",
    "\n",
    "corrSeries = []\n",
    "\n",
    "for start in range(0, total - bucket + step, step):\n",
    "    end = start + bucket\n",
    "    \n",
    "    #print(start, end)\n",
    "    \n",
    "    corr = new_df.ix[start:end].corr()\n",
    "    \n",
    "    #print(corr)\n",
    "    \n",
    "    corrSeries.append(corr.values)\n",
    "    \n",
    "labels = new_df.columns\n",
    "numPens = len(labels)\n",
    "\n",
    "corrSeries = np.array(corrSeries)\n",
    "\n",
    "print(corrSeries.shape)\n",
    "\n",
    "fig, ax = plt.subplots(numPens + 1)\n",
    "\n",
    "fig.set_size_inches(15, (numPens + 1) * 10)\n",
    "\n",
    "avgCorrs = []\n",
    "for period in range(corrSeries.shape[0]):\n",
    "    periodCorrs = []\n",
    "\n",
    "    for index, pen in enumerate(labels):\n",
    "        penPeriodAvg = (np.sum(corrSeries[period,index,:]) - 1) / (numPens - 1)\n",
    "        \n",
    "        periodCorrs.append(penPeriodAvg)\n",
    "    avgCorrs.append(periodCorrs)\n",
    "\n",
    "avgCorrs = np.array(avgCorrs)\n",
    "\n",
    "for index, pen in enumerate(labels):\n",
    "    ax[0].plot(avgCorrs[:,index], label = pen)\n",
    "\n",
    "ax[0].set_title('Avg pen correlation')\n",
    "ax[0].legend(bbox_to_anchor=(1.05, 1), loc='upper left', borderaxespad=0.)\n",
    "\n",
    "for o_index, o_pen in enumerate(labels):\n",
    "    for index, pen in enumerate(labels):\n",
    "        if o_pen == pen:\n",
    "            continue\n",
    "\n",
    "        ax[o_index + 1].plot(corrSeries[:, o_index, index], label = pen)\n",
    "\n",
    "    ax[o_index + 1].set_title('%i pen correlation' % (o_pen, ))\n",
    "    ax[o_index + 1].legend(bbox_to_anchor=(1.05, 1), loc='upper left', borderaxespad=0.)"
   ]
  },
  {
   "cell_type": "code",
   "execution_count": null,
   "metadata": {},
   "outputs": [],
   "source": [
    "labels"
   ]
  },
  {
   "cell_type": "code",
   "execution_count": null,
   "metadata": {},
   "outputs": [],
   "source": []
  },
  {
   "cell_type": "code",
   "execution_count": null,
   "metadata": {},
   "outputs": [],
   "source": [
    "avgCorrs"
   ]
  },
  {
   "cell_type": "code",
   "execution_count": null,
   "metadata": {},
   "outputs": [],
   "source": []
  }
 ],
 "metadata": {
  "kernelspec": {
   "display_name": "Python 3",
   "language": "python",
   "name": "python3"
  },
  "language_info": {
   "codemirror_mode": {
    "name": "ipython",
    "version": 3
   },
   "file_extension": ".py",
   "mimetype": "text/x-python",
   "name": "python",
   "nbconvert_exporter": "python",
   "pygments_lexer": "ipython3"
  }
 },
 "nbformat": 4,
 "nbformat_minor": 2
}
