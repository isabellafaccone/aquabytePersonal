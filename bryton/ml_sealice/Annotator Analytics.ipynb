{
 "cells": [
  {
   "cell_type": "code",
   "execution_count": null,
   "metadata": {},
   "outputs": [],
   "source": [
    "import json, os\n",
    "import pandas as pd\n",
    "import numpy as np\n",
    "import matplotlib.pyplot as plt\n",
    "plt.rcParams['axes.facecolor'] = 'white'\n",
    "import matplotlib.colors\n",
    "\n",
    "import pytz \n",
    "\n",
    "from datetime import timedelta, datetime\n",
    "\n",
    "from research.utils.data_access_utils import RDSAccessUtils"
   ]
  },
  {
   "cell_type": "code",
   "execution_count": null,
   "metadata": {},
   "outputs": [],
   "source": [
    "queryCache = {}"
   ]
  },
  {
   "cell_type": "code",
   "execution_count": null,
   "metadata": {},
   "outputs": [],
   "source": [
    "rds_access_utils = RDSAccessUtils(json.load(open(os.environ['DATA_WAREHOUSE_SQL_CREDENTIALS'])))"
   ]
  },
  {
   "cell_type": "code",
   "execution_count": null,
   "metadata": {},
   "outputs": [],
   "source": [
    "dates = [\n",
    "    '2020-10-01',\n",
    "    '2020-10-02',\n",
    "    '2020-10-03',\n",
    "    '2020-10-04',\n",
    "    '2020-10-05',\n",
    "    '2020-10-06',\n",
    "    '2020-10-07',\n",
    "    '2020-10-08',\n",
    "    '2020-10-09',\n",
    "    '2020-10-10',\n",
    "    '2020-10-11',\n",
    "    '2020-10-12',\n",
    "    '2020-10-13',\n",
    "    '2020-10-14',\n",
    "    '2020-10-15'\n",
    "]"
   ]
  },
  {
   "cell_type": "code",
   "execution_count": null,
   "metadata": {},
   "outputs": [],
   "source": [
    "def get_duration(annotation_state_id, start_date, end_date):\n",
    "    query = \"\"\"\n",
    "        SELECT ca1.ts_source_start, ca1.ts_source_end FROM prod.crop_annotation ca1 \n",
    "        INNER JOIN prod.crop_annotation ca2 on ca1.left_crop_url = ca2.left_crop_url\n",
    "        WHERE ca1.service_id = 1 and ca1.annotation_state_id = 2 and ca1.captured_at >= '{1}' and ca1.captured_at <= '{2}' and ca1.left_crop_url is not null\n",
    "            and ca2.service_id = 1 and ca2.annotation_state_id = {0} and ca2.captured_at >= '{1}' and ca2.captured_at <= '{2}' and ca2.left_crop_url is not null\n",
    "        union\n",
    "        SELECT ca1.ts_source_start, ca1.ts_source_end FROM prod.crop_annotation ca1 \n",
    "        INNER JOIN prod.crop_annotation ca2 on ca1.right_crop_url = ca2.right_crop_url\n",
    "        WHERE ca1.service_id = 1 and ca1.annotation_state_id = 2 and ca1.captured_at >= '{1}' and ca1.captured_at <= '{2}' and ca1.left_crop_url is null and ca1.right_crop_url is not null\n",
    "            and ca2.service_id = 1 and ca2.annotation_state_id = {0} and ca2.captured_at >= '{1}' and ca2.captured_at <= '{2}' and ca2.left_crop_url is null and ca2.right_crop_url is not null\n",
    "        ;\n",
    "    \"\"\".format(annotation_state_id, start_date, end_date)\n",
    "\n",
    "    if query in queryCache:\n",
    "        return queryCache[query]\n",
    "    \n",
    "    df = rds_access_utils.extract_from_database(query)\n",
    "    queryCache[query] = df\n",
    "    \n",
    "    return df"
   ]
  },
  {
   "cell_type": "code",
   "execution_count": null,
   "metadata": {},
   "outputs": [],
   "source": [
    "def get_duration_qa(annotation_state_id, start_date, end_date):\n",
    "    query = \"\"\"\n",
    "        SELECT ca1.ts_source_start, ca1.ts_source_end FROM prod.crop_annotation ca1 \n",
    "        INNER JOIN prod.crop_annotation ca2 on ca1.left_crop_url = ca2.left_crop_url\n",
    "        WHERE ca1.service_id = 1 and ca1.annotation_state_id = 5 and ca1.captured_at >= '{1}' and ca1.captured_at <= '{2}' and ca1.left_crop_url is not null\n",
    "            and ca2.service_id = 1 and ca2.annotation_state_id = {0} and ca2.captured_at >= '{1}' and ca2.captured_at <= '{2}' and ca2.left_crop_url is not null\n",
    "        union\n",
    "        SELECT ca1.ts_source_start, ca1.ts_source_end FROM prod.crop_annotation ca1 \n",
    "        INNER JOIN prod.crop_annotation ca2 on ca1.right_crop_url = ca2.right_crop_url\n",
    "        WHERE ca1.service_id = 1 and ca1.annotation_state_id = 5 and ca1.captured_at >= '{1}' and ca1.captured_at <= '{2}' and ca1.left_crop_url is null and ca1.right_crop_url is not null\n",
    "            and ca2.service_id = 1 and ca2.annotation_state_id = {0} and ca2.captured_at >= '{1}' and ca2.captured_at <= '{2}' and ca2.left_crop_url is null and ca2.right_crop_url is not null\n",
    "        ;\n",
    "    \"\"\".format(annotation_state_id, start_date, end_date)\n",
    "\n",
    "    if query in queryCache:\n",
    "        return queryCache[query]\n",
    "    \n",
    "    df = rds_access_utils.extract_from_database(query)\n",
    "    queryCache[query] = df\n",
    "    \n",
    "    return df"
   ]
  },
  {
   "cell_type": "code",
   "execution_count": null,
   "metadata": {},
   "outputs": [],
   "source": [
    "results = []\n",
    "\n",
    "for index, date in enumerate(dates):\n",
    "    if index == 0:\n",
    "        continue\n",
    "\n",
    "    start_date = dates[index - 1]\n",
    "    end_date = date\n",
    "    \n",
    "    print(date)\n",
    "\n",
    "    rejects = get_duration(4, start_date, end_date)\n",
    "    #rejects = get_duration_qa(6, start_date, end_date)\n",
    "    duration_rejects = rejects['ts_source_end'] - rejects['ts_source_start']\n",
    "    secs_rejects = [d.total_seconds() for d in duration_rejects ]\n",
    "    \n",
    "    accepts = get_duration(3, start_date, end_date)\n",
    "    #accepts = get_duration_qa(7, start_date, end_date)\n",
    "    duration_accepts = accepts['ts_source_end'] - accepts['ts_source_start']\n",
    "    secs_accepts = [d.total_seconds() for d in duration_accepts ]\n",
    "    \n",
    "    rt = np.median(secs_rejects) * len(secs_rejects)\n",
    "    at = np.median(secs_accepts) * len(secs_accepts)\n",
    "    tt = rt + at\n",
    "    \n",
    "    results.append((date, tt, rt, at, np.mean(secs_rejects), np.median(secs_rejects), len(secs_rejects), np.mean(secs_accepts), np.median(secs_accepts), len(secs_accepts)))"
   ]
  },
  {
   "cell_type": "code",
   "execution_count": null,
   "metadata": {},
   "outputs": [],
   "source": [
    "for result in results:\n",
    "    print(result[0], result[1] / 60 / 60 / 26)"
   ]
  },
  {
   "cell_type": "code",
   "execution_count": null,
   "metadata": {},
   "outputs": [],
   "source": [
    "382112.0 / 60 / 60 / 26"
   ]
  },
  {
   "cell_type": "code",
   "execution_count": null,
   "metadata": {},
   "outputs": [],
   "source": [
    "# 48 hours\n",
    "results"
   ]
  },
  {
   "cell_type": "code",
   "execution_count": null,
   "metadata": {},
   "outputs": [],
   "source": []
  },
  {
   "cell_type": "code",
   "execution_count": null,
   "metadata": {},
   "outputs": [],
   "source": []
  }
 ],
 "metadata": {
  "kernelspec": {
   "display_name": "Python 3",
   "language": "python",
   "name": "python3"
  },
  "language_info": {
   "codemirror_mode": {
    "name": "ipython",
    "version": 3
   },
   "file_extension": ".py",
   "mimetype": "text/x-python",
   "name": "python",
   "nbconvert_exporter": "python",
   "pygments_lexer": "ipython3",
   "version": "3.6.5"
  }
 },
 "nbformat": 4,
 "nbformat_minor": 4
}
