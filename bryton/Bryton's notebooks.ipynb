{
 "cells": [
  {
   "cell_type": "code",
   "execution_count": null,
   "metadata": {},
   "outputs": [],
   "source": [
    "import pandas as pd\n",
    "import numpy as np\n",
    "from sklearn.decomposition import PCA\n",
    "import matplotlib.pyplot as plt\n",
    "import statsmodels.api as sm\n",
    "import scipy.stats as stats"
   ]
  },
  {
   "cell_type": "code",
   "execution_count": null,
   "metadata": {},
   "outputs": [],
   "source": [
    "df = pd.read_csv('/root/thomas/github/cv_research/thomas/full_pipeline/small_pen/dataset_predictions_complete.csv')\n",
    "\n",
    "new_df = df.dropna()\n",
    "\n",
    "my_mean = new_df.mean()\n",
    "#my_sd = np.std(new_df, axis=0)\n",
    "\n",
    "#print(my_mean)\n",
    "\n",
    "means = []\n",
    "stds = []\n",
    "\n",
    "my_columns = df.columns[1:-2]\n",
    "\n",
    "print(my_columns)\n",
    "\n",
    "norm_df = new_df.copy()\n",
    "\n",
    "for x in my_columns:\n",
    "    my_mean = new_df[x].median()\n",
    "    my_std = new_df[x].std()\n",
    "    my_iqr = stats.iqr(new_df[x])\n",
    "    \n",
    "    means.append(my_mean)\n",
    "    stds.append(my_std)\n",
    "    \n",
    "    #print(my_mean)\n",
    "    #print(my_std)\n",
    "    #print((new_df[x] - my_mean) / my_std)\n",
    "    \n",
    "    my_row = new_df[x].copy()\n",
    "    new_df[x] = my_row / my_iqr\n",
    "    norm_df[x] = (my_row - my_mean) / my_std\n",
    "    \n",
    "norm_df"
   ]
  },
  {
   "cell_type": "code",
   "execution_count": null,
   "metadata": {},
   "outputs": [],
   "source": []
  },
  {
   "cell_type": "code",
   "execution_count": null,
   "metadata": {},
   "outputs": [],
   "source": [
    "my_df = new_df.loc[:, '12':'67']\n",
    "my_norm_df = norm_df.loc[:, '12':'67']\n",
    "\n",
    "print(my_norm_df)\n",
    "array_subset = (np.abs(my_norm_df) > 1).any(axis=1) == False\n",
    "\n",
    "my_df = my_df.loc[array_subset, :]\n",
    "\n",
    "#Y = new_df['ground_truth']\n",
    "Y = new_df['ground_truth'][array_subset]\n",
    "\n",
    "print(my_df.shape, Y.shape)\n",
    "\n",
    "#my_df_X = np.hstack((my_df, my_df ** 2, my_df ** 3))\n",
    "pidx = np.indices((my_df.shape[1], my_df.shape[1])).reshape(2, -1)\n",
    "lcol = pd.MultiIndex.from_product([my_df.columns, my_df.columns],\n",
    "                                  names=[my_df.columns.name, my_df.columns.name])\n",
    "my_df_X = pd.DataFrame(my_df.values[:, pidx[0]] * my_df.values[:, pidx[1]],\n",
    "             columns=lcol)\n",
    "\n",
    "print(my_df_X.shape)"
   ]
  },
  {
   "cell_type": "code",
   "execution_count": null,
   "metadata": {},
   "outputs": [],
   "source": [
    "my_df_X.shape"
   ]
  },
  {
   "cell_type": "code",
   "execution_count": null,
   "metadata": {},
   "outputs": [],
   "source": [
    "pca = PCA(n_components=100)\n",
    "\n",
    "pca.fit(my_df_X)"
   ]
  },
  {
   "cell_type": "code",
   "execution_count": null,
   "metadata": {},
   "outputs": [],
   "source": [
    "eigenvalues = pca.explained_variance_ratio_\n",
    "print(np.sum(eigenvalues))"
   ]
  },
  {
   "cell_type": "code",
   "execution_count": null,
   "metadata": {},
   "outputs": [],
   "source": [
    "components = pca.components_\n",
    "\n",
    "newX = np.dot(my_df_X, components.T)\n",
    "\n",
    "newX\n",
    "\n",
    "#outlierIndices = np.where(newX[:,0] > 10)\n",
    "#my_indices = my_df.index[outlierIndices[0]]\n",
    "\n",
    "\n",
    "#my_df.loc[my_indices,:]"
   ]
  },
  {
   "cell_type": "code",
   "execution_count": null,
   "metadata": {},
   "outputs": [],
   "source": [
    "plt.scatter(newX[:,0], Y)#plt.scatter(np.log(newX[:,0]),np.log(Y))\n",
    "plt.show()"
   ]
  },
  {
   "cell_type": "code",
   "execution_count": null,
   "metadata": {},
   "outputs": [],
   "source": [
    "#myX = newX[:, 0]\n",
    "myX = newX\n",
    "myY = Y\n",
    "\n",
    "plt.scatter(newX[:, 0], Y)\n",
    "plt.show()\n",
    "\n",
    "myX = sm.add_constant(myX)\n",
    "\n",
    "#print(myX)\n",
    "#print(myY)\n",
    "\n",
    "model = sm.OLS(myY, myX).fit()\n",
    "predictions = model.predict(myX) # make the predictions by the model\n",
    "\n",
    "#print(model.summary())\n",
    "\n",
    "predY = predictions\n",
    "#predY = np.exp(predictions)\n",
    "\n",
    "#model.summary()\n",
    "\n",
    "error = predY - myY\n",
    "\n",
    "plt.scatter(Y, predY)\n",
    "\n",
    "res = model.resid\n",
    "fig = sm.qqplot(res)\n",
    "\n",
    "plt.show()\n",
    "\n",
    "print('Error: %0.2f' % (np.median(np.abs(error)), ))\n",
    "print('Pct Error: %0.2f' % (np.median(np.abs(error) / myY * 100), ))\n"
   ]
  },
  {
   "cell_type": "code",
   "execution_count": null,
   "metadata": {},
   "outputs": [],
   "source": [
    "def getError(n_components):\n",
    "    pca = PCA(n_components=n_components)\n",
    "\n",
    "    pca.fit(my_df_X)\n",
    "    \n",
    "    components = pca.components_\n",
    "\n",
    "    newX = np.dot(my_df_X, components.T)\n",
    "    \n",
    "    myX = newX\n",
    "    myY = Y\n",
    "\n",
    "    myX = sm.add_constant(myX)\n",
    "\n",
    "    model = sm.OLS(myY, myX).fit()\n",
    "    predictions = model.predict(myX) # make the predictions by the model\n",
    "\n",
    "    predY = predictions\n",
    "    error = predY - myY\n",
    "\n",
    "    return (np.median(np.abs(error)), np.median(np.abs(error) / myY * 100))"
   ]
  },
  {
   "cell_type": "code",
   "execution_count": null,
   "metadata": {},
   "outputs": [],
   "source": [
    "#n_eigens = [1, 5, 10, 20, 30, 40, 50, 60, 70, 80, 90, 100, 125, 150, 200]\n",
    "n_eigens = [1, 2, 3, 4, 5, 6, 7, 8, 9, 10]\n",
    "\n",
    "errors = []\n",
    "\n",
    "for n_eigen in n_eigens:\n",
    "    myError = getError(n_eigen)\n",
    "    errors.append(myError[1])\n",
    "    \n",
    "plt.plot(n_eigens, errors)\n",
    "plt.xlabel('Number of regressors')\n",
    "plt.ylabel('Median error %')\n",
    "plt.show()"
   ]
  },
  {
   "cell_type": "code",
   "execution_count": null,
   "metadata": {},
   "outputs": [],
   "source": [
    "'''\n",
    "Extensions to this\n",
    "- Use cross-validation\n",
    "- Try different filtering based off of total norm of covariance of eigenvectors\n",
    "- More data\n",
    "'''"
   ]
  },
  {
   "cell_type": "code",
   "execution_count": null,
   "metadata": {},
   "outputs": [],
   "source": []
  },
  {
   "cell_type": "code",
   "execution_count": null,
   "metadata": {},
   "outputs": [],
   "source": []
  }
 ],
 "metadata": {
  "kernelspec": {
   "display_name": "Python 3",
   "language": "python",
   "name": "python3"
  },
  "language_info": {
   "codemirror_mode": {
    "name": "ipython",
    "version": 3
   },
   "file_extension": ".py",
   "mimetype": "text/x-python",
   "name": "python",
   "nbconvert_exporter": "python",
   "pygments_lexer": "ipython3",
   "version": "3.5.2"
  }
 },
 "nbformat": 4,
 "nbformat_minor": 2
}
