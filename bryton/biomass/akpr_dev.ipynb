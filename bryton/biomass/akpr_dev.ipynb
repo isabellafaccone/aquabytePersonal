{
 "cells": [
  {
   "cell_type": "code",
   "execution_count": null,
   "metadata": {},
   "outputs": [],
   "source": [
    "from akpr.src.akpr import generate_refined_keypoints"
   ]
  },
  {
   "cell_type": "code",
   "execution_count": null,
   "metadata": {},
   "outputs": [],
   "source": [
    "\n",
    "from research.utils.data_access_utils import S3AccessUtils, RDSAccessUtils\n",
    "import json\n",
    "import pandas as pd\n",
    "import os\n",
    "import matplotlib.pyplot as plt\n",
    "from PIL import Image\n",
    "import cv2\n",
    "import numpy as np\n",
    "s3_access_utils = S3AccessUtils('/root/data', json.load(open(os.environ['AWS_CREDENTIALS'])))\n"
   ]
  },
  {
   "cell_type": "code",
   "execution_count": null,
   "metadata": {},
   "outputs": [],
   "source": [
    "f = s3_access_utils.download_from_s3(\"aquabyte-images-adhoc\", \"jane/weight_estimation/pen_37_2020-06-13_2020-06-20_3950_-1.csv\")\n",
    "dat = pd.read_csv(f)\n"
   ]
  },
  {
   "cell_type": "code",
   "execution_count": null,
   "metadata": {},
   "outputs": [],
   "source": [
    "for ind in range(10):\n",
    "    ann = json.loads(dat.iloc[ind]['annotation'].replace(\"'\", '\"'))\n",
    "    left_crop_url, right_crop_url  = dat.iloc[ind]['left_crop_url'], dat.iloc[ind]['right_crop_url']\n",
    "    crop_url = {'left_crop_url': left_crop_url, \n",
    "                'right_crop_url' : right_crop_url}\n",
    "    modified_ann = generate_refined_keypoints(ann, left_crop_url, right_crop_url)\n",
    "\n",
    "    with open('tests/test_case/t{}_crop_url.json'.format(ind), \"w\") as json_file:\n",
    "        json.dump(crop_url, json_file)\n",
    "    with open('tests/test_case/t{}_ann.json'.format(ind), 'w') as json_file:\n",
    "        json.dump(ann, json_file)\n",
    "    with open('tests/test_case/t{}_modified_ann.json'.format(ind), 'w') as json_file:\n",
    "        json.dump(modified_ann, json_file)"
   ]
  },
  {
   "cell_type": "code",
   "execution_count": null,
   "metadata": {},
   "outputs": [],
   "source": [
    "str2dict = lambda x: json.loads(x.replace(\"'\", \"\\\"\")) if x is not np.nan else None\n",
    "\n",
    "def ann2dict(kps):\n",
    "    \"\"\"\n",
    "    Parameters: \n",
    "    ----------\n",
    "    kps : either annotation['leftCrop'] or annotation ['rightCrop']\n",
    "        \n",
    "    Returns:\n",
    "    ----------\n",
    "    dictionary\n",
    "    \"\"\"\n",
    "    return {item['keypointType']: [item['xCrop'], item['yCrop']] for item in kps}\n",
    "\n",
    "def plot_image_url(url):\n",
    "\n",
    "    image_f, bucket, image_key = s3_access_utils.download_from_url(url)\n",
    "\n",
    "    img = Image.open(image_f)\n",
    "\n",
    "    alpha = 2 # Contrast control (1.0-3.0)\n",
    "    beta = 20 # Brightness control (0-100)\n",
    "\n",
    "    img = np.asarray(img)\n",
    "    adjusted = cv2.convertScaleAbs(img, alpha=alpha, beta=beta)\n",
    "    return adjusted\n",
    "\n",
    "\n",
    "def display_crops(left_url, right_url, ann, overlay_keypoints=True, show_labels=False):\n",
    "    \n",
    "    fig, axes = plt.subplots(1, 2, figsize=(20, 20))\n",
    "    left_image, right_image = plot_image_url(left_url), plot_image_url(right_url)\n",
    "    axes[0].imshow(left_image)\n",
    "    axes[1].imshow(right_image)\n",
    "\n",
    "    left_keypoints = ann2dict(ann['leftCrop'])\n",
    "    right_keypoints = ann2dict(ann['rightCrop'])\n",
    "    \n",
    "    if overlay_keypoints:\n",
    "        for bp, kp in left_keypoints.items():\n",
    "            axes[0].scatter([kp[0]], [kp[1]], color='red', s=5)\n",
    "            if show_labels:\n",
    "                axes[0].annotate(bp, (kp[0], kp[1]), color='red')\n",
    "        for bp, kp in right_keypoints.items():\n",
    "            axes[1].scatter([kp[0]], [kp[1]], color='red', s=5)\n",
    "            if show_labels:\n",
    "                axes[1].annotate(bp, (kp[0], kp[1]), color='red')\n",
    "    plt.show()\n",
    "\n",
    "def display_refinement(right_url, ann, modified_ann, overlay_keypoints=True, show_labels=False):\n",
    "    \n",
    "    fig, axes = plt.subplots(figsize=(20, 20))\n",
    "    right_image = plot_image_url(right_url)\n",
    "\n",
    "    axes.imshow(right_image)\n",
    "\n",
    "    right_keypoints = ann2dict(ann['rightCrop'])\n",
    "    modified_right_keypoints = ann2dict(modified_ann['rightCrop'])\n",
    "\n",
    "\n",
    "    for bp, kp in right_keypoints.items():\n",
    "        axes.scatter([kp[0]], [kp[1]], color='red', s=5)\n",
    "        if show_labels:\n",
    "            axes.annotate(bp, (kp[0], kp[1]), color='red')\n",
    "    for bp, kp in modified_right_keypoints.items():\n",
    "        axes.scatter([kp[0]], [kp[1]], color='blue', s=5)\n",
    "        if show_labels:\n",
    "            axes.annotate(bp, (kp[0], kp[1]), color='blue')\n",
    "    plt.show()"
   ]
  },
  {
   "cell_type": "code",
   "execution_count": null,
   "metadata": {},
   "outputs": [],
   "source": [
    "display_refinement(right_crop_url, ann, modified_ann)\n"
   ]
  },
  {
   "cell_type": "code",
   "execution_count": null,
   "metadata": {},
   "outputs": [],
   "source": []
  }
 ],
 "metadata": {
  "kernelspec": {
   "display_name": "Python 3",
   "language": "python",
   "name": "python3"
  },
  "language_info": {
   "codemirror_mode": {
    "name": "ipython",
    "version": 3
   },
   "file_extension": ".py",
   "mimetype": "text/x-python",
   "name": "python",
   "nbconvert_exporter": "python",
   "pygments_lexer": "ipython3",
   "version": "3.6.5"
  }
 },
 "nbformat": 4,
 "nbformat_minor": 4
}
