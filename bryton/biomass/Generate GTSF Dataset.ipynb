{
 "cells": [
  {
   "cell_type": "code",
   "execution_count": 8,
   "id": "relative-combination",
   "metadata": {},
   "outputs": [],
   "source": [
    "import pandas as pd\n",
    "\n",
    "from research.weight_estimation.gtsf_data.gtsf_dataset import GTSFDataset"
   ]
  },
  {
   "cell_type": "code",
   "execution_count": null,
   "id": "corresponding-tourist",
   "metadata": {},
   "outputs": [],
   "source": [
    "# df1 = prepare_gtsf_data('2019-03-01', '2019-09-20', akpd_scorer_f, 0.5, 1.0)\n",
    "\n",
    "# df2 = prepare_gtsf_data('2020-06-01', '2020-08-20', akpd_scorer_f, 0.5, 1.0)"
   ]
  },
  {
   "cell_type": "code",
   "execution_count": 6,
   "id": "surrounded-output",
   "metadata": {},
   "outputs": [
    {
     "name": "stdout",
     "output_type": "stream",
     "text": [
      "Raw dataframe loaded!\n",
      "Dataset preparation beginning...\n",
      "3D spatial information added!\n",
      "Adding AKPD scores...\n",
      "Converting world keypoints to matrix form...\n",
      "Raw dataframe loaded!\n",
      "Dataset preparation beginning...\n"
     ]
    },
    {
     "name": "stderr",
     "output_type": "stream",
     "text": [
      "/home/user/miniconda/envs/py36/lib/python3.6/site-packages/research/weight_estimation/keypoint_utils/optics.py:37: RuntimeWarning: divide by zero encountered in true_divide\n",
      "  depth = focal_length_pixel * baseline / np.array(disp)\n"
     ]
    },
    {
     "name": "stdout",
     "output_type": "stream",
     "text": [
      "3D spatial information added!\n",
      "Adding AKPD scores...\n",
      "Converting world keypoints to matrix form...\n"
     ]
    },
    {
     "ename": "NameError",
     "evalue": "name 'pd' is not defined",
     "output_type": "error",
     "traceback": [
      "\u001b[0;31m---------------------------------------------------------------------------\u001b[0m",
      "\u001b[0;31mNameError\u001b[0m                                 Traceback (most recent call last)",
      "\u001b[0;32m<ipython-input-6-7d56e268c91b>\u001b[0m in \u001b[0;36m<module>\u001b[0;34m\u001b[0m\n\u001b[1;32m      7\u001b[0m \u001b[0mdf2\u001b[0m \u001b[0;34m=\u001b[0m \u001b[0mgtsf_dataset2\u001b[0m\u001b[0;34m.\u001b[0m\u001b[0mget_prepared_dataset\u001b[0m\u001b[0;34m(\u001b[0m\u001b[0;34m)\u001b[0m\u001b[0;34m\u001b[0m\u001b[0m\n\u001b[1;32m      8\u001b[0m \u001b[0;34m\u001b[0m\u001b[0m\n\u001b[0;32m----> 9\u001b[0;31m \u001b[0mdf\u001b[0m \u001b[0;34m=\u001b[0m \u001b[0mpd\u001b[0m\u001b[0;34m.\u001b[0m\u001b[0mconcat\u001b[0m\u001b[0;34m(\u001b[0m\u001b[0;34m[\u001b[0m\u001b[0mdf1\u001b[0m\u001b[0;34m,\u001b[0m \u001b[0mdf2\u001b[0m\u001b[0;34m]\u001b[0m\u001b[0;34m)\u001b[0m\u001b[0;34m\u001b[0m\u001b[0m\n\u001b[0m\u001b[1;32m     10\u001b[0m \u001b[0;34m\u001b[0m\u001b[0m\n\u001b[1;32m     11\u001b[0m \u001b[0mprint\u001b[0m\u001b[0;34m(\u001b[0m\u001b[0mdf\u001b[0m\u001b[0;34m.\u001b[0m\u001b[0mshape\u001b[0m\u001b[0;34m)\u001b[0m\u001b[0;34m\u001b[0m\u001b[0m\n",
      "\u001b[0;31mNameError\u001b[0m: name 'pd' is not defined"
     ]
    }
   ],
   "source": [
    "akpd_scorer_url = 'https://aquabyte-models.s3-us-west-1.amazonaws.com/keypoint-detection-scorer/akpd_scorer_model_TF.h5'\n",
    "\n",
    "gtsf_dataset1 = GTSFDataset('2019-03-01', '2019-09-20', akpd_scorer_url)\n",
    "df1 = gtsf_dataset1.get_prepared_dataset()\n",
    "\n",
    "gtsf_dataset2 = GTSFDataset('2020-06-01', '2020-08-20', akpd_scorer_url)\n",
    "df2 = gtsf_dataset2.get_prepared_dataset()\n",
    "\n"
   ]
  },
  {
   "cell_type": "code",
   "execution_count": 9,
   "id": "prepared-preparation",
   "metadata": {},
   "outputs": [
    {
     "name": "stdout",
     "output_type": "stream",
     "text": [
      "(16186, 40)\n"
     ]
    }
   ],
   "source": [
    "df = pd.concat([df1, df2])\n",
    "\n",
    "print(df.shape)"
   ]
  },
  {
   "cell_type": "code",
   "execution_count": 11,
   "id": "respiratory-prison",
   "metadata": {},
   "outputs": [],
   "source": [
    "df.head()\n",
    "\n",
    "df2 = df[df.akpd_score > 0.5]"
   ]
  },
  {
   "cell_type": "code",
   "execution_count": 14,
   "id": "simplified-first",
   "metadata": {},
   "outputs": [],
   "source": [
    "df2.to_csv('/root/data/bryton/gtsf.csv')"
   ]
  },
  {
   "cell_type": "code",
   "execution_count": null,
   "id": "thermal-recipe",
   "metadata": {},
   "outputs": [],
   "source": []
  }
 ],
 "metadata": {
  "kernelspec": {
   "display_name": "Python 3",
   "language": "python",
   "name": "python3"
  },
  "language_info": {
   "codemirror_mode": {
    "name": "ipython",
    "version": 3
   },
   "file_extension": ".py",
   "mimetype": "text/x-python",
   "name": "python",
   "nbconvert_exporter": "python",
   "pygments_lexer": "ipython3",
   "version": "3.6.5"
  }
 },
 "nbformat": 4,
 "nbformat_minor": 5
}
