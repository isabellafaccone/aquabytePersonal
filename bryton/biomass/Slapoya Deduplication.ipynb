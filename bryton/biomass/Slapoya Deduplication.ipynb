{
 "cells": [
  {
   "cell_type": "code",
   "execution_count": null,
   "metadata": {},
   "outputs": [],
   "source": [
    "import math\n",
    "import json\n",
    "import os\n",
    "import pandas as pd\n",
    "import numpy as np\n",
    "from datetime import datetime, timezone, timedelta, time\n",
    "from research.utils.data_access_utils import RDSAccessUtils\n",
    "from research.weight_estimation.keypoint_utils.optics import euclidean_distance, pixel2world, depth_from_disp, convert_to_world_point\n",
    "import matplotlib.pyplot as plt\n",
    "from matplotlib.dates import AutoDateFormatter, AutoDateLocator\n",
    "\n",
    "rds_access_utils = RDSAccessUtils(json.load(open(os.environ['DATA_WAREHOUSE_SQL_CREDENTIALS'])))"
   ]
  },
  {
   "cell_type": "code",
   "execution_count": null,
   "metadata": {},
   "outputs": [],
   "source": [
    "duplicates = pd.read_csv('slapoya_p1_duplicate.csv')\n",
    "\n",
    "duplicates = duplicates.sort_values('captured_at').copy(deep=True)\n",
    "duplicates.index = pd.to_datetime(duplicates.captured_at)\n",
    "dates = duplicates.index.date.astype(str)\n",
    "duplicates['date'] = dates\n",
    "duplicates['hour'] = duplicates.index.hour"
   ]
  },
  {
   "cell_type": "code",
   "execution_count": null,
   "metadata": {},
   "outputs": [],
   "source": [
    "mask = (duplicates['is_duplicate'] == 1)\n",
    "\n",
    "plt.figure(figsize=(20, 10))\n",
    "\n",
    "\n",
    "plt.hist(duplicates[mask]['hour'], alpha = 0.5, color = 'blue', density = True, bins = 24)\n",
    "plt.hist(duplicates[~mask]['hour'], alpha = 0.5, color = 'red', density = True, bins = 24)"
   ]
  },
  {
   "cell_type": "code",
   "execution_count": null,
   "metadata": {},
   "outputs": [],
   "source": [
    "from scipy.stats import t, norm\n",
    "\n",
    "mask0 = (duplicates['captured_at'] > '2020-10-26') & (duplicates['captured_at'] < '2020-10-30')\n",
    "\n",
    "#mask1 = mask0 & (np.abs(duplicates['theta']) < 10) & (np.abs(duplicates['phi']) < 10)\n",
    "mask1 = mask0 & (np.abs(duplicates['hour']) > 5) & (np.abs(duplicates['hour']) < 17)\n",
    "mask2 = mask1 & (duplicates['is_duplicate'] == 0)\n",
    "\n",
    "print(sum(mask0), sum(mask1), sum(mask2))\n",
    "\n",
    "dist1 = duplicates[mask1]\n",
    "dist2 = duplicates[mask2]\n",
    "\n",
    "# df, mean, std = t.fit(dist1['estimated_weight_g'])\n",
    "# df2, mean2, std2 = t.fit(dist2['estimated_weight_g'])\n",
    "# gt_df, gt_mean, gt_std = t.fit(gt_weights)\n",
    "mean, std = norm.fit(dist1['estimated_weight_g'])\n",
    "mean2, std2 = norm.fit(dist2['estimated_weight_g'])\n",
    "# gt_mean, gt_std = norm.fit(gt_weights)\n",
    "\n",
    "print(len(dist1), len(dist2))\n",
    "\n",
    "plt.figure(figsize=(20, 10))\n",
    "\n",
    "plt.hist(dist1['estimated_weight_g'], color = 'blue', alpha = 0.5, density = True, bins = 30)\n",
    "plt.hist(dist2['estimated_weight_g'], color = 'red', alpha = 0.5, density = True, bins = 30)\n",
    "# plt.hist(gt_weights, color = 'red', alpha = 0.5, density = True, bins = 30)\n",
    "\n",
    "xmin, xmax = plt.xlim()\n",
    "x = np.linspace(xmin, xmax, 1000)\n",
    "\n",
    "#y = t.pdf(x, df, mean, std)\n",
    "y = norm.pdf(x, mean, std)\n",
    "plt.plot(x, y)\n",
    "y2 = norm.pdf(x, mean2, std2)\n",
    "# plt.plot(x, y2)\n",
    "#plt.plot(x, y + 10 * (y - y2), color = 'green', linestyle = '-')\n",
    "\n",
    "new_x = x - 5 * (np.mean(dist1['estimated_weight_g']) - np.mean(dist2['estimated_weight_g']))\n",
    "plt.plot(new_x, y + 10 * (y - y2), color = 'red', linestyle = '-')\n",
    "\n",
    "# gt_x = np.linspace(xmin, xmax, 1000)\n",
    "# #gt_y = t.pdf(gt_x, gt_df, gt_mean, gt_std)\n",
    "# gt_y = norm.pdf(gt_x, gt_mean, gt_std)\n",
    "# plt.plot(gt_x, gt_y, color = 'black', linewidth = 4)\n",
    "\n",
    "plt.figure(figsize=(20, 10))\n",
    "plt.hist(dist2['estimated_weight_g'], color = 'blue', alpha = 0.5, density = True, bins = 30)\n",
    "# plt.hist(gt_weights, color = 'red', alpha = 0.5, density = True, bins = 30)"
   ]
  },
  {
   "cell_type": "code",
   "execution_count": null,
   "metadata": {},
   "outputs": [],
   "source": [
    "print(mean, mean2)"
   ]
  },
  {
   "cell_type": "code",
   "execution_count": null,
   "metadata": {},
   "outputs": [],
   "source": []
  }
 ],
 "metadata": {
  "kernelspec": {
   "display_name": "Python 3",
   "language": "python",
   "name": "python3"
  },
  "language_info": {
   "codemirror_mode": {
    "name": "ipython",
    "version": 3
   },
   "file_extension": ".py",
   "mimetype": "text/x-python",
   "name": "python",
   "nbconvert_exporter": "python",
   "pygments_lexer": "ipython3",
   "version": "3.6.5"
  }
 },
 "nbformat": 4,
 "nbformat_minor": 4
}
