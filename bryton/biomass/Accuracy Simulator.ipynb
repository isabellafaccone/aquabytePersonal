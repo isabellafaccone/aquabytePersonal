{
 "cells": [
  {
   "cell_type": "code",
   "execution_count": null,
   "metadata": {},
   "outputs": [],
   "source": [
    "import numpy as np\n",
    "import matplotlib.pyplot as plt"
   ]
  },
  {
   "cell_type": "code",
   "execution_count": null,
   "metadata": {},
   "outputs": [],
   "source": [
    "mean = 5000\n",
    "cv = 0.2\n",
    "num = 100000\n",
    "\n",
    "sd = 0.06\n",
    "sample_num = 1000\n",
    "\n",
    "growth_rate = 0.01"
   ]
  },
  {
   "cell_type": "code",
   "execution_count": null,
   "metadata": {},
   "outputs": [],
   "source": [
    "from sklearn.linear_model import LinearRegression\n",
    "\n",
    "acc1 = []\n",
    "acc2 = []\n",
    "acc3 = []\n",
    "\n",
    "for i in np.arange(0, 1000):\n",
    "    pop = np.abs(np.random.normal(mean, cv * mean, num))\n",
    "    pop_avg = np.mean(pop)\n",
    "\n",
    "    pop_bias_corr = (np.mean(pop * (1 + 0.1 * (pop / pop_avg - 1))) - pop_avg) / pop_avg\n",
    "    \n",
    "    sample = np.random.choice(pop, sample_num)\n",
    "    \n",
    "    selected = []\n",
    "\n",
    "    for fish in sample:\n",
    "        selected.append(np.random.normal(fish, sd * fish) * ((1 + 0.1 * (fish / pop_avg - 1)) - pop_bias_corr))\n",
    "        \n",
    "    acc1.append(np.mean(sample) / pop_avg)\n",
    "    acc2.append(np.mean(selected) / pop_avg)\n",
    "    \n",
    "adj3 = 1 / np.exp(.03)\n",
    "adj2 = 1 / np.exp(.02)\n",
    "adj1 = 1 / np.exp(.01)\n",
    "\n",
    "sample_num_2 = 250\n",
    "\n",
    "for i in np.arange(0, 1000):\n",
    "    pop = np.abs(np.random.normal(mean, cv * mean, num))\n",
    "    pop_avg = np.mean(pop)\n",
    "\n",
    "    pop1 = np.abs(np.random.normal(pop_avg * adj1, cv * pop_avg * adj1, num))\n",
    "    pop2 = np.abs(np.random.normal(pop_avg * adj2, cv * pop_avg * adj2, num))\n",
    "    pop3 = np.abs(np.random.normal(pop_avg * adj3, cv * pop_avg * adj3, num))\n",
    "\n",
    "    sample = np.random.choice(pop, sample_num_2)\n",
    "    sample1 = np.random.choice(pop1, sample_num_2)\n",
    "    sample2 = np.random.choice(pop2, sample_num_2)\n",
    "    sample3 = np.random.choice(pop3, sample_num_2)\n",
    "\n",
    "    selected = []\n",
    "    selected1 = []\n",
    "    selected2 = []\n",
    "    selected3 = []\n",
    "\n",
    "    for fish in sample:\n",
    "        selected.append(np.random.normal(fish, sd * fish) * ((1 + 0.1 * (fish / pop_avg - 1)) - pop_bias_corr))\n",
    "    for fish in sample1:\n",
    "        selected1.append(np.random.normal(fish, sd * fish) * ((1 + 0.1 * (fish / pop_avg - 1)) - pop_bias_corr))\n",
    "    for fish in sample2:\n",
    "        selected2.append(np.random.normal(fish, sd * fish) * ((1 + 0.1 * (fish / pop_avg - 1)) - pop_bias_corr))\n",
    "    for fish in sample3:\n",
    "        selected3.append(np.random.normal(fish, sd * fish) * ((1 + 0.1 * (fish / pop_avg - 1)) - pop_bias_corr))\n",
    "\n",
    "    X = np.array([[3], [2], [1]])\n",
    "    y = np.array([np.log(np.mean(selected) / np.mean(selected3)), np.log(np.mean(selected) / np.mean(selected2)), np.log(np.mean(selected) / np.mean(selected1))])\n",
    "\n",
    "    reg = LinearRegression().fit(X, y)\n",
    "\n",
    "    selected_all = np.concatenate((selected3 * np.exp(reg.coef_ * 3), selected2 * np.exp(reg.coef_ * 2), selected1 * np.exp(reg.coef_ * 1), selected))\n",
    "    acc3.append(np.mean(selected_all) / pop_avg)\n"
   ]
  },
  {
   "cell_type": "code",
   "execution_count": null,
   "metadata": {},
   "outputs": [],
   "source": [
    "np.exp(.02)"
   ]
  },
  {
   "cell_type": "code",
   "execution_count": null,
   "metadata": {},
   "outputs": [],
   "source": [
    "plt.hist(acc1)"
   ]
  },
  {
   "cell_type": "code",
   "execution_count": null,
   "metadata": {},
   "outputs": [],
   "source": [
    "plt.hist(acc2)"
   ]
  },
  {
   "cell_type": "code",
   "execution_count": null,
   "metadata": {},
   "outputs": [],
   "source": [
    "plt.hist(acc3)"
   ]
  },
  {
   "cell_type": "code",
   "execution_count": null,
   "metadata": {},
   "outputs": [],
   "source": []
  }
 ],
 "metadata": {
  "kernelspec": {
   "display_name": "Python 3",
   "language": "python",
   "name": "python3"
  },
  "language_info": {
   "codemirror_mode": {
    "name": "ipython",
    "version": 3
   },
   "file_extension": ".py",
   "mimetype": "text/x-python",
   "name": "python",
   "nbconvert_exporter": "python",
   "pygments_lexer": "ipython3",
   "version": "3.6.5"
  }
 },
 "nbformat": 4,
 "nbformat_minor": 4
}
