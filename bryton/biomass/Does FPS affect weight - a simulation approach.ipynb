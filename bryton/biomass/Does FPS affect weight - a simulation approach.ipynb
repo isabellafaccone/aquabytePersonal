{
 "cells": [
  {
   "cell_type": "code",
   "execution_count": null,
   "metadata": {},
   "outputs": [],
   "source": [
    "import numpy as np\n",
    "from matplotlib import pyplot as plt"
   ]
  },
  {
   "cell_type": "code",
   "execution_count": null,
   "metadata": {},
   "outputs": [],
   "source": [
    "fish_pop1 = 50000\n",
    "fish_pop2 = 50000\n",
    "\n",
    "length1 = np.random.uniform(0.5, 0.75, fish_pop1)\n",
    "weight1 = np.exp(9.5 + 3.1 * np.log(length1))\n",
    "velocity1 = length1\n",
    "\n",
    "length2 = np.random.uniform(0.75, 1, fish_pop2)\n",
    "weight2 = np.exp(9.5 + 3.1 * np.log(length2))\n",
    "velocity2 = length2\n",
    "\n",
    "weight = (fish_pop1 * np.mean(weight1) + fish_pop2 * np.mean(weight2)) / (fish_pop1 + fish_pop2)\n",
    "\n",
    "depth1 = 1.25\n",
    "depth2 = 1.75\n",
    "\n",
    "num_fish1 = 100\n",
    "num_fish2 = 200"
   ]
  },
  {
   "cell_type": "code",
   "execution_count": null,
   "metadata": {},
   "outputs": [],
   "source": [
    "np.mean(weight)"
   ]
  },
  {
   "cell_type": "code",
   "execution_count": null,
   "metadata": {},
   "outputs": [],
   "source": [
    "FPS = 0.5\n",
    "\n",
    "prob1 = np.maximum((1.04 * depth1 - length1) * FPS / velocity1, 0)\n",
    "prob2 = np.maximum((1.04 * depth2 - length2) * FPS / velocity2, 0)\n",
    "obvs1 = 1 / prob1\n",
    "obvs2 = 1 / prob2\n",
    "\n",
    "avgs1 = []\n",
    "\n",
    "for i in np.arange(0, 10000):\n",
    "    fish_ids1 = np.random.choice(np.arange(0, fish_pop1), num_fish1)\n",
    "    total_obvs1 = np.sum([ obvs1[fish_id] for fish_id in fish_ids1 ])\n",
    "    avg_weight1 = np.sum([ weight1[fish_id] * obvs1[fish_id] for fish_id in fish_ids1 ]) / total_obvs1\n",
    "    \n",
    "    fish_ids2 = np.random.choice(np.arange(0, fish_pop2), num_fish2)\n",
    "    total_obvs2 = np.sum([ obvs2[fish_id] for fish_id in fish_ids2 ])\n",
    "    avg_weight2 = np.sum([ weight2[fish_id] * obvs2[fish_id] for fish_id in fish_ids2 ]) / total_obvs2\n",
    "\n",
    "    avg_weight = (num_fish1 * avg_weight1 + num_fish2 * avg_weight2) / (num_fish1 + num_fish2)\n",
    "    \n",
    "    avgs1.append(avg_weight)\n",
    "    \n",
    "plt.hist(avgs1, bins = 50)\n",
    "print(np.mean(avgs1))"
   ]
  },
  {
   "cell_type": "code",
   "execution_count": null,
   "metadata": {},
   "outputs": [],
   "source": [
    "FPS = 1\n",
    "\n",
    "prob1 = np.maximum((1.04 * depth1 - length1) * FPS / velocity1, 0)\n",
    "prob2 = np.maximum((1.04 * depth2 - length2) * FPS / velocity2, 0)\n",
    "obvs1 = 1 / prob1\n",
    "obvs2 = 1 / prob2\n",
    "\n",
    "avgs1 = []\n",
    "\n",
    "for i in np.arange(0, 10000):\n",
    "    fish_ids1 = np.random.choice(np.arange(0, fish_pop1), num_fish1)\n",
    "    total_obvs1 = np.sum([ obvs1[fish_id] for fish_id in fish_ids1 ])\n",
    "    avg_weight1 = np.sum([ weight1[fish_id] * obvs1[fish_id] for fish_id in fish_ids1 ]) / total_obvs1\n",
    "    \n",
    "    fish_ids2 = np.random.choice(np.arange(0, fish_pop2), num_fish2)\n",
    "    total_obvs2 = np.sum([ obvs2[fish_id] for fish_id in fish_ids2 ])\n",
    "    avg_weight2 = np.sum([ weight2[fish_id] * obvs2[fish_id] for fish_id in fish_ids2 ]) / total_obvs2\n",
    "\n",
    "    avg_weight = (num_fish1 * avg_weight1 + num_fish2 * avg_weight2) / (num_fish1 + num_fish2)\n",
    "    \n",
    "    avgs1.append(avg_weight)\n",
    "    \n",
    "plt.hist(avgs1, bins = 50)\n",
    "print(np.mean(avgs1))"
   ]
  },
  {
   "cell_type": "code",
   "execution_count": null,
   "metadata": {},
   "outputs": [],
   "source": [
    "FPS = 2\n",
    "\n",
    "prob1 = np.maximum((1.04 * depth1 - length1) * FPS / velocity1, 0)\n",
    "prob2 = np.maximum((1.04 * depth2 - length2) * FPS / velocity2, 0)\n",
    "obvs1 = 1 / prob1\n",
    "obvs2 = 1 / prob2\n",
    "\n",
    "avgs1 = []\n",
    "\n",
    "for i in np.arange(0, 10000):\n",
    "    fish_ids1 = np.random.choice(np.arange(0, fish_pop1), num_fish1)\n",
    "    total_obvs1 = np.sum([ obvs1[fish_id] for fish_id in fish_ids1 ])\n",
    "    avg_weight1 = np.sum([ weight1[fish_id] * obvs1[fish_id] for fish_id in fish_ids1 ]) / total_obvs1\n",
    "    \n",
    "    fish_ids2 = np.random.choice(np.arange(0, fish_pop2), num_fish2)\n",
    "    total_obvs2 = np.sum([ obvs2[fish_id] for fish_id in fish_ids2 ])\n",
    "    avg_weight2 = np.sum([ weight2[fish_id] * obvs2[fish_id] for fish_id in fish_ids2 ]) / total_obvs2\n",
    "\n",
    "    avg_weight = (num_fish1 * avg_weight1 + num_fish2 * avg_weight2) / (num_fish1 + num_fish2)\n",
    "    \n",
    "    avgs1.append(avg_weight)\n",
    "    \n",
    "plt.hist(avgs1, bins = 50)\n",
    "print(np.mean(avgs1))"
   ]
  },
  {
   "cell_type": "code",
   "execution_count": null,
   "metadata": {},
   "outputs": [],
   "source": [
    "counts, bins = np.histogram(avgs1 + avgs2 + avgs3, bins = 50)\n",
    "\n",
    "plt.hist(avgs1, bins = bins)\n",
    "plt.hist(avgs2, bins = bins)\n",
    "plt.hist(avgs3, bins = bins)"
   ]
  },
  {
   "cell_type": "code",
   "execution_count": null,
   "metadata": {},
   "outputs": [],
   "source": [
    "np.histogram(avgs1)"
   ]
  },
  {
   "cell_type": "code",
   "execution_count": null,
   "metadata": {},
   "outputs": [],
   "source": [
    "FPS = 100\n",
    "prob = np.maximum(np.minimum((1.04 * depth - length) * FPS / velocity, 1), 0)\n",
    "\n",
    "weight_prob = list(zip(weight, prob))\n",
    "\n",
    "avgs = []\n",
    "\n",
    "for i in np.arange(0, 10000):\n",
    "    fish_ids = np.random.choice(np.arange(0, fish_pop), num_fish)\n",
    "    \n",
    "    total_weight = np.sum([ 1 / prob[fish_id] for fish_id in fish_ids ])\n",
    "    avg_weight = np.sum([ weight[fish_id] / prob[fish_id] for fish_id in fish_ids ]) / total_weight\n",
    "    avgs.append(avg_weight)\n",
    "    \n",
    "plt.hist(avgs, bins = 50)\n",
    "print(np.mean(avgs))"
   ]
  },
  {
   "cell_type": "code",
   "execution_count": null,
   "metadata": {},
   "outputs": [],
   "source": [
    "# FPS = 3\n",
    "# prob = np.maximum(np.minimum((1.04 * depth - length) * FPS / velocity, 1), 0)\n",
    "# p = prob / np.sum(prob)\n",
    "\n",
    "# avgs = []\n",
    "\n",
    "# for i in np.arange(0, 10000):\n",
    "#     draw = np.random.choice(weight, 100, p=p)\n",
    "#     avgs.append(np.mean(draw))\n",
    "    \n",
    "# plt.hist(avgs, bins = 50)\n",
    "# print(np.mean(avgs))"
   ]
  },
  {
   "cell_type": "code",
   "execution_count": null,
   "metadata": {},
   "outputs": [],
   "source": []
  }
 ],
 "metadata": {
  "kernelspec": {
   "display_name": "Python 3",
   "language": "python",
   "name": "python3"
  },
  "language_info": {
   "codemirror_mode": {
    "name": "ipython",
    "version": 3
   },
   "file_extension": ".py",
   "mimetype": "text/x-python",
   "name": "python",
   "nbconvert_exporter": "python",
   "pygments_lexer": "ipython3",
   "version": "3.6.5"
  }
 },
 "nbformat": 4,
 "nbformat_minor": 4
}
