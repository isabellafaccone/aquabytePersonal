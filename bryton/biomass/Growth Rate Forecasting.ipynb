{
 "cells": [
  {
   "cell_type": "code",
   "execution_count": null,
   "metadata": {},
   "outputs": [],
   "source": [
    "import json, os\n",
    "import pandas as pd\n",
    "import numpy as np\n",
    "import matplotlib.pyplot as plt\n",
    "import warnings\n",
    "warnings.filterwarnings('ignore')\n",
    "\n",
    "from statsmodels.tsa.arima_model import ARIMA\n",
    "import statsmodels.api as sm\n",
    "from statsmodels.tsa.api import VAR\n",
    "from datetime import timedelta, datetime, time\n",
    "\n",
    "from research.utils.data_access_utils import RDSAccessUtils\n",
    "\n",
    "rds_access_utils = RDSAccessUtils(json.load(open(os.environ['PROD_SQL_CREDENTIALS'])))"
   ]
  },
  {
   "cell_type": "code",
   "execution_count": null,
   "metadata": {},
   "outputs": [],
   "source": [
    "pen_id = 56\n",
    "\n",
    "query = \"\"\"\n",
    "    select date, site_id, pen_id, biomass_data\n",
    "    from day_summaries a\n",
    "    where a.pen_id = %i\n",
    "    and a.date >= '2020-04-01';\n",
    "\"\"\" % (pen_id, )\n",
    "\n",
    "df = rds_access_utils.extract_from_database(query)\n",
    "\n",
    "df.index = pd.to_datetime(day_summaries['date'])\n",
    "df = day_summaries.sort_index()"
   ]
  },
  {
   "cell_type": "code",
   "execution_count": null,
   "metadata": {},
   "outputs": [],
   "source": [
    "import datetime\n",
    "\n",
    "df.iloc[0]['date'] + datetime.timedelta(days=1)"
   ]
  },
  {
   "cell_type": "code",
   "execution_count": null,
   "metadata": {},
   "outputs": [],
   "source": [
    "rawAvgWeight = []\n",
    "rawNumFish = []\n",
    "\n",
    "for index, row in df.iterrows():\n",
    "    rawAvgWeight.append(row['biomass_data']['rawData']['avgWeight'])\n",
    "    rawNumFish.append(row['biomass_data']['rawData']['numFish'])\n",
    "    \n",
    "df['rawAvgWeight'] = rawAvgWeight\n",
    "df['rawNumFish'] = rawNumFish\n"
   ]
  },
  {
   "cell_type": "code",
   "execution_count": null,
   "metadata": {},
   "outputs": [],
   "source": [
    "row['biomass_data']"
   ]
  },
  {
   "cell_type": "code",
   "execution_count": null,
   "metadata": {},
   "outputs": [],
   "source": [
    "lastRawAvgWeight = []\n",
    "\n",
    "for index, row in df.iterrows():\n",
    "    lastDate = row['date'] - datetime.timedelta(days=1)\n",
    "    lastRow = df[(df.date == lastDate)]\n",
    "    if len(lastRow) > 0:\n",
    "        lastRawAvgWeight.append(lastRow.ix[0, 'rawAvgWeight'])\n",
    "    else:\n",
    "        lastRawAvgWeight.append(None)\n",
    "        \n",
    "df['lastRawAvgWeight'] = lastRawAvgWeight"
   ]
  },
  {
   "cell_type": "code",
   "execution_count": null,
   "metadata": {},
   "outputs": [],
   "source": [
    "plt.scatter(df['rawAvgWeight'], df['lastRawAvgWeight'])"
   ]
  },
  {
   "cell_type": "code",
   "execution_count": null,
   "metadata": {},
   "outputs": [],
   "source": [
    "df['growthRate'] = (df['rawAvgWeight'] - df['lastRawAvgWeight']) / df['lastRawAvgWeight']"
   ]
  },
  {
   "cell_type": "code",
   "execution_count": null,
   "metadata": {},
   "outputs": [],
   "source": [
    "plt.plot(df['growthRate'])"
   ]
  },
  {
   "cell_type": "code",
   "execution_count": null,
   "metadata": {},
   "outputs": [],
   "source": [
    "lastGrowthRate = []\n",
    "\n",
    "for index, row in df.iterrows():\n",
    "    lastDate = row['date'] - datetime.timedelta(days=1)\n",
    "    lastRow = df[(df.date == lastDate)]\n",
    "    if len(lastRow) > 0:\n",
    "        lastGrowthRate.append(lastRow.ix[0, 'growthRate'])\n",
    "    else:\n",
    "        lastGrowthRate.append(None)\n",
    "        \n",
    "df['lastGrowthRate'] = lastGrowthRate"
   ]
  },
  {
   "cell_type": "code",
   "execution_count": null,
   "metadata": {},
   "outputs": [],
   "source": [
    "lastLastGrowthRate = []\n",
    "\n",
    "for index, row in df.iterrows():\n",
    "    lastDate = row['date'] - datetime.timedelta(days=1)\n",
    "    lastRow = df[(df.date == lastDate)]\n",
    "    if len(lastRow) > 0:\n",
    "        lastLastGrowthRate.append(lastRow.ix[0, 'lastGrowthRate'])\n",
    "    else:\n",
    "        lastLastGrowthRate.append(None)\n",
    "        \n",
    "df['last2GrowthRate'] = lastLastGrowthRate"
   ]
  },
  {
   "cell_type": "code",
   "execution_count": null,
   "metadata": {},
   "outputs": [],
   "source": [
    "lastLastGrowthRate = []\n",
    "\n",
    "for index, row in df.iterrows():\n",
    "    lastDate = row['date'] - datetime.timedelta(days=1)\n",
    "    lastRow = df[(df.date == lastDate)]\n",
    "    if len(lastRow) > 0:\n",
    "        lastLastGrowthRate.append(lastRow.ix[0, 'last2GrowthRate'])\n",
    "    else:\n",
    "        lastLastGrowthRate.append(None)\n",
    "        \n",
    "df['last3GrowthRate'] = lastLastGrowthRate"
   ]
  },
  {
   "cell_type": "code",
   "execution_count": null,
   "metadata": {},
   "outputs": [],
   "source": [
    "lastLastGrowthRate = []\n",
    "\n",
    "for index, row in df.iterrows():\n",
    "    lastDate = row['date'] - datetime.timedelta(days=1)\n",
    "    lastRow = df[(df.date == lastDate)]\n",
    "    if len(lastRow) > 0:\n",
    "        lastLastGrowthRate.append(lastRow.ix[0, 'last3GrowthRate'])\n",
    "    else:\n",
    "        lastLastGrowthRate.append(None)\n",
    "        \n",
    "df['last4GrowthRate'] = lastLastGrowthRate"
   ]
  },
  {
   "cell_type": "code",
   "execution_count": null,
   "metadata": {},
   "outputs": [],
   "source": [
    "lastLastGrowthRate = []\n",
    "\n",
    "for index, row in df.iterrows():\n",
    "    lastDate = row['date'] - datetime.timedelta(days=1)\n",
    "    lastRow = df[(df.date == lastDate)]\n",
    "    if len(lastRow) > 0:\n",
    "        lastLastGrowthRate.append(lastRow.ix[0, 'last4GrowthRate'])\n",
    "    else:\n",
    "        lastLastGrowthRate.append(None)\n",
    "        \n",
    "df['last5GrowthRate'] = lastLastGrowthRate"
   ]
  },
  {
   "cell_type": "code",
   "execution_count": null,
   "metadata": {},
   "outputs": [],
   "source": [
    "plt.scatter(df['lastGrowthRate'], df['growthRate'])"
   ]
  },
  {
   "cell_type": "code",
   "execution_count": null,
   "metadata": {},
   "outputs": [],
   "source": [
    "import statsmodels.api as sm\n",
    "\n",
    "df2 = df[(np.isfinite(df['last5GrowthRate'])) & (np.isfinite(df['last4GrowthRate'])) & (np.isfinite(df['last3GrowthRate'])) & (np.isfinite(df['last2GrowthRate'])) & (np.isfinite(df['lastGrowthRate'])) & (np.isfinite(df['growthRate']))]\n",
    "\n",
    "X = df2[['lastGrowthRate', 'last2GrowthRate', 'last3GrowthRate', 'last4GrowthRate', 'last5GrowthRate']]\n",
    "X = sm.add_constant(X)\n",
    "y = df2['growthRate']\n",
    "model = sm.OLS(y, X)\n",
    "results = model.fit()\n",
    "\n",
    "print(results.summary())"
   ]
  },
  {
   "cell_type": "code",
   "execution_count": null,
   "metadata": {},
   "outputs": [],
   "source": [
    "(np.isfinite(df['lastGrowthRate'])) & (df['growthRate'] is not None)"
   ]
  },
  {
   "cell_type": "code",
   "execution_count": null,
   "metadata": {},
   "outputs": [],
   "source": [
    "df['lastGrowthRate']"
   ]
  },
  {
   "cell_type": "code",
   "execution_count": null,
   "metadata": {},
   "outputs": [],
   "source": []
  }
 ],
 "metadata": {
  "kernelspec": {
   "display_name": "Python 3",
   "language": "python",
   "name": "python3"
  },
  "language_info": {
   "codemirror_mode": {
    "name": "ipython",
    "version": 3
   },
   "file_extension": ".py",
   "mimetype": "text/x-python",
   "name": "python",
   "nbconvert_exporter": "python",
   "pygments_lexer": "ipython3",
   "version": "3.6.5"
  }
 },
 "nbformat": 4,
 "nbformat_minor": 4
}
