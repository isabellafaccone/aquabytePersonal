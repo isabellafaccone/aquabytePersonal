{
 "cells": [
  {
   "cell_type": "code",
   "execution_count": null,
   "metadata": {},
   "outputs": [],
   "source": [
    "import json\n",
    "import os\n",
    "import pandas as pd\n",
    "import numpy as np\n",
    "from datetime import datetime, timezone, timedelta, time\n",
    "from research.utils.data_access_utils import RDSAccessUtils\n",
    "from research.weight_estimation.keypoint_utils.optics import euclidean_distance, pixel2world, depth_from_disp, convert_to_world_point\n",
    "import matplotlib.pyplot as plt\n",
    "from matplotlib.dates import AutoDateFormatter, AutoDateLocator\n",
    "\n",
    "rds_access_utils = RDSAccessUtils(json.load(open(os.environ['DATA_WAREHOUSE_SQL_CREDENTIALS'])))"
   ]
  },
  {
   "cell_type": "code",
   "execution_count": null,
   "metadata": {},
   "outputs": [],
   "source": [
    "rds_access_utils = RDSAccessUtils(json.load(open(os.environ['PROD_SQL_CREDENTIALS'])))\n",
    "\n",
    "query = \"\"\"\n",
    "    select * from day_summaries\n",
    "    where pen_id = %i\n",
    "    and biomass_data is not null;\n",
    "\"\"\" % (125, )\n",
    "\n",
    "df = rds_access_utils.extract_from_database(query)  "
   ]
  },
  {
   "cell_type": "code",
   "execution_count": null,
   "metadata": {},
   "outputs": [],
   "source": [
    "for index, row in df.iterrows(): \n",
    "    date = row['date']\n",
    "    numFish = row['biomass_data']['rawData']['numFish']\n",
    "    avgWeight = row['biomass_data']['rawData']['avgWeight']\n",
    "    print(date, numFish, avgWeight)"
   ]
  },
  {
   "cell_type": "code",
   "execution_count": null,
   "metadata": {},
   "outputs": [],
   "source": [
    "queryCache = {}"
   ]
  },
  {
   "cell_type": "code",
   "execution_count": null,
   "metadata": {},
   "outputs": [],
   "source": [
    "pen1 = pd.read_csv('pen1.csv')\n",
    "pen2 = pd.read_csv('pen2.csv')"
   ]
  },
  {
   "cell_type": "code",
   "execution_count": null,
   "metadata": {},
   "outputs": [],
   "source": [
    "np.mean(pen1.weight), np.mean(pen2.weight)"
   ]
  },
  {
   "cell_type": "code",
   "execution_count": null,
   "metadata": {},
   "outputs": [],
   "source": [
    "plt.hist(pen1.weight)"
   ]
  },
  {
   "cell_type": "code",
   "execution_count": null,
   "metadata": {},
   "outputs": [],
   "source": [
    "plt.hist(pen2.weight)"
   ]
  },
  {
   "cell_type": "code",
   "execution_count": null,
   "metadata": {},
   "outputs": [],
   "source": [
    "rds_access_utils = RDSAccessUtils(json.load(open(os.environ['DATA_WAREHOUSE_SQL_CREDENTIALS'])))\n",
    "\n",
    "def getPenDF(pen):\n",
    "    akpd_filter = 0.99\n",
    "\n",
    "    query = \"\"\"\n",
    "       SELECT captured_at, estimated_weight_g, akpd_score FROM prod.biomass_computations\n",
    "        WHERE prod.biomass_computations.captured_at >= '%s'\n",
    "        AND prod.biomass_computations.captured_at <= '%s'\n",
    "        AND prod.biomass_computations.akpd_score > %0.4f\n",
    "        AND prod.biomass_computations.pen_id = %i;\n",
    "    \"\"\" % (pen['start_date'], pen['end_date'], akpd_filter, pen['pen_id'])\n",
    "\n",
    "    if query in queryCache:\n",
    "        df = queryCache[query].copy()\n",
    "    else:\n",
    "        df = rds_access_utils.extract_from_database(query)\n",
    "        queryCache[query] = df.copy()\n",
    "\n",
    "    df = df.sort_values('captured_at').copy(deep=True)\n",
    "    df.index = pd.to_datetime(df.captured_at)\n",
    "    dates = df.index.date.astype(str)\n",
    "    df['date'] = dates\n",
    "    df['hour'] = df.index.hour\n",
    "    \n",
    "    return df\n",
    "\n",
    "pens = [\n",
    "    {\n",
    "        'pen_id': 124,\n",
    "        'start_date': '2020-08-20 00:00',\n",
    "        'end_date': '2020-08-28 00:00'\n",
    "    },\n",
    "    {\n",
    "        'pen_id': 125,\n",
    "        'start_date': '2020-08-20 00:00',\n",
    "        'end_date': '2020-08-28 00:00'\n",
    "    },\n",
    "    {\n",
    "        'pen_id': 56,\n",
    "        'start_date': '2020-08-20 00:00',\n",
    "        'end_date': '2020-08-28 00:00'\n",
    "    },\n",
    "    {\n",
    "        'pen_id': 60,\n",
    "        'start_date': '2020-08-20 00:00',\n",
    "        'end_date': '2020-08-28 00:00'\n",
    "    },\n",
    "    {\n",
    "        'pen_id': 125,\n",
    "        'start_date': '2020-08-17 00:00',\n",
    "        'end_date': '2020-08-18 00:00'\n",
    "    }\n",
    "]\n",
    "\n",
    "df1 = getPenDF(pens[0])\n",
    "df2 = getPenDF(pens[1])\n",
    "df3 = getPenDF(pens[2])\n",
    "df4 = getPenDF(pens[3])\n",
    "df5 = getPenDF(pens[4])"
   ]
  },
  {
   "cell_type": "code",
   "execution_count": null,
   "metadata": {},
   "outputs": [],
   "source": [
    "hour = []\n",
    "avg = []\n",
    "\n",
    "for i in np.arange(0, 24):\n",
    "    hour.append(i)\n",
    "    avg.append(np.mean(df1.estimated_weight_g[df1.hour == i]))\n",
    "    \n",
    "plt.plot(hour, avg)"
   ]
  },
  {
   "cell_type": "code",
   "execution_count": null,
   "metadata": {},
   "outputs": [],
   "source": [
    "print('2020-08-15', len(df3), np.mean(df3.estimated_weight_g))\n",
    "print('2020-08-16', len(df4), np.mean(df4.estimated_weight_g))\n",
    "print('2020-08-17', len(df5), np.mean(df5.estimated_weight_g))"
   ]
  },
  {
   "cell_type": "code",
   "execution_count": null,
   "metadata": {},
   "outputs": [],
   "source": [
    "plt.scatter(df.captured_at, df.estimated_weight_g)"
   ]
  },
  {
   "cell_type": "code",
   "execution_count": null,
   "metadata": {},
   "outputs": [],
   "source": [
    "s1, a1 = np.mean(pen1.weight), np.mean(df1.estimated_weight_g), \n",
    "plt.hist(df1.estimated_weight_g, density = True, alpha = 0.5, label = 'Aquabyte')\n",
    "plt.hist(pen1.weight, density = True, alpha = 0.5, label = 'Sampling')\n",
    "plt.legend()\n",
    "plt.title('Pen 1: Sampling (%i) vs Aquabyte (%i)' % (s1, a1))"
   ]
  },
  {
   "cell_type": "code",
   "execution_count": null,
   "metadata": {},
   "outputs": [],
   "source": [
    "s2, a2 = np.mean(pen2.weight), np.mean(df2.estimated_weight_g), \n",
    "plt.hist(df2.estimated_weight_g, density = True, alpha = 0.5, label = 'Aquabyte')\n",
    "plt.hist(pen2.weight, density = True, alpha = 0.5, label = 'Sampling')\n",
    "plt.legend()\n",
    "plt.title('Pen 2: Sampling (%i) vs Aquabyte (%i)' % (s2, a2))"
   ]
  },
  {
   "cell_type": "code",
   "execution_count": null,
   "metadata": {},
   "outputs": [],
   "source": [
    "plt.hist(df2.estimated_weight_g, density = True, alpha = 0.5, label = '8/26 %i' % (np.mean(df2.estimated_weight_g), ))\n",
    "plt.hist(df3.estimated_weight_g, density = True, alpha = 0.5, label = '8/15 %i' % (np.mean(df3.estimated_weight_g), ))\n",
    "plt.legend()"
   ]
  },
  {
   "cell_type": "code",
   "execution_count": null,
   "metadata": {},
   "outputs": [],
   "source": [
    "np.mean(pen2.weight), np.mean(df2.estimated_weight_g), "
   ]
  },
  {
   "cell_type": "code",
   "execution_count": null,
   "metadata": {},
   "outputs": [],
   "source": [
    "def get_distribution(weights, bucket_cutoffs):\n",
    "    dist = {}\n",
    "    count = 0\n",
    "    for low, high in zip(bucket_cutoffs, bucket_cutoffs[1:]):\n",
    "        bucket = f'{1e-3 * low}-{1e-3 * high}'\n",
    "        bucket_count = weights[(weights >= low) & (weights < high)].shape[0]\n",
    "        dist[bucket] = bucket_count\n",
    "        count += bucket_count\n",
    "    \n",
    "    dist = {k: round(100 * v / count, 2) for k, v in dist.items()}\n",
    "    return dist\n"
   ]
  },
  {
   "cell_type": "code",
   "execution_count": null,
   "metadata": {},
   "outputs": [],
   "source": [
    "get_distribution(pen2.weight.values, np.arange(0, 10000, 1000))"
   ]
  },
  {
   "cell_type": "code",
   "execution_count": null,
   "metadata": {},
   "outputs": [],
   "source": [
    "pen1.weight.mean()"
   ]
  },
  {
   "cell_type": "code",
   "execution_count": null,
   "metadata": {},
   "outputs": [],
   "source": [
    "plt.figure(figsize=(20, 10))\n",
    "plt.hist(pen2.weight.values, bins=50)\n",
    "plt.grid()\n",
    "plt.show()"
   ]
  },
  {
   "cell_type": "code",
   "execution_count": null,
   "metadata": {},
   "outputs": [],
   "source": []
  },
  {
   "cell_type": "code",
   "execution_count": null,
   "metadata": {},
   "outputs": [],
   "source": []
  },
  {
   "cell_type": "code",
   "execution_count": null,
   "metadata": {},
   "outputs": [],
   "source": [
    "pen1"
   ]
  },
  {
   "cell_type": "code",
   "execution_count": null,
   "metadata": {},
   "outputs": [],
   "source": []
  },
  {
   "cell_type": "code",
   "execution_count": null,
   "metadata": {},
   "outputs": [],
   "source": []
  },
  {
   "cell_type": "code",
   "execution_count": null,
   "metadata": {},
   "outputs": [],
   "source": []
  },
  {
   "cell_type": "code",
   "execution_count": null,
   "metadata": {},
   "outputs": [],
   "source": []
  },
  {
   "cell_type": "code",
   "execution_count": null,
   "metadata": {},
   "outputs": [],
   "source": []
  },
  {
   "cell_type": "code",
   "execution_count": null,
   "metadata": {},
   "outputs": [],
   "source": []
  }
 ],
 "metadata": {
  "kernelspec": {
   "display_name": "Python 3",
   "language": "python",
   "name": "python3"
  },
  "language_info": {
   "codemirror_mode": {
    "name": "ipython",
    "version": 3
   },
   "file_extension": ".py",
   "mimetype": "text/x-python",
   "name": "python",
   "nbconvert_exporter": "python",
   "pygments_lexer": "ipython3",
   "version": "3.6.5"
  }
 },
 "nbformat": 4,
 "nbformat_minor": 2
}
