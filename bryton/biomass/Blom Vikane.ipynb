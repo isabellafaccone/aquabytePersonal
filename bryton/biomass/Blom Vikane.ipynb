{
 "cells": [
  {
   "cell_type": "code",
   "execution_count": null,
   "metadata": {},
   "outputs": [],
   "source": [
    "import math\n",
    "import json\n",
    "import os\n",
    "import pandas as pd\n",
    "import numpy as np\n",
    "from datetime import datetime, timezone, timedelta, time\n",
    "from research.utils.data_access_utils import RDSAccessUtils\n",
    "from research.weight_estimation.keypoint_utils.optics import euclidean_distance, pixel2world, depth_from_disp, convert_to_world_point\n",
    "import matplotlib.pyplot as plt\n",
    "from matplotlib.dates import AutoDateFormatter, AutoDateLocator\n",
    "\n",
    "rds_access_utils = RDSAccessUtils(json.load(open(os.environ['DATA_WAREHOUSE_SQL_CREDENTIALS'])))"
   ]
  },
  {
   "cell_type": "code",
   "execution_count": null,
   "metadata": {},
   "outputs": [],
   "source": [
    "queryCache = {}"
   ]
  },
  {
   "cell_type": "code",
   "execution_count": null,
   "metadata": {},
   "outputs": [],
   "source": [
    "pen5 = pd.read_csv('blom_vikane_singleweights.csv')"
   ]
  },
  {
   "cell_type": "code",
   "execution_count": null,
   "metadata": {},
   "outputs": [],
   "source": [
    "pen5['weight']"
   ]
  },
  {
   "cell_type": "code",
   "execution_count": null,
   "metadata": {},
   "outputs": [],
   "source": [
    "plt.hist(pen5['weight'], bins = 50)"
   ]
  },
  {
   "cell_type": "code",
   "execution_count": null,
   "metadata": {},
   "outputs": [],
   "source": [
    "rds_access_utils = RDSAccessUtils(json.load(open(os.environ['DATA_WAREHOUSE_SQL_CREDENTIALS'])))\n",
    "\n",
    "def getPenDF(pen):\n",
    "    akpd_filter = 0.99\n",
    "\n",
    "    query = \"\"\"\n",
    "       SELECT * FROM prod.biomass_computations\n",
    "        WHERE prod.biomass_computations.captured_at >= '%s'\n",
    "        AND prod.biomass_computations.captured_at <= '%s'\n",
    "        AND prod.biomass_computations.akpd_score > %0.4f\n",
    "        AND prod.biomass_computations.pen_id = %i;\n",
    "    \"\"\" % (pen['start_date'], pen['end_date'], akpd_filter, pen['pen_id'])\n",
    "\n",
    "    if query in queryCache:\n",
    "        df = queryCache[query].copy()\n",
    "    else:\n",
    "        df = rds_access_utils.extract_from_database(query)\n",
    "        queryCache[query] = df.copy()\n",
    "\n",
    "    df = df.sort_values('captured_at').copy(deep=True)\n",
    "    df.index = pd.to_datetime(df.captured_at)\n",
    "    dates = df.index.date.astype(str)\n",
    "    df['date'] = dates\n",
    "    df['hour'] = df.index.hour\n",
    "    \n",
    "    depths = []\n",
    "    for idx, row in df.iterrows():\n",
    "        ann, cm = row.annotation, row.camera_metadata\n",
    "        wkps = pixel2world(ann['leftCrop'], ann['rightCrop'], cm)\n",
    "        depth = np.median([wkp[1] for wkp in wkps.values()])\n",
    "        vector = wkps['UPPER_LIP'] - wkps['TAIL_NOTCH']\n",
    "        depths.append(depth)\n",
    "    df['depth'] = depths\n",
    "    \n",
    "    return df\n",
    "\n",
    "def getNegativeWeightDF():\n",
    "    akpd_filter = 0.99\n",
    "\n",
    "    query = \"\"\"\n",
    "       SELECT * FROM prod.biomass_computations\n",
    "        WHERE prod.biomass_computations.estimated_weight_g < 0\n",
    "        AND prod.biomass_computations.akpd_score > %0.4f\n",
    "        AND camera_metadata is not null;\n",
    "    \"\"\" % (akpd_filter, )\n",
    "\n",
    "    if query in queryCache:\n",
    "        df = queryCache[query].copy()\n",
    "    else:\n",
    "        df = rds_access_utils.extract_from_database(query)\n",
    "        queryCache[query] = df.copy()\n",
    "\n",
    "    df = df.sort_values('captured_at').copy(deep=True)\n",
    "    df.index = pd.to_datetime(df.captured_at)\n",
    "    dates = df.index.date.astype(str)\n",
    "    df['date'] = dates\n",
    "    df['hour'] = df.index.hour\n",
    "    \n",
    "    return df\n",
    "\n",
    "pens = [\n",
    "    {\n",
    "        'pen_id': 60,\n",
    "        'start_date': '2020-08-24 00:00',\n",
    "        'end_date': '2020-08-26 00:00'\n",
    "    }\n",
    "]\n",
    "\n",
    "df1 = getPenDF(pens[0])\n",
    "# df2 = getNegativeWeightDF()"
   ]
  },
  {
   "cell_type": "code",
   "execution_count": null,
   "metadata": {},
   "outputs": [],
   "source": [
    "plt.hist(df1.hour)"
   ]
  },
  {
   "cell_type": "code",
   "execution_count": null,
   "metadata": {},
   "outputs": [],
   "source": [
    "df1.head()\n",
    "\n",
    "max(df1.estimated_weight_g)"
   ]
  },
  {
   "cell_type": "code",
   "execution_count": null,
   "metadata": {},
   "outputs": [],
   "source": [
    "thetas = []\n",
    "phis = []\n",
    "\n",
    "for index, row in df1.iterrows():\n",
    "    ann1, cm1 = row.annotation, row.camera_metadata\n",
    "    wkps1 = pixel2world(ann1['leftCrop'], ann1['rightCrop'], cm1)\n",
    "\n",
    "    vector = wkps1['PECTORAL_FIN'] - wkps1['ANAL_FIN']\n",
    "    x, y, z = vector / np.linalg.norm(vector)\n",
    "    \n",
    "    theta = math.atan(y / x) * np.sign(y)\n",
    "    phi = math.acos(z)\n",
    "    dtheta = math.degrees(theta)\n",
    "    dphi = 90 - math.degrees(phi)\n",
    "    thetas.append(dtheta)\n",
    "    phis.append(dphi)\n",
    "    \n",
    "plt.figure(figsize=(20, 10))\n",
    "plt.scatter(thetas, phis, color = 'orange', label = 'Normal')\n",
    "# plt.scatter(thetas2, phis2, color = 'blue', label = 'Negative')\n",
    "plt.xlabel('Theta degree')\n",
    "plt.ylabel('Phi degree')\n",
    "plt.legend()\n",
    "\n",
    "df1['theta'] = thetas\n",
    "df1['phi'] = phis\n"
   ]
  },
  {
   "cell_type": "code",
   "execution_count": null,
   "metadata": {},
   "outputs": [],
   "source": [
    "plt.figure(figsize=(20, 10))\n",
    "\n",
    "# mask = np.abs(df1.theta) < 10\n",
    "# mask2 = (np.abs(df1.theta) < 10) & (np.abs(df1.phi) < 10)\n",
    "mask2 = (df1.hour >= 5) & (df1.hour <= 15)\n",
    "\n",
    "a1, s1 = np.mean(df1[mask2].estimated_weight_g), np.mean(df1.estimated_weight_g), \n",
    "plt.hist(df1.estimated_weight_g, density = True, alpha = 0.5, label = 'Base', bins = 20)\n",
    "#plt.hist(df1[mask].estimated_weight_g, density = True, alpha = 0.5, label = 'Within 20', bins = 20)\n",
    "plt.hist(df1[mask2].estimated_weight_g, density = True, alpha = 0.5, label = 'Within 10 Phi and Theta', bins = 20)\n",
    "plt.legend()\n",
    "plt.title('Pen 5: Base (%i) vs Filtered (%i)' % (s1, a1))\\\n",
    "\n",
    "plt.figure(figsize=(20, 10))\n",
    "s1, a1, b1 = np.mean(pen5['weight'] * 1000 / 0.83), np.mean(df1.estimated_weight_g), np.mean(df1[mask2].estimated_weight_g)\n",
    "# plt.hist(df1.estimated_weight_g, density = True, alpha = 0.5, label = 'Aquabyte', bins = 20)\n",
    "plt.hist(pen5.weight * 1000 / 0.83, density = True, alpha = 0.5, label = 'Sampling', bins = 20)\n",
    "plt.hist(df1[mask2].estimated_weight_g, density = True, alpha = 0.5, label = 'Within 10 Phi and Theta', bins = 20)\n",
    "plt.legend()\n",
    "plt.title('Pen 5: Ground Truth (%i) vs Before (%i) vs After (%i)' % (s1, a1, b1))"
   ]
  },
  {
   "cell_type": "code",
   "execution_count": null,
   "metadata": {},
   "outputs": [],
   "source": [
    "print(np.mean(pen5.weight * 1000 / 0.83), np.mean(df1[mask2].estimated_weight_g))\n",
    "\n",
    "y = np.arange(0, 1.5, 0.01)\n",
    "plt.plot(y, [np.mean(df1[mask2].estimated_weight_g[df1[mask2].depth > x]) for x in y])\n",
    "\n",
    "np.max([np.mean(df1[mask2].estimated_weight_g[df1[mask2].depth > x]) for x in y])\n",
    "np.mean(df1[mask2].estimated_weight_g[df1[mask2].depth > np.percentile(df1[mask2].depth, 90)])"
   ]
  },
  {
   "cell_type": "code",
   "execution_count": null,
   "metadata": {},
   "outputs": [],
   "source": [
    "x = np.arange(0, 100, 1)\n",
    "plt.plot(x, [np.percentile(df1[mask2].depth, y) for y in x])"
   ]
  },
  {
   "cell_type": "code",
   "execution_count": null,
   "metadata": {},
   "outputs": [],
   "source": [
    "x = np.arange(0, 100, 1)\n",
    "output = []\n",
    "\n",
    "for y in x:\n",
    "    df2 = df1[((df1.hour >= 5) & (df1.hour <= 15))]\n",
    "    d1 = df2['estimated_weight_g']\n",
    "    d2 = df2.estimated_weight_g[df2.depth > np.percentile(df2.depth, y)]\n",
    "    d3 = np.concatenate([d1[d1 < np.mean(d2)], np.mean(d2) + (np.mean(d2) - d1[d1 < np.mean(d2)])])\n",
    "    d4 = np.concatenate([d1[d1 < np.median(d2)], np.median(d2) + (np.median(d2) - d1[d1 < np.median(d2)])])\n",
    "    output.append(np.mean(d4))\n",
    "\n",
    "plt.plot(x, output)"
   ]
  },
  {
   "cell_type": "code",
   "execution_count": null,
   "metadata": {},
   "outputs": [],
   "source": [
    "df2 = df1[((df1.hour >= 5) & (df1.hour <= 15))]\n",
    "d1 = df2['estimated_weight_g']\n",
    "d2 = df2.estimated_weight_g[df2.depth > np.percentile(df2.depth, 75)]\n",
    "d3 = np.concatenate([d1[d1 < np.mean(d2)], np.mean(d2) + (np.mean(d2) - d1[d1 < np.mean(d2)])])\n",
    "d4 = np.concatenate([d1[d1 < np.median(d2)], np.median(d2) + (np.median(d2) - d1[d1 < np.median(d2)])])\n",
    "print(np.mean(pen5.weight * 1000 / 0.83), np.mean(d1), np.mean(d2), np.mean(d3))"
   ]
  },
  {
   "cell_type": "code",
   "execution_count": null,
   "metadata": {},
   "outputs": [],
   "source": [
    "buckets = [0, 1000, 2000, 3000, 4000, 5000, 6000, 7000, 8000, 9000, 10000]\n",
    "x_buckets = np.array(buckets[:-1])\n",
    "\n",
    "gt_pcts = []\n",
    "pcts1 = []\n",
    "pcts2 = []\n",
    "pcts3 = []\n",
    "\n",
    "for i in range(len(buckets) - 1):\n",
    "    mask1 = (d4 > buckets[i]) & (d4 <= buckets[i + 1])\n",
    "    mask2 = (d2 > buckets[i]) & (d2 <= buckets[i + 1])\n",
    "    mask3 = (d3 > buckets[i]) & (d3 <= buckets[i + 1])\n",
    "#     mask_new = (new_bins_adj > buckets[i]) & (new_bins_adj <= buckets[i + 1])\n",
    "    mask_gt = (pen5.weight * 1000 / 0.83 > buckets[i]) & (pen5.weight * 1000 / 0.83 <= buckets[i + 1])\n",
    "#     dist = dist1['estimated_weight_g'][mask1]\n",
    "#     gt = gt_weights[mask2]\n",
    "\n",
    "#     new_pcts.append(np.sum(new_density_adj[mask_new]))\n",
    "    pct1 = np.sum(mask1) / len(mask1)\n",
    "    pcts1.append(pct1)\n",
    "    pct2 = np.sum(mask2) / len(mask2)\n",
    "    pcts2.append(pct2)\n",
    "    pct3 = np.sum(mask3) / len(mask3)\n",
    "    pcts3.append(pct3)\n",
    "    gt_pct = np.sum(mask_gt) / len(mask_gt)\n",
    "    gt_pcts.append(gt_pct)\n",
    "#     print('%i: %0.3f, %0.3f vs %0.3f' % (buckets[i], np.sum(new_density_adj[mask1]) - gt_pct, np.sum(new_density_adj[mask1]), gt_pct))\n",
    "\n",
    "plt.figure(figsize=(20, 10))\n",
    "# plt.bar(x_buckets - 300, new_pcts, color = 'orange', width = 150, label = 'Dedup diff')\n",
    "plt.bar(x_buckets - 150, pcts1, color = 'red', width = 150, label = 'Original')\n",
    "plt.bar(x_buckets + 300, pcts2, color = 'blue', width = 150, label = 'Dedup')\n",
    "plt.bar(x_buckets + 150, pcts3, color = 'purple', width = 150, label = 'Dedup diff')\n",
    "plt.bar(x_buckets, gt_pcts, color = 'green', width = 150, label = 'Ground truth')"
   ]
  },
  {
   "cell_type": "code",
   "execution_count": null,
   "metadata": {},
   "outputs": [],
   "source": [
    "np.mean(pen5.weight * 1000 / 0.83), np.mean(df1[mask2].estimated_weight_g)\n",
    "np.max(df1[mask2].depth)"
   ]
  },
  {
   "cell_type": "code",
   "execution_count": null,
   "metadata": {},
   "outputs": [],
   "source": [
    "all_pct, new_pct = [], []\n",
    "\n",
    "for i in np.arange(0, 100, 1):\n",
    "    all_pct.append(np.percentile(df1.estimated_weight_g, i))\n",
    "    new_pct.append(np.percentile(pen5.weight * 1000 / 0.83, i))\n",
    "    \n",
    "plt.scatter(all_pct, new_pct)\n",
    "xpoints = ypoints = plt.xlim()\n",
    "plt.plot(xpoints, ypoints, linestyle='--', color='k', lw=3, scalex=False, scaley=False)\n",
    "plt.xlabel('Aquabyte weights')\n",
    "plt.ylabel('Sampled weights')\n",
    "plt.title('All weights vs deduplicated weights')"
   ]
  },
  {
   "cell_type": "code",
   "execution_count": null,
   "metadata": {},
   "outputs": [],
   "source": [
    "# plt.figure(figsize=(20, 10))\n",
    "\n",
    "# plt.scatter(df1['phi'], df1.estimated_k_factor)\n",
    "\n",
    "# import statsmodels.api as sm\n",
    "\n",
    "# X = sm.add_constant(np.abs(df1['phi']))\n",
    "# y = df1.estimated_k_factor\n",
    "# model = sm.OLS(y, X)\n",
    "# results = model.fit()\n",
    "# print(results.summary())\n",
    "\n",
    "from scipy.stats import pearsonr\n",
    "print(pearsonr(df1['phi'], df1['theta'])[0])"
   ]
  },
  {
   "cell_type": "code",
   "execution_count": null,
   "metadata": {},
   "outputs": [],
   "source": [
    "limits = np.arange(10, 50)\n",
    "weights = []\n",
    "\n",
    "for limit in limits:\n",
    "    mask = np.abs(df1.theta) < limit\n",
    "    weight = np.mean(df1[mask].estimated_weight_g)\n",
    "    print(limit, weight, np.sum(mask))\n",
    "    weights.append(weight)\n",
    "    \n",
    "plt.figure(figsize=(20, 10))\n",
    "plt.plot(limits, weights)\n",
    "plt.xlabel('Theta limit')\n",
    "plt.ylabel('Average weight')\n",
    "plt.title('Weight vs Theta Limit')"
   ]
  },
  {
   "cell_type": "code",
   "execution_count": null,
   "metadata": {},
   "outputs": [],
   "source": [
    "limits = np.arange(2, 50)\n",
    "weights = []\n",
    "\n",
    "for limit in limits:\n",
    "    mask = np.abs(df1.phi) < limit\n",
    "    weight = np.mean(df1[mask].estimated_weight_g)\n",
    "    print(limit, weight, np.sum(mask))\n",
    "    weights.append(weight)\n",
    "    \n",
    "plt.figure(figsize=(20, 10))\n",
    "plt.plot(limits, weights)\n",
    "plt.xlabel('Phi limit')\n",
    "plt.ylabel('Average weight')\n",
    "plt.title('Weight vs Phi Limit')"
   ]
  },
  {
   "cell_type": "code",
   "execution_count": null,
   "metadata": {},
   "outputs": [],
   "source": [
    "limits = np.arange(0, 50)\n",
    "weights = []\n",
    "\n",
    "for limit in limits:\n",
    "    mask = (np.abs(df1.theta) < limit) & (np.abs(df1.phi) < limit)\n",
    "    weight = np.mean(df1[mask].estimated_weight_g)\n",
    "#     print(limit, weight, np.sum(mask))\n",
    "    weights.append(weight)\n",
    "    \n",
    "plt.figure(figsize=(20, 10))\n",
    "plt.plot(limits, weights)\n",
    "plt.axhline(4234)\n",
    "plt.xlabel('Phi + Theta limit')\n",
    "plt.ylabel('Average weight')\n",
    "plt.title('Weight vs Phi + Theta Limit')"
   ]
  },
  {
   "cell_type": "code",
   "execution_count": null,
   "metadata": {},
   "outputs": [],
   "source": [
    "(3917 - 3740)/3740\n"
   ]
  },
  {
   "cell_type": "code",
   "execution_count": null,
   "metadata": {},
   "outputs": [],
   "source": [
    "low_weight = df1[df1.estimated_weight_g < 1000]\n",
    "low_weight.ix[0]"
   ]
  },
  {
   "cell_type": "code",
   "execution_count": null,
   "metadata": {},
   "outputs": [],
   "source": [
    "index = 0\n",
    "\n",
    "from IPython.display import Image\n",
    "from IPython.core.display import HTML \n",
    "Image(url=low_weight.ix[index, 'left_crop_url'])"
   ]
  },
  {
   "cell_type": "code",
   "execution_count": null,
   "metadata": {},
   "outputs": [],
   "source": [
    "Image(url=low_weight.ix[index, 'right_crop_url'])"
   ]
  },
  {
   "cell_type": "code",
   "execution_count": null,
   "metadata": {},
   "outputs": [],
   "source": [
    "row1 = low_weight.ix[0]\n",
    "ann1, cm1 = row1.annotation, row1.camera_metadata\n",
    "wkps1 = pixel2world(ann1['leftCrop'], ann1['rightCrop'], cm1)\n",
    "wkps1"
   ]
  },
  {
   "cell_type": "code",
   "execution_count": null,
   "metadata": {},
   "outputs": [],
   "source": [
    "index = -3\n",
    "\n",
    "from IPython.display import Image\n",
    "from IPython.core.display import HTML \n",
    "Image(url=df2.ix[index, 'left_crop_url'])"
   ]
  },
  {
   "cell_type": "code",
   "execution_count": null,
   "metadata": {},
   "outputs": [],
   "source": [
    "Image(url=df2.ix[index, 'right_crop_url'])"
   ]
  },
  {
   "cell_type": "code",
   "execution_count": null,
   "metadata": {},
   "outputs": [],
   "source": [
    "plt.figure(figsize=(20, 10))\n",
    "\n",
    "im = plt.imread('left_frame_crop_1628_2136_3788_3000.jpg')\n",
    "implot = plt.imshow(im)\n",
    "\n",
    "for ann in df2.ix[-1].annotation['leftCrop']:\n",
    "    plt.scatter([ann['xCrop']], [ann['yCrop']])\n",
    "    plt.text(ann['xCrop'], ann['yCrop'], ann['keypointType'], color = 'white')\n",
    "\n",
    "plt.show()"
   ]
  },
  {
   "cell_type": "code",
   "execution_count": null,
   "metadata": {},
   "outputs": [],
   "source": [
    "plt.figure(figsize=(20, 10))\n",
    "\n",
    "im = plt.imread('right_frame_crop_772_2124_3100_3000.jpg')\n",
    "implot = plt.imshow(im)\n",
    "\n",
    "for ann in df2.ix[-1].annotation['rightCrop']:\n",
    "    plt.scatter([ann['xCrop']], [ann['yCrop']])\n",
    "    plt.text(ann['xCrop'], ann['yCrop'], ann['keypointType'], color = 'white')\n",
    "\n",
    "plt.show()"
   ]
  },
  {
   "cell_type": "code",
   "execution_count": null,
   "metadata": {},
   "outputs": [],
   "source": [
    "row1 = df2.ix[-1]\n",
    "ann1, cm1 = row1.annotation, row1.camera_metadata\n",
    "wkps1 = pixel2world(ann1['leftCrop'], ann1['rightCrop'], cm1)\n",
    "wkps1"
   ]
  },
  {
   "cell_type": "code",
   "execution_count": null,
   "metadata": {},
   "outputs": [],
   "source": [
    "np.linalg.norm(wkps1['UPPER_LIP'] - wkps1['TAIL_NOTCH'])"
   ]
  },
  {
   "cell_type": "code",
   "execution_count": null,
   "metadata": {},
   "outputs": [],
   "source": [
    "row1 = df2.ix[-3]\n",
    "ann1, cm1 = row1.annotation, row1.camera_metadata\n",
    "wkps1 = pixel2world(ann1['leftCrop'], ann1['rightCrop'], cm1)\n",
    "wkps1"
   ]
  },
  {
   "cell_type": "code",
   "execution_count": null,
   "metadata": {},
   "outputs": [],
   "source": [
    "vector = wkps1['PECTORAL_FIN'] - wkps1['ANAL_FIN']\n",
    "x, y, z = vector / np.linalg.norm(vector)\n",
    "print(x, y, z)"
   ]
  },
  {
   "cell_type": "code",
   "execution_count": null,
   "metadata": {},
   "outputs": [],
   "source": [
    "import math \n",
    "# https://www.mathworks.com/matlabcentral/answers/108850-what-would-the-angles-be-for-a-3d-vector\n",
    "# ax = math.atan2(np.sqrt(y ** 2 + z ** 2), x)\n",
    "# ay = math.atan2(np.sqrt(z ** 2 + x ** 2), y)\n",
    "# az = math.atan2(np.sqrt(x ** 2 + y ** 2), z)\n",
    "\n",
    "# ax = math.acos(x)\n",
    "# ay = math.acos(y)\n",
    "# az = math.acos(z)\n",
    "\n",
    "# dx = math.degrees(ax)\n",
    "# dy = math.degrees(ay)\n",
    "# dz = math.degrees(az)\n",
    "\n",
    "# print(ax, ay, az)\n",
    "# print(dx, dy, dz)\n",
    "\n",
    "# https://math.stackexchange.com/questions/2247039/angles-of-a-known-3d-vector\n",
    "theta = math.atan(y / x) * np.sign(y)\n",
    "phi = math.acos(z)\n",
    "dtheta = math.degrees(theta)\n",
    "dphi = 90 - math.degrees(phi)\n",
    "print(theta, phi)\n",
    "print(dtheta, dphi)"
   ]
  },
  {
   "cell_type": "code",
   "execution_count": null,
   "metadata": {},
   "outputs": [],
   "source": [
    "# thetas2 = []\n",
    "# phis2 = []\n",
    "\n",
    "# for index, row in df2.iterrows():\n",
    "#     ann1, cm1 = row.annotation, row.camera_metadata\n",
    "#     wkps1 = pixel2world(ann1['leftCrop'], ann1['rightCrop'], cm1)\n",
    "\n",
    "#     vector = wkps1['PECTORAL_FIN'] - wkps1['ANAL_FIN']\n",
    "#     x, y, z = vector / np.linalg.norm(vector)\n",
    "    \n",
    "#     theta = math.atan(y / x) * np.sign(y)\n",
    "#     phi = math.acos(z)\n",
    "#     dtheta = math.degrees(theta)\n",
    "#     dphi = 90 - math.degrees(phi)\n",
    "#     thetas2.append(dtheta)\n",
    "#     phis2.append(dphi)"
   ]
  },
  {
   "cell_type": "code",
   "execution_count": null,
   "metadata": {},
   "outputs": [],
   "source": [
    "# plt.scatter(thetas, phis)"
   ]
  },
  {
   "cell_type": "code",
   "execution_count": null,
   "metadata": {},
   "outputs": [],
   "source": []
  },
  {
   "cell_type": "code",
   "execution_count": null,
   "metadata": {},
   "outputs": [],
   "source": [
    "# import matplotlib.pyplot as plt\n",
    "# from mpl_toolkits.mplot3d import Axes3D\n",
    "# import numpy as np\n",
    "\n",
    "# soa = np.array([[0, 0, 0, x, y, z]])\n",
    "\n",
    "# X, Y, Z, U, V, W = zip(*soa)\n",
    "# fig = plt.figure()\n",
    "# ax = fig.add_subplot(111, projection='3d')\n",
    "# ax.quiver(X, Y, Z, U, V, W)\n",
    "# ax.set_xlim([-1, 1])\n",
    "# ax.set_ylim([-1, 1])\n",
    "# ax.set_zlim([-1, 1])\n",
    "# ax.set_xlabel('x')\n",
    "# ax.set_ylabel('y')\n",
    "# ax.set_zlabel('z')\n",
    "# plt.show()"
   ]
  },
  {
   "cell_type": "code",
   "execution_count": null,
   "metadata": {},
   "outputs": [],
   "source": [
    "# df2.head()"
   ]
  },
  {
   "cell_type": "code",
   "execution_count": null,
   "metadata": {},
   "outputs": [],
   "source": []
  }
 ],
 "metadata": {
  "kernelspec": {
   "display_name": "Python 3",
   "language": "python",
   "name": "python3"
  },
  "language_info": {
   "codemirror_mode": {
    "name": "ipython",
    "version": 3
   },
   "file_extension": ".py",
   "mimetype": "text/x-python",
   "name": "python",
   "nbconvert_exporter": "python",
   "pygments_lexer": "ipython3",
   "version": "3.6.5"
  }
 },
 "nbformat": 4,
 "nbformat_minor": 2
}
