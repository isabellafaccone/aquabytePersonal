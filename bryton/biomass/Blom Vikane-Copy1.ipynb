{
 "cells": [
  {
   "cell_type": "code",
   "execution_count": null,
   "metadata": {},
   "outputs": [],
   "source": [
    "import json\n",
    "import os\n",
    "import pandas as pd\n",
    "import numpy as np\n",
    "from datetime import datetime, timezone, timedelta, time\n",
    "from research.utils.data_access_utils import RDSAccessUtils\n",
    "from research.weight_estimation.keypoint_utils.optics import euclidean_distance, pixel2world, depth_from_disp, convert_to_world_point\n",
    "import matplotlib.pyplot as plt\n",
    "from matplotlib.dates import AutoDateFormatter, AutoDateLocator\n",
    "\n",
    "rds_access_utils = RDSAccessUtils(json.load(open(os.environ['DATA_WAREHOUSE_SQL_CREDENTIALS'])))"
   ]
  },
  {
   "cell_type": "code",
   "execution_count": null,
   "metadata": {},
   "outputs": [],
   "source": [
    "queryCache = {}"
   ]
  },
  {
   "cell_type": "code",
   "execution_count": null,
   "metadata": {},
   "outputs": [],
   "source": [
    "pen5 = pd.read_csv('blom_vikane_singleweights.csv')"
   ]
  },
  {
   "cell_type": "code",
   "execution_count": null,
   "metadata": {},
   "outputs": [],
   "source": [
    "pen5['weight']"
   ]
  },
  {
   "cell_type": "code",
   "execution_count": null,
   "metadata": {},
   "outputs": [],
   "source": [
    "plt.hist(pen5['weight'], bins = 50)"
   ]
  },
  {
   "cell_type": "code",
   "execution_count": null,
   "metadata": {},
   "outputs": [],
   "source": [
    "rds_access_utils = RDSAccessUtils(json.load(open(os.environ['DATA_WAREHOUSE_SQL_CREDENTIALS'])))\n",
    "\n",
    "def getPenDF(pen):\n",
    "    akpd_filter = 0.99\n",
    "\n",
    "    query = \"\"\"\n",
    "       SELECT * FROM prod.biomass_computations\n",
    "        WHERE prod.biomass_computations.captured_at >= '%s'\n",
    "        AND prod.biomass_computations.captured_at <= '%s'\n",
    "        AND prod.biomass_computations.akpd_score > %0.4f\n",
    "        AND prod.biomass_computations.pen_id = %i;\n",
    "    \"\"\" % (pen['start_date'], pen['end_date'], akpd_filter, pen['pen_id'])\n",
    "\n",
    "    if query in queryCache:\n",
    "        df = queryCache[query].copy()\n",
    "    else:\n",
    "        df = rds_access_utils.extract_from_database(query)\n",
    "        queryCache[query] = df.copy()\n",
    "\n",
    "    df = df.sort_values('captured_at').copy(deep=True)\n",
    "    df.index = pd.to_datetime(df.captured_at)\n",
    "    dates = df.index.date.astype(str)\n",
    "    df['date'] = dates\n",
    "    df['hour'] = df.index.hour\n",
    "    \n",
    "    return df\n",
    "\n",
    "def getNegativeWeightDF():\n",
    "    akpd_filter = 0.99\n",
    "\n",
    "    query = \"\"\"\n",
    "       SELECT * FROM prod.biomass_computations\n",
    "        WHERE prod.biomass_computations.estimated_weight_g < 0\n",
    "        AND prod.biomass_computations.akpd_score > %0.4f;\n",
    "    \"\"\" % (akpd_filter, )\n",
    "\n",
    "    if query in queryCache:\n",
    "        df = queryCache[query].copy()\n",
    "    else:\n",
    "        df = rds_access_utils.extract_from_database(query)\n",
    "        queryCache[query] = df.copy()\n",
    "\n",
    "    df = df.sort_values('captured_at').copy(deep=True)\n",
    "    df.index = pd.to_datetime(df.captured_at)\n",
    "    dates = df.index.date.astype(str)\n",
    "    df['date'] = dates\n",
    "    df['hour'] = df.index.hour\n",
    "    \n",
    "    return df\n",
    "\n",
    "pens = [\n",
    "    {\n",
    "        'pen_id': 60,\n",
    "        'start_date': '2020-08-24 00:00',\n",
    "        'end_date': '2020-08-26 00:00'\n",
    "    }\n",
    "]\n",
    "\n",
    "df1 = getPenDF(pens[0])\n",
    "df2 = getNegativeWeightDF()"
   ]
  },
  {
   "cell_type": "code",
   "execution_count": null,
   "metadata": {},
   "outputs": [],
   "source": [
    "print(len(df1))"
   ]
  },
  {
   "cell_type": "code",
   "execution_count": null,
   "metadata": {},
   "outputs": [],
   "source": [
    "plt.figure(figsize=(20, 10))\n",
    "s1, a1 = np.mean(pen5['weight'] * 1000), np.mean(df1.estimated_weight_g), \n",
    "plt.hist(df1.estimated_weight_g, density = True, alpha = 0.5, label = 'Aquabyte', bins = 20)\n",
    "plt.hist(pen5.weight * 1000 / 0.83, density = True, alpha = 0.5, label = 'Sampling', bins = 20)\n",
    "plt.legend()\n",
    "plt.title('Pen 5: Sampling (%i) vs Aquabyte (%i)' % (s1, a1))"
   ]
  },
  {
   "cell_type": "code",
   "execution_count": null,
   "metadata": {},
   "outputs": [],
   "source": [
    "low_weight = df1[df1.estimated_weight_g < 1000]\n",
    "low_weight.ix[0]"
   ]
  },
  {
   "cell_type": "code",
   "execution_count": null,
   "metadata": {},
   "outputs": [],
   "source": [
    "index = 0\n",
    "\n",
    "from IPython.display import Image\n",
    "from IPython.core.display import HTML \n",
    "Image(url=low_weight.ix[index, 'left_crop_url'])"
   ]
  },
  {
   "cell_type": "code",
   "execution_count": null,
   "metadata": {},
   "outputs": [],
   "source": [
    "Image(url=low_weight.ix[index, 'right_crop_url'])"
   ]
  },
  {
   "cell_type": "code",
   "execution_count": null,
   "metadata": {},
   "outputs": [],
   "source": [
    "row1 = low_weight.ix[0]\n",
    "ann1, cm1 = row1.annotation, row1.camera_metadata\n",
    "wkps1 = pixel2world(ann1['leftCrop'], ann1['rightCrop'], cm1)\n",
    "wkps1"
   ]
  },
  {
   "cell_type": "code",
   "execution_count": null,
   "metadata": {},
   "outputs": [],
   "source": [
    "index = -2\n",
    "\n",
    "from IPython.display import Image\n",
    "from IPython.core.display import HTML \n",
    "Image(url=df2.ix[index, 'left_crop_url'])"
   ]
  },
  {
   "cell_type": "code",
   "execution_count": null,
   "metadata": {},
   "outputs": [],
   "source": [
    "Image(url=df2.ix[index, 'right_crop_url'])"
   ]
  },
  {
   "cell_type": "code",
   "execution_count": null,
   "metadata": {},
   "outputs": [],
   "source": [
    "plt.figure(figsize=(20, 10))\n",
    "\n",
    "im = plt.imread('left_frame_crop_1628_2136_3788_3000.jpg')\n",
    "implot = plt.imshow(im)\n",
    "\n",
    "for ann in df2.ix[-1].annotation['leftCrop']:\n",
    "    plt.scatter([ann['xCrop']], [ann['yCrop']])\n",
    "    plt.text(ann['xCrop'], ann['yCrop'], ann['keypointType'], color = 'white')\n",
    "\n",
    "plt.show()"
   ]
  },
  {
   "cell_type": "code",
   "execution_count": null,
   "metadata": {},
   "outputs": [],
   "source": [
    "plt.figure(figsize=(20, 10))\n",
    "\n",
    "im = plt.imread('right_frame_crop_772_2124_3100_3000.jpg')\n",
    "implot = plt.imshow(im)\n",
    "\n",
    "for ann in df2.ix[-1].annotation['rightCrop']:\n",
    "    plt.scatter([ann['xCrop']], [ann['yCrop']])\n",
    "    plt.text(ann['xCrop'], ann['yCrop'], ann['keypointType'], color = 'white')\n",
    "\n",
    "plt.show()"
   ]
  },
  {
   "cell_type": "code",
   "execution_count": null,
   "metadata": {},
   "outputs": [],
   "source": [
    "row1 = df2.ix[-1]\n",
    "ann1, cm1 = row1.annotation, row1.camera_metadata\n",
    "wkps1 = pixel2world(ann1['leftCrop'], ann1['rightCrop'], cm1)\n",
    "wkps1"
   ]
  },
  {
   "cell_type": "code",
   "execution_count": null,
   "metadata": {},
   "outputs": [],
   "source": [
    "np.linalg.norm(wkps1['UPPER_LIP'] - wkps1['TAIL_NOTCH'])"
   ]
  },
  {
   "cell_type": "code",
   "execution_count": null,
   "metadata": {},
   "outputs": [],
   "source": [
    "row1 = df2.ix[-1]\n",
    "ann1, cm1 = row1.annotation, row1.camera_metadata\n",
    "wkps1 = pixel2world(ann1['leftCrop'], ann1['rightCrop'], cm1)\n",
    "wkps1"
   ]
  },
  {
   "cell_type": "code",
   "execution_count": null,
   "metadata": {},
   "outputs": [],
   "source": [
    "vector = wkps1['PECTORAL_FIN'] - wkps1['ANAL_FIN']\n",
    "x, y, z = vector / np.linalg.norm(vector)\n",
    "print(x, y, z)"
   ]
  },
  {
   "cell_type": "code",
   "execution_count": null,
   "metadata": {},
   "outputs": [],
   "source": [
    "import math \n",
    "# https://www.mathworks.com/matlabcentral/answers/108850-what-would-the-angles-be-for-a-3d-vector\n",
    "ax = math.atan2(np.sqrt(y ** 2 + z ** 2), x)\n",
    "ay = math.atan2(np.sqrt(z ** 2 + x ** 2), y)\n",
    "az = math.atan2(np.sqrt(x ** 2 + y ** 2), z)\n",
    "\n",
    "ax = ma\n",
    "\n",
    "dx = math.degrees(ax)\n",
    "dy = math.degrees(ay)\n",
    "dz = math.degrees(az)\n",
    "\n",
    "ax, ay, az\n",
    "dx, dy, dz"
   ]
  },
  {
   "cell_type": "code",
   "execution_count": null,
   "metadata": {},
   "outputs": [],
   "source": [
    "import matplotlib.pyplot as plt\n",
    "from mpl_toolkits.mplot3d import Axes3D\n",
    "import numpy as np\n",
    "\n",
    "soa = np.array([[0, 0, 0, x, y, z]])\n",
    "\n",
    "X, Y, Z, U, V, W = zip(*soa)\n",
    "fig = plt.figure()\n",
    "ax = fig.add_subplot(111, projection='3d')\n",
    "ax.quiver(X, Y, Z, U, V, W)\n",
    "ax.set_xlim([-1, 1])\n",
    "ax.set_ylim([-1, 1])\n",
    "ax.set_zlim([-1, 1])\n",
    "ax.set_xlabel('x')\n",
    "ax.set_ylabel('y')\n",
    "ax.set_zlabel('z')\n",
    "plt.show()"
   ]
  },
  {
   "cell_type": "code",
   "execution_count": null,
   "metadata": {},
   "outputs": [],
   "source": []
  }
 ],
 "metadata": {
  "kernelspec": {
   "display_name": "Python 3",
   "language": "python",
   "name": "python3"
  },
  "language_info": {
   "codemirror_mode": {
    "name": "ipython",
    "version": 3
   },
   "file_extension": ".py",
   "mimetype": "text/x-python",
   "name": "python",
   "nbconvert_exporter": "python",
   "pygments_lexer": "ipython3",
   "version": "3.6.5"
  }
 },
 "nbformat": 4,
 "nbformat_minor": 2
}
