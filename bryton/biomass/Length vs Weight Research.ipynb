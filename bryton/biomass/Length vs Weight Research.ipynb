{
 "cells": [
  {
   "cell_type": "code",
   "execution_count": null,
   "metadata": {},
   "outputs": [],
   "source": [
    "import matplotlib.pyplot as plt\n",
    "import pandas as pd\n",
    "import numpy as np\n",
    "import json\n",
    "import statsmodels.api as sm\n",
    "\n",
    "from filter_optimization.filter_optimization_task import extract_biomass_data\n",
    "\n",
    "from research.weight_estimation.keypoint_utils.optics import euclidean_distance, pixel2world, depth_from_disp, convert_to_world_point\n"
   ]
  },
  {
   "cell_type": "code",
   "execution_count": null,
   "metadata": {},
   "outputs": [],
   "source": [
    "df = pd.read_csv('gtsf_data.csv')\n",
    "\n",
    "depths = []\n",
    "lengths = []\n",
    "for idx, row in df.iterrows():\n",
    "    ann, cm = eval(row.keypoints), eval(row.camera_metadata)\n",
    "#     print(ann['leftCrop'])\n",
    "    wkps = pixel2world(ann['leftCrop'], ann['rightCrop'], cm)\n",
    "    depth = np.median([wkp[1] for wkp in wkps.values()])\n",
    "    vector = wkps['UPPER_LIP'] - wkps['TAIL_NOTCH']\n",
    "    depths.append(depth)\n",
    "    lengths.append(np.linalg.norm(vector))\n",
    "df['depth'] = depths\n",
    "df['length'] = lengths"
   ]
  },
  {
   "cell_type": "code",
   "execution_count": null,
   "metadata": {},
   "outputs": [],
   "source": [
    "df.loc[0]"
   ]
  },
  {
   "cell_type": "code",
   "execution_count": null,
   "metadata": {},
   "outputs": [],
   "source": [
    "plt.figure(figsize=(20, 10))\n",
    "\n",
    "plt.scatter(df.length, df.weight)\n",
    "\n",
    "x = np.arange(np.min(df.length), np.max(df.length), 0.01)\n",
    "x2 = np.arange(np.min(df.length), np.max(df.length) + 0.05, 0.01)\n",
    "y = (23.6068 * x) ** 3\n",
    "plt.plot(x, y, color = 'red')\n",
    "y = (22 * x2) ** 3\n",
    "plt.plot(x2, y, color = 'green')\n",
    "y = (25 * x) ** 3\n",
    "plt.plot(x, y, color = 'green')\n",
    "plt.axhline(9000)\n",
    "plt.xlabel('Length (m)')\n",
    "plt.ylabel('Weight (g)')\n",
    "plt.title('GTSF Length vs Weight: w = (23.6068 * l) ^ 3')"
   ]
  },
  {
   "cell_type": "code",
   "execution_count": null,
   "metadata": {},
   "outputs": [],
   "source": [
    "plt.scatter(df.length, df.weight ** (1/3))\n"
   ]
  },
  {
   "cell_type": "code",
   "execution_count": null,
   "metadata": {},
   "outputs": [],
   "source": [
    "X = df.length\n",
    "X = sm.add_constant(X)\n",
    "model = sm.OLS(df.weight ** (1/3), X)\n",
    "results = model.fit()\n",
    "\n",
    "print(results.summary())"
   ]
  },
  {
   "cell_type": "code",
   "execution_count": null,
   "metadata": {},
   "outputs": [],
   "source": [
    "X = df.length\n",
    "model = sm.OLS(df.weight ** (1/3), X)\n",
    "results = model.fit()\n",
    "\n",
    "print(results.summary())"
   ]
  },
  {
   "cell_type": "code",
   "execution_count": null,
   "metadata": {},
   "outputs": [],
   "source": [
    "queryCache = {}"
   ]
  },
  {
   "cell_type": "code",
   "execution_count": null,
   "metadata": {},
   "outputs": [],
   "source": [
    "pen_id = 60\n",
    "df_start_date = '2020-08-24'\n",
    "df_end_date = '2020-08-26'\n",
    "# pen_id = 116\n",
    "# df_start_date = '2020-10-26'\n",
    "# df_end_date = '2020-10-30'\n",
    "\n",
    "if pen_id in queryCache and df_start_date in queryCache[pen_id] and df_end_date in queryCache[pen_id][df_start_date]:\n",
    "    df = queryCache[pen_id][df_start_date][df_end_date]\n",
    "else:\n",
    "    df = extract_biomass_data(pen_id, df_start_date, df_end_date, 0)\n",
    "    df.date = pd.to_datetime(df.date)\n",
    "\n",
    "    depths = []\n",
    "    lengths = []\n",
    "    for idx, row in df.iterrows():\n",
    "        ann, cm = row.annotation, row.camera_metadata\n",
    "        wkps = pixel2world(ann['leftCrop'], ann['rightCrop'], cm)\n",
    "        depth = np.median([wkp[1] for wkp in wkps.values()])\n",
    "        vector = wkps['UPPER_LIP'] - wkps['TAIL_NOTCH']\n",
    "        depths.append(depth)\n",
    "        lengths.append(np.linalg.norm(vector))\n",
    "    df['depth'] = depths\n",
    "    df['length'] = lengths\n",
    "    \n",
    "    queryCache[pen_id] = { df_start_date: { df_end_date: df } }"
   ]
  },
  {
   "cell_type": "code",
   "execution_count": null,
   "metadata": {},
   "outputs": [],
   "source": [
    "df = df[df.akpd_score > 0.95]"
   ]
  },
  {
   "cell_type": "code",
   "execution_count": null,
   "metadata": {},
   "outputs": [],
   "source": [
    "plt.figure(figsize=(20, 10))\n",
    "\n",
    "plt.scatter(df.length, df.estimated_weight_g)\n",
    "\n",
    "x = np.arange(np.min(df.length), np.max(df.length), 0.01)\n",
    "x2 = np.arange(np.min(df.length), np.max(df.length) + 0.05, 0.01)\n",
    "y = (23.6068 * x) ** 3\n",
    "plt.plot(x, y, color = 'red')\n",
    "y = (22 * x2) ** 3\n",
    "plt.plot(x2, y, color = 'green')\n",
    "y = (25 * x) ** 3\n",
    "plt.plot(x, y, color = 'orange')\n",
    "plt.axhline(9000)\n",
    "plt.xlabel('Length (m)')\n",
    "plt.ylabel('Weight (g)')\n",
    "plt.title('Slapoya Length vs Weight')"
   ]
  },
  {
   "cell_type": "code",
   "execution_count": null,
   "metadata": {},
   "outputs": [],
   "source": [
    "df2 = df[((df.hour >= 7) & (df.hour <= 15))].copy()\n",
    "df3 = df[((df.hour >= 7) & (df.hour <= 15))].copy()\n",
    "a = df3[df3.estimated_weight_g >= 5000].estimated_weight_g\n",
    "b = (23.6068 * df3[df3.estimated_weight_g < 5000].length) ** 3\n",
    "print(np.mean(df2.estimated_weight_g), np.mean(df3.estimated_weight_g))"
   ]
  },
  {
   "cell_type": "code",
   "execution_count": null,
   "metadata": {},
   "outputs": [],
   "source": [
    "np.mean((23.6068 * df2.length) ** 3)"
   ]
  },
  {
   "cell_type": "code",
   "execution_count": null,
   "metadata": {},
   "outputs": [],
   "source": [
    "(np.mean(a) * len(a) + np.mean(b) * len(b)) / (len(a) + len(b))"
   ]
  },
  {
   "cell_type": "code",
   "execution_count": null,
   "metadata": {},
   "outputs": [],
   "source": []
  },
  {
   "cell_type": "code",
   "execution_count": null,
   "metadata": {},
   "outputs": [],
   "source": []
  }
 ],
 "metadata": {
  "kernelspec": {
   "display_name": "Python 3",
   "language": "python",
   "name": "python3"
  },
  "language_info": {
   "codemirror_mode": {
    "name": "ipython",
    "version": 3
   },
   "file_extension": ".py",
   "mimetype": "text/x-python",
   "name": "python",
   "nbconvert_exporter": "python",
   "pygments_lexer": "ipython3",
   "version": "3.6.5"
  }
 },
 "nbformat": 4,
 "nbformat_minor": 4
}
