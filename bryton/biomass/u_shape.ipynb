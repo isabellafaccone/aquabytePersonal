{
 "cells": [
  {
   "cell_type": "code",
   "execution_count": null,
   "metadata": {},
   "outputs": [],
   "source": [
    "import json\n",
    "import os\n",
    "import pandas as pd \n",
    "from matplotlib import pyplot as plt\n",
    "from filter_optimization.filter_optimization_task import extract_biomass_data\n",
    "\n",
    "plt.rcParams['font.size'] = 18"
   ]
  },
  {
   "cell_type": "code",
   "execution_count": null,
   "metadata": {},
   "outputs": [],
   "source": []
  },
  {
   "cell_type": "code",
   "execution_count": null,
   "metadata": {},
   "outputs": [],
   "source": [
    "df = extract_biomass_data(56, '2020-06-01', '2020-08-31', 0.99)\n",
    "df.hour = (df.hour + 2) % 24 # time zone hack\n",
    "plt.figure(figsize=(10, 5))\n",
    "mask = df.estimated_k_factor > 0.0\n",
    "df[mask].groupby('hour')['estimated_weight_g'].agg(lambda x: x.mean()).plot()\n",
    "plt.ylabel('Average Weight (g)')\n",
    "plt.grid()"
   ]
  },
  {
   "cell_type": "code",
   "execution_count": null,
   "metadata": {},
   "outputs": [],
   "source": [
    "df = extract_biomass_data(60, '2020-08-12', '2020-08-26', 0.99)\n",
    "df.hour = (df.hour + 2) % 24\n",
    "plt.figure(figsize=(10, 5))\n",
    "mask = df.estimated_k_factor > 0.0\n",
    "df[mask].groupby('hour')['estimated_weight_g'].agg(lambda x: x.mean()).plot()\n",
    "plt.grid()"
   ]
  },
  {
   "cell_type": "code",
   "execution_count": null,
   "metadata": {},
   "outputs": [],
   "source": [
    "df = extract_biomass_data(100, '2020-06-01', '2020-08-31', 0.99)\n",
    "df.hour = (df.hour + 2) % 24\n",
    "plt.figure(figsize=(10, 5))\n",
    "mask = df.estimated_k_factor > 0.0\n",
    "df[mask].groupby('hour')['estimated_weight_g'].agg(lambda x: x.mean()).plot()\n",
    "plt.grid()"
   ]
  },
  {
   "cell_type": "code",
   "execution_count": null,
   "metadata": {},
   "outputs": [],
   "source": [
    "df = extract_biomass_data(88, '2020-02-01', '2020-03-06', 0.99)\n",
    "df.hour = (df.hour + 2) % 24\n",
    "plt.figure(figsize=(10, 5))\n",
    "mask = df.estimated_k_factor > 0.0\n",
    "df[mask].groupby('hour')['estimated_weight_g'].agg(lambda x: x.mean()).plot()\n",
    "plt.grid()"
   ]
  },
  {
   "cell_type": "code",
   "execution_count": null,
   "metadata": {},
   "outputs": [],
   "source": [
    "df = extract_biomass_data(95, '2020-04-01', '2020-07-30', 0.99)\n",
    "df.hour = (df.hour + 2) % 24\n",
    "plt.figure(figsize=(10, 5))\n",
    "mask = df.estimated_k_factor > 0.0\n",
    "df[mask].groupby('hour')['estimated_weight_g'].agg(lambda x: x.mean()).plot()\n",
    "plt.grid()"
   ]
  },
  {
   "cell_type": "code",
   "execution_count": null,
   "metadata": {},
   "outputs": [],
   "source": []
  },
  {
   "cell_type": "code",
   "execution_count": null,
   "metadata": {},
   "outputs": [],
   "source": [
    "df = extract_biomass_data(131, '2020-08-12', '2020-08-26', 0.99)\n",
    "df.hour = (df.hour + 2) % 24\n",
    "plt.figure(figsize=(10, 5))\n",
    "mask = df.estimated_k_factor > 0.0\n",
    "df[mask].groupby('hour')['estimated_weight_g'].agg(lambda x: x.mean()).plot()\n",
    "plt.grid()"
   ]
  },
  {
   "cell_type": "code",
   "execution_count": null,
   "metadata": {},
   "outputs": [],
   "source": [
    "df = extract_biomass_data(132, '2020-07-01', '2020-07-26', 0.99)\n",
    "df.hour = (df.hour + 2) % 24\n",
    "plt.figure(figsize=(10, 5))\n",
    "mask = df.estimated_k_factor > 0.0\n",
    "df[mask].groupby('hour')['estimated_weight_g'].agg(lambda x: x.mean()).plot()\n",
    "plt.grid()"
   ]
  },
  {
   "cell_type": "code",
   "execution_count": null,
   "metadata": {},
   "outputs": [],
   "source": []
  },
  {
   "cell_type": "code",
   "execution_count": null,
   "metadata": {},
   "outputs": [],
   "source": []
  },
  {
   "cell_type": "code",
   "execution_count": null,
   "metadata": {},
   "outputs": [],
   "source": [
    "df = extract_biomass_data(132, '2020-08-27', '2020-09-03', 0.99)\n",
    "\n",
    "plt.figure(figsize=(20, 10))\n",
    "mask = df.estimated_k_factor > 1.08\n",
    "df[mask].groupby('hour')['estimated_weight_g'].agg(lambda x: x.mean()).plot()\n",
    "# df.groupby('hour')['estimated_weight_g'].agg(lambda x: x.median()).plot()\n",
    "plt.grid()"
   ]
  },
  {
   "cell_type": "code",
   "execution_count": null,
   "metadata": {},
   "outputs": [],
   "source": [
    "df = extract_biomass_data(132, '2020-08-20', '2020-08-27', 0.99)\n",
    "\n",
    "plt.figure(figsize=(20, 10))\n",
    "mask = df.estimated_k_factor > 1.08\n",
    "df[mask].groupby('hour')['estimated_weight_g'].agg(lambda x: x.mean()).plot()\n",
    "plt.grid()"
   ]
  },
  {
   "cell_type": "code",
   "execution_count": null,
   "metadata": {},
   "outputs": [],
   "source": [
    "depths = []\n",
    "for idx, row in df.iterrows():\n",
    "    ann, cm = row.annotation, row.camera_metadata\n",
    "    wkps = pixel2world(ann['leftCrop'], ann['rightCrop'], cm)\n",
    "    depth = np.median([wkp[1] for wkp in wkps.values()])\n",
    "    depths.append(depth)\n",
    "df['depth'] = depths"
   ]
  },
  {
   "cell_type": "code",
   "execution_count": null,
   "metadata": {},
   "outputs": [],
   "source": [
    "fig, axes = plt.subplots(1, 1, figsize=(20, 10))\n",
    "\n",
    "amts = [2000, 3000, 4000, 5000]\n",
    "\n",
    "for amt in amts:\n",
    "    df1 = df[(df.estimated_weight_g < amt) & (df.estimated_weight_g > amt - 1000) ].groupby('date')['depth'].agg(lambda x: x.mean() )\n",
    "    df1.index = pd.to_datetime(df1.index)\n",
    "    \n",
    "    df_before = df1[(df1.index < '2020-08-01')]\n",
    "    df_after = df1[(df1.index >= '2020-08-01')]\n",
    "    x1 = np.arange(len(df_before)) # = array([0, 1, 2, ..., 3598, 3599, 3600])\n",
    "    fit1 = np.polyfit(x1, df_before.values, 1)\n",
    "    fit_fn1 = np.poly1d(fit1)\n",
    "    \n",
    "    x2 = np.arange(len(df_after)) # = array([0, 1, 2, ..., 3598, 3599, 3600])\n",
    "    fit2 = np.polyfit(x2, df_after.values, 1)\n",
    "    fit_fn2 = np.poly1d(fit2)\n",
    "\n",
    "    axes.plot(df1.index, df1.values, label = amt)\n",
    "    axes.plot(df_before.index, fit_fn1(x1), 'k--')\n",
    "    axes.plot(df_after.index, fit_fn2(x2), 'k--')\n",
    "\n",
    "axes.set_xlabel('Date')\n",
    "axes.set_ylabel('Depth from Camera')\n",
    "axes.set_title('Varholmen Pen 6: Average Depth from Camera By Weight')\n",
    "\n",
    "axes.legend()\n",
    "    \n",
    "# df2 = df[(df.estimated_weight_g < pct75) & (df.estimated_weight_g > pct75 - 1000) ].groupby('date')['depth'].agg(lambda x: x.mean() )\n",
    "# df2.index = pd.to_datetime(df2.index)\n",
    "\n",
    "# df5 = df2 - df1\n",
    "# df6 = df5.rolling(window=7).mean()\n",
    "\n",
    "# df3 = df1.rolling(window=7).mean()\n",
    "# df4 = df2.rolling(window=7).mean()\n",
    "\n",
    "#plt.plot(df[df.estimated_k_factor > 1.08].groupby('date')['depth'].agg(lambda x: x.mean() ), color = 'red')\n",
    "# plt.plot(df5, color = 'green')\n",
    "\n",
    "# x2 = np.arange(len(df2)) # = array([0, 1, 2, ..., 3598, 3599, 3600])\n",
    "# fit2 = np.polyfit(x2, df2.values, 1)\n",
    "# fit_fn2 = np.poly1d(fit2)\n",
    "\n",
    "\n",
    "# plt.plot(df2.index, df2.values, color = 'red')\n",
    "# plt.plot(df2.index, fit_fn2(x2), 'k--')"
   ]
  },
  {
   "cell_type": "code",
   "execution_count": null,
   "metadata": {},
   "outputs": [],
   "source": [
    "df_after.values"
   ]
  },
  {
   "cell_type": "code",
   "execution_count": null,
   "metadata": {},
   "outputs": [],
   "source": []
  },
  {
   "cell_type": "code",
   "execution_count": null,
   "metadata": {},
   "outputs": [],
   "source": []
  },
  {
   "cell_type": "code",
   "execution_count": null,
   "metadata": {},
   "outputs": [],
   "source": [
    "df[mask].groupby('hour')['estimated_weight_g'].agg(lambda x: x.shape[0]).plot()"
   ]
  },
  {
   "cell_type": "code",
   "execution_count": null,
   "metadata": {},
   "outputs": [],
   "source": []
  },
  {
   "cell_type": "code",
   "execution_count": null,
   "metadata": {},
   "outputs": [],
   "source": [
    "from research.weight_estimation.keypoint_utils.optics import pixel2world\n",
    "import numpy as np\n",
    "from research.weight_estimation.keypoint_utils import body_parts\n",
    "\n",
    "def get_raw_3d_coordinates(keypoints, cm):\n",
    "    wkps = pixel2world([item for item in keypoints['leftCrop'] if item['keypointType'] != 'BODY'],\n",
    "                       [item for item in keypoints['rightCrop'] if item['keypointType'] != 'BODY'],\n",
    "                       cm)\n",
    "\n",
    "    all_wkps = np.array([list(wkps[bp]) for bp in body_parts.core_body_parts])\n",
    "    return all_wkps"
   ]
  },
  {
   "cell_type": "code",
   "execution_count": null,
   "metadata": {},
   "outputs": [],
   "source": [
    "depths = []\n",
    "for idx, row in df.iterrows():\n",
    "    try:\n",
    "        wkps = get_raw_3d_coordinates(row.annotation, row.camera_metadata)\n",
    "        depth = np.median(wkps[:, 1])\n",
    "    except:\n",
    "        depth = None\n",
    "    depths.append(depth)\n",
    "    "
   ]
  },
  {
   "cell_type": "code",
   "execution_count": null,
   "metadata": {},
   "outputs": [],
   "source": [
    "df['depth'] = depths"
   ]
  },
  {
   "cell_type": "code",
   "execution_count": null,
   "metadata": {},
   "outputs": [],
   "source": [
    "plt.hist(df.depth, bins=20)\n",
    "plt.show()"
   ]
  },
  {
   "cell_type": "code",
   "execution_count": null,
   "metadata": {},
   "outputs": [],
   "source": [
    "plt.hist(df.depth, bins=20)\n",
    "plt.show()"
   ]
  },
  {
   "cell_type": "code",
   "execution_count": null,
   "metadata": {},
   "outputs": [],
   "source": [
    "plt.hist(df.depth, bins=20)\n",
    "plt.show()"
   ]
  },
  {
   "cell_type": "code",
   "execution_count": null,
   "metadata": {},
   "outputs": [],
   "source": []
  },
  {
   "cell_type": "code",
   "execution_count": null,
   "metadata": {},
   "outputs": [],
   "source": []
  },
  {
   "cell_type": "code",
   "execution_count": null,
   "metadata": {},
   "outputs": [],
   "source": [
    "df = extract_biomass_data(124, '2020-08-10', '2020-08-29', 0.99)\n",
    "\n",
    "plt.figure(figsize=(20, 10))\n",
    "mask = df.estimated_k_factor > 1.25\n",
    "df[mask].groupby('hour')['estimated_weight_g'].agg(lambda x: x.mean()).plot()\n",
    "plt.grid()"
   ]
  },
  {
   "cell_type": "code",
   "execution_count": null,
   "metadata": {},
   "outputs": [],
   "source": []
  },
  {
   "cell_type": "code",
   "execution_count": null,
   "metadata": {},
   "outputs": [],
   "source": [
    "df = extract_biomass_data(124, '2020-08-10', '2020-08-29', 0.99)\n",
    "\n",
    "plt.figure(figsize=(15, 8))\n",
    "mask = df.estimated_k_factor > 1.3\n",
    "df[mask].groupby('hour')['estimated_weight_g'].agg(lambda x: x.mean()).plot()\n",
    "plt.grid()"
   ]
  },
  {
   "cell_type": "code",
   "execution_count": null,
   "metadata": {},
   "outputs": [],
   "source": [
    "plt.figure(figsize=(15, 8))\n",
    "df[mask].groupby('hour')['estimated_weight_g'].agg(lambda x: x.shape[0]).plot()\n",
    "plt.grid()"
   ]
  },
  {
   "cell_type": "code",
   "execution_count": null,
   "metadata": {},
   "outputs": [],
   "source": []
  },
  {
   "cell_type": "code",
   "execution_count": null,
   "metadata": {},
   "outputs": [],
   "source": []
  },
  {
   "cell_type": "code",
   "execution_count": null,
   "metadata": {},
   "outputs": [],
   "source": []
  },
  {
   "cell_type": "code",
   "execution_count": null,
   "metadata": {},
   "outputs": [],
   "source": []
  },
  {
   "cell_type": "code",
   "execution_count": null,
   "metadata": {},
   "outputs": [],
   "source": []
  },
  {
   "cell_type": "code",
   "execution_count": null,
   "metadata": {},
   "outputs": [],
   "source": []
  },
  {
   "cell_type": "code",
   "execution_count": null,
   "metadata": {},
   "outputs": [],
   "source": []
  },
  {
   "cell_type": "code",
   "execution_count": null,
   "metadata": {},
   "outputs": [],
   "source": []
  },
  {
   "cell_type": "code",
   "execution_count": null,
   "metadata": {},
   "outputs": [],
   "source": [
    "rds"
   ]
  },
  {
   "cell_type": "code",
   "execution_count": null,
   "metadata": {},
   "outputs": [],
   "source": []
  },
  {
   "cell_type": "code",
   "execution_count": null,
   "metadata": {},
   "outputs": [],
   "source": []
  },
  {
   "cell_type": "code",
   "execution_count": null,
   "metadata": {},
   "outputs": [],
   "source": []
  },
  {
   "cell_type": "code",
   "execution_count": null,
   "metadata": {},
   "outputs": [],
   "source": []
  },
  {
   "cell_type": "code",
   "execution_count": null,
   "metadata": {},
   "outputs": [],
   "source": []
  },
  {
   "cell_type": "code",
   "execution_count": null,
   "metadata": {},
   "outputs": [],
   "source": []
  },
  {
   "cell_type": "code",
   "execution_count": null,
   "metadata": {},
   "outputs": [],
   "source": []
  },
  {
   "cell_type": "code",
   "execution_count": null,
   "metadata": {},
   "outputs": [],
   "source": []
  }
 ],
 "metadata": {
  "kernelspec": {
   "display_name": "Python 3",
   "language": "python",
   "name": "python3"
  },
  "language_info": {
   "codemirror_mode": {
    "name": "ipython",
    "version": 3
   },
   "file_extension": ".py",
   "mimetype": "text/x-python",
   "name": "python",
   "nbconvert_exporter": "python",
   "pygments_lexer": "ipython3",
   "version": "3.6.5"
  }
 },
 "nbformat": 4,
 "nbformat_minor": 2
}
