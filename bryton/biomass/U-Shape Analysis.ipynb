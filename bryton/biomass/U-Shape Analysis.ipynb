{
 "cells": [
  {
   "cell_type": "code",
   "execution_count": null,
   "metadata": {},
   "outputs": [],
   "source": [
    "import json\n",
    "import os\n",
    "import numpy as np\n",
    "import pandas as pd\n",
    "from matplotlib import pyplot as plt\n",
    "from filter_optimization.filter_optimization_task import extract_biomass_data\n",
    "\n",
    "from research.utils.data_access_utils import S3AccessUtils, RDSAccessUtils\n",
    "\n",
    "plt.rcParams['font.size'] = 18"
   ]
  },
  {
   "cell_type": "code",
   "execution_count": null,
   "metadata": {},
   "outputs": [],
   "source": [
    "%%javascript\n",
    "IPython.OutputArea.prototype._should_scroll = function(lines) {\n",
    "    return false;\n",
    "}"
   ]
  },
  {
   "cell_type": "code",
   "execution_count": null,
   "metadata": {},
   "outputs": [],
   "source": [
    "rds_access_utils = RDSAccessUtils(json.load(open(os.environ['PROD_SQL_CREDENTIALS'])))\n",
    "\n",
    "query = \"\"\"\n",
    "    select p.id as id, s.name as site_name, p.name as pen_name from pens p\n",
    "    left join sites s\n",
    "    on p.site_id = s.id\n",
    "    order by p.id;\n",
    "\"\"\"\n",
    "\n",
    "df_pens = rds_access_utils.extract_from_database(query)\n",
    "\n",
    "pen_infos = {}\n",
    "\n",
    "for index, pen in df_pens.iterrows():\n",
    "    pen_infos[pen.id] = pen"
   ]
  },
  {
   "cell_type": "code",
   "execution_count": null,
   "metadata": {},
   "outputs": [],
   "source": [
    "rds_access_utils = RDSAccessUtils(json.load(open(os.environ['PROD_SQL_CREDENTIALS'])))\n",
    "\n",
    "query = \"\"\"\n",
    "    select date, biomass_data from day_summaries where pen_id = 132 and date > '2020-07-15' and date < '2020-08-27' and biomass_data is not null;\n",
    "\"\"\"\n",
    "\n",
    "df = rds_access_utils.extract_from_database(query)\n",
    "\n",
    "df.index = df['date']"
   ]
  },
  {
   "cell_type": "code",
   "execution_count": null,
   "metadata": {},
   "outputs": [],
   "source": [
    "dates = []\n",
    "weights = []\n",
    "\n",
    "for index, row in df.iterrows():\n",
    "    date = row['date']\n",
    "    avgWeight = row['biomass_data']['smartData']['avgWeight']\n",
    "    dates.append(date)\n",
    "    weights.append(avgWeight)\n",
    "    \n",
    "plt.figure(figsize=(20, 10))\n",
    "plt.plot(df.index, np.array(weights))\n",
    "plt.xlabel('Date')\n",
    "plt.ylabel('Avg Weight')\n",
    "plt.title('Varholmen: Pen 13 Average Weight')"
   ]
  },
  {
   "cell_type": "code",
   "execution_count": null,
   "metadata": {},
   "outputs": [],
   "source": []
  },
  {
   "cell_type": "code",
   "execution_count": null,
   "metadata": {},
   "outputs": [],
   "source": [
    "rds_access_utils = RDSAccessUtils(json.load(open(os.environ['DATA_WAREHOUSE_SQL_CREDENTIALS'])))\n",
    "\n",
    "def get_depth(pen_id, start_date, end_date):\n",
    "    query = \"\"\"\n",
    "        select avg(value) from stream.telemetry where pen_id = %i and\n",
    "        attribute = 'aquabyte_smooth_sensors_depth_meters' and ts_source > '%s' and ts_source < '%s' and value != 'NaN'\n",
    "        limit 1;\n",
    "    \"\"\" % (pen_id, start_date, end_date)\n",
    "    \n",
    "    df = rds_access_utils.extract_from_database(query)\n",
    "    \n",
    "    print(df)\n",
    "    \n",
    "    if len(df) > 0:\n",
    "        if df.ix[0, 'avg'] is not None:\n",
    "            return df.ix[0, 'avg']\n",
    "    return 0"
   ]
  },
  {
   "cell_type": "code",
   "execution_count": null,
   "metadata": {},
   "outputs": [],
   "source": [
    "pens = [\n",
    "    {\n",
    "        'pen_id': 88,\n",
    "        'start_date': '2020-02-01 00:00',\n",
    "        'end_date': '2020-03-04 00:00'\n",
    "    },\n",
    "    {\n",
    "        'pen_id': 108,\n",
    "        'start_date': '2020-04-15 00:00',\n",
    "        'end_date': '2020-05-10 00:00'\n",
    "    },\n",
    "    {\n",
    "        'pen_id': 66,\n",
    "        'start_date': '2020-05-15 00:00',\n",
    "        'end_date': '2020-06-09 00:00'\n",
    "    },\n",
    "    {\n",
    "        'pen_id': 37,\n",
    "        'start_date': '2020-06-01 00:00',\n",
    "        'end_date': '2020-06-17 00:00'\n",
    "    },\n",
    "    {\n",
    "        'pen_id': 86,\n",
    "        'start_date': '2020-07-01 00:00',\n",
    "        'end_date': '2020-07-15 00:00'\n",
    "    },\n",
    "    {\n",
    "        'pen_id': 95,\n",
    "        'start_date': '2020-07-01 00:00',\n",
    "        'end_date': '2020-07-24 00:00'\n",
    "    },\n",
    "    {\n",
    "        'pen_id': 129,\n",
    "        'start_date': '2020-07-01 00:00',\n",
    "        'end_date': '2020-07-20 00:00'\n",
    "    },\n",
    "    {\n",
    "        'pen_id': 133,\n",
    "        'start_date': '2020-07-15 00:00',\n",
    "        'end_date': '2020-08-01 00:00'\n",
    "    },\n",
    "    {\n",
    "        'pen_id': 100,\n",
    "        'start_date': '2020-07-15 00:00',\n",
    "        'end_date': '2020-07-31 00:00'\n",
    "    },\n",
    "    {\n",
    "        'pen_id': 56,\n",
    "        'start_date': '2020-08-01 00:00',\n",
    "        'end_date': '2020-08-30 00:00'\n",
    "    },\n",
    "    {\n",
    "        'pen_id': 60,\n",
    "        'start_date': '2020-08-01 00:00',\n",
    "        'end_date': '2020-08-30 00:00'\n",
    "    },\n",
    "    {\n",
    "        'pen_id': 131,\n",
    "        'start_date': '2020-08-05 00:00',\n",
    "        'end_date': '2020-08-30 00:00'\n",
    "    },\n",
    "    {\n",
    "        'pen_id': 132,\n",
    "        'start_date': '2020-08-05 00:00',\n",
    "        'end_date': '2020-08-30 00:00'\n",
    "    },\n",
    "    {\n",
    "        'pen_id': 124,\n",
    "        'start_date': '2020-08-01 00:00',\n",
    "        'end_date': '2020-08-30 00:00'\n",
    "    },\n",
    "    {\n",
    "        'pen_id': 125,\n",
    "        'start_date': '2020-08-01 00:00',\n",
    "        'end_date': '2020-08-30 00:00'\n",
    "    },\n",
    "    {\n",
    "        'pen_id': 1,\n",
    "        'start_date': '2020-08-01 00:00',\n",
    "        'end_date': '2020-08-30 00:00'\n",
    "    },\n",
    "    {\n",
    "        'pen_id': 4,\n",
    "        'start_date': '2020-08-01 00:00',\n",
    "        'end_date': '2020-08-30 00:00'\n",
    "    },\n",
    "    {\n",
    "        'pen_id': 5,\n",
    "        'start_date': '2020-08-01 00:00',\n",
    "        'end_date': '2020-08-30 00:00'\n",
    "    },\n",
    "    {\n",
    "        'pen_id': 136,\n",
    "        'start_date': '2020-08-01 00:00',\n",
    "        'end_date': '2020-08-30 00:00'\n",
    "    },\n",
    "    {\n",
    "        'pen_id': 137,\n",
    "        'start_date': '2020-08-01 00:00',\n",
    "        'end_date': '2020-08-30 00:00'\n",
    "    },\n",
    "#     {\n",
    "#         'pen_id': 138,\n",
    "#         'start_date': '2020-08-01 00:00',\n",
    "#         'end_date': '2020-08-30 00:00'\n",
    "#     },\n",
    "    {\n",
    "        'pen_id': 127,\n",
    "        'start_date': '2020-08-01 00:00',\n",
    "        'end_date': '2020-08-30 00:00'\n",
    "    },\n",
    "    {\n",
    "        'pen_id': 126,\n",
    "        'start_date': '2020-08-01 00:00',\n",
    "        'end_date': '2020-08-30 00:00'\n",
    "    },\n",
    "    {\n",
    "        'pen_id': 114,\n",
    "        'start_date': '2020-08-01 00:00',\n",
    "        'end_date': '2020-08-30 00:00'\n",
    "    },\n",
    "    {\n",
    "        'pen_id': 116,\n",
    "        'start_date': '2020-08-01 00:00',\n",
    "        'end_date': '2020-08-30 00:00'\n",
    "    }\n",
    "]\n"
   ]
  },
  {
   "cell_type": "code",
   "execution_count": null,
   "metadata": {},
   "outputs": [],
   "source": [
    "queryCache = {}"
   ]
  },
  {
   "cell_type": "code",
   "execution_count": null,
   "metadata": {},
   "outputs": [],
   "source": [
    "depthCache = {}"
   ]
  },
  {
   "cell_type": "code",
   "execution_count": null,
   "metadata": {},
   "outputs": [],
   "source": [
    "fig, axes = plt.subplots(len(pens), 1, figsize=(10, len(pens) * 5))\n",
    "fig.tight_layout(pad = 5)\n",
    "\n",
    "depths = []\n",
    "sds = []\n",
    "sites = []\n",
    "\n",
    "a = None\n",
    "\n",
    "for index, pen in enumerate(pens):\n",
    "    pen_id = pen['pen_id']\n",
    "    start_date = pen['start_date']\n",
    "    end_date = pen['end_date']\n",
    "    \n",
    "    if pen_id in queryCache and start_date in queryCache[pen_id] and end_date in queryCache[pen_id][start_date]:\n",
    "        df = queryCache[pen_id][start_date][end_date]\n",
    "    else:\n",
    "        df = extract_biomass_data(pen_id, start_date, end_date, 0.99)\n",
    "        queryCache[pen_id] = { start_date: { end_date: df } }\n",
    "    \n",
    "    df.hour = df.index.hour\n",
    "        \n",
    "    if pen_id in depthCache and start_date in depthCache[pen_id] and end_date in depthCache[pen_id][start_date]:\n",
    "        depth = depthCache[pen_id][start_date][end_date]\n",
    "    else:\n",
    "        depth = get_depth(pen_id, start_date, end_date)\n",
    "        depthCache[pen_id] = { start_date: { end_date: depth } }\n",
    "    \n",
    "    mask = df.estimated_k_factor > 0.0\n",
    "    a = df[mask].groupby('hour')['estimated_weight_g'].agg(lambda x: x.mean())\n",
    "    \n",
    "    depths.append(depth)\n",
    "    sds.append(np.std(a.values / np.mean(a.values)))\n",
    "    sites.append(pen_infos[pen_id]['site_name'])\n",
    "        \n",
    "    #df.hour = (df.hour + 2) % 24 # time zone hack\n",
    "    \n",
    "    \n",
    "    axes[index].bar(a.index, height=a.values / np.mean(a.values))\n",
    "    axes[index].set_xlabel('UTC Hour')\n",
    "    axes[index].set_ylabel('Average Weight (g)')\n",
    "    axes[index].set_title('Pen %i: %s at %0.2f depth' % (pen_id, pen_infos[pen_id]['site_name'], depth))\n",
    "    axes[index].grid()\n",
    "    axes[index].set_xlim([-1, 25])\n",
    "    diff = (max(a.values) / np.mean(a) - min(a.values) / np.mean(a)) / 2\n",
    "    axes[index].set_ylim([min(a.values)/ np.mean(a) - diff, max(a.values)/ np.mean(a) + diff])"
   ]
  },
  {
   "cell_type": "code",
   "execution_count": null,
   "metadata": {},
   "outputs": [],
   "source": [
    "plt.figure(figsize=(10, 10))\n",
    "\n",
    "plt.scatter(depths, sds)\n",
    "\n",
    "for i, site in enumerate(sites):\n",
    "    plt.annotate('%s' % (site,), (depths[i], sds[i]))"
   ]
  },
  {
   "cell_type": "code",
   "execution_count": null,
   "metadata": {},
   "outputs": [],
   "source": [
    "\n",
    "\n",
    "\n",
    "# df = extract_biomass_data(60, '2020-06-01', '2020-08-31', 0.99)\n",
    "# df.hour = (df.hour + 2) % 24\n",
    "# plt.figure(figsize=(10, 5))\n",
    "# mask = df.estimated_k_factor > 0.0\n",
    "# df[mask].groupby('hour')['estimated_weight_g'].agg(lambda x: x.mean()).plot()\n",
    "# plt.grid()"
   ]
  },
  {
   "cell_type": "code",
   "execution_count": null,
   "metadata": {},
   "outputs": [],
   "source": [
    "df = extract_biomass_data(100, '2020-06-01', '2020-08-31', 0.99)\n",
    "df.hour = (df.hour + 2) % 24\n",
    "plt.figure(figsize=(10, 5))\n",
    "mask = df.estimated_k_factor > 0.0\n",
    "df[mask].groupby('hour')['estimated_weight_g'].agg(lambda x: x.mean()).plot()\n",
    "plt.grid()"
   ]
  },
  {
   "cell_type": "code",
   "execution_count": null,
   "metadata": {},
   "outputs": [],
   "source": [
    "df = extract_biomass_data(88, '2020-02-01', '2020-03-06', 0.99)\n",
    "df.hour = (df.hour + 2) % 24\n",
    "plt.figure(figsize=(10, 5))\n",
    "mask = df.estimated_k_factor > 0.0\n",
    "df[mask].groupby('hour')['estimated_weight_g'].agg(lambda x: x.mean()).plot()\n",
    "plt.grid()"
   ]
  },
  {
   "cell_type": "code",
   "execution_count": null,
   "metadata": {},
   "outputs": [],
   "source": [
    "df = extract_biomass_data(95, '2020-04-01', '2020-07-30', 0.99)\n",
    "df.hour = (df.hour + 2) % 24\n",
    "plt.figure(figsize=(10, 5))\n",
    "mask = df.estimated_k_factor > 0.0\n",
    "df[mask].groupby('hour')['estimated_weight_g'].agg(lambda x: x.mean()).plot()\n",
    "plt.grid()"
   ]
  },
  {
   "cell_type": "code",
   "execution_count": null,
   "metadata": {},
   "outputs": [],
   "source": []
  },
  {
   "cell_type": "code",
   "execution_count": null,
   "metadata": {},
   "outputs": [],
   "source": [
    "df = extract_biomass_data(131, '2020-08-12', '2020-08-26', 0.99)\n",
    "df.hour = (df.hour + 2) % 24\n",
    "plt.figure(figsize=(10, 5))\n",
    "mask = df.estimated_k_factor > 0.0\n",
    "df[mask].groupby('hour')['estimated_weight_g'].agg(lambda x: x.mean()).plot()\n",
    "plt.grid()"
   ]
  },
  {
   "cell_type": "code",
   "execution_count": null,
   "metadata": {},
   "outputs": [],
   "source": [
    "df = extract_biomass_data(132, '2020-08-12', '2020-08-26', 0.99)\n",
    "df.hour = (df.hour + 2) % 24\n",
    "plt.figure(figsize=(10, 5))\n",
    "mask = df.estimated_k_factor > 0.0\n",
    "df[mask].groupby('hour')['estimated_weight_g'].agg(lambda x: x.mean()).plot()\n",
    "plt.grid()"
   ]
  },
  {
   "cell_type": "code",
   "execution_count": null,
   "metadata": {},
   "outputs": [],
   "source": []
  },
  {
   "cell_type": "code",
   "execution_count": null,
   "metadata": {},
   "outputs": [],
   "source": []
  },
  {
   "cell_type": "code",
   "execution_count": null,
   "metadata": {},
   "outputs": [],
   "source": []
  },
  {
   "cell_type": "code",
   "execution_count": null,
   "metadata": {},
   "outputs": [],
   "source": [
    "df = extract_biomass_data(131, '2020-06-01', '2020-08-31', 0.99)\n",
    "\n",
    "plt.figure(figsize=(20, 10))\n",
    "mask = df.estimated_k_factor > 1.08\n",
    "df[mask].groupby('hour')['estimated_weight_g'].agg(lambda x: x.mean()).plot()\n",
    "plt.grid()"
   ]
  },
  {
   "cell_type": "code",
   "execution_count": null,
   "metadata": {},
   "outputs": [],
   "source": [
    "df = extract_biomass_data(132, '2020-06-01', '2020-08-31', 0.99)\n",
    "\n",
    "plt.figure(figsize=(20, 10))\n",
    "mask = df.estimated_k_factor > 1.08\n",
    "df[mask].groupby('hour')['estimated_weight_g'].agg(lambda x: x.mean()).plot()\n",
    "plt.grid()"
   ]
  },
  {
   "cell_type": "code",
   "execution_count": null,
   "metadata": {},
   "outputs": [],
   "source": []
  },
  {
   "cell_type": "code",
   "execution_count": null,
   "metadata": {},
   "outputs": [],
   "source": []
  },
  {
   "cell_type": "code",
   "execution_count": null,
   "metadata": {},
   "outputs": [],
   "source": []
  },
  {
   "cell_type": "code",
   "execution_count": null,
   "metadata": {},
   "outputs": [],
   "source": []
  },
  {
   "cell_type": "code",
   "execution_count": null,
   "metadata": {},
   "outputs": [],
   "source": []
  },
  {
   "cell_type": "code",
   "execution_count": null,
   "metadata": {},
   "outputs": [],
   "source": [
    "df[mask].groupby('hour')['estimated_weight_g'].agg(lambda x: x.shape[0]).plot()"
   ]
  },
  {
   "cell_type": "code",
   "execution_count": null,
   "metadata": {},
   "outputs": [],
   "source": []
  },
  {
   "cell_type": "code",
   "execution_count": null,
   "metadata": {},
   "outputs": [],
   "source": [
    "from research.weight_estimation.keypoint_utils.optics import pixel2world\n",
    "import numpy as np\n",
    "from research.weight_estimation.keypoint_utils import body_parts\n",
    "\n",
    "def get_raw_3d_coordinates(keypoints, cm):\n",
    "    wkps = pixel2world([item for item in keypoints['leftCrop'] if item['keypointType'] != 'BODY'],\n",
    "                       [item for item in keypoints['rightCrop'] if item['keypointType'] != 'BODY'],\n",
    "                       cm)\n",
    "\n",
    "    all_wkps = np.array([list(wkps[bp]) for bp in body_parts.core_body_parts])\n",
    "    return all_wkps"
   ]
  },
  {
   "cell_type": "code",
   "execution_count": null,
   "metadata": {},
   "outputs": [],
   "source": [
    "depths = []\n",
    "for idx, row in df.iterrows():\n",
    "    try:\n",
    "        wkps = get_raw_3d_coordinates(row.annotation, row.camera_metadata)\n",
    "        depth = np.median(wkps[:, 1])\n",
    "    except:\n",
    "        depth = None\n",
    "    depths.append(depth)\n",
    "    "
   ]
  },
  {
   "cell_type": "code",
   "execution_count": null,
   "metadata": {},
   "outputs": [],
   "source": [
    "df['depth'] = depths"
   ]
  },
  {
   "cell_type": "code",
   "execution_count": null,
   "metadata": {},
   "outputs": [],
   "source": [
    "plt.hist(df.depth, bins=20)\n",
    "plt.show()"
   ]
  },
  {
   "cell_type": "code",
   "execution_count": null,
   "metadata": {},
   "outputs": [],
   "source": [
    "plt.hist(df.depth, bins=20)\n",
    "plt.show()"
   ]
  },
  {
   "cell_type": "code",
   "execution_count": null,
   "metadata": {},
   "outputs": [],
   "source": [
    "plt.hist(df.depth, bins=20)\n",
    "plt.show()"
   ]
  },
  {
   "cell_type": "code",
   "execution_count": null,
   "metadata": {},
   "outputs": [],
   "source": []
  },
  {
   "cell_type": "code",
   "execution_count": null,
   "metadata": {},
   "outputs": [],
   "source": []
  },
  {
   "cell_type": "code",
   "execution_count": null,
   "metadata": {},
   "outputs": [],
   "source": [
    "df = extract_biomass_data(124, '2020-08-10', '2020-08-29', 0.99)\n",
    "\n",
    "plt.figure(figsize=(20, 10))\n",
    "mask = df.estimated_k_factor > 1.25\n",
    "df[mask].groupby('hour')['estimated_weight_g'].agg(lambda x: x.mean()).plot()\n",
    "plt.grid()"
   ]
  },
  {
   "cell_type": "code",
   "execution_count": null,
   "metadata": {},
   "outputs": [],
   "source": []
  },
  {
   "cell_type": "code",
   "execution_count": null,
   "metadata": {},
   "outputs": [],
   "source": [
    "df = extract_biomass_data(124, '2020-08-10', '2020-08-29', 0.99)\n",
    "\n",
    "plt.figure(figsize=(15, 8))\n",
    "mask = df.estimated_k_factor > 1.3\n",
    "df[mask].groupby('hour')['estimated_weight_g'].agg(lambda x: x.mean()).plot()\n",
    "plt.grid()"
   ]
  },
  {
   "cell_type": "code",
   "execution_count": null,
   "metadata": {},
   "outputs": [],
   "source": [
    "plt.figure(figsize=(15, 8))\n",
    "df[mask].groupby('hour')['estimated_weight_g'].agg(lambda x: x.shape[0]).plot()\n",
    "plt.grid()"
   ]
  },
  {
   "cell_type": "code",
   "execution_count": null,
   "metadata": {},
   "outputs": [],
   "source": []
  },
  {
   "cell_type": "code",
   "execution_count": null,
   "metadata": {},
   "outputs": [],
   "source": []
  },
  {
   "cell_type": "code",
   "execution_count": null,
   "metadata": {},
   "outputs": [],
   "source": []
  },
  {
   "cell_type": "code",
   "execution_count": null,
   "metadata": {},
   "outputs": [],
   "source": []
  },
  {
   "cell_type": "code",
   "execution_count": null,
   "metadata": {},
   "outputs": [],
   "source": []
  },
  {
   "cell_type": "code",
   "execution_count": null,
   "metadata": {},
   "outputs": [],
   "source": []
  },
  {
   "cell_type": "code",
   "execution_count": null,
   "metadata": {},
   "outputs": [],
   "source": []
  },
  {
   "cell_type": "code",
   "execution_count": null,
   "metadata": {},
   "outputs": [],
   "source": []
  },
  {
   "cell_type": "code",
   "execution_count": null,
   "metadata": {},
   "outputs": [],
   "source": [
    "rds"
   ]
  },
  {
   "cell_type": "code",
   "execution_count": null,
   "metadata": {},
   "outputs": [],
   "source": []
  },
  {
   "cell_type": "code",
   "execution_count": null,
   "metadata": {},
   "outputs": [],
   "source": []
  },
  {
   "cell_type": "code",
   "execution_count": null,
   "metadata": {},
   "outputs": [],
   "source": []
  },
  {
   "cell_type": "code",
   "execution_count": null,
   "metadata": {},
   "outputs": [],
   "source": []
  },
  {
   "cell_type": "code",
   "execution_count": null,
   "metadata": {},
   "outputs": [],
   "source": []
  },
  {
   "cell_type": "code",
   "execution_count": null,
   "metadata": {},
   "outputs": [],
   "source": []
  },
  {
   "cell_type": "code",
   "execution_count": null,
   "metadata": {},
   "outputs": [],
   "source": []
  },
  {
   "cell_type": "code",
   "execution_count": null,
   "metadata": {},
   "outputs": [],
   "source": []
  }
 ],
 "metadata": {
  "kernelspec": {
   "display_name": "Python 3",
   "language": "python",
   "name": "python3"
  },
  "language_info": {
   "codemirror_mode": {
    "name": "ipython",
    "version": 3
   },
   "file_extension": ".py",
   "mimetype": "text/x-python",
   "name": "python",
   "nbconvert_exporter": "python",
   "pygments_lexer": "ipython3",
   "version": "3.6.5"
  }
 },
 "nbformat": 4,
 "nbformat_minor": 2
}
