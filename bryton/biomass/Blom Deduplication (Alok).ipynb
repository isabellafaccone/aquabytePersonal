{
 "cells": [
  {
   "cell_type": "code",
   "execution_count": null,
   "metadata": {},
   "outputs": [],
   "source": [
    "import math\n",
    "import json\n",
    "import os\n",
    "import pandas as pd\n",
    "import numpy as np\n",
    "from datetime import datetime, timezone, timedelta, time\n",
    "from research.utils.data_access_utils import RDSAccessUtils\n",
    "from research.weight_estimation.keypoint_utils.optics import euclidean_distance, pixel2world, depth_from_disp, convert_to_world_point\n",
    "import matplotlib.pyplot as plt\n",
    "from matplotlib.dates import AutoDateFormatter, AutoDateLocator\n",
    "\n",
    "rds_access_utils = RDSAccessUtils(json.load(open(os.environ['DATA_WAREHOUSE_SQL_CREDENTIALS'])))"
   ]
  },
  {
   "cell_type": "code",
   "execution_count": null,
   "metadata": {},
   "outputs": [],
   "source": [
    "duplicates = pd.read_csv('vikane_pen_5_data_duplicate.csv')\n",
    "\n",
    "duplicates = duplicates.sort_values('captured_at').copy(deep=True)\n",
    "duplicates.index = pd.to_datetime(duplicates.captured_at)\n",
    "dates = duplicates.index.date.astype(str)\n",
    "duplicates['date'] = dates\n",
    "duplicates['hour'] = duplicates.index.hour"
   ]
  },
  {
   "cell_type": "code",
   "execution_count": null,
   "metadata": {},
   "outputs": [],
   "source": [
    "ground_truth = pd.read_csv('blom_vikane_singleweights.csv')"
   ]
  },
  {
   "cell_type": "code",
   "execution_count": null,
   "metadata": {},
   "outputs": [],
   "source": [
    "ground_truth.weight.mean()"
   ]
  },
  {
   "cell_type": "code",
   "execution_count": null,
   "metadata": {},
   "outputs": [],
   "source": [
    "ground_truth[(ground_truth.weight >= 3) & (ground_truth.weight <= 4)].shape[0] / ground_truth.shape[0]"
   ]
  },
  {
   "cell_type": "code",
   "execution_count": null,
   "metadata": {},
   "outputs": [],
   "source": []
  },
  {
   "cell_type": "code",
   "execution_count": null,
   "metadata": {},
   "outputs": [],
   "source": []
  },
  {
   "cell_type": "code",
   "execution_count": null,
   "metadata": {},
   "outputs": [],
   "source": []
  },
  {
   "cell_type": "code",
   "execution_count": null,
   "metadata": {},
   "outputs": [],
   "source": [
    "np.min(duplicates['estimated_length_mm'])"
   ]
  },
  {
   "cell_type": "code",
   "execution_count": null,
   "metadata": {},
   "outputs": [],
   "source": [
    "duplicates.tail()"
   ]
  },
  {
   "cell_type": "code",
   "execution_count": null,
   "metadata": {},
   "outputs": [],
   "source": [
    "plt.hist(duplicates['hour'])"
   ]
  },
  {
   "cell_type": "code",
   "execution_count": null,
   "metadata": {},
   "outputs": [],
   "source": [
    "import ast\n",
    "\n",
    "thetas = []\n",
    "phis = []\n",
    "\n",
    "for index, row in duplicates.iterrows():\n",
    "    ann1, cm1 = ast.literal_eval(row.annotation), ast.literal_eval(row.camera_metadata)\n",
    "    \n",
    "    wkps1 = pixel2world(ann1['leftCrop'], ann1['rightCrop'], cm1)\n",
    "\n",
    "    vector = wkps1['PECTORAL_FIN'] - wkps1['ANAL_FIN']\n",
    "    x, y, z = vector / np.linalg.norm(vector)\n",
    "    \n",
    "    theta = math.atan(y / x) * np.sign(y)\n",
    "    phi = math.acos(z)\n",
    "    dtheta = math.degrees(theta)\n",
    "    dphi = 90 - math.degrees(phi)\n",
    "    thetas.append(dtheta)\n",
    "    phis.append(dphi)\n",
    "    \n",
    "plt.figure(figsize=(20, 10))\n",
    "plt.scatter(thetas, phis, color = 'orange', label = 'Normal')\n",
    "# plt.scatter(thetas2, phis2, color = 'blue', label = 'Negative')\n",
    "plt.xlabel('Theta degree')\n",
    "plt.ylabel('Phi degree')\n",
    "plt.legend()\n",
    "\n",
    "duplicates['theta'] = thetas\n",
    "duplicates['phi'] = phis\n"
   ]
  },
  {
   "cell_type": "code",
   "execution_count": null,
   "metadata": {},
   "outputs": [],
   "source": [
    "ground_truth.head()"
   ]
  },
  {
   "cell_type": "code",
   "execution_count": null,
   "metadata": {},
   "outputs": [],
   "source": [
    "gt_weights = ground_truth['weight'] * 1000 / 0.83"
   ]
  },
  {
   "cell_type": "code",
   "execution_count": null,
   "metadata": {},
   "outputs": [],
   "source": [
    "from scipy.stats import t, norm\n",
    "\n",
    "mask0 = (duplicates['captured_at'] > '2020-08-24') & (duplicates['captured_at'] < '2020-08-26')\n",
    "\n",
    "#mask1 = mask0 & (np.abs(duplicates['theta']) < 10) & (np.abs(duplicates['phi']) < 10)\n",
    "mask1 = mask0 & (np.abs(duplicates['hour']) > 5) & (np.abs(duplicates['hour']) < 17)\n",
    "mask2 = mask1 & (duplicates['is_duplicate'] == 0)\n",
    "\n",
    "print(sum(mask0), sum(mask1), sum(mask2))\n",
    "\n",
    "dist1 = duplicates[mask1]\n",
    "dist2 = duplicates[mask2]\n",
    "\n",
    "# df, mean, std = t.fit(dist1['estimated_weight_g'])\n",
    "# df2, mean2, std2 = t.fit(dist2['estimated_weight_g'])\n",
    "# gt_df, gt_mean, gt_std = t.fit(gt_weights)\n",
    "mean, std = norm.fit(dist1['estimated_weight_g'])\n",
    "mean2, std2 = norm.fit(dist2['estimated_weight_g'])\n",
    "gt_mean, gt_std = norm.fit(gt_weights)\n",
    "\n",
    "print(len(dist1), len(dist2))\n",
    "\n",
    "plt.figure(figsize=(20, 10))\n",
    "\n",
    "plt.hist(dist1['estimated_weight_g'], color = 'blue', alpha = 0.5, density = True, bins = 30)\n",
    "plt.hist(gt_weights, color = 'red', alpha = 0.5, density = True, bins = 30)\n",
    "\n",
    "xmin, xmax = plt.xlim()\n",
    "x = np.linspace(xmin, xmax, 1000)\n",
    "\n",
    "#y = t.pdf(x, df, mean, std)\n",
    "y = norm.pdf(x, mean, std)\n",
    "plt.plot(x, y)\n",
    "y2 = norm.pdf(x, mean2, std2)\n",
    "# plt.plot(x, y2)\n",
    "#plt.plot(x, y + 10 * (y - y2), color = 'green', linestyle = '-')\n",
    "\n",
    "new_x = x - 7.5 * (np.mean(dist1['estimated_weight_g']) - np.mean(dist2['estimated_weight_g']))\n",
    "plt.plot(new_x, y + 15 * (y - y2), color = 'red', linestyle = '-')\n",
    "\n",
    "gt_x = np.linspace(xmin, xmax, 1000)\n",
    "#gt_y = t.pdf(gt_x, gt_df, gt_mean, gt_std)\n",
    "gt_y = norm.pdf(gt_x, gt_mean, gt_std)\n",
    "plt.plot(gt_x, gt_y, color = 'black', linewidth = 4)\n",
    "\n",
    "plt.figure(figsize=(20, 10))\n",
    "plt.hist(dist1['estimated_weight_g'], color = 'blue', alpha = 0.5, density = True, bins = 30)\n",
    "plt.hist(gt_weights, color = 'red', alpha = 0.5, density = True, bins = 30)"
   ]
  },
  {
   "cell_type": "code",
   "execution_count": null,
   "metadata": {},
   "outputs": [],
   "source": [
    "plt.figure(figsize=(20, 10))\n",
    "density, bins, _ = plt.hist(dist1['estimated_weight_g'], alpha = 0, density = True, bins = 30)\n",
    "density2, bins, _ = plt.hist(dist2['estimated_weight_g'], bins = bins, alpha = 0, density = True)\n",
    "\n",
    "bin_width = bins[1] - bins[0]\n",
    "\n",
    "new_density = density + 10 * (density - density2)\n",
    "new_density[new_density < 0] = 0\n",
    "\n",
    "_bins_adj = []\n",
    "for i, end_bin in enumerate(bins[1:]):\n",
    "    start_bin = bins[i]\n",
    "    _mask = (dist1['estimated_weight_g'] > start_bin) & (dist1['estimated_weight_g'] <= end_bin)\n",
    "    _bins_adj.append(np.mean(dist1['estimated_weight_g'][_mask]))\n",
    "    \n",
    "#bins_adj = bins[1:] - bin_width / 2\n",
    "bins_adj = np.array(_bins_adj)\n",
    "new_bins_adj = bins_adj - 5 * (np.mean(dist1['estimated_weight_g']) - np.mean(dist2['estimated_weight_g']))\n",
    "\n",
    "plt.bar(new_bins_adj, new_density, color = 'blue', alpha = 0.5, width = bin_width)\n",
    "gt_density, gt_bins, _ = plt.hist(gt_weights, bins = bins, color = 'red', alpha = 0.5, density = True)"
   ]
  },
  {
   "cell_type": "code",
   "execution_count": null,
   "metadata": {},
   "outputs": [],
   "source": [
    "buckets = [1000, 2000, 3000, 4000, 5000, 6000, 7000, 8000]\n",
    "\n",
    "new_density_adj = new_density / np.sum(new_density)\n",
    "\n",
    "for i in range(len(buckets) - 1):\n",
    "    mask1 = (new_bins_adj > buckets[i]) & (new_bins_adj <= buckets[i + 1])\n",
    "    mask2 = (gt_weights > buckets[i]) & (gt_weights <= buckets[i + 1])\n",
    "#     dist = dist1['estimated_weight_g'][mask1]\n",
    "#     gt = gt_weights[mask2]\n",
    "    \n",
    "    print('%i: %0.3f, %0.3f vs %0.3f' % (buckets[i], np.sum(new_density_adj[mask1]) - sum(mask2) / len(mask2), np.sum(new_density_adj[mask1]), sum(mask2) / len(mask2)))\n",
    "\n",
    "result = np.sum(new_bins_adj * new_density_adj) \n",
    "(result - np.mean(gt_weights)) / np.mean(gt_weights)\n",
    "print(result, np.mean(gt_weights))\n",
    "print((result - np.mean(gt_weights)) / np.mean(gt_weights))"
   ]
  },
  {
   "cell_type": "code",
   "execution_count": null,
   "metadata": {},
   "outputs": [],
   "source": [
    "_new_pdf = y + 15 * (y - y2)\n",
    "_new_pdf[_new_pdf < 0] = 0\n",
    "new_pdf = _new_pdf / np.sum(_new_pdf)\n",
    "\n",
    "new_x = x - 7.5 * (np.mean(dist1['estimated_weight_g']) - np.mean(dist2['estimated_weight_g']))\n",
    "\n",
    "result = np.sum(new_x * new_pdf) \n",
    "(result - np.mean(gt_weights)) / np.mean(gt_weights)\n",
    "print(result, np.mean(dist1['estimated_weight_g']), np.mean(gt_weights))\n",
    "print((result - np.mean(gt_weights)) / np.mean(gt_weights))"
   ]
  },
  {
   "cell_type": "code",
   "execution_count": null,
   "metadata": {},
   "outputs": [],
   "source": [
    "buckets = [1000, 2000, 3000, 4000, 5000, 6000, 7000, 8000]\n",
    "\n",
    "for i in range(len(buckets) - 1):\n",
    "    mask1 = (new_x > buckets[i]) & (new_x <= buckets[i + 1])\n",
    "    mask2 = (gt_weights > buckets[i]) & (gt_weights <= buckets[i + 1])\n",
    "#     dist = dist1['estimated_weight_g'][mask1]\n",
    "#     gt = gt_weights[mask2]\n",
    "    \n",
    "    print('%i: %0.3f, %0.3f vs %0.3f' % (buckets[i], np.sum(new_pdf[mask1]) - sum(mask2) / len(mask2), np.sum(new_pdf[mask1]), sum(mask2) / len(mask2)))\n",
    "    "
   ]
  },
  {
   "cell_type": "code",
   "execution_count": null,
   "metadata": {},
   "outputs": [],
   "source": [
    "buckets = [1000, 2000, 3000, 4000, 5000, 6000, 7000, 8000]\n",
    "\n",
    "for i in range(len(buckets) - 1):\n",
    "    mask1 = (dist1['estimated_weight_g'] > buckets[i]) & (dist1['estimated_weight_g'] <= buckets[i + 1])\n",
    "    mask2 = (gt_weights > buckets[i]) & (gt_weights <= buckets[i + 1])\n",
    "#     dist = dist1['estimated_weight_g'][mask1]\n",
    "#     gt = gt_weights[mask2]\n",
    "    \n",
    "    print('%i: %0.2f, %0.2f vs %0.2f' % (buckets[i], sum(mask1) / len(mask1) - sum(mask2) / len(mask2), sum(mask1) / len(mask1), sum(mask2) / len(mask2)))"
   ]
  },
  {
   "cell_type": "code",
   "execution_count": null,
   "metadata": {},
   "outputs": [],
   "source": [
    "buckets = [1000, 2000, 3000, 4000, 5000, 6000, 7000, 8000]\n",
    "\n",
    "for i in range(len(buckets) - 1):\n",
    "    mask1 = (dist2['estimated_weight_g'] > buckets[i]) & (dist2['estimated_weight_g'] <= buckets[i + 1])\n",
    "    mask2 = (gt_weights > buckets[i]) & (gt_weights <= buckets[i + 1])\n",
    "    \n",
    "    print('%i: %0.2f, %0.2f vs %0.2f' % (buckets[i], sum(mask1) / len(mask1) - sum(mask2) / len(mask2), sum(mask1) / len(mask1), sum(mask2) / len(mask2)))"
   ]
  },
  {
   "cell_type": "code",
   "execution_count": null,
   "metadata": {},
   "outputs": [],
   "source": [
    "buckets = [1000, 2000, 3000, 4000, 5000, 6000, 7000, 8000]\n",
    "\n",
    "for i in range(len(buckets) - 1):\n",
    "    mask1 = (dist1['estimated_weight_g'] > buckets[i]) & (dist1['estimated_weight_g'] <= buckets[i + 1])\n",
    "    mask2 = (dist2['estimated_weight_g'] > buckets[i]) & (dist2['estimated_weight_g'] <= buckets[i + 1])\n",
    "    mask_gt = (gt_weights > buckets[i]) & (gt_weights <= buckets[i + 1])\n",
    "    \n",
    "    print('%i: %0.3f, %0.3f vs %0.3f' % (buckets[i], 20 * (sum(mask1) / len(mask1) - sum(mask2) / len(mask2)), sum(mask1) / len(mask1), sum(mask2) / len(mask2)))\n",
    "   # print('%i: %0.2f, %0.2f vs %0.2f' % (buckets[i], sum(mask1) / len(mask1) - sum(mask_gt) / len(mask_gt), sum(mask1) / len(mask1), sum(mask_gt) / len(mask_gt)))\n",
    "    \n",
    "    "
   ]
  },
  {
   "cell_type": "code",
   "execution_count": null,
   "metadata": {},
   "outputs": [],
   "source": [
    "buckets = [1000, 2000, 3000, 4000, 5000, 6000, 7000, 8000]\n",
    "\n",
    "for i in range(len(buckets) - 1):\n",
    "    mask1 = (dist1['estimated_weight_g'] > buckets[i]) & (dist1['estimated_weight_g'] <= buckets[i + 1])\n",
    "    mask2 = (dist2['estimated_weight_g'] > buckets[i]) & (dist2['estimated_weight_g'] <= buckets[i + 1])\n",
    "    mask_gt = (gt_weights > buckets[i]) & (gt_weights <= buckets[i + 1])\n",
    "    \n",
    "    print('%i: %0.2f, %0.2f vs %0.2f' % (buckets[i], sum(mask1) / len(mask1) - sum(mask_gt) / len(mask_gt) + 10 * (sum(mask1) / len(mask1) - sum(mask2) / len(mask2)), sum(mask1) / len(mask1) + 10 * (sum(mask1) / len(mask1) - sum(mask2) / len(mask2)), sum(mask_gt) / len(mask_gt)))"
   ]
  },
  {
   "cell_type": "code",
   "execution_count": null,
   "metadata": {},
   "outputs": [],
   "source": [
    "print(np.mean(dist1['estimated_weight_g']), mean, np.mean(dist2['estimated_weight_g']), np.mean(gt_weights))"
   ]
  },
  {
   "cell_type": "code",
   "execution_count": null,
   "metadata": {},
   "outputs": [],
   "source": [
    "print((np.mean(dist1['estimated_weight_g']) - np.mean(gt_weights)) / np.mean(gt_weights))\n",
    "print((np.mean(dist2['estimated_weight_g']) - np.mean(gt_weights)) / np.mean(gt_weights))"
   ]
  },
  {
   "cell_type": "code",
   "execution_count": null,
   "metadata": {},
   "outputs": [],
   "source": []
  },
  {
   "cell_type": "code",
   "execution_count": null,
   "metadata": {},
   "outputs": [],
   "source": []
  },
  {
   "cell_type": "code",
   "execution_count": null,
   "metadata": {},
   "outputs": [],
   "source": []
  }
 ],
 "metadata": {
  "kernelspec": {
   "display_name": "Python 3",
   "language": "python",
   "name": "python3"
  },
  "language_info": {
   "codemirror_mode": {
    "name": "ipython",
    "version": 3
   },
   "file_extension": ".py",
   "mimetype": "text/x-python",
   "name": "python",
   "nbconvert_exporter": "python",
   "pygments_lexer": "ipython3",
   "version": "3.6.5"
  }
 },
 "nbformat": 4,
 "nbformat_minor": 4
}
