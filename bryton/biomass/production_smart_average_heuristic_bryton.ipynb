{
 "cells": [
  {
   "cell_type": "code",
   "execution_count": null,
   "metadata": {},
   "outputs": [],
   "source": [
    "import json\n",
    "import os\n",
    "import pandas as pd\n",
    "from research.utils.data_access_utils import S3AccessUtils\n",
    "from report_generation.report_generator import generate_ts_data, SamplingFilter\n",
    "from research.utils.datetime_utils import add_days\n",
    "from report_generation.report_generator import gen_pm_base\n",
    "from population_metrics.smart_metrics import generate_smart_avg_weight, generate_smart_individual_values, ValidationError\n",
    "from filter_optimization.filter_optimization_task import _add_date_hour_columns\n",
    "from research.weight_estimation.keypoint_utils.optics import pixel2world\n",
    "import numpy as np\n",
    "\n",
    "pd.set_option('display.max_rows', 500)"
   ]
  },
  {
   "cell_type": "code",
   "execution_count": null,
   "metadata": {},
   "outputs": [],
   "source": [
    "s3 = S3AccessUtils('/root/data', json.load(open(os.environ['AWS_CREDENTIALS'])))"
   ]
  },
  {
   "cell_type": "code",
   "execution_count": null,
   "metadata": {},
   "outputs": [],
   "source": [
    "cohort_names = [\n",
    "    'seglberget_pen_id_66_2020-05-13_2020-06-13',\n",
    "    'bolaks_pen_id_88_2020-02-10_2020-03-10',\n",
    "    'langoy_pen_id_108_2020-05-07_2020-05-17',\n",
    "    'tittelsnes_pen_id_37_2020-05-23_2020-06-24',\n",
    "    'aplavika_pen_id_95_2020-06-26_2020-07-26',\n",
    "    'kjeppevikholmen_pen_id_5_2019-06-05_2019-07-02',\n",
    "    'silda_pen_id_86_2020-06-19_2020-07-19',\n",
    "    'vikane_pen_id_60_2020-08-05_2020-08-30',\n",
    "    'eldviktaren_pen_id_164_2020-09-06_2020-10-06',\n",
    "    'habranden_pen_id_100_2020-08-10_2020-08-31'\n",
    "]"
   ]
  },
  {
   "cell_type": "code",
   "execution_count": null,
   "metadata": {},
   "outputs": [],
   "source": [
    "ROOT_DIR = '/root/data/alok/biomass_estimation/playground'\n",
    "dfs, gt_metadatas = {}, {}\n",
    "for cohort_name in cohort_names:\n",
    "    s3_dir = os.path.join(\n",
    "        'https://aquabyte-images-adhoc.s3-eu-west-1.amazonaws.com/alok/production_datasets',\n",
    "        cohort_name\n",
    "    )\n",
    "\n",
    "    ground_truth_metadata_url = os.path.join(s3_dir, 'ground_truth_metadata.json')\n",
    "    ground_truth_key_base = os.path.join(batch_name, cohort_name, 'ground_truth_metadata.json')\n",
    "    ground_truth_f = os.path.join(ROOT_DIR, ground_truth_key_base)\n",
    "    s3.download_from_url(ground_truth_metadata_url, custom_location=ground_truth_f)\n",
    "    gt_metadata = json.load(open(ground_truth_f))\n",
    "    gt_metadatas[cohort_name] = gt_metadata\n",
    "    \n",
    "    data_url = os.path.join(s3_dir, 'annotation_dataset.csv')\n",
    "    data_f, _, _= s3.download_from_url(data_url)\n",
    "    df = pd.read_csv(data_f)\n",
    "    df = _add_date_hour_columns(df)\n",
    "    dfs[cohort_name] = df\n",
    "    \n",
    "    "
   ]
  },
  {
   "cell_type": "code",
   "execution_count": null,
   "metadata": {},
   "outputs": [],
   "source": [
    "gt_metadatas"
   ]
  },
  {
   "cell_type": "markdown",
   "metadata": {},
   "source": [
    "<h1> Generate average weight accuracy </h1>"
   ]
  },
  {
   "cell_type": "code",
   "execution_count": null,
   "metadata": {},
   "outputs": [],
   "source": [
    "def generate_raw_individual_values(pm_base, gt_metadata, start_hour, end_hour, apply_growth_rate, max_day_diff, days_post_feeding, final_days_post_feeding):\n",
    "    last_feeding_date = gt_metadata['last_feeding_date']\n",
    "    date = add_days(last_feeding_date, days_post_feeding)\n",
    "    weights, _ = generate_smart_individual_values(pm_base, date, max_day_diff, True, apply_growth_rate, 0.9)\n",
    "    return weights\n",
    "\n",
    "\n",
    "def generate_average_weight_accuracy(weights, gt_metadata, loss_factor):\n",
    "    avg_weight_prediction = np.mean(weights)\n",
    "    gutted_weight_prediction = avg_weight_prediction * (1.0 - loss_factor)\n",
    "    gt_weight = gt_metadata['gutted_average_weight']\n",
    "    avg_weight_err = (gutted_weight_prediction - gt_weight) / gt_weight\n",
    "    return avg_weight_err\n",
    "\n",
    "\n"
   ]
  },
  {
   "cell_type": "code",
   "execution_count": null,
   "metadata": {},
   "outputs": [],
   "source": [
    "start_hours = [7]\n",
    "end_hours = [15]\n",
    "apply_growth_rate_list = [True]\n",
    "max_day_diff_list = [3]\n",
    "days_post_feeding_list = [1]\n",
    "max_final_days_post_feeding = 1\n",
    "loss_factors = [0.16, 0.17] # need to determine the right values here\n",
    "\n",
    "cohort_name_col = []\n",
    "start_hour_col = []\n",
    "end_hour_col = []\n",
    "apply_growth_rate_col = []\n",
    "max_day_diff_col = []\n",
    "days_post_feeding_col = []\n",
    "final_days_post_feeding_col = []\n",
    "loss_factor_col = []\n",
    "avg_weight_error_col = []\n",
    "\n",
    "for cohort_name in sorted(list(dfs.keys())):\n",
    "    print(cohort_name)\n",
    "    gt_metadata = gt_metadatas[cohort_name]\n",
    "    for start_hour in start_hours:\n",
    "        for end_hour in end_hours:\n",
    "            for final_days_post_feeding in final_days_post_feeding_list:\n",
    "                sampling_filter = SamplingFilter(\n",
    "                    start_hour=start_hour,\n",
    "                    end_hour=end_hour,\n",
    "                    kf_cutoff=0.0,\n",
    "                    akpd_score_cutoff=0.95\n",
    "                )\n",
    "                df = dfs[cohort_name]\n",
    "                final_date_post_feeding = add_days(gt_metadata['last_feeding_date'], final_days_post_feeding)\n",
    "                tdf = df[df.date <= final_date_post_feeding]\n",
    "                pm_base = gen_pm_base(tdf, sampling_filter)\n",
    "                for apply_growth_rate in apply_growth_rate_list:\n",
    "                    for max_day_diff in max_day_diff_list:\n",
    "                        for days_post_feeding in range(0, final_days_post_feeding + 1):\n",
    "                            for loss_factor in loss_factors:\n",
    "                                try:\n",
    "                                    weights = generate_raw_individual_values(pm_base, gt_metadata, start_hour, end_hour, apply_growth_rate, max_day_diff, days_post_feeding, final_days_post_feeding)\n",
    "                                except ValidationError as err:\n",
    "                                    continue\n",
    "                                avg_weight_err = generate_average_weight_accuracy(weights, gt_metadata, loss_factor)\n",
    "                                \n",
    "                                cohort_name_col.append(cohort_name)\n",
    "                                start_hour_col.append(start_hour)\n",
    "                                end_hour_col.append(end_hour)\n",
    "                                apply_growth_rate_col.append(apply_growth_rate)\n",
    "                                max_day_diff_col.append(max_day_diff)\n",
    "                                days_post_feeding_col.append(days_post_feeding)\n",
    "                                final_days_post_feeding_col.append(final_days_post_feeding)\n",
    "                                loss_factor_col.append(loss_factor)\n",
    "                                avg_weight_error_col.append(avg_weight_err)\n",
    "                        \n",
    "    "
   ]
  },
  {
   "cell_type": "code",
   "execution_count": null,
   "metadata": {},
   "outputs": [],
   "source": [
    "tdf = pd.DataFrame({\n",
    "    'cohort_name': cohort_name_col,\n",
    "    'start_hour_col': start_hour_col,\n",
    "    'end_hour_col': end_hour_col,\n",
    "    'apply_growth_rate': apply_growth_rate_col,\n",
    "    'max_day_diff': max_day_diff_col,\n",
    "    'days_post_feeding': days_post_feeding_col,\n",
    "    'final_days_post_feeding': final_days_post_feeding_col,\n",
    "    'loss_factor': loss_factor_col,\n",
    "    'avg_weight_error': avg_weight_error_col\n",
    "})\n",
    "\n",
    "tdf['avg_weight_error_abs'] = tdf.avg_weight_error.abs()"
   ]
  },
  {
   "cell_type": "code",
   "execution_count": null,
   "metadata": {},
   "outputs": [],
   "source": [
    "for cohort_name in cohort_names:\n",
    "    mask = tdf.cohort_name == cohort_name\n",
    "    print(tdf[mask].sort_values('avg_weight_error_abs', ascending=True).head(10))"
   ]
  },
  {
   "cell_type": "code",
   "execution_count": null,
   "metadata": {},
   "outputs": [],
   "source": [
    "gt_metadatas['vikane_pen_id_60_2020-08-05_2020-08-30']"
   ]
  },
  {
   "cell_type": "code",
   "execution_count": null,
   "metadata": {},
   "outputs": [],
   "source": [
    "tdf.cohort_name.unique()"
   ]
  },
  {
   "cell_type": "code",
   "execution_count": null,
   "metadata": {},
   "outputs": [],
   "source": [
    "mask = (tdf.cohort_name == 'tittelsnes_pen_id_37_2020-05-23_2020-06-24') & (tdf.days_post_feeding == 1) & (tdf.final_days_post_feeding == 1) & (tdf.max_day_diff == 3) & (tdf.loss_factor == 0.17)\n",
    "tdf[mask].sort_values('avg_weight_error_abs')\n",
    "\n"
   ]
  },
  {
   "cell_type": "code",
   "execution_count": null,
   "metadata": {},
   "outputs": [],
   "source": [
    "mask = (tdf.start_hour_col == 6) & (tdf.days_post_feeding == 1) & (tdf.final_days_post_feeding == 1) & (tdf.max_day_diff == 3)\n",
    "tdf[mask].avg_weight_error_abs.median()\n",
    "\n"
   ]
  },
  {
   "cell_type": "code",
   "execution_count": null,
   "metadata": {},
   "outputs": [],
   "source": [
    "mask = (tdf.start_hour_col == 7) & (tdf.days_post_feeding == 1) & (tdf.final_days_post_feeding == 1) & (tdf.max_day_diff == 3)\n",
    "tdf[mask].avg_weight_error_abs.median()\n",
    "\n"
   ]
  },
  {
   "cell_type": "code",
   "execution_count": null,
   "metadata": {},
   "outputs": [],
   "source": []
  },
  {
   "cell_type": "code",
   "execution_count": null,
   "metadata": {},
   "outputs": [],
   "source": []
  },
  {
   "cell_type": "code",
   "execution_count": null,
   "metadata": {},
   "outputs": [],
   "source": []
  },
  {
   "cell_type": "code",
   "execution_count": null,
   "metadata": {},
   "outputs": [],
   "source": []
  },
  {
   "cell_type": "code",
   "execution_count": null,
   "metadata": {},
   "outputs": [],
   "source": [
    "cohort_name_col = []\n",
    "start_hour_col = []\n",
    "end_hour_col = []\n",
    "apply_growth_rate_col = []\n",
    "max_day_diff_col = []\n",
    "days_post_feeding_col = []\n",
    "final_days_post_feeding_col = []\n",
    "loss_factor_col = []\n",
    "std_avg_weight_error_col = []\n",
    "abs_avg_weight_error_col = []\n",
    "mean_avg_weight_error_col = []\n",
    "\n",
    "for start_hour in start_hours:\n",
    "    for end_hour in end_hours:\n",
    "        for apply_growth_rate in apply_growth_rate_list:\n",
    "            for max_day_diff in max_day_diff_list:\n",
    "                for days_post_feeding in days_post_feeding_list:\n",
    "                    for final_days_post_feeding in final_days_post_feeding_list:\n",
    "                        for loss_factor in loss_factors:\n",
    "                            mask = (tdf.start_hour_col == start_hour) & \\\n",
    "                            (tdf.end_hour_col == end_hour) & \\\n",
    "                            (tdf.apply_growth_rate == apply_growth_rate) & \\\n",
    "                            (tdf.max_day_diff == max_day_diff) & \\\n",
    "                            (tdf.days_post_feeding == days_post_feeding) & \\\n",
    "                            (tdf.final_days_post_feeding == final_days_post_feeding) & \\\n",
    "                            (tdf.loss_factor == loss_factor)\n",
    "                            \n",
    "                            start_hour_col.append(start_hour)\n",
    "                            end_hour_col.append(end_hour)\n",
    "                            apply_growth_rate_col.append(apply_growth_rate)\n",
    "                            max_day_diff_col.append(max_day_diff)\n",
    "                            days_post_feeding_col.append(days_post_feeding)\n",
    "                            final_days_post_feeding_col.append(final_days_post_feeding)\n",
    "                            loss_factor_col.append(loss_factor)\n",
    "                            std_avg_weight_error_col.append(tdf[mask].avg_weight_error.std())\n",
    "                            abs_avg_weight_error_col.append(tdf[mask].avg_weight_error_abs.mean())\n",
    "                            mean_avg_weight_error_col.append(tdf[mask].avg_weight_error.mean())"
   ]
  },
  {
   "cell_type": "code",
   "execution_count": null,
   "metadata": {},
   "outputs": [],
   "source": [
    "rdf = pd.DataFrame({\n",
    "    'start_hour_col': start_hour_col,\n",
    "    'end_hour_col': end_hour_col,\n",
    "    'apply_growth_rate': apply_growth_rate_col,\n",
    "    'max_day_diff': max_day_diff_col,\n",
    "    'days_post_feeding': days_post_feeding_col,\n",
    "    'final_days_post_feeding': final_days_post_feeding_col,\n",
    "    'loss_factor': loss_factor_col,\n",
    "    'abs_avg_weight_error': abs_avg_weight_error_col,\n",
    "    'std_avg_weight_error': std_avg_weight_error_col,\n",
    "    'mean_avg_weight_error': mean_avg_weight_error_col,\n",
    "})\n",
    "\n"
   ]
  },
  {
   "cell_type": "code",
   "execution_count": null,
   "metadata": {},
   "outputs": [],
   "source": [
    "rdf"
   ]
  },
  {
   "cell_type": "code",
   "execution_count": null,
   "metadata": {},
   "outputs": [],
   "source": []
  },
  {
   "cell_type": "code",
   "execution_count": null,
   "metadata": {},
   "outputs": [],
   "source": [
    "mask = (rdf.loss_factor == 0.16)\n",
    "rdf[mask].sort_values('abs_avg_weight_error')"
   ]
  },
  {
   "cell_type": "code",
   "execution_count": null,
   "metadata": {},
   "outputs": [],
   "source": []
  },
  {
   "cell_type": "code",
   "execution_count": null,
   "metadata": {},
   "outputs": [],
   "source": [
    "tdf.to_csv('/root/data/alok/biomass_estimation/playground/smart_average_param_grid_search.csv')"
   ]
  },
  {
   "cell_type": "code",
   "execution_count": null,
   "metadata": {},
   "outputs": [],
   "source": [
    "tdf[(tdf.cohort_name == 'bolaks_pen_id_88_2020-02-10_2020-03-10')].sort_values('avg_weight_error_abs')\n",
    "\n"
   ]
  },
  {
   "cell_type": "code",
   "execution_count": null,
   "metadata": {},
   "outputs": [],
   "source": []
  },
  {
   "cell_type": "code",
   "execution_count": null,
   "metadata": {},
   "outputs": [],
   "source": []
  },
  {
   "cell_type": "code",
   "execution_count": null,
   "metadata": {},
   "outputs": [],
   "source": []
  },
  {
   "cell_type": "code",
   "execution_count": null,
   "metadata": {},
   "outputs": [],
   "source": []
  },
  {
   "cell_type": "code",
   "execution_count": null,
   "metadata": {},
   "outputs": [],
   "source": []
  },
  {
   "cell_type": "code",
   "execution_count": null,
   "metadata": {},
   "outputs": [],
   "source": []
  },
  {
   "cell_type": "code",
   "execution_count": null,
   "metadata": {},
   "outputs": [],
   "source": []
  },
  {
   "cell_type": "code",
   "execution_count": null,
   "metadata": {},
   "outputs": [],
   "source": []
  },
  {
   "cell_type": "code",
   "execution_count": null,
   "metadata": {},
   "outputs": [],
   "source": []
  },
  {
   "cell_type": "code",
   "execution_count": null,
   "metadata": {},
   "outputs": [],
   "source": []
  },
  {
   "cell_type": "code",
   "execution_count": null,
   "metadata": {},
   "outputs": [],
   "source": []
  },
  {
   "cell_type": "code",
   "execution_count": null,
   "metadata": {},
   "outputs": [],
   "source": []
  },
  {
   "cell_type": "code",
   "execution_count": null,
   "metadata": {},
   "outputs": [],
   "source": [
    "# generate Vikane average weight and distribution error - explore basic parameters\n",
    "\n",
    "ground_truth_metadata = json.load(open(ground_truth_f))\n",
    "day_after_feeding_stop = add_days(ground_truth_metadata['last_feeding_date'], 1)\n",
    "start_date, end_date = add_days(day_after_feeding_stop, -2), add_days(day_after_feeding_stop, -1)\n",
    "tdf = df[(df.date >= start_date) & (df.date <= end_date)].copy(deep=True)\n",
    "\n",
    "sampling_filter = SamplingFilter(\n",
    "    start_hour=7,\n",
    "    end_hour=15,\n",
    "    akpd_score_cutoff=0.95,\n",
    "    kf_cutoff=0.0\n",
    ")\n",
    "pm_base = gen_pm_base(tdf, sampling_filter)\n",
    "weights, _ = generate_smart_individual_values(pm_base, day_after_feeding_stop, 3, True, True, 0.9)\n"
   ]
  },
  {
   "cell_type": "code",
   "execution_count": null,
   "metadata": {},
   "outputs": [],
   "source": [
    "np.mean(weights)"
   ]
  },
  {
   "cell_type": "code",
   "execution_count": null,
   "metadata": {},
   "outputs": [],
   "source": []
  },
  {
   "cell_type": "code",
   "execution_count": null,
   "metadata": {},
   "outputs": [],
   "source": []
  },
  {
   "cell_type": "code",
   "execution_count": null,
   "metadata": {},
   "outputs": [],
   "source": []
  },
  {
   "cell_type": "code",
   "execution_count": null,
   "metadata": {},
   "outputs": [],
   "source": []
  },
  {
   "cell_type": "code",
   "execution_count": null,
   "metadata": {},
   "outputs": [],
   "source": []
  },
  {
   "cell_type": "code",
   "execution_count": null,
   "metadata": {},
   "outputs": [],
   "source": []
  },
  {
   "cell_type": "code",
   "execution_count": null,
   "metadata": {},
   "outputs": [],
   "source": []
  },
  {
   "cell_type": "code",
   "execution_count": null,
   "metadata": {},
   "outputs": [],
   "source": []
  }
 ],
 "metadata": {
  "kernelspec": {
   "display_name": "Python 3",
   "language": "python",
   "name": "python3"
  },
  "language_info": {
   "codemirror_mode": {
    "name": "ipython",
    "version": 3
   },
   "file_extension": ".py",
   "mimetype": "text/x-python",
   "name": "python",
   "nbconvert_exporter": "python",
   "pygments_lexer": "ipython3",
   "version": "3.6.5"
  }
 },
 "nbformat": 4,
 "nbformat_minor": 4
}
