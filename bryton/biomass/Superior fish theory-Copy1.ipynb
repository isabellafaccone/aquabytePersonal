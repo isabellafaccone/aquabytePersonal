{
 "cells": [
  {
   "cell_type": "code",
   "execution_count": null,
   "metadata": {},
   "outputs": [],
   "source": [
    "import pandas as pd\n",
    "import os\n",
    "from math import floor, ceil\n",
    "from pprint import pprint\n",
    "from traceback import print_exc\n",
    "import numpy as np\n"
   ]
  },
  {
   "cell_type": "code",
   "execution_count": null,
   "metadata": {},
   "outputs": [],
   "source": [
    "import os\n",
    "\n",
    "path = '/root/data/alok/slaughterreports'\n",
    "pen_names = os.listdir(path)\n",
    "print(pen_names[12:])"
   ]
  },
  {
   "cell_type": "code",
   "execution_count": null,
   "metadata": {},
   "outputs": [],
   "source": [
    "# pen_names_new = [ pn.encode('utf-8', 'replace').decode() for pn in pen_names ]\n",
    "# pen_names_new"
   ]
  },
  {
   "cell_type": "code",
   "execution_count": null,
   "metadata": {},
   "outputs": [],
   "source": [
    "def clean_bounds(row):\n",
    "    bounds = row['bounds']\n",
    "    if row['category'] == 'Utkast' and bounds is np.nan:\n",
    "        return (0,10)\n",
    "    MISTYPES = {\n",
    "        '[3. 4]': '[3, 4]',\n",
    "        '[9+, ]': '[9, ]'\n",
    "    }\n",
    "    if bounds in MISTYPES:\n",
    "        bounds = MISTYPES[bounds]\n",
    "    if bounds is not np.nan:\n",
    "        bounds = [x for x in bounds[1:-1].split(',') if x.strip()]\n",
    "        bounds = [float(x) for x in bounds]\n",
    "        if len(bounds) == 1:\n",
    "            bounds = [bounds[0], 10]\n",
    "        out = (floor(bounds[0]), min(ceil(bounds[1]), 10))\n",
    "        return out\n",
    "    else:\n",
    "        return None\n",
    "    \n",
    "def clean_weight(w):\n",
    "    if w is None:\n",
    "        return w\n",
    "    if isinstance(w, str):\n",
    "        w = w.replace('..', '.').replace(' ', '')\n",
    "        try:\n",
    "            return float(w)\n",
    "        except:\n",
    "            print('Could not clean')\n",
    "            print(w)\n",
    "            return None\n",
    "    elif isinstance(w, float):\n",
    "        return w\n",
    "    elif isinstance(w, int):\n",
    "        return float(w)\n",
    "    else:\n",
    "        assert False"
   ]
  },
  {
   "cell_type": "code",
   "execution_count": null,
   "metadata": {},
   "outputs": [],
   "source": [
    "f"
   ]
  },
  {
   "cell_type": "code",
   "execution_count": null,
   "metadata": {},
   "outputs": [],
   "source": [
    "print('here')\n",
    "\n",
    "out_d = dict()\n",
    "for index, pen_f in enumerate(pen_names):\n",
    "    print('\\n\\n\\n\\n\\n\\n')\n",
    "    print(index, pen_f)"
   ]
  },
  {
   "cell_type": "code",
   "execution_count": null,
   "metadata": {},
   "outputs": [],
   "source": [
    "# from traceback import print_exc/"
   ]
  },
  {
   "cell_type": "code",
   "execution_count": null,
   "metadata": {},
   "outputs": [],
   "source": [
    "print('here')\n",
    "\n",
    "out_d = dict()\n",
    "for index, pen_name in enumerate(pen_names):\n",
    "    print('\\n\\n\\n\\n\\n\\n')\n",
    "    print(index, pen_f)\n",
    "#     pen_name = pen_names_new[index]\n",
    "    \n",
    "    found = False\n",
    "    this_pen_folder = os.path.join(path, pen_f)\n",
    "    if not this_pen_folder.endswith('.DS_Store'):\n",
    "        print('getting files...')\n",
    "        files = os.listdir(this_pen_folder)\n",
    "        for f in files:\n",
    "            print('\\n\\n\\n')\n",
    "            print(pen_name, f)\n",
    "            d = None\n",
    "            if f.endswith('ods'):\n",
    "                d = pd.read_excel(os.path.join(this_pen_folder, f), engine='odf')\n",
    "                found = True\n",
    "            elif f.endswith('csv'):\n",
    "                print(pen_name)\n",
    "                try:\n",
    "                    d = pd.read_csv(os.path.join(this_pen_folder, f))\n",
    "                    found = True\n",
    "                except:\n",
    "                    print('failed')\n",
    "                    print(pen_name)\n",
    "                    print(f)\n",
    "                    continue\n",
    "            else:\n",
    "                continue\n",
    "\n",
    "            d.columns = [col.lower().strip() for col in d.columns]\n",
    "\n",
    "            d = d.rename({'catergory': 'category',\n",
    "                          'caterory': 'category',\n",
    "                         'net wett.': 'net weight',\n",
    "                         'net wett': 'net weight',\n",
    "                         'number of fish': 'number of fish'}, axis=1)\n",
    "            required = [\n",
    "                'Number of Fish',\n",
    "                'category',\n",
    "                'bounds',\n",
    "                'net weight'\n",
    "            ]\n",
    "            if 'net weight' not in d.columns:\n",
    "                d['net weight'] = None\n",
    "            required = [r.lower() for r in required]\n",
    "            has_required = True\n",
    "            for col in required:\n",
    "                if col not in d.columns:\n",
    "                    has_required = False\n",
    "                    print('missing', pen_name, col, d.columns)\n",
    "            if not has_required:\n",
    "                print(d)\n",
    "                continue\n",
    "\n",
    "            d['category'] = d['category'].apply(str)\n",
    "            d['net weight'] = d['net weight'].apply(clean_weight)\n",
    "            d['reg'] = d['category'].apply(lambda s: s[0].isdigit())\n",
    "            d['bounds'] = d.apply(clean_bounds, axis=1)\n",
    "            d.drop_duplicates(inplace=True)\n",
    "            if d['reg'].sum() > 2:\n",
    "                d = d[d['reg']]\n",
    "            if len(d['category'].unique()) != len(d):\n",
    "                d = d.groupby(['category', 'bounds'])[['number of fish', 'net weight']].sum().reset_index()\n",
    "\n",
    "            if  not len(d['category'].unique()) == len(d):\n",
    "                vcs = d['category'].value_counts()\n",
    "                print('nonunique cats', pen_name, d)\n",
    "                print(vcs[vcs>1])\n",
    "            data = {\n",
    "                 row['category']: (\n",
    "                     row['bounds'],\n",
    "                     row['number of fish'],\n",
    "                     row['net weight']\n",
    "                 ) for _, row in d.iterrows()\n",
    "            }\n",
    "            out_d[(pen_name, f)] = data\n",
    "#             print((pen_name, f))\n",
    "#             print(d)\n",
    "        if not found:\n",
    "            print('\\n\\nNo csv found for:')\n",
    "            print(pen_name)\n",
    "            print(files)"
   ]
  },
  {
   "cell_type": "code",
   "execution_count": null,
   "metadata": {},
   "outputs": [],
   "source": [
    "print(len(out_d.keys()))"
   ]
  },
  {
   "cell_type": "code",
   "execution_count": null,
   "metadata": {},
   "outputs": [],
   "source": [
    "set([k[0] for k in out_d])"
   ]
  },
  {
   "cell_type": "code",
   "execution_count": null,
   "metadata": {},
   "outputs": [],
   "source": [
    "import pandas as pd\n",
    "\n",
    "for k in out_d:\n",
    "    print('\\n\\n\\n\\n')\n",
    "    print(k)\n",
    "    print(pd.DataFrame(out_d[k]).T)"
   ]
  },
  {
   "cell_type": "code",
   "execution_count": null,
   "metadata": {},
   "outputs": [],
   "source": []
  }
 ],
 "metadata": {
  "kernelspec": {
   "display_name": "Python 3",
   "language": "python",
   "name": "python3"
  },
  "language_info": {
   "codemirror_mode": {
    "name": "ipython",
    "version": 3
   },
   "file_extension": ".py",
   "mimetype": "text/x-python",
   "name": "python",
   "nbconvert_exporter": "python",
   "pygments_lexer": "ipython3",
   "version": "3.6.5"
  }
 },
 "nbformat": 4,
 "nbformat_minor": 4
}
