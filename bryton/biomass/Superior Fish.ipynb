{
 "cells": [
  {
   "cell_type": "code",
   "execution_count": null,
   "metadata": {},
   "outputs": [],
   "source": [
    "import boto3\n",
    "from data import data\n",
    "from clean_harvest_report import convert_mixed_buckets_to_clean_buckets\n",
    "import os\n",
    "import json\n",
    "\n",
    "s3 = boto3.resource('s3')\n",
    "bucket = 'aquabyte-images-adhoc'\n",
    "s3_bucket = s3.Bucket(bucket)\n",
    "s3_dir = 'alok/production_datasets/'\n",
    "\n",
    "for ds in data:\n",
    "    path = os.path.join(s3_dir, ds, 'ground_truth_metadata_buckets.json')\n",
    "    obj = s3.Object(bucket, path)\n",
    "    meta = json.loads(obj.get()['Body'].read().decode('utf-8'))\n",
    "    if meta['raw_buckets']:\n",
    "        meta['clean_buckets'] = convert_mixed_buckets_to_clean_buckets(\n",
    "            meta['raw_buckets'], meta['expected_loss_factor'])\n",
    "    with open('clean_buckets.json', 'w') as f:\n",
    "        f.write(json.dumps(meta))\n",
    "    s3.meta.client.upload_file('clean_superior_buckets.json', bucket, path)"
   ]
  },
  {
   "cell_type": "code",
   "execution_count": null,
   "metadata": {},
   "outputs": [],
   "source": []
  }
 ],
 "metadata": {
  "kernelspec": {
   "display_name": "Python 3",
   "language": "python",
   "name": "python3"
  },
  "language_info": {
   "codemirror_mode": {
    "name": "ipython",
    "version": 3
   },
   "file_extension": ".py",
   "mimetype": "text/x-python",
   "name": "python",
   "nbconvert_exporter": "python",
   "pygments_lexer": "ipython3",
   "version": "3.6.5"
  }
 },
 "nbformat": 4,
 "nbformat_minor": 4
}
