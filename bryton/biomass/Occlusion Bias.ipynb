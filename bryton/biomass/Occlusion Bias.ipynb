{
 "cells": [
  {
   "cell_type": "code",
   "execution_count": null,
   "metadata": {},
   "outputs": [],
   "source": [
    "import json\n",
    "import os\n",
    "import numpy as np\n",
    "import pandas as pd \n",
    "from matplotlib import pyplot as plt\n",
    "from filter_optimization.filter_optimization_task import extract_biomass_data\n",
    "from research.weight_estimation.keypoint_utils.optics import euclidean_distance, pixel2world, depth_from_disp, convert_to_world_point\n",
    "\n",
    "from research.utils.data_access_utils import S3AccessUtils, RDSAccessUtils\n",
    "\n",
    "from scipy import stats\n",
    "import statsmodels.api as sm\n",
    "\n",
    "plt.rcParams['font.size'] = 18"
   ]
  },
  {
   "cell_type": "code",
   "execution_count": null,
   "metadata": {},
   "outputs": [],
   "source": [
    "pen5 = pd.read_csv('blom_vikane_singleweights.csv')"
   ]
  },
  {
   "cell_type": "code",
   "execution_count": null,
   "metadata": {},
   "outputs": [],
   "source": [
    "pen5.head()"
   ]
  },
  {
   "cell_type": "code",
   "execution_count": null,
   "metadata": {},
   "outputs": [],
   "source": [
    "def get_length_from_weight(weight):\n",
    "    return "
   ]
  },
  {
   "cell_type": "code",
   "execution_count": null,
   "metadata": {},
   "outputs": [],
   "source": [
    "queryCache = {}"
   ]
  },
  {
   "cell_type": "code",
   "execution_count": null,
   "metadata": {},
   "outputs": [],
   "source": [
    "# pen_id = 95\n",
    "# df_start_date = '2020-07-21'\n",
    "# df_end_date = '2020-07-24'\n",
    "pen_id = 60\n",
    "df_start_date = '2020-08-24'\n",
    "df_end_date = '2020-08-26'\n",
    "\n",
    "if pen_id in queryCache and df_start_date in queryCache[pen_id] and df_end_date in queryCache[pen_id][df_start_date]:\n",
    "    df = queryCache[pen_id][df_start_date][df_end_date]\n",
    "else:\n",
    "    df = extract_biomass_data(pen_id, df_start_date, df_end_date, 0.95)\n",
    "    df.date = pd.to_datetime(df.date)\n",
    "\n",
    "    depths = []\n",
    "    lengths = []\n",
    "    for idx, row in df.iterrows():\n",
    "        ann, cm = row.annotation, row.camera_metadata\n",
    "        wkps = pixel2world(ann['leftCrop'], ann['rightCrop'], cm)\n",
    "        depth = np.median([wkp[1] for wkp in wkps.values()])\n",
    "        vector = wkps['UPPER_LIP'] - wkps['TAIL_NOTCH']\n",
    "        depths.append(depth)\n",
    "        lengths.append(np.linalg.norm(vector))\n",
    "    df['depth'] = depths\n",
    "    df['length'] = lengths\n",
    "    \n",
    "    queryCache[pen_id] = { df_start_date: { df_end_date: df } }\n"
   ]
  },
  {
   "cell_type": "code",
   "execution_count": null,
   "metadata": {},
   "outputs": [],
   "source": [
    "plt.figure(figsize=(20, 10))\n",
    "\n",
    "mask2 = (df.hour >= 5) & (df.hour <= 15)\n",
    "\n",
    "avg_weight, raw_weight = get_weight_for_fov(55, 10, pen5)\n",
    "\n",
    "# counts, bins, _ = plt.hist(pen5.weight * 1000 / 0.83, bins = 50, density = True)\n",
    "counts, bins, _ = plt.hist(raw_weight * 1000 / 0.83, bins = 50, density = True)\n",
    "plt.hist(df.estimated_weight_g[mask2], bins = bins, density = True)"
   ]
  },
  {
   "cell_type": "code",
   "execution_count": null,
   "metadata": {},
   "outputs": [],
   "source": [
    "def get_weight_for_fov(degrees, density, df):\n",
    "    fov = degrees * np.pi / 180\n",
    "    params_depth = 2\n",
    "    camera_location = 5\n",
    "    total_length = 10\n",
    "\n",
    "    all_weights = []\n",
    "\n",
    "    num_samples = int(total_length * density)\n",
    "    \n",
    "    count = 0\n",
    "    \n",
    "    while(len(all_weights) < 3000 and count < 10000):\n",
    "        count = count + 1\n",
    "        if count % 1000 == 0:\n",
    "            print(count)\n",
    "\n",
    "        results = df.sample(n = num_samples, replace = True)\n",
    "\n",
    "        x = []\n",
    "\n",
    "        for index, row in results.iterrows():\n",
    "            location = np.random.uniform(0, total_length)\n",
    "            depth = np.random.uniform(0, params_depth)\n",
    "\n",
    "            x.append([location, row.length, depth, row.weight])\n",
    "            #x.append([location, row.length, depth, row.estimated_weight_g])\n",
    "\n",
    "        a = np.array(x)\n",
    "        b = a[np.argsort(a[:, 2])]\n",
    "\n",
    "        all_segments = []\n",
    "        curr_segments = []\n",
    "        curr_depth = 0\n",
    "\n",
    "        for row in b:\n",
    "            curr_depth = row[2]\n",
    "\n",
    "            band = np.tan(fov / 2) * curr_depth\n",
    "\n",
    "            lower_bound = camera_location - band\n",
    "            upper_bound = camera_location + band\n",
    "            \n",
    "            if not ((row[0] > lower_bound) and (row[0] + row[1] < upper_bound)):\n",
    "                if (row[0] > lower_bound) and (row[0] < upper_bound):\n",
    "                    all_segments.append(row)\n",
    "                elif ((row[0] + row[1]) > lower_bound) and ((row[0] + row[1]) < upper_bound):\n",
    "                    all_segments.append(row)\n",
    "                continue\n",
    "\n",
    "            is_occluded = False\n",
    "\n",
    "            for seg in all_segments:\n",
    "                lower_adj_segment = camera_location + (row[0] - camera_location) * curr_depth / seg[2]\n",
    "                upper_adj_segment = camera_location + ((row[0] + row[1]) - camera_location) * curr_depth / seg[2]\n",
    "\n",
    "                if not ((row[0] + row[1]) < lower_adj_segment or row[0] > upper_adj_segment):\n",
    "                    is_occluded = True\n",
    "\n",
    "            if not is_occluded:\n",
    "                all_weights.append(row[3])\n",
    "                \n",
    "            all_segments.append(row)\n",
    "\n",
    "    return np.mean(all_weights), all_weights\n"
   ]
  },
  {
   "cell_type": "code",
   "execution_count": null,
   "metadata": {},
   "outputs": [],
   "source": [
    "fovs = []\n",
    "weights = []\n",
    "raw_weights = []\n",
    "\n",
    "for degree in np.arange(10, 180, 10):\n",
    "    avg_weight, raw_weight = get_weight_for_fov(degree)\n",
    "    fovs.append(degree)\n",
    "    weights.append(avg_weight)\n",
    "    raw_weights.append(raw_weight)\n",
    "    print(degree, avg_weight, len(raw_weight))"
   ]
  },
  {
   "cell_type": "code",
   "execution_count": null,
   "metadata": {},
   "outputs": [],
   "source": [
    "fovs = []\n",
    "weights = []\n",
    "raw_weights = []\n",
    "\n",
    "for density in np.arange(0.25, 5, 0.25):\n",
    "    avg_weight, raw_weight = get_weight_for_fov(55, density)\n",
    "    fovs.append(density)\n",
    "    weights.append(avg_weight)\n",
    "    raw_weights.append(raw_weight)\n",
    "    print(density, avg_weight, len(raw_weight))"
   ]
  },
  {
   "cell_type": "code",
   "execution_count": null,
   "metadata": {},
   "outputs": [],
   "source": [
    "for index, density in enumerate(np.arange(8, 20, 2)):\n",
    "    print(density, weights[index], len(raw_weights[index]))"
   ]
  },
  {
   "cell_type": "code",
   "execution_count": null,
   "metadata": {},
   "outputs": [],
   "source": [
    "plt.figure(figsize=(20, 10))\n",
    "counts, bins, _ = plt.hist(df.estimated_weight_g, density = True, alpha = 0.5, color = 'red', bins = 20)\n",
    "counts2, bins, _ = plt.hist(raw_weights[3], density = True, alpha = 0.5, color = 'blue', bins = bins)\n",
    "\n",
    "(np.array(counts2) / np.sum(counts)) / (np.array(counts) / np.sum(counts2))"
   ]
  },
  {
   "cell_type": "code",
   "execution_count": null,
   "metadata": {},
   "outputs": [],
   "source": [
    "import scipy.stats as stats\n",
    "\n",
    "mean, std = stats.norm.fit(df.estimated_weight_g)\n",
    "mean2, std2 = stats.norm.fit(raw_weights[3])\n",
    "\n",
    "print(mean, std)\n",
    "\n",
    "# stats.probplot(raw_weights[3], plot = plt)"
   ]
  },
  {
   "cell_type": "code",
   "execution_count": null,
   "metadata": {},
   "outputs": [],
   "source": [
    "stats.probplot(df.estimated_weight_g, plot = plt)"
   ]
  },
  {
   "cell_type": "code",
   "execution_count": null,
   "metadata": {},
   "outputs": [],
   "source": [
    "for i in range(4):\n",
    "    mean, std = stats.norm.fit(raw_weights[i])\n",
    "    print(mean, std)"
   ]
  },
  {
   "cell_type": "code",
   "execution_count": null,
   "metadata": {},
   "outputs": [],
   "source": [
    "5632.671352371154 / 5483.3882774105505"
   ]
  },
  {
   "cell_type": "code",
   "execution_count": null,
   "metadata": {},
   "outputs": [],
   "source": [
    "1098.5482565591922 / 1025.0008784912347"
   ]
  },
  {
   "cell_type": "code",
   "execution_count": null,
   "metadata": {},
   "outputs": [],
   "source": [
    "plt.hist(raw_weights[1])"
   ]
  },
  {
   "cell_type": "code",
   "execution_count": null,
   "metadata": {},
   "outputs": [],
   "source": [
    "plt.hist(raw_weights[2])"
   ]
  },
  {
   "cell_type": "code",
   "execution_count": null,
   "metadata": {},
   "outputs": [],
   "source": [
    "plt.hist(raw_weights[3])"
   ]
  },
  {
   "cell_type": "code",
   "execution_count": null,
   "metadata": {},
   "outputs": [],
   "source": [
    "plt.hist(raw_weights[4])"
   ]
  },
  {
   "cell_type": "code",
   "execution_count": null,
   "metadata": {},
   "outputs": [],
   "source": [
    "plt.plot(np.arange(1, 5, 1), weights / np.mean(df.estimated_weight_g))"
   ]
  },
  {
   "cell_type": "code",
   "execution_count": null,
   "metadata": {},
   "outputs": [],
   "source": [
    "5500 / 5700"
   ]
  },
  {
   "cell_type": "code",
   "execution_count": null,
   "metadata": {},
   "outputs": [],
   "source": [
    "np.mean(all_weights), np.mean(df.estimated_weight_g)"
   ]
  },
  {
   "cell_type": "code",
   "execution_count": null,
   "metadata": {},
   "outputs": [],
   "source": [
    "np.mean(all_weights) / np.mean(df.estimated_weight_g)"
   ]
  },
  {
   "cell_type": "code",
   "execution_count": null,
   "metadata": {},
   "outputs": [],
   "source": [
    "plt.plot(fovs, weights)"
   ]
  },
  {
   "cell_type": "code",
   "execution_count": null,
   "metadata": {},
   "outputs": [],
   "source": [
    "plt.plot(fovs, np.array(weights) / np.mean(df.estimated_weight_g))"
   ]
  },
  {
   "cell_type": "code",
   "execution_count": null,
   "metadata": {},
   "outputs": [],
   "source": [
    "weights2 = weights"
   ]
  },
  {
   "cell_type": "code",
   "execution_count": null,
   "metadata": {},
   "outputs": [],
   "source": []
  }
 ],
 "metadata": {
  "kernelspec": {
   "display_name": "Python 3",
   "language": "python",
   "name": "python3"
  },
  "language_info": {
   "codemirror_mode": {
    "name": "ipython",
    "version": 3
   },
   "file_extension": ".py",
   "mimetype": "text/x-python",
   "name": "python",
   "nbconvert_exporter": "python",
   "pygments_lexer": "ipython3",
   "version": "3.6.5"
  }
 },
 "nbformat": 4,
 "nbformat_minor": 4
}
