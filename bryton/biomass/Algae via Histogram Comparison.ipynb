{
 "cells": [
  {
   "cell_type": "code",
   "execution_count": null,
   "metadata": {},
   "outputs": [],
   "source": [
    "import json, os\n",
    "import pandas as pd\n",
    "import numpy as np\n",
    "import matplotlib.pyplot as plt\n",
    "import matplotlib.colors\n",
    "\n",
    "import pytz \n",
    "\n",
    "from datetime import timedelta, datetime\n",
    "\n",
    "from research.utils.data_access_utils import RDSAccessUtils\n",
    "\n",
    "rds_access_utils = RDSAccessUtils(json.load(open(os.environ['DATA_WAREHOUSE_SQL_CREDENTIALS'])))"
   ]
  },
  {
   "cell_type": "code",
   "execution_count": null,
   "metadata": {},
   "outputs": [],
   "source": [
    "query = \"\"\"\n",
    "    select p.id as id, s.name as site_name, p.name as pen_name from customer.pens p\n",
    "    left join customer.sites s\n",
    "    on p.site_id = s.id\n",
    "    order by p.id;\n",
    "\"\"\"\n",
    "\n",
    "rds_access_utils = RDSAccessUtils(json.load(open(os.environ['DATA_WAREHOUSE_SQL_CREDENTIALS'])))\n",
    "df_pens = rds_access_utils.extract_from_database(query)"
   ]
  },
  {
   "cell_type": "code",
   "execution_count": null,
   "metadata": {},
   "outputs": [],
   "source": [
    "%%javascript\n",
    "IPython.OutputArea.prototype._should_scroll = function(lines) {\n",
    "    return false;\n",
    "}"
   ]
  },
  {
   "cell_type": "code",
   "execution_count": null,
   "metadata": {},
   "outputs": [],
   "source": [
    "queryCache = {}"
   ]
  },
  {
   "cell_type": "code",
   "execution_count": null,
   "metadata": {},
   "outputs": [],
   "source": [
    "startDate1 = '2020-04-21'\n",
    "endDate1 = '2020-04-22'\n",
    "\n",
    "startDate2 = '2020-05-04'\n",
    "endDate2 = '2020-05-05'\n",
    "\n",
    "penIds = [95, 66, 56, 60, 85, 86]"
   ]
  },
  {
   "cell_type": "code",
   "execution_count": null,
   "metadata": {},
   "outputs": [],
   "source": [
    "fig, axes = plt.subplots(nrows = len(penIds), ncols = 1, figsize = (10, 5 * len(penIds)))\n",
    "\n",
    "for index, penId in enumerate(penIds):\n",
    "    print(penId)\n",
    "    \n",
    "    foundPenData = df_pens[df_pens.id == penId].values\n",
    "    \n",
    "    if len(foundPenData) > 0:\n",
    "        foundPen = foundPenData[0]\n",
    "        siteName = foundPen[1]\n",
    "        penName = foundPen[2]\n",
    "    else:\n",
    "        siteName = 'N/A'\n",
    "        penName = 'N/A'\n",
    "\n",
    "    query1 = \"\"\"\n",
    "        select captured_at, estimated_weight_g from prod.biomass_computations bc\n",
    "        where bc.pen_id = %i\n",
    "        and bc.akpd_score > 0.99\n",
    "        and bc.captured_at > '%s'\n",
    "        and bc.captured_at < '%s';\n",
    "    \"\"\" % (penId, startDate1, endDate1)\n",
    "\n",
    "    query2 = \"\"\"\n",
    "        select captured_at, estimated_weight_g from prod.biomass_computations bc\n",
    "        where bc.pen_id = %i\n",
    "        and bc.akpd_score > 0.99\n",
    "        and bc.captured_at > '%s'\n",
    "        and bc.captured_at < '%s';\n",
    "    \"\"\" % (penId, startDate2, endDate2)\n",
    "\n",
    "    if query1 in queryCache:\n",
    "        weights1 = queryCache[query1].copy()\n",
    "    else:\n",
    "        weights1 = rds_access_utils.extract_from_database(query1)\n",
    "        queryCache[query1] = weights1.copy()\n",
    "        \n",
    "    if query2 in queryCache:\n",
    "        weights2 = queryCache[query2].copy()\n",
    "    else:\n",
    "        weights2 = rds_access_utils.extract_from_database(query2)\n",
    "        queryCache[query2] = weights2.copy()\n",
    "\n",
    "    weights1.index = weights1['captured_at']\n",
    "    weights1 = weights1.sort_index()\n",
    "\n",
    "    weights2.index = weights2['captured_at']\n",
    "    weights2 = weights2.sort_index()\n",
    "    \n",
    "    axes[index].hist(weights1['estimated_weight_g'], bins = 20, density = True, facecolor = 'blue', alpha = 0.5)\n",
    "    axes[index].hist(weights2['estimated_weight_g'], bins = 20, density = True, facecolor = 'red', alpha = 0.5)\n",
    "    axes[index].set_title('%s %s (%i) Image Score Analysis' % (siteName, penName, penId))"
   ]
  },
  {
   "cell_type": "code",
   "execution_count": null,
   "metadata": {},
   "outputs": [],
   "source": []
  },
  {
   "cell_type": "code",
   "execution_count": null,
   "metadata": {},
   "outputs": [],
   "source": []
  },
  {
   "cell_type": "code",
   "execution_count": null,
   "metadata": {},
   "outputs": [],
   "source": []
  },
  {
   "cell_type": "code",
   "execution_count": null,
   "metadata": {},
   "outputs": [],
   "source": []
  }
 ],
 "metadata": {
  "kernelspec": {
   "display_name": "Python 3",
   "language": "python",
   "name": "python3"
  },
  "language_info": {
   "codemirror_mode": {
    "name": "ipython",
    "version": 3
   },
   "file_extension": ".py",
   "mimetype": "text/x-python",
   "name": "python",
   "nbconvert_exporter": "python",
   "pygments_lexer": "ipython3",
   "version": "3.6.5"
  }
 },
 "nbformat": 4,
 "nbformat_minor": 2
}
