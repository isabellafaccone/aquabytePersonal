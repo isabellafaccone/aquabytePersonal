{
 "cells": [
  {
   "cell_type": "code",
   "execution_count": null,
   "metadata": {},
   "outputs": [],
   "source": [
    "import json\n",
    "import os\n",
    "import numpy as np\n",
    "import pandas as pd \n",
    "from matplotlib import pyplot as plt\n",
    "from filter_optimization.filter_optimization_task import extract_biomass_data\n",
    "from research.weight_estimation.keypoint_utils.optics import euclidean_distance, pixel2world, depth_from_disp, convert_to_world_point\n",
    "\n",
    "from research.utils.data_access_utils import S3AccessUtils, RDSAccessUtils\n",
    "\n",
    "plt.rcParams['font.size'] = 18"
   ]
  },
  {
   "cell_type": "code",
   "execution_count": null,
   "metadata": {},
   "outputs": [],
   "source": [
    "%%javascript\n",
    "IPython.OutputArea.prototype._should_scroll = function(lines) {\n",
    "    return false;\n",
    "}"
   ]
  },
  {
   "cell_type": "code",
   "execution_count": null,
   "metadata": {},
   "outputs": [],
   "source": [
    "prod_rds_access_utils = RDSAccessUtils(json.load(open(os.environ['PROD_SQL_CREDENTIALS'])))\n",
    "\n",
    "query = \"\"\"\n",
    "    select p.id as id, s.name as site_name, p.name as pen_name from pens p\n",
    "    left join sites s\n",
    "    on p.site_id = s.id\n",
    "    order by p.id;\n",
    "\"\"\"\n",
    "\n",
    "df_pens = prod_rds_access_utils.extract_from_database(query)\n",
    "\n",
    "pen_infos = {}\n",
    "\n",
    "for index, pen in df_pens.iterrows():\n",
    "    pen_infos[pen.id] = pen"
   ]
  },
  {
   "cell_type": "code",
   "execution_count": null,
   "metadata": {},
   "outputs": [],
   "source": [
    "rds_access_utils = RDSAccessUtils(json.load(open(os.environ['DATA_WAREHOUSE_SQL_CREDENTIALS'])))"
   ]
  },
  {
   "cell_type": "code",
   "execution_count": null,
   "metadata": {},
   "outputs": [],
   "source": [
    "# rds_access_utils = RDSAccessUtils(json.load(open(os.environ['DATA_WAREHOUSE_SQL_CREDENTIALS'])))\n",
    "\n",
    "# depthCache = {}\n",
    "\n",
    "# def get_depth(pen_id, start_date, end_date):\n",
    "#     if pen_id in depthCache and start_date in depthCache[pen_id] and end_date in depthCache[pen_id][start_date]:\n",
    "#         depth = depthCache[pen_id][start_date][end_date]\n",
    "#     else:\n",
    "#         depth = 0\n",
    "        \n",
    "#         query = \"\"\"\n",
    "#             select avg(value) from stream.telemetry where pen_id = %i and\n",
    "#             attribute = 'aquabyte_smooth_sensors_depth_meters' and ts_source > '%s' and ts_source < '%s' and value != 'NaN'\n",
    "#             limit 1;\n",
    "#         \"\"\" % (pen_id, start_date, end_date)\n",
    "\n",
    "#         df = rds_access_utils.extract_from_database(query)\n",
    "    \n",
    "#         if len(df) > 0:\n",
    "#             if df.ix[0, 'avg'] is not None:\n",
    "#                 depth = df.ix[0, 'avg']\n",
    "        \n",
    "#         depthCache[pen_id] = { start_date: { end_date: depth } }\n",
    "    \n",
    "#     return depth"
   ]
  },
  {
   "cell_type": "code",
   "execution_count": null,
   "metadata": {},
   "outputs": [],
   "source": [
    "# df_feeding = pd.read_csv('varholmen_pen6_feeding.csv')\n",
    "# df_feeding.index = pd.to_datetime(df_feeding.date, dayfirst = True)"
   ]
  },
  {
   "cell_type": "code",
   "execution_count": null,
   "metadata": {},
   "outputs": [],
   "source": [
    "# df_feeding['weight_g'] = pd.to_numeric(df_feeding['weight_g'].astype(str).str.replace(',',''), errors='coerce')\n",
    "# df_feeding_adj = df_feeding[df_feeding.index >= '2020-07-12']"
   ]
  },
  {
   "cell_type": "code",
   "execution_count": null,
   "metadata": {},
   "outputs": [],
   "source": [
    "queryCache = {}"
   ]
  },
  {
   "cell_type": "code",
   "execution_count": null,
   "metadata": {},
   "outputs": [],
   "source": [
    "pen_id = 131\n",
    "df_start_date = '2020-07-12'\n",
    "df_end_date = '2020-08-26'\n",
    "\n",
    "if pen_id in queryCache and df_start_date in queryCache[pen_id] and df_end_date in queryCache[pen_id][df_start_date]:\n",
    "    df = queryCache[pen_id][df_start_date][df_end_date]\n",
    "else:\n",
    "    df = extract_biomass_data(pen_id, df_start_date, df_end_date, 0.99)\n",
    "    # df = extract_biomass_data(pen_id, '2020-08-24', '2020-09-03', 0.99)\n",
    "\n",
    "    df.date = pd.to_datetime(df.date)\n",
    "    df['week'] = df.date.apply(lambda x: x.weekofyear)\n",
    "\n",
    "    depths = []\n",
    "    for idx, row in df.iterrows():\n",
    "        ann, cm = row.annotation, row.camera_metadata\n",
    "        wkps = pixel2world(ann['leftCrop'], ann['rightCrop'], cm)\n",
    "        depth = np.median([wkp[1] for wkp in wkps.values()])\n",
    "        depths.append(depth)\n",
    "    df['depth'] = depths\n",
    "    \n",
    "    queryCache[pen_id] = { df_start_date: { df_end_date: df } }\n"
   ]
  },
  {
   "cell_type": "code",
   "execution_count": null,
   "metadata": {},
   "outputs": [],
   "source": [
    "def get_feeding_hours(df):\n",
    "    weight_by_hour = df.groupby('hour')['estimated_weight_g'].agg(lambda x: x.mean())\n",
    "    density_by_hour = df.groupby('hour')['estimated_weight_g'].agg(lambda x: len(x) )\n",
    "    pct_density_by_hour = density_by_hour / len(df)\n",
    "#     for amt in amts:\n",
    "#         depth_by_hour = df[(df.estimated_weight_g < amt) & (df.estimated_weight_g > amt - 1000) ].groupby('hour')['depth'].agg(lambda x: x.mean() )\n",
    "#         axes[index, 2].plot(depth_by_hour, label=amt)\n",
    "        \n",
    "#         density_by_hour_amt = df[(df.estimated_weight_g < amt) & (df.estimated_weight_g > amt - 1000) ].groupby('hour')['estimated_weight_g'].agg(lambda x: len(x) ) / len(df_week)\n",
    "#         axes[index, 1].plot(density_by_hour_amt)\n",
    "        \n",
    "    high_density = [ pct_density_by_hour.index[i] for i in np.where(pct_density_by_hour > 1 / 24)[0] ]\n",
    "    high_density_min = min(high_density)\n",
    "    high_density_max = max(high_density)\n",
    "    \n",
    "    return high_density_min, high_density_max\n",
    "\n",
    "get_feeding_hours(df)"
   ]
  },
  {
   "cell_type": "code",
   "execution_count": null,
   "metadata": {},
   "outputs": [],
   "source": [
    "weeknums = list(set(df['week']))\n",
    "weeknums.sort()\n",
    "\n",
    "amts = [2000, 3000, 4000, 5000, 6000, 7000]\n",
    "\n",
    "fig, axes = plt.subplots(len(weeknums), 3, figsize=(20, len(weeknums) * 5))\n",
    "fig.tight_layout(pad = 5)\n",
    "\n",
    "for index, week in enumerate(weeknums):\n",
    "    df_week = df[df['week'] == week]\n",
    "    start_date = min(df_week.date)\n",
    "    end_date = max(df_week.date)\n",
    "    \n",
    "#     depth = get_depth(pen_id, start_date, end_date)\n",
    "#     print(depth, start_date, end_date)\n",
    "    \n",
    "    weight_by_hour = df_week.groupby('hour')['estimated_weight_g'].agg(lambda x: x.mean())\n",
    "    density_by_hour = df_week.groupby('hour')['estimated_weight_g'].agg(lambda x: len(x) )\n",
    "    pct_density_by_hour = density_by_hour / len(df_week)\n",
    "    for amt in amts:\n",
    "        depth_by_hour = df_week[(df_week.estimated_weight_g < amt) & (df_week.estimated_weight_g > amt - 1000) ].groupby('hour')['depth'].agg(lambda x: x.mean() )\n",
    "        axes[index, 2].plot(depth_by_hour, label=amt)\n",
    "        \n",
    "        density_by_hour_amt = df_week[(df_week.estimated_weight_g < amt) & (df_week.estimated_weight_g > amt - 1000) ].groupby('hour')['estimated_weight_g'].agg(lambda x: len(x) ) / len(df_week)\n",
    "        axes[index, 1].plot(density_by_hour_amt)\n",
    "        \n",
    "    high_density = [ pct_density_by_hour.index[i] for i in np.where(pct_density_by_hour > 0.04)[0] ]\n",
    "    high_density_min = min(high_density)\n",
    "    high_density_max = max(high_density)\n",
    "    \n",
    "    axes[index, 0].plot(weight_by_hour)\n",
    "    axes[index, 0].plot(weight_by_hour[pct_density_by_hour > 1 / 24], color = 'red')\n",
    "    axes[index, 1].plot(pct_density_by_hour)\n",
    "    axes1 = axes[index, 1].twinx()\n",
    "    axes1.plot(density_by_hour)\n",
    "    axes[index, 0].set_title('%s (%i): W %i (%s to %s) @ %0.2fm' % (pen_infos[pen_id]['site_name'], pen_id, week, start_date.strftime('%Y-%m-%d'), end_date.strftime('%Y-%m-%d'), depth))\n",
    "    axes[index, 1].set_title('Density (%i fish)' % (len(df_week), ))\n",
    "    axes[index, 0].set_xlabel('Hour (UTC)')\n",
    "    axes[index, 1].set_xlabel('Hour (UTC)')\n",
    "    axes[index, 0].set_ylabel('Weight (g)')\n",
    "    axes[index, 1].set_ylabel('% of fish')\n",
    "    axes[index, 0].axvline(high_density_min)\n",
    "    axes[index, 0].axvline(high_density_max)\n",
    "    axes[index, 1].axvline(high_density_min)\n",
    "    axes[index, 1].axvline(high_density_max)\n",
    "    axes[index, 2].axvline(high_density_min)\n",
    "    axes[index, 2].axvline(high_density_max)\n",
    "    axes1.set_ylabel('# of fish')\n",
    "    if index == 0:\n",
    "        axes[index, 2].legend()"
   ]
  },
  {
   "cell_type": "code",
   "execution_count": null,
   "metadata": {},
   "outputs": [],
   "source": [
    "week = 34\n",
    "\n",
    "df_week = df[df['week'] == week]\n",
    "dates = list(set(df_week.date))\n",
    "dates.sort()\n",
    "\n",
    "fig, axes = plt.subplots(len(dates), 3, figsize=(20, len(dates) * 5))\n",
    "fig.tight_layout(pad = 5)\n",
    "\n",
    "for index, date in enumerate(dates):\n",
    "    df_day = df[df['date'] == date]\n",
    "\n",
    "    depth = get_depth(pen_id, date, dates[min(index + 1, len(dates) - 1)])\n",
    "    print(depth, start_date, end_date)\n",
    "\n",
    "    weight_by_hour = df_day.groupby('hour')['estimated_weight_g'].agg(lambda x: x.mean())\n",
    "    density_by_hour = df_day.groupby('hour')['estimated_weight_g'].agg(lambda x: len(x) )\n",
    "    pct_density_by_hour = density_by_hour / len(df_day)\n",
    "    for amt in amts:\n",
    "        depth_by_hour = df_day[(df_day.estimated_weight_g < amt) & (df_day.estimated_weight_g > amt - 1000) ].groupby('hour')['depth'].agg(lambda x: x.mean() )\n",
    "        axes[index, 2].plot(depth_by_hour, label=amt)\n",
    "        \n",
    "        density_by_hour_amt = df_day[(df_day.estimated_weight_g < amt) & (df_day.estimated_weight_g > amt - 1000) ].groupby('hour')['estimated_weight_g'].agg(lambda x: len(x) ) / len(df_day)\n",
    "        axes[index, 1].plot(density_by_hour_amt)\n",
    "    \n",
    "    high_density = [ pct_density_by_hour.index[i] for i in np.where(pct_density_by_hour > 0.04)[0] ]\n",
    "    high_density_min = min(high_density)\n",
    "    high_density_max = max(high_density)\n",
    "    \n",
    "    axes[index, 0].plot(weight_by_hour)\n",
    "    axes[index, 0].plot(weight_by_hour[pct_density_by_hour > 0.04], color = 'red')\n",
    "    axes[index, 1].plot(pct_density_by_hour)\n",
    "    axes1 = axes[index, 1].twinx()\n",
    "    axes1.plot(density_by_hour)\n",
    "    axes[index, 0].set_title('%s (%i): Date %s: %0.2f Depth' % (pen_infos[pen_id]['site_name'], pen_id, date, depth))\n",
    "    axes[index, 1].set_title('Density (%i fish)' % (len(df_day), ))\n",
    "    axes[index, 0].set_xlabel('Hour (UTC)')\n",
    "    axes[index, 1].set_xlabel('Hour (UTC)')\n",
    "    axes[index, 0].set_ylabel('Weight (g)')\n",
    "    axes[index, 1].set_ylabel('% of fish')\n",
    "    axes[index, 0].axvline(high_density_min)\n",
    "    axes[index, 0].axvline(high_density_max)\n",
    "    axes[index, 1].axvline(high_density_min)\n",
    "    axes[index, 1].axvline(high_density_max)\n",
    "    axes[index, 2].axvline(high_density_min)\n",
    "    axes[index, 2].axvline(high_density_max)\n",
    "    axes1.set_ylabel('# of fish')"
   ]
  },
  {
   "cell_type": "code",
   "execution_count": null,
   "metadata": {},
   "outputs": [],
   "source": [
    "df.head()"
   ]
  },
  {
   "cell_type": "code",
   "execution_count": null,
   "metadata": {},
   "outputs": [],
   "source": [
    "df_daily = df.groupby('date')['estimated_weight_g'].agg(lambda x: x.mean() )\n",
    "df_daily.index = pd.to_datetime(df_daily.index)\n",
    "df_daily.tail()"
   ]
  },
  {
   "cell_type": "code",
   "execution_count": null,
   "metadata": {},
   "outputs": [],
   "source": [
    "df_feeding_adj"
   ]
  },
  {
   "cell_type": "code",
   "execution_count": null,
   "metadata": {},
   "outputs": [],
   "source": [
    "#plt.plot(df_feeding_adj.pct_fed)\n",
    "plt.plot(df_feeding_adj.feeding_kg)"
   ]
  },
  {
   "cell_type": "code",
   "execution_count": null,
   "metadata": {},
   "outputs": [],
   "source": [
    "plt.figure(figsize=(20, 10))\n",
    "plt.plot(df_feeding_adj.index, df_feeding_adj['weight_g'], color = 'red', label = 'Feeding')\n",
    "plt.plot(df_daily.index, df_daily.values + 300, label = 'Aquabyte')\n",
    "plt.legend()"
   ]
  },
  {
   "cell_type": "code",
   "execution_count": null,
   "metadata": {},
   "outputs": [],
   "source": [
    "plt.figure(figsize=(20, 10))\n",
    "plt.bar(df_feeding_adj.index, df_feeding_adj['weight_g'] - df_daily)"
   ]
  },
  {
   "cell_type": "code",
   "execution_count": null,
   "metadata": {},
   "outputs": [],
   "source": [
    "# df_feeding_adj['weight_g'] - df_daily"
   ]
  },
  {
   "cell_type": "code",
   "execution_count": null,
   "metadata": {},
   "outputs": [],
   "source": []
  }
 ],
 "metadata": {
  "kernelspec": {
   "display_name": "Python 3",
   "language": "python",
   "name": "python3"
  },
  "language_info": {
   "codemirror_mode": {
    "name": "ipython",
    "version": 3
   },
   "file_extension": ".py",
   "mimetype": "text/x-python",
   "name": "python",
   "nbconvert_exporter": "python",
   "pygments_lexer": "ipython3",
   "version": "3.6.5"
  }
 },
 "nbformat": 4,
 "nbformat_minor": 2
}
