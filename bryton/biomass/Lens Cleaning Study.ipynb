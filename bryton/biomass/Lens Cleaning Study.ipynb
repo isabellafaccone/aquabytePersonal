{
 "cells": [
  {
   "cell_type": "code",
   "execution_count": 2,
   "id": "peripheral-theme",
   "metadata": {},
   "outputs": [],
   "source": [
    "import math\n",
    "import json\n",
    "import os\n",
    "import pandas as pd\n",
    "import numpy as np\n",
    "from datetime import datetime, timezone, timedelta, time\n",
    "from research.utils.data_access_utils import RDSAccessUtils\n",
    "from research.weight_estimation.keypoint_utils.optics import euclidean_distance, pixel2world, depth_from_disp, convert_to_world_point\n",
    "import matplotlib.pyplot as plt\n",
    "from matplotlib.dates import AutoDateFormatter, AutoDateLocator"
   ]
  },
  {
   "cell_type": "code",
   "execution_count": 3,
   "id": "spectacular-notice",
   "metadata": {},
   "outputs": [],
   "source": [
    "prod_access_utils = RDSAccessUtils(json.load(open(os.environ['PROD_SQL_CREDENTIALS'])))"
   ]
  },
  {
   "cell_type": "code",
   "execution_count": 4,
   "id": "affecting-circumstances",
   "metadata": {},
   "outputs": [],
   "source": [
    "query = '''\n",
    "    select * from event_logs where event_type='DIRTY_LENS';\n",
    "'''\n",
    "\n",
    "edf = prod_access_utils.extract_from_database(query)"
   ]
  },
  {
   "cell_type": "code",
   "execution_count": 5,
   "id": "corporate-kingdom",
   "metadata": {},
   "outputs": [],
   "source": [
    "rds_access_utils = RDSAccessUtils(json.load(open(os.environ['DATA_WAREHOUSE_SQL_CREDENTIALS'])))"
   ]
  },
  {
   "cell_type": "code",
   "execution_count": 6,
   "id": "brave-compact",
   "metadata": {},
   "outputs": [],
   "source": [
    "queryCache = {}"
   ]
  },
  {
   "cell_type": "code",
   "execution_count": 7,
   "id": "hidden-draft",
   "metadata": {},
   "outputs": [],
   "source": [
    "def getPenDF(pen):\n",
    "    akpd_filter = 0.95\n",
    "\n",
    "    query = \"\"\"\n",
    "       SELECT * FROM prod.biomass_computations\n",
    "        WHERE prod.biomass_computations.captured_at >= '%s'\n",
    "        AND prod.biomass_computations.captured_at <= '%s'\n",
    "        AND prod.biomass_computations.akpd_score > %0.4f\n",
    "        AND prod.biomass_computations.pen_id = %i;\n",
    "    \"\"\" % (pen['start_date'], pen['end_date'], akpd_filter, pen['pen_id'])\n",
    "    \n",
    "    if query in queryCache:\n",
    "        df = queryCache[query].copy()\n",
    "    else:\n",
    "        df = rds_access_utils.extract_from_database(query)\n",
    "        queryCache[query] = df.copy()\n",
    "\n",
    "    if len(df) == 0:\n",
    "        return df\n",
    "        \n",
    "    df = df.sort_values('captured_at').copy(deep=True)\n",
    "    df.index = pd.to_datetime(df.captured_at)\n",
    "    dates = df.index.date.astype(str)\n",
    "    df['date'] = dates\n",
    "    df['hour'] = df.index.hour\n",
    "    \n",
    "#     depths = []\n",
    "#     for idx, row in df.iterrows():\n",
    "#         ann, cm = row.annotation, row.camera_metadata\n",
    "#         wkps = pixel2world(ann['leftCrop'], ann['rightCrop'], cm)\n",
    "#         depth = np.median([wkp[1] for wkp in wkps.values()])\n",
    "#         vector = wkps['UPPER_LIP'] - wkps['TAIL_NOTCH']\n",
    "#         depths.append(depth)\n",
    "#     df['depth'] = depths\n",
    "    \n",
    "    return df\n"
   ]
  },
  {
   "cell_type": "code",
   "execution_count": 8,
   "id": "satisfied-border",
   "metadata": {},
   "outputs": [],
   "source": [
    "edf = edf.dropna()"
   ]
  },
  {
   "cell_type": "code",
   "execution_count": 9,
   "id": "classical-taylor",
   "metadata": {},
   "outputs": [
    {
     "data": {
      "text/plain": [
       "0      61\n",
       "1      86\n",
       "2      60\n",
       "3      85\n",
       "4      86\n",
       "     ... \n",
       "63     67\n",
       "64    238\n",
       "65    262\n",
       "66    270\n",
       "67    261\n",
       "Name: pen_id, Length: 67, dtype: int64"
      ]
     },
     "execution_count": 9,
     "metadata": {},
     "output_type": "execute_result"
    }
   ],
   "source": [
    "edf\n",
    "\n",
    "edf['pen_id'].astype('int')"
   ]
  },
  {
   "cell_type": "code",
   "execution_count": 10,
   "id": "secret-habitat",
   "metadata": {},
   "outputs": [],
   "source": [
    "import scipy.stats as stats\n",
    "\n",
    "def get_norm_pct(dist, pct):\n",
    "    percentile = np.percentile(dist, pct)\n",
    "    return (percentile - np.mean(dist)) / np.std(dist)\n",
    "\n",
    "def get_statistic(df1, df2):\n",
    "    gt = []\n",
    "    actual = []\n",
    "\n",
    "    for pct in np.arange(0, 100, 1):\n",
    "        gt.append(get_norm_pct(df1['estimated_weight_g'], pct))\n",
    "        actual.append(get_norm_pct(df2['estimated_weight_g'], pct))\n",
    "\n",
    "    res = stats.ks_2samp(gt, actual)\n",
    "    pvalue = res.pvalue\n",
    "    return pvalue"
   ]
  },
  {
   "cell_type": "code",
   "execution_count": 12,
   "id": "published-stand",
   "metadata": {},
   "outputs": [
    {
     "name": "stdout",
     "output_type": "stream",
     "text": [
      "86.0 165.29095242585345 2224.976248496416 2390.2672009222692\n",
      "60.0 105.18924308302485 2751.3184231857254 2856.50766626875\n",
      "85.0 124.72534303681778 1250.4145434765346 1375.1398865133524\n",
      "86.0 241.2017056501004 2458.6836222070156 2699.885327857116\n",
      "119.0 44.90376245183643 2320.662902307014 2365.5666647588505\n",
      "85.0 72.83191086981367 781.6809856391261 854.5128965089398\n",
      "1.0 168.67576839638912 696.2518869115295 864.9276553079186\n",
      "86.0 257.80738966836316 2795.7329985494143 3053.5403882177775\n",
      "5.0 264.1102304022427 1558.1670921071138 1822.2773225093565\n",
      "127.0 309.49146786222195 1542.95151414011 1852.442982002332\n",
      "126.0 222.42572253100525 1551.2807136131387 1773.706436144144\n",
      "132.0 63.35823006248074 2123.2939244255977 2186.6521544880784\n",
      "131.0 142.91065877259916 4028.161758556962 4171.072417329561\n",
      "1.0 195.00947429073005 1012.9233862058726 1207.9328604966026\n",
      "60.0 -207.14092973739298 3647.4401157059738 3440.299185968581\n",
      "131.0 384.0661580948972 4171.072417329561 4555.138575424458\n",
      "86.0 302.65374256127507 3219.4911399806933 3522.1448825419684\n",
      "56.0 248.69354565470076 3636.816791241484 3885.510336896185\n",
      "132.0 215.17755883561586 2347.02657357278 2562.2041324083957\n",
      "86.0 252.4583268367055 3509.1994153795604 3761.657742216266\n",
      "131.0 466.4803141403818 4388.431641551978 4854.91195569236\n",
      "123.0 38.580042348165534 1032.548208700615 1071.1282510487806\n",
      "5.0 161.03947453965975 2091.7464939062033 2252.785968445863\n",
      "126.0 26.40612522067522 2144.12807024832 2170.534195468995\n",
      "127.0 178.69474481602947 2108.7073730642624 2287.402117880292\n",
      "86.0 540.5926715814012 3711.9426992204453 4252.5353708018465\n",
      "132.0 349.44174671809924 2743.999064097413 3093.440810815512\n",
      "122.0 -3.84850846877589 1561.5171250077633 1557.6686165389874\n",
      "127.0 -5.184694700447835 2925.4092441382263 2920.2245494377785\n",
      "144.0 265.92072150659897 5072.90084972587 5338.821571232469\n",
      "173.0 56.40503016044545 680.3877497291141 736.7927798895596\n",
      "171.0 41.24240095800576 612.7772526658746 654.0196536238803\n",
      "145.0 159.6581489681812 5946.91342703668 6106.5715760048615\n",
      "144.0 191.25809294404917 5975.800019171503 6167.058112115552\n",
      "171.0 29.45791677632235 800.9162334186209 830.3741501949432\n",
      "173.0 8.091744341375943 917.9433182400973 926.0350625814732\n",
      "214.0 -158.93346497304083 4582.616847961448 4423.683382988407\n",
      "171.0 63.24806851347125 989.4474267617404 1052.6954952752117\n",
      "173.0 49.336237044276004 1041.2047497894987 1090.5409868337747\n",
      "239.0 21.936470069052575 1058.0226262331819 1079.9590963022345\n",
      "193.0 53.82192757000723 931.0649726605207 984.8869002305279\n",
      "67.0 -16.427312461615657 1058.7496347097533 1042.3223222481377\n",
      "238.0 19.6775242346273 743.1692920303915 762.8468162650188\n"
     ]
    }
   ],
   "source": [
    "before_weight = []\n",
    "before_end_weight = []\n",
    "after_weight = []\n",
    "after_end_weight = []\n",
    "before_num_days = []\n",
    "between_num_days = []\n",
    "after_num_days = []\n",
    "before_counts = []\n",
    "before_end_counts = []\n",
    "after_counts = []\n",
    "after_end_counts = []\n",
    "comp12s = []\n",
    "comp13s = []\n",
    "comp14s = []\n",
    "comp23s = []\n",
    "comp24s = []\n",
    "comp34s = []\n",
    "\n",
    "for index, event in edf.iterrows():\n",
    "    pen = {\n",
    "        'pen_id': int(event['pen_id']),\n",
    "        'start_date': event['started_at'] - timedelta(days=7),\n",
    "        'end_date': event['ended_at'] + timedelta(days=7)\n",
    "    }\n",
    "\n",
    "    df1 = getPenDF(pen)\n",
    "    \n",
    "    if len(df1) == 0:\n",
    "        continue\n",
    "\n",
    "    mask1 = (df1['captured_at'] < event['started_at'] - timedelta(days=5)) & (df1.hour > 9) & (df1.hour <= 15)\n",
    "    mask2 = (df1['captured_at'] > event['started_at'] - timedelta(days=2)) & (df1['captured_at'] < event['started_at']) & (df1.hour > 9) & (df1.hour <= 15)\n",
    "    mask3 = (df1['captured_at'] < event['ended_at'] + timedelta(days=2)) & (df1['captured_at'] > event['ended_at']) & (df1.hour > 9) & (df1.hour <= 15)\n",
    "    mask4 = (df1['captured_at'] > event['ended_at'] + timedelta(days=5))  & (df1.hour > 9) & (df1.hour <= 15)\n",
    "    \n",
    "    if np.sum(mask1) < 100 or np.sum(mask2) < 100 or np.sum(mask3) < 100 or np.sum(mask4) < 100:\n",
    "        continue\n",
    "    \n",
    "    before_days = (np.mean(df1[mask2]['captured_at']) - np.mean(df1[mask1]['captured_at'])).total_seconds() / 3600 / 24\n",
    "    between_days = (np.mean(df1[mask3]['captured_at']) - np.mean(df1[mask2]['captured_at'])).total_seconds() / 3600 / 24\n",
    "    after_days = (np.mean(df1[mask4]['captured_at']) - np.mean(df1[mask3]['captured_at'])).total_seconds() / 3600 / 24\n",
    "    \n",
    "    before = np.mean(df1[mask1]['estimated_weight_g'])\n",
    "    before_end =  np.mean(df1[mask2]['estimated_weight_g'])\n",
    "    after = np.mean(df1[mask3]['estimated_weight_g'])\n",
    "    after_end =  np.mean(df1[mask4]['estimated_weight_g'])\n",
    "    \n",
    "    comp12s.append(get_statistic(df1[mask1], df1[mask2]))\n",
    "    comp13s.append(get_statistic(df1[mask1], df1[mask3]))\n",
    "    comp14s.append(get_statistic(df1[mask1], df1[mask4]))\n",
    "    comp23s.append(get_statistic(df1[mask2], df1[mask3]))\n",
    "    comp24s.append(get_statistic(df1[mask2], df1[mask4]))\n",
    "    comp34s.append(get_statistic(df1[mask3], df1[mask4]))\n",
    "    \n",
    "    diff = after - before\n",
    "    \n",
    "    before_counts.append(np.sum(mask1))\n",
    "    before_end_counts.append(np.sum(mask2))\n",
    "    after_counts.append(np.sum(mask3))\n",
    "    after_end_counts.append(np.sum(mask4))\n",
    "    \n",
    "    before_weight.append(before)\n",
    "    before_end_weight.append(before_end)\n",
    "    after_weight.append(after)\n",
    "    after_end_weight.append(after_end)\n",
    "    \n",
    "    before_num_days.append(before_days)\n",
    "    between_num_days.append(between_days)\n",
    "    after_num_days.append(after_days)\n",
    "    \n",
    "    print(event['pen_id'], diff, before, after)\n",
    "\n",
    "comp12s = np.array(comp12s)\n",
    "comp13s = np.array(comp13s)\n",
    "comp14s = np.array(comp14s)\n",
    "comp23s = np.array(comp23s)\n",
    "comp24s = np.array(comp24s)\n",
    "comp34s = np.array(comp34s)\n",
    "    \n",
    "before_weight = np.array(before_weight)\n",
    "before_end_weight = np.array(before_end_weight)\n",
    "after_weight = np.array(after_weight)\n",
    "after_end_weight = np.array(after_end_weight)\n",
    "before_num_days = np.array(before_num_days)\n",
    "between_num_days = np.array(between_num_days)\n",
    "after_num_days = np.array(after_num_days)\n",
    "before_counts = np.array(before_counts)\n",
    "before_end_counts = np.array(before_end_counts)\n",
    "after_counts = np.array(after_counts)\n",
    "after_end_counts = np.array(after_end_counts)"
   ]
  },
  {
   "cell_type": "code",
   "execution_count": 13,
   "id": "friendly-squad",
   "metadata": {},
   "outputs": [
    {
     "data": {
      "text/plain": [
       "3.4583449074074077"
      ]
     },
     "execution_count": 13,
     "metadata": {},
     "output_type": "execute_result"
    }
   ],
   "source": [
    "(event['ended_at'] - event['started_at']).total_seconds() / 3600 / 24"
   ]
  },
  {
   "cell_type": "code",
   "execution_count": 14,
   "id": "close-cincinnati",
   "metadata": {},
   "outputs": [
    {
     "name": "stdout",
     "output_type": "stream",
     "text": [
      "0.9846808893194658\n",
      "0.9869104889008841\n",
      "0.9787075993087179\n",
      "0.9770742808211477\n",
      "0.9811677086452918\n",
      "0.9866043807561549\n"
     ]
    }
   ],
   "source": [
    "print(np.mean(comp12s))\n",
    "print(np.mean(comp13s))\n",
    "print(np.mean(comp14s))\n",
    "print(np.mean(comp23s))\n",
    "print(np.mean(comp24s))\n",
    "print(np.mean(comp34s))"
   ]
  },
  {
   "cell_type": "code",
   "execution_count": 15,
   "id": "pointed-rocket",
   "metadata": {},
   "outputs": [
    {
     "data": {
      "text/plain": [
       "(array([ 1.,  0.,  0.,  0.,  0.,  3.,  0.,  0.,  1., 36.]),\n",
       " array([0.81541471, 0.83387324, 0.85233177, 0.8707903 , 0.88924883,\n",
       "        0.90770736, 0.92616588, 0.94462441, 0.96308294, 0.98154147,\n",
       "        1.        ]),\n",
       " <a list of 10 Patch objects>)"
      ]
     },
     "execution_count": 15,
     "metadata": {},
     "output_type": "execute_result"
    },
    {
     "data": {
      "image/png": "[encoded data removed]",
      "text/plain": [
       "<Figure size 432x288 with 1 Axes>"
      ]
     },
     "metadata": {
      "needs_background": "light"
     },
     "output_type": "display_data"
    }
   ],
   "source": [
    "mask = comp12s > 0.9\n",
    "\n",
    "plt.hist(comp12s[mask], alpha = 0.5, color = 'red')\n",
    "plt.hist(comp13s[mask], alpha = 0.5, color = 'blue')\n",
    "plt.hist(comp14s[mask], alpha = 0.5, color = 'green')"
   ]
  },
  {
   "cell_type": "code",
   "execution_count": 16,
   "id": "incredible-rochester",
   "metadata": {},
   "outputs": [
    {
     "data": {
      "text/plain": [
       "(array([ 1.,  0.,  0.,  0.,  0.,  0.,  0.,  1.,  0., 39.]),\n",
       " array([0.58300906, 0.62470816, 0.66640725, 0.70810634, 0.74980544,\n",
       "        0.79150453, 0.83320362, 0.87490272, 0.91660181, 0.95830091,\n",
       "        1.        ]),\n",
       " <a list of 10 Patch objects>)"
      ]
     },
     "execution_count": 16,
     "metadata": {},
     "output_type": "execute_result"
    },
    {
     "data": {
      "image/png": "[encoded data removed]",
      "text/plain": [
       "<Figure size 432x288 with 1 Axes>"
      ]
     },
     "metadata": {
      "needs_background": "light"
     },
     "output_type": "display_data"
    }
   ],
   "source": [
    "plt.hist(comp23s[mask], alpha = 0.5, color = 'red')\n",
    "plt.hist(comp24s[mask], alpha = 0.5, color = 'blue')\n",
    "plt.hist(comp34s[mask], alpha = 0.5, color = 'green')"
   ]
  },
  {
   "cell_type": "code",
   "execution_count": 17,
   "id": "rubber-country",
   "metadata": {},
   "outputs": [
    {
     "name": "stdout",
     "output_type": "stream",
     "text": [
      "0.0072810711872705455 0.00594987750061689 0.006503115811186319\n"
     ]
    },
    {
     "data": {
      "image/png": "[encoded data removed]",
      "text/plain": [
       "<Figure size 432x288 with 1 Axes>"
      ]
     },
     "metadata": {
      "needs_background": "light"
     },
     "output_type": "display_data"
    }
   ],
   "source": [
    "diff1 = before_end_weight - before_weight\n",
    "diff2 = after_end_weight - after_weight\n",
    "diff3 = after_weight - before_end_weight\n",
    "\n",
    "mask = (before_counts > 250) & (before_end_counts > 250) & (after_counts > 250) & (after_end_counts > 250)\n",
    "\n",
    "before_growth_rate = diff1[mask] / before_num_days[mask] / before_weight[mask]\n",
    "between_growth_rate = diff3[mask] / between_num_days[mask] / before_weight[mask]\n",
    "after_growth_rate = diff2[mask] / after_num_days[mask] / after_weight[mask]\n",
    "\n",
    "plt.scatter(before_growth_rate, after_growth_rate)\n",
    "plt.plot(before_growth_rate, before_growth_rate)\n",
    "plt.xlabel('Growth Rate (before cleaning)')\n",
    "plt.ylabel('Growth Rate (after cleaning)')\n",
    "plt.title('Effect of Lens Cleaning on Growth Rate')\n",
    "\n",
    "print(np.mean(before_growth_rate), np.mean(between_growth_rate), np.mean(after_growth_rate))"
   ]
  },
  {
   "cell_type": "code",
   "execution_count": 18,
   "id": "psychological-jacob",
   "metadata": {},
   "outputs": [
    {
     "ename": "NameError",
     "evalue": "name 'growth_rate' is not defined",
     "output_type": "error",
     "traceback": [
      "\u001b[0;31m---------------------------------------------------------------------------\u001b[0m",
      "\u001b[0;31mNameError\u001b[0m                                 Traceback (most recent call last)",
      "\u001b[0;32m<ipython-input-18-352c946be637>\u001b[0m in \u001b[0;36m<module>\u001b[0;34m\u001b[0m\n\u001b[0;32m----> 1\u001b[0;31m \u001b[0mplt\u001b[0m\u001b[0;34m.\u001b[0m\u001b[0mhist\u001b[0m\u001b[0;34m(\u001b[0m\u001b[0mgrowth_rate\u001b[0m\u001b[0;34m,\u001b[0m \u001b[0mbins\u001b[0m \u001b[0;34m=\u001b[0m \u001b[0;36m20\u001b[0m\u001b[0;34m)\u001b[0m\u001b[0;34m\u001b[0m\u001b[0m\n\u001b[0m",
      "\u001b[0;31mNameError\u001b[0m: name 'growth_rate' is not defined"
     ]
    }
   ],
   "source": [
    "plt.hist(growth_rate, bins = 20)"
   ]
  },
  {
   "cell_type": "code",
   "execution_count": null,
   "id": "rotary-holly",
   "metadata": {},
   "outputs": [],
   "source": []
  }
 ],
 "metadata": {
  "kernelspec": {
   "display_name": "Python 3",
   "language": "python",
   "name": "python3"
  },
  "language_info": {
   "codemirror_mode": {
    "name": "ipython",
    "version": 3
   },
   "file_extension": ".py",
   "mimetype": "text/x-python",
   "name": "python",
   "nbconvert_exporter": "python",
   "pygments_lexer": "ipython3",
   "version": "3.6.5"
  }
 },
 "nbformat": 4,
 "nbformat_minor": 5
}
