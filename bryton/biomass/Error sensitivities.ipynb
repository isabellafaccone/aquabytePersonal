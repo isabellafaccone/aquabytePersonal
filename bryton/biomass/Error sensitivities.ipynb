{
 "cells": [
  {
   "cell_type": "code",
   "execution_count": 1,
   "id": "chubby-rapid",
   "metadata": {},
   "outputs": [],
   "source": [
    "import math\n",
    "import json\n",
    "import os\n",
    "import pandas as pd\n",
    "import numpy as np\n",
    "from datetime import datetime, timezone, timedelta, time\n",
    "from research.utils.data_access_utils import RDSAccessUtils\n",
    "from research.weight_estimation.keypoint_utils.optics import euclidean_distance, pixel2world, depth_from_disp, convert_to_world_point\n",
    "import matplotlib.pyplot as plt\n",
    "from matplotlib.dates import AutoDateFormatter, AutoDateLocator\n",
    "\n",
    "rds_access_utils = RDSAccessUtils(json.load(open(os.environ['DATA_WAREHOUSE_SQL_CREDENTIALS'])))"
   ]
  },
  {
   "cell_type": "code",
   "execution_count": 2,
   "id": "extensive-alarm",
   "metadata": {},
   "outputs": [],
   "source": [
    "queryCache = {}"
   ]
  },
  {
   "cell_type": "code",
   "execution_count": 3,
   "id": "surprised-ladder",
   "metadata": {},
   "outputs": [],
   "source": [
    "pen5 = pd.read_csv('/root/data/bryton/blom_vikane_singleweights.csv')"
   ]
  },
  {
   "cell_type": "code",
   "execution_count": 4,
   "id": "leading-laptop",
   "metadata": {},
   "outputs": [
    {
     "name": "stderr",
     "output_type": "stream",
     "text": [
      "/home/user/miniconda/envs/py36/lib/python3.6/site-packages/research/weight_estimation/keypoint_utils/optics.py:37: RuntimeWarning: divide by zero encountered in true_divide\n",
      "  depth = focal_length_pixel * baseline / np.array(disp)\n"
     ]
    }
   ],
   "source": [
    "def getPenDF(pen):\n",
    "    query = \"\"\"\n",
    "       SELECT * FROM prod.biomass_computations\n",
    "        WHERE prod.biomass_computations.captured_at >= '%s'\n",
    "        AND prod.biomass_computations.captured_at <= '%s'\n",
    "        AND prod.biomass_computations.pen_id = '%s';\n",
    "    \"\"\" % (pen['start_date'], pen['end_date'], pen['pen_id'])\n",
    "    \n",
    "    if query in queryCache:\n",
    "        df = queryCache[query].copy()\n",
    "    else:\n",
    "        df = rds_access_utils.extract_from_database(query)\n",
    "        queryCache[query] = df.copy()\n",
    "\n",
    "    df = df.sort_values('captured_at').copy(deep=True)\n",
    "    df.index = pd.to_datetime(df.captured_at)\n",
    "    dates = df.index.date.astype(str)\n",
    "    df['date'] = dates\n",
    "    df['hour'] = df.index.hour\n",
    "    \n",
    "    depths = []\n",
    "    for idx, row in df.iterrows():\n",
    "        ann, cm = row.annotation, row.camera_metadata\n",
    "        wkps = pixel2world(ann['leftCrop'], ann['rightCrop'], cm)\n",
    "        depth = np.median([wkp[1] for wkp in wkps.values()])\n",
    "        depths.append(depth)\n",
    "    df['depth'] = depths\n",
    "    \n",
    "    return df\n",
    "    \n",
    "pen1 = {\n",
    "    'pen_id': 60,\n",
    "    'start_date': '2020-08-24',\n",
    "    'end_date': '2020-08-26'\n",
    "}\n",
    "\n",
    "df1 = getPenDF(pen1)"
   ]
  },
  {
   "cell_type": "code",
   "execution_count": 18,
   "id": "acknowledged-amsterdam",
   "metadata": {},
   "outputs": [
    {
     "data": {
      "text/plain": [
       "(array([ 454.,   77.,  513., 1183.,  619.,  650.,  850.,  226.,   76.,\n",
       "         318.]),\n",
       " array([ 0. ,  2.3,  4.6,  6.9,  9.2, 11.5, 13.8, 16.1, 18.4, 20.7, 23. ]),\n",
       " <a list of 10 Patch objects>)"
      ]
     },
     "execution_count": 18,
     "metadata": {},
     "output_type": "execute_result"
    },
    {
     "data": {
      "image/png": "[encoded data removed]",
      "text/plain": [
       "<Figure size 432x288 with 1 Axes>"
      ]
     },
     "metadata": {
      "needs_background": "light"
     },
     "output_type": "display_data"
    }
   ],
   "source": [
    "plt.hist(df1.hour)"
   ]
  },
  {
   "cell_type": "code",
   "execution_count": 20,
   "id": "steady-worse",
   "metadata": {},
   "outputs": [
    {
     "data": {
      "text/plain": [
       "(array([2.99735481e-06, 1.53198135e-05, 2.80863247e-05, 2.87524036e-05,\n",
       "        3.17497584e-05, 3.99647309e-05, 5.07330056e-05, 7.28246207e-05,\n",
       "        1.08792878e-04, 1.56084477e-04, 2.30019229e-04, 3.46361001e-04,\n",
       "        4.48826130e-04, 4.93120373e-04, 5.65500942e-04, 5.22205817e-04,\n",
       "        4.80242849e-04, 4.18741569e-04, 3.18718729e-04, 2.51000712e-04,\n",
       "        1.92052734e-04, 1.31772599e-04, 8.69232896e-05, 5.81708860e-05,\n",
       "        3.03065876e-05, 1.64299449e-05, 8.43699874e-06, 4.66255193e-06,\n",
       "        2.88634167e-06, 1.22114455e-06]),\n",
       " array([1286.18076444, 1480.62336942, 1675.06597439, 1869.50857937,\n",
       "        2063.95118435, 2258.39378933, 2452.83639431, 2647.27899929,\n",
       "        2841.72160427, 3036.16420925, 3230.60681423, 3425.0494192 ,\n",
       "        3619.49202418, 3813.93462916, 4008.37723414, 4202.81983912,\n",
       "        4397.2624441 , 4591.70504908, 4786.14765406, 4980.59025904,\n",
       "        5175.03286401, 5369.47546899, 5563.91807397, 5758.36067895,\n",
       "        5952.80328393, 6147.24588891, 6341.68849389, 6536.13109887,\n",
       "        6730.57370385, 6925.01630882, 7119.4589138 ]),\n",
       " <a list of 30 Patch objects>)"
      ]
     },
     "execution_count": 20,
     "metadata": {},
     "output_type": "execute_result"
    },
    {
     "data": {
      "image/png": "[encoded data removed]",
      "text/plain": [
       "<Figure size 432x288 with 1 Axes>"
      ]
     },
     "metadata": {
      "needs_background": "light"
     },
     "output_type": "display_data"
    }
   ],
   "source": [
    "mask = (df1.akpd_score > 0.95) & (df1.hour >= 5) & (df1.hour <= 15)\n",
    "df2 = df1[mask]\n",
    "\n",
    "counts, bins, _ = plt.hist(df2.estimated_weight_g, density = True, alpha = 0.5, color = 'red', bins = 30)\n",
    "plt.hist(pen5.weight * 1000 / 0.84, density = True, alpha = 0.5, color = 'blue', bins = bins)"
   ]
  },
  {
   "cell_type": "code",
   "execution_count": 47,
   "id": "accepted-figure",
   "metadata": {},
   "outputs": [],
   "source": [
    "counts = np.arange(100, 1000, 10)\n",
    "\n",
    "gt_weight = np.mean(pen5.weight * 1000 / 0.84)\n",
    "\n",
    "mask = (df1.akpd_score > 0.95) & (df1.hour >= 5) & (df1.hour <= 15)\n",
    "df2 = df1[mask]\n",
    "\n",
    "errors = []\n",
    "\n",
    "for count in counts:\n",
    "    results = []\n",
    "    \n",
    "    for i in np.arange(1000):\n",
    "        weights = np.mean(np.random.choice(df2.estimated_weight_g, count))\n",
    "\n",
    "        results.append(np.abs((weights - gt_weight) / gt_weight))\n",
    "\n",
    "    errors.append(np.mean(results))"
   ]
  },
  {
   "cell_type": "code",
   "execution_count": 49,
   "id": "possible-recognition",
   "metadata": {},
   "outputs": [
    {
     "data": {
      "text/plain": [
       "Text(0.5, 1.0, 'Vikane Pen 2: Error vs Sample Size')"
      ]
     },
     "execution_count": 49,
     "metadata": {},
     "output_type": "execute_result"
    },
    {
     "data": {
      "image/png": "[encoded data removed]",
      "text/plain": [
       "<Figure size 432x288 with 1 Axes>"
      ]
     },
     "metadata": {
      "needs_background": "light"
     },
     "output_type": "display_data"
    }
   ],
   "source": [
    "plt.plot(counts, errors)\n",
    "plt.xlabel('Sample size')\n",
    "plt.ylabel('Error')\n",
    "plt.title('Vikane Pen 2: Error vs Sample Size')"
   ]
  },
  {
   "cell_type": "code",
   "execution_count": 39,
   "id": "mediterranean-alfred",
   "metadata": {},
   "outputs": [],
   "source": [
    "counts = np.arange(0.01, 0.99, 0.01)\n",
    "\n",
    "gt_weight = np.mean(pen5.weight * 1000 / 0.84)\n",
    "\n",
    "errors = []\n",
    "\n",
    "for count in counts:\n",
    "    mask = (df1.akpd_score > count) & (df1.hour >= 5) & (df1.hour <= 15)\n",
    "    df2 = df1[mask]\n",
    "    \n",
    "    weights = np.mean(df2.estimated_weight_g)\n",
    "\n",
    "    errors.append(np.abs((weights - gt_weight) / gt_weight))"
   ]
  },
  {
   "cell_type": "code",
   "execution_count": 40,
   "id": "operating-birthday",
   "metadata": {},
   "outputs": [
    {
     "data": {
      "text/plain": [
       "[<matplotlib.lines.Line2D at 0x7fc6ccfb33c8>]"
      ]
     },
     "execution_count": 40,
     "metadata": {},
     "output_type": "execute_result"
    },
    {
     "data": {
      "image/png": "[encoded data removed]",
      "text/plain": [
       "<Figure size 432x288 with 1 Axes>"
      ]
     },
     "metadata": {
      "needs_background": "light"
     },
     "output_type": "display_data"
    }
   ],
   "source": [
    "plt.plot(counts, errors)"
   ]
  },
  {
   "cell_type": "code",
   "execution_count": null,
   "id": "imposed-convergence",
   "metadata": {},
   "outputs": [],
   "source": []
  }
 ],
 "metadata": {
  "kernelspec": {
   "display_name": "Python 3",
   "language": "python",
   "name": "python3"
  },
  "language_info": {
   "codemirror_mode": {
    "name": "ipython",
    "version": 3
   },
   "file_extension": ".py",
   "mimetype": "text/x-python",
   "name": "python",
   "nbconvert_exporter": "python",
   "pygments_lexer": "ipython3",
   "version": "3.6.5"
  }
 },
 "nbformat": 4,
 "nbformat_minor": 5
}
