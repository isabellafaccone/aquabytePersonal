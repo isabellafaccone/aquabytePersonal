{
 "cells": [
  {
   "cell_type": "code",
   "execution_count": null,
   "metadata": {},
   "outputs": [],
   "source": [
    "import os\n",
    "import json\n",
    "import random\n",
    "\n",
    "from PIL import Image, ImageDraw, ImageFont\n",
    "\n",
    "import matplotlib.pyplot as plt\n",
    "import numpy as np\n",
    "\n",
    "import lib.detections as detections\n",
    "\n",
    "font_file = '/root/bryton/aquabyte_sealice/Keyboard.ttf'\n",
    "\n",
    "font = ImageFont.truetype(font_file, 200)"
   ]
  },
  {
   "cell_type": "code",
   "execution_count": null,
   "metadata": {},
   "outputs": [],
   "source": [
    "imenco_file = '/root/bryton/aquabyte_sealice/imenco.jpg'\n",
    "\n",
    "f, ax = plt.subplots(1, 2, figsize = (20, 10))\n",
    "\n",
    "base_image = Image.open(imenco_file)\n",
    "\n",
    "ax[0].imshow(np.array(base_image))\n",
    "\n",
    "plt.tight_layout()\n",
    "plt.show()\n",
    "\n",
    "plt.close()"
   ]
  },
  {
   "cell_type": "code",
   "execution_count": null,
   "metadata": {},
   "outputs": [],
   "source": []
  },
  {
   "cell_type": "code",
   "execution_count": null,
   "metadata": {},
   "outputs": [],
   "source": [
    "start_index = 0\n",
    "end_index = 3\n",
    "\n",
    "output_directory = '/root/bryton/aquabyte_sealice/output'\n",
    "output_annotations_file = '%s/annotations.json' % (output_directory,)\n",
    "\n",
    "try: \n",
    "    os.makedirs(output_directory)\n",
    "except OSError:\n",
    "    if not os.path.isdir(output_directory):\n",
    "        raise\n",
    "    \n",
    "\n",
    "output_jsons = []\n",
    "\n",
    "for index in range(start_index, end_index + 1):\n",
    "    image = Image.open(imenco_file)\n",
    "    \n",
    "    draw = ImageDraw.Draw(image)\n",
    "    \n",
    "    image_name = 'Image %i' % (index,)\n",
    "    \n",
    "    draw.text((50, 50), image_name, (255,255,0), font = font)\n",
    "   \n",
    "    output_file = '%s/%i.jpg' % (output_directory, index)\n",
    "    \n",
    "    image.save(output_file)\n",
    "    \n",
    "    width, height = image.size\n",
    "    \n",
    "    x1 = random.randint(0, width * 0.75)\n",
    "    y1 = random.randint(0, height * 0.75)\n",
    "    x2 = x1 + random.randint(25, 75)\n",
    "    y2 = y1 + random.randint(25, 75)\n",
    "    confidence = random.uniform(0.25, 0.75)\n",
    "    \n",
    "    print 'Processing Image %i, creating fake bounding box at [%i, %i] to [%i, %i] with confidence %0.2f' % (index, x1, y1, x2, y2, confidence)\n",
    "    \n",
    "    raw_lice_detections = [\n",
    "        { 'x1': x1, 'y1': y2, 'x2': x2, 'y2': y2, 'confidence': confidence }\n",
    "    ]\n",
    "    \n",
    "    output = detections.create_fish_detection(None, raw_lice_detections)\n",
    "    \n",
    "    output_json = {\n",
    "        'fish_detection': output['fish_detection'],\n",
    "        'lice_detections': output['lice_detections']\n",
    "    }\n",
    "    \n",
    "    output_jsons.append(output_json)\n",
    "\n",
    "with open(output_annotations_file, 'w') as outfile:\n",
    "    json.dump(output_jsons, outfile)"
   ]
  },
  {
   "cell_type": "code",
   "execution_count": null,
   "metadata": {},
   "outputs": [],
   "source": []
  }
 ],
 "metadata": {
  "kernelspec": {
   "display_name": "Python 2",
   "language": "python",
   "name": "python2"
  },
  "language_info": {
   "codemirror_mode": {
    "name": "ipython",
    "version": 2
   },
   "file_extension": ".py",
   "mimetype": "text/x-python",
   "name": "python",
   "nbconvert_exporter": "python",
   "pygments_lexer": "ipython2",
   "version": "2.7.12"
  }
 },
 "nbformat": 4,
 "nbformat_minor": 2
}
