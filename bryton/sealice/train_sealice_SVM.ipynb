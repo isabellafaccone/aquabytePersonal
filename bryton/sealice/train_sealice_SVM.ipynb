{
 "cells": [
  {
   "cell_type": "code",
   "execution_count": null,
   "metadata": {},
   "outputs": [],
   "source": [
    "'''\n",
    "Reads in the ORB descriptor data and trains a SVM classifier\n",
    "'''\n",
    "\n",
    "import os\n",
    "import lib.svm as svm\n",
    "\n",
    "if __name__ == '__main__':\n",
    "    base_directory = '/root/bryton/aquabyte_sealice'\n",
    "\n",
    "    model_directory = '%s/models' % (base_directory, )\n",
    "    orb_output_directory = '%s/orb_output' % (base_directory, )\n",
    "    svm_output_directory = '%s/svm_output' % (base_directory, )\n",
    "\n",
    "    try: \n",
    "        os.makedirs(svm_output_directory)\n",
    "    except OSError:\n",
    "        if not os.path.isdir(svm_output_directory):\n",
    "            raise\n",
    "\n",
    "    descr_type = 'ORB'\n",
    "    \n",
    "    sealice_SVM_trainer = svm.SealiceSVMTrainer(model_directory, orb_output_directory, svm_output_directory, descr_type)\n",
    "    \n",
    "    sealice_SVM_trainer.prepare_data_and_train(True)"
   ]
  },
  {
   "cell_type": "code",
   "execution_count": null,
   "metadata": {},
   "outputs": [],
   "source": []
  },
  {
   "cell_type": "code",
   "execution_count": null,
   "metadata": {},
   "outputs": [],
   "source": []
  }
 ],
 "metadata": {
  "kernelspec": {
   "display_name": "Python 2",
   "language": "python",
   "name": "python2"
  },
  "language_info": {
   "codemirror_mode": {
    "name": "ipython",
    "version": 2
   },
   "file_extension": ".py",
   "mimetype": "text/x-python",
   "name": "python",
   "nbconvert_exporter": "python",
   "pygments_lexer": "ipython2",
   "version": "2.7.12"
  }
 },
 "nbformat": 4,
 "nbformat_minor": 2
}
