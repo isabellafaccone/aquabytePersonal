{
 "cells": [
  {
   "cell_type": "code",
   "execution_count": 1,
   "metadata": {},
   "outputs": [
    {
     "ename": "NameError",
     "evalue": "name 'Symbol' is not defined",
     "output_type": "error",
     "traceback": [
      "\u001b[0;31m---------------------------------------------------------------------------\u001b[0m",
      "\u001b[0;31mNameError\u001b[0m                                 Traceback (most recent call last)",
      "\u001b[0;32m<ipython-input-1-44279747d90c>\u001b[0m in \u001b[0;36m<module>\u001b[0;34m\u001b[0m\n\u001b[0;32m----> 1\u001b[0;31m \u001b[0mhelp\u001b[0m\u001b[0;34m(\u001b[0m\u001b[0mSymbol\u001b[0m\u001b[0;34m)\u001b[0m\u001b[0;34m\u001b[0m\u001b[0;34m\u001b[0m\u001b[0m\n\u001b[0m",
      "\u001b[0;31mNameError\u001b[0m: name 'Symbol' is not defined"
     ]
    }
   ],
   "source": [
    "help(Symbol)"
   ]
  },
  {
   "cell_type": "code",
   "execution_count": 1,
   "metadata": {},
   "outputs": [
    {
     "data": {
      "text/plain": [
       "(N_CH, N_PA, N_A, t)"
      ]
     },
     "execution_count": 1,
     "metadata": {},
     "output_type": "execute_result"
    }
   ],
   "source": [
    "from sympy import *\n",
    "init_printing()\n",
    "\n",
    "t = Symbol('t')\n",
    "nch, npa, na = symbols('N_CH N_PA N_A', cls = Function, Function = True)\n",
    "nch,npa, na, t"
   ]
  },
  {
   "cell_type": "code",
   "execution_count": 3,
   "metadata": {},
   "outputs": [
    {
     "name": "stdout",
     "output_type": "stream",
     "text": [
      "constants\n"
     ]
    },
    {
     "data": {
      "image/png": "[encoded data removed]",
      "text/latex": [
       "$\\displaystyle \\left[ u_{CH}, \\  u_{PA}, \\  u_{A}, \\  v_{CH}, \\  v_{PA}\\right]$"
      ],
      "text/plain": [
       "[u_CH, u_PA, u_A, v_CH, v_PA]"
      ]
     },
     "execution_count": 3,
     "metadata": {},
     "output_type": "execute_result"
    }
   ],
   "source": [
    "mu_ch = Symbol('u_CH', constant=True)\n",
    "mu_pa = Symbol('u_PA', constant=True)\n",
    "mu_a = Symbol('u_A', constant=True)\n",
    "v_ch = Symbol('v_CH', constant=True)\n",
    "v_pa = Symbol('v_PA', constant=True)\n",
    "\n",
    "print('constants')\n",
    "[mu_ch, mu_pa, mu_a, v_ch, v_pa]"
   ]
  },
  {
   "cell_type": "code",
   "execution_count": 4,
   "metadata": {},
   "outputs": [
    {
     "data": {
      "image/png": "[encoded data removed]",
      "text/latex": [
       "$\\displaystyle \\frac{d}{d t} \\operatorname{N_{CH}}{\\left(t \\right)} = \\left(- u_{CH} - v_{CH}\\right) \\operatorname{N_{CH}}{\\left(t \\right)}$"
      ],
      "text/plain": [
       "d                                   \n",
       "──(N_CH(t)) = (-u_CH - v_CH)⋅N_CH(t)\n",
       "dt                                  "
      ]
     },
     "execution_count": 4,
     "metadata": {},
     "output_type": "execute_result"
    }
   ],
   "source": [
    "diffeq1 = Eq(nch(t).diff(t),  -(mu_ch+v_ch)*nch(t))\n",
    "diffeq1"
   ]
  },
  {
   "cell_type": "code",
   "execution_count": 5,
   "metadata": {},
   "outputs": [
    {
     "data": {
      "image/png": "[encoded data removed]",
      "text/latex": [
       "$\\displaystyle \\frac{d}{d t} \\operatorname{N_{PA}}{\\left(t \\right)} = v_{CH} \\operatorname{N_{CH}}{\\left(t \\right)} - \\left(u_{PA} + v_{PA}\\right) \\operatorname{N_{PA}}{\\left(t \\right)}$"
      ],
      "text/plain": [
       "d                                                 \n",
       "──(N_PA(t)) = v_CH⋅N_CH(t) - (u_PA + v_PA)⋅N_PA(t)\n",
       "dt                                                "
      ]
     },
     "execution_count": 5,
     "metadata": {},
     "output_type": "execute_result"
    }
   ],
   "source": [
    "diffeq2 = Eq(npa(t).diff(t), v_ch*nch(t) - (mu_pa+v_pa)*npa(t))\n",
    "diffeq2"
   ]
  },
  {
   "cell_type": "code",
   "execution_count": 6,
   "metadata": {},
   "outputs": [
    {
     "data": {
      "image/png": "[encoded data removed]",
      "text/latex": [
       "$\\displaystyle \\frac{d}{d t} \\operatorname{N_{A}}{\\left(t \\right)} = - u_{A} \\operatorname{N_{A}}{\\left(t \\right)} + v_{PA} \\operatorname{N_{PA}}{\\left(t \\right)}$"
      ],
      "text/plain": [
       "d                                      \n",
       "──(N_A(t)) = -u_A⋅N_A(t) + v_PA⋅N_PA(t)\n",
       "dt                                     "
      ]
     },
     "execution_count": 6,
     "metadata": {},
     "output_type": "execute_result"
    }
   ],
   "source": [
    "diffeq3 = Eq(na(t).diff(t), v_pa*npa(t) - (mu_a)*na(t))\n",
    "diffeq3"
   ]
  },
  {
   "cell_type": "markdown",
   "metadata": {},
   "source": [
    "### Try to solve automatically"
   ]
  },
  {
   "cell_type": "code",
   "execution_count": 7,
   "metadata": {},
   "outputs": [
    {
     "name": "stdout",
     "output_type": "stream",
     "text": [
      "Help on function dsolve in module sympy.solvers.ode.ode:\n",
      "\n",
      "dsolve(eq, func=None, hint='default', simplify=True, ics=None, xi=None, eta=None, x0=0, n=6, **kwargs)\n",
      "     Solves any (supported) kind of ordinary differential equation and\n",
      "     system of ordinary differential equations.\n",
      "    \n",
      "     For single ordinary differential equation\n",
      "     =========================================\n",
      "    \n",
      "     It is classified under this when number of equation in ``eq`` is one.\n",
      "     **Usage**\n",
      "    \n",
      "         ``dsolve(eq, f(x), hint)`` -> Solve ordinary differential equation\n",
      "         ``eq`` for function ``f(x)``, using method ``hint``.\n",
      "    \n",
      "     **Details**\n",
      "    \n",
      "         ``eq`` can be any supported ordinary differential equation (see the\n",
      "             :py:mod:`~sympy.solvers.ode` docstring for supported methods).\n",
      "             This can either be an :py:class:`~sympy.core.relational.Equality`,\n",
      "             or an expression, which is assumed to be equal to ``0``.\n",
      "    \n",
      "         ``f(x)`` is a function of one variable whose derivatives in that\n",
      "             variable make up the ordinary differential equation ``eq``.  In\n",
      "             many cases it is not necessary to provide this; it will be\n",
      "             autodetected (and an error raised if it couldn't be detected).\n",
      "    \n",
      "         ``hint`` is the solving method that you want dsolve to use.  Use\n",
      "             ``classify_ode(eq, f(x))`` to get all of the possible hints for an\n",
      "             ODE.  The default hint, ``default``, will use whatever hint is\n",
      "             returned first by :py:meth:`~sympy.solvers.ode.classify_ode`.  See\n",
      "             Hints below for more options that you can use for hint.\n",
      "    \n",
      "         ``simplify`` enables simplification by\n",
      "             :py:meth:`~sympy.solvers.ode.ode.odesimp`.  See its docstring for more\n",
      "             information.  Turn this off, for example, to disable solving of\n",
      "             solutions for ``func`` or simplification of arbitrary constants.\n",
      "             It will still integrate with this hint. Note that the solution may\n",
      "             contain more arbitrary constants than the order of the ODE with\n",
      "             this option enabled.\n",
      "    \n",
      "         ``xi`` and ``eta`` are the infinitesimal functions of an ordinary\n",
      "             differential equation. They are the infinitesimals of the Lie group\n",
      "             of point transformations for which the differential equation is\n",
      "             invariant. The user can specify values for the infinitesimals. If\n",
      "             nothing is specified, ``xi`` and ``eta`` are calculated using\n",
      "             :py:meth:`~sympy.solvers.ode.infinitesimals` with the help of various\n",
      "             heuristics.\n",
      "    \n",
      "         ``ics`` is the set of initial/boundary conditions for the differential equation.\n",
      "           It should be given in the form of ``{f(x0): x1, f(x).diff(x).subs(x, x2):\n",
      "           x3}`` and so on.  For power series solutions, if no initial\n",
      "           conditions are specified ``f(0)`` is assumed to be ``C0`` and the power\n",
      "           series solution is calculated about 0.\n",
      "    \n",
      "         ``x0`` is the point about which the power series solution of a differential\n",
      "           equation is to be evaluated.\n",
      "    \n",
      "         ``n`` gives the exponent of the dependent variable up to which the power series\n",
      "           solution of a differential equation is to be evaluated.\n",
      "    \n",
      "     **Hints**\n",
      "    \n",
      "         Aside from the various solving methods, there are also some meta-hints\n",
      "         that you can pass to :py:meth:`~sympy.solvers.ode.dsolve`:\n",
      "    \n",
      "         ``default``:\n",
      "                 This uses whatever hint is returned first by\n",
      "                 :py:meth:`~sympy.solvers.ode.classify_ode`. This is the\n",
      "                 default argument to :py:meth:`~sympy.solvers.ode.dsolve`.\n",
      "    \n",
      "         ``all``:\n",
      "                 To make :py:meth:`~sympy.solvers.ode.dsolve` apply all\n",
      "                 relevant classification hints, use ``dsolve(ODE, func,\n",
      "                 hint=\"all\")``.  This will return a dictionary of\n",
      "                 ``hint:solution`` terms.  If a hint causes dsolve to raise the\n",
      "                 ``NotImplementedError``, value of that hint's key will be the\n",
      "                 exception object raised.  The dictionary will also include\n",
      "                 some special keys:\n",
      "    \n",
      "                 - ``order``: The order of the ODE.  See also\n",
      "                   :py:meth:`~sympy.solvers.deutils.ode_order` in\n",
      "                   ``deutils.py``.\n",
      "                 - ``best``: The simplest hint; what would be returned by\n",
      "                   ``best`` below.\n",
      "                 - ``best_hint``: The hint that would produce the solution\n",
      "                   given by ``best``.  If more than one hint produces the best\n",
      "                   solution, the first one in the tuple returned by\n",
      "                   :py:meth:`~sympy.solvers.ode.classify_ode` is chosen.\n",
      "                 - ``default``: The solution that would be returned by default.\n",
      "                   This is the one produced by the hint that appears first in\n",
      "                   the tuple returned by\n",
      "                   :py:meth:`~sympy.solvers.ode.classify_ode`.\n",
      "    \n",
      "         ``all_Integral``:\n",
      "                 This is the same as ``all``, except if a hint also has a\n",
      "                 corresponding ``_Integral`` hint, it only returns the\n",
      "                 ``_Integral`` hint.  This is useful if ``all`` causes\n",
      "                 :py:meth:`~sympy.solvers.ode.dsolve` to hang because of a\n",
      "                 difficult or impossible integral.  This meta-hint will also be\n",
      "                 much faster than ``all``, because\n",
      "                 :py:meth:`~sympy.core.expr.Expr.integrate` is an expensive\n",
      "                 routine.\n",
      "    \n",
      "         ``best``:\n",
      "                 To have :py:meth:`~sympy.solvers.ode.dsolve` try all methods\n",
      "                 and return the simplest one.  This takes into account whether\n",
      "                 the solution is solvable in the function, whether it contains\n",
      "                 any Integral classes (i.e.  unevaluatable integrals), and\n",
      "                 which one is the shortest in size.\n",
      "    \n",
      "         See also the :py:meth:`~sympy.solvers.ode.classify_ode` docstring for\n",
      "         more info on hints, and the :py:mod:`~sympy.solvers.ode` docstring for\n",
      "         a list of all supported hints.\n",
      "    \n",
      "     **Tips**\n",
      "    \n",
      "         - You can declare the derivative of an unknown function this way:\n",
      "    \n",
      "             >>> from sympy import Function, Derivative\n",
      "             >>> from sympy.abc import x # x is the independent variable\n",
      "             >>> f = Function(\"f\")(x) # f is a function of x\n",
      "             >>> # f_ will be the derivative of f with respect to x\n",
      "             >>> f_ = Derivative(f, x)\n",
      "    \n",
      "         - See ``test_ode.py`` for many tests, which serves also as a set of\n",
      "           examples for how to use :py:meth:`~sympy.solvers.ode.dsolve`.\n",
      "         - :py:meth:`~sympy.solvers.ode.dsolve` always returns an\n",
      "           :py:class:`~sympy.core.relational.Equality` class (except for the\n",
      "           case when the hint is ``all`` or ``all_Integral``).  If possible, it\n",
      "           solves the solution explicitly for the function being solved for.\n",
      "           Otherwise, it returns an implicit solution.\n",
      "         - Arbitrary constants are symbols named ``C1``, ``C2``, and so on.\n",
      "         - Because all solutions should be mathematically equivalent, some\n",
      "           hints may return the exact same result for an ODE. Often, though,\n",
      "           two different hints will return the same solution formatted\n",
      "           differently.  The two should be equivalent. Also note that sometimes\n",
      "           the values of the arbitrary constants in two different solutions may\n",
      "           not be the same, because one constant may have \"absorbed\" other\n",
      "           constants into it.\n",
      "         - Do ``help(ode.ode_<hintname>)`` to get help more information on a\n",
      "           specific hint, where ``<hintname>`` is the name of a hint without\n",
      "           ``_Integral``.\n",
      "    \n",
      "     For system of ordinary differential equations\n",
      "     =============================================\n",
      "    \n",
      "    **Usage**\n",
      "         ``dsolve(eq, func)`` -> Solve a system of ordinary differential\n",
      "         equations ``eq`` for ``func`` being list of functions including\n",
      "         `x(t)`, `y(t)`, `z(t)` where number of functions in the list depends\n",
      "         upon the number of equations provided in ``eq``.\n",
      "    \n",
      "     **Details**\n",
      "    \n",
      "         ``eq`` can be any supported system of ordinary differential equations\n",
      "         This can either be an :py:class:`~sympy.core.relational.Equality`,\n",
      "         or an expression, which is assumed to be equal to ``0``.\n",
      "    \n",
      "         ``func`` holds ``x(t)`` and ``y(t)`` being functions of one variable which\n",
      "         together with some of their derivatives make up the system of ordinary\n",
      "         differential equation ``eq``. It is not necessary to provide this; it\n",
      "         will be autodetected (and an error raised if it couldn't be detected).\n",
      "    \n",
      "     **Hints**\n",
      "    \n",
      "         The hints are formed by parameters returned by classify_sysode, combining\n",
      "         them give hints name used later for forming method name.\n",
      "    \n",
      "     Examples\n",
      "     ========\n",
      "    \n",
      "     >>> from sympy import Function, dsolve, Eq, Derivative, sin, cos, symbols\n",
      "     >>> from sympy.abc import x\n",
      "     >>> f = Function('f')\n",
      "     >>> dsolve(Derivative(f(x), x, x) + 9*f(x), f(x))\n",
      "     Eq(f(x), C1*sin(3*x) + C2*cos(3*x))\n",
      "    \n",
      "     >>> eq = sin(x)*cos(f(x)) + cos(x)*sin(f(x))*f(x).diff(x)\n",
      "     >>> dsolve(eq, hint='1st_exact')\n",
      "     [Eq(f(x), -acos(C1/cos(x)) + 2*pi), Eq(f(x), acos(C1/cos(x)))]\n",
      "     >>> dsolve(eq, hint='almost_linear')\n",
      "     [Eq(f(x), -acos(C1/cos(x)) + 2*pi), Eq(f(x), acos(C1/cos(x)))]\n",
      "     >>> t = symbols('t')\n",
      "     >>> x, y = symbols('x, y', cls=Function)\n",
      "     >>> eq = (Eq(Derivative(x(t),t), 12*t*x(t) + 8*y(t)), Eq(Derivative(y(t),t), 21*x(t) + 7*t*y(t)))\n",
      "     >>> dsolve(eq)\n",
      "     [Eq(x(t), C1*x0(t) + C2*x0(t)*Integral(8*exp(Integral(7*t, t))*exp(Integral(12*t, t))/x0(t)**2, t)),\n",
      "     Eq(y(t), C1*y0(t) + C2*(y0(t)*Integral(8*exp(Integral(7*t, t))*exp(Integral(12*t, t))/x0(t)**2, t) +\n",
      "     exp(Integral(7*t, t))*exp(Integral(12*t, t))/x0(t)))]\n",
      "     >>> eq = (Eq(Derivative(x(t),t),x(t)*y(t)*sin(t)), Eq(Derivative(y(t),t),y(t)**2*sin(t)))\n",
      "     >>> dsolve(eq)\n",
      "     {Eq(x(t), -exp(C1)/(C2*exp(C1) - cos(t))), Eq(y(t), -1/(C1 - cos(t)))}\n",
      "\n"
     ]
    }
   ],
   "source": [
    "help(dsolve)"
   ]
  },
  {
   "cell_type": "code",
   "execution_count": 8,
   "metadata": {},
   "outputs": [
    {
     "data": {
      "image/png": "[encoded data removed]",
      "text/latex": [
       "$\\displaystyle \\left[ \\operatorname{N_{CH}}{\\left(t \\right)} = \\frac{C_{2} \\left(- u_{A} u_{CH} + u_{A} u_{PA} - u_{A} v_{CH} + u_{A} v_{PA} + u_{CH}^{2} - u_{CH} u_{PA} + 2 u_{CH} v_{CH} - u_{CH} v_{PA} - u_{PA} v_{CH} + v_{CH}^{2} - v_{CH} v_{PA}\\right) e^{t \\left(- u_{CH} - v_{CH}\\right)}}{v_{CH} v_{PA}}, \\  \\operatorname{N_{PA}}{\\left(t \\right)} = \\frac{C_{2} \\left(u_{A} - u_{CH} - v_{CH}\\right) e^{t \\left(- u_{CH} - v_{CH}\\right)}}{v_{PA}} + \\frac{C_{3} \\left(u_{A} - u_{PA} - v_{PA}\\right) e^{t \\left(- u_{PA} - v_{PA}\\right)}}{v_{PA}}, \\  \\operatorname{N_{A}}{\\left(t \\right)} = C_{1} e^{- t u_{A}} + C_{2} e^{t \\left(- u_{CH} - v_{CH}\\right)} + C_{3} e^{t \\left(- u_{PA} - v_{PA}\\right)}\\right]$"
      ],
      "text/plain": [
       "⎡             ⎛                                                 2             \n",
       "⎢          C₂⋅⎝-u_A⋅u_CH + u_A⋅u_PA - u_A⋅v_CH + u_A⋅v_PA + u_CH  - u_CH⋅u_PA \n",
       "⎢N_CH(t) = ───────────────────────────────────────────────────────────────────\n",
       "⎣                                                                             \n",
       "\n",
       "                                            2            ⎞  t⋅(-u_CH - v_CH)  \n",
       "+ 2⋅u_CH⋅v_CH - u_CH⋅v_PA - u_PA⋅v_CH + v_CH  - v_CH⋅v_PA⎠⋅ℯ                  \n",
       "────────────────────────────────────────────────────────────────────────────, \n",
       "v_CH⋅v_PA                                                                     \n",
       "\n",
       "                                  t⋅(-u_CH - v_CH)                           t\n",
       "          C₂⋅(u_A - u_CH - v_CH)⋅ℯ                   C₃⋅(u_A - u_PA - v_PA)⋅ℯ \n",
       "N_PA(t) = ──────────────────────────────────────── + ─────────────────────────\n",
       "                            v_PA                                       v_PA   \n",
       "\n",
       "⋅(-u_PA - v_PA)                                                               \n",
       "                              -t⋅u_A       t⋅(-u_CH - v_CH)       t⋅(-u_PA - v\n",
       "───────────────, N_A(t) = C₁⋅ℯ       + C₂⋅ℯ                 + C₃⋅ℯ            \n",
       "                                                                              \n",
       "\n",
       "    ⎤\n",
       "_PA)⎥\n",
       "    ⎥\n",
       "    ⎦"
      ]
     },
     "execution_count": 8,
     "metadata": {},
     "output_type": "execute_result"
    }
   ],
   "source": [
    "system = [diffeq1, diffeq2, diffeq3]\n",
    "dsolve(system, (nch(t), npa(t), na(t)), hint='all_Integral')"
   ]
  },
  {
   "cell_type": "markdown",
   "metadata": {},
   "source": [
    "### Solve by elimination"
   ]
  },
  {
   "cell_type": "code",
   "execution_count": 12,
   "metadata": {},
   "outputs": [
    {
     "data": {
      "image/png": "[encoded data removed]",
      "text/latex": [
       "$\\displaystyle \\frac{d}{d t} \\operatorname{N_{CH}}{\\left(t \\right)} = \\left(- u_{CH} - v_{CH}\\right) \\operatorname{N_{CH}}{\\left(t \\right)}$"
      ],
      "text/plain": [
       "d                                   \n",
       "──(N_CH(t)) = (-u_CH - v_CH)⋅N_CH(t)\n",
       "dt                                  "
      ]
     },
     "execution_count": 12,
     "metadata": {},
     "output_type": "execute_result"
    }
   ],
   "source": [
    "diffeq1"
   ]
  },
  {
   "cell_type": "code",
   "execution_count": 9,
   "metadata": {},
   "outputs": [
    {
     "ename": "SympifyError",
     "evalue": "SympifyError: []",
     "output_type": "error",
     "traceback": [
      "\u001b[0;31m---------------------------------------------------------------------------\u001b[0m",
      "\u001b[0;31mSympifyError\u001b[0m                              Traceback (most recent call last)",
      "\u001b[0;32m<ipython-input-9-b262b9e6ae76>\u001b[0m in \u001b[0;36m<module>\u001b[0;34m\u001b[0m\n\u001b[0;32m----> 1\u001b[0;31m \u001b[0msolvefora\u001b[0m \u001b[0;34m=\u001b[0m \u001b[0mEq\u001b[0m\u001b[0;34m(\u001b[0m\u001b[0mna\u001b[0m\u001b[0;34m(\u001b[0m\u001b[0mt\u001b[0m\u001b[0;34m)\u001b[0m\u001b[0;34m,\u001b[0m \u001b[0msolve\u001b[0m\u001b[0;34m(\u001b[0m\u001b[0mdiffeq1\u001b[0m\u001b[0;34m,\u001b[0m \u001b[0mna\u001b[0m\u001b[0;34m(\u001b[0m\u001b[0mt\u001b[0m\u001b[0;34m)\u001b[0m\u001b[0;34m)\u001b[0m\u001b[0;34m)\u001b[0m\u001b[0;34m\u001b[0m\u001b[0;34m\u001b[0m\u001b[0m\n\u001b[0m\u001b[1;32m      2\u001b[0m \u001b[0msolvefora\u001b[0m\u001b[0;34m\u001b[0m\u001b[0;34m\u001b[0m\u001b[0m\n",
      "\u001b[0;32m/usr/local/lib/python3.7/site-packages/sympy/core/relational.py\u001b[0m in \u001b[0;36m__new__\u001b[0;34m(cls, lhs, rhs, **options)\u001b[0m\n\u001b[1;32m    493\u001b[0m \u001b[0;34m\u001b[0m\u001b[0m\n\u001b[1;32m    494\u001b[0m         \u001b[0mlhs\u001b[0m \u001b[0;34m=\u001b[0m \u001b[0m_sympify\u001b[0m\u001b[0;34m(\u001b[0m\u001b[0mlhs\u001b[0m\u001b[0;34m)\u001b[0m\u001b[0;34m\u001b[0m\u001b[0;34m\u001b[0m\u001b[0m\n\u001b[0;32m--> 495\u001b[0;31m         \u001b[0mrhs\u001b[0m \u001b[0;34m=\u001b[0m \u001b[0m_sympify\u001b[0m\u001b[0;34m(\u001b[0m\u001b[0mrhs\u001b[0m\u001b[0;34m)\u001b[0m\u001b[0;34m\u001b[0m\u001b[0;34m\u001b[0m\u001b[0m\n\u001b[0m\u001b[1;32m    496\u001b[0m \u001b[0;34m\u001b[0m\u001b[0m\n\u001b[1;32m    497\u001b[0m         \u001b[0mevaluate\u001b[0m \u001b[0;34m=\u001b[0m \u001b[0moptions\u001b[0m\u001b[0;34m.\u001b[0m\u001b[0mpop\u001b[0m\u001b[0;34m(\u001b[0m\u001b[0;34m'evaluate'\u001b[0m\u001b[0;34m,\u001b[0m \u001b[0mglobal_parameters\u001b[0m\u001b[0;34m.\u001b[0m\u001b[0mevaluate\u001b[0m\u001b[0;34m)\u001b[0m\u001b[0;34m\u001b[0m\u001b[0;34m\u001b[0m\u001b[0m\n",
      "\u001b[0;32m/usr/local/lib/python3.7/site-packages/sympy/core/sympify.py\u001b[0m in \u001b[0;36m_sympify\u001b[0;34m(a)\u001b[0m\n\u001b[1;32m    437\u001b[0m \u001b[0;34m\u001b[0m\u001b[0m\n\u001b[1;32m    438\u001b[0m     \"\"\"\n\u001b[0;32m--> 439\u001b[0;31m     \u001b[0;32mreturn\u001b[0m \u001b[0msympify\u001b[0m\u001b[0;34m(\u001b[0m\u001b[0ma\u001b[0m\u001b[0;34m,\u001b[0m \u001b[0mstrict\u001b[0m\u001b[0;34m=\u001b[0m\u001b[0;32mTrue\u001b[0m\u001b[0;34m)\u001b[0m\u001b[0;34m\u001b[0m\u001b[0;34m\u001b[0m\u001b[0m\n\u001b[0m\u001b[1;32m    440\u001b[0m \u001b[0;34m\u001b[0m\u001b[0m\n\u001b[1;32m    441\u001b[0m \u001b[0;34m\u001b[0m\u001b[0m\n",
      "\u001b[0;32m/usr/local/lib/python3.7/site-packages/sympy/core/sympify.py\u001b[0m in \u001b[0;36msympify\u001b[0;34m(a, locals, convert_xor, strict, rational, evaluate)\u001b[0m\n\u001b[1;32m    358\u001b[0m \u001b[0;34m\u001b[0m\u001b[0m\n\u001b[1;32m    359\u001b[0m     \u001b[0;32mif\u001b[0m \u001b[0mstrict\u001b[0m\u001b[0;34m:\u001b[0m\u001b[0;34m\u001b[0m\u001b[0;34m\u001b[0m\u001b[0m\n\u001b[0;32m--> 360\u001b[0;31m         \u001b[0;32mraise\u001b[0m \u001b[0mSympifyError\u001b[0m\u001b[0;34m(\u001b[0m\u001b[0ma\u001b[0m\u001b[0;34m)\u001b[0m\u001b[0;34m\u001b[0m\u001b[0;34m\u001b[0m\u001b[0m\n\u001b[0m\u001b[1;32m    361\u001b[0m \u001b[0;34m\u001b[0m\u001b[0m\n\u001b[1;32m    362\u001b[0m     \u001b[0;32mif\u001b[0m \u001b[0miterable\u001b[0m\u001b[0;34m(\u001b[0m\u001b[0ma\u001b[0m\u001b[0;34m)\u001b[0m\u001b[0;34m:\u001b[0m\u001b[0;34m\u001b[0m\u001b[0;34m\u001b[0m\u001b[0m\n",
      "\u001b[0;31mSympifyError\u001b[0m: SympifyError: []"
     ]
    }
   ],
   "source": [
    "solvefora = Eq(na(t), solve(diffeq1, na(t)))\n",
    "solvefora"
   ]
  },
  {
   "cell_type": "code",
   "execution_count": 10,
   "metadata": {},
   "outputs": [
    {
     "ename": "NameError",
     "evalue": "name 'solvefora' is not defined",
     "output_type": "error",
     "traceback": [
      "\u001b[0;31m---------------------------------------------------------------------------\u001b[0m",
      "\u001b[0;31mNameError\u001b[0m                                 Traceback (most recent call last)",
      "\u001b[0;32m<ipython-input-10-d50c6ec4c478>\u001b[0m in \u001b[0;36m<module>\u001b[0;34m\u001b[0m\n\u001b[0;32m----> 1\u001b[0;31m \u001b[0msolveforadiff\u001b[0m \u001b[0;34m=\u001b[0m \u001b[0mEq\u001b[0m\u001b[0;34m(\u001b[0m\u001b[0msolvefora\u001b[0m\u001b[0;34m.\u001b[0m\u001b[0mlhs\u001b[0m\u001b[0;34m.\u001b[0m\u001b[0mdiff\u001b[0m\u001b[0;34m(\u001b[0m\u001b[0mt\u001b[0m\u001b[0;34m)\u001b[0m\u001b[0;34m,\u001b[0m \u001b[0msolvefora\u001b[0m\u001b[0;34m.\u001b[0m\u001b[0mrhs\u001b[0m\u001b[0;34m.\u001b[0m\u001b[0mdiff\u001b[0m\u001b[0;34m(\u001b[0m\u001b[0mt\u001b[0m\u001b[0;34m)\u001b[0m\u001b[0;34m)\u001b[0m\u001b[0;34m\u001b[0m\u001b[0;34m\u001b[0m\u001b[0m\n\u001b[0m\u001b[1;32m      2\u001b[0m \u001b[0msolveforadiff\u001b[0m\u001b[0;34m\u001b[0m\u001b[0;34m\u001b[0m\u001b[0m\n",
      "\u001b[0;31mNameError\u001b[0m: name 'solvefora' is not defined"
     ]
    }
   ],
   "source": [
    "solveforadiff = Eq(solvefora.lhs.diff(t), solvefora.rhs.diff(t))\n",
    "solveforadiff"
   ]
  },
  {
   "cell_type": "code",
   "execution_count": 11,
   "metadata": {},
   "outputs": [
    {
     "data": {
      "image/png": "[encoded data removed]",
      "text/latex": [
       "$\\displaystyle \\frac{d}{d t} \\operatorname{N_{A}}{\\left(t \\right)} = - u_{A} \\operatorname{N_{A}}{\\left(t \\right)} + v_{PA} \\operatorname{N_{PA}}{\\left(t \\right)}$"
      ],
      "text/plain": [
       "d                                      \n",
       "──(N_A(t)) = -u_A⋅N_A(t) + v_PA⋅N_PA(t)\n",
       "dt                                     "
      ]
     },
     "execution_count": 11,
     "metadata": {},
     "output_type": "execute_result"
    }
   ],
   "source": [
    "diffeq3"
   ]
  },
  {
   "cell_type": "code",
   "execution_count": 12,
   "metadata": {},
   "outputs": [
    {
     "ename": "NameError",
     "evalue": "name 'solveforadiff' is not defined",
     "output_type": "error",
     "traceback": [
      "\u001b[0;31m---------------------------------------------------------------------------\u001b[0m",
      "\u001b[0;31mNameError\u001b[0m                                 Traceback (most recent call last)",
      "\u001b[0;32m<ipython-input-12-ad3b1188ffcf>\u001b[0m in \u001b[0;36m<module>\u001b[0;34m\u001b[0m\n\u001b[1;32m      1\u001b[0m eq3_eliminate_a = Eq(\n\u001b[0;32m----> 2\u001b[0;31m     \u001b[0mdiffeq3\u001b[0m\u001b[0;34m.\u001b[0m\u001b[0mlhs\u001b[0m\u001b[0;34m.\u001b[0m\u001b[0msubs\u001b[0m\u001b[0;34m(\u001b[0m\u001b[0mna\u001b[0m\u001b[0;34m(\u001b[0m\u001b[0mt\u001b[0m\u001b[0;34m)\u001b[0m\u001b[0;34m.\u001b[0m\u001b[0mdiff\u001b[0m\u001b[0;34m(\u001b[0m\u001b[0mt\u001b[0m\u001b[0;34m)\u001b[0m\u001b[0;34m,\u001b[0m \u001b[0msolveforadiff\u001b[0m\u001b[0;34m.\u001b[0m\u001b[0mrhs\u001b[0m\u001b[0;34m)\u001b[0m\u001b[0;34m,\u001b[0m\u001b[0;34m\u001b[0m\u001b[0;34m\u001b[0m\u001b[0m\n\u001b[0m\u001b[1;32m      3\u001b[0m     \u001b[0mdiffeq3\u001b[0m\u001b[0;34m.\u001b[0m\u001b[0mrhs\u001b[0m\u001b[0;34m.\u001b[0m\u001b[0msubs\u001b[0m\u001b[0;34m(\u001b[0m\u001b[0mna\u001b[0m\u001b[0;34m(\u001b[0m\u001b[0mt\u001b[0m\u001b[0;34m)\u001b[0m\u001b[0;34m,\u001b[0m \u001b[0msolvefora\u001b[0m\u001b[0;34m.\u001b[0m\u001b[0mrhs\u001b[0m\u001b[0;34m)\u001b[0m\u001b[0;34m\u001b[0m\u001b[0;34m\u001b[0m\u001b[0m\n\u001b[1;32m      4\u001b[0m )\n\u001b[1;32m      5\u001b[0m \u001b[0meq3_eliminate_a\u001b[0m\u001b[0;34m\u001b[0m\u001b[0;34m\u001b[0m\u001b[0m\n",
      "\u001b[0;31mNameError\u001b[0m: name 'solveforadiff' is not defined"
     ]
    }
   ],
   "source": [
    "eq3_eliminate_a = Eq(\n",
    "    diffeq3.lhs.subs(na(t).diff(t), solveforadiff.rhs),\n",
    "    diffeq3.rhs.subs(na(t), solvefora.rhs)\n",
    ")\n",
    "eq3_eliminate_a"
   ]
  },
  {
   "cell_type": "code",
   "execution_count": 13,
   "metadata": {},
   "outputs": [
    {
     "ename": "NameError",
     "evalue": "name 'eq3_eliminate_a' is not defined",
     "output_type": "error",
     "traceback": [
      "\u001b[0;31m---------------------------------------------------------------------------\u001b[0m",
      "\u001b[0;31mNameError\u001b[0m                                 Traceback (most recent call last)",
      "\u001b[0;32m<ipython-input-13-6eb415b3a43a>\u001b[0m in \u001b[0;36m<module>\u001b[0;34m\u001b[0m\n\u001b[0;32m----> 1\u001b[0;31m \u001b[0msolveforpa\u001b[0m \u001b[0;34m=\u001b[0m \u001b[0msolve\u001b[0m\u001b[0;34m(\u001b[0m\u001b[0meq3_eliminate_a\u001b[0m\u001b[0;34m,\u001b[0m \u001b[0mnpa\u001b[0m\u001b[0;34m(\u001b[0m\u001b[0mt\u001b[0m\u001b[0;34m)\u001b[0m\u001b[0;34m)\u001b[0m\u001b[0;34m[\u001b[0m\u001b[0;36m0\u001b[0m\u001b[0;34m]\u001b[0m\u001b[0;34m\u001b[0m\u001b[0;34m\u001b[0m\u001b[0m\n\u001b[0m\u001b[1;32m      2\u001b[0m \u001b[0msolveforpa\u001b[0m\u001b[0;34m\u001b[0m\u001b[0;34m\u001b[0m\u001b[0m\n",
      "\u001b[0;31mNameError\u001b[0m: name 'eq3_eliminate_a' is not defined"
     ]
    }
   ],
   "source": [
    "solveforpa = solve(eq3_eliminate_a, npa(t))[0]\n",
    "solveforpa"
   ]
  },
  {
   "cell_type": "code",
   "execution_count": 14,
   "metadata": {},
   "outputs": [
    {
     "ename": "NameError",
     "evalue": "name 'solveforpa' is not defined",
     "output_type": "error",
     "traceback": [
      "\u001b[0;31m---------------------------------------------------------------------------\u001b[0m",
      "\u001b[0;31mNameError\u001b[0m                                 Traceback (most recent call last)",
      "\u001b[0;32m<ipython-input-14-8ae8c48c1cab>\u001b[0m in \u001b[0;36m<module>\u001b[0;34m\u001b[0m\n\u001b[0;32m----> 1\u001b[0;31m \u001b[0msolveforpa\u001b[0m \u001b[0;34m=\u001b[0m \u001b[0mcollect\u001b[0m\u001b[0;34m(\u001b[0m\u001b[0msolveforpa\u001b[0m\u001b[0;34m,\u001b[0m \u001b[0mnch\u001b[0m\u001b[0;34m(\u001b[0m\u001b[0mt\u001b[0m\u001b[0;34m)\u001b[0m\u001b[0;34m)\u001b[0m\u001b[0;34m\u001b[0m\u001b[0;34m\u001b[0m\u001b[0m\n\u001b[0m\u001b[1;32m      2\u001b[0m \u001b[0msolveforpa\u001b[0m\u001b[0;34m\u001b[0m\u001b[0;34m\u001b[0m\u001b[0m\n",
      "\u001b[0;31mNameError\u001b[0m: name 'solveforpa' is not defined"
     ]
    }
   ],
   "source": [
    "solveforpa = collect(solveforpa, nch(t))\n",
    "solveforpa"
   ]
  },
  {
   "cell_type": "code",
   "execution_count": 15,
   "metadata": {},
   "outputs": [
    {
     "ename": "NameError",
     "evalue": "name 'solveforpa' is not defined",
     "output_type": "error",
     "traceback": [
      "\u001b[0;31m---------------------------------------------------------------------------\u001b[0m",
      "\u001b[0;31mNameError\u001b[0m                                 Traceback (most recent call last)",
      "\u001b[0;32m<ipython-input-15-8a17826f0555>\u001b[0m in \u001b[0;36m<module>\u001b[0;34m\u001b[0m\n\u001b[0;32m----> 1\u001b[0;31m \u001b[0meq3_eliminate_a\u001b[0m \u001b[0;34m=\u001b[0m \u001b[0mEq\u001b[0m\u001b[0;34m(\u001b[0m\u001b[0mnpa\u001b[0m\u001b[0;34m(\u001b[0m\u001b[0mt\u001b[0m\u001b[0;34m)\u001b[0m\u001b[0;34m,\u001b[0m \u001b[0msolveforpa\u001b[0m\u001b[0;34m)\u001b[0m\u001b[0;34m\u001b[0m\u001b[0;34m\u001b[0m\u001b[0m\n\u001b[0m\u001b[1;32m      2\u001b[0m \u001b[0meq3_eliminate_a\u001b[0m\u001b[0;34m\u001b[0m\u001b[0;34m\u001b[0m\u001b[0m\n",
      "\u001b[0;31mNameError\u001b[0m: name 'solveforpa' is not defined"
     ]
    }
   ],
   "source": [
    "eq3_eliminate_a = Eq(npa(t), solveforpa)\n",
    "eq3_eliminate_a"
   ]
  },
  {
   "cell_type": "code",
   "execution_count": 16,
   "metadata": {},
   "outputs": [
    {
     "ename": "NameError",
     "evalue": "name 'eq3_eliminate_a' is not defined",
     "output_type": "error",
     "traceback": [
      "\u001b[0;31m---------------------------------------------------------------------------\u001b[0m",
      "\u001b[0;31mNameError\u001b[0m                                 Traceback (most recent call last)",
      "\u001b[0;32m<ipython-input-16-1c9edad322e3>\u001b[0m in \u001b[0;36m<module>\u001b[0;34m\u001b[0m\n\u001b[0;32m----> 1\u001b[0;31m \u001b[0meq3_eliminate_a_diff\u001b[0m \u001b[0;34m=\u001b[0m \u001b[0mEq\u001b[0m\u001b[0;34m(\u001b[0m\u001b[0meq3_eliminate_a\u001b[0m\u001b[0;34m.\u001b[0m\u001b[0mlhs\u001b[0m\u001b[0;34m.\u001b[0m\u001b[0mdiff\u001b[0m\u001b[0;34m(\u001b[0m\u001b[0mt\u001b[0m\u001b[0;34m)\u001b[0m\u001b[0;34m,\u001b[0m \u001b[0meq3_eliminate_a\u001b[0m\u001b[0;34m.\u001b[0m\u001b[0mrhs\u001b[0m\u001b[0;34m.\u001b[0m\u001b[0mdiff\u001b[0m\u001b[0;34m(\u001b[0m\u001b[0mt\u001b[0m\u001b[0;34m)\u001b[0m\u001b[0;34m)\u001b[0m\u001b[0;34m\u001b[0m\u001b[0;34m\u001b[0m\u001b[0m\n\u001b[0m\u001b[1;32m      2\u001b[0m \u001b[0meq3_eliminate_a_diff\u001b[0m\u001b[0;34m\u001b[0m\u001b[0;34m\u001b[0m\u001b[0m\n",
      "\u001b[0;31mNameError\u001b[0m: name 'eq3_eliminate_a' is not defined"
     ]
    }
   ],
   "source": [
    "eq3_eliminate_a_diff = Eq(eq3_eliminate_a.lhs.diff(t), eq3_eliminate_a.rhs.diff(t))\n",
    "eq3_eliminate_a_diff"
   ]
  },
  {
   "cell_type": "code",
   "execution_count": 17,
   "metadata": {},
   "outputs": [
    {
     "data": {
      "image/png": "[encoded data removed]",
      "text/latex": [
       "$\\displaystyle \\frac{d}{d t} \\operatorname{N_{PA}}{\\left(t \\right)} = v_{CH} \\operatorname{N_{CH}}{\\left(t \\right)} - \\left(u_{PA} + v_{PA}\\right) \\operatorname{N_{PA}}{\\left(t \\right)}$"
      ],
      "text/plain": [
       "d                                                 \n",
       "──(N_PA(t)) = v_CH⋅N_CH(t) - (u_PA + v_PA)⋅N_PA(t)\n",
       "dt                                                "
      ]
     },
     "execution_count": 17,
     "metadata": {},
     "output_type": "execute_result"
    }
   ],
   "source": [
    "diffeq2"
   ]
  },
  {
   "cell_type": "code",
   "execution_count": 18,
   "metadata": {},
   "outputs": [
    {
     "ename": "NameError",
     "evalue": "name 'eq3_eliminate_a_diff' is not defined",
     "output_type": "error",
     "traceback": [
      "\u001b[0;31m---------------------------------------------------------------------------\u001b[0m",
      "\u001b[0;31mNameError\u001b[0m                                 Traceback (most recent call last)",
      "\u001b[0;32m<ipython-input-18-405a7a5dfbfd>\u001b[0m in \u001b[0;36m<module>\u001b[0;34m\u001b[0m\n\u001b[1;32m      1\u001b[0m diffeq2_eliminate_pa = Eq(\n\u001b[0;32m----> 2\u001b[0;31m     \u001b[0mdiffeq2\u001b[0m\u001b[0;34m.\u001b[0m\u001b[0mlhs\u001b[0m\u001b[0;34m.\u001b[0m\u001b[0msubs\u001b[0m\u001b[0;34m(\u001b[0m\u001b[0mnpa\u001b[0m\u001b[0;34m(\u001b[0m\u001b[0mt\u001b[0m\u001b[0;34m)\u001b[0m\u001b[0;34m.\u001b[0m\u001b[0mdiff\u001b[0m\u001b[0;34m(\u001b[0m\u001b[0mt\u001b[0m\u001b[0;34m)\u001b[0m\u001b[0;34m,\u001b[0m \u001b[0meq3_eliminate_a_diff\u001b[0m\u001b[0;34m.\u001b[0m\u001b[0mrhs\u001b[0m\u001b[0;34m)\u001b[0m\u001b[0;34m,\u001b[0m\u001b[0;34m\u001b[0m\u001b[0;34m\u001b[0m\u001b[0m\n\u001b[0m\u001b[1;32m      3\u001b[0m     \u001b[0mdiffeq2\u001b[0m\u001b[0;34m.\u001b[0m\u001b[0mrhs\u001b[0m\u001b[0;34m.\u001b[0m\u001b[0msubs\u001b[0m\u001b[0;34m(\u001b[0m\u001b[0mnpa\u001b[0m\u001b[0;34m(\u001b[0m\u001b[0mt\u001b[0m\u001b[0;34m)\u001b[0m\u001b[0;34m,\u001b[0m \u001b[0meq3_eliminate_a\u001b[0m\u001b[0;34m.\u001b[0m\u001b[0mrhs\u001b[0m\u001b[0;34m)\u001b[0m\u001b[0;34m\u001b[0m\u001b[0;34m\u001b[0m\u001b[0m\n\u001b[1;32m      4\u001b[0m )\n\u001b[1;32m      5\u001b[0m \u001b[0mdiffeq2_eliminate_pa\u001b[0m\u001b[0;34m\u001b[0m\u001b[0;34m\u001b[0m\u001b[0m\n",
      "\u001b[0;31mNameError\u001b[0m: name 'eq3_eliminate_a_diff' is not defined"
     ]
    }
   ],
   "source": [
    "diffeq2_eliminate_pa = Eq(\n",
    "    diffeq2.lhs.subs(npa(t).diff(t), eq3_eliminate_a_diff.rhs),\n",
    "    diffeq2.rhs.subs(npa(t), eq3_eliminate_a.rhs)\n",
    ")\n",
    "diffeq2_eliminate_pa"
   ]
  },
  {
   "cell_type": "markdown",
   "metadata": {},
   "source": [
    "### Now, we've converted a system of 3 linear differential equation to a single differential equation of order 3"
   ]
  },
  {
   "cell_type": "code",
   "execution_count": 193,
   "metadata": {},
   "outputs": [],
   "source": [
    "elimination_solution = dsolve(diffeq2_eliminate_pa)"
   ]
  },
  {
   "cell_type": "code",
   "execution_count": 195,
   "metadata": {},
   "outputs": [
    {
     "data": {
      "text/plain": [
       "'Eq(N_CH(t), C1*exp(t*(u_A*u_CH/(-27*I_re*v_CH*v_PA/2 - 9*u_A**2*u_CH/2 - 9*u_A**2*u_PA/2 - 9*u_A**2*v_CH/2 - 9*u_A**2*v_PA/2 - 9*u_A*u_CH**2/2 - 9*u_A*u_CH*v_CH - 9*u_A*u_PA**2/2 - 9*u_A*u_PA*v_PA - 9*u_A*v_CH**2/2 - 9*u_A*v_PA**2/2 - 9*u_CH**2*u_PA/2 - 9*u_CH**2*v_PA/2 - 9*u_CH*u_PA**2/2 - 9*u_CH*u_PA*v_CH - 9*u_CH*u_PA*v_PA - 9*u_CH*v_CH*v_PA - 9*u_CH*v_PA**2/2 - 9*u_PA**2*v_CH/2 - 9*u_PA*v_CH**2/2 - 9*u_PA*v_CH*v_PA - 9*v_CH**2*v_PA/2 - 9*v_CH*v_PA**2/2 + sqrt(-4*(-3*u_A*u_CH - 3*u_A*u_PA - 3*u_A*v_CH - 3*u_A*v_PA - 3*u_CH*u_PA - 3*u_CH*v_PA - 3*u_PA*v_CH - 3*v_CH*v_PA + (u_A + u_CH + u_PA + v_CH + v_PA)**2)**3 + (-27*I_re*v_CH*v_PA - 9*u_A**2*u_CH - 9*u_A**2*u_PA - 9*u_A**2*v_CH - 9*u_A**2*v_PA - 9*u_A*u_CH**2 - 18*u_A*u_CH*v_CH - 9*u_A*u_PA**2 - 18*u_A*u_PA*v_PA - 9*u_A*v_CH**2 - 9*u_A*v_PA**2 - 9*u_CH**2*u_PA - 9*u_CH**2*v_PA - 9*u_CH*u_PA**2 - 18*u_CH*u_PA*v_CH - 18*u_CH*u_PA*v_PA - 18*u_CH*v_CH*v_PA - 9*u_CH*v_PA**2 - 9*u_PA**2*v_CH - 9*u_PA*v_CH**2 - 18*u_PA*v_CH*v_PA - 9*v_CH**2*v_PA - 9*v_CH*v_PA**2 + 2*(u_A + u_CH + u_PA + v_CH + v_PA)**3)**2)/2 + (u_A + u_CH + u_PA + v_CH + v_PA)**3)**(1/3) + u_A*u_PA/(-27*I_re*v_CH*v_PA/2 - 9*u_A**2*u_CH/2 - 9*u_A**2*u_PA/2 - 9*u_A**2*v_CH/2 - 9*u_A**2*v_PA/2 - 9*u_A*u_CH**2/2 - 9*u_A*u_CH*v_CH - 9*u_A*u_PA**2/2 - 9*u_A*u_PA*v_PA - 9*u_A*v_CH**2/2 - 9*u_A*v_PA**2/2 - 9*u_CH**2*u_PA/2 - 9*u_CH**2*v_PA/2 - 9*u_CH*u_PA**2/2 - 9*u_CH*u_PA*v_CH - 9*u_CH*u_PA*v_PA - 9*u_CH*v_CH*v_PA - 9*u_CH*v_PA**2/2 - 9*u_PA**2*v_CH/2 - 9*u_PA*v_CH**2/2 - 9*u_PA*v_CH*v_PA - 9*v_CH**2*v_PA/2 - 9*v_CH*v_PA**2/2 + sqrt(-4*(-3*u_A*u_CH - 3*u_A*u_PA - 3*u_A*v_CH - 3*u_A*v_PA - 3*u_CH*u_PA - 3*u_CH*v_PA - 3*u_PA*v_CH - 3*v_CH*v_PA + (u_A + u_CH + u_PA + v_CH + v_PA)**2)**3 + (-27*I_re*v_CH*v_PA - 9*u_A**2*u_CH - 9*u_A**2*u_PA - 9*u_A**2*v_CH - 9*u_A**2*v_PA - 9*u_A*u_CH**2 - 18*u_A*u_CH*v_CH - 9*u_A*u_PA**2 - 18*u_A*u_PA*v_PA - 9*u_A*v_CH**2 - 9*u_A*v_PA**2 - 9*u_CH**2*u_PA - 9*u_CH**2*v_PA - 9*u_CH*u_PA**2 - 18*u_CH*u_PA*v_CH - 18*u_CH*u_PA*v_PA - 18*u_CH*v_CH*v_PA - 9*u_CH*v_PA**2 - 9*u_PA**2*v_CH - 9*u_PA*v_CH**2 - 18*u_PA*v_CH*v_PA - 9*v_CH**2*v_PA - 9*v_CH*v_PA**2 + 2*(u_A + u_CH + u_PA + v_CH + v_PA)**3)**2)/2 + (u_A + u_CH + u_PA + v_CH + v_PA)**3)**(1/3) + u_A*v_CH/(-27*I_re*v_CH*v_PA/2 - 9*u_A**2*u_CH/2 - 9*u_A**2*u_PA/2 - 9*u_A**2*v_CH/2 - 9*u_A**2*v_PA/2 - 9*u_A*u_CH**2/2 - 9*u_A*u_CH*v_CH - 9*u_A*u_PA**2/2 - 9*u_A*u_PA*v_PA - 9*u_A*v_CH**2/2 - 9*u_A*v_PA**2/2 - 9*u_CH**2*u_PA/2 - 9*u_CH**2*v_PA/2 - 9*u_CH*u_PA**2/2 - 9*u_CH*u_PA*v_CH - 9*u_CH*u_PA*v_PA - 9*u_CH*v_CH*v_PA - 9*u_CH*v_PA**2/2 - 9*u_PA**2*v_CH/2 - 9*u_PA*v_CH**2/2 - 9*u_PA*v_CH*v_PA - 9*v_CH**2*v_PA/2 - 9*v_CH*v_PA**2/2 + sqrt(-4*(-3*u_A*u_CH - 3*u_A*u_PA - 3*u_A*v_CH - 3*u_A*v_PA - 3*u_CH*u_PA - 3*u_CH*v_PA - 3*u_PA*v_CH - 3*v_CH*v_PA + (u_A + u_CH + u_PA + v_CH + v_PA)**2)**3 + (-27*I_re*v_CH*v_PA - 9*u_A**2*u_CH - 9*u_A**2*u_PA - 9*u_A**2*v_CH - 9*u_A**2*v_PA - 9*u_A*u_CH**2 - 18*u_A*u_CH*v_CH - 9*u_A*u_PA**2 - 18*u_A*u_PA*v_PA - 9*u_A*v_CH**2 - 9*u_A*v_PA**2 - 9*u_CH**2*u_PA - 9*u_CH**2*v_PA - 9*u_CH*u_PA**2 - 18*u_CH*u_PA*v_CH - 18*u_CH*u_PA*v_PA - 18*u_CH*v_CH*v_PA - 9*u_CH*v_PA**2 - 9*u_PA**2*v_CH - 9*u_PA*v_CH**2 - 18*u_PA*v_CH*v_PA - 9*v_CH**2*v_PA - 9*v_CH*v_PA**2 + 2*(u_A + u_CH + u_PA + v_CH + v_PA)**3)**2)/2 + (u_A + u_CH + u_PA + v_CH + v_PA)**3)**(1/3) + u_A*v_PA/(-27*I_re*v_CH*v_PA/2 - 9*u_A**2*u_CH/2 - 9*u_A**2*u_PA/2 - 9*u_A**2*v_CH/2 - 9*u_A**2*v_PA/2 - 9*u_A*u_CH**2/2 - 9*u_A*u_CH*v_CH - 9*u_A*u_PA**2/2 - 9*u_A*u_PA*v_PA - 9*u_A*v_CH**2/2 - 9*u_A*v_PA**2/2 - 9*u_CH**2*u_PA/2 - 9*u_CH**2*v_PA/2 - 9*u_CH*u_PA**2/2 - 9*u_CH*u_PA*v_CH - 9*u_CH*u_PA*v_PA - 9*u_CH*v_CH*v_PA - 9*u_CH*v_PA**2/2 - 9*u_PA**2*v_CH/2 - 9*u_PA*v_CH**2/2 - 9*u_PA*v_CH*v_PA - 9*v_CH**2*v_PA/2 - 9*v_CH*v_PA**2/2 + sqrt(-4*(-3*u_A*u_CH - 3*u_A*u_PA - 3*u_A*v_CH - 3*u_A*v_PA - 3*u_CH*u_PA - 3*u_CH*v_PA - 3*u_PA*v_CH - 3*v_CH*v_PA + (u_A + u_CH + u_PA + v_CH + v_PA)**2)**3 + (-27*I_re*v_CH*v_PA - 9*u_A**2*u_CH - 9*u_A**2*u_PA - 9*u_A**2*v_CH - 9*u_A**2*v_PA - 9*u_A*u_CH**2 - 18*u_A*u_CH*v_CH - 9*u_A*u_PA**2 - 18*u_A*u_PA*v_PA - 9*u_A*v_CH**2 - 9*u_A*v_PA**2 - 9*u_CH**2*u_PA - 9*u_CH**2*v_PA - 9*u_CH*u_PA**2 - 18*u_CH*u_PA*v_CH - 18*u_CH*u_PA*v_PA - 18*u_CH*v_CH*v_PA - 9*u_CH*v_PA**2 - 9*u_PA**2*v_CH - 9*u_PA*v_CH**2 - 18*u_PA*v_CH*v_PA - 9*v_CH**2*v_PA - 9*v_CH*v_PA**2 + 2*(u_A + u_CH + u_PA + v_CH + v_PA)**3)**2)/2 + (u_A + u_CH + u_PA + v_CH + v_PA)**3)**(1/3) - u_A/3 + u_CH*u_PA/(-27*I_re*v_CH*v_PA/2 - 9*u_A**2*u_CH/2 - 9*u_A**2*u_PA/2 - 9*u_A**2*v_CH/2 - 9*u_A**2*v_PA/2 - 9*u_A*u_CH**2/2 - 9*u_A*u_CH*v_CH - 9*u_A*u_PA**2/2 - 9*u_A*u_PA*v_PA - 9*u_A*v_CH**2/2 - 9*u_A*v_PA**2/2 - 9*u_CH**2*u_PA/2 - 9*u_CH**2*v_PA/2 - 9*u_CH*u_PA**2/2 - 9*u_CH*u_PA*v_CH - 9*u_CH*u_PA*v_PA - 9*u_CH*v_CH*v_PA - 9*u_CH*v_PA**2/2 - 9*u_PA**2*v_CH/2 - 9*u_PA*v_CH**2/2 - 9*u_PA*v_CH*v_PA - 9*v_CH**2*v_PA/2 - 9*v_CH*v_PA**2/2 + sqrt(-4*(-3*u_A*u_CH - 3*u_A*u_PA - 3*u_A*v_CH - 3*u_A*v_PA - 3*u_CH*u_PA - 3*u_CH*v_PA - 3*u_PA*v_CH - 3*v_CH*v_PA + (u_A + u_CH + u_PA + v_CH + v_PA)**2)**3 + (-27*I_re*v_CH*v_PA - 9*u_A**2*u_CH - 9*u_A**2*u_PA - 9*u_A**2*v_CH - 9*u_A**2*v_PA - 9*u_A*u_CH**2 - 18*u_A*u_CH*v_CH - 9*u_A*u_PA**2 - 18*u_A*u_PA*v_PA - 9*u_A*v_CH**2 - 9*u_A*v_PA**2 - 9*u_CH**2*u_PA - 9*u_CH**2*v_PA - 9*u_CH*u_PA**2 - 18*u_CH*u_PA*v_CH - 18*u_CH*u_PA*v_PA - 18*u_CH*v_CH*v_PA - 9*u_CH*v_PA**2 - 9*u_PA**2*v_CH - 9*u_PA*v_CH**2 - 18*u_PA*v_CH*v_PA - 9*v_CH**2*v_PA - 9*v_CH*v_PA**2 + 2*(u_A + u_CH + u_PA + v_CH + v_PA)**3)**2)/2 + (u_A + u_CH + u_PA + v_CH + v_PA)**3)**(1/3) + u_CH*v_PA/(-27*I_re*v_CH*v_PA/2 - 9*u_A**2*u_CH/2 - 9*u_A**2*u_PA/2 - 9*u_A**2*v_CH/2 - 9*u_A**2*v_PA/2 - 9*u_A*u_CH**2/2 - 9*u_A*u_CH*v_CH - 9*u_A*u_PA**2/2 - 9*u_A*u_PA*v_PA - 9*u_A*v_CH**2/2 - 9*u_A*v_PA**2/2 - 9*u_CH**2*u_PA/2 - 9*u_CH**2*v_PA/2 - 9*u_CH*u_PA**2/2 - 9*u_CH*u_PA*v_CH - 9*u_CH*u_PA*v_PA - 9*u_CH*v_CH*v_PA - 9*u_CH*v_PA**2/2 - 9*u_PA**2*v_CH/2 - 9*u_PA*v_CH**2/2 - 9*u_PA*v_CH*v_PA - 9*v_CH**2*v_PA/2 - 9*v_CH*v_PA**2/2 + sqrt(-4*(-3*u_A*u_CH - 3*u_A*u_PA - 3*u_A*v_CH - 3*u_A*v_PA - 3*u_CH*u_PA - 3*u_CH*v_PA - 3*u_PA*v_CH - 3*v_CH*v_PA + (u_A + u_CH + u_PA + v_CH + v_PA)**2)**3 + (-27*I_re*v_CH*v_PA - 9*u_A**2*u_CH - 9*u_A**2*u_PA - 9*u_A**2*v_CH - 9*u_A**2*v_PA - 9*u_A*u_CH**2 - 18*u_A*u_CH*v_CH - 9*u_A*u_PA**2 - 18*u_A*u_PA*v_PA - 9*u_A*v_CH**2 - 9*u_A*v_PA**2 - 9*u_CH**2*u_PA - 9*u_CH**2*v_PA - 9*u_CH*u_PA**2 - 18*u_CH*u_PA*v_CH - 18*u_CH*u_PA*v_PA - 18*u_CH*v_CH*v_PA - 9*u_CH*v_PA**2 - 9*u_PA**2*v_CH - 9*u_PA*v_CH**2 - 18*u_PA*v_CH*v_PA - 9*v_CH**2*v_PA - 9*v_CH*v_PA**2 + 2*(u_A + u_CH + u_PA + v_CH + v_PA)**3)**2)/2 + (u_A + u_CH + u_PA + v_CH + v_PA)**3)**(1/3) - u_CH/3 + u_PA*v_CH/(-27*I_re*v_CH*v_PA/2 - 9*u_A**2*u_CH/2 - 9*u_A**2*u_PA/2 - 9*u_A**2*v_CH/2 - 9*u_A**2*v_PA/2 - 9*u_A*u_CH**2/2 - 9*u_A*u_CH*v_CH - 9*u_A*u_PA**2/2 - 9*u_A*u_PA*v_PA - 9*u_A*v_CH**2/2 - 9*u_A*v_PA**2/2 - 9*u_CH**2*u_PA/2 - 9*u_CH**2*v_PA/2 - 9*u_CH*u_PA**2/2 - 9*u_CH*u_PA*v_CH - 9*u_CH*u_PA*v_PA - 9*u_CH*v_CH*v_PA - 9*u_CH*v_PA**2/2 - 9*u_PA**2*v_CH/2 - 9*u_PA*v_CH**2/2 - 9*u_PA*v_CH*v_PA - 9*v_CH**2*v_PA/2 - 9*v_CH*v_PA**2/2 + sqrt(-4*(-3*u_A*u_CH - 3*u_A*u_PA - 3*u_A*v_CH - 3*u_A*v_PA - 3*u_CH*u_PA - 3*u_CH*v_PA - 3*u_PA*v_CH - 3*v_CH*v_PA + (u_A + u_CH + u_PA + v_CH + v_PA)**2)**3 + (-27*I_re*v_CH*v_PA - 9*u_A**2*u_CH - 9*u_A**2*u_PA - 9*u_A**2*v_CH - 9*u_A**2*v_PA - 9*u_A*u_CH**2 - 18*u_A*u_CH*v_CH - 9*u_A*u_PA**2 - 18*u_A*u_PA*v_PA - 9*u_A*v_CH**2 - 9*u_A*v_PA**2 - 9*u_CH**2*u_PA - 9*u_CH**2*v_PA - 9*u_CH*u_PA**2 - 18*u_CH*u_PA*v_CH - 18*u_CH*u_PA*v_PA - 18*u_CH*v_CH*v_PA - 9*u_CH*v_PA**2 - 9*u_PA**2*v_CH - 9*u_PA*v_CH**2 - 18*u_PA*v_CH*v_PA - 9*v_CH**2*v_PA - 9*v_CH*v_PA**2 + 2*(u_A + u_CH + u_PA + v_CH + v_PA)**3)**2)/2 + (u_A + u_CH + u_PA + v_CH + v_PA)**3)**(1/3) - u_PA/3 + v_CH*v_PA/(-27*I_re*v_CH*v_PA/2 - 9*u_A**2*u_CH/2 - 9*u_A**2*u_PA/2 - 9*u_A**2*v_CH/2 - 9*u_A**2*v_PA/2 - 9*u_A*u_CH**2/2 - 9*u_A*u_CH*v_CH - 9*u_A*u_PA**2/2 - 9*u_A*u_PA*v_PA - 9*u_A*v_CH**2/2 - 9*u_A*v_PA**2/2 - 9*u_CH**2*u_PA/2 - 9*u_CH**2*v_PA/2 - 9*u_CH*u_PA**2/2 - 9*u_CH*u_PA*v_CH - 9*u_CH*u_PA*v_PA - 9*u_CH*v_CH*v_PA - 9*u_CH*v_PA**2/2 - 9*u_PA**2*v_CH/2 - 9*u_PA*v_CH**2/2 - 9*u_PA*v_CH*v_PA - 9*v_CH**2*v_PA/2 - 9*v_CH*v_PA**2/2 + sqrt(-4*(-3*u_A*u_CH - 3*u_A*u_PA - 3*u_A*v_CH - 3*u_A*v_PA - 3*u_CH*u_PA - 3*u_CH*v_PA - 3*u_PA*v_CH - 3*v_CH*v_PA + (u_A + u_CH + u_PA + v_CH + v_PA)**2)**3 + (-27*I_re*v_CH*v_PA - 9*u_A**2*u_CH - 9*u_A**2*u_PA - 9*u_A**2*v_CH - 9*u_A**2*v_PA - 9*u_A*u_CH**2 - 18*u_A*u_CH*v_CH - 9*u_A*u_PA**2 - 18*u_A*u_PA*v_PA - 9*u_A*v_CH**2 - 9*u_A*v_PA**2 - 9*u_CH**2*u_PA - 9*u_CH**2*v_PA - 9*u_CH*u_PA**2 - 18*u_CH*u_PA*v_CH - 18*u_CH*u_PA*v_PA - 18*u_CH*v_CH*v_PA - 9*u_CH*v_PA**2 - 9*u_PA**2*v_CH - 9*u_PA*v_CH**2 - 18*u_PA*v_CH*v_PA - 9*v_CH**2*v_PA - 9*v_CH*v_PA**2 + 2*(u_A + u_CH + u_PA + v_CH + v_PA)**3)**2)/2 + (u_A + u_CH + u_PA + v_CH + v_PA)**3)**(1/3) - v_CH/3 - v_PA/3 - (u_A + u_CH + u_PA + v_CH + v_PA)**2/(3*(-27*I_re*v_CH*v_PA/2 - 9*u_A**2*u_CH/2 - 9*u_A**2*u_PA/2 - 9*u_A**2*v_CH/2 - 9*u_A**2*v_PA/2 - 9*u_A*u_CH**2/2 - 9*u_A*u_CH*v_CH - 9*u_A*u_PA**2/2 - 9*u_A*u_PA*v_PA - 9*u_A*v_CH**2/2 - 9*u_A*v_PA**2/2 - 9*u_CH**2*u_PA/2 - 9*u_CH**2*v_PA/2 - 9*u_CH*u_PA**2/2 - 9*u_CH*u_PA*v_CH - 9*u_CH*u_PA*v_PA - 9*u_CH*v_CH*v_PA - 9*u_CH*v_PA**2/2 - 9*u_PA**2*v_CH/2 - 9*u_PA*v_CH**2/2 - 9*u_PA*v_CH*v_PA - 9*v_CH**2*v_PA/2 - 9*v_CH*v_PA**2/2 + sqrt(-4*(-3*u_A*u_CH - 3*u_A*u_PA - 3*u_A*v_CH - 3*u_A*v_PA - 3*u_CH*u_PA - 3*u_CH*v_PA - 3*u_PA*v_CH - 3*v_CH*v_PA + (u_A + u_CH + u_PA + v_CH + v_PA)**2)**3 + (-27*I_re*v_CH*v_PA - 9*u_A**2*u_CH - 9*u_A**2*u_PA - 9*u_A**2*v_CH - 9*u_A**2*v_PA - 9*u_A*u_CH**2 - 18*u_A*u_CH*v_CH - 9*u_A*u_PA**2 - 18*u_A*u_PA*v_PA - 9*u_A*v_CH**2 - 9*u_A*v_PA**2 - 9*u_CH**2*u_PA - 9*u_CH**2*v_PA - 9*u_CH*u_PA**2 - 18*u_CH*u_PA*v_CH - 18*u_CH*u_PA*v_PA - 18*u_CH*v_CH*v_PA - 9*u_CH*v_PA**2 - 9*u_PA**2*v_CH - 9*u_PA*v_CH**2 - 18*u_PA*v_CH*v_PA - 9*v_CH**2*v_PA - 9*v_CH*v_PA**2 + 2*(u_A + u_CH + u_PA + v_CH + v_PA)**3)**2)/2 + (u_A + u_CH + u_PA + v_CH + v_PA)**3)**(1/3)) - (-27*I_re*v_CH*v_PA/2 - 9*u_A**2*u_CH/2 - 9*u_A**2*u_PA/2 - 9*u_A**2*v_CH/2 - 9*u_A**2*v_PA/2 - 9*u_A*u_CH**2/2 - 9*u_A*u_CH*v_CH - 9*u_A*u_PA**2/2 - 9*u_A*u_PA*v_PA - 9*u_A*v_CH**2/2 - 9*u_A*v_PA**2/2 - 9*u_CH**2*u_PA/2 - 9*u_CH**2*v_PA/2 - 9*u_CH*u_PA**2/2 - 9*u_CH*u_PA*v_CH - 9*u_CH*u_PA*v_PA - 9*u_CH*v_CH*v_PA - 9*u_CH*v_PA**2/2 - 9*u_PA**2*v_CH/2 - 9*u_PA*v_CH**2/2 - 9*u_PA*v_CH*v_PA - 9*v_CH**2*v_PA/2 - 9*v_CH*v_PA**2/2 + sqrt(-4*(-3*u_A*u_CH - 3*u_A*u_PA - 3*u_A*v_CH - 3*u_A*v_PA - 3*u_CH*u_PA - 3*u_CH*v_PA - 3*u_PA*v_CH - 3*v_CH*v_PA + (u_A + u_CH + u_PA + v_CH + v_PA)**2)**3 + (-27*I_re*v_CH*v_PA - 9*u_A**2*u_CH - 9*u_A**2*u_PA - 9*u_A**2*v_CH - 9*u_A**2*v_PA - 9*u_A*u_CH**2 - 18*u_A*u_CH*v_CH - 9*u_A*u_PA**2 - 18*u_A*u_PA*v_PA - 9*u_A*v_CH**2 - 9*u_A*v_PA**2 - 9*u_CH**2*u_PA - 9*u_CH**2*v_PA - 9*u_CH*u_PA**2 - 18*u_CH*u_PA*v_CH - 18*u_CH*u_PA*v_PA - 18*u_CH*v_CH*v_PA - 9*u_CH*v_PA**2 - 9*u_PA**2*v_CH - 9*u_PA*v_CH**2 - 18*u_PA*v_CH*v_PA - 9*v_CH**2*v_PA - 9*v_CH*v_PA**2 + 2*(u_A + u_CH + u_PA + v_CH + v_PA)**3)**2)/2 + (u_A + u_CH + u_PA + v_CH + v_PA)**3)**(1/3)/3)) + C2*exp(t*(2*u_A*u_CH/((-1 - sqrt(3)*I)*(-27*I_re*v_CH*v_PA/2 - 9*u_A**2*u_CH/2 - 9*u_A**2*u_PA/2 - 9*u_A**2*v_CH/2 - 9*u_A**2*v_PA/2 - 9*u_A*u_CH**2/2 - 9*u_A*u_CH*v_CH - 9*u_A*u_PA**2/2 - 9*u_A*u_PA*v_PA - 9*u_A*v_CH**2/2 - 9*u_A*v_PA**2/2 - 9*u_CH**2*u_PA/2 - 9*u_CH**2*v_PA/2 - 9*u_CH*u_PA**2/2 - 9*u_CH*u_PA*v_CH - 9*u_CH*u_PA*v_PA - 9*u_CH*v_CH*v_PA - 9*u_CH*v_PA**2/2 - 9*u_PA**2*v_CH/2 - 9*u_PA*v_CH**2/2 - 9*u_PA*v_CH*v_PA - 9*v_CH**2*v_PA/2 - 9*v_CH*v_PA**2/2 + sqrt(-4*(-3*u_A*u_CH - 3*u_A*u_PA - 3*u_A*v_CH - 3*u_A*v_PA - 3*u_CH*u_PA - 3*u_CH*v_PA - 3*u_PA*v_CH - 3*v_CH*v_PA + (u_A + u_CH + u_PA + v_CH + v_PA)**2)**3 + (-27*I_re*v_CH*v_PA - 9*u_A**2*u_CH - 9*u_A**2*u_PA - 9*u_A**2*v_CH - 9*u_A**2*v_PA - 9*u_A*u_CH**2 - 18*u_A*u_CH*v_CH - 9*u_A*u_PA**2 - 18*u_A*u_PA*v_PA - 9*u_A*v_CH**2 - 9*u_A*v_PA**2 - 9*u_CH**2*u_PA - 9*u_CH**2*v_PA - 9*u_CH*u_PA**2 - 18*u_CH*u_PA*v_CH - 18*u_CH*u_PA*v_PA - 18*u_CH*v_CH*v_PA - 9*u_CH*v_PA**2 - 9*u_PA**2*v_CH - 9*u_PA*v_CH**2 - 18*u_PA*v_CH*v_PA - 9*v_CH**2*v_PA - 9*v_CH*v_PA**2 + 2*(u_A + u_CH + u_PA + v_CH + v_PA)**3)**2)/2 + (u_A + u_CH + u_PA + v_CH + v_PA)**3)**(1/3)) + 2*u_A*u_PA/((-1 - sqrt(3)*I)*(-27*I_re*v_CH*v_PA/2 - 9*u_A**2*u_CH/2 - 9*u_A**2*u_PA/2 - 9*u_A**2*v_CH/2 - 9*u_A**2*v_PA/2 - 9*u_A*u_CH**2/2 - 9*u_A*u_CH*v_CH - 9*u_A*u_PA**2/2 - 9*u_A*u_PA*v_PA - 9*u_A*v_CH**2/2 - 9*u_A*v_PA**2/2 - 9*u_CH**2*u_PA/2 - 9*u_CH**2*v_PA/2 - 9*u_CH*u_PA**2/2 - 9*u_CH*u_PA*v_CH - 9*u_CH*u_PA*v_PA - 9*u_CH*v_CH*v_PA - 9*u_CH*v_PA**2/2 - 9*u_PA**2*v_CH/2 - 9*u_PA*v_CH**2/2 - 9*u_PA*v_CH*v_PA - 9*v_CH**2*v_PA/2 - 9*v_CH*v_PA**2/2 + sqrt(-4*(-3*u_A*u_CH - 3*u_A*u_PA - 3*u_A*v_CH - 3*u_A*v_PA - 3*u_CH*u_PA - 3*u_CH*v_PA - 3*u_PA*v_CH - 3*v_CH*v_PA + (u_A + u_CH + u_PA + v_CH + v_PA)**2)**3 + (-27*I_re*v_CH*v_PA - 9*u_A**2*u_CH - 9*u_A**2*u_PA - 9*u_A**2*v_CH - 9*u_A**2*v_PA - 9*u_A*u_CH**2 - 18*u_A*u_CH*v_CH - 9*u_A*u_PA**2 - 18*u_A*u_PA*v_PA - 9*u_A*v_CH**2 - 9*u_A*v_PA**2 - 9*u_CH**2*u_PA - 9*u_CH**2*v_PA - 9*u_CH*u_PA**2 - 18*u_CH*u_PA*v_CH - 18*u_CH*u_PA*v_PA - 18*u_CH*v_CH*v_PA - 9*u_CH*v_PA**2 - 9*u_PA**2*v_CH - 9*u_PA*v_CH**2 - 18*u_PA*v_CH*v_PA - 9*v_CH**2*v_PA - 9*v_CH*v_PA**2 + 2*(u_A + u_CH + u_PA + v_CH + v_PA)**3)**2)/2 + (u_A + u_CH + u_PA + v_CH + v_PA)**3)**(1/3)) + 2*u_A*v_CH/((-1 - sqrt(3)*I)*(-27*I_re*v_CH*v_PA/2 - 9*u_A**2*u_CH/2 - 9*u_A**2*u_PA/2 - 9*u_A**2*v_CH/2 - 9*u_A**2*v_PA/2 - 9*u_A*u_CH**2/2 - 9*u_A*u_CH*v_CH - 9*u_A*u_PA**2/2 - 9*u_A*u_PA*v_PA - 9*u_A*v_CH**2/2 - 9*u_A*v_PA**2/2 - 9*u_CH**2*u_PA/2 - 9*u_CH**2*v_PA/2 - 9*u_CH*u_PA**2/2 - 9*u_CH*u_PA*v_CH - 9*u_CH*u_PA*v_PA - 9*u_CH*v_CH*v_PA - 9*u_CH*v_PA**2/2 - 9*u_PA**2*v_CH/2 - 9*u_PA*v_CH**2/2 - 9*u_PA*v_CH*v_PA - 9*v_CH**2*v_PA/2 - 9*v_CH*v_PA**2/2 + sqrt(-4*(-3*u_A*u_CH - 3*u_A*u_PA - 3*u_A*v_CH - 3*u_A*v_PA - 3*u_CH*u_PA - 3*u_CH*v_PA - 3*u_PA*v_CH - 3*v_CH*v_PA + (u_A + u_CH + u_PA + v_CH + v_PA)**2)**3 + (-27*I_re*v_CH*v_PA - 9*u_A**2*u_CH - 9*u_A**2*u_PA - 9*u_A**2*v_CH - 9*u_A**2*v_PA - 9*u_A*u_CH**2 - 18*u_A*u_CH*v_CH - 9*u_A*u_PA**2 - 18*u_A*u_PA*v_PA - 9*u_A*v_CH**2 - 9*u_A*v_PA**2 - 9*u_CH**2*u_PA - 9*u_CH**2*v_PA - 9*u_CH*u_PA**2 - 18*u_CH*u_PA*v_CH - 18*u_CH*u_PA*v_PA - 18*u_CH*v_CH*v_PA - 9*u_CH*v_PA**2 - 9*u_PA**2*v_CH - 9*u_PA*v_CH**2 - 18*u_PA*v_CH*v_PA - 9*v_CH**2*v_PA - 9*v_CH*v_PA**2 + 2*(u_A + u_CH + u_PA + v_CH + v_PA)**3)**2)/2 + (u_A + u_CH + u_PA + v_CH + v_PA)**3)**(1/3)) + 2*u_A*v_PA/((-1 - sqrt(3)*I)*(-27*I_re*v_CH*v_PA/2 - 9*u_A**2*u_CH/2 - 9*u_A**2*u_PA/2 - 9*u_A**2*v_CH/2 - 9*u_A**2*v_PA/2 - 9*u_A*u_CH**2/2 - 9*u_A*u_CH*v_CH - 9*u_A*u_PA**2/2 - 9*u_A*u_PA*v_PA - 9*u_A*v_CH**2/2 - 9*u_A*v_PA**2/2 - 9*u_CH**2*u_PA/2 - 9*u_CH**2*v_PA/2 - 9*u_CH*u_PA**2/2 - 9*u_CH*u_PA*v_CH - 9*u_CH*u_PA*v_PA - 9*u_CH*v_CH*v_PA - 9*u_CH*v_PA**2/2 - 9*u_PA**2*v_CH/2 - 9*u_PA*v_CH**2/2 - 9*u_PA*v_CH*v_PA - 9*v_CH**2*v_PA/2 - 9*v_CH*v_PA**2/2 + sqrt(-4*(-3*u_A*u_CH - 3*u_A*u_PA - 3*u_A*v_CH - 3*u_A*v_PA - 3*u_CH*u_PA - 3*u_CH*v_PA - 3*u_PA*v_CH - 3*v_CH*v_PA + (u_A + u_CH + u_PA + v_CH + v_PA)**2)**3 + (-27*I_re*v_CH*v_PA - 9*u_A**2*u_CH - 9*u_A**2*u_PA - 9*u_A**2*v_CH - 9*u_A**2*v_PA - 9*u_A*u_CH**2 - 18*u_A*u_CH*v_CH - 9*u_A*u_PA**2 - 18*u_A*u_PA*v_PA - 9*u_A*v_CH**2 - 9*u_A*v_PA**2 - 9*u_CH**2*u_PA - 9*u_CH**2*v_PA - 9*u_CH*u_PA**2 - 18*u_CH*u_PA*v_CH - 18*u_CH*u_PA*v_PA - 18*u_CH*v_CH*v_PA - 9*u_CH*v_PA**2 - 9*u_PA**2*v_CH - 9*u_PA*v_CH**2 - 18*u_PA*v_CH*v_PA - 9*v_CH**2*v_PA - 9*v_CH*v_PA**2 + 2*(u_A + u_CH + u_PA + v_CH + v_PA)**3)**2)/2 + (u_A + u_CH + u_PA + v_CH + v_PA)**3)**(1/3)) - u_A/3 + 2*u_CH*u_PA/((-1 - sqrt(3)*I)*(-27*I_re*v_CH*v_PA/2 - 9*u_A**2*u_CH/2 - 9*u_A**2*u_PA/2 - 9*u_A**2*v_CH/2 - 9*u_A**2*v_PA/2 - 9*u_A*u_CH**2/2 - 9*u_A*u_CH*v_CH - 9*u_A*u_PA**2/2 - 9*u_A*u_PA*v_PA - 9*u_A*v_CH**2/2 - 9*u_A*v_PA**2/2 - 9*u_CH**2*u_PA/2 - 9*u_CH**2*v_PA/2 - 9*u_CH*u_PA**2/2 - 9*u_CH*u_PA*v_CH - 9*u_CH*u_PA*v_PA - 9*u_CH*v_CH*v_PA - 9*u_CH*v_PA**2/2 - 9*u_PA**2*v_CH/2 - 9*u_PA*v_CH**2/2 - 9*u_PA*v_CH*v_PA - 9*v_CH**2*v_PA/2 - 9*v_CH*v_PA**2/2 + sqrt(-4*(-3*u_A*u_CH - 3*u_A*u_PA - 3*u_A*v_CH - 3*u_A*v_PA - 3*u_CH*u_PA - 3*u_CH*v_PA - 3*u_PA*v_CH - 3*v_CH*v_PA + (u_A + u_CH + u_PA + v_CH + v_PA)**2)**3 + (-27*I_re*v_CH*v_PA - 9*u_A**2*u_CH - 9*u_A**2*u_PA - 9*u_A**2*v_CH - 9*u_A**2*v_PA - 9*u_A*u_CH**2 - 18*u_A*u_CH*v_CH - 9*u_A*u_PA**2 - 18*u_A*u_PA*v_PA - 9*u_A*v_CH**2 - 9*u_A*v_PA**2 - 9*u_CH**2*u_PA - 9*u_CH**2*v_PA - 9*u_CH*u_PA**2 - 18*u_CH*u_PA*v_CH - 18*u_CH*u_PA*v_PA - 18*u_CH*v_CH*v_PA - 9*u_CH*v_PA**2 - 9*u_PA**2*v_CH - 9*u_PA*v_CH**2 - 18*u_PA*v_CH*v_PA - 9*v_CH**2*v_PA - 9*v_CH*v_PA**2 + 2*(u_A + u_CH + u_PA + v_CH + v_PA)**3)**2)/2 + (u_A + u_CH + u_PA + v_CH + v_PA)**3)**(1/3)) + 2*u_CH*v_PA/((-1 - sqrt(3)*I)*(-27*I_re*v_CH*v_PA/2 - 9*u_A**2*u_CH/2 - 9*u_A**2*u_PA/2 - 9*u_A**2*v_CH/2 - 9*u_A**2*v_PA/2 - 9*u_A*u_CH**2/2 - 9*u_A*u_CH*v_CH - 9*u_A*u_PA**2/2 - 9*u_A*u_PA*v_PA - 9*u_A*v_CH**2/2 - 9*u_A*v_PA**2/2 - 9*u_CH**2*u_PA/2 - 9*u_CH**2*v_PA/2 - 9*u_CH*u_PA**2/2 - 9*u_CH*u_PA*v_CH - 9*u_CH*u_PA*v_PA - 9*u_CH*v_CH*v_PA - 9*u_CH*v_PA**2/2 - 9*u_PA**2*v_CH/2 - 9*u_PA*v_CH**2/2 - 9*u_PA*v_CH*v_PA - 9*v_CH**2*v_PA/2 - 9*v_CH*v_PA**2/2 + sqrt(-4*(-3*u_A*u_CH - 3*u_A*u_PA - 3*u_A*v_CH - 3*u_A*v_PA - 3*u_CH*u_PA - 3*u_CH*v_PA - 3*u_PA*v_CH - 3*v_CH*v_PA + (u_A + u_CH + u_PA + v_CH + v_PA)**2)**3 + (-27*I_re*v_CH*v_PA - 9*u_A**2*u_CH - 9*u_A**2*u_PA - 9*u_A**2*v_CH - 9*u_A**2*v_PA - 9*u_A*u_CH**2 - 18*u_A*u_CH*v_CH - 9*u_A*u_PA**2 - 18*u_A*u_PA*v_PA - 9*u_A*v_CH**2 - 9*u_A*v_PA**2 - 9*u_CH**2*u_PA - 9*u_CH**2*v_PA - 9*u_CH*u_PA**2 - 18*u_CH*u_PA*v_CH - 18*u_CH*u_PA*v_PA - 18*u_CH*v_CH*v_PA - 9*u_CH*v_PA**2 - 9*u_PA**2*v_CH - 9*u_PA*v_CH**2 - 18*u_PA*v_CH*v_PA - 9*v_CH**2*v_PA - 9*v_CH*v_PA**2 + 2*(u_A + u_CH + u_PA + v_CH + v_PA)**3)**2)/2 + (u_A + u_CH + u_PA + v_CH + v_PA)**3)**(1/3)) - u_CH/3 + 2*u_PA*v_CH/((-1 - sqrt(3)*I)*(-27*I_re*v_CH*v_PA/2 - 9*u_A**2*u_CH/2 - 9*u_A**2*u_PA/2 - 9*u_A**2*v_CH/2 - 9*u_A**2*v_PA/2 - 9*u_A*u_CH**2/2 - 9*u_A*u_CH*v_CH - 9*u_A*u_PA**2/2 - 9*u_A*u_PA*v_PA - 9*u_A*v_CH**2/2 - 9*u_A*v_PA**2/2 - 9*u_CH**2*u_PA/2 - 9*u_CH**2*v_PA/2 - 9*u_CH*u_PA**2/2 - 9*u_CH*u_PA*v_CH - 9*u_CH*u_PA*v_PA - 9*u_CH*v_CH*v_PA - 9*u_CH*v_PA**2/2 - 9*u_PA**2*v_CH/2 - 9*u_PA*v_CH**2/2 - 9*u_PA*v_CH*v_PA - 9*v_CH**2*v_PA/2 - 9*v_CH*v_PA**2/2 + sqrt(-4*(-3*u_A*u_CH - 3*u_A*u_PA - 3*u_A*v_CH - 3*u_A*v_PA - 3*u_CH*u_PA - 3*u_CH*v_PA - 3*u_PA*v_CH - 3*v_CH*v_PA + (u_A + u_CH + u_PA + v_CH + v_PA)**2)**3 + (-27*I_re*v_CH*v_PA - 9*u_A**2*u_CH - 9*u_A**2*u_PA - 9*u_A**2*v_CH - 9*u_A**2*v_PA - 9*u_A*u_CH**2 - 18*u_A*u_CH*v_CH - 9*u_A*u_PA**2 - 18*u_A*u_PA*v_PA - 9*u_A*v_CH**2 - 9*u_A*v_PA**2 - 9*u_CH**2*u_PA - 9*u_CH**2*v_PA - 9*u_CH*u_PA**2 - 18*u_CH*u_PA*v_CH - 18*u_CH*u_PA*v_PA - 18*u_CH*v_CH*v_PA - 9*u_CH*v_PA**2 - 9*u_PA**2*v_CH - 9*u_PA*v_CH**2 - 18*u_PA*v_CH*v_PA - 9*v_CH**2*v_PA - 9*v_CH*v_PA**2 + 2*(u_A + u_CH + u_PA + v_CH + v_PA)**3)**2)/2 + (u_A + u_CH + u_PA + v_CH + v_PA)**3)**(1/3)) - u_PA/3 + 2*v_CH*v_PA/((-1 - sqrt(3)*I)*(-27*I_re*v_CH*v_PA/2 - 9*u_A**2*u_CH/2 - 9*u_A**2*u_PA/2 - 9*u_A**2*v_CH/2 - 9*u_A**2*v_PA/2 - 9*u_A*u_CH**2/2 - 9*u_A*u_CH*v_CH - 9*u_A*u_PA**2/2 - 9*u_A*u_PA*v_PA - 9*u_A*v_CH**2/2 - 9*u_A*v_PA**2/2 - 9*u_CH**2*u_PA/2 - 9*u_CH**2*v_PA/2 - 9*u_CH*u_PA**2/2 - 9*u_CH*u_PA*v_CH - 9*u_CH*u_PA*v_PA - 9*u_CH*v_CH*v_PA - 9*u_CH*v_PA**2/2 - 9*u_PA**2*v_CH/2 - 9*u_PA*v_CH**2/2 - 9*u_PA*v_CH*v_PA - 9*v_CH**2*v_PA/2 - 9*v_CH*v_PA**2/2 + sqrt(-4*(-3*u_A*u_CH - 3*u_A*u_PA - 3*u_A*v_CH - 3*u_A*v_PA - 3*u_CH*u_PA - 3*u_CH*v_PA - 3*u_PA*v_CH - 3*v_CH*v_PA + (u_A + u_CH + u_PA + v_CH + v_PA)**2)**3 + (-27*I_re*v_CH*v_PA - 9*u_A**2*u_CH - 9*u_A**2*u_PA - 9*u_A**2*v_CH - 9*u_A**2*v_PA - 9*u_A*u_CH**2 - 18*u_A*u_CH*v_CH - 9*u_A*u_PA**2 - 18*u_A*u_PA*v_PA - 9*u_A*v_CH**2 - 9*u_A*v_PA**2 - 9*u_CH**2*u_PA - 9*u_CH**2*v_PA - 9*u_CH*u_PA**2 - 18*u_CH*u_PA*v_CH - 18*u_CH*u_PA*v_PA - 18*u_CH*v_CH*v_PA - 9*u_CH*v_PA**2 - 9*u_PA**2*v_CH - 9*u_PA*v_CH**2 - 18*u_PA*v_CH*v_PA - 9*v_CH**2*v_PA - 9*v_CH*v_PA**2 + 2*(u_A + u_CH + u_PA + v_CH + v_PA)**3)**2)/2 + (u_A + u_CH + u_PA + v_CH + v_PA)**3)**(1/3)) - v_CH/3 - v_PA/3 - 2*(u_A + u_CH + u_PA + v_CH + v_PA)**2/(3*(-1 - sqrt(3)*I)*(-27*I_re*v_CH*v_PA/2 - 9*u_A**2*u_CH/2 - 9*u_A**2*u_PA/2 - 9*u_A**2*v_CH/2 - 9*u_A**2*v_PA/2 - 9*u_A*u_CH**2/2 - 9*u_A*u_CH*v_CH - 9*u_A*u_PA**2/2 - 9*u_A*u_PA*v_PA - 9*u_A*v_CH**2/2 - 9*u_A*v_PA**2/2 - 9*u_CH**2*u_PA/2 - 9*u_CH**2*v_PA/2 - 9*u_CH*u_PA**2/2 - 9*u_CH*u_PA*v_CH - 9*u_CH*u_PA*v_PA - 9*u_CH*v_CH*v_PA - 9*u_CH*v_PA**2/2 - 9*u_PA**2*v_CH/2 - 9*u_PA*v_CH**2/2 - 9*u_PA*v_CH*v_PA - 9*v_CH**2*v_PA/2 - 9*v_CH*v_PA**2/2 + sqrt(-4*(-3*u_A*u_CH - 3*u_A*u_PA - 3*u_A*v_CH - 3*u_A*v_PA - 3*u_CH*u_PA - 3*u_CH*v_PA - 3*u_PA*v_CH - 3*v_CH*v_PA + (u_A + u_CH + u_PA + v_CH + v_PA)**2)**3 + (-27*I_re*v_CH*v_PA - 9*u_A**2*u_CH - 9*u_A**2*u_PA - 9*u_A**2*v_CH - 9*u_A**2*v_PA - 9*u_A*u_CH**2 - 18*u_A*u_CH*v_CH - 9*u_A*u_PA**2 - 18*u_A*u_PA*v_PA - 9*u_A*v_CH**2 - 9*u_A*v_PA**2 - 9*u_CH**2*u_PA - 9*u_CH**2*v_PA - 9*u_CH*u_PA**2 - 18*u_CH*u_PA*v_CH - 18*u_CH*u_PA*v_PA - 18*u_CH*v_CH*v_PA - 9*u_CH*v_PA**2 - 9*u_PA**2*v_CH - 9*u_PA*v_CH**2 - 18*u_PA*v_CH*v_PA - 9*v_CH**2*v_PA - 9*v_CH*v_PA**2 + 2*(u_A + u_CH + u_PA + v_CH + v_PA)**3)**2)/2 + (u_A + u_CH + u_PA + v_CH + v_PA)**3)**(1/3)) + (-27*I_re*v_CH*v_PA/2 - 9*u_A**2*u_CH/2 - 9*u_A**2*u_PA/2 - 9*u_A**2*v_CH/2 - 9*u_A**2*v_PA/2 - 9*u_A*u_CH**2/2 - 9*u_A*u_CH*v_CH - 9*u_A*u_PA**2/2 - 9*u_A*u_PA*v_PA - 9*u_A*v_CH**2/2 - 9*u_A*v_PA**2/2 - 9*u_CH**2*u_PA/2 - 9*u_CH**2*v_PA/2 - 9*u_CH*u_PA**2/2 - 9*u_CH*u_PA*v_CH - 9*u_CH*u_PA*v_PA - 9*u_CH*v_CH*v_PA - 9*u_CH*v_PA**2/2 - 9*u_PA**2*v_CH/2 - 9*u_PA*v_CH**2/2 - 9*u_PA*v_CH*v_PA - 9*v_CH**2*v_PA/2 - 9*v_CH*v_PA**2/2 + sqrt(-4*(-3*u_A*u_CH - 3*u_A*u_PA - 3*u_A*v_CH - 3*u_A*v_PA - 3*u_CH*u_PA - 3*u_CH*v_PA - 3*u_PA*v_CH - 3*v_CH*v_PA + (u_A + u_CH + u_PA + v_CH + v_PA)**2)**3 + (-27*I_re*v_CH*v_PA - 9*u_A**2*u_CH - 9*u_A**2*u_PA - 9*u_A**2*v_CH - 9*u_A**2*v_PA - 9*u_A*u_CH**2 - 18*u_A*u_CH*v_CH - 9*u_A*u_PA**2 - 18*u_A*u_PA*v_PA - 9*u_A*v_CH**2 - 9*u_A*v_PA**2 - 9*u_CH**2*u_PA - 9*u_CH**2*v_PA - 9*u_CH*u_PA**2 - 18*u_CH*u_PA*v_CH - 18*u_CH*u_PA*v_PA - 18*u_CH*v_CH*v_PA - 9*u_CH*v_PA**2 - 9*u_PA**2*v_CH - 9*u_PA*v_CH**2 - 18*u_PA*v_CH*v_PA - 9*v_CH**2*v_PA - 9*v_CH*v_PA**2 + 2*(u_A + u_CH + u_PA + v_CH + v_PA)**3)**2)/2 + (u_A + u_CH + u_PA + v_CH + v_PA)**3)**(1/3)/6 + sqrt(3)*I*(-27*I_re*v_CH*v_PA/2 - 9*u_A**2*u_CH/2 - 9*u_A**2*u_PA/2 - 9*u_A**2*v_CH/2 - 9*u_A**2*v_PA/2 - 9*u_A*u_CH**2/2 - 9*u_A*u_CH*v_CH - 9*u_A*u_PA**2/2 - 9*u_A*u_PA*v_PA - 9*u_A*v_CH**2/2 - 9*u_A*v_PA**2/2 - 9*u_CH**2*u_PA/2 - 9*u_CH**2*v_PA/2 - 9*u_CH*u_PA**2/2 - 9*u_CH*u_PA*v_CH - 9*u_CH*u_PA*v_PA - 9*u_CH*v_CH*v_PA - 9*u_CH*v_PA**2/2 - 9*u_PA**2*v_CH/2 - 9*u_PA*v_CH**2/2 - 9*u_PA*v_CH*v_PA - 9*v_CH**2*v_PA/2 - 9*v_CH*v_PA**2/2 + sqrt(-4*(-3*u_A*u_CH - 3*u_A*u_PA - 3*u_A*v_CH - 3*u_A*v_PA - 3*u_CH*u_PA - 3*u_CH*v_PA - 3*u_PA*v_CH - 3*v_CH*v_PA + (u_A + u_CH + u_PA + v_CH + v_PA)**2)**3 + (-27*I_re*v_CH*v_PA - 9*u_A**2*u_CH - 9*u_A**2*u_PA - 9*u_A**2*v_CH - 9*u_A**2*v_PA - 9*u_A*u_CH**2 - 18*u_A*u_CH*v_CH - 9*u_A*u_PA**2 - 18*u_A*u_PA*v_PA - 9*u_A*v_CH**2 - 9*u_A*v_PA**2 - 9*u_CH**2*u_PA - 9*u_CH**2*v_PA - 9*u_CH*u_PA**2 - 18*u_CH*u_PA*v_CH - 18*u_CH*u_PA*v_PA - 18*u_CH*v_CH*v_PA - 9*u_CH*v_PA**2 - 9*u_PA**2*v_CH - 9*u_PA*v_CH**2 - 18*u_PA*v_CH*v_PA - 9*v_CH**2*v_PA - 9*v_CH*v_PA**2 + 2*(u_A + u_CH + u_PA + v_CH + v_PA)**3)**2)/2 + (u_A + u_CH + u_PA + v_CH + v_PA)**3)**(1/3)/6)) + C3*exp(t*(2*u_A*u_CH/((-1 + sqrt(3)*I)*(-27*I_re*v_CH*v_PA/2 - 9*u_A**2*u_CH/2 - 9*u_A**2*u_PA/2 - 9*u_A**2*v_CH/2 - 9*u_A**2*v_PA/2 - 9*u_A*u_CH**2/2 - 9*u_A*u_CH*v_CH - 9*u_A*u_PA**2/2 - 9*u_A*u_PA*v_PA - 9*u_A*v_CH**2/2 - 9*u_A*v_PA**2/2 - 9*u_CH**2*u_PA/2 - 9*u_CH**2*v_PA/2 - 9*u_CH*u_PA**2/2 - 9*u_CH*u_PA*v_CH - 9*u_CH*u_PA*v_PA - 9*u_CH*v_CH*v_PA - 9*u_CH*v_PA**2/2 - 9*u_PA**2*v_CH/2 - 9*u_PA*v_CH**2/2 - 9*u_PA*v_CH*v_PA - 9*v_CH**2*v_PA/2 - 9*v_CH*v_PA**2/2 + sqrt(-4*(-3*u_A*u_CH - 3*u_A*u_PA - 3*u_A*v_CH - 3*u_A*v_PA - 3*u_CH*u_PA - 3*u_CH*v_PA - 3*u_PA*v_CH - 3*v_CH*v_PA + (u_A + u_CH + u_PA + v_CH + v_PA)**2)**3 + (-27*I_re*v_CH*v_PA - 9*u_A**2*u_CH - 9*u_A**2*u_PA - 9*u_A**2*v_CH - 9*u_A**2*v_PA - 9*u_A*u_CH**2 - 18*u_A*u_CH*v_CH - 9*u_A*u_PA**2 - 18*u_A*u_PA*v_PA - 9*u_A*v_CH**2 - 9*u_A*v_PA**2 - 9*u_CH**2*u_PA - 9*u_CH**2*v_PA - 9*u_CH*u_PA**2 - 18*u_CH*u_PA*v_CH - 18*u_CH*u_PA*v_PA - 18*u_CH*v_CH*v_PA - 9*u_CH*v_PA**2 - 9*u_PA**2*v_CH - 9*u_PA*v_CH**2 - 18*u_PA*v_CH*v_PA - 9*v_CH**2*v_PA - 9*v_CH*v_PA**2 + 2*(u_A + u_CH + u_PA + v_CH + v_PA)**3)**2)/2 + (u_A + u_CH + u_PA + v_CH + v_PA)**3)**(1/3)) + 2*u_A*u_PA/((-1 + sqrt(3)*I)*(-27*I_re*v_CH*v_PA/2 - 9*u_A**2*u_CH/2 - 9*u_A**2*u_PA/2 - 9*u_A**2*v_CH/2 - 9*u_A**2*v_PA/2 - 9*u_A*u_CH**2/2 - 9*u_A*u_CH*v_CH - 9*u_A*u_PA**2/2 - 9*u_A*u_PA*v_PA - 9*u_A*v_CH**2/2 - 9*u_A*v_PA**2/2 - 9*u_CH**2*u_PA/2 - 9*u_CH**2*v_PA/2 - 9*u_CH*u_PA**2/2 - 9*u_CH*u_PA*v_CH - 9*u_CH*u_PA*v_PA - 9*u_CH*v_CH*v_PA - 9*u_CH*v_PA**2/2 - 9*u_PA**2*v_CH/2 - 9*u_PA*v_CH**2/2 - 9*u_PA*v_CH*v_PA - 9*v_CH**2*v_PA/2 - 9*v_CH*v_PA**2/2 + sqrt(-4*(-3*u_A*u_CH - 3*u_A*u_PA - 3*u_A*v_CH - 3*u_A*v_PA - 3*u_CH*u_PA - 3*u_CH*v_PA - 3*u_PA*v_CH - 3*v_CH*v_PA + (u_A + u_CH + u_PA + v_CH + v_PA)**2)**3 + (-27*I_re*v_CH*v_PA - 9*u_A**2*u_CH - 9*u_A**2*u_PA - 9*u_A**2*v_CH - 9*u_A**2*v_PA - 9*u_A*u_CH**2 - 18*u_A*u_CH*v_CH - 9*u_A*u_PA**2 - 18*u_A*u_PA*v_PA - 9*u_A*v_CH**2 - 9*u_A*v_PA**2 - 9*u_CH**2*u_PA - 9*u_CH**2*v_PA - 9*u_CH*u_PA**2 - 18*u_CH*u_PA*v_CH - 18*u_CH*u_PA*v_PA - 18*u_CH*v_CH*v_PA - 9*u_CH*v_PA**2 - 9*u_PA**2*v_CH - 9*u_PA*v_CH**2 - 18*u_PA*v_CH*v_PA - 9*v_CH**2*v_PA - 9*v_CH*v_PA**2 + 2*(u_A + u_CH + u_PA + v_CH + v_PA)**3)**2)/2 + (u_A + u_CH + u_PA + v_CH + v_PA)**3)**(1/3)) + 2*u_A*v_CH/((-1 + sqrt(3)*I)*(-27*I_re*v_CH*v_PA/2 - 9*u_A**2*u_CH/2 - 9*u_A**2*u_PA/2 - 9*u_A**2*v_CH/2 - 9*u_A**2*v_PA/2 - 9*u_A*u_CH**2/2 - 9*u_A*u_CH*v_CH - 9*u_A*u_PA**2/2 - 9*u_A*u_PA*v_PA - 9*u_A*v_CH**2/2 - 9*u_A*v_PA**2/2 - 9*u_CH**2*u_PA/2 - 9*u_CH**2*v_PA/2 - 9*u_CH*u_PA**2/2 - 9*u_CH*u_PA*v_CH - 9*u_CH*u_PA*v_PA - 9*u_CH*v_CH*v_PA - 9*u_CH*v_PA**2/2 - 9*u_PA**2*v_CH/2 - 9*u_PA*v_CH**2/2 - 9*u_PA*v_CH*v_PA - 9*v_CH**2*v_PA/2 - 9*v_CH*v_PA**2/2 + sqrt(-4*(-3*u_A*u_CH - 3*u_A*u_PA - 3*u_A*v_CH - 3*u_A*v_PA - 3*u_CH*u_PA - 3*u_CH*v_PA - 3*u_PA*v_CH - 3*v_CH*v_PA + (u_A + u_CH + u_PA + v_CH + v_PA)**2)**3 + (-27*I_re*v_CH*v_PA - 9*u_A**2*u_CH - 9*u_A**2*u_PA - 9*u_A**2*v_CH - 9*u_A**2*v_PA - 9*u_A*u_CH**2 - 18*u_A*u_CH*v_CH - 9*u_A*u_PA**2 - 18*u_A*u_PA*v_PA - 9*u_A*v_CH**2 - 9*u_A*v_PA**2 - 9*u_CH**2*u_PA - 9*u_CH**2*v_PA - 9*u_CH*u_PA**2 - 18*u_CH*u_PA*v_CH - 18*u_CH*u_PA*v_PA - 18*u_CH*v_CH*v_PA - 9*u_CH*v_PA**2 - 9*u_PA**2*v_CH - 9*u_PA*v_CH**2 - 18*u_PA*v_CH*v_PA - 9*v_CH**2*v_PA - 9*v_CH*v_PA**2 + 2*(u_A + u_CH + u_PA + v_CH + v_PA)**3)**2)/2 + (u_A + u_CH + u_PA + v_CH + v_PA)**3)**(1/3)) + 2*u_A*v_PA/((-1 + sqrt(3)*I)*(-27*I_re*v_CH*v_PA/2 - 9*u_A**2*u_CH/2 - 9*u_A**2*u_PA/2 - 9*u_A**2*v_CH/2 - 9*u_A**2*v_PA/2 - 9*u_A*u_CH**2/2 - 9*u_A*u_CH*v_CH - 9*u_A*u_PA**2/2 - 9*u_A*u_PA*v_PA - 9*u_A*v_CH**2/2 - 9*u_A*v_PA**2/2 - 9*u_CH**2*u_PA/2 - 9*u_CH**2*v_PA/2 - 9*u_CH*u_PA**2/2 - 9*u_CH*u_PA*v_CH - 9*u_CH*u_PA*v_PA - 9*u_CH*v_CH*v_PA - 9*u_CH*v_PA**2/2 - 9*u_PA**2*v_CH/2 - 9*u_PA*v_CH**2/2 - 9*u_PA*v_CH*v_PA - 9*v_CH**2*v_PA/2 - 9*v_CH*v_PA**2/2 + sqrt(-4*(-3*u_A*u_CH - 3*u_A*u_PA - 3*u_A*v_CH - 3*u_A*v_PA - 3*u_CH*u_PA - 3*u_CH*v_PA - 3*u_PA*v_CH - 3*v_CH*v_PA + (u_A + u_CH + u_PA + v_CH + v_PA)**2)**3 + (-27*I_re*v_CH*v_PA - 9*u_A**2*u_CH - 9*u_A**2*u_PA - 9*u_A**2*v_CH - 9*u_A**2*v_PA - 9*u_A*u_CH**2 - 18*u_A*u_CH*v_CH - 9*u_A*u_PA**2 - 18*u_A*u_PA*v_PA - 9*u_A*v_CH**2 - 9*u_A*v_PA**2 - 9*u_CH**2*u_PA - 9*u_CH**2*v_PA - 9*u_CH*u_PA**2 - 18*u_CH*u_PA*v_CH - 18*u_CH*u_PA*v_PA - 18*u_CH*v_CH*v_PA - 9*u_CH*v_PA**2 - 9*u_PA**2*v_CH - 9*u_PA*v_CH**2 - 18*u_PA*v_CH*v_PA - 9*v_CH**2*v_PA - 9*v_CH*v_PA**2 + 2*(u_A + u_CH + u_PA + v_CH + v_PA)**3)**2)/2 + (u_A + u_CH + u_PA + v_CH + v_PA)**3)**(1/3)) - u_A/3 + 2*u_CH*u_PA/((-1 + sqrt(3)*I)*(-27*I_re*v_CH*v_PA/2 - 9*u_A**2*u_CH/2 - 9*u_A**2*u_PA/2 - 9*u_A**2*v_CH/2 - 9*u_A**2*v_PA/2 - 9*u_A*u_CH**2/2 - 9*u_A*u_CH*v_CH - 9*u_A*u_PA**2/2 - 9*u_A*u_PA*v_PA - 9*u_A*v_CH**2/2 - 9*u_A*v_PA**2/2 - 9*u_CH**2*u_PA/2 - 9*u_CH**2*v_PA/2 - 9*u_CH*u_PA**2/2 - 9*u_CH*u_PA*v_CH - 9*u_CH*u_PA*v_PA - 9*u_CH*v_CH*v_PA - 9*u_CH*v_PA**2/2 - 9*u_PA**2*v_CH/2 - 9*u_PA*v_CH**2/2 - 9*u_PA*v_CH*v_PA - 9*v_CH**2*v_PA/2 - 9*v_CH*v_PA**2/2 + sqrt(-4*(-3*u_A*u_CH - 3*u_A*u_PA - 3*u_A*v_CH - 3*u_A*v_PA - 3*u_CH*u_PA - 3*u_CH*v_PA - 3*u_PA*v_CH - 3*v_CH*v_PA + (u_A + u_CH + u_PA + v_CH + v_PA)**2)**3 + (-27*I_re*v_CH*v_PA - 9*u_A**2*u_CH - 9*u_A**2*u_PA - 9*u_A**2*v_CH - 9*u_A**2*v_PA - 9*u_A*u_CH**2 - 18*u_A*u_CH*v_CH - 9*u_A*u_PA**2 - 18*u_A*u_PA*v_PA - 9*u_A*v_CH**2 - 9*u_A*v_PA**2 - 9*u_CH**2*u_PA - 9*u_CH**2*v_PA - 9*u_CH*u_PA**2 - 18*u_CH*u_PA*v_CH - 18*u_CH*u_PA*v_PA - 18*u_CH*v_CH*v_PA - 9*u_CH*v_PA**2 - 9*u_PA**2*v_CH - 9*u_PA*v_CH**2 - 18*u_PA*v_CH*v_PA - 9*v_CH**2*v_PA - 9*v_CH*v_PA**2 + 2*(u_A + u_CH + u_PA + v_CH + v_PA)**3)**2)/2 + (u_A + u_CH + u_PA + v_CH + v_PA)**3)**(1/3)) + 2*u_CH*v_PA/((-1 + sqrt(3)*I)*(-27*I_re*v_CH*v_PA/2 - 9*u_A**2*u_CH/2 - 9*u_A**2*u_PA/2 - 9*u_A**2*v_CH/2 - 9*u_A**2*v_PA/2 - 9*u_A*u_CH**2/2 - 9*u_A*u_CH*v_CH - 9*u_A*u_PA**2/2 - 9*u_A*u_PA*v_PA - 9*u_A*v_CH**2/2 - 9*u_A*v_PA**2/2 - 9*u_CH**2*u_PA/2 - 9*u_CH**2*v_PA/2 - 9*u_CH*u_PA**2/2 - 9*u_CH*u_PA*v_CH - 9*u_CH*u_PA*v_PA - 9*u_CH*v_CH*v_PA - 9*u_CH*v_PA**2/2 - 9*u_PA**2*v_CH/2 - 9*u_PA*v_CH**2/2 - 9*u_PA*v_CH*v_PA - 9*v_CH**2*v_PA/2 - 9*v_CH*v_PA**2/2 + sqrt(-4*(-3*u_A*u_CH - 3*u_A*u_PA - 3*u_A*v_CH - 3*u_A*v_PA - 3*u_CH*u_PA - 3*u_CH*v_PA - 3*u_PA*v_CH - 3*v_CH*v_PA + (u_A + u_CH + u_PA + v_CH + v_PA)**2)**3 + (-27*I_re*v_CH*v_PA - 9*u_A**2*u_CH - 9*u_A**2*u_PA - 9*u_A**2*v_CH - 9*u_A**2*v_PA - 9*u_A*u_CH**2 - 18*u_A*u_CH*v_CH - 9*u_A*u_PA**2 - 18*u_A*u_PA*v_PA - 9*u_A*v_CH**2 - 9*u_A*v_PA**2 - 9*u_CH**2*u_PA - 9*u_CH**2*v_PA - 9*u_CH*u_PA**2 - 18*u_CH*u_PA*v_CH - 18*u_CH*u_PA*v_PA - 18*u_CH*v_CH*v_PA - 9*u_CH*v_PA**2 - 9*u_PA**2*v_CH - 9*u_PA*v_CH**2 - 18*u_PA*v_CH*v_PA - 9*v_CH**2*v_PA - 9*v_CH*v_PA**2 + 2*(u_A + u_CH + u_PA + v_CH + v_PA)**3)**2)/2 + (u_A + u_CH + u_PA + v_CH + v_PA)**3)**(1/3)) - u_CH/3 + 2*u_PA*v_CH/((-1 + sqrt(3)*I)*(-27*I_re*v_CH*v_PA/2 - 9*u_A**2*u_CH/2 - 9*u_A**2*u_PA/2 - 9*u_A**2*v_CH/2 - 9*u_A**2*v_PA/2 - 9*u_A*u_CH**2/2 - 9*u_A*u_CH*v_CH - 9*u_A*u_PA**2/2 - 9*u_A*u_PA*v_PA - 9*u_A*v_CH**2/2 - 9*u_A*v_PA**2/2 - 9*u_CH**2*u_PA/2 - 9*u_CH**2*v_PA/2 - 9*u_CH*u_PA**2/2 - 9*u_CH*u_PA*v_CH - 9*u_CH*u_PA*v_PA - 9*u_CH*v_CH*v_PA - 9*u_CH*v_PA**2/2 - 9*u_PA**2*v_CH/2 - 9*u_PA*v_CH**2/2 - 9*u_PA*v_CH*v_PA - 9*v_CH**2*v_PA/2 - 9*v_CH*v_PA**2/2 + sqrt(-4*(-3*u_A*u_CH - 3*u_A*u_PA - 3*u_A*v_CH - 3*u_A*v_PA - 3*u_CH*u_PA - 3*u_CH*v_PA - 3*u_PA*v_CH - 3*v_CH*v_PA + (u_A + u_CH + u_PA + v_CH + v_PA)**2)**3 + (-27*I_re*v_CH*v_PA - 9*u_A**2*u_CH - 9*u_A**2*u_PA - 9*u_A**2*v_CH - 9*u_A**2*v_PA - 9*u_A*u_CH**2 - 18*u_A*u_CH*v_CH - 9*u_A*u_PA**2 - 18*u_A*u_PA*v_PA - 9*u_A*v_CH**2 - 9*u_A*v_PA**2 - 9*u_CH**2*u_PA - 9*u_CH**2*v_PA - 9*u_CH*u_PA**2 - 18*u_CH*u_PA*v_CH - 18*u_CH*u_PA*v_PA - 18*u_CH*v_CH*v_PA - 9*u_CH*v_PA**2 - 9*u_PA**2*v_CH - 9*u_PA*v_CH**2 - 18*u_PA*v_CH*v_PA - 9*v_CH**2*v_PA - 9*v_CH*v_PA**2 + 2*(u_A + u_CH + u_PA + v_CH + v_PA)**3)**2)/2 + (u_A + u_CH + u_PA + v_CH + v_PA)**3)**(1/3)) - u_PA/3 + 2*v_CH*v_PA/((-1 + sqrt(3)*I)*(-27*I_re*v_CH*v_PA/2 - 9*u_A**2*u_CH/2 - 9*u_A**2*u_PA/2 - 9*u_A**2*v_CH/2 - 9*u_A**2*v_PA/2 - 9*u_A*u_CH**2/2 - 9*u_A*u_CH*v_CH - 9*u_A*u_PA**2/2 - 9*u_A*u_PA*v_PA - 9*u_A*v_CH**2/2 - 9*u_A*v_PA**2/2 - 9*u_CH**2*u_PA/2 - 9*u_CH**2*v_PA/2 - 9*u_CH*u_PA**2/2 - 9*u_CH*u_PA*v_CH - 9*u_CH*u_PA*v_PA - 9*u_CH*v_CH*v_PA - 9*u_CH*v_PA**2/2 - 9*u_PA**2*v_CH/2 - 9*u_PA*v_CH**2/2 - 9*u_PA*v_CH*v_PA - 9*v_CH**2*v_PA/2 - 9*v_CH*v_PA**2/2 + sqrt(-4*(-3*u_A*u_CH - 3*u_A*u_PA - 3*u_A*v_CH - 3*u_A*v_PA - 3*u_CH*u_PA - 3*u_CH*v_PA - 3*u_PA*v_CH - 3*v_CH*v_PA + (u_A + u_CH + u_PA + v_CH + v_PA)**2)**3 + (-27*I_re*v_CH*v_PA - 9*u_A**2*u_CH - 9*u_A**2*u_PA - 9*u_A**2*v_CH - 9*u_A**2*v_PA - 9*u_A*u_CH**2 - 18*u_A*u_CH*v_CH - 9*u_A*u_PA**2 - 18*u_A*u_PA*v_PA - 9*u_A*v_CH**2 - 9*u_A*v_PA**2 - 9*u_CH**2*u_PA - 9*u_CH**2*v_PA - 9*u_CH*u_PA**2 - 18*u_CH*u_PA*v_CH - 18*u_CH*u_PA*v_PA - 18*u_CH*v_CH*v_PA - 9*u_CH*v_PA**2 - 9*u_PA**2*v_CH - 9*u_PA*v_CH**2 - 18*u_PA*v_CH*v_PA - 9*v_CH**2*v_PA - 9*v_CH*v_PA**2 + 2*(u_A + u_CH + u_PA + v_CH + v_PA)**3)**2)/2 + (u_A + u_CH + u_PA + v_CH + v_PA)**3)**(1/3)) - v_CH/3 - v_PA/3 - 2*(u_A + u_CH + u_PA + v_CH + v_PA)**2/(3*(-1 + sqrt(3)*I)*(-27*I_re*v_CH*v_PA/2 - 9*u_A**2*u_CH/2 - 9*u_A**2*u_PA/2 - 9*u_A**2*v_CH/2 - 9*u_A**2*v_PA/2 - 9*u_A*u_CH**2/2 - 9*u_A*u_CH*v_CH - 9*u_A*u_PA**2/2 - 9*u_A*u_PA*v_PA - 9*u_A*v_CH**2/2 - 9*u_A*v_PA**2/2 - 9*u_CH**2*u_PA/2 - 9*u_CH**2*v_PA/2 - 9*u_CH*u_PA**2/2 - 9*u_CH*u_PA*v_CH - 9*u_CH*u_PA*v_PA - 9*u_CH*v_CH*v_PA - 9*u_CH*v_PA**2/2 - 9*u_PA**2*v_CH/2 - 9*u_PA*v_CH**2/2 - 9*u_PA*v_CH*v_PA - 9*v_CH**2*v_PA/2 - 9*v_CH*v_PA**2/2 + sqrt(-4*(-3*u_A*u_CH - 3*u_A*u_PA - 3*u_A*v_CH - 3*u_A*v_PA - 3*u_CH*u_PA - 3*u_CH*v_PA - 3*u_PA*v_CH - 3*v_CH*v_PA + (u_A + u_CH + u_PA + v_CH + v_PA)**2)**3 + (-27*I_re*v_CH*v_PA - 9*u_A**2*u_CH - 9*u_A**2*u_PA - 9*u_A**2*v_CH - 9*u_A**2*v_PA - 9*u_A*u_CH**2 - 18*u_A*u_CH*v_CH - 9*u_A*u_PA**2 - 18*u_A*u_PA*v_PA - 9*u_A*v_CH**2 - 9*u_A*v_PA**2 - 9*u_CH**2*u_PA - 9*u_CH**2*v_PA - 9*u_CH*u_PA**2 - 18*u_CH*u_PA*v_CH - 18*u_CH*u_PA*v_PA - 18*u_CH*v_CH*v_PA - 9*u_CH*v_PA**2 - 9*u_PA**2*v_CH - 9*u_PA*v_CH**2 - 18*u_PA*v_CH*v_PA - 9*v_CH**2*v_PA - 9*v_CH*v_PA**2 + 2*(u_A + u_CH + u_PA + v_CH + v_PA)**3)**2)/2 + (u_A + u_CH + u_PA + v_CH + v_PA)**3)**(1/3)) + (-27*I_re*v_CH*v_PA/2 - 9*u_A**2*u_CH/2 - 9*u_A**2*u_PA/2 - 9*u_A**2*v_CH/2 - 9*u_A**2*v_PA/2 - 9*u_A*u_CH**2/2 - 9*u_A*u_CH*v_CH - 9*u_A*u_PA**2/2 - 9*u_A*u_PA*v_PA - 9*u_A*v_CH**2/2 - 9*u_A*v_PA**2/2 - 9*u_CH**2*u_PA/2 - 9*u_CH**2*v_PA/2 - 9*u_CH*u_PA**2/2 - 9*u_CH*u_PA*v_CH - 9*u_CH*u_PA*v_PA - 9*u_CH*v_CH*v_PA - 9*u_CH*v_PA**2/2 - 9*u_PA**2*v_CH/2 - 9*u_PA*v_CH**2/2 - 9*u_PA*v_CH*v_PA - 9*v_CH**2*v_PA/2 - 9*v_CH*v_PA**2/2 + sqrt(-4*(-3*u_A*u_CH - 3*u_A*u_PA - 3*u_A*v_CH - 3*u_A*v_PA - 3*u_CH*u_PA - 3*u_CH*v_PA - 3*u_PA*v_CH - 3*v_CH*v_PA + (u_A + u_CH + u_PA + v_CH + v_PA)**2)**3 + (-27*I_re*v_CH*v_PA - 9*u_A**2*u_CH - 9*u_A**2*u_PA - 9*u_A**2*v_CH - 9*u_A**2*v_PA - 9*u_A*u_CH**2 - 18*u_A*u_CH*v_CH - 9*u_A*u_PA**2 - 18*u_A*u_PA*v_PA - 9*u_A*v_CH**2 - 9*u_A*v_PA**2 - 9*u_CH**2*u_PA - 9*u_CH**2*v_PA - 9*u_CH*u_PA**2 - 18*u_CH*u_PA*v_CH - 18*u_CH*u_PA*v_PA - 18*u_CH*v_CH*v_PA - 9*u_CH*v_PA**2 - 9*u_PA**2*v_CH - 9*u_PA*v_CH**2 - 18*u_PA*v_CH*v_PA - 9*v_CH**2*v_PA - 9*v_CH*v_PA**2 + 2*(u_A + u_CH + u_PA + v_CH + v_PA)**3)**2)/2 + (u_A + u_CH + u_PA + v_CH + v_PA)**3)**(1/3)/6 - sqrt(3)*I*(-27*I_re*v_CH*v_PA/2 - 9*u_A**2*u_CH/2 - 9*u_A**2*u_PA/2 - 9*u_A**2*v_CH/2 - 9*u_A**2*v_PA/2 - 9*u_A*u_CH**2/2 - 9*u_A*u_CH*v_CH - 9*u_A*u_PA**2/2 - 9*u_A*u_PA*v_PA - 9*u_A*v_CH**2/2 - 9*u_A*v_PA**2/2 - 9*u_CH**2*u_PA/2 - 9*u_CH**2*v_PA/2 - 9*u_CH*u_PA**2/2 - 9*u_CH*u_PA*v_CH - 9*u_CH*u_PA*v_PA - 9*u_CH*v_CH*v_PA - 9*u_CH*v_PA**2/2 - 9*u_PA**2*v_CH/2 - 9*u_PA*v_CH**2/2 - 9*u_PA*v_CH*v_PA - 9*v_CH**2*v_PA/2 - 9*v_CH*v_PA**2/2 + sqrt(-4*(-3*u_A*u_CH - 3*u_A*u_PA - 3*u_A*v_CH - 3*u_A*v_PA - 3*u_CH*u_PA - 3*u_CH*v_PA - 3*u_PA*v_CH - 3*v_CH*v_PA + (u_A + u_CH + u_PA + v_CH + v_PA)**2)**3 + (-27*I_re*v_CH*v_PA - 9*u_A**2*u_CH - 9*u_A**2*u_PA - 9*u_A**2*v_CH - 9*u_A**2*v_PA - 9*u_A*u_CH**2 - 18*u_A*u_CH*v_CH - 9*u_A*u_PA**2 - 18*u_A*u_PA*v_PA - 9*u_A*v_CH**2 - 9*u_A*v_PA**2 - 9*u_CH**2*u_PA - 9*u_CH**2*v_PA - 9*u_CH*u_PA**2 - 18*u_CH*u_PA*v_CH - 18*u_CH*u_PA*v_PA - 18*u_CH*v_CH*v_PA - 9*u_CH*v_PA**2 - 9*u_PA**2*v_CH - 9*u_PA*v_CH**2 - 18*u_PA*v_CH*v_PA - 9*v_CH**2*v_PA - 9*v_CH*v_PA**2 + 2*(u_A + u_CH + u_PA + v_CH + v_PA)**3)**2)/2 + (u_A + u_CH + u_PA + v_CH + v_PA)**3)**(1/3)/6)) + E_re*u_A*u_PA/(-I_re*v_CH*v_PA + u_A*u_CH*u_PA + u_A*u_CH*v_PA + u_A*u_PA*v_CH + u_A*v_CH*v_PA) + E_re*u_A*v_PA/(-I_re*v_CH*v_PA + u_A*u_CH*u_PA + u_A*u_CH*v_PA + u_A*u_PA*v_CH + u_A*v_CH*v_PA))'"
      ]
     },
     "execution_count": 195,
     "metadata": {},
     "output_type": "execute_result"
    }
   ],
   "source": [
    "str(elimination_solution)"
   ]
  },
  {
   "cell_type": "markdown",
   "metadata": {},
   "source": [
    "### Wow, this is wayyyy too messy. Let's see if another method can simplify it."
   ]
  },
  {
   "cell_type": "markdown",
   "metadata": {},
   "source": [
    "## Approach 3: Solve with Eigenvalues and Eigenvectors"
   ]
  },
  {
   "cell_type": "markdown",
   "metadata": {},
   "source": [
    "#### init non-function symbols to get matrix"
   ]
  },
  {
   "cell_type": "code",
   "execution_count": 19,
   "metadata": {},
   "outputs": [],
   "source": [
    "n_ch, n_pa, n_a = symbols('N_CH N_PA N_A')"
   ]
  },
  {
   "cell_type": "code",
   "execution_count": 20,
   "metadata": {},
   "outputs": [
    {
     "data": {
      "image/png": "[encoded data removed]",
      "text/latex": [
       "$\\displaystyle \\frac{d}{d t} \\operatorname{N_{CH}}{\\left(t \\right)} = \\left(- u_{CH} - v_{CH}\\right) \\operatorname{N_{CH}}{\\left(t \\right)}$"
      ],
      "text/plain": [
       "d                                   \n",
       "──(N_CH(t)) = (-u_CH - v_CH)⋅N_CH(t)\n",
       "dt                                  "
      ]
     },
     "execution_count": 20,
     "metadata": {},
     "output_type": "execute_result"
    }
   ],
   "source": [
    "diffeq1"
   ]
  },
  {
   "cell_type": "code",
   "execution_count": 21,
   "metadata": {},
   "outputs": [
    {
     "data": {
      "image/png": "[encoded data removed]",
      "text/latex": [
       "$\\displaystyle \\frac{d}{d t} N_{CH} = N_{CH} \\left(- u_{CH} - v_{CH}\\right)$"
      ],
      "text/plain": [
       "d                             \n",
       "──(N_CH) = N_CH⋅(-u_CH - v_CH)\n",
       "dt                            "
      ]
     },
     "execution_count": 21,
     "metadata": {},
     "output_type": "execute_result"
    }
   ],
   "source": [
    "diffeq1_nofn = diffeq1.subs(nch(t), n_ch).subs(na(t), n_a)\n",
    "diffeq1_nofn"
   ]
  },
  {
   "cell_type": "code",
   "execution_count": 22,
   "metadata": {},
   "outputs": [
    {
     "data": {
      "image/png": "[encoded data removed]",
      "text/latex": [
       "$\\displaystyle \\frac{d}{d t} \\operatorname{N_{PA}}{\\left(t \\right)} = v_{CH} \\operatorname{N_{CH}}{\\left(t \\right)} - \\left(u_{PA} + v_{PA}\\right) \\operatorname{N_{PA}}{\\left(t \\right)}$"
      ],
      "text/plain": [
       "d                                                 \n",
       "──(N_PA(t)) = v_CH⋅N_CH(t) - (u_PA + v_PA)⋅N_PA(t)\n",
       "dt                                                "
      ]
     },
     "execution_count": 22,
     "metadata": {},
     "output_type": "execute_result"
    }
   ],
   "source": [
    "diffeq2"
   ]
  },
  {
   "cell_type": "code",
   "execution_count": 23,
   "metadata": {},
   "outputs": [
    {
     "data": {
      "image/png": "[encoded data removed]",
      "text/latex": [
       "$\\displaystyle \\frac{d}{d t} N_{PA} = N_{CH} v_{CH} - N_{PA} \\left(u_{PA} + v_{PA}\\right)$"
      ],
      "text/plain": [
       "d                                        \n",
       "──(N_PA) = N_CH⋅v_CH - N_PA⋅(u_PA + v_PA)\n",
       "dt                                       "
      ]
     },
     "execution_count": 23,
     "metadata": {},
     "output_type": "execute_result"
    }
   ],
   "source": [
    "diffeq2_nofn = diffeq2.subs(nch(t), n_ch).subs(npa(t), n_pa)\n",
    "diffeq2_nofn"
   ]
  },
  {
   "cell_type": "code",
   "execution_count": 24,
   "metadata": {},
   "outputs": [
    {
     "data": {
      "image/png": "[encoded data removed]",
      "text/latex": [
       "$\\displaystyle \\frac{d}{d t} \\operatorname{N_{A}}{\\left(t \\right)} = - u_{A} \\operatorname{N_{A}}{\\left(t \\right)} + v_{PA} \\operatorname{N_{PA}}{\\left(t \\right)}$"
      ],
      "text/plain": [
       "d                                      \n",
       "──(N_A(t)) = -u_A⋅N_A(t) + v_PA⋅N_PA(t)\n",
       "dt                                     "
      ]
     },
     "execution_count": 24,
     "metadata": {},
     "output_type": "execute_result"
    }
   ],
   "source": [
    "diffeq3"
   ]
  },
  {
   "cell_type": "code",
   "execution_count": 25,
   "metadata": {},
   "outputs": [
    {
     "data": {
      "image/png": "[encoded data removed]",
      "text/latex": [
       "$\\displaystyle \\frac{d}{d t} N_{A} = - N_{A} u_{A} + N_{PA} v_{PA}$"
      ],
      "text/plain": [
       "d                             \n",
       "──(N_A) = -N_A⋅u_A + N_PA⋅v_PA\n",
       "dt                            "
      ]
     },
     "execution_count": 25,
     "metadata": {},
     "output_type": "execute_result"
    }
   ],
   "source": [
    "diffeq3_nofn = diffeq3.subs(npa(t), n_pa).subs(na(t), n_a)\n",
    "diffeq3_nofn"
   ]
  },
  {
   "cell_type": "code",
   "execution_count": 26,
   "metadata": {},
   "outputs": [
    {
     "data": {
      "text/latex": [
       "$\\displaystyle \\left[\\begin{matrix}- u_{CH} - v_{CH} & 0 & 0\\\\v_{CH} & - (u_{PA} + v_{PA}) & 0\\\\0 & v_{PA} & - u_{A}\\end{matrix}\\right]$"
      ],
      "text/plain": [
       "⎡-u_CH - v_CH        0          0  ⎤\n",
       "⎢                                  ⎥\n",
       "⎢    v_CH      -(u_PA + v_PA)   0  ⎥\n",
       "⎢                                  ⎥\n",
       "⎣     0             v_PA       -u_A⎦"
      ]
     },
     "execution_count": 26,
     "metadata": {},
     "output_type": "execute_result"
    }
   ],
   "source": [
    "A, b = linear_eq_to_matrix(\n",
    "    [diffeq1_nofn.rhs, diffeq2_nofn.rhs, diffeq3_nofn.rhs], [n_ch, n_pa, n_a])\n",
    "A"
   ]
  },
  {
   "cell_type": "code",
   "execution_count": 27,
   "metadata": {},
   "outputs": [
    {
     "data": {
      "text/latex": [
       "$\\displaystyle \\left[\\begin{matrix}0\\\\0\\\\0\\end{matrix}\\right]$"
      ],
      "text/plain": [
       "⎡0⎤\n",
       "⎢ ⎥\n",
       "⎢0⎥\n",
       "⎢ ⎥\n",
       "⎣0⎦"
      ]
     },
     "execution_count": 27,
     "metadata": {},
     "output_type": "execute_result"
    }
   ],
   "source": [
    "b"
   ]
  },
  {
   "cell_type": "markdown",
   "metadata": {},
   "source": [
    "### All eigenvals have multiplicity 1"
   ]
  },
  {
   "cell_type": "code",
   "execution_count": 41,
   "metadata": {},
   "outputs": [
    {
     "data": {
      "text/latex": [
       "$\\displaystyle \\left[\\begin{matrix}- u_{CH} - v_{CH} & 0 & 0\\\\v_{CH} & - (u_{PA} + v_{PA}) & 0\\\\0 & v_{PA} & - u_{A}\\end{matrix}\\right]$"
      ],
      "text/plain": [
       "⎡-u_CH - v_CH        0          0  ⎤\n",
       "⎢                                  ⎥\n",
       "⎢    v_CH      -(u_PA + v_PA)   0  ⎥\n",
       "⎢                                  ⎥\n",
       "⎣     0             v_PA       -u_A⎦"
      ]
     },
     "execution_count": 41,
     "metadata": {},
     "output_type": "execute_result"
    }
   ],
   "source": [
    "A"
   ]
  },
  {
   "cell_type": "code",
   "execution_count": 28,
   "metadata": {},
   "outputs": [
    {
     "data": {
      "text/plain": [
       "list"
      ]
     },
     "execution_count": 28,
     "metadata": {},
     "output_type": "execute_result"
    }
   ],
   "source": [
    "eigenvalsvects = A.eigenvects()\n",
    "type(eigenvalsvects)"
   ]
  },
  {
   "cell_type": "code",
   "execution_count": 51,
   "metadata": {
    "scrolled": true
   },
   "outputs": [
    {
     "name": "stdout",
     "output_type": "stream",
     "text": [
      "Eigenval with multiplicity 1\n"
     ]
    },
    {
     "data": {
      "image/png": "[encoded data removed]",
      "text/latex": [
       "$\\displaystyle - u_{A}$"
      ],
      "text/plain": [
       "-u_A"
      ]
     },
     "execution_count": 51,
     "metadata": {},
     "output_type": "execute_result"
    }
   ],
   "source": [
    "print(f'Eigenval with multiplicity {eigenvalsvects[0][1]}')\n",
    "eigenvalsvects[0][0]"
   ]
  },
  {
   "cell_type": "code",
   "execution_count": 35,
   "metadata": {},
   "outputs": [
    {
     "name": "stdout",
     "output_type": "stream",
     "text": [
      "Corresponding Eigenvector\n"
     ]
    },
    {
     "data": {
      "text/latex": [
       "$\\displaystyle \\left[ \\left[\\begin{matrix}0\\\\0\\\\1\\end{matrix}\\right]\\right]$"
      ],
      "text/plain": [
       "⎡⎡0⎤⎤\n",
       "⎢⎢ ⎥⎥\n",
       "⎢⎢0⎥⎥\n",
       "⎢⎢ ⎥⎥\n",
       "⎣⎣1⎦⎦"
      ]
     },
     "execution_count": 35,
     "metadata": {},
     "output_type": "execute_result"
    }
   ],
   "source": [
    "print('Corresponding Eigenvector')\n",
    "eigenveeigenvalsvects[0][2]"
   ]
  },
  {
   "cell_type": "code",
   "execution_count": 37,
   "metadata": {},
   "outputs": [
    {
     "name": "stdout",
     "output_type": "stream",
     "text": [
      "Eigenval with multiplicity 1\n"
     ]
    },
    {
     "data": {
      "image/png": "[encoded data removed]",
      "text/latex": [
       "$\\displaystyle - u_{CH} - v_{CH}$"
      ],
      "text/plain": [
       "-u_CH - v_CH"
      ]
     },
     "execution_count": 37,
     "metadata": {},
     "output_type": "execute_result"
    }
   ],
   "source": [
    "print(f'Eigenval with multiplicity {eigenvalsvects[1][1]}')\n",
    "eigenvalsvects[1][0]"
   ]
  },
  {
   "cell_type": "code",
   "execution_count": 38,
   "metadata": {},
   "outputs": [
    {
     "name": "stdout",
     "output_type": "stream",
     "text": [
      "Corresponding Eigenvector\n"
     ]
    },
    {
     "data": {
      "text/latex": [
       "$\\displaystyle \\left[ \\left[\\begin{matrix}- \\frac{u_{A} u_{CH} - u_{A} u_{PA} + u_{A} v_{CH} - u_{A} v_{PA} - u_{CH}^{2} + u_{CH} u_{PA} - 2 u_{CH} v_{CH} + u_{CH} v_{PA} + u_{PA} v_{CH} - v_{CH}^{2} + v_{CH} v_{PA}}{v_{CH} v_{PA}}\\\\- \\frac{- u_{A} + u_{CH} + v_{CH}}{v_{PA}}\\\\1\\end{matrix}\\right]\\right]$"
      ],
      "text/plain": [
       "⎡⎡ ⎛                                                2                         \n",
       "⎢⎢-⎝u_A⋅u_CH - u_A⋅u_PA + u_A⋅v_CH - u_A⋅v_PA - u_CH  + u_CH⋅u_PA - 2⋅u_CH⋅v_C\n",
       "⎢⎢────────────────────────────────────────────────────────────────────────────\n",
       "⎢⎢                                                         v_CH⋅v_PA          \n",
       "⎢⎢                                                                            \n",
       "⎢⎢                                                  -(-u_A + u_CH + v_CH)     \n",
       "⎢⎢                                                  ──────────────────────    \n",
       "⎢⎢                                                           v_PA             \n",
       "⎢⎢                                                                            \n",
       "⎣⎣                                                             1              \n",
       "\n",
       "                                2            ⎞ ⎤⎤\n",
       "H + u_CH⋅v_PA + u_PA⋅v_CH - v_CH  + v_CH⋅v_PA⎠ ⎥⎥\n",
       "───────────────────────────────────────────────⎥⎥\n",
       "                                               ⎥⎥\n",
       "                                               ⎥⎥\n",
       "                                               ⎥⎥\n",
       "                                               ⎥⎥\n",
       "                                               ⎥⎥\n",
       "                                               ⎥⎥\n",
       "                                               ⎦⎦"
      ]
     },
     "execution_count": 38,
     "metadata": {},
     "output_type": "execute_result"
    }
   ],
   "source": [
    "print('Corresponding Eigenvector')\n",
    "eigenvalsvects[1][2]"
   ]
  },
  {
   "cell_type": "code",
   "execution_count": 39,
   "metadata": {},
   "outputs": [
    {
     "name": "stdout",
     "output_type": "stream",
     "text": [
      "Eigenval with multiplicity 1\n"
     ]
    },
    {
     "data": {
      "image/png": "[encoded data removed]",
      "text/latex": [
       "$\\displaystyle - (u_{PA} + v_{PA})$"
      ],
      "text/plain": [
       "-(u_PA + v_PA)"
      ]
     },
     "execution_count": 39,
     "metadata": {},
     "output_type": "execute_result"
    }
   ],
   "source": [
    "print(f'Eigenval with multiplicity {eigenvalsvects[2][1]}')\n",
    "eigenvalsvects[2][0]"
   ]
  },
  {
   "cell_type": "code",
   "execution_count": 40,
   "metadata": {},
   "outputs": [
    {
     "name": "stdout",
     "output_type": "stream",
     "text": [
      "Corresponding Eigenvector\n"
     ]
    },
    {
     "data": {
      "text/latex": [
       "$\\displaystyle \\left[ \\left[\\begin{matrix}0\\\\\\frac{u_{A}}{v_{PA}} - \\frac{u_{PA}}{v_{PA}} - 1\\\\1\\end{matrix}\\right]\\right]$"
      ],
      "text/plain": [
       "⎡⎡       0       ⎤⎤\n",
       "⎢⎢               ⎥⎥\n",
       "⎢⎢u_A    u_PA    ⎥⎥\n",
       "⎢⎢──── - ──── - 1⎥⎥\n",
       "⎢⎢v_PA   v_PA    ⎥⎥\n",
       "⎢⎢               ⎥⎥\n",
       "⎣⎣       1       ⎦⎦"
      ]
     },
     "execution_count": 40,
     "metadata": {},
     "output_type": "execute_result"
    }
   ],
   "source": [
    "print('Corresponding Eigenvector')\n",
    "eigenvalsvects[2][2]"
   ]
  },
  {
   "cell_type": "code",
   "execution_count": 45,
   "metadata": {},
   "outputs": [
    {
     "data": {
      "text/latex": [
       "$\\displaystyle \\left[\\begin{matrix}- u_{CH} - v_{CH} & 0 & 0\\\\v_{CH} & - (u_{PA} + v_{PA}) & 0\\\\0 & v_{PA} & - u_{A}\\end{matrix}\\right]$"
      ],
      "text/plain": [
       "⎡-u_CH - v_CH        0          0  ⎤\n",
       "⎢                                  ⎥\n",
       "⎢    v_CH      -(u_PA + v_PA)   0  ⎥\n",
       "⎢                                  ⎥\n",
       "⎣     0             v_PA       -u_A⎦"
      ]
     },
     "execution_count": 45,
     "metadata": {},
     "output_type": "execute_result"
    }
   ],
   "source": [
    "A"
   ]
  },
  {
   "cell_type": "code",
   "execution_count": 49,
   "metadata": {},
   "outputs": [
    {
     "data": {
      "text/latex": [
       "$\\displaystyle \\left[ \\left[\\begin{matrix}0\\\\\\frac{u_{A}}{v_{PA}} - \\frac{u_{PA}}{v_{PA}} - 1\\\\1\\end{matrix}\\right]\\right]$"
      ],
      "text/plain": [
       "⎡⎡       0       ⎤⎤\n",
       "⎢⎢               ⎥⎥\n",
       "⎢⎢u_A    u_PA    ⎥⎥\n",
       "⎢⎢──── - ──── - 1⎥⎥\n",
       "⎢⎢v_PA   v_PA    ⎥⎥\n",
       "⎢⎢               ⎥⎥\n",
       "⎣⎣       1       ⎦⎦"
      ]
     },
     "execution_count": 49,
     "metadata": {},
     "output_type": "execute_result"
    }
   ],
   "source": [
    "(A - (eye(3) *eigenvalsvects[2][0])).nullspace()"
   ]
  },
  {
   "cell_type": "code",
   "execution_count": null,
   "metadata": {},
   "outputs": [],
   "source": []
  }
 ],
 "metadata": {
  "kernelspec": {
   "display_name": "Python 3",
   "language": "python",
   "name": "python3"
  },
  "language_info": {
   "codemirror_mode": {
    "name": "ipython",
    "version": 3
   },
   "file_extension": ".py",
   "mimetype": "text/x-python",
   "name": "python",
   "nbconvert_exporter": "python",
   "pygments_lexer": "ipython3",
   "version": "3.7.7"
  }
 },
 "nbformat": 4,
 "nbformat_minor": 4
}
