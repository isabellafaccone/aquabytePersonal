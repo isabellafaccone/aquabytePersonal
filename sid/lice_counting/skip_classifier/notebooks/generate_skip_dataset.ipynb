{
 "cells": [
  {
   "cell_type": "code",
   "execution_count": null,
   "metadata": {},
   "outputs": [],
   "source": [
    "import os\n",
    "\n",
    "os.environ.keys()"
   ]
  },
  {
   "cell_type": "code",
   "execution_count": 65,
   "metadata": {},
   "outputs": [
    {
     "name": "stderr",
     "output_type": "stream",
     "text": [
      "/home/user/miniconda/envs/py36/lib/python3.6/site-packages/IPython/core/interactiveshell.py:3058: DtypeWarning: Columns (16) have mixed types. Specify dtype option on import or set low_memory=False.\n",
      "  interactivity=interactivity, compiler=compiler, result=result)\n"
     ]
    },
    {
     "data": {
      "text/html": [
       "<div>\n",
       "<style scoped>\n",
       "    .dataframe tbody tr th:only-of-type {\n",
       "        vertical-align: middle;\n",
       "    }\n",
       "\n",
       "    .dataframe tbody tr th {\n",
       "        vertical-align: top;\n",
       "    }\n",
       "\n",
       "    .dataframe thead th {\n",
       "        text-align: right;\n",
       "    }\n",
       "</style>\n",
       "<table border=\"1\" class=\"dataframe\">\n",
       "  <thead>\n",
       "    <tr style=\"text-align: right;\">\n",
       "      <th></th>\n",
       "      <th>service_id</th>\n",
       "      <th>pen_id</th>\n",
       "      <th>annotation_state_id</th>\n",
       "      <th>base_key</th>\n",
       "      <th>url_key</th>\n",
       "      <th>right_crop_url</th>\n",
       "      <th>left_crop_metadata</th>\n",
       "      <th>right_crop_metadata</th>\n",
       "      <th>camera_metadata</th>\n",
       "      <th>annotation</th>\n",
       "      <th>captured_at</th>\n",
       "      <th>ts_source_start</th>\n",
       "      <th>ts_source_end</th>\n",
       "      <th>ts</th>\n",
       "      <th>annotator_email</th>\n",
       "      <th>skip_reasons</th>\n",
       "      <th>group_id</th>\n",
       "      <th>left_crop_url</th>\n",
       "      <th>filter_reasons</th>\n",
       "    </tr>\n",
       "  </thead>\n",
       "  <tbody>\n",
       "    <tr>\n",
       "      <th>0</th>\n",
       "      <td>1</td>\n",
       "      <td>59</td>\n",
       "      <td>4</td>\n",
       "      <td>environment=production/site-id=39/pen-id=59/da...</td>\n",
       "      <td>https://aquabyte-crops.s3.eu-west-1.amazonaws....</td>\n",
       "      <td>https://aquabyte-crops.s3.eu-west-1.amazonaws....</td>\n",
       "      <td>{\"width\": 2963, \"height\": 1404, \"x_coord\": 113...</td>\n",
       "      <td>{\"width\": 3549, \"height\": 1506, \"x_coord\": 546...</td>\n",
       "      <td>{\"baseline\": 0.10192037780336637, \"focalLength...</td>\n",
       "      <td>NaN</td>\n",
       "      <td>2020-02-10 08:00:54.994398+00</td>\n",
       "      <td>2020-02-10 08:02:00+00</td>\n",
       "      <td>NaN</td>\n",
       "      <td>2020-02-10 08:02:00.919+00</td>\n",
       "      <td>labeler5@cogitotech.com</td>\n",
       "      <td>[\"BLURRY\"]</td>\n",
       "      <td>59</td>\n",
       "      <td>https://aquabyte-crops.s3.eu-west-1.amazonaws....</td>\n",
       "      <td>NaN</td>\n",
       "    </tr>\n",
       "    <tr>\n",
       "      <th>1</th>\n",
       "      <td>1</td>\n",
       "      <td>86</td>\n",
       "      <td>3</td>\n",
       "      <td>environment=production/site-id=54/pen-id=86/da...</td>\n",
       "      <td>https://aquabyte-crops.s3.eu-west-1.amazonaws....</td>\n",
       "      <td>https://aquabyte-crops.s3.eu-west-1.amazonaws....</td>\n",
       "      <td>NaN</td>\n",
       "      <td>{\"width\": 3686, \"height\": 1914, \"x_coord\": 0, ...</td>\n",
       "      <td>{\"baseline\": 0.09995013501549709, \"focalLength...</td>\n",
       "      <td>NaN</td>\n",
       "      <td>2020-02-10 00:49:15.960909+00</td>\n",
       "      <td>2020-02-10 06:07:57+00</td>\n",
       "      <td>NaN</td>\n",
       "      <td>2020-02-10 06:07:57.672+00</td>\n",
       "      <td>labeler1@cogitotech.com</td>\n",
       "      <td>NaN</td>\n",
       "      <td>86</td>\n",
       "      <td>NaN</td>\n",
       "      <td>NaN</td>\n",
       "    </tr>\n",
       "    <tr>\n",
       "      <th>2</th>\n",
       "      <td>1</td>\n",
       "      <td>59</td>\n",
       "      <td>7</td>\n",
       "      <td>environment=production/site-id=39/pen-id=59/da...</td>\n",
       "      <td>https://aquabyte-crops.s3.eu-west-1.amazonaws....</td>\n",
       "      <td>https://aquabyte-crops.s3.eu-west-1.amazonaws....</td>\n",
       "      <td>NaN</td>\n",
       "      <td>{\"width\": 3749, \"height\": 2036, \"x_coord\": 346...</td>\n",
       "      <td>{\"baseline\": 0.10192037780336637, \"focalLength...</td>\n",
       "      <td>[{\"id\": \"cc8afd01-4beb-11ea-b74a-bdbfaf2df824\"...</td>\n",
       "      <td>2020-02-10 08:01:45.585635+00</td>\n",
       "      <td>2020-02-10 09:58:26+00</td>\n",
       "      <td>NaN</td>\n",
       "      <td>2020-02-10 09:58:27.079+00</td>\n",
       "      <td>orjan@aquabyte.ai</td>\n",
       "      <td>NaN</td>\n",
       "      <td>59</td>\n",
       "      <td>NaN</td>\n",
       "      <td>NaN</td>\n",
       "    </tr>\n",
       "    <tr>\n",
       "      <th>3</th>\n",
       "      <td>1</td>\n",
       "      <td>58</td>\n",
       "      <td>4</td>\n",
       "      <td>environment=production/site-id=39/pen-id=58/da...</td>\n",
       "      <td>https://aquabyte-crops.s3.eu-west-1.amazonaws....</td>\n",
       "      <td>https://aquabyte-crops.s3.eu-west-1.amazonaws....</td>\n",
       "      <td>{\"width\": 3683, \"height\": 1782, \"x_coord\": 412...</td>\n",
       "      <td>{\"width\": 3823, \"height\": 1884, \"x_coord\": 0, ...</td>\n",
       "      <td>{\"baseline\": 0.10167560841978449, \"focalLength...</td>\n",
       "      <td>NaN</td>\n",
       "      <td>2020-02-10 08:01:45.771128+00</td>\n",
       "      <td>2020-02-10 08:05:03+00</td>\n",
       "      <td>NaN</td>\n",
       "      <td>2020-02-10 08:05:04.179+00</td>\n",
       "      <td>labeler4@cogitotech.com</td>\n",
       "      <td>[\"BLURRY\", \"BAD_CROP\"]</td>\n",
       "      <td>58</td>\n",
       "      <td>https://aquabyte-crops.s3.eu-west-1.amazonaws....</td>\n",
       "      <td>NaN</td>\n",
       "    </tr>\n",
       "    <tr>\n",
       "      <th>4</th>\n",
       "      <td>1</td>\n",
       "      <td>86</td>\n",
       "      <td>3</td>\n",
       "      <td>environment=production/site-id=54/pen-id=86/da...</td>\n",
       "      <td>https://aquabyte-crops.s3.eu-west-1.amazonaws....</td>\n",
       "      <td>NaN</td>\n",
       "      <td>{\"width\": 3188, \"height\": 2184, \"x_coord\": 0, ...</td>\n",
       "      <td>NaN</td>\n",
       "      <td>{\"baseline\": 0.09995013501549709, \"focalLength...</td>\n",
       "      <td>NaN</td>\n",
       "      <td>2020-02-10 00:50:04.084051+00</td>\n",
       "      <td>2020-02-10 06:08:02+00</td>\n",
       "      <td>2020-02-10 08:44:14+00</td>\n",
       "      <td>2020-02-10 08:44:15.933+00</td>\n",
       "      <td>labeler1@cogitotech.com</td>\n",
       "      <td>NaN</td>\n",
       "      <td>86</td>\n",
       "      <td>https://aquabyte-crops.s3.eu-west-1.amazonaws....</td>\n",
       "      <td>NaN</td>\n",
       "    </tr>\n",
       "  </tbody>\n",
       "</table>\n",
       "</div>"
      ],
      "text/plain": [
       "   service_id  pen_id  annotation_state_id  \\\n",
       "0           1      59                    4   \n",
       "1           1      86                    3   \n",
       "2           1      59                    7   \n",
       "3           1      58                    4   \n",
       "4           1      86                    3   \n",
       "\n",
       "                                            base_key  \\\n",
       "0  environment=production/site-id=39/pen-id=59/da...   \n",
       "1  environment=production/site-id=54/pen-id=86/da...   \n",
       "2  environment=production/site-id=39/pen-id=59/da...   \n",
       "3  environment=production/site-id=39/pen-id=58/da...   \n",
       "4  environment=production/site-id=54/pen-id=86/da...   \n",
       "\n",
       "                                             url_key  \\\n",
       "0  https://aquabyte-crops.s3.eu-west-1.amazonaws....   \n",
       "1  https://aquabyte-crops.s3.eu-west-1.amazonaws....   \n",
       "2  https://aquabyte-crops.s3.eu-west-1.amazonaws....   \n",
       "3  https://aquabyte-crops.s3.eu-west-1.amazonaws....   \n",
       "4  https://aquabyte-crops.s3.eu-west-1.amazonaws....   \n",
       "\n",
       "                                      right_crop_url  \\\n",
       "0  https://aquabyte-crops.s3.eu-west-1.amazonaws....   \n",
       "1  https://aquabyte-crops.s3.eu-west-1.amazonaws....   \n",
       "2  https://aquabyte-crops.s3.eu-west-1.amazonaws....   \n",
       "3  https://aquabyte-crops.s3.eu-west-1.amazonaws....   \n",
       "4                                                NaN   \n",
       "\n",
       "                                  left_crop_metadata  \\\n",
       "0  {\"width\": 2963, \"height\": 1404, \"x_coord\": 113...   \n",
       "1                                                NaN   \n",
       "2                                                NaN   \n",
       "3  {\"width\": 3683, \"height\": 1782, \"x_coord\": 412...   \n",
       "4  {\"width\": 3188, \"height\": 2184, \"x_coord\": 0, ...   \n",
       "\n",
       "                                 right_crop_metadata  \\\n",
       "0  {\"width\": 3549, \"height\": 1506, \"x_coord\": 546...   \n",
       "1  {\"width\": 3686, \"height\": 1914, \"x_coord\": 0, ...   \n",
       "2  {\"width\": 3749, \"height\": 2036, \"x_coord\": 346...   \n",
       "3  {\"width\": 3823, \"height\": 1884, \"x_coord\": 0, ...   \n",
       "4                                                NaN   \n",
       "\n",
       "                                     camera_metadata  \\\n",
       "0  {\"baseline\": 0.10192037780336637, \"focalLength...   \n",
       "1  {\"baseline\": 0.09995013501549709, \"focalLength...   \n",
       "2  {\"baseline\": 0.10192037780336637, \"focalLength...   \n",
       "3  {\"baseline\": 0.10167560841978449, \"focalLength...   \n",
       "4  {\"baseline\": 0.09995013501549709, \"focalLength...   \n",
       "\n",
       "                                          annotation  \\\n",
       "0                                                NaN   \n",
       "1                                                NaN   \n",
       "2  [{\"id\": \"cc8afd01-4beb-11ea-b74a-bdbfaf2df824\"...   \n",
       "3                                                NaN   \n",
       "4                                                NaN   \n",
       "\n",
       "                     captured_at         ts_source_start  \\\n",
       "0  2020-02-10 08:00:54.994398+00  2020-02-10 08:02:00+00   \n",
       "1  2020-02-10 00:49:15.960909+00  2020-02-10 06:07:57+00   \n",
       "2  2020-02-10 08:01:45.585635+00  2020-02-10 09:58:26+00   \n",
       "3  2020-02-10 08:01:45.771128+00  2020-02-10 08:05:03+00   \n",
       "4  2020-02-10 00:50:04.084051+00  2020-02-10 06:08:02+00   \n",
       "\n",
       "            ts_source_end                          ts  \\\n",
       "0                     NaN  2020-02-10 08:02:00.919+00   \n",
       "1                     NaN  2020-02-10 06:07:57.672+00   \n",
       "2                     NaN  2020-02-10 09:58:27.079+00   \n",
       "3                     NaN  2020-02-10 08:05:04.179+00   \n",
       "4  2020-02-10 08:44:14+00  2020-02-10 08:44:15.933+00   \n",
       "\n",
       "           annotator_email            skip_reasons group_id  \\\n",
       "0  labeler5@cogitotech.com              [\"BLURRY\"]       59   \n",
       "1  labeler1@cogitotech.com                     NaN       86   \n",
       "2        orjan@aquabyte.ai                     NaN       59   \n",
       "3  labeler4@cogitotech.com  [\"BLURRY\", \"BAD_CROP\"]       58   \n",
       "4  labeler1@cogitotech.com                     NaN       86   \n",
       "\n",
       "                                       left_crop_url  filter_reasons  \n",
       "0  https://aquabyte-crops.s3.eu-west-1.amazonaws....             NaN  \n",
       "1                                                NaN             NaN  \n",
       "2                                                NaN             NaN  \n",
       "3  https://aquabyte-crops.s3.eu-west-1.amazonaws....             NaN  \n",
       "4  https://aquabyte-crops.s3.eu-west-1.amazonaws....             NaN  "
      ]
     },
     "execution_count": 65,
     "metadata": {},
     "output_type": "execute_result"
    }
   ],
   "source": [
    "import pandas as pd\n",
    "\n",
    "path = '/root/data/sid/skip_classifier_datasets/raw/production_skips_accepts/annotations.csv'\n",
    "annotations = pd.read_csv(path)\n",
    "annotations.head()"
   ]
  },
  {
   "cell_type": "code",
   "execution_count": 32,
   "metadata": {},
   "outputs": [],
   "source": [
    "annotations = annotations[annotations['left_crop_url'].notnull()]"
   ]
  },
  {
   "cell_type": "code",
   "execution_count": 33,
   "metadata": {},
   "outputs": [
    {
     "data": {
      "text/plain": [
       "4    1120798\n",
       "3      93725\n",
       "7      35592\n",
       "6      15921\n",
       "Name: annotation_state_id, dtype: int64"
      ]
     },
     "execution_count": 33,
     "metadata": {},
     "output_type": "execute_result"
    }
   ],
   "source": [
    "annotations['annotation_state_id'].value_counts()"
   ]
  },
  {
   "cell_type": "markdown",
   "metadata": {},
   "source": [
    "### There's a couple ways we can slice and dice this skip dataset to improve the quality, which depends on how what we include to be skips, and what we include to be accepts.\n",
    "\n",
    "* Skips\n",
    "  1. Use all cogito skips\n",
    "  2. Use all QA skips\n",
    "  3. Use confident cogito skips\n",
    "  4. Use confident QA skips.\n",
    "  5. Break out skips into different skip reasons.\n",
    "    \n",
    "* Accepts\n",
    "  1. Use all cogito accepts\n",
    "  2. Use all QA accepts\n",
    "  3. Use confident cogito skips.\n",
    "  4. Use confident cogito accepts.\n",
    "    \n",
    "##### To start, let's do 2 options:\n",
    "\n",
    "### all cogito skips and all cogito accepts."
   ]
  },
  {
   "cell_type": "code",
   "execution_count": 92,
   "metadata": {},
   "outputs": [
    {
     "name": "stdout",
     "output_type": "stream",
     "text": [
      "<class 'pandas.core.frame.DataFrame'>\n",
      "Int64Index: 100000 entries, 330622 to 580858\n",
      "Data columns (total 19 columns):\n",
      "service_id             100000 non-null int64\n",
      "pen_id                 100000 non-null int64\n",
      "annotation_state_id    100000 non-null int64\n",
      "base_key               100000 non-null object\n",
      "url_key                100000 non-null object\n",
      "right_crop_url         52005 non-null object\n",
      "left_crop_metadata     99999 non-null object\n",
      "right_crop_metadata    52005 non-null object\n",
      "camera_metadata        100000 non-null object\n",
      "annotation             19850 non-null object\n",
      "captured_at            100000 non-null object\n",
      "ts_source_start        100000 non-null object\n",
      "ts_source_end          16576 non-null object\n",
      "ts                     100000 non-null object\n",
      "annotator_email        100000 non-null object\n",
      "skip_reasons           70440 non-null object\n",
      "group_id               100000 non-null object\n",
      "left_crop_url          99999 non-null object\n",
      "filter_reasons         0 non-null float64\n",
      "dtypes: float64(1), int64(3), object(15)\n",
      "memory usage: 15.3+ MB\n"
     ]
    }
   ],
   "source": [
    "import pandas as pd\n",
    "\n",
    "SAMPLE_SIZE = 100000\n",
    "SAMPLE_RATIO = 0.7\n",
    "\n",
    "cogito_skips = annotations[annotations['annotation_state_id'] == 4]\n",
    "cogito_skips = cogito_skips[~cogito_skips.left_crop_url.duplicated()]\n",
    "cogito_skips = cogito_skips.sample(int(SAMPLE_RATIO * SAMPLE_SIZE))\n",
    "cogito_accepts = annotations[annotations['annotation_state_id'] == 3]\n",
    "cogito_accepts = cogito_accepts[~cogito_accepts.left_crop_url.duplicated()]\n",
    "cogito_accepts = cogito_accepts.sample(int((1-SAMPLE_RATIO) * SAMPLE_SIZE))\n",
    "all_cogito_data = pd.concat([cogito_skips, cogito_accepts])\n",
    "all_cogito_data.info()"
   ]
  },
  {
   "cell_type": "markdown",
   "metadata": {},
   "source": [
    "### confident cogito skips and confident QA accepts, just be to sure the labels have clear differences."
   ]
  },
  {
   "cell_type": "code",
   "execution_count": 93,
   "metadata": {},
   "outputs": [],
   "source": [
    "cogito_skips = annotations[annotations['annotation_state_id'] == 4]\n",
    "cogito_skips = cogito_skips[~cogito_skips.left_crop_url.duplicated()]\n",
    "cogito_skips = cogito_skips.sample(int(SAMPLE_RATIO * SAMPLE_SIZE))"
   ]
  },
  {
   "cell_type": "code",
   "execution_count": 94,
   "metadata": {},
   "outputs": [],
   "source": [
    "qa_accepts = annotations[annotations['annotation_state_id'] == 7]\n",
    "qa_accepts = qa_accepts[~qa_accepts.left_crop_url.duplicated()]\n",
    "qa_accepts = qa_accepts.sample(int((1-SAMPLE_RATIO) * SAMPLE_SIZE))"
   ]
  },
  {
   "cell_type": "code",
   "execution_count": 95,
   "metadata": {},
   "outputs": [
    {
     "name": "stdout",
     "output_type": "stream",
     "text": [
      "<class 'pandas.core.frame.DataFrame'>\n",
      "Int64Index: 100000 entries, 727171 to 396086\n",
      "Data columns (total 19 columns):\n",
      "service_id             100000 non-null int64\n",
      "pen_id                 100000 non-null int64\n",
      "annotation_state_id    100000 non-null int64\n",
      "base_key               100000 non-null object\n",
      "url_key                100000 non-null object\n",
      "right_crop_url         52301 non-null object\n",
      "left_crop_metadata     100000 non-null object\n",
      "right_crop_metadata    52301 non-null object\n",
      "camera_metadata        100000 non-null object\n",
      "annotation             19284 non-null object\n",
      "captured_at            100000 non-null object\n",
      "ts_source_start        100000 non-null object\n",
      "ts_source_end          88 non-null object\n",
      "ts                     100000 non-null object\n",
      "annotator_email        100000 non-null object\n",
      "skip_reasons           70374 non-null object\n",
      "group_id               100000 non-null object\n",
      "left_crop_url          100000 non-null object\n",
      "filter_reasons         0 non-null float64\n",
      "dtypes: float64(1), int64(3), object(15)\n",
      "memory usage: 15.3+ MB\n"
     ]
    }
   ],
   "source": [
    "skip_dataset = pd.concat([cogito_skips, qa_accepts])\n",
    "skip_dataset.info()"
   ]
  },
  {
   "cell_type": "code",
   "execution_count": 96,
   "metadata": {},
   "outputs": [
    {
     "data": {
      "text/plain": [
       "SKIP      70000\n",
       "ACCEPT    30000\n",
       "Name: label, dtype: int64"
      ]
     },
     "execution_count": 96,
     "metadata": {},
     "output_type": "execute_result"
    }
   ],
   "source": [
    "def get_label(state_id):\n",
    "    if state_id == 4:\n",
    "        return 'SKIP'\n",
    "    elif state_id == 7:\n",
    "        return 'ACCEPT'\n",
    "    else:\n",
    "        assert False\n",
    "\n",
    "skip_dataset['label'] = skip_dataset['annotation_state_id'].apply(get_label)\n",
    "skip_dataset['label'].value_counts()"
   ]
  },
  {
   "cell_type": "code",
   "execution_count": 97,
   "metadata": {},
   "outputs": [],
   "source": [
    "skip_dataset.to_csv('/root/data/sid/skip_classifier_datasets/sampled_datasets/qa_accept_cogito_skips_03-04-2020_100k.csv')"
   ]
  },
  {
   "cell_type": "markdown",
   "metadata": {},
   "source": [
    "### Break down binary datasets by skip reason"
   ]
  },
  {
   "cell_type": "code",
   "execution_count": 83,
   "metadata": {},
   "outputs": [
    {
     "ename": "TypeError",
     "evalue": "the JSON object must be str, bytes or bytearray, not 'list'",
     "output_type": "error",
     "traceback": [
      "\u001b[0;31m\u001b[0m",
      "\u001b[0;31mTypeError\u001b[0mTraceback (most recent call last)",
      "\u001b[0;32m<ipython-input-83-31c8aa8b5225>\u001b[0m in \u001b[0;36m<module>\u001b[0;34m\u001b[0m\n\u001b[1;32m      1\u001b[0m \u001b[0;32mimport\u001b[0m \u001b[0mjson\u001b[0m\u001b[0;34m\u001b[0m\u001b[0m\n\u001b[1;32m      2\u001b[0m \u001b[0;34m\u001b[0m\u001b[0m\n\u001b[0;32m----> 3\u001b[0;31m \u001b[0mannotations\u001b[0m\u001b[0;34m[\u001b[0m\u001b[0;34m'skip_reasons'\u001b[0m\u001b[0;34m]\u001b[0m \u001b[0;34m=\u001b[0m \u001b[0mannotations\u001b[0m\u001b[0;34m[\u001b[0m\u001b[0;34m'skip_reasons'\u001b[0m\u001b[0;34m]\u001b[0m\u001b[0;34m.\u001b[0m\u001b[0mapply\u001b[0m\u001b[0;34m(\u001b[0m\u001b[0;32mlambda\u001b[0m \u001b[0ml\u001b[0m\u001b[0;34m:\u001b[0m \u001b[0ml\u001b[0m \u001b[0;32mif\u001b[0m \u001b[0misinstance\u001b[0m\u001b[0;34m(\u001b[0m\u001b[0ml\u001b[0m\u001b[0;34m,\u001b[0m \u001b[0mfloat\u001b[0m\u001b[0;34m)\u001b[0m \u001b[0;32melse\u001b[0m \u001b[0mjson\u001b[0m\u001b[0;34m.\u001b[0m\u001b[0mloads\u001b[0m\u001b[0;34m(\u001b[0m\u001b[0ml\u001b[0m\u001b[0;34m)\u001b[0m\u001b[0;34m)\u001b[0m\u001b[0;34m\u001b[0m\u001b[0m\n\u001b[0m\u001b[1;32m      4\u001b[0m \u001b[0mannotations\u001b[0m\u001b[0;34m[\u001b[0m\u001b[0;34m'skip_reasons'\u001b[0m\u001b[0;34m]\u001b[0m\u001b[0;34m\u001b[0m\u001b[0m\n",
      "\u001b[0;32m~/miniconda/envs/py36/lib/python3.6/site-packages/pandas/core/series.py\u001b[0m in \u001b[0;36mapply\u001b[0;34m(self, func, convert_dtype, args, **kwds)\u001b[0m\n\u001b[1;32m   4043\u001b[0m             \u001b[0;32melse\u001b[0m\u001b[0;34m:\u001b[0m\u001b[0;34m\u001b[0m\u001b[0m\n\u001b[1;32m   4044\u001b[0m                 \u001b[0mvalues\u001b[0m \u001b[0;34m=\u001b[0m \u001b[0mself\u001b[0m\u001b[0;34m.\u001b[0m\u001b[0mastype\u001b[0m\u001b[0;34m(\u001b[0m\u001b[0mobject\u001b[0m\u001b[0;34m)\u001b[0m\u001b[0;34m.\u001b[0m\u001b[0mvalues\u001b[0m\u001b[0;34m\u001b[0m\u001b[0m\n\u001b[0;32m-> 4045\u001b[0;31m                 \u001b[0mmapped\u001b[0m \u001b[0;34m=\u001b[0m \u001b[0mlib\u001b[0m\u001b[0;34m.\u001b[0m\u001b[0mmap_infer\u001b[0m\u001b[0;34m(\u001b[0m\u001b[0mvalues\u001b[0m\u001b[0;34m,\u001b[0m \u001b[0mf\u001b[0m\u001b[0;34m,\u001b[0m \u001b[0mconvert\u001b[0m\u001b[0;34m=\u001b[0m\u001b[0mconvert_dtype\u001b[0m\u001b[0;34m)\u001b[0m\u001b[0;34m\u001b[0m\u001b[0m\n\u001b[0m\u001b[1;32m   4046\u001b[0m \u001b[0;34m\u001b[0m\u001b[0m\n\u001b[1;32m   4047\u001b[0m         \u001b[0;32mif\u001b[0m \u001b[0mlen\u001b[0m\u001b[0;34m(\u001b[0m\u001b[0mmapped\u001b[0m\u001b[0;34m)\u001b[0m \u001b[0;32mand\u001b[0m \u001b[0misinstance\u001b[0m\u001b[0;34m(\u001b[0m\u001b[0mmapped\u001b[0m\u001b[0;34m[\u001b[0m\u001b[0;36m0\u001b[0m\u001b[0;34m]\u001b[0m\u001b[0;34m,\u001b[0m \u001b[0mSeries\u001b[0m\u001b[0;34m)\u001b[0m\u001b[0;34m:\u001b[0m\u001b[0;34m\u001b[0m\u001b[0m\n",
      "\u001b[0;32mpandas/_libs/lib.pyx\u001b[0m in \u001b[0;36mpandas._libs.lib.map_infer\u001b[0;34m()\u001b[0m\n",
      "\u001b[0;32m<ipython-input-83-31c8aa8b5225>\u001b[0m in \u001b[0;36m<lambda>\u001b[0;34m(l)\u001b[0m\n\u001b[1;32m      1\u001b[0m \u001b[0;32mimport\u001b[0m \u001b[0mjson\u001b[0m\u001b[0;34m\u001b[0m\u001b[0m\n\u001b[1;32m      2\u001b[0m \u001b[0;34m\u001b[0m\u001b[0m\n\u001b[0;32m----> 3\u001b[0;31m \u001b[0mannotations\u001b[0m\u001b[0;34m[\u001b[0m\u001b[0;34m'skip_reasons'\u001b[0m\u001b[0;34m]\u001b[0m \u001b[0;34m=\u001b[0m \u001b[0mannotations\u001b[0m\u001b[0;34m[\u001b[0m\u001b[0;34m'skip_reasons'\u001b[0m\u001b[0;34m]\u001b[0m\u001b[0;34m.\u001b[0m\u001b[0mapply\u001b[0m\u001b[0;34m(\u001b[0m\u001b[0;32mlambda\u001b[0m \u001b[0ml\u001b[0m\u001b[0;34m:\u001b[0m \u001b[0ml\u001b[0m \u001b[0;32mif\u001b[0m \u001b[0misinstance\u001b[0m\u001b[0;34m(\u001b[0m\u001b[0ml\u001b[0m\u001b[0;34m,\u001b[0m \u001b[0mfloat\u001b[0m\u001b[0;34m)\u001b[0m \u001b[0;32melse\u001b[0m \u001b[0mjson\u001b[0m\u001b[0;34m.\u001b[0m\u001b[0mloads\u001b[0m\u001b[0;34m(\u001b[0m\u001b[0ml\u001b[0m\u001b[0;34m)\u001b[0m\u001b[0;34m)\u001b[0m\u001b[0;34m\u001b[0m\u001b[0m\n\u001b[0m\u001b[1;32m      4\u001b[0m \u001b[0mannotations\u001b[0m\u001b[0;34m[\u001b[0m\u001b[0;34m'skip_reasons'\u001b[0m\u001b[0;34m]\u001b[0m\u001b[0;34m\u001b[0m\u001b[0m\n",
      "\u001b[0;32m~/miniconda/envs/py36/lib/python3.6/json/__init__.py\u001b[0m in \u001b[0;36mloads\u001b[0;34m(s, encoding, cls, object_hook, parse_float, parse_int, parse_constant, object_pairs_hook, **kw)\u001b[0m\n\u001b[1;32m    346\u001b[0m         \u001b[0;32mif\u001b[0m \u001b[0;32mnot\u001b[0m \u001b[0misinstance\u001b[0m\u001b[0;34m(\u001b[0m\u001b[0ms\u001b[0m\u001b[0;34m,\u001b[0m \u001b[0;34m(\u001b[0m\u001b[0mbytes\u001b[0m\u001b[0;34m,\u001b[0m \u001b[0mbytearray\u001b[0m\u001b[0;34m)\u001b[0m\u001b[0;34m)\u001b[0m\u001b[0;34m:\u001b[0m\u001b[0;34m\u001b[0m\u001b[0m\n\u001b[1;32m    347\u001b[0m             raise TypeError('the JSON object must be str, bytes or bytearray, '\n\u001b[0;32m--> 348\u001b[0;31m                             'not {!r}'.format(s.__class__.__name__))\n\u001b[0m\u001b[1;32m    349\u001b[0m         \u001b[0ms\u001b[0m \u001b[0;34m=\u001b[0m \u001b[0ms\u001b[0m\u001b[0;34m.\u001b[0m\u001b[0mdecode\u001b[0m\u001b[0;34m(\u001b[0m\u001b[0mdetect_encoding\u001b[0m\u001b[0;34m(\u001b[0m\u001b[0ms\u001b[0m\u001b[0;34m)\u001b[0m\u001b[0;34m,\u001b[0m \u001b[0;34m'surrogatepass'\u001b[0m\u001b[0;34m)\u001b[0m\u001b[0;34m\u001b[0m\u001b[0m\n\u001b[1;32m    350\u001b[0m \u001b[0;34m\u001b[0m\u001b[0m\n",
      "\u001b[0;31mTypeError\u001b[0m: the JSON object must be str, bytes or bytearray, not 'list'"
     ]
    }
   ],
   "source": [
    "import json\n",
    "\n",
    "annotations['skip_reasons'] = annotations['skip_reasons'].apply(lambda l: l if isinstance(l, float) else json.loads(l))\n",
    "annotations['skip_reasons']"
   ]
  },
  {
   "cell_type": "code",
   "execution_count": 77,
   "metadata": {},
   "outputs": [
    {
     "data": {
      "text/plain": [
       "array(['BLURRY', nan, 'BAD_CROP', 'BAD_ORIENTATION', 'OBSTRUCTION',\n",
       "       'CLEANER_FISH', 'TOO_DARK', 'LOSER_FISH', 'BAD_CROP_MANY_FISH',\n",
       "       'BAD_CROP_CUT_OFF', 'BACKSCATTER'], dtype=object)"
      ]
     },
     "execution_count": 77,
     "metadata": {},
     "output_type": "execute_result"
    }
   ],
   "source": [
    "all_skip_reasons = annotations['skip_reasons'].explode().unique()\n",
    "all_skip_reasons"
   ]
  },
  {
   "cell_type": "code",
   "execution_count": null,
   "metadata": {
    "scrolled": false
   },
   "outputs": [],
   "source": [
    "import matplotlib.pyplot as plt\n",
    "import numpy as np\n",
    "\n",
    "fig, axes = plt.subplots(nrows=len(all_skip_reasons), figsize=(5, len(all_skip_reasons)*5))\n",
    "\n",
    "skips = annotations[annotations['skip_reasons'].notnull()]\n",
    "\n",
    "reason_ratios = {col: [] for col in ['label', 'ratio']\n",
    "for i, label in enumerate(all_skip_reasons):\n",
    "    skips[f'{label}'] = skips['skip_reasons'].apply(lambda l: (label in l))\n",
    "    ratio = skips[f'{label}'].value_counts(normalize=True)[True]\n",
    "    reason_ratios['label'].append(label)\n",
    "    reason_ratios['ratio'].append(ratio)\n",
    "pd.Series(reason_ratios, index='label').plot.bar()"
   ]
  },
  {
   "cell_type": "code",
   "execution_count": 104,
   "metadata": {},
   "outputs": [
    {
     "name": "stderr",
     "output_type": "stream",
     "text": [
      "/home/user/miniconda/envs/py36/lib/python3.6/site-packages/ipykernel_launcher.py:21: FutureWarning: Sorting because non-concatenation axis is not aligned. A future version\n",
      "of pandas will change to not sort by default.\n",
      "\n",
      "To accept the future behavior, pass 'sort=False'.\n",
      "\n",
      "To retain the current behavior and silence the warning, pass 'sort=True'.\n",
      "\n"
     ]
    },
    {
     "name": "stdout",
     "output_type": "stream",
     "text": [
      "True     7039\n",
      "False    2961\n",
      "Name: skip_reasons, dtype: int64\n",
      "4    7000\n",
      "7    3000\n",
      "Name: annotation_state_id, dtype: int64\n",
      "True     7003\n",
      "False    2997\n",
      "Name: skip_reasons, dtype: int64\n",
      "4    7000\n",
      "7    3000\n",
      "Name: annotation_state_id, dtype: int64\n",
      "True     7003\n",
      "False    2997\n",
      "Name: skip_reasons, dtype: int64\n",
      "4    7000\n",
      "7    3000\n",
      "Name: annotation_state_id, dtype: int64\n",
      "True     7000\n",
      "False    3000\n",
      "Name: skip_reasons, dtype: int64\n",
      "4    7000\n",
      "7    3000\n",
      "Name: annotation_state_id, dtype: int64\n",
      "True     7000\n",
      "False    3000\n",
      "Name: skip_reasons, dtype: int64\n",
      "4    7000\n",
      "7    3000\n",
      "Name: annotation_state_id, dtype: int64\n"
     ]
    }
   ],
   "source": [
    "useful_labels = [\n",
    "    'BLURRY',\n",
    "    'BAD_CROP',\n",
    "    'BAD_ORIENTATION',\n",
    "    'OBSTRUCTION',\n",
    "    'TOO_DARK'\n",
    "]\n",
    "\n",
    "SAMPLE_SIZE = 10000\n",
    "SAMPLE_RATIO = 0.7\n",
    "\n",
    "for lab in useful_labels:\n",
    "    label_skips = skips[skips[lab] & (skips['annotation_state_id'] == 4)]\n",
    "    label_skips = label_skips[~label_skips.left_crop_url.duplicated()]\n",
    "    label_skips = label_skips.sample(int(SAMPLE_RATIO * SAMPLE_SIZE)) \n",
    "    \n",
    "    qa_accepts = annotations[annotations['annotation_state_id'] == 7]\n",
    "    qa_accepts = qa_accepts[~qa_accepts.left_crop_url.duplicated()]\n",
    "    qa_accepts = qa_accepts.sample(int((1-SAMPLE_RATIO) * SAMPLE_SIZE))\n",
    "    \n",
    "    skip_dataset = pd.concat([label_skips, qa_accepts])\n",
    "    print(skip_dataset.skip_reasons.apply(lambda s: (lab in str(s))).value_counts())\n",
    "    print(skip_dataset['annotation_state_id'].value_counts())\n",
    "    skip_dataset['label'] = skip_dataset['annotation_state_id'].apply(get_label)\n",
    "    out_path = f'/root/data/sid/skip_classifier_datasets/sampled_datasets/qa_accept_{lab}_skips_03-04-2020.csv'\n",
    "    skip_dataset.to_csv(out_path)"
   ]
  },
  {
   "cell_type": "code",
   "execution_count": null,
   "metadata": {},
   "outputs": [],
   "source": [
    "useful_labels = [\n",
    "    'BLURRY',\n",
    "    'BAD_CROP',\n",
    "    'BAD_ORIENTATION',\n",
    "    'OBSTRUCTION',\n",
    "    'TOO_DARK'\n",
    "]\n",
    "\n",
    "SAMPLE_SIZE = 10000\n",
    "SAMPLE_RATIO = 0.7\n",
    "\n",
    "for lab in useful_labels:\n",
    "    label_skips = skips[skips[lab] & (skips['annotation_state_id'] == 4)]\n",
    "    label_skips = label_skips[~label_skips.left_crop_url.duplicated()]\n",
    "    label_skips = label_skips.sample(int(SAMPLE_RATIO * SAMPLE_SIZE)) \n",
    "    \n",
    "    qa_accepts = annotations[annotations['annotation_state_id'] == 7]\n",
    "    qa_accepts = qa_accepts[~qa_accepts.left_crop_url.duplicated()]\n",
    "    qa_accepts = qa_accepts.sample(int((1-SAMPLE_RATIO) * SAMPLE_SIZE))\n",
    "    \n",
    "    skip_dataset = pd.concat([label_skips, qa_accepts])\n",
    "    print(skip_dataset.skip_reasons.apply(lambda s: (lab in str(s))).value_counts())\n",
    "    print(skip_dataset['annotation_state_id'].value_counts())\n",
    "    skip_dataset['label'] = skip_dataset['annotation_state_id'].apply(get_label)\n",
    "    out_path = f'/root/data/sid/skip_classifier_datasets/sampled_datasets/qa_accept_{lab}_skips_03-04-2020.csv'\n",
    "    skip_dataset.to_csv(out_path)"
   ]
  },
  {
   "cell_type": "code",
   "execution_count": 103,
   "metadata": {},
   "outputs": [
    {
     "name": "stderr",
     "output_type": "stream",
     "text": [
      "/home/user/miniconda/envs/py36/lib/python3.6/site-packages/IPython/core/interactiveshell.py:3058: DtypeWarning: Columns (1,2,3,4,5,6,7,8,9,10,11,21,28) have mixed types. Specify dtype option on import or set low_memory=False.\n",
      "  interactivity=interactivity, compiler=compiler, result=result)\n"
     ]
    },
    {
     "name": "stdout",
     "output_type": "stream",
     "text": [
      "100000\n",
      "100000\n",
      "100000\n",
      "100000\n",
      "100000\n"
     ]
    }
   ],
   "source": [
    "for lab in useful_labels:\n",
    "\n",
    "    out_path = f'/root/data/sid/skip_classifier_datasets/sampled_datasets/qa_accept_{lab}_skips_03-04-2020.csv'\n",
    "    print(len(pd.read_csv(out_path)))"
   ]
  },
  {
   "cell_type": "code",
   "execution_count": null,
   "metadata": {},
   "outputs": [],
   "source": []
  }
 ],
 "metadata": {
  "kernelspec": {
   "display_name": "Python 3",
   "language": "python",
   "name": "python3"
  },
  "language_info": {
   "codemirror_mode": {
    "name": "ipython",
    "version": 3
   },
   "file_extension": ".py",
   "mimetype": "text/x-python",
   "name": "python",
   "nbconvert_exporter": "python",
   "pygments_lexer": "ipython3",
   "version": "3.6.5"
  }
 },
 "nbformat": 4,
 "nbformat_minor": 2
}
