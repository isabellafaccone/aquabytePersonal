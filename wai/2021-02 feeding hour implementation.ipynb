{
 "cells": [
  {
   "cell_type": "markdown",
   "metadata": {},
   "source": [
    "# Optimal feeding hour\n",
    "\n",
    "An implementastion of the optimal feeding hour window by a histogram-based method.\n",
    "https://aquabyte.atlassian.net/wiki/spaces/Research/pages/950535038/1+16+21+-+Optimal+Feeding+Hours"
   ]
  },
  {
   "cell_type": "code",
   "execution_count": 1,
   "metadata": {},
   "outputs": [],
   "source": [
    "import numpy as np\n",
    "%matplotlib inline\n",
    "import matplotlib.pyplot as plt"
   ]
  },
  {
   "cell_type": "code",
   "execution_count": 31,
   "metadata": {},
   "outputs": [],
   "source": [
    "def estimate_feeding_hour(hour_array):\n",
    "    \"\"\"\n",
    "    Find the contiguous set of hours where the count in that hour is greater than\n",
    "    total count/ 18 starting a search at hour 10 between hours 3 and 20 inclusive\n",
    "\n",
    "    https://aquabyte.atlassian.net/wiki/spaces/Research/pages/950535038/1+16+21+-+Optimal+Feeding+Hours\n",
    "\n",
    "    @param hour_array - Array of hour in integer\n",
    "\n",
    "    @returns start, end hour (exclusive), included_count\n",
    "    \"\"\"\n",
    "    counts = np.bincount(hour_array, minlength=24)\n",
    "\n",
    "    # truncate data to hour 3..20\n",
    "    counts[:3] = 0\n",
    "    counts[21:] = 0\n",
    "\n",
    "    pct = counts / counts.sum()\n",
    "    threshold = 1/18\n",
    "    anchor_hour = 10\n",
    "\n",
    "    # check assumption that hour 10 is within feeding hour\n",
    "    if pct[anchor_hour] < threshold:\n",
    "        return 0, 0, 0\n",
    "    \n",
    "    # find interval [i..j) of contiguous hours over threshold anchored at 10\n",
    "    # note: i and j will be within the 24 hour range because count are truncated to 3..20\n",
    "    for i in reversed(range(0, anchor_hour)):\n",
    "        if pct[i] < threshold:\n",
    "            i += 1\n",
    "            break\n",
    "    for j in range(anchor_hour, len(pct)):\n",
    "        if pct[j] < threshold:\n",
    "            break\n",
    "\n",
    "    included_count = counts[i:j].sum()\n",
    "\n",
    "    return i, j, included_count\n"
   ]
  },
  {
   "cell_type": "code",
   "execution_count": 32,
   "metadata": {},
   "outputs": [
    {
     "data": {
      "image/png": "[encoded data removed]",
      "text/plain": [
       "<Figure size 432x288 with 1 Axes>"
      ]
     },
     "metadata": {
      "needs_background": "light"
     },
     "output_type": "display_data"
    }
   ],
   "source": [
    "# Testing\n",
    "\n",
    "# synthetic data\n",
    "a = np.random.normal(11, scale=2.5, size=5000)\n",
    "a = a.clip(0,24).astype(int)\n",
    "\n",
    "start, end, included_count = estimate_feeding_hour(a)\n",
    "\n",
    "# visualize\n",
    "counts = np.bincount(a, minlength=24)\n",
    "threshold = counts[3:21].sum() / 18\n",
    "plt.hist(a, bins=24, range=(0,24), width=0.8)\n",
    "plt.axhline(threshold, c='grey')\n",
    "plt.title(f'estimate_feeding_hour -> [{start}..{end}); samples {len(a)} -> {included_count}');"
   ]
  },
  {
   "cell_type": "code",
   "execution_count": 29,
   "metadata": {},
   "outputs": [],
   "source": [
    "# real data\n",
    "counts = np.array([  61, 78, 70, 59, 59, 76, 113, 63,  293, 1150, 1511, 1151,  847,  564, 314,  111,  146,  107,   57,   60,   84,   78,  103,  117])\n",
    "c = []\n",
    "for i in range(24):\n",
    "    c.extend([i]*counts[i])\n",
    "a = np.array(c)"
   ]
  },
  {
   "cell_type": "code",
   "execution_count": 30,
   "metadata": {},
   "outputs": [
    {
     "data": {
      "image/png": "[encoded data removed]",
      "text/plain": [
       "<Figure size 432x288 with 1 Axes>"
      ]
     },
     "metadata": {
      "needs_background": "light"
     },
     "output_type": "display_data"
    }
   ],
   "source": [
    "start, end, included_count = estimate_feeding_hour(a)\n",
    "\n",
    "# visualize\n",
    "counts = np.bincount(a, minlength=24)\n",
    "threshold = counts[3:21].sum() / 18\n",
    "plt.hist(a, bins=24, range=(0,24), width=0.8)\n",
    "plt.axhline(threshold, c='grey')\n",
    "plt.title(f'estimate_feeding_hour -> [{start}..{end}); samples {len(a)} -> {included_count}');"
   ]
  },
  {
   "cell_type": "code",
   "execution_count": null,
   "metadata": {},
   "outputs": [],
   "source": []
  }
 ],
 "metadata": {
  "kernelspec": {
   "display_name": "wai",
   "language": "python",
   "name": "wai"
  },
  "language_info": {
   "codemirror_mode": {
    "name": "ipython",
    "version": 3
   },
   "file_extension": ".py",
   "mimetype": "text/x-python",
   "name": "python",
   "nbconvert_exporter": "python",
   "pygments_lexer": "ipython3",
   "version": "3.7.8"
  }
 },
 "nbformat": 4,
 "nbformat_minor": 4
}
