{
 "cells": [
  {
   "cell_type": "code",
   "execution_count": 1,
   "metadata": {},
   "outputs": [],
   "source": [
    "'''\n",
    "Reads in the ORB descriptor data and trains a SVM classifier\n",
    "'''\n",
    "\n",
    "import os\n",
    "import lib.svm as svm\n",
    "import lib.utils as utils\n",
    "import matplotlib.pyplot as plt\n",
    "\n",
    "base_directory = '/root/bryton/aquabyte_sealice'\n",
    "\n",
    "annotations_file = '%s/annotations.csv' % (base_directory, )\n",
    "\n",
    "model_directory = '%s/models' % (base_directory, )\n",
    "orb_output_directory = '%s/orb_output' % (base_directory, )\n",
    "svm_output_directory = '%s/svm_output' % (base_directory, )\n",
    "descriptor_type = 'ORB'\n",
    "train_indices = [0, 1, 2, 3, 4, 5, 6, 7, 8, 9, 10]\n",
    "\n",
    "try: \n",
    "    os.makedirs(svm_output_directory)\n",
    "except OSError:\n",
    "    if not os.path.isdir(svm_output_directory):\n",
    "        raise"
   ]
  },
  {
   "cell_type": "code",
   "execution_count": 3,
   "metadata": {},
   "outputs": [
    {
     "name": "stdout",
     "output_type": "stream",
     "text": [
      "Adding 8 lice feature descriptors: 1 -> 9\n",
      "Adding 18 lice feature descriptors: 9 -> 27\n",
      "Adding 13 lice feature descriptors: 27 -> 40\n",
      "Adding 10 lice feature descriptors: 40 -> 50\n",
      "Adding 26 lice feature descriptors: 50 -> 76\n",
      "Adding 14 lice feature descriptors: 76 -> 90\n",
      "Adding 15 lice feature descriptors: 90 -> 105\n",
      "Adding 19 lice feature descriptors: 105 -> 124\n",
      "Adding 23 lice feature descriptors: 124 -> 147\n",
      "Adding 17 lice feature descriptors: 147 -> 164\n",
      "Adding 12 lice feature descriptors: 164 -> 176\n",
      "176 lice feature descriptors\n",
      "Adding 10 nonlice feature descriptors: 1 -> 11\n",
      "Adding 7 nonlice feature descriptors: 11 -> 18\n",
      "Adding 12 nonlice feature descriptors: 18 -> 30\n",
      "Adding 15 nonlice feature descriptors: 30 -> 45\n",
      "Adding 4 nonlice feature descriptors: 45 -> 49\n",
      "Adding 4 nonlice feature descriptors: 49 -> 53\n",
      "Adding 9 nonlice feature descriptors: 53 -> 62\n",
      "Adding 7 nonlice feature descriptors: 62 -> 69\n",
      "Adding 8 nonlice feature descriptors: 69 -> 77\n",
      "76 nonlice feature descriptors\n",
      "Training model\n",
      "Saving SVM model at /root/bryton/aquabyte_sealice/models/sealice_detection_ORB_SVM_model_20180506-180148.yml\n",
      "/root/bryton/aquabyte_sealice/models/sealice_detection_ORB_SVM_model_20180506-180148.yml\n",
      "Processing frame 0 of 20\n",
      "Processing frame 10 of 20\n",
      "Processing frame 0 of 20\n",
      "Processing frame 10 of 20\n",
      "Processing frame 0 of 20\n",
      "Processing frame 10 of 20\n",
      "Processing frame 0 of 20\n",
      "Processing frame 10 of 20\n",
      "Processing frame 0 of 20\n",
      "Processing frame 10 of 20\n",
      "Processing frame 0 of 20\n",
      "Processing frame 10 of 20\n",
      "Processing frame 0 of 20\n",
      "Processing frame 10 of 20\n",
      "Processing frame 0 of 20\n",
      "Processing frame 10 of 20\n",
      "Processing frame 0 of 20\n",
      "Processing frame 10 of 20\n",
      "Processing frame 0 of 20\n",
      "Processing frame 10 of 20\n"
     ]
    },
    {
     "data": {
      "image/png": "[encoded data removed]",
      "text/plain": [
       "<matplotlib.figure.Figure at 0x7f26d1d99b50>"
      ]
     },
     "metadata": {},
     "output_type": "display_data"
    }
   ],
   "source": [
    "sealice_SVM_trainer = svm.SealiceSVMTrainer(model_directory, orb_output_directory, svm_output_directory, descriptor_type, train_indices)\n",
    "\n",
    "svm_model_filepath = sealice_SVM_trainer.prepare_data_and_train(True)\n",
    "\n",
    "print svm_model_filepath\n",
    "\n",
    "precision_list = []\n",
    "recall_list = []\n",
    "\n",
    "annotations = utils.get_lice_annotations_from_file(annotations_file)\n",
    "\n",
    "for i in xrange(10):\n",
    "    annotations_subset = annotations[20 * i: 20 * (i + 1)]\n",
    "    results = svm.predict_sealice(svm_model_filepath, annotations_subset, False)\n",
    "\n",
    "    precision_list.append(results['precision'])\n",
    "    recall_list.append(results['recall'])\n",
    "\n",
    "plt.plot(precision_list, recall_list, 'ro')\n",
    "plt.xlabel('Precision')\n",
    "plt.ylabel('Recall')\n",
    "\n",
    "plt.show()"
   ]
  },
  {
   "cell_type": "code",
   "execution_count": null,
   "metadata": {},
   "outputs": [],
   "source": []
  },
  {
   "cell_type": "code",
   "execution_count": null,
   "metadata": {},
   "outputs": [],
   "source": []
  }
 ],
 "metadata": {
  "kernelspec": {
   "display_name": "Python 2",
   "language": "python",
   "name": "python2"
  },
  "language_info": {
   "codemirror_mode": {
    "name": "ipython",
    "version": 2
   },
   "file_extension": ".py",
   "mimetype": "text/x-python",
   "name": "python",
   "nbconvert_exporter": "python",
   "pygments_lexer": "ipython2",
   "version": "2.7.12"
  }
 },
 "nbformat": 4,
 "nbformat_minor": 2
}
