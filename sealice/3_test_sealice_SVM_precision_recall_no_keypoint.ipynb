{
 "cells": [
  {
   "cell_type": "code",
   "execution_count": 4,
   "metadata": {},
   "outputs": [],
   "source": [
    "'''\n",
    "Predicts sea lice using a pre-trained SVM\n",
    "Gives precision and recall numbers\n",
    "'''\n",
    "\n",
    "import lib.utils as utils\n",
    "import lib.svm as svm"
   ]
  },
  {
   "cell_type": "code",
   "execution_count": 2,
   "metadata": {},
   "outputs": [],
   "source": [
    "base_directory = '/root/bryton/aquabyte_sealice'\n",
    "\n",
    "annotations_file = '%s/annotations.csv' % (base_directory, )\n",
    "#svm_model_filepath = '%s/models/sealice_detection_ORB_SVM_model.yml' % (base_directory, )\n",
    "svm_model_filepath = '%s/models/sealice_detection_ORB_SVM_model_20180506-131138.yml' % (base_directory, )"
   ]
  },
  {
   "cell_type": "code",
   "execution_count": 3,
   "metadata": {},
   "outputs": [
    {
     "name": "stdout",
     "output_type": "stream",
     "text": [
      "Processing frame 0 of 20\n",
      "Processing frame 10 of 20\n",
      "Precision = 1.00, Recall = 0.50\n",
      "Num lice: 18\n",
      "Num nonlice: 0\n",
      "Num true positive lice: 9\n",
      "Num false negative lice: 9\n",
      "Num true negative nonlice: 0\n",
      "Num false positive nonlice: 0\n",
      "Wait for the images...\n"
     ]
    }
   ],
   "source": [
    "annotations = utils.get_lice_annotations_from_file(annotations_file)[0:20]\n",
    "\n",
    "results = svm.predict_sealice(svm_model_filepath, annotations, False)\n",
    "\n",
    "print 'Precision = %0.2f, Recall = %0.2f' % (results['precision'], results['recall'])\n",
    "print 'Num lice: %i' % (results['num_lice'], )\n",
    "print 'Num nonlice: %i' % (results['num_nonlice'], )\n",
    "print 'Num true positive lice: %i' % (results['lice_true_positive'], )\n",
    "print 'Num false negative lice: %i' % (results['lice_false_negative'], )\n",
    "print 'Num true negative nonlice: %i' % (results['nonlice_true_negative'], )\n",
    "print 'Num false positive nonlice: %i' % (results['nonlice_false_positive'], )"
   ]
  },
  {
   "cell_type": "code",
   "execution_count": null,
   "metadata": {},
   "outputs": [],
   "source": []
  }
 ],
 "metadata": {
  "kernelspec": {
   "display_name": "Python 2",
   "language": "python",
   "name": "python2"
  },
  "language_info": {
   "codemirror_mode": {
    "name": "ipython",
    "version": 2
   },
   "file_extension": ".py",
   "mimetype": "text/x-python",
   "name": "python",
   "nbconvert_exporter": "python",
   "pygments_lexer": "ipython2",
   "version": "2.7.12"
  }
 },
 "nbformat": 4,
 "nbformat_minor": 2
}
