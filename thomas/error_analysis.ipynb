{
 "cells": [
  {
   "cell_type": "code",
   "execution_count": null,
   "metadata": {},
   "outputs": [],
   "source": [
    "import matplotlib.pyplot as plt\n",
    "import numpy as np\n",
    "from PIL import Image, ImageDraw\n",
    "import os\n",
    "import glob\n",
    "import json"
   ]
  },
  {
   "cell_type": "code",
   "execution_count": null,
   "metadata": {},
   "outputs": [],
   "source": [
    "# get the predictions \n",
    "left_predictions = sorted(glob.glob('/root/data/pipeliner_outputs/biomass/*/input/left*.predictions.json'))\n",
    "right_predictions = sorted(glob.glob('/root/data/pipeliner_outputs/biomass/*/input/right*.predictions.json'))"
   ]
  },
  {
   "cell_type": "code",
   "execution_count": null,
   "metadata": {},
   "outputs": [],
   "source": [
    "# and the corresponding plots\n",
    "left_plots = sorted(glob.glob('/root/data/pipeliner_outputs/biomass/*/input/left*plot.jpg'))\n",
    "right_plots = sorted(glob.glob('/root/data/pipeliner_outputs/biomass/*/input/right*plot.jpg'))"
   ]
  },
  {
   "cell_type": "code",
   "execution_count": null,
   "metadata": {},
   "outputs": [],
   "source": [
    "# and the corresponding inputs\n",
    "left_frames = sorted(glob.glob('/root/data/pipeliner_outputs/biomass/*/input/left_frame.jpg'))\n",
    "right_frames = sorted(glob.glob('/root/data/pipeliner_outputs/biomass/*/input/right_frame.jpg'))"
   ]
  },
  {
   "cell_type": "code",
   "execution_count": null,
   "metadata": {},
   "outputs": [],
   "source": [
    "random_index = np.random.randint(0, high=len(left_predictions)+1)\n",
    "print(left_frames[random_index], right_frames[random_index])\n",
    "f, ax = plt.subplots(1, 2, figsize=(20, 10))\n",
    "ax[0].imshow(Image.open(left_frames[random_index]))\n",
    "ax[1].imshow(Image.open(right_frames[random_index]))\n",
    "plt.show()\n",
    "\n",
    "f, ax = plt.subplots(1, 2, figsize=(20, 10))\n",
    "ax[0].imshow(Image.open(left_plots[random_index]))\n",
    "ax[1].imshow(Image.open(right_plots[random_index]))\n",
    "plt.show()"
   ]
  },
  {
   "cell_type": "code",
   "execution_count": null,
   "metadata": {},
   "outputs": [],
   "source": []
  },
  {
   "cell_type": "code",
   "execution_count": null,
   "metadata": {},
   "outputs": [],
   "source": []
  },
  {
   "cell_type": "code",
   "execution_count": null,
   "metadata": {},
   "outputs": [],
   "source": []
  },
  {
   "cell_type": "code",
   "execution_count": null,
   "metadata": {},
   "outputs": [],
   "source": []
  },
  {
   "cell_type": "code",
   "execution_count": null,
   "metadata": {},
   "outputs": [],
   "source": [
    "biomass_json = glob.glob('/root/data/pipeliner_outputs/biomass/*/input/biomass.json')"
   ]
  },
  {
   "cell_type": "code",
   "execution_count": null,
   "metadata": {},
   "outputs": [],
   "source": [
    "all_biomass = []\n",
    "for jsonfile in biomass_json:\n",
    "    results = json.load(open(jsonfile))\n",
    "    all_biomass += results['biomass']"
   ]
  },
  {
   "cell_type": "code",
   "execution_count": null,
   "metadata": {},
   "outputs": [],
   "source": [
    "plt.hist(all_biomass)\n",
    "plt.show()"
   ]
  },
  {
   "cell_type": "code",
   "execution_count": null,
   "metadata": {},
   "outputs": [],
   "source": []
  }
 ],
 "metadata": {
  "kernelspec": {
   "display_name": "Python 2",
   "language": "python",
   "name": "python2"
  },
  "language_info": {
   "codemirror_mode": {
    "name": "ipython",
    "version": 2
   },
   "file_extension": ".py",
   "mimetype": "text/x-python",
   "name": "python",
   "nbconvert_exporter": "python",
   "pygments_lexer": "ipython2",
   "version": "2.7.12"
  }
 },
 "nbformat": 4,
 "nbformat_minor": 2
}
