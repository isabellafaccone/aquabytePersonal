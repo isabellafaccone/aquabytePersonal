{
 "cells": [
  {
   "cell_type": "code",
   "execution_count": null,
   "metadata": {},
   "outputs": [],
   "source": [
    "import matplotlib.pyplot as plt\n",
    "import pandas as pd\n",
    "import numpy as np"
   ]
  },
  {
   "cell_type": "code",
   "execution_count": null,
   "metadata": {},
   "outputs": [],
   "source": [
    "time = pd.read_csv('./combined_2016_2018.csv')"
   ]
  },
  {
   "cell_type": "code",
   "execution_count": null,
   "metadata": {},
   "outputs": [],
   "source": [
    "time.head()"
   ]
  },
  {
   "cell_type": "markdown",
   "metadata": {},
   "source": [
    "Pick one and plot"
   ]
  },
  {
   "cell_type": "code",
   "execution_count": null,
   "metadata": {},
   "outputs": [],
   "source": [
    "locs = list(set(time['localityNo']))"
   ]
  },
  {
   "cell_type": "code",
   "execution_count": null,
   "metadata": {},
   "outputs": [],
   "source": [
    "randomLoc = np.random.choice(locs)\n",
    "print(randomLoc)\n",
    "randomLoc = 30977\n",
    "week = time[time['localityNo'] == randomLoc]['week']\n",
    "year = time[time['localityNo'] == randomLoc]['year']\n",
    "\n",
    "hasMechanicalRemoval = np.array(time[time['localityNo'] == randomLoc]['hasMechanicalRemoval'])\n",
    "hasBathTreatment = np.array(time[time['localityNo'] == randomLoc]['hasBathTreatment'])\n",
    "hasInFeedTreatment = np.array(time[time['localityNo'] == randomLoc]['hasInFeedTreatment'])\n",
    "hasCleanerFishDeployed = np.array(time[time['localityNo'] == randomLoc]['hasCleanerFishDeployed'])\n",
    "\n",
    "weeks = []\n",
    "for (w, y) in zip(week, year):\n",
    "    weeks.append(w + (y-2016)*52)\n",
    "\n",
    "# treatment = hasMechanicalRemoval + hasBathTreatment + hasInFeedTreatment + hasCleanerFishDeployed\n",
    "# week_treated = np.where(treatment >0)[0]\n",
    "avgAdultFemaleLice = time[time['localityNo'] == randomLoc]['avgAdultFemaleLice']"
   ]
  },
  {
   "cell_type": "code",
   "execution_count": null,
   "metadata": {},
   "outputs": [],
   "source": [
    "list(avgAdultFemaleLice)"
   ]
  },
  {
   "cell_type": "code",
   "execution_count": null,
   "metadata": {},
   "outputs": [],
   "source": [
    "plt.figure(figsize=(20, 10))\n",
    "plt.plot(weeks, avgAdultFemaleLice, 'k')\n",
    "for i in range(len(weeks)):\n",
    "    if hasMechanicalRemoval[i]:\n",
    "        plt.plot([weeks[i], weeks[i]], [0, 1], 'r')\n",
    "    if hasBathTreatment[i]:\n",
    "        plt.plot([weeks[i], weeks[i]], [0, 1], 'g')\n",
    "    if hasInFeedTreatment[i]:\n",
    "        plt.plot([weeks[i], weeks[i]], [0, 1], 'b')\n",
    "    if hasCleanerFishDeployed[i]:\n",
    "        plt.plot([weeks[i], weeks[i]], [0, 1], 'y')\n",
    "    # plt.plot([weeks[i], weeks[i]], [0, 1], 'r')\n",
    "plt.xlim([0, 156])\n",
    "\n",
    "labels = ['201{}-'.format(j) + str(i) for j in range(6, 9) for i in range(0, 52)]\n",
    "# plt.xlabel(labels[::4])\n",
    "plt.xticks(range(0, 156, 4), labels[::4], rotation='vertical')\n",
    "plt.show()"
   ]
  },
  {
   "cell_type": "markdown",
   "metadata": {},
   "source": [
    "Plot multiples"
   ]
  },
  {
   "cell_type": "code",
   "execution_count": null,
   "metadata": {},
   "outputs": [],
   "source": [
    "# labels = ['201{}-'.format(j) + str(i) for j in range(6, 9) for i in range(0, 52)]\n",
    "\n",
    "# for _ in range(10):\n",
    "#     plt.figure(figsize=(20, 5))\n",
    "#     randomLoc = np.random.choice(locs)\n",
    "#     week = time[time['localityNo'] == randomLoc]['week']\n",
    "#     year = time[time['localityNo'] == randomLoc]['year']\n",
    "    \n",
    "#     hasMechanicalRemoval = np.array(time[time['localityNo'] == randomLoc]['hasMechanicalRemoval'])\n",
    "#     hasBathTreatment = np.array(time[time['localityNo'] == randomLoc]['hasBathTreatment'])\n",
    "#     hasInFeedTreatment = np.array(time[time['localityNo'] == randomLoc]['hasInFeedTreatment'])\n",
    "#     hasCleanerFishDeployed = np.array(time[time['localityNo'] == randomLoc]['hasCleanerFishDeployed'])\n",
    "    \n",
    "#     weeks = []\n",
    "#     for (w, y) in zip(week, year):\n",
    "#         weeks.append(w + (y-2016)*52)\n",
    "#     avgAdultFemaleLice = time[time['localityNo'] == randomLoc]['avgAdultFemaleLice']\n",
    "    \n",
    "#     plt.plot(weeks, avgAdultFemaleLice, 'k')\n",
    "#     ymax = np.max(avgAdultFemaleLice)\n",
    "#     for i in range(len(weeks)):\n",
    "#         if hasMechanicalRemoval[i]:\n",
    "#             plt.plot([weeks[i], weeks[i]], [0, ymax], 'r')\n",
    "#         if hasBathTreatment[i]:\n",
    "#             plt.plot([weeks[i], weeks[i]], [0, ymax], 'g')\n",
    "#         if hasInFeedTreatment[i]:\n",
    "#             plt.plot([weeks[i], weeks[i]], [0, ymax], 'b')\n",
    "#         if hasCleanerFishDeployed[i]:\n",
    "#             plt.plot([weeks[i], weeks[i]], [0, ymax], 'y')\n",
    "#     plt.xlim([0, 156])\n",
    "#     plt.xticks(range(0, 156, 4), labels[::4], rotation='vertical')\n",
    "#     plt.show()"
   ]
  },
  {
   "cell_type": "markdown",
   "metadata": {},
   "source": [
    "Create dataset"
   ]
  },
  {
   "cell_type": "code",
   "execution_count": null,
   "metadata": {},
   "outputs": [],
   "source": [
    "import random\n",
    "from sklearn.preprocessing import MinMaxScaler\n",
    "random.seed(0)"
   ]
  },
  {
   "cell_type": "markdown",
   "metadata": {},
   "source": [
    "some stuff"
   ]
  },
  {
   "cell_type": "code",
   "execution_count": null,
   "metadata": {},
   "outputs": [],
   "source": [
    "n_in = 10 # input sequence length\n",
    "n_pred = 4 # predictions for 4 weeks\n",
    "locs = list(set(time['localityNo'])) \n",
    "print(\"Number of unique location : {}\".format(len(locs)))\n",
    "random.shuffle(locs)\n",
    "cutoff = int(0.8*len(locs))\n",
    "train = locs[:cutoff]\n",
    "test = locs[cutoff:]\n",
    "print('Number of train locs: {}'.format(len(train)))\n",
    "print('Number of test locs: {}'.format(len(test)))"
   ]
  },
  {
   "cell_type": "markdown",
   "metadata": {},
   "source": [
    "function to create dataset"
   ]
  },
  {
   "cell_type": "code",
   "execution_count": null,
   "metadata": {},
   "outputs": [],
   "source": [
    "def find_sequence(data, length):\n",
    "    all_seqs = []\n",
    "    seq = [0]\n",
    "    for i in range(1, len(data)):\n",
    "        if len(seq) == length:\n",
    "            all_seqs.append(seq)\n",
    "            seq = seq[1:]\n",
    "        if data[i]-1 == data[i-1]:\n",
    "            # seq \n",
    "            seq.append(i)\n",
    "        else:\n",
    "            seq = [i]\n",
    "#     if len(seq) == length:\n",
    "#         all_seqs.append(seq)\n",
    "    return all_seqs"
   ]
  },
  {
   "cell_type": "code",
   "execution_count": null,
   "metadata": {},
   "outputs": [],
   "source": [
    "find_sequence(list(range(10, 20))+list(range(30, 40)), 8)"
   ]
  },
  {
   "cell_type": "code",
   "execution_count": null,
   "metadata": {},
   "outputs": [],
   "source": [
    "def difference(dataset, interval=1):\n",
    "    diff = list()\n",
    "    for i in range(interval, len(dataset)):\n",
    "        value = dataset[i] - dataset[i - interval]\n",
    "        diff.append(value)\n",
    "    return np.array(diff)"
   ]
  },
  {
   "cell_type": "code",
   "execution_count": null,
   "metadata": {},
   "outputs": [],
   "source": [
    "def create_supervised(df, loc, n_in=8, n_pred=4):\n",
    "    week = df[df['localityNo'] == loc]['week']\n",
    "    year = df[df['localityNo'] == loc]['year']\n",
    "    avgAdultFemaleLice = list(df[df['localityNo'] == loc]['avgAdultFemaleLice'])\n",
    "\n",
    "    # remove trend\n",
    "    avgAdultFemaleLice = difference(avgAdultFemaleLice)\n",
    "    if len(avgAdultFemaleLice) == 0:\n",
    "        return [], []\n",
    "    # scale\n",
    "    scaler = MinMaxScaler(feature_range=(0, 1))\n",
    "    avgAdultFemaleLice = scaler.fit_transform(np.expand_dims(avgAdultFemaleLice, axis=1))\n",
    "    \n",
    "    # get the weeks\n",
    "    weeks = []\n",
    "    for (w, ye) in zip(week, year):\n",
    "        weeks.append(w + (ye-2016)*52)\n",
    "    \n",
    "    # find all the sequences of length n_in + n_pred\n",
    "    consec_weeks = find_sequence(weeks, n_in+n_pred)\n",
    "    # print(len(consec_weeks))\n",
    "    X = []\n",
    "    y = []\n",
    "    for we in consec_weeks:\n",
    "        X.append([avgAdultFemaleLice[idx]  for idx in we[:n_in]])\n",
    "        y.append([avgAdultFemaleLice[idx]  for idx in we[n_in:]])\n",
    "    \n",
    "    return np.array(X), np.array(y)"
   ]
  },
  {
   "cell_type": "code",
   "execution_count": null,
   "metadata": {},
   "outputs": [],
   "source": [
    "consec_weeks = find_sequence(weeks, 8)"
   ]
  },
  {
   "cell_type": "code",
   "execution_count": null,
   "metadata": {},
   "outputs": [],
   "source": [
    "# test on one example\n",
    "x, y = create_supervised(time, 10054, 10)\n",
    "print(x.shape)\n",
    "plt.plot(range(10), x[0, :])\n",
    "plt.plot(range(10, 14, 1), y[0, :], 'r')\n",
    "plt.show()"
   ]
  },
  {
   "cell_type": "markdown",
   "metadata": {},
   "source": [
    "Create model"
   ]
  },
  {
   "cell_type": "code",
   "execution_count": null,
   "metadata": {},
   "outputs": [],
   "source": []
  },
  {
   "cell_type": "code",
   "execution_count": null,
   "metadata": {},
   "outputs": [],
   "source": []
  },
  {
   "cell_type": "code",
   "execution_count": null,
   "metadata": {},
   "outputs": [],
   "source": []
  },
  {
   "cell_type": "code",
   "execution_count": null,
   "metadata": {},
   "outputs": [],
   "source": []
  },
  {
   "cell_type": "code",
   "execution_count": null,
   "metadata": {},
   "outputs": [],
   "source": []
  }
 ],
 "metadata": {
  "kernelspec": {
   "display_name": "Python 3",
   "language": "python",
   "name": "python3"
  },
  "language_info": {
   "codemirror_mode": {
    "name": "ipython",
    "version": 3
   },
   "file_extension": ".py",
   "mimetype": "text/x-python",
   "name": "python",
   "nbconvert_exporter": "python",
   "pygments_lexer": "ipython3",
   "version": "3.5.2"
  }
 },
 "nbformat": 4,
 "nbformat_minor": 2
}
