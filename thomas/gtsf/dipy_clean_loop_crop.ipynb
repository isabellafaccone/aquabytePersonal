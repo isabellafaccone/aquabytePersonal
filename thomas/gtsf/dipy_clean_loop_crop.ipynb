{
 "cells": [
  {
   "cell_type": "markdown",
   "metadata": {},
   "source": [
    "Load some utils function + annotations first"
   ]
  },
  {
   "cell_type": "code",
   "execution_count": null,
   "metadata": {},
   "outputs": [],
   "source": [
    "%load_ext autoreload\n",
    "%autoreload 2"
   ]
  },
  {
   "cell_type": "code",
   "execution_count": null,
   "metadata": {},
   "outputs": [],
   "source": [
    "import json\n",
    "from utils import load_image_annotations, display_image_with_keypoints"
   ]
  },
  {
   "cell_type": "code",
   "execution_count": null,
   "metadata": {},
   "outputs": [],
   "source": [
    "annotations = json.load(open(\"/root/data/gtsf_2.0/registration_test/gtsf_in_air_labels.json\"))"
   ]
  },
  {
   "cell_type": "markdown",
   "metadata": {},
   "source": [
    "In this example, we are going to load ~10 images as reference and use the mean of prediction to get the keypoints"
   ]
  },
  {
   "cell_type": "code",
   "execution_count": null,
   "metadata": {},
   "outputs": [],
   "source": [
    "import numpy as np"
   ]
  },
  {
   "cell_type": "code",
   "execution_count": null,
   "metadata": {},
   "outputs": [],
   "source": [
    "reference_masks = []\n",
    "reference_kp = []\n",
    "reference_images = []\n",
    "reference_names = []\n",
    "for ann in annotations:\n",
    "    masked_image, static_mask, keypoints = load_image_annotations(ann, new_shape=(512, 512))\n",
    "    reference_images.append(masked_image)\n",
    "    reference_masks.append(static_mask)\n",
    "    reference_kp.append(keypoints)\n",
    "    reference_names.append(ann[\"External ID\"])"
   ]
  },
  {
   "cell_type": "code",
   "execution_count": null,
   "metadata": {},
   "outputs": [],
   "source": [
    "# import matplotlib.pyplot as plt\n",
    "\n",
    "# plt.imshow(static_mask)\n",
    "# for (kp, v) in keypoints.items():\n",
    "#     _map = v[\"map\"]\n",
    "#     coord = np.where(_map > 0)\n",
    "#     plt.scatter(coord[0], coord[1])\n",
    "# plt.show()"
   ]
  },
  {
   "cell_type": "code",
   "execution_count": null,
   "metadata": {},
   "outputs": [],
   "source": [
    "# plt.imshow(static_mask)\n",
    "# for (kp, v) in keypoints.items():\n",
    "#     coord = v[\"coord\"]\n",
    "#     print(coord)\n",
    "#     plt.scatter(coord[0], coord[1])\n",
    "# plt.show()"
   ]
  },
  {
   "cell_type": "code",
   "execution_count": null,
   "metadata": {},
   "outputs": [],
   "source": [
    "print(\"Number of reference images: {}\".format(len(reference_masks)))"
   ]
  },
  {
   "cell_type": "markdown",
   "metadata": {},
   "source": [
    "Looping through all the examples."
   ]
  },
  {
   "cell_type": "code",
   "execution_count": null,
   "metadata": {},
   "outputs": [],
   "source": [
    "from copy import copy\n",
    "\n",
    "from dipy.viz import regtools\n",
    "\n",
    "from utils import translate_moving, register, display_warped_keypoints, display_pairs_with_keypoints, calculate_errors\n",
    "from utils import display_keypoints_gt_pred\n",
    "from utils import create_mask\n",
    "import glob\n",
    "import matplotlib.pyplot as plt\n",
    "import cv2\n",
    "import json\n",
    "import numpy as np"
   ]
  },
  {
   "cell_type": "code",
   "execution_count": null,
   "metadata": {},
   "outputs": [],
   "source": [
    "display = False\n",
    "# min_hsv = (50, 100, 100)\n",
    "# max_hsv = (80, 255, 255)\n",
    "min_hsv = (80, 20, 15)\n",
    "max_hsv = (150, 260, 120)"
   ]
  },
  {
   "cell_type": "code",
   "execution_count": null,
   "metadata": {},
   "outputs": [],
   "source": [
    "import random"
   ]
  },
  {
   "cell_type": "code",
   "execution_count": null,
   "metadata": {},
   "outputs": [],
   "source": [
    "files = glob.glob(\"/root/data/phase_I/small-pen-test-site/1/2019-03-18/*/raw/*\")\n",
    "# random.shuffle(files)"
   ]
  },
  {
   "cell_type": "code",
   "execution_count": null,
   "metadata": {},
   "outputs": [],
   "source": [
    "from skimage.measure import label"
   ]
  },
  {
   "cell_type": "code",
   "execution_count": null,
   "metadata": {},
   "outputs": [],
   "source": [
    "all_images = []\n",
    "for f in files:\n",
    "    print(f)\n",
    "    # first let's create the mask\n",
    "    image, mask = create_mask(f, min_hsv, max_hsv)\n",
    "    \n",
    "    # flip cause reference are facing right\n",
    "    image = np.fliplr(image)\n",
    "    mask = np.fliplr(mask)\n",
    "    \n",
    "    moving_mask = np.array(mask, dtype=np.uint8)\n",
    "    \n",
    "#     mask = cv2.dilate(mask, np.ones((5, 5)))\n",
    "#     moving_mask = cv2.erode(mask, np.ones((5, 5)))    \n",
    "    \n",
    "#     # we assume perfect mask \n",
    "#     m = cv2.imread(\"/root/data/gtsf_2.0/mask.png\")\n",
    "#     m[m>0] = 1\n",
    "#     m = m[..., 0]\n",
    "#     moving_mask = cv2.resize(m, (512, 512))\n",
    "    \n",
    "#     print(f)\n",
    "#     plt.figure(figsize=(5, 5))\n",
    "#     plt.imshow(image*np.expand_dims(moving_mask, axis=2))\n",
    "#     plt.show()\n",
    "#     continue\n",
    "    \n",
    "    total_kp = np.zeros_like(mask)\n",
    "    kpdic = {}\n",
    "    kpdic[\"image_path\"] = f\n",
    "    \n",
    "    # loop through the reference map\n",
    "    for idx in range(len(reference_masks)):\n",
    "        kpdic[\"reference_name\"] = reference_names[idx]\n",
    "        static_mask = reference_masks[idx]\n",
    "#         regtools.overlay_images(static_mask, \n",
    "#                                 moving_mask, \n",
    "#                                 'Static', 'Overlay', 'Moving', 'input_images.png')\n",
    "        \n",
    "        moving_translated, translation_vector = translate_moving(static_mask, moving_mask)\n",
    "        \n",
    "#         regtools.overlay_images(reference_masks[i], \n",
    "#                                 moving_translated, \n",
    "#                                 'Static', 'Overlay', 'Moving', 'input_images.png')\n",
    "\n",
    "        # register\n",
    "        mapping = register(static_mask, moving_translated)\n",
    "#         plt.imshow(mapping.transform_inverse(static_mask))\n",
    "#         plt.show()\n",
    "        \n",
    "        # warped keypoints\n",
    "#         plt.figure(figsize=(15, 15))\n",
    "#         plt.imshow(image*np.expand_dims(moving_mask, axis=2))\n",
    "        kpdic[\"keypoints\"] = {}\n",
    "        for (k, v) in reference_kp[idx].items():\n",
    "            \n",
    "            kpmap = v[\"map\"]\n",
    "            warped_kp_map = mapping.transform_inverse(kpmap, \"linear\")        \n",
    "            x, y = np.where(warped_kp_map > 0)\n",
    "            kp_coord = [int(np.mean(x)) - translation_vector[0], \n",
    "                        int(np.mean(y)) - translation_vector[1]]\n",
    "            kpdic[\"keypoints\"][k] = kp_coord\n",
    "#             plt.scatter(kp_coord[1], kp_coord[0], c=\"r\") \n",
    "#         plt.show()            \n",
    "        \n",
    "\n",
    "        # display_warped_keypoints(image, warped_kp_map, translation_vector)\n",
    "    # display_warped_keypoints(image, total_kp, [0, 0])\n",
    "    with open(f.replace(\"jpg\", \"json\").replace(\"raw\",\"\") , \"w\") as f:\n",
    "        json.dump(kpdic, f)"
   ]
  },
  {
   "cell_type": "code",
   "execution_count": null,
   "metadata": {},
   "outputs": [],
   "source": [
    "files[0]"
   ]
  },
  {
   "cell_type": "code",
   "execution_count": null,
   "metadata": {},
   "outputs": [],
   "source": [
    "translation_vector"
   ]
  },
  {
   "cell_type": "code",
   "execution_count": null,
   "metadata": {},
   "outputs": [],
   "source": []
  },
  {
   "cell_type": "code",
   "execution_count": null,
   "metadata": {},
   "outputs": [],
   "source": []
  },
  {
   "cell_type": "code",
   "execution_count": null,
   "metadata": {},
   "outputs": [],
   "source": [
    "translation_vector"
   ]
  },
  {
   "cell_type": "code",
   "execution_count": null,
   "metadata": {},
   "outputs": [],
   "source": [
    "plt.figure(figsize=(15, 15))\n",
    "plt.imshow(reference_images[0])\n",
    "for (k, v) in reference_kp[0].items():\n",
    "    coord = v[\"coord\"]\n",
    "    #plt.scatter(coord[0], coord[1])\n",
    "    x,y = np.where(v[\"map\"]>0)\n",
    "    plt.scatter(x,y)\n",
    "    \n",
    "plt.show()"
   ]
  },
  {
   "cell_type": "code",
   "execution_count": null,
   "metadata": {},
   "outputs": [],
   "source": [
    "plt.imshow(mapping.transform_inverse(static_mask))"
   ]
  }
 ],
 "metadata": {
  "kernelspec": {
   "display_name": "Python 3",
   "language": "python",
   "name": "python3"
  },
  "language_info": {
   "codemirror_mode": {
    "name": "ipython",
    "version": 3
   },
   "file_extension": ".py",
   "mimetype": "text/x-python",
   "name": "python",
   "nbconvert_exporter": "python",
   "pygments_lexer": "ipython3",
   "version": "3.5.2"
  }
 },
 "nbformat": 4,
 "nbformat_minor": 2
}
