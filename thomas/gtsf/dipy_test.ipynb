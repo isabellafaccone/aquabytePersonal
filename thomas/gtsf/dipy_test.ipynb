{
 "cells": [
  {
   "cell_type": "code",
   "execution_count": null,
   "metadata": {},
   "outputs": [],
   "source": [
    "import numpy as np\n",
    "from dipy.data import get_fnames\n",
    "from dipy.align.imwarp import SymmetricDiffeomorphicRegistration\n",
    "from dipy.align.metrics import SSDMetric, CCMetric, EMMetric\n",
    "import dipy.align.imwarp as imwarp\n",
    "from dipy.viz import regtools\n",
    "import matplotlib.pyplot as plt\n",
    "from imgaug import augmenters as iaa\n",
    "import cv2"
   ]
  },
  {
   "cell_type": "code",
   "execution_count": null,
   "metadata": {},
   "outputs": [],
   "source": [
    "keypoints = [(2837, 1528), (2948, 1530), (1296, 1396)]"
   ]
  },
  {
   "cell_type": "code",
   "execution_count": null,
   "metadata": {},
   "outputs": [],
   "source": [
    "# fname_moving = get_fnames('reg_o')\n",
    "# fname_static = get_fnames('reg_c')\n",
    "aug = iaa.Affine(scale={\"x\": (0.5, 0.9), \"y\": (1.2, 1.5)})\n",
    "static = cv2.imread(\"/root/data/gtsf_2.0/registration_test/gtsf_ref_mask.jpg\", 0)\n",
    "height, width = static.shape\n",
    "print(width, height)\n",
    "ratio_width = width / 800.0\n",
    "ratio_height = height / 600.0\n",
    "new_keypoints = np.array([(int(kp[0]/ratio_width), int(kp[1]/ratio_height)) for kp in keypoints])\n",
    "static = cv2.resize(static, (800, 600))\n",
    "static[static>0]=1\n",
    "# moving = aug.augment_image(static)\n",
    "moving = cv2.imread(\"/root/data/gtsf_2.0/registration_test/gtsf_2.jpg\", 0)\n",
    "moving = cv2.resize(moving, (800, 600))\n",
    "moving[moving > 0] = 1"
   ]
  },
  {
   "cell_type": "code",
   "execution_count": null,
   "metadata": {},
   "outputs": [],
   "source": [
    "# static = cv2.imread(\"/root/data/gtsf_2.0/registration_test/gtsf_ref.jpg\")\n",
    "# new_keypoints = np.array([(int(kp[0]), int(kp[1])) for kp in keypoints])\n",
    "# plt.figure(figsize=(20, 10))\n",
    "# plt.imshow(static)\n",
    "# plt.scatter(new_keypoints[:, 0], new_keypoints[:, 1])\n",
    "# plt.show()"
   ]
  },
  {
   "cell_type": "code",
   "execution_count": null,
   "metadata": {},
   "outputs": [],
   "source": [
    "regtools.overlay_images(static, moving, 'Static', 'Overlay', 'Moving', 'input_images.png')"
   ]
  },
  {
   "cell_type": "markdown",
   "metadata": {},
   "source": [
    "calculate the centroids"
   ]
  },
  {
   "cell_type": "code",
   "execution_count": null,
   "metadata": {},
   "outputs": [],
   "source": [
    "# centroids\n",
    "xs, ys = np.where(static == 1)\n",
    "centroid_s = np.array((np.mean(xs), np.mean(ys)))\n",
    "xm, ym = np.where(moving == 1)\n",
    "centroid_m = np.array((np.mean(xm), np.mean(ym)))"
   ]
  },
  {
   "cell_type": "code",
   "execution_count": null,
   "metadata": {},
   "outputs": [],
   "source": [
    "f ,ax = plt.subplots(1, 2, figsize=(20, 10))\n",
    "ax[0].imshow(static)\n",
    "ax[0].scatter(centroid_s[1], centroid_s[0], c=\"r\")\n",
    "ax[1].imshow(moving)\n",
    "ax[1].scatter(centroid_m[1], centroid_m[0], c=\"r\")\n",
    "plt.show()"
   ]
  },
  {
   "cell_type": "markdown",
   "metadata": {},
   "source": [
    "compute the transform"
   ]
  },
  {
   "cell_type": "code",
   "execution_count": null,
   "metadata": {},
   "outputs": [],
   "source": [
    "# m to s\n",
    "translation = centroid_s - centroid_m\n",
    "print(translation)\n",
    "xmt, ymt = (xm+translation[0], ym+translation[1])"
   ]
  },
  {
   "cell_type": "code",
   "execution_count": null,
   "metadata": {},
   "outputs": [],
   "source": [
    "moving_translated = np.zeros_like(static)\n",
    "for (xi, yi) in zip(xmt,ymt):\n",
    "    moving_translated[int(xi), int(yi)] = 1"
   ]
  },
  {
   "cell_type": "code",
   "execution_count": null,
   "metadata": {},
   "outputs": [],
   "source": [
    "xm, ym = np.where(moving_translated == 1)\n",
    "centroid_m = np.array((np.mean(xm), np.mean(ym)))"
   ]
  },
  {
   "cell_type": "code",
   "execution_count": null,
   "metadata": {},
   "outputs": [],
   "source": [
    "f ,ax = plt.subplots(1, 2, figsize=(20, 10))\n",
    "ax[0].imshow(static)\n",
    "ax[0].scatter(centroid_s[1], centroid_s[0], c=\"r\")\n",
    "ax[1].imshow(moving_translated)\n",
    "ax[1].scatter(centroid_m[1], centroid_m[0], c=\"r\")\n",
    "plt.show()"
   ]
  },
  {
   "cell_type": "code",
   "execution_count": null,
   "metadata": {},
   "outputs": [],
   "source": [
    "regtools.overlay_images(static, moving_translated, 'Static', 'Overlay', 'Moving', 'input_images.png')"
   ]
  },
  {
   "cell_type": "code",
   "execution_count": null,
   "metadata": {},
   "outputs": [],
   "source": [
    "dim = static.ndim\n",
    "metric = SSDMetric(dim)"
   ]
  },
  {
   "cell_type": "code",
   "execution_count": null,
   "metadata": {},
   "outputs": [],
   "source": [
    "level_iters = [200, 100, 50, 25, 10]\n",
    "\n",
    "sdr = SymmetricDiffeomorphicRegistration(metric, level_iters, inv_iter = 50)"
   ]
  },
  {
   "cell_type": "code",
   "execution_count": null,
   "metadata": {},
   "outputs": [],
   "source": [
    "from time import time"
   ]
  },
  {
   "cell_type": "code",
   "execution_count": null,
   "metadata": {},
   "outputs": [],
   "source": [
    "start = time()\n",
    "mapping = sdr.optimize(static, moving_translated)\n",
    "end = time()\n",
    "print(\"Duration {} seconds\".format(end-start))"
   ]
  },
  {
   "cell_type": "code",
   "execution_count": null,
   "metadata": {},
   "outputs": [],
   "source": [
    "regtools.plot_2d_diffeomorphic_map(mapping, 10, 'diffeomorphic_map.png')"
   ]
  },
  {
   "cell_type": "code",
   "execution_count": null,
   "metadata": {},
   "outputs": [],
   "source": [
    "mapping.forward.shape"
   ]
  },
  {
   "cell_type": "code",
   "execution_count": null,
   "metadata": {},
   "outputs": [],
   "source": [
    "warped_moving = mapping.transform(moving_translated, 'linear')\n",
    "regtools.overlay_images(static, warped_moving, 'Static','Overlay','Warped moving',\n",
    "   'direct_warp_result.png')"
   ]
  },
  {
   "cell_type": "code",
   "execution_count": null,
   "metadata": {},
   "outputs": [],
   "source": [
    "warped_static = mapping.transform_inverse(static, 'linear')\n",
    "regtools.overlay_images(warped_static, moving_translated,'Warped static','Overlay','Moving',\n",
    "   'inverse_warp_result.png')"
   ]
  },
  {
   "cell_type": "code",
   "execution_count": null,
   "metadata": {},
   "outputs": [],
   "source": [
    "kp_map = np.zeros_like(static)\n",
    "for kp in new_keypoints:\n",
    "    kp_map[kp[1]-1:kp[1]+1, kp[0]-1:kp[0]+1] = 1\n",
    "plt.imshow(kp_map)\n",
    "plt.show()"
   ]
  },
  {
   "cell_type": "code",
   "execution_count": null,
   "metadata": {},
   "outputs": [],
   "source": [
    "test = mapping.transform_inverse(kp_map, \"linear\")"
   ]
  },
  {
   "cell_type": "code",
   "execution_count": null,
   "metadata": {},
   "outputs": [],
   "source": [
    "plt.imshow(test)\n",
    "plt.imshow(moving_translated, alpha=0.5)\n",
    "plt.show()"
   ]
  },
  {
   "cell_type": "code",
   "execution_count": null,
   "metadata": {},
   "outputs": [],
   "source": [
    "warped_keypoints = np.array(np.where(test>0))"
   ]
  },
  {
   "cell_type": "markdown",
   "metadata": {},
   "source": [
    "back to original space"
   ]
  },
  {
   "cell_type": "code",
   "execution_count": null,
   "metadata": {},
   "outputs": [],
   "source": [
    "static = cv2.imread(\"/root/data/gtsf_2.0/registration_test/gtsf_ref.jpg\")\n",
    "moving = cv2.imread(\"/root/data/gtsf_2.0/registration_test/gtsf_2.jpg\")\n",
    "keypoints = np.array([(2837, 1528), (2948, 1530), (1296, 1396)])\n",
    "f, ax = plt.subplots(1, 2, figsize=(20, 10))\n",
    "ax[0].imshow(static)\n",
    "ax[0].scatter(keypoints[:, 0], keypoints[:, 1])\n",
    "ax[0].axis(\"off\")\n",
    "ax[1].imshow(moving)\n",
    "ax[1].scatter((warped_keypoints[1, :]-translation[1]) * (ratio_width) , (warped_keypoints[0, :]-translation[0]) * (ratio_height))\n",
    "ax[1].axis(\"off\")\n",
    "plt.show()"
   ]
  },
  {
   "cell_type": "code",
   "execution_count": null,
   "metadata": {},
   "outputs": [],
   "source": []
  }
 ],
 "metadata": {
  "kernelspec": {
   "display_name": "Python 3",
   "language": "python",
   "name": "python3"
  },
  "language_info": {
   "codemirror_mode": {
    "name": "ipython",
    "version": 3
   },
   "file_extension": ".py",
   "mimetype": "text/x-python",
   "name": "python",
   "nbconvert_exporter": "python",
   "pygments_lexer": "ipython3",
   "version": "3.5.2"
  }
 },
 "nbformat": 4,
 "nbformat_minor": 2
}
