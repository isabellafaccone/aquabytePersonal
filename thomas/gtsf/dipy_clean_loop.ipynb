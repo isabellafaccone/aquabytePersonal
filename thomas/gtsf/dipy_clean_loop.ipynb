{
 "cells": [
  {
   "cell_type": "markdown",
   "metadata": {},
   "source": [
    "Load some utils function + annotations first"
   ]
  },
  {
   "cell_type": "code",
   "execution_count": null,
   "metadata": {},
   "outputs": [],
   "source": [
    "%load_ext autoreload\n",
    "%autoreload 2"
   ]
  },
  {
   "cell_type": "code",
   "execution_count": null,
   "metadata": {},
   "outputs": [],
   "source": [
    "import json\n",
    "from utils import load_image_annotations, display_image_with_keypoints"
   ]
  },
  {
   "cell_type": "code",
   "execution_count": null,
   "metadata": {},
   "outputs": [],
   "source": [
    "annotations = json.load(open(\"/root/data/gtsf_2.0/registration_test/gtsf_in_air_labels.json\"))"
   ]
  },
  {
   "cell_type": "markdown",
   "metadata": {},
   "source": [
    "load reference image"
   ]
  },
  {
   "cell_type": "code",
   "execution_count": null,
   "metadata": {},
   "outputs": [],
   "source": [
    "static_image, static_mask, static_keypoints, static_kp_map = load_image_annotations(annotations[3], new_shape=(800, 600))"
   ]
  },
  {
   "cell_type": "code",
   "execution_count": null,
   "metadata": {},
   "outputs": [],
   "source": [
    "display_image_with_keypoints(static_image, static_keypoints)"
   ]
  },
  {
   "cell_type": "markdown",
   "metadata": {},
   "source": [
    "now looooop"
   ]
  },
  {
   "cell_type": "code",
   "execution_count": null,
   "metadata": {},
   "outputs": [],
   "source": [
    "from copy import copy\n",
    "\n",
    "from dipy.viz import regtools\n",
    "\n",
    "from utils import translate_moving, register, display_warped_keypoints, display_pairs_with_keypoints, calculate_errors\n",
    "from utils import display_keypoints_gt_pred"
   ]
  },
  {
   "cell_type": "code",
   "execution_count": null,
   "metadata": {},
   "outputs": [],
   "source": [
    "display = False"
   ]
  },
  {
   "cell_type": "code",
   "execution_count": null,
   "metadata": {},
   "outputs": [],
   "source": [
    "for annotation in annotations[2:]:\n",
    "    moving_image, moving_mask, moving_keypoints, moving_kp_map = load_image_annotations(annotation, \n",
    "                                                                                        new_shape=(800, 600))\n",
    "    \n",
    "    # display \n",
    "    if display:\n",
    "        display_image_with_keypoints(moving_image, moving_keypoints)\n",
    "        regtools.overlay_images(static_mask, moving_mask, 'Static', 'Overlay', 'Moving', 'input_images.png')\n",
    "    \n",
    "    # translate\n",
    "    moving_translated, translation_vector = translate_moving(static_mask, moving_mask)\n",
    "    if display:\n",
    "        regtools.overlay_images(static_mask, moving_translated, 'Static', 'Overlay', 'Moving', 'input_images.png')\n",
    "    \n",
    "    # register\n",
    "    mapping = register(static_mask, moving_translated)\n",
    "    \n",
    "    # plot deformation field\n",
    "#     regtools.plot_2d_diffeomorphic_map(mapping, 10, 'diffeomorphic_map.png')\n",
    "    \n",
    "    # forward stuff\n",
    "    warped_moving = mapping.transform(moving_translated, 'linear')\n",
    "    if display:\n",
    "        regtools.overlay_images(static_mask, warped_moving, 'Static','Overlay','Warped moving',\n",
    "                                'direct_warp_result.png')\n",
    "    \n",
    "    # backward stuff\n",
    "    warped_static = mapping.transform_inverse(static_mask, 'linear')\n",
    "    if display:\n",
    "        regtools.overlay_images(warped_static, moving_translated,'Warped static','Overlay','Moving',\n",
    "                                'inverse_warp_result.png')\n",
    "    \n",
    "    # warped keypoints\n",
    "    warped_kp_map = mapping.transform_inverse(static_kp_map, \"linear\")\n",
    "    if display:\n",
    "        display_warped_keypoints(moving_image, warped_kp_map, translation_vector)\n",
    "    \n",
    "    # display_pairs_with_keypoints(moving_image, moving_kp_map, warped_kp_map, translation_vector)\n",
    "    display_keypoints_gt_pred(moving_image, moving_kp_map, warped_kp_map, translation_vector)\n",
    "    \n",
    "    calculate_errors(moving_keypoints, warped_kp_map, translation_vector)\n",
    "    print(\"#\"*100)\n",
    "    print(\"#\"*100)\n",
    "    print(\"#\"*100)\n"
   ]
  },
  {
   "cell_type": "code",
   "execution_count": null,
   "metadata": {},
   "outputs": [],
   "source": []
  },
  {
   "cell_type": "code",
   "execution_count": null,
   "metadata": {},
   "outputs": [],
   "source": []
  }
 ],
 "metadata": {
  "kernelspec": {
   "display_name": "Python 3",
   "language": "python",
   "name": "python3"
  },
  "language_info": {
   "codemirror_mode": {
    "name": "ipython",
    "version": 3
   },
   "file_extension": ".py",
   "mimetype": "text/x-python",
   "name": "python",
   "nbconvert_exporter": "python",
   "pygments_lexer": "ipython3",
   "version": "3.5.2"
  }
 },
 "nbformat": 4,
 "nbformat_minor": 2
}
