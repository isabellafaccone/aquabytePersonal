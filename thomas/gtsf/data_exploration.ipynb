{
 "cells": [
  {
   "cell_type": "code",
   "execution_count": null,
   "metadata": {},
   "outputs": [],
   "source": [
    "import glob\n",
    "import matplotlib.pyplot as plt\n",
    "import numpy as np \n",
    "import cv2"
   ]
  },
  {
   "cell_type": "code",
   "execution_count": null,
   "metadata": {},
   "outputs": [],
   "source": [
    "files = glob.glob(\"/root/data/phase_I/small-pen-test-site/1/2019-03-18/*/raw/right*\")"
   ]
  },
  {
   "cell_type": "code",
   "execution_count": null,
   "metadata": {},
   "outputs": [],
   "source": [
    "for f in files:\n",
    "    print(f)\n",
    "    image = cv2.imread(f,)[:,:,::-1]\n",
    "    image = cv2.resize(image, (1024, 1024))\n",
    "    plt.figure(figsize=(15, 15))\n",
    "    plt.imshow(image)\n",
    "    plt.show()\n",
    "    break"
   ]
  },
  {
   "cell_type": "code",
   "execution_count": null,
   "metadata": {},
   "outputs": [],
   "source": [
    "# uniform = [\"/root/data/phase_I/small-pen-test-site/1/2019-03-11/right_small-pen-test-site_1_1552302966364.jpg\",\n",
    "# \"/root/data/phase_I/small-pen-test-site/1/2019-03-11/right_small-pen-test-site_1_1552303301380.jpg\",\n",
    "# \"/root/data/phase_I/small-pen-test-site/1/2019-03-11/left_small-pen-test-site_1_1552302966364.jpg\",\n",
    "# \"/root/data/phase_I/small-pen-test-site/1/2019-03-11/right_small-pen-test-site_1_1552303529988.jpg\",\n",
    "# \"/root/data/phase_I/small-pen-test-site/1/2019-03-11/right_small-pen-test-site_1_1552301352309.jpg\"]"
   ]
  },
  {
   "cell_type": "code",
   "execution_count": null,
   "metadata": {},
   "outputs": [],
   "source": [
    "# for f in uniform:\n",
    "#     print(f)\n",
    "#     image = cv2.imread(f)[..., ::-1]\n",
    "#     # image = cv2.resize(image, (512, 512))\n",
    "#     plt.imshow(image)\n",
    "#     plt.show()"
   ]
  },
  {
   "cell_type": "code",
   "execution_count": null,
   "metadata": {},
   "outputs": [],
   "source": [
    "from PIL import Image\n",
    "from tqdm import tqdm\n",
    "from utils import rgb_to_hsv"
   ]
  },
  {
   "cell_type": "code",
   "execution_count": null,
   "metadata": {},
   "outputs": [],
   "source": [
    "min_hsv = rgb_to_hsv(255/255.0, 255/255.0, 204/255.0)\n",
    "np.array(min_hsv)*np.array([360, 255, 255])"
   ]
  },
  {
   "cell_type": "code",
   "execution_count": null,
   "metadata": {},
   "outputs": [],
   "source": [
    "max_hsv = rgb_to_hsv(255/255.0, 255/255.0, 0/255.0)\n",
    "np.array(max_hsv)*np.array([360, 255, 255])"
   ]
  },
  {
   "cell_type": "code",
   "execution_count": null,
   "metadata": {},
   "outputs": [],
   "source": [
    "min_hsv = (80, 250, 60)\n",
    "max_hsv = (120, 255, 150)"
   ]
  },
  {
   "cell_type": "code",
   "execution_count": null,
   "metadata": {},
   "outputs": [],
   "source": [
    "f = \"/root/data/phase_I/small-pen-test-site/1/2019-03-18/190318010030/raw/left_small-pen-test-site_1_1552907349107.jpg\""
   ]
  },
  {
   "cell_type": "code",
   "execution_count": null,
   "metadata": {},
   "outputs": [],
   "source": [
    "im = Image.open(f)\n",
    "# im = im.convert('RGBA')\n",
    "im = im.convert('HSV')\n",
    "im = im.resize((512, 512))\n",
    "test = np.array(im.crop([256, 50, 500, 180]))"
   ]
  },
  {
   "cell_type": "code",
   "execution_count": null,
   "metadata": {},
   "outputs": [],
   "source": [
    "plt.imshow(test)"
   ]
  },
  {
   "cell_type": "code",
   "execution_count": null,
   "metadata": {},
   "outputs": [],
   "source": [
    "plt.hist(test[..., 0].flatten(), bins=20)\n",
    "plt.show()\n",
    "plt.hist(test[..., 1].flatten(), bins=20)\n",
    "plt.show()\n",
    "plt.hist(test[..., 2].flatten(), bins=20)\n",
    "plt.show()"
   ]
  },
  {
   "cell_type": "markdown",
   "metadata": {},
   "source": [
    "# new code"
   ]
  },
  {
   "cell_type": "code",
   "execution_count": null,
   "metadata": {},
   "outputs": [],
   "source": [
    "min_hsv = (80, 50, 15)\n",
    "max_hsv = (150, 150, 120)"
   ]
  },
  {
   "cell_type": "code",
   "execution_count": null,
   "metadata": {},
   "outputs": [],
   "source": [
    "print(rgb_to_hsv(255, 255, 255))\n",
    "print(rgb_to_hsv(0, 215, 0))"
   ]
  },
  {
   "cell_type": "code",
   "execution_count": null,
   "metadata": {},
   "outputs": [],
   "source": [
    "im = Image.open(f)\n",
    "im = im.convert('RGBA')\n",
    "im = im.resize((512, 512))\n",
    "# im = im.crop([120, 190, 420, 300])\n",
    "# im = im.crop([265, 265, 400, 400])\n",
    "# im = im.crop([256, 50, 500, 180])\n",
    "pix = im.load()\n",
    "width, height = im.size\n",
    "for x in tqdm(range(width)):\n",
    "    for y in range(height):\n",
    "        r, g, b, a = pix[x, y]\n",
    "        h, s, v = rgb_to_hsv(r, g, b)\n",
    "        # print(h,s,v)\n",
    "        # break\n",
    "        # h, s, v = pix[x, y]\n",
    "        min_h, min_s, min_v = min_hsv\n",
    "        max_h, max_s, max_v = max_hsv\n",
    "        if min_h <= h <= max_h and min_s <= s <= max_s and min_v <= v <= max_v:\n",
    "            pix[x, y] = (0, 0, 0)\n",
    "        else:\n",
    "            continue\n",
    "            print(h,s,v)\n",
    "            print(min_h, min_s, min_v)\n",
    "            print(max_h, max_s, max_v)\n",
    "            print(\"#\"*50)"
   ]
  },
  {
   "cell_type": "code",
   "execution_count": null,
   "metadata": {},
   "outputs": [],
   "source": [
    "im"
   ]
  },
  {
   "cell_type": "code",
   "execution_count": null,
   "metadata": {},
   "outputs": [],
   "source": [
    "m = np.array(im)[..., 0]"
   ]
  },
  {
   "cell_type": "code",
   "execution_count": null,
   "metadata": {},
   "outputs": [],
   "source": [
    "plt.imshow(m)\n",
    "m[m>0]=1"
   ]
  },
  {
   "cell_type": "code",
   "execution_count": null,
   "metadata": {},
   "outputs": [],
   "source": [
    "m = cv2.dilate(m, np.ones((5, 5)))\n",
    "# m = cv2.dilate(m, np.ones((3, 3)))\n",
    "plt.imshow(m)"
   ]
  },
  {
   "cell_type": "code",
   "execution_count": null,
   "metadata": {},
   "outputs": [],
   "source": [
    "m = cv2.erode(m, np.ones((3, 3)))\n",
    "m = cv2.erode(m, np.ones((3, 3)))\n",
    "plt.imshow(m)"
   ]
  },
  {
   "cell_type": "code",
   "execution_count": null,
   "metadata": {},
   "outputs": [],
   "source": []
  },
  {
   "cell_type": "code",
   "execution_count": null,
   "metadata": {},
   "outputs": [],
   "source": []
  },
  {
   "cell_type": "code",
   "execution_count": null,
   "metadata": {},
   "outputs": [],
   "source": []
  },
  {
   "cell_type": "code",
   "execution_count": null,
   "metadata": {},
   "outputs": [],
   "source": []
  },
  {
   "cell_type": "code",
   "execution_count": null,
   "metadata": {},
   "outputs": [],
   "source": []
  },
  {
   "cell_type": "code",
   "execution_count": null,
   "metadata": {},
   "outputs": [],
   "source": []
  },
  {
   "cell_type": "code",
   "execution_count": null,
   "metadata": {},
   "outputs": [],
   "source": []
  },
  {
   "cell_type": "code",
   "execution_count": null,
   "metadata": {},
   "outputs": [],
   "source": []
  },
  {
   "cell_type": "code",
   "execution_count": null,
   "metadata": {},
   "outputs": [],
   "source": []
  },
  {
   "cell_type": "code",
   "execution_count": null,
   "metadata": {},
   "outputs": [],
   "source": []
  },
  {
   "cell_type": "code",
   "execution_count": null,
   "metadata": {},
   "outputs": [],
   "source": [
    "import colorsysbbb"
   ]
  },
  {
   "cell_type": "code",
   "execution_count": null,
   "metadata": {},
   "outputs": [],
   "source": []
  },
  {
   "cell_type": "code",
   "execution_count": null,
   "metadata": {},
   "outputs": [],
   "source": [
    "colorsys.rgb_to_hsv(101/255.0, 155/255.0, 65/255.0)"
   ]
  },
  {
   "cell_type": "code",
   "execution_count": null,
   "metadata": {},
   "outputs": [],
   "source": [
    "im = Image.open(f)\n",
    "im = im.convert('RGBA')\n",
    "im = im.resize((512, 512))\n",
    "im = im.crop([120, 190, 420, 300])\n",
    "pix = im.load()\n",
    "width, height = im.size\n",
    "for x in tqdm(range(width)):\n",
    "    for y in range(height):\n",
    "        r, g, b, a = pix[x, y]\n",
    "        h_ratio, s_ratio, v_ratio = rgb_to_hsv(r / 255.0, g / 255.0, b / 255.0)\n",
    "        print(h_ratio, s_ratio, v_ratio)\n",
    "        h, s, v = (h_ratio * 360, s_ratio * 255, v_ratio * 255)\n",
    "        # print(h,s,v)\n",
    "        # break\n",
    "        min_h, min_s, min_v = min_hsv\n",
    "        max_h, max_s, max_v = max_hsv\n",
    "        if min_h <= h <= max_h and min_s <= s <= max_s and min_v <= v <= max_v:\n",
    "            pix[x, y] = (0, 0, 0, 0)\n",
    "        else:\n",
    "            continue\n",
    "            # print(h,s,v)\n",
    "mask = np.asarray(im)[..., 3]\n",
    "mask.flags.writeable = True\n",
    "mask[mask > 0] = 1"
   ]
  },
  {
   "cell_type": "code",
   "execution_count": null,
   "metadata": {},
   "outputs": [],
   "source": [
    "im"
   ]
  },
  {
   "cell_type": "code",
   "execution_count": null,
   "metadata": {},
   "outputs": [],
   "source": [
    "r,g,b,_ = test[0, -1, :]"
   ]
  },
  {
   "cell_type": "code",
   "execution_count": null,
   "metadata": {},
   "outputs": [],
   "source": [
    "h_ratio, s_ratio, v_ratio = rgb_to_hsv(r / 255.0, g / 255.0, b / 255.0)\n",
    "h, s, v = (h_ratio * 360, s_ratio * 255, v_ratio * 255)\n",
    "print(h,s,v)"
   ]
  },
  {
   "cell_type": "code",
   "execution_count": null,
   "metadata": {},
   "outputs": [],
   "source": [
    "test = np.array(im)[100:, 140:150, ...]\n",
    "plt.imshow(test)\n",
    "plt.show()"
   ]
  },
  {
   "cell_type": "code",
   "execution_count": null,
   "metadata": {},
   "outputs": [],
   "source": [
    "mask = np.asarray(im)[..., 3]\n",
    "mask.flags.writeable = True\n",
    "mask[mask > 0] = 1\n",
    "plt.imshow(mask)\n",
    "plt.show()"
   ]
  },
  {
   "cell_type": "code",
   "execution_count": null,
   "metadata": {},
   "outputs": [],
   "source": [
    "mask = cv2.dilate(mask, np.ones((3, 3)))\n",
    "plt.imshow(mask)\n",
    "plt.show()"
   ]
  },
  {
   "cell_type": "code",
   "execution_count": null,
   "metadata": {},
   "outputs": [],
   "source": [
    "mask = cv2.erode(mask, np.ones((3, 3)))\n",
    "plt.imshow(mask)\n",
    "plt.show()"
   ]
  },
  {
   "cell_type": "code",
   "execution_count": null,
   "metadata": {},
   "outputs": [],
   "source": [
    "mask = cv2.dilate(mask, np.ones((3, 3)))\n",
    "plt.imshow(mask)\n",
    "plt.show()"
   ]
  },
  {
   "cell_type": "code",
   "execution_count": null,
   "metadata": {},
   "outputs": [],
   "source": [
    "from skimage.measure import label\n",
    "from sklearn.metrics import euclidean_distances"
   ]
  },
  {
   "cell_type": "code",
   "execution_count": null,
   "metadata": {},
   "outputs": [],
   "source": []
  },
  {
   "cell_type": "code",
   "execution_count": null,
   "metadata": {},
   "outputs": [],
   "source": [
    "labs = label(mask)\n",
    "center = np.array([[256, 256]])\n",
    "dist = 1e8\n",
    "# calculate labs centroids\n",
    "for l in range(1, np.max(labs)):\n",
    "    x, y = np.where(labs == l)\n",
    "#     plt.imshow(labs == l)\n",
    "#     plt.show()\n",
    "    points = np.array([x[::5], y[::5]]).transpose()\n",
    "    # center_x, center_y = np.mean(x), np.mean(y)\n",
    "    dist2center = np.mean(euclidean_distances(center, points))\n",
    "#     print(dist2center)\n",
    "    if dist2center < dist:\n",
    "        good_lab = l\n",
    "        dist = dist2center"
   ]
  },
  {
   "cell_type": "code",
   "execution_count": null,
   "metadata": {},
   "outputs": [],
   "source": [
    "plt.imshow(labs == good_lab)\n",
    "plt.show()"
   ]
  },
  {
   "cell_type": "code",
   "execution_count": null,
   "metadata": {},
   "outputs": [],
   "source": [
    "new_mask = labs == 5"
   ]
  },
  {
   "cell_type": "code",
   "execution_count": null,
   "metadata": {},
   "outputs": [],
   "source": [
    "im = Image.open(f)\n",
    "im = im.convert('RGBA')\n",
    "im = im.resize((512, 512))\n",
    "plt.imshow(np.array(im)*np.expand_dims(new_mask, axis=2))"
   ]
  }
 ],
 "metadata": {
  "kernelspec": {
   "display_name": "Python 3",
   "language": "python",
   "name": "python3"
  },
  "language_info": {
   "codemirror_mode": {
    "name": "ipython",
    "version": 3
   },
   "file_extension": ".py",
   "mimetype": "text/x-python",
   "name": "python",
   "nbconvert_exporter": "python",
   "pygments_lexer": "ipython3",
   "version": "3.5.2"
  }
 },
 "nbformat": 4,
 "nbformat_minor": 2
}
