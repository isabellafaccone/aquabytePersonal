{
 "cells": [
  {
   "cell_type": "code",
   "execution_count": null,
   "metadata": {},
   "outputs": [],
   "source": [
    "# show images inline\n",
    "%matplotlib inline\n",
    "\n",
    "# automatically reload modules when they have changed\n",
    "%load_ext autoreload\n",
    "%autoreload 2\n",
    "\n",
    "# import keras\n",
    "import keras\n",
    "\n",
    "# import keras_retinanet\n",
    "from keras_retinanet import models\n",
    "from keras_retinanet.utils.image import read_image_bgr, preprocess_image, resize_image\n",
    "from keras_retinanet.utils.visualization import draw_box, draw_caption\n",
    "from keras_retinanet.utils.colors import label_color\n",
    "\n",
    "# import miscellaneous modules\n",
    "import matplotlib.pyplot as plt\n",
    "import cv2\n",
    "import os\n",
    "import numpy as np\n",
    "import time\n",
    "\n",
    "# set tf backend to allow memory to grow, instead of claiming everything\n",
    "# import tensorflow as tf\n",
    "\n",
    "# def get_session():\n",
    "#     config = tf.ConfigProto()\n",
    "#     config.gpu_options.allow_growth = True\n",
    "#     return tf.Session(config=config)\n",
    "\n",
    "# use this environment flag to change which GPU to use\n",
    "os.environ[\"CUDA_VISIBLE_DEVICES\"] = \"0\"\n",
    "\n",
    "# set the modified tf session as backend in keras\n",
    "# keras.backend.tensorflow_backend.set_session(get_session())"
   ]
  },
  {
   "cell_type": "code",
   "execution_count": null,
   "metadata": {},
   "outputs": [],
   "source": [
    "import matplotlib.pyplot as plt\n",
    "import matplotlib.patches as patches\n",
    "from PIL import Image\n",
    "import numpy as np\n",
    "import csv"
   ]
  },
  {
   "cell_type": "code",
   "execution_count": null,
   "metadata": {},
   "outputs": [],
   "source": [
    "# adjust this to point to your downloaded/trained model\n",
    "# models can be downloaded here: https://github.com/fizyr/keras-retinanet/releases\n",
    "model_path = './pred_overfit.h5'\n",
    "\n",
    "# load retinanet model\n",
    "model = models.load_model(model_path, backbone_name='resnet50')\n",
    "\n",
    "# if the model is not converted to an inference model, use the line below\n",
    "# see: https://github.com/fizyr/keras-retinanet#converting-a-training-model-to-inference-model\n",
    "#model = models.load_model(model_path, backbone_name='resnet50', convert_model=True)\n",
    "\n",
    "#print(model.summary())\n",
    "\n",
    "# load label to names mapping for visualization purposes\n",
    "labels_to_names = {0: 'lice'}"
   ]
  },
  {
   "cell_type": "code",
   "execution_count": null,
   "metadata": {},
   "outputs": [],
   "source": [
    "# load image\n",
    "img_path = '/root/data/lice_detection/1_fish_classification/lice_fish/fish_226.jpg'\n",
    "image = read_image_bgr(img_path)\n",
    "\n",
    "# copy to draw on\n",
    "draw = image.copy()\n",
    "draw = cv2.cvtColor(draw, cv2.COLOR_BGR2RGB)\n",
    "\n",
    "# preprocess image for network\n",
    "image = preprocess_image(image)\n",
    "image, scale = resize_image(image)\n",
    "\n",
    "# process image\n",
    "start = time.time()\n",
    "boxes, scores, labels = model.predict_on_batch(np.expand_dims(image, axis=0))\n",
    "print(\"processing time: \", time.time() - start)"
   ]
  },
  {
   "cell_type": "code",
   "execution_count": null,
   "metadata": {},
   "outputs": [],
   "source": [
    "boxes[0][0] / 0.4"
   ]
  },
  {
   "cell_type": "code",
   "execution_count": null,
   "metadata": {},
   "outputs": [],
   "source": [
    "# find ground truth\n",
    "dataset = []\n",
    "with open('/root/data/lice_detection/lice_dataset_fish_only_train.csv', 'r') as csvfile:\n",
    "    reader = csv.reader(csvfile) #, delimiter=',', quoting=csv.QUOTE_MINIMAL)\n",
    "    for row in reader:\n",
    "        dataset.append(row)\n",
    "\n",
    "ground_truth = []\n",
    "for d in dataset:\n",
    "    if d[0] == img_path:\n",
    "        ground_truth.append(d)"
   ]
  },
  {
   "cell_type": "code",
   "execution_count": null,
   "metadata": {},
   "outputs": [],
   "source": [
    "# correct for image scale\n",
    "boxes /= scale"
   ]
  },
  {
   "cell_type": "code",
   "execution_count": null,
   "metadata": {},
   "outputs": [],
   "source": [
    "# visualize detections\n",
    "fig,ax = plt.subplots(1, figsize=(15, 15))\n",
    "im = np.array(Image.open(img_path), dtype=np.uint8)\n",
    "ax.imshow(im)\n",
    "for (i, (box, score, label)) in enumerate(zip(boxes[0], scores[0], labels[0])):\n",
    "    # scores are sorted so we can break\n",
    "    if score < 0.1:\n",
    "        break\n",
    "    color = label_color(label)\n",
    "    b = box.astype(int)\n",
    "    # draw_box(draw, b, color=color)\n",
    "    if i == 0:\n",
    "        rect = patches.Rectangle((b[0],b[1]),b[2]-b[0],b[3]-b[1],\n",
    "                                 linewidth=1,edgecolor='b',facecolor='none', label='prediction')\n",
    "    else:\n",
    "        rect = patches.Rectangle((b[0],b[1]),b[2]-b[0],b[3]-b[1],\n",
    "                         linewidth=1,edgecolor='b',facecolor='none')\n",
    "    ax.add_patch(rect)\n",
    "    # caption = \"{} {:.3f}\".format(labels_to_names[label], score)\n",
    "    # draw_caption(draw, b, caption)\n",
    "\n",
    "\n",
    "# Create a Rectangle patch\n",
    "for (i, gt) in enumerate(ground_truth):\n",
    "    rec = [int(d) for d in gt[1:5]]\n",
    "    # print(rec)\n",
    "    if i == 0:\n",
    "        rect = patches.Rectangle((rec[0],rec[1]),rec[2]-rec[0],rec[3]-rec[1],\n",
    "                                 linewidth=1,edgecolor='r',facecolor='none', label='ground truth')\n",
    "    else:\n",
    "        rect = patches.Rectangle((rec[0],rec[1]),rec[2]-rec[0],rec[3]-rec[1],\n",
    "                                 linewidth=1,edgecolor='r',facecolor='none')\n",
    "    # Add the patch to the Axes\n",
    "    ax.add_patch(rect)\n",
    "\n",
    "plt.legend()\n",
    "plt.show()\n",
    "    \n",
    "    \n",
    "# plt.figure(figsize=(15, 15))\n",
    "# plt.axis('off')\n",
    "# plt.imshow(draw)\n",
    "# plt.show()"
   ]
  },
  {
   "cell_type": "markdown",
   "metadata": {},
   "source": [
    "# display ground truth"
   ]
  },
  {
   "cell_type": "code",
   "execution_count": null,
   "metadata": {},
   "outputs": [],
   "source": [
    "import matplotlib.pyplot as plt\n",
    "import matplotlib.patches as patches\n",
    "from PIL import Image\n",
    "import numpy as np\n",
    "import csv"
   ]
  },
  {
   "cell_type": "code",
   "execution_count": null,
   "metadata": {},
   "outputs": [],
   "source": [
    "img_path = '/root/data/lice_detection/1_fish_classification/lice_fish/fish_226.jpg'"
   ]
  },
  {
   "cell_type": "code",
   "execution_count": null,
   "metadata": {},
   "outputs": [],
   "source": [
    "dataset = []\n",
    "with open('/root/data/lice_detection/lice_dataset_fish_only_train.csv', 'r') as csvfile:\n",
    "    reader = csv.reader(csvfile) #, delimiter=',', quoting=csv.QUOTE_MINIMAL)\n",
    "    for row in reader:\n",
    "        dataset.append(row)"
   ]
  },
  {
   "cell_type": "code",
   "execution_count": null,
   "metadata": {},
   "outputs": [],
   "source": [
    "print(len(dataset))"
   ]
  },
  {
   "cell_type": "code",
   "execution_count": null,
   "metadata": {},
   "outputs": [],
   "source": [
    "ground_truth = []\n",
    "for d in dataset:\n",
    "    if d[0] == img_path:\n",
    "        ground_truth.append(d)"
   ]
  },
  {
   "cell_type": "code",
   "execution_count": null,
   "metadata": {},
   "outputs": [],
   "source": [
    "im = np.array(Image.open(img_path), dtype=np.uint8)\n",
    "\n",
    "# Create figure and axes\n",
    "fig,ax = plt.subplots(1)\n",
    "\n",
    "# Display the image\n",
    "ax.imshow(im)\n",
    "\n",
    "# Create a Rectangle patch\n",
    "for gt in ground_truth:\n",
    "    rec = [int(d) for d in gt[1:5]]\n",
    "    # print(rec)\n",
    "    rect = patches.Rectangle((rec[0],rec[1]),rec[2]-rec[0],rec[3]-rec[1],linewidth=1,edgecolor='r',facecolor='none')\n",
    "\n",
    "    # Add the patch to the Axes\n",
    "    ax.add_patch(rect)\n",
    "\n",
    "plt.show()"
   ]
  },
  {
   "cell_type": "code",
   "execution_count": null,
   "metadata": {},
   "outputs": [],
   "source": []
  }
 ],
 "metadata": {
  "kernelspec": {
   "display_name": "Python 2",
   "language": "python",
   "name": "python2"
  },
  "language_info": {
   "codemirror_mode": {
    "name": "ipython",
    "version": 2
   },
   "file_extension": ".py",
   "mimetype": "text/x-python",
   "name": "python",
   "nbconvert_exporter": "python",
   "pygments_lexer": "ipython2",
   "version": "2.7.12"
  }
 },
 "nbformat": 4,
 "nbformat_minor": 2
}
