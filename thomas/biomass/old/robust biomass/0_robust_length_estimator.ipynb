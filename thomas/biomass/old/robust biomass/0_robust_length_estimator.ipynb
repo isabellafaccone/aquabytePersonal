{
 "cells": [
  {
   "cell_type": "code",
   "execution_count": null,
   "metadata": {},
   "outputs": [],
   "source": [
    "from PIL import Image\n",
    "import copy\n",
    "import matplotlib.pyplot as plt\n",
    "import numpy as np\n",
    "# import pandas as pd\n",
    "import os\n",
    "import glob\n",
    "# from utils import crop_and_mask\n",
    "# from obb import OBB\n",
    "import cv2\n",
    "# from error_analysor import convert_to_world_point, compute_length, compute_segmentation_error\n",
    "import sys\n",
    "sys.path.append(\"/root/simon/volume_estimation/\")\n",
    "# from data_loader import DataGenerator\n",
    "# import seaborn as sns\n",
    "%load_ext autoreload\n",
    "%autoreload 2"
   ]
  },
  {
   "cell_type": "markdown",
   "metadata": {},
   "source": [
    "## Utils functions"
   ]
  },
  {
   "cell_type": "code",
   "execution_count": null,
   "metadata": {},
   "outputs": [],
   "source": [
    "GREEN_RANGE_MIN_HSV = (100, 20, 20)\n",
    "GREEN_RANGE_MAX_HSV = (185, 255, 255)"
   ]
  },
  {
   "cell_type": "code",
   "execution_count": null,
   "metadata": {},
   "outputs": [],
   "source": [
    "def rgb_to_hsv(r, g, b):\n",
    "    maxc = max(r, g, b)\n",
    "    minc = min(r, g, b)\n",
    "    v = maxc\n",
    "    if minc == maxc:\n",
    "        return 0.0, 0.0, v\n",
    "    s = (maxc-minc) / maxc\n",
    "    rc = (maxc-r) / (maxc-minc)\n",
    "    gc = (maxc-g) / (maxc-minc)\n",
    "    bc = (maxc-b) / (maxc-minc)\n",
    "    if r == maxc:\n",
    "        h = bc-gc\n",
    "    elif g == maxc:\n",
    "        h = 2.0+rc-bc\n",
    "    else:\n",
    "        h = 4.0+gc-rc\n",
    "    h = (h/6.0) % 1.0\n",
    "    return h, s, v"
   ]
  },
  {
   "cell_type": "code",
   "execution_count": null,
   "metadata": {},
   "outputs": [],
   "source": [
    "def crop_and_mask(im, min_hsv=GREEN_RANGE_MIN_HSV, max_hsv=GREEN_RANGE_MAX_HSV):\n",
    "    \"\"\"remove green pixels\"\"\"\n",
    "    # im = Image.open(image_path)\n",
    "    # im = im.convert('RGBA')\n",
    "    pix = im.load()\n",
    "    width, height = im.size\n",
    "    for x in range(width):\n",
    "        for y in range(height):\n",
    "            r, g, b = pix[x, y]\n",
    "            h_ratio, s_ratio, v_ratio = rgb_to_hsv(r / 255.0, g / 255.0, b / 255.0)\n",
    "            h, s, v = (h_ratio * 360, s_ratio * 255, v_ratio * 255)\n",
    "\n",
    "            min_h, min_s, min_v = min_hsv\n",
    "            max_h, max_s, max_v = max_hsv\n",
    "            if min_h <= h <= max_h and min_s <= s <= max_s and min_v <= v <= max_v:\n",
    "                pix[x, y] = (0, 0, 0, 0)\n",
    "\n",
    "    # save the mask\n",
    "    mask = np.asarray(im)[...,0]\n",
    "    mask.flags.writeable = True\n",
    "    mask[mask > 0] = 1\n",
    "    return mask"
   ]
  },
  {
   "cell_type": "markdown",
   "metadata": {},
   "source": [
    "## Load images"
   ]
  },
  {
   "cell_type": "code",
   "execution_count": null,
   "metadata": {},
   "outputs": [],
   "source": [
    "left_path = '/root/data/blender/blender_test/Image0028_L.png'\n",
    "right_path = '/root/data/blender/blender_test/Image0028_R.png'\n",
    "ground_truth_depth_path = '/root/data/blender/blender_test/true_depth.npy'"
   ]
  },
  {
   "cell_type": "code",
   "execution_count": null,
   "metadata": {},
   "outputs": [],
   "source": [
    "# get ground truth mask + segmentation\n",
    "mask = crop_and_mask(Image.open(left_path))\n",
    "ground_truth_depth = np.load(ground_truth_depth_path)\n",
    "mdepth = ground_truth_depth * mask\n",
    "x, y = np.nonzero(mdepth>10)\n",
    "for (i,j) in zip(x,y):\n",
    "    mask[i,j] = 0\n",
    "mdepth = ground_truth_depth * mask"
   ]
  },
  {
   "cell_type": "code",
   "execution_count": null,
   "metadata": {},
   "outputs": [],
   "source": [
    "plt.imshow(mask)\n",
    "plt.show()"
   ]
  },
  {
   "cell_type": "markdown",
   "metadata": {},
   "source": [
    "# robustness to erosion / dilatation"
   ]
  },
  {
   "cell_type": "code",
   "execution_count": null,
   "metadata": {},
   "outputs": [],
   "source": [
    "from sklearn.cluster import DBSCAN, KMeans"
   ]
  },
  {
   "cell_type": "code",
   "execution_count": null,
   "metadata": {},
   "outputs": [],
   "source": [
    "X = np.stack([np.nonzero(mask)[0], np.nonzero(mask)[1]], axis=1)"
   ]
  },
  {
   "cell_type": "code",
   "execution_count": null,
   "metadata": {},
   "outputs": [],
   "source": [
    "# from sklearn.cluster import DBSCAN\n",
    "# from sklearn import metrics\n",
    "# from sklearn.datasets.samples_generator import make_blobs\n",
    "# from sklearn.preprocessing import StandardScaler\n",
    "\n",
    "# centers = [[1, 1], [-1, -1], [1, -1]]\n",
    "# X, labels_true = make_blobs(n_samples=750, centers=centers, cluster_std=0.4,\n",
    "#                             random_state=0)"
   ]
  },
  {
   "cell_type": "code",
   "execution_count": null,
   "metadata": {},
   "outputs": [],
   "source": [
    "# \n",
    "# db = DBSCAN(eps=1.0, min_samples=5).fit(X)"
   ]
  },
  {
   "cell_type": "code",
   "execution_count": null,
   "metadata": {},
   "outputs": [],
   "source": [
    "# # core_samples_mask = np.zeros_like(db.labels_, dtype=bool)\n",
    "# core_samples_mask[db.core_sample_indices_] = True\n",
    "# labels = db.labels_"
   ]
  },
  {
   "cell_type": "code",
   "execution_count": null,
   "metadata": {},
   "outputs": [],
   "source": [
    "# import matplotlib.pyplot as plt\n",
    "\n",
    "# # Black removed and is used for noise instead.\n",
    "# unique_labels = set(labels)\n",
    "# colors = [plt.cm.Spectral(each)\n",
    "#           for each in np.linspace(0, 1, len(unique_labels))]\n",
    "# for k, col in zip(unique_labels, colors):\n",
    "#     if k == -1:\n",
    "#         # Black used for noise.\n",
    "#         col = [0, 0, 0, 1]\n",
    "\n",
    "#     class_member_mask = (labels == k)\n",
    "\n",
    "#     xy = X[class_member_mask & core_samples_mask]\n",
    "#     plt.plot(xy[:, 0], xy[:, 1], 'o', markerfacecolor=tuple(col),\n",
    "#              markeredgecolor='k', markersize=14)\n",
    "\n",
    "#     xy = X[class_member_mask & ~core_samples_mask]\n",
    "#     plt.plot(xy[:, 0], xy[:, 1], 'o', markerfacecolor=tuple(col),\n",
    "#              markeredgecolor='k', markersize=6)\n"
   ]
  },
  {
   "cell_type": "code",
   "execution_count": null,
   "metadata": {},
   "outputs": [],
   "source": [
    "random_state = 170\n",
    "y_pred = KMeans(n_clusters=2, random_state=random_state).fit_predict(X)"
   ]
  },
  {
   "cell_type": "code",
   "execution_count": null,
   "metadata": {},
   "outputs": [],
   "source": [
    "centroids = []\n",
    "for label in np.unique(y_pred):\n",
    "    x_mean = np.mean(X[y_pred==label, 0])\n",
    "    y_mean = np.mean(X[y_pred==label, 1])\n",
    "    centroids.append((x_mean, y_mean))\n",
    "true_centroids = np.array(centroids)"
   ]
  },
  {
   "cell_type": "code",
   "execution_count": null,
   "metadata": {},
   "outputs": [],
   "source": [
    "plt.scatter(X[:, 1], X[:, 0], c=y_pred)\n",
    "plt.scatter(true_centroids[:, 1], true_centroids[:, 0], c='r')\n",
    "plt.gca().invert_yaxis()\n",
    "plt.title(\"Centroids\")\n",
    "plt.show()"
   ]
  },
  {
   "cell_type": "code",
   "execution_count": null,
   "metadata": {},
   "outputs": [],
   "source": [
    "centroid0_x = []\n",
    "centroid0_y = []\n",
    "centroid1_x = []\n",
    "centroid1_y = []\n",
    "distances = []\n",
    "for s in range(0, 23):\n",
    "    if s > 0:\n",
    "        kernel = np.ones((s, s))\n",
    "        eroded_mask = cv2.erode(mask, kernel)\n",
    "    else:\n",
    "        eroded_mask = mask\n",
    "    X = np.stack([np.nonzero(eroded_mask)[0], np.nonzero(eroded_mask)[1]], axis=1)\n",
    "    y_pred = KMeans(n_clusters=2, random_state=random_state).fit_predict(X)\n",
    "    centroids = []\n",
    "    for label in np.unique(y_pred):\n",
    "        x_mean = np.mean(X[y_pred==label, 0])\n",
    "        y_mean = np.mean(X[y_pred==label, 1])\n",
    "        centroids.append((x_mean, y_mean))\n",
    "    centroids = np.array(centroids)\n",
    "    \n",
    "    # plot mask + centroids\n",
    "    plt.scatter(X[:, 1], X[:, 0], c=y_pred)\n",
    "    plt.scatter(centroids[:, 1], centroids[:, 0], c='r')\n",
    "    centroid0_x.append(max(centroids[:, 1]))\n",
    "    centroid0_y.append(max(centroids[:, 0]))\n",
    "    centroid1_x.append(min(centroids[:, 1]))\n",
    "    centroid1_y.append(min(centroids[:, 0]))\n",
    "    \n",
    "    dist = np.linalg.norm(centroids[0, :] - centroids[1, :])\n",
    "    distances.append(dist)\n",
    "    plt.gca().invert_yaxis()\n",
    "    plt.title(\"Centroids\")\n",
    "    plt.show()"
   ]
  },
  {
   "cell_type": "code",
   "execution_count": null,
   "metadata": {},
   "outputs": [],
   "source": [
    "plt.plot(distances)\n",
    "plt.title('inter-centroids distance')"
   ]
  },
  {
   "cell_type": "code",
   "execution_count": null,
   "metadata": {},
   "outputs": [],
   "source": [
    "np.max(distances) / np.min(distances)"
   ]
  },
  {
   "cell_type": "code",
   "execution_count": null,
   "metadata": {},
   "outputs": [],
   "source": [
    "plt.figure(figsize=(10, 5))\n",
    "plt.scatter(X[:, 1], X[:, 0], c=y_pred)\n",
    "plt.scatter(true_centroids[:, 1], true_centroids[:, 0], c='r', s=200)\n",
    "plt.scatter(centroid0_x, centroid1_y, c='k', alpha = 0.5, marker='x', linewidths=10, s=100)\n",
    "plt.scatter(centroid1_x, centroid0_y, c='w', alpha = 0.5, marker='x', linewidths=10, s=100)\n",
    "plt.gca().invert_yaxis()\n",
    "plt.title(\"Centroids\")\n",
    "plt.show()"
   ]
  },
  {
   "cell_type": "code",
   "execution_count": null,
   "metadata": {},
   "outputs": [],
   "source": [
    "plt.plot(centroid0_x)\n",
    "plt.plot(centroid0_y)\n",
    "plt.plot(centroid1_x)\n",
    "plt.plot(centroid1_y)\n",
    "plt.xlabel('Erosion')"
   ]
  },
  {
   "cell_type": "code",
   "execution_count": null,
   "metadata": {},
   "outputs": [],
   "source": []
  }
 ],
 "metadata": {
  "kernelspec": {
   "display_name": "Python 3",
   "language": "python",
   "name": "python3"
  },
  "language_info": {
   "codemirror_mode": {
    "name": "ipython",
    "version": 3
   },
   "file_extension": ".py",
   "mimetype": "text/x-python",
   "name": "python",
   "nbconvert_exporter": "python",
   "pygments_lexer": "ipython3",
   "version": "3.5.2"
  }
 },
 "nbformat": 4,
 "nbformat_minor": 2
}
