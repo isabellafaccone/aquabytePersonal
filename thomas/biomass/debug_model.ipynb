{
 "cells": [
  {
   "cell_type": "code",
   "execution_count": null,
   "metadata": {},
   "outputs": [],
   "source": [
    "import os\n",
    "import sys\n",
    "from sqlalchemy import Column, ForeignKey, Integer, String\n",
    "from sqlalchemy.ext.declarative import declarative_base\n",
    "from sqlalchemy.orm import relationship\n",
    "from sqlalchemy import create_engine\n",
    "from sqlalchemy.orm import sessionmaker\n",
    "from sqlalchemy import MetaData\n",
    "from sqlalchemy import Table, select, func, and_, insert, delete, update, or_\n",
    "from sqlalchemy import create_engine\n",
    "from sqlalchemy.orm import sessionmaker\n",
    "from sqlalchemy.ext.automap import automap_base"
   ]
  },
  {
   "cell_type": "code",
   "execution_count": null,
   "metadata": {},
   "outputs": [],
   "source": [
    "import json\n",
    "\n",
    "sql_credentials = json.load(open('/root/thomas/sqlcredentials.json'))"
   ]
  },
  {
   "cell_type": "code",
   "execution_count": null,
   "metadata": {},
   "outputs": [],
   "source": [
    "from sqlalchemy import create_engine\n",
    "\n",
    "engine = create_engine(\n",
    "    \"postgresql://{}:{}@{}:{}/{}\".format(sql_credentials[\"user\"], sql_credentials[\"password\"],\n",
    "                                         sql_credentials[\"host\"], sql_credentials[\"port\"],\n",
    "                                         sql_credentials[\"database\"]))\n"
   ]
  },
  {
   "cell_type": "code",
   "execution_count": null,
   "metadata": {},
   "outputs": [],
   "source": [
    "session_class = sessionmaker(bind=engine)\n",
    "session = session_class()\n",
    "\n",
    "Base = automap_base()\n",
    "Base.prepare(engine, reflect=True)"
   ]
  },
  {
   "cell_type": "code",
   "execution_count": null,
   "metadata": {},
   "outputs": [],
   "source": [
    "keypoints = Base.classes.keypoint_annotations\n",
    "biomass = Base.classes.biomass_computations\n",
    "detections = Base.classes.fish_detections"
   ]
  },
  {
   "cell_type": "code",
   "execution_count": null,
   "metadata": {},
   "outputs": [],
   "source": [
    "results = session.query(keypoints, biomass, detections) \\\n",
    "                 .filter(biomass.keypoint_annotation_id == keypoints.id) \\\n",
    "                 .filter(keypoints.fish_detection_id == detections.id) \\\n",
    "                 .filter(detections.captured_at >= '2019-04-27') \\\n",
    "                 .all()"
   ]
  },
  {
   "cell_type": "code",
   "execution_count": null,
   "metadata": {},
   "outputs": [],
   "source": [
    "print(len(results))"
   ]
  },
  {
   "cell_type": "markdown",
   "metadata": {},
   "source": [
    "Calculate pairwise distances"
   ]
  },
  {
   "cell_type": "code",
   "execution_count": null,
   "metadata": {},
   "outputs": [],
   "source": [
    "from aquabyte.optics import convert_to_world_point, depth_from_disp\n",
    "import numpy as np"
   ]
  },
  {
   "cell_type": "code",
   "execution_count": null,
   "metadata": {},
   "outputs": [],
   "source": [
    "def kp2world(keypoints, params, order):\n",
    "    left_kp = keypoints['leftCrop']\n",
    "    right_kp = keypoints['rightCrop']\n",
    "    \n",
    "    out = []\n",
    "    for kpname in order:\n",
    "        lkp = [kp for kp in left_kp if kp['keypointType'] == kpname][0]\n",
    "        rkp = [kp for kp in right_kp if kp['keypointType'] == kpname][0]\n",
    "        leftx = lkp['xFrame']\n",
    "        lefty = lkp['yFrame']\n",
    "        rightx = rkp['xFrame']\n",
    "        \n",
    "        disp = leftx - rightx\n",
    "        depth = depth_from_disp(disp, params)\n",
    "        world = convert_to_world_point(leftx, lefty, depth, params)\n",
    "        out.append({'name': kpname, 'coord': world})\n",
    "        \n",
    "#     for kp in left_kp:\n",
    "#         name = kp['keypointType']\n",
    "#         leftx = kp['xFrame']\n",
    "#         lefty = kp['yFrame']\n",
    "#         for kp1 in right_kp:\n",
    "#             name1 = kp1['keypointType']\n",
    "#             if name1 == name:\n",
    "#                 rightx = kp1['xFrame']\n",
    "#                 break\n",
    "\n",
    "    return out"
   ]
  },
  {
   "cell_type": "code",
   "execution_count": null,
   "metadata": {},
   "outputs": [],
   "source": [
    "def calculate_pwd(worldkps):\n",
    "    out = {}\n",
    "    for (i, kp) in enumerate(worldkps):\n",
    "        for (j, kp1) in enumerate(worldkps[i+1:]):\n",
    "            dist_name = kp['name'] + '-' + kp1['name']\n",
    "            dist = np.linalg.norm(kp['coord'] - kp1['coord'])\n",
    "            out[dist_name] = dist\n",
    "    return out"
   ]
  },
  {
   "cell_type": "code",
   "execution_count": null,
   "metadata": {},
   "outputs": [],
   "source": [
    "order = ['UPPER_LIP',\n",
    " 'EYE',\n",
    " 'DORSAL_FIN',\n",
    " 'ADIPOSE_FIN',\n",
    " 'TAIL_NOTCH',\n",
    " 'ANAL_FIN',\n",
    " 'PELVIC_FIN',\n",
    " 'PECTORAL_FIN']"
   ]
  },
  {
   "cell_type": "code",
   "execution_count": null,
   "metadata": {},
   "outputs": [],
   "source": [
    "parsed_results = []\n",
    "for r in results:\n",
    "    camera_params = {\"PIXEL_COUNT_WIDTH\": r[2].camera_metadata['pixelCountWidth'],\n",
    "                     \"PIXEL_COUNT_HEIGHT\": r[2].camera_metadata['pixelCountHeight'],\n",
    "                     \"IMAGE_SENSOR_HEIGHT\": r[2].camera_metadata['imageSensorHeight'],\n",
    "                     \"IMAGE_SENSOR_WIDTH\": r[2].camera_metadata['imageSensorWidth'],\n",
    "                     \"FOCAL_LENGTH\": r[2].camera_metadata['focalLength'],\n",
    "                     \"FOCAL_LENGTH_PIXEL\": r[2].camera_metadata['focalLengthPixel'],\n",
    "                     \"BASELINE\": r[2].camera_metadata['baseline'],\n",
    "                    }\n",
    "    keypoints = r[0].keypoints\n",
    "    if not keypoints:\n",
    "        continue\n",
    "    if 'leftCrop' not in keypoints:\n",
    "        continue\n",
    "    biomass = r[1].estimated_biomass_g\n",
    "    \n",
    "    worldkps = kp2world(keypoints, camera_params, order)\n",
    "    if len(worldkps) < 8:\n",
    "        continue\n",
    "    pairwise_distances = calculate_pwd(worldkps)\n",
    "    \n",
    "    parsed_results.append([camera_params, keypoints, biomass, pairwise_distances, \n",
    "                           r[2].id, r[2].created_at, r[2].left_image_url, r[2].right_image_url, \n",
    "                           r[0].is_qa, r[2].camera_metadata, r[2].site_id, r[2].pen_id, r[1].keypoint_annotation_id])"
   ]
  },
  {
   "cell_type": "markdown",
   "metadata": {},
   "source": [
    "Some plots"
   ]
  },
  {
   "cell_type": "code",
   "execution_count": null,
   "metadata": {},
   "outputs": [],
   "source": [
    "import matplotlib.pyplot as plt"
   ]
  },
  {
   "cell_type": "code",
   "execution_count": null,
   "metadata": {},
   "outputs": [],
   "source": [
    "biomasses = [r[2] for r in parsed_results]\n",
    "plt.hist(biomasses)\n",
    "plt.title('Weight distribution (g) - from db')\n",
    "plt.show()"
   ]
  },
  {
   "cell_type": "code",
   "execution_count": null,
   "metadata": {},
   "outputs": [],
   "source": [
    "distances = {}\n",
    "for r in parsed_results:\n",
    "    for (dname, d) in r[3].items():\n",
    "        if dname not in distances:\n",
    "            distances[dname] = []\n",
    "        distances[dname].append(d)"
   ]
  },
  {
   "cell_type": "code",
   "execution_count": null,
   "metadata": {},
   "outputs": [],
   "source": [
    "for (k, v) in distances.items():\n",
    "    plt.hist(v)\n",
    "    plt.title(k)\n",
    "    plt.show()\n",
    "    \n",
    "    plt.scatter(np.array(v)*100, biomasses)\n",
    "    plt.xlabel('Distance in cm')\n",
    "    plt.show()\n",
    "    print(np.mean(v), np.std(v))\n",
    "    print(np.where(np.abs(v - np.mean(v)) > 2*np.std(v)))\n",
    "    print('#'*50)"
   ]
  },
  {
   "cell_type": "code",
   "execution_count": null,
   "metadata": {},
   "outputs": [],
   "source": [
    "import cv2"
   ]
  },
  {
   "cell_type": "code",
   "execution_count": null,
   "metadata": {},
   "outputs": [],
   "source": [
    "# test = parsed_results[123]\n",
    "# lkps = test[1]['leftCrop']\n",
    "# rkps = test[1]['rightCrop']"
   ]
  },
  {
   "cell_type": "code",
   "execution_count": null,
   "metadata": {},
   "outputs": [],
   "source": [
    "# plt.figure(figsize=(20, 10))\n",
    "# plt.imshow(cv2.imread('/root/data/rds/left_frame_crop_598_102_3154_2030.jpg'))\n",
    "# for kp in lkps:\n",
    "#     plt.scatter(kp['xCrop'], kp['yCrop'])\n",
    "#     plt.text(kp['xCrop'], kp['yCrop'], kp['keypointType'], color='white')\n",
    "# plt.show()"
   ]
  },
  {
   "cell_type": "code",
   "execution_count": null,
   "metadata": {},
   "outputs": [],
   "source": [
    "# plt.figure(figsize=(20, 10))\n",
    "# plt.imshow(cv2.imread('/root/data/rds/right_frame_crop_142_67_2610_1971.jpg'))\n",
    "# for kp in rkps:\n",
    "#     plt.scatter(kp['xCrop'], kp['yCrop'])\n",
    "#     plt.text(kp['xCrop'], kp['yCrop'], kp['keypointType'], color='white')\n",
    "# plt.show()"
   ]
  },
  {
   "cell_type": "markdown",
   "metadata": {},
   "source": [
    "Save in the same format"
   ]
  },
  {
   "cell_type": "code",
   "execution_count": null,
   "metadata": {},
   "outputs": [],
   "source": [
    "from datetime import datetime"
   ]
  },
  {
   "cell_type": "code",
   "execution_count": null,
   "metadata": {},
   "outputs": [],
   "source": [
    "target_format = json.load(open(\"/root/data/gtsf_phase_I/2019-02-26/2019-02-26_cogito_annotations.json\"))"
   ]
  },
  {
   "cell_type": "code",
   "execution_count": null,
   "metadata": {},
   "outputs": [],
   "source": [
    "new = []\n",
    "for (ts, res) in enumerate(parsed_results):\n",
    "    tmpleft = {'timestamp': ts, \n",
    "               \"species\": 'salmon',\n",
    "               'kfactor': 1.0,\n",
    "               'Label': {},\n",
    "               'local_path': res[6],\n",
    "               'site_id': res[10],\n",
    "               'pen_id': res[11],\n",
    "               'keypoint_annotation_id': res[12]}\n",
    "    tmpright = {'timestamp': ts, \n",
    "               \"species\": 'salmon',\n",
    "               'kfactor': 1.0,\n",
    "               'Label': {},\n",
    "               'local_path': res[7],\n",
    "               'site_id': res[10],\n",
    "               'pen_id': res[11],\n",
    "               'keypoint_annotation_id': res[12]}\n",
    "    \n",
    "    for lkp in res[1]['leftCrop']:\n",
    "        tmpleft['Label'][lkp['keypointType']] = [{'geometry': {'x': lkp['xFrame'], 'y': lkp['yFrame']}}]\n",
    "        \n",
    "    for rkp in res[1]['rightCrop']:\n",
    "        tmpright['Label'][rkp['keypointType']] = [{'geometry': {'x': rkp['xFrame'], 'y': rkp['yFrame']}}]\n",
    "    \n",
    "    new.append(tmpleft)\n",
    "    new.append(tmpright)"
   ]
  },
  {
   "cell_type": "code",
   "execution_count": null,
   "metadata": {},
   "outputs": [],
   "source": [
    "with open('/root/data/rds/formatted.json', 'w') as f:\n",
    "    json.dump(new, f)"
   ]
  },
  {
   "cell_type": "code",
   "execution_count": null,
   "metadata": {},
   "outputs": [],
   "source": [
    "res[0]"
   ]
  },
  {
   "cell_type": "markdown",
   "metadata": {},
   "source": [
    "Biomass production code"
   ]
  },
  {
   "cell_type": "code",
   "execution_count": null,
   "metadata": {},
   "outputs": [],
   "source": [
    "def convert_to_world_point(x, y, d):\n",
    "    \"\"\" from pixel coordinates to world coordinates \"\"\"\n",
    "    \n",
    "    image_center_x = PIXEL_COUNT_WIDTH / 2.0  \n",
    "    image_center_y = PIXEL_COUNT_HEIGHT / 2.0\n",
    "    px_x = x - image_center_x\n",
    "    px_z = image_center_y - y\n",
    "\n",
    "    sensor_x = px_x * (IMAGE_SENSOR_WIDTH / 4096)\n",
    "    sensor_z = px_z * (IMAGE_SENSOR_HEIGHT / 3000)\n",
    "    print(sensor_x, sensor_z)\n",
    "    # d = depth_map[y, x]\n",
    "    world_y = d\n",
    "    world_x = (world_y * sensor_x) / FOCAL_LENGTH\n",
    "    world_z = (world_y * sensor_z) / FOCAL_LENGTH\n",
    "    return np.array([world_x, world_y, world_z])"
   ]
  },
  {
   "cell_type": "code",
   "execution_count": null,
   "metadata": {},
   "outputs": [],
   "source": [
    "import numpy as np\n",
    "from sqlalchemy import create_engine, MetaData, Table, exc\n",
    "\n",
    "def euclidean_distance(p1, p2):\n",
    "    return ((p1[0] - p2[0])**2 + (p1[1] - p2[1])**2 + (p1[2] - p2[2])**2)**0.5\n",
    "\n",
    "\n",
    "def convert_to_world_point(x, y, d, parameters):\n",
    "    \"\"\" from pixel coordinates to world coordinates \"\"\"\n",
    "    # get relevant parameters\n",
    "    pixel_count_height = 3000 # parameters[\"pixelCountWidth\"]\n",
    "    pixel_count_width = 4096 #parameters[\"pixelCountHeight\"]\n",
    "    sensor_width = parameters[\"imageSensorWidth\"]\n",
    "    sensor_height = parameters[\"imageSensorHeight\"]\n",
    "    focal_length = parameters[\"focalLength\"]\n",
    "\n",
    "    image_center_x = pixel_count_width / 2.0\n",
    "    image_center_y = pixel_count_height / 2.0\n",
    "    px_x = x - image_center_x\n",
    "    px_z = image_center_y - y\n",
    "\n",
    "    sensor_x = px_x * (sensor_width / pixel_count_width)\n",
    "    sensor_z = px_z * (sensor_height / pixel_count_height)\n",
    "#     print(image_center_x, image_center_y, px_x, px_z, sensor_x, sensor_z)\n",
    "    # now move to world coordinates\n",
    "    world_y = d\n",
    "    world_x = (world_y * sensor_x) / focal_length\n",
    "    world_z = (world_y * sensor_z) / focal_length\n",
    "    return np.array([world_x, world_y, world_z])\n",
    "\n",
    "\n",
    "def depth_from_disp(disp, parameters):\n",
    "    \"\"\" calculate the depth of the point based on the disparity value \"\"\"\n",
    "    focal_length_pixel = parameters[\"focalLengthPixel\"]\n",
    "\n",
    "    baseline = parameters[\"baseline\"]\n",
    "    depth = focal_length_pixel * baseline / np.array(disp)\n",
    "    return depth\n",
    "\n",
    "\n",
    "def pixel2world(left_crop, right_crop, parameters):\n",
    "    \"\"\"2D pixel coordinates to 3D world coordinates\"\"\"\n",
    "\n",
    "    # first create a dic with crop keypoints\n",
    "    image_coordinates = {\"leftCrop\": {},\n",
    "                         \"rightCrop\": {}}\n",
    "    for keypoint in left_crop:\n",
    "        name = keypoint[\"keypointType\"]\n",
    "        image_coordinates[\"leftCrop\"][name] = [keypoint[\"xFrame\"], keypoint[\"yFrame\"]]\n",
    "    for keypoint in right_crop:\n",
    "        name = keypoint[\"keypointType\"]\n",
    "        image_coordinates[\"rightCrop\"][name] = [keypoint[\"xFrame\"], keypoint[\"yFrame\"]]\n",
    "    \n",
    "    # then loop through the right crop keypoints and calculate the world coordinates\n",
    "    world_coordinates = {}\n",
    "    for keypoint in left_crop:\n",
    "        name = keypoint[\"keypointType\"]\n",
    "        disparity = image_coordinates[\"leftCrop\"][name][0] - image_coordinates[\"rightCrop\"][name][0]\n",
    "        depth = depth_from_disp(disparity, parameters)\n",
    "        \n",
    "        world_point = convert_to_world_point(image_coordinates[\"leftCrop\"][name][0],\n",
    "                                             image_coordinates[\"leftCrop\"][name][1],\n",
    "                                             depth,\n",
    "                                             parameters)\n",
    "#         print(image_coordinates[\"leftCrop\"][name], depth, world_point)\n",
    "        world_coordinates[name] = world_point\n",
    "    return world_coordinates\n",
    "\n",
    "\n",
    "def coord2biomass(world_keypoints, blender):\n",
    "    \"\"\"from coordinates to biomass\"\"\"\n",
    "\n",
    "    # mapping helps for consistency with the kp order\n",
    "    reverse_mapping = blender[\"reverse_mapping\"]\n",
    "    distances = np.array(blender[\"distances\"])\n",
    "    volumes = blender[\"volume\"]\n",
    "    regression_coeff = blender[\"coeff\"]\n",
    "\n",
    "    # calculate pairwise distances for production coord\n",
    "    # the reverse mapping insure that we listing the kp\n",
    "    # in the same order\n",
    "    measurements = []\n",
    "    number_of_parts = len(world_keypoints)\n",
    "    for k in range(number_of_parts):\n",
    "        v = world_keypoints[reverse_mapping[str(k)]]\n",
    "        for k0 in range(k+1, number_of_parts):\n",
    "            v0 = world_keypoints[reverse_mapping[str(k0)]]\n",
    "            dist = euclidean_distance(v, v0)*1000 # mm to m\n",
    "            measurements.append(dist)\n",
    "    print(measurements)\n",
    "    # measurements = np.array(measurements)\n",
    "    \n",
    "    # absolute diff\n",
    "    diff = np.nanmean(np.abs(distances - measurements), axis=1)\n",
    "    print(diff)\n",
    "    closest = np.argmin(diff)\n",
    "    print(closest)\n",
    "    prediction = volumes[closest]\n",
    "\n",
    "    # here is some machine learning\n",
    "    prediction = prediction*regression_coeff[0] + regression_coeff[1]\n",
    "    return prediction"
   ]
  },
  {
   "cell_type": "code",
   "execution_count": null,
   "metadata": {},
   "outputs": [],
   "source": [
    "class BiomassModel:\n",
    "    def __init__(self, volumes_location, db_params):\n",
    "        # open the file containing the blender volumes\n",
    "        with open(volumes_location, \"r\") as f:\n",
    "            self.blender = json.load(f)\n",
    "        self.db_params = db_params\n",
    "        # self.logger = logging.getLogger()\n",
    "\n",
    "    def predict(self, jsondata):\n",
    "        biomass = None\n",
    "        # get the data\n",
    "        try:\n",
    "#             annotation_id = jsondata[\"annotationId\"]\n",
    "            parameters = jsondata[\"cameraParameters\"]\n",
    "            right_crop = jsondata[\"rightCrop\"]\n",
    "            left_crop = jsondata[\"leftCrop\"]\n",
    "#             site_id = jsondata[\"siteId\"]\n",
    "#             pen_id = jsondata[\"penId\"]\n",
    "\n",
    "\n",
    "\n",
    "            # pixel coordinates to world coordinates\n",
    "            coordinates = pixel2world(left_crop, right_crop, parameters)\n",
    "\n",
    "            # coordinates to biomass\n",
    "            biomass = coord2biomass(coordinates, self.blender)\n",
    "\n",
    "\n",
    "#             # update biomass\n",
    "#             updatebiomass(biomass, annotation_id, site_id, pen_id, self.logger, user=self.db_params.user\n",
    "#                         , password=self.db_params.password, host=self.db_params.host\n",
    "#                           , port=self.db_params.port, database=self.db_params.db_name)\n",
    "        except Exception as e:\n",
    "            # self.logger.info(e)\n",
    "            print(\"ERROR: {}\".format(e))\n",
    "        return coordinates, biomass"
   ]
  },
  {
   "cell_type": "code",
   "execution_count": null,
   "metadata": {},
   "outputs": [],
   "source": [
    "bm = BiomassModel(\"/root/thomas/blender/volumes_all.json\", None)"
   ]
  },
  {
   "cell_type": "code",
   "execution_count": null,
   "metadata": {},
   "outputs": [],
   "source": [
    "np.array(bm.blender['distances'])[0, :]"
   ]
  },
  {
   "cell_type": "code",
   "execution_count": null,
   "metadata": {},
   "outputs": [],
   "source": [
    "bmasses = []\n",
    "for res in parsed_results:\n",
    "    jsondata = {}\n",
    "    jsondata['cameraParameters'] = res[-1]\n",
    "    jsondata[\"rightCrop\"] = res[1]['rightCrop']\n",
    "    jsondata[\"leftCrop\"] = res[1]['leftCrop']\n",
    "    \n",
    "    coord, bmass = bm.predict(jsondata)\n",
    "#     print(coord)\n",
    "    bmasses.append(bmass)\n",
    "    break"
   ]
  },
  {
   "cell_type": "code",
   "execution_count": null,
   "metadata": {},
   "outputs": [],
   "source": [
    "plt.hist(bmasses)\n",
    "plt.show()"
   ]
  },
  {
   "cell_type": "code",
   "execution_count": null,
   "metadata": {},
   "outputs": [],
   "source": []
  },
  {
   "cell_type": "code",
   "execution_count": null,
   "metadata": {},
   "outputs": [],
   "source": []
  }
 ],
 "metadata": {
  "kernelspec": {
   "display_name": "Python 3",
   "language": "python",
   "name": "python3"
  },
  "language_info": {
   "codemirror_mode": {
    "name": "ipython",
    "version": 3
   },
   "file_extension": ".py",
   "mimetype": "text/x-python",
   "name": "python",
   "nbconvert_exporter": "python",
   "pygments_lexer": "ipython3",
   "version": "3.5.2"
  }
 },
 "nbformat": 4,
 "nbformat_minor": 2
}
