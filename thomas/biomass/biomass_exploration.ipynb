{
 "cells": [
  {
   "cell_type": "markdown",
   "metadata": {},
   "source": [
    "# LOAD THE DATASET"
   ]
  },
  {
   "cell_type": "code",
   "execution_count": null,
   "metadata": {},
   "outputs": [],
   "source": [
    "import numpy as np\n",
    "import pandas as pd"
   ]
  },
  {
   "cell_type": "code",
   "execution_count": null,
   "metadata": {},
   "outputs": [],
   "source": [
    "# {1: {'id': 1, 'name': 'F', 'supercategory': 'F'},\n",
    "#  2: {'id': 2, 'name': 'Head', 'supercategory': 'Head'},\n",
    "#  3: {'id': 3, 'name': 'Caudal Fin', 'supercategory': 'Caudal Fin'},\n",
    "#  4: {'id': 4, 'name': 'Dorsal Fin', 'supercategory': 'Dorsal Fin'},\n",
    "#  5: {'id': 5, 'name': 'Adipose Fin', 'supercategory': 'Adipose Fin'},\n",
    "#  6: {'id': 6, 'name': 'Anal Fin', 'supercategory': 'Anal Fin'},\n",
    "#  7: {'id': 7, 'name': 'Pelvic Fin', 'supercategory': 'Pelvic Fin'},\n",
    "#  8: {'id': 8, 'name': 'Pectoral Fin', 'supercategory': 'Pectoral Fin'},\n",
    "#  9: {'id': 9, 'name': 'Eye', 'supercategory': 'Eye'},\n",
    "#  10: {'id': 10, 'name': 'Body', 'supercategory': 'Body'}}"
   ]
  },
  {
   "cell_type": "code",
   "execution_count": null,
   "metadata": {},
   "outputs": [],
   "source": [
    "df = pd.read_csv('/root/data/small_pen_data_collection/dataset_13k_pairs.csv')\n",
    "print(df.shape)\n",
    "# drop full fish stuff\n",
    "df = df.drop(columns=[\"1\" + str(i) for i in range(2, 10)])\n",
    "# drop eye\n",
    "df = df.drop(columns=[str(i) + \"9\" for i in range(2, 9)])\n",
    "df = df.drop(columns=[\"Unnamed: 0\"])\n",
    "print(df.shape)"
   ]
  },
  {
   "cell_type": "code",
   "execution_count": null,
   "metadata": {},
   "outputs": [],
   "source": [
    "df.head()"
   ]
  },
  {
   "cell_type": "code",
   "execution_count": null,
   "metadata": {},
   "outputs": [],
   "source": [
    "from collections import Counter"
   ]
  },
  {
   "cell_type": "code",
   "execution_count": null,
   "metadata": {},
   "outputs": [],
   "source": [
    "mapping = {0:0, 6:1, 11:2, 15:3, 18:4, 20:5, 21:6}\n",
    "row_sum = df.isnull().sum(axis=1)"
   ]
  },
  {
   "cell_type": "code",
   "execution_count": null,
   "metadata": {},
   "outputs": [],
   "source": [
    "for c in Counter(row_sum).most_common():\n",
    "    print(\"{} rows with {} missing body parts\".format(c[1], mapping[c[0]]))"
   ]
  },
  {
   "cell_type": "markdown",
   "metadata": {},
   "source": [
    "# LOOK AT THE RATIO"
   ]
  },
  {
   "cell_type": "code",
   "execution_count": null,
   "metadata": {},
   "outputs": [],
   "source": [
    "import matplotlib.pyplot as plt"
   ]
  },
  {
   "cell_type": "code",
   "execution_count": null,
   "metadata": {},
   "outputs": [],
   "source": [
    "dftemp = df.loc[df[\"ground_truth\"] == 6020]"
   ]
  },
  {
   "cell_type": "code",
   "execution_count": null,
   "metadata": {},
   "outputs": [],
   "source": [
    "col = \"23\""
   ]
  },
  {
   "cell_type": "code",
   "execution_count": null,
   "metadata": {},
   "outputs": [],
   "source": [
    "plt.hist(dftemp[col][~np.isnan(dftemp[col])])\n",
    "plt.show()"
   ]
  },
  {
   "cell_type": "code",
   "execution_count": null,
   "metadata": {},
   "outputs": [],
   "source": []
  },
  {
   "cell_type": "code",
   "execution_count": null,
   "metadata": {},
   "outputs": [],
   "source": []
  },
  {
   "cell_type": "code",
   "execution_count": null,
   "metadata": {},
   "outputs": [],
   "source": []
  },
  {
   "cell_type": "code",
   "execution_count": null,
   "metadata": {},
   "outputs": [],
   "source": []
  }
 ],
 "metadata": {
  "kernelspec": {
   "display_name": "Python 3",
   "language": "python",
   "name": "python3"
  },
  "language_info": {
   "codemirror_mode": {
    "name": "ipython",
    "version": 3
   },
   "file_extension": ".py",
   "mimetype": "text/x-python",
   "name": "python",
   "nbconvert_exporter": "python",
   "pygments_lexer": "ipython3",
   "version": "3.5.2"
  }
 },
 "nbformat": 4,
 "nbformat_minor": 2
}
