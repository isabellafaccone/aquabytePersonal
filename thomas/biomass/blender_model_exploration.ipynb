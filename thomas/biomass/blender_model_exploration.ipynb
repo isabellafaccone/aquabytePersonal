{
 "cells": [
  {
   "cell_type": "code",
   "execution_count": null,
   "metadata": {},
   "outputs": [],
   "source": [
    "import json\n",
    "import matplotlib.pyplot as plt\n",
    "import numpy as np\n",
    "import pandas as pd"
   ]
  },
  {
   "cell_type": "code",
   "execution_count": null,
   "metadata": {},
   "outputs": [],
   "source": [
    "with open(\"/root/thomas/blender/volumes_all.json\", \"r\") as f:\n",
    "    data = json.load(f)"
   ]
  },
  {
   "cell_type": "code",
   "execution_count": null,
   "metadata": {},
   "outputs": [],
   "source": [
    "mapping = data[\"mapping\"]\n",
    "reverse_mapping = data[\"reverse_mapping\"]\n",
    "number_of_parts = max(list(mapping.values()))+1"
   ]
  },
  {
   "cell_type": "code",
   "execution_count": null,
   "metadata": {},
   "outputs": [],
   "source": [
    "mapping"
   ]
  },
  {
   "cell_type": "code",
   "execution_count": null,
   "metadata": {},
   "outputs": [],
   "source": [
    "dataset = {\"volume\":[], \"kfactor\": []}\n",
    "dataset_np = []\n",
    "for (coord, vol) in zip(data[\"coordinates\"], data[\"volume\"]):\n",
    "    row = []\n",
    "    for k in range(number_of_parts):\n",
    "        v = coord[reverse_mapping[str(k)]]\n",
    "        for k0 in range(k+1, number_of_parts):\n",
    "            v0 = coord[reverse_mapping[str(k0)]]\n",
    "            dist = np.sqrt((v[2]-v0[2])**2 + (v[1]-v0[1])**2)\n",
    "            cname = \"{}-{}\".format(k, k0)\n",
    "            row.append(dist)\n",
    "            if cname not in dataset:\n",
    "                dataset[cname] = []\n",
    "            dataset[cname].append(dist)\n",
    "    dataset_np.append(row)\n",
    "    length = dataset[\"2-3\"][-1]\n",
    "    kf = vol*10**5 / length**3\n",
    "    dataset[\"volume\"].append(vol)\n",
    "    dataset[\"kfactor\"].append(kf)"
   ]
  },
  {
   "cell_type": "code",
   "execution_count": null,
   "metadata": {},
   "outputs": [],
   "source": [
    "df = pd.DataFrame(data=dataset)\n",
    "df.head()"
   ]
  },
  {
   "cell_type": "markdown",
   "metadata": {},
   "source": [
    "PLOT"
   ]
  },
  {
   "cell_type": "code",
   "execution_count": null,
   "metadata": {},
   "outputs": [],
   "source": [
    "plt.scatter(df[\"2-3\"], df[\"kfactor\"])\n",
    "plt.ylabel(\"K Factor\")\n",
    "plt.xlabel(\"Length (mm)\")\n",
    "plt.title(\"Blender models K factor as a function of length\")\n",
    "plt.show()"
   ]
  },
  {
   "cell_type": "code",
   "execution_count": null,
   "metadata": {},
   "outputs": [],
   "source": [
    "import cv2"
   ]
  },
  {
   "cell_type": "code",
   "execution_count": null,
   "metadata": {},
   "outputs": [],
   "source": [
    "plt.figure(figsize=(20, 10))\n",
    "plt.imshow(cv2.imread(\"/root/data/lice-data/crops/blom-kjeppevikholmen/2018-11-25/2/left_blom-kjeppevikholmen_2_1543143094624_1443_1235_2874_1971.jpg\"))"
   ]
  }
 ],
 "metadata": {
  "kernelspec": {
   "display_name": "Python 3",
   "language": "python",
   "name": "python3"
  },
  "language_info": {
   "codemirror_mode": {
    "name": "ipython",
    "version": 3
   },
   "file_extension": ".py",
   "mimetype": "text/x-python",
   "name": "python",
   "nbconvert_exporter": "python",
   "pygments_lexer": "ipython3",
   "version": "3.5.2"
  }
 },
 "nbformat": 4,
 "nbformat_minor": 2
}
