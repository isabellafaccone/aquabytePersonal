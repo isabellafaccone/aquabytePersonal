{
 "cells": [
  {
   "cell_type": "markdown",
   "metadata": {},
   "source": [
    "# blender"
   ]
  },
  {
   "cell_type": "code",
   "execution_count": null,
   "metadata": {},
   "outputs": [],
   "source": [
    "import pandas as pd\n",
    "import matplotlib.pyplot as plt\n",
    "import numpy as np\n",
    "import json"
   ]
  },
  {
   "cell_type": "code",
   "execution_count": null,
   "metadata": {},
   "outputs": [],
   "source": [
    "# two files\n",
    "with open(\"/root/thomas/blender/volumes_all.json\", \"r\") as f:\n",
    "    data = json.load(f)"
   ]
  },
  {
   "cell_type": "code",
   "execution_count": null,
   "metadata": {},
   "outputs": [],
   "source": [
    "data.keys()"
   ]
  },
  {
   "cell_type": "code",
   "execution_count": null,
   "metadata": {},
   "outputs": [],
   "source": [
    "# with open(\"/root/thomas/blender/volumes1.json\", \"r\") as f:\n",
    "#     data1 = json.load(f)"
   ]
  },
  {
   "cell_type": "code",
   "execution_count": null,
   "metadata": {},
   "outputs": [],
   "source": [
    "# for (k, v) in data1.items():\n",
    "#     data[k] += v"
   ]
  },
  {
   "cell_type": "code",
   "execution_count": null,
   "metadata": {},
   "outputs": [],
   "source": [
    "# # coord rename\n",
    "# for coord in data[\"coordinates\"]:\n",
    "#     for (kp, v) in coord.items():\n",
    "#         if kp == \"anal_fin\":\n",
    "#             new_kp = \"ANAL_FIN\"\n",
    "            \n",
    "#         elif kp == \"left_eye\":\n",
    "#             new_kp = \"EYE\"\n",
    "            \n",
    "#         elif kp == \"upper_mouth\":\n",
    "#             new_kp = \"UPPER_LIP\"\n",
    "            \n",
    "#         elif kp == \"Dorsal fin\":\n",
    "#             new_kp = \"DORSAL_FIN\"\n",
    "            \n",
    "#         elif kp == \"adipose_fin\":\n",
    "#             new_kp = \"ADIPOSE_FIN\"\n",
    "            \n",
    "#         elif kp == \"top_tail\":\n",
    "#             new_kp = \"TOP_CORNER_OF_TAIL\"\n",
    "            \n",
    "#         elif kp == \"bottom_tail\":\n",
    "#             new_kp = \"BOTTOM_CORNER_OF_TAIL\"        \n",
    "            \n",
    "#         elif kp == \"pelvic_left\":\n",
    "#             new_kp = \"PELVIC_FIN\"\n",
    "            \n",
    "#         elif kp == \"pectoral_left\":\n",
    "#             new_kp = \"PECTORAL_FIN\"\n",
    "            \n",
    "#         else:\n",
    "#             continue\n",
    "#         coord[new_kp] = v\n",
    "\n",
    "# # save to single file\n",
    "# with open(\"/root/thomas/blender/volumes_all.json\", \"w\") as f:\n",
    "#     json.dump(data, f)"
   ]
  },
  {
   "cell_type": "code",
   "execution_count": null,
   "metadata": {},
   "outputs": [],
   "source": [
    "plt.plot(np.array(data[\"dimensions\"])[:, 1], data[\"volume\"])\n",
    "plt.ylabel(\"Volume (cm^3)\")\n",
    "plt.xlabel(\"Length (mm)\")\n",
    "plt.show()"
   ]
  },
  {
   "cell_type": "code",
   "execution_count": null,
   "metadata": {},
   "outputs": [],
   "source": [
    "plt.hist(data[\"volume\"])\n",
    "plt.title(\"Blender volume histogram\")\n",
    "plt.show()"
   ]
  },
  {
   "cell_type": "code",
   "execution_count": null,
   "metadata": {},
   "outputs": [],
   "source": [
    "mapping_blender = {c:i for (i, c) in enumerate(data[\"coordinates\"][0].keys())}\n",
    "mapping_blender = {'Dorsal fin': 8,\n",
    " 'adipose_fin': 3,\n",
    " 'bottom_tail': 6,\n",
    " 'left_eye': 5,\n",
    " 'middle_tail': 0,\n",
    " 'pectoral_left': 11,\n",
    " 'pectoral_right': 9,\n",
    " 'pelvic_left': 2,\n",
    " 'pelvic_right': 10,\n",
    " 'right_eye': 1,\n",
    " 'top_tail': 4,\n",
    " 'upper_mouth': 7,\n",
    " 'anal_fin': 12}\n",
    "reverse_mapping = {v: k for (k,v) in mapping_blender.items()}\n",
    "mapping_blender"
   ]
  },
  {
   "cell_type": "code",
   "execution_count": null,
   "metadata": {},
   "outputs": [],
   "source": [
    "# calculate pairwise distances\n",
    "dataset = {\"volume\":[]}\n",
    "for (coord, vol) in zip(data[\"coordinates\"], data[\"volume\"]):\n",
    "#     obs = []\n",
    "#     distances = {}\n",
    "#     cols = []\n",
    "    for k in range(13):\n",
    "        v = coord[reverse_mapping[k]]\n",
    "        for k0 in range(k+1, 13):\n",
    "            v0 = coord[reverse_mapping[k0]]\n",
    "            dist = np.sqrt((v[2]-v0[2])**2 + (v[1]-v0[1])**2)\n",
    "            cname = \"{}-{}\".format(k, k0)\n",
    "            if cname not in dataset:\n",
    "                dataset[cname] = []\n",
    "            dataset[cname].append(dist)\n",
    "    dataset[\"volume\"].append(vol)\n",
    "            \n",
    "            # distances[\"{}-{}\".format(k, k0)] = dist\n",
    "            # cols.append(\"{}-{}\".format(k, k0))\n",
    "            # obs.append(dist)\n",
    "#     obs.append(vol)\n",
    "#     dataset.append(obs)\n",
    "\n",
    "#     for (k,v) in coord.items():\n",
    "#         for (k0,v0) in coord.items():\n",
    "#             if k == k0:\n",
    "#                 continue\n",
    "#             dist = np.sqrt((v[0]-v0[0])**2 + (v[1]-v0[1])**2)\n",
    "#             distances[\"{}{}\".format(mapping_blender[k], mapping_blender[k0])] = dist"
   ]
  },
  {
   "cell_type": "code",
   "execution_count": null,
   "metadata": {},
   "outputs": [],
   "source": [
    "import pandas as pd"
   ]
  },
  {
   "cell_type": "code",
   "execution_count": null,
   "metadata": {},
   "outputs": [],
   "source": [
    "df = pd.DataFrame(data=dataset)"
   ]
  },
  {
   "cell_type": "code",
   "execution_count": null,
   "metadata": {},
   "outputs": [],
   "source": [
    "df.to_csv(\"./dataframe_blender.csv\")"
   ]
  },
  {
   "cell_type": "code",
   "execution_count": null,
   "metadata": {},
   "outputs": [],
   "source": [
    "mapping_real = {'Upper lip to eye ': \"5-7\",\n",
    "               'Upper lip to pectoral fin': \"7-11\", \n",
    "                'Upper lip to pelvic fin': \"2-7\",\n",
    "               'Upper lip to anal fin': \"7-12\", \n",
    "                'Upper lip to dorsal fin': \"7-8\",\n",
    "               'Upper lip to adipose fin': \"3-8\", \n",
    "                'Upper lip to tail notch': None,\n",
    "               'Upper lip to bottom corner of tail': \"6-7\",\n",
    "               'Upper lip to top corner of the tail': \"4-7\", \n",
    "                'Eye to pectoral fin': \"5-11\",\n",
    "               'Eye to pelvic fin': \"2-5\", \n",
    "                'Eye to anal fin': \"5-12\", \n",
    "                'Eye to dorsal fin': \"5-8\",\n",
    "               'Eye to adipose fin': \"3-5\", \n",
    "                'Eye to tail notch': None,\n",
    "               'Eye to bottom corner of tail': \"5-6\", \n",
    "                'Eye to top corner of tail': \"4-5\",\n",
    "               'Pectoral fin to pelvic fin': \"2-11\", \n",
    "                'Pectoral fin to anal fin': \"11-12\",\n",
    "               'Pectoral fin to dorsal fin': \"8-11\", \n",
    "                'Pectoral fin to adipose fin': \"3-11\",\n",
    "               'Pectoral fin to tail notch': None,\n",
    "               'Pectoral fin to bottom corner of tail': \"6-11\",\n",
    "               'Pectoral fin to top corner of tail': \"4-11\", \n",
    "                'Pelvic fin to anal fin': None,\n",
    "               'Pelvic fin to dorsal fin': \"2-8\", \n",
    "                'Pelvic fin to adipose fin': \"2-3\",\n",
    "               'Pelvic fin to tail notch': None, \n",
    "                'Pelvic fin to bottom corner of tail': \"2-6\",\n",
    "               'Pelvic fin to top corner of tail': \"2-4\", \n",
    "                'Anal fin to dorsal fin': \"8-12\",\n",
    "               'Anal fin to adipose fin': \"3-12\", \n",
    "                'Anal fin to tail notch': None,\n",
    "               'Anal fin to bottom corner of tail': \"6-12\",\n",
    "               'Anal fin to top corner of tail': \"4-12\", \n",
    "                'Dorsal fin to adipose fin': \"3-8\",\n",
    "               'Dorsal fin to tail notch': None, \n",
    "                'Dorsal fin to bottom corner of tail': \"6-8\",\n",
    "               'Dorsal fin to top corner of tail':\"4-8\", \n",
    "                'Adipose fin to tail notch': None,\n",
    "               'Adipose fin to bottom corner of tail':\"3-6\",\n",
    "               'Adipose fin to top corner of tail':\"3-4\",\n",
    "               'Bottom corner of tail to top corner of tail':\"4-6\"\n",
    "               }\n"
   ]
  },
  {
   "cell_type": "code",
   "execution_count": null,
   "metadata": {},
   "outputs": [],
   "source": [
    "# only look at certains indices\n",
    "indices = list(mapping_real.values())\n",
    "keepcol = [i for (i,c) in enumerate(columns) if c in indices]\n",
    "df = pd.DataFrame(data=dataset)\n",
    "blender = np.array(df)\n",
    "blender_sorted = np.array(sorted(blender, key=lambda k:k[-1]))\n",
    "top = 10\n",
    "ground_truths = []\n",
    "closest_neighbor = []\n",
    "std = []\n",
    "for j in range(blender_sorted.shape[0]):\n",
    "    obs = blender_sorted[j, :-1]\n",
    "    diff = np.nanmean(np.abs(blender_sorted[:, :-1] - obs), axis=1)\n",
    "    closest_idx = np.argsort(diff)\n",
    "    ground_truths += [blender_sorted[j, -1]]*top\n",
    "    closest_neighbor += list(blender_sorted[closest_idx[:top], -1])\n",
    "    std.append(np.std(blender_sorted[closest_idx[:top], -1]))"
   ]
  },
  {
   "cell_type": "code",
   "execution_count": null,
   "metadata": {},
   "outputs": [],
   "source": [
    "plt.scatter(ground_truths, closest_neighbor, s=1)\n",
    "plt.xlabel(\"ground_truths\")\n",
    "plt.ylabel(\"closest_neighbors\")\n",
    "plt.show()"
   ]
  },
  {
   "cell_type": "code",
   "execution_count": null,
   "metadata": {},
   "outputs": [],
   "source": [
    "plt.scatter(blender_sorted[:, -1], std, s=1)\n",
    "plt.xlabel(\"model\")\n",
    "plt.ylabel(\"std of 10 nearest neighbor\")\n",
    "plt.show()"
   ]
  },
  {
   "cell_type": "code",
   "execution_count": null,
   "metadata": {},
   "outputs": [],
   "source": [
    "blender_sorted.shape"
   ]
  },
  {
   "cell_type": "markdown",
   "metadata": {},
   "source": [
    "# translate all data"
   ]
  },
  {
   "cell_type": "code",
   "execution_count": null,
   "metadata": {},
   "outputs": [],
   "source": [
    "# we want the upper mouth point to be at (0,0,0) for ease\n",
    "print(data.keys())\n",
    "mesh = data[\"coordinates\"][10]\n",
    "# not translated\n",
    "plt.figure(figsize=(20, 10))\n",
    "for (k,v) in mesh.items():\n",
    "    plt.scatter(v[1], v[2])\n",
    "    plt.text(v[1], v[2], k)\n",
    "plt.title(\"non translated\")\n",
    "plt.axis(\"scaled\")\n",
    "plt.show()\n",
    "\n",
    "# translated\n",
    "uppermouth = data[\"coordinates\"][0][\"upper_mouth\"]\n",
    "tx, ty, tz = -np.array(uppermouth)\n",
    "plt.figure(figsize=(20, 10))\n",
    "for (k,v) in mesh.items():\n",
    "    plt.scatter(v[1]+ty, v[2]+tz)\n",
    "    plt.text(v[1]+ty, v[2]+tz, k)\n",
    "plt.axis(\"scaled\")\n",
    "plt.title(\"translated\")\n",
    "plt.show()\n"
   ]
  },
  {
   "cell_type": "markdown",
   "metadata": {},
   "source": [
    "# PREDICTIONS"
   ]
  },
  {
   "cell_type": "code",
   "execution_count": null,
   "metadata": {},
   "outputs": [],
   "source": [
    "import pandas as pd\n",
    "import matplotlib.pyplot as plt\n",
    "import numpy as np"
   ]
  },
  {
   "cell_type": "code",
   "execution_count": null,
   "metadata": {},
   "outputs": [],
   "source": [
    "observations = np.array(pd.read_csv(\"/root/data/gtsf_2.0/projected_distances.csv\"))"
   ]
  },
  {
   "cell_type": "code",
   "execution_count": null,
   "metadata": {},
   "outputs": [],
   "source": [
    "biomass = np.array(observations[4,2:], dtype=np.float16)"
   ]
  },
  {
   "cell_type": "code",
   "execution_count": null,
   "metadata": {},
   "outputs": [],
   "source": [
    "mapping_blender"
   ]
  },
  {
   "cell_type": "code",
   "execution_count": null,
   "metadata": {},
   "outputs": [],
   "source": [
    "mapping_real = {'Upper lip to eye ': \"5-7\",\n",
    "               'Upper lip to pectoral fin': \"7-11\", \n",
    "                'Upper lip to pelvic fin': \"2-7\",\n",
    "               'Upper lip to anal fin': \"7-12\", \n",
    "                'Upper lip to dorsal fin': \"7-8\",\n",
    "               'Upper lip to adipose fin': \"3-8\", \n",
    "                'Upper lip to tail notch': None,\n",
    "               'Upper lip to bottom corner of tail': \"6-7\",\n",
    "               'Upper lip to top corner of the tail': \"4-7\", \n",
    "                'Eye to pectoral fin': \"5-11\",\n",
    "               'Eye to pelvic fin': \"2-5\", \n",
    "                'Eye to anal fin': \"5-12\", \n",
    "                'Eye to dorsal fin': \"5-8\",\n",
    "               'Eye to adipose fin': \"3-5\", \n",
    "                'Eye to tail notch': None,\n",
    "               'Eye to bottom corner of tail': \"5-6\", \n",
    "                'Eye to top corner of tail': \"4-5\",\n",
    "               'Pectoral fin to pelvic fin': \"2-11\", \n",
    "                'Pectoral fin to anal fin': \"11-12\",\n",
    "               'Pectoral fin to dorsal fin': \"8-11\", \n",
    "                'Pectoral fin to adipose fin': \"3-11\",\n",
    "               'Pectoral fin to tail notch': None,\n",
    "               'Pectoral fin to bottom corner of tail': \"6-11\",\n",
    "               'Pectoral fin to top corner of tail': \"4-11\", \n",
    "                'Pelvic fin to anal fin': None,\n",
    "               'Pelvic fin to dorsal fin': \"2-8\", \n",
    "                'Pelvic fin to adipose fin': \"2-3\",\n",
    "               'Pelvic fin to tail notch': None, \n",
    "                'Pelvic fin to bottom corner of tail': \"2-6\",\n",
    "               'Pelvic fin to top corner of tail': \"2-4\", \n",
    "                'Anal fin to dorsal fin': \"8-12\",\n",
    "               'Anal fin to adipose fin': \"3-12\", \n",
    "                'Anal fin to tail notch': None,\n",
    "               'Anal fin to bottom corner of tail': \"6-12\",\n",
    "               'Anal fin to top corner of tail': \"4-12\", \n",
    "                'Dorsal fin to adipose fin': \"3-8\",\n",
    "               'Dorsal fin to tail notch': None, \n",
    "                'Dorsal fin to bottom corner of tail': \"6-8\",\n",
    "               'Dorsal fin to top corner of tail':\"4-8\", \n",
    "                'Adipose fin to tail notch': None,\n",
    "               'Adipose fin to bottom corner of tail':\"3-6\",\n",
    "               'Adipose fin to top corner of tail':\"3-4\",\n",
    "               'Bottom corner of tail to top corner of tail':\"4-6\"\n",
    "               }\n"
   ]
  },
  {
   "cell_type": "code",
   "execution_count": null,
   "metadata": {},
   "outputs": [],
   "source": [
    "# l1 distance"
   ]
  },
  {
   "cell_type": "code",
   "execution_count": null,
   "metadata": {},
   "outputs": [],
   "source": [
    "distances = observations[:, 1]\n",
    "columns = list(df.columns)[:-1]\n",
    "predictions = []\n",
    "predictions_average= []\n",
    "for j in range(2, observations.shape[1]):\n",
    "    measurement = observations[:, j]\n",
    "    measurement_formatted = []\n",
    "    tmp = {}\n",
    "    for (i, m) in enumerate(measurement):\n",
    "        distance = distances[i]\n",
    "        distance_index = mapping_real.get(distance, None)\n",
    "        tmp[distance_index] = m\n",
    "        \n",
    "    # put in the same format as the blender model data\n",
    "    for c in columns:\n",
    "        if c in tmp and isinstance(tmp[c],str):\n",
    "            measurement_formatted.append(int(tmp[c]))\n",
    "        else:\n",
    "            measurement_formatted.append(np.nan)\n",
    "    measurement_formatted = np.array(measurement_formatted)\n",
    "    \n",
    "    # calculate l1 distance\n",
    "    diff = np.nanmean(np.abs(np.array(df)[:, :-1] - measurement_formatted), axis=1)\n",
    "    closest = np.argsort(diff)\n",
    "    closest5 = np.array(df)[closest[:5], -1]\n",
    "    # print(closest5)\n",
    "    # print(np.std(closest5))\n",
    "    pred_volume = np.array(df)[closest[0], -1]\n",
    "    # print(pred_volume*0.8, biomass[j-2])\n",
    "    predictions.append(pred_volume)\n",
    "    predictions_average.append(np.mean(closest5))\n",
    "    \n",
    "    ### PLOT ####\n",
    "#     f, ax = plt.subplots(1,3, figsize=(20, 5))\n",
    "#     for k in range(3):\n",
    "#         print(closest[k])\n",
    "#         closest_model = np.array(df)[closest[k], :-1]\n",
    "#         pred_volume = np.array(df)[closest[k], -1]\n",
    "#         ax[k].scatter(closest_model, measurement_formatted)\n",
    "#         for idx in range(len(measurement_formatted)):\n",
    "#             if ~np.isnan(measurement_formatted[idx]) and ~np.isnan(closest_model[idx]): \n",
    "#                 ax[k].text(closest_model[idx], measurement_formatted[idx], columns[idx])\n",
    "#         ax[k].plot([0, 700],[0, 700], \"r\", linewidth=2)\n",
    "#         # plt.axis(\"scaled\")\n",
    "#         ax[k].set_title(\"Predicted volume: {0:.3f}. True biomass: {1:.3f}\".format(pred_volume*0.8, biomass[j-2]))\n",
    "    plt.show()\n",
    "    ## PLOT ####\n",
    "#     print(\"#\"*100)\n",
    "\n",
    "#     if j == 50:\n",
    "#         break\n",
    "    \n",
    "predictions = np.array(predictions)\n",
    "predictions_average = np.array(predictions_average)"
   ]
  },
  {
   "cell_type": "code",
   "execution_count": null,
   "metadata": {},
   "outputs": [],
   "source": [
    "plt.scatter(biomass, predictions*0.8) # eyeballed correcting factor (volume->mass + blender->world)\n",
    "plt.plot([1000, 5000], [1000, 5000], \"r\", linewidth=2)\n",
    "plt.xlabel(\"Ground truth\")\n",
    "plt.ylabel(\"Predictions\")\n",
    "plt.show()"
   ]
  },
  {
   "cell_type": "code",
   "execution_count": null,
   "metadata": {},
   "outputs": [],
   "source": [
    "plt.scatter(biomass, predictions_average*0.8) # eyeballed correcting factor (volume->mass + blender->world)\n",
    "plt.plot([1000, 5000], [1000, 5000], \"r\", linewidth=2)\n",
    "plt.xlabel(\"Ground truth\")\n",
    "plt.ylabel(\"Predictions\")\n",
    "plt.show()"
   ]
  },
  {
   "cell_type": "code",
   "execution_count": null,
   "metadata": {},
   "outputs": [],
   "source": [
    "error = predictions*0.8-biomass\n",
    "print(\"Average absolute error: {}\".format(np.nanmean(np.abs(error))))\n",
    "error5 = predictions_average*0.8-biomass\n",
    "print(\"Average absolute error5: {}\".format(np.nanmean(np.abs(error5))))"
   ]
  },
  {
   "cell_type": "code",
   "execution_count": null,
   "metadata": {},
   "outputs": [],
   "source": [
    "plt.scatter(biomass, error)"
   ]
  },
  {
   "cell_type": "code",
   "execution_count": null,
   "metadata": {},
   "outputs": [],
   "source": [
    "plt.hist(error[~np.isnan(error)])\n",
    "plt.show()"
   ]
  },
  {
   "cell_type": "markdown",
   "metadata": {},
   "source": [
    "# not blender"
   ]
  },
  {
   "cell_type": "code",
   "execution_count": null,
   "metadata": {},
   "outputs": [],
   "source": [
    "import pandas as pd\n",
    "import matplotlib.pyplot as plt\n",
    "import numpy as np"
   ]
  },
  {
   "cell_type": "code",
   "execution_count": null,
   "metadata": {},
   "outputs": [],
   "source": [
    "distances = np.array(pd.read_csv(\"/root/data/gtsf_2.0/projected_distances.csv\"))"
   ]
  },
  {
   "cell_type": "code",
   "execution_count": null,
   "metadata": {},
   "outputs": [],
   "source": [
    "biomass = np.array(distances[4,2:], dtype=np.float16)\n",
    "length = np.array(distances[5,2:], dtype=np.float16)\n",
    "breadth = np.array(distances[6,2:], dtype=np.float16)\n",
    "width = np.array(distances[7,2:], dtype=np.float16)"
   ]
  },
  {
   "cell_type": "code",
   "execution_count": null,
   "metadata": {},
   "outputs": [],
   "source": [
    "plt.scatter(length, biomass)\n",
    "maxvol = []\n",
    "minvol = []\n",
    "for l in sorted(list(set(np.array(data[\"dimensions\"])[:, 1]))):\n",
    "    idx = np.where(np.array(data[\"dimensions\"])[:, 1] == l)[0]\n",
    "    maxvol.append([l, np.max([data[\"volume\"][i] for i in idx])])\n",
    "    minvol.append([l, np.min([data[\"volume\"][i] for i in idx])])\n",
    "    \n",
    "# plt.plot(, data[\"volume\"], color=\"r\", linewidth=2)\n",
    "plt.plot(np.array(maxvol)[:, 0], np.array(maxvol)[:, 1], color=\"r\", linewidth=2)\n",
    "plt.plot(np.array(minvol)[:, 0], np.array(minvol)[:, 1], color=\"g\", linewidth=2)\n",
    "plt.xlabel(\"Length (mm)\")\n",
    "plt.ylabel(\"Volume (cm^3) / Biomass (g)\")\n",
    "plt.legend([\"upper blender\", \"lower blender\", \"observations\"])\n",
    "plt.show()"
   ]
  },
  {
   "cell_type": "code",
   "execution_count": null,
   "metadata": {},
   "outputs": [],
   "source": [
    "np.array(maxvol)[0, :]"
   ]
  },
  {
   "cell_type": "code",
   "execution_count": null,
   "metadata": {},
   "outputs": [],
   "source": [
    "maxvol"
   ]
  },
  {
   "cell_type": "code",
   "execution_count": null,
   "metadata": {},
   "outputs": [],
   "source": [
    "# let's look at 100g bins\n",
    "bucket_size = 100\n",
    "plt.hist(biomass[~np.isnan(biomass)], bins=np.arange(1000, 5500, bucket_size))\n",
    "plt.show()"
   ]
  },
  {
   "cell_type": "code",
   "execution_count": null,
   "metadata": {},
   "outputs": [],
   "source": [
    "for bucket in np.arange(1000, 5500, bucket_size):\n",
    "    # print(bucket)\n",
    "    indx = np.where(np.logical_and(biomass>=bucket, biomass<(bucket + bucket_size)))\n",
    "    # print(indx)\n",
    "    if len(indx) > 0:\n",
    "        plt.hist(length[indx])\n",
    "        plt.title(\"length distribution for biomass between {} and {}g\".format(bucket, bucket + bucket_size))\n",
    "        plt.show()"
   ]
  },
  {
   "cell_type": "code",
   "execution_count": null,
   "metadata": {},
   "outputs": [],
   "source": [
    "import matplotlib"
   ]
  },
  {
   "cell_type": "code",
   "execution_count": null,
   "metadata": {},
   "outputs": [],
   "source": [
    "fig, ax = plt.subplots(figsize=(20, 20))\n",
    "matplotlib.rcParams.update({'font.size': 22})\n",
    "biomass_buckets = []\n",
    "ticks = []\n",
    "labels = []\n",
    "for (i, bucket) in enumerate(np.arange(1000, 5500, bucket_size)):\n",
    "    ticks.append(i+1)\n",
    "    labels.append(str(bucket) + \"-\" + str(bucket + bucket_size))\n",
    "    # print(bucket)\n",
    "    indx = np.where(np.logical_and(biomass>=bucket, biomass<(bucket + bucket_size)))\n",
    "    # print(indx)\n",
    "    if len(indx) > 0:\n",
    "        biomass_buckets.append(length[indx])\n",
    "ax.boxplot(biomass_buckets)\n",
    "ax.set_title(\"Length distribution\")\n",
    "plt.ylabel(\"Length (mm)\")\n",
    "plt.xlabel(\"biomass (100g bucket)\")\n",
    "plt.xticks(ticks, labels)\n",
    "plt.xticks(rotation=90)\n",
    "plt.show()"
   ]
  },
  {
   "cell_type": "code",
   "execution_count": null,
   "metadata": {},
   "outputs": [],
   "source": [
    "fig, ax = plt.subplots(figsize=(20, 20))\n",
    "matplotlib.rcParams.update({'font.size': 22})\n",
    "biomass_buckets = []\n",
    "ticks = []\n",
    "labels = []\n",
    "for (i, bucket) in enumerate(np.arange(1000, 5500, bucket_size)):\n",
    "    ticks.append(i+1)\n",
    "    labels.append(str(bucket) + \"-\" + str(bucket + bucket_size))\n",
    "    # print(bucket)\n",
    "    indx = np.where(np.logical_and(biomass>=bucket, biomass<(bucket + bucket_size)))\n",
    "    # print(indx)\n",
    "    if len(indx) > 0:\n",
    "        biomass_buckets.append(breadth[indx])\n",
    "ax.boxplot(biomass_buckets)\n",
    "ax.set_title(\"Breadth distribution\")\n",
    "plt.ylabel(\"Breadth (mm)\")\n",
    "plt.xlabel(\"biomass (100g bucket)\")\n",
    "plt.xticks(ticks, labels)\n",
    "plt.xticks(rotation=90)\n",
    "plt.show()"
   ]
  },
  {
   "cell_type": "code",
   "execution_count": null,
   "metadata": {},
   "outputs": [],
   "source": [
    "fig, ax = plt.subplots(figsize=(20, 20))\n",
    "matplotlib.rcParams.update({'font.size': 22})\n",
    "biomass_buckets = []\n",
    "ticks = []\n",
    "labels = []\n",
    "for (i, bucket) in enumerate(np.arange(1000, 5500, bucket_size)):\n",
    "    ticks.append(i+1)\n",
    "    labels.append(str(bucket) + \"-\" + str(bucket + bucket_size))\n",
    "    # print(bucket)\n",
    "    indx = np.where(np.logical_and(biomass>=bucket, biomass<(bucket + bucket_size)))\n",
    "    # print(indx)\n",
    "    if len(indx) > 0:\n",
    "        biomass_buckets.append(width[indx])\n",
    "ax.boxplot(biomass_buckets)\n",
    "ax.set_title(\"Width distribution\")\n",
    "plt.ylabel(\"Width (mm)\")\n",
    "plt.xlabel(\"biomass (100g bucket)\")\n",
    "plt.xticks(ticks, labels)\n",
    "plt.xticks(rotation=90)\n",
    "plt.show()"
   ]
  },
  {
   "cell_type": "code",
   "execution_count": null,
   "metadata": {},
   "outputs": [],
   "source": [
    "distances.shape"
   ]
  },
  {
   "cell_type": "code",
   "execution_count": null,
   "metadata": {},
   "outputs": [],
   "source": [
    "# ALL PLOTS\n",
    "for j in range(5, 54):\n",
    "    metric = np.array(distances[j,2:], dtype=np.float16)\n",
    "    metric_name = distances[j, 1]\n",
    "    \n",
    "    fig, ax = plt.subplots(figsize=(20, 20))\n",
    "    matplotlib.rcParams.update({'font.size': 22})\n",
    "    biomass_buckets = []\n",
    "    ticks = []\n",
    "    labels = []\n",
    "    for (i, bucket) in enumerate(np.arange(1000, 5500, bucket_size)):\n",
    "        ticks.append(i+1)\n",
    "        labels.append(str(bucket) + \"-\" + str(bucket + bucket_size))\n",
    "        # print(bucket)\n",
    "        indx = np.where(np.logical_and(biomass>=bucket, biomass<(bucket + bucket_size)))\n",
    "        # print(indx)\n",
    "        if len(indx) > 0:\n",
    "            biomass_buckets.append(metric[indx])\n",
    "    ax.boxplot(biomass_buckets)\n",
    "    ax.set_title(\"{} distribution\".format(metric_name))\n",
    "    plt.ylabel(\"{} (mm)\".format(metric_name))\n",
    "    plt.xlabel(\"biomass (100g bucket)\")\n",
    "    plt.xticks(ticks, labels)\n",
    "    plt.xticks(rotation=90)\n",
    "    plt.show()\n",
    "    print(\"#\"*100)"
   ]
  },
  {
   "cell_type": "code",
   "execution_count": null,
   "metadata": {},
   "outputs": [],
   "source": []
  },
  {
   "cell_type": "code",
   "execution_count": null,
   "metadata": {},
   "outputs": [],
   "source": []
  }
 ],
 "metadata": {
  "kernelspec": {
   "display_name": "Python 2",
   "language": "python",
   "name": "python2"
  },
  "language_info": {
   "codemirror_mode": {
    "name": "ipython",
    "version": 2
   },
   "file_extension": ".py",
   "mimetype": "text/x-python",
   "name": "python",
   "nbconvert_exporter": "python",
   "pygments_lexer": "ipython2",
   "version": "2.7.12"
  }
 },
 "nbformat": 4,
 "nbformat_minor": 2
}
