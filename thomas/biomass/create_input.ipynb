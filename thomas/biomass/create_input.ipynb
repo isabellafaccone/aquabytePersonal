{
 "cells": [
  {
   "cell_type": "code",
   "execution_count": null,
   "metadata": {},
   "outputs": [],
   "source": [
    "import json\n",
    "import os"
   ]
  },
  {
   "cell_type": "code",
   "execution_count": null,
   "metadata": {},
   "outputs": [],
   "source": [
    "jsonfiles = [\"/root/data/gtsf_phase_I/2019-02-26/2019-02-26_cogito_annotations.json\",\n",
    "             \"/root/data/gtsf_phase_I/2019-02-27/2019-02-27_cogito_annotations.json\",\n",
    "             \"/root/data/gtsf_phase_I/2019-03-01/2019-03-01_cogito_annotations.json\",\n",
    "             \"/root/data/gtsf_phase_I/2019-03-04/2019-03-04_cogito_annotations.json\",\n",
    "             \"/root/data/gtsf_phase_I/2019-03-05/2019-03-05_cogito_annotations.json\",\n",
    "             \"/root/data/gtsf_phase_I/2019-03-06/2019-03-06_cogito_annotations.json\",\n",
    "             \"/root/data/gtsf_phase_I/2019-03-11/2019-03-11_cogito_annotations.json\",\n",
    "             \"/root/data/gtsf_phase_I/2019-03-13/2019-03-13_cogito_annotations.json\",\n",
    "             \"/root/data/gtsf_phase_I/2019-03-14/2019-03-14_cogito_annotations.json\"]"
   ]
  },
  {
   "cell_type": "code",
   "execution_count": null,
   "metadata": {},
   "outputs": [],
   "source": [
    "annotations = []\n",
    "for jsonpath in jsonfiles:\n",
    "    with open(jsonpath, \"r\") as f:\n",
    "        jfile = json.load(f)\n",
    "        annotations += jfile\n",
    "print(\"Number of annotations: {}\".format(len(annotations)))"
   ]
  },
  {
   "cell_type": "code",
   "execution_count": null,
   "metadata": {},
   "outputs": [],
   "source": [
    "for ann in annotations:\n",
    "    local_path = os.path.join(\"/root/data/gtsf_phase_I/\", \n",
    "                  \"/\".join(ann[\"Labeled Data\"].split(\"/\")[7:]))\n",
    "    ann[\"local_path\"] = local_path\n",
    "    if not os.path.isfile(local_path):\n",
    "        print(\"missing image!!\")\n",
    "    for body_part in ann[\"Label\"].keys():\n",
    "        new_body_part = \"_\".join(body_part.replace(\":\", \"\").split()).upper()\n",
    "        ann[\"Label\"][new_body_part] = ann[\"Label\"].pop(body_part)"
   ]
  },
  {
   "cell_type": "code",
   "execution_count": null,
   "metadata": {},
   "outputs": [],
   "source": [
    "timestamps = []\n",
    "for ann in annotations:\n",
    "    timestamp = ann[\"local_path\"].split(\"/\")[-3]\n",
    "    ann[\"timestamp\"] = timestamp\n",
    "    timestamps.append(ann[\"timestamp\"])"
   ]
  },
  {
   "cell_type": "code",
   "execution_count": null,
   "metadata": {},
   "outputs": [],
   "source": [
    "# create pairs per timestamp\n",
    "pairs = {}\n",
    "for ann in annotations:\n",
    "    timestamp = ann[\"timestamp\"]\n",
    "    side = os.path.basename(ann[\"local_path\"]).split(\"_\")[0]\n",
    "    ann[\"side\"] = side\n",
    "    if timestamp not in pairs:\n",
    "        pairs[timestamp] = {}\n",
    "    pairs[timestamp][side] = ann\n",
    "\n",
    "full_pairs = [k for (k, v)in pairs.items() if \"left\" in v and \"right\" in v]\n",
    "print(\"Number of full pairs: {}\".format(len(full_pairs)))"
   ]
  },
  {
   "cell_type": "markdown",
   "metadata": {},
   "source": [
    "Select a random pair and write input file"
   ]
  },
  {
   "cell_type": "code",
   "execution_count": null,
   "metadata": {},
   "outputs": [],
   "source": [
    "import numpy as np\n",
    "from utils import load_keypoints"
   ]
  },
  {
   "cell_type": "code",
   "execution_count": null,
   "metadata": {},
   "outputs": [],
   "source": [
    "input_json = {}\n",
    "random_timestanp = np.random.choice(full_pairs)"
   ]
  },
  {
   "cell_type": "code",
   "execution_count": null,
   "metadata": {},
   "outputs": [],
   "source": [
    "random_timestanp = '190306010013'"
   ]
  },
  {
   "cell_type": "code",
   "execution_count": null,
   "metadata": {},
   "outputs": [],
   "source": [
    "mapping = {'ADIPOSE_FIN': 5,\n",
    " 'ANAL_FIN': 1,\n",
    " 'DORSAL_FIN': 4,\n",
    " 'EYE': 7,\n",
    " 'PECTORAL_FIN': 0,\n",
    " 'PELVIC_FIN': 6,\n",
    " 'TAIL_NOTCH': 3,\n",
    " 'UPPER_LIP': 2}"
   ]
  },
  {
   "cell_type": "code",
   "execution_count": null,
   "metadata": {},
   "outputs": [],
   "source": [
    "world = {}\n",
    "for ts in full_pairs:\n",
    "    # load annotations\n",
    "    left_ann = pairs[ts][\"left\"]\n",
    "    right_ann = pairs[ts][\"right\"]\n",
    "    \n",
    "    left_keypoints = load_keypoints(left_ann, mapping)\n",
    "    right_keypoints = load_keypoints(right_ann, mapping)"
   ]
  },
  {
   "cell_type": "code",
   "execution_count": null,
   "metadata": {},
   "outputs": [],
   "source": [
    "left_keypoints"
   ]
  },
  {
   "cell_type": "code",
   "execution_count": null,
   "metadata": {},
   "outputs": [],
   "source": [
    "right_keypoints"
   ]
  },
  {
   "cell_type": "code",
   "execution_count": null,
   "metadata": {},
   "outputs": [],
   "source": [
    "left_crop = []\n",
    "right_crop = []\n",
    "for (k,v) in mapping.items():\n",
    "    tmp = {}\n",
    "    tmp[\"xFrame\"] = int(left_keypoints[v, 1])\n",
    "    tmp[\"yFrame\"] = int(left_keypoints[v, 0])\n",
    "    tmp[\"xCrop\"] = 0\n",
    "    tmp[\"yCrop\"] = 0\n",
    "    tmp[\"keypointType\"] = k\n",
    "    left_crop.append(tmp)\n",
    "    \n",
    "    tmp = {}\n",
    "    tmp[\"xFrame\"] = int(right_keypoints[v, 1])\n",
    "    tmp[\"yFrame\"] = int(right_keypoints[v, 0])\n",
    "    tmp[\"xCrop\"] = 0\n",
    "    tmp[\"yCrop\"] = 0\n",
    "    tmp[\"keypointType\"] = k\n",
    "    right_crop.append(tmp)"
   ]
  },
  {
   "cell_type": "code",
   "execution_count": null,
   "metadata": {},
   "outputs": [],
   "source": [
    "left_crop"
   ]
  },
  {
   "cell_type": "code",
   "execution_count": null,
   "metadata": {},
   "outputs": [],
   "source": [
    "right_crop"
   ]
  },
  {
   "cell_type": "code",
   "execution_count": null,
   "metadata": {},
   "outputs": [],
   "source": [
    "cameraParameters = {\n",
    "      \"baseline\": 0.128096,\n",
    "      \"focalLength\": 0.0084366,\n",
    "      \"pixelCountWidth\": 4096,\n",
    "      \"focalLengthPixel\": 2445.3913043478265,\n",
    "      \"imageSensorWidth\": 0.01412,\n",
    "      \"pixelCountHeight\": 3000,\n",
    "      \"imageSensorHeight\": 0.01035\n",
    "  }"
   ]
  },
  {
   "cell_type": "code",
   "execution_count": null,
   "metadata": {},
   "outputs": [],
   "source": [
    "input_json[\"leftCrop\"] = left_crop\n",
    "input_json[\"rightCrop\"] = right_crop\n",
    "input_json[\"cameraParameters\"] = cameraParameters\n",
    "input_json[\"annotationId\"] = 10000\n",
    "tmp[\"version\"] = 1"
   ]
  },
  {
   "cell_type": "code",
   "execution_count": null,
   "metadata": {},
   "outputs": [],
   "source": [
    "with open(\"./sample_message.json\", \"w\") as f:\n",
    "    json.dump(input_json, f)"
   ]
  },
  {
   "cell_type": "code",
   "execution_count": null,
   "metadata": {},
   "outputs": [],
   "source": []
  }
 ],
 "metadata": {
  "kernelspec": {
   "display_name": "Python 3",
   "language": "python",
   "name": "python3"
  },
  "language_info": {
   "codemirror_mode": {
    "name": "ipython",
    "version": 3
   },
   "file_extension": ".py",
   "mimetype": "text/x-python",
   "name": "python",
   "nbconvert_exporter": "python",
   "pygments_lexer": "ipython3",
   "version": "3.5.2"
  }
 },
 "nbformat": 4,
 "nbformat_minor": 2
}
