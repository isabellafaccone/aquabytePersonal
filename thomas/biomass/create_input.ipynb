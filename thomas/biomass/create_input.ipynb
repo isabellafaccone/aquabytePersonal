{
 "cells": [
  {
   "cell_type": "code",
   "execution_count": 1,
   "metadata": {},
   "outputs": [],
   "source": [
    "import json\n",
    "import os"
   ]
  },
  {
   "cell_type": "code",
   "execution_count": 2,
   "metadata": {},
   "outputs": [],
   "source": [
    "jsonfiles = [\"/root/data/gtsf_phase_I/2019-02-26/2019-02-26_cogito_annotations.json\",\n",
    "             \"/root/data/gtsf_phase_I/2019-02-27/2019-02-27_cogito_annotations.json\",\n",
    "             \"/root/data/gtsf_phase_I/2019-03-01/2019-03-01_cogito_annotations.json\",\n",
    "             \"/root/data/gtsf_phase_I/2019-03-04/2019-03-04_cogito_annotations.json\",\n",
    "             \"/root/data/gtsf_phase_I/2019-03-05/2019-03-05_cogito_annotations.json\",\n",
    "             \"/root/data/gtsf_phase_I/2019-03-06/2019-03-06_cogito_annotations.json\",\n",
    "             \"/root/data/gtsf_phase_I/2019-03-11/2019-03-11_cogito_annotations.json\",\n",
    "             \"/root/data/gtsf_phase_I/2019-03-13/2019-03-13_cogito_annotations.json\",\n",
    "             \"/root/data/gtsf_phase_I/2019-03-14/2019-03-14_cogito_annotations.json\"]"
   ]
  },
  {
   "cell_type": "code",
   "execution_count": 3,
   "metadata": {},
   "outputs": [
    {
     "name": "stdout",
     "output_type": "stream",
     "text": [
      "Number of annotations: 485\n"
     ]
    }
   ],
   "source": [
    "annotations = []\n",
    "for jsonpath in jsonfiles:\n",
    "    with open(jsonpath, \"r\") as f:\n",
    "        jfile = json.load(f)\n",
    "        annotations += jfile\n",
    "print(\"Number of annotations: {}\".format(len(annotations)))"
   ]
  },
  {
   "cell_type": "code",
   "execution_count": 4,
   "metadata": {},
   "outputs": [],
   "source": [
    "for ann in annotations:\n",
    "    local_path = os.path.join(\"/root/data/gtsf_phase_I/\", \n",
    "                  \"/\".join(ann[\"Labeled Data\"].split(\"/\")[7:]))\n",
    "    ann[\"local_path\"] = local_path\n",
    "    if not os.path.isfile(local_path):\n",
    "        print(\"missing image!!\")\n",
    "    for body_part in ann[\"Label\"].keys():\n",
    "        new_body_part = \"_\".join(body_part.replace(\":\", \"\").split()).upper()\n",
    "        ann[\"Label\"][new_body_part] = ann[\"Label\"].pop(body_part)"
   ]
  },
  {
   "cell_type": "code",
   "execution_count": 5,
   "metadata": {},
   "outputs": [],
   "source": [
    "timestamps = []\n",
    "for ann in annotations:\n",
    "    timestamp = ann[\"local_path\"].split(\"/\")[-3]\n",
    "    ann[\"timestamp\"] = timestamp\n",
    "    timestamps.append(ann[\"timestamp\"])"
   ]
  },
  {
   "cell_type": "code",
   "execution_count": 6,
   "metadata": {},
   "outputs": [
    {
     "name": "stdout",
     "output_type": "stream",
     "text": [
      "Number of full pairs: 240\n"
     ]
    }
   ],
   "source": [
    "# create pairs per timestamp\n",
    "pairs = {}\n",
    "for ann in annotations:\n",
    "    timestamp = ann[\"timestamp\"]\n",
    "    side = os.path.basename(ann[\"local_path\"]).split(\"_\")[0]\n",
    "    ann[\"side\"] = side\n",
    "    if timestamp not in pairs:\n",
    "        pairs[timestamp] = {}\n",
    "    pairs[timestamp][side] = ann\n",
    "\n",
    "full_pairs = [k for (k, v)in pairs.items() if \"left\" in v and \"right\" in v]\n",
    "print(\"Number of full pairs: {}\".format(len(full_pairs)))"
   ]
  },
  {
   "cell_type": "markdown",
   "metadata": {},
   "source": [
    "Select a random pair and write input file"
   ]
  },
  {
   "cell_type": "code",
   "execution_count": 7,
   "metadata": {},
   "outputs": [],
   "source": [
    "import numpy as np\n",
    "from utils import load_keypoints"
   ]
  },
  {
   "cell_type": "code",
   "execution_count": 8,
   "metadata": {},
   "outputs": [],
   "source": [
    "input_json = {}\n",
    "random_timestanp = np.random.choice(full_pairs)"
   ]
  },
  {
   "cell_type": "code",
   "execution_count": 19,
   "metadata": {},
   "outputs": [
    {
     "data": {
      "text/plain": [
       "'190306010013'"
      ]
     },
     "execution_count": 19,
     "metadata": {},
     "output_type": "execute_result"
    }
   ],
   "source": [
    "random_timestanp = '190306010013'"
   ]
  },
  {
   "cell_type": "code",
   "execution_count": 9,
   "metadata": {},
   "outputs": [],
   "source": [
    "mapping = {'ADIPOSE_FIN': 5,\n",
    " 'ANAL_FIN': 1,\n",
    " 'DORSAL_FIN': 4,\n",
    " 'EYE': 7,\n",
    " 'PECTORAL_FIN': 0,\n",
    " 'PELVIC_FIN': 6,\n",
    " 'TAIL_NOTCH': 3,\n",
    " 'UPPER_LIP': 2}"
   ]
  },
  {
   "cell_type": "code",
   "execution_count": 10,
   "metadata": {},
   "outputs": [],
   "source": [
    "world = {}\n",
    "for ts in full_pairs:\n",
    "    # load annotations\n",
    "    left_ann = pairs[ts][\"left\"]\n",
    "    right_ann = pairs[ts][\"right\"]\n",
    "    \n",
    "    left_keypoints = load_keypoints(left_ann, mapping)\n",
    "    right_keypoints = load_keypoints(right_ann, mapping)"
   ]
  },
  {
   "cell_type": "code",
   "execution_count": 11,
   "metadata": {},
   "outputs": [
    {
     "data": {
      "text/plain": [
       "array([[2016, 1150],\n",
       "       [2630, 1618],\n",
       "       [3299, 1434],\n",
       "       [1259, 1405],\n",
       "       [2793, 1311],\n",
       "       [1139, 1405],\n",
       "       [1480, 1553],\n",
       "       [2179, 1650]])"
      ]
     },
     "execution_count": 11,
     "metadata": {},
     "output_type": "execute_result"
    }
   ],
   "source": [
    "left_keypoints"
   ]
  },
  {
   "cell_type": "code",
   "execution_count": 12,
   "metadata": {},
   "outputs": [
    {
     "data": {
      "text/plain": [
       "array([[1510, 1156],\n",
       "       [2152, 1621],\n",
       "       [2819, 1431],\n",
       "       [ 754, 1411],\n",
       "       [2293, 1310],\n",
       "       [ 651, 1403],\n",
       "       [ 974, 1557],\n",
       "       [1673, 1653]])"
      ]
     },
     "execution_count": 12,
     "metadata": {},
     "output_type": "execute_result"
    }
   ],
   "source": [
    "right_keypoints"
   ]
  },
  {
   "cell_type": "code",
   "execution_count": 13,
   "metadata": {},
   "outputs": [],
   "source": [
    "left_crop = []\n",
    "right_crop = []\n",
    "for (k,v) in mapping.items():\n",
    "    tmp = {}\n",
    "    tmp[\"xFrame\"] = int(left_keypoints[v, 1])\n",
    "    tmp[\"yFrame\"] = int(left_keypoints[v, 0])\n",
    "    tmp[\"xCrop\"] = 0\n",
    "    tmp[\"yCrop\"] = 0\n",
    "    tmp[\"keypointType\"] = k\n",
    "    left_crop.append(tmp)\n",
    "    \n",
    "    tmp = {}\n",
    "    tmp[\"xFrame\"] = int(right_keypoints[v, 1])\n",
    "    tmp[\"yFrame\"] = int(right_keypoints[v, 0])\n",
    "    tmp[\"xCrop\"] = 0\n",
    "    tmp[\"yCrop\"] = 0\n",
    "    tmp[\"keypointType\"] = k\n",
    "    right_crop.append(tmp)"
   ]
  },
  {
   "cell_type": "code",
   "execution_count": 14,
   "metadata": {},
   "outputs": [
    {
     "data": {
      "text/plain": [
       "[{'keypointType': 'DORSAL_FIN',\n",
       "  'xCrop': 0,\n",
       "  'xFrame': 1311,\n",
       "  'yCrop': 0,\n",
       "  'yFrame': 2793},\n",
       " {'keypointType': 'ANAL_FIN',\n",
       "  'xCrop': 0,\n",
       "  'xFrame': 1618,\n",
       "  'yCrop': 0,\n",
       "  'yFrame': 2630},\n",
       " {'keypointType': 'TAIL_NOTCH',\n",
       "  'xCrop': 0,\n",
       "  'xFrame': 1405,\n",
       "  'yCrop': 0,\n",
       "  'yFrame': 1259},\n",
       " {'keypointType': 'EYE',\n",
       "  'xCrop': 0,\n",
       "  'xFrame': 1650,\n",
       "  'yCrop': 0,\n",
       "  'yFrame': 2179},\n",
       " {'keypointType': 'ADIPOSE_FIN',\n",
       "  'xCrop': 0,\n",
       "  'xFrame': 1405,\n",
       "  'yCrop': 0,\n",
       "  'yFrame': 1139},\n",
       " {'keypointType': 'UPPER_LIP',\n",
       "  'xCrop': 0,\n",
       "  'xFrame': 1434,\n",
       "  'yCrop': 0,\n",
       "  'yFrame': 3299},\n",
       " {'keypointType': 'PECTORAL_FIN',\n",
       "  'xCrop': 0,\n",
       "  'xFrame': 1150,\n",
       "  'yCrop': 0,\n",
       "  'yFrame': 2016},\n",
       " {'keypointType': 'PELVIC_FIN',\n",
       "  'xCrop': 0,\n",
       "  'xFrame': 1553,\n",
       "  'yCrop': 0,\n",
       "  'yFrame': 1480}]"
      ]
     },
     "execution_count": 14,
     "metadata": {},
     "output_type": "execute_result"
    }
   ],
   "source": [
    "left_crop"
   ]
  },
  {
   "cell_type": "code",
   "execution_count": 15,
   "metadata": {},
   "outputs": [
    {
     "data": {
      "text/plain": [
       "[{'keypointType': 'DORSAL_FIN',\n",
       "  'xCrop': 0,\n",
       "  'xFrame': 1310,\n",
       "  'yCrop': 0,\n",
       "  'yFrame': 2293},\n",
       " {'keypointType': 'ANAL_FIN',\n",
       "  'xCrop': 0,\n",
       "  'xFrame': 1621,\n",
       "  'yCrop': 0,\n",
       "  'yFrame': 2152},\n",
       " {'keypointType': 'TAIL_NOTCH',\n",
       "  'xCrop': 0,\n",
       "  'xFrame': 1411,\n",
       "  'yCrop': 0,\n",
       "  'yFrame': 754},\n",
       " {'keypointType': 'EYE',\n",
       "  'xCrop': 0,\n",
       "  'xFrame': 1653,\n",
       "  'yCrop': 0,\n",
       "  'yFrame': 1673},\n",
       " {'keypointType': 'ADIPOSE_FIN',\n",
       "  'xCrop': 0,\n",
       "  'xFrame': 1403,\n",
       "  'yCrop': 0,\n",
       "  'yFrame': 651},\n",
       " {'keypointType': 'UPPER_LIP',\n",
       "  'xCrop': 0,\n",
       "  'xFrame': 1431,\n",
       "  'yCrop': 0,\n",
       "  'yFrame': 2819},\n",
       " {'keypointType': 'PECTORAL_FIN',\n",
       "  'xCrop': 0,\n",
       "  'xFrame': 1156,\n",
       "  'yCrop': 0,\n",
       "  'yFrame': 1510},\n",
       " {'keypointType': 'PELVIC_FIN',\n",
       "  'xCrop': 0,\n",
       "  'xFrame': 1557,\n",
       "  'yCrop': 0,\n",
       "  'yFrame': 974}]"
      ]
     },
     "execution_count": 15,
     "metadata": {},
     "output_type": "execute_result"
    }
   ],
   "source": [
    "right_crop"
   ]
  },
  {
   "cell_type": "code",
   "execution_count": 16,
   "metadata": {},
   "outputs": [],
   "source": [
    "cameraParameters = {\n",
    "      \"baseline\": 0.128096,\n",
    "      \"focalLength\": 0.0084366,\n",
    "      \"pixelCountWidth\": 4096,\n",
    "      \"focalLengthPixel\": 2445.3913043478265,\n",
    "      \"imageSensorWidth\": 0.01412,\n",
    "      \"pixelCountHeight\": 3000,\n",
    "      \"imageSensorHeight\": 0.01035\n",
    "  }"
   ]
  },
  {
   "cell_type": "code",
   "execution_count": 17,
   "metadata": {},
   "outputs": [],
   "source": [
    "input_json[\"leftCrop\"] = left_crop\n",
    "input_json[\"rightCrop\"] = right_crop\n",
    "input_json[\"cameraParameters\"] = cameraParameters\n",
    "input_json[\"annotationId\"] = 10000\n",
    "tmp[\"version\"] = 1"
   ]
  },
  {
   "cell_type": "code",
   "execution_count": 18,
   "metadata": {},
   "outputs": [],
   "source": [
    "with open(\"./sample_message.json\", \"w\") as f:\n",
    "    json.dump(input_json, f)"
   ]
  },
  {
   "cell_type": "code",
   "execution_count": null,
   "metadata": {},
   "outputs": [],
   "source": []
  }
 ],
 "metadata": {
  "kernelspec": {
   "display_name": "Python 3",
   "language": "python",
   "name": "python3"
  },
  "language_info": {
   "codemirror_mode": {
    "name": "ipython",
    "version": 3
   },
   "file_extension": ".py",
   "mimetype": "text/x-python",
   "name": "python",
   "nbconvert_exporter": "python",
   "pygments_lexer": "ipython3",
   "version": "3.5.2"
  }
 },
 "nbformat": 4,
 "nbformat_minor": 2
}
