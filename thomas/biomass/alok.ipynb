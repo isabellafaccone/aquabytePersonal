{
 "cells": [
  {
   "cell_type": "code",
   "execution_count": null,
   "metadata": {},
   "outputs": [],
   "source": [
    "import json\n",
    "import numpy as np\n",
    "import pandas as pd\n",
    "import os\n",
    "pd.set_option('display.max_rows', 500)\n",
    "pd.set_option('display.max_colwidth', 500)\n"
   ]
  },
  {
   "cell_type": "code",
   "execution_count": null,
   "metadata": {},
   "outputs": [],
   "source": [
    "f = '/app/data/cloud_data_service/export-2019-03-14T22_56_48.469Z.json'\n",
    "annotation_objects = json.load(open(f))"
   ]
  },
  {
   "cell_type": "code",
   "execution_count": null,
   "metadata": {},
   "outputs": [],
   "source": []
  },
  {
   "cell_type": "markdown",
   "metadata": {},
   "source": [
    "<h1> Prepare the data </h1>"
   ]
  },
  {
   "cell_type": "code",
   "execution_count": null,
   "metadata": {},
   "outputs": [],
   "source": [
    "body_parts = []\n",
    "for k, v in annotation_objects[0]['Label'].items():\n",
    "    body_parts.append(k)\n",
    "    \n",
    "\n"
   ]
  },
  {
   "cell_type": "code",
   "execution_count": null,
   "metadata": {},
   "outputs": [],
   "source": [
    "annotation_objects[0]"
   ]
  },
  {
   "cell_type": "code",
   "execution_count": null,
   "metadata": {},
   "outputs": [],
   "source": [
    "keypoints_df = pd.DataFrame()\n",
    "fish_ids = []\n",
    "s3_bucket = 'aquabyte-groundtruths'\n",
    "for idx, obj in enumerate(annotation_objects):\n",
    "    if obj['Label'] == 'Skip':\n",
    "        continue\n",
    "    \n",
    "    # get fish_id\n",
    "    image_url = str(obj['Labeled Data'])\n",
    "    s3_bucket_key = image_url[image_url.index(s3_bucket):]\n",
    "    s3_key = os.path.join(*s3_bucket_key.split('/')[1:])\n",
    "    fish_id = image_url.split('/')[-3]\n",
    " \n",
    "    # get image file name and epoch\n",
    "    image_f_name = image_url.split('/')[-1]\n",
    "    epoch = int(image_f_name.replace('.jpg', '').split('_')[-1])\n",
    "    \n",
    "    camera = str(image_f_name.split('_')[0])\n",
    "    \n",
    "    if fish_id not in fish_ids:\n",
    "        fish_ids.append(fish_id)\n",
    "    \n",
    "    for body_part in body_parts:\n",
    "        if body_part not in obj['Label'].keys():\n",
    "            break\n",
    "        kp_dict = obj['Label'][body_part][0]['geometry']\n",
    "        kp = (kp_dict['x'], kp_dict['y'])\n",
    "        \n",
    "        row = {\n",
    "            'fish_id': fish_id,\n",
    "            'epoch': epoch,\n",
    "            'image_s3_key': s3_key,\n",
    "            's3_bucket': s3_bucket,\n",
    "            'body_part': body_part,\n",
    "            'camera': camera,\n",
    "            'keypoint': kp\n",
    "            \n",
    "        }\n",
    "\n",
    "        keypoints_df = keypoints_df.append(row, ignore_index=True)\n",
    "        \n",
    "        \n",
    "        "
   ]
  },
  {
   "cell_type": "code",
   "execution_count": null,
   "metadata": {},
   "outputs": [],
   "source": [
    "keypoints_df"
   ]
  },
  {
   "cell_type": "code",
   "execution_count": null,
   "metadata": {},
   "outputs": [],
   "source": []
  },
  {
   "cell_type": "code",
   "execution_count": null,
   "metadata": {},
   "outputs": [],
   "source": []
  },
  {
   "cell_type": "markdown",
   "metadata": {},
   "source": [
    "<h1> Get 3D Distances </h1>"
   ]
  },
  {
   "cell_type": "code",
   "execution_count": null,
   "metadata": {},
   "outputs": [],
   "source": [
    "# define some constants\n",
    "\n",
    "FOCAL_LENGTH = 0.0084366\n",
    "BASELINE = 0.128096\n",
    "PIXEL_SIZE_M = 3.45 * 1e-6\n",
    "FOCAL_LENGTH_PIXEL = FOCAL_LENGTH / PIXEL_SIZE_M\n",
    "IMAGE_SENSOR_WIDTH = 0.01412\n",
    "IMAGE_SENSOR_HEIGHT = 0.01035\n",
    "PIXEL_COUNT_WIDTH = 4096\n",
    "PIXEL_COUNT_HEIGHT = 3000"
   ]
  },
  {
   "cell_type": "code",
   "execution_count": null,
   "metadata": {},
   "outputs": [],
   "source": []
  },
  {
   "cell_type": "code",
   "execution_count": null,
   "metadata": {},
   "outputs": [],
   "source": [
    "def convert_to_world_point(x, y, d):\n",
    "    \"\"\" from pixel coordinates to world coordinates \"\"\"\n",
    "    \n",
    "    image_center_x = PIXEL_COUNT_WIDTH / 2.0  \n",
    "    image_center_y = PIXEL_COUNT_HEIGHT / 2.0\n",
    "    px_x = x - image_center_x\n",
    "    px_z = image_center_y - y\n",
    "\n",
    "    sensor_x = px_x * (IMAGE_SENSOR_WIDTH / 4096)\n",
    "    sensor_z = px_z * (IMAGE_SENSOR_HEIGHT / 3000)\n",
    "\n",
    "    # d = depth_map[y, x]\n",
    "    world_y = d\n",
    "    world_x = (world_y * sensor_x) / FOCAL_LENGTH\n",
    "    world_z = (world_y * sensor_z) / FOCAL_LENGTH\n",
    "    return np.array([world_x, world_y, world_z])\n",
    "\n",
    "\n",
    "\n",
    "def depth_from_disp(disp):\n",
    "    \"\"\" calculate the depth of the point based on the disparity value \"\"\"\n",
    "    depth = FOCAL_LENGTH_PIXEL*BASELINE / np.array(disp)\n",
    "    return depth\n",
    "\n",
    "\n",
    "def euclidean_distance(p1, p2):\n",
    "    return ((p1[0] - p2[0])**2 + (p1[1] - p2[1])**2 + (p1[2] - p2[2])**2)**0.5"
   ]
  },
  {
   "cell_type": "code",
   "execution_count": null,
   "metadata": {},
   "outputs": [],
   "source": [
    "body_parts"
   ]
  },
  {
   "cell_type": "code",
   "execution_count": null,
   "metadata": {},
   "outputs": [],
   "source": []
  },
  {
   "cell_type": "code",
   "execution_count": null,
   "metadata": {},
   "outputs": [],
   "source": [
    "stereo_frame_pairs_df = pd.DataFrame()\n",
    "\n",
    "for fish_id in fish_ids:\n",
    "    fish_id_mask = keypoints_df.fish_id == fish_id\n",
    "    epochs = keypoints_df[fish_id_mask].epoch.unique()\n",
    "    for epoch in epochs:\n",
    "        epoch_mask = keypoints_df.epoch == epoch\n",
    "        row = {}\n",
    "        row['gtsf_data_collection_id'] = 1\n",
    "        row['gtsf_fish_identifier'] = fish_id\n",
    "        row['epoch'] = epoch\n",
    "        \n",
    "        row['left_image_s3_key'] = keypoints_df[fish_id_mask \\\n",
    "                                                & epoch_mask \\\n",
    "                                                & (keypoints_df.camera == 'left')\n",
    "                                               ].image_s3_key.iloc[0]\n",
    "        \n",
    "        row['right_image_s3_key'] = keypoints_df[fish_id_mask \\\n",
    "                                                & epoch_mask \\\n",
    "                                                & (keypoints_df.camera == 'right')\n",
    "                                               ].image_s3_key.iloc[0]\n",
    "        \n",
    "        row['image_s3_bucket'] = keypoints_df[fish_id_mask].iloc[0].s3_bucket\n",
    "            \n",
    "        left_keypoints, right_keypoints, world_keypoints = {}, {}, {}\n",
    "                    \n",
    "        for body_part in body_parts:\n",
    "            left_row = keypoints_df[\n",
    "                (keypoints_df.epoch == epoch) & (keypoints_df.camera == 'left') & (keypoints_df.body_part == body_part)\n",
    "            ].iloc[0]\n",
    "\n",
    "            lkp = left_row['keypoint']\n",
    "            left_keypoints[body_part] = lkp\n",
    "\n",
    "            right_row = keypoints_df[\n",
    "                (keypoints_df.epoch == epoch) & (keypoints_df.camera == 'right') & (keypoints_df.body_part == body_part)\n",
    "            ].iloc[0]\n",
    "\n",
    "            rkp = right_row['keypoint']\n",
    "            right_keypoints[body_part] = rkp\n",
    "\n",
    "            d = abs(lkp[0] - rkp[0])\n",
    "\n",
    "            # compute world key point\n",
    "            depth = depth_from_disp(d)\n",
    "            wkp = convert_to_world_point(lkp[0], lkp[1], depth)\n",
    "\n",
    "            world_keypoints[body_part] = wkp\n",
    "            \n",
    "        row['left_keypoints'] = left_keypoints\n",
    "        row['right_keypoints'] = right_keypoints\n",
    "        row['world_keypoints'] = world_keypoints\n",
    "            \n",
    "        stereo_frame_pairs_df = stereo_frame_pairs_df.append(row, ignore_index=True)\n",
    "\n"
   ]
  },
  {
   "cell_type": "code",
   "execution_count": null,
   "metadata": {},
   "outputs": [],
   "source": [
    "\n",
    "stereo_frame_pairs_df[stereo_frame_pairs_df.gtsf_fish_identifier=='190226010001'].left_keypoints.iloc[0]"
   ]
  },
  {
   "cell_type": "code",
   "execution_count": null,
   "metadata": {},
   "outputs": [],
   "source": [
    "annotations_by_datarow_id = {}\n",
    "for obj in annotation_objects:\n",
    "    datarow_id = obj['DataRow ID']\n",
    "    if datarow_id not in list(annotations_by_datarow_id.keys()):\n",
    "        annotations_by_datarow_id[datarow_id] = obj\n",
    "    else:\n",
    "        if obj['Created At'] > annotations_by_datarow_id[datarow_id]:\n",
    "            annotations_by_datarow_id[datarow_id] = obj\n",
    "    \n"
   ]
  },
  {
   "cell_type": "code",
   "execution_count": null,
   "metadata": {},
   "outputs": [],
   "source": [
    "annotation_objects[0]['Project Name']"
   ]
  },
  {
   "cell_type": "code",
   "execution_count": null,
   "metadata": {},
   "outputs": [],
   "source": []
  }
 ],
 "metadata": {
  "kernelspec": {
   "display_name": "Python 2",
   "language": "python",
   "name": "python2"
  },
  "language_info": {
   "codemirror_mode": {
    "name": "ipython",
    "version": 2
   },
   "file_extension": ".py",
   "mimetype": "text/x-python",
   "name": "python",
   "nbconvert_exporter": "python",
   "pygments_lexer": "ipython2",
   "version": "2.7.12"
  }
 },
 "nbformat": 4,
 "nbformat_minor": 2
}
