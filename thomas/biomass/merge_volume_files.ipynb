{
 "cells": [
  {
   "cell_type": "code",
   "execution_count": null,
   "metadata": {},
   "outputs": [],
   "source": [
    "import json"
   ]
  },
  {
   "cell_type": "code",
   "execution_count": null,
   "metadata": {},
   "outputs": [],
   "source": [
    "volume_files = [\"/root/thomas/blender/volumes0.json\",\n",
    "                \"/root/thomas/blender/volumes1.json\"]"
   ]
  },
  {
   "cell_type": "code",
   "execution_count": null,
   "metadata": {},
   "outputs": [],
   "source": [
    "volumes_all = {}\n",
    "for vf in volume_files:\n",
    "    volume = json.load(open(vf))\n",
    "    for (k,v) in volume.items():\n",
    "        if k not in volumes_all:\n",
    "            volumes_all[k] = []\n",
    "        volumes_all[k] += v"
   ]
  },
  {
   "cell_type": "code",
   "execution_count": null,
   "metadata": {},
   "outputs": [],
   "source": [
    "# add stuff\n",
    "old = json.load(open(\"/root/thomas/blender/volumes_all.json\"))\n",
    "mapping = old['mapping']\n",
    "reverse_mapping = old['reverse_mapping']"
   ]
  },
  {
   "cell_type": "code",
   "execution_count": null,
   "metadata": {},
   "outputs": [],
   "source": [
    "volumes_all['mapping'] = mapping\n",
    "volumes_all['reverse_mapping'] = reverse_mapping"
   ]
  },
  {
   "cell_type": "code",
   "execution_count": null,
   "metadata": {},
   "outputs": [],
   "source": [
    "for coord in volumes_all['coordinates']:\n",
    "#     for (k,v) in coord.items():\n",
    "    if 'PECTORAL_LEFT' in coord:\n",
    "        coord['PECTORAL_FIN'] = coord['PECTORAL_LEFT']\n",
    "    if 'PELVIC_LEFT' in coord:\n",
    "        coord['PELVIC_FIN'] = coord['PELVIC_LEFT']"
   ]
  },
  {
   "cell_type": "code",
   "execution_count": null,
   "metadata": {},
   "outputs": [],
   "source": [
    "with open(\"/root/thomas/blender/volumes_all_3.0.json\", \"w\") as f:\n",
    "    json.dump(volumes_all, f)"
   ]
  },
  {
   "cell_type": "code",
   "execution_count": null,
   "metadata": {},
   "outputs": [],
   "source": [
    "import matplotlib.pyplot as plt"
   ]
  },
  {
   "cell_type": "code",
   "execution_count": null,
   "metadata": {},
   "outputs": [],
   "source": []
  },
  {
   "cell_type": "code",
   "execution_count": null,
   "metadata": {},
   "outputs": [],
   "source": [
    "data = json.load(open(volume_files[1]))\n",
    "plt.hist(data[\"volume\"])\n",
    "plt.title(\"Blender volume histogram\")\n",
    "plt.show()"
   ]
  },
  {
   "cell_type": "code",
   "execution_count": null,
   "metadata": {},
   "outputs": [],
   "source": [
    "# add stuff"
   ]
  }
 ],
 "metadata": {
  "kernelspec": {
   "display_name": "Python 3",
   "language": "python",
   "name": "python3"
  },
  "language_info": {
   "codemirror_mode": {
    "name": "ipython",
    "version": 3
   },
   "file_extension": ".py",
   "mimetype": "text/x-python",
   "name": "python",
   "nbconvert_exporter": "python",
   "pygments_lexer": "ipython3",
   "version": "3.5.2"
  }
 },
 "nbformat": 4,
 "nbformat_minor": 2
}
