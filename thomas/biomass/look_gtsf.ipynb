{
 "cells": [
  {
   "cell_type": "code",
   "execution_count": null,
   "metadata": {},
   "outputs": [],
   "source": [
    "import pandas as pd\n",
    "import matplotlib.pyplot as plt\n",
    "import numpy as np\n",
    "import json\n",
    "import glob\n",
    "import skimage.io as io\n",
    "import cv2\n",
    "import os\n",
    "from tqdm import tqdm"
   ]
  },
  {
   "cell_type": "code",
   "execution_count": null,
   "metadata": {},
   "outputs": [],
   "source": [
    "paths = glob.glob(\"/root/data/gtsf_phase_I/*/*.json\")"
   ]
  },
  {
   "cell_type": "markdown",
   "metadata": {},
   "source": [
    "# DEBUG IMAGE LOAD"
   ]
  },
  {
   "cell_type": "code",
   "execution_count": null,
   "metadata": {},
   "outputs": [],
   "source": [
    "paths = glob.glob('/root/data/gtsf_phase_I/2019*/*.json')"
   ]
  },
  {
   "cell_type": "code",
   "execution_count": null,
   "metadata": {},
   "outputs": [],
   "source": [
    "class FLAGS(object):\n",
    "    keypoints_order = [\"TAIL_NOTCH\",\n",
    "                        \"ADIPOSE_FIN\",\n",
    "                        \"UPPER_LIP\",\n",
    "                        \"ANAL_FIN\",\n",
    "                        \"PELVIC_FIN\",\n",
    "                        \"EYE\",\n",
    "                        \"PECTORAL_FIN\",\n",
    "                        \"DORSAL_FIN\"]\n",
    "    augmentation = None\n",
    "    epochs=300\n",
    "    crop = True\n",
    "    input_size = (1024, 1024)"
   ]
  },
  {
   "cell_type": "code",
   "execution_count": null,
   "metadata": {},
   "outputs": [],
   "source": [
    "def load_image_keypoints(annotation, FLAGS, reshape=True, buffer=100):\n",
    "    \"\"\"from annotation load image + keypoints\"\"\"\n",
    "    # load image first\n",
    "    if 'local_path' in annotation:\n",
    "        local_path = annotation['local_path']\n",
    "    else:\n",
    "        local_path = os.path.join(\"/root/data/gtsf_phase_I/\", \n",
    "                                  \"/\".join(annotation[\"Labeled Data\"].split(\"/\")[7:]))\n",
    "    image = cv2.imread(local_path)\n",
    "    #print(local_path)\n",
    "       \n",
    "    # load annotations second\n",
    "    keypoints = []\n",
    "    for kp_name in FLAGS.keypoints_order:\n",
    "        value = annotation[\"Label\"][kp_name]\n",
    "        keypoints.append([int(value[0][\"geometry\"][\"x\"]), \n",
    "                          int(value[0][\"geometry\"][\"y\"])])\n",
    "    if FLAGS.augmentation:\n",
    "        transform = FLAGS.augmentation(image=image, \n",
    "                                       keypoints=keypoints)\n",
    "        image = transform[\"image\"]\n",
    "        keypoints = transform[\"keypoints\"]\n",
    "    \n",
    "    # crop the image min / max value\n",
    "    keypoints = np.array(keypoints)\n",
    "    height, width, _ = image.shape\n",
    "    if FLAGS.crop:\n",
    "        xs = keypoints[:, 0]\n",
    "        min_x = np.max([np.min(xs) - buffer, 0])\n",
    "        max_x = np.min([np.max(xs) + buffer, width])\n",
    "        \n",
    "        ys = keypoints[:, 1]\n",
    "        min_y = np.max([np.min(ys) - buffer, 0])\n",
    "        max_y = np.min([np.max(ys) + buffer, height])\n",
    "        \n",
    "#         print(min_y,max_y, min_x, max_x)\n",
    "        image = image[min_y:max_y, min_x:max_x, : ]\n",
    "#         print(image.shape)\n",
    "    else:\n",
    "        min_x = 0\n",
    "        min_y = 0\n",
    "        \n",
    "    height, width, _ = image.shape\n",
    "    if not reshape:\n",
    "        ratio_width = 1.0\n",
    "        ratio_height = 1.0\n",
    "    else:\n",
    "        ratio_width = width / FLAGS.input_size[0]\n",
    "        ratio_height = height / FLAGS.input_size[1]\n",
    "        image = cv2.resize(image, FLAGS.input_size)\n",
    "    \n",
    "    # let's recalculate the keypoints\n",
    "    keypoints[:, 0] = (keypoints[:, 0] - min_x) / ratio_width\n",
    "    keypoints[:, 1] = (keypoints[:, 1] - min_y) / ratio_height\n",
    "      \n",
    "    \n",
    "    return image, keypoints"
   ]
  },
  {
   "cell_type": "code",
   "execution_count": null,
   "metadata": {},
   "outputs": [],
   "source": [
    "paths = ['/root/data/gtsf_phase_I/2019-05-02/2019-05-02_cogito_annotations.json']\n",
    "paths = glob.glob('/root/data/gtsf_phase_I/2019*/*.json')"
   ]
  },
  {
   "cell_type": "code",
   "execution_count": null,
   "metadata": {},
   "outputs": [],
   "source": [
    "annotations = []\n",
    "for jsonpath in tqdm(paths):\n",
    "    annotations += json.load(open(jsonpath))"
   ]
  },
  {
   "cell_type": "code",
   "execution_count": null,
   "metadata": {},
   "outputs": [],
   "source": [
    "\n",
    "for ann in tqdm(annotations):\n",
    "    if not os.path.isfile(ann['local_path']):\n",
    "        print('bug')\n",
    "    local_path = ann['local_path']\n",
    "    try:\n",
    "        image, kps = load_image_keypoints(ann, FLAGS)\n",
    "        shape = image.shape\n",
    "    except Exception as e:\n",
    "        print(e)\n",
    "        # print(ann)\n",
    "        print(local_path)\n"
   ]
  },
  {
   "cell_type": "code",
   "execution_count": null,
   "metadata": {},
   "outputs": [],
   "source": [
    "image = cv2.imread('/root/data/gtsf_phase_I/2019-05-02/190502010013/rectified/right_small-pen-test-site_1_1556789575202.jpg')"
   ]
  },
  {
   "cell_type": "markdown",
   "metadata": {},
   "source": [
    "# plot images"
   ]
  },
  {
   "cell_type": "code",
   "execution_count": null,
   "metadata": {},
   "outputs": [],
   "source": [
    "!pip3 freeze | grep sci"
   ]
  },
  {
   "cell_type": "code",
   "execution_count": null,
   "metadata": {},
   "outputs": [],
   "source": [
    "import random\n",
    "\n",
    "from PIL import Image\n",
    "from skimage.measure import label"
   ]
  },
  {
   "cell_type": "code",
   "execution_count": null,
   "metadata": {},
   "outputs": [],
   "source": [
    "paths = ['/root/data/gtsf_phase_I/2019-05-02/2019-05-02_cogito_annotations.json']\n",
    "paths = glob.glob('/root/data/gtsf_phase_I/2019*/*.json')"
   ]
  },
  {
   "cell_type": "code",
   "execution_count": null,
   "metadata": {},
   "outputs": [],
   "source": [
    "annotations = []\n",
    "for jsonpath in tqdm(paths):\n",
    "    annotations += json.load(open(jsonpath))"
   ]
  },
  {
   "cell_type": "code",
   "execution_count": null,
   "metadata": {},
   "outputs": [],
   "source": [
    "random.shuffle(annotations)"
   ]
  },
  {
   "cell_type": "code",
   "execution_count": null,
   "metadata": {},
   "outputs": [],
   "source": [
    "def crop_and_mask(image_path, min_hsv, max_hsv):\n",
    "    \"\"\"remove green pixels\"\"\"\n",
    "    name = os.path.basename(image_path)\n",
    "    im = Image.open(image_path).resize((512, 512))\n",
    "    im = np.array(im.convert('HSV'))\n",
    "    h = np.array(im[...,0])\n",
    "    s = np.array(im[...,1])\n",
    "    v = np.array(im[...,2])\n",
    "    \n",
    "    mask = np.logical_and(h > min_hsv[0], h < max_hsv[0]) \\\n",
    "           & np.logical_and(s > min_hsv[1], s < max_hsv[1]) \\\n",
    "#            & np.logical_and(v > min_hsv[2], v < max_hsv[2]) \n",
    "    return mask, h,s,v"
   ]
  },
  {
   "cell_type": "code",
   "execution_count": null,
   "metadata": {},
   "outputs": [],
   "source": [
    "# print(np.min(np.array(im)[100:150, 100:150, 0]))\n",
    "# print(np.min(np.array(im)[100:150, 100:150, 1]))\n",
    "# print(np.min(np.array(im)[100:150, 100:150, 2]))\n",
    "# print('#')\n",
    "# print(np.max(np.array(im)[100:150, 100:150, 0]))\n",
    "# print(np.max(np.array(im)[100:150, 100:150, 1]))\n",
    "# print(np.max(np.array(im)[100:150, 100:150, 2]))"
   ]
  },
  {
   "cell_type": "code",
   "execution_count": null,
   "metadata": {},
   "outputs": [],
   "source": [
    "MIN_HSV = (50, 111, 56)\n",
    "MAX_HSV = (120, 255, 89)"
   ]
  },
  {
   "cell_type": "code",
   "execution_count": null,
   "metadata": {},
   "outputs": [],
   "source": [
    "image_path = '/root/data/gtsf_phase_I/2019-05-02/190502010036/rectified/right_small-pen-test-site_1_1556794876251.jpg'\n",
    "image_path = '/root/data/gtsf_phase_I/2019-03-18/190318010048/rectified/right_small-pen-test-site_1_1552908763753.jpg'\n",
    "image_path = '/root/data/gtsf_phase_I/2019-05-02/190502010015/rectified/right_small-pen-test-site_1_1556789855544.jpg'"
   ]
  },
  {
   "cell_type": "code",
   "execution_count": null,
   "metadata": {},
   "outputs": [],
   "source": [
    "mask, h, _, _ = crop_and_mask(image_path, MIN_HSV, MAX_HSV)"
   ]
  },
  {
   "cell_type": "code",
   "execution_count": null,
   "metadata": {},
   "outputs": [],
   "source": [
    "mask = np.abs(mask - 1)"
   ]
  },
  {
   "cell_type": "code",
   "execution_count": null,
   "metadata": {},
   "outputs": [],
   "source": [
    "plt.imshow(mask)\n",
    "plt.show()\n",
    "\n",
    "mask = mask.astype(np.float64)\n",
    "mask = cv2.erode(mask, np.ones((3,3))) # get ride of the noise\n",
    "# mask = cv2.erode(mask, np.ones((3,3)))\n",
    "mask = cv2.dilate(mask, np.ones((3,3)))\n",
    "mask = cv2.dilate(mask, np.ones((3,3)))\n",
    "\n",
    "plt.imshow(mask)\n",
    "plt.show()"
   ]
  },
  {
   "cell_type": "code",
   "execution_count": null,
   "metadata": {},
   "outputs": [],
   "source": [
    "from sklearn.metrics import pairwise_distances"
   ]
  },
  {
   "cell_type": "code",
   "execution_count": null,
   "metadata": {},
   "outputs": [],
   "source": [
    "def find_fish(mask):\n",
    "    labels = label(mask)\n",
    "    center = (256, 256)\n",
    "    \n",
    "    mindist = 1e5\n",
    "    maxpoints = 0\n",
    "    \n",
    "    fishlabel = None\n",
    "    for l in np.unique(labels):\n",
    "        if l == 0:\n",
    "            continue\n",
    "        if np.count_nonzero(labels == l) < 500:\n",
    "            continue\n",
    "\n",
    "#         centroid = np.mean(np.where(labels == l), axis=1)\n",
    "        distances = pairwise_distances(np.expand_dims(center, axis=0),\n",
    "                                       np.array(np.where(labels == l)).transpose())\n",
    "        close_point = np.count_nonzero(distances < 100)\n",
    "#         dist = np.linalg.norm(center - centroid)\n",
    "        if close_point > maxpoints:\n",
    "            maxpoints = close_point\n",
    "            fishlabel = l\n",
    "#             plt.imshow(labels == l)\n",
    "#             plt.title(l)\n",
    "#             plt.show()\n",
    "#     print(fishlabel)\n",
    "    return np.array(labels == fishlabel)"
   ]
  },
  {
   "cell_type": "code",
   "execution_count": null,
   "metadata": {},
   "outputs": [],
   "source": [
    "for (i, ann) in enumerate(annotations[20:40]):\n",
    "    image_path = ann['local_path']\n",
    "    print(i, image_path)\n",
    "    image = cv2.imread(image_path)\n",
    "    height, width, _ = image.shape\n",
    "    ratio_x = height / 512\n",
    "    ratio_y = width / 512\n",
    "    \n",
    "    mask, _, _, _ = crop_and_mask(image_path, MIN_HSV, MAX_HSV)\n",
    "    mask = np.abs(mask - 1)\n",
    "    mask = mask.astype(np.float64)\n",
    "    mask = cv2.erode(mask, np.ones((3,3)))\n",
    "    mask = cv2.dilate(mask, np.ones((3,3)))\n",
    "    mask = cv2.dilate(mask, np.ones((3,3)))\n",
    "\n",
    "    fish_mask = find_fish(mask)\n",
    "    \n",
    "    plt.figure(figsize=(20,10))\n",
    "    plt.imshow(image)\n",
    "    plt.axis('off')\n",
    "    plt.show()\n",
    "    plt.imshow(mask)\n",
    "    plt.show()\n",
    "    \n",
    "    plt.imshow(fish_mask)\n",
    "    plt.show()\n",
    "    \n",
    "    # mask boundaries\n",
    "    xs, ys = np.where(fish_mask > 0)\n",
    "    x1, x2 = np.min(xs), np.max(xs)\n",
    "    y1, y2 = np.min(ys), np.max(ys)\n",
    "    \n",
    "    # bring back to image scale\n",
    "    x1 = int(x1*ratio_x)\n",
    "    y1 = int(y1*ratio_y)\n",
    "    x2 = int(x2*ratio_x)\n",
    "    y2 = int(y2*ratio_y)\n",
    "    \n",
    "    # buffer\n",
    "#     print(x1, x2, y1, y2)\n",
    "    buffer = 300\n",
    "    x1 = np.max([x1 - buffer, 0])\n",
    "    x2 = np.min([x2 + buffer, height])\n",
    "    y1 = np.max([y1 - buffer, 0])\n",
    "    y2 = np.min([y2 + buffer, width])\n",
    "#     print(x1, x2, y1, y2)\n",
    "    \n",
    "    plt.imshow(image[x1:x2, y1:y2, :])\n",
    "    plt.show()\n",
    "    \n",
    "    print('#'*100)\n"
   ]
  },
  {
   "cell_type": "code",
   "execution_count": null,
   "metadata": {},
   "outputs": [],
   "source": [
    "width, height = Image.open(image_path).size"
   ]
  },
  {
   "cell_type": "code",
   "execution_count": null,
   "metadata": {},
   "outputs": [],
   "source": [
    "width"
   ]
  },
  {
   "cell_type": "code",
   "execution_count": null,
   "metadata": {},
   "outputs": [],
   "source": [
    "height"
   ]
  },
  {
   "cell_type": "markdown",
   "metadata": {},
   "source": [
    "# remove green"
   ]
  },
  {
   "cell_type": "code",
   "execution_count": null,
   "metadata": {},
   "outputs": [],
   "source": [
    "img_path = '/root/data/phase_I/small-pen-test-site/1/2019-02-27/190227010006/raw/right_small-pen-test-site_1_1551258013966.jpg'\n",
    "image = cv2.imread(img_path)\n",
    "body = image[1200: 1900, 200:2500]\n",
    "plt.figure(figsize=(20, 15))\n",
    "plt.imshow(body)\n",
    "plt.show()"
   ]
  },
  {
   "cell_type": "markdown",
   "metadata": {},
   "source": [
    "# more stuff"
   ]
  },
  {
   "cell_type": "code",
   "execution_count": null,
   "metadata": {},
   "outputs": [],
   "source": [
    "# img_path = np.random.choice(paths)\n",
    "img_path = '/root/data/phase_I/small-pen-test-site/1/2019-02-27/190227010006/raw/right_small-pen-test-site_1_1551258013966.jpg'\n",
    "image = cv2.imread(img_path, 0)\n",
    "body = image[1300: 1800, 200:2500]\n",
    "plt.figure(figsize=(20, 15))\n",
    "plt.imshow(body)\n",
    "plt.show()"
   ]
  },
  {
   "cell_type": "code",
   "execution_count": null,
   "metadata": {},
   "outputs": [],
   "source": [
    "head = image[1450:1700, 300:500]\n",
    "plt.imshow(head)\n",
    "# plt.scatter(320, 10, color=\"r\")\n",
    "plt.show()"
   ]
  },
  {
   "cell_type": "code",
   "execution_count": null,
   "metadata": {},
   "outputs": [],
   "source": []
  },
  {
   "cell_type": "markdown",
   "metadata": {},
   "source": [
    "# keypoint matching"
   ]
  },
  {
   "cell_type": "code",
   "execution_count": null,
   "metadata": {},
   "outputs": [],
   "source": [
    "import cv2"
   ]
  },
  {
   "cell_type": "code",
   "execution_count": null,
   "metadata": {},
   "outputs": [],
   "source": [
    "orb = cv2.ORB_create()"
   ]
  },
  {
   "cell_type": "code",
   "execution_count": null,
   "metadata": {},
   "outputs": [],
   "source": [
    "body_resized = body[:, :500]"
   ]
  },
  {
   "cell_type": "code",
   "execution_count": null,
   "metadata": {},
   "outputs": [],
   "source": [
    "kp1, des1 = orb.detectAndCompute(head,None)\n",
    "kp2, des2 = orb.detectAndCompute(body_resized,None)"
   ]
  },
  {
   "cell_type": "code",
   "execution_count": null,
   "metadata": {},
   "outputs": [],
   "source": [
    "headkp = cv2.drawKeypoints(head, kp1, None)\n",
    "plt.imshow(headkp)\n",
    "plt.show()"
   ]
  },
  {
   "cell_type": "code",
   "execution_count": null,
   "metadata": {},
   "outputs": [],
   "source": [
    "bodykp = cv2.drawKeypoints(body_resized, kp2, None)\n",
    "plt.figure(figsize=(20, 10))\n",
    "plt.imshow(bodykp)\n",
    "plt.show()"
   ]
  },
  {
   "cell_type": "code",
   "execution_count": null,
   "metadata": {},
   "outputs": [],
   "source": [
    "# Apply ratio test\n",
    "good = []\n",
    "for m,n in matches:\n",
    "    if m.distance < 0.75*n.distance:\n",
    "        good.append([m])\n",
    "# cv.drawMatchesKnn expects list of lists as matches.\n",
    "img3 = cv2.drawMatchesKnn(body_resized, kp2, head, kp1, good, None, flags=2)\n",
    "plt.figure(figsize=(20, 10))\n",
    "plt.imshow(img3),plt.show()\n",
    "plt.show()"
   ]
  },
  {
   "cell_type": "code",
   "execution_count": null,
   "metadata": {},
   "outputs": [],
   "source": []
  }
 ],
 "metadata": {
  "kernelspec": {
   "display_name": "Python 3",
   "language": "python",
   "name": "python3"
  },
  "language_info": {
   "codemirror_mode": {
    "name": "ipython",
    "version": 3
   },
   "file_extension": ".py",
   "mimetype": "text/x-python",
   "name": "python",
   "nbconvert_exporter": "python",
   "pygments_lexer": "ipython3",
   "version": "3.5.2"
  }
 },
 "nbformat": 4,
 "nbformat_minor": 2
}
