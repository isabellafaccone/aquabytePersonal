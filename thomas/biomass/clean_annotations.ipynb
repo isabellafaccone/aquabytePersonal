{
 "cells": [
  {
   "cell_type": "code",
   "execution_count": null,
   "metadata": {},
   "outputs": [],
   "source": [
    "import json\n",
    "import glob\n",
    "import os"
   ]
  },
  {
   "cell_type": "code",
   "execution_count": null,
   "metadata": {},
   "outputs": [],
   "source": [
    "from sqlalchemy import create_engine\n",
    "from sqlalchemy import MetaData\n",
    "from sqlalchemy import Table, select, func, and_, insert, delete, update, or_\n",
    "\n",
    "from tqdm import tqdm"
   ]
  },
  {
   "cell_type": "code",
   "execution_count": null,
   "metadata": {},
   "outputs": [],
   "source": [
    "annotation_paths = glob.glob(\"/root/data/gtsf_phase_I/*/*.json\")\n",
    "annotation_paths"
   ]
  },
  {
   "cell_type": "code",
   "execution_count": null,
   "metadata": {},
   "outputs": [],
   "source": [
    "# annotations = []\n",
    "# for jpath in annotation_paths:\n",
    "#     annotations += json.load(open(jpath))\n",
    "# print(\"Number of validation data: {}\".format(len(annotations)))"
   ]
  },
  {
   "cell_type": "code",
   "execution_count": null,
   "metadata": {},
   "outputs": [],
   "source": [
    "for jpath in annotation_paths:\n",
    "    annotations = json.load(open(jpath))\n",
    "    print(jpath)\n",
    "    print(\"Amount of data: {}\".format(len(annotations)))\n",
    "    \n",
    "    sql_credentials = json.load(open(\"/root/thomas/sql_research_credentials.json\"))\n",
    "\n",
    "    sql_engine = create_engine(\n",
    "        \"postgresql://{}:{}@{}:{}/{}\".format(sql_credentials[\"user\"], sql_credentials[\"password\"],\n",
    "                                             sql_credentials[\"host\"], sql_credentials[\"port\"],\n",
    "                                             sql_credentials[\"database\"]))\n",
    "\n",
    "    metadata = MetaData()\n",
    "    gtsf = Table('gtsf_data_collections', metadata, autoload=True, autoload_with=sql_engine)\n",
    "\n",
    "    for ann in annotations:\n",
    "        local_path = os.path.join(\"/root/data/gtsf_phase_I/\", \n",
    "                      \"/\".join(ann[\"Labeled Data\"].split(\"/\")[7:]))\n",
    "        ann[\"local_path\"] = local_path\n",
    "        if not os.path.isfile(local_path):\n",
    "            print(\"missing image!!\")\n",
    "        for body_part in ann[\"Label\"].keys():\n",
    "            new_body_part = \"_\".join(body_part.replace(\":\", \"\").split()).upper()\n",
    "            ann[\"Label\"][new_body_part] = ann[\"Label\"].pop(body_part)\n",
    "\n",
    "    timestamps = []\n",
    "    for ann in annotations:\n",
    "        timestamp = ann[\"local_path\"].split(\"/\")[-3]\n",
    "        ann[\"timestamp\"] = timestamp\n",
    "        timestamps.append(ann[\"timestamp\"])\n",
    "\n",
    "    query = select([gtsf.c.ground_truth_metadata,\n",
    "                    gtsf.c.gtsf_fish_identifier]).select_from(gtsf).where(gtsf.c.gtsf_fish_identifier.in_(timestamps))\n",
    "    connection = sql_engine.connect()\n",
    "    q = connection.execute(query)\n",
    "    results = [(eval(r[0]), r[1]) for r in q]\n",
    "\n",
    "    for ann in annotations:\n",
    "        for r in results:\n",
    "            if r[1] == ann[\"timestamp\"]:\n",
    "                ann[\"weight\"] = r[0][\"data\"][\"weight\"]\n",
    "                ann[\"breath\"] = r[0][\"data\"][\"breath\"]\n",
    "                ann[\"length\"] = r[0][\"data\"][\"length\"]\n",
    "                ann[\"width\"] = r[0][\"data\"][\"width\"]\n",
    "                ann[\"kfactor\"] = 10**5*ann[\"weight\"] / ann[\"length\"]**3\n",
    "                ann[\"species\"] = r[0][\"data\"].get(\"species\", \"salmon\")\n",
    "                break\n",
    "    \n",
    "    with open(jpath, \"w\") as f:\n",
    "        json.dump(annotations, f)"
   ]
  }
 ],
 "metadata": {
  "kernelspec": {
   "display_name": "Python 3",
   "language": "python",
   "name": "python3"
  },
  "language_info": {
   "codemirror_mode": {
    "name": "ipython",
    "version": 3
   },
   "file_extension": ".py",
   "mimetype": "text/x-python",
   "name": "python",
   "nbconvert_exporter": "python",
   "pygments_lexer": "ipython3",
   "version": "3.5.2"
  }
 },
 "nbformat": 4,
 "nbformat_minor": 2
}
