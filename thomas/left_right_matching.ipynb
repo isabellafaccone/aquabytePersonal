{
 "cells": [
  {
   "cell_type": "markdown",
   "metadata": {},
   "source": [
    "Notebook for matching left and right frames predictions."
   ]
  },
  {
   "cell_type": "markdown",
   "metadata": {},
   "source": [
    "First we load the results and sort them by pairs"
   ]
  },
  {
   "cell_type": "code",
   "execution_count": null,
   "metadata": {},
   "outputs": [],
   "source": [
    "import json\n",
    "import glob\n",
    "import os "
   ]
  },
  {
   "cell_type": "code",
   "execution_count": null,
   "metadata": {},
   "outputs": [],
   "source": [
    "results = json.load(open('/root/data/aquabyte-images/20180911_detection_small.json'))\n",
    "print(\"Total number of images: {}\".format(len(results['images'])))"
   ]
  },
  {
   "cell_type": "code",
   "execution_count": null,
   "metadata": {},
   "outputs": [],
   "source": [
    "# timestamps dict\n",
    "timestamps = {}\n",
    "for path in results['images']:\n",
    "    path0 = path['local_path']\n",
    "    ts = int(os.path.basename(path0).split('.')[0].split('_')[-1])\n",
    "    side = os.path.basename(path0).split('.')[0].split('_')[0]\n",
    "    if ts not in timestamps:\n",
    "        timestamps[ts] = {}\n",
    "    timestamps[ts][side] = path0\n",
    "    timestamps[ts][side + \"_id\"] = path['id']"
   ]
  },
  {
   "cell_type": "code",
   "execution_count": null,
   "metadata": {},
   "outputs": [],
   "source": [
    "print(\"number of pairs: {}\".format(len([v for (k, v) in timestamps.items() if \"right\" in v and \"left\" in v])))"
   ]
  },
  {
   "cell_type": "code",
   "execution_count": null,
   "metadata": {},
   "outputs": [],
   "source": [
    "pairs = [v for (k, v) in timestamps.items() if \"right\" in v and \"left\" in v]"
   ]
  },
  {
   "cell_type": "markdown",
   "metadata": {},
   "source": [
    "So we have 1023 pairs."
   ]
  },
  {
   "cell_type": "markdown",
   "metadata": {},
   "source": [
    "### Visualization"
   ]
  },
  {
   "cell_type": "code",
   "execution_count": null,
   "metadata": {},
   "outputs": [],
   "source": [
    "from pycocotools.coco import COCO\n",
    "import numpy as np\n",
    "import skimage.io as io\n",
    "import matplotlib.pyplot as plt\n",
    "import pylab\n",
    "import json\n",
    "import matplotlib.patches as patches"
   ]
  },
  {
   "cell_type": "code",
   "execution_count": null,
   "metadata": {},
   "outputs": [],
   "source": [
    "json_path = '/root/data/aquabyte-images/20180911_detection_small.json'\n",
    "example_coco = COCO(json_path)"
   ]
  },
  {
   "cell_type": "code",
   "execution_count": null,
   "metadata": {},
   "outputs": [],
   "source": [
    "category_ids = example_coco.getCatIds(catNms=['square'])\n",
    "image_ids = example_coco.getImgIds(catIds=category_ids)\n",
    "image_data = example_coco.loadImgs(image_ids[np.random.randint(0, len(image_ids))])[0]"
   ]
  },
  {
   "cell_type": "code",
   "execution_count": null,
   "metadata": {},
   "outputs": [],
   "source": [
    "# load and display instance annotations\n",
    "image = io.imread(image_data['local_path'])\n",
    "f ,ax = plt.subplots(1, figsize=(20, 20))\n",
    "ax.imshow(image); \n",
    "# ax.axis('off')\n",
    "# plt.axis('off')\n",
    "# pylab.rcParams['figure.figsize'] = (8.0, 10.0)\n",
    "annotation_ids = example_coco.getAnnIds(imgIds=image_data['id'], catIds=category_ids, iscrowd=None)\n",
    "annotations = example_coco.loadAnns(annotation_ids)\n",
    "example_coco.showAnns(annotations)\n",
    "for ann in annotations:\n",
    "    bbox = ann['bbox']\n",
    "    rec = patches.Rectangle((bbox[1], bbox[0]), bbox[3]-bbox[1], bbox[2]-bbox[0], \n",
    "                            edgecolor='r', facecolor=None, fill=False, linestyle='--', linewidth=2)\n",
    "    ax.add_patch(rec)\n",
    "    # ax.text(bbox[0], bbox[1]-10, id2class[str(ann['category_id'])], fontsize=16)\n",
    "plt.show()"
   ]
  },
  {
   "cell_type": "markdown",
   "metadata": {},
   "source": [
    "### Matching"
   ]
  },
  {
   "cell_type": "markdown",
   "metadata": {},
   "source": [
    "First strategy: matching using bounding boxes only! We calculate a score for each pairs of bboxes."
   ]
  },
  {
   "cell_type": "code",
   "execution_count": null,
   "metadata": {},
   "outputs": [],
   "source": [
    "# pair = np.random.choice(pairs)\n",
    "pair = pairs[1]"
   ]
  },
  {
   "cell_type": "code",
   "execution_count": null,
   "metadata": {},
   "outputs": [],
   "source": [
    "# let's plot a pair of images\n",
    "f ,ax = plt.subplots(1, 2, figsize=(20, 20))\n",
    "\n",
    "# plot left image and annotations\n",
    "left_image_data = example_coco.loadImgs(pair['right_id'])[0]\n",
    "left_image = io.imread(left_image_data['local_path'])\n",
    "left_annotation_ids = example_coco.getAnnIds(imgIds=left_image_data['id'], catIds=category_ids, iscrowd=None)\n",
    "left_annotations = example_coco.loadAnns(left_annotation_ids)\n",
    "for ann in left_annotations:\n",
    "    bbox = ann['bbox']\n",
    "    rec = patches.Rectangle((bbox[1], bbox[0]), bbox[3]-bbox[1], bbox[2]-bbox[0], \n",
    "                            edgecolor='w', facecolor=None, fill=False, linestyle='--', linewidth=2)\n",
    "    ax[0].add_patch(rec)\n",
    "ax[0].imshow(left_image)\n",
    "\n",
    "# plot right image and annotations\n",
    "right_image_data = example_coco.loadImgs(pair['left_id'])[0]\n",
    "right_image = io.imread(right_image_data['local_path'])\n",
    "right_annotation_ids = example_coco.getAnnIds(imgIds=right_image_data['id'], catIds=category_ids, iscrowd=None)\n",
    "right_annotations = example_coco.loadAnns(right_annotation_ids)\n",
    "for ann in right_annotations:\n",
    "    bbox = ann['bbox']\n",
    "    rec = patches.Rectangle((bbox[1], bbox[0]), bbox[3]-bbox[1], bbox[2]-bbox[0], \n",
    "                            edgecolor='w', facecolor=None, fill=False, linestyle='--', linewidth=2)\n",
    "    ax[1].add_patch(rec)\n",
    "ax[1].imshow(right_image)\n",
    "plt.show()"
   ]
  },
  {
   "cell_type": "code",
   "execution_count": null,
   "metadata": {},
   "outputs": [],
   "source": [
    "from scipy.optimize import linear_sum_assignment\n",
    "from sklearn.metrics.pairwise import euclidean_distances"
   ]
  },
  {
   "cell_type": "code",
   "execution_count": null,
   "metadata": {},
   "outputs": [],
   "source": [
    "# let's use x1, x2 to match bboxes\n",
    "left_centroids = []\n",
    "for ann in left_annotations:\n",
    "    bbox = ann['bbox']\n",
    "    # centroid = [(bbox[3] - bbox[1])/2.0, (bbox[2] - bbox[0])/2.0]\n",
    "    centroid = [bbox[2], bbox[0]]\n",
    "    left_centroids.append(centroid)\n",
    "    \n",
    "right_centroids = []\n",
    "for ann in right_annotations:\n",
    "    bbox = ann['bbox']\n",
    "    # centroid = [(bbox[3] - bbox[1])/2.0, (bbox[2] - bbox[0])/2.0]\n",
    "    centroid = [bbox[2], bbox[0]]\n",
    "    right_centroids.append(centroid)\n",
    "\n",
    "print(\"Number of left centroids: {}\".format(len(left_centroids)))\n",
    "print(\"Number of right centroids: {}\".format(len(right_centroids)))"
   ]
  },
  {
   "cell_type": "code",
   "execution_count": null,
   "metadata": {},
   "outputs": [],
   "source": [
    "centroid"
   ]
  },
  {
   "cell_type": "code",
   "execution_count": null,
   "metadata": {},
   "outputs": [],
   "source": [
    "cost_matrix = euclidean_distances(left_centroids, right_centroids)"
   ]
  },
  {
   "cell_type": "code",
   "execution_count": null,
   "metadata": {},
   "outputs": [],
   "source": [
    "row_ind, col_ind = linear_sum_assignment(cost_matrix)"
   ]
  },
  {
   "cell_type": "code",
   "execution_count": null,
   "metadata": {},
   "outputs": [],
   "source": [
    "for (r, c) in zip(row_ind, col_ind):\n",
    "    print(cost_matrix[r, c])\n",
    "    print(left_centroids[r], right_centroids[c])"
   ]
  },
  {
   "cell_type": "code",
   "execution_count": null,
   "metadata": {},
   "outputs": [],
   "source": []
  },
  {
   "cell_type": "markdown",
   "metadata": {},
   "source": [
    "### debugging"
   ]
  },
  {
   "cell_type": "code",
   "execution_count": null,
   "metadata": {},
   "outputs": [],
   "source": [
    "from pycocotools.coco import COCO\n",
    "import numpy as np\n",
    "import skimage.io as io\n",
    "import matplotlib.pyplot as plt\n",
    "import pylab\n",
    "import json\n",
    "import matplotlib.patches as patches\n",
    "\n",
    "from PIL import Image, ImageDraw\n",
    "from scipy.optimize import linear_sum_assignment\n",
    "from sklearn.cluster import KMeans\n",
    "from sklearn.metrics.pairwise import euclidean_distances\n",
    "from utils import *"
   ]
  },
  {
   "cell_type": "code",
   "execution_count": null,
   "metadata": {},
   "outputs": [],
   "source": [
    "f ,ax = plt.subplots(1, 2, figsize=(20, 20))\n",
    "left_image = io.imread('./out2/1/input/right_frame.jpg')\n",
    "left_annotations = json.load(open('./out2/1/input/right_frame.jpg.segmentation.prediction.json'))['annotations']\n",
    "for ann in left_annotations:\n",
    "    bbox = ann['bbox']\n",
    "    rec = patches.Rectangle((bbox[1], bbox[0]), bbox[3]-bbox[1], bbox[2]-bbox[0], \n",
    "                            edgecolor='w', facecolor=None, fill=False, linestyle='--', linewidth=2)\n",
    "    ax[0].add_patch(rec)\n",
    "ax[0].imshow(left_image)\n",
    "\n",
    "# plot right image and annotations\n",
    "right_image = io.imread('./out2/1/input/left_frame.jpg')\n",
    "right_annotations = json.load(open('./out2/1/input/left_frame.jpg.segmentation.prediction.json'))['annotations']\n",
    "for ann in right_annotations:\n",
    "    bbox = ann['bbox']\n",
    "    rec = patches.Rectangle((bbox[1], bbox[0]), bbox[3]-bbox[1], bbox[2]-bbox[0], \n",
    "                            edgecolor='w', facecolor=None, fill=False, linestyle='--', linewidth=2)\n",
    "    ax[1].add_patch(rec)\n",
    "ax[1].imshow(right_image)\n",
    "plt.show()"
   ]
  },
  {
   "cell_type": "code",
   "execution_count": null,
   "metadata": {},
   "outputs": [],
   "source": [
    "# let's use x1, x2 to match bboxes\n",
    "left_centroids = []\n",
    "for ann in left_annotations:\n",
    "    bbox = ann['bbox']\n",
    "    # centroid = [(bbox[3] - bbox[1])/2.0, (bbox[2] - bbox[0])/2.0]\n",
    "    centroid = [bbox[2], bbox[0]]\n",
    "    left_centroids.append(centroid)\n",
    "    \n",
    "right_centroids = []\n",
    "for ann in right_annotations:\n",
    "    bbox = ann['bbox']\n",
    "    # centroid = [(bbox[3] - bbox[1])/2.0, (bbox[2] - bbox[0])/2.0]\n",
    "    centroid = [bbox[2], bbox[0]]\n",
    "    right_centroids.append(centroid)\n",
    "\n",
    "print(\"Number of left centroids: {}\".format(len(left_centroids)))\n",
    "print(\"Number of right centroids: {}\".format(len(right_centroids)))"
   ]
  },
  {
   "cell_type": "code",
   "execution_count": null,
   "metadata": {},
   "outputs": [],
   "source": [
    "cost_matrix = euclidean_distances(left_centroids, right_centroids)"
   ]
  },
  {
   "cell_type": "code",
   "execution_count": null,
   "metadata": {},
   "outputs": [],
   "source": [
    "row_ind, col_ind = linear_sum_assignment(cost_matrix)"
   ]
  },
  {
   "cell_type": "code",
   "execution_count": null,
   "metadata": {},
   "outputs": [],
   "source": [
    "matched_annotations = []\n",
    "for (r, c) in zip(row_ind, col_ind):\n",
    "    if cost_matrix[r, c] < 100.0:\n",
    "        matched_annotations.append([left_annotations[r], right_annotations[c]])"
   ]
  },
  {
   "cell_type": "code",
   "execution_count": null,
   "metadata": {},
   "outputs": [],
   "source": [
    "matched_annotations"
   ]
  },
  {
   "cell_type": "code",
   "execution_count": null,
   "metadata": {},
   "outputs": [],
   "source": [
    "# then let's calculate the biomass\n",
    "weights = []\n",
    "for pair in matched_annotations:\n",
    "    weights.append(weight_estimator(pair[0], pair[1]))"
   ]
  },
  {
   "cell_type": "code",
   "execution_count": null,
   "metadata": {},
   "outputs": [],
   "source": [
    "weights"
   ]
  },
  {
   "cell_type": "code",
   "execution_count": null,
   "metadata": {},
   "outputs": [],
   "source": []
  },
  {
   "cell_type": "code",
   "execution_count": null,
   "metadata": {},
   "outputs": [],
   "source": [
    "pair[0]"
   ]
  },
  {
   "cell_type": "code",
   "execution_count": null,
   "metadata": {},
   "outputs": [],
   "source": [
    "pair[1]"
   ]
  }
 ],
 "metadata": {
  "kernelspec": {
   "display_name": "Python 2",
   "language": "python",
   "name": "python2"
  },
  "language_info": {
   "codemirror_mode": {
    "name": "ipython",
    "version": 2
   },
   "file_extension": ".py",
   "mimetype": "text/x-python",
   "name": "python",
   "nbconvert_exporter": "python",
   "pygments_lexer": "ipython2",
   "version": "2.7.12"
  }
 },
 "nbformat": 4,
 "nbformat_minor": 2
}
