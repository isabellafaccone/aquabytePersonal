{
 "cells": [
  {
   "cell_type": "markdown",
   "metadata": {},
   "source": [
    "Get the frames paths"
   ]
  },
  {
   "cell_type": "code",
   "execution_count": null,
   "metadata": {},
   "outputs": [],
   "source": [
    "import glob"
   ]
  },
  {
   "cell_type": "code",
   "execution_count": null,
   "metadata": {},
   "outputs": [],
   "source": [
    "images_paths = glob.glob(\"/root/data/pellet/frames/*.jpg\")"
   ]
  },
  {
   "cell_type": "markdown",
   "metadata": {},
   "source": [
    "Get the labels"
   ]
  },
  {
   "cell_type": "code",
   "execution_count": null,
   "metadata": {},
   "outputs": [],
   "source": [
    "import json\n",
    "import os"
   ]
  },
  {
   "cell_type": "code",
   "execution_count": null,
   "metadata": {},
   "outputs": [],
   "source": [
    "with open(\"/root/data/pellet/labels/pellet_labels.json\", \"r\") as f:\n",
    "    annotations = json.load(f)"
   ]
  },
  {
   "cell_type": "code",
   "execution_count": null,
   "metadata": {},
   "outputs": [],
   "source": [
    "# quick code to make viz simpler\n",
    "for an in annotations:\n",
    "    an[\"local_path\"] = os.path.join(\"/root/data/pellet/frames/\", an[\"External ID\"])"
   ]
  },
  {
   "cell_type": "markdown",
   "metadata": {},
   "source": [
    "some metrics"
   ]
  },
  {
   "cell_type": "code",
   "execution_count": null,
   "metadata": {},
   "outputs": [],
   "source": [
    "import numpy as np\n",
    "import matplotlib.pyplot as plt"
   ]
  },
  {
   "cell_type": "code",
   "execution_count": null,
   "metadata": {},
   "outputs": [],
   "source": [
    "widths = []\n",
    "heights = []\n",
    "for ann in annotations:\n",
    "    for pellet in ann[\"Label\"][\"pellet\"]:\n",
    "        xs = [k[\"x\"] for k in pellet[\"geometry\"]]\n",
    "        x1, x2 = np.min(xs), np.max(xs)\n",
    "        ys = [k[\"y\"] for k in pellet[\"geometry\"]]\n",
    "        y1, y2 = np.min(ys), np.max(ys)\n",
    "        width = x2-x1\n",
    "        height = y2-y1\n",
    "        widths.append(width)\n",
    "        heights.append(height)"
   ]
  },
  {
   "cell_type": "code",
   "execution_count": null,
   "metadata": {},
   "outputs": [],
   "source": [
    "print(max(widths), min(widths))\n",
    "print(np.median(widths))\n",
    "plt.hist(widths)\n",
    "plt.show()"
   ]
  },
  {
   "cell_type": "code",
   "execution_count": null,
   "metadata": {},
   "outputs": [],
   "source": [
    "print(max(heights), min(heights))\n",
    "print(np.median(heights))\n",
    "plt.hist(heights)\n",
    "plt.show()"
   ]
  },
  {
   "cell_type": "code",
   "execution_count": null,
   "metadata": {},
   "outputs": [],
   "source": []
  },
  {
   "cell_type": "markdown",
   "metadata": {},
   "source": [
    "some visualizations"
   ]
  },
  {
   "cell_type": "code",
   "execution_count": null,
   "metadata": {},
   "outputs": [],
   "source": [
    "import cv2\n",
    "import numpy as np\n",
    "import matplotlib.pyplot as plt\n",
    "from matplotlib.patches import Rectangle"
   ]
  },
  {
   "cell_type": "code",
   "execution_count": null,
   "metadata": {},
   "outputs": [],
   "source": [
    "# random_ann = np.random.choice(annotations)\n",
    "random_ann = [ann for ann in annotations if ann['External ID'] == 'Oppdrett_Demo_1080p_4120.jpg'][0]\n",
    "image = cv2.imread(random_ann[\"local_path\"])\n",
    "f, ax = plt.subplots(1, figsize=(20, 20))\n",
    "ax.imshow(image)\n",
    "for pellet in random_ann[\"Label\"][\"pellet\"]:\n",
    "    xs = [k[\"x\"] for k in pellet[\"geometry\"]]\n",
    "    x1, x2 = np.min(xs), np.max(xs)\n",
    "    ys = [k[\"y\"] for k in pellet[\"geometry\"]]\n",
    "    y1, y2 = np.min(ys), np.max(ys)\n",
    "    width = x2-x1\n",
    "    height = y2-y1\n",
    "    # print(width, height)\n",
    "    r = Rectangle((x1, y1), width, height, facecolor=\"none\", edgecolor=\"r\")\n",
    "    ax.add_patch(r)\n",
    "ax.axis(\"off\")\n",
    "plt.show()"
   ]
  },
  {
   "cell_type": "code",
   "execution_count": null,
   "metadata": {},
   "outputs": [],
   "source": [
    "random_ann = [ann for ann in annotations if ann['External ID'] == 'Oppdrett_Demo_1080p_4121.jpg'][0]\n",
    "image = cv2.imread(random_ann[\"local_path\"])\n",
    "f, ax = plt.subplots(1, figsize=(20, 20))\n",
    "ax.imshow(image)\n",
    "for pellet in random_ann[\"Label\"][\"pellet\"]:\n",
    "    xs = [k[\"x\"] for k in pellet[\"geometry\"]]\n",
    "    x1, x2 = np.min(xs), np.max(xs)\n",
    "    ys = [k[\"y\"] for k in pellet[\"geometry\"]]\n",
    "    y1, y2 = np.min(ys), np.max(ys)\n",
    "    width = x2-x1\n",
    "    height = y2-y1\n",
    "    # print(width, height)\n",
    "    r = Rectangle((x1, y1), width, height, facecolor=\"none\", edgecolor=\"r\")\n",
    "    ax.add_patch(r)\n",
    "ax.axis(\"off\")\n",
    "plt.show()"
   ]
  },
  {
   "cell_type": "markdown",
   "metadata": {},
   "source": [
    "create csv file"
   ]
  },
  {
   "cell_type": "code",
   "execution_count": null,
   "metadata": {},
   "outputs": [],
   "source": [
    "import csv"
   ]
  },
  {
   "cell_type": "code",
   "execution_count": null,
   "metadata": {},
   "outputs": [],
   "source": [
    "# one class: 0 = pellets\n",
    "with open(\"/root/data/pellet/labels/pellet_labels.csv\", mode='w') as f:\n",
    "    writer = csv.writer(f, delimiter=',', quotechar='\"', quoting=csv.QUOTE_MINIMAL)\n",
    "    for ann in annotations:\n",
    "        for pellet in ann[\"Label\"][\"pellet\"]:\n",
    "            xs = [k[\"x\"] for k in pellet[\"geometry\"]]\n",
    "            x1, x2 = np.min(xs), np.max(xs)\n",
    "            ys = [k[\"y\"] for k in pellet[\"geometry\"]]\n",
    "            y1, y2 = np.min(ys), np.max(ys)\n",
    "            writer.writerow([ann[\"local_path\"], x1, y1, x2, y2, \"pellet\"])\n"
   ]
  },
  {
   "cell_type": "code",
   "execution_count": null,
   "metadata": {},
   "outputs": [],
   "source": [
    "# create classid file\n",
    "with open(\"/root/data/pellet/labels/class_ids.csv\", mode='w') as f:\n",
    "    writer = csv.writer(f, delimiter=',', quotechar='\"', quoting=csv.QUOTE_MINIMAL)\n",
    "    writer.writerow([\"pellet\", 0])"
   ]
  }
 ],
 "metadata": {
  "kernelspec": {
   "display_name": "Python 3",
   "language": "python",
   "name": "python3"
  },
  "language_info": {
   "codemirror_mode": {
    "name": "ipython",
    "version": 3
   },
   "file_extension": ".py",
   "mimetype": "text/x-python",
   "name": "python",
   "nbconvert_exporter": "python",
   "pygments_lexer": "ipython3",
   "version": "3.5.2"
  }
 },
 "nbformat": 4,
 "nbformat_minor": 2
}
