{
 "cells": [
  {
   "cell_type": "code",
   "execution_count": null,
   "metadata": {},
   "outputs": [],
   "source": [
    "import json\n",
    "from glob import glob"
   ]
  },
  {
   "cell_type": "code",
   "execution_count": null,
   "metadata": {},
   "outputs": [],
   "source": [
    "lices = json.load(open('/root/data/fish_identification/lice_annotations.json'))"
   ]
  },
  {
   "cell_type": "markdown",
   "metadata": {},
   "source": [
    "### add local path"
   ]
  },
  {
   "cell_type": "code",
   "execution_count": null,
   "metadata": {},
   "outputs": [],
   "source": [
    "import os"
   ]
  },
  {
   "cell_type": "code",
   "execution_count": null,
   "metadata": {},
   "outputs": [],
   "source": [
    "for lice in lices:\n",
    "    local = glob('/root/data/fish_identification/basler0/*' + os.path.basename(lice['Labeled Data'])[40:])\n",
    "    if len(local):\n",
    "        lice['path'] = local[0]\n",
    "    if type(lice['Label']) is dict:\n",
    "        for (key, values) in lice['Label'].iteritems():\n",
    "             for value in values:\n",
    "                    value['geometry'] = [(k['x'],k['y']) for k in value['geometry']]"
   ]
  },
  {
   "cell_type": "code",
   "execution_count": null,
   "metadata": {},
   "outputs": [],
   "source": [
    "lices[0]"
   ]
  },
  {
   "cell_type": "code",
   "execution_count": null,
   "metadata": {},
   "outputs": [],
   "source": [
    "with open('/root/data/fish_identification/lice_annotations_v2.json', 'w') as f:\n",
    "    json.dump(lices, f)"
   ]
  },
  {
   "cell_type": "markdown",
   "metadata": {},
   "source": [
    "### visualization"
   ]
  },
  {
   "cell_type": "code",
   "execution_count": null,
   "metadata": {},
   "outputs": [],
   "source": [
    "import json\n",
    "import matplotlib.pyplot as plt\n",
    "from PIL import Image, ImageDraw\n",
    "from PIL.ImageDraw import Draw\n",
    "import numpy as np\n",
    "import cv2"
   ]
  },
  {
   "cell_type": "code",
   "execution_count": null,
   "metadata": {},
   "outputs": [],
   "source": [
    "annotations = json.load(open('/root/data/fish_identification/lice_annotations_v2.json'))"
   ]
  },
  {
   "cell_type": "code",
   "execution_count": null,
   "metadata": {},
   "outputs": [],
   "source": [
    "random_lice = np.random.choice(annotations[:1])\n",
    "print([(t[0], 3000-t[1]) for t in random_lice['Label']['adult_female'][0]['geometry']])\n",
    "img = Image.open(random_lice['path'])\n",
    "draw = ImageDraw.Draw(img)\n",
    "draw.polygon([(t[0], 3000-t[1]) for t in random_lice['Label']['adult_female'][0]['geometry']], outline='red')"
   ]
  },
  {
   "cell_type": "code",
   "execution_count": null,
   "metadata": {},
   "outputs": [],
   "source": [
    "img"
   ]
  },
  {
   "cell_type": "code",
   "execution_count": null,
   "metadata": {},
   "outputs": [],
   "source": [
    "test = np.array(img)"
   ]
  },
  {
   "cell_type": "code",
   "execution_count": null,
   "metadata": {},
   "outputs": [],
   "source": [
    "delta = 50\n",
    "zoom = test[1917-delta:1977+delta, 1977-delta:2119+delta]"
   ]
  },
  {
   "cell_type": "code",
   "execution_count": null,
   "metadata": {},
   "outputs": [],
   "source": [
    "plt.imshow(zoom)"
   ]
  },
  {
   "cell_type": "markdown",
   "metadata": {},
   "source": [
    "### create new dataset"
   ]
  },
  {
   "cell_type": "code",
   "execution_count": null,
   "metadata": {},
   "outputs": [],
   "source": [
    "import json\n",
    "import matplotlib.pyplot as plt\n",
    "from PIL import Image, ImageDraw\n",
    "from PIL.ImageDraw import Draw\n",
    "import numpy as np\n",
    "import cv2\n",
    "import csv"
   ]
  },
  {
   "cell_type": "code",
   "execution_count": null,
   "metadata": {},
   "outputs": [],
   "source": [
    "lices = json.load(open('/root/data/fish_identification/lice_annotations_v2.json'))"
   ]
  },
  {
   "cell_type": "code",
   "execution_count": null,
   "metadata": {},
   "outputs": [],
   "source": [
    "to_save = []"
   ]
  },
  {
   "cell_type": "code",
   "execution_count": null,
   "metadata": {},
   "outputs": [],
   "source": [
    "for lice in lices:\n",
    "    if 'path' in lice:\n",
    "        if type(lice['Label']) is dict:\n",
    "            for (key, values) in lice['Label'].iteritems():\n",
    "                 for value in values:\n",
    "                        geometry = value['geometry']\n",
    "                        x1 = min([g[0] for g in geometry])\n",
    "                        x2 = max([g[0] for g in geometry])\n",
    "                        y1 = 3000 - max([g[1] for g in geometry])\n",
    "                        y2 = 3000 - min([g[1] for g in geometry])\n",
    "                        print(x1, y1, x2, y2)\n",
    "                        to_save.append((lice['path'], x1, y1, x2, y2, key))"
   ]
  },
  {
   "cell_type": "code",
   "execution_count": null,
   "metadata": {},
   "outputs": [],
   "source": [
    "with open('/root/data/fish_identification/lice_dataset.csv', 'wb') as csvfile:\n",
    "    writer = csv.writer(csvfile, delimiter=',', quoting=csv.QUOTE_MINIMAL)\n",
    "    for ts in to_save:\n",
    "        writer.writerow(ts)\n",
    "        "
   ]
  },
  {
   "cell_type": "code",
   "execution_count": null,
   "metadata": {},
   "outputs": [],
   "source": [
    "with open('/root/data/fish_identification/lice_dataset.csv', 'r') as csvfile:\n",
    "    reader = csv.reader(csvfile, delimiter=',', quoting=csv.QUOTE_MINIMAL)\n",
    "    for row in reader:\n",
    "        print(row)"
   ]
  },
  {
   "cell_type": "markdown",
   "metadata": {},
   "source": [
    "## Save images on disk"
   ]
  },
  {
   "cell_type": "code",
   "execution_count": null,
   "metadata": {},
   "outputs": [],
   "source": [
    "import json\n",
    "import matplotlib.pyplot as plt\n",
    "from PIL import Image, ImageDraw\n",
    "from PIL.ImageDraw import Draw\n",
    "import numpy as np\n",
    "import cv2\n",
    "import csv\n",
    "import os"
   ]
  },
  {
   "cell_type": "code",
   "execution_count": null,
   "metadata": {},
   "outputs": [],
   "source": [
    "dataset = []\n",
    "with open('/root/data/fish_identification/lice_dataset.csv', 'r') as csvfile:\n",
    "    reader = csv.reader(csvfile, delimiter=',', quoting=csv.QUOTE_MINIMAL)\n",
    "    for row in reader:\n",
    "        dataset.append(row)"
   ]
  },
  {
   "cell_type": "code",
   "execution_count": null,
   "metadata": {},
   "outputs": [],
   "source": [
    "dataset[6]"
   ]
  },
  {
   "cell_type": "code",
   "execution_count": null,
   "metadata": {},
   "outputs": [],
   "source": [
    "random_lice = dataset[6]\n",
    "img = Image.open(random_lice[0])\n",
    "poly = [int(coord) for coord in random_lice[1:5]]\n",
    "draw = ImageDraw.Draw(img)\n",
    "draw.rectangle([(poly[0], poly[1]), (poly[2], poly[3])], outline='red')"
   ]
  },
  {
   "cell_type": "code",
   "execution_count": null,
   "metadata": {},
   "outputs": [],
   "source": [
    "img"
   ]
  },
  {
   "cell_type": "code",
   "execution_count": null,
   "metadata": {},
   "outputs": [],
   "source": [
    "img.crop((poly[0], poly[1], poly[2], poly[3]))"
   ]
  },
  {
   "cell_type": "code",
   "execution_count": null,
   "metadata": {},
   "outputs": [],
   "source": [
    "# Creating dataset here\n",
    "basedir = '/root/data/lice_detection/'\n",
    "count = {'adult_female':0, 'moving':0, 'static':0, 'uncertain':0}\n",
    "for data in dataset:\n",
    "    img = Image.open(data[0])\n",
    "    poly = [int(coord) for coord in data[1:5]]\n",
    "    # path of lice image\n",
    "    lice_class = data[-1]\n",
    "    class_dir = os.path.join(basedir, lice_class)\n",
    "    if not os.path.isdir(class_dir):\n",
    "        os.makedirs(class_dir)\n",
    "    \n",
    "    # save image\n",
    "    index = count[lice_class]\n",
    "    lice_path  = os.path.join(class_dir, 'lice_{}.jpg'.format(index))\n",
    "    img.crop((poly[0], poly[1], poly[2], poly[3])).save(lice_path)\n",
    "    count[lice_class] += 1"
   ]
  },
  {
   "cell_type": "code",
   "execution_count": null,
   "metadata": {},
   "outputs": [],
   "source": []
  },
  {
   "cell_type": "code",
   "execution_count": null,
   "metadata": {},
   "outputs": [],
   "source": [
    "set([d[-1] for d in dataset])"
   ]
  },
  {
   "cell_type": "code",
   "execution_count": null,
   "metadata": {},
   "outputs": [],
   "source": [
    "data[-1]"
   ]
  },
  {
   "cell_type": "code",
   "execution_count": null,
   "metadata": {},
   "outputs": [],
   "source": [
    "img = np.array(Image.open(dataset[6][0]))"
   ]
  },
  {
   "cell_type": "code",
   "execution_count": null,
   "metadata": {},
   "outputs": [],
   "source": [
    "rec = [int(coord) for coord in dataset[6][1:5]]"
   ]
  },
  {
   "cell_type": "code",
   "execution_count": null,
   "metadata": {},
   "outputs": [],
   "source": [
    "rec"
   ]
  },
  {
   "cell_type": "code",
   "execution_count": null,
   "metadata": {},
   "outputs": [],
   "source": [
    "delta = 0\n",
    "zoom = img[rec[1]-delta:rec[3]+delta, rec[0]-delta:rec[2]+delta]"
   ]
  },
  {
   "cell_type": "code",
   "execution_count": null,
   "metadata": {},
   "outputs": [],
   "source": [
    "plt.imshow(zoom)"
   ]
  },
  {
   "cell_type": "markdown",
   "metadata": {},
   "source": [
    "## create dataset for object detection"
   ]
  },
  {
   "cell_type": "code",
   "execution_count": null,
   "metadata": {},
   "outputs": [],
   "source": [
    "import json\n",
    "import matplotlib.pyplot as plt\n",
    "from PIL import Image, ImageDraw\n",
    "from PIL.ImageDraw import Draw\n",
    "import numpy as np\n",
    "import cv2\n",
    "import csv\n",
    "import os\n",
    "from glob import glob"
   ]
  },
  {
   "cell_type": "code",
   "execution_count": null,
   "metadata": {},
   "outputs": [],
   "source": [
    "# load the segmentation data\n",
    "mask_annotations = json.load(open('/root/data/fish_identification/new_annotations.json'))\n",
    "instruction = 'Draw a bounding box around all fish or any part of a fish. It does not matter how far it is or if you only see a small part of it.'\n",
    "mask_annotations = [m for m in mask_annotations if m['instructions'] == instruction]\n",
    "print(len(mask_annotations))\n",
    "filtered_mask_annotations = []\n",
    "for ma in mask_annotations:\n",
    "    # check if the mask exists\n",
    "    if ma['results']:\n",
    "        if len(ma['content']) > 0:\n",
    "            local = glob('/root/data/fish_identification/basler0/*' + os.path.basename(ma['content'])[40:])\n",
    "            if len(local) > 0:\n",
    "                ma['path'] = local[0]\n",
    "                filtered_mask_annotations.append(ma)\n",
    "print(len(filtered_mask_annotations))"
   ]
  },
  {
   "cell_type": "code",
   "execution_count": null,
   "metadata": {},
   "outputs": [],
   "source": [
    "# load the lice data\n",
    "dataset = []\n",
    "with open('/root/data/fish_identification/lice_dataset.csv', 'r') as csvfile:\n",
    "    reader = csv.reader(csvfile, delimiter=',', quoting=csv.QUOTE_MINIMAL)\n",
    "    for row in reader:\n",
    "        dataset.append(row)\n",
    "print(len(dataset))"
   ]
  },
  {
   "cell_type": "code",
   "execution_count": null,
   "metadata": {},
   "outputs": [],
   "source": [
    "# find the intersection of the two sets\n",
    "lice_images = set([d[0] for d in dataset])\n",
    "mask_images = set([m['path'] for m in filtered_mask_annotations])\n",
    "print(len(lice_images))\n",
    "print(len(mask_images))\n",
    "intersection = set.intersection(lice_images, mask_images)\n",
    "print(len(intersection))"
   ]
  },
  {
   "cell_type": "code",
   "execution_count": null,
   "metadata": {},
   "outputs": [],
   "source": [
    "# remove the images without lices in the mask dataset\n",
    "filtered_mask_annotations = [im for im in filtered_mask_annotations if im['path'] in intersection]\n",
    "print(len(filtered_mask_annotations))"
   ]
  },
  {
   "cell_type": "code",
   "execution_count": null,
   "metadata": {},
   "outputs": [],
   "source": [
    "# loop through the mask, find all the lices and see if the fish with the lice on it has a \n",
    "total = 0\n",
    "for ma in filtered_mask_annotations:\n",
    "    print('#'*50)\n",
    "    lices = [d for d in dataset if d[0] == ma['path']]\n",
    "    print(ma['path'])\n",
    "    print('The image contains {} lices'.format(len(lices)))\n",
    "    \n",
    "    # get the mask\n",
    "    masks = Image.new('L', (4096, 3000), 0)\n",
    "    polygons = ma['results']\n",
    "    for polygon in polygons:\n",
    "        good_polygon = [tuple([poly[0], 3000-poly[1]]) for poly in polygon]\n",
    "        ImageDraw.Draw(masks).polygon(good_polygon, outline='white', fill='white')\n",
    "    masks = np.array(masks)\n",
    "    masks[masks>0]=1\n",
    "    # plt.imshow(masks)\n",
    "    # plt.show()\n",
    "    \n",
    "    # get the lice positions\n",
    "    lice_array = np.zeros((3000, 4096))\n",
    "    for lice in lices:\n",
    "        rec = [int(l) for l in lice[1:5]]\n",
    "        lice_array[rec[1]:rec[3], rec[0]:rec[2]] += 1\n",
    "    lice_array[lice_array>0] = 1\n",
    "    \n",
    "    # sum the two array to if the lice is on a fish\n",
    "    summ = lice_array + masks\n",
    "    if summ.max() > 1:\n",
    "        print('lice_overlapping with mask')\n",
    "        total += 1\n",
    "#     plt.imshow(summ)\n",
    "#     plt.show()\n",
    "    \n",
    "    \n",
    "    # plt.imshow(lice_array)\n",
    "    # plt.show()"
   ]
  },
  {
   "cell_type": "code",
   "execution_count": null,
   "metadata": {},
   "outputs": [],
   "source": [
    "print(total)"
   ]
  },
  {
   "cell_type": "markdown",
   "metadata": {},
   "source": [
    "## new approach"
   ]
  },
  {
   "cell_type": "code",
   "execution_count": null,
   "metadata": {},
   "outputs": [],
   "source": [
    "import json\n",
    "import matplotlib.pyplot as plt\n",
    "from PIL import Image, ImageDraw\n",
    "from PIL.ImageDraw import Draw\n",
    "import numpy as np\n",
    "import cv2\n",
    "import csv\n",
    "import os\n",
    "from glob import glob"
   ]
  },
  {
   "cell_type": "code",
   "execution_count": null,
   "metadata": {},
   "outputs": [],
   "source": [
    "annotations = json.load(open('/root/data/lice_detection/new_labels_bboxes.json'))"
   ]
  },
  {
   "cell_type": "code",
   "execution_count": null,
   "metadata": {},
   "outputs": [],
   "source": [
    "def get_bbox(geometry):\n",
    "    geometry = [(k['x'],k['y']) for k in geometry]\n",
    "    x1 = min([l[0] for l in geometry])\n",
    "    x2 = max([l[0] for l in geometry])\n",
    "    y1 = max([l[1] for l in geometry])\n",
    "    y2 = min([l[1] for l in geometry])\n",
    "    return x1, 3000-y1, x2, 3000-y2"
   ]
  },
  {
   "cell_type": "code",
   "execution_count": null,
   "metadata": {},
   "outputs": [],
   "source": [
    "def where_is_lice(lice_bbox, fish_bboxes):\n",
    "    for fbboxx in fish_bboxes:\n",
    "        fbbox = fbboxx[0]\n",
    "        if fbbox[0] <= lice_bbox[0] \\\n",
    "            and fbbox[1] <= lice_bbox[1] \\\n",
    "            and fbbox[2] >= lice_bbox[2] \\\n",
    "            and fbbox[3] >= lice_bbox[3]:\n",
    "\n",
    "            return fbboxx[-1], \\\n",
    "                   lice_bbox[0]-fbbox[0], \\\n",
    "                   lice_bbox[1]-fbbox[1], \\\n",
    "                   lice_bbox[2]-fbbox[0], \\\n",
    "                   lice_bbox[3]-fbbox[1], \\\n",
    "                   'lice'"
   ]
  },
  {
   "cell_type": "code",
   "execution_count": null,
   "metadata": {},
   "outputs": [],
   "source": [
    "import matplotlib.patches as patches\n",
    "from PIL import Image, ImageDraw"
   ]
  },
  {
   "cell_type": "code",
   "execution_count": null,
   "metadata": {},
   "outputs": [],
   "source": [
    "lice_dataset = []\n",
    "index = 0\n",
    "for annot in annotations:\n",
    "    local = glob('/root/data/fish_identification/basler0/*' + os.path.basename(annot['Labeled Data'])[40:])\n",
    "    if len(local) > 0 and type(annot['Label']) == dict:\n",
    "        img_path = local[0]\n",
    "        img = Image.open(img_path)\n",
    "        # first get all the fish without lice and save the crops\n",
    "        if 'fish' in annot['Label']:\n",
    "            for fish in annot['Label']['fish']:\n",
    "                bbox = get_bbox(fish['geometry'])\n",
    "                # print(bbox)\n",
    "                crop = img.crop(bbox)\n",
    "                crop.save('/root/data/lice_detection/1_fish_classification/fish/fish_{}.jpg'.format(index))\n",
    "                index += 1\n",
    "        # second, get all the fish with lice and save crops, the path and the crop coordinates\n",
    "        if 'lice_fish' in annot['Label']:\n",
    "            lice_fish_bboxes = []\n",
    "            for fish in annot['Label']['lice_fish']:\n",
    "                bbox = get_bbox(fish['geometry'])\n",
    "                # print(bbox)\n",
    "                crop = img.crop(bbox)\n",
    "                crop_path = '/root/data/lice_detection/1_fish_classification/lice_fish/fish_{}.jpg'.format(index)\n",
    "                crop.save(crop_path)\n",
    "                index += 1\n",
    "                lice_fish_bboxes.append((bbox, crop_path))\n",
    "        # third, let's go all through\n",
    "        for k in annot['Label'].keys():\n",
    "            if k not in  ['fish', 'lice_fish']:\n",
    "                # print(k)\n",
    "                # it's a lice\n",
    "                for lice in annot['Label'][k]:\n",
    "                    bbox = get_bbox(lice['geometry'])\n",
    "                    # print(bbox)\n",
    "                    new = where_is_lice(bbox, lice_fish_bboxes)\n",
    "                    \n",
    "                    croppp = Image.open(new[0])\n",
    "                    print(croppp.size, new)\n",
    "                    # draw = ImageDraw.Draw(croppp)\n",
    "                    # draw.rectangle(new[1:-1], outline='red')\n",
    "                    lice_dataset.append(new)\n",
    "        print('#'*50)\n",
    "                    "
   ]
  },
  {
   "cell_type": "code",
   "execution_count": null,
   "metadata": {},
   "outputs": [],
   "source": [
    "with open('/root/data/lice_detection/lice_dataset_fish_only.csv', 'w') as csvfile:\n",
    "    writer = csv.writer(csvfile, delimiter=',', quoting=csv.QUOTE_MINIMAL)\n",
    "    for ts in lice_dataset:\n",
    "        writer.writerow(ts)"
   ]
  },
  {
   "cell_type": "markdown",
   "metadata": {},
   "source": [
    "## Check data"
   ]
  },
  {
   "cell_type": "code",
   "execution_count": null,
   "metadata": {},
   "outputs": [],
   "source": [
    "import json\n",
    "import matplotlib.pyplot as plt\n",
    "from PIL import Image, ImageDraw\n",
    "from PIL.ImageDraw import Draw\n",
    "import numpy as np\n",
    "import cv2\n",
    "import csv\n",
    "import os\n",
    "from glob import glob"
   ]
  },
  {
   "cell_type": "code",
   "execution_count": null,
   "metadata": {},
   "outputs": [],
   "source": [
    "# load annotations\n",
    "dataset = []\n",
    "with open('/root/data/lice_detection/lice_dataset_fish_only.csv', 'r') as f:\n",
    "    reader = csv.reader(f, delimiter=',', quoting=csv.QUOTE_MINIMAL)\n",
    "    for row in reader:\n",
    "        dataset.append(row)"
   ]
  },
  {
   "cell_type": "code",
   "execution_count": null,
   "metadata": {},
   "outputs": [],
   "source": [
    "print(len(dataset))"
   ]
  },
  {
   "cell_type": "code",
   "execution_count": null,
   "metadata": {},
   "outputs": [],
   "source": [
    "import random\n",
    "random.shuffle(dataset)"
   ]
  },
  {
   "cell_type": "code",
   "execution_count": null,
   "metadata": {},
   "outputs": [],
   "source": [
    "idx = int(0.9 * len(dataset))\n",
    "train = dataset[:idx]\n",
    "val = dataset[idx:]\n",
    "print(len(train))\n",
    "print(len(val))"
   ]
  },
  {
   "cell_type": "code",
   "execution_count": null,
   "metadata": {},
   "outputs": [],
   "source": [
    "# with open('/root/data/lice_detection/lice_dataset_fish_only_train.csv', 'w') as csvfile:\n",
    "#     writer = csv.writer(csvfile, delimiter=',', quoting=csv.QUOTE_MINIMAL)\n",
    "#     for ts in train:\n",
    "#         writer.writerow(ts)"
   ]
  },
  {
   "cell_type": "code",
   "execution_count": null,
   "metadata": {},
   "outputs": [],
   "source": [
    "# with open('/root/data/lice_detection/lice_dataset_fish_only_val.csv', 'w') as csvfile:\n",
    "#     writer = csv.writer(csvfile, delimiter=',', quoting=csv.QUOTE_MINIMAL)\n",
    "#     for ts in val:\n",
    "#         writer.writerow(ts)"
   ]
  },
  {
   "cell_type": "code",
   "execution_count": null,
   "metadata": {},
   "outputs": [],
   "source": []
  },
  {
   "cell_type": "code",
   "execution_count": null,
   "metadata": {},
   "outputs": [],
   "source": []
  },
  {
   "cell_type": "code",
   "execution_count": null,
   "metadata": {},
   "outputs": [],
   "source": []
  },
  {
   "cell_type": "code",
   "execution_count": null,
   "metadata": {},
   "outputs": [],
   "source": []
  },
  {
   "cell_type": "code",
   "execution_count": null,
   "metadata": {},
   "outputs": [],
   "source": [
    "for data in dataset[:100]:\n",
    "    im = np.array(Image.open(data[0]), dtype=np.uint8)\n",
    "    \n",
    "    # Create figure and axes\n",
    "    fig,ax = plt.subplots(1, figsize=(15, 10))\n",
    "\n",
    "    # Display the image\n",
    "    ax.imshow(im)\n",
    "\n",
    "    # Create a Rectangle patch\n",
    "    rec = [0]+[int(d) for d in data[1:5]]\n",
    "    rect = patches.Rectangle((rec[1],rec[2]),rec[3]-rec[1],rec[4]-rec[2],\n",
    "                             linewidth=1,edgecolor='r',facecolor='none')\n",
    "\n",
    "    # Add the patch to the Axes\n",
    "    ax.add_patch(rect)\n",
    "\n",
    "    plt.show()"
   ]
  },
  {
   "cell_type": "code",
   "execution_count": null,
   "metadata": {},
   "outputs": [],
   "source": []
  },
  {
   "cell_type": "code",
   "execution_count": null,
   "metadata": {},
   "outputs": [],
   "source": []
  },
  {
   "cell_type": "code",
   "execution_count": null,
   "metadata": {},
   "outputs": [],
   "source": []
  },
  {
   "cell_type": "code",
   "execution_count": null,
   "metadata": {},
   "outputs": [],
   "source": []
  },
  {
   "cell_type": "code",
   "execution_count": null,
   "metadata": {},
   "outputs": [],
   "source": []
  }
 ],
 "metadata": {
  "kernelspec": {
   "display_name": "Python 2",
   "language": "python",
   "name": "python2"
  },
  "language_info": {
   "codemirror_mode": {
    "name": "ipython",
    "version": 2
   },
   "file_extension": ".py",
   "mimetype": "text/x-python",
   "name": "python",
   "nbconvert_exporter": "python",
   "pygments_lexer": "ipython2",
   "version": "2.7.12"
  }
 },
 "nbformat": 4,
 "nbformat_minor": 2
}
