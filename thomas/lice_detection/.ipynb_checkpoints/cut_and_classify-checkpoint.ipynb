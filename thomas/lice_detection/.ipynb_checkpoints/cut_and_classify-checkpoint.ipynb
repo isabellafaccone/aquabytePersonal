{
 "cells": [
  {
   "cell_type": "markdown",
   "metadata": {},
   "source": [
    "# #0 Create dataset"
   ]
  },
  {
   "cell_type": "code",
   "execution_count": null,
   "metadata": {},
   "outputs": [],
   "source": [
    "import os \n",
    "import numpy as np\n",
    "import matplotlib.pyplot as plt\n",
    "from PIL import Image\n",
    "import glob"
   ]
  },
  {
   "cell_type": "markdown",
   "metadata": {},
   "source": [
    "### Useful functions"
   ]
  },
  {
   "cell_type": "code",
   "execution_count": null,
   "metadata": {},
   "outputs": [],
   "source": [
    "# get average dimensions of lice from dataset\n",
    "lices = glob.glob('/root/data/lice_detection/0_lice_classification/*/*.jpg')\n",
    "print(len(lices))\n",
    "average_size = np.zeros((1, 2))\n",
    "max_height = 0\n",
    "max_width = 0\n",
    "for lice in lices:\n",
    "    width, height = Image.open(lice).size\n",
    "    if width > max_width:\n",
    "        max_width = width\n",
    "    if height > max_height:\n",
    "        max_height = height\n",
    "    average_size += np.array(Image.open(lice).size)\n",
    "    \n",
    "average_size = average_size[0]\n",
    "average_size = average_size[0]/len(lices), average_size[1]/len(lices)\n",
    "print(average_size)\n",
    "print(max_width, max_height)"
   ]
  },
  {
   "cell_type": "code",
   "execution_count": null,
   "metadata": {},
   "outputs": [],
   "source": [
    "def IoU(boxA, boxB):\n",
    "    # determine the (x, y)-coordinates of the intersection rectangle\n",
    "    xA = max(boxA[0], boxB[0])\n",
    "    yA = max(boxA[1], boxB[1])\n",
    "    xB = min(boxA[2], boxB[2])\n",
    "    yB = min(boxA[3], boxB[3])\n",
    " \n",
    "    # compute the area of intersection rectangle\n",
    "    interArea = max(0, xB - xA + 1) * max(0, yB - yA + 1)\n",
    " \n",
    "    # compute the area of both the prediction and ground-truth\n",
    "    # rectangles\n",
    "    boxAArea = (boxA[2] - boxA[0] + 1) * (boxA[3] - boxA[1] + 1)\n",
    "    boxBArea = (boxB[2] - boxB[0] + 1) * (boxB[3] - boxB[1] + 1)\n",
    " \n",
    "    # compute the intersection over union by taking the intersection\n",
    "    # area and dividing it by the sum of prediction + ground-truth\n",
    "    # areas - the interesection area\n",
    "    iou = interArea / float(boxAArea + boxBArea - interArea)\n",
    " \n",
    "    # return the intersection over union value\n",
    "    return iou"
   ]
  },
  {
   "cell_type": "code",
   "execution_count": null,
   "metadata": {},
   "outputs": [],
   "source": [
    "def chunks(img, template, bboxes, thresh):\n",
    "    \"\"\"takes a image and cut it into chunks\n",
    "    - img: (H, W, 3) numpy array\n",
    "    - template: (Ht, Wt) tuple\n",
    "    - bboxes: bboxes coordinates\n",
    "    output:\n",
    "    - chunks: list of N (Ht, Wt, 3) numpy arrays\n",
    "    - classes: list N integers with class id\"\"\"\n",
    "    height, width, channels = img.shape\n",
    "    new_height = template[0]*((height // template[0])+1) if height % template[0] != 0 else height\n",
    "    new_width = template[1]*((width // template[1])+1) if width % template[1] != 0 else width\n",
    "    \n",
    "    # pad the array\n",
    "    padded_img = np.zeros((new_height, new_width, channels), dtype=np.uint8)\n",
    "    padded_img[:height, : width, :] = img\n",
    "    # print(padded_img.shape)\n",
    "    # cut it into chunks\n",
    "    chunks = []\n",
    "    classes = []\n",
    "    for i in range(new_height // template[0]):\n",
    "        for j in range(new_width // template[1]):\n",
    "            chunk = padded_img[(i*template[0]):((i+1)*template[0]), \n",
    "                               (j*template[1]):((j+1)*template[1]),\n",
    "                               :]\n",
    "            bbox_chunk = [i*template[0], j*template[1], (i+1)*template[0], (j+1)*template[1]]\n",
    "            # class id: 0 not lice, 1 lice\n",
    "            class_id = 0\n",
    "            for bbox in bboxes:\n",
    "                iou = IoU(bbox, bbox_chunk)\n",
    "                if iou > thresh:\n",
    "                    class_id = 1\n",
    "            if class_id == 0:\n",
    "                dice = np.random.rand()\n",
    "                if dice > 0.8:\n",
    "                    classes.append(class_id)\n",
    "                    chunks.append(chunk) \n",
    "            else:   \n",
    "                classes.append(class_id)\n",
    "                chunks.append(chunk)    \n",
    "    return chunks, classes     \n",
    "    \n",
    "    "
   ]
  },
  {
   "cell_type": "markdown",
   "metadata": {},
   "source": [
    "### Main code"
   ]
  },
  {
   "cell_type": "code",
   "execution_count": null,
   "metadata": {},
   "outputs": [],
   "source": [
    "import csv"
   ]
  },
  {
   "cell_type": "code",
   "execution_count": null,
   "metadata": {},
   "outputs": [],
   "source": [
    "base_dir = '/root/data/lice_detection/2_chunk_classification'\n",
    "subdirs = ['train', 'val']\n",
    "subsubdirs = ['lice', 'not_lice']\n",
    "if not os.path.isdir(base_dir):\n",
    "    os.makedirs(base_dir)\n",
    "for sd in subdirs:\n",
    "    for ssd in subsubdirs:\n",
    "        sub = os.path.join(base_dir, sd, ssd)\n",
    "        if not os.path.isdir(sub):\n",
    "            os.makedirs(sub)"
   ]
  },
  {
   "cell_type": "code",
   "execution_count": null,
   "metadata": {},
   "outputs": [],
   "source": [
    "# load annotations\n",
    "dataset = []\n",
    "with open('/root/data/lice_detection/lice_dataset_fish_only.csv', 'r') as f:\n",
    "    reader = csv.reader(f, delimiter=',', quoting=csv.QUOTE_MINIMAL)\n",
    "    for row in reader:\n",
    "        dataset.append(row)"
   ]
  },
  {
   "cell_type": "code",
   "execution_count": null,
   "metadata": {},
   "outputs": [],
   "source": [
    "print(len(dataset))"
   ]
  },
  {
   "cell_type": "code",
   "execution_count": null,
   "metadata": {},
   "outputs": [],
   "source": [
    "# change format\n",
    "lice_dic = {}\n",
    "for data in dataset:\n",
    "    if data[0] not in lice_dic:\n",
    "        lice_dic[data[0]] = []\n",
    "    lice_dic[data[0]].append([int(d) for d in data[1:5]])"
   ]
  },
  {
   "cell_type": "code",
   "execution_count": null,
   "metadata": {},
   "outputs": [],
   "source": [
    "template = (100, 100)\n",
    "thresh = 0.0"
   ]
  },
  {
   "cell_type": "code",
   "execution_count": null,
   "metadata": {},
   "outputs": [],
   "source": [
    "total = 0\n",
    "for (path, bboxes) in lice_dic.iteritems():\n",
    "    print(path)\n",
    "    img = np.array(Image.open(path))\n",
    "    index = 0\n",
    "    code = path.split('/')[-1].split('.')[0].split('_')[-1]\n",
    "    # print(img.shape, bboxes)\n",
    "    chunks_list, classes  = chunks(img, template, bboxes, thresh)\n",
    "    print(len(chunks_list), np.sum(classes))\n",
    "    for (chunk, cl) in zip(chunks_list, classes):\n",
    "        if np.random.rand() > 0.9:\n",
    "            data_type = 'val'\n",
    "        else:\n",
    "            data_type = 'train'\n",
    "        if cl == 0:\n",
    "            dice = np.random.rand()\n",
    "            if dice > 0.5:\n",
    "                chunk_path = os.path.join(base_dir, data_type, 'not_lice', code + '_' + str(index) + '.jpg')\n",
    "                Image.fromarray(chunk).save(chunk_path)\n",
    "        else:\n",
    "            chunk_path = os.path.join(base_dir, data_type, 'lice', code + '_' + str(index) + '.jpg')\n",
    "            Image.fromarray(chunk).save(chunk_path)\n",
    "        index += 1"
   ]
  },
  {
   "cell_type": "code",
   "execution_count": null,
   "metadata": {},
   "outputs": [],
   "source": [
    "print(\"Image in train: {} lices, {} not lices\".format(\n",
    "    len(os.listdir('/root/data/lice_detection/2_chunk_classification/train/lice/')),\n",
    "    len(os.listdir('/root/data/lice_detection/2_chunk_classification/train/not_lice/'))))"
   ]
  },
  {
   "cell_type": "code",
   "execution_count": null,
   "metadata": {},
   "outputs": [],
   "source": [
    "print(\"Image in val: {} lices, {} not lices\".format(\n",
    "    len(os.listdir('/root/data/lice_detection/2_chunk_classification/val/lice/')),\n",
    "    len(os.listdir('/root/data/lice_detection/2_chunk_classification/val/not_lice/'))))"
   ]
  },
  {
   "cell_type": "markdown",
   "metadata": {},
   "source": [
    "# #1 Look at the data"
   ]
  },
  {
   "cell_type": "code",
   "execution_count": null,
   "metadata": {},
   "outputs": [],
   "source": [
    "import matplotlib.pyplot as plt\n",
    "import numpy as np\n",
    "from PIL import Image\n",
    "import os\n",
    "import glob"
   ]
  },
  {
   "cell_type": "code",
   "execution_count": null,
   "metadata": {},
   "outputs": [],
   "source": [
    "lice_chunks = glob.glob('/root/data/lice_detection/2_chunk_classification/*/lice/*.jpg')\n",
    "print(len(lice_chunks))"
   ]
  },
  {
   "cell_type": "code",
   "execution_count": null,
   "metadata": {},
   "outputs": [],
   "source": [
    "random_lice_chunks = np.random.choice(lice_chunks, 10)\n",
    "for rlc in random_lice_chunks:\n",
    "    plt.imshow(np.array(Image.open(rlc)))\n",
    "    plt.show()"
   ]
  },
  {
   "cell_type": "markdown",
   "metadata": {},
   "source": [
    "# #2 Train a quick algorithm"
   ]
  },
  {
   "cell_type": "code",
   "execution_count": null,
   "metadata": {},
   "outputs": [],
   "source": [
    "import keras\n",
    "from keras.layers import Input, Conv2D, MaxPooling2D, Flatten, Dense\n",
    "from keras.applications import vgg16\n",
    "from keras.models import Model\n",
    "from keras.optimizers import Adam\n",
    "import numpy as np\n",
    "from PIL import Image\n",
    "import os\n",
    "import glob"
   ]
  },
  {
   "cell_type": "code",
   "execution_count": null,
   "metadata": {},
   "outputs": [],
   "source": [
    "img_input = Input(shape=(100, 100, 3))\n",
    "\n",
    "# Block 1\n",
    "x = Conv2D(32, (3, 3), activation='relu', padding='same', name='block1_conv1')(img_input)\n",
    "x = Conv2D(32, (3, 3), activation='relu', padding='same', name='block1_conv2')(x)\n",
    "x = MaxPooling2D((2, 2), strides=(2, 2), name='block1_pool')(x)\n",
    "\n",
    "# Block 2\n",
    "x = Conv2D(64, (3, 3), activation='relu', padding='same', name='block2_conv1')(x)\n",
    "x = Conv2D(64, (3, 3), activation='relu', padding='same', name='block2_conv2')(x)\n",
    "x = MaxPooling2D((2, 2), strides=(2, 2), name='block2_pool')(x)\n",
    "\n",
    "# Block 3\n",
    "x = Conv2D(128, (3, 3), activation='relu', padding='same', name='block3_conv1')(x)\n",
    "x = Conv2D(128, (3, 3), activation='relu', padding='same', name='block3_conv2')(x)\n",
    "x = MaxPooling2D((2, 2), strides=(2, 2), name='block3_pool')(x)\n",
    "\n",
    "x = Flatten(name='flatten')(x)\n",
    "x = Dense(100, activation='relu', name='fc1')(x)\n",
    "x = Dense(2, activation='softmax', name='predictions')(x)"
   ]
  },
  {
   "cell_type": "code",
   "execution_count": null,
   "metadata": {},
   "outputs": [],
   "source": [
    "model = Model([img_input], [x])"
   ]
  },
  {
   "cell_type": "code",
   "execution_count": null,
   "metadata": {},
   "outputs": [],
   "source": [
    "adam = Adam(lr=1e-3)\n",
    "model.compile(adam, loss=\"categorical_crossentropy\", metrics=['categorical_accuracy', 'top_k_categorical_accuracy'])"
   ]
  },
  {
   "cell_type": "code",
   "execution_count": null,
   "metadata": {},
   "outputs": [],
   "source": [
    "BATCH_SIZE = 16\n",
    "INPUT_SHAPE = (100, 100, 3)\n",
    "train_steps = 100\n",
    "val_steps = 10"
   ]
  },
  {
   "cell_type": "code",
   "execution_count": null,
   "metadata": {},
   "outputs": [],
   "source": [
    "def myGenerator(data_type, steps_per_epoch, BATCH_SIZE, INPUT_SHAPE):\n",
    "    i = 0\n",
    "    img_size = INPUT_SHAPE[0]\n",
    "    while True:\n",
    "        x_batch = np.empty((BATCH_SIZE, INPUT_SHAPE[0], INPUT_SHAPE[1], INPUT_SHAPE[2]))\n",
    "        y_batch = np.empty((BATCH_SIZE, 2))\n",
    "        for (ind, j) in enumerate(range(i*BATCH_SIZE, (i+1)*BATCH_SIZE)):\n",
    "            # roll dice\n",
    "            dice = np.random.rand()\n",
    "            if dice > 0.5:\n",
    "                class_type = 'not_lice'\n",
    "                chunk = np.random.choice(glob.glob('/root/data/lice_detection/2_chunk_classification/{}/{}/*.jpg'\n",
    "                                                   .format(data_type, class_type)))\n",
    "                xb = np.array(Image.open(chunk))\n",
    "                yb = 0\n",
    "            else:\n",
    "                class_type = 'lice'\n",
    "                chunk = np.random.choice(glob.glob('/root/data/lice_detection/2_chunk_classification/{}/{}/*.jpg'\n",
    "                                                    .format(data_type, class_type)))\n",
    "                xb = np.array(Image.open(chunk))\n",
    "                yb = 1\n",
    "                \n",
    "            x_batch[ind,...] = xb\n",
    "            y_batch[ind,...] = yb\n",
    "        # bunch of augmentation\n",
    "\n",
    "        i += 1\n",
    "        if i >= steps_per_epoch:\n",
    "            i = 0\n",
    "        yield x_batch, y_batch"
   ]
  },
  {
   "cell_type": "code",
   "execution_count": null,
   "metadata": {},
   "outputs": [],
   "source": [
    "# create the generators\n",
    "train_generator = myGenerator(\"train\", train_steps, BATCH_SIZE, INPUT_SHAPE)\n",
    "validation_generator = myGenerator(\"val\", val_steps, BATCH_SIZE, INPUT_SHAPE)"
   ]
  },
  {
   "cell_type": "code",
   "execution_count": null,
   "metadata": {},
   "outputs": [],
   "source": [
    "X,Y = train_generator.next()"
   ]
  },
  {
   "cell_type": "code",
   "execution_count": null,
   "metadata": {},
   "outputs": [],
   "source": [
    "Y.shape"
   ]
  },
  {
   "cell_type": "code",
   "execution_count": null,
   "metadata": {},
   "outputs": [],
   "source": [
    "# start training\n",
    "history = model.fit_generator(\n",
    "        generator=train_generator,\n",
    "        steps_per_epoch=train_steps,\n",
    "        epochs=50,\n",
    "        verbose=1,\n",
    "        validation_data=validation_generator,\n",
    "        validation_steps=len())"
   ]
  },
  {
   "cell_type": "code",
   "execution_count": null,
   "metadata": {},
   "outputs": [],
   "source": []
  },
  {
   "cell_type": "code",
   "execution_count": null,
   "metadata": {},
   "outputs": [],
   "source": []
  }
 ],
 "metadata": {
  "kernelspec": {
   "display_name": "Python 2",
   "language": "python",
   "name": "python2"
  },
  "language_info": {
   "codemirror_mode": {
    "name": "ipython",
    "version": 2
   },
   "file_extension": ".py",
   "mimetype": "text/x-python",
   "name": "python",
   "nbconvert_exporter": "python",
   "pygments_lexer": "ipython2",
   "version": "2.7.12"
  }
 },
 "nbformat": 4,
 "nbformat_minor": 2
}
