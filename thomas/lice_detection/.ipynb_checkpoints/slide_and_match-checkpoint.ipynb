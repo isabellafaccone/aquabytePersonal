{
 "cells": [
  {
   "cell_type": "markdown",
   "metadata": {},
   "source": [
    "Sliding two pattern to match them, ie for lice when matching"
   ]
  },
  {
   "cell_type": "code",
   "execution_count": null,
   "metadata": {},
   "outputs": [],
   "source": [
    "import cv2\n",
    "import numpy as np\n",
    "import matplotlib.pyplot as plt\n",
    "from PIL import Image"
   ]
  },
  {
   "cell_type": "code",
   "execution_count": null,
   "metadata": {},
   "outputs": [],
   "source": [
    "from skimage.measure import compare_ssim"
   ]
  },
  {
   "cell_type": "code",
   "execution_count": null,
   "metadata": {},
   "outputs": [],
   "source": [
    "# https://www.pyimagesearch.com/2017/06/19/image-difference-with-opencv-and-python/"
   ]
  },
  {
   "cell_type": "code",
   "execution_count": null,
   "metadata": {},
   "outputs": [],
   "source": [
    "def rgb2gray(rgb):\n",
    "    return np.dot(rgb[...,:3], [0.299, 0.587, 0.114])"
   ]
  },
  {
   "cell_type": "code",
   "execution_count": null,
   "metadata": {},
   "outputs": [],
   "source": [
    "left_path = '/root/data/aquabyte-images/erko-rotoy/2018-08-30/1/left_1535634313428_2_1.jpg'\n",
    "right_path = '/root/data/aquabyte-images/erko-rotoy/2018-08-30/1/right_1535634313428_2_1.jpg'"
   ]
  },
  {
   "cell_type": "code",
   "execution_count": null,
   "metadata": {},
   "outputs": [],
   "source": [
    "f, ax = plt.subplots(1, 2, figsize=(20, 10))\n",
    "ax[0].imshow(Image.open(left_path))\n",
    "ax[1].imshow(Image.open(right_path))\n",
    "plt.show()"
   ]
  },
  {
   "cell_type": "code",
   "execution_count": null,
   "metadata": {},
   "outputs": [],
   "source": [
    "left_fish = np.array(Image.open(left_path))[1280: 1800, 0:2000]\n",
    "plt.figure()\n",
    "plt.imshow(left_fish)\n",
    "plt.show()"
   ]
  },
  {
   "cell_type": "code",
   "execution_count": null,
   "metadata": {},
   "outputs": [],
   "source": [
    "right_band = np.array(Image.open(right_path))[1280: 1800, ...]\n",
    "plt.figure(figsize=(20, 10))\n",
    "plt.imshow(right_band)\n",
    "plt.show()"
   ]
  },
  {
   "cell_type": "markdown",
   "metadata": {},
   "source": [
    "# slide and calculate"
   ]
  },
  {
   "cell_type": "code",
   "execution_count": null,
   "metadata": {},
   "outputs": [],
   "source": [
    "_, band_width, _ = right_band.shape\n",
    "_, fish_width, _ = left_fish.shape"
   ]
  },
  {
   "cell_type": "code",
   "execution_count": null,
   "metadata": {},
   "outputs": [],
   "source": [
    "gray_left_fish = np.array(Image.open(left_path).convert('L'))[1280: 1800, 0:2000]\n",
    "gray_right_band = np.array(Image.open(right_path).convert('L'))[1280: 1800, ...]"
   ]
  },
  {
   "cell_type": "code",
   "execution_count": null,
   "metadata": {},
   "outputs": [],
   "source": [
    "plt.imshow(gray_left_fish, cmap='gray')\n",
    "plt.show()"
   ]
  },
  {
   "cell_type": "code",
   "execution_count": null,
   "metadata": {},
   "outputs": [],
   "source": [
    "plt.imshow(gray_right_band, cmap='gray')\n",
    "plt.show()"
   ]
  },
  {
   "cell_type": "code",
   "execution_count": null,
   "metadata": {},
   "outputs": [],
   "source": [
    "stride = 20\n",
    "alpha = 0.85"
   ]
  },
  {
   "cell_type": "code",
   "execution_count": null,
   "metadata": {},
   "outputs": [],
   "source": [
    "ssims = []\n",
    "modified_ssims = []\n",
    "max_score = 0\n",
    "good_shift = 0\n",
    "good_diff = None\n",
    "# for x in range(0, band_width - fish_width, stride):\n",
    "for x in range(200, 400, stride):\n",
    "    band_cut = gray_right_band[:, x:x+fish_width]\n",
    "    score, diff = compare_ssim(gray_left_fish, band_cut, win_size=5, full=True)\n",
    "    \n",
    "    print(x)\n",
    "    plt.imshow(diff, cmap='gray')\n",
    "    plt.show()\n",
    "    \n",
    "    modified_score = alpha * (1 - score) / 2.0 + (1 - alpha)*np.sum(np.abs(gray_left_fish - band_cut))\n",
    "    if modified_score > max_score:\n",
    "        max_score = modified_score\n",
    "        good_shift = x\n",
    "        good_diff = diff\n",
    "#         f, ax = plt.subplots(1, 2)\n",
    "#         ax[0].imshow(gray_left_fish, cmap='gray')\n",
    "#         ax[1].imshow(band_cut, cmap='gray')\n",
    "#         plt.show()\n",
    "    # diff = (diff * 255).astype(\"uint8\")\n",
    "    ssims.append(score)\n",
    "    modified_ssims.append(modified_score)\n",
    "#     print(\"shift: {}. SSIM: {}\".format(x, score))"
   ]
  },
  {
   "cell_type": "code",
   "execution_count": null,
   "metadata": {},
   "outputs": [],
   "source": [
    "plt.imshow(good_diff, cmap='gray')\n",
    "plt.show()"
   ]
  },
  {
   "cell_type": "code",
   "execution_count": null,
   "metadata": {},
   "outputs": [],
   "source": [
    "# plt.plot(range(0, band_width - fish_width, stride), ssims)\n",
    "plt.plot(range(0, band_width - fish_width, stride), modified_ssims)\n",
    "plt.grid()\n",
    "plt.xticks(range(0, band_width - fish_width, stride*10))\n",
    "plt.show()"
   ]
  },
  {
   "cell_type": "code",
   "execution_count": null,
   "metadata": {},
   "outputs": [],
   "source": [
    "f, ax = plt.subplots(1, 2, figsize = (20, 10))\n",
    "ax[0].imshow(gray_left_fish, cmap='gray')\n",
    "ax[0].axis('off')\n",
    "ax[0].set_title('left fish')\n",
    "ax[1].imshow(gray_right_band[:, good_shift:good_shift+fish_width], cmap='gray')\n",
    "ax[1].axis('off')\n",
    "ax[1].set_title('matching right fish')\n",
    "plt.show()"
   ]
  },
  {
   "cell_type": "code",
   "execution_count": null,
   "metadata": {},
   "outputs": [],
   "source": [
    "good_shift"
   ]
  }
 ],
 "metadata": {
  "kernelspec": {
   "display_name": "Python 3",
   "language": "python",
   "name": "python3"
  },
  "language_info": {
   "codemirror_mode": {
    "name": "ipython",
    "version": 3
   },
   "file_extension": ".py",
   "mimetype": "text/x-python",
   "name": "python",
   "nbconvert_exporter": "python",
   "pygments_lexer": "ipython3",
   "version": "3.5.2"
  }
 },
 "nbformat": 4,
 "nbformat_minor": 2
}
