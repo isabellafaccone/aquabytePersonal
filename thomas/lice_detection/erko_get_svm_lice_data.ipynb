{
 "cells": [
  {
   "cell_type": "code",
   "execution_count": null,
   "metadata": {},
   "outputs": [],
   "source": [
    "import os\n",
    "import csv\n",
    "import json\n",
    "import numpy as np\n",
    "from PIL import Image\n",
    "# import lib.utils as utils\n",
    "# import lib.features as features"
   ]
  },
  {
   "cell_type": "markdown",
   "metadata": {},
   "source": [
    "## Get annotations"
   ]
  },
  {
   "cell_type": "code",
   "execution_count": null,
   "metadata": {},
   "outputs": [],
   "source": [
    "annotations = json.load(open('/root/data/lice/lice_erko/lice_annotations_0905.json'))\n",
    "print(\"{} annotations found\".format(len(annotations)))"
   ]
  },
  {
   "cell_type": "code",
   "execution_count": null,
   "metadata": {},
   "outputs": [],
   "source": [
    "annotations_lice = [a for a in annotations if 'Lice' in a['Label']]\n",
    "print(\"{} annotations with lice found\".format(len(annotations_lice)))"
   ]
  },
  {
   "cell_type": "code",
   "execution_count": null,
   "metadata": {},
   "outputs": [],
   "source": [
    "annotations = []\n",
    "for al in annotations_lice:\n",
    "    image_path = os.path.join('/root/data/lice/lice_erko/', al['Labeled Data'].split('%2F')[-1].split('?')[0])\n",
    "    im = Image.open(image_path)\n",
    "    # print(image_path)\n",
    "    fish_width, fish_height = im.size\n",
    "    \n",
    "    for label in al['Label']['Lice']:\n",
    "        xmin = min([k['x'] for k in label])\n",
    "        xmax = max([k['x'] for k in label])\n",
    "    \n",
    "        ymin = min([k['y'] for k in label])\n",
    "        ymax = max([k['y'] for k in label])\n",
    "        \n",
    "        ymin2 = fish_height-ymax\n",
    "        ymax2 = fish_height-ymin\n",
    "        \n",
    "        annotations.append([image_path, xmin, ymin2, xmax, ymax2, 1])\n"
   ]
  },
  {
   "cell_type": "code",
   "execution_count": null,
   "metadata": {},
   "outputs": [],
   "source": [
    "num_annotations = len(annotations)\n",
    "print('Total number of lice: {}'.format(num_annotations))"
   ]
  },
  {
   "cell_type": "markdown",
   "metadata": {},
   "source": [
    "## Check annotations"
   ]
  },
  {
   "cell_type": "code",
   "execution_count": null,
   "metadata": {},
   "outputs": [],
   "source": [
    "import matplotlib.patches as patches\n",
    "import matplotlib.pyplot as plt"
   ]
  },
  {
   "cell_type": "code",
   "execution_count": null,
   "metadata": {},
   "outputs": [],
   "source": [
    "random_lice = annotations[np.random.randint(len(annotations))]\n",
    "f, ax = plt.subplots(1)\n",
    "ax.imshow(Image.open(random_lice[0]))\n",
    "width = random_lice[3] - random_lice[1]\n",
    "height = random_lice[4] - random_lice[2]\n",
    "rec = patches.Rectangle((random_lice[1], random_lice[2]), width, height, edgecolor='r', linewidth=2, facecolor='none')\n",
    "ax.add_patch(rec)"
   ]
  },
  {
   "cell_type": "markdown",
   "metadata": {},
   "source": [
    "# Create non lice data"
   ]
  },
  {
   "cell_type": "code",
   "execution_count": null,
   "metadata": {},
   "outputs": [],
   "source": [
    "from scipy.stats import lognorm"
   ]
  },
  {
   "cell_type": "code",
   "execution_count": null,
   "metadata": {},
   "outputs": [],
   "source": [
    "# let's create the same number of points and see\n",
    "heights = []\n",
    "widths = []\n",
    "for an in annotations:\n",
    "    width = an[3] - an[1]\n",
    "    height = an[4] - an[2]\n",
    "    heights.append(height)\n",
    "    widths.append(width)\n",
    "    \n",
    "mean_width = np.mean(widths)\n",
    "mean_height = np.mean(heights)\n",
    "\n",
    "std_width = np.std(widths)\n",
    "std_height = np.std(heights)\n",
    "\n",
    "print('Mean width: {}'.format(mean_width))\n",
    "print('Mean height: {}'.format(mean_height)) "
   ]
  },
  {
   "cell_type": "code",
   "execution_count": null,
   "metadata": {},
   "outputs": [],
   "source": [
    "# create random non lice data\n",
    "annotations_with_negatives = []\n",
    "\n",
    "for an in annotations:\n",
    "    im = Image.open(an[0])\n",
    "    fish_width, fish_height = im.size\n",
    "\n",
    "    random_height = np.random.choice(heights)\n",
    "    random_width = np.random.choice(widths)\n",
    "    rx = np.random.randint(0, fish_height - int(random_height) -1 )\n",
    "    ry = np.random.randint(0, fish_width - int(random_width) -1 )\n",
    "\n",
    "    annotations_with_negatives.append(an)\n",
    "    annotations_with_negatives.append([an[0], rx, ry, rx+random_height, ry+random_width, 0])"
   ]
  },
  {
   "cell_type": "code",
   "execution_count": null,
   "metadata": {},
   "outputs": [],
   "source": [
    "num_annotations = len(annotations_with_negatives)\n",
    "print('Total number of data points: {}'.format(num_annotations))"
   ]
  },
  {
   "cell_type": "markdown",
   "metadata": {},
   "source": [
    "# Create orb descriptors"
   ]
  },
  {
   "cell_type": "code",
   "execution_count": null,
   "metadata": {},
   "outputs": [],
   "source": [
    "from lib import features as features"
   ]
  },
  {
   "cell_type": "code",
   "execution_count": null,
   "metadata": {},
   "outputs": [],
   "source": [
    "num_annotations = len(annotations_with_negatives)\n",
    "\n",
    "chunk_size = 50\n",
    "num_chunks = num_annotations / chunk_size\n",
    "\n",
    "half_patch_size = 24"
   ]
  },
  {
   "cell_type": "code",
   "execution_count": null,
   "metadata": {},
   "outputs": [],
   "source": [
    "print 'Processing %i annotations' % (num_annotations, )\n",
    "\n",
    "for chunk_index in range(0, num_chunks + 1):\n",
    "    start_annotation_index = chunk_index * chunk_size\n",
    "    end_annotation_index = (chunk_index + 1) * chunk_size\n",
    "    if end_annotation_index > num_annotations:\n",
    "        end_annotation_index = num_annotations\n",
    "\n",
    "    annotations_subset = annotations[start_annotation_index : end_annotation_index]\n",
    "      \n",
    "    feature_output = features.get_sealice_orb_descriptors(annotations_subset, half_patch_size, num_annotations)\n",
    "    \n",
    "    all_frames_lice_ORB_descr = feature_output['all_frames_lice_ORB_descr']\n",
    "    all_frames_nonlice_ORB_descr = feature_output['all_frames_nonlice_ORB_descr']\n",
    "\n",
    "    '''\n",
    "    all_frames_lice_kps = [item for sublist in all_frames_lice_kps for item in sublist]\n",
    "    all_frames_nonlice_kps = [item for sublist in all_frames_nonlice_kps for item in sublist]\n",
    "    all_frames_lice_rgb_patches = [item for sublist in all_frames_lice_rgb_patches for item in sublist]\n",
    "    all_frames_nonlice_rgb_patches = [item for sublist in all_frames_nonlice_rgb_patches for item in sublist]\n",
    "    all_frames_lice_rotated_rgb_patches = [item for sublist in all_frames_lice_rotated_rgb_patches for item in sublist]\n",
    "    all_frames_nonlice_rotated_rgb_patches = [item for sublist in all_frames_nonlice_rotated_rgb_patches for item in sublist]\n",
    "    all_frames_lice_gray_patches = [item for sublist in all_frames_lice_gray_patches for item in sublist]\n",
    "    all_frames_nonlice_gray_patches = [item for sublist in all_frames_nonlice_gray_patches for item in sublist]\n",
    "    all_frames_lice_rotated_gray_patches = [item for sublist in all_frames_lice_rotated_gray_patches for item in sublist]\n",
    "    all_frames_nonlice_rotated_gray_patches = [item for sublist in all_frames_nonlice_rotated_gray_patches for item in sublist]\n",
    "    '''\n",
    "\n",
    "    #all_frames_lice_ORB_descr = [ orb_list if orb_list is not None for orb_list in all_frames_lice_ORB_descr ]\n",
    "    all_frames_lice_ORB_descr = [ orb for orb_list in all_frames_lice_ORB_descr for orb in orb_list ]\n",
    "    #all_frames_nonlice_ORB_descr = [ orb_list if orb_list is not None for orb_list in all_frames_nonlice_ORB_descr ]\n",
    "    all_frames_nonlice_ORB_descr = [ orb for orb_list in all_frames_nonlice_ORB_descr for orb in orb_list ]\n",
    "\n",
    "    print 'Got %i sealice descriptors, %i non sealice descriptors' % (len(all_frames_lice_ORB_descr), len(all_frames_nonlice_ORB_descr))\n",
    "    \n",
    "    '''\n",
    "    np.save(filename_+'_chunk_'+str(i)+'_startFrame_'+str(start_frame)+'_to_endFrame_'+str(end_frame)+'_lice_kps', all_frames_lice_kps)\n",
    "    np.save(filename_+'_chunk_'+str(i)+'_startFrame_'+str(start_frame)+'_to_endFrame_'+str(end_frame)+'_nonlice_kps', all_frames_nonlice_kps)\n",
    "    np.save(filename_+'_chunk_'+str(i)+'_startFrame_'+str(start_frame)+'_to_endFrame_'+str(end_frame)+'_lice_rgb_patches', all_frames_lice_rgb_patches)\n",
    "    np.save(filename_+'_chunk_'+str(i)+'_startFrame_'+str(start_frame)+'_to_endFrame_'+str(end_frame)+'_nonlice_rgb_patches', all_frames_nonlice_rgb_patches)\n",
    "    np.save(filename_+'_chunk_'+str(i)+'_startFrame_'+str(start_frame)+'_to_endFrame_'+str(end_frame)+'_lice_rotated_rgb_patches', all_frames_lice_rotated_rgb_patches)\n",
    "    np.save(filename_+'_chunk_'+str(i)+'_startFrame_'+str(start_frame)+'_to_endFrame_'+str(end_frame)+'_nonlice_rotated_rgb_patches', all_frames_nonlice_rotated_rgb_patches)\n",
    "    np.save(filename_+'_chunk_'+str(i)+'_startFrame_'+str(start_frame)+'_to_endFrame_'+str(end_frame)+'_lice_gray_patches', all_frames_lice_gray_patches)\n",
    "    np.save(filename_+'_chunk_'+str(i)+'_startFrame_'+str(start_frame)+'_to_endFrame_'+str(end_frame)+'_nonlice_gray_patches', all_frames_nonlice_gray_patches)\n",
    "    np.save(filename_+'_chunk_'+str(i)+'_startFrame_'+str(start_frame)+'_to_endFrame_'+str(end_frame)+'_lice_rotated_gray_patches', all_frames_lice_rotated_gray_patches)\n",
    "    np.save(filename_+'_chunk_'+str(i)+'_startFrame_'+str(start_frame)+'_to_endFrame_'+str(end_frame)+'_nonlice_rotated_gray_patches', all_frames_nonlice_rotated_gray_patches)\n",
    "    '''\n",
    "\n",
    "    lice_ORB_descr_out_file = '%s/chunk_%i_lice_ORB_descr' % (output_directory, chunk_index)\n",
    "    # nonlice_ORB_descr_out_file = '%s/chunk_%i_nonlice_ORB_descr' % (output_directory, chunk_index)\n",
    "\n",
    "    np.save(lice_ORB_descr_out_file, all_frames_lice_ORB_descr)\n",
    "    # np.save(nonlice_ORB_descr_out_file, all_frames_nonlice_ORB_descr)\n",
    "    \n",
    "print 'Finished processing all annotations'"
   ]
  },
  {
   "cell_type": "code",
   "execution_count": null,
   "metadata": {},
   "outputs": [],
   "source": []
  },
  {
   "cell_type": "code",
   "execution_count": null,
   "metadata": {},
   "outputs": [],
   "source": []
  },
  {
   "cell_type": "code",
   "execution_count": null,
   "metadata": {},
   "outputs": [],
   "source": []
  },
  {
   "cell_type": "code",
   "execution_count": null,
   "metadata": {},
   "outputs": [],
   "source": []
  },
  {
   "cell_type": "code",
   "execution_count": null,
   "metadata": {},
   "outputs": [],
   "source": []
  },
  {
   "cell_type": "code",
   "execution_count": null,
   "metadata": {},
   "outputs": [],
   "source": []
  },
  {
   "cell_type": "code",
   "execution_count": null,
   "metadata": {},
   "outputs": [],
   "source": []
  },
  {
   "cell_type": "code",
   "execution_count": null,
   "metadata": {},
   "outputs": [],
   "source": []
  },
  {
   "cell_type": "code",
   "execution_count": null,
   "metadata": {},
   "outputs": [],
   "source": [
    "annotations_file = '/root/data/lice/lice_data_imenco_videos/annotations.csv'\n",
    "\n",
    "annotations = utils.get_lice_annotations_from_file(annotations_file)\n",
    "num_annotations = len(annotations)\n",
    "\n",
    "chunk_size = 50\n",
    "num_chunks = num_annotations / chunk_size\n",
    "\n",
    "half_patch_size = 24\n",
    "\n",
    "output_directory = '/root/bryton/aquabyte_sealice/orb_output'\n",
    "\n",
    "try: \n",
    "    os.makedirs(output_directory)\n",
    "except OSError:\n",
    "    if not os.path.isdir(output_directory):\n",
    "        raise"
   ]
  },
  {
   "cell_type": "code",
   "execution_count": null,
   "metadata": {},
   "outputs": [],
   "source": [
    "annotations_lice[0]"
   ]
  },
  {
   "cell_type": "code",
   "execution_count": null,
   "metadata": {},
   "outputs": [],
   "source": []
  }
 ],
 "metadata": {
  "kernelspec": {
   "display_name": "Python 2",
   "language": "python",
   "name": "python2"
  },
  "language_info": {
   "codemirror_mode": {
    "name": "ipython",
    "version": 2
   },
   "file_extension": ".py",
   "mimetype": "text/x-python",
   "name": "python",
   "nbconvert_exporter": "python",
   "pygments_lexer": "ipython2",
   "version": "2.7.12"
  }
 },
 "nbformat": 4,
 "nbformat_minor": 2
}
