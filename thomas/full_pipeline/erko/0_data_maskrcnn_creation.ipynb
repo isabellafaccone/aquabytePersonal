{
 "cells": [
  {
   "cell_type": "code",
   "execution_count": 1,
   "metadata": {},
   "outputs": [],
   "source": [
    "import os \n",
    "import glob\n",
    "from skimage.measure import label\n",
    "import matplotlib.pyplot as plt\n",
    "import numpy as np\n",
    "from PIL import Image\n",
    "import matplotlib.cm as cm"
   ]
  },
  {
   "cell_type": "code",
   "execution_count": 2,
   "metadata": {},
   "outputs": [
    {
     "name": "stdout",
     "output_type": "stream",
     "text": [
      "['/root/data/aquabyte-images/erko/raw/2018-08-24', '/root/data/aquabyte-images/erko/raw/2018-08-28', '/root/data/aquabyte-images/erko/raw/2018-08-25', '/root/data/aquabyte-images/erko/raw/old', '/root/data/aquabyte-images/erko/raw/2018-08-20', '/root/data/aquabyte-images/erko/raw/2018-08-21', '/root/data/aquabyte-images/erko/raw/2018-08-23', '/root/data/aquabyte-images/erko/raw/2018-08-22', '/root/data/aquabyte-images/erko/raw/2018-08-29']\n"
     ]
    }
   ],
   "source": [
    "# list all the folders\n",
    "dates = glob.glob('/root/data/aquabyte-images/erko/raw/*')\n",
    "print(dates)"
   ]
  },
  {
   "cell_type": "code",
   "execution_count": null,
   "metadata": {
    "scrolled": true
   },
   "outputs": [
    {
     "name": "stdout",
     "output_type": "stream",
     "text": [
      "/root/data/aquabyte-images/erko/raw/2018-08-24\n",
      "375\n",
      "##################################################\n",
      "/root/data/aquabyte-images/erko/raw/2018-08-28\n",
      "445\n",
      "##################################################\n",
      "/root/data/aquabyte-images/erko/raw/2018-08-25\n",
      "402\n"
     ]
    }
   ],
   "source": [
    "for date in dates:\n",
    "    print(date)\n",
    "    masks = glob.glob(date + '/*.semantic.png') + glob.glob(date + '/*.semantic.jpg')\n",
    "    print(len(masks))\n",
    "    time = os.path.basename(date)\n",
    "    base_folder = os.path.join('/root/data/aquabyte-images/erko/instances/', time)\n",
    "    if not os.path.isdir(base_folder):\n",
    "        os.makedirs(base_folder)\n",
    "    for mask_path in masks:\n",
    "        mask_img = np.array(Image.open(mask_path))# .resize((input_shape[0], input_shape[1])))\n",
    "        red, green, blue = mask_img[:,:,0], mask_img[:,:,1], mask_img[:,:,2]\n",
    "        if mask_path.endswith('png'):\n",
    "            pink_mask = (red == 255) & (green == 105) & (blue == 180)\n",
    "        elif mask_path.endswith('jpg'):\n",
    "            pink_mask = (red == 255) & (green == 105) & (blue == 179)\n",
    "        labels = label(pink_mask)\n",
    "        index = 0\n",
    "        for lab in np.unique(labels):\n",
    "            if lab == 0:\n",
    "                continue\n",
    "            tmp = labels == lab\n",
    "            if np.count_nonzero(tmp) < 1e4:\n",
    "                continue\n",
    "            instance_path = os.path.join(base_folder, os.path.basename(mask_path).replace('semantic', str(index)))\n",
    "            index += 1\n",
    "#             plt.imshow(tmp)\n",
    "#             plt.show()\n",
    "            plt.imsave(instance_path, tmp, cmap=cm.gray)\n",
    "    print('#'*50)"
   ]
  },
  {
   "cell_type": "code",
   "execution_count": null,
   "metadata": {},
   "outputs": [],
   "source": []
  }
 ],
 "metadata": {
  "kernelspec": {
   "display_name": "Python 2",
   "language": "python",
   "name": "python2"
  },
  "language_info": {
   "codemirror_mode": {
    "name": "ipython",
    "version": 2
   },
   "file_extension": ".py",
   "mimetype": "text/x-python",
   "name": "python",
   "nbconvert_exporter": "python",
   "pygments_lexer": "ipython2",
   "version": "2.7.12"
  }
 },
 "nbformat": 4,
 "nbformat_minor": 2
}
