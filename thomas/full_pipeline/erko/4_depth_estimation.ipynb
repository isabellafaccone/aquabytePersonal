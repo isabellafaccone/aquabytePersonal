{
 "cells": [
  {
   "cell_type": "markdown",
   "metadata": {},
   "source": [
    "# TAKE ONE RANDOM PAIR"
   ]
  },
  {
   "cell_type": "code",
   "execution_count": null,
   "metadata": {},
   "outputs": [],
   "source": [
    "import numpy as np\n",
    "import matplotlib.pyplot as plt\n",
    "from PIL import Image\n",
    "import glob\n",
    "import matplotlib.patches as patches"
   ]
  },
  {
   "cell_type": "code",
   "execution_count": null,
   "metadata": {},
   "outputs": [],
   "source": [
    "l = '/root/data/erko/single_pair/left_1533225206668.png'\n",
    "r = '/root/data/erko/single_pair/right_1533225206668.png'"
   ]
  },
  {
   "cell_type": "code",
   "execution_count": null,
   "metadata": {},
   "outputs": [],
   "source": [
    "f, ax = plt.subplots(1, 2, figsize=(20, 10))\n",
    "ax[0].imshow(Image.open(l))\n",
    "ax[1].imshow(Image.open(r))\n",
    "plt.show()"
   ]
  },
  {
   "cell_type": "code",
   "execution_count": null,
   "metadata": {},
   "outputs": [],
   "source": [
    "plt.imshow(np.array(Image.open(l))[0:700, 0:1500])\n",
    "plt.show()"
   ]
  },
  {
   "cell_type": "code",
   "execution_count": null,
   "metadata": {},
   "outputs": [],
   "source": [
    "plt.imshow(np.array(Image.open(r))[0:700, 0:1500])\n",
    "plt.show()"
   ]
  },
  {
   "cell_type": "code",
   "execution_count": null,
   "metadata": {},
   "outputs": [],
   "source": [
    "plt.imshow(np.array(Image.open(l))[820:1250, 1000:2700])\n",
    "plt.show()"
   ]
  },
  {
   "cell_type": "code",
   "execution_count": null,
   "metadata": {},
   "outputs": [],
   "source": [
    "plt.imshow(np.array(Image.open(r))[820:1250, 1000:2700])\n",
    "plt.show()"
   ]
  },
  {
   "cell_type": "code",
   "execution_count": null,
   "metadata": {},
   "outputs": [],
   "source": [
    "left_corners = np.array([[820, 1000], [1250, 1000], [1250, 2700], [820, 2700]])"
   ]
  },
  {
   "cell_type": "code",
   "execution_count": null,
   "metadata": {},
   "outputs": [],
   "source": [
    "plt.imshow(np.array(Image.open(r))[880:1310, 1300:3000])\n",
    "plt.show()"
   ]
  },
  {
   "cell_type": "code",
   "execution_count": null,
   "metadata": {},
   "outputs": [],
   "source": [
    "right_corners = np.array([[880, 1300], [1310, 1300], [1310, 3000], [880, 3000]])"
   ]
  },
  {
   "cell_type": "code",
   "execution_count": null,
   "metadata": {},
   "outputs": [],
   "source": [
    "left_corners"
   ]
  },
  {
   "cell_type": "code",
   "execution_count": null,
   "metadata": {},
   "outputs": [],
   "source": [
    "right_corners"
   ]
  },
  {
   "cell_type": "code",
   "execution_count": null,
   "metadata": {},
   "outputs": [],
   "source": [
    "left_center = np.mean(left_corners[:, [1, 0]][:2], axis=0)\n",
    "right_center = np.mean(left_corners[:, [1, 0]][2:], axis=0)"
   ]
  },
  {
   "cell_type": "code",
   "execution_count": null,
   "metadata": {},
   "outputs": [],
   "source": [
    "np.stack((left_center, right_center))"
   ]
  },
  {
   "cell_type": "code",
   "execution_count": null,
   "metadata": {},
   "outputs": [],
   "source": [
    "# Create figure and axes\n",
    "fig,ax = plt.subplots(1, 2, figsize=(20, 10))\n",
    "ax[0].imshow(Image.open(l))\n",
    "rect = patches.Polygon(left_corners[:, [1, 0]], closed=True, linewidth=2,edgecolor='r',facecolor='none')\n",
    "ax[0].add_patch(rect)\n",
    "ax[0].add_patch(patches.Circle(left_center, radius=10, facecolor='b'))\n",
    "ax[0].add_patch(patches.Circle(right_center, radius=10, facecolor='b'))\n",
    "ax[0].plot((left_center[0], right_center[0]), (left_center[1], right_center[1]), color='b')\n",
    "\n",
    "ax[1].imshow(Image.open(r))\n",
    "rect = patches.Polygon(right_corners[:, [1, 0]], closed=True, linewidth=2,edgecolor='r',facecolor='none')\n",
    "ax[1].add_patch(rect)\n",
    "plt.show()"
   ]
  },
  {
   "cell_type": "code",
   "execution_count": null,
   "metadata": {},
   "outputs": [],
   "source": [
    "Image.open(l).size"
   ]
  },
  {
   "cell_type": "code",
   "execution_count": null,
   "metadata": {},
   "outputs": [],
   "source": [
    "# estimate diparity\n",
    "disp = 10\n",
    "# fig,ax = plt.subplots(2, 1, figsize=(20, 10))\n",
    "shifted = np.zeros((3000, 4096, 3))\n",
    "shifted[:, disp:, :] = np.array(Image.open(l).convert('RGB'))[:, :-disp,:]\n",
    "plt.imshow(shifted[820:1250, 1000:2700])\n",
    "\n",
    "plt.imshow(np.array(Image.open(r))[880:1310, 1300:3000], alpha = 0.5)"
   ]
  },
  {
   "cell_type": "code",
   "execution_count": null,
   "metadata": {},
   "outputs": [],
   "source": [
    "from PIL import Image, ImageDraw"
   ]
  },
  {
   "cell_type": "code",
   "execution_count": null,
   "metadata": {},
   "outputs": [],
   "source": [
    "img = Image.new('L', (4096, 3000), 0)\n",
    "ImageDraw.Draw(img).polygon([tuple(t) for t in list(left_corners[:, [1, 0]])], outline=1, fill=1)\n",
    "mask = np.array(img)"
   ]
  },
  {
   "cell_type": "code",
   "execution_count": null,
   "metadata": {},
   "outputs": [],
   "source": [
    "plt.imshow(mask)\n",
    "plt.show()"
   ]
  },
  {
   "cell_type": "code",
   "execution_count": null,
   "metadata": {},
   "outputs": [],
   "source": [
    "# disparities\n",
    "disp = right_corners[:,1] - left_corners[:,1]\n",
    "print(disp)"
   ]
  },
  {
   "cell_type": "code",
   "execution_count": null,
   "metadata": {},
   "outputs": [],
   "source": [
    "# # calculate coordinates of central point\n",
    "# left_center_left = np.mean(left_corners[1:3], axis=0)\n",
    "# left_center_right = np.mean([left_corners[0], left_corners[-1]], axis=0)\n",
    "# right_center_left = np.mean(right_corners[1:3], axis=0)\n",
    "# right_center_right = np.mean([right_corners[0], right_corners[-1]], axis=0)"
   ]
  },
  {
   "cell_type": "code",
   "execution_count": null,
   "metadata": {},
   "outputs": [],
   "source": [
    "# # disparities\n",
    "# left_center_disp= (right_center_left - left_center_left)[1]\n",
    "# right_center_disp= (right_center_right - left_center_right)[1]"
   ]
  },
  {
   "cell_type": "code",
   "execution_count": null,
   "metadata": {},
   "outputs": [],
   "source": [
    "# plt.plot([left_center_left[1], left_center_right[1]], [left_center_disp, right_center_disp])\n",
    "# plt.show()"
   ]
  },
  {
   "cell_type": "code",
   "execution_count": null,
   "metadata": {},
   "outputs": [],
   "source": [
    "from scipy.interpolate import interp2d"
   ]
  },
  {
   "cell_type": "code",
   "execution_count": null,
   "metadata": {},
   "outputs": [],
   "source": [
    "# interpolation 2d\n",
    "f = interp2d(left_corners[:,1], left_corners[:,0], disp)"
   ]
  },
  {
   "cell_type": "code",
   "execution_count": null,
   "metadata": {},
   "outputs": [],
   "source": [
    "left_corners[:,0]"
   ]
  },
  {
   "cell_type": "code",
   "execution_count": null,
   "metadata": {},
   "outputs": [],
   "source": [
    "left_corners[:,1]"
   ]
  },
  {
   "cell_type": "code",
   "execution_count": null,
   "metadata": {},
   "outputs": [],
   "source": [
    "disp"
   ]
  },
  {
   "cell_type": "code",
   "execution_count": null,
   "metadata": {},
   "outputs": [],
   "source": [
    "ynew = np.arange(0, 3000, 1)\n",
    "xnew = np.arange(0, 4096, 1)\n",
    "znew = f(xnew, ynew)"
   ]
  },
  {
   "cell_type": "code",
   "execution_count": null,
   "metadata": {},
   "outputs": [],
   "source": [
    "left_corners"
   ]
  },
  {
   "cell_type": "code",
   "execution_count": null,
   "metadata": {},
   "outputs": [],
   "source": [
    "right_corners"
   ]
  },
  {
   "cell_type": "code",
   "execution_count": null,
   "metadata": {},
   "outputs": [],
   "source": [
    "plt.imshow(znew)\n",
    "plt.colorbar()\n",
    "plt.show()"
   ]
  },
  {
   "cell_type": "code",
   "execution_count": null,
   "metadata": {},
   "outputs": [],
   "source": [
    "plt.imshow(np.array(Image.open(l)))\n",
    "plt.imshow(znew*mask, alpha=0.7)\n",
    "plt.colorbar()\n",
    "plt.show()\n"
   ]
  },
  {
   "cell_type": "markdown",
   "metadata": {},
   "source": [
    "# CONVERT TO DEPTH"
   ]
  },
  {
   "cell_type": "code",
   "execution_count": null,
   "metadata": {},
   "outputs": [],
   "source": [
    "disparities = znew*mask"
   ]
  },
  {
   "cell_type": "code",
   "execution_count": null,
   "metadata": {},
   "outputs": [],
   "source": [
    "# # meters\n",
    "# focal_length = 10.0*1e-3\n",
    "# baseline = 0.065\n",
    "# image_sensor_width = 32.0*1e-3\n",
    "# image_sensor_height = 18.0*1e-3\n",
    "# pixel_size = image_sensor_width / 1280\n",
    "# print(pixel_size)"
   ]
  },
  {
   "cell_type": "code",
   "execution_count": null,
   "metadata": {},
   "outputs": [],
   "source": [
    "focal_length = 0.0107\n",
    "baseline = 0.135\n",
    "pixel_size_m = 3.45 * 1e-6 \n",
    "focal_length_pixel = focal_length / pixel_size_m"
   ]
  },
  {
   "cell_type": "code",
   "execution_count": null,
   "metadata": {},
   "outputs": [],
   "source": [
    "depth = focal_length_pixel*baseline / disparities"
   ]
  },
  {
   "cell_type": "code",
   "execution_count": null,
   "metadata": {},
   "outputs": [],
   "source": [
    "depth"
   ]
  },
  {
   "cell_type": "code",
   "execution_count": null,
   "metadata": {},
   "outputs": [],
   "source": [
    "plt.imshow(depth)\n",
    "plt.colorbar()\n",
    "plt.show()"
   ]
  },
  {
   "cell_type": "code",
   "execution_count": null,
   "metadata": {},
   "outputs": [],
   "source": [
    "depth[2000, 2000]"
   ]
  },
  {
   "cell_type": "code",
   "execution_count": null,
   "metadata": {},
   "outputs": [],
   "source": [
    "image_sensor_width = 0.01412\n",
    "image_sensor_height = 0.01412"
   ]
  },
  {
   "cell_type": "code",
   "execution_count": null,
   "metadata": {},
   "outputs": [],
   "source": [
    "def convert_to_world_point(x, y, depth_map):\n",
    "    image_center_x = depth_map.shape[1] / 2.0\n",
    "    image_center_y = depth_map.shape[0] / 2.0\n",
    "    px_x = x - image_center_x\n",
    "    px_z = image_center_y - y\n",
    "\n",
    "    sensor_x = px_x * (image_sensor_width / depth_map.shape[1])\n",
    "    sensor_z = px_z * (image_sensor_height / depth_map.shape[0])\n",
    "    \n",
    "    d = depth_map[y, x]\n",
    "    world_y = d\n",
    "    world_x = (world_y * sensor_x) / focal_length\n",
    "    world_z = (world_y * sensor_z) / focal_length\n",
    "#     return world_y\n",
    "    return (world_x, world_y, world_z)"
   ]
  },
  {
   "cell_type": "code",
   "execution_count": null,
   "metadata": {},
   "outputs": [],
   "source": [
    "left_center"
   ]
  },
  {
   "cell_type": "code",
   "execution_count": null,
   "metadata": {},
   "outputs": [],
   "source": [
    "right_center"
   ]
  },
  {
   "cell_type": "code",
   "execution_count": null,
   "metadata": {},
   "outputs": [],
   "source": [
    "depth[1035, 1000]"
   ]
  },
  {
   "cell_type": "code",
   "execution_count": null,
   "metadata": {},
   "outputs": [],
   "source": [
    "depth[1035, 2000]"
   ]
  },
  {
   "cell_type": "code",
   "execution_count": null,
   "metadata": {},
   "outputs": [],
   "source": [
    "world_left = convert_to_world_point(1000, 1035, depth)"
   ]
  },
  {
   "cell_type": "code",
   "execution_count": null,
   "metadata": {},
   "outputs": [],
   "source": [
    "world_right = convert_to_world_point(2700, 1035, depth)"
   ]
  },
  {
   "cell_type": "code",
   "execution_count": null,
   "metadata": {},
   "outputs": [],
   "source": [
    "dist = np.linalg.norm(np.array(world_left) - np.array(world_right))"
   ]
  },
  {
   "cell_type": "code",
   "execution_count": null,
   "metadata": {},
   "outputs": [],
   "source": [
    "print(dist)"
   ]
  },
  {
   "cell_type": "code",
   "execution_count": null,
   "metadata": {},
   "outputs": [],
   "source": [
    "left_corners[:, [1, 0]]"
   ]
  },
  {
   "cell_type": "code",
   "execution_count": null,
   "metadata": {},
   "outputs": [],
   "source": [
    "fig,ax = plt.subplots(1, 1, figsize=(20, 10))\n",
    "ax.imshow(Image.open(l))\n",
    "rect = patches.Polygon(left_corners[:, [1, 0]], closed=True, linewidth=2,edgecolor='r',facecolor='none')\n",
    "ax.add_patch(rect)\n",
    "ax.add_patch(patches.Circle(left_center, radius=10, facecolor='b'))\n",
    "ax.add_patch(patches.Circle(right_center, radius=10, facecolor='b'))\n",
    "ax.plot((left_center[0], right_center[0]), (left_center[1], right_center[1]), color='b')\n",
    "ax.text(left_corners[:, [1, 0]][2,0], left_corners[:, [1, 0]][2,1]-10, str(dist)[:5] + 'm', color='b', size=15)\n",
    "plt.show()"
   ]
  },
  {
   "cell_type": "code",
   "execution_count": null,
   "metadata": {},
   "outputs": [],
   "source": []
  }
 ],
 "metadata": {
  "kernelspec": {
   "display_name": "Python 2",
   "language": "python",
   "name": "python2"
  },
  "language_info": {
   "codemirror_mode": {
    "name": "ipython",
    "version": 2
   },
   "file_extension": ".py",
   "mimetype": "text/x-python",
   "name": "python",
   "nbconvert_exporter": "python",
   "pygments_lexer": "ipython2",
   "version": "2.7.12"
  }
 },
 "nbformat": 4,
 "nbformat_minor": 2
}
