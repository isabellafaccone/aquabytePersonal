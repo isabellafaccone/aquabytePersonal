{
 "cells": [
  {
   "cell_type": "code",
   "execution_count": null,
   "metadata": {},
   "outputs": [],
   "source": [
    "import os \n",
    "import glob\n",
    "from skimage.measure import label\n",
    "import matplotlib.pyplot as plt"
   ]
  },
  {
   "cell_type": "code",
   "execution_count": null,
   "metadata": {},
   "outputs": [],
   "source": [
    "# list all the folders\n",
    "dates = glob.glob('/root/data/aquabyte-images/erko/raw/*')\n",
    "print(dates)"
   ]
  },
  {
   "cell_type": "code",
   "execution_count": null,
   "metadata": {},
   "outputs": [],
   "source": [
    "for date in dates:\n",
    "    print(date)\n",
    "    masks = glob.glob(date + '/*.semantic.png') + glob.glob(date + '/*.semantic.jpg')\n",
    "    print(len(masks))\n",
    "    time = os.path.basename(date)\n",
    "    base_folder = os.path.join('/root/data/aquabyte-images/erko/instances/', time)\n",
    "    if not os.path.isdir(base_folder):\n",
    "        os.makedirs(base_folder)\n",
    "    for mask_path in masks:\n",
    "        if mask_path.endswith('png'):\n",
    "            pink_mask = (red == 255) & (green == 105) & (blue == 180)\n",
    "        elif mask_path.endswith('jpg'):\n",
    "            pink_mask = (red == 255) & (green == 105) & (blue == 179)\n",
    "        labels = label(pink_mask)\n",
    "        for lab in np.unique(labels):\n",
    "            if lab == 0:\n",
    "                continue\n",
    "            tmp = labels == lab\n",
    "            plt.imshow(tmp)\n",
    "            plt.show()\n",
    "            break\n",
    "    break\n",
    "    \n",
    "    print('#'*50)"
   ]
  },
  {
   "cell_type": "code",
   "execution_count": null,
   "metadata": {},
   "outputs": [],
   "source": []
  },
  {
   "cell_type": "code",
   "execution_count": null,
   "metadata": {},
   "outputs": [],
   "source": []
  }
 ],
 "metadata": {
  "kernelspec": {
   "display_name": "Python 2",
   "language": "python",
   "name": "python2"
  },
  "language_info": {
   "codemirror_mode": {
    "name": "ipython",
    "version": 2
   },
   "file_extension": ".py",
   "mimetype": "text/x-python",
   "name": "python",
   "nbconvert_exporter": "python",
   "pygments_lexer": "ipython2",
   "version": "2.7.12"
  }
 },
 "nbformat": 4,
 "nbformat_minor": 2
}
