{
 "cells": [
  {
   "cell_type": "code",
   "execution_count": null,
   "metadata": {},
   "outputs": [],
   "source": [
    "import cv2\n",
    "import matplotlib.pyplot as plt\n",
    "import numpy as np\n",
    "from PIL import Image"
   ]
  },
  {
   "cell_type": "code",
   "execution_count": null,
   "metadata": {},
   "outputs": [],
   "source": [
    "min_disparity=0\n",
    "num_disp=160\n",
    "sad_window_size=3\n",
    "uniqueness=10\n",
    "speckle_window_size=15\n",
    "speckle_range=32\n",
    "p1=216\n",
    "p2=864\n",
    "max_disparity=1\n",
    "full_dp=False"
   ]
  },
  {
   "cell_type": "code",
   "execution_count": null,
   "metadata": {},
   "outputs": [],
   "source": [
    "block_matcher = cv2.StereoSGBM(minDisparity=min_disparity,\n",
    "                        numDisparities=num_disp,\n",
    "                        SADWindowSize=sad_window_size,\n",
    "                        uniquenessRatio=uniqueness,\n",
    "                        speckleWindowSize=speckle_window_size,\n",
    "                        speckleRange=speckle_range,\n",
    "                        disp12MaxDiff=max_disparity,\n",
    "                        P1=p1,\n",
    "                        P2=p2,\n",
    "                        fullDP=full_dp)"
   ]
  },
  {
   "cell_type": "code",
   "execution_count": null,
   "metadata": {},
   "outputs": [],
   "source": [
    "l = '/root/data/erko/single_pair/left_1533225206668.png'\n",
    "r = '/root/data/erko/single_pair/right_1533225206668.png'"
   ]
  },
  {
   "cell_type": "code",
   "execution_count": null,
   "metadata": {},
   "outputs": [],
   "source": [
    "f, ax = plt.subplots(1, 2, figsize=(20, 10))\n",
    "ax[0].imshow(np.array(Image.open(l))[820:1250, 1000:3000])\n",
    "ax[1].imshow(np.array(Image.open(r))[820:1250, 1000:3000])\n",
    "plt.show()"
   ]
  },
  {
   "cell_type": "code",
   "execution_count": null,
   "metadata": {},
   "outputs": [],
   "source": []
  }
 ],
 "metadata": {
  "kernelspec": {
   "display_name": "Python 2",
   "language": "python",
   "name": "python2"
  },
  "language_info": {
   "codemirror_mode": {
    "name": "ipython",
    "version": 2
   },
   "file_extension": ".py",
   "mimetype": "text/x-python",
   "name": "python",
   "nbconvert_exporter": "python",
   "pygments_lexer": "ipython2",
   "version": "2.7.12"
  }
 },
 "nbformat": 4,
 "nbformat_minor": 2
}
