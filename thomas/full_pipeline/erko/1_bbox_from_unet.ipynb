{
 "cells": [
  {
   "cell_type": "code",
   "execution_count": null,
   "metadata": {},
   "outputs": [],
   "source": [
    "weights_path = '/root/data/models/erko/segmentation/0905_balanced_oneclass_fg_46.h5'\n",
    "input_shape = (512, 512, 3)"
   ]
  },
  {
   "cell_type": "markdown",
   "metadata": {},
   "source": [
    "### #1 LOAD MODEL"
   ]
  },
  {
   "cell_type": "code",
   "execution_count": null,
   "metadata": {},
   "outputs": [],
   "source": [
    "import os\n",
    "\n",
    "import numpy as np\n",
    "from keras.optimizers import Adam\n",
    "from keras.callbacks import Callback, LearningRateScheduler\n",
    "from keras.callbacks import ReduceLROnPlateau, ModelCheckpoint\n",
    "from PIL import Image\n",
    "\n",
    "from unet import get_unet, jaccard_coef_int, jaccard_coef_loss\n",
    "\n",
    "import matplotlib.pyplot as plt"
   ]
  },
  {
   "cell_type": "code",
   "execution_count": null,
   "metadata": {},
   "outputs": [],
   "source": [
    "os.environ[\"CUDA_VISIBLE_DEVICES\"] = \"0\""
   ]
  },
  {
   "cell_type": "code",
   "execution_count": null,
   "metadata": {},
   "outputs": [],
   "source": [
    "model = get_unet(3, input_shape[0], input_shape[1], classes=1)\n",
    "model.load_weights(weights_path)"
   ]
  },
  {
   "cell_type": "markdown",
   "metadata": {},
   "source": [
    "### #2 LOAD DATA"
   ]
  },
  {
   "cell_type": "code",
   "execution_count": null,
   "metadata": {},
   "outputs": [],
   "source": [
    "import glob\n",
    "import cv2\n",
    "import numpy as np\n",
    "import random\n",
    "import math\n",
    "import json\n",
    "SEED = 448\n",
    "import matplotlib.pyplot as plt\n",
    "from imgaug import augmenters as iaa\n",
    "import shutil\n",
    "from collections import Counter"
   ]
  },
  {
   "cell_type": "code",
   "execution_count": null,
   "metadata": {},
   "outputs": [],
   "source": [
    "!pwd"
   ]
  },
  {
   "cell_type": "code",
   "execution_count": null,
   "metadata": {},
   "outputs": [],
   "source": [
    "images = json.load(open('/root/thomas/github/cv_research/thomas/full_pipeline/erko/balanced_images.json'))"
   ]
  },
  {
   "cell_type": "code",
   "execution_count": null,
   "metadata": {},
   "outputs": [],
   "source": [
    "random.seed(SEED)\n",
    "random.shuffle(images)\n",
    "cutoff = int(len(images)*0.8)\n",
    "train = images[:cutoff]\n",
    "val = images[cutoff:]"
   ]
  },
  {
   "cell_type": "code",
   "execution_count": null,
   "metadata": {},
   "outputs": [],
   "source": [
    "batch_size = 8\n",
    "steps_per_epoch = len(train) // batch_size\n",
    "steps_per_epoch_val = len(val) // batch_size"
   ]
  },
  {
   "cell_type": "code",
   "execution_count": null,
   "metadata": {},
   "outputs": [],
   "source": [
    "def flip_axis(x, axis):\n",
    "    x = np.asarray(x).swapaxes(axis, 0)\n",
    "    x = x[::-1, ...]\n",
    "    x = x.swapaxes(0, axis)\n",
    "    return x"
   ]
  },
  {
   "cell_type": "code",
   "execution_count": null,
   "metadata": {},
   "outputs": [],
   "source": [
    "def generator(images, steps_per_epoch, BATCH_SIZE, input_shape):\n",
    "    i = 0\n",
    "    seq = iaa.Sequential([iaa.Sometimes(0.7, iaa.GaussianBlur(sigma=(0, 2.0))),\n",
    "                  iaa.Sharpen(alpha=(0, 0.1), lightness=(0.7, 1.3)),\n",
    "                  iaa.ContrastNormalization((0.5, 1.2))],\n",
    "                 random_order=True)\n",
    "    img_size = input_shape[0]\n",
    "    while True:\n",
    "        x_batch = np.empty((BATCH_SIZE, input_shape[0], input_shape[1], input_shape[2]), dtype=np.uint8)\n",
    "        y_batch = np.empty((BATCH_SIZE, input_shape[0], input_shape[1], 1), dtype=np.uint8)\n",
    "        for (ind, j) in enumerate(range(i*BATCH_SIZE, (i+1)*BATCH_SIZE)):\n",
    "            # img_path = images[j]\n",
    "            # img_name = os.path.basename(img_path)\n",
    "            # mask_path = '/root/data/erko/labels/{}.semantic.png'.format(img_name)\n",
    "            mask_path = images[j]\n",
    "            img_path = mask_path.replace('.semantic.png', '')\n",
    "            img_path = img_path.replace('.semantic.jpg', '')\n",
    "            \n",
    "            xb = np.array(Image.open(img_path).resize((input_shape[0], input_shape[1])))\n",
    "                        \n",
    "            mask_img = np.array(Image.open(mask_path).resize((input_shape[0], input_shape[1])))\n",
    "            \n",
    "            mask0 = np.zeros((input_shape[0], input_shape[1]))\n",
    "            \n",
    "            red, green, blue = mask_img[:,:,0], mask_img[:,:,1], mask_img[:,:,2]\n",
    "            if mask_path.endswith('png'):\n",
    "                pink_mask = (red == 255) & (green == 105) & (blue == 180)\n",
    "            elif mask_path.endswith('jpg'):\n",
    "                pink_mask = (red == 255) & (green == 105) & (blue == 179)\n",
    "            \n",
    "            mask0[pink_mask] = 1\n",
    "            \n",
    "            y0 = mask0\n",
    "            \n",
    "            if np.random.random() > 0.5:\n",
    "                xb = flip_axis(xb, 1)\n",
    "                y0 = flip_axis(y0, 1)\n",
    "                \n",
    "            x_batch[ind,...] = xb\n",
    "            y_batch[ind,...,0] = y0\n",
    "            \n",
    "        x_batch = seq.augment_images(x_batch)\n",
    "        i += 1\n",
    "        if i >= steps_per_epoch:\n",
    "            i = 0\n",
    "        yield x_batch, y_batch"
   ]
  },
  {
   "cell_type": "code",
   "execution_count": null,
   "metadata": {},
   "outputs": [],
   "source": [
    "val_generator = generator(val, steps_per_epoch_val, batch_size, input_shape)"
   ]
  },
  {
   "cell_type": "markdown",
   "metadata": {},
   "source": [
    "### #3 Predictions"
   ]
  },
  {
   "cell_type": "code",
   "execution_count": null,
   "metadata": {},
   "outputs": [],
   "source": [
    "import scipy\n",
    "import cv2\n",
    "from skimage.measure import label\n",
    "from matplotlib.patches import Rectangle\n",
    "from skimage.feature import peak_local_max\n",
    "from skimage.morphology import watershed\n",
    "from scipy import ndimage"
   ]
  },
  {
   "cell_type": "code",
   "execution_count": null,
   "metadata": {},
   "outputs": [],
   "source": [
    "kernel = np.ones((3, 3))"
   ]
  },
  {
   "cell_type": "code",
   "execution_count": null,
   "metadata": {},
   "outputs": [],
   "source": [
    "ratio = []\n",
    "for _ in range(steps_per_epoch_val):\n",
    "    X, Y = next(val_generator)\n",
    "    Ypred = model.predict_on_batch(X)   \n",
    "    \n",
    "    for i in range(batch_size):\n",
    "        # ground truths\n",
    "        labels = label(cv2.erode(Y[i,...], kernel))\n",
    "        gt_count = len(np.unique(labels)) - 1\n",
    "        \n",
    "        mask = np.zeros((input_shape[0], input_shape[1]))\n",
    "        bboxes = []\n",
    "        eroded = cv2.erode(Ypred[i,...,0], kernel)\n",
    "        labels = label(eroded)\n",
    "        for lab in np.unique(labels):\n",
    "            if lab == 0:\n",
    "                continue\n",
    "            tmp = labels == lab\n",
    "            if np.count_nonzero(tmp) < 1000:\n",
    "                continue\n",
    "            mask += tmp\n",
    "            y, x = np.nonzero(tmp)\n",
    "            xmin, xmax = np.min(x), np.max(x)\n",
    "            ymin, ymax = np.min(y), np.max(y)\n",
    "            bboxes.append([xmin, ymin, xmax-xmin, ymax-ymin])\n",
    "            \n",
    "        f, ax = plt.subplots(1, 4, figsize=(20, 10))\n",
    "        ax[0].imshow(X[i,...])\n",
    "        ax[0].set_title('raw image')\n",
    "        ax[1].imshow(X[i,...])\n",
    "        ax[1].imshow(Y[i,...,0], alpha=0.3)\n",
    "        ax[1].set_title('ground truth: {} fish'.format(gt_count))\n",
    "        ax[2].imshow(X[i,...])\n",
    "        ax[2].imshow(Ypred[i,...,0], alpha=0.3)\n",
    "        ax[2].set_title('predictions')\n",
    "        ax[3].imshow(X[i,...])\n",
    "        ax[3].imshow(mask, alpha=0.3)\n",
    "        ax[3].set_title('pp predictions: {} fish'.format(len(bboxes)))\n",
    "        for bbox in bboxes:\n",
    "            rec = Rectangle((bbox[0],bbox[1]),bbox[2],bbox[3],linewidth=2,\n",
    "                            edgecolor='r',\n",
    "                            facecolor='none', \n",
    "                            linestyle='--')\n",
    "            ax[3].add_patch(rec)\n",
    "            \n",
    "        if len(bboxes) > 0:\n",
    "            ratio.append(float(len(bboxes))/ gt_count)\n",
    "        plt.show()"
   ]
  },
  {
   "cell_type": "code",
   "execution_count": null,
   "metadata": {},
   "outputs": [],
   "source": [
    "steps_per_epoch_val"
   ]
  },
  {
   "cell_type": "code",
   "execution_count": null,
   "metadata": {},
   "outputs": [],
   "source": [
    "mean_ratio = np.mean(ratio)\n",
    "print('Mean ratio {}'.format(mean_ratio))"
   ]
  },
  {
   "cell_type": "markdown",
   "metadata": {},
   "source": [
    "### #4 Research"
   ]
  },
  {
   "cell_type": "code",
   "execution_count": null,
   "metadata": {},
   "outputs": [],
   "source": [
    "def merge_close_markers(markers, thresh=50):\n",
    "    x, y = np.where(markers!=0)\n",
    "    dist = scipy.spatial.distance_matrix(np.stack([x, y ], axis=0).transpose(), \n",
    "                                         np.stack([x, y ], axis=0).transpose())\n",
    "    dist = np.triu(dist)\n",
    "    xclose, yclose = np.where(np.logical_and(dist> 0, dist<=10))\n",
    "    for (i,j) in zip(xclose, yclose):\n",
    "        markers[x[i], y[i]] = 0\n",
    "    return markers"
   ]
  },
  {
   "cell_type": "code",
   "execution_count": null,
   "metadata": {},
   "outputs": [],
   "source": [
    "plt.imshow(mask)"
   ]
  },
  {
   "cell_type": "code",
   "execution_count": null,
   "metadata": {},
   "outputs": [],
   "source": []
  },
  {
   "cell_type": "code",
   "execution_count": null,
   "metadata": {},
   "outputs": [],
   "source": [
    "D = ndimage.distance_transform_edt(mask)"
   ]
  },
  {
   "cell_type": "code",
   "execution_count": null,
   "metadata": {},
   "outputs": [],
   "source": [
    "plt.imshow(D)"
   ]
  },
  {
   "cell_type": "code",
   "execution_count": null,
   "metadata": {},
   "outputs": [],
   "source": [
    "localMax = peak_local_max(D, indices=False, min_distance=10, labels=mask)"
   ]
  },
  {
   "cell_type": "code",
   "execution_count": null,
   "metadata": {},
   "outputs": [],
   "source": [
    "plt.imshow(localMax)"
   ]
  },
  {
   "cell_type": "code",
   "execution_count": null,
   "metadata": {},
   "outputs": [],
   "source": [
    "markers = ndimage.label(localMax, structure=np.ones((3, 3)))[0]\n",
    "markers = merge_close_markers(markers)"
   ]
  },
  {
   "cell_type": "code",
   "execution_count": null,
   "metadata": {},
   "outputs": [],
   "source": [
    "plt.imshow(markers)"
   ]
  },
  {
   "cell_type": "code",
   "execution_count": null,
   "metadata": {},
   "outputs": [],
   "source": [
    "labels = watershed(-D, markers, mask=mask)"
   ]
  },
  {
   "cell_type": "code",
   "execution_count": null,
   "metadata": {},
   "outputs": [],
   "source": [
    "plt.imshow(labels)"
   ]
  },
  {
   "cell_type": "code",
   "execution_count": null,
   "metadata": {},
   "outputs": [],
   "source": []
  },
  {
   "cell_type": "code",
   "execution_count": null,
   "metadata": {},
   "outputs": [],
   "source": []
  }
 ],
 "metadata": {
  "kernelspec": {
   "display_name": "Python 3",
   "language": "python",
   "name": "python3"
  },
  "language_info": {
   "codemirror_mode": {
    "name": "ipython",
    "version": 3
   },
   "file_extension": ".py",
   "mimetype": "text/x-python",
   "name": "python",
   "nbconvert_exporter": "python",
   "pygments_lexer": "ipython3",
   "version": "3.5.2"
  }
 },
 "nbformat": 4,
 "nbformat_minor": 2
}
