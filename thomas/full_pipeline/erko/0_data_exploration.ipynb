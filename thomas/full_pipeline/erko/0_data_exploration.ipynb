{
 "cells": [
  {
   "cell_type": "code",
   "execution_count": null,
   "metadata": {},
   "outputs": [],
   "source": [
    "import numpy as np\n",
    "import glob\n",
    "from PIL import Image\n",
    "import json\n",
    "import os\n",
    "import shutil"
   ]
  },
  {
   "cell_type": "markdown",
   "metadata": {},
   "source": [
    "# STUFF"
   ]
  },
  {
   "cell_type": "code",
   "execution_count": null,
   "metadata": {},
   "outputs": [],
   "source": [
    "masks = glob.glob('/root/data/aquabyte-images/erko/raw/*/*.semantic.jpg') + glob.glob('/root/data/aquabyte-images/erko/raw/*/*.semantic.png')\n",
    "print(len(masks))"
   ]
  },
  {
   "cell_type": "code",
   "execution_count": null,
   "metadata": {},
   "outputs": [],
   "source": [
    "good_images = '/root/data/aquabyte-images/good_images2.json'"
   ]
  },
  {
   "cell_type": "code",
   "execution_count": null,
   "metadata": {},
   "outputs": [],
   "source": [
    "test = json.load(open(good_images))"
   ]
  },
  {
   "cell_type": "code",
   "execution_count": null,
   "metadata": {},
   "outputs": [],
   "source": [
    "for t in test:\n",
    "    shutil.copy(t, os.path.join('/root/data/aquabyte-images/erko/raw/old/', os.path.basename(t)))\n",
    "    mask = t.replace('labeled_frames', 'labels')\n",
    "    mask += '.semantic.png'\n",
    "    shutil.copy(mask, os.path.join('/root/data/aquabyte-images/erko/raw/old/', os.path.basename(mask)))"
   ]
  },
  {
   "cell_type": "code",
   "execution_count": null,
   "metadata": {},
   "outputs": [],
   "source": [
    "t"
   ]
  },
  {
   "cell_type": "code",
   "execution_count": null,
   "metadata": {},
   "outputs": [],
   "source": [
    "# lazy loading\n",
    "for mask_path in masks:\n",
    "    \n",
    "    img_path = mask_path.replace('.semantic.png', '')\n",
    "    img_path = img_path.replace('.semantic.jpg', '')\n",
    "    "
   ]
  },
  {
   "cell_type": "markdown",
   "metadata": {},
   "source": [
    "# PLOTTING"
   ]
  },
  {
   "cell_type": "code",
   "execution_count": null,
   "metadata": {},
   "outputs": [],
   "source": [
    "import cv2\n",
    "import random\n",
    "import matplotlib.pyplot as plt"
   ]
  },
  {
   "cell_type": "code",
   "execution_count": null,
   "metadata": {},
   "outputs": [],
   "source": [
    "SEED = 448"
   ]
  },
  {
   "cell_type": "code",
   "execution_count": null,
   "metadata": {},
   "outputs": [],
   "source": [
    "images = glob.glob('/root/data/aquabyte-images/erko/raw/*/*.semantic.jpg') + glob.glob('/root/data/aquabyte-images/erko/raw/*/*.semantic.png')"
   ]
  },
  {
   "cell_type": "code",
   "execution_count": null,
   "metadata": {},
   "outputs": [],
   "source": [
    "random.seed(SEED)\n",
    "random.shuffle(images)\n",
    "cutoff = int(len(images)*0.8)\n",
    "train = images[:cutoff]\n",
    "val = images[cutoff:]"
   ]
  },
  {
   "cell_type": "code",
   "execution_count": null,
   "metadata": {},
   "outputs": [],
   "source": [
    "batch_size = 8\n",
    "steps_per_epoch = len(train) // batch_size\n",
    "steps_per_epoch_val = len(val) // batch_size\n",
    "input_shape = (512, 512, 3)\n",
    "kernel = np.ones((5,5),np.uint8)"
   ]
  },
  {
   "cell_type": "code",
   "execution_count": null,
   "metadata": {},
   "outputs": [],
   "source": [
    "def flip_axis(x, axis):\n",
    "    x = np.asarray(x).swapaxes(axis, 0)\n",
    "    x = x[::-1, ...]\n",
    "    x = x.swapaxes(0, axis)\n",
    "    return x"
   ]
  },
  {
   "cell_type": "code",
   "execution_count": null,
   "metadata": {},
   "outputs": [],
   "source": [
    "def generator(images, steps_per_epoch, BATCH_SIZE, input_shape):\n",
    "    i = 0\n",
    "\n",
    "    img_size = input_shape[0]\n",
    "    while True:\n",
    "        x_batch = np.empty((BATCH_SIZE, input_shape[0], input_shape[1], input_shape[2]), dtype=np.uint8)\n",
    "        y_batch = np.empty((BATCH_SIZE, input_shape[0], input_shape[1], 1), dtype=np.uint8)\n",
    "        for (ind, j) in enumerate(range(i*BATCH_SIZE, (i+1)*BATCH_SIZE)):\n",
    "            mask_path = images[j]\n",
    "            img_path = mask_path.replace('.semantic.png', '')\n",
    "            img_path = img_path.replace('.semantic.jpg', '')\n",
    "            \n",
    "            xb = np.array(Image.open(img_path).resize((input_shape[0], input_shape[1])))\n",
    "            \n",
    "            \n",
    "            mask_img = np.array(Image.open(mask_path).resize((input_shape[0], input_shape[1])))\n",
    "            \n",
    "            mask0 = np.zeros((input_shape[0], input_shape[1]))\n",
    "            \n",
    "            red, green, blue = mask_img[:,:,0], mask_img[:,:,1], mask_img[:,:,2]\n",
    "            if mask_path.endswith('png'):\n",
    "                pink_mask = (red == 255) & (green == 105) & (blue == 180)\n",
    "            elif mask_path.endswith('jpg'):\n",
    "                pink_mask = (red == 255) & (green == 105) & (blue == 179)\n",
    "            \n",
    "            mask0[pink_mask] = 1\n",
    "            y0 = mask0\n",
    "            # y0 = cv2.erode(mask0,kernel,iterations = 1)\n",
    "            \n",
    "            if np.random.random() > 0.5:\n",
    "                xb = flip_axis(xb, 1)\n",
    "                y0 = flip_axis(y0, 1)\n",
    "                \n",
    "            x_batch[ind,...] = xb\n",
    "            y_batch[ind,...,0] = y0\n",
    "            \n",
    "        i += 1\n",
    "        if i >= steps_per_epoch:\n",
    "            i = 0\n",
    "        yield x_batch, y_batch"
   ]
  },
  {
   "cell_type": "code",
   "execution_count": null,
   "metadata": {},
   "outputs": [],
   "source": [
    "train_generator = generator(train, steps_per_epoch, batch_size, input_shape)\n",
    "val_generator = generator(val, steps_per_epoch_val, batch_size, input_shape)"
   ]
  },
  {
   "cell_type": "code",
   "execution_count": null,
   "metadata": {},
   "outputs": [],
   "source": [
    "for _ in range(5):\n",
    "    X, Y = train_generator.next()\n",
    "    \n",
    "    for b in range(batch_size):\n",
    "        f, ax = plt.subplots(1, 2, figsize=(20, 10))\n",
    "        # plt.figure(figsize=(10, 10))\n",
    "        ax[0].imshow(X[b,...])\n",
    "        ax[1].imshow(X[b,...])\n",
    "        ax[1].imshow(Y[b,...,0], alpha=0.3)\n",
    "        plt.show()"
   ]
  },
  {
   "cell_type": "code",
   "execution_count": null,
   "metadata": {},
   "outputs": [],
   "source": []
  }
 ],
 "metadata": {
  "kernelspec": {
   "display_name": "Python 2",
   "language": "python",
   "name": "python2"
  },
  "language_info": {
   "codemirror_mode": {
    "name": "ipython",
    "version": 2
   },
   "file_extension": ".py",
   "mimetype": "text/x-python",
   "name": "python",
   "nbconvert_exporter": "python",
   "pygments_lexer": "ipython2",
   "version": "2.7.12"
  }
 },
 "nbformat": 4,
 "nbformat_minor": 2
}
