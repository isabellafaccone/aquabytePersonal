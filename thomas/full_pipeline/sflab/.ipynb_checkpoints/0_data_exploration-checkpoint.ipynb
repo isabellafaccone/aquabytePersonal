{
 "cells": [
  {
   "cell_type": "markdown",
   "metadata": {},
   "source": [
    "# Display some images"
   ]
  },
  {
   "cell_type": "code",
   "execution_count": null,
   "metadata": {},
   "outputs": [],
   "source": [
    "import matplotlib.pyplot as plt\n",
    "from PIL import Image\n",
    "import numpy as np\n",
    "import cv2\n",
    "import glob"
   ]
  },
  {
   "cell_type": "code",
   "execution_count": null,
   "metadata": {},
   "outputs": [],
   "source": [
    "paths = glob.glob('/root/data/sflab_ground_truth/v2_071218/raw_images/*')"
   ]
  },
  {
   "cell_type": "code",
   "execution_count": null,
   "metadata": {},
   "outputs": [],
   "source": [
    "random_path = np.random.choice(paths)\n",
    "Image.open(random_path).resize((400, 300))"
   ]
  },
  {
   "cell_type": "code",
   "execution_count": null,
   "metadata": {},
   "outputs": [],
   "source": [
    "img = cv2.imread(random_path)\n",
    "dst = cv2.fastNlMeansDenoisingColored(img,None,10,10,7,21)"
   ]
  },
  {
   "cell_type": "code",
   "execution_count": null,
   "metadata": {},
   "outputs": [],
   "source": [
    "# plt.figure(figsize=(15, 15))\n",
    "plt.imshow(cv2.resize(dst, (400, 300)))"
   ]
  },
  {
   "cell_type": "markdown",
   "metadata": {},
   "source": [
    "# Some data preprocessing"
   ]
  },
  {
   "cell_type": "code",
   "execution_count": null,
   "metadata": {},
   "outputs": [],
   "source": [
    "import json\n",
    "import os\n",
    "import numpy\n",
    "from PIL import Image, ImageDraw\n",
    "import matplotlib.pyplot as plt\n",
    "import matplotlib.patches as patches"
   ]
  },
  {
   "cell_type": "code",
   "execution_count": null,
   "metadata": {},
   "outputs": [],
   "source": [
    "labels = json.load(open('/root/data/sflab_ground_truth/v2_071218/sflab_v2_labels_0.json'))"
   ]
  },
  {
   "cell_type": "code",
   "execution_count": null,
   "metadata": {},
   "outputs": [],
   "source": [
    "# just make the data easier\n",
    "for label in labels:\n",
    "    local = '/root/data/sflab_ground_truth/v2_071218/raw_images/' + label['External ID']\n",
    "    label['path'] = local"
   ]
  },
  {
   "cell_type": "markdown",
   "metadata": {},
   "source": [
    "### Create masks && bouding boxes"
   ]
  },
  {
   "cell_type": "code",
   "execution_count": null,
   "metadata": {},
   "outputs": [],
   "source": [
    "# get the data with masks\n",
    "annotated_data = []\n",
    "for l in labels:\n",
    "    if 'Masks' in l:\n",
    "        annotated_data.append(l)\n",
    "print(len(annotated_data))"
   ]
  },
  {
   "cell_type": "code",
   "execution_count": null,
   "metadata": {},
   "outputs": [],
   "source": [
    "# create masks and save them\n",
    "bboxes = []\n",
    "for data in annotated_data:\n",
    "    img = Image.new('L', (4096, 3000), 0)\n",
    "    for fish in data['Label']['fish']:\n",
    "        polygon = [(int(k['x']), 3000 - int(k['y'])) for k in fish]\n",
    "        x1 = min([g[0] for g in polygon])\n",
    "        x2 = max([g[0] for g in polygon])\n",
    "        y1 = min([g[1] for g in polygon])\n",
    "        y2 = max([g[1] for g in polygon])\n",
    "        bboxes.append([data['path'], x1, y1, x2, y2, 'fish'])\n",
    "        ImageDraw.Draw(img).polygon(polygon, outline=1, fill=1)\n",
    "    mask = numpy.array(img)\n",
    "    mask_path = '/root/data/sflab_ground_truth/v2_071218/semantic_masks/' + data['External ID'].split('.')[0] + '.npy'\n",
    "    data['mask_path'] = mask_path\n",
    "    np.save(mask_path, mask)"
   ]
  },
  {
   "cell_type": "code",
   "execution_count": null,
   "metadata": {},
   "outputs": [],
   "source": [
    "# display some masks\n",
    "masks = glob.glob('/root/data/sflab_ground_truth/v2_071218/semantic_masks/*')\n",
    "plt.imshow(np.load(np.random.choice(masks)))"
   ]
  },
  {
   "cell_type": "code",
   "execution_count": null,
   "metadata": {},
   "outputs": [],
   "source": []
  },
  {
   "cell_type": "code",
   "execution_count": null,
   "metadata": {},
   "outputs": [],
   "source": [
    "# display some bounding boxes\n",
    "# Create figure and axes\n",
    "fig,ax = plt.subplots(1)\n",
    "# Display the image\n",
    "ax.imshow(im)\n",
    "\n",
    "# Create a Rectangle patch\n",
    "rect = patches.Rectangle((50,100),40,30,linewidth=1,edgecolor='r',facecolor='none')\n",
    "\n",
    "# Add the patch to the Axes\n",
    "ax.add_patch(rect)\n",
    "\n",
    "plt.show()"
   ]
  },
  {
   "cell_type": "markdown",
   "metadata": {},
   "source": [
    "### Truncate images and masks because of reflection"
   ]
  },
  {
   "cell_type": "code",
   "execution_count": null,
   "metadata": {},
   "outputs": [],
   "source": [
    "for data in annotated_data:\n",
    "    # load the mask\n",
    "    mask = np.load(data['mask_path'])\n",
    "    mask_name = os.path.basename(data['mask_path'])\n",
    "    img_name = os.path.basename(data['path'])\n",
    "    # get the first non zero coordinate - suboptimal\n",
    "    zero_coord = np.where(np.sum(mask, axis=1) == 0)\n",
    "    highest_y = 0\n",
    "    for zc in zero_coord[0]:\n",
    "        if zc == highest_y:\n",
    "            highest_y += 1\n",
    "        else:\n",
    "            break\n",
    "    # truncate the mask and the images\n",
    "    trunc_mask = mask[highest_y-100:, :]\n",
    "    np.save('/root/data/sflab_ground_truth/v2_071218/trunc_semantic_masks/' + mask_name, trunc_mask)\n",
    "    \n",
    "    img = np.array(Image.open(data['path']))[highest_y-100:, :]\n",
    "    Image.fromarray(img).save('/root/data/sflab_ground_truth/v2_071218/trunc_images/' + img_name)"
   ]
  },
  {
   "cell_type": "code",
   "execution_count": null,
   "metadata": {},
   "outputs": [],
   "source": [
    "# display some truncated masks\n",
    "masks = glob.glob('/root/data/sflab_ground_truth/v2_071218/trunc_semantic_masks/*')"
   ]
  },
  {
   "cell_type": "code",
   "execution_count": null,
   "metadata": {},
   "outputs": [],
   "source": [
    "random_mask = np.random.choice(masks)\n",
    "mask_id = os.path.basename(random_mask).split('.')[0]\n",
    "random_image = '/root/data/sflab_ground_truth/v2_071218/trunc_images/{}.jpg'.format(mask_id)\n",
    "plt.imshow(np.array(Image.open(random_image)))\n",
    "plt.imshow(np.load(random_mask), alpha=0.1)\n"
   ]
  },
  {
   "cell_type": "markdown",
   "metadata": {},
   "source": [
    "## Create object detection csv file"
   ]
  },
  {
   "cell_type": "code",
   "execution_count": null,
   "metadata": {},
   "outputs": [],
   "source": []
  },
  {
   "cell_type": "code",
   "execution_count": null,
   "metadata": {},
   "outputs": [],
   "source": []
  },
  {
   "cell_type": "code",
   "execution_count": null,
   "metadata": {},
   "outputs": [],
   "source": []
  }
 ],
 "metadata": {
  "kernelspec": {
   "display_name": "Python 2",
   "language": "python",
   "name": "python2"
  },
  "language_info": {
   "codemirror_mode": {
    "name": "ipython",
    "version": 2
   },
   "file_extension": ".py",
   "mimetype": "text/x-python",
   "name": "python",
   "nbconvert_exporter": "python",
   "pygments_lexer": "ipython2",
   "version": "2.7.12"
  }
 },
 "nbformat": 4,
 "nbformat_minor": 2
}
