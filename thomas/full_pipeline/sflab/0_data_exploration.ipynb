{
 "cells": [
  {
   "cell_type": "markdown",
   "metadata": {},
   "source": [
    "# Display some images"
   ]
  },
  {
   "cell_type": "code",
   "execution_count": null,
   "metadata": {},
   "outputs": [],
   "source": [
    "import matplotlib.pyplot as plt\n",
    "from PIL import Image\n",
    "import numpy as np\n",
    "import cv2\n",
    "import glob"
   ]
  },
  {
   "cell_type": "code",
   "execution_count": null,
   "metadata": {},
   "outputs": [],
   "source": [
    "paths = glob.glob('/root/data/sflab_ground_truth/v2_071218/raw_images/*')"
   ]
  },
  {
   "cell_type": "code",
   "execution_count": null,
   "metadata": {},
   "outputs": [],
   "source": [
    "random_path = np.random.choice(paths)\n",
    "Image.open(random_path).resize((400, 300))"
   ]
  },
  {
   "cell_type": "code",
   "execution_count": null,
   "metadata": {},
   "outputs": [],
   "source": [
    "img = cv2.imread(random_path)\n",
    "dst = cv2.fastNlMeansDenoisingColored(img,None,10,10,7,21)"
   ]
  },
  {
   "cell_type": "code",
   "execution_count": null,
   "metadata": {},
   "outputs": [],
   "source": [
    "# plt.figure(figsize=(15, 15))\n",
    "plt.imshow(cv2.resize(dst, (400, 300)))"
   ]
  },
  {
   "cell_type": "markdown",
   "metadata": {},
   "source": [
    "# Some data preprocessing"
   ]
  },
  {
   "cell_type": "code",
   "execution_count": null,
   "metadata": {},
   "outputs": [],
   "source": [
    "import json\n",
    "import os\n",
    "import numpy\n",
    "from PIL import Image, ImageDraw\n",
    "import matplotlib.pyplot as plt\n",
    "import matplotlib.patches as patches\n",
    "import csv"
   ]
  },
  {
   "cell_type": "code",
   "execution_count": null,
   "metadata": {},
   "outputs": [],
   "source": [
    "labels = json.load(open('/root/data/sflab_ground_truth/v2_071218/sflab_v2_labels_0.json'))"
   ]
  },
  {
   "cell_type": "code",
   "execution_count": null,
   "metadata": {},
   "outputs": [],
   "source": [
    "# just make the data easier\n",
    "for label in labels:\n",
    "    local = '/root/data/sflab_ground_truth/v2_071218/raw_images/' + label['External ID']\n",
    "    label['path'] = local"
   ]
  },
  {
   "cell_type": "markdown",
   "metadata": {},
   "source": [
    "### Create masks && bouding boxes"
   ]
  },
  {
   "cell_type": "code",
   "execution_count": null,
   "metadata": {},
   "outputs": [],
   "source": [
    "# get the data with masks\n",
    "annotated_data = []\n",
    "for l in labels:\n",
    "    if 'Masks' in l:\n",
    "        annotated_data.append(l)\n",
    "print(len(annotated_data))"
   ]
  },
  {
   "cell_type": "code",
   "execution_count": null,
   "metadata": {},
   "outputs": [],
   "source": [
    "# create masks and save them\n",
    "bboxes = []\n",
    "for data in annotated_data:\n",
    "    img = Image.new('L', (4096, 3000), 0)\n",
    "    for fish in data['Label']['fish']:\n",
    "        polygon = [(int(k['x']), 3000 - int(k['y'])) for k in fish]\n",
    "        x1 = min([g[0] for g in polygon])\n",
    "        x2 = max([g[0] for g in polygon])\n",
    "        y1 = min([g[1] for g in polygon])\n",
    "        y2 = max([g[1] for g in polygon])\n",
    "        bboxes.append([data['path'], x1, y1, x2, y2, 'fish'])\n",
    "        ImageDraw.Draw(img).polygon(polygon, outline=1, fill=1)\n",
    "    mask = numpy.array(img)\n",
    "    mask_path = '/root/data/sflab_ground_truth/v2_071218/semantic_masks/' + data['External ID'].split('.')[0] + '.npy'\n",
    "    data['mask_path'] = mask_path\n",
    "    # np.save(mask_path, mask)"
   ]
  },
  {
   "cell_type": "code",
   "execution_count": null,
   "metadata": {},
   "outputs": [],
   "source": [
    "# display some masks\n",
    "masks = glob.glob('/root/data/sflab_ground_truth/v2_071218/semantic_masks/*')\n",
    "plt.imshow(np.load(np.random.choice(masks)))"
   ]
  },
  {
   "cell_type": "code",
   "execution_count": null,
   "metadata": {},
   "outputs": [],
   "source": [
    "bbox = bboxes[2]"
   ]
  },
  {
   "cell_type": "code",
   "execution_count": null,
   "metadata": {},
   "outputs": [],
   "source": [
    "# display some bounding boxes\n",
    "# Create figure and axes\n",
    "fig,ax = plt.subplots(1)\n",
    "# Display the image\n",
    "ax.imshow(np.array(Image.open(bbox[0])))\n",
    "\n",
    "# Create a Rectangle patch\n",
    "rect = patches.Rectangle((bbox[1],bbox[2]),bbox[3]-bbox[1], bbox[4]-bbox[2],\n",
    "                         linewidth=1,edgecolor='r',facecolor='none')\n",
    "\n",
    "# Add the patch to the Axes\n",
    "ax.add_patch(rect)\n",
    "\n",
    "plt.show()"
   ]
  },
  {
   "cell_type": "code",
   "execution_count": null,
   "metadata": {},
   "outputs": [],
   "source": [
    "with open('/root/data/sflab_ground_truth/v2_071218/fish.csv', 'wb') as csvfile:\n",
    "    writer = csv.writer(csvfile, delimiter=',', quoting=csv.QUOTE_MINIMAL)\n",
    "    for bbox in bboxes:\n",
    "        writer.writerow(bbox)"
   ]
  },
  {
   "cell_type": "markdown",
   "metadata": {},
   "source": [
    "### Truncate images and masks because of reflection"
   ]
  },
  {
   "cell_type": "code",
   "execution_count": null,
   "metadata": {},
   "outputs": [],
   "source": [
    "trunc_bboxes = []\n",
    "for data in annotated_data:\n",
    "    \n",
    "    # load the mask\n",
    "    mask = np.load(data['mask_path'])\n",
    "    mask_name = os.path.basename(data['mask_path'])\n",
    "    img_name = os.path.basename(data['path'])\n",
    "    # get the first non zero coordinate - suboptimal\n",
    "    zero_coord = np.where(np.sum(mask, axis=1) == 0)\n",
    "    highest_y = 0\n",
    "    for zc in zero_coord[0]:\n",
    "        if zc == highest_y:\n",
    "            highest_y += 1\n",
    "        else:\n",
    "            break\n",
    "    # truncate the mask and the images\n",
    "    if highest_y > 50:\n",
    "        trunc_mask = mask[highest_y-50:, :]\n",
    "        img = np.array(Image.open(data['path']))[highest_y-50:, :]\n",
    "    else:\n",
    "        trunc_mask = mask[highest_y:, :]\n",
    "        img = np.array(Image.open(data['path']))[highest_y:, :]\n",
    "    np.save('/root/data/sflab_ground_truth/v2_071218/trunc_semantic_masks/' + mask_name, trunc_mask)\n",
    "    \n",
    "    \n",
    "    Image.fromarray(img).save('/root/data/sflab_ground_truth/v2_071218/trunc_images/' + img_name)\n",
    "    \n",
    "    # truncate the bounding boxes\n",
    "    ct = 0\n",
    "    for bb in bboxes:\n",
    "        if ct > 3:\n",
    "            break\n",
    "        if bb[0] == data['path']:\n",
    "            ct +1\n",
    "            if highest_y > 50:\n",
    "                trunc_bboxes.append(['/root/data/sflab_ground_truth/v2_071218/trunc_images/' + img_name, bb[1], bb[2]-highest_y+50, bb[3], bb[4]-highest_y+50,bb[5]])\n",
    "            else:\n",
    "                trunc_bboxes.append(['/root/data/sflab_ground_truth/v2_071218/trunc_images/' + img_name, bb[1], bb[2]-highest_y, bb[3], bb[4]-highest_y,bb[5]])                \n"
   ]
  },
  {
   "cell_type": "code",
   "execution_count": null,
   "metadata": {},
   "outputs": [],
   "source": [
    "with open('/root/data/sflab_ground_truth/v2_071218/trunc_fish.csv', 'wb') as csvfile:\n",
    "    writer = csv.writer(csvfile, delimiter=',', quoting=csv.QUOTE_MINIMAL)\n",
    "    for bbox in trunc_bboxes:\n",
    "        writer.writerow(bbox)"
   ]
  },
  {
   "cell_type": "code",
   "execution_count": null,
   "metadata": {},
   "outputs": [],
   "source": [
    "import glob"
   ]
  },
  {
   "cell_type": "code",
   "execution_count": null,
   "metadata": {},
   "outputs": [],
   "source": [
    "# display some truncated masks\n",
    "masks = glob.glob('/root/data/sflab_ground_truth/v2_071218/trunc_semantic_masks/*')"
   ]
  },
  {
   "cell_type": "code",
   "execution_count": null,
   "metadata": {},
   "outputs": [],
   "source": [
    "random_mask = np.random.choice(masks)\n",
    "mask_id = os.path.basename(random_mask).split('.')[0]\n",
    "random_image = '/root/data/sflab_ground_truth/v2_071218/trunc_images/{}.jpg'.format(mask_id)\n",
    "plt.imshow(np.array(Image.open(random_image)))\n",
    "plt.imshow(np.load(random_mask), alpha=0.1)\n"
   ]
  },
  {
   "cell_type": "code",
   "execution_count": null,
   "metadata": {},
   "outputs": [],
   "source": [
    "bbox = [b for b in trunc_bboxes if b[0] == '/root/data/sflab_ground_truth/v2_071218/trunc_images/right_1531429803055.jpg'][0]"
   ]
  },
  {
   "cell_type": "code",
   "execution_count": null,
   "metadata": {},
   "outputs": [],
   "source": [
    "# display some bounding boxes\n",
    "# Create figure and axes\n",
    "fig,ax = plt.subplots(1)\n",
    "# Display the image\n",
    "ax.imshow(np.array(Image.open(bbox[0])))\n",
    "\n",
    "# Create a Rectangle patch\n",
    "rect = patches.Rectangle((bbox[1],bbox[2]),bbox[3]-bbox[1], bbox[4]-bbox[2],\n",
    "                         linewidth=1,edgecolor='r',facecolor='none')\n",
    "\n",
    "# Add the patch to the Axes\n",
    "ax.add_patch(rect)\n",
    "\n",
    "plt.show()"
   ]
  },
  {
   "cell_type": "markdown",
   "metadata": {},
   "source": [
    "### bboxes debug"
   ]
  },
  {
   "cell_type": "code",
   "execution_count": null,
   "metadata": {},
   "outputs": [],
   "source": [
    "import csv\n",
    "import matplotlib.pyplot as plt\n",
    "import matplotlib.patches as patches\n",
    "import numpy as np\n",
    "from PIL import Image"
   ]
  },
  {
   "cell_type": "code",
   "execution_count": null,
   "metadata": {},
   "outputs": [],
   "source": [
    "dataset = []\n",
    "with open('/root/data/sflab_ground_truth/v2_071218/trunc_fish.csv', 'r') as f:\n",
    "    reader = csv.reader(f)\n",
    "    for l in reader:\n",
    "        dataset.append(l)"
   ]
  },
  {
   "cell_type": "code",
   "execution_count": null,
   "metadata": {},
   "outputs": [],
   "source": [
    "bbox = dataset[np.random.randint(0, high=len(dataset))]"
   ]
  },
  {
   "cell_type": "code",
   "execution_count": null,
   "metadata": {},
   "outputs": [],
   "source": [
    "bbox = ['/root/data/sflab_ground_truth/v2_071218/trunc_images/right_1531434392670.jpg','2406','100','4107','1002','fish']"
   ]
  },
  {
   "cell_type": "code",
   "execution_count": null,
   "metadata": {},
   "outputs": [],
   "source": [
    "# display some bounding boxes\n",
    "# Create figure and axes\n",
    "fig,ax = plt.subplots(1)\n",
    "# Display the image\n",
    "ax.imshow(np.array(Image.open(bbox[0])))\n",
    "\n",
    "# Create a Rectangle patch\n",
    "coord = [0] + [int(b) for b in bbox[1:-1]]\n",
    "rect = patches.Rectangle((coord[1],coord[2]),coord[3]-coord[1], coord[4]-coord[2],\n",
    "                         linewidth=1,edgecolor='r',facecolor='none')\n",
    "\n",
    "# Add the patch to the Axes\n",
    "ax.add_patch(rect)\n",
    "\n",
    "plt.show()"
   ]
  },
  {
   "cell_type": "code",
   "execution_count": null,
   "metadata": {},
   "outputs": [],
   "source": [
    "fixed_dataset = []\n",
    "for data in dataset:\n",
    "    bbox = [np.max([int(b), 1]) for b in data[1:-1]]\n",
    "    \n",
    "    if bbox[0] > 4095:\n",
    "        bbox[0] = 4095\n",
    "    if bbox[1] > 2999:\n",
    "        bbox[1] = 2999\n",
    "    if bbox[2] > 4095:\n",
    "        bbox[2] = 4095\n",
    "    if bbox[3] > 2999:\n",
    "        bbox[3] = 2999\n",
    "    fixed_dataset.append([data[0]] + bbox + ['fish'])"
   ]
  },
  {
   "cell_type": "code",
   "execution_count": null,
   "metadata": {},
   "outputs": [],
   "source": [
    "fixed_dataset"
   ]
  },
  {
   "cell_type": "code",
   "execution_count": null,
   "metadata": {},
   "outputs": [],
   "source": [
    "with open('/root/data/sflab_ground_truth/v2_071218/trunc_fish2.csv', 'wb') as csvfile:\n",
    "    writer = csv.writer(csvfile, delimiter=',', quoting=csv.QUOTE_MINIMAL)\n",
    "    for bbox in fixed_dataset:\n",
    "        writer.writerow(bbox)"
   ]
  },
  {
   "cell_type": "markdown",
   "metadata": {},
   "source": [
    "### find the bugs"
   ]
  },
  {
   "cell_type": "code",
   "execution_count": null,
   "metadata": {},
   "outputs": [],
   "source": [
    "dataset = []\n",
    "with open('/root/data/sflab_ground_truth/v2_071218/trunc_fish2.csv', 'r') as f:\n",
    "    reader = csv.reader(f)\n",
    "    for l in reader:\n",
    "        dataset.append(l)"
   ]
  },
  {
   "cell_type": "code",
   "execution_count": null,
   "metadata": {},
   "outputs": [],
   "source": [
    "for annotations in dataset:\n",
    "    image = np.array(Image.open(annotations[0]))\n",
    "    \n",
    "    annotations[1] = int(annotations[1])\n",
    "    annotations[2] = int(annotations[2])\n",
    "    annotations[3] = int(annotations[3])\n",
    "    annotations[4] = int(annotations[4])\n",
    "    invalid_indices = np.where(\n",
    "        (annotations[3] <= annotations[1]) |\n",
    "        (annotations[4] <= annotations[2]) |\n",
    "        (annotations[1] < 0) |\n",
    "        (annotations[2] < 0) |\n",
    "        (annotations[3] > image.shape[1]) |\n",
    "        (annotations[4] > image.shape[0])\n",
    "    )[0]\n",
    "    if len(invalid_indices):\n",
    "        print(image.shape)\n",
    "        print(annotations)\n",
    "        print('issue')"
   ]
  },
  {
   "cell_type": "code",
   "execution_count": null,
   "metadata": {},
   "outputs": [],
   "source": []
  }
 ],
 "metadata": {
  "kernelspec": {
   "display_name": "Python 2",
   "language": "python",
   "name": "python2"
  },
  "language_info": {
   "codemirror_mode": {
    "name": "ipython",
    "version": 2
   },
   "file_extension": ".py",
   "mimetype": "text/x-python",
   "name": "python",
   "nbconvert_exporter": "python",
   "pygments_lexer": "ipython2",
   "version": "2.7.12"
  }
 },
 "nbformat": 4,
 "nbformat_minor": 2
}
