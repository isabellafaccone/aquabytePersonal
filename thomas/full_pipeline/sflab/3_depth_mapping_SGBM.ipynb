{
 "cells": [
  {
   "cell_type": "markdown",
   "metadata": {},
   "source": [
    "### get images"
   ]
  },
  {
   "cell_type": "code",
   "execution_count": null,
   "metadata": {},
   "outputs": [],
   "source": [
    "import glob"
   ]
  },
  {
   "cell_type": "code",
   "execution_count": null,
   "metadata": {},
   "outputs": [],
   "source": [
    "left_files = sorted(glob.glob('/root/data/sflab_ground_truth/v2_071218/raw_images/left*'))[:250]\n",
    "right_files = sorted(glob.glob('/root/data/sflab_ground_truth/v2_071218/raw_images/right*'))[:250]"
   ]
  },
  {
   "cell_type": "markdown",
   "metadata": {},
   "source": [
    "### SGBM"
   ]
  },
  {
   "cell_type": "code",
   "execution_count": null,
   "metadata": {},
   "outputs": [],
   "source": [
    "import cv2\n",
    "import numpy as np\n",
    "import matplotlib.pyplot as plt"
   ]
  },
  {
   "cell_type": "code",
   "execution_count": null,
   "metadata": {},
   "outputs": [],
   "source": [
    "max_disparity = 16;\n",
    "stereoProcessor = cv2.StereoSGBM_create(0, max_disparity, 21);"
   ]
  },
  {
   "cell_type": "code",
   "execution_count": null,
   "metadata": {},
   "outputs": [],
   "source": [
    "for (step, (frameL, frameR)) in enumerate(zip(left_files, right_files)):\n",
    "    print(step)\n",
    "    frameL = cv2.resize(cv2.imread(frameL), (400, 300))\n",
    "    frameR = cv2.resize(cv2.imread(frameR), (400, 300))\n",
    "\n",
    "    grayL = cv2.cvtColor(frameL,cv2.COLOR_BGR2GRAY);\n",
    "    grayR = cv2.cvtColor(frameR,cv2.COLOR_BGR2GRAY);\n",
    "    \n",
    "    f, ax = plt.subplots(1, 2, figsize=(20, 10))\n",
    "    ax[0].imshow(grayL)\n",
    "    ax[1].imshow(grayR)\n",
    "    plt.show()\n",
    "    print('compute')\n",
    "    disparity = stereoProcessor.compute(grayL, grayR);\n",
    "    cv2.filterSpeckles(disparity, 0, 4000, 128);\n",
    "\n",
    "    # scale the disparity to 8-bit for viewing\n",
    "\n",
    "    disparity_scaled = (disparity / 16.).astype(np.uint8) + abs(disparity.min())\n",
    "    \n",
    "    plt.imshow(disparity_scaled)\n",
    "    plt.colorbar()\n",
    "    plt.clim([0, 20])\n",
    "    plt.show()\n",
    "    \n",
    "    plt.imshow(frameL)\n",
    "    plt.imshow(disparity_scaled, alpha=0.1)\n",
    "    plt.show()\n",
    "#     # display image\n",
    "#     print('display')\n",
    "#     cv2.imshow('disparity', disparity_scaled);"
   ]
  },
  {
   "cell_type": "code",
   "execution_count": null,
   "metadata": {},
   "outputs": [],
   "source": [
    "frameL.shape"
   ]
  },
  {
   "cell_type": "code",
   "execution_count": null,
   "metadata": {},
   "outputs": [],
   "source": [
    "test = frameL.resize((400,300))"
   ]
  },
  {
   "cell_type": "code",
   "execution_count": null,
   "metadata": {},
   "outputs": [],
   "source": [
    "import matplotlib.pyplot as plt"
   ]
  },
  {
   "cell_type": "code",
   "execution_count": null,
   "metadata": {},
   "outputs": [],
   "source": [
    "plt.imshow(frameL)"
   ]
  },
  {
   "cell_type": "code",
   "execution_count": null,
   "metadata": {},
   "outputs": [],
   "source": []
  },
  {
   "cell_type": "code",
   "execution_count": null,
   "metadata": {},
   "outputs": [],
   "source": []
  }
 ],
 "metadata": {
  "kernelspec": {
   "display_name": "Python 2",
   "language": "python",
   "name": "python2"
  },
  "language_info": {
   "codemirror_mode": {
    "name": "ipython",
    "version": 2
   },
   "file_extension": ".py",
   "mimetype": "text/x-python",
   "name": "python",
   "nbconvert_exporter": "python",
   "pygments_lexer": "ipython2",
   "version": "2.7.12"
  }
 },
 "nbformat": 4,
 "nbformat_minor": 2
}
