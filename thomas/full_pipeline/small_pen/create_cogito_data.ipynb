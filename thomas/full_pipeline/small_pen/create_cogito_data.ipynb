{
 "cells": [
  {
   "cell_type": "code",
   "execution_count": null,
   "metadata": {},
   "outputs": [],
   "source": [
    "# load annotations\n",
    "import json\n",
    "from pycocotools.coco import COCO\n",
    "import os"
   ]
  },
  {
   "cell_type": "code",
   "execution_count": null,
   "metadata": {},
   "outputs": [],
   "source": [
    "jsonfiles = ['/root/data/small_pen_data_collection/body_parts_detection_part0.json',\n",
    "             '/root/data/small_pen_data_collection/body_parts_detection_part1.json']"
   ]
  },
  {
   "cell_type": "code",
   "execution_count": null,
   "metadata": {},
   "outputs": [],
   "source": [
    "full_fish = []\n",
    "for jf in jsonfiles:\n",
    "    cocofile = COCO(jf)\n",
    "    for (image_id, image_data) in cocofile.imgs.items():\n",
    "        # load annotation (only head and caudal fin)\n",
    "        annotation_ids = cocofile.getAnnIds(imgIds=[image_id], catIds=[1, 2], iscrowd=None)\n",
    "        annotations = cocofile.loadAnns(annotation_ids)\n",
    "\n",
    "        unique_categories = list(set([a['category_id'] for a in annotations]))\n",
    "        if 1 in unique_categories and 2 in unique_categories:\n",
    "            # then we have detected head and caudal fin\n",
    "            full_fish.append(image_data['local_path'])"
   ]
  },
  {
   "cell_type": "code",
   "execution_count": null,
   "metadata": {},
   "outputs": [],
   "source": [
    "print(len(full_fish))"
   ]
  },
  {
   "cell_type": "markdown",
   "metadata": {},
   "source": [
    "## Check pairs"
   ]
  },
  {
   "cell_type": "code",
   "execution_count": null,
   "metadata": {},
   "outputs": [],
   "source": [
    "timestamps = dict()\n",
    "for f in full_fish:\n",
    "    ts = os.path.basename(f).split('.')[0].split('_')[-1]\n",
    "    side = os.path.basename(f).split('.')[0].split('_')[0]\n",
    "    if ts not in timestamps:\n",
    "        timestamps[ts] = dict()\n",
    "    timestamps[ts][side] = f"
   ]
  },
  {
   "cell_type": "code",
   "execution_count": null,
   "metadata": {},
   "outputs": [],
   "source": [
    "print(\"number of unique timestamps: {}\".format(len(timestamps.keys())))\n",
    "print(\"number of left images: {}\".format(len([v for (k, v) in timestamps.items() if \"left\" in v])))\n",
    "print(\"number of right images: {}\".format(len([v for (k, v) in timestamps.items() if \"right\" in v])))\n",
    "print(\"number of pairs: {}\".format(len([v for (k, v) in timestamps.items() if \"right\" in v and \"left\" in v])))"
   ]
  },
  {
   "cell_type": "code",
   "execution_count": null,
   "metadata": {},
   "outputs": [],
   "source": [
    "experiments = {}\n",
    "for (ts, sidedict) in timestamps.items():\n",
    "    if 'left' in sidedict and 'right' in sidedict:\n",
    "        exp = sidedict['left'].split('/')[-2]\n",
    "        if exp not in experiments:\n",
    "            experiments[exp] = []\n",
    "        experiments[exp].append((sidedict['left'], sidedict['right']))"
   ]
  },
  {
   "cell_type": "code",
   "execution_count": null,
   "metadata": {},
   "outputs": [],
   "source": [
    "for (k, v) in experiments.items():\n",
    "    print(\"Number of good pairs in experiment {}: {}\".format(k, len(v)))"
   ]
  },
  {
   "cell_type": "markdown",
   "metadata": {},
   "source": [
    "# copy files for annotations"
   ]
  },
  {
   "cell_type": "code",
   "execution_count": null,
   "metadata": {},
   "outputs": [],
   "source": [
    "import shutil\n",
    "import numpy as np"
   ]
  },
  {
   "cell_type": "code",
   "execution_count": null,
   "metadata": {},
   "outputs": [],
   "source": [
    "len(timestamps.keys())"
   ]
  },
  {
   "cell_type": "code",
   "execution_count": null,
   "metadata": {},
   "outputs": [],
   "source": [
    "for (k, v) in timestamps.items():\n",
    "    if 'left' not in v:\n",
    "        continue\n",
    "    if 'right' not in v:\n",
    "        continue\n",
    "    coin = np.random.rand()\n",
    "    if coin > 0.25:\n",
    "        continue\n",
    "    # copy left\n",
    "    src = v['left']\n",
    "    dst = os.path.join('/root/data/small_pen_data_collection/pairs_for_annotations/', os.path.basename(src))\n",
    "    shutil.copy(src, dst)\n",
    "    \n",
    "    # copy right\n",
    "    src = v['right']\n",
    "    dst = os.path.join('/root/data/small_pen_data_collection/pairs_for_annotations/', os.path.basename(src))\n",
    "    shutil.copy(src, dst)"
   ]
  },
  {
   "cell_type": "code",
   "execution_count": null,
   "metadata": {},
   "outputs": [],
   "source": []
  }
 ],
 "metadata": {
  "kernelspec": {
   "display_name": "Python 3",
   "language": "python",
   "name": "python3"
  },
  "language_info": {
   "codemirror_mode": {
    "name": "ipython",
    "version": 3
   },
   "file_extension": ".py",
   "mimetype": "text/x-python",
   "name": "python",
   "nbconvert_exporter": "python",
   "pygments_lexer": "ipython3",
   "version": "3.5.2"
  }
 },
 "nbformat": 4,
 "nbformat_minor": 2
}
