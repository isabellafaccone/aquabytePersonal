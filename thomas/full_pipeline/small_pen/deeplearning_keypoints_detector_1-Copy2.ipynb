{
 "cells": [
  {
   "cell_type": "code",
   "execution_count": null,
   "metadata": {},
   "outputs": [],
   "source": [
    "import glob\n",
    "import json\n",
    "import os\n",
    "\n",
    "import matplotlib.pyplot as plt\n",
    "import matplotlib.patches as patches\n",
    "import numpy as np\n",
    "import skimage.io as io\n",
    "from pycocotools.coco import COCO"
   ]
  },
  {
   "cell_type": "markdown",
   "metadata": {},
   "source": [
    "## #1 Create labels"
   ]
  },
  {
   "cell_type": "code",
   "execution_count": null,
   "metadata": {},
   "outputs": [],
   "source": [
    "json_path = '/root/data/small_pen_data_collection/coco_body_parts_misrectified_labeled.json'"
   ]
  },
  {
   "cell_type": "code",
   "execution_count": null,
   "metadata": {},
   "outputs": [],
   "source": [
    "# # coco fix\n",
    "cocofile = json.load(open(json_path))\n",
    "\n",
    "# images = glob.glob('/root/data/small_pen_data_collection/*_rectified/*.jpg')\n",
    "# image_dict = {}\n",
    "# for img in images:\n",
    "#     image_dict[os.path.basename(img)] = img\n",
    "    \n",
    "# for img in cocofile:\n",
    "#     img_name = img['Labeled Data'].split('%2F')[-1].split('?')[0]\n",
    "#     img['local_path'] = image_dict[img_name]\n",
    "    \n",
    "# with open(json_path, 'w') as f:\n",
    "#     json.dump(cocofile, f)"
   ]
  },
  {
   "cell_type": "code",
   "execution_count": null,
   "metadata": {},
   "outputs": [],
   "source": [
    "print(len(cocofile['annotations']))\n",
    "print(len(cocofile['images']))"
   ]
  },
  {
   "cell_type": "code",
   "execution_count": null,
   "metadata": {},
   "outputs": [],
   "source": [
    "coco = COCO(json_path)\n",
    "image_ids = coco.getImgIds()\n",
    "cats = coco.cats\n",
    "random_id = image_ids[np.random.randint(0, len(image_ids))]\n",
    "print(random_id)\n",
    "image_data = coco.loadImgs([random_id])[0]\n",
    "annotation_ids = coco.getAnnIds(imgIds=[image_data['id']])\n",
    "annotations = coco.loadAnns(annotation_ids)"
   ]
  },
  {
   "cell_type": "code",
   "execution_count": null,
   "metadata": {},
   "outputs": [],
   "source": [
    "# load and display instance annotations\n",
    "image = io.imread(image_data['local_path'].replace(\"sotra-small-pen_0\", \"small-pen-test-site_1\"))\n",
    "f ,ax = plt.subplots(1, figsize=(20, 20))\n",
    "ax.imshow(image); \n",
    "\n",
    "\n",
    "coco.showAnns(annotations)\n",
    "\n",
    "\n",
    "for ann in annotations:\n",
    "    bbox = ann['bbox']\n",
    "    rec = patches.Rectangle((bbox[0], bbox[1]), bbox[2], bbox[3], \n",
    "                            edgecolor='r', facecolor=None, fill=False, linestyle='--', linewidth=2)\n",
    "    ax.add_patch(rec)\n",
    "    # cat_name = [c['name'] for c in cats if c['id'] == ann['category_id']][0]\n",
    "    cat_name = cats[ann['category_id']]['name']\n",
    "    ax.text(bbox[0], bbox[1]-10, cat_name, fontsize=16, color='w')\n",
    "    \n",
    "    \n",
    "plt.axis('off')\n",
    "plt.show()"
   ]
  },
  {
   "cell_type": "code",
   "execution_count": null,
   "metadata": {},
   "outputs": [],
   "source": [
    "eye_center_data = []"
   ]
  },
  {
   "cell_type": "code",
   "execution_count": null,
   "metadata": {},
   "outputs": [],
   "source": [
    "# create eye center annotation\n",
    "image_ids = coco.getImgIds()\n",
    "cats = coco.cats\n",
    "eid = 1\n",
    "for image_id in image_ids:\n",
    "    tmp = {}\n",
    "    random_id = image_ids[np.random.randint(0, len(image_ids))]\n",
    "    image_data = coco.loadImgs([random_id])[0]\n",
    "    if \"local_path\" not in image_data:\n",
    "        continue\n",
    "    tmp['local_path'] = image_data['local_path'].replace(\"sotra-small-pen_0\", \"small-pen-test-site_1\")\n",
    "    tmp['id'] = eid\n",
    "    tmp['category'] = \"eye center\"\n",
    "    if len(coco.getAnnIds(imgIds=[image_data['id']], catIds=[2])) > 0:\n",
    "        \n",
    "        annotation_ids = coco.getAnnIds(imgIds=[image_data['id']] ) # , catIds=[2])\n",
    "        eyeid = coco.getAnnIds(imgIds=[image_data['id']], catIds=[2])\n",
    "        eye = coco.loadAnns(eyeid)[0]\n",
    "        annotations = coco.loadAnns(annotation_ids)\n",
    "        tmp['bbox'] = eye['bbox']\n",
    "        tmp[\"center\"] = [eye['bbox'][0] + eye['bbox'][2]/2.0, eye['bbox'][1] + eye['bbox'][3]/2.0]\n",
    "        \n",
    "        eye_center_data.append(tmp)"
   ]
  },
  {
   "cell_type": "code",
   "execution_count": null,
   "metadata": {},
   "outputs": [],
   "source": [
    "with open('/root/data/small_pen_data_collection/eye_center_labeled.json', 'w') as  f:\n",
    "    json.dump(eye_center_data, f)"
   ]
  },
  {
   "cell_type": "markdown",
   "metadata": {},
   "source": [
    "## #1 First approach - images chunks"
   ]
  },
  {
   "cell_type": "code",
   "execution_count": null,
   "metadata": {},
   "outputs": [],
   "source": [
    "import glob\n",
    "import json\n",
    "import os\n",
    "\n",
    "import matplotlib.pyplot as plt\n",
    "import matplotlib.patches as patches\n",
    "import numpy as np\n",
    "import skimage.io as io\n",
    "from pycocotools.coco import COCO\n",
    "\n",
    "import cv2\n",
    "import numpy as np"
   ]
  },
  {
   "cell_type": "code",
   "execution_count": null,
   "metadata": {},
   "outputs": [],
   "source": [
    "with open('/root/data/small_pen_data_collection/eye_center_labeled.json', 'r') as f:\n",
    "    eye_center = json.load(f)"
   ]
  },
  {
   "cell_type": "code",
   "execution_count": null,
   "metadata": {},
   "outputs": [],
   "source": [
    "# focus on eye detection first"
   ]
  },
  {
   "cell_type": "code",
   "execution_count": null,
   "metadata": {},
   "outputs": [],
   "source": [
    "random_eye = np.random.choice(eye_center)"
   ]
  },
  {
   "cell_type": "code",
   "execution_count": null,
   "metadata": {},
   "outputs": [],
   "source": [
    "random_eye = eye_center[0]"
   ]
  },
  {
   "cell_type": "code",
   "execution_count": null,
   "metadata": {},
   "outputs": [],
   "source": [
    "image = io.imread(random_eye['local_path'])\n",
    "f, ax = plt.subplots(1, figsize=(20, 10))\n",
    "ax.imshow(image)\n",
    "circle = patches.Circle(random_eye['center'], radius=10, color='r')\n",
    "ax.add_patch(circle)\n",
    "plt.show()\n",
    "\n",
    "# labels = np.zeros((fish_only.shape[0], fish_only.shape[1]))\n",
    "# c = 1\n",
    "# for (class_name, point) in image_data['Label'].items():\n",
    "#     if class_name != 'Eye Center':\n",
    "#         continue\n",
    "#     print(class_name, c)\n",
    "#     loc = point[0]['geometry']\n",
    "#     labels[loc['y']-1300, loc['x']] = c\n",
    "#     c += 1"
   ]
  },
  {
   "cell_type": "code",
   "execution_count": null,
   "metadata": {},
   "outputs": [],
   "source": [
    "# ## first create dataset\n",
    "# eye_tiles = []\n",
    "# other_tiles = [] # let's make this 100 times bigger (and only sample around the fish)\n",
    "# ssize = 64\n",
    "# for ec in eye_center:\n",
    "#     # load the image\n",
    "#     image = io.imread(ec['local_path'])\n",
    "    \n",
    "#     # create the tiles\n",
    "#     # tiles_coordinates = [(y, x) for x in range(0, 4096, ssize) for y in range(0, 3000, ssize)]\n",
    "#     eye_center_coordinates = ec['center']\n",
    "#     eye_bbox = ec['bbox']\n",
    "#     x1, y1, x2, y2 = eye_bbox[1], eye_bbox[0], eye_bbox[1]+eye_bbox[3], eye_bbox[0]+eye_bbox[2]\n",
    "#     eye_tiles_x = list(set([int(x1 - x1 % ssize), int(x2 - x2 % ssize)]))\n",
    "#     eye_tiles_y = list(set([int(y1 - y1 % ssize), int(y2 - y2 % ssize)]))\n",
    "    \n",
    "#     for ex in eye_tiles_x:\n",
    "#         for ey in eye_tiles_y:\n",
    "            \n",
    "    \n",
    "# #     for ex in eye_tiles_x:\n",
    "# #         # get a random square close by\n",
    "# #         rex = list(range(ex - 10*ssize, ex, 64)) + list(range(ex + ssize, ex + 10*ssize, 64))\n",
    "# #         random_x= np.random.choice(rex, size=2, replace=False)\n",
    "# #         for ey in eye_tiles_y:\n",
    "# #             eye_tiles.append([ec['local_path'], ex, ey])\n",
    "# #             rey = list(range(ey - 10*ssize, ey, 64)) + list(range(ey + ssize, ey + 10*ssize, 64))\n",
    "# #             random_y = np.random.choice(rey, size=2, replace=False)\n",
    "# #             for x in random_x:\n",
    "# #                 for y in random_y:\n",
    "# #                     if x > 0 and y > 0 and x < 3000 and y < 4096:\n",
    "# #                         other_tiles.append([ec['local_path'], x, y])\n",
    "                    \n",
    "            \n",
    "# #     eye_center_tile = [eye_center_coordinates[0] - eye_center_coordinates[0] % 64, \n",
    "# #                        eye_center_coordinates[1] - eye_center_coordinates[1] % 64]\n"
   ]
  },
  {
   "cell_type": "code",
   "execution_count": null,
   "metadata": {},
   "outputs": [],
   "source": [
    "# eye_tiles = []\n",
    "# other_tiles = [] # let's make this 100 times bigger (and only sample around the fish)\n",
    "# ssize = 64\n",
    "# for ec in eye_center:  \n",
    "#     # create the tiles\n",
    "#     ecy, ecx = ec['center']\n",
    "#     tilex = int(ecx - ecx % ssize)\n",
    "#     tiley = int(ecy - ecy % ssize)\n",
    "#     eye_tile = [ec['local_path'],\n",
    "#                 tilex,\n",
    "#                 tiley,\n",
    "#                 int(ecx%64),\n",
    "#                 int(ecy%64)]\n",
    "#     eye_tiles.append(eye_tile)\n",
    "    \n",
    "#     # get a random square close by\n",
    "#     rex = list(range(tilex - 10*ssize, tilex, 64)) + list(range(tilex + ssize, tilex + 10*ssize, 64))\n",
    "#     random_x= np.random.choice(rex, size=10, replace=False)\n",
    "    \n",
    "#     rey = list(range(tiley - 10*ssize, tiley, 64)) + list(range(tiley + ssize, tiley + 10*ssize, 64))\n",
    "#     random_y = np.random.choice(rey, size=10, replace=False)\n",
    "    \n",
    "#     for x in random_x:\n",
    "#         for y in random_y:\n",
    "#             if x > 0 and y > 0 and x < 3000 and y < 4096:\n",
    "#                 other_tiles.append([ec['local_path'], x, y])\n"
   ]
  },
  {
   "cell_type": "code",
   "execution_count": null,
   "metadata": {},
   "outputs": [],
   "source": [
    "from tqdm import tqdm\n",
    "import warnings\n",
    "warnings.filterwarnings('ignore')"
   ]
  },
  {
   "cell_type": "code",
   "execution_count": null,
   "metadata": {},
   "outputs": [],
   "source": [
    "# plt.imshow(io.imread('/root/data/small_pen_data_collection/eyetiles128/left_small-pen-test-site_1_1538490386516.jpg_26_20.jpg'))"
   ]
  },
  {
   "cell_type": "code",
   "execution_count": null,
   "metadata": {},
   "outputs": [],
   "source": [
    "eye_tiles = []\n",
    "other_tiles = [] # let's make this 100 times bigger (and only sample around the fish)\n",
    "ssize = 32\n",
    "for ec in tqdm(eye_center):  \n",
    "    # create the tiles\n",
    "    ecy, ecx = ec['center']\n",
    "    # print(ec['center'])\n",
    "    tilex = int(ecx - ecx % ssize)\n",
    "    tiley = int(ecy - ecy % ssize)\n",
    "    img = io.imread(ec['local_path'])\n",
    "    tile = img[tilex:tilex+ssize, tiley:tiley+ssize]\n",
    "    if tile.shape[0] == ssize and tile.shape[1] == ssize: \n",
    "        io.imsave('/root/data/small_pen_data_collection/eyetiles32/{}_{}_{}.jpg'.format(os.path.basename(ec['local_path']),\n",
    "                                                                                      int(ecx%ssize), int(ecy%ssize)), tile)\n",
    "    eye_tile = [tile,\n",
    "                int(ecx%ssize),\n",
    "                int(ecy%ssize)]\n",
    "    eye_tiles.append(eye_tile)\n",
    "    \n",
    "    # get a random square close by\n",
    "    rex = list(range(tilex - 5*ssize, tilex, ssize)) + list(range(tilex + ssize, tilex + 5*ssize, ssize))\n",
    "    random_x= np.random.choice(rex, size=2, replace=False)\n",
    "    \n",
    "    rey = list(range(tiley - 5*ssize, tiley, ssize)) + list(range(tiley + ssize, tiley + 5*ssize, ssize))\n",
    "    random_y = np.random.choice(rey, size=2, replace=False)\n",
    "    \n",
    "    ct = 0\n",
    "    for x in random_x:\n",
    "        for y in random_y:\n",
    "            if x > 0 and y > 0 and x < 3000 and y < 4096:\n",
    "                tile = img[x:x+ssize, y:y+ssize]\n",
    "                if tile.shape[0] == ssize and tile.shape[1] == ssize:\n",
    "                    io.imsave('/root/data/small_pen_data_collection/othertiles32/{}_{}.jpg'.format(os.path.basename(ec['local_path']), ct), tile)\n",
    "                other_tiles.append([tile])\n",
    "                ct += 1\n"
   ]
  },
  {
   "cell_type": "code",
   "execution_count": null,
   "metadata": {},
   "outputs": [],
   "source": [
    "img = io.imread('/root/data/small_pen_data_collection/181001010008/right_small-pen-test-site_1_1538488944389.jpg')\n",
    "plt.imshow(img[1408:1408+64, 1152:1152+64, :])\n",
    "plt.show()"
   ]
  },
  {
   "cell_type": "code",
   "execution_count": null,
   "metadata": {},
   "outputs": [],
   "source": []
  },
  {
   "cell_type": "code",
   "execution_count": null,
   "metadata": {},
   "outputs": [],
   "source": [
    "print(len(eye_tiles))"
   ]
  },
  {
   "cell_type": "code",
   "execution_count": null,
   "metadata": {},
   "outputs": [],
   "source": [
    "print(len(other_tiles))"
   ]
  },
  {
   "cell_type": "code",
   "execution_count": null,
   "metadata": {},
   "outputs": [],
   "source": [
    "eye_tiles_x"
   ]
  },
  {
   "cell_type": "code",
   "execution_count": null,
   "metadata": {},
   "outputs": [],
   "source": [
    "eye_tiles_y"
   ]
  },
  {
   "cell_type": "code",
   "execution_count": null,
   "metadata": {},
   "outputs": [],
   "source": [
    "plt.imshow(image[1408:1408+64, 1152:1152+64])\n",
    "plt.show()"
   ]
  },
  {
   "cell_type": "code",
   "execution_count": null,
   "metadata": {},
   "outputs": [],
   "source": [
    "plt.imshow(image[1472:1472+64, 1152:1152+64])\n",
    "plt.show()"
   ]
  },
  {
   "cell_type": "code",
   "execution_count": null,
   "metadata": {},
   "outputs": [],
   "source": [
    "plt.imshow(image[1408:1408+128, 1152:1152+128])\n",
    "plt.show()"
   ]
  },
  {
   "cell_type": "code",
   "execution_count": null,
   "metadata": {},
   "outputs": [],
   "source": []
  },
  {
   "cell_type": "code",
   "execution_count": null,
   "metadata": {},
   "outputs": [],
   "source": [
    "def generator(eye_tiles, other_tiles, batch_size=32, nclasses=2, ssize=64):\n",
    "    # image_resize = cv2.resize(image, (192, 64))\n",
    "\n",
    "    while True:     \n",
    "        x_batch = np.zeros((batch_size, ssize, ssize, 3))\n",
    "        y_batch_class = np.zeros((batch_size, nclasses)) \n",
    "        y_batch_reg = np.zeros((batch_size, nclasses))\n",
    "        for i in range(batch_size):\n",
    "            coin = np.random.rand()\n",
    "            if coin > 0.5:\n",
    "                lab = eye_tiles[np.random.randint(len(eye_tiles))]\n",
    "                # random_tile = io.imread(lab[0])[lab[1]:lab[1]+64, lab[2]:lab[2]+64]\n",
    "                random_tile = lab[0]\n",
    "#                 y_batch_reg[i, 0] = lab[3]\n",
    "#                 y_batch_reg[i, 1] = lab[4]\n",
    "                y_batch_reg[i, 0] = lab[1]\n",
    "                y_batch_reg[i, 1] = lab[2]\n",
    "            else:\n",
    "                lab = other_tiles[np.random.randint(len(other_tiles))]\n",
    "                # random_tile = io.imread(lab[0])[lab[1]:lab[1]+64, lab[2]:lab[2]+64]\n",
    "                random_tile = lab[0]\n",
    "            x_batch[i,...] = random_tile\n",
    "            y_batch_class[i, int(np.round(coin))] = 1 # smart uh :)\n",
    "\n",
    "        yield x_batch, {\"class\": y_batch_class, \"reg\": y_batch_reg}\n",
    "        \n",
    "    \n",
    "    \n",
    "    "
   ]
  },
  {
   "cell_type": "markdown",
   "metadata": {},
   "source": [
    "# START HERE - CREATE GENERATOR\n",
    "\n"
   ]
  },
  {
   "cell_type": "code",
   "execution_count": null,
   "metadata": {},
   "outputs": [],
   "source": [
    "import glob\n",
    "import json\n",
    "import os\n",
    "\n",
    "import matplotlib.pyplot as plt\n",
    "import matplotlib.patches as patches\n",
    "import numpy as np\n",
    "import skimage.io as io\n",
    "from pycocotools.coco import COCO\n",
    "\n",
    "import cv2\n",
    "import numpy as np"
   ]
  },
  {
   "cell_type": "code",
   "execution_count": null,
   "metadata": {},
   "outputs": [],
   "source": [
    "def generator(eye_tiles, other_tiles, batch_size=16, nclasses=2, ssize=64):\n",
    "    while True:    \n",
    "        x_batch = np.zeros((batch_size, ssize, ssize, 3))\n",
    "        y_batch_class = np.zeros((batch_size, nclasses)) \n",
    "        y_batch_reg = np.zeros((batch_size, nclasses))\n",
    "        for i in range(batch_size):\n",
    "            coin = np.random.rand()\n",
    "            if coin > 0.5:\n",
    "                tile_path = np.random.choice(eye_tiles)\n",
    "                random_tile = io.imread(tile_path)\n",
    "                y_batch_reg[i, 0] = int(os.path.basename(tile_path).split('.')[-2].split('_')[1])\n",
    "                y_batch_reg[i, 1] = int(os.path.basename(tile_path).split('.')[-2].split('_')[2])\n",
    "            else:\n",
    "                tile_path = np.random.choice(other_tiles)\n",
    "                random_tile = io.imread(tile_path)\n",
    "            x_batch[i,...] = np.array(random_tile, dtype= np.uint8)\n",
    "            y_batch_class[i, int(np.round(coin))] = 1 # smart uh :)\n",
    "        x_batch = np.array(x_batch, dtype=np.uint8)\n",
    "        yield x_batch, {\"class\": y_batch_class, \"reg\": y_batch_reg}"
   ]
  },
  {
   "cell_type": "code",
   "execution_count": null,
   "metadata": {},
   "outputs": [],
   "source": [
    "ssize = 32"
   ]
  },
  {
   "cell_type": "code",
   "execution_count": null,
   "metadata": {},
   "outputs": [],
   "source": [
    "eye_tiles= glob.glob('/root/data/small_pen_data_collection/eyetiles32/*.jpg')\n",
    "other_tiles= glob.glob('/root/data/small_pen_data_collection/othertiles32/*.jpg')\n",
    "train_gen = generator(eye_tiles[:512], other_tiles[:1197], ssize=ssize)\n",
    "val_gen = generator(eye_tiles[512:], other_tiles[1197:], ssize=ssize)"
   ]
  },
  {
   "cell_type": "code",
   "execution_count": null,
   "metadata": {},
   "outputs": [],
   "source": [
    "xb, yb = next(train_gen)\n",
    "for i in range(32):\n",
    "    plt.imshow(xb[i, ...])\n",
    "    if np.argmax(yb[\"class\"][i, :]) == 0:\n",
    "        plt.title(\"random\")\n",
    "    else:\n",
    "        plt.title(\"eye\")\n",
    "    plt.show()"
   ]
  },
  {
   "cell_type": "code",
   "execution_count": null,
   "metadata": {},
   "outputs": [],
   "source": [
    "import keras\n",
    "from keras.layers import Conv2D, Flatten, Dense, Input, MaxPool2D, BatchNormalization\n",
    "from keras.models import Model\n",
    "from keras.optimizers import Adam "
   ]
  },
  {
   "cell_type": "code",
   "execution_count": null,
   "metadata": {},
   "outputs": [],
   "source": [
    "# !nvidia-smi"
   ]
  },
  {
   "cell_type": "code",
   "execution_count": null,
   "metadata": {},
   "outputs": [],
   "source": [
    "os.environ[\"CUDA_VISIBLE_DEVICES\"] = \"1\""
   ]
  },
  {
   "cell_type": "code",
   "execution_count": null,
   "metadata": {},
   "outputs": [],
   "source": [
    "inp = Input(shape=(ssize, ssize, 3))\n",
    "x = Conv2D(filters=64, kernel_size=(3, 3))(inp)\n",
    "x = Conv2D(filters=64, kernel_size=(3, 3))(x)\n",
    "x = Conv2D(filters=64, kernel_size=(3, 3))(x)\n",
    "x = MaxPool2D()(x)\n",
    "x = BatchNormalization()(x)\n",
    "\n",
    "x = Conv2D(filters=128, kernel_size=(3, 3))(x)\n",
    "x = Conv2D(filters=128, kernel_size=(3, 3))(x)\n",
    "x = Conv2D(filters=128, kernel_size=(3, 3))(x)\n",
    "x = MaxPool2D()(x)\n",
    "x = BatchNormalization()(x)\n",
    "\n",
    "x = Flatten()(x)\n",
    "x = Dense(128)(x)\n",
    "x = BatchNormalization()(x)\n",
    "x = Dense(256)(x)\n",
    "x = BatchNormalization()(x)\n",
    "\n",
    "classifer = Dense(2, activation=\"softmax\", name=\"class\")(x)\n",
    "regressor = Dense(2, activation=\"linear\", name=\"reg\")(x)\n",
    "\n",
    "model = Model(inputs=[inp], outputs=[classifer, regressor])\n",
    "# print(model.summary())"
   ]
  },
  {
   "cell_type": "code",
   "execution_count": null,
   "metadata": {},
   "outputs": [],
   "source": [
    "model.compile(optimizer=\"adam\", loss={\"class\": \"categorical_crossentropy\", \"reg\": \"mean_absolute_error\"})"
   ]
  },
  {
   "cell_type": "code",
   "execution_count": null,
   "metadata": {},
   "outputs": [],
   "source": [
    "history = model.fit_generator(train_gen,\n",
    "                    steps_per_epoch= 512 // 16, \n",
    "                    epochs=500,\n",
    "                    validation_data=val_gen,\n",
    "                    validation_steps=128// 16)"
   ]
  },
  {
   "cell_type": "markdown",
   "metadata": {},
   "source": [
    "# predict test"
   ]
  },
  {
   "cell_type": "code",
   "execution_count": null,
   "metadata": {},
   "outputs": [],
   "source": [
    "eye = xb[0, ...].squeeze().astype(dtype=np.uint8)\n",
    "plt.imshow(eye)\n",
    "plt.show()"
   ]
  },
  {
   "cell_type": "code",
   "execution_count": null,
   "metadata": {},
   "outputs": [],
   "source": [
    "# %matplotlib notebook "
   ]
  },
  {
   "cell_type": "code",
   "execution_count": null,
   "metadata": {},
   "outputs": [],
   "source": [
    "R = model.predict_on_batch(np.expand_dims(xb[0, ...], axis=0))"
   ]
  },
  {
   "cell_type": "code",
   "execution_count": null,
   "metadata": {},
   "outputs": [],
   "source": [
    "R[1]"
   ]
  },
  {
   "cell_type": "code",
   "execution_count": null,
   "metadata": {},
   "outputs": [],
   "source": [
    "im = fish_only\n",
    "ssize = 32\n",
    "tiles = [(im[x:x+ssize, y:y+ssize], labels[x:x+ssize, y:y+ssize], (x,y)) for x in range(0,im.shape[0], ssize) for y in range(0,im.shape[1], ssize)]"
   ]
  },
  {
   "cell_type": "code",
   "execution_count": null,
   "metadata": {},
   "outputs": [],
   "source": [
    "for t in tiles:\n",
    "    if np.sum(t[1]) > 0:\n",
    "        print(t[2])"
   ]
  },
  {
   "cell_type": "code",
   "execution_count": null,
   "metadata": {},
   "outputs": [],
   "source": [
    "f, ax = plt.subplots(figsize=(20, 10))\n",
    "ax.imshow(fish_only[200:800, : 800])\n",
    "# ax.margins(1000)\n",
    "circle = patches.Circle((414, 529-200), radius=10, color='r')\n",
    "ax.add_patch(circle)\n",
    "circle = patches.Circle((384+R[1].squeeze()[0], 512+R[1].squeeze()[1]-200), radius=10, color='b')\n",
    "ax.add_patch(circle)\n",
    "plt.show()"
   ]
  },
  {
   "cell_type": "code",
   "execution_count": null,
   "metadata": {},
   "outputs": [],
   "source": [
    "R"
   ]
  },
  {
   "cell_type": "code",
   "execution_count": null,
   "metadata": {},
   "outputs": [],
   "source": []
  }
 ],
 "metadata": {
  "kernelspec": {
   "display_name": "Python 3",
   "language": "python",
   "name": "python3"
  },
  "language_info": {
   "codemirror_mode": {
    "name": "ipython",
    "version": 3
   },
   "file_extension": ".py",
   "mimetype": "text/x-python",
   "name": "python",
   "nbconvert_exporter": "python",
   "pygments_lexer": "ipython3",
   "version": "3.5.2"
  }
 },
 "nbformat": 4,
 "nbformat_minor": 2
}
