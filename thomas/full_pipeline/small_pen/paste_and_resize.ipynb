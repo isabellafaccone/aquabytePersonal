{
 "cells": [
  {
   "cell_type": "code",
   "execution_count": null,
   "metadata": {},
   "outputs": [],
   "source": [
    "# takes left and right image, put them together and resize them for labelbox."
   ]
  },
  {
   "cell_type": "code",
   "execution_count": null,
   "metadata": {},
   "outputs": [],
   "source": [
    "import json\n",
    "import os\n",
    "import shutil\n",
    "import glob"
   ]
  },
  {
   "cell_type": "code",
   "execution_count": null,
   "metadata": {},
   "outputs": [],
   "source": [
    "results = json.load(open('/root/data/small_pen_data_collection/sotra-small-pen/pen-1/2018-10-01/detection_full.json'))"
   ]
  },
  {
   "cell_type": "code",
   "execution_count": null,
   "metadata": {},
   "outputs": [],
   "source": [
    "print(\"Number of images: {}\".format(len(results[\"images\"])))\n",
    "print(\"Number of annotations: {}\".format(len(results[\"annotations\"])))\n",
    "print(\"Number of unique annotations: {}\".format(len(list(set([k['image_id'] for k in results[\"annotations\"]])))))"
   ]
  },
  {
   "cell_type": "code",
   "execution_count": null,
   "metadata": {},
   "outputs": [],
   "source": [
    "# create image dic for faster search\n",
    "image_dic = {}\n",
    "for img in results[\"images\"]:\n",
    "    image_dic[img[\"id\"]] = img"
   ]
  },
  {
   "cell_type": "code",
   "execution_count": null,
   "metadata": {},
   "outputs": [],
   "source": [
    "# create ann dic for faster search\n",
    "ann_dic = {}\n",
    "for ann in results[\"annotations\"]:\n",
    "    ann_dic[ann[\"image_id\"]] = ann"
   ]
  },
  {
   "cell_type": "code",
   "execution_count": null,
   "metadata": {},
   "outputs": [],
   "source": [
    "# list all the images paths with detections\n",
    "paths = []\n",
    "for ann in results['annotations']:\n",
    "    img_path = image_dic[ann['image_id']][\"local_path\"]\n",
    "    paths.append((img_path, ann[\"image_id\"]))\n",
    "print(len(paths))"
   ]
  },
  {
   "cell_type": "code",
   "execution_count": null,
   "metadata": {},
   "outputs": [],
   "source": [
    "# # good pairs manually filtered\n",
    "# good_ts = []\n",
    "# for image_path in glob.glob('/root/data/headtail/good_pairs/*'):\n",
    "#     ts = int(os.path.basename(image_path).split('.')[0].split('_')[-1])\n",
    "#     good_ts.append(ts)\n",
    "# good_ts = list(set(good_ts))"
   ]
  },
  {
   "cell_type": "code",
   "execution_count": null,
   "metadata": {},
   "outputs": [],
   "source": [
    "# timestamps dict\n",
    "timestamps = {}\n",
    "for path in paths:\n",
    "    path0 = path[0]\n",
    "    ts = int(os.path.basename(path0).split('.')[0].split('_')[-1])\n",
    "#     if ts not in good_ts:\n",
    "#         continue\n",
    "    side = os.path.basename(path0).split('.')[0].split('_')[0]\n",
    "    if ts not in timestamps:\n",
    "        timestamps[ts] = {}\n",
    "    timestamps[ts][side] = path0\n",
    "    timestamps[ts][side + \"_id\"] = path[1]"
   ]
  },
  {
   "cell_type": "code",
   "execution_count": null,
   "metadata": {},
   "outputs": [],
   "source": [
    "good_pairs = [(k,v) for (k, v) in timestamps.items() if \"right\" in v and \"left\" in v]"
   ]
  },
  {
   "cell_type": "code",
   "execution_count": null,
   "metadata": {},
   "outputs": [],
   "source": [
    "print(\"Number of pairs: {}\".format(len(good_pairs)))"
   ]
  },
  {
   "cell_type": "markdown",
   "metadata": {},
   "source": [
    "#### STACK IMAGES"
   ]
  },
  {
   "cell_type": "code",
   "execution_count": null,
   "metadata": {},
   "outputs": [],
   "source": [
    "from PIL import Image\n",
    "import cv2\n",
    "import numpy as np\n",
    "import matplotlib.pyplot as plt"
   ]
  },
  {
   "cell_type": "code",
   "execution_count": null,
   "metadata": {},
   "outputs": [],
   "source": [
    "for gp in good_pairs:\n",
    "    left = cv2.imread(gp[1]['left'])\n",
    "    right = cv2.imread(gp[1]['right'])\n",
    "    conc = np.concatenate([right, left], axis=1)\n",
    "    conc = cv2.resize(conc, (1024, 375))\n",
    "    cv2.imwrite('/root/data/tolabelbox/{}.jpg'.format(gp[0]), conc)"
   ]
  },
  {
   "cell_type": "code",
   "execution_count": null,
   "metadata": {},
   "outputs": [],
   "source": []
  },
  {
   "cell_type": "code",
   "execution_count": null,
   "metadata": {},
   "outputs": [],
   "source": []
  },
  {
   "cell_type": "code",
   "execution_count": null,
   "metadata": {},
   "outputs": [],
   "source": []
  },
  {
   "cell_type": "code",
   "execution_count": null,
   "metadata": {},
   "outputs": [],
   "source": []
  },
  {
   "cell_type": "code",
   "execution_count": null,
   "metadata": {},
   "outputs": [],
   "source": []
  }
 ],
 "metadata": {
  "kernelspec": {
   "display_name": "Python 3",
   "language": "python",
   "name": "python3"
  },
  "language_info": {
   "codemirror_mode": {
    "name": "ipython",
    "version": 3
   },
   "file_extension": ".py",
   "mimetype": "text/x-python",
   "name": "python",
   "nbconvert_exporter": "python",
   "pygments_lexer": "ipython3",
   "version": "3.5.2"
  }
 },
 "nbformat": 4,
 "nbformat_minor": 2
}
