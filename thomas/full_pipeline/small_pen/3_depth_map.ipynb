{
 "cells": [
  {
   "cell_type": "code",
   "execution_count": null,
   "metadata": {},
   "outputs": [],
   "source": [
    "import matplotlib.pyplot as plt\n",
    "from PIL import Image\n",
    "import numpy as np\n",
    "import os\n",
    "import glob\n",
    "import random"
   ]
  },
  {
   "cell_type": "code",
   "execution_count": null,
   "metadata": {},
   "outputs": [],
   "source": [
    "base_dir = '/root/data/rnd/small_pen_data_collection/sotra-small-pen/pen-1/2018-10-01/'\n",
    "experiences = os.listdir(base_dir)\n",
    "all_image_path = []\n",
    "for experience in experiences:\n",
    "    folder_path = os.path.join(base_dir, experience)\n",
    "    if not os.path.isdir(folder_path):\n",
    "        continue\n",
    "    if \"rectified\" not in folder_path:\n",
    "        continue\n",
    "    if \"reference\" in folder_path:\n",
    "        continue\n",
    "    print(folder_path)\n",
    "    all_image_path += glob.glob(folder_path + '/*.jpg')"
   ]
  },
  {
   "cell_type": "code",
   "execution_count": null,
   "metadata": {},
   "outputs": [],
   "source": []
  },
  {
   "cell_type": "code",
   "execution_count": null,
   "metadata": {},
   "outputs": [],
   "source": []
  },
  {
   "cell_type": "code",
   "execution_count": null,
   "metadata": {},
   "outputs": [],
   "source": [
    "left_paths = [path for path in all_image_path if \"left\" in path]\n",
    "right_paths = [path for path in all_image_path if \"right\" in path]"
   ]
  },
  {
   "cell_type": "code",
   "execution_count": null,
   "metadata": {},
   "outputs": [],
   "source": [
    "# problem dict\n",
    "timestamps = {}\n",
    "for path in left_paths + right_paths:\n",
    "    ts = int(os.path.basename(path).split('.')[0].split('_')[-1])\n",
    "    side = os.path.basename(path).split('.')[0].split('_')[0]\n",
    "    if ts not in timestamps:\n",
    "        timestamps[ts] = {}\n",
    "    timestamps[ts][side] = path"
   ]
  },
  {
   "cell_type": "code",
   "execution_count": null,
   "metadata": {},
   "outputs": [],
   "source": [
    "timestamps[1538489067394]"
   ]
  },
  {
   "cell_type": "code",
   "execution_count": null,
   "metadata": {},
   "outputs": [],
   "source": []
  },
  {
   "cell_type": "code",
   "execution_count": null,
   "metadata": {},
   "outputs": [],
   "source": [
    "timestamps[1538489067394]"
   ]
  },
  {
   "cell_type": "code",
   "execution_count": null,
   "metadata": {},
   "outputs": [],
   "source": [
    "print(\"number of unique timestamps: {}\".format(len(timestamps.keys())))\n",
    "print(\"number of left images: {}\".format(len([v for (k, v) in timestamps.items() if \"left\" in v])))\n",
    "print(\"number of right images: {}\".format(len([v for (k, v) in timestamps.items() if \"right\" in v])))\n",
    "print(\"number of pairs: {}\".format(len([v for (k, v) in timestamps.items() if \"right\" in v and \"left\" in v])))"
   ]
  },
  {
   "cell_type": "code",
   "execution_count": null,
   "metadata": {},
   "outputs": [],
   "source": [
    "# good_timestamps = [k for (k, v) in timestamps.items() if \"right\" in v and \"left\" in v]\n",
    "# random.shuffle(good_timestamps)\n",
    "# for ts in sorted(good_timestamps)[::20]:\n",
    "#     f, ax = plt.subplots(1, 2, figsize=(20, 10))\n",
    "#     ax[0].imshow(Image.open(timestamps[ts][\"left\"]))\n",
    "#     ax[0].set_title(os.path.basename(timestamps[ts][\"left\"]))\n",
    "#     ax[1].imshow(Image.open(timestamps[ts][\"right\"]))\n",
    "#     ax[1].set_title(os.path.basename(timestamps[ts][\"right\"]))\n",
    "#     plt.show()"
   ]
  },
  {
   "cell_type": "markdown",
   "metadata": {},
   "source": [
    "# Good timestamps"
   ]
  },
  {
   "cell_type": "code",
   "execution_count": null,
   "metadata": {},
   "outputs": [],
   "source": [
    "import matplotlib.pyplot as plt\n",
    "from PIL import Image\n",
    "import numpy as np\n",
    "import os\n",
    "import glob\n",
    "import random"
   ]
  },
  {
   "cell_type": "code",
   "execution_count": null,
   "metadata": {},
   "outputs": [],
   "source": [
    "import cv2\n",
    "import matplotlib.pyplot as plt\n",
    "import numpy as np\n",
    "from PIL import ImageEnhance, Image"
   ]
  },
  {
   "cell_type": "code",
   "execution_count": null,
   "metadata": {},
   "outputs": [],
   "source": []
  },
  {
   "cell_type": "code",
   "execution_count": null,
   "metadata": {},
   "outputs": [],
   "source": [
    "gts = [1538488443304, 1538490326518, 1538490391517, 1538490265523, 1538489067394, 1538488937389, 1538481726307, \\\n",
    "       1538480699071, 1538480558066, 1538480527062, 1538478899989, 1538475860168]"
   ]
  },
  {
   "cell_type": "code",
   "execution_count": null,
   "metadata": {},
   "outputs": [],
   "source": [
    "for ts in gts:\n",
    "    f, ax = plt.subplots(1, 2, figsize=(20, 10))\n",
    "    ax[0].imshow(Image.open(timestamps[ts][\"left\"]))\n",
    "    ax[0].set_title(os.path.basename(timestamps[ts][\"left\"]))\n",
    "    ax[1].imshow(Image.open(timestamps[ts][\"right\"]))\n",
    "    ax[1].set_title(os.path.basename(timestamps[ts][\"right\"]))\n",
    "    plt.show()"
   ]
  },
  {
   "cell_type": "code",
   "execution_count": null,
   "metadata": {},
   "outputs": [],
   "source": [
    "timestamps[1538489067394]"
   ]
  },
  {
   "cell_type": "markdown",
   "metadata": {},
   "source": [
    "### first timestamp 1538490326518"
   ]
  },
  {
   "cell_type": "code",
   "execution_count": null,
   "metadata": {},
   "outputs": [],
   "source": [
    "disp_pp = np.load('/root/data/rnd/small_pen_data_collection/sotra-small-pen/pen-1/2018-10-01/181001010010_rectified/left_sotra-small-pen_0_1538490326518_disp.npy')"
   ]
  },
  {
   "cell_type": "code",
   "execution_count": null,
   "metadata": {},
   "outputs": [],
   "source": [
    "plt.imshow(disp_pp)\n",
    "plt.colorbar()\n",
    "plt.show()"
   ]
  },
  {
   "cell_type": "code",
   "execution_count": null,
   "metadata": {},
   "outputs": [],
   "source": [
    "Image.open('/root/data/rnd/small_pen_data_collection/sotra-small-pen/pen-1/2018-10-01/181001010010_rectified/left_sotra-small-pen_0_1538490326518.jpg').resize((512, 256))"
   ]
  },
  {
   "cell_type": "code",
   "execution_count": null,
   "metadata": {},
   "outputs": [],
   "source": [
    "timestamps[ts][\"left\"]"
   ]
  },
  {
   "cell_type": "code",
   "execution_count": null,
   "metadata": {},
   "outputs": [],
   "source": [
    "ts = 1538490326518\n",
    "f, ax = plt.subplots(1, 2, figsize=(20, 10))\n",
    "ax[0].imshow(Image.open(timestamps[ts][\"left\"]))\n",
    "ax[0].set_title(os.path.basename(timestamps[ts][\"left\"]))\n",
    "ax[1].imshow(Image.open(timestamps[ts][\"right\"]))\n",
    "ax[1].set_title(os.path.basename(timestamps[ts][\"right\"]))\n",
    "plt.show()"
   ]
  },
  {
   "cell_type": "code",
   "execution_count": null,
   "metadata": {},
   "outputs": [],
   "source": [
    "left_img = np.array(Image.open(timestamps[ts][\"right\"]))\n",
    "left_crop = left_img[500:1250, 700:1200]\n",
    "# left_bbox = "
   ]
  },
  {
   "cell_type": "code",
   "execution_count": null,
   "metadata": {},
   "outputs": [],
   "source": [
    "plt.imshow(left_crop)\n",
    "plt.plot([0, 499], [400, 400])\n",
    "plt.show()"
   ]
  },
  {
   "cell_type": "code",
   "execution_count": null,
   "metadata": {},
   "outputs": [],
   "source": [
    "right_img = np.array(Image.open(timestamps[ts][\"left\"]))\n",
    "right_crop = right_img[500:1250, :500]"
   ]
  },
  {
   "cell_type": "code",
   "execution_count": null,
   "metadata": {},
   "outputs": [],
   "source": [
    "plt.imshow(right_crop)\n",
    "plt.plot([0, 499], [400, 400])\n",
    "plt.show()"
   ]
  },
  {
   "cell_type": "code",
   "execution_count": null,
   "metadata": {},
   "outputs": [],
   "source": []
  },
  {
   "cell_type": "code",
   "execution_count": null,
   "metadata": {},
   "outputs": [],
   "source": []
  },
  {
   "cell_type": "code",
   "execution_count": null,
   "metadata": {},
   "outputs": [],
   "source": [
    "cv2.__version__"
   ]
  },
  {
   "cell_type": "code",
   "execution_count": null,
   "metadata": {},
   "outputs": [],
   "source": [
    "min_disparity=32\n",
    "num_disp=160\n",
    "sad_window_size=3\n",
    "uniqueness=10\n",
    "speckle_window_size=15\n",
    "speckle_range=32\n",
    "p1=216\n",
    "p2=864\n",
    "max_disparity=1\n",
    "full_dp=False"
   ]
  },
  {
   "cell_type": "code",
   "execution_count": null,
   "metadata": {},
   "outputs": [],
   "source": [
    "# small_left = cv2.resize(left_crop, (500, 100))\n",
    "# small_right = cv2.resize(right_crop, (500, 100))\n",
    "# plt.imshow(small_left)\n",
    "# plt.show()\n",
    "# plt.imshow(small_right)\n",
    "# plt.show()"
   ]
  },
  {
   "cell_type": "code",
   "execution_count": null,
   "metadata": {},
   "outputs": [],
   "source": [
    "# enhancer = ImageEnhance.Contrast(Image.fromarray(right_crop))\n",
    "# factor = 2.0\n",
    "# right_crop = np.array(enhancer.enhance(factor))\n",
    "# plt.imshow(right_crop)"
   ]
  },
  {
   "cell_type": "code",
   "execution_count": null,
   "metadata": {},
   "outputs": [],
   "source": [
    "# enhancer = ImageEnhance.Contrast(Image.fromarray(left_crop))\n",
    "# factor = 2.0\n",
    "# left_crop = np.array(enhancer.enhance(factor))\n",
    "# plt.imshow(left_crop)"
   ]
  },
  {
   "cell_type": "code",
   "execution_count": null,
   "metadata": {},
   "outputs": [],
   "source": [
    "# SGBM Parameters -----------------\n",
    "window_size = 15                     # wsize default 3; 5; 7 for SGBM reduced size image; 15 for SGBM full size image (1300px and above); 5 Works nicely\n",
    " \n",
    "left_matcher = cv2.StereoSGBM_create(\n",
    "    minDisparity=0,\n",
    "    numDisparities=160,             # max_disp has to be dividable by 16 f. E. HH 192, 256\n",
    "    blockSize=5,\n",
    "    P1=8 * 3 * window_size ** 2,    # wsize default 3; 5; 7 for SGBM reduced size image; 15 for SGBM full size image (1300px and above); 5 Works nicely\n",
    "    P2=32 * 3 * window_size ** 2,\n",
    "    disp12MaxDiff=1,\n",
    "    uniquenessRatio=15,\n",
    "    speckleWindowSize=0,\n",
    "    speckleRange=2,\n",
    "    preFilterCap=63,\n",
    "    mode=cv2.STEREO_SGBM_MODE_SGBM_3WAY\n",
    ")"
   ]
  },
  {
   "cell_type": "code",
   "execution_count": null,
   "metadata": {},
   "outputs": [],
   "source": [
    "print('computing disparity...')\n",
    "displ = left_matcher.compute(left_crop, right_crop)  # .astype(np.float32)/16\n",
    "right_matcher = cv2.ximgproc.createRightMatcher(left_matcher)"
   ]
  },
  {
   "cell_type": "code",
   "execution_count": null,
   "metadata": {},
   "outputs": [],
   "source": [
    "# FILTER Parameters\n",
    "lmbda = 80000\n",
    "sigma = 1.2\n",
    "visual_multiplier = 1.0\n",
    " \n",
    "wls_filter = cv2.ximgproc.createDisparityWLSFilter(matcher_left=left_matcher)\n",
    "wls_filter.setLambda(lmbda)\n",
    "wls_filter.setSigmaColor(sigma)"
   ]
  },
  {
   "cell_type": "code",
   "execution_count": null,
   "metadata": {},
   "outputs": [],
   "source": [
    "print('computing disparity...')\n",
    "displ = left_matcher.compute(left_crop, right_crop)  # .astype(np.float32)/16\n",
    "dispr = right_matcher.compute(left_crop, right_crop)  # .astype(np.float32)/16\n",
    "displ = np.int16(displ)\n",
    "dispr = np.int16(dispr)\n",
    "filteredImg = wls_filter.filter(displ, left_crop, None, dispr)  # important to put \"imgL\" here!!!"
   ]
  },
  {
   "cell_type": "code",
   "execution_count": null,
   "metadata": {},
   "outputs": [],
   "source": [
    "filteredImg = cv2.normalize(src=filteredImg, dst=filteredImg, beta=0, alpha=255, norm_type=cv2.NORM_MINMAX);\n",
    "filteredImg = np.uint8(filteredImg)"
   ]
  },
  {
   "cell_type": "code",
   "execution_count": null,
   "metadata": {},
   "outputs": [],
   "source": [
    "plt.imshow(displ)\n",
    "plt.colorbar()\n",
    "plt.show()"
   ]
  },
  {
   "cell_type": "code",
   "execution_count": null,
   "metadata": {},
   "outputs": [],
   "source": [
    "focal_length = 0.0107\n",
    "baseline = 0.135\n",
    "pixel_size_m = 3.45 * 1e-6 \n",
    "focal_length_pixel = focal_length / pixel_size_m"
   ]
  },
  {
   "cell_type": "code",
   "execution_count": null,
   "metadata": {},
   "outputs": [],
   "source": [
    "depth = focal_length_pixel*baseline / disp_pp"
   ]
  },
  {
   "cell_type": "code",
   "execution_count": null,
   "metadata": {},
   "outputs": [],
   "source": [
    "plt.imshow(depth)\n",
    "plt.colorbar()\n",
    "plt.clim([0, 10000])\n",
    "plt.show()"
   ]
  },
  {
   "cell_type": "markdown",
   "metadata": {},
   "source": [
    "#  TRY MONODEPTH"
   ]
  },
  {
   "cell_type": "code",
   "execution_count": null,
   "metadata": {},
   "outputs": [],
   "source": [
    "good_timestamps = [k for (k, v) in timestamps.items() if \"right\" in v and \"left\" in v]"
   ]
  },
  {
   "cell_type": "code",
   "execution_count": null,
   "metadata": {},
   "outputs": [],
   "source": [
    "f = open('/root/thomas/github/monodepth/small_pen.txt', 'w')\n",
    "for ts in good_timestamps:\n",
    "    left = timestamps[ts]['right']\n",
    "    right = timestamps[ts]['left']\n",
    "    f.write(left + ' ' + right + '\\n')"
   ]
  },
  {
   "cell_type": "code",
   "execution_count": null,
   "metadata": {},
   "outputs": [],
   "source": []
  }
 ],
 "metadata": {
  "kernelspec": {
   "display_name": "Python 3",
   "language": "python",
   "name": "python3"
  },
  "language_info": {
   "codemirror_mode": {
    "name": "ipython",
    "version": 3
   },
   "file_extension": ".py",
   "mimetype": "text/x-python",
   "name": "python",
   "nbconvert_exporter": "python",
   "pygments_lexer": "ipython3",
   "version": "3.5.2"
  }
 },
 "nbformat": 4,
 "nbformat_minor": 2
}
