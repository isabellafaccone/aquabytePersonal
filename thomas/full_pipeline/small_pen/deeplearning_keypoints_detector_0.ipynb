{
 "cells": [
  {
   "cell_type": "code",
   "execution_count": null,
   "metadata": {},
   "outputs": [],
   "source": [
    "import glob\n",
    "import json\n",
    "import os\n",
    "\n",
    "import matplotlib.pyplot as plt\n",
    "import matplotlib.patches as patches\n",
    "import skimage.io as io\n",
    "from pycocotools.coco import COCO"
   ]
  },
  {
   "cell_type": "markdown",
   "metadata": {},
   "source": [
    "## #0 Look at the labels"
   ]
  },
  {
   "cell_type": "code",
   "execution_count": null,
   "metadata": {},
   "outputs": [],
   "source": [
    "json_path = '/root/data/small_pen_data_collection/body_parts_keypoints_experiment_labeled.json'"
   ]
  },
  {
   "cell_type": "code",
   "execution_count": null,
   "metadata": {},
   "outputs": [],
   "source": [
    "# # coco fix\n",
    "# cocofile = json.load(open(json_path))\n",
    "\n",
    "# images = glob.glob('/root/data/small_pen_data_collection/*_rectified/*.jpg')\n",
    "# image_dict = {}\n",
    "# for img in images:\n",
    "#     image_dict[os.path.basename(img)] = img\n",
    "    \n",
    "# for img in cocofile:\n",
    "#     img_name = img['Labeled Data'].split('%2F')[-1].split('?')[0]\n",
    "#     img['local_path'] = image_dict[img_name]\n",
    "    \n",
    "# with open(json_path, 'w') as f:\n",
    "#     json.dump(cocofile, f)"
   ]
  },
  {
   "cell_type": "code",
   "execution_count": null,
   "metadata": {},
   "outputs": [],
   "source": [
    "image_data = json.load(open(json_path))[0]"
   ]
  },
  {
   "cell_type": "code",
   "execution_count": null,
   "metadata": {},
   "outputs": [],
   "source": [
    "json.load(open(json_path))"
   ]
  },
  {
   "cell_type": "code",
   "execution_count": null,
   "metadata": {},
   "outputs": [],
   "source": [
    "image = io.imread(image_data['local_path'])[1300:2580, :]\n",
    "# image = cv2.resize(image, (192, 64))\n",
    "xratio = 192 / 4096 \n",
    "yratio = 64 / 3000\n",
    "f ,ax = plt.subplots(1, figsize=(20, 20))\n",
    "ax.imshow(image); \n",
    "\n",
    "for (class_name, point) in image_data['Label'].items():\n",
    "    print(class_name)\n",
    "    if class_name == 'Mouth ':\n",
    "        continue\n",
    "    loc = point[0]['geometry']\n",
    "    # print(loc)\n",
    "    # print(loc['x'], loc['y']-1300)\n",
    "    print(loc['x'], loc['y']-1300)\n",
    "    circle = patches.Circle((loc['x'], loc['y']-1300), radius=10, color='r')\n",
    "    ax.add_patch(circle)\n",
    "    # ax.text(loc['x'], loc['y']-10, class_name, fontsize=16, color='w')\n",
    "# plt.axis('off')\n",
    "plt.show()"
   ]
  },
  {
   "cell_type": "code",
   "execution_count": null,
   "metadata": {},
   "outputs": [],
   "source": [
    "image_data['Label']"
   ]
  },
  {
   "cell_type": "code",
   "execution_count": null,
   "metadata": {},
   "outputs": [],
   "source": [
    "image_data"
   ]
  },
  {
   "cell_type": "markdown",
   "metadata": {},
   "source": [
    "## #1 First approach - images chunks"
   ]
  },
  {
   "cell_type": "code",
   "execution_count": null,
   "metadata": {},
   "outputs": [],
   "source": [
    "import cv2\n",
    "import numpy as np"
   ]
  },
  {
   "cell_type": "code",
   "execution_count": null,
   "metadata": {},
   "outputs": [],
   "source": [
    "# focus on eye detection first"
   ]
  },
  {
   "cell_type": "code",
   "execution_count": null,
   "metadata": {},
   "outputs": [],
   "source": [
    "fish_only = io.imread(image_data['local_path'])[1300:2580, :]\n",
    "labels = np.zeros((fish_only.shape[0], fish_only.shape[1]))\n",
    "c = 1\n",
    "for (class_name, point) in image_data['Label'].items():\n",
    "    if class_name != 'Eye Center':\n",
    "        continue\n",
    "    print(class_name, c)\n",
    "    loc = point[0]['geometry']\n",
    "    labels[loc['y']-1300, loc['x']] = c\n",
    "    c += 1"
   ]
  },
  {
   "cell_type": "code",
   "execution_count": null,
   "metadata": {},
   "outputs": [],
   "source": [
    "nclasses = 1"
   ]
  },
  {
   "cell_type": "code",
   "execution_count": null,
   "metadata": {},
   "outputs": [],
   "source": [
    "def generator(image, labels, batch_size=32):\n",
    "    # image_resize = cv2.resize(image, (192, 64))\n",
    "    im = image\n",
    "    ssize = 64\n",
    "    tiles = [(im[x:x+ssize, y:y+ssize], labels[x:x+ssize, y:y+ssize]) for x in range(0,im.shape[0], ssize) for y in range(0,im.shape[1], ssize)]\n",
    "    dic = {}\n",
    "    for tile in tiles:\n",
    "        if np.sum(tile[1]) not in dic:\n",
    "            dic[np.sum(tile[1])] = []\n",
    "        dic[np.sum(tile[1])].append(tile)\n",
    "    while True:\n",
    "        x_batch = np.zeros((batch_size, ssize, ssize, 3))\n",
    "        y_batch_class = np.zeros((batch_size, 2)) # class + dx + dx\n",
    "        y_batch_reg = np.zeros((batch_size, 2))\n",
    "        for i in range(batch_size):\n",
    "            rk = np.random.choice(list(dic.keys()))\n",
    "            random_tuple = dic[rk][np.random.randint(0, len(dic[rk]))]\n",
    "            random_tile = random_tuple[0]\n",
    "            random_reg = random_tuple[1]\n",
    "            random_class = np.sum(random_reg)\n",
    "            x_batch[i,...] = random_tile\n",
    "            y_batch_class[i, int(random_class)] = 1\n",
    "            if random_class > 0:\n",
    "                y_batch_reg[i, 0] = np.nonzero(random_reg)[0][0]\n",
    "                y_batch_reg[i, 1] = np.nonzero(random_reg)[1][0]\n",
    "        yield x_batch, {\"class\": y_batch_class, \"reg\": y_batch_reg}\n",
    "        \n",
    "    \n",
    "    \n",
    "    "
   ]
  },
  {
   "cell_type": "code",
   "execution_count": null,
   "metadata": {},
   "outputs": [],
   "source": [
    "gen = generator(fish_only, labels)"
   ]
  },
  {
   "cell_type": "code",
   "execution_count": null,
   "metadata": {},
   "outputs": [],
   "source": [
    "xb, yb = next(gen)"
   ]
  },
  {
   "cell_type": "code",
   "execution_count": null,
   "metadata": {},
   "outputs": [],
   "source": [
    "yb[\"class\"].shape"
   ]
  },
  {
   "cell_type": "code",
   "execution_count": null,
   "metadata": {},
   "outputs": [],
   "source": [
    "yb[\"reg\"].shape"
   ]
  },
  {
   "cell_type": "code",
   "execution_count": null,
   "metadata": {},
   "outputs": [],
   "source": [
    "import keras\n",
    "from keras.layers import Conv2D, Flatten, Dense, Input, MaxPool2D, BatchNormalization\n",
    "from keras.models import Model\n",
    "from keras.optimizers import Adam "
   ]
  },
  {
   "cell_type": "code",
   "execution_count": null,
   "metadata": {},
   "outputs": [],
   "source": [
    "os.environ[\"CUDA_VISIBLE_DEVICES\"] = \"3\""
   ]
  },
  {
   "cell_type": "code",
   "execution_count": null,
   "metadata": {},
   "outputs": [],
   "source": [
    "inp = Input(shape=(64, 64, 3))\n",
    "x = Conv2D(filters=64, kernel_size=(3, 3))(inp)\n",
    "x = Conv2D(filters=64, kernel_size=(3, 3))(x)\n",
    "x = Conv2D(filters=64, kernel_size=(3, 3))(x)\n",
    "x = MaxPool2D()(x)\n",
    "x = BatchNormalization()(x)\n",
    "\n",
    "x = Conv2D(filters=128, kernel_size=(3, 3))(x)\n",
    "x = Conv2D(filters=128, kernel_size=(3, 3))(x)\n",
    "x = Conv2D(filters=128, kernel_size=(3, 3))(x)\n",
    "x = MaxPool2D()(x)\n",
    "x = BatchNormalization()(x)\n",
    "\n",
    "x = Flatten()(x)\n",
    "x = Dense(128)(x)\n",
    "x = BatchNormalization()(x)\n",
    "x = Dense(256)(x)\n",
    "x = BatchNormalization()(x)\n",
    "\n",
    "classifer = Dense(2, activation=\"softmax\", name=\"class\")(x)\n",
    "regressor = Dense(2, activation=\"linear\", name=\"reg\")(x)\n",
    "\n",
    "model = Model(inputs=[inp], outputs=[classifer, regressor])\n",
    "print(model.summary())"
   ]
  },
  {
   "cell_type": "code",
   "execution_count": null,
   "metadata": {},
   "outputs": [],
   "source": [
    "model.compile(optimizer=\"adam\", loss={\"class\": \"categorical_crossentropy\", \"reg\": \"mean_absolute_error\"})"
   ]
  },
  {
   "cell_type": "code",
   "execution_count": null,
   "metadata": {},
   "outputs": [],
   "source": [
    "model.fit_generator(gen,steps_per_epoch=10, epochs=100)"
   ]
  },
  {
   "cell_type": "markdown",
   "metadata": {},
   "source": [
    "# predict test"
   ]
  },
  {
   "cell_type": "code",
   "execution_count": null,
   "metadata": {},
   "outputs": [],
   "source": [
    "eye = xb[0, ...].squeeze().astype(dtype=np.uint8)\n",
    "plt.imshow(eye)\n",
    "plt.show()"
   ]
  },
  {
   "cell_type": "code",
   "execution_count": null,
   "metadata": {},
   "outputs": [],
   "source": [
    "# %matplotlib notebook "
   ]
  },
  {
   "cell_type": "code",
   "execution_count": null,
   "metadata": {},
   "outputs": [],
   "source": [
    "R = model.predict_on_batch(np.expand_dims(xb[0, ...], axis=0))"
   ]
  },
  {
   "cell_type": "code",
   "execution_count": null,
   "metadata": {},
   "outputs": [],
   "source": [
    "R[1]"
   ]
  },
  {
   "cell_type": "code",
   "execution_count": null,
   "metadata": {},
   "outputs": [],
   "source": [
    "im = fish_only\n",
    "ssize = 32\n",
    "tiles = [(im[x:x+ssize, y:y+ssize], labels[x:x+ssize, y:y+ssize], (x,y)) for x in range(0,im.shape[0], ssize) for y in range(0,im.shape[1], ssize)]"
   ]
  },
  {
   "cell_type": "code",
   "execution_count": null,
   "metadata": {},
   "outputs": [],
   "source": [
    "for t in tiles:\n",
    "    if np.sum(t[1]) > 0:\n",
    "        print(t[2])"
   ]
  },
  {
   "cell_type": "code",
   "execution_count": null,
   "metadata": {},
   "outputs": [],
   "source": [
    "f, ax = plt.subplots(figsize=(20, 10))\n",
    "ax.imshow(fish_only[200:800, : 800])\n",
    "# ax.margins(1000)\n",
    "circle = patches.Circle((414, 529-200), radius=10, color='r')\n",
    "ax.add_patch(circle)\n",
    "circle = patches.Circle((384+R[1].squeeze()[0], 512+R[1].squeeze()[1]-200), radius=10, color='b')\n",
    "ax.add_patch(circle)\n",
    "plt.show()"
   ]
  },
  {
   "cell_type": "code",
   "execution_count": null,
   "metadata": {},
   "outputs": [],
   "source": [
    "R"
   ]
  },
  {
   "cell_type": "code",
   "execution_count": null,
   "metadata": {},
   "outputs": [],
   "source": []
  }
 ],
 "metadata": {
  "kernelspec": {
   "display_name": "Python 3",
   "language": "python",
   "name": "python3"
  },
  "language_info": {
   "codemirror_mode": {
    "name": "ipython",
    "version": 3
   },
   "file_extension": ".py",
   "mimetype": "text/x-python",
   "name": "python",
   "nbconvert_exporter": "python",
   "pygments_lexer": "ipython3",
   "version": "3.5.2"
  }
 },
 "nbformat": 4,
 "nbformat_minor": 2
}
