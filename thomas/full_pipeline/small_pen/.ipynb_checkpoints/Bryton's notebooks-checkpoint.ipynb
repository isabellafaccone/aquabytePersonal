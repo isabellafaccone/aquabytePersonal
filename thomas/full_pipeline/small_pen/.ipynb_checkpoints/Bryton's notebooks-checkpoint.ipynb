{
 "cells": [
  {
   "cell_type": "code",
   "execution_count": null,
   "metadata": {},
   "outputs": [],
   "source": [
    "import pandas as pd\n",
    "import numpy as np\n",
    "from sklearn.decomposition import PCA\n",
    "import matplotlib.pyplot as plt\n",
    "import statsmodels.api as sm"
   ]
  },
  {
   "cell_type": "code",
   "execution_count": null,
   "metadata": {},
   "outputs": [],
   "source": [
    "df = pd.read_csv('./dataset_complete.csv')\n",
    "\n",
    "new_df = df.dropna()\n",
    "\n",
    "my_mean = new_df.mean()\n",
    "#my_sd = np.std(new_df, axis=0)\n",
    "\n",
    "#print(my_mean)\n",
    "\n",
    "means = []\n",
    "stds = []\n",
    "\n",
    "for x in df.columns[1:-1]:\n",
    "    new_df[x] = new_df[x] - new_df[x].mean()\n",
    "    new_df[x] = new_df[x] / new_df[x].std()\n",
    "    \n",
    "new_df"
   ]
  },
  {
   "cell_type": "code",
   "execution_count": null,
   "metadata": {},
   "outputs": [],
   "source": [
    "my_df = new_df.loc[:, '12':'89']\n",
    "\n",
    "array_subset = (my_df > 1).any(axis=1) == False\n",
    "\n",
    "my_df = my_df.loc[array_subset, :]\n",
    "\n",
    "Y = new_df['ground_truth'][array_subset]\n",
    "\n",
    "print(my_df.shape, Y.shape)\n"
   ]
  },
  {
   "cell_type": "code",
   "execution_count": null,
   "metadata": {},
   "outputs": [],
   "source": [
    "pca = PCA(n_components=5)\n",
    "\n",
    "pca.fit(my_df)"
   ]
  },
  {
   "cell_type": "code",
   "execution_count": null,
   "metadata": {},
   "outputs": [],
   "source": [
    "eigenvalues = pca.explained_variance_ratio_\n",
    "print(np.sum(eigenvalues))"
   ]
  },
  {
   "cell_type": "code",
   "execution_count": null,
   "metadata": {},
   "outputs": [],
   "source": [
    "components = pca.components_\n",
    "\n",
    "newX = np.dot(my_df, components.T)\n",
    "\n",
    "newX\n",
    "\n",
    "#outlierIndices = np.where(newX[:,0] > 10)\n",
    "#my_indices = my_df.index[outlierIndices[0]]\n",
    "\n",
    "\n",
    "#my_df.loc[my_indices,:]"
   ]
  },
  {
   "cell_type": "code",
   "execution_count": null,
   "metadata": {},
   "outputs": [],
   "source": [
    "plt.scatter(newX[:,4], Y)#plt.scatter(np.log(newX[:,0]),np.log(Y))\n",
    "plt.show()"
   ]
  },
  {
   "cell_type": "code",
   "execution_count": null,
   "metadata": {},
   "outputs": [],
   "source": [
    "#myX = newX[:, 0]\n",
    "myX = newX\n",
    "myY = np.log(Y)\n",
    "\n",
    "#print(myX)\n",
    "#print(myY)\n",
    "\n",
    "model = sm.OLS(myY, myX).fit()\n",
    "predictions = model.predict(myX) # make the predictions by the model\n",
    "\n",
    "predY = np.exp(predictions)\n",
    "\n",
    "model.summary()\n",
    "\n",
    "error = predY - Y\n",
    "\n",
    "np.mean(np.abs(error))"
   ]
  },
  {
   "cell_type": "code",
   "execution_count": null,
   "metadata": {},
   "outputs": [],
   "source": []
  },
  {
   "cell_type": "code",
   "execution_count": null,
   "metadata": {},
   "outputs": [],
   "source": []
  }
 ],
 "metadata": {
  "kernelspec": {
   "display_name": "Python 3",
   "language": "python",
   "name": "python3"
  },
  "language_info": {
   "codemirror_mode": {
    "name": "ipython",
    "version": 3
   },
   "file_extension": ".py",
   "mimetype": "text/x-python",
   "name": "python",
   "nbconvert_exporter": "python",
   "pygments_lexer": "ipython3",
   "version": "3.5.2"
  }
 },
 "nbformat": 4,
 "nbformat_minor": 2
}
