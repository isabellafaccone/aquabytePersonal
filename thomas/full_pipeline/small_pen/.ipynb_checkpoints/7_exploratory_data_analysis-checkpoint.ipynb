{
 "cells": [
  {
   "cell_type": "code",
   "execution_count": null,
   "metadata": {},
   "outputs": [],
   "source": [
    "import pandas as pd\n",
    "import random\n",
    "import numpy as np\n",
    "from sklearn.model_selection import train_test_split\n",
    "from sklearn import datasets, linear_model\n",
    "from sklearn.metrics import mean_squared_error, r2_score\n",
    "import matplotlib.pyplot as plt"
   ]
  },
  {
   "cell_type": "code",
   "execution_count": null,
   "metadata": {},
   "outputs": [],
   "source": [
    "df = pd.read_csv('./dataset.csv')"
   ]
  },
  {
   "cell_type": "code",
   "execution_count": null,
   "metadata": {},
   "outputs": [],
   "source": [
    "df.shape"
   ]
  },
  {
   "cell_type": "code",
   "execution_count": null,
   "metadata": {},
   "outputs": [],
   "source": [
    "df.describe()"
   ]
  },
  {
   "cell_type": "code",
   "execution_count": null,
   "metadata": {},
   "outputs": [],
   "source": [
    "df.head()"
   ]
  },
  {
   "cell_type": "markdown",
   "metadata": {},
   "source": [
    "# Predictors distribution"
   ]
  },
  {
   "cell_type": "code",
   "execution_count": null,
   "metadata": {},
   "outputs": [],
   "source": [
    "from pycocotools.coco import COCO\n",
    "import skimage.io as io\n",
    "from utils import get_local_dic, get_pairs\n",
    "import matplotlib.patches as patches\n",
    "import json"
   ]
  },
  {
   "cell_type": "code",
   "execution_count": null,
   "metadata": {},
   "outputs": [],
   "source": [
    "local_dic = get_local_dic()"
   ]
  },
  {
   "cell_type": "code",
   "execution_count": null,
   "metadata": {},
   "outputs": [],
   "source": [
    "outliers_dic = {}\n",
    "for col_ind in range(1, 38):\n",
    "    col_values = np.array(df.iloc[:, col_ind])\n",
    "    plt.hist(col_values[~np.isnan(col_values)])\n",
    "    plt.title('{}'.format(list(df.columns)[col_ind]))\n",
    "    plt.show()\n",
    "    \n",
    "    # get some stats\n",
    "    mean = np.nanmean(col_values)\n",
    "    std = np.nanstd(col_values)\n",
    "    \n",
    "    thresh = mean + 3*std\n",
    "    outliers = np.count_nonzero(col_values[col_values>thresh])\n",
    "    outliers_index = np.nonzero(col_values>thresh)\n",
    "    outliers_images = list(np.array(df.iloc[:, -1])[outliers_index])\n",
    "    for oi in outliers_images:\n",
    "        if oi not in outliers_dic:\n",
    "            outliers_dic[oi] = []\n",
    "        outliers_dic[oi].append(list(df.columns)[col_ind])\n",
    "    \n",
    "    print('Mean: {}'.format(mean))\n",
    "    print('Std: {}'.format(std))\n",
    "    print('Outliers number: {}'.format(outliers))\n",
    "    print('#'*100)\n"
   ]
  },
  {
   "cell_type": "code",
   "execution_count": null,
   "metadata": {},
   "outputs": [],
   "source": [
    "# plot the outliers\n",
    "json_path = '/root/data/small_pen_data_collection/sotra-small-pen/pen-1/2018-10-01/coco_body_parts_annotations_incomplete.json'\n",
    "example_coco = COCO(json_path)"
   ]
  },
  {
   "cell_type": "code",
   "execution_count": null,
   "metadata": {},
   "outputs": [],
   "source": [
    "pairs = get_pairs(example_coco, local_dic)"
   ]
  },
  {
   "cell_type": "code",
   "execution_count": null,
   "metadata": {},
   "outputs": [],
   "source": [
    "# category_ids = example_coco.getCatIds()\n",
    "category_ids = [1, 2, 3, 4, 5, 6, 7, 8, 9]\n",
    "# image_id = np.random.choice(list(outliers_dic.keys()))\n",
    "image_id = 'cjn1fv7hr7z1r0733koywdrh4'\n",
    "image_data = example_coco.loadImgs([image_id])[0]\n",
    "\n",
    "# load and display instance annotations\n",
    "file_name = image_data['coco_url'].split('%2F')[2].split('?alt')[0]\n",
    "image = io.imread(local_dic[file_name])\n",
    "f ,ax = plt.subplots(1, figsize=(20, 20))\n",
    "ax.imshow(image); \n",
    "# ax.axis('off')\n",
    "# plt.axis('off')\n",
    "# pylab.rcParams['figure.figsize'] = (8.0, 10.0)\n",
    "annotation_ids = example_coco.getAnnIds(imgIds=[image_data['id']], catIds=category_ids, iscrowd=None)\n",
    "annotations = example_coco.loadAnns(annotation_ids)\n",
    "example_coco.showAnns(annotations)\n",
    "for ann in annotations:\n",
    "    c = ann['category_id']\n",
    "plt.axis('off')\n",
    "plt.show()\n",
    "\n",
    "outliers_distances = list(set(outliers_dic[image_id]))\n",
    "for od in outliers_distances:\n",
    "    part0 = example_coco.cats[int(od[0])]['name']\n",
    "    part1 = example_coco.cats[int(od[1])]['name']\n",
    "    print('The distance between the {} and the {} is an outlier'.format(part0, part1))\n",
    "\n",
    "    \n",
    "# get the right image\n",
    "for (k, v) in pairs.items():\n",
    "    if 'right' in v:\n",
    "        if v['right'] == image_id:\n",
    "            right_id = v['left']\n",
    "            break\n",
    "    \n",
    "image_data = example_coco.loadImgs([right_id])[0]\n",
    "# load and display instance annotations\n",
    "file_name = image_data['coco_url'].split('%2F')[2].split('?alt')[0]\n",
    "image = io.imread(local_dic[file_name])\n",
    "f ,ax = plt.subplots(1, figsize=(20, 20))\n",
    "ax.imshow(image); \n",
    "# ax.axis('off')\n",
    "# plt.axis('off')\n",
    "# pylab.rcParams['figure.figsize'] = (8.0, 10.0)\n",
    "annotation_ids = example_coco.getAnnIds(imgIds=[image_data['id']], catIds=category_ids, iscrowd=None)\n",
    "annotations = example_coco.loadAnns(annotation_ids)\n",
    "example_coco.showAnns(annotations)\n",
    "plt.axis('off')\n",
    "plt.show()"
   ]
  },
  {
   "cell_type": "code",
   "execution_count": null,
   "metadata": {},
   "outputs": [],
   "source": [
    "annotations"
   ]
  },
  {
   "cell_type": "code",
   "execution_count": null,
   "metadata": {},
   "outputs": [],
   "source": [
    "image_id"
   ]
  },
  {
   "cell_type": "code",
   "execution_count": null,
   "metadata": {},
   "outputs": [],
   "source": []
  },
  {
   "cell_type": "code",
   "execution_count": null,
   "metadata": {},
   "outputs": [],
   "source": []
  }
 ],
 "metadata": {
  "kernelspec": {
   "display_name": "Python 3",
   "language": "python",
   "name": "python3"
  },
  "language_info": {
   "codemirror_mode": {
    "name": "ipython",
    "version": 3
   },
   "file_extension": ".py",
   "mimetype": "text/x-python",
   "name": "python",
   "nbconvert_exporter": "python",
   "pygments_lexer": "ipython3",
   "version": "3.5.2"
  }
 },
 "nbformat": 4,
 "nbformat_minor": 2
}
