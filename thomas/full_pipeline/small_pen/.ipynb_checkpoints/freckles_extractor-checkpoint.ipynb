{
 "cells": [
  {
   "cell_type": "code",
   "execution_count": null,
   "metadata": {},
   "outputs": [],
   "source": [
    "import glob\n",
    "import json\n",
    "import os\n",
    "\n",
    "import cv2\n",
    "import matplotlib.pyplot as plt\n",
    "import matplotlib.patches as patches\n",
    "import numpy as np\n",
    "import skimage.io as io\n",
    "from pycocotools.coco import COCO\n",
    "from tqdm import tqdm"
   ]
  },
  {
   "cell_type": "markdown",
   "metadata": {},
   "source": [
    "## Extract all the heads"
   ]
  },
  {
   "cell_type": "code",
   "execution_count": null,
   "metadata": {},
   "outputs": [],
   "source": [
    "cocopath = '/root/data/small_pen_data_collection/body_parts_detection_20181017.json'\n",
    "coco = COCO(cocopath)"
   ]
  },
  {
   "cell_type": "code",
   "execution_count": null,
   "metadata": {},
   "outputs": [],
   "source": [
    "# for (imageid, imagedata) in tqdm(coco.imgs.items()):\n",
    "#     imagepath = imagedata['local_path']\n",
    "    \n",
    "#     headid = coco.getAnnIds(imgIds=[imageid], catIds=[1])\n",
    "#     if len(headid) == 0:\n",
    "#         continue\n",
    "#     headann = coco.loadAnns(headid)[0]\n",
    "#     bbox = headann['bbox']\n",
    "    \n",
    "#     image = io.imread(imagedata['local_path'])\n",
    "#     x1, y1, x2, y2 = [int(c) for c in bbox]\n",
    "#     head = image[x1:x2, y1:y2, :]\n",
    "# #     plt.imshow(head)\n",
    "# #     plt.show()\n",
    "#     io.imsave('/root/data/reidentification/heads/{}.head.jpg'.format(os.path.basename(imagedata['local_path'])), head)\n"
   ]
  },
  {
   "cell_type": "markdown",
   "metadata": {},
   "source": [
    "## Focus on some samples images frist"
   ]
  },
  {
   "cell_type": "code",
   "execution_count": null,
   "metadata": {},
   "outputs": [],
   "source": [
    "from skimage.segmentation import slic\n",
    "from skimage.segmentation import mark_boundaries\n",
    "from skimage.util import img_as_float\n",
    "from skimage import io\n",
    "import matplotlib.pyplot as plt\n",
    "import argparse"
   ]
  },
  {
   "cell_type": "code",
   "execution_count": null,
   "metadata": {},
   "outputs": [],
   "source": [
    "from PIL import Image, ImageEnhance"
   ]
  },
  {
   "cell_type": "code",
   "execution_count": null,
   "metadata": {},
   "outputs": [],
   "source": [
    "import glob"
   ]
  },
  {
   "cell_type": "code",
   "execution_count": null,
   "metadata": {},
   "outputs": [],
   "source": [
    "cv2.__version__"
   ]
  },
  {
   "cell_type": "code",
   "execution_count": null,
   "metadata": {},
   "outputs": [],
   "source": [
    "cv2.SimpleBlobDetector"
   ]
  },
  {
   "cell_type": "code",
   "execution_count": null,
   "metadata": {},
   "outputs": [],
   "source": [
    "paths = ['/root/data/reidentification/heads_with_eye/small-pen-test-site/left_small-pen-test-site_1_1538481753314.jpg_230_208.jpg',\n",
    " '/root/data/reidentification/heads_with_eye/small-pen-test-site/right_small-pen-test-site_1_1538481766307.jpg_111_156.jpg',\n",
    " '/root/data/reidentification/heads_with_eye/small-pen-test-site/left_small-pen-test-site_1_1538481778307.jpg_365_306.jpg',\n",
    " '/root/data/reidentification/heads_with_eye/small-pen-test-site/left_small-pen-test-site_1_1538481923306.jpg_339_206.jpg',\n",
    " '/root/data/reidentification/heads_with_eye/small-pen-test-site/left_small-pen-test-site_1_1538481918305.jpg_182_107.jpg',\n",
    " '/root/data/reidentification/heads_with_eye/small-pen-test-site/right_small-pen-test-site_1_1538481850306.jpg_146_90.jpg',\n",
    " '/root/data/reidentification/heads_with_eye/small-pen-test-site/left_small-pen-test-site_1_1538481937304.jpg_357_226.jpg',\n",
    " '/root/data/reidentification/heads_with_eye/small-pen-test-site/right_small-pen-test-site_1_1538481789306.jpg_346_128.jpg',\n",
    " '/root/data/reidentification/heads_with_eye/small-pen-test-site/right_small-pen-test-site_1_1538481815308.jpg_179_88.jpg',\n",
    " '/root/data/reidentification/heads_with_eye/small-pen-test-site/left_small-pen-test-site_1_1538481868306.jpg_222_107.jpg',\n",
    " '/root/data/reidentification/heads_with_eye/small-pen-test-site/left_small-pen-test-site_1_1538481731308.jpg_208_94.jpg',\n",
    " '/root/data/reidentification/heads_with_eye/small-pen-test-site/left_small-pen-test-site_1_1538481727308.jpg_261_110.jpg',\n",
    " '/root/data/reidentification/heads_with_eye/small-pen-test-site/left_small-pen-test-site_1_1538481882305.jpg_358_231.jpg',\n",
    " '/root/data/reidentification/heads_with_eye/small-pen-test-site/left_small-pen-test-site_1_1538481796309.jpg_284_128.jpg',\n",
    " '/root/data/reidentification/heads_with_eye/small-pen-test-site/right_small-pen-test-site_1_1538481879309.jpg_196_139.jpg',\n",
    " '/root/data/reidentification/heads_with_eye/small-pen-test-site/right_small-pen-test-site_1_1538481931305.jpg_274_125.jpg',\n",
    " '/root/data/reidentification/heads_with_eye/small-pen-test-site/left_small-pen-test-site_1_1538481726307.jpg_242_119.jpg',\n",
    " '/root/data/reidentification/heads_with_eye/small-pen-test-site/left_small-pen-test-site_1_1538481728307.jpg_291_97.jpg',\n",
    " '/root/data/reidentification/heads_with_eye/small-pen-test-site/left_small-pen-test-site_1_1538481800307.jpg_219_131.jpg',\n",
    " '/root/data/reidentification/heads_with_eye/small-pen-test-site/right_small-pen-test-site_1_1538481722307.jpg_134_111.jpg',\n",
    " '/root/data/reidentification/heads_with_eye/small-pen-test-site/right_small-pen-test-site_1_1538481763307.jpg_167_112.jpg',\n",
    " '/root/data/reidentification/heads_with_eye/small-pen-test-site/left_small-pen-test-site_1_1538481762307.jpg_91_127.jpg',\n",
    " '/root/data/reidentification/heads_with_eye/small-pen-test-site/right_small-pen-test-site_1_1538481866306.jpg_449_238.jpg',\n",
    " '/root/data/reidentification/heads_with_eye/small-pen-test-site/left_small-pen-test-site_1_1538481907305.jpg_212_103.jpg',\n",
    " '/root/data/reidentification/heads_with_eye/small-pen-test-site/right_small-pen-test-site_1_1538481918305.jpg_202_113.jpg',\n",
    " '/root/data/reidentification/heads_with_eye/small-pen-test-site/right_small-pen-test-site_1_1538481725308.jpg_244_105.jpg',\n",
    " '/root/data/reidentification/heads_with_eye/small-pen-test-site/left_small-pen-test-site_1_1538481870305.jpg_338_95.jpg',\n",
    " '/root/data/reidentification/heads_with_eye/small-pen-test-site/left_small-pen-test-site_1_1538481897305.jpg_122_108.jpg',\n",
    " '/root/data/reidentification/heads_with_eye/small-pen-test-site/left_small-pen-test-site_1_1538481852308.jpg_277_162.jpg',\n",
    " '/root/data/reidentification/heads_with_eye/small-pen-test-site/right_small-pen-test-site_1_1538481723307.jpg_198_99.jpg',\n",
    " '/root/data/reidentification/heads_with_eye/small-pen-test-site/left_small-pen-test-site_1_1538481859306.jpg_535_307.jpg',\n",
    " '/root/data/reidentification/heads_with_eye/small-pen-test-site/right_small-pen-test-site_1_1538481878306.jpg_207_110.jpg',\n",
    " '/root/data/reidentification/heads_with_eye/small-pen-test-site/right_small-pen-test-site_1_1538481865306.jpg_491_269.jpg',\n",
    " '/root/data/reidentification/heads_with_eye/small-pen-test-site/right_small-pen-test-site_1_1538481883306.jpg_429_294.jpg',\n",
    " '/root/data/reidentification/heads_with_eye/small-pen-test-site/right_small-pen-test-site_1_1538481856306.jpg_458_252.jpg',\n",
    " '/root/data/reidentification/heads_with_eye/small-pen-test-site/right_small-pen-test-site_1_1538481871306.jpg_212_130.jpg',\n",
    " '/root/data/reidentification/heads_with_eye/small-pen-test-site/right_small-pen-test-site_1_1538481739307.jpg_241_119.jpg',\n",
    " '/root/data/reidentification/heads_with_eye/small-pen-test-site/left_small-pen-test-site_1_1538481800307.jpg_218_115.jpg',\n",
    " '/root/data/reidentification/heads_with_eye/small-pen-test-site/right_small-pen-test-site_1_1538481852308.jpg_312_152.jpg',\n",
    " '/root/data/reidentification/heads_with_eye/small-pen-test-site/left_small-pen-test-site_1_1538481904305.jpg_101_81.jpg',\n",
    " '/root/data/reidentification/heads_with_eye/small-pen-test-site/right_small-pen-test-site_1_1538481831306.jpg_12_172.jpg',\n",
    " '/root/data/reidentification/heads_with_eye/small-pen-test-site/right_small-pen-test-site_1_1538481927305.jpg_248_109.jpg',\n",
    " '/root/data/reidentification/heads_with_eye/small-pen-test-site/right_small-pen-test-site_1_1538481749307.jpg_95_170.jpg',\n",
    " '/root/data/reidentification/heads_with_eye/small-pen-test-site/left_small-pen-test-site_1_1538481865306.jpg_499_273.jpg',\n",
    " '/root/data/reidentification/heads_with_eye/small-pen-test-site/right_small-pen-test-site_1_1538481919305.jpg_247_182.jpg',\n",
    " '/root/data/reidentification/heads_with_eye/small-pen-test-site/left_small-pen-test-site_1_1538481898305.jpg_93_101.jpg',\n",
    " '/root/data/reidentification/heads_with_eye/small-pen-test-site/right_small-pen-test-site_1_1538481867306.jpg_242_137.jpg',\n",
    " '/root/data/reidentification/heads_with_eye/small-pen-test-site/left_small-pen-test-site_1_1538481940305.jpg_86_97.jpg',\n",
    " '/root/data/reidentification/heads_with_eye/small-pen-test-site/right_small-pen-test-site_1_1538481790307.jpg_279_123.jpg',\n",
    " '/root/data/reidentification/heads_with_eye/small-pen-test-site/left_small-pen-test-site_1_1538481942305.jpg_163_120.jpg',\n",
    " '/root/data/reidentification/heads_with_eye/small-pen-test-site/left_small-pen-test-site_1_1538481760312.jpg_187_164.jpg',\n",
    " '/root/data/reidentification/heads_with_eye/small-pen-test-site/right_small-pen-test-site_1_1538481800307.jpg_214_104.jpg',\n",
    " '/root/data/reidentification/heads_with_eye/small-pen-test-site/right_small-pen-test-site_1_1538481872306.jpg_217_84.jpg',\n",
    " '/root/data/reidentification/heads_with_eye/small-pen-test-site/left_small-pen-test-site_1_1538481869306.jpg_204_101.jpg',\n",
    " '/root/data/reidentification/heads_with_eye/small-pen-test-site/left_small-pen-test-site_1_1538481905305.jpg_73_123.jpg',\n",
    " '/root/data/reidentification/heads_with_eye/small-pen-test-site/left_small-pen-test-site_1_1538481785307.jpg_241_100.jpg',\n",
    " '/root/data/reidentification/heads_with_eye/small-pen-test-site/right_small-pen-test-site_1_1538481851307.jpg_293_120.jpg',\n",
    " '/root/data/reidentification/heads_with_eye/small-pen-test-site/right_small-pen-test-site_1_1538481857307.jpg_535_272.jpg',\n",
    " '/root/data/reidentification/heads_with_eye/small-pen-test-site/right_small-pen-test-site_1_1538481739307.jpg_259_119.jpg',\n",
    " '/root/data/reidentification/heads_with_eye/small-pen-test-site/right_small-pen-test-site_1_1538481869306.jpg_177_101.jpg',\n",
    " '/root/data/reidentification/heads_with_eye/small-pen-test-site/right_small-pen-test-site_1_1538481815308.jpg_189_113.jpg',\n",
    " '/root/data/reidentification/heads_with_eye/small-pen-test-site/left_small-pen-test-site_1_1538481831306.jpg_77_91.jpg']\n"
   ]
  },
  {
   "cell_type": "code",
   "execution_count": null,
   "metadata": {},
   "outputs": [],
   "source": [
    "# load the image and convert it to a floating point data type\n",
    "image = img_as_float(io.imread(args[\"image\"]))\n",
    " \n",
    "# loop over the number of segments\n",
    "for numSegments in (100, 200, 300):\n",
    "    # apply SLIC and extract (approximately) the supplied number\n",
    "    # of segments\n",
    "    segments = slic(image, n_segments = numSegments, sigma = 5)\n",
    " \n",
    "    # show the output of SLIC\n",
    "    fig = plt.figure(\"Superpixels -- %d segments\" % (numSegments))\n",
    "    ax = fig.add_subplot(1, 1, 1)\n",
    "    ax.imshow(mark_boundaries(image, segments))\n",
    "    plt.axis(\"off\")\n",
    "    \n",
    "# show the plots\n",
    "plt.show()plt.show()"
   ]
  },
  {
   "cell_type": "code",
   "execution_count": null,
   "metadata": {},
   "outputs": [],
   "source": [
    "for img_path in paths:\n",
    "    print(img_path)\n",
    "    # image = io.imread(img_path, as_grey=True)\n",
    "    im = cv2.imread(img_path) #, cv2.IMREAD_GRAYSCALE)\n",
    "    plt.imshow(im) #, cmap=\"gray\")\n",
    "    plt.show()\n",
    "    \n",
    "#     laplacian = cv2.Laplacian(im, cv2.CV_64F)\n",
    "#     plt.imshow(laplacian)\n",
    "#     plt.show()\n",
    "    \n",
    "#     sobel = cv2.Sobel(im, cv2.CV_64F, 1,0, ksize=5)\n",
    "#     plt.imshow(sobel)\n",
    "#     plt.show()\n",
    "    \n",
    "#     new = im - sobel\n",
    "#     plt.imshow(new, cmap=\"gray\")\n",
    "#     plt.show()\n",
    "#     im = Image.open(img_path).convert('L')\n",
    "#     enhancer = ImageEnhance.Sharpness(im)\n",
    "#     im2 = enhancer.enhance(5.0)\n",
    "    \n",
    "#     plt.imshow(im2)\n",
    "#     plt.show()\n",
    "#     detector = cv2.SimpleBlobDetector_create()\n",
    "#     keypoints = detector.detect(im)\n",
    "    print(\"#\"*50)\n",
    "    break"
   ]
  },
  {
   "cell_type": "code",
   "execution_count": null,
   "metadata": {},
   "outputs": [],
   "source": [
    "import copy"
   ]
  },
  {
   "cell_type": "code",
   "execution_count": null,
   "metadata": {},
   "outputs": [],
   "source": [
    "for thresh in range(300, 600, 50):\n",
    "    print(thresh)\n",
    "    img_copy = copy.copy(im)# [100:300, 100:400]\n",
    "    plt.imshow(img_copy, cmap = 'gray')\n",
    "    plt.show()\n",
    "    \n",
    "    \n",
    "    sobel = cv2.Sobel(img_copy, cv2.CV_64F, 1,0, ksize=5)\n",
    "    zoom = copy.copy(sobel)\n",
    "    plt.imshow(zoom)\n",
    "    plt.title('Sobel')\n",
    "    plt.show()\n",
    "\n",
    "    \n",
    "    zoom[np.logical_and(-thresh<=zoom, zoom<=thresh)] = 0\n",
    "    zoom[zoom > thresh] = 255\n",
    "    zoom[zoom< -thresh] = 255\n",
    "    plt.imshow(zoom)\n",
    "    # plt.colorbar()\n",
    "    # plt.clim([0, 1])\n",
    "    plt.title('Threshold')\n",
    "    plt.show()\n",
    "    \n",
    "    zoom = cv2.erode(zoom, np.ones((2, 2)))\n",
    "    zoom = cv2.erode(zoom, np.ones((2, 2)))\n",
    "    plt.imshow(zoom)\n",
    "    plt.show()\n",
    "    \n",
    "    zoom = cv2.dilate(zoom, np.ones((3, 3)))\n",
    "    # zoom = cv2.dilate(zoom, np.ones((3, 3)))\n",
    "    plt.imshow(zoom)\n",
    "    plt.show()\n",
    "    \n",
    "    \n",
    "    params = cv2.SimpleBlobDetector_Params()\n",
    "    params = cv2.SimpleBlobDetector_Params()\n",
    "    params.minThreshold = 0;    # the graylevel of images\n",
    "    params.maxThreshold = 255;\n",
    "\n",
    "    params.filterByColor = False\n",
    "    # params.blobColor = 255\n",
    "\n",
    "    # Filter by Area\n",
    "    params.filterByArea = True\n",
    "    params.minArea = 10\n",
    "    params.filterByInertia = False\n",
    "    params.filterByConvexity = False\n",
    "#     params.filterByCircularity = True\n",
    "#     params.minCircularity = 0.2\n",
    "#     params.maxCircularity = 2000\n",
    "    \n",
    "    detector = cv2.SimpleBlobDetector_create(params)\n",
    "    keypoints = detector.detect(zoom.astype(np.uint8))\n",
    "    \n",
    "    plt.imshow(img_copy, cmap='gray')\n",
    "    plt.show()\n",
    "    \n",
    "    f, ax = plt.subplots(1)\n",
    "    ax.imshow(img_copy, cmap='gray')\n",
    "    for kp in keypoints:\n",
    "        c = patches.Circle(kp.pt, color='r', radius=5, alpha=0.3)\n",
    "        ax.add_patch(c)\n",
    "    # plt.imshow(zoom, alpha=0.3)\n",
    "    plt.axis(\"off\")\n",
    "    plt.show()\n",
    "    print(\"#\"*100)\n"
   ]
  },
  {
   "cell_type": "markdown",
   "metadata": {},
   "source": [
    "# TRY REPROJECTION"
   ]
  },
  {
   "cell_type": "code",
   "execution_count": null,
   "metadata": {},
   "outputs": [],
   "source": [
    "import ast\n",
    "import glob\n",
    "import json\n",
    "import os\n",
    "import pandas as pd\n",
    "import numpy as np\n",
    "import skimage.io as io\n",
    "import matplotlib.patches as patches\n",
    "import matplotlib.pyplot as plt\n",
    "from pycocotools.coco import COCO"
   ]
  },
  {
   "cell_type": "code",
   "execution_count": null,
   "metadata": {},
   "outputs": [],
   "source": [
    "# load the world coordinates dataset\n",
    "df = pd.read_csv('./dataset_world_coordinates_full.csv')"
   ]
  },
  {
   "cell_type": "code",
   "execution_count": null,
   "metadata": {},
   "outputs": [],
   "source": [
    "# json_path = '/root/data/small_pen_data_collection/body_parts_detection_merged.json'\n",
    "json_path = '/root/data/small_pen_data_collection/body_parts_detection_merged.json'\n",
    "files = json.load(open(json_path))\n",
    "example_coco = COCO(json_path)"
   ]
  },
  {
   "cell_type": "code",
   "execution_count": null,
   "metadata": {},
   "outputs": [],
   "source": [
    "pairs = {}\n",
    "for (imgid, imgdata) in example_coco.imgs.items():\n",
    "    if \"local_path\" not in imgdata:\n",
    "        continue\n",
    "    # file_name = imgdata['coco_url'].split('%2F')[2].split('?alt')[0]\n",
    "    # img_path = local_dic[file_name]\n",
    "    img_path = imgdata['local_path']\n",
    "    annotation_ids = example_coco.getAnnIds(imgIds=[imgid])\n",
    "    if len(annotation_ids) == 0:\n",
    "        continue\n",
    "    if 'rectified' in img_path:\n",
    "        ts = os.path.basename(img_path).split('.')[0].split('_')[-1]\n",
    "        side = os.path.basename(img_path).split('.')[0].split('_')[0]\n",
    "        if ts not in pairs:\n",
    "            pairs[ts] = {}\n",
    "        pairs[ts][side] = imgid"
   ]
  },
  {
   "cell_type": "code",
   "execution_count": null,
   "metadata": {},
   "outputs": [],
   "source": [
    "all_images_path = glob.glob('/root/data/small_pen_data_collection/*_rectified/*.jpg')\n",
    "local_dic = {}\n",
    "for path in all_images_path:\n",
    "    if 'rectified' not in path:\n",
    "        local_dic[os.path.basename(path)] = path"
   ]
  },
  {
   "cell_type": "code",
   "execution_count": null,
   "metadata": {},
   "outputs": [],
   "source": [
    "# drop rows that do not have head and caudal fin\n",
    "dna = df.dropna(axis=0, subset=['Head', 'Caudal Fin'])"
   ]
  },
  {
   "cell_type": "markdown",
   "metadata": {},
   "source": [
    "## single fish"
   ]
  },
  {
   "cell_type": "code",
   "execution_count": null,
   "metadata": {},
   "outputs": [],
   "source": [
    "# get a random id\n",
    "random_id = np.random.choice(dna[\"left_image_key\"])"
   ]
  },
  {
   "cell_type": "code",
   "execution_count": null,
   "metadata": {},
   "outputs": [],
   "source": [
    "# random_id = 9853\n",
    "# random_id = 4236"
   ]
  },
  {
   "cell_type": "code",
   "execution_count": null,
   "metadata": {},
   "outputs": [],
   "source": [
    "category_ids = example_coco.getCatIds()\n",
    "image_ids = example_coco.getImgIds(catIds=np.random.choice(category_ids))\n",
    "image_data = example_coco.loadImgs([random_id])[0]\n",
    "\n",
    "# load and display instance annotations\n",
    "image = io.imread(image_data['local_path'])\n",
    "f ,ax = plt.subplots(1, figsize=(20, 20))\n",
    "ax.imshow(image); \n",
    "annotation_ids = example_coco.getAnnIds(imgIds=[image_data['id']], catIds=category_ids, iscrowd=None)\n",
    "annotations = example_coco.loadAnns(annotation_ids)\n",
    "example_coco.showAnns(annotations)\n",
    "for ann in annotations:\n",
    "    bbox = ann['bbox']\n",
    "    rec = patches.Rectangle((bbox[1], bbox[0]), bbox[3]-bbox[1], bbox[2]-bbox[0], \n",
    "                            edgecolor='w', facecolor=None, fill=False, linestyle='--', linewidth=2)\n",
    "    ax.add_patch(rec)\n",
    "    ax.text(bbox[1], bbox[0]-10, ann['category_id'], fontsize=16, color='w')\n",
    "plt.show()"
   ]
  },
  {
   "cell_type": "code",
   "execution_count": null,
   "metadata": {},
   "outputs": [],
   "source": [
    "# get world coordinates\n",
    "index = np.nonzero(dna.iloc[:, -1] == random_id)[0][0]\n",
    "head_world = np.array(ast.literal_eval(dna[\"Head\"].iloc[index]))\n",
    "caudal_fin_world = np.array(ast.literal_eval(dna[\"Caudal Fin\"].iloc[index]))\n",
    "fish_length = np.linalg.norm(head_world - caudal_fin_world)\n",
    "print(\"Fish length is {} mm\".format(fish_length*1e3))"
   ]
  },
  {
   "cell_type": "code",
   "execution_count": null,
   "metadata": {},
   "outputs": [],
   "source": [
    "# from numpy import (array, dot, arccos, clip)\n",
    "# from numpy.linalg import norm\n",
    "\n",
    "# cosO = dot(u,v)/norm(u)/norm(v) # -> cosine of the angle\n",
    "# angle = arccos(clip(c, -1, 1)) # if you really want the angle"
   ]
  },
  {
   "cell_type": "code",
   "execution_count": null,
   "metadata": {},
   "outputs": [],
   "source": [
    "print(head_world)\n",
    "print(caudal_fin_world)\n",
    "plt.figure(figsize=(15, 10))\n",
    "plt.scatter([caudal_fin_world[2], head_world[2]], [caudal_fin_world[1], head_world[1]])\n",
    "\n",
    "\n",
    "# y = ax + b\n",
    "# y -> depth, x -> image columns\n",
    "slope = (head_world[1]-caudal_fin_world[1]) / (head_world[2]-caudal_fin_world[2])\n",
    "origin_intersection = head_world[1] - slope*head_world[0]\n",
    "image_intersection = -origin_intersection / slope\n",
    "\n",
    "# first vector\n",
    "image_intersection_point = np.array([image_intersection, 0])\n",
    "head_world_point = np.array([head_world[2], 0])\n",
    "u = image_intersection_point - head_world_point\n",
    "\n",
    "# second vector\n",
    "image_intersection_point = np.array([image_intersection, 0])\n",
    "head_world_point = np.array([head_world[2], head_world[1]])\n",
    "v = image_intersection_point - head_world_point\n",
    "\n",
    "# thrid vector\n",
    "k = image_intersection_point - np.array([caudal_fin_world[2], caudal_fin_world[1]])\n",
    "\n",
    "costheta = np.dot(u, v) / (np.linalg.norm(u)*np.linalg.norm(v))\n",
    "print(costheta)\n",
    "theta = np.arccos(costheta)\n",
    "adj = costheta * (image_intersection - head_world[2])\n",
    "print(adj)\n",
    "\n",
    "# adj = np.sin(theta) * image_intersection  # fuck yeah trigo\n",
    "\n",
    "# more trigo mofo\n",
    "adj2 = costheta * adj\n",
    "print(adj2)\n",
    "pt = (image_intersection - adj2)\n",
    "proj = pt*slope + origin_intersection\n",
    "\n",
    "if image_intersection <0:\n",
    "    head2img = image_intersection + (np.linalg.norm(v)/adj * (image_intersection-head_world[2]))\n",
    "    fin2image = image_intersection + (np.linalg.norm(k)/adj * (image_intersection-head_world[2]))\n",
    "else:\n",
    "    head2img = image_intersection + (np.linalg.norm(v)/adj * (image_intersection-head_world[2]))\n",
    "    fin2image = image_intersection + (np.linalg.norm(k)/adj * (image_intersection-head_world[2]))\n",
    "x = np.linspace(-5, 12, 10)\n",
    "y = slope*x + origin_intersection\n",
    "plt.scatter(head2img, 0, marker='X', color ='m', s=100)\n",
    "plt.scatter(fin2image, 0, marker='X', color ='m', s=100)\n",
    "plt.plot(x, y, color='r')\n",
    "plt.scatter(image_intersection, 0, color='k', marker='X')\n",
    "plt.scatter([head_world[2], caudal_fin_world[2]], [0, 0], marker='X', color='k')\n",
    "plt.plot([head_world[2], head_world[2]], [-1, 0.05], color='b')\n",
    "plt.plot([caudal_fin_world[2], caudal_fin_world[2]], [-1, 0.05], color='b')\n",
    "plt.plot([-5, 12], [0, 0], color='g')\n",
    "plt.scatter(pt, proj)\n",
    "# plt.xlim([-1, 1])\n",
    "# plt.ylim([-1, 1])\n",
    "plt.plot([head2img, head_world[2]], [0, head_world[1]])\n",
    "plt.plot([fin2image, caudal_fin_world[2]], [0, caudal_fin_world[1]])\n",
    "plt.gca().set_aspect('equal', adjustable='box')\n",
    "\n",
    "plt.grid()\n",
    "plt.gca().invert_yaxis()\n",
    "plt.show()"
   ]
  },
  {
   "cell_type": "code",
   "execution_count": null,
   "metadata": {},
   "outputs": [],
   "source": [
    "def find_intersection(point0, point1):\n",
    "    \"\"\"given two points in space (x,y,z), calculate the coordinates of \n",
    "    intersection of the line going through the two points and the plan of the image (ie when z=0)\"\"\"\n",
    "    inter = None\n",
    "    return inter\n",
    "\n",
    "def calculate_image_to_fish_orth_projection(point0):\n",
    "    \"\"\"taking a know point in the image, calculate its projection on the fish plan\"\"\"\n",
    "    return \n",
    "\n",
    "def calculate_image_projection_coorddinates(point0, reference):\n",
    "    return"
   ]
  },
  {
   "cell_type": "code",
   "execution_count": null,
   "metadata": {},
   "outputs": [],
   "source": []
  },
  {
   "cell_type": "code",
   "execution_count": null,
   "metadata": {},
   "outputs": [],
   "source": []
  },
  {
   "cell_type": "code",
   "execution_count": null,
   "metadata": {},
   "outputs": [],
   "source": []
  },
  {
   "cell_type": "code",
   "execution_count": null,
   "metadata": {},
   "outputs": [],
   "source": []
  },
  {
   "cell_type": "code",
   "execution_count": null,
   "metadata": {},
   "outputs": [],
   "source": []
  },
  {
   "cell_type": "markdown",
   "metadata": {},
   "source": [
    "# On all images"
   ]
  },
  {
   "cell_type": "code",
   "execution_count": null,
   "metadata": {},
   "outputs": [],
   "source": [
    "import glob\n",
    "import json\n",
    "import os\n",
    "\n",
    "import cv2\n",
    "import matplotlib.pyplot as plt\n",
    "import matplotlib.patches as patches\n",
    "import numpy as np\n",
    "import skimage.io as io\n",
    "from pycocotools.coco import COCO\n",
    "from tqdm import tqdm\n",
    "from skimage.transform import resize\n",
    "from keras.models import load_model\n",
    "import random"
   ]
  },
  {
   "cell_type": "code",
   "execution_count": null,
   "metadata": {},
   "outputs": [],
   "source": [
    "# !nvidia-smi"
   ]
  },
  {
   "cell_type": "code",
   "execution_count": null,
   "metadata": {},
   "outputs": [],
   "source": [
    "# os.environ[\"CUDA_VISIBLE_DEVICES\"] = \"3\""
   ]
  },
  {
   "cell_type": "code",
   "execution_count": null,
   "metadata": {},
   "outputs": [],
   "source": [
    "heads = glob.glob('/root/data/reidentification/heads_with_eye/small-pen-test-site/*')"
   ]
  },
  {
   "cell_type": "code",
   "execution_count": null,
   "metadata": {},
   "outputs": [],
   "source": [
    "random.shuffle(heads)"
   ]
  },
  {
   "cell_type": "code",
   "execution_count": null,
   "metadata": {},
   "outputs": [],
   "source": [
    "mappingdic = {}\n",
    "all_path = glob.glob('/root/data/small_pen_data_collection/1*/*.jpg')\n",
    "for path in all_path:\n",
    "    mappingdic[os.path.basename(path).split('.')[0]] = path.split('/')[-2].split('_')[0]"
   ]
  },
  {
   "cell_type": "code",
   "execution_count": null,
   "metadata": {},
   "outputs": [],
   "source": [
    "# model = load_model('/root/data/models/eye_detection/version0.h5')"
   ]
  },
  {
   "cell_type": "code",
   "execution_count": null,
   "metadata": {},
   "outputs": [],
   "source": [
    "from tqdm import tqdm"
   ]
  },
  {
   "cell_type": "code",
   "execution_count": null,
   "metadata": {},
   "outputs": [],
   "source": [
    "test = []"
   ]
  },
  {
   "cell_type": "code",
   "execution_count": null,
   "metadata": {},
   "outputs": [],
   "source": [
    "dataset = []\n",
    "thresh = 200\n",
    "for head in tqdm(heads):\n",
    "    fishid = mappingdic[os.path.basename(head).split('.')[0]]\n",
    "    # print(fishid)\n",
    "    ec = os.path.basename(head).split('.')[-2].split('_')[1:3]\n",
    "    ec = [int(e) for e in ec]\n",
    "    \n",
    "#     image = io.imread(head)\n",
    "#     image = resize(image, (128, 128, 3))\n",
    "#     ec = model.predict_on_batch(np.expand_dims(image, axis=0))[0]\n",
    "#     plt.imshow(image)\n",
    "#     plt.scatter(ec[0], ec[1], color='blue')\n",
    "#     plt.show()\n",
    "    \n",
    "    image = cv2.imread(head, cv2.IMREAD_GRAYSCALE)\n",
    "    \n",
    "    sobel = cv2.Sobel(image, cv2.CV_64F, 1,0, ksize=5)\n",
    "    sobel[np.logical_and(-thresh<=sobel, sobel<=thresh)] = 0\n",
    "    sobel[sobel > thresh] = 255\n",
    "    sobel[sobel< -thresh] = 255\n",
    "    \n",
    "    zoom = sobel\n",
    "    zoom = cv2.erode(zoom, np.ones((2, 2)))\n",
    "    zoom = cv2.erode(zoom, np.ones((2, 2)))\n",
    "    zoom = cv2.dilate(zoom, np.ones((3, 3)))\n",
    "    \n",
    "    params = cv2.SimpleBlobDetector_Params()\n",
    "    params = cv2.SimpleBlobDetector_Params()\n",
    "    params.minThreshold = 0;    # the graylevel of images\n",
    "    params.maxThreshold = 255\n",
    "    params.filterByColor = False\n",
    "    params.filterByArea = True\n",
    "    params.minArea = 10\n",
    "    params.filterByInertia = False\n",
    "    params.filterByConvexity = False\n",
    "\n",
    "    detector = cv2.SimpleBlobDetector_create(params)\n",
    "    keypoints = detector.detect(zoom.astype(np.uint8))\n",
    "    freckles = []\n",
    "    for kp in keypoints:\n",
    "        freckles.append(kp.pt)\n",
    "    freck = np.array(freckles)\n",
    "    \n",
    "    dataset.append([fishid, head, ec, freck.tolist()])\n",
    "    if fishid == '181001010004':\n",
    "        test.append(head)\n",
    "        f, ax = plt.subplots(1)\n",
    "        ax.imshow(image, cmap='gray')\n",
    "        ax.scatter(ec[0], ec[1], color='blue')\n",
    "        for kp in keypoints:\n",
    "            c = patches.Circle(kp.pt, color='r', radius=5, alpha=0.3)\n",
    "            ax.add_patch(c)\n",
    "        # plt.imshow(zoom, alpha=0.3)\n",
    "        plt.axis(\"off\")\n",
    "        plt.show()\n",
    "#     break\n",
    "#     print(freck.shape)"
   ]
  },
  {
   "cell_type": "code",
   "execution_count": null,
   "metadata": {},
   "outputs": [],
   "source": [
    "test"
   ]
  },
  {
   "cell_type": "code",
   "execution_count": null,
   "metadata": {},
   "outputs": [],
   "source": []
  },
  {
   "cell_type": "code",
   "execution_count": null,
   "metadata": {},
   "outputs": [],
   "source": []
  },
  {
   "cell_type": "code",
   "execution_count": null,
   "metadata": {},
   "outputs": [],
   "source": [
    "import csv"
   ]
  },
  {
   "cell_type": "code",
   "execution_count": null,
   "metadata": {},
   "outputs": [],
   "source": [
    "with open('/root/data/reidentification/freckles.csv', 'w') as f:\n",
    "    wr = csv.writer(f, quoting=csv.QUOTE_ALL)\n",
    "    for row in dataset:\n",
    "        wr.writerow(row)"
   ]
  },
  {
   "cell_type": "code",
   "execution_count": null,
   "metadata": {},
   "outputs": [],
   "source": [
    "len(dataset[1][-1])"
   ]
  },
  {
   "cell_type": "code",
   "execution_count": null,
   "metadata": {},
   "outputs": [],
   "source": [
    "fishids = {}\n",
    "for d in dataset:\n",
    "    if d[0] not in fishids:\n",
    "        fishids[d[0]] = []\n",
    "    fishids[d[0]].append(len(d[-1]))"
   ]
  },
  {
   "cell_type": "code",
   "execution_count": null,
   "metadata": {},
   "outputs": [],
   "source": [
    "for (k, v) in fishids.items():\n",
    "    \n",
    "    plt.hist(v)\n",
    "    plt.title(k)\n",
    "    plt.show()"
   ]
  }
 ],
 "metadata": {
  "kernelspec": {
   "display_name": "Python 3",
   "language": "python",
   "name": "python3"
  },
  "language_info": {
   "codemirror_mode": {
    "name": "ipython",
    "version": 3
   },
   "file_extension": ".py",
   "mimetype": "text/x-python",
   "name": "python",
   "nbconvert_exporter": "python",
   "pygments_lexer": "ipython3",
   "version": "3.5.2"
  }
 },
 "nbformat": 4,
 "nbformat_minor": 2
}
