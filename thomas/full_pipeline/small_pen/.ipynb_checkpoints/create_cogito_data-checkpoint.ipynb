{
 "cells": [
  {
   "cell_type": "code",
   "execution_count": null,
   "metadata": {},
   "outputs": [],
   "source": [
    "# load annotations\n",
    "import json\n",
    "from pycocotools.coco import COCO\n",
    "import os"
   ]
  },
  {
   "cell_type": "code",
   "execution_count": null,
   "metadata": {},
   "outputs": [],
   "source": [
    "# cocofile = json.load(open('/root/data/small_pen_data_collection/181010010001_body_parts_detection.json'))\n",
    "cocofile = COCO('/root/data/small_pen_data_collection/181010010001_body_parts_detection.json')"
   ]
  },
  {
   "cell_type": "code",
   "execution_count": null,
   "metadata": {},
   "outputs": [],
   "source": [
    "print(len(cocofile.imgs.values()))"
   ]
  },
  {
   "cell_type": "code",
   "execution_count": null,
   "metadata": {},
   "outputs": [],
   "source": [
    "full_fish = []\n",
    "for (image_id, image_data) in cocofile.imgs.items():\n",
    "    # load annotation (only head and caudal fin)\n",
    "    annotation_ids = cocofile.getAnnIds(imgIds=[image_id], catIds=[1, 2], iscrowd=None)\n",
    "    annotations = cocofile.loadAnns(annotation_ids)\n",
    "    \n",
    "    unique_categories = list(set([a['category_id'] for a in annotations]))\n",
    "    if len(unique_categories) >= 2:\n",
    "        # then we have detected head and caudal fin\n",
    "        full_fish.append(image_data['local_path'])"
   ]
  },
  {
   "cell_type": "code",
   "execution_count": null,
   "metadata": {},
   "outputs": [],
   "source": [
    "print(len(full_fish))"
   ]
  },
  {
   "cell_type": "code",
   "execution_count": null,
   "metadata": {},
   "outputs": [],
   "source": [
    "full_fish[0]"
   ]
  },
  {
   "cell_type": "markdown",
   "metadata": {},
   "source": [
    "## Check pairs"
   ]
  },
  {
   "cell_type": "code",
   "execution_count": null,
   "metadata": {},
   "outputs": [],
   "source": [
    "timestamps = dict()\n",
    "for f in full_fish:\n",
    "    ts = os.path.basename(f).split('.')[0].split('_')[-1]\n",
    "    side = os.path.basename(f).split('.')[0].split('_')[0]\n",
    "    if ts not in timestamps:\n",
    "        timestamps[ts] = dict()\n",
    "    timestamps[ts][side] = f"
   ]
  },
  {
   "cell_type": "code",
   "execution_count": null,
   "metadata": {},
   "outputs": [],
   "source": [
    "print(\"number of unique timestamps: {}\".format(len(timestamps.keys())))\n",
    "print(\"number of left images: {}\".format(len([v for (k, v) in timestamps.items() if \"left\" in v])))\n",
    "print(\"number of right images: {}\".format(len([v for (k, v) in timestamps.items() if \"right\" in v])))\n",
    "print(\"number of pairs: {}\".format(len([v for (k, v) in timestamps.items() if \"right\" in v and \"left\" in v])))"
   ]
  },
  {
   "cell_type": "code",
   "execution_count": null,
   "metadata": {},
   "outputs": [],
   "source": [
    "experiments = {}\n",
    "for (ts, sidedict) in timestamps.items():\n",
    "    if 'left' in sidedict and 'right' in sidedict:\n",
    "        exp = sidedict['left'].split('/')[-2]\n",
    "        if exp not in experiments:\n",
    "            experiments[exp] = []\n",
    "        experiments[exp].append((sidedict['left'], sidedict['right']))"
   ]
  },
  {
   "cell_type": "code",
   "execution_count": null,
   "metadata": {},
   "outputs": [],
   "source": [
    "for (k, v) in experiments.items():\n",
    "    print(\"Number of good pairs in experiment {}: {}\".format(k, len(v)))"
   ]
  },
  {
   "cell_type": "code",
   "execution_count": null,
   "metadata": {},
   "outputs": [],
   "source": []
  },
  {
   "cell_type": "code",
   "execution_count": null,
   "metadata": {},
   "outputs": [],
   "source": []
  }
 ],
 "metadata": {
  "kernelspec": {
   "display_name": "Python 3",
   "language": "python",
   "name": "python3"
  },
  "language_info": {
   "codemirror_mode": {
    "name": "ipython",
    "version": 3
   },
   "file_extension": ".py",
   "mimetype": "text/x-python",
   "name": "python",
   "nbconvert_exporter": "python",
   "pygments_lexer": "ipython3",
   "version": "3.5.2"
  }
 },
 "nbformat": 4,
 "nbformat_minor": 2
}
