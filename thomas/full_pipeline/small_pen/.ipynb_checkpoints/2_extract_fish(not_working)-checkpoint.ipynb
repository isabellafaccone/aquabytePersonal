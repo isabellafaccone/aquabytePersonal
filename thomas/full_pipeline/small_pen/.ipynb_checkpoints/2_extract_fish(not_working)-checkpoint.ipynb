{
 "cells": [
  {
   "cell_type": "code",
   "execution_count": null,
   "metadata": {},
   "outputs": [],
   "source": [
    "# since we have a mostly black background, maybe we can extract the fish with a simple filter"
   ]
  },
  {
   "cell_type": "markdown",
   "metadata": {},
   "source": [
    "### Utils functions"
   ]
  },
  {
   "cell_type": "code",
   "execution_count": null,
   "metadata": {},
   "outputs": [],
   "source": [
    "def rgb_to_hsv(r, g, b):\n",
    "    maxc = max(r, g, b)\n",
    "    minc = min(r, g, b)\n",
    "    v = maxc\n",
    "    if minc == maxc:\n",
    "        return 0.0, 0.0, v\n",
    "    s = (maxc-minc) / maxc\n",
    "    rc = (maxc-r) / (maxc-minc)\n",
    "    gc = (maxc-g) / (maxc-minc)\n",
    "    bc = (maxc-b) / (maxc-minc)\n",
    "    if r == maxc:\n",
    "        h = bc-gc\n",
    "    elif g == maxc:\n",
    "        h = 2.0+rc-bc\n",
    "    else:\n",
    "        h = 4.0+gc-rc\n",
    "    h = (h/6.0) % 1.0\n",
    "    return h, s, v"
   ]
  },
  {
   "cell_type": "code",
   "execution_count": null,
   "metadata": {},
   "outputs": [],
   "source": [
    "def crop_and_mask(image_path, min_hsv, max_hsv):\n",
    "    \"\"\"remove green pixels\"\"\"\n",
    "    name = os.path.basename(image_path)\n",
    "    im = Image.open(image_path)\n",
    "    im = im.convert('RGBA')\n",
    "    pix = im.load()\n",
    "    width, height = im.size\n",
    "    for x in range(width):\n",
    "        for y in range(height):\n",
    "            r, g, b, a = pix[x, y]\n",
    "            h_ratio, s_ratio, v_ratio = rgb_to_hsv(r / 255.0, g / 255.0, b / 255.0)\n",
    "            h, s, v = (h_ratio * 360, s_ratio * 255, v_ratio * 255)\n",
    "\n",
    "            min_h, min_s, min_v = min_hsv\n",
    "            max_h, max_s, max_v = max_hsv\n",
    "            if min_h <= h <= max_h and min_s <= s <= max_s and min_v <= v <= max_v:\n",
    "                pix[x, y] = (0, 0, 0, 0)\n",
    "\n",
    "    # save the mask\n",
    "    mask = np.asarray(im)[..., 3]\n",
    "    mask.flags.writeable = True\n",
    "    mask[mask > 0] = 1\n",
    "    return mask"
   ]
  },
  {
   "cell_type": "code",
   "execution_count": null,
   "metadata": {},
   "outputs": [],
   "source": []
  },
  {
   "cell_type": "markdown",
   "metadata": {},
   "source": [
    "### Pick a random image"
   ]
  },
  {
   "cell_type": "code",
   "execution_count": null,
   "metadata": {},
   "outputs": [],
   "source": [
    "import matplotlib.pyplot as plt\n",
    "from PIL import Image\n",
    "import numpy as np\n"
   ]
  },
  {
   "cell_type": "code",
   "execution_count": null,
   "metadata": {},
   "outputs": [],
   "source": [
    "image_path = '/root/data/rnd/small_pen_data_collection/sotra-small-pen/pen-1/2018-10-01/181001010001/left_sotra-small-pen_0_1538475660161.jpg'"
   ]
  },
  {
   "cell_type": "code",
   "execution_count": null,
   "metadata": {},
   "outputs": [],
   "source": [
    "plt.figure(figsize=(20, 20))\n",
    "plt.imshow(Image.open(image_path))\n",
    "plt.show()"
   ]
  },
  {
   "cell_type": "code",
   "execution_count": null,
   "metadata": {},
   "outputs": [],
   "source": [
    "MIN_HSV = rgb_to_hsv(0, 0, 0)\n",
    "MAX_HSV = rgb_to_hsv(96, 96, 96)"
   ]
  },
  {
   "cell_type": "code",
   "execution_count": null,
   "metadata": {},
   "outputs": [],
   "source": [
    "mask = crop_and_mask(image_path, MIN_HSV, MAX_HSV)"
   ]
  },
  {
   "cell_type": "code",
   "execution_count": null,
   "metadata": {},
   "outputs": [],
   "source": []
  },
  {
   "cell_type": "code",
   "execution_count": null,
   "metadata": {},
   "outputs": [],
   "source": []
  },
  {
   "cell_type": "code",
   "execution_count": null,
   "metadata": {},
   "outputs": [],
   "source": []
  },
  {
   "cell_type": "code",
   "execution_count": null,
   "metadata": {},
   "outputs": [],
   "source": []
  },
  {
   "cell_type": "code",
   "execution_count": null,
   "metadata": {},
   "outputs": [],
   "source": []
  }
 ],
 "metadata": {
  "kernelspec": {
   "display_name": "Python 3",
   "language": "python",
   "name": "python3"
  },
  "language_info": {
   "codemirror_mode": {
    "name": "ipython",
    "version": 3
   },
   "file_extension": ".py",
   "mimetype": "text/x-python",
   "name": "python",
   "nbconvert_exporter": "python",
   "pygments_lexer": "ipython3",
   "version": "3.5.2"
  }
 },
 "nbformat": 4,
 "nbformat_minor": 2
}
