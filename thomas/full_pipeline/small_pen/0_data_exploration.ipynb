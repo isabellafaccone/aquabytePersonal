{
 "cells": [
  {
   "cell_type": "code",
   "execution_count": null,
   "metadata": {},
   "outputs": [],
   "source": [
    "import glob\n",
    "import json\n",
    "import os\n",
    "\n",
    "import matplotlib.pyplot as plt\n",
    "import numpy as np\n",
    "from PIL import Image"
   ]
  },
  {
   "cell_type": "code",
   "execution_count": null,
   "metadata": {},
   "outputs": [],
   "source": [
    "left_paths = sorted(glob.glob('/root/data/small_pen_data_collection/sotra-small-pen/pen-1/2018-10-01/*_rectified/left*'))\n",
    "right_paths = sorted(glob.glob('/root/data/small_pen_data_collection/sotra-small-pen/pen-1/2018-10-01/*_rectified/right*'))\n",
    "# assert len(left_paths) == len(right_paths)\n",
    "# print(\"number of pairs: {}\".format(len(left_paths)))"
   ]
  },
  {
   "cell_type": "code",
   "execution_count": null,
   "metadata": {},
   "outputs": [],
   "source": [
    "# problem dict\n",
    "timestamps = {}\n",
    "for path in left_paths + right_paths:\n",
    "    ts = int(os.path.basename(path).split('.')[0].split('_')[-1])\n",
    "    side = os.path.basename(path).split('.')[0].split('_')[0]\n",
    "    if ts not in timestamps:\n",
    "        timestamps[ts] = {}\n",
    "    timestamps[ts][side] = path"
   ]
  },
  {
   "cell_type": "code",
   "execution_count": null,
   "metadata": {},
   "outputs": [],
   "source": [
    "print(\"number of unique timestamps: {}\".format(len(timestamps.keys())))\n",
    "print(\"number of left images: {}\".format(len([v for (k, v) in timestamps.items() if \"left\" in v])))\n",
    "print(\"number of right images: {}\".format(len([v for (k, v) in timestamps.items() if \"right\" in v])))\n",
    "print(\"number of pairs: {}\".format(len([v for (k, v) in timestamps.items() if \"right\" in v and \"left\" in v])))"
   ]
  },
  {
   "cell_type": "code",
   "execution_count": null,
   "metadata": {},
   "outputs": [],
   "source": [
    "good_timestamps = [k for (k, v) in timestamps.items() if \"right\" in v and \"left\" in v]\n",
    "# for ts in sorted(good_timestamps)[::50]:\n",
    "#     f, ax = plt.subplots(1, 2, figsize=(20, 10))\n",
    "#     ax[0].imshow(Image.open(timestamps[ts][\"left\"]))\n",
    "#     ax[0].set_title(os.path.basename(timestamps[ts][\"left\"]))\n",
    "#     ax[1].imshow(Image.open(timestamps[ts][\"right\"]))\n",
    "#     ax[1].set_title(os.path.basename(timestamps[ts][\"right\"]))\n",
    "#     plt.show()"
   ]
  },
  {
   "cell_type": "code",
   "execution_count": null,
   "metadata": {},
   "outputs": [],
   "source": [
    "with open('./to_forwardpass.txt', 'w') as f:\n",
    "    for ts in good_timestamps:\n",
    "        f.writelines(timestamps[ts][\"left\"] + '\\n')\n",
    "        f.writelines(timestamps[ts][\"right\"] + '\\n')"
   ]
  },
  {
   "cell_type": "code",
   "execution_count": null,
   "metadata": {},
   "outputs": [],
   "source": []
  }
 ],
 "metadata": {
  "kernelspec": {
   "display_name": "Python 3",
   "language": "python",
   "name": "python3"
  },
  "language_info": {
   "codemirror_mode": {
    "name": "ipython",
    "version": 3
   },
   "file_extension": ".py",
   "mimetype": "text/x-python",
   "name": "python",
   "nbconvert_exporter": "python",
   "pygments_lexer": "ipython3",
   "version": "3.5.2"
  }
 },
 "nbformat": 4,
 "nbformat_minor": 2
}
