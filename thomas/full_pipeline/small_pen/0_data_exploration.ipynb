{
 "cells": [
  {
   "cell_type": "code",
   "execution_count": null,
   "metadata": {},
   "outputs": [],
   "source": [
    "import glob\n",
    "import json\n",
    "import os\n",
    "\n",
    "import matplotlib.pyplot as plt\n",
    "import numpy as np\n",
    "from PIL import Image"
   ]
  },
  {
   "cell_type": "code",
   "execution_count": null,
   "metadata": {},
   "outputs": [],
   "source": [
    "# test = json.load(open('/root/data/small_pen_data_collection/coco_body_parts_misrectified.json'))\n",
    "# already = list(set([t['local_path'].split('/')[-2] for t in test['images'] if 'local_path' in t]))"
   ]
  },
  {
   "cell_type": "code",
   "execution_count": null,
   "metadata": {},
   "outputs": [],
   "source": [
    "left_paths = sorted(glob.glob('/root/data/small_pen_data_collection/1810170100*_rectified/left_*.jpg'))\n",
    "right_paths = sorted(glob.glob('/root/data/small_pen_data_collection/1810170100*_rectified/right_*.jpg'))\n",
    "# left_paths = sorted(glob.glob('/root/data/small_pen_data_collection/181010010001_*/left_*.jpg'))\n",
    "# right_paths = sorted(glob.glob('/root/data/small_pen_data_collection/181010010001_*/right_*.jpg'))\n",
    "# assert len(left_paths) == len(right_paths)\n",
    "# print(\"number of pairs: {}\".format(len(left_paths)))"
   ]
  },
  {
   "cell_type": "code",
   "execution_count": null,
   "metadata": {},
   "outputs": [],
   "source": [
    "from collections import Counter"
   ]
  },
  {
   "cell_type": "code",
   "execution_count": null,
   "metadata": {},
   "outputs": [],
   "source": [
    "Counter([p.split('/')[-2] for p in left_paths])"
   ]
  },
  {
   "cell_type": "code",
   "execution_count": null,
   "metadata": {},
   "outputs": [],
   "source": [
    "# problem dict\n",
    "timestamps = {}\n",
    "for path in left_paths + right_paths:\n",
    "    if 'ground' in path:\n",
    "        continue\n",
    "    if 'image' in path:\n",
    "        continue\n",
    "    exp = path.split('/')[-2].split('_')[0]\n",
    "    # print(exp)\n",
    "#     if exp in already:\n",
    "#         continue\n",
    "    ts = int(os.path.basename(path).split('.')[0].split('_')[-1])\n",
    "    side = os.path.basename(path).split('.')[0].split('_')[0]\n",
    "    if ts not in timestamps:\n",
    "        timestamps[ts] = {}\n",
    "    timestamps[ts][side] = path"
   ]
  },
  {
   "cell_type": "code",
   "execution_count": null,
   "metadata": {},
   "outputs": [],
   "source": [
    "print(\"number of unique timestamps: {}\".format(len(timestamps.keys())))\n",
    "print(\"number of left images: {}\".format(len([v for (k, v) in timestamps.items() if \"left\" in v])))\n",
    "print(\"number of right images: {}\".format(len([v for (k, v) in timestamps.items() if \"right\" in v])))\n",
    "print(\"number of pairs: {}\".format(len([v for (k, v) in timestamps.items() if \"right\" in v and \"left\" in v])))"
   ]
  },
  {
   "cell_type": "code",
   "execution_count": null,
   "metadata": {},
   "outputs": [],
   "source": [
    "good_timestamps = [k for (k, v) in timestamps.items() if \"right\" in v and \"left\" in v]\n",
    "for ts in sorted(good_timestamps)[::100]:\n",
    "    f, ax = plt.subplots(1, 2, figsize=(20, 10))\n",
    "    print(timestamps[ts][\"left\"])\n",
    "    ax[0].imshow(Image.open(timestamps[ts][\"left\"]))\n",
    "    ax[0].set_title(os.path.basename(timestamps[ts][\"left\"]))\n",
    "    ax[0].axis('off')\n",
    "    ax[1].imshow(Image.open(timestamps[ts][\"right\"]))\n",
    "    ax[1].set_title(os.path.basename(timestamps[ts][\"right\"]))\n",
    "    ax[1].axis('off')\n",
    "    plt.show()\n",
    "    "
   ]
  },
  {
   "cell_type": "code",
   "execution_count": null,
   "metadata": {},
   "outputs": [],
   "source": [
    "# left_paths = sorted(glob.glob('/root/data/aquabyte-images/erko-rotoy/2018-10-06/1/left_*.jpg'))[:50]\n",
    "# # right_paths = sorted(glob.glob('/root/data/aquabyte-images/erko-rotoy/2018-10-06/1/right_*.jpg'))[:50]\n",
    "# with open('./to_forwardpass.txt', 'w') as f:\n",
    "#     for ts in left_paths:\n",
    "#         f.writelines(ts + '\\n')\n",
    "#         f.writelines(ts + '\\n')"
   ]
  },
  {
   "cell_type": "code",
   "execution_count": null,
   "metadata": {},
   "outputs": [],
   "source": []
  },
  {
   "cell_type": "code",
   "execution_count": null,
   "metadata": {},
   "outputs": [],
   "source": [
    "with open('./to_forwardpass.txt', 'w') as f:\n",
    "    for ts in good_timestamps:\n",
    "        f.writelines(timestamps[ts][\"left\"] + '\\n')\n",
    "        f.writelines(timestamps[ts][\"right\"] + '\\n')"
   ]
  },
  {
   "cell_type": "code",
   "execution_count": null,
   "metadata": {},
   "outputs": [],
   "source": []
  },
  {
   "cell_type": "code",
   "execution_count": null,
   "metadata": {},
   "outputs": [],
   "source": []
  },
  {
   "cell_type": "code",
   "execution_count": null,
   "metadata": {},
   "outputs": [],
   "source": []
  },
  {
   "cell_type": "code",
   "execution_count": null,
   "metadata": {},
   "outputs": [],
   "source": []
  },
  {
   "cell_type": "code",
   "execution_count": null,
   "metadata": {},
   "outputs": [],
   "source": []
  }
 ],
 "metadata": {
  "kernelspec": {
   "display_name": "Python 3",
   "language": "python",
   "name": "python3"
  },
  "language_info": {
   "codemirror_mode": {
    "name": "ipython",
    "version": 3
   },
   "file_extension": ".py",
   "mimetype": "text/x-python",
   "name": "python",
   "nbconvert_exporter": "python",
   "pygments_lexer": "ipython3",
   "version": "3.5.2"
  }
 },
 "nbformat": 4,
 "nbformat_minor": 2
}
