{
 "cells": [
  {
   "cell_type": "markdown",
   "metadata": {},
   "source": [
    "# Create data"
   ]
  },
  {
   "cell_type": "code",
   "execution_count": null,
   "metadata": {},
   "outputs": [],
   "source": [
    "import json\n",
    "from pycocotools.coco import COCO\n",
    "from collections import Counter"
   ]
  },
  {
   "cell_type": "code",
   "execution_count": null,
   "metadata": {},
   "outputs": [],
   "source": [
    "jsonfiles = [\"/root/data/small_pen_data_collection/body_parts_detection_merged.json\"]"
   ]
  },
  {
   "cell_type": "code",
   "execution_count": null,
   "metadata": {},
   "outputs": [],
   "source": [
    "eye_center_data = []\n",
    "for jfile in jsonfiles:\n",
    "    coco = COCO(jfile)\n",
    "    image_ids = coco.getImgIds()\n",
    "    cats = coco.cats\n",
    "    print(cats)\n",
    "    for image_id in image_ids:\n",
    "        image_data = coco.loadImgs([image_id])[0]\n",
    "        if \"local_path\" not in image_data:\n",
    "            continue\n",
    "\n",
    "        annotation_ids = coco.getAnnIds(imgIds=[image_data['id']] )   \n",
    "        headid = coco.getAnnIds(imgIds=[image_data['id']], catIds=[1])\n",
    "        if len(coco.loadAnns(headid)) > 0:\n",
    "            head = coco.loadAnns(headid)\n",
    "            for h in head:\n",
    "                tmp = {}\n",
    "                tmp['local_path'] = image_data['local_path'].replace(\"sotra-small-pen_0\", \"small-pen-test-site_1\")\n",
    "\n",
    "                tmp['head_bbox'] = h['bbox']\n",
    "                tmp['head_mask'] = h['segmentation']\n",
    "                tmp['jfile'] = jfile\n",
    "\n",
    "                eye_center_data.append(tmp)"
   ]
  },
  {
   "cell_type": "code",
   "execution_count": null,
   "metadata": {},
   "outputs": [],
   "source": [
    "from tqdm import tqdm\n",
    "import os\n",
    "import skimage.io as io\n",
    "import matplotlib.pyplot as plt"
   ]
  },
  {
   "cell_type": "code",
   "execution_count": null,
   "metadata": {},
   "outputs": [],
   "source": [
    "for ec in tqdm(eye_center_data):\n",
    "    # load the image\n",
    "    new_path = '/root/data/reidentification/heads/{}.head.jpg'.format(os.path.basename(ec['local_path']))\n",
    "#    print(new_path)\n",
    "    if os.path.isfile(new_path):\n",
    "        continue\n",
    "    image = io.imread(ec['local_path'])\n",
    "    \n",
    "    # x1, y1, width, height = [int(c) for c in ec['head_bbox']]\n",
    "    x1, y1, x2, y2 = [int(c) for c in ec['head_bbox']]\n",
    "    # head = image[y1:y1+height, x1:x1+width, :]\n",
    "    head = image[x1:x2, y1:y2, :]\n",
    "#     plt.imshow(head)\n",
    "#     plt.show()\n",
    "    io.imsave(new_path, head)"
   ]
  },
  {
   "cell_type": "code",
   "execution_count": null,
   "metadata": {},
   "outputs": [],
   "source": [
    "new_path"
   ]
  },
  {
   "cell_type": "code",
   "execution_count": null,
   "metadata": {},
   "outputs": [],
   "source": [
    "ec['head_bbox']"
   ]
  },
  {
   "cell_type": "code",
   "execution_count": null,
   "metadata": {},
   "outputs": [],
   "source": [
    "head"
   ]
  },
  {
   "cell_type": "code",
   "execution_count": null,
   "metadata": {},
   "outputs": [],
   "source": [
    "y1"
   ]
  },
  {
   "cell_type": "code",
   "execution_count": null,
   "metadata": {},
   "outputs": [],
   "source": [
    "y2"
   ]
  },
  {
   "cell_type": "code",
   "execution_count": null,
   "metadata": {},
   "outputs": [],
   "source": []
  },
  {
   "cell_type": "markdown",
   "metadata": {},
   "source": [
    "# Build generator"
   ]
  },
  {
   "cell_type": "code",
   "execution_count": null,
   "metadata": {},
   "outputs": [],
   "source": [
    "import glob\n",
    "import json\n",
    "import os\n",
    "import matplotlib.pyplot as plt\n",
    "import matplotlib.patches as patches\n",
    "import numpy as np\n",
    "import skimage.io as io\n",
    "from skimage.transform import resize\n",
    "from pycocotools.coco import COCO\n",
    "import random\n",
    "from keras.applications.mobilenet import MobileNet\n"
   ]
  },
  {
   "cell_type": "markdown",
   "metadata": {},
   "source": [
    "### list images"
   ]
  },
  {
   "cell_type": "code",
   "execution_count": null,
   "metadata": {},
   "outputs": [],
   "source": [
    "heads = glob.glob('/root/data/reidentification/heads_with_eye/small-pen-test-site/*')\n",
    "heads += glob.glob('/root/data/reidentification/heads/*')\n",
    "print(len(heads))"
   ]
  },
  {
   "cell_type": "code",
   "execution_count": null,
   "metadata": {},
   "outputs": [],
   "source": [
    "# len(list(set([os.path.basename(h).split('.')[0] for h in heads])))"
   ]
  },
  {
   "cell_type": "code",
   "execution_count": null,
   "metadata": {},
   "outputs": [],
   "source": [
    "os.path.basename(heads[0]).split('.')[0]"
   ]
  },
  {
   "cell_type": "code",
   "execution_count": null,
   "metadata": {},
   "outputs": [],
   "source": [
    "mappingdic = {}\n",
    "all_path = glob.glob('/root/data/small_pen_data_collection/1*/*.jpg')\n",
    "for path in all_path:\n",
    "    mappingdic[os.path.basename(path).split('.')[0]] = path.split('/')[-2].split('_')[0]"
   ]
  },
  {
   "cell_type": "code",
   "execution_count": null,
   "metadata": {},
   "outputs": [],
   "source": [
    "experiencedic = {}\n",
    "for head in heads:\n",
    "    k = os.path.basename(head).split('.')[0]\n",
    "    exp = mappingdic[k]\n",
    "    if exp not in experiencedic:\n",
    "        experiencedic[exp] = []\n",
    "    experiencedic[exp].append(head)\n",
    "    "
   ]
  },
  {
   "cell_type": "code",
   "execution_count": null,
   "metadata": {},
   "outputs": [],
   "source": [
    "for (k, v) in experiencedic.items():\n",
    "    print(k, len(v))"
   ]
  },
  {
   "cell_type": "code",
   "execution_count": null,
   "metadata": {},
   "outputs": [],
   "source": [
    "batch_size = 16\n",
    "nclasses = len(experiencedic.keys())\n",
    "print(nclasses)\n",
    "input_size = (128, 128, 3)\n",
    "experiences = list(experiencedic.keys())"
   ]
  },
  {
   "cell_type": "code",
   "execution_count": null,
   "metadata": {},
   "outputs": [],
   "source": [
    "def generator(experiencedic, batch_size, input_size):\n",
    "    \n",
    "    while True:\n",
    "        x_batch = np.zeros((batch_size, input_size[0], input_size[1], input_size[2]))\n",
    "        y_batch = np.zeros((batch_size, nclasses))\n",
    "        for i in range(batch_size):\n",
    "            random_exp = np.random.choice(list(experiencedic.keys()))\n",
    "            random_head = np.random.choice(experiencedic[random_exp])\n",
    "            img = io.imread(random_head)\n",
    "            head = resize(img, input_size)\n",
    "            xscale = input_size[0] / img.shape[0]\n",
    "            yscale = input_size[1] / img.shape[1]\n",
    "            x_batch[i, ...] = head\n",
    "            y_batch[i, experiences.index(random_exp)] = 1\n",
    "        yield x_batch, y_batch"
   ]
  },
  {
   "cell_type": "code",
   "execution_count": null,
   "metadata": {},
   "outputs": [],
   "source": [
    "train_gen = generator(experiencedic, batch_size, input_size)\n",
    "# val_gen = generator(experiencedic, batch_size, input_size)"
   ]
  },
  {
   "cell_type": "code",
   "execution_count": null,
   "metadata": {},
   "outputs": [],
   "source": [
    "xb, yb = next(train_gen)\n",
    "for i in range(batch_size):\n",
    "    f, ax = plt.subplots(1)\n",
    "    ax.imshow(xb[i, ...])\n",
    "    ax.set_title(experiences[np.argmax(yb[i, ...])])\n",
    "    plt.show()"
   ]
  },
  {
   "cell_type": "markdown",
   "metadata": {},
   "source": [
    "# LOAD MODEL"
   ]
  },
  {
   "cell_type": "code",
   "execution_count": null,
   "metadata": {},
   "outputs": [],
   "source": [
    "import keras\n",
    "from keras.applications.mobilenet import MobileNet\n",
    "from keras import layers\n",
    "from keras.models import Model\n",
    "from keras.optimizers import Adam"
   ]
  },
  {
   "cell_type": "code",
   "execution_count": null,
   "metadata": {},
   "outputs": [],
   "source": [
    "os.environ[\"CUDA_VISIBLE_DEVICES\"] = \"2\""
   ]
  },
  {
   "cell_type": "code",
   "execution_count": null,
   "metadata": {},
   "outputs": [],
   "source": [
    "alpha = 1.0\n",
    "dropout=1e-3\n",
    "classes = nclasses\n",
    "shape = (1, 1, int(1024 * alpha))"
   ]
  },
  {
   "cell_type": "code",
   "execution_count": null,
   "metadata": {},
   "outputs": [],
   "source": [
    "mnet = MobileNet(input_shape=input_size, weights='imagenet', include_top=False)"
   ]
  },
  {
   "cell_type": "code",
   "execution_count": null,
   "metadata": {},
   "outputs": [],
   "source": [
    "x = layers.GlobalAveragePooling2D()(mnet.output)\n",
    "x = layers.Reshape(shape, name='reshape_1')(x)\n",
    "x = layers.Dropout(dropout, name='dropout')(x)\n",
    "x = layers.Conv2D(classes, (1, 1),\n",
    "                  padding='same',\n",
    "                  name='conv_preds')(x)\n",
    "x = layers.Activation('softmax', name='act_softmax')(x)\n",
    "x = layers.Reshape((classes,), name='reshape_2')(x)"
   ]
  },
  {
   "cell_type": "code",
   "execution_count": null,
   "metadata": {},
   "outputs": [],
   "source": [
    "model = Model(inputs=mnet.inputs, outputs=[x])"
   ]
  },
  {
   "cell_type": "code",
   "execution_count": null,
   "metadata": {},
   "outputs": [],
   "source": [
    "adam = Adam(lr=0.001)\n",
    "model.compile(optimizer=adam, loss=\"categorical_crossentropy\", metrics=[\"categorical_accuracy\", \"top_k_categorical_accuracy\"])"
   ]
  },
  {
   "cell_type": "code",
   "execution_count": null,
   "metadata": {},
   "outputs": [],
   "source": [
    "history = model.fit_generator(train_gen,\n",
    "                    steps_per_epoch= len(heads) // batch_size, \n",
    "                    epochs=50)"
   ]
  },
  {
   "cell_type": "code",
   "execution_count": null,
   "metadata": {},
   "outputs": [],
   "source": []
  }
 ],
 "metadata": {
  "kernelspec": {
   "display_name": "Python 3",
   "language": "python",
   "name": "python3"
  },
  "language_info": {
   "codemirror_mode": {
    "name": "ipython",
    "version": 3
   },
   "file_extension": ".py",
   "mimetype": "text/x-python",
   "name": "python",
   "nbconvert_exporter": "python",
   "pygments_lexer": "ipython3",
   "version": "3.5.2"
  }
 },
 "nbformat": 4,
 "nbformat_minor": 2
}
