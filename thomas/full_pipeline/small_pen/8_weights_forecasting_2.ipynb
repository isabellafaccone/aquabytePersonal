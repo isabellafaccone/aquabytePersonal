{
 "cells": [
  {
   "cell_type": "code",
   "execution_count": null,
   "metadata": {},
   "outputs": [],
   "source": [
    "import pandas as pd\n",
    "import random\n",
    "import numpy as np\n",
    "import matplotlib.pyplot as plt\n",
    "import matplotlib.patches as patches\n",
    "import ast\n",
    "from pycocotools.coco import COCO\n",
    "import skimage.io as io\n",
    "import glob\n",
    "import os"
   ]
  },
  {
   "cell_type": "code",
   "execution_count": null,
   "metadata": {},
   "outputs": [],
   "source": [
    "json_path = '/root/data/small_pen_data_collection/sotra-small-pen/pen-1/2018-10-01/body_parts_annotations.json'\n",
    "example_coco = COCO(json_path)\n",
    "# df = pd.read_csv('./dataset_world_coordinates.csv')\n",
    "df = pd.read_csv('./dataset_complete.csv')"
   ]
  },
  {
   "cell_type": "code",
   "execution_count": null,
   "metadata": {},
   "outputs": [],
   "source": [
    "# df = df.dropna()"
   ]
  },
  {
   "cell_type": "code",
   "execution_count": null,
   "metadata": {},
   "outputs": [],
   "source": [
    "all_images_path = glob.glob('/root/data/small_pen_data_collection/sotra-small-pen/pen-1/2018-10-01/*/*.jpg')\n",
    "local_dic = {}\n",
    "for path in all_images_path:\n",
    "    if 'rectified' not in path:\n",
    "        local_dic[os.path.basename(path)] = path"
   ]
  },
  {
   "cell_type": "code",
   "execution_count": null,
   "metadata": {},
   "outputs": [],
   "source": [
    "# get random row\n",
    "randind = np.random.randint(0, df.shape[0])\n",
    "print(randind)\n",
    "random_row = df.iloc[randind, :]"
   ]
  },
  {
   "cell_type": "code",
   "execution_count": null,
   "metadata": {},
   "outputs": [],
   "source": [
    "# category_ids = example_coco.getCatIds()\n",
    "category_ids = [1, 3, 4, 5, 6, 7, 8]\n",
    "image_ids = random_row['left_image_key']\n",
    "image_data = example_coco.loadImgs([image_ids])[0]\n",
    "\n",
    "# load and display instance annotations\n",
    "file_name = image_data['coco_url'].split('%2F')[2].split('?alt')[0]\n",
    "image = io.imread(local_dic[file_name])\n",
    "f ,ax = plt.subplots(1, figsize=(20, 20))\n",
    "ax.imshow(image); \n",
    "# ax.axis('off')\n",
    "# plt.axis('off')\n",
    "# pylab.rcParams['figure.figsize'] = (8.0, 10.0)\n",
    "annotation_ids = example_coco.getAnnIds(imgIds=[image_data['id']], catIds=category_ids, iscrowd=None)\n",
    "annotations = example_coco.loadAnns(annotation_ids)\n",
    "example_coco.showAnns(annotations)\n",
    "for ann in annotations:\n",
    "    bbox = ann['bbox']\n",
    "    rec = patches.Rectangle((bbox[0], bbox[1]), bbox[2], bbox[3], \n",
    "                            edgecolor='w', facecolor=None, fill=False, linestyle='--', linewidth=2)\n",
    "    ax.add_patch(rec)\n",
    "    # ax.text(bbox[0], bbox[1]-10, id2class[str(ann['category_id'])], fontsize=16)\n",
    "plt.show()\n",
    "# plt.savefig('test.jpg')"
   ]
  },
  {
   "cell_type": "code",
   "execution_count": null,
   "metadata": {},
   "outputs": [],
   "source": [
    "coordinates = np.array([ast.literal_eval(col) for col in random_row[1:-2]])"
   ]
  },
  {
   "cell_type": "code",
   "execution_count": null,
   "metadata": {},
   "outputs": [],
   "source": [
    "from utils import minimum_bounding_rectangle"
   ]
  },
  {
   "cell_type": "code",
   "execution_count": null,
   "metadata": {},
   "outputs": [],
   "source": [
    "def PolyArea(x,y):\n",
    "    return 0.5*np.abs(np.dot(x,np.roll(y,1))-np.dot(y,np.roll(x,1)))"
   ]
  },
  {
   "cell_type": "code",
   "execution_count": null,
   "metadata": {},
   "outputs": [],
   "source": [
    "poly = minimum_bounding_rectangle(np.stack([coordinates[:, 0], coordinates[:, 2]]).transpose())\n",
    "f, ax = plt.subplots(1)\n",
    "ax.scatter(coordinates[:, 0], coordinates[:, 2])\n",
    "for (x, y, s) in zip(coordinates[:, 0], coordinates[:, 2], list(df.columns)[1:-2]):\n",
    "    ax.text(x, y+0.005, s)\n",
    "p = patches.Polygon(poly, edgecolor='r', facecolor='none')\n",
    "ax.add_patch(p)\n",
    "plt.show()"
   ]
  },
  {
   "cell_type": "code",
   "execution_count": null,
   "metadata": {},
   "outputs": [],
   "source": [
    "XY_poly_area = PolyArea(poly[:, 0], poly[:, 1])\n",
    "print(\"xy area : {} m^2\".format(XY_poly_area))"
   ]
  },
  {
   "cell_type": "code",
   "execution_count": null,
   "metadata": {},
   "outputs": [],
   "source": [
    "poly = minimum_bounding_rectangle(np.stack([coordinates[:, 2], coordinates[:, 1]]).transpose())\n",
    "f, ax = plt.subplots(1)\n",
    "ax.scatter(coordinates[:, 2], coordinates[:, 1])\n",
    "for (x, y, s) in zip(coordinates[:, 2], coordinates[:, 1], list(df.columns)[1:-2]):\n",
    "    ax.text(x, y+0.005, s)\n",
    "p = patches.Polygon(poly, edgecolor='r', facecolor='none')\n",
    "ax.add_patch(p)\n",
    "plt.show()"
   ]
  },
  {
   "cell_type": "code",
   "execution_count": null,
   "metadata": {},
   "outputs": [],
   "source": [
    "width = coordinates[:, 1].max() - coordinates[:, 1].min()\n",
    "print(\"Thickness: {} m\".format(width))"
   ]
  },
  {
   "cell_type": "code",
   "execution_count": null,
   "metadata": {},
   "outputs": [],
   "source": [
    "total_volume = XY_poly_area*width"
   ]
  },
  {
   "cell_type": "code",
   "execution_count": null,
   "metadata": {},
   "outputs": [],
   "source": [
    "total_volume"
   ]
  },
  {
   "cell_type": "markdown",
   "metadata": {},
   "source": [
    "# all "
   ]
  },
  {
   "cell_type": "code",
   "execution_count": null,
   "metadata": {},
   "outputs": [],
   "source": [
    "dfna = df.dropna()"
   ]
  },
  {
   "cell_type": "code",
   "execution_count": null,
   "metadata": {},
   "outputs": [],
   "source": [
    "dfna.shape"
   ]
  },
  {
   "cell_type": "code",
   "execution_count": null,
   "metadata": {},
   "outputs": [],
   "source": [
    "volumes = []\n",
    "for rowind in range(dfna.shape[0]):\n",
    "    row = dfna.iloc[rowind, 1:-2]\n",
    "    \n",
    "    coordinates = np.array([ast.literal_eval(col) for col in row])\n",
    "    poly = minimum_bounding_rectangle(np.stack([coordinates[:, 0], coordinates[:, 2]]).transpose())\n",
    "    XY_poly_area = PolyArea(poly[:, 0], poly[:, 1])\n",
    "    width = coordinates[:, 1].max() - coordinates[:, 1].min()\n",
    "    volume = XY_poly_area*width\n",
    "    volumes.append(volume)\n",
    "    # print(\"xy area : {} m^2\".format(XY_poly_area))"
   ]
  },
  {
   "cell_type": "code",
   "execution_count": null,
   "metadata": {},
   "outputs": [],
   "source": [
    "plt.scatter(volumes, dfna['ground_truth'])\n",
    "plt.xlabel('Predicted Volume')\n",
    "plt.ylabel('Weight')\n",
    "plt.xlim([0, 0.1])\n",
    "plt.show()"
   ]
  },
  {
   "cell_type": "markdown",
   "metadata": {},
   "source": [
    "# back to length"
   ]
  },
  {
   "cell_type": "code",
   "execution_count": null,
   "metadata": {},
   "outputs": [],
   "source": [
    "ground_truth_weights = {'181001010001':4315,\n",
    "'181001010002':5981,\n",
    "'181001010003':2773,\n",
    "'181001010004':3164,\n",
    "'181001010005':4480,\n",
    "'181001010006':2559,\n",
    "'181001010007':2121,\n",
    "'181001010008':3949,\n",
    "'181001010009':1957,\n",
    "'181001010010':2997}"
   ]
  },
  {
   "cell_type": "code",
   "execution_count": null,
   "metadata": {},
   "outputs": [],
   "source": [
    "ground_truth_lengths = {'181001010001': 0.695,\n",
    " '1810010100010': 0.655,\n",
    " '181001010002': 0.75,\n",
    " '181001010003': 0.585,\n",
    " '181001010004': 0.625,\n",
    " '181001010005': 0.685,\n",
    " '181001010006': 0.645,\n",
    " '181001010007': 0.535,\n",
    " '181001010008': 0.66,\n",
    " '181001010009': 0.56,\n",
    " '181001010010': 0.655}"
   ]
  },
  {
   "cell_type": "code",
   "execution_count": null,
   "metadata": {},
   "outputs": [],
   "source": [
    "w2l = {}\n",
    "for (k,v) in ground_truth_weights.items():\n",
    "    w2l[v] = ground_truth_lengths[k]"
   ]
  },
  {
   "cell_type": "code",
   "execution_count": null,
   "metadata": {},
   "outputs": [],
   "source": [
    "gt_length = [w2l[w] for w in list(df.iloc[:, -2])]"
   ]
  },
  {
   "cell_type": "code",
   "execution_count": null,
   "metadata": {},
   "outputs": [],
   "source": [
    "plt.scatter(list(df.iloc[:, 2]), gt_length)\n",
    "plt.ylabel('ground truth length')\n",
    "plt.xlabel('predicted length')\n",
    "plt.ylim([0.6, 0.7])\n",
    "plt.show()"
   ]
  },
  {
   "cell_type": "code",
   "execution_count": null,
   "metadata": {},
   "outputs": [],
   "source": []
  },
  {
   "cell_type": "code",
   "execution_count": null,
   "metadata": {},
   "outputs": [],
   "source": []
  },
  {
   "cell_type": "code",
   "execution_count": null,
   "metadata": {},
   "outputs": [],
   "source": []
  },
  {
   "cell_type": "code",
   "execution_count": null,
   "metadata": {},
   "outputs": [],
   "source": []
  },
  {
   "cell_type": "code",
   "execution_count": null,
   "metadata": {},
   "outputs": [],
   "source": []
  },
  {
   "cell_type": "code",
   "execution_count": null,
   "metadata": {},
   "outputs": [],
   "source": []
  }
 ],
 "metadata": {
  "kernelspec": {
   "display_name": "Python 3",
   "language": "python",
   "name": "python3"
  },
  "language_info": {
   "codemirror_mode": {
    "name": "ipython",
    "version": 3
   },
   "file_extension": ".py",
   "mimetype": "text/x-python",
   "name": "python",
   "nbconvert_exporter": "python",
   "pygments_lexer": "ipython3",
   "version": "3.5.2"
  }
 },
 "nbformat": 4,
 "nbformat_minor": 2
}
