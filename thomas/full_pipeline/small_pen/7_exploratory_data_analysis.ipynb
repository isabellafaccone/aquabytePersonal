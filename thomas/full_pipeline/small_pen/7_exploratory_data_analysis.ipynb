{
 "cells": [
  {
   "cell_type": "code",
   "execution_count": null,
   "metadata": {},
   "outputs": [],
   "source": [
    "import pandas as pd\n",
    "import random\n",
    "import missingno as msno\n",
    "import numpy as np\n",
    "from sklearn.model_selection import train_test_split\n",
    "from sklearn import datasets, linear_model\n",
    "from sklearn.metrics import mean_squared_error, r2_score\n",
    "import matplotlib.pyplot as plt"
   ]
  },
  {
   "cell_type": "code",
   "execution_count": null,
   "metadata": {},
   "outputs": [],
   "source": [
    "df = pd.read_csv('./dataset_predictions_complete.csv')"
   ]
  },
  {
   "cell_type": "code",
   "execution_count": null,
   "metadata": {},
   "outputs": [],
   "source": [
    "df.shape"
   ]
  },
  {
   "cell_type": "code",
   "execution_count": null,
   "metadata": {},
   "outputs": [],
   "source": [
    "df.describe()"
   ]
  },
  {
   "cell_type": "code",
   "execution_count": null,
   "metadata": {},
   "outputs": [],
   "source": [
    "df.head()"
   ]
  },
  {
   "cell_type": "code",
   "execution_count": null,
   "metadata": {},
   "outputs": [],
   "source": [
    "msno.matrix(df)"
   ]
  },
  {
   "cell_type": "markdown",
   "metadata": {},
   "source": [
    "# Predictors distribution"
   ]
  },
  {
   "cell_type": "code",
   "execution_count": null,
   "metadata": {},
   "outputs": [],
   "source": [
    "from pycocotools.coco import COCO\n",
    "import skimage.io as io\n",
    "from utils import get_local_dic, get_pairs\n",
    "import matplotlib.patches as patches\n",
    "import json"
   ]
  },
  {
   "cell_type": "code",
   "execution_count": null,
   "metadata": {},
   "outputs": [],
   "source": [
    "# plot the outliers\n",
    "json_path = '/root/data/small_pen_data_collection/body_parts_detection_merged.json'\n",
    "example_coco = COCO(json_path)"
   ]
  },
  {
   "cell_type": "code",
   "execution_count": null,
   "metadata": {},
   "outputs": [],
   "source": [
    "example_coco"
   ]
  },
  {
   "cell_type": "code",
   "execution_count": null,
   "metadata": {},
   "outputs": [],
   "source": [
    "json.load(open(json_path)).keys()"
   ]
  },
  {
   "cell_type": "code",
   "execution_count": null,
   "metadata": {},
   "outputs": [],
   "source": [
    "example_coco.getAnnIds[0]"
   ]
  },
  {
   "cell_type": "code",
   "execution_count": null,
   "metadata": {},
   "outputs": [],
   "source": [
    "example_coco.info()"
   ]
  },
  {
   "cell_type": "code",
   "execution_count": null,
   "metadata": {},
   "outputs": [],
   "source": [
    "# local_dic = get_local_dic()"
   ]
  },
  {
   "cell_type": "code",
   "execution_count": null,
   "metadata": {},
   "outputs": [],
   "source": [
    "ncats = len(example_coco.cats.keys())\n",
    "distpairs = int((ncats * (ncats-1)) /2) + 1"
   ]
  },
  {
   "cell_type": "code",
   "execution_count": null,
   "metadata": {},
   "outputs": [],
   "source": [
    "outliers_dic = {}\n",
    "for col_ind in range(1, distpairs):\n",
    "    print(col_ind)\n",
    "    col_values = np.array(df.iloc[:, col_ind])\n",
    "    plt.hist(col_values[~np.isnan(col_values)] , bins=np.arange(0, 1.1, 0.05)) # <- remove high values\n",
    "    col_name = list(df.columns)[col_ind]\n",
    "    if col_ind < 37:\n",
    "        part0 = example_coco.cats[int(col_name[0])]['name']\n",
    "        part1 = example_coco.cats[int(col_name[1])]['name']\n",
    "        plt.title('Distance from {} to {}'.format(part0, part1))\n",
    "    else:\n",
    "        plt.title('Ground truth')\n",
    "    plt.show()\n",
    "    \n",
    "    # get some stats\n",
    "    mean = np.nanmean(col_values)\n",
    "    std = np.nanstd(col_values)\n",
    "    \n",
    "    thresh = mean + 3*std\n",
    "    outliers = np.count_nonzero(col_values[col_values>thresh])\n",
    "    outliers_index = np.nonzero(col_values>thresh)\n",
    "    outliers_images = list(np.array(df.iloc[:, -1])[outliers_index])\n",
    "    for oi in outliers_images:\n",
    "        if oi not in outliers_dic:\n",
    "            outliers_dic[oi] = []\n",
    "        outliers_dic[oi].append(list(df.columns)[col_ind])\n",
    "    \n",
    "    print('Mean: {}'.format(mean))\n",
    "    print('Std: {}'.format(std))\n",
    "    print('Outliers number: {}'.format(outliers))\n",
    "    print('#'*100)\n"
   ]
  },
  {
   "cell_type": "code",
   "execution_count": null,
   "metadata": {},
   "outputs": [],
   "source": [
    "outliers_dic"
   ]
  },
  {
   "cell_type": "code",
   "execution_count": null,
   "metadata": {},
   "outputs": [],
   "source": [
    "# print(len(list(outliers_dic.keys())))\n",
    "# ct = 0\n",
    "# for (k, v) in outliers_dic.items():\n",
    "#     if len(v) > 3:\n",
    "#         ct+=1\n",
    "# print(ct)"
   ]
  },
  {
   "cell_type": "code",
   "execution_count": null,
   "metadata": {},
   "outputs": [],
   "source": [
    "# experience_181001010005 = df[df.iloc[:, -2] == 4480].iloc[:, -1]\n",
    "# experience_181001010005_distance = list(df[df.iloc[:, -2] == 4480].iloc[:, 2])"
   ]
  },
  {
   "cell_type": "code",
   "execution_count": null,
   "metadata": {},
   "outputs": [],
   "source": [
    "pairs = get_pairs(example_coco)"
   ]
  },
  {
   "cell_type": "code",
   "execution_count": null,
   "metadata": {},
   "outputs": [],
   "source": [
    "for (k, image_id) in enumerate(outliers_dic.keys()):\n",
    "    # category_ids = example_coco.getCatIds()\n",
    "    category_ids = [1, 2, 3, 4, 5, 6, 7, 8, 9]\n",
    "    # image_id = np.random.choice(list(outliers_dic.keys()))\n",
    "    # image_id = 'cjn1i3clnubry0710vgak9umm'\n",
    "    print('Image id: {}'.format(image_id))\n",
    "\n",
    "    image_data = example_coco.loadImgs([image_id])[0]\n",
    "\n",
    "    # load and display instance annotations\n",
    "    # file_name = image_data['coco_url'].split('%2F')[2].split('?alt')[0]\n",
    "    # print(file_name)\n",
    "    # image = io.imread(local_dic[file_name])\n",
    "    image = io.imread(image_data['local_path'])\n",
    "    f ,ax = plt.subplots(1, figsize=(20, 20))\n",
    "    ax.imshow(image); \n",
    "    # ax.axis('off')\n",
    "    # plt.axis('off')\n",
    "    # pylab.rcParams['figure.figsize'] = (8.0, 10.0)\n",
    "    annotation_ids = example_coco.getAnnIds(imgIds=[image_data['id']], catIds=category_ids, iscrowd=None)\n",
    "    annotations = example_coco.loadAnns(annotation_ids)\n",
    "    example_coco.showAnns(annotations)\n",
    "    for ann in annotations:\n",
    "        bbox = ann['bbox']\n",
    "        c = ann['category_id']\n",
    "        ax.text(bbox[1], bbox[0]-10, example_coco.cats[c]['name'], fontsize=16, color='r')\n",
    "\n",
    "    plt.axis('off')\n",
    "    plt.show()\n",
    "    \n",
    "#     print(\"Head to Caudal fin distance: {} m\" .format(experience_181001010005_distance[k]))\n",
    "    outliers_distances = list(set(outliers_dic[image_id]))\n",
    "    for od in outliers_distances:\n",
    "        part0 = example_coco.cats[int(od[0])]['name']\n",
    "        part1 = example_coco.cats[int(od[1])]['name']\n",
    "        print('The distance between the {} and the {} is an outlier'.format(part0, part1))\n",
    "\n",
    "\n",
    "    # get the right image\n",
    "    for (k, v) in pairs.items():\n",
    "        if 'right' in v:\n",
    "            if v['right'] == image_id:\n",
    "                right_id = v['left']\n",
    "                break\n",
    "\n",
    "    print(right_id)\n",
    "    image_data = example_coco.loadImgs([right_id])[0]\n",
    "    # load and display instance annotations\n",
    "#     file_name = image_data['coco_url'].split('%2F')[2].split('?alt')[0]\n",
    "#     print(file_name)\n",
    "#     image = io.imread(local_dic[file_name])\n",
    "    image = io.imread(image_data['local_path'])\n",
    "    f ,ax = plt.subplots(1, figsize=(20, 20))\n",
    "    ax.imshow(image); \n",
    "    # ax.axis('off')\n",
    "    # plt.axis('off')\n",
    "    # pylab.rcParams['figure.figsize'] = (8.0, 10.0)\n",
    "    annotation_ids = example_coco.getAnnIds(imgIds=[image_data['id']], catIds=category_ids, iscrowd=None)\n",
    "    annotations = example_coco.loadAnns(annotation_ids)\n",
    "    example_coco.showAnns(annotations)\n",
    "    for ann in annotations:\n",
    "        bbox = ann['bbox']\n",
    "        c = ann['category_id']\n",
    "        ax.text(bbox[1], bbox[0]-10, example_coco.cats[c]['name'], fontsize=16, color='r')\n",
    "    plt.axis('off')\n",
    "    plt.show()\n",
    "    print('#'*100)"
   ]
  },
  {
   "cell_type": "markdown",
   "metadata": {},
   "source": [
    "# Let's try some models"
   ]
  },
  {
   "cell_type": "code",
   "execution_count": null,
   "metadata": {},
   "outputs": [],
   "source": [
    "# we can remove any values above 1 and turn it into a nan. \n",
    "# only valid because we have some prior on the fish length\n",
    "df[df.iloc[:, 1:-2] > 1] = np.nan"
   ]
  },
  {
   "cell_type": "code",
   "execution_count": null,
   "metadata": {},
   "outputs": [],
   "source": [
    "# number of rows with at least one missing value...\n",
    "sum(df.apply(lambda x: sum(x.isnull().values), axis = 1)>0)"
   ]
  },
  {
   "cell_type": "code",
   "execution_count": null,
   "metadata": {},
   "outputs": [],
   "source": [
    "outliers_dic = {}\n",
    "gt_values = np.array(df.iloc[:, -2])\n",
    "                      \n",
    "for col_ind in range(1, distpairs):\n",
    "    col_values = np.array(df.iloc[:, col_ind])\n",
    "    plt.scatter(col_values, gt_values)\n",
    "    col_name = list(df.columns)[col_ind]\n",
    "    plt.xlabel('Length (m)')\n",
    "    plt.ylabel('Weight (g)')\n",
    "    print(col_ind)\n",
    "    if col_ind < 37:\n",
    "        part0 = example_coco.cats[int(col_name[0])]['name']\n",
    "        part1 = example_coco.cats[int(col_name[1])]['name']\n",
    "        plt.title('Distance from {} to {}'.format(part0, part1))\n",
    "    else:\n",
    "        plt.title(col_name)\n",
    "    plt.show()"
   ]
  },
  {
   "cell_type": "code",
   "execution_count": null,
   "metadata": {},
   "outputs": [],
   "source": []
  },
  {
   "cell_type": "code",
   "execution_count": null,
   "metadata": {},
   "outputs": [],
   "source": []
  },
  {
   "cell_type": "code",
   "execution_count": null,
   "metadata": {},
   "outputs": [],
   "source": []
  },
  {
   "cell_type": "code",
   "execution_count": null,
   "metadata": {},
   "outputs": [],
   "source": []
  },
  {
   "cell_type": "code",
   "execution_count": null,
   "metadata": {},
   "outputs": [],
   "source": []
  },
  {
   "cell_type": "code",
   "execution_count": null,
   "metadata": {},
   "outputs": [],
   "source": []
  },
  {
   "cell_type": "code",
   "execution_count": null,
   "metadata": {},
   "outputs": [],
   "source": []
  }
 ],
 "metadata": {
  "kernelspec": {
   "display_name": "Python 3",
   "language": "python",
   "name": "python3"
  },
  "language_info": {
   "codemirror_mode": {
    "name": "ipython",
    "version": 3
   },
   "file_extension": ".py",
   "mimetype": "text/x-python",
   "name": "python",
   "nbconvert_exporter": "python",
   "pygments_lexer": "ipython3",
   "version": "3.5.2"
  }
 },
 "nbformat": 4,
 "nbformat_minor": 2
}
