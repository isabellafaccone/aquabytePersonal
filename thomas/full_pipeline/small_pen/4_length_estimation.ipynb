{
 "cells": [
  {
   "cell_type": "code",
   "execution_count": null,
   "metadata": {},
   "outputs": [],
   "source": [
    "import json\n",
    "import numpy as np\n",
    "import matplotlib.pyplot as plt\n",
    "from PIL import Image"
   ]
  },
  {
   "cell_type": "code",
   "execution_count": null,
   "metadata": {},
   "outputs": [],
   "source": [
    "mask_annotations = json.load(open('/root/data/rnd/small_pen_data_collection/sotra-small-pen/pen-1/2018-10-01/head_tail_masks.json'))"
   ]
  },
  {
   "cell_type": "code",
   "execution_count": null,
   "metadata": {},
   "outputs": [],
   "source": [
    "left = {'head': (np.mean([point['x'] for point in mask_annotations[0]['Label']['Head'][0]['geometry']]), \\\n",
    "                      np.mean([point['y'] for point in mask_annotations[0]['Label']['Head'][0]['geometry']])), \\\n",
    "             'tail': (np.mean([point['x'] for point in mask_annotations[0]['Label']['Tail'][0]['geometry']]), \\\n",
    "                      np.mean([point['y'] for point in mask_annotations[0]['Label']['Tail'][0]['geometry']]))}"
   ]
  },
  {
   "cell_type": "code",
   "execution_count": null,
   "metadata": {},
   "outputs": [],
   "source": [
    "right = {'head': (np.mean([point['x'] for point in mask_annotations[1]['Label']['Head'][0]['geometry']]), \\\n",
    "                      np.mean([point['y'] for point in mask_annotations[1]['Label']['Head'][0]['geometry']])), \\\n",
    "             'tail': (np.mean([point['x'] for point in mask_annotations[1]['Label']['Tail'][0]['geometry']]), \\\n",
    "                      np.mean([point['y'] for point in mask_annotations[1]['Label']['Tail'][0]['geometry']]))}"
   ]
  },
  {
   "cell_type": "code",
   "execution_count": null,
   "metadata": {},
   "outputs": [],
   "source": [
    "left_image_path = '/root/data/rnd/small_pen_data_collection/sotra-small-pen/pen-1/2018-10-01/181001010008_rectified/right_sotra-small-pen_0_1538489067394.jpg'\n",
    "right_image_path = '/root/data/rnd/small_pen_data_collection/sotra-small-pen/pen-1/2018-10-01/181001010008_rectified/left_sotra-small-pen_0_1538489067394.jpg'"
   ]
  },
  {
   "cell_type": "code",
   "execution_count": null,
   "metadata": {},
   "outputs": [],
   "source": [
    "plt.imshow(Image.open(left_image_path))\n",
    "plt.scatter(left['head'][0], left['head'][1])\n",
    "plt.scatter(left['tail'][0], left['tail'][1])\n",
    "plt.show()"
   ]
  },
  {
   "cell_type": "code",
   "execution_count": null,
   "metadata": {},
   "outputs": [],
   "source": [
    "plt.imshow(Image.open(right_image_path))\n",
    "plt.scatter(right['head'][0], right['head'][1])\n",
    "plt.scatter(right['tail'][0], right['tail'][1])\n",
    "plt.show()"
   ]
  },
  {
   "cell_type": "code",
   "execution_count": null,
   "metadata": {},
   "outputs": [],
   "source": [
    "Image.open(right_image_path).size"
   ]
  },
  {
   "cell_type": "markdown",
   "metadata": {},
   "source": [
    "# convert to depth"
   ]
  },
  {
   "cell_type": "code",
   "execution_count": null,
   "metadata": {},
   "outputs": [],
   "source": [
    "from scipy.interpolate import interp2d"
   ]
  },
  {
   "cell_type": "code",
   "execution_count": null,
   "metadata": {},
   "outputs": [],
   "source": [
    "def convert_to_world_point(x, y, d):\n",
    "    image_center_x = 3000 / 2.0 #depth_map.shape[1] / 2.0\n",
    "    image_center_y = 4096 / 2.0# depth_map.shape[0] / 2.0\n",
    "    px_x = x - image_center_x\n",
    "    px_z = image_center_y - y\n",
    "\n",
    "    sensor_x = px_x * (image_sensor_width / 3000)\n",
    "    sensor_z = px_z * (image_sensor_height / 4096)\n",
    "    \n",
    "    # d = depth_map[y, x]\n",
    "    world_y = d\n",
    "    world_x = (world_y * sensor_x) / focal_length\n",
    "    world_z = (world_y * sensor_z) / focal_length\n",
    "    return (world_x, world_y, world_z)"
   ]
  },
  {
   "cell_type": "code",
   "execution_count": null,
   "metadata": {},
   "outputs": [],
   "source": [
    "focal_length = 0.0107\n",
    "baseline = 0.135\n",
    "pixel_size_m = 3.45 * 1e-6 \n",
    "focal_length_pixel = focal_length / pixel_size_m\n",
    "image_sensor_width = 0.01412\n",
    "image_sensor_height = 0.01412"
   ]
  },
  {
   "cell_type": "code",
   "execution_count": null,
   "metadata": {},
   "outputs": [],
   "source": [
    "disparities = [left['head'][0] - right['head'][0], left['tail'][0] - right['tail'][0]]\n",
    "print(disparities)"
   ]
  },
  {
   "cell_type": "code",
   "execution_count": null,
   "metadata": {},
   "outputs": [],
   "source": [
    "depth = focal_length_pixel*baseline / np.array(disparities)\n",
    "print(depth)"
   ]
  },
  {
   "cell_type": "code",
   "execution_count": null,
   "metadata": {},
   "outputs": [],
   "source": [
    "world_head = convert_to_world_point(left['head'][1], left['head'][0], depth[0])\n",
    "print(world_head)"
   ]
  },
  {
   "cell_type": "code",
   "execution_count": null,
   "metadata": {},
   "outputs": [],
   "source": [
    "world_tail = convert_to_world_point(left['tail'][1], left['tail'][0], depth[1])\n",
    "print(world_tail)"
   ]
  },
  {
   "cell_type": "code",
   "execution_count": null,
   "metadata": {},
   "outputs": [],
   "source": [
    "dist = np.linalg.norm(np.array(world_head) - np.array(world_tail))\n",
    "print(dist)"
   ]
  },
  {
   "cell_type": "code",
   "execution_count": null,
   "metadata": {},
   "outputs": [],
   "source": []
  },
  {
   "cell_type": "code",
   "execution_count": null,
   "metadata": {},
   "outputs": [],
   "source": []
  }
 ],
 "metadata": {
  "kernelspec": {
   "display_name": "Python 3",
   "language": "python",
   "name": "python3"
  },
  "language_info": {
   "codemirror_mode": {
    "name": "ipython",
    "version": 3
   },
   "file_extension": ".py",
   "mimetype": "text/x-python",
   "name": "python",
   "nbconvert_exporter": "python",
   "pygments_lexer": "ipython3",
   "version": "3.5.2"
  }
 },
 "nbformat": 4,
 "nbformat_minor": 2
}
