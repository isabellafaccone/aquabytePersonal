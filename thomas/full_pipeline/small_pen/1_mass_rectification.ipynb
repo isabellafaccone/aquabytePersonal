{
 "cells": [
  {
   "cell_type": "markdown",
   "metadata": {},
   "source": [
    "# rectification"
   ]
  },
  {
   "cell_type": "code",
   "execution_count": null,
   "metadata": {},
   "outputs": [],
   "source": [
    "import glob\n",
    "import json\n",
    "import os\n",
    "from multiprocessing import Pool, pool\n",
    "\n",
    "import cv2\n",
    "import matplotlib.pyplot as plt\n",
    "import numpy as np\n",
    "import csv"
   ]
  },
  {
   "cell_type": "code",
   "execution_count": null,
   "metadata": {},
   "outputs": [],
   "source": [
    "from scipy.io import loadmat\n",
    "import tables"
   ]
  },
  {
   "cell_type": "code",
   "execution_count": null,
   "metadata": {},
   "outputs": [],
   "source": [
    "exp2cal = {}\n",
    "with open('/root/data/small_pen_data_collection/calibration.csv', 'r') as f:\n",
    "    cr = csv.reader(f)\n",
    "    for (i, row) in enumerate(cr):\n",
    "        if i == 0:\n",
    "            continue\n",
    "        exp2cal[row[0]] = row[1]"
   ]
  },
  {
   "cell_type": "code",
   "execution_count": null,
   "metadata": {},
   "outputs": [],
   "source": [
    "# load the parameters\n",
    "def load_params(params_file):\n",
    "# params = json.load(open('/root/data/rnd/small_pen_data_collection/sotra-small-pen/pen-1/2018-10-01/stereo_parameters.json'))\n",
    "    params = json.load(open(params_file))\n",
    "    cameraMatrix1 = np.array(params['CameraParameters1']['IntrinsicMatrix']).transpose()\n",
    "    cameraMatrix2 = np.array(params['CameraParameters2']['IntrinsicMatrix']).transpose()\n",
    "\n",
    "    distCoeffs1 = params['CameraParameters1']['RadialDistortion'][0:2] + \\\n",
    "                   params['CameraParameters1']['TangentialDistortion'] + \\\n",
    "                   [params['CameraParameters1']['RadialDistortion'][2]]\n",
    "    distCoeffs1 = np.array(distCoeffs1)\n",
    "\n",
    "    distCoeffs2 = params['CameraParameters2']['RadialDistortion'][0:2] + \\\n",
    "                   params['CameraParameters2']['TangentialDistortion'] + \\\n",
    "                   [params['CameraParameters2']['RadialDistortion'][2]]\n",
    "    distCoeffs2 = np.array(distCoeffs2)\n",
    "\n",
    "    R = np.array(params['RotationOfCamera2']).transpose()\n",
    "    T = np.array(params['TranslationOfCamera2']).transpose()\n",
    "    # return cameraMatrix1, cameraMatrix2, distCoeffs1, distCoeffs2, R, T\n",
    "    imageSize = (4096, 3000)\n",
    "    # rectification\n",
    "    (R1, R2, P1, P2, Q, leftROI, rightROI) = cv2.stereoRectify(cameraMatrix1, distCoeffs1, cameraMatrix2, distCoeffs2, imageSize, R, T, None, None, None, None, None, cv2.CALIB_ZERO_DISPARITY, 0)\n",
    "\n",
    "    left_maps = cv2.initUndistortRectifyMap(cameraMatrix1, distCoeffs1, R1, P1, imageSize, cv2.CV_16SC2)\n",
    "    right_maps = cv2.initUndistortRectifyMap(cameraMatrix2, distCoeffs2, R2, P2, imageSize, cv2.CV_16SC2)\n",
    "    \n",
    "    return left_maps, right_maps"
   ]
  },
  {
   "cell_type": "code",
   "execution_count": null,
   "metadata": {},
   "outputs": [],
   "source": [
    "rectification_files = glob.glob('/root/data/small_pen_data_collection/underwater_enclosure_0*/parameters*')"
   ]
  },
  {
   "cell_type": "code",
   "execution_count": null,
   "metadata": {},
   "outputs": [],
   "source": [
    "rectification_files"
   ]
  },
  {
   "cell_type": "code",
   "execution_count": null,
   "metadata": {},
   "outputs": [],
   "source": [
    "mapdict = {}\n",
    "for recfile in rectification_files:\n",
    "    left_maps, right_maps = load_params(recfile)\n",
    "    exp = recfile.split('/')[-2]\n",
    "    mapdict[exp] = {}\n",
    "    mapdict[exp]['left'] = left_maps\n",
    "    mapdict[exp]['right'] = right_maps"
   ]
  },
  {
   "cell_type": "code",
   "execution_count": null,
   "metadata": {},
   "outputs": [],
   "source": [
    "mapdict"
   ]
  },
  {
   "cell_type": "code",
   "execution_count": null,
   "metadata": {},
   "outputs": [],
   "source": [
    "# good_sides = ['181008010001', \n",
    "#               '181010010001',\n",
    "#               '181010010002',\n",
    "#               '181010010003',\n",
    "#               '181012010001',\n",
    "#               '181012010002',\n",
    "#               '181012010003',\n",
    "#               '181012010004',\n",
    "#               '181012010005',\n",
    "#               '181012010007',\n",
    "#               '181012010008',\n",
    "#               '181012010009',\n",
    "#               '181012010010',\n",
    "#               '181012010011',\n",
    "#               '181012010012',\n",
    "#               '181012010013',\n",
    "#               '181012010014',\n",
    "#               '181015010001',\n",
    "#               '181015010002',\n",
    "#               '181015010003',\n",
    "#               '181015010004',\n",
    "#               '181015010005',\n",
    "#               '181015010006',\n",
    "#               '181015010007',\n",
    "#               '181016010001',\n",
    "#               '181016010002',\n",
    "#               '181016010003',\n",
    "#               '181016010004',\n",
    "#               '181016010005',\n",
    "#               '181016010006',\n",
    "#               '181016010007',\n",
    "#               '180921010001'\n",
    "#               ]"
   ]
  },
  {
   "cell_type": "code",
   "execution_count": null,
   "metadata": {},
   "outputs": [],
   "source": [
    "# bad_sides = ['181001010001',\n",
    "#              '181001010002',\n",
    "#              '181001010003',\n",
    "#              '181001010004',\n",
    "#              '181001010005',\n",
    "#              '181001010006',\n",
    "#              '181001010007',\n",
    "#              '181001010008',\n",
    "#              '181001010009',\n",
    "#              '181001010010',\n",
    "#              ]"
   ]
  },
  {
   "cell_type": "code",
   "execution_count": null,
   "metadata": {},
   "outputs": [],
   "source": [
    "# for d in os.listdir('/root/data/small_pen_data_collection/'):\n",
    "#     if 'underwater' in d:\n",
    "#         continue\n",
    "#     if 'rectified' in d:\n",
    "#         continue\n",
    "#     if d not in good_sides + bad_sides:\n",
    "#         print(d)"
   ]
  },
  {
   "cell_type": "code",
   "execution_count": null,
   "metadata": {},
   "outputs": [],
   "source": []
  },
  {
   "cell_type": "markdown",
   "metadata": {},
   "source": [
    "### ALL FOLDERS"
   ]
  },
  {
   "cell_type": "code",
   "execution_count": null,
   "metadata": {},
   "outputs": [],
   "source": [
    "from collections import Counter"
   ]
  },
  {
   "cell_type": "code",
   "execution_count": null,
   "metadata": {},
   "outputs": [],
   "source": [
    "rectified_experiences = glob.glob('/root/data/small_pen_data_collection/*_rectified')\n",
    "done = [os.path.basename(p).split('_')[0] for p in rectified_experiences]"
   ]
  },
  {
   "cell_type": "code",
   "execution_count": null,
   "metadata": {},
   "outputs": [],
   "source": [
    "base_dir = '/root/data/small_pen_data_collection/'\n",
    "experiences = os.listdir(base_dir)\n",
    "all_image_path = []\n",
    "for experience in experiences:\n",
    "    folder_path = os.path.join(base_dir, experience)\n",
    "    if not os.path.isdir(folder_path):\n",
    "        continue\n",
    "    if \"rectified\" in folder_path:\n",
    "        continue\n",
    "    if \"reference\" in folder_path:\n",
    "        continue\n",
    "    if 'underwater' in folder_path:\n",
    "        continue\n",
    "    if 'good_pairs' in folder_path:\n",
    "        continue\n",
    "    if experience in done:\n",
    "        continue\n",
    "    if experience[0] != '1':\n",
    "        continue\n",
    "#     if '181017010010' not in folder_path:\n",
    "#         continue\n",
    "    print(folder_path)\n",
    "    all_image_path += glob.glob(folder_path + '/*.jpg')"
   ]
  },
  {
   "cell_type": "code",
   "execution_count": null,
   "metadata": {},
   "outputs": [],
   "source": [
    "all_image_path[0].split('/')"
   ]
  },
  {
   "cell_type": "code",
   "execution_count": null,
   "metadata": {},
   "outputs": [],
   "source": [
    "Counter([path.split('/')[-2] for path in all_image_path])"
   ]
  },
  {
   "cell_type": "code",
   "execution_count": null,
   "metadata": {},
   "outputs": [],
   "source": [
    "# left_paths = sorted(glob.glob('/root/data/rnd/small_pen_data_collection/sotra-small-pen/pen-1/2018-10-01/181001010001/left*'))\n",
    "# right_paths = sorted(glob.glob('/root/data/rnd/small_pen_data_collection/sotra-small-pen/pen-1/2018-10-01/181001010001/right*'))"
   ]
  },
  {
   "cell_type": "code",
   "execution_count": null,
   "metadata": {},
   "outputs": [],
   "source": [
    "def remap_and_save(img_path):\n",
    "    exp_number = img_path.split('/')[-2]\n",
    "    # print(exp_number)\n",
    "    \n",
    "    if exp_number not in exp2cal:\n",
    "        cal  ='underwater_enclosure_04'\n",
    "    else:\n",
    "        cal = exp2cal[exp_number]\n",
    "    # print(cal)\n",
    "    left_maps = mapdict[cal]['left']\n",
    "    right_maps = mapdict[cal]['right']\n",
    "    img = cv2.imread(img_path)\n",
    "    new_path = img_path.replace(exp_number, exp_number + '_rectified')\n",
    "    if 'left' in img_path:\n",
    "        img_remap = cv2.remap(img, left_maps[0], left_maps[1], cv2.INTER_LANCZOS4)\n",
    "        # new_path = new_path.replace('right', 'left')\n",
    "    else:\n",
    "        img_remap = cv2.remap(img, right_maps[0], right_maps[1], cv2.INTER_LANCZOS4)\n",
    "        # new_path = new_path.replace('left', 'right')\n",
    "    if not os.path.isdir(os.path.dirname(new_path)):\n",
    "        os.makedirs(os.path.dirname(new_path))\n",
    "    if not os.path.isfile(new_path):\n",
    "        print(new_path)\n",
    "        cv2.imwrite(new_path, img_remap)"
   ]
  },
  {
   "cell_type": "code",
   "execution_count": null,
   "metadata": {},
   "outputs": [],
   "source": [
    "# def remap_and_save(img_path):\n",
    "#     exp_number = img_path.split('/')[-2]\n",
    "#     left_maps = mapdict[exp]['left']\n",
    "#     right_maps = mapdict[exp]['right']\n",
    "#     print(img_path)\n",
    "#     img = cv2.imread(img_path)\n",
    "#     new_path = img_path.replace(exp_number, exp_number + '_rectified')\n",
    "#     if 'right' in img_path:\n",
    "#         img_remap = cv2.remap(img, left_maps[0], left_maps[1], cv2.INTER_LANCZOS4)\n",
    "#         new_path = new_path.replace('right', 'left')\n",
    "#     else:\n",
    "#         img_remap = cv2.remap(img, right_maps[0], right_maps[1], cv2.INTER_LANCZOS4)\n",
    "#         new_path = new_path.replace('left', 'right')\n",
    "#     print(new_path)\n",
    "#     print(\"#\"*10)\n",
    "#     if not os.path.isdir(os.path.dirname(new_path)):\n",
    "#         os.makedirs(os.path.dirname(new_path))\n",
    "#     cv2.imwrite(new_path, img_remap)"
   ]
  },
  {
   "cell_type": "code",
   "execution_count": null,
   "metadata": {},
   "outputs": [],
   "source": [
    "# multiproceesing\n",
    "p = Pool(6)"
   ]
  },
  {
   "cell_type": "code",
   "execution_count": null,
   "metadata": {},
   "outputs": [],
   "source": [
    "p.map(remap_and_save, all_image_path)"
   ]
  },
  {
   "cell_type": "code",
   "execution_count": null,
   "metadata": {},
   "outputs": [],
   "source": []
  },
  {
   "cell_type": "code",
   "execution_count": null,
   "metadata": {},
   "outputs": [],
   "source": []
  },
  {
   "cell_type": "code",
   "execution_count": null,
   "metadata": {},
   "outputs": [],
   "source": []
  }
 ],
 "metadata": {
  "kernelspec": {
   "display_name": "Python 3",
   "language": "python",
   "name": "python3"
  },
  "language_info": {
   "codemirror_mode": {
    "name": "ipython",
    "version": 3
   },
   "file_extension": ".py",
   "mimetype": "text/x-python",
   "name": "python",
   "nbconvert_exporter": "python",
   "pygments_lexer": "ipython3",
   "version": "3.5.2"
  }
 },
 "nbformat": 4,
 "nbformat_minor": 2
}
