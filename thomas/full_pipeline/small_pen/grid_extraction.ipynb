{
 "cells": [
  {
   "cell_type": "code",
   "execution_count": null,
   "metadata": {},
   "outputs": [],
   "source": [
    "import json\n",
    "from PIL import Image\n",
    "import cv2\n",
    "import matplotlib.pyplot as plt\n",
    "import skimage.io as io\n",
    "import numpy as np"
   ]
  },
  {
   "cell_type": "markdown",
   "metadata": {},
   "source": [
    "# hough transform stuff"
   ]
  },
  {
   "cell_type": "code",
   "execution_count": null,
   "metadata": {},
   "outputs": [],
   "source": [
    "data = json.load(open('/root/data/small_pen_data_collection/gtsf_images/gtsf_labels.json'))"
   ]
  },
  {
   "cell_type": "code",
   "execution_count": null,
   "metadata": {},
   "outputs": [],
   "source": [
    "img = io.imread('/root/data/small_pen_data_collection/gtsf_images/cjhk4p9dyf5va0702liitudpz%2Ffd8fcf11-e1c6-49d5-8c4e-ad6b21039533%2FIMG_1010002.JPG?alt=media')"
   ]
  },
  {
   "cell_type": "code",
   "execution_count": null,
   "metadata": {},
   "outputs": [],
   "source": [
    "img.shape"
   ]
  },
  {
   "cell_type": "code",
   "execution_count": null,
   "metadata": {},
   "outputs": [],
   "source": [
    "plt.figure(figsize=(20, 10))\n",
    "plt.imshow(img)\n",
    "plt.axis('off')\n",
    "plt.show()"
   ]
  },
  {
   "cell_type": "code",
   "execution_count": null,
   "metadata": {},
   "outputs": [],
   "source": [
    "gray = cv2.cvtColor(img,cv2.COLOR_BGR2GRAY)\n",
    "edges = cv2.Canny(gray,50,150,apertureSize = 3)"
   ]
  },
  {
   "cell_type": "code",
   "execution_count": null,
   "metadata": {},
   "outputs": [],
   "source": [
    "# lines = cv2.HoughLines(edges,1,np.pi/180,200)\n",
    "\n",
    "# plt.figure(figsize=(20, 10))\n",
    "# plt.imshow(img)\n",
    "\n",
    "# for rho,theta in lines.squeeze():\n",
    "#     a = np.cos(theta)\n",
    "#     b = np.sin(theta)\n",
    "#     x0 = a*rho\n",
    "#     y0 = b*rho\n",
    "#     x1 = int(x0 + 1000*(-b))\n",
    "#     y1 = int(y0 + 1000*(a))\n",
    "#     x2 = int(x0 - 1000*(-b))\n",
    "#     y2 = int(y0 - 1000*(a))\n",
    "\n",
    "#     # cv2.line(img,(x1,y1),(x2,y2),(0,0,255),2)\n",
    "#     plt.plot([x1, x2], [y1, y2])\n",
    "    \n",
    "# plt.axis('off')\n",
    "# plt.show()"
   ]
  },
  {
   "cell_type": "markdown",
   "metadata": {},
   "source": [
    "# xy axis"
   ]
  },
  {
   "cell_type": "code",
   "execution_count": null,
   "metadata": {},
   "outputs": [],
   "source": [
    "import pandas as pd"
   ]
  },
  {
   "cell_type": "code",
   "execution_count": null,
   "metadata": {},
   "outputs": [],
   "source": [
    "gtdata = pd.read_csv('/root/data/small_pen_data_collection/gtsf.csv')"
   ]
  },
  {
   "cell_type": "code",
   "execution_count": null,
   "metadata": {},
   "outputs": [],
   "source": [
    "ground_truth_lengths = {}\n",
    "for (i,exp) in enumerate(gtdata.iloc[4:, 0]):\n",
    "    ground_truth_lengths[exp] = gtdata.iloc[i+4, 3]"
   ]
  },
  {
   "cell_type": "code",
   "execution_count": null,
   "metadata": {},
   "outputs": [],
   "source": [
    "data = json.load(open('/root/data/small_pen_data_collection/gtsf_images/gtsf_labels.json'))"
   ]
  },
  {
   "cell_type": "code",
   "execution_count": null,
   "metadata": {},
   "outputs": [],
   "source": [
    "x_axis_length = 900\n",
    "y_axis_length = 600"
   ]
  },
  {
   "cell_type": "code",
   "execution_count": null,
   "metadata": {},
   "outputs": [],
   "source": [
    "data_subset = []\n",
    "for d in data:\n",
    "    if 'Y axis' in d['Label'] and 'X axis' in d['Label']:\n",
    "        data_subset.append(d)"
   ]
  },
  {
   "cell_type": "code",
   "execution_count": null,
   "metadata": {},
   "outputs": [],
   "source": [
    "len(data_subset)"
   ]
  },
  {
   "cell_type": "code",
   "execution_count": null,
   "metadata": {},
   "outputs": [],
   "source": [
    "truths = []\n",
    "preds = []\n",
    "for d in data_subset:\n",
    "    # print(d['Dataset Name'])\n",
    "    \n",
    "    exp = d['Dataset Name'].split('-')[0]\n",
    "#     if exp not in ['181017010010', '181017010011']:\n",
    "#         continue\n",
    "    # print(d['External ID'])\n",
    "    total_l_coordinates = d['Label']['total L (mouth to caudal fin)'][0]['geometry']\n",
    "    # print(total_l_coordinates)\n",
    "    total_l_pixel_length_x = np.abs(total_l_coordinates[0]['x'] - total_l_coordinates[1]['x'])\n",
    "    total_l_pixel_length_y = np.abs(total_l_coordinates[0]['y'] - total_l_coordinates[1]['y'])\n",
    "    print(total_l_pixel_length_x, total_l_pixel_length_y)\n",
    "    \n",
    "    x_axis_coordinates = d['Label']['X axis'][0]['geometry']\n",
    "    x_axis_pixel_length = np.abs(x_axis_coordinates[0]['x'] - x_axis_coordinates[1]['x'])\n",
    "    y_axis_coordinates = d['Label']['Y axis'][0]['geometry']\n",
    "    y_axis_pixel_length = np.abs(y_axis_coordinates[0]['y'] - y_axis_coordinates[1]['y']) \n",
    "    print(x_axis_pixel_length, y_axis_pixel_length)\n",
    "    \n",
    "    # PYTHAGORE MOTHERFUCKER\n",
    "    total_length_mm_x = (total_l_pixel_length_x * x_axis_length) / x_axis_pixel_length\n",
    "    print(total_length_mm_x)\n",
    "    total_length_mm_y = (total_l_pixel_length_y * y_axis_length) / y_axis_pixel_length\n",
    "    print(total_length_mm_y)\n",
    "    total_length_mm = np.sqrt(total_length_mm_x**2 + total_length_mm_y**2)\n",
    "    print(\"predicted length {}\".format(total_length_mm))\n",
    "    \n",
    "    gt_length = int(ground_truth_lengths[exp])\n",
    "    print(\"gt length {}\".format(gt_length))\n",
    "    rel_error = (total_length_mm-gt_length) / gt_length\n",
    "    print(\"relative error {}\".format(rel_error))\n",
    "    print('#'*100)\n",
    "    truths.append(gt_length)\n",
    "    preds.append(total_length_mm)"
   ]
  },
  {
   "cell_type": "code",
   "execution_count": null,
   "metadata": {},
   "outputs": [],
   "source": [
    "plt.scatter(preds, truths)\n",
    "plt.show()"
   ]
  },
  {
   "cell_type": "code",
   "execution_count": null,
   "metadata": {},
   "outputs": [],
   "source": []
  },
  {
   "cell_type": "code",
   "execution_count": null,
   "metadata": {},
   "outputs": [],
   "source": []
  },
  {
   "cell_type": "code",
   "execution_count": null,
   "metadata": {},
   "outputs": [],
   "source": []
  },
  {
   "cell_type": "code",
   "execution_count": null,
   "metadata": {},
   "outputs": [],
   "source": []
  },
  {
   "cell_type": "code",
   "execution_count": null,
   "metadata": {},
   "outputs": [],
   "source": []
  },
  {
   "cell_type": "code",
   "execution_count": null,
   "metadata": {},
   "outputs": [],
   "source": [
    "data[0]"
   ]
  }
 ],
 "metadata": {
  "kernelspec": {
   "display_name": "Python 3",
   "language": "python",
   "name": "python3"
  },
  "language_info": {
   "codemirror_mode": {
    "name": "ipython",
    "version": 3
   },
   "file_extension": ".py",
   "mimetype": "text/x-python",
   "name": "python",
   "nbconvert_exporter": "python",
   "pygments_lexer": "ipython3",
   "version": "3.5.2"
  }
 },
 "nbformat": 4,
 "nbformat_minor": 2
}
