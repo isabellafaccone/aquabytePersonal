{
 "cells": [
  {
   "cell_type": "markdown",
   "metadata": {},
   "source": [
    "# ONE PAIR"
   ]
  },
  {
   "cell_type": "code",
   "execution_count": null,
   "metadata": {},
   "outputs": [],
   "source": [
    "import cv2\n",
    "import matplotlib.pyplot as plt\n",
    "import numpy as np"
   ]
  },
  {
   "cell_type": "code",
   "execution_count": null,
   "metadata": {},
   "outputs": [],
   "source": [
    "cv2.__version__\n"
   ]
  },
  {
   "cell_type": "code",
   "execution_count": null,
   "metadata": {},
   "outputs": [],
   "source": [
    "min_disparity=0\n",
    "num_disp=160\n",
    "sad_window_size=3\n",
    "uniqueness=10\n",
    "speckle_window_size=15\n",
    "speckle_range=32\n",
    "p1=216\n",
    "p2=864\n",
    "max_disparity=1\n",
    "full_dp=False"
   ]
  },
  {
   "cell_type": "code",
   "execution_count": null,
   "metadata": {},
   "outputs": [],
   "source": [
    "block_matcher = cv2.StereoSGBM(minDisparity=min_disparity,\n",
    "                        numDisparities=num_disp,\n",
    "                        SADWindowSize=sad_window_size,\n",
    "                        uniquenessRatio=uniqueness,\n",
    "                        speckleWindowSize=speckle_window_size,\n",
    "                        speckleRange=speckle_range,\n",
    "                        disp12MaxDiff=max_disparity,\n",
    "                        P1=p1,\n",
    "                        P2=p2,\n",
    "                        fullDP=full_dp)"
   ]
  },
  {
   "cell_type": "code",
   "execution_count": null,
   "metadata": {},
   "outputs": [],
   "source": [
    "left = cv2.imread('/root/data/blender_test/Image0028_L.png')[230:325, 370:650]\n",
    "right = cv2.imread('/root/data/blender_test/Image0028_R.png')[230:325, 370:650]"
   ]
  },
  {
   "cell_type": "code",
   "execution_count": null,
   "metadata": {},
   "outputs": [],
   "source": [
    "plt.imshow(left)\n",
    "plt.show()"
   ]
  },
  {
   "cell_type": "code",
   "execution_count": null,
   "metadata": {},
   "outputs": [],
   "source": [
    "plt.imshow(right)\n",
    "plt.show()"
   ]
  },
  {
   "cell_type": "code",
   "execution_count": null,
   "metadata": {},
   "outputs": [],
   "source": [
    "disp = block_matcher.compute(left, right).astype(np.float32) / 16.0"
   ]
  },
  {
   "cell_type": "code",
   "execution_count": null,
   "metadata": {},
   "outputs": [],
   "source": [
    "plt.imshow(disp)\n",
    "plt.show()"
   ]
  },
  {
   "cell_type": "markdown",
   "metadata": {},
   "source": [
    "# TUNING"
   ]
  },
  {
   "cell_type": "code",
   "execution_count": null,
   "metadata": {},
   "outputs": [],
   "source": [
    "import cv2\n",
    "import matplotlib.pyplot as plt\n",
    "import numpy as np"
   ]
  },
  {
   "cell_type": "code",
   "execution_count": null,
   "metadata": {},
   "outputs": [],
   "source": [
    "left = cv2.imread('/root/data/blender_test/Image0028_L.png')[230:325, 370:650]\n",
    "right = cv2.imread('/root/data/blender_test/Image0028_R.png')[230:325, 370:650]\n",
    "# left = cv2.resize(left, (800, 600))\n",
    "# right = cv2.resize(right, (800, 600))"
   ]
  },
  {
   "cell_type": "code",
   "execution_count": null,
   "metadata": {},
   "outputs": [],
   "source": [
    "params = dict()\n",
    "\n",
    "for _ in range(50):\n",
    "    \n",
    "    mind = 0\n",
    "    params['min_disparity']=mind\n",
    "    params['num_disp']=np.random.choice(range(16, 320, 16))\n",
    "    params['sad_window_size']=np.random.choice([3 ,5, 7, 9,11, 15, 17])\n",
    "    params['uniqueness']=np.random.randint(5, 15)\n",
    "    params['speckle_window_size']=np.random.randint(0, 50)\n",
    "    params['speckle_range']=np.random.randint(0, 10)\n",
    "    params['p1']=216\n",
    "    params['p2']=864\n",
    "    params['max_disparity']=np.random.randint(mind+1, mind+32)\n",
    "    params['full_dp']=False\n",
    "    print(params)\n",
    "    block_matcher = cv2.StereoSGBM(minDisparity=params['min_disparity'],\n",
    "                            numDisparities=params['num_disp'],\n",
    "                            SADWindowSize=params['sad_window_size'],\n",
    "                            uniquenessRatio=params['uniqueness'],\n",
    "                            speckleWindowSize=params['speckle_window_size'],\n",
    "                            speckleRange=params['speckle_range'],\n",
    "                            disp12MaxDiff=params['max_disparity'],\n",
    "                            P1=params['p1'],\n",
    "                            P2=params['p2'],\n",
    "                            fullDP=params['full_dp'])\n",
    "    \n",
    "    \n",
    "    disp = block_matcher.compute(left, right).astype(np.float32) / 16.0\n",
    "    f, ax = plt.subplots(1, 4, figsize=(20, 10))\n",
    "    ax[0].imshow(left)\n",
    "    ax[1].imshow(right)\n",
    "    ax[2].imshow(disp)\n",
    "    ax[3].imshow(left)\n",
    "    ax[3].imshow(disp, alpha=0.2)\n",
    "    plt.show()\n",
    "    \n",
    "    \n",
    "    print('#'*100)"
   ]
  },
  {
   "cell_type": "markdown",
   "metadata": {},
   "source": [
    "# good params"
   ]
  },
  {
   "cell_type": "code",
   "execution_count": null,
   "metadata": {},
   "outputs": [],
   "source": [
    "params = {'p2': 864, 'p1': 216, 'speckle_window_size': 32, 'speckle_range': 6, 'min_disparity': 0, 'max_disparity': 20, 'uniqueness': 13, 'num_disp': 32, 'full_dp': False, 'sad_window_size': 7}\n",
    "# params = {'p2': 864, 'p1': 216, 'speckle_window_size': 15, 'speckle_range': 7, 'min_disparity': 0, 'max_disparity': 14, 'uniqueness': 12, 'num_disp': 128, 'full_dp': False, 'sad_window_size': 7}\n",
    "# params= {'p2': 864, 'p1': 216, 'speckle_window_size': 30, 'speckle_range': 3, 'min_disparity': 0, 'max_disparity': 25, 'uniqueness': 9, 'num_disp': 16, 'full_dp': False, 'sad_window_size': 7}"
   ]
  },
  {
   "cell_type": "code",
   "execution_count": null,
   "metadata": {},
   "outputs": [],
   "source": [
    "left = cv2.imread('/root/data/blender_test/Image0028_L.png')[230:325, 370:650]\n",
    "right = cv2.imread('/root/data/blender_test/Image0028_R.png')[230:325, 370:650]"
   ]
  },
  {
   "cell_type": "code",
   "execution_count": null,
   "metadata": {},
   "outputs": [],
   "source": [
    "block_matcher = cv2.StereoSGBM(minDisparity=params['min_disparity'],\n",
    "                        numDisparities=params['num_disp'],\n",
    "                        SADWindowSize=params['sad_window_size'],\n",
    "                        uniquenessRatio=params['uniqueness'],\n",
    "                        speckleWindowSize=params['speckle_window_size'],\n",
    "                        speckleRange=params['speckle_range'],\n",
    "                        disp12MaxDiff=params['max_disparity'],\n",
    "                        P1=params['p1'],\n",
    "                        P2=params['p2'],\n",
    "                        fullDP=params['full_dp'])"
   ]
  },
  {
   "cell_type": "code",
   "execution_count": null,
   "metadata": {},
   "outputs": [],
   "source": []
  },
  {
   "cell_type": "code",
   "execution_count": null,
   "metadata": {},
   "outputs": [],
   "source": [
    "disp = block_matcher.compute(left, right).astype(np.float32) / 16.0\n",
    "f, ax = plt.subplots(1, 4, figsize=(20, 10))\n",
    "ax[0].imshow(left)\n",
    "ax[1].imshow(right)\n",
    "ax[2].imshow(disp)\n",
    "ax[3].imshow(left)\n",
    "ax[3].imshow(disp, alpha=0.2)"
   ]
  },
  {
   "cell_type": "code",
   "execution_count": null,
   "metadata": {},
   "outputs": [],
   "source": [
    "plt.imshow(disp)\n",
    "plt.colorbar()\n",
    "plt.show()"
   ]
  },
  {
   "cell_type": "markdown",
   "metadata": {},
   "source": [
    "# overlay mask"
   ]
  },
  {
   "cell_type": "code",
   "execution_count": null,
   "metadata": {},
   "outputs": [],
   "source": [
    "from utils import crop_and_mask\n",
    "from PIL import Image"
   ]
  },
  {
   "cell_type": "code",
   "execution_count": null,
   "metadata": {},
   "outputs": [],
   "source": [
    "mask = crop_and_mask(Image.open('/root/data/blender_test/Image0028_L.png').convert('RGB'))"
   ]
  },
  {
   "cell_type": "code",
   "execution_count": null,
   "metadata": {},
   "outputs": [],
   "source": [
    "small_mask = mask[230:325, 370:650]"
   ]
  },
  {
   "cell_type": "code",
   "execution_count": null,
   "metadata": {},
   "outputs": [],
   "source": [
    "plt.imshow(disp*small_mask)\n",
    "plt.colorbar()\n",
    "plt.show()"
   ]
  },
  {
   "cell_type": "code",
   "execution_count": null,
   "metadata": {},
   "outputs": [],
   "source": [
    "disparities = disp*small_mask"
   ]
  },
  {
   "cell_type": "code",
   "execution_count": null,
   "metadata": {},
   "outputs": [],
   "source": [
    "disparities.max()"
   ]
  },
  {
   "cell_type": "code",
   "execution_count": null,
   "metadata": {},
   "outputs": [],
   "source": [
    "# meters\n",
    "focal_length = 10.0*1e-3\n",
    "baseline = 65.0*1e-3\n",
    "image_sensor_width = 32.0*1e-3\n",
    "image_sensor_height = 18.0*1e-3\n",
    "pixel_size = image_sensor_width / 1024\n",
    "print(pixel_size)"
   ]
  },
  {
   "cell_type": "code",
   "execution_count": null,
   "metadata": {},
   "outputs": [],
   "source": [
    "focal_length_pixel = focal_length / pixel_size\n",
    "depth = focal_length_pixel*baseline / disparities"
   ]
  },
  {
   "cell_type": "code",
   "execution_count": null,
   "metadata": {},
   "outputs": [],
   "source": [
    "focal_length_pixel*baseline / 12"
   ]
  },
  {
   "cell_type": "code",
   "execution_count": null,
   "metadata": {},
   "outputs": [],
   "source": [
    "depth[depth == np.inf] = 0\n",
    "depth[depth == -np.inf] = 0"
   ]
  },
  {
   "cell_type": "code",
   "execution_count": null,
   "metadata": {},
   "outputs": [],
   "source": [
    "plt.imshow(depth)\n",
    "plt.colorbar()\n",
    "plt.clim([0, 10])\n",
    "plt.show()"
   ]
  },
  {
   "cell_type": "code",
   "execution_count": null,
   "metadata": {},
   "outputs": [],
   "source": [
    "td = (np.load('/root/data/blender_test/true_depth.npy')*mask)[230:325, 370:650]\n",
    "# td[td>14]=0\n",
    "plt.imshow(td)\n",
    "plt.colorbar()\n",
    "plt.clim([1, 10])\n",
    "plt.show()"
   ]
  },
  {
   "cell_type": "code",
   "execution_count": null,
   "metadata": {},
   "outputs": [],
   "source": [
    "f, ax = plt.subplots(1, 2, figsize=(20, 10))\n",
    "im = ax[0].imshow(depth)\n",
    "im2 = ax[1].imshow(td)\n",
    "ax[0].set_title('prediction')\n",
    "im.set_clim(1, 10)\n",
    "im2.set_clim(1, 10)\n",
    "ax[1].set_title('ground truth')\n",
    "\n",
    "cbar_ax = f.add_axes([0.95, 0.30, 0.05, 0.5])\n",
    "f.colorbar(im, cax=cbar_ax)\n",
    "plt.show()"
   ]
  },
  {
   "cell_type": "code",
   "execution_count": null,
   "metadata": {},
   "outputs": [],
   "source": [
    "total_err = []\n",
    "xs, ys = np.nonzero(depth)\n",
    "for (x,y) in zip(xs, ys):\n",
    "    truth = td[x,y]\n",
    "    pred = depth[x,y]\n",
    "    err = np.abs(truth-pred) / truth\n",
    "    total_err.append(err)"
   ]
  },
  {
   "cell_type": "code",
   "execution_count": null,
   "metadata": {},
   "outputs": [],
   "source": [
    "np.mean(total_err)"
   ]
  },
  {
   "cell_type": "code",
   "execution_count": null,
   "metadata": {},
   "outputs": [],
   "source": []
  }
 ],
 "metadata": {
  "kernelspec": {
   "display_name": "Python 2",
   "language": "python",
   "name": "python2"
  },
  "language_info": {
   "codemirror_mode": {
    "name": "ipython",
    "version": 2
   },
   "file_extension": ".py",
   "mimetype": "text/x-python",
   "name": "python",
   "nbconvert_exporter": "python",
   "pygments_lexer": "ipython2",
   "version": "2.7.12"
  }
 },
 "nbformat": 4,
 "nbformat_minor": 2
}
