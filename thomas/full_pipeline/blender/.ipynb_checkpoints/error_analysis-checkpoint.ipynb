{
 "cells": [
  {
   "cell_type": "markdown",
   "metadata": {},
   "source": [
    "# UTILS"
   ]
  },
  {
   "cell_type": "code",
   "execution_count": 4,
   "metadata": {},
   "outputs": [],
   "source": [
    "def convert_to_world_point(x, y, depth_map):\n",
    "    \"\"\"\n",
    "    Returns the real world coordinates of pixels (x, y) \n",
    "    given the depth map\n",
    "    \n",
    "    Input:\n",
    "        - x, y: int, pixel coordinates\n",
    "        - depth_map: np.array of size (W, H)\n",
    "    \n",
    "    Output:\n",
    "        - world_x, world_y, world_z: tuple of int\n",
    "    \"\"\"\n",
    "    image_center_x = 1024 / 2.0 #depth_map.shape[1] / 2.0\n",
    "    image_center_y = 512 / 2.0 # depth_map.shape[0] / 2.0\n",
    "    px_x = x - image_center_x\n",
    "    px_z = image_center_y - y\n",
    "\n",
    "    sensor_x = px_x * (image_sensor_width / 1024)\n",
    "    sensor_z = px_z * (image_sensor_height / 512)\n",
    "    \n",
    "    d = depth_map[y, x]\n",
    "    world_y = d\n",
    "    world_x = (world_y * sensor_x) / focal_length\n",
    "    world_z = (world_y * sensor_z) / focal_length\n",
    "    return (world_x, world_y, world_z)"
   ]
  },
  {
   "cell_type": "code",
   "execution_count": 5,
   "metadata": {},
   "outputs": [],
   "source": [
    "image_sensor_width = 32.0*1e-3\n",
    "image_sensor_height = 18.0*1e-3\n",
    "focal_length = 10.0*1e-3"
   ]
  },
  {
   "cell_type": "markdown",
   "metadata": {},
   "source": [
    "# GROUND TRUTH"
   ]
  },
  {
   "cell_type": "code",
   "execution_count": 6,
   "metadata": {},
   "outputs": [
    {
     "name": "stderr",
     "output_type": "stream",
     "text": [
      "/usr/local/lib/python2.7/dist-packages/scipy/sparse/lil.py:19: RuntimeWarning: numpy.dtype size changed, may indicate binary incompatibility. Expected 96, got 88\n",
      "  from . import _csparsetools\n",
      "/usr/local/lib/python2.7/dist-packages/scipy/sparse/csgraph/__init__.py:165: RuntimeWarning: numpy.dtype size changed, may indicate binary incompatibility. Expected 96, got 88\n",
      "  from ._shortest_path import shortest_path, floyd_warshall, dijkstra,\\\n",
      "/usr/local/lib/python2.7/dist-packages/scipy/sparse/csgraph/_validation.py:5: RuntimeWarning: numpy.dtype size changed, may indicate binary incompatibility. Expected 96, got 88\n",
      "  from ._tools import csgraph_to_dense, csgraph_from_dense,\\\n",
      "/usr/local/lib/python2.7/dist-packages/scipy/sparse/csgraph/__init__.py:167: RuntimeWarning: numpy.dtype size changed, may indicate binary incompatibility. Expected 96, got 88\n",
      "  from ._traversal import breadth_first_order, depth_first_order, \\\n",
      "/usr/local/lib/python2.7/dist-packages/scipy/sparse/csgraph/__init__.py:169: RuntimeWarning: numpy.dtype size changed, may indicate binary incompatibility. Expected 96, got 88\n",
      "  from ._min_spanning_tree import minimum_spanning_tree\n",
      "/usr/local/lib/python2.7/dist-packages/scipy/sparse/csgraph/__init__.py:170: RuntimeWarning: numpy.dtype size changed, may indicate binary incompatibility. Expected 96, got 88\n",
      "  from ._reordering import reverse_cuthill_mckee, maximum_bipartite_matching, \\\n",
      "/usr/local/lib/python2.7/dist-packages/scipy/spatial/__init__.py:95: RuntimeWarning: numpy.dtype size changed, may indicate binary incompatibility. Expected 96, got 88\n",
      "  from .ckdtree import *\n",
      "/usr/local/lib/python2.7/dist-packages/scipy/spatial/__init__.py:96: RuntimeWarning: numpy.dtype size changed, may indicate binary incompatibility. Expected 96, got 88\n",
      "  from .qhull import *\n",
      "/usr/local/lib/python2.7/dist-packages/scipy/spatial/_spherical_voronoi.py:18: RuntimeWarning: numpy.dtype size changed, may indicate binary incompatibility. Expected 96, got 88\n",
      "  from . import _voronoi\n",
      "/usr/local/lib/python2.7/dist-packages/scipy/spatial/distance.py:122: RuntimeWarning: numpy.dtype size changed, may indicate binary incompatibility. Expected 96, got 88\n",
      "  from . import _hausdorff\n",
      "/usr/local/lib/python2.7/dist-packages/scipy/linalg/basic.py:17: RuntimeWarning: numpy.dtype size changed, may indicate binary incompatibility. Expected 96, got 88\n",
      "  from ._solve_toeplitz import levinson\n",
      "/usr/local/lib/python2.7/dist-packages/scipy/linalg/__init__.py:207: RuntimeWarning: numpy.dtype size changed, may indicate binary incompatibility. Expected 96, got 88\n",
      "  from ._decomp_update import *\n",
      "/usr/local/lib/python2.7/dist-packages/sklearn/utils/__init__.py:10: RuntimeWarning: numpy.dtype size changed, may indicate binary incompatibility. Expected 96, got 88\n",
      "  from .murmurhash import murmurhash3_32\n",
      "/usr/local/lib/python2.7/dist-packages/scipy/special/__init__.py:640: RuntimeWarning: numpy.dtype size changed, may indicate binary incompatibility. Expected 96, got 88\n",
      "  from ._ufuncs import *\n",
      "/usr/local/lib/python2.7/dist-packages/scipy/special/_ellip_harm.py:7: RuntimeWarning: numpy.dtype size changed, may indicate binary incompatibility. Expected 96, got 88\n",
      "  from ._ellip_harm_2 import _ellipsoid, _ellipsoid_norm\n",
      "/usr/local/lib/python2.7/dist-packages/sklearn/utils/extmath.py:24: RuntimeWarning: numpy.dtype size changed, may indicate binary incompatibility. Expected 96, got 88\n",
      "  from ._logistic_sigmoid import _log_logistic_sigmoid\n",
      "/usr/local/lib/python2.7/dist-packages/sklearn/utils/extmath.py:26: RuntimeWarning: numpy.dtype size changed, may indicate binary incompatibility. Expected 96, got 88\n",
      "  from .sparsefuncs_fast import csr_row_norms\n",
      "/usr/local/lib/python2.7/dist-packages/scipy/interpolate/_bsplines.py:10: RuntimeWarning: numpy.dtype size changed, may indicate binary incompatibility. Expected 96, got 88\n",
      "  from . import _bspl\n",
      "/usr/local/lib/python2.7/dist-packages/scipy/optimize/_trlib/__init__.py:1: RuntimeWarning: numpy.dtype size changed, may indicate binary incompatibility. Expected 96, got 88\n",
      "  from ._trlib import TRLIBQuadraticSubproblem\n",
      "/usr/local/lib/python2.7/dist-packages/scipy/optimize/_numdiff.py:10: RuntimeWarning: numpy.dtype size changed, may indicate binary incompatibility. Expected 96, got 88\n",
      "  from ._group_columns import group_dense, group_sparse\n",
      "/usr/local/lib/python2.7/dist-packages/scipy/stats/_continuous_distns.py:18: RuntimeWarning: numpy.dtype size changed, may indicate binary incompatibility. Expected 96, got 88\n",
      "  from . import _stats\n",
      "/usr/local/lib/python2.7/dist-packages/sklearn/metrics/cluster/supervised.py:23: RuntimeWarning: numpy.dtype size changed, may indicate binary incompatibility. Expected 96, got 88\n",
      "  from .expected_mutual_info_fast import expected_mutual_information\n",
      "/usr/local/lib/python2.7/dist-packages/sklearn/metrics/pairwise.py:30: RuntimeWarning: numpy.dtype size changed, may indicate binary incompatibility. Expected 96, got 88\n",
      "  from .pairwise_fast import _chi2_kernel_fast, _sparse_manhattan\n",
      "/usr/local/lib/python2.7/dist-packages/sklearn/linear_model/base.py:35: RuntimeWarning: numpy.dtype size changed, may indicate binary incompatibility. Expected 96, got 88\n",
      "  from ..utils.seq_dataset import ArrayDataset, CSRDataset\n",
      "/usr/local/lib/python2.7/dist-packages/sklearn/linear_model/least_angle.py:23: RuntimeWarning: numpy.dtype size changed, may indicate binary incompatibility. Expected 96, got 88\n",
      "  from ..utils import arrayfuncs, as_float_array, check_X_y, deprecated\n",
      "/usr/local/lib/python2.7/dist-packages/sklearn/utils/random.py:10: RuntimeWarning: numpy.dtype size changed, may indicate binary incompatibility. Expected 96, got 88\n",
      "  from ._random import sample_without_replacement\n",
      "/usr/local/lib/python2.7/dist-packages/sklearn/linear_model/coordinate_descent.py:29: RuntimeWarning: numpy.dtype size changed, may indicate binary incompatibility. Expected 96, got 88\n",
      "  from . import cd_fast\n",
      "/usr/local/lib/python2.7/dist-packages/sklearn/linear_model/__init__.py:22: RuntimeWarning: numpy.dtype size changed, may indicate binary incompatibility. Expected 96, got 88\n",
      "  from .sgd_fast import Hinge, Log, ModifiedHuber, SquaredLoss, Huber\n",
      "/usr/local/lib/python2.7/dist-packages/sklearn/linear_model/sag.py:12: RuntimeWarning: numpy.dtype size changed, may indicate binary incompatibility. Expected 96, got 88\n",
      "  from .sag_fast import sag\n",
      "/usr/local/lib/python2.7/dist-packages/sklearn/svm/base.py:8: RuntimeWarning: numpy.dtype size changed, may indicate binary incompatibility. Expected 96, got 88\n",
      "  from . import libsvm, liblinear\n",
      "/usr/local/lib/python2.7/dist-packages/sklearn/svm/base.py:9: RuntimeWarning: numpy.dtype size changed, may indicate binary incompatibility. Expected 96, got 88\n",
      "  from . import libsvm_sparse\n",
      "/usr/local/lib/python2.7/dist-packages/sklearn/neighbors/__init__.py:6: RuntimeWarning: numpy.dtype size changed, may indicate binary incompatibility. Expected 96, got 88\n",
      "  from .ball_tree import BallTree\n",
      "/usr/local/lib/python2.7/dist-packages/sklearn/neighbors/__init__.py:7: RuntimeWarning: numpy.dtype size changed, may indicate binary incompatibility. Expected 96, got 88\n",
      "  from .kd_tree import KDTree\n",
      "/usr/local/lib/python2.7/dist-packages/sklearn/decomposition/online_lda.py:28: RuntimeWarning: numpy.dtype size changed, may indicate binary incompatibility. Expected 96, got 88\n",
      "  from ._online_lda import (mean_change, _dirichlet_expectation_1d,\n"
     ]
    }
   ],
   "source": [
    "from PIL import Image\n",
    "import matplotlib.pyplot as plt\n",
    "import numpy as np\n",
    "import os\n",
    "import glob\n",
    "from utils import crop_and_mask\n",
    "from obb import OBB\n",
    "import cv2"
   ]
  },
  {
   "cell_type": "code",
   "execution_count": 7,
   "metadata": {},
   "outputs": [],
   "source": [
    "# noise = np.zeros((512, 1024), np.uint8)\n",
    "# cv2.randn(noise, np.array(7), np.ones(1)*5.0)\n",
    "# print(noise)\n",
    "# plt.imshow(noise)\n",
    "# plt.colorbar()\n",
    "# plt.show()"
   ]
  },
  {
   "cell_type": "code",
   "execution_count": 8,
   "metadata": {},
   "outputs": [],
   "source": [
    "left_path = '/root/data/blender_test/Image0028_L.png'\n",
    "right_path = '/root/data/blender_test/Image0028_R.png'\n",
    "ground_truth_depth_path = '/root/data/blender_test/true_depth.npy'"
   ]
  },
  {
   "cell_type": "code",
   "execution_count": 9,
   "metadata": {},
   "outputs": [],
   "source": [
    "# get ground truth mask + segmentation\n",
    "mask = crop_and_mask(Image.open(left_path))\n",
    "ground_truth_depth = np.load(ground_truth_depth_path) #.transpose()"
   ]
  },
  {
   "cell_type": "code",
   "execution_count": 10,
   "metadata": {
    "scrolled": false
   },
   "outputs": [
    {
     "data": {
      "image/png": "[encoded data removed]",
      "text/plain": [
       "<Figure size 432x288 with 1 Axes>"
      ]
     },
     "metadata": {},
     "output_type": "display_data"
    },
    {
     "data": {
      "image/png": "[encoded data removed]",
      "text/plain": [
       "<Figure size 432x288 with 1 Axes>"
      ]
     },
     "metadata": {},
     "output_type": "display_data"
    },
    {
     "data": {
      "image/png": "[encoded data removed]",
      "text/plain": [
       "<Figure size 432x288 with 1 Axes>"
      ]
     },
     "metadata": {},
     "output_type": "display_data"
    }
   ],
   "source": [
    "# visualize both\n",
    "plt.imshow(mask)\n",
    "plt.show()\n",
    "\n",
    "plt.imshow(ground_truth_depth)\n",
    "plt.show()\n",
    "\n",
    "mdepth = ground_truth_depth*mask\n",
    "plt.imshow(mdepth>10)\n",
    "# plt.colorbar()\n",
    "plt.show()"
   ]
  },
  {
   "cell_type": "code",
   "execution_count": 11,
   "metadata": {},
   "outputs": [],
   "source": [
    "# # quick hack because the crop and mask function is not optimal\n",
    "x, y = np.nonzero(mdepth>10)\n",
    "for (i,j) in zip(x,y):\n",
    "    mask[i,j] = 0"
   ]
  },
  {
   "cell_type": "code",
   "execution_count": 12,
   "metadata": {},
   "outputs": [
    {
     "data": {
      "image/png": "[encoded data removed]",
      "text/plain": [
       "<Figure size 432x288 with 2 Axes>"
      ]
     },
     "metadata": {},
     "output_type": "display_data"
    }
   ],
   "source": [
    "mdepth = ground_truth_depth*mask\n",
    "plt.imshow(mdepth)\n",
    "plt.colorbar()\n",
    "plt.show()"
   ]
  },
  {
   "cell_type": "code",
   "execution_count": 13,
   "metadata": {},
   "outputs": [
    {
     "name": "stdout",
     "output_type": "stream",
     "text": [
      "True length: 6.68601874336\n"
     ]
    }
   ],
   "source": [
    "# calculate ground truth length\n",
    "y, x = np.nonzero(ground_truth_depth*mask)\n",
    "wx, wy, wz = convert_to_world_point(x, y, ground_truth_depth)\n",
    "cloud = []\n",
    "for (i0, j0, k0) in zip(wx, wy, wz):\n",
    "    cloud.append([i0, j0, k0])\n",
    "obb, eigen_vectors = OBB.build_from_points([(p[0], p[1], p[2]) for p in cloud])\n",
    "true_obb_points = np.array(obb.points)\n",
    "true_length = np.linalg.norm(true_obb_points[0] - true_obb_points[1])\n",
    "print('True length: {}'.format(true_length))"
   ]
  },
  {
   "cell_type": "markdown",
   "metadata": {},
   "source": [
    "# ERODE THE MASK"
   ]
  },
  {
   "cell_type": "code",
   "execution_count": 14,
   "metadata": {},
   "outputs": [],
   "source": [
    "lengths = []\n",
    "errors = []\n",
    "for s in range(0, 11):\n",
    "    if s > 0:\n",
    "        kernel = np.ones((s, s))\n",
    "        eroded_mask = cv2.erode(mask, kernel)\n",
    "    else:\n",
    "        eroded_mask = mask\n",
    "    \n",
    "    \n",
    "    total = eroded_mask + mask\n",
    "    intersection = np.count_nonzero(total[total==2])\n",
    "    union = np.count_nonzero(total[total>0])\n",
    "    iou = intersection*100 / union\n",
    "    # print('Intersection over Union: {}'.format(intersection/float(union)))\n",
    "    # print('Error: {}'.format(1 - intersection/float(union)))\n",
    "    errors.append(100 - iou)\n",
    "    \n",
    "    \n",
    "    # calculate ground truth length\n",
    "    y, x = np.nonzero(ground_truth_depth*eroded_mask)\n",
    "    wx, wy, wz = convert_to_world_point(x, y, ground_truth_depth)\n",
    "    cloud = []\n",
    "    for (i0, j0, k0) in zip(wx, wy, wz):\n",
    "        cloud.append([i0, j0, k0])\n",
    "    obb, eigen_vectors = OBB.build_from_points([(p[0], p[1], p[2]) for p in cloud])\n",
    "    true_obb_points = np.array(obb.points)\n",
    "    pred_length = np.linalg.norm(true_obb_points[0] - true_obb_points[1])\n",
    "    \n",
    "    # print('True length: {}'.format(pred_length))\n",
    "    relative_error = np.abs(pred_length-true_length) / true_length\n",
    "    lengths.append(relative_error)"
   ]
  },
  {
   "cell_type": "code",
   "execution_count": 15,
   "metadata": {},
   "outputs": [
    {
     "data": {
      "image/png": "[encoded data removed]",
      "text/plain": [
       "<Figure size 432x288 with 1 Axes>"
      ]
     },
     "metadata": {},
     "output_type": "display_data"
    }
   ],
   "source": [
    "plt.plot(errors, lengths)\n",
    "plt.xlabel('Segmentation error (erosion)')\n",
    "plt.ylabel('Length relative error')\n",
    "plt.show()"
   ]
  },
  {
   "cell_type": "markdown",
   "metadata": {},
   "source": [
    "# DILATE THE MASK"
   ]
  },
  {
   "cell_type": "code",
   "execution_count": 16,
   "metadata": {},
   "outputs": [],
   "source": [
    "lengths = []\n",
    "errors = []\n",
    "for s in range(0, 11):\n",
    "    if s > 0:\n",
    "        kernel = np.ones((s, s))\n",
    "        eroded_mask = cv2.dilate(mask, kernel)\n",
    "    else:\n",
    "        eroded_mask = mask\n",
    "    \n",
    "    \n",
    "    total = eroded_mask + mask\n",
    "    intersection = np.count_nonzero(total[total==2])\n",
    "    union = np.count_nonzero(total[total>0])\n",
    "    iou = intersection*100 / union\n",
    "    # print('Intersection over Union: {}'.format(intersection/float(union)))\n",
    "    # print('Error: {}'.format(1 - intersection/float(union)))\n",
    "    errors.append(100 - iou)\n",
    "    \n",
    "    \n",
    "    # calculate ground truth length\n",
    "    y, x = np.nonzero(ground_truth_depth*eroded_mask)\n",
    "    wx, wy, wz = convert_to_world_point(x, y, ground_truth_depth)\n",
    "    cloud = []\n",
    "    for (i0, j0, k0) in zip(wx, wy, wz):\n",
    "        cloud.append([i0, j0, k0])\n",
    "    obb, eigen_vectors = OBB.build_from_points([(p[0], p[1], p[2]) for p in cloud])\n",
    "    true_obb_points = np.array(obb.points)\n",
    "    pred_length = np.linalg.norm(true_obb_points[0] - true_obb_points[1])\n",
    "    # print('True length: {}'.format(pred_length))\n",
    "    relative_error = np.abs(pred_length-true_length) / true_length\n",
    "    lengths.append(relative_error)"
   ]
  },
  {
   "cell_type": "code",
   "execution_count": 17,
   "metadata": {},
   "outputs": [
    {
     "data": {
      "image/png": "[encoded data removed]",
      "text/plain": [
       "<Figure size 432x288 with 1 Axes>"
      ]
     },
     "metadata": {},
     "output_type": "display_data"
    }
   ],
   "source": [
    "plt.plot(errors, lengths)\n",
    "plt.xlabel('Segmentation error (dilatation)')\n",
    "plt.ylabel('Length relative error')\n",
    "plt.show()"
   ]
  },
  {
   "cell_type": "markdown",
   "metadata": {},
   "source": [
    "# ADD NOISE TO DEPTH MAP"
   ]
  },
  {
   "cell_type": "code",
   "execution_count": 18,
   "metadata": {},
   "outputs": [],
   "source": [
    "import copy"
   ]
  },
  {
   "cell_type": "code",
   "execution_count": 19,
   "metadata": {},
   "outputs": [
    {
     "name": "stderr",
     "output_type": "stream",
     "text": [
      "/usr/local/lib/python2.7/dist-packages/ipykernel_launcher.py:22: RuntimeWarning: invalid value encountered in divide\n"
     ]
    },
    {
     "name": "stdout",
     "output_type": "stream",
     "text": [
      "0.0\n",
      "0.054252436811389936\n",
      "0.11175052420826241\n",
      "0.16914484638456226\n",
      "0.22795366270815906\n",
      "0.2785508721762534\n",
      "0.3403503862699739\n",
      "0.3918079446246578\n",
      "0.44755429656478646\n",
      "0.4883628691498064\n",
      "0.5698904195476092\n"
     ]
    }
   ],
   "source": [
    "lengths = []\n",
    "errors = []\n",
    "for s in range(0, 11):\n",
    "#     total = eroded_mask + mask\n",
    "#     intersection = np.count_nonzero(total[total==2])\n",
    "#     union = np.count_nonzero(total[total>0])\n",
    "#     iou = intersection*100 / union\n",
    "#     # print('Intersection over Union: {}'.format(intersection/float(union)))\n",
    "#     # print('Error: {}'.format(1 - intersection/float(union)))\n",
    "#     errors.append(100 - iou)\n",
    "    new_depth = copy.deepcopy(mdepth)\n",
    "    if s > 0:\n",
    "        mean_depth = mdepth.sum() / np.count_nonzero(mdepth)\n",
    "        \n",
    "\n",
    "        # creat some noise\n",
    "        noise = np.zeros((512, 1024), np.uint8)\n",
    "        cv2.randn(noise, np.array(0), np.ones(1)*s)\n",
    "        new_depth += noise\n",
    "        \n",
    "    \n",
    "    depth_relative_error = np.nanmean(np.abs(new_depth*mask-mdepth) / mdepth)\n",
    "    print(depth_relative_error)\n",
    "    errors.append(depth_relative_error)\n",
    "    # calculate ground truth length\n",
    "    y, x = np.nonzero(new_depth*mask)\n",
    "    wx, wy, wz = convert_to_world_point(x, y, new_depth)\n",
    "    cloud = []\n",
    "    for (i0, j0, k0) in zip(wx, wy, wz):\n",
    "        cloud.append([i0, j0, k0])\n",
    "    obb, eigen_vectors = OBB.build_from_points([(p[0], p[1], p[2]) for p in cloud])\n",
    "    true_obb_points = np.array(obb.points)\n",
    "    pred_length = np.linalg.norm(true_obb_points[0] - true_obb_points[1])\n",
    "    # print('True length: {}'.format(pred_length))\n",
    "    relative_error = np.abs(pred_length-true_length) / true_length\n",
    "    lengths.append(relative_error)"
   ]
  },
  {
   "cell_type": "code",
   "execution_count": 20,
   "metadata": {},
   "outputs": [
    {
     "data": {
      "image/png": "[encoded data removed]",
      "text/plain": [
       "<Figure size 432x288 with 1 Axes>"
      ]
     },
     "metadata": {},
     "output_type": "display_data"
    }
   ],
   "source": [
    "plt.plot(errors, lengths)\n",
    "plt.xlabel('Depth map error (noise)')\n",
    "plt.ylabel('Length relative error')\n",
    "plt.show()"
   ]
  },
  {
   "cell_type": "markdown",
   "metadata": {},
   "source": [
    "# BOTH"
   ]
  },
  {
   "cell_type": "code",
   "execution_count": 21,
   "metadata": {
    "scrolled": true
   },
   "outputs": [
    {
     "name": "stderr",
     "output_type": "stream",
     "text": [
      "/usr/local/lib/python2.7/dist-packages/ipykernel_launcher.py:36: RuntimeWarning: invalid value encountered in divide\n"
     ]
    }
   ],
   "source": [
    "lengths = np.zeros((11, 11))\n",
    "errors_mask = []\n",
    "errors_depth = []\n",
    "all_masks = []\n",
    "all_depth = []\n",
    "\n",
    "for size in range(0, 11):\n",
    "    if size > 0:\n",
    "        kernel = np.ones((size, size))\n",
    "        new_mask = cv2.dilate(mask, kernel)\n",
    "    else:\n",
    "        new_mask = mask\n",
    "            \n",
    "    total = new_mask + mask\n",
    "    intersection = np.count_nonzero(total[total==2])\n",
    "    union = np.count_nonzero(total[total>0])\n",
    "    iou = intersection*100 / union\n",
    "    # print('Intersection over Union: {}'.format(intersection/float(union)))\n",
    "    # print('Error: {}'.format(1 - intersection/float(union)))\n",
    "    errors_mask.append(100 - iou)\n",
    "    all_masks.append(new_mask)\n",
    "    \n",
    "for s in range(0, 11):\n",
    "\n",
    "    new_depth = copy.deepcopy(mdepth)\n",
    "    if s > 0:\n",
    "        mean_depth = mdepth.sum() / np.count_nonzero(mdepth)\n",
    "\n",
    "\n",
    "        # creat some noise\n",
    "        noise = np.zeros((512, 1024), np.uint8)\n",
    "        cv2.randn(noise, np.array(0), np.ones(1)*s)\n",
    "        new_depth += noise\n",
    "        \n",
    "    all_depth.append(new_depth)\n",
    "    depth_relative_error = np.nanmean(np.abs(new_depth*mask-mdepth) / mdepth)\n",
    "    # print(depth_relative_error)\n",
    "    errors_depth.append(depth_relative_error*100)\n",
    "    \n",
    "for (i,new_mask) in enumerate(all_masks):\n",
    "    for (j, new_depth) in enumerate(all_depth):\n",
    "\n",
    "        # calculate ground truth length\n",
    "        y, x = np.nonzero(new_depth*new_mask)\n",
    "        wx, wy, wz = convert_to_world_point(x, y, new_depth)\n",
    "        cloud = []\n",
    "        for (i0, j0, k0) in zip(wx, wy, wz):\n",
    "            cloud.append([i0, j0, k0])\n",
    "        obb, eigen_vectors = OBB.build_from_points([(p[0], p[1], p[2]) for p in cloud])\n",
    "        true_obb_points = np.array(obb.points)\n",
    "        pred_length = np.linalg.norm(true_obb_points[0] - true_obb_points[1])\n",
    "        \n",
    "        \n",
    "        # print(pred_length)\n",
    "        # print('True length: {}'.format(pred_length))\n",
    "        relative_error = np.abs(pred_length-true_length) / true_length\n",
    "        lengths[j, i] = relative_error*100"
   ]
  },
  {
   "cell_type": "code",
   "execution_count": 22,
   "metadata": {},
   "outputs": [
    {
     "data": {
      "text/plain": [
       "11"
      ]
     },
     "execution_count": 22,
     "metadata": {},
     "output_type": "execute_result"
    }
   ],
   "source": [
    "len(errors_depth)"
   ]
  },
  {
   "cell_type": "code",
   "execution_count": 23,
   "metadata": {},
   "outputs": [
    {
     "data": {
      "text/plain": [
       "<matplotlib.colorbar.Colorbar at 0x7f04d9acdb10>"
      ]
     },
     "execution_count": 23,
     "metadata": {},
     "output_type": "execute_result"
    },
    {
     "data": {
      "image/png": "[encoded data removed]",
      "text/plain": [
       "<Figure size 432x288 with 2 Axes>"
      ]
     },
     "metadata": {},
     "output_type": "display_data"
    }
   ],
   "source": [
    "plt.contourf(errors_mask, errors_depth, lengths, levels=range(0, int(lengths.max())+50, 50))\n",
    "plt.xlabel('Segmentation error (%)')\n",
    "plt.ylabel('Depth relative error (%)')\n",
    "plt.title('DILATATION')\n",
    "plt.colorbar()"
   ]
  },
  {
   "cell_type": "code",
   "execution_count": 24,
   "metadata": {},
   "outputs": [
    {
     "ename": "NameError",
     "evalue": "name 'length' is not defined",
     "output_type": "error",
     "traceback": [
      "\u001b[0;31m\u001b[0m",
      "\u001b[0;31mNameError\u001b[0mTraceback (most recent call last)",
      "\u001b[0;32m<ipython-input-24-7b67a6bc3dcf>\u001b[0m in \u001b[0;36m<module>\u001b[0;34m()\u001b[0m\n\u001b[0;32m----> 1\u001b[0;31m \u001b[0mplt\u001b[0m\u001b[0;34m.\u001b[0m\u001b[0mimshow\u001b[0m\u001b[0;34m(\u001b[0m\u001b[0mlength\u001b[0m\u001b[0;34m)\u001b[0m\u001b[0;34m\u001b[0m\u001b[0m\n\u001b[0m",
      "\u001b[0;31mNameError\u001b[0m: name 'length' is not defined"
     ]
    }
   ],
   "source": [
    "plt.imshow(length)"
   ]
  },
  {
   "cell_type": "code",
   "execution_count": null,
   "metadata": {},
   "outputs": [],
   "source": [
    "len(errors_mask)"
   ]
  },
  {
   "cell_type": "code",
   "execution_count": null,
   "metadata": {},
   "outputs": [],
   "source": [
    "len(errors_depth)"
   ]
  },
  {
   "cell_type": "code",
   "execution_count": null,
   "metadata": {},
   "outputs": [],
   "source": [
    "lengths.shape"
   ]
  },
  {
   "cell_type": "code",
   "execution_count": null,
   "metadata": {},
   "outputs": [],
   "source": []
  }
 ],
 "metadata": {
  "kernelspec": {
   "display_name": "Python 2",
   "language": "python",
   "name": "python2"
  },
  "language_info": {
   "codemirror_mode": {
    "name": "ipython",
    "version": 2
   },
   "file_extension": ".py",
   "mimetype": "text/x-python",
   "name": "python",
   "nbconvert_exporter": "python",
   "pygments_lexer": "ipython2",
   "version": "2.7.12"
  }
 },
 "nbformat": 4,
 "nbformat_minor": 2
}
