{
 "cells": [
  {
   "cell_type": "markdown",
   "metadata": {},
   "source": [
    "# EXR CONVERSION"
   ]
  },
  {
   "cell_type": "code",
   "execution_count": null,
   "metadata": {},
   "outputs": [],
   "source": [
    "import sys\n",
    "import array\n",
    "import OpenEXR\n",
    "import Imath\n",
    "\n"
   ]
  },
  {
   "cell_type": "code",
   "execution_count": null,
   "metadata": {},
   "outputs": [],
   "source": [
    "# Open the input file\n",
    "file = OpenEXR.InputFile('/root/data/blender_test/Image0028_L.exr')\n",
    "\n",
    "# Compute the size\n",
    "dw = file.header()['dataWindow']\n",
    "sz = (dw.max.x - dw.min.x + 1, dw.max.y - dw.min.y + 1)\n",
    "\n",
    "# Read the three color channels as 32-bit floats\n",
    "FLOAT = Imath.PixelType(Imath.PixelType.FLOAT)\n",
    "(true_depth_map,G,B) = [array.array('f', file.channel(Chan, FLOAT)).tolist() for Chan in (\"R\", \"G\", \"B\") ]"
   ]
  },
  {
   "cell_type": "code",
   "execution_count": null,
   "metadata": {},
   "outputs": [],
   "source": [
    "import numpy as np\n",
    "import matplotlib.pyplot as plt\n",
    "from PIL import Image\n",
    "import glob"
   ]
  },
  {
   "cell_type": "code",
   "execution_count": null,
   "metadata": {},
   "outputs": [],
   "source": [
    "left = sorted(glob.glob('/root/data/blender_v3/stereo_images/left*.png'))\n",
    "right = sorted(glob.glob('/root/data/blender_v3/stereo_images/right*.png'))"
   ]
  },
  {
   "cell_type": "markdown",
   "metadata": {},
   "source": [
    "# TAKE ONE RANDOM PAIR"
   ]
  },
  {
   "cell_type": "code",
   "execution_count": null,
   "metadata": {},
   "outputs": [],
   "source": [
    "from utils import crop_and_mask\n",
    "from scipy.spatial import ConvexHull"
   ]
  },
  {
   "cell_type": "code",
   "execution_count": null,
   "metadata": {},
   "outputs": [],
   "source": [
    "def minimum_bounding_rectangle(points):\n",
    "    \"\"\"\n",
    "    Find the smallest bounding rectangle for a set of points.\n",
    "    Returns a set of points representing the corners of the bounding box.\n",
    "\n",
    "    :param points: an nx2 matrix of coordinates\n",
    "    :rval: an nx2 matrix of coordinates\n",
    "    \"\"\"\n",
    "    from scipy.ndimage.interpolation import rotate\n",
    "    pi2 = np.pi/2.\n",
    "\n",
    "    # get the convex hull for the points\n",
    "    hull_points = points[ConvexHull(points).vertices]\n",
    "\n",
    "    # calculate edge angles\n",
    "    edges = np.zeros((len(hull_points)-1, 2))\n",
    "    edges = hull_points[1:] - hull_points[:-1]\n",
    "\n",
    "    angles = np.zeros((len(edges)))\n",
    "    angles = np.arctan2(edges[:, 1], edges[:, 0])\n",
    "\n",
    "    angles = np.abs(np.mod(angles, pi2))\n",
    "    angles = np.unique(angles)\n",
    "\n",
    "    # find rotation matrices\n",
    "    # XXX both work\n",
    "    rotations = np.vstack([\n",
    "        np.cos(angles),\n",
    "        np.cos(angles-pi2),\n",
    "        np.cos(angles+pi2),\n",
    "        np.cos(angles)]).T\n",
    "#     rotations = np.vstack([\n",
    "#         np.cos(angles),\n",
    "#         -np.sin(angles),\n",
    "#         np.sin(angles),\n",
    "#         np.cos(angles)]).T\n",
    "    rotations = rotations.reshape((-1, 2, 2))\n",
    "\n",
    "    # apply rotations to the hull\n",
    "    rot_points = np.dot(rotations, hull_points.T)\n",
    "\n",
    "    # find the bounding points\n",
    "    min_x = np.nanmin(rot_points[:, 0], axis=1)\n",
    "    max_x = np.nanmax(rot_points[:, 0], axis=1)\n",
    "    min_y = np.nanmin(rot_points[:, 1], axis=1)\n",
    "    max_y = np.nanmax(rot_points[:, 1], axis=1)\n",
    "\n",
    "    # find the box with the best area\n",
    "    areas = (max_x - min_x) * (max_y - min_y)\n",
    "    best_idx = np.argmin(areas)\n",
    "\n",
    "    # return the best box\n",
    "    x1 = max_x[best_idx]\n",
    "    x2 = min_x[best_idx]\n",
    "    y1 = max_y[best_idx]\n",
    "    y2 = min_y[best_idx]\n",
    "    r = rotations[best_idx]\n",
    "\n",
    "    rval = np.zeros((4, 2))\n",
    "    rval[0] = np.dot([x1, y2], r)\n",
    "    rval[1] = np.dot([x2, y2], r)\n",
    "    rval[2] = np.dot([x2, y1], r)\n",
    "    rval[3] = np.dot([x1, y1], r)\n",
    "\n",
    "    return rval"
   ]
  },
  {
   "cell_type": "code",
   "execution_count": null,
   "metadata": {},
   "outputs": [],
   "source": [
    "# random_ind = np.random.randint(0, high=len(left))\n",
    "# random_ind= 1101\n",
    "# l = left[random_ind]\n",
    "# r = right[random_ind]\n",
    "# print(random_ind, left[random_ind])"
   ]
  },
  {
   "cell_type": "code",
   "execution_count": null,
   "metadata": {},
   "outputs": [],
   "source": [
    "l = '/root/data/blender_test/Image0028_L.png'\n",
    "r = '/root/data/blender_test/Image0028_R.png'"
   ]
  },
  {
   "cell_type": "code",
   "execution_count": null,
   "metadata": {},
   "outputs": [],
   "source": [
    "# 3427"
   ]
  },
  {
   "cell_type": "code",
   "execution_count": null,
   "metadata": {},
   "outputs": [],
   "source": [
    "f, ax = plt.subplots(1, 4, figsize=(20, 10))\n",
    "ax[0].imshow(Image.open(l))\n",
    "ax[1].imshow(Image.open(r))\n",
    "ax[2].imshow(crop_and_mask(Image.open(l).convert('RGB')))\n",
    "ax[3].imshow(crop_and_mask(Image.open(r).convert('RGB')))\n",
    "plt.show()"
   ]
  },
  {
   "cell_type": "code",
   "execution_count": null,
   "metadata": {},
   "outputs": [],
   "source": [
    "mask_l = crop_and_mask(Image.open(l).convert('RGB'))\n",
    "mask_r = crop_and_mask(Image.open(r).convert('RGB'))"
   ]
  },
  {
   "cell_type": "code",
   "execution_count": null,
   "metadata": {},
   "outputs": [],
   "source": [
    "# left_corners\n",
    "stack = np.stack([np.nonzero(mask_l)[0], np.nonzero(mask_l)[1]], axis=1)\n",
    "left_corners = minimum_bounding_rectangle(stack)"
   ]
  },
  {
   "cell_type": "code",
   "execution_count": null,
   "metadata": {},
   "outputs": [],
   "source": [
    "# right_corners\n",
    "stack = np.stack([np.nonzero(mask_r)[0], np.nonzero(mask_r)[1]], axis=1)\n",
    "right_corners = minimum_bounding_rectangle(stack)"
   ]
  },
  {
   "cell_type": "code",
   "execution_count": null,
   "metadata": {},
   "outputs": [],
   "source": [
    "import matplotlib.patches as patches"
   ]
  },
  {
   "cell_type": "code",
   "execution_count": null,
   "metadata": {},
   "outputs": [],
   "source": [
    "left_corners"
   ]
  },
  {
   "cell_type": "code",
   "execution_count": null,
   "metadata": {},
   "outputs": [],
   "source": [
    "right_corners"
   ]
  },
  {
   "cell_type": "code",
   "execution_count": null,
   "metadata": {},
   "outputs": [],
   "source": [
    "left_center = np.mean(left_corners[:, [1, 0]][1:3], axis=0)\n",
    "right_center = np.mean(np.stack((left_corners[:, [1, 0]][0], left_corners[:, [1, 0]][-1]), axis=0), axis=0)"
   ]
  },
  {
   "cell_type": "code",
   "execution_count": null,
   "metadata": {},
   "outputs": [],
   "source": [
    "np.stack((left_center, right_center))"
   ]
  },
  {
   "cell_type": "code",
   "execution_count": null,
   "metadata": {},
   "outputs": [],
   "source": [
    "# Create figure and axes\n",
    "fig,ax = plt.subplots(1, 2, figsize=(20, 10))\n",
    "ax[0].imshow(Image.open(l))\n",
    "rect = patches.Polygon(left_corners[:, [1, 0]], closed=True, linewidth=2,edgecolor='r',facecolor='none')\n",
    "ax[0].add_patch(rect)\n",
    "ax[0].add_patch(patches.Circle(left_center, radius=10, facecolor='b'))\n",
    "ax[0].add_patch(patches.Circle(right_center, radius=10, facecolor='b'))\n",
    "ax[0].plot((left_center[0], right_center[0]), (left_center[1], right_center[1]), color='b')\n",
    "\n",
    "ax[1].imshow(Image.open(r))\n",
    "rect = patches.Polygon(right_corners[:, [1, 0]], closed=True, linewidth=2,edgecolor='r',facecolor='none')\n",
    "ax[1].add_patch(rect)\n",
    "plt.show()"
   ]
  },
  {
   "cell_type": "code",
   "execution_count": null,
   "metadata": {},
   "outputs": [],
   "source": [
    "# estimate diparity\n",
    "disp = 8\n",
    "# fig,ax = plt.subplots(2, 1, figsize=(20, 10))\n",
    "shifted = np.zeros((512, 1024, 3))\n",
    "shifted[:, disp:, :] = np.array(Image.open(l).convert('RGB'))[:, :-disp,:]\n",
    "plt.imshow(shifted[200:350, 350:700])\n",
    "\n",
    "plt.imshow(np.array(Image.open(r))[200:350, 350:700], alpha = 0.5)"
   ]
  },
  {
   "cell_type": "code",
   "execution_count": null,
   "metadata": {},
   "outputs": [],
   "source": [
    "from PIL import Image, ImageDraw"
   ]
  },
  {
   "cell_type": "code",
   "execution_count": null,
   "metadata": {},
   "outputs": [],
   "source": [
    "img = Image.new('L', (1024, 512), 0)\n",
    "ImageDraw.Draw(img).polygon([tuple(t) for t in list(left_corners[:, [1, 0]])], outline=1, fill=1)\n",
    "mask = np.array(img)"
   ]
  },
  {
   "cell_type": "code",
   "execution_count": null,
   "metadata": {},
   "outputs": [],
   "source": [
    "plt.imshow(mask)\n",
    "plt.show()"
   ]
  },
  {
   "cell_type": "code",
   "execution_count": null,
   "metadata": {},
   "outputs": [],
   "source": [
    "# disparities\n",
    "disp = right_corners[:,1] - left_corners[:,1]\n",
    "print(disp)"
   ]
  },
  {
   "cell_type": "code",
   "execution_count": null,
   "metadata": {},
   "outputs": [],
   "source": [
    "# # calculate coordinates of central point\n",
    "# left_center_left = np.mean(left_corners[1:3], axis=0)\n",
    "# left_center_right = np.mean([left_corners[0], left_corners[-1]], axis=0)\n",
    "# right_center_left = np.mean(right_corners[1:3], axis=0)\n",
    "# right_center_right = np.mean([right_corners[0], right_corners[-1]], axis=0)"
   ]
  },
  {
   "cell_type": "code",
   "execution_count": null,
   "metadata": {},
   "outputs": [],
   "source": [
    "# # disparities\n",
    "# left_center_disp= (right_center_left - left_center_left)[1]\n",
    "# right_center_disp= (right_center_right - left_center_right)[1]"
   ]
  },
  {
   "cell_type": "code",
   "execution_count": null,
   "metadata": {},
   "outputs": [],
   "source": [
    "# plt.plot([left_center_left[1], left_center_right[1]], [left_center_disp, right_center_disp])\n",
    "# plt.show()"
   ]
  },
  {
   "cell_type": "code",
   "execution_count": null,
   "metadata": {},
   "outputs": [],
   "source": [
    "from scipy.interpolate import interp2d"
   ]
  },
  {
   "cell_type": "code",
   "execution_count": null,
   "metadata": {},
   "outputs": [],
   "source": [
    "# interpolation 2d\n",
    "f = interp2d(left_corners[:,1], left_corners[:,0], disp)"
   ]
  },
  {
   "cell_type": "code",
   "execution_count": null,
   "metadata": {},
   "outputs": [],
   "source": [
    "left_corners[:,0]"
   ]
  },
  {
   "cell_type": "code",
   "execution_count": null,
   "metadata": {},
   "outputs": [],
   "source": [
    "left_corners[:,1]"
   ]
  },
  {
   "cell_type": "code",
   "execution_count": null,
   "metadata": {},
   "outputs": [],
   "source": [
    "disp"
   ]
  },
  {
   "cell_type": "code",
   "execution_count": null,
   "metadata": {},
   "outputs": [],
   "source": [
    "ynew = np.arange(0, 512, 1)\n",
    "xnew = np.arange(0, 1024, 1)\n",
    "znew = f(xnew, ynew)"
   ]
  },
  {
   "cell_type": "code",
   "execution_count": null,
   "metadata": {},
   "outputs": [],
   "source": [
    "plt.imshow(znew)\n",
    "plt.colorbar()\n",
    "plt.show()"
   ]
  },
  {
   "cell_type": "code",
   "execution_count": null,
   "metadata": {},
   "outputs": [],
   "source": [
    "plt.imshow(np.array(Image.open(l)))\n",
    "plt.imshow(znew*mask, alpha=0.7)\n",
    "plt.colorbar()\n",
    "plt.show()\n"
   ]
  },
  {
   "cell_type": "markdown",
   "metadata": {},
   "source": [
    "# CONVERT TO DEPTH"
   ]
  },
  {
   "cell_type": "code",
   "execution_count": null,
   "metadata": {},
   "outputs": [],
   "source": [
    "disparities = znew*mask"
   ]
  },
  {
   "cell_type": "code",
   "execution_count": null,
   "metadata": {},
   "outputs": [],
   "source": [
    "# meters\n",
    "focal_length = 10.0*1e-3\n",
    "baseline = 0.065\n",
    "image_sensor_width = 32.0*1e-3\n",
    "pixel_size = image_sensor_width / 1280\n",
    "print(pixel_size)"
   ]
  },
  {
   "cell_type": "code",
   "execution_count": null,
   "metadata": {},
   "outputs": [],
   "source": [
    "focal_length_pixel = focal_length / pixel_size\n",
    "print(focal_length_pixel)"
   ]
  },
  {
   "cell_type": "code",
   "execution_count": null,
   "metadata": {},
   "outputs": [],
   "source": [
    "depth = focal_length_pixel*baseline / disparities"
   ]
  },
  {
   "cell_type": "code",
   "execution_count": null,
   "metadata": {},
   "outputs": [],
   "source": [
    "focal_length_pixel*baseline / 1280"
   ]
  },
  {
   "cell_type": "code",
   "execution_count": null,
   "metadata": {},
   "outputs": [],
   "source": [
    "plt.imshow(depth)\n",
    "plt.colorbar()\n",
    "plt.show()"
   ]
  },
  {
   "cell_type": "code",
   "execution_count": null,
   "metadata": {},
   "outputs": [],
   "source": [
    "depth.shape"
   ]
  },
  {
   "cell_type": "code",
   "execution_count": null,
   "metadata": {},
   "outputs": [],
   "source": [
    "def convert_to_world_point(x, y, depth_map):\n",
    "    image_center_x = depth_map.shape[1] / 2.0\n",
    "    image_center_y = depth_map.shape[0] / 2.0\n",
    "    px_x = x - image_center_x\n",
    "    px_z = image_center_y - y\n",
    "\n",
    "    sensor_x = px_x * (image_sensor_width / depth_map.shape[1])\n",
    "    sensor_z = px_z * (image_sensor_height / depth_map.shape[0])\n",
    "    \n",
    "    d = depth_map[y, x]\n",
    "    world_y = d\n",
    "    world_x = (world_y * sensor_x) / focal_length\n",
    "    world_z = (world_y * sensor_z) / focal_length\n",
    "#     return world_y\n",
    "    return (world_x, world_y, world_z)"
   ]
  },
  {
   "cell_type": "code",
   "execution_count": null,
   "metadata": {},
   "outputs": [],
   "source": [
    "left_center"
   ]
  },
  {
   "cell_type": "code",
   "execution_count": null,
   "metadata": {},
   "outputs": [],
   "source": [
    "right_center"
   ]
  },
  {
   "cell_type": "code",
   "execution_count": null,
   "metadata": {},
   "outputs": [],
   "source": [
    "world_left = convert_to_world_point(373, 268, depth)"
   ]
  },
  {
   "cell_type": "code",
   "execution_count": null,
   "metadata": {},
   "outputs": [],
   "source": [
    "world_right = convert_to_world_point(642, 288, depth)"
   ]
  },
  {
   "cell_type": "code",
   "execution_count": null,
   "metadata": {},
   "outputs": [],
   "source": [
    "dist = np.linalg.norm(np.array(world_left) - np.array(world_right))"
   ]
  },
  {
   "cell_type": "code",
   "execution_count": null,
   "metadata": {},
   "outputs": [],
   "source": [
    "print(dist)"
   ]
  },
  {
   "cell_type": "code",
   "execution_count": null,
   "metadata": {},
   "outputs": [],
   "source": [
    "left_corners[:, [1, 0]]"
   ]
  },
  {
   "cell_type": "code",
   "execution_count": null,
   "metadata": {},
   "outputs": [],
   "source": [
    "fig,ax = plt.subplots(1, 1, figsize=(20, 10))\n",
    "ax.imshow(Image.open(l))\n",
    "rect = patches.Polygon(left_corners[:, [1, 0]], closed=True, linewidth=2,edgecolor='r',facecolor='none')\n",
    "ax.add_patch(rect)\n",
    "ax.add_patch(patches.Circle(left_center, radius=10, facecolor='b'))\n",
    "ax.add_patch(patches.Circle(right_center, radius=10, facecolor='b'))\n",
    "ax.plot((left_center[0], right_center[0]), (left_center[1], right_center[1]), color='b')\n",
    "ax.text(left_corners[:, [1, 0]][2,0], left_corners[:, [1, 0]][2,1]-10, str(dist)[:5] + 'm', color='b', size=15)\n",
    "plt.show()"
   ]
  },
  {
   "cell_type": "code",
   "execution_count": null,
   "metadata": {},
   "outputs": [],
   "source": [
    "plt.imshow(true_depth_map)\n",
    "plt.colorbar()\n",
    "plt.show()"
   ]
  }
 ],
 "metadata": {
  "kernelspec": {
   "display_name": "Python 3",
   "language": "python",
   "name": "python3"
  },
  "language_info": {
   "codemirror_mode": {
    "name": "ipython",
    "version": 3
   },
   "file_extension": ".py",
   "mimetype": "text/x-python",
   "name": "python",
   "nbconvert_exporter": "python",
   "pygments_lexer": "ipython3",
   "version": "3.5.2"
  }
 },
 "nbformat": 4,
 "nbformat_minor": 2
}
