{
 "cells": [
  {
   "cell_type": "markdown",
   "metadata": {},
   "source": [
    "# ONE PAIR"
   ]
  },
  {
   "cell_type": "code",
   "execution_count": null,
   "metadata": {},
   "outputs": [],
   "source": [
    "import cv2\n",
    "import matplotlib.pyplot as plt\n",
    "import numpy as np"
   ]
  },
  {
   "cell_type": "code",
   "execution_count": null,
   "metadata": {},
   "outputs": [],
   "source": [
    "cv2.__version__\n"
   ]
  },
  {
   "cell_type": "code",
   "execution_count": null,
   "metadata": {},
   "outputs": [],
   "source": [
    "min_disparity=0\n",
    "num_disp=160\n",
    "sad_window_size=3\n",
    "uniqueness=10\n",
    "speckle_window_size=15\n",
    "speckle_range=32\n",
    "p1=216\n",
    "p2=864\n",
    "max_disparity=1\n",
    "full_dp=False"
   ]
  },
  {
   "cell_type": "code",
   "execution_count": null,
   "metadata": {},
   "outputs": [],
   "source": [
    "block_matcher = cv2.StereoSGBM(minDisparity=min_disparity,\n",
    "                        numDisparities=num_disp,\n",
    "                        SADWindowSize=sad_window_size,\n",
    "                        uniquenessRatio=uniqueness,\n",
    "                        speckleWindowSize=speckle_window_size,\n",
    "                        speckleRange=speckle_range,\n",
    "                        disp12MaxDiff=max_disparity,\n",
    "                        P1=p1,\n",
    "                        P2=p2,\n",
    "                        fullDP=full_dp)"
   ]
  },
  {
   "cell_type": "code",
   "execution_count": null,
   "metadata": {},
   "outputs": [],
   "source": [
    "left = cv2.imread('/root/data/blender_v3/stereo_images/left_0.png')\n",
    "right = cv2.imread('/root/data/blender_v3/stereo_images/right_0.png')"
   ]
  },
  {
   "cell_type": "code",
   "execution_count": null,
   "metadata": {},
   "outputs": [],
   "source": [
    "plt.imshow(left)\n",
    "plt.show()"
   ]
  },
  {
   "cell_type": "code",
   "execution_count": null,
   "metadata": {},
   "outputs": [],
   "source": [
    "disp = block_matcher.compute(left, right).astype(np.float32) / 16.0"
   ]
  },
  {
   "cell_type": "code",
   "execution_count": null,
   "metadata": {},
   "outputs": [],
   "source": [
    "plt.imshow(disp)\n",
    "plt.show()"
   ]
  },
  {
   "cell_type": "markdown",
   "metadata": {},
   "source": [
    "# TUNING"
   ]
  },
  {
   "cell_type": "code",
   "execution_count": null,
   "metadata": {},
   "outputs": [],
   "source": [
    "import cv2\n",
    "import matplotlib.pyplot as plt\n",
    "import numpy as np"
   ]
  },
  {
   "cell_type": "code",
   "execution_count": null,
   "metadata": {},
   "outputs": [],
   "source": [
    "left = cv2.imread('/root/data/blender_v3/stereo_images/left_0.png')\n",
    "right = cv2.imread('/root/data/blender_v3/stereo_images/right_0.png')\n",
    "left = cv2.resize(left, (800, 600))\n",
    "right = cv2.resize(right, (800, 600))"
   ]
  },
  {
   "cell_type": "code",
   "execution_count": null,
   "metadata": {},
   "outputs": [],
   "source": [
    "params = dict()\n",
    "\n",
    "for _ in range(100):\n",
    "    \n",
    "    mind = 0\n",
    "    params['min_disparity']=mind\n",
    "    params['num_disp']=np.random.choice(range(16, 320, 16))\n",
    "    params['sad_window_size']=np.random.choice([3 ,5, 7, 9,11, 15, 17])\n",
    "    params['uniqueness']=np.random.randint(5, 15)\n",
    "    params['speckle_window_size']=np.random.randint(0, 50)\n",
    "    params['speckle_range']=np.random.randint(0, 10)\n",
    "    params['p1']=216\n",
    "    params['p2']=864\n",
    "    params['max_disparity']=np.random.randint(mind+1, mind+32)\n",
    "    params['full_dp']=False\n",
    "    print(params)\n",
    "    block_matcher = cv2.StereoSGBM(minDisparity=params['min_disparity'],\n",
    "                            numDisparities=params['num_disp'],\n",
    "                            SADWindowSize=params['sad_window_size'],\n",
    "                            uniquenessRatio=params['uniqueness'],\n",
    "                            speckleWindowSize=params['speckle_window_size'],\n",
    "                            speckleRange=params['speckle_range'],\n",
    "                            disp12MaxDiff=params['max_disparity'],\n",
    "                            P1=params['p1'],\n",
    "                            P2=params['p2'],\n",
    "                            fullDP=params['full_dp'])\n",
    "    \n",
    "    \n",
    "    disp = block_matcher.compute(left, right).astype(np.float32) / 16.0\n",
    "    f, ax = plt.subplots(1, 4, figsize=(20, 10))\n",
    "    ax[0].imshow(left)\n",
    "    ax[1].imshow(right)\n",
    "    ax[2].imshow(disp)\n",
    "    ax[3].imshow(left)\n",
    "    ax[3].imshow(disp, alpha=0.2)\n",
    "    plt.show()\n",
    "    \n",
    "    \n",
    "    print('#'*100)"
   ]
  },
  {
   "cell_type": "code",
   "execution_count": null,
   "metadata": {},
   "outputs": [],
   "source": []
  },
  {
   "cell_type": "code",
   "execution_count": null,
   "metadata": {},
   "outputs": [],
   "source": []
  },
  {
   "cell_type": "code",
   "execution_count": null,
   "metadata": {},
   "outputs": [],
   "source": []
  },
  {
   "cell_type": "code",
   "execution_count": null,
   "metadata": {},
   "outputs": [],
   "source": []
  },
  {
   "cell_type": "code",
   "execution_count": null,
   "metadata": {},
   "outputs": [],
   "source": []
  }
 ],
 "metadata": {
  "kernelspec": {
   "display_name": "Python 2",
   "language": "python",
   "name": "python2"
  },
  "language_info": {
   "codemirror_mode": {
    "name": "ipython",
    "version": 2
   },
   "file_extension": ".py",
   "mimetype": "text/x-python",
   "name": "python",
   "nbconvert_exporter": "python",
   "pygments_lexer": "ipython2",
   "version": "2.7.12"
  }
 },
 "nbformat": 4,
 "nbformat_minor": 2
}
