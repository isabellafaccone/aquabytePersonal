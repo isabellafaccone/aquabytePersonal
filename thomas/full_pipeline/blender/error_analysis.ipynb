{
 "cells": [
  {
   "cell_type": "markdown",
   "metadata": {},
   "source": [
    "# UTILS"
   ]
  },
  {
   "cell_type": "code",
   "execution_count": null,
   "metadata": {},
   "outputs": [],
   "source": [
    "def convert_to_world_point(x, y, depth_map, \n",
    "                           image_sensor_width=32.0*1e-3,\n",
    "                           image_sensor_height = 18.0*1e-3,\n",
    "                           focal_length = 10.0*1e-3):\n",
    "    \"\"\"\n",
    "    Returns the real world coordinates of pixels (x, y) \n",
    "    given the depth map\n",
    "    \n",
    "    Input:\n",
    "        - x, y: int, pixel coordinates\n",
    "        - depth_map: np.array of size (W, H)\n",
    "    \n",
    "    Output:\n",
    "        - world_x, world_y, world_z: tuple of int\n",
    "    \"\"\"\n",
    "    image_center_x = 1024 / 2.0 #depth_map.shape[1] / 2.0\n",
    "    image_center_y = 512 / 2.0 # depth_map.shape[0] / 2.0\n",
    "    px_x = x - image_center_x\n",
    "    px_z = image_center_y - y\n",
    "\n",
    "    sensor_x = px_x * (image_sensor_width / 1024)\n",
    "    sensor_z = px_z * (image_sensor_height / 512)\n",
    "    \n",
    "    d = depth_map[y, x]\n",
    "    world_y = d\n",
    "    world_x = (world_y * sensor_x) / focal_length\n",
    "    world_z = (world_y * sensor_z) / focal_length\n",
    "    return (world_x, world_y, world_z)"
   ]
  },
  {
   "cell_type": "code",
   "execution_count": null,
   "metadata": {},
   "outputs": [],
   "source": [
    "image_sensor_width = 32.0*1e-3\n",
    "image_sensor_height = 18.0*1e-3\n",
    "focal_length = 10.0*1e-3"
   ]
  },
  {
   "cell_type": "markdown",
   "metadata": {},
   "source": [
    "# GROUND TRUTH"
   ]
  },
  {
   "cell_type": "code",
   "execution_count": null,
   "metadata": {},
   "outputs": [],
   "source": [
    "from PIL import Image\n",
    "import matplotlib.pyplot as plt\n",
    "import numpy as np\n",
    "import os\n",
    "import glob\n",
    "from utils import crop_and_mask\n",
    "from obb import OBB\n",
    "import cv2"
   ]
  },
  {
   "cell_type": "code",
   "execution_count": null,
   "metadata": {},
   "outputs": [],
   "source": [
    "# noise = np.zeros((512, 1024), np.uint8)\n",
    "# cv2.randn(noise, np.array(7), np.ones(1)*5.0)\n",
    "# print(noise)\n",
    "# plt.imshow(noise)\n",
    "# plt.colorbar()\n",
    "# plt.show()"
   ]
  },
  {
   "cell_type": "code",
   "execution_count": null,
   "metadata": {},
   "outputs": [],
   "source": [
    "left_path = '/root/data/blender/blender_test/Image0028_L.png'\n",
    "right_path = '/root/data/blender/blender_test/Image0028_R.png'\n",
    "ground_truth_depth_path = '/root/data/blender/blender_test/true_depth.npy'"
   ]
  },
  {
   "cell_type": "code",
   "execution_count": null,
   "metadata": {},
   "outputs": [],
   "source": [
    "# get ground truth mask + segmentation\n",
    "mask = crop_and_mask(Image.open(left_path))\n",
    "ground_truth_depth = np.load(ground_truth_depth_path) #.transpose()"
   ]
  },
  {
   "cell_type": "code",
   "execution_count": null,
   "metadata": {},
   "outputs": [],
   "source": [
    "# visualize both\n",
    "plt.imshow(mask)\n",
    "plt.show()\n",
    "\n",
    "plt.imshow(ground_truth_depth)\n",
    "plt.show()\n",
    "\n",
    "mdepth = ground_truth_depth*mask\n",
    "plt.imshow(mdepth>10)\n",
    "# plt.colorbar()\n",
    "plt.show()"
   ]
  },
  {
   "cell_type": "code",
   "execution_count": null,
   "metadata": {},
   "outputs": [],
   "source": [
    "# # quick hack because the crop and mask function is not optimal\n",
    "x, y = np.nonzero(mdepth>10)\n",
    "for (i,j) in zip(x,y):\n",
    "    mask[i,j] = 0"
   ]
  },
  {
   "cell_type": "code",
   "execution_count": null,
   "metadata": {},
   "outputs": [],
   "source": [
    "mdepth = ground_truth_depth*mask\n",
    "plt.imshow(mdepth)\n",
    "plt.colorbar()\n",
    "plt.show()"
   ]
  },
  {
   "cell_type": "code",
   "execution_count": null,
   "metadata": {},
   "outputs": [],
   "source": [
    "# calculate ground truth length\n",
    "y, x = np.nonzero(ground_truth_depth*mask)\n",
    "wx, wy, wz = convert_to_world_point(x, y, ground_truth_depth)\n",
    "cloud = []\n",
    "for (i0, j0, k0) in zip(wx, wy, wz):\n",
    "    cloud.append([i0, j0, k0])\n",
    "obb, eigen_vectors = OBB.build_from_points([(p[0], p[1], p[2]) for p in cloud])\n",
    "true_obb_points = np.array(obb.points)\n",
    "true_length = np.linalg.norm(true_obb_points[0] - true_obb_points[1])\n",
    "print('True length: {}'.format(true_length))"
   ]
  },
  {
   "cell_type": "markdown",
   "metadata": {},
   "source": [
    "# ERODE THE MASK"
   ]
  },
  {
   "cell_type": "code",
   "execution_count": null,
   "metadata": {},
   "outputs": [],
   "source": [
    "lengths = []\n",
    "errors = []\n",
    "for s in range(0, 11):\n",
    "    if s > 0:\n",
    "        kernel = np.ones((s, s))\n",
    "        eroded_mask = cv2.erode(mask, kernel)\n",
    "    else:\n",
    "        eroded_mask = mask\n",
    "    \n",
    "    \n",
    "    total = eroded_mask + mask\n",
    "    intersection = np.count_nonzero(total[total==2])\n",
    "    union = np.count_nonzero(total[total>0])\n",
    "    iou = intersection*100 / union\n",
    "    # print('Intersection over Union: {}'.format(intersection/float(union)))\n",
    "    # print('Error: {}'.format(1 - intersection/float(union)))\n",
    "    errors.append(100 - iou)\n",
    "    \n",
    "    \n",
    "    # calculate ground truth length\n",
    "    y, x = np.nonzero(ground_truth_depth*eroded_mask)\n",
    "    wx, wy, wz = convert_to_world_point(x, y, ground_truth_depth)\n",
    "    cloud = []\n",
    "    for (i0, j0, k0) in zip(wx, wy, wz):\n",
    "        cloud.append([i0, j0, k0])\n",
    "    obb, eigen_vectors = OBB.build_from_points([(p[0], p[1], p[2]) for p in cloud])\n",
    "    true_obb_points = np.array(obb.points)\n",
    "    pred_length = np.linalg.norm(true_obb_points[0] - true_obb_points[1])\n",
    "    \n",
    "    # print('True length: {}'.format(pred_length))\n",
    "    relative_error = np.abs(pred_length-true_length) / true_length\n",
    "    lengths.append(relative_error)"
   ]
  },
  {
   "cell_type": "code",
   "execution_count": null,
   "metadata": {},
   "outputs": [],
   "source": [
    "true_obb_points.shape"
   ]
  },
  {
   "cell_type": "code",
   "execution_count": null,
   "metadata": {},
   "outputs": [],
   "source": [
    "plt.plot(errors, lengths)\n",
    "plt.xlabel('Segmentation error (erosion)')\n",
    "plt.ylabel('Length relative error')\n",
    "plt.show()"
   ]
  },
  {
   "cell_type": "markdown",
   "metadata": {},
   "source": [
    "# DILATE THE MASK"
   ]
  },
  {
   "cell_type": "code",
   "execution_count": null,
   "metadata": {},
   "outputs": [],
   "source": [
    "lengths = []\n",
    "errors = []\n",
    "for s in range(0, 11):\n",
    "    if s > 0:\n",
    "        kernel = np.ones((s, s))\n",
    "        eroded_mask = cv2.dilate(mask, kernel)\n",
    "    else:\n",
    "        eroded_mask = mask\n",
    "    \n",
    "    \n",
    "    total = eroded_mask + mask\n",
    "    intersection = np.count_nonzero(total[total==2])\n",
    "    union = np.count_nonzero(total[total>0])\n",
    "    iou = intersection*100 / union\n",
    "    # print('Intersection over Union: {}'.format(intersection/float(union)))\n",
    "    # print('Error: {}'.format(1 - intersection/float(union)))\n",
    "    errors.append(100 - iou)\n",
    "    \n",
    "    \n",
    "    # calculate ground truth length\n",
    "    y, x = np.nonzero(ground_truth_depth*eroded_mask)\n",
    "    wx, wy, wz = convert_to_world_point(x, y, ground_truth_depth)\n",
    "    cloud = []\n",
    "    for (i0, j0, k0) in zip(wx, wy, wz):\n",
    "        cloud.append([i0, j0, k0])\n",
    "    obb, eigen_vectors = OBB.build_from_points([(p[0], p[1], p[2]) for p in cloud])\n",
    "    true_obb_points = np.array(obb.points)\n",
    "    pred_length = np.linalg.norm(true_obb_points[0] - true_obb_points[1])\n",
    "    # print('True length: {}'.format(pred_length))\n",
    "    relative_error = np.abs(pred_length-true_length) / true_length\n",
    "    lengths.append(relative_error)"
   ]
  },
  {
   "cell_type": "code",
   "execution_count": null,
   "metadata": {},
   "outputs": [],
   "source": [
    "plt.plot(errors, lengths)\n",
    "plt.xlabel('Segmentation error (dilatation)')\n",
    "plt.ylabel('Length relative error')\n",
    "plt.show()"
   ]
  },
  {
   "cell_type": "markdown",
   "metadata": {},
   "source": [
    "# ADD NOISE TO DEPTH MAP"
   ]
  },
  {
   "cell_type": "code",
   "execution_count": null,
   "metadata": {},
   "outputs": [],
   "source": [
    "import copy"
   ]
  },
  {
   "cell_type": "code",
   "execution_count": null,
   "metadata": {},
   "outputs": [],
   "source": [
    "lengths = []\n",
    "errors = []\n",
    "for s in range(0, 11):\n",
    "#     total = eroded_mask + mask\n",
    "#     intersection = np.count_nonzero(total[total==2])\n",
    "#     union = np.count_nonzero(total[total>0])\n",
    "#     iou = intersection*100 / union\n",
    "#     # print('Intersection over Union: {}'.format(intersection/float(union)))\n",
    "#     # print('Error: {}'.format(1 - intersection/float(union)))\n",
    "#     errors.append(100 - iou)\n",
    "    new_depth = copy.deepcopy(mdepth)\n",
    "    if s > 0:\n",
    "        mean_depth = mdepth.sum() / np.count_nonzero(mdepth)\n",
    "        \n",
    "\n",
    "        # creat some noise\n",
    "        noise = np.zeros((512, 1024), np.uint8)\n",
    "        cv2.randn(noise, np.array(0), np.ones(1)*s)\n",
    "        new_depth += noise\n",
    "        \n",
    "    \n",
    "    depth_relative_error = np.nanmean(np.abs(new_depth*mask-mdepth) / mdepth)\n",
    "    print(depth_relative_error)\n",
    "    errors.append(depth_relative_error)\n",
    "    # calculate ground truth length\n",
    "    y, x = np.nonzero(new_depth*mask)\n",
    "    wx, wy, wz = convert_to_world_point(x, y, new_depth)\n",
    "    cloud = []\n",
    "    for (i0, j0, k0) in zip(wx, wy, wz):\n",
    "        cloud.append([i0, j0, k0])\n",
    "    obb, eigen_vectors = OBB.build_from_points([(p[0], p[1], p[2]) for p in cloud])\n",
    "    true_obb_points = np.array(obb.points)\n",
    "    pred_length = np.linalg.norm(true_obb_points[0] - true_obb_points[1])\n",
    "    # print('True length: {}'.format(pred_length))\n",
    "    relative_error = np.abs(pred_length-true_length) / true_length\n",
    "    lengths.append(relative_error)"
   ]
  },
  {
   "cell_type": "code",
   "execution_count": null,
   "metadata": {},
   "outputs": [],
   "source": [
    "plt.plot(errors, lengths)\n",
    "plt.xlabel('Depth map error (noise)')\n",
    "plt.ylabel('Length relative error')\n",
    "plt.show()"
   ]
  },
  {
   "cell_type": "markdown",
   "metadata": {},
   "source": [
    "# BOTH"
   ]
  },
  {
   "cell_type": "code",
   "execution_count": null,
   "metadata": {},
   "outputs": [],
   "source": [
    "lengths = np.zeros((22, 22))\n",
    "errors_mask = []\n",
    "errors_depth = []\n",
    "all_masks = []\n",
    "all_depth = []\n",
    "\n",
    "for size in range(0, 22):\n",
    "    if size > 0:\n",
    "        kernel = np.ones((size, size))\n",
    "        new_mask = cv2.dilate(mask, kernel)\n",
    "    else:\n",
    "        new_mask = mask\n",
    "            \n",
    "    total = new_mask + mask\n",
    "    intersection = np.count_nonzero(total[total==2])\n",
    "    union = np.count_nonzero(total[total>0])\n",
    "    iou = intersection*100 / union\n",
    "    # print('Intersection over Union: {}'.format(intersection/float(union)))\n",
    "    # print('Error: {}'.format(1 - intersection/float(union)))\n",
    "    errors_mask.append(100 - iou)\n",
    "    all_masks.append(new_mask)\n",
    "    \n",
    "for s in range(0, 22):\n",
    "\n",
    "    new_depth = copy.deepcopy(mdepth)\n",
    "    if s > 0:\n",
    "        mean_depth = mdepth.sum() / np.count_nonzero(mdepth)\n",
    "\n",
    "\n",
    "        # creat some noise\n",
    "        noise = np.zeros((512, 1024), np.uint8)\n",
    "        cv2.randn(noise, np.array(0), np.ones(1)*s)\n",
    "        new_depth += noise\n",
    "        \n",
    "    all_depth.append(new_depth)\n",
    "    depth_relative_error = np.nanmean(np.abs(new_depth*mask-mdepth) / mdepth)\n",
    "    # print(depth_relative_error)\n",
    "    errors_depth.append(depth_relative_error*100)\n",
    "    \n",
    "for (i,new_mask) in enumerate(all_masks):\n",
    "    for (j, new_depth) in enumerate(all_depth):\n",
    "\n",
    "        # calculate ground truth length\n",
    "        y, x = np.nonzero(new_depth*new_mask)\n",
    "        wx, wy, wz = convert_to_world_point(x, y, new_depth)\n",
    "        cloud = []\n",
    "        for (i0, j0, k0) in zip(wx, wy, wz):\n",
    "            cloud.append([i0, j0, k0])\n",
    "        obb, eigen_vectors = OBB.build_from_points([(p[0], p[1], p[2]) for p in cloud])\n",
    "        true_obb_points = np.array(obb.points)\n",
    "        pred_length = np.linalg.norm(true_obb_points[0] - true_obb_points[1])\n",
    "        \n",
    "        \n",
    "        # print(pred_length)\n",
    "        # print('True length: {}'.format(pred_length))\n",
    "        relative_error = np.abs(pred_length-true_length) / true_length\n",
    "        lengths[j, i] = relative_error*100"
   ]
  },
  {
   "cell_type": "code",
   "execution_count": null,
   "metadata": {},
   "outputs": [],
   "source": [
    "len(errors_depth), len(errors_mask), len(lengths)"
   ]
  },
  {
   "cell_type": "code",
   "execution_count": null,
   "metadata": {},
   "outputs": [],
   "source": [
    "errors_mask"
   ]
  },
  {
   "cell_type": "code",
   "execution_count": null,
   "metadata": {},
   "outputs": [],
   "source": [
    "plt.contourf(errors_mask, errors_depth, lengths, levels=range(0, int(lengths.max())+50, 50))\n",
    "plt.xlabel('Segmentation error (%)')\n",
    "plt.ylabel('Depth relative error (%)')\n",
    "plt.title('DILATATION')\n",
    "plt.colorbar()"
   ]
  },
  {
   "cell_type": "code",
   "execution_count": null,
   "metadata": {},
   "outputs": [],
   "source": [
    "plt.imshow(length)"
   ]
  },
  {
   "cell_type": "code",
   "execution_count": null,
   "metadata": {},
   "outputs": [],
   "source": [
    "len(errors_mask)"
   ]
  },
  {
   "cell_type": "code",
   "execution_count": null,
   "metadata": {},
   "outputs": [],
   "source": [
    "len(errors_depth)"
   ]
  },
  {
   "cell_type": "code",
   "execution_count": null,
   "metadata": {},
   "outputs": [],
   "source": [
    "lengths.shape"
   ]
  },
  {
   "cell_type": "code",
   "execution_count": null,
   "metadata": {},
   "outputs": [],
   "source": [
    "s = 1"
   ]
  },
  {
   "cell_type": "code",
   "execution_count": null,
   "metadata": {},
   "outputs": [],
   "source": []
  }
 ],
 "metadata": {
  "kernelspec": {
   "display_name": "Python 2",
   "language": "python",
   "name": "python2"
  },
  "language_info": {
   "codemirror_mode": {
    "name": "ipython",
    "version": 2
   },
   "file_extension": ".py",
   "mimetype": "text/x-python",
   "name": "python",
   "nbconvert_exporter": "python",
   "pygments_lexer": "ipython2",
   "version": "2.7.12"
  }
 },
 "nbformat": 4,
 "nbformat_minor": 2
}
