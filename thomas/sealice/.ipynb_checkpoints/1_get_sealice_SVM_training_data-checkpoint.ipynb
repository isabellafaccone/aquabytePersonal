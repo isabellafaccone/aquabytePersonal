{
 "cells": [
  {
   "cell_type": "code",
   "execution_count": null,
   "metadata": {},
   "outputs": [],
   "source": [
    "'''\n",
    "    Computes all of the feature descriptors from the annotations file\n",
    "'''\n",
    "\n",
    "#import sys\n",
    "import os\n",
    "import csv\n",
    "import cv2\n",
    "#from os import path\n",
    "#sys.path.append( path.dirname( path.dirname( path.abspath(__file__) ) ) )\n",
    "import numpy as np\n",
    "\n",
    "import lib.utils as utils\n",
    "import lib.features as features"
   ]
  },
  {
   "cell_type": "code",
   "execution_count": null,
   "metadata": {},
   "outputs": [],
   "source": [
    "annotations_file = './annotations.csv'\n",
    "\n",
    "annotations = utils.get_lice_annotations_from_file(annotations_file)\n",
    "num_annotations = len(annotations)\n",
    "\n",
    "chunk_size = 50\n",
    "num_chunks = num_annotations / chunk_size\n",
    "\n",
    "half_patch_size = 24\n",
    "\n",
    "output_directory = '/root/bryton/aquabyte_sealice/orb_output'\n",
    "\n",
    "try: \n",
    "    os.makedirs(output_directory)\n",
    "except OSError:\n",
    "    if not os.path.isdir(output_directory):\n",
    "        raise"
   ]
  },
  {
   "cell_type": "code",
   "execution_count": null,
   "metadata": {},
   "outputs": [],
   "source": [
    "new_annotations = []\n",
    "for ann in annotations:\n",
    "    path = ann[0].replace('/root/data/lice_data/', '/root/data/lice/lice_data_imenco_videos/')\n",
    "    new_annotations.append((path, ann[1], ann[2], ann[3], ann[4], ann[5]))"
   ]
  },
  {
   "cell_type": "code",
   "execution_count": null,
   "metadata": {},
   "outputs": [],
   "source": [
    "annotations = new_annotations"
   ]
  },
  {
   "cell_type": "code",
   "execution_count": null,
   "metadata": {},
   "outputs": [],
   "source": [
    "random_index = np.random.randint(len(annotations))\n",
    "random_annotation = annotations[random_index]\n",
    "image_filename, x1, y1, x2, y2, label = random_annotation\n",
    "\n",
    "center_x = int(np.round((x1 + x2) / 2.0))\n",
    "center_y = int(np.round((y1 + y2) / 2.0))\n",
    "\n",
    "patch_rgb, patch_gray = features.get_patch_from_image(random_annotation[0], center_x, center_y, half_patch_size)"
   ]
  },
  {
   "cell_type": "code",
   "execution_count": null,
   "metadata": {},
   "outputs": [],
   "source": []
  },
  {
   "cell_type": "code",
   "execution_count": null,
   "metadata": {},
   "outputs": [],
   "source": [
    "print 'Processing %i annotations' % (num_annotations, )\n",
    "\n",
    "for chunk_index in range(0, num_chunks + 1):\n",
    "    start_annotation_index = chunk_index * chunk_size\n",
    "    end_annotation_index = (chunk_index + 1) * chunk_size\n",
    "    if end_annotation_index > num_annotations:\n",
    "        end_annotation_index = num_annotations\n",
    "\n",
    "    annotations_subset = annotations[start_annotation_index : end_annotation_index]\n",
    "      \n",
    "    feature_output = features.get_sealice_orb_descriptors(annotations_subset, half_patch_size, num_annotations)\n",
    "    \n",
    "    all_frames_lice_ORB_descr = feature_output['all_frames_lice_ORB_descr']\n",
    "    all_frames_nonlice_ORB_descr = feature_output['all_frames_nonlice_ORB_descr']\n",
    "\n",
    "    '''\n",
    "    all_frames_lice_kps = [item for sublist in all_frames_lice_kps for item in sublist]\n",
    "    all_frames_nonlice_kps = [item for sublist in all_frames_nonlice_kps for item in sublist]\n",
    "    all_frames_lice_rgb_patches = [item for sublist in all_frames_lice_rgb_patches for item in sublist]\n",
    "    all_frames_nonlice_rgb_patches = [item for sublist in all_frames_nonlice_rgb_patches for item in sublist]\n",
    "    all_frames_lice_rotated_rgb_patches = [item for sublist in all_frames_lice_rotated_rgb_patches for item in sublist]\n",
    "    all_frames_nonlice_rotated_rgb_patches = [item for sublist in all_frames_nonlice_rotated_rgb_patches for item in sublist]\n",
    "    all_frames_lice_gray_patches = [item for sublist in all_frames_lice_gray_patches for item in sublist]\n",
    "    all_frames_nonlice_gray_patches = [item for sublist in all_frames_nonlice_gray_patches for item in sublist]\n",
    "    all_frames_lice_rotated_gray_patches = [item for sublist in all_frames_lice_rotated_gray_patches for item in sublist]\n",
    "    all_frames_nonlice_rotated_gray_patches = [item for sublist in all_frames_nonlice_rotated_gray_patches for item in sublist]\n",
    "    '''\n",
    "\n",
    "    #all_frames_lice_ORB_descr = [ orb_list if orb_list is not None for orb_list in all_frames_lice_ORB_descr ]\n",
    "    all_frames_lice_ORB_descr = [ orb for orb_list in all_frames_lice_ORB_descr for orb in orb_list ]\n",
    "    #all_frames_nonlice_ORB_descr = [ orb_list if orb_list is not None for orb_list in all_frames_nonlice_ORB_descr ]\n",
    "    all_frames_nonlice_ORB_descr = [ orb for orb_list in all_frames_nonlice_ORB_descr for orb in orb_list ]\n",
    "\n",
    "    print 'Got %i sealice descriptors, %i non sealice descriptors' % (len(all_frames_lice_ORB_descr), len(all_frames_nonlice_ORB_descr))\n",
    "    \n",
    "    '''\n",
    "    np.save(filename_+'_chunk_'+str(i)+'_startFrame_'+str(start_frame)+'_to_endFrame_'+str(end_frame)+'_lice_kps', all_frames_lice_kps)\n",
    "    np.save(filename_+'_chunk_'+str(i)+'_startFrame_'+str(start_frame)+'_to_endFrame_'+str(end_frame)+'_nonlice_kps', all_frames_nonlice_kps)\n",
    "    np.save(filename_+'_chunk_'+str(i)+'_startFrame_'+str(start_frame)+'_to_endFrame_'+str(end_frame)+'_lice_rgb_patches', all_frames_lice_rgb_patches)\n",
    "    np.save(filename_+'_chunk_'+str(i)+'_startFrame_'+str(start_frame)+'_to_endFrame_'+str(end_frame)+'_nonlice_rgb_patches', all_frames_nonlice_rgb_patches)\n",
    "    np.save(filename_+'_chunk_'+str(i)+'_startFrame_'+str(start_frame)+'_to_endFrame_'+str(end_frame)+'_lice_rotated_rgb_patches', all_frames_lice_rotated_rgb_patches)\n",
    "    np.save(filename_+'_chunk_'+str(i)+'_startFrame_'+str(start_frame)+'_to_endFrame_'+str(end_frame)+'_nonlice_rotated_rgb_patches', all_frames_nonlice_rotated_rgb_patches)\n",
    "    np.save(filename_+'_chunk_'+str(i)+'_startFrame_'+str(start_frame)+'_to_endFrame_'+str(end_frame)+'_lice_gray_patches', all_frames_lice_gray_patches)\n",
    "    np.save(filename_+'_chunk_'+str(i)+'_startFrame_'+str(start_frame)+'_to_endFrame_'+str(end_frame)+'_nonlice_gray_patches', all_frames_nonlice_gray_patches)\n",
    "    np.save(filename_+'_chunk_'+str(i)+'_startFrame_'+str(start_frame)+'_to_endFrame_'+str(end_frame)+'_lice_rotated_gray_patches', all_frames_lice_rotated_gray_patches)\n",
    "    np.save(filename_+'_chunk_'+str(i)+'_startFrame_'+str(start_frame)+'_to_endFrame_'+str(end_frame)+'_nonlice_rotated_gray_patches', all_frames_nonlice_rotated_gray_patches)\n",
    "    '''\n",
    "\n",
    "    lice_ORB_descr_out_file = '%s/chunk_%i_lice_ORB_descr' % (output_directory, chunk_index)\n",
    "    nonlice_ORB_descr_out_file = '%s/chunk_%i_nonlice_ORB_descr' % (output_directory, chunk_index)\n",
    "\n",
    "    np.save(lice_ORB_descr_out_file, all_frames_lice_ORB_descr)\n",
    "    np.save(nonlice_ORB_descr_out_file, all_frames_nonlice_ORB_descr)\n",
    "    \n",
    "print 'Finished processing all annotations'"
   ]
  },
  {
   "cell_type": "code",
   "execution_count": null,
   "metadata": {},
   "outputs": [],
   "source": []
  },
  {
   "cell_type": "code",
   "execution_count": null,
   "metadata": {},
   "outputs": [],
   "source": []
  }
 ],
 "metadata": {
  "kernelspec": {
   "display_name": "Python 2",
   "language": "python",
   "name": "python2"
  },
  "language_info": {
   "codemirror_mode": {
    "name": "ipython",
    "version": 2
   },
   "file_extension": ".py",
   "mimetype": "text/x-python",
   "name": "python",
   "nbconvert_exporter": "python",
   "pygments_lexer": "ipython2",
   "version": "2.7.12"
  }
 },
 "nbformat": 4,
 "nbformat_minor": 2
}
