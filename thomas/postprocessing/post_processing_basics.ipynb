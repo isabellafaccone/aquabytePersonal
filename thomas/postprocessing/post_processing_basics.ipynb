{
 "cells": [
  {
   "cell_type": "code",
   "execution_count": null,
   "metadata": {},
   "outputs": [],
   "source": [
    "import glob\n",
    "import os\n",
    "from datetime import datetime\n",
    "\n",
    "import cv2\n",
    "import matplotlib.pyplot as plt\n",
    "import numpy as np\n",
    "from PIL import Image"
   ]
  },
  {
   "cell_type": "code",
   "execution_count": null,
   "metadata": {},
   "outputs": [],
   "source": [
    "images_path = glob.glob('/root/data/aquabyte-images/erko-rotoy/2018-09-24/1/*.jpg')\n",
    "images_path = sorted(images_path, key=lambda k:int(os.path.basename(k).split('.')[0].split('_')[-1]))\n",
    "print('Number of images: {}'.format(len(images_path)))"
   ]
  },
  {
   "cell_type": "markdown",
   "metadata": {},
   "source": [
    "# VIEW IMAGES"
   ]
  },
  {
   "cell_type": "code",
   "execution_count": null,
   "metadata": {},
   "outputs": [],
   "source": [
    "for i in range(0, len(images_path), 50):\n",
    "    plt.figure(figsize=(10, 7))\n",
    "    plt.imshow(Image.open(images_path[i]))\n",
    "    ts = int(os.path.basename(images_path[i]).split('.')[0].split('_')[-1])\n",
    "    date = datetime.utcfromtimestamp(ts/1000.0).strftime(\"%d/%m/%y %H:%M:%s\")\n",
    "    plt.title(str(i) + '  ' + date)\n",
    "    plt.show()"
   ]
  },
  {
   "cell_type": "code",
   "execution_count": null,
   "metadata": {},
   "outputs": [],
   "source": [
    "# only keep the first 300 images\n",
    "images = images_path[:300]"
   ]
  },
  {
   "cell_type": "markdown",
   "metadata": {},
   "source": [
    "# DARK CHANNEL PRIOR"
   ]
  },
  {
   "cell_type": "code",
   "execution_count": null,
   "metadata": {},
   "outputs": [],
   "source": [
    "# see notebook called haze-revmoval.ipynb"
   ]
  },
  {
   "cell_type": "markdown",
   "metadata": {},
   "source": [
    "# DENOISING"
   ]
  },
  {
   "cell_type": "code",
   "execution_count": null,
   "metadata": {},
   "outputs": [],
   "source": [
    "img = cv2.imread(np.random.choice(images))\n",
    "img = cv2.resize(img, (1000, 750))\n",
    "dst = cv2.fastNlMeansDenoisingColored(img,None,3,3,3,21)"
   ]
  },
  {
   "cell_type": "code",
   "execution_count": null,
   "metadata": {},
   "outputs": [],
   "source": [
    "plt.figure(figsize=(20, 20))\n",
    "plt.imshow(img)\n",
    "plt.show()"
   ]
  },
  {
   "cell_type": "code",
   "execution_count": null,
   "metadata": {},
   "outputs": [],
   "source": [
    "plt.figure(figsize=(20, 20))\n",
    "plt.imshow(dst)\n",
    "plt.show()"
   ]
  },
  {
   "cell_type": "markdown",
   "metadata": {},
   "source": [
    "# PIL IMAGE ENHANCE"
   ]
  },
  {
   "cell_type": "code",
   "execution_count": null,
   "metadata": {},
   "outputs": [],
   "source": [
    "from PIL import ImageEnhance, Image"
   ]
  },
  {
   "cell_type": "code",
   "execution_count": null,
   "metadata": {},
   "outputs": [],
   "source": [
    "image_path = '/root/data/aquabyte-images/erko-rotoy/2018-09-24/1/right_erko-rotoy_1_1537795194435.jpg'\n",
    "# image_path = np.random.choice(images)\n",
    "image = Image.open(image_path).resize((1000, 750))"
   ]
  },
  {
   "cell_type": "code",
   "execution_count": null,
   "metadata": {},
   "outputs": [],
   "source": [
    "plt.figure(figsize=(20, 20))\n",
    "plt.imshow(image)\n",
    "plt.axis('off')\n",
    "plt.show()"
   ]
  },
  {
   "cell_type": "code",
   "execution_count": null,
   "metadata": {},
   "outputs": [],
   "source": [
    "enhancer = ImageEnhance.Sharpness(image)"
   ]
  },
  {
   "cell_type": "code",
   "execution_count": null,
   "metadata": {},
   "outputs": [],
   "source": [
    "enhancer.enhance(3.0)"
   ]
  },
  {
   "cell_type": "code",
   "execution_count": null,
   "metadata": {},
   "outputs": [],
   "source": [
    "enhancer = ImageEnhance.Color(image)"
   ]
  },
  {
   "cell_type": "code",
   "execution_count": null,
   "metadata": {},
   "outputs": [],
   "source": [
    "enhancer.enhance(1.5)"
   ]
  },
  {
   "cell_type": "code",
   "execution_count": null,
   "metadata": {},
   "outputs": [],
   "source": [
    "enhancer0 = ImageEnhance.Contrast(image)"
   ]
  },
  {
   "cell_type": "code",
   "execution_count": null,
   "metadata": {},
   "outputs": [],
   "source": [
    "enhancer0.enhance(2.0)"
   ]
  },
  {
   "cell_type": "code",
   "execution_count": null,
   "metadata": {},
   "outputs": [],
   "source": []
  },
  {
   "cell_type": "code",
   "execution_count": null,
   "metadata": {},
   "outputs": [],
   "source": [
    "enhancer = ImageEnhance.Brightness(enhancer0.enhance(2.0))"
   ]
  },
  {
   "cell_type": "code",
   "execution_count": null,
   "metadata": {},
   "outputs": [],
   "source": [
    "enhancer.enhance(2.0)"
   ]
  },
  {
   "cell_type": "markdown",
   "metadata": {},
   "source": [
    "# MULTIPLE ENHANCERS"
   ]
  },
  {
   "cell_type": "code",
   "execution_count": null,
   "metadata": {},
   "outputs": [],
   "source": [
    "import json\n",
    "import copy\n",
    "from PIL import ImageEnhance, Image\n",
    "import os\n",
    "import cv2\n",
    "import matplotlib.pyplot as plt\n",
    "import numpy as np\n",
    "from PIL import Image\n",
    "import numpy as np"
   ]
  },
  {
   "cell_type": "code",
   "execution_count": null,
   "metadata": {},
   "outputs": [],
   "source": [
    "# sharpness = range(1.0, 3.1, 0.1)\n",
    "sharpness = np.linspace(1.0, 3.1, 22)\n",
    "print(sharpness)\n",
    "# color = range(0, 1.6, 0.1)\n",
    "color = np.linspace(0, 1.6, 17)\n",
    "print(color)\n",
    "# constrat = range(1.0, 2.1, 0.1)\n",
    "constrat = np.linspace(1.0, 2.1, 12)\n",
    "print(constrat)\n",
    "# brightness = range(0.5, 2.1, 0.1)\n",
    "# brightness = np.linspace(0.5, 2.1, 17)\n",
    "# print(brightness)\n",
    "brightness = np.linspace(0.5, 1.6, 12)\n",
    "print(brightness)"
   ]
  },
  {
   "cell_type": "code",
   "execution_count": null,
   "metadata": {},
   "outputs": [],
   "source": [
    "image_path = '/root/data/aquabyte-images/erko-rotoy/2018-09-24/1/right_erko-rotoy_1_1537795194435.jpg'\n",
    "original_image = Image.open(image_path)"
   ]
  },
  {
   "cell_type": "code",
   "execution_count": null,
   "metadata": {},
   "outputs": [],
   "source": [
    "### ONE FACTOR"
   ]
  },
  {
   "cell_type": "code",
   "execution_count": null,
   "metadata": {},
   "outputs": [],
   "source": [
    "# labels = []\n",
    "# for i in range(100):\n",
    "#     modified_image = copy.copy(original_image)\n",
    "#     coin = np.random.rand()\n",
    "    \n",
    "#     if coin < 0.25:\n",
    "#         # sharpness\n",
    "#         enhancer = ImageEnhance.Sharpness(modified_image)\n",
    "#         factor = np.random.choice(sharpness)\n",
    "#         enhanced_image = enhancer.enhance(factor)\n",
    "#         factor_type = 'sharpness'\n",
    "#         print('Sharpness enhance factor: {}'.format(factor))\n",
    "        \n",
    "#     elif 0.25 <= coin < 0.5:\n",
    "#         # color\n",
    "#         enhancer = ImageEnhance.Color(modified_image)\n",
    "#         factor = np.random.choice(color)\n",
    "#         enhanced_image = enhancer.enhance(factor)\n",
    "#         print('Color enhance factor: {}'.format(factor))\n",
    "#         factor_type = 'color'\n",
    "        \n",
    "#     elif 0.5 <= coin < 0.75:\n",
    "#         # constrat\n",
    "#         enhancer = ImageEnhance.Contrast(modified_image)\n",
    "#         factor = np.random.choice(constrat)\n",
    "#         enhanced_image = enhancer.enhance(factor)\n",
    "#         print('Contrast enhance factor: {}'.format(factor))\n",
    "#         factor_type = 'contrast'\n",
    "        \n",
    "#     else:\n",
    "#         # brightness\n",
    "#         enhancer = ImageEnhance.Brightness(modified_image)\n",
    "#         factor = np.random.choice(brightness)\n",
    "#         enhanced_image = enhancer.enhance(factor)\n",
    "#         print('Brightness enhance factor: {}'.format(factor))\n",
    "#         factor_type = 'brightness'\n",
    "    \n",
    "# #     plt.figure(figsize=(20, 15))\n",
    "# #     plt.imshow(enhancer.enhance(factor))\n",
    "# #     plt.show()\n",
    "\n",
    "\n",
    "\n",
    "#     enhanced_image_path = '/root/data/postprocessing_experiments/one_factor/{}_'.format(i) + os.path.basename(image_path)\n",
    "#     enhanced_image.save(enhanced_image_path)\n",
    "#     label = {'factor_type': factor_type,'factor': factor, 'enhanced_image_path': enhanced_image_path, 'image_path': image_path}\n",
    "#     labels.append(label)\n",
    "\n",
    "# with open('/root/data/postprocessing_experiments/one_factor/labels.json', 'w') as f:\n",
    "#     json.dump(labels, f)"
   ]
  },
  {
   "cell_type": "code",
   "execution_count": null,
   "metadata": {},
   "outputs": [],
   "source": [
    "### MULTIPLE FACTORS"
   ]
  },
  {
   "cell_type": "code",
   "execution_count": null,
   "metadata": {},
   "outputs": [],
   "source": [
    "labels = []\n",
    "for i in range(100):\n",
    "    modified_image = copy.copy(original_image)\n",
    "    \n",
    "    # sharpness\n",
    "    sharpness_enhancer = ImageEnhance.Sharpness(modified_image)\n",
    "    sharpness_factor = np.random.choice(sharpness)\n",
    "    sharpened_image = sharpness_enhancer.enhance(sharpness_factor)\n",
    "    print('Sharpness enhance factor: {}'.format(sharpness_factor))\n",
    "    \n",
    "    # color\n",
    "    color_enhancer = ImageEnhance.Color(sharpened_image)\n",
    "    color_factor = np.random.choice(color)\n",
    "    colored_image = color_enhancer.enhance(color_factor)\n",
    "    print('Color enhance factor: {}'.format(color_factor))\n",
    "    \n",
    "    # constrat\n",
    "    constrat_enhancer = ImageEnhance.Contrast(colored_image)\n",
    "    contrast_factor = np.random.choice(constrat)\n",
    "    constrated_image = constrat_enhancer.enhance(contrast_factor)\n",
    "    print('Contrast enhance factor: {}'.format(contrast_factor))\n",
    "    \n",
    "    # brightness\n",
    "    brightness_enhancer = ImageEnhance.Brightness(constrated_image)\n",
    "    brightness_factor = np.random.choice(brightness)\n",
    "    brightened_image = brightness_enhancer.enhance(brightness_factor)\n",
    "    print('Brightness enhance factor: {}'.format(brightness_factor))\n",
    "    \n",
    "    enhanced_image_path = '/root/data/postprocessing_experiments/two_factors/{}_'.format(i) + os.path.basename(image_path)\n",
    "    brightened_image.save(enhanced_image_path)\n",
    "    label = {'sharpness': sharpness_factor,\\\n",
    "             'brightness': brightness_factor, \\\n",
    "             'contrast': contrast_factor,\n",
    "             'color': color_factor, 'enhanced_image_path': enhanced_image_path, 'image_path': image_path}\n",
    "    labels.append(label)\n",
    "\n",
    "with open('/root/data/postprocessing_experiments/two_factors/labels.json', 'w') as f:\n",
    "    json.dump(labels, f)"
   ]
  },
  {
   "cell_type": "markdown",
   "metadata": {},
   "source": [
    "# CLAHE"
   ]
  },
  {
   "cell_type": "code",
   "execution_count": null,
   "metadata": {},
   "outputs": [],
   "source": [
    "import glob\n",
    "import os\n",
    "from datetime import datetime\n",
    "\n",
    "import cv2\n",
    "import matplotlib.pyplot as plt\n",
    "import matplotlib.cm as cm\n",
    "import numpy as np\n",
    "from PIL import Image"
   ]
  },
  {
   "cell_type": "code",
   "execution_count": null,
   "metadata": {},
   "outputs": [],
   "source": [
    "def bgr2rgb(img):\n",
    "    b,g,r = cv2.split(img)\n",
    "    return cv2.merge([r,g,b])"
   ]
  },
  {
   "cell_type": "code",
   "execution_count": null,
   "metadata": {},
   "outputs": [],
   "source": [
    "image_path = '/root/data/aquabyte-images/erko-rotoy/2018-09-24/1/right_erko-rotoy_1_1537795194435.jpg'"
   ]
  },
  {
   "cell_type": "code",
   "execution_count": null,
   "metadata": {},
   "outputs": [],
   "source": [
    "img = cv2.imread(image_path,0)\n",
    "# img = np.array(Image.open(image_path))"
   ]
  },
  {
   "cell_type": "code",
   "execution_count": null,
   "metadata": {},
   "outputs": [],
   "source": [
    "# create a CLAHE object (Arguments are optional).\n",
    "clahe = cv2.createCLAHE(clipLimit=2.0, tileGridSize=(8,8))\n",
    "cl1 = clahe.apply(img)"
   ]
  },
  {
   "cell_type": "code",
   "execution_count": null,
   "metadata": {},
   "outputs": [],
   "source": [
    "f, ax = plt.subplots(2, 1, figsize=(10, 20))\n",
    "ax[0].imshow(img, cmap=cm.gray)\n",
    "ax[1].imshow(cl1, cmap=cm.gray)\n",
    "plt.show()"
   ]
  },
  {
   "cell_type": "code",
   "execution_count": null,
   "metadata": {},
   "outputs": [],
   "source": []
  },
  {
   "cell_type": "code",
   "execution_count": null,
   "metadata": {},
   "outputs": [],
   "source": []
  }
 ],
 "metadata": {
  "kernelspec": {
   "display_name": "Python 2",
   "language": "python",
   "name": "python2"
  },
  "language_info": {
   "codemirror_mode": {
    "name": "ipython",
    "version": 2
   },
   "file_extension": ".py",
   "mimetype": "text/x-python",
   "name": "python",
   "nbconvert_exporter": "python",
   "pygments_lexer": "ipython2",
   "version": "2.7.12"
  }
 },
 "nbformat": 4,
 "nbformat_minor": 2
}
