{
 "cells": [
  {
   "cell_type": "code",
   "execution_count": null,
   "metadata": {},
   "outputs": [],
   "source": [
    "import json\n",
    "from pycocotools.coco import COCO\n",
    "import glob\n",
    "import numpy as np\n",
    "import matplotlib.pyplot as plt\n",
    "import cv2\n",
    "%matplotlib inline\n",
    "import os\n",
    "import shutil\n",
    "import copy"
   ]
  },
  {
   "cell_type": "code",
   "execution_count": null,
   "metadata": {},
   "outputs": [],
   "source": [
    "cocofiles = glob.glob(\"/root/data/aquabyte-images/cocofiles/coco_body_parts_2018-11-*\")\n",
    "# cocofiles= cocofiles[1:]"
   ]
  },
  {
   "cell_type": "code",
   "execution_count": null,
   "metadata": {},
   "outputs": [],
   "source": [
    "import time\n",
    "from tqdm import tqdm"
   ]
  },
  {
   "cell_type": "code",
   "execution_count": null,
   "metadata": {},
   "outputs": [],
   "source": [
    "buffer = 20\n",
    "new_image_id = 0\n",
    "new_images = []\n",
    "\n",
    "for cocof in cocofiles:\n",
    "    new_image_id = 0\n",
    "    new_images = []\n",
    "    print(cocof)\n",
    "    # copy the cocofiles\n",
    "    coco_name = os.path.basename(cocof)\n",
    "    coco_des = \"/root/data/aquabyte-images-crops/cocofiles/{}\".format(coco_name)\n",
    "    shutil.copy(cocof, coco_des)\n",
    "    coco = COCO(coco_des)\n",
    "    new_coco = {'categories': list(coco.cats.values())}\n",
    "    print(len(list(coco.anns.keys())))\n",
    "    for (annid, ann) in coco.anns.items():\n",
    "        \n",
    "        image_id = ann[\"image_id\"]\n",
    "        cat_id = ann['category_id']\n",
    "        if cat_id != 1:\n",
    "            continue\n",
    "#         print(new_image_id)\n",
    "        # print(annid)\n",
    "        bbox = ann[\"bbox\"]\n",
    "        ann[\"old_bbox\"] = bbox\n",
    "        seg = ann[\"segmentation\"][0]\n",
    "        x_min = int(np.max([bbox[0] - buffer, 0]))\n",
    "        y_min = int(np.max([bbox[1] - buffer, 0]))\n",
    "\n",
    "        # bouh it's hardcoded bad bad\n",
    "        x_max = int(np.min([bbox[0] + bbox[2] + buffer, 4096]))\n",
    "        y_max = int(np.min([bbox[1] + bbox[3] + buffer, 3000]))\n",
    "        \n",
    "        \n",
    "#         print(y_min, y_max, x_min, x_max)\n",
    "        # change the annotation information\n",
    "        new_bbox = [int(bbox[0]-x_min), \n",
    "                    int(bbox[1]-y_min), \n",
    "                    int(bbox[2]), \n",
    "                    int(bbox[3])]\n",
    "        new_seg = []\n",
    "        for k in range(0, len(seg), 2):\n",
    "            new_seg.append(int(seg[k]-x_min))\n",
    "            new_seg.append(int(seg[k+1]-y_min))\n",
    "        ann[\"bbox\"] = new_bbox\n",
    "        ann[\"segmentation\"] = [new_seg]\n",
    "        ann[\"image_id\"] = new_image_id\n",
    "        # save the image \n",
    "        image_info = copy.copy(coco.loadImgs([image_id])[0])\n",
    "        image_path = image_info[\"local_path\"].replace(\"app\", \"root\")\n",
    "#         print(image_path)\n",
    "#         print(y_min,y_max, x_min,x_max)\n",
    "        image = cv2.imread(image_path)[y_min:y_max, x_min:x_max, :]\n",
    "        \n",
    "        #print(image_path)\n",
    "        destination = image_path.replace(\"aquabyte-images\", \"aquabyte-images-crops\").replace(\".jpg\", \"_{}.jpg\".format(new_image_id))\n",
    "        \n",
    "        #print(destination)\n",
    "        if not os.path.isdir(os.path.dirname(destination)):\n",
    "            os.makedirs(os.path.dirname(destination))\n",
    "#         if new_image_id == 25:\n",
    "#             plt.imshow(image)\n",
    "#             plt.show()\n",
    "        cv2.imwrite(destination, image)\n",
    "        \n",
    "        # change the image information\n",
    "        image_info[\"local_path\"] = destination\n",
    "        image_info[\"height\"] = image.shape[0]\n",
    "        image_info[\"width\"] = image.shape[1]\n",
    "        image_info[\"id\"] = new_image_id\n",
    "        \n",
    "        new_image_id += 1\n",
    "        new_images.append(image_info)\n",
    "        \n",
    "    new_coco[\"images\"] = new_images\n",
    "    new_coco[\"annotations\"] = list(coco.anns.values())\n",
    "    with open(coco_des, \"w\") as f:\n",
    "        json.dump(new_coco, f)\n"
   ]
  },
  {
   "cell_type": "code",
   "execution_count": null,
   "metadata": {},
   "outputs": [],
   "source": []
  },
  {
   "cell_type": "code",
   "execution_count": null,
   "metadata": {},
   "outputs": [],
   "source": []
  },
  {
   "cell_type": "code",
   "execution_count": null,
   "metadata": {},
   "outputs": [],
   "source": []
  },
  {
   "cell_type": "code",
   "execution_count": null,
   "metadata": {},
   "outputs": [],
   "source": [
    "plt.imshow(cv2.imread(\"/root/data/aquabyte-images-crops/blom-kjeppevikholmen/2018-11-28/2/left_blom-kjeppevikholmen_2_1543409115000.jpg\"))"
   ]
  },
  {
   "cell_type": "code",
   "execution_count": null,
   "metadata": {},
   "outputs": [],
   "source": [
    "cv2.imread(\"/root/data/aquabyte-images/blom-kjeppevikholmen/2018-11-28/2/left_blom-kjeppevikholmen_2_1543409115000.jpg\")[1732: 3000, 1323: 2285,:].shape"
   ]
  },
  {
   "cell_type": "code",
   "execution_count": null,
   "metadata": {},
   "outputs": [],
   "source": []
  },
  {
   "cell_type": "code",
   "execution_count": null,
   "metadata": {},
   "outputs": [],
   "source": []
  },
  {
   "cell_type": "code",
   "execution_count": null,
   "metadata": {},
   "outputs": [],
   "source": []
  },
  {
   "cell_type": "code",
   "execution_count": null,
   "metadata": {},
   "outputs": [],
   "source": [
    "[img for img in new_images if img[\"id\"] == 25]"
   ]
  },
  {
   "cell_type": "code",
   "execution_count": null,
   "metadata": {},
   "outputs": [],
   "source": [
    "cv2.imread('/root/data/aquabyte-images-crops/blom-kjeppevikholmen/2018-11-28/2/left_blom-kjeppevikholmen_2_1543409115000.jpg').shape"
   ]
  },
  {
   "cell_type": "code",
   "execution_count": null,
   "metadata": {},
   "outputs": [],
   "source": [
    "ann_test = [ann for ann in list(coco.anns.values()) if ann[\"image_id\"] == 25]"
   ]
  },
  {
   "cell_type": "code",
   "execution_count": null,
   "metadata": {},
   "outputs": [],
   "source": [
    "bbox = ann_test[0][\"bbox\"]"
   ]
  },
  {
   "cell_type": "code",
   "execution_count": null,
   "metadata": {},
   "outputs": [],
   "source": [
    "x_min = int(np.max([bbox[0] - buffer, 0]))\n",
    "y_min = int(np.max([bbox[1] - buffer, 0]))\n",
    "x_max = int(np.min([bbox[0] + bbox[2] + buffer, 4096]))\n",
    "y_max = int(np.min([bbox[1] + bbox[3] + buffer, 3000]))\n",
    "print(x_min, x_max, y_min, y_max)"
   ]
  },
  {
   "cell_type": "code",
   "execution_count": null,
   "metadata": {},
   "outputs": [],
   "source": [
    "image = cv2.imread('/root/data/aquabyte-images/blom-kjeppevikholmen/2018-11-28/2/left_blom-kjeppevikholmen_2_1543409115000.jpg')"
   ]
  },
  {
   "cell_type": "code",
   "execution_count": null,
   "metadata": {},
   "outputs": [],
   "source": [
    "crop = image[y_min:y_max, x_min:x_max, :]"
   ]
  },
  {
   "cell_type": "code",
   "execution_count": null,
   "metadata": {},
   "outputs": [],
   "source": [
    "crop.shape"
   ]
  },
  {
   "cell_type": "code",
   "execution_count": null,
   "metadata": {},
   "outputs": [],
   "source": [
    "cv2.imwrite('/root/data/aquabyte-images-crops/blom-kjeppevikholmen/2018-11-28/2/left_blom-kjeppevikholmen_2_1543409115000.jpg', crop)"
   ]
  },
  {
   "cell_type": "markdown",
   "metadata": {},
   "source": [
    "TEST STUFF"
   ]
  },
  {
   "cell_type": "code",
   "execution_count": null,
   "metadata": {},
   "outputs": [],
   "source": [
    "coco_test = COCO(coco_des)"
   ]
  },
  {
   "cell_type": "code",
   "execution_count": null,
   "metadata": {},
   "outputs": [],
   "source": [
    "coco.anns"
   ]
  },
  {
   "cell_type": "code",
   "execution_count": null,
   "metadata": {},
   "outputs": [],
   "source": []
  },
  {
   "cell_type": "code",
   "execution_count": null,
   "metadata": {},
   "outputs": [],
   "source": []
  },
  {
   "cell_type": "code",
   "execution_count": null,
   "metadata": {},
   "outputs": [],
   "source": []
  },
  {
   "cell_type": "code",
   "execution_count": null,
   "metadata": {},
   "outputs": [],
   "source": []
  },
  {
   "cell_type": "code",
   "execution_count": null,
   "metadata": {},
   "outputs": [],
   "source": []
  },
  {
   "cell_type": "code",
   "execution_count": null,
   "metadata": {},
   "outputs": [],
   "source": [
    "image_path"
   ]
  },
  {
   "cell_type": "code",
   "execution_count": null,
   "metadata": {},
   "outputs": [],
   "source": [
    "cv2.imread(image_path).shape"
   ]
  },
  {
   "cell_type": "code",
   "execution_count": null,
   "metadata": {},
   "outputs": [],
   "source": [
    "image_path"
   ]
  },
  {
   "cell_type": "code",
   "execution_count": null,
   "metadata": {},
   "outputs": [],
   "source": [
    "cv2.imread(\"/root/data/aquabyte-images/erko-rotoy/2018-10-07/1/left_erko-rotoy_1_1538917515376.jpg\").shape"
   ]
  },
  {
   "cell_type": "code",
   "execution_count": null,
   "metadata": {},
   "outputs": [],
   "source": [
    "im = cv2.imread(image_path)\n",
    "im.shape"
   ]
  },
  {
   "cell_type": "code",
   "execution_count": null,
   "metadata": {},
   "outputs": [],
   "source": [
    "image.shape"
   ]
  },
  {
   "cell_type": "code",
   "execution_count": null,
   "metadata": {},
   "outputs": [],
   "source": [
    "image_info"
   ]
  },
  {
   "cell_type": "code",
   "execution_count": null,
   "metadata": {},
   "outputs": [],
   "source": [
    "COCO(\"/root/data/aquabyte-images-crops/segmentation-trainer/Train/coco_body_parts_2018-11-22.json\")"
   ]
  },
  {
   "cell_type": "code",
   "execution_count": null,
   "metadata": {},
   "outputs": [],
   "source": [
    "catNot to mention Franco did all those crazy lifts with an amazing wilks  AND is healthy to this day. The man is a legend and has way superior genetics but sadly had to live in arnolds shadow most of his career.﻿\n",
    "￼\n"
   ]
  },
  {
   "cell_type": "code",
   "execution_count": null,
   "metadata": {},
   "outputs": [],
   "source": [
    "ann"
   ]
  },
  {
   "cell_type": "code",
   "execution_count": null,
   "metadata": {},
   "outputs": [],
   "source": []
  },
  {
   "cell_type": "code",
   "execution_count": null,
   "metadata": {},
   "outputs": [],
   "source": []
  },
  {
   "cell_type": "code",
   "execution_count": null,
   "metadata": {},
   "outputs": [],
   "source": [
    "image_path"
   ]
  },
  {
   "cell_type": "code",
   "execution_count": null,
   "metadata": {},
   "outputs": [],
   "source": [
    "type(new_bbox[0])"
   ]
  },
  {
   "cell_type": "code",
   "execution_count": null,
   "metadata": {},
   "outputs": [],
   "source": [
    "type(image.shape[0])"
   ]
  },
  {
   "cell_type": "markdown",
   "metadata": {},
   "source": [
    "TEST STUFF"
   ]
  },
  {
   "cell_type": "code",
   "execution_count": null,
   "metadata": {},
   "outputs": [],
   "source": [
    "import numpy\n",
    "from PIL import Image, ImageDraw\n",
    "\n",
    "height = image.shape[0]\n",
    "width = image.shape[1]\n",
    "\n",
    "img = Image.new('L', (width, height), 0)\n",
    "ImageDraw.Draw(img).polygon(polygon, outline=1, fill=1)\n",
    "mask = numpy.array(img)"
   ]
  },
  {
   "cell_type": "code",
   "execution_count": null,
   "metadata": {},
   "outputs": [],
   "source": [
    "plt.imshow(mask)"
   ]
  },
  {
   "cell_type": "code",
   "execution_count": null,
   "metadata": {},
   "outputs": [],
   "source": [
    "image_info"
   ]
  },
  {
   "cell_type": "code",
   "execution_count": null,
   "metadata": {},
   "outputs": [],
   "source": [
    "coco.loadImgs([image_id])[0]"
   ]
  }
 ],
 "metadata": {
  "kernelspec": {
   "display_name": "Python 3",
   "language": "python",
   "name": "python3"
  },
  "language_info": {
   "codemirror_mode": {
    "name": "ipython",
    "version": 3
   },
   "file_extension": ".py",
   "mimetype": "text/x-python",
   "name": "python",
   "nbconvert_exporter": "python",
   "pygments_lexer": "ipython3",
   "version": "3.5.2"
  }
 },
 "nbformat": 4,
 "nbformat_minor": 2
}
