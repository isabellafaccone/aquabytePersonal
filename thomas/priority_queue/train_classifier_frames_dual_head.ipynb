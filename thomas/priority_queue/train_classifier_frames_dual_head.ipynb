{
 "cells": [
  {
   "cell_type": "code",
   "execution_count": null,
   "metadata": {},
   "outputs": [],
   "source": [
    "import glob"
   ]
  },
  {
   "cell_type": "code",
   "execution_count": null,
   "metadata": {},
   "outputs": [],
   "source": [
    "fish = glob.glob(\"/root/data/alok/filtration_classifier_data/nonzero_crops/images/*\")\n",
    "print(\"Number of images with at least one fish: {}\".format(len(fish)))\n",
    "no_fish = glob.glob(\"/root/data/alok/filtration_classifier_data/zero_crops/images/*\")\n",
    "print(\"Number of images without fish: {}\".format(len(no_fish)))\n",
    "good_images = glob.glob(\"/root/data/priority_queue/frames/good/*.jpg\")\n",
    "print(\"Number of good images {}\".format(len(good_images)))\n",
    "bad_images = glob.glob(\"/root/data/priority_queue/frames/bad/*/*.jpg\")\n",
    "print(\"Number of bad images {}\".format(len(bad_images)))"
   ]
  },
  {
   "cell_type": "markdown",
   "metadata": {},
   "source": [
    "Load some annotations"
   ]
  },
  {
   "cell_type": "code",
   "execution_count": null,
   "metadata": {},
   "outputs": [],
   "source": [
    "import json\n",
    "import os"
   ]
  },
  {
   "cell_type": "code",
   "execution_count": null,
   "metadata": {},
   "outputs": [],
   "source": [
    "# consensus crops -> frames\n",
    "image_classes = json.load(open(\"/root/data/priority_queue/frames/image_classes.json\"))"
   ]
  },
  {
   "cell_type": "code",
   "execution_count": null,
   "metadata": {},
   "outputs": [],
   "source": [
    "# for (k,v) in image_classes.items():\n",
    "#     print(v)\n",
    "#     print([int(k) for k in v])\n",
    "#     break"
   ]
  },
  {
   "cell_type": "code",
   "execution_count": null,
   "metadata": {},
   "outputs": [],
   "source": [
    "for img in bad_images:\n",
    "    name = os.path.basename(img)\n",
    "    if name not in image_classes:\n",
    "        print(\"red alert\")"
   ]
  },
  {
   "cell_type": "markdown",
   "metadata": {},
   "source": [
    "Create generator"
   ]
  },
  {
   "cell_type": "markdown",
   "metadata": {},
   "source": [
    "Experiences:\n",
    "* BW classifier\n",
    "* RGB classifer: overfitting done / \n",
    "* split per class with sigmoid head"
   ]
  },
  {
   "cell_type": "code",
   "execution_count": null,
   "metadata": {},
   "outputs": [],
   "source": [
    "import numpy as np\n",
    "import matplotlib.pyplot as plt\n",
    "import cv2"
   ]
  },
  {
   "cell_type": "code",
   "execution_count": null,
   "metadata": {},
   "outputs": [],
   "source": [
    "plt.imshow(cv2.imread(np.random.choice(fish)))\n",
    "plt.show()"
   ]
  },
  {
   "cell_type": "code",
   "execution_count": null,
   "metadata": {},
   "outputs": [],
   "source": [
    "f, ax = plt.subplots(1, 2, figsize=(20, 10))\n",
    "ax[0].imshow(cv2.imread(np.random.choice(fish)))\n",
    "ax[1].imshow(cv2.imread(np.random.choice(no_fish)))\n",
    "plt.show()"
   ]
  },
  {
   "cell_type": "code",
   "execution_count": null,
   "metadata": {},
   "outputs": [],
   "source": []
  },
  {
   "cell_type": "code",
   "execution_count": null,
   "metadata": {},
   "outputs": [],
   "source": []
  },
  {
   "cell_type": "code",
   "execution_count": null,
   "metadata": {},
   "outputs": [],
   "source": [
    "import random\n",
    "random.seed(124)\n",
    "random.shuffle(bad_images)\n",
    "random.shuffle(good_images)"
   ]
  },
  {
   "cell_type": "code",
   "execution_count": null,
   "metadata": {},
   "outputs": [],
   "source": [
    "cutoff_good = int(len(good_images)*0.8)\n",
    "cutoff_bad = int(len(bad_images)*0.8)\n",
    "\n",
    "train_good = good_images[:cutoff_good]\n",
    "val_good = good_images[cutoff_good:]\n",
    "\n",
    "train_bad = bad_images[:cutoff_bad]\n",
    "val_bad = bad_images[cutoff_bad:]"
   ]
  },
  {
   "cell_type": "code",
   "execution_count": null,
   "metadata": {},
   "outputs": [],
   "source": [
    "ngpus = 2\n",
    "new_shape = (224, 224)\n",
    "batch_size = 32*ngpus\n",
    "classes = 3"
   ]
  },
  {
   "cell_type": "code",
   "execution_count": null,
   "metadata": {},
   "outputs": [],
   "source": [
    "import keras"
   ]
  },
  {
   "cell_type": "code",
   "execution_count": null,
   "metadata": {},
   "outputs": [],
   "source": [
    "from imgaug import augmenters as iaa"
   ]
  },
  {
   "cell_type": "code",
   "execution_count": null,
   "metadata": {},
   "outputs": [],
   "source": [
    "augmenters = {1: iaa.GaussianBlur((0.0, 3.0), name=\"GaussianBlur\"),\n",
    "              2: iaa.Add((-100, 0))}\n",
    "sometimes = lambda aug: iaa.Sometimes(0.5, aug)"
   ]
  },
  {
   "cell_type": "code",
   "execution_count": null,
   "metadata": {},
   "outputs": [],
   "source": [
    "class DataGenerator(keras.utils.Sequence):\n",
    "    'Generates data for Keras'\n",
    "    def __init__(self, good_images, bad_images, batch_size=batch_size, dim=(224, 224, 3)):\n",
    "        'Initialization'\n",
    "        self.good_images = good_images\n",
    "        self.batch_size = batch_size\n",
    "        self.bad_images = bad_images\n",
    "        self.dim = dim\n",
    "        \n",
    "    def __len__(self):\n",
    "        'Denotes the number of batches per epoch'\n",
    "        return int((len(self.good_images) + len(self.bad_images)) / self.batch_size)\n",
    "    \n",
    "    def __getitem__(self, index):\n",
    "        'Generate one batch of data'\n",
    "        xbatch = []\n",
    "        ybatch = []\n",
    "        for i in range(self.batch_size):\n",
    "            if i % 2 == 0:\n",
    "                path = np.random.choice(self.good_images)\n",
    "                label = [1, 0, 0]\n",
    "            else:\n",
    "                path = np.random.choice(self.bad_images)\n",
    "                tmp = image_classes[os.path.basename(path)]\n",
    "                label = [0] + [int(k) if k is not None else 0 for k in tmp]\n",
    "                \n",
    "            auglist = []\n",
    "            for i in range(len(label)):\n",
    "                if label[i] and i in augmenters:\n",
    "                    auglist.append(sometimes(augmenters[i]))\n",
    "            if len(auglist) > 0:\n",
    "                seq = iaa.Sequential(auglist)\n",
    "            else:\n",
    "                seq = None\n",
    "                \n",
    "            image = cv2.imread(path)\n",
    "            image = cv2.resize(image, new_shape)\n",
    "            if seq:\n",
    "                image = seq.augment_image(image)\n",
    "            xbatch.append(image)\n",
    "            ybatch.append(label)\n",
    "\n",
    "        return np.array(xbatch), np.array(ybatch)\n",
    "    \n",
    "    def on_epoch_end(self):\n",
    "        random.shuffle(self.good_images)\n",
    "        random.shuffle(self.bad_images)"
   ]
  },
  {
   "cell_type": "code",
   "execution_count": null,
   "metadata": {},
   "outputs": [],
   "source": [
    "traingen = DataGenerator(train_good, train_bad)\n",
    "valgen = DataGenerator(val_good, val_bad)"
   ]
  },
  {
   "cell_type": "code",
   "execution_count": null,
   "metadata": {},
   "outputs": [],
   "source": [
    "xb, yb = traingen[0]"
   ]
  },
  {
   "cell_type": "code",
   "execution_count": null,
   "metadata": {},
   "outputs": [],
   "source": [
    "print(xb.shape, yb.shape)"
   ]
  },
  {
   "cell_type": "code",
   "execution_count": null,
   "metadata": {},
   "outputs": [],
   "source": [
    "for i in range(batch_size):\n",
    "    plt.imshow(xb[i, ...])\n",
    "    plt.show()\n",
    "    print(yb[i])"
   ]
  },
  {
   "cell_type": "markdown",
   "metadata": {},
   "source": [
    "load and compile model"
   ]
  },
  {
   "cell_type": "code",
   "execution_count": null,
   "metadata": {},
   "outputs": [],
   "source": [
    "import os\n",
    "\n",
    "from keras import layers\n",
    "from keras.models import Model\n",
    "from keras.applications.resnet50 import ResNet50\n",
    "from keras.applications.mobilenet import MobileNet\n",
    "from keras.optimizers import Adam\n",
    "from keras.utils import multi_gpu_model\n",
    "import tensorflow as tf"
   ]
  },
  {
   "cell_type": "code",
   "execution_count": null,
   "metadata": {},
   "outputs": [],
   "source": [
    "# os.environ[\"CUDA_VISIBLE_DEVICES\"] = \"0\""
   ]
  },
  {
   "cell_type": "markdown",
   "metadata": {},
   "source": [
    "Models:\n",
    "* resnet50 = overfit\n",
    "* mobilenet \n",
    "    "
   ]
  },
  {
   "cell_type": "code",
   "execution_count": null,
   "metadata": {},
   "outputs": [],
   "source": [
    "# body = ResNet50(include_top=False, \n",
    "#                  weights='imagenet',\n",
    "#                  input_shape=(256, 256, 3),\n",
    "#                  pooling=\"avg\")\n",
    "# x = body.output\n",
    "# x = layers.Dense(1, activation='sigmoid', name='fc1000')(x)"
   ]
  },
  {
   "cell_type": "code",
   "execution_count": null,
   "metadata": {},
   "outputs": [],
   "source": [
    "with tf.device('/cpu:0'):\n",
    "    alpha=1.0\n",
    "    shape = (1, 1, int(1024 * alpha))\n",
    "    dropout=1e-3\n",
    "    body = MobileNet(include_top=False,\n",
    "                     weights='imagenet',\n",
    "                     input_shape=(224, 224, 3),\n",
    "                     pooling=None\n",
    "                    )\n",
    "    \n",
    "    x = layers.GlobalAveragePooling2D()(body.output)\n",
    "    x = layers.Reshape(shape, name='reshape_1')(x)\n",
    "    x = layers.Dropout(dropout, name='dropout')(x)\n",
    "    x = layers.Conv2D(classes, (1, 1),\n",
    "                      padding='same',\n",
    "                      name='conv_preds')(x)\n",
    "    x = layers.Activation('sigmoid', name='act_sigmoid')(x)\n",
    "    x = layers.Reshape((classes,), name='reshape_2')(x)\n",
    "    \n",
    "    single_model = Model([body.input], [x])"
   ]
  },
  {
   "cell_type": "code",
   "execution_count": null,
   "metadata": {},
   "outputs": [],
   "source": [
    "model = multi_gpu_model(single_model, gpus=ngpus)"
   ]
  },
  {
   "cell_type": "code",
   "execution_count": null,
   "metadata": {},
   "outputs": [],
   "source": [
    "adam = Adam()"
   ]
  },
  {
   "cell_type": "code",
   "execution_count": null,
   "metadata": {},
   "outputs": [],
   "source": [
    "model.compile(adam, loss=\"binary_crossentropy\", metrics=[\"binary_accuracy\"])"
   ]
  },
  {
   "cell_type": "markdown",
   "metadata": {},
   "source": [
    "train"
   ]
  },
  {
   "cell_type": "code",
   "execution_count": null,
   "metadata": {},
   "outputs": [],
   "source": [
    "slowdown = 5"
   ]
  },
  {
   "cell_type": "code",
   "execution_count": null,
   "metadata": {},
   "outputs": [],
   "source": [
    "history = model.fit_generator(generator = traingen, \n",
    "                              steps_per_epoch=(len(train_good) + len(train_bad))//(batch_size*slowdown),\n",
    "                              workers=10,\n",
    "                              max_queue_size=20,\n",
    "                              use_multiprocessing=False,\n",
    "                              validation_data=valgen,\n",
    "                              validation_steps = (len(val_good) + len(val_bad))//batch_size,\n",
    "                              epochs=4*slowdown)"
   ]
  },
  {
   "cell_type": "code",
   "execution_count": null,
   "metadata": {},
   "outputs": [],
   "source": [
    "h = history.history"
   ]
  },
  {
   "cell_type": "code",
   "execution_count": null,
   "metadata": {},
   "outputs": [],
   "source": [
    "plt.plot(h[\"loss\"])\n",
    "plt.plot(h[\"val_loss\"])\n",
    "plt.show()"
   ]
  },
  {
   "cell_type": "code",
   "execution_count": null,
   "metadata": {},
   "outputs": [],
   "source": [
    "plt.plot(h[\"binary_accuracy\"])\n",
    "plt.plot(h[\"val_binary_accuracy\"])\n",
    "plt.show()"
   ]
  },
  {
   "cell_type": "code",
   "execution_count": null,
   "metadata": {},
   "outputs": [],
   "source": [
    "single_model.save(\"/root/data/priority_queue/models/draft_5.h5\")"
   ]
  },
  {
   "cell_type": "code",
   "execution_count": null,
   "metadata": {},
   "outputs": [],
   "source": []
  },
  {
   "cell_type": "code",
   "execution_count": null,
   "metadata": {},
   "outputs": [],
   "source": []
  },
  {
   "cell_type": "code",
   "execution_count": null,
   "metadata": {},
   "outputs": [],
   "source": []
  }
 ],
 "metadata": {
  "kernelspec": {
   "display_name": "Python 3",
   "language": "python",
   "name": "python3"
  },
  "language_info": {
   "codemirror_mode": {
    "name": "ipython",
    "version": 3
   },
   "file_extension": ".py",
   "mimetype": "text/x-python",
   "name": "python",
   "nbconvert_exporter": "python",
   "pygments_lexer": "ipython3",
   "version": "3.5.2"
  }
 },
 "nbformat": 4,
 "nbformat_minor": 2
}
