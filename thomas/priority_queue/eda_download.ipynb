{
 "cells": [
  {
   "cell_type": "code",
   "execution_count": null,
   "metadata": {},
   "outputs": [],
   "source": [
    "import os\n",
    "import sys\n",
    "from sqlalchemy import Column, ForeignKey, Integer, String\n",
    "from sqlalchemy.ext.declarative import declarative_base\n",
    "from sqlalchemy.orm import relationship\n",
    "from sqlalchemy import create_engine\n",
    "from sqlalchemy.orm import sessionmaker\n",
    "from sqlalchemy import MetaData\n",
    "from sqlalchemy import Table, select, func, and_, insert, delete, update, or_"
   ]
  },
  {
   "cell_type": "code",
   "execution_count": null,
   "metadata": {},
   "outputs": [],
   "source": [
    "import json\n",
    "\n",
    "sql_credentials = json.load(open('/root/thomas/sqlcredentials.json'))"
   ]
  },
  {
   "cell_type": "code",
   "execution_count": null,
   "metadata": {},
   "outputs": [],
   "source": [
    "from sqlalchemy import create_engine\n",
    "\n",
    "sql_engine = create_engine(\n",
    "    \"postgresql://{}:{}@{}:{}/{}\".format(sql_credentials[\"user\"], sql_credentials[\"password\"],\n",
    "                                         sql_credentials[\"host\"], sql_credentials[\"port\"],\n",
    "                                         sql_credentials[\"database\"]))\n"
   ]
  },
  {
   "cell_type": "markdown",
   "metadata": {},
   "source": [
    "Lati stuff"
   ]
  },
  {
   "cell_type": "code",
   "execution_count": null,
   "metadata": {},
   "outputs": [],
   "source": [
    "metadata = MetaData()\n",
    "# step 1 - download crops + json\n",
    "fish_crops = Table('lati_fish_detections', metadata, autoload=True, autoload_with=sql_engine)\n",
    "lice_crops = Table('lati_fish_detections_lice_annotations', metadata, autoload=True,\n",
    "                   autoload_with=sql_engine)\n",
    "\n",
    "# inner join on fish crop id\n",
    "query = select([fish_crops.c.site_id,\n",
    "                fish_crops.c.pen_number,\n",
    "                fish_crops.c.metadata,\n",
    "                lice_crops.c.is_skipped,\n",
    "                lice_crops.c.is_blurry,\n",
    "                lice_crops.c.is_too_dark,\n",
    "                lice_crops.c.is_obstructed,\n",
    "                lice_crops.c.is_bad_crop,\n",
    "                fish_crops.c.created_at\n",
    "                ]) \\\n",
    "    .select_from(lice_crops.join(fish_crops, lice_crops.c.lati_fish_detections_id == fish_crops.c.id)) \\\n",
    "    .where(fish_crops.c.created_at >= '2019-04-01')"
   ]
  },
  {
   "cell_type": "code",
   "execution_count": null,
   "metadata": {},
   "outputs": [],
   "source": [
    "connection = sql_engine.connect()\n",
    "q = connection.execute(query)\n",
    "results = [r for r in q]"
   ]
  },
  {
   "cell_type": "code",
   "execution_count": null,
   "metadata": {},
   "outputs": [],
   "source": [
    "import pandas as pd"
   ]
  },
  {
   "cell_type": "code",
   "execution_count": null,
   "metadata": {},
   "outputs": [],
   "source": [
    "dataset = {'site_id':[],\n",
    "           'pen_number': [],\n",
    "           'metadata': [],\n",
    "           'blurriness': [],\n",
    "           'darkness': [],\n",
    "           'quality': [],\n",
    "           'is_skipped': [],\n",
    "           'is_blurry': [],\n",
    "           'is_too_dark': [],\n",
    "           'is_obstructed': [],\n",
    "           'is_bad_crop': [],\n",
    "           'created_at': []\n",
    "           }"
   ]
  },
  {
   "cell_type": "code",
   "execution_count": null,
   "metadata": {},
   "outputs": [],
   "source": [
    "for r in results:\n",
    "    metadata = r[2]\n",
    "    if 'qualityScore' not in metadata:\n",
    "        continue\n",
    "    dataset['site_id'].append(r[0])\n",
    "    dataset['pen_number'].append(r[1])\n",
    "    \n",
    "    dataset['metadata'].append(metadata)\n",
    "    dataset['blurriness'].append(metadata['qualityScore']['blurriness'])\n",
    "    dataset['quality'].append(metadata['qualityScore']['quality'])\n",
    "    dataset['darkness'].append(metadata['qualityScore']['darkness'])\n",
    "    \n",
    "    dataset['is_skipped'].append(r[3])\n",
    "    dataset['is_blurry'].append(r[4])\n",
    "    dataset['is_too_dark'].append(r[5])\n",
    "    dataset['is_obstructed'].append(r[6])\n",
    "    dataset['is_bad_crop'].append(r[7])\n",
    "    dataset['created_at'].append(r[8])"
   ]
  },
  {
   "cell_type": "code",
   "execution_count": null,
   "metadata": {},
   "outputs": [],
   "source": [
    "df = pd.DataFrame(dataset)"
   ]
  },
  {
   "cell_type": "code",
   "execution_count": null,
   "metadata": {},
   "outputs": [],
   "source": [
    "df.head()"
   ]
  },
  {
   "cell_type": "code",
   "execution_count": null,
   "metadata": {},
   "outputs": [],
   "source": [
    "df.to_csv('/root/data/rds/lati_april.csv')"
   ]
  },
  {
   "cell_type": "markdown",
   "metadata": {},
   "source": [
    "Bati stuff"
   ]
  },
  {
   "cell_type": "code",
   "execution_count": null,
   "metadata": {},
   "outputs": [],
   "source": [
    "metadata = MetaData()\n",
    "# step 1 - download crops + json\n",
    "crops = Table('fish_detections', metadata, autoload=True, autoload_with=sql_engine)\n",
    "kps = Table('keypoint_annotations', metadata, autoload=True, autoload_with=sql_engine)\n",
    "\n",
    "# inner join on fish crop id\n",
    "query = select([crops.c.site_id,\n",
    "                crops.c.pen_id,\n",
    "                crops.c.left_crop_metadata,\n",
    "                crops.c.right_crop_metadata,\n",
    "                kps.c.is_skipped,\n",
    "                kps.c.is_blurry,\n",
    "                kps.c.is_dark,\n",
    "                kps.c.is_occluded,\n",
    "                crops.c.captured_at\n",
    "                ]) \\\n",
    "    .select_from(kps.join(crops, kps.c.fish_detection_id == crops.c.id)) \\\n",
    "    .where(crops.c.captured_at >= '2019-04-01')"
   ]
  },
  {
   "cell_type": "code",
   "execution_count": null,
   "metadata": {},
   "outputs": [],
   "source": [
    "connection = sql_engine.connect()\n",
    "q = connection.execute(query)\n",
    "results = [r for r in q]"
   ]
  },
  {
   "cell_type": "code",
   "execution_count": null,
   "metadata": {},
   "outputs": [],
   "source": [
    "dataset = {'site_id':[],\n",
    "           'pen_id': [],\n",
    "           \n",
    "           'left_metadata': [],\n",
    "           'left_blurriness': [],\n",
    "           'left_darkness': [],\n",
    "           'left_quality': [],\n",
    "           \n",
    "           'right_metadata': [],\n",
    "           'right_blurriness': [],\n",
    "           'right_darkness': [],\n",
    "           'right_quality': [],\n",
    "           \n",
    "           'is_skipped': [],\n",
    "           'is_blurry': [],\n",
    "           'is_dark': [],\n",
    "           'is_occluded': [],\n",
    "           'captured_at': []\n",
    "           }"
   ]
  },
  {
   "cell_type": "code",
   "execution_count": null,
   "metadata": {},
   "outputs": [],
   "source": [
    "for r in results:\n",
    "    metadata = r[2]\n",
    "    if 'qualityScore' not in metadata:\n",
    "        continue\n",
    "    dataset['site_id'].append(r[0])\n",
    "    dataset['pen_id'].append(r[1])\n",
    "    \n",
    "    dataset['left_metadata'].append(metadata)\n",
    "    dataset['left_blurriness'].append(metadata['qualityScore']['blurriness'])\n",
    "    dataset['left_quality'].append(metadata['qualityScore']['quality'])\n",
    "    dataset['left_darkness'].append(metadata['qualityScore']['darkness'])\n",
    "    \n",
    "    metadata = r[3]\n",
    "    dataset['right_metadata'].append(metadata)\n",
    "    dataset['right_blurriness'].append(metadata['qualityScore']['blurriness'])\n",
    "    dataset['right_quality'].append(metadata['qualityScore']['quality'])\n",
    "    dataset['right_darkness'].append(metadata['qualityScore']['darkness'])\n",
    "    \n",
    "    dataset['is_skipped'].append(r[4])\n",
    "    dataset['is_blurry'].append(r[5])\n",
    "    dataset['is_dark'].append(r[6])\n",
    "    dataset['is_occluded'].append(r[7])\n",
    "    dataset['captured_at'].append(r[8])"
   ]
  },
  {
   "cell_type": "code",
   "execution_count": null,
   "metadata": {},
   "outputs": [],
   "source": [
    "df = pd.DataFrame(dataset)"
   ]
  },
  {
   "cell_type": "code",
   "execution_count": null,
   "metadata": {},
   "outputs": [],
   "source": [
    "df.shape"
   ]
  },
  {
   "cell_type": "code",
   "execution_count": null,
   "metadata": {},
   "outputs": [],
   "source": [
    "df.to_csv('/root/data/rds/bati_april.csv')"
   ]
  },
  {
   "cell_type": "code",
   "execution_count": null,
   "metadata": {},
   "outputs": [],
   "source": []
  }
 ],
 "metadata": {
  "kernelspec": {
   "display_name": "Python 3",
   "language": "python",
   "name": "python3"
  },
  "language_info": {
   "codemirror_mode": {
    "name": "ipython",
    "version": 3
   },
   "file_extension": ".py",
   "mimetype": "text/x-python",
   "name": "python",
   "nbconvert_exporter": "python",
   "pygments_lexer": "ipython3",
   "version": "3.5.2"
  }
 },
 "nbformat": 4,
 "nbformat_minor": 2
}
