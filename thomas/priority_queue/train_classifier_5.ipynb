{
 "cells": [
  {
   "cell_type": "code",
   "execution_count": 1,
   "metadata": {},
   "outputs": [],
   "source": [
    "import glob"
   ]
  },
  {
   "cell_type": "code",
   "execution_count": 2,
   "metadata": {},
   "outputs": [
    {
     "name": "stdout",
     "output_type": "stream",
     "text": [
      "Number of good images 10368\n",
      "Number of bad images 22852\n"
     ]
    }
   ],
   "source": [
    "good_images = glob.glob(\"/root/data/lice-data/crops/blom-kjeppevikholmen/*/2/*.jpg\")\n",
    "print(\"Number of good images {}\".format(len(good_images)))\n",
    "bad_images = glob.glob(\"/root/data/priority_queue/images/*/*.jpg\")\n",
    "print(\"Number of bad images {}\".format(len(bad_images)))"
   ]
  },
  {
   "cell_type": "markdown",
   "metadata": {},
   "source": [
    "Load some annotations"
   ]
  },
  {
   "cell_type": "code",
   "execution_count": 3,
   "metadata": {},
   "outputs": [],
   "source": [
    "import json\n",
    "import os"
   ]
  },
  {
   "cell_type": "code",
   "execution_count": 4,
   "metadata": {},
   "outputs": [],
   "source": [
    "image_classes = json.load(open(\"/root/data/priority_queue/images/image_classes.json\"))"
   ]
  },
  {
   "cell_type": "code",
   "execution_count": 5,
   "metadata": {},
   "outputs": [],
   "source": [
    "# for (k,v) in image_classes.items():\n",
    "#     print(v)\n",
    "#     print([int(k) for k in v])\n",
    "#     break"
   ]
  },
  {
   "cell_type": "code",
   "execution_count": 6,
   "metadata": {},
   "outputs": [],
   "source": [
    "for img in bad_images:\n",
    "    name = os.path.basename(img)\n",
    "    if name not in image_classes:\n",
    "        print(\"red alert\")"
   ]
  },
  {
   "cell_type": "markdown",
   "metadata": {},
   "source": [
    "Create generator"
   ]
  },
  {
   "cell_type": "markdown",
   "metadata": {},
   "source": [
    "Experiences:\n",
    "* BW classifier\n",
    "* RGB classifer: overfitting done / \n",
    "* split per class with sigmoid head"
   ]
  },
  {
   "cell_type": "code",
   "execution_count": 7,
   "metadata": {},
   "outputs": [],
   "source": [
    "import numpy as np\n",
    "import matplotlib.pyplot as plt\n",
    "import cv2"
   ]
  },
  {
   "cell_type": "code",
   "execution_count": 8,
   "metadata": {},
   "outputs": [],
   "source": [
    "import random\n",
    "random.seed(124)\n",
    "random.shuffle(bad_images)\n",
    "random.shuffle(good_images)"
   ]
  },
  {
   "cell_type": "code",
   "execution_count": 9,
   "metadata": {},
   "outputs": [],
   "source": [
    "cutoff_good = int(len(good_images)*0.8)\n",
    "cutoff_bad = int(len(bad_images)*0.8)\n",
    "\n",
    "train_good = good_images[:cutoff_good]\n",
    "val_good = good_images[cutoff_good:]\n",
    "\n",
    "train_bad = bad_images[:cutoff_bad]\n",
    "val_bad = bad_images[cutoff_bad:]"
   ]
  },
  {
   "cell_type": "code",
   "execution_count": 10,
   "metadata": {},
   "outputs": [],
   "source": [
    "ngpus = 2\n",
    "new_shape = (224, 224)\n",
    "batch_size = 32*ngpus\n",
    "classes = 5"
   ]
  },
  {
   "cell_type": "code",
   "execution_count": 11,
   "metadata": {},
   "outputs": [
    {
     "name": "stderr",
     "output_type": "stream",
     "text": [
      "Using TensorFlow backend.\n"
     ]
    }
   ],
   "source": [
    "import keras"
   ]
  },
  {
   "cell_type": "code",
   "execution_count": 12,
   "metadata": {},
   "outputs": [],
   "source": [
    "from imgaug import augmenters as iaa"
   ]
  },
  {
   "cell_type": "code",
   "execution_count": 13,
   "metadata": {},
   "outputs": [],
   "source": [
    "augmenters = {1: iaa.GaussianBlur((0.0, 3.0), name=\"GaussianBlur\"),\n",
    "              2: iaa.Add((-100, 0))}\n",
    "sometimes = lambda aug: iaa.Sometimes(0.5, aug)"
   ]
  },
  {
   "cell_type": "code",
   "execution_count": 14,
   "metadata": {},
   "outputs": [],
   "source": [
    "class DataGenerator(keras.utils.Sequence):\n",
    "    'Generates data for Keras'\n",
    "    def __init__(self, good_images, bad_images, batch_size=batch_size, dim=(224, 224, 3)):\n",
    "        'Initialization'\n",
    "        self.good_images = good_images\n",
    "        self.batch_size = batch_size\n",
    "        self.bad_images = bad_images\n",
    "        self.dim = dim\n",
    "        \n",
    "    def __len__(self):\n",
    "        'Denotes the number of batches per epoch'\n",
    "        return int((len(self.good_images) + len(self.bad_images)) / self.batch_size)\n",
    "    \n",
    "    def __getitem__(self, index):\n",
    "        'Generate one batch of data'\n",
    "        xbatch = []\n",
    "        ybatch = []\n",
    "        for i in range(self.batch_size):\n",
    "            if i % 2 == 0:\n",
    "                path = np.random.choice(self.good_images)\n",
    "                label = [1, 0, 0, 0, 0]\n",
    "            else:\n",
    "                path = np.random.choice(self.bad_images)\n",
    "                tmp = image_classes[os.path.basename(path)]\n",
    "                label = [0] + [int(k) if k is not None else 0 for k in tmp]\n",
    "                \n",
    "            auglist = []\n",
    "            for i in range(len(label)):\n",
    "                if label[i] and i in augmenters:\n",
    "                    auglist.append(sometimes(augmenters[i]))\n",
    "            if len(auglist) > 0:\n",
    "                seq = iaa.Sequential(auglist)\n",
    "            else:\n",
    "                seq = None\n",
    "                \n",
    "            image = cv2.imread(path)\n",
    "            image = cv2.resize(image, new_shape)\n",
    "            if seq:\n",
    "                image = seq.augment_image(image)\n",
    "            xbatch.append(image)\n",
    "            ybatch.append(label)\n",
    "\n",
    "        return np.array(xbatch), np.array(ybatch)\n",
    "    \n",
    "    def on_epoch_end(self):\n",
    "        random.shuffle(self.good_images)\n",
    "        random.shuffle(self.bad_images)"
   ]
  },
  {
   "cell_type": "code",
   "execution_count": 15,
   "metadata": {},
   "outputs": [],
   "source": [
    "traingen = DataGenerator(train_good, train_bad)\n",
    "valgen = DataGenerator(val_good, val_bad)"
   ]
  },
  {
   "cell_type": "code",
   "execution_count": 16,
   "metadata": {},
   "outputs": [],
   "source": [
    "xb, yb = traingen[0]"
   ]
  },
  {
   "cell_type": "code",
   "execution_count": 17,
   "metadata": {},
   "outputs": [
    {
     "name": "stdout",
     "output_type": "stream",
     "text": [
      "(64, 224, 224, 3) (64, 5)\n"
     ]
    }
   ],
   "source": [
    "print(xb.shape, yb.shape)"
   ]
  },
  {
   "cell_type": "code",
   "execution_count": 18,
   "metadata": {
    "scrolled": true
   },
   "outputs": [],
   "source": [
    "# for i in range(batch_size):\n",
    "#     plt.imshow(xb[i, ...])\n",
    "#     plt.show()\n",
    "#     print(yb[i])\n",
    "#     if yb[i] == 1:\n",
    "#         print(\"good\")\n",
    "#     else:\n",
    "#         print(\"bad\")"
   ]
  },
  {
   "cell_type": "markdown",
   "metadata": {},
   "source": [
    "load and compile model"
   ]
  },
  {
   "cell_type": "code",
   "execution_count": 19,
   "metadata": {},
   "outputs": [],
   "source": [
    "import os\n",
    "\n",
    "from keras import layers\n",
    "from keras.models import Model\n",
    "from keras.applications.resnet50 import ResNet50\n",
    "from keras.applications.mobilenet import MobileNet\n",
    "from keras.optimizers import Adam\n",
    "from keras.utils import multi_gpu_model\n",
    "import tensorflow as tf"
   ]
  },
  {
   "cell_type": "code",
   "execution_count": 20,
   "metadata": {},
   "outputs": [],
   "source": [
    "# os.environ[\"CUDA_VISIBLE_DEVICES\"] = \"0\""
   ]
  },
  {
   "cell_type": "markdown",
   "metadata": {},
   "source": [
    "Models:\n",
    "* resnet50 = overfit\n",
    "* mobilenet \n",
    "    "
   ]
  },
  {
   "cell_type": "code",
   "execution_count": 21,
   "metadata": {},
   "outputs": [],
   "source": [
    "# body = ResNet50(include_top=False, \n",
    "#                  weights='imagenet',\n",
    "#                  input_shape=(256, 256, 3),\n",
    "#                  pooling=\"avg\")\n",
    "# x = body.output\n",
    "# x = layers.Dense(1, activation='sigmoid', name='fc1000')(x)"
   ]
  },
  {
   "cell_type": "code",
   "execution_count": 22,
   "metadata": {},
   "outputs": [],
   "source": [
    "with tf.device('/cpu:0'):\n",
    "    alpha=1.0\n",
    "    shape = (1, 1, int(1024 * alpha))\n",
    "    dropout=1e-3\n",
    "    body = MobileNet(include_top=False,\n",
    "                     weights='imagenet',\n",
    "                     input_shape=(224, 224, 3),\n",
    "                     pooling=None\n",
    "                    )\n",
    "    \n",
    "    x = layers.GlobalAveragePooling2D()(body.output)\n",
    "    x = layers.Reshape(shape, name='reshape_1')(x)\n",
    "    x = layers.Dropout(dropout, name='dropout')(x)\n",
    "    x = layers.Conv2D(classes, (1, 1),\n",
    "                      padding='same',\n",
    "                      name='conv_preds')(x)\n",
    "    x = layers.Activation('sigmoid', name='act_sigmoid')(x)\n",
    "    x = layers.Reshape((classes,), name='reshape_2')(x)\n",
    "    \n",
    "    single_model = Model([body.input], [x])"
   ]
  },
  {
   "cell_type": "code",
   "execution_count": 23,
   "metadata": {},
   "outputs": [],
   "source": [
    "model = multi_gpu_model(single_model, gpus=ngpus)"
   ]
  },
  {
   "cell_type": "code",
   "execution_count": 24,
   "metadata": {},
   "outputs": [],
   "source": [
    "adam = Adam()"
   ]
  },
  {
   "cell_type": "code",
   "execution_count": 25,
   "metadata": {},
   "outputs": [],
   "source": [
    "model.compile(adam, loss=\"binary_crossentropy\", metrics=[\"binary_accuracy\"])"
   ]
  },
  {
   "cell_type": "markdown",
   "metadata": {},
   "source": [
    "train"
   ]
  },
  {
   "cell_type": "code",
   "execution_count": 26,
   "metadata": {},
   "outputs": [],
   "source": [
    "slowdown = 5"
   ]
  },
  {
   "cell_type": "code",
   "execution_count": 27,
   "metadata": {},
   "outputs": [
    {
     "name": "stdout",
     "output_type": "stream",
     "text": [
      "Epoch 1/20\n",
      "83/83 [==============================] - 61s 740ms/step - loss: 0.2735 - binary_accuracy: 0.8794 - val_loss: 0.3200 - val_binary_accuracy: 0.8899\n",
      "Epoch 2/20\n",
      "83/83 [==============================] - 50s 605ms/step - loss: 0.2211 - binary_accuracy: 0.9064 - val_loss: 0.3769 - val_binary_accuracy: 0.8628\n",
      "Epoch 3/20\n",
      "83/83 [==============================] - 51s 617ms/step - loss: 0.1865 - binary_accuracy: 0.9221 - val_loss: 0.3202 - val_binary_accuracy: 0.8727\n",
      "Epoch 4/20\n",
      "83/83 [==============================] - 50s 605ms/step - loss: 0.1765 - binary_accuracy: 0.9262 - val_loss: 0.3275 - val_binary_accuracy: 0.8957\n",
      "Epoch 5/20\n",
      "83/83 [==============================] - 52s 624ms/step - loss: 0.1776 - binary_accuracy: 0.9265 - val_loss: 0.3107 - val_binary_accuracy: 0.9006\n",
      "Epoch 6/20\n",
      "83/83 [==============================] - 55s 663ms/step - loss: 0.1650 - binary_accuracy: 0.9335 - val_loss: 0.3535 - val_binary_accuracy: 0.8893\n",
      "Epoch 7/20\n",
      "83/83 [==============================] - 55s 664ms/step - loss: 0.1643 - binary_accuracy: 0.9343 - val_loss: 0.2377 - val_binary_accuracy: 0.9039\n",
      "Epoch 8/20\n",
      "83/83 [==============================] - 55s 667ms/step - loss: 0.1572 - binary_accuracy: 0.9373 - val_loss: 0.1936 - val_binary_accuracy: 0.9247\n",
      "Epoch 9/20\n",
      "83/83 [==============================] - 55s 665ms/step - loss: 0.1561 - binary_accuracy: 0.9360 - val_loss: 0.2836 - val_binary_accuracy: 0.8897\n",
      "Epoch 10/20\n",
      "83/83 [==============================] - 55s 666ms/step - loss: 0.1574 - binary_accuracy: 0.9364 - val_loss: 0.2617 - val_binary_accuracy: 0.9118\n",
      "Epoch 11/20\n",
      "83/83 [==============================] - 55s 663ms/step - loss: 0.1465 - binary_accuracy: 0.9430 - val_loss: 0.2045 - val_binary_accuracy: 0.9235\n",
      "Epoch 12/20\n",
      "83/83 [==============================] - 55s 666ms/step - loss: 0.1473 - binary_accuracy: 0.9396 - val_loss: 0.1901 - val_binary_accuracy: 0.9291\n",
      "Epoch 13/20\n",
      "83/83 [==============================] - 55s 664ms/step - loss: 0.1473 - binary_accuracy: 0.9391 - val_loss: 0.2525 - val_binary_accuracy: 0.9136\n",
      "Epoch 14/20\n",
      "83/83 [==============================] - 55s 664ms/step - loss: 0.1436 - binary_accuracy: 0.9400 - val_loss: 0.1865 - val_binary_accuracy: 0.9211\n",
      "Epoch 15/20\n",
      "83/83 [==============================] - 55s 668ms/step - loss: 0.1456 - binary_accuracy: 0.9391 - val_loss: 0.2442 - val_binary_accuracy: 0.9049\n",
      "Epoch 16/20\n",
      "83/83 [==============================] - 55s 665ms/step - loss: 0.1392 - binary_accuracy: 0.9424 - val_loss: 0.2488 - val_binary_accuracy: 0.9162\n",
      "Epoch 17/20\n",
      "83/83 [==============================] - 55s 666ms/step - loss: 0.1378 - binary_accuracy: 0.9439 - val_loss: 0.1815 - val_binary_accuracy: 0.9318\n",
      "Epoch 18/20\n",
      "83/83 [==============================] - 55s 668ms/step - loss: 0.1390 - binary_accuracy: 0.9449 - val_loss: 0.2107 - val_binary_accuracy: 0.9165\n",
      "Epoch 19/20\n",
      "83/83 [==============================] - 55s 664ms/step - loss: 0.1381 - binary_accuracy: 0.9444 - val_loss: 0.1921 - val_binary_accuracy: 0.9215\n",
      "Epoch 20/20\n",
      "83/83 [==============================] - 56s 671ms/step - loss: 0.1284 - binary_accuracy: 0.9484 - val_loss: 0.1768 - val_binary_accuracy: 0.9296\n"
     ]
    }
   ],
   "source": [
    "history = model.fit_generator(generator = traingen, \n",
    "                              steps_per_epoch=(len(train_good) + len(train_bad))//(batch_size*slowdown),\n",
    "                              workers=10,\n",
    "                              max_queue_size=20,\n",
    "                              use_multiprocessing=False,\n",
    "                              validation_data=valgen,\n",
    "                              validation_steps = (len(val_good) + len(val_bad))//batch_size,\n",
    "                              epochs=4*slowdown)"
   ]
  },
  {
   "cell_type": "code",
   "execution_count": 28,
   "metadata": {},
   "outputs": [],
   "source": [
    "h = history.history"
   ]
  },
  {
   "cell_type": "code",
   "execution_count": 29,
   "metadata": {},
   "outputs": [
    {
     "data": {
      "image/png": "[encoded data removed]",
      "text/plain": [
       "<Figure size 432x288 with 1 Axes>"
      ]
     },
     "metadata": {},
     "output_type": "display_data"
    }
   ],
   "source": [
    "plt.plot(h[\"loss\"])\n",
    "plt.plot(h[\"val_loss\"])\n",
    "plt.show()"
   ]
  },
  {
   "cell_type": "code",
   "execution_count": 30,
   "metadata": {},
   "outputs": [
    {
     "data": {
      "image/png": "[encoded data removed]",
      "text/plain": [
       "<Figure size 432x288 with 1 Axes>"
      ]
     },
     "metadata": {},
     "output_type": "display_data"
    }
   ],
   "source": [
    "plt.plot(h[\"binary_accuracy\"])\n",
    "plt.plot(h[\"val_binary_accuracy\"])\n",
    "plt.show()"
   ]
  },
  {
   "cell_type": "code",
   "execution_count": 31,
   "metadata": {},
   "outputs": [],
   "source": [
    "single_model.save(\"/root/data/priority_queue/models/draft_5.h5\")"
   ]
  },
  {
   "cell_type": "code",
   "execution_count": null,
   "metadata": {},
   "outputs": [],
   "source": []
  },
  {
   "cell_type": "code",
   "execution_count": null,
   "metadata": {},
   "outputs": [],
   "source": []
  },
  {
   "cell_type": "code",
   "execution_count": null,
   "metadata": {},
   "outputs": [],
   "source": []
  }
 ],
 "metadata": {
  "kernelspec": {
   "display_name": "Python 3",
   "language": "python",
   "name": "python3"
  },
  "language_info": {
   "codemirror_mode": {
    "name": "ipython",
    "version": 3
   },
   "file_extension": ".py",
   "mimetype": "text/x-python",
   "name": "python",
   "nbconvert_exporter": "python",
   "pygments_lexer": "ipython3",
   "version": "3.5.2"
  }
 },
 "nbformat": 4,
 "nbformat_minor": 2
}
