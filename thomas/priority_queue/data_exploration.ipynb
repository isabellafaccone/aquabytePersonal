{
 "cells": [
  {
   "cell_type": "code",
   "execution_count": null,
   "metadata": {},
   "outputs": [],
   "source": [
    "import os\n",
    "import sys\n",
    "from sqlalchemy import Column, ForeignKey, Integer, String\n",
    "from sqlalchemy.ext.declarative import declarative_base\n",
    "from sqlalchemy.orm import relationship\n",
    "from sqlalchemy import create_engine\n",
    "from sqlalchemy.orm import sessionmaker\n",
    "from sqlalchemy import MetaData\n",
    "from sqlalchemy import Table, select, func, and_, insert, delete, update, or_\n",
    "import numpy as np"
   ]
  },
  {
   "cell_type": "code",
   "execution_count": null,
   "metadata": {},
   "outputs": [],
   "source": [
    "sql_credentials = {\n",
    "  \"host\": \"aquabyte-prod.cfwlu7jbdcqj.eu-west-1.rds.amazonaws.com\",\n",
    "  \"port\": \"5432\",\n",
    "  \"user\": \"aquabyte_ro\",\n",
    "  \"password\": \"bJndX#uJ7VNVDJQW8g\",\n",
    "  \"database\": \"aquabyte_prod\"\n",
    "}"
   ]
  },
  {
   "cell_type": "code",
   "execution_count": null,
   "metadata": {},
   "outputs": [],
   "source": [
    "sql_engine = create_engine(\n",
    "    \"postgresql://{}:{}@{}:{}/{}\".format(sql_credentials[\"user\"], sql_credentials[\"password\"],\n",
    "                                         sql_credentials[\"host\"], sql_credentials[\"port\"],\n",
    "                                         sql_credentials[\"database\"]))"
   ]
  },
  {
   "cell_type": "code",
   "execution_count": null,
   "metadata": {},
   "outputs": [],
   "source": [
    "metadata = MetaData()\n",
    "# step 1 - download crops + json\n",
    "fish_crops = Table('lati_fish_detections', metadata, autoload=True, autoload_with=sql_engine)\n",
    "lice_crops = Table('lati_fish_detections_lice_annotations', metadata, autoload=True,\n",
    "                   autoload_with=sql_engine)\n",
    "\n",
    "# inner join on fish crop id\n",
    "query = select([fish_crops.c.image_key,\n",
    "                lice_crops.c.is_skipped,\n",
    "                lice_crops.c.is_blurry,\n",
    "                lice_crops.c.is_too_dark,\n",
    "                lice_crops.c.is_obstructed,\n",
    "                lice_crops.c.is_bad_crop,\n",
    "                ]) \\\n",
    "    .select_from(lice_crops.join(fish_crops, lice_crops.c.lati_fish_detections_id == fish_crops.c.id)) \\\n",
    "    .where(and_(fish_crops.c.site_id == 23,\n",
    "#                 lice_crops.c.is_skipped == True,\n",
    "                ))"
   ]
  },
  {
   "cell_type": "code",
   "execution_count": null,
   "metadata": {},
   "outputs": [],
   "source": [
    "connection = sql_engine.connect()\n",
    "q = connection.execute(query)\n",
    "results = [r for r in q]"
   ]
  },
  {
   "cell_type": "code",
   "execution_count": null,
   "metadata": {},
   "outputs": [],
   "source": [
    "results = [r for r in results if r[0].split(\"/\")[3].split(\"-\")[0] == \"2019\"]"
   ]
  },
  {
   "cell_type": "code",
   "execution_count": null,
   "metadata": {},
   "outputs": [],
   "source": [
    "from collections import Counter"
   ]
  },
  {
   "cell_type": "code",
   "execution_count": null,
   "metadata": {},
   "outputs": [],
   "source": [
    "Counter([r[0].split(\"/\")[1] for r in results])"
   ]
  },
  {
   "cell_type": "code",
   "execution_count": null,
   "metadata": {},
   "outputs": [],
   "source": [
    "imagedic = {}\n",
    "for r in results:\n",
    "    image_name = \"_\".join(r[0].split(\"/\")[-1].split(\"_\")[:4])\n",
    "    if image_name not in imagedic:\n",
    "        imagedic[image_name] = []\n",
    "    imagedic[image_name].append(r)\n",
    "print(\"Total number of frames: {}\".format(len(list(imagedic.keys()))))"
   ]
  },
  {
   "cell_type": "code",
   "execution_count": null,
   "metadata": {},
   "outputs": [],
   "source": [
    "ncrops = []\n",
    "for (k, v) in imagedic.items():\n",
    "    ncrops.append(len(v))\n",
    "print(\"Average number of crops per frame: {}\".format(np.mean(ncrops)))"
   ]
  },
  {
   "cell_type": "code",
   "execution_count": null,
   "metadata": {},
   "outputs": [],
   "source": [
    "c = Counter([len(v) for (k,v) in imagedic.items()])\n",
    "print(c)\n",
    "total = 0\n",
    "for (k,v) in c.items():\n",
    "    if k == 1:\n",
    "        continue\n",
    "    total += v\n",
    "print(\"total number of frames with at least two crops: {}\".format(total))"
   ]
  },
  {
   "cell_type": "code",
   "execution_count": null,
   "metadata": {},
   "outputs": [],
   "source": [
    "all_bad = 0\n",
    "for (k, v) in imagedic.items():\n",
    "    if len(v) == 1:\n",
    "        continue\n",
    "    skip_counter = 0\n",
    "    for crop in v:\n",
    "        if crop[1]:\n",
    "            skip_counter += 1\n",
    "    if len(v) == skip_counter and skip_counter>0:\n",
    "        all_bad += 1\n",
    "\n",
    "print(\"Percentage of frames where all the crops are bad: {}\".format(all_bad*100/total))"
   ]
  }
 ],
 "metadata": {
  "kernelspec": {
   "display_name": "Python 3",
   "language": "python",
   "name": "python3"
  },
  "language_info": {
   "codemirror_mode": {
    "name": "ipython",
    "version": 3
   },
   "file_extension": ".py",
   "mimetype": "text/x-python",
   "name": "python",
   "nbconvert_exporter": "python",
   "pygments_lexer": "ipython3",
   "version": "3.5.2"
  }
 },
 "nbformat": 4,
 "nbformat_minor": 2
}
