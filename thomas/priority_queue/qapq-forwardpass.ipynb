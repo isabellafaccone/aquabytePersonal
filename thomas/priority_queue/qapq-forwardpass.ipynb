{
 "cells": [
  {
   "cell_type": "markdown",
   "metadata": {},
   "source": [
    "### QAPQ FORWARD PASS"
   ]
  },
  {
   "cell_type": "markdown",
   "metadata": {},
   "source": [
    "0. load model"
   ]
  },
  {
   "cell_type": "code",
   "execution_count": null,
   "metadata": {},
   "outputs": [],
   "source": [
    "!nvidia-smi"
   ]
  },
  {
   "cell_type": "code",
   "execution_count": null,
   "metadata": {},
   "outputs": [],
   "source": [
    "import os\n",
    "os.environ['CUDA_VISIBLE_DEVICES'] = '3'"
   ]
  },
  {
   "cell_type": "code",
   "execution_count": null,
   "metadata": {},
   "outputs": [],
   "source": [
    "from keras.models import load_model"
   ]
  },
  {
   "cell_type": "code",
   "execution_count": null,
   "metadata": {},
   "outputs": [],
   "source": [
    "model = load_model('/root/data/models/lice-classification/QAPQ/v1/model.49.hdf5')"
   ]
  },
  {
   "cell_type": "markdown",
   "metadata": {},
   "source": [
    "1. select one crop with enough annotations using the db"
   ]
  },
  {
   "cell_type": "code",
   "execution_count": null,
   "metadata": {},
   "outputs": [],
   "source": [
    "import json\n",
    "import matplotlib.pyplot as plt\n",
    "from matplotlib.patches import Rectangle\n",
    "import numpy as np\n",
    "import cv2"
   ]
  },
  {
   "cell_type": "code",
   "execution_count": null,
   "metadata": {},
   "outputs": [],
   "source": [
    "fish_id = 1211501\n",
    "key = 'dev/blom-kjeppevikholmen/2/2019-04-02/left_blom-kjeppevikholmen_2_1554211262082_690_1018_4018_2503.jpg'\n",
    "local_path = '/root/data/lice-data/crops/blom-kjeppevikholmen/2/2019-04-02/left_blom-kjeppevikholmen_2_1554211262082_690_1018_4018_2503.jpg'"
   ]
  },
  {
   "cell_type": "code",
   "execution_count": null,
   "metadata": {},
   "outputs": [],
   "source": [
    "cogito_ann = [{\"id\":2,\"category\":\"MOVING\",\"position\":{\"left\":756,\"top\":371,\"width\":13,\"height\":15},\"location\":\"MIDDLE\"},\n",
    "               {\"id\":3,\"category\":\"MOVING\",\"position\":{\"left\":768,\"top\":380,\"width\":32,\"height\":22},\"location\":\"MIDDLE\"},\n",
    "               {\"id\":4,\"category\":\"MOVING\",\"position\":{\"left\":788,\"top\":342,\"width\":16,\"height\":11},\"location\":\"MIDDLE\"},\n",
    "               {\"id\":5,\"category\":\"MOVING\",\"position\":{\"left\":807,\"top\":346,\"width\":18,\"height\":13},\"location\":\"MIDDLE\"},\n",
    "               {\"id\":6,\"category\":\"MOVING\",\"position\":{\"left\":767,\"top\":160,\"width\":15,\"height\":13},\"location\":\"MIDDLE\"},\n",
    "               {\"id\":7,\"category\":\"ADULT_FEMALE\",\"position\":{\"left\":741,\"top\":527,\"width\":46,\"height\":29},\"location\":\"MIDDLE\"},\n",
    "               {\"id\":8,\"category\":\"MOVING\",\"position\":{\"left\":772,\"top\":480,\"width\":22,\"height\":14},\"location\":\"MIDDLE\"},\n",
    "               {\"id\":9,\"category\":\"MOVING\",\"position\":{\"left\":407,\"top\":184,\"width\":16,\"height\":11},\"location\":\"MIDDLE\"},\n",
    "               {\"id\":10,\"category\":\"MOVING\",\"position\":{\"left\":2404,\"top\":602,\"width\":17,\"height\":9},\"location\":\"TOP\"},\n",
    "               {\"id\":11,\"category\":\"MOVING\",\"position\":{\"left\":2528,\"top\":669,\"width\":19,\"height\":12},\"location\":\"TOP\"},\n",
    "               {\"id\":12,\"category\":\"MOVING\",\"position\":{\"left\":2677,\"top\":751,\"width\":17,\"height\":10},\"location\":\"TOP\"},\n",
    "               {\"id\":13,\"category\":\"ADULT_FEMALE\",\"position\":{\"left\":2843,\"top\":861,\"width\":49,\"height\":26},\"location\":\"TOP\"},\n",
    "               {\"id\":14,\"category\":\"MOVING\",\"position\":{\"left\":2903,\"top\":902,\"width\":12,\"height\":8},\"location\":\"TOP\"},\n",
    "               {\"id\":15,\"category\":\"ADULT_FEMALE\",\"position\":{\"left\":2812,\"top\":1155,\"width\":44,\"height\":19},\"location\":\"BOTTOM\"}\n",
    "              ]\n",
    "print('Number of lice detected by cogito: {}'.format(len(cogito_ann)))"
   ]
  },
  {
   "cell_type": "code",
   "execution_count": null,
   "metadata": {},
   "outputs": [],
   "source": [
    "gunnar_ann = json.load(open(local_path.replace('jpg', 'json')))['detections']\n",
    "print('Number of lice detected by gunnar: {}'.format(len(gunnar_ann)))"
   ]
  },
  {
   "cell_type": "markdown",
   "metadata": {},
   "source": [
    "2. some display"
   ]
  },
  {
   "cell_type": "code",
   "execution_count": null,
   "metadata": {},
   "outputs": [],
   "source": [
    "image = cv2.imread(local_path)"
   ]
  },
  {
   "cell_type": "code",
   "execution_count": null,
   "metadata": {},
   "outputs": [],
   "source": [
    "# 184 407\n",
    "# 480 772"
   ]
  },
  {
   "cell_type": "code",
   "execution_count": null,
   "metadata": {},
   "outputs": [],
   "source": [
    "f, ax = plt.subplots(1, figsize=(20, 10))\n",
    "ax.imshow(image)\n",
    "for cann in cogito_ann:\n",
    "    position = cann['position']\n",
    "    x1 = position['top']\n",
    "    y1 = position['left']\n",
    "    # print(x1, y1)\n",
    "    width = position['width']\n",
    "    height=position['height']\n",
    "    rec = Rectangle((y1, x1), width, height, facecolor='none', edgecolor='b', linewidth=2)\n",
    "    ax.add_patch(rec)\n",
    "# plt.axis('off')\n",
    "plt.show()"
   ]
  },
  {
   "cell_type": "code",
   "execution_count": null,
   "metadata": {},
   "outputs": [],
   "source": [
    "f, ax = plt.subplots(1, figsize=(20, 10))\n",
    "ax.imshow(image)\n",
    "\n",
    "for gann in gunnar_ann:\n",
    "    position = gann['position']\n",
    "    x1 = position['top']\n",
    "    y1 = position['left']\n",
    "    width = position['width']\n",
    "    height=position['height']\n",
    "    rec = Rectangle((y1, x1), width, height, facecolor='none', edgecolor='r', linewidth=2)\n",
    "    ax.add_patch(rec)\n",
    "plt.axis('off')\n",
    "plt.show()"
   ]
  },
  {
   "cell_type": "markdown",
   "metadata": {},
   "source": [
    "3. select cogito crops and forward pass the model"
   ]
  },
  {
   "cell_type": "code",
   "execution_count": null,
   "metadata": {},
   "outputs": [],
   "source": [
    "from albumentations import PadIfNeeded, HorizontalFlip, VerticalFlip, Compose, RandomRotate90"
   ]
  },
  {
   "cell_type": "code",
   "execution_count": null,
   "metadata": {},
   "outputs": [],
   "source": [
    "mapping = {'ADULT_FEMALE':0,\n",
    "           'FIXED': 1,\n",
    "           'MOVING': 1}"
   ]
  },
  {
   "cell_type": "code",
   "execution_count": null,
   "metadata": {},
   "outputs": [],
   "source": [
    "input_shape = [64, 64, 3]"
   ]
  },
  {
   "cell_type": "code",
   "execution_count": null,
   "metadata": {},
   "outputs": [],
   "source": [
    "def load_lice(image):\n",
    "    '''load lice'''\n",
    "    aug = Compose([PadIfNeeded(p=1.0, min_height=input_shape[0], min_width=input_shape[1], border_mode=0)])\n",
    "    height, width, _ = image.shape\n",
    "    if height > width:\n",
    "        ratio = input_shape[0] / float(height)\n",
    "        x = cv2.resize(image, (int(width*ratio), input_shape[1]), interpolation=cv2.INTER_LINEAR)\n",
    "    else:\n",
    "        ratio = input_shape[1] / float(width)\n",
    "        x = cv2.resize(image, (input_shape[0], int(height*ratio)), interpolation=cv2.INTER_LINEAR)\n",
    "    augmented = aug(image=x)\n",
    "    x = augmented[\"image\"]\n",
    "    return x "
   ]
  },
  {
   "cell_type": "code",
   "execution_count": null,
   "metadata": {},
   "outputs": [],
   "source": [
    "fp = 0\n",
    "for cann in cogito_ann:\n",
    "    cat = cann['category']\n",
    "    position = cann['position']\n",
    "    x1 = position['top']\n",
    "    y1 = position['left']\n",
    "    width = position['width']\n",
    "    height=position['height']\n",
    "    lice = image[x1:x1+height, y1:y1+width, :]\n",
    "    model_input = load_lice(lice)\n",
    "\n",
    "    preds = model.predict_on_batch(np.expand_dims(model_input, 0)).squeeze()\n",
    "    print(preds)\n",
    "    if np.argmax(preds) != mapping[cat]:\n",
    "        fp += 1\n",
    "score = fp / len(cogito_ann)\n",
    "print('score: {}'.format(score))"
   ]
  },
  {
   "cell_type": "code",
   "execution_count": null,
   "metadata": {},
   "outputs": [],
   "source": []
  },
  {
   "cell_type": "code",
   "execution_count": null,
   "metadata": {},
   "outputs": [],
   "source": []
  }
 ],
 "metadata": {
  "kernelspec": {
   "display_name": "Python 3",
   "language": "python",
   "name": "python3"
  },
  "language_info": {
   "codemirror_mode": {
    "name": "ipython",
    "version": 3
   },
   "file_extension": ".py",
   "mimetype": "text/x-python",
   "name": "python",
   "nbconvert_exporter": "python",
   "pygments_lexer": "ipython3",
   "version": "3.5.2"
  }
 },
 "nbformat": 4,
 "nbformat_minor": 2
}
