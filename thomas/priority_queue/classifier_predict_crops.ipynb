{
 "cells": [
  {
   "cell_type": "markdown",
   "metadata": {},
   "source": [
    "Load images"
   ]
  },
  {
   "cell_type": "code",
   "execution_count": null,
   "metadata": {},
   "outputs": [],
   "source": [
    "import glob"
   ]
  },
  {
   "cell_type": "code",
   "execution_count": null,
   "metadata": {},
   "outputs": [],
   "source": [
    "good_images = glob.glob(\"/root/data/lice-data/crops/blom-kjeppevikholmen/*/2/*.jpg\")\n",
    "print(\"Number of good images {}\".format(len(good_images)))\n",
    "bad_images_raw = glob.glob(\"/root/data/priority_queue/images/*/*.jpg\")\n",
    "bad_images = []\n",
    "names = []\n",
    "for im in bad_images_raw:\n",
    "    name = im.split(\"/\")[-1]\n",
    "    if name not in names:\n",
    "        names.append(name)\n",
    "        bad_images.append(im)\n",
    "print(\"Number of bad images {}\".format(len(bad_images)))"
   ]
  },
  {
   "cell_type": "markdown",
   "metadata": {},
   "source": [
    "Load model"
   ]
  },
  {
   "cell_type": "code",
   "execution_count": null,
   "metadata": {},
   "outputs": [],
   "source": [
    "import keras"
   ]
  },
  {
   "cell_type": "code",
   "execution_count": null,
   "metadata": {},
   "outputs": [],
   "source": [
    "import os\n",
    "os.environ[\"CUDA_VISIBLE_DEVICES\"] = \"\""
   ]
  },
  {
   "cell_type": "code",
   "execution_count": null,
   "metadata": {},
   "outputs": [],
   "source": [
    "model = keras.models.load_model(\"/root/data/priority_queue/models/draft_0.h5\")"
   ]
  },
  {
   "cell_type": "markdown",
   "metadata": {},
   "source": [
    "Generator"
   ]
  },
  {
   "cell_type": "code",
   "execution_count": null,
   "metadata": {},
   "outputs": [],
   "source": [
    "import random\n",
    "import numpy as np\n",
    "import cv2"
   ]
  },
  {
   "cell_type": "code",
   "execution_count": null,
   "metadata": {},
   "outputs": [],
   "source": [
    "class DataGenerator(keras.utils.Sequence):\n",
    "    'Generates data for Keras'\n",
    "    def __init__(self, good_images, bad_images, batch_size=16, dim=(224, 224, 3)):\n",
    "        'Initialization'\n",
    "        self.good_images = good_images\n",
    "        self.batch_size = batch_size\n",
    "        self.bad_images = bad_images\n",
    "        self.dim = dim\n",
    "        self.on_epoch_end()\n",
    "        \n",
    "    def __len__(self):\n",
    "        'Denotes the number of batches per epoch'\n",
    "        return int((len(self.good_images) + len(self.bad_images)) / self.batch_size)\n",
    "    \n",
    "    def __getitem__(self, index):\n",
    "        'Generate one batch of data'\n",
    "        xbatch = []\n",
    "        ybatch = []\n",
    "        for i in range(self.batch_size):\n",
    "            coin = np.random.rand()\n",
    "            if coin > 0.5:\n",
    "                path = np.random.choice(self.good_images)\n",
    "            else:\n",
    "                path = np.random.choice(self.bad_images)\n",
    "        \n",
    "            image = cv2.imread(path)\n",
    "            image = cv2.resize(image, (self.dim[0], self.dim[1]))\n",
    "            xbatch.append(image)\n",
    "            ybatch.append(np.round(coin))\n",
    "\n",
    "        return np.array(xbatch), np.array(ybatch)\n",
    "    \n",
    "    def on_epoch_end(self):\n",
    "        random.shuffle(self.good_images)\n",
    "        random.shuffle(self.bad_images)"
   ]
  },
  {
   "cell_type": "code",
   "execution_count": null,
   "metadata": {},
   "outputs": [],
   "source": [
    "gen = DataGenerator(good_images, bad_images)"
   ]
  },
  {
   "cell_type": "markdown",
   "metadata": {},
   "source": [
    "Prediction"
   ]
  },
  {
   "cell_type": "code",
   "execution_count": null,
   "metadata": {},
   "outputs": [],
   "source": [
    "xb, yb = gen[0]"
   ]
  },
  {
   "cell_type": "code",
   "execution_count": null,
   "metadata": {},
   "outputs": [],
   "source": [
    "ypred = model.predict_on_batch(xb)"
   ]
  },
  {
   "cell_type": "code",
   "execution_count": null,
   "metadata": {},
   "outputs": [],
   "source": [
    "from time import time"
   ]
  },
  {
   "cell_type": "code",
   "execution_count": null,
   "metadata": {},
   "outputs": [],
   "source": [
    "start = time()\n",
    "# model.predict_on_batch(np.expand_dims(xb[0, ...], axis=0))\n",
    "image = cv2.imread(good_images[0])\n",
    "image = cv2.resize(image, (224, 224))\n",
    "model.predict_on_batch(np.expand_dims(image, axis=0))\n",
    "# ypred = model.predict_on_batch(xb)\n",
    "end = time()\n",
    "print(end-start)"
   ]
  },
  {
   "cell_type": "markdown",
   "metadata": {},
   "source": [
    "Compare"
   ]
  },
  {
   "cell_type": "code",
   "execution_count": null,
   "metadata": {
    "scrolled": true
   },
   "outputs": [],
   "source": [
    "batch_acc = np.sum(yb == np.round(ypred).squeeze()) / 16.0\n",
    "print(\"Batch accuracy {}\".format(batch_acc))"
   ]
  },
  {
   "cell_type": "markdown",
   "metadata": {},
   "source": [
    "Let's experiment"
   ]
  },
  {
   "cell_type": "code",
   "execution_count": null,
   "metadata": {},
   "outputs": [],
   "source": [
    "# take a good image\n",
    "path = np.random.choice(good_images)\n",
    "image = cv2.imread(path)\n",
    "image = cv2.resize(image, (224, 224))\n",
    "pred = model.predict_on_batch(np.expand_dims(image, axis=0))[0]\n",
    "print(\"prediction {}\".format(pred))"
   ]
  },
  {
   "cell_type": "code",
   "execution_count": null,
   "metadata": {},
   "outputs": [],
   "source": [
    "from imgaug import augmenters as iaa\n",
    "import matplotlib.pyplot as plt"
   ]
  },
  {
   "cell_type": "code",
   "execution_count": null,
   "metadata": {},
   "outputs": [],
   "source": [
    "aug = iaa.GaussianBlur((0, 3.0), name=\"GaussianBlur\")"
   ]
  },
  {
   "cell_type": "code",
   "execution_count": null,
   "metadata": {},
   "outputs": [],
   "source": [
    "augmented = aug.augment_image(image)"
   ]
  },
  {
   "cell_type": "code",
   "execution_count": null,
   "metadata": {},
   "outputs": [],
   "source": [
    "f, ax = plt.subplots(1, 2, figsize=(20, 10))\n",
    "ax[0].imshow(image)\n",
    "ax[1].imshow(augmented)\n",
    "plt.show()"
   ]
  },
  {
   "cell_type": "markdown",
   "metadata": {},
   "source": [
    "Blur experiment"
   ]
  },
  {
   "cell_type": "code",
   "execution_count": null,
   "metadata": {},
   "outputs": [],
   "source": [
    "predictions = []\n",
    "_range = np.arange(0.0, 3.0, 0.05)\n",
    "for i in _range:\n",
    "    aug = iaa.GaussianBlur((i, i), name=\"GaussianBlur\")\n",
    "    augmented = aug.augment_image(image)\n",
    "#     plt.imshow(augmented)\n",
    "#     plt.show()\n",
    "    pred = model.predict_on_batch(np.expand_dims(augmented, axis=0))[0]\n",
    "#     print(\"prediction {}\".format(pred))\n",
    "    predictions.append(pred)"
   ]
  },
  {
   "cell_type": "code",
   "execution_count": null,
   "metadata": {},
   "outputs": [],
   "source": [
    "plt.plot(_range, predictions)\n",
    "plt.xlabel(\"Blur amount\")\n",
    "plt.ylabel(\"Probability of being a good image\")\n",
    "plt.show()"
   ]
  },
  {
   "cell_type": "markdown",
   "metadata": {},
   "source": [
    "Darkness experiment"
   ]
  },
  {
   "cell_type": "code",
   "execution_count": null,
   "metadata": {
    "scrolled": true
   },
   "outputs": [],
   "source": [
    "predictions = []\n",
    "_range = np.arange(0, -100, -2)\n",
    "for i in _range:\n",
    "    aug = iaa.Add((i, i))\n",
    "    augmented = aug.augment_image(image)\n",
    "#     plt.imshow(augmented)\n",
    "#     plt.show()\n",
    "    pred = model.predict_on_batch(np.expand_dims(augmented, axis=0))[0]\n",
    "#     print(\"prediction {}\".format(pred))\n",
    "    predictions.append(pred)"
   ]
  },
  {
   "cell_type": "code",
   "execution_count": null,
   "metadata": {},
   "outputs": [],
   "source": [
    "plt.plot(_range, predictions)\n",
    "plt.xlabel(\"Darkness amount\")\n",
    "plt.ylabel(\"Probability of being a good image\")\n",
    "plt.xlim(_range[0], _range[-1]) \n",
    "plt.show()"
   ]
  },
  {
   "cell_type": "markdown",
   "metadata": {},
   "source": [
    "Obstruction experiment"
   ]
  },
  {
   "cell_type": "code",
   "execution_count": null,
   "metadata": {},
   "outputs": [],
   "source": []
  },
  {
   "cell_type": "code",
   "execution_count": null,
   "metadata": {},
   "outputs": [],
   "source": []
  },
  {
   "cell_type": "markdown",
   "metadata": {},
   "source": [
    "Bad crop experiment"
   ]
  },
  {
   "cell_type": "code",
   "execution_count": null,
   "metadata": {},
   "outputs": [],
   "source": []
  },
  {
   "cell_type": "code",
   "execution_count": null,
   "metadata": {},
   "outputs": [],
   "source": []
  },
  {
   "cell_type": "code",
   "execution_count": null,
   "metadata": {},
   "outputs": [],
   "source": []
  }
 ],
 "metadata": {
  "kernelspec": {
   "display_name": "Python 3",
   "language": "python",
   "name": "python3"
  },
  "language_info": {
   "codemirror_mode": {
    "name": "ipython",
    "version": 3
   },
   "file_extension": ".py",
   "mimetype": "text/x-python",
   "name": "python",
   "nbconvert_exporter": "python",
   "pygments_lexer": "ipython3",
   "version": "3.5.2"
  }
 },
 "nbformat": 4,
 "nbformat_minor": 2
}
