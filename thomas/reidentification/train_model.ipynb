{
 "cells": [
  {
   "cell_type": "code",
   "execution_count": null,
   "metadata": {},
   "outputs": [],
   "source": [
    "!nvidia-smi"
   ]
  },
  {
   "cell_type": "code",
   "execution_count": null,
   "metadata": {},
   "outputs": [],
   "source": [
    "import os\n",
    "\n",
    "import numpy as np\n",
    "from keras.optimizers import Adam\n",
    "from keras.callbacks import Callback, LearningRateScheduler\n",
    "from keras.callbacks import ReduceLROnPlateau, ModelCheckpoint\n",
    "from PIL import Image\n",
    "\n",
    "from unet import get_unet, jaccard_coef_int, jaccard_coef_loss\n",
    "\n",
    "import matplotlib.pyplot as plt"
   ]
  },
  {
   "cell_type": "code",
   "execution_count": null,
   "metadata": {},
   "outputs": [],
   "source": [
    "os.environ[\"CUDA_VISIBLE_DEVICES\"] = \"2\""
   ]
  },
  {
   "cell_type": "markdown",
   "metadata": {},
   "source": [
    "## Create model"
   ]
  },
  {
   "cell_type": "code",
   "execution_count": null,
   "metadata": {},
   "outputs": [],
   "source": [
    "input_shape = (512, 512, 3)\n",
    "batch_size = 8"
   ]
  },
  {
   "cell_type": "code",
   "execution_count": null,
   "metadata": {},
   "outputs": [],
   "source": [
    "model = get_unet(3, input_shape[0], input_shape[1], classes=1)\n",
    "# model.load_weights(weights_path)"
   ]
  },
  {
   "cell_type": "markdown",
   "metadata": {},
   "source": [
    "## Load data"
   ]
  },
  {
   "cell_type": "code",
   "execution_count": null,
   "metadata": {},
   "outputs": [],
   "source": [
    "import glob\n",
    "import cv2\n",
    "import numpy as np\n",
    "import random\n",
    "import math\n",
    "import json\n",
    "SEED = 448\n",
    "import matplotlib.pyplot as plt\n",
    "from imgaug import augmenters as iaa\n",
    "import shutil\n",
    "import skimage.io as io\n",
    "from skimage.transform import resize\n",
    "from collections import Counter\n",
    "from PIL import Image, ImageDraw"
   ]
  },
  {
   "cell_type": "code",
   "execution_count": null,
   "metadata": {},
   "outputs": [],
   "source": [
    "freck = json.load(open('./labels/all.json'))"
   ]
  },
  {
   "cell_type": "code",
   "execution_count": null,
   "metadata": {},
   "outputs": [],
   "source": [
    "# good[0]['Label']['Head'][0][\"geometry\"]"
   ]
  },
  {
   "cell_type": "code",
   "execution_count": null,
   "metadata": {},
   "outputs": [],
   "source": [
    "# polygon = [(g[\"x\"], g[\"y\"]) for g in good[0]['Label']['Head'][0][\"geometry\"]]\n",
    "# img = Image.new('L', (668, 551), 0)\n",
    "# ImageDraw.Draw(img).polygon(polygon, outline=1, fill=1)\n",
    "# mask = np.array(img)\n",
    "# head_mask = resize(mask, (512, 512))\n",
    "# plt.imshow(head_mask)\n",
    "# plt.show()"
   ]
  },
  {
   "cell_type": "code",
   "execution_count": null,
   "metadata": {},
   "outputs": [],
   "source": [
    "def generator(images, BATCH_SIZE, input_shape):\n",
    "    i = 0\n",
    "    img_size = input_shape[0]\n",
    "    while True:\n",
    "        x_batch = np.empty((BATCH_SIZE, input_shape[0], input_shape[1], input_shape[2])) #, dtype=np.uint8)\n",
    "        y_batch = np.empty((BATCH_SIZE, input_shape[0], input_shape[1], 1), dtype=np.uint8)\n",
    "        for j in range(BATCH_SIZE):\n",
    "            randomimg = images[np.random.randint(len(images))]\n",
    "            imgpath = randomimg[\"local_path\"]\n",
    "            x1, y1, x2, y2 = randomimg[\"bbox\"]\n",
    "            img = io.imread(imgpath)[y1:y2, x1:x2]\n",
    "\n",
    "            xscale = float(input_shape[0]) / img.shape[0] \n",
    "            yscale = float(input_shape[1]) / img.shape[1] \n",
    "            \n",
    "            imgresized = resize(img, (input_shape[0], input_shape[1]))            \n",
    "\n",
    "            mask = np.zeros((input_shape[0], input_shape[1]))\n",
    "            for freckle in randomimg[\"freckles\"]:\n",
    "                y = int((freckle[0]-x1) * yscale)\n",
    "                x = int((freckle[1]-y1) * xscale)\n",
    "                mask[x, y] = 1\n",
    "                maskdil = cv2.dilate(mask, np.ones((5, 5)))\n",
    "            x_batch[j, ...] = imgresized\n",
    "            y_batch[j, ..., 0] = maskdil\n",
    "            \n",
    "        yield x_batch, y_batch"
   ]
  },
  {
   "cell_type": "code",
   "execution_count": null,
   "metadata": {},
   "outputs": [],
   "source": [
    "gen = generator(freck, batch_size, input_shape)"
   ]
  },
  {
   "cell_type": "code",
   "execution_count": null,
   "metadata": {},
   "outputs": [],
   "source": [
    "xb, yb = next(gen)"
   ]
  },
  {
   "cell_type": "code",
   "execution_count": null,
   "metadata": {},
   "outputs": [],
   "source": [
    "for i in range(batch_size):\n",
    "    plt.figure(figsize=(12, 12))\n",
    "    plt.imshow(xb[i, ...])\n",
    "    plt.imshow(yb[i, ...].squeeze(), alpha=0.5)\n",
    "    plt.show()"
   ]
  },
  {
   "cell_type": "markdown",
   "metadata": {},
   "source": [
    "## Train"
   ]
  },
  {
   "cell_type": "code",
   "execution_count": null,
   "metadata": {},
   "outputs": [],
   "source": [
    "lr=0.001\n",
    "adam = Adam(lr=lr)\n",
    "model.compile(adam, loss='binary_crossentropy', metrics=['binary_crossentropy'])"
   ]
  },
  {
   "cell_type": "code",
   "execution_count": null,
   "metadata": {},
   "outputs": [],
   "source": [
    "history = model.fit_generator(\n",
    "        generator=gen,\n",
    "        steps_per_epoch=50,\n",
    "        epochs=100,\n",
    "        verbose=1)"
   ]
  },
  {
   "cell_type": "code",
   "execution_count": null,
   "metadata": {},
   "outputs": [],
   "source": [
    "model"
   ]
  },
  {
   "cell_type": "code",
   "execution_count": null,
   "metadata": {},
   "outputs": [],
   "source": [
    "img = resize(io.imread('/root/data/reidentification/heads_with_eye/erko-rotoy/left_erko-rotoy_1_1539164547711.jpg_161_128.jpg'), (512, 512))"
   ]
  },
  {
   "cell_type": "code",
   "execution_count": null,
   "metadata": {},
   "outputs": [],
   "source": [
    "# thresh = 0.001\n",
    "# pred[pred> thresh] =1\n",
    "# pred[pred< thresh] = 0"
   ]
  },
  {
   "cell_type": "code",
   "execution_count": null,
   "metadata": {},
   "outputs": [],
   "source": [
    "images= glob.glob(\"/root/data/reidentification/heads/*\")"
   ]
  },
  {
   "cell_type": "code",
   "execution_count": null,
   "metadata": {},
   "outputs": [],
   "source": [
    "random.shuffle(images)"
   ]
  },
  {
   "cell_type": "code",
   "execution_count": null,
   "metadata": {},
   "outputs": [],
   "source": [
    "xb, yb = next(gen)"
   ]
  },
  {
   "cell_type": "code",
   "execution_count": null,
   "metadata": {},
   "outputs": [],
   "source": [
    "pred = model.predict(xb)"
   ]
  },
  {
   "cell_type": "code",
   "execution_count": null,
   "metadata": {},
   "outputs": [],
   "source": [
    "for i in range(batch_size):\n",
    "    plt.figure(figsize=(8, 8))\n",
    "    plt.imshow(xb[i, ...])\n",
    "    plt.imshow(pred[i, ...].squeeze(), alpha=0.5)\n",
    "    plt.show()"
   ]
  },
  {
   "cell_type": "code",
   "execution_count": null,
   "metadata": {},
   "outputs": [],
   "source": []
  },
  {
   "cell_type": "code",
   "execution_count": null,
   "metadata": {},
   "outputs": [],
   "source": []
  },
  {
   "cell_type": "code",
   "execution_count": null,
   "metadata": {},
   "outputs": [],
   "source": [
    "# f, ax = plt.subplots(2, 2, figsize=(10, 15))\n",
    "# for (i, imgpath) in enumerate(images[:4]):\n",
    "#     img= resize(io.imread(imgpath), (512, 512))\n",
    "#     pred = model.predict(np.expand_dims(img, axis=0))\n",
    "#     print(pred.max())\n",
    "#     x = i // 2\n",
    "#     y = i % 2\n",
    "#     ax[x,y].imshow(img)\n",
    "#     ax[x,y].imshow(pred.squeeze(), alpha=0.5)\n",
    "# plt.tight_layout()\n",
    "# plt.show()"
   ]
  },
  {
   "cell_type": "code",
   "execution_count": null,
   "metadata": {},
   "outputs": [],
   "source": []
  },
  {
   "cell_type": "code",
   "execution_count": null,
   "metadata": {},
   "outputs": [],
   "source": [
    "plt.imshow(pred.squeeze())"
   ]
  },
  {
   "cell_type": "code",
   "execution_count": null,
   "metadata": {},
   "outputs": [],
   "source": [
    "plt.imshow(pred.squeeze()* head_mask) # , alpha=0.5)"
   ]
  },
  {
   "cell_type": "code",
   "execution_count": null,
   "metadata": {},
   "outputs": [],
   "source": [
    "k = pred.squeeze()* head_mask\n",
    "plt.imshow(k[200:300, 200:300])\n",
    "plt.colorbar()"
   ]
  },
  {
   "cell_type": "code",
   "execution_count": null,
   "metadata": {},
   "outputs": [],
   "source": []
  }
 ],
 "metadata": {
  "kernelspec": {
   "display_name": "Python 3",
   "language": "python",
   "name": "python3"
  },
  "language_info": {
   "codemirror_mode": {
    "name": "ipython",
    "version": 3
   },
   "file_extension": ".py",
   "mimetype": "text/x-python",
   "name": "python",
   "nbconvert_exporter": "python",
   "pygments_lexer": "ipython3",
   "version": "3.5.2"
  }
 },
 "nbformat": 4,
 "nbformat_minor": 2
}
