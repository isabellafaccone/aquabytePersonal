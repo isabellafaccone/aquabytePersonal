{
 "cells": [
  {
   "cell_type": "code",
   "execution_count": null,
   "metadata": {},
   "outputs": [],
   "source": [
    "import glob\n",
    "import json"
   ]
  },
  {
   "cell_type": "markdown",
   "metadata": {},
   "source": [
    "## load the labels"
   ]
  },
  {
   "cell_type": "code",
   "execution_count": null,
   "metadata": {},
   "outputs": [],
   "source": [
    "jsonfiles = glob.glob(\"./labels/*.json\")"
   ]
  },
  {
   "cell_type": "code",
   "execution_count": null,
   "metadata": {},
   "outputs": [],
   "source": [
    "all_annotations = []\n",
    "for jf in jsonfiles:\n",
    "    label = json.load(open(jf))\n",
    "    for labels in label:\n",
    "        if labels[\"Label\"] != \"Skip\":\n",
    "            all_annotations.append(labels)"
   ]
  },
  {
   "cell_type": "code",
   "execution_count": null,
   "metadata": {},
   "outputs": [],
   "source": [
    "print(len(all_annotations))"
   ]
  },
  {
   "cell_type": "markdown",
   "metadata": {},
   "source": [
    "## all paths"
   ]
  },
  {
   "cell_type": "code",
   "execution_count": null,
   "metadata": {},
   "outputs": [],
   "source": [
    "import os"
   ]
  },
  {
   "cell_type": "code",
   "execution_count": null,
   "metadata": {},
   "outputs": [],
   "source": [
    "paths = glob.glob(\"/root/data/aquabyte-images/erko-rotoy/*/1/*\")\n",
    "path_dic = {}\n",
    "for p in paths:\n",
    "    path_dic[os.path.basename(p)] = p"
   ]
  },
  {
   "cell_type": "markdown",
   "metadata": {},
   "source": [
    "# create new dataset"
   ]
  },
  {
   "cell_type": "code",
   "execution_count": null,
   "metadata": {},
   "outputs": [],
   "source": [
    "import numpy as np"
   ]
  },
  {
   "cell_type": "code",
   "execution_count": null,
   "metadata": {},
   "outputs": [],
   "source": [
    "freckles_head =[]\n",
    "for annotation in all_annotations:\n",
    "    parts = annotation[\"Label\"]\n",
    "    if \"Head\" in parts:\n",
    "        for head in parts[\"Head\"]:\n",
    "            # print(head)\n",
    "            tmp = {\"local_path\": path_dic[annotation[\"External ID\"]]}\n",
    "            geometry = head[\"geometry\"]\n",
    "            xy = np.array([[k[\"x\"], k[\"y\"]] for k in geometry])\n",
    "            xmin, xmax = np.min(xy[:, 0]), np.max(xy[:, 0])\n",
    "            ymin, ymax = np.min(xy[:, 1]), np.max(xy[:, 1])\n",
    "            tmp[\"bbox\"] = [int(xmin), int(ymin), int(xmax), int(ymax)]\n",
    "            tmp[\"freckles\"] = []\n",
    "            if \"Freckles\" in parts:\n",
    "                for freckle in parts[\"Freckles\"]:\n",
    "                    x = freckle[\"geometry\"][\"x\"]\n",
    "                    y = freckle[\"geometry\"][\"y\"]\n",
    "                    if xmin < x < xmax and ymin < y < ymax:\n",
    "                        tmp[\"freckles\"].append([x, y])\n",
    "            if len(tmp[\"freckles\"]) > 0:\n",
    "                freckles_head.append(tmp)\n",
    "            # tmp[\"head_bbox\"]\n",
    "            \n",
    "        "
   ]
  },
  {
   "cell_type": "code",
   "execution_count": null,
   "metadata": {},
   "outputs": [],
   "source": [
    "with open(\"./labels/all.json\", \"w\") as f:\n",
    "    json.dump(freckles_head, f)"
   ]
  },
  {
   "cell_type": "code",
   "execution_count": null,
   "metadata": {},
   "outputs": [],
   "source": [
    "print(len(freckles_head))"
   ]
  },
  {
   "cell_type": "markdown",
   "metadata": {},
   "source": [
    "## plot random example"
   ]
  },
  {
   "cell_type": "code",
   "execution_count": null,
   "metadata": {},
   "outputs": [],
   "source": [
    "import matplotlib.pyplot as plt\n",
    "import skimage.io as io"
   ]
  },
  {
   "cell_type": "code",
   "execution_count": null,
   "metadata": {},
   "outputs": [],
   "source": [
    "rfreckle = np.random.choice(freckles_head)"
   ]
  },
  {
   "cell_type": "code",
   "execution_count": null,
   "metadata": {},
   "outputs": [],
   "source": [
    "image = io.imread(rfreckle[\"local_path\"])\n",
    "x1, y1, x2, y2 = rfreckle[\"bbox\"]"
   ]
  },
  {
   "cell_type": "code",
   "execution_count": null,
   "metadata": {},
   "outputs": [],
   "source": [
    "f, ax = plt.subplots(1, figsize=(12, 12))\n",
    "ax.imshow(image[y1:y2, x1:x2])\n",
    "for freckle in rfreckle[\"freckles\"]:\n",
    "    plt.scatter(freckle[0]-x1, freckle[1]-y1, c='r', marker=\"o\", s=50)\n",
    "plt.show()"
   ]
  },
  {
   "cell_type": "code",
   "execution_count": null,
   "metadata": {},
   "outputs": [],
   "source": [
    "x1, y1"
   ]
  },
  {
   "cell_type": "code",
   "execution_count": null,
   "metadata": {},
   "outputs": [],
   "source": []
  },
  {
   "cell_type": "code",
   "execution_count": null,
   "metadata": {},
   "outputs": [],
   "source": []
  }
 ],
 "metadata": {
  "kernelspec": {
   "display_name": "Python 3",
   "language": "python",
   "name": "python3"
  },
  "language_info": {
   "codemirror_mode": {
    "name": "ipython",
    "version": 3
   },
   "file_extension": ".py",
   "mimetype": "text/x-python",
   "name": "python",
   "nbconvert_exporter": "python",
   "pygments_lexer": "ipython3",
   "version": "3.5.2"
  }
 },
 "nbformat": 4,
 "nbformat_minor": 2
}
