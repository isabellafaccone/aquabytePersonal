{
 "cells": [
  {
   "cell_type": "code",
   "execution_count": null,
   "metadata": {},
   "outputs": [],
   "source": [
    "import sys\n",
    "sys.path.insert(0, '/root/thomas/github/Mask_RCNN/')"
   ]
  },
  {
   "cell_type": "code",
   "execution_count": null,
   "metadata": {},
   "outputs": [],
   "source": [
    "import os\n",
    "os.environ[\"CUDA_VISIBLE_DEVICES\"]=\"1\""
   ]
  },
  {
   "cell_type": "code",
   "execution_count": null,
   "metadata": {},
   "outputs": [],
   "source": [
    "import urllib2\n",
    "import shutil\n",
    "COCO_MODEL_URL = \"https://github.com/matterport/Mask_RCNN/releases/download/v2.0/mask_rcnn_coco.h5\"\n"
   ]
  },
  {
   "cell_type": "code",
   "execution_count": null,
   "metadata": {},
   "outputs": [],
   "source": [
    "def download_trained_weights(coco_model_path, verbose=1):\n",
    "    \"\"\"Download COCO trained weights from Releases.\n",
    "\n",
    "    coco_model_path: local path of COCO trained weights\n",
    "    \"\"\"\n",
    "    if verbose > 0:\n",
    "        print(\"Downloading pretrained model to \" + coco_model_path + \" ...\")\n",
    "    resp = urllib2.urlopen(COCO_MODEL_URL)\n",
    "    with open(coco_model_path, 'wb') as out:\n",
    "        shutil.copyfileobj(resp, out)\n",
    "    if verbose > 0:\n",
    "        print(\"... done downloading pretrained model!\")"
   ]
  },
  {
   "cell_type": "code",
   "execution_count": null,
   "metadata": {},
   "outputs": [],
   "source": [
    "import sys\n",
    "import random\n",
    "import math\n",
    "import re\n",
    "import time\n",
    "import numpy as np\n",
    "import cv2\n",
    "import matplotlib\n",
    "import matplotlib.pyplot as plt\n",
    "\n",
    "from config import Config\n",
    "import utils\n",
    "import model as modellib\n",
    "import visualize\n",
    "from model import log\n",
    "\n",
    "from pycocotools.coco import COCO\n",
    "from pycocotools import mask as maskUtils\n",
    "\n",
    "\n",
    "%matplotlib inline \n",
    "\n",
    "# Root directory of the project\n",
    "\n",
    "ROOT_DIR = '/root/data/models/mask_rcnn/run0/'\n",
    "if not os.path.isdir(ROOT_DIR):\n",
    "    os.makedirs(ROOT_DIR)\n",
    "# Directory to save logs and trained model\n",
    "MODEL_DIR = os.path.join(ROOT_DIR, \"logs\")\n",
    "\n",
    "# Local path to trained weights file\n",
    "COCO_MODEL_PATH = os.path.join(ROOT_DIR, \"mask_rcnn_coco.h5\")\n",
    "print(COCO_MODEL_PATH)\n",
    "# Download COCO trained weights from Releases if needed\n",
    "if not os.path.exists(COCO_MODEL_PATH):\n",
    "    download_trained_weights(COCO_MODEL_PATH)"
   ]
  },
  {
   "cell_type": "code",
   "execution_count": null,
   "metadata": {},
   "outputs": [],
   "source": [
    "class ShapesConfig(Config):\n",
    "    \"\"\"Configuration for traininspect_model.ipynb This notebook goes in depth into the steps performed to detect and segment objects. It provides visualizations of every step of the pipeline.ing on the toy shapes dataset.\n",
    "    Derives from the base Config class and overrides values specific\n",
    "    to the toy shapes dataset.\n",
    "    \"\"\"\n",
    "    # Give the configuration a recognizable name\n",
    "    NAME = \"fish\"\n",
    "\n",
    "    # Train on 1 GPU and 8 images per GPU. We can put multiple images on each\n",
    "    # GPU because the images are small. Batch size is 8 (GPUs * images/GPU).\n",
    "    GPU_COUNT = 1\n",
    "    IMAGES_PER_GPU = 8\n",
    "\n",
    "    # Number of classes (including background)\n",
    "    NUM_CLASSES = 1 + 1  # background + 3 shapes\n",
    "\n",
    "    # Use small images for faster training. Set the limits of the small side\n",
    "    # the large side, and that determines the image shape.\n",
    "    IMAGE_MIN_DIM = 512\n",
    "    IMAGE_MAX_DIM = 512\n",
    "\n",
    "    # Use smaller anchors because our image and objects are small\n",
    "    RPN_ANCHOR_SCALES = (16, 32, 64, 128, 512)  # anchor side in pixels\n",
    "\n",
    "    # Reduce training ROIs per image because the images are small and have\n",
    "    # few objects. Aim to allow ROI sampling to pick 33% positive ROIs.\n",
    "    TRAIN_ROIS_PER_IMAGE = 64\n",
    "\n",
    "    # Use a small epoch since the data is simple\n",
    "    STEPS_PER_EPOCH = 1000\n",
    "\n",
    "    # use small validation steps since the epoch is small\n",
    "    VALIDATION_STEPS = 5\n",
    "    \n",
    "config = ShapesConfig()\n",
    "config.display()"
   ]
  },
  {
   "cell_type": "code",
   "execution_count": null,
   "metadata": {},
   "outputs": [],
   "source": [
    "# Create model in training mode\n",
    "model = modellib.MaskRCNN(mode=\"training\", config=config,\n",
    "                          model_dir=MODEL_DIR)"
   ]
  },
  {
   "cell_type": "code",
   "execution_count": null,
   "metadata": {},
   "outputs": [],
   "source": [
    "# Which weights to start with?\n",
    "init_with = \"imagenet\"  # imagenet, coco, or last\n",
    "\n",
    "if init_with == \"imagenet\":\n",
    "    model.load_weights(model.get_imagenet_weights(), by_name=True)\n",
    "elif init_with == \"coco\":\n",
    "    # Load weights trained on MS COCO, but skip layers that\n",
    "    # are different due to the different number of classes\n",
    "    # See README for instructions to download the COCO weights\n",
    "    model.load_weights(COCO_MODEL_PATH, by_name=True,\n",
    "                       exclude=[\"mrcnn_class_logits\", \"mrcnn_bbox_fc\", \n",
    "                                \"mrcnn_bbox\", \"mrcnn_mask\"])\n",
    "elif init_with == \"last\":\n",
    "    # Load the last model you trained and continue training\n",
    "    model.load_weights(model.find_last()[1], by_name=True)"
   ]
  },
  {
   "cell_type": "markdown",
   "metadata": {},
   "source": [
    "# write own class"
   ]
  },
  {
   "cell_type": "code",
   "execution_count": null,
   "metadata": {},
   "outputs": [],
   "source": [
    "import json\n",
    "from PIL import Image, ImageDraw"
   ]
  },
  {
   "cell_type": "code",
   "execution_count": null,
   "metadata": {},
   "outputs": [],
   "source": [
    "# class FishDataset(utils.Dataset):\n",
    "#     \"\"\"Generates the shapes synthetic dataset. The dataset consists of simple\n",
    "#     shapes (triangles, squares, circles) placed randomly on a blank surface.\n",
    "#     The images are generated on the fly. No file access required.\n",
    "#     \"\"\"\n",
    "\n",
    "#     def load_fish(self, annotations_path, height, width):\n",
    "#         \"\"\"Generate the requested number of synthetic images.\n",
    "#         count: number of images to generate.\n",
    "#         height, width: the size of the generated images.\n",
    "#         \"\"\"\n",
    "#         # Add classes\n",
    "#         self.add_class(\"fish\", 1, \"fish\")\n",
    "        \n",
    "#         all_images = json.load(open(annotations_path))\n",
    "\n",
    "#         # Add images\n",
    "#         # Generate random specifications of images (i.e. color and\n",
    "#         # list of shapes sizes and locations). This is more compact than\n",
    "#         # actual images. Images are generated on the fly in load_image().\n",
    "#         for (i, img) in enumerate(all_images):\n",
    "#             # bg_color, shapes = self.random_image(height, width)\n",
    "#             self.add_image(\"fish\", \n",
    "#                            image_id=i, \n",
    "#                            path=img['path'],\n",
    "#                            width=width, \n",
    "#                            height=height,\n",
    "#                            bbox=img['bbox'],\n",
    "#                            annotations=img['segmentation'])\n",
    "\n",
    "#     def load_image(self, image_id):\n",
    "#         \"\"\"Generate an image from the specs of the given image ID.\n",
    "#         Typically this function loads the image from a file, but\n",
    "#         in this case it generates the image on the fly from the\n",
    "#         specs in image_info.\n",
    "#         \"\"\"\n",
    "#         info = self.image_info[image_id]\n",
    "#         image = np.array(Image.open(info['path']))\n",
    "#         return image\n",
    "\n",
    "#     def image_reference(self, image_id):\n",
    "#         \"\"\"Return the shapes data of the image.\"\"\"\n",
    "#         info = self.image_info[image_id]\n",
    "#         if info[\"source\"] == \"fish\":\n",
    "#             return info[\"fish\"]\n",
    "#         else:\n",
    "#             super(self.__class__).image_reference(self, image_id)\n",
    "\n",
    "#     def load_mask(self, image_id):\n",
    "#         \"\"\"Generate instance masks for shapes of the given image ID.\n",
    "#         \"\"\"\n",
    "#         info = self.image_info[image_id]        \n",
    "#         polygons = info['annotations']\n",
    "#         count = len(polygons)\n",
    "#         masks = np.zeros([info['height'], info['width'], count], dtype=np.uint8)\n",
    "#         for (i, polygon) in enumerate(info['annotations']):\n",
    "#             polygon = [(i1, info['height'] - i2) for (i1, i2) in polygon]\n",
    "#             tupled = [tuple(p) for p in polygon]\n",
    "#             img = Image.new('L', (info['width'], info['height']), 0)\n",
    "#             ImageDraw.Draw(img).polygon(tupled, outline=1, fill=1)\n",
    "#             mask = np.array(img)\n",
    "#             masks[:, :, i] = mask\n",
    "#         # Map class names to class IDs.\n",
    "#         class_ids = np.array([1]*count)\n",
    "#         return masks, class_ids.astype(np.int32)\n"
   ]
  },
  {
   "cell_type": "code",
   "execution_count": null,
   "metadata": {},
   "outputs": [],
   "source": [
    "class FishDataset(utils.Dataset):\n",
    "    \"\"\"Generates the shapes synthetic dataset. The dataset consists of simple\n",
    "    shapes (triangles, squares, circles) placed randomly on a blank surface.\n",
    "    The images are generated on the fly. No file access required.\n",
    "    \"\"\"\n",
    "\n",
    "    def load_fish(self, annotations_path):\n",
    "        \"\"\"Generate the requested number of synthetic images.\n",
    "        count: number of images to generate.\n",
    "        height, width: the size of the generated images.\n",
    "        \"\"\"\n",
    "        # Add classes\n",
    "        self.add_class(\"fish\", 1, \"fish\")\n",
    "        \n",
    "        all_images = json.load(open(annotations_path))\n",
    "        \n",
    "        # Add images\n",
    "        # Generate random specifications of images (i.e. color and\n",
    "        # list of shapes sizes and locations). This is more compact than\n",
    "        # actual images. Images are generated on the fly in load_image().\n",
    "        for (i, img) in enumerate(all_images):\n",
    "            # bg_color, shapes = self.random_image(height, width)\n",
    "            if not isinstance(img, list):\n",
    "                self.add_image(\"fish\", \n",
    "                               image_id=i, \n",
    "                               path=img['path'],\n",
    "                               bbox=img['bboxes'],\n",
    "                               masks=img['masks'])\n",
    "\n",
    "    def load_image(self, image_id):\n",
    "        \"\"\"Generate an image from the specs of the given image ID.\n",
    "        Typically this function loads the image from a file, but\n",
    "        in this case it generates the image on the fly from the\n",
    "        specs in image_info.\n",
    "        \"\"\"\n",
    "        info = self.image_info[image_id]\n",
    "        image = np.array(Image.open(info['path']))\n",
    "        return image\n",
    "\n",
    "    def image_reference(self, image_id):\n",
    "        \"\"\"Return the shapes data of the image.\"\"\"\n",
    "        info = self.image_info[image_id]\n",
    "        if info[\"source\"] == \"fish\":\n",
    "            return info[\"fish\"]\n",
    "        else:\n",
    "            super(self.__class__).image_reference(self, image_id)\n",
    "\n",
    "    def load_mask(self, image_id):\n",
    "        \"\"\"Generate instance masks for shapes of the given image ID.\n",
    "        \"\"\"\n",
    "#         info = self.image_info[image_id]        \n",
    "#         polygons = info['annotations']\n",
    "#         count = len(polygons)\n",
    "#         masks = np.zeros([info['height'], info['width'], count], dtype=np.uint8)\n",
    "#         for (i, polygon) in enumerate(info['annotations']):\n",
    "#             polygon = [(i1, info['height'] - i2) for (i1, i2) in polygon]\n",
    "#             tupled = [tuple(p) for p in polygon]\n",
    "#             img = Image.new('L', (info['width'], info['height']), 0)\n",
    "#             ImageDraw.Draw(img).polygon(tupled, outline=1, fill=1)\n",
    "#             mask = np.array(img)\n",
    "#             masks[:, :, i] = mask\n",
    "        info = self.image_info[image_id]\n",
    "        masks = maskUtils.decode(info['masks'])\n",
    "        # Map class names to class IDs.\n",
    "        class_ids = np.array([1]*masks.shape[2])\n",
    "        return masks, class_ids.astype(np.int32)\n"
   ]
  },
  {
   "cell_type": "code",
   "execution_count": null,
   "metadata": {},
   "outputs": [],
   "source": [
    "all_images = json.load(open('/root/data/blender_data/test/training/validation_low_rez/labels.json'))"
   ]
  },
  {
   "cell_type": "code",
   "execution_count": null,
   "metadata": {},
   "outputs": [],
   "source": [
    "all_images[0]"
   ]
  },
  {
   "cell_type": "code",
   "execution_count": null,
   "metadata": {},
   "outputs": [],
   "source": [
    "dataset_train = FishDataset()\n",
    "dataset_train.load_fish('/root/data/blender_data/test/training/train_low_rez/labels.json')\n",
    "dataset_train.prepare()"
   ]
  },
  {
   "cell_type": "code",
   "execution_count": null,
   "metadata": {},
   "outputs": [],
   "source": [
    "dataset_val = FishDataset()\n",
    "dataset_val.load_fish('/root/data/blender_data/test/training/validation_low_rez/labels.json')\n",
    "dataset_val.prepare()"
   ]
  },
  {
   "cell_type": "code",
   "execution_count": null,
   "metadata": {},
   "outputs": [],
   "source": [
    "# *** This training schedule is an example. Update to your needs ***\n",
    "\n",
    "# Training - SImageDrawtage 1\n",
    "print(\"Training network heads\")\n",
    "model.train(dataset_train, dataset_val,\n",
    "            learning_rate=config.LEARNING_RATE,\n",
    "            epochs=40,\n",
    "            layers='all')"
   ]
  },
  {
   "cell_type": "code",
   "execution_count": null,
   "metadata": {},
   "outputs": [],
   "source": []
  },
  {
   "cell_type": "code",
   "execution_count": null,
   "metadata": {},
   "outputs": [],
   "source": []
  },
  {
   "cell_type": "code",
   "execution_count": null,
   "metadata": {},
   "outputs": [],
   "source": []
  }
 ],
 "metadata": {
  "kernelspec": {
   "display_name": "Python 2",
   "language": "python",
   "name": "python2"
  },
  "language_info": {
   "codemirror_mode": {
    "name": "ipython",
    "version": 2
   },
   "file_extension": ".py",
   "mimetype": "text/x-python",
   "name": "python",
   "nbconvert_exporter": "python",
   "pygments_lexer": "ipython2",
   "version": "2.7.12"
  }
 },
 "nbformat": 4,
 "nbformat_minor": 2
}
