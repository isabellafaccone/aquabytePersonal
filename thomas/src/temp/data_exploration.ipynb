{
 "cells": [
  {
   "cell_type": "code",
   "execution_count": null,
   "metadata": {},
   "outputs": [],
   "source": [
    "import json\n",
    "import os"
   ]
  },
  {
   "cell_type": "code",
   "execution_count": null,
   "metadata": {},
   "outputs": [],
   "source": [
    "annotations = json.load(open('/root/thomas/mask/data/annotations.json'))\n",
    "download = False"
   ]
  },
  {
   "cell_type": "markdown",
   "metadata": {},
   "source": [
    "## download the data"
   ]
  },
  {
   "cell_type": "code",
   "execution_count": null,
   "metadata": {},
   "outputs": [],
   "source": [
    "# to download the data\n",
    "if download:\n",
    "    for a in annotations:\n",
    "        name = os.path.basename(a['content'])\n",
    "        video_name = a['content'].split('/')[-2]\n",
    "        if '://s' not in a['content']:\n",
    "            url = a['c ontent']\n",
    "            url = url.replace(':/s', '://s')\n",
    "        else:\n",
    "            url = a['content']\n",
    "        command = 'wget {} --directory-prefix=data/{}'.format(url, video_name)\n",
    "        os.system(command)\n"
   ]
  },
  {
   "cell_type": "markdown",
   "metadata": {},
   "source": [
    "## display some examples"
   ]
  },
  {
   "cell_type": "code",
   "execution_count": null,
   "metadata": {},
   "outputs": [],
   "source": [
    "import random\n",
    "import itertools\n",
    "import colorsys\n",
    "import numpy as np\n",
    "from skimage.measure import find_contours\n",
    "import matplotlib.pyplot as plt\n",
    "import matplotlib.patches as patches\n",
    "import matplotlib.lines as lines\n",
    "from matplotlib.patches import Polygon, Rectangle, Circle\n",
    "import IPython.display\n",
    "\n",
    "from PIL import Image"
   ]
  },
  {
   "cell_type": "code",
   "execution_count": null,
   "metadata": {},
   "outputs": [],
   "source": [
    "def apply_mask(image, mask, color, alpha=0.5):\n",
    "    \"\"\"Apply the given mask to the image.\n",
    "    \"\"\"\n",
    "    for c in range(3):\n",
    "        image[:, :, c] = np.where(mask == 1,\n",
    "                                  image[:, :, c] *\n",
    "                                  (1 - alpha) + alpha * color[c] * 255,\n",
    "                                  image[:, :, c])\n",
    "    return image"
   ]
  },
  {
   "cell_type": "code",
   "execution_count": null,
   "metadata": {},
   "outputs": [],
   "source": [
    "def random_colors(N, bright=True):\n",
    "    \"\"\"\n",
    "    Generate random colors.\n",
    "    To get visually distinct colors, generate them in HSV space then\n",
    "    convert to RGB.\n",
    "    \"\"\"\n",
    "    brightness = 1.0 if bright else 0.7\n",
    "    hsv = [(i / N, 1, brightness) for i in range(N)]\n",
    "    colors = list(map(lambda c: colorsys.hsv_to_rgb(*c), hsv))\n",
    "    random.shuffle(colors)\n",
    "    return colors"
   ]
  },
  {
   "cell_type": "code",
   "execution_count": null,
   "metadata": {},
   "outputs": [],
   "source": [
    "figsize = (16, 16)\n",
    "annot = np.random.choice(annotations)\n",
    "image_path = os.path.join('/root/thomas/mask/data', '/'.join(annot['content'].split('/')[-2:]))\n",
    "masks = annot['results']"
   ]
  },
  {
   "cell_type": "code",
   "execution_count": null,
   "metadata": {},
   "outputs": [],
   "source": [
    "print image_path\n",
    "image = np.array(Image.open(image_path))\n",
    "N = len(masks)\n",
    "_, ax = plt.subplots(1, figsize=figsize)\n",
    "\n",
    "# Generate random colors\n",
    "colors = random_colors(N)\n",
    "\n",
    "# Show area outside image boundaries.Polygon\n",
    "height, width = image.shape[:2]\n",
    "ax.set_ylim(height + 10, -10)\n",
    "ax.set_xlim(-10, width + 10)\n",
    "ax.axis('off')\n",
    "\n",
    "masked_image = image.astype(np.uint32).copy()\n",
    "for i in range(N):#     # print np.where(mask==1)\n",
    "    color = colors[i]\n",
    "    test = [(i1, 1080 - i2) for (i1, i2) in masks[i]]\n",
    "    xs, ys = zip(*test)\n",
    "    p = Rectangle([min(xs), min(ys)], (max(xs)-min(xs)), (max(ys)-min(ys)), \n",
    "                  facecolor='none', \n",
    "                  edgecolor=colors[i],\n",
    "                  linestyle='dashed',\n",
    "                  linewidth=3)\n",
    "    ax.add_patch(p)\n",
    "    p = Circle([min(xs), min(ys)], radius = 10)\n",
    "    ax.add_patch(p)\n",
    "    p = Circle([min(xs)+(max(xs)-min(xs)), min(ys)+(max(ys)-min(ys))], radius = 10)\n",
    "    ax.add_patch(p)\n",
    "    p = Polygon(test, facecolor=colors[i], edgecolor=colors[i], alpha=0.3)\n",
    "    ax.add_patch(p)\n",
    "    \n",
    "ax.imshow(masked_image.astype(np.uint8))\n",
    "plt.show()\n"
   ]
  },
  {
   "cell_type": "code",
   "execution_count": null,
   "metadata": {},
   "outputs": [],
   "source": [
    "# from shapely.geometry import Point\n",
    "# from shapely.geometry import Polygon"
   ]
  },
  {
   "cell_type": "code",
   "execution_count": null,
   "metadata": {},
   "outputs": [],
   "source": [
    "# im = Image.open(image_path).convert('RGBA')\n",
    "# pixels = np.array(im)\n",
    "# im_copy = np.array(im)\n",
    "\n",
    "# region = Polygon(test)\n",
    "\n",
    "# for index, pixel in np.ndenumerate(pixels):\n",
    "#   # Unpack the index.masks[0]\n",
    "#     row, col, channel = index\n",
    "#   # We only need to look at spatial pixel data for one of the four channels.\n",
    "#     if channel != 0:\n",
    "#         continue\n",
    "#     point = Point(row, col)\n",
    "#     if not region.contains(point):\n",
    "#         im_copy[(row, col, 0)] = 255\n",
    "#         im_copy[(row, col, 1)] = 255\n",
    "#         im_copy[(row, col, 2)] = 255\n",
    "#         im_copy[(row, col, 3)] = 0\n",
    "\n",
    "# cut_image = Image.fromarray(im_copy)"
   ]
  },
  {
   "cell_type": "code",
   "execution_count": null,
   "metadata": {},
   "outputs": [],
   "source": []
  },
  {
   "cell_type": "code",
   "execution_count": null,
   "metadata": {},
   "outputs": [],
   "source": []
  }
 ],
 "metadata": {
  "kernelspec": {
   "display_name": "Python 2",
   "language": "python",
   "name": "python2"
  },
  "language_info": {
   "codemirror_mode": {
    "name": "ipython",
    "version": 2
   },
   "file_extension": ".py",
   "mimetype": "text/x-python",
   "name": "python",
   "nbconvert_exporter": "python",
   "pygments_lexer": "ipython2",
   "version": "2.7.12"
  }
 },
 "nbformat": 4,
 "nbformat_minor": 2
}
