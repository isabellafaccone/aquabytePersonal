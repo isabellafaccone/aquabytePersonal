{
 "cells": [
  {
   "cell_type": "code",
   "execution_count": null,
   "metadata": {},
   "outputs": [],
   "source": [
    "import json"
   ]
  },
  {
   "cell_type": "code",
   "execution_count": null,
   "metadata": {},
   "outputs": [],
   "source": [
    "annotations = json.load(open('/root/thomas/mask/data/annotations.json'))\n",
    "download = False"
   ]
  },
  {
   "cell_type": "markdown",
   "metadata": {},
   "source": [
    "# create bounding boxes"
   ]
  },
  {
   "cell_type": "code",
   "execution_count": null,
   "metadata": {},
   "outputs": [],
   "source": [
    "import csv\n",
    "import os"
   ]
  },
  {
   "cell_type": "code",
   "execution_count": null,
   "metadata": {},
   "outputs": [],
   "source": [
    "bboxes = []\n",
    "for annot in annotations:\n",
    "    image_path = os.path.join('/root/thomas/mask/data', '/'.join(annot['content'].split('/')[-2:]))\n",
    "    masks = annot['results']\n",
    "    if masks is None:\n",
    "        continue\n",
    "    N = len(masks)\n",
    "    try:\n",
    "        for i in range(N):\n",
    "            mask = [(i1, 1080 - i2) for (i1, i2) in masks[i]]\n",
    "            xs, ys = zip(*mask)\n",
    "            width = max(xs) - min(xs)\n",
    "            height = max(ys) - min(ys)\n",
    "            if width >0 and height>0:\n",
    "                bboxes.append((image_path, min(xs), min(ys), min(xs)+width, min(ys)+height, 'fish'))\n",
    "    except Exception as e:\n",
    "        pass\n",
    "        "
   ]
  },
  {
   "cell_type": "code",
   "execution_count": null,
   "metadata": {},
   "outputs": [],
   "source": [
    "with open('/root/thomas/mask/data/annotations.csv', 'w') as f:\n",
    "    writer = csv.writer(f, delimiter=',')\n",
    "    for b in bboxes:\n",
    "        writer.writerow(b)"
   ]
  },
  {
   "cell_type": "markdown",
   "metadata": {},
   "source": [
    "# create coco-style annotations"
   ]
  },
  {
   "cell_type": "code",
   "execution_count": null,
   "metadata": {},
   "outputs": [],
   "source": [
    "import json\n",
    "from PIL import Image\n",
    "import numpy as np"
   ]
  },
  {
   "cell_type": "code",
   "execution_count": null,
   "metadata": {},
   "outputs": [],
   "source": [
    "coco = json.load(open('/root/thomas/annotations/stuff_val2017.json'))"
   ]
  },
  {
   "cell_type": "code",
   "execution_count": null,
   "metadata": {},
   "outputs": [],
   "source": [
    "bboxes = []\n",
    "for annot in annotations:\n",
    "    tmp = {}\n",
    "    tmp['bbox'] = []\n",
    "    tmp['segmentation'] = []\n",
    "    image_path = os.path.join('/root/thomas/mask/data', '/'.join(annot['content'].split('/')[-2:]))\n",
    "    masks = annot['results']\n",
    "    if masks is None:\n",
    "        continue\n",
    "    N = len(masks)\n",
    "    try:\n",
    "        for i in range(N):\n",
    "            mask = [(i1, 1080 - i2) for (i1, i2) in masks[i]]\n",
    "            xs, ys = zip(*mask)\n",
    "            width = max(xs) - min(xs)\n",
    "            height = max(ys) - min(ys)\n",
    "            if width >0 and height>0:\n",
    "                tmp['path'] = image_path\n",
    "                tmp['bbox'].append([min(xs), min(ys), min(xs)+width, min(ys)+height])\n",
    "                for polygon in annot['results']:\n",
    "                    tupled = [tuple(p) for p in polygon]\n",
    "                    tmp['segmentation'].append(tupled)\n",
    "                tmp['category_id'] = 0\n",
    "                tmp['size'] = (1080, 1920, 3)\n",
    "                bboxes.append(tmp)\n",
    "    except Exception as e:\n",
    "        print e.message\n",
    "        "
   ]
  },
  {
   "cell_type": "code",
   "execution_count": null,
   "metadata": {},
   "outputs": [],
   "source": [
    "for l in annot['results']:\n",
    "    print l"
   ]
  },
  {
   "cell_type": "code",
   "execution_count": null,
   "metadata": {},
   "outputs": [],
   "source": [
    "np.array(Image.open(image_path)).shape"
   ]
  },
  {
   "cell_type": "code",
   "execution_count": null,
   "metadata": {},
   "outputs": [],
   "source": [
    "with open('/root/thomas/mask/data/mask_annotations.json', 'w') as f:\n",
    "    json.dump(bboxes, f)"
   ]
  },
  {
   "cell_type": "code",
   "execution_count": null,
   "metadata": {},
   "outputs": [],
   "source": [
    "bboxes[0]"
   ]
  },
  {
   "cell_type": "code",
   "execution_count": null,
   "metadata": {},
   "outputs": [],
   "source": []
  }
 ],
 "metadata": {
  "kernelspec": {
   "display_name": "Python 2",
   "language": "python",
   "name": "python2"
  },
  "language_info": {
   "codemirror_mode": {
    "name": "ipython",
    "version": 2
   },
   "file_extension": ".py",
   "mimetype": "text/x-python",
   "name": "python",
   "nbconvert_exporter": "python",
   "pygments_lexer": "ipython2",
   "version": "2.7.12"
  }
 },
 "nbformat": 4,
 "nbformat_minor": 2
}
