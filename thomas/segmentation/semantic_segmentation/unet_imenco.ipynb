{
 "cells": [
  {
   "cell_type": "code",
   "execution_count": null,
   "metadata": {},
   "outputs": [],
   "source": [
    "import os\n",
    "\n",
    "import numpy as np\n",
    "from keras.optimizers import Adam\n",
    "from keras.callbacks import ReduceLROnPlateau, ModelCheckpoint\n",
    "from PIL import Image\n",
    "\n",
    "from unet import get_unet, jaccard_coef_int, jaccard_coef_loss"
   ]
  },
  {
   "cell_type": "markdown",
   "metadata": {},
   "source": [
    "# LOAD THE MODEL"
   ]
  },
  {
   "cell_type": "code",
   "execution_count": null,
   "metadata": {},
   "outputs": [],
   "source": [
    "# set up the gpu id# set u \n",
    "os.environ['CUDA_VISIBLE_DEVICES'] = \"2\""
   ]
  },
  {
   "cell_type": "code",
   "execution_count": null,
   "metadata": {},
   "outputs": [],
   "source": [
    "model = get_unet(3, 512, 512)"
   ]
  },
  {
   "cell_type": "code",
   "execution_count": null,
   "metadata": {},
   "outputs": [],
   "source": [
    "adam = Adam(lr=1e-3)\n",
    "model.compile(adam, loss=jaccard_coef_loss, metrics=['binary_crossentropy', jaccard_coef_int])"
   ]
  },
  {
   "cell_type": "code",
   "execution_count": null,
   "metadata": {},
   "outputs": [],
   "source": [
    "# model.save('/root/data/models/unet/unet_app_test.h5')"
   ]
  },
  {
   "cell_type": "markdown",
   "metadata": {},
   "source": [
    "# CREATE DATASET"
   ]
  },
  {
   "cell_type": "code",
   "execution_count": null,
   "metadata": {},
   "outputs": [],
   "source": [
    "import json\n",
    "import random\n",
    "from pycocotools.mask import decode\n",
    "import numpy as np\n",
    "import matplotlib.pyplot as plt\n",
    "from PIL import Image, ImageDraw\n",
    "import cv2\n",
    "from skimage.transform import resize\n",
    "import glob\n",
    "import os"
   ]
  },
  {
   "cell_type": "code",
   "execution_count": null,
   "metadata": {},
   "outputs": [],
   "source": [
    "all_images = glob.glob('/root/data/fish_identification/basler0/*.jpg')"
   ]
  },
  {
   "cell_type": "code",
   "execution_count": null,
   "metadata": {},
   "outputs": [],
   "source": [
    "labels = json.load(open('/root/data/fish_identification/new_annotations.json'))"
   ]
  },
  {
   "cell_type": "code",
   "execution_count": null,
   "metadata": {},
   "outputs": [],
   "source": [
    "instruction = \"Draw a bounding box around all fish or any part of a fish. It does not matter how far it is or if you only see a small part of it.\""
   ]
  },
  {
   "cell_type": "code",
   "execution_count": null,
   "metadata": {},
   "outputs": [],
   "source": [
    "labs = [l for l in labels if l[\"instructions\"] == instruction]\n",
    "print(len(labs))"
   ]
  },
  {
   "cell_type": "code",
   "execution_count": null,
   "metadata": {},
   "outputs": [],
   "source": [
    "# no_poly = 0\n",
    "# for l in labs:\n",
    "#     # get the image path\n",
    "#     trunc_path = l['content'][-10:]\n",
    "#     try:\n",
    "#         img_path = glob.glob('/root/data/fish_identification/basler0/*'+trunc_path)[0]\n",
    "#         width, height = Image.open(img_path).size\n",
    "#         # create empty Image\n",
    "#         masks = Image.new('L', (width, height), 0)\n",
    "\n",
    "#         # load the polygons \n",
    "#         polygons = l['results']\n",
    "#         if len(polygons) > 0:\n",
    "#             for polygon in polygons:\n",
    "#                 good_polygon = [tuple([poly[0], 3000-poly[1]]) for poly in polygon]\n",
    "#                 ImageDraw.Draw(masks).polygon(good_polygon, outline='red', fill='red')\n",
    "#             f, ax = plt.subplots(1, 2, figsize=(10, 5))\n",
    "#             ax[0].imshow(np.array(Image.open(img_path)))\n",
    "#             ax[1].imshow(np.array(masks))\n",
    "#             plt.show()\n",
    "#             print(img_path)\n",
    "#         else: \n",
    "#             no_poly += 1\n",
    "#     except Exception as e:\n",
    "#         print e.message"
   ]
  },
  {
   "cell_type": "code",
   "execution_count": null,
   "metadata": {},
   "outputs": [],
   "source": [
    "with open('/root/data/fish_identification/good_fish.txt', 'r') as f:\n",
    "    good = []\n",
    "    for line in f:\n",
    "        good.append(line[:-1])"
   ]
  },
  {
   "cell_type": "code",
   "execution_count": null,
   "metadata": {},
   "outputs": [],
   "source": [
    "no_poly = 0\n",
    "for l in labs:\n",
    "    # get the image path\n",
    "    trunc_path = l['content'][-10:]\n",
    "    img_paths = glob.glob('/root/data/fish_identification/basler0/*'+trunc_path)\n",
    "    if len(img_paths) > 0 :\n",
    "        img_path = img_paths[0]\n",
    "        width, height = Image.open(img_path).size\n",
    "        if img_path in good:\n",
    "            masks = Image.new('L', (width, height), 0)\n",
    "            polygons = l['results']\n",
    "            for polygon in polygons:\n",
    "                good_polygon = [tuple([poly[0], 3000-poly[1]]) for poly in polygon]\n",
    "                ImageDraw.Draw(masks).polygon(good_polygon, outline='white', fill='white')\n",
    "            masks_name = os.path.basename(img_path).split('.')[0].split('_')[-1]\n",
    "            masks = np.array(masks)\n",
    "            masks[masks>0]=1\n",
    "            np.save('/root/data/fish_identification/masks/' + masks_name, masks)\n",
    "            \n",
    "#         # create empty Image\n",
    "#         masks = Image.new('L', (width, height), 0)\n",
    "\n",
    "#         # load the polygons \n",
    "#         \n",
    "#         if len(polygons) > 0:\n",
    "#             for polygon in polygons:\n",
    "#                 good_polygon = [tuple([poly[0], 3000-poly[1]]) for poly in polygon]\n",
    "#                 ImageDraw.Draw(masks).polygon(good_polygon, outline='red', fill='red')\n",
    "#             f, ax = plt.subplots(1, 2, figsize=(10, 5))\n",
    "#             ax[0].imshow(np.array(Image.open(img_path)))\n",
    "#             ax[1].imshow(np.array(masks))\n",
    "#             plt.show()\n",
    "#             print(img_path)\n",
    "#         else: \n",
    "#             no_poly += 1\n",
    "#     except Exception as e:\n",
    "#         print e.message"
   ]
  },
  {
   "cell_type": "code",
   "execution_count": null,
   "metadata": {},
   "outputs": [],
   "source": [
    "import cv2"
   ]
  },
  {
   "cell_type": "code",
   "execution_count": null,
   "metadata": {},
   "outputs": [],
   "source": [
    "plt.imshow(cv2.resize(masks, (512, 512)))"
   ]
  },
  {
   "cell_type": "markdown",
   "metadata": {},
   "source": [
    "# CREATE GENERATOR\n"
   ]
  },
  {
   "cell_type": "code",
   "execution_count": null,
   "metadata": {},
   "outputs": [],
   "source": [
    "import json\n",
    "import random\n",
    "from pycocotools.mask import decode\n",
    "import numpy as np\n",
    "import matplotlib.pyplot as plt\n",
    "from PIL import Image, ImageDraw\n",
    "import cv2\n",
    "from skimage.transform import resize\n",
    "import glob\n",
    "import random\n",
    "import os"
   ]
  },
  {
   "cell_type": "code",
   "execution_count": null,
   "metadata": {},
   "outputs": [],
   "source": [
    "with open('/root/data/fish_identification/good_fish.txt', 'r') as f:\n",
    "    good = []\n",
    "    for line in f:\n",
    "        good.append(line[:-1])"
   ]
  },
  {
   "cell_type": "code",
   "execution_count": null,
   "metadata": {},
   "outputs": [],
   "source": [
    "good = [g for g in good if len(g)>0]\n",
    "random.shuffle(good)\n",
    "train_set = good[:70]\n",
    "val_set = good[70:]"
   ]
  },
  {
   "cell_type": "code",
   "execution_count": null,
   "metadata": {},
   "outputs": [],
   "source": [
    "val_set"
   ]
  },
  {
   "cell_type": "code",
   "execution_count": null,
   "metadata": {},
   "outputs": [],
   "source": [
    "batch_size = 8\n",
    "steps_per_epoch = len(good) // batch_size\n",
    "input_shape = (512, 512, 3)"
   ]
  },
  {
   "cell_type": "code",
   "execution_count": null,
   "metadata": {},
   "outputs": [],
   "source": [
    "# def build_truth(masks, input_shape):\n",
    "#     masks = decode(masks)\n",
    "#     mask = np.sum(masks, axis=2)\n",
    "#     # return mask[x:x+input_shape[0], y:y+input_shape[1]]\n",
    "#     mask = resize(mask, (input_shape[0], input_shape[1]))\n",
    "#     mask[mask>0] = 1\n",
    "#     return mask"
   ]
  },
  {
   "cell_type": "code",
   "execution_count": null,
   "metadata": {},
   "outputs": [],
   "source": [
    "def generator(labels, steps_per_epoch, BATCH_SIZE, input_shape):\n",
    "    i = 0\n",
    "    img_size = input_shape[0]\n",
    "    while True:\n",
    "        x_batch = np.empty((BATCH_SIZE, input_shape[0], input_shape[1], input_shape[2]), dtype=np.uint8)\n",
    "        y_batch = np.empty((BATCH_SIZE, input_shape[0], input_shape[1], 1), dtype=np.uint8)\n",
    "        for (ind, j) in enumerate(range(i*BATCH_SIZE, (i+1)*BATCH_SIZE)):\n",
    "            img_path = np.random.choice(labels)\n",
    "            masks_name = os.path.basename(img_path).split('.')[0].split('_')[-1]\n",
    "            mask_path = '/root/data/fish_identification/masks/{}.npy'.format(masks_name)\n",
    "            x_batch[ind,...] = np.array(Image.open(img_path).resize((input_shape[0], input_shape[1])))\n",
    "            y_batch[ind,...] = np.expand_dims(cv2.resize(np.load(mask_path), \n",
    "                                                         (input_shape[0], input_shape[1])), \n",
    "                                              axis =2)\n",
    "        i += 1\n",
    "        if i >= steps_per_epoch:\n",
    "            i = 0\n",
    "        yield x_batch, y_batch"
   ]
  },
  {
   "cell_type": "code",
   "execution_count": null,
   "metadata": {},
   "outputs": [],
   "source": [
    "# x = 100\n",
    "# y = 100\n",
    "# np.array(Image.open(labels[0]['path']))[x:x+input_shape[0], y:y+input_shape[1]]"
   ]
  },
  {
   "cell_type": "code",
   "execution_count": null,
   "metadata": {},
   "outputs": [],
   "source": [
    "train_generator = generator(train_set, steps_per_epoch, batch_size, input_shape)\n",
    "validation_generator = generator(val_set, steps_per_epoch, batch_size, input_shape)"
   ]
  },
  {
   "cell_type": "code",
   "execution_count": null,
   "metadata": {},
   "outputs": [],
   "source": [
    "xb, yb = train_generator.next()"
   ]
  },
  {
   "cell_type": "code",
   "execution_count": null,
   "metadata": {},
   "outputs": [],
   "source": [
    "xb.dtype"
   ]
  },
  {
   "cell_type": "code",
   "execution_count": null,
   "metadata": {},
   "outputs": [],
   "source": [
    "plt.imshow(xb[0,...])"
   ]
  },
  {
   "cell_type": "code",
   "execution_count": null,
   "metadata": {},
   "outputs": [],
   "source": [
    "xb.dtype"
   ]
  },
  {
   "cell_type": "code",
   "execution_count": null,
   "metadata": {},
   "outputs": [],
   "source": [
    "plt.imshow(yb[0,...,0])\n",
    "plt.colorbar()"
   ]
  },
  {
   "cell_type": "code",
   "execution_count": null,
   "metadata": {},
   "outputs": [],
   "source": [
    "imgg= Image.fromarray(xb[0,...])\n",
    "maskk = Image.fromarray(yb[0,...,0])"
   ]
  },
  {
   "cell_type": "code",
   "execution_count": null,
   "metadata": {},
   "outputs": [],
   "source": [
    "imgg.size"
   ]
  },
  {
   "cell_type": "code",
   "execution_count": null,
   "metadata": {},
   "outputs": [],
   "source": [
    "maskk.size"
   ]
  },
  {
   "cell_type": "code",
   "execution_count": null,
   "metadata": {},
   "outputs": [],
   "source": [
    "plt.imshow(xb[0,...])\n",
    "plt.imshow(yb[0,...,0], alpha=0.2)"
   ]
  },
  {
   "cell_type": "markdown",
   "metadata": {},
   "source": [
    "# TRAIN"
   ]
  },
  {
   "cell_type": "code",
   "execution_count": null,
   "metadata": {},
   "outputs": [],
   "source": [
    "from keras.callbacks import Callback"
   ]
  },
  {
   "cell_type": "code",
   "execution_count": null,
   "metadata": {},
   "outputs": [],
   "source": [
    "# create history callback\n",
    "class SaveHistory(Callback):\n",
    "    \n",
    "    def __init__(self, json_path):\n",
    "        self.json_path = json_path\n",
    "    \n",
    "    def on_train_begin(self, logs=None):\n",
    "        self.epoch = []\n",
    "        self.history = {}\n",
    "\n",
    "    def on_epoch_end(self, epoch, logs=None):\n",
    "        logs = logs or {}\n",
    "        self.epoch.append(epoch)\n",
    "        for k, v in logs.items():\n",
    "            self.history.setdefault(k, []).append(v)\n",
    "        with open(self.json_path, 'w') as f:\n",
    "            json.dump(self.history, f)"
   ]
  },
  {
   "cell_type": "code",
   "execution_count": null,
   "metadata": {},
   "outputs": [],
   "source": [
    "saveh = SaveHistory('./imenco_history.json')"
   ]
  },
  {
   "cell_type": "code",
   "execution_count": null,
   "metadata": {},
   "outputs": [],
   "source": [
    "# start training# start \n",
    "history = model.fit_generator(\n",
    "        generator=train_generator,\n",
    "        steps_per_epoch=steps_per_epoch,\n",
    "        epochs=50,\n",
    "        verbose=1,\n",
    "        validation_data=validation_generator,\n",
    "        validation_steps=steps_per_epoch//10,\n",
    "        callbacks=[saveh])"
   ]
  },
  {
   "cell_type": "markdown",
   "metadata": {},
   "source": [
    "# plot history"
   ]
  },
  {
   "cell_type": "code",
   "execution_count": null,
   "metadata": {},
   "outputs": [],
   "source": []
  },
  {
   "cell_type": "code",
   "execution_count": null,
   "metadata": {},
   "outputs": [],
   "source": [
    "plt.plot(history.history['loss'], label='train_loss')\n",
    "plt.plot(history.history['val_loss'], label='val_loss')\n",
    "plt.legend()"
   ]
  },
  {
   "cell_type": "code",
   "execution_count": null,
   "metadata": {},
   "outputs": [],
   "source": [
    "plt.plot(history.history['jaccard_coef_int'], label='iou')\n",
    "plt.plot(history.history['val_jaccard_coef_int'], label='val_iou')\n",
    "plt.legend()"
   ]
  },
  {
   "cell_type": "code",
   "execution_count": null,
   "metadata": {},
   "outputs": [],
   "source": []
  },
  {
   "cell_type": "code",
   "execution_count": null,
   "metadata": {},
   "outputs": [],
   "source": []
  },
  {
   "cell_type": "markdown",
   "metadata": {},
   "source": [
    "# PREDICTION"
   ]
  },
  {
   "cell_type": "code",
   "execution_count": null,
   "metadata": {},
   "outputs": [],
   "source": [
    "from PIL import Image\n",
    "import numpy as np"
   ]
  },
  {
   "cell_type": "code",
   "execution_count": null,
   "metadata": {},
   "outputs": [],
   "source": [
    "gt = np.load('/root/data/fish_identification/masks/0623.npy')\n",
    "gt = cv2.resize(gt, (512, 512))\n",
    "plt.imshow(gt)"
   ]
  },
  {
   "cell_type": "code",
   "execution_count": null,
   "metadata": {},
   "outputs": [],
   "source": [
    "imp = np.array(Image.open('/root/data/fish_identification/basler0/Basler acA4112-8gc (40003213)_20180326_134801204_0623.jpg').resize((512, 512)))"
   ]
  },
  {
   "cell_type": "code",
   "execution_count": null,
   "metadata": {},
   "outputs": [],
   "source": [
    "plt.imshow(imp)"
   ]
  },
  {
   "cell_type": "code",
   "execution_count": null,
   "metadata": {},
   "outputs": [],
   "source": [
    "out = model.predict(np.expand_dims(imp, axis=0))"
   ]
  },
  {
   "cell_type": "code",
   "execution_count": null,
   "metadata": {},
   "outputs": [],
   "source": [
    "out.shape"
   ]
  },
  {
   "cell_type": "code",
   "execution_count": null,
   "metadata": {},
   "outputs": [],
   "source": [
    "plt.imshow(out[0,...,0])\n",
    "plt.colorbar()\n",
    "# plt.clim([0, 0.0001])"
   ]
  },
  {
   "cell_type": "code",
   "execution_count": null,
   "metadata": {},
   "outputs": [],
   "source": []
  },
  {
   "cell_type": "code",
   "execution_count": null,
   "metadata": {},
   "outputs": [],
   "source": []
  },
  {
   "cell_type": "code",
   "execution_count": null,
   "metadata": {},
   "outputs": [],
   "source": [
    "np.count_nonzero(out==1)"
   ]
  },
  {
   "cell_type": "code",
   "execution_count": null,
   "metadata": {},
   "outputs": [],
   "source": [
    "import copy"
   ]
  },
  {
   "cell_type": "code",
   "execution_count": null,
   "metadata": {},
   "outputs": [],
   "source": [
    "img = Image.fromarray(imp)\n",
    "mask = np.zeros((512, 512, 3), dtype=np.uint8)\n",
    "tmp = copy.deepcopy(out[0,...,0])\n",
    "tmp[tmp>0.1] = 255\n",
    "mask[:,:,0] = tmp\n",
    "mask = Image.fromarray(mask)"
   ]
  },
  {
   "cell_type": "code",
   "execution_count": null,
   "metadata": {},
   "outputs": [],
   "source": [
    "Image.blend(img, mask, 0.5)"
   ]
  },
  {
   "cell_type": "code",
   "execution_count": null,
   "metadata": {},
   "outputs": [],
   "source": []
  },
  {
   "cell_type": "code",
   "execution_count": null,
   "metadata": {},
   "outputs": [],
   "source": []
  }
 ],
 "metadata": {
  "kernelspec": {
   "display_name": "Python 2",
   "language": "python",
   "name": "python2"
  },
  "language_info": {
   "codemirror_mode": {
    "name": "ipython",
    "version": 2
   },
   "file_extension": ".py",
   "mimetype": "text/x-python",
   "name": "python",
   "nbconvert_exporter": "python",
   "pygments_lexer": "ipython2",
   "version": "2.7.12"
  }
 },
 "nbformat": 4,
 "nbformat_minor": 2
}
