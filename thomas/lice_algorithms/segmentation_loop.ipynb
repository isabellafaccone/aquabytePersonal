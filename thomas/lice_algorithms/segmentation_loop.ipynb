{
 "cells": [
  {
   "cell_type": "markdown",
   "metadata": {},
   "source": [
    "## Segmentation on lice-crop\n",
    "\n",
    "Running segmentation on all the crops"
   ]
  },
  {
   "cell_type": "code",
   "execution_count": null,
   "metadata": {},
   "outputs": [],
   "source": [
    "!nvidia-smi"
   ]
  },
  {
   "cell_type": "markdown",
   "metadata": {},
   "source": [
    "First, let's list all the crops with lice"
   ]
  },
  {
   "cell_type": "code",
   "execution_count": null,
   "metadata": {},
   "outputs": [],
   "source": [
    "import glob\n",
    "import json\n",
    "import os \n",
    "\n",
    "from tqdm import tqdm"
   ]
  },
  {
   "cell_type": "code",
   "execution_count": null,
   "metadata": {},
   "outputs": [],
   "source": [
    "name2json = {}\n",
    "all_crops = glob.glob(\"/root/data/lice-data/crops/blom-kjeppevikholmen/*/*/*.jpg\")\n",
    "for crop in all_crops:\n",
    "    name2json[os.path.basename(crop)] = crop.replace(\"jpg\", \"json\")"
   ]
  },
  {
   "cell_type": "code",
   "execution_count": null,
   "metadata": {},
   "outputs": [],
   "source": [
    "# all_images = glob.glob(\"/root/data/lice-data/selected_crops/*.jpg\")\n",
    "# for img in all_images:\n",
    "#     new_name = img.replace(\" (copy)\", \"\")\n",
    "#     os.rename(img, new_name)"
   ]
  },
  {
   "cell_type": "code",
   "execution_count": null,
   "metadata": {},
   "outputs": [],
   "source": [
    "all_images = glob.glob(\"/root/data/lice-data/selected_crops/*.jpg\")\n",
    "images_with_lice = []\n",
    "for imgpath in tqdm(all_images):\n",
    "    jsonpath = name2json[os.path.basename(imgpath)]\n",
    "    detections = json.load(open(jsonpath))[\"detections\"]\n",
    "    if detections is None:\n",
    "        continue\n",
    "    if len(detections) > 0:\n",
    "        images_with_lice.append(imgpath)\n",
    "print(\"All crops: {}\".format(len(all_images)))\n",
    "print(\"Crops with lice {}\".format(len(images_with_lice)))"
   ]
  },
  {
   "cell_type": "code",
   "execution_count": null,
   "metadata": {},
   "outputs": [],
   "source": [
    "with open(\"./selected_crops_with_lice.json\", \"w\") as f:\n",
    "    json.dump(images_with_lice, f)"
   ]
  },
  {
   "cell_type": "markdown",
   "metadata": {},
   "source": [
    "Predictions. \n",
    "gotta be smart about it. batch and shit"
   ]
  },
  {
   "cell_type": "code",
   "execution_count": null,
   "metadata": {},
   "outputs": [],
   "source": [
    "import os\n",
    "\n",
    "import cv2\n",
    "import matplotlib.pyplot as plt\n",
    "import numpy as np\n",
    "from keras.models import load_model\n",
    "\n",
    "from unet import jaccard_coef_loss, jaccard_coef_int"
   ]
  },
  {
   "cell_type": "code",
   "execution_count": null,
   "metadata": {},
   "outputs": [],
   "source": [
    "os.environ[\"CUDA_VISIBLE_DEVICES\"] = \"0\"\n",
    "new_shape = (768, 256)"
   ]
  },
  {
   "cell_type": "code",
   "execution_count": null,
   "metadata": {},
   "outputs": [],
   "source": [
    "model_path = \"/root/data/models/single_fish_unet_segmentation.h5\"\n",
    "model = load_model(model_path, \n",
    "                   custom_objects={'jaccard_coef_loss': jaccard_coef_loss,\n",
    "                                   'jaccard_coef_int': jaccard_coef_int})"
   ]
  },
  {
   "cell_type": "code",
   "execution_count": null,
   "metadata": {},
   "outputs": [],
   "source": [
    "batch = []\n",
    "all_preds = []\n",
    "for path in tqdm(images_with_lice):\n",
    "    image = cv2.imread(path)\n",
    "    image = cv2.resize(image, new_shape)\n",
    "    batch.append(image)\n",
    "    if len(batch) == 8:\n",
    "        batch = np.array(batch)\n",
    "        predictions = model.predict_on_batch(batch)\n",
    "        all_preds.append(predictions)\n",
    "        batch = []"
   ]
  },
  {
   "cell_type": "code",
   "execution_count": null,
   "metadata": {},
   "outputs": [],
   "source": [
    "len(all_preds)"
   ]
  },
  {
   "cell_type": "code",
   "execution_count": null,
   "metadata": {},
   "outputs": [],
   "source": [
    "c = 0\n",
    "# good_mask = []\n",
    "print(len(good_mask))\n",
    "for i in range(10, 20, 1):\n",
    "    predictions = all_preds[i]\n",
    "    for j in range(8):\n",
    "        plt.imshow(predictions[j, ...].squeeze(), alpha=0.5)\n",
    "        plt.show()\n",
    "        keep = int(input(\"Keep or not \") or 1)\n",
    "        if keep:\n",
    "            good_mask.append(images_with_lice[c])\n",
    "        # print(images_with_lice[c])\n",
    "        c += 1"
   ]
  },
  {
   "cell_type": "code",
   "execution_count": null,
   "metadata": {},
   "outputs": [],
   "source": [
    "with open(\"./good_masks.json\", \"w\") as f:\n",
    "    json.dump(good_mask, f)"
   ]
  }
 ],
 "metadata": {
  "kernelspec": {
   "display_name": "Python 3",
   "language": "python",
   "name": "python3"
  },
  "language_info": {
   "codemirror_mode": {
    "name": "ipython",
    "version": 3
   },
   "file_extension": ".py",
   "mimetype": "text/x-python",
   "name": "python",
   "nbconvert_exporter": "python",
   "pygments_lexer": "ipython3",
   "version": "3.5.2"
  }
 },
 "nbformat": 4,
 "nbformat_minor": 2
}
