{
 "cells": [
  {
   "cell_type": "markdown",
   "metadata": {},
   "source": [
    " creating using 1) the bboxes deleted by gunnar 2) some random patch on the fish"
   ]
  },
  {
   "cell_type": "code",
   "execution_count": null,
   "metadata": {},
   "outputs": [],
   "source": [
    "import glob\n",
    "import json\n",
    "import numpy as np\n",
    "from tqdm import tqdm\n",
    "import cv2\n",
    "import matplotlib.pyplot as plt\n",
    "from matplotlib.patches import Rectangle\n",
    "import os"
   ]
  },
  {
   "cell_type": "code",
   "execution_count": null,
   "metadata": {},
   "outputs": [],
   "source": [
    "cogito = glob.glob(\"/root/data/lice-data/crops/blom-kjeppevikholmen/2/*/*_cogito.json\")\n",
    "print('Number of cogito annotations: {}'.format(len(cogito)))\n",
    "all_ann = glob.glob(\"/root/data/lice-data/crops/blom-kjeppevikholmen/2/*/*.json\")\n",
    "print('Number of gunnar annotations: {}'.format(len(all_ann) - len(cogito)))"
   ]
  },
  {
   "cell_type": "code",
   "execution_count": null,
   "metadata": {},
   "outputs": [],
   "source": [
    "def find_difference(cog, gun):\n",
    "    diff = []\n",
    "    for l0 in cog:\n",
    "        pos0 = l0['position']\n",
    "        l0left = pos0['left']\n",
    "        l0top = pos0['top']\n",
    "        match = False\n",
    "        for l1 in gun:\n",
    "            pos1 = l1['position']\n",
    "            l1left = pos1['left']\n",
    "            l1top = pos1['top']\n",
    "            if l1left == l0left and l1top == l0top:\n",
    "                match = True\n",
    "        if not match:\n",
    "            diff.append(l0)\n",
    "            \n",
    "    return diff"
   ]
  },
  {
   "cell_type": "code",
   "execution_count": null,
   "metadata": {},
   "outputs": [],
   "source": [
    "bad = []\n",
    "for cogann in tqdm(cogito):\n",
    "    year = cogann.split('/')[-2].split('-')[0]\n",
    "    if year != '2019':\n",
    "        continue\n",
    "    gunann = cogann.replace(\"_cogito\", \"\")\n",
    "    if not os.path.isfile(gunann):\n",
    "#         print('missing')\n",
    "        continue\n",
    "    cog = json.load(open(cogann))\n",
    "    gun = json.load(open(gunann))# ['detections']\n",
    "    if gun['detections'] is None:\n",
    "        continue\n",
    "    if cog is None:\n",
    "        continue\n",
    "    if len(cog) == 0:\n",
    "        continue\n",
    "#     if len(cog) == len(gun):\n",
    "#         print(cog)\n",
    "#         print(gun)\n",
    "    # cogito has annotated stuff but gunnar has deleted everything\n",
    "    if len(gun['detections']) > 0:\n",
    "        diff = find_difference(cog, gun['detections'])\n",
    "        bad.append((cogann, diff))\n",
    "#     if len(cog) > len(gun):\n",
    "#         for cogbox in cog:\n",
    "#             print(cogbox)\n",
    "    "
   ]
  },
  {
   "cell_type": "code",
   "execution_count": null,
   "metadata": {},
   "outputs": [],
   "source": [
    "len(bad)"
   ]
  },
  {
   "cell_type": "code",
   "execution_count": null,
   "metadata": {},
   "outputs": [],
   "source": [
    "np.sum([len(t[1]) for t in bad])"
   ]
  },
  {
   "cell_type": "code",
   "execution_count": null,
   "metadata": {},
   "outputs": [],
   "source": [
    "for b in tqdm(bad):\n",
    "    image_path = b[0].replace('_cogito.json', '.jpg')\n",
    "    name = os.path.basename(image_path)\n",
    "    image = cv2.imread(image_path)\n",
    "    for (i,lice) in enumerate(b[1]):\n",
    "        position = lice['position']\n",
    "        x1 = position['top']\n",
    "        y1 = position['left']\n",
    "        width = position['width']\n",
    "        height=position['height']\n",
    "        tosave = image[x1:x1+height, y1:y1+width, :]\n",
    "        destination = os.path.join('/root/data/lice-data/declassified/{}'.format(name.replace('.jpg', '_{}.jpg'.format(i))))\n",
    "        cv2.imwrite(destination, tosave)"
   ]
  },
  {
   "cell_type": "markdown",
   "metadata": {},
   "source": [
    "# OLD CODE"
   ]
  },
  {
   "cell_type": "code",
   "execution_count": null,
   "metadata": {},
   "outputs": [],
   "source": [
    "annotation = glob.glob(\"/root/data/lice-data/crops/blom-kjeppevikholmen/2/*/*.json\")"
   ]
  },
  {
   "cell_type": "code",
   "execution_count": null,
   "metadata": {},
   "outputs": [],
   "source": [
    "input_shape = (64, 64)\n",
    "nimage = 2000"
   ]
  },
  {
   "cell_type": "code",
   "execution_count": null,
   "metadata": {},
   "outputs": [],
   "source": [
    "random_annotations = np.random.choice(annotation, nimage, replace=False)\n",
    "c = 9900\n",
    "for path in tqdm(random_annotations):\n",
    "    ann = json.load(open(path))\n",
    "    detections = ann['detections']\n",
    "    image_path = path.replace('json', 'jpg')\n",
    "    image = cv2.imread(image_path)\n",
    "    \n",
    "#     f, ax = plt.subplots(1, figsize=(20, 10))\n",
    "#     ax.imshow(image)\n",
    "    \n",
    "    if not detections:\n",
    "        continue\n",
    "    proposal = []\n",
    "    for lice in detections:\n",
    "        location = lice['location']\n",
    "        position = lice['position']\n",
    "        x1 = position['top']\n",
    "        y1 = position['left']\n",
    "        width = position['width']\n",
    "        height = position['height']\n",
    "        \n",
    "#         rect = Rectangle((y1, x1) ,width, height,\n",
    "#                  linewidth=2, edgecolor='r', facecolor='none')\n",
    "#         ax.add_patch(rect) \n",
    "        \n",
    "        for _ in range(2):\n",
    "            delta_x = np.random.randint(0, 100)\n",
    "            delta_y = np.random.randint(0, 100)\n",
    "\n",
    "            if location == 'TOP':\n",
    "                new_x = x1 + height + delta_x\n",
    "                coin = np.random.rand()\n",
    "                if coin > 0.5:\n",
    "                    new_y = y1 + width + delta_y\n",
    "                else:\n",
    "                    new_y = y1 - input_shape[1] - delta_y\n",
    "\n",
    "            elif location == 'BOTTOM':\n",
    "                new_x = x1 - input_shape[0] - delta_x\n",
    "                coin = np.random.rand()\n",
    "                if coin > 0.5:\n",
    "                    new_y = y1 + width + delta_y\n",
    "                else:\n",
    "                    new_y = y1 - input_shape[1] - delta_y\n",
    "            \n",
    "            else:\n",
    "                continue\n",
    "                    \n",
    "#             rect = Rectangle((new_y, new_x) , 64, 64,\n",
    "#                      linewidth=2, edgecolor='blue', facecolor='none')\n",
    "#             ax.add_patch(rect)\n",
    "            \n",
    "            random_patch = image[new_x:new_x+input_shape[0], new_y:new_y+input_shape[1], :]\n",
    "            cv2.imwrite('/root/data/lice-data/random_patch/random_patch_{}.jpg'.format(c),\n",
    "                        random_patch)\n",
    "            c += 1\n",
    "            x1 = new_x\n",
    "            y1 = new_y\n",
    "            width = 64\n",
    "            height = 64\n",
    "#     plt.show()\n",
    "        \n"
   ]
  },
  {
   "cell_type": "markdown",
   "metadata": {},
   "source": [
    "### VIZ PATCHES"
   ]
  },
  {
   "cell_type": "code",
   "execution_count": null,
   "metadata": {},
   "outputs": [],
   "source": [
    "import glob\n",
    "import json\n",
    "import numpy as np\n",
    "from tqdm import tqdm\n",
    "import cv2\n",
    "import matplotlib.pyplot as plt\n",
    "from matplotlib.patches import Rectangle\n",
    "import os\n",
    "from albumentations import PadIfNeeded, HorizontalFlip, VerticalFlip, Compose, RandomRotate90"
   ]
  },
  {
   "cell_type": "code",
   "execution_count": null,
   "metadata": {},
   "outputs": [],
   "source": [
    "patches = glob.glob('/root/data/lice-data/declassified//*')"
   ]
  },
  {
   "cell_type": "code",
   "execution_count": null,
   "metadata": {},
   "outputs": [],
   "source": [
    "input_shape = [64, 64, 3]"
   ]
  },
  {
   "cell_type": "code",
   "execution_count": null,
   "metadata": {},
   "outputs": [],
   "source": [
    "def load_lice(img_path):\n",
    "    '''load lice'''\n",
    "    aug = Compose([PadIfNeeded(p=1.0, min_height=input_shape[0], min_width=input_shape[1], border_mode=0),\n",
    "               HorizontalFlip(p=0.5),\n",
    "               RandomRotate90(p=0.5)])\n",
    "    image = cv2.imread(img_path)\n",
    "    height, width, _ = image.shape\n",
    "    if height > width:\n",
    "        ratio = input_shape[0] / float(height)\n",
    "        x = cv2.resize(image, (int(width*ratio), input_shape[1]), interpolation=cv2.INTER_LINEAR)\n",
    "    else:\n",
    "        ratio = input_shape[1] / float(width)\n",
    "        x = cv2.resize(image, (input_shape[0], int(height*ratio)), interpolation=cv2.INTER_LINEAR)\n",
    "    augmented = aug(image=x)\n",
    "    x = augmented[\"image\"]\n",
    "    return x "
   ]
  },
  {
   "cell_type": "code",
   "execution_count": null,
   "metadata": {},
   "outputs": [],
   "source": [
    "print(len(patches))\n",
    "for path in tqdm(patches):\n",
    "    patch = load_lice(path)\n",
    "    if patch.shape[0] != 64 or patch.shape[1] != 64:\n",
    "        print(patch.shape)\n",
    "        print(path)"
   ]
  },
  {
   "cell_type": "code",
   "execution_count": null,
   "metadata": {},
   "outputs": [],
   "source": [
    "# c = 0\n",
    "# print(len(patches))\n",
    "# for path in tqdm(patches):\n",
    "#     patch = cv2.imread(path)\n",
    "#     if patch.shape[0] != 64 or patch.shape[1] != 64:\n",
    "#         print(patch.shape)\n",
    "#         print(path)\n",
    "#         os.remove(path)\n",
    "#     if patch is None:\n",
    "#         os.remove(path)\n",
    "#         c+=1"
   ]
  },
  {
   "cell_type": "code",
   "execution_count": null,
   "metadata": {},
   "outputs": [],
   "source": [
    "for _ in range(100):\n",
    "    path = np.random.choice(patches)\n",
    "    patch = cv2.imread(path)\n",
    "    print(path)\n",
    "    plt.imshow(patch)\n",
    "    plt.show()"
   ]
  },
  {
   "cell_type": "code",
   "execution_count": null,
   "metadata": {},
   "outputs": [],
   "source": [
    "from datetime import datetime"
   ]
  },
  {
   "cell_type": "code",
   "execution_count": null,
   "metadata": {},
   "outputs": [],
   "source": [
    "datetime.utcfromtimestamp(1543326617448/1000.0)"
   ]
  },
  {
   "cell_type": "code",
   "execution_count": null,
   "metadata": {},
   "outputs": [],
   "source": [
    "path = '/root/data/lice-data/crops/blom-kjeppevikholmen/2/2018-11-27/left_blom-kjeppevikholmen_2_1543326617448_1868_880_4096_2903.jpg'"
   ]
  },
  {
   "cell_type": "code",
   "execution_count": null,
   "metadata": {},
   "outputs": [],
   "source": [
    "plt.figure(figsize=(20, 10))\n",
    "plt.imshow(cv2.imread(path)[:700, :800])"
   ]
  },
  {
   "cell_type": "code",
   "execution_count": null,
   "metadata": {},
   "outputs": [],
   "source": [
    "left_blom-kjeppevikholmen_2_1543326617448_1868_880_4096_2903"
   ]
  },
  {
   "cell_type": "code",
   "execution_count": null,
   "metadata": {},
   "outputs": [],
   "source": []
  },
  {
   "cell_type": "code",
   "execution_count": null,
   "metadata": {},
   "outputs": [],
   "source": []
  }
 ],
 "metadata": {
  "kernelspec": {
   "display_name": "Python 3",
   "language": "python",
   "name": "python3"
  },
  "language_info": {
   "codemirror_mode": {
    "name": "ipython",
    "version": 3
   },
   "file_extension": ".py",
   "mimetype": "text/x-python",
   "name": "python",
   "nbconvert_exporter": "python",
   "pygments_lexer": "ipython3",
   "version": "3.5.2"
  }
 },
 "nbformat": 4,
 "nbformat_minor": 2
}
