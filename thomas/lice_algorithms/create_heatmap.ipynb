{
 "cells": [
  {
   "cell_type": "markdown",
   "metadata": {},
   "source": [
    "## Create heatmap from ask and using image warping\n",
    "\n",
    "1. load the masks created by the segmenter\n",
    "2. flipped the L/R ones\n",
    "3. warped the S out of them\n",
    "4. warp the lice locations\n",
    "5. Do some nice plots"
   ]
  },
  {
   "cell_type": "code",
   "execution_count": null,
   "metadata": {},
   "outputs": [],
   "source": [
    "%load_ext autoreload\n",
    "%autoreload 2"
   ]
  },
  {
   "cell_type": "code",
   "execution_count": null,
   "metadata": {},
   "outputs": [],
   "source": [
    "import glob\n",
    "import json\n",
    "import os\n",
    "from datetime import datetime\n",
    "\n",
    "import cv2\n",
    "import matplotlib.pyplot as plt\n",
    "import numpy as np\n",
    "from dipy.viz import regtools\n",
    "from keras.models import load_model\n",
    "from PIL import Image, ImageDraw\n",
    "from sqlalchemy import create_engine\n",
    "from sqlalchemy import MetaData\n",
    "from sqlalchemy import Table, select, func, and_, insert, delete, update, or_\n",
    "from tqdm import tqdm\n",
    "\n",
    "from unet import jaccard_coef_loss, jaccard_coef_int\n",
    "from warping_utils import translate_moving, register, bbox_mask\n"
   ]
  },
  {
   "cell_type": "code",
   "execution_count": null,
   "metadata": {},
   "outputs": [],
   "source": [
    "sql_credentials = json.load(open(\"/root/thomas/sqlcredentials.json\"))\n",
    "\n",
    "sql_engine = create_engine(\n",
    "    \"postgresql://{}:{}@{}:{}/{}\".format(sql_credentials[\"user\"], sql_credentials[\"password\"],\n",
    "                                         sql_credentials[\"host\"], sql_credentials[\"port\"],\n",
    "                                         sql_credentials[\"database\"]))"
   ]
  },
  {
   "cell_type": "markdown",
   "metadata": {},
   "source": [
    "1. Load the masks and get the directions"
   ]
  },
  {
   "cell_type": "code",
   "execution_count": null,
   "metadata": {},
   "outputs": [],
   "source": [
    "crops = json.load(open('/root/thomas/single_fish.json'))"
   ]
  },
  {
   "cell_type": "code",
   "execution_count": null,
   "metadata": {},
   "outputs": [],
   "source": [
    "# get the s3 keys\n",
    "keys = []\n",
    "for c in crops:\n",
    "    name = c['External ID']\n",
    "    farm, pen, ts = name.split('_')[1:4]\n",
    "    # print(name)\n",
    "    date = datetime.utcfromtimestamp(int(ts)/1000.0).date()\n",
    "    key = 'dev/{}/{}/{}/{}'.format(farm, pen, date, name)\n",
    "    keys.append(key)"
   ]
  },
  {
   "cell_type": "code",
   "execution_count": null,
   "metadata": {},
   "outputs": [],
   "source": [
    "import os \n",
    "import shutil"
   ]
  },
  {
   "cell_type": "code",
   "execution_count": null,
   "metadata": {},
   "outputs": [],
   "source": [
    "# for folder in tqdm(glob.glob('/root/data/lice-data/crops/blom-kjeppevikholmen/2/*')):\n",
    "#     penfolder = os.path.join(folder, '2')\n",
    "#     for file in glob.glob(penfolder + '/*'):\n",
    "# #         print(file)\n",
    "#         new_path = '/'.join(file.split('/')[0:8] + file.split('/')[9:])\n",
    "# #         print(new_path)\n",
    "#         shutil.copy(file, new_path)\n",
    "#     shutil.rmtree(penfolder)"
   ]
  },
  {
   "cell_type": "code",
   "execution_count": null,
   "metadata": {},
   "outputs": [],
   "source": [
    "# query the directions\n",
    "metadata = MetaData()\n",
    "fd = Table('lati_fish_detections', metadata, autoload=True, autoload_with=sql_engine)\n",
    "fdla = Table('lati_fish_detections_lice_annotations_reconciled', metadata, autoload=True, autoload_with=sql_engine)\n",
    "\n",
    "query = select([fd.c.image_key, \n",
    "                fdla.c.direction, \n",
    "                fdla.c.lice_bbox_list, \n",
    "                fd.c.image_width_px, \n",
    "                fd.c.image_height_px]) \\\n",
    "    .select_from(fdla.join(fd, fdla.c.lati_fish_detections_id == fd.c.id)) \\\n",
    "    .where(fd.c.image_key.in_(keys))"
   ]
  },
  {
   "cell_type": "code",
   "execution_count": null,
   "metadata": {},
   "outputs": [],
   "source": [
    "# get the fish direction + lice info\n",
    "connection = sql_engine.connect()\n",
    "q = connection.execute(query)\n",
    "infodic = {}\n",
    "for result in q:\n",
    "    key = result[0]\n",
    "    infodic[os.path.basename(key)] = {'local_path': key.replace('dev', '/root/data/lice-data/crops'),\n",
    "                                      'direction': result[1], \n",
    "                                      'lice': result[2],\n",
    "                                      'width': result[3],\n",
    "                                      'height': result[4]}"
   ]
  },
  {
   "cell_type": "markdown",
   "metadata": {},
   "source": [
    "2. main loop"
   ]
  },
  {
   "cell_type": "code",
   "execution_count": null,
   "metadata": {},
   "outputs": [],
   "source": [
    "input_shape = (768, 256)"
   ]
  },
  {
   "cell_type": "code",
   "execution_count": null,
   "metadata": {},
   "outputs": [],
   "source": [
    "def create_mask(annotation):\n",
    "    name = annotation['External ID']\n",
    "    width = infodic[name]['width']\n",
    "    height = infodic[name]['height']\n",
    "    \n",
    "    label = annotation['Label']['Salmon'][0]['geometry']\n",
    "    polygon = [(k['x'], k['y']) for k in label]\n",
    "    \n",
    "    img = Image.new('L', (width, height), 0)\n",
    "    ImageDraw.Draw(img).polygon(polygon, outline=1, fill=1)\n",
    "    mask = np.array(img)\n",
    "    return mask"
   ]
  },
  {
   "cell_type": "code",
   "execution_count": null,
   "metadata": {},
   "outputs": [],
   "source": [
    "# example = infodic['left_blom-kjeppevikholmen_2_1543838255793_203_0_4054_1132.jpg']\n",
    "# image = cv2.imread(example['local_path'])\n",
    "# lices = example['lice']\n",
    "# heatmap = np.zeros_like(image)\n",
    "# f, ax = plt.subplots(1, figsize=(20, 10))\n",
    "# ax.imshow(image)\n",
    "# for l in lices:\n",
    "#     print(l)\n",
    "#     position = l['position']\n",
    "#     x1 = position['top']\n",
    "#     y1 = position['left']\n",
    "#     width = position['width']\n",
    "#     height=position['height']\n",
    "#     heatmap[x1:x1+height, y1:y1+width, :] = 1\n",
    "#     rect = Rectangle((y1, x1) ,width, height,\n",
    "#                      linewidth=2, edgecolor='r', facecolor='none')\n",
    "\n",
    "#     ax.add_patch(rect)\n",
    "# plt.show()"
   ]
  },
  {
   "cell_type": "code",
   "execution_count": null,
   "metadata": {},
   "outputs": [],
   "source": [
    "lice_maps = []\n",
    "warped_masks = []\n",
    "\n",
    "for (i, crop) in tqdm(enumerate(crops)):\n",
    "    print(i)\n",
    "    name = crop['External ID']\n",
    "    direction = infodic[name]['direction']\n",
    "    if direction is None:\n",
    "        continue\n",
    "    try:\n",
    "        mask = create_mask(crop)\n",
    "    except: \n",
    "        print('Mask does not exist')\n",
    "        continue\n",
    "    # load image\n",
    "    # image = cv2.imread(infodic[name]['local_path'])\n",
    "    if direction == 'RIGHT':\n",
    "        # image = cv2.flip(image, 1)\n",
    "        mask = cv2.flip(mask, 1)\n",
    "        \n",
    "    # resize mask\n",
    "    lice_map = bbox_mask(mask, infodic[name]['lice'])\n",
    "    mask = cv2.resize(mask, input_shape)\n",
    "    lice_map = cv2.resize(lice_map, input_shape)\n",
    "\n",
    "#     plt.imshow(mask)\n",
    "#     plt.show()\n",
    "    if i == 0:\n",
    "        static_mask = mask\n",
    "        lice_maps.append(lice_map)\n",
    "    else:\n",
    "        moving_mask = mask\n",
    "        # no need for translation\n",
    "        # moving_translated, translation_vector = translate_moving(static_mask, moving_mask)\n",
    "        # registration\n",
    "        mapping = register(static_mask, moving_mask)\n",
    "        # forward\n",
    "        warped_moving = mapping.transform(moving_mask, 'linear')\n",
    "        warped_lice_map = mapping.transform(lice_map, 'linear')\n",
    "        lice_maps.append(warped_lice_map)\n",
    "        warped_masks.append(warped_moving)"
   ]
  },
  {
   "cell_type": "code",
   "execution_count": null,
   "metadata": {},
   "outputs": [],
   "source": [
    "heatmap = np.stack(lice_maps, -1)\n",
    "mean_heatmap = np.mean(heatmap, -1)"
   ]
  },
  {
   "cell_type": "code",
   "execution_count": null,
   "metadata": {},
   "outputs": [],
   "source": [
    "plt.figure(figsize=(20, 10))\n",
    "plt.imshow(mean_heatmap)\n",
    "plt.imshow(static_mask, alpha=0.5)\n",
    "plt.axis('off')\n",
    "plt.show()"
   ]
  },
  {
   "cell_type": "code",
   "execution_count": null,
   "metadata": {},
   "outputs": [],
   "source": []
  }
 ],
 "metadata": {
  "kernelspec": {
   "display_name": "Python 3",
   "language": "python",
   "name": "python3"
  },
  "language_info": {
   "codemirror_mode": {
    "name": "ipython",
    "version": 3
   },
   "file_extension": ".py",
   "mimetype": "text/x-python",
   "name": "python",
   "nbconvert_exporter": "python",
   "pygments_lexer": "ipython3"
  }
 },
 "nbformat": 4,
 "nbformat_minor": 2
}
