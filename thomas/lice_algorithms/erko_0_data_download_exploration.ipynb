{
 "cells": [
  {
   "cell_type": "code",
   "execution_count": null,
   "metadata": {},
   "outputs": [],
   "source": [
    "import cv2 \n",
    "import glob\n",
    "import json\n",
    "import os\n",
    "import shutil\n",
    "\n",
    "import matplotlib.pyplot as plt\n",
    "import matplotlib.patches as patches\n",
    "import numpy as np\n",
    "from PIL import Image"
   ]
  },
  {
   "cell_type": "code",
   "execution_count": null,
   "metadata": {},
   "outputs": [],
   "source": [
    "annotations = json.load(open('/root/data/lice/lice_erko/lice_annotations_0913.json'))\n",
    "print(\"{} annotations found\".format(len(annotations)))"
   ]
  },
  {
   "cell_type": "code",
   "execution_count": null,
   "metadata": {},
   "outputs": [],
   "source": [
    "annotations_lice = [a for a in annotations if 'Lice' in a['Label']]\n",
    "print(\"{} annotations with lice found\".format(len(annotations_lice)))"
   ]
  },
  {
   "cell_type": "markdown",
   "metadata": {},
   "source": [
    "# create txt file for download"
   ]
  },
  {
   "cell_type": "code",
   "execution_count": null,
   "metadata": {},
   "outputs": [],
   "source": [
    "with open('/root/data/lice/lice_erko/masks_to_download.txt', 'w') as f:\n",
    "    for lice in annotations_lice:\n",
    "        f.write(lice['Labeled Data'] + '\\n')"
   ]
  },
  {
   "cell_type": "code",
   "execution_count": null,
   "metadata": {},
   "outputs": [],
   "source": [
    "# run wget -i in the corresponding folder"
   ]
  },
  {
   "cell_type": "markdown",
   "metadata": {},
   "source": [
    "# Rename files"
   ]
  },
  {
   "cell_type": "code",
   "execution_count": null,
   "metadata": {},
   "outputs": [],
   "source": [
    "import glob"
   ]
  },
  {
   "cell_type": "code",
   "execution_count": null,
   "metadata": {},
   "outputs": [],
   "source": [
    "images_path = glob.glob('/root/data/lice/lice_erko/crops/cjhk*')"
   ]
  },
  {
   "cell_type": "code",
   "execution_count": null,
   "metadata": {},
   "outputs": [],
   "source": [
    "for image_path in images_path:\n",
    "    new_path = '/root/data/lice/lice_erko/crops/' + image_path.split('%2F')[-1].split('?')[0]\n",
    "    print(new_path)\n",
    "    os.rename(image_path, new_path)"
   ]
  },
  {
   "cell_type": "code",
   "execution_count": null,
   "metadata": {},
   "outputs": [],
   "source": []
  },
  {
   "cell_type": "markdown",
   "metadata": {},
   "source": [
    "# display"
   ]
  },
  {
   "cell_type": "code",
   "execution_count": null,
   "metadata": {},
   "outputs": [],
   "source": [
    "# randomly select 20 fish and plot them\n",
    "random_annotations = np.random.choice(annotations_lice, 20)\n",
    "for ran in random_annotations:\n",
    "  image_path = os.path.join('/root/data/lice/lice_erko/crops/', ran['Labeled Data'].split('%2F')[-1].split('?')[0])\n",
    "  im = Image.open(image_path)\n",
    "  print(image_path)\n",
    "  fish_width, fish_height = im.size\n",
    "\n",
    "  f, ax = plt.subplots(1, figsize=(20, 10))\n",
    "  for label in ran['Label']['Lice']:\n",
    "    xmin = min([k['x'] for k in label])\n",
    "    xmax = max([k['x'] for k in label])\n",
    "    \n",
    "    ymin = min([k['y'] for k in label])\n",
    "    ymax = max([k['y'] for k in label])\n",
    "    \n",
    "    height = ymax-ymin\n",
    "    width = xmax-xmin\n",
    "    \n",
    "    rect = patches.Rectangle((xmin, fish_height-ymin-height), width, height, edgecolor='r', linewidth=2, facecolor='none')\n",
    "    ax.add_patch(rect)\n",
    "\n",
    "    \n",
    "  ax.imshow(im)\n",
    "  plt.show()\n",
    "  print('#'*100)"
   ]
  },
  {
   "cell_type": "code",
   "execution_count": null,
   "metadata": {},
   "outputs": [],
   "source": []
  }
 ],
 "metadata": {
  "kernelspec": {
   "display_name": "Python 2",
   "language": "python",
   "name": "python2"
  },
  "language_info": {
   "codemirror_mode": {
    "name": "ipython",
    "version": 2
   },
   "file_extension": ".py",
   "mimetype": "text/x-python",
   "name": "python",
   "nbconvert_exporter": "python",
   "pygments_lexer": "ipython2",
   "version": "2.7.12"
  }
 },
 "nbformat": 4,
 "nbformat_minor": 2
}
