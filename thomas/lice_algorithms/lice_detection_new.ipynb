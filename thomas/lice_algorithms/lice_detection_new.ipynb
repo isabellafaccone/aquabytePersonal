{
 "cells": [
  {
   "cell_type": "markdown",
   "metadata": {},
   "source": [
    "# eda"
   ]
  },
  {
   "cell_type": "code",
   "execution_count": null,
   "metadata": {},
   "outputs": [],
   "source": [
    "import matplotlib.pyplot as plt\n",
    "import glob\n",
    "import numpy as np\n",
    "import skimage.io as io\n",
    "import json\n",
    "import matplotlib.patches as patches\n",
    "import cv2"
   ]
  },
  {
   "cell_type": "code",
   "execution_count": null,
   "metadata": {},
   "outputs": [],
   "source": [
    "all_images = glob.glob(\"/root/data/lice-data/crops/blom-kjeppevikholmen/*/*/*.jpg\")\n",
    "print(len(all_images))"
   ]
  },
  {
   "cell_type": "code",
   "execution_count": null,
   "metadata": {},
   "outputs": [],
   "source": [
    "for i in range(10):\n",
    "    # pick a random image\n",
    "    image_path = np.random.choice(all_images)\n",
    "    random_image = io.imread(image_path)\n",
    "    random_json = json.load(open(image_path.replace(\"jpg\", \"json\")))\n",
    "    im_height, im_width, _ = random_image.shape\n",
    "\n",
    "    new_shape = (256, 768, 3)\n",
    "    # new_shape = random_image.shape\n",
    "    xratio = new_shape[0] / im_height\n",
    "    yratio = new_shape[1] / im_width\n",
    "#     print(xratio, yratio)\n",
    "\n",
    "    f ,ax = plt.subplots(1, figsize=(20, 10))\n",
    "    reshaped = cv2.resize(random_image, (new_shape[1] ,new_shape[0]), interpolation=cv2.INTER_LINEAR)\n",
    "    ax.imshow(reshaped)\n",
    "    for detection in random_json[\"detections\"]:\n",
    "        y, x, width, height = detection[\"position\"][\"left\"], detection[\"position\"][\"top\"], detection[\"position\"][\"width\"], detection[\"position\"][\"height\"]\n",
    "        new_x = x*xratio\n",
    "        new_y = y*yratio\n",
    "        new_width = width*yratio\n",
    "        new_height = height*xratio\n",
    "        rec = patches.Rectangle((new_y, new_x),\n",
    "                                new_width, \n",
    "                                new_height,\n",
    "                                facecolor=\"none\",\n",
    "                                edgecolor=\"r\",\n",
    "                                linewidth=2)\n",
    "        ax.add_patch(rec)\n",
    "    plt.axis(\"off\")\n",
    "    plt.show()\n",
    "    break"
   ]
  },
  {
   "cell_type": "code",
   "execution_count": null,
   "metadata": {},
   "outputs": [],
   "source": [
    "random_json"
   ]
  },
  {
   "cell_type": "code",
   "execution_count": null,
   "metadata": {},
   "outputs": [],
   "source": [
    "reshaped.shape"
   ]
  },
  {
   "cell_type": "code",
   "execution_count": null,
   "metadata": {},
   "outputs": [],
   "source": [
    "rec.get_xy()"
   ]
  },
  {
   "cell_type": "code",
   "execution_count": null,
   "metadata": {},
   "outputs": [],
   "source": [
    "import json"
   ]
  },
  {
   "cell_type": "code",
   "execution_count": null,
   "metadata": {},
   "outputs": [],
   "source": [
    "# # open all json\n",
    "# heights = []\n",
    "# widths = []\n",
    "# for img_path in all_images:\n",
    "#     json_path = img_path.replace(\"jpg\", \"json\")\n",
    "#     detections = json.load(open(json_path))\n",
    "#     for detection in detections[\"detections\"]:\n",
    "#         heights.append(detection[\"position\"][\"height\"])\n",
    "#         widths.append(detection[\"position\"][\"width\"])"
   ]
  },
  {
   "cell_type": "code",
   "execution_count": null,
   "metadata": {},
   "outputs": [],
   "source": [
    "plt.hist(heights)\n",
    "plt.show()"
   ]
  },
  {
   "cell_type": "code",
   "execution_count": null,
   "metadata": {},
   "outputs": [],
   "source": [
    "plt.hist(widths)\n",
    "plt.show()"
   ]
  },
  {
   "cell_type": "markdown",
   "metadata": {},
   "source": [
    "# experiment with unet"
   ]
  },
  {
   "cell_type": "markdown",
   "metadata": {},
   "source": [
    "### load generator"
   ]
  },
  {
   "cell_type": "code",
   "execution_count": null,
   "metadata": {},
   "outputs": [],
   "source": [
    "import random\n",
    "import glob\n",
    "import numpy as np\n",
    "import skimage.io as io\n",
    "import cv2\n",
    "import json\n",
    "import matplotlib.pyplot as plt\n",
    "random.seed(148)"
   ]
  },
  {
   "cell_type": "code",
   "execution_count": null,
   "metadata": {},
   "outputs": [],
   "source": [
    "all_images = glob.glob(\"/root/data/lice-data/crops/blom-kjeppevikholmen/*/*/*.jpg\")\n",
    "print(len(all_images))\n",
    "random.shuffle(all_images)\n",
    "cutoff = int(0.8*len(all_images))"
   ]
  },
  {
   "cell_type": "code",
   "execution_count": null,
   "metadata": {},
   "outputs": [],
   "source": [
    "train_images = all_images[:cutoff]\n",
    "val_images = all_images[cutoff:]\n",
    "input_shape = [256, 768, 3]\n",
    "batch_size = 8"
   ]
  },
  {
   "cell_type": "code",
   "execution_count": null,
   "metadata": {},
   "outputs": [],
   "source": [
    "def get_heatmap(random_json, crop_shape, new_shape):\n",
    "    xratio = new_shape[0] / crop_shape[0]\n",
    "    yratio = new_shape[1] / crop_shape[1]\n",
    "    \n",
    "    heatmap = np.zeros((new_shape[0], new_shape[1]))\n",
    "    for detection in random_json[\"detections\"]:\n",
    "        y, x, width, height = detection[\"position\"][\"left\"], detection[\"position\"][\"top\"], detection[\"position\"][\"width\"], detection[\"position\"][\"height\"]\n",
    "        new_x = int(x*xratio)\n",
    "        new_y = int(y*yratio)\n",
    "        new_width = int(width*yratio)\n",
    "        new_height = int(height*xratio)\n",
    "        \n",
    "        new_center_x = new_x + int(new_height / 2.0)\n",
    "        new_center_y = new_y + int(new_width / 2.0)\n",
    "        heatmap[new_x:new_x+new_height, new_y:new_y+new_width] = 0.8\n",
    "        heatmap[new_center_x, new_center_y] = 1.0\n",
    "        \n",
    "    return np.expand_dims(heatmap, axis=-1)"
   ]
  },
  {
   "cell_type": "code",
   "execution_count": null,
   "metadata": {},
   "outputs": [],
   "source": [
    "# heatmap = get_heatmap(random_json, random_image.shape, new_shape)"
   ]
  },
  {
   "cell_type": "code",
   "execution_count": null,
   "metadata": {},
   "outputs": [],
   "source": [
    "def generator(images, BATCH_SIZE, input_shape):\n",
    "    while True:\n",
    "        x_batch = np.empty((BATCH_SIZE, input_shape[0], input_shape[1], input_shape[2]), dtype=np.uint8)\n",
    "        y_batch = np.empty((BATCH_SIZE, input_shape[0], input_shape[1], 1))\n",
    "        for i in range(BATCH_SIZE):\n",
    "            random_path = np.random.choice(images)\n",
    "            random_image = io.imread(random_path)\n",
    "            random_json = json.load(open(random_path.replace(\"jpg\", \"json\")))\n",
    "            heatmap = get_heatmap(random_json, random_image.shape, input_shape)\n",
    "            reshaped = cv2.resize(random_image, (input_shape[1] ,input_shape[0]), interpolation=cv2.INTER_LINEAR)\n",
    "            x_batch[i, ...] = reshaped\n",
    "            y_batch[i, ...] = heatmap\n",
    "            \n",
    "        yield x_batch, y_batch"
   ]
  },
  {
   "cell_type": "code",
   "execution_count": null,
   "metadata": {},
   "outputs": [],
   "source": [
    "train_gen = generator(train_images, batch_size, input_shape)\n",
    "val_gen = generator(val_images, batch_size, input_shape)"
   ]
  },
  {
   "cell_type": "code",
   "execution_count": null,
   "metadata": {},
   "outputs": [],
   "source": [
    "X, Y = next(train_gen)"
   ]
  },
  {
   "cell_type": "code",
   "execution_count": null,
   "metadata": {},
   "outputs": [],
   "source": [
    "for i in range(batch_size):\n",
    "    plt.figure(figsize=(20, 10))\n",
    "    plt.imshow(X[i, ...])\n",
    "    plt.imshow(Y[i,...].squeeze(), alpha=0.5)\n",
    "    plt.colorbar()\n",
    "    plt.show()"
   ]
  },
  {
   "cell_type": "markdown",
   "metadata": {},
   "source": [
    "### load model"
   ]
  },
  {
   "cell_type": "code",
   "execution_count": null,
   "metadata": {},
   "outputs": [],
   "source": [
    "from unet import get_unet\n",
    "import os\n",
    "from keras.optimizers import Adam"
   ]
  },
  {
   "cell_type": "code",
   "execution_count": null,
   "metadata": {},
   "outputs": [],
   "source": [
    "os.environ[\"CUDA_VISIBLE_DEVICES\"] = \"1\""
   ]
  },
  {
   "cell_type": "code",
   "execution_count": null,
   "metadata": {},
   "outputs": [],
   "source": [
    "model = get_unet(3, 256, 768, classes=1)"
   ]
  },
  {
   "cell_type": "code",
   "execution_count": null,
   "metadata": {},
   "outputs": [],
   "source": [
    "lr=0.001\n",
    "adam = Adam(lr=lr)\n",
    "model.compile(adam, loss=\"binary_crossentropy\", metrics=['binary_crossentropy'])"
   ]
  },
  {
   "cell_type": "markdown",
   "metadata": {},
   "source": [
    "### training"
   ]
  },
  {
   "cell_type": "code",
   "execution_count": null,
   "metadata": {},
   "outputs": [],
   "source": [
    "# # start training# start \n",
    "# history = model.fit_generator(\n",
    "#         generator=train_gen,\n",
    "#         steps_per_epoch=len(train_images) // batch_size,\n",
    "#         epochs=10,\n",
    "#         verbose=1,\n",
    "#         validation_data= val_gen,\n",
    "#         validation_steps= len(val_images) // batch_size)"
   ]
  },
  {
   "cell_type": "code",
   "execution_count": null,
   "metadata": {},
   "outputs": [],
   "source": [
    "model.save(\"/root/data/models/lice/lice_heatmap.h5\")"
   ]
  },
  {
   "cell_type": "markdown",
   "metadata": {},
   "source": [
    "### test "
   ]
  },
  {
   "cell_type": "code",
   "execution_count": null,
   "metadata": {},
   "outputs": [],
   "source": [
    "from keras.models import load_model"
   ]
  },
  {
   "cell_type": "code",
   "execution_count": null,
   "metadata": {},
   "outputs": [],
   "source": [
    "model = load_model(\"/root/data/models/lice/lice_heatmap.h5\")"
   ]
  },
  {
   "cell_type": "code",
   "execution_count": null,
   "metadata": {},
   "outputs": [],
   "source": [
    "new_shape = (256, 768, 3)"
   ]
  },
  {
   "cell_type": "code",
   "execution_count": null,
   "metadata": {},
   "outputs": [],
   "source": [
    "X, Y = next(val_gen)"
   ]
  },
  {
   "cell_type": "code",
   "execution_count": null,
   "metadata": {},
   "outputs": [],
   "source": [
    "Y_pred = model.predict_on_batch(X)"
   ]
  },
  {
   "cell_type": "code",
   "execution_count": null,
   "metadata": {},
   "outputs": [],
   "source": [
    "for i in range(batch_size):\n",
    "    plt.figure(figsize=(20, 10))\n",
    "    plt.imshow(X[i, ...])\n",
    "    plt.imshow(Y_pred[i, ...].squeeze(), alpha=0.5)\n",
    "    plt.axis('off')\n",
    "    plt.show()\n",
    "    plt.figure(figsize=(20, 10))\n",
    "    plt.imshow(X[i, ...])\n",
    "    plt.imshow(Y[i, ...].squeeze(), alpha=0.5)\n",
    "    plt.show()\n",
    "    print(\"#\"*50)"
   ]
  },
  {
   "cell_type": "markdown",
   "metadata": {},
   "source": [
    "### more viz full rez"
   ]
  },
  {
   "cell_type": "code",
   "execution_count": null,
   "metadata": {},
   "outputs": [],
   "source": [
    "random_image = np.random.choice(val_images)\n",
    "image = io.imread(random_image)\n",
    "random_json = json.load(open(random_image.replace(\"jpg\", \"json\")))\n",
    "print(len(random_json[\"detections\"]))\n",
    "crop_shape = image.shape\n",
    "xratio = new_shape[0] / crop_shape[0]\n",
    "yratio = new_shape[1] / crop_shape[1]\n",
    "X = cv2.resize(image, (new_shape[1] ,new_shape[0]), interpolation=cv2.INTER_LINEAR)\n",
    "y_pred = model.predict_on_batch(np.expand_dims(X, axis=0))\n",
    "y_pred_full = cv2.resize(y_pred.squeeze(), (crop_shape[1], crop_shape[0]), interpolation=cv2.INTER_LINEAR)"
   ]
  },
  {
   "cell_type": "code",
   "execution_count": null,
   "metadata": {},
   "outputs": [],
   "source": [
    "f, ax = plt.subplots(2, 1, figsize=(20, 20))\n",
    "ax[0].imshow(image)\n",
    "ax[0].axis(\"off\")\n",
    "ax[1].imshow(image)\n",
    "ax[1].imshow(y_pred_full>0.1, alpha=0.5)\n",
    "for detection in random_json[\"detections\"]:\n",
    "    y, x, width, height = detection[\"position\"][\"left\"], detection[\"position\"][\"top\"], detection[\"position\"][\"width\"], detection[\"position\"][\"height\"]\n",
    "    rec = patches.Rectangle((y, x),\n",
    "                            width, \n",
    "                            height,\n",
    "                            facecolor=\"none\",\n",
    "                            edgecolor=\"r\",\n",
    "                            linewidth=2)\n",
    "    ax[1].add_patch(rec)\n",
    "# ax[1].axis(\"off\")\n",
    "# plt.colorbar()\n",
    "plt.show()"
   ]
  },
  {
   "cell_type": "code",
   "execution_count": null,
   "metadata": {},
   "outputs": [],
   "source": [
    "from skimage.measure import label\n",
    "from scipy import ndimage"
   ]
  },
  {
   "cell_type": "code",
   "execution_count": null,
   "metadata": {},
   "outputs": [],
   "source": [
    "test = y_pred_full>0.1\n",
    "# kernel = np.ones((11, 11),np.uint8)\n",
    "# test = cv2.erode(np.array(test, dtype=np.uint8), kernel)\n",
    "labels = label(test)"
   ]
  },
  {
   "cell_type": "code",
   "execution_count": null,
   "metadata": {},
   "outputs": [],
   "source": [
    "k = ndimage.label(test)"
   ]
  },
  {
   "cell_type": "code",
   "execution_count": null,
   "metadata": {},
   "outputs": [],
   "source": [
    "tile = 128"
   ]
  },
  {
   "cell_type": "code",
   "execution_count": null,
   "metadata": {},
   "outputs": [],
   "source": [
    "for i in range(k[1]):\n",
    "    if i == 0:\n",
    "        continue\n",
    "    tmp = k[0] == i\n",
    "    x, y = np.nonzero(tmp)\n",
    "    centerx = int(np.mean(x))\n",
    "    centery = int(np.mean(y))\n",
    "    print(centerx, centery)\n",
    "    lice_centered_crop = image[centerx-tile:centerx+tile, centery-tile:centery+tile, :]\n",
    "    plt.imshow(lice_centered_crop)\n",
    "    plt.show()\n",
    "#     plt.imshow(cv2.resize(lice_centered_crop, (512, 512)))\n",
    "#     plt.show()"
   ]
  },
  {
   "cell_type": "code",
   "execution_count": null,
   "metadata": {},
   "outputs": [],
   "source": [
    "for lab in np.unique(labels):\n",
    "    tmp = test == lab\n",
    "    plt.imshow(tmp[0:300, 1000:2000])\n",
    "    plt.show()"
   ]
  },
  {
   "cell_type": "markdown",
   "metadata": {},
   "source": [
    "### recall"
   ]
  },
  {
   "cell_type": "code",
   "execution_count": null,
   "metadata": {},
   "outputs": [],
   "source": [
    "from tqdm import tqdm"
   ]
  },
  {
   "cell_type": "code",
   "execution_count": null,
   "metadata": {},
   "outputs": [],
   "source": [
    "ratios = []\n",
    "for random_image in tqdm(val_images):\n",
    "    # load the image and pred\n",
    "    image = io.imread(random_image)\n",
    "    random_json = json.load(open(random_image.replace(\"jpg\", \"json\")))\n",
    "    # print(len(random_json[\"detections\"]))\n",
    "    crop_shape = image.shape\n",
    "    xratio = new_shape[0] / crop_shape[0]\n",
    "    yratio = new_shape[1] / crop_shape[1]\n",
    "    X = cv2.resize(image, (new_shape[1] ,new_shape[0]), interpolation=cv2.INTER_LINEAR)\n",
    "    y_pred = model.predict_on_batch(np.expand_dims(X, axis=0))\n",
    "    y_pred_full = cv2.resize(y_pred.squeeze(), (crop_shape[1], crop_shape[0]), interpolation=cv2.INTER_LINEAR)\n",
    "    \n",
    "    # compare detections \n",
    "    total_lice = len(random_json[\"detections\"])\n",
    "    detected = 0\n",
    "    for detection in random_json[\"detections\"]:\n",
    "        y, x, width, height = detection[\"position\"][\"left\"], detection[\"position\"][\"top\"], detection[\"position\"][\"width\"], detection[\"position\"][\"height\"]\n",
    "        if np.max(y_pred_full[x:x+height, y:y+width]) > 0.1:\n",
    "            detected += 1\n",
    "    ratios.append(detected / float(total_lice))"
   ]
  },
  {
   "cell_type": "code",
   "execution_count": null,
   "metadata": {},
   "outputs": [],
   "source": [
    "np.mean(ratios)"
   ]
  },
  {
   "cell_type": "code",
   "execution_count": null,
   "metadata": {},
   "outputs": [],
   "source": []
  },
  {
   "cell_type": "code",
   "execution_count": null,
   "metadata": {},
   "outputs": [],
   "source": []
  },
  {
   "cell_type": "code",
   "execution_count": null,
   "metadata": {},
   "outputs": [],
   "source": [
    "y_pred_full[y:y+width, x:x+height]"
   ]
  },
  {
   "cell_type": "code",
   "execution_count": null,
   "metadata": {},
   "outputs": [],
   "source": [
    "x,y,width, height"
   ]
  },
  {
   "cell_type": "code",
   "execution_count": null,
   "metadata": {},
   "outputs": [],
   "source": [
    "image.shape"
   ]
  },
  {
   "cell_type": "code",
   "execution_count": null,
   "metadata": {},
   "outputs": [],
   "source": [
    "y_pred_full.shape"
   ]
  },
  {
   "cell_type": "code",
   "execution_count": null,
   "metadata": {},
   "outputs": [],
   "source": []
  }
 ],
 "metadata": {
  "kernelspec": {
   "display_name": "Python 3",
   "language": "python",
   "name": "python3"
  },
  "language_info": {
   "codemirror_mode": {
    "name": "ipython",
    "version": 3
   },
   "file_extension": ".py",
   "mimetype": "text/x-python",
   "name": "python",
   "nbconvert_exporter": "python",
   "pygments_lexer": "ipython3",
   "version": "3.5.2"
  }
 },
 "nbformat": 4,
 "nbformat_minor": 2
}
