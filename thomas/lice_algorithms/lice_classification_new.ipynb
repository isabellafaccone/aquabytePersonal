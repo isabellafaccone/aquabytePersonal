{
 "cells": [
  {
   "cell_type": "markdown",
   "metadata": {},
   "source": [
    "# images"
   ]
  },
  {
   "cell_type": "code",
   "execution_count": null,
   "metadata": {},
   "outputs": [],
   "source": [
    "import glob\n",
    "from collections import Counter"
   ]
  },
  {
   "cell_type": "code",
   "execution_count": null,
   "metadata": {},
   "outputs": [],
   "source": [
    "images = glob.glob(\"/root/data/lice-data/lice_only/*/*/*/*/*.jpg\")\n",
    "images += glob.glob('/root/data/lice-data/declassified/*')"
   ]
  },
  {
   "cell_type": "code",
   "execution_count": null,
   "metadata": {},
   "outputs": [],
   "source": [
    "print(\"total number of images: {}\".format(len(images)))"
   ]
  },
  {
   "cell_type": "code",
   "execution_count": null,
   "metadata": {},
   "outputs": [],
   "source": [
    "count = Counter([img.split('/')[-2] for img in images])\n",
    "print(count)"
   ]
  },
  {
   "cell_type": "markdown",
   "metadata": {},
   "source": [
    "# generator"
   ]
  },
  {
   "cell_type": "code",
   "execution_count": null,
   "metadata": {},
   "outputs": [],
   "source": [
    "import keras"
   ]
  },
  {
   "cell_type": "code",
   "execution_count": null,
   "metadata": {},
   "outputs": [],
   "source": [
    "import glob\n",
    "import json\n",
    "import os\n",
    "\n",
    "import cv2\n",
    "import matplotlib.pyplot as plt\n",
    "import numpy as np\n",
    "import skimage.io as io\n",
    "from albumentations import PadIfNeeded, HorizontalFlip, VerticalFlip, Compose, RandomRotate90\n",
    "from keras.callbacks import Callback\n",
    "\n",
    "\n",
    "CLASS_MAP = {\"ADULT_FEMALE\": 0,\n",
    "             \"FIXED_MOVING\": 1,\n",
    "             \"GARBAGE\": 2}"
   ]
  },
  {
   "cell_type": "code",
   "execution_count": null,
   "metadata": {},
   "outputs": [],
   "source": [
    "def get_data_dict(data):\n",
    "    \"\"\"quick hack for uniform sampling during training\"\"\"\n",
    "    classdict = {}\n",
    "    for d in data:\n",
    "        liceclass = d.split('/')[-2]\n",
    "        if liceclass == \"UNSURE\":\n",
    "            continue\n",
    "        if liceclass == \"MOVING\" or liceclass == \"FIXED\":\n",
    "            liceclass = \"FIXED_MOVING\"\n",
    "        if liceclass not in classdict:\n",
    "            classdict[liceclass] = []\n",
    "        classdict[liceclass].append(d)\n",
    "    return classdict"
   ]
  },
  {
   "cell_type": "markdown",
   "metadata": {},
   "source": [
    "# load model"
   ]
  },
  {
   "cell_type": "code",
   "execution_count": null,
   "metadata": {},
   "outputs": [],
   "source": [
    "import os"
   ]
  },
  {
   "cell_type": "code",
   "execution_count": null,
   "metadata": {},
   "outputs": [],
   "source": [
    "!nvidia-smi"
   ]
  },
  {
   "cell_type": "code",
   "execution_count": null,
   "metadata": {},
   "outputs": [],
   "source": [
    "os.environ[\"CUDA_VISIBLE_DEVICES\"] = \"0\""
   ]
  },
  {
   "cell_type": "code",
   "execution_count": null,
   "metadata": {},
   "outputs": [],
   "source": [
    "import random\n",
    "from collections import Counter\n",
    "from tqdm import tqdm"
   ]
  },
  {
   "cell_type": "code",
   "execution_count": null,
   "metadata": {},
   "outputs": [],
   "source": [
    "random.seed(258)"
   ]
  },
  {
   "cell_type": "code",
   "execution_count": null,
   "metadata": {},
   "outputs": [],
   "source": [
    "batch_size = 32\n",
    "input_shape = [64, 64, 3]\n",
    "random.shuffle(images)\n",
    "cutoff = int(0.8*len(images))"
   ]
  },
  {
   "cell_type": "code",
   "execution_count": null,
   "metadata": {},
   "outputs": [],
   "source": [
    "def load_lice(img_path):\n",
    "    '''load lice'''\n",
    "    aug = Compose([PadIfNeeded(p=1.0, min_height=input_shape[0], min_width=input_shape[1], border_mode=0),\n",
    "               HorizontalFlip(p=0.5),\n",
    "               RandomRotate90(p=0.5)])\n",
    "    image = cv2.imread(img_path)\n",
    "    height, width, _ = image.shape\n",
    "    if height > width:\n",
    "        ratio = input_shape[0] / float(height)\n",
    "        x = cv2.resize(image, (int(width*ratio), input_shape[1]), interpolation=cv2.INTER_LINEAR)\n",
    "    else:\n",
    "        ratio = input_shape[1] / float(width)\n",
    "        x = cv2.resize(image, (input_shape[0], int(height*ratio)), interpolation=cv2.INTER_LINEAR)\n",
    "    augmented = aug(image=x)\n",
    "    x = augmented[\"image\"]\n",
    "    return x "
   ]
  },
  {
   "cell_type": "code",
   "execution_count": null,
   "metadata": {},
   "outputs": [],
   "source": [
    "# def load_random_patch(ppath):\n",
    "#     '''crop to mimic the adult female lice and add some augmentation'''\n",
    "#     patch = cv2.imread(ppath) #64x64 patch   \n",
    "#     aug = Compose([PadIfNeeded(p=1.0, min_height=input_shape[0], min_width=input_shape[1], border_mode=0),\n",
    "#                    HorizontalFlip(p=0.5),\n",
    "#                    RandomRotate90(p=0.5)])\n",
    "#     augmented = aug(image=patch)\n",
    "#     x = augmented[\"image\"]\n",
    "#     return x "
   ]
  },
  {
   "cell_type": "code",
   "execution_count": null,
   "metadata": {},
   "outputs": [],
   "source": [
    "class DataGenerator(keras.utils.Sequence):\n",
    "    'Generates data for Keras'\n",
    "    def __init__(self, classdict, batch_size):\n",
    "        'init stuff'\n",
    "        self.classdict = classdict\n",
    "        self.batch_size = batch_size\n",
    "        self.on_epoch_end()\n",
    "        \n",
    "    def __len__(self):\n",
    "        'Denotes the number of batches per epoch'\n",
    "        return int(len(self.classdict['ADULT_FEMALE'])*3 / self.batch_size)\n",
    "    \n",
    "    def __getitem__(self, index):\n",
    "        'Generate one batch of data'\n",
    "        xbatch = []\n",
    "        ybatch = []\n",
    "        c = 0\n",
    "        start = index*self.batch_size\n",
    "        end = (index+1)*self.batch_size\n",
    "        # print('#'*30)\n",
    "        # print('index: {}'.format(index))\n",
    "        for i in range(start, end, 1):\n",
    "            # print('{}/{}'.format(i, end))\n",
    "            image_index = int(i/3)\n",
    "            if c == 0:\n",
    "                img_path = self.classdict['ADULT_FEMALE'][image_index]\n",
    "                x = load_lice(img_path)\n",
    "                y = [1, 0, 0]\n",
    "                c += 1\n",
    "                \n",
    "            elif c == 1:\n",
    "                img_path = self.classdict['FIXED_MOVING'][image_index]\n",
    "                x = load_lice(img_path)\n",
    "                y = [0, 1, 0]\n",
    "                c += 1\n",
    "                \n",
    "            elif c == 2:\n",
    "                # to be fair, it would be better to take any random image \n",
    "                # but overcomplicates the code for no reasons\n",
    "                img_path = self.classdict['declassified'][image_index]\n",
    "                x = load_lice(img_path)\n",
    "                y = [0, 0, 1]\n",
    "                c = 0\n",
    "            \n",
    "            xbatch.append(x)\n",
    "            ybatch.append(y)\n",
    "        return np.array(xbatch), np.array(ybatch)\n",
    "    \n",
    "    def on_epoch_end(self):\n",
    "        for v in self.classdict.values():\n",
    "            random.shuffle(v)\n",
    "        return"
   ]
  },
  {
   "cell_type": "code",
   "execution_count": null,
   "metadata": {},
   "outputs": [],
   "source": [
    "train_data = images[:cutoff]\n",
    "train_dict = get_data_dict(train_data)\n",
    "train_generator = DataGenerator(train_dict, batch_size)\n",
    "steps_per_epoch = train_generator.__len__()\n",
    "# config[\"train_dataset_size\"] = len(train_data)\n",
    "print([(k, len(v)) for (k,v) in train_dict.items()])\n",
    "print(\"Train dataset size: {}. Steps per epoch: {}\".format(len(train_data), steps_per_epoch))\n",
    "\n",
    "# validation data\n",
    "validation_data = images[cutoff:]\n",
    "validation_dict = get_data_dict(validation_data)\n",
    "validation_generator = DataGenerator(validation_dict, batch_size)\n",
    "val_steps_per_epoch = validation_generator.__len__()\n",
    "# config[\"val_dataset_size\"] = len(validation_data)\n",
    "print([(k, len(v)) for (k,v) in validation_dict.items()])\n",
    "print(\"Val dataset size: {}. Steps per epoch: {}\".format(len(validation_data), val_steps_per_epoch))"
   ]
  },
  {
   "cell_type": "code",
   "execution_count": null,
   "metadata": {},
   "outputs": [],
   "source": [
    "for i in range(train_generator.__len__()):\n",
    "    x, y = train_generator[i]\n",
    "#     print([(np.argmax(y[j]), a.shape) for (j,a) in enumerate(x)])"
   ]
  },
  {
   "cell_type": "markdown",
   "metadata": {},
   "source": [
    "# PLOT"
   ]
  },
  {
   "cell_type": "code",
   "execution_count": null,
   "metadata": {},
   "outputs": [],
   "source": [
    "import matplotlib.pyplot as plt"
   ]
  },
  {
   "cell_type": "code",
   "execution_count": null,
   "metadata": {},
   "outputs": [],
   "source": [
    "X, Y = validation_generator[0]"
   ]
  },
  {
   "cell_type": "code",
   "execution_count": null,
   "metadata": {},
   "outputs": [],
   "source": [
    "# for i in range(batch_size):\n",
    "#     plt.imshow(X[i, ...])\n",
    "#     plt.show()\n",
    "#     print(Y[i, ...])"
   ]
  },
  {
   "cell_type": "markdown",
   "metadata": {},
   "source": [
    "# TRAIN"
   ]
  },
  {
   "cell_type": "code",
   "execution_count": null,
   "metadata": {},
   "outputs": [],
   "source": [
    "from keras.applications.resnet50 import ResNet50\n",
    "# from keras.applications.mobilenet import _depthwise_conv_block\n",
    "from utils import depthwise_conv_block, conv_block\n",
    "from keras import layers\n",
    "from keras.models import Model\n",
    "from keras.callbacks import  ModelCheckpoint\n",
    "from keras import Sequential\n",
    "from keras.optimizers import Adam"
   ]
  },
  {
   "cell_type": "code",
   "execution_count": null,
   "metadata": {},
   "outputs": [],
   "source": [
    "# resnet50 = ResNet50(include_top=False, weights='imagenet', input_shape=input_shape)\n",
    "# x = layers.GlobalAveragePooling2D(name='avg_pool')(resnet50.output)\n",
    "# x = layers.Dense(2, activation='softmax', name='fc1000')(x)\n",
    "# model = Model(inputs=[resnet50.input], outputs=[x])"
   ]
  },
  {
   "cell_type": "code",
   "execution_count": null,
   "metadata": {},
   "outputs": [],
   "source": [
    "# img_input = layers.Input(shape=input_shape)\n",
    "# # Block 1\n",
    "# x = layers.Conv2D(64, (3, 3),\n",
    "#       activation='relu',\n",
    "#       padding='same',\n",
    "#       name='block1_conv1')(img_input)\n",
    "# x = layers.Conv2D(64, (3, 3),\n",
    "#       activation='relu',\n",
    "#       padding='same',\n",
    "#       name='block1_conv2')(x)\n",
    "# x = layers.MaxPooling2D((2, 2), strides=(2, 2), name='block1_pool')(x)\n",
    "\n",
    "# # Block 2\n",
    "# x = layers.Conv2D(128, (3, 3),\n",
    "#       activation='relu',\n",
    "#       padding='same',\n",
    "#       name='block2_conv1')(x)\n",
    "# x = layers.Conv2D(128, (3, 3),\n",
    "#       activation='relu',\n",
    "#       padding='same',\n",
    "#       name='block2_conv2')(x)\n",
    "# x = layers.MaxPooling2D((2, 2), strides=(2, 2), name='block2_pool')(x)\n",
    "\n",
    "# x = layers.Flatten(name='flatten')(x)\n",
    "# x = layers.Dense(4096, activation='relu', name='fc1')(x)\n",
    "# x = layers.Dense(3, activation='softmax', name='predictions')(x)"
   ]
  },
  {
   "cell_type": "code",
   "execution_count": null,
   "metadata": {},
   "outputs": [],
   "source": [
    "classes = 3\n",
    "alpha = 0.5\n",
    "dropout = 1e-3\n",
    "depth_multiplier = 1\n",
    "shape = (1, 1, int(512 * alpha))"
   ]
  },
  {
   "cell_type": "code",
   "execution_count": null,
   "metadata": {},
   "outputs": [],
   "source": [
    "img_input = layers.Input(shape=input_shape)\n",
    "x = conv_block(img_input, 32, alpha, strides=(2, 2))\n",
    "x = depthwise_conv_block(x, 64, alpha, depth_multiplier, block_id=1)\n",
    "\n",
    "x = depthwise_conv_block(x, 128, alpha, depth_multiplier,\n",
    "                          strides=(2, 2), block_id=2)\n",
    "x = depthwise_conv_block(x, 128, alpha, depth_multiplier, block_id=3)\n",
    "\n",
    "x = depthwise_conv_block(x, 256, alpha, depth_multiplier,\n",
    "                          strides=(2, 2), block_id=4)\n",
    "x = depthwise_conv_block(x, 256, alpha, depth_multiplier, block_id=5)\n",
    "\n",
    "x = depthwise_conv_block(x, 512, alpha, depth_multiplier,\n",
    "                          strides=(2, 2), block_id=6)\n",
    "x = depthwise_conv_block(x, 512, alpha, depth_multiplier, block_id=7)\n",
    "x = depthwise_conv_block(x, 512, alpha, depth_multiplier, block_id=8)\n",
    "x = depthwise_conv_block(x, 512, alpha, depth_multiplier, block_id=9)\n",
    "x = depthwise_conv_block(x, 512, alpha, depth_multiplier, block_id=10)\n",
    "x = depthwise_conv_block(x, 512, alpha, depth_multiplier, block_id=11)\n",
    "\n",
    "x = layers.GlobalAveragePooling2D()(x)\n",
    "x = layers.Reshape(shape, name='reshape_1')(x)\n",
    "x = layers.Dropout(dropout, name='dropout')(x)\n",
    "x = layers.Conv2D(classes, (1, 1),\n",
    "                  padding='same',\n",
    "                  name='conv_preds')(x)\n",
    "x = layers.Activation('softmax', name='act_softmax')(x)\n",
    "x = layers.Reshape((classes,), name='reshape_2')(x)\n",
    "model = Model(inputs=[img_input], outputs=[x])"
   ]
  },
  {
   "cell_type": "code",
   "execution_count": null,
   "metadata": {},
   "outputs": [],
   "source": [
    "adam = Adam(lr=1e-3)\n",
    "model.compile(adam, loss=\"categorical_crossentropy\", metrics=[\"categorical_accuracy\"])"
   ]
  },
  {
   "cell_type": "code",
   "execution_count": null,
   "metadata": {},
   "outputs": [],
   "source": [
    "from keras.callbacks import ModelCheckpoint, LearningRateScheduler\n",
    "import math"
   ]
  },
  {
   "cell_type": "code",
   "execution_count": null,
   "metadata": {},
   "outputs": [],
   "source": [
    "def step_decay(epoch):\n",
    "    initial_lrate = 1e-3\n",
    "    drop = 0.5\n",
    "    epochs_drop = 10.0\n",
    "    lrate = initial_lrate * math.pow(drop, math.floor((1+epoch)/epochs_drop))\n",
    "    return lrate\n",
    "lrate = LearningRateScheduler(step_decay)"
   ]
  },
  {
   "cell_type": "code",
   "execution_count": null,
   "metadata": {},
   "outputs": [],
   "source": [
    "chkpt = ModelCheckpoint('/root/data/models/lice-classification/QAPQ/v1/model.{epoch:02d}.hdf5', \n",
    "                monitor='val_loss', \n",
    "                verbose=0, \n",
    "                save_best_only=False, \n",
    "                save_weights_only=False, \n",
    "                mode='auto', \n",
    "                period=1)\n"
   ]
  },
  {
   "cell_type": "code",
   "execution_count": null,
   "metadata": {},
   "outputs": [],
   "source": [
    "history = model.fit_generator(generator=train_generator,\n",
    "                              # steps_per_epoch=steps_per_epoch // 10,\n",
    "                              epochs=70,\n",
    "                              verbose=1,\n",
    "                              validation_data=validation_generator,\n",
    "                              callbacks=[lrate, chkpt]\n",
    "                              # validation_steps=val_steps_per_epoch // 10\n",
    "                             )"
   ]
  },
  {
   "cell_type": "code",
   "execution_count": null,
   "metadata": {},
   "outputs": [],
   "source": [
    "h = history.history"
   ]
  },
  {
   "cell_type": "code",
   "execution_count": null,
   "metadata": {},
   "outputs": [],
   "source": [
    "for (k,v) in h.items():\n",
    "    h[k] = [float(vi) for vi in v]"
   ]
  },
  {
   "cell_type": "code",
   "execution_count": null,
   "metadata": {},
   "outputs": [],
   "source": [
    "with open('/root/data/models/lice-classification/QAPQ/v1/history.json', 'w') as f:\n",
    "    json.dump(h, f)"
   ]
  },
  {
   "cell_type": "code",
   "execution_count": null,
   "metadata": {},
   "outputs": [],
   "source": [
    "plt.plot(h[\"loss\"])\n",
    "plt.plot(h[\"val_loss\"])\n",
    "plt.legend([\"loss\", \"val_loss\"])\n",
    "# plt.ylim([0, 2])\n",
    "plt.show()"
   ]
  },
  {
   "cell_type": "code",
   "execution_count": null,
   "metadata": {},
   "outputs": [],
   "source": [
    "plt.plot(h[\"categorical_accuracy\"])\n",
    "plt.plot(h[\"val_categorical_accuracy\"])\n",
    "plt.legend([\"acc\", \"val_acc\"])\n",
    "plt.show()"
   ]
  },
  {
   "cell_type": "code",
   "execution_count": null,
   "metadata": {},
   "outputs": [],
   "source": [
    "np.argmin(h[\"val_loss\"])"
   ]
  },
  {
   "cell_type": "code",
   "execution_count": null,
   "metadata": {},
   "outputs": [],
   "source": [
    "np.argmax(h[\"val_categorical_accuracy\"])"
   ]
  },
  {
   "cell_type": "markdown",
   "metadata": {},
   "source": [
    "# confusion matrix"
   ]
  },
  {
   "cell_type": "code",
   "execution_count": null,
   "metadata": {},
   "outputs": [],
   "source": [
    "# model = keras.models.load_model('/root/data/models/lice-classification/QAPQ/model.46.hdf5')"
   ]
  },
  {
   "cell_type": "code",
   "execution_count": null,
   "metadata": {},
   "outputs": [],
   "source": [
    "from sklearn.metrics import confusion_matrix"
   ]
  },
  {
   "cell_type": "code",
   "execution_count": null,
   "metadata": {},
   "outputs": [],
   "source": [
    "y_true_all = []\n",
    "y_pred_all = []\n",
    "for i in tqdm(range(val_steps_per_epoch)):\n",
    "    X, Y_true = validation_generator[i]\n",
    "    Y_pred = model.predict_on_batch(X)\n",
    "    for j in range(batch_size):\n",
    "        y_true_all.append(np.argmax(Y_true[j, :]))\n",
    "        y_pred_all.append(np.argmax(Y_pred[j, :]))"
   ]
  },
  {
   "cell_type": "code",
   "execution_count": null,
   "metadata": {},
   "outputs": [],
   "source": [
    "# CLASS_MAP = {\"ADULT_FEMALE\": 2,\n",
    "#              \"FIXED_MOVING\": 1,\n",
    "#              \"UNSURE\": 0}"
   ]
  },
  {
   "cell_type": "code",
   "execution_count": null,
   "metadata": {},
   "outputs": [],
   "source": [
    "confusion_matrix(y_true_all, y_pred_all)"
   ]
  },
  {
   "cell_type": "markdown",
   "metadata": {},
   "source": [
    "# config"
   ]
  },
  {
   "cell_type": "code",
   "execution_count": null,
   "metadata": {},
   "outputs": [],
   "source": [
    "config = {'input_size': (64, 64, 3),\n",
    "          'output_size': [3],\n",
    "          'description': 'lice classification',\n",
    "          'labels': ['ADULT_FEMALE', 'FIXED_MOVING', 'NOT_LICE']}"
   ]
  },
  {
   "cell_type": "code",
   "execution_count": null,
   "metadata": {},
   "outputs": [],
   "source": [
    "with open('/root/data/models/lice-classification/QAPQ/v1/config.json', 'w') as f:\n",
    "    json.dump(config, f)"
   ]
  },
  {
   "cell_type": "code",
   "execution_count": null,
   "metadata": {},
   "outputs": [],
   "source": []
  }
 ],
 "metadata": {
  "kernelspec": {
   "display_name": "Python 3",
   "language": "python",
   "name": "python3"
  },
  "language_info": {
   "codemirror_mode": {
    "name": "ipython",
    "version": 3
   },
   "file_extension": ".py",
   "mimetype": "text/x-python",
   "name": "python",
   "nbconvert_exporter": "python",
   "pygments_lexer": "ipython3",
   "version": "3.5.2"
  }
 },
 "nbformat": 4,
 "nbformat_minor": 2
}
