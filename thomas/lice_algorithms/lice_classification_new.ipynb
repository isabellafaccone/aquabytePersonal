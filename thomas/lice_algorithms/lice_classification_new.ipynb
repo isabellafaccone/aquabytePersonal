{
 "cells": [
  {
   "cell_type": "markdown",
   "metadata": {},
   "source": [
    "# images"
   ]
  },
  {
   "cell_type": "code",
   "execution_count": null,
   "metadata": {},
   "outputs": [],
   "source": [
    "import glob"
   ]
  },
  {
   "cell_type": "code",
   "execution_count": null,
   "metadata": {},
   "outputs": [],
   "source": [
    "images = glob.glob(\"/root/data/lice-data/lice_only/*/*/*/*/*.jpg\")"
   ]
  },
  {
   "cell_type": "code",
   "execution_count": null,
   "metadata": {},
   "outputs": [],
   "source": [
    "print(\"total number of images: {}\".format(len(images)))"
   ]
  },
  {
   "cell_type": "markdown",
   "metadata": {},
   "source": [
    "# generator"
   ]
  },
  {
   "cell_type": "code",
   "execution_count": null,
   "metadata": {},
   "outputs": [],
   "source": [
    "import keras"
   ]
  },
  {
   "cell_type": "code",
   "execution_count": null,
   "metadata": {},
   "outputs": [],
   "source": [
    "import glob\n",
    "import json\n",
    "import os\n",
    "\n",
    "import cv2\n",
    "import numpy as np\n",
    "import skimage.io as io\n",
    "from albumentations import PadIfNeeded, HorizontalFlip, VerticalFlip, Compose, RandomRotate90\n",
    "from keras.callbacks import Callback\n",
    "\n",
    "\n",
    "CLASS_MAP = {\"ADULT_FEMALE\": 0,\n",
    "             \"FIXED_MOVING\": 1,\n",
    "             \"UNSURE\": 2}"
   ]
  },
  {
   "cell_type": "code",
   "execution_count": null,
   "metadata": {},
   "outputs": [],
   "source": [
    "def get_data_dict(data):\n",
    "    \"\"\"quick hack for uniform sampling during training\"\"\"\n",
    "    classdict = {}\n",
    "    for d in data:\n",
    "        liceclass = d.split('/')[-2]\n",
    "        if liceclass == \"UNSURE\":\n",
    "            continue\n",
    "        if liceclass == \"MOVING\" or liceclass == \"FIXED\":\n",
    "            liceclass = \"FIXED_MOVING\"\n",
    "        if liceclass not in classdict:\n",
    "            classdict[liceclass] = []\n",
    "        classdict[liceclass].append(d)\n",
    "    return classdict"
   ]
  },
  {
   "cell_type": "markdown",
   "metadata": {},
   "source": [
    "# load model"
   ]
  },
  {
   "cell_type": "code",
   "execution_count": null,
   "metadata": {},
   "outputs": [],
   "source": [
    "import os"
   ]
  },
  {
   "cell_type": "code",
   "execution_count": null,
   "metadata": {},
   "outputs": [],
   "source": [
    "!nvidia-smi"
   ]
  },
  {
   "cell_type": "code",
   "execution_count": null,
   "metadata": {},
   "outputs": [],
   "source": [
    "os.environ[\"CUDA_VISIBLE_DEVICES\"] = \"0\""
   ]
  },
  {
   "cell_type": "code",
   "execution_count": null,
   "metadata": {},
   "outputs": [],
   "source": [
    "import random\n",
    "from collections import Counter"
   ]
  },
  {
   "cell_type": "code",
   "execution_count": null,
   "metadata": {},
   "outputs": [],
   "source": [
    "batch_size = 32\n",
    "input_shape = [64, 64, 3]\n",
    "random.shuffle(images)\n",
    "cutoff = int(0.8*len(images))"
   ]
  },
  {
   "cell_type": "code",
   "execution_count": null,
   "metadata": {},
   "outputs": [],
   "source": [
    "#     aug = Compose([PadIfNeeded(p=1.0, min_height=input_shape[0], min_width=input_shape[1], border_mode=0),\n",
    "#                    HorizontalFlip(p=0.0),\n",
    "#                    RandomRotate90(p=0.0)])"
   ]
  },
  {
   "cell_type": "code",
   "execution_count": null,
   "metadata": {},
   "outputs": [],
   "source": [
    "# img_path = train_dict[\"ADULT_FEMALE\"][10]\n",
    "# image = io.imread(img_path)\n",
    "# image = RandomRotate90(p=1.0)(image=image)[\"image\"]\n",
    "# print(image.shape)\n",
    "# plt.imshow(image)\n",
    "# plt.show()\n",
    "# height, width, _ = image.shape\n",
    "# print(height, width)\n",
    "# if height > width:\n",
    "#     print(\"height\")\n",
    "#     ratio = input_shape[0] / float(height)\n",
    "#     print(ratio)\n",
    "#     x = cv2.resize(image, (int(width*ratio), input_shape[1]), interpolation=cv2.INTER_LINEAR)\n",
    "#     print(x.shape)\n",
    "# else:\n",
    "#     print(\"width\")\n",
    "#     ratio = input_shape[1] / float(width)\n",
    "#     print(ratio)\n",
    "#     x = cv2.resize(image, (input_shape[0], int(height*ratio)), interpolation=cv2.INTER_LINEAR)\n",
    "#     print(x.shape)\n",
    "# plt.imshow(x)\n",
    "# plt.show()   \n",
    "\n",
    "# augmented = aug(image=x)\n",
    "# x = augmented[\"image\"]\n",
    "\n",
    "# plt.imshow(x)\n",
    "# plt.show()"
   ]
  },
  {
   "cell_type": "code",
   "execution_count": null,
   "metadata": {},
   "outputs": [],
   "source": []
  },
  {
   "cell_type": "code",
   "execution_count": null,
   "metadata": {},
   "outputs": [],
   "source": [
    "def generator(classdict, batch_size, input_shape):\n",
    "    \"\"\"data generator\"\"\"\n",
    "#     aug = Compose([PadIfNeeded(p=1, min_height=input_shape[0], min_width=input_shape[1], border_mode=0)])\n",
    "    aug = Compose([PadIfNeeded(p=1.0, min_height=input_shape[0], min_width=input_shape[1], border_mode=0),\n",
    "                   HorizontalFlip(p=0.5),\n",
    "                   RandomRotate90(p=0.0)])\n",
    "#     aug = Compose([HorizontalFlip(p=0.5)])\n",
    "    classes = len(list(classdict.keys()))\n",
    "    while True:\n",
    "        x_batch = np.zeros((batch_size, input_shape[0], input_shape[1], input_shape[2]), dtype=np.uint8)\n",
    "        y_batch = np.empty((batch_size, classes))\n",
    "        for i in range(batch_size):\n",
    "            liceclass = np.random.choice(list(classdict.keys()))\n",
    "            img_path = np.random.choice(classdict[liceclass])\n",
    "            image = io.imread(img_path)\n",
    "            height, width, _ = image.shape\n",
    "            if height > width:\n",
    "                ratio = input_shape[0] / float(height)\n",
    "                x = cv2.resize(image, (int(width*ratio), input_shape[1]), interpolation=cv2.INTER_LINEAR)\n",
    "            else:\n",
    "                ratio = input_shape[1] / float(width)\n",
    "                x = cv2.resize(image, (input_shape[0], int(height*ratio)), interpolation=cv2.INTER_LINEAR)\n",
    "            augmented = aug(image=x)\n",
    "            x = augmented[\"image\"]\n",
    "            # x = cv2.resize(augmented[\"image\"], (input_shape[0], input_shape[1]), interpolation=cv2.INTER_LINEAR)\n",
    "            y = np.zeros(classes)\n",
    "            y[CLASS_MAP[liceclass]] = 1\n",
    "            x_batch[i, ...] = x\n",
    "            y_batch[i, ...] = y\n",
    "        yield x_batch, y_batch"
   ]
  },
  {
   "cell_type": "code",
   "execution_count": null,
   "metadata": {},
   "outputs": [],
   "source": [
    "train_data = images[:cutoff]\n",
    "steps_per_epoch = len(train_data) // batch_size\n",
    "train_dict = get_data_dict(train_data)\n",
    "train_generator = generator(train_dict, batch_size, input_shape)\n",
    "# config[\"train_dataset_size\"] = len(train_data)\n",
    "print(\"Train dataset size: {}. Steps per epoch: {}\".format(len(train_data), steps_per_epoch))\n",
    "\n",
    "# validation data\n",
    "validation_data = images[cutoff:]\n",
    "val_steps_per_epoch = len(validation_data) // batch_size\n",
    "validation_dict = get_data_dict(validation_data)\n",
    "validation_generator = generator(validation_dict, batch_size, input_shape)\n",
    "# config[\"val_dataset_size\"] = len(validation_data)\n",
    "print(\"Val dataset size: {}. Steps per epoch: {}\".format(len(validation_data), val_steps_per_epoch))"
   ]
  },
  {
   "cell_type": "code",
   "execution_count": null,
   "metadata": {},
   "outputs": [],
   "source": [
    "Counter([p.split('/')[-2] for p in images]).most_common()"
   ]
  },
  {
   "cell_type": "code",
   "execution_count": null,
   "metadata": {},
   "outputs": [],
   "source": [
    "Counter([p.split('/')[-2] for p in train_data])"
   ]
  },
  {
   "cell_type": "code",
   "execution_count": null,
   "metadata": {},
   "outputs": [],
   "source": [
    "Counter([p.split('/')[-2] for p in validation_data])"
   ]
  },
  {
   "cell_type": "markdown",
   "metadata": {},
   "source": [
    "# PLOT"
   ]
  },
  {
   "cell_type": "code",
   "execution_count": null,
   "metadata": {},
   "outputs": [],
   "source": [
    "import matplotlib.pyplot as plt"
   ]
  },
  {
   "cell_type": "code",
   "execution_count": null,
   "metadata": {},
   "outputs": [],
   "source": [
    "X, Y = next(validation_generator)"
   ]
  },
  {
   "cell_type": "code",
   "execution_count": null,
   "metadata": {},
   "outputs": [],
   "source": [
    "# for p in train_dict[\"ADULT_FEMALE\"]:\n",
    "#     plt.imshow(io.imread(p))\n",
    "#     plt.show()"
   ]
  },
  {
   "cell_type": "code",
   "execution_count": null,
   "metadata": {},
   "outputs": [],
   "source": [
    "# for i in range(batch_size):\n",
    "#     plt.imshow(X[i, ...].squeeze())\n",
    "#     plt.show()"
   ]
  },
  {
   "cell_type": "code",
   "execution_count": null,
   "metadata": {},
   "outputs": [],
   "source": []
  },
  {
   "cell_type": "markdown",
   "metadata": {},
   "source": [
    "# TRAIN"
   ]
  },
  {
   "cell_type": "code",
   "execution_count": null,
   "metadata": {},
   "outputs": [],
   "source": [
    "from keras.applications.resnet50 import ResNet50\n",
    "# from keras.applications.mobilenet import _depthwise_conv_block\n",
    "from utils import depthwise_conv_block, conv_block\n",
    "from keras import layers\n",
    "from keras.models import Model\n",
    "from keras.callbacks import  ModelCheckpoint\n",
    "from keras import Sequential\n",
    "from keras.optimizers import Adam"
   ]
  },
  {
   "cell_type": "code",
   "execution_count": null,
   "metadata": {},
   "outputs": [],
   "source": [
    "resnet50 = ResNet50(include_top=False, weights='imagenet', input_shape=input_shape)\n",
    "x = layers.GlobalAveragePooling2D(name='avg_pool')(resnet50.output)\n",
    "x = layers.Dense(2, activation='softmax', name='fc1000')(x)\n",
    "model = Model(inputs=[resnet50.input], outputs=[x])"
   ]
  },
  {
   "cell_type": "code",
   "execution_count": null,
   "metadata": {},
   "outputs": [],
   "source": [
    "# img_input = layers.Input(shape=input_shape)\n",
    "# # Block 1\n",
    "# x = layers.Conv2D(64, (3, 3),\n",
    "#       activation='relu',\n",
    "#       padding='same',\n",
    "#       name='block1_conv1')(img_input)\n",
    "# x = layers.Conv2D(64, (3, 3),\n",
    "#       activation='relu',\n",
    "#       padding='same',\n",
    "#       name='block1_conv2')(x)\n",
    "# x = layers.MaxPooling2D((2, 2), strides=(2, 2), name='block1_pool')(x)\n",
    "\n",
    "# # Block 2\n",
    "# x = layers.Conv2D(128, (3, 3),\n",
    "#       activation='relu',\n",
    "#       padding='same',\n",
    "#       name='block2_conv1')(x)\n",
    "# x = layers.Conv2D(128, (3, 3),\n",
    "#       activation='relu',\n",
    "#       padding='same',\n",
    "#       name='block2_conv2')(x)\n",
    "# x = layers.MaxPooling2D((2, 2), strides=(2, 2), name='block2_pool')(x)\n",
    "\n",
    "# x = layers.Flatten(name='flatten')(x)\n",
    "# x = layers.Dense(4096, activation='relu', name='fc1')(x)\n",
    "# x = layers.Dense(3, activation='softmax', name='predictions')(x)"
   ]
  },
  {
   "cell_type": "code",
   "execution_count": null,
   "metadata": {},
   "outputs": [],
   "source": [
    "classes = 2\n",
    "alpha = 0.5\n",
    "dropout = 1e-3\n",
    "depth_multiplier = 1\n",
    "shape = (1, 1, int(512 * alpha))"
   ]
  },
  {
   "cell_type": "code",
   "execution_count": null,
   "metadata": {},
   "outputs": [],
   "source": [
    "img_input = layers.Input(shape=input_shape)\n",
    "x = conv_block(img_input, 32, alpha, strides=(2, 2))\n",
    "x = depthwise_conv_block(x, 64, alpha, depth_multiplier, block_id=1)\n",
    "\n",
    "x = depthwise_conv_block(x, 128, alpha, depth_multiplier,\n",
    "                          strides=(2, 2), block_id=2)\n",
    "x = depthwise_conv_block(x, 128, alpha, depth_multiplier, block_id=3)\n",
    "\n",
    "x = depthwise_conv_block(x, 256, alpha, depth_multiplier,\n",
    "                          strides=(2, 2), block_id=4)\n",
    "x = depthwise_conv_block(x, 256, alpha, depth_multiplier, block_id=5)\n",
    "\n",
    "x = depthwise_conv_block(x, 512, alpha, depth_multiplier,\n",
    "                          strides=(2, 2), block_id=6)\n",
    "x = depthwise_conv_block(x, 512, alpha, depth_multiplier, block_id=7)\n",
    "x = depthwise_conv_block(x, 512, alpha, depth_multiplier, block_id=8)\n",
    "x = depthwise_conv_block(x, 512, alpha, depth_multiplier, block_id=9)\n",
    "x = depthwise_conv_block(x, 512, alpha, depth_multiplier, block_id=10)\n",
    "x = depthwise_conv_block(x, 512, alpha, depth_multiplier, block_id=11)\n",
    "\n",
    "x = layers.GlobalAveragePooling2D()(x)\n",
    "x = layers.Reshape(shape, name='reshape_1')(x)\n",
    "x = layers.Dropout(dropout, name='dropout')(x)\n",
    "x = layers.Conv2D(classes, (1, 1),\n",
    "                  padding='same',\n",
    "                  name='conv_preds')(x)\n",
    "x = layers.Activation('softmax', name='act_softmax')(x)\n",
    "x = layers.Reshape((classes,), name='reshape_2')(x)\n",
    "model = Model(inputs=[img_input], outputs=[x])"
   ]
  },
  {
   "cell_type": "code",
   "execution_count": null,
   "metadata": {},
   "outputs": [],
   "source": [
    "adam = Adam(lr=1e-3)\n",
    "model.compile(adam, loss=\"categorical_crossentropy\", metrics=[\"categorical_accuracy\"])"
   ]
  },
  {
   "cell_type": "code",
   "execution_count": null,
   "metadata": {},
   "outputs": [],
   "source": [
    "history = model.fit_generator(generator=train_generator,\n",
    "                              steps_per_epoch=steps_per_epoch // 10,\n",
    "                              epochs=19,\n",
    "                              verbose=1,\n",
    "                              validation_data=validation_generator,\n",
    "                              validation_steps=val_steps_per_epoch // 10)"
   ]
  },
  {
   "cell_type": "code",
   "execution_count": null,
   "metadata": {},
   "outputs": [],
   "source": [
    "h = history.history"
   ]
  },
  {
   "cell_type": "code",
   "execution_count": null,
   "metadata": {},
   "outputs": [],
   "source": [
    "plt.plot(h[\"loss\"])\n",
    "plt.plot(h[\"val_loss\"])\n",
    "plt.legend([\"loss\", \"val_loss\"])\n",
    "plt.ylim([0, 2])\n",
    "plt.show()"
   ]
  },
  {
   "cell_type": "code",
   "execution_count": null,
   "metadata": {},
   "outputs": [],
   "source": [
    "plt.plot(h[\"categorical_accuracy\"])\n",
    "plt.plot(h[\"val_categorical_accuracy\"])\n",
    "plt.legend([\"acc\", \"val_acc\"])\n",
    "plt.show()"
   ]
  },
  {
   "cell_type": "markdown",
   "metadata": {},
   "source": [
    "# confusion matrix"
   ]
  },
  {
   "cell_type": "code",
   "execution_count": null,
   "metadata": {},
   "outputs": [],
   "source": [
    "from sklearn.metrics import confusion_matrix"
   ]
  },
  {
   "cell_type": "code",
   "execution_count": null,
   "metadata": {},
   "outputs": [],
   "source": [
    "y_true_all = []\n",
    "y_pred_all = []\n",
    "for i in range(10):\n",
    "    X, Y_true = next(validation_generator)\n",
    "    Y_pred = model.predict_on_batch(X)\n",
    "    for j in range(batch_size):\n",
    "        y_true_all.append(np.argmax(Y_true[j, :]))\n",
    "        y_pred_all.append(np.argmax(Y_pred[j, :]))"
   ]
  },
  {
   "cell_type": "code",
   "execution_count": null,
   "metadata": {},
   "outputs": [],
   "source": [
    "CLASS_MAP = {\"ADULT_FEMALE\": 2,\n",
    "             \"FIXED_MOVING\": 1,\n",
    "             \"UNSURE\": 0}"
   ]
  },
  {
   "cell_type": "code",
   "execution_count": null,
   "metadata": {},
   "outputs": [],
   "source": [
    "confusion_matrix(y_true_all, y_pred_all)"
   ]
  },
  {
   "cell_type": "code",
   "execution_count": null,
   "metadata": {},
   "outputs": [],
   "source": [
    "(152+130) / (152+130+11+27)"
   ]
  },
  {
   "cell_type": "code",
   "execution_count": null,
   "metadata": {},
   "outputs": [],
   "source": []
  },
  {
   "cell_type": "code",
   "execution_count": null,
   "metadata": {},
   "outputs": [],
   "source": []
  }
 ],
 "metadata": {
  "kernelspec": {
   "display_name": "Python 3",
   "language": "python",
   "name": "python3"
  },
  "language_info": {
   "codemirror_mode": {
    "name": "ipython",
    "version": 3
   },
   "file_extension": ".py",
   "mimetype": "text/x-python",
   "name": "python",
   "nbconvert_exporter": "python",
   "pygments_lexer": "ipython3",
   "version": "3.5.2"
  }
 },
 "nbformat": 4,
 "nbformat_minor": 2
}
